{
 "cells": [
  {
   "cell_type": "markdown",
   "metadata": {},
   "source": [
    "L'dée de ce notebook est de pouvoir tracer les étapes de réalisation d'un calcul de temps de parcours de référence\n",
    " 1 : Import des données"
   ]
  },
  {
   "cell_type": "code",
   "execution_count": 86,
   "metadata": {},
   "outputs": [
    {
     "name": "stdout",
     "output_type": "stream",
     "text": [
      "The autoreload extension is already loaded. To reload it, use:\n",
      "  %reload_ext autoreload\n"
     ]
    }
   ],
   "source": [
    "%load_ext autoreload\n",
    "%autoreload 2\n",
    "import sys #c'est pas propre mais pour le moment pour importer mes modules perso dans le notebook je ne sais pas faire\n",
    "sys.path.append(r'C:\\Users\\martin.schoreisz\\git\\Outils\\Outils\\Martin_Perso')\n",
    "import traitement_od as t\n",
    "import pandas as pd\n",
    "import altair as alt"
   ]
  },
  {
   "cell_type": "code",
   "execution_count": 258,
   "metadata": {},
   "outputs": [],
   "source": [
    "df_journee=t.ouvrir_fichier_lapi('2019-01-15 00:00:00','2019-01-15 23:59:00')#telecharger une partie des donnees sur unejournee"
   ]
  },
  {
   "cell_type": "code",
   "execution_count": 273,
   "metadata": {},
   "outputs": [],
   "source": [
    "info_df_journee=t.df_source(df_journee)"
   ]
  },
  {
   "cell_type": "code",
   "execution_count": 274,
   "metadata": {},
   "outputs": [
    {
     "data": {
      "application/vnd.vegalite.v2+json": {
       "$schema": "https://vega.github.io/schema/vega-lite/v2.6.0.json",
       "config": {
        "view": {
         "height": 300,
         "width": 400
        }
       },
       "data": {
        "name": "data-2be6ce6219fa60e9efb1149c722c5140"
       },
       "datasets": {
        "data-2be6ce6219fa60e9efb1149c722c5140": [
         {
          "type": "nb_tv_tot",
          "value": 224349
         },
         {
          "type": "nb_tv_plaque_ok",
          "value": 30
         },
         {
          "type": "nb_type_identifie",
          "value": 211397
         },
         {
          "type": "nb_veh_ok",
          "value": 30
         },
         {
          "type": "nb_vl_ok",
          "value": 24
         },
         {
          "type": "nb_pl_ok",
          "value": 6
         }
        ]
       },
       "encoding": {
        "color": {
         "field": "type",
         "type": "nominal"
        },
        "x": {
         "field": "type",
         "sort": {
          "field": "value",
          "op": "mean"
         },
         "type": "nominal"
        },
        "y": {
         "field": "value",
         "type": "quantitative"
        }
       },
       "mark": "bar"
      },
      "image/png": "[encoded data removed]",
      "text/plain": [
       "<VegaLite 2 object>\n",
       "\n",
       "If you see this message, it means the renderer has not been properly enabled\n",
       "for the frontend that you are using. For more information, see\n",
       "https://altair-viz.github.io/user_guide/troubleshooting.html\n"
      ]
     },
     "execution_count": 274,
     "metadata": {},
     "output_type": "execute_result"
    }
   ],
   "source": [
    "info_df_journee.plot_graphs()"
   ]
  },
  {
   "cell_type": "code",
   "execution_count": 282,
   "metadata": {},
   "outputs": [
    {
     "ename": "AttributeError",
     "evalue": "'df_tps_parcours' object has no attribute 'loc'",
     "output_type": "error",
     "traceback": [
      "\u001b[1;31m---------------------------------------------------------------------------\u001b[0m",
      "\u001b[1;31mAttributeError\u001b[0m                            Traceback (most recent call last)",
      "\u001b[1;32m<ipython-input-282-5c5997d7843e>\u001b[0m in \u001b[0;36m<module>\u001b[1;34m\u001b[0m\n\u001b[1;32m----> 1\u001b[1;33m \u001b[0mdf_8h_9h_cam19_cam4\u001b[0m\u001b[1;33m=\u001b[0m\u001b[0mt\u001b[0m\u001b[1;33m.\u001b[0m\u001b[0mdf_tps_parcours\u001b[0m\u001b[1;33m(\u001b[0m\u001b[0mdf_journee\u001b[0m\u001b[1;33m,\u001b[0m\u001b[1;34m'2019-01-15 08:00:00'\u001b[0m\u001b[1;33m,\u001b[0m\u001b[1;36m60\u001b[0m\u001b[1;33m,\u001b[0m\u001b[1;36m2\u001b[0m\u001b[1;33m,\u001b[0m\u001b[1;36m19\u001b[0m\u001b[1;33m,\u001b[0m\u001b[1;36m4\u001b[0m\u001b[1;33m)\u001b[0m \u001b[1;31m#les df des temps de parcours sur une partie de la journe\u001b[0m\u001b[1;33m\u001b[0m\u001b[0m\n\u001b[0m",
      "\u001b[1;32m~\\git\\lapi\\Carto_Lapi\\Analyse\\traitement_od.py\u001b[0m in \u001b[0;36m__init__\u001b[1;34m(self, df, date_debut, duree, temps_max_autorise, camera1, camera2)\u001b[0m\n\u001b[0;32m     92\u001b[0m                 \u001b[0mcamera2\u001b[0m \u001b[1;33m:\u001b[0m \u001b[0minteger\u001b[0m \u001b[1;33m:\u001b[0m \u001b[0mcamera\u001b[0m \u001b[0mde\u001b[0m \u001b[0mfin\u001b[0m\u001b[1;33m\u001b[0m\u001b[0m\n\u001b[0;32m     93\u001b[0m         \"\"\"\n\u001b[1;32m---> 94\u001b[1;33m         \u001b[0mdf_source\u001b[0m\u001b[1;33m.\u001b[0m\u001b[0m__init__\u001b[0m\u001b[1;33m(\u001b[0m\u001b[0mself\u001b[0m\u001b[1;33m,\u001b[0m \u001b[0mdf\u001b[0m\u001b[1;33m)\u001b[0m\u001b[1;33m\u001b[0m\u001b[0m\n\u001b[0m\u001b[0;32m     95\u001b[0m         \u001b[0mself\u001b[0m\u001b[1;33m.\u001b[0m\u001b[0mdf\u001b[0m\u001b[1;33m,\u001b[0m\u001b[0mself\u001b[0m\u001b[1;33m.\u001b[0m\u001b[0mdate_debut\u001b[0m\u001b[1;33m,\u001b[0m \u001b[0mself\u001b[0m\u001b[1;33m.\u001b[0m\u001b[0mduree\u001b[0m\u001b[1;33m,\u001b[0m \u001b[0mself\u001b[0m\u001b[1;33m.\u001b[0m\u001b[0mtemps_max_autorise\u001b[0m\u001b[1;33m,\u001b[0m \u001b[0mself\u001b[0m\u001b[1;33m.\u001b[0m\u001b[0mcamera1\u001b[0m\u001b[1;33m,\u001b[0m \u001b[0mself\u001b[0m\u001b[1;33m.\u001b[0m\u001b[0mcamera2\u001b[0m\u001b[1;33m=\u001b[0m\u001b[0mdf\u001b[0m\u001b[1;33m,\u001b[0m\u001b[0mdate_debut\u001b[0m\u001b[1;33m,\u001b[0m \u001b[0mduree\u001b[0m\u001b[1;33m,\u001b[0m \u001b[0mtemps_max_autorise\u001b[0m\u001b[1;33m,\u001b[0m \u001b[0mcamera1\u001b[0m\u001b[1;33m,\u001b[0m \u001b[0mcamera2\u001b[0m\u001b[1;33m\u001b[0m\u001b[0m\n\u001b[0;32m     96\u001b[0m         \u001b[0mself\u001b[0m\u001b[1;33m.\u001b[0m\u001b[0mdf_tps_parcours_brut\u001b[0m\u001b[1;33m=\u001b[0m\u001b[0mself\u001b[0m\u001b[1;33m.\u001b[0m\u001b[0mdf_temps_parcours_moyen\u001b[0m\u001b[1;33m(\u001b[0m\u001b[1;33m)\u001b[0m\u001b[1;33m\u001b[0m\u001b[0m\n",
      "\u001b[1;32m~\\git\\lapi\\Carto_Lapi\\Analyse\\traitement_od.py\u001b[0m in \u001b[0;36m__init__\u001b[1;34m(self, df)\u001b[0m\n\u001b[0;32m     32\u001b[0m         \"\"\"\n\u001b[0;32m     33\u001b[0m         \u001b[0mself\u001b[0m\u001b[1;33m.\u001b[0m\u001b[0mdf\u001b[0m\u001b[1;33m=\u001b[0m\u001b[0mdf\u001b[0m\u001b[1;33m\u001b[0m\u001b[0m\n\u001b[1;32m---> 34\u001b[1;33m         \u001b[0mself\u001b[0m\u001b[1;33m.\u001b[0m\u001b[0mdf_vlpl\u001b[0m\u001b[1;33m,\u001b[0m \u001b[0mself\u001b[0m\u001b[1;33m.\u001b[0m\u001b[0mdf_tv_plaques_ok\u001b[0m\u001b[1;33m,\u001b[0m \u001b[0mself\u001b[0m\u001b[1;33m.\u001b[0m\u001b[0mdf_veh_ok\u001b[0m\u001b[1;33m,\u001b[0m \u001b[0mself\u001b[0m\u001b[1;33m.\u001b[0m\u001b[0mdf_vl_ok\u001b[0m\u001b[1;33m,\u001b[0m \u001b[0mself\u001b[0m\u001b[1;33m.\u001b[0m\u001b[0mdf_pl_ok\u001b[0m\u001b[1;33m=\u001b[0m\u001b[0mself\u001b[0m\u001b[1;33m.\u001b[0m\u001b[0mdf_filtrees\u001b[0m\u001b[1;33m(\u001b[0m\u001b[0mself\u001b[0m\u001b[1;33m)\u001b[0m\u001b[1;33m\u001b[0m\u001b[0m\n\u001b[0m\u001b[0;32m     35\u001b[0m         \u001b[0mself\u001b[0m\u001b[1;33m.\u001b[0m\u001b[0mnb_tv_tot\u001b[0m\u001b[1;33m,\u001b[0m \u001b[0mself\u001b[0m\u001b[1;33m.\u001b[0m\u001b[0mnb_tv_plaque_ok\u001b[0m\u001b[1;33m,\u001b[0m \u001b[0mself\u001b[0m\u001b[1;33m.\u001b[0m\u001b[0mnb_vlpl\u001b[0m\u001b[1;33m,\u001b[0m \u001b[0mself\u001b[0m\u001b[1;33m.\u001b[0m\u001b[0mnb_veh_ok\u001b[0m\u001b[1;33m,\u001b[0m \u001b[0mself\u001b[0m\u001b[1;33m.\u001b[0m\u001b[0mnb_vl_ok\u001b[0m\u001b[1;33m,\u001b[0m \u001b[0mself\u001b[0m\u001b[1;33m.\u001b[0m\u001b[0mnb_pl_ok\u001b[0m\u001b[1;33m=\u001b[0m\u001b[0mself\u001b[0m\u001b[1;33m.\u001b[0m\u001b[0mstats\u001b[0m\u001b[1;33m(\u001b[0m\u001b[0mself\u001b[0m\u001b[1;33m)\u001b[0m\u001b[1;33m\u001b[0m\u001b[0m\n\u001b[0;32m     36\u001b[0m \u001b[1;33m\u001b[0m\u001b[0m\n",
      "\u001b[1;32m~\\git\\lapi\\Carto_Lapi\\Analyse\\traitement_od.py\u001b[0m in \u001b[0;36mdf_filtrees\u001b[1;34m(self, df)\u001b[0m\n\u001b[0;32m     39\u001b[0m         A RENESEIGNER LES DF QUI SORTENT\"\"\"\n\u001b[0;32m     40\u001b[0m         \u001b[1;31m#Dataframes intermediaires\u001b[0m\u001b[1;33m\u001b[0m\u001b[1;33m\u001b[0m\u001b[0m\n\u001b[1;32m---> 41\u001b[1;33m         \u001b[0mdf_vlpl\u001b[0m\u001b[1;33m=\u001b[0m\u001b[0mdf\u001b[0m\u001b[1;33m.\u001b[0m\u001b[0mloc\u001b[0m\u001b[1;33m[\u001b[0m\u001b[0mdf\u001b[0m\u001b[1;33m.\u001b[0m\u001b[0mloc\u001b[0m\u001b[1;33m[\u001b[0m\u001b[1;33m:\u001b[0m\u001b[1;33m,\u001b[0m\u001b[1;34m'l'\u001b[0m\u001b[1;33m]\u001b[0m\u001b[1;33m!=\u001b[0m\u001b[1;33m-\u001b[0m\u001b[1;36m1\u001b[0m\u001b[1;33m]\u001b[0m\u001b[1;33m\u001b[0m\u001b[0m\n\u001b[0m\u001b[0;32m     42\u001b[0m         \u001b[0mdf_tv_plaques_ok\u001b[0m\u001b[1;33m=\u001b[0m\u001b[0mdf\u001b[0m\u001b[1;33m.\u001b[0m\u001b[0mloc\u001b[0m\u001b[1;33m[\u001b[0m\u001b[0mdf\u001b[0m\u001b[1;33m.\u001b[0m\u001b[0mloc\u001b[0m\u001b[1;33m[\u001b[0m\u001b[1;33m:\u001b[0m\u001b[1;33m,\u001b[0m\u001b[1;34m'fiability'\u001b[0m\u001b[1;33m]\u001b[0m\u001b[1;33m==\u001b[0m\u001b[1;32mTrue\u001b[0m\u001b[1;33m]\u001b[0m\u001b[1;33m\u001b[0m\u001b[0m\n\u001b[0;32m     43\u001b[0m         \u001b[0mdf_veh_ok\u001b[0m\u001b[1;33m=\u001b[0m\u001b[0mdf\u001b[0m\u001b[1;33m.\u001b[0m\u001b[0mloc\u001b[0m\u001b[1;33m[\u001b[0m\u001b[1;33m(\u001b[0m\u001b[0mdf\u001b[0m\u001b[1;33m.\u001b[0m\u001b[0mloc\u001b[0m\u001b[1;33m[\u001b[0m\u001b[1;33m:\u001b[0m\u001b[1;33m,\u001b[0m\u001b[1;34m'l'\u001b[0m\u001b[1;33m]\u001b[0m\u001b[1;33m!=\u001b[0m\u001b[1;33m-\u001b[0m\u001b[1;36m1\u001b[0m\u001b[1;33m)\u001b[0m \u001b[1;33m&\u001b[0m \u001b[1;33m(\u001b[0m\u001b[0mdf\u001b[0m\u001b[1;33m.\u001b[0m\u001b[0mloc\u001b[0m\u001b[1;33m[\u001b[0m\u001b[1;33m:\u001b[0m\u001b[1;33m,\u001b[0m\u001b[1;34m'fiability'\u001b[0m\u001b[1;33m]\u001b[0m\u001b[1;33m==\u001b[0m\u001b[1;32mTrue\u001b[0m\u001b[1;33m)\u001b[0m\u001b[1;33m]\u001b[0m\u001b[1;33m\u001b[0m\u001b[0m\n",
      "\u001b[1;31mAttributeError\u001b[0m: 'df_tps_parcours' object has no attribute 'loc'"
     ]
    }
   ],
   "source": [
    "df_8h_9h_cam19_cam4=t.df_tps_parcours(df_journee,'2019-01-15 08:00:00',60,2,19,4) #les df des temps de parcours sur une partie de la journe"
   ]
  },
  {
   "cell_type": "markdown",
   "metadata": {},
   "source": [
    "exemple de caractérisation de df \n",
    "Pour refair la caractérisation d'une df faire appel à la classe carac_df"
   ]
  },
  {
   "cell_type": "code",
   "execution_count": 240,
   "metadata": {},
   "outputs": [],
   "source": [
    "stat8h_9h_cam4_cam5=t.carac_df(df_8h_9h_cam19_cam4) #création de la classe qui contient les df intermediaires"
   ]
  },
  {
   "cell_type": "code",
   "execution_count": 241,
   "metadata": {},
   "outputs": [],
   "source": [
    "graph_stat_trie, graph_brut=objet.plot_graphs()"
   ]
  },
  {
   "cell_type": "code",
   "execution_count": 242,
   "metadata": {},
   "outputs": [
    {
     "data": {
      "application/vnd.vegalite.v2+json": {
       "$schema": "https://vega.github.io/schema/vega-lite/v2.6.0.json",
       "config": {
        "view": {
         "height": 300,
         "width": 400
        }
       },
       "data": {
        "name": "data-e1a5b40e7aee402bd8c92c8287e6cc15"
       },
       "datasets": {
        "data-e1a5b40e7aee402bd8c92c8287e6cc15": [
         {
          "type": "nb_tv_tot",
          "value": 405
         },
         {
          "type": "nb_tv_plaque_ok",
          "value": 319
         },
         {
          "type": "nb_type_identifie",
          "value": 300
         },
         {
          "type": "nb_veh_ok",
          "value": 232
         },
         {
          "type": "nb_vl_ok",
          "value": 98
         },
         {
          "type": "nb_pl_ok",
          "value": 134
         }
        ]
       },
       "encoding": {
        "color": {
         "field": "type",
         "type": "nominal"
        },
        "x": {
         "field": "type",
         "sort": {
          "field": "value",
          "op": "mean"
         },
         "type": "nominal"
        },
        "y": {
         "field": "value",
         "type": "quantitative"
        }
       },
       "mark": "bar"
      },
      "image/png": "[encoded data removed]",
      "text/plain": [
       "<VegaLite 2 object>\n",
       "\n",
       "If you see this message, it means the renderer has not been properly enabled\n",
       "for the frontend that you are using. For more information, see\n",
       "https://altair-viz.github.io/user_guide/troubleshooting.html\n"
      ]
     },
     "execution_count": 242,
     "metadata": {},
     "output_type": "execute_result"
    }
   ],
   "source": [
    "graph_stat_trie"
   ]
  },
  {
   "cell_type": "code",
   "execution_count": 243,
   "metadata": {},
   "outputs": [
    {
     "data": {
      "application/vnd.vegalite.v2+json": {
       "$schema": "https://vega.github.io/schema/vega-lite/v2.6.0.json",
       "config": {
        "view": {
         "height": 300,
         "width": 400
        }
       },
       "data": {
        "name": "data-a1acc82fe1edb2ae2c90322c8734dd86"
       },
       "datasets": {
        "data-a1acc82fe1edb2ae2c90322c8734dd86": [
         {
          "created_x": "2019-01-15T08:00:58",
          "l": 0,
          "tps_parcours": "2018-01-01T00:19:19"
         },
         {
          "created_x": "2019-01-15T08:01:23",
          "l": 0,
          "tps_parcours": "2018-01-01T00:19:59"
         },
         {
          "created_x": "2019-01-15T08:01:51",
          "l": 0,
          "tps_parcours": "2018-01-01T00:20:31"
         },
         {
          "created_x": "2019-01-15T08:03:01",
          "l": 0,
          "tps_parcours": "2018-01-01T00:19:48"
         },
         {
          "created_x": "2019-01-15T08:03:29",
          "l": 0,
          "tps_parcours": "2018-01-01T00:19:45"
         },
         {
          "created_x": "2019-01-15T08:03:37",
          "l": 0,
          "tps_parcours": "2018-01-01T00:19:41"
         },
         {
          "created_x": "2019-01-15T08:03:10",
          "l": 0,
          "tps_parcours": "2018-01-01T00:20:09"
         },
         {
          "created_x": "2019-01-15T08:04:46",
          "l": 0,
          "tps_parcours": "2018-01-01T00:19:12"
         },
         {
          "created_x": "2019-01-15T08:00:26",
          "l": -1,
          "tps_parcours": "2018-01-01T00:23:44"
         },
         {
          "created_x": "2019-01-15T08:00:18",
          "l": 0,
          "tps_parcours": "2018-01-01T00:24:00"
         },
         {
          "created_x": "2019-01-15T08:00:22",
          "l": 1,
          "tps_parcours": "2018-01-01T00:24:01"
         },
         {
          "created_x": "2019-01-15T08:00:29",
          "l": 1,
          "tps_parcours": "2018-01-01T00:23:59"
         },
         {
          "created_x": "2019-01-15T08:06:27",
          "l": 0,
          "tps_parcours": "2018-01-01T00:18:05"
         },
         {
          "created_x": "2019-01-15T08:05:28",
          "l": 0,
          "tps_parcours": "2018-01-01T00:19:12"
         },
         {
          "created_x": "2019-01-15T08:01:12",
          "l": -1,
          "tps_parcours": "2018-01-01T00:23:28"
         },
         {
          "created_x": "2019-01-15T08:04:18",
          "l": 0,
          "tps_parcours": "2018-01-01T00:20:30"
         },
         {
          "created_x": "2019-01-15T08:00:47",
          "l": 1,
          "tps_parcours": "2018-01-01T00:24:08"
         },
         {
          "created_x": "2019-01-15T08:02:00",
          "l": 1,
          "tps_parcours": "2018-01-01T00:23:16"
         },
         {
          "created_x": "2019-01-15T08:05:54",
          "l": 0,
          "tps_parcours": "2018-01-01T00:19:27"
         },
         {
          "created_x": "2019-01-15T08:05:58",
          "l": 0,
          "tps_parcours": "2018-01-01T00:19:24"
         },
         {
          "created_x": "2019-01-15T08:06:26",
          "l": 0,
          "tps_parcours": "2018-01-01T00:19:02"
         },
         {
          "created_x": "2019-01-15T08:06:40",
          "l": 0,
          "tps_parcours": "2018-01-01T00:18:54"
         },
         {
          "created_x": "2019-01-15T08:05:13",
          "l": 0,
          "tps_parcours": "2018-01-01T00:20:24"
         },
         {
          "created_x": "2019-01-15T08:02:22",
          "l": 1,
          "tps_parcours": "2018-01-01T00:23:30"
         },
         {
          "created_x": "2019-01-15T08:02:47",
          "l": -1,
          "tps_parcours": "2018-01-01T00:23:07"
         },
         {
          "created_x": "2019-01-15T08:03:10",
          "l": 1,
          "tps_parcours": "2018-01-01T00:23:07"
         },
         {
          "created_x": "2019-01-15T08:03:13",
          "l": 1,
          "tps_parcours": "2018-01-01T00:23:23"
         },
         {
          "created_x": "2019-01-15T08:03:03",
          "l": 1,
          "tps_parcours": "2018-01-01T00:23:36"
         },
         {
          "created_x": "2019-01-15T08:06:34",
          "l": 0,
          "tps_parcours": "2018-01-01T00:20:14"
         },
         {
          "created_x": "2019-01-15T08:07:05",
          "l": 0,
          "tps_parcours": "2018-01-01T00:19:44"
         },
         {
          "created_x": "2019-01-15T08:07:51",
          "l": 0,
          "tps_parcours": "2018-01-01T00:19:19"
         },
         {
          "created_x": "2019-01-15T08:06:52",
          "l": 0,
          "tps_parcours": "2018-01-01T00:20:33"
         },
         {
          "created_x": "2019-01-15T08:03:54",
          "l": 1,
          "tps_parcours": "2018-01-01T00:23:33"
         },
         {
          "created_x": "2019-01-15T08:03:49",
          "l": 1,
          "tps_parcours": "2018-01-01T00:23:53"
         },
         {
          "created_x": "2019-01-15T08:07:59",
          "l": 0,
          "tps_parcours": "2018-01-01T00:19:51"
         },
         {
          "created_x": "2019-01-15T08:03:57",
          "l": 1,
          "tps_parcours": "2018-01-01T00:23:54"
         },
         {
          "created_x": "2019-01-15T08:04:01",
          "l": 0,
          "tps_parcours": "2018-01-01T00:23:52"
         },
         {
          "created_x": "2019-01-15T08:04:03",
          "l": 1,
          "tps_parcours": "2018-01-01T00:23:51"
         },
         {
          "created_x": "2019-01-15T08:05:36",
          "l": 1,
          "tps_parcours": "2018-01-01T00:23:18"
         },
         {
          "created_x": "2019-01-15T08:10:36",
          "l": 0,
          "tps_parcours": "2018-01-01T00:18:34"
         },
         {
          "created_x": "2019-01-15T08:11:09",
          "l": -1,
          "tps_parcours": "2018-01-01T00:18:07"
         },
         {
          "created_x": "2019-01-15T08:05:22",
          "l": 1,
          "tps_parcours": "2018-01-01T00:23:55"
         },
         {
          "created_x": "2019-01-15T08:05:55",
          "l": 0,
          "tps_parcours": "2018-01-01T00:23:24"
         },
         {
          "created_x": "2019-01-15T08:08:59",
          "l": 0,
          "tps_parcours": "2018-01-01T00:20:26"
         },
         {
          "created_x": "2019-01-15T08:05:43",
          "l": 1,
          "tps_parcours": "2018-01-01T00:24:01"
         },
         {
          "created_x": "2019-01-15T08:11:08",
          "l": 0,
          "tps_parcours": "2018-01-01T00:18:48"
         },
         {
          "created_x": "2019-01-15T08:10:42",
          "l": 0,
          "tps_parcours": "2018-01-01T00:19:19"
         },
         {
          "created_x": "2019-01-15T08:05:58",
          "l": 1,
          "tps_parcours": "2018-01-01T00:24:06"
         },
         {
          "created_x": "2019-01-15T08:07:12",
          "l": 1,
          "tps_parcours": "2018-01-01T00:22:57"
         },
         {
          "created_x": "2019-01-15T08:06:02",
          "l": 1,
          "tps_parcours": "2018-01-01T00:24:13"
         },
         {
          "created_x": "2019-01-15T08:11:29",
          "l": -1,
          "tps_parcours": "2018-01-01T00:18:58"
         },
         {
          "created_x": "2019-01-15T08:03:09",
          "l": 0,
          "tps_parcours": "2018-01-01T00:27:24"
         },
         {
          "created_x": "2019-01-15T08:09:40",
          "l": 0,
          "tps_parcours": "2018-01-01T00:20:54"
         },
         {
          "created_x": "2019-01-15T08:11:42",
          "l": 1,
          "tps_parcours": "2018-01-01T00:18:57"
         },
         {
          "created_x": "2019-01-15T08:12:14",
          "l": 0,
          "tps_parcours": "2018-01-01T00:18:38"
         },
         {
          "created_x": "2019-01-15T08:07:22",
          "l": 1,
          "tps_parcours": "2018-01-01T00:23:39"
         },
         {
          "created_x": "2019-01-15T08:07:29",
          "l": 1,
          "tps_parcours": "2018-01-01T00:23:47"
         },
         {
          "created_x": "2019-01-15T08:07:09",
          "l": 1,
          "tps_parcours": "2018-01-01T00:24:15"
         },
         {
          "created_x": "2019-01-15T08:07:27",
          "l": 1,
          "tps_parcours": "2018-01-01T00:24:02"
         },
         {
          "created_x": "2019-01-15T08:07:40",
          "l": 1,
          "tps_parcours": "2018-01-01T00:24:02"
         },
         {
          "created_x": "2019-01-15T08:07:42",
          "l": 0,
          "tps_parcours": "2018-01-01T00:24:04"
         },
         {
          "created_x": "2019-01-15T08:14:41",
          "l": 0,
          "tps_parcours": "2018-01-01T00:17:08"
         },
         {
          "created_x": "2019-01-15T08:08:52",
          "l": -1,
          "tps_parcours": "2018-01-01T00:23:08"
         },
         {
          "created_x": "2019-01-15T08:09:05",
          "l": 0,
          "tps_parcours": "2018-01-01T00:23:00"
         },
         {
          "created_x": "2019-01-15T08:14:33",
          "l": 0,
          "tps_parcours": "2018-01-01T00:17:39"
         },
         {
          "created_x": "2019-01-15T08:08:57",
          "l": -1,
          "tps_parcours": "2018-01-01T00:23:18"
         },
         {
          "created_x": "2019-01-15T08:08:47",
          "l": 1,
          "tps_parcours": "2018-01-01T00:23:30"
         },
         {
          "created_x": "2019-01-15T08:08:49",
          "l": 1,
          "tps_parcours": "2018-01-01T00:23:38"
         },
         {
          "created_x": "2019-01-15T08:09:40",
          "l": -1,
          "tps_parcours": "2018-01-01T00:22:52"
         },
         {
          "created_x": "2019-01-15T08:09:03",
          "l": 1,
          "tps_parcours": "2018-01-01T00:23:34"
         },
         {
          "created_x": "2019-01-15T08:09:53",
          "l": -1,
          "tps_parcours": "2018-01-01T00:23:03"
         },
         {
          "created_x": "2019-01-15T08:09:56",
          "l": 1,
          "tps_parcours": "2018-01-01T00:23:04"
         },
         {
          "created_x": "2019-01-15T08:10:19",
          "l": 1,
          "tps_parcours": "2018-01-01T00:22:46"
         },
         {
          "created_x": "2019-01-15T08:10:26",
          "l": 1,
          "tps_parcours": "2018-01-01T00:22:57"
         },
         {
          "created_x": "2019-01-15T08:14:46",
          "l": 0,
          "tps_parcours": "2018-01-01T00:18:43"
         },
         {
          "created_x": "2019-01-15T08:15:19",
          "l": 0,
          "tps_parcours": "2018-01-01T00:18:13"
         },
         {
          "created_x": "2019-01-15T08:11:14",
          "l": 1,
          "tps_parcours": "2018-01-01T00:22:19"
         },
         {
          "created_x": "2019-01-15T08:10:49",
          "l": -1,
          "tps_parcours": "2018-01-01T00:23:07"
         },
         {
          "created_x": "2019-01-15T08:16:25",
          "l": 0,
          "tps_parcours": "2018-01-01T00:17:40"
         },
         {
          "created_x": "2019-01-15T08:01:08",
          "l": 0,
          "tps_parcours": "2018-01-01T00:33:10"
         },
         {
          "created_x": "2019-01-15T08:11:26",
          "l": 1,
          "tps_parcours": "2018-01-01T00:22:56"
         },
         {
          "created_x": "2019-01-15T08:11:10",
          "l": 1,
          "tps_parcours": "2018-01-01T00:23:26"
         },
         {
          "created_x": "2019-01-15T08:12:27",
          "l": 1,
          "tps_parcours": "2018-01-01T00:22:20"
         },
         {
          "created_x": "2019-01-15T08:16:56",
          "l": 0,
          "tps_parcours": "2018-01-01T00:17:57"
         },
         {
          "created_x": "2019-01-15T08:15:05",
          "l": 0,
          "tps_parcours": "2018-01-01T00:19:51"
         },
         {
          "created_x": "2019-01-15T08:17:18",
          "l": 0,
          "tps_parcours": "2018-01-01T00:17:46"
         },
         {
          "created_x": "2019-01-15T08:12:24",
          "l": 1,
          "tps_parcours": "2018-01-01T00:22:50"
         },
         {
          "created_x": "2019-01-15T08:13:01",
          "l": -1,
          "tps_parcours": "2018-01-01T00:22:28"
         },
         {
          "created_x": "2019-01-15T08:13:45",
          "l": 1,
          "tps_parcours": "2018-01-01T00:21:59"
         },
         {
          "created_x": "2019-01-15T08:12:03",
          "l": 1,
          "tps_parcours": "2018-01-01T00:23:51"
         },
         {
          "created_x": "2019-01-15T08:18:35",
          "l": 0,
          "tps_parcours": "2018-01-01T00:17:22"
         },
         {
          "created_x": "2019-01-15T08:13:21",
          "l": 1,
          "tps_parcours": "2018-01-01T00:22:47"
         },
         {
          "created_x": "2019-01-15T08:14:57",
          "l": 0,
          "tps_parcours": "2018-01-01T00:21:17"
         },
         {
          "created_x": "2019-01-15T08:14:59",
          "l": 1,
          "tps_parcours": "2018-01-01T00:21:23"
         },
         {
          "created_x": "2019-01-15T08:19:09",
          "l": 0,
          "tps_parcours": "2018-01-01T00:17:20"
         },
         {
          "created_x": "2019-01-15T08:19:14",
          "l": 0,
          "tps_parcours": "2018-01-01T00:17:17"
         },
         {
          "created_x": "2019-01-15T08:15:01",
          "l": 1,
          "tps_parcours": "2018-01-01T00:21:50"
         },
         {
          "created_x": "2019-01-15T08:15:10",
          "l": 1,
          "tps_parcours": "2018-01-01T00:21:58"
         },
         {
          "created_x": "2019-01-15T08:15:07",
          "l": 1,
          "tps_parcours": "2018-01-01T00:22:04"
         },
         {
          "created_x": "2019-01-15T08:15:46",
          "l": 1,
          "tps_parcours": "2018-01-01T00:22:05"
         },
         {
          "created_x": "2019-01-15T08:16:27",
          "l": 1,
          "tps_parcours": "2018-01-01T00:21:34"
         },
         {
          "created_x": "2019-01-15T08:20:49",
          "l": 0,
          "tps_parcours": "2018-01-01T00:17:12"
         },
         {
          "created_x": "2019-01-15T08:16:57",
          "l": 1,
          "tps_parcours": "2018-01-01T00:21:23"
         },
         {
          "created_x": "2019-01-15T08:09:10",
          "l": -1,
          "tps_parcours": "2018-01-01T00:29:15"
         },
         {
          "created_x": "2019-01-15T08:17:36",
          "l": -1,
          "tps_parcours": "2018-01-01T00:20:56"
         },
         {
          "created_x": "2019-01-15T08:17:03",
          "l": 1,
          "tps_parcours": "2018-01-01T00:21:51"
         },
         {
          "created_x": "2019-01-15T08:18:16",
          "l": 0,
          "tps_parcours": "2018-01-01T00:20:52"
         },
         {
          "created_x": "2019-01-15T08:17:31",
          "l": 1,
          "tps_parcours": "2018-01-01T00:21:38"
         },
         {
          "created_x": "2019-01-15T08:18:13",
          "l": -1,
          "tps_parcours": "2018-01-01T00:20:58"
         },
         {
          "created_x": "2019-01-15T08:17:25",
          "l": 1,
          "tps_parcours": "2018-01-01T00:21:47"
         },
         {
          "created_x": "2019-01-15T08:18:22",
          "l": 1,
          "tps_parcours": "2018-01-01T00:20:52"
         },
         {
          "created_x": "2019-01-15T08:17:33",
          "l": -1,
          "tps_parcours": "2018-01-01T00:21:43"
         },
         {
          "created_x": "2019-01-15T08:22:08",
          "l": 0,
          "tps_parcours": "2018-01-01T00:17:11"
         },
         {
          "created_x": "2019-01-15T08:19:05",
          "l": -1,
          "tps_parcours": "2018-01-01T00:20:16"
         },
         {
          "created_x": "2019-01-15T08:21:09",
          "l": 0,
          "tps_parcours": "2018-01-01T00:18:24"
         },
         {
          "created_x": "2019-01-15T08:21:12",
          "l": 0,
          "tps_parcours": "2018-01-01T00:18:29"
         },
         {
          "created_x": "2019-01-15T08:18:45",
          "l": 1,
          "tps_parcours": "2018-01-01T00:21:09"
         },
         {
          "created_x": "2019-01-15T08:18:56",
          "l": 1,
          "tps_parcours": "2018-01-01T00:21:10"
         },
         {
          "created_x": "2019-01-15T08:22:33",
          "l": 0,
          "tps_parcours": "2018-01-01T00:17:38"
         },
         {
          "created_x": "2019-01-15T08:19:01",
          "l": 1,
          "tps_parcours": "2018-01-01T00:21:27"
         },
         {
          "created_x": "2019-01-15T08:23:08",
          "l": 0,
          "tps_parcours": "2018-01-01T00:17:32"
         },
         {
          "created_x": "2019-01-15T08:20:37",
          "l": -1,
          "tps_parcours": "2018-01-01T00:20:35"
         },
         {
          "created_x": "2019-01-15T08:15:15",
          "l": 1,
          "tps_parcours": "2018-01-01T00:26:10"
         },
         {
          "created_x": "2019-01-15T08:24:31",
          "l": 0,
          "tps_parcours": "2018-01-01T00:17:00"
         },
         {
          "created_x": "2019-01-15T08:20:46",
          "l": 1,
          "tps_parcours": "2018-01-01T00:20:49"
         },
         {
          "created_x": "2019-01-15T08:21:10",
          "l": 1,
          "tps_parcours": "2018-01-01T00:20:51"
         },
         {
          "created_x": "2019-01-15T08:21:06",
          "l": 1,
          "tps_parcours": "2018-01-01T00:21:05"
         },
         {
          "created_x": "2019-01-15T08:24:01",
          "l": 0,
          "tps_parcours": "2018-01-01T00:18:21"
         },
         {
          "created_x": "2019-01-15T08:24:00",
          "l": 0,
          "tps_parcours": "2018-01-01T00:18:33"
         },
         {
          "created_x": "2019-01-15T08:21:01",
          "l": 1,
          "tps_parcours": "2018-01-01T00:21:36"
         },
         {
          "created_x": "2019-01-15T08:21:01",
          "l": 1,
          "tps_parcours": "2018-01-01T00:21:36"
         },
         {
          "created_x": "2019-01-15T08:21:36",
          "l": -1,
          "tps_parcours": "2018-01-01T00:21:04"
         },
         {
          "created_x": "2019-01-15T08:25:58",
          "l": 0,
          "tps_parcours": "2018-01-01T00:16:50"
         },
         {
          "created_x": "2019-01-15T08:21:21",
          "l": 1,
          "tps_parcours": "2018-01-01T00:21:27"
         },
         {
          "created_x": "2019-01-15T08:26:00",
          "l": 0,
          "tps_parcours": "2018-01-01T00:17:16"
         },
         {
          "created_x": "2019-01-15T08:21:18",
          "l": 1,
          "tps_parcours": "2018-01-01T00:22:01"
         },
         {
          "created_x": "2019-01-15T08:21:39",
          "l": -1,
          "tps_parcours": "2018-01-01T00:21:52"
         },
         {
          "created_x": "2019-01-15T08:22:06",
          "l": -1,
          "tps_parcours": "2018-01-01T00:21:28"
         },
         {
          "created_x": "2019-01-15T08:21:50",
          "l": -1,
          "tps_parcours": "2018-01-01T00:21:47"
         },
         {
          "created_x": "2019-01-15T08:21:46",
          "l": -1,
          "tps_parcours": "2018-01-01T00:21:53"
         },
         {
          "created_x": "2019-01-15T08:26:25",
          "l": 0,
          "tps_parcours": "2018-01-01T00:17:14"
         },
         {
          "created_x": "2019-01-15T08:22:11",
          "l": 1,
          "tps_parcours": "2018-01-01T00:21:40"
         },
         {
          "created_x": "2019-01-15T08:22:13",
          "l": -1,
          "tps_parcours": "2018-01-01T00:21:42"
         },
         {
          "created_x": "2019-01-15T08:23:24",
          "l": -1,
          "tps_parcours": "2018-01-01T00:21:13"
         },
         {
          "created_x": "2019-01-15T08:23:21",
          "l": 1,
          "tps_parcours": "2018-01-01T00:21:18"
         },
         {
          "created_x": "2019-01-15T08:25:57",
          "l": 0,
          "tps_parcours": "2018-01-01T00:19:07"
         },
         {
          "created_x": "2019-01-15T08:23:44",
          "l": 1,
          "tps_parcours": "2018-01-01T00:21:28"
         },
         {
          "created_x": "2019-01-15T08:23:13",
          "l": 1,
          "tps_parcours": "2018-01-01T00:22:01"
         },
         {
          "created_x": "2019-01-15T08:23:52",
          "l": 1,
          "tps_parcours": "2018-01-01T00:21:41"
         },
         {
          "created_x": "2019-01-15T08:23:41",
          "l": -1,
          "tps_parcours": "2018-01-01T00:21:55"
         },
         {
          "created_x": "2019-01-15T08:25:06",
          "l": 1,
          "tps_parcours": "2018-01-01T00:20:36"
         },
         {
          "created_x": "2019-01-15T08:24:38",
          "l": -1,
          "tps_parcours": "2018-01-01T00:21:06"
         },
         {
          "created_x": "2019-01-15T08:25:18",
          "l": 1,
          "tps_parcours": "2018-01-01T00:20:30"
         },
         {
          "created_x": "2019-01-15T08:30:04",
          "l": 0,
          "tps_parcours": "2018-01-01T00:15:46"
         },
         {
          "created_x": "2019-01-15T08:29:12",
          "l": 0,
          "tps_parcours": "2018-01-01T00:16:45"
         },
         {
          "created_x": "2019-01-15T08:24:29",
          "l": 1,
          "tps_parcours": "2018-01-01T00:21:30"
         },
         {
          "created_x": "2019-01-15T08:25:12",
          "l": -1,
          "tps_parcours": "2018-01-01T00:20:49"
         },
         {
          "created_x": "2019-01-15T08:25:43",
          "l": 1,
          "tps_parcours": "2018-01-01T00:20:30"
         },
         {
          "created_x": "2019-01-15T08:25:47",
          "l": 1,
          "tps_parcours": "2018-01-01T00:20:30"
         },
         {
          "created_x": "2019-01-15T08:30:50",
          "l": 0,
          "tps_parcours": "2018-01-01T00:15:56"
         },
         {
          "created_x": "2019-01-15T08:26:54",
          "l": 1,
          "tps_parcours": "2018-01-01T00:19:55"
         },
         {
          "created_x": "2019-01-15T08:26:37",
          "l": -1,
          "tps_parcours": "2018-01-01T00:20:16"
         },
         {
          "created_x": "2019-01-15T08:26:52",
          "l": 0,
          "tps_parcours": "2018-01-01T00:20:09"
         },
         {
          "created_x": "2019-01-15T08:27:14",
          "l": -1,
          "tps_parcours": "2018-01-01T00:20:06"
         },
         {
          "created_x": "2019-01-15T08:26:59",
          "l": -1,
          "tps_parcours": "2018-01-01T00:20:31"
         },
         {
          "created_x": "2019-01-15T08:30:52",
          "l": 0,
          "tps_parcours": "2018-01-01T00:16:48"
         },
         {
          "created_x": "2019-01-15T08:26:35",
          "l": 1,
          "tps_parcours": "2018-01-01T00:21:12"
         },
         {
          "created_x": "2019-01-15T08:28:04",
          "l": 1,
          "tps_parcours": "2018-01-01T00:20:30"
         },
         {
          "created_x": "2019-01-15T08:27:32",
          "l": -1,
          "tps_parcours": "2018-01-01T00:21:26"
         },
         {
          "created_x": "2019-01-15T08:32:01",
          "l": 0,
          "tps_parcours": "2018-01-01T00:17:08"
         },
         {
          "created_x": "2019-01-15T08:28:35",
          "l": 1,
          "tps_parcours": "2018-01-01T00:20:53"
         },
         {
          "created_x": "2019-01-15T08:28:41",
          "l": 0,
          "tps_parcours": "2018-01-01T00:21:04"
         },
         {
          "created_x": "2019-01-15T08:29:23",
          "l": 0,
          "tps_parcours": "2018-01-01T00:20:27"
         },
         {
          "created_x": "2019-01-15T08:28:32",
          "l": 1,
          "tps_parcours": "2018-01-01T00:21:26"
         },
         {
          "created_x": "2019-01-15T08:33:59",
          "l": 0,
          "tps_parcours": "2018-01-01T00:16:01"
         },
         {
          "created_x": "2019-01-15T08:28:38",
          "l": 1,
          "tps_parcours": "2018-01-01T00:21:27"
         },
         {
          "created_x": "2019-01-15T08:28:44",
          "l": -1,
          "tps_parcours": "2018-01-01T00:21:26"
         },
         {
          "created_x": "2019-01-15T08:28:47",
          "l": 0,
          "tps_parcours": "2018-01-01T00:21:25"
         },
         {
          "created_x": "2019-01-15T08:29:30",
          "l": 0,
          "tps_parcours": "2018-01-01T00:20:45"
         },
         {
          "created_x": "2019-01-15T08:30:12",
          "l": -1,
          "tps_parcours": "2018-01-01T00:20:08"
         },
         {
          "created_x": "2019-01-15T08:33:34",
          "l": 0,
          "tps_parcours": "2018-01-01T00:16:51"
         },
         {
          "created_x": "2019-01-15T08:30:22",
          "l": -1,
          "tps_parcours": "2018-01-01T00:20:04"
         },
         {
          "created_x": "2019-01-15T08:29:00",
          "l": -1,
          "tps_parcours": "2018-01-01T00:21:26"
         },
         {
          "created_x": "2019-01-15T08:30:15",
          "l": 1,
          "tps_parcours": "2018-01-01T00:20:19"
         },
         {
          "created_x": "2019-01-15T08:30:09",
          "l": 1,
          "tps_parcours": "2018-01-01T00:20:27"
         },
         {
          "created_x": "2019-01-15T08:30:20",
          "l": 1,
          "tps_parcours": "2018-01-01T00:20:28"
         },
         {
          "created_x": "2019-01-15T08:31:01",
          "l": 1,
          "tps_parcours": "2018-01-01T00:20:03"
         },
         {
          "created_x": "2019-01-15T08:32:02",
          "l": -1,
          "tps_parcours": "2018-01-01T00:19:42"
         },
         {
          "created_x": "2019-01-15T08:36:02",
          "l": 0,
          "tps_parcours": "2018-01-01T00:15:54"
         },
         {
          "created_x": "2019-01-15T08:35:35",
          "l": 0,
          "tps_parcours": "2018-01-01T00:16:26"
         },
         {
          "created_x": "2019-01-15T08:35:33",
          "l": 0,
          "tps_parcours": "2018-01-01T00:16:29"
         },
         {
          "created_x": "2019-01-15T08:17:29",
          "l": 1,
          "tps_parcours": "2018-01-01T00:34:39"
         },
         {
          "created_x": "2019-01-15T08:32:24",
          "l": 1,
          "tps_parcours": "2018-01-01T00:19:51"
         },
         {
          "created_x": "2019-01-15T08:32:32",
          "l": 1,
          "tps_parcours": "2018-01-01T00:19:48"
         },
         {
          "created_x": "2019-01-15T08:31:07",
          "l": -1,
          "tps_parcours": "2018-01-01T00:21:16"
         },
         {
          "created_x": "2019-01-15T08:36:05",
          "l": 0,
          "tps_parcours": "2018-01-01T00:16:21"
         },
         {
          "created_x": "2019-01-15T08:37:12",
          "l": 0,
          "tps_parcours": "2018-01-01T00:15:28"
         },
         {
          "created_x": "2019-01-15T08:32:07",
          "l": 1,
          "tps_parcours": "2018-01-01T00:20:36"
         },
         {
          "created_x": "2019-01-15T08:37:18",
          "l": 0,
          "tps_parcours": "2018-01-01T00:15:26"
         },
         {
          "created_x": "2019-01-15T08:37:19",
          "l": 0,
          "tps_parcours": "2018-01-01T00:15:29"
         },
         {
          "created_x": "2019-01-15T08:31:55",
          "l": 1,
          "tps_parcours": "2018-01-01T00:21:00"
         },
         {
          "created_x": "2019-01-15T08:33:22",
          "l": 0,
          "tps_parcours": "2018-01-01T00:19:44"
         },
         {
          "created_x": "2019-01-15T08:32:12",
          "l": 1,
          "tps_parcours": "2018-01-01T00:21:00"
         },
         {
          "created_x": "2019-01-15T08:33:13",
          "l": 1,
          "tps_parcours": "2018-01-01T00:20:04"
         },
         {
          "created_x": "2019-01-15T08:33:09",
          "l": 1,
          "tps_parcours": "2018-01-01T00:20:10"
         },
         {
          "created_x": "2019-01-15T08:33:20",
          "l": -1,
          "tps_parcours": "2018-01-01T00:20:04"
         },
         {
          "created_x": "2019-01-15T08:33:15",
          "l": 1,
          "tps_parcours": "2018-01-01T00:20:13"
         },
         {
          "created_x": "2019-01-15T08:37:42",
          "l": 0,
          "tps_parcours": "2018-01-01T00:16:01"
         },
         {
          "created_x": "2019-01-15T08:33:18",
          "l": 1,
          "tps_parcours": "2018-01-01T00:20:52"
         },
         {
          "created_x": "2019-01-15T08:34:38",
          "l": 1,
          "tps_parcours": "2018-01-01T00:20:13"
         },
         {
          "created_x": "2019-01-15T08:33:28",
          "l": 1,
          "tps_parcours": "2018-01-01T00:21:43"
         },
         {
          "created_x": "2019-01-15T08:33:31",
          "l": -1,
          "tps_parcours": "2018-01-01T00:21:41"
         },
         {
          "created_x": "2019-01-15T08:34:40",
          "l": 1,
          "tps_parcours": "2018-01-01T00:20:35"
         },
         {
          "created_x": "2019-01-15T08:33:49",
          "l": 1,
          "tps_parcours": "2018-01-01T00:21:34"
         },
         {
          "created_x": "2019-01-15T08:34:55",
          "l": -1,
          "tps_parcours": "2018-01-01T00:20:39"
         },
         {
          "created_x": "2019-01-15T08:35:02",
          "l": -1,
          "tps_parcours": "2018-01-01T00:20:45"
         },
         {
          "created_x": "2019-01-15T08:03:51",
          "l": -1,
          "tps_parcours": "2018-01-01T00:52:06"
         },
         {
          "created_x": "2019-01-15T08:36:19",
          "l": 1,
          "tps_parcours": "2018-01-01T00:20:08"
         },
         {
          "created_x": "2019-01-15T08:38:48",
          "l": 0,
          "tps_parcours": "2018-01-01T00:17:49"
         },
         {
          "created_x": "2019-01-15T08:37:25",
          "l": -1,
          "tps_parcours": "2018-01-01T00:19:38"
         },
         {
          "created_x": "2019-01-15T08:41:41",
          "l": 0,
          "tps_parcours": "2018-01-01T00:15:36"
         },
         {
          "created_x": "2019-01-15T08:36:09",
          "l": 1,
          "tps_parcours": "2018-01-01T00:21:11"
         },
         {
          "created_x": "2019-01-15T08:36:14",
          "l": -1,
          "tps_parcours": "2018-01-01T00:21:09"
         },
         {
          "created_x": "2019-01-15T08:41:30",
          "l": 0,
          "tps_parcours": "2018-01-01T00:16:00"
         },
         {
          "created_x": "2019-01-15T08:36:30",
          "l": -1,
          "tps_parcours": "2018-01-01T00:21:13"
         },
         {
          "created_x": "2019-01-15T08:36:18",
          "l": 1,
          "tps_parcours": "2018-01-01T00:21:46"
         },
         {
          "created_x": "2019-01-15T08:34:47",
          "l": 0,
          "tps_parcours": "2018-01-01T00:23:22"
         },
         {
          "created_x": "2019-01-15T08:36:21",
          "l": -1,
          "tps_parcours": "2018-01-01T00:21:49"
         },
         {
          "created_x": "2019-01-15T08:37:57",
          "l": 1,
          "tps_parcours": "2018-01-01T00:20:19"
         },
         {
          "created_x": "2019-01-15T08:37:31",
          "l": 1,
          "tps_parcours": "2018-01-01T00:20:47"
         },
         {
          "created_x": "2019-01-15T08:36:24",
          "l": 0,
          "tps_parcours": "2018-01-01T00:22:00"
         },
         {
          "created_x": "2019-01-15T08:37:39",
          "l": -1,
          "tps_parcours": "2018-01-01T00:20:48"
         },
         {
          "created_x": "2019-01-15T08:37:27",
          "l": 1,
          "tps_parcours": "2018-01-01T00:21:16"
         },
         {
          "created_x": "2019-01-15T08:39:18",
          "l": 1,
          "tps_parcours": "2018-01-01T00:20:21"
         },
         {
          "created_x": "2019-01-15T08:37:00",
          "l": -1,
          "tps_parcours": "2018-01-01T00:22:45"
         },
         {
          "created_x": "2019-01-15T08:37:03",
          "l": 0,
          "tps_parcours": "2018-01-01T00:22:44"
         },
         {
          "created_x": "2019-01-15T08:37:06",
          "l": -1,
          "tps_parcours": "2018-01-01T00:22:43"
         },
         {
          "created_x": "2019-01-15T08:43:21",
          "l": 0,
          "tps_parcours": "2018-01-01T00:16:35"
         },
         {
          "created_x": "2019-01-15T08:43:15",
          "l": 0,
          "tps_parcours": "2018-01-01T00:16:50"
         },
         {
          "created_x": "2019-01-15T08:38:58",
          "l": 1,
          "tps_parcours": "2018-01-01T00:21:07"
         },
         {
          "created_x": "2019-01-15T08:43:27",
          "l": 0,
          "tps_parcours": "2018-01-01T00:16:43"
         },
         {
          "created_x": "2019-01-15T08:09:50",
          "l": -1,
          "tps_parcours": "2018-01-01T00:50:29"
         },
         {
          "created_x": "2019-01-15T08:39:27",
          "l": -1,
          "tps_parcours": "2018-01-01T00:20:53"
         },
         {
          "created_x": "2019-01-15T08:40:07",
          "l": -1,
          "tps_parcours": "2018-01-01T00:20:17"
         },
         {
          "created_x": "2019-01-15T08:39:20",
          "l": -1,
          "tps_parcours": "2018-01-01T00:21:15"
         },
         {
          "created_x": "2019-01-15T08:39:30",
          "l": 1,
          "tps_parcours": "2018-01-01T00:21:12"
         },
         {
          "created_x": "2019-01-15T08:39:34",
          "l": -1,
          "tps_parcours": "2018-01-01T00:21:12"
         },
         {
          "created_x": "2019-01-15T08:43:53",
          "l": 0,
          "tps_parcours": "2018-01-01T00:16:55"
         },
         {
          "created_x": "2019-01-15T08:39:05",
          "l": 1,
          "tps_parcours": "2018-01-01T00:21:47"
         },
         {
          "created_x": "2019-01-15T08:40:13",
          "l": -1,
          "tps_parcours": "2018-01-01T00:20:41"
         },
         {
          "created_x": "2019-01-15T08:44:14",
          "l": 0,
          "tps_parcours": "2018-01-01T00:17:10"
         },
         {
          "created_x": "2019-01-15T08:45:10",
          "l": 0,
          "tps_parcours": "2018-01-01T00:16:14"
         },
         {
          "created_x": "2019-01-15T08:39:45",
          "l": 1,
          "tps_parcours": "2018-01-01T00:21:56"
         },
         {
          "created_x": "2019-01-15T08:44:23",
          "l": 0,
          "tps_parcours": "2018-01-01T00:17:22"
         },
         {
          "created_x": "2019-01-15T08:39:41",
          "l": 1,
          "tps_parcours": "2018-01-01T00:22:34"
         },
         {
          "created_x": "2019-01-15T08:36:11",
          "l": 1,
          "tps_parcours": "2018-01-01T00:26:25"
         },
         {
          "created_x": "2019-01-15T08:39:53",
          "l": 1,
          "tps_parcours": "2018-01-01T00:22:50"
         },
         {
          "created_x": "2019-01-15T08:40:10",
          "l": -1,
          "tps_parcours": "2018-01-01T00:22:40"
         },
         {
          "created_x": "2019-01-15T08:41:44",
          "l": -1,
          "tps_parcours": "2018-01-01T00:21:34"
         },
         {
          "created_x": "2019-01-15T08:41:30",
          "l": -1,
          "tps_parcours": "2018-01-01T00:21:50"
         },
         {
          "created_x": "2019-01-15T08:41:47",
          "l": -1,
          "tps_parcours": "2018-01-01T00:21:40"
         },
         {
          "created_x": "2019-01-15T08:42:54",
          "l": -1,
          "tps_parcours": "2018-01-01T00:20:35"
         },
         {
          "created_x": "2019-01-15T08:43:06",
          "l": 0,
          "tps_parcours": "2018-01-01T00:20:25"
         },
         {
          "created_x": "2019-01-15T08:41:35",
          "l": -1,
          "tps_parcours": "2018-01-01T00:22:17"
         },
         {
          "created_x": "2019-01-15T08:41:39",
          "l": 1,
          "tps_parcours": "2018-01-01T00:22:15"
         },
         {
          "created_x": "2019-01-15T08:42:57",
          "l": 1,
          "tps_parcours": "2018-01-01T00:21:02"
         },
         {
          "created_x": "2019-01-15T08:43:11",
          "l": -1,
          "tps_parcours": "2018-01-01T00:20:55"
         },
         {
          "created_x": "2019-01-15T08:43:02",
          "l": 0,
          "tps_parcours": "2018-01-01T00:21:06"
         },
         {
          "created_x": "2019-01-15T08:07:20",
          "l": 0,
          "tps_parcours": "2018-01-01T00:56:52"
         },
         {
          "created_x": "2019-01-15T08:43:05",
          "l": 0,
          "tps_parcours": "2018-01-01T00:21:09"
         },
         {
          "created_x": "2019-01-15T08:43:00",
          "l": 0,
          "tps_parcours": "2018-01-01T00:21:30"
         },
         {
          "created_x": "2019-01-15T08:45:59",
          "l": 0,
          "tps_parcours": "2018-01-01T00:18:36"
         },
         {
          "created_x": "2019-01-15T08:42:46",
          "l": 1,
          "tps_parcours": "2018-01-01T00:21:54"
         },
         {
          "created_x": "2019-01-15T08:44:25",
          "l": -1,
          "tps_parcours": "2018-01-01T00:20:37"
         },
         {
          "created_x": "2019-01-15T08:44:44",
          "l": -1,
          "tps_parcours": "2018-01-01T00:20:29"
         },
         {
          "created_x": "2019-01-15T08:42:41",
          "l": 1,
          "tps_parcours": "2018-01-01T00:22:39"
         },
         {
          "created_x": "2019-01-15T08:42:49",
          "l": -1,
          "tps_parcours": "2018-01-01T00:22:34"
         },
         {
          "created_x": "2019-01-15T08:44:06",
          "l": -1,
          "tps_parcours": "2018-01-01T00:21:30"
         },
         {
          "created_x": "2019-01-15T08:44:18",
          "l": 0,
          "tps_parcours": "2018-01-01T00:21:21"
         },
         {
          "created_x": "2019-01-15T08:44:05",
          "l": -1,
          "tps_parcours": "2018-01-01T00:21:37"
         },
         {
          "created_x": "2019-01-15T08:44:56",
          "l": 0,
          "tps_parcours": "2018-01-01T00:20:48"
         },
         {
          "created_x": "2019-01-15T08:45:47",
          "l": -1,
          "tps_parcours": "2018-01-01T00:19:59"
         },
         {
          "created_x": "2019-01-15T08:48:19",
          "l": 0,
          "tps_parcours": "2018-01-01T00:17:30"
         },
         {
          "created_x": "2019-01-15T08:44:22",
          "l": 1,
          "tps_parcours": "2018-01-01T00:21:27"
         },
         {
          "created_x": "2019-01-15T08:44:38",
          "l": 1,
          "tps_parcours": "2018-01-01T00:21:26"
         },
         {
          "created_x": "2019-01-15T08:49:15",
          "l": 0,
          "tps_parcours": "2018-01-01T00:16:53"
         },
         {
          "created_x": "2019-01-15T08:46:10",
          "l": -1,
          "tps_parcours": "2018-01-01T00:20:21"
         },
         {
          "created_x": "2019-01-15T08:45:55",
          "l": 1,
          "tps_parcours": "2018-01-01T00:20:45"
         },
         {
          "created_x": "2019-01-15T08:40:05",
          "l": -1,
          "tps_parcours": "2018-01-01T00:26:38"
         },
         {
          "created_x": "2019-01-15T08:46:43",
          "l": -1,
          "tps_parcours": "2018-01-01T00:20:13"
         },
         {
          "created_x": "2019-01-15T08:18:48",
          "l": 1,
          "tps_parcours": "2018-01-01T00:48:18"
         },
         {
          "created_x": "2019-01-15T08:44:34",
          "l": 1,
          "tps_parcours": "2018-01-01T00:22:39"
         },
         {
          "created_x": "2019-01-15T08:44:48",
          "l": 1,
          "tps_parcours": "2018-01-01T00:22:29"
         },
         {
          "created_x": "2019-01-15T08:46:31",
          "l": 1,
          "tps_parcours": "2018-01-01T00:20:50"
         },
         {
          "created_x": "2019-01-15T08:46:40",
          "l": 0,
          "tps_parcours": "2018-01-01T00:20:43"
         },
         {
          "created_x": "2019-01-15T08:47:09",
          "l": 0,
          "tps_parcours": "2018-01-01T00:20:17"
         },
         {
          "created_x": "2019-01-15T08:47:12",
          "l": -1,
          "tps_parcours": "2018-01-01T00:20:16"
         },
         {
          "created_x": "2019-01-15T08:45:26",
          "l": 1,
          "tps_parcours": "2018-01-01T00:22:06"
         },
         {
          "created_x": "2019-01-15T08:45:44",
          "l": 1,
          "tps_parcours": "2018-01-01T00:21:50"
         },
         {
          "created_x": "2019-01-15T08:46:36",
          "l": 1,
          "tps_parcours": "2018-01-01T00:21:01"
         },
         {
          "created_x": "2019-01-15T08:45:52",
          "l": 1,
          "tps_parcours": "2018-01-01T00:21:48"
         },
         {
          "created_x": "2019-01-15T08:46:56",
          "l": 1,
          "tps_parcours": "2018-01-01T00:20:47"
         },
         {
          "created_x": "2019-01-15T08:47:31",
          "l": -1,
          "tps_parcours": "2018-01-01T00:20:16"
         },
         {
          "created_x": "2019-01-15T08:47:08",
          "l": 1,
          "tps_parcours": "2018-01-01T00:20:50"
         },
         {
          "created_x": "2019-01-15T08:51:16",
          "l": 0,
          "tps_parcours": "2018-01-01T00:16:42"
         },
         {
          "created_x": "2019-01-15T08:45:49",
          "l": -1,
          "tps_parcours": "2018-01-01T00:22:18"
         },
         {
          "created_x": "2019-01-15T08:47:34",
          "l": 1,
          "tps_parcours": "2018-01-01T00:20:39"
         },
         {
          "created_x": "2019-01-15T08:51:32",
          "l": 0,
          "tps_parcours": "2018-01-01T00:16:46"
         },
         {
          "created_x": "2019-01-15T08:46:39",
          "l": -1,
          "tps_parcours": "2018-01-01T00:21:43"
         },
         {
          "created_x": "2019-01-15T08:32:05",
          "l": -1,
          "tps_parcours": "2018-01-01T00:36:20"
         },
         {
          "created_x": "2019-01-15T08:46:05",
          "l": 1,
          "tps_parcours": "2018-01-01T00:22:26"
         },
         {
          "created_x": "2019-01-15T08:51:20",
          "l": 0,
          "tps_parcours": "2018-01-01T00:17:17"
         },
         {
          "created_x": "2019-01-15T08:47:35",
          "l": 1,
          "tps_parcours": "2018-01-01T00:21:03"
         },
         {
          "created_x": "2019-01-15T08:48:33",
          "l": -1,
          "tps_parcours": "2018-01-01T00:20:08"
         },
         {
          "created_x": "2019-01-15T08:47:47",
          "l": 1,
          "tps_parcours": "2018-01-01T00:21:12"
         },
         {
          "created_x": "2019-01-15T08:46:18",
          "l": 1,
          "tps_parcours": "2018-01-01T00:22:51"
         },
         {
          "created_x": "2019-01-15T08:46:54",
          "l": -1,
          "tps_parcours": "2018-01-01T00:22:22"
         },
         {
          "created_x": "2019-01-15T08:49:12",
          "l": -1,
          "tps_parcours": "2018-01-01T00:20:06"
         },
         {
          "created_x": "2019-01-15T08:47:21",
          "l": -1,
          "tps_parcours": "2018-01-01T00:22:03"
         },
         {
          "created_x": "2019-01-15T08:49:25",
          "l": 1,
          "tps_parcours": "2018-01-01T00:20:23"
         },
         {
          "created_x": "2019-01-15T08:49:06",
          "l": 1,
          "tps_parcours": "2018-01-01T00:20:49"
         },
         {
          "created_x": "2019-01-15T08:49:29",
          "l": 1,
          "tps_parcours": "2018-01-01T00:20:35"
         },
         {
          "created_x": "2019-01-15T08:50:32",
          "l": 1,
          "tps_parcours": "2018-01-01T00:19:56"
         },
         {
          "created_x": "2019-01-15T08:49:41",
          "l": 1,
          "tps_parcours": "2018-01-01T00:20:53"
         },
         {
          "created_x": "2019-01-15T08:49:31",
          "l": 0,
          "tps_parcours": "2018-01-01T00:21:07"
         },
         {
          "created_x": "2019-01-15T08:50:46",
          "l": -1,
          "tps_parcours": "2018-01-01T00:19:54"
         },
         {
          "created_x": "2019-01-15T08:52:43",
          "l": 0,
          "tps_parcours": "2018-01-01T00:18:18"
         },
         {
          "created_x": "2019-01-15T08:51:16",
          "l": 1,
          "tps_parcours": "2018-01-01T00:19:45"
         },
         {
          "created_x": "2019-01-15T08:30:26",
          "l": 1,
          "tps_parcours": "2018-01-01T00:40:40"
         },
         {
          "created_x": "2019-01-15T08:47:29",
          "l": 1,
          "tps_parcours": "2018-01-01T00:23:52"
         },
         {
          "created_x": "2019-01-15T08:54:41",
          "l": -1,
          "tps_parcours": "2018-01-01T00:16:55"
         },
         {
          "created_x": "2019-01-15T08:50:59",
          "l": 1,
          "tps_parcours": "2018-01-01T00:20:41"
         },
         {
          "created_x": "2019-01-15T08:51:47",
          "l": -1,
          "tps_parcours": "2018-01-01T00:20:08"
         },
         {
          "created_x": "2019-01-15T08:51:30",
          "l": 1,
          "tps_parcours": "2018-01-01T00:20:38"
         },
         {
          "created_x": "2019-01-15T08:51:59",
          "l": 0,
          "tps_parcours": "2018-01-01T00:20:11"
         },
         {
          "created_x": "2019-01-15T08:51:44",
          "l": 1,
          "tps_parcours": "2018-01-01T00:20:41"
         },
         {
          "created_x": "2019-01-15T08:55:21",
          "l": 0,
          "tps_parcours": "2018-01-01T00:17:09"
         },
         {
          "created_x": "2019-01-15T08:52:04",
          "l": 1,
          "tps_parcours": "2018-01-01T00:20:44"
         },
         {
          "created_x": "2019-01-15T08:19:28",
          "l": 0,
          "tps_parcours": "2018-01-01T00:53:31"
         },
         {
          "created_x": "2019-01-15T08:52:31",
          "l": 0,
          "tps_parcours": "2018-01-01T00:20:33"
         },
         {
          "created_x": "2019-01-15T08:52:36",
          "l": -1,
          "tps_parcours": "2018-01-01T00:20:48"
         },
         {
          "created_x": "2019-01-15T08:52:42",
          "l": 1,
          "tps_parcours": "2018-01-01T00:21:04"
         },
         {
          "created_x": "2019-01-15T08:34:49",
          "l": 1,
          "tps_parcours": "2018-01-01T00:39:32"
         },
         {
          "created_x": "2019-01-15T08:57:21",
          "l": 0,
          "tps_parcours": "2018-01-01T00:17:06"
         },
         {
          "created_x": "2019-01-15T08:54:13",
          "l": 0,
          "tps_parcours": "2018-01-01T00:20:24"
         },
         {
          "created_x": "2019-01-15T08:52:54",
          "l": 1,
          "tps_parcours": "2018-01-01T00:21:46"
         },
         {
          "created_x": "2019-01-15T08:57:04",
          "l": 1,
          "tps_parcours": "2018-01-01T00:17:50"
         },
         {
          "created_x": "2019-01-15T08:53:05",
          "l": -1,
          "tps_parcours": "2018-01-01T00:22:00"
         },
         {
          "created_x": "2019-01-15T08:53:51",
          "l": -1,
          "tps_parcours": "2018-01-01T00:21:27"
         },
         {
          "created_x": "2019-01-15T08:53:15",
          "l": 1,
          "tps_parcours": "2018-01-01T00:22:17"
         },
         {
          "created_x": "2019-01-15T08:53:40",
          "l": 1,
          "tps_parcours": "2018-01-01T00:22:13"
         },
         {
          "created_x": "2019-01-15T08:58:45",
          "l": 0,
          "tps_parcours": "2018-01-01T00:17:16"
         },
         {
          "created_x": "2019-01-15T08:53:37",
          "l": -1,
          "tps_parcours": "2018-01-01T00:22:29"
         },
         {
          "created_x": "2019-01-15T08:55:06",
          "l": -1,
          "tps_parcours": "2018-01-01T00:21:13"
         },
         {
          "created_x": "2019-01-15T08:59:22",
          "l": 0,
          "tps_parcours": "2018-01-01T00:17:19"
         },
         {
          "created_x": "2019-01-15T08:52:13",
          "l": 1,
          "tps_parcours": "2018-01-01T00:24:29"
         },
         {
          "created_x": "2019-01-15T08:53:53",
          "l": -1,
          "tps_parcours": "2018-01-01T00:22:55"
         },
         {
          "created_x": "2019-01-15T08:54:24",
          "l": -1,
          "tps_parcours": "2018-01-01T00:22:27"
         },
         {
          "created_x": "2019-01-15T08:55:19",
          "l": 0,
          "tps_parcours": "2018-01-01T00:21:34"
         },
         {
          "created_x": "2019-01-15T08:55:10",
          "l": 1,
          "tps_parcours": "2018-01-01T00:22:11"
         },
         {
          "created_x": "2019-01-15T08:55:18",
          "l": 1,
          "tps_parcours": "2018-01-01T00:22:09"
         },
         {
          "created_x": "2019-01-15T08:56:07",
          "l": -1,
          "tps_parcours": "2018-01-01T00:21:31"
         },
         {
          "created_x": "2019-01-15T08:56:10",
          "l": -1,
          "tps_parcours": "2018-01-01T00:21:52"
         },
         {
          "created_x": "2019-01-15T08:49:56",
          "l": 1,
          "tps_parcours": "2018-01-01T00:28:31"
         },
         {
          "created_x": "2019-01-15T08:56:18",
          "l": 1,
          "tps_parcours": "2018-01-01T00:22:23"
         },
         {
          "created_x": "2019-01-15T08:57:34",
          "l": 1,
          "tps_parcours": "2018-01-01T00:21:16"
         },
         {
          "created_x": "2019-01-15T08:56:41",
          "l": -1,
          "tps_parcours": "2018-01-01T00:22:17"
         },
         {
          "created_x": "2019-01-15T08:57:46",
          "l": -1,
          "tps_parcours": "2018-01-01T00:21:15"
         },
         {
          "created_x": "2019-01-15T08:56:39",
          "l": 0,
          "tps_parcours": "2018-01-01T00:22:25"
         },
         {
          "created_x": "2019-01-15T08:57:54",
          "l": -1,
          "tps_parcours": "2018-01-01T00:21:15"
         },
         {
          "created_x": "2019-01-15T08:56:36",
          "l": -1,
          "tps_parcours": "2018-01-01T00:22:43"
         },
         {
          "created_x": "2019-01-15T08:58:08",
          "l": -1,
          "tps_parcours": "2018-01-01T00:21:22"
         },
         {
          "created_x": "2019-01-15T08:58:05",
          "l": 1,
          "tps_parcours": "2018-01-01T00:21:28"
         },
         {
          "created_x": "2019-01-15T08:57:51",
          "l": -1,
          "tps_parcours": "2018-01-01T00:21:59"
         },
         {
          "created_x": "2019-01-15T08:58:26",
          "l": 1,
          "tps_parcours": "2018-01-01T00:21:52"
         },
         {
          "created_x": "2019-01-15T08:58:53",
          "l": -1,
          "tps_parcours": "2018-01-01T00:21:35"
         },
         {
          "created_x": "2019-01-15T08:58:58",
          "l": 0,
          "tps_parcours": "2018-01-01T00:22:01"
         },
         {
          "created_x": "2019-01-15T08:58:46",
          "l": -1,
          "tps_parcours": "2018-01-01T00:22:18"
         },
         {
          "created_x": "2019-01-15T08:59:28",
          "l": -1,
          "tps_parcours": "2018-01-01T00:21:48"
         },
         {
          "created_x": "2019-01-15T08:58:38",
          "l": 0,
          "tps_parcours": "2018-01-01T00:22:40"
         },
         {
          "created_x": "2019-01-15T08:59:01",
          "l": 0,
          "tps_parcours": "2018-01-01T00:22:19"
         },
         {
          "created_x": "2019-01-15T08:58:44",
          "l": 0,
          "tps_parcours": "2018-01-01T00:22:42"
         },
         {
          "created_x": "2019-01-15T08:59:10",
          "l": 1,
          "tps_parcours": "2018-01-01T00:22:31"
         },
         {
          "created_x": "2019-01-15T08:54:41",
          "l": 1,
          "tps_parcours": "2018-01-01T00:27:39"
         },
         {
          "created_x": "2019-01-15T08:08:54",
          "l": -1,
          "tps_parcours": "2018-01-01T01:16:55"
         },
         {
          "created_x": "2019-01-15T08:40:04",
          "l": 1,
          "tps_parcours": "2018-01-01T00:46:19"
         },
         {
          "created_x": "2019-01-15T08:10:35",
          "l": 1,
          "tps_parcours": "2018-01-01T01:19:12"
         },
         {
          "created_x": "2019-01-15T08:33:06",
          "l": 1,
          "tps_parcours": "2018-01-01T00:57:35"
         },
         {
          "created_x": "2019-01-15T08:53:36",
          "l": 0,
          "tps_parcours": "2018-01-01T00:37:14"
         },
         {
          "created_x": "2019-01-15T08:21:04",
          "l": 0,
          "tps_parcours": "2018-01-01T01:12:47"
         },
         {
          "created_x": "2019-01-15T08:19:18",
          "l": 1,
          "tps_parcours": "2018-01-01T01:14:40"
         },
         {
          "created_x": "2019-01-15T08:26:47",
          "l": 0,
          "tps_parcours": "2018-01-01T01:07:47"
         },
         {
          "created_x": "2019-01-15T08:24:18",
          "l": 1,
          "tps_parcours": "2018-01-01T01:11:07"
         },
         {
          "created_x": "2019-01-15T08:55:16",
          "l": 0,
          "tps_parcours": "2018-01-01T00:41:30"
         },
         {
          "created_x": "2019-01-15T08:55:30",
          "l": 0,
          "tps_parcours": "2018-01-01T00:43:56"
         },
         {
          "created_x": "2019-01-15T08:45:12",
          "l": 0,
          "tps_parcours": "2018-01-01T00:54:15"
         },
         {
          "created_x": "2019-01-15T08:26:41",
          "l": 1,
          "tps_parcours": "2018-01-01T01:14:27"
         },
         {
          "created_x": "2019-01-15T08:31:03",
          "l": -1,
          "tps_parcours": "2018-01-01T01:12:51"
         },
         {
          "created_x": "2019-01-15T08:22:03",
          "l": 1,
          "tps_parcours": "2018-01-01T01:22:15"
         },
         {
          "created_x": "2019-01-15T08:48:01",
          "l": 1,
          "tps_parcours": "2018-01-01T00:57:54"
         },
         {
          "created_x": "2019-01-15T08:52:28",
          "l": -1,
          "tps_parcours": "2018-01-01T00:56:01"
         },
         {
          "created_x": "2019-01-15T08:32:22",
          "l": 1,
          "tps_parcours": "2018-01-01T01:17:24"
         },
         {
          "created_x": "2019-01-15T08:17:38",
          "l": 0,
          "tps_parcours": "2018-01-01T01:33:01"
         },
         {
          "created_x": "2019-01-15T08:44:26",
          "l": 0,
          "tps_parcours": "2018-01-01T01:06:24"
         },
         {
          "created_x": "2019-01-15T08:39:47",
          "l": -1,
          "tps_parcours": "2018-01-01T01:17:38"
         }
        ]
       },
       "encoding": {
        "color": {
         "field": "l",
         "type": "nominal"
        },
        "shape": {
         "field": "l",
         "type": "nominal"
        },
        "x": {
         "field": "created_x",
         "type": "temporal"
        },
        "y": {
         "field": "tps_parcours",
         "timeUnit": "hoursminutes",
         "type": "temporal"
        }
       },
       "mark": "point"
      },
      "image/png": "[encoded data removed]",
      "text/plain": [
       "<VegaLite 2 object>\n",
       "\n",
       "If you see this message, it means the renderer has not been properly enabled\n",
       "for the frontend that you are using. For more information, see\n",
       "https://altair-viz.github.io/user_guide/troubleshooting.html\n"
      ]
     },
     "execution_count": 243,
     "metadata": {},
     "output_type": "execute_result"
    }
   ],
   "source": [
    "graph_brut"
   ]
  },
  {
   "cell_type": "code",
   "execution_count": 244,
   "metadata": {},
   "outputs": [
    {
     "data": {
      "text/plain": [
       "Timedelta('0 days 01:22:15')"
      ]
     },
     "execution_count": 244,
     "metadata": {},
     "output_type": "execute_result"
    }
   ],
   "source": [
    "# rechercher le temps de parcours mini et max d'un pl passé entre 8h et 9h\n",
    "objet.df_tps_parcours_pl_ok.tps_parcours.min()\n",
    "objet.df_tps_parcours_pl_ok.tps_parcours.max()"
   ]
  },
  {
   "cell_type": "code",
   "execution_count": 215,
   "metadata": {},
   "outputs": [],
   "source": [
    "#rechercher le df des cameras 4 et 7, à parir de du précedent + tempsde parcours mini"
   ]
  },
  {
   "cell_type": "code",
   "execution_count": 245,
   "metadata": {},
   "outputs": [],
   "source": [
    "df_8h_9h_cam4_cam7=t.df_temps_parcours_moyen(df_journee,'2019-01-15 08:15:00',83,2,4,7)#param date debut et start selon les valeurs ci-dessus"
   ]
  },
  {
   "cell_type": "code",
   "execution_count": 246,
   "metadata": {},
   "outputs": [],
   "source": [
    "stat8h_9h_cam4_cam7=t.carac_df(df_8h_9h_cam4_cam7)"
   ]
  },
  {
   "cell_type": "code",
   "execution_count": 247,
   "metadata": {},
   "outputs": [],
   "source": [
    "stat_8h9h_cam4_cam7=t.carac_df(df_8h_9h_cam4_cam7)"
   ]
  },
  {
   "cell_type": "code",
   "execution_count": 248,
   "metadata": {},
   "outputs": [],
   "source": [
    "pl_8h9h_cam45=stat_8h9h_cam4_cam7.df_tps_parcours_pl_final"
   ]
  },
  {
   "cell_type": "code",
   "execution_count": 249,
   "metadata": {},
   "outputs": [],
   "source": [
    "pl_8h9h_cam194=stat8h_9h_cam4_cam5.df_tps_parcours_pl_final"
   ]
  },
  {
   "cell_type": "code",
   "execution_count": 254,
   "metadata": {},
   "outputs": [],
   "source": [
    "transit_8h9h_cam19_7=pd.merge(pl_8h9h_cam45,pl_8h9h_cam194,on='immat')"
   ]
  },
  {
   "cell_type": "code",
   "execution_count": 255,
   "metadata": {},
   "outputs": [
    {
     "data": {
      "text/html": [
       "<div>\n",
       "<style scoped>\n",
       "    .dataframe tbody tr th:only-of-type {\n",
       "        vertical-align: middle;\n",
       "    }\n",
       "\n",
       "    .dataframe tbody tr th {\n",
       "        vertical-align: top;\n",
       "    }\n",
       "\n",
       "    .dataframe thead th {\n",
       "        text-align: right;\n",
       "    }\n",
       "</style>\n",
       "<table border=\"1\" class=\"dataframe\">\n",
       "  <thead>\n",
       "    <tr style=\"text-align: right;\">\n",
       "      <th></th>\n",
       "      <th>created_y_x</th>\n",
       "      <th>created_x_x</th>\n",
       "      <th>id_x_x</th>\n",
       "      <th>camera_id_x_x</th>\n",
       "      <th>immat</th>\n",
       "      <th>fiability_x_x</th>\n",
       "      <th>l_x_x</th>\n",
       "      <th>state_x_x</th>\n",
       "      <th>id_y_x</th>\n",
       "      <th>camera_id_y_x</th>\n",
       "      <th>...</th>\n",
       "      <th>l_x_y</th>\n",
       "      <th>state_x_y</th>\n",
       "      <th>id_y_y</th>\n",
       "      <th>camera_id_y_y</th>\n",
       "      <th>fiability_y_y</th>\n",
       "      <th>l_y_y</th>\n",
       "      <th>state_y_y</th>\n",
       "      <th>l_y</th>\n",
       "      <th>fiability_y</th>\n",
       "      <th>tps_parcours_y</th>\n",
       "    </tr>\n",
       "  </thead>\n",
       "  <tbody>\n",
       "    <tr>\n",
       "      <th>0</th>\n",
       "      <td>2019-01-15 08:45:56</td>\n",
       "      <td>2019-01-15 08:30:09</td>\n",
       "      <td>14842916</td>\n",
       "      <td>4</td>\n",
       "      <td>b366b63716a35611218fb7c112a8a9fbe2460fc4</td>\n",
       "      <td>99</td>\n",
       "      <td>1</td>\n",
       "      <td>PL</td>\n",
       "      <td>5127519</td>\n",
       "      <td>7</td>\n",
       "      <td>...</td>\n",
       "      <td>1</td>\n",
       "      <td>PL</td>\n",
       "      <td>14842916</td>\n",
       "      <td>4</td>\n",
       "      <td>99</td>\n",
       "      <td>1</td>\n",
       "      <td>PL</td>\n",
       "      <td>1</td>\n",
       "      <td>True</td>\n",
       "      <td>00:22:57</td>\n",
       "    </tr>\n",
       "    <tr>\n",
       "      <th>1</th>\n",
       "      <td>2019-01-15 09:02:35</td>\n",
       "      <td>2019-01-15 08:45:33</td>\n",
       "      <td>14843562</td>\n",
       "      <td>4</td>\n",
       "      <td>1f63553f93291a69c87c3ea2011e5ccca456e29d</td>\n",
       "      <td>99</td>\n",
       "      <td>1</td>\n",
       "      <td>FR</td>\n",
       "      <td>5127897</td>\n",
       "      <td>7</td>\n",
       "      <td>...</td>\n",
       "      <td>1</td>\n",
       "      <td>FR</td>\n",
       "      <td>14843562</td>\n",
       "      <td>4</td>\n",
       "      <td>99</td>\n",
       "      <td>1</td>\n",
       "      <td>FR</td>\n",
       "      <td>1</td>\n",
       "      <td>True</td>\n",
       "      <td>00:21:41</td>\n",
       "    </tr>\n",
       "    <tr>\n",
       "      <th>2</th>\n",
       "      <td>2019-01-15 09:06:03</td>\n",
       "      <td>2019-01-15 08:50:34</td>\n",
       "      <td>14843763</td>\n",
       "      <td>4</td>\n",
       "      <td>0d1c442aec8cd1e2dacf16f73b1a442d66cc0d65</td>\n",
       "      <td>99</td>\n",
       "      <td>1</td>\n",
       "      <td>FR</td>\n",
       "      <td>5127972</td>\n",
       "      <td>7</td>\n",
       "      <td>...</td>\n",
       "      <td>1</td>\n",
       "      <td>FR</td>\n",
       "      <td>14843763</td>\n",
       "      <td>4</td>\n",
       "      <td>99</td>\n",
       "      <td>1</td>\n",
       "      <td>FR</td>\n",
       "      <td>1</td>\n",
       "      <td>True</td>\n",
       "      <td>00:20:19</td>\n",
       "    </tr>\n",
       "    <tr>\n",
       "      <th>3</th>\n",
       "      <td>2019-01-15 09:07:34</td>\n",
       "      <td>2019-01-15 08:51:04</td>\n",
       "      <td>14843781</td>\n",
       "      <td>4</td>\n",
       "      <td>aeba52c620239d1b65fe610f0b79d50295dac521</td>\n",
       "      <td>99</td>\n",
       "      <td>1</td>\n",
       "      <td>ES</td>\n",
       "      <td>5127997</td>\n",
       "      <td>7</td>\n",
       "      <td>...</td>\n",
       "      <td>1</td>\n",
       "      <td>ES</td>\n",
       "      <td>14843781</td>\n",
       "      <td>4</td>\n",
       "      <td>99</td>\n",
       "      <td>1</td>\n",
       "      <td>ES</td>\n",
       "      <td>1</td>\n",
       "      <td>True</td>\n",
       "      <td>00:20:03</td>\n",
       "    </tr>\n",
       "    <tr>\n",
       "      <th>4</th>\n",
       "      <td>2019-01-15 09:14:49</td>\n",
       "      <td>2019-01-15 08:58:04</td>\n",
       "      <td>14844012</td>\n",
       "      <td>4</td>\n",
       "      <td>0e1785cd538dfa241dd3727f8f5fec36eb479b23</td>\n",
       "      <td>99</td>\n",
       "      <td>1</td>\n",
       "      <td>FR</td>\n",
       "      <td>5128144</td>\n",
       "      <td>7</td>\n",
       "      <td>...</td>\n",
       "      <td>1</td>\n",
       "      <td>FR</td>\n",
       "      <td>14844012</td>\n",
       "      <td>4</td>\n",
       "      <td>99</td>\n",
       "      <td>1</td>\n",
       "      <td>FR</td>\n",
       "      <td>1</td>\n",
       "      <td>True</td>\n",
       "      <td>00:21:46</td>\n",
       "    </tr>\n",
       "    <tr>\n",
       "      <th>5</th>\n",
       "      <td>2019-01-15 09:22:53</td>\n",
       "      <td>2019-01-15 09:06:04</td>\n",
       "      <td>14844292</td>\n",
       "      <td>4</td>\n",
       "      <td>3218e126fe42f3ccc8ca7fde5852eaa95131549a</td>\n",
       "      <td>99</td>\n",
       "      <td>1</td>\n",
       "      <td>ES</td>\n",
       "      <td>5128319</td>\n",
       "      <td>7</td>\n",
       "      <td>...</td>\n",
       "      <td>1</td>\n",
       "      <td>ES</td>\n",
       "      <td>14844292</td>\n",
       "      <td>4</td>\n",
       "      <td>99</td>\n",
       "      <td>1</td>\n",
       "      <td>ES</td>\n",
       "      <td>1</td>\n",
       "      <td>True</td>\n",
       "      <td>00:21:26</td>\n",
       "    </tr>\n",
       "    <tr>\n",
       "      <th>6</th>\n",
       "      <td>2019-01-15 09:35:35</td>\n",
       "      <td>2019-01-15 09:19:33</td>\n",
       "      <td>14844752</td>\n",
       "      <td>4</td>\n",
       "      <td>997b36d9edf2d74ee55fe140198b2d7fd06e84fd</td>\n",
       "      <td>99</td>\n",
       "      <td>1</td>\n",
       "      <td>ES</td>\n",
       "      <td>5128576</td>\n",
       "      <td>7</td>\n",
       "      <td>...</td>\n",
       "      <td>1</td>\n",
       "      <td>ES</td>\n",
       "      <td>14844752</td>\n",
       "      <td>4</td>\n",
       "      <td>99</td>\n",
       "      <td>1</td>\n",
       "      <td>ES</td>\n",
       "      <td>1</td>\n",
       "      <td>True</td>\n",
       "      <td>00:21:28</td>\n",
       "    </tr>\n",
       "    <tr>\n",
       "      <th>7</th>\n",
       "      <td>2019-01-15 09:49:45</td>\n",
       "      <td>2019-01-15 09:03:54</td>\n",
       "      <td>14844211</td>\n",
       "      <td>4</td>\n",
       "      <td>7e291ea04dc806c975fc823b1ab0a70ccf11d7a9</td>\n",
       "      <td>99</td>\n",
       "      <td>1</td>\n",
       "      <td>FR</td>\n",
       "      <td>5128889</td>\n",
       "      <td>7</td>\n",
       "      <td>...</td>\n",
       "      <td>1</td>\n",
       "      <td>FR</td>\n",
       "      <td>14844211</td>\n",
       "      <td>4</td>\n",
       "      <td>99</td>\n",
       "      <td>1</td>\n",
       "      <td>FR</td>\n",
       "      <td>1</td>\n",
       "      <td>True</td>\n",
       "      <td>00:22:15</td>\n",
       "    </tr>\n",
       "  </tbody>\n",
       "</table>\n",
       "<p>8 rows × 31 columns</p>\n",
       "</div>"
      ],
      "text/plain": [
       "          created_y_x         created_x_x    id_x_x  camera_id_x_x  \\\n",
       "0 2019-01-15 08:45:56 2019-01-15 08:30:09  14842916              4   \n",
       "1 2019-01-15 09:02:35 2019-01-15 08:45:33  14843562              4   \n",
       "2 2019-01-15 09:06:03 2019-01-15 08:50:34  14843763              4   \n",
       "3 2019-01-15 09:07:34 2019-01-15 08:51:04  14843781              4   \n",
       "4 2019-01-15 09:14:49 2019-01-15 08:58:04  14844012              4   \n",
       "5 2019-01-15 09:22:53 2019-01-15 09:06:04  14844292              4   \n",
       "6 2019-01-15 09:35:35 2019-01-15 09:19:33  14844752              4   \n",
       "7 2019-01-15 09:49:45 2019-01-15 09:03:54  14844211              4   \n",
       "\n",
       "                                      immat  fiability_x_x  l_x_x state_x_x  \\\n",
       "0  b366b63716a35611218fb7c112a8a9fbe2460fc4             99      1        PL   \n",
       "1  1f63553f93291a69c87c3ea2011e5ccca456e29d             99      1        FR   \n",
       "2  0d1c442aec8cd1e2dacf16f73b1a442d66cc0d65             99      1        FR   \n",
       "3  aeba52c620239d1b65fe610f0b79d50295dac521             99      1        ES   \n",
       "4  0e1785cd538dfa241dd3727f8f5fec36eb479b23             99      1        FR   \n",
       "5  3218e126fe42f3ccc8ca7fde5852eaa95131549a             99      1        ES   \n",
       "6  997b36d9edf2d74ee55fe140198b2d7fd06e84fd             99      1        ES   \n",
       "7  7e291ea04dc806c975fc823b1ab0a70ccf11d7a9             99      1        FR   \n",
       "\n",
       "    id_y_x  camera_id_y_x       ...        l_x_y  state_x_y    id_y_y  \\\n",
       "0  5127519              7       ...            1         PL  14842916   \n",
       "1  5127897              7       ...            1         FR  14843562   \n",
       "2  5127972              7       ...            1         FR  14843763   \n",
       "3  5127997              7       ...            1         ES  14843781   \n",
       "4  5128144              7       ...            1         FR  14844012   \n",
       "5  5128319              7       ...            1         ES  14844292   \n",
       "6  5128576              7       ...            1         ES  14844752   \n",
       "7  5128889              7       ...            1         FR  14844211   \n",
       "\n",
       "   camera_id_y_y  fiability_y_y l_y_y state_y_y l_y  fiability_y  \\\n",
       "0              4             99     1        PL   1         True   \n",
       "1              4             99     1        FR   1         True   \n",
       "2              4             99     1        FR   1         True   \n",
       "3              4             99     1        ES   1         True   \n",
       "4              4             99     1        FR   1         True   \n",
       "5              4             99     1        ES   1         True   \n",
       "6              4             99     1        ES   1         True   \n",
       "7              4             99     1        FR   1         True   \n",
       "\n",
       "   tps_parcours_y  \n",
       "0        00:22:57  \n",
       "1        00:21:41  \n",
       "2        00:20:19  \n",
       "3        00:20:03  \n",
       "4        00:21:46  \n",
       "5        00:21:26  \n",
       "6        00:21:28  \n",
       "7        00:22:15  \n",
       "\n",
       "[8 rows x 31 columns]"
      ]
     },
     "execution_count": 255,
     "metadata": {},
     "output_type": "execute_result"
    }
   ],
   "source": [
    "transit_8h9h_cam19_7"
   ]
  },
  {
   "cell_type": "code",
   "execution_count": null,
   "metadata": {},
   "outputs": [],
   "source": []
  }
 ],
 "metadata": {
  "kernelspec": {
   "display_name": "Python 3",
   "language": "python",
   "name": "python3"
  },
  "language_info": {
   "codemirror_mode": {
    "name": "ipython",
    "version": 3
   },
   "file_extension": ".py",
   "mimetype": "text/x-python",
   "name": "python",
   "nbconvert_exporter": "python",
   "pygments_lexer": "ipython3",
   "version": "3.7.0"
  }
 },
 "nbformat": 4,
 "nbformat_minor": 2
}
