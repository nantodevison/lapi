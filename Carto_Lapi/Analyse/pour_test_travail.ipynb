{
 "cells": [
  {
   "cell_type": "markdown",
   "metadata": {},
   "source": [
    "Test du projet de class trajets indirect"
   ]
  },
  {
   "cell_type": "code",
   "execution_count": 1,
   "metadata": {},
   "outputs": [],
   "source": [
    "%load_ext autoreload\n",
    "%autoreload 2\n",
    "import sys #c'est pas propre mais pour le moment pour importer mes modules perso dans le notebook je ne sais pas faire\n",
    "sys.path.append(r'C:\\Users\\martin.schoreisz\\git\\Outils\\Outils\\Martin_Perso')\n",
    "import traitement_od as t\n",
    "import pandas as pd\n",
    "import numpy as np\n",
    "import altair as alt\n",
    "import datetime as dt\n",
    "pd.set_option('display.max_colwidth', 1000)\n",
    "import os\n",
    "from sklearn.cluster import DBSCAN"
   ]
  },
  {
   "cell_type": "code",
   "execution_count": 549,
   "metadata": {},
   "outputs": [],
   "source": [
    "df_journee=t.ouvrir_fichier_lapi('2019-01-29 00:00:00','2019-01-30 23:59:59')"
   ]
  },
  {
   "cell_type": "code",
   "execution_count": 551,
   "metadata": {},
   "outputs": [
    {
     "data": {
      "text/html": [
       "<div>\n",
       "<style scoped>\n",
       "    .dataframe tbody tr th:only-of-type {\n",
       "        vertical-align: middle;\n",
       "    }\n",
       "\n",
       "    .dataframe tbody tr th {\n",
       "        vertical-align: top;\n",
       "    }\n",
       "\n",
       "    .dataframe thead th {\n",
       "        text-align: right;\n",
       "    }\n",
       "</style>\n",
       "<table border=\"1\" class=\"dataframe\">\n",
       "  <thead>\n",
       "    <tr style=\"text-align: right;\">\n",
       "      <th></th>\n",
       "      <th>camera_id</th>\n",
       "      <th>created</th>\n",
       "      <th>immat</th>\n",
       "      <th>fiability</th>\n",
       "      <th>l</th>\n",
       "      <th>state</th>\n",
       "    </tr>\n",
       "  </thead>\n",
       "  <tbody>\n",
       "  </tbody>\n",
       "</table>\n",
       "</div>"
      ],
      "text/plain": [
       "Empty DataFrame\n",
       "Columns: [camera_id, created, immat, fiability, l, state]\n",
       "Index: []"
      ]
     },
     "execution_count": 551,
     "metadata": {},
     "output_type": "execute_result"
    }
   ],
   "source": [
    "df_journee.loc[df_journee['camera_id']==16]"
   ]
  },
  {
   "cell_type": "code",
   "execution_count": 567,
   "metadata": {},
   "outputs": [],
   "source": [
    "liste_trajet_locale=(pd.DataFrame([{'origine':'A63','destination':'A10','cam_o':14, 'cam_d':11, 'trajets':[\n",
    "                                                        {'cameras':[14,19,4,5,11],'type_trajet':'indirect'},\n",
    "                                                        {'cameras':[14,19,1,5,11],'type_trajet':'indirect'},\n",
    "                                                        {'cameras':[14,4,5,11],'type_trajet':'indirect'},\n",
    "                                                        {'cameras':[14,1,5,11],'type_trajet':'indirect'},\n",
    "                                                        {'cameras':[14,19,5,11],'type_trajet':'indirect'},\n",
    "                                                        {'cameras':[14,19,4,11],'type_trajet':'indirect'},\n",
    "                                                        {'cameras':[14,19,1,11],'type_trajet':'indirect'},\n",
    "                                                        {'cameras':[14,4,11],'type_trajet':'indirect'},\n",
    "                                                        {'cameras':[14,1,11],'type_trajet':'indirect'},\n",
    "                                                        {'cameras':[14,5,11],'type_trajet':'indirect'},\n",
    "                                                        {'cameras':[14,19,11],'type_trajet':'indirect'},\n",
    "                                                        {'cameras':[14,11],'type_trajet':'direct'}\n",
    "                                                       ]},\n",
    "                            {'origine':'A10','destination':'A63','cam_o':12, 'cam_d':13,'trajets':[{'cameras':[12,6,2,18,13],'type_trajet':'indirect'},\n",
    "                                                        {'cameras':[12,6,3,18,13],'type_trajet':'indirect'},\n",
    "                                                        {'cameras':[12,6,2,13],'type_trajet':'indirect'},\n",
    "                                                        {'cameras':[12,6,3,13],'type_trajet':'indirect'},\n",
    "                                                        {'cameras':[12,6,18,13],'type_trajet':'indirect'},\n",
    "                                                        {'cameras':[12,2,18,13],'type_trajet':'indirect'},\n",
    "                                                        {'cameras':[12,3,18,13],'type_trajet':'indirect'},\n",
    "                                                        {'cameras':[12,2,13],'type_trajet':'indirect'},\n",
    "                                                        {'cameras':[12,3,13],'type_trajet':'indirect'},\n",
    "                                                        {'cameras':[12,6,13],'type_trajet':'indirect'},\n",
    "                                                        {'cameras':[12,18,13],'type_trajet':'indirect'},\n",
    "                                                        {'cameras':[12,13],'type_trajet':'direct'},\n",
    "                                                       ]},\n",
    "                            {'origine':'A63','destination':'N10','cam_o':14, 'cam_d':5,'trajets':[{'cameras':[14,19,4,5],'type_trajet':'indirect'},\n",
    "                                                        {'cameras':[14,19,1,5],'type_trajet':'indirect'},\n",
    "                                                        {'cameras':[14,4,5],'type_trajet':'indirect'},\n",
    "                                                        {'cameras':[14,1,5],'type_trajet':'indirect'},\n",
    "                                                        {'cameras':[14,5],'type_trajet':'direct'},\n",
    "                                                       ]},\n",
    "                            {'origine':'N10','destination':'A63','cam_o':6, 'cam_d':13,'trajets':[{'cameras':[6,2,18,13],'type_trajet':'indirect'},\n",
    "                                                        {'cameras':[6,3,18,13],'type_trajet':'indirect'},\n",
    "                                                        {'cameras':[6,2,13],'type_trajet':'indirect'},\n",
    "                                                        {'cameras':[6,3,13],'type_trajet':'indirect'},\n",
    "                                                        {'cameras':[6,13],'type_trajet':'direct'},\n",
    "                                                       ]},\n",
    "                            {'origine':'A62','destination':'A10','cam_o':10, 'cam_d':11,'trajets':[{'cameras':[10,4,5,11],'type_trajet':'indirect'},\n",
    "                                                        {'cameras':[10,4,11],'type_trajet':'indirect'},\n",
    "                                                        {'cameras':[10,5,11],'type_trajet':'indirect'},\n",
    "                                                        {'cameras':[10,11],'type_trajet':'direct'}\n",
    "                                                       ]},\n",
    "                            {'origine':'A10','destination':'A62','cam_o':12, 'cam_d':9,'trajets':[{'cameras':[12,6,3,9],'type_trajet':'indirect'},\n",
    "                                                        {'cameras':[12,3,9],'type_trajet':'indirect'},\n",
    "                                                        {'cameras':[12,6,9],'type_trajet':'indirect'},\n",
    "                                                        {'cameras':[12,9],'type_trajet':'direct'}\n",
    "                                                       ]},\n",
    "                            {'origine':'A62','destination':'N10','cam_o':10, 'cam_d':5,'trajets':[{'cameras':[10,4,5],'type_trajet':'indirect'},\n",
    "                                                        {'cameras':[10,5],'type_trajet':'direct'},\n",
    "                                                       ]},\n",
    "                            {'origine':'N10','destination':'A62','cam_o':6, 'cam_d':9,'trajets':[{'cameras':[6,3,9],'type_trajet':'indirect'},\n",
    "                                                        {'cameras':[6,9],'type_trajet':'direct'},\n",
    "                                                       ]},\n",
    "                            {'origine':'A63','destination':'A62','cam_o':14, 'cam_d':9,'trajets':[{'cameras':[14,19,9],'type_trajet':'indirect'},\n",
    "                                                        {'cameras':[14,9],'type_trajet':'direct'},\n",
    "                                                       ]},\n",
    "                            {'origine':'A62','destination':'A63','cam_o':10, 'cam_d':13,'trajets':[{'cameras':[10,18,13],'type_trajet':'indirect'},\n",
    "                                                        {'cameras':[10,13],'type_trajet':'direct'},\n",
    "                                                       ]},\n",
    "                            {'origine':'A89','destination':'A63','cam_o':8 ,'cam_d':13,'trajets':[{'cameras':[8,3,18,13],'type_trajet':'indirect'},\n",
    "                                                        {'cameras':[8,18,13],'type_trajet':'indirect'},\n",
    "                                                        {'cameras':[8,3,13],'type_trajet':'indirect'},\n",
    "                                                        {'cameras':[8,13],'type_trajet':'direct'},\n",
    "                                                       ]},\n",
    "                            {'origine':'A63','destination':'A89','cam_o':14, 'cam_d':7,'trajets':[{'cameras':[14,19,4,7],'type_trajet':'indirect'},\n",
    "                                                        {'cameras':[14,4,7],'type_trajet':'indirect'},\n",
    "                                                        {'cameras':[14,19,7],'type_trajet':'indirect'},\n",
    "                                                        {'cameras':[14,7],'type_trajet':'direct'},\n",
    "                                                       ]},\n",
    "                            {'origine':'A89','destination':'A62','cam_o':8, 'cam_d':9,'trajets':[{'cameras':[8,3,9],'type_trajet':'indirect'},\n",
    "                                                        {'cameras':[8,9],'type_trajet':'direct'}\n",
    "                                                       ]},\n",
    "                            {'origine':'A62','destination':'A89','cam_o':10, 'cam_d':7,'trajets':[{'cameras':[10,4,7],'type_trajet':'indirect'},\n",
    "                                                        {'cameras':[10,7],'type_trajet':'direct'}\n",
    "                                                       ]},\n",
    "                            {'origine':'A89','destination':'A10','cam_o':8, 'cam_d':11,'trajets':[{'cameras':[8,5,11],'type_trajet':'indirect'},\n",
    "                                                        {'cameras':[8,11],'type_trajet':'direct'}\n",
    "                                                       ]},\n",
    "                            {'origine':'A10','destination':'A89','cam_o':12, 'cam_d':7,'trajets':[{'cameras':[12,6,7],'type_trajet':'indirect'},\n",
    "                                                        {'cameras':[12,7],'type_trajet':'direct'}\n",
    "                                                       ]},\n",
    "                            {'origine':'A89','destination':'N10','cam_o':8, 'cam_d':5,'trajets':[{'cameras':[8,5],'type_trajet':'direct'}\n",
    "                                                       ]},\n",
    "                            {'origine':'N10','destination':'A89','cam_o':6, 'cam_d':7,'trajets':[{'cameras':[6,7],'type_trajet':'direct'}\n",
    "                                                       ]},\n",
    "                            {'origine':'A10','destination':'A630','cam_o':12, 'cam_d':18,'trajets':[{'cameras':[12,6,2,18],'type_trajet':'indirect'},\n",
    "                                                         {'cameras':[12,6,3,18],'type_trajet':'indirect'},\n",
    "                                                         {'cameras':[12,2,18],'type_trajet':'indirect'},\n",
    "                                                         {'cameras':[12,3,18],'type_trajet':'indirect'},\n",
    "                                                         {'cameras':[12,6,18],'type_trajet':'indirect'},\n",
    "                                                         {'cameras':[12,18],'type_trajet':'direct'},\n",
    "                                                        ]},\n",
    "                            {'origine':'A630','destination':'A10','cam_o':19, 'cam_d':18,'trajets':[{'cameras':[19,4,5,11],'type_trajet':'indirect'},\n",
    "                                                         {'cameras':[19,1,5,11],'type_trajet':'indirect'},\n",
    "                                                         {'cameras':[19,1,11],'type_trajet':'indirect'},\n",
    "                                                         {'cameras':[19,4,11],'type_trajet':'indirect'},\n",
    "                                                         {'cameras':[19,5,11],'type_trajet':'indirect'},\n",
    "                                                         {'cameras':[19,11],'type_trajet':'direct'},\n",
    "                                                       ]},\n",
    "                            {'origine':'A630','destination':'A62','cam_o':19, 'cam_d':9,'trajets':[{'cameras':[19,9],'type_trajet':'direct'}\n",
    "                                                        ]},\n",
    "                            {'origine':'A62','destination':'A630','cam_o':10, 'cam_d':18,'trajets':[{'cameras':[10,18],'type_trajet':'direct'}\n",
    "                                                        ]},\n",
    "                            {'origine':'A630','destination':'A89','cam_o':19, 'cam_d':7,'trajets':[{'cameras':[19,4,7],'type_trajet':'indirect'},\n",
    "                                                         {'cameras':[19,7],'type_trajet':'direct'}\n",
    "                                                        ]},\n",
    "                            {'origine':'A89','destination':'A630','cam_o':8, 'cam_d':18,'trajets':[{'cameras':[8,3,18],'type_trajet':'indirect'},\n",
    "                                                         {'cameras':[8,18],'type_trajet':'direct'}\n",
    "                                                        ]},\n",
    "                            {'origine':'N10','destination':'A630','cam_o':6, 'cam_d':18,'trajets':[{'cameras':[6,2,18],'type_trajet':'indirect'},\n",
    "                                                         {'cameras':[6,3,18],'type_trajet':'indirect'},\n",
    "                                                         {'cameras':[6,18],'type_trajet':'direct'},\n",
    "                                                        ]},\n",
    "                            {'origine':'A630','destination':'N10','cam_o':19, 'cam_d':5,'trajets':[{'cameras':[19,1,5],'type_trajet':'indirect'},\n",
    "                                                         {'cameras':[19,4,5],'type_trajet':'indirect'},\n",
    "                                                         {'cameras':[19,5],'type_trajet':'direct'},\n",
    "                                                        ]}\n",
    "                           ]))[['origine', 'destination', 'cam_o', 'cam_d','trajets']]"
   ]
  },
  {
   "cell_type": "code",
   "execution_count": 690,
   "metadata": {},
   "outputs": [
    {
     "data": {
      "text/plain": [
       "[]"
      ]
     },
     "execution_count": 690,
     "metadata": {},
     "output_type": "execute_result"
    }
   ],
   "source": [
    "#trouver o et d selon num_camera\n",
    "liste_trajet_od=([tuple(cam['cameras']) for camera in liste_trajet_locale.loc[(liste_trajet_locale['cam_d']==(12)) & \n",
    "                                                                              (liste_trajet_locale['cam_o']==(14))].trajets for cam in camera])\n",
    "trajet_max=[]\n",
    "for trajet in liste_trajet_od : \n",
    "    if len(trajet)==max([len(trajet) for trajet in liste_trajet_od]) : \n",
    "        trajet_max.append(trajet)\n",
    "trajet_max"
   ]
  },
  {
   "cell_type": "code",
   "execution_count": 661,
   "metadata": {},
   "outputs": [
    {
     "name": "stdout",
     "output_type": "stream",
     "text": [
      "0 A63 A10 14 11\n",
      "1 A10 A63 12 13\n",
      "2 A63 N10 14 5\n",
      "3 N10 A63 6 13\n",
      "4 A62 A10 10 11\n",
      "5 A10 A62 12 9\n",
      "6 A62 N10 10 5\n",
      "7 N10 A62 6 9\n",
      "8 A63 A62 14 9\n",
      "9 A62 A63 10 13\n",
      "10 A89 A63 8 13\n",
      "11 A63 A89 14 7\n",
      "12 A89 A62 8 9\n",
      "13 A62 A89 10 7\n",
      "14 A89 A10 8 11\n",
      "15 A10 A89 12 7\n",
      "16 A89 N10 8 5\n",
      "17 N10 A89 6 7\n",
      "18 A10 A630 12 18\n",
      "19 A630 A10 19 18\n",
      "20 A630 A62 19 9\n",
      "21 A62 A630 10 18\n",
      "22 A630 A89 19 7\n",
      "23 A89 A630 8 18\n",
      "24 N10 A630 6 18\n",
      "25 A630 N10 19 5\n"
     ]
    }
   ],
   "source": [
    "for index, value in liste_trajet_locale.iterrows() :\n",
    "    print(index,value[0],value[1],value[2], value[3])"
   ]
  },
  {
   "cell_type": "code",
   "execution_count": 668,
   "metadata": {},
   "outputs": [
    {
     "name": "stdout",
     "output_type": "stream",
     "text": [
      "[(6, 2, 18, 13), (6, 3, 18, 13)]\n"
     ]
    },
    {
     "ename": "PasDePlError",
     "evalue": "pas de PL sur la période et les cameras visées",
     "output_type": "error",
     "traceback": [
      "\u001b[1;31m---------------------------------------------------------------------------\u001b[0m",
      "\u001b[1;31mPasDePlError\u001b[0m                              Traceback (most recent call last)",
      "\u001b[1;32m<ipython-input-668-d1d4a12977fd>\u001b[0m in \u001b[0;36m<module>\u001b[1;34m\u001b[0m\n\u001b[1;32m----> 1\u001b[1;33m \u001b[0mtest\u001b[0m\u001b[1;33m=\u001b[0m\u001b[0mt\u001b[0m\u001b[1;33m.\u001b[0m\u001b[0mtrajet\u001b[0m\u001b[1;33m(\u001b[0m\u001b[0mdf_journee\u001b[0m\u001b[1;33m,\u001b[0m \u001b[1;34m'2019-01-29 00:00:00'\u001b[0m\u001b[1;33m,\u001b[0m \u001b[1;36m60\u001b[0m\u001b[1;33m,\u001b[0m \u001b[1;36m16\u001b[0m\u001b[1;33m,\u001b[0m \u001b[1;33m[\u001b[0m\u001b[1;36m6\u001b[0m\u001b[1;33m,\u001b[0m\u001b[1;36m13\u001b[0m\u001b[1;33m]\u001b[0m\u001b[1;33m,\u001b[0m \u001b[0mtype\u001b[0m\u001b[1;33m=\u001b[0m\u001b[1;34m'Global'\u001b[0m\u001b[1;33m)\u001b[0m\u001b[1;33m\u001b[0m\u001b[0m\n\u001b[0m",
      "\u001b[1;32m~\\git\\lapi\\Carto_Lapi\\Analyse\\traitement_od.py\u001b[0m in \u001b[0;36m__init__\u001b[1;34m(self, df, date_debut, duree, temps_max_autorise, cameras, type)\u001b[0m\n\u001b[0;32m    230\u001b[0m                 \u001b[0mtps_max\u001b[0m\u001b[1;33m=\u001b[0m\u001b[1;33m[\u001b[0m\u001b[1;33m]\u001b[0m\u001b[1;33m\u001b[0m\u001b[0m\n\u001b[0;32m    231\u001b[0m                 \u001b[1;32mfor\u001b[0m \u001b[0mtrajet_indirect\u001b[0m \u001b[1;32min\u001b[0m \u001b[0mself\u001b[0m\u001b[1;33m.\u001b[0m\u001b[0mtrajet_complet\u001b[0m \u001b[1;33m:\u001b[0m\u001b[1;33m\u001b[0m\u001b[0m\n\u001b[1;32m--> 232\u001b[1;33m                     \u001b[0mtps_max\u001b[0m\u001b[1;33m.\u001b[0m\u001b[0mappend\u001b[0m\u001b[1;33m(\u001b[0m\u001b[0mtrajet\u001b[0m\u001b[1;33m(\u001b[0m\u001b[0mdf\u001b[0m\u001b[1;33m,\u001b[0m\u001b[0mdate_debut\u001b[0m\u001b[1;33m,\u001b[0m \u001b[0mduree\u001b[0m\u001b[1;33m,\u001b[0m \u001b[0mtemps_max_autorise\u001b[0m\u001b[1;33m,\u001b[0m \u001b[0mtrajet_indirect\u001b[0m\u001b[1;33m)\u001b[0m\u001b[1;33m.\u001b[0m\u001b[0mtemps_parcours_max\u001b[0m\u001b[1;33m)\u001b[0m\u001b[1;33m\u001b[0m\u001b[0m\n\u001b[0m\u001b[0;32m    233\u001b[0m                 \u001b[0mtps_max\u001b[0m\u001b[1;33m=\u001b[0m\u001b[0mnp\u001b[0m\u001b[1;33m.\u001b[0m\u001b[0mmax\u001b[0m\u001b[1;33m(\u001b[0m\u001b[0mtps_max\u001b[0m\u001b[1;33m)\u001b[0m\u001b[1;33m\u001b[0m\u001b[0m\n\u001b[0;32m    234\u001b[0m                 \u001b[1;31m#rechercher le df des passages avec\u001b[0m\u001b[1;33m\u001b[0m\u001b[1;33m\u001b[0m\u001b[0m\n",
      "\u001b[1;32m~\\git\\lapi\\Carto_Lapi\\Analyse\\traitement_od.py\u001b[0m in \u001b[0;36m__init__\u001b[1;34m(self, df, date_debut, duree, temps_max_autorise, cameras, type)\u001b[0m\n\u001b[0;32m    235\u001b[0m                 \u001b[0mself\u001b[0m\u001b[1;33m.\u001b[0m\u001b[0mdf_global\u001b[0m\u001b[1;33m=\u001b[0m\u001b[0mself\u001b[0m\u001b[1;33m.\u001b[0m\u001b[0mloc_trajet_global\u001b[0m\u001b[1;33m(\u001b[0m\u001b[0mtps_max\u001b[0m\u001b[1;33m)\u001b[0m\u001b[1;33m\u001b[0m\u001b[0m\n\u001b[0;32m    236\u001b[0m         \u001b[1;32melse\u001b[0m \u001b[1;33m:\u001b[0m\u001b[1;33m\u001b[0m\u001b[0m\n\u001b[1;32m--> 237\u001b[1;33m             \u001b[0mself\u001b[0m\u001b[1;33m.\u001b[0m\u001b[0mdico_traj_directs\u001b[0m\u001b[1;33m=\u001b[0m\u001b[0mself\u001b[0m\u001b[1;33m.\u001b[0m\u001b[0mliste_trajets_directs\u001b[0m\u001b[1;33m(\u001b[0m\u001b[1;33m)\u001b[0m\u001b[1;33m\u001b[0m\u001b[0m\n\u001b[0m\u001b[0;32m    238\u001b[0m             \u001b[0mself\u001b[0m\u001b[1;33m.\u001b[0m\u001b[0mdf_transit\u001b[0m\u001b[1;33m=\u001b[0m\u001b[0mself\u001b[0m\u001b[1;33m.\u001b[0m\u001b[0mdf_trajet_indirect\u001b[0m\u001b[1;33m(\u001b[0m\u001b[1;33m)\u001b[0m\u001b[1;33m\u001b[0m\u001b[0m\n\u001b[0;32m    239\u001b[0m             \u001b[0mself\u001b[0m\u001b[1;33m.\u001b[0m\u001b[0mtemps_parcours_max\u001b[0m\u001b[1;33m=\u001b[0m\u001b[0mself\u001b[0m\u001b[1;33m.\u001b[0m\u001b[0mdf_transit\u001b[0m\u001b[1;33m.\u001b[0m\u001b[0mtps_parcours\u001b[0m\u001b[1;33m.\u001b[0m\u001b[0mmax\u001b[0m\u001b[1;33m(\u001b[0m\u001b[1;33m)\u001b[0m\u001b[1;33m\u001b[0m\u001b[0m\n",
      "\u001b[1;32m~\\git\\lapi\\Carto_Lapi\\Analyse\\traitement_od.py\u001b[0m in \u001b[0;36mliste_trajets_directs\u001b[1;34m(self)\u001b[0m\n\u001b[0;32m    359\u001b[0m             \u001b[1;31m#calculer les temps de parcours et autres attributs issus de trajet_direct selon les resultats du precedent\u001b[0m\u001b[1;33m\u001b[0m\u001b[1;33m\u001b[0m\u001b[0m\n\u001b[0;32m    360\u001b[0m             \u001b[1;32mif\u001b[0m \u001b[0mindice\u001b[0m\u001b[1;33m==\u001b[0m\u001b[1;36m0\u001b[0m \u001b[1;33m:\u001b[0m \u001b[1;31m# si c'est le premier tarjet on se base sur des paramètres classiques\u001b[0m\u001b[1;33m\u001b[0m\u001b[0m\n\u001b[1;32m--> 361\u001b[1;33m                 \u001b[0mtrajet_elem\u001b[0m\u001b[1;33m=\u001b[0m\u001b[0mtrajet\u001b[0m\u001b[1;33m(\u001b[0m\u001b[0mself\u001b[0m\u001b[1;33m.\u001b[0m\u001b[0mdf\u001b[0m\u001b[1;33m,\u001b[0m \u001b[0mself\u001b[0m\u001b[1;33m.\u001b[0m\u001b[0mdate_debut\u001b[0m\u001b[1;33m,\u001b[0m \u001b[0mself\u001b[0m\u001b[1;33m.\u001b[0m\u001b[0mduree\u001b[0m\u001b[1;33m,\u001b[0m \u001b[0mself\u001b[0m\u001b[1;33m.\u001b[0m\u001b[0mtemps_max_autorise\u001b[0m\u001b[1;33m,\u001b[0m \u001b[0mcouple_cam\u001b[0m\u001b[1;33m)\u001b[0m\u001b[1;33m\u001b[0m\u001b[0m\n\u001b[0m\u001b[0;32m    362\u001b[0m             \u001b[1;32melse\u001b[0m \u001b[1;33m:\u001b[0m\u001b[1;33m\u001b[0m\u001b[0m\n\u001b[0;32m    363\u001b[0m                 \u001b[0mcle_traj_prec\u001b[0m\u001b[1;33m=\u001b[0m\u001b[1;34m'trajet'\u001b[0m\u001b[1;33m+\u001b[0m\u001b[0mstr\u001b[0m\u001b[1;33m(\u001b[0m\u001b[0mindice\u001b[0m\u001b[1;33m-\u001b[0m\u001b[1;36m1\u001b[0m\u001b[1;33m)\u001b[0m\u001b[1;33m\u001b[0m\u001b[0m\n",
      "\u001b[1;32m~\\git\\lapi\\Carto_Lapi\\Analyse\\traitement_od.py\u001b[0m in \u001b[0;36m__init__\u001b[1;34m(self, df, date_debut, duree, temps_max_autorise, cameras, type)\u001b[0m\n\u001b[0;32m    221\u001b[0m         \u001b[1;32mif\u001b[0m \u001b[0mlen\u001b[0m\u001b[1;33m(\u001b[0m\u001b[0mcameras\u001b[0m\u001b[1;33m)\u001b[0m\u001b[1;33m==\u001b[0m\u001b[1;36m2\u001b[0m\u001b[1;33m:\u001b[0m\u001b[1;33m\u001b[0m\u001b[0m\n\u001b[0;32m    222\u001b[0m             \u001b[1;32mif\u001b[0m \u001b[0mtype\u001b[0m\u001b[1;33m==\u001b[0m\u001b[1;34m'Direct'\u001b[0m \u001b[1;33m:\u001b[0m\u001b[1;33m\u001b[0m\u001b[0m\n\u001b[1;32m--> 223\u001b[1;33m                 \u001b[0mself\u001b[0m\u001b[1;33m.\u001b[0m\u001b[0mdf_pl_direct\u001b[0m\u001b[1;33m=\u001b[0m\u001b[0mself\u001b[0m\u001b[1;33m.\u001b[0m\u001b[0mtrajet_direct\u001b[0m\u001b[1;33m(\u001b[0m\u001b[1;33m)\u001b[0m\u001b[1;33m\u001b[0m\u001b[0m\n\u001b[0m\u001b[0;32m    224\u001b[0m                 \u001b[0mself\u001b[0m\u001b[1;33m.\u001b[0m\u001b[0mtimedelta_min\u001b[0m\u001b[1;33m,\u001b[0m\u001b[0mself\u001b[0m\u001b[1;33m.\u001b[0m\u001b[0mtimedelta_max\u001b[0m\u001b[1;33m,\u001b[0m\u001b[0mself\u001b[0m\u001b[1;33m.\u001b[0m\u001b[0mtimestamp_mini\u001b[0m\u001b[1;33m,\u001b[0m\u001b[0mself\u001b[0m\u001b[1;33m.\u001b[0m\u001b[0mtimestamp_maxi\u001b[0m\u001b[1;33m,\u001b[0m\u001b[0mself\u001b[0m\u001b[1;33m.\u001b[0m\u001b[0mduree_traj_fut\u001b[0m\u001b[1;33m=\u001b[0m\u001b[0mself\u001b[0m\u001b[1;33m.\u001b[0m\u001b[0mtemps_timedeltas_direct\u001b[0m\u001b[1;33m(\u001b[0m\u001b[1;33m)\u001b[0m\u001b[1;33m\u001b[0m\u001b[0m\n\u001b[0;32m    225\u001b[0m             \u001b[1;32melif\u001b[0m \u001b[0mtype\u001b[0m\u001b[1;33m==\u001b[0m\u001b[1;34m'Global'\u001b[0m \u001b[1;33m:\u001b[0m\u001b[1;33m\u001b[0m\u001b[0m\n",
      "\u001b[1;32m~\\git\\lapi\\Carto_Lapi\\Analyse\\traitement_od.py\u001b[0m in \u001b[0;36mtrajet_direct\u001b[1;34m(self)\u001b[0m\n\u001b[0;32m    276\u001b[0m                                         [['immat','created_x', 'created_y','tps_parcours']].rename(columns=dico_renommage))\n\u001b[0;32m    277\u001b[0m         \u001b[1;32mif\u001b[0m \u001b[0mdf_tps_parcours_pl_final\u001b[0m\u001b[1;33m.\u001b[0m\u001b[0mempty\u001b[0m \u001b[1;33m:\u001b[0m\u001b[1;33m\u001b[0m\u001b[0m\n\u001b[1;32m--> 278\u001b[1;33m             \u001b[1;32mraise\u001b[0m \u001b[0mPasDePlError\u001b[0m\u001b[1;33m(\u001b[0m\u001b[1;33m)\u001b[0m\u001b[1;33m\u001b[0m\u001b[0m\n\u001b[0m\u001b[0;32m    279\u001b[0m \u001b[1;33m\u001b[0m\u001b[0m\n\u001b[0;32m    280\u001b[0m         \u001b[1;32mreturn\u001b[0m \u001b[0mdf_tps_parcours_pl_final\u001b[0m\u001b[1;33m\u001b[0m\u001b[0m\n",
      "\u001b[1;31mPasDePlError\u001b[0m: pas de PL sur la période et les cameras visées"
     ]
    }
   ],
   "source": [
    "test=t.trajet(df_journee, '2019-01-29 00:00:00', 60, 16, [6,13], type='Global')"
   ]
  },
  {
   "cell_type": "code",
   "execution_count": 697,
   "metadata": {},
   "outputs": [
    {
     "name": "stdout",
     "output_type": "stream",
     "text": [
      "DatetimeIndex(['2019-01-29 09:00:00', '2019-01-29 10:00:00',\n",
      "               '2019-01-29 11:00:00', '2019-01-29 12:00:00'],\n",
      "              dtype='datetime64[ns]', freq='H')\n",
      "trajet : A63-A10, date : 2019-01-29 09:00:00, debut_traitement : 2019-04-03 16:59:13.379947\n",
      "(14, 19, 4, 5, 11) 0 days 01:29:29\n",
      "trajet : A10-A63, date : 2019-01-29 09:00:00, debut_traitement : 2019-04-03 16:59:18.753739\n",
      "(12, 6, 2, 18, 13) 0 days 03:17:06\n",
      "(12, 6, 3, 18, 13) 0 days 01:41:26\n",
      "trajet : A63-N10, date : 2019-01-29 09:00:00, debut_traitement : 2019-04-03 16:59:24.799217\n",
      "(14, 19, 4, 5) 0 days 01:08:09\n",
      "trajet : N10-A63, date : 2019-01-29 09:00:00, debut_traitement : 2019-04-03 16:59:28.532718\n",
      "(6, 2, 18, 13) 0 days 03:03:12\n",
      "(6, 3, 18, 13) 0 days 01:24:08\n",
      "trajet : A62-A10, date : 2019-01-29 09:00:00, debut_traitement : 2019-04-03 16:59:34.172014\n",
      "(10, 4, 5, 11) 0 days 00:43:40\n",
      "trajet : A10-A62, date : 2019-01-29 09:00:00, debut_traitement : 2019-04-03 16:59:37.794271\n",
      "(12, 6, 3, 9) 0 days 00:42:43\n",
      "trajet : A62-N10, date : 2019-01-29 09:00:00, debut_traitement : 2019-04-03 16:59:40.215588\n",
      "(10, 4, 5) 0 days 01:00:51\n",
      "trajet : N10-A62, date : 2019-01-29 09:00:00, debut_traitement : 2019-04-03 16:59:43.439364\n"
     ]
    },
    {
     "ename": "KeyboardInterrupt",
     "evalue": "",
     "output_type": "error",
     "traceback": [
      "\u001b[1;31m---------------------------------------------------------------------------\u001b[0m",
      "\u001b[1;31mKeyboardInterrupt\u001b[0m                         Traceback (most recent call last)",
      "\u001b[1;32m<ipython-input-697-71c83b682f2b>\u001b[0m in \u001b[0;36m<module>\u001b[1;34m\u001b[0m\n\u001b[1;32m----> 1\u001b[1;33m \u001b[0mtest\u001b[0m\u001b[1;33m=\u001b[0m\u001b[0mt\u001b[0m\u001b[1;33m.\u001b[0m\u001b[0mtransit_1_jour\u001b[0m\u001b[1;33m(\u001b[0m\u001b[0mdf_journee\u001b[0m\u001b[1;33m,\u001b[0m\u001b[1;34m'2019-01-29 09:00:00'\u001b[0m\u001b[1;33m,\u001b[0m \u001b[0mliste_trajet_locale\u001b[0m\u001b[1;33m)\u001b[0m\u001b[1;33m\u001b[0m\u001b[0m\n\u001b[0m",
      "\u001b[1;32m~\\git\\lapi\\Carto_Lapi\\Analyse\\traitement_od.py\u001b[0m in \u001b[0;36mtransit_1_jour\u001b[1;34m(df_journee, date_jour, liste_trajets, save_graphs)\u001b[0m\n\u001b[0;32m    857\u001b[0m             \u001b[0mprint\u001b[0m\u001b[1;33m(\u001b[0m\u001b[1;34mf\"trajet : {value[0]}-{destination}, date : {date}, debut_traitement : {dt.datetime.now()}\"\u001b[0m\u001b[1;33m)\u001b[0m\u001b[1;33m\u001b[0m\u001b[0m\n\u001b[0;32m    858\u001b[0m             \u001b[1;32mtry\u001b[0m \u001b[1;33m:\u001b[0m\u001b[1;33m\u001b[0m\u001b[0m\n\u001b[1;32m--> 859\u001b[1;33m                 \u001b[0mdf_trajet\u001b[0m\u001b[1;33m=\u001b[0m\u001b[0mtrajet\u001b[0m\u001b[1;33m(\u001b[0m\u001b[0mdf_journee\u001b[0m\u001b[1;33m,\u001b[0m\u001b[0mdate\u001b[0m\u001b[1;33m,\u001b[0m\u001b[1;36m60\u001b[0m\u001b[1;33m,\u001b[0m\u001b[1;36m16\u001b[0m\u001b[1;33m,\u001b[0m\u001b[0mcameras\u001b[0m\u001b[1;33m,\u001b[0m \u001b[0mtype\u001b[0m\u001b[1;33m=\u001b[0m\u001b[1;34m'Global'\u001b[0m\u001b[1;33m)\u001b[0m\u001b[1;33m.\u001b[0m\u001b[0mdf_global\u001b[0m\u001b[1;33m\u001b[0m\u001b[0m\n\u001b[0m\u001b[0;32m    860\u001b[0m             \u001b[1;32mexcept\u001b[0m \u001b[0mPasDePlError\u001b[0m \u001b[1;33m:\u001b[0m\u001b[1;33m\u001b[0m\u001b[0m\n\u001b[0;32m    861\u001b[0m                 \u001b[1;32mcontinue\u001b[0m\u001b[1;33m\u001b[0m\u001b[0m\n",
      "\u001b[1;32m~\\git\\lapi\\Carto_Lapi\\Analyse\\traitement_od.py\u001b[0m in \u001b[0;36m__init__\u001b[1;34m(self, df, date_debut, duree, temps_max_autorise, cameras, type)\u001b[0m\n\u001b[0;32m    229\u001b[0m                 \u001b[0mtps_max\u001b[0m\u001b[1;33m=\u001b[0m\u001b[1;33m[\u001b[0m\u001b[1;33m]\u001b[0m\u001b[1;33m\u001b[0m\u001b[0m\n\u001b[0;32m    230\u001b[0m                 \u001b[1;32mfor\u001b[0m \u001b[0mtrajet_indirect\u001b[0m \u001b[1;32min\u001b[0m \u001b[0mself\u001b[0m\u001b[1;33m.\u001b[0m\u001b[0mtrajet_complet\u001b[0m \u001b[1;33m:\u001b[0m\u001b[1;33m\u001b[0m\u001b[0m\n\u001b[1;32m--> 231\u001b[1;33m                     \u001b[0mtps\u001b[0m\u001b[1;33m=\u001b[0m\u001b[0mtrajet\u001b[0m\u001b[1;33m(\u001b[0m\u001b[0mdf\u001b[0m\u001b[1;33m,\u001b[0m\u001b[0mdate_debut\u001b[0m\u001b[1;33m,\u001b[0m \u001b[0mduree\u001b[0m\u001b[1;33m,\u001b[0m \u001b[0mtemps_max_autorise\u001b[0m\u001b[1;33m,\u001b[0m \u001b[0mtrajet_indirect\u001b[0m\u001b[1;33m)\u001b[0m\u001b[1;33m.\u001b[0m\u001b[0mtemps_parcours_max\u001b[0m\u001b[1;33m\u001b[0m\u001b[0m\n\u001b[0m\u001b[0;32m    232\u001b[0m                     \u001b[1;32mif\u001b[0m \u001b[1;32mnot\u001b[0m \u001b[0mtps\u001b[0m \u001b[1;33m:\u001b[0m \u001b[0mprint\u001b[0m\u001b[1;33m(\u001b[0m\u001b[1;34m'pas de temp'\u001b[0m\u001b[1;33m)\u001b[0m\u001b[1;33m\u001b[0m\u001b[0m\n\u001b[0;32m    233\u001b[0m                     \u001b[0mprint\u001b[0m\u001b[1;33m(\u001b[0m\u001b[0mtrajet_indirect\u001b[0m\u001b[1;33m,\u001b[0m \u001b[0mtps\u001b[0m\u001b[1;33m)\u001b[0m\u001b[1;33m\u001b[0m\u001b[0m\n",
      "\u001b[1;32m~\\git\\lapi\\Carto_Lapi\\Analyse\\traitement_od.py\u001b[0m in \u001b[0;36m__init__\u001b[1;34m(self, df, date_debut, duree, temps_max_autorise, cameras, type)\u001b[0m\n\u001b[0;32m    237\u001b[0m                 \u001b[0mself\u001b[0m\u001b[1;33m.\u001b[0m\u001b[0mdf_global\u001b[0m\u001b[1;33m=\u001b[0m\u001b[0mself\u001b[0m\u001b[1;33m.\u001b[0m\u001b[0mloc_trajet_global\u001b[0m\u001b[1;33m(\u001b[0m\u001b[0mtps_max\u001b[0m\u001b[1;33m)\u001b[0m\u001b[1;33m\u001b[0m\u001b[0m\n\u001b[0;32m    238\u001b[0m         \u001b[1;32melse\u001b[0m \u001b[1;33m:\u001b[0m\u001b[1;33m\u001b[0m\u001b[0m\n\u001b[1;32m--> 239\u001b[1;33m             \u001b[0mself\u001b[0m\u001b[1;33m.\u001b[0m\u001b[0mdico_traj_directs\u001b[0m\u001b[1;33m=\u001b[0m\u001b[0mself\u001b[0m\u001b[1;33m.\u001b[0m\u001b[0mliste_trajets_directs\u001b[0m\u001b[1;33m(\u001b[0m\u001b[1;33m)\u001b[0m\u001b[1;33m\u001b[0m\u001b[0m\n\u001b[0m\u001b[0;32m    240\u001b[0m             \u001b[0mself\u001b[0m\u001b[1;33m.\u001b[0m\u001b[0mdf_transit\u001b[0m\u001b[1;33m=\u001b[0m\u001b[0mself\u001b[0m\u001b[1;33m.\u001b[0m\u001b[0mdf_trajet_indirect\u001b[0m\u001b[1;33m(\u001b[0m\u001b[1;33m)\u001b[0m\u001b[1;33m\u001b[0m\u001b[0m\n\u001b[0;32m    241\u001b[0m             \u001b[0mself\u001b[0m\u001b[1;33m.\u001b[0m\u001b[0mtemps_parcours_max\u001b[0m\u001b[1;33m=\u001b[0m\u001b[0mself\u001b[0m\u001b[1;33m.\u001b[0m\u001b[0mdf_transit\u001b[0m\u001b[1;33m.\u001b[0m\u001b[0mtps_parcours\u001b[0m\u001b[1;33m.\u001b[0m\u001b[0mmax\u001b[0m\u001b[1;33m(\u001b[0m\u001b[1;33m)\u001b[0m\u001b[1;33m\u001b[0m\u001b[0m\n",
      "\u001b[1;32m~\\git\\lapi\\Carto_Lapi\\Analyse\\traitement_od.py\u001b[0m in \u001b[0;36mliste_trajets_directs\u001b[1;34m(self)\u001b[0m\n\u001b[0;32m    371\u001b[0m                 trajet_elem=(trajet(self.df, dico_traj_directs[cle_traj_prec].timestamp_mini,\n\u001b[0;32m    372\u001b[0m                                          \u001b[0mdico_traj_directs\u001b[0m\u001b[1;33m[\u001b[0m\u001b[0mcle_traj_prec\u001b[0m\u001b[1;33m]\u001b[0m\u001b[1;33m.\u001b[0m\u001b[0mduree_traj_fut\u001b[0m\u001b[1;33m,\u001b[0m\u001b[0mself\u001b[0m\u001b[1;33m.\u001b[0m\u001b[0mtemps_max_autorise\u001b[0m\u001b[1;33m,\u001b[0m\u001b[1;33m\u001b[0m\u001b[0m\n\u001b[1;32m--> 373\u001b[1;33m                                          couple_cam))\n\u001b[0m\u001b[0;32m    374\u001b[0m             \u001b[0mdico_traj_directs\u001b[0m\u001b[1;33m[\u001b[0m\u001b[0mnom_variable\u001b[0m\u001b[1;33m]\u001b[0m\u001b[1;33m=\u001b[0m\u001b[0mtrajet_elem\u001b[0m\u001b[1;33m\u001b[0m\u001b[0m\n\u001b[0;32m    375\u001b[0m \u001b[1;33m\u001b[0m\u001b[0m\n",
      "\u001b[1;32m~\\git\\lapi\\Carto_Lapi\\Analyse\\traitement_od.py\u001b[0m in \u001b[0;36m__init__\u001b[1;34m(self, df, date_debut, duree, temps_max_autorise, cameras, type)\u001b[0m\n\u001b[0;32m    221\u001b[0m         \u001b[1;32mif\u001b[0m \u001b[0mlen\u001b[0m\u001b[1;33m(\u001b[0m\u001b[0mcameras\u001b[0m\u001b[1;33m)\u001b[0m\u001b[1;33m==\u001b[0m\u001b[1;36m2\u001b[0m\u001b[1;33m:\u001b[0m\u001b[1;33m\u001b[0m\u001b[0m\n\u001b[0;32m    222\u001b[0m             \u001b[1;32mif\u001b[0m \u001b[0mtype\u001b[0m\u001b[1;33m==\u001b[0m\u001b[1;34m'Direct'\u001b[0m \u001b[1;33m:\u001b[0m\u001b[1;33m\u001b[0m\u001b[0m\n\u001b[1;32m--> 223\u001b[1;33m                 \u001b[0mself\u001b[0m\u001b[1;33m.\u001b[0m\u001b[0mdf_pl_direct\u001b[0m\u001b[1;33m=\u001b[0m\u001b[0mself\u001b[0m\u001b[1;33m.\u001b[0m\u001b[0mtrajet_direct\u001b[0m\u001b[1;33m(\u001b[0m\u001b[1;33m)\u001b[0m\u001b[1;33m\u001b[0m\u001b[0m\n\u001b[0m\u001b[0;32m    224\u001b[0m                 \u001b[0mself\u001b[0m\u001b[1;33m.\u001b[0m\u001b[0mtimedelta_min\u001b[0m\u001b[1;33m,\u001b[0m\u001b[0mself\u001b[0m\u001b[1;33m.\u001b[0m\u001b[0mtimedelta_max\u001b[0m\u001b[1;33m,\u001b[0m\u001b[0mself\u001b[0m\u001b[1;33m.\u001b[0m\u001b[0mtimestamp_mini\u001b[0m\u001b[1;33m,\u001b[0m\u001b[0mself\u001b[0m\u001b[1;33m.\u001b[0m\u001b[0mtimestamp_maxi\u001b[0m\u001b[1;33m,\u001b[0m\u001b[0mself\u001b[0m\u001b[1;33m.\u001b[0m\u001b[0mduree_traj_fut\u001b[0m\u001b[1;33m=\u001b[0m\u001b[0mself\u001b[0m\u001b[1;33m.\u001b[0m\u001b[0mtemps_timedeltas_direct\u001b[0m\u001b[1;33m(\u001b[0m\u001b[1;33m)\u001b[0m\u001b[1;33m\u001b[0m\u001b[0m\n\u001b[0;32m    225\u001b[0m             \u001b[1;32melif\u001b[0m \u001b[0mtype\u001b[0m\u001b[1;33m==\u001b[0m\u001b[1;34m'Global'\u001b[0m \u001b[1;33m:\u001b[0m\u001b[1;33m\u001b[0m\u001b[0m\n",
      "\u001b[1;32m~\\git\\lapi\\Carto_Lapi\\Analyse\\traitement_od.py\u001b[0m in \u001b[0;36mtrajet_direct\u001b[1;34m(self)\u001b[0m\n\u001b[0;32m    253\u001b[0m         \u001b[1;31m#print(cam1_croise_suivant[['camera_id_x','created_x','created_y','camera_id_y']])\u001b[0m\u001b[1;33m\u001b[0m\u001b[1;33m\u001b[0m\u001b[0m\n\u001b[0;32m    254\u001b[0m         \u001b[1;31m#on isole le passage le plus rapide devant cam suivante pour chaque immatriculation\u001b[0m\u001b[1;33m\u001b[0m\u001b[1;33m\u001b[0m\u001b[0m\n\u001b[1;32m--> 255\u001b[1;33m         \u001b[0mcam1_fastest_next\u001b[0m\u001b[1;33m=\u001b[0m\u001b[0mcam1_croise_suivant\u001b[0m\u001b[1;33m.\u001b[0m\u001b[0mloc\u001b[0m\u001b[1;33m[\u001b[0m\u001b[0mcam1_croise_suivant\u001b[0m\u001b[1;33m.\u001b[0m\u001b[0mgroupby\u001b[0m\u001b[1;33m(\u001b[0m\u001b[1;33m[\u001b[0m\u001b[1;34m'immat'\u001b[0m\u001b[1;33m]\u001b[0m\u001b[1;33m)\u001b[0m\u001b[1;33m[\u001b[0m\u001b[1;34m'created_y'\u001b[0m\u001b[1;33m]\u001b[0m\u001b[1;33m.\u001b[0m\u001b[0midxmin\u001b[0m\u001b[1;33m(\u001b[0m\u001b[1;33m)\u001b[0m\u001b[1;33m]\u001b[0m\u001b[1;33m\u001b[0m\u001b[0m\n\u001b[0m\u001b[0;32m    256\u001b[0m         \u001b[1;31m#print(cam1_fastest_next[['camera_id_x','created_x','created_y','camera_id_y']])\u001b[0m\u001b[1;33m\u001b[0m\u001b[1;33m\u001b[0m\u001b[0m\n\u001b[0;32m    257\u001b[0m         \u001b[1;31m#Si la df cam1_fastest_next est vide ça crée une erreur ValueError dans la creation de 'l', donc je filtre avant avec une levee d'erreur PasdePl\u001b[0m\u001b[1;33m\u001b[0m\u001b[1;33m\u001b[0m\u001b[0m\n",
      "\u001b[1;32mc:\\users\\martin.schoreisz\\appdata\\local\\programs\\python\\python37\\lib\\site-packages\\pandas\\core\\groupby\\groupby.py\u001b[0m in \u001b[0;36mwrapper\u001b[1;34m(*args, **kwargs)\u001b[0m\n\u001b[0;32m    833\u001b[0m \u001b[1;33m\u001b[0m\u001b[0m\n\u001b[0;32m    834\u001b[0m             \u001b[1;32mtry\u001b[0m\u001b[1;33m:\u001b[0m\u001b[1;33m\u001b[0m\u001b[0m\n\u001b[1;32m--> 835\u001b[1;33m                 \u001b[1;32mreturn\u001b[0m \u001b[0mself\u001b[0m\u001b[1;33m.\u001b[0m\u001b[0mapply\u001b[0m\u001b[1;33m(\u001b[0m\u001b[0mcurried_with_axis\u001b[0m\u001b[1;33m)\u001b[0m\u001b[1;33m\u001b[0m\u001b[0m\n\u001b[0m\u001b[0;32m    836\u001b[0m             \u001b[1;32mexcept\u001b[0m \u001b[0mException\u001b[0m\u001b[1;33m:\u001b[0m\u001b[1;33m\u001b[0m\u001b[0m\n\u001b[0;32m    837\u001b[0m                 \u001b[1;32mtry\u001b[0m\u001b[1;33m:\u001b[0m\u001b[1;33m\u001b[0m\u001b[0m\n",
      "\u001b[1;32mc:\\users\\martin.schoreisz\\appdata\\local\\programs\\python\\python37\\lib\\site-packages\\pandas\\core\\groupby\\groupby.py\u001b[0m in \u001b[0;36mapply\u001b[1;34m(self, func, *args, **kwargs)\u001b[0m\n\u001b[0;32m   3467\u001b[0m                       examples=_apply_docs['series_examples']))\n\u001b[0;32m   3468\u001b[0m     \u001b[1;32mdef\u001b[0m \u001b[0mapply\u001b[0m\u001b[1;33m(\u001b[0m\u001b[0mself\u001b[0m\u001b[1;33m,\u001b[0m \u001b[0mfunc\u001b[0m\u001b[1;33m,\u001b[0m \u001b[1;33m*\u001b[0m\u001b[0margs\u001b[0m\u001b[1;33m,\u001b[0m \u001b[1;33m**\u001b[0m\u001b[0mkwargs\u001b[0m\u001b[1;33m)\u001b[0m\u001b[1;33m:\u001b[0m\u001b[1;33m\u001b[0m\u001b[0m\n\u001b[1;32m-> 3469\u001b[1;33m         \u001b[1;32mreturn\u001b[0m \u001b[0msuper\u001b[0m\u001b[1;33m(\u001b[0m\u001b[0mSeriesGroupBy\u001b[0m\u001b[1;33m,\u001b[0m \u001b[0mself\u001b[0m\u001b[1;33m)\u001b[0m\u001b[1;33m.\u001b[0m\u001b[0mapply\u001b[0m\u001b[1;33m(\u001b[0m\u001b[0mfunc\u001b[0m\u001b[1;33m,\u001b[0m \u001b[1;33m*\u001b[0m\u001b[0margs\u001b[0m\u001b[1;33m,\u001b[0m \u001b[1;33m**\u001b[0m\u001b[0mkwargs\u001b[0m\u001b[1;33m)\u001b[0m\u001b[1;33m\u001b[0m\u001b[0m\n\u001b[0m\u001b[0;32m   3470\u001b[0m \u001b[1;33m\u001b[0m\u001b[0m\n\u001b[0;32m   3471\u001b[0m     \u001b[1;33m@\u001b[0m\u001b[0mAppender\u001b[0m\u001b[1;33m(\u001b[0m\u001b[0m_agg_doc\u001b[0m\u001b[1;33m)\u001b[0m\u001b[1;33m\u001b[0m\u001b[0m\n",
      "\u001b[1;32mc:\\users\\martin.schoreisz\\appdata\\local\\programs\\python\\python37\\lib\\site-packages\\pandas\\core\\groupby\\groupby.py\u001b[0m in \u001b[0;36mapply\u001b[1;34m(self, func, *args, **kwargs)\u001b[0m\n\u001b[0;32m    916\u001b[0m         \u001b[1;32mwith\u001b[0m \u001b[0moption_context\u001b[0m\u001b[1;33m(\u001b[0m\u001b[1;34m'mode.chained_assignment'\u001b[0m\u001b[1;33m,\u001b[0m \u001b[1;32mNone\u001b[0m\u001b[1;33m)\u001b[0m\u001b[1;33m:\u001b[0m\u001b[1;33m\u001b[0m\u001b[0m\n\u001b[0;32m    917\u001b[0m             \u001b[1;32mtry\u001b[0m\u001b[1;33m:\u001b[0m\u001b[1;33m\u001b[0m\u001b[0m\n\u001b[1;32m--> 918\u001b[1;33m                 \u001b[0mresult\u001b[0m \u001b[1;33m=\u001b[0m \u001b[0mself\u001b[0m\u001b[1;33m.\u001b[0m\u001b[0m_python_apply_general\u001b[0m\u001b[1;33m(\u001b[0m\u001b[0mf\u001b[0m\u001b[1;33m)\u001b[0m\u001b[1;33m\u001b[0m\u001b[0m\n\u001b[0m\u001b[0;32m    919\u001b[0m             \u001b[1;32mexcept\u001b[0m \u001b[0mException\u001b[0m\u001b[1;33m:\u001b[0m\u001b[1;33m\u001b[0m\u001b[0m\n\u001b[0;32m    920\u001b[0m \u001b[1;33m\u001b[0m\u001b[0m\n",
      "\u001b[1;32mc:\\users\\martin.schoreisz\\appdata\\local\\programs\\python\\python37\\lib\\site-packages\\pandas\\core\\groupby\\groupby.py\u001b[0m in \u001b[0;36m_python_apply_general\u001b[1;34m(self, f)\u001b[0m\n\u001b[0;32m    934\u001b[0m     \u001b[1;32mdef\u001b[0m \u001b[0m_python_apply_general\u001b[0m\u001b[1;33m(\u001b[0m\u001b[0mself\u001b[0m\u001b[1;33m,\u001b[0m \u001b[0mf\u001b[0m\u001b[1;33m)\u001b[0m\u001b[1;33m:\u001b[0m\u001b[1;33m\u001b[0m\u001b[0m\n\u001b[0;32m    935\u001b[0m         keys, values, mutated = self.grouper.apply(f, self._selected_obj,\n\u001b[1;32m--> 936\u001b[1;33m                                                    self.axis)\n\u001b[0m\u001b[0;32m    937\u001b[0m \u001b[1;33m\u001b[0m\u001b[0m\n\u001b[0;32m    938\u001b[0m         return self._wrap_applied_output(\n",
      "\u001b[1;32mc:\\users\\martin.schoreisz\\appdata\\local\\programs\\python\\python37\\lib\\site-packages\\pandas\\core\\groupby\\groupby.py\u001b[0m in \u001b[0;36mapply\u001b[1;34m(self, f, data, axis)\u001b[0m\n\u001b[0;32m   2271\u001b[0m             \u001b[1;31m# group might be modified\u001b[0m\u001b[1;33m\u001b[0m\u001b[1;33m\u001b[0m\u001b[0m\n\u001b[0;32m   2272\u001b[0m             \u001b[0mgroup_axes\u001b[0m \u001b[1;33m=\u001b[0m \u001b[0m_get_axes\u001b[0m\u001b[1;33m(\u001b[0m\u001b[0mgroup\u001b[0m\u001b[1;33m)\u001b[0m\u001b[1;33m\u001b[0m\u001b[0m\n\u001b[1;32m-> 2273\u001b[1;33m             \u001b[0mres\u001b[0m \u001b[1;33m=\u001b[0m \u001b[0mf\u001b[0m\u001b[1;33m(\u001b[0m\u001b[0mgroup\u001b[0m\u001b[1;33m)\u001b[0m\u001b[1;33m\u001b[0m\u001b[0m\n\u001b[0m\u001b[0;32m   2274\u001b[0m             \u001b[1;32mif\u001b[0m \u001b[1;32mnot\u001b[0m \u001b[0m_is_indexed_like\u001b[0m\u001b[1;33m(\u001b[0m\u001b[0mres\u001b[0m\u001b[1;33m,\u001b[0m \u001b[0mgroup_axes\u001b[0m\u001b[1;33m)\u001b[0m\u001b[1;33m:\u001b[0m\u001b[1;33m\u001b[0m\u001b[0m\n\u001b[0;32m   2275\u001b[0m                 \u001b[0mmutated\u001b[0m \u001b[1;33m=\u001b[0m \u001b[1;32mTrue\u001b[0m\u001b[1;33m\u001b[0m\u001b[0m\n",
      "\u001b[1;32mc:\\users\\martin.schoreisz\\appdata\\local\\programs\\python\\python37\\lib\\site-packages\\pandas\\core\\groupby\\groupby.py\u001b[0m in \u001b[0;36mcurried_with_axis\u001b[1;34m(x)\u001b[0m\n\u001b[0;32m    818\u001b[0m \u001b[1;33m\u001b[0m\u001b[0m\n\u001b[0;32m    819\u001b[0m             \u001b[1;32mdef\u001b[0m \u001b[0mcurried_with_axis\u001b[0m\u001b[1;33m(\u001b[0m\u001b[0mx\u001b[0m\u001b[1;33m)\u001b[0m\u001b[1;33m:\u001b[0m\u001b[1;33m\u001b[0m\u001b[0m\n\u001b[1;32m--> 820\u001b[1;33m                 \u001b[1;32mreturn\u001b[0m \u001b[0mf\u001b[0m\u001b[1;33m(\u001b[0m\u001b[0mx\u001b[0m\u001b[1;33m,\u001b[0m \u001b[1;33m*\u001b[0m\u001b[0margs\u001b[0m\u001b[1;33m,\u001b[0m \u001b[1;33m**\u001b[0m\u001b[0mkwargs_with_axis\u001b[0m\u001b[1;33m)\u001b[0m\u001b[1;33m\u001b[0m\u001b[0m\n\u001b[0m\u001b[0;32m    821\u001b[0m \u001b[1;33m\u001b[0m\u001b[0m\n\u001b[0;32m    822\u001b[0m             \u001b[1;32mdef\u001b[0m \u001b[0mcurried\u001b[0m\u001b[1;33m(\u001b[0m\u001b[0mx\u001b[0m\u001b[1;33m)\u001b[0m\u001b[1;33m:\u001b[0m\u001b[1;33m\u001b[0m\u001b[0m\n",
      "\u001b[1;32mc:\\users\\martin.schoreisz\\appdata\\local\\programs\\python\\python37\\lib\\site-packages\\pandas\\core\\series.py\u001b[0m in \u001b[0;36midxmin\u001b[1;34m(self, axis, skipna, *args, **kwargs)\u001b[0m\n\u001b[0;32m   1713\u001b[0m         \"\"\"\n\u001b[0;32m   1714\u001b[0m         \u001b[0mskipna\u001b[0m \u001b[1;33m=\u001b[0m \u001b[0mnv\u001b[0m\u001b[1;33m.\u001b[0m\u001b[0mvalidate_argmin_with_skipna\u001b[0m\u001b[1;33m(\u001b[0m\u001b[0mskipna\u001b[0m\u001b[1;33m,\u001b[0m \u001b[0margs\u001b[0m\u001b[1;33m,\u001b[0m \u001b[0mkwargs\u001b[0m\u001b[1;33m)\u001b[0m\u001b[1;33m\u001b[0m\u001b[0m\n\u001b[1;32m-> 1715\u001b[1;33m         \u001b[0mi\u001b[0m \u001b[1;33m=\u001b[0m \u001b[0mnanops\u001b[0m\u001b[1;33m.\u001b[0m\u001b[0mnanargmin\u001b[0m\u001b[1;33m(\u001b[0m\u001b[0mcom\u001b[0m\u001b[1;33m.\u001b[0m\u001b[0m_values_from_object\u001b[0m\u001b[1;33m(\u001b[0m\u001b[0mself\u001b[0m\u001b[1;33m)\u001b[0m\u001b[1;33m,\u001b[0m \u001b[0mskipna\u001b[0m\u001b[1;33m=\u001b[0m\u001b[0mskipna\u001b[0m\u001b[1;33m)\u001b[0m\u001b[1;33m\u001b[0m\u001b[0m\n\u001b[0m\u001b[0;32m   1716\u001b[0m         \u001b[1;32mif\u001b[0m \u001b[0mi\u001b[0m \u001b[1;33m==\u001b[0m \u001b[1;33m-\u001b[0m\u001b[1;36m1\u001b[0m\u001b[1;33m:\u001b[0m\u001b[1;33m\u001b[0m\u001b[0m\n\u001b[0;32m   1717\u001b[0m             \u001b[1;32mreturn\u001b[0m \u001b[0mnp\u001b[0m\u001b[1;33m.\u001b[0m\u001b[0mnan\u001b[0m\u001b[1;33m\u001b[0m\u001b[0m\n",
      "\u001b[1;32mc:\\users\\martin.schoreisz\\appdata\\local\\programs\\python\\python37\\lib\\site-packages\\pandas\\core\\nanops.py\u001b[0m in \u001b[0;36m_f\u001b[1;34m(*args, **kwargs)\u001b[0m\n\u001b[0;32m     75\u001b[0m             \u001b[1;32mtry\u001b[0m\u001b[1;33m:\u001b[0m\u001b[1;33m\u001b[0m\u001b[0m\n\u001b[0;32m     76\u001b[0m                 \u001b[1;32mwith\u001b[0m \u001b[0mnp\u001b[0m\u001b[1;33m.\u001b[0m\u001b[0merrstate\u001b[0m\u001b[1;33m(\u001b[0m\u001b[0minvalid\u001b[0m\u001b[1;33m=\u001b[0m\u001b[1;34m'ignore'\u001b[0m\u001b[1;33m)\u001b[0m\u001b[1;33m:\u001b[0m\u001b[1;33m\u001b[0m\u001b[0m\n\u001b[1;32m---> 77\u001b[1;33m                     \u001b[1;32mreturn\u001b[0m \u001b[0mf\u001b[0m\u001b[1;33m(\u001b[0m\u001b[1;33m*\u001b[0m\u001b[0margs\u001b[0m\u001b[1;33m,\u001b[0m \u001b[1;33m**\u001b[0m\u001b[0mkwargs\u001b[0m\u001b[1;33m)\u001b[0m\u001b[1;33m\u001b[0m\u001b[0m\n\u001b[0m\u001b[0;32m     78\u001b[0m             \u001b[1;32mexcept\u001b[0m \u001b[0mValueError\u001b[0m \u001b[1;32mas\u001b[0m \u001b[0me\u001b[0m\u001b[1;33m:\u001b[0m\u001b[1;33m\u001b[0m\u001b[0m\n\u001b[0;32m     79\u001b[0m                 \u001b[1;31m# we want to transform an object array\u001b[0m\u001b[1;33m\u001b[0m\u001b[1;33m\u001b[0m\u001b[0m\n",
      "\u001b[1;32mc:\\users\\martin.schoreisz\\appdata\\local\\programs\\python\\python37\\lib\\site-packages\\pandas\\core\\nanops.py\u001b[0m in \u001b[0;36mnanargmin\u001b[1;34m(values, axis, skipna)\u001b[0m\n\u001b[0;32m    534\u001b[0m     \u001b[0mReturns\u001b[0m \u001b[1;33m-\u001b[0m\u001b[1;36m1\u001b[0m \u001b[1;32min\u001b[0m \u001b[0mthe\u001b[0m \u001b[0mNA\u001b[0m \u001b[0mcase\u001b[0m\u001b[1;33m\u001b[0m\u001b[0m\n\u001b[0;32m    535\u001b[0m     \"\"\"\n\u001b[1;32m--> 536\u001b[1;33m     \u001b[0mvalues\u001b[0m\u001b[1;33m,\u001b[0m \u001b[0mmask\u001b[0m\u001b[1;33m,\u001b[0m \u001b[0mdtype\u001b[0m\u001b[1;33m,\u001b[0m \u001b[0m_\u001b[0m \u001b[1;33m=\u001b[0m \u001b[0m_get_values\u001b[0m\u001b[1;33m(\u001b[0m\u001b[0mvalues\u001b[0m\u001b[1;33m,\u001b[0m \u001b[0mskipna\u001b[0m\u001b[1;33m,\u001b[0m \u001b[0mfill_value_typ\u001b[0m\u001b[1;33m=\u001b[0m\u001b[1;34m'+inf'\u001b[0m\u001b[1;33m)\u001b[0m\u001b[1;33m\u001b[0m\u001b[0m\n\u001b[0m\u001b[0;32m    537\u001b[0m     \u001b[0mresult\u001b[0m \u001b[1;33m=\u001b[0m \u001b[0mvalues\u001b[0m\u001b[1;33m.\u001b[0m\u001b[0margmin\u001b[0m\u001b[1;33m(\u001b[0m\u001b[0maxis\u001b[0m\u001b[1;33m)\u001b[0m\u001b[1;33m\u001b[0m\u001b[0m\n\u001b[0;32m    538\u001b[0m     \u001b[0mresult\u001b[0m \u001b[1;33m=\u001b[0m \u001b[0m_maybe_arg_null_out\u001b[0m\u001b[1;33m(\u001b[0m\u001b[0mresult\u001b[0m\u001b[1;33m,\u001b[0m \u001b[0maxis\u001b[0m\u001b[1;33m,\u001b[0m \u001b[0mmask\u001b[0m\u001b[1;33m,\u001b[0m \u001b[0mskipna\u001b[0m\u001b[1;33m)\u001b[0m\u001b[1;33m\u001b[0m\u001b[0m\n",
      "\u001b[1;32mc:\\users\\martin.schoreisz\\appdata\\local\\programs\\python\\python37\\lib\\site-packages\\pandas\\core\\nanops.py\u001b[0m in \u001b[0;36m_get_values\u001b[1;34m(values, skipna, fill_value, fill_value_typ, isfinite, copy)\u001b[0m\n\u001b[0;32m    222\u001b[0m     \u001b[1;32mif\u001b[0m \u001b[0mskipna\u001b[0m\u001b[1;33m:\u001b[0m\u001b[1;33m\u001b[0m\u001b[0m\n\u001b[0;32m    223\u001b[0m         \u001b[1;32mif\u001b[0m \u001b[0mcopy\u001b[0m\u001b[1;33m:\u001b[0m\u001b[1;33m\u001b[0m\u001b[0m\n\u001b[1;32m--> 224\u001b[1;33m             \u001b[0mvalues\u001b[0m \u001b[1;33m=\u001b[0m \u001b[0mvalues\u001b[0m\u001b[1;33m.\u001b[0m\u001b[0mcopy\u001b[0m\u001b[1;33m(\u001b[0m\u001b[1;33m)\u001b[0m\u001b[1;33m\u001b[0m\u001b[0m\n\u001b[0m\u001b[0;32m    225\u001b[0m         \u001b[1;32mif\u001b[0m \u001b[0mdtype_ok\u001b[0m\u001b[1;33m:\u001b[0m\u001b[1;33m\u001b[0m\u001b[0m\n\u001b[0;32m    226\u001b[0m             \u001b[0mnp\u001b[0m\u001b[1;33m.\u001b[0m\u001b[0mputmask\u001b[0m\u001b[1;33m(\u001b[0m\u001b[0mvalues\u001b[0m\u001b[1;33m,\u001b[0m \u001b[0mmask\u001b[0m\u001b[1;33m,\u001b[0m \u001b[0mfill_value\u001b[0m\u001b[1;33m)\u001b[0m\u001b[1;33m\u001b[0m\u001b[0m\n",
      "\u001b[1;31mKeyboardInterrupt\u001b[0m: "
     ]
    }
   ],
   "source": [
    "test=t.transit_1_jour(df_journee,'2019-01-29 09:00:00', liste_trajet_locale)"
   ]
  },
  {
   "cell_type": "code",
   "execution_count": 696,
   "metadata": {},
   "outputs": [
    {
     "name": "stdout",
     "output_type": "stream",
     "text": [
      "(14, 19, 4, 5, 11) 0 days 01:29:29\n"
     ]
    },
    {
     "ename": "PasDePlError",
     "evalue": "pas de PL sur la période et les cameras visées",
     "output_type": "error",
     "traceback": [
      "\u001b[1;31m---------------------------------------------------------------------------\u001b[0m",
      "\u001b[1;31mPasDePlError\u001b[0m                              Traceback (most recent call last)",
      "\u001b[1;32m<ipython-input-696-0d04b78b48be>\u001b[0m in \u001b[0;36m<module>\u001b[1;34m\u001b[0m\n\u001b[1;32m----> 1\u001b[1;33m \u001b[0mtest\u001b[0m\u001b[1;33m=\u001b[0m\u001b[0mt\u001b[0m\u001b[1;33m.\u001b[0m\u001b[0mtrajet\u001b[0m\u001b[1;33m(\u001b[0m\u001b[0mdf_journee\u001b[0m\u001b[1;33m,\u001b[0m\u001b[1;34m'2019-01-29 09:00:00'\u001b[0m\u001b[1;33m,\u001b[0m\u001b[1;36m60\u001b[0m\u001b[1;33m,\u001b[0m\u001b[1;36m16\u001b[0m\u001b[1;33m,\u001b[0m\u001b[1;33m[\u001b[0m\u001b[1;36m14\u001b[0m\u001b[1;33m,\u001b[0m\u001b[1;36m11\u001b[0m\u001b[1;33m]\u001b[0m\u001b[1;33m,\u001b[0m\u001b[0mtype\u001b[0m\u001b[1;33m=\u001b[0m\u001b[1;34m'Global'\u001b[0m\u001b[1;33m)\u001b[0m\u001b[1;33m\u001b[0m\u001b[0m\n\u001b[0m",
      "\u001b[1;32m~\\git\\lapi\\Carto_Lapi\\Analyse\\traitement_od.py\u001b[0m in \u001b[0;36m__init__\u001b[1;34m(self, df, date_debut, duree, temps_max_autorise, cameras, type)\u001b[0m\n\u001b[0;32m    229\u001b[0m                 \u001b[0mtps_max\u001b[0m\u001b[1;33m=\u001b[0m\u001b[1;33m[\u001b[0m\u001b[1;33m]\u001b[0m\u001b[1;33m\u001b[0m\u001b[0m\n\u001b[0;32m    230\u001b[0m                 \u001b[1;32mfor\u001b[0m \u001b[0mtrajet_indirect\u001b[0m \u001b[1;32min\u001b[0m \u001b[0mself\u001b[0m\u001b[1;33m.\u001b[0m\u001b[0mtrajet_complet\u001b[0m \u001b[1;33m:\u001b[0m\u001b[1;33m\u001b[0m\u001b[0m\n\u001b[1;32m--> 231\u001b[1;33m                     \u001b[0mtps\u001b[0m\u001b[1;33m=\u001b[0m\u001b[0mtrajet\u001b[0m\u001b[1;33m(\u001b[0m\u001b[0mdf\u001b[0m\u001b[1;33m,\u001b[0m\u001b[0mdate_debut\u001b[0m\u001b[1;33m,\u001b[0m \u001b[0mduree\u001b[0m\u001b[1;33m,\u001b[0m \u001b[0mtemps_max_autorise\u001b[0m\u001b[1;33m,\u001b[0m \u001b[0mtrajet_indirect\u001b[0m\u001b[1;33m)\u001b[0m\u001b[1;33m.\u001b[0m\u001b[0mtemps_parcours_max\u001b[0m\u001b[1;33m\u001b[0m\u001b[0m\n\u001b[0m\u001b[0;32m    232\u001b[0m                     \u001b[1;32mif\u001b[0m \u001b[1;32mnot\u001b[0m \u001b[0mtps\u001b[0m \u001b[1;33m:\u001b[0m \u001b[0mprint\u001b[0m\u001b[1;33m(\u001b[0m\u001b[1;34m'pas de temp'\u001b[0m\u001b[1;33m)\u001b[0m\u001b[1;33m\u001b[0m\u001b[0m\n\u001b[0;32m    233\u001b[0m                     \u001b[0mprint\u001b[0m\u001b[1;33m(\u001b[0m\u001b[0mtrajet_indirect\u001b[0m\u001b[1;33m,\u001b[0m \u001b[0mtps\u001b[0m\u001b[1;33m)\u001b[0m\u001b[1;33m\u001b[0m\u001b[0m\n",
      "\u001b[1;32m~\\git\\lapi\\Carto_Lapi\\Analyse\\traitement_od.py\u001b[0m in \u001b[0;36m__init__\u001b[1;34m(self, df, date_debut, duree, temps_max_autorise, cameras, type)\u001b[0m\n\u001b[0;32m    238\u001b[0m         \u001b[1;32melse\u001b[0m \u001b[1;33m:\u001b[0m\u001b[1;33m\u001b[0m\u001b[0m\n\u001b[0;32m    239\u001b[0m             \u001b[0mself\u001b[0m\u001b[1;33m.\u001b[0m\u001b[0mdico_traj_directs\u001b[0m\u001b[1;33m=\u001b[0m\u001b[0mself\u001b[0m\u001b[1;33m.\u001b[0m\u001b[0mliste_trajets_directs\u001b[0m\u001b[1;33m(\u001b[0m\u001b[1;33m)\u001b[0m\u001b[1;33m\u001b[0m\u001b[0m\n\u001b[1;32m--> 240\u001b[1;33m             \u001b[0mself\u001b[0m\u001b[1;33m.\u001b[0m\u001b[0mdf_transit\u001b[0m\u001b[1;33m=\u001b[0m\u001b[0mself\u001b[0m\u001b[1;33m.\u001b[0m\u001b[0mdf_trajet_indirect\u001b[0m\u001b[1;33m(\u001b[0m\u001b[1;33m)\u001b[0m\u001b[1;33m\u001b[0m\u001b[0m\n\u001b[0m\u001b[0;32m    241\u001b[0m             \u001b[0mself\u001b[0m\u001b[1;33m.\u001b[0m\u001b[0mtemps_parcours_max\u001b[0m\u001b[1;33m=\u001b[0m\u001b[0mself\u001b[0m\u001b[1;33m.\u001b[0m\u001b[0mdf_transit\u001b[0m\u001b[1;33m.\u001b[0m\u001b[0mtps_parcours\u001b[0m\u001b[1;33m.\u001b[0m\u001b[0mmax\u001b[0m\u001b[1;33m(\u001b[0m\u001b[1;33m)\u001b[0m\u001b[1;33m\u001b[0m\u001b[0m\n\u001b[0;32m    242\u001b[0m \u001b[1;33m\u001b[0m\u001b[0m\n",
      "\u001b[1;32m~\\git\\lapi\\Carto_Lapi\\Analyse\\traitement_od.py\u001b[0m in \u001b[0;36mdf_trajet_indirect\u001b[1;34m(self)\u001b[0m\n\u001b[0;32m    310\u001b[0m                     \u001b[0mdf_transit\u001b[0m\u001b[1;33m=\u001b[0m\u001b[0mpd\u001b[0m\u001b[1;33m.\u001b[0m\u001b[0mmerge\u001b[0m\u001b[1;33m(\u001b[0m\u001b[0mdf_transit\u001b[0m\u001b[1;33m,\u001b[0m\u001b[0mself\u001b[0m\u001b[1;33m.\u001b[0m\u001b[0mdico_traj_directs\u001b[0m\u001b[1;33m[\u001b[0m\u001b[0mvariab2\u001b[0m\u001b[1;33m]\u001b[0m\u001b[1;33m.\u001b[0m\u001b[0mdf_pl_direct\u001b[0m\u001b[1;33m,\u001b[0m\u001b[0mon\u001b[0m\u001b[1;33m=\u001b[0m\u001b[1;34m'immat'\u001b[0m\u001b[1;33m)\u001b[0m\u001b[1;33m\u001b[0m\u001b[0m\n\u001b[0;32m    311\u001b[0m                     \u001b[1;32mif\u001b[0m \u001b[0mdf_transit\u001b[0m\u001b[1;33m.\u001b[0m\u001b[0mempty\u001b[0m \u001b[1;33m:\u001b[0m\u001b[1;33m\u001b[0m\u001b[0m\n\u001b[1;32m--> 312\u001b[1;33m                         \u001b[1;32mraise\u001b[0m \u001b[0mPasDePlError\u001b[0m\u001b[1;33m(\u001b[0m\u001b[1;33m)\u001b[0m\u001b[1;33m\u001b[0m\u001b[0m\n\u001b[0m\u001b[0;32m    313\u001b[0m                     \u001b[1;31m#print(f\" apres boucle df_trajet_indirect, df_transit : {df_transit.columns}\")\u001b[0m\u001b[1;33m\u001b[0m\u001b[1;33m\u001b[0m\u001b[0m\n\u001b[0;32m    314\u001b[0m                     \u001b[0mdf_transit\u001b[0m\u001b[1;33m[\u001b[0m\u001b[1;34m'tps_parcours'\u001b[0m\u001b[1;33m]\u001b[0m\u001b[1;33m=\u001b[0m\u001b[0mdf_transit\u001b[0m\u001b[1;33m[\u001b[0m\u001b[1;34m'tps_parcours_x'\u001b[0m\u001b[1;33m]\u001b[0m\u001b[1;33m+\u001b[0m\u001b[0mdf_transit\u001b[0m\u001b[1;33m[\u001b[0m\u001b[1;34m'tps_parcours_y'\u001b[0m\u001b[1;33m]\u001b[0m\u001b[1;33m\u001b[0m\u001b[0m\n",
      "\u001b[1;31mPasDePlError\u001b[0m: pas de PL sur la période et les cameras visées"
     ]
    }
   ],
   "source": [
    "test=t.trajet(df_journee,'2019-01-29 09:00:00',60,16,[14,11],type='Global')"
   ]
  },
  {
   "cell_type": "code",
   "execution_count": 684,
   "metadata": {},
   "outputs": [
    {
     "data": {
      "text/html": [
       "<div>\n",
       "<style scoped>\n",
       "    .dataframe tbody tr th:only-of-type {\n",
       "        vertical-align: middle;\n",
       "    }\n",
       "\n",
       "    .dataframe tbody tr th {\n",
       "        vertical-align: top;\n",
       "    }\n",
       "\n",
       "    .dataframe thead th {\n",
       "        text-align: right;\n",
       "    }\n",
       "</style>\n",
       "<table border=\"1\" class=\"dataframe\">\n",
       "  <thead>\n",
       "    <tr style=\"text-align: right;\">\n",
       "      <th></th>\n",
       "      <th>date_cam_1</th>\n",
       "      <th>immat</th>\n",
       "      <th>l</th>\n",
       "      <th>cameras</th>\n",
       "      <th>date_cam_2</th>\n",
       "      <th>tps_parcours</th>\n",
       "    </tr>\n",
       "  </thead>\n",
       "  <tbody>\n",
       "    <tr>\n",
       "      <th>475</th>\n",
       "      <td>2019-01-29 08:15:57</td>\n",
       "      <td>565319bccae6af27bea3882d6950954f110c08ea</td>\n",
       "      <td>1</td>\n",
       "      <td>(8, 5)</td>\n",
       "      <td>2019-01-29 08:46:29</td>\n",
       "      <td>00:30:32</td>\n",
       "    </tr>\n",
       "    <tr>\n",
       "      <th>548</th>\n",
       "      <td>2019-01-29 08:18:45</td>\n",
       "      <td>408b6da06c70d3e0e633aa9bc167b63f86118a95</td>\n",
       "      <td>1</td>\n",
       "      <td>(8, 5)</td>\n",
       "      <td>2019-01-29 08:42:10</td>\n",
       "      <td>00:23:25</td>\n",
       "    </tr>\n",
       "    <tr>\n",
       "      <th>680</th>\n",
       "      <td>2019-01-29 08:23:12</td>\n",
       "      <td>f0315689d509f01da93b128ab687d4b506806a00</td>\n",
       "      <td>1</td>\n",
       "      <td>(8, 5)</td>\n",
       "      <td>2019-01-29 08:51:41</td>\n",
       "      <td>00:28:29</td>\n",
       "    </tr>\n",
       "    <tr>\n",
       "      <th>721</th>\n",
       "      <td>2019-01-29 08:24:21</td>\n",
       "      <td>55073f56d0f5699e47cfe4108522eca7d7058ad8</td>\n",
       "      <td>1</td>\n",
       "      <td>(8, 5)</td>\n",
       "      <td>2019-01-29 11:47:19</td>\n",
       "      <td>03:22:58</td>\n",
       "    </tr>\n",
       "    <tr>\n",
       "      <th>1024</th>\n",
       "      <td>2019-01-29 08:35:19</td>\n",
       "      <td>f27057ee9647b01ecd9d79d3c6ed520a5a942499</td>\n",
       "      <td>1</td>\n",
       "      <td>(8, 5)</td>\n",
       "      <td>2019-01-29 13:05:30</td>\n",
       "      <td>04:30:11</td>\n",
       "    </tr>\n",
       "    <tr>\n",
       "      <th>1119</th>\n",
       "      <td>2019-01-29 08:38:40</td>\n",
       "      <td>7466c759dfa6d61602fa520744b487a00e441ad8</td>\n",
       "      <td>1</td>\n",
       "      <td>(8, 5)</td>\n",
       "      <td>2019-01-29 10:49:02</td>\n",
       "      <td>02:10:22</td>\n",
       "    </tr>\n",
       "    <tr>\n",
       "      <th>1183</th>\n",
       "      <td>2019-01-29 08:41:14</td>\n",
       "      <td>c1e16a598c646e59e60dd80eaf4fb7de77ea4b4e</td>\n",
       "      <td>1</td>\n",
       "      <td>(8, 5)</td>\n",
       "      <td>2019-01-29 12:30:22</td>\n",
       "      <td>03:49:08</td>\n",
       "    </tr>\n",
       "    <tr>\n",
       "      <th>1361</th>\n",
       "      <td>2019-01-29 08:48:20</td>\n",
       "      <td>ae7dbeba189d80635617310239ed620243322fd3</td>\n",
       "      <td>1</td>\n",
       "      <td>(8, 5)</td>\n",
       "      <td>2019-01-29 11:14:07</td>\n",
       "      <td>02:25:47</td>\n",
       "    </tr>\n",
       "    <tr>\n",
       "      <th>1468</th>\n",
       "      <td>2019-01-29 08:52:12</td>\n",
       "      <td>93d2f35c3325cc48feaf8264c7316a8e8f0c746e</td>\n",
       "      <td>1</td>\n",
       "      <td>(8, 5)</td>\n",
       "      <td>2019-01-29 10:04:23</td>\n",
       "      <td>01:12:11</td>\n",
       "    </tr>\n",
       "  </tbody>\n",
       "</table>\n",
       "</div>"
      ],
      "text/plain": [
       "              date_cam_1                                     immat  l cameras  \\\n",
       "475  2019-01-29 08:15:57  565319bccae6af27bea3882d6950954f110c08ea  1  (8, 5)   \n",
       "548  2019-01-29 08:18:45  408b6da06c70d3e0e633aa9bc167b63f86118a95  1  (8, 5)   \n",
       "680  2019-01-29 08:23:12  f0315689d509f01da93b128ab687d4b506806a00  1  (8, 5)   \n",
       "721  2019-01-29 08:24:21  55073f56d0f5699e47cfe4108522eca7d7058ad8  1  (8, 5)   \n",
       "1024 2019-01-29 08:35:19  f27057ee9647b01ecd9d79d3c6ed520a5a942499  1  (8, 5)   \n",
       "1119 2019-01-29 08:38:40  7466c759dfa6d61602fa520744b487a00e441ad8  1  (8, 5)   \n",
       "1183 2019-01-29 08:41:14  c1e16a598c646e59e60dd80eaf4fb7de77ea4b4e  1  (8, 5)   \n",
       "1361 2019-01-29 08:48:20  ae7dbeba189d80635617310239ed620243322fd3  1  (8, 5)   \n",
       "1468 2019-01-29 08:52:12  93d2f35c3325cc48feaf8264c7316a8e8f0c746e  1  (8, 5)   \n",
       "\n",
       "              date_cam_2 tps_parcours  \n",
       "475  2019-01-29 08:46:29     00:30:32  \n",
       "548  2019-01-29 08:42:10     00:23:25  \n",
       "680  2019-01-29 08:51:41     00:28:29  \n",
       "721  2019-01-29 11:47:19     03:22:58  \n",
       "1024 2019-01-29 13:05:30     04:30:11  \n",
       "1119 2019-01-29 10:49:02     02:10:22  \n",
       "1183 2019-01-29 12:30:22     03:49:08  \n",
       "1361 2019-01-29 11:14:07     02:25:47  \n",
       "1468 2019-01-29 10:04:23     01:12:11  "
      ]
     },
     "execution_count": 684,
     "metadata": {},
     "output_type": "execute_result"
    }
   ],
   "source": []
  },
  {
   "cell_type": "code",
   "execution_count": null,
   "metadata": {},
   "outputs": [],
   "source": []
  }
 ],
 "metadata": {
  "kernelspec": {
   "display_name": "Python 3",
   "language": "python",
   "name": "python3"
  },
  "language_info": {
   "codemirror_mode": {
    "name": "ipython",
    "version": 3
   },
   "file_extension": ".py",
   "mimetype": "text/x-python",
   "name": "python",
   "nbconvert_exporter": "python",
   "pygments_lexer": "ipython3",
   "version": "3.7.0"
  }
 },
 "nbformat": 4,
 "nbformat_minor": 2
}
