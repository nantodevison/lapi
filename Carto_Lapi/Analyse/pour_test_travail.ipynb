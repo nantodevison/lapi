{
 "cells": [
  {
   "cell_type": "markdown",
   "metadata": {},
   "source": [
    "Test du projet de class trajets indirect"
   ]
  },
  {
   "cell_type": "code",
   "execution_count": 1,
   "metadata": {},
   "outputs": [],
   "source": [
    "%load_ext autoreload\n",
    "%autoreload 2\n",
    "import sys #c'est pas propre mais pour le moment pour importer mes modules perso dans le notebook je ne sais pas faire\n",
    "sys.path.append(r'C:\\Users\\martin.schoreisz\\git\\Outils\\Outils\\Martin_Perso')\n",
    "import traitement_od as t\n",
    "import pandas as pd\n",
    "import numpy as np\n",
    "import altair as alt\n",
    "import datetime as dt\n",
    "pd.set_option('display.max_colwidth', 1000)\n",
    "import os\n",
    "from sklearn.cluster import DBSCAN"
   ]
  },
  {
   "cell_type": "markdown",
   "metadata": {},
   "source": [
    "IMPORT DONNEES GLOBALES"
   ]
  },
  {
   "cell_type": "code",
   "execution_count": 2,
   "metadata": {},
   "outputs": [
    {
     "name": "stdout",
     "output_type": "stream",
     "text": [
      "Wall time: 1min 10s\n"
     ]
    }
   ],
   "source": [
    "%time df_3semaines=t.ouvrir_fichier_lapi('2019-01-29 00:00:00','2019-02-17 23:59:59').set_index('created').sort_index()"
   ]
  },
  {
   "cell_type": "markdown",
   "metadata": {},
   "source": [
    "IMPORT DES DONNEES SUR UNE JOURNEE"
   ]
  },
  {
   "cell_type": "code",
   "execution_count": 350,
   "metadata": {},
   "outputs": [],
   "source": [
    "df_journee=t.ouvrir_fichier_lapi('2019-01-28','2019-01-30')"
   ]
  },
  {
   "cell_type": "code",
   "execution_count": 352,
   "metadata": {},
   "outputs": [],
   "source": [
    "#redresser la valeur de l\n",
    "df_journee.loc[df_journee['camera_id']==15,'l']=1"
   ]
  },
  {
   "cell_type": "markdown",
   "metadata": {},
   "source": [
    "LISTE DES TRAJETS"
   ]
  },
  {
   "cell_type": "code",
   "execution_count": 3,
   "metadata": {},
   "outputs": [],
   "source": [
    "liste_trajet_locale=(pd.DataFrame([{'origine':'A63','destination':'A10','cam_o':15, 'cam_d':11, 'trajets':[\n",
    "                                                        {'cameras':[15,19,4,5,11],'type_trajet':'indirect'},\n",
    "                                                        {'cameras':[15,19,1,5,11],'type_trajet':'indirect'},\n",
    "                                                        {'cameras':[15,4,5,11],'type_trajet':'indirect'},\n",
    "                                                        {'cameras':[15,1,5,11],'type_trajet':'indirect'},\n",
    "                                                        {'cameras':[15,19,5,11],'type_trajet':'indirect'},\n",
    "                                                        {'cameras':[15,19,4,11],'type_trajet':'indirect'},\n",
    "                                                        {'cameras':[15,19,1,11],'type_trajet':'indirect'},\n",
    "                                                        {'cameras':[15,4,11],'type_trajet':'indirect'},\n",
    "                                                        {'cameras':[15,1,11],'type_trajet':'indirect'},\n",
    "                                                        {'cameras':[15,5,11],'type_trajet':'indirect'},\n",
    "                                                        {'cameras':[15,19,11],'type_trajet':'indirect'},\n",
    "                                                        {'cameras':[15,11],'type_trajet':'direct'}\n",
    "                                                       ]},\n",
    "                            {'origine':'A10','destination':'A63','cam_o':12, 'cam_d':13,'trajets':[{'cameras':[12,6,2,18,13],'type_trajet':'indirect'},\n",
    "                                                        {'cameras':[12,6,3,18,13],'type_trajet':'indirect'},\n",
    "                                                        {'cameras':[12,6,2,13],'type_trajet':'indirect'},\n",
    "                                                        {'cameras':[12,6,3,13],'type_trajet':'indirect'},\n",
    "                                                        {'cameras':[12,6,18,13],'type_trajet':'indirect'},\n",
    "                                                        {'cameras':[12,2,18,13],'type_trajet':'indirect'},\n",
    "                                                        {'cameras':[12,3,18,13],'type_trajet':'indirect'},\n",
    "                                                        {'cameras':[12,2,13],'type_trajet':'indirect'},\n",
    "                                                        {'cameras':[12,3,13],'type_trajet':'indirect'},\n",
    "                                                        {'cameras':[12,6,13],'type_trajet':'indirect'},\n",
    "                                                        {'cameras':[12,18,13],'type_trajet':'indirect'},\n",
    "                                                        {'cameras':[12,13],'type_trajet':'direct'},\n",
    "                                                       ]},\n",
    "                            {'origine':'A63','destination':'N10','cam_o':15, 'cam_d':5,'trajets':[{'cameras':[15,19,4,5],'type_trajet':'indirect'},\n",
    "                                                        {'cameras':[15,19,1,5],'type_trajet':'indirect'},\n",
    "                                                        {'cameras':[15,4,5],'type_trajet':'indirect'},\n",
    "                                                        {'cameras':[15,1,5],'type_trajet':'indirect'},\n",
    "                                                        {'cameras':[15,19,5],'type_trajet':'indirect'}, \n",
    "                                                        {'cameras':[15,5],'type_trajet':'direct'},\n",
    "                                                       ]},\n",
    "                            {'origine':'N10','destination':'A63','cam_o':6, 'cam_d':13,'trajets':[{'cameras':[6,2,18,13],'type_trajet':'indirect'},\n",
    "                                                        {'cameras':[6,3,18,13],'type_trajet':'indirect'},\n",
    "                                                        {'cameras':[6,18,13],'type_trajet':'indirect'},\n",
    "                                                        {'cameras':[6,2,13],'type_trajet':'indirect'},\n",
    "                                                        {'cameras':[6,3,13],'type_trajet':'indirect'},\n",
    "                                                        {'cameras':[6,13],'type_trajet':'direct'},\n",
    "                                                       ]},\n",
    "                            {'origine':'A62','destination':'A10','cam_o':10, 'cam_d':11,'trajets':[{'cameras':[10,4,5,11],'type_trajet':'indirect'},\n",
    "                                                        {'cameras':[10,4,11],'type_trajet':'indirect'},\n",
    "                                                        {'cameras':[10,5,11],'type_trajet':'indirect'},\n",
    "                                                        {'cameras':[10,11],'type_trajet':'direct'}\n",
    "                                                       ]},\n",
    "                            {'origine':'A10','destination':'A62','cam_o':12, 'cam_d':9,'trajets':[{'cameras':[12,6,3,9],'type_trajet':'indirect'},\n",
    "                                                        {'cameras':[12,3,9],'type_trajet':'indirect'},\n",
    "                                                        {'cameras':[12,6,9],'type_trajet':'indirect'},\n",
    "                                                        {'cameras':[12,9],'type_trajet':'direct'}\n",
    "                                                       ]},\n",
    "                            {'origine':'A62','destination':'N10','cam_o':10, 'cam_d':5,'trajets':[{'cameras':[10,4,5],'type_trajet':'indirect'},\n",
    "                                                        {'cameras':[10,5],'type_trajet':'direct'},\n",
    "                                                       ]},\n",
    "                            {'origine':'N10','destination':'A62','cam_o':6, 'cam_d':9,'trajets':[{'cameras':[6,3,9],'type_trajet':'indirect'},\n",
    "                                                        {'cameras':[6,9],'type_trajet':'direct'},\n",
    "                                                       ]},\n",
    "                            {'origine':'A63','destination':'A62','cam_o':15, 'cam_d':9,'trajets':[{'cameras':[15,19,9],'type_trajet':'indirect'},\n",
    "                                                        {'cameras':[15,9],'type_trajet':'direct'},\n",
    "                                                       ]},\n",
    "                            {'origine':'A62','destination':'A63','cam_o':10, 'cam_d':13,'trajets':[{'cameras':[10,18,13],'type_trajet':'indirect'},\n",
    "                                                        {'cameras':[10,13],'type_trajet':'direct'},\n",
    "                                                       ]},\n",
    "                            {'origine':'A89','destination':'A63','cam_o':8 ,'cam_d':13,'trajets':[{'cameras':[8,3,18,13],'type_trajet':'indirect'},\n",
    "                                                        {'cameras':[8,18,13],'type_trajet':'indirect'},\n",
    "                                                        {'cameras':[8,3,13],'type_trajet':'indirect'},\n",
    "                                                        {'cameras':[8,13],'type_trajet':'direct'},\n",
    "                                                       ]},\n",
    "                            {'origine':'A63','destination':'A89','cam_o':15, 'cam_d':7,'trajets':[{'cameras':[15,19,4,7],'type_trajet':'indirect'},\n",
    "                                                        {'cameras':[15,4,7],'type_trajet':'indirect'},\n",
    "                                                        {'cameras':[15,19,7],'type_trajet':'indirect'},\n",
    "                                                        {'cameras':[15,7],'type_trajet':'direct'},\n",
    "                                                       ]},\n",
    "                            {'origine':'A89','destination':'A62','cam_o':8, 'cam_d':9,'trajets':[{'cameras':[8,3,9],'type_trajet':'indirect'},\n",
    "                                                        {'cameras':[8,9],'type_trajet':'direct'}\n",
    "                                                       ]},\n",
    "                            {'origine':'A62','destination':'A89','cam_o':10, 'cam_d':7,'trajets':[{'cameras':[10,4,7],'type_trajet':'indirect'},\n",
    "                                                        {'cameras':[10,7],'type_trajet':'direct'}\n",
    "                                                       ]},\n",
    "                            {'origine':'A89','destination':'A10','cam_o':8, 'cam_d':11,'trajets':[{'cameras':[8,5,11],'type_trajet':'indirect'},\n",
    "                                                        {'cameras':[8,11],'type_trajet':'direct'}\n",
    "                                                       ]},\n",
    "                            {'origine':'A10','destination':'A89','cam_o':12, 'cam_d':7,'trajets':[{'cameras':[12,6,7],'type_trajet':'indirect'},\n",
    "                                                        {'cameras':[12,7],'type_trajet':'direct'}\n",
    "                                                       ]},\n",
    "                            {'origine':'A89','destination':'N10','cam_o':8, 'cam_d':5,'trajets':[{'cameras':[8,5],'type_trajet':'direct'}\n",
    "                                                       ]},\n",
    "                            {'origine':'N10','destination':'A89','cam_o':6, 'cam_d':7,'trajets':[{'cameras':[6,7],'type_trajet':'direct'}\n",
    "                                                       ]},\n",
    "                            {'origine':'A10','destination':'A660','cam_o':12, 'cam_d':18,'trajets':[{'cameras':[12,6,2,18],'type_trajet':'indirect'},\n",
    "                                                         {'cameras':[12,6,3,18],'type_trajet':'indirect'},\n",
    "                                                         {'cameras':[12,2,18],'type_trajet':'indirect'},\n",
    "                                                         {'cameras':[12,3,18],'type_trajet':'indirect'},\n",
    "                                                         {'cameras':[12,6,18],'type_trajet':'indirect'},\n",
    "                                                         {'cameras':[12,18],'type_trajet':'direct'},\n",
    "                                                        ]},\n",
    "                            {'origine':'A660','destination':'A10','cam_o':19, 'cam_d':18,'trajets':[{'cameras':[19,4,5,11],'type_trajet':'indirect'},\n",
    "                                                         {'cameras':[19,1,5,11],'type_trajet':'indirect'},\n",
    "                                                         {'cameras':[19,1,11],'type_trajet':'indirect'},\n",
    "                                                         {'cameras':[19,4,11],'type_trajet':'indirect'},\n",
    "                                                         {'cameras':[19,5,11],'type_trajet':'indirect'},\n",
    "                                                         {'cameras':[19,11],'type_trajet':'direct'},\n",
    "                                                       ]},\n",
    "                            {'origine':'A660','destination':'A62','cam_o':19, 'cam_d':9,'trajets':[{'cameras':[19,9],'type_trajet':'direct'}\n",
    "                                                        ]},\n",
    "                            {'origine':'A62','destination':'A660','cam_o':10, 'cam_d':18,'trajets':[{'cameras':[10,18],'type_trajet':'direct'}\n",
    "                                                        ]},\n",
    "                            {'origine':'A660','destination':'A89','cam_o':19, 'cam_d':7,'trajets':[{'cameras':[19,4,7],'type_trajet':'indirect'},\n",
    "                                                         {'cameras':[19,7],'type_trajet':'direct'}\n",
    "                                                        ]},\n",
    "                            {'origine':'A89','destination':'A660','cam_o':8, 'cam_d':18,'trajets':[{'cameras':[8,3,18],'type_trajet':'indirect'},\n",
    "                                                         {'cameras':[8,18],'type_trajet':'direct'}\n",
    "                                                        ]},\n",
    "                            {'origine':'N10','destination':'A660','cam_o':6, 'cam_d':18,'trajets':[{'cameras':[6,2,18],'type_trajet':'indirect'},\n",
    "                                                         {'cameras':[6,3,18],'type_trajet':'indirect'},\n",
    "                                                         {'cameras':[6,18],'type_trajet':'direct'},\n",
    "                                                        ]},\n",
    "                            {'origine':'A660','destination':'N10','cam_o':19, 'cam_d':5,'trajets':[{'cameras':[19,1,5],'type_trajet':'indirect'},\n",
    "                                                         {'cameras':[19,4,5],'type_trajet':'indirect'},\n",
    "                                                         {'cameras':[19,5],'type_trajet':'direct'},\n",
    "                                                        ]}\n",
    "                           ]))[['origine', 'destination', 'cam_o', 'cam_d','trajets']]"
   ]
  },
  {
   "cell_type": "code",
   "execution_count": 730,
   "metadata": {},
   "outputs": [
    {
     "name": "stdout",
     "output_type": "stream",
     "text": [
      "Wall time: 6.33 s\n"
     ]
    }
   ],
   "source": [
    "%time test=t.trajet(df_journee, '2019-01-29 08:00:00', 60, 16, [6,13], type='Global')"
   ]
  },
  {
   "cell_type": "markdown",
   "metadata": {},
   "source": [
    "CALCUL DES O-D SUR UNE JOURNEE, AVEC RENVOI DES DF O-D OU PASSAGES DANS UN DICO PAR O-D OU UNE DF GLOBALE"
   ]
  },
  {
   "cell_type": "code",
   "execution_count": 353,
   "metadata": {},
   "outputs": [
    {
     "name": "stdout",
     "output_type": "stream",
     "text": [
      "date : 2019-01-28 08:00:00 debut_traitement : 2019-04-05 15:32:42.058239\n",
      "date : 2019-01-28 09:00:00 debut_traitement : 2019-04-05 15:35:25.209336\n"
     ]
    }
   ],
   "source": [
    "dico_trajet_od, dico_passag_od, dico_od,  dico_passag=t.transit_1_jour(df_journee,'2019-01-28 08:00:00', liste_trajet_locale)"
   ]
  },
  {
   "cell_type": "markdown",
   "metadata": {},
   "source": [
    "IMPORTANT : VERIF DES DOUBLONS ENTRE LES TRAJETS"
   ]
  },
  {
   "cell_type": "code",
   "execution_count": 354,
   "metadata": {},
   "outputs": [
    {
     "data": {
      "text/html": [
       "<div>\n",
       "<style scoped>\n",
       "    .dataframe tbody tr th:only-of-type {\n",
       "        vertical-align: middle;\n",
       "    }\n",
       "\n",
       "    .dataframe tbody tr th {\n",
       "        vertical-align: top;\n",
       "    }\n",
       "\n",
       "    .dataframe thead th {\n",
       "        text-align: right;\n",
       "    }\n",
       "</style>\n",
       "<table border=\"1\" class=\"dataframe\">\n",
       "  <thead>\n",
       "    <tr style=\"text-align: right;\">\n",
       "      <th></th>\n",
       "      <th>immat</th>\n",
       "      <th>camera_id</th>\n",
       "      <th>fiability</th>\n",
       "      <th>l</th>\n",
       "      <th>state</th>\n",
       "    </tr>\n",
       "    <tr>\n",
       "      <th>created</th>\n",
       "      <th></th>\n",
       "      <th></th>\n",
       "      <th></th>\n",
       "      <th></th>\n",
       "      <th></th>\n",
       "    </tr>\n",
       "  </thead>\n",
       "  <tbody>\n",
       "  </tbody>\n",
       "</table>\n",
       "</div>"
      ],
      "text/plain": [
       "Empty DataFrame\n",
       "Columns: [immat, camera_id, fiability, l, state]\n",
       "Index: []"
      ]
     },
     "execution_count": 354,
     "metadata": {},
     "output_type": "execute_result"
    }
   ],
   "source": [
    "A660N10=dico_passag_od['A660-N10'].set_index(['created','immat'])\n",
    "A63N10=dico_passag_od['A63-N10'].set_index(['created','immat'])\n",
    "A63N10.loc[A63N10.index.isin(A660N10.index)].reset_index().set_index('created')"
   ]
  },
  {
   "cell_type": "markdown",
   "metadata": {},
   "source": [
    "CREER LE TABLEAU DE MATRICE O-D"
   ]
  },
  {
   "cell_type": "code",
   "execution_count": 355,
   "metadata": {},
   "outputs": [
    {
     "data": {
      "text/html": [
       "<div>\n",
       "<style scoped>\n",
       "    .dataframe tbody tr th:only-of-type {\n",
       "        vertical-align: middle;\n",
       "    }\n",
       "\n",
       "    .dataframe tbody tr th {\n",
       "        vertical-align: top;\n",
       "    }\n",
       "\n",
       "    .dataframe thead th {\n",
       "        text-align: right;\n",
       "    }\n",
       "</style>\n",
       "<table border=\"1\" class=\"dataframe\">\n",
       "  <thead>\n",
       "    <tr style=\"text-align: right;\">\n",
       "      <th>destination</th>\n",
       "      <th>A10</th>\n",
       "      <th>A62</th>\n",
       "      <th>A63</th>\n",
       "      <th>A660</th>\n",
       "      <th>A89</th>\n",
       "      <th>N10</th>\n",
       "      <th>All</th>\n",
       "    </tr>\n",
       "    <tr>\n",
       "      <th>origine</th>\n",
       "      <th></th>\n",
       "      <th></th>\n",
       "      <th></th>\n",
       "      <th></th>\n",
       "      <th></th>\n",
       "      <th></th>\n",
       "      <th></th>\n",
       "    </tr>\n",
       "  </thead>\n",
       "  <tbody>\n",
       "    <tr>\n",
       "      <th>A10</th>\n",
       "      <td>NaN</td>\n",
       "      <td>59.0</td>\n",
       "      <td>12.0</td>\n",
       "      <td>21.0</td>\n",
       "      <td>13.0</td>\n",
       "      <td>NaN</td>\n",
       "      <td>105</td>\n",
       "    </tr>\n",
       "    <tr>\n",
       "      <th>A62</th>\n",
       "      <td>30.0</td>\n",
       "      <td>NaN</td>\n",
       "      <td>7.0</td>\n",
       "      <td>13.0</td>\n",
       "      <td>11.0</td>\n",
       "      <td>42.0</td>\n",
       "      <td>103</td>\n",
       "    </tr>\n",
       "    <tr>\n",
       "      <th>A63</th>\n",
       "      <td>34.0</td>\n",
       "      <td>4.0</td>\n",
       "      <td>NaN</td>\n",
       "      <td>NaN</td>\n",
       "      <td>25.0</td>\n",
       "      <td>347.0</td>\n",
       "      <td>410</td>\n",
       "    </tr>\n",
       "    <tr>\n",
       "      <th>A660</th>\n",
       "      <td>NaN</td>\n",
       "      <td>12.0</td>\n",
       "      <td>NaN</td>\n",
       "      <td>NaN</td>\n",
       "      <td>29.0</td>\n",
       "      <td>178.0</td>\n",
       "      <td>219</td>\n",
       "    </tr>\n",
       "    <tr>\n",
       "      <th>A89</th>\n",
       "      <td>5.0</td>\n",
       "      <td>15.0</td>\n",
       "      <td>12.0</td>\n",
       "      <td>15.0</td>\n",
       "      <td>NaN</td>\n",
       "      <td>8.0</td>\n",
       "      <td>55</td>\n",
       "    </tr>\n",
       "    <tr>\n",
       "      <th>N10</th>\n",
       "      <td>NaN</td>\n",
       "      <td>58.0</td>\n",
       "      <td>185.0</td>\n",
       "      <td>56.0</td>\n",
       "      <td>10.0</td>\n",
       "      <td>NaN</td>\n",
       "      <td>309</td>\n",
       "    </tr>\n",
       "    <tr>\n",
       "      <th>All</th>\n",
       "      <td>69.0</td>\n",
       "      <td>148.0</td>\n",
       "      <td>216.0</td>\n",
       "      <td>105.0</td>\n",
       "      <td>88.0</td>\n",
       "      <td>575.0</td>\n",
       "      <td>1201</td>\n",
       "    </tr>\n",
       "  </tbody>\n",
       "</table>\n",
       "</div>"
      ],
      "text/plain": [
       "destination   A10    A62    A63   A660   A89    N10   All\n",
       "origine                                                  \n",
       "A10           NaN   59.0   12.0   21.0  13.0    NaN   105\n",
       "A62          30.0    NaN    7.0   13.0  11.0   42.0   103\n",
       "A63          34.0    4.0    NaN    NaN  25.0  347.0   410\n",
       "A660          NaN   12.0    NaN    NaN  29.0  178.0   219\n",
       "A89           5.0   15.0   12.0   15.0   NaN    8.0    55\n",
       "N10           NaN   58.0  185.0   56.0  10.0    NaN   309\n",
       "All          69.0  148.0  216.0  105.0  88.0  575.0  1201"
      ]
     },
     "execution_count": 355,
     "metadata": {},
     "output_type": "execute_result"
    }
   ],
   "source": [
    "#MATRICE O-D !!II!\n",
    "pd.pivot_table(dico_od,values='l', index='origine', columns='destination',aggfunc='count', margins=True )"
   ]
  },
  {
   "cell_type": "markdown",
   "metadata": {},
   "source": [
    "POURCENTAGE PL PAR PLAGE HORAIRE ET CAMERA"
   ]
  },
  {
   "cell_type": "code",
   "execution_count": 432,
   "metadata": {},
   "outputs": [],
   "source": [
    "#isoler pl source\n",
    "groupe_tv_type_simple=df_journee.groupby('immat')['l'].apply(lambda x:test_unicite_type(list(x),mode='1/2')).reset_index().drop_duplicates('immat')\n",
    "df_pl=df_journee.join(groupe_tv_type_simple.loc[groupe_tv_type_simple['l']==1].set_index('immat'),on='immat',how='inner',rsuffix='_right')\n",
    "df_pl.set_index('created',inplace=True)\n",
    "\n",
    "#obtenir les nb de pl par heure et par camera sur la source\n",
    "df_synthese_pl_tot=df_pl.groupby('camera_id').resample('H').count()['immat'].rename(column={'immat':'nb_pl_tot'})\n",
    "df_synthese_pl_transit=dico_passag.set_index('created').groupby('camera_id').resample('H').count()['immat'].rename(column={'immat':'nb_pl_transit'})\n",
    "df_pct_pl_transit=pd.concat([df_synthese_pl_tot,df_synthese_pl_transit], axis=1, join='inner')\n",
    "df_pct_pl_transit.columns=[['nb_pl_tot','nb_pl_transit']]\n",
    "df_pct_pl_transit['pct_pl_transit']=df_pct_pl_transit.apply(lambda x : float(x['nb_pl_transit'])*100 / x['nb_pl_tot'] ,axis=1)\n",
    "df_pct_pl_transit"
   ]
  },
  {
   "cell_type": "markdown",
   "metadata": {},
   "source": [
    "TESTS"
   ]
  },
  {
   "cell_type": "code",
   "execution_count": null,
   "metadata": {},
   "outputs": [
    {
     "name": "stdout",
     "output_type": "stream",
     "text": [
      "date : 2019-01-28 00:00:00 debut_traitement : 2019-04-05 17:10:19.142473\n",
      "date : 2019-01-28 01:00:00 debut_traitement : 2019-04-05 17:10:19.533036\n",
      "date : 2019-01-28 02:00:00 debut_traitement : 2019-04-05 17:10:19.986060\n",
      "date : 2019-01-28 03:00:00 debut_traitement : 2019-04-05 17:10:20.360965\n",
      "date : 2019-01-28 04:00:00 debut_traitement : 2019-04-05 17:10:20.735887\n",
      "date : 2019-01-28 05:00:00 debut_traitement : 2019-04-05 17:10:21.126414\n",
      "date : 2019-01-28 06:00:00 debut_traitement : 2019-04-05 17:10:21.501328\n",
      "date : 2019-01-28 07:00:00 debut_traitement : 2019-04-05 17:10:21.891862\n",
      "date : 2019-01-28 08:00:00 debut_traitement : 2019-04-05 17:10:22.297983\n",
      "date : 2019-01-28 09:00:00 debut_traitement : 2019-04-05 17:10:22.751005\n",
      "date : 2019-01-28 10:00:00 debut_traitement : 2019-04-05 17:10:23.125945\n",
      "date : 2019-01-28 11:00:00 debut_traitement : 2019-04-05 17:10:23.516479\n",
      "date : 2019-01-28 12:00:00 debut_traitement : 2019-04-05 17:10:23.891389\n",
      "date : 2019-01-28 13:00:00 debut_traitement : 2019-04-05 17:10:24.281923\n",
      "date : 2019-01-28 14:00:00 debut_traitement : 2019-04-05 17:10:24.688069\n",
      "date : 2019-01-28 15:00:00 debut_traitement : 2019-04-05 17:10:25.094202\n",
      "date : 2019-01-28 16:00:00 debut_traitement : 2019-04-05 17:10:25.547248\n",
      "date : 2019-01-28 17:00:00 debut_traitement : 2019-04-05 17:10:26.000276\n",
      "date : 2019-01-28 18:00:00 debut_traitement : 2019-04-05 17:10:26.468915\n",
      "date : 2019-01-28 19:00:00 debut_traitement : 2019-04-05 17:10:26.953171\n",
      "date : 2019-01-28 20:00:00 debut_traitement : 2019-04-05 17:10:27.453055\n",
      "date : 2019-01-28 21:00:00 debut_traitement : 2019-04-05 17:10:27.968557\n",
      "date : 2019-01-28 22:00:00 debut_traitement : 2019-04-05 17:10:28.499685\n",
      "date : 2019-01-28 23:00:00 debut_traitement : 2019-04-05 17:10:29.046428\n",
      "date : 2019-01-29 00:00:00 debut_traitement : 2019-04-05 17:10:29.624421\n",
      "date : 2019-01-29 01:00:00 debut_traitement : 2019-04-05 17:10:49.604076\n",
      "date : 2019-01-29 02:00:00 debut_traitement : 2019-04-05 17:11:09.134241\n"
     ]
    }
   ],
   "source": [
    "dico_trajet_od, dico_passag_od, dico_od,  dico_passag=t.transit_temps_complet_v2('2019-01-28 00:00:00',21,liste_trajet_locale,df_3semaines)"
   ]
  },
  {
   "cell_type": "code",
   "execution_count": null,
   "metadata": {},
   "outputs": [],
   "source": []
  }
 ],
 "metadata": {
  "kernelspec": {
   "display_name": "Python 3",
   "language": "python",
   "name": "python3"
  },
  "language_info": {
   "codemirror_mode": {
    "name": "ipython",
    "version": 3
   },
   "file_extension": ".py",
   "mimetype": "text/x-python",
   "name": "python",
   "nbconvert_exporter": "python",
   "pygments_lexer": "ipython3",
   "version": "3.7.0"
  }
 },
 "nbformat": 4,
 "nbformat_minor": 2
}
