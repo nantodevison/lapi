{
 "cells": [
  {
   "cell_type": "markdown",
   "metadata": {},
   "source": [
    "Test du projet de class trajets indirect"
   ]
  },
  {
   "cell_type": "code",
   "execution_count": 1,
   "metadata": {},
   "outputs": [],
   "source": [
    "%load_ext autoreload\n",
    "%autoreload 2\n",
    "import sys #c'est pas propre mais pour le moment pour importer mes modules perso dans le notebook je ne sais pas faire\n",
    "sys.path.append(r'C:\\Users\\martin.schoreisz\\git\\Outils\\Outils\\Martin_Perso')\n",
    "import traitement_od as t\n",
    "import pandas as pd\n",
    "import numpy as np\n",
    "import altair as alt\n",
    "import datetime as dt\n",
    "pd.set_option('display.max_colwidth', 1000)\n",
    "import os\n",
    "from sklearn.cluster import DBSCAN"
   ]
  },
  {
   "cell_type": "markdown",
   "metadata": {},
   "source": [
    "IMPORT DONNEES GLOBALES"
   ]
  },
  {
   "cell_type": "code",
   "execution_count": 2,
   "metadata": {},
   "outputs": [
    {
     "name": "stdout",
     "output_type": "stream",
     "text": [
      "Wall time: 1min 10s\n"
     ]
    }
   ],
   "source": [
    "%time df_3semaines=t.ouvrir_fichier_lapi('2019-01-28 00:00:00','2019-02-17 23:59:59').set_index('created').sort_index()"
   ]
  },
  {
   "cell_type": "markdown",
   "metadata": {},
   "source": [
    "IMPORT DES DONNEES SUR UNE JOURNEE"
   ]
  },
  {
   "cell_type": "code",
   "execution_count": 350,
   "metadata": {},
   "outputs": [],
   "source": [
    "df_journee=t.ouvrir_fichier_lapi('2019-01-28','2019-01-30')"
   ]
  },
  {
   "cell_type": "code",
   "execution_count": 352,
   "metadata": {},
   "outputs": [],
   "source": [
    "#redresser la valeur de l\n",
    "df_journee.loc[df_journee['camera_id']==15,'l']=1"
   ]
  },
  {
   "cell_type": "markdown",
   "metadata": {},
   "source": [
    "LISTE DES TRAJETS"
   ]
  },
  {
   "cell_type": "code",
   "execution_count": 3,
   "metadata": {},
   "outputs": [],
   "source": [
    "liste_trajet_locale=(pd.DataFrame([{'origine':'A63','destination':'A10','cam_o':15, 'cam_d':11, 'trajets':[\n",
    "                                                        {'cameras':[15,19,4,5,11],'type_trajet':'indirect'},\n",
    "                                                        {'cameras':[15,19,1,5,11],'type_trajet':'indirect'},\n",
    "                                                        {'cameras':[15,4,5,11],'type_trajet':'indirect'},\n",
    "                                                        {'cameras':[15,1,5,11],'type_trajet':'indirect'},\n",
    "                                                        {'cameras':[15,19,5,11],'type_trajet':'indirect'},\n",
    "                                                        {'cameras':[15,19,4,11],'type_trajet':'indirect'},\n",
    "                                                        {'cameras':[15,19,1,11],'type_trajet':'indirect'},\n",
    "                                                        {'cameras':[15,4,11],'type_trajet':'indirect'},\n",
    "                                                        {'cameras':[15,1,11],'type_trajet':'indirect'},\n",
    "                                                        {'cameras':[15,5,11],'type_trajet':'indirect'},\n",
    "                                                        {'cameras':[15,19,11],'type_trajet':'indirect'},\n",
    "                                                        {'cameras':[15,11],'type_trajet':'direct'}\n",
    "                                                       ]},\n",
    "                            {'origine':'A10','destination':'A63','cam_o':12, 'cam_d':13,'trajets':[{'cameras':[12,6,2,18,13],'type_trajet':'indirect'},\n",
    "                                                        {'cameras':[12,6,3,18,13],'type_trajet':'indirect'},\n",
    "                                                        {'cameras':[12,6,2,13],'type_trajet':'indirect'},\n",
    "                                                        {'cameras':[12,6,3,13],'type_trajet':'indirect'},\n",
    "                                                        {'cameras':[12,6,18,13],'type_trajet':'indirect'},\n",
    "                                                        {'cameras':[12,2,18,13],'type_trajet':'indirect'},\n",
    "                                                        {'cameras':[12,3,18,13],'type_trajet':'indirect'},\n",
    "                                                        {'cameras':[12,2,13],'type_trajet':'indirect'},\n",
    "                                                        {'cameras':[12,3,13],'type_trajet':'indirect'},\n",
    "                                                        {'cameras':[12,6,13],'type_trajet':'indirect'},\n",
    "                                                        {'cameras':[12,18,13],'type_trajet':'indirect'},\n",
    "                                                        {'cameras':[12,13],'type_trajet':'direct'},\n",
    "                                                       ]},\n",
    "                            {'origine':'A63','destination':'N10','cam_o':15, 'cam_d':5,'trajets':[{'cameras':[15,19,4,5],'type_trajet':'indirect'},\n",
    "                                                        {'cameras':[15,19,1,5],'type_trajet':'indirect'},\n",
    "                                                        {'cameras':[15,4,5],'type_trajet':'indirect'},\n",
    "                                                        {'cameras':[15,1,5],'type_trajet':'indirect'},\n",
    "                                                        {'cameras':[15,19,5],'type_trajet':'indirect'}, \n",
    "                                                        {'cameras':[15,5],'type_trajet':'direct'},\n",
    "                                                       ]},\n",
    "                            {'origine':'N10','destination':'A63','cam_o':6, 'cam_d':13,'trajets':[{'cameras':[6,2,18,13],'type_trajet':'indirect'},\n",
    "                                                        {'cameras':[6,3,18,13],'type_trajet':'indirect'},\n",
    "                                                        {'cameras':[6,18,13],'type_trajet':'indirect'},\n",
    "                                                        {'cameras':[6,2,13],'type_trajet':'indirect'},\n",
    "                                                        {'cameras':[6,3,13],'type_trajet':'indirect'},\n",
    "                                                        {'cameras':[6,13],'type_trajet':'direct'},\n",
    "                                                       ]},\n",
    "                            {'origine':'A62','destination':'A10','cam_o':10, 'cam_d':11,'trajets':[{'cameras':[10,4,5,11],'type_trajet':'indirect'},\n",
    "                                                        {'cameras':[10,4,11],'type_trajet':'indirect'},\n",
    "                                                        {'cameras':[10,5,11],'type_trajet':'indirect'},\n",
    "                                                        {'cameras':[10,11],'type_trajet':'direct'}\n",
    "                                                       ]},\n",
    "                            {'origine':'A10','destination':'A62','cam_o':12, 'cam_d':9,'trajets':[{'cameras':[12,6,3,9],'type_trajet':'indirect'},\n",
    "                                                        {'cameras':[12,3,9],'type_trajet':'indirect'},\n",
    "                                                        {'cameras':[12,6,9],'type_trajet':'indirect'},\n",
    "                                                        {'cameras':[12,9],'type_trajet':'direct'}\n",
    "                                                       ]},\n",
    "                            {'origine':'A62','destination':'N10','cam_o':10, 'cam_d':5,'trajets':[{'cameras':[10,4,5],'type_trajet':'indirect'},\n",
    "                                                        {'cameras':[10,5],'type_trajet':'direct'},\n",
    "                                                       ]},\n",
    "                            {'origine':'N10','destination':'A62','cam_o':6, 'cam_d':9,'trajets':[{'cameras':[6,3,9],'type_trajet':'indirect'},\n",
    "                                                        {'cameras':[6,9],'type_trajet':'direct'},\n",
    "                                                       ]},\n",
    "                            {'origine':'A63','destination':'A62','cam_o':15, 'cam_d':9,'trajets':[{'cameras':[15,19,9],'type_trajet':'indirect'},\n",
    "                                                        {'cameras':[15,9],'type_trajet':'direct'},\n",
    "                                                       ]},\n",
    "                            {'origine':'A62','destination':'A63','cam_o':10, 'cam_d':13,'trajets':[{'cameras':[10,18,13],'type_trajet':'indirect'},\n",
    "                                                        {'cameras':[10,13],'type_trajet':'direct'},\n",
    "                                                       ]},\n",
    "                            {'origine':'A89','destination':'A63','cam_o':8 ,'cam_d':13,'trajets':[{'cameras':[8,3,18,13],'type_trajet':'indirect'},\n",
    "                                                        {'cameras':[8,18,13],'type_trajet':'indirect'},\n",
    "                                                        {'cameras':[8,3,13],'type_trajet':'indirect'},\n",
    "                                                        {'cameras':[8,13],'type_trajet':'direct'},\n",
    "                                                       ]},\n",
    "                            {'origine':'A63','destination':'A89','cam_o':15, 'cam_d':7,'trajets':[{'cameras':[15,19,4,7],'type_trajet':'indirect'},\n",
    "                                                        {'cameras':[15,4,7],'type_trajet':'indirect'},\n",
    "                                                        {'cameras':[15,19,7],'type_trajet':'indirect'},\n",
    "                                                        {'cameras':[15,7],'type_trajet':'direct'},\n",
    "                                                       ]},\n",
    "                            {'origine':'A89','destination':'A62','cam_o':8, 'cam_d':9,'trajets':[{'cameras':[8,3,9],'type_trajet':'indirect'},\n",
    "                                                        {'cameras':[8,9],'type_trajet':'direct'}\n",
    "                                                       ]},\n",
    "                            {'origine':'A62','destination':'A89','cam_o':10, 'cam_d':7,'trajets':[{'cameras':[10,4,7],'type_trajet':'indirect'},\n",
    "                                                        {'cameras':[10,7],'type_trajet':'direct'}\n",
    "                                                       ]},\n",
    "                            {'origine':'A89','destination':'A10','cam_o':8, 'cam_d':11,'trajets':[{'cameras':[8,5,11],'type_trajet':'indirect'},\n",
    "                                                        {'cameras':[8,11],'type_trajet':'direct'}\n",
    "                                                       ]},\n",
    "                            {'origine':'A10','destination':'A89','cam_o':12, 'cam_d':7,'trajets':[{'cameras':[12,6,7],'type_trajet':'indirect'},\n",
    "                                                        {'cameras':[12,7],'type_trajet':'direct'}\n",
    "                                                       ]},\n",
    "                            {'origine':'A89','destination':'N10','cam_o':8, 'cam_d':5,'trajets':[{'cameras':[8,5],'type_trajet':'direct'}\n",
    "                                                       ]},\n",
    "                            {'origine':'N10','destination':'A89','cam_o':6, 'cam_d':7,'trajets':[{'cameras':[6,7],'type_trajet':'direct'}\n",
    "                                                       ]},\n",
    "                            {'origine':'A10','destination':'A660','cam_o':12, 'cam_d':18,'trajets':[{'cameras':[12,6,2,18],'type_trajet':'indirect'},\n",
    "                                                         {'cameras':[12,6,3,18],'type_trajet':'indirect'},\n",
    "                                                         {'cameras':[12,2,18],'type_trajet':'indirect'},\n",
    "                                                         {'cameras':[12,3,18],'type_trajet':'indirect'},\n",
    "                                                         {'cameras':[12,6,18],'type_trajet':'indirect'},\n",
    "                                                         {'cameras':[12,18],'type_trajet':'direct'},\n",
    "                                                        ]},\n",
    "                            {'origine':'A660','destination':'A10','cam_o':19, 'cam_d':18,'trajets':[{'cameras':[19,4,5,11],'type_trajet':'indirect'},\n",
    "                                                         {'cameras':[19,1,5,11],'type_trajet':'indirect'},\n",
    "                                                         {'cameras':[19,1,11],'type_trajet':'indirect'},\n",
    "                                                         {'cameras':[19,4,11],'type_trajet':'indirect'},\n",
    "                                                         {'cameras':[19,5,11],'type_trajet':'indirect'},\n",
    "                                                         {'cameras':[19,11],'type_trajet':'direct'},\n",
    "                                                       ]},\n",
    "                            {'origine':'A660','destination':'A62','cam_o':19, 'cam_d':9,'trajets':[{'cameras':[19,9],'type_trajet':'direct'}\n",
    "                                                        ]},\n",
    "                            {'origine':'A62','destination':'A660','cam_o':10, 'cam_d':18,'trajets':[{'cameras':[10,18],'type_trajet':'direct'}\n",
    "                                                        ]},\n",
    "                            {'origine':'A660','destination':'A89','cam_o':19, 'cam_d':7,'trajets':[{'cameras':[19,4,7],'type_trajet':'indirect'},\n",
    "                                                         {'cameras':[19,7],'type_trajet':'direct'}\n",
    "                                                        ]},\n",
    "                            {'origine':'A89','destination':'A660','cam_o':8, 'cam_d':18,'trajets':[{'cameras':[8,3,18],'type_trajet':'indirect'},\n",
    "                                                         {'cameras':[8,18],'type_trajet':'direct'}\n",
    "                                                        ]},\n",
    "                            {'origine':'N10','destination':'A660','cam_o':6, 'cam_d':18,'trajets':[{'cameras':[6,2,18],'type_trajet':'indirect'},\n",
    "                                                         {'cameras':[6,3,18],'type_trajet':'indirect'},\n",
    "                                                         {'cameras':[6,18],'type_trajet':'direct'},\n",
    "                                                        ]},\n",
    "                            {'origine':'A660','destination':'N10','cam_o':19, 'cam_d':5,'trajets':[{'cameras':[19,1,5],'type_trajet':'indirect'},\n",
    "                                                         {'cameras':[19,4,5],'type_trajet':'indirect'},\n",
    "                                                         {'cameras':[19,5],'type_trajet':'direct'},\n",
    "                                                        ]}\n",
    "                           ]))[['origine', 'destination', 'cam_o', 'cam_d','trajets']]"
   ]
  },
  {
   "cell_type": "code",
   "execution_count": 730,
   "metadata": {},
   "outputs": [
    {
     "name": "stdout",
     "output_type": "stream",
     "text": [
      "Wall time: 6.33 s\n"
     ]
    }
   ],
   "source": [
    "%time test=t.trajet(df_journee, '2019-01-29 08:00:00', 60, 16, [6,13], type='Global')"
   ]
  },
  {
   "cell_type": "markdown",
   "metadata": {},
   "source": [
    "CALCUL DES O-D SUR UNE JOURNEE, AVEC RENVOI DES DF O-D OU PASSAGES DANS UN DICO PAR O-D OU UNE DF GLOBALE"
   ]
  },
  {
   "cell_type": "code",
   "execution_count": 353,
   "metadata": {},
   "outputs": [
    {
     "name": "stdout",
     "output_type": "stream",
     "text": [
      "date : 2019-01-28 08:00:00 debut_traitement : 2019-04-05 15:32:42.058239\n",
      "date : 2019-01-28 09:00:00 debut_traitement : 2019-04-05 15:35:25.209336\n"
     ]
    }
   ],
   "source": [
    "dico_trajet_od, dico_passag_od, dico_od,  dico_passag=t.transit_1_jour(df_journee,'2019-01-28 08:00:00', liste_trajet_locale)"
   ]
  },
  {
   "cell_type": "markdown",
   "metadata": {},
   "source": [
    "IMPORTANT : VERIF DES DOUBLONS ENTRE LES TRAJETS"
   ]
  },
  {
   "cell_type": "code",
   "execution_count": 10,
   "metadata": {},
   "outputs": [
    {
     "data": {
      "text/html": [
       "<div>\n",
       "<style scoped>\n",
       "    .dataframe tbody tr th:only-of-type {\n",
       "        vertical-align: middle;\n",
       "    }\n",
       "\n",
       "    .dataframe tbody tr th {\n",
       "        vertical-align: top;\n",
       "    }\n",
       "\n",
       "    .dataframe thead th {\n",
       "        text-align: right;\n",
       "    }\n",
       "</style>\n",
       "<table border=\"1\" class=\"dataframe\">\n",
       "  <thead>\n",
       "    <tr style=\"text-align: right;\">\n",
       "      <th></th>\n",
       "      <th>immat</th>\n",
       "      <th>camera_id</th>\n",
       "      <th>fiability</th>\n",
       "      <th>l</th>\n",
       "      <th>state</th>\n",
       "    </tr>\n",
       "    <tr>\n",
       "      <th>created</th>\n",
       "      <th></th>\n",
       "      <th></th>\n",
       "      <th></th>\n",
       "      <th></th>\n",
       "      <th></th>\n",
       "    </tr>\n",
       "  </thead>\n",
       "  <tbody>\n",
       "  </tbody>\n",
       "</table>\n",
       "</div>"
      ],
      "text/plain": [
       "Empty DataFrame\n",
       "Columns: [immat, camera_id, fiability, l, state]\n",
       "Index: []"
      ]
     },
     "execution_count": 10,
     "metadata": {},
     "output_type": "execute_result"
    }
   ],
   "source": [
    "A660N10=dico_passag_od['A660-N10'].set_index(['created','immat'])\n",
    "A63N10=dico_passag_od['A63-N10'].set_index(['created','immat'])\n",
    "A63N10.loc[A63N10.index.isin(A660N10.index)].reset_index().set_index('created')"
   ]
  },
  {
   "cell_type": "markdown",
   "metadata": {},
   "source": [
    "CREER LE TABLEAU DE MATRICE O-D"
   ]
  },
  {
   "cell_type": "code",
   "execution_count": 9,
   "metadata": {},
   "outputs": [
    {
     "data": {
      "text/html": [
       "<div>\n",
       "<style scoped>\n",
       "    .dataframe tbody tr th:only-of-type {\n",
       "        vertical-align: middle;\n",
       "    }\n",
       "\n",
       "    .dataframe tbody tr th {\n",
       "        vertical-align: top;\n",
       "    }\n",
       "\n",
       "    .dataframe thead th {\n",
       "        text-align: right;\n",
       "    }\n",
       "</style>\n",
       "<table border=\"1\" class=\"dataframe\">\n",
       "  <thead>\n",
       "    <tr style=\"text-align: right;\">\n",
       "      <th>destination</th>\n",
       "      <th>A10</th>\n",
       "      <th>A62</th>\n",
       "      <th>A63</th>\n",
       "      <th>A660</th>\n",
       "      <th>A89</th>\n",
       "      <th>N10</th>\n",
       "      <th>All</th>\n",
       "    </tr>\n",
       "    <tr>\n",
       "      <th>origine</th>\n",
       "      <th></th>\n",
       "      <th></th>\n",
       "      <th></th>\n",
       "      <th></th>\n",
       "      <th></th>\n",
       "      <th></th>\n",
       "      <th></th>\n",
       "    </tr>\n",
       "  </thead>\n",
       "  <tbody>\n",
       "    <tr>\n",
       "      <th>A10</th>\n",
       "      <td>NaN</td>\n",
       "      <td>5603.0</td>\n",
       "      <td>1689.0</td>\n",
       "      <td>2121.0</td>\n",
       "      <td>223.0</td>\n",
       "      <td>NaN</td>\n",
       "      <td>9636</td>\n",
       "    </tr>\n",
       "    <tr>\n",
       "      <th>A62</th>\n",
       "      <td>1024.0</td>\n",
       "      <td>NaN</td>\n",
       "      <td>226.0</td>\n",
       "      <td>560.0</td>\n",
       "      <td>346.0</td>\n",
       "      <td>1589.0</td>\n",
       "      <td>3745</td>\n",
       "    </tr>\n",
       "    <tr>\n",
       "      <th>A63</th>\n",
       "      <td>1314.0</td>\n",
       "      <td>126.0</td>\n",
       "      <td>NaN</td>\n",
       "      <td>NaN</td>\n",
       "      <td>653.0</td>\n",
       "      <td>13322.0</td>\n",
       "      <td>15415</td>\n",
       "    </tr>\n",
       "    <tr>\n",
       "      <th>A660</th>\n",
       "      <td>NaN</td>\n",
       "      <td>827.0</td>\n",
       "      <td>NaN</td>\n",
       "      <td>NaN</td>\n",
       "      <td>1540.0</td>\n",
       "      <td>7920.0</td>\n",
       "      <td>10287</td>\n",
       "    </tr>\n",
       "    <tr>\n",
       "      <th>A89</th>\n",
       "      <td>292.0</td>\n",
       "      <td>853.0</td>\n",
       "      <td>1156.0</td>\n",
       "      <td>1525.0</td>\n",
       "      <td>NaN</td>\n",
       "      <td>896.0</td>\n",
       "      <td>4722</td>\n",
       "    </tr>\n",
       "    <tr>\n",
       "      <th>N10</th>\n",
       "      <td>NaN</td>\n",
       "      <td>3285.0</td>\n",
       "      <td>15664.0</td>\n",
       "      <td>5372.0</td>\n",
       "      <td>595.0</td>\n",
       "      <td>NaN</td>\n",
       "      <td>24916</td>\n",
       "    </tr>\n",
       "    <tr>\n",
       "      <th>All</th>\n",
       "      <td>2630.0</td>\n",
       "      <td>10694.0</td>\n",
       "      <td>18735.0</td>\n",
       "      <td>9578.0</td>\n",
       "      <td>3357.0</td>\n",
       "      <td>23727.0</td>\n",
       "      <td>68721</td>\n",
       "    </tr>\n",
       "  </tbody>\n",
       "</table>\n",
       "</div>"
      ],
      "text/plain": [
       "destination     A10      A62      A63    A660     A89      N10    All\n",
       "origine                                                              \n",
       "A10             NaN   5603.0   1689.0  2121.0   223.0      NaN   9636\n",
       "A62          1024.0      NaN    226.0   560.0   346.0   1589.0   3745\n",
       "A63          1314.0    126.0      NaN     NaN   653.0  13322.0  15415\n",
       "A660            NaN    827.0      NaN     NaN  1540.0   7920.0  10287\n",
       "A89           292.0    853.0   1156.0  1525.0     NaN    896.0   4722\n",
       "N10             NaN   3285.0  15664.0  5372.0   595.0      NaN  24916\n",
       "All          2630.0  10694.0  18735.0  9578.0  3357.0  23727.0  68721"
      ]
     },
     "execution_count": 9,
     "metadata": {},
     "output_type": "execute_result"
    }
   ],
   "source": [
    "#MATRICE O-D !!II!\n",
    "pd.pivot_table(dico_od,values='l', index='origine', columns='destination',aggfunc='count', margins=True )"
   ]
  },
  {
   "cell_type": "markdown",
   "metadata": {},
   "source": [
    "POURCENTAGE PL PAR PLAGE HORAIRE ET CAMERA"
   ]
  },
  {
   "cell_type": "code",
   "execution_count": 432,
   "metadata": {},
   "outputs": [],
   "source": [
    "#isoler pl source\n",
    "groupe_tv_type_simple=df_journee.groupby('immat')['l'].apply(lambda x:test_unicite_type(list(x),mode='1/2')).reset_index().drop_duplicates('immat')\n",
    "df_pl=df_journee.join(groupe_tv_type_simple.loc[groupe_tv_type_simple['l']==1].set_index('immat'),on='immat',how='inner',rsuffix='_right')\n",
    "df_pl.set_index('created',inplace=True)\n",
    "\n",
    "#obtenir les nb de pl par heure et par camera sur la source\n",
    "df_synthese_pl_tot=df_pl.groupby('camera_id').resample('H').count()['immat'].rename(column={'immat':'nb_pl_tot'})\n",
    "df_synthese_pl_transit=dico_passag.set_index('created').groupby('camera_id').resample('H').count()['immat'].rename(column={'immat':'nb_pl_transit'})\n",
    "df_pct_pl_transit=pd.concat([df_synthese_pl_tot,df_synthese_pl_transit], axis=1, join='inner')\n",
    "df_pct_pl_transit.columns=[['nb_pl_tot','nb_pl_transit']]\n",
    "df_pct_pl_transit['pct_pl_transit']=df_pct_pl_transit.apply(lambda x : float(x['nb_pl_transit'])*100 / x['nb_pl_tot'] ,axis=1)\n",
    "df_pct_pl_transit"
   ]
  },
  {
   "cell_type": "markdown",
   "metadata": {},
   "source": [
    "TESTS DONNEES COMPLETES"
   ]
  },
  {
   "cell_type": "code",
   "execution_count": 7,
   "metadata": {},
   "outputs": [
    {
     "name": "stdout",
     "output_type": "stream",
     "text": [
      "date : 2019-01-28 00:00:00 debut_traitement : 2019-04-05 17:14:07.432442\n",
      "date : 2019-01-28 01:00:00 debut_traitement : 2019-04-05 17:14:07.963569\n",
      "date : 2019-01-28 02:00:00 debut_traitement : 2019-04-05 17:14:08.713393\n",
      "date : 2019-01-28 03:00:00 debut_traitement : 2019-04-05 17:14:09.307003\n",
      "date : 2019-01-28 04:00:00 debut_traitement : 2019-04-05 17:14:09.838130\n",
      "date : 2019-01-28 05:00:00 debut_traitement : 2019-04-05 17:14:10.213042\n",
      "date : 2019-01-28 06:00:00 debut_traitement : 2019-04-05 17:14:10.603577\n",
      "date : 2019-01-28 07:00:00 debut_traitement : 2019-04-05 17:14:10.978487\n",
      "date : 2019-01-28 08:00:00 debut_traitement : 2019-04-05 17:14:11.353398\n",
      "date : 2019-01-28 09:00:00 debut_traitement : 2019-04-05 17:14:11.743935\n",
      "date : 2019-01-28 10:00:00 debut_traitement : 2019-04-05 17:14:12.118848\n",
      "date : 2019-01-28 11:00:00 debut_traitement : 2019-04-05 17:14:12.509377\n",
      "date : 2019-01-28 12:00:00 debut_traitement : 2019-04-05 17:14:12.899915\n",
      "date : 2019-01-28 13:00:00 debut_traitement : 2019-04-05 17:14:13.290480\n",
      "date : 2019-01-28 14:00:00 debut_traitement : 2019-04-05 17:14:13.680983\n",
      "date : 2019-01-28 15:00:00 debut_traitement : 2019-04-05 17:14:14.102755\n",
      "date : 2019-01-28 16:00:00 debut_traitement : 2019-04-05 17:14:14.540150\n",
      "date : 2019-01-28 17:00:00 debut_traitement : 2019-04-05 17:14:15.024414\n",
      "date : 2019-01-28 18:00:00 debut_traitement : 2019-04-05 17:14:15.508672\n",
      "date : 2019-01-28 19:00:00 debut_traitement : 2019-04-05 17:14:15.992935\n",
      "date : 2019-01-28 20:00:00 debut_traitement : 2019-04-05 17:14:16.492816\n",
      "date : 2019-01-28 21:00:00 debut_traitement : 2019-04-05 17:14:17.008321\n",
      "date : 2019-01-28 22:00:00 debut_traitement : 2019-04-05 17:14:17.539447\n",
      "date : 2019-01-28 23:00:00 debut_traitement : 2019-04-05 17:14:18.086197\n",
      "date : 2019-01-29 00:00:00 debut_traitement : 2019-04-05 17:14:18.648562\n",
      "date : 2019-01-29 01:00:00 debut_traitement : 2019-04-05 17:14:38.565768\n",
      "date : 2019-01-29 02:00:00 debut_traitement : 2019-04-05 17:14:59.798044\n",
      "date : 2019-01-29 03:00:00 debut_traitement : 2019-04-05 17:15:17.059618\n",
      "date : 2019-01-29 04:00:00 debut_traitement : 2019-04-05 17:15:43.584612\n",
      "date : 2019-01-29 05:00:00 debut_traitement : 2019-04-05 17:16:03.126897\n",
      "date : 2019-01-29 06:00:00 debut_traitement : 2019-04-05 17:16:36.665931\n",
      "date : 2019-01-29 07:00:00 debut_traitement : 2019-04-05 17:17:33.996194\n",
      "date : 2019-01-29 08:00:00 debut_traitement : 2019-04-05 17:19:05.724694\n",
      "date : 2019-01-29 09:00:00 debut_traitement : 2019-04-05 17:20:45.560606\n",
      "date : 2019-01-29 10:00:00 debut_traitement : 2019-04-05 17:22:21.444380\n",
      "date : 2019-01-29 11:00:00 debut_traitement : 2019-04-05 17:23:47.205471\n",
      "date : 2019-01-29 12:00:00 debut_traitement : 2019-04-05 17:25:05.232109\n",
      "date : 2019-01-29 13:00:00 debut_traitement : 2019-04-05 17:26:08.529751\n",
      "date : 2019-01-29 14:00:00 debut_traitement : 2019-04-05 17:27:13.545738\n",
      "date : 2019-01-29 15:00:00 debut_traitement : 2019-04-05 17:28:24.450977\n",
      "date : 2019-01-29 16:00:00 debut_traitement : 2019-04-05 17:29:20.203545\n",
      "date : 2019-01-29 17:00:00 debut_traitement : 2019-04-05 17:30:18.064956\n",
      "date : 2019-01-29 18:00:00 debut_traitement : 2019-04-05 17:30:44.699334\n",
      "date : 2019-01-29 19:00:00 debut_traitement : 2019-04-05 17:31:01.414159\n",
      "date : 2019-01-29 20:00:00 debut_traitement : 2019-04-05 17:31:15.660820\n",
      "date : 2019-01-29 21:00:00 debut_traitement : 2019-04-05 17:31:31.547704\n",
      "date : 2019-01-29 22:00:00 debut_traitement : 2019-04-05 17:31:47.856385\n",
      "date : 2019-01-29 23:00:00 debut_traitement : 2019-04-05 17:32:04.461828\n",
      "date : 2019-01-30 00:00:00 debut_traitement : 2019-04-05 17:32:29.612179\n",
      "date : 2019-01-30 01:00:00 debut_traitement : 2019-04-05 17:32:54.496989\n",
      "date : 2019-01-30 02:00:00 debut_traitement : 2019-04-05 17:33:19.131803\n",
      "date : 2019-01-30 03:00:00 debut_traitement : 2019-04-05 17:33:46.859671\n",
      "date : 2019-01-30 04:00:00 debut_traitement : 2019-04-05 17:34:19.289589\n",
      "date : 2019-01-30 05:00:00 debut_traitement : 2019-04-05 17:34:54.265754\n",
      "date : 2019-01-30 06:00:00 debut_traitement : 2019-04-05 17:35:30.382241\n",
      "date : 2019-01-30 07:00:00 debut_traitement : 2019-04-05 17:36:36.476113\n",
      "date : 2019-01-30 08:00:00 debut_traitement : 2019-04-05 17:37:55.676268\n",
      "date : 2019-01-30 09:00:00 debut_traitement : 2019-04-05 17:38:53.100289\n",
      "date : 2019-01-30 10:00:00 debut_traitement : 2019-04-05 17:40:04.895938\n",
      "date : 2019-01-30 11:00:00 debut_traitement : 2019-04-05 17:41:07.645039\n",
      "date : 2019-01-30 12:00:00 debut_traitement : 2019-04-05 17:42:10.255341\n",
      "date : 2019-01-30 13:00:00 debut_traitement : 2019-04-05 17:43:01.149671\n",
      "date : 2019-01-30 14:00:00 debut_traitement : 2019-04-05 17:43:54.715596\n",
      "date : 2019-01-30 15:00:00 debut_traitement : 2019-04-05 17:44:56.045660\n",
      "date : 2019-01-30 16:00:00 debut_traitement : 2019-04-05 17:45:56.844612\n",
      "date : 2019-01-30 17:00:00 debut_traitement : 2019-04-05 17:46:54.066264\n",
      "date : 2019-01-30 18:00:00 debut_traitement : 2019-04-05 17:47:28.870981\n",
      "date : 2019-01-30 19:00:00 debut_traitement : 2019-04-05 17:48:05.784636\n",
      "date : 2019-01-30 20:00:00 debut_traitement : 2019-04-05 17:48:39.277165\n",
      "date : 2019-01-30 21:00:00 debut_traitement : 2019-04-05 17:49:07.723981\n",
      "date : 2019-01-30 22:00:00 debut_traitement : 2019-04-05 17:49:40.154205\n",
      "date : 2019-01-30 23:00:00 debut_traitement : 2019-04-05 17:50:08.850962\n",
      "date : 2019-01-31 00:00:00 debut_traitement : 2019-04-05 17:50:18.020791\n",
      "date : 2019-01-31 01:00:00 debut_traitement : 2019-04-05 17:50:35.954250\n",
      "date : 2019-01-31 02:00:00 debut_traitement : 2019-04-05 17:50:49.248161\n",
      "date : 2019-01-31 03:00:00 debut_traitement : 2019-04-05 17:51:25.474479\n",
      "date : 2019-01-31 04:00:00 debut_traitement : 2019-04-05 17:51:49.422260\n",
      "date : 2019-01-31 05:00:00 debut_traitement : 2019-04-05 17:52:33.881057\n",
      "date : 2019-01-31 06:00:00 debut_traitement : 2019-04-05 17:53:44.443423\n",
      "date : 2019-01-31 07:00:00 debut_traitement : 2019-04-05 17:55:07.440520\n",
      "date : 2019-01-31 08:00:00 debut_traitement : 2019-04-05 17:56:20.705348\n",
      "date : 2019-01-31 09:00:00 debut_traitement : 2019-04-05 17:57:55.946478\n",
      "date : 2019-01-31 10:00:00 debut_traitement : 2019-04-05 17:59:36.252103\n",
      "date : 2019-01-31 11:00:00 debut_traitement : 2019-04-05 18:01:13.370999\n",
      "date : 2019-01-31 12:00:00 debut_traitement : 2019-04-05 18:02:49.818110\n",
      "date : 2019-01-31 13:00:00 debut_traitement : 2019-04-05 18:04:24.343783\n",
      "date : 2019-01-31 14:00:00 debut_traitement : 2019-04-05 18:05:57.463541\n",
      "date : 2019-01-31 15:00:00 debut_traitement : 2019-04-05 18:07:21.460301\n",
      "date : 2019-01-31 16:00:00 debut_traitement : 2019-04-05 18:08:58.079228\n",
      "date : 2019-01-31 17:00:00 debut_traitement : 2019-04-05 18:10:02.252260\n",
      "date : 2019-01-31 18:00:00 debut_traitement : 2019-04-05 18:10:44.336572\n",
      "date : 2019-01-31 19:00:00 debut_traitement : 2019-04-05 18:11:05.222472\n",
      "date : 2019-01-31 20:00:00 debut_traitement : 2019-04-05 18:11:30.966684\n",
      "date : 2019-01-31 21:00:00 debut_traitement : 2019-04-05 18:11:58.273074\n",
      "date : 2019-01-31 22:00:00 debut_traitement : 2019-04-05 18:12:21.252279\n",
      "date : 2019-01-31 23:00:00 debut_traitement : 2019-04-05 18:12:30.625173\n",
      "date : 2019-02-01 00:00:00 debut_traitement : 2019-04-05 18:12:55.930134\n",
      "date : 2019-02-01 01:00:00 debut_traitement : 2019-04-05 18:13:18.737507\n",
      "date : 2019-02-01 02:00:00 debut_traitement : 2019-04-05 18:13:37.780093\n",
      "date : 2019-02-01 03:00:00 debut_traitement : 2019-04-05 18:14:10.757037\n",
      "date : 2019-02-01 04:00:00 debut_traitement : 2019-04-05 18:15:15.336235\n",
      "date : 2019-02-01 05:00:00 debut_traitement : 2019-04-05 18:16:37.677085\n",
      "date : 2019-02-01 06:00:00 debut_traitement : 2019-04-05 18:18:08.391017\n",
      "date : 2019-02-01 07:00:00 debut_traitement : 2019-04-05 18:19:43.682016\n",
      "date : 2019-02-01 08:00:00 debut_traitement : 2019-04-05 18:21:15.317544\n",
      "date : 2019-02-01 09:00:00 debut_traitement : 2019-04-05 18:22:52.873682\n",
      "date : 2019-02-01 10:00:00 debut_traitement : 2019-04-05 18:24:35.881642\n",
      "date : 2019-02-01 11:00:00 debut_traitement : 2019-04-05 18:26:12.703569\n",
      "date : 2019-02-01 12:00:00 debut_traitement : 2019-04-05 18:27:47.275966\n",
      "date : 2019-02-01 13:00:00 debut_traitement : 2019-04-05 18:29:10.630204\n",
      "date : 2019-02-01 14:00:00 debut_traitement : 2019-04-05 18:30:34.080044\n",
      "date : 2019-02-01 15:00:00 debut_traitement : 2019-04-05 18:31:58.639075\n",
      "date : 2019-02-01 16:00:00 debut_traitement : 2019-04-05 18:33:08.357653\n",
      "date : 2019-02-01 17:00:00 debut_traitement : 2019-04-05 18:34:07.031886\n",
      "date : 2019-02-01 18:00:00 debut_traitement : 2019-04-05 18:34:39.711985\n",
      "date : 2019-02-01 19:00:00 debut_traitement : 2019-04-05 18:35:10.908042\n",
      "date : 2019-02-01 20:00:00 debut_traitement : 2019-04-05 18:35:35.230622\n",
      "date : 2019-02-01 21:00:00 debut_traitement : 2019-04-05 18:35:57.131910\n",
      "date : 2019-02-01 22:00:00 debut_traitement : 2019-04-05 18:36:13.034553\n",
      "date : 2019-02-01 23:00:00 debut_traitement : 2019-04-05 18:36:50.651033\n",
      "date : 2019-02-02 00:00:00 debut_traitement : 2019-04-05 18:37:21.519032\n",
      "date : 2019-02-02 01:00:00 debut_traitement : 2019-04-05 18:37:58.323227\n",
      "date : 2019-02-02 02:00:00 debut_traitement : 2019-04-05 18:38:36.095916\n",
      "date : 2019-02-02 03:00:00 debut_traitement : 2019-04-05 18:39:08.276106\n",
      "date : 2019-02-02 04:00:00 debut_traitement : 2019-04-05 18:39:49.672957\n",
      "date : 2019-02-02 05:00:00 debut_traitement : 2019-04-05 18:40:35.162628\n",
      "date : 2019-02-02 06:00:00 debut_traitement : 2019-04-05 18:41:22.401903\n",
      "date : 2019-02-02 07:00:00 debut_traitement : 2019-04-05 18:42:14.468207\n",
      "date : 2019-02-02 08:00:00 debut_traitement : 2019-04-05 18:43:18.484891\n",
      "date : 2019-02-02 09:00:00 debut_traitement : 2019-04-05 18:44:51.868110\n",
      "date : 2019-02-02 10:00:00 debut_traitement : 2019-04-05 18:46:40.983964\n",
      "date : 2019-02-02 11:00:00 debut_traitement : 2019-04-05 18:48:29.709283\n",
      "date : 2019-02-02 12:00:00 debut_traitement : 2019-04-05 18:49:50.987693\n",
      "date : 2019-02-02 13:00:00 debut_traitement : 2019-04-05 18:51:21.170271\n",
      "date : 2019-02-02 14:00:00 debut_traitement : 2019-04-05 18:52:45.119965\n",
      "date : 2019-02-02 15:00:00 debut_traitement : 2019-04-05 18:54:04.648693\n",
      "date : 2019-02-02 16:00:00 debut_traitement : 2019-04-05 18:55:03.791476\n",
      "date : 2019-02-02 17:00:00 debut_traitement : 2019-04-05 18:55:53.858185\n",
      "date : 2019-02-02 18:00:00 debut_traitement : 2019-04-05 18:56:12.916379\n",
      "date : 2019-02-02 19:00:00 debut_traitement : 2019-04-05 18:56:29.725007\n",
      "date : 2019-02-02 20:00:00 debut_traitement : 2019-04-05 18:56:42.470765\n",
      "date : 2019-02-02 21:00:00 debut_traitement : 2019-04-05 18:56:55.827095\n",
      "date : 2019-02-02 22:00:00 debut_traitement : 2019-04-05 18:57:12.588936\n",
      "date : 2019-02-02 23:00:00 debut_traitement : 2019-04-05 18:57:34.099620\n",
      "date : 2019-02-03 00:00:00 debut_traitement : 2019-04-05 18:57:54.438738\n",
      "date : 2019-02-03 01:00:00 debut_traitement : 2019-04-05 18:58:17.011718\n",
      "date : 2019-02-03 02:00:00 debut_traitement : 2019-04-05 18:58:37.663262\n",
      "date : 2019-02-03 03:00:00 debut_traitement : 2019-04-05 18:58:51.550721\n",
      "date : 2019-02-03 04:00:00 debut_traitement : 2019-04-05 18:59:00.907966\n",
      "date : 2019-02-03 05:00:00 debut_traitement : 2019-04-05 18:59:23.934003\n",
      "date : 2019-02-03 06:00:00 debut_traitement : 2019-04-05 18:59:50.459172\n",
      "date : 2019-02-03 07:00:00 debut_traitement : 2019-04-05 19:00:19.374490\n",
      "date : 2019-02-03 08:00:00 debut_traitement : 2019-04-05 19:01:04.830980\n",
      "date : 2019-02-03 09:00:00 debut_traitement : 2019-04-05 19:02:07.816625\n",
      "date : 2019-02-03 10:00:00 debut_traitement : 2019-04-05 19:03:15.254348\n",
      "date : 2019-02-03 11:00:00 debut_traitement : 2019-04-05 19:04:26.363121\n",
      "date : 2019-02-03 12:00:00 debut_traitement : 2019-04-05 19:05:22.756531\n",
      "date : 2019-02-03 13:00:00 debut_traitement : 2019-04-05 19:06:18.259483\n",
      "date : 2019-02-03 14:00:00 debut_traitement : 2019-04-05 19:07:11.075508\n",
      "date : 2019-02-03 15:00:00 debut_traitement : 2019-04-05 19:08:07.031492\n",
      "date : 2019-02-03 16:00:00 debut_traitement : 2019-04-05 19:09:04.221534\n",
      "date : 2019-02-03 17:00:00 debut_traitement : 2019-04-05 19:10:01.786491\n",
      "date : 2019-02-03 18:00:00 debut_traitement : 2019-04-05 19:10:36.559832\n",
      "date : 2019-02-03 19:00:00 debut_traitement : 2019-04-05 19:11:02.631952\n",
      "date : 2019-02-03 20:00:00 debut_traitement : 2019-04-05 19:11:18.659565\n",
      "date : 2019-02-03 21:00:00 debut_traitement : 2019-04-05 19:11:52.886081\n",
      "date : 2019-02-03 22:00:00 debut_traitement : 2019-04-05 19:12:21.426421\n",
      "date : 2019-02-03 23:00:00 debut_traitement : 2019-04-05 19:13:00.183217\n",
      "date : 2019-02-04 00:00:00 debut_traitement : 2019-04-05 19:13:22.818664\n",
      "date : 2019-02-04 01:00:00 debut_traitement : 2019-04-05 19:13:37.674609\n",
      "date : 2019-02-04 02:00:00 debut_traitement : 2019-04-05 19:14:03.153198\n",
      "date : 2019-02-04 03:00:00 debut_traitement : 2019-04-05 19:14:46.174597\n",
      "date : 2019-02-04 04:00:00 debut_traitement : 2019-04-05 19:15:40.209077\n",
      "date : 2019-02-04 05:00:00 debut_traitement : 2019-04-05 19:16:47.098161\n",
      "date : 2019-02-04 06:00:00 debut_traitement : 2019-04-05 19:18:28.403120\n",
      "date : 2019-02-04 07:00:00 debut_traitement : 2019-04-05 19:20:46.246558\n",
      "date : 2019-02-04 08:00:00 debut_traitement : 2019-04-05 19:23:13.041100\n",
      "date : 2019-02-04 09:00:00 debut_traitement : 2019-04-05 19:25:34.024458\n",
      "date : 2019-02-04 10:00:00 debut_traitement : 2019-04-05 19:27:48.087479\n",
      "date : 2019-02-04 11:00:00 debut_traitement : 2019-04-05 19:29:58.448156\n",
      "date : 2019-02-04 12:00:00 debut_traitement : 2019-04-05 19:32:06.137618\n",
      "date : 2019-02-04 13:00:00 debut_traitement : 2019-04-05 19:34:07.685962\n",
      "date : 2019-02-04 14:00:00 debut_traitement : 2019-04-05 19:36:06.471189\n",
      "date : 2019-02-04 15:00:00 debut_traitement : 2019-04-05 19:37:59.195345\n",
      "date : 2019-02-04 16:00:00 debut_traitement : 2019-04-05 19:39:35.688749\n",
      "date : 2019-02-04 17:00:00 debut_traitement : 2019-04-05 19:40:38.596149\n",
      "date : 2019-02-04 18:00:00 debut_traitement : 2019-04-05 19:41:26.100849\n",
      "date : 2019-02-04 19:00:00 debut_traitement : 2019-04-05 19:42:08.075572\n",
      "date : 2019-02-04 20:00:00 debut_traitement : 2019-04-05 19:42:39.615188\n",
      "date : 2019-02-04 21:00:00 debut_traitement : 2019-04-05 19:43:09.998825\n",
      "date : 2019-02-04 22:00:00 debut_traitement : 2019-04-05 19:43:35.961602\n",
      "date : 2019-02-04 23:00:00 debut_traitement : 2019-04-05 19:44:00.705913\n",
      "date : 2019-02-05 00:00:00 debut_traitement : 2019-04-05 19:44:21.638594\n",
      "date : 2019-02-05 01:00:00 debut_traitement : 2019-04-05 19:45:11.845834\n",
      "date : 2019-02-05 02:00:00 debut_traitement : 2019-04-05 19:45:59.444254\n",
      "date : 2019-02-05 03:00:00 debut_traitement : 2019-04-05 19:47:04.413651\n",
      "date : 2019-02-05 04:00:00 debut_traitement : 2019-04-05 19:47:46.638346\n",
      "date : 2019-02-05 05:00:00 debut_traitement : 2019-04-05 19:48:57.088985\n",
      "date : 2019-02-05 06:00:00 debut_traitement : 2019-04-05 19:50:52.656149\n",
      "date : 2019-02-05 07:00:00 debut_traitement : 2019-04-05 19:53:30.510458\n",
      "date : 2019-02-05 08:00:00 debut_traitement : 2019-04-05 19:55:59.851014\n",
      "date : 2019-02-05 09:00:00 debut_traitement : 2019-04-05 19:58:30.611828\n",
      "date : 2019-02-05 10:00:00 debut_traitement : 2019-04-05 20:01:13.683585\n",
      "date : 2019-02-05 11:00:00 debut_traitement : 2019-04-05 20:03:26.153065\n",
      "date : 2019-02-05 12:00:00 debut_traitement : 2019-04-05 20:05:18.437839\n",
      "date : 2019-02-05 13:00:00 debut_traitement : 2019-04-05 20:07:30.626126\n",
      "date : 2019-02-05 14:00:00 debut_traitement : 2019-04-05 20:09:29.942380\n",
      "date : 2019-02-05 15:00:00 debut_traitement : 2019-04-05 20:11:40.287257\n",
      "date : 2019-02-05 16:00:00 debut_traitement : 2019-04-05 20:13:50.351011\n",
      "date : 2019-02-05 17:00:00 debut_traitement : 2019-04-05 20:15:13.144394\n",
      "date : 2019-02-05 18:00:00 debut_traitement : 2019-04-05 20:16:18.098148\n",
      "date : 2019-02-05 19:00:00 debut_traitement : 2019-04-05 20:17:11.195260\n",
      "date : 2019-02-05 20:00:00 debut_traitement : 2019-04-05 20:17:47.452517\n",
      "date : 2019-02-05 21:00:00 debut_traitement : 2019-04-05 20:18:16.117774\n",
      "date : 2019-02-05 22:00:00 debut_traitement : 2019-04-05 20:18:53.046705\n",
      "date : 2019-02-05 23:00:00 debut_traitement : 2019-04-05 20:19:24.195775\n",
      "date : 2019-02-06 00:00:00 debut_traitement : 2019-04-05 20:19:57.063178\n",
      "date : 2019-02-06 01:00:00 debut_traitement : 2019-04-05 20:20:17.574029\n",
      "date : 2019-02-06 02:00:00 debut_traitement : 2019-04-05 20:20:47.549620\n",
      "date : 2019-02-06 03:00:00 debut_traitement : 2019-04-05 20:21:31.664452\n",
      "date : 2019-02-06 04:00:00 debut_traitement : 2019-04-05 20:22:32.790900\n",
      "date : 2019-02-06 05:00:00 debut_traitement : 2019-04-05 20:23:43.868212\n",
      "date : 2019-02-06 06:00:00 debut_traitement : 2019-04-05 20:25:46.230529\n",
      "date : 2019-02-06 07:00:00 debut_traitement : 2019-04-05 20:27:37.079893\n",
      "date : 2019-02-06 08:00:00 debut_traitement : 2019-04-05 20:30:07.607569\n",
      "date : 2019-02-06 09:00:00 debut_traitement : 2019-04-05 20:32:20.967388\n",
      "date : 2019-02-06 10:00:00 debut_traitement : 2019-04-05 20:33:44.963540\n",
      "date : 2019-02-06 11:00:00 debut_traitement : 2019-04-05 20:35:03.195407\n",
      "date : 2019-02-06 12:00:00 debut_traitement : 2019-04-05 20:36:50.387430\n",
      "date : 2019-02-06 13:00:00 debut_traitement : 2019-04-05 20:38:40.424396\n",
      "date : 2019-02-06 14:00:00 debut_traitement : 2019-04-05 20:40:15.261798\n",
      "date : 2019-02-06 15:00:00 debut_traitement : 2019-04-05 20:41:54.832508\n",
      "date : 2019-02-06 16:00:00 debut_traitement : 2019-04-05 20:43:19.266065\n",
      "date : 2019-02-06 17:00:00 debut_traitement : 2019-04-05 20:44:19.673908\n",
      "date : 2019-02-06 18:00:00 debut_traitement : 2019-04-05 20:44:54.259693\n",
      "date : 2019-02-06 19:00:00 debut_traitement : 2019-04-05 20:45:36.156225\n",
      "date : 2019-02-06 20:00:00 debut_traitement : 2019-04-05 20:46:22.520444\n",
      "date : 2019-02-06 21:00:00 debut_traitement : 2019-04-05 20:46:56.981209\n",
      "date : 2019-02-06 22:00:00 debut_traitement : 2019-04-05 20:47:32.269902\n",
      "date : 2019-02-06 23:00:00 debut_traitement : 2019-04-05 20:47:56.217478\n",
      "date : 2019-02-07 00:00:00 debut_traitement : 2019-04-05 20:48:44.659415\n",
      "date : 2019-02-07 01:00:00 debut_traitement : 2019-04-05 20:49:45.348471\n",
      "date : 2019-02-07 02:00:00 debut_traitement : 2019-04-05 20:50:45.022111\n",
      "date : 2019-02-07 03:00:00 debut_traitement : 2019-04-05 20:51:44.976969\n",
      "date : 2019-02-07 04:00:00 debut_traitement : 2019-04-05 20:52:33.745330\n",
      "date : 2019-02-07 05:00:00 debut_traitement : 2019-04-05 20:53:50.571311\n",
      "date : 2019-02-07 06:00:00 debut_traitement : 2019-04-05 20:56:09.148500\n",
      "date : 2019-02-07 07:00:00 debut_traitement : 2019-04-05 20:58:40.455818\n",
      "date : 2019-02-07 08:00:00 debut_traitement : 2019-04-05 21:01:45.694029\n",
      "date : 2019-02-07 09:00:00 debut_traitement : 2019-04-05 21:04:47.323738\n",
      "date : 2019-02-07 10:00:00 debut_traitement : 2019-04-05 21:07:24.646624\n",
      "date : 2019-02-07 11:00:00 debut_traitement : 2019-04-05 21:09:39.222883\n",
      "date : 2019-02-07 12:00:00 debut_traitement : 2019-04-05 21:12:04.673493\n",
      "date : 2019-02-07 13:00:00 debut_traitement : 2019-04-05 21:14:11.565915\n",
      "date : 2019-02-07 14:00:00 debut_traitement : 2019-04-05 21:16:36.329091\n",
      "date : 2019-02-07 15:00:00 debut_traitement : 2019-04-05 21:18:55.078110\n",
      "date : 2019-02-07 16:00:00 debut_traitement : 2019-04-05 21:21:00.283361\n",
      "date : 2019-02-07 17:00:00 debut_traitement : 2019-04-05 21:22:55.506552\n",
      "date : 2019-02-07 18:00:00 debut_traitement : 2019-04-05 21:24:08.567691\n",
      "date : 2019-02-07 19:00:00 debut_traitement : 2019-04-05 21:25:03.021929\n",
      "date : 2019-02-07 20:00:00 debut_traitement : 2019-04-05 21:25:50.417156\n",
      "date : 2019-02-07 21:00:00 debut_traitement : 2019-04-05 21:26:34.078870\n",
      "date : 2019-02-07 22:00:00 debut_traitement : 2019-04-05 21:27:18.271721\n",
      "date : 2019-02-07 23:00:00 debut_traitement : 2019-04-05 21:28:00.652489\n",
      "date : 2019-02-08 00:00:00 debut_traitement : 2019-04-05 21:28:40.986855\n",
      "date : 2019-02-08 01:00:00 debut_traitement : 2019-04-05 21:29:04.903170\n",
      "date : 2019-02-08 02:00:00 debut_traitement : 2019-04-05 21:29:58.359483\n",
      "date : 2019-02-08 03:00:00 debut_traitement : 2019-04-05 21:30:31.461160\n",
      "date : 2019-02-08 04:00:00 debut_traitement : 2019-04-05 21:32:19.561017\n",
      "date : 2019-02-08 05:00:00 debut_traitement : 2019-04-05 21:33:53.867241\n",
      "date : 2019-02-08 06:00:00 debut_traitement : 2019-04-05 21:36:09.398230\n",
      "date : 2019-02-08 07:00:00 debut_traitement : 2019-04-05 21:38:35.551685\n",
      "date : 2019-02-08 08:00:00 debut_traitement : 2019-04-05 21:41:28.571942\n",
      "date : 2019-02-08 09:00:00 debut_traitement : 2019-04-05 21:44:29.857860\n",
      "date : 2019-02-08 10:00:00 debut_traitement : 2019-04-05 21:47:09.226943\n",
      "date : 2019-02-08 11:00:00 debut_traitement : 2019-04-05 21:49:42.972370\n",
      "date : 2019-02-08 12:00:00 debut_traitement : 2019-04-05 21:52:18.811054\n",
      "date : 2019-02-08 13:00:00 debut_traitement : 2019-04-05 21:54:47.948181\n",
      "date : 2019-02-08 14:00:00 debut_traitement : 2019-04-05 21:57:09.396260\n",
      "date : 2019-02-08 15:00:00 debut_traitement : 2019-04-05 21:59:37.486745\n",
      "date : 2019-02-08 16:00:00 debut_traitement : 2019-04-05 22:01:49.643482\n",
      "date : 2019-02-08 17:00:00 debut_traitement : 2019-04-05 22:03:52.895999\n",
      "date : 2019-02-08 18:00:00 debut_traitement : 2019-04-05 22:04:44.602648\n",
      "date : 2019-02-08 19:00:00 debut_traitement : 2019-04-05 22:05:29.467216\n",
      "date : 2019-02-08 20:00:00 debut_traitement : 2019-04-05 22:06:21.267584\n",
      "date : 2019-02-08 21:00:00 debut_traitement : 2019-04-05 22:06:57.915282\n",
      "date : 2019-02-08 22:00:00 debut_traitement : 2019-04-05 22:07:18.863545\n",
      "date : 2019-02-08 23:00:00 debut_traitement : 2019-04-05 22:07:37.859116\n",
      "date : 2019-02-09 00:00:00 debut_traitement : 2019-04-05 22:08:20.177365\n",
      "date : 2019-02-09 01:00:00 debut_traitement : 2019-04-05 22:08:39.750885\n",
      "date : 2019-02-09 02:00:00 debut_traitement : 2019-04-05 22:09:23.178276\n",
      "date : 2019-02-09 03:00:00 debut_traitement : 2019-04-05 22:09:59.888427\n",
      "date : 2019-02-09 04:00:00 debut_traitement : 2019-04-05 22:10:37.504675\n",
      "date : 2019-02-09 05:00:00 debut_traitement : 2019-04-05 22:11:20.760169\n",
      "date : 2019-02-09 06:00:00 debut_traitement : 2019-04-05 22:12:18.074915\n",
      "date : 2019-02-09 07:00:00 debut_traitement : 2019-04-05 22:13:57.424884\n",
      "date : 2019-02-09 08:00:00 debut_traitement : 2019-04-05 22:16:18.204491\n",
      "date : 2019-02-09 09:00:00 debut_traitement : 2019-04-05 22:19:04.743774\n",
      "date : 2019-02-09 10:00:00 debut_traitement : 2019-04-05 22:22:12.793620\n",
      "date : 2019-02-09 11:00:00 debut_traitement : 2019-04-05 22:24:40.306028\n",
      "date : 2019-02-09 12:00:00 debut_traitement : 2019-04-05 22:26:49.744603\n",
      "date : 2019-02-09 13:00:00 debut_traitement : 2019-04-05 22:28:56.353812\n",
      "date : 2019-02-09 14:00:00 debut_traitement : 2019-04-05 22:30:56.513261\n",
      "date : 2019-02-09 15:00:00 debut_traitement : 2019-04-05 22:32:45.769047\n",
      "date : 2019-02-09 16:00:00 debut_traitement : 2019-04-05 22:34:05.562884\n",
      "date : 2019-02-09 17:00:00 debut_traitement : 2019-04-05 22:35:13.515768\n",
      "date : 2019-02-09 18:00:00 debut_traitement : 2019-04-05 22:35:32.870625\n",
      "date : 2019-02-09 19:00:00 debut_traitement : 2019-04-05 22:35:56.474492\n",
      "date : 2019-02-09 20:00:00 debut_traitement : 2019-04-05 22:36:16.266780\n",
      "date : 2019-02-09 21:00:00 debut_traitement : 2019-04-05 22:36:30.216647\n",
      "date : 2019-02-09 22:00:00 debut_traitement : 2019-04-05 22:36:50.524374\n",
      "date : 2019-02-09 23:00:00 debut_traitement : 2019-04-05 22:37:17.111920\n",
      "date : 2019-02-10 00:00:00 debut_traitement : 2019-04-05 22:37:41.778066\n",
      "date : 2019-02-10 01:00:00 debut_traitement : 2019-04-05 22:38:00.726734\n",
      "date : 2019-02-10 02:00:00 debut_traitement : 2019-04-05 22:38:16.082528\n",
      "date : 2019-02-10 03:00:00 debut_traitement : 2019-04-05 22:38:47.747044\n",
      "date : 2019-02-10 04:00:00 debut_traitement : 2019-04-05 22:39:03.774517\n",
      "date : 2019-02-10 05:00:00 debut_traitement : 2019-04-05 22:39:29.909073\n",
      "date : 2019-02-10 06:00:00 debut_traitement : 2019-04-05 22:39:59.652131\n",
      "date : 2019-02-10 07:00:00 debut_traitement : 2019-04-05 22:40:31.300989\n",
      "date : 2019-02-10 08:00:00 debut_traitement : 2019-04-05 22:41:19.758397\n",
      "date : 2019-02-10 09:00:00 debut_traitement : 2019-04-05 22:42:35.600072\n",
      "date : 2019-02-10 10:00:00 debut_traitement : 2019-04-05 22:44:07.844191\n",
      "date : 2019-02-10 11:00:00 debut_traitement : 2019-04-05 22:46:03.299686\n",
      "date : 2019-02-10 12:00:00 debut_traitement : 2019-04-05 22:47:38.168160\n",
      "date : 2019-02-10 13:00:00 debut_traitement : 2019-04-05 22:49:08.334610\n",
      "date : 2019-02-10 14:00:00 debut_traitement : 2019-04-05 22:50:30.065571\n",
      "date : 2019-02-10 15:00:00 debut_traitement : 2019-04-05 22:52:23.867131\n",
      "date : 2019-02-10 16:00:00 debut_traitement : 2019-04-05 22:54:03.593793\n",
      "date : 2019-02-10 17:00:00 debut_traitement : 2019-04-05 22:55:22.559704\n",
      "date : 2019-02-10 18:00:00 debut_traitement : 2019-04-05 22:56:06.221398\n",
      "date : 2019-02-10 19:00:00 debut_traitement : 2019-04-05 22:56:44.695382\n",
      "date : 2019-02-10 20:00:00 debut_traitement : 2019-04-05 22:57:12.173334\n",
      "date : 2019-02-10 21:00:00 debut_traitement : 2019-04-05 22:57:48.586686\n",
      "date : 2019-02-10 22:00:00 debut_traitement : 2019-04-05 22:58:18.735889\n",
      "date : 2019-02-10 23:00:00 debut_traitement : 2019-04-05 22:58:44.198686\n",
      "date : 2019-02-11 00:00:00 debut_traitement : 2019-04-05 22:59:07.989995\n",
      "date : 2019-02-11 01:00:00 debut_traitement : 2019-04-05 22:59:20.768259\n",
      "date : 2019-02-11 02:00:00 debut_traitement : 2019-04-05 22:59:54.682233\n",
      "date : 2019-02-11 03:00:00 debut_traitement : 2019-04-05 23:00:50.417264\n",
      "date : 2019-02-11 04:00:00 debut_traitement : 2019-04-05 23:01:44.029759\n",
      "date : 2019-02-11 05:00:00 debut_traitement : 2019-04-05 23:03:02.183323\n",
      "date : 2019-02-11 06:00:00 debut_traitement : 2019-04-05 23:05:06.466812\n",
      "date : 2019-02-11 07:00:00 debut_traitement : 2019-04-05 23:07:42.524019\n",
      "date : 2019-02-11 08:00:00 debut_traitement : 2019-04-05 23:10:52.807641\n",
      "date : 2019-02-11 09:00:00 debut_traitement : 2019-04-05 23:13:35.254057\n",
      "date : 2019-02-11 10:00:00 debut_traitement : 2019-04-05 23:15:40.099830\n",
      "date : 2019-02-11 11:00:00 debut_traitement : 2019-04-05 23:18:04.673576\n",
      "date : 2019-02-11 12:00:00 debut_traitement : 2019-04-05 23:20:20.751124\n",
      "date : 2019-02-11 13:00:00 debut_traitement : 2019-04-05 23:22:29.767866\n",
      "date : 2019-02-11 14:00:00 debut_traitement : 2019-04-05 23:24:51.531589\n",
      "date : 2019-02-11 15:00:00 debut_traitement : 2019-04-05 23:26:52.143966\n",
      "date : 2019-02-11 16:00:00 debut_traitement : 2019-04-05 23:28:44.648906\n",
      "date : 2019-02-11 17:00:00 debut_traitement : 2019-04-05 23:30:00.240611\n",
      "date : 2019-02-11 18:00:00 debut_traitement : 2019-04-05 23:30:22.407326\n",
      "date : 2019-02-11 19:00:00 debut_traitement : 2019-04-05 23:30:30.858473\n",
      "date : 2019-02-11 20:00:00 debut_traitement : 2019-04-05 23:30:39.340832\n",
      "date : 2019-02-11 21:00:00 debut_traitement : 2019-04-05 23:30:42.465102\n",
      "date : 2019-02-11 22:00:00 debut_traitement : 2019-04-05 23:30:47.651388\n",
      "date : 2019-02-11 23:00:00 debut_traitement : 2019-04-05 23:30:49.260420\n",
      "date : 2019-02-12 00:00:00 debut_traitement : 2019-04-05 23:30:49.619680\n",
      "date : 2019-02-12 01:00:00 debut_traitement : 2019-04-05 23:30:49.978974\n",
      "date : 2019-02-12 02:00:00 debut_traitement : 2019-04-05 23:30:50.338261\n",
      "date : 2019-02-12 03:00:00 debut_traitement : 2019-04-05 23:30:50.713173\n",
      "date : 2019-02-12 04:00:00 debut_traitement : 2019-04-05 23:30:51.072465\n",
      "date : 2019-02-12 05:00:00 debut_traitement : 2019-04-05 23:30:51.447410\n",
      "date : 2019-02-12 06:00:00 debut_traitement : 2019-04-05 23:30:51.822289\n",
      "date : 2019-02-12 07:00:00 debut_traitement : 2019-04-05 23:30:52.212821\n",
      "date : 2019-02-12 08:00:00 debut_traitement : 2019-04-05 23:30:52.587735\n",
      "date : 2019-02-12 09:00:00 debut_traitement : 2019-04-05 23:30:52.947029\n",
      "date : 2019-02-12 10:00:00 debut_traitement : 2019-04-05 23:30:53.306318\n",
      "date : 2019-02-12 11:00:00 debut_traitement : 2019-04-05 23:30:53.681230\n",
      "date : 2019-02-12 12:00:00 debut_traitement : 2019-04-05 23:30:54.040520\n",
      "date : 2019-02-12 13:00:00 debut_traitement : 2019-04-05 23:30:54.399848\n",
      "date : 2019-02-12 14:00:00 debut_traitement : 2019-04-05 23:30:54.774727\n",
      "date : 2019-02-12 15:00:00 debut_traitement : 2019-04-05 23:30:55.134015\n",
      "date : 2019-02-12 16:00:00 debut_traitement : 2019-04-05 23:30:55.493339\n",
      "date : 2019-02-12 17:00:00 debut_traitement : 2019-04-05 23:30:55.852597\n",
      "date : 2019-02-12 18:00:00 debut_traitement : 2019-04-05 23:30:56.211926\n",
      "date : 2019-02-12 19:00:00 debut_traitement : 2019-04-05 23:30:56.571180\n",
      "date : 2019-02-12 20:00:00 debut_traitement : 2019-04-05 23:30:56.946125\n",
      "date : 2019-02-12 21:00:00 debut_traitement : 2019-04-05 23:30:57.305382\n",
      "date : 2019-02-12 22:00:00 debut_traitement : 2019-04-05 23:30:57.680295\n",
      "date : 2019-02-12 23:00:00 debut_traitement : 2019-04-05 23:30:58.039589\n",
      "date : 2019-02-13 00:00:00 debut_traitement : 2019-04-05 23:30:58.398878\n",
      "date : 2019-02-13 01:00:00 debut_traitement : 2019-04-05 23:30:58.758168\n",
      "date : 2019-02-13 02:00:00 debut_traitement : 2019-04-05 23:30:59.133113\n",
      "date : 2019-02-13 03:00:00 debut_traitement : 2019-04-05 23:30:59.507991\n",
      "date : 2019-02-13 04:00:00 debut_traitement : 2019-04-05 23:30:59.867316\n",
      "date : 2019-02-13 05:00:00 debut_traitement : 2019-04-05 23:31:00.226577\n",
      "date : 2019-02-13 06:00:00 debut_traitement : 2019-04-05 23:31:00.601519\n",
      "date : 2019-02-13 07:00:00 debut_traitement : 2019-04-05 23:31:00.960814\n",
      "date : 2019-02-13 08:00:00 debut_traitement : 2019-04-05 23:31:01.320071\n",
      "date : 2019-02-13 09:00:00 debut_traitement : 2019-04-05 23:31:01.695020\n",
      "date : 2019-02-13 10:00:00 debut_traitement : 2019-04-05 23:31:02.069892\n",
      "date : 2019-02-13 11:00:00 debut_traitement : 2019-04-05 23:31:02.429184\n",
      "date : 2019-02-13 12:00:00 debut_traitement : 2019-04-05 23:31:02.788475\n",
      "date : 2019-02-13 13:00:00 debut_traitement : 2019-04-05 23:31:03.163386\n",
      "date : 2019-02-13 14:00:00 debut_traitement : 2019-04-05 23:31:03.522718\n",
      "date : 2019-02-13 15:00:00 debut_traitement : 2019-04-05 23:31:03.897623\n",
      "date : 2019-02-13 16:00:00 debut_traitement : 2019-04-05 23:31:04.256884\n",
      "date : 2019-02-13 17:00:00 debut_traitement : 2019-04-05 23:31:04.616210\n",
      "date : 2019-02-13 18:00:00 debut_traitement : 2019-04-05 23:31:04.975491\n",
      "date : 2019-02-13 19:00:00 debut_traitement : 2019-04-05 23:31:05.334753\n",
      "date : 2019-02-13 20:00:00 debut_traitement : 2019-04-05 23:31:05.694082\n",
      "date : 2019-02-13 21:00:00 debut_traitement : 2019-04-05 23:31:06.068961\n",
      "date : 2019-02-13 22:00:00 debut_traitement : 2019-04-05 23:31:06.428288\n",
      "date : 2019-02-13 23:00:00 debut_traitement : 2019-04-05 23:31:06.787543\n",
      "date : 2019-02-14 00:00:00 debut_traitement : 2019-04-05 23:31:07.162486\n",
      "date : 2019-02-14 01:00:00 debut_traitement : 2019-04-05 23:31:07.537365\n",
      "date : 2019-02-14 02:00:00 debut_traitement : 2019-04-05 23:31:07.927896\n",
      "date : 2019-02-14 03:00:00 debut_traitement : 2019-04-05 23:31:08.287223\n",
      "date : 2019-02-14 04:00:00 debut_traitement : 2019-04-05 23:31:08.662100\n",
      "date : 2019-02-14 05:00:00 debut_traitement : 2019-04-05 23:31:09.021393\n",
      "date : 2019-02-14 06:00:00 debut_traitement : 2019-04-05 23:31:09.380683\n",
      "date : 2019-02-14 07:00:00 debut_traitement : 2019-04-05 23:31:09.755595\n",
      "date : 2019-02-14 08:00:00 debut_traitement : 2019-04-05 23:31:10.130511\n",
      "date : 2019-02-14 09:00:00 debut_traitement : 2019-04-05 23:31:10.489832\n",
      "date : 2019-02-14 10:00:00 debut_traitement : 2019-04-05 23:31:10.849123\n",
      "date : 2019-02-14 11:00:00 debut_traitement : 2019-04-05 23:31:11.224001\n",
      "date : 2019-02-14 12:00:00 debut_traitement : 2019-04-05 23:31:11.583326\n",
      "date : 2019-02-14 13:00:00 debut_traitement : 2019-04-05 23:31:11.958208\n",
      "date : 2019-02-14 14:00:00 debut_traitement : 2019-04-05 23:31:12.317496\n",
      "date : 2019-02-14 15:00:00 debut_traitement : 2019-04-05 23:31:12.676827\n",
      "date : 2019-02-14 16:00:00 debut_traitement : 2019-04-05 23:31:13.082942\n",
      "date : 2019-02-14 17:00:00 debut_traitement : 2019-04-05 23:31:13.442236\n",
      "date : 2019-02-14 18:00:00 debut_traitement : 2019-04-05 23:31:13.801560\n",
      "date : 2019-02-14 19:00:00 debut_traitement : 2019-04-05 23:31:14.176440\n",
      "date : 2019-02-14 20:00:00 debut_traitement : 2019-04-05 23:31:14.535729\n",
      "date : 2019-02-14 21:00:00 debut_traitement : 2019-04-05 23:31:14.895019\n",
      "date : 2019-02-14 22:00:00 debut_traitement : 2019-04-05 23:31:15.269971\n",
      "date : 2019-02-14 23:00:00 debut_traitement : 2019-04-05 23:31:15.629221\n",
      "date : 2019-02-15 00:00:00 debut_traitement : 2019-04-05 23:31:15.988548\n",
      "date : 2019-02-15 01:00:00 debut_traitement : 2019-04-05 23:31:16.347805\n",
      "date : 2019-02-15 02:00:00 debut_traitement : 2019-04-05 23:31:16.707094\n",
      "date : 2019-02-15 03:00:00 debut_traitement : 2019-04-05 23:31:17.066386\n",
      "date : 2019-02-15 04:00:00 debut_traitement : 2019-04-05 23:31:17.441298\n",
      "date : 2019-02-15 05:00:00 debut_traitement : 2019-04-05 23:31:17.816210\n",
      "date : 2019-02-15 06:00:00 debut_traitement : 2019-04-05 23:31:18.191162\n",
      "date : 2019-02-15 07:00:00 debut_traitement : 2019-04-05 23:31:18.550411\n",
      "date : 2019-02-15 08:00:00 debut_traitement : 2019-04-05 23:31:18.909708\n",
      "date : 2019-02-15 09:00:00 debut_traitement : 2019-04-05 23:31:19.300238\n",
      "date : 2019-02-15 10:00:00 debut_traitement : 2019-04-05 23:31:19.659530\n",
      "date : 2019-02-15 11:00:00 debut_traitement : 2019-04-05 23:31:20.034476\n",
      "date : 2019-02-15 12:00:00 debut_traitement : 2019-04-05 23:31:20.393772\n",
      "date : 2019-02-15 13:00:00 debut_traitement : 2019-04-05 23:31:20.768644\n",
      "date : 2019-02-15 14:00:00 debut_traitement : 2019-04-05 23:31:21.127973\n",
      "date : 2019-02-15 15:00:00 debut_traitement : 2019-04-05 23:31:21.502881\n",
      "date : 2019-02-15 16:00:00 debut_traitement : 2019-04-05 23:31:21.877798\n",
      "date : 2019-02-15 17:00:00 debut_traitement : 2019-04-05 23:31:22.252672\n",
      "date : 2019-02-15 18:00:00 debut_traitement : 2019-04-05 23:31:22.627584\n",
      "date : 2019-02-15 19:00:00 debut_traitement : 2019-04-05 23:31:22.986910\n",
      "date : 2019-02-15 20:00:00 debut_traitement : 2019-04-05 23:31:23.361789\n",
      "date : 2019-02-15 21:00:00 debut_traitement : 2019-04-05 23:31:23.721082\n",
      "date : 2019-02-15 22:00:00 debut_traitement : 2019-04-05 23:31:24.095995\n",
      "date : 2019-02-15 23:00:00 debut_traitement : 2019-04-05 23:31:24.455285\n",
      "date : 2019-02-16 00:00:00 debut_traitement : 2019-04-05 23:31:24.830228\n",
      "date : 2019-02-16 01:00:00 debut_traitement : 2019-04-05 23:31:25.189489\n",
      "date : 2019-02-16 02:00:00 debut_traitement : 2019-04-05 23:31:25.564437\n",
      "date : 2019-02-16 03:00:00 debut_traitement : 2019-04-05 23:31:25.923728\n",
      "date : 2019-02-16 04:00:00 debut_traitement : 2019-04-05 23:31:26.283009\n",
      "date : 2019-02-16 05:00:00 debut_traitement : 2019-04-05 23:31:26.642271\n",
      "date : 2019-02-16 06:00:00 debut_traitement : 2019-04-05 23:31:27.017184\n",
      "date : 2019-02-16 07:00:00 debut_traitement : 2019-04-05 23:31:27.392099\n",
      "date : 2019-02-16 08:00:00 debut_traitement : 2019-04-05 23:31:27.751420\n",
      "date : 2019-02-16 09:00:00 debut_traitement : 2019-04-05 23:31:28.126300\n",
      "date : 2019-02-16 10:00:00 debut_traitement : 2019-04-05 23:31:28.516834\n",
      "date : 2019-02-16 11:00:00 debut_traitement : 2019-04-05 23:31:28.876123\n",
      "date : 2019-02-16 12:00:00 debut_traitement : 2019-04-05 23:31:29.235415\n",
      "date : 2019-02-16 13:00:00 debut_traitement : 2019-04-05 23:31:29.610364\n",
      "date : 2019-02-16 14:00:00 debut_traitement : 2019-04-05 23:31:29.969621\n",
      "date : 2019-02-16 15:00:00 debut_traitement : 2019-04-05 23:31:30.328913\n",
      "date : 2019-02-16 16:00:00 debut_traitement : 2019-04-05 23:31:30.703821\n",
      "date : 2019-02-16 17:00:00 debut_traitement : 2019-04-05 23:31:31.078774\n",
      "date : 2019-02-16 18:00:00 debut_traitement : 2019-04-05 23:31:31.422437\n",
      "date : 2019-02-16 19:00:00 debut_traitement : 2019-04-05 23:31:31.812975\n",
      "date : 2019-02-16 20:00:00 debut_traitement : 2019-04-05 23:31:32.172229\n",
      "date : 2019-02-16 21:00:00 debut_traitement : 2019-04-05 23:31:32.531519\n",
      "date : 2019-02-16 22:00:00 debut_traitement : 2019-04-05 23:31:32.906465\n",
      "date : 2019-02-16 23:00:00 debut_traitement : 2019-04-05 23:31:33.265722\n",
      "date : 2019-02-17 00:00:00 debut_traitement : 2019-04-05 23:31:33.625046\n",
      "date : 2019-02-17 01:00:00 debut_traitement : 2019-04-05 23:31:34.031172\n",
      "date : 2019-02-17 02:00:00 debut_traitement : 2019-04-05 23:31:34.406083\n",
      "date : 2019-02-17 03:00:00 debut_traitement : 2019-04-05 23:31:34.765374\n",
      "date : 2019-02-17 04:00:00 debut_traitement : 2019-04-05 23:31:35.140283\n",
      "date : 2019-02-17 05:00:00 debut_traitement : 2019-04-05 23:31:35.515199\n",
      "date : 2019-02-17 06:00:00 debut_traitement : 2019-04-05 23:31:35.874487\n",
      "date : 2019-02-17 07:00:00 debut_traitement : 2019-04-05 23:31:36.233812\n",
      "date : 2019-02-17 08:00:00 debut_traitement : 2019-04-05 23:31:36.608692\n",
      "date : 2019-02-17 09:00:00 debut_traitement : 2019-04-05 23:31:37.014844\n",
      "date : 2019-02-17 10:00:00 debut_traitement : 2019-04-05 23:31:37.405414\n",
      "date : 2019-02-17 11:00:00 debut_traitement : 2019-04-05 23:31:37.764674\n",
      "date : 2019-02-17 12:00:00 debut_traitement : 2019-04-05 23:31:38.139586\n",
      "date : 2019-02-17 13:00:00 debut_traitement : 2019-04-05 23:31:38.514534\n",
      "date : 2019-02-17 14:00:00 debut_traitement : 2019-04-05 23:31:38.873821\n",
      "date : 2019-02-17 15:00:00 debut_traitement : 2019-04-05 23:31:39.248701\n",
      "date : 2019-02-17 16:00:00 debut_traitement : 2019-04-05 23:31:39.607990\n",
      "date : 2019-02-17 17:00:00 debut_traitement : 2019-04-05 23:31:39.982902\n",
      "date : 2019-02-17 18:00:00 debut_traitement : 2019-04-05 23:31:40.342193\n",
      "date : 2019-02-17 19:00:00 debut_traitement : 2019-04-05 23:31:40.717143\n",
      "date : 2019-02-17 20:00:00 debut_traitement : 2019-04-05 23:31:41.076428\n",
      "date : 2019-02-17 21:00:00 debut_traitement : 2019-04-05 23:31:41.451308\n",
      "date : 2019-02-17 22:00:00 debut_traitement : 2019-04-05 23:31:41.810637\n",
      "date : 2019-02-17 23:00:00 debut_traitement : 2019-04-05 23:31:42.185550\n"
     ]
    }
   ],
   "source": [
    "dico_trajet_od, dico_passag_od, dico_od,  dico_passag=t.transit_temps_complet_v2('2019-01-28 00:00:00',21,liste_trajet_locale,df_3semaines)"
   ]
  },
  {
   "cell_type": "code",
   "execution_count": 37,
   "metadata": {},
   "outputs": [
    {
     "data": {
      "text/html": [
       "<div>\n",
       "<style scoped>\n",
       "    .dataframe tbody tr th:only-of-type {\n",
       "        vertical-align: middle;\n",
       "    }\n",
       "\n",
       "    .dataframe tbody tr th {\n",
       "        vertical-align: top;\n",
       "    }\n",
       "\n",
       "    .dataframe thead th {\n",
       "        text-align: right;\n",
       "    }\n",
       "</style>\n",
       "<table border=\"1\" class=\"dataframe\">\n",
       "  <thead>\n",
       "    <tr style=\"text-align: right;\">\n",
       "      <th></th>\n",
       "      <th>camera_id</th>\n",
       "      <th>immat</th>\n",
       "      <th>fiability</th>\n",
       "      <th>l</th>\n",
       "      <th>state</th>\n",
       "    </tr>\n",
       "    <tr>\n",
       "      <th>created</th>\n",
       "      <th></th>\n",
       "      <th></th>\n",
       "      <th></th>\n",
       "      <th></th>\n",
       "      <th></th>\n",
       "    </tr>\n",
       "  </thead>\n",
       "  <tbody>\n",
       "    <tr>\n",
       "      <th>2019-01-31 08:00:30</th>\n",
       "      <td>19</td>\n",
       "      <td>9dd7529a19c83bed931c0d4b40840b7a36328e20</td>\n",
       "      <td>99</td>\n",
       "      <td>1</td>\n",
       "      <td>ES</td>\n",
       "    </tr>\n",
       "    <tr>\n",
       "      <th>2019-01-31 08:01:56</th>\n",
       "      <td>19</td>\n",
       "      <td>574c4311fa597da55a2aac80e1097129dd7419e1</td>\n",
       "      <td>99</td>\n",
       "      <td>-1</td>\n",
       "      <td>FR</td>\n",
       "    </tr>\n",
       "    <tr>\n",
       "      <th>2019-01-31 08:02:15</th>\n",
       "      <td>19</td>\n",
       "      <td>c57c4941aadcb97905b3ef0e410578f22f516efa</td>\n",
       "      <td>99</td>\n",
       "      <td>-1</td>\n",
       "      <td>ES</td>\n",
       "    </tr>\n",
       "    <tr>\n",
       "      <th>2019-01-31 08:02:38</th>\n",
       "      <td>19</td>\n",
       "      <td>8ddc4c2f1189ae0a4224f688200b211c3fd0f675</td>\n",
       "      <td>99</td>\n",
       "      <td>1</td>\n",
       "      <td>ES</td>\n",
       "    </tr>\n",
       "    <tr>\n",
       "      <th>2019-01-31 08:02:49</th>\n",
       "      <td>19</td>\n",
       "      <td>d735cccf1331cd23ba652c145358f46405bbc306</td>\n",
       "      <td>99</td>\n",
       "      <td>0</td>\n",
       "      <td>ES</td>\n",
       "    </tr>\n",
       "  </tbody>\n",
       "</table>\n",
       "</div>"
      ],
      "text/plain": [
       "                     camera_id                                     immat  \\\n",
       "created                                                                    \n",
       "2019-01-31 08:00:30         19  9dd7529a19c83bed931c0d4b40840b7a36328e20   \n",
       "2019-01-31 08:01:56         19  574c4311fa597da55a2aac80e1097129dd7419e1   \n",
       "2019-01-31 08:02:15         19  c57c4941aadcb97905b3ef0e410578f22f516efa   \n",
       "2019-01-31 08:02:38         19  8ddc4c2f1189ae0a4224f688200b211c3fd0f675   \n",
       "2019-01-31 08:02:49         19  d735cccf1331cd23ba652c145358f46405bbc306   \n",
       "\n",
       "                     fiability  l state  \n",
       "created                                  \n",
       "2019-01-31 08:00:30         99  1    ES  \n",
       "2019-01-31 08:01:56         99 -1    FR  \n",
       "2019-01-31 08:02:15         99 -1    ES  \n",
       "2019-01-31 08:02:38         99  1    ES  \n",
       "2019-01-31 08:02:49         99  0    ES  "
      ]
     },
     "execution_count": 37,
     "metadata": {},
     "output_type": "execute_result"
    }
   ],
   "source": [
    "#verifs\n",
    "dico_passag_od['A660-N10'].set_index('created').loc['2019-01-31 08:00:00':].sort_index().head(5) #visualiser les passages"
   ]
  },
  {
   "cell_type": "code",
   "execution_count": 40,
   "metadata": {},
   "outputs": [
    {
     "data": {
      "text/html": [
       "<div>\n",
       "<style scoped>\n",
       "    .dataframe tbody tr th:only-of-type {\n",
       "        vertical-align: middle;\n",
       "    }\n",
       "\n",
       "    .dataframe tbody tr th {\n",
       "        vertical-align: top;\n",
       "    }\n",
       "\n",
       "    .dataframe thead th {\n",
       "        text-align: right;\n",
       "    }\n",
       "</style>\n",
       "<table border=\"1\" class=\"dataframe\">\n",
       "  <thead>\n",
       "    <tr style=\"text-align: right;\">\n",
       "      <th></th>\n",
       "      <th>camera_id</th>\n",
       "      <th>immat</th>\n",
       "      <th>fiability</th>\n",
       "      <th>l</th>\n",
       "      <th>state</th>\n",
       "    </tr>\n",
       "    <tr>\n",
       "      <th>created</th>\n",
       "      <th></th>\n",
       "      <th></th>\n",
       "      <th></th>\n",
       "      <th></th>\n",
       "      <th></th>\n",
       "    </tr>\n",
       "  </thead>\n",
       "  <tbody>\n",
       "    <tr>\n",
       "      <th>2019-01-30 21:51:20</th>\n",
       "      <td>15</td>\n",
       "      <td>8ddc4c2f1189ae0a4224f688200b211c3fd0f675</td>\n",
       "      <td>99</td>\n",
       "      <td>-1</td>\n",
       "      <td>ES</td>\n",
       "    </tr>\n",
       "    <tr>\n",
       "      <th>2019-01-31 08:02:38</th>\n",
       "      <td>19</td>\n",
       "      <td>8ddc4c2f1189ae0a4224f688200b211c3fd0f675</td>\n",
       "      <td>99</td>\n",
       "      <td>1</td>\n",
       "      <td>ES</td>\n",
       "    </tr>\n",
       "    <tr>\n",
       "      <th>2019-01-31 08:48:31</th>\n",
       "      <td>5</td>\n",
       "      <td>8ddc4c2f1189ae0a4224f688200b211c3fd0f675</td>\n",
       "      <td>99</td>\n",
       "      <td>1</td>\n",
       "      <td>ES</td>\n",
       "    </tr>\n",
       "    <tr>\n",
       "      <th>2019-02-06 08:23:12</th>\n",
       "      <td>8</td>\n",
       "      <td>8ddc4c2f1189ae0a4224f688200b211c3fd0f675</td>\n",
       "      <td>99</td>\n",
       "      <td>1</td>\n",
       "      <td>ES</td>\n",
       "    </tr>\n",
       "    <tr>\n",
       "      <th>2019-02-06 08:48:45</th>\n",
       "      <td>3</td>\n",
       "      <td>8ddc4c2f1189ae0a4224f688200b211c3fd0f675</td>\n",
       "      <td>99</td>\n",
       "      <td>1</td>\n",
       "      <td>ES</td>\n",
       "    </tr>\n",
       "    <tr>\n",
       "      <th>2019-02-06 09:18:21</th>\n",
       "      <td>18</td>\n",
       "      <td>8ddc4c2f1189ae0a4224f688200b211c3fd0f675</td>\n",
       "      <td>99</td>\n",
       "      <td>0</td>\n",
       "      <td>ES</td>\n",
       "    </tr>\n",
       "    <tr>\n",
       "      <th>2019-02-06 11:37:39</th>\n",
       "      <td>13</td>\n",
       "      <td>8ddc4c2f1189ae0a4224f688200b211c3fd0f675</td>\n",
       "      <td>99</td>\n",
       "      <td>-1</td>\n",
       "      <td>ES</td>\n",
       "    </tr>\n",
       "  </tbody>\n",
       "</table>\n",
       "</div>"
      ],
      "text/plain": [
       "                     camera_id                                     immat  \\\n",
       "created                                                                    \n",
       "2019-01-30 21:51:20         15  8ddc4c2f1189ae0a4224f688200b211c3fd0f675   \n",
       "2019-01-31 08:02:38         19  8ddc4c2f1189ae0a4224f688200b211c3fd0f675   \n",
       "2019-01-31 08:48:31          5  8ddc4c2f1189ae0a4224f688200b211c3fd0f675   \n",
       "2019-02-06 08:23:12          8  8ddc4c2f1189ae0a4224f688200b211c3fd0f675   \n",
       "2019-02-06 08:48:45          3  8ddc4c2f1189ae0a4224f688200b211c3fd0f675   \n",
       "2019-02-06 09:18:21         18  8ddc4c2f1189ae0a4224f688200b211c3fd0f675   \n",
       "2019-02-06 11:37:39         13  8ddc4c2f1189ae0a4224f688200b211c3fd0f675   \n",
       "\n",
       "                     fiability  l state  \n",
       "created                                  \n",
       "2019-01-30 21:51:20         99 -1    ES  \n",
       "2019-01-31 08:02:38         99  1    ES  \n",
       "2019-01-31 08:48:31         99  1    ES  \n",
       "2019-02-06 08:23:12         99  1    ES  \n",
       "2019-02-06 08:48:45         99  1    ES  \n",
       "2019-02-06 09:18:21         99  0    ES  \n",
       "2019-02-06 11:37:39         99 -1    ES  "
      ]
     },
     "execution_count": 40,
     "metadata": {},
     "output_type": "execute_result"
    }
   ],
   "source": [
    "df_3semaines.loc[df_3semaines['immat']=='8ddc4c2f1189ae0a4224f688200b211c3fd0f675']#retrouver cette immatriculatiob dans les données completes"
   ]
  },
  {
   "cell_type": "code",
   "execution_count": 43,
   "metadata": {},
   "outputs": [
    {
     "ename": "PasDePlError",
     "evalue": "pas de PL sur la période et les cameras visées",
     "output_type": "error",
     "traceback": [
      "\u001b[1;31m---------------------------------------------------------------------------\u001b[0m",
      "\u001b[1;31mPasDePlError\u001b[0m                              Traceback (most recent call last)",
      "\u001b[1;32m<timed exec>\u001b[0m in \u001b[0;36m<module>\u001b[1;34m\u001b[0m\n",
      "\u001b[1;32m~\\git\\lapi\\Carto_Lapi\\Analyse\\traitement_od.py\u001b[0m in \u001b[0;36m__init__\u001b[1;34m(self, df, date_debut, duree, temps_max_autorise, cameras, type, df_filtre)\u001b[0m\n\u001b[0;32m    236\u001b[0m                 \u001b[0mtps_max\u001b[0m\u001b[1;33m=\u001b[0m\u001b[1;33m[\u001b[0m\u001b[1;33m]\u001b[0m\u001b[1;33m\u001b[0m\u001b[0m\n\u001b[0;32m    237\u001b[0m                 \u001b[1;32mfor\u001b[0m \u001b[0mtrajet_indirect\u001b[0m \u001b[1;32min\u001b[0m \u001b[0mself\u001b[0m\u001b[1;33m.\u001b[0m\u001b[0mtrajet_complet\u001b[0m \u001b[1;33m:\u001b[0m\u001b[1;33m\u001b[0m\u001b[0m\n\u001b[1;32m--> 238\u001b[1;33m                     \u001b[0mtps\u001b[0m\u001b[1;33m=\u001b[0m\u001b[0mtrajet\u001b[0m\u001b[1;33m(\u001b[0m\u001b[0mdf\u001b[0m\u001b[1;33m,\u001b[0m\u001b[0mdate_debut\u001b[0m\u001b[1;33m,\u001b[0m \u001b[0mduree\u001b[0m\u001b[1;33m,\u001b[0m \u001b[0mtemps_max_autorise\u001b[0m\u001b[1;33m,\u001b[0m \u001b[0mtrajet_indirect\u001b[0m\u001b[1;33m)\u001b[0m\u001b[1;33m.\u001b[0m\u001b[0mtemps_parcours_max\u001b[0m\u001b[1;33m\u001b[0m\u001b[0m\n\u001b[0m\u001b[0;32m    239\u001b[0m                     \u001b[0mtps_max\u001b[0m\u001b[1;33m.\u001b[0m\u001b[0mappend\u001b[0m\u001b[1;33m(\u001b[0m\u001b[0mtps\u001b[0m\u001b[1;33m)\u001b[0m\u001b[1;33m\u001b[0m\u001b[0m\n\u001b[0;32m    240\u001b[0m                     \u001b[0mtps\u001b[0m\u001b[1;33m=\u001b[0m\u001b[1;36m1\u001b[0m \u001b[1;31m#pour envoi de l'objet tarjet au GB\u001b[0m\u001b[1;33m\u001b[0m\u001b[0m\n",
      "\u001b[1;32m~\\git\\lapi\\Carto_Lapi\\Analyse\\traitement_od.py\u001b[0m in \u001b[0;36m__init__\u001b[1;34m(self, df, date_debut, duree, temps_max_autorise, cameras, type, df_filtre)\u001b[0m\n\u001b[0;32m    244\u001b[0m         \u001b[1;32melse\u001b[0m \u001b[1;33m:\u001b[0m\u001b[1;33m\u001b[0m\u001b[0m\n\u001b[0;32m    245\u001b[0m             \u001b[0mself\u001b[0m\u001b[1;33m.\u001b[0m\u001b[0mdico_traj_directs\u001b[0m\u001b[1;33m=\u001b[0m\u001b[0mself\u001b[0m\u001b[1;33m.\u001b[0m\u001b[0mliste_trajets_directs\u001b[0m\u001b[1;33m(\u001b[0m\u001b[1;33m)\u001b[0m\u001b[1;33m\u001b[0m\u001b[0m\n\u001b[1;32m--> 246\u001b[1;33m             \u001b[0mself\u001b[0m\u001b[1;33m.\u001b[0m\u001b[0mdf_transit\u001b[0m\u001b[1;33m=\u001b[0m\u001b[0mself\u001b[0m\u001b[1;33m.\u001b[0m\u001b[0mdf_trajet_indirect\u001b[0m\u001b[1;33m(\u001b[0m\u001b[1;33m)\u001b[0m\u001b[1;33m\u001b[0m\u001b[0m\n\u001b[0m\u001b[0;32m    247\u001b[0m             \u001b[0mself\u001b[0m\u001b[1;33m.\u001b[0m\u001b[0mtemps_parcours_max\u001b[0m\u001b[1;33m=\u001b[0m\u001b[0mself\u001b[0m\u001b[1;33m.\u001b[0m\u001b[0mdf_transit\u001b[0m\u001b[1;33m.\u001b[0m\u001b[0mtps_parcours\u001b[0m\u001b[1;33m.\u001b[0m\u001b[0mmax\u001b[0m\u001b[1;33m(\u001b[0m\u001b[1;33m)\u001b[0m\u001b[1;33m\u001b[0m\u001b[0m\n\u001b[0;32m    248\u001b[0m \u001b[1;33m\u001b[0m\u001b[0m\n",
      "\u001b[1;32m~\\git\\lapi\\Carto_Lapi\\Analyse\\traitement_od.py\u001b[0m in \u001b[0;36mdf_trajet_indirect\u001b[1;34m(self)\u001b[0m\n\u001b[0;32m    311\u001b[0m                     \u001b[0mdf_transit\u001b[0m\u001b[1;33m=\u001b[0m\u001b[0mpd\u001b[0m\u001b[1;33m.\u001b[0m\u001b[0mmerge\u001b[0m\u001b[1;33m(\u001b[0m\u001b[0mself\u001b[0m\u001b[1;33m.\u001b[0m\u001b[0mdico_traj_directs\u001b[0m\u001b[1;33m[\u001b[0m\u001b[0mvariab\u001b[0m\u001b[1;33m]\u001b[0m\u001b[1;33m.\u001b[0m\u001b[0mdf_pl_direct\u001b[0m\u001b[1;33m,\u001b[0m\u001b[0mself\u001b[0m\u001b[1;33m.\u001b[0m\u001b[0mdico_traj_directs\u001b[0m\u001b[1;33m[\u001b[0m\u001b[0mvariab2\u001b[0m\u001b[1;33m]\u001b[0m\u001b[1;33m.\u001b[0m\u001b[0mdf_pl_direct\u001b[0m\u001b[1;33m,\u001b[0m\u001b[0mon\u001b[0m\u001b[1;33m=\u001b[0m\u001b[1;34m'immat'\u001b[0m\u001b[1;33m)\u001b[0m\u001b[1;33m\u001b[0m\u001b[0m\n\u001b[0;32m    312\u001b[0m                     \u001b[1;32mif\u001b[0m \u001b[0mdf_transit\u001b[0m\u001b[1;33m.\u001b[0m\u001b[0mempty\u001b[0m \u001b[1;33m:\u001b[0m\u001b[1;33m\u001b[0m\u001b[0m\n\u001b[1;32m--> 313\u001b[1;33m                         \u001b[1;32mraise\u001b[0m \u001b[0mPasDePlError\u001b[0m\u001b[1;33m(\u001b[0m\u001b[1;33m)\u001b[0m\u001b[1;33m\u001b[0m\u001b[0m\n\u001b[0m\u001b[0;32m    314\u001b[0m                     \u001b[0mdf_transit\u001b[0m\u001b[1;33m[\u001b[0m\u001b[1;34m'tps_parcours'\u001b[0m\u001b[1;33m]\u001b[0m\u001b[1;33m=\u001b[0m\u001b[0mdf_transit\u001b[0m\u001b[1;33m[\u001b[0m\u001b[1;34m'tps_parcours_x'\u001b[0m\u001b[1;33m]\u001b[0m\u001b[1;33m+\u001b[0m\u001b[0mdf_transit\u001b[0m\u001b[1;33m[\u001b[0m\u001b[1;34m'tps_parcours_y'\u001b[0m\u001b[1;33m]\u001b[0m\u001b[1;33m\u001b[0m\u001b[0m\n\u001b[0;32m    315\u001b[0m                     \u001b[0mdf_transit\u001b[0m\u001b[1;33m=\u001b[0m\u001b[1;33m(\u001b[0m\u001b[0mdf_transit\u001b[0m\u001b[1;33m.\u001b[0m\u001b[0mrename\u001b[0m\u001b[1;33m(\u001b[0m\u001b[0mcolumns\u001b[0m\u001b[1;33m=\u001b[0m\u001b[0mdico_rename\u001b[0m\u001b[1;33m)\u001b[0m\u001b[1;33m)\u001b[0m\u001b[1;33m[\u001b[0m\u001b[1;33m[\u001b[0m\u001b[1;34m'immat'\u001b[0m\u001b[1;33m,\u001b[0m\u001b[1;34m'date_cam_1'\u001b[0m\u001b[1;33m,\u001b[0m\u001b[1;34m'date_cam_2'\u001b[0m\u001b[1;33m,\u001b[0m\u001b[1;34m'tps_parcours'\u001b[0m\u001b[1;33m]\u001b[0m\u001b[1;33m]\u001b[0m\u001b[1;33m\u001b[0m\u001b[0m\n",
      "\u001b[1;31mPasDePlError\u001b[0m: pas de PL sur la période et les cameras visées"
     ]
    }
   ],
   "source": [
    "#verif sur un trajet a unhoraire donnee\n",
    "%time test=t.trajet(df_3semaines.loc['2019-01-29 21:00:00':'2019-01-30 15:00:00'], '2019-01-29 21:00:00', 60, 16, [15,5], type='Global')"
   ]
  },
  {
   "cell_type": "code",
   "execution_count": 67,
   "metadata": {},
   "outputs": [
    {
     "name": "stdout",
     "output_type": "stream",
     "text": [
      "Wall time: 109 ms\n"
     ]
    }
   ],
   "source": [
    "%time test=t.trajet(df_3semaines.loc['2019-01-29 21:00:00':'2019-01-30 15:00:00'], '2019-01-29 21:00:00', 60, 16, [15,19])"
   ]
  },
  {
   "cell_type": "code",
   "execution_count": 68,
   "metadata": {},
   "outputs": [
    {
     "data": {
      "text/plain": [
       "Timedelta('0 days 00:37:54')"
      ]
     },
     "execution_count": 68,
     "metadata": {},
     "output_type": "execute_result"
    }
   ],
   "source": [
    "test.temps_parcours_max"
   ]
  },
  {
   "cell_type": "code",
   "execution_count": 76,
   "metadata": {},
   "outputs": [],
   "source": [
    "toto=test\n",
    "#toto.df_pl_direct.tps_parcours=pd.to_datetime('2018-01-01')+toto.df_pl_direct.tps_parcours\n",
    "graph_tps_bruts = alt.Chart(toto.df_pl_direct).mark_point().encode(\n",
    "                        x='date_cam_1',\n",
    "                        y='hoursminutes(tps_parcours)',\n",
    "                        tooltip='hoursminutes(tps_parcours)').interactive()\n",
    "graph_pl_cluster=alt.Chart(toto.df_pl_direct).mark_line(color='yellow').encode(\n",
    "                         x='date_cam_1',\n",
    "                         y='hoursminutes(temps_parcours_max)',\n",
    "                         tooltip='hoursminutes(temps_parcours_max)')"
   ]
  },
  {
   "cell_type": "code",
   "execution_count": 77,
   "metadata": {},
   "outputs": [
    {
     "data": {
      "application/vnd.vegalite.v2+json": {
       "$schema": "https://vega.github.io/schema/vega-lite/v2.6.0.json",
       "config": {
        "view": {
         "height": 300,
         "width": 400
        }
       },
       "datasets": {
        "data-ce04551b2c6df3131cf9767df39e0199": [
         {
          "date_cam_1": "2019-01-29T21:02:16",
          "date_cam_2": "2019-01-29T21:33:16",
          "immat": "a9344d65d954c7fedd1110ca4836267e14b4e948",
          "tps_parcours": "2018-01-01T00:31:00"
         },
         {
          "date_cam_1": "2019-01-29T21:04:25",
          "date_cam_2": "2019-01-29T21:34:28",
          "immat": "2d6ccabd82b99c8f244802dc0987c04f5c147119",
          "tps_parcours": "2018-01-01T00:30:03"
         },
         {
          "date_cam_1": "2019-01-29T21:04:38",
          "date_cam_2": "2019-01-29T21:34:34",
          "immat": "98af30a48fce5d90aaa4c8db5d55bddc7a5b4520",
          "tps_parcours": "2018-01-01T00:29:56"
         },
         {
          "date_cam_1": "2019-01-29T21:06:34",
          "date_cam_2": "2019-01-29T21:35:40",
          "immat": "d29404c5b602ffa1c8d9d716cca8f651fba4ef9d",
          "tps_parcours": "2018-01-01T00:29:06"
         },
         {
          "date_cam_1": "2019-01-29T21:09:42",
          "date_cam_2": "2019-01-29T21:38:55",
          "immat": "399962b015ff0b8db58427e91e6f6462c9df2a74",
          "tps_parcours": "2018-01-01T00:29:13"
         },
         {
          "date_cam_1": "2019-01-29T21:10:08",
          "date_cam_2": "2019-01-29T21:40:16",
          "immat": "5d984404fa0677235f4a8a906dbb9dbe2be2e06d",
          "tps_parcours": "2018-01-01T00:30:08"
         },
         {
          "date_cam_1": "2019-01-29T21:08:17",
          "date_cam_2": "2019-01-29T21:41:39",
          "immat": "06b0ad1d1a5a514af5016fb58a37bea307dee0e5",
          "tps_parcours": "2018-01-01T00:33:22"
         },
         {
          "date_cam_1": "2019-01-29T21:12:23",
          "date_cam_2": "2019-01-29T21:42:36",
          "immat": "69a30d2759840691f4f5574173367f8e583ea17a",
          "tps_parcours": "2018-01-01T00:30:13"
         },
         {
          "date_cam_1": "2019-01-29T21:12:42",
          "date_cam_2": "2019-01-29T21:42:52",
          "immat": "d5ae4ba85bdef28b59d32d9c648d87c91d6fc8ea",
          "tps_parcours": "2018-01-01T00:30:10"
         },
         {
          "date_cam_1": "2019-01-29T21:13:27",
          "date_cam_2": "2019-01-29T21:42:54",
          "immat": "6c0ac098582f556199c5bec6f7d92ed7d2e9b653",
          "tps_parcours": "2018-01-01T00:29:27"
         },
         {
          "date_cam_1": "2019-01-29T21:12:50",
          "date_cam_2": "2019-01-29T21:42:57",
          "immat": "eee51d2e2ebeeef4d3a27e176f9360b7a3c6dd08",
          "tps_parcours": "2018-01-01T00:30:07"
         },
         {
          "date_cam_1": "2019-01-29T21:13:43",
          "date_cam_2": "2019-01-29T21:43:30",
          "immat": "ec56573e7620bbdc07579d7945ae56b9786d992b",
          "tps_parcours": "2018-01-01T00:29:47"
         },
         {
          "date_cam_1": "2019-01-29T21:15:04",
          "date_cam_2": "2019-01-29T21:44:35",
          "immat": "388be98e57218419dee7509721c10a3fa1fcda17",
          "tps_parcours": "2018-01-01T00:29:31"
         },
         {
          "date_cam_1": "2019-01-29T21:14:58",
          "date_cam_2": "2019-01-29T21:44:44",
          "immat": "c2c7a297b19cda08312264552d4950941434af57",
          "tps_parcours": "2018-01-01T00:29:46"
         },
         {
          "date_cam_1": "2019-01-29T21:15:21",
          "date_cam_2": "2019-01-29T21:45:12",
          "immat": "8073aa6872aacdb7e7e4106ef0b0bb9470e8422c",
          "tps_parcours": "2018-01-01T00:29:51"
         },
         {
          "date_cam_1": "2019-01-29T21:03:50",
          "date_cam_2": "2019-01-29T21:45:15",
          "immat": "61019137bb39a0566b7b102239961b75119c6f3d",
          "tps_parcours": "2018-01-01T00:41:25"
         },
         {
          "date_cam_1": "2019-01-29T21:14:58",
          "date_cam_2": "2019-01-29T21:48:21",
          "immat": "f5ee37ea48bb3bb4e229715a6b90b068fee116cd",
          "tps_parcours": "2018-01-01T00:33:23"
         },
         {
          "date_cam_1": "2019-01-29T21:17:01",
          "date_cam_2": "2019-01-29T21:49:19",
          "immat": "410455320553b613991a5eb67031cf94fa60a364",
          "tps_parcours": "2018-01-01T00:32:18"
         },
         {
          "date_cam_1": "2019-01-29T21:19:54",
          "date_cam_2": "2019-01-29T21:50:31",
          "immat": "d3ab90443434dfa5fdde24ea0acce846d6fa397f",
          "tps_parcours": "2018-01-01T00:30:37"
         },
         {
          "date_cam_1": "2019-01-29T21:22:18",
          "date_cam_2": "2019-01-29T21:51:28",
          "immat": "50d2cec6f52af42f54eb1953e1abb2847e8293d3",
          "tps_parcours": "2018-01-01T00:29:10"
         },
         {
          "date_cam_1": "2019-01-29T21:20:15",
          "date_cam_2": "2019-01-29T21:52:10",
          "immat": "e7881b4a4eabec6b542737f59ead3828862b5022",
          "tps_parcours": "2018-01-01T00:31:55"
         },
         {
          "date_cam_1": "2019-01-29T21:24:31",
          "date_cam_2": "2019-01-29T21:54:39",
          "immat": "d90d2382c0860ca41a564c74e89d91f1fe916c8b",
          "tps_parcours": "2018-01-01T00:30:08"
         },
         {
          "date_cam_1": "2019-01-29T21:23:42",
          "date_cam_2": "2019-01-29T21:54:52",
          "immat": "f7108bc9a17409905afec6e69f1c41ce46e21ff1",
          "tps_parcours": "2018-01-01T00:31:10"
         },
         {
          "date_cam_1": "2019-01-29T21:29:04",
          "date_cam_2": "2019-01-29T21:58:05",
          "immat": "2ebf03cfc1e677856792eeebcc8cbc8b831c9b28",
          "tps_parcours": "2018-01-01T00:29:01"
         },
         {
          "date_cam_1": "2019-01-29T21:28:49",
          "date_cam_2": "2019-01-29T21:58:35",
          "immat": "8f147f79435a5785525ab44172b7bf28180489e1",
          "tps_parcours": "2018-01-01T00:29:46"
         },
         {
          "date_cam_1": "2019-01-29T21:22:36",
          "date_cam_2": "2019-01-29T21:58:40",
          "immat": "0b73a5d32432dc41049418702165ef7988deaec7",
          "tps_parcours": "2018-01-01T00:36:04"
         },
         {
          "date_cam_1": "2019-01-29T21:29:54",
          "date_cam_2": "2019-01-29T22:01:17",
          "immat": "115c419695c88b7c5d7dcdafa22e8f468cd397e8",
          "tps_parcours": "2018-01-01T00:31:23"
         },
         {
          "date_cam_1": "2019-01-29T21:30:37",
          "date_cam_2": "2019-01-29T22:01:19",
          "immat": "666d0f0b85a4678c7d42fcd2b047cd2688683e51",
          "tps_parcours": "2018-01-01T00:30:42"
         },
         {
          "date_cam_1": "2019-01-29T21:31:24",
          "date_cam_2": "2019-01-29T22:01:47",
          "immat": "47260f90803046023bfa80a7c0a6cf7c0d0d3cf6",
          "tps_parcours": "2018-01-01T00:30:23"
         },
         {
          "date_cam_1": "2019-01-29T21:30:21",
          "date_cam_2": "2019-01-29T22:03:20",
          "immat": "e1330371d745717de639ec5a41201458c8e1da7b",
          "tps_parcours": "2018-01-01T00:32:59"
         },
         {
          "date_cam_1": "2019-01-29T21:32:42",
          "date_cam_2": "2019-01-29T22:03:28",
          "immat": "ef8194d2ee2b5456e3e2705c56eacd2bb23bf0d7",
          "tps_parcours": "2018-01-01T00:30:46"
         },
         {
          "date_cam_1": "2019-01-29T21:34:00",
          "date_cam_2": "2019-01-29T22:03:30",
          "immat": "db7195333635c8a8a76a41603455160eb12da4b1",
          "tps_parcours": "2018-01-01T00:29:30"
         },
         {
          "date_cam_1": "2019-01-29T21:34:40",
          "date_cam_2": "2019-01-29T22:03:47",
          "immat": "524f259812b8f221c9ad47b6dd9a8c6aa11bc6f4",
          "tps_parcours": "2018-01-01T00:29:07"
         },
         {
          "date_cam_1": "2019-01-29T21:00:34",
          "date_cam_2": "2019-01-29T22:05:56",
          "immat": "2dd85b80c98c0b92be9c6cfc0e5c57aa4aa39c66",
          "tps_parcours": "2018-01-01T01:05:22"
         },
         {
          "date_cam_1": "2019-01-29T21:17:34",
          "date_cam_2": "2019-01-29T22:07:02",
          "immat": "7a385b67acc41e4a8fcdd3eea4e95737116d280e",
          "tps_parcours": "2018-01-01T00:49:28"
         },
         {
          "date_cam_1": "2019-01-29T21:37:47",
          "date_cam_2": "2019-01-29T22:07:18",
          "immat": "943859dea6e8d75be0ee48bc69cec13209831928",
          "tps_parcours": "2018-01-01T00:29:31"
         },
         {
          "date_cam_1": "2019-01-29T21:01:12",
          "date_cam_2": "2019-01-29T22:07:59",
          "immat": "402d53e1c25550e26aec8177df16ed1e502987c7",
          "tps_parcours": "2018-01-01T01:06:47"
         },
         {
          "date_cam_1": "2019-01-29T21:35:06",
          "date_cam_2": "2019-01-29T22:13:00",
          "immat": "0e1cc2d3c20947fefc4a2f436bc63d2e0e7ecc48",
          "tps_parcours": "2018-01-01T00:37:54"
         },
         {
          "date_cam_1": "2019-01-29T21:42:52",
          "date_cam_2": "2019-01-29T22:13:03",
          "immat": "095179394689e905ed1451c17c2d363883a71b4b",
          "tps_parcours": "2018-01-01T00:30:11"
         },
         {
          "date_cam_1": "2019-01-29T21:09:11",
          "date_cam_2": "2019-01-29T22:15:27",
          "immat": "d67e07a173974d4d62bdf326ac607634861aa92e",
          "tps_parcours": "2018-01-01T01:06:16"
         },
         {
          "date_cam_1": "2019-01-29T21:50:59",
          "date_cam_2": "2019-01-29T22:20:51",
          "immat": "97a58bedc8f79bebfdccfc2099e4374e8f4c1bc3",
          "tps_parcours": "2018-01-01T00:29:52"
         },
         {
          "date_cam_1": "2019-01-29T21:49:16",
          "date_cam_2": "2019-01-29T22:20:54",
          "immat": "c8df230abcc79dde2daf007688e16b2b1b52fb97",
          "tps_parcours": "2018-01-01T00:31:38"
         },
         {
          "date_cam_1": "2019-01-29T21:48:32",
          "date_cam_2": "2019-01-29T22:21:13",
          "immat": "a12e38b9b38b12291192692253f4f6d6d86ceeb6",
          "tps_parcours": "2018-01-01T00:32:41"
         },
         {
          "date_cam_1": "2019-01-29T21:53:34",
          "date_cam_2": "2019-01-29T22:23:58",
          "immat": "21e0f4754d4aa5af87c6716a031d804cb258d07a",
          "tps_parcours": "2018-01-01T00:30:24"
         },
         {
          "date_cam_1": "2019-01-29T21:55:14",
          "date_cam_2": "2019-01-29T22:24:50",
          "immat": "012308ed169eb729fc23018c3dd19a1ceef99a3f",
          "tps_parcours": "2018-01-01T00:29:36"
         },
         {
          "date_cam_1": "2019-01-29T21:53:12",
          "date_cam_2": "2019-01-29T22:25:19",
          "immat": "b1b7c499f71192608ce2e435e37eb1685e296db5",
          "tps_parcours": "2018-01-01T00:32:07"
         },
         {
          "date_cam_1": "2019-01-29T21:55:25",
          "date_cam_2": "2019-01-29T22:25:41",
          "immat": "babf38a81b7b6a4458d435933514d0303a820c1d",
          "tps_parcours": "2018-01-01T00:30:16"
         },
         {
          "date_cam_1": "2019-01-29T21:56:49",
          "date_cam_2": "2019-01-29T22:26:22",
          "immat": "449fb7eee68ef5284b2f4697e5ac7a771f8d4d78",
          "tps_parcours": "2018-01-01T00:29:33"
         },
         {
          "date_cam_1": "2019-01-29T21:58:04",
          "date_cam_2": "2019-01-29T22:27:29",
          "immat": "40b18d755204e773d7aede3924b948593c39de78",
          "tps_parcours": "2018-01-01T00:29:25"
         },
         {
          "date_cam_1": "2019-01-29T21:48:59",
          "date_cam_2": "2019-01-29T22:27:39",
          "immat": "9cfaeb7c92b9226acbc618fd02367863b9d1b859",
          "tps_parcours": "2018-01-01T00:38:40"
         },
         {
          "date_cam_1": "2019-01-29T21:58:27",
          "date_cam_2": "2019-01-29T22:29:11",
          "immat": "c0ce714b82bbdec030a856617967d3a069cdef39",
          "tps_parcours": "2018-01-01T00:30:44"
         },
         {
          "date_cam_1": "2019-01-29T21:28:45",
          "date_cam_2": "2019-01-29T22:30:24",
          "immat": "ed3aaca3ad89cac2b81f337cc56456f8a159486e",
          "tps_parcours": "2018-01-01T01:01:39"
         },
         {
          "date_cam_1": "2019-01-29T21:29:06",
          "date_cam_2": "2019-01-29T22:33:26",
          "immat": "05b835800ab3bac94596dba22e0e1682378f12de",
          "tps_parcours": "2018-01-01T01:04:20"
         },
         {
          "date_cam_1": "2019-01-29T21:34:44",
          "date_cam_2": "2019-01-29T22:38:25",
          "immat": "2e316fe854a8eb7d80ebfa76a0f7be0cb1c8f954",
          "tps_parcours": "2018-01-01T01:03:41"
         },
         {
          "date_cam_1": "2019-01-29T21:28:39",
          "date_cam_2": "2019-01-29T22:41:27",
          "immat": "b009abd941baa3b3aad976d30728bca9f2ffb1ae",
          "tps_parcours": "2018-01-01T01:12:48"
         },
         {
          "date_cam_1": "2019-01-29T21:45:40",
          "date_cam_2": "2019-01-29T22:59:43",
          "immat": "28f5303bcf03e08c481eb3d3202d22e9ebb3e6b7",
          "tps_parcours": "2018-01-01T01:14:03"
         },
         {
          "date_cam_1": "2019-01-29T21:56:54",
          "date_cam_2": "2019-01-29T23:03:59",
          "immat": "c8712169e00b4c1a00d9d9c506c0e9079f067a1e",
          "tps_parcours": "2018-01-01T01:07:05"
         },
         {
          "date_cam_1": "2019-01-29T21:45:48",
          "date_cam_2": "2019-01-29T23:04:50",
          "immat": "a53d319d3f20be94e32a1762f083a467b77add44",
          "tps_parcours": "2018-01-01T01:19:02"
         },
         {
          "date_cam_1": "2019-01-29T21:58:15",
          "date_cam_2": "2019-01-29T23:04:58",
          "immat": "e0b205b3f0de47e35ce78c8162b91b11b194408d",
          "tps_parcours": "2018-01-01T01:06:43"
         },
         {
          "date_cam_1": "2019-01-29T21:50:51",
          "date_cam_2": "2019-01-29T23:11:51",
          "immat": "4be07c60d498afe0a1ce59434c22b544cbd87aea",
          "tps_parcours": "2018-01-01T01:21:00"
         },
         {
          "date_cam_1": "2019-01-29T21:00:06",
          "date_cam_2": "2019-01-30T06:39:47",
          "immat": "2372d7a185352afd9a1fd4c3a13f5c50ee9739da",
          "tps_parcours": "2018-01-01T09:39:41"
         },
         {
          "date_cam_1": "2019-01-29T21:05:32",
          "date_cam_2": "2019-01-30T06:49:16",
          "immat": "e404858e8b99d7ced20cbfdc0cde8eb095ca9a2a",
          "tps_parcours": "2018-01-01T09:43:44"
         },
         {
          "date_cam_1": "2019-01-29T21:14:52",
          "date_cam_2": "2019-01-30T07:02:34",
          "immat": "a18052ffcc0999dfafa70a813a8ede428114d6b7",
          "tps_parcours": "2018-01-01T09:47:42"
         },
         {
          "date_cam_1": "2019-01-29T21:11:52",
          "date_cam_2": "2019-01-30T07:15:44",
          "immat": "37c7c00d2190563aab20a17107d7dfa1f26ba6d7",
          "tps_parcours": "2018-01-01T10:03:52"
         },
         {
          "date_cam_1": "2019-01-29T21:29:26",
          "date_cam_2": "2019-01-30T07:49:01",
          "immat": "fd34d27f2b11c4b8616388183f18cd337abe6b2f",
          "tps_parcours": "2018-01-01T10:19:35"
         },
         {
          "date_cam_1": "2019-01-29T21:25:05",
          "date_cam_2": "2019-01-30T07:51:26",
          "immat": "0dc794d0a41b8413561141d75ac187c07039320a",
          "tps_parcours": "2018-01-01T10:26:21"
         },
         {
          "date_cam_1": "2019-01-29T21:06:23",
          "date_cam_2": "2019-01-30T07:58:14",
          "immat": "1daa3d30410c71b8a1fe89a4b384723da625a789",
          "tps_parcours": "2018-01-01T10:51:51"
         },
         {
          "date_cam_1": "2019-01-29T21:40:33",
          "date_cam_2": "2019-01-30T08:22:25",
          "immat": "348b0379fd666203bb74c692c34746364d8d60aa",
          "tps_parcours": "2018-01-01T10:41:52"
         },
         {
          "date_cam_1": "2019-01-29T21:30:26",
          "date_cam_2": "2019-01-30T08:27:42",
          "immat": "4a2f077c00d32f5d851f576845f8d1122fb6caa1",
          "tps_parcours": "2018-01-01T10:57:16"
         },
         {
          "date_cam_1": "2019-01-29T21:16:30",
          "date_cam_2": "2019-01-30T09:02:13",
          "immat": "3a1b3ac269d89ed506f23437718c899d85695081",
          "tps_parcours": "2018-01-01T11:45:43"
         },
         {
          "date_cam_1": "2019-01-29T21:15:38",
          "date_cam_2": "2019-01-30T09:10:16",
          "immat": "ed67be7f0931fd2babbd7670b5354e369a3b8b59",
          "tps_parcours": "2018-01-01T11:54:38"
         },
         {
          "date_cam_1": "2019-01-29T21:19:47",
          "date_cam_2": "2019-01-30T09:12:19",
          "immat": "780c9b91ee8143929b83a43278cb15ca4bd2e0c1",
          "tps_parcours": "2018-01-01T11:52:32"
         },
         {
          "date_cam_1": "2019-01-29T21:20:52",
          "date_cam_2": "2019-01-30T09:21:16",
          "immat": "cf40936a8faa9562a7545711a23745df7b24f911",
          "tps_parcours": "2018-01-01T12:00:24"
         },
         {
          "date_cam_1": "2019-01-29T21:12:34",
          "date_cam_2": "2019-01-30T09:22:33",
          "immat": "4b0f41c0ab75c9e993d1dfe381c8c33284871315",
          "tps_parcours": "2018-01-01T12:09:59"
         },
         {
          "date_cam_1": "2019-01-29T21:04:21",
          "date_cam_2": "2019-01-30T09:45:10",
          "immat": "eccb067bf49375af36fb7141f2a3f4d8f41ac319",
          "tps_parcours": "2018-01-01T12:40:49"
         },
         {
          "date_cam_1": "2019-01-29T21:41:19",
          "date_cam_2": "2019-01-30T09:46:29",
          "immat": "b84bc61a51e011fccbf970f9c69abc195217eb05",
          "tps_parcours": "2018-01-01T12:05:10"
         }
        ]
       },
       "layer": [
        {
         "data": {
          "name": "data-ce04551b2c6df3131cf9767df39e0199"
         },
         "encoding": {
          "tooltip": {
           "field": "tps_parcours",
           "timeUnit": "hoursminutes",
           "type": "temporal"
          },
          "x": {
           "field": "date_cam_1",
           "type": "temporal"
          },
          "y": {
           "field": "tps_parcours",
           "timeUnit": "hoursminutes",
           "type": "temporal"
          }
         },
         "mark": "point",
         "selection": {
          "selector010": {
           "bind": "scales",
           "encodings": [
            "x",
            "y"
           ],
           "mark": {
            "fill": "#333",
            "fillOpacity": 0.125,
            "stroke": "white"
           },
           "on": "[mousedown, window:mouseup] > window:mousemove!",
           "resolve": "global",
           "translate": "[mousedown, window:mouseup] > window:mousemove!",
           "type": "interval",
           "zoom": "wheel!"
          }
         }
        },
        {
         "data": {
          "name": "data-ce04551b2c6df3131cf9767df39e0199"
         },
         "encoding": {
          "tooltip": {
           "field": "temps_parcours_max",
           "timeUnit": "hoursminutes",
           "type": "temporal"
          },
          "x": {
           "field": "date_cam_1",
           "type": "temporal"
          },
          "y": {
           "field": "temps_parcours_max",
           "timeUnit": "hoursminutes",
           "type": "temporal"
          }
         },
         "mark": {
          "color": "yellow",
          "type": "line"
         }
        }
       ]
      },
      "image/png": "[encoded data removed]",
      "text/plain": [
       "<VegaLite 2 object>\n",
       "\n",
       "If you see this message, it means the renderer has not been properly enabled\n",
       "for the frontend that you are using. For more information, see\n",
       "https://altair-viz.github.io/user_guide/troubleshooting.html\n"
      ]
     },
     "execution_count": 77,
     "metadata": {},
     "output_type": "execute_result"
    }
   ],
   "source": [
    "graph_tps_bruts+graph_pl_cluster"
   ]
  },
  {
   "cell_type": "code",
   "execution_count": null,
   "metadata": {},
   "outputs": [],
   "source": []
  }
 ],
 "metadata": {
  "kernelspec": {
   "display_name": "Python 3",
   "language": "python",
   "name": "python3"
  },
  "language_info": {
   "codemirror_mode": {
    "name": "ipython",
    "version": 3
   },
   "file_extension": ".py",
   "mimetype": "text/x-python",
   "name": "python",
   "nbconvert_exporter": "python",
   "pygments_lexer": "ipython3",
   "version": "3.7.0"
  }
 },
 "nbformat": 4,
 "nbformat_minor": 2
}
