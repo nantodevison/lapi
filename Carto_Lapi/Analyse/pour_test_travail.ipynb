{
 "cells": [
  {
   "cell_type": "markdown",
   "metadata": {},
   "source": [
    "NOTEBOOOK DE CRAETION DES ORIGINE DESTINATION LAPI"
   ]
  },
  {
   "cell_type": "code",
   "execution_count": 1,
   "metadata": {},
   "outputs": [],
   "source": [
    "%load_ext autoreload\n",
    "%autoreload 2\n",
    "import sys #c'est pas propre mais pour le moment pour importer mes modules perso dans le notebook je ne sais pas faire\n",
    "sys.path.append(r'C:\\Users\\martin.schoreisz\\git\\Outils\\Outils\\Martin_Perso')\n",
    "import traitement_od as t\n",
    "import pandas as pd\n",
    "import numpy as np\n",
    "import altair as alt\n",
    "import datetime as dt\n",
    "pd.set_option('display.max_colwidth', 1000)\n",
    "import os\n",
    "from sklearn.cluster import DBSCAN"
   ]
  },
  {
   "cell_type": "markdown",
   "metadata": {},
   "source": [
    "IMPORT DONNEES GLOBALES (SUPPRESSION DES DOUBLONS EN MM TEMPS)"
   ]
  },
  {
   "cell_type": "code",
   "execution_count": 2,
   "metadata": {},
   "outputs": [
    {
     "name": "stdout",
     "output_type": "stream",
     "text": [
      "Wall time: 1min 8s\n"
     ]
    }
   ],
   "source": [
    "%%time \n",
    "df_3semaines=t.ouvrir_fichier_lapi('2019-01-28 00:00:00','2019-02-17 23:59:59')\n",
    "#df_3semaines=df_3semaines.drop_duplicates(['created','immat'])\n",
    "df_3semaines=df_3semaines.set_index('created').sort_index()"
   ]
  },
  {
   "cell_type": "markdown",
   "metadata": {},
   "source": [
    "VERIFICATION DES DONNEES"
   ]
  },
  {
   "cell_type": "code",
   "execution_count": null,
   "metadata": {},
   "outputs": [],
   "source": [
    "#trouver les doublons\n",
    "doublons=df_3semaines.reset_index()\n",
    "doublons.loc[doublons.duplicated(['created','immat'],keep=False)]"
   ]
  },
  {
   "cell_type": "code",
   "execution_count": 27,
   "metadata": {},
   "outputs": [],
   "source": [
    "%%time \n",
    "#verifier si des passages sont trop proches\n",
    "\n",
    "#fonction de test d'ecart entre les passages\n",
    "def ecart_passage(liste_passage, liste_camera,state) : \n",
    "    for i in range(len(liste_passage)-1):\n",
    "        if (pd.to_datetime(liste_passage[i+1])-pd.to_datetime(liste_passage[i])<pd.Timedelta('00:05:00') and \n",
    "            pd.to_datetime(liste_passage[i])!=pd.to_datetime(liste_passage[i+1]) and state!='!!') : #on trouve l'enchainement en moins de 5minutes, sans prendre les doublons\n",
    "            return True\n",
    "    else : return False\n",
    "def conserver_state(liste_state):\n",
    "    if '!!' in liste_state : \n",
    "        return '!!'\n",
    "    else : return liste_state[0]\n",
    "def test_unicite_type(liste_l, mode='unique'):\n",
    "        if mode=='unique' : \n",
    "            if len(set(liste_l))==1 :\n",
    "                return liste_l[0]\n",
    "            else : \n",
    "                return -1\n",
    "        elif mode=='1/2' :\n",
    "            if any(liste_l)==1 : \n",
    "                return 1\n",
    "            else : \n",
    "                return -1\n",
    "\n",
    "#on grouep les données et modifie les colonnes\n",
    "groupe=(df_3semaines.sort_index().reset_index().groupby('immat').agg({'camera_id':lambda x : tuple(x),'l': lambda x : test_unicite_type(list(x),'1/2'), \n",
    "                                                              'created':lambda x: tuple(x),'state':lambda x : conserver_state(list(x)) }))\n",
    "#on isole les pl\n",
    "groupe_pl=groupe.loc[groupe['l']==1].copy()\n",
    "#on ajoute une colonne drapeau pour localiser le pb\n",
    "groupe_pl['erreur_tps_passage']=groupe_pl.apply(lambda x :  ecart_passage(x['created'], x['camera_id'], x['state']),axis=1)\n",
    "#et on visualise\n",
    "groupe_pl[groupe_pl['erreur_tps_passage']]"
   ]
  },
  {
   "cell_type": "code",
   "execution_count": 27,
   "metadata": {},
   "outputs": [],
   "source": [
    "#redresser la valeur de l\n",
    "df_journee.loc[df_journee['camera_id']==15,'l']=1"
   ]
  },
  {
   "cell_type": "markdown",
   "metadata": {},
   "source": [
    "LISTE DES TRAJETS"
   ]
  },
  {
   "cell_type": "code",
   "execution_count": null,
   "metadata": {},
   "outputs": [],
   "source": [
    "#OLD\n",
    "liste_trajet_locale=(pd.DataFrame([{'origine':'A63','destination':'A10','cam_o':15, 'cam_d':11, 'trajets':[\n",
    "                                                        {'cameras':[15,19,4,5,11],'type_trajet':'indirect'},\n",
    "                                                        {'cameras':[15,19,1,5,11],'type_trajet':'indirect'},\n",
    "                                                        {'cameras':[15,4,5,11],'type_trajet':'indirect'},\n",
    "                                                        {'cameras':[15,1,5,11],'type_trajet':'indirect'},\n",
    "                                                        {'cameras':[15,19,5,11],'type_trajet':'indirect'},\n",
    "                                                        {'cameras':[15,19,4,11],'type_trajet':'indirect'},\n",
    "                                                        {'cameras':[15,19,1,11],'type_trajet':'indirect'},\n",
    "                                                        {'cameras':[15,4,11],'type_trajet':'indirect'},\n",
    "                                                        {'cameras':[15,1,11],'type_trajet':'indirect'},\n",
    "                                                        {'cameras':[15,5,11],'type_trajet':'indirect'},\n",
    "                                                        {'cameras':[15,19,11],'type_trajet':'indirect'},\n",
    "                                                        {'cameras':[15,11],'type_trajet':'direct'}\n",
    "                                                       ]},\n",
    "                            {'origine':'A10','destination':'A63','cam_o':12, 'cam_d':13,'trajets':[{'cameras':[12,6,2,18,13],'type_trajet':'indirect'},\n",
    "                                                        {'cameras':[12,6,3,18,13],'type_trajet':'indirect'},\n",
    "                                                        {'cameras':[12,6,2,13],'type_trajet':'indirect'},\n",
    "                                                        {'cameras':[12,6,3,13],'type_trajet':'indirect'},\n",
    "                                                        {'cameras':[12,6,18,13],'type_trajet':'indirect'},\n",
    "                                                        {'cameras':[12,2,18,13],'type_trajet':'indirect'},\n",
    "                                                        {'cameras':[12,3,18,13],'type_trajet':'indirect'},\n",
    "                                                        {'cameras':[12,2,13],'type_trajet':'indirect'},\n",
    "                                                        {'cameras':[12,3,13],'type_trajet':'indirect'},\n",
    "                                                        {'cameras':[12,6,13],'type_trajet':'indirect'},\n",
    "                                                        {'cameras':[12,18,13],'type_trajet':'indirect'},\n",
    "                                                        {'cameras':[12,13],'type_trajet':'direct'},\n",
    "                                                       ]},\n",
    "                            {'origine':'A63','destination':'N10','cam_o':15, 'cam_d':5,'trajets':[{'cameras':[15,19,4,5],'type_trajet':'indirect'},\n",
    "                                                        {'cameras':[15,19,1,5],'type_trajet':'indirect'},\n",
    "                                                        {'cameras':[15,4,5],'type_trajet':'indirect'},\n",
    "                                                        {'cameras':[15,1,5],'type_trajet':'indirect'},\n",
    "                                                        {'cameras':[15,19,5],'type_trajet':'indirect'}, \n",
    "                                                        {'cameras':[15,5],'type_trajet':'direct'},\n",
    "                                                       ]},\n",
    "                            {'origine':'N10','destination':'A63','cam_o':6, 'cam_d':13,'trajets':[{'cameras':[6,2,18,13],'type_trajet':'indirect'},\n",
    "                                                        {'cameras':[6,3,18,13],'type_trajet':'indirect'},\n",
    "                                                        {'cameras':[6,18,13],'type_trajet':'indirect'},\n",
    "                                                        {'cameras':[6,2,13],'type_trajet':'indirect'},\n",
    "                                                        {'cameras':[6,3,13],'type_trajet':'indirect'},\n",
    "                                                        {'cameras':[6,13],'type_trajet':'direct'},\n",
    "                                                       ]},\n",
    "                            {'origine':'A62','destination':'A10','cam_o':10, 'cam_d':11,'trajets':[{'cameras':[10,4,5,11],'type_trajet':'indirect'},\n",
    "                                                        {'cameras':[10,4,11],'type_trajet':'indirect'},\n",
    "                                                        {'cameras':[10,5,11],'type_trajet':'indirect'},\n",
    "                                                        {'cameras':[10,11],'type_trajet':'direct'}\n",
    "                                                       ]},\n",
    "                            {'origine':'A10','destination':'A62','cam_o':12, 'cam_d':9,'trajets':[{'cameras':[12,6,3,9],'type_trajet':'indirect'},\n",
    "                                                        {'cameras':[12,3,9],'type_trajet':'indirect'},\n",
    "                                                        {'cameras':[12,6,9],'type_trajet':'indirect'},\n",
    "                                                        {'cameras':[12,9],'type_trajet':'direct'}\n",
    "                                                       ]},\n",
    "                            {'origine':'A62','destination':'N10','cam_o':10, 'cam_d':5,'trajets':[{'cameras':[10,4,5],'type_trajet':'indirect'},\n",
    "                                                        {'cameras':[10,5],'type_trajet':'direct'},\n",
    "                                                       ]},\n",
    "                            {'origine':'N10','destination':'A62','cam_o':6, 'cam_d':9,'trajets':[{'cameras':[6,3,9],'type_trajet':'indirect'},\n",
    "                                                        {'cameras':[6,9],'type_trajet':'direct'},\n",
    "                                                       ]},\n",
    "                            {'origine':'A63','destination':'A62','cam_o':15, 'cam_d':9,'trajets':[{'cameras':[15,19,9],'type_trajet':'indirect'},\n",
    "                                                        {'cameras':[15,9],'type_trajet':'direct'},\n",
    "                                                       ]},\n",
    "                            {'origine':'A62','destination':'A63','cam_o':10, 'cam_d':13,'trajets':[{'cameras':[10,18,13],'type_trajet':'indirect'},\n",
    "                                                        {'cameras':[10,13],'type_trajet':'direct'},\n",
    "                                                       ]},\n",
    "                            {'origine':'A89','destination':'A63','cam_o':8 ,'cam_d':13,'trajets':[{'cameras':[8,3,18,13],'type_trajet':'indirect'},\n",
    "                                                        {'cameras':[8,18,13],'type_trajet':'indirect'},\n",
    "                                                        {'cameras':[8,3,13],'type_trajet':'indirect'},\n",
    "                                                        {'cameras':[8,13],'type_trajet':'direct'},\n",
    "                                                       ]},\n",
    "                            {'origine':'A63','destination':'A89','cam_o':15, 'cam_d':7,'trajets':[{'cameras':[15,19,4,7],'type_trajet':'indirect'},\n",
    "                                                        {'cameras':[15,4,7],'type_trajet':'indirect'},\n",
    "                                                        {'cameras':[15,19,7],'type_trajet':'indirect'},\n",
    "                                                        {'cameras':[15,7],'type_trajet':'direct'},\n",
    "                                                       ]},\n",
    "                            {'origine':'A89','destination':'A62','cam_o':8, 'cam_d':9,'trajets':[{'cameras':[8,3,9],'type_trajet':'indirect'},\n",
    "                                                        {'cameras':[8,9],'type_trajet':'direct'}\n",
    "                                                       ]},\n",
    "                            {'origine':'A62','destination':'A89','cam_o':10, 'cam_d':7,'trajets':[{'cameras':[10,4,7],'type_trajet':'indirect'},\n",
    "                                                        {'cameras':[10,7],'type_trajet':'direct'}\n",
    "                                                       ]},\n",
    "                            {'origine':'A89','destination':'A10','cam_o':8, 'cam_d':11,'trajets':[{'cameras':[8,5,11],'type_trajet':'indirect'},\n",
    "                                                        {'cameras':[8,11],'type_trajet':'direct'}\n",
    "                                                       ]},\n",
    "                            {'origine':'A10','destination':'A89','cam_o':12, 'cam_d':7,'trajets':[{'cameras':[12,6,7],'type_trajet':'indirect'},\n",
    "                                                        {'cameras':[12,7],'type_trajet':'direct'}\n",
    "                                                       ]},\n",
    "                            {'origine':'A89','destination':'N10','cam_o':8, 'cam_d':5,'trajets':[{'cameras':[8,5],'type_trajet':'direct'}\n",
    "                                                       ]},\n",
    "                            {'origine':'N10','destination':'A89','cam_o':6, 'cam_d':7,'trajets':[{'cameras':[6,7],'type_trajet':'direct'}\n",
    "                                                       ]},\n",
    "                            {'origine':'A10','destination':'A660','cam_o':12, 'cam_d':18,'trajets':[{'cameras':[12,6,2,18],'type_trajet':'indirect'},\n",
    "                                                         {'cameras':[12,6,3,18],'type_trajet':'indirect'},\n",
    "                                                         {'cameras':[12,2,18],'type_trajet':'indirect'},\n",
    "                                                         {'cameras':[12,3,18],'type_trajet':'indirect'},\n",
    "                                                         {'cameras':[12,6,18],'type_trajet':'indirect'},\n",
    "                                                         {'cameras':[12,18],'type_trajet':'direct'},\n",
    "                                                        ]},\n",
    "                            {'origine':'A660','destination':'A10','cam_o':19, 'cam_d':18,'trajets':[{'cameras':[19,4,5,11],'type_trajet':'indirect'},\n",
    "                                                         {'cameras':[19,1,5,11],'type_trajet':'indirect'},\n",
    "                                                         {'cameras':[19,1,11],'type_trajet':'indirect'},\n",
    "                                                         {'cameras':[19,4,11],'type_trajet':'indirect'},\n",
    "                                                         {'cameras':[19,5,11],'type_trajet':'indirect'},\n",
    "                                                         {'cameras':[19,11],'type_trajet':'direct'},\n",
    "                                                       ]},\n",
    "                            {'origine':'A660','destination':'A62','cam_o':19, 'cam_d':9,'trajets':[{'cameras':[19,9],'type_trajet':'direct'}\n",
    "                                                        ]},\n",
    "                            {'origine':'A62','destination':'A660','cam_o':10, 'cam_d':18,'trajets':[{'cameras':[10,18],'type_trajet':'direct'}\n",
    "                                                        ]},\n",
    "                            {'origine':'A660','destination':'A89','cam_o':19, 'cam_d':7,'trajets':[{'cameras':[19,4,7],'type_trajet':'indirect'},\n",
    "                                                         {'cameras':[19,7],'type_trajet':'direct'}\n",
    "                                                        ]},\n",
    "                            {'origine':'A89','destination':'A660','cam_o':8, 'cam_d':18,'trajets':[{'cameras':[8,3,18],'type_trajet':'indirect'},\n",
    "                                                         {'cameras':[8,18],'type_trajet':'direct'}\n",
    "                                                        ]},\n",
    "                            {'origine':'N10','destination':'A660','cam_o':6, 'cam_d':18,'trajets':[{'cameras':[6,2,18],'type_trajet':'indirect'},\n",
    "                                                         {'cameras':[6,3,18],'type_trajet':'indirect'},\n",
    "                                                         {'cameras':[6,18],'type_trajet':'direct'},\n",
    "                                                        ]},\n",
    "                            {'origine':'A660','destination':'N10','cam_o':19, 'cam_d':5,'trajets':[{'cameras':[19,1,5],'type_trajet':'indirect'},\n",
    "                                                         {'cameras':[19,4,5],'type_trajet':'indirect'},\n",
    "                                                         {'cameras':[19,5],'type_trajet':'direct'},\n",
    "                                                        ]}\n",
    "                           ]))[['origine', 'destination', 'cam_o', 'cam_d','trajets']]\n",
    "liste_trajet_locale.to_json(r'Q:\\DAIT\\TI\\DREAL33\\2018\\C17SI0073_LAPI\\Traitements\\python\\OLD_liste_trajets.json',orient='records')\n",
    "\n",
    "liste_complete_trajet=pd.DataFrame([[tuple(liste_cam['cameras']),value[0],value[1],value[2],value[3],len(liste_cam['cameras'])] for obj, value in liste_trajet_locale.iterrows() for liste_cam in value[4]],\n",
    "             columns=['cameras','origine','destination','cam_o','cam_d','nb_cams'])\n",
    "liste_complete_trajet=liste_complete_trajet.sort_values('nb_cams',ascending=False)\n",
    "liste_complete_trajet.to_json(r'Q:\\DAIT\\TI\\DREAL33\\2018\\C17SI0073_LAPI\\Traitements\\python\\trajets_possibles.json',orient='index')\n",
    "liste_complete_trajet"
   ]
  },
  {
   "cell_type": "code",
   "execution_count": null,
   "metadata": {},
   "outputs": [],
   "source": [
    "liste_complete_trajet=pd.read_json(r'Q:\\DAIT\\TI\\DREAL33\\2018\\C17SI0073_LAPI\\Traitements\\python\\trajets_possibles.json', orient='index')\n",
    "liste_complete_trajet['cameras']=liste_complete_trajet.apply(lambda x : tuple(x['cameras']),axis=1)\n",
    "liste_complete_trajet"
   ]
  },
  {
   "cell_type": "markdown",
   "metadata": {},
   "source": [
    "TESTS DONNEES COMPLETES"
   ]
  },
  {
   "cell_type": "code",
   "execution_count": 134,
   "metadata": {},
   "outputs": [
    {
     "name": "stdout",
     "output_type": "stream",
     "text": [
      "date : 2019-01-28 00:00:00 debut_traitement : 2019-04-11 16:29:17.963868\n",
      "date : 2019-01-28 01:00:00 debut_traitement : 2019-04-11 16:29:18.698095\n",
      "date : 2019-01-28 02:00:00 debut_traitement : 2019-04-11 16:29:19.322923\n",
      "date : 2019-01-28 03:00:00 debut_traitement : 2019-04-11 16:29:20.010260\n",
      "date : 2019-01-28 04:00:00 debut_traitement : 2019-04-11 16:29:20.650764\n",
      "date : 2019-01-28 05:00:00 debut_traitement : 2019-04-11 16:29:21.588045\n",
      "date : 2019-01-28 06:00:00 debut_traitement : 2019-04-11 16:29:25.508975\n",
      "date : 2019-01-28 07:00:00 debut_traitement : 2019-04-11 16:29:27.149216\n",
      "date : 2019-01-28 08:00:00 debut_traitement : 2019-04-11 16:29:29.164392\n",
      "date : 2019-01-28 09:00:00 debut_traitement : 2019-04-11 16:29:32.335523\n",
      "date : 2019-01-28 10:00:00 debut_traitement : 2019-04-11 16:29:34.975518\n",
      "date : 2019-01-28 11:00:00 debut_traitement : 2019-04-11 16:29:37.927932\n",
      "date : 2019-01-28 12:00:00 debut_traitement : 2019-04-11 16:29:41.885391\n",
      "date : 2019-01-28 13:00:00 debut_traitement : 2019-04-11 16:29:45.563307\n",
      "date : 2019-01-28 14:00:00 debut_traitement : 2019-04-11 16:29:48.634207\n",
      "date : 2019-01-28 15:00:00 debut_traitement : 2019-04-11 16:29:51.696507\n",
      "date : 2019-01-28 16:00:00 debut_traitement : 2019-04-11 16:29:54.773156\n",
      "date : 2019-01-28 17:00:00 debut_traitement : 2019-04-11 16:29:58.444154\n",
      "date : 2019-01-28 18:00:00 debut_traitement : 2019-04-11 16:30:00.084409\n",
      "date : 2019-01-28 19:00:00 debut_traitement : 2019-04-11 16:30:01.209114\n",
      "date : 2019-01-28 20:00:00 debut_traitement : 2019-04-11 16:30:02.115156\n",
      "date : 2019-01-28 21:00:00 debut_traitement : 2019-04-11 16:30:02.864976\n",
      "date : 2019-01-28 22:00:00 debut_traitement : 2019-04-11 16:30:03.567964\n",
      "date : 2019-01-28 23:00:00 debut_traitement : 2019-04-11 16:30:04.177169\n"
     ]
    }
   ],
   "source": [
    "dico_od,  dico_passag=t.transit_temps_complet('2019-01-28 00:00:00',1,df_3semaines)"
   ]
  },
  {
   "cell_type": "markdown",
   "metadata": {},
   "source": [
    "IMPORTANT : VERIF DES DOUBLONS ENTRE LES TRAJETS"
   ]
  },
  {
   "cell_type": "code",
   "execution_count": 830,
   "metadata": {},
   "outputs": [
    {
     "data": {
      "text/html": [
       "<div>\n",
       "<style scoped>\n",
       "    .dataframe tbody tr th:only-of-type {\n",
       "        vertical-align: middle;\n",
       "    }\n",
       "\n",
       "    .dataframe tbody tr th {\n",
       "        vertical-align: top;\n",
       "    }\n",
       "\n",
       "    .dataframe thead th {\n",
       "        text-align: right;\n",
       "    }\n",
       "</style>\n",
       "<table border=\"1\" class=\"dataframe\">\n",
       "  <thead>\n",
       "    <tr style=\"text-align: right;\">\n",
       "      <th></th>\n",
       "      <th>date_cam_1_x</th>\n",
       "      <th>immat</th>\n",
       "      <th>state_x</th>\n",
       "      <th>l_x</th>\n",
       "      <th>date_cam_2_x</th>\n",
       "      <th>cameras_x</th>\n",
       "      <th>origine_x</th>\n",
       "      <th>destination_x</th>\n",
       "      <th>o_d_x</th>\n",
       "      <th>tps_parcours_x</th>\n",
       "      <th>date_cam_1_y</th>\n",
       "      <th>state_y</th>\n",
       "      <th>l_y</th>\n",
       "      <th>date_cam_2_y</th>\n",
       "      <th>cameras_y</th>\n",
       "      <th>origine_y</th>\n",
       "      <th>destination_y</th>\n",
       "      <th>o_d_y</th>\n",
       "      <th>tps_parcours_y</th>\n",
       "    </tr>\n",
       "  </thead>\n",
       "  <tbody>\n",
       "  </tbody>\n",
       "</table>\n",
       "</div>"
      ],
      "text/plain": [
       "Empty DataFrame\n",
       "Columns: [date_cam_1_x, immat, state_x, l_x, date_cam_2_x, cameras_x, origine_x, destination_x, o_d_x, tps_parcours_x, date_cam_1_y, state_y, l_y, date_cam_2_y, cameras_y, origine_y, destination_y, o_d_y, tps_parcours_y]\n",
       "Index: []"
      ]
     },
     "execution_count": 830,
     "metadata": {},
     "output_type": "execute_result"
    }
   ],
   "source": [
    "df_depart=dico_od.loc[dico_od['destination']=='A89'].copy()\n",
    "jointure=df_depart.merge(dico_od, on='immat')\n",
    "jointure=jointure.loc[jointure.date_cam_1_x!=jointure.date_cam_1_y].copy()\n",
    "(jointure.loc[((jointure.date_cam_1_y>=jointure.date_cam_1_x) & (jointure.date_cam_1_y<=jointure.date_cam_2_x)) |\n",
    "              ((jointure.date_cam_2_y>=jointure.date_cam_1_x) & (jointure.date_cam_2_y<=jointure.date_cam_2_x))])"
   ]
  },
  {
   "cell_type": "markdown",
   "metadata": {},
   "source": [
    "CREER LE TABLEAU DE MATRICE O-D"
   ]
  },
  {
   "cell_type": "code",
   "execution_count": 135,
   "metadata": {},
   "outputs": [
    {
     "data": {
      "text/html": [
       "<div>\n",
       "<style scoped>\n",
       "    .dataframe tbody tr th:only-of-type {\n",
       "        vertical-align: middle;\n",
       "    }\n",
       "\n",
       "    .dataframe tbody tr th {\n",
       "        vertical-align: top;\n",
       "    }\n",
       "\n",
       "    .dataframe thead th {\n",
       "        text-align: right;\n",
       "    }\n",
       "</style>\n",
       "<table border=\"1\" class=\"dataframe\">\n",
       "  <thead>\n",
       "    <tr style=\"text-align: right;\">\n",
       "      <th>destination</th>\n",
       "      <th>A10</th>\n",
       "      <th>A62</th>\n",
       "      <th>A63</th>\n",
       "      <th>A660</th>\n",
       "      <th>A89</th>\n",
       "      <th>N10</th>\n",
       "      <th>All</th>\n",
       "    </tr>\n",
       "    <tr>\n",
       "      <th>origine</th>\n",
       "      <th></th>\n",
       "      <th></th>\n",
       "      <th></th>\n",
       "      <th></th>\n",
       "      <th></th>\n",
       "      <th></th>\n",
       "      <th></th>\n",
       "    </tr>\n",
       "  </thead>\n",
       "  <tbody>\n",
       "    <tr>\n",
       "      <th>A10</th>\n",
       "      <td>NaN</td>\n",
       "      <td>392.0</td>\n",
       "      <td>262.0</td>\n",
       "      <td>189.0</td>\n",
       "      <td>48.0</td>\n",
       "      <td>NaN</td>\n",
       "      <td>891</td>\n",
       "    </tr>\n",
       "    <tr>\n",
       "      <th>A62</th>\n",
       "      <td>179.0</td>\n",
       "      <td>NaN</td>\n",
       "      <td>55.0</td>\n",
       "      <td>107.0</td>\n",
       "      <td>56.0</td>\n",
       "      <td>216.0</td>\n",
       "      <td>613</td>\n",
       "    </tr>\n",
       "    <tr>\n",
       "      <th>A63</th>\n",
       "      <td>540.0</td>\n",
       "      <td>31.0</td>\n",
       "      <td>NaN</td>\n",
       "      <td>NaN</td>\n",
       "      <td>155.0</td>\n",
       "      <td>2555.0</td>\n",
       "      <td>3281</td>\n",
       "    </tr>\n",
       "    <tr>\n",
       "      <th>A660</th>\n",
       "      <td>179.0</td>\n",
       "      <td>79.0</td>\n",
       "      <td>NaN</td>\n",
       "      <td>NaN</td>\n",
       "      <td>117.0</td>\n",
       "      <td>423.0</td>\n",
       "      <td>798</td>\n",
       "    </tr>\n",
       "    <tr>\n",
       "      <th>A89</th>\n",
       "      <td>49.0</td>\n",
       "      <td>136.0</td>\n",
       "      <td>199.0</td>\n",
       "      <td>176.0</td>\n",
       "      <td>NaN</td>\n",
       "      <td>130.0</td>\n",
       "      <td>690</td>\n",
       "    </tr>\n",
       "    <tr>\n",
       "      <th>N10</th>\n",
       "      <td>NaN</td>\n",
       "      <td>294.0</td>\n",
       "      <td>841.0</td>\n",
       "      <td>315.0</td>\n",
       "      <td>63.0</td>\n",
       "      <td>NaN</td>\n",
       "      <td>1513</td>\n",
       "    </tr>\n",
       "    <tr>\n",
       "      <th>All</th>\n",
       "      <td>947.0</td>\n",
       "      <td>932.0</td>\n",
       "      <td>1357.0</td>\n",
       "      <td>787.0</td>\n",
       "      <td>439.0</td>\n",
       "      <td>3324.0</td>\n",
       "      <td>7786</td>\n",
       "    </tr>\n",
       "  </tbody>\n",
       "</table>\n",
       "</div>"
      ],
      "text/plain": [
       "destination    A10    A62     A63   A660    A89     N10   All\n",
       "origine                                                      \n",
       "A10            NaN  392.0   262.0  189.0   48.0     NaN   891\n",
       "A62          179.0    NaN    55.0  107.0   56.0   216.0   613\n",
       "A63          540.0   31.0     NaN    NaN  155.0  2555.0  3281\n",
       "A660         179.0   79.0     NaN    NaN  117.0   423.0   798\n",
       "A89           49.0  136.0   199.0  176.0    NaN   130.0   690\n",
       "N10            NaN  294.0   841.0  315.0   63.0     NaN  1513\n",
       "All          947.0  932.0  1357.0  787.0  439.0  3324.0  7786"
      ]
     },
     "execution_count": 135,
     "metadata": {},
     "output_type": "execute_result"
    }
   ],
   "source": [
    "#MATRICE O-D !!II!\n",
    "pd.pivot_table(dico_od,values='l', index='origine', columns='destination',aggfunc='count', margins=True )"
   ]
  },
  {
   "cell_type": "markdown",
   "metadata": {},
   "source": [
    "POURCENTAGE PL PAR PLAGE HORAIRE ET CAMERA"
   ]
  },
  {
   "cell_type": "code",
   "execution_count": 432,
   "metadata": {},
   "outputs": [],
   "source": [
    "#isoler pl source\n",
    "groupe_tv_type_simple=df_journee.groupby('immat')['l'].apply(lambda x:test_unicite_type(list(x),mode='1/2')).reset_index().drop_duplicates('immat')\n",
    "df_pl=df_journee.join(groupe_tv_type_simple.loc[groupe_tv_type_simple['l']==1].set_index('immat'),on='immat',how='inner',rsuffix='_right')\n",
    "df_pl.set_index('created',inplace=True)\n",
    "\n",
    "#obtenir les nb de pl par heure et par camera sur la source\n",
    "df_synthese_pl_tot=df_pl.groupby('camera_id').resample('H').count()['immat'].rename(column={'immat':'nb_pl_tot'})\n",
    "df_synthese_pl_transit=dico_passag.set_index('created').groupby('camera_id').resample('H').count()['immat'].rename(column={'immat':'nb_pl_transit'})\n",
    "df_pct_pl_transit=pd.concat([df_synthese_pl_tot,df_synthese_pl_transit], axis=1, join='inner')\n",
    "df_pct_pl_transit.columns=[['nb_pl_tot','nb_pl_transit']]\n",
    "df_pct_pl_transit['pct_pl_transit']=df_pct_pl_transit.apply(lambda x : float(x['nb_pl_transit'])*100 / x['nb_pl_tot'] ,axis=1)\n",
    "df_pct_pl_transit"
   ]
  },
  {
   "cell_type": "code",
   "execution_count": null,
   "metadata": {},
   "outputs": [],
   "source": [
    "pct_pl=t.pourcentage_pl_camera('2019-01-28 00:00:00', 1,df_3semaines.reset_index(),dico_passag)\n",
    "pct_pl"
   ]
  },
  {
   "cell_type": "markdown",
   "metadata": {},
   "source": [
    "VERIFICATION"
   ]
  },
  {
   "cell_type": "code",
   "execution_count": 30,
   "metadata": {},
   "outputs": [
    {
     "data": {
      "text/html": [
       "<div>\n",
       "<style scoped>\n",
       "    .dataframe tbody tr th:only-of-type {\n",
       "        vertical-align: middle;\n",
       "    }\n",
       "\n",
       "    .dataframe tbody tr th {\n",
       "        vertical-align: top;\n",
       "    }\n",
       "\n",
       "    .dataframe thead th {\n",
       "        text-align: right;\n",
       "    }\n",
       "</style>\n",
       "<table border=\"1\" class=\"dataframe\">\n",
       "  <thead>\n",
       "    <tr style=\"text-align: right;\">\n",
       "      <th></th>\n",
       "      <th>camera_id</th>\n",
       "      <th>immat</th>\n",
       "      <th>fiability</th>\n",
       "      <th>l</th>\n",
       "      <th>state</th>\n",
       "    </tr>\n",
       "    <tr>\n",
       "      <th>created</th>\n",
       "      <th></th>\n",
       "      <th></th>\n",
       "      <th></th>\n",
       "      <th></th>\n",
       "      <th></th>\n",
       "    </tr>\n",
       "  </thead>\n",
       "  <tbody>\n",
       "    <tr>\n",
       "      <th>2019-02-10 09:38:43</th>\n",
       "      <td>4</td>\n",
       "      <td>fffbb020a440bbec286fc41d4b70865e990b4bb7</td>\n",
       "      <td>99</td>\n",
       "      <td>1</td>\n",
       "      <td>FR</td>\n",
       "    </tr>\n",
       "    <tr>\n",
       "      <th>2019-02-10 09:49:02</th>\n",
       "      <td>5</td>\n",
       "      <td>fffbb020a440bbec286fc41d4b70865e990b4bb7</td>\n",
       "      <td>99</td>\n",
       "      <td>1</td>\n",
       "      <td>FR</td>\n",
       "    </tr>\n",
       "    <tr>\n",
       "      <th>2019-02-10 09:50:56</th>\n",
       "      <td>10</td>\n",
       "      <td>fffbb020a440bbec286fc41d4b70865e990b4bb7</td>\n",
       "      <td>99</td>\n",
       "      <td>1</td>\n",
       "      <td>FR</td>\n",
       "    </tr>\n",
       "    <tr>\n",
       "      <th>2019-02-10 10:07:29</th>\n",
       "      <td>11</td>\n",
       "      <td>fffbb020a440bbec286fc41d4b70865e990b4bb7</td>\n",
       "      <td>99</td>\n",
       "      <td>0</td>\n",
       "      <td>FR</td>\n",
       "    </tr>\n",
       "  </tbody>\n",
       "</table>\n",
       "</div>"
      ],
      "text/plain": [
       "                     camera_id                                     immat  \\\n",
       "created                                                                    \n",
       "2019-02-10 09:38:43          4  fffbb020a440bbec286fc41d4b70865e990b4bb7   \n",
       "2019-02-10 09:49:02          5  fffbb020a440bbec286fc41d4b70865e990b4bb7   \n",
       "2019-02-10 09:50:56         10  fffbb020a440bbec286fc41d4b70865e990b4bb7   \n",
       "2019-02-10 10:07:29         11  fffbb020a440bbec286fc41d4b70865e990b4bb7   \n",
       "\n",
       "                     fiability  l state  \n",
       "created                                  \n",
       "2019-02-10 09:38:43         99  1    FR  \n",
       "2019-02-10 09:49:02         99  1    FR  \n",
       "2019-02-10 09:50:56         99  1    FR  \n",
       "2019-02-10 10:07:29         99  0    FR  "
      ]
     },
     "execution_count": 30,
     "metadata": {},
     "output_type": "execute_result"
    }
   ],
   "source": [
    "# #retrouver une immatriculatiob dans les données completes\n",
    "df_3semaines.loc[df_3semaines['immat']=='fffbb020a440bbec286fc41d4b70865e990b4bb7']"
   ]
  },
  {
   "cell_type": "code",
   "execution_count": 865,
   "metadata": {},
   "outputs": [
    {
     "data": {
      "text/html": [
       "<div>\n",
       "<style scoped>\n",
       "    .dataframe tbody tr th:only-of-type {\n",
       "        vertical-align: middle;\n",
       "    }\n",
       "\n",
       "    .dataframe tbody tr th {\n",
       "        vertical-align: top;\n",
       "    }\n",
       "\n",
       "    .dataframe thead th {\n",
       "        text-align: right;\n",
       "    }\n",
       "</style>\n",
       "<table border=\"1\" class=\"dataframe\">\n",
       "  <thead>\n",
       "    <tr style=\"text-align: right;\">\n",
       "      <th></th>\n",
       "      <th>date_cam_1</th>\n",
       "      <th>immat</th>\n",
       "      <th>state</th>\n",
       "      <th>l</th>\n",
       "      <th>date_cam_2</th>\n",
       "      <th>cameras</th>\n",
       "      <th>origine</th>\n",
       "      <th>destination</th>\n",
       "      <th>o_d</th>\n",
       "      <th>tps_parcours</th>\n",
       "    </tr>\n",
       "  </thead>\n",
       "  <tbody>\n",
       "  </tbody>\n",
       "</table>\n",
       "</div>"
      ],
      "text/plain": [
       "Empty DataFrame\n",
       "Columns: [date_cam_1, immat, state, l, date_cam_2, cameras, origine, destination, o_d, tps_parcours]\n",
       "Index: []"
      ]
     },
     "execution_count": 865,
     "metadata": {},
     "output_type": "execute_result"
    }
   ],
   "source": [
    "# retrouver une immatriculatiob dans ledico o_d\n",
    "dico_od.loc[dico_od['immat']=='2da9c14f66a652882b65149a257de9f25f5a5a24']"
   ]
  },
  {
   "cell_type": "code",
   "execution_count": 109,
   "metadata": {},
   "outputs": [],
   "source": [
    "#verif a un horaire donne sur un trajet direct ou indirect\n",
    "%time test=t.trajet(df_3semaines.loc['2019-01-29 00:00:00':'2019-01-30 15:00:00'], '2019-01-29 06:00:00', 60, [5,4],typeTrajet='Direct')"
   ]
  },
  {
   "cell_type": "markdown",
   "metadata": {},
   "source": [
    "TESTS A LA MANO"
   ]
  },
  {
   "cell_type": "code",
   "execution_count": 135,
   "metadata": {},
   "outputs": [],
   "source": [
    "#pour test des fonctions de trajets directs\n",
    "df_duree=df_3semaines.loc['2019-01-29 21:00:00':'2019-01-30 15:00:00'].loc['2019-01-29 21:00:00':'2019-01-29 22:00:00']\n",
    "df_duree_cam1=df_duree.loc[df_duree.loc[:,'camera_id']==19]\n",
    "df_duree_autres_cam=df_3semaines.loc['2019-01-29 21:00:00':'2019-01-30 15:00:00'].loc[(df_3semaines.loc['2019-01-29 21:00:00':'2019-01-30 15:00:00'].loc[:,'immat'].isin(df_duree_cam1.loc[:,'immat']))]\n",
    "cam1_croise_autre_cam=df_duree_cam1.reset_index().merge(df_duree_autres_cam.reset_index(), on='immat')\n",
    "cam1_croise_suivant=cam1_croise_autre_cam.loc[(cam1_croise_autre_cam.loc[:,'created_x']<cam1_croise_autre_cam.loc[:,'created_y'])]\n",
    "cam1_fastest_next=cam1_croise_suivant.loc[cam1_croise_suivant.groupby(['immat'])['created_y'].idxmin()]"
   ]
  },
  {
   "cell_type": "code",
   "execution_count": 810,
   "metadata": {},
   "outputs": [
    {
     "name": "stdout",
     "output_type": "stream",
     "text": [
      "Wall time: 344 ms\n"
     ]
    }
   ],
   "source": [
    "%%time\n",
    "#pour test des fonctions de trajets global \n",
    "camera1, camera2=10,18\n",
    "df=df_3semaines.loc['2019-01-28 10:00:00':'2019-01-29 23:59:59']\n",
    "df_duree=df.loc['2019-01-28 10:00:00':'2019-01-28 11:00:00']\n",
    "df_duree_cam1=df_duree.loc[df_duree.loc[:,'camera_id']==camera1]\n",
    "df_duree_autres_cam=df.loc[(df.loc[:,'immat'].isin(df_duree_cam1.loc[:,'immat']))]\n",
    "groupe=(df_duree_autres_cam.sort_index().reset_index().groupby('immat').agg({'camera_id':lambda x : tuple(x), 'l': lambda x : test_unicite_type(list(x),'1/2'),\n",
    "                                                                               'created':lambda x: tuple(x)}))\n",
    "groupe_pl=groupe.loc[groupe['l']==1].copy()\n",
    "groupe_pl['camera_id']=groupe_pl.apply(lambda x : filtrer_passage(x['camera_id'],liste_complete_trajet,camera1),axis=1)#on filtre les cameras selon la liste des trajets existants\n",
    "groupe_pl['created']=groupe_pl.apply(lambda x : recuperer_date_cam2(x['camera_id'],x['created'],liste_complete_trajet,camera1),axis=1)\n",
    "df_ts_trajets=(groupe_pl.reset_index().merge(liste_complete_trajet[['cameras','origine','destination']],right_on='cameras', left_on='camera_id').\n",
    "               rename(columns={'created':'date_cam_2'}).drop('camera_id',axis=1))\n",
    "df_ts_trajets['o_d']=df_ts_trajets.apply(lambda x : x['origine']+'-'+x['destination'],axis=1)\n",
    "df_agrege=df_duree_cam1.reset_index().merge(df_ts_trajets,on='immat').drop(['camera_id', 'l_x','state','fiability'],axis=1).rename(columns={'l_y':'l','created':'date_cam_1'})\n",
    "df_agrege['tps_parcours']=df_agrege.apply(lambda x : x.date_cam_2-x.date_cam_1, axis=1)\n",
    "df_agrege=df_agrege.loc[df_agrege['date_cam_2'] > df_agrege['date_cam_1']]\n",
    "\n",
    "df_joint_passag_transit=df_agrege.merge(df_duree_autres_cam.reset_index(), on='immat')\n",
    "df_passag_transit1=df_joint_passag_transit.loc[(df_joint_passag_transit.apply(lambda x : x['camera_id'] in x['cameras'], axis=1))]\n",
    "df_passag_transit=(df_passag_transit1.loc[df_passag_transit1.apply(lambda x : x['date_cam_1']<=x['created']<=x['date_cam_2'], axis=1)]\n",
    "                [['created','camera_id','immat','fiability','l_y','state']].rename(columns={'l_y':'l'}))"
   ]
  },
  {
   "cell_type": "code",
   "execution_count": 785,
   "metadata": {},
   "outputs": [],
   "source": [
    "def filtrer_passage(liste, df_liste_trajet, cam) :\n",
    "    for liste_cams in [a for a in liste_complete_trajet.cameras.tolist() if a[0]==cam] :\n",
    "        if liste[:len(liste_cams)]==tuple(liste_cams):\n",
    "            return liste[:len(liste_cams)]\n",
    "    else : return liste"
   ]
  },
  {
   "cell_type": "code",
   "execution_count": 3,
   "metadata": {},
   "outputs": [],
   "source": [
    "def recuperer_date_cam2(liste,liste_created,df_liste_trajet, cam):\n",
    "    for liste_cams in [a for a in liste_complete_trajet.cameras.tolist() if a[0]==cam] :\n",
    "        if liste[:len(liste_cams)]==tuple(liste_cams):\n",
    "            return liste_created[len(liste_cams)-1]\n",
    "    else : return liste_created[-1]"
   ]
  },
  {
   "cell_type": "markdown",
   "metadata": {},
   "source": [
    "TESTS"
   ]
  },
  {
   "cell_type": "code",
   "execution_count": 6,
   "metadata": {},
   "outputs": [
    {
     "data": {
      "text/plain": [
       "camera_id\n",
       "1     44.025346\n",
       "2     45.053603\n",
       "3     88.447345\n",
       "4     84.762897\n",
       "5     89.014911\n",
       "6     88.729116\n",
       "7     89.318629\n",
       "8     88.783314\n",
       "9     84.869740\n",
       "10    87.667409\n",
       "11    88.111139\n",
       "12    88.565236\n",
       "13    91.133875\n",
       "15    91.244692\n",
       "18    87.460676\n",
       "19    87.803266\n",
       "Name: fiability, dtype: float64"
      ]
     },
     "execution_count": 6,
     "metadata": {},
     "output_type": "execute_result"
    }
   ],
   "source": [
    "# illsutration de la fibilité des cameras\n",
    "df_3semaines.groupby('camera_id')['fiability'].mean()"
   ]
  },
  {
   "cell_type": "code",
   "execution_count": null,
   "metadata": {},
   "outputs": [],
   "source": []
  }
 ],
 "metadata": {
  "kernelspec": {
   "display_name": "Python 3",
   "language": "python",
   "name": "python3"
  },
  "language_info": {
   "codemirror_mode": {
    "name": "ipython",
    "version": 3
   },
   "file_extension": ".py",
   "mimetype": "text/x-python",
   "name": "python",
   "nbconvert_exporter": "python",
   "pygments_lexer": "ipython3",
   "version": "3.7.0"
  }
 },
 "nbformat": 4,
 "nbformat_minor": 2
}
