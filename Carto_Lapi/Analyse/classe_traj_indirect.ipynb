{
 "cells": [
  {
   "cell_type": "markdown",
   "metadata": {},
   "source": [
    "Test du projet de class trajets indirect"
   ]
  },
  {
   "cell_type": "code",
   "execution_count": 272,
   "metadata": {},
   "outputs": [
    {
     "name": "stdout",
     "output_type": "stream",
     "text": [
      "The autoreload extension is already loaded. To reload it, use:\n",
      "  %reload_ext autoreload\n"
     ]
    }
   ],
   "source": [
    "%load_ext autoreload\n",
    "%autoreload 2\n",
    "import sys #c'est pas propre mais pour le moment pour importer mes modules perso dans le notebook je ne sais pas faire\n",
    "sys.path.append(r'C:\\Users\\martin.schoreisz\\git\\Outils\\Outils\\Martin_Perso')\n",
    "import traitement_od as t\n",
    "import pandas as pd\n",
    "import numpy as np\n",
    "import altair as alt\n",
    "import datetime as dt\n",
    "pd.set_option('display.max_colwidth', 1000)\n",
    "import os\n",
    "from sklearn.cluster import DBSCAN"
   ]
  },
  {
   "cell_type": "code",
   "execution_count": 3,
   "metadata": {},
   "outputs": [
    {
     "name": "stdout",
     "output_type": "stream",
     "text": [
      "Wall time: 1min 21s\n"
     ]
    }
   ],
   "source": [
    "%time df_journee=t.ouvrir_fichier_lapi('2019-01-29 00:00:00','2019-01-30 23:59:00')"
   ]
  },
  {
   "cell_type": "code",
   "execution_count": 4,
   "metadata": {},
   "outputs": [],
   "source": [
    "liste_trajet=(pd.DataFrame([{'o_d':'A63-A10','trajets':[{'cameras':[19,4,5],'type_trajet':'indirect'},\n",
    "                                                       {'cameras':[19,1,5],'type_trajet':'indirect'},\n",
    "                                                       {'cameras':[19,5],'type_trajet':'direct'},\n",
    "                                                      ]},\n",
    "                          {'o_d':'A62-A10','trajets':[{'cameras':[10,4,5],'type_trajet':'indirect'},\n",
    "                                                       {'cameras':[10,1,5],'type_trajet':'indirect'},\n",
    "                                                       {'cameras':[10,5],'type_trajet':'direct'},\n",
    "                                                      ]},\n",
    "                           ]))"
   ]
  },
  {
   "cell_type": "code",
   "execution_count": 5,
   "metadata": {},
   "outputs": [
    {
     "data": {
      "text/html": [
       "<div>\n",
       "<style scoped>\n",
       "    .dataframe tbody tr th:only-of-type {\n",
       "        vertical-align: middle;\n",
       "    }\n",
       "\n",
       "    .dataframe tbody tr th {\n",
       "        vertical-align: top;\n",
       "    }\n",
       "\n",
       "    .dataframe thead th {\n",
       "        text-align: right;\n",
       "    }\n",
       "</style>\n",
       "<table border=\"1\" class=\"dataframe\">\n",
       "  <thead>\n",
       "    <tr style=\"text-align: right;\">\n",
       "      <th></th>\n",
       "      <th>o_d</th>\n",
       "      <th>trajets</th>\n",
       "    </tr>\n",
       "  </thead>\n",
       "  <tbody>\n",
       "    <tr>\n",
       "      <th>0</th>\n",
       "      <td>A63-A10</td>\n",
       "      <td>[{'cameras': [19, 4, 5], 'type_trajet': 'indirect'}, {'cameras': [19, 1, 5], 'type_trajet': 'indirect'}, {'cameras': [19, 5], 'type_trajet': 'direct'}]</td>\n",
       "    </tr>\n",
       "    <tr>\n",
       "      <th>1</th>\n",
       "      <td>A62-A10</td>\n",
       "      <td>[{'cameras': [10, 4, 5], 'type_trajet': 'indirect'}, {'cameras': [10, 1, 5], 'type_trajet': 'indirect'}, {'cameras': [10, 5], 'type_trajet': 'direct'}]</td>\n",
       "    </tr>\n",
       "  </tbody>\n",
       "</table>\n",
       "</div>"
      ],
      "text/plain": [
       "       o_d  \\\n",
       "0  A63-A10   \n",
       "1  A62-A10   \n",
       "\n",
       "                                                                                                                                                   trajets  \n",
       "0  [{'cameras': [19, 4, 5], 'type_trajet': 'indirect'}, {'cameras': [19, 1, 5], 'type_trajet': 'indirect'}, {'cameras': [19, 5], 'type_trajet': 'direct'}]  \n",
       "1  [{'cameras': [10, 4, 5], 'type_trajet': 'indirect'}, {'cameras': [10, 1, 5], 'type_trajet': 'indirect'}, {'cameras': [10, 5], 'type_trajet': 'direct'}]  "
      ]
     },
     "execution_count": 5,
     "metadata": {},
     "output_type": "execute_result"
    }
   ],
   "source": [
    "liste_trajet"
   ]
  },
  {
   "cell_type": "markdown",
   "metadata": {},
   "source": [
    "Pour une o_d, sur une journee"
   ]
  },
  {
   "cell_type": "code",
   "execution_count": 274,
   "metadata": {},
   "outputs": [
    {
     "name": "stdout",
     "output_type": "stream",
     "text": [
      "A63-A10 2019-01-29 07:00:00 [19, 4, 5] 11\n",
      "A63-A10 2019-01-29 07:00:00 [19, 1, 5] 0\n",
      "A63-A10 2019-01-29 07:00:00 [19, 5] 1\n",
      "A62-A10 2019-01-29 07:00:00 [10, 4, 5] 0\n",
      "A62-A10 2019-01-29 07:00:00 [10, 5] 1\n",
      "A63-A10 2019-01-29 08:00:00 [19, 4, 5] 97\n",
      "A63-A10 2019-01-29 08:00:00 [19, 1, 5] 2\n",
      "A63-A10 2019-01-29 08:00:00 [19, 5] 17\n",
      "A62-A10 2019-01-29 08:00:00 [10, 4, 5] 13\n",
      "A62-A10 2019-01-29 08:00:00 [10, 1, 5] 0\n",
      "A62-A10 2019-01-29 08:00:00 [10, 5] 19\n",
      "A63-A10 2019-01-29 09:00:00 [19, 4, 5] 95\n",
      "A63-A10 2019-01-29 09:00:00 [19, 1, 5] 3\n",
      "A63-A10 2019-01-29 09:00:00 [19, 5] 16\n",
      "A62-A10 2019-01-29 09:00:00 [10, 4, 5] 3\n",
      "A62-A10 2019-01-29 09:00:00 [10, 1, 5] 0\n",
      "A62-A10 2019-01-29 09:00:00 [10, 5] 43\n",
      "A63-A10 2019-01-29 10:00:00 [19, 4, 5] 49\n",
      "A63-A10 2019-01-29 10:00:00 [19, 1, 5] 2\n",
      "A63-A10 2019-01-29 10:00:00 [19, 5] 28\n",
      "A62-A10 2019-01-29 10:00:00 [10, 4, 5] 0\n",
      "A62-A10 2019-01-29 10:00:00 [10, 1, 5] 0\n",
      "A62-A10 2019-01-29 10:00:00 [10, 5] 50\n",
      "A63-A10 2019-01-29 11:00:00 [19, 4, 5] 42\n",
      "A63-A10 2019-01-29 11:00:00 [19, 1, 5] 1\n",
      "A63-A10 2019-01-29 11:00:00 [19, 5] 32\n",
      "A62-A10 2019-01-29 11:00:00 [10, 4, 5] 0\n",
      "A62-A10 2019-01-29 11:00:00 [10, 1, 5] 0\n",
      "A62-A10 2019-01-29 11:00:00 [10, 5] 39\n",
      "A63-A10 2019-01-29 12:00:00 [19, 4, 5] 0\n",
      "A63-A10 2019-01-29 12:00:00 [19, 5] 92\n",
      "A62-A10 2019-01-29 12:00:00 [10, 4, 5] 0\n",
      "A62-A10 2019-01-29 12:00:00 [10, 1, 5] 0\n",
      "A62-A10 2019-01-29 12:00:00 [10, 5] 38\n",
      "A63-A10 2019-01-29 13:00:00 [19, 4, 5] 7\n",
      "A63-A10 2019-01-29 13:00:00 [19, 5] 71\n",
      "A62-A10 2019-01-29 13:00:00 [10, 4, 5] 1\n",
      "A62-A10 2019-01-29 13:00:00 [10, 5] 30\n",
      "A63-A10 2019-01-29 14:00:00 [19, 4, 5] 52\n",
      "A63-A10 2019-01-29 14:00:00 [19, 1, 5] 3\n",
      "A63-A10 2019-01-29 14:00:00 [19, 5] 40\n",
      "A62-A10 2019-01-29 14:00:00 [10, 4, 5] 5\n",
      "A62-A10 2019-01-29 14:00:00 [10, 1, 5] 1\n",
      "A62-A10 2019-01-29 14:00:00 [10, 5] 31\n",
      "A63-A10 2019-01-29 15:00:00 [19, 4, 5] 37\n",
      "A63-A10 2019-01-29 15:00:00 [19, 1, 5] 3\n",
      "A63-A10 2019-01-29 15:00:00 [19, 5] 16\n",
      "A62-A10 2019-01-29 15:00:00 [10, 4, 5] 24\n",
      "A62-A10 2019-01-29 15:00:00 [10, 1, 5] 0\n",
      "A62-A10 2019-01-29 15:00:00 [10, 5] 28\n",
      "A63-A10 2019-01-29 16:00:00 [19, 4, 5] 0\n",
      "A63-A10 2019-01-29 16:00:00 [19, 5] 1\n",
      "A62-A10 2019-01-29 16:00:00 [10, 4, 5] 7\n",
      "A62-A10 2019-01-29 16:00:00 [10, 1, 5] 0\n",
      "A62-A10 2019-01-29 16:00:00 [10, 5] 8\n",
      "A63-A10 2019-01-29 17:00:00 [19, 4, 5] 1\n",
      "A62-A10 2019-01-29 17:00:00 [10, 4, 5] 1\n",
      "A62-A10 2019-01-29 17:00:00 [10, 5] 1\n",
      "Wall time: 10min 23s\n"
     ]
    }
   ],
   "source": [
    "%%time \n",
    "dates= pd.date_range('2019-01-29', periods=24, freq='H')\n",
    "for date in dates : \n",
    "    date=date.strftime(\"%Y-%m-%d %H:%M:%S\")\n",
    "    for index, value in liste_trajet.iterrows() : \n",
    "        o_d, carac_trajet=value[0],value[1]\n",
    "        for dico_carac in carac_trajet :\n",
    "            cameras=dico_carac['cameras']\n",
    "            type_t=dico_carac['type_trajet']\n",
    "            if type_t=='indirect' : \n",
    "                try :\n",
    "                    trajet=t.trajet_indirect(df_journee,date, 60, 16, cameras)\n",
    "                except t.PasDePlError : \n",
    "                    continue\n",
    "                df_trajet=trajet.df_transit#en deduire le total\n",
    "                trajet.exporter_graph(r'Q:\\DAIT\\TI\\DREAL33\\2018\\C17SI0073_LAPI\\Traitements\\python\\graphs',o_d)\n",
    "            else :\n",
    "                try : \n",
    "                    trajet=t.trajet_direct(df_journee,date, 60, 16, cameras[0],cameras[1])\n",
    "                except t.PasDePlError :\n",
    "                    continue\n",
    "                df_trajet=trajet.df_tps_parcours_pl_final#por permettre le suivi et retrouver les camera intermediaires \n",
    "                trajet.exporter_graph(r'Q:\\DAIT\\TI\\DREAL33\\2018\\C17SI0073_LAPI\\Traitements\\python\\graphs',o_d,trajet.graph_prctl)\n",
    "            #df_trajet['cameras']=str(cameras)#pour suivi possible\n",
    "            if 'dico_od' in locals() :\n",
    "                dico_od=pd.concat([dico_od,df_trajet], sort=False)\n",
    "            else : \n",
    "                dico_od=df_trajet\n",
    "            print(o_d,date, cameras, len(df_trajet))"
   ]
  },
  {
   "cell_type": "code",
   "execution_count": 263,
   "metadata": {},
   "outputs": [
    {
     "ename": "ClusterError",
     "evalue": "nb de Cluster valable = 0 ",
     "output_type": "error",
     "traceback": [
      "\u001b[1;31m---------------------------------------------------------------------------\u001b[0m",
      "\u001b[1;31mClusterError\u001b[0m                              Traceback (most recent call last)",
      "\u001b[1;32m<ipython-input-263-1460a30b82bc>\u001b[0m in \u001b[0;36m<module>\u001b[1;34m\u001b[0m\n\u001b[1;32m----> 1\u001b[1;33m \u001b[0mtoto\u001b[0m\u001b[1;33m=\u001b[0m\u001b[0mt\u001b[0m\u001b[1;33m.\u001b[0m\u001b[0mtrajet_direct\u001b[0m\u001b[1;33m(\u001b[0m\u001b[0mdf_journee\u001b[0m\u001b[1;33m,\u001b[0m\u001b[1;34m'2019-01-29 09:00:00'\u001b[0m\u001b[1;33m,\u001b[0m \u001b[1;36m120\u001b[0m\u001b[1;33m,\u001b[0m \u001b[1;36m16\u001b[0m\u001b[1;33m,\u001b[0m \u001b[1;36m10\u001b[0m\u001b[1;33m,\u001b[0m\u001b[1;36m5\u001b[0m\u001b[1;33m)\u001b[0m\u001b[1;33m\u001b[0m\u001b[0m\n\u001b[0m",
      "\u001b[1;32m~\\git\\lapi\\Carto_Lapi\\Analyse\\traitement_od.py\u001b[0m in \u001b[0;36m__init__\u001b[1;34m(self, df, date_debut, duree, temps_max_autorise, camera1, camera2)\u001b[0m\n\u001b[0;32m    125\u001b[0m         \u001b[0mself\u001b[0m\u001b[1;33m.\u001b[0m\u001b[0mtps_pl_90_qtl\u001b[0m\u001b[1;33m=\u001b[0m\u001b[0mself\u001b[0m\u001b[1;33m.\u001b[0m\u001b[0mdf_pl_ok\u001b[0m\u001b[1;33m.\u001b[0m\u001b[0mtps_parcours\u001b[0m\u001b[1;33m.\u001b[0m\u001b[0mquantile\u001b[0m\u001b[1;33m(\u001b[0m\u001b[1;36m0.9\u001b[0m\u001b[1;33m)\u001b[0m\u001b[1;33m\u001b[0m\u001b[0m\n\u001b[0;32m    126\u001b[0m         \u001b[0mself\u001b[0m\u001b[1;33m.\u001b[0m\u001b[0mtps_pl_85_qtl\u001b[0m\u001b[1;33m=\u001b[0m\u001b[0mself\u001b[0m\u001b[1;33m.\u001b[0m\u001b[0mdf_pl_ok\u001b[0m\u001b[1;33m.\u001b[0m\u001b[0mtps_parcours\u001b[0m\u001b[1;33m.\u001b[0m\u001b[0mquantile\u001b[0m\u001b[1;33m(\u001b[0m\u001b[1;36m0.85\u001b[0m\u001b[1;33m)\u001b[0m\u001b[1;33m\u001b[0m\u001b[0m\n\u001b[1;32m--> 127\u001b[1;33m         \u001b[0mself\u001b[0m\u001b[1;33m.\u001b[0m\u001b[0mtps_pl_cluster\u001b[0m \u001b[1;33m=\u001b[0m\u001b[0mself\u001b[0m\u001b[1;33m.\u001b[0m\u001b[0mtemp_max_cluster\u001b[0m\u001b[1;33m(\u001b[0m\u001b[1;36m100\u001b[0m\u001b[1;33m)\u001b[0m \u001b[1;33m[\u001b[0m\u001b[1;36m1\u001b[0m\u001b[1;33m]\u001b[0m \u001b[1;32mif\u001b[0m \u001b[0mself\u001b[0m\u001b[1;33m.\u001b[0m\u001b[0mtemp_max_cluster\u001b[0m\u001b[1;33m(\u001b[0m\u001b[1;36m100\u001b[0m\u001b[1;33m)\u001b[0m\u001b[1;33m[\u001b[0m\u001b[1;36m0\u001b[0m\u001b[1;33m]\u001b[0m\u001b[1;33m!=\u001b[0m\u001b[1;36m0\u001b[0m \u001b[1;32melse\u001b[0m \u001b[1;32mNone\u001b[0m\u001b[1;33m\u001b[0m\u001b[0m\n\u001b[0m\u001b[0;32m    128\u001b[0m \u001b[1;33m\u001b[0m\u001b[0m\n\u001b[0;32m    129\u001b[0m         \u001b[1;31m#resultats finaux finaux : un df des vehicules passe par les 2 cameras dans l'ordre, qui sont ok en plque et en typede véhicules\u001b[0m\u001b[1;33m\u001b[0m\u001b[1;33m\u001b[0m\u001b[0m\n",
      "\u001b[1;32m~\\git\\lapi\\Carto_Lapi\\Analyse\\traitement_od.py\u001b[0m in \u001b[0;36mtemp_max_cluster\u001b[1;34m(self, delai)\u001b[0m\n\u001b[0;32m    183\u001b[0m         \u001b[1;31m# A AMELIORER EN CREANT UNE ERREUR PERSONALISEE SI ON OBTIENT  CLUSTER\u001b[0m\u001b[1;33m\u001b[0m\u001b[1;33m\u001b[0m\u001b[0m\n\u001b[0;32m    184\u001b[0m         \u001b[1;32mif\u001b[0m \u001b[0mn_clusters_\u001b[0m\u001b[1;33m==\u001b[0m \u001b[1;36m0\u001b[0m \u001b[1;33m:\u001b[0m\u001b[1;33m\u001b[0m\u001b[0m\n\u001b[1;32m--> 185\u001b[1;33m             \u001b[1;32mraise\u001b[0m \u001b[0mClusterError\u001b[0m\u001b[1;33m(\u001b[0m\u001b[1;33m)\u001b[0m\u001b[1;33m\u001b[0m\u001b[0m\n\u001b[0m\u001b[0;32m    186\u001b[0m         \u001b[1;31m#mettre en forme au format pandas\u001b[0m\u001b[1;33m\u001b[0m\u001b[1;33m\u001b[0m\u001b[0m\n\u001b[0;32m    187\u001b[0m         \u001b[0mresults\u001b[0m \u001b[1;33m=\u001b[0m \u001b[0mpd\u001b[0m\u001b[1;33m.\u001b[0m\u001b[0mDataFrame\u001b[0m\u001b[1;33m(\u001b[0m\u001b[0mpd\u001b[0m\u001b[1;33m.\u001b[0m\u001b[0mDataFrame\u001b[0m\u001b[1;33m(\u001b[0m\u001b[1;33m[\u001b[0m\u001b[0mdonnees_src\u001b[0m\u001b[1;33m.\u001b[0m\u001b[0mindex\u001b[0m\u001b[1;33m,\u001b[0m\u001b[0mlabels\u001b[0m\u001b[1;33m]\u001b[0m\u001b[1;33m)\u001b[0m\u001b[1;33m.\u001b[0m\u001b[0mT\u001b[0m\u001b[1;33m)\u001b[0m\u001b[1;33m\u001b[0m\u001b[0m\n",
      "\u001b[1;31mClusterError\u001b[0m: nb de Cluster valable = 0 "
     ]
    }
   ],
   "source": [
    "toto=t.trajet_direct(df_journee,'2019-01-29 09:00:00', 120, 16, 10,5)"
   ]
  },
  {
   "cell_type": "code",
   "execution_count": 258,
   "metadata": {},
   "outputs": [
    {
     "data": {
      "text/html": [
       "<div>\n",
       "<style scoped>\n",
       "    .dataframe tbody tr th:only-of-type {\n",
       "        vertical-align: middle;\n",
       "    }\n",
       "\n",
       "    .dataframe tbody tr th {\n",
       "        vertical-align: top;\n",
       "    }\n",
       "\n",
       "    .dataframe thead th {\n",
       "        text-align: right;\n",
       "    }\n",
       "</style>\n",
       "<table border=\"1\" class=\"dataframe\">\n",
       "  <thead>\n",
       "    <tr style=\"text-align: right;\">\n",
       "      <th></th>\n",
       "      <th>created_y</th>\n",
       "      <th>created_x</th>\n",
       "      <th>camera_id_x</th>\n",
       "      <th>immat</th>\n",
       "      <th>fiability_x</th>\n",
       "      <th>l_x</th>\n",
       "      <th>state_x</th>\n",
       "      <th>camera_id_y</th>\n",
       "      <th>fiability_y</th>\n",
       "      <th>l_y</th>\n",
       "      <th>state_y</th>\n",
       "      <th>l</th>\n",
       "      <th>fiability</th>\n",
       "      <th>tps_parcours</th>\n",
       "    </tr>\n",
       "  </thead>\n",
       "  <tbody>\n",
       "    <tr>\n",
       "      <th>3</th>\n",
       "      <td>2019-01-29 09:09:03</td>\n",
       "      <td>2019-01-29 09:00:22</td>\n",
       "      <td>10</td>\n",
       "      <td>4eb4b4d6da3ed78ca07ef40736b06d08e9d54fe0</td>\n",
       "      <td>99</td>\n",
       "      <td>1</td>\n",
       "      <td>ES</td>\n",
       "      <td>5</td>\n",
       "      <td>88</td>\n",
       "      <td>1</td>\n",
       "      <td>ES</td>\n",
       "      <td>1</td>\n",
       "      <td>True</td>\n",
       "      <td>00:08:41</td>\n",
       "    </tr>\n",
       "    <tr>\n",
       "      <th>12</th>\n",
       "      <td>2019-01-29 09:14:34</td>\n",
       "      <td>2019-01-29 09:05:55</td>\n",
       "      <td>10</td>\n",
       "      <td>41cbb4de5ba81965290106b74dd52d9e9a265d2d</td>\n",
       "      <td>99</td>\n",
       "      <td>1</td>\n",
       "      <td>FR</td>\n",
       "      <td>5</td>\n",
       "      <td>99</td>\n",
       "      <td>1</td>\n",
       "      <td>FR</td>\n",
       "      <td>1</td>\n",
       "      <td>True</td>\n",
       "      <td>00:08:39</td>\n",
       "    </tr>\n",
       "    <tr>\n",
       "      <th>19</th>\n",
       "      <td>2019-01-29 09:16:35</td>\n",
       "      <td>2019-01-29 09:06:18</td>\n",
       "      <td>10</td>\n",
       "      <td>45ee694812ab94435a49c1319f5e82d7176bf8c3</td>\n",
       "      <td>99</td>\n",
       "      <td>1</td>\n",
       "      <td>FR</td>\n",
       "      <td>5</td>\n",
       "      <td>99</td>\n",
       "      <td>1</td>\n",
       "      <td>FR/IT</td>\n",
       "      <td>1</td>\n",
       "      <td>True</td>\n",
       "      <td>00:10:17</td>\n",
       "    </tr>\n",
       "    <tr>\n",
       "      <th>21</th>\n",
       "      <td>2019-01-29 09:21:03</td>\n",
       "      <td>2019-01-29 09:12:09</td>\n",
       "      <td>10</td>\n",
       "      <td>f92f3eacb2878458c243ede0ed8a68448f56d25d</td>\n",
       "      <td>58</td>\n",
       "      <td>1</td>\n",
       "      <td>FR</td>\n",
       "      <td>5</td>\n",
       "      <td>88</td>\n",
       "      <td>1</td>\n",
       "      <td>FR</td>\n",
       "      <td>1</td>\n",
       "      <td>True</td>\n",
       "      <td>00:08:54</td>\n",
       "    </tr>\n",
       "    <tr>\n",
       "      <th>23</th>\n",
       "      <td>2019-01-29 09:21:19</td>\n",
       "      <td>2019-01-29 09:16:07</td>\n",
       "      <td>10</td>\n",
       "      <td>d88fa87e905dd646a6bda3072b7f64a3e718502a</td>\n",
       "      <td>99</td>\n",
       "      <td>1</td>\n",
       "      <td>FR</td>\n",
       "      <td>5</td>\n",
       "      <td>99</td>\n",
       "      <td>1</td>\n",
       "      <td>FR</td>\n",
       "      <td>1</td>\n",
       "      <td>True</td>\n",
       "      <td>00:05:12</td>\n",
       "    </tr>\n",
       "  </tbody>\n",
       "</table>\n",
       "</div>"
      ],
      "text/plain": [
       "             created_y           created_x  camera_id_x  \\\n",
       "3  2019-01-29 09:09:03 2019-01-29 09:00:22           10   \n",
       "12 2019-01-29 09:14:34 2019-01-29 09:05:55           10   \n",
       "19 2019-01-29 09:16:35 2019-01-29 09:06:18           10   \n",
       "21 2019-01-29 09:21:03 2019-01-29 09:12:09           10   \n",
       "23 2019-01-29 09:21:19 2019-01-29 09:16:07           10   \n",
       "\n",
       "                                       immat  fiability_x  l_x state_x  \\\n",
       "3   4eb4b4d6da3ed78ca07ef40736b06d08e9d54fe0           99    1      ES   \n",
       "12  41cbb4de5ba81965290106b74dd52d9e9a265d2d           99    1      FR   \n",
       "19  45ee694812ab94435a49c1319f5e82d7176bf8c3           99    1      FR   \n",
       "21  f92f3eacb2878458c243ede0ed8a68448f56d25d           58    1      FR   \n",
       "23  d88fa87e905dd646a6bda3072b7f64a3e718502a           99    1      FR   \n",
       "\n",
       "    camera_id_y  fiability_y  l_y state_y  l  fiability tps_parcours  \n",
       "3             5           88    1      ES  1       True     00:08:41  \n",
       "12            5           99    1      FR  1       True     00:08:39  \n",
       "19            5           99    1   FR/IT  1       True     00:10:17  \n",
       "21            5           88    1      FR  1       True     00:08:54  \n",
       "23            5           99    1      FR  1       True     00:05:12  "
      ]
     },
     "execution_count": 258,
     "metadata": {},
     "output_type": "execute_result"
    }
   ],
   "source": [
    "toto.df_pl_ok.head(5)"
   ]
  },
  {
   "cell_type": "code",
   "execution_count": 259,
   "metadata": {},
   "outputs": [],
   "source": [
    "graph=toto.plot_graphs()[2]"
   ]
  },
  {
   "cell_type": "code",
   "execution_count": 260,
   "metadata": {},
   "outputs": [
    {
     "data": {
      "application/vnd.vegalite.v2+json": {
       "$schema": "https://vega.github.io/schema/vega-lite/v2.6.0.json",
       "config": {
        "view": {
         "height": 300,
         "width": 400
        }
       },
       "datasets": {
        "data-0c8dedd52deec3100fae7e88dd9ec71f": [
         {
          "created_x": "2019-01-29T09:00:22",
          "l": 1,
          "pl_85pctl": "2018-01-01T01:12:09.199999999",
          "pl_90pctl": "2018-01-01T01:58:07.900000",
          "pl_cluster": "2018-01-01T00:12:31",
          "tps_parcours": "2018-01-01T00:08:41"
         },
         {
          "created_x": "2019-01-29T09:05:55",
          "l": 1,
          "pl_85pctl": "2018-01-01T01:12:09.199999999",
          "pl_90pctl": "2018-01-01T01:58:07.900000",
          "pl_cluster": "2018-01-01T00:12:31",
          "tps_parcours": "2018-01-01T00:08:39"
         },
         {
          "created_x": "2019-01-29T09:06:18",
          "l": 1,
          "pl_85pctl": "2018-01-01T01:12:09.199999999",
          "pl_90pctl": "2018-01-01T01:58:07.900000",
          "pl_cluster": "2018-01-01T00:12:31",
          "tps_parcours": "2018-01-01T00:10:17"
         },
         {
          "created_x": "2019-01-29T09:12:09",
          "l": 1,
          "pl_85pctl": "2018-01-01T01:12:09.199999999",
          "pl_90pctl": "2018-01-01T01:58:07.900000",
          "pl_cluster": "2018-01-01T00:12:31",
          "tps_parcours": "2018-01-01T00:08:54"
         },
         {
          "created_x": "2019-01-29T09:16:07",
          "l": 1,
          "pl_85pctl": "2018-01-01T01:12:09.199999999",
          "pl_90pctl": "2018-01-01T01:58:07.900000",
          "pl_cluster": "2018-01-01T00:12:31",
          "tps_parcours": "2018-01-01T00:05:12"
         },
         {
          "created_x": "2019-01-29T09:09:52",
          "l": 1,
          "pl_85pctl": "2018-01-01T01:12:09.199999999",
          "pl_90pctl": "2018-01-01T01:58:07.900000",
          "pl_cluster": "2018-01-01T00:12:31",
          "tps_parcours": "2018-01-01T00:11:34"
         },
         {
          "created_x": "2019-01-29T09:14:10",
          "l": 1,
          "pl_85pctl": "2018-01-01T01:12:09.199999999",
          "pl_90pctl": "2018-01-01T01:58:07.900000",
          "pl_cluster": "2018-01-01T00:12:31",
          "tps_parcours": "2018-01-01T00:08:59"
         },
         {
          "created_x": "2019-01-29T09:13:38",
          "l": 1,
          "pl_85pctl": "2018-01-01T01:12:09.199999999",
          "pl_90pctl": "2018-01-01T01:58:07.900000",
          "pl_cluster": "2018-01-01T00:12:31",
          "tps_parcours": "2018-01-01T00:09:42"
         },
         {
          "created_x": "2019-01-29T09:16:15",
          "l": 1,
          "pl_85pctl": "2018-01-01T01:12:09.199999999",
          "pl_90pctl": "2018-01-01T01:58:07.900000",
          "pl_cluster": "2018-01-01T00:12:31",
          "tps_parcours": "2018-01-01T00:09:00"
         },
         {
          "created_x": "2019-01-29T09:16:35",
          "l": 1,
          "pl_85pctl": "2018-01-01T01:12:09.199999999",
          "pl_90pctl": "2018-01-01T01:58:07.900000",
          "pl_cluster": "2018-01-01T00:12:31",
          "tps_parcours": "2018-01-01T00:09:44"
         },
         {
          "created_x": "2019-01-29T09:16:36",
          "l": 1,
          "pl_85pctl": "2018-01-01T01:12:09.199999999",
          "pl_90pctl": "2018-01-01T01:58:07.900000",
          "pl_cluster": "2018-01-01T00:12:31",
          "tps_parcours": "2018-01-01T00:09:43"
         },
         {
          "created_x": "2019-01-29T09:17:54",
          "l": 1,
          "pl_85pctl": "2018-01-01T01:12:09.199999999",
          "pl_90pctl": "2018-01-01T01:58:07.900000",
          "pl_cluster": "2018-01-01T00:12:31",
          "tps_parcours": "2018-01-01T00:09:09"
         },
         {
          "created_x": "2019-01-29T09:24:54",
          "l": 1,
          "pl_85pctl": "2018-01-01T01:12:09.199999999",
          "pl_90pctl": "2018-01-01T01:58:07.900000",
          "pl_cluster": "2018-01-01T00:12:31",
          "tps_parcours": "2018-01-01T00:04:43"
         },
         {
          "created_x": "2019-01-29T09:26:11",
          "l": 1,
          "pl_85pctl": "2018-01-01T01:12:09.199999999",
          "pl_90pctl": "2018-01-01T01:58:07.900000",
          "pl_cluster": "2018-01-01T00:12:31",
          "tps_parcours": "2018-01-01T00:03:52"
         },
         {
          "created_x": "2019-01-29T09:25:44",
          "l": 1,
          "pl_85pctl": "2018-01-01T01:12:09.199999999",
          "pl_90pctl": "2018-01-01T01:58:07.900000",
          "pl_cluster": "2018-01-01T00:12:31",
          "tps_parcours": "2018-01-01T00:08:48"
         },
         {
          "created_x": "2019-01-29T09:28:52",
          "l": 1,
          "pl_85pctl": "2018-01-01T01:12:09.199999999",
          "pl_90pctl": "2018-01-01T01:58:07.900000",
          "pl_cluster": "2018-01-01T00:12:31",
          "tps_parcours": "2018-01-01T00:06:16"
         },
         {
          "created_x": "2019-01-29T09:26:54",
          "l": 1,
          "pl_85pctl": "2018-01-01T01:12:09.199999999",
          "pl_90pctl": "2018-01-01T01:58:07.900000",
          "pl_cluster": "2018-01-01T00:12:31",
          "tps_parcours": "2018-01-01T00:08:39"
         },
         {
          "created_x": "2019-01-29T09:27:11",
          "l": 1,
          "pl_85pctl": "2018-01-01T01:12:09.199999999",
          "pl_90pctl": "2018-01-01T01:58:07.900000",
          "pl_cluster": "2018-01-01T00:12:31",
          "tps_parcours": "2018-01-01T00:08:52"
         },
         {
          "created_x": "2019-01-29T09:30:45",
          "l": 1,
          "pl_85pctl": "2018-01-01T01:12:09.199999999",
          "pl_90pctl": "2018-01-01T01:58:07.900000",
          "pl_cluster": "2018-01-01T00:12:31",
          "tps_parcours": "2018-01-01T00:08:49"
         },
         {
          "created_x": "2019-01-29T09:31:20",
          "l": 1,
          "pl_85pctl": "2018-01-01T01:12:09.199999999",
          "pl_90pctl": "2018-01-01T01:58:07.900000",
          "pl_cluster": "2018-01-01T00:12:31",
          "tps_parcours": "2018-01-01T00:08:57"
         },
         {
          "created_x": "2019-01-29T09:31:48",
          "l": 1,
          "pl_85pctl": "2018-01-01T01:12:09.199999999",
          "pl_90pctl": "2018-01-01T01:58:07.900000",
          "pl_cluster": "2018-01-01T00:12:31",
          "tps_parcours": "2018-01-01T00:09:05"
         },
         {
          "created_x": "2019-01-29T09:31:24",
          "l": 1,
          "pl_85pctl": "2018-01-01T01:12:09.199999999",
          "pl_90pctl": "2018-01-01T01:58:07.900000",
          "pl_cluster": "2018-01-01T00:12:31",
          "tps_parcours": "2018-01-01T00:10:20"
         },
         {
          "created_x": "2019-01-29T09:37:02",
          "l": 1,
          "pl_85pctl": "2018-01-01T01:12:09.199999999",
          "pl_90pctl": "2018-01-01T01:58:07.900000",
          "pl_cluster": "2018-01-01T00:12:31",
          "tps_parcours": "2018-01-01T00:05:54"
         },
         {
          "created_x": "2019-01-29T09:37:21",
          "l": 1,
          "pl_85pctl": "2018-01-01T01:12:09.199999999",
          "pl_90pctl": "2018-01-01T01:58:07.900000",
          "pl_cluster": "2018-01-01T00:12:31",
          "tps_parcours": "2018-01-01T00:07:27"
         },
         {
          "created_x": "2019-01-29T09:36:05",
          "l": 1,
          "pl_85pctl": "2018-01-01T01:12:09.199999999",
          "pl_90pctl": "2018-01-01T01:58:07.900000",
          "pl_cluster": "2018-01-01T00:12:31",
          "tps_parcours": "2018-01-01T00:08:54"
         },
         {
          "created_x": "2019-01-29T09:36:27",
          "l": 1,
          "pl_85pctl": "2018-01-01T01:12:09.199999999",
          "pl_90pctl": "2018-01-01T01:58:07.900000",
          "pl_cluster": "2018-01-01T00:12:31",
          "tps_parcours": "2018-01-01T00:09:20"
         },
         {
          "created_x": "2019-01-29T09:37:45",
          "l": 1,
          "pl_85pctl": "2018-01-01T01:12:09.199999999",
          "pl_90pctl": "2018-01-01T01:58:07.900000",
          "pl_cluster": "2018-01-01T00:12:31",
          "tps_parcours": "2018-01-01T00:08:42"
         },
         {
          "created_x": "2019-01-29T09:38:10",
          "l": 1,
          "pl_85pctl": "2018-01-01T01:12:09.199999999",
          "pl_90pctl": "2018-01-01T01:58:07.900000",
          "pl_cluster": "2018-01-01T00:12:31",
          "tps_parcours": "2018-01-01T00:08:56"
         },
         {
          "created_x": "2019-01-29T09:40:19",
          "l": 1,
          "pl_85pctl": "2018-01-01T01:12:09.199999999",
          "pl_90pctl": "2018-01-01T01:58:07.900000",
          "pl_cluster": "2018-01-01T00:12:31",
          "tps_parcours": "2018-01-01T00:07:43"
         },
         {
          "created_x": "2019-01-29T09:39:57",
          "l": 1,
          "pl_85pctl": "2018-01-01T01:12:09.199999999",
          "pl_90pctl": "2018-01-01T01:58:07.900000",
          "pl_cluster": "2018-01-01T00:12:31",
          "tps_parcours": "2018-01-01T00:08:34"
         },
         {
          "created_x": "2019-01-29T09:40:57",
          "l": 1,
          "pl_85pctl": "2018-01-01T01:12:09.199999999",
          "pl_90pctl": "2018-01-01T01:58:07.900000",
          "pl_cluster": "2018-01-01T00:12:31",
          "tps_parcours": "2018-01-01T00:09:44"
         },
         {
          "created_x": "2019-01-29T09:41:11",
          "l": 1,
          "pl_85pctl": "2018-01-01T01:12:09.199999999",
          "pl_90pctl": "2018-01-01T01:58:07.900000",
          "pl_cluster": "2018-01-01T00:12:31",
          "tps_parcours": "2018-01-01T00:09:40"
         },
         {
          "created_x": "2019-01-29T09:43:43",
          "l": 1,
          "pl_85pctl": "2018-01-01T01:12:09.199999999",
          "pl_90pctl": "2018-01-01T01:58:07.900000",
          "pl_cluster": "2018-01-01T00:12:31",
          "tps_parcours": "2018-01-01T00:09:00"
         },
         {
          "created_x": "2019-01-29T09:44:11",
          "l": 1,
          "pl_85pctl": "2018-01-01T01:12:09.199999999",
          "pl_90pctl": "2018-01-01T01:58:07.900000",
          "pl_cluster": "2018-01-01T00:12:31",
          "tps_parcours": "2018-01-01T00:11:42"
         },
         {
          "created_x": "2019-01-29T09:44:11",
          "l": 1,
          "pl_85pctl": "2018-01-01T01:12:09.199999999",
          "pl_90pctl": "2018-01-01T01:58:07.900000",
          "pl_cluster": "2018-01-01T00:12:31",
          "tps_parcours": "2018-01-01T00:11:42"
         },
         {
          "created_x": "2019-01-29T09:43:53",
          "l": 1,
          "pl_85pctl": "2018-01-01T01:12:09.199999999",
          "pl_90pctl": "2018-01-01T01:58:07.900000",
          "pl_cluster": "2018-01-01T00:12:31",
          "tps_parcours": "2018-01-01T00:12:14"
         },
         {
          "created_x": "2019-01-29T09:50:51",
          "l": 1,
          "pl_85pctl": "2018-01-01T01:12:09.199999999",
          "pl_90pctl": "2018-01-01T01:58:07.900000",
          "pl_cluster": "2018-01-01T00:12:31",
          "tps_parcours": "2018-01-01T00:10:44"
         },
         {
          "created_x": "2019-01-29T09:53:17",
          "l": 1,
          "pl_85pctl": "2018-01-01T01:12:09.199999999",
          "pl_90pctl": "2018-01-01T01:58:07.900000",
          "pl_cluster": "2018-01-01T00:12:31",
          "tps_parcours": "2018-01-01T00:11:41"
         },
         {
          "created_x": "2019-01-29T09:58:03",
          "l": 1,
          "pl_85pctl": "2018-01-01T01:12:09.199999999",
          "pl_90pctl": "2018-01-01T01:58:07.900000",
          "pl_cluster": "2018-01-01T00:12:31",
          "tps_parcours": "2018-01-01T00:07:37"
         },
         {
          "created_x": "2019-01-29T09:59:28",
          "l": 1,
          "pl_85pctl": "2018-01-01T01:12:09.199999999",
          "pl_90pctl": "2018-01-01T01:58:07.900000",
          "pl_cluster": "2018-01-01T00:12:31",
          "tps_parcours": "2018-01-01T00:11:31"
         },
         {
          "created_x": "2019-01-29T10:01:12",
          "l": 1,
          "pl_85pctl": "2018-01-01T01:12:09.199999999",
          "pl_90pctl": "2018-01-01T01:58:07.900000",
          "pl_cluster": "2018-01-01T00:12:31",
          "tps_parcours": "2018-01-01T00:11:17"
         },
         {
          "created_x": "2019-01-29T10:01:34",
          "l": 1,
          "pl_85pctl": "2018-01-01T01:12:09.199999999",
          "pl_90pctl": "2018-01-01T01:58:07.900000",
          "pl_cluster": "2018-01-01T00:12:31",
          "tps_parcours": "2018-01-01T00:12:04"
         },
         {
          "created_x": "2019-01-29T10:03:41",
          "l": 1,
          "pl_85pctl": "2018-01-01T01:12:09.199999999",
          "pl_90pctl": "2018-01-01T01:58:07.900000",
          "pl_cluster": "2018-01-01T00:12:31",
          "tps_parcours": "2018-01-01T00:10:33"
         },
         {
          "created_x": "2019-01-29T10:03:32",
          "l": 1,
          "pl_85pctl": "2018-01-01T01:12:09.199999999",
          "pl_90pctl": "2018-01-01T01:58:07.900000",
          "pl_cluster": "2018-01-01T00:12:31",
          "tps_parcours": "2018-01-01T00:11:24"
         },
         {
          "created_x": "2019-01-29T10:03:56",
          "l": 1,
          "pl_85pctl": "2018-01-01T01:12:09.199999999",
          "pl_90pctl": "2018-01-01T01:58:07.900000",
          "pl_cluster": "2018-01-01T00:12:31",
          "tps_parcours": "2018-01-01T00:11:19"
         },
         {
          "created_x": "2019-01-29T10:09:21",
          "l": 1,
          "pl_85pctl": "2018-01-01T01:12:09.199999999",
          "pl_90pctl": "2018-01-01T01:58:07.900000",
          "pl_cluster": "2018-01-01T00:12:31",
          "tps_parcours": "2018-01-01T00:06:16"
         },
         {
          "created_x": "2019-01-29T10:08:11",
          "l": 1,
          "pl_85pctl": "2018-01-01T01:12:09.199999999",
          "pl_90pctl": "2018-01-01T01:58:07.900000",
          "pl_cluster": "2018-01-01T00:12:31",
          "tps_parcours": "2018-01-01T00:09:07"
         },
         {
          "created_x": "2019-01-29T10:06:37",
          "l": 1,
          "pl_85pctl": "2018-01-01T01:12:09.199999999",
          "pl_90pctl": "2018-01-01T01:58:07.900000",
          "pl_cluster": "2018-01-01T00:12:31",
          "tps_parcours": "2018-01-01T00:11:01"
         },
         {
          "created_x": "2019-01-29T10:08:21",
          "l": 1,
          "pl_85pctl": "2018-01-01T01:12:09.199999999",
          "pl_90pctl": "2018-01-01T01:58:07.900000",
          "pl_cluster": "2018-01-01T00:12:31",
          "tps_parcours": "2018-01-01T00:09:25"
         },
         {
          "created_x": "2019-01-29T10:12:36",
          "l": 1,
          "pl_85pctl": "2018-01-01T01:12:09.199999999",
          "pl_90pctl": "2018-01-01T01:58:07.900000",
          "pl_cluster": "2018-01-01T00:12:31",
          "tps_parcours": "2018-01-01T00:05:47"
         },
         {
          "created_x": "2019-01-29T10:08:16",
          "l": 1,
          "pl_85pctl": "2018-01-01T01:12:09.199999999",
          "pl_90pctl": "2018-01-01T01:58:07.900000",
          "pl_cluster": "2018-01-01T00:12:31",
          "tps_parcours": "2018-01-01T00:10:49"
         },
         {
          "created_x": "2019-01-29T10:09:21",
          "l": 1,
          "pl_85pctl": "2018-01-01T01:12:09.199999999",
          "pl_90pctl": "2018-01-01T01:58:07.900000",
          "pl_cluster": "2018-01-01T00:12:31",
          "tps_parcours": "2018-01-01T00:10:01"
         },
         {
          "created_x": "2019-01-29T10:11:42",
          "l": 1,
          "pl_85pctl": "2018-01-01T01:12:09.199999999",
          "pl_90pctl": "2018-01-01T01:58:07.900000",
          "pl_cluster": "2018-01-01T00:12:31",
          "tps_parcours": "2018-01-01T00:09:33"
         },
         {
          "created_x": "2019-01-29T10:12:40",
          "l": 1,
          "pl_85pctl": "2018-01-01T01:12:09.199999999",
          "pl_90pctl": "2018-01-01T01:58:07.900000",
          "pl_cluster": "2018-01-01T00:12:31",
          "tps_parcours": "2018-01-01T00:08:54"
         },
         {
          "created_x": "2019-01-29T10:15:02",
          "l": 1,
          "pl_85pctl": "2018-01-01T01:12:09.199999999",
          "pl_90pctl": "2018-01-01T01:58:07.900000",
          "pl_cluster": "2018-01-01T00:12:31",
          "tps_parcours": "2018-01-01T00:07:48"
         },
         {
          "created_x": "2019-01-29T10:12:15",
          "l": 1,
          "pl_85pctl": "2018-01-01T01:12:09.199999999",
          "pl_90pctl": "2018-01-01T01:58:07.900000",
          "pl_cluster": "2018-01-01T00:12:31",
          "tps_parcours": "2018-01-01T00:10:51"
         },
         {
          "created_x": "2019-01-29T10:13:23",
          "l": 1,
          "pl_85pctl": "2018-01-01T01:12:09.199999999",
          "pl_90pctl": "2018-01-01T01:58:07.900000",
          "pl_cluster": "2018-01-01T00:12:31",
          "tps_parcours": "2018-01-01T00:09:48"
         },
         {
          "created_x": "2019-01-29T10:18:44",
          "l": 1,
          "pl_85pctl": "2018-01-01T01:12:09.199999999",
          "pl_90pctl": "2018-01-01T01:58:07.900000",
          "pl_cluster": "2018-01-01T00:12:31",
          "tps_parcours": "2018-01-01T00:05:33"
         },
         {
          "created_x": "2019-01-29T10:21:59",
          "l": 1,
          "pl_85pctl": "2018-01-01T01:12:09.199999999",
          "pl_90pctl": "2018-01-01T01:58:07.900000",
          "pl_cluster": "2018-01-01T00:12:31",
          "tps_parcours": "2018-01-01T00:05:11"
         },
         {
          "created_x": "2019-01-29T10:19:28",
          "l": 1,
          "pl_85pctl": "2018-01-01T01:12:09.199999999",
          "pl_90pctl": "2018-01-01T01:58:07.900000",
          "pl_cluster": "2018-01-01T00:12:31",
          "tps_parcours": "2018-01-01T00:08:15"
         },
         {
          "created_x": "2019-01-29T10:19:42",
          "l": 1,
          "pl_85pctl": "2018-01-01T01:12:09.199999999",
          "pl_90pctl": "2018-01-01T01:58:07.900000",
          "pl_cluster": "2018-01-01T00:12:31",
          "tps_parcours": "2018-01-01T00:08:43"
         },
         {
          "created_x": "2019-01-29T10:21:29",
          "l": 1,
          "pl_85pctl": "2018-01-01T01:12:09.199999999",
          "pl_90pctl": "2018-01-01T01:58:07.900000",
          "pl_cluster": "2018-01-01T00:12:31",
          "tps_parcours": "2018-01-01T00:09:21"
         },
         {
          "created_x": "2019-01-29T10:22:48",
          "l": 1,
          "pl_85pctl": "2018-01-01T01:12:09.199999999",
          "pl_90pctl": "2018-01-01T01:58:07.900000",
          "pl_cluster": "2018-01-01T00:12:31",
          "tps_parcours": "2018-01-01T00:08:54"
         },
         {
          "created_x": "2019-01-29T10:21:52",
          "l": 1,
          "pl_85pctl": "2018-01-01T01:12:09.199999999",
          "pl_90pctl": "2018-01-01T01:58:07.900000",
          "pl_cluster": "2018-01-01T00:12:31",
          "tps_parcours": "2018-01-01T00:10:08"
         },
         {
          "created_x": "2019-01-29T10:30:29",
          "l": 1,
          "pl_85pctl": "2018-01-01T01:12:09.199999999",
          "pl_90pctl": "2018-01-01T01:58:07.900000",
          "pl_cluster": "2018-01-01T00:12:31",
          "tps_parcours": "2018-01-01T00:11:10"
         },
         {
          "created_x": "2019-01-29T10:30:54",
          "l": 1,
          "pl_85pctl": "2018-01-01T01:12:09.199999999",
          "pl_90pctl": "2018-01-01T01:58:07.900000",
          "pl_cluster": "2018-01-01T00:12:31",
          "tps_parcours": "2018-01-01T00:11:33"
         },
         {
          "created_x": "2019-01-29T10:39:45",
          "l": 1,
          "pl_85pctl": "2018-01-01T01:12:09.199999999",
          "pl_90pctl": "2018-01-01T01:58:07.900000",
          "pl_cluster": "2018-01-01T00:12:31",
          "tps_parcours": "2018-01-01T00:05:51"
         },
         {
          "created_x": "2019-01-29T10:35:50",
          "l": 1,
          "pl_85pctl": "2018-01-01T01:12:09.199999999",
          "pl_90pctl": "2018-01-01T01:58:07.900000",
          "pl_cluster": "2018-01-01T00:12:31",
          "tps_parcours": "2018-01-01T00:12:31"
         },
         {
          "created_x": "2019-01-29T10:38:03",
          "l": 1,
          "pl_85pctl": "2018-01-01T01:12:09.199999999",
          "pl_90pctl": "2018-01-01T01:58:07.900000",
          "pl_cluster": "2018-01-01T00:12:31",
          "tps_parcours": "2018-01-01T00:11:04"
         },
         {
          "created_x": "2019-01-29T10:41:54",
          "l": 1,
          "pl_85pctl": "2018-01-01T01:12:09.199999999",
          "pl_90pctl": "2018-01-01T01:58:07.900000",
          "pl_cluster": "2018-01-01T00:12:31",
          "tps_parcours": "2018-01-01T00:11:02"
         },
         {
          "created_x": "2019-01-29T10:42:14",
          "l": 1,
          "pl_85pctl": "2018-01-01T01:12:09.199999999",
          "pl_90pctl": "2018-01-01T01:58:07.900000",
          "pl_cluster": "2018-01-01T00:12:31",
          "tps_parcours": "2018-01-01T00:12:02"
         },
         {
          "created_x": "2019-01-29T10:46:31",
          "l": 1,
          "pl_85pctl": "2018-01-01T01:12:09.199999999",
          "pl_90pctl": "2018-01-01T01:58:07.900000",
          "pl_cluster": "2018-01-01T00:12:31",
          "tps_parcours": "2018-01-01T00:09:42"
         },
         {
          "created_x": "2019-01-29T10:44:26",
          "l": 1,
          "pl_85pctl": "2018-01-01T01:12:09.199999999",
          "pl_90pctl": "2018-01-01T01:58:07.900000",
          "pl_cluster": "2018-01-01T00:12:31",
          "tps_parcours": "2018-01-01T00:12:12"
         },
         {
          "created_x": "2019-01-29T10:52:20",
          "l": 1,
          "pl_85pctl": "2018-01-01T01:12:09.199999999",
          "pl_90pctl": "2018-01-01T01:58:07.900000",
          "pl_cluster": "2018-01-01T00:12:31",
          "tps_parcours": "2018-01-01T00:08:08"
         },
         {
          "created_x": "2019-01-29T10:52:36",
          "l": 1,
          "pl_85pctl": "2018-01-01T01:12:09.199999999",
          "pl_90pctl": "2018-01-01T01:58:07.900000",
          "pl_cluster": "2018-01-01T00:12:31",
          "tps_parcours": "2018-01-01T00:08:42"
         },
         {
          "created_x": "2019-01-29T10:51:46",
          "l": 1,
          "pl_85pctl": "2018-01-01T01:12:09.199999999",
          "pl_90pctl": "2018-01-01T01:58:07.900000",
          "pl_cluster": "2018-01-01T00:12:31",
          "tps_parcours": "2018-01-01T00:09:49"
         },
         {
          "created_x": "2019-01-29T10:57:09",
          "l": 1,
          "pl_85pctl": "2018-01-01T01:12:09.199999999",
          "pl_90pctl": "2018-01-01T01:58:07.900000",
          "pl_cluster": "2018-01-01T00:12:31",
          "tps_parcours": "2018-01-01T00:04:57"
         },
         {
          "created_x": "2019-01-29T10:56:59",
          "l": 1,
          "pl_85pctl": "2018-01-01T01:12:09.199999999",
          "pl_90pctl": "2018-01-01T01:58:07.900000",
          "pl_cluster": "2018-01-01T00:12:31",
          "tps_parcours": "2018-01-01T00:09:35"
         },
         {
          "created_x": "2019-01-29T09:46:34",
          "l": 1,
          "pl_85pctl": "2018-01-01T01:12:09.199999999",
          "pl_90pctl": "2018-01-01T01:58:07.900000",
          "pl_cluster": "2018-01-01T00:12:31",
          "tps_parcours": "2018-01-01T01:21:27"
         },
         {
          "created_x": "2019-01-29T10:40:53",
          "l": 1,
          "pl_85pctl": "2018-01-01T01:12:09.199999999",
          "pl_90pctl": "2018-01-01T01:58:07.900000",
          "pl_cluster": "2018-01-01T00:12:31",
          "tps_parcours": "2018-01-01T00:30:04"
         },
         {
          "created_x": "2019-01-29T09:58:07",
          "l": 1,
          "pl_85pctl": "2018-01-01T01:12:09.199999999",
          "pl_90pctl": "2018-01-01T01:58:07.900000",
          "pl_cluster": "2018-01-01T00:12:31",
          "tps_parcours": "2018-01-01T01:14:27"
         },
         {
          "created_x": "2019-01-29T10:31:53",
          "l": 1,
          "pl_85pctl": "2018-01-01T01:12:09.199999999",
          "pl_90pctl": "2018-01-01T01:58:07.900000",
          "pl_cluster": "2018-01-01T00:12:31",
          "tps_parcours": "2018-01-01T01:10:55"
         },
         {
          "created_x": "2019-01-29T09:12:38",
          "l": 1,
          "pl_85pctl": "2018-01-01T01:12:09.199999999",
          "pl_90pctl": "2018-01-01T01:58:07.900000",
          "pl_cluster": "2018-01-01T00:12:31",
          "tps_parcours": "2018-01-01T02:34:00"
         },
         {
          "created_x": "2019-01-29T10:55:24",
          "l": 1,
          "pl_85pctl": "2018-01-01T01:12:09.199999999",
          "pl_90pctl": "2018-01-01T01:58:07.900000",
          "pl_cluster": "2018-01-01T00:12:31",
          "tps_parcours": "2018-01-01T01:04:36"
         },
         {
          "created_x": "2019-01-29T10:14:39",
          "l": 1,
          "pl_85pctl": "2018-01-01T01:12:09.199999999",
          "pl_90pctl": "2018-01-01T01:58:07.900000",
          "pl_cluster": "2018-01-01T00:12:31",
          "tps_parcours": "2018-01-01T01:59:02"
         },
         {
          "created_x": "2019-01-29T10:17:46",
          "l": 1,
          "pl_85pctl": "2018-01-01T01:12:09.199999999",
          "pl_90pctl": "2018-01-01T01:58:07.900000",
          "pl_cluster": "2018-01-01T00:12:31",
          "tps_parcours": "2018-01-01T02:02:14"
         },
         {
          "created_x": "2019-01-29T10:45:43",
          "l": 1,
          "pl_85pctl": "2018-01-01T01:12:09.199999999",
          "pl_90pctl": "2018-01-01T01:58:07.900000",
          "pl_cluster": "2018-01-01T00:12:31",
          "tps_parcours": "2018-01-01T01:37:01"
         },
         {
          "created_x": "2019-01-29T10:57:02",
          "l": 1,
          "pl_85pctl": "2018-01-01T01:12:09.199999999",
          "pl_90pctl": "2018-01-01T01:58:07.900000",
          "pl_cluster": "2018-01-01T00:12:31",
          "tps_parcours": "2018-01-01T01:50:01"
         },
         {
          "created_x": "2019-01-29T10:35:29",
          "l": 1,
          "pl_85pctl": "2018-01-01T01:12:09.199999999",
          "pl_90pctl": "2018-01-01T01:58:07.900000",
          "pl_cluster": "2018-01-01T00:12:31",
          "tps_parcours": "2018-01-01T02:16:37"
         },
         {
          "created_x": "2019-01-29T09:07:53",
          "l": 1,
          "pl_85pctl": "2018-01-01T01:12:09.199999999",
          "pl_90pctl": "2018-01-01T01:58:07.900000",
          "pl_cluster": "2018-01-01T00:12:31",
          "tps_parcours": "2018-01-01T04:05:26"
         },
         {
          "created_x": "2019-01-29T10:20:17",
          "l": 1,
          "pl_85pctl": "2018-01-01T01:12:09.199999999",
          "pl_90pctl": "2018-01-01T01:58:07.900000",
          "pl_cluster": "2018-01-01T00:12:31",
          "tps_parcours": "2018-01-01T03:25:36"
         },
         {
          "created_x": "2019-01-29T10:50:34",
          "l": 1,
          "pl_85pctl": "2018-01-01T01:12:09.199999999",
          "pl_90pctl": "2018-01-01T01:58:07.900000",
          "pl_cluster": "2018-01-01T00:12:31",
          "tps_parcours": "2018-01-01T03:05:10"
         },
         {
          "created_x": "2019-01-29T10:38:45",
          "l": 1,
          "pl_85pctl": "2018-01-01T01:12:09.199999999",
          "pl_90pctl": "2018-01-01T01:58:07.900000",
          "pl_cluster": "2018-01-01T00:12:31",
          "tps_parcours": "2018-01-01T03:43:39"
         },
         {
          "created_x": "2019-01-29T10:02:02",
          "l": 1,
          "pl_85pctl": "2018-01-01T01:12:09.199999999",
          "pl_90pctl": "2018-01-01T01:58:07.900000",
          "pl_cluster": "2018-01-01T00:12:31",
          "tps_parcours": "2018-01-01T04:30:01"
         },
         {
          "created_x": "2019-01-29T10:30:59",
          "l": 1,
          "pl_85pctl": "2018-01-01T01:12:09.199999999",
          "pl_90pctl": "2018-01-01T01:58:07.900000",
          "pl_cluster": "2018-01-01T00:12:31",
          "tps_parcours": "2018-01-01T05:04:56"
         },
         {
          "created_x": "2019-01-29T10:37:41",
          "l": 1,
          "pl_85pctl": "2018-01-01T01:12:09.199999999",
          "pl_90pctl": "2018-01-01T01:58:07.900000",
          "pl_cluster": "2018-01-01T00:12:31",
          "tps_parcours": "2018-01-01T05:22:10"
         },
         {
          "created_x": "2019-01-29T09:41:44",
          "l": 1,
          "pl_85pctl": "2018-01-01T01:12:09.199999999",
          "pl_90pctl": "2018-01-01T01:58:07.900000",
          "pl_cluster": "2018-01-01T00:12:31",
          "tps_parcours": "2018-01-01T06:21:14"
         }
        ]
       },
       "layer": [
        {
         "data": {
          "name": "data-0c8dedd52deec3100fae7e88dd9ec71f"
         },
         "encoding": {
          "tooltip": {
           "field": "tps_parcours",
           "timeUnit": "hoursminutes",
           "type": "temporal"
          },
          "x": {
           "field": "created_x",
           "type": "temporal"
          },
          "y": {
           "field": "tps_parcours",
           "timeUnit": "hoursminutes",
           "type": "temporal"
          }
         },
         "mark": {
          "color": "gray",
          "type": "point"
         },
         "selection": {
          "selector020": {
           "bind": "scales",
           "encodings": [
            "x",
            "y"
           ],
           "mark": {
            "fill": "#333",
            "fillOpacity": 0.125,
            "stroke": "white"
           },
           "on": "[mousedown, window:mouseup] > window:mousemove!",
           "resolve": "global",
           "translate": "[mousedown, window:mouseup] > window:mousemove!",
           "type": "interval",
           "zoom": "wheel!"
          }
         }
        },
        {
         "data": {
          "name": "data-0c8dedd52deec3100fae7e88dd9ec71f"
         },
         "encoding": {
          "x": {
           "field": "created_x",
           "type": "temporal"
          },
          "y": {
           "field": "pl_90pctl",
           "timeUnit": "hoursminutes",
           "type": "temporal"
          }
         },
         "mark": {
          "color": "blue",
          "type": "line"
         }
        },
        {
         "data": {
          "name": "data-0c8dedd52deec3100fae7e88dd9ec71f"
         },
         "encoding": {
          "x": {
           "field": "created_x",
           "type": "temporal"
          },
          "y": {
           "field": "pl_85pctl",
           "timeUnit": "hoursminutes",
           "type": "temporal"
          }
         },
         "mark": {
          "color": "red",
          "type": "line"
         }
        },
        {
         "data": {
          "name": "data-0c8dedd52deec3100fae7e88dd9ec71f"
         },
         "encoding": {
          "x": {
           "field": "created_x",
           "type": "temporal"
          },
          "y": {
           "field": "pl_cluster",
           "timeUnit": "hoursminutes",
           "type": "temporal"
          }
         },
         "mark": {
          "color": "yellow",
          "type": "line"
         }
        }
       ]
      },
      "image/png": "[encoded data removed]",
      "text/plain": [
       "<VegaLite 2 object>\n",
       "\n",
       "If you see this message, it means the renderer has not been properly enabled\n",
       "for the frontend that you are using. For more information, see\n",
       "https://altair-viz.github.io/user_guide/troubleshooting.html\n"
      ]
     },
     "execution_count": 260,
     "metadata": {},
     "output_type": "execute_result"
    }
   ],
   "source": [
    "graph"
   ]
  },
  {
   "cell_type": "markdown",
   "metadata": {},
   "source": [
    "POur obtenir une valeur de temps discriminatoire plus représentative que les percentiles on puet tenter l'approche par Cluster"
   ]
  },
  {
   "cell_type": "code",
   "execution_count": 216,
   "metadata": {},
   "outputs": [],
   "source": [
    "#isoler les données necessaires\n",
    "test_clus=toto.df_pl_ok.loc[:,['created_x','tps_parcours']].copy()"
   ]
  },
  {
   "cell_type": "code",
   "execution_count": 217,
   "metadata": {},
   "outputs": [],
   "source": [
    "#convertir les temps en integer\n",
    "test=((pd.to_datetime('2018-01-01')+test_clus['tps_parcours'])-pd.Timestamp(\"1970-01-01\")) // pd.Timedelta('1s')"
   ]
  },
  {
   "cell_type": "code",
   "execution_count": 218,
   "metadata": {},
   "outputs": [],
   "source": [
    "#mise en forme des données pour passer dans sklearn \n",
    "donnnes = test.values\n",
    "mat=donnnes.reshape(-1, 1)"
   ]
  },
  {
   "cell_type": "code",
   "execution_count": 246,
   "metadata": {},
   "outputs": [],
   "source": [
    "#faire tourner la clusterisation et recupérer le label (i.e l'identifiant cluster)\n",
    "clustering=DBSCAN(eps=300, min_samples=len(test)/1.5).fit(mat)\n",
    "labels = clustering.labels_"
   ]
  },
  {
   "cell_type": "code",
   "execution_count": 247,
   "metadata": {},
   "outputs": [
    {
     "data": {
      "text/plain": [
       "array([ 0,  0,  0,  0,  0,  0,  0,  0,  0,  0,  0,  0,  0,  0,  0,  0,  0,\n",
       "        0,  0,  0,  0,  0,  0,  0,  0,  0,  0,  0,  0,  0,  0,  0,  0,  0,\n",
       "        0,  0,  0,  0,  0,  0,  0,  0,  0,  0,  0,  0,  0,  0,  0,  0,  0,\n",
       "        0,  0,  0,  0,  0,  0,  0,  0,  0,  0,  0,  0,  0,  0,  0,  0,  0,\n",
       "        0,  0,  0,  0,  0,  0,  0, -1, -1, -1, -1, -1, -1, -1, -1, -1, -1,\n",
       "       -1, -1, -1, -1, -1, -1, -1], dtype=int64)"
      ]
     },
     "execution_count": 247,
     "metadata": {},
     "output_type": "execute_result"
    }
   ],
   "source": [
    "labels"
   ]
  },
  {
   "cell_type": "code",
   "execution_count": 248,
   "metadata": {},
   "outputs": [],
   "source": [
    "#mettre en forme au format pandas\n",
    "results = pd.DataFrame(pd.DataFrame([test_clus.index,labels]).T)\n",
    "results.columns = ['index_base', 'cluster_num']\n",
    "results = pd.merge(results,toto.df_pl_ok, left_on='index_base', right_index=True )"
   ]
  },
  {
   "cell_type": "code",
   "execution_count": 249,
   "metadata": {},
   "outputs": [],
   "source": [
    "#pour graph\n",
    "temp_parcours_max=results.loc[results.loc[:,'cluster_num']!=-1].groupby(['cluster_num'])['tps_parcours'].max()"
   ]
  },
  {
   "cell_type": "code",
   "execution_count": 233,
   "metadata": {},
   "outputs": [
    {
     "name": "stderr",
     "output_type": "stream",
     "text": [
      "c:\\users\\martin.schoreisz\\appdata\\local\\programs\\python\\python37\\lib\\site-packages\\pandas\\core\\indexing.py:1472: FutureWarning: \n",
      "Passing list-likes to .loc or [] with any missing label will raise\n",
      "KeyError in the future, you can use .reindex() as an alternative.\n",
      "\n",
      "See the documentation here:\n",
      "https://pandas.pydata.org/pandas-docs/stable/indexing.html#deprecate-loc-reindex-listlike\n",
      "  return self._getitem_tuple(key)\n"
     ]
    }
   ],
   "source": [
    "#results['tps_parcours']=pd.to_datetime('2018-01-01')+results.tps_parcours\n",
    "#results['tps_parcours_graph']=pd.to_datetime('2018-01-01')+pd.to_timedelta(temp_parcours_max.values[0])\n",
    "graph_tps_bruts = alt.Chart(results.loc[:,['date_cam_1','tps_parcours_graph','cluster_num','tps_parcours']]).mark_point().encode(\n",
    "                        x='date_cam_1',\n",
    "                        y='hoursminutes(tps_parcours)',\n",
    "                        color='cluster_num:N',\n",
    "                        shape='cluster_num:N',\n",
    "                        tooltip='hoursminutes(tps_parcours)')\n",
    "graph_clust=alt.Chart(results.loc[:,['date_cam_1','tps_parcours_graph']]).mark_line(color='blue').encode(\n",
    "                                 x='date_cam_1',\n",
    "                                 y='hoursminutes(tps_parcours_graph)')"
   ]
  },
  {
   "cell_type": "code",
   "execution_count": 213,
   "metadata": {},
   "outputs": [
    {
     "data": {
      "application/vnd.vegalite.v2+json": {
       "$schema": "https://vega.github.io/schema/vega-lite/v2.6.0.json",
       "config": {
        "view": {
         "height": 300,
         "width": 400
        }
       },
       "datasets": {
        "data-dc6f4e5a494843c302276c600b95affe": [
         {
          "cluster_num": 0,
          "date_cam_1": "2019-01-29T09:00:22",
          "tps_parcours": "2018-01-01T00:08:41",
          "tps_parcours_graph": "2018-01-01T00:12:31"
         },
         {
          "cluster_num": 0,
          "date_cam_1": "2019-01-29T09:05:55",
          "tps_parcours": "2018-01-01T00:08:39",
          "tps_parcours_graph": "2018-01-01T00:12:31"
         },
         {
          "cluster_num": 0,
          "date_cam_1": "2019-01-29T09:06:18",
          "tps_parcours": "2018-01-01T00:10:17",
          "tps_parcours_graph": "2018-01-01T00:12:31"
         },
         {
          "cluster_num": 0,
          "date_cam_1": "2019-01-29T09:12:09",
          "tps_parcours": "2018-01-01T00:08:54",
          "tps_parcours_graph": "2018-01-01T00:12:31"
         },
         {
          "cluster_num": -1,
          "date_cam_1": "2019-01-29T09:16:07",
          "tps_parcours": "2018-01-01T00:05:12",
          "tps_parcours_graph": "2018-01-01T00:12:31"
         },
         {
          "cluster_num": 0,
          "date_cam_1": "2019-01-29T09:09:52",
          "tps_parcours": "2018-01-01T00:11:34",
          "tps_parcours_graph": "2018-01-01T00:12:31"
         },
         {
          "cluster_num": 0,
          "date_cam_1": "2019-01-29T09:14:10",
          "tps_parcours": "2018-01-01T00:08:59",
          "tps_parcours_graph": "2018-01-01T00:12:31"
         },
         {
          "cluster_num": 0,
          "date_cam_1": "2019-01-29T09:13:38",
          "tps_parcours": "2018-01-01T00:09:42",
          "tps_parcours_graph": "2018-01-01T00:12:31"
         },
         {
          "cluster_num": 0,
          "date_cam_1": "2019-01-29T09:16:15",
          "tps_parcours": "2018-01-01T00:09:00",
          "tps_parcours_graph": "2018-01-01T00:12:31"
         },
         {
          "cluster_num": 0,
          "date_cam_1": "2019-01-29T09:16:35",
          "tps_parcours": "2018-01-01T00:09:44",
          "tps_parcours_graph": "2018-01-01T00:12:31"
         },
         {
          "cluster_num": 0,
          "date_cam_1": "2019-01-29T09:16:36",
          "tps_parcours": "2018-01-01T00:09:43",
          "tps_parcours_graph": "2018-01-01T00:12:31"
         },
         {
          "cluster_num": 0,
          "date_cam_1": "2019-01-29T09:17:54",
          "tps_parcours": "2018-01-01T00:09:09",
          "tps_parcours_graph": "2018-01-01T00:12:31"
         },
         {
          "cluster_num": -1,
          "date_cam_1": "2019-01-29T09:24:54",
          "tps_parcours": "2018-01-01T00:04:43",
          "tps_parcours_graph": "2018-01-01T00:12:31"
         },
         {
          "cluster_num": -1,
          "date_cam_1": "2019-01-29T09:26:11",
          "tps_parcours": "2018-01-01T00:03:52",
          "tps_parcours_graph": "2018-01-01T00:12:31"
         },
         {
          "cluster_num": 0,
          "date_cam_1": "2019-01-29T09:25:44",
          "tps_parcours": "2018-01-01T00:08:48",
          "tps_parcours_graph": "2018-01-01T00:12:31"
         },
         {
          "cluster_num": -1,
          "date_cam_1": "2019-01-29T09:28:52",
          "tps_parcours": "2018-01-01T00:06:16",
          "tps_parcours_graph": "2018-01-01T00:12:31"
         },
         {
          "cluster_num": 0,
          "date_cam_1": "2019-01-29T09:26:54",
          "tps_parcours": "2018-01-01T00:08:39",
          "tps_parcours_graph": "2018-01-01T00:12:31"
         },
         {
          "cluster_num": 0,
          "date_cam_1": "2019-01-29T09:27:11",
          "tps_parcours": "2018-01-01T00:08:52",
          "tps_parcours_graph": "2018-01-01T00:12:31"
         },
         {
          "cluster_num": 0,
          "date_cam_1": "2019-01-29T09:30:45",
          "tps_parcours": "2018-01-01T00:08:49",
          "tps_parcours_graph": "2018-01-01T00:12:31"
         },
         {
          "cluster_num": 0,
          "date_cam_1": "2019-01-29T09:31:20",
          "tps_parcours": "2018-01-01T00:08:57",
          "tps_parcours_graph": "2018-01-01T00:12:31"
         },
         {
          "cluster_num": 0,
          "date_cam_1": "2019-01-29T09:31:48",
          "tps_parcours": "2018-01-01T00:09:05",
          "tps_parcours_graph": "2018-01-01T00:12:31"
         },
         {
          "cluster_num": 0,
          "date_cam_1": "2019-01-29T09:31:24",
          "tps_parcours": "2018-01-01T00:10:20",
          "tps_parcours_graph": "2018-01-01T00:12:31"
         },
         {
          "cluster_num": -1,
          "date_cam_1": "2019-01-29T09:37:02",
          "tps_parcours": "2018-01-01T00:05:54",
          "tps_parcours_graph": "2018-01-01T00:12:31"
         },
         {
          "cluster_num": -1,
          "date_cam_1": "2019-01-29T09:37:21",
          "tps_parcours": "2018-01-01T00:07:27",
          "tps_parcours_graph": "2018-01-01T00:12:31"
         },
         {
          "cluster_num": 0,
          "date_cam_1": "2019-01-29T09:36:05",
          "tps_parcours": "2018-01-01T00:08:54",
          "tps_parcours_graph": "2018-01-01T00:12:31"
         },
         {
          "cluster_num": 0,
          "date_cam_1": "2019-01-29T09:36:27",
          "tps_parcours": "2018-01-01T00:09:20",
          "tps_parcours_graph": "2018-01-01T00:12:31"
         },
         {
          "cluster_num": 0,
          "date_cam_1": "2019-01-29T09:37:45",
          "tps_parcours": "2018-01-01T00:08:42",
          "tps_parcours_graph": "2018-01-01T00:12:31"
         },
         {
          "cluster_num": 0,
          "date_cam_1": "2019-01-29T09:38:10",
          "tps_parcours": "2018-01-01T00:08:56",
          "tps_parcours_graph": "2018-01-01T00:12:31"
         },
         {
          "cluster_num": 0,
          "date_cam_1": "2019-01-29T09:39:57",
          "tps_parcours": "2018-01-01T00:08:34",
          "tps_parcours_graph": "2018-01-01T00:12:31"
         },
         {
          "cluster_num": 0,
          "date_cam_1": "2019-01-29T09:40:57",
          "tps_parcours": "2018-01-01T00:09:44",
          "tps_parcours_graph": "2018-01-01T00:12:31"
         },
         {
          "cluster_num": 0,
          "date_cam_1": "2019-01-29T09:41:11",
          "tps_parcours": "2018-01-01T00:09:40",
          "tps_parcours_graph": "2018-01-01T00:12:31"
         },
         {
          "cluster_num": 0,
          "date_cam_1": "2019-01-29T09:43:43",
          "tps_parcours": "2018-01-01T00:09:00",
          "tps_parcours_graph": "2018-01-01T00:12:31"
         },
         {
          "cluster_num": 0,
          "date_cam_1": "2019-01-29T09:44:11",
          "tps_parcours": "2018-01-01T00:11:42",
          "tps_parcours_graph": "2018-01-01T00:12:31"
         },
         {
          "cluster_num": 0,
          "date_cam_1": "2019-01-29T09:44:11",
          "tps_parcours": "2018-01-01T00:11:42",
          "tps_parcours_graph": "2018-01-01T00:12:31"
         },
         {
          "cluster_num": 0,
          "date_cam_1": "2019-01-29T09:43:53",
          "tps_parcours": "2018-01-01T00:12:14",
          "tps_parcours_graph": "2018-01-01T00:12:31"
         },
         {
          "cluster_num": 0,
          "date_cam_1": "2019-01-29T09:50:51",
          "tps_parcours": "2018-01-01T00:10:44",
          "tps_parcours_graph": "2018-01-01T00:12:31"
         },
         {
          "cluster_num": 0,
          "date_cam_1": "2019-01-29T09:53:17",
          "tps_parcours": "2018-01-01T00:11:41",
          "tps_parcours_graph": "2018-01-01T00:12:31"
         },
         {
          "cluster_num": 0,
          "date_cam_1": "2019-01-29T09:58:03",
          "tps_parcours": "2018-01-01T00:07:37",
          "tps_parcours_graph": "2018-01-01T00:12:31"
         },
         {
          "cluster_num": 0,
          "date_cam_1": "2019-01-29T09:59:28",
          "tps_parcours": "2018-01-01T00:11:31",
          "tps_parcours_graph": "2018-01-01T00:12:31"
         },
         {
          "cluster_num": 0,
          "date_cam_1": "2019-01-29T10:01:12",
          "tps_parcours": "2018-01-01T00:11:17",
          "tps_parcours_graph": "2018-01-01T00:12:31"
         },
         {
          "cluster_num": 0,
          "date_cam_1": "2019-01-29T10:01:34",
          "tps_parcours": "2018-01-01T00:12:04",
          "tps_parcours_graph": "2018-01-01T00:12:31"
         },
         {
          "cluster_num": 0,
          "date_cam_1": "2019-01-29T10:03:41",
          "tps_parcours": "2018-01-01T00:10:33",
          "tps_parcours_graph": "2018-01-01T00:12:31"
         },
         {
          "cluster_num": 0,
          "date_cam_1": "2019-01-29T10:03:32",
          "tps_parcours": "2018-01-01T00:11:24",
          "tps_parcours_graph": "2018-01-01T00:12:31"
         },
         {
          "cluster_num": 0,
          "date_cam_1": "2019-01-29T10:03:56",
          "tps_parcours": "2018-01-01T00:11:19",
          "tps_parcours_graph": "2018-01-01T00:12:31"
         },
         {
          "cluster_num": -1,
          "date_cam_1": "2019-01-29T10:09:21",
          "tps_parcours": "2018-01-01T00:06:16",
          "tps_parcours_graph": "2018-01-01T00:12:31"
         },
         {
          "cluster_num": 0,
          "date_cam_1": "2019-01-29T10:08:11",
          "tps_parcours": "2018-01-01T00:09:07",
          "tps_parcours_graph": "2018-01-01T00:12:31"
         },
         {
          "cluster_num": 0,
          "date_cam_1": "2019-01-29T10:06:37",
          "tps_parcours": "2018-01-01T00:11:01",
          "tps_parcours_graph": "2018-01-01T00:12:31"
         },
         {
          "cluster_num": 0,
          "date_cam_1": "2019-01-29T10:08:21",
          "tps_parcours": "2018-01-01T00:09:25",
          "tps_parcours_graph": "2018-01-01T00:12:31"
         },
         {
          "cluster_num": -1,
          "date_cam_1": "2019-01-29T10:12:36",
          "tps_parcours": "2018-01-01T00:05:47",
          "tps_parcours_graph": "2018-01-01T00:12:31"
         },
         {
          "cluster_num": 0,
          "date_cam_1": "2019-01-29T10:08:16",
          "tps_parcours": "2018-01-01T00:10:49",
          "tps_parcours_graph": "2018-01-01T00:12:31"
         },
         {
          "cluster_num": 0,
          "date_cam_1": "2019-01-29T10:09:21",
          "tps_parcours": "2018-01-01T00:10:01",
          "tps_parcours_graph": "2018-01-01T00:12:31"
         },
         {
          "cluster_num": 0,
          "date_cam_1": "2019-01-29T10:11:42",
          "tps_parcours": "2018-01-01T00:09:33",
          "tps_parcours_graph": "2018-01-01T00:12:31"
         },
         {
          "cluster_num": 0,
          "date_cam_1": "2019-01-29T10:12:40",
          "tps_parcours": "2018-01-01T00:08:54",
          "tps_parcours_graph": "2018-01-01T00:12:31"
         },
         {
          "cluster_num": 0,
          "date_cam_1": "2019-01-29T10:15:02",
          "tps_parcours": "2018-01-01T00:07:48",
          "tps_parcours_graph": "2018-01-01T00:12:31"
         },
         {
          "cluster_num": 0,
          "date_cam_1": "2019-01-29T10:13:23",
          "tps_parcours": "2018-01-01T00:09:48",
          "tps_parcours_graph": "2018-01-01T00:12:31"
         },
         {
          "cluster_num": -1,
          "date_cam_1": "2019-01-29T10:18:44",
          "tps_parcours": "2018-01-01T00:05:33",
          "tps_parcours_graph": "2018-01-01T00:12:31"
         },
         {
          "cluster_num": -1,
          "date_cam_1": "2019-01-29T10:21:59",
          "tps_parcours": "2018-01-01T00:05:11",
          "tps_parcours_graph": "2018-01-01T00:12:31"
         },
         {
          "cluster_num": 0,
          "date_cam_1": "2019-01-29T10:19:28",
          "tps_parcours": "2018-01-01T00:08:15",
          "tps_parcours_graph": "2018-01-01T00:12:31"
         },
         {
          "cluster_num": 0,
          "date_cam_1": "2019-01-29T10:19:42",
          "tps_parcours": "2018-01-01T00:08:43",
          "tps_parcours_graph": "2018-01-01T00:12:31"
         },
         {
          "cluster_num": 0,
          "date_cam_1": "2019-01-29T10:21:29",
          "tps_parcours": "2018-01-01T00:09:21",
          "tps_parcours_graph": "2018-01-01T00:12:31"
         },
         {
          "cluster_num": 0,
          "date_cam_1": "2019-01-29T10:22:48",
          "tps_parcours": "2018-01-01T00:08:54",
          "tps_parcours_graph": "2018-01-01T00:12:31"
         },
         {
          "cluster_num": 0,
          "date_cam_1": "2019-01-29T10:21:52",
          "tps_parcours": "2018-01-01T00:10:08",
          "tps_parcours_graph": "2018-01-01T00:12:31"
         },
         {
          "cluster_num": 0,
          "date_cam_1": "2019-01-29T10:30:29",
          "tps_parcours": "2018-01-01T00:11:10",
          "tps_parcours_graph": "2018-01-01T00:12:31"
         },
         {
          "cluster_num": -1,
          "date_cam_1": "2019-01-29T10:39:45",
          "tps_parcours": "2018-01-01T00:05:51",
          "tps_parcours_graph": "2018-01-01T00:12:31"
         },
         {
          "cluster_num": 0,
          "date_cam_1": "2019-01-29T10:35:50",
          "tps_parcours": "2018-01-01T00:12:31",
          "tps_parcours_graph": "2018-01-01T00:12:31"
         },
         {
          "cluster_num": 0,
          "date_cam_1": "2019-01-29T10:38:03",
          "tps_parcours": "2018-01-01T00:11:04",
          "tps_parcours_graph": "2018-01-01T00:12:31"
         },
         {
          "cluster_num": 0,
          "date_cam_1": "2019-01-29T10:41:54",
          "tps_parcours": "2018-01-01T00:11:02",
          "tps_parcours_graph": "2018-01-01T00:12:31"
         },
         {
          "cluster_num": 0,
          "date_cam_1": "2019-01-29T10:42:14",
          "tps_parcours": "2018-01-01T00:12:02",
          "tps_parcours_graph": "2018-01-01T00:12:31"
         },
         {
          "cluster_num": 0,
          "date_cam_1": "2019-01-29T10:46:31",
          "tps_parcours": "2018-01-01T00:09:42",
          "tps_parcours_graph": "2018-01-01T00:12:31"
         },
         {
          "cluster_num": 0,
          "date_cam_1": "2019-01-29T10:44:26",
          "tps_parcours": "2018-01-01T00:12:12",
          "tps_parcours_graph": "2018-01-01T00:12:31"
         },
         {
          "cluster_num": 0,
          "date_cam_1": "2019-01-29T10:52:20",
          "tps_parcours": "2018-01-01T00:08:08",
          "tps_parcours_graph": "2018-01-01T00:12:31"
         },
         {
          "cluster_num": 0,
          "date_cam_1": "2019-01-29T10:52:36",
          "tps_parcours": "2018-01-01T00:08:42",
          "tps_parcours_graph": "2018-01-01T00:12:31"
         },
         {
          "cluster_num": 0,
          "date_cam_1": "2019-01-29T10:51:46",
          "tps_parcours": "2018-01-01T00:09:49",
          "tps_parcours_graph": "2018-01-01T00:12:31"
         },
         {
          "cluster_num": -1,
          "date_cam_1": "2019-01-29T10:57:09",
          "tps_parcours": "2018-01-01T00:04:57",
          "tps_parcours_graph": "2018-01-01T00:12:31"
         },
         {
          "cluster_num": 0,
          "date_cam_1": "2019-01-29T10:56:59",
          "tps_parcours": "2018-01-01T00:09:35",
          "tps_parcours_graph": "2018-01-01T00:12:31"
         },
         {
          "cluster_num": -1,
          "date_cam_1": "2019-01-29T09:46:34",
          "tps_parcours": "2018-01-01T01:21:27",
          "tps_parcours_graph": "2018-01-01T00:12:31"
         },
         {
          "cluster_num": -1,
          "date_cam_1": "2019-01-29T10:40:53",
          "tps_parcours": "2018-01-01T00:30:04",
          "tps_parcours_graph": "2018-01-01T00:12:31"
         },
         {
          "cluster_num": -1,
          "date_cam_1": "2019-01-29T09:58:07",
          "tps_parcours": "2018-01-01T01:14:27",
          "tps_parcours_graph": "2018-01-01T00:12:31"
         },
         {
          "cluster_num": -1,
          "date_cam_1": "2019-01-29T10:31:53",
          "tps_parcours": "2018-01-01T01:10:55",
          "tps_parcours_graph": "2018-01-01T00:12:31"
         },
         {
          "cluster_num": -1,
          "date_cam_1": "2019-01-29T10:55:24",
          "tps_parcours": "2018-01-01T01:04:36",
          "tps_parcours_graph": "2018-01-01T00:12:31"
         },
         {
          "cluster_num": -1,
          "date_cam_1": "2019-01-29T10:45:43",
          "tps_parcours": "2018-01-01T01:37:01",
          "tps_parcours_graph": "2018-01-01T00:12:31"
         },
         {
          "cluster_num": -1,
          "date_cam_1": "2019-01-29T10:57:02",
          "tps_parcours": "2018-01-01T01:50:01",
          "tps_parcours_graph": "2018-01-01T00:12:31"
         }
        ],
        "data-fbd02b12a3962c162a0e8bf067790920": [
         {
          "date_cam_1": "2019-01-29T09:00:22",
          "tps_parcours_graph": "2018-01-01T00:12:31"
         },
         {
          "date_cam_1": "2019-01-29T09:05:55",
          "tps_parcours_graph": "2018-01-01T00:12:31"
         },
         {
          "date_cam_1": "2019-01-29T09:06:18",
          "tps_parcours_graph": "2018-01-01T00:12:31"
         },
         {
          "date_cam_1": "2019-01-29T09:12:09",
          "tps_parcours_graph": "2018-01-01T00:12:31"
         },
         {
          "date_cam_1": "2019-01-29T09:16:07",
          "tps_parcours_graph": "2018-01-01T00:12:31"
         },
         {
          "date_cam_1": "2019-01-29T09:09:52",
          "tps_parcours_graph": "2018-01-01T00:12:31"
         },
         {
          "date_cam_1": "2019-01-29T09:14:10",
          "tps_parcours_graph": "2018-01-01T00:12:31"
         },
         {
          "date_cam_1": "2019-01-29T09:13:38",
          "tps_parcours_graph": "2018-01-01T00:12:31"
         },
         {
          "date_cam_1": "2019-01-29T09:16:15",
          "tps_parcours_graph": "2018-01-01T00:12:31"
         },
         {
          "date_cam_1": "2019-01-29T09:16:35",
          "tps_parcours_graph": "2018-01-01T00:12:31"
         },
         {
          "date_cam_1": "2019-01-29T09:16:36",
          "tps_parcours_graph": "2018-01-01T00:12:31"
         },
         {
          "date_cam_1": "2019-01-29T09:17:54",
          "tps_parcours_graph": "2018-01-01T00:12:31"
         },
         {
          "date_cam_1": "2019-01-29T09:24:54",
          "tps_parcours_graph": "2018-01-01T00:12:31"
         },
         {
          "date_cam_1": "2019-01-29T09:26:11",
          "tps_parcours_graph": "2018-01-01T00:12:31"
         },
         {
          "date_cam_1": "2019-01-29T09:25:44",
          "tps_parcours_graph": "2018-01-01T00:12:31"
         },
         {
          "date_cam_1": "2019-01-29T09:28:52",
          "tps_parcours_graph": "2018-01-01T00:12:31"
         },
         {
          "date_cam_1": "2019-01-29T09:26:54",
          "tps_parcours_graph": "2018-01-01T00:12:31"
         },
         {
          "date_cam_1": "2019-01-29T09:27:11",
          "tps_parcours_graph": "2018-01-01T00:12:31"
         },
         {
          "date_cam_1": "2019-01-29T09:30:45",
          "tps_parcours_graph": "2018-01-01T00:12:31"
         },
         {
          "date_cam_1": "2019-01-29T09:31:20",
          "tps_parcours_graph": "2018-01-01T00:12:31"
         },
         {
          "date_cam_1": "2019-01-29T09:31:48",
          "tps_parcours_graph": "2018-01-01T00:12:31"
         },
         {
          "date_cam_1": "2019-01-29T09:31:24",
          "tps_parcours_graph": "2018-01-01T00:12:31"
         },
         {
          "date_cam_1": "2019-01-29T09:37:02",
          "tps_parcours_graph": "2018-01-01T00:12:31"
         },
         {
          "date_cam_1": "2019-01-29T09:37:21",
          "tps_parcours_graph": "2018-01-01T00:12:31"
         },
         {
          "date_cam_1": "2019-01-29T09:36:05",
          "tps_parcours_graph": "2018-01-01T00:12:31"
         },
         {
          "date_cam_1": "2019-01-29T09:36:27",
          "tps_parcours_graph": "2018-01-01T00:12:31"
         },
         {
          "date_cam_1": "2019-01-29T09:37:45",
          "tps_parcours_graph": "2018-01-01T00:12:31"
         },
         {
          "date_cam_1": "2019-01-29T09:38:10",
          "tps_parcours_graph": "2018-01-01T00:12:31"
         },
         {
          "date_cam_1": "2019-01-29T09:39:57",
          "tps_parcours_graph": "2018-01-01T00:12:31"
         },
         {
          "date_cam_1": "2019-01-29T09:40:57",
          "tps_parcours_graph": "2018-01-01T00:12:31"
         },
         {
          "date_cam_1": "2019-01-29T09:41:11",
          "tps_parcours_graph": "2018-01-01T00:12:31"
         },
         {
          "date_cam_1": "2019-01-29T09:43:43",
          "tps_parcours_graph": "2018-01-01T00:12:31"
         },
         {
          "date_cam_1": "2019-01-29T09:44:11",
          "tps_parcours_graph": "2018-01-01T00:12:31"
         },
         {
          "date_cam_1": "2019-01-29T09:44:11",
          "tps_parcours_graph": "2018-01-01T00:12:31"
         },
         {
          "date_cam_1": "2019-01-29T09:43:53",
          "tps_parcours_graph": "2018-01-01T00:12:31"
         },
         {
          "date_cam_1": "2019-01-29T09:50:51",
          "tps_parcours_graph": "2018-01-01T00:12:31"
         },
         {
          "date_cam_1": "2019-01-29T09:53:17",
          "tps_parcours_graph": "2018-01-01T00:12:31"
         },
         {
          "date_cam_1": "2019-01-29T09:58:03",
          "tps_parcours_graph": "2018-01-01T00:12:31"
         },
         {
          "date_cam_1": "2019-01-29T09:59:28",
          "tps_parcours_graph": "2018-01-01T00:12:31"
         },
         {
          "date_cam_1": "2019-01-29T10:01:12",
          "tps_parcours_graph": "2018-01-01T00:12:31"
         },
         {
          "date_cam_1": "2019-01-29T10:01:34",
          "tps_parcours_graph": "2018-01-01T00:12:31"
         },
         {
          "date_cam_1": "2019-01-29T10:03:41",
          "tps_parcours_graph": "2018-01-01T00:12:31"
         },
         {
          "date_cam_1": "2019-01-29T10:03:32",
          "tps_parcours_graph": "2018-01-01T00:12:31"
         },
         {
          "date_cam_1": "2019-01-29T10:03:56",
          "tps_parcours_graph": "2018-01-01T00:12:31"
         },
         {
          "date_cam_1": "2019-01-29T10:09:21",
          "tps_parcours_graph": "2018-01-01T00:12:31"
         },
         {
          "date_cam_1": "2019-01-29T10:08:11",
          "tps_parcours_graph": "2018-01-01T00:12:31"
         },
         {
          "date_cam_1": "2019-01-29T10:06:37",
          "tps_parcours_graph": "2018-01-01T00:12:31"
         },
         {
          "date_cam_1": "2019-01-29T10:08:21",
          "tps_parcours_graph": "2018-01-01T00:12:31"
         },
         {
          "date_cam_1": "2019-01-29T10:12:36",
          "tps_parcours_graph": "2018-01-01T00:12:31"
         },
         {
          "date_cam_1": "2019-01-29T10:08:16",
          "tps_parcours_graph": "2018-01-01T00:12:31"
         },
         {
          "date_cam_1": "2019-01-29T10:09:21",
          "tps_parcours_graph": "2018-01-01T00:12:31"
         },
         {
          "date_cam_1": "2019-01-29T10:11:42",
          "tps_parcours_graph": "2018-01-01T00:12:31"
         },
         {
          "date_cam_1": "2019-01-29T10:12:40",
          "tps_parcours_graph": "2018-01-01T00:12:31"
         },
         {
          "date_cam_1": "2019-01-29T10:15:02",
          "tps_parcours_graph": "2018-01-01T00:12:31"
         },
         {
          "date_cam_1": "2019-01-29T10:13:23",
          "tps_parcours_graph": "2018-01-01T00:12:31"
         },
         {
          "date_cam_1": "2019-01-29T10:18:44",
          "tps_parcours_graph": "2018-01-01T00:12:31"
         },
         {
          "date_cam_1": "2019-01-29T10:21:59",
          "tps_parcours_graph": "2018-01-01T00:12:31"
         },
         {
          "date_cam_1": "2019-01-29T10:19:28",
          "tps_parcours_graph": "2018-01-01T00:12:31"
         },
         {
          "date_cam_1": "2019-01-29T10:19:42",
          "tps_parcours_graph": "2018-01-01T00:12:31"
         },
         {
          "date_cam_1": "2019-01-29T10:21:29",
          "tps_parcours_graph": "2018-01-01T00:12:31"
         },
         {
          "date_cam_1": "2019-01-29T10:22:48",
          "tps_parcours_graph": "2018-01-01T00:12:31"
         },
         {
          "date_cam_1": "2019-01-29T10:21:52",
          "tps_parcours_graph": "2018-01-01T00:12:31"
         },
         {
          "date_cam_1": "2019-01-29T10:30:29",
          "tps_parcours_graph": "2018-01-01T00:12:31"
         },
         {
          "date_cam_1": "2019-01-29T10:39:45",
          "tps_parcours_graph": "2018-01-01T00:12:31"
         },
         {
          "date_cam_1": "2019-01-29T10:35:50",
          "tps_parcours_graph": "2018-01-01T00:12:31"
         },
         {
          "date_cam_1": "2019-01-29T10:38:03",
          "tps_parcours_graph": "2018-01-01T00:12:31"
         },
         {
          "date_cam_1": "2019-01-29T10:41:54",
          "tps_parcours_graph": "2018-01-01T00:12:31"
         },
         {
          "date_cam_1": "2019-01-29T10:42:14",
          "tps_parcours_graph": "2018-01-01T00:12:31"
         },
         {
          "date_cam_1": "2019-01-29T10:46:31",
          "tps_parcours_graph": "2018-01-01T00:12:31"
         },
         {
          "date_cam_1": "2019-01-29T10:44:26",
          "tps_parcours_graph": "2018-01-01T00:12:31"
         },
         {
          "date_cam_1": "2019-01-29T10:52:20",
          "tps_parcours_graph": "2018-01-01T00:12:31"
         },
         {
          "date_cam_1": "2019-01-29T10:52:36",
          "tps_parcours_graph": "2018-01-01T00:12:31"
         },
         {
          "date_cam_1": "2019-01-29T10:51:46",
          "tps_parcours_graph": "2018-01-01T00:12:31"
         },
         {
          "date_cam_1": "2019-01-29T10:57:09",
          "tps_parcours_graph": "2018-01-01T00:12:31"
         },
         {
          "date_cam_1": "2019-01-29T10:56:59",
          "tps_parcours_graph": "2018-01-01T00:12:31"
         },
         {
          "date_cam_1": "2019-01-29T09:46:34",
          "tps_parcours_graph": "2018-01-01T00:12:31"
         },
         {
          "date_cam_1": "2019-01-29T10:40:53",
          "tps_parcours_graph": "2018-01-01T00:12:31"
         },
         {
          "date_cam_1": "2019-01-29T09:58:07",
          "tps_parcours_graph": "2018-01-01T00:12:31"
         },
         {
          "date_cam_1": "2019-01-29T10:31:53",
          "tps_parcours_graph": "2018-01-01T00:12:31"
         },
         {
          "date_cam_1": "2019-01-29T10:55:24",
          "tps_parcours_graph": "2018-01-01T00:12:31"
         },
         {
          "date_cam_1": "2019-01-29T10:45:43",
          "tps_parcours_graph": "2018-01-01T00:12:31"
         },
         {
          "date_cam_1": "2019-01-29T10:57:02",
          "tps_parcours_graph": "2018-01-01T00:12:31"
         }
        ]
       },
       "layer": [
        {
         "data": {
          "name": "data-dc6f4e5a494843c302276c600b95affe"
         },
         "encoding": {
          "color": {
           "field": "cluster_num",
           "type": "nominal"
          },
          "shape": {
           "field": "cluster_num",
           "type": "nominal"
          },
          "tooltip": {
           "field": "tps_parcours",
           "timeUnit": "hoursminutes",
           "type": "temporal"
          },
          "x": {
           "field": "date_cam_1",
           "type": "temporal"
          },
          "y": {
           "field": "tps_parcours",
           "timeUnit": "hoursminutes",
           "type": "temporal"
          }
         },
         "mark": "point"
        },
        {
         "data": {
          "name": "data-fbd02b12a3962c162a0e8bf067790920"
         },
         "encoding": {
          "x": {
           "field": "date_cam_1",
           "type": "temporal"
          },
          "y": {
           "field": "tps_parcours_graph",
           "timeUnit": "hoursminutes",
           "type": "temporal"
          }
         },
         "mark": {
          "color": "blue",
          "type": "line"
         }
        }
       ]
      },
      "image/png": "[encoded data removed]",
      "text/plain": [
       "<VegaLite 2 object>\n",
       "\n",
       "If you see this message, it means the renderer has not been properly enabled\n",
       "for the frontend that you are using. For more information, see\n",
       "https://altair-viz.github.io/user_guide/troubleshooting.html\n"
      ]
     },
     "execution_count": 213,
     "metadata": {},
     "output_type": "execute_result"
    }
   ],
   "source": [
    "graph_tps_bruts+graph_clust"
   ]
  },
  {
   "cell_type": "code",
   "execution_count": 251,
   "metadata": {},
   "outputs": [],
   "source": [
    "results['tps_parcours']=pd.to_datetime('2018-01-01')+results.tps_parcours\n",
    "results['tps_parcours_graph']=pd.to_datetime('2018-01-01')+pd.to_timedelta(temp_parcours_max.values[0])\n",
    "graph_tps_bruts = alt.Chart(results.loc[:,['created_x','tps_parcours_graph','cluster_num','tps_parcours']]).mark_point().encode(\n",
    "                        x='created_x',\n",
    "                        y='hoursminutes(tps_parcours)',\n",
    "                        color='cluster_num:N',\n",
    "                        shape='cluster_num:N',\n",
    "                        tooltip='hoursminutes(tps_parcours)').interactive()\n",
    "graph_clust=alt.Chart(results.loc[:,['created_x','tps_parcours_graph']]).mark_line(color='blue').encode(\n",
    "                                 x='created_x',\n",
    "                                 y='hoursminutes(tps_parcours_graph)')"
   ]
  },
  {
   "cell_type": "code",
   "execution_count": 252,
   "metadata": {},
   "outputs": [
    {
     "data": {
      "application/vnd.vegalite.v2+json": {
       "$schema": "https://vega.github.io/schema/vega-lite/v2.6.0.json",
       "config": {
        "view": {
         "height": 300,
         "width": 400
        }
       },
       "datasets": {
        "data-025af1f51834830a15cfe920c28e1b9f": [
         {
          "cluster_num": 0,
          "created_x": "2019-01-29T09:00:22",
          "tps_parcours": "2018-01-01T00:08:41",
          "tps_parcours_graph": "2018-01-01T00:12:31"
         },
         {
          "cluster_num": 0,
          "created_x": "2019-01-29T09:05:55",
          "tps_parcours": "2018-01-01T00:08:39",
          "tps_parcours_graph": "2018-01-01T00:12:31"
         },
         {
          "cluster_num": 0,
          "created_x": "2019-01-29T09:06:18",
          "tps_parcours": "2018-01-01T00:10:17",
          "tps_parcours_graph": "2018-01-01T00:12:31"
         },
         {
          "cluster_num": 0,
          "created_x": "2019-01-29T09:12:09",
          "tps_parcours": "2018-01-01T00:08:54",
          "tps_parcours_graph": "2018-01-01T00:12:31"
         },
         {
          "cluster_num": 0,
          "created_x": "2019-01-29T09:16:07",
          "tps_parcours": "2018-01-01T00:05:12",
          "tps_parcours_graph": "2018-01-01T00:12:31"
         },
         {
          "cluster_num": 0,
          "created_x": "2019-01-29T09:09:52",
          "tps_parcours": "2018-01-01T00:11:34",
          "tps_parcours_graph": "2018-01-01T00:12:31"
         },
         {
          "cluster_num": 0,
          "created_x": "2019-01-29T09:14:10",
          "tps_parcours": "2018-01-01T00:08:59",
          "tps_parcours_graph": "2018-01-01T00:12:31"
         },
         {
          "cluster_num": 0,
          "created_x": "2019-01-29T09:13:38",
          "tps_parcours": "2018-01-01T00:09:42",
          "tps_parcours_graph": "2018-01-01T00:12:31"
         },
         {
          "cluster_num": 0,
          "created_x": "2019-01-29T09:16:15",
          "tps_parcours": "2018-01-01T00:09:00",
          "tps_parcours_graph": "2018-01-01T00:12:31"
         },
         {
          "cluster_num": 0,
          "created_x": "2019-01-29T09:16:35",
          "tps_parcours": "2018-01-01T00:09:44",
          "tps_parcours_graph": "2018-01-01T00:12:31"
         },
         {
          "cluster_num": 0,
          "created_x": "2019-01-29T09:16:36",
          "tps_parcours": "2018-01-01T00:09:43",
          "tps_parcours_graph": "2018-01-01T00:12:31"
         },
         {
          "cluster_num": 0,
          "created_x": "2019-01-29T09:17:54",
          "tps_parcours": "2018-01-01T00:09:09",
          "tps_parcours_graph": "2018-01-01T00:12:31"
         },
         {
          "cluster_num": 0,
          "created_x": "2019-01-29T09:24:54",
          "tps_parcours": "2018-01-01T00:04:43",
          "tps_parcours_graph": "2018-01-01T00:12:31"
         },
         {
          "cluster_num": 0,
          "created_x": "2019-01-29T09:26:11",
          "tps_parcours": "2018-01-01T00:03:52",
          "tps_parcours_graph": "2018-01-01T00:12:31"
         },
         {
          "cluster_num": 0,
          "created_x": "2019-01-29T09:25:44",
          "tps_parcours": "2018-01-01T00:08:48",
          "tps_parcours_graph": "2018-01-01T00:12:31"
         },
         {
          "cluster_num": 0,
          "created_x": "2019-01-29T09:28:52",
          "tps_parcours": "2018-01-01T00:06:16",
          "tps_parcours_graph": "2018-01-01T00:12:31"
         },
         {
          "cluster_num": 0,
          "created_x": "2019-01-29T09:26:54",
          "tps_parcours": "2018-01-01T00:08:39",
          "tps_parcours_graph": "2018-01-01T00:12:31"
         },
         {
          "cluster_num": 0,
          "created_x": "2019-01-29T09:27:11",
          "tps_parcours": "2018-01-01T00:08:52",
          "tps_parcours_graph": "2018-01-01T00:12:31"
         },
         {
          "cluster_num": 0,
          "created_x": "2019-01-29T09:30:45",
          "tps_parcours": "2018-01-01T00:08:49",
          "tps_parcours_graph": "2018-01-01T00:12:31"
         },
         {
          "cluster_num": 0,
          "created_x": "2019-01-29T09:31:20",
          "tps_parcours": "2018-01-01T00:08:57",
          "tps_parcours_graph": "2018-01-01T00:12:31"
         },
         {
          "cluster_num": 0,
          "created_x": "2019-01-29T09:31:48",
          "tps_parcours": "2018-01-01T00:09:05",
          "tps_parcours_graph": "2018-01-01T00:12:31"
         },
         {
          "cluster_num": 0,
          "created_x": "2019-01-29T09:31:24",
          "tps_parcours": "2018-01-01T00:10:20",
          "tps_parcours_graph": "2018-01-01T00:12:31"
         },
         {
          "cluster_num": 0,
          "created_x": "2019-01-29T09:37:02",
          "tps_parcours": "2018-01-01T00:05:54",
          "tps_parcours_graph": "2018-01-01T00:12:31"
         },
         {
          "cluster_num": 0,
          "created_x": "2019-01-29T09:37:21",
          "tps_parcours": "2018-01-01T00:07:27",
          "tps_parcours_graph": "2018-01-01T00:12:31"
         },
         {
          "cluster_num": 0,
          "created_x": "2019-01-29T09:36:05",
          "tps_parcours": "2018-01-01T00:08:54",
          "tps_parcours_graph": "2018-01-01T00:12:31"
         },
         {
          "cluster_num": 0,
          "created_x": "2019-01-29T09:36:27",
          "tps_parcours": "2018-01-01T00:09:20",
          "tps_parcours_graph": "2018-01-01T00:12:31"
         },
         {
          "cluster_num": 0,
          "created_x": "2019-01-29T09:37:45",
          "tps_parcours": "2018-01-01T00:08:42",
          "tps_parcours_graph": "2018-01-01T00:12:31"
         },
         {
          "cluster_num": 0,
          "created_x": "2019-01-29T09:38:10",
          "tps_parcours": "2018-01-01T00:08:56",
          "tps_parcours_graph": "2018-01-01T00:12:31"
         },
         {
          "cluster_num": 0,
          "created_x": "2019-01-29T09:39:57",
          "tps_parcours": "2018-01-01T00:08:34",
          "tps_parcours_graph": "2018-01-01T00:12:31"
         },
         {
          "cluster_num": 0,
          "created_x": "2019-01-29T09:40:57",
          "tps_parcours": "2018-01-01T00:09:44",
          "tps_parcours_graph": "2018-01-01T00:12:31"
         },
         {
          "cluster_num": 0,
          "created_x": "2019-01-29T09:41:11",
          "tps_parcours": "2018-01-01T00:09:40",
          "tps_parcours_graph": "2018-01-01T00:12:31"
         },
         {
          "cluster_num": 0,
          "created_x": "2019-01-29T09:43:43",
          "tps_parcours": "2018-01-01T00:09:00",
          "tps_parcours_graph": "2018-01-01T00:12:31"
         },
         {
          "cluster_num": 0,
          "created_x": "2019-01-29T09:44:11",
          "tps_parcours": "2018-01-01T00:11:42",
          "tps_parcours_graph": "2018-01-01T00:12:31"
         },
         {
          "cluster_num": 0,
          "created_x": "2019-01-29T09:44:11",
          "tps_parcours": "2018-01-01T00:11:42",
          "tps_parcours_graph": "2018-01-01T00:12:31"
         },
         {
          "cluster_num": 0,
          "created_x": "2019-01-29T09:43:53",
          "tps_parcours": "2018-01-01T00:12:14",
          "tps_parcours_graph": "2018-01-01T00:12:31"
         },
         {
          "cluster_num": 0,
          "created_x": "2019-01-29T09:50:51",
          "tps_parcours": "2018-01-01T00:10:44",
          "tps_parcours_graph": "2018-01-01T00:12:31"
         },
         {
          "cluster_num": 0,
          "created_x": "2019-01-29T09:53:17",
          "tps_parcours": "2018-01-01T00:11:41",
          "tps_parcours_graph": "2018-01-01T00:12:31"
         },
         {
          "cluster_num": 0,
          "created_x": "2019-01-29T09:58:03",
          "tps_parcours": "2018-01-01T00:07:37",
          "tps_parcours_graph": "2018-01-01T00:12:31"
         },
         {
          "cluster_num": 0,
          "created_x": "2019-01-29T09:59:28",
          "tps_parcours": "2018-01-01T00:11:31",
          "tps_parcours_graph": "2018-01-01T00:12:31"
         },
         {
          "cluster_num": 0,
          "created_x": "2019-01-29T10:01:12",
          "tps_parcours": "2018-01-01T00:11:17",
          "tps_parcours_graph": "2018-01-01T00:12:31"
         },
         {
          "cluster_num": 0,
          "created_x": "2019-01-29T10:01:34",
          "tps_parcours": "2018-01-01T00:12:04",
          "tps_parcours_graph": "2018-01-01T00:12:31"
         },
         {
          "cluster_num": 0,
          "created_x": "2019-01-29T10:03:41",
          "tps_parcours": "2018-01-01T00:10:33",
          "tps_parcours_graph": "2018-01-01T00:12:31"
         },
         {
          "cluster_num": 0,
          "created_x": "2019-01-29T10:03:32",
          "tps_parcours": "2018-01-01T00:11:24",
          "tps_parcours_graph": "2018-01-01T00:12:31"
         },
         {
          "cluster_num": 0,
          "created_x": "2019-01-29T10:03:56",
          "tps_parcours": "2018-01-01T00:11:19",
          "tps_parcours_graph": "2018-01-01T00:12:31"
         },
         {
          "cluster_num": 0,
          "created_x": "2019-01-29T10:09:21",
          "tps_parcours": "2018-01-01T00:06:16",
          "tps_parcours_graph": "2018-01-01T00:12:31"
         },
         {
          "cluster_num": 0,
          "created_x": "2019-01-29T10:08:11",
          "tps_parcours": "2018-01-01T00:09:07",
          "tps_parcours_graph": "2018-01-01T00:12:31"
         },
         {
          "cluster_num": 0,
          "created_x": "2019-01-29T10:06:37",
          "tps_parcours": "2018-01-01T00:11:01",
          "tps_parcours_graph": "2018-01-01T00:12:31"
         },
         {
          "cluster_num": 0,
          "created_x": "2019-01-29T10:08:21",
          "tps_parcours": "2018-01-01T00:09:25",
          "tps_parcours_graph": "2018-01-01T00:12:31"
         },
         {
          "cluster_num": 0,
          "created_x": "2019-01-29T10:12:36",
          "tps_parcours": "2018-01-01T00:05:47",
          "tps_parcours_graph": "2018-01-01T00:12:31"
         },
         {
          "cluster_num": 0,
          "created_x": "2019-01-29T10:08:16",
          "tps_parcours": "2018-01-01T00:10:49",
          "tps_parcours_graph": "2018-01-01T00:12:31"
         },
         {
          "cluster_num": 0,
          "created_x": "2019-01-29T10:09:21",
          "tps_parcours": "2018-01-01T00:10:01",
          "tps_parcours_graph": "2018-01-01T00:12:31"
         },
         {
          "cluster_num": 0,
          "created_x": "2019-01-29T10:11:42",
          "tps_parcours": "2018-01-01T00:09:33",
          "tps_parcours_graph": "2018-01-01T00:12:31"
         },
         {
          "cluster_num": 0,
          "created_x": "2019-01-29T10:12:40",
          "tps_parcours": "2018-01-01T00:08:54",
          "tps_parcours_graph": "2018-01-01T00:12:31"
         },
         {
          "cluster_num": 0,
          "created_x": "2019-01-29T10:15:02",
          "tps_parcours": "2018-01-01T00:07:48",
          "tps_parcours_graph": "2018-01-01T00:12:31"
         },
         {
          "cluster_num": 0,
          "created_x": "2019-01-29T10:13:23",
          "tps_parcours": "2018-01-01T00:09:48",
          "tps_parcours_graph": "2018-01-01T00:12:31"
         },
         {
          "cluster_num": 0,
          "created_x": "2019-01-29T10:18:44",
          "tps_parcours": "2018-01-01T00:05:33",
          "tps_parcours_graph": "2018-01-01T00:12:31"
         },
         {
          "cluster_num": 0,
          "created_x": "2019-01-29T10:21:59",
          "tps_parcours": "2018-01-01T00:05:11",
          "tps_parcours_graph": "2018-01-01T00:12:31"
         },
         {
          "cluster_num": 0,
          "created_x": "2019-01-29T10:19:28",
          "tps_parcours": "2018-01-01T00:08:15",
          "tps_parcours_graph": "2018-01-01T00:12:31"
         },
         {
          "cluster_num": 0,
          "created_x": "2019-01-29T10:19:42",
          "tps_parcours": "2018-01-01T00:08:43",
          "tps_parcours_graph": "2018-01-01T00:12:31"
         },
         {
          "cluster_num": 0,
          "created_x": "2019-01-29T10:21:29",
          "tps_parcours": "2018-01-01T00:09:21",
          "tps_parcours_graph": "2018-01-01T00:12:31"
         },
         {
          "cluster_num": 0,
          "created_x": "2019-01-29T10:22:48",
          "tps_parcours": "2018-01-01T00:08:54",
          "tps_parcours_graph": "2018-01-01T00:12:31"
         },
         {
          "cluster_num": 0,
          "created_x": "2019-01-29T10:21:52",
          "tps_parcours": "2018-01-01T00:10:08",
          "tps_parcours_graph": "2018-01-01T00:12:31"
         },
         {
          "cluster_num": 0,
          "created_x": "2019-01-29T10:30:29",
          "tps_parcours": "2018-01-01T00:11:10",
          "tps_parcours_graph": "2018-01-01T00:12:31"
         },
         {
          "cluster_num": 0,
          "created_x": "2019-01-29T10:39:45",
          "tps_parcours": "2018-01-01T00:05:51",
          "tps_parcours_graph": "2018-01-01T00:12:31"
         },
         {
          "cluster_num": 0,
          "created_x": "2019-01-29T10:35:50",
          "tps_parcours": "2018-01-01T00:12:31",
          "tps_parcours_graph": "2018-01-01T00:12:31"
         },
         {
          "cluster_num": 0,
          "created_x": "2019-01-29T10:38:03",
          "tps_parcours": "2018-01-01T00:11:04",
          "tps_parcours_graph": "2018-01-01T00:12:31"
         },
         {
          "cluster_num": 0,
          "created_x": "2019-01-29T10:41:54",
          "tps_parcours": "2018-01-01T00:11:02",
          "tps_parcours_graph": "2018-01-01T00:12:31"
         },
         {
          "cluster_num": 0,
          "created_x": "2019-01-29T10:42:14",
          "tps_parcours": "2018-01-01T00:12:02",
          "tps_parcours_graph": "2018-01-01T00:12:31"
         },
         {
          "cluster_num": 0,
          "created_x": "2019-01-29T10:46:31",
          "tps_parcours": "2018-01-01T00:09:42",
          "tps_parcours_graph": "2018-01-01T00:12:31"
         },
         {
          "cluster_num": 0,
          "created_x": "2019-01-29T10:44:26",
          "tps_parcours": "2018-01-01T00:12:12",
          "tps_parcours_graph": "2018-01-01T00:12:31"
         },
         {
          "cluster_num": 0,
          "created_x": "2019-01-29T10:52:20",
          "tps_parcours": "2018-01-01T00:08:08",
          "tps_parcours_graph": "2018-01-01T00:12:31"
         },
         {
          "cluster_num": 0,
          "created_x": "2019-01-29T10:52:36",
          "tps_parcours": "2018-01-01T00:08:42",
          "tps_parcours_graph": "2018-01-01T00:12:31"
         },
         {
          "cluster_num": 0,
          "created_x": "2019-01-29T10:51:46",
          "tps_parcours": "2018-01-01T00:09:49",
          "tps_parcours_graph": "2018-01-01T00:12:31"
         },
         {
          "cluster_num": 0,
          "created_x": "2019-01-29T10:57:09",
          "tps_parcours": "2018-01-01T00:04:57",
          "tps_parcours_graph": "2018-01-01T00:12:31"
         },
         {
          "cluster_num": 0,
          "created_x": "2019-01-29T10:56:59",
          "tps_parcours": "2018-01-01T00:09:35",
          "tps_parcours_graph": "2018-01-01T00:12:31"
         },
         {
          "cluster_num": -1,
          "created_x": "2019-01-29T09:46:34",
          "tps_parcours": "2018-01-01T01:21:27",
          "tps_parcours_graph": "2018-01-01T00:12:31"
         },
         {
          "cluster_num": -1,
          "created_x": "2019-01-29T10:40:53",
          "tps_parcours": "2018-01-01T00:30:04",
          "tps_parcours_graph": "2018-01-01T00:12:31"
         },
         {
          "cluster_num": -1,
          "created_x": "2019-01-29T09:58:07",
          "tps_parcours": "2018-01-01T01:14:27",
          "tps_parcours_graph": "2018-01-01T00:12:31"
         },
         {
          "cluster_num": -1,
          "created_x": "2019-01-29T10:31:53",
          "tps_parcours": "2018-01-01T01:10:55",
          "tps_parcours_graph": "2018-01-01T00:12:31"
         },
         {
          "cluster_num": -1,
          "created_x": "2019-01-29T09:12:38",
          "tps_parcours": "2018-01-01T02:34:00",
          "tps_parcours_graph": "2018-01-01T00:12:31"
         },
         {
          "cluster_num": -1,
          "created_x": "2019-01-29T10:55:24",
          "tps_parcours": "2018-01-01T01:04:36",
          "tps_parcours_graph": "2018-01-01T00:12:31"
         },
         {
          "cluster_num": -1,
          "created_x": "2019-01-29T10:14:39",
          "tps_parcours": "2018-01-01T01:59:02",
          "tps_parcours_graph": "2018-01-01T00:12:31"
         },
         {
          "cluster_num": -1,
          "created_x": "2019-01-29T10:17:46",
          "tps_parcours": "2018-01-01T02:02:14",
          "tps_parcours_graph": "2018-01-01T00:12:31"
         },
         {
          "cluster_num": -1,
          "created_x": "2019-01-29T10:45:43",
          "tps_parcours": "2018-01-01T01:37:01",
          "tps_parcours_graph": "2018-01-01T00:12:31"
         },
         {
          "cluster_num": -1,
          "created_x": "2019-01-29T10:57:02",
          "tps_parcours": "2018-01-01T01:50:01",
          "tps_parcours_graph": "2018-01-01T00:12:31"
         },
         {
          "cluster_num": -1,
          "created_x": "2019-01-29T10:35:29",
          "tps_parcours": "2018-01-01T02:16:37",
          "tps_parcours_graph": "2018-01-01T00:12:31"
         },
         {
          "cluster_num": -1,
          "created_x": "2019-01-29T10:20:17",
          "tps_parcours": "2018-01-01T03:25:36",
          "tps_parcours_graph": "2018-01-01T00:12:31"
         },
         {
          "cluster_num": -1,
          "created_x": "2019-01-29T10:50:34",
          "tps_parcours": "2018-01-01T03:05:10",
          "tps_parcours_graph": "2018-01-01T00:12:31"
         },
         {
          "cluster_num": -1,
          "created_x": "2019-01-29T10:38:45",
          "tps_parcours": "2018-01-01T03:43:39",
          "tps_parcours_graph": "2018-01-01T00:12:31"
         },
         {
          "cluster_num": -1,
          "created_x": "2019-01-29T10:30:59",
          "tps_parcours": "2018-01-01T05:04:56",
          "tps_parcours_graph": "2018-01-01T00:12:31"
         },
         {
          "cluster_num": -1,
          "created_x": "2019-01-29T10:37:41",
          "tps_parcours": "2018-01-01T05:22:10",
          "tps_parcours_graph": "2018-01-01T00:12:31"
         },
         {
          "cluster_num": -1,
          "created_x": "2019-01-29T09:41:44",
          "tps_parcours": "2018-01-01T06:21:14",
          "tps_parcours_graph": "2018-01-01T00:12:31"
         }
        ],
        "data-dfe6c9b12dbd6b58099449ecb5303a9d": [
         {
          "created_x": "2019-01-29T09:00:22",
          "tps_parcours_graph": "2018-01-01T00:12:31"
         },
         {
          "created_x": "2019-01-29T09:05:55",
          "tps_parcours_graph": "2018-01-01T00:12:31"
         },
         {
          "created_x": "2019-01-29T09:06:18",
          "tps_parcours_graph": "2018-01-01T00:12:31"
         },
         {
          "created_x": "2019-01-29T09:12:09",
          "tps_parcours_graph": "2018-01-01T00:12:31"
         },
         {
          "created_x": "2019-01-29T09:16:07",
          "tps_parcours_graph": "2018-01-01T00:12:31"
         },
         {
          "created_x": "2019-01-29T09:09:52",
          "tps_parcours_graph": "2018-01-01T00:12:31"
         },
         {
          "created_x": "2019-01-29T09:14:10",
          "tps_parcours_graph": "2018-01-01T00:12:31"
         },
         {
          "created_x": "2019-01-29T09:13:38",
          "tps_parcours_graph": "2018-01-01T00:12:31"
         },
         {
          "created_x": "2019-01-29T09:16:15",
          "tps_parcours_graph": "2018-01-01T00:12:31"
         },
         {
          "created_x": "2019-01-29T09:16:35",
          "tps_parcours_graph": "2018-01-01T00:12:31"
         },
         {
          "created_x": "2019-01-29T09:16:36",
          "tps_parcours_graph": "2018-01-01T00:12:31"
         },
         {
          "created_x": "2019-01-29T09:17:54",
          "tps_parcours_graph": "2018-01-01T00:12:31"
         },
         {
          "created_x": "2019-01-29T09:24:54",
          "tps_parcours_graph": "2018-01-01T00:12:31"
         },
         {
          "created_x": "2019-01-29T09:26:11",
          "tps_parcours_graph": "2018-01-01T00:12:31"
         },
         {
          "created_x": "2019-01-29T09:25:44",
          "tps_parcours_graph": "2018-01-01T00:12:31"
         },
         {
          "created_x": "2019-01-29T09:28:52",
          "tps_parcours_graph": "2018-01-01T00:12:31"
         },
         {
          "created_x": "2019-01-29T09:26:54",
          "tps_parcours_graph": "2018-01-01T00:12:31"
         },
         {
          "created_x": "2019-01-29T09:27:11",
          "tps_parcours_graph": "2018-01-01T00:12:31"
         },
         {
          "created_x": "2019-01-29T09:30:45",
          "tps_parcours_graph": "2018-01-01T00:12:31"
         },
         {
          "created_x": "2019-01-29T09:31:20",
          "tps_parcours_graph": "2018-01-01T00:12:31"
         },
         {
          "created_x": "2019-01-29T09:31:48",
          "tps_parcours_graph": "2018-01-01T00:12:31"
         },
         {
          "created_x": "2019-01-29T09:31:24",
          "tps_parcours_graph": "2018-01-01T00:12:31"
         },
         {
          "created_x": "2019-01-29T09:37:02",
          "tps_parcours_graph": "2018-01-01T00:12:31"
         },
         {
          "created_x": "2019-01-29T09:37:21",
          "tps_parcours_graph": "2018-01-01T00:12:31"
         },
         {
          "created_x": "2019-01-29T09:36:05",
          "tps_parcours_graph": "2018-01-01T00:12:31"
         },
         {
          "created_x": "2019-01-29T09:36:27",
          "tps_parcours_graph": "2018-01-01T00:12:31"
         },
         {
          "created_x": "2019-01-29T09:37:45",
          "tps_parcours_graph": "2018-01-01T00:12:31"
         },
         {
          "created_x": "2019-01-29T09:38:10",
          "tps_parcours_graph": "2018-01-01T00:12:31"
         },
         {
          "created_x": "2019-01-29T09:39:57",
          "tps_parcours_graph": "2018-01-01T00:12:31"
         },
         {
          "created_x": "2019-01-29T09:40:57",
          "tps_parcours_graph": "2018-01-01T00:12:31"
         },
         {
          "created_x": "2019-01-29T09:41:11",
          "tps_parcours_graph": "2018-01-01T00:12:31"
         },
         {
          "created_x": "2019-01-29T09:43:43",
          "tps_parcours_graph": "2018-01-01T00:12:31"
         },
         {
          "created_x": "2019-01-29T09:44:11",
          "tps_parcours_graph": "2018-01-01T00:12:31"
         },
         {
          "created_x": "2019-01-29T09:44:11",
          "tps_parcours_graph": "2018-01-01T00:12:31"
         },
         {
          "created_x": "2019-01-29T09:43:53",
          "tps_parcours_graph": "2018-01-01T00:12:31"
         },
         {
          "created_x": "2019-01-29T09:50:51",
          "tps_parcours_graph": "2018-01-01T00:12:31"
         },
         {
          "created_x": "2019-01-29T09:53:17",
          "tps_parcours_graph": "2018-01-01T00:12:31"
         },
         {
          "created_x": "2019-01-29T09:58:03",
          "tps_parcours_graph": "2018-01-01T00:12:31"
         },
         {
          "created_x": "2019-01-29T09:59:28",
          "tps_parcours_graph": "2018-01-01T00:12:31"
         },
         {
          "created_x": "2019-01-29T10:01:12",
          "tps_parcours_graph": "2018-01-01T00:12:31"
         },
         {
          "created_x": "2019-01-29T10:01:34",
          "tps_parcours_graph": "2018-01-01T00:12:31"
         },
         {
          "created_x": "2019-01-29T10:03:41",
          "tps_parcours_graph": "2018-01-01T00:12:31"
         },
         {
          "created_x": "2019-01-29T10:03:32",
          "tps_parcours_graph": "2018-01-01T00:12:31"
         },
         {
          "created_x": "2019-01-29T10:03:56",
          "tps_parcours_graph": "2018-01-01T00:12:31"
         },
         {
          "created_x": "2019-01-29T10:09:21",
          "tps_parcours_graph": "2018-01-01T00:12:31"
         },
         {
          "created_x": "2019-01-29T10:08:11",
          "tps_parcours_graph": "2018-01-01T00:12:31"
         },
         {
          "created_x": "2019-01-29T10:06:37",
          "tps_parcours_graph": "2018-01-01T00:12:31"
         },
         {
          "created_x": "2019-01-29T10:08:21",
          "tps_parcours_graph": "2018-01-01T00:12:31"
         },
         {
          "created_x": "2019-01-29T10:12:36",
          "tps_parcours_graph": "2018-01-01T00:12:31"
         },
         {
          "created_x": "2019-01-29T10:08:16",
          "tps_parcours_graph": "2018-01-01T00:12:31"
         },
         {
          "created_x": "2019-01-29T10:09:21",
          "tps_parcours_graph": "2018-01-01T00:12:31"
         },
         {
          "created_x": "2019-01-29T10:11:42",
          "tps_parcours_graph": "2018-01-01T00:12:31"
         },
         {
          "created_x": "2019-01-29T10:12:40",
          "tps_parcours_graph": "2018-01-01T00:12:31"
         },
         {
          "created_x": "2019-01-29T10:15:02",
          "tps_parcours_graph": "2018-01-01T00:12:31"
         },
         {
          "created_x": "2019-01-29T10:13:23",
          "tps_parcours_graph": "2018-01-01T00:12:31"
         },
         {
          "created_x": "2019-01-29T10:18:44",
          "tps_parcours_graph": "2018-01-01T00:12:31"
         },
         {
          "created_x": "2019-01-29T10:21:59",
          "tps_parcours_graph": "2018-01-01T00:12:31"
         },
         {
          "created_x": "2019-01-29T10:19:28",
          "tps_parcours_graph": "2018-01-01T00:12:31"
         },
         {
          "created_x": "2019-01-29T10:19:42",
          "tps_parcours_graph": "2018-01-01T00:12:31"
         },
         {
          "created_x": "2019-01-29T10:21:29",
          "tps_parcours_graph": "2018-01-01T00:12:31"
         },
         {
          "created_x": "2019-01-29T10:22:48",
          "tps_parcours_graph": "2018-01-01T00:12:31"
         },
         {
          "created_x": "2019-01-29T10:21:52",
          "tps_parcours_graph": "2018-01-01T00:12:31"
         },
         {
          "created_x": "2019-01-29T10:30:29",
          "tps_parcours_graph": "2018-01-01T00:12:31"
         },
         {
          "created_x": "2019-01-29T10:39:45",
          "tps_parcours_graph": "2018-01-01T00:12:31"
         },
         {
          "created_x": "2019-01-29T10:35:50",
          "tps_parcours_graph": "2018-01-01T00:12:31"
         },
         {
          "created_x": "2019-01-29T10:38:03",
          "tps_parcours_graph": "2018-01-01T00:12:31"
         },
         {
          "created_x": "2019-01-29T10:41:54",
          "tps_parcours_graph": "2018-01-01T00:12:31"
         },
         {
          "created_x": "2019-01-29T10:42:14",
          "tps_parcours_graph": "2018-01-01T00:12:31"
         },
         {
          "created_x": "2019-01-29T10:46:31",
          "tps_parcours_graph": "2018-01-01T00:12:31"
         },
         {
          "created_x": "2019-01-29T10:44:26",
          "tps_parcours_graph": "2018-01-01T00:12:31"
         },
         {
          "created_x": "2019-01-29T10:52:20",
          "tps_parcours_graph": "2018-01-01T00:12:31"
         },
         {
          "created_x": "2019-01-29T10:52:36",
          "tps_parcours_graph": "2018-01-01T00:12:31"
         },
         {
          "created_x": "2019-01-29T10:51:46",
          "tps_parcours_graph": "2018-01-01T00:12:31"
         },
         {
          "created_x": "2019-01-29T10:57:09",
          "tps_parcours_graph": "2018-01-01T00:12:31"
         },
         {
          "created_x": "2019-01-29T10:56:59",
          "tps_parcours_graph": "2018-01-01T00:12:31"
         },
         {
          "created_x": "2019-01-29T09:46:34",
          "tps_parcours_graph": "2018-01-01T00:12:31"
         },
         {
          "created_x": "2019-01-29T10:40:53",
          "tps_parcours_graph": "2018-01-01T00:12:31"
         },
         {
          "created_x": "2019-01-29T09:58:07",
          "tps_parcours_graph": "2018-01-01T00:12:31"
         },
         {
          "created_x": "2019-01-29T10:31:53",
          "tps_parcours_graph": "2018-01-01T00:12:31"
         },
         {
          "created_x": "2019-01-29T09:12:38",
          "tps_parcours_graph": "2018-01-01T00:12:31"
         },
         {
          "created_x": "2019-01-29T10:55:24",
          "tps_parcours_graph": "2018-01-01T00:12:31"
         },
         {
          "created_x": "2019-01-29T10:14:39",
          "tps_parcours_graph": "2018-01-01T00:12:31"
         },
         {
          "created_x": "2019-01-29T10:17:46",
          "tps_parcours_graph": "2018-01-01T00:12:31"
         },
         {
          "created_x": "2019-01-29T10:45:43",
          "tps_parcours_graph": "2018-01-01T00:12:31"
         },
         {
          "created_x": "2019-01-29T10:57:02",
          "tps_parcours_graph": "2018-01-01T00:12:31"
         },
         {
          "created_x": "2019-01-29T10:35:29",
          "tps_parcours_graph": "2018-01-01T00:12:31"
         },
         {
          "created_x": "2019-01-29T10:20:17",
          "tps_parcours_graph": "2018-01-01T00:12:31"
         },
         {
          "created_x": "2019-01-29T10:50:34",
          "tps_parcours_graph": "2018-01-01T00:12:31"
         },
         {
          "created_x": "2019-01-29T10:38:45",
          "tps_parcours_graph": "2018-01-01T00:12:31"
         },
         {
          "created_x": "2019-01-29T10:30:59",
          "tps_parcours_graph": "2018-01-01T00:12:31"
         },
         {
          "created_x": "2019-01-29T10:37:41",
          "tps_parcours_graph": "2018-01-01T00:12:31"
         },
         {
          "created_x": "2019-01-29T09:41:44",
          "tps_parcours_graph": "2018-01-01T00:12:31"
         }
        ]
       },
       "layer": [
        {
         "data": {
          "name": "data-025af1f51834830a15cfe920c28e1b9f"
         },
         "encoding": {
          "color": {
           "field": "cluster_num",
           "type": "nominal"
          },
          "shape": {
           "field": "cluster_num",
           "type": "nominal"
          },
          "tooltip": {
           "field": "tps_parcours",
           "timeUnit": "hoursminutes",
           "type": "temporal"
          },
          "x": {
           "field": "created_x",
           "type": "temporal"
          },
          "y": {
           "field": "tps_parcours",
           "timeUnit": "hoursminutes",
           "type": "temporal"
          }
         },
         "mark": "point",
         "selection": {
          "selector014": {
           "bind": "scales",
           "encodings": [
            "x",
            "y"
           ],
           "mark": {
            "fill": "#333",
            "fillOpacity": 0.125,
            "stroke": "white"
           },
           "on": "[mousedown, window:mouseup] > window:mousemove!",
           "resolve": "global",
           "translate": "[mousedown, window:mouseup] > window:mousemove!",
           "type": "interval",
           "zoom": "wheel!"
          }
         }
        },
        {
         "data": {
          "name": "data-dfe6c9b12dbd6b58099449ecb5303a9d"
         },
         "encoding": {
          "x": {
           "field": "created_x",
           "type": "temporal"
          },
          "y": {
           "field": "tps_parcours_graph",
           "timeUnit": "hoursminutes",
           "type": "temporal"
          }
         },
         "mark": {
          "color": "blue",
          "type": "line"
         }
        }
       ]
      },
      "image/png": "[encoded data removed]",
      "text/plain": [
       "<VegaLite 2 object>\n",
       "\n",
       "If you see this message, it means the renderer has not been properly enabled\n",
       "for the frontend that you are using. For more information, see\n",
       "https://altair-viz.github.io/user_guide/troubleshooting.html\n"
      ]
     },
     "execution_count": 252,
     "metadata": {},
     "output_type": "execute_result"
    }
   ],
   "source": [
    "graph_tps_bruts+graph_clust"
   ]
  },
  {
   "cell_type": "code",
   "execution_count": null,
   "metadata": {},
   "outputs": [],
   "source": []
  }
 ],
 "metadata": {
  "kernelspec": {
   "display_name": "Python 3",
   "language": "python",
   "name": "python3"
  },
  "language_info": {
   "codemirror_mode": {
    "name": "ipython",
    "version": 3
   },
   "file_extension": ".py",
   "mimetype": "text/x-python",
   "name": "python",
   "nbconvert_exporter": "python",
   "pygments_lexer": "ipython3",
   "version": "3.7.0"
  }
 },
 "nbformat": 4,
 "nbformat_minor": 2
}
