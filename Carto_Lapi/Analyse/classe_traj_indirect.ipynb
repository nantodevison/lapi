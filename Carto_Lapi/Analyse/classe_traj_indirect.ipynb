{
 "cells": [
  {
   "cell_type": "markdown",
   "metadata": {},
   "source": [
    "Test du projet de class trajets indirect"
   ]
  },
  {
   "cell_type": "code",
   "execution_count": 1,
   "metadata": {},
   "outputs": [
    {
     "ename": "UnicodeDecodeError",
     "evalue": "'utf-8' codec can't decode byte 0xe9 in position 85: invalid continuation byte",
     "output_type": "error",
     "traceback": [
      "\u001b[1;31m---------------------------------------------------------------------------\u001b[0m",
      "\u001b[1;31mUnicodeDecodeError\u001b[0m                        Traceback (most recent call last)",
      "\u001b[1;31mUnicodeDecodeError\u001b[0m: 'utf-8' codec can't decode byte 0xe9 in position 85: invalid continuation byte"
     ]
    },
    {
     "name": "stderr",
     "output_type": "stream",
     "text": [
      "Exception ignored in: 'fiona._env.log_error'\n",
      "UnicodeDecodeError: 'utf-8' codec can't decode byte 0xe9 in position 85: invalid continuation byte\n"
     ]
    },
    {
     "ename": "UnicodeDecodeError",
     "evalue": "'utf-8' codec can't decode byte 0xe9 in position 85: invalid continuation byte",
     "output_type": "error",
     "traceback": [
      "\u001b[1;31m---------------------------------------------------------------------------\u001b[0m",
      "\u001b[1;31mUnicodeDecodeError\u001b[0m                        Traceback (most recent call last)",
      "\u001b[1;31mUnicodeDecodeError\u001b[0m: 'utf-8' codec can't decode byte 0xe9 in position 85: invalid continuation byte"
     ]
    },
    {
     "name": "stderr",
     "output_type": "stream",
     "text": [
      "Exception ignored in: 'fiona._env.log_error'\n",
      "UnicodeDecodeError: 'utf-8' codec can't decode byte 0xe9 in position 85: invalid continuation byte\n"
     ]
    },
    {
     "ename": "UnicodeDecodeError",
     "evalue": "'utf-8' codec can't decode byte 0xe9 in position 86: invalid continuation byte",
     "output_type": "error",
     "traceback": [
      "\u001b[1;31m---------------------------------------------------------------------------\u001b[0m",
      "\u001b[1;31mUnicodeDecodeError\u001b[0m                        Traceback (most recent call last)",
      "\u001b[1;31mUnicodeDecodeError\u001b[0m: 'utf-8' codec can't decode byte 0xe9 in position 86: invalid continuation byte"
     ]
    },
    {
     "name": "stderr",
     "output_type": "stream",
     "text": [
      "Exception ignored in: 'fiona._env.log_error'\n",
      "UnicodeDecodeError: 'utf-8' codec can't decode byte 0xe9 in position 86: invalid continuation byte\n"
     ]
    },
    {
     "ename": "UnicodeDecodeError",
     "evalue": "'utf-8' codec can't decode byte 0xe9 in position 86: invalid continuation byte",
     "output_type": "error",
     "traceback": [
      "\u001b[1;31m---------------------------------------------------------------------------\u001b[0m",
      "\u001b[1;31mUnicodeDecodeError\u001b[0m                        Traceback (most recent call last)",
      "\u001b[1;31mUnicodeDecodeError\u001b[0m: 'utf-8' codec can't decode byte 0xe9 in position 86: invalid continuation byte"
     ]
    },
    {
     "name": "stderr",
     "output_type": "stream",
     "text": [
      "Exception ignored in: 'fiona._env.log_error'\n",
      "UnicodeDecodeError: 'utf-8' codec can't decode byte 0xe9 in position 86: invalid continuation byte\n"
     ]
    },
    {
     "ename": "UnicodeDecodeError",
     "evalue": "'utf-8' codec can't decode byte 0xe9 in position 85: invalid continuation byte",
     "output_type": "error",
     "traceback": [
      "\u001b[1;31m---------------------------------------------------------------------------\u001b[0m",
      "\u001b[1;31mUnicodeDecodeError\u001b[0m                        Traceback (most recent call last)",
      "\u001b[1;31mUnicodeDecodeError\u001b[0m: 'utf-8' codec can't decode byte 0xe9 in position 85: invalid continuation byte"
     ]
    },
    {
     "name": "stderr",
     "output_type": "stream",
     "text": [
      "Exception ignored in: 'fiona._env.log_error'\n",
      "UnicodeDecodeError: 'utf-8' codec can't decode byte 0xe9 in position 85: invalid continuation byte\n"
     ]
    },
    {
     "ename": "UnicodeDecodeError",
     "evalue": "'utf-8' codec can't decode byte 0xe9 in position 85: invalid continuation byte",
     "output_type": "error",
     "traceback": [
      "\u001b[1;31m---------------------------------------------------------------------------\u001b[0m",
      "\u001b[1;31mUnicodeDecodeError\u001b[0m                        Traceback (most recent call last)",
      "\u001b[1;31mUnicodeDecodeError\u001b[0m: 'utf-8' codec can't decode byte 0xe9 in position 85: invalid continuation byte"
     ]
    },
    {
     "name": "stderr",
     "output_type": "stream",
     "text": [
      "Exception ignored in: 'fiona._env.log_error'\n",
      "UnicodeDecodeError: 'utf-8' codec can't decode byte 0xe9 in position 85: invalid continuation byte\n"
     ]
    },
    {
     "ename": "UnicodeDecodeError",
     "evalue": "'utf-8' codec can't decode byte 0xe9 in position 86: invalid continuation byte",
     "output_type": "error",
     "traceback": [
      "\u001b[1;31m---------------------------------------------------------------------------\u001b[0m",
      "\u001b[1;31mUnicodeDecodeError\u001b[0m                        Traceback (most recent call last)",
      "\u001b[1;31mUnicodeDecodeError\u001b[0m: 'utf-8' codec can't decode byte 0xe9 in position 86: invalid continuation byte"
     ]
    },
    {
     "name": "stderr",
     "output_type": "stream",
     "text": [
      "Exception ignored in: 'fiona._env.log_error'\n",
      "UnicodeDecodeError: 'utf-8' codec can't decode byte 0xe9 in position 86: invalid continuation byte\n"
     ]
    },
    {
     "ename": "UnicodeDecodeError",
     "evalue": "'utf-8' codec can't decode byte 0xe9 in position 86: invalid continuation byte",
     "output_type": "error",
     "traceback": [
      "\u001b[1;31m---------------------------------------------------------------------------\u001b[0m",
      "\u001b[1;31mUnicodeDecodeError\u001b[0m                        Traceback (most recent call last)",
      "\u001b[1;31mUnicodeDecodeError\u001b[0m: 'utf-8' codec can't decode byte 0xe9 in position 86: invalid continuation byte"
     ]
    },
    {
     "name": "stderr",
     "output_type": "stream",
     "text": [
      "Exception ignored in: 'fiona._env.log_error'\n",
      "UnicodeDecodeError: 'utf-8' codec can't decode byte 0xe9 in position 86: invalid continuation byte\n"
     ]
    },
    {
     "ename": "UnicodeDecodeError",
     "evalue": "'utf-8' codec can't decode byte 0xe9 in position 91: invalid continuation byte",
     "output_type": "error",
     "traceback": [
      "\u001b[1;31m---------------------------------------------------------------------------\u001b[0m",
      "\u001b[1;31mUnicodeDecodeError\u001b[0m                        Traceback (most recent call last)",
      "\u001b[1;31mUnicodeDecodeError\u001b[0m: 'utf-8' codec can't decode byte 0xe9 in position 91: invalid continuation byte"
     ]
    },
    {
     "name": "stderr",
     "output_type": "stream",
     "text": [
      "Exception ignored in: 'fiona._env.log_error'\n",
      "UnicodeDecodeError: 'utf-8' codec can't decode byte 0xe9 in position 91: invalid continuation byte\n"
     ]
    },
    {
     "ename": "UnicodeDecodeError",
     "evalue": "'utf-8' codec can't decode byte 0xe9 in position 91: invalid continuation byte",
     "output_type": "error",
     "traceback": [
      "\u001b[1;31m---------------------------------------------------------------------------\u001b[0m",
      "\u001b[1;31mUnicodeDecodeError\u001b[0m                        Traceback (most recent call last)",
      "\u001b[1;31mUnicodeDecodeError\u001b[0m: 'utf-8' codec can't decode byte 0xe9 in position 91: invalid continuation byte"
     ]
    },
    {
     "name": "stderr",
     "output_type": "stream",
     "text": [
      "Exception ignored in: 'fiona._env.log_error'\n",
      "UnicodeDecodeError: 'utf-8' codec can't decode byte 0xe9 in position 91: invalid continuation byte\n"
     ]
    },
    {
     "ename": "UnicodeDecodeError",
     "evalue": "'utf-8' codec can't decode byte 0xe9 in position 86: invalid continuation byte",
     "output_type": "error",
     "traceback": [
      "\u001b[1;31m---------------------------------------------------------------------------\u001b[0m",
      "\u001b[1;31mUnicodeDecodeError\u001b[0m                        Traceback (most recent call last)",
      "\u001b[1;31mUnicodeDecodeError\u001b[0m: 'utf-8' codec can't decode byte 0xe9 in position 86: invalid continuation byte"
     ]
    },
    {
     "name": "stderr",
     "output_type": "stream",
     "text": [
      "Exception ignored in: 'fiona._env.log_error'\n",
      "UnicodeDecodeError: 'utf-8' codec can't decode byte 0xe9 in position 86: invalid continuation byte\n"
     ]
    },
    {
     "ename": "UnicodeDecodeError",
     "evalue": "'utf-8' codec can't decode byte 0xe9 in position 86: invalid continuation byte",
     "output_type": "error",
     "traceback": [
      "\u001b[1;31m---------------------------------------------------------------------------\u001b[0m",
      "\u001b[1;31mUnicodeDecodeError\u001b[0m                        Traceback (most recent call last)",
      "\u001b[1;31mUnicodeDecodeError\u001b[0m: 'utf-8' codec can't decode byte 0xe9 in position 86: invalid continuation byte"
     ]
    },
    {
     "name": "stderr",
     "output_type": "stream",
     "text": [
      "Exception ignored in: 'fiona._env.log_error'\n",
      "UnicodeDecodeError: 'utf-8' codec can't decode byte 0xe9 in position 86: invalid continuation byte\n"
     ]
    },
    {
     "ename": "UnicodeDecodeError",
     "evalue": "'utf-8' codec can't decode byte 0xe9 in position 91: invalid continuation byte",
     "output_type": "error",
     "traceback": [
      "\u001b[1;31m---------------------------------------------------------------------------\u001b[0m",
      "\u001b[1;31mUnicodeDecodeError\u001b[0m                        Traceback (most recent call last)",
      "\u001b[1;31mUnicodeDecodeError\u001b[0m: 'utf-8' codec can't decode byte 0xe9 in position 91: invalid continuation byte"
     ]
    },
    {
     "name": "stderr",
     "output_type": "stream",
     "text": [
      "Exception ignored in: 'fiona._env.log_error'\n",
      "UnicodeDecodeError: 'utf-8' codec can't decode byte 0xe9 in position 91: invalid continuation byte\n"
     ]
    },
    {
     "ename": "UnicodeDecodeError",
     "evalue": "'utf-8' codec can't decode byte 0xe9 in position 91: invalid continuation byte",
     "output_type": "error",
     "traceback": [
      "\u001b[1;31m---------------------------------------------------------------------------\u001b[0m",
      "\u001b[1;31mUnicodeDecodeError\u001b[0m                        Traceback (most recent call last)",
      "\u001b[1;31mUnicodeDecodeError\u001b[0m: 'utf-8' codec can't decode byte 0xe9 in position 91: invalid continuation byte"
     ]
    },
    {
     "name": "stderr",
     "output_type": "stream",
     "text": [
      "Exception ignored in: 'fiona._env.log_error'\n",
      "UnicodeDecodeError: 'utf-8' codec can't decode byte 0xe9 in position 91: invalid continuation byte\n"
     ]
    },
    {
     "ename": "UnicodeDecodeError",
     "evalue": "'utf-8' codec can't decode byte 0xe9 in position 85: invalid continuation byte",
     "output_type": "error",
     "traceback": [
      "\u001b[1;31m---------------------------------------------------------------------------\u001b[0m",
      "\u001b[1;31mUnicodeDecodeError\u001b[0m                        Traceback (most recent call last)",
      "\u001b[1;31mUnicodeDecodeError\u001b[0m: 'utf-8' codec can't decode byte 0xe9 in position 85: invalid continuation byte"
     ]
    },
    {
     "name": "stderr",
     "output_type": "stream",
     "text": [
      "Exception ignored in: 'fiona._env.log_error'\n",
      "UnicodeDecodeError: 'utf-8' codec can't decode byte 0xe9 in position 85: invalid continuation byte\n"
     ]
    },
    {
     "ename": "UnicodeDecodeError",
     "evalue": "'utf-8' codec can't decode byte 0xe9 in position 85: invalid continuation byte",
     "output_type": "error",
     "traceback": [
      "\u001b[1;31m---------------------------------------------------------------------------\u001b[0m",
      "\u001b[1;31mUnicodeDecodeError\u001b[0m                        Traceback (most recent call last)",
      "\u001b[1;31mUnicodeDecodeError\u001b[0m: 'utf-8' codec can't decode byte 0xe9 in position 85: invalid continuation byte"
     ]
    },
    {
     "name": "stderr",
     "output_type": "stream",
     "text": [
      "Exception ignored in: 'fiona._env.log_error'\n",
      "UnicodeDecodeError: 'utf-8' codec can't decode byte 0xe9 in position 85: invalid continuation byte\n"
     ]
    },
    {
     "ename": "UnicodeDecodeError",
     "evalue": "'utf-8' codec can't decode byte 0xe9 in position 88: invalid continuation byte",
     "output_type": "error",
     "traceback": [
      "\u001b[1;31m---------------------------------------------------------------------------\u001b[0m",
      "\u001b[1;31mUnicodeDecodeError\u001b[0m                        Traceback (most recent call last)",
      "\u001b[1;31mUnicodeDecodeError\u001b[0m: 'utf-8' codec can't decode byte 0xe9 in position 88: invalid continuation byte"
     ]
    },
    {
     "name": "stderr",
     "output_type": "stream",
     "text": [
      "Exception ignored in: 'fiona._env.log_error'\n",
      "UnicodeDecodeError: 'utf-8' codec can't decode byte 0xe9 in position 88: invalid continuation byte\n"
     ]
    },
    {
     "ename": "UnicodeDecodeError",
     "evalue": "'utf-8' codec can't decode byte 0xe9 in position 88: invalid continuation byte",
     "output_type": "error",
     "traceback": [
      "\u001b[1;31m---------------------------------------------------------------------------\u001b[0m",
      "\u001b[1;31mUnicodeDecodeError\u001b[0m                        Traceback (most recent call last)",
      "\u001b[1;31mUnicodeDecodeError\u001b[0m: 'utf-8' codec can't decode byte 0xe9 in position 88: invalid continuation byte"
     ]
    },
    {
     "name": "stderr",
     "output_type": "stream",
     "text": [
      "Exception ignored in: 'fiona._env.log_error'\n",
      "UnicodeDecodeError: 'utf-8' codec can't decode byte 0xe9 in position 88: invalid continuation byte\n"
     ]
    },
    {
     "ename": "UnicodeDecodeError",
     "evalue": "'utf-8' codec can't decode byte 0xe9 in position 85: invalid continuation byte",
     "output_type": "error",
     "traceback": [
      "\u001b[1;31m---------------------------------------------------------------------------\u001b[0m",
      "\u001b[1;31mUnicodeDecodeError\u001b[0m                        Traceback (most recent call last)",
      "\u001b[1;31mUnicodeDecodeError\u001b[0m: 'utf-8' codec can't decode byte 0xe9 in position 85: invalid continuation byte"
     ]
    },
    {
     "name": "stderr",
     "output_type": "stream",
     "text": [
      "Exception ignored in: 'fiona._env.log_error'\n",
      "UnicodeDecodeError: 'utf-8' codec can't decode byte 0xe9 in position 85: invalid continuation byte\n"
     ]
    },
    {
     "ename": "UnicodeDecodeError",
     "evalue": "'utf-8' codec can't decode byte 0xe9 in position 85: invalid continuation byte",
     "output_type": "error",
     "traceback": [
      "\u001b[1;31m---------------------------------------------------------------------------\u001b[0m",
      "\u001b[1;31mUnicodeDecodeError\u001b[0m                        Traceback (most recent call last)",
      "\u001b[1;31mUnicodeDecodeError\u001b[0m: 'utf-8' codec can't decode byte 0xe9 in position 85: invalid continuation byte"
     ]
    },
    {
     "name": "stderr",
     "output_type": "stream",
     "text": [
      "Exception ignored in: 'fiona._env.log_error'\n",
      "UnicodeDecodeError: 'utf-8' codec can't decode byte 0xe9 in position 85: invalid continuation byte\n"
     ]
    },
    {
     "ename": "UnicodeDecodeError",
     "evalue": "'utf-8' codec can't decode byte 0xe9 in position 86: invalid continuation byte",
     "output_type": "error",
     "traceback": [
      "\u001b[1;31m---------------------------------------------------------------------------\u001b[0m",
      "\u001b[1;31mUnicodeDecodeError\u001b[0m                        Traceback (most recent call last)",
      "\u001b[1;31mUnicodeDecodeError\u001b[0m: 'utf-8' codec can't decode byte 0xe9 in position 86: invalid continuation byte"
     ]
    },
    {
     "name": "stderr",
     "output_type": "stream",
     "text": [
      "Exception ignored in: 'fiona._env.log_error'\n",
      "UnicodeDecodeError: 'utf-8' codec can't decode byte 0xe9 in position 86: invalid continuation byte\n"
     ]
    },
    {
     "ename": "UnicodeDecodeError",
     "evalue": "'utf-8' codec can't decode byte 0xe9 in position 86: invalid continuation byte",
     "output_type": "error",
     "traceback": [
      "\u001b[1;31m---------------------------------------------------------------------------\u001b[0m",
      "\u001b[1;31mUnicodeDecodeError\u001b[0m                        Traceback (most recent call last)",
      "\u001b[1;31mUnicodeDecodeError\u001b[0m: 'utf-8' codec can't decode byte 0xe9 in position 86: invalid continuation byte"
     ]
    },
    {
     "name": "stderr",
     "output_type": "stream",
     "text": [
      "Exception ignored in: 'fiona._env.log_error'\n",
      "UnicodeDecodeError: 'utf-8' codec can't decode byte 0xe9 in position 86: invalid continuation byte\n"
     ]
    },
    {
     "ename": "UnicodeDecodeError",
     "evalue": "'utf-8' codec can't decode byte 0xe9 in position 85: invalid continuation byte",
     "output_type": "error",
     "traceback": [
      "\u001b[1;31m---------------------------------------------------------------------------\u001b[0m",
      "\u001b[1;31mUnicodeDecodeError\u001b[0m                        Traceback (most recent call last)",
      "\u001b[1;31mUnicodeDecodeError\u001b[0m: 'utf-8' codec can't decode byte 0xe9 in position 85: invalid continuation byte"
     ]
    },
    {
     "name": "stderr",
     "output_type": "stream",
     "text": [
      "Exception ignored in: 'fiona._env.log_error'\n",
      "UnicodeDecodeError: 'utf-8' codec can't decode byte 0xe9 in position 85: invalid continuation byte\n"
     ]
    },
    {
     "ename": "UnicodeDecodeError",
     "evalue": "'utf-8' codec can't decode byte 0xe9 in position 85: invalid continuation byte",
     "output_type": "error",
     "traceback": [
      "\u001b[1;31m---------------------------------------------------------------------------\u001b[0m",
      "\u001b[1;31mUnicodeDecodeError\u001b[0m                        Traceback (most recent call last)",
      "\u001b[1;31mUnicodeDecodeError\u001b[0m: 'utf-8' codec can't decode byte 0xe9 in position 85: invalid continuation byte"
     ]
    },
    {
     "name": "stderr",
     "output_type": "stream",
     "text": [
      "Exception ignored in: 'fiona._env.log_error'\n",
      "UnicodeDecodeError: 'utf-8' codec can't decode byte 0xe9 in position 85: invalid continuation byte\n"
     ]
    },
    {
     "ename": "UnicodeDecodeError",
     "evalue": "'utf-8' codec can't decode byte 0xe9 in position 86: invalid continuation byte",
     "output_type": "error",
     "traceback": [
      "\u001b[1;31m---------------------------------------------------------------------------\u001b[0m",
      "\u001b[1;31mUnicodeDecodeError\u001b[0m                        Traceback (most recent call last)",
      "\u001b[1;31mUnicodeDecodeError\u001b[0m: 'utf-8' codec can't decode byte 0xe9 in position 86: invalid continuation byte"
     ]
    },
    {
     "name": "stderr",
     "output_type": "stream",
     "text": [
      "Exception ignored in: 'fiona._env.log_error'\n",
      "UnicodeDecodeError: 'utf-8' codec can't decode byte 0xe9 in position 86: invalid continuation byte\n"
     ]
    },
    {
     "ename": "UnicodeDecodeError",
     "evalue": "'utf-8' codec can't decode byte 0xe9 in position 86: invalid continuation byte",
     "output_type": "error",
     "traceback": [
      "\u001b[1;31m---------------------------------------------------------------------------\u001b[0m",
      "\u001b[1;31mUnicodeDecodeError\u001b[0m                        Traceback (most recent call last)",
      "\u001b[1;31mUnicodeDecodeError\u001b[0m: 'utf-8' codec can't decode byte 0xe9 in position 86: invalid continuation byte"
     ]
    },
    {
     "name": "stderr",
     "output_type": "stream",
     "text": [
      "Exception ignored in: 'fiona._env.log_error'\n",
      "UnicodeDecodeError: 'utf-8' codec can't decode byte 0xe9 in position 86: invalid continuation byte\n"
     ]
    },
    {
     "ename": "UnicodeDecodeError",
     "evalue": "'utf-8' codec can't decode byte 0xe9 in position 91: invalid continuation byte",
     "output_type": "error",
     "traceback": [
      "\u001b[1;31m---------------------------------------------------------------------------\u001b[0m",
      "\u001b[1;31mUnicodeDecodeError\u001b[0m                        Traceback (most recent call last)",
      "\u001b[1;31mUnicodeDecodeError\u001b[0m: 'utf-8' codec can't decode byte 0xe9 in position 91: invalid continuation byte"
     ]
    },
    {
     "name": "stderr",
     "output_type": "stream",
     "text": [
      "Exception ignored in: 'fiona._env.log_error'\n",
      "UnicodeDecodeError: 'utf-8' codec can't decode byte 0xe9 in position 91: invalid continuation byte\n"
     ]
    },
    {
     "ename": "UnicodeDecodeError",
     "evalue": "'utf-8' codec can't decode byte 0xe9 in position 91: invalid continuation byte",
     "output_type": "error",
     "traceback": [
      "\u001b[1;31m---------------------------------------------------------------------------\u001b[0m",
      "\u001b[1;31mUnicodeDecodeError\u001b[0m                        Traceback (most recent call last)",
      "\u001b[1;31mUnicodeDecodeError\u001b[0m: 'utf-8' codec can't decode byte 0xe9 in position 91: invalid continuation byte"
     ]
    },
    {
     "name": "stderr",
     "output_type": "stream",
     "text": [
      "Exception ignored in: 'fiona._env.log_error'\n",
      "UnicodeDecodeError: 'utf-8' codec can't decode byte 0xe9 in position 91: invalid continuation byte\n"
     ]
    },
    {
     "ename": "UnicodeDecodeError",
     "evalue": "'utf-8' codec can't decode byte 0xe9 in position 86: invalid continuation byte",
     "output_type": "error",
     "traceback": [
      "\u001b[1;31m---------------------------------------------------------------------------\u001b[0m",
      "\u001b[1;31mUnicodeDecodeError\u001b[0m                        Traceback (most recent call last)",
      "\u001b[1;31mUnicodeDecodeError\u001b[0m: 'utf-8' codec can't decode byte 0xe9 in position 86: invalid continuation byte"
     ]
    },
    {
     "name": "stderr",
     "output_type": "stream",
     "text": [
      "Exception ignored in: 'fiona._env.log_error'\n",
      "UnicodeDecodeError: 'utf-8' codec can't decode byte 0xe9 in position 86: invalid continuation byte\n"
     ]
    },
    {
     "ename": "UnicodeDecodeError",
     "evalue": "'utf-8' codec can't decode byte 0xe9 in position 86: invalid continuation byte",
     "output_type": "error",
     "traceback": [
      "\u001b[1;31m---------------------------------------------------------------------------\u001b[0m",
      "\u001b[1;31mUnicodeDecodeError\u001b[0m                        Traceback (most recent call last)",
      "\u001b[1;31mUnicodeDecodeError\u001b[0m: 'utf-8' codec can't decode byte 0xe9 in position 86: invalid continuation byte"
     ]
    },
    {
     "name": "stderr",
     "output_type": "stream",
     "text": [
      "Exception ignored in: 'fiona._env.log_error'\n",
      "UnicodeDecodeError: 'utf-8' codec can't decode byte 0xe9 in position 86: invalid continuation byte\n"
     ]
    },
    {
     "ename": "UnicodeDecodeError",
     "evalue": "'utf-8' codec can't decode byte 0xe9 in position 91: invalid continuation byte",
     "output_type": "error",
     "traceback": [
      "\u001b[1;31m---------------------------------------------------------------------------\u001b[0m",
      "\u001b[1;31mUnicodeDecodeError\u001b[0m                        Traceback (most recent call last)",
      "\u001b[1;31mUnicodeDecodeError\u001b[0m: 'utf-8' codec can't decode byte 0xe9 in position 91: invalid continuation byte"
     ]
    },
    {
     "name": "stderr",
     "output_type": "stream",
     "text": [
      "Exception ignored in: 'fiona._env.log_error'\n",
      "UnicodeDecodeError: 'utf-8' codec can't decode byte 0xe9 in position 91: invalid continuation byte\n"
     ]
    },
    {
     "ename": "UnicodeDecodeError",
     "evalue": "'utf-8' codec can't decode byte 0xe9 in position 91: invalid continuation byte",
     "output_type": "error",
     "traceback": [
      "\u001b[1;31m---------------------------------------------------------------------------\u001b[0m",
      "\u001b[1;31mUnicodeDecodeError\u001b[0m                        Traceback (most recent call last)",
      "\u001b[1;31mUnicodeDecodeError\u001b[0m: 'utf-8' codec can't decode byte 0xe9 in position 91: invalid continuation byte"
     ]
    },
    {
     "name": "stderr",
     "output_type": "stream",
     "text": [
      "Exception ignored in: 'fiona._env.log_error'\n",
      "UnicodeDecodeError: 'utf-8' codec can't decode byte 0xe9 in position 91: invalid continuation byte\n"
     ]
    },
    {
     "ename": "UnicodeDecodeError",
     "evalue": "'utf-8' codec can't decode byte 0xe9 in position 85: invalid continuation byte",
     "output_type": "error",
     "traceback": [
      "\u001b[1;31m---------------------------------------------------------------------------\u001b[0m",
      "\u001b[1;31mUnicodeDecodeError\u001b[0m                        Traceback (most recent call last)",
      "\u001b[1;31mUnicodeDecodeError\u001b[0m: 'utf-8' codec can't decode byte 0xe9 in position 85: invalid continuation byte"
     ]
    },
    {
     "name": "stderr",
     "output_type": "stream",
     "text": [
      "Exception ignored in: 'fiona._env.log_error'\n",
      "UnicodeDecodeError: 'utf-8' codec can't decode byte 0xe9 in position 85: invalid continuation byte\n"
     ]
    },
    {
     "ename": "UnicodeDecodeError",
     "evalue": "'utf-8' codec can't decode byte 0xe9 in position 85: invalid continuation byte",
     "output_type": "error",
     "traceback": [
      "\u001b[1;31m---------------------------------------------------------------------------\u001b[0m",
      "\u001b[1;31mUnicodeDecodeError\u001b[0m                        Traceback (most recent call last)",
      "\u001b[1;31mUnicodeDecodeError\u001b[0m: 'utf-8' codec can't decode byte 0xe9 in position 85: invalid continuation byte"
     ]
    },
    {
     "name": "stderr",
     "output_type": "stream",
     "text": [
      "Exception ignored in: 'fiona._env.log_error'\n",
      "UnicodeDecodeError: 'utf-8' codec can't decode byte 0xe9 in position 85: invalid continuation byte\n"
     ]
    },
    {
     "ename": "UnicodeDecodeError",
     "evalue": "'utf-8' codec can't decode byte 0xe9 in position 88: invalid continuation byte",
     "output_type": "error",
     "traceback": [
      "\u001b[1;31m---------------------------------------------------------------------------\u001b[0m",
      "\u001b[1;31mUnicodeDecodeError\u001b[0m                        Traceback (most recent call last)",
      "\u001b[1;31mUnicodeDecodeError\u001b[0m: 'utf-8' codec can't decode byte 0xe9 in position 88: invalid continuation byte"
     ]
    },
    {
     "name": "stderr",
     "output_type": "stream",
     "text": [
      "Exception ignored in: 'fiona._env.log_error'\n",
      "UnicodeDecodeError: 'utf-8' codec can't decode byte 0xe9 in position 88: invalid continuation byte\n"
     ]
    },
    {
     "ename": "UnicodeDecodeError",
     "evalue": "'utf-8' codec can't decode byte 0xe9 in position 88: invalid continuation byte",
     "output_type": "error",
     "traceback": [
      "\u001b[1;31m---------------------------------------------------------------------------\u001b[0m",
      "\u001b[1;31mUnicodeDecodeError\u001b[0m                        Traceback (most recent call last)",
      "\u001b[1;31mUnicodeDecodeError\u001b[0m: 'utf-8' codec can't decode byte 0xe9 in position 88: invalid continuation byte"
     ]
    },
    {
     "name": "stderr",
     "output_type": "stream",
     "text": [
      "Exception ignored in: 'fiona._env.log_error'\n",
      "UnicodeDecodeError: 'utf-8' codec can't decode byte 0xe9 in position 88: invalid continuation byte\n"
     ]
    }
   ],
   "source": [
    "%load_ext autoreload\n",
    "%autoreload 2\n",
    "import sys #c'est pas propre mais pour le moment pour importer mes modules perso dans le notebook je ne sais pas faire\n",
    "sys.path.append(r'C:\\Users\\Martin\\git\\Outils\\Outils\\Martin_Perso')\n",
    "import traitement_od as t\n",
    "import fiona\n",
    "import pandas as pd\n",
    "import numpy as np\n",
    "import altair as alt\n",
    "import datetime as dt"
   ]
  },
  {
   "cell_type": "code",
   "execution_count": 2,
   "metadata": {},
   "outputs": [],
   "source": [
    "df_journee=t.ouvrir_fichier_lapi('2019-01-29 00:00:00','2019-01-30 23:59:00')"
   ]
  },
  {
   "cell_type": "code",
   "execution_count": 6,
   "metadata": {},
   "outputs": [],
   "source": [
    "toto=t.trajet_indirect(df_journee,'2019-01-29 08:00:00', 60, 16, 19,4,5)"
   ]
  },
  {
   "cell_type": "code",
   "execution_count": 9,
   "metadata": {},
   "outputs": [
    {
     "data": {
      "text/html": [
       "<div>\n",
       "<style scoped>\n",
       "    .dataframe tbody tr th:only-of-type {\n",
       "        vertical-align: middle;\n",
       "    }\n",
       "\n",
       "    .dataframe tbody tr th {\n",
       "        vertical-align: top;\n",
       "    }\n",
       "\n",
       "    .dataframe thead th {\n",
       "        text-align: right;\n",
       "    }\n",
       "</style>\n",
       "<table border=\"1\" class=\"dataframe\">\n",
       "  <thead>\n",
       "    <tr style=\"text-align: right;\">\n",
       "      <th></th>\n",
       "      <th>immat</th>\n",
       "      <th>date_cam_1</th>\n",
       "      <th>cam_1</th>\n",
       "      <th>date_cam_2</th>\n",
       "      <th>cam_2</th>\n",
       "      <th>tps_parcours</th>\n",
       "    </tr>\n",
       "  </thead>\n",
       "  <tbody>\n",
       "    <tr>\n",
       "      <th>12</th>\n",
       "      <td>8d7d61f80214c40a73abfdbe3d5f1c15477a5bf2</td>\n",
       "      <td>2019-01-29 08:09:48</td>\n",
       "      <td>4</td>\n",
       "      <td>2019-01-29 08:21:21</td>\n",
       "      <td>5</td>\n",
       "      <td>00:11:33</td>\n",
       "    </tr>\n",
       "    <tr>\n",
       "      <th>16</th>\n",
       "      <td>22cc467142bbafdd4e3c4c575a99e94be32ee298</td>\n",
       "      <td>2019-01-29 08:11:20</td>\n",
       "      <td>4</td>\n",
       "      <td>2019-01-29 08:21:57</td>\n",
       "      <td>5</td>\n",
       "      <td>00:10:37</td>\n",
       "    </tr>\n",
       "    <tr>\n",
       "      <th>22</th>\n",
       "      <td>1da7ad5637f24c08d9a8bb1da3f932c21e8dd47c</td>\n",
       "      <td>2019-01-29 08:11:08</td>\n",
       "      <td>4</td>\n",
       "      <td>2019-01-29 08:22:36</td>\n",
       "      <td>5</td>\n",
       "      <td>00:11:28</td>\n",
       "    </tr>\n",
       "    <tr>\n",
       "      <th>29</th>\n",
       "      <td>872b35cfae009acf241339de4d4d0322e59eb6ae</td>\n",
       "      <td>2019-01-29 08:12:32</td>\n",
       "      <td>4</td>\n",
       "      <td>2019-01-29 08:23:14</td>\n",
       "      <td>5</td>\n",
       "      <td>00:10:42</td>\n",
       "    </tr>\n",
       "    <tr>\n",
       "      <th>31</th>\n",
       "      <td>082785ab1b62a53bcecfcd5406e51393661a0cb9</td>\n",
       "      <td>2019-01-29 08:11:41</td>\n",
       "      <td>4</td>\n",
       "      <td>2019-01-29 08:23:34</td>\n",
       "      <td>5</td>\n",
       "      <td>00:11:53</td>\n",
       "    </tr>\n",
       "    <tr>\n",
       "      <th>34</th>\n",
       "      <td>d8d68da75738b2959930e5f9c7010a0580ea9305</td>\n",
       "      <td>2019-01-29 08:12:56</td>\n",
       "      <td>4</td>\n",
       "      <td>2019-01-29 08:24:12</td>\n",
       "      <td>5</td>\n",
       "      <td>00:11:16</td>\n",
       "    </tr>\n",
       "    <tr>\n",
       "      <th>41</th>\n",
       "      <td>2efcb71257c0debbcbf191e4513e4b8f6f794fc5</td>\n",
       "      <td>2019-01-29 08:13:03</td>\n",
       "      <td>4</td>\n",
       "      <td>2019-01-29 08:25:00</td>\n",
       "      <td>5</td>\n",
       "      <td>00:11:57</td>\n",
       "    </tr>\n",
       "    <tr>\n",
       "      <th>43</th>\n",
       "      <td>c3da32d2c4282a84ac4575e831db19bb776bedcf</td>\n",
       "      <td>2019-01-29 08:15:08</td>\n",
       "      <td>4</td>\n",
       "      <td>2019-01-29 08:25:03</td>\n",
       "      <td>5</td>\n",
       "      <td>00:09:55</td>\n",
       "    </tr>\n",
       "    <tr>\n",
       "      <th>47</th>\n",
       "      <td>c9f95c1d0bb81e7d15bedf8ea255d41a3cef1633</td>\n",
       "      <td>2019-01-29 08:13:59</td>\n",
       "      <td>4</td>\n",
       "      <td>2019-01-29 08:25:25</td>\n",
       "      <td>5</td>\n",
       "      <td>00:11:26</td>\n",
       "    </tr>\n",
       "    <tr>\n",
       "      <th>57</th>\n",
       "      <td>e52a912dd4771bc06baf46f2dd404b51b4a26af7</td>\n",
       "      <td>2019-01-29 08:15:34</td>\n",
       "      <td>4</td>\n",
       "      <td>2019-01-29 08:26:54</td>\n",
       "      <td>5</td>\n",
       "      <td>00:11:20</td>\n",
       "    </tr>\n",
       "    <tr>\n",
       "      <th>66</th>\n",
       "      <td>fe1c8603ce09e5e0c23904e080c2d9132517286d</td>\n",
       "      <td>2019-01-29 08:16:37</td>\n",
       "      <td>4</td>\n",
       "      <td>2019-01-29 08:27:37</td>\n",
       "      <td>5</td>\n",
       "      <td>00:11:00</td>\n",
       "    </tr>\n",
       "    <tr>\n",
       "      <th>73</th>\n",
       "      <td>382ff3d11f92aaa8d00c7e8061ff61c0eecbfc00</td>\n",
       "      <td>2019-01-29 08:17:17</td>\n",
       "      <td>4</td>\n",
       "      <td>2019-01-29 08:28:22</td>\n",
       "      <td>5</td>\n",
       "      <td>00:11:05</td>\n",
       "    </tr>\n",
       "    <tr>\n",
       "      <th>75</th>\n",
       "      <td>87c5316a4c51b2afb3190ca4ab546b48ae35b96f</td>\n",
       "      <td>2019-01-29 08:17:23</td>\n",
       "      <td>4</td>\n",
       "      <td>2019-01-29 08:28:51</td>\n",
       "      <td>5</td>\n",
       "      <td>00:11:28</td>\n",
       "    </tr>\n",
       "    <tr>\n",
       "      <th>79</th>\n",
       "      <td>d1279605715e1c9cc669a398755c1c87c7a7e95e</td>\n",
       "      <td>2019-01-29 08:18:32</td>\n",
       "      <td>4</td>\n",
       "      <td>2019-01-29 08:29:07</td>\n",
       "      <td>5</td>\n",
       "      <td>00:10:35</td>\n",
       "    </tr>\n",
       "    <tr>\n",
       "      <th>87</th>\n",
       "      <td>c80183d1bc14cb4ddfd9e6c7bb3458302253d009</td>\n",
       "      <td>2019-01-29 08:19:15</td>\n",
       "      <td>4</td>\n",
       "      <td>2019-01-29 08:30:18</td>\n",
       "      <td>5</td>\n",
       "      <td>00:11:03</td>\n",
       "    </tr>\n",
       "    <tr>\n",
       "      <th>91</th>\n",
       "      <td>eb6b0e2bc49e9ea29fb491193621a90417323bf4</td>\n",
       "      <td>2019-01-29 08:18:39</td>\n",
       "      <td>4</td>\n",
       "      <td>2019-01-29 08:30:39</td>\n",
       "      <td>5</td>\n",
       "      <td>00:12:00</td>\n",
       "    </tr>\n",
       "    <tr>\n",
       "      <th>104</th>\n",
       "      <td>22c1bb872a3d5aff571ac81f4f1b9290116911e9</td>\n",
       "      <td>2019-01-29 08:21:29</td>\n",
       "      <td>4</td>\n",
       "      <td>2019-01-29 08:32:53</td>\n",
       "      <td>5</td>\n",
       "      <td>00:11:24</td>\n",
       "    </tr>\n",
       "    <tr>\n",
       "      <th>105</th>\n",
       "      <td>a7e4a67e8836b4fdb72688baca377534f6add717</td>\n",
       "      <td>2019-01-29 08:21:30</td>\n",
       "      <td>4</td>\n",
       "      <td>2019-01-29 08:32:54</td>\n",
       "      <td>5</td>\n",
       "      <td>00:11:24</td>\n",
       "    </tr>\n",
       "    <tr>\n",
       "      <th>109</th>\n",
       "      <td>7f98cb0a0235ce3d2fc4f60f08013a41c5db91f4</td>\n",
       "      <td>2019-01-29 08:22:24</td>\n",
       "      <td>4</td>\n",
       "      <td>2019-01-29 08:33:51</td>\n",
       "      <td>5</td>\n",
       "      <td>00:11:27</td>\n",
       "    </tr>\n",
       "    <tr>\n",
       "      <th>115</th>\n",
       "      <td>f25b2cd42e0b20614640abc3418ec2af63af5042</td>\n",
       "      <td>2019-01-29 08:23:30</td>\n",
       "      <td>4</td>\n",
       "      <td>2019-01-29 08:34:25</td>\n",
       "      <td>5</td>\n",
       "      <td>00:10:55</td>\n",
       "    </tr>\n",
       "    <tr>\n",
       "      <th>119</th>\n",
       "      <td>10328696b496f296a71ba458fe3838db198db241</td>\n",
       "      <td>2019-01-29 08:23:29</td>\n",
       "      <td>4</td>\n",
       "      <td>2019-01-29 08:34:45</td>\n",
       "      <td>5</td>\n",
       "      <td>00:11:16</td>\n",
       "    </tr>\n",
       "    <tr>\n",
       "      <th>123</th>\n",
       "      <td>6164dc86a8559ff44f221193b0e67ad1d4f5d02b</td>\n",
       "      <td>2019-01-29 08:23:12</td>\n",
       "      <td>4</td>\n",
       "      <td>2019-01-29 08:35:03</td>\n",
       "      <td>5</td>\n",
       "      <td>00:11:51</td>\n",
       "    </tr>\n",
       "    <tr>\n",
       "      <th>125</th>\n",
       "      <td>a75033c85bd9fd6456a78bfdd859bd18b98e0f41</td>\n",
       "      <td>2019-01-29 08:24:08</td>\n",
       "      <td>4</td>\n",
       "      <td>2019-01-29 08:35:09</td>\n",
       "      <td>5</td>\n",
       "      <td>00:11:01</td>\n",
       "    </tr>\n",
       "    <tr>\n",
       "      <th>128</th>\n",
       "      <td>2dca9f2506ef4f67da0255625f046d1b40348d6e</td>\n",
       "      <td>2019-01-29 08:23:39</td>\n",
       "      <td>4</td>\n",
       "      <td>2019-01-29 08:35:20</td>\n",
       "      <td>5</td>\n",
       "      <td>00:11:41</td>\n",
       "    </tr>\n",
       "    <tr>\n",
       "      <th>132</th>\n",
       "      <td>914a3afe6d6abb263b99c20884c88ae7c8a383dd</td>\n",
       "      <td>2019-01-29 08:24:34</td>\n",
       "      <td>4</td>\n",
       "      <td>2019-01-29 08:35:38</td>\n",
       "      <td>5</td>\n",
       "      <td>00:11:04</td>\n",
       "    </tr>\n",
       "    <tr>\n",
       "      <th>142</th>\n",
       "      <td>7b02bc854e5fe72f9252b6b844bf20a5d17dd355</td>\n",
       "      <td>2019-01-29 08:25:14</td>\n",
       "      <td>4</td>\n",
       "      <td>2019-01-29 08:36:49</td>\n",
       "      <td>5</td>\n",
       "      <td>00:11:35</td>\n",
       "    </tr>\n",
       "    <tr>\n",
       "      <th>145</th>\n",
       "      <td>cf4f7ddbb3a6d9006e029777df712a53c2d76992</td>\n",
       "      <td>2019-01-29 08:25:49</td>\n",
       "      <td>4</td>\n",
       "      <td>2019-01-29 08:37:04</td>\n",
       "      <td>5</td>\n",
       "      <td>00:11:15</td>\n",
       "    </tr>\n",
       "    <tr>\n",
       "      <th>147</th>\n",
       "      <td>bf9dfd50a4a693085e3080156f11c25314f96f03</td>\n",
       "      <td>2019-01-29 08:25:34</td>\n",
       "      <td>4</td>\n",
       "      <td>2019-01-29 08:37:18</td>\n",
       "      <td>5</td>\n",
       "      <td>00:11:44</td>\n",
       "    </tr>\n",
       "    <tr>\n",
       "      <th>149</th>\n",
       "      <td>183bc8585ac5a2e26b6d2ada6ce6891235a36b92</td>\n",
       "      <td>2019-01-29 08:26:02</td>\n",
       "      <td>4</td>\n",
       "      <td>2019-01-29 08:37:20</td>\n",
       "      <td>5</td>\n",
       "      <td>00:11:18</td>\n",
       "    </tr>\n",
       "    <tr>\n",
       "      <th>153</th>\n",
       "      <td>dcf2ffa7638b1ae7d0281cbb94d4c7cf0a0912f7</td>\n",
       "      <td>2019-01-29 08:26:14</td>\n",
       "      <td>4</td>\n",
       "      <td>2019-01-29 08:37:42</td>\n",
       "      <td>5</td>\n",
       "      <td>00:11:28</td>\n",
       "    </tr>\n",
       "    <tr>\n",
       "      <th>...</th>\n",
       "      <td>...</td>\n",
       "      <td>...</td>\n",
       "      <td>...</td>\n",
       "      <td>...</td>\n",
       "      <td>...</td>\n",
       "      <td>...</td>\n",
       "    </tr>\n",
       "    <tr>\n",
       "      <th>757</th>\n",
       "      <td>810ad157955f8e6bebd90a787adcd2037f19ce52</td>\n",
       "      <td>2019-01-29 09:28:40</td>\n",
       "      <td>4</td>\n",
       "      <td>2019-01-29 09:40:34</td>\n",
       "      <td>5</td>\n",
       "      <td>00:11:54</td>\n",
       "    </tr>\n",
       "    <tr>\n",
       "      <th>759</th>\n",
       "      <td>efcc8868791403e97081d97b26f7b71df6482b18</td>\n",
       "      <td>2019-01-29 09:29:55</td>\n",
       "      <td>4</td>\n",
       "      <td>2019-01-29 09:40:49</td>\n",
       "      <td>5</td>\n",
       "      <td>00:10:54</td>\n",
       "    </tr>\n",
       "    <tr>\n",
       "      <th>764</th>\n",
       "      <td>198d6649cc368054531dc6b70d7905579a948dac</td>\n",
       "      <td>2019-01-29 09:29:42</td>\n",
       "      <td>4</td>\n",
       "      <td>2019-01-29 09:41:30</td>\n",
       "      <td>5</td>\n",
       "      <td>00:11:48</td>\n",
       "    </tr>\n",
       "    <tr>\n",
       "      <th>769</th>\n",
       "      <td>3577cb098d1c4d504f67633ba90edb21afd1de7b</td>\n",
       "      <td>2019-01-29 09:29:36</td>\n",
       "      <td>4</td>\n",
       "      <td>2019-01-29 09:41:38</td>\n",
       "      <td>5</td>\n",
       "      <td>00:12:02</td>\n",
       "    </tr>\n",
       "    <tr>\n",
       "      <th>771</th>\n",
       "      <td>a62ee65e0836ad42843e6c19ce178fb1bb25d506</td>\n",
       "      <td>2019-01-29 09:30:18</td>\n",
       "      <td>4</td>\n",
       "      <td>2019-01-29 09:42:04</td>\n",
       "      <td>5</td>\n",
       "      <td>00:11:46</td>\n",
       "    </tr>\n",
       "    <tr>\n",
       "      <th>774</th>\n",
       "      <td>4dd95effcdb8a4d394108acc434173dfef140864</td>\n",
       "      <td>2019-01-29 09:30:30</td>\n",
       "      <td>4</td>\n",
       "      <td>2019-01-29 09:42:29</td>\n",
       "      <td>5</td>\n",
       "      <td>00:11:59</td>\n",
       "    </tr>\n",
       "    <tr>\n",
       "      <th>777</th>\n",
       "      <td>be77f4806c2d40134aaa5fed23445d43abd5f4c8</td>\n",
       "      <td>2019-01-29 09:30:41</td>\n",
       "      <td>4</td>\n",
       "      <td>2019-01-29 09:42:40</td>\n",
       "      <td>5</td>\n",
       "      <td>00:11:59</td>\n",
       "    </tr>\n",
       "    <tr>\n",
       "      <th>778</th>\n",
       "      <td>cf60217014cf06e5d941fbe84ad1cdcf6a8b9ed3</td>\n",
       "      <td>2019-01-29 09:30:53</td>\n",
       "      <td>4</td>\n",
       "      <td>2019-01-29 09:42:43</td>\n",
       "      <td>5</td>\n",
       "      <td>00:11:50</td>\n",
       "    </tr>\n",
       "    <tr>\n",
       "      <th>782</th>\n",
       "      <td>0d23c96a7ed0064a434e1c7b87b5703fdc572e2e</td>\n",
       "      <td>2019-01-29 09:31:01</td>\n",
       "      <td>4</td>\n",
       "      <td>2019-01-29 09:43:00</td>\n",
       "      <td>5</td>\n",
       "      <td>00:11:59</td>\n",
       "    </tr>\n",
       "    <tr>\n",
       "      <th>784</th>\n",
       "      <td>7a558c6c891dac0058f0bce83d066c5805ff3495</td>\n",
       "      <td>2019-01-29 09:32:59</td>\n",
       "      <td>4</td>\n",
       "      <td>2019-01-29 09:43:08</td>\n",
       "      <td>5</td>\n",
       "      <td>00:10:09</td>\n",
       "    </tr>\n",
       "    <tr>\n",
       "      <th>787</th>\n",
       "      <td>bd8987fa80d611c7932eb24395e994ba01db5b54</td>\n",
       "      <td>2019-01-29 09:31:54</td>\n",
       "      <td>4</td>\n",
       "      <td>2019-01-29 09:43:21</td>\n",
       "      <td>5</td>\n",
       "      <td>00:11:27</td>\n",
       "    </tr>\n",
       "    <tr>\n",
       "      <th>788</th>\n",
       "      <td>3559eda62ff40053aa6d7260f1474fc1daa4aba5</td>\n",
       "      <td>2019-01-29 09:32:16</td>\n",
       "      <td>4</td>\n",
       "      <td>2019-01-29 09:43:22</td>\n",
       "      <td>5</td>\n",
       "      <td>00:11:06</td>\n",
       "    </tr>\n",
       "    <tr>\n",
       "      <th>791</th>\n",
       "      <td>100f74935e1a61ee05ece86ada3781657ffec36c</td>\n",
       "      <td>2019-01-29 09:31:24</td>\n",
       "      <td>4</td>\n",
       "      <td>2019-01-29 09:43:31</td>\n",
       "      <td>5</td>\n",
       "      <td>00:12:07</td>\n",
       "    </tr>\n",
       "    <tr>\n",
       "      <th>792</th>\n",
       "      <td>67a5b67e31e5da35d6191a31565348ad0fedbc39</td>\n",
       "      <td>2019-01-29 09:31:50</td>\n",
       "      <td>4</td>\n",
       "      <td>2019-01-29 09:43:31</td>\n",
       "      <td>5</td>\n",
       "      <td>00:11:41</td>\n",
       "    </tr>\n",
       "    <tr>\n",
       "      <th>795</th>\n",
       "      <td>35edc12834b3219b2dd0b32d236d6c8c9ddf728c</td>\n",
       "      <td>2019-01-29 09:32:56</td>\n",
       "      <td>4</td>\n",
       "      <td>2019-01-29 09:43:56</td>\n",
       "      <td>5</td>\n",
       "      <td>00:11:00</td>\n",
       "    </tr>\n",
       "    <tr>\n",
       "      <th>796</th>\n",
       "      <td>fa8d0c891fa75116b06384c77d28e4332e7a0836</td>\n",
       "      <td>2019-01-29 09:32:37</td>\n",
       "      <td>4</td>\n",
       "      <td>2019-01-29 09:43:58</td>\n",
       "      <td>5</td>\n",
       "      <td>00:11:21</td>\n",
       "    </tr>\n",
       "    <tr>\n",
       "      <th>804</th>\n",
       "      <td>26cd1f6e1174e2d94b3ede78ef71ba2b4f7190e5</td>\n",
       "      <td>2019-01-29 09:32:52</td>\n",
       "      <td>4</td>\n",
       "      <td>2019-01-29 09:44:54</td>\n",
       "      <td>5</td>\n",
       "      <td>00:12:02</td>\n",
       "    </tr>\n",
       "    <tr>\n",
       "      <th>805</th>\n",
       "      <td>9324940650eaedf576ef0cb8362e462c52b82f8c</td>\n",
       "      <td>2019-01-29 09:33:06</td>\n",
       "      <td>4</td>\n",
       "      <td>2019-01-29 09:44:57</td>\n",
       "      <td>5</td>\n",
       "      <td>00:11:51</td>\n",
       "    </tr>\n",
       "    <tr>\n",
       "      <th>808</th>\n",
       "      <td>a8208a311cb39b8fe398a462f4e4b6b6e45fdf9e</td>\n",
       "      <td>2019-01-29 09:33:48</td>\n",
       "      <td>4</td>\n",
       "      <td>2019-01-29 09:45:12</td>\n",
       "      <td>5</td>\n",
       "      <td>00:11:24</td>\n",
       "    </tr>\n",
       "    <tr>\n",
       "      <th>818</th>\n",
       "      <td>dd9e8506044130a36f4af6c4bd450e3d738c257e</td>\n",
       "      <td>2019-01-29 09:34:54</td>\n",
       "      <td>4</td>\n",
       "      <td>2019-01-29 09:45:57</td>\n",
       "      <td>5</td>\n",
       "      <td>00:11:03</td>\n",
       "    </tr>\n",
       "    <tr>\n",
       "      <th>822</th>\n",
       "      <td>71464cec4ca957b7aa5283bfe9e33d77f942eb4a</td>\n",
       "      <td>2019-01-29 09:35:24</td>\n",
       "      <td>4</td>\n",
       "      <td>2019-01-29 09:47:12</td>\n",
       "      <td>5</td>\n",
       "      <td>00:11:48</td>\n",
       "    </tr>\n",
       "    <tr>\n",
       "      <th>826</th>\n",
       "      <td>a3a983c983807af46af26b033720a6bb557e1883</td>\n",
       "      <td>2019-01-29 09:36:19</td>\n",
       "      <td>4</td>\n",
       "      <td>2019-01-29 09:47:30</td>\n",
       "      <td>5</td>\n",
       "      <td>00:11:11</td>\n",
       "    </tr>\n",
       "    <tr>\n",
       "      <th>827</th>\n",
       "      <td>bfdbf729252df19f59a743556e9535f7f0a59ec6</td>\n",
       "      <td>2019-01-29 09:36:29</td>\n",
       "      <td>4</td>\n",
       "      <td>2019-01-29 09:47:35</td>\n",
       "      <td>5</td>\n",
       "      <td>00:11:06</td>\n",
       "    </tr>\n",
       "    <tr>\n",
       "      <th>834</th>\n",
       "      <td>c1ffdb0ce3338f305f90f34ac2672ac7b48c7dd1</td>\n",
       "      <td>2019-01-29 09:36:56</td>\n",
       "      <td>4</td>\n",
       "      <td>2019-01-29 09:48:11</td>\n",
       "      <td>5</td>\n",
       "      <td>00:11:15</td>\n",
       "    </tr>\n",
       "    <tr>\n",
       "      <th>836</th>\n",
       "      <td>0d74fc90ccca84c762b161af942823c6d5e56a29</td>\n",
       "      <td>2019-01-29 09:36:44</td>\n",
       "      <td>4</td>\n",
       "      <td>2019-01-29 09:48:22</td>\n",
       "      <td>5</td>\n",
       "      <td>00:11:38</td>\n",
       "    </tr>\n",
       "    <tr>\n",
       "      <th>846</th>\n",
       "      <td>9dda9ea4fb59544b48fed5c02fc050bae10c1990</td>\n",
       "      <td>2019-01-29 09:38:56</td>\n",
       "      <td>4</td>\n",
       "      <td>2019-01-29 09:50:04</td>\n",
       "      <td>5</td>\n",
       "      <td>00:11:08</td>\n",
       "    </tr>\n",
       "    <tr>\n",
       "      <th>848</th>\n",
       "      <td>b5cb33e5f12120e85f236693aeceeb216e17bf16</td>\n",
       "      <td>2019-01-29 09:39:18</td>\n",
       "      <td>4</td>\n",
       "      <td>2019-01-29 09:50:09</td>\n",
       "      <td>5</td>\n",
       "      <td>00:10:51</td>\n",
       "    </tr>\n",
       "    <tr>\n",
       "      <th>850</th>\n",
       "      <td>0476ea61aa4681a629cad024ccef907bcbeb9b70</td>\n",
       "      <td>2019-01-29 09:38:51</td>\n",
       "      <td>4</td>\n",
       "      <td>2019-01-29 09:50:15</td>\n",
       "      <td>5</td>\n",
       "      <td>00:11:24</td>\n",
       "    </tr>\n",
       "    <tr>\n",
       "      <th>851</th>\n",
       "      <td>272d14f615b8dc8b4d0b0cd264a9c8bb71682dfb</td>\n",
       "      <td>2019-01-29 09:38:24</td>\n",
       "      <td>4</td>\n",
       "      <td>2019-01-29 09:50:18</td>\n",
       "      <td>5</td>\n",
       "      <td>00:11:54</td>\n",
       "    </tr>\n",
       "    <tr>\n",
       "      <th>854</th>\n",
       "      <td>dc0b74f995e3ff24c6604b3e8c172a4d8fba0b60</td>\n",
       "      <td>2019-01-29 09:39:32</td>\n",
       "      <td>4</td>\n",
       "      <td>2019-01-29 09:50:25</td>\n",
       "      <td>5</td>\n",
       "      <td>00:10:53</td>\n",
       "    </tr>\n",
       "  </tbody>\n",
       "</table>\n",
       "<p>267 rows × 6 columns</p>\n",
       "</div>"
      ],
      "text/plain": [
       "                                        immat          date_cam_1  cam_1  \\\n",
       "12   8d7d61f80214c40a73abfdbe3d5f1c15477a5bf2 2019-01-29 08:09:48      4   \n",
       "16   22cc467142bbafdd4e3c4c575a99e94be32ee298 2019-01-29 08:11:20      4   \n",
       "22   1da7ad5637f24c08d9a8bb1da3f932c21e8dd47c 2019-01-29 08:11:08      4   \n",
       "29   872b35cfae009acf241339de4d4d0322e59eb6ae 2019-01-29 08:12:32      4   \n",
       "31   082785ab1b62a53bcecfcd5406e51393661a0cb9 2019-01-29 08:11:41      4   \n",
       "34   d8d68da75738b2959930e5f9c7010a0580ea9305 2019-01-29 08:12:56      4   \n",
       "41   2efcb71257c0debbcbf191e4513e4b8f6f794fc5 2019-01-29 08:13:03      4   \n",
       "43   c3da32d2c4282a84ac4575e831db19bb776bedcf 2019-01-29 08:15:08      4   \n",
       "47   c9f95c1d0bb81e7d15bedf8ea255d41a3cef1633 2019-01-29 08:13:59      4   \n",
       "57   e52a912dd4771bc06baf46f2dd404b51b4a26af7 2019-01-29 08:15:34      4   \n",
       "66   fe1c8603ce09e5e0c23904e080c2d9132517286d 2019-01-29 08:16:37      4   \n",
       "73   382ff3d11f92aaa8d00c7e8061ff61c0eecbfc00 2019-01-29 08:17:17      4   \n",
       "75   87c5316a4c51b2afb3190ca4ab546b48ae35b96f 2019-01-29 08:17:23      4   \n",
       "79   d1279605715e1c9cc669a398755c1c87c7a7e95e 2019-01-29 08:18:32      4   \n",
       "87   c80183d1bc14cb4ddfd9e6c7bb3458302253d009 2019-01-29 08:19:15      4   \n",
       "91   eb6b0e2bc49e9ea29fb491193621a90417323bf4 2019-01-29 08:18:39      4   \n",
       "104  22c1bb872a3d5aff571ac81f4f1b9290116911e9 2019-01-29 08:21:29      4   \n",
       "105  a7e4a67e8836b4fdb72688baca377534f6add717 2019-01-29 08:21:30      4   \n",
       "109  7f98cb0a0235ce3d2fc4f60f08013a41c5db91f4 2019-01-29 08:22:24      4   \n",
       "115  f25b2cd42e0b20614640abc3418ec2af63af5042 2019-01-29 08:23:30      4   \n",
       "119  10328696b496f296a71ba458fe3838db198db241 2019-01-29 08:23:29      4   \n",
       "123  6164dc86a8559ff44f221193b0e67ad1d4f5d02b 2019-01-29 08:23:12      4   \n",
       "125  a75033c85bd9fd6456a78bfdd859bd18b98e0f41 2019-01-29 08:24:08      4   \n",
       "128  2dca9f2506ef4f67da0255625f046d1b40348d6e 2019-01-29 08:23:39      4   \n",
       "132  914a3afe6d6abb263b99c20884c88ae7c8a383dd 2019-01-29 08:24:34      4   \n",
       "142  7b02bc854e5fe72f9252b6b844bf20a5d17dd355 2019-01-29 08:25:14      4   \n",
       "145  cf4f7ddbb3a6d9006e029777df712a53c2d76992 2019-01-29 08:25:49      4   \n",
       "147  bf9dfd50a4a693085e3080156f11c25314f96f03 2019-01-29 08:25:34      4   \n",
       "149  183bc8585ac5a2e26b6d2ada6ce6891235a36b92 2019-01-29 08:26:02      4   \n",
       "153  dcf2ffa7638b1ae7d0281cbb94d4c7cf0a0912f7 2019-01-29 08:26:14      4   \n",
       "..                                        ...                 ...    ...   \n",
       "757  810ad157955f8e6bebd90a787adcd2037f19ce52 2019-01-29 09:28:40      4   \n",
       "759  efcc8868791403e97081d97b26f7b71df6482b18 2019-01-29 09:29:55      4   \n",
       "764  198d6649cc368054531dc6b70d7905579a948dac 2019-01-29 09:29:42      4   \n",
       "769  3577cb098d1c4d504f67633ba90edb21afd1de7b 2019-01-29 09:29:36      4   \n",
       "771  a62ee65e0836ad42843e6c19ce178fb1bb25d506 2019-01-29 09:30:18      4   \n",
       "774  4dd95effcdb8a4d394108acc434173dfef140864 2019-01-29 09:30:30      4   \n",
       "777  be77f4806c2d40134aaa5fed23445d43abd5f4c8 2019-01-29 09:30:41      4   \n",
       "778  cf60217014cf06e5d941fbe84ad1cdcf6a8b9ed3 2019-01-29 09:30:53      4   \n",
       "782  0d23c96a7ed0064a434e1c7b87b5703fdc572e2e 2019-01-29 09:31:01      4   \n",
       "784  7a558c6c891dac0058f0bce83d066c5805ff3495 2019-01-29 09:32:59      4   \n",
       "787  bd8987fa80d611c7932eb24395e994ba01db5b54 2019-01-29 09:31:54      4   \n",
       "788  3559eda62ff40053aa6d7260f1474fc1daa4aba5 2019-01-29 09:32:16      4   \n",
       "791  100f74935e1a61ee05ece86ada3781657ffec36c 2019-01-29 09:31:24      4   \n",
       "792  67a5b67e31e5da35d6191a31565348ad0fedbc39 2019-01-29 09:31:50      4   \n",
       "795  35edc12834b3219b2dd0b32d236d6c8c9ddf728c 2019-01-29 09:32:56      4   \n",
       "796  fa8d0c891fa75116b06384c77d28e4332e7a0836 2019-01-29 09:32:37      4   \n",
       "804  26cd1f6e1174e2d94b3ede78ef71ba2b4f7190e5 2019-01-29 09:32:52      4   \n",
       "805  9324940650eaedf576ef0cb8362e462c52b82f8c 2019-01-29 09:33:06      4   \n",
       "808  a8208a311cb39b8fe398a462f4e4b6b6e45fdf9e 2019-01-29 09:33:48      4   \n",
       "818  dd9e8506044130a36f4af6c4bd450e3d738c257e 2019-01-29 09:34:54      4   \n",
       "822  71464cec4ca957b7aa5283bfe9e33d77f942eb4a 2019-01-29 09:35:24      4   \n",
       "826  a3a983c983807af46af26b033720a6bb557e1883 2019-01-29 09:36:19      4   \n",
       "827  bfdbf729252df19f59a743556e9535f7f0a59ec6 2019-01-29 09:36:29      4   \n",
       "834  c1ffdb0ce3338f305f90f34ac2672ac7b48c7dd1 2019-01-29 09:36:56      4   \n",
       "836  0d74fc90ccca84c762b161af942823c6d5e56a29 2019-01-29 09:36:44      4   \n",
       "846  9dda9ea4fb59544b48fed5c02fc050bae10c1990 2019-01-29 09:38:56      4   \n",
       "848  b5cb33e5f12120e85f236693aeceeb216e17bf16 2019-01-29 09:39:18      4   \n",
       "850  0476ea61aa4681a629cad024ccef907bcbeb9b70 2019-01-29 09:38:51      4   \n",
       "851  272d14f615b8dc8b4d0b0cd264a9c8bb71682dfb 2019-01-29 09:38:24      4   \n",
       "854  dc0b74f995e3ff24c6604b3e8c172a4d8fba0b60 2019-01-29 09:39:32      4   \n",
       "\n",
       "             date_cam_2  cam_2 tps_parcours  \n",
       "12  2019-01-29 08:21:21      5     00:11:33  \n",
       "16  2019-01-29 08:21:57      5     00:10:37  \n",
       "22  2019-01-29 08:22:36      5     00:11:28  \n",
       "29  2019-01-29 08:23:14      5     00:10:42  \n",
       "31  2019-01-29 08:23:34      5     00:11:53  \n",
       "34  2019-01-29 08:24:12      5     00:11:16  \n",
       "41  2019-01-29 08:25:00      5     00:11:57  \n",
       "43  2019-01-29 08:25:03      5     00:09:55  \n",
       "47  2019-01-29 08:25:25      5     00:11:26  \n",
       "57  2019-01-29 08:26:54      5     00:11:20  \n",
       "66  2019-01-29 08:27:37      5     00:11:00  \n",
       "73  2019-01-29 08:28:22      5     00:11:05  \n",
       "75  2019-01-29 08:28:51      5     00:11:28  \n",
       "79  2019-01-29 08:29:07      5     00:10:35  \n",
       "87  2019-01-29 08:30:18      5     00:11:03  \n",
       "91  2019-01-29 08:30:39      5     00:12:00  \n",
       "104 2019-01-29 08:32:53      5     00:11:24  \n",
       "105 2019-01-29 08:32:54      5     00:11:24  \n",
       "109 2019-01-29 08:33:51      5     00:11:27  \n",
       "115 2019-01-29 08:34:25      5     00:10:55  \n",
       "119 2019-01-29 08:34:45      5     00:11:16  \n",
       "123 2019-01-29 08:35:03      5     00:11:51  \n",
       "125 2019-01-29 08:35:09      5     00:11:01  \n",
       "128 2019-01-29 08:35:20      5     00:11:41  \n",
       "132 2019-01-29 08:35:38      5     00:11:04  \n",
       "142 2019-01-29 08:36:49      5     00:11:35  \n",
       "145 2019-01-29 08:37:04      5     00:11:15  \n",
       "147 2019-01-29 08:37:18      5     00:11:44  \n",
       "149 2019-01-29 08:37:20      5     00:11:18  \n",
       "153 2019-01-29 08:37:42      5     00:11:28  \n",
       "..                  ...    ...          ...  \n",
       "757 2019-01-29 09:40:34      5     00:11:54  \n",
       "759 2019-01-29 09:40:49      5     00:10:54  \n",
       "764 2019-01-29 09:41:30      5     00:11:48  \n",
       "769 2019-01-29 09:41:38      5     00:12:02  \n",
       "771 2019-01-29 09:42:04      5     00:11:46  \n",
       "774 2019-01-29 09:42:29      5     00:11:59  \n",
       "777 2019-01-29 09:42:40      5     00:11:59  \n",
       "778 2019-01-29 09:42:43      5     00:11:50  \n",
       "782 2019-01-29 09:43:00      5     00:11:59  \n",
       "784 2019-01-29 09:43:08      5     00:10:09  \n",
       "787 2019-01-29 09:43:21      5     00:11:27  \n",
       "788 2019-01-29 09:43:22      5     00:11:06  \n",
       "791 2019-01-29 09:43:31      5     00:12:07  \n",
       "792 2019-01-29 09:43:31      5     00:11:41  \n",
       "795 2019-01-29 09:43:56      5     00:11:00  \n",
       "796 2019-01-29 09:43:58      5     00:11:21  \n",
       "804 2019-01-29 09:44:54      5     00:12:02  \n",
       "805 2019-01-29 09:44:57      5     00:11:51  \n",
       "808 2019-01-29 09:45:12      5     00:11:24  \n",
       "818 2019-01-29 09:45:57      5     00:11:03  \n",
       "822 2019-01-29 09:47:12      5     00:11:48  \n",
       "826 2019-01-29 09:47:30      5     00:11:11  \n",
       "827 2019-01-29 09:47:35      5     00:11:06  \n",
       "834 2019-01-29 09:48:11      5     00:11:15  \n",
       "836 2019-01-29 09:48:22      5     00:11:38  \n",
       "846 2019-01-29 09:50:04      5     00:11:08  \n",
       "848 2019-01-29 09:50:09      5     00:10:51  \n",
       "850 2019-01-29 09:50:15      5     00:11:24  \n",
       "851 2019-01-29 09:50:18      5     00:11:54  \n",
       "854 2019-01-29 09:50:25      5     00:10:53  \n",
       "\n",
       "[267 rows x 6 columns]"
      ]
     },
     "execution_count": 9,
     "metadata": {},
     "output_type": "execute_result"
    }
   ],
   "source": [
    "toto.dico_traj_directs['trajet1'].df_tps_parcours_pl_final"
   ]
  },
  {
   "cell_type": "code",
   "execution_count": null,
   "metadata": {},
   "outputs": [],
   "source": []
  }
 ],
 "metadata": {
  "kernelspec": {
   "display_name": "Python 3",
   "language": "python",
   "name": "python3"
  },
  "language_info": {
   "codemirror_mode": {
    "name": "ipython",
    "version": 3
   },
   "file_extension": ".py",
   "mimetype": "text/x-python",
   "name": "python",
   "nbconvert_exporter": "python",
   "pygments_lexer": "ipython3",
   "version": "3.7.2"
  }
 },
 "nbformat": 4,
 "nbformat_minor": 2
}
