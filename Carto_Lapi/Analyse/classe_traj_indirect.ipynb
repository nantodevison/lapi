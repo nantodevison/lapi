{
 "cells": [
  {
   "cell_type": "markdown",
   "metadata": {},
   "source": [
    "Test du projet de class trajets indirect"
   ]
  },
  {
   "cell_type": "code",
   "execution_count": 25,
   "metadata": {},
   "outputs": [
    {
     "name": "stdout",
     "output_type": "stream",
     "text": [
      "The autoreload extension is already loaded. To reload it, use:\n",
      "  %reload_ext autoreload\n"
     ]
    }
   ],
   "source": [
    "%load_ext autoreload\n",
    "%autoreload 2\n",
    "import sys #c'est pas propre mais pour le moment pour importer mes modules perso dans le notebook je ne sais pas faire\n",
    "sys.path.append(r'C:\\Users\\martin.schoreisz\\git\\Outils\\Outils\\Martin_Perso')\n",
    "import traitement_od as t\n",
    "import pandas as pd\n",
    "import numpy as np\n",
    "import altair as alt\n",
    "import datetime as dt\n",
    "pd.set_option('display.max_colwidth', 1000)"
   ]
  },
  {
   "cell_type": "code",
   "execution_count": 6,
   "metadata": {},
   "outputs": [
    {
     "name": "stdout",
     "output_type": "stream",
     "text": [
      "Wall time: 1min 45s\n"
     ]
    }
   ],
   "source": [
    "%time df_journee=t.ouvrir_fichier_lapi('2019-01-29 00:00:00','2019-01-30 23:59:00')"
   ]
  },
  {
   "cell_type": "code",
   "execution_count": 7,
   "metadata": {},
   "outputs": [],
   "source": [
    "toto=t.trajet_indirect(df_journee,'2019-01-29 00:00:00', 60, 16, [19,4,5])"
   ]
  },
  {
   "cell_type": "code",
   "execution_count": 74,
   "metadata": {},
   "outputs": [
    {
     "data": {
      "text/plain": [
       "True"
      ]
     },
     "execution_count": 74,
     "metadata": {},
     "output_type": "execute_result"
    }
   ],
   "source": [
    "toto.df_transit.empty"
   ]
  },
  {
   "cell_type": "code",
   "execution_count": 38,
   "metadata": {},
   "outputs": [],
   "source": [
    "liste_trajet=(pd.DataFrame([{'o_d':'A63-A10','trajets':[{'cameras':[19,4,5],'type_trajet':'indirect'},\n",
    "                                                       {'cameras':[19,1,5],'type_trajet':'indirect'},\n",
    "                                                       {'cameras':[19,5],'type_trajet':'direct'},\n",
    "                                                      ]},\n",
    "                          {'o_d':'A62-A10','trajets':[{'cameras':[10,4,5],'type_trajet':'indirect'},\n",
    "                                                       {'cameras':[10,1,5],'type_trajet':'indirect'},\n",
    "                                                       {'cameras':[10,5],'type_trajet':'direct'},\n",
    "                                                      ]},\n",
    "                           ]))"
   ]
  },
  {
   "cell_type": "code",
   "execution_count": 39,
   "metadata": {},
   "outputs": [
    {
     "data": {
      "text/html": [
       "<div>\n",
       "<style scoped>\n",
       "    .dataframe tbody tr th:only-of-type {\n",
       "        vertical-align: middle;\n",
       "    }\n",
       "\n",
       "    .dataframe tbody tr th {\n",
       "        vertical-align: top;\n",
       "    }\n",
       "\n",
       "    .dataframe thead th {\n",
       "        text-align: right;\n",
       "    }\n",
       "</style>\n",
       "<table border=\"1\" class=\"dataframe\">\n",
       "  <thead>\n",
       "    <tr style=\"text-align: right;\">\n",
       "      <th></th>\n",
       "      <th>o_d</th>\n",
       "      <th>trajets</th>\n",
       "    </tr>\n",
       "  </thead>\n",
       "  <tbody>\n",
       "    <tr>\n",
       "      <th>0</th>\n",
       "      <td>A63-A10</td>\n",
       "      <td>[{'cameras': [19, 4, 5], 'type_trajet': 'indirect'}, {'cameras': [19, 1, 5], 'type_trajet': 'indirect'}, {'cameras': [19, 5], 'type_trajet': 'direct'}]</td>\n",
       "    </tr>\n",
       "    <tr>\n",
       "      <th>1</th>\n",
       "      <td>A62-A10</td>\n",
       "      <td>[{'cameras': [10, 4, 5], 'type_trajet': 'indirect'}, {'cameras': [10, 1, 5], 'type_trajet': 'indirect'}, {'cameras': [10, 5], 'type_trajet': 'direct'}]</td>\n",
       "    </tr>\n",
       "  </tbody>\n",
       "</table>\n",
       "</div>"
      ],
      "text/plain": [
       "       o_d                                                                                                                                                  trajets\n",
       "0  A63-A10  [{'cameras': [19, 4, 5], 'type_trajet': 'indirect'}, {'cameras': [19, 1, 5], 'type_trajet': 'indirect'}, {'cameras': [19, 5], 'type_trajet': 'direct'}]\n",
       "1  A62-A10  [{'cameras': [10, 4, 5], 'type_trajet': 'indirect'}, {'cameras': [10, 1, 5], 'type_trajet': 'indirect'}, {'cameras': [10, 5], 'type_trajet': 'direct'}]"
      ]
     },
     "execution_count": 39,
     "metadata": {},
     "output_type": "execute_result"
    }
   ],
   "source": [
    "liste_trajet"
   ]
  },
  {
   "cell_type": "markdown",
   "metadata": {},
   "source": [
    "Pour une o_d, sur une journee"
   ]
  },
  {
   "cell_type": "code",
   "execution_count": 11,
   "metadata": {},
   "outputs": [
    {
     "name": "stdout",
     "output_type": "stream",
     "text": [
      "Wall time: 0 ns\n",
      "2019-01-29 07:00:00 [19, 4, 5] 9\n",
      "2019-01-29 07:00:00 [19, 5] 1\n",
      "2019-01-29 08:00:00 [19, 4, 5] 86\n",
      "2019-01-29 08:00:00 [19, 1, 5] 2\n",
      "2019-01-29 08:00:00 [19, 5] 15\n",
      "2019-01-29 09:00:00 [19, 4, 5] 78\n",
      "2019-01-29 09:00:00 [19, 1, 5] 2\n",
      "2019-01-29 09:00:00 [19, 5] 14\n",
      "2019-01-29 10:00:00 [19, 4, 5] 43\n",
      "2019-01-29 10:00:00 [19, 1, 5] 2\n",
      "2019-01-29 10:00:00 [19, 5] 25\n",
      "2019-01-29 11:00:00 [19, 4, 5] 34\n",
      "2019-01-29 11:00:00 [19, 1, 5] 1\n",
      "2019-01-29 11:00:00 [19, 5] 28\n",
      "2019-01-29 12:00:00 [19, 5] 82\n",
      "2019-01-29 13:00:00 [19, 4, 5] 5\n",
      "2019-01-29 13:00:00 [19, 5] 64\n",
      "2019-01-29 14:00:00 [19, 4, 5] 46\n",
      "2019-01-29 14:00:00 [19, 1, 5] 3\n",
      "2019-01-29 14:00:00 [19, 5] 36\n",
      "2019-01-29 15:00:00 [19, 4, 5] 31\n",
      "2019-01-29 15:00:00 [19, 1, 5] 2\n",
      "2019-01-29 15:00:00 [19, 5] 14\n",
      "2019-01-29 16:00:00 [19, 5] 1\n",
      "2019-01-29 17:00:00 [19, 4, 5] 1\n"
     ]
    }
   ],
   "source": [
    "dates= pd.date_range('2019-01-29', periods=24, freq='H')\n",
    "%time \n",
    "for date in dates : \n",
    "    date=date.strftime(\"%Y-%m-%d %H:%M:%S\")\n",
    "    for index, value in liste_trajet.iterrows() : \n",
    "        o_d, carac_trajet=value[0],value[1]\n",
    "        for dico_carac in carac_trajet :\n",
    "            cameras=dico_carac['cameras']\n",
    "            type_t=dico_carac['type_trajet']\n",
    "            if type_t=='indirect' : \n",
    "                df_trajet=t.trajet_indirect(df_journee,date, 60, 16, cameras).df_transit#en deduire le total\n",
    "            else :\n",
    "                df_trajet=t.trajet_direct(df_journee,date, 60, 16, cameras[0],cameras[1]).df_tps_parcours_pl_final#por permettre le suivi et retrouver les camera intermediaires\n",
    "            if df_trajet.empty : \n",
    "                continue\n",
    "            #df_trajet['cameras']=str(cameras)#pour suivi possible\n",
    "            if 'dico_od' in locals() :\n",
    "                dico_od=pd.concat([dico_od,df_trajet], sort=False)\n",
    "            else : \n",
    "                dico_od=df_trajet\n",
    "            print(date, cameras, len(df_trajet))"
   ]
  },
  {
   "cell_type": "code",
   "execution_count": 12,
   "metadata": {},
   "outputs": [
    {
     "data": {
      "text/html": [
       "<div>\n",
       "<style scoped>\n",
       "    .dataframe tbody tr th:only-of-type {\n",
       "        vertical-align: middle;\n",
       "    }\n",
       "\n",
       "    .dataframe tbody tr th {\n",
       "        vertical-align: top;\n",
       "    }\n",
       "\n",
       "    .dataframe thead th {\n",
       "        text-align: right;\n",
       "    }\n",
       "</style>\n",
       "<table border=\"1\" class=\"dataframe\">\n",
       "  <thead>\n",
       "    <tr style=\"text-align: right;\">\n",
       "      <th></th>\n",
       "      <th>immat</th>\n",
       "      <th>date_cam_1</th>\n",
       "      <th>date_cam_2</th>\n",
       "      <th>cam_1</th>\n",
       "      <th>cam_2</th>\n",
       "      <th>tps_parcours</th>\n",
       "      <th>cameras</th>\n",
       "    </tr>\n",
       "  </thead>\n",
       "  <tbody>\n",
       "    <tr>\n",
       "      <th>0</th>\n",
       "      <td>997d5fbf94327159d8ad2dfe88999cf8a1a32fad</td>\n",
       "      <td>2019-01-29 07:41:57</td>\n",
       "      <td>2019-01-29 08:17:44</td>\n",
       "      <td>19</td>\n",
       "      <td>5</td>\n",
       "      <td>00:35:47</td>\n",
       "      <td>[19, 4, 5]</td>\n",
       "    </tr>\n",
       "    <tr>\n",
       "      <th>1</th>\n",
       "      <td>1da7ad5637f24c08d9a8bb1da3f932c21e8dd47c</td>\n",
       "      <td>2019-01-29 07:45:33</td>\n",
       "      <td>2019-01-29 08:22:36</td>\n",
       "      <td>19</td>\n",
       "      <td>5</td>\n",
       "      <td>00:37:03</td>\n",
       "      <td>[19, 4, 5]</td>\n",
       "    </tr>\n",
       "    <tr>\n",
       "      <th>2</th>\n",
       "      <td>382ff3d11f92aaa8d00c7e8061ff61c0eecbfc00</td>\n",
       "      <td>2019-01-29 07:53:24</td>\n",
       "      <td>2019-01-29 08:28:22</td>\n",
       "      <td>19</td>\n",
       "      <td>5</td>\n",
       "      <td>00:34:58</td>\n",
       "      <td>[19, 4, 5]</td>\n",
       "    </tr>\n",
       "    <tr>\n",
       "      <th>3</th>\n",
       "      <td>eb6b0e2bc49e9ea29fb491193621a90417323bf4</td>\n",
       "      <td>2019-01-29 07:54:19</td>\n",
       "      <td>2019-01-29 08:30:39</td>\n",
       "      <td>19</td>\n",
       "      <td>5</td>\n",
       "      <td>00:36:20</td>\n",
       "      <td>[19, 4, 5]</td>\n",
       "    </tr>\n",
       "    <tr>\n",
       "      <th>4</th>\n",
       "      <td>a7e4a67e8836b4fdb72688baca377534f6add717</td>\n",
       "      <td>2019-01-29 07:56:06</td>\n",
       "      <td>2019-01-29 08:32:54</td>\n",
       "      <td>19</td>\n",
       "      <td>5</td>\n",
       "      <td>00:36:48</td>\n",
       "      <td>[19, 4, 5]</td>\n",
       "    </tr>\n",
       "    <tr>\n",
       "      <th>5</th>\n",
       "      <td>b3e2b06a429608e99c98d074851e49cbb6fb93ad</td>\n",
       "      <td>2019-01-29 07:56:03</td>\n",
       "      <td>2019-01-29 08:34:34</td>\n",
       "      <td>19</td>\n",
       "      <td>5</td>\n",
       "      <td>00:38:31</td>\n",
       "      <td>[19, 4, 5]</td>\n",
       "    </tr>\n",
       "    <tr>\n",
       "      <th>6</th>\n",
       "      <td>f25b2cd42e0b20614640abc3418ec2af63af5042</td>\n",
       "      <td>2019-01-29 07:57:56</td>\n",
       "      <td>2019-01-29 08:34:25</td>\n",
       "      <td>19</td>\n",
       "      <td>5</td>\n",
       "      <td>00:36:29</td>\n",
       "      <td>[19, 4, 5]</td>\n",
       "    </tr>\n",
       "    <tr>\n",
       "      <th>7</th>\n",
       "      <td>2dca9f2506ef4f67da0255625f046d1b40348d6e</td>\n",
       "      <td>2019-01-29 07:58:35</td>\n",
       "      <td>2019-01-29 08:35:20</td>\n",
       "      <td>19</td>\n",
       "      <td>5</td>\n",
       "      <td>00:36:45</td>\n",
       "      <td>[19, 4, 5]</td>\n",
       "    </tr>\n",
       "    <tr>\n",
       "      <th>8</th>\n",
       "      <td>914a3afe6d6abb263b99c20884c88ae7c8a383dd</td>\n",
       "      <td>2019-01-29 07:59:36</td>\n",
       "      <td>2019-01-29 08:35:38</td>\n",
       "      <td>19</td>\n",
       "      <td>5</td>\n",
       "      <td>00:36:02</td>\n",
       "      <td>[19, 4, 5]</td>\n",
       "    </tr>\n",
       "    <tr>\n",
       "      <th>9</th>\n",
       "      <td>04cdedf0bf6f15c9698dce79ad3157720ea29448</td>\n",
       "      <td>2019-01-29 07:54:45</td>\n",
       "      <td>2019-01-29 10:26:17</td>\n",
       "      <td>19</td>\n",
       "      <td>5</td>\n",
       "      <td>02:31:32</td>\n",
       "      <td>[19, 5]</td>\n",
       "    </tr>\n",
       "    <tr>\n",
       "      <th>0</th>\n",
       "      <td>bf9dfd50a4a693085e3080156f11c25314f96f03</td>\n",
       "      <td>2019-01-29 08:00:56</td>\n",
       "      <td>2019-01-29 08:37:18</td>\n",
       "      <td>19</td>\n",
       "      <td>5</td>\n",
       "      <td>00:36:22</td>\n",
       "      <td>[19, 4, 5]</td>\n",
       "    </tr>\n",
       "    <tr>\n",
       "      <th>1</th>\n",
       "      <td>cf4f7ddbb3a6d9006e029777df712a53c2d76992</td>\n",
       "      <td>2019-01-29 08:01:07</td>\n",
       "      <td>2019-01-29 08:37:04</td>\n",
       "      <td>19</td>\n",
       "      <td>5</td>\n",
       "      <td>00:35:57</td>\n",
       "      <td>[19, 4, 5]</td>\n",
       "    </tr>\n",
       "    <tr>\n",
       "      <th>2</th>\n",
       "      <td>183bc8585ac5a2e26b6d2ada6ce6891235a36b92</td>\n",
       "      <td>2019-01-29 08:01:16</td>\n",
       "      <td>2019-01-29 08:37:20</td>\n",
       "      <td>19</td>\n",
       "      <td>5</td>\n",
       "      <td>00:36:04</td>\n",
       "      <td>[19, 4, 5]</td>\n",
       "    </tr>\n",
       "    <tr>\n",
       "      <th>3</th>\n",
       "      <td>dcf2ffa7638b1ae7d0281cbb94d4c7cf0a0912f7</td>\n",
       "      <td>2019-01-29 08:02:34</td>\n",
       "      <td>2019-01-29 08:37:42</td>\n",
       "      <td>19</td>\n",
       "      <td>5</td>\n",
       "      <td>00:35:08</td>\n",
       "      <td>[19, 4, 5]</td>\n",
       "    </tr>\n",
       "    <tr>\n",
       "      <th>4</th>\n",
       "      <td>54581cfa0b0f0c1dbe24fd60ca7efcc07439232f</td>\n",
       "      <td>2019-01-29 08:02:19</td>\n",
       "      <td>2019-01-29 08:38:07</td>\n",
       "      <td>19</td>\n",
       "      <td>5</td>\n",
       "      <td>00:35:48</td>\n",
       "      <td>[19, 4, 5]</td>\n",
       "    </tr>\n",
       "    <tr>\n",
       "      <th>5</th>\n",
       "      <td>31c6bdae383e5c4f25e803d55dc539d6c40e6105</td>\n",
       "      <td>2019-01-29 08:03:06</td>\n",
       "      <td>2019-01-29 08:38:16</td>\n",
       "      <td>19</td>\n",
       "      <td>5</td>\n",
       "      <td>00:35:10</td>\n",
       "      <td>[19, 4, 5]</td>\n",
       "    </tr>\n",
       "    <tr>\n",
       "      <th>6</th>\n",
       "      <td>77728d75d8ee8a1e27c95ca4077faddbf9dcdd93</td>\n",
       "      <td>2019-01-29 08:03:55</td>\n",
       "      <td>2019-01-29 08:38:48</td>\n",
       "      <td>19</td>\n",
       "      <td>5</td>\n",
       "      <td>00:34:53</td>\n",
       "      <td>[19, 4, 5]</td>\n",
       "    </tr>\n",
       "    <tr>\n",
       "      <th>7</th>\n",
       "      <td>59148b1dc67f7b2ca10635cd4fabe903b1fd0b63</td>\n",
       "      <td>2019-01-29 08:04:14</td>\n",
       "      <td>2019-01-29 08:39:21</td>\n",
       "      <td>19</td>\n",
       "      <td>5</td>\n",
       "      <td>00:35:07</td>\n",
       "      <td>[19, 4, 5]</td>\n",
       "    </tr>\n",
       "    <tr>\n",
       "      <th>8</th>\n",
       "      <td>3de49b107ce9b3f1add8f9314add9f5a2cadbe50</td>\n",
       "      <td>2019-01-29 08:05:07</td>\n",
       "      <td>2019-01-29 08:39:49</td>\n",
       "      <td>19</td>\n",
       "      <td>5</td>\n",
       "      <td>00:34:42</td>\n",
       "      <td>[19, 4, 5]</td>\n",
       "    </tr>\n",
       "    <tr>\n",
       "      <th>9</th>\n",
       "      <td>2a88c4e3e59236321a2098ccc9dd4b47f2eed478</td>\n",
       "      <td>2019-01-29 08:07:23</td>\n",
       "      <td>2019-01-29 08:42:27</td>\n",
       "      <td>19</td>\n",
       "      <td>5</td>\n",
       "      <td>00:35:04</td>\n",
       "      <td>[19, 4, 5]</td>\n",
       "    </tr>\n",
       "    <tr>\n",
       "      <th>10</th>\n",
       "      <td>5173f6a0a8ddf8df788408f70f14b0cd71333fd4</td>\n",
       "      <td>2019-01-29 08:08:20</td>\n",
       "      <td>2019-01-29 08:43:36</td>\n",
       "      <td>19</td>\n",
       "      <td>5</td>\n",
       "      <td>00:35:16</td>\n",
       "      <td>[19, 4, 5]</td>\n",
       "    </tr>\n",
       "    <tr>\n",
       "      <th>11</th>\n",
       "      <td>b19849562d778b3f0faadab5d6375d196fa00c3e</td>\n",
       "      <td>2019-01-29 08:11:31</td>\n",
       "      <td>2019-01-29 08:46:33</td>\n",
       "      <td>19</td>\n",
       "      <td>5</td>\n",
       "      <td>00:35:02</td>\n",
       "      <td>[19, 4, 5]</td>\n",
       "    </tr>\n",
       "    <tr>\n",
       "      <th>12</th>\n",
       "      <td>d8f1940dce090c0dd70898ade323d44a20128cf7</td>\n",
       "      <td>2019-01-29 08:12:06</td>\n",
       "      <td>2019-01-29 08:46:39</td>\n",
       "      <td>19</td>\n",
       "      <td>5</td>\n",
       "      <td>00:34:33</td>\n",
       "      <td>[19, 4, 5]</td>\n",
       "    </tr>\n",
       "    <tr>\n",
       "      <th>13</th>\n",
       "      <td>86e69f471e55d135cfde733fd536d2906682b662</td>\n",
       "      <td>2019-01-29 08:12:13</td>\n",
       "      <td>2019-01-29 08:47:29</td>\n",
       "      <td>19</td>\n",
       "      <td>5</td>\n",
       "      <td>00:35:16</td>\n",
       "      <td>[19, 4, 5]</td>\n",
       "    </tr>\n",
       "    <tr>\n",
       "      <th>14</th>\n",
       "      <td>07f533c82778a42f4827e08e685d809e36017390</td>\n",
       "      <td>2019-01-29 08:13:13</td>\n",
       "      <td>2019-01-29 08:47:52</td>\n",
       "      <td>19</td>\n",
       "      <td>5</td>\n",
       "      <td>00:34:39</td>\n",
       "      <td>[19, 4, 5]</td>\n",
       "    </tr>\n",
       "    <tr>\n",
       "      <th>15</th>\n",
       "      <td>837898ee18a5c0fb78ac9c1001068fcb7c888550</td>\n",
       "      <td>2019-01-29 08:16:29</td>\n",
       "      <td>2019-01-29 08:50:59</td>\n",
       "      <td>19</td>\n",
       "      <td>5</td>\n",
       "      <td>00:34:30</td>\n",
       "      <td>[19, 4, 5]</td>\n",
       "    </tr>\n",
       "    <tr>\n",
       "      <th>16</th>\n",
       "      <td>11bec9781f63a9c6ed13dc8e9b73af792f9830c9</td>\n",
       "      <td>2019-01-29 08:20:21</td>\n",
       "      <td>2019-01-29 08:52:39</td>\n",
       "      <td>19</td>\n",
       "      <td>5</td>\n",
       "      <td>00:32:18</td>\n",
       "      <td>[19, 4, 5]</td>\n",
       "    </tr>\n",
       "    <tr>\n",
       "      <th>17</th>\n",
       "      <td>bd00a061a3d665bfbae3a1601c4808f329060c96</td>\n",
       "      <td>2019-01-29 08:20:40</td>\n",
       "      <td>2019-01-29 08:52:58</td>\n",
       "      <td>19</td>\n",
       "      <td>5</td>\n",
       "      <td>00:32:18</td>\n",
       "      <td>[19, 4, 5]</td>\n",
       "    </tr>\n",
       "    <tr>\n",
       "      <th>18</th>\n",
       "      <td>79974a434856bb71e13c30992f0d169a1a4a66fc</td>\n",
       "      <td>2019-01-29 08:20:55</td>\n",
       "      <td>2019-01-29 08:52:26</td>\n",
       "      <td>19</td>\n",
       "      <td>5</td>\n",
       "      <td>00:31:31</td>\n",
       "      <td>[19, 4, 5]</td>\n",
       "    </tr>\n",
       "    <tr>\n",
       "      <th>19</th>\n",
       "      <td>f2e470f4d6b5c0692705d44b98d3a2238f3bdcda</td>\n",
       "      <td>2019-01-29 08:21:42</td>\n",
       "      <td>2019-01-29 08:54:32</td>\n",
       "      <td>19</td>\n",
       "      <td>5</td>\n",
       "      <td>00:32:50</td>\n",
       "      <td>[19, 4, 5]</td>\n",
       "    </tr>\n",
       "    <tr>\n",
       "      <th>...</th>\n",
       "      <td>...</td>\n",
       "      <td>...</td>\n",
       "      <td>...</td>\n",
       "      <td>...</td>\n",
       "      <td>...</td>\n",
       "      <td>...</td>\n",
       "      <td>...</td>\n",
       "    </tr>\n",
       "    <tr>\n",
       "      <th>19</th>\n",
       "      <td>8721f6f6180ae646a725b3921ca459e25f93c59f</td>\n",
       "      <td>2019-01-29 15:27:26</td>\n",
       "      <td>2019-01-29 16:22:06</td>\n",
       "      <td>19</td>\n",
       "      <td>5</td>\n",
       "      <td>00:54:40</td>\n",
       "      <td>[19, 4, 5]</td>\n",
       "    </tr>\n",
       "    <tr>\n",
       "      <th>20</th>\n",
       "      <td>33ce783a9cf096fe3f60fcd1e4905d37e6c0d21b</td>\n",
       "      <td>2019-01-29 15:32:01</td>\n",
       "      <td>2019-01-29 16:29:05</td>\n",
       "      <td>19</td>\n",
       "      <td>5</td>\n",
       "      <td>00:57:04</td>\n",
       "      <td>[19, 4, 5]</td>\n",
       "    </tr>\n",
       "    <tr>\n",
       "      <th>21</th>\n",
       "      <td>568ed6686ee99e282452640a4cfa39853e33ac3a</td>\n",
       "      <td>2019-01-29 15:35:23</td>\n",
       "      <td>2019-01-29 16:30:46</td>\n",
       "      <td>19</td>\n",
       "      <td>5</td>\n",
       "      <td>00:55:23</td>\n",
       "      <td>[19, 4, 5]</td>\n",
       "    </tr>\n",
       "    <tr>\n",
       "      <th>22</th>\n",
       "      <td>d8b737bac184882191ab161446aa35e62747209d</td>\n",
       "      <td>2019-01-29 15:34:55</td>\n",
       "      <td>2019-01-29 16:31:04</td>\n",
       "      <td>19</td>\n",
       "      <td>5</td>\n",
       "      <td>00:56:09</td>\n",
       "      <td>[19, 4, 5]</td>\n",
       "    </tr>\n",
       "    <tr>\n",
       "      <th>23</th>\n",
       "      <td>51f52dbe972e63c20905fb9b70f2ec71c52b42ee</td>\n",
       "      <td>2019-01-29 15:34:51</td>\n",
       "      <td>2019-01-29 16:31:32</td>\n",
       "      <td>19</td>\n",
       "      <td>5</td>\n",
       "      <td>00:56:41</td>\n",
       "      <td>[19, 4, 5]</td>\n",
       "    </tr>\n",
       "    <tr>\n",
       "      <th>24</th>\n",
       "      <td>a2acee61c7ac5ea73c33c0a41e955bb8cc050558</td>\n",
       "      <td>2019-01-29 15:36:25</td>\n",
       "      <td>2019-01-29 16:31:39</td>\n",
       "      <td>19</td>\n",
       "      <td>5</td>\n",
       "      <td>00:55:14</td>\n",
       "      <td>[19, 4, 5]</td>\n",
       "    </tr>\n",
       "    <tr>\n",
       "      <th>25</th>\n",
       "      <td>965869bd53d2c55d43553bd0856b4553868bbce7</td>\n",
       "      <td>2019-01-29 15:35:13</td>\n",
       "      <td>2019-01-29 16:32:16</td>\n",
       "      <td>19</td>\n",
       "      <td>5</td>\n",
       "      <td>00:57:03</td>\n",
       "      <td>[19, 4, 5]</td>\n",
       "    </tr>\n",
       "    <tr>\n",
       "      <th>26</th>\n",
       "      <td>60c1657a6c1cce17de5abd45576b25de1166f753</td>\n",
       "      <td>2019-01-29 15:36:33</td>\n",
       "      <td>2019-01-29 16:35:22</td>\n",
       "      <td>19</td>\n",
       "      <td>5</td>\n",
       "      <td>00:58:49</td>\n",
       "      <td>[19, 4, 5]</td>\n",
       "    </tr>\n",
       "    <tr>\n",
       "      <th>27</th>\n",
       "      <td>90ab93485141870a3677985fb6bb2d40df987050</td>\n",
       "      <td>2019-01-29 15:41:38</td>\n",
       "      <td>2019-01-29 16:35:01</td>\n",
       "      <td>19</td>\n",
       "      <td>5</td>\n",
       "      <td>00:53:23</td>\n",
       "      <td>[19, 4, 5]</td>\n",
       "    </tr>\n",
       "    <tr>\n",
       "      <th>28</th>\n",
       "      <td>3c03c14abef5eb6fc6d637fa3be67f53ddab0e71</td>\n",
       "      <td>2019-01-29 15:38:22</td>\n",
       "      <td>2019-01-29 16:35:58</td>\n",
       "      <td>19</td>\n",
       "      <td>5</td>\n",
       "      <td>00:57:36</td>\n",
       "      <td>[19, 4, 5]</td>\n",
       "    </tr>\n",
       "    <tr>\n",
       "      <th>29</th>\n",
       "      <td>6d9a08eb854f210a4c91945191c05495cf5bdcf9</td>\n",
       "      <td>2019-01-29 15:58:33</td>\n",
       "      <td>2019-01-29 16:54:06</td>\n",
       "      <td>19</td>\n",
       "      <td>5</td>\n",
       "      <td>00:55:33</td>\n",
       "      <td>[19, 4, 5]</td>\n",
       "    </tr>\n",
       "    <tr>\n",
       "      <th>30</th>\n",
       "      <td>ba560eb685d4e958fedad7626a2d7b42670282e2</td>\n",
       "      <td>2019-01-29 15:59:14</td>\n",
       "      <td>2019-01-29 16:55:48</td>\n",
       "      <td>19</td>\n",
       "      <td>5</td>\n",
       "      <td>00:56:34</td>\n",
       "      <td>[19, 4, 5]</td>\n",
       "    </tr>\n",
       "    <tr>\n",
       "      <th>0</th>\n",
       "      <td>1c7daf8a14f69eb7ac0b1cb8e1a378610bd2052e</td>\n",
       "      <td>2019-01-29 15:03:40</td>\n",
       "      <td>2019-01-29 16:18:38</td>\n",
       "      <td>19</td>\n",
       "      <td>5</td>\n",
       "      <td>01:14:58</td>\n",
       "      <td>[19, 1, 5]</td>\n",
       "    </tr>\n",
       "    <tr>\n",
       "      <th>1</th>\n",
       "      <td>fbeb804b49894fbd1848ed1519563800bbee01d8</td>\n",
       "      <td>2019-01-29 15:09:22</td>\n",
       "      <td>2019-01-29 16:31:45</td>\n",
       "      <td>19</td>\n",
       "      <td>5</td>\n",
       "      <td>01:22:23</td>\n",
       "      <td>[19, 1, 5]</td>\n",
       "    </tr>\n",
       "    <tr>\n",
       "      <th>1</th>\n",
       "      <td>411a4153864fbc78c5c8c7b541e394e4883f4599</td>\n",
       "      <td>2019-01-29 15:01:48</td>\n",
       "      <td>2019-01-29 15:52:37</td>\n",
       "      <td>19</td>\n",
       "      <td>5</td>\n",
       "      <td>00:50:49</td>\n",
       "      <td>[19, 5]</td>\n",
       "    </tr>\n",
       "    <tr>\n",
       "      <th>3</th>\n",
       "      <td>c6b1dd01a5f13915d390f815a5f73588595f5bd0</td>\n",
       "      <td>2019-01-29 15:06:26</td>\n",
       "      <td>2019-01-29 15:55:35</td>\n",
       "      <td>19</td>\n",
       "      <td>5</td>\n",
       "      <td>00:49:09</td>\n",
       "      <td>[19, 5]</td>\n",
       "    </tr>\n",
       "    <tr>\n",
       "      <th>15</th>\n",
       "      <td>67c43122cf380564b1e938fce6328ac5556b140b</td>\n",
       "      <td>2019-01-29 15:04:56</td>\n",
       "      <td>2019-01-29 16:19:48</td>\n",
       "      <td>19</td>\n",
       "      <td>5</td>\n",
       "      <td>01:14:52</td>\n",
       "      <td>[19, 5]</td>\n",
       "    </tr>\n",
       "    <tr>\n",
       "      <th>16</th>\n",
       "      <td>2c3b5fd129704034a61b6010e1e9726248e2f327</td>\n",
       "      <td>2019-01-29 15:03:51</td>\n",
       "      <td>2019-01-29 16:21:31</td>\n",
       "      <td>19</td>\n",
       "      <td>5</td>\n",
       "      <td>01:17:40</td>\n",
       "      <td>[19, 5]</td>\n",
       "    </tr>\n",
       "    <tr>\n",
       "      <th>17</th>\n",
       "      <td>49180482fd4aaf0f2e40e6e5976bae0857a6c992</td>\n",
       "      <td>2019-01-29 15:27:36</td>\n",
       "      <td>2019-01-29 16:23:14</td>\n",
       "      <td>19</td>\n",
       "      <td>5</td>\n",
       "      <td>00:55:38</td>\n",
       "      <td>[19, 5]</td>\n",
       "    </tr>\n",
       "    <tr>\n",
       "      <th>18</th>\n",
       "      <td>001c107fc0458537ae19c85e9a3c49a6cc924729</td>\n",
       "      <td>2019-01-29 15:07:45</td>\n",
       "      <td>2019-01-29 16:23:58</td>\n",
       "      <td>19</td>\n",
       "      <td>5</td>\n",
       "      <td>01:16:13</td>\n",
       "      <td>[19, 5]</td>\n",
       "    </tr>\n",
       "    <tr>\n",
       "      <th>21</th>\n",
       "      <td>203448023608876143d7cf04544adf6584d2c4ff</td>\n",
       "      <td>2019-01-29 15:32:20</td>\n",
       "      <td>2019-01-29 16:26:28</td>\n",
       "      <td>19</td>\n",
       "      <td>5</td>\n",
       "      <td>00:54:08</td>\n",
       "      <td>[19, 5]</td>\n",
       "    </tr>\n",
       "    <tr>\n",
       "      <th>23</th>\n",
       "      <td>f935bc013f07cec72918b9e5dec71629c4c17e4a</td>\n",
       "      <td>2019-01-29 15:10:38</td>\n",
       "      <td>2019-01-29 16:27:48</td>\n",
       "      <td>19</td>\n",
       "      <td>5</td>\n",
       "      <td>01:17:10</td>\n",
       "      <td>[19, 5]</td>\n",
       "    </tr>\n",
       "    <tr>\n",
       "      <th>26</th>\n",
       "      <td>dc67c4d3b08bf06f7b1097ccce650ed63428da0e</td>\n",
       "      <td>2019-01-29 15:39:32</td>\n",
       "      <td>2019-01-29 16:36:34</td>\n",
       "      <td>19</td>\n",
       "      <td>5</td>\n",
       "      <td>00:57:02</td>\n",
       "      <td>[19, 5]</td>\n",
       "    </tr>\n",
       "    <tr>\n",
       "      <th>28</th>\n",
       "      <td>f3c4961dac0505ca03bfe40eed12ffad47c3bc61</td>\n",
       "      <td>2019-01-29 15:39:37</td>\n",
       "      <td>2019-01-29 16:37:06</td>\n",
       "      <td>19</td>\n",
       "      <td>5</td>\n",
       "      <td>00:57:29</td>\n",
       "      <td>[19, 5]</td>\n",
       "    </tr>\n",
       "    <tr>\n",
       "      <th>33</th>\n",
       "      <td>6dae3700cb8b5032bad0dadda8d599aa38dba631</td>\n",
       "      <td>2019-01-29 15:45:07</td>\n",
       "      <td>2019-01-29 16:44:45</td>\n",
       "      <td>19</td>\n",
       "      <td>5</td>\n",
       "      <td>00:59:38</td>\n",
       "      <td>[19, 5]</td>\n",
       "    </tr>\n",
       "    <tr>\n",
       "      <th>38</th>\n",
       "      <td>478e9e1e09f71a51c1583aafaa1fad6a54ac4faf</td>\n",
       "      <td>2019-01-29 15:51:27</td>\n",
       "      <td>2019-01-29 16:49:52</td>\n",
       "      <td>19</td>\n",
       "      <td>5</td>\n",
       "      <td>00:58:25</td>\n",
       "      <td>[19, 5]</td>\n",
       "    </tr>\n",
       "    <tr>\n",
       "      <th>39</th>\n",
       "      <td>f1a2582becadd1e7aa6210dec3148f50354676dd</td>\n",
       "      <td>2019-01-29 15:47:04</td>\n",
       "      <td>2019-01-29 16:51:18</td>\n",
       "      <td>19</td>\n",
       "      <td>5</td>\n",
       "      <td>01:04:14</td>\n",
       "      <td>[19, 5]</td>\n",
       "    </tr>\n",
       "    <tr>\n",
       "      <th>41</th>\n",
       "      <td>f2880ad4877f501cb3e487105bf1811f6f339e9f</td>\n",
       "      <td>2019-01-29 15:39:55</td>\n",
       "      <td>2019-01-29 16:59:02</td>\n",
       "      <td>19</td>\n",
       "      <td>5</td>\n",
       "      <td>01:19:07</td>\n",
       "      <td>[19, 5]</td>\n",
       "    </tr>\n",
       "    <tr>\n",
       "      <th>31</th>\n",
       "      <td>559067b5a40377a3e836fec2083e6ba0e2ee92e4</td>\n",
       "      <td>2019-01-29 16:29:40</td>\n",
       "      <td>2019-01-30 07:59:48</td>\n",
       "      <td>19</td>\n",
       "      <td>5</td>\n",
       "      <td>15:30:08</td>\n",
       "      <td>[19, 5]</td>\n",
       "    </tr>\n",
       "    <tr>\n",
       "      <th>0</th>\n",
       "      <td>1352bf1fd49ca28f77610e5fc46c0e952ea66040</td>\n",
       "      <td>2019-01-29 17:03:24</td>\n",
       "      <td>2019-01-30 08:56:20</td>\n",
       "      <td>19</td>\n",
       "      <td>5</td>\n",
       "      <td>15:52:56</td>\n",
       "      <td>[19, 4, 5]</td>\n",
       "    </tr>\n",
       "  </tbody>\n",
       "</table>\n",
       "<p>625 rows × 7 columns</p>\n",
       "</div>"
      ],
      "text/plain": [
       "                                       immat          date_cam_1  \\\n",
       "0   997d5fbf94327159d8ad2dfe88999cf8a1a32fad 2019-01-29 07:41:57   \n",
       "1   1da7ad5637f24c08d9a8bb1da3f932c21e8dd47c 2019-01-29 07:45:33   \n",
       "2   382ff3d11f92aaa8d00c7e8061ff61c0eecbfc00 2019-01-29 07:53:24   \n",
       "3   eb6b0e2bc49e9ea29fb491193621a90417323bf4 2019-01-29 07:54:19   \n",
       "4   a7e4a67e8836b4fdb72688baca377534f6add717 2019-01-29 07:56:06   \n",
       "5   b3e2b06a429608e99c98d074851e49cbb6fb93ad 2019-01-29 07:56:03   \n",
       "6   f25b2cd42e0b20614640abc3418ec2af63af5042 2019-01-29 07:57:56   \n",
       "7   2dca9f2506ef4f67da0255625f046d1b40348d6e 2019-01-29 07:58:35   \n",
       "8   914a3afe6d6abb263b99c20884c88ae7c8a383dd 2019-01-29 07:59:36   \n",
       "9   04cdedf0bf6f15c9698dce79ad3157720ea29448 2019-01-29 07:54:45   \n",
       "0   bf9dfd50a4a693085e3080156f11c25314f96f03 2019-01-29 08:00:56   \n",
       "1   cf4f7ddbb3a6d9006e029777df712a53c2d76992 2019-01-29 08:01:07   \n",
       "2   183bc8585ac5a2e26b6d2ada6ce6891235a36b92 2019-01-29 08:01:16   \n",
       "3   dcf2ffa7638b1ae7d0281cbb94d4c7cf0a0912f7 2019-01-29 08:02:34   \n",
       "4   54581cfa0b0f0c1dbe24fd60ca7efcc07439232f 2019-01-29 08:02:19   \n",
       "5   31c6bdae383e5c4f25e803d55dc539d6c40e6105 2019-01-29 08:03:06   \n",
       "6   77728d75d8ee8a1e27c95ca4077faddbf9dcdd93 2019-01-29 08:03:55   \n",
       "7   59148b1dc67f7b2ca10635cd4fabe903b1fd0b63 2019-01-29 08:04:14   \n",
       "8   3de49b107ce9b3f1add8f9314add9f5a2cadbe50 2019-01-29 08:05:07   \n",
       "9   2a88c4e3e59236321a2098ccc9dd4b47f2eed478 2019-01-29 08:07:23   \n",
       "10  5173f6a0a8ddf8df788408f70f14b0cd71333fd4 2019-01-29 08:08:20   \n",
       "11  b19849562d778b3f0faadab5d6375d196fa00c3e 2019-01-29 08:11:31   \n",
       "12  d8f1940dce090c0dd70898ade323d44a20128cf7 2019-01-29 08:12:06   \n",
       "13  86e69f471e55d135cfde733fd536d2906682b662 2019-01-29 08:12:13   \n",
       "14  07f533c82778a42f4827e08e685d809e36017390 2019-01-29 08:13:13   \n",
       "15  837898ee18a5c0fb78ac9c1001068fcb7c888550 2019-01-29 08:16:29   \n",
       "16  11bec9781f63a9c6ed13dc8e9b73af792f9830c9 2019-01-29 08:20:21   \n",
       "17  bd00a061a3d665bfbae3a1601c4808f329060c96 2019-01-29 08:20:40   \n",
       "18  79974a434856bb71e13c30992f0d169a1a4a66fc 2019-01-29 08:20:55   \n",
       "19  f2e470f4d6b5c0692705d44b98d3a2238f3bdcda 2019-01-29 08:21:42   \n",
       "..                                       ...                 ...   \n",
       "19  8721f6f6180ae646a725b3921ca459e25f93c59f 2019-01-29 15:27:26   \n",
       "20  33ce783a9cf096fe3f60fcd1e4905d37e6c0d21b 2019-01-29 15:32:01   \n",
       "21  568ed6686ee99e282452640a4cfa39853e33ac3a 2019-01-29 15:35:23   \n",
       "22  d8b737bac184882191ab161446aa35e62747209d 2019-01-29 15:34:55   \n",
       "23  51f52dbe972e63c20905fb9b70f2ec71c52b42ee 2019-01-29 15:34:51   \n",
       "24  a2acee61c7ac5ea73c33c0a41e955bb8cc050558 2019-01-29 15:36:25   \n",
       "25  965869bd53d2c55d43553bd0856b4553868bbce7 2019-01-29 15:35:13   \n",
       "26  60c1657a6c1cce17de5abd45576b25de1166f753 2019-01-29 15:36:33   \n",
       "27  90ab93485141870a3677985fb6bb2d40df987050 2019-01-29 15:41:38   \n",
       "28  3c03c14abef5eb6fc6d637fa3be67f53ddab0e71 2019-01-29 15:38:22   \n",
       "29  6d9a08eb854f210a4c91945191c05495cf5bdcf9 2019-01-29 15:58:33   \n",
       "30  ba560eb685d4e958fedad7626a2d7b42670282e2 2019-01-29 15:59:14   \n",
       "0   1c7daf8a14f69eb7ac0b1cb8e1a378610bd2052e 2019-01-29 15:03:40   \n",
       "1   fbeb804b49894fbd1848ed1519563800bbee01d8 2019-01-29 15:09:22   \n",
       "1   411a4153864fbc78c5c8c7b541e394e4883f4599 2019-01-29 15:01:48   \n",
       "3   c6b1dd01a5f13915d390f815a5f73588595f5bd0 2019-01-29 15:06:26   \n",
       "15  67c43122cf380564b1e938fce6328ac5556b140b 2019-01-29 15:04:56   \n",
       "16  2c3b5fd129704034a61b6010e1e9726248e2f327 2019-01-29 15:03:51   \n",
       "17  49180482fd4aaf0f2e40e6e5976bae0857a6c992 2019-01-29 15:27:36   \n",
       "18  001c107fc0458537ae19c85e9a3c49a6cc924729 2019-01-29 15:07:45   \n",
       "21  203448023608876143d7cf04544adf6584d2c4ff 2019-01-29 15:32:20   \n",
       "23  f935bc013f07cec72918b9e5dec71629c4c17e4a 2019-01-29 15:10:38   \n",
       "26  dc67c4d3b08bf06f7b1097ccce650ed63428da0e 2019-01-29 15:39:32   \n",
       "28  f3c4961dac0505ca03bfe40eed12ffad47c3bc61 2019-01-29 15:39:37   \n",
       "33  6dae3700cb8b5032bad0dadda8d599aa38dba631 2019-01-29 15:45:07   \n",
       "38  478e9e1e09f71a51c1583aafaa1fad6a54ac4faf 2019-01-29 15:51:27   \n",
       "39  f1a2582becadd1e7aa6210dec3148f50354676dd 2019-01-29 15:47:04   \n",
       "41  f2880ad4877f501cb3e487105bf1811f6f339e9f 2019-01-29 15:39:55   \n",
       "31  559067b5a40377a3e836fec2083e6ba0e2ee92e4 2019-01-29 16:29:40   \n",
       "0   1352bf1fd49ca28f77610e5fc46c0e952ea66040 2019-01-29 17:03:24   \n",
       "\n",
       "            date_cam_2  cam_1  cam_2 tps_parcours     cameras  \n",
       "0  2019-01-29 08:17:44     19      5     00:35:47  [19, 4, 5]  \n",
       "1  2019-01-29 08:22:36     19      5     00:37:03  [19, 4, 5]  \n",
       "2  2019-01-29 08:28:22     19      5     00:34:58  [19, 4, 5]  \n",
       "3  2019-01-29 08:30:39     19      5     00:36:20  [19, 4, 5]  \n",
       "4  2019-01-29 08:32:54     19      5     00:36:48  [19, 4, 5]  \n",
       "5  2019-01-29 08:34:34     19      5     00:38:31  [19, 4, 5]  \n",
       "6  2019-01-29 08:34:25     19      5     00:36:29  [19, 4, 5]  \n",
       "7  2019-01-29 08:35:20     19      5     00:36:45  [19, 4, 5]  \n",
       "8  2019-01-29 08:35:38     19      5     00:36:02  [19, 4, 5]  \n",
       "9  2019-01-29 10:26:17     19      5     02:31:32     [19, 5]  \n",
       "0  2019-01-29 08:37:18     19      5     00:36:22  [19, 4, 5]  \n",
       "1  2019-01-29 08:37:04     19      5     00:35:57  [19, 4, 5]  \n",
       "2  2019-01-29 08:37:20     19      5     00:36:04  [19, 4, 5]  \n",
       "3  2019-01-29 08:37:42     19      5     00:35:08  [19, 4, 5]  \n",
       "4  2019-01-29 08:38:07     19      5     00:35:48  [19, 4, 5]  \n",
       "5  2019-01-29 08:38:16     19      5     00:35:10  [19, 4, 5]  \n",
       "6  2019-01-29 08:38:48     19      5     00:34:53  [19, 4, 5]  \n",
       "7  2019-01-29 08:39:21     19      5     00:35:07  [19, 4, 5]  \n",
       "8  2019-01-29 08:39:49     19      5     00:34:42  [19, 4, 5]  \n",
       "9  2019-01-29 08:42:27     19      5     00:35:04  [19, 4, 5]  \n",
       "10 2019-01-29 08:43:36     19      5     00:35:16  [19, 4, 5]  \n",
       "11 2019-01-29 08:46:33     19      5     00:35:02  [19, 4, 5]  \n",
       "12 2019-01-29 08:46:39     19      5     00:34:33  [19, 4, 5]  \n",
       "13 2019-01-29 08:47:29     19      5     00:35:16  [19, 4, 5]  \n",
       "14 2019-01-29 08:47:52     19      5     00:34:39  [19, 4, 5]  \n",
       "15 2019-01-29 08:50:59     19      5     00:34:30  [19, 4, 5]  \n",
       "16 2019-01-29 08:52:39     19      5     00:32:18  [19, 4, 5]  \n",
       "17 2019-01-29 08:52:58     19      5     00:32:18  [19, 4, 5]  \n",
       "18 2019-01-29 08:52:26     19      5     00:31:31  [19, 4, 5]  \n",
       "19 2019-01-29 08:54:32     19      5     00:32:50  [19, 4, 5]  \n",
       "..                 ...    ...    ...          ...         ...  \n",
       "19 2019-01-29 16:22:06     19      5     00:54:40  [19, 4, 5]  \n",
       "20 2019-01-29 16:29:05     19      5     00:57:04  [19, 4, 5]  \n",
       "21 2019-01-29 16:30:46     19      5     00:55:23  [19, 4, 5]  \n",
       "22 2019-01-29 16:31:04     19      5     00:56:09  [19, 4, 5]  \n",
       "23 2019-01-29 16:31:32     19      5     00:56:41  [19, 4, 5]  \n",
       "24 2019-01-29 16:31:39     19      5     00:55:14  [19, 4, 5]  \n",
       "25 2019-01-29 16:32:16     19      5     00:57:03  [19, 4, 5]  \n",
       "26 2019-01-29 16:35:22     19      5     00:58:49  [19, 4, 5]  \n",
       "27 2019-01-29 16:35:01     19      5     00:53:23  [19, 4, 5]  \n",
       "28 2019-01-29 16:35:58     19      5     00:57:36  [19, 4, 5]  \n",
       "29 2019-01-29 16:54:06     19      5     00:55:33  [19, 4, 5]  \n",
       "30 2019-01-29 16:55:48     19      5     00:56:34  [19, 4, 5]  \n",
       "0  2019-01-29 16:18:38     19      5     01:14:58  [19, 1, 5]  \n",
       "1  2019-01-29 16:31:45     19      5     01:22:23  [19, 1, 5]  \n",
       "1  2019-01-29 15:52:37     19      5     00:50:49     [19, 5]  \n",
       "3  2019-01-29 15:55:35     19      5     00:49:09     [19, 5]  \n",
       "15 2019-01-29 16:19:48     19      5     01:14:52     [19, 5]  \n",
       "16 2019-01-29 16:21:31     19      5     01:17:40     [19, 5]  \n",
       "17 2019-01-29 16:23:14     19      5     00:55:38     [19, 5]  \n",
       "18 2019-01-29 16:23:58     19      5     01:16:13     [19, 5]  \n",
       "21 2019-01-29 16:26:28     19      5     00:54:08     [19, 5]  \n",
       "23 2019-01-29 16:27:48     19      5     01:17:10     [19, 5]  \n",
       "26 2019-01-29 16:36:34     19      5     00:57:02     [19, 5]  \n",
       "28 2019-01-29 16:37:06     19      5     00:57:29     [19, 5]  \n",
       "33 2019-01-29 16:44:45     19      5     00:59:38     [19, 5]  \n",
       "38 2019-01-29 16:49:52     19      5     00:58:25     [19, 5]  \n",
       "39 2019-01-29 16:51:18     19      5     01:04:14     [19, 5]  \n",
       "41 2019-01-29 16:59:02     19      5     01:19:07     [19, 5]  \n",
       "31 2019-01-30 07:59:48     19      5     15:30:08     [19, 5]  \n",
       "0  2019-01-30 08:56:20     19      5     15:52:56  [19, 4, 5]  \n",
       "\n",
       "[625 rows x 7 columns]"
      ]
     },
     "execution_count": 12,
     "metadata": {},
     "output_type": "execute_result"
    }
   ],
   "source": [
    "dico_od#pour verif"
   ]
  },
  {
   "cell_type": "code",
   "execution_count": 40,
   "metadata": {},
   "outputs": [],
   "source": [
    "#test graphs"
   ]
  },
  {
   "cell_type": "code",
   "execution_count": 135,
   "metadata": {},
   "outputs": [],
   "source": [
    "test_graph1=t.trajet_direct(df_journee,'2019-01-29 08:00:00', 60, 16, 19,4)"
   ]
  },
  {
   "cell_type": "code",
   "execution_count": 138,
   "metadata": {},
   "outputs": [],
   "source": [
    "g_pl_ok=test_graph1.plot_graphs()[2]"
   ]
  },
  {
   "cell_type": "code",
   "execution_count": 139,
   "metadata": {},
   "outputs": [
    {
     "data": {
      "application/vnd.vegalite.v2+json": {
       "$schema": "https://vega.github.io/schema/vega-lite/v2.6.0.json",
       "config": {
        "view": {
         "height": 300,
         "width": 400
        }
       },
       "data": {
        "name": "data-ec1baf1913211088fcb7976d77d36281"
       },
       "datasets": {
        "data-ec1baf1913211088fcb7976d77d36281": [
         {
          "created_x": "2019-01-29T08:00:20",
          "l": 1,
          "pl_85pctl": "2018-01-01T00:24:39.400000",
          "pl_90pctl": "2018-01-01T00:42:43.100000",
          "tps_parcours": "2018-01-01T00:24:20"
         },
         {
          "created_x": "2019-01-29T08:00:50",
          "l": 1,
          "pl_85pctl": "2018-01-01T00:24:39.400000",
          "pl_90pctl": "2018-01-01T00:42:43.100000",
          "tps_parcours": "2018-01-01T00:24:19"
         },
         {
          "created_x": "2019-01-29T08:00:56",
          "l": 1,
          "pl_85pctl": "2018-01-01T00:24:39.400000",
          "pl_90pctl": "2018-01-01T00:42:43.100000",
          "tps_parcours": "2018-01-01T00:24:38"
         },
         {
          "created_x": "2019-01-29T08:01:07",
          "l": 1,
          "pl_85pctl": "2018-01-01T00:24:39.400000",
          "pl_90pctl": "2018-01-01T00:42:43.100000",
          "tps_parcours": "2018-01-01T00:24:42"
         },
         {
          "created_x": "2019-01-29T08:01:16",
          "l": 1,
          "pl_85pctl": "2018-01-01T00:24:39.400000",
          "pl_90pctl": "2018-01-01T00:42:43.100000",
          "tps_parcours": "2018-01-01T00:24:46"
         },
         {
          "created_x": "2019-01-29T08:02:39",
          "l": 1,
          "pl_85pctl": "2018-01-01T00:24:39.400000",
          "pl_90pctl": "2018-01-01T00:42:43.100000",
          "tps_parcours": "2018-01-01T00:23:31"
         },
         {
          "created_x": "2019-01-29T08:02:34",
          "l": 1,
          "pl_85pctl": "2018-01-01T00:24:39.400000",
          "pl_90pctl": "2018-01-01T00:42:43.100000",
          "tps_parcours": "2018-01-01T00:23:40"
         },
         {
          "created_x": "2019-01-29T08:02:19",
          "l": 1,
          "pl_85pctl": "2018-01-01T00:24:39.400000",
          "pl_90pctl": "2018-01-01T00:42:43.100000",
          "tps_parcours": "2018-01-01T00:24:12"
         },
         {
          "created_x": "2019-01-29T08:06:15",
          "l": 1,
          "pl_85pctl": "2018-01-01T00:24:39.400000",
          "pl_90pctl": "2018-01-01T00:42:43.100000",
          "tps_parcours": "2018-01-01T00:20:33"
         },
         {
          "created_x": "2019-01-29T08:03:06",
          "l": 1,
          "pl_85pctl": "2018-01-01T00:24:39.400000",
          "pl_90pctl": "2018-01-01T00:42:43.100000",
          "tps_parcours": "2018-01-01T00:24:06"
         },
         {
          "created_x": "2019-01-29T08:03:55",
          "l": 1,
          "pl_85pctl": "2018-01-01T00:24:39.400000",
          "pl_90pctl": "2018-01-01T00:42:43.100000",
          "tps_parcours": "2018-01-01T00:23:47"
         },
         {
          "created_x": "2019-01-29T08:04:14",
          "l": 1,
          "pl_85pctl": "2018-01-01T00:24:39.400000",
          "pl_90pctl": "2018-01-01T00:42:43.100000",
          "tps_parcours": "2018-01-01T00:24:14"
         },
         {
          "created_x": "2019-01-29T08:05:07",
          "l": 1,
          "pl_85pctl": "2018-01-01T00:24:39.400000",
          "pl_90pctl": "2018-01-01T00:42:43.100000",
          "tps_parcours": "2018-01-01T00:23:46"
         },
         {
          "created_x": "2019-01-29T08:06:59",
          "l": 1,
          "pl_85pctl": "2018-01-01T00:24:39.400000",
          "pl_90pctl": "2018-01-01T00:42:43.100000",
          "tps_parcours": "2018-01-01T00:24:08"
         },
         {
          "created_x": "2019-01-29T08:07:23",
          "l": 1,
          "pl_85pctl": "2018-01-01T00:24:39.400000",
          "pl_90pctl": "2018-01-01T00:42:43.100000",
          "tps_parcours": "2018-01-01T00:23:53"
         },
         {
          "created_x": "2019-01-29T08:07:33",
          "l": 1,
          "pl_85pctl": "2018-01-01T00:24:39.400000",
          "pl_90pctl": "2018-01-01T00:42:43.100000",
          "tps_parcours": "2018-01-01T00:23:53"
         },
         {
          "created_x": "2019-01-29T08:08:20",
          "l": 1,
          "pl_85pctl": "2018-01-01T00:24:39.400000",
          "pl_90pctl": "2018-01-01T00:42:43.100000",
          "tps_parcours": "2018-01-01T00:23:46"
         },
         {
          "created_x": "2019-01-29T08:11:31",
          "l": 1,
          "pl_85pctl": "2018-01-01T00:24:39.400000",
          "pl_90pctl": "2018-01-01T00:42:43.100000",
          "tps_parcours": "2018-01-01T00:23:13"
         },
         {
          "created_x": "2019-01-29T08:12:06",
          "l": 1,
          "pl_85pctl": "2018-01-01T00:24:39.400000",
          "pl_90pctl": "2018-01-01T00:42:43.100000",
          "tps_parcours": "2018-01-01T00:22:53"
         },
         {
          "created_x": "2019-01-29T08:12:13",
          "l": 1,
          "pl_85pctl": "2018-01-01T00:24:39.400000",
          "pl_90pctl": "2018-01-01T00:42:43.100000",
          "tps_parcours": "2018-01-01T00:23:30"
         },
         {
          "created_x": "2019-01-29T08:13:13",
          "l": 1,
          "pl_85pctl": "2018-01-01T00:24:39.400000",
          "pl_90pctl": "2018-01-01T00:42:43.100000",
          "tps_parcours": "2018-01-01T00:23:29"
         },
         {
          "created_x": "2019-01-29T08:29:40",
          "l": 1,
          "pl_85pctl": "2018-01-01T00:24:39.400000",
          "pl_90pctl": "2018-01-01T00:42:43.100000",
          "tps_parcours": "2018-01-01T00:09:48"
         },
         {
          "created_x": "2019-01-29T08:16:29",
          "l": 1,
          "pl_85pctl": "2018-01-01T00:24:39.400000",
          "pl_90pctl": "2018-01-01T00:42:43.100000",
          "tps_parcours": "2018-01-01T00:23:09"
         },
         {
          "created_x": "2019-01-29T08:18:17",
          "l": 1,
          "pl_85pctl": "2018-01-01T00:24:39.400000",
          "pl_90pctl": "2018-01-01T00:42:43.100000",
          "tps_parcours": "2018-01-01T00:22:07"
         },
         {
          "created_x": "2019-01-29T08:20:29",
          "l": 1,
          "pl_85pctl": "2018-01-01T00:24:39.400000",
          "pl_90pctl": "2018-01-01T00:42:43.100000",
          "tps_parcours": "2018-01-01T00:20:27"
         },
         {
          "created_x": "2019-01-29T08:20:21",
          "l": 1,
          "pl_85pctl": "2018-01-01T00:24:39.400000",
          "pl_90pctl": "2018-01-01T00:42:43.100000",
          "tps_parcours": "2018-01-01T00:21:07"
         },
         {
          "created_x": "2019-01-29T08:06:41",
          "l": 1,
          "pl_85pctl": "2018-01-01T00:24:39.400000",
          "pl_90pctl": "2018-01-01T00:42:43.100000",
          "tps_parcours": "2018-01-01T00:35:01"
         },
         {
          "created_x": "2019-01-29T08:20:40",
          "l": 1,
          "pl_85pctl": "2018-01-01T00:24:39.400000",
          "pl_90pctl": "2018-01-01T00:42:43.100000",
          "tps_parcours": "2018-01-01T00:21:10"
         },
         {
          "created_x": "2019-01-29T08:20:55",
          "l": 1,
          "pl_85pctl": "2018-01-01T00:24:39.400000",
          "pl_90pctl": "2018-01-01T00:42:43.100000",
          "tps_parcours": "2018-01-01T00:21:03"
         },
         {
          "created_x": "2019-01-29T08:21:42",
          "l": 1,
          "pl_85pctl": "2018-01-01T00:24:39.400000",
          "pl_90pctl": "2018-01-01T00:42:43.100000",
          "tps_parcours": "2018-01-01T00:21:07"
         },
         {
          "created_x": "2019-01-29T08:21:58",
          "l": 1,
          "pl_85pctl": "2018-01-01T00:24:39.400000",
          "pl_90pctl": "2018-01-01T00:42:43.100000",
          "tps_parcours": "2018-01-01T00:21:31"
         },
         {
          "created_x": "2019-01-29T08:24:44",
          "l": 1,
          "pl_85pctl": "2018-01-01T00:24:39.400000",
          "pl_90pctl": "2018-01-01T00:42:43.100000",
          "tps_parcours": "2018-01-01T00:19:55"
         },
         {
          "created_x": "2019-01-29T08:24:52",
          "l": 1,
          "pl_85pctl": "2018-01-01T00:24:39.400000",
          "pl_90pctl": "2018-01-01T00:42:43.100000",
          "tps_parcours": "2018-01-01T00:20:23"
         },
         {
          "created_x": "2019-01-29T08:24:38",
          "l": 1,
          "pl_85pctl": "2018-01-01T00:24:39.400000",
          "pl_90pctl": "2018-01-01T00:42:43.100000",
          "tps_parcours": "2018-01-01T00:20:43"
         },
         {
          "created_x": "2019-01-29T08:24:38",
          "l": 1,
          "pl_85pctl": "2018-01-01T00:24:39.400000",
          "pl_90pctl": "2018-01-01T00:42:43.100000",
          "tps_parcours": "2018-01-01T00:20:44"
         },
         {
          "created_x": "2019-01-29T08:24:57",
          "l": 1,
          "pl_85pctl": "2018-01-01T00:24:39.400000",
          "pl_90pctl": "2018-01-01T00:42:43.100000",
          "tps_parcours": "2018-01-01T00:20:32"
         },
         {
          "created_x": "2019-01-29T08:25:51",
          "l": 1,
          "pl_85pctl": "2018-01-01T00:24:39.400000",
          "pl_90pctl": "2018-01-01T00:42:43.100000",
          "tps_parcours": "2018-01-01T00:20:19"
         },
         {
          "created_x": "2019-01-29T08:26:48",
          "l": 1,
          "pl_85pctl": "2018-01-01T00:24:39.400000",
          "pl_90pctl": "2018-01-01T00:42:43.100000",
          "tps_parcours": "2018-01-01T00:20:04"
         },
         {
          "created_x": "2019-01-29T08:26:48",
          "l": 1,
          "pl_85pctl": "2018-01-01T00:24:39.400000",
          "pl_90pctl": "2018-01-01T00:42:43.100000",
          "tps_parcours": "2018-01-01T00:20:04"
         },
         {
          "created_x": "2019-01-29T08:27:50",
          "l": 1,
          "pl_85pctl": "2018-01-01T00:24:39.400000",
          "pl_90pctl": "2018-01-01T00:42:43.100000",
          "tps_parcours": "2018-01-01T00:20:13"
         },
         {
          "created_x": "2019-01-29T08:28:04",
          "l": 1,
          "pl_85pctl": "2018-01-01T00:24:39.400000",
          "pl_90pctl": "2018-01-01T00:42:43.100000",
          "tps_parcours": "2018-01-01T00:20:02"
         },
         {
          "created_x": "2019-01-29T08:27:45",
          "l": 1,
          "pl_85pctl": "2018-01-01T00:24:39.400000",
          "pl_90pctl": "2018-01-01T00:42:43.100000",
          "tps_parcours": "2018-01-01T00:20:37"
         },
         {
          "created_x": "2019-01-29T08:30:22",
          "l": 1,
          "pl_85pctl": "2018-01-01T00:24:39.400000",
          "pl_90pctl": "2018-01-01T00:42:43.100000",
          "tps_parcours": "2018-01-01T00:18:45"
         },
         {
          "created_x": "2019-01-29T08:33:09",
          "l": 1,
          "pl_85pctl": "2018-01-01T00:24:39.400000",
          "pl_90pctl": "2018-01-01T00:42:43.100000",
          "tps_parcours": "2018-01-01T00:16:10"
         },
         {
          "created_x": "2019-01-29T08:29:11",
          "l": 1,
          "pl_85pctl": "2018-01-01T00:24:39.400000",
          "pl_90pctl": "2018-01-01T00:42:43.100000",
          "tps_parcours": "2018-01-01T00:20:09"
         },
         {
          "created_x": "2019-01-29T08:29:25",
          "l": 1,
          "pl_85pctl": "2018-01-01T00:24:39.400000",
          "pl_90pctl": "2018-01-01T00:42:43.100000",
          "tps_parcours": "2018-01-01T00:20:12"
         },
         {
          "created_x": "2019-01-29T08:29:28",
          "l": 1,
          "pl_85pctl": "2018-01-01T00:24:39.400000",
          "pl_90pctl": "2018-01-01T00:42:43.100000",
          "tps_parcours": "2018-01-01T00:20:20"
         },
         {
          "created_x": "2019-01-29T08:31:47",
          "l": 1,
          "pl_85pctl": "2018-01-01T00:24:39.400000",
          "pl_90pctl": "2018-01-01T00:42:43.100000",
          "tps_parcours": "2018-01-01T00:18:21"
         },
         {
          "created_x": "2019-01-29T08:31:09",
          "l": 1,
          "pl_85pctl": "2018-01-01T00:24:39.400000",
          "pl_90pctl": "2018-01-01T00:42:43.100000",
          "tps_parcours": "2018-01-01T00:19:31"
         },
         {
          "created_x": "2019-01-29T08:31:16",
          "l": 1,
          "pl_85pctl": "2018-01-01T00:24:39.400000",
          "pl_90pctl": "2018-01-01T00:42:43.100000",
          "tps_parcours": "2018-01-01T00:19:29"
         },
         {
          "created_x": "2019-01-29T08:15:53",
          "l": 1,
          "pl_85pctl": "2018-01-01T00:24:39.400000",
          "pl_90pctl": "2018-01-01T00:42:43.100000",
          "tps_parcours": "2018-01-01T00:35:01"
         },
         {
          "created_x": "2019-01-29T08:31:20",
          "l": 1,
          "pl_85pctl": "2018-01-01T00:24:39.400000",
          "pl_90pctl": "2018-01-01T00:42:43.100000",
          "tps_parcours": "2018-01-01T00:19:41"
         },
         {
          "created_x": "2019-01-29T08:31:06",
          "l": 1,
          "pl_85pctl": "2018-01-01T00:24:39.400000",
          "pl_90pctl": "2018-01-01T00:42:43.100000",
          "tps_parcours": "2018-01-01T00:20:18"
         },
         {
          "created_x": "2019-01-29T08:32:15",
          "l": 1,
          "pl_85pctl": "2018-01-01T00:24:39.400000",
          "pl_90pctl": "2018-01-01T00:42:43.100000",
          "tps_parcours": "2018-01-01T00:19:27"
         },
         {
          "created_x": "2019-01-29T08:31:34",
          "l": 1,
          "pl_85pctl": "2018-01-01T00:24:39.400000",
          "pl_90pctl": "2018-01-01T00:42:43.100000",
          "tps_parcours": "2018-01-01T00:20:27"
         },
         {
          "created_x": "2019-01-29T08:32:51",
          "l": 1,
          "pl_85pctl": "2018-01-01T00:24:39.400000",
          "pl_90pctl": "2018-01-01T00:42:43.100000",
          "tps_parcours": "2018-01-01T00:19:42"
         },
         {
          "created_x": "2019-01-29T08:32:20",
          "l": 1,
          "pl_85pctl": "2018-01-01T00:24:39.400000",
          "pl_90pctl": "2018-01-01T00:42:43.100000",
          "tps_parcours": "2018-01-01T00:20:17"
         },
         {
          "created_x": "2019-01-29T08:32:55",
          "l": 1,
          "pl_85pctl": "2018-01-01T00:24:39.400000",
          "pl_90pctl": "2018-01-01T00:42:43.100000",
          "tps_parcours": "2018-01-01T00:19:52"
         },
         {
          "created_x": "2019-01-29T08:33:38",
          "l": 1,
          "pl_85pctl": "2018-01-01T00:24:39.400000",
          "pl_90pctl": "2018-01-01T00:42:43.100000",
          "tps_parcours": "2018-01-01T00:20:01"
         },
         {
          "created_x": "2019-01-29T08:33:30",
          "l": 1,
          "pl_85pctl": "2018-01-01T00:24:39.400000",
          "pl_90pctl": "2018-01-01T00:42:43.100000",
          "tps_parcours": "2018-01-01T00:20:26"
         },
         {
          "created_x": "2019-01-29T08:34:23",
          "l": 1,
          "pl_85pctl": "2018-01-01T00:24:39.400000",
          "pl_90pctl": "2018-01-01T00:42:43.100000",
          "tps_parcours": "2018-01-01T00:20:00"
         },
         {
          "created_x": "2019-01-29T08:20:42",
          "l": 1,
          "pl_85pctl": "2018-01-01T00:24:39.400000",
          "pl_90pctl": "2018-01-01T00:42:43.100000",
          "tps_parcours": "2018-01-01T00:33:52"
         },
         {
          "created_x": "2019-01-29T08:34:36",
          "l": 1,
          "pl_85pctl": "2018-01-01T00:24:39.400000",
          "pl_90pctl": "2018-01-01T00:42:43.100000",
          "tps_parcours": "2018-01-01T00:20:10"
         },
         {
          "created_x": "2019-01-29T08:34:57",
          "l": 1,
          "pl_85pctl": "2018-01-01T00:24:39.400000",
          "pl_90pctl": "2018-01-01T00:42:43.100000",
          "tps_parcours": "2018-01-01T00:19:55"
         },
         {
          "created_x": "2019-01-29T08:35:06",
          "l": 1,
          "pl_85pctl": "2018-01-01T00:24:39.400000",
          "pl_90pctl": "2018-01-01T00:42:43.100000",
          "tps_parcours": "2018-01-01T00:20:42"
         },
         {
          "created_x": "2019-01-29T08:36:38",
          "l": 1,
          "pl_85pctl": "2018-01-01T00:24:39.400000",
          "pl_90pctl": "2018-01-01T00:42:43.100000",
          "tps_parcours": "2018-01-01T00:19:37"
         },
         {
          "created_x": "2019-01-29T08:37:29",
          "l": 1,
          "pl_85pctl": "2018-01-01T00:24:39.400000",
          "pl_90pctl": "2018-01-01T00:42:43.100000",
          "tps_parcours": "2018-01-01T00:19:55"
         },
         {
          "created_x": "2019-01-29T08:37:26",
          "l": 1,
          "pl_85pctl": "2018-01-01T00:24:39.400000",
          "pl_90pctl": "2018-01-01T00:42:43.100000",
          "tps_parcours": "2018-01-01T00:19:59"
         },
         {
          "created_x": "2019-01-29T08:37:32",
          "l": 1,
          "pl_85pctl": "2018-01-01T00:24:39.400000",
          "pl_90pctl": "2018-01-01T00:42:43.100000",
          "tps_parcours": "2018-01-01T00:20:17"
         },
         {
          "created_x": "2019-01-29T08:37:40",
          "l": 1,
          "pl_85pctl": "2018-01-01T00:24:39.400000",
          "pl_90pctl": "2018-01-01T00:42:43.100000",
          "tps_parcours": "2018-01-01T00:20:54"
         },
         {
          "created_x": "2019-01-29T08:37:52",
          "l": 1,
          "pl_85pctl": "2018-01-01T00:24:39.400000",
          "pl_90pctl": "2018-01-01T00:42:43.100000",
          "tps_parcours": "2018-01-01T00:20:45"
         },
         {
          "created_x": "2019-01-29T08:38:21",
          "l": 1,
          "pl_85pctl": "2018-01-01T00:24:39.400000",
          "pl_90pctl": "2018-01-01T00:42:43.100000",
          "tps_parcours": "2018-01-01T00:20:24"
         },
         {
          "created_x": "2019-01-29T08:38:46",
          "l": 1,
          "pl_85pctl": "2018-01-01T00:24:39.400000",
          "pl_90pctl": "2018-01-01T00:42:43.100000",
          "tps_parcours": "2018-01-01T00:20:16"
         },
         {
          "created_x": "2019-01-29T08:39:11",
          "l": 1,
          "pl_85pctl": "2018-01-01T00:24:39.400000",
          "pl_90pctl": "2018-01-01T00:42:43.100000",
          "tps_parcours": "2018-01-01T00:19:57"
         },
         {
          "created_x": "2019-01-29T08:39:31",
          "l": 1,
          "pl_85pctl": "2018-01-01T00:24:39.400000",
          "pl_90pctl": "2018-01-01T00:42:43.100000",
          "tps_parcours": "2018-01-01T00:19:37"
         },
         {
          "created_x": "2019-01-29T08:38:54",
          "l": 1,
          "pl_85pctl": "2018-01-01T00:24:39.400000",
          "pl_90pctl": "2018-01-01T00:42:43.100000",
          "tps_parcours": "2018-01-01T00:20:28"
         },
         {
          "created_x": "2019-01-29T08:38:48",
          "l": 1,
          "pl_85pctl": "2018-01-01T00:24:39.400000",
          "pl_90pctl": "2018-01-01T00:42:43.100000",
          "tps_parcours": "2018-01-01T00:20:51"
         },
         {
          "created_x": "2019-01-29T08:39:45",
          "l": 1,
          "pl_85pctl": "2018-01-01T00:24:39.400000",
          "pl_90pctl": "2018-01-01T00:42:43.100000",
          "tps_parcours": "2018-01-01T00:19:54"
         },
         {
          "created_x": "2019-01-29T08:39:57",
          "l": 1,
          "pl_85pctl": "2018-01-01T00:24:39.400000",
          "pl_90pctl": "2018-01-01T00:42:43.100000",
          "tps_parcours": "2018-01-01T00:20:11"
         },
         {
          "created_x": "2019-01-29T08:40:35",
          "l": 1,
          "pl_85pctl": "2018-01-01T00:24:39.400000",
          "pl_90pctl": "2018-01-01T00:42:43.100000",
          "tps_parcours": "2018-01-01T00:19:40"
         },
         {
          "created_x": "2019-01-29T08:40:06",
          "l": 1,
          "pl_85pctl": "2018-01-01T00:24:39.400000",
          "pl_90pctl": "2018-01-01T00:42:43.100000",
          "tps_parcours": "2018-01-01T00:20:13"
         },
         {
          "created_x": "2019-01-29T08:41:00",
          "l": 1,
          "pl_85pctl": "2018-01-01T00:24:39.400000",
          "pl_90pctl": "2018-01-01T00:42:43.100000",
          "tps_parcours": "2018-01-01T00:19:51"
         },
         {
          "created_x": "2019-01-29T08:23:45",
          "l": 1,
          "pl_85pctl": "2018-01-01T00:24:39.400000",
          "pl_90pctl": "2018-01-01T00:42:43.100000",
          "tps_parcours": "2018-01-01T00:37:07"
         },
         {
          "created_x": "2019-01-29T08:41:44",
          "l": 1,
          "pl_85pctl": "2018-01-01T00:24:39.400000",
          "pl_90pctl": "2018-01-01T00:42:43.100000",
          "tps_parcours": "2018-01-01T00:20:03"
         },
         {
          "created_x": "2019-01-29T08:41:51",
          "l": 1,
          "pl_85pctl": "2018-01-01T00:24:39.400000",
          "pl_90pctl": "2018-01-01T00:42:43.100000",
          "tps_parcours": "2018-01-01T00:20:01"
         },
         {
          "created_x": "2019-01-29T08:41:51",
          "l": 1,
          "pl_85pctl": "2018-01-01T00:24:39.400000",
          "pl_90pctl": "2018-01-01T00:42:43.100000",
          "tps_parcours": "2018-01-01T00:20:01"
         },
         {
          "created_x": "2019-01-29T08:42:07",
          "l": 1,
          "pl_85pctl": "2018-01-01T00:24:39.400000",
          "pl_90pctl": "2018-01-01T00:42:43.100000",
          "tps_parcours": "2018-01-01T00:19:52"
         },
         {
          "created_x": "2019-01-29T08:43:02",
          "l": 1,
          "pl_85pctl": "2018-01-01T00:24:39.400000",
          "pl_90pctl": "2018-01-01T00:42:43.100000",
          "tps_parcours": "2018-01-01T00:19:51"
         },
         {
          "created_x": "2019-01-29T08:43:33",
          "l": 1,
          "pl_85pctl": "2018-01-01T00:24:39.400000",
          "pl_90pctl": "2018-01-01T00:42:43.100000",
          "tps_parcours": "2018-01-01T00:19:54"
         },
         {
          "created_x": "2019-01-29T08:43:26",
          "l": 1,
          "pl_85pctl": "2018-01-01T00:24:39.400000",
          "pl_90pctl": "2018-01-01T00:42:43.100000",
          "tps_parcours": "2018-01-01T00:20:05"
         },
         {
          "created_x": "2019-01-29T08:43:47",
          "l": 1,
          "pl_85pctl": "2018-01-01T00:24:39.400000",
          "pl_90pctl": "2018-01-01T00:42:43.100000",
          "tps_parcours": "2018-01-01T00:19:46"
         },
         {
          "created_x": "2019-01-29T08:44:24",
          "l": 1,
          "pl_85pctl": "2018-01-01T00:24:39.400000",
          "pl_90pctl": "2018-01-01T00:42:43.100000",
          "tps_parcours": "2018-01-01T00:19:38"
         },
         {
          "created_x": "2019-01-29T08:41:38",
          "l": 1,
          "pl_85pctl": "2018-01-01T00:24:39.400000",
          "pl_90pctl": "2018-01-01T00:42:43.100000",
          "tps_parcours": "2018-01-01T00:22:48"
         },
         {
          "created_x": "2019-01-29T08:44:04",
          "l": 1,
          "pl_85pctl": "2018-01-01T00:24:39.400000",
          "pl_90pctl": "2018-01-01T00:42:43.100000",
          "tps_parcours": "2018-01-01T00:20:25"
         },
         {
          "created_x": "2019-01-29T08:45:03",
          "l": 1,
          "pl_85pctl": "2018-01-01T00:24:39.400000",
          "pl_90pctl": "2018-01-01T00:42:43.100000",
          "tps_parcours": "2018-01-01T00:19:36"
         },
         {
          "created_x": "2019-01-29T08:45:16",
          "l": 1,
          "pl_85pctl": "2018-01-01T00:24:39.400000",
          "pl_90pctl": "2018-01-01T00:42:43.100000",
          "tps_parcours": "2018-01-01T00:19:30"
         },
         {
          "created_x": "2019-01-29T08:44:27",
          "l": 1,
          "pl_85pctl": "2018-01-01T00:24:39.400000",
          "pl_90pctl": "2018-01-01T00:42:43.100000",
          "tps_parcours": "2018-01-01T00:20:28"
         },
         {
          "created_x": "2019-01-29T08:45:56",
          "l": 1,
          "pl_85pctl": "2018-01-01T00:24:39.400000",
          "pl_90pctl": "2018-01-01T00:42:43.100000",
          "tps_parcours": "2018-01-01T00:20:10"
         },
         {
          "created_x": "2019-01-29T08:46:09",
          "l": 1,
          "pl_85pctl": "2018-01-01T00:24:39.400000",
          "pl_90pctl": "2018-01-01T00:42:43.100000",
          "tps_parcours": "2018-01-01T00:20:04"
         },
         {
          "created_x": "2019-01-29T08:46:42",
          "l": 1,
          "pl_85pctl": "2018-01-01T00:24:39.400000",
          "pl_90pctl": "2018-01-01T00:42:43.100000",
          "tps_parcours": "2018-01-01T00:19:49"
         },
         {
          "created_x": "2019-01-29T08:46:47",
          "l": 1,
          "pl_85pctl": "2018-01-01T00:24:39.400000",
          "pl_90pctl": "2018-01-01T00:42:43.100000",
          "tps_parcours": "2018-01-01T00:20:12"
         },
         {
          "created_x": "2019-01-29T08:47:02",
          "l": 1,
          "pl_85pctl": "2018-01-01T00:24:39.400000",
          "pl_90pctl": "2018-01-01T00:42:43.100000",
          "tps_parcours": "2018-01-01T00:20:38"
         },
         {
          "created_x": "2019-01-29T08:48:01",
          "l": 1,
          "pl_85pctl": "2018-01-01T00:24:39.400000",
          "pl_90pctl": "2018-01-01T00:42:43.100000",
          "tps_parcours": "2018-01-01T00:20:00"
         },
         {
          "created_x": "2019-01-29T08:25:07",
          "l": 1,
          "pl_85pctl": "2018-01-01T00:24:39.400000",
          "pl_90pctl": "2018-01-01T00:42:43.100000",
          "tps_parcours": "2018-01-01T00:43:05"
         },
         {
          "created_x": "2019-01-29T08:29:04",
          "l": 1,
          "pl_85pctl": "2018-01-01T00:24:39.400000",
          "pl_90pctl": "2018-01-01T00:42:43.100000",
          "tps_parcours": "2018-01-01T00:39:26"
         },
         {
          "created_x": "2019-01-29T08:48:07",
          "l": 1,
          "pl_85pctl": "2018-01-01T00:24:39.400000",
          "pl_90pctl": "2018-01-01T00:42:43.100000",
          "tps_parcours": "2018-01-01T00:20:35"
         },
         {
          "created_x": "2019-01-29T08:48:14",
          "l": 1,
          "pl_85pctl": "2018-01-01T00:24:39.400000",
          "pl_90pctl": "2018-01-01T00:42:43.100000",
          "tps_parcours": "2018-01-01T00:20:52"
         },
         {
          "created_x": "2019-01-29T08:48:18",
          "l": 1,
          "pl_85pctl": "2018-01-01T00:24:39.400000",
          "pl_90pctl": "2018-01-01T00:42:43.100000",
          "tps_parcours": "2018-01-01T00:21:02"
         },
         {
          "created_x": "2019-01-29T08:49:29",
          "l": 1,
          "pl_85pctl": "2018-01-01T00:24:39.400000",
          "pl_90pctl": "2018-01-01T00:42:43.100000",
          "tps_parcours": "2018-01-01T00:19:55"
         },
         {
          "created_x": "2019-01-29T08:48:32",
          "l": 1,
          "pl_85pctl": "2018-01-01T00:24:39.400000",
          "pl_90pctl": "2018-01-01T00:42:43.100000",
          "tps_parcours": "2018-01-01T00:21:04"
         },
         {
          "created_x": "2019-01-29T08:48:40",
          "l": 1,
          "pl_85pctl": "2018-01-01T00:24:39.400000",
          "pl_90pctl": "2018-01-01T00:42:43.100000",
          "tps_parcours": "2018-01-01T00:21:16"
         },
         {
          "created_x": "2019-01-29T08:50:24",
          "l": 1,
          "pl_85pctl": "2018-01-01T00:24:39.400000",
          "pl_90pctl": "2018-01-01T00:42:43.100000",
          "tps_parcours": "2018-01-01T00:19:54"
         },
         {
          "created_x": "2019-01-29T08:49:00",
          "l": 1,
          "pl_85pctl": "2018-01-01T00:24:39.400000",
          "pl_90pctl": "2018-01-01T00:42:43.100000",
          "tps_parcours": "2018-01-01T00:21:32"
         },
         {
          "created_x": "2019-01-29T08:50:20",
          "l": 1,
          "pl_85pctl": "2018-01-01T00:24:39.400000",
          "pl_90pctl": "2018-01-01T00:42:43.100000",
          "tps_parcours": "2018-01-01T00:20:28"
         },
         {
          "created_x": "2019-01-29T08:49:23",
          "l": 1,
          "pl_85pctl": "2018-01-01T00:24:39.400000",
          "pl_90pctl": "2018-01-01T00:42:43.100000",
          "tps_parcours": "2018-01-01T00:21:25"
         },
         {
          "created_x": "2019-01-29T08:50:06",
          "l": 1,
          "pl_85pctl": "2018-01-01T00:24:39.400000",
          "pl_90pctl": "2018-01-01T00:42:43.100000",
          "tps_parcours": "2018-01-01T00:20:54"
         },
         {
          "created_x": "2019-01-29T08:49:37",
          "l": 1,
          "pl_85pctl": "2018-01-01T00:24:39.400000",
          "pl_90pctl": "2018-01-01T00:42:43.100000",
          "tps_parcours": "2018-01-01T00:21:32"
         },
         {
          "created_x": "2019-01-29T08:50:59",
          "l": 1,
          "pl_85pctl": "2018-01-01T00:24:39.400000",
          "pl_90pctl": "2018-01-01T00:42:43.100000",
          "tps_parcours": "2018-01-01T00:20:46"
         },
         {
          "created_x": "2019-01-29T08:51:57",
          "l": 1,
          "pl_85pctl": "2018-01-01T00:24:39.400000",
          "pl_90pctl": "2018-01-01T00:42:43.100000",
          "tps_parcours": "2018-01-01T00:19:59"
         },
         {
          "created_x": "2019-01-29T08:52:24",
          "l": 1,
          "pl_85pctl": "2018-01-01T00:24:39.400000",
          "pl_90pctl": "2018-01-01T00:42:43.100000",
          "tps_parcours": "2018-01-01T00:20:22"
         },
         {
          "created_x": "2019-01-29T08:52:32",
          "l": 1,
          "pl_85pctl": "2018-01-01T00:24:39.400000",
          "pl_90pctl": "2018-01-01T00:42:43.100000",
          "tps_parcours": "2018-01-01T00:20:21"
         },
         {
          "created_x": "2019-01-29T08:52:32",
          "l": 1,
          "pl_85pctl": "2018-01-01T00:24:39.400000",
          "pl_90pctl": "2018-01-01T00:42:43.100000",
          "tps_parcours": "2018-01-01T00:20:22"
         },
         {
          "created_x": "2019-01-29T08:52:50",
          "l": 1,
          "pl_85pctl": "2018-01-01T00:24:39.400000",
          "pl_90pctl": "2018-01-01T00:42:43.100000",
          "tps_parcours": "2018-01-01T00:20:15"
         },
         {
          "created_x": "2019-01-29T08:52:39",
          "l": 1,
          "pl_85pctl": "2018-01-01T00:24:39.400000",
          "pl_90pctl": "2018-01-01T00:42:43.100000",
          "tps_parcours": "2018-01-01T00:20:40"
         },
         {
          "created_x": "2019-01-29T08:52:55",
          "l": 1,
          "pl_85pctl": "2018-01-01T00:24:39.400000",
          "pl_90pctl": "2018-01-01T00:42:43.100000",
          "tps_parcours": "2018-01-01T00:20:38"
         },
         {
          "created_x": "2019-01-29T08:52:58",
          "l": 1,
          "pl_85pctl": "2018-01-01T00:24:39.400000",
          "pl_90pctl": "2018-01-01T00:42:43.100000",
          "tps_parcours": "2018-01-01T00:20:50"
         },
         {
          "created_x": "2019-01-29T08:53:26",
          "l": 1,
          "pl_85pctl": "2018-01-01T00:24:39.400000",
          "pl_90pctl": "2018-01-01T00:42:43.100000",
          "tps_parcours": "2018-01-01T00:20:35"
         },
         {
          "created_x": "2019-01-29T08:53:45",
          "l": 1,
          "pl_85pctl": "2018-01-01T00:24:39.400000",
          "pl_90pctl": "2018-01-01T00:42:43.100000",
          "tps_parcours": "2018-01-01T00:20:21"
         },
         {
          "created_x": "2019-01-29T08:12:16",
          "l": 1,
          "pl_85pctl": "2018-01-01T00:24:39.400000",
          "pl_90pctl": "2018-01-01T00:42:43.100000",
          "tps_parcours": "2018-01-01T01:01:58"
         },
         {
          "created_x": "2019-01-29T08:54:22",
          "l": 1,
          "pl_85pctl": "2018-01-01T00:24:39.400000",
          "pl_90pctl": "2018-01-01T00:42:43.100000",
          "tps_parcours": "2018-01-01T00:20:10"
         },
         {
          "created_x": "2019-01-29T08:54:30",
          "l": 1,
          "pl_85pctl": "2018-01-01T00:24:39.400000",
          "pl_90pctl": "2018-01-01T00:42:43.100000",
          "tps_parcours": "2018-01-01T00:20:15"
         },
         {
          "created_x": "2019-01-29T08:55:06",
          "l": 1,
          "pl_85pctl": "2018-01-01T00:24:39.400000",
          "pl_90pctl": "2018-01-01T00:42:43.100000",
          "tps_parcours": "2018-01-01T00:20:36"
         },
         {
          "created_x": "2019-01-29T08:56:34",
          "l": 1,
          "pl_85pctl": "2018-01-01T00:24:39.400000",
          "pl_90pctl": "2018-01-01T00:42:43.100000",
          "tps_parcours": "2018-01-01T00:19:32"
         },
         {
          "created_x": "2019-01-29T08:14:44",
          "l": 1,
          "pl_85pctl": "2018-01-01T00:24:39.400000",
          "pl_90pctl": "2018-01-01T00:42:43.100000",
          "tps_parcours": "2018-01-01T01:01:43"
         },
         {
          "created_x": "2019-01-29T08:56:41",
          "l": 1,
          "pl_85pctl": "2018-01-01T00:24:39.400000",
          "pl_90pctl": "2018-01-01T00:42:43.100000",
          "tps_parcours": "2018-01-01T00:19:55"
         },
         {
          "created_x": "2019-01-29T08:56:18",
          "l": 1,
          "pl_85pctl": "2018-01-01T00:24:39.400000",
          "pl_90pctl": "2018-01-01T00:42:43.100000",
          "tps_parcours": "2018-01-01T00:20:23"
         },
         {
          "created_x": "2019-01-29T08:56:28",
          "l": 1,
          "pl_85pctl": "2018-01-01T00:24:39.400000",
          "pl_90pctl": "2018-01-01T00:42:43.100000",
          "tps_parcours": "2018-01-01T00:20:15"
         },
         {
          "created_x": "2019-01-29T08:57:00",
          "l": 1,
          "pl_85pctl": "2018-01-01T00:24:39.400000",
          "pl_90pctl": "2018-01-01T00:42:43.100000",
          "tps_parcours": "2018-01-01T00:19:49"
         },
         {
          "created_x": "2019-01-29T08:57:28",
          "l": 1,
          "pl_85pctl": "2018-01-01T00:24:39.400000",
          "pl_90pctl": "2018-01-01T00:42:43.100000",
          "tps_parcours": "2018-01-01T00:19:48"
         },
         {
          "created_x": "2019-01-29T08:57:58",
          "l": 1,
          "pl_85pctl": "2018-01-01T00:24:39.400000",
          "pl_90pctl": "2018-01-01T00:42:43.100000",
          "tps_parcours": "2018-01-01T00:20:11"
         },
         {
          "created_x": "2019-01-29T08:58:19",
          "l": 1,
          "pl_85pctl": "2018-01-01T00:24:39.400000",
          "pl_90pctl": "2018-01-01T00:42:43.100000",
          "tps_parcours": "2018-01-01T00:19:58"
         },
         {
          "created_x": "2019-01-29T08:59:03",
          "l": 1,
          "pl_85pctl": "2018-01-01T00:24:39.400000",
          "pl_90pctl": "2018-01-01T00:42:43.100000",
          "tps_parcours": "2018-01-01T00:20:24"
         },
         {
          "created_x": "2019-01-29T08:59:39",
          "l": 1,
          "pl_85pctl": "2018-01-01T00:24:39.400000",
          "pl_90pctl": "2018-01-01T00:42:43.100000",
          "tps_parcours": "2018-01-01T00:20:03"
         },
         {
          "created_x": "2019-01-29T08:59:50",
          "l": 1,
          "pl_85pctl": "2018-01-01T00:24:39.400000",
          "pl_90pctl": "2018-01-01T00:42:43.100000",
          "tps_parcours": "2018-01-01T00:19:54"
         },
         {
          "created_x": "2019-01-29T08:59:43",
          "l": 1,
          "pl_85pctl": "2018-01-01T00:24:39.400000",
          "pl_90pctl": "2018-01-01T00:42:43.100000",
          "tps_parcours": "2018-01-01T00:20:05"
         },
         {
          "created_x": "2019-01-29T08:09:50",
          "l": 1,
          "pl_85pctl": "2018-01-01T00:24:39.400000",
          "pl_90pctl": "2018-01-01T00:42:43.100000",
          "tps_parcours": "2018-01-01T01:12:50"
         },
         {
          "created_x": "2019-01-29T09:00:00",
          "l": 1,
          "pl_85pctl": "2018-01-01T00:24:39.400000",
          "pl_90pctl": "2018-01-01T00:42:43.100000",
          "tps_parcours": "2018-01-01T00:26:56"
         },
         {
          "created_x": "2019-01-29T08:11:37",
          "l": 1,
          "pl_85pctl": "2018-01-01T00:24:39.400000",
          "pl_90pctl": "2018-01-01T00:42:43.100000",
          "tps_parcours": "2018-01-01T01:19:47"
         },
         {
          "created_x": "2019-01-29T08:24:46",
          "l": 1,
          "pl_85pctl": "2018-01-01T00:24:39.400000",
          "pl_90pctl": "2018-01-01T00:42:43.100000",
          "tps_parcours": "2018-01-01T01:14:25"
         },
         {
          "created_x": "2019-01-29T08:23:37",
          "l": 1,
          "pl_85pctl": "2018-01-01T00:24:39.400000",
          "pl_90pctl": "2018-01-01T00:42:43.100000",
          "tps_parcours": "2018-01-01T01:16:36"
         },
         {
          "created_x": "2019-01-29T08:37:01",
          "l": 1,
          "pl_85pctl": "2018-01-01T00:24:39.400000",
          "pl_90pctl": "2018-01-01T00:42:43.100000",
          "tps_parcours": "2018-01-01T01:09:09"
         },
         {
          "created_x": "2019-01-29T08:33:47",
          "l": 1,
          "pl_85pctl": "2018-01-01T00:24:39.400000",
          "pl_90pctl": "2018-01-01T00:42:43.100000",
          "tps_parcours": "2018-01-01T01:23:54"
         },
         {
          "created_x": "2019-01-29T08:54:48",
          "l": 1,
          "pl_85pctl": "2018-01-01T00:24:39.400000",
          "pl_90pctl": "2018-01-01T00:42:43.100000",
          "tps_parcours": "2018-01-01T01:12:56"
         },
         {
          "created_x": "2019-01-29T08:35:18",
          "l": 1,
          "pl_85pctl": "2018-01-01T00:24:39.400000",
          "pl_90pctl": "2018-01-01T00:42:43.100000",
          "tps_parcours": "2018-01-01T02:04:32"
         },
         {
          "created_x": "2019-01-29T08:34:02",
          "l": 1,
          "pl_85pctl": "2018-01-01T00:24:39.400000",
          "pl_90pctl": "2018-01-01T00:42:43.100000",
          "tps_parcours": "2018-01-01T02:08:06"
         },
         {
          "created_x": "2019-01-29T08:58:03",
          "l": 1,
          "pl_85pctl": "2018-01-01T00:24:39.400000",
          "pl_90pctl": "2018-01-01T00:42:43.100000",
          "tps_parcours": "2018-01-01T01:49:58"
         },
         {
          "created_x": "2019-01-29T08:38:51",
          "l": 1,
          "pl_85pctl": "2018-01-01T00:24:39.400000",
          "pl_90pctl": "2018-01-01T00:42:43.100000",
          "tps_parcours": "2018-01-01T02:12:48"
         },
         {
          "created_x": "2019-01-29T08:31:52",
          "l": 1,
          "pl_85pctl": "2018-01-01T00:24:39.400000",
          "pl_90pctl": "2018-01-01T00:42:43.100000",
          "tps_parcours": "2018-01-01T02:47:50"
         },
         {
          "created_x": "2019-01-29T08:53:42",
          "l": 1,
          "pl_85pctl": "2018-01-01T00:24:39.400000",
          "pl_90pctl": "2018-01-01T00:42:43.100000",
          "tps_parcours": "2018-01-01T02:26:47"
         }
        ]
       },
       "encoding": {
        "color": {
         "field": "l",
         "type": "nominal"
        },
        "tooltip": [
         {
          "field": "tps_parcours",
          "timeUnit": "hoursminutes",
          "type": "temporal"
         }
        ],
        "x": {
         "field": "created_x",
         "type": "temporal"
        },
        "y": {
         "field": "tps_parcours",
         "timeUnit": "hoursminutes",
         "type": "temporal"
        }
       },
       "mark": {
        "color": "red",
        "type": "point"
       },
       "selection": {
        "selector071": {
         "bind": "scales",
         "encodings": [
          "x",
          "y"
         ],
         "mark": {
          "fill": "#333",
          "fillOpacity": 0.125,
          "stroke": "white"
         },
         "on": "[mousedown, window:mouseup] > window:mousemove!",
         "resolve": "global",
         "translate": "[mousedown, window:mouseup] > window:mousemove!",
         "type": "interval",
         "zoom": "wheel!"
        }
       }
      },
      "image/png": "[encoded data removed]",
      "text/plain": [
       "<VegaLite 2 object>\n",
       "\n",
       "If you see this message, it means the renderer has not been properly enabled\n",
       "for the frontend that you are using. For more information, see\n",
       "https://altair-viz.github.io/user_guide/troubleshooting.html\n"
      ]
     },
     "execution_count": 139,
     "metadata": {},
     "output_type": "execute_result"
    }
   ],
   "source": [
    "g_pl_ok"
   ]
  },
  {
   "cell_type": "code",
   "execution_count": 140,
   "metadata": {},
   "outputs": [],
   "source": [
    "graphs_bruts=test_graph1.plot_graphs()[1]"
   ]
  },
  {
   "cell_type": "code",
   "execution_count": 141,
   "metadata": {},
   "outputs": [
    {
     "data": {
      "application/vnd.vegalite.v2+json": {
       "$schema": "https://vega.github.io/schema/vega-lite/v2.6.0.json",
       "config": {
        "view": {
         "height": 300,
         "width": 400
        }
       },
       "datasets": {
        "data-7925916306b8e4e152113b44298227a6": [
         {
          "created_x": "2019-01-29T08:00:50",
          "l": 0,
          "pl_85pctl": "2018-01-01T00:24:39.400000",
          "pl_90pctl": "2018-01-01T00:42:43.100000",
          "tps_parcours": "2018-01-01T00:21:18"
         },
         {
          "created_x": "2019-01-29T08:00:53",
          "l": 0,
          "pl_85pctl": "2018-01-01T00:24:39.400000",
          "pl_90pctl": "2018-01-01T00:42:43.100000",
          "tps_parcours": "2018-01-01T00:21:27"
         },
         {
          "created_x": "2019-01-29T08:00:02",
          "l": 0,
          "pl_85pctl": "2018-01-01T00:24:39.400000",
          "pl_90pctl": "2018-01-01T00:42:43.100000",
          "tps_parcours": "2018-01-01T00:22:58"
         },
         {
          "created_x": "2019-01-29T08:01:32",
          "l": 0,
          "pl_85pctl": "2018-01-01T00:24:39.400000",
          "pl_90pctl": "2018-01-01T00:42:43.100000",
          "tps_parcours": "2018-01-01T00:22:03"
         },
         {
          "created_x": "2019-01-29T08:01:18",
          "l": 0,
          "pl_85pctl": "2018-01-01T00:24:39.400000",
          "pl_90pctl": "2018-01-01T00:42:43.100000",
          "tps_parcours": "2018-01-01T00:22:53"
         },
         {
          "created_x": "2019-01-29T08:00:18",
          "l": 0,
          "pl_85pctl": "2018-01-01T00:24:39.400000",
          "pl_90pctl": "2018-01-01T00:42:43.100000",
          "tps_parcours": "2018-01-01T00:23:53"
         },
         {
          "created_x": "2019-01-29T08:00:20",
          "l": 1,
          "pl_85pctl": "2018-01-01T00:24:39.400000",
          "pl_90pctl": "2018-01-01T00:42:43.100000",
          "tps_parcours": "2018-01-01T00:24:20"
         },
         {
          "created_x": "2019-01-29T08:00:23",
          "l": -1,
          "pl_85pctl": "2018-01-01T00:24:39.400000",
          "pl_90pctl": "2018-01-01T00:42:43.100000",
          "tps_parcours": "2018-01-01T00:24:22"
         },
         {
          "created_x": "2019-01-29T08:00:17",
          "l": -1,
          "pl_85pctl": "2018-01-01T00:24:39.400000",
          "pl_90pctl": "2018-01-01T00:42:43.100000",
          "tps_parcours": "2018-01-01T00:24:35"
         },
         {
          "created_x": "2019-01-29T08:03:26",
          "l": 0,
          "pl_85pctl": "2018-01-01T00:24:39.400000",
          "pl_90pctl": "2018-01-01T00:42:43.100000",
          "tps_parcours": "2018-01-01T00:21:41"
         },
         {
          "created_x": "2019-01-29T08:00:50",
          "l": 1,
          "pl_85pctl": "2018-01-01T00:24:39.400000",
          "pl_90pctl": "2018-01-01T00:42:43.100000",
          "tps_parcours": "2018-01-01T00:24:19"
         },
         {
          "created_x": "2019-01-29T08:03:04",
          "l": 0,
          "pl_85pctl": "2018-01-01T00:24:39.400000",
          "pl_90pctl": "2018-01-01T00:42:43.100000",
          "tps_parcours": "2018-01-01T00:22:20"
         },
         {
          "created_x": "2019-01-29T08:00:56",
          "l": 1,
          "pl_85pctl": "2018-01-01T00:24:39.400000",
          "pl_90pctl": "2018-01-01T00:42:43.100000",
          "tps_parcours": "2018-01-01T00:24:38"
         },
         {
          "created_x": "2019-01-29T08:01:20",
          "l": 0,
          "pl_85pctl": "2018-01-01T00:24:39.400000",
          "pl_90pctl": "2018-01-01T00:42:43.100000",
          "tps_parcours": "2018-01-01T00:24:17"
         },
         {
          "created_x": "2019-01-29T08:01:07",
          "l": 1,
          "pl_85pctl": "2018-01-01T00:24:39.400000",
          "pl_90pctl": "2018-01-01T00:42:43.100000",
          "tps_parcours": "2018-01-01T00:24:42"
         },
         {
          "created_x": "2019-01-29T08:01:11",
          "l": -1,
          "pl_85pctl": "2018-01-01T00:24:39.400000",
          "pl_90pctl": "2018-01-01T00:42:43.100000",
          "tps_parcours": "2018-01-01T00:24:43"
         },
         {
          "created_x": "2019-01-29T08:01:22",
          "l": 0,
          "pl_85pctl": "2018-01-01T00:24:39.400000",
          "pl_90pctl": "2018-01-01T00:42:43.100000",
          "tps_parcours": "2018-01-01T00:24:35"
         },
         {
          "created_x": "2019-01-29T08:01:16",
          "l": 1,
          "pl_85pctl": "2018-01-01T00:24:39.400000",
          "pl_90pctl": "2018-01-01T00:42:43.100000",
          "tps_parcours": "2018-01-01T00:24:46"
         },
         {
          "created_x": "2019-01-29T08:01:32",
          "l": 0,
          "pl_85pctl": "2018-01-01T00:24:39.400000",
          "pl_90pctl": "2018-01-01T00:42:43.100000",
          "tps_parcours": "2018-01-01T00:24:36"
         },
         {
          "created_x": "2019-01-29T08:02:39",
          "l": 1,
          "pl_85pctl": "2018-01-01T00:24:39.400000",
          "pl_90pctl": "2018-01-01T00:42:43.100000",
          "tps_parcours": "2018-01-01T00:23:31"
         },
         {
          "created_x": "2019-01-29T08:04:47",
          "l": 0,
          "pl_85pctl": "2018-01-01T00:24:39.400000",
          "pl_90pctl": "2018-01-01T00:42:43.100000",
          "tps_parcours": "2018-01-01T00:21:23"
         },
         {
          "created_x": "2019-01-29T08:01:14",
          "l": -1,
          "pl_85pctl": "2018-01-01T00:24:39.400000",
          "pl_90pctl": "2018-01-01T00:42:43.100000",
          "tps_parcours": "2018-01-01T00:24:57"
         },
         {
          "created_x": "2019-01-29T08:02:34",
          "l": 1,
          "pl_85pctl": "2018-01-01T00:24:39.400000",
          "pl_90pctl": "2018-01-01T00:42:43.100000",
          "tps_parcours": "2018-01-01T00:23:40"
         },
         {
          "created_x": "2019-01-29T08:07:32",
          "l": 0,
          "pl_85pctl": "2018-01-01T00:24:39.400000",
          "pl_90pctl": "2018-01-01T00:42:43.100000",
          "tps_parcours": "2018-01-01T00:18:47"
         },
         {
          "created_x": "2019-01-29T08:07:55",
          "l": 0,
          "pl_85pctl": "2018-01-01T00:24:39.400000",
          "pl_90pctl": "2018-01-01T00:42:43.100000",
          "tps_parcours": "2018-01-01T00:18:26"
         },
         {
          "created_x": "2019-01-29T08:02:19",
          "l": 1,
          "pl_85pctl": "2018-01-01T00:24:39.400000",
          "pl_90pctl": "2018-01-01T00:42:43.100000",
          "tps_parcours": "2018-01-01T00:24:12"
         },
         {
          "created_x": "2019-01-29T08:02:46",
          "l": -1,
          "pl_85pctl": "2018-01-01T00:24:39.400000",
          "pl_90pctl": "2018-01-01T00:42:43.100000",
          "tps_parcours": "2018-01-01T00:23:55"
         },
         {
          "created_x": "2019-01-29T08:06:15",
          "l": 1,
          "pl_85pctl": "2018-01-01T00:24:39.400000",
          "pl_90pctl": "2018-01-01T00:42:43.100000",
          "tps_parcours": "2018-01-01T00:20:33"
         },
         {
          "created_x": "2019-01-29T08:07:18",
          "l": 0,
          "pl_85pctl": "2018-01-01T00:24:39.400000",
          "pl_90pctl": "2018-01-01T00:42:43.100000",
          "tps_parcours": "2018-01-01T00:19:32"
         },
         {
          "created_x": "2019-01-29T08:03:00",
          "l": -1,
          "pl_85pctl": "2018-01-01T00:24:39.400000",
          "pl_90pctl": "2018-01-01T00:42:43.100000",
          "tps_parcours": "2018-01-01T00:23:53"
         },
         {
          "created_x": "2019-01-29T08:03:06",
          "l": 1,
          "pl_85pctl": "2018-01-01T00:24:39.400000",
          "pl_90pctl": "2018-01-01T00:42:43.100000",
          "tps_parcours": "2018-01-01T00:24:06"
         },
         {
          "created_x": "2019-01-29T08:06:58",
          "l": 0,
          "pl_85pctl": "2018-01-01T00:24:39.400000",
          "pl_90pctl": "2018-01-01T00:42:43.100000",
          "tps_parcours": "2018-01-01T00:20:19"
         },
         {
          "created_x": "2019-01-29T08:03:55",
          "l": 1,
          "pl_85pctl": "2018-01-01T00:24:39.400000",
          "pl_90pctl": "2018-01-01T00:42:43.100000",
          "tps_parcours": "2018-01-01T00:23:47"
         },
         {
          "created_x": "2019-01-29T08:09:11",
          "l": -1,
          "pl_85pctl": "2018-01-01T00:24:39.400000",
          "pl_90pctl": "2018-01-01T00:42:43.100000",
          "tps_parcours": "2018-01-01T00:18:40"
         },
         {
          "created_x": "2019-01-29T08:09:19",
          "l": -1,
          "pl_85pctl": "2018-01-01T00:24:39.400000",
          "pl_90pctl": "2018-01-01T00:42:43.100000",
          "tps_parcours": "2018-01-01T00:18:34"
         },
         {
          "created_x": "2019-01-29T08:04:04",
          "l": 0,
          "pl_85pctl": "2018-01-01T00:24:39.400000",
          "pl_90pctl": "2018-01-01T00:42:43.100000",
          "tps_parcours": "2018-01-01T00:23:51"
         },
         {
          "created_x": "2019-01-29T08:03:17",
          "l": -1,
          "pl_85pctl": "2018-01-01T00:24:39.400000",
          "pl_90pctl": "2018-01-01T00:42:43.100000",
          "tps_parcours": "2018-01-01T00:24:40"
         },
         {
          "created_x": "2019-01-29T08:03:22",
          "l": 0,
          "pl_85pctl": "2018-01-01T00:24:39.400000",
          "pl_90pctl": "2018-01-01T00:42:43.100000",
          "tps_parcours": "2018-01-01T00:24:37"
         },
         {
          "created_x": "2019-01-29T08:04:02",
          "l": -1,
          "pl_85pctl": "2018-01-01T00:24:39.400000",
          "pl_90pctl": "2018-01-01T00:42:43.100000",
          "tps_parcours": "2018-01-01T00:23:59"
         },
         {
          "created_x": "2019-01-29T08:05:02",
          "l": -1,
          "pl_85pctl": "2018-01-01T00:24:39.400000",
          "pl_90pctl": "2018-01-01T00:42:43.100000",
          "tps_parcours": "2018-01-01T00:23:04"
         },
         {
          "created_x": "2019-01-29T08:08:52",
          "l": 0,
          "pl_85pctl": "2018-01-01T00:24:39.400000",
          "pl_90pctl": "2018-01-01T00:42:43.100000",
          "tps_parcours": "2018-01-01T00:19:28"
         },
         {
          "created_x": "2019-01-29T08:05:11",
          "l": -1,
          "pl_85pctl": "2018-01-01T00:24:39.400000",
          "pl_90pctl": "2018-01-01T00:42:43.100000",
          "tps_parcours": "2018-01-01T00:23:10"
         },
         {
          "created_x": "2019-01-29T08:05:13",
          "l": 0,
          "pl_85pctl": "2018-01-01T00:24:39.400000",
          "pl_90pctl": "2018-01-01T00:42:43.100000",
          "tps_parcours": "2018-01-01T00:23:11"
         },
         {
          "created_x": "2019-01-29T08:04:14",
          "l": 1,
          "pl_85pctl": "2018-01-01T00:24:39.400000",
          "pl_90pctl": "2018-01-01T00:42:43.100000",
          "tps_parcours": "2018-01-01T00:24:14"
         },
         {
          "created_x": "2019-01-29T08:05:07",
          "l": 1,
          "pl_85pctl": "2018-01-01T00:24:39.400000",
          "pl_90pctl": "2018-01-01T00:42:43.100000",
          "tps_parcours": "2018-01-01T00:23:46"
         },
         {
          "created_x": "2019-01-29T08:06:23",
          "l": -1,
          "pl_85pctl": "2018-01-01T00:24:39.400000",
          "pl_90pctl": "2018-01-01T00:42:43.100000",
          "tps_parcours": "2018-01-01T00:23:01"
         },
         {
          "created_x": "2019-01-29T08:10:12",
          "l": 0,
          "pl_85pctl": "2018-01-01T00:24:39.400000",
          "pl_90pctl": "2018-01-01T00:42:43.100000",
          "tps_parcours": "2018-01-01T00:19:25"
         },
         {
          "created_x": "2019-01-29T08:10:04",
          "l": 0,
          "pl_85pctl": "2018-01-01T00:24:39.400000",
          "pl_90pctl": "2018-01-01T00:42:43.100000",
          "tps_parcours": "2018-01-01T00:19:34"
         },
         {
          "created_x": "2019-01-29T08:10:04",
          "l": 0,
          "pl_85pctl": "2018-01-01T00:24:39.400000",
          "pl_90pctl": "2018-01-01T00:42:43.100000",
          "tps_parcours": "2018-01-01T00:19:35"
         },
         {
          "created_x": "2019-01-29T08:10:43",
          "l": 0,
          "pl_85pctl": "2018-01-01T00:24:39.400000",
          "pl_90pctl": "2018-01-01T00:42:43.100000",
          "tps_parcours": "2018-01-01T00:19:00"
         },
         {
          "created_x": "2019-01-29T08:06:27",
          "l": -1,
          "pl_85pctl": "2018-01-01T00:24:39.400000",
          "pl_90pctl": "2018-01-01T00:42:43.100000",
          "tps_parcours": "2018-01-01T00:23:22"
         },
         {
          "created_x": "2019-01-29T08:11:11",
          "l": 0,
          "pl_85pctl": "2018-01-01T00:24:39.400000",
          "pl_90pctl": "2018-01-01T00:42:43.100000",
          "tps_parcours": "2018-01-01T00:18:46"
         },
         {
          "created_x": "2019-01-29T08:11:10",
          "l": 0,
          "pl_85pctl": "2018-01-01T00:24:39.400000",
          "pl_90pctl": "2018-01-01T00:42:43.100000",
          "tps_parcours": "2018-01-01T00:19:09"
         },
         {
          "created_x": "2019-01-29T08:06:21",
          "l": -1,
          "pl_85pctl": "2018-01-01T00:24:39.400000",
          "pl_90pctl": "2018-01-01T00:42:43.100000",
          "tps_parcours": "2018-01-01T00:24:16"
         },
         {
          "created_x": "2019-01-29T08:10:44",
          "l": 0,
          "pl_85pctl": "2018-01-01T00:24:39.400000",
          "pl_90pctl": "2018-01-01T00:42:43.100000",
          "tps_parcours": "2018-01-01T00:19:59"
         },
         {
          "created_x": "2019-01-29T08:06:35",
          "l": -1,
          "pl_85pctl": "2018-01-01T00:24:39.400000",
          "pl_90pctl": "2018-01-01T00:42:43.100000",
          "tps_parcours": "2018-01-01T00:24:12"
         },
         {
          "created_x": "2019-01-29T08:06:52",
          "l": -1,
          "pl_85pctl": "2018-01-01T00:24:39.400000",
          "pl_90pctl": "2018-01-01T00:42:43.100000",
          "tps_parcours": "2018-01-01T00:24:06"
         },
         {
          "created_x": "2019-01-29T08:06:55",
          "l": 0,
          "pl_85pctl": "2018-01-01T00:24:39.400000",
          "pl_90pctl": "2018-01-01T00:42:43.100000",
          "tps_parcours": "2018-01-01T00:24:07"
         },
         {
          "created_x": "2019-01-29T08:06:59",
          "l": 1,
          "pl_85pctl": "2018-01-01T00:24:39.400000",
          "pl_90pctl": "2018-01-01T00:42:43.100000",
          "tps_parcours": "2018-01-01T00:24:08"
         },
         {
          "created_x": "2019-01-29T08:11:29",
          "l": 0,
          "pl_85pctl": "2018-01-01T00:24:39.400000",
          "pl_90pctl": "2018-01-01T00:42:43.100000",
          "tps_parcours": "2018-01-01T00:19:42"
         },
         {
          "created_x": "2019-01-29T08:07:23",
          "l": 1,
          "pl_85pctl": "2018-01-01T00:24:39.400000",
          "pl_90pctl": "2018-01-01T00:42:43.100000",
          "tps_parcours": "2018-01-01T00:23:53"
         },
         {
          "created_x": "2019-01-29T08:07:33",
          "l": 1,
          "pl_85pctl": "2018-01-01T00:24:39.400000",
          "pl_90pctl": "2018-01-01T00:42:43.100000",
          "tps_parcours": "2018-01-01T00:23:53"
         },
         {
          "created_x": "2019-01-29T08:07:56",
          "l": -1,
          "pl_85pctl": "2018-01-01T00:24:39.400000",
          "pl_90pctl": "2018-01-01T00:42:43.100000",
          "tps_parcours": "2018-01-01T00:23:38"
         },
         {
          "created_x": "2019-01-29T08:07:59",
          "l": -1,
          "pl_85pctl": "2018-01-01T00:24:39.400000",
          "pl_90pctl": "2018-01-01T00:42:43.100000",
          "tps_parcours": "2018-01-01T00:23:51"
         },
         {
          "created_x": "2019-01-29T08:13:29",
          "l": 0,
          "pl_85pctl": "2018-01-01T00:24:39.400000",
          "pl_90pctl": "2018-01-01T00:42:43.100000",
          "tps_parcours": "2018-01-01T00:18:27"
         },
         {
          "created_x": "2019-01-29T08:08:20",
          "l": 1,
          "pl_85pctl": "2018-01-01T00:24:39.400000",
          "pl_90pctl": "2018-01-01T00:42:43.100000",
          "tps_parcours": "2018-01-01T00:23:46"
         },
         {
          "created_x": "2019-01-29T08:09:22",
          "l": 0,
          "pl_85pctl": "2018-01-01T00:24:39.400000",
          "pl_90pctl": "2018-01-01T00:42:43.100000",
          "tps_parcours": "2018-01-01T00:22:47"
         },
         {
          "created_x": "2019-01-29T08:09:19",
          "l": 0,
          "pl_85pctl": "2018-01-01T00:24:39.400000",
          "pl_90pctl": "2018-01-01T00:42:43.100000",
          "tps_parcours": "2018-01-01T00:22:51"
         },
         {
          "created_x": "2019-01-29T08:09:28",
          "l": 0,
          "pl_85pctl": "2018-01-01T00:24:39.400000",
          "pl_90pctl": "2018-01-01T00:42:43.100000",
          "tps_parcours": "2018-01-01T00:23:00"
         },
         {
          "created_x": "2019-01-29T08:13:37",
          "l": 0,
          "pl_85pctl": "2018-01-01T00:24:39.400000",
          "pl_90pctl": "2018-01-01T00:42:43.100000",
          "tps_parcours": "2018-01-01T00:19:18"
         },
         {
          "created_x": "2019-01-29T08:09:58",
          "l": -1,
          "pl_85pctl": "2018-01-01T00:24:39.400000",
          "pl_90pctl": "2018-01-01T00:42:43.100000",
          "tps_parcours": "2018-01-01T00:23:01"
         },
         {
          "created_x": "2019-01-29T08:04:54",
          "l": 0,
          "pl_85pctl": "2018-01-01T00:24:39.400000",
          "pl_90pctl": "2018-01-01T00:42:43.100000",
          "tps_parcours": "2018-01-01T00:28:16"
         },
         {
          "created_x": "2019-01-29T08:09:34",
          "l": 0,
          "pl_85pctl": "2018-01-01T00:24:39.400000",
          "pl_90pctl": "2018-01-01T00:42:43.100000",
          "tps_parcours": "2018-01-01T00:23:56"
         },
         {
          "created_x": "2019-01-29T08:09:47",
          "l": 0,
          "pl_85pctl": "2018-01-01T00:24:39.400000",
          "pl_90pctl": "2018-01-01T00:42:43.100000",
          "tps_parcours": "2018-01-01T00:23:47"
         },
         {
          "created_x": "2019-01-29T08:09:41",
          "l": 0,
          "pl_85pctl": "2018-01-01T00:24:39.400000",
          "pl_90pctl": "2018-01-01T00:42:43.100000",
          "tps_parcours": "2018-01-01T00:23:56"
         },
         {
          "created_x": "2019-01-29T08:10:02",
          "l": 0,
          "pl_85pctl": "2018-01-01T00:24:39.400000",
          "pl_90pctl": "2018-01-01T00:42:43.100000",
          "tps_parcours": "2018-01-01T00:23:38"
         },
         {
          "created_x": "2019-01-29T08:09:56",
          "l": -1,
          "pl_85pctl": "2018-01-01T00:24:39.400000",
          "pl_90pctl": "2018-01-01T00:42:43.100000",
          "tps_parcours": "2018-01-01T00:23:46"
         },
         {
          "created_x": "2019-01-29T08:10:13",
          "l": 0,
          "pl_85pctl": "2018-01-01T00:24:39.400000",
          "pl_90pctl": "2018-01-01T00:42:43.100000",
          "tps_parcours": "2018-01-01T00:23:31"
         },
         {
          "created_x": "2019-01-29T08:14:44",
          "l": 0,
          "pl_85pctl": "2018-01-01T00:24:39.400000",
          "pl_90pctl": "2018-01-01T00:42:43.100000",
          "tps_parcours": "2018-01-01T00:19:08"
         },
         {
          "created_x": "2019-01-29T08:09:44",
          "l": -1,
          "pl_85pctl": "2018-01-01T00:24:39.400000",
          "pl_90pctl": "2018-01-01T00:42:43.100000",
          "tps_parcours": "2018-01-01T00:24:16"
         },
         {
          "created_x": "2019-01-29T08:14:38",
          "l": 0,
          "pl_85pctl": "2018-01-01T00:24:39.400000",
          "pl_90pctl": "2018-01-01T00:42:43.100000",
          "tps_parcours": "2018-01-01T00:19:40"
         },
         {
          "created_x": "2019-01-29T08:10:27",
          "l": -1,
          "pl_85pctl": "2018-01-01T00:24:39.400000",
          "pl_90pctl": "2018-01-01T00:42:43.100000",
          "tps_parcours": "2018-01-01T00:24:05"
         },
         {
          "created_x": "2019-01-29T08:11:27",
          "l": -1,
          "pl_85pctl": "2018-01-01T00:24:39.400000",
          "pl_90pctl": "2018-01-01T00:42:43.100000",
          "tps_parcours": "2018-01-01T00:23:08"
         },
         {
          "created_x": "2019-01-29T08:11:31",
          "l": 1,
          "pl_85pctl": "2018-01-01T00:24:39.400000",
          "pl_90pctl": "2018-01-01T00:42:43.100000",
          "tps_parcours": "2018-01-01T00:23:13"
         },
         {
          "created_x": "2019-01-29T08:11:34",
          "l": -1,
          "pl_85pctl": "2018-01-01T00:24:39.400000",
          "pl_90pctl": "2018-01-01T00:42:43.100000",
          "tps_parcours": "2018-01-01T00:23:14"
         },
         {
          "created_x": "2019-01-29T08:12:06",
          "l": 1,
          "pl_85pctl": "2018-01-01T00:24:39.400000",
          "pl_90pctl": "2018-01-01T00:42:43.100000",
          "tps_parcours": "2018-01-01T00:22:53"
         },
         {
          "created_x": "2019-01-29T08:12:09",
          "l": 0,
          "pl_85pctl": "2018-01-01T00:24:39.400000",
          "pl_90pctl": "2018-01-01T00:42:43.100000",
          "tps_parcours": "2018-01-01T00:23:01"
         },
         {
          "created_x": "2019-01-29T08:16:09",
          "l": 0,
          "pl_85pctl": "2018-01-01T00:24:39.400000",
          "pl_90pctl": "2018-01-01T00:42:43.100000",
          "tps_parcours": "2018-01-01T00:19:10"
         },
         {
          "created_x": "2019-01-29T08:16:18",
          "l": 0,
          "pl_85pctl": "2018-01-01T00:24:39.400000",
          "pl_90pctl": "2018-01-01T00:42:43.100000",
          "tps_parcours": "2018-01-01T00:19:13"
         },
         {
          "created_x": "2019-01-29T08:15:55",
          "l": 0,
          "pl_85pctl": "2018-01-01T00:24:39.400000",
          "pl_90pctl": "2018-01-01T00:42:43.100000",
          "tps_parcours": "2018-01-01T00:19:37"
         },
         {
          "created_x": "2019-01-29T08:15:45",
          "l": 0,
          "pl_85pctl": "2018-01-01T00:24:39.400000",
          "pl_90pctl": "2018-01-01T00:42:43.100000",
          "tps_parcours": "2018-01-01T00:19:48"
         },
         {
          "created_x": "2019-01-29T08:16:24",
          "l": 0,
          "pl_85pctl": "2018-01-01T00:24:39.400000",
          "pl_90pctl": "2018-01-01T00:42:43.100000",
          "tps_parcours": "2018-01-01T00:19:10"
         },
         {
          "created_x": "2019-01-29T08:16:40",
          "l": 0,
          "pl_85pctl": "2018-01-01T00:24:39.400000",
          "pl_90pctl": "2018-01-01T00:42:43.100000",
          "tps_parcours": "2018-01-01T00:19:01"
         },
         {
          "created_x": "2019-01-29T08:12:13",
          "l": 1,
          "pl_85pctl": "2018-01-01T00:24:39.400000",
          "pl_90pctl": "2018-01-01T00:42:43.100000",
          "tps_parcours": "2018-01-01T00:23:30"
         },
         {
          "created_x": "2019-01-29T08:12:44",
          "l": -1,
          "pl_85pctl": "2018-01-01T00:24:39.400000",
          "pl_90pctl": "2018-01-01T00:42:43.100000",
          "tps_parcours": "2018-01-01T00:23:01"
         },
         {
          "created_x": "2019-01-29T08:12:48",
          "l": 0,
          "pl_85pctl": "2018-01-01T00:24:39.400000",
          "pl_90pctl": "2018-01-01T00:42:43.100000",
          "tps_parcours": "2018-01-01T00:22:59"
         },
         {
          "created_x": "2019-01-29T08:16:48",
          "l": -1,
          "pl_85pctl": "2018-01-01T00:24:39.400000",
          "pl_90pctl": "2018-01-01T00:42:43.100000",
          "tps_parcours": "2018-01-01T00:19:38"
         },
         {
          "created_x": "2019-01-29T08:12:58",
          "l": -1,
          "pl_85pctl": "2018-01-01T00:24:39.400000",
          "pl_90pctl": "2018-01-01T00:42:43.100000",
          "tps_parcours": "2018-01-01T00:23:30"
         },
         {
          "created_x": "2019-01-29T08:13:15",
          "l": -1,
          "pl_85pctl": "2018-01-01T00:24:39.400000",
          "pl_90pctl": "2018-01-01T00:42:43.100000",
          "tps_parcours": "2018-01-01T00:23:20"
         },
         {
          "created_x": "2019-01-29T08:13:13",
          "l": 1,
          "pl_85pctl": "2018-01-01T00:24:39.400000",
          "pl_90pctl": "2018-01-01T00:42:43.100000",
          "tps_parcours": "2018-01-01T00:23:29"
         },
         {
          "created_x": "2019-01-29T08:13:34",
          "l": -1,
          "pl_85pctl": "2018-01-01T00:24:39.400000",
          "pl_90pctl": "2018-01-01T00:42:43.100000",
          "tps_parcours": "2018-01-01T00:23:10"
         },
         {
          "created_x": "2019-01-29T08:13:40",
          "l": -1,
          "pl_85pctl": "2018-01-01T00:24:39.400000",
          "pl_90pctl": "2018-01-01T00:42:43.100000",
          "tps_parcours": "2018-01-01T00:23:07"
         },
         {
          "created_x": "2019-01-29T08:14:46",
          "l": 0,
          "pl_85pctl": "2018-01-01T00:24:39.400000",
          "pl_90pctl": "2018-01-01T00:42:43.100000",
          "tps_parcours": "2018-01-01T00:22:10"
         },
         {
          "created_x": "2019-01-29T08:13:37",
          "l": 0,
          "pl_85pctl": "2018-01-01T00:24:39.400000",
          "pl_90pctl": "2018-01-01T00:42:43.100000",
          "tps_parcours": "2018-01-01T00:23:23"
         },
         {
          "created_x": "2019-01-29T08:18:59",
          "l": 0,
          "pl_85pctl": "2018-01-01T00:24:39.400000",
          "pl_90pctl": "2018-01-01T00:42:43.100000",
          "tps_parcours": "2018-01-01T00:18:05"
         },
         {
          "created_x": "2019-01-29T08:17:58",
          "l": 0,
          "pl_85pctl": "2018-01-01T00:24:39.400000",
          "pl_90pctl": "2018-01-01T00:42:43.100000",
          "tps_parcours": "2018-01-01T00:19:08"
         },
         {
          "created_x": "2019-01-29T08:13:50",
          "l": 0,
          "pl_85pctl": "2018-01-01T00:24:39.400000",
          "pl_90pctl": "2018-01-01T00:42:43.100000",
          "tps_parcours": "2018-01-01T00:23:34"
         },
         {
          "created_x": "2019-01-29T08:15:13",
          "l": -1,
          "pl_85pctl": "2018-01-01T00:24:39.400000",
          "pl_90pctl": "2018-01-01T00:42:43.100000",
          "tps_parcours": "2018-01-01T00:22:15"
         },
         {
          "created_x": "2019-01-29T08:15:11",
          "l": 0,
          "pl_85pctl": "2018-01-01T00:24:39.400000",
          "pl_90pctl": "2018-01-01T00:42:43.100000",
          "tps_parcours": "2018-01-01T00:22:20"
         },
         {
          "created_x": "2019-01-29T08:18:52",
          "l": 0,
          "pl_85pctl": "2018-01-01T00:24:39.400000",
          "pl_90pctl": "2018-01-01T00:42:43.100000",
          "tps_parcours": "2018-01-01T00:18:47"
         },
         {
          "created_x": "2019-01-29T08:15:27",
          "l": -1,
          "pl_85pctl": "2018-01-01T00:24:39.400000",
          "pl_90pctl": "2018-01-01T00:42:43.100000",
          "tps_parcours": "2018-01-01T00:22:12"
         },
         {
          "created_x": "2019-01-29T08:15:16",
          "l": -1,
          "pl_85pctl": "2018-01-01T00:24:39.400000",
          "pl_90pctl": "2018-01-01T00:42:43.100000",
          "tps_parcours": "2018-01-01T00:22:25"
         },
         {
          "created_x": "2019-01-29T08:15:22",
          "l": -1,
          "pl_85pctl": "2018-01-01T00:24:39.400000",
          "pl_90pctl": "2018-01-01T00:42:43.100000",
          "tps_parcours": "2018-01-01T00:22:20"
         },
         {
          "created_x": "2019-01-29T08:15:07",
          "l": -1,
          "pl_85pctl": "2018-01-01T00:24:39.400000",
          "pl_90pctl": "2018-01-01T00:42:43.100000",
          "tps_parcours": "2018-01-01T00:22:36"
         },
         {
          "created_x": "2019-01-29T08:20:23",
          "l": 0,
          "pl_85pctl": "2018-01-01T00:24:39.400000",
          "pl_90pctl": "2018-01-01T00:42:43.100000",
          "tps_parcours": "2018-01-01T00:17:25"
         },
         {
          "created_x": "2019-01-29T08:15:24",
          "l": 0,
          "pl_85pctl": "2018-01-01T00:24:39.400000",
          "pl_90pctl": "2018-01-01T00:42:43.100000",
          "tps_parcours": "2018-01-01T00:22:34"
         },
         {
          "created_x": "2019-01-29T08:15:10",
          "l": -1,
          "pl_85pctl": "2018-01-01T00:24:39.400000",
          "pl_90pctl": "2018-01-01T00:42:43.100000",
          "tps_parcours": "2018-01-01T00:22:50"
         },
         {
          "created_x": "2019-01-29T08:15:30",
          "l": 0,
          "pl_85pctl": "2018-01-01T00:24:39.400000",
          "pl_90pctl": "2018-01-01T00:42:43.100000",
          "tps_parcours": "2018-01-01T00:22:33"
         },
         {
          "created_x": "2019-01-29T08:16:00",
          "l": 0,
          "pl_85pctl": "2018-01-01T00:24:39.400000",
          "pl_90pctl": "2018-01-01T00:42:43.100000",
          "tps_parcours": "2018-01-01T00:22:08"
         },
         {
          "created_x": "2019-01-29T08:15:38",
          "l": 0,
          "pl_85pctl": "2018-01-01T00:24:39.400000",
          "pl_90pctl": "2018-01-01T00:42:43.100000",
          "tps_parcours": "2018-01-01T00:22:33"
         },
         {
          "created_x": "2019-01-29T08:20:21",
          "l": 0,
          "pl_85pctl": "2018-01-01T00:24:39.400000",
          "pl_90pctl": "2018-01-01T00:42:43.100000",
          "tps_parcours": "2018-01-01T00:18:05"
         },
         {
          "created_x": "2019-01-29T08:16:30",
          "l": 0,
          "pl_85pctl": "2018-01-01T00:24:39.400000",
          "pl_90pctl": "2018-01-01T00:42:43.100000",
          "tps_parcours": "2018-01-01T00:22:13"
         },
         {
          "created_x": "2019-01-29T08:15:43",
          "l": -1,
          "pl_85pctl": "2018-01-01T00:24:39.400000",
          "pl_90pctl": "2018-01-01T00:42:43.100000",
          "tps_parcours": "2018-01-01T00:23:05"
         },
         {
          "created_x": "2019-01-29T08:19:27",
          "l": -1,
          "pl_85pctl": "2018-01-01T00:24:39.400000",
          "pl_90pctl": "2018-01-01T00:42:43.100000",
          "tps_parcours": "2018-01-01T00:19:22"
         },
         {
          "created_x": "2019-01-29T08:22:08",
          "l": 0,
          "pl_85pctl": "2018-01-01T00:24:39.400000",
          "pl_90pctl": "2018-01-01T00:42:43.100000",
          "tps_parcours": "2018-01-01T00:16:53"
         },
         {
          "created_x": "2019-01-29T08:16:07",
          "l": -1,
          "pl_85pctl": "2018-01-01T00:24:39.400000",
          "pl_90pctl": "2018-01-01T00:42:43.100000",
          "tps_parcours": "2018-01-01T00:23:19"
         },
         {
          "created_x": "2019-01-29T08:29:40",
          "l": 1,
          "pl_85pctl": "2018-01-01T00:24:39.400000",
          "pl_90pctl": "2018-01-01T00:42:43.100000",
          "tps_parcours": "2018-01-01T00:09:48"
         },
         {
          "created_x": "2019-01-29T08:18:23",
          "l": -1,
          "pl_85pctl": "2018-01-01T00:24:39.400000",
          "pl_90pctl": "2018-01-01T00:42:43.100000",
          "tps_parcours": "2018-01-01T00:21:13"
         },
         {
          "created_x": "2019-01-29T08:16:29",
          "l": 1,
          "pl_85pctl": "2018-01-01T00:24:39.400000",
          "pl_90pctl": "2018-01-01T00:42:43.100000",
          "tps_parcours": "2018-01-01T00:23:09"
         },
         {
          "created_x": "2019-01-29T08:17:13",
          "l": -1,
          "pl_85pctl": "2018-01-01T00:24:39.400000",
          "pl_90pctl": "2018-01-01T00:42:43.100000",
          "tps_parcours": "2018-01-01T00:22:30"
         },
         {
          "created_x": "2019-01-29T08:22:18",
          "l": 0,
          "pl_85pctl": "2018-01-01T00:24:39.400000",
          "pl_90pctl": "2018-01-01T00:42:43.100000",
          "tps_parcours": "2018-01-01T00:17:25"
         },
         {
          "created_x": "2019-01-29T08:22:39",
          "l": 0,
          "pl_85pctl": "2018-01-01T00:24:39.400000",
          "pl_90pctl": "2018-01-01T00:42:43.100000",
          "tps_parcours": "2018-01-01T00:17:14"
         },
         {
          "created_x": "2019-01-29T08:17:51",
          "l": -1,
          "pl_85pctl": "2018-01-01T00:24:39.400000",
          "pl_90pctl": "2018-01-01T00:42:43.100000",
          "tps_parcours": "2018-01-01T00:22:06"
         },
         {
          "created_x": "2019-01-29T08:18:10",
          "l": 0,
          "pl_85pctl": "2018-01-01T00:24:39.400000",
          "pl_90pctl": "2018-01-01T00:42:43.100000",
          "tps_parcours": "2018-01-01T00:21:58"
         },
         {
          "created_x": "2019-01-29T08:22:12",
          "l": 0,
          "pl_85pctl": "2018-01-01T00:24:39.400000",
          "pl_90pctl": "2018-01-01T00:42:43.100000",
          "tps_parcours": "2018-01-01T00:18:05"
         },
         {
          "created_x": "2019-01-29T08:23:33",
          "l": 0,
          "pl_85pctl": "2018-01-01T00:24:39.400000",
          "pl_90pctl": "2018-01-01T00:42:43.100000",
          "tps_parcours": "2018-01-01T00:16:49"
         },
         {
          "created_x": "2019-01-29T08:18:17",
          "l": 1,
          "pl_85pctl": "2018-01-01T00:24:39.400000",
          "pl_90pctl": "2018-01-01T00:42:43.100000",
          "tps_parcours": "2018-01-01T00:22:07"
         },
         {
          "created_x": "2019-01-29T08:18:19",
          "l": -1,
          "pl_85pctl": "2018-01-01T00:24:39.400000",
          "pl_90pctl": "2018-01-01T00:42:43.100000",
          "tps_parcours": "2018-01-01T00:22:13"
         },
         {
          "created_x": "2019-01-29T08:21:23",
          "l": 0,
          "pl_85pctl": "2018-01-01T00:24:39.400000",
          "pl_90pctl": "2018-01-01T00:42:43.100000",
          "tps_parcours": "2018-01-01T00:19:16"
         },
         {
          "created_x": "2019-01-29T08:22:08",
          "l": 0,
          "pl_85pctl": "2018-01-01T00:24:39.400000",
          "pl_90pctl": "2018-01-01T00:42:43.100000",
          "tps_parcours": "2018-01-01T00:18:32"
         },
         {
          "created_x": "2019-01-29T08:20:23",
          "l": -1,
          "pl_85pctl": "2018-01-01T00:24:39.400000",
          "pl_90pctl": "2018-01-01T00:42:43.100000",
          "tps_parcours": "2018-01-01T00:20:25"
         },
         {
          "created_x": "2019-01-29T08:18:22",
          "l": 0,
          "pl_85pctl": "2018-01-01T00:24:39.400000",
          "pl_90pctl": "2018-01-01T00:42:43.100000",
          "tps_parcours": "2018-01-01T00:22:30"
         },
         {
          "created_x": "2019-01-29T08:20:29",
          "l": 1,
          "pl_85pctl": "2018-01-01T00:24:39.400000",
          "pl_90pctl": "2018-01-01T00:42:43.100000",
          "tps_parcours": "2018-01-01T00:20:27"
         },
         {
          "created_x": "2019-01-29T08:23:36",
          "l": 0,
          "pl_85pctl": "2018-01-01T00:24:39.400000",
          "pl_90pctl": "2018-01-01T00:42:43.100000",
          "tps_parcours": "2018-01-01T00:17:25"
         },
         {
          "created_x": "2019-01-29T08:20:21",
          "l": 1,
          "pl_85pctl": "2018-01-01T00:24:39.400000",
          "pl_90pctl": "2018-01-01T00:42:43.100000",
          "tps_parcours": "2018-01-01T00:21:07"
         },
         {
          "created_x": "2019-01-29T08:25:06",
          "l": 0,
          "pl_85pctl": "2018-01-01T00:24:39.400000",
          "pl_90pctl": "2018-01-01T00:42:43.100000",
          "tps_parcours": "2018-01-01T00:16:26"
         },
         {
          "created_x": "2019-01-29T08:06:41",
          "l": 1,
          "pl_85pctl": "2018-01-01T00:24:39.400000",
          "pl_90pctl": "2018-01-01T00:42:43.100000",
          "tps_parcours": "2018-01-01T00:35:01"
         },
         {
          "created_x": "2019-01-29T08:20:40",
          "l": 1,
          "pl_85pctl": "2018-01-01T00:24:39.400000",
          "pl_90pctl": "2018-01-01T00:42:43.100000",
          "tps_parcours": "2018-01-01T00:21:10"
         },
         {
          "created_x": "2019-01-29T08:25:08",
          "l": 0,
          "pl_85pctl": "2018-01-01T00:24:39.400000",
          "pl_90pctl": "2018-01-01T00:42:43.100000",
          "tps_parcours": "2018-01-01T00:16:45"
         },
         {
          "created_x": "2019-01-29T08:20:55",
          "l": 1,
          "pl_85pctl": "2018-01-01T00:24:39.400000",
          "pl_90pctl": "2018-01-01T00:42:43.100000",
          "tps_parcours": "2018-01-01T00:21:03"
         },
         {
          "created_x": "2019-01-29T08:20:38",
          "l": -1,
          "pl_85pctl": "2018-01-01T00:24:39.400000",
          "pl_90pctl": "2018-01-01T00:42:43.100000",
          "tps_parcours": "2018-01-01T00:21:42"
         },
         {
          "created_x": "2019-01-29T08:25:17",
          "l": 0,
          "pl_85pctl": "2018-01-01T00:24:39.400000",
          "pl_90pctl": "2018-01-01T00:42:43.100000",
          "tps_parcours": "2018-01-01T00:17:21"
         },
         {
          "created_x": "2019-01-29T08:21:44",
          "l": -1,
          "pl_85pctl": "2018-01-01T00:24:39.400000",
          "pl_90pctl": "2018-01-01T00:42:43.100000",
          "tps_parcours": "2018-01-01T00:20:56"
         },
         {
          "created_x": "2019-01-29T08:21:46",
          "l": 0,
          "pl_85pctl": "2018-01-01T00:24:39.400000",
          "pl_90pctl": "2018-01-01T00:42:43.100000",
          "tps_parcours": "2018-01-01T00:20:57"
         },
         {
          "created_x": "2019-01-29T08:21:42",
          "l": 1,
          "pl_85pctl": "2018-01-01T00:24:39.400000",
          "pl_90pctl": "2018-01-01T00:42:43.100000",
          "tps_parcours": "2018-01-01T00:21:07"
         },
         {
          "created_x": "2019-01-29T08:21:54",
          "l": -1,
          "pl_85pctl": "2018-01-01T00:24:39.400000",
          "pl_90pctl": "2018-01-01T00:42:43.100000",
          "tps_parcours": "2018-01-01T00:21:05"
         },
         {
          "created_x": "2019-01-29T08:22:59",
          "l": 0,
          "pl_85pctl": "2018-01-01T00:24:39.400000",
          "pl_90pctl": "2018-01-01T00:42:43.100000",
          "tps_parcours": "2018-01-01T00:20:08"
         },
         {
          "created_x": "2019-01-29T08:21:34",
          "l": -1,
          "pl_85pctl": "2018-01-01T00:24:39.400000",
          "pl_90pctl": "2018-01-01T00:42:43.100000",
          "tps_parcours": "2018-01-01T00:21:33"
         },
         {
          "created_x": "2019-01-29T08:22:18",
          "l": -1,
          "pl_85pctl": "2018-01-01T00:24:39.400000",
          "pl_90pctl": "2018-01-01T00:42:43.100000",
          "tps_parcours": "2018-01-01T00:21:00"
         },
         {
          "created_x": "2019-01-29T08:22:18",
          "l": -1,
          "pl_85pctl": "2018-01-01T00:24:39.400000",
          "pl_90pctl": "2018-01-01T00:42:43.100000",
          "tps_parcours": "2018-01-01T00:21:01"
         },
         {
          "created_x": "2019-01-29T08:21:58",
          "l": 1,
          "pl_85pctl": "2018-01-01T00:24:39.400000",
          "pl_90pctl": "2018-01-01T00:42:43.100000",
          "tps_parcours": "2018-01-01T00:21:31"
         },
         {
          "created_x": "2019-01-29T08:25:05",
          "l": 0,
          "pl_85pctl": "2018-01-01T00:24:39.400000",
          "pl_90pctl": "2018-01-01T00:42:43.100000",
          "tps_parcours": "2018-01-01T00:18:34"
         },
         {
          "created_x": "2019-01-29T08:22:55",
          "l": -1,
          "pl_85pctl": "2018-01-01T00:24:39.400000",
          "pl_90pctl": "2018-01-01T00:42:43.100000",
          "tps_parcours": "2018-01-01T00:20:49"
         },
         {
          "created_x": "2019-01-29T08:23:59",
          "l": -1,
          "pl_85pctl": "2018-01-01T00:24:39.400000",
          "pl_90pctl": "2018-01-01T00:42:43.100000",
          "tps_parcours": "2018-01-01T00:19:59"
         },
         {
          "created_x": "2019-01-29T08:23:57",
          "l": -1,
          "pl_85pctl": "2018-01-01T00:24:39.400000",
          "pl_90pctl": "2018-01-01T00:42:43.100000",
          "tps_parcours": "2018-01-01T00:20:24"
         },
         {
          "created_x": "2019-01-29T08:19:08",
          "l": -1,
          "pl_85pctl": "2018-01-01T00:24:39.400000",
          "pl_90pctl": "2018-01-01T00:42:43.100000",
          "tps_parcours": "2018-01-01T00:25:14"
         },
         {
          "created_x": "2019-01-29T08:23:43",
          "l": -1,
          "pl_85pctl": "2018-01-01T00:24:39.400000",
          "pl_90pctl": "2018-01-01T00:42:43.100000",
          "tps_parcours": "2018-01-01T00:20:42"
         },
         {
          "created_x": "2019-01-29T08:27:11",
          "l": 0,
          "pl_85pctl": "2018-01-01T00:24:39.400000",
          "pl_90pctl": "2018-01-01T00:42:43.100000",
          "tps_parcours": "2018-01-01T00:17:17"
         },
         {
          "created_x": "2019-01-29T08:23:53",
          "l": -1,
          "pl_85pctl": "2018-01-01T00:24:39.400000",
          "pl_90pctl": "2018-01-01T00:42:43.100000",
          "tps_parcours": "2018-01-01T00:20:35"
         },
         {
          "created_x": "2019-01-29T08:27:32",
          "l": 0,
          "pl_85pctl": "2018-01-01T00:24:39.400000",
          "pl_90pctl": "2018-01-01T00:42:43.100000",
          "tps_parcours": "2018-01-01T00:16:59"
         },
         {
          "created_x": "2019-01-29T08:27:44",
          "l": 0,
          "pl_85pctl": "2018-01-01T00:24:39.400000",
          "pl_90pctl": "2018-01-01T00:42:43.100000",
          "tps_parcours": "2018-01-01T00:16:48"
         },
         {
          "created_x": "2019-01-29T08:27:45",
          "l": 0,
          "pl_85pctl": "2018-01-01T00:24:39.400000",
          "pl_90pctl": "2018-01-01T00:42:43.100000",
          "tps_parcours": "2018-01-01T00:16:50"
         },
         {
          "created_x": "2019-01-29T08:24:44",
          "l": 1,
          "pl_85pctl": "2018-01-01T00:24:39.400000",
          "pl_90pctl": "2018-01-01T00:42:43.100000",
          "tps_parcours": "2018-01-01T00:19:55"
         },
         {
          "created_x": "2019-01-29T08:17:19",
          "l": 0,
          "pl_85pctl": "2018-01-01T00:24:39.400000",
          "pl_90pctl": "2018-01-01T00:42:43.100000",
          "tps_parcours": "2018-01-01T00:27:25"
         },
         {
          "created_x": "2019-01-29T08:28:58",
          "l": 0,
          "pl_85pctl": "2018-01-01T00:24:39.400000",
          "pl_90pctl": "2018-01-01T00:42:43.100000",
          "tps_parcours": "2018-01-01T00:16:12"
         },
         {
          "created_x": "2019-01-29T08:28:37",
          "l": 0,
          "pl_85pctl": "2018-01-01T00:24:39.400000",
          "pl_90pctl": "2018-01-01T00:42:43.100000",
          "tps_parcours": "2018-01-01T00:16:34"
         },
         {
          "created_x": "2019-01-29T08:24:52",
          "l": 1,
          "pl_85pctl": "2018-01-01T00:24:39.400000",
          "pl_90pctl": "2018-01-01T00:42:43.100000",
          "tps_parcours": "2018-01-01T00:20:23"
         },
         {
          "created_x": "2019-01-29T08:24:59",
          "l": -1,
          "pl_85pctl": "2018-01-01T00:24:39.400000",
          "pl_90pctl": "2018-01-01T00:42:43.100000",
          "tps_parcours": "2018-01-01T00:20:18"
         },
         {
          "created_x": "2019-01-29T08:24:38",
          "l": 1,
          "pl_85pctl": "2018-01-01T00:24:39.400000",
          "pl_90pctl": "2018-01-01T00:42:43.100000",
          "tps_parcours": "2018-01-01T00:20:43"
         },
         {
          "created_x": "2019-01-29T08:24:38",
          "l": 1,
          "pl_85pctl": "2018-01-01T00:24:39.400000",
          "pl_90pctl": "2018-01-01T00:42:43.100000",
          "tps_parcours": "2018-01-01T00:20:44"
         },
         {
          "created_x": "2019-01-29T08:28:00",
          "l": 0,
          "pl_85pctl": "2018-01-01T00:24:39.400000",
          "pl_90pctl": "2018-01-01T00:42:43.100000",
          "tps_parcours": "2018-01-01T00:17:27"
         },
         {
          "created_x": "2019-01-29T08:28:03",
          "l": 0,
          "pl_85pctl": "2018-01-01T00:24:39.400000",
          "pl_90pctl": "2018-01-01T00:42:43.100000",
          "tps_parcours": "2018-01-01T00:17:25"
         },
         {
          "created_x": "2019-01-29T08:24:57",
          "l": 1,
          "pl_85pctl": "2018-01-01T00:24:39.400000",
          "pl_90pctl": "2018-01-01T00:42:43.100000",
          "tps_parcours": "2018-01-01T00:20:32"
         },
         {
          "created_x": "2019-01-29T08:04:17",
          "l": 0,
          "pl_85pctl": "2018-01-01T00:24:39.400000",
          "pl_90pctl": "2018-01-01T00:42:43.100000",
          "tps_parcours": "2018-01-01T00:41:19"
         },
         {
          "created_x": "2019-01-29T08:29:09",
          "l": 0,
          "pl_85pctl": "2018-01-01T00:24:39.400000",
          "pl_90pctl": "2018-01-01T00:42:43.100000",
          "tps_parcours": "2018-01-01T00:16:37"
         },
         {
          "created_x": "2019-01-29T08:25:30",
          "l": 0,
          "pl_85pctl": "2018-01-01T00:24:39.400000",
          "pl_90pctl": "2018-01-01T00:42:43.100000",
          "tps_parcours": "2018-01-01T00:20:16"
         },
         {
          "created_x": "2019-01-29T08:25:35",
          "l": -1,
          "pl_85pctl": "2018-01-01T00:24:39.400000",
          "pl_90pctl": "2018-01-01T00:42:43.100000",
          "tps_parcours": "2018-01-01T00:20:24"
         },
         {
          "created_x": "2019-01-29T08:25:51",
          "l": 1,
          "pl_85pctl": "2018-01-01T00:24:39.400000",
          "pl_90pctl": "2018-01-01T00:42:43.100000",
          "tps_parcours": "2018-01-01T00:20:19"
         },
         {
          "created_x": "2019-01-29T08:25:56",
          "l": -1,
          "pl_85pctl": "2018-01-01T00:24:39.400000",
          "pl_90pctl": "2018-01-01T00:42:43.100000",
          "tps_parcours": "2018-01-01T00:20:16"
         },
         {
          "created_x": "2019-01-29T08:25:47",
          "l": -1,
          "pl_85pctl": "2018-01-01T00:24:39.400000",
          "pl_90pctl": "2018-01-01T00:42:43.100000",
          "tps_parcours": "2018-01-01T00:20:27"
         },
         {
          "created_x": "2019-01-29T08:25:33",
          "l": -1,
          "pl_85pctl": "2018-01-01T00:24:39.400000",
          "pl_90pctl": "2018-01-01T00:42:43.100000",
          "tps_parcours": "2018-01-01T00:20:54"
         },
         {
          "created_x": "2019-01-29T08:11:41",
          "l": 0,
          "pl_85pctl": "2018-01-01T00:24:39.400000",
          "pl_90pctl": "2018-01-01T00:42:43.100000",
          "tps_parcours": "2018-01-01T00:34:51"
         },
         {
          "created_x": "2019-01-29T08:25:48",
          "l": -1,
          "pl_85pctl": "2018-01-01T00:24:39.400000",
          "pl_90pctl": "2018-01-01T00:42:43.100000",
          "tps_parcours": "2018-01-01T00:21:01"
         },
         {
          "created_x": "2019-01-29T08:26:48",
          "l": 1,
          "pl_85pctl": "2018-01-01T00:24:39.400000",
          "pl_90pctl": "2018-01-01T00:42:43.100000",
          "tps_parcours": "2018-01-01T00:20:04"
         },
         {
          "created_x": "2019-01-29T08:26:48",
          "l": 1,
          "pl_85pctl": "2018-01-01T00:24:39.400000",
          "pl_90pctl": "2018-01-01T00:42:43.100000",
          "tps_parcours": "2018-01-01T00:20:04"
         },
         {
          "created_x": "2019-01-29T08:27:05",
          "l": -1,
          "pl_85pctl": "2018-01-01T00:24:39.400000",
          "pl_90pctl": "2018-01-01T00:42:43.100000",
          "tps_parcours": "2018-01-01T00:20:00"
         },
         {
          "created_x": "2019-01-29T08:29:32",
          "l": 0,
          "pl_85pctl": "2018-01-01T00:24:39.400000",
          "pl_90pctl": "2018-01-01T00:42:43.100000",
          "tps_parcours": "2018-01-01T00:17:37"
         },
         {
          "created_x": "2019-01-29T08:31:00",
          "l": 0,
          "pl_85pctl": "2018-01-01T00:24:39.400000",
          "pl_90pctl": "2018-01-01T00:42:43.100000",
          "tps_parcours": "2018-01-01T00:16:16"
         },
         {
          "created_x": "2019-01-29T08:30:49",
          "l": 0,
          "pl_85pctl": "2018-01-01T00:24:39.400000",
          "pl_90pctl": "2018-01-01T00:42:43.100000",
          "tps_parcours": "2018-01-01T00:16:45"
         },
         {
          "created_x": "2019-01-29T08:27:01",
          "l": -1,
          "pl_85pctl": "2018-01-01T00:24:39.400000",
          "pl_90pctl": "2018-01-01T00:42:43.100000",
          "tps_parcours": "2018-01-01T00:20:40"
         },
         {
          "created_x": "2019-01-29T08:27:14",
          "l": -1,
          "pl_85pctl": "2018-01-01T00:24:39.400000",
          "pl_90pctl": "2018-01-01T00:42:43.100000",
          "tps_parcours": "2018-01-01T00:20:34"
         },
         {
          "created_x": "2019-01-29T08:27:22",
          "l": -1,
          "pl_85pctl": "2018-01-01T00:24:39.400000",
          "pl_90pctl": "2018-01-01T00:42:43.100000",
          "tps_parcours": "2018-01-01T00:20:32"
         },
         {
          "created_x": "2019-01-29T08:27:22",
          "l": -1,
          "pl_85pctl": "2018-01-01T00:24:39.400000",
          "pl_90pctl": "2018-01-01T00:42:43.100000",
          "tps_parcours": "2018-01-01T00:20:32"
         },
         {
          "created_x": "2019-01-29T08:27:50",
          "l": 1,
          "pl_85pctl": "2018-01-01T00:24:39.400000",
          "pl_90pctl": "2018-01-01T00:42:43.100000",
          "tps_parcours": "2018-01-01T00:20:13"
         },
         {
          "created_x": "2019-01-29T08:28:04",
          "l": 1,
          "pl_85pctl": "2018-01-01T00:24:39.400000",
          "pl_90pctl": "2018-01-01T00:42:43.100000",
          "tps_parcours": "2018-01-01T00:20:02"
         },
         {
          "created_x": "2019-01-29T08:31:56",
          "l": 0,
          "pl_85pctl": "2018-01-01T00:24:39.400000",
          "pl_90pctl": "2018-01-01T00:42:43.100000",
          "tps_parcours": "2018-01-01T00:16:22"
         },
         {
          "created_x": "2019-01-29T08:27:45",
          "l": 1,
          "pl_85pctl": "2018-01-01T00:24:39.400000",
          "pl_90pctl": "2018-01-01T00:42:43.100000",
          "tps_parcours": "2018-01-01T00:20:37"
         },
         {
          "created_x": "2019-01-29T08:31:53",
          "l": 0,
          "pl_85pctl": "2018-01-01T00:24:39.400000",
          "pl_90pctl": "2018-01-01T00:42:43.100000",
          "tps_parcours": "2018-01-01T00:16:35"
         },
         {
          "created_x": "2019-01-29T08:27:53",
          "l": 0,
          "pl_85pctl": "2018-01-01T00:24:39.400000",
          "pl_90pctl": "2018-01-01T00:42:43.100000",
          "tps_parcours": "2018-01-01T00:20:44"
         },
         {
          "created_x": "2019-01-29T08:28:13",
          "l": -1,
          "pl_85pctl": "2018-01-01T00:24:39.400000",
          "pl_90pctl": "2018-01-01T00:42:43.100000",
          "tps_parcours": "2018-01-01T00:20:27"
         },
         {
          "created_x": "2019-01-29T08:28:55",
          "l": -1,
          "pl_85pctl": "2018-01-01T00:24:39.400000",
          "pl_90pctl": "2018-01-01T00:42:43.100000",
          "tps_parcours": "2018-01-01T00:19:50"
         },
         {
          "created_x": "2019-01-29T08:32:30",
          "l": 0,
          "pl_85pctl": "2018-01-01T00:24:39.400000",
          "pl_90pctl": "2018-01-01T00:42:43.100000",
          "tps_parcours": "2018-01-01T00:16:24"
         },
         {
          "created_x": "2019-01-29T08:28:30",
          "l": -1,
          "pl_85pctl": "2018-01-01T00:24:39.400000",
          "pl_90pctl": "2018-01-01T00:42:43.100000",
          "tps_parcours": "2018-01-01T00:20:29"
         },
         {
          "created_x": "2019-01-29T08:28:59",
          "l": -1,
          "pl_85pctl": "2018-01-01T00:24:39.400000",
          "pl_90pctl": "2018-01-01T00:42:43.100000",
          "tps_parcours": "2018-01-01T00:20:02"
         },
         {
          "created_x": "2019-01-29T08:28:49",
          "l": -1,
          "pl_85pctl": "2018-01-01T00:24:39.400000",
          "pl_90pctl": "2018-01-01T00:42:43.100000",
          "tps_parcours": "2018-01-01T00:20:17"
         },
         {
          "created_x": "2019-01-29T08:28:51",
          "l": 0,
          "pl_85pctl": "2018-01-01T00:24:39.400000",
          "pl_90pctl": "2018-01-01T00:42:43.100000",
          "tps_parcours": "2018-01-01T00:20:16"
         },
         {
          "created_x": "2019-01-29T08:30:22",
          "l": 1,
          "pl_85pctl": "2018-01-01T00:24:39.400000",
          "pl_90pctl": "2018-01-01T00:42:43.100000",
          "tps_parcours": "2018-01-01T00:18:45"
         },
         {
          "created_x": "2019-01-29T08:33:09",
          "l": 1,
          "pl_85pctl": "2018-01-01T00:24:39.400000",
          "pl_90pctl": "2018-01-01T00:42:43.100000",
          "tps_parcours": "2018-01-01T00:16:10"
         },
         {
          "created_x": "2019-01-29T08:29:11",
          "l": 1,
          "pl_85pctl": "2018-01-01T00:24:39.400000",
          "pl_90pctl": "2018-01-01T00:42:43.100000",
          "tps_parcours": "2018-01-01T00:20:09"
         },
         {
          "created_x": "2019-01-29T08:33:05",
          "l": -1,
          "pl_85pctl": "2018-01-01T00:24:39.400000",
          "pl_90pctl": "2018-01-01T00:42:43.100000",
          "tps_parcours": "2018-01-01T00:16:23"
         },
         {
          "created_x": "2019-01-29T08:29:25",
          "l": 1,
          "pl_85pctl": "2018-01-01T00:24:39.400000",
          "pl_90pctl": "2018-01-01T00:42:43.100000",
          "tps_parcours": "2018-01-01T00:20:12"
         },
         {
          "created_x": "2019-01-29T08:33:20",
          "l": 0,
          "pl_85pctl": "2018-01-01T00:24:39.400000",
          "pl_90pctl": "2018-01-01T00:42:43.100000",
          "tps_parcours": "2018-01-01T00:16:22"
         },
         {
          "created_x": "2019-01-29T08:29:28",
          "l": 1,
          "pl_85pctl": "2018-01-01T00:24:39.400000",
          "pl_90pctl": "2018-01-01T00:42:43.100000",
          "tps_parcours": "2018-01-01T00:20:20"
         },
         {
          "created_x": "2019-01-29T08:20:50",
          "l": -1,
          "pl_85pctl": "2018-01-01T00:24:39.400000",
          "pl_90pctl": "2018-01-01T00:42:43.100000",
          "tps_parcours": "2018-01-01T00:29:03"
         },
         {
          "created_x": "2019-01-29T08:31:47",
          "l": 1,
          "pl_85pctl": "2018-01-01T00:24:39.400000",
          "pl_90pctl": "2018-01-01T00:42:43.100000",
          "tps_parcours": "2018-01-01T00:18:21"
         },
         {
          "created_x": "2019-01-29T08:30:43",
          "l": -1,
          "pl_85pctl": "2018-01-01T00:24:39.400000",
          "pl_90pctl": "2018-01-01T00:42:43.100000",
          "tps_parcours": "2018-01-01T00:19:42"
         },
         {
          "created_x": "2019-01-29T08:31:09",
          "l": 1,
          "pl_85pctl": "2018-01-01T00:24:39.400000",
          "pl_90pctl": "2018-01-01T00:42:43.100000",
          "tps_parcours": "2018-01-01T00:19:31"
         },
         {
          "created_x": "2019-01-29T08:31:16",
          "l": 1,
          "pl_85pctl": "2018-01-01T00:24:39.400000",
          "pl_90pctl": "2018-01-01T00:42:43.100000",
          "tps_parcours": "2018-01-01T00:19:29"
         },
         {
          "created_x": "2019-01-29T08:15:53",
          "l": 1,
          "pl_85pctl": "2018-01-01T00:24:39.400000",
          "pl_90pctl": "2018-01-01T00:42:43.100000",
          "tps_parcours": "2018-01-01T00:35:01"
         },
         {
          "created_x": "2019-01-29T08:33:50",
          "l": 0,
          "pl_85pctl": "2018-01-01T00:24:39.400000",
          "pl_90pctl": "2018-01-01T00:42:43.100000",
          "tps_parcours": "2018-01-01T00:17:05"
         },
         {
          "created_x": "2019-01-29T08:33:39",
          "l": -1,
          "pl_85pctl": "2018-01-01T00:24:39.400000",
          "pl_90pctl": "2018-01-01T00:42:43.100000",
          "tps_parcours": "2018-01-01T00:17:16"
         },
         {
          "created_x": "2019-01-29T08:31:12",
          "l": -1,
          "pl_85pctl": "2018-01-01T00:24:39.400000",
          "pl_90pctl": "2018-01-01T00:42:43.100000",
          "tps_parcours": "2018-01-01T00:19:46"
         },
         {
          "created_x": "2019-01-29T08:31:20",
          "l": 1,
          "pl_85pctl": "2018-01-01T00:24:39.400000",
          "pl_90pctl": "2018-01-01T00:42:43.100000",
          "tps_parcours": "2018-01-01T00:19:41"
         },
         {
          "created_x": "2019-01-29T08:34:13",
          "l": 0,
          "pl_85pctl": "2018-01-01T00:24:39.400000",
          "pl_90pctl": "2018-01-01T00:42:43.100000",
          "tps_parcours": "2018-01-01T00:16:59"
         },
         {
          "created_x": "2019-01-29T08:34:28",
          "l": 0,
          "pl_85pctl": "2018-01-01T00:24:39.400000",
          "pl_90pctl": "2018-01-01T00:42:43.100000",
          "tps_parcours": "2018-01-01T00:16:49"
         },
         {
          "created_x": "2019-01-29T08:31:06",
          "l": 1,
          "pl_85pctl": "2018-01-01T00:24:39.400000",
          "pl_90pctl": "2018-01-01T00:42:43.100000",
          "tps_parcours": "2018-01-01T00:20:18"
         },
         {
          "created_x": "2019-01-29T08:17:25",
          "l": -1,
          "pl_85pctl": "2018-01-01T00:24:39.400000",
          "pl_90pctl": "2018-01-01T00:42:43.100000",
          "tps_parcours": "2018-01-01T00:34:07"
         },
         {
          "created_x": "2019-01-29T08:31:30",
          "l": 0,
          "pl_85pctl": "2018-01-01T00:24:39.400000",
          "pl_90pctl": "2018-01-01T00:42:43.100000",
          "tps_parcours": "2018-01-01T00:20:04"
         },
         {
          "created_x": "2019-01-29T08:31:23",
          "l": -1,
          "pl_85pctl": "2018-01-01T00:24:39.400000",
          "pl_90pctl": "2018-01-01T00:42:43.100000",
          "tps_parcours": "2018-01-01T00:20:12"
         },
         {
          "created_x": "2019-01-29T08:17:28",
          "l": -1,
          "pl_85pctl": "2018-01-01T00:24:39.400000",
          "pl_90pctl": "2018-01-01T00:42:43.100000",
          "tps_parcours": "2018-01-01T00:34:09"
         },
         {
          "created_x": "2019-01-29T08:32:15",
          "l": 1,
          "pl_85pctl": "2018-01-01T00:24:39.400000",
          "pl_90pctl": "2018-01-01T00:42:43.100000",
          "tps_parcours": "2018-01-01T00:19:27"
         },
         {
          "created_x": "2019-01-29T08:32:28",
          "l": -1,
          "pl_85pctl": "2018-01-01T00:24:39.400000",
          "pl_90pctl": "2018-01-01T00:42:43.100000",
          "tps_parcours": "2018-01-01T00:19:25"
         },
         {
          "created_x": "2019-01-29T08:32:25",
          "l": -1,
          "pl_85pctl": "2018-01-01T00:24:39.400000",
          "pl_90pctl": "2018-01-01T00:42:43.100000",
          "tps_parcours": "2018-01-01T00:19:30"
         },
         {
          "created_x": "2019-01-29T08:35:23",
          "l": 0,
          "pl_85pctl": "2018-01-01T00:24:39.400000",
          "pl_90pctl": "2018-01-01T00:42:43.100000",
          "tps_parcours": "2018-01-01T00:16:35"
         },
         {
          "created_x": "2019-01-29T08:31:34",
          "l": 1,
          "pl_85pctl": "2018-01-01T00:24:39.400000",
          "pl_90pctl": "2018-01-01T00:42:43.100000",
          "tps_parcours": "2018-01-01T00:20:27"
         },
         {
          "created_x": "2019-01-29T08:35:46",
          "l": 0,
          "pl_85pctl": "2018-01-01T00:24:39.400000",
          "pl_90pctl": "2018-01-01T00:42:43.100000",
          "tps_parcours": "2018-01-01T00:16:33"
         },
         {
          "created_x": "2019-01-29T08:35:18",
          "l": -1,
          "pl_85pctl": "2018-01-01T00:24:39.400000",
          "pl_90pctl": "2018-01-01T00:42:43.100000",
          "tps_parcours": "2018-01-01T00:17:01"
         },
         {
          "created_x": "2019-01-29T08:31:26",
          "l": -1,
          "pl_85pctl": "2018-01-01T00:24:39.400000",
          "pl_90pctl": "2018-01-01T00:42:43.100000",
          "tps_parcours": "2018-01-01T00:21:02"
         },
         {
          "created_x": "2019-01-29T08:32:07",
          "l": -1,
          "pl_85pctl": "2018-01-01T00:24:39.400000",
          "pl_90pctl": "2018-01-01T00:42:43.100000",
          "tps_parcours": "2018-01-01T00:20:22"
         },
         {
          "created_x": "2019-01-29T08:36:18",
          "l": 0,
          "pl_85pctl": "2018-01-01T00:24:39.400000",
          "pl_90pctl": "2018-01-01T00:42:43.100000",
          "tps_parcours": "2018-01-01T00:16:14"
         },
         {
          "created_x": "2019-01-29T08:32:51",
          "l": 1,
          "pl_85pctl": "2018-01-01T00:24:39.400000",
          "pl_90pctl": "2018-01-01T00:42:43.100000",
          "tps_parcours": "2018-01-01T00:19:42"
         },
         {
          "created_x": "2019-01-29T08:32:59",
          "l": -1,
          "pl_85pctl": "2018-01-01T00:24:39.400000",
          "pl_90pctl": "2018-01-01T00:42:43.100000",
          "tps_parcours": "2018-01-01T00:19:36"
         },
         {
          "created_x": "2019-01-29T08:32:20",
          "l": 1,
          "pl_85pctl": "2018-01-01T00:24:39.400000",
          "pl_90pctl": "2018-01-01T00:42:43.100000",
          "tps_parcours": "2018-01-01T00:20:17"
         },
         {
          "created_x": "2019-01-29T08:36:16",
          "l": 0,
          "pl_85pctl": "2018-01-01T00:24:39.400000",
          "pl_90pctl": "2018-01-01T00:42:43.100000",
          "tps_parcours": "2018-01-01T00:16:26"
         },
         {
          "created_x": "2019-01-29T08:32:55",
          "l": 1,
          "pl_85pctl": "2018-01-01T00:24:39.400000",
          "pl_90pctl": "2018-01-01T00:42:43.100000",
          "tps_parcours": "2018-01-01T00:19:52"
         },
         {
          "created_x": "2019-01-29T08:32:57",
          "l": 0,
          "pl_85pctl": "2018-01-01T00:24:39.400000",
          "pl_90pctl": "2018-01-01T00:42:43.100000",
          "tps_parcours": "2018-01-01T00:19:52"
         },
         {
          "created_x": "2019-01-29T08:36:54",
          "l": 0,
          "pl_85pctl": "2018-01-01T00:24:39.400000",
          "pl_90pctl": "2018-01-01T00:42:43.100000",
          "tps_parcours": "2018-01-01T00:15:59"
         },
         {
          "created_x": "2019-01-29T08:13:01",
          "l": 0,
          "pl_85pctl": "2018-01-01T00:24:39.400000",
          "pl_90pctl": "2018-01-01T00:42:43.100000",
          "tps_parcours": "2018-01-01T00:40:06"
         },
         {
          "created_x": "2019-01-29T08:33:12",
          "l": 0,
          "pl_85pctl": "2018-01-01T00:24:39.400000",
          "pl_90pctl": "2018-01-01T00:42:43.100000",
          "tps_parcours": "2018-01-01T00:20:26"
         },
         {
          "created_x": "2019-01-29T08:37:15",
          "l": 0,
          "pl_85pctl": "2018-01-01T00:24:39.400000",
          "pl_90pctl": "2018-01-01T00:42:43.100000",
          "tps_parcours": "2018-01-01T00:16:24"
         },
         {
          "created_x": "2019-01-29T08:33:38",
          "l": 1,
          "pl_85pctl": "2018-01-01T00:24:39.400000",
          "pl_90pctl": "2018-01-01T00:42:43.100000",
          "tps_parcours": "2018-01-01T00:20:01"
         },
         {
          "created_x": "2019-01-29T08:33:35",
          "l": -1,
          "pl_85pctl": "2018-01-01T00:24:39.400000",
          "pl_90pctl": "2018-01-01T00:42:43.100000",
          "tps_parcours": "2018-01-01T00:20:08"
         },
         {
          "created_x": "2019-01-29T08:33:30",
          "l": 1,
          "pl_85pctl": "2018-01-01T00:24:39.400000",
          "pl_90pctl": "2018-01-01T00:42:43.100000",
          "tps_parcours": "2018-01-01T00:20:26"
         },
         {
          "created_x": "2019-01-29T08:34:23",
          "l": 1,
          "pl_85pctl": "2018-01-01T00:24:39.400000",
          "pl_90pctl": "2018-01-01T00:42:43.100000",
          "tps_parcours": "2018-01-01T00:20:00"
         },
         {
          "created_x": "2019-01-29T08:20:42",
          "l": 1,
          "pl_85pctl": "2018-01-01T00:24:39.400000",
          "pl_90pctl": "2018-01-01T00:42:43.100000",
          "tps_parcours": "2018-01-01T00:33:52"
         },
         {
          "created_x": "2019-01-29T08:34:34",
          "l": 0,
          "pl_85pctl": "2018-01-01T00:24:39.400000",
          "pl_90pctl": "2018-01-01T00:42:43.100000",
          "tps_parcours": "2018-01-01T00:20:06"
         },
         {
          "created_x": "2019-01-29T08:34:38",
          "l": 0,
          "pl_85pctl": "2018-01-01T00:24:39.400000",
          "pl_90pctl": "2018-01-01T00:42:43.100000",
          "tps_parcours": "2018-01-01T00:20:05"
         },
         {
          "created_x": "2019-01-29T08:34:36",
          "l": 1,
          "pl_85pctl": "2018-01-01T00:24:39.400000",
          "pl_90pctl": "2018-01-01T00:42:43.100000",
          "tps_parcours": "2018-01-01T00:20:10"
         },
         {
          "created_x": "2019-01-29T08:34:59",
          "l": -1,
          "pl_85pctl": "2018-01-01T00:24:39.400000",
          "pl_90pctl": "2018-01-01T00:42:43.100000",
          "tps_parcours": "2018-01-01T00:19:50"
         },
         {
          "created_x": "2019-01-29T08:34:57",
          "l": 1,
          "pl_85pctl": "2018-01-01T00:24:39.400000",
          "pl_90pctl": "2018-01-01T00:42:43.100000",
          "tps_parcours": "2018-01-01T00:19:55"
         },
         {
          "created_x": "2019-01-29T08:38:47",
          "l": 0,
          "pl_85pctl": "2018-01-01T00:24:39.400000",
          "pl_90pctl": "2018-01-01T00:42:43.100000",
          "tps_parcours": "2018-01-01T00:16:24"
         },
         {
          "created_x": "2019-01-29T08:35:42",
          "l": -1,
          "pl_85pctl": "2018-01-01T00:24:39.400000",
          "pl_90pctl": "2018-01-01T00:42:43.100000",
          "tps_parcours": "2018-01-01T00:19:57"
         },
         {
          "created_x": "2019-01-29T08:34:30",
          "l": -1,
          "pl_85pctl": "2018-01-01T00:24:39.400000",
          "pl_90pctl": "2018-01-01T00:42:43.100000",
          "tps_parcours": "2018-01-01T00:21:10"
         },
         {
          "created_x": "2019-01-29T08:35:06",
          "l": 1,
          "pl_85pctl": "2018-01-01T00:24:39.400000",
          "pl_90pctl": "2018-01-01T00:42:43.100000",
          "tps_parcours": "2018-01-01T00:20:42"
         },
         {
          "created_x": "2019-01-29T08:39:15",
          "l": 0,
          "pl_85pctl": "2018-01-01T00:24:39.400000",
          "pl_90pctl": "2018-01-01T00:42:43.100000",
          "tps_parcours": "2018-01-01T00:16:47"
         },
         {
          "created_x": "2019-01-29T08:36:38",
          "l": 1,
          "pl_85pctl": "2018-01-01T00:24:39.400000",
          "pl_90pctl": "2018-01-01T00:42:43.100000",
          "tps_parcours": "2018-01-01T00:19:37"
         },
         {
          "created_x": "2019-01-29T08:38:43",
          "l": 0,
          "pl_85pctl": "2018-01-01T00:24:39.400000",
          "pl_90pctl": "2018-01-01T00:42:43.100000",
          "tps_parcours": "2018-01-01T00:18:04"
         },
         {
          "created_x": "2019-01-29T08:39:52",
          "l": 0,
          "pl_85pctl": "2018-01-01T00:24:39.400000",
          "pl_90pctl": "2018-01-01T00:42:43.100000",
          "tps_parcours": "2018-01-01T00:16:57"
         },
         {
          "created_x": "2019-01-29T08:40:30",
          "l": -1,
          "pl_85pctl": "2018-01-01T00:24:39.400000",
          "pl_90pctl": "2018-01-01T00:42:43.100000",
          "tps_parcours": "2018-01-01T00:16:29"
         },
         {
          "created_x": "2019-01-29T08:39:48",
          "l": 0,
          "pl_85pctl": "2018-01-01T00:24:39.400000",
          "pl_90pctl": "2018-01-01T00:42:43.100000",
          "tps_parcours": "2018-01-01T00:17:13"
         },
         {
          "created_x": "2019-01-29T08:41:10",
          "l": 0,
          "pl_85pctl": "2018-01-01T00:24:39.400000",
          "pl_90pctl": "2018-01-01T00:42:43.100000",
          "tps_parcours": "2018-01-01T00:16:00"
         },
         {
          "created_x": "2019-01-29T08:37:29",
          "l": 1,
          "pl_85pctl": "2018-01-01T00:24:39.400000",
          "pl_90pctl": "2018-01-01T00:42:43.100000",
          "tps_parcours": "2018-01-01T00:19:55"
         },
         {
          "created_x": "2019-01-29T08:37:26",
          "l": 1,
          "pl_85pctl": "2018-01-01T00:24:39.400000",
          "pl_90pctl": "2018-01-01T00:42:43.100000",
          "tps_parcours": "2018-01-01T00:19:59"
         },
         {
          "created_x": "2019-01-29T08:41:19",
          "l": 0,
          "pl_85pctl": "2018-01-01T00:24:39.400000",
          "pl_90pctl": "2018-01-01T00:42:43.100000",
          "tps_parcours": "2018-01-01T00:16:12"
         },
         {
          "created_x": "2019-01-29T08:37:32",
          "l": 1,
          "pl_85pctl": "2018-01-01T00:24:39.400000",
          "pl_90pctl": "2018-01-01T00:42:43.100000",
          "tps_parcours": "2018-01-01T00:20:17"
         },
         {
          "created_x": "2019-01-29T08:37:37",
          "l": 0,
          "pl_85pctl": "2018-01-01T00:24:39.400000",
          "pl_90pctl": "2018-01-01T00:42:43.100000",
          "tps_parcours": "2018-01-01T00:20:16"
         },
         {
          "created_x": "2019-01-29T08:34:27",
          "l": -1,
          "pl_85pctl": "2018-01-01T00:24:39.400000",
          "pl_90pctl": "2018-01-01T00:42:43.100000",
          "tps_parcours": "2018-01-01T00:23:26"
         },
         {
          "created_x": "2019-01-29T08:42:06",
          "l": 0,
          "pl_85pctl": "2018-01-01T00:24:39.400000",
          "pl_90pctl": "2018-01-01T00:42:43.100000",
          "tps_parcours": "2018-01-01T00:15:51"
         },
         {
          "created_x": "2019-01-29T08:18:13",
          "l": -1,
          "pl_85pctl": "2018-01-01T00:24:39.400000",
          "pl_90pctl": "2018-01-01T00:42:43.100000",
          "tps_parcours": "2018-01-01T00:39:57"
         },
         {
          "created_x": "2019-01-29T08:37:57",
          "l": -1,
          "pl_85pctl": "2018-01-01T00:24:39.400000",
          "pl_90pctl": "2018-01-01T00:42:43.100000",
          "tps_parcours": "2018-01-01T00:20:13"
         },
         {
          "created_x": "2019-01-29T08:37:42",
          "l": -1,
          "pl_85pctl": "2018-01-01T00:24:39.400000",
          "pl_90pctl": "2018-01-01T00:42:43.100000",
          "tps_parcours": "2018-01-01T00:20:34"
         },
         {
          "created_x": "2019-01-29T08:42:46",
          "l": 0,
          "pl_85pctl": "2018-01-01T00:24:39.400000",
          "pl_90pctl": "2018-01-01T00:42:43.100000",
          "tps_parcours": "2018-01-01T00:15:45"
         },
         {
          "created_x": "2019-01-29T08:37:40",
          "l": 1,
          "pl_85pctl": "2018-01-01T00:24:39.400000",
          "pl_90pctl": "2018-01-01T00:42:43.100000",
          "tps_parcours": "2018-01-01T00:20:54"
         },
         {
          "created_x": "2019-01-29T08:37:52",
          "l": 1,
          "pl_85pctl": "2018-01-01T00:24:39.400000",
          "pl_90pctl": "2018-01-01T00:42:43.100000",
          "tps_parcours": "2018-01-01T00:20:45"
         },
         {
          "created_x": "2019-01-29T08:42:43",
          "l": 0,
          "pl_85pctl": "2018-01-01T00:24:39.400000",
          "pl_90pctl": "2018-01-01T00:42:43.100000",
          "tps_parcours": "2018-01-01T00:15:57"
         },
         {
          "created_x": "2019-01-29T08:38:21",
          "l": 1,
          "pl_85pctl": "2018-01-01T00:24:39.400000",
          "pl_90pctl": "2018-01-01T00:42:43.100000",
          "tps_parcours": "2018-01-01T00:20:24"
         },
         {
          "created_x": "2019-01-29T08:38:27",
          "l": -1,
          "pl_85pctl": "2018-01-01T00:24:39.400000",
          "pl_90pctl": "2018-01-01T00:42:43.100000",
          "tps_parcours": "2018-01-01T00:20:29"
         },
         {
          "created_x": "2019-01-29T08:39:48",
          "l": 0,
          "pl_85pctl": "2018-01-01T00:24:39.400000",
          "pl_90pctl": "2018-01-01T00:42:43.100000",
          "tps_parcours": "2018-01-01T00:19:12"
         },
         {
          "created_x": "2019-01-29T08:38:46",
          "l": 1,
          "pl_85pctl": "2018-01-01T00:24:39.400000",
          "pl_90pctl": "2018-01-01T00:42:43.100000",
          "tps_parcours": "2018-01-01T00:20:16"
         },
         {
          "created_x": "2019-01-29T08:39:11",
          "l": 1,
          "pl_85pctl": "2018-01-01T00:24:39.400000",
          "pl_90pctl": "2018-01-01T00:42:43.100000",
          "tps_parcours": "2018-01-01T00:19:57"
         },
         {
          "created_x": "2019-01-29T08:39:31",
          "l": 1,
          "pl_85pctl": "2018-01-01T00:24:39.400000",
          "pl_90pctl": "2018-01-01T00:42:43.100000",
          "tps_parcours": "2018-01-01T00:19:37"
         },
         {
          "created_x": "2019-01-29T08:39:33",
          "l": -1,
          "pl_85pctl": "2018-01-01T00:24:39.400000",
          "pl_90pctl": "2018-01-01T00:42:43.100000",
          "tps_parcours": "2018-01-01T00:19:39"
         },
         {
          "created_x": "2019-01-29T08:38:41",
          "l": -1,
          "pl_85pctl": "2018-01-01T00:24:39.400000",
          "pl_90pctl": "2018-01-01T00:42:43.100000",
          "tps_parcours": "2018-01-01T00:20:34"
         },
         {
          "created_x": "2019-01-29T08:39:23",
          "l": -1,
          "pl_85pctl": "2018-01-01T00:24:39.400000",
          "pl_90pctl": "2018-01-01T00:42:43.100000",
          "tps_parcours": "2018-01-01T00:19:54"
         },
         {
          "created_x": "2019-01-29T08:39:40",
          "l": 0,
          "pl_85pctl": "2018-01-01T00:24:39.400000",
          "pl_90pctl": "2018-01-01T00:42:43.100000",
          "tps_parcours": "2018-01-01T00:19:37"
         },
         {
          "created_x": "2019-01-29T08:38:54",
          "l": 1,
          "pl_85pctl": "2018-01-01T00:24:39.400000",
          "pl_90pctl": "2018-01-01T00:42:43.100000",
          "tps_parcours": "2018-01-01T00:20:28"
         },
         {
          "created_x": "2019-01-29T08:39:00",
          "l": -1,
          "pl_85pctl": "2018-01-01T00:24:39.400000",
          "pl_90pctl": "2018-01-01T00:42:43.100000",
          "tps_parcours": "2018-01-01T00:20:23"
         },
         {
          "created_x": "2019-01-29T08:38:48",
          "l": 1,
          "pl_85pctl": "2018-01-01T00:24:39.400000",
          "pl_90pctl": "2018-01-01T00:42:43.100000",
          "tps_parcours": "2018-01-01T00:20:51"
         },
         {
          "created_x": "2019-01-29T08:39:45",
          "l": 1,
          "pl_85pctl": "2018-01-01T00:24:39.400000",
          "pl_90pctl": "2018-01-01T00:42:43.100000",
          "tps_parcours": "2018-01-01T00:19:54"
         },
         {
          "created_x": "2019-01-29T08:40:11",
          "l": -1,
          "pl_85pctl": "2018-01-01T00:24:39.400000",
          "pl_90pctl": "2018-01-01T00:42:43.100000",
          "tps_parcours": "2018-01-01T00:19:29"
         },
         {
          "created_x": "2019-01-29T08:39:37",
          "l": -1,
          "pl_85pctl": "2018-01-01T00:24:39.400000",
          "pl_90pctl": "2018-01-01T00:42:43.100000",
          "tps_parcours": "2018-01-01T00:20:06"
         },
         {
          "created_x": "2019-01-29T08:39:16",
          "l": -1,
          "pl_85pctl": "2018-01-01T00:24:39.400000",
          "pl_90pctl": "2018-01-01T00:42:43.100000",
          "tps_parcours": "2018-01-01T00:20:30"
         },
         {
          "created_x": "2019-01-29T08:39:28",
          "l": -1,
          "pl_85pctl": "2018-01-01T00:24:39.400000",
          "pl_90pctl": "2018-01-01T00:42:43.100000",
          "tps_parcours": "2018-01-01T00:20:23"
         },
         {
          "created_x": "2019-01-29T08:40:03",
          "l": 0,
          "pl_85pctl": "2018-01-01T00:24:39.400000",
          "pl_90pctl": "2018-01-01T00:42:43.100000",
          "tps_parcours": "2018-01-01T00:19:50"
         },
         {
          "created_x": "2019-01-29T08:39:43",
          "l": -1,
          "pl_85pctl": "2018-01-01T00:24:39.400000",
          "pl_90pctl": "2018-01-01T00:42:43.100000",
          "tps_parcours": "2018-01-01T00:20:15"
         },
         {
          "created_x": "2019-01-29T08:40:15",
          "l": -1,
          "pl_85pctl": "2018-01-01T00:24:39.400000",
          "pl_90pctl": "2018-01-01T00:42:43.100000",
          "tps_parcours": "2018-01-01T00:19:48"
         },
         {
          "created_x": "2019-01-29T08:39:57",
          "l": 1,
          "pl_85pctl": "2018-01-01T00:24:39.400000",
          "pl_90pctl": "2018-01-01T00:42:43.100000",
          "tps_parcours": "2018-01-01T00:20:11"
         },
         {
          "created_x": "2019-01-29T08:40:00",
          "l": -1,
          "pl_85pctl": "2018-01-01T00:24:39.400000",
          "pl_90pctl": "2018-01-01T00:42:43.100000",
          "tps_parcours": "2018-01-01T00:20:10"
         },
         {
          "created_x": "2019-01-29T08:40:00",
          "l": 0,
          "pl_85pctl": "2018-01-01T00:24:39.400000",
          "pl_90pctl": "2018-01-01T00:42:43.100000",
          "tps_parcours": "2018-01-01T00:20:10"
         },
         {
          "created_x": "2019-01-29T08:40:35",
          "l": 1,
          "pl_85pctl": "2018-01-01T00:24:39.400000",
          "pl_90pctl": "2018-01-01T00:42:43.100000",
          "tps_parcours": "2018-01-01T00:19:40"
         },
         {
          "created_x": "2019-01-29T08:43:12",
          "l": 0,
          "pl_85pctl": "2018-01-01T00:24:39.400000",
          "pl_90pctl": "2018-01-01T00:42:43.100000",
          "tps_parcours": "2018-01-01T00:17:05"
         },
         {
          "created_x": "2019-01-29T08:40:06",
          "l": 1,
          "pl_85pctl": "2018-01-01T00:24:39.400000",
          "pl_90pctl": "2018-01-01T00:42:43.100000",
          "tps_parcours": "2018-01-01T00:20:13"
         },
         {
          "created_x": "2019-01-29T08:44:43",
          "l": 0,
          "pl_85pctl": "2018-01-01T00:24:39.400000",
          "pl_90pctl": "2018-01-01T00:42:43.100000",
          "tps_parcours": "2018-01-01T00:15:39"
         },
         {
          "created_x": "2019-01-29T08:44:52",
          "l": 0,
          "pl_85pctl": "2018-01-01T00:24:39.400000",
          "pl_90pctl": "2018-01-01T00:42:43.100000",
          "tps_parcours": "2018-01-01T00:15:46"
         },
         {
          "created_x": "2019-01-29T08:41:00",
          "l": 1,
          "pl_85pctl": "2018-01-01T00:24:39.400000",
          "pl_90pctl": "2018-01-01T00:42:43.100000",
          "tps_parcours": "2018-01-01T00:19:51"
         },
         {
          "created_x": "2019-01-29T08:23:45",
          "l": 1,
          "pl_85pctl": "2018-01-01T00:24:39.400000",
          "pl_90pctl": "2018-01-01T00:42:43.100000",
          "tps_parcours": "2018-01-01T00:37:07"
         },
         {
          "created_x": "2019-01-29T08:42:02",
          "l": -1,
          "pl_85pctl": "2018-01-01T00:24:39.400000",
          "pl_90pctl": "2018-01-01T00:42:43.100000",
          "tps_parcours": "2018-01-01T00:19:08"
         },
         {
          "created_x": "2019-01-29T08:43:52",
          "l": 0,
          "pl_85pctl": "2018-01-01T00:24:39.400000",
          "pl_90pctl": "2018-01-01T00:42:43.100000",
          "tps_parcours": "2018-01-01T00:17:20"
         },
         {
          "created_x": "2019-01-29T08:46:00",
          "l": -1,
          "pl_85pctl": "2018-01-01T00:24:39.400000",
          "pl_90pctl": "2018-01-01T00:42:43.100000",
          "tps_parcours": "2018-01-01T00:15:12"
         },
         {
          "created_x": "2019-01-29T08:41:42",
          "l": -1,
          "pl_85pctl": "2018-01-01T00:24:39.400000",
          "pl_90pctl": "2018-01-01T00:42:43.100000",
          "tps_parcours": "2018-01-01T00:19:57"
         },
         {
          "created_x": "2019-01-29T08:41:44",
          "l": 1,
          "pl_85pctl": "2018-01-01T00:24:39.400000",
          "pl_90pctl": "2018-01-01T00:42:43.100000",
          "tps_parcours": "2018-01-01T00:20:03"
         },
         {
          "created_x": "2019-01-29T08:41:48",
          "l": -1,
          "pl_85pctl": "2018-01-01T00:24:39.400000",
          "pl_90pctl": "2018-01-01T00:42:43.100000",
          "tps_parcours": "2018-01-01T00:20:00"
         },
         {
          "created_x": "2019-01-29T08:41:51",
          "l": 1,
          "pl_85pctl": "2018-01-01T00:24:39.400000",
          "pl_90pctl": "2018-01-01T00:42:43.100000",
          "tps_parcours": "2018-01-01T00:20:01"
         },
         {
          "created_x": "2019-01-29T08:41:51",
          "l": 1,
          "pl_85pctl": "2018-01-01T00:24:39.400000",
          "pl_90pctl": "2018-01-01T00:42:43.100000",
          "tps_parcours": "2018-01-01T00:20:01"
         },
         {
          "created_x": "2019-01-29T08:42:07",
          "l": 1,
          "pl_85pctl": "2018-01-01T00:24:39.400000",
          "pl_90pctl": "2018-01-01T00:42:43.100000",
          "tps_parcours": "2018-01-01T00:19:52"
         },
         {
          "created_x": "2019-01-29T08:43:02",
          "l": 1,
          "pl_85pctl": "2018-01-01T00:24:39.400000",
          "pl_90pctl": "2018-01-01T00:42:43.100000",
          "tps_parcours": "2018-01-01T00:19:51"
         },
         {
          "created_x": "2019-01-29T08:42:55",
          "l": -1,
          "pl_85pctl": "2018-01-01T00:24:39.400000",
          "pl_90pctl": "2018-01-01T00:42:43.100000",
          "tps_parcours": "2018-01-01T00:20:08"
         },
         {
          "created_x": "2019-01-29T08:43:08",
          "l": -1,
          "pl_85pctl": "2018-01-01T00:24:39.400000",
          "pl_90pctl": "2018-01-01T00:42:43.100000",
          "tps_parcours": "2018-01-01T00:19:57"
         },
         {
          "created_x": "2019-01-29T08:43:29",
          "l": 0,
          "pl_85pctl": "2018-01-01T00:24:39.400000",
          "pl_90pctl": "2018-01-01T00:42:43.100000",
          "tps_parcours": "2018-01-01T00:19:38"
         },
         {
          "created_x": "2019-01-29T08:45:32",
          "l": 0,
          "pl_85pctl": "2018-01-01T00:24:39.400000",
          "pl_90pctl": "2018-01-01T00:42:43.100000",
          "tps_parcours": "2018-01-01T00:17:36"
         },
         {
          "created_x": "2019-01-29T08:47:19",
          "l": 0,
          "pl_85pctl": "2018-01-01T00:24:39.400000",
          "pl_90pctl": "2018-01-01T00:42:43.100000",
          "tps_parcours": "2018-01-01T00:16:03"
         },
         {
          "created_x": "2019-01-29T08:46:58",
          "l": 0,
          "pl_85pctl": "2018-01-01T00:24:39.400000",
          "pl_90pctl": "2018-01-01T00:42:43.100000",
          "tps_parcours": "2018-01-01T00:16:25"
         },
         {
          "created_x": "2019-01-29T08:43:33",
          "l": 1,
          "pl_85pctl": "2018-01-01T00:24:39.400000",
          "pl_90pctl": "2018-01-01T00:42:43.100000",
          "tps_parcours": "2018-01-01T00:19:54"
         },
         {
          "created_x": "2019-01-29T08:43:26",
          "l": 1,
          "pl_85pctl": "2018-01-01T00:24:39.400000",
          "pl_90pctl": "2018-01-01T00:42:43.100000",
          "tps_parcours": "2018-01-01T00:20:05"
         },
         {
          "created_x": "2019-01-29T08:43:47",
          "l": 1,
          "pl_85pctl": "2018-01-01T00:24:39.400000",
          "pl_90pctl": "2018-01-01T00:42:43.100000",
          "tps_parcours": "2018-01-01T00:19:46"
         },
         {
          "created_x": "2019-01-29T08:47:13",
          "l": 0,
          "pl_85pctl": "2018-01-01T00:24:39.400000",
          "pl_90pctl": "2018-01-01T00:42:43.100000",
          "tps_parcours": "2018-01-01T00:16:32"
         },
         {
          "created_x": "2019-01-29T08:44:24",
          "l": 1,
          "pl_85pctl": "2018-01-01T00:24:39.400000",
          "pl_90pctl": "2018-01-01T00:42:43.100000",
          "tps_parcours": "2018-01-01T00:19:38"
         },
         {
          "created_x": "2019-01-29T08:44:00",
          "l": -1,
          "pl_85pctl": "2018-01-01T00:24:39.400000",
          "pl_90pctl": "2018-01-01T00:42:43.100000",
          "tps_parcours": "2018-01-01T00:20:03"
         },
         {
          "created_x": "2019-01-29T08:45:45",
          "l": 0,
          "pl_85pctl": "2018-01-01T00:24:39.400000",
          "pl_90pctl": "2018-01-01T00:42:43.100000",
          "tps_parcours": "2018-01-01T00:18:34"
         },
         {
          "created_x": "2019-01-29T08:41:38",
          "l": 1,
          "pl_85pctl": "2018-01-01T00:24:39.400000",
          "pl_90pctl": "2018-01-01T00:42:43.100000",
          "tps_parcours": "2018-01-01T00:22:48"
         },
         {
          "created_x": "2019-01-29T08:44:04",
          "l": 1,
          "pl_85pctl": "2018-01-01T00:24:39.400000",
          "pl_90pctl": "2018-01-01T00:42:43.100000",
          "tps_parcours": "2018-01-01T00:20:25"
         },
         {
          "created_x": "2019-01-29T08:45:03",
          "l": 1,
          "pl_85pctl": "2018-01-01T00:24:39.400000",
          "pl_90pctl": "2018-01-01T00:42:43.100000",
          "tps_parcours": "2018-01-01T00:19:36"
         },
         {
          "created_x": "2019-01-29T08:45:20",
          "l": -1,
          "pl_85pctl": "2018-01-01T00:24:39.400000",
          "pl_90pctl": "2018-01-01T00:42:43.100000",
          "tps_parcours": "2018-01-01T00:19:21"
         },
         {
          "created_x": "2019-01-29T08:45:16",
          "l": 1,
          "pl_85pctl": "2018-01-01T00:24:39.400000",
          "pl_90pctl": "2018-01-01T00:42:43.100000",
          "tps_parcours": "2018-01-01T00:19:30"
         },
         {
          "created_x": "2019-01-29T08:44:27",
          "l": 1,
          "pl_85pctl": "2018-01-01T00:24:39.400000",
          "pl_90pctl": "2018-01-01T00:42:43.100000",
          "tps_parcours": "2018-01-01T00:20:28"
         },
         {
          "created_x": "2019-01-29T08:45:32",
          "l": -1,
          "pl_85pctl": "2018-01-01T00:24:39.400000",
          "pl_90pctl": "2018-01-01T00:42:43.100000",
          "tps_parcours": "2018-01-01T00:19:28"
         },
         {
          "created_x": "2019-01-29T08:45:32",
          "l": -1,
          "pl_85pctl": "2018-01-01T00:24:39.400000",
          "pl_90pctl": "2018-01-01T00:42:43.100000",
          "tps_parcours": "2018-01-01T00:19:28"
         },
         {
          "created_x": "2019-01-29T08:20:28",
          "l": 0,
          "pl_85pctl": "2018-01-01T00:24:39.400000",
          "pl_90pctl": "2018-01-01T00:42:43.100000",
          "tps_parcours": "2018-01-01T00:44:45"
         },
         {
          "created_x": "2019-01-29T08:34:13",
          "l": 0,
          "pl_85pctl": "2018-01-01T00:24:39.400000",
          "pl_90pctl": "2018-01-01T00:42:43.100000",
          "tps_parcours": "2018-01-01T00:31:35"
         },
         {
          "created_x": "2019-01-29T08:45:56",
          "l": 1,
          "pl_85pctl": "2018-01-01T00:24:39.400000",
          "pl_90pctl": "2018-01-01T00:42:43.100000",
          "tps_parcours": "2018-01-01T00:20:10"
         },
         {
          "created_x": "2019-01-29T08:46:27",
          "l": 0,
          "pl_85pctl": "2018-01-01T00:24:39.400000",
          "pl_90pctl": "2018-01-01T00:42:43.100000",
          "tps_parcours": "2018-01-01T00:19:40"
         },
         {
          "created_x": "2019-01-29T08:46:09",
          "l": 1,
          "pl_85pctl": "2018-01-01T00:24:39.400000",
          "pl_90pctl": "2018-01-01T00:42:43.100000",
          "tps_parcours": "2018-01-01T00:20:04"
         },
         {
          "created_x": "2019-01-29T08:46:17",
          "l": -1,
          "pl_85pctl": "2018-01-01T00:24:39.400000",
          "pl_90pctl": "2018-01-01T00:42:43.100000",
          "tps_parcours": "2018-01-01T00:20:07"
         },
         {
          "created_x": "2019-01-29T08:50:01",
          "l": 0,
          "pl_85pctl": "2018-01-01T00:24:39.400000",
          "pl_90pctl": "2018-01-01T00:42:43.100000",
          "tps_parcours": "2018-01-01T00:16:26"
         },
         {
          "created_x": "2019-01-29T08:46:42",
          "l": 1,
          "pl_85pctl": "2018-01-01T00:24:39.400000",
          "pl_90pctl": "2018-01-01T00:42:43.100000",
          "tps_parcours": "2018-01-01T00:19:49"
         },
         {
          "created_x": "2019-01-29T08:46:50",
          "l": -1,
          "pl_85pctl": "2018-01-01T00:24:39.400000",
          "pl_90pctl": "2018-01-01T00:42:43.100000",
          "tps_parcours": "2018-01-01T00:19:54"
         },
         {
          "created_x": "2019-01-29T08:50:06",
          "l": 0,
          "pl_85pctl": "2018-01-01T00:24:39.400000",
          "pl_90pctl": "2018-01-01T00:42:43.100000",
          "tps_parcours": "2018-01-01T00:16:44"
         },
         {
          "created_x": "2019-01-29T08:46:30",
          "l": -1,
          "pl_85pctl": "2018-01-01T00:24:39.400000",
          "pl_90pctl": "2018-01-01T00:42:43.100000",
          "tps_parcours": "2018-01-01T00:20:22"
         },
         {
          "created_x": "2019-01-29T08:46:47",
          "l": 1,
          "pl_85pctl": "2018-01-01T00:24:39.400000",
          "pl_90pctl": "2018-01-01T00:42:43.100000",
          "tps_parcours": "2018-01-01T00:20:12"
         },
         {
          "created_x": "2019-01-29T08:47:02",
          "l": 1,
          "pl_85pctl": "2018-01-01T00:24:39.400000",
          "pl_90pctl": "2018-01-01T00:42:43.100000",
          "tps_parcours": "2018-01-01T00:20:38"
         },
         {
          "created_x": "2019-01-29T08:47:08",
          "l": -1,
          "pl_85pctl": "2018-01-01T00:24:39.400000",
          "pl_90pctl": "2018-01-01T00:42:43.100000",
          "tps_parcours": "2018-01-01T00:20:34"
         },
         {
          "created_x": "2019-01-29T08:01:28",
          "l": -1,
          "pl_85pctl": "2018-01-01T00:24:39.400000",
          "pl_90pctl": "2018-01-01T00:42:43.100000",
          "tps_parcours": "2018-01-01T01:06:21"
         },
         {
          "created_x": "2019-01-29T08:48:01",
          "l": 1,
          "pl_85pctl": "2018-01-01T00:24:39.400000",
          "pl_90pctl": "2018-01-01T00:42:43.100000",
          "tps_parcours": "2018-01-01T00:20:00"
         },
         {
          "created_x": "2019-01-29T08:48:10",
          "l": 0,
          "pl_85pctl": "2018-01-01T00:24:39.400000",
          "pl_90pctl": "2018-01-01T00:42:43.100000",
          "tps_parcours": "2018-01-01T00:19:53"
         },
         {
          "created_x": "2019-01-29T08:25:07",
          "l": 1,
          "pl_85pctl": "2018-01-01T00:24:39.400000",
          "pl_90pctl": "2018-01-01T00:42:43.100000",
          "tps_parcours": "2018-01-01T00:43:05"
         },
         {
          "created_x": "2019-01-29T08:48:05",
          "l": -1,
          "pl_85pctl": "2018-01-01T00:24:39.400000",
          "pl_90pctl": "2018-01-01T00:42:43.100000",
          "tps_parcours": "2018-01-01T00:20:16"
         },
         {
          "created_x": "2019-01-29T08:26:53",
          "l": 0,
          "pl_85pctl": "2018-01-01T00:24:39.400000",
          "pl_90pctl": "2018-01-01T00:42:43.100000",
          "tps_parcours": "2018-01-01T00:41:29"
         },
         {
          "created_x": "2019-01-29T08:48:23",
          "l": -1,
          "pl_85pctl": "2018-01-01T00:24:39.400000",
          "pl_90pctl": "2018-01-01T00:42:43.100000",
          "tps_parcours": "2018-01-01T00:20:06"
         },
         {
          "created_x": "2019-01-29T08:29:04",
          "l": 1,
          "pl_85pctl": "2018-01-01T00:24:39.400000",
          "pl_90pctl": "2018-01-01T00:42:43.100000",
          "tps_parcours": "2018-01-01T00:39:26"
         },
         {
          "created_x": "2019-01-29T08:48:07",
          "l": 1,
          "pl_85pctl": "2018-01-01T00:24:39.400000",
          "pl_90pctl": "2018-01-01T00:42:43.100000",
          "tps_parcours": "2018-01-01T00:20:35"
         },
         {
          "created_x": "2019-01-29T08:52:27",
          "l": 0,
          "pl_85pctl": "2018-01-01T00:24:39.400000",
          "pl_90pctl": "2018-01-01T00:42:43.100000",
          "tps_parcours": "2018-01-01T00:16:19"
         },
         {
          "created_x": "2019-01-29T08:48:03",
          "l": -1,
          "pl_85pctl": "2018-01-01T00:24:39.400000",
          "pl_90pctl": "2018-01-01T00:42:43.100000",
          "tps_parcours": "2018-01-01T00:20:53"
         },
         {
          "created_x": "2019-01-29T08:48:14",
          "l": 1,
          "pl_85pctl": "2018-01-01T00:24:39.400000",
          "pl_90pctl": "2018-01-01T00:42:43.100000",
          "tps_parcours": "2018-01-01T00:20:52"
         },
         {
          "created_x": "2019-01-29T08:48:18",
          "l": 1,
          "pl_85pctl": "2018-01-01T00:24:39.400000",
          "pl_90pctl": "2018-01-01T00:42:43.100000",
          "tps_parcours": "2018-01-01T00:21:02"
         },
         {
          "created_x": "2019-01-29T08:49:29",
          "l": 1,
          "pl_85pctl": "2018-01-01T00:24:39.400000",
          "pl_90pctl": "2018-01-01T00:42:43.100000",
          "tps_parcours": "2018-01-01T00:19:55"
         },
         {
          "created_x": "2019-01-29T08:35:13",
          "l": 0,
          "pl_85pctl": "2018-01-01T00:24:39.400000",
          "pl_90pctl": "2018-01-01T00:42:43.100000",
          "tps_parcours": "2018-01-01T00:34:21"
         },
         {
          "created_x": "2019-01-29T08:48:32",
          "l": 1,
          "pl_85pctl": "2018-01-01T00:24:39.400000",
          "pl_90pctl": "2018-01-01T00:42:43.100000",
          "tps_parcours": "2018-01-01T00:21:04"
         },
         {
          "created_x": "2019-01-29T08:49:06",
          "l": -1,
          "pl_85pctl": "2018-01-01T00:24:39.400000",
          "pl_90pctl": "2018-01-01T00:42:43.100000",
          "tps_parcours": "2018-01-01T00:20:39"
         },
         {
          "created_x": "2019-01-29T08:53:49",
          "l": 0,
          "pl_85pctl": "2018-01-01T00:24:39.400000",
          "pl_90pctl": "2018-01-01T00:42:43.100000",
          "tps_parcours": "2018-01-01T00:16:06"
         },
         {
          "created_x": "2019-01-29T08:48:40",
          "l": 1,
          "pl_85pctl": "2018-01-01T00:24:39.400000",
          "pl_90pctl": "2018-01-01T00:42:43.100000",
          "tps_parcours": "2018-01-01T00:21:16"
         },
         {
          "created_x": "2019-01-29T08:49:52",
          "l": -1,
          "pl_85pctl": "2018-01-01T00:24:39.400000",
          "pl_90pctl": "2018-01-01T00:42:43.100000",
          "tps_parcours": "2018-01-01T00:20:08"
         },
         {
          "created_x": "2019-01-29T08:49:11",
          "l": -1,
          "pl_85pctl": "2018-01-01T00:24:39.400000",
          "pl_90pctl": "2018-01-01T00:42:43.100000",
          "tps_parcours": "2018-01-01T00:20:56"
         },
         {
          "created_x": "2019-01-29T08:49:54",
          "l": 0,
          "pl_85pctl": "2018-01-01T00:24:39.400000",
          "pl_90pctl": "2018-01-01T00:42:43.100000",
          "tps_parcours": "2018-01-01T00:20:14"
         },
         {
          "created_x": "2019-01-29T08:52:59",
          "l": 0,
          "pl_85pctl": "2018-01-01T00:24:39.400000",
          "pl_90pctl": "2018-01-01T00:42:43.100000",
          "tps_parcours": "2018-01-01T00:17:10"
         },
         {
          "created_x": "2019-01-29T08:49:56",
          "l": -1,
          "pl_85pctl": "2018-01-01T00:24:39.400000",
          "pl_90pctl": "2018-01-01T00:42:43.100000",
          "tps_parcours": "2018-01-01T00:20:16"
         },
         {
          "created_x": "2019-01-29T08:50:24",
          "l": 1,
          "pl_85pctl": "2018-01-01T00:24:39.400000",
          "pl_90pctl": "2018-01-01T00:42:43.100000",
          "tps_parcours": "2018-01-01T00:19:54"
         },
         {
          "created_x": "2019-01-29T08:49:00",
          "l": 1,
          "pl_85pctl": "2018-01-01T00:24:39.400000",
          "pl_90pctl": "2018-01-01T00:42:43.100000",
          "tps_parcours": "2018-01-01T00:21:32"
         },
         {
          "created_x": "2019-01-29T08:54:34",
          "l": 0,
          "pl_85pctl": "2018-01-01T00:24:39.400000",
          "pl_90pctl": "2018-01-01T00:42:43.100000",
          "tps_parcours": "2018-01-01T00:16:09"
         },
         {
          "created_x": "2019-01-29T08:50:20",
          "l": 1,
          "pl_85pctl": "2018-01-01T00:24:39.400000",
          "pl_90pctl": "2018-01-01T00:42:43.100000",
          "tps_parcours": "2018-01-01T00:20:28"
         },
         {
          "created_x": "2019-01-29T08:49:23",
          "l": 1,
          "pl_85pctl": "2018-01-01T00:24:39.400000",
          "pl_90pctl": "2018-01-01T00:42:43.100000",
          "tps_parcours": "2018-01-01T00:21:25"
         },
         {
          "created_x": "2019-01-29T08:49:26",
          "l": -1,
          "pl_85pctl": "2018-01-01T00:24:39.400000",
          "pl_90pctl": "2018-01-01T00:42:43.100000",
          "tps_parcours": "2018-01-01T00:21:25"
         },
         {
          "created_x": "2019-01-29T08:50:27",
          "l": -1,
          "pl_85pctl": "2018-01-01T00:24:39.400000",
          "pl_90pctl": "2018-01-01T00:42:43.100000",
          "tps_parcours": "2018-01-01T00:20:25"
         },
         {
          "created_x": "2019-01-29T08:50:30",
          "l": -1,
          "pl_85pctl": "2018-01-01T00:24:39.400000",
          "pl_90pctl": "2018-01-01T00:42:43.100000",
          "tps_parcours": "2018-01-01T00:20:25"
         },
         {
          "created_x": "2019-01-29T08:50:06",
          "l": 1,
          "pl_85pctl": "2018-01-01T00:24:39.400000",
          "pl_90pctl": "2018-01-01T00:42:43.100000",
          "tps_parcours": "2018-01-01T00:20:54"
         },
         {
          "created_x": "2019-01-29T08:50:36",
          "l": -1,
          "pl_85pctl": "2018-01-01T00:24:39.400000",
          "pl_90pctl": "2018-01-01T00:42:43.100000",
          "tps_parcours": "2018-01-01T00:20:25"
         },
         {
          "created_x": "2019-01-29T08:50:38",
          "l": -1,
          "pl_85pctl": "2018-01-01T00:24:39.400000",
          "pl_90pctl": "2018-01-01T00:42:43.100000",
          "tps_parcours": "2018-01-01T00:20:26"
         },
         {
          "created_x": "2019-01-29T08:49:37",
          "l": 1,
          "pl_85pctl": "2018-01-01T00:24:39.400000",
          "pl_90pctl": "2018-01-01T00:42:43.100000",
          "tps_parcours": "2018-01-01T00:21:32"
         },
         {
          "created_x": "2019-01-29T08:50:33",
          "l": -1,
          "pl_85pctl": "2018-01-01T00:24:39.400000",
          "pl_90pctl": "2018-01-01T00:42:43.100000",
          "tps_parcours": "2018-01-01T00:20:45"
         },
         {
          "created_x": "2019-01-29T08:50:45",
          "l": -1,
          "pl_85pctl": "2018-01-01T00:24:39.400000",
          "pl_90pctl": "2018-01-01T00:42:43.100000",
          "tps_parcours": "2018-01-01T00:20:51"
         },
         {
          "created_x": "2019-01-29T08:50:59",
          "l": 1,
          "pl_85pctl": "2018-01-01T00:24:39.400000",
          "pl_90pctl": "2018-01-01T00:42:43.100000",
          "tps_parcours": "2018-01-01T00:20:46"
         },
         {
          "created_x": "2019-01-29T08:51:14",
          "l": -1,
          "pl_85pctl": "2018-01-01T00:24:39.400000",
          "pl_90pctl": "2018-01-01T00:42:43.100000",
          "tps_parcours": "2018-01-01T00:20:34"
         },
         {
          "created_x": "2019-01-29T08:51:57",
          "l": 1,
          "pl_85pctl": "2018-01-01T00:24:39.400000",
          "pl_90pctl": "2018-01-01T00:42:43.100000",
          "tps_parcours": "2018-01-01T00:19:59"
         },
         {
          "created_x": "2019-01-29T08:52:13",
          "l": -1,
          "pl_85pctl": "2018-01-01T00:24:39.400000",
          "pl_90pctl": "2018-01-01T00:42:43.100000",
          "tps_parcours": "2018-01-01T00:20:07"
         },
         {
          "created_x": "2019-01-29T08:52:24",
          "l": 1,
          "pl_85pctl": "2018-01-01T00:24:39.400000",
          "pl_90pctl": "2018-01-01T00:42:43.100000",
          "tps_parcours": "2018-01-01T00:20:22"
         },
         {
          "created_x": "2019-01-29T08:52:32",
          "l": 1,
          "pl_85pctl": "2018-01-01T00:24:39.400000",
          "pl_90pctl": "2018-01-01T00:42:43.100000",
          "tps_parcours": "2018-01-01T00:20:21"
         },
         {
          "created_x": "2019-01-29T08:52:32",
          "l": 1,
          "pl_85pctl": "2018-01-01T00:24:39.400000",
          "pl_90pctl": "2018-01-01T00:42:43.100000",
          "tps_parcours": "2018-01-01T00:20:22"
         },
         {
          "created_x": "2019-01-29T08:52:35",
          "l": -1,
          "pl_85pctl": "2018-01-01T00:24:39.400000",
          "pl_90pctl": "2018-01-01T00:42:43.100000",
          "tps_parcours": "2018-01-01T00:20:24"
         },
         {
          "created_x": "2019-01-29T08:52:50",
          "l": 1,
          "pl_85pctl": "2018-01-01T00:24:39.400000",
          "pl_90pctl": "2018-01-01T00:42:43.100000",
          "tps_parcours": "2018-01-01T00:20:15"
         },
         {
          "created_x": "2019-01-29T08:52:39",
          "l": 1,
          "pl_85pctl": "2018-01-01T00:24:39.400000",
          "pl_90pctl": "2018-01-01T00:42:43.100000",
          "tps_parcours": "2018-01-01T00:20:40"
         },
         {
          "created_x": "2019-01-29T08:52:42",
          "l": -1,
          "pl_85pctl": "2018-01-01T00:24:39.400000",
          "pl_90pctl": "2018-01-01T00:42:43.100000",
          "tps_parcours": "2018-01-01T00:20:44"
         },
         {
          "created_x": "2019-01-29T08:52:53",
          "l": -1,
          "pl_85pctl": "2018-01-01T00:24:39.400000",
          "pl_90pctl": "2018-01-01T00:42:43.100000",
          "tps_parcours": "2018-01-01T00:20:38"
         },
         {
          "created_x": "2019-01-29T08:52:55",
          "l": 1,
          "pl_85pctl": "2018-01-01T00:24:39.400000",
          "pl_90pctl": "2018-01-01T00:42:43.100000",
          "tps_parcours": "2018-01-01T00:20:38"
         },
         {
          "created_x": "2019-01-29T08:53:39",
          "l": -1,
          "pl_85pctl": "2018-01-01T00:24:39.400000",
          "pl_90pctl": "2018-01-01T00:42:43.100000",
          "tps_parcours": "2018-01-01T00:19:57"
         },
         {
          "created_x": "2019-01-29T08:57:35",
          "l": 0,
          "pl_85pctl": "2018-01-01T00:24:39.400000",
          "pl_90pctl": "2018-01-01T00:42:43.100000",
          "tps_parcours": "2018-01-01T00:16:04"
         },
         {
          "created_x": "2019-01-29T08:52:58",
          "l": 1,
          "pl_85pctl": "2018-01-01T00:24:39.400000",
          "pl_90pctl": "2018-01-01T00:42:43.100000",
          "tps_parcours": "2018-01-01T00:20:50"
         },
         {
          "created_x": "2019-01-29T08:53:06",
          "l": -1,
          "pl_85pctl": "2018-01-01T00:24:39.400000",
          "pl_90pctl": "2018-01-01T00:42:43.100000",
          "tps_parcours": "2018-01-01T00:20:44"
         },
         {
          "created_x": "2019-01-29T08:57:20",
          "l": 0,
          "pl_85pctl": "2018-01-01T00:24:39.400000",
          "pl_90pctl": "2018-01-01T00:42:43.100000",
          "tps_parcours": "2018-01-01T00:16:39"
         },
         {
          "created_x": "2019-01-29T08:53:26",
          "l": 1,
          "pl_85pctl": "2018-01-01T00:24:39.400000",
          "pl_90pctl": "2018-01-01T00:42:43.100000",
          "tps_parcours": "2018-01-01T00:20:35"
         },
         {
          "created_x": "2019-01-29T08:53:45",
          "l": 1,
          "pl_85pctl": "2018-01-01T00:24:39.400000",
          "pl_90pctl": "2018-01-01T00:42:43.100000",
          "tps_parcours": "2018-01-01T00:20:21"
         },
         {
          "created_x": "2019-01-29T08:12:16",
          "l": 1,
          "pl_85pctl": "2018-01-01T00:24:39.400000",
          "pl_90pctl": "2018-01-01T00:42:43.100000",
          "tps_parcours": "2018-01-01T01:01:58"
         },
         {
          "created_x": "2019-01-29T08:57:50",
          "l": 0,
          "pl_85pctl": "2018-01-01T00:24:39.400000",
          "pl_90pctl": "2018-01-01T00:42:43.100000",
          "tps_parcours": "2018-01-01T00:16:26"
         },
         {
          "created_x": "2019-01-29T08:58:16",
          "l": 0,
          "pl_85pctl": "2018-01-01T00:24:39.400000",
          "pl_90pctl": "2018-01-01T00:42:43.100000",
          "tps_parcours": "2018-01-01T00:16:02"
         },
         {
          "created_x": "2019-01-29T08:54:22",
          "l": 1,
          "pl_85pctl": "2018-01-01T00:24:39.400000",
          "pl_90pctl": "2018-01-01T00:42:43.100000",
          "tps_parcours": "2018-01-01T00:20:10"
         },
         {
          "created_x": "2019-01-29T08:59:23",
          "l": -1,
          "pl_85pctl": "2018-01-01T00:24:39.400000",
          "pl_90pctl": "2018-01-01T00:42:43.100000",
          "tps_parcours": "2018-01-01T00:15:15"
         },
         {
          "created_x": "2019-01-29T08:54:25",
          "l": -1,
          "pl_85pctl": "2018-01-01T00:24:39.400000",
          "pl_90pctl": "2018-01-01T00:42:43.100000",
          "tps_parcours": "2018-01-01T00:20:14"
         },
         {
          "created_x": "2019-01-29T08:58:33",
          "l": 0,
          "pl_85pctl": "2018-01-01T00:24:39.400000",
          "pl_90pctl": "2018-01-01T00:42:43.100000",
          "tps_parcours": "2018-01-01T00:16:07"
         },
         {
          "created_x": "2019-01-29T08:54:30",
          "l": 1,
          "pl_85pctl": "2018-01-01T00:24:39.400000",
          "pl_90pctl": "2018-01-01T00:42:43.100000",
          "tps_parcours": "2018-01-01T00:20:15"
         },
         {
          "created_x": "2019-01-29T08:54:34",
          "l": -1,
          "pl_85pctl": "2018-01-01T00:24:39.400000",
          "pl_90pctl": "2018-01-01T00:42:43.100000",
          "tps_parcours": "2018-01-01T00:20:15"
         },
         {
          "created_x": "2019-01-29T08:55:28",
          "l": -1,
          "pl_85pctl": "2018-01-01T00:24:39.400000",
          "pl_90pctl": "2018-01-01T00:42:43.100000",
          "tps_parcours": "2018-01-01T00:19:22"
         },
         {
          "created_x": "2019-01-29T08:54:45",
          "l": -1,
          "pl_85pctl": "2018-01-01T00:24:39.400000",
          "pl_90pctl": "2018-01-01T00:42:43.100000",
          "tps_parcours": "2018-01-01T00:20:06"
         },
         {
          "created_x": "2019-01-29T08:54:58",
          "l": -1,
          "pl_85pctl": "2018-01-01T00:24:39.400000",
          "pl_90pctl": "2018-01-01T00:42:43.100000",
          "tps_parcours": "2018-01-01T00:19:57"
         },
         {
          "created_x": "2019-01-29T08:58:50",
          "l": 0,
          "pl_85pctl": "2018-01-01T00:24:39.400000",
          "pl_90pctl": "2018-01-01T00:42:43.100000",
          "tps_parcours": "2018-01-01T00:16:21"
         },
         {
          "created_x": "2019-01-29T08:54:55",
          "l": -1,
          "pl_85pctl": "2018-01-01T00:24:39.400000",
          "pl_90pctl": "2018-01-01T00:42:43.100000",
          "tps_parcours": "2018-01-01T00:20:16"
         },
         {
          "created_x": "2019-01-29T08:54:50",
          "l": -1,
          "pl_85pctl": "2018-01-01T00:24:39.400000",
          "pl_90pctl": "2018-01-01T00:42:43.100000",
          "tps_parcours": "2018-01-01T00:20:43"
         },
         {
          "created_x": "2019-01-29T08:55:01",
          "l": -1,
          "pl_85pctl": "2018-01-01T00:24:39.400000",
          "pl_90pctl": "2018-01-01T00:42:43.100000",
          "tps_parcours": "2018-01-01T00:20:38"
         },
         {
          "created_x": "2019-01-29T08:55:06",
          "l": 1,
          "pl_85pctl": "2018-01-01T00:24:39.400000",
          "pl_90pctl": "2018-01-01T00:42:43.100000",
          "tps_parcours": "2018-01-01T00:20:36"
         },
         {
          "created_x": "2019-01-29T08:55:40",
          "l": -1,
          "pl_85pctl": "2018-01-01T00:24:39.400000",
          "pl_90pctl": "2018-01-01T00:42:43.100000",
          "tps_parcours": "2018-01-01T00:20:10"
         },
         {
          "created_x": "2019-01-29T08:55:26",
          "l": 0,
          "pl_85pctl": "2018-01-01T00:24:39.400000",
          "pl_90pctl": "2018-01-01T00:42:43.100000",
          "tps_parcours": "2018-01-01T00:20:27"
         },
         {
          "created_x": "2019-01-29T08:56:21",
          "l": -1,
          "pl_85pctl": "2018-01-01T00:24:39.400000",
          "pl_90pctl": "2018-01-01T00:42:43.100000",
          "tps_parcours": "2018-01-01T00:19:40"
         },
         {
          "created_x": "2019-01-29T08:56:34",
          "l": 1,
          "pl_85pctl": "2018-01-01T00:24:39.400000",
          "pl_90pctl": "2018-01-01T00:42:43.100000",
          "tps_parcours": "2018-01-01T00:19:32"
         },
         {
          "created_x": "2019-01-29T08:56:43",
          "l": -1,
          "pl_85pctl": "2018-01-01T00:24:39.400000",
          "pl_90pctl": "2018-01-01T00:42:43.100000",
          "tps_parcours": "2018-01-01T00:19:27"
         },
         {
          "created_x": "2019-01-29T08:56:25",
          "l": -1,
          "pl_85pctl": "2018-01-01T00:24:39.400000",
          "pl_90pctl": "2018-01-01T00:42:43.100000",
          "tps_parcours": "2018-01-01T00:19:45"
         },
         {
          "created_x": "2019-01-29T08:59:57",
          "l": 0,
          "pl_85pctl": "2018-01-01T00:24:39.400000",
          "pl_90pctl": "2018-01-01T00:42:43.100000",
          "tps_parcours": "2018-01-01T00:16:16"
         },
         {
          "created_x": "2019-01-29T08:14:44",
          "l": 1,
          "pl_85pctl": "2018-01-01T00:24:39.400000",
          "pl_90pctl": "2018-01-01T00:42:43.100000",
          "tps_parcours": "2018-01-01T01:01:43"
         },
         {
          "created_x": "2019-01-29T08:56:41",
          "l": 1,
          "pl_85pctl": "2018-01-01T00:24:39.400000",
          "pl_90pctl": "2018-01-01T00:42:43.100000",
          "tps_parcours": "2018-01-01T00:19:55"
         },
         {
          "created_x": "2019-01-29T08:56:18",
          "l": 1,
          "pl_85pctl": "2018-01-01T00:24:39.400000",
          "pl_90pctl": "2018-01-01T00:42:43.100000",
          "tps_parcours": "2018-01-01T00:20:23"
         },
         {
          "created_x": "2019-01-29T08:56:28",
          "l": 1,
          "pl_85pctl": "2018-01-01T00:24:39.400000",
          "pl_90pctl": "2018-01-01T00:42:43.100000",
          "tps_parcours": "2018-01-01T00:20:15"
         },
         {
          "created_x": "2019-01-29T08:57:00",
          "l": 1,
          "pl_85pctl": "2018-01-01T00:24:39.400000",
          "pl_90pctl": "2018-01-01T00:42:43.100000",
          "tps_parcours": "2018-01-01T00:19:49"
         },
         {
          "created_x": "2019-01-29T08:57:28",
          "l": 1,
          "pl_85pctl": "2018-01-01T00:24:39.400000",
          "pl_90pctl": "2018-01-01T00:42:43.100000",
          "tps_parcours": "2018-01-01T00:19:48"
         },
         {
          "created_x": "2019-01-29T08:39:51",
          "l": -1,
          "pl_85pctl": "2018-01-01T00:24:39.400000",
          "pl_90pctl": "2018-01-01T00:42:43.100000",
          "tps_parcours": "2018-01-01T00:37:29"
         },
         {
          "created_x": "2019-01-29T08:57:58",
          "l": 1,
          "pl_85pctl": "2018-01-01T00:24:39.400000",
          "pl_90pctl": "2018-01-01T00:42:43.100000",
          "tps_parcours": "2018-01-01T00:20:11"
         },
         {
          "created_x": "2019-01-29T08:58:19",
          "l": 1,
          "pl_85pctl": "2018-01-01T00:24:39.400000",
          "pl_90pctl": "2018-01-01T00:42:43.100000",
          "tps_parcours": "2018-01-01T00:19:58"
         },
         {
          "created_x": "2019-01-29T08:59:15",
          "l": -1,
          "pl_85pctl": "2018-01-01T00:24:39.400000",
          "pl_90pctl": "2018-01-01T00:42:43.100000",
          "tps_parcours": "2018-01-01T00:19:34"
         },
         {
          "created_x": "2019-01-29T08:59:05",
          "l": -1,
          "pl_85pctl": "2018-01-01T00:24:39.400000",
          "pl_90pctl": "2018-01-01T00:42:43.100000",
          "tps_parcours": "2018-01-01T00:19:47"
         },
         {
          "created_x": "2019-01-29T08:59:08",
          "l": -1,
          "pl_85pctl": "2018-01-01T00:24:39.400000",
          "pl_90pctl": "2018-01-01T00:42:43.100000",
          "tps_parcours": "2018-01-01T00:20:09"
         },
         {
          "created_x": "2019-01-29T08:59:03",
          "l": 1,
          "pl_85pctl": "2018-01-01T00:24:39.400000",
          "pl_90pctl": "2018-01-01T00:42:43.100000",
          "tps_parcours": "2018-01-01T00:20:24"
         },
         {
          "created_x": "2019-01-29T08:59:21",
          "l": 0,
          "pl_85pctl": "2018-01-01T00:24:39.400000",
          "pl_90pctl": "2018-01-01T00:42:43.100000",
          "tps_parcours": "2018-01-01T00:20:08"
         },
         {
          "created_x": "2019-01-29T08:59:39",
          "l": 1,
          "pl_85pctl": "2018-01-01T00:24:39.400000",
          "pl_90pctl": "2018-01-01T00:42:43.100000",
          "tps_parcours": "2018-01-01T00:20:03"
         },
         {
          "created_x": "2019-01-29T08:59:50",
          "l": 1,
          "pl_85pctl": "2018-01-01T00:24:39.400000",
          "pl_90pctl": "2018-01-01T00:42:43.100000",
          "tps_parcours": "2018-01-01T00:19:54"
         },
         {
          "created_x": "2019-01-29T08:59:43",
          "l": 1,
          "pl_85pctl": "2018-01-01T00:24:39.400000",
          "pl_90pctl": "2018-01-01T00:42:43.100000",
          "tps_parcours": "2018-01-01T00:20:05"
         },
         {
          "created_x": "2019-01-29T08:59:27",
          "l": -1,
          "pl_85pctl": "2018-01-01T00:24:39.400000",
          "pl_90pctl": "2018-01-01T00:42:43.100000",
          "tps_parcours": "2018-01-01T00:20:24"
         },
         {
          "created_x": "2019-01-29T08:59:46",
          "l": -1,
          "pl_85pctl": "2018-01-01T00:24:39.400000",
          "pl_90pctl": "2018-01-01T00:42:43.100000",
          "tps_parcours": "2018-01-01T00:20:11"
         },
         {
          "created_x": "2019-01-29T08:59:53",
          "l": -1,
          "pl_85pctl": "2018-01-01T00:24:39.400000",
          "pl_90pctl": "2018-01-01T00:42:43.100000",
          "tps_parcours": "2018-01-01T00:20:31"
         },
         {
          "created_x": "2019-01-29T08:46:05",
          "l": 0,
          "pl_85pctl": "2018-01-01T00:24:39.400000",
          "pl_90pctl": "2018-01-01T00:42:43.100000",
          "tps_parcours": "2018-01-01T00:36:11"
         },
         {
          "created_x": "2019-01-29T08:09:50",
          "l": 1,
          "pl_85pctl": "2018-01-01T00:24:39.400000",
          "pl_90pctl": "2018-01-01T00:42:43.100000",
          "tps_parcours": "2018-01-01T01:12:50"
         },
         {
          "created_x": "2019-01-29T08:57:28",
          "l": 0,
          "pl_85pctl": "2018-01-01T00:24:39.400000",
          "pl_90pctl": "2018-01-01T00:42:43.100000",
          "tps_parcours": "2018-01-01T00:27:21"
         },
         {
          "created_x": "2019-01-29T09:00:00",
          "l": 1,
          "pl_85pctl": "2018-01-01T00:24:39.400000",
          "pl_90pctl": "2018-01-01T00:42:43.100000",
          "tps_parcours": "2018-01-01T00:26:56"
         },
         {
          "created_x": "2019-01-29T08:15:40",
          "l": 0,
          "pl_85pctl": "2018-01-01T00:24:39.400000",
          "pl_90pctl": "2018-01-01T00:42:43.100000",
          "tps_parcours": "2018-01-01T01:11:28"
         },
         {
          "created_x": "2019-01-29T08:15:51",
          "l": -1,
          "pl_85pctl": "2018-01-01T00:24:39.400000",
          "pl_90pctl": "2018-01-01T00:42:43.100000",
          "tps_parcours": "2018-01-01T01:13:08"
         },
         {
          "created_x": "2019-01-29T08:11:37",
          "l": 1,
          "pl_85pctl": "2018-01-01T00:24:39.400000",
          "pl_90pctl": "2018-01-01T00:42:43.100000",
          "tps_parcours": "2018-01-01T01:19:47"
         },
         {
          "created_x": "2019-01-29T08:43:51",
          "l": 0,
          "pl_85pctl": "2018-01-01T00:24:39.400000",
          "pl_90pctl": "2018-01-01T00:42:43.100000",
          "tps_parcours": "2018-01-01T00:48:04"
         },
         {
          "created_x": "2019-01-29T08:21:21",
          "l": -1,
          "pl_85pctl": "2018-01-01T00:24:39.400000",
          "pl_90pctl": "2018-01-01T00:42:43.100000",
          "tps_parcours": "2018-01-01T01:12:43"
         },
         {
          "created_x": "2019-01-29T08:46:35",
          "l": 0,
          "pl_85pctl": "2018-01-01T00:24:39.400000",
          "pl_90pctl": "2018-01-01T00:42:43.100000",
          "tps_parcours": "2018-01-01T00:48:23"
         },
         {
          "created_x": "2019-01-29T08:11:23",
          "l": -1,
          "pl_85pctl": "2018-01-01T00:24:39.400000",
          "pl_90pctl": "2018-01-01T00:42:43.100000",
          "tps_parcours": "2018-01-01T01:24:43"
         },
         {
          "created_x": "2019-01-29T08:46:51",
          "l": 0,
          "pl_85pctl": "2018-01-01T00:24:39.400000",
          "pl_90pctl": "2018-01-01T00:42:43.100000",
          "tps_parcours": "2018-01-01T00:50:37"
         },
         {
          "created_x": "2019-01-29T08:21:35",
          "l": 0,
          "pl_85pctl": "2018-01-01T00:24:39.400000",
          "pl_90pctl": "2018-01-01T00:42:43.100000",
          "tps_parcours": "2018-01-01T01:17:06"
         },
         {
          "created_x": "2019-01-29T08:27:10",
          "l": -1,
          "pl_85pctl": "2018-01-01T00:24:39.400000",
          "pl_90pctl": "2018-01-01T00:42:43.100000",
          "tps_parcours": "2018-01-01T01:11:49"
         },
         {
          "created_x": "2019-01-29T08:24:46",
          "l": 1,
          "pl_85pctl": "2018-01-01T00:24:39.400000",
          "pl_90pctl": "2018-01-01T00:42:43.100000",
          "tps_parcours": "2018-01-01T01:14:25"
         },
         {
          "created_x": "2019-01-29T08:22:57",
          "l": -1,
          "pl_85pctl": "2018-01-01T00:24:39.400000",
          "pl_90pctl": "2018-01-01T00:42:43.100000",
          "tps_parcours": "2018-01-01T01:17:00"
         },
         {
          "created_x": "2019-01-29T08:22:16",
          "l": -1,
          "pl_85pctl": "2018-01-01T00:24:39.400000",
          "pl_90pctl": "2018-01-01T00:42:43.100000",
          "tps_parcours": "2018-01-01T01:17:45"
         },
         {
          "created_x": "2019-01-29T08:23:37",
          "l": 1,
          "pl_85pctl": "2018-01-01T00:24:39.400000",
          "pl_90pctl": "2018-01-01T00:42:43.100000",
          "tps_parcours": "2018-01-01T01:16:36"
         },
         {
          "created_x": "2019-01-29T08:10:50",
          "l": -1,
          "pl_85pctl": "2018-01-01T00:24:39.400000",
          "pl_90pctl": "2018-01-01T00:42:43.100000",
          "tps_parcours": "2018-01-01T01:32:19"
         },
         {
          "created_x": "2019-01-29T08:28:09",
          "l": 0,
          "pl_85pctl": "2018-01-01T00:24:39.400000",
          "pl_90pctl": "2018-01-01T00:42:43.100000",
          "tps_parcours": "2018-01-01T01:16:06"
         },
         {
          "created_x": "2019-01-29T08:47:17",
          "l": -1,
          "pl_85pctl": "2018-01-01T00:24:39.400000",
          "pl_90pctl": "2018-01-01T00:42:43.100000",
          "tps_parcours": "2018-01-01T00:57:34"
         },
         {
          "created_x": "2019-01-29T08:37:01",
          "l": 1,
          "pl_85pctl": "2018-01-01T00:24:39.400000",
          "pl_90pctl": "2018-01-01T00:42:43.100000",
          "tps_parcours": "2018-01-01T01:09:09"
         },
         {
          "created_x": "2019-01-29T08:48:52",
          "l": -1,
          "pl_85pctl": "2018-01-01T00:24:39.400000",
          "pl_90pctl": "2018-01-01T00:42:43.100000",
          "tps_parcours": "2018-01-01T00:57:42"
         },
         {
          "created_x": "2019-01-29T08:48:52",
          "l": -1,
          "pl_85pctl": "2018-01-01T00:24:39.400000",
          "pl_90pctl": "2018-01-01T00:42:43.100000",
          "tps_parcours": "2018-01-01T00:57:43"
         },
         {
          "created_x": "2019-01-29T08:18:46",
          "l": -1,
          "pl_85pctl": "2018-01-01T00:24:39.400000",
          "pl_90pctl": "2018-01-01T00:42:43.100000",
          "tps_parcours": "2018-01-01T01:28:21"
         },
         {
          "created_x": "2019-01-29T08:33:32",
          "l": 0,
          "pl_85pctl": "2018-01-01T00:24:39.400000",
          "pl_90pctl": "2018-01-01T00:42:43.100000",
          "tps_parcours": "2018-01-01T01:13:35"
         },
         {
          "created_x": "2019-01-29T08:53:02",
          "l": -1,
          "pl_85pctl": "2018-01-01T00:24:39.400000",
          "pl_90pctl": "2018-01-01T00:42:43.100000",
          "tps_parcours": "2018-01-01T00:58:51"
         },
         {
          "created_x": "2019-01-29T08:39:04",
          "l": -1,
          "pl_85pctl": "2018-01-01T00:24:39.400000",
          "pl_90pctl": "2018-01-01T00:42:43.100000",
          "tps_parcours": "2018-01-01T01:16:45"
         },
         {
          "created_x": "2019-01-29T08:38:57",
          "l": -1,
          "pl_85pctl": "2018-01-01T00:24:39.400000",
          "pl_90pctl": "2018-01-01T00:42:43.100000",
          "tps_parcours": "2018-01-01T01:17:18"
         },
         {
          "created_x": "2019-01-29T08:33:47",
          "l": 1,
          "pl_85pctl": "2018-01-01T00:24:39.400000",
          "pl_90pctl": "2018-01-01T00:42:43.100000",
          "tps_parcours": "2018-01-01T01:23:54"
         },
         {
          "created_x": "2019-01-29T08:19:48",
          "l": -1,
          "pl_85pctl": "2018-01-01T00:24:39.400000",
          "pl_90pctl": "2018-01-01T00:42:43.100000",
          "tps_parcours": "2018-01-01T01:38:34"
         },
         {
          "created_x": "2019-01-29T08:47:12",
          "l": -1,
          "pl_85pctl": "2018-01-01T00:24:39.400000",
          "pl_90pctl": "2018-01-01T00:42:43.100000",
          "tps_parcours": "2018-01-01T01:18:46"
         },
         {
          "created_x": "2019-01-29T08:54:48",
          "l": 1,
          "pl_85pctl": "2018-01-01T00:24:39.400000",
          "pl_90pctl": "2018-01-01T00:42:43.100000",
          "tps_parcours": "2018-01-01T01:12:56"
         },
         {
          "created_x": "2019-01-29T08:55:05",
          "l": 0,
          "pl_85pctl": "2018-01-01T00:24:39.400000",
          "pl_90pctl": "2018-01-01T00:42:43.100000",
          "tps_parcours": "2018-01-01T01:14:17"
         },
         {
          "created_x": "2019-01-29T08:09:36",
          "l": 0,
          "pl_85pctl": "2018-01-01T00:24:39.400000",
          "pl_90pctl": "2018-01-01T00:42:43.100000",
          "tps_parcours": "2018-01-01T02:13:09"
         },
         {
          "created_x": "2019-01-29T08:35:18",
          "l": 1,
          "pl_85pctl": "2018-01-01T00:24:39.400000",
          "pl_90pctl": "2018-01-01T00:42:43.100000",
          "tps_parcours": "2018-01-01T02:04:32"
         },
         {
          "created_x": "2019-01-29T08:34:02",
          "l": 1,
          "pl_85pctl": "2018-01-01T00:24:39.400000",
          "pl_90pctl": "2018-01-01T00:42:43.100000",
          "tps_parcours": "2018-01-01T02:08:06"
         },
         {
          "created_x": "2019-01-29T08:03:11",
          "l": 0,
          "pl_85pctl": "2018-01-01T00:24:39.400000",
          "pl_90pctl": "2018-01-01T00:42:43.100000",
          "tps_parcours": "2018-01-01T02:39:50"
         },
         {
          "created_x": "2019-01-29T08:58:03",
          "l": 1,
          "pl_85pctl": "2018-01-01T00:24:39.400000",
          "pl_90pctl": "2018-01-01T00:42:43.100000",
          "tps_parcours": "2018-01-01T01:49:58"
         },
         {
          "created_x": "2019-01-29T08:38:51",
          "l": 1,
          "pl_85pctl": "2018-01-01T00:24:39.400000",
          "pl_90pctl": "2018-01-01T00:42:43.100000",
          "tps_parcours": "2018-01-01T02:12:48"
         },
         {
          "created_x": "2019-01-29T08:02:13",
          "l": 0,
          "pl_85pctl": "2018-01-01T00:24:39.400000",
          "pl_90pctl": "2018-01-01T00:42:43.100000",
          "tps_parcours": "2018-01-01T03:09:00"
         },
         {
          "created_x": "2019-01-29T08:31:52",
          "l": 1,
          "pl_85pctl": "2018-01-01T00:24:39.400000",
          "pl_90pctl": "2018-01-01T00:42:43.100000",
          "tps_parcours": "2018-01-01T02:47:50"
         },
         {
          "created_x": "2019-01-29T08:53:42",
          "l": 1,
          "pl_85pctl": "2018-01-01T00:24:39.400000",
          "pl_90pctl": "2018-01-01T00:42:43.100000",
          "tps_parcours": "2018-01-01T02:26:47"
         },
         {
          "created_x": "2019-01-29T08:00:26",
          "l": 0,
          "pl_85pctl": "2018-01-01T00:24:39.400000",
          "pl_90pctl": "2018-01-01T00:42:43.100000",
          "tps_parcours": "2018-01-01T03:26:44"
         },
         {
          "created_x": "2019-01-29T08:47:10",
          "l": -1,
          "pl_85pctl": "2018-01-01T00:24:39.400000",
          "pl_90pctl": "2018-01-01T00:42:43.100000",
          "tps_parcours": "2018-01-01T07:15:41"
         }
        ]
       },
       "hconcat": [
        {
         "data": {
          "name": "data-7925916306b8e4e152113b44298227a6"
         },
         "encoding": {
          "color": {
           "condition": {
            "field": "l",
            "legend": null,
            "selection": "selector072",
            "type": "nominal"
           },
           "value": "lightgray"
          },
          "shape": {
           "field": "l",
           "type": "nominal"
          },
          "tooltip": {
           "field": "tps_parcours",
           "type": "temporal"
          },
          "x": {
           "field": "created_x",
           "type": "temporal"
          },
          "y": {
           "field": "tps_parcours",
           "timeUnit": "hoursminutes",
           "type": "temporal"
          }
         },
         "mark": "point"
        },
        {
         "data": {
          "name": "data-7925916306b8e4e152113b44298227a6"
         },
         "encoding": {
          "color": {
           "condition": {
            "field": "l",
            "legend": null,
            "selection": "selector072",
            "type": "nominal"
           },
           "value": "lightgray"
          },
          "shape": {
           "field": "l",
           "type": "nominal"
          },
          "y": {
           "axis": {
            "orient": "right"
           },
           "field": "l",
           "type": "nominal"
          }
         },
         "mark": "point",
         "selection": {
          "selector072": {
           "empty": "all",
           "fields": [
            "l"
           ],
           "on": "click",
           "resolve": "global",
           "toggle": "event.shiftKey",
           "type": "multi"
          }
         }
        }
       ]
      },
      "image/png": "[encoded data removed]",
      "text/plain": [
       "<VegaLite 2 object>\n",
       "\n",
       "If you see this message, it means the renderer has not been properly enabled\n",
       "for the frontend that you are using. For more information, see\n",
       "https://altair-viz.github.io/user_guide/troubleshooting.html\n"
      ]
     },
     "execution_count": 141,
     "metadata": {},
     "output_type": "execute_result"
    }
   ],
   "source": [
    "graphs_bruts"
   ]
  },
  {
   "cell_type": "code",
   "execution_count": 142,
   "metadata": {},
   "outputs": [],
   "source": [
    "g_pl_90_pctl=test_graph1.plot_graphs()[4]"
   ]
  },
  {
   "cell_type": "code",
   "execution_count": 143,
   "metadata": {},
   "outputs": [
    {
     "data": {
      "application/vnd.vegalite.v2+json": {
       "$schema": "https://vega.github.io/schema/vega-lite/v2.6.0.json",
       "config": {
        "view": {
         "height": 300,
         "width": 400
        }
       },
       "datasets": {
        "data-ec1baf1913211088fcb7976d77d36281": [
         {
          "created_x": "2019-01-29T08:00:20",
          "l": 1,
          "pl_85pctl": "2018-01-01T00:24:39.400000",
          "pl_90pctl": "2018-01-01T00:42:43.100000",
          "tps_parcours": "2018-01-01T00:24:20"
         },
         {
          "created_x": "2019-01-29T08:00:50",
          "l": 1,
          "pl_85pctl": "2018-01-01T00:24:39.400000",
          "pl_90pctl": "2018-01-01T00:42:43.100000",
          "tps_parcours": "2018-01-01T00:24:19"
         },
         {
          "created_x": "2019-01-29T08:00:56",
          "l": 1,
          "pl_85pctl": "2018-01-01T00:24:39.400000",
          "pl_90pctl": "2018-01-01T00:42:43.100000",
          "tps_parcours": "2018-01-01T00:24:38"
         },
         {
          "created_x": "2019-01-29T08:01:07",
          "l": 1,
          "pl_85pctl": "2018-01-01T00:24:39.400000",
          "pl_90pctl": "2018-01-01T00:42:43.100000",
          "tps_parcours": "2018-01-01T00:24:42"
         },
         {
          "created_x": "2019-01-29T08:01:16",
          "l": 1,
          "pl_85pctl": "2018-01-01T00:24:39.400000",
          "pl_90pctl": "2018-01-01T00:42:43.100000",
          "tps_parcours": "2018-01-01T00:24:46"
         },
         {
          "created_x": "2019-01-29T08:02:39",
          "l": 1,
          "pl_85pctl": "2018-01-01T00:24:39.400000",
          "pl_90pctl": "2018-01-01T00:42:43.100000",
          "tps_parcours": "2018-01-01T00:23:31"
         },
         {
          "created_x": "2019-01-29T08:02:34",
          "l": 1,
          "pl_85pctl": "2018-01-01T00:24:39.400000",
          "pl_90pctl": "2018-01-01T00:42:43.100000",
          "tps_parcours": "2018-01-01T00:23:40"
         },
         {
          "created_x": "2019-01-29T08:02:19",
          "l": 1,
          "pl_85pctl": "2018-01-01T00:24:39.400000",
          "pl_90pctl": "2018-01-01T00:42:43.100000",
          "tps_parcours": "2018-01-01T00:24:12"
         },
         {
          "created_x": "2019-01-29T08:06:15",
          "l": 1,
          "pl_85pctl": "2018-01-01T00:24:39.400000",
          "pl_90pctl": "2018-01-01T00:42:43.100000",
          "tps_parcours": "2018-01-01T00:20:33"
         },
         {
          "created_x": "2019-01-29T08:03:06",
          "l": 1,
          "pl_85pctl": "2018-01-01T00:24:39.400000",
          "pl_90pctl": "2018-01-01T00:42:43.100000",
          "tps_parcours": "2018-01-01T00:24:06"
         },
         {
          "created_x": "2019-01-29T08:03:55",
          "l": 1,
          "pl_85pctl": "2018-01-01T00:24:39.400000",
          "pl_90pctl": "2018-01-01T00:42:43.100000",
          "tps_parcours": "2018-01-01T00:23:47"
         },
         {
          "created_x": "2019-01-29T08:04:14",
          "l": 1,
          "pl_85pctl": "2018-01-01T00:24:39.400000",
          "pl_90pctl": "2018-01-01T00:42:43.100000",
          "tps_parcours": "2018-01-01T00:24:14"
         },
         {
          "created_x": "2019-01-29T08:05:07",
          "l": 1,
          "pl_85pctl": "2018-01-01T00:24:39.400000",
          "pl_90pctl": "2018-01-01T00:42:43.100000",
          "tps_parcours": "2018-01-01T00:23:46"
         },
         {
          "created_x": "2019-01-29T08:06:59",
          "l": 1,
          "pl_85pctl": "2018-01-01T00:24:39.400000",
          "pl_90pctl": "2018-01-01T00:42:43.100000",
          "tps_parcours": "2018-01-01T00:24:08"
         },
         {
          "created_x": "2019-01-29T08:07:23",
          "l": 1,
          "pl_85pctl": "2018-01-01T00:24:39.400000",
          "pl_90pctl": "2018-01-01T00:42:43.100000",
          "tps_parcours": "2018-01-01T00:23:53"
         },
         {
          "created_x": "2019-01-29T08:07:33",
          "l": 1,
          "pl_85pctl": "2018-01-01T00:24:39.400000",
          "pl_90pctl": "2018-01-01T00:42:43.100000",
          "tps_parcours": "2018-01-01T00:23:53"
         },
         {
          "created_x": "2019-01-29T08:08:20",
          "l": 1,
          "pl_85pctl": "2018-01-01T00:24:39.400000",
          "pl_90pctl": "2018-01-01T00:42:43.100000",
          "tps_parcours": "2018-01-01T00:23:46"
         },
         {
          "created_x": "2019-01-29T08:11:31",
          "l": 1,
          "pl_85pctl": "2018-01-01T00:24:39.400000",
          "pl_90pctl": "2018-01-01T00:42:43.100000",
          "tps_parcours": "2018-01-01T00:23:13"
         },
         {
          "created_x": "2019-01-29T08:12:06",
          "l": 1,
          "pl_85pctl": "2018-01-01T00:24:39.400000",
          "pl_90pctl": "2018-01-01T00:42:43.100000",
          "tps_parcours": "2018-01-01T00:22:53"
         },
         {
          "created_x": "2019-01-29T08:12:13",
          "l": 1,
          "pl_85pctl": "2018-01-01T00:24:39.400000",
          "pl_90pctl": "2018-01-01T00:42:43.100000",
          "tps_parcours": "2018-01-01T00:23:30"
         },
         {
          "created_x": "2019-01-29T08:13:13",
          "l": 1,
          "pl_85pctl": "2018-01-01T00:24:39.400000",
          "pl_90pctl": "2018-01-01T00:42:43.100000",
          "tps_parcours": "2018-01-01T00:23:29"
         },
         {
          "created_x": "2019-01-29T08:29:40",
          "l": 1,
          "pl_85pctl": "2018-01-01T00:24:39.400000",
          "pl_90pctl": "2018-01-01T00:42:43.100000",
          "tps_parcours": "2018-01-01T00:09:48"
         },
         {
          "created_x": "2019-01-29T08:16:29",
          "l": 1,
          "pl_85pctl": "2018-01-01T00:24:39.400000",
          "pl_90pctl": "2018-01-01T00:42:43.100000",
          "tps_parcours": "2018-01-01T00:23:09"
         },
         {
          "created_x": "2019-01-29T08:18:17",
          "l": 1,
          "pl_85pctl": "2018-01-01T00:24:39.400000",
          "pl_90pctl": "2018-01-01T00:42:43.100000",
          "tps_parcours": "2018-01-01T00:22:07"
         },
         {
          "created_x": "2019-01-29T08:20:29",
          "l": 1,
          "pl_85pctl": "2018-01-01T00:24:39.400000",
          "pl_90pctl": "2018-01-01T00:42:43.100000",
          "tps_parcours": "2018-01-01T00:20:27"
         },
         {
          "created_x": "2019-01-29T08:20:21",
          "l": 1,
          "pl_85pctl": "2018-01-01T00:24:39.400000",
          "pl_90pctl": "2018-01-01T00:42:43.100000",
          "tps_parcours": "2018-01-01T00:21:07"
         },
         {
          "created_x": "2019-01-29T08:06:41",
          "l": 1,
          "pl_85pctl": "2018-01-01T00:24:39.400000",
          "pl_90pctl": "2018-01-01T00:42:43.100000",
          "tps_parcours": "2018-01-01T00:35:01"
         },
         {
          "created_x": "2019-01-29T08:20:40",
          "l": 1,
          "pl_85pctl": "2018-01-01T00:24:39.400000",
          "pl_90pctl": "2018-01-01T00:42:43.100000",
          "tps_parcours": "2018-01-01T00:21:10"
         },
         {
          "created_x": "2019-01-29T08:20:55",
          "l": 1,
          "pl_85pctl": "2018-01-01T00:24:39.400000",
          "pl_90pctl": "2018-01-01T00:42:43.100000",
          "tps_parcours": "2018-01-01T00:21:03"
         },
         {
          "created_x": "2019-01-29T08:21:42",
          "l": 1,
          "pl_85pctl": "2018-01-01T00:24:39.400000",
          "pl_90pctl": "2018-01-01T00:42:43.100000",
          "tps_parcours": "2018-01-01T00:21:07"
         },
         {
          "created_x": "2019-01-29T08:21:58",
          "l": 1,
          "pl_85pctl": "2018-01-01T00:24:39.400000",
          "pl_90pctl": "2018-01-01T00:42:43.100000",
          "tps_parcours": "2018-01-01T00:21:31"
         },
         {
          "created_x": "2019-01-29T08:24:44",
          "l": 1,
          "pl_85pctl": "2018-01-01T00:24:39.400000",
          "pl_90pctl": "2018-01-01T00:42:43.100000",
          "tps_parcours": "2018-01-01T00:19:55"
         },
         {
          "created_x": "2019-01-29T08:24:52",
          "l": 1,
          "pl_85pctl": "2018-01-01T00:24:39.400000",
          "pl_90pctl": "2018-01-01T00:42:43.100000",
          "tps_parcours": "2018-01-01T00:20:23"
         },
         {
          "created_x": "2019-01-29T08:24:38",
          "l": 1,
          "pl_85pctl": "2018-01-01T00:24:39.400000",
          "pl_90pctl": "2018-01-01T00:42:43.100000",
          "tps_parcours": "2018-01-01T00:20:43"
         },
         {
          "created_x": "2019-01-29T08:24:38",
          "l": 1,
          "pl_85pctl": "2018-01-01T00:24:39.400000",
          "pl_90pctl": "2018-01-01T00:42:43.100000",
          "tps_parcours": "2018-01-01T00:20:44"
         },
         {
          "created_x": "2019-01-29T08:24:57",
          "l": 1,
          "pl_85pctl": "2018-01-01T00:24:39.400000",
          "pl_90pctl": "2018-01-01T00:42:43.100000",
          "tps_parcours": "2018-01-01T00:20:32"
         },
         {
          "created_x": "2019-01-29T08:25:51",
          "l": 1,
          "pl_85pctl": "2018-01-01T00:24:39.400000",
          "pl_90pctl": "2018-01-01T00:42:43.100000",
          "tps_parcours": "2018-01-01T00:20:19"
         },
         {
          "created_x": "2019-01-29T08:26:48",
          "l": 1,
          "pl_85pctl": "2018-01-01T00:24:39.400000",
          "pl_90pctl": "2018-01-01T00:42:43.100000",
          "tps_parcours": "2018-01-01T00:20:04"
         },
         {
          "created_x": "2019-01-29T08:26:48",
          "l": 1,
          "pl_85pctl": "2018-01-01T00:24:39.400000",
          "pl_90pctl": "2018-01-01T00:42:43.100000",
          "tps_parcours": "2018-01-01T00:20:04"
         },
         {
          "created_x": "2019-01-29T08:27:50",
          "l": 1,
          "pl_85pctl": "2018-01-01T00:24:39.400000",
          "pl_90pctl": "2018-01-01T00:42:43.100000",
          "tps_parcours": "2018-01-01T00:20:13"
         },
         {
          "created_x": "2019-01-29T08:28:04",
          "l": 1,
          "pl_85pctl": "2018-01-01T00:24:39.400000",
          "pl_90pctl": "2018-01-01T00:42:43.100000",
          "tps_parcours": "2018-01-01T00:20:02"
         },
         {
          "created_x": "2019-01-29T08:27:45",
          "l": 1,
          "pl_85pctl": "2018-01-01T00:24:39.400000",
          "pl_90pctl": "2018-01-01T00:42:43.100000",
          "tps_parcours": "2018-01-01T00:20:37"
         },
         {
          "created_x": "2019-01-29T08:30:22",
          "l": 1,
          "pl_85pctl": "2018-01-01T00:24:39.400000",
          "pl_90pctl": "2018-01-01T00:42:43.100000",
          "tps_parcours": "2018-01-01T00:18:45"
         },
         {
          "created_x": "2019-01-29T08:33:09",
          "l": 1,
          "pl_85pctl": "2018-01-01T00:24:39.400000",
          "pl_90pctl": "2018-01-01T00:42:43.100000",
          "tps_parcours": "2018-01-01T00:16:10"
         },
         {
          "created_x": "2019-01-29T08:29:11",
          "l": 1,
          "pl_85pctl": "2018-01-01T00:24:39.400000",
          "pl_90pctl": "2018-01-01T00:42:43.100000",
          "tps_parcours": "2018-01-01T00:20:09"
         },
         {
          "created_x": "2019-01-29T08:29:25",
          "l": 1,
          "pl_85pctl": "2018-01-01T00:24:39.400000",
          "pl_90pctl": "2018-01-01T00:42:43.100000",
          "tps_parcours": "2018-01-01T00:20:12"
         },
         {
          "created_x": "2019-01-29T08:29:28",
          "l": 1,
          "pl_85pctl": "2018-01-01T00:24:39.400000",
          "pl_90pctl": "2018-01-01T00:42:43.100000",
          "tps_parcours": "2018-01-01T00:20:20"
         },
         {
          "created_x": "2019-01-29T08:31:47",
          "l": 1,
          "pl_85pctl": "2018-01-01T00:24:39.400000",
          "pl_90pctl": "2018-01-01T00:42:43.100000",
          "tps_parcours": "2018-01-01T00:18:21"
         },
         {
          "created_x": "2019-01-29T08:31:09",
          "l": 1,
          "pl_85pctl": "2018-01-01T00:24:39.400000",
          "pl_90pctl": "2018-01-01T00:42:43.100000",
          "tps_parcours": "2018-01-01T00:19:31"
         },
         {
          "created_x": "2019-01-29T08:31:16",
          "l": 1,
          "pl_85pctl": "2018-01-01T00:24:39.400000",
          "pl_90pctl": "2018-01-01T00:42:43.100000",
          "tps_parcours": "2018-01-01T00:19:29"
         },
         {
          "created_x": "2019-01-29T08:15:53",
          "l": 1,
          "pl_85pctl": "2018-01-01T00:24:39.400000",
          "pl_90pctl": "2018-01-01T00:42:43.100000",
          "tps_parcours": "2018-01-01T00:35:01"
         },
         {
          "created_x": "2019-01-29T08:31:20",
          "l": 1,
          "pl_85pctl": "2018-01-01T00:24:39.400000",
          "pl_90pctl": "2018-01-01T00:42:43.100000",
          "tps_parcours": "2018-01-01T00:19:41"
         },
         {
          "created_x": "2019-01-29T08:31:06",
          "l": 1,
          "pl_85pctl": "2018-01-01T00:24:39.400000",
          "pl_90pctl": "2018-01-01T00:42:43.100000",
          "tps_parcours": "2018-01-01T00:20:18"
         },
         {
          "created_x": "2019-01-29T08:32:15",
          "l": 1,
          "pl_85pctl": "2018-01-01T00:24:39.400000",
          "pl_90pctl": "2018-01-01T00:42:43.100000",
          "tps_parcours": "2018-01-01T00:19:27"
         },
         {
          "created_x": "2019-01-29T08:31:34",
          "l": 1,
          "pl_85pctl": "2018-01-01T00:24:39.400000",
          "pl_90pctl": "2018-01-01T00:42:43.100000",
          "tps_parcours": "2018-01-01T00:20:27"
         },
         {
          "created_x": "2019-01-29T08:32:51",
          "l": 1,
          "pl_85pctl": "2018-01-01T00:24:39.400000",
          "pl_90pctl": "2018-01-01T00:42:43.100000",
          "tps_parcours": "2018-01-01T00:19:42"
         },
         {
          "created_x": "2019-01-29T08:32:20",
          "l": 1,
          "pl_85pctl": "2018-01-01T00:24:39.400000",
          "pl_90pctl": "2018-01-01T00:42:43.100000",
          "tps_parcours": "2018-01-01T00:20:17"
         },
         {
          "created_x": "2019-01-29T08:32:55",
          "l": 1,
          "pl_85pctl": "2018-01-01T00:24:39.400000",
          "pl_90pctl": "2018-01-01T00:42:43.100000",
          "tps_parcours": "2018-01-01T00:19:52"
         },
         {
          "created_x": "2019-01-29T08:33:38",
          "l": 1,
          "pl_85pctl": "2018-01-01T00:24:39.400000",
          "pl_90pctl": "2018-01-01T00:42:43.100000",
          "tps_parcours": "2018-01-01T00:20:01"
         },
         {
          "created_x": "2019-01-29T08:33:30",
          "l": 1,
          "pl_85pctl": "2018-01-01T00:24:39.400000",
          "pl_90pctl": "2018-01-01T00:42:43.100000",
          "tps_parcours": "2018-01-01T00:20:26"
         },
         {
          "created_x": "2019-01-29T08:34:23",
          "l": 1,
          "pl_85pctl": "2018-01-01T00:24:39.400000",
          "pl_90pctl": "2018-01-01T00:42:43.100000",
          "tps_parcours": "2018-01-01T00:20:00"
         },
         {
          "created_x": "2019-01-29T08:20:42",
          "l": 1,
          "pl_85pctl": "2018-01-01T00:24:39.400000",
          "pl_90pctl": "2018-01-01T00:42:43.100000",
          "tps_parcours": "2018-01-01T00:33:52"
         },
         {
          "created_x": "2019-01-29T08:34:36",
          "l": 1,
          "pl_85pctl": "2018-01-01T00:24:39.400000",
          "pl_90pctl": "2018-01-01T00:42:43.100000",
          "tps_parcours": "2018-01-01T00:20:10"
         },
         {
          "created_x": "2019-01-29T08:34:57",
          "l": 1,
          "pl_85pctl": "2018-01-01T00:24:39.400000",
          "pl_90pctl": "2018-01-01T00:42:43.100000",
          "tps_parcours": "2018-01-01T00:19:55"
         },
         {
          "created_x": "2019-01-29T08:35:06",
          "l": 1,
          "pl_85pctl": "2018-01-01T00:24:39.400000",
          "pl_90pctl": "2018-01-01T00:42:43.100000",
          "tps_parcours": "2018-01-01T00:20:42"
         },
         {
          "created_x": "2019-01-29T08:36:38",
          "l": 1,
          "pl_85pctl": "2018-01-01T00:24:39.400000",
          "pl_90pctl": "2018-01-01T00:42:43.100000",
          "tps_parcours": "2018-01-01T00:19:37"
         },
         {
          "created_x": "2019-01-29T08:37:29",
          "l": 1,
          "pl_85pctl": "2018-01-01T00:24:39.400000",
          "pl_90pctl": "2018-01-01T00:42:43.100000",
          "tps_parcours": "2018-01-01T00:19:55"
         },
         {
          "created_x": "2019-01-29T08:37:26",
          "l": 1,
          "pl_85pctl": "2018-01-01T00:24:39.400000",
          "pl_90pctl": "2018-01-01T00:42:43.100000",
          "tps_parcours": "2018-01-01T00:19:59"
         },
         {
          "created_x": "2019-01-29T08:37:32",
          "l": 1,
          "pl_85pctl": "2018-01-01T00:24:39.400000",
          "pl_90pctl": "2018-01-01T00:42:43.100000",
          "tps_parcours": "2018-01-01T00:20:17"
         },
         {
          "created_x": "2019-01-29T08:37:40",
          "l": 1,
          "pl_85pctl": "2018-01-01T00:24:39.400000",
          "pl_90pctl": "2018-01-01T00:42:43.100000",
          "tps_parcours": "2018-01-01T00:20:54"
         },
         {
          "created_x": "2019-01-29T08:37:52",
          "l": 1,
          "pl_85pctl": "2018-01-01T00:24:39.400000",
          "pl_90pctl": "2018-01-01T00:42:43.100000",
          "tps_parcours": "2018-01-01T00:20:45"
         },
         {
          "created_x": "2019-01-29T08:38:21",
          "l": 1,
          "pl_85pctl": "2018-01-01T00:24:39.400000",
          "pl_90pctl": "2018-01-01T00:42:43.100000",
          "tps_parcours": "2018-01-01T00:20:24"
         },
         {
          "created_x": "2019-01-29T08:38:46",
          "l": 1,
          "pl_85pctl": "2018-01-01T00:24:39.400000",
          "pl_90pctl": "2018-01-01T00:42:43.100000",
          "tps_parcours": "2018-01-01T00:20:16"
         },
         {
          "created_x": "2019-01-29T08:39:11",
          "l": 1,
          "pl_85pctl": "2018-01-01T00:24:39.400000",
          "pl_90pctl": "2018-01-01T00:42:43.100000",
          "tps_parcours": "2018-01-01T00:19:57"
         },
         {
          "created_x": "2019-01-29T08:39:31",
          "l": 1,
          "pl_85pctl": "2018-01-01T00:24:39.400000",
          "pl_90pctl": "2018-01-01T00:42:43.100000",
          "tps_parcours": "2018-01-01T00:19:37"
         },
         {
          "created_x": "2019-01-29T08:38:54",
          "l": 1,
          "pl_85pctl": "2018-01-01T00:24:39.400000",
          "pl_90pctl": "2018-01-01T00:42:43.100000",
          "tps_parcours": "2018-01-01T00:20:28"
         },
         {
          "created_x": "2019-01-29T08:38:48",
          "l": 1,
          "pl_85pctl": "2018-01-01T00:24:39.400000",
          "pl_90pctl": "2018-01-01T00:42:43.100000",
          "tps_parcours": "2018-01-01T00:20:51"
         },
         {
          "created_x": "2019-01-29T08:39:45",
          "l": 1,
          "pl_85pctl": "2018-01-01T00:24:39.400000",
          "pl_90pctl": "2018-01-01T00:42:43.100000",
          "tps_parcours": "2018-01-01T00:19:54"
         },
         {
          "created_x": "2019-01-29T08:39:57",
          "l": 1,
          "pl_85pctl": "2018-01-01T00:24:39.400000",
          "pl_90pctl": "2018-01-01T00:42:43.100000",
          "tps_parcours": "2018-01-01T00:20:11"
         },
         {
          "created_x": "2019-01-29T08:40:35",
          "l": 1,
          "pl_85pctl": "2018-01-01T00:24:39.400000",
          "pl_90pctl": "2018-01-01T00:42:43.100000",
          "tps_parcours": "2018-01-01T00:19:40"
         },
         {
          "created_x": "2019-01-29T08:40:06",
          "l": 1,
          "pl_85pctl": "2018-01-01T00:24:39.400000",
          "pl_90pctl": "2018-01-01T00:42:43.100000",
          "tps_parcours": "2018-01-01T00:20:13"
         },
         {
          "created_x": "2019-01-29T08:41:00",
          "l": 1,
          "pl_85pctl": "2018-01-01T00:24:39.400000",
          "pl_90pctl": "2018-01-01T00:42:43.100000",
          "tps_parcours": "2018-01-01T00:19:51"
         },
         {
          "created_x": "2019-01-29T08:23:45",
          "l": 1,
          "pl_85pctl": "2018-01-01T00:24:39.400000",
          "pl_90pctl": "2018-01-01T00:42:43.100000",
          "tps_parcours": "2018-01-01T00:37:07"
         },
         {
          "created_x": "2019-01-29T08:41:44",
          "l": 1,
          "pl_85pctl": "2018-01-01T00:24:39.400000",
          "pl_90pctl": "2018-01-01T00:42:43.100000",
          "tps_parcours": "2018-01-01T00:20:03"
         },
         {
          "created_x": "2019-01-29T08:41:51",
          "l": 1,
          "pl_85pctl": "2018-01-01T00:24:39.400000",
          "pl_90pctl": "2018-01-01T00:42:43.100000",
          "tps_parcours": "2018-01-01T00:20:01"
         },
         {
          "created_x": "2019-01-29T08:41:51",
          "l": 1,
          "pl_85pctl": "2018-01-01T00:24:39.400000",
          "pl_90pctl": "2018-01-01T00:42:43.100000",
          "tps_parcours": "2018-01-01T00:20:01"
         },
         {
          "created_x": "2019-01-29T08:42:07",
          "l": 1,
          "pl_85pctl": "2018-01-01T00:24:39.400000",
          "pl_90pctl": "2018-01-01T00:42:43.100000",
          "tps_parcours": "2018-01-01T00:19:52"
         },
         {
          "created_x": "2019-01-29T08:43:02",
          "l": 1,
          "pl_85pctl": "2018-01-01T00:24:39.400000",
          "pl_90pctl": "2018-01-01T00:42:43.100000",
          "tps_parcours": "2018-01-01T00:19:51"
         },
         {
          "created_x": "2019-01-29T08:43:33",
          "l": 1,
          "pl_85pctl": "2018-01-01T00:24:39.400000",
          "pl_90pctl": "2018-01-01T00:42:43.100000",
          "tps_parcours": "2018-01-01T00:19:54"
         },
         {
          "created_x": "2019-01-29T08:43:26",
          "l": 1,
          "pl_85pctl": "2018-01-01T00:24:39.400000",
          "pl_90pctl": "2018-01-01T00:42:43.100000",
          "tps_parcours": "2018-01-01T00:20:05"
         },
         {
          "created_x": "2019-01-29T08:43:47",
          "l": 1,
          "pl_85pctl": "2018-01-01T00:24:39.400000",
          "pl_90pctl": "2018-01-01T00:42:43.100000",
          "tps_parcours": "2018-01-01T00:19:46"
         },
         {
          "created_x": "2019-01-29T08:44:24",
          "l": 1,
          "pl_85pctl": "2018-01-01T00:24:39.400000",
          "pl_90pctl": "2018-01-01T00:42:43.100000",
          "tps_parcours": "2018-01-01T00:19:38"
         },
         {
          "created_x": "2019-01-29T08:41:38",
          "l": 1,
          "pl_85pctl": "2018-01-01T00:24:39.400000",
          "pl_90pctl": "2018-01-01T00:42:43.100000",
          "tps_parcours": "2018-01-01T00:22:48"
         },
         {
          "created_x": "2019-01-29T08:44:04",
          "l": 1,
          "pl_85pctl": "2018-01-01T00:24:39.400000",
          "pl_90pctl": "2018-01-01T00:42:43.100000",
          "tps_parcours": "2018-01-01T00:20:25"
         },
         {
          "created_x": "2019-01-29T08:45:03",
          "l": 1,
          "pl_85pctl": "2018-01-01T00:24:39.400000",
          "pl_90pctl": "2018-01-01T00:42:43.100000",
          "tps_parcours": "2018-01-01T00:19:36"
         },
         {
          "created_x": "2019-01-29T08:45:16",
          "l": 1,
          "pl_85pctl": "2018-01-01T00:24:39.400000",
          "pl_90pctl": "2018-01-01T00:42:43.100000",
          "tps_parcours": "2018-01-01T00:19:30"
         },
         {
          "created_x": "2019-01-29T08:44:27",
          "l": 1,
          "pl_85pctl": "2018-01-01T00:24:39.400000",
          "pl_90pctl": "2018-01-01T00:42:43.100000",
          "tps_parcours": "2018-01-01T00:20:28"
         },
         {
          "created_x": "2019-01-29T08:45:56",
          "l": 1,
          "pl_85pctl": "2018-01-01T00:24:39.400000",
          "pl_90pctl": "2018-01-01T00:42:43.100000",
          "tps_parcours": "2018-01-01T00:20:10"
         },
         {
          "created_x": "2019-01-29T08:46:09",
          "l": 1,
          "pl_85pctl": "2018-01-01T00:24:39.400000",
          "pl_90pctl": "2018-01-01T00:42:43.100000",
          "tps_parcours": "2018-01-01T00:20:04"
         },
         {
          "created_x": "2019-01-29T08:46:42",
          "l": 1,
          "pl_85pctl": "2018-01-01T00:24:39.400000",
          "pl_90pctl": "2018-01-01T00:42:43.100000",
          "tps_parcours": "2018-01-01T00:19:49"
         },
         {
          "created_x": "2019-01-29T08:46:47",
          "l": 1,
          "pl_85pctl": "2018-01-01T00:24:39.400000",
          "pl_90pctl": "2018-01-01T00:42:43.100000",
          "tps_parcours": "2018-01-01T00:20:12"
         },
         {
          "created_x": "2019-01-29T08:47:02",
          "l": 1,
          "pl_85pctl": "2018-01-01T00:24:39.400000",
          "pl_90pctl": "2018-01-01T00:42:43.100000",
          "tps_parcours": "2018-01-01T00:20:38"
         },
         {
          "created_x": "2019-01-29T08:48:01",
          "l": 1,
          "pl_85pctl": "2018-01-01T00:24:39.400000",
          "pl_90pctl": "2018-01-01T00:42:43.100000",
          "tps_parcours": "2018-01-01T00:20:00"
         },
         {
          "created_x": "2019-01-29T08:25:07",
          "l": 1,
          "pl_85pctl": "2018-01-01T00:24:39.400000",
          "pl_90pctl": "2018-01-01T00:42:43.100000",
          "tps_parcours": "2018-01-01T00:43:05"
         },
         {
          "created_x": "2019-01-29T08:29:04",
          "l": 1,
          "pl_85pctl": "2018-01-01T00:24:39.400000",
          "pl_90pctl": "2018-01-01T00:42:43.100000",
          "tps_parcours": "2018-01-01T00:39:26"
         },
         {
          "created_x": "2019-01-29T08:48:07",
          "l": 1,
          "pl_85pctl": "2018-01-01T00:24:39.400000",
          "pl_90pctl": "2018-01-01T00:42:43.100000",
          "tps_parcours": "2018-01-01T00:20:35"
         },
         {
          "created_x": "2019-01-29T08:48:14",
          "l": 1,
          "pl_85pctl": "2018-01-01T00:24:39.400000",
          "pl_90pctl": "2018-01-01T00:42:43.100000",
          "tps_parcours": "2018-01-01T00:20:52"
         },
         {
          "created_x": "2019-01-29T08:48:18",
          "l": 1,
          "pl_85pctl": "2018-01-01T00:24:39.400000",
          "pl_90pctl": "2018-01-01T00:42:43.100000",
          "tps_parcours": "2018-01-01T00:21:02"
         },
         {
          "created_x": "2019-01-29T08:49:29",
          "l": 1,
          "pl_85pctl": "2018-01-01T00:24:39.400000",
          "pl_90pctl": "2018-01-01T00:42:43.100000",
          "tps_parcours": "2018-01-01T00:19:55"
         },
         {
          "created_x": "2019-01-29T08:48:32",
          "l": 1,
          "pl_85pctl": "2018-01-01T00:24:39.400000",
          "pl_90pctl": "2018-01-01T00:42:43.100000",
          "tps_parcours": "2018-01-01T00:21:04"
         },
         {
          "created_x": "2019-01-29T08:48:40",
          "l": 1,
          "pl_85pctl": "2018-01-01T00:24:39.400000",
          "pl_90pctl": "2018-01-01T00:42:43.100000",
          "tps_parcours": "2018-01-01T00:21:16"
         },
         {
          "created_x": "2019-01-29T08:50:24",
          "l": 1,
          "pl_85pctl": "2018-01-01T00:24:39.400000",
          "pl_90pctl": "2018-01-01T00:42:43.100000",
          "tps_parcours": "2018-01-01T00:19:54"
         },
         {
          "created_x": "2019-01-29T08:49:00",
          "l": 1,
          "pl_85pctl": "2018-01-01T00:24:39.400000",
          "pl_90pctl": "2018-01-01T00:42:43.100000",
          "tps_parcours": "2018-01-01T00:21:32"
         },
         {
          "created_x": "2019-01-29T08:50:20",
          "l": 1,
          "pl_85pctl": "2018-01-01T00:24:39.400000",
          "pl_90pctl": "2018-01-01T00:42:43.100000",
          "tps_parcours": "2018-01-01T00:20:28"
         },
         {
          "created_x": "2019-01-29T08:49:23",
          "l": 1,
          "pl_85pctl": "2018-01-01T00:24:39.400000",
          "pl_90pctl": "2018-01-01T00:42:43.100000",
          "tps_parcours": "2018-01-01T00:21:25"
         },
         {
          "created_x": "2019-01-29T08:50:06",
          "l": 1,
          "pl_85pctl": "2018-01-01T00:24:39.400000",
          "pl_90pctl": "2018-01-01T00:42:43.100000",
          "tps_parcours": "2018-01-01T00:20:54"
         },
         {
          "created_x": "2019-01-29T08:49:37",
          "l": 1,
          "pl_85pctl": "2018-01-01T00:24:39.400000",
          "pl_90pctl": "2018-01-01T00:42:43.100000",
          "tps_parcours": "2018-01-01T00:21:32"
         },
         {
          "created_x": "2019-01-29T08:50:59",
          "l": 1,
          "pl_85pctl": "2018-01-01T00:24:39.400000",
          "pl_90pctl": "2018-01-01T00:42:43.100000",
          "tps_parcours": "2018-01-01T00:20:46"
         },
         {
          "created_x": "2019-01-29T08:51:57",
          "l": 1,
          "pl_85pctl": "2018-01-01T00:24:39.400000",
          "pl_90pctl": "2018-01-01T00:42:43.100000",
          "tps_parcours": "2018-01-01T00:19:59"
         },
         {
          "created_x": "2019-01-29T08:52:24",
          "l": 1,
          "pl_85pctl": "2018-01-01T00:24:39.400000",
          "pl_90pctl": "2018-01-01T00:42:43.100000",
          "tps_parcours": "2018-01-01T00:20:22"
         },
         {
          "created_x": "2019-01-29T08:52:32",
          "l": 1,
          "pl_85pctl": "2018-01-01T00:24:39.400000",
          "pl_90pctl": "2018-01-01T00:42:43.100000",
          "tps_parcours": "2018-01-01T00:20:21"
         },
         {
          "created_x": "2019-01-29T08:52:32",
          "l": 1,
          "pl_85pctl": "2018-01-01T00:24:39.400000",
          "pl_90pctl": "2018-01-01T00:42:43.100000",
          "tps_parcours": "2018-01-01T00:20:22"
         },
         {
          "created_x": "2019-01-29T08:52:50",
          "l": 1,
          "pl_85pctl": "2018-01-01T00:24:39.400000",
          "pl_90pctl": "2018-01-01T00:42:43.100000",
          "tps_parcours": "2018-01-01T00:20:15"
         },
         {
          "created_x": "2019-01-29T08:52:39",
          "l": 1,
          "pl_85pctl": "2018-01-01T00:24:39.400000",
          "pl_90pctl": "2018-01-01T00:42:43.100000",
          "tps_parcours": "2018-01-01T00:20:40"
         },
         {
          "created_x": "2019-01-29T08:52:55",
          "l": 1,
          "pl_85pctl": "2018-01-01T00:24:39.400000",
          "pl_90pctl": "2018-01-01T00:42:43.100000",
          "tps_parcours": "2018-01-01T00:20:38"
         },
         {
          "created_x": "2019-01-29T08:52:58",
          "l": 1,
          "pl_85pctl": "2018-01-01T00:24:39.400000",
          "pl_90pctl": "2018-01-01T00:42:43.100000",
          "tps_parcours": "2018-01-01T00:20:50"
         },
         {
          "created_x": "2019-01-29T08:53:26",
          "l": 1,
          "pl_85pctl": "2018-01-01T00:24:39.400000",
          "pl_90pctl": "2018-01-01T00:42:43.100000",
          "tps_parcours": "2018-01-01T00:20:35"
         },
         {
          "created_x": "2019-01-29T08:53:45",
          "l": 1,
          "pl_85pctl": "2018-01-01T00:24:39.400000",
          "pl_90pctl": "2018-01-01T00:42:43.100000",
          "tps_parcours": "2018-01-01T00:20:21"
         },
         {
          "created_x": "2019-01-29T08:12:16",
          "l": 1,
          "pl_85pctl": "2018-01-01T00:24:39.400000",
          "pl_90pctl": "2018-01-01T00:42:43.100000",
          "tps_parcours": "2018-01-01T01:01:58"
         },
         {
          "created_x": "2019-01-29T08:54:22",
          "l": 1,
          "pl_85pctl": "2018-01-01T00:24:39.400000",
          "pl_90pctl": "2018-01-01T00:42:43.100000",
          "tps_parcours": "2018-01-01T00:20:10"
         },
         {
          "created_x": "2019-01-29T08:54:30",
          "l": 1,
          "pl_85pctl": "2018-01-01T00:24:39.400000",
          "pl_90pctl": "2018-01-01T00:42:43.100000",
          "tps_parcours": "2018-01-01T00:20:15"
         },
         {
          "created_x": "2019-01-29T08:55:06",
          "l": 1,
          "pl_85pctl": "2018-01-01T00:24:39.400000",
          "pl_90pctl": "2018-01-01T00:42:43.100000",
          "tps_parcours": "2018-01-01T00:20:36"
         },
         {
          "created_x": "2019-01-29T08:56:34",
          "l": 1,
          "pl_85pctl": "2018-01-01T00:24:39.400000",
          "pl_90pctl": "2018-01-01T00:42:43.100000",
          "tps_parcours": "2018-01-01T00:19:32"
         },
         {
          "created_x": "2019-01-29T08:14:44",
          "l": 1,
          "pl_85pctl": "2018-01-01T00:24:39.400000",
          "pl_90pctl": "2018-01-01T00:42:43.100000",
          "tps_parcours": "2018-01-01T01:01:43"
         },
         {
          "created_x": "2019-01-29T08:56:41",
          "l": 1,
          "pl_85pctl": "2018-01-01T00:24:39.400000",
          "pl_90pctl": "2018-01-01T00:42:43.100000",
          "tps_parcours": "2018-01-01T00:19:55"
         },
         {
          "created_x": "2019-01-29T08:56:18",
          "l": 1,
          "pl_85pctl": "2018-01-01T00:24:39.400000",
          "pl_90pctl": "2018-01-01T00:42:43.100000",
          "tps_parcours": "2018-01-01T00:20:23"
         },
         {
          "created_x": "2019-01-29T08:56:28",
          "l": 1,
          "pl_85pctl": "2018-01-01T00:24:39.400000",
          "pl_90pctl": "2018-01-01T00:42:43.100000",
          "tps_parcours": "2018-01-01T00:20:15"
         },
         {
          "created_x": "2019-01-29T08:57:00",
          "l": 1,
          "pl_85pctl": "2018-01-01T00:24:39.400000",
          "pl_90pctl": "2018-01-01T00:42:43.100000",
          "tps_parcours": "2018-01-01T00:19:49"
         },
         {
          "created_x": "2019-01-29T08:57:28",
          "l": 1,
          "pl_85pctl": "2018-01-01T00:24:39.400000",
          "pl_90pctl": "2018-01-01T00:42:43.100000",
          "tps_parcours": "2018-01-01T00:19:48"
         },
         {
          "created_x": "2019-01-29T08:57:58",
          "l": 1,
          "pl_85pctl": "2018-01-01T00:24:39.400000",
          "pl_90pctl": "2018-01-01T00:42:43.100000",
          "tps_parcours": "2018-01-01T00:20:11"
         },
         {
          "created_x": "2019-01-29T08:58:19",
          "l": 1,
          "pl_85pctl": "2018-01-01T00:24:39.400000",
          "pl_90pctl": "2018-01-01T00:42:43.100000",
          "tps_parcours": "2018-01-01T00:19:58"
         },
         {
          "created_x": "2019-01-29T08:59:03",
          "l": 1,
          "pl_85pctl": "2018-01-01T00:24:39.400000",
          "pl_90pctl": "2018-01-01T00:42:43.100000",
          "tps_parcours": "2018-01-01T00:20:24"
         },
         {
          "created_x": "2019-01-29T08:59:39",
          "l": 1,
          "pl_85pctl": "2018-01-01T00:24:39.400000",
          "pl_90pctl": "2018-01-01T00:42:43.100000",
          "tps_parcours": "2018-01-01T00:20:03"
         },
         {
          "created_x": "2019-01-29T08:59:50",
          "l": 1,
          "pl_85pctl": "2018-01-01T00:24:39.400000",
          "pl_90pctl": "2018-01-01T00:42:43.100000",
          "tps_parcours": "2018-01-01T00:19:54"
         },
         {
          "created_x": "2019-01-29T08:59:43",
          "l": 1,
          "pl_85pctl": "2018-01-01T00:24:39.400000",
          "pl_90pctl": "2018-01-01T00:42:43.100000",
          "tps_parcours": "2018-01-01T00:20:05"
         },
         {
          "created_x": "2019-01-29T08:09:50",
          "l": 1,
          "pl_85pctl": "2018-01-01T00:24:39.400000",
          "pl_90pctl": "2018-01-01T00:42:43.100000",
          "tps_parcours": "2018-01-01T01:12:50"
         },
         {
          "created_x": "2019-01-29T09:00:00",
          "l": 1,
          "pl_85pctl": "2018-01-01T00:24:39.400000",
          "pl_90pctl": "2018-01-01T00:42:43.100000",
          "tps_parcours": "2018-01-01T00:26:56"
         },
         {
          "created_x": "2019-01-29T08:11:37",
          "l": 1,
          "pl_85pctl": "2018-01-01T00:24:39.400000",
          "pl_90pctl": "2018-01-01T00:42:43.100000",
          "tps_parcours": "2018-01-01T01:19:47"
         },
         {
          "created_x": "2019-01-29T08:24:46",
          "l": 1,
          "pl_85pctl": "2018-01-01T00:24:39.400000",
          "pl_90pctl": "2018-01-01T00:42:43.100000",
          "tps_parcours": "2018-01-01T01:14:25"
         },
         {
          "created_x": "2019-01-29T08:23:37",
          "l": 1,
          "pl_85pctl": "2018-01-01T00:24:39.400000",
          "pl_90pctl": "2018-01-01T00:42:43.100000",
          "tps_parcours": "2018-01-01T01:16:36"
         },
         {
          "created_x": "2019-01-29T08:37:01",
          "l": 1,
          "pl_85pctl": "2018-01-01T00:24:39.400000",
          "pl_90pctl": "2018-01-01T00:42:43.100000",
          "tps_parcours": "2018-01-01T01:09:09"
         },
         {
          "created_x": "2019-01-29T08:33:47",
          "l": 1,
          "pl_85pctl": "2018-01-01T00:24:39.400000",
          "pl_90pctl": "2018-01-01T00:42:43.100000",
          "tps_parcours": "2018-01-01T01:23:54"
         },
         {
          "created_x": "2019-01-29T08:54:48",
          "l": 1,
          "pl_85pctl": "2018-01-01T00:24:39.400000",
          "pl_90pctl": "2018-01-01T00:42:43.100000",
          "tps_parcours": "2018-01-01T01:12:56"
         },
         {
          "created_x": "2019-01-29T08:35:18",
          "l": 1,
          "pl_85pctl": "2018-01-01T00:24:39.400000",
          "pl_90pctl": "2018-01-01T00:42:43.100000",
          "tps_parcours": "2018-01-01T02:04:32"
         },
         {
          "created_x": "2019-01-29T08:34:02",
          "l": 1,
          "pl_85pctl": "2018-01-01T00:24:39.400000",
          "pl_90pctl": "2018-01-01T00:42:43.100000",
          "tps_parcours": "2018-01-01T02:08:06"
         },
         {
          "created_x": "2019-01-29T08:58:03",
          "l": 1,
          "pl_85pctl": "2018-01-01T00:24:39.400000",
          "pl_90pctl": "2018-01-01T00:42:43.100000",
          "tps_parcours": "2018-01-01T01:49:58"
         },
         {
          "created_x": "2019-01-29T08:38:51",
          "l": 1,
          "pl_85pctl": "2018-01-01T00:24:39.400000",
          "pl_90pctl": "2018-01-01T00:42:43.100000",
          "tps_parcours": "2018-01-01T02:12:48"
         },
         {
          "created_x": "2019-01-29T08:31:52",
          "l": 1,
          "pl_85pctl": "2018-01-01T00:24:39.400000",
          "pl_90pctl": "2018-01-01T00:42:43.100000",
          "tps_parcours": "2018-01-01T02:47:50"
         },
         {
          "created_x": "2019-01-29T08:53:42",
          "l": 1,
          "pl_85pctl": "2018-01-01T00:24:39.400000",
          "pl_90pctl": "2018-01-01T00:42:43.100000",
          "tps_parcours": "2018-01-01T02:26:47"
         }
        ]
       },
       "layer": [
        {
         "data": {
          "name": "data-ec1baf1913211088fcb7976d77d36281"
         },
         "encoding": {
          "color": {
           "field": "l",
           "type": "nominal"
          },
          "tooltip": [
           {
            "field": "tps_parcours",
            "timeUnit": "hoursminutes",
            "type": "temporal"
           }
          ],
          "x": {
           "field": "created_x",
           "type": "temporal"
          },
          "y": {
           "field": "tps_parcours",
           "timeUnit": "hoursminutes",
           "type": "temporal"
          }
         },
         "mark": {
          "color": "red",
          "type": "point"
         },
         "selection": {
          "selector075": {
           "bind": "scales",
           "encodings": [
            "x",
            "y"
           ],
           "mark": {
            "fill": "#333",
            "fillOpacity": 0.125,
            "stroke": "white"
           },
           "on": "[mousedown, window:mouseup] > window:mousemove!",
           "resolve": "global",
           "translate": "[mousedown, window:mouseup] > window:mousemove!",
           "type": "interval",
           "zoom": "wheel!"
          }
         }
        },
        {
         "data": {
          "name": "data-ec1baf1913211088fcb7976d77d36281"
         },
         "encoding": {
          "x": {
           "field": "created_x",
           "type": "temporal"
          },
          "y": {
           "field": "pl_90pctl",
           "timeUnit": "hoursminutes",
           "type": "temporal"
          }
         },
         "mark": {
          "color": "blue",
          "type": "line"
         }
        },
        {
         "data": {
          "name": "data-ec1baf1913211088fcb7976d77d36281"
         },
         "encoding": {
          "x": {
           "field": "created_x",
           "type": "temporal"
          },
          "y": {
           "field": "pl_85pctl",
           "timeUnit": "hoursminutes",
           "type": "temporal"
          }
         },
         "mark": {
          "color": "red",
          "type": "line"
         }
        }
       ]
      },
      "image/png": "[encoded data removed]",
      "text/plain": [
       "<VegaLite 2 object>\n",
       "\n",
       "If you see this message, it means the renderer has not been properly enabled\n",
       "for the frontend that you are using. For more information, see\n",
       "https://altair-viz.github.io/user_guide/troubleshooting.html\n"
      ]
     },
     "execution_count": 143,
     "metadata": {},
     "output_type": "execute_result"
    }
   ],
   "source": [
    "g_pl_90_pctl"
   ]
  },
  {
   "cell_type": "code",
   "execution_count": 126,
   "metadata": {},
   "outputs": [
    {
     "data": {
      "text/html": [
       "<div>\n",
       "<style scoped>\n",
       "    .dataframe tbody tr th:only-of-type {\n",
       "        vertical-align: middle;\n",
       "    }\n",
       "\n",
       "    .dataframe tbody tr th {\n",
       "        vertical-align: top;\n",
       "    }\n",
       "\n",
       "    .dataframe thead th {\n",
       "        text-align: right;\n",
       "    }\n",
       "</style>\n",
       "<table border=\"1\" class=\"dataframe\">\n",
       "  <thead>\n",
       "    <tr style=\"text-align: right;\">\n",
       "      <th></th>\n",
       "      <th>created_y</th>\n",
       "      <th>created_x</th>\n",
       "      <th>camera_id_x</th>\n",
       "      <th>immat</th>\n",
       "      <th>fiability_x</th>\n",
       "      <th>l_x</th>\n",
       "      <th>state_x</th>\n",
       "      <th>camera_id_y</th>\n",
       "      <th>fiability_y</th>\n",
       "      <th>l_y</th>\n",
       "      <th>state_y</th>\n",
       "      <th>l</th>\n",
       "      <th>fiability</th>\n",
       "      <th>tps_parcours</th>\n",
       "    </tr>\n",
       "  </thead>\n",
       "  <tbody>\n",
       "    <tr>\n",
       "      <th>171</th>\n",
       "      <td>2019-01-30 08:44:53</td>\n",
       "      <td>2019-01-29 17:03:24</td>\n",
       "      <td>19</td>\n",
       "      <td>1352bf1fd49ca28f77610e5fc46c0e952ea66040</td>\n",
       "      <td>79</td>\n",
       "      <td>1</td>\n",
       "      <td>FR</td>\n",
       "      <td>4</td>\n",
       "      <td>99</td>\n",
       "      <td>1</td>\n",
       "      <td>FR</td>\n",
       "      <td>1</td>\n",
       "      <td>True</td>\n",
       "      <td>15:41:29</td>\n",
       "    </tr>\n",
       "  </tbody>\n",
       "</table>\n",
       "</div>"
      ],
      "text/plain": [
       "              created_y           created_x  camera_id_x                                     immat  fiability_x  l_x state_x  camera_id_y  fiability_y  l_y state_y  l  fiability tps_parcours\n",
       "171 2019-01-30 08:44:53 2019-01-29 17:03:24           19  1352bf1fd49ca28f77610e5fc46c0e952ea66040           79    1      FR            4           99    1      FR  1       True     15:41:29"
      ]
     },
     "execution_count": 126,
     "metadata": {},
     "output_type": "execute_result"
    }
   ],
   "source": [
    "test_graph1.df_pl_ok"
   ]
  },
  {
   "cell_type": "code",
   "execution_count": 132,
   "metadata": {},
   "outputs": [
    {
     "data": {
      "text/plain": [
       "1.75"
      ]
     },
     "execution_count": 132,
     "metadata": {},
     "output_type": "execute_result"
    }
   ],
   "source": [
    "70/40\n"
   ]
  },
  {
   "cell_type": "code",
   "execution_count": 133,
   "metadata": {},
   "outputs": [
    {
     "data": {
      "text/plain": [
       "0.5714285714285714"
      ]
     },
     "execution_count": 133,
     "metadata": {},
     "output_type": "execute_result"
    }
   ],
   "source": [
    "40/70"
   ]
  },
  {
   "cell_type": "code",
   "execution_count": 134,
   "metadata": {},
   "outputs": [
    {
     "data": {
      "text/plain": [
       "4.2"
      ]
     },
     "execution_count": 134,
     "metadata": {},
     "output_type": "execute_result"
    }
   ],
   "source": [
    "0.07*60"
   ]
  },
  {
   "cell_type": "code",
   "execution_count": null,
   "metadata": {},
   "outputs": [],
   "source": []
  }
 ],
 "metadata": {
  "kernelspec": {
   "display_name": "Python 3",
   "language": "python",
   "name": "python3"
  },
  "language_info": {
   "codemirror_mode": {
    "name": "ipython",
    "version": 3
   },
   "file_extension": ".py",
   "mimetype": "text/x-python",
   "name": "python",
   "nbconvert_exporter": "python",
   "pygments_lexer": "ipython3",
   "version": "3.7.0"
  }
 },
 "nbformat": 4,
 "nbformat_minor": 2
}
