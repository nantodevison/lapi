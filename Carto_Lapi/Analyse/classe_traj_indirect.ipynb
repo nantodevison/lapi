{
 "cells": [
  {
   "cell_type": "markdown",
   "metadata": {},
   "source": [
    "Test du projet de class trajets indirect"
   ]
  },
  {
   "cell_type": "code",
   "execution_count": 1,
   "metadata": {},
   "outputs": [
    {
     "ename": "UnicodeDecodeError",
     "evalue": "'utf-8' codec can't decode byte 0xe9 in position 85: invalid continuation byte",
     "output_type": "error",
     "traceback": [
      "\u001b[1;31m---------------------------------------------------------------------------\u001b[0m",
      "\u001b[1;31mUnicodeDecodeError\u001b[0m                        Traceback (most recent call last)",
      "\u001b[1;31mUnicodeDecodeError\u001b[0m: 'utf-8' codec can't decode byte 0xe9 in position 85: invalid continuation byte"
     ]
    },
    {
     "name": "stderr",
     "output_type": "stream",
     "text": [
      "Exception ignored in: 'fiona._env.log_error'\n",
      "UnicodeDecodeError: 'utf-8' codec can't decode byte 0xe9 in position 85: invalid continuation byte\n"
     ]
    },
    {
     "ename": "UnicodeDecodeError",
     "evalue": "'utf-8' codec can't decode byte 0xe9 in position 85: invalid continuation byte",
     "output_type": "error",
     "traceback": [
      "\u001b[1;31m---------------------------------------------------------------------------\u001b[0m",
      "\u001b[1;31mUnicodeDecodeError\u001b[0m                        Traceback (most recent call last)",
      "\u001b[1;31mUnicodeDecodeError\u001b[0m: 'utf-8' codec can't decode byte 0xe9 in position 85: invalid continuation byte"
     ]
    },
    {
     "name": "stderr",
     "output_type": "stream",
     "text": [
      "Exception ignored in: 'fiona._env.log_error'\n",
      "UnicodeDecodeError: 'utf-8' codec can't decode byte 0xe9 in position 85: invalid continuation byte\n"
     ]
    },
    {
     "ename": "UnicodeDecodeError",
     "evalue": "'utf-8' codec can't decode byte 0xe9 in position 86: invalid continuation byte",
     "output_type": "error",
     "traceback": [
      "\u001b[1;31m---------------------------------------------------------------------------\u001b[0m",
      "\u001b[1;31mUnicodeDecodeError\u001b[0m                        Traceback (most recent call last)",
      "\u001b[1;31mUnicodeDecodeError\u001b[0m: 'utf-8' codec can't decode byte 0xe9 in position 86: invalid continuation byte"
     ]
    },
    {
     "name": "stderr",
     "output_type": "stream",
     "text": [
      "Exception ignored in: 'fiona._env.log_error'\n",
      "UnicodeDecodeError: 'utf-8' codec can't decode byte 0xe9 in position 86: invalid continuation byte\n"
     ]
    },
    {
     "ename": "UnicodeDecodeError",
     "evalue": "'utf-8' codec can't decode byte 0xe9 in position 86: invalid continuation byte",
     "output_type": "error",
     "traceback": [
      "\u001b[1;31m---------------------------------------------------------------------------\u001b[0m",
      "\u001b[1;31mUnicodeDecodeError\u001b[0m                        Traceback (most recent call last)",
      "\u001b[1;31mUnicodeDecodeError\u001b[0m: 'utf-8' codec can't decode byte 0xe9 in position 86: invalid continuation byte"
     ]
    },
    {
     "name": "stderr",
     "output_type": "stream",
     "text": [
      "Exception ignored in: 'fiona._env.log_error'\n",
      "UnicodeDecodeError: 'utf-8' codec can't decode byte 0xe9 in position 86: invalid continuation byte\n"
     ]
    },
    {
     "ename": "UnicodeDecodeError",
     "evalue": "'utf-8' codec can't decode byte 0xe9 in position 85: invalid continuation byte",
     "output_type": "error",
     "traceback": [
      "\u001b[1;31m---------------------------------------------------------------------------\u001b[0m",
      "\u001b[1;31mUnicodeDecodeError\u001b[0m                        Traceback (most recent call last)",
      "\u001b[1;31mUnicodeDecodeError\u001b[0m: 'utf-8' codec can't decode byte 0xe9 in position 85: invalid continuation byte"
     ]
    },
    {
     "name": "stderr",
     "output_type": "stream",
     "text": [
      "Exception ignored in: 'fiona._env.log_error'\n",
      "UnicodeDecodeError: 'utf-8' codec can't decode byte 0xe9 in position 85: invalid continuation byte\n"
     ]
    },
    {
     "ename": "UnicodeDecodeError",
     "evalue": "'utf-8' codec can't decode byte 0xe9 in position 85: invalid continuation byte",
     "output_type": "error",
     "traceback": [
      "\u001b[1;31m---------------------------------------------------------------------------\u001b[0m",
      "\u001b[1;31mUnicodeDecodeError\u001b[0m                        Traceback (most recent call last)",
      "\u001b[1;31mUnicodeDecodeError\u001b[0m: 'utf-8' codec can't decode byte 0xe9 in position 85: invalid continuation byte"
     ]
    },
    {
     "name": "stderr",
     "output_type": "stream",
     "text": [
      "Exception ignored in: 'fiona._env.log_error'\n",
      "UnicodeDecodeError: 'utf-8' codec can't decode byte 0xe9 in position 85: invalid continuation byte\n"
     ]
    },
    {
     "ename": "UnicodeDecodeError",
     "evalue": "'utf-8' codec can't decode byte 0xe9 in position 86: invalid continuation byte",
     "output_type": "error",
     "traceback": [
      "\u001b[1;31m---------------------------------------------------------------------------\u001b[0m",
      "\u001b[1;31mUnicodeDecodeError\u001b[0m                        Traceback (most recent call last)",
      "\u001b[1;31mUnicodeDecodeError\u001b[0m: 'utf-8' codec can't decode byte 0xe9 in position 86: invalid continuation byte"
     ]
    },
    {
     "name": "stderr",
     "output_type": "stream",
     "text": [
      "Exception ignored in: 'fiona._env.log_error'\n",
      "UnicodeDecodeError: 'utf-8' codec can't decode byte 0xe9 in position 86: invalid continuation byte\n"
     ]
    },
    {
     "ename": "UnicodeDecodeError",
     "evalue": "'utf-8' codec can't decode byte 0xe9 in position 86: invalid continuation byte",
     "output_type": "error",
     "traceback": [
      "\u001b[1;31m---------------------------------------------------------------------------\u001b[0m",
      "\u001b[1;31mUnicodeDecodeError\u001b[0m                        Traceback (most recent call last)",
      "\u001b[1;31mUnicodeDecodeError\u001b[0m: 'utf-8' codec can't decode byte 0xe9 in position 86: invalid continuation byte"
     ]
    },
    {
     "name": "stderr",
     "output_type": "stream",
     "text": [
      "Exception ignored in: 'fiona._env.log_error'\n",
      "UnicodeDecodeError: 'utf-8' codec can't decode byte 0xe9 in position 86: invalid continuation byte\n"
     ]
    },
    {
     "ename": "UnicodeDecodeError",
     "evalue": "'utf-8' codec can't decode byte 0xe9 in position 91: invalid continuation byte",
     "output_type": "error",
     "traceback": [
      "\u001b[1;31m---------------------------------------------------------------------------\u001b[0m",
      "\u001b[1;31mUnicodeDecodeError\u001b[0m                        Traceback (most recent call last)",
      "\u001b[1;31mUnicodeDecodeError\u001b[0m: 'utf-8' codec can't decode byte 0xe9 in position 91: invalid continuation byte"
     ]
    },
    {
     "name": "stderr",
     "output_type": "stream",
     "text": [
      "Exception ignored in: 'fiona._env.log_error'\n",
      "UnicodeDecodeError: 'utf-8' codec can't decode byte 0xe9 in position 91: invalid continuation byte\n"
     ]
    },
    {
     "ename": "UnicodeDecodeError",
     "evalue": "'utf-8' codec can't decode byte 0xe9 in position 91: invalid continuation byte",
     "output_type": "error",
     "traceback": [
      "\u001b[1;31m---------------------------------------------------------------------------\u001b[0m",
      "\u001b[1;31mUnicodeDecodeError\u001b[0m                        Traceback (most recent call last)",
      "\u001b[1;31mUnicodeDecodeError\u001b[0m: 'utf-8' codec can't decode byte 0xe9 in position 91: invalid continuation byte"
     ]
    },
    {
     "name": "stderr",
     "output_type": "stream",
     "text": [
      "Exception ignored in: 'fiona._env.log_error'\n",
      "UnicodeDecodeError: 'utf-8' codec can't decode byte 0xe9 in position 91: invalid continuation byte\n"
     ]
    },
    {
     "ename": "UnicodeDecodeError",
     "evalue": "'utf-8' codec can't decode byte 0xe9 in position 86: invalid continuation byte",
     "output_type": "error",
     "traceback": [
      "\u001b[1;31m---------------------------------------------------------------------------\u001b[0m",
      "\u001b[1;31mUnicodeDecodeError\u001b[0m                        Traceback (most recent call last)",
      "\u001b[1;31mUnicodeDecodeError\u001b[0m: 'utf-8' codec can't decode byte 0xe9 in position 86: invalid continuation byte"
     ]
    },
    {
     "name": "stderr",
     "output_type": "stream",
     "text": [
      "Exception ignored in: 'fiona._env.log_error'\n",
      "UnicodeDecodeError: 'utf-8' codec can't decode byte 0xe9 in position 86: invalid continuation byte\n"
     ]
    },
    {
     "ename": "UnicodeDecodeError",
     "evalue": "'utf-8' codec can't decode byte 0xe9 in position 86: invalid continuation byte",
     "output_type": "error",
     "traceback": [
      "\u001b[1;31m---------------------------------------------------------------------------\u001b[0m",
      "\u001b[1;31mUnicodeDecodeError\u001b[0m                        Traceback (most recent call last)",
      "\u001b[1;31mUnicodeDecodeError\u001b[0m: 'utf-8' codec can't decode byte 0xe9 in position 86: invalid continuation byte"
     ]
    },
    {
     "name": "stderr",
     "output_type": "stream",
     "text": [
      "Exception ignored in: 'fiona._env.log_error'\n",
      "UnicodeDecodeError: 'utf-8' codec can't decode byte 0xe9 in position 86: invalid continuation byte\n"
     ]
    },
    {
     "ename": "UnicodeDecodeError",
     "evalue": "'utf-8' codec can't decode byte 0xe9 in position 91: invalid continuation byte",
     "output_type": "error",
     "traceback": [
      "\u001b[1;31m---------------------------------------------------------------------------\u001b[0m",
      "\u001b[1;31mUnicodeDecodeError\u001b[0m                        Traceback (most recent call last)",
      "\u001b[1;31mUnicodeDecodeError\u001b[0m: 'utf-8' codec can't decode byte 0xe9 in position 91: invalid continuation byte"
     ]
    },
    {
     "name": "stderr",
     "output_type": "stream",
     "text": [
      "Exception ignored in: 'fiona._env.log_error'\n",
      "UnicodeDecodeError: 'utf-8' codec can't decode byte 0xe9 in position 91: invalid continuation byte\n"
     ]
    },
    {
     "ename": "UnicodeDecodeError",
     "evalue": "'utf-8' codec can't decode byte 0xe9 in position 91: invalid continuation byte",
     "output_type": "error",
     "traceback": [
      "\u001b[1;31m---------------------------------------------------------------------------\u001b[0m",
      "\u001b[1;31mUnicodeDecodeError\u001b[0m                        Traceback (most recent call last)",
      "\u001b[1;31mUnicodeDecodeError\u001b[0m: 'utf-8' codec can't decode byte 0xe9 in position 91: invalid continuation byte"
     ]
    },
    {
     "name": "stderr",
     "output_type": "stream",
     "text": [
      "Exception ignored in: 'fiona._env.log_error'\n",
      "UnicodeDecodeError: 'utf-8' codec can't decode byte 0xe9 in position 91: invalid continuation byte\n"
     ]
    },
    {
     "ename": "UnicodeDecodeError",
     "evalue": "'utf-8' codec can't decode byte 0xe9 in position 85: invalid continuation byte",
     "output_type": "error",
     "traceback": [
      "\u001b[1;31m---------------------------------------------------------------------------\u001b[0m",
      "\u001b[1;31mUnicodeDecodeError\u001b[0m                        Traceback (most recent call last)",
      "\u001b[1;31mUnicodeDecodeError\u001b[0m: 'utf-8' codec can't decode byte 0xe9 in position 85: invalid continuation byte"
     ]
    },
    {
     "name": "stderr",
     "output_type": "stream",
     "text": [
      "Exception ignored in: 'fiona._env.log_error'\n",
      "UnicodeDecodeError: 'utf-8' codec can't decode byte 0xe9 in position 85: invalid continuation byte\n"
     ]
    },
    {
     "ename": "UnicodeDecodeError",
     "evalue": "'utf-8' codec can't decode byte 0xe9 in position 85: invalid continuation byte",
     "output_type": "error",
     "traceback": [
      "\u001b[1;31m---------------------------------------------------------------------------\u001b[0m",
      "\u001b[1;31mUnicodeDecodeError\u001b[0m                        Traceback (most recent call last)",
      "\u001b[1;31mUnicodeDecodeError\u001b[0m: 'utf-8' codec can't decode byte 0xe9 in position 85: invalid continuation byte"
     ]
    },
    {
     "name": "stderr",
     "output_type": "stream",
     "text": [
      "Exception ignored in: 'fiona._env.log_error'\n",
      "UnicodeDecodeError: 'utf-8' codec can't decode byte 0xe9 in position 85: invalid continuation byte\n"
     ]
    },
    {
     "ename": "UnicodeDecodeError",
     "evalue": "'utf-8' codec can't decode byte 0xe9 in position 88: invalid continuation byte",
     "output_type": "error",
     "traceback": [
      "\u001b[1;31m---------------------------------------------------------------------------\u001b[0m",
      "\u001b[1;31mUnicodeDecodeError\u001b[0m                        Traceback (most recent call last)",
      "\u001b[1;31mUnicodeDecodeError\u001b[0m: 'utf-8' codec can't decode byte 0xe9 in position 88: invalid continuation byte"
     ]
    },
    {
     "name": "stderr",
     "output_type": "stream",
     "text": [
      "Exception ignored in: 'fiona._env.log_error'\n",
      "UnicodeDecodeError: 'utf-8' codec can't decode byte 0xe9 in position 88: invalid continuation byte\n"
     ]
    },
    {
     "ename": "UnicodeDecodeError",
     "evalue": "'utf-8' codec can't decode byte 0xe9 in position 88: invalid continuation byte",
     "output_type": "error",
     "traceback": [
      "\u001b[1;31m---------------------------------------------------------------------------\u001b[0m",
      "\u001b[1;31mUnicodeDecodeError\u001b[0m                        Traceback (most recent call last)",
      "\u001b[1;31mUnicodeDecodeError\u001b[0m: 'utf-8' codec can't decode byte 0xe9 in position 88: invalid continuation byte"
     ]
    },
    {
     "name": "stderr",
     "output_type": "stream",
     "text": [
      "Exception ignored in: 'fiona._env.log_error'\n",
      "UnicodeDecodeError: 'utf-8' codec can't decode byte 0xe9 in position 88: invalid continuation byte\n"
     ]
    },
    {
     "ename": "UnicodeDecodeError",
     "evalue": "'utf-8' codec can't decode byte 0xe9 in position 85: invalid continuation byte",
     "output_type": "error",
     "traceback": [
      "\u001b[1;31m---------------------------------------------------------------------------\u001b[0m",
      "\u001b[1;31mUnicodeDecodeError\u001b[0m                        Traceback (most recent call last)",
      "\u001b[1;31mUnicodeDecodeError\u001b[0m: 'utf-8' codec can't decode byte 0xe9 in position 85: invalid continuation byte"
     ]
    },
    {
     "name": "stderr",
     "output_type": "stream",
     "text": [
      "Exception ignored in: 'fiona._env.log_error'\n",
      "UnicodeDecodeError: 'utf-8' codec can't decode byte 0xe9 in position 85: invalid continuation byte\n"
     ]
    },
    {
     "ename": "UnicodeDecodeError",
     "evalue": "'utf-8' codec can't decode byte 0xe9 in position 85: invalid continuation byte",
     "output_type": "error",
     "traceback": [
      "\u001b[1;31m---------------------------------------------------------------------------\u001b[0m",
      "\u001b[1;31mUnicodeDecodeError\u001b[0m                        Traceback (most recent call last)",
      "\u001b[1;31mUnicodeDecodeError\u001b[0m: 'utf-8' codec can't decode byte 0xe9 in position 85: invalid continuation byte"
     ]
    },
    {
     "name": "stderr",
     "output_type": "stream",
     "text": [
      "Exception ignored in: 'fiona._env.log_error'\n",
      "UnicodeDecodeError: 'utf-8' codec can't decode byte 0xe9 in position 85: invalid continuation byte\n"
     ]
    },
    {
     "ename": "UnicodeDecodeError",
     "evalue": "'utf-8' codec can't decode byte 0xe9 in position 86: invalid continuation byte",
     "output_type": "error",
     "traceback": [
      "\u001b[1;31m---------------------------------------------------------------------------\u001b[0m",
      "\u001b[1;31mUnicodeDecodeError\u001b[0m                        Traceback (most recent call last)",
      "\u001b[1;31mUnicodeDecodeError\u001b[0m: 'utf-8' codec can't decode byte 0xe9 in position 86: invalid continuation byte"
     ]
    },
    {
     "name": "stderr",
     "output_type": "stream",
     "text": [
      "Exception ignored in: 'fiona._env.log_error'\n",
      "UnicodeDecodeError: 'utf-8' codec can't decode byte 0xe9 in position 86: invalid continuation byte\n"
     ]
    },
    {
     "ename": "UnicodeDecodeError",
     "evalue": "'utf-8' codec can't decode byte 0xe9 in position 86: invalid continuation byte",
     "output_type": "error",
     "traceback": [
      "\u001b[1;31m---------------------------------------------------------------------------\u001b[0m",
      "\u001b[1;31mUnicodeDecodeError\u001b[0m                        Traceback (most recent call last)",
      "\u001b[1;31mUnicodeDecodeError\u001b[0m: 'utf-8' codec can't decode byte 0xe9 in position 86: invalid continuation byte"
     ]
    },
    {
     "name": "stderr",
     "output_type": "stream",
     "text": [
      "Exception ignored in: 'fiona._env.log_error'\n",
      "UnicodeDecodeError: 'utf-8' codec can't decode byte 0xe9 in position 86: invalid continuation byte\n"
     ]
    },
    {
     "ename": "UnicodeDecodeError",
     "evalue": "'utf-8' codec can't decode byte 0xe9 in position 85: invalid continuation byte",
     "output_type": "error",
     "traceback": [
      "\u001b[1;31m---------------------------------------------------------------------------\u001b[0m",
      "\u001b[1;31mUnicodeDecodeError\u001b[0m                        Traceback (most recent call last)",
      "\u001b[1;31mUnicodeDecodeError\u001b[0m: 'utf-8' codec can't decode byte 0xe9 in position 85: invalid continuation byte"
     ]
    },
    {
     "name": "stderr",
     "output_type": "stream",
     "text": [
      "Exception ignored in: 'fiona._env.log_error'\n",
      "UnicodeDecodeError: 'utf-8' codec can't decode byte 0xe9 in position 85: invalid continuation byte\n"
     ]
    },
    {
     "ename": "UnicodeDecodeError",
     "evalue": "'utf-8' codec can't decode byte 0xe9 in position 85: invalid continuation byte",
     "output_type": "error",
     "traceback": [
      "\u001b[1;31m---------------------------------------------------------------------------\u001b[0m",
      "\u001b[1;31mUnicodeDecodeError\u001b[0m                        Traceback (most recent call last)",
      "\u001b[1;31mUnicodeDecodeError\u001b[0m: 'utf-8' codec can't decode byte 0xe9 in position 85: invalid continuation byte"
     ]
    },
    {
     "name": "stderr",
     "output_type": "stream",
     "text": [
      "Exception ignored in: 'fiona._env.log_error'\n",
      "UnicodeDecodeError: 'utf-8' codec can't decode byte 0xe9 in position 85: invalid continuation byte\n"
     ]
    },
    {
     "ename": "UnicodeDecodeError",
     "evalue": "'utf-8' codec can't decode byte 0xe9 in position 86: invalid continuation byte",
     "output_type": "error",
     "traceback": [
      "\u001b[1;31m---------------------------------------------------------------------------\u001b[0m",
      "\u001b[1;31mUnicodeDecodeError\u001b[0m                        Traceback (most recent call last)",
      "\u001b[1;31mUnicodeDecodeError\u001b[0m: 'utf-8' codec can't decode byte 0xe9 in position 86: invalid continuation byte"
     ]
    },
    {
     "name": "stderr",
     "output_type": "stream",
     "text": [
      "Exception ignored in: 'fiona._env.log_error'\n",
      "UnicodeDecodeError: 'utf-8' codec can't decode byte 0xe9 in position 86: invalid continuation byte\n"
     ]
    },
    {
     "ename": "UnicodeDecodeError",
     "evalue": "'utf-8' codec can't decode byte 0xe9 in position 86: invalid continuation byte",
     "output_type": "error",
     "traceback": [
      "\u001b[1;31m---------------------------------------------------------------------------\u001b[0m",
      "\u001b[1;31mUnicodeDecodeError\u001b[0m                        Traceback (most recent call last)",
      "\u001b[1;31mUnicodeDecodeError\u001b[0m: 'utf-8' codec can't decode byte 0xe9 in position 86: invalid continuation byte"
     ]
    },
    {
     "name": "stderr",
     "output_type": "stream",
     "text": [
      "Exception ignored in: 'fiona._env.log_error'\n",
      "UnicodeDecodeError: 'utf-8' codec can't decode byte 0xe9 in position 86: invalid continuation byte\n"
     ]
    },
    {
     "ename": "UnicodeDecodeError",
     "evalue": "'utf-8' codec can't decode byte 0xe9 in position 91: invalid continuation byte",
     "output_type": "error",
     "traceback": [
      "\u001b[1;31m---------------------------------------------------------------------------\u001b[0m",
      "\u001b[1;31mUnicodeDecodeError\u001b[0m                        Traceback (most recent call last)",
      "\u001b[1;31mUnicodeDecodeError\u001b[0m: 'utf-8' codec can't decode byte 0xe9 in position 91: invalid continuation byte"
     ]
    },
    {
     "name": "stderr",
     "output_type": "stream",
     "text": [
      "Exception ignored in: 'fiona._env.log_error'\n",
      "UnicodeDecodeError: 'utf-8' codec can't decode byte 0xe9 in position 91: invalid continuation byte\n"
     ]
    },
    {
     "ename": "UnicodeDecodeError",
     "evalue": "'utf-8' codec can't decode byte 0xe9 in position 91: invalid continuation byte",
     "output_type": "error",
     "traceback": [
      "\u001b[1;31m---------------------------------------------------------------------------\u001b[0m",
      "\u001b[1;31mUnicodeDecodeError\u001b[0m                        Traceback (most recent call last)",
      "\u001b[1;31mUnicodeDecodeError\u001b[0m: 'utf-8' codec can't decode byte 0xe9 in position 91: invalid continuation byte"
     ]
    },
    {
     "name": "stderr",
     "output_type": "stream",
     "text": [
      "Exception ignored in: 'fiona._env.log_error'\n",
      "UnicodeDecodeError: 'utf-8' codec can't decode byte 0xe9 in position 91: invalid continuation byte\n"
     ]
    },
    {
     "ename": "UnicodeDecodeError",
     "evalue": "'utf-8' codec can't decode byte 0xe9 in position 86: invalid continuation byte",
     "output_type": "error",
     "traceback": [
      "\u001b[1;31m---------------------------------------------------------------------------\u001b[0m",
      "\u001b[1;31mUnicodeDecodeError\u001b[0m                        Traceback (most recent call last)",
      "\u001b[1;31mUnicodeDecodeError\u001b[0m: 'utf-8' codec can't decode byte 0xe9 in position 86: invalid continuation byte"
     ]
    },
    {
     "name": "stderr",
     "output_type": "stream",
     "text": [
      "Exception ignored in: 'fiona._env.log_error'\n",
      "UnicodeDecodeError: 'utf-8' codec can't decode byte 0xe9 in position 86: invalid continuation byte\n"
     ]
    },
    {
     "ename": "UnicodeDecodeError",
     "evalue": "'utf-8' codec can't decode byte 0xe9 in position 86: invalid continuation byte",
     "output_type": "error",
     "traceback": [
      "\u001b[1;31m---------------------------------------------------------------------------\u001b[0m",
      "\u001b[1;31mUnicodeDecodeError\u001b[0m                        Traceback (most recent call last)",
      "\u001b[1;31mUnicodeDecodeError\u001b[0m: 'utf-8' codec can't decode byte 0xe9 in position 86: invalid continuation byte"
     ]
    },
    {
     "name": "stderr",
     "output_type": "stream",
     "text": [
      "Exception ignored in: 'fiona._env.log_error'\n",
      "UnicodeDecodeError: 'utf-8' codec can't decode byte 0xe9 in position 86: invalid continuation byte\n"
     ]
    },
    {
     "ename": "UnicodeDecodeError",
     "evalue": "'utf-8' codec can't decode byte 0xe9 in position 91: invalid continuation byte",
     "output_type": "error",
     "traceback": [
      "\u001b[1;31m---------------------------------------------------------------------------\u001b[0m",
      "\u001b[1;31mUnicodeDecodeError\u001b[0m                        Traceback (most recent call last)",
      "\u001b[1;31mUnicodeDecodeError\u001b[0m: 'utf-8' codec can't decode byte 0xe9 in position 91: invalid continuation byte"
     ]
    },
    {
     "name": "stderr",
     "output_type": "stream",
     "text": [
      "Exception ignored in: 'fiona._env.log_error'\n",
      "UnicodeDecodeError: 'utf-8' codec can't decode byte 0xe9 in position 91: invalid continuation byte\n"
     ]
    },
    {
     "ename": "UnicodeDecodeError",
     "evalue": "'utf-8' codec can't decode byte 0xe9 in position 91: invalid continuation byte",
     "output_type": "error",
     "traceback": [
      "\u001b[1;31m---------------------------------------------------------------------------\u001b[0m",
      "\u001b[1;31mUnicodeDecodeError\u001b[0m                        Traceback (most recent call last)",
      "\u001b[1;31mUnicodeDecodeError\u001b[0m: 'utf-8' codec can't decode byte 0xe9 in position 91: invalid continuation byte"
     ]
    },
    {
     "name": "stderr",
     "output_type": "stream",
     "text": [
      "Exception ignored in: 'fiona._env.log_error'\n",
      "UnicodeDecodeError: 'utf-8' codec can't decode byte 0xe9 in position 91: invalid continuation byte\n"
     ]
    },
    {
     "ename": "UnicodeDecodeError",
     "evalue": "'utf-8' codec can't decode byte 0xe9 in position 85: invalid continuation byte",
     "output_type": "error",
     "traceback": [
      "\u001b[1;31m---------------------------------------------------------------------------\u001b[0m",
      "\u001b[1;31mUnicodeDecodeError\u001b[0m                        Traceback (most recent call last)",
      "\u001b[1;31mUnicodeDecodeError\u001b[0m: 'utf-8' codec can't decode byte 0xe9 in position 85: invalid continuation byte"
     ]
    },
    {
     "name": "stderr",
     "output_type": "stream",
     "text": [
      "Exception ignored in: 'fiona._env.log_error'\n",
      "UnicodeDecodeError: 'utf-8' codec can't decode byte 0xe9 in position 85: invalid continuation byte\n"
     ]
    },
    {
     "ename": "UnicodeDecodeError",
     "evalue": "'utf-8' codec can't decode byte 0xe9 in position 85: invalid continuation byte",
     "output_type": "error",
     "traceback": [
      "\u001b[1;31m---------------------------------------------------------------------------\u001b[0m",
      "\u001b[1;31mUnicodeDecodeError\u001b[0m                        Traceback (most recent call last)",
      "\u001b[1;31mUnicodeDecodeError\u001b[0m: 'utf-8' codec can't decode byte 0xe9 in position 85: invalid continuation byte"
     ]
    },
    {
     "name": "stderr",
     "output_type": "stream",
     "text": [
      "Exception ignored in: 'fiona._env.log_error'\n",
      "UnicodeDecodeError: 'utf-8' codec can't decode byte 0xe9 in position 85: invalid continuation byte\n"
     ]
    },
    {
     "ename": "UnicodeDecodeError",
     "evalue": "'utf-8' codec can't decode byte 0xe9 in position 88: invalid continuation byte",
     "output_type": "error",
     "traceback": [
      "\u001b[1;31m---------------------------------------------------------------------------\u001b[0m",
      "\u001b[1;31mUnicodeDecodeError\u001b[0m                        Traceback (most recent call last)",
      "\u001b[1;31mUnicodeDecodeError\u001b[0m: 'utf-8' codec can't decode byte 0xe9 in position 88: invalid continuation byte"
     ]
    },
    {
     "name": "stderr",
     "output_type": "stream",
     "text": [
      "Exception ignored in: 'fiona._env.log_error'\n",
      "UnicodeDecodeError: 'utf-8' codec can't decode byte 0xe9 in position 88: invalid continuation byte\n"
     ]
    },
    {
     "ename": "UnicodeDecodeError",
     "evalue": "'utf-8' codec can't decode byte 0xe9 in position 88: invalid continuation byte",
     "output_type": "error",
     "traceback": [
      "\u001b[1;31m---------------------------------------------------------------------------\u001b[0m",
      "\u001b[1;31mUnicodeDecodeError\u001b[0m                        Traceback (most recent call last)",
      "\u001b[1;31mUnicodeDecodeError\u001b[0m: 'utf-8' codec can't decode byte 0xe9 in position 88: invalid continuation byte"
     ]
    },
    {
     "name": "stderr",
     "output_type": "stream",
     "text": [
      "Exception ignored in: 'fiona._env.log_error'\n",
      "UnicodeDecodeError: 'utf-8' codec can't decode byte 0xe9 in position 88: invalid continuation byte\n"
     ]
    }
   ],
   "source": [
    "%load_ext autoreload\n",
    "%autoreload 2\n",
    "import sys #c'est pas propre mais pour le moment pour importer mes modules perso dans le notebook je ne sais pas faire\n",
    "sys.path.append(r'C:\\Users\\Martin\\git\\Outils\\Outils\\Martin_Perso')\n",
    "import traitement_od as t\n",
    "import fiona\n",
    "import pandas as pd\n",
    "import numpy as np\n",
    "import altair as alt\n",
    "import datetime as dt"
   ]
  },
  {
   "cell_type": "code",
   "execution_count": 2,
   "metadata": {},
   "outputs": [],
   "source": [
    "df_journee=t.ouvrir_fichier_lapi('2019-01-29 00:00:00','2019-01-30 23:59:00')"
   ]
  },
  {
   "cell_type": "code",
   "execution_count": 3,
   "metadata": {},
   "outputs": [],
   "source": [
    "toto=t.trajet_indirect(df_journee,'2019-01-29 08:00:00', 60, 16, [19,4,5])"
   ]
  },
  {
   "cell_type": "code",
   "execution_count": 4,
   "metadata": {},
   "outputs": [
    {
     "ename": "KeyError",
     "evalue": "'trajet1'",
     "output_type": "error",
     "traceback": [
      "\u001b[1;31m---------------------------------------------------------------------------\u001b[0m",
      "\u001b[1;31mKeyError\u001b[0m                                  Traceback (most recent call last)",
      "\u001b[1;32m<ipython-input-4-4c0bce351853>\u001b[0m in \u001b[0;36m<module>\u001b[1;34m\u001b[0m\n\u001b[1;32m----> 1\u001b[1;33m \u001b[0mtoto\u001b[0m\u001b[1;33m.\u001b[0m\u001b[0mdico_traj_directs\u001b[0m\u001b[1;33m[\u001b[0m\u001b[1;34m'trajet1'\u001b[0m\u001b[1;33m]\u001b[0m\u001b[1;33m.\u001b[0m\u001b[0mdf_tps_parcours_pl_final\u001b[0m\u001b[1;33m\u001b[0m\u001b[1;33m\u001b[0m\u001b[0m\n\u001b[0m",
      "\u001b[1;31mKeyError\u001b[0m: 'trajet1'"
     ]
    }
   ],
   "source": [
    "toto.dico_traj_directs['trajet1'].df_tps_parcours_pl_final"
   ]
  },
  {
   "cell_type": "code",
   "execution_count": 34,
   "metadata": {},
   "outputs": [
    {
     "data": {
      "text/plain": [
       "{'trajet0': <traitement_od.df_tps_parcours at 0x1e18eda79e8>,\n",
       " 'trajet1': <traitement_od.df_tps_parcours at 0x1e18eda7a58>}"
      ]
     },
     "execution_count": 34,
     "metadata": {},
     "output_type": "execute_result"
    }
   ],
   "source": [
    "toto.dico_traj_directs"
   ]
  },
  {
   "cell_type": "code",
   "execution_count": 35,
   "metadata": {},
   "outputs": [
    {
     "data": {
      "text/html": [
       "<div>\n",
       "<style scoped>\n",
       "    .dataframe tbody tr th:only-of-type {\n",
       "        vertical-align: middle;\n",
       "    }\n",
       "\n",
       "    .dataframe tbody tr th {\n",
       "        vertical-align: top;\n",
       "    }\n",
       "\n",
       "    .dataframe thead th {\n",
       "        text-align: right;\n",
       "    }\n",
       "</style>\n",
       "<table border=\"1\" class=\"dataframe\">\n",
       "  <thead>\n",
       "    <tr style=\"text-align: right;\">\n",
       "      <th></th>\n",
       "      <th>immat</th>\n",
       "      <th>date_cam_1</th>\n",
       "      <th>date_cam_2</th>\n",
       "      <th>cam_1</th>\n",
       "      <th>cam_2</th>\n",
       "      <th>tps_parcours</th>\n",
       "    </tr>\n",
       "  </thead>\n",
       "  <tbody>\n",
       "    <tr>\n",
       "      <th>0</th>\n",
       "      <td>bf9dfd50a4a693085e3080156f11c25314f96f03</td>\n",
       "      <td>2019-01-29 08:00:56</td>\n",
       "      <td>2019-01-29 08:37:18</td>\n",
       "      <td>19</td>\n",
       "      <td>5</td>\n",
       "      <td>00:36:22</td>\n",
       "    </tr>\n",
       "    <tr>\n",
       "      <th>1</th>\n",
       "      <td>cf4f7ddbb3a6d9006e029777df712a53c2d76992</td>\n",
       "      <td>2019-01-29 08:01:07</td>\n",
       "      <td>2019-01-29 08:37:04</td>\n",
       "      <td>19</td>\n",
       "      <td>5</td>\n",
       "      <td>00:35:57</td>\n",
       "    </tr>\n",
       "    <tr>\n",
       "      <th>2</th>\n",
       "      <td>183bc8585ac5a2e26b6d2ada6ce6891235a36b92</td>\n",
       "      <td>2019-01-29 08:01:16</td>\n",
       "      <td>2019-01-29 08:37:20</td>\n",
       "      <td>19</td>\n",
       "      <td>5</td>\n",
       "      <td>00:36:04</td>\n",
       "    </tr>\n",
       "    <tr>\n",
       "      <th>3</th>\n",
       "      <td>dcf2ffa7638b1ae7d0281cbb94d4c7cf0a0912f7</td>\n",
       "      <td>2019-01-29 08:02:34</td>\n",
       "      <td>2019-01-29 08:37:42</td>\n",
       "      <td>19</td>\n",
       "      <td>5</td>\n",
       "      <td>00:35:08</td>\n",
       "    </tr>\n",
       "    <tr>\n",
       "      <th>4</th>\n",
       "      <td>54581cfa0b0f0c1dbe24fd60ca7efcc07439232f</td>\n",
       "      <td>2019-01-29 08:02:19</td>\n",
       "      <td>2019-01-29 08:38:07</td>\n",
       "      <td>19</td>\n",
       "      <td>5</td>\n",
       "      <td>00:35:48</td>\n",
       "    </tr>\n",
       "    <tr>\n",
       "      <th>5</th>\n",
       "      <td>31c6bdae383e5c4f25e803d55dc539d6c40e6105</td>\n",
       "      <td>2019-01-29 08:03:06</td>\n",
       "      <td>2019-01-29 08:38:16</td>\n",
       "      <td>19</td>\n",
       "      <td>5</td>\n",
       "      <td>00:35:10</td>\n",
       "    </tr>\n",
       "    <tr>\n",
       "      <th>6</th>\n",
       "      <td>77728d75d8ee8a1e27c95ca4077faddbf9dcdd93</td>\n",
       "      <td>2019-01-29 08:03:55</td>\n",
       "      <td>2019-01-29 08:38:48</td>\n",
       "      <td>19</td>\n",
       "      <td>5</td>\n",
       "      <td>00:34:53</td>\n",
       "    </tr>\n",
       "    <tr>\n",
       "      <th>7</th>\n",
       "      <td>59148b1dc67f7b2ca10635cd4fabe903b1fd0b63</td>\n",
       "      <td>2019-01-29 08:04:14</td>\n",
       "      <td>2019-01-29 08:39:21</td>\n",
       "      <td>19</td>\n",
       "      <td>5</td>\n",
       "      <td>00:35:07</td>\n",
       "    </tr>\n",
       "    <tr>\n",
       "      <th>8</th>\n",
       "      <td>3de49b107ce9b3f1add8f9314add9f5a2cadbe50</td>\n",
       "      <td>2019-01-29 08:05:07</td>\n",
       "      <td>2019-01-29 08:39:49</td>\n",
       "      <td>19</td>\n",
       "      <td>5</td>\n",
       "      <td>00:34:42</td>\n",
       "    </tr>\n",
       "    <tr>\n",
       "      <th>9</th>\n",
       "      <td>2a88c4e3e59236321a2098ccc9dd4b47f2eed478</td>\n",
       "      <td>2019-01-29 08:07:23</td>\n",
       "      <td>2019-01-29 08:42:27</td>\n",
       "      <td>19</td>\n",
       "      <td>5</td>\n",
       "      <td>00:35:04</td>\n",
       "    </tr>\n",
       "    <tr>\n",
       "      <th>10</th>\n",
       "      <td>5173f6a0a8ddf8df788408f70f14b0cd71333fd4</td>\n",
       "      <td>2019-01-29 08:08:20</td>\n",
       "      <td>2019-01-29 08:43:36</td>\n",
       "      <td>19</td>\n",
       "      <td>5</td>\n",
       "      <td>00:35:16</td>\n",
       "    </tr>\n",
       "    <tr>\n",
       "      <th>11</th>\n",
       "      <td>b19849562d778b3f0faadab5d6375d196fa00c3e</td>\n",
       "      <td>2019-01-29 08:11:31</td>\n",
       "      <td>2019-01-29 08:46:33</td>\n",
       "      <td>19</td>\n",
       "      <td>5</td>\n",
       "      <td>00:35:02</td>\n",
       "    </tr>\n",
       "    <tr>\n",
       "      <th>12</th>\n",
       "      <td>d8f1940dce090c0dd70898ade323d44a20128cf7</td>\n",
       "      <td>2019-01-29 08:12:06</td>\n",
       "      <td>2019-01-29 08:46:39</td>\n",
       "      <td>19</td>\n",
       "      <td>5</td>\n",
       "      <td>00:34:33</td>\n",
       "    </tr>\n",
       "    <tr>\n",
       "      <th>13</th>\n",
       "      <td>86e69f471e55d135cfde733fd536d2906682b662</td>\n",
       "      <td>2019-01-29 08:12:13</td>\n",
       "      <td>2019-01-29 08:47:29</td>\n",
       "      <td>19</td>\n",
       "      <td>5</td>\n",
       "      <td>00:35:16</td>\n",
       "    </tr>\n",
       "    <tr>\n",
       "      <th>14</th>\n",
       "      <td>07f533c82778a42f4827e08e685d809e36017390</td>\n",
       "      <td>2019-01-29 08:13:13</td>\n",
       "      <td>2019-01-29 08:47:52</td>\n",
       "      <td>19</td>\n",
       "      <td>5</td>\n",
       "      <td>00:34:39</td>\n",
       "    </tr>\n",
       "    <tr>\n",
       "      <th>15</th>\n",
       "      <td>837898ee18a5c0fb78ac9c1001068fcb7c888550</td>\n",
       "      <td>2019-01-29 08:16:29</td>\n",
       "      <td>2019-01-29 08:50:59</td>\n",
       "      <td>19</td>\n",
       "      <td>5</td>\n",
       "      <td>00:34:30</td>\n",
       "    </tr>\n",
       "    <tr>\n",
       "      <th>16</th>\n",
       "      <td>11bec9781f63a9c6ed13dc8e9b73af792f9830c9</td>\n",
       "      <td>2019-01-29 08:20:21</td>\n",
       "      <td>2019-01-29 08:52:39</td>\n",
       "      <td>19</td>\n",
       "      <td>5</td>\n",
       "      <td>00:32:18</td>\n",
       "    </tr>\n",
       "    <tr>\n",
       "      <th>17</th>\n",
       "      <td>bd00a061a3d665bfbae3a1601c4808f329060c96</td>\n",
       "      <td>2019-01-29 08:20:40</td>\n",
       "      <td>2019-01-29 08:52:58</td>\n",
       "      <td>19</td>\n",
       "      <td>5</td>\n",
       "      <td>00:32:18</td>\n",
       "    </tr>\n",
       "    <tr>\n",
       "      <th>18</th>\n",
       "      <td>79974a434856bb71e13c30992f0d169a1a4a66fc</td>\n",
       "      <td>2019-01-29 08:20:55</td>\n",
       "      <td>2019-01-29 08:52:26</td>\n",
       "      <td>19</td>\n",
       "      <td>5</td>\n",
       "      <td>00:31:31</td>\n",
       "    </tr>\n",
       "    <tr>\n",
       "      <th>19</th>\n",
       "      <td>f2e470f4d6b5c0692705d44b98d3a2238f3bdcda</td>\n",
       "      <td>2019-01-29 08:21:42</td>\n",
       "      <td>2019-01-29 08:54:32</td>\n",
       "      <td>19</td>\n",
       "      <td>5</td>\n",
       "      <td>00:32:50</td>\n",
       "    </tr>\n",
       "    <tr>\n",
       "      <th>20</th>\n",
       "      <td>8793c445e0b831e8367bdd14305487a2d97e0e6d</td>\n",
       "      <td>2019-01-29 08:21:58</td>\n",
       "      <td>2019-01-29 08:55:35</td>\n",
       "      <td>19</td>\n",
       "      <td>5</td>\n",
       "      <td>00:33:37</td>\n",
       "    </tr>\n",
       "    <tr>\n",
       "      <th>21</th>\n",
       "      <td>f11c4da90f55f8a43876963c417d3ff755ff1586</td>\n",
       "      <td>2019-01-29 08:24:44</td>\n",
       "      <td>2019-01-29 08:55:36</td>\n",
       "      <td>19</td>\n",
       "      <td>5</td>\n",
       "      <td>00:30:52</td>\n",
       "    </tr>\n",
       "    <tr>\n",
       "      <th>22</th>\n",
       "      <td>2d8c2e8437a5ef6a1d9b79e36dd596c0a6623318</td>\n",
       "      <td>2019-01-29 08:24:52</td>\n",
       "      <td>2019-01-29 08:56:09</td>\n",
       "      <td>19</td>\n",
       "      <td>5</td>\n",
       "      <td>00:31:17</td>\n",
       "    </tr>\n",
       "    <tr>\n",
       "      <th>23</th>\n",
       "      <td>3c5ca02a9a314160f09c48b21cd2c00b99076ca6</td>\n",
       "      <td>2019-01-29 08:24:57</td>\n",
       "      <td>2019-01-29 08:56:52</td>\n",
       "      <td>19</td>\n",
       "      <td>5</td>\n",
       "      <td>00:31:55</td>\n",
       "    </tr>\n",
       "    <tr>\n",
       "      <th>24</th>\n",
       "      <td>7a6a2d05a710b54b4fdbc87ceee6f471f5f7d4ef</td>\n",
       "      <td>2019-01-29 08:25:51</td>\n",
       "      <td>2019-01-29 08:56:48</td>\n",
       "      <td>19</td>\n",
       "      <td>5</td>\n",
       "      <td>00:30:57</td>\n",
       "    </tr>\n",
       "    <tr>\n",
       "      <th>25</th>\n",
       "      <td>a4c03070e934e2f328992c3f7aa77edb9b95396b</td>\n",
       "      <td>2019-01-29 08:26:48</td>\n",
       "      <td>2019-01-29 08:58:34</td>\n",
       "      <td>19</td>\n",
       "      <td>5</td>\n",
       "      <td>00:31:46</td>\n",
       "    </tr>\n",
       "    <tr>\n",
       "      <th>26</th>\n",
       "      <td>b98d1874b66d7c7cdbd98ccf64d98ecadbb8f6cf</td>\n",
       "      <td>2019-01-29 08:26:48</td>\n",
       "      <td>2019-01-29 08:58:35</td>\n",
       "      <td>19</td>\n",
       "      <td>5</td>\n",
       "      <td>00:31:47</td>\n",
       "    </tr>\n",
       "    <tr>\n",
       "      <th>27</th>\n",
       "      <td>fd06f37936c529c968ca4f492ed29a7f0bd090ec</td>\n",
       "      <td>2019-01-29 08:27:50</td>\n",
       "      <td>2019-01-29 08:58:59</td>\n",
       "      <td>19</td>\n",
       "      <td>5</td>\n",
       "      <td>00:31:09</td>\n",
       "    </tr>\n",
       "    <tr>\n",
       "      <th>28</th>\n",
       "      <td>9df9882db4e917b0a36e31cd12f971a772fe315b</td>\n",
       "      <td>2019-01-29 08:28:04</td>\n",
       "      <td>2019-01-29 08:59:16</td>\n",
       "      <td>19</td>\n",
       "      <td>5</td>\n",
       "      <td>00:31:12</td>\n",
       "    </tr>\n",
       "    <tr>\n",
       "      <th>29</th>\n",
       "      <td>3630d036c608518d63820e011c0108ff0cc433b7</td>\n",
       "      <td>2019-01-29 08:27:45</td>\n",
       "      <td>2019-01-29 09:00:07</td>\n",
       "      <td>19</td>\n",
       "      <td>5</td>\n",
       "      <td>00:32:22</td>\n",
       "    </tr>\n",
       "    <tr>\n",
       "      <th>...</th>\n",
       "      <td>...</td>\n",
       "      <td>...</td>\n",
       "      <td>...</td>\n",
       "      <td>...</td>\n",
       "      <td>...</td>\n",
       "      <td>...</td>\n",
       "    </tr>\n",
       "    <tr>\n",
       "      <th>56</th>\n",
       "      <td>7d80e338da0f1a2e6b1ac67b9ef32c6ec4c891c7</td>\n",
       "      <td>2019-01-29 08:45:56</td>\n",
       "      <td>2019-01-29 09:17:43</td>\n",
       "      <td>19</td>\n",
       "      <td>5</td>\n",
       "      <td>00:31:47</td>\n",
       "    </tr>\n",
       "    <tr>\n",
       "      <th>57</th>\n",
       "      <td>fa5a0728a454a234fd49bdd119376c15f98190ea</td>\n",
       "      <td>2019-01-29 08:46:09</td>\n",
       "      <td>2019-01-29 09:17:31</td>\n",
       "      <td>19</td>\n",
       "      <td>5</td>\n",
       "      <td>00:31:22</td>\n",
       "    </tr>\n",
       "    <tr>\n",
       "      <th>58</th>\n",
       "      <td>f7616fe110ff1682384bfbf20c17041b1332b25e</td>\n",
       "      <td>2019-01-29 08:46:42</td>\n",
       "      <td>2019-01-29 09:17:34</td>\n",
       "      <td>19</td>\n",
       "      <td>5</td>\n",
       "      <td>00:30:52</td>\n",
       "    </tr>\n",
       "    <tr>\n",
       "      <th>59</th>\n",
       "      <td>bd03725696c919a12321534d8db6f31190f3d379</td>\n",
       "      <td>2019-01-29 08:46:47</td>\n",
       "      <td>2019-01-29 09:17:46</td>\n",
       "      <td>19</td>\n",
       "      <td>5</td>\n",
       "      <td>00:30:59</td>\n",
       "    </tr>\n",
       "    <tr>\n",
       "      <th>60</th>\n",
       "      <td>6977dd03993043ad98b267fcc73d7f99ea32091b</td>\n",
       "      <td>2019-01-29 08:47:02</td>\n",
       "      <td>2019-01-29 09:18:52</td>\n",
       "      <td>19</td>\n",
       "      <td>5</td>\n",
       "      <td>00:31:50</td>\n",
       "    </tr>\n",
       "    <tr>\n",
       "      <th>61</th>\n",
       "      <td>7962ea39cd4b3d58bcf29ea57d4145b45299dd9d</td>\n",
       "      <td>2019-01-29 08:48:01</td>\n",
       "      <td>2019-01-29 09:18:58</td>\n",
       "      <td>19</td>\n",
       "      <td>5</td>\n",
       "      <td>00:30:57</td>\n",
       "    </tr>\n",
       "    <tr>\n",
       "      <th>62</th>\n",
       "      <td>e06c90876f5a3a1fd2f1e1b8af1da081b0ac7727</td>\n",
       "      <td>2019-01-29 08:29:04</td>\n",
       "      <td>2019-01-29 09:19:39</td>\n",
       "      <td>19</td>\n",
       "      <td>5</td>\n",
       "      <td>00:50:35</td>\n",
       "    </tr>\n",
       "    <tr>\n",
       "      <th>63</th>\n",
       "      <td>6618570aae9475deba8eabaf9d493e0e451f08d2</td>\n",
       "      <td>2019-01-29 08:48:14</td>\n",
       "      <td>2019-01-29 09:20:36</td>\n",
       "      <td>19</td>\n",
       "      <td>5</td>\n",
       "      <td>00:32:22</td>\n",
       "    </tr>\n",
       "    <tr>\n",
       "      <th>64</th>\n",
       "      <td>dc2ad8f7f74aea8424990b8cf0850d1fad034361</td>\n",
       "      <td>2019-01-29 08:48:18</td>\n",
       "      <td>2019-01-29 09:20:31</td>\n",
       "      <td>19</td>\n",
       "      <td>5</td>\n",
       "      <td>00:32:13</td>\n",
       "    </tr>\n",
       "    <tr>\n",
       "      <th>65</th>\n",
       "      <td>bd153a46cd16cb751f120764f252e1de9ed2d23f</td>\n",
       "      <td>2019-01-29 08:49:29</td>\n",
       "      <td>2019-01-29 09:20:28</td>\n",
       "      <td>19</td>\n",
       "      <td>5</td>\n",
       "      <td>00:30:59</td>\n",
       "    </tr>\n",
       "    <tr>\n",
       "      <th>66</th>\n",
       "      <td>5b3b74c6b72a9983f99c0eefb21f4bf270388df4</td>\n",
       "      <td>2019-01-29 08:48:32</td>\n",
       "      <td>2019-01-29 09:20:40</td>\n",
       "      <td>19</td>\n",
       "      <td>5</td>\n",
       "      <td>00:32:08</td>\n",
       "    </tr>\n",
       "    <tr>\n",
       "      <th>67</th>\n",
       "      <td>e9405f8ab160c41ffdb994c8db2fc4ca5a2a0801</td>\n",
       "      <td>2019-01-29 08:50:24</td>\n",
       "      <td>2019-01-29 09:21:35</td>\n",
       "      <td>19</td>\n",
       "      <td>5</td>\n",
       "      <td>00:31:11</td>\n",
       "    </tr>\n",
       "    <tr>\n",
       "      <th>68</th>\n",
       "      <td>8a9adb7042a29470071bd93bceaf6e420f1df3c2</td>\n",
       "      <td>2019-01-29 08:50:20</td>\n",
       "      <td>2019-01-29 09:21:59</td>\n",
       "      <td>19</td>\n",
       "      <td>5</td>\n",
       "      <td>00:31:39</td>\n",
       "    </tr>\n",
       "    <tr>\n",
       "      <th>69</th>\n",
       "      <td>232f84834d860bcc9c11b8c6bc2c0467f53cb00a</td>\n",
       "      <td>2019-01-29 08:50:06</td>\n",
       "      <td>2019-01-29 09:22:34</td>\n",
       "      <td>19</td>\n",
       "      <td>5</td>\n",
       "      <td>00:32:28</td>\n",
       "    </tr>\n",
       "    <tr>\n",
       "      <th>70</th>\n",
       "      <td>39f21437744f4ed25450bf3119d3007744a32f8c</td>\n",
       "      <td>2019-01-29 08:50:59</td>\n",
       "      <td>2019-01-29 09:23:16</td>\n",
       "      <td>19</td>\n",
       "      <td>5</td>\n",
       "      <td>00:32:17</td>\n",
       "    </tr>\n",
       "    <tr>\n",
       "      <th>71</th>\n",
       "      <td>9cbae165f2225286a9cd3e4531abb4c4e0603f32</td>\n",
       "      <td>2019-01-29 08:51:57</td>\n",
       "      <td>2019-01-29 09:23:07</td>\n",
       "      <td>19</td>\n",
       "      <td>5</td>\n",
       "      <td>00:31:10</td>\n",
       "    </tr>\n",
       "    <tr>\n",
       "      <th>72</th>\n",
       "      <td>214d6b86318b472f8654918e2a05d12bf6107809</td>\n",
       "      <td>2019-01-29 08:52:24</td>\n",
       "      <td>2019-01-29 09:23:54</td>\n",
       "      <td>19</td>\n",
       "      <td>5</td>\n",
       "      <td>00:31:30</td>\n",
       "    </tr>\n",
       "    <tr>\n",
       "      <th>73</th>\n",
       "      <td>85e5a77f244a09f92c13ea4771dbd2bdf8c0a81a</td>\n",
       "      <td>2019-01-29 08:52:50</td>\n",
       "      <td>2019-01-29 09:23:58</td>\n",
       "      <td>19</td>\n",
       "      <td>5</td>\n",
       "      <td>00:31:08</td>\n",
       "    </tr>\n",
       "    <tr>\n",
       "      <th>74</th>\n",
       "      <td>a5c321613b1856762c53bc451b50aca46ba21a8b</td>\n",
       "      <td>2019-01-29 08:52:39</td>\n",
       "      <td>2019-01-29 09:24:32</td>\n",
       "      <td>19</td>\n",
       "      <td>5</td>\n",
       "      <td>00:31:53</td>\n",
       "    </tr>\n",
       "    <tr>\n",
       "      <th>75</th>\n",
       "      <td>b6a0a8bc25839592758497678774ff22611a8c2c</td>\n",
       "      <td>2019-01-29 08:52:55</td>\n",
       "      <td>2019-01-29 09:24:50</td>\n",
       "      <td>19</td>\n",
       "      <td>5</td>\n",
       "      <td>00:31:55</td>\n",
       "    </tr>\n",
       "    <tr>\n",
       "      <th>76</th>\n",
       "      <td>eed964834dfb99b6d544003e14a8f141b4d44d78</td>\n",
       "      <td>2019-01-29 08:53:26</td>\n",
       "      <td>2019-01-29 09:25:30</td>\n",
       "      <td>19</td>\n",
       "      <td>5</td>\n",
       "      <td>00:32:04</td>\n",
       "    </tr>\n",
       "    <tr>\n",
       "      <th>77</th>\n",
       "      <td>9b3373d6ea7cdf14ba7d8a18447d59797e6102b3</td>\n",
       "      <td>2019-01-29 08:54:30</td>\n",
       "      <td>2019-01-29 09:26:45</td>\n",
       "      <td>19</td>\n",
       "      <td>5</td>\n",
       "      <td>00:32:15</td>\n",
       "    </tr>\n",
       "    <tr>\n",
       "      <th>78</th>\n",
       "      <td>ed0984fefadfe837c1ee45c8b22dbfad97ba33b4</td>\n",
       "      <td>2019-01-29 08:55:06</td>\n",
       "      <td>2019-01-29 09:26:47</td>\n",
       "      <td>19</td>\n",
       "      <td>5</td>\n",
       "      <td>00:31:41</td>\n",
       "    </tr>\n",
       "    <tr>\n",
       "      <th>79</th>\n",
       "      <td>3263e27f1271dfecf34ce4ada1ec4e5fa7f63598</td>\n",
       "      <td>2019-01-29 08:56:18</td>\n",
       "      <td>2019-01-29 09:28:10</td>\n",
       "      <td>19</td>\n",
       "      <td>5</td>\n",
       "      <td>00:31:52</td>\n",
       "    </tr>\n",
       "    <tr>\n",
       "      <th>80</th>\n",
       "      <td>323291862da68b87d856782538c67dec94ba9e72</td>\n",
       "      <td>2019-01-29 08:56:28</td>\n",
       "      <td>2019-01-29 09:28:19</td>\n",
       "      <td>19</td>\n",
       "      <td>5</td>\n",
       "      <td>00:31:51</td>\n",
       "    </tr>\n",
       "    <tr>\n",
       "      <th>81</th>\n",
       "      <td>d1035126f823cda002eda7bd6e8846d4c036529a</td>\n",
       "      <td>2019-01-29 08:57:28</td>\n",
       "      <td>2019-01-29 09:28:45</td>\n",
       "      <td>19</td>\n",
       "      <td>5</td>\n",
       "      <td>00:31:17</td>\n",
       "    </tr>\n",
       "    <tr>\n",
       "      <th>82</th>\n",
       "      <td>b1f4345a48f7b62cf3c1cec0a90e9d80cba70a5a</td>\n",
       "      <td>2019-01-29 08:59:03</td>\n",
       "      <td>2019-01-29 09:31:30</td>\n",
       "      <td>19</td>\n",
       "      <td>5</td>\n",
       "      <td>00:32:27</td>\n",
       "    </tr>\n",
       "    <tr>\n",
       "      <th>83</th>\n",
       "      <td>c85c801f4a621c41007bfb4a562d114167f56f1e</td>\n",
       "      <td>2019-01-29 08:59:39</td>\n",
       "      <td>2019-01-29 09:30:23</td>\n",
       "      <td>19</td>\n",
       "      <td>5</td>\n",
       "      <td>00:30:44</td>\n",
       "    </tr>\n",
       "    <tr>\n",
       "      <th>84</th>\n",
       "      <td>b4f1a3799f5b9afd77f8ca32552f2bcdc7bff4e3</td>\n",
       "      <td>2019-01-29 08:59:50</td>\n",
       "      <td>2019-01-29 09:30:52</td>\n",
       "      <td>19</td>\n",
       "      <td>5</td>\n",
       "      <td>00:31:02</td>\n",
       "    </tr>\n",
       "    <tr>\n",
       "      <th>85</th>\n",
       "      <td>63a28b8a61b99c413cd15694f6485742252d7ecb</td>\n",
       "      <td>2019-01-29 08:59:43</td>\n",
       "      <td>2019-01-29 09:30:48</td>\n",
       "      <td>19</td>\n",
       "      <td>5</td>\n",
       "      <td>00:31:05</td>\n",
       "    </tr>\n",
       "  </tbody>\n",
       "</table>\n",
       "<p>86 rows × 6 columns</p>\n",
       "</div>"
      ],
      "text/plain": [
       "                                       immat          date_cam_1  \\\n",
       "0   bf9dfd50a4a693085e3080156f11c25314f96f03 2019-01-29 08:00:56   \n",
       "1   cf4f7ddbb3a6d9006e029777df712a53c2d76992 2019-01-29 08:01:07   \n",
       "2   183bc8585ac5a2e26b6d2ada6ce6891235a36b92 2019-01-29 08:01:16   \n",
       "3   dcf2ffa7638b1ae7d0281cbb94d4c7cf0a0912f7 2019-01-29 08:02:34   \n",
       "4   54581cfa0b0f0c1dbe24fd60ca7efcc07439232f 2019-01-29 08:02:19   \n",
       "5   31c6bdae383e5c4f25e803d55dc539d6c40e6105 2019-01-29 08:03:06   \n",
       "6   77728d75d8ee8a1e27c95ca4077faddbf9dcdd93 2019-01-29 08:03:55   \n",
       "7   59148b1dc67f7b2ca10635cd4fabe903b1fd0b63 2019-01-29 08:04:14   \n",
       "8   3de49b107ce9b3f1add8f9314add9f5a2cadbe50 2019-01-29 08:05:07   \n",
       "9   2a88c4e3e59236321a2098ccc9dd4b47f2eed478 2019-01-29 08:07:23   \n",
       "10  5173f6a0a8ddf8df788408f70f14b0cd71333fd4 2019-01-29 08:08:20   \n",
       "11  b19849562d778b3f0faadab5d6375d196fa00c3e 2019-01-29 08:11:31   \n",
       "12  d8f1940dce090c0dd70898ade323d44a20128cf7 2019-01-29 08:12:06   \n",
       "13  86e69f471e55d135cfde733fd536d2906682b662 2019-01-29 08:12:13   \n",
       "14  07f533c82778a42f4827e08e685d809e36017390 2019-01-29 08:13:13   \n",
       "15  837898ee18a5c0fb78ac9c1001068fcb7c888550 2019-01-29 08:16:29   \n",
       "16  11bec9781f63a9c6ed13dc8e9b73af792f9830c9 2019-01-29 08:20:21   \n",
       "17  bd00a061a3d665bfbae3a1601c4808f329060c96 2019-01-29 08:20:40   \n",
       "18  79974a434856bb71e13c30992f0d169a1a4a66fc 2019-01-29 08:20:55   \n",
       "19  f2e470f4d6b5c0692705d44b98d3a2238f3bdcda 2019-01-29 08:21:42   \n",
       "20  8793c445e0b831e8367bdd14305487a2d97e0e6d 2019-01-29 08:21:58   \n",
       "21  f11c4da90f55f8a43876963c417d3ff755ff1586 2019-01-29 08:24:44   \n",
       "22  2d8c2e8437a5ef6a1d9b79e36dd596c0a6623318 2019-01-29 08:24:52   \n",
       "23  3c5ca02a9a314160f09c48b21cd2c00b99076ca6 2019-01-29 08:24:57   \n",
       "24  7a6a2d05a710b54b4fdbc87ceee6f471f5f7d4ef 2019-01-29 08:25:51   \n",
       "25  a4c03070e934e2f328992c3f7aa77edb9b95396b 2019-01-29 08:26:48   \n",
       "26  b98d1874b66d7c7cdbd98ccf64d98ecadbb8f6cf 2019-01-29 08:26:48   \n",
       "27  fd06f37936c529c968ca4f492ed29a7f0bd090ec 2019-01-29 08:27:50   \n",
       "28  9df9882db4e917b0a36e31cd12f971a772fe315b 2019-01-29 08:28:04   \n",
       "29  3630d036c608518d63820e011c0108ff0cc433b7 2019-01-29 08:27:45   \n",
       "..                                       ...                 ...   \n",
       "56  7d80e338da0f1a2e6b1ac67b9ef32c6ec4c891c7 2019-01-29 08:45:56   \n",
       "57  fa5a0728a454a234fd49bdd119376c15f98190ea 2019-01-29 08:46:09   \n",
       "58  f7616fe110ff1682384bfbf20c17041b1332b25e 2019-01-29 08:46:42   \n",
       "59  bd03725696c919a12321534d8db6f31190f3d379 2019-01-29 08:46:47   \n",
       "60  6977dd03993043ad98b267fcc73d7f99ea32091b 2019-01-29 08:47:02   \n",
       "61  7962ea39cd4b3d58bcf29ea57d4145b45299dd9d 2019-01-29 08:48:01   \n",
       "62  e06c90876f5a3a1fd2f1e1b8af1da081b0ac7727 2019-01-29 08:29:04   \n",
       "63  6618570aae9475deba8eabaf9d493e0e451f08d2 2019-01-29 08:48:14   \n",
       "64  dc2ad8f7f74aea8424990b8cf0850d1fad034361 2019-01-29 08:48:18   \n",
       "65  bd153a46cd16cb751f120764f252e1de9ed2d23f 2019-01-29 08:49:29   \n",
       "66  5b3b74c6b72a9983f99c0eefb21f4bf270388df4 2019-01-29 08:48:32   \n",
       "67  e9405f8ab160c41ffdb994c8db2fc4ca5a2a0801 2019-01-29 08:50:24   \n",
       "68  8a9adb7042a29470071bd93bceaf6e420f1df3c2 2019-01-29 08:50:20   \n",
       "69  232f84834d860bcc9c11b8c6bc2c0467f53cb00a 2019-01-29 08:50:06   \n",
       "70  39f21437744f4ed25450bf3119d3007744a32f8c 2019-01-29 08:50:59   \n",
       "71  9cbae165f2225286a9cd3e4531abb4c4e0603f32 2019-01-29 08:51:57   \n",
       "72  214d6b86318b472f8654918e2a05d12bf6107809 2019-01-29 08:52:24   \n",
       "73  85e5a77f244a09f92c13ea4771dbd2bdf8c0a81a 2019-01-29 08:52:50   \n",
       "74  a5c321613b1856762c53bc451b50aca46ba21a8b 2019-01-29 08:52:39   \n",
       "75  b6a0a8bc25839592758497678774ff22611a8c2c 2019-01-29 08:52:55   \n",
       "76  eed964834dfb99b6d544003e14a8f141b4d44d78 2019-01-29 08:53:26   \n",
       "77  9b3373d6ea7cdf14ba7d8a18447d59797e6102b3 2019-01-29 08:54:30   \n",
       "78  ed0984fefadfe837c1ee45c8b22dbfad97ba33b4 2019-01-29 08:55:06   \n",
       "79  3263e27f1271dfecf34ce4ada1ec4e5fa7f63598 2019-01-29 08:56:18   \n",
       "80  323291862da68b87d856782538c67dec94ba9e72 2019-01-29 08:56:28   \n",
       "81  d1035126f823cda002eda7bd6e8846d4c036529a 2019-01-29 08:57:28   \n",
       "82  b1f4345a48f7b62cf3c1cec0a90e9d80cba70a5a 2019-01-29 08:59:03   \n",
       "83  c85c801f4a621c41007bfb4a562d114167f56f1e 2019-01-29 08:59:39   \n",
       "84  b4f1a3799f5b9afd77f8ca32552f2bcdc7bff4e3 2019-01-29 08:59:50   \n",
       "85  63a28b8a61b99c413cd15694f6485742252d7ecb 2019-01-29 08:59:43   \n",
       "\n",
       "            date_cam_2  cam_1  cam_2 tps_parcours  \n",
       "0  2019-01-29 08:37:18     19      5     00:36:22  \n",
       "1  2019-01-29 08:37:04     19      5     00:35:57  \n",
       "2  2019-01-29 08:37:20     19      5     00:36:04  \n",
       "3  2019-01-29 08:37:42     19      5     00:35:08  \n",
       "4  2019-01-29 08:38:07     19      5     00:35:48  \n",
       "5  2019-01-29 08:38:16     19      5     00:35:10  \n",
       "6  2019-01-29 08:38:48     19      5     00:34:53  \n",
       "7  2019-01-29 08:39:21     19      5     00:35:07  \n",
       "8  2019-01-29 08:39:49     19      5     00:34:42  \n",
       "9  2019-01-29 08:42:27     19      5     00:35:04  \n",
       "10 2019-01-29 08:43:36     19      5     00:35:16  \n",
       "11 2019-01-29 08:46:33     19      5     00:35:02  \n",
       "12 2019-01-29 08:46:39     19      5     00:34:33  \n",
       "13 2019-01-29 08:47:29     19      5     00:35:16  \n",
       "14 2019-01-29 08:47:52     19      5     00:34:39  \n",
       "15 2019-01-29 08:50:59     19      5     00:34:30  \n",
       "16 2019-01-29 08:52:39     19      5     00:32:18  \n",
       "17 2019-01-29 08:52:58     19      5     00:32:18  \n",
       "18 2019-01-29 08:52:26     19      5     00:31:31  \n",
       "19 2019-01-29 08:54:32     19      5     00:32:50  \n",
       "20 2019-01-29 08:55:35     19      5     00:33:37  \n",
       "21 2019-01-29 08:55:36     19      5     00:30:52  \n",
       "22 2019-01-29 08:56:09     19      5     00:31:17  \n",
       "23 2019-01-29 08:56:52     19      5     00:31:55  \n",
       "24 2019-01-29 08:56:48     19      5     00:30:57  \n",
       "25 2019-01-29 08:58:34     19      5     00:31:46  \n",
       "26 2019-01-29 08:58:35     19      5     00:31:47  \n",
       "27 2019-01-29 08:58:59     19      5     00:31:09  \n",
       "28 2019-01-29 08:59:16     19      5     00:31:12  \n",
       "29 2019-01-29 09:00:07     19      5     00:32:22  \n",
       "..                 ...    ...    ...          ...  \n",
       "56 2019-01-29 09:17:43     19      5     00:31:47  \n",
       "57 2019-01-29 09:17:31     19      5     00:31:22  \n",
       "58 2019-01-29 09:17:34     19      5     00:30:52  \n",
       "59 2019-01-29 09:17:46     19      5     00:30:59  \n",
       "60 2019-01-29 09:18:52     19      5     00:31:50  \n",
       "61 2019-01-29 09:18:58     19      5     00:30:57  \n",
       "62 2019-01-29 09:19:39     19      5     00:50:35  \n",
       "63 2019-01-29 09:20:36     19      5     00:32:22  \n",
       "64 2019-01-29 09:20:31     19      5     00:32:13  \n",
       "65 2019-01-29 09:20:28     19      5     00:30:59  \n",
       "66 2019-01-29 09:20:40     19      5     00:32:08  \n",
       "67 2019-01-29 09:21:35     19      5     00:31:11  \n",
       "68 2019-01-29 09:21:59     19      5     00:31:39  \n",
       "69 2019-01-29 09:22:34     19      5     00:32:28  \n",
       "70 2019-01-29 09:23:16     19      5     00:32:17  \n",
       "71 2019-01-29 09:23:07     19      5     00:31:10  \n",
       "72 2019-01-29 09:23:54     19      5     00:31:30  \n",
       "73 2019-01-29 09:23:58     19      5     00:31:08  \n",
       "74 2019-01-29 09:24:32     19      5     00:31:53  \n",
       "75 2019-01-29 09:24:50     19      5     00:31:55  \n",
       "76 2019-01-29 09:25:30     19      5     00:32:04  \n",
       "77 2019-01-29 09:26:45     19      5     00:32:15  \n",
       "78 2019-01-29 09:26:47     19      5     00:31:41  \n",
       "79 2019-01-29 09:28:10     19      5     00:31:52  \n",
       "80 2019-01-29 09:28:19     19      5     00:31:51  \n",
       "81 2019-01-29 09:28:45     19      5     00:31:17  \n",
       "82 2019-01-29 09:31:30     19      5     00:32:27  \n",
       "83 2019-01-29 09:30:23     19      5     00:30:44  \n",
       "84 2019-01-29 09:30:52     19      5     00:31:02  \n",
       "85 2019-01-29 09:30:48     19      5     00:31:05  \n",
       "\n",
       "[86 rows x 6 columns]"
      ]
     },
     "execution_count": 35,
     "metadata": {},
     "output_type": "execute_result"
    }
   ],
   "source": [
    "toto.df_trajet_indirect()"
   ]
  },
  {
   "cell_type": "code",
   "execution_count": 12,
   "metadata": {},
   "outputs": [
    {
     "data": {
      "text/plain": [
       "3"
      ]
     },
     "execution_count": 12,
     "metadata": {},
     "output_type": "execute_result"
    }
   ],
   "source": [
    "len(dico)"
   ]
  },
  {
   "cell_type": "code",
   "execution_count": 30,
   "metadata": {},
   "outputs": [
    {
     "name": "stdout",
     "output_type": "stream",
     "text": [
      "initial traj0 traj1 6\n",
      "ensuite traj1 traj2 14\n"
     ]
    }
   ],
   "source": [
    "for a, val_dico in enumerate(dico):\n",
    "    if a<=len(dico)-2:\n",
    "        variab='traj'+str(a)\n",
    "        variab2='traj'+str(a+1)\n",
    "        if 'result' in locals() : \n",
    "            result=result+dico[variab2]\n",
    "            print('ensuite',variab,variab2,result  )\n",
    "        else : \n",
    "            result=dico[variab]+dico[variab2]\n",
    "            print('initial',variab,variab2,result  )"
   ]
  },
  {
   "cell_type": "code",
   "execution_count": 31,
   "metadata": {},
   "outputs": [
    {
     "data": {
      "text/plain": [
       "14"
      ]
     },
     "execution_count": 31,
     "metadata": {},
     "output_type": "execute_result"
    }
   ],
   "source": [
    "result"
   ]
  },
  {
   "cell_type": "code",
   "execution_count": 32,
   "metadata": {},
   "outputs": [],
   "source": [
    "del(result)"
   ]
  },
  {
   "cell_type": "code",
   "execution_count": null,
   "metadata": {},
   "outputs": [],
   "source": []
  }
 ],
 "metadata": {
  "kernelspec": {
   "display_name": "Python 3",
   "language": "python",
   "name": "python3"
  },
  "language_info": {
   "codemirror_mode": {
    "name": "ipython",
    "version": 3
   },
   "file_extension": ".py",
   "mimetype": "text/x-python",
   "name": "python",
   "nbconvert_exporter": "python",
   "pygments_lexer": "ipython3",
   "version": "3.7.2"
  }
 },
 "nbformat": 4,
 "nbformat_minor": 2
}
