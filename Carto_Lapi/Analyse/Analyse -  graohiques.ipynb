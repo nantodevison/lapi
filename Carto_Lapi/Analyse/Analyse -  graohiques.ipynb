{
 "cells": [
  {
   "cell_type": "markdown",
   "metadata": {},
   "source": [
    "L'dée de ce notebook est de pouvoir tracer les étapes de réalisation d'un calcul de temps de parcours de référence. "
   ]
  },
  {
   "cell_type": "markdown",
   "metadata": {},
   "source": [
    "   Chap 0 : Import des données"
   ]
  },
  {
   "cell_type": "code",
   "execution_count": 151,
   "metadata": {},
   "outputs": [
    {
     "name": "stdout",
     "output_type": "stream",
     "text": [
      "The autoreload extension is already loaded. To reload it, use:\n",
      "  %reload_ext autoreload\n"
     ]
    }
   ],
   "source": [
    "%load_ext autoreload\n",
    "%autoreload 2\n",
    "import sys #c'est pas propre mais pour le moment pour importer mes modules perso dans le notebook je ne sais pas faire\n",
    "sys.path.append(r'C:\\Users\\martin.schoreisz\\git\\Outils\\Outils\\Martin_Perso')\n",
    "import traitement_od as t\n",
    "import pandas as pd\n",
    "import numpy as np\n",
    "import altair as alt\n",
    "import datetime as dt\n",
    "pd.set_option('display.max_colwidth', 1000)\n",
    "import os\n",
    "from sklearn.cluster import DBSCAN\n",
    "from vega_datasets import data"
   ]
  },
  {
   "cell_type": "markdown",
   "metadata": {},
   "source": [
    "Chap 1. Analyse des données brutes (non post-traitées par MMR)\n",
    "\n",
    "Cette analyse se base sur les données fournies le 12/02/2019. Elle propose d'illustrer les forces et faiblesses de certaines données (attributs fiability,..."
   ]
  },
  {
   "cell_type": "code",
   "execution_count": 2,
   "metadata": {},
   "outputs": [],
   "source": [
    "df_3semaines=t.ouvrir_fichier_lapi('2019-01-28 00:00:00','2019-02-17 23:59:59')\n",
    "#df_3semaines=df_3semaines.drop_duplicates(['created','immat'])\n",
    "df_3semaines=df_3semaines.set_index('created').sort_index()"
   ]
  },
  {
   "cell_type": "raw",
   "metadata": {},
   "source": [
    "illustration de la variation de fiabilité des cameras.\n",
    "Certaines cameras (1 et 2) renvoi une fiabilité moyenne inférieur bien en deça des autres, aux même période de la journée"
   ]
  },
  {
   "cell_type": "code",
   "execution_count": 103,
   "metadata": {},
   "outputs": [],
   "source": [
    "fiabilite_globale=df_3semaines.groupby('camera_id')['fiability'].mean().reset_index() #illustration globale sur la période du 28-01 au 11-02\n",
    "fiabilite_10h11h=df_3semaines.loc['2019-01-28 10:00:00':'2019-01-28 11:00:00'].groupby('camera_id')['fiability'].mean().reset_index()\n",
    "df_jour=df_3semaines.loc['2019-01-28']\n",
    "fiab_jour_cam_4=df_jour.loc[df_jour['camera_id']==4]['fiability'].resample('5T').mean().reset_index()                       "
   ]
  },
  {
   "cell_type": "code",
   "execution_count": 104,
   "metadata": {},
   "outputs": [
    {
     "data": {
      "application/vnd.vegalite.v2+json": {
       "$schema": "https://vega.github.io/schema/vega-lite/v2.6.0.json",
       "config": {
        "view": {
         "height": 300,
         "width": 400
        }
       },
       "datasets": {
        "data-0e9a666ba425af6f9208c7aff0d17d42": [
         {
          "camera_id": 1,
          "fiability": 44.02534630688541
         },
         {
          "camera_id": 2,
          "fiability": 45.05360266152621
         },
         {
          "camera_id": 3,
          "fiability": 88.44734467858173
         },
         {
          "camera_id": 4,
          "fiability": 84.7628968307388
         },
         {
          "camera_id": 5,
          "fiability": 89.01491133220445
         },
         {
          "camera_id": 6,
          "fiability": 88.72911618416019
         },
         {
          "camera_id": 7,
          "fiability": 89.31862895144687
         },
         {
          "camera_id": 8,
          "fiability": 88.78331360446437
         },
         {
          "camera_id": 9,
          "fiability": 84.8697398650791
         },
         {
          "camera_id": 10,
          "fiability": 87.66740850244966
         },
         {
          "camera_id": 11,
          "fiability": 88.11113877822045
         },
         {
          "camera_id": 12,
          "fiability": 88.56523582642461
         },
         {
          "camera_id": 13,
          "fiability": 91.13387469061988
         },
         {
          "camera_id": 15,
          "fiability": 91.24469236065251
         },
         {
          "camera_id": 18,
          "fiability": 87.46067572349163
         },
         {
          "camera_id": 19,
          "fiability": 87.803266250476
         }
        ]
       },
       "layer": [
        {
         "data": {
          "name": "data-0e9a666ba425af6f9208c7aff0d17d42"
         },
         "encoding": {
          "x": {
           "field": "camera_id",
           "type": "ordinal"
          },
          "y": {
           "field": "fiability",
           "type": "quantitative"
          }
         },
         "mark": {
          "size": 25,
          "type": "bar"
         },
         "width": 500
        },
        {
         "data": {
          "name": "data-0e9a666ba425af6f9208c7aff0d17d42"
         },
         "encoding": {
          "x": {
           "field": "camera_id",
           "type": "ordinal"
          },
          "y": {
           "field": "fiability",
           "type": "quantitative"
          }
         },
         "mark": {
          "color": "yellow",
          "strokeWidth": 5,
          "type": "line"
         },
         "width": 500
        }
       ]
      },
      "image/png": "[encoded data removed]",
      "text/plain": [
       "<VegaLite 2 object>\n",
       "\n",
       "If you see this message, it means the renderer has not been properly enabled\n",
       "for the frontend that you are using. For more information, see\n",
       "https://altair-viz.github.io/user_guide/troubleshooting.html\n"
      ]
     },
     "execution_count": 104,
     "metadata": {},
     "output_type": "execute_result"
    }
   ],
   "source": [
    "graph_fiabilite_globale = alt.Chart(fiabilite_globale).mark_bar(size=25).encode(\n",
    "                        x='camera_id:O',\n",
    "                        y='fiability').properties(width=500)\n",
    "graph_fiabilité_locale=alt.Chart(fiabilite_globale).mark_line(color='yellow', strokeWidth=5).encode(\n",
    "                        x='camera_id:O',\n",
    "                        y='fiability').properties(width=500)\n",
    "graph_fiabilite_jour=alt.Chart(fiab_jour_cam_4).mark_line().encode(\n",
    "                                alt.X('created'),\n",
    "                                alt.Y('fiability', scale=alt.Scale(domain=(65,97))))\n",
    "(graph_fiabilite_globale+graph_fiabilité_locale)"
   ]
  },
  {
   "cell_type": "code",
   "execution_count": 105,
   "metadata": {},
   "outputs": [
    {
     "data": {
      "application/vnd.vegalite.v2+json": {
       "$schema": "https://vega.github.io/schema/vega-lite/v2.6.0.json",
       "config": {
        "view": {
         "height": 300,
         "width": 400
        }
       },
       "data": {
        "name": "data-809ab1aa903e8b6f0d493079428f8c7b"
       },
       "datasets": {
        "data-809ab1aa903e8b6f0d493079428f8c7b": [
         {
          "created": "2019-01-28T00:00:00",
          "fiability": 83.92307692307692
         },
         {
          "created": "2019-01-28T00:05:00",
          "fiability": 75.52631578947368
         },
         {
          "created": "2019-01-28T00:10:00",
          "fiability": 83.05128205128206
         },
         {
          "created": "2019-01-28T00:15:00",
          "fiability": 79.53658536585365
         },
         {
          "created": "2019-01-28T00:20:00",
          "fiability": 75.21212121212122
         },
         {
          "created": "2019-01-28T00:25:00",
          "fiability": 80.30434782608695
         },
         {
          "created": "2019-01-28T00:30:00",
          "fiability": 80.61016949152543
         },
         {
          "created": "2019-01-28T00:35:00",
          "fiability": 86.90163934426229
         },
         {
          "created": "2019-01-28T00:40:00",
          "fiability": 85.26829268292683
         },
         {
          "created": "2019-01-28T00:45:00",
          "fiability": 85.45098039215686
         },
         {
          "created": "2019-01-28T00:50:00",
          "fiability": 83.08333333333333
         },
         {
          "created": "2019-01-28T00:55:00",
          "fiability": 90.67647058823529
         },
         {
          "created": "2019-01-28T01:00:00",
          "fiability": 84.3030303030303
         },
         {
          "created": "2019-01-28T01:05:00",
          "fiability": 71.4
         },
         {
          "created": "2019-01-28T01:10:00",
          "fiability": 77.65789473684211
         },
         {
          "created": "2019-01-28T01:15:00",
          "fiability": 79.5
         },
         {
          "created": "2019-01-28T01:20:00",
          "fiability": 81.04
         },
         {
          "created": "2019-01-28T01:25:00",
          "fiability": 79.71428571428571
         },
         {
          "created": "2019-01-28T01:30:00",
          "fiability": 81.10526315789474
         },
         {
          "created": "2019-01-28T01:35:00",
          "fiability": 93.6470588235294
         },
         {
          "created": "2019-01-28T01:40:00",
          "fiability": 86.7
         },
         {
          "created": "2019-01-28T01:45:00",
          "fiability": 74
         },
         {
          "created": "2019-01-28T01:50:00",
          "fiability": 79.8
         },
         {
          "created": "2019-01-28T01:55:00",
          "fiability": 78.5
         },
         {
          "created": "2019-01-28T02:00:00",
          "fiability": 80.78260869565217
         },
         {
          "created": "2019-01-28T02:05:00",
          "fiability": 86.88888888888889
         },
         {
          "created": "2019-01-28T02:10:00",
          "fiability": 84.3
         },
         {
          "created": "2019-01-28T02:15:00",
          "fiability": 79.04347826086956
         },
         {
          "created": "2019-01-28T02:20:00",
          "fiability": 83.31818181818181
         },
         {
          "created": "2019-01-28T02:25:00",
          "fiability": 79.21428571428571
         },
         {
          "created": "2019-01-28T02:30:00",
          "fiability": 80.96
         },
         {
          "created": "2019-01-28T02:35:00",
          "fiability": 86
         },
         {
          "created": "2019-01-28T02:40:00",
          "fiability": 76.52380952380952
         },
         {
          "created": "2019-01-28T02:45:00",
          "fiability": 95.9047619047619
         },
         {
          "created": "2019-01-28T02:50:00",
          "fiability": 85.32
         },
         {
          "created": "2019-01-28T02:55:00",
          "fiability": 80.53125
         },
         {
          "created": "2019-01-28T03:00:00",
          "fiability": 82.5
         },
         {
          "created": "2019-01-28T03:05:00",
          "fiability": 84.2
         },
         {
          "created": "2019-01-28T03:10:00",
          "fiability": 73.17391304347827
         },
         {
          "created": "2019-01-28T03:15:00",
          "fiability": 80.17647058823529
         },
         {
          "created": "2019-01-28T03:20:00",
          "fiability": 82.23076923076923
         },
         {
          "created": "2019-01-28T03:25:00",
          "fiability": 82.75
         },
         {
          "created": "2019-01-28T03:30:00",
          "fiability": 76.6875
         },
         {
          "created": "2019-01-28T03:35:00",
          "fiability": 81.54054054054055
         },
         {
          "created": "2019-01-28T03:40:00",
          "fiability": 79.24242424242425
         },
         {
          "created": "2019-01-28T03:45:00",
          "fiability": 83.57142857142857
         },
         {
          "created": "2019-01-28T03:50:00",
          "fiability": 78.57575757575758
         },
         {
          "created": "2019-01-28T03:55:00",
          "fiability": 82.47058823529412
         },
         {
          "created": "2019-01-28T04:00:00",
          "fiability": 80.17142857142858
         },
         {
          "created": "2019-01-28T04:05:00",
          "fiability": 76.58823529411765
         },
         {
          "created": "2019-01-28T04:10:00",
          "fiability": 79.28571428571429
         },
         {
          "created": "2019-01-28T04:15:00",
          "fiability": 73.57894736842105
         },
         {
          "created": "2019-01-28T04:20:00",
          "fiability": 80.2439024390244
         },
         {
          "created": "2019-01-28T04:25:00",
          "fiability": 81.60714285714286
         },
         {
          "created": "2019-01-28T04:30:00",
          "fiability": 76.7560975609756
         },
         {
          "created": "2019-01-28T04:35:00",
          "fiability": 74.22641509433963
         },
         {
          "created": "2019-01-28T04:40:00",
          "fiability": 74.65277777777777
         },
         {
          "created": "2019-01-28T04:45:00",
          "fiability": 76.3108108108108
         },
         {
          "created": "2019-01-28T04:50:00",
          "fiability": 80.37878787878788
         },
         {
          "created": "2019-01-28T04:55:00",
          "fiability": 78.16
         },
         {
          "created": "2019-01-28T05:00:00",
          "fiability": 77.66666666666667
         },
         {
          "created": "2019-01-28T05:05:00",
          "fiability": 83.2394366197183
         },
         {
          "created": "2019-01-28T05:10:00",
          "fiability": 78.67567567567568
         },
         {
          "created": "2019-01-28T05:15:00",
          "fiability": 81.40384615384616
         },
         {
          "created": "2019-01-28T05:20:00",
          "fiability": 79.85576923076923
         },
         {
          "created": "2019-01-28T05:25:00",
          "fiability": 83.625
         },
         {
          "created": "2019-01-28T05:30:00",
          "fiability": 79.29357798165138
         },
         {
          "created": "2019-01-28T05:35:00",
          "fiability": 79.81203007518798
         },
         {
          "created": "2019-01-28T05:40:00",
          "fiability": 77.78102189781022
         },
         {
          "created": "2019-01-28T05:45:00",
          "fiability": 76.02631578947368
         },
         {
          "created": "2019-01-28T05:50:00",
          "fiability": 78.23717948717949
         },
         {
          "created": "2019-01-28T05:55:00",
          "fiability": 79.38461538461539
         },
         {
          "created": "2019-01-28T06:00:00",
          "fiability": 80.14024390243902
         },
         {
          "created": "2019-01-28T06:05:00",
          "fiability": 79.30813953488372
         },
         {
          "created": "2019-01-28T06:10:00",
          "fiability": 78.00510204081633
         },
         {
          "created": "2019-01-28T06:15:00",
          "fiability": 78.97109826589596
         },
         {
          "created": "2019-01-28T06:20:00",
          "fiability": 77.89268292682927
         },
         {
          "created": "2019-01-28T06:25:00",
          "fiability": 78.2621359223301
         },
         {
          "created": "2019-01-28T06:30:00",
          "fiability": 79.2135922330097
         },
         {
          "created": "2019-01-28T06:35:00",
          "fiability": 77.95192307692308
         },
         {
          "created": "2019-01-28T06:40:00",
          "fiability": 79.44811320754717
         },
         {
          "created": "2019-01-28T06:45:00",
          "fiability": 78.59715639810426
         },
         {
          "created": "2019-01-28T06:50:00",
          "fiability": 79.09909909909909
         },
         {
          "created": "2019-01-28T06:55:00",
          "fiability": 78.40366972477064
         },
         {
          "created": "2019-01-28T07:00:00",
          "fiability": 77.57731958762886
         },
         {
          "created": "2019-01-28T07:05:00",
          "fiability": 77.31277533039648
         },
         {
          "created": "2019-01-28T07:10:00",
          "fiability": 77.76146788990826
         },
         {
          "created": "2019-01-28T07:15:00",
          "fiability": 79.1353711790393
         },
         {
          "created": "2019-01-28T07:20:00",
          "fiability": 79.78448275862068
         },
         {
          "created": "2019-01-28T07:25:00",
          "fiability": 76.66079295154185
         },
         {
          "created": "2019-01-28T07:30:00",
          "fiability": 82.49557522123894
         },
         {
          "created": "2019-01-28T07:35:00",
          "fiability": 81.3177966101695
         },
         {
          "created": "2019-01-28T07:40:00",
          "fiability": 79.5068493150685
         },
         {
          "created": "2019-01-28T07:45:00",
          "fiability": 81.581589958159
         },
         {
          "created": "2019-01-28T07:50:00",
          "fiability": 85.04016064257029
         },
         {
          "created": "2019-01-28T07:55:00",
          "fiability": 86.0530612244898
         },
         {
          "created": "2019-01-28T08:00:00",
          "fiability": 84.97933884297521
         },
         {
          "created": "2019-01-28T08:05:00",
          "fiability": 86.35390946502058
         },
         {
          "created": "2019-01-28T08:10:00",
          "fiability": 85.70204081632653
         },
         {
          "created": "2019-01-28T08:15:00",
          "fiability": 87.81659388646288
         },
         {
          "created": "2019-01-28T08:20:00",
          "fiability": 88.32735426008969
         },
         {
          "created": "2019-01-28T08:25:00",
          "fiability": 81.95454545454545
         },
         {
          "created": "2019-01-28T08:30:00",
          "fiability": 84.94634146341464
         },
         {
          "created": "2019-01-28T08:35:00",
          "fiability": 85.14925373134328
         },
         {
          "created": "2019-01-28T08:40:00",
          "fiability": 87.92093023255813
         },
         {
          "created": "2019-01-28T08:45:00",
          "fiability": 87.76255707762557
         },
         {
          "created": "2019-01-28T08:50:00",
          "fiability": 90.56398104265404
         },
         {
          "created": "2019-01-28T08:55:00",
          "fiability": 87.0952380952381
         },
         {
          "created": "2019-01-28T09:00:00",
          "fiability": 88.48780487804878
         },
         {
          "created": "2019-01-28T09:05:00",
          "fiability": 88.5081081081081
         },
         {
          "created": "2019-01-28T09:10:00",
          "fiability": 86.36666666666666
         },
         {
          "created": "2019-01-28T09:15:00",
          "fiability": 84.32663316582915
         },
         {
          "created": "2019-01-28T09:20:00",
          "fiability": 85.75392670157068
         },
         {
          "created": "2019-01-28T09:25:00",
          "fiability": 86.06217616580311
         },
         {
          "created": "2019-01-28T09:30:00",
          "fiability": 86.80851063829788
         },
         {
          "created": "2019-01-28T09:35:00",
          "fiability": 86.74011299435028
         },
         {
          "created": "2019-01-28T09:40:00",
          "fiability": 84.93069306930693
         },
         {
          "created": "2019-01-28T09:45:00",
          "fiability": 83.58762886597938
         },
         {
          "created": "2019-01-28T09:50:00",
          "fiability": 84.015
         },
         {
          "created": "2019-01-28T09:55:00",
          "fiability": 85.03157894736842
         },
         {
          "created": "2019-01-28T10:00:00",
          "fiability": 87.16763005780346
         },
         {
          "created": "2019-01-28T10:05:00",
          "fiability": 83.15243902439025
         },
         {
          "created": "2019-01-28T10:10:00",
          "fiability": 84.66666666666667
         },
         {
          "created": "2019-01-28T10:15:00",
          "fiability": 84.56
         },
         {
          "created": "2019-01-28T10:20:00",
          "fiability": 85.48430493273543
         },
         {
          "created": "2019-01-28T10:25:00",
          "fiability": 84.88262910798122
         },
         {
          "created": "2019-01-28T10:30:00",
          "fiability": 87.8578431372549
         },
         {
          "created": "2019-01-28T10:35:00",
          "fiability": 87.46113989637306
         },
         {
          "created": "2019-01-28T10:40:00",
          "fiability": 84.0427807486631
         },
         {
          "created": "2019-01-28T10:45:00",
          "fiability": 84.18905472636816
         },
         {
          "created": "2019-01-28T10:50:00",
          "fiability": 82.39285714285714
         },
         {
          "created": "2019-01-28T10:55:00",
          "fiability": 86.095
         },
         {
          "created": "2019-01-28T11:00:00",
          "fiability": 85.11428571428571
         },
         {
          "created": "2019-01-28T11:05:00",
          "fiability": 85.97536945812809
         },
         {
          "created": "2019-01-28T11:10:00",
          "fiability": 85.15178571428571
         },
         {
          "created": "2019-01-28T11:15:00",
          "fiability": 86.70338983050847
         },
         {
          "created": "2019-01-28T11:20:00",
          "fiability": 88.16033755274262
         },
         {
          "created": "2019-01-28T11:25:00",
          "fiability": 87.68202764976958
         },
         {
          "created": "2019-01-28T11:30:00",
          "fiability": 87.415
         },
         {
          "created": "2019-01-28T11:35:00",
          "fiability": 87.28651685393258
         },
         {
          "created": "2019-01-28T11:40:00",
          "fiability": 83.42937853107344
         },
         {
          "created": "2019-01-28T11:45:00",
          "fiability": 84.79629629629629
         },
         {
          "created": "2019-01-28T11:50:00",
          "fiability": 85.72067039106145
         },
         {
          "created": "2019-01-28T11:55:00",
          "fiability": 89.0670731707317
         },
         {
          "created": "2019-01-28T12:00:00",
          "fiability": 88.05479452054794
         },
         {
          "created": "2019-01-28T12:05:00",
          "fiability": 78.9568345323741
         },
         {
          "created": "2019-01-28T12:10:00",
          "fiability": 82.77906976744185
         },
         {
          "created": "2019-01-28T12:15:00",
          "fiability": 88.22173913043478
         },
         {
          "created": "2019-01-28T12:20:00",
          "fiability": 81.27868852459017
         },
         {
          "created": "2019-01-28T12:25:00",
          "fiability": 75.61739130434782
         },
         {
          "created": "2019-01-28T12:30:00",
          "fiability": 80.02453987730061
         },
         {
          "created": "2019-01-28T12:35:00",
          "fiability": 86.40259740259741
         },
         {
          "created": "2019-01-28T12:40:00",
          "fiability": 88.5701754385965
         },
         {
          "created": "2019-01-28T12:45:00",
          "fiability": 87.99173553719008
         },
         {
          "created": "2019-01-28T12:50:00",
          "fiability": 86.1875
         },
         {
          "created": "2019-01-28T12:55:00",
          "fiability": 85.04285714285714
         },
         {
          "created": "2019-01-28T13:00:00",
          "fiability": 83.93364928909952
         },
         {
          "created": "2019-01-28T13:05:00",
          "fiability": 88.61924686192468
         },
         {
          "created": "2019-01-28T13:10:00",
          "fiability": 88.53846153846153
         },
         {
          "created": "2019-01-28T13:15:00",
          "fiability": 88.28205128205128
         },
         {
          "created": "2019-01-28T13:20:00",
          "fiability": 83.87192118226601
         },
         {
          "created": "2019-01-28T13:25:00",
          "fiability": 85.47297297297297
         },
         {
          "created": "2019-01-28T13:30:00",
          "fiability": 85.60194174757281
         },
         {
          "created": "2019-01-28T13:35:00",
          "fiability": 83.91282051282052
         },
         {
          "created": "2019-01-28T13:40:00",
          "fiability": 86.08823529411765
         },
         {
          "created": "2019-01-28T13:45:00",
          "fiability": 86.29797979797979
         },
         {
          "created": "2019-01-28T13:50:00",
          "fiability": 87.89592760180996
         },
         {
          "created": "2019-01-28T13:55:00",
          "fiability": 89.0625
         },
         {
          "created": "2019-01-28T14:00:00",
          "fiability": 88.16509433962264
         },
         {
          "created": "2019-01-28T14:05:00",
          "fiability": 85.5598086124402
         },
         {
          "created": "2019-01-28T14:10:00",
          "fiability": 82.78155339805825
         },
         {
          "created": "2019-01-28T14:15:00",
          "fiability": 84.91079812206573
         },
         {
          "created": "2019-01-28T14:20:00",
          "fiability": 82.96103896103897
         },
         {
          "created": "2019-01-28T14:25:00",
          "fiability": 82.52150537634408
         },
         {
          "created": "2019-01-28T14:30:00",
          "fiability": 83.23958333333333
         },
         {
          "created": "2019-01-28T14:35:00",
          "fiability": 86.95813953488373
         },
         {
          "created": "2019-01-28T14:40:00",
          "fiability": 77.45023696682465
         },
         {
          "created": "2019-01-28T14:45:00",
          "fiability": 82.63013698630137
         },
         {
          "created": "2019-01-28T14:50:00",
          "fiability": 85.61274509803921
         },
         {
          "created": "2019-01-28T14:55:00",
          "fiability": 87.69026548672566
         },
         {
          "created": "2019-01-28T15:00:00",
          "fiability": 86.28455284552845
         },
         {
          "created": "2019-01-28T15:05:00",
          "fiability": 82.54185022026432
         },
         {
          "created": "2019-01-28T15:10:00",
          "fiability": 88.38403041825094
         },
         {
          "created": "2019-01-28T15:15:00",
          "fiability": 84.27037037037037
         },
         {
          "created": "2019-01-28T15:20:00",
          "fiability": 88.31203007518798
         },
         {
          "created": "2019-01-28T15:25:00",
          "fiability": 86.25095057034221
         },
         {
          "created": "2019-01-28T15:30:00",
          "fiability": 83.076
         },
         {
          "created": "2019-01-28T15:35:00",
          "fiability": 84.15163934426229
         },
         {
          "created": "2019-01-28T15:40:00",
          "fiability": 79.5095785440613
         },
         {
          "created": "2019-01-28T15:45:00",
          "fiability": 84.03802281368822
         },
         {
          "created": "2019-01-28T15:50:00",
          "fiability": 82.6
         },
         {
          "created": "2019-01-28T15:55:00",
          "fiability": 81.79203539823008
         },
         {
          "created": "2019-01-28T16:00:00",
          "fiability": 83.04280155642023
         },
         {
          "created": "2019-01-28T16:05:00",
          "fiability": 83.5
         },
         {
          "created": "2019-01-28T16:10:00",
          "fiability": 85.47107438016529
         },
         {
          "created": "2019-01-28T16:15:00",
          "fiability": 84.38912133891213
         },
         {
          "created": "2019-01-28T16:20:00",
          "fiability": 83.80701754385964
         },
         {
          "created": "2019-01-28T16:25:00",
          "fiability": 86.12648221343873
         },
         {
          "created": "2019-01-28T16:30:00",
          "fiability": 84.91666666666667
         },
         {
          "created": "2019-01-28T16:35:00",
          "fiability": 83.56985294117646
         },
         {
          "created": "2019-01-28T16:40:00",
          "fiability": 84.33450704225352
         },
         {
          "created": "2019-01-28T16:45:00",
          "fiability": 82.19172932330827
         },
         {
          "created": "2019-01-28T16:50:00",
          "fiability": 81.28448275862068
         },
         {
          "created": "2019-01-28T16:55:00",
          "fiability": 82.37391304347825
         },
         {
          "created": "2019-01-28T17:00:00",
          "fiability": 82.53092783505154
         },
         {
          "created": "2019-01-28T17:05:00",
          "fiability": 80.61025641025641
         },
         {
          "created": "2019-01-28T17:10:00",
          "fiability": 76.90449438202248
         },
         {
          "created": "2019-01-28T17:15:00",
          "fiability": 79.86021505376344
         },
         {
          "created": "2019-01-28T17:20:00",
          "fiability": 76.73513513513514
         },
         {
          "created": "2019-01-28T17:25:00",
          "fiability": 77.00990099009901
         },
         {
          "created": "2019-01-28T17:30:00",
          "fiability": 78.79375
         },
         {
          "created": "2019-01-28T17:35:00",
          "fiability": 77.24712643678161
         },
         {
          "created": "2019-01-28T17:40:00",
          "fiability": 74.4367088607595
         },
         {
          "created": "2019-01-28T17:45:00",
          "fiability": 75.73287671232876
         },
         {
          "created": "2019-01-28T17:50:00",
          "fiability": 78.46296296296296
         },
         {
          "created": "2019-01-28T17:55:00",
          "fiability": 79.62650602409639
         },
         {
          "created": "2019-01-28T18:00:00",
          "fiability": 74.04402515723271
         },
         {
          "created": "2019-01-28T18:05:00",
          "fiability": 79
         },
         {
          "created": "2019-01-28T18:10:00",
          "fiability": 78.14465408805032
         },
         {
          "created": "2019-01-28T18:15:00",
          "fiability": 74.76027397260275
         },
         {
          "created": "2019-01-28T18:20:00",
          "fiability": 73.95541401273886
         },
         {
          "created": "2019-01-28T18:25:00",
          "fiability": 77.33043478260869
         },
         {
          "created": "2019-01-28T18:30:00",
          "fiability": 76.3974358974359
         },
         {
          "created": "2019-01-28T18:35:00",
          "fiability": 80.49242424242425
         },
         {
          "created": "2019-01-28T18:40:00",
          "fiability": 77.3953488372093
         },
         {
          "created": "2019-01-28T18:45:00",
          "fiability": 76.325
         },
         {
          "created": "2019-01-28T18:50:00",
          "fiability": 81.51239669421487
         },
         {
          "created": "2019-01-28T18:55:00",
          "fiability": 80.5578947368421
         },
         {
          "created": "2019-01-28T19:00:00",
          "fiability": 79.76470588235294
         },
         {
          "created": "2019-01-28T19:05:00",
          "fiability": 79.75
         },
         {
          "created": "2019-01-28T19:10:00",
          "fiability": 76.6774193548387
         },
         {
          "created": "2019-01-28T19:15:00",
          "fiability": 73.26086956521739
         },
         {
          "created": "2019-01-28T19:20:00",
          "fiability": 78.04807692307692
         },
         {
          "created": "2019-01-28T19:25:00",
          "fiability": 81.43157894736842
         },
         {
          "created": "2019-01-28T19:30:00",
          "fiability": 77.96629213483146
         },
         {
          "created": "2019-01-28T19:35:00",
          "fiability": 78.46315789473684
         },
         {
          "created": "2019-01-28T19:40:00",
          "fiability": 79.03389830508475
         },
         {
          "created": "2019-01-28T19:45:00",
          "fiability": 77.66666666666667
         },
         {
          "created": "2019-01-28T19:50:00",
          "fiability": 79.55223880597015
         },
         {
          "created": "2019-01-28T19:55:00",
          "fiability": 75.390625
         },
         {
          "created": "2019-01-28T20:00:00",
          "fiability": 79.97333333333333
         },
         {
          "created": "2019-01-28T20:05:00",
          "fiability": 76.0677966101695
         },
         {
          "created": "2019-01-28T20:10:00",
          "fiability": 76.68852459016394
         },
         {
          "created": "2019-01-28T20:15:00",
          "fiability": 76.75806451612904
         },
         {
          "created": "2019-01-28T20:20:00",
          "fiability": 75.66666666666667
         },
         {
          "created": "2019-01-28T20:25:00",
          "fiability": 75.96551724137932
         },
         {
          "created": "2019-01-28T20:30:00",
          "fiability": 77.09615384615384
         },
         {
          "created": "2019-01-28T20:35:00",
          "fiability": 79.83050847457628
         },
         {
          "created": "2019-01-28T20:40:00",
          "fiability": 79.68085106382979
         },
         {
          "created": "2019-01-28T20:45:00",
          "fiability": 73.75
         },
         {
          "created": "2019-01-28T20:50:00",
          "fiability": 76.94339622641509
         },
         {
          "created": "2019-01-28T20:55:00",
          "fiability": 75.57407407407408
         },
         {
          "created": "2019-01-28T21:00:00",
          "fiability": 81.46153846153847
         },
         {
          "created": "2019-01-28T21:05:00",
          "fiability": 84.42857142857143
         },
         {
          "created": "2019-01-28T21:10:00",
          "fiability": 77.86111111111111
         },
         {
          "created": "2019-01-28T21:15:00",
          "fiability": 78.77586206896552
         },
         {
          "created": "2019-01-28T21:20:00",
          "fiability": 84.35416666666667
         },
         {
          "created": "2019-01-28T21:25:00",
          "fiability": 78.88
         },
         {
          "created": "2019-01-28T21:30:00",
          "fiability": 80.47916666666667
         },
         {
          "created": "2019-01-28T21:35:00",
          "fiability": 80.14893617021276
         },
         {
          "created": "2019-01-28T21:40:00",
          "fiability": 77.82608695652173
         },
         {
          "created": "2019-01-28T21:45:00",
          "fiability": 74.39024390243902
         },
         {
          "created": "2019-01-28T21:50:00",
          "fiability": 79.45
         },
         {
          "created": "2019-01-28T21:55:00",
          "fiability": 83.1219512195122
         },
         {
          "created": "2019-01-28T22:00:00",
          "fiability": 77.75757575757575
         },
         {
          "created": "2019-01-28T22:05:00",
          "fiability": 77.90625
         },
         {
          "created": "2019-01-28T22:10:00",
          "fiability": 76.77777777777777
         },
         {
          "created": "2019-01-28T22:15:00",
          "fiability": 68.72727272727273
         },
         {
          "created": "2019-01-28T22:20:00",
          "fiability": 68.87096774193549
         },
         {
          "created": "2019-01-28T22:25:00",
          "fiability": 75.87878787878788
         },
         {
          "created": "2019-01-28T22:30:00",
          "fiability": 69.77272727272727
         },
         {
          "created": "2019-01-28T22:35:00",
          "fiability": 79.6
         },
         {
          "created": "2019-01-28T22:40:00",
          "fiability": 79.06666666666666
         },
         {
          "created": "2019-01-28T22:45:00",
          "fiability": 78.1304347826087
         },
         {
          "created": "2019-01-28T22:50:00",
          "fiability": 75.28571428571429
         },
         {
          "created": "2019-01-28T22:55:00",
          "fiability": 78.61764705882354
         },
         {
          "created": "2019-01-28T23:00:00",
          "fiability": 78.8076923076923
         },
         {
          "created": "2019-01-28T23:05:00",
          "fiability": 83.07407407407408
         },
         {
          "created": "2019-01-28T23:10:00",
          "fiability": 87.26086956521739
         },
         {
          "created": "2019-01-28T23:15:00",
          "fiability": 79.24
         },
         {
          "created": "2019-01-28T23:20:00",
          "fiability": 80.41935483870968
         },
         {
          "created": "2019-01-28T23:25:00",
          "fiability": 71.71428571428571
         },
         {
          "created": "2019-01-28T23:30:00",
          "fiability": 83.44
         },
         {
          "created": "2019-01-28T23:35:00",
          "fiability": 75.66666666666667
         },
         {
          "created": "2019-01-28T23:40:00",
          "fiability": 78.69444444444444
         },
         {
          "created": "2019-01-28T23:45:00",
          "fiability": 71.91304347826087
         },
         {
          "created": "2019-01-28T23:50:00",
          "fiability": 78.14285714285714
         },
         {
          "created": "2019-01-28T23:55:00",
          "fiability": 69.68181818181819
         }
        ]
       },
       "encoding": {
        "x": {
         "field": "created",
         "type": "temporal"
        },
        "y": {
         "field": "fiability",
         "scale": {
          "domain": [
           65,
           97
          ]
         },
         "type": "quantitative"
        }
       },
       "mark": "line"
      },
      "image/png": "[encoded data removed]",
      "text/plain": [
       "<VegaLite 2 object>\n",
       "\n",
       "If you see this message, it means the renderer has not been properly enabled\n",
       "for the frontend that you are using. For more information, see\n",
       "https://altair-viz.github.io/user_guide/troubleshooting.html\n"
      ]
     },
     "execution_count": 105,
     "metadata": {},
     "output_type": "execute_result"
    }
   ],
   "source": [
    "graph_fiabilite_jour"
   ]
  },
  {
   "cell_type": "code",
   "execution_count": 139,
   "metadata": {},
   "outputs": [
    {
     "name": "stdout",
     "output_type": "stream",
     "text": [
      "Wall time: 391 ms\n"
     ]
    }
   ],
   "source": [
    "#pour test impact fiabilite sur 2 cam consecutives\n",
    "%time test_fiab_0=t.trajet(df_3semaines.loc['2019-01-29 00:00:00':'2019-01-30 15:00:00'], '2019-01-29 08:00:00', 60, [3,18],typeTrajet='Direct')"
   ]
  },
  {
   "cell_type": "code",
   "execution_count": 189,
   "metadata": {},
   "outputs": [],
   "source": [
    "# nb de trajet de transit pl identifie avec tous une fiabilite >0 = 287, >30 = 286, >50 = 281, >75 : 252, >80 : 238, >90 = 192\n",
    "# nb de trajet de transit pl identifie avec au moins 1 d'une fiabilite >0=287, >30= 287, >50 =286, >75 = 278 >80 = 270, > 90 = 250\n",
    "\n",
    "impac_fiab_seuil=pd.DataFrame(data={'nb_obj' : [287, 287, 286, 287, 281, 286, 252, 278, 238, 270, 192, 250], \n",
    "                                   'type' : ['all','any','all','any','all','any','all','any','all','any','all','any'],\n",
    "                                   'seuil':[0,0,30,30,50,50,75,75,80,80,90,90]})\n",
    "impac_fiab_seuil['nb_obj_suppr']=impac_fiab_seuil.apply(lambda x : 287-x['nb_obj'],axis=1)\n",
    "impac_fiab_seuil['pct_obj_suppr']=impac_fiab_seuil.apply(lambda x : x['nb_obj_suppr']*100/287,axis=1)\n",
    "impac_fiab_seuil"
   ]
  },
  {
   "cell_type": "code",
   "execution_count": 197,
   "metadata": {},
   "outputs": [],
   "source": [
    "alt.Chart(impac_fiab_seuil).mark_bar(opacity=0.7).encode(\n",
    "    x='seuil:O',\n",
    "    y=alt.Y('nb_obj_suppr:Q', stack=None),\n",
    "    color='type'\n",
    ")"
   ]
  },
  {
   "cell_type": "code",
   "execution_count": 203,
   "metadata": {},
   "outputs": [],
   "source": [
    "alt.Chart(impac_fiab_seuil).mark_line().encode(\n",
    "    x='seuil:O',\n",
    "    y='pct_obj_suppr:Q',\n",
    "    color='type'\n",
    ")"
   ]
  },
  {
   "cell_type": "code",
   "execution_count": 205,
   "metadata": {},
   "outputs": [],
   "source": [
    "alt.Chart(impac_fiab_seuil).mark_line().encode(\n",
    "    x='seuil:O',\n",
    "    y='nb_obj_suppr:Q',\n",
    "    y2='pct_obj_suppr:Q',\n",
    "    color='type'\n",
    ")"
   ]
  },
  {
   "cell_type": "code",
   "execution_count": 247,
   "metadata": {},
   "outputs": [
    {
     "data": {
      "application/vnd.vegalite.v2+json": {
       "$schema": "https://vega.github.io/schema/vega-lite/v2.6.0.json",
       "config": {
        "view": {
         "height": 300,
         "width": 400
        }
       },
       "datasets": {
        "data-380b6bd10af00b2be38381c514644575": [
         {
          "nb_obj": 287,
          "nb_obj_suppr": 0,
          "pct_obj_suppr": 0,
          "seuil": 0,
          "type": "all"
         },
         {
          "nb_obj": 287,
          "nb_obj_suppr": 0,
          "pct_obj_suppr": 0,
          "seuil": 0,
          "type": "any"
         },
         {
          "nb_obj": 286,
          "nb_obj_suppr": 1,
          "pct_obj_suppr": 0.34843205574912894,
          "seuil": 30,
          "type": "all"
         },
         {
          "nb_obj": 287,
          "nb_obj_suppr": 0,
          "pct_obj_suppr": 0,
          "seuil": 30,
          "type": "any"
         },
         {
          "nb_obj": 281,
          "nb_obj_suppr": 6,
          "pct_obj_suppr": 2.0905923344947737,
          "seuil": 50,
          "type": "all"
         },
         {
          "nb_obj": 286,
          "nb_obj_suppr": 1,
          "pct_obj_suppr": 0.34843205574912894,
          "seuil": 50,
          "type": "any"
         },
         {
          "nb_obj": 252,
          "nb_obj_suppr": 35,
          "pct_obj_suppr": 12.195121951219512,
          "seuil": 75,
          "type": "all"
         },
         {
          "nb_obj": 278,
          "nb_obj_suppr": 9,
          "pct_obj_suppr": 3.1358885017421603,
          "seuil": 75,
          "type": "any"
         },
         {
          "nb_obj": 238,
          "nb_obj_suppr": 49,
          "pct_obj_suppr": 17.073170731707318,
          "seuil": 80,
          "type": "all"
         },
         {
          "nb_obj": 270,
          "nb_obj_suppr": 17,
          "pct_obj_suppr": 5.923344947735192,
          "seuil": 80,
          "type": "any"
         },
         {
          "nb_obj": 192,
          "nb_obj_suppr": 95,
          "pct_obj_suppr": 33.10104529616725,
          "seuil": 90,
          "type": "all"
         },
         {
          "nb_obj": 250,
          "nb_obj_suppr": 37,
          "pct_obj_suppr": 12.89198606271777,
          "seuil": 90,
          "type": "any"
         }
        ]
       },
       "layer": [
        {
         "data": {
          "name": "data-380b6bd10af00b2be38381c514644575"
         },
         "encoding": {
          "stroke": {
           "field": "type",
           "type": "ordinal"
          },
          "x": {
           "field": "seuil",
           "type": "ordinal"
          },
          "y": {
           "field": "nb_obj_suppr",
           "stack": null,
           "type": "quantitative"
          }
         },
         "mark": {
          "filled": false,
          "strokeWidth": 3,
          "type": "bar"
         }
        },
        {
         "data": {
          "name": "data-380b6bd10af00b2be38381c514644575"
         },
         "encoding": {
          "color": {
           "field": "type",
           "scale": {
            "scheme": "dark2"
           },
           "type": "nominal"
          },
          "x": {
           "field": "seuil",
           "type": "ordinal"
          },
          "y": {
           "field": "pct_obj_suppr",
           "type": "quantitative"
          }
         },
         "mark": {
          "strokeWidth": 3,
          "type": "line"
         }
        }
       ],
       "width": 300
      },
      "image/png": "[encoded data removed]",
      "text/plain": [
       "<VegaLite 2 object>\n",
       "\n",
       "If you see this message, it means the renderer has not been properly enabled\n",
       "for the frontend that you are using. For more information, see\n",
       "https://altair-viz.github.io/user_guide/troubleshooting.html\n"
      ]
     },
     "execution_count": 247,
     "metadata": {},
     "output_type": "execute_result"
    }
   ],
   "source": [
    "base=alt.Chart(impac_fiab_seuil).encode(x='seuil:O')\n",
    "bar = base.mark_bar(filled=False,strokeWidth=3).encode(y=alt.Y('nb_obj_suppr:Q', stack=None),stroke='type:O')\n",
    "line =  base.mark_line(strokeWidth=3).encode(y='pct_obj_suppr:Q',color=alt.Color('type', scale=alt.Scale(scheme='dark2')))\n",
    "(bar + line).properties(width=300)"
   ]
  },
  {
   "cell_type": "code",
   "execution_count": 174,
   "metadata": {},
   "outputs": [
    {
     "data": {
      "text/plain": [
       "[287, 287, 286, 287, 281, 286, 252, 278, 238, 270, 192, 250]"
      ]
     },
     "execution_count": 174,
     "metadata": {},
     "output_type": "execute_result"
    }
   ],
   "source": [
    "b=[]\n",
    "for a in zip([287,286,281,252,238,192],[287,287,286,278,270,250]) :\n",
    "    b.append(a[0])\n",
    "    b.append(a[1])\n"
   ]
  },
  {
   "cell_type": "code",
   "execution_count": 153,
   "metadata": {},
   "outputs": [
    {
     "data": {
      "text/html": [
       "<div>\n",
       "<style scoped>\n",
       "    .dataframe tbody tr th:only-of-type {\n",
       "        vertical-align: middle;\n",
       "    }\n",
       "\n",
       "    .dataframe tbody tr th {\n",
       "        vertical-align: top;\n",
       "    }\n",
       "\n",
       "    .dataframe thead th {\n",
       "        text-align: right;\n",
       "    }\n",
       "</style>\n",
       "<table border=\"1\" class=\"dataframe\">\n",
       "  <thead>\n",
       "    <tr style=\"text-align: right;\">\n",
       "      <th></th>\n",
       "      <th>site</th>\n",
       "      <th>variety</th>\n",
       "      <th>year</th>\n",
       "      <th>yield</th>\n",
       "    </tr>\n",
       "  </thead>\n",
       "  <tbody>\n",
       "    <tr>\n",
       "      <th>0</th>\n",
       "      <td>University Farm</td>\n",
       "      <td>Manchuria</td>\n",
       "      <td>1931</td>\n",
       "      <td>27.00000</td>\n",
       "    </tr>\n",
       "    <tr>\n",
       "      <th>1</th>\n",
       "      <td>Waseca</td>\n",
       "      <td>Manchuria</td>\n",
       "      <td>1931</td>\n",
       "      <td>48.86667</td>\n",
       "    </tr>\n",
       "    <tr>\n",
       "      <th>2</th>\n",
       "      <td>Morris</td>\n",
       "      <td>Manchuria</td>\n",
       "      <td>1931</td>\n",
       "      <td>27.43334</td>\n",
       "    </tr>\n",
       "    <tr>\n",
       "      <th>3</th>\n",
       "      <td>Crookston</td>\n",
       "      <td>Manchuria</td>\n",
       "      <td>1931</td>\n",
       "      <td>39.93333</td>\n",
       "    </tr>\n",
       "    <tr>\n",
       "      <th>4</th>\n",
       "      <td>Grand Rapids</td>\n",
       "      <td>Manchuria</td>\n",
       "      <td>1931</td>\n",
       "      <td>32.96667</td>\n",
       "    </tr>\n",
       "    <tr>\n",
       "      <th>5</th>\n",
       "      <td>Duluth</td>\n",
       "      <td>Manchuria</td>\n",
       "      <td>1931</td>\n",
       "      <td>28.96667</td>\n",
       "    </tr>\n",
       "    <tr>\n",
       "      <th>6</th>\n",
       "      <td>University Farm</td>\n",
       "      <td>Glabron</td>\n",
       "      <td>1931</td>\n",
       "      <td>43.06666</td>\n",
       "    </tr>\n",
       "    <tr>\n",
       "      <th>7</th>\n",
       "      <td>Waseca</td>\n",
       "      <td>Glabron</td>\n",
       "      <td>1931</td>\n",
       "      <td>55.20000</td>\n",
       "    </tr>\n",
       "    <tr>\n",
       "      <th>8</th>\n",
       "      <td>Morris</td>\n",
       "      <td>Glabron</td>\n",
       "      <td>1931</td>\n",
       "      <td>28.76667</td>\n",
       "    </tr>\n",
       "    <tr>\n",
       "      <th>9</th>\n",
       "      <td>Crookston</td>\n",
       "      <td>Glabron</td>\n",
       "      <td>1931</td>\n",
       "      <td>38.13333</td>\n",
       "    </tr>\n",
       "    <tr>\n",
       "      <th>10</th>\n",
       "      <td>Grand Rapids</td>\n",
       "      <td>Glabron</td>\n",
       "      <td>1931</td>\n",
       "      <td>29.13333</td>\n",
       "    </tr>\n",
       "    <tr>\n",
       "      <th>11</th>\n",
       "      <td>Duluth</td>\n",
       "      <td>Glabron</td>\n",
       "      <td>1931</td>\n",
       "      <td>29.66667</td>\n",
       "    </tr>\n",
       "    <tr>\n",
       "      <th>12</th>\n",
       "      <td>University Farm</td>\n",
       "      <td>Svansota</td>\n",
       "      <td>1931</td>\n",
       "      <td>35.13333</td>\n",
       "    </tr>\n",
       "    <tr>\n",
       "      <th>13</th>\n",
       "      <td>Waseca</td>\n",
       "      <td>Svansota</td>\n",
       "      <td>1931</td>\n",
       "      <td>47.33333</td>\n",
       "    </tr>\n",
       "    <tr>\n",
       "      <th>14</th>\n",
       "      <td>Morris</td>\n",
       "      <td>Svansota</td>\n",
       "      <td>1931</td>\n",
       "      <td>25.76667</td>\n",
       "    </tr>\n",
       "    <tr>\n",
       "      <th>15</th>\n",
       "      <td>Crookston</td>\n",
       "      <td>Svansota</td>\n",
       "      <td>1931</td>\n",
       "      <td>40.46667</td>\n",
       "    </tr>\n",
       "    <tr>\n",
       "      <th>16</th>\n",
       "      <td>Grand Rapids</td>\n",
       "      <td>Svansota</td>\n",
       "      <td>1931</td>\n",
       "      <td>29.66667</td>\n",
       "    </tr>\n",
       "    <tr>\n",
       "      <th>17</th>\n",
       "      <td>Duluth</td>\n",
       "      <td>Svansota</td>\n",
       "      <td>1931</td>\n",
       "      <td>25.70000</td>\n",
       "    </tr>\n",
       "    <tr>\n",
       "      <th>18</th>\n",
       "      <td>University Farm</td>\n",
       "      <td>Velvet</td>\n",
       "      <td>1931</td>\n",
       "      <td>39.90000</td>\n",
       "    </tr>\n",
       "    <tr>\n",
       "      <th>19</th>\n",
       "      <td>Waseca</td>\n",
       "      <td>Velvet</td>\n",
       "      <td>1931</td>\n",
       "      <td>50.23333</td>\n",
       "    </tr>\n",
       "    <tr>\n",
       "      <th>20</th>\n",
       "      <td>Morris</td>\n",
       "      <td>Velvet</td>\n",
       "      <td>1931</td>\n",
       "      <td>26.13333</td>\n",
       "    </tr>\n",
       "    <tr>\n",
       "      <th>21</th>\n",
       "      <td>Crookston</td>\n",
       "      <td>Velvet</td>\n",
       "      <td>1931</td>\n",
       "      <td>41.33333</td>\n",
       "    </tr>\n",
       "    <tr>\n",
       "      <th>22</th>\n",
       "      <td>Grand Rapids</td>\n",
       "      <td>Velvet</td>\n",
       "      <td>1931</td>\n",
       "      <td>23.03333</td>\n",
       "    </tr>\n",
       "    <tr>\n",
       "      <th>23</th>\n",
       "      <td>Duluth</td>\n",
       "      <td>Velvet</td>\n",
       "      <td>1931</td>\n",
       "      <td>26.30000</td>\n",
       "    </tr>\n",
       "    <tr>\n",
       "      <th>24</th>\n",
       "      <td>University Farm</td>\n",
       "      <td>Trebi</td>\n",
       "      <td>1931</td>\n",
       "      <td>36.56666</td>\n",
       "    </tr>\n",
       "    <tr>\n",
       "      <th>25</th>\n",
       "      <td>Waseca</td>\n",
       "      <td>Trebi</td>\n",
       "      <td>1931</td>\n",
       "      <td>63.83330</td>\n",
       "    </tr>\n",
       "    <tr>\n",
       "      <th>26</th>\n",
       "      <td>Morris</td>\n",
       "      <td>Trebi</td>\n",
       "      <td>1931</td>\n",
       "      <td>43.76667</td>\n",
       "    </tr>\n",
       "    <tr>\n",
       "      <th>27</th>\n",
       "      <td>Crookston</td>\n",
       "      <td>Trebi</td>\n",
       "      <td>1931</td>\n",
       "      <td>46.93333</td>\n",
       "    </tr>\n",
       "    <tr>\n",
       "      <th>28</th>\n",
       "      <td>Grand Rapids</td>\n",
       "      <td>Trebi</td>\n",
       "      <td>1931</td>\n",
       "      <td>29.76667</td>\n",
       "    </tr>\n",
       "    <tr>\n",
       "      <th>29</th>\n",
       "      <td>Duluth</td>\n",
       "      <td>Trebi</td>\n",
       "      <td>1931</td>\n",
       "      <td>33.93333</td>\n",
       "    </tr>\n",
       "    <tr>\n",
       "      <th>...</th>\n",
       "      <td>...</td>\n",
       "      <td>...</td>\n",
       "      <td>...</td>\n",
       "      <td>...</td>\n",
       "    </tr>\n",
       "    <tr>\n",
       "      <th>90</th>\n",
       "      <td>University Farm</td>\n",
       "      <td>No. 457</td>\n",
       "      <td>1932</td>\n",
       "      <td>26.43334</td>\n",
       "    </tr>\n",
       "    <tr>\n",
       "      <th>91</th>\n",
       "      <td>Waseca</td>\n",
       "      <td>No. 457</td>\n",
       "      <td>1932</td>\n",
       "      <td>42.20000</td>\n",
       "    </tr>\n",
       "    <tr>\n",
       "      <th>92</th>\n",
       "      <td>Morris</td>\n",
       "      <td>No. 457</td>\n",
       "      <td>1932</td>\n",
       "      <td>43.53334</td>\n",
       "    </tr>\n",
       "    <tr>\n",
       "      <th>93</th>\n",
       "      <td>Crookston</td>\n",
       "      <td>No. 457</td>\n",
       "      <td>1932</td>\n",
       "      <td>34.33333</td>\n",
       "    </tr>\n",
       "    <tr>\n",
       "      <th>94</th>\n",
       "      <td>Grand Rapids</td>\n",
       "      <td>No. 457</td>\n",
       "      <td>1932</td>\n",
       "      <td>19.46667</td>\n",
       "    </tr>\n",
       "    <tr>\n",
       "      <th>95</th>\n",
       "      <td>Duluth</td>\n",
       "      <td>No. 457</td>\n",
       "      <td>1932</td>\n",
       "      <td>22.70000</td>\n",
       "    </tr>\n",
       "    <tr>\n",
       "      <th>96</th>\n",
       "      <td>University Farm</td>\n",
       "      <td>No. 462</td>\n",
       "      <td>1932</td>\n",
       "      <td>25.56667</td>\n",
       "    </tr>\n",
       "    <tr>\n",
       "      <th>97</th>\n",
       "      <td>Waseca</td>\n",
       "      <td>No. 462</td>\n",
       "      <td>1932</td>\n",
       "      <td>44.70000</td>\n",
       "    </tr>\n",
       "    <tr>\n",
       "      <th>98</th>\n",
       "      <td>Morris</td>\n",
       "      <td>No. 462</td>\n",
       "      <td>1932</td>\n",
       "      <td>47.00000</td>\n",
       "    </tr>\n",
       "    <tr>\n",
       "      <th>99</th>\n",
       "      <td>Crookston</td>\n",
       "      <td>No. 462</td>\n",
       "      <td>1932</td>\n",
       "      <td>30.53333</td>\n",
       "    </tr>\n",
       "    <tr>\n",
       "      <th>100</th>\n",
       "      <td>Grand Rapids</td>\n",
       "      <td>No. 462</td>\n",
       "      <td>1932</td>\n",
       "      <td>19.90000</td>\n",
       "    </tr>\n",
       "    <tr>\n",
       "      <th>101</th>\n",
       "      <td>Duluth</td>\n",
       "      <td>No. 462</td>\n",
       "      <td>1932</td>\n",
       "      <td>22.50000</td>\n",
       "    </tr>\n",
       "    <tr>\n",
       "      <th>102</th>\n",
       "      <td>University Farm</td>\n",
       "      <td>Peatland</td>\n",
       "      <td>1932</td>\n",
       "      <td>28.06667</td>\n",
       "    </tr>\n",
       "    <tr>\n",
       "      <th>103</th>\n",
       "      <td>Waseca</td>\n",
       "      <td>Peatland</td>\n",
       "      <td>1932</td>\n",
       "      <td>36.03333</td>\n",
       "    </tr>\n",
       "    <tr>\n",
       "      <th>104</th>\n",
       "      <td>Morris</td>\n",
       "      <td>Peatland</td>\n",
       "      <td>1932</td>\n",
       "      <td>43.20000</td>\n",
       "    </tr>\n",
       "    <tr>\n",
       "      <th>105</th>\n",
       "      <td>Crookston</td>\n",
       "      <td>Peatland</td>\n",
       "      <td>1932</td>\n",
       "      <td>25.23333</td>\n",
       "    </tr>\n",
       "    <tr>\n",
       "      <th>106</th>\n",
       "      <td>Grand Rapids</td>\n",
       "      <td>Peatland</td>\n",
       "      <td>1932</td>\n",
       "      <td>26.76667</td>\n",
       "    </tr>\n",
       "    <tr>\n",
       "      <th>107</th>\n",
       "      <td>Duluth</td>\n",
       "      <td>Peatland</td>\n",
       "      <td>1932</td>\n",
       "      <td>31.36667</td>\n",
       "    </tr>\n",
       "    <tr>\n",
       "      <th>108</th>\n",
       "      <td>University Farm</td>\n",
       "      <td>No. 475</td>\n",
       "      <td>1932</td>\n",
       "      <td>30.00000</td>\n",
       "    </tr>\n",
       "    <tr>\n",
       "      <th>109</th>\n",
       "      <td>Waseca</td>\n",
       "      <td>No. 475</td>\n",
       "      <td>1932</td>\n",
       "      <td>41.26667</td>\n",
       "    </tr>\n",
       "    <tr>\n",
       "      <th>110</th>\n",
       "      <td>Morris</td>\n",
       "      <td>No. 475</td>\n",
       "      <td>1932</td>\n",
       "      <td>44.23333</td>\n",
       "    </tr>\n",
       "    <tr>\n",
       "      <th>111</th>\n",
       "      <td>Crookston</td>\n",
       "      <td>No. 475</td>\n",
       "      <td>1932</td>\n",
       "      <td>32.13333</td>\n",
       "    </tr>\n",
       "    <tr>\n",
       "      <th>112</th>\n",
       "      <td>Grand Rapids</td>\n",
       "      <td>No. 475</td>\n",
       "      <td>1932</td>\n",
       "      <td>15.23333</td>\n",
       "    </tr>\n",
       "    <tr>\n",
       "      <th>113</th>\n",
       "      <td>Duluth</td>\n",
       "      <td>No. 475</td>\n",
       "      <td>1932</td>\n",
       "      <td>27.36667</td>\n",
       "    </tr>\n",
       "    <tr>\n",
       "      <th>114</th>\n",
       "      <td>University Farm</td>\n",
       "      <td>Wisconsin No. 38</td>\n",
       "      <td>1932</td>\n",
       "      <td>38.00000</td>\n",
       "    </tr>\n",
       "    <tr>\n",
       "      <th>115</th>\n",
       "      <td>Waseca</td>\n",
       "      <td>Wisconsin No. 38</td>\n",
       "      <td>1932</td>\n",
       "      <td>58.16667</td>\n",
       "    </tr>\n",
       "    <tr>\n",
       "      <th>116</th>\n",
       "      <td>Morris</td>\n",
       "      <td>Wisconsin No. 38</td>\n",
       "      <td>1932</td>\n",
       "      <td>47.16667</td>\n",
       "    </tr>\n",
       "    <tr>\n",
       "      <th>117</th>\n",
       "      <td>Crookston</td>\n",
       "      <td>Wisconsin No. 38</td>\n",
       "      <td>1932</td>\n",
       "      <td>35.90000</td>\n",
       "    </tr>\n",
       "    <tr>\n",
       "      <th>118</th>\n",
       "      <td>Grand Rapids</td>\n",
       "      <td>Wisconsin No. 38</td>\n",
       "      <td>1932</td>\n",
       "      <td>20.66667</td>\n",
       "    </tr>\n",
       "    <tr>\n",
       "      <th>119</th>\n",
       "      <td>Duluth</td>\n",
       "      <td>Wisconsin No. 38</td>\n",
       "      <td>1932</td>\n",
       "      <td>29.33333</td>\n",
       "    </tr>\n",
       "  </tbody>\n",
       "</table>\n",
       "<p>120 rows × 4 columns</p>\n",
       "</div>"
      ],
      "text/plain": [
       "                site           variety  year     yield\n",
       "0    University Farm         Manchuria  1931  27.00000\n",
       "1             Waseca         Manchuria  1931  48.86667\n",
       "2             Morris         Manchuria  1931  27.43334\n",
       "3          Crookston         Manchuria  1931  39.93333\n",
       "4       Grand Rapids         Manchuria  1931  32.96667\n",
       "5             Duluth         Manchuria  1931  28.96667\n",
       "6    University Farm           Glabron  1931  43.06666\n",
       "7             Waseca           Glabron  1931  55.20000\n",
       "8             Morris           Glabron  1931  28.76667\n",
       "9          Crookston           Glabron  1931  38.13333\n",
       "10      Grand Rapids           Glabron  1931  29.13333\n",
       "11            Duluth           Glabron  1931  29.66667\n",
       "12   University Farm          Svansota  1931  35.13333\n",
       "13            Waseca          Svansota  1931  47.33333\n",
       "14            Morris          Svansota  1931  25.76667\n",
       "15         Crookston          Svansota  1931  40.46667\n",
       "16      Grand Rapids          Svansota  1931  29.66667\n",
       "17            Duluth          Svansota  1931  25.70000\n",
       "18   University Farm            Velvet  1931  39.90000\n",
       "19            Waseca            Velvet  1931  50.23333\n",
       "20            Morris            Velvet  1931  26.13333\n",
       "21         Crookston            Velvet  1931  41.33333\n",
       "22      Grand Rapids            Velvet  1931  23.03333\n",
       "23            Duluth            Velvet  1931  26.30000\n",
       "24   University Farm             Trebi  1931  36.56666\n",
       "25            Waseca             Trebi  1931  63.83330\n",
       "26            Morris             Trebi  1931  43.76667\n",
       "27         Crookston             Trebi  1931  46.93333\n",
       "28      Grand Rapids             Trebi  1931  29.76667\n",
       "29            Duluth             Trebi  1931  33.93333\n",
       "..               ...               ...   ...       ...\n",
       "90   University Farm           No. 457  1932  26.43334\n",
       "91            Waseca           No. 457  1932  42.20000\n",
       "92            Morris           No. 457  1932  43.53334\n",
       "93         Crookston           No. 457  1932  34.33333\n",
       "94      Grand Rapids           No. 457  1932  19.46667\n",
       "95            Duluth           No. 457  1932  22.70000\n",
       "96   University Farm           No. 462  1932  25.56667\n",
       "97            Waseca           No. 462  1932  44.70000\n",
       "98            Morris           No. 462  1932  47.00000\n",
       "99         Crookston           No. 462  1932  30.53333\n",
       "100     Grand Rapids           No. 462  1932  19.90000\n",
       "101           Duluth           No. 462  1932  22.50000\n",
       "102  University Farm          Peatland  1932  28.06667\n",
       "103           Waseca          Peatland  1932  36.03333\n",
       "104           Morris          Peatland  1932  43.20000\n",
       "105        Crookston          Peatland  1932  25.23333\n",
       "106     Grand Rapids          Peatland  1932  26.76667\n",
       "107           Duluth          Peatland  1932  31.36667\n",
       "108  University Farm           No. 475  1932  30.00000\n",
       "109           Waseca           No. 475  1932  41.26667\n",
       "110           Morris           No. 475  1932  44.23333\n",
       "111        Crookston           No. 475  1932  32.13333\n",
       "112     Grand Rapids           No. 475  1932  15.23333\n",
       "113           Duluth           No. 475  1932  27.36667\n",
       "114  University Farm  Wisconsin No. 38  1932  38.00000\n",
       "115           Waseca  Wisconsin No. 38  1932  58.16667\n",
       "116           Morris  Wisconsin No. 38  1932  47.16667\n",
       "117        Crookston  Wisconsin No. 38  1932  35.90000\n",
       "118     Grand Rapids  Wisconsin No. 38  1932  20.66667\n",
       "119           Duluth  Wisconsin No. 38  1932  29.33333\n",
       "\n",
       "[120 rows x 4 columns]"
      ]
     },
     "execution_count": 153,
     "metadata": {},
     "output_type": "execute_result"
    }
   ],
   "source": [
    "source = data.barley()\n",
    "source"
   ]
  },
  {
   "cell_type": "markdown",
   "metadata": {},
   "source": [
    "    Chap 2.1. Trouver les échanges directs"
   ]
  },
  {
   "cell_type": "code",
   "execution_count": 28,
   "metadata": {},
   "outputs": [],
   "source": [
    "#On utilise la classe trajet_direct\n",
    "direct_cam_19_5=t.trajet_direct(df_journee, '2019-01-29 08:00:00', 60, 2, 19, 5, avecGraph=True) #True pour pouvoir faire des graphs"
   ]
  },
  {
   "cell_type": "code",
   "execution_count": 1,
   "metadata": {},
   "outputs": [
    {
     "ename": "NameError",
     "evalue": "name 'direct_cam_19_5' is not defined",
     "output_type": "error",
     "traceback": [
      "\u001b[1;31m---------------------------------------------------------------------------\u001b[0m",
      "\u001b[1;31mNameError\u001b[0m                                 Traceback (most recent call last)",
      "\u001b[1;32m<ipython-input-1-8441b17fdf4d>\u001b[0m in \u001b[0;36m<module>\u001b[1;34m\u001b[0m\n\u001b[1;32m----> 1\u001b[1;33m \u001b[0mdirect_cam_19_5\u001b[0m\u001b[1;33m.\u001b[0m\u001b[0mdf_tps_parcours_pl_final\u001b[0m\u001b[1;33m.\u001b[0m\u001b[0mhead\u001b[0m\u001b[1;33m(\u001b[0m\u001b[1;36m5\u001b[0m\u001b[1;33m)\u001b[0m\u001b[1;33m\u001b[0m\u001b[0m\n\u001b[0m",
      "\u001b[1;31mNameError\u001b[0m: name 'direct_cam_19_5' is not defined"
     ]
    }
   ],
   "source": [
    "direct_cam_19_5.df_tps_parcours_pl_final.head(5)"
   ]
  },
  {
   "cell_type": "code",
   "execution_count": 6,
   "metadata": {},
   "outputs": [
    {
     "data": {
      "application/vnd.vegalite.v2+json": {
       "$schema": "https://vega.github.io/schema/vega-lite/v2.6.0.json",
       "config": {
        "view": {
         "height": 300,
         "width": 400
        }
       },
       "datasets": {
        "data-9f7e13d642cba7537742bef96779f3fc": [
         {
          "created_x": "2019-01-29T08:02:04",
          "l": 1,
          "pl_85pctl": "2018-01-01T01:02:13.500000",
          "pl_90pctl": "2018-01-01T01:07:55",
          "tps_parcours": "2018-01-01T00:34:54"
         },
         {
          "created_x": "2019-01-29T08:07:36",
          "l": 1,
          "pl_85pctl": "2018-01-01T01:02:13.500000",
          "pl_90pctl": "2018-01-01T01:07:55",
          "tps_parcours": "2018-01-01T00:33:47"
         },
         {
          "created_x": "2019-01-29T08:11:25",
          "l": 1,
          "pl_85pctl": "2018-01-01T01:02:13.500000",
          "pl_90pctl": "2018-01-01T01:07:55",
          "tps_parcours": "2018-01-01T00:33:29"
         },
         {
          "created_x": "2019-01-29T08:14:52",
          "l": 1,
          "pl_85pctl": "2018-01-01T01:02:13.500000",
          "pl_90pctl": "2018-01-01T01:07:55",
          "tps_parcours": "2018-01-01T00:32:41"
         },
         {
          "created_x": "2019-01-29T08:33:11",
          "l": 1,
          "pl_85pctl": "2018-01-01T01:02:13.500000",
          "pl_90pctl": "2018-01-01T01:07:55",
          "tps_parcours": "2018-01-01T00:25:13"
         },
         {
          "created_x": "2019-01-29T08:14:52",
          "l": 1,
          "pl_85pctl": "2018-01-01T01:02:13.500000",
          "pl_90pctl": "2018-01-01T01:07:55",
          "tps_parcours": "2018-01-01T00:46:21"
         },
         {
          "created_x": "2019-01-29T08:31:20",
          "l": 1,
          "pl_85pctl": "2018-01-01T01:02:13.500000",
          "pl_90pctl": "2018-01-01T01:07:55",
          "tps_parcours": "2018-01-01T00:30:15"
         },
         {
          "created_x": "2019-01-29T08:29:18",
          "l": 1,
          "pl_85pctl": "2018-01-01T01:02:13.500000",
          "pl_90pctl": "2018-01-01T01:07:55",
          "tps_parcours": "2018-01-01T00:32:18"
         },
         {
          "created_x": "2019-01-29T08:48:27",
          "l": 1,
          "pl_85pctl": "2018-01-01T01:02:13.500000",
          "pl_90pctl": "2018-01-01T01:07:55",
          "tps_parcours": "2018-01-01T00:26:25"
         },
         {
          "created_x": "2019-01-29T08:12:21",
          "l": 1,
          "pl_85pctl": "2018-01-01T01:02:13.500000",
          "pl_90pctl": "2018-01-01T01:07:55",
          "tps_parcours": "2018-01-01T01:07:31"
         },
         {
          "created_x": "2019-01-29T08:47:50",
          "l": 1,
          "pl_85pctl": "2018-01-01T01:02:13.500000",
          "pl_90pctl": "2018-01-01T01:07:55",
          "tps_parcours": "2018-01-01T00:32:17"
         },
         {
          "created_x": "2019-01-29T08:48:46",
          "l": 1,
          "pl_85pctl": "2018-01-01T01:02:13.500000",
          "pl_90pctl": "2018-01-01T01:07:55",
          "tps_parcours": "2018-01-01T00:32:41"
         },
         {
          "created_x": "2019-01-29T08:52:39",
          "l": 1,
          "pl_85pctl": "2018-01-01T01:02:13.500000",
          "pl_90pctl": "2018-01-01T01:07:55",
          "tps_parcours": "2018-01-01T00:31:53"
         },
         {
          "created_x": "2019-01-29T08:54:52",
          "l": 1,
          "pl_85pctl": "2018-01-01T01:02:13.500000",
          "pl_90pctl": "2018-01-01T01:07:55",
          "tps_parcours": "2018-01-01T00:31:01"
         },
         {
          "created_x": "2019-01-29T08:24:40",
          "l": 1,
          "pl_85pctl": "2018-01-01T01:02:13.500000",
          "pl_90pctl": "2018-01-01T01:07:55",
          "tps_parcours": "2018-01-01T01:25:03"
         },
         {
          "created_x": "2019-01-29T08:43:49",
          "l": 1,
          "pl_85pctl": "2018-01-01T01:02:13.500000",
          "pl_90pctl": "2018-01-01T01:07:55",
          "tps_parcours": "2018-01-01T01:08:19"
         }
        ],
        "data-cb58f966a589f0e2863e23ebbce3eca4": [
         {
          "created_x": "2019-01-29T08:02:04",
          "l": 1,
          "pl_85pctl": "2018-01-01T01:02:13.500000",
          "pl_90pctl": "2018-01-01T01:07:55",
          "pl_cluster": "2018-01-01T00:34:54",
          "tps_parcours": "2018-01-01T00:34:54"
         },
         {
          "created_x": "2019-01-29T08:07:36",
          "l": 1,
          "pl_85pctl": "2018-01-01T01:02:13.500000",
          "pl_90pctl": "2018-01-01T01:07:55",
          "pl_cluster": "2018-01-01T00:34:54",
          "tps_parcours": "2018-01-01T00:33:47"
         },
         {
          "created_x": "2019-01-29T08:11:25",
          "l": 1,
          "pl_85pctl": "2018-01-01T01:02:13.500000",
          "pl_90pctl": "2018-01-01T01:07:55",
          "pl_cluster": "2018-01-01T00:34:54",
          "tps_parcours": "2018-01-01T00:33:29"
         },
         {
          "created_x": "2019-01-29T08:14:52",
          "l": 1,
          "pl_85pctl": "2018-01-01T01:02:13.500000",
          "pl_90pctl": "2018-01-01T01:07:55",
          "pl_cluster": "2018-01-01T00:34:54",
          "tps_parcours": "2018-01-01T00:32:41"
         },
         {
          "created_x": "2019-01-29T08:33:11",
          "l": 1,
          "pl_85pctl": "2018-01-01T01:02:13.500000",
          "pl_90pctl": "2018-01-01T01:07:55",
          "pl_cluster": "2018-01-01T00:34:54",
          "tps_parcours": "2018-01-01T00:25:13"
         },
         {
          "created_x": "2019-01-29T08:14:52",
          "l": 1,
          "pl_85pctl": "2018-01-01T01:02:13.500000",
          "pl_90pctl": "2018-01-01T01:07:55",
          "pl_cluster": "2018-01-01T00:34:54",
          "tps_parcours": "2018-01-01T00:46:21"
         },
         {
          "created_x": "2019-01-29T08:31:20",
          "l": 1,
          "pl_85pctl": "2018-01-01T01:02:13.500000",
          "pl_90pctl": "2018-01-01T01:07:55",
          "pl_cluster": "2018-01-01T00:34:54",
          "tps_parcours": "2018-01-01T00:30:15"
         },
         {
          "created_x": "2019-01-29T08:29:18",
          "l": 1,
          "pl_85pctl": "2018-01-01T01:02:13.500000",
          "pl_90pctl": "2018-01-01T01:07:55",
          "pl_cluster": "2018-01-01T00:34:54",
          "tps_parcours": "2018-01-01T00:32:18"
         },
         {
          "created_x": "2019-01-29T08:48:27",
          "l": 1,
          "pl_85pctl": "2018-01-01T01:02:13.500000",
          "pl_90pctl": "2018-01-01T01:07:55",
          "pl_cluster": "2018-01-01T00:34:54",
          "tps_parcours": "2018-01-01T00:26:25"
         },
         {
          "created_x": "2019-01-29T08:12:21",
          "l": 1,
          "pl_85pctl": "2018-01-01T01:02:13.500000",
          "pl_90pctl": "2018-01-01T01:07:55",
          "pl_cluster": "2018-01-01T00:34:54",
          "tps_parcours": "2018-01-01T01:07:31"
         },
         {
          "created_x": "2019-01-29T08:47:50",
          "l": 1,
          "pl_85pctl": "2018-01-01T01:02:13.500000",
          "pl_90pctl": "2018-01-01T01:07:55",
          "pl_cluster": "2018-01-01T00:34:54",
          "tps_parcours": "2018-01-01T00:32:17"
         },
         {
          "created_x": "2019-01-29T08:48:46",
          "l": 1,
          "pl_85pctl": "2018-01-01T01:02:13.500000",
          "pl_90pctl": "2018-01-01T01:07:55",
          "pl_cluster": "2018-01-01T00:34:54",
          "tps_parcours": "2018-01-01T00:32:41"
         },
         {
          "created_x": "2019-01-29T08:52:39",
          "l": 1,
          "pl_85pctl": "2018-01-01T01:02:13.500000",
          "pl_90pctl": "2018-01-01T01:07:55",
          "pl_cluster": "2018-01-01T00:34:54",
          "tps_parcours": "2018-01-01T00:31:53"
         },
         {
          "created_x": "2019-01-29T08:54:52",
          "l": 1,
          "pl_85pctl": "2018-01-01T01:02:13.500000",
          "pl_90pctl": "2018-01-01T01:07:55",
          "pl_cluster": "2018-01-01T00:34:54",
          "tps_parcours": "2018-01-01T00:31:01"
         },
         {
          "created_x": "2019-01-29T08:24:40",
          "l": 1,
          "pl_85pctl": "2018-01-01T01:02:13.500000",
          "pl_90pctl": "2018-01-01T01:07:55",
          "pl_cluster": "2018-01-01T00:34:54",
          "tps_parcours": "2018-01-01T01:25:03"
         },
         {
          "created_x": "2019-01-29T08:43:49",
          "l": 1,
          "pl_85pctl": "2018-01-01T01:02:13.500000",
          "pl_90pctl": "2018-01-01T01:07:55",
          "pl_cluster": "2018-01-01T00:34:54",
          "tps_parcours": "2018-01-01T01:08:19"
         }
        ]
       },
       "layer": [
        {
         "data": {
          "name": "data-9f7e13d642cba7537742bef96779f3fc"
         },
         "encoding": {
          "tooltip": {
           "field": "tps_parcours",
           "timeUnit": "hoursminutes",
           "type": "temporal"
          },
          "x": {
           "field": "created_x",
           "type": "temporal"
          },
          "y": {
           "field": "tps_parcours",
           "timeUnit": "hoursminutes",
           "type": "temporal"
          }
         },
         "mark": {
          "color": "gray",
          "type": "point"
         },
         "selection": {
          "selector003": {
           "bind": "scales",
           "encodings": [
            "x",
            "y"
           ],
           "mark": {
            "fill": "#333",
            "fillOpacity": 0.125,
            "stroke": "white"
           },
           "on": "[mousedown, window:mouseup] > window:mousemove!",
           "resolve": "global",
           "translate": "[mousedown, window:mouseup] > window:mousemove!",
           "type": "interval",
           "zoom": "wheel!"
          }
         }
        },
        {
         "data": {
          "name": "data-9f7e13d642cba7537742bef96779f3fc"
         },
         "encoding": {
          "x": {
           "field": "created_x",
           "type": "temporal"
          },
          "y": {
           "field": "pl_90pctl",
           "timeUnit": "hoursminutes",
           "type": "temporal"
          }
         },
         "mark": {
          "color": "blue",
          "type": "line"
         }
        },
        {
         "data": {
          "name": "data-9f7e13d642cba7537742bef96779f3fc"
         },
         "encoding": {
          "x": {
           "field": "created_x",
           "type": "temporal"
          },
          "y": {
           "field": "pl_85pctl",
           "timeUnit": "hoursminutes",
           "type": "temporal"
          }
         },
         "mark": {
          "color": "red",
          "type": "line"
         }
        },
        {
         "data": {
          "name": "data-cb58f966a589f0e2863e23ebbce3eca4"
         },
         "encoding": {
          "x": {
           "field": "created_x",
           "type": "temporal"
          },
          "y": {
           "field": "pl_cluster",
           "timeUnit": "hoursminutes",
           "type": "temporal"
          }
         },
         "mark": {
          "color": "yellow",
          "type": "line"
         }
        }
       ]
      },
      "image/png": "[encoded data removed]",
      "text/plain": [
       "<VegaLite 2 object>\n",
       "\n",
       "If you see this message, it means the renderer has not been properly enabled\n",
       "for the frontend that you are using. For more information, see\n",
       "https://altair-viz.github.io/user_guide/troubleshooting.html\n"
      ]
     },
     "execution_count": 6,
     "metadata": {},
     "output_type": "execute_result"
    }
   ],
   "source": [
    "#cette instance contient bcp d'attribut : \n",
    "# - de comptage de veh\n",
    "# - de Dataframes (intermediaires et finalles)\n",
    "# - de graphs\n",
    "direct_cam_19_5.graph_prctl"
   ]
  },
  {
   "cell_type": "code",
   "execution_count": 7,
   "metadata": {},
   "outputs": [
    {
     "data": {
      "application/vnd.vegalite.v2+json": {
       "$schema": "https://vega.github.io/schema/vega-lite/v2.6.0.json",
       "config": {
        "view": {
         "height": 300,
         "width": 400
        }
       },
       "data": {
        "name": "data-8760166619aa0e6f0328f131e0733aaa"
       },
       "datasets": {
        "data-8760166619aa0e6f0328f131e0733aaa": [
         {
          "type": "nb_tv_tot",
          "value": 37
         },
         {
          "type": "nb_tv_plaque_ok",
          "value": 35
         },
         {
          "type": "nb_vlpl",
          "value": 30
         },
         {
          "type": "nb_veh_ok",
          "value": 29
         },
         {
          "type": "nb_vl_ok",
          "value": 13
         },
         {
          "type": "nb_pl_ok",
          "value": 16
         }
        ]
       },
       "encoding": {
        "color": {
         "field": "type",
         "type": "nominal"
        },
        "x": {
         "field": "type",
         "sort": {
          "field": "value",
          "op": "mean"
         },
         "type": "nominal"
        },
        "y": {
         "field": "value",
         "type": "quantitative"
        }
       },
       "mark": {
        "size": 20,
        "type": "bar"
       }
      },
      "image/png": "[encoded data removed]",
      "text/plain": [
       "<VegaLite 2 object>\n",
       "\n",
       "If you see this message, it means the renderer has not been properly enabled\n",
       "for the frontend that you are using. For more information, see\n",
       "https://altair-viz.github.io/user_guide/troubleshooting.html\n"
      ]
     },
     "execution_count": 7,
     "metadata": {},
     "output_type": "execute_result"
    }
   ],
   "source": [
    "direct_cam_19_5.graph_stat_trie"
   ]
  },
  {
   "cell_type": "markdown",
   "metadata": {},
   "source": [
    "    Chap 2.2. Trouver les échanges indirects"
   ]
  },
  {
   "cell_type": "code",
   "execution_count": 30,
   "metadata": {},
   "outputs": [],
   "source": [
    "#et on reutilie la classe df_tps_parcours, qui ne renvoi que les immat qui passent directement par la seconde cameras \n",
    "#on pourrait utiliser les données de temps max collectées par les échanges indirect pour limiter les données, là je laisse la possibilité de prendre 16h plus tard\n",
    "indirect_cam19_5=t.trajet_indirect(df_journee,'2019-01-29 08:00:00', 60, 16,[19,4,5])"
   ]
  },
  {
   "cell_type": "code",
   "execution_count": 10,
   "metadata": {},
   "outputs": [
    {
     "data": {
      "text/plain": [
       "{'trajet0': <traitement_od.trajet_direct at 0x1db83bcd160>,\n",
       " 'trajet1': <traitement_od.trajet_direct at 0x1db83bcd470>}"
      ]
     },
     "execution_count": 10,
     "metadata": {},
     "output_type": "execute_result"
    }
   ],
   "source": [
    "#cet objet renvoi une df finale et un dico composé des trajets directs\n",
    "indirect_cam19_5.dico_traj_directs"
   ]
  },
  {
   "cell_type": "code",
   "execution_count": 31,
   "metadata": {},
   "outputs": [
    {
     "data": {
      "text/html": [
       "<div>\n",
       "<style scoped>\n",
       "    .dataframe tbody tr th:only-of-type {\n",
       "        vertical-align: middle;\n",
       "    }\n",
       "\n",
       "    .dataframe tbody tr th {\n",
       "        vertical-align: top;\n",
       "    }\n",
       "\n",
       "    .dataframe thead th {\n",
       "        text-align: right;\n",
       "    }\n",
       "</style>\n",
       "<table border=\"1\" class=\"dataframe\">\n",
       "  <thead>\n",
       "    <tr style=\"text-align: right;\">\n",
       "      <th></th>\n",
       "      <th>immat</th>\n",
       "      <th>date_cam_1</th>\n",
       "      <th>date_cam_2</th>\n",
       "      <th>cam_1</th>\n",
       "      <th>cam_2</th>\n",
       "      <th>tps_parcours</th>\n",
       "      <th>cameras</th>\n",
       "    </tr>\n",
       "  </thead>\n",
       "  <tbody>\n",
       "    <tr>\n",
       "      <th>0</th>\n",
       "      <td>bf9dfd50a4a693085e3080156f11c25314f96f03</td>\n",
       "      <td>2019-01-29 08:00:56</td>\n",
       "      <td>2019-01-29 08:37:18</td>\n",
       "      <td>19</td>\n",
       "      <td>5</td>\n",
       "      <td>00:36:22</td>\n",
       "      <td>[19, 4, 5]</td>\n",
       "    </tr>\n",
       "    <tr>\n",
       "      <th>1</th>\n",
       "      <td>cf4f7ddbb3a6d9006e029777df712a53c2d76992</td>\n",
       "      <td>2019-01-29 08:01:07</td>\n",
       "      <td>2019-01-29 08:37:04</td>\n",
       "      <td>19</td>\n",
       "      <td>5</td>\n",
       "      <td>00:35:57</td>\n",
       "      <td>[19, 4, 5]</td>\n",
       "    </tr>\n",
       "    <tr>\n",
       "      <th>2</th>\n",
       "      <td>183bc8585ac5a2e26b6d2ada6ce6891235a36b92</td>\n",
       "      <td>2019-01-29 08:01:16</td>\n",
       "      <td>2019-01-29 08:37:20</td>\n",
       "      <td>19</td>\n",
       "      <td>5</td>\n",
       "      <td>00:36:04</td>\n",
       "      <td>[19, 4, 5]</td>\n",
       "    </tr>\n",
       "    <tr>\n",
       "      <th>3</th>\n",
       "      <td>dcf2ffa7638b1ae7d0281cbb94d4c7cf0a0912f7</td>\n",
       "      <td>2019-01-29 08:02:34</td>\n",
       "      <td>2019-01-29 08:37:42</td>\n",
       "      <td>19</td>\n",
       "      <td>5</td>\n",
       "      <td>00:35:08</td>\n",
       "      <td>[19, 4, 5]</td>\n",
       "    </tr>\n",
       "    <tr>\n",
       "      <th>4</th>\n",
       "      <td>54581cfa0b0f0c1dbe24fd60ca7efcc07439232f</td>\n",
       "      <td>2019-01-29 08:02:19</td>\n",
       "      <td>2019-01-29 08:38:07</td>\n",
       "      <td>19</td>\n",
       "      <td>5</td>\n",
       "      <td>00:35:48</td>\n",
       "      <td>[19, 4, 5]</td>\n",
       "    </tr>\n",
       "  </tbody>\n",
       "</table>\n",
       "</div>"
      ],
      "text/plain": [
       "                                      immat          date_cam_1  \\\n",
       "0  bf9dfd50a4a693085e3080156f11c25314f96f03 2019-01-29 08:00:56   \n",
       "1  cf4f7ddbb3a6d9006e029777df712a53c2d76992 2019-01-29 08:01:07   \n",
       "2  183bc8585ac5a2e26b6d2ada6ce6891235a36b92 2019-01-29 08:01:16   \n",
       "3  dcf2ffa7638b1ae7d0281cbb94d4c7cf0a0912f7 2019-01-29 08:02:34   \n",
       "4  54581cfa0b0f0c1dbe24fd60ca7efcc07439232f 2019-01-29 08:02:19   \n",
       "\n",
       "           date_cam_2  cam_1  cam_2 tps_parcours     cameras  \n",
       "0 2019-01-29 08:37:18     19      5     00:36:22  [19, 4, 5]  \n",
       "1 2019-01-29 08:37:04     19      5     00:35:57  [19, 4, 5]  \n",
       "2 2019-01-29 08:37:20     19      5     00:36:04  [19, 4, 5]  \n",
       "3 2019-01-29 08:37:42     19      5     00:35:08  [19, 4, 5]  \n",
       "4 2019-01-29 08:38:07     19      5     00:35:48  [19, 4, 5]  "
      ]
     },
     "execution_count": 31,
     "metadata": {},
     "output_type": "execute_result"
    }
   ],
   "source": [
    "indirect_cam19_5.df_transit.head(5)"
   ]
  },
  {
   "cell_type": "markdown",
   "metadata": {},
   "source": [
    "Chap 3. Faire une rechreche sur 1 journee"
   ]
  },
  {
   "cell_type": "code",
   "execution_count": 16,
   "metadata": {},
   "outputs": [
    {
     "data": {
      "text/html": [
       "<div>\n",
       "<style scoped>\n",
       "    .dataframe tbody tr th:only-of-type {\n",
       "        vertical-align: middle;\n",
       "    }\n",
       "\n",
       "    .dataframe tbody tr th {\n",
       "        vertical-align: top;\n",
       "    }\n",
       "\n",
       "    .dataframe thead th {\n",
       "        text-align: right;\n",
       "    }\n",
       "</style>\n",
       "<table border=\"1\" class=\"dataframe\">\n",
       "  <thead>\n",
       "    <tr style=\"text-align: right;\">\n",
       "      <th></th>\n",
       "      <th>o_d</th>\n",
       "      <th>trajets</th>\n",
       "    </tr>\n",
       "  </thead>\n",
       "  <tbody>\n",
       "    <tr>\n",
       "      <th>0</th>\n",
       "      <td>A63-A10</td>\n",
       "      <td>[{'cameras': [19, 4, 5], 'type_trajet': 'indirect'}, {'cameras': [19, 1, 5], 'type_trajet': 'indirect'}, {'cameras': [19, 5], 'type_trajet': 'direct'}]</td>\n",
       "    </tr>\n",
       "    <tr>\n",
       "      <th>1</th>\n",
       "      <td>A62-A10</td>\n",
       "      <td>[{'cameras': [10, 4, 5], 'type_trajet': 'indirect'}, {'cameras': [10, 1, 5], 'type_trajet': 'indirect'}, {'cameras': [10, 5], 'type_trajet': 'direct'}]</td>\n",
       "    </tr>\n",
       "  </tbody>\n",
       "</table>\n",
       "</div>"
      ],
      "text/plain": [
       "       o_d  \\\n",
       "0  A63-A10   \n",
       "1  A62-A10   \n",
       "\n",
       "                                                                                                                                                   trajets  \n",
       "0  [{'cameras': [19, 4, 5], 'type_trajet': 'indirect'}, {'cameras': [19, 1, 5], 'type_trajet': 'indirect'}, {'cameras': [19, 5], 'type_trajet': 'direct'}]  \n",
       "1  [{'cameras': [10, 4, 5], 'type_trajet': 'indirect'}, {'cameras': [10, 1, 5], 'type_trajet': 'indirect'}, {'cameras': [10, 5], 'type_trajet': 'direct'}]  "
      ]
     },
     "execution_count": 16,
     "metadata": {},
     "output_type": "execute_result"
    }
   ],
   "source": [
    "#récuperer la liste des trajets (importer dans le module à partir d'un fichier) \n",
    "t.liste_trajet"
   ]
  },
  {
   "cell_type": "code",
   "execution_count": 21,
   "metadata": {},
   "outputs": [
    {
     "data": {
      "text/html": [
       "<div>\n",
       "<style scoped>\n",
       "    .dataframe tbody tr th:only-of-type {\n",
       "        vertical-align: middle;\n",
       "    }\n",
       "\n",
       "    .dataframe tbody tr th {\n",
       "        vertical-align: top;\n",
       "    }\n",
       "\n",
       "    .dataframe thead th {\n",
       "        text-align: right;\n",
       "    }\n",
       "</style>\n",
       "<table border=\"1\" class=\"dataframe\">\n",
       "  <thead>\n",
       "    <tr style=\"text-align: right;\">\n",
       "      <th></th>\n",
       "      <th>immat</th>\n",
       "      <th>date_cam_1</th>\n",
       "      <th>date_cam_2</th>\n",
       "      <th>cam_1</th>\n",
       "      <th>cam_2</th>\n",
       "      <th>tps_parcours</th>\n",
       "      <th>cameras</th>\n",
       "    </tr>\n",
       "  </thead>\n",
       "  <tbody>\n",
       "    <tr>\n",
       "      <th>0</th>\n",
       "      <td>997d5fbf94327159d8ad2dfe88999cf8a1a32fad</td>\n",
       "      <td>2019-01-29 07:41:57</td>\n",
       "      <td>2019-01-29 08:17:44</td>\n",
       "      <td>19</td>\n",
       "      <td>5</td>\n",
       "      <td>00:35:47</td>\n",
       "      <td>[19, 4, 5]</td>\n",
       "    </tr>\n",
       "    <tr>\n",
       "      <th>1</th>\n",
       "      <td>1da7ad5637f24c08d9a8bb1da3f932c21e8dd47c</td>\n",
       "      <td>2019-01-29 07:45:33</td>\n",
       "      <td>2019-01-29 08:22:36</td>\n",
       "      <td>19</td>\n",
       "      <td>5</td>\n",
       "      <td>00:37:03</td>\n",
       "      <td>[19, 4, 5]</td>\n",
       "    </tr>\n",
       "    <tr>\n",
       "      <th>2</th>\n",
       "      <td>382ff3d11f92aaa8d00c7e8061ff61c0eecbfc00</td>\n",
       "      <td>2019-01-29 07:53:24</td>\n",
       "      <td>2019-01-29 08:28:22</td>\n",
       "      <td>19</td>\n",
       "      <td>5</td>\n",
       "      <td>00:34:58</td>\n",
       "      <td>[19, 4, 5]</td>\n",
       "    </tr>\n",
       "    <tr>\n",
       "      <th>3</th>\n",
       "      <td>eb6b0e2bc49e9ea29fb491193621a90417323bf4</td>\n",
       "      <td>2019-01-29 07:54:19</td>\n",
       "      <td>2019-01-29 08:30:39</td>\n",
       "      <td>19</td>\n",
       "      <td>5</td>\n",
       "      <td>00:36:20</td>\n",
       "      <td>[19, 4, 5]</td>\n",
       "    </tr>\n",
       "    <tr>\n",
       "      <th>4</th>\n",
       "      <td>a7e4a67e8836b4fdb72688baca377534f6add717</td>\n",
       "      <td>2019-01-29 07:56:06</td>\n",
       "      <td>2019-01-29 08:32:54</td>\n",
       "      <td>19</td>\n",
       "      <td>5</td>\n",
       "      <td>00:36:48</td>\n",
       "      <td>[19, 4, 5]</td>\n",
       "    </tr>\n",
       "    <tr>\n",
       "      <th>5</th>\n",
       "      <td>b3e2b06a429608e99c98d074851e49cbb6fb93ad</td>\n",
       "      <td>2019-01-29 07:56:03</td>\n",
       "      <td>2019-01-29 08:34:34</td>\n",
       "      <td>19</td>\n",
       "      <td>5</td>\n",
       "      <td>00:38:31</td>\n",
       "      <td>[19, 4, 5]</td>\n",
       "    </tr>\n",
       "    <tr>\n",
       "      <th>6</th>\n",
       "      <td>f25b2cd42e0b20614640abc3418ec2af63af5042</td>\n",
       "      <td>2019-01-29 07:57:56</td>\n",
       "      <td>2019-01-29 08:34:25</td>\n",
       "      <td>19</td>\n",
       "      <td>5</td>\n",
       "      <td>00:36:29</td>\n",
       "      <td>[19, 4, 5]</td>\n",
       "    </tr>\n",
       "    <tr>\n",
       "      <th>7</th>\n",
       "      <td>2dca9f2506ef4f67da0255625f046d1b40348d6e</td>\n",
       "      <td>2019-01-29 07:58:35</td>\n",
       "      <td>2019-01-29 08:35:20</td>\n",
       "      <td>19</td>\n",
       "      <td>5</td>\n",
       "      <td>00:36:45</td>\n",
       "      <td>[19, 4, 5]</td>\n",
       "    </tr>\n",
       "    <tr>\n",
       "      <th>8</th>\n",
       "      <td>914a3afe6d6abb263b99c20884c88ae7c8a383dd</td>\n",
       "      <td>2019-01-29 07:59:36</td>\n",
       "      <td>2019-01-29 08:35:38</td>\n",
       "      <td>19</td>\n",
       "      <td>5</td>\n",
       "      <td>00:36:02</td>\n",
       "      <td>[19, 4, 5]</td>\n",
       "    </tr>\n",
       "    <tr>\n",
       "      <th>9</th>\n",
       "      <td>e1ea2a9b923531745c01143d66eab992b97a2869</td>\n",
       "      <td>2019-01-29 07:56:55</td>\n",
       "      <td>2019-01-29 09:39:25</td>\n",
       "      <td>19</td>\n",
       "      <td>5</td>\n",
       "      <td>01:42:30</td>\n",
       "      <td>[19, 4, 5]</td>\n",
       "    </tr>\n",
       "    <tr>\n",
       "      <th>10</th>\n",
       "      <td>a3a983c983807af46af26b033720a6bb557e1883</td>\n",
       "      <td>2019-01-29 07:54:27</td>\n",
       "      <td>2019-01-29 09:47:30</td>\n",
       "      <td>19</td>\n",
       "      <td>5</td>\n",
       "      <td>01:53:03</td>\n",
       "      <td>[19, 4, 5]</td>\n",
       "    </tr>\n",
       "    <tr>\n",
       "      <th>9</th>\n",
       "      <td>04cdedf0bf6f15c9698dce79ad3157720ea29448</td>\n",
       "      <td>2019-01-29 07:54:45</td>\n",
       "      <td>2019-01-29 10:26:17</td>\n",
       "      <td>19</td>\n",
       "      <td>5</td>\n",
       "      <td>02:31:32</td>\n",
       "      <td>[19, 5]</td>\n",
       "    </tr>\n",
       "    <tr>\n",
       "      <th>17</th>\n",
       "      <td>0fa06c5a4d718c8f9f48a2c4b381f3c1cb611376</td>\n",
       "      <td>2019-01-29 07:58:24</td>\n",
       "      <td>2019-01-29 08:13:47</td>\n",
       "      <td>10</td>\n",
       "      <td>5</td>\n",
       "      <td>00:15:23</td>\n",
       "      <td>[10, 5]</td>\n",
       "    </tr>\n",
       "    <tr>\n",
       "      <th>0</th>\n",
       "      <td>bf9dfd50a4a693085e3080156f11c25314f96f03</td>\n",
       "      <td>2019-01-29 08:00:56</td>\n",
       "      <td>2019-01-29 08:37:18</td>\n",
       "      <td>19</td>\n",
       "      <td>5</td>\n",
       "      <td>00:36:22</td>\n",
       "      <td>[19, 4, 5]</td>\n",
       "    </tr>\n",
       "    <tr>\n",
       "      <th>1</th>\n",
       "      <td>cf4f7ddbb3a6d9006e029777df712a53c2d76992</td>\n",
       "      <td>2019-01-29 08:01:07</td>\n",
       "      <td>2019-01-29 08:37:04</td>\n",
       "      <td>19</td>\n",
       "      <td>5</td>\n",
       "      <td>00:35:57</td>\n",
       "      <td>[19, 4, 5]</td>\n",
       "    </tr>\n",
       "    <tr>\n",
       "      <th>2</th>\n",
       "      <td>183bc8585ac5a2e26b6d2ada6ce6891235a36b92</td>\n",
       "      <td>2019-01-29 08:01:16</td>\n",
       "      <td>2019-01-29 08:37:20</td>\n",
       "      <td>19</td>\n",
       "      <td>5</td>\n",
       "      <td>00:36:04</td>\n",
       "      <td>[19, 4, 5]</td>\n",
       "    </tr>\n",
       "    <tr>\n",
       "      <th>3</th>\n",
       "      <td>dcf2ffa7638b1ae7d0281cbb94d4c7cf0a0912f7</td>\n",
       "      <td>2019-01-29 08:02:34</td>\n",
       "      <td>2019-01-29 08:37:42</td>\n",
       "      <td>19</td>\n",
       "      <td>5</td>\n",
       "      <td>00:35:08</td>\n",
       "      <td>[19, 4, 5]</td>\n",
       "    </tr>\n",
       "    <tr>\n",
       "      <th>4</th>\n",
       "      <td>54581cfa0b0f0c1dbe24fd60ca7efcc07439232f</td>\n",
       "      <td>2019-01-29 08:02:19</td>\n",
       "      <td>2019-01-29 08:38:07</td>\n",
       "      <td>19</td>\n",
       "      <td>5</td>\n",
       "      <td>00:35:48</td>\n",
       "      <td>[19, 4, 5]</td>\n",
       "    </tr>\n",
       "    <tr>\n",
       "      <th>5</th>\n",
       "      <td>31c6bdae383e5c4f25e803d55dc539d6c40e6105</td>\n",
       "      <td>2019-01-29 08:03:06</td>\n",
       "      <td>2019-01-29 08:38:16</td>\n",
       "      <td>19</td>\n",
       "      <td>5</td>\n",
       "      <td>00:35:10</td>\n",
       "      <td>[19, 4, 5]</td>\n",
       "    </tr>\n",
       "    <tr>\n",
       "      <th>6</th>\n",
       "      <td>77728d75d8ee8a1e27c95ca4077faddbf9dcdd93</td>\n",
       "      <td>2019-01-29 08:03:55</td>\n",
       "      <td>2019-01-29 08:38:48</td>\n",
       "      <td>19</td>\n",
       "      <td>5</td>\n",
       "      <td>00:34:53</td>\n",
       "      <td>[19, 4, 5]</td>\n",
       "    </tr>\n",
       "    <tr>\n",
       "      <th>7</th>\n",
       "      <td>59148b1dc67f7b2ca10635cd4fabe903b1fd0b63</td>\n",
       "      <td>2019-01-29 08:04:14</td>\n",
       "      <td>2019-01-29 08:39:21</td>\n",
       "      <td>19</td>\n",
       "      <td>5</td>\n",
       "      <td>00:35:07</td>\n",
       "      <td>[19, 4, 5]</td>\n",
       "    </tr>\n",
       "    <tr>\n",
       "      <th>8</th>\n",
       "      <td>3de49b107ce9b3f1add8f9314add9f5a2cadbe50</td>\n",
       "      <td>2019-01-29 08:05:07</td>\n",
       "      <td>2019-01-29 08:39:49</td>\n",
       "      <td>19</td>\n",
       "      <td>5</td>\n",
       "      <td>00:34:42</td>\n",
       "      <td>[19, 4, 5]</td>\n",
       "    </tr>\n",
       "    <tr>\n",
       "      <th>9</th>\n",
       "      <td>2a88c4e3e59236321a2098ccc9dd4b47f2eed478</td>\n",
       "      <td>2019-01-29 08:07:23</td>\n",
       "      <td>2019-01-29 08:42:27</td>\n",
       "      <td>19</td>\n",
       "      <td>5</td>\n",
       "      <td>00:35:04</td>\n",
       "      <td>[19, 4, 5]</td>\n",
       "    </tr>\n",
       "    <tr>\n",
       "      <th>10</th>\n",
       "      <td>5173f6a0a8ddf8df788408f70f14b0cd71333fd4</td>\n",
       "      <td>2019-01-29 08:08:20</td>\n",
       "      <td>2019-01-29 08:43:36</td>\n",
       "      <td>19</td>\n",
       "      <td>5</td>\n",
       "      <td>00:35:16</td>\n",
       "      <td>[19, 4, 5]</td>\n",
       "    </tr>\n",
       "    <tr>\n",
       "      <th>11</th>\n",
       "      <td>b19849562d778b3f0faadab5d6375d196fa00c3e</td>\n",
       "      <td>2019-01-29 08:11:31</td>\n",
       "      <td>2019-01-29 08:46:33</td>\n",
       "      <td>19</td>\n",
       "      <td>5</td>\n",
       "      <td>00:35:02</td>\n",
       "      <td>[19, 4, 5]</td>\n",
       "    </tr>\n",
       "    <tr>\n",
       "      <th>12</th>\n",
       "      <td>d8f1940dce090c0dd70898ade323d44a20128cf7</td>\n",
       "      <td>2019-01-29 08:12:06</td>\n",
       "      <td>2019-01-29 08:46:39</td>\n",
       "      <td>19</td>\n",
       "      <td>5</td>\n",
       "      <td>00:34:33</td>\n",
       "      <td>[19, 4, 5]</td>\n",
       "    </tr>\n",
       "    <tr>\n",
       "      <th>13</th>\n",
       "      <td>86e69f471e55d135cfde733fd536d2906682b662</td>\n",
       "      <td>2019-01-29 08:12:13</td>\n",
       "      <td>2019-01-29 08:47:29</td>\n",
       "      <td>19</td>\n",
       "      <td>5</td>\n",
       "      <td>00:35:16</td>\n",
       "      <td>[19, 4, 5]</td>\n",
       "    </tr>\n",
       "    <tr>\n",
       "      <th>14</th>\n",
       "      <td>07f533c82778a42f4827e08e685d809e36017390</td>\n",
       "      <td>2019-01-29 08:13:13</td>\n",
       "      <td>2019-01-29 08:47:52</td>\n",
       "      <td>19</td>\n",
       "      <td>5</td>\n",
       "      <td>00:34:39</td>\n",
       "      <td>[19, 4, 5]</td>\n",
       "    </tr>\n",
       "    <tr>\n",
       "      <th>15</th>\n",
       "      <td>837898ee18a5c0fb78ac9c1001068fcb7c888550</td>\n",
       "      <td>2019-01-29 08:16:29</td>\n",
       "      <td>2019-01-29 08:50:59</td>\n",
       "      <td>19</td>\n",
       "      <td>5</td>\n",
       "      <td>00:34:30</td>\n",
       "      <td>[19, 4, 5]</td>\n",
       "    </tr>\n",
       "    <tr>\n",
       "      <th>16</th>\n",
       "      <td>11bec9781f63a9c6ed13dc8e9b73af792f9830c9</td>\n",
       "      <td>2019-01-29 08:20:21</td>\n",
       "      <td>2019-01-29 08:52:39</td>\n",
       "      <td>19</td>\n",
       "      <td>5</td>\n",
       "      <td>00:32:18</td>\n",
       "      <td>[19, 4, 5]</td>\n",
       "    </tr>\n",
       "    <tr>\n",
       "      <th>...</th>\n",
       "      <td>...</td>\n",
       "      <td>...</td>\n",
       "      <td>...</td>\n",
       "      <td>...</td>\n",
       "      <td>...</td>\n",
       "      <td>...</td>\n",
       "      <td>...</td>\n",
       "    </tr>\n",
       "    <tr>\n",
       "      <th>66</th>\n",
       "      <td>ff2465721f077ddb32523ddaa2a0053c9006ac7a</td>\n",
       "      <td>2019-01-29 15:29:59</td>\n",
       "      <td>2019-01-29 15:42:23</td>\n",
       "      <td>10</td>\n",
       "      <td>5</td>\n",
       "      <td>00:12:24</td>\n",
       "      <td>[10, 5]</td>\n",
       "    </tr>\n",
       "    <tr>\n",
       "      <th>67</th>\n",
       "      <td>e0e70c4fae7cbf31de97540c69a6b1454638aa84</td>\n",
       "      <td>2019-01-29 15:33:38</td>\n",
       "      <td>2019-01-29 15:42:30</td>\n",
       "      <td>10</td>\n",
       "      <td>5</td>\n",
       "      <td>00:08:52</td>\n",
       "      <td>[10, 5]</td>\n",
       "    </tr>\n",
       "    <tr>\n",
       "      <th>69</th>\n",
       "      <td>9cd96f7751f5f536f56da9daf618c2c865e9399a</td>\n",
       "      <td>2019-01-29 15:35:22</td>\n",
       "      <td>2019-01-29 15:44:20</td>\n",
       "      <td>10</td>\n",
       "      <td>5</td>\n",
       "      <td>00:08:58</td>\n",
       "      <td>[10, 5]</td>\n",
       "    </tr>\n",
       "    <tr>\n",
       "      <th>71</th>\n",
       "      <td>bb97894a4b6d75095cf1548391c5ad8c88ce10b6</td>\n",
       "      <td>2019-01-29 15:31:23</td>\n",
       "      <td>2019-01-29 15:45:43</td>\n",
       "      <td>10</td>\n",
       "      <td>5</td>\n",
       "      <td>00:14:20</td>\n",
       "      <td>[10, 5]</td>\n",
       "    </tr>\n",
       "    <tr>\n",
       "      <th>73</th>\n",
       "      <td>8cb8c72fe6368cd2e4c260c5167bec64802c9c34</td>\n",
       "      <td>2019-01-29 15:34:02</td>\n",
       "      <td>2019-01-29 15:46:57</td>\n",
       "      <td>10</td>\n",
       "      <td>5</td>\n",
       "      <td>00:12:55</td>\n",
       "      <td>[10, 5]</td>\n",
       "    </tr>\n",
       "    <tr>\n",
       "      <th>76</th>\n",
       "      <td>2d6de309a554b3626fbbeec8f94fc7dee4ae29d5</td>\n",
       "      <td>2019-01-29 15:36:18</td>\n",
       "      <td>2019-01-29 15:49:01</td>\n",
       "      <td>10</td>\n",
       "      <td>5</td>\n",
       "      <td>00:12:43</td>\n",
       "      <td>[10, 5]</td>\n",
       "    </tr>\n",
       "    <tr>\n",
       "      <th>80</th>\n",
       "      <td>d54f83dc5583105fe2ef2c7290b93372dc21615b</td>\n",
       "      <td>2019-01-29 15:38:39</td>\n",
       "      <td>2019-01-29 15:49:58</td>\n",
       "      <td>10</td>\n",
       "      <td>5</td>\n",
       "      <td>00:11:19</td>\n",
       "      <td>[10, 5]</td>\n",
       "    </tr>\n",
       "    <tr>\n",
       "      <th>88</th>\n",
       "      <td>879396c73cf5d9012f8355f1ea34a8e7b40ef140</td>\n",
       "      <td>2019-01-29 15:38:30</td>\n",
       "      <td>2019-01-29 15:53:52</td>\n",
       "      <td>10</td>\n",
       "      <td>5</td>\n",
       "      <td>00:15:22</td>\n",
       "      <td>[10, 5]</td>\n",
       "    </tr>\n",
       "    <tr>\n",
       "      <th>92</th>\n",
       "      <td>79f543f23b9325f751b083d2fa39dbb8178a17b6</td>\n",
       "      <td>2019-01-29 15:43:34</td>\n",
       "      <td>2019-01-29 15:56:24</td>\n",
       "      <td>10</td>\n",
       "      <td>5</td>\n",
       "      <td>00:12:50</td>\n",
       "      <td>[10, 5]</td>\n",
       "    </tr>\n",
       "    <tr>\n",
       "      <th>100</th>\n",
       "      <td>f995089bfa2d778c21393fbc7aca3c0e93931597</td>\n",
       "      <td>2019-01-29 15:51:16</td>\n",
       "      <td>2019-01-29 16:03:41</td>\n",
       "      <td>10</td>\n",
       "      <td>5</td>\n",
       "      <td>00:12:25</td>\n",
       "      <td>[10, 5]</td>\n",
       "    </tr>\n",
       "    <tr>\n",
       "      <th>104</th>\n",
       "      <td>7c862e73e4c81522ec06763a90237697a25a1825</td>\n",
       "      <td>2019-01-29 15:56:12</td>\n",
       "      <td>2019-01-29 16:07:12</td>\n",
       "      <td>10</td>\n",
       "      <td>5</td>\n",
       "      <td>00:11:00</td>\n",
       "      <td>[10, 5]</td>\n",
       "    </tr>\n",
       "    <tr>\n",
       "      <th>31</th>\n",
       "      <td>559067b5a40377a3e836fec2083e6ba0e2ee92e4</td>\n",
       "      <td>2019-01-29 16:29:40</td>\n",
       "      <td>2019-01-30 07:59:48</td>\n",
       "      <td>19</td>\n",
       "      <td>5</td>\n",
       "      <td>15:30:08</td>\n",
       "      <td>[19, 5]</td>\n",
       "    </tr>\n",
       "    <tr>\n",
       "      <th>0</th>\n",
       "      <td>f5865f6fc34ee9d564723e2aa87b85dc3b54d410</td>\n",
       "      <td>2019-01-29 16:01:50</td>\n",
       "      <td>2019-01-29 16:16:24</td>\n",
       "      <td>10</td>\n",
       "      <td>5</td>\n",
       "      <td>00:14:34</td>\n",
       "      <td>[10, 4, 5]</td>\n",
       "    </tr>\n",
       "    <tr>\n",
       "      <th>1</th>\n",
       "      <td>d2ce0efc709a696a2f210bdd377694590bd4f536</td>\n",
       "      <td>2019-01-29 16:04:28</td>\n",
       "      <td>2019-01-29 16:20:11</td>\n",
       "      <td>10</td>\n",
       "      <td>5</td>\n",
       "      <td>00:15:43</td>\n",
       "      <td>[10, 4, 5]</td>\n",
       "    </tr>\n",
       "    <tr>\n",
       "      <th>2</th>\n",
       "      <td>d0625104cfc6711b114b40ea8f10bce4f41b9310</td>\n",
       "      <td>2019-01-29 16:09:52</td>\n",
       "      <td>2019-01-29 16:25:14</td>\n",
       "      <td>10</td>\n",
       "      <td>5</td>\n",
       "      <td>00:15:22</td>\n",
       "      <td>[10, 4, 5]</td>\n",
       "    </tr>\n",
       "    <tr>\n",
       "      <th>3</th>\n",
       "      <td>7c00234f312ccf0c43d7b930d999b74ce0730ef7</td>\n",
       "      <td>2019-01-29 16:13:55</td>\n",
       "      <td>2019-01-29 16:30:58</td>\n",
       "      <td>10</td>\n",
       "      <td>5</td>\n",
       "      <td>00:17:03</td>\n",
       "      <td>[10, 4, 5]</td>\n",
       "    </tr>\n",
       "    <tr>\n",
       "      <th>4</th>\n",
       "      <td>a9d94368ad07ad5541ce7613b632d4a22705d38d</td>\n",
       "      <td>2019-01-29 16:17:45</td>\n",
       "      <td>2019-01-29 16:33:18</td>\n",
       "      <td>10</td>\n",
       "      <td>5</td>\n",
       "      <td>00:15:33</td>\n",
       "      <td>[10, 4, 5]</td>\n",
       "    </tr>\n",
       "    <tr>\n",
       "      <th>5</th>\n",
       "      <td>26952d7c7f0ede19d1e53efd402c7b78461517ce</td>\n",
       "      <td>2019-01-29 16:17:45</td>\n",
       "      <td>2019-01-29 16:33:18</td>\n",
       "      <td>10</td>\n",
       "      <td>5</td>\n",
       "      <td>00:15:33</td>\n",
       "      <td>[10, 4, 5]</td>\n",
       "    </tr>\n",
       "    <tr>\n",
       "      <th>6</th>\n",
       "      <td>1aa8f8faf5fc32959c8266ae541fb14528a91e19</td>\n",
       "      <td>2019-01-29 16:18:57</td>\n",
       "      <td>2019-01-29 16:34:35</td>\n",
       "      <td>10</td>\n",
       "      <td>5</td>\n",
       "      <td>00:15:38</td>\n",
       "      <td>[10, 4, 5]</td>\n",
       "    </tr>\n",
       "    <tr>\n",
       "      <th>3</th>\n",
       "      <td>c71f98db7a552ca616cc526be7ef11d65ea9b356</td>\n",
       "      <td>2019-01-29 16:00:17</td>\n",
       "      <td>2019-01-29 16:14:37</td>\n",
       "      <td>10</td>\n",
       "      <td>5</td>\n",
       "      <td>00:14:20</td>\n",
       "      <td>[10, 5]</td>\n",
       "    </tr>\n",
       "    <tr>\n",
       "      <th>11</th>\n",
       "      <td>07d6a093f24386091eddff30440cf8aa0cd925da</td>\n",
       "      <td>2019-01-29 16:07:33</td>\n",
       "      <td>2019-01-29 16:19:49</td>\n",
       "      <td>10</td>\n",
       "      <td>5</td>\n",
       "      <td>00:12:16</td>\n",
       "      <td>[10, 5]</td>\n",
       "    </tr>\n",
       "    <tr>\n",
       "      <th>18</th>\n",
       "      <td>9e6a307faae11acfe29ee482ca3bae500b54c72d</td>\n",
       "      <td>2019-01-29 16:09:08</td>\n",
       "      <td>2019-01-29 16:23:30</td>\n",
       "      <td>10</td>\n",
       "      <td>5</td>\n",
       "      <td>00:14:22</td>\n",
       "      <td>[10, 5]</td>\n",
       "    </tr>\n",
       "    <tr>\n",
       "      <th>20</th>\n",
       "      <td>9a5dd9e9ac766a5703278fc38dae4607434da61d</td>\n",
       "      <td>2019-01-29 16:10:41</td>\n",
       "      <td>2019-01-29 16:25:15</td>\n",
       "      <td>10</td>\n",
       "      <td>5</td>\n",
       "      <td>00:14:34</td>\n",
       "      <td>[10, 5]</td>\n",
       "    </tr>\n",
       "    <tr>\n",
       "      <th>24</th>\n",
       "      <td>f1ed05da701c1c7099fabd67239a4a7628e75e9f</td>\n",
       "      <td>2019-01-29 16:18:52</td>\n",
       "      <td>2019-01-29 16:32:31</td>\n",
       "      <td>10</td>\n",
       "      <td>5</td>\n",
       "      <td>00:13:39</td>\n",
       "      <td>[10, 5]</td>\n",
       "    </tr>\n",
       "    <tr>\n",
       "      <th>25</th>\n",
       "      <td>e6f383c08dbf81a205ebf4494c2199125dffd775</td>\n",
       "      <td>2019-01-29 16:17:19</td>\n",
       "      <td>2019-01-29 16:32:44</td>\n",
       "      <td>10</td>\n",
       "      <td>5</td>\n",
       "      <td>00:15:25</td>\n",
       "      <td>[10, 5]</td>\n",
       "    </tr>\n",
       "    <tr>\n",
       "      <th>27</th>\n",
       "      <td>486604e10e75db94a485d1ecec3027027d5170b6</td>\n",
       "      <td>2019-01-29 16:18:45</td>\n",
       "      <td>2019-01-29 16:33:19</td>\n",
       "      <td>10</td>\n",
       "      <td>5</td>\n",
       "      <td>00:14:34</td>\n",
       "      <td>[10, 5]</td>\n",
       "    </tr>\n",
       "    <tr>\n",
       "      <th>34</th>\n",
       "      <td>9580a4239d6ea88491151e91778e9dc4d7e5991d</td>\n",
       "      <td>2019-01-29 16:23:55</td>\n",
       "      <td>2019-01-29 16:38:03</td>\n",
       "      <td>10</td>\n",
       "      <td>5</td>\n",
       "      <td>00:14:08</td>\n",
       "      <td>[10, 5]</td>\n",
       "    </tr>\n",
       "    <tr>\n",
       "      <th>0</th>\n",
       "      <td>1352bf1fd49ca28f77610e5fc46c0e952ea66040</td>\n",
       "      <td>2019-01-29 17:03:24</td>\n",
       "      <td>2019-01-30 08:56:20</td>\n",
       "      <td>19</td>\n",
       "      <td>5</td>\n",
       "      <td>15:52:56</td>\n",
       "      <td>[19, 4, 5]</td>\n",
       "    </tr>\n",
       "    <tr>\n",
       "      <th>0</th>\n",
       "      <td>8d35c09e6578ea51b504912965789c635aad00f2</td>\n",
       "      <td>2019-01-29 17:06:44</td>\n",
       "      <td>2019-01-30 10:22:35</td>\n",
       "      <td>10</td>\n",
       "      <td>5</td>\n",
       "      <td>17:15:51</td>\n",
       "      <td>[10, 4, 5]</td>\n",
       "    </tr>\n",
       "    <tr>\n",
       "      <th>47</th>\n",
       "      <td>8777d174d6a3746364052e1d047d0b9ea7cc417e</td>\n",
       "      <td>2019-01-29 17:03:51</td>\n",
       "      <td>2019-01-30 08:41:09</td>\n",
       "      <td>10</td>\n",
       "      <td>5</td>\n",
       "      <td>15:37:18</td>\n",
       "      <td>[10, 5]</td>\n",
       "    </tr>\n",
       "  </tbody>\n",
       "</table>\n",
       "<p>1062 rows × 7 columns</p>\n",
       "</div>"
      ],
      "text/plain": [
       "                                        immat          date_cam_1  \\\n",
       "0    997d5fbf94327159d8ad2dfe88999cf8a1a32fad 2019-01-29 07:41:57   \n",
       "1    1da7ad5637f24c08d9a8bb1da3f932c21e8dd47c 2019-01-29 07:45:33   \n",
       "2    382ff3d11f92aaa8d00c7e8061ff61c0eecbfc00 2019-01-29 07:53:24   \n",
       "3    eb6b0e2bc49e9ea29fb491193621a90417323bf4 2019-01-29 07:54:19   \n",
       "4    a7e4a67e8836b4fdb72688baca377534f6add717 2019-01-29 07:56:06   \n",
       "5    b3e2b06a429608e99c98d074851e49cbb6fb93ad 2019-01-29 07:56:03   \n",
       "6    f25b2cd42e0b20614640abc3418ec2af63af5042 2019-01-29 07:57:56   \n",
       "7    2dca9f2506ef4f67da0255625f046d1b40348d6e 2019-01-29 07:58:35   \n",
       "8    914a3afe6d6abb263b99c20884c88ae7c8a383dd 2019-01-29 07:59:36   \n",
       "9    e1ea2a9b923531745c01143d66eab992b97a2869 2019-01-29 07:56:55   \n",
       "10   a3a983c983807af46af26b033720a6bb557e1883 2019-01-29 07:54:27   \n",
       "9    04cdedf0bf6f15c9698dce79ad3157720ea29448 2019-01-29 07:54:45   \n",
       "17   0fa06c5a4d718c8f9f48a2c4b381f3c1cb611376 2019-01-29 07:58:24   \n",
       "0    bf9dfd50a4a693085e3080156f11c25314f96f03 2019-01-29 08:00:56   \n",
       "1    cf4f7ddbb3a6d9006e029777df712a53c2d76992 2019-01-29 08:01:07   \n",
       "2    183bc8585ac5a2e26b6d2ada6ce6891235a36b92 2019-01-29 08:01:16   \n",
       "3    dcf2ffa7638b1ae7d0281cbb94d4c7cf0a0912f7 2019-01-29 08:02:34   \n",
       "4    54581cfa0b0f0c1dbe24fd60ca7efcc07439232f 2019-01-29 08:02:19   \n",
       "5    31c6bdae383e5c4f25e803d55dc539d6c40e6105 2019-01-29 08:03:06   \n",
       "6    77728d75d8ee8a1e27c95ca4077faddbf9dcdd93 2019-01-29 08:03:55   \n",
       "7    59148b1dc67f7b2ca10635cd4fabe903b1fd0b63 2019-01-29 08:04:14   \n",
       "8    3de49b107ce9b3f1add8f9314add9f5a2cadbe50 2019-01-29 08:05:07   \n",
       "9    2a88c4e3e59236321a2098ccc9dd4b47f2eed478 2019-01-29 08:07:23   \n",
       "10   5173f6a0a8ddf8df788408f70f14b0cd71333fd4 2019-01-29 08:08:20   \n",
       "11   b19849562d778b3f0faadab5d6375d196fa00c3e 2019-01-29 08:11:31   \n",
       "12   d8f1940dce090c0dd70898ade323d44a20128cf7 2019-01-29 08:12:06   \n",
       "13   86e69f471e55d135cfde733fd536d2906682b662 2019-01-29 08:12:13   \n",
       "14   07f533c82778a42f4827e08e685d809e36017390 2019-01-29 08:13:13   \n",
       "15   837898ee18a5c0fb78ac9c1001068fcb7c888550 2019-01-29 08:16:29   \n",
       "16   11bec9781f63a9c6ed13dc8e9b73af792f9830c9 2019-01-29 08:20:21   \n",
       "..                                        ...                 ...   \n",
       "66   ff2465721f077ddb32523ddaa2a0053c9006ac7a 2019-01-29 15:29:59   \n",
       "67   e0e70c4fae7cbf31de97540c69a6b1454638aa84 2019-01-29 15:33:38   \n",
       "69   9cd96f7751f5f536f56da9daf618c2c865e9399a 2019-01-29 15:35:22   \n",
       "71   bb97894a4b6d75095cf1548391c5ad8c88ce10b6 2019-01-29 15:31:23   \n",
       "73   8cb8c72fe6368cd2e4c260c5167bec64802c9c34 2019-01-29 15:34:02   \n",
       "76   2d6de309a554b3626fbbeec8f94fc7dee4ae29d5 2019-01-29 15:36:18   \n",
       "80   d54f83dc5583105fe2ef2c7290b93372dc21615b 2019-01-29 15:38:39   \n",
       "88   879396c73cf5d9012f8355f1ea34a8e7b40ef140 2019-01-29 15:38:30   \n",
       "92   79f543f23b9325f751b083d2fa39dbb8178a17b6 2019-01-29 15:43:34   \n",
       "100  f995089bfa2d778c21393fbc7aca3c0e93931597 2019-01-29 15:51:16   \n",
       "104  7c862e73e4c81522ec06763a90237697a25a1825 2019-01-29 15:56:12   \n",
       "31   559067b5a40377a3e836fec2083e6ba0e2ee92e4 2019-01-29 16:29:40   \n",
       "0    f5865f6fc34ee9d564723e2aa87b85dc3b54d410 2019-01-29 16:01:50   \n",
       "1    d2ce0efc709a696a2f210bdd377694590bd4f536 2019-01-29 16:04:28   \n",
       "2    d0625104cfc6711b114b40ea8f10bce4f41b9310 2019-01-29 16:09:52   \n",
       "3    7c00234f312ccf0c43d7b930d999b74ce0730ef7 2019-01-29 16:13:55   \n",
       "4    a9d94368ad07ad5541ce7613b632d4a22705d38d 2019-01-29 16:17:45   \n",
       "5    26952d7c7f0ede19d1e53efd402c7b78461517ce 2019-01-29 16:17:45   \n",
       "6    1aa8f8faf5fc32959c8266ae541fb14528a91e19 2019-01-29 16:18:57   \n",
       "3    c71f98db7a552ca616cc526be7ef11d65ea9b356 2019-01-29 16:00:17   \n",
       "11   07d6a093f24386091eddff30440cf8aa0cd925da 2019-01-29 16:07:33   \n",
       "18   9e6a307faae11acfe29ee482ca3bae500b54c72d 2019-01-29 16:09:08   \n",
       "20   9a5dd9e9ac766a5703278fc38dae4607434da61d 2019-01-29 16:10:41   \n",
       "24   f1ed05da701c1c7099fabd67239a4a7628e75e9f 2019-01-29 16:18:52   \n",
       "25   e6f383c08dbf81a205ebf4494c2199125dffd775 2019-01-29 16:17:19   \n",
       "27   486604e10e75db94a485d1ecec3027027d5170b6 2019-01-29 16:18:45   \n",
       "34   9580a4239d6ea88491151e91778e9dc4d7e5991d 2019-01-29 16:23:55   \n",
       "0    1352bf1fd49ca28f77610e5fc46c0e952ea66040 2019-01-29 17:03:24   \n",
       "0    8d35c09e6578ea51b504912965789c635aad00f2 2019-01-29 17:06:44   \n",
       "47   8777d174d6a3746364052e1d047d0b9ea7cc417e 2019-01-29 17:03:51   \n",
       "\n",
       "             date_cam_2  cam_1  cam_2 tps_parcours     cameras  \n",
       "0   2019-01-29 08:17:44     19      5     00:35:47  [19, 4, 5]  \n",
       "1   2019-01-29 08:22:36     19      5     00:37:03  [19, 4, 5]  \n",
       "2   2019-01-29 08:28:22     19      5     00:34:58  [19, 4, 5]  \n",
       "3   2019-01-29 08:30:39     19      5     00:36:20  [19, 4, 5]  \n",
       "4   2019-01-29 08:32:54     19      5     00:36:48  [19, 4, 5]  \n",
       "5   2019-01-29 08:34:34     19      5     00:38:31  [19, 4, 5]  \n",
       "6   2019-01-29 08:34:25     19      5     00:36:29  [19, 4, 5]  \n",
       "7   2019-01-29 08:35:20     19      5     00:36:45  [19, 4, 5]  \n",
       "8   2019-01-29 08:35:38     19      5     00:36:02  [19, 4, 5]  \n",
       "9   2019-01-29 09:39:25     19      5     01:42:30  [19, 4, 5]  \n",
       "10  2019-01-29 09:47:30     19      5     01:53:03  [19, 4, 5]  \n",
       "9   2019-01-29 10:26:17     19      5     02:31:32     [19, 5]  \n",
       "17  2019-01-29 08:13:47     10      5     00:15:23     [10, 5]  \n",
       "0   2019-01-29 08:37:18     19      5     00:36:22  [19, 4, 5]  \n",
       "1   2019-01-29 08:37:04     19      5     00:35:57  [19, 4, 5]  \n",
       "2   2019-01-29 08:37:20     19      5     00:36:04  [19, 4, 5]  \n",
       "3   2019-01-29 08:37:42     19      5     00:35:08  [19, 4, 5]  \n",
       "4   2019-01-29 08:38:07     19      5     00:35:48  [19, 4, 5]  \n",
       "5   2019-01-29 08:38:16     19      5     00:35:10  [19, 4, 5]  \n",
       "6   2019-01-29 08:38:48     19      5     00:34:53  [19, 4, 5]  \n",
       "7   2019-01-29 08:39:21     19      5     00:35:07  [19, 4, 5]  \n",
       "8   2019-01-29 08:39:49     19      5     00:34:42  [19, 4, 5]  \n",
       "9   2019-01-29 08:42:27     19      5     00:35:04  [19, 4, 5]  \n",
       "10  2019-01-29 08:43:36     19      5     00:35:16  [19, 4, 5]  \n",
       "11  2019-01-29 08:46:33     19      5     00:35:02  [19, 4, 5]  \n",
       "12  2019-01-29 08:46:39     19      5     00:34:33  [19, 4, 5]  \n",
       "13  2019-01-29 08:47:29     19      5     00:35:16  [19, 4, 5]  \n",
       "14  2019-01-29 08:47:52     19      5     00:34:39  [19, 4, 5]  \n",
       "15  2019-01-29 08:50:59     19      5     00:34:30  [19, 4, 5]  \n",
       "16  2019-01-29 08:52:39     19      5     00:32:18  [19, 4, 5]  \n",
       "..                  ...    ...    ...          ...         ...  \n",
       "66  2019-01-29 15:42:23     10      5     00:12:24     [10, 5]  \n",
       "67  2019-01-29 15:42:30     10      5     00:08:52     [10, 5]  \n",
       "69  2019-01-29 15:44:20     10      5     00:08:58     [10, 5]  \n",
       "71  2019-01-29 15:45:43     10      5     00:14:20     [10, 5]  \n",
       "73  2019-01-29 15:46:57     10      5     00:12:55     [10, 5]  \n",
       "76  2019-01-29 15:49:01     10      5     00:12:43     [10, 5]  \n",
       "80  2019-01-29 15:49:58     10      5     00:11:19     [10, 5]  \n",
       "88  2019-01-29 15:53:52     10      5     00:15:22     [10, 5]  \n",
       "92  2019-01-29 15:56:24     10      5     00:12:50     [10, 5]  \n",
       "100 2019-01-29 16:03:41     10      5     00:12:25     [10, 5]  \n",
       "104 2019-01-29 16:07:12     10      5     00:11:00     [10, 5]  \n",
       "31  2019-01-30 07:59:48     19      5     15:30:08     [19, 5]  \n",
       "0   2019-01-29 16:16:24     10      5     00:14:34  [10, 4, 5]  \n",
       "1   2019-01-29 16:20:11     10      5     00:15:43  [10, 4, 5]  \n",
       "2   2019-01-29 16:25:14     10      5     00:15:22  [10, 4, 5]  \n",
       "3   2019-01-29 16:30:58     10      5     00:17:03  [10, 4, 5]  \n",
       "4   2019-01-29 16:33:18     10      5     00:15:33  [10, 4, 5]  \n",
       "5   2019-01-29 16:33:18     10      5     00:15:33  [10, 4, 5]  \n",
       "6   2019-01-29 16:34:35     10      5     00:15:38  [10, 4, 5]  \n",
       "3   2019-01-29 16:14:37     10      5     00:14:20     [10, 5]  \n",
       "11  2019-01-29 16:19:49     10      5     00:12:16     [10, 5]  \n",
       "18  2019-01-29 16:23:30     10      5     00:14:22     [10, 5]  \n",
       "20  2019-01-29 16:25:15     10      5     00:14:34     [10, 5]  \n",
       "24  2019-01-29 16:32:31     10      5     00:13:39     [10, 5]  \n",
       "25  2019-01-29 16:32:44     10      5     00:15:25     [10, 5]  \n",
       "27  2019-01-29 16:33:19     10      5     00:14:34     [10, 5]  \n",
       "34  2019-01-29 16:38:03     10      5     00:14:08     [10, 5]  \n",
       "0   2019-01-30 08:56:20     19      5     15:52:56  [19, 4, 5]  \n",
       "0   2019-01-30 10:22:35     10      5     17:15:51  [10, 4, 5]  \n",
       "47  2019-01-30 08:41:09     10      5     15:37:18     [10, 5]  \n",
       "\n",
       "[1062 rows x 7 columns]"
      ]
     },
     "execution_count": 21,
     "metadata": {},
     "output_type": "execute_result"
    }
   ],
   "source": [
    "#appel de la fonction de chainage\n",
    "t.transit_1_jour(df_journee,'2019-01-29',t.liste_trajet)"
   ]
  },
  {
   "cell_type": "code",
   "execution_count": null,
   "metadata": {},
   "outputs": [],
   "source": []
  }
 ],
 "metadata": {
  "kernelspec": {
   "display_name": "Python 3",
   "language": "python",
   "name": "python3"
  },
  "language_info": {
   "codemirror_mode": {
    "name": "ipython",
    "version": 3
   },
   "file_extension": ".py",
   "mimetype": "text/x-python",
   "name": "python",
   "nbconvert_exporter": "python",
   "pygments_lexer": "ipython3",
   "version": "3.7.0"
  }
 },
 "nbformat": 4,
 "nbformat_minor": 2
}
