{
 "cells": [
  {
   "cell_type": "markdown",
   "metadata": {},
   "source": [
    "L'dée de ce notebook est de pouvoir tracer les étapes de réalisation d'un calcul de temps de parcours de référence. "
   ]
  },
  {
   "cell_type": "markdown",
   "metadata": {},
   "source": [
    "   Chap 0 : Import des données"
   ]
  },
  {
   "cell_type": "code",
   "execution_count": 1,
   "metadata": {},
   "outputs": [],
   "source": [
    "%load_ext autoreload\n",
    "%autoreload 2\n",
    "import sys #c'est pas propre mais pour le moment pour importer mes modules perso dans le notebook je ne sais pas faire\n",
    "sys.path.append(r'C:\\Users\\martin.schoreisz\\git\\Outils\\Outils\\Martin_Perso')\n",
    "import traitement_od as t\n",
    "import pandas as pd\n",
    "import numpy as np\n",
    "import altair as alt\n",
    "import datetime as dt\n",
    "pd.set_option('display.max_colwidth', 1000)\n",
    "import os\n",
    "from sklearn.cluster import DBSCAN\n",
    "from vega_datasets import data"
   ]
  },
  {
   "cell_type": "markdown",
   "metadata": {},
   "source": [
    "Chap 1. Analyse des données brutes (non post-traitées par MMR)\n",
    "\n",
    "Cette analyse se base sur les données fournies le 12/02/2019. Elle propose d'illustrer les forces et faiblesses de certaines données (attributs fiability,..."
   ]
  },
  {
   "cell_type": "code",
   "execution_count": 2,
   "metadata": {},
   "outputs": [],
   "source": [
    "df_3semaines=t.ouvrir_fichier_lapi('2019-01-28 00:00:00','2019-02-17 23:59:59')\n",
    "#df_3semaines=df_3semaines.drop_duplicates(['created','immat'])\n",
    "df_3semaines=df_3semaines.set_index('created').sort_index()"
   ]
  },
  {
   "cell_type": "markdown",
   "metadata": {},
   "source": [
    "    chap 1.1 illustration de la variation de fiabilité des cameras.\n",
    "Certaines cameras (1 et 2) renvoi une fiabilité moyenne inférieur bien en deça des autres, aux même période de la journée"
   ]
  },
  {
   "cell_type": "code",
   "execution_count": 103,
   "metadata": {},
   "outputs": [],
   "source": [
    "fiabilite_globale=df_3semaines.groupby('camera_id')['fiability'].mean().reset_index() #illustration globale sur la période du 28-01 au 11-02\n",
    "fiabilite_10h11h=df_3semaines.loc['2019-01-28 10:00:00':'2019-01-28 11:00:00'].groupby('camera_id')['fiability'].mean().reset_index()\n",
    "df_jour=df_3semaines.loc['2019-01-28']\n",
    "fiab_jour_cam_4=df_jour.loc[df_jour['camera_id']==4]['fiability'].resample('5T').mean().reset_index()                       "
   ]
  },
  {
   "cell_type": "code",
   "execution_count": 104,
   "metadata": {},
   "outputs": [
    {
     "data": {
      "application/vnd.vegalite.v2+json": {
       "$schema": "https://vega.github.io/schema/vega-lite/v2.6.0.json",
       "config": {
        "view": {
         "height": 300,
         "width": 400
        }
       },
       "datasets": {
        "data-0e9a666ba425af6f9208c7aff0d17d42": [
         {
          "camera_id": 1,
          "fiability": 44.02534630688541
         },
         {
          "camera_id": 2,
          "fiability": 45.05360266152621
         },
         {
          "camera_id": 3,
          "fiability": 88.44734467858173
         },
         {
          "camera_id": 4,
          "fiability": 84.7628968307388
         },
         {
          "camera_id": 5,
          "fiability": 89.01491133220445
         },
         {
          "camera_id": 6,
          "fiability": 88.72911618416019
         },
         {
          "camera_id": 7,
          "fiability": 89.31862895144687
         },
         {
          "camera_id": 8,
          "fiability": 88.78331360446437
         },
         {
          "camera_id": 9,
          "fiability": 84.8697398650791
         },
         {
          "camera_id": 10,
          "fiability": 87.66740850244966
         },
         {
          "camera_id": 11,
          "fiability": 88.11113877822045
         },
         {
          "camera_id": 12,
          "fiability": 88.56523582642461
         },
         {
          "camera_id": 13,
          "fiability": 91.13387469061988
         },
         {
          "camera_id": 15,
          "fiability": 91.24469236065251
         },
         {
          "camera_id": 18,
          "fiability": 87.46067572349163
         },
         {
          "camera_id": 19,
          "fiability": 87.803266250476
         }
        ]
       },
       "layer": [
        {
         "data": {
          "name": "data-0e9a666ba425af6f9208c7aff0d17d42"
         },
         "encoding": {
          "x": {
           "field": "camera_id",
           "type": "ordinal"
          },
          "y": {
           "field": "fiability",
           "type": "quantitative"
          }
         },
         "mark": {
          "size": 25,
          "type": "bar"
         },
         "width": 500
        },
        {
         "data": {
          "name": "data-0e9a666ba425af6f9208c7aff0d17d42"
         },
         "encoding": {
          "x": {
           "field": "camera_id",
           "type": "ordinal"
          },
          "y": {
           "field": "fiability",
           "type": "quantitative"
          }
         },
         "mark": {
          "color": "yellow",
          "strokeWidth": 5,
          "type": "line"
         },
         "width": 500
        }
       ]
      },
      "image/png": "[encoded data removed]",
      "text/plain": [
       "<VegaLite 2 object>\n",
       "\n",
       "If you see this message, it means the renderer has not been properly enabled\n",
       "for the frontend that you are using. For more information, see\n",
       "https://altair-viz.github.io/user_guide/troubleshooting.html\n"
      ]
     },
     "execution_count": 104,
     "metadata": {},
     "output_type": "execute_result"
    }
   ],
   "source": [
    "graph_fiabilite_globale = alt.Chart(fiabilite_globale).mark_bar(size=25).encode(\n",
    "                        x='camera_id:O',\n",
    "                        y='fiability').properties(width=500)\n",
    "graph_fiabilité_locale=alt.Chart(fiabilite_globale).mark_line(color='yellow', strokeWidth=5).encode(\n",
    "                        x='camera_id:O',\n",
    "                        y='fiability').properties(width=500)\n",
    "graph_fiabilite_jour=alt.Chart(fiab_jour_cam_4).mark_line().encode(\n",
    "                                alt.X('created'),\n",
    "                                alt.Y('fiability', scale=alt.Scale(domain=(65,97))))\n",
    "(graph_fiabilite_globale+graph_fiabilité_locale)"
   ]
  },
  {
   "cell_type": "code",
   "execution_count": 105,
   "metadata": {},
   "outputs": [
    {
     "data": {
      "application/vnd.vegalite.v2+json": {
       "$schema": "https://vega.github.io/schema/vega-lite/v2.6.0.json",
       "config": {
        "view": {
         "height": 300,
         "width": 400
        }
       },
       "data": {
        "name": "data-809ab1aa903e8b6f0d493079428f8c7b"
       },
       "datasets": {
        "data-809ab1aa903e8b6f0d493079428f8c7b": [
         {
          "created": "2019-01-28T00:00:00",
          "fiability": 83.92307692307692
         },
         {
          "created": "2019-01-28T00:05:00",
          "fiability": 75.52631578947368
         },
         {
          "created": "2019-01-28T00:10:00",
          "fiability": 83.05128205128206
         },
         {
          "created": "2019-01-28T00:15:00",
          "fiability": 79.53658536585365
         },
         {
          "created": "2019-01-28T00:20:00",
          "fiability": 75.21212121212122
         },
         {
          "created": "2019-01-28T00:25:00",
          "fiability": 80.30434782608695
         },
         {
          "created": "2019-01-28T00:30:00",
          "fiability": 80.61016949152543
         },
         {
          "created": "2019-01-28T00:35:00",
          "fiability": 86.90163934426229
         },
         {
          "created": "2019-01-28T00:40:00",
          "fiability": 85.26829268292683
         },
         {
          "created": "2019-01-28T00:45:00",
          "fiability": 85.45098039215686
         },
         {
          "created": "2019-01-28T00:50:00",
          "fiability": 83.08333333333333
         },
         {
          "created": "2019-01-28T00:55:00",
          "fiability": 90.67647058823529
         },
         {
          "created": "2019-01-28T01:00:00",
          "fiability": 84.3030303030303
         },
         {
          "created": "2019-01-28T01:05:00",
          "fiability": 71.4
         },
         {
          "created": "2019-01-28T01:10:00",
          "fiability": 77.65789473684211
         },
         {
          "created": "2019-01-28T01:15:00",
          "fiability": 79.5
         },
         {
          "created": "2019-01-28T01:20:00",
          "fiability": 81.04
         },
         {
          "created": "2019-01-28T01:25:00",
          "fiability": 79.71428571428571
         },
         {
          "created": "2019-01-28T01:30:00",
          "fiability": 81.10526315789474
         },
         {
          "created": "2019-01-28T01:35:00",
          "fiability": 93.6470588235294
         },
         {
          "created": "2019-01-28T01:40:00",
          "fiability": 86.7
         },
         {
          "created": "2019-01-28T01:45:00",
          "fiability": 74
         },
         {
          "created": "2019-01-28T01:50:00",
          "fiability": 79.8
         },
         {
          "created": "2019-01-28T01:55:00",
          "fiability": 78.5
         },
         {
          "created": "2019-01-28T02:00:00",
          "fiability": 80.78260869565217
         },
         {
          "created": "2019-01-28T02:05:00",
          "fiability": 86.88888888888889
         },
         {
          "created": "2019-01-28T02:10:00",
          "fiability": 84.3
         },
         {
          "created": "2019-01-28T02:15:00",
          "fiability": 79.04347826086956
         },
         {
          "created": "2019-01-28T02:20:00",
          "fiability": 83.31818181818181
         },
         {
          "created": "2019-01-28T02:25:00",
          "fiability": 79.21428571428571
         },
         {
          "created": "2019-01-28T02:30:00",
          "fiability": 80.96
         },
         {
          "created": "2019-01-28T02:35:00",
          "fiability": 86
         },
         {
          "created": "2019-01-28T02:40:00",
          "fiability": 76.52380952380952
         },
         {
          "created": "2019-01-28T02:45:00",
          "fiability": 95.9047619047619
         },
         {
          "created": "2019-01-28T02:50:00",
          "fiability": 85.32
         },
         {
          "created": "2019-01-28T02:55:00",
          "fiability": 80.53125
         },
         {
          "created": "2019-01-28T03:00:00",
          "fiability": 82.5
         },
         {
          "created": "2019-01-28T03:05:00",
          "fiability": 84.2
         },
         {
          "created": "2019-01-28T03:10:00",
          "fiability": 73.17391304347827
         },
         {
          "created": "2019-01-28T03:15:00",
          "fiability": 80.17647058823529
         },
         {
          "created": "2019-01-28T03:20:00",
          "fiability": 82.23076923076923
         },
         {
          "created": "2019-01-28T03:25:00",
          "fiability": 82.75
         },
         {
          "created": "2019-01-28T03:30:00",
          "fiability": 76.6875
         },
         {
          "created": "2019-01-28T03:35:00",
          "fiability": 81.54054054054055
         },
         {
          "created": "2019-01-28T03:40:00",
          "fiability": 79.24242424242425
         },
         {
          "created": "2019-01-28T03:45:00",
          "fiability": 83.57142857142857
         },
         {
          "created": "2019-01-28T03:50:00",
          "fiability": 78.57575757575758
         },
         {
          "created": "2019-01-28T03:55:00",
          "fiability": 82.47058823529412
         },
         {
          "created": "2019-01-28T04:00:00",
          "fiability": 80.17142857142858
         },
         {
          "created": "2019-01-28T04:05:00",
          "fiability": 76.58823529411765
         },
         {
          "created": "2019-01-28T04:10:00",
          "fiability": 79.28571428571429
         },
         {
          "created": "2019-01-28T04:15:00",
          "fiability": 73.57894736842105
         },
         {
          "created": "2019-01-28T04:20:00",
          "fiability": 80.2439024390244
         },
         {
          "created": "2019-01-28T04:25:00",
          "fiability": 81.60714285714286
         },
         {
          "created": "2019-01-28T04:30:00",
          "fiability": 76.7560975609756
         },
         {
          "created": "2019-01-28T04:35:00",
          "fiability": 74.22641509433963
         },
         {
          "created": "2019-01-28T04:40:00",
          "fiability": 74.65277777777777
         },
         {
          "created": "2019-01-28T04:45:00",
          "fiability": 76.3108108108108
         },
         {
          "created": "2019-01-28T04:50:00",
          "fiability": 80.37878787878788
         },
         {
          "created": "2019-01-28T04:55:00",
          "fiability": 78.16
         },
         {
          "created": "2019-01-28T05:00:00",
          "fiability": 77.66666666666667
         },
         {
          "created": "2019-01-28T05:05:00",
          "fiability": 83.2394366197183
         },
         {
          "created": "2019-01-28T05:10:00",
          "fiability": 78.67567567567568
         },
         {
          "created": "2019-01-28T05:15:00",
          "fiability": 81.40384615384616
         },
         {
          "created": "2019-01-28T05:20:00",
          "fiability": 79.85576923076923
         },
         {
          "created": "2019-01-28T05:25:00",
          "fiability": 83.625
         },
         {
          "created": "2019-01-28T05:30:00",
          "fiability": 79.29357798165138
         },
         {
          "created": "2019-01-28T05:35:00",
          "fiability": 79.81203007518798
         },
         {
          "created": "2019-01-28T05:40:00",
          "fiability": 77.78102189781022
         },
         {
          "created": "2019-01-28T05:45:00",
          "fiability": 76.02631578947368
         },
         {
          "created": "2019-01-28T05:50:00",
          "fiability": 78.23717948717949
         },
         {
          "created": "2019-01-28T05:55:00",
          "fiability": 79.38461538461539
         },
         {
          "created": "2019-01-28T06:00:00",
          "fiability": 80.14024390243902
         },
         {
          "created": "2019-01-28T06:05:00",
          "fiability": 79.30813953488372
         },
         {
          "created": "2019-01-28T06:10:00",
          "fiability": 78.00510204081633
         },
         {
          "created": "2019-01-28T06:15:00",
          "fiability": 78.97109826589596
         },
         {
          "created": "2019-01-28T06:20:00",
          "fiability": 77.89268292682927
         },
         {
          "created": "2019-01-28T06:25:00",
          "fiability": 78.2621359223301
         },
         {
          "created": "2019-01-28T06:30:00",
          "fiability": 79.2135922330097
         },
         {
          "created": "2019-01-28T06:35:00",
          "fiability": 77.95192307692308
         },
         {
          "created": "2019-01-28T06:40:00",
          "fiability": 79.44811320754717
         },
         {
          "created": "2019-01-28T06:45:00",
          "fiability": 78.59715639810426
         },
         {
          "created": "2019-01-28T06:50:00",
          "fiability": 79.09909909909909
         },
         {
          "created": "2019-01-28T06:55:00",
          "fiability": 78.40366972477064
         },
         {
          "created": "2019-01-28T07:00:00",
          "fiability": 77.57731958762886
         },
         {
          "created": "2019-01-28T07:05:00",
          "fiability": 77.31277533039648
         },
         {
          "created": "2019-01-28T07:10:00",
          "fiability": 77.76146788990826
         },
         {
          "created": "2019-01-28T07:15:00",
          "fiability": 79.1353711790393
         },
         {
          "created": "2019-01-28T07:20:00",
          "fiability": 79.78448275862068
         },
         {
          "created": "2019-01-28T07:25:00",
          "fiability": 76.66079295154185
         },
         {
          "created": "2019-01-28T07:30:00",
          "fiability": 82.49557522123894
         },
         {
          "created": "2019-01-28T07:35:00",
          "fiability": 81.3177966101695
         },
         {
          "created": "2019-01-28T07:40:00",
          "fiability": 79.5068493150685
         },
         {
          "created": "2019-01-28T07:45:00",
          "fiability": 81.581589958159
         },
         {
          "created": "2019-01-28T07:50:00",
          "fiability": 85.04016064257029
         },
         {
          "created": "2019-01-28T07:55:00",
          "fiability": 86.0530612244898
         },
         {
          "created": "2019-01-28T08:00:00",
          "fiability": 84.97933884297521
         },
         {
          "created": "2019-01-28T08:05:00",
          "fiability": 86.35390946502058
         },
         {
          "created": "2019-01-28T08:10:00",
          "fiability": 85.70204081632653
         },
         {
          "created": "2019-01-28T08:15:00",
          "fiability": 87.81659388646288
         },
         {
          "created": "2019-01-28T08:20:00",
          "fiability": 88.32735426008969
         },
         {
          "created": "2019-01-28T08:25:00",
          "fiability": 81.95454545454545
         },
         {
          "created": "2019-01-28T08:30:00",
          "fiability": 84.94634146341464
         },
         {
          "created": "2019-01-28T08:35:00",
          "fiability": 85.14925373134328
         },
         {
          "created": "2019-01-28T08:40:00",
          "fiability": 87.92093023255813
         },
         {
          "created": "2019-01-28T08:45:00",
          "fiability": 87.76255707762557
         },
         {
          "created": "2019-01-28T08:50:00",
          "fiability": 90.56398104265404
         },
         {
          "created": "2019-01-28T08:55:00",
          "fiability": 87.0952380952381
         },
         {
          "created": "2019-01-28T09:00:00",
          "fiability": 88.48780487804878
         },
         {
          "created": "2019-01-28T09:05:00",
          "fiability": 88.5081081081081
         },
         {
          "created": "2019-01-28T09:10:00",
          "fiability": 86.36666666666666
         },
         {
          "created": "2019-01-28T09:15:00",
          "fiability": 84.32663316582915
         },
         {
          "created": "2019-01-28T09:20:00",
          "fiability": 85.75392670157068
         },
         {
          "created": "2019-01-28T09:25:00",
          "fiability": 86.06217616580311
         },
         {
          "created": "2019-01-28T09:30:00",
          "fiability": 86.80851063829788
         },
         {
          "created": "2019-01-28T09:35:00",
          "fiability": 86.74011299435028
         },
         {
          "created": "2019-01-28T09:40:00",
          "fiability": 84.93069306930693
         },
         {
          "created": "2019-01-28T09:45:00",
          "fiability": 83.58762886597938
         },
         {
          "created": "2019-01-28T09:50:00",
          "fiability": 84.015
         },
         {
          "created": "2019-01-28T09:55:00",
          "fiability": 85.03157894736842
         },
         {
          "created": "2019-01-28T10:00:00",
          "fiability": 87.16763005780346
         },
         {
          "created": "2019-01-28T10:05:00",
          "fiability": 83.15243902439025
         },
         {
          "created": "2019-01-28T10:10:00",
          "fiability": 84.66666666666667
         },
         {
          "created": "2019-01-28T10:15:00",
          "fiability": 84.56
         },
         {
          "created": "2019-01-28T10:20:00",
          "fiability": 85.48430493273543
         },
         {
          "created": "2019-01-28T10:25:00",
          "fiability": 84.88262910798122
         },
         {
          "created": "2019-01-28T10:30:00",
          "fiability": 87.8578431372549
         },
         {
          "created": "2019-01-28T10:35:00",
          "fiability": 87.46113989637306
         },
         {
          "created": "2019-01-28T10:40:00",
          "fiability": 84.0427807486631
         },
         {
          "created": "2019-01-28T10:45:00",
          "fiability": 84.18905472636816
         },
         {
          "created": "2019-01-28T10:50:00",
          "fiability": 82.39285714285714
         },
         {
          "created": "2019-01-28T10:55:00",
          "fiability": 86.095
         },
         {
          "created": "2019-01-28T11:00:00",
          "fiability": 85.11428571428571
         },
         {
          "created": "2019-01-28T11:05:00",
          "fiability": 85.97536945812809
         },
         {
          "created": "2019-01-28T11:10:00",
          "fiability": 85.15178571428571
         },
         {
          "created": "2019-01-28T11:15:00",
          "fiability": 86.70338983050847
         },
         {
          "created": "2019-01-28T11:20:00",
          "fiability": 88.16033755274262
         },
         {
          "created": "2019-01-28T11:25:00",
          "fiability": 87.68202764976958
         },
         {
          "created": "2019-01-28T11:30:00",
          "fiability": 87.415
         },
         {
          "created": "2019-01-28T11:35:00",
          "fiability": 87.28651685393258
         },
         {
          "created": "2019-01-28T11:40:00",
          "fiability": 83.42937853107344
         },
         {
          "created": "2019-01-28T11:45:00",
          "fiability": 84.79629629629629
         },
         {
          "created": "2019-01-28T11:50:00",
          "fiability": 85.72067039106145
         },
         {
          "created": "2019-01-28T11:55:00",
          "fiability": 89.0670731707317
         },
         {
          "created": "2019-01-28T12:00:00",
          "fiability": 88.05479452054794
         },
         {
          "created": "2019-01-28T12:05:00",
          "fiability": 78.9568345323741
         },
         {
          "created": "2019-01-28T12:10:00",
          "fiability": 82.77906976744185
         },
         {
          "created": "2019-01-28T12:15:00",
          "fiability": 88.22173913043478
         },
         {
          "created": "2019-01-28T12:20:00",
          "fiability": 81.27868852459017
         },
         {
          "created": "2019-01-28T12:25:00",
          "fiability": 75.61739130434782
         },
         {
          "created": "2019-01-28T12:30:00",
          "fiability": 80.02453987730061
         },
         {
          "created": "2019-01-28T12:35:00",
          "fiability": 86.40259740259741
         },
         {
          "created": "2019-01-28T12:40:00",
          "fiability": 88.5701754385965
         },
         {
          "created": "2019-01-28T12:45:00",
          "fiability": 87.99173553719008
         },
         {
          "created": "2019-01-28T12:50:00",
          "fiability": 86.1875
         },
         {
          "created": "2019-01-28T12:55:00",
          "fiability": 85.04285714285714
         },
         {
          "created": "2019-01-28T13:00:00",
          "fiability": 83.93364928909952
         },
         {
          "created": "2019-01-28T13:05:00",
          "fiability": 88.61924686192468
         },
         {
          "created": "2019-01-28T13:10:00",
          "fiability": 88.53846153846153
         },
         {
          "created": "2019-01-28T13:15:00",
          "fiability": 88.28205128205128
         },
         {
          "created": "2019-01-28T13:20:00",
          "fiability": 83.87192118226601
         },
         {
          "created": "2019-01-28T13:25:00",
          "fiability": 85.47297297297297
         },
         {
          "created": "2019-01-28T13:30:00",
          "fiability": 85.60194174757281
         },
         {
          "created": "2019-01-28T13:35:00",
          "fiability": 83.91282051282052
         },
         {
          "created": "2019-01-28T13:40:00",
          "fiability": 86.08823529411765
         },
         {
          "created": "2019-01-28T13:45:00",
          "fiability": 86.29797979797979
         },
         {
          "created": "2019-01-28T13:50:00",
          "fiability": 87.89592760180996
         },
         {
          "created": "2019-01-28T13:55:00",
          "fiability": 89.0625
         },
         {
          "created": "2019-01-28T14:00:00",
          "fiability": 88.16509433962264
         },
         {
          "created": "2019-01-28T14:05:00",
          "fiability": 85.5598086124402
         },
         {
          "created": "2019-01-28T14:10:00",
          "fiability": 82.78155339805825
         },
         {
          "created": "2019-01-28T14:15:00",
          "fiability": 84.91079812206573
         },
         {
          "created": "2019-01-28T14:20:00",
          "fiability": 82.96103896103897
         },
         {
          "created": "2019-01-28T14:25:00",
          "fiability": 82.52150537634408
         },
         {
          "created": "2019-01-28T14:30:00",
          "fiability": 83.23958333333333
         },
         {
          "created": "2019-01-28T14:35:00",
          "fiability": 86.95813953488373
         },
         {
          "created": "2019-01-28T14:40:00",
          "fiability": 77.45023696682465
         },
         {
          "created": "2019-01-28T14:45:00",
          "fiability": 82.63013698630137
         },
         {
          "created": "2019-01-28T14:50:00",
          "fiability": 85.61274509803921
         },
         {
          "created": "2019-01-28T14:55:00",
          "fiability": 87.69026548672566
         },
         {
          "created": "2019-01-28T15:00:00",
          "fiability": 86.28455284552845
         },
         {
          "created": "2019-01-28T15:05:00",
          "fiability": 82.54185022026432
         },
         {
          "created": "2019-01-28T15:10:00",
          "fiability": 88.38403041825094
         },
         {
          "created": "2019-01-28T15:15:00",
          "fiability": 84.27037037037037
         },
         {
          "created": "2019-01-28T15:20:00",
          "fiability": 88.31203007518798
         },
         {
          "created": "2019-01-28T15:25:00",
          "fiability": 86.25095057034221
         },
         {
          "created": "2019-01-28T15:30:00",
          "fiability": 83.076
         },
         {
          "created": "2019-01-28T15:35:00",
          "fiability": 84.15163934426229
         },
         {
          "created": "2019-01-28T15:40:00",
          "fiability": 79.5095785440613
         },
         {
          "created": "2019-01-28T15:45:00",
          "fiability": 84.03802281368822
         },
         {
          "created": "2019-01-28T15:50:00",
          "fiability": 82.6
         },
         {
          "created": "2019-01-28T15:55:00",
          "fiability": 81.79203539823008
         },
         {
          "created": "2019-01-28T16:00:00",
          "fiability": 83.04280155642023
         },
         {
          "created": "2019-01-28T16:05:00",
          "fiability": 83.5
         },
         {
          "created": "2019-01-28T16:10:00",
          "fiability": 85.47107438016529
         },
         {
          "created": "2019-01-28T16:15:00",
          "fiability": 84.38912133891213
         },
         {
          "created": "2019-01-28T16:20:00",
          "fiability": 83.80701754385964
         },
         {
          "created": "2019-01-28T16:25:00",
          "fiability": 86.12648221343873
         },
         {
          "created": "2019-01-28T16:30:00",
          "fiability": 84.91666666666667
         },
         {
          "created": "2019-01-28T16:35:00",
          "fiability": 83.56985294117646
         },
         {
          "created": "2019-01-28T16:40:00",
          "fiability": 84.33450704225352
         },
         {
          "created": "2019-01-28T16:45:00",
          "fiability": 82.19172932330827
         },
         {
          "created": "2019-01-28T16:50:00",
          "fiability": 81.28448275862068
         },
         {
          "created": "2019-01-28T16:55:00",
          "fiability": 82.37391304347825
         },
         {
          "created": "2019-01-28T17:00:00",
          "fiability": 82.53092783505154
         },
         {
          "created": "2019-01-28T17:05:00",
          "fiability": 80.61025641025641
         },
         {
          "created": "2019-01-28T17:10:00",
          "fiability": 76.90449438202248
         },
         {
          "created": "2019-01-28T17:15:00",
          "fiability": 79.86021505376344
         },
         {
          "created": "2019-01-28T17:20:00",
          "fiability": 76.73513513513514
         },
         {
          "created": "2019-01-28T17:25:00",
          "fiability": 77.00990099009901
         },
         {
          "created": "2019-01-28T17:30:00",
          "fiability": 78.79375
         },
         {
          "created": "2019-01-28T17:35:00",
          "fiability": 77.24712643678161
         },
         {
          "created": "2019-01-28T17:40:00",
          "fiability": 74.4367088607595
         },
         {
          "created": "2019-01-28T17:45:00",
          "fiability": 75.73287671232876
         },
         {
          "created": "2019-01-28T17:50:00",
          "fiability": 78.46296296296296
         },
         {
          "created": "2019-01-28T17:55:00",
          "fiability": 79.62650602409639
         },
         {
          "created": "2019-01-28T18:00:00",
          "fiability": 74.04402515723271
         },
         {
          "created": "2019-01-28T18:05:00",
          "fiability": 79
         },
         {
          "created": "2019-01-28T18:10:00",
          "fiability": 78.14465408805032
         },
         {
          "created": "2019-01-28T18:15:00",
          "fiability": 74.76027397260275
         },
         {
          "created": "2019-01-28T18:20:00",
          "fiability": 73.95541401273886
         },
         {
          "created": "2019-01-28T18:25:00",
          "fiability": 77.33043478260869
         },
         {
          "created": "2019-01-28T18:30:00",
          "fiability": 76.3974358974359
         },
         {
          "created": "2019-01-28T18:35:00",
          "fiability": 80.49242424242425
         },
         {
          "created": "2019-01-28T18:40:00",
          "fiability": 77.3953488372093
         },
         {
          "created": "2019-01-28T18:45:00",
          "fiability": 76.325
         },
         {
          "created": "2019-01-28T18:50:00",
          "fiability": 81.51239669421487
         },
         {
          "created": "2019-01-28T18:55:00",
          "fiability": 80.5578947368421
         },
         {
          "created": "2019-01-28T19:00:00",
          "fiability": 79.76470588235294
         },
         {
          "created": "2019-01-28T19:05:00",
          "fiability": 79.75
         },
         {
          "created": "2019-01-28T19:10:00",
          "fiability": 76.6774193548387
         },
         {
          "created": "2019-01-28T19:15:00",
          "fiability": 73.26086956521739
         },
         {
          "created": "2019-01-28T19:20:00",
          "fiability": 78.04807692307692
         },
         {
          "created": "2019-01-28T19:25:00",
          "fiability": 81.43157894736842
         },
         {
          "created": "2019-01-28T19:30:00",
          "fiability": 77.96629213483146
         },
         {
          "created": "2019-01-28T19:35:00",
          "fiability": 78.46315789473684
         },
         {
          "created": "2019-01-28T19:40:00",
          "fiability": 79.03389830508475
         },
         {
          "created": "2019-01-28T19:45:00",
          "fiability": 77.66666666666667
         },
         {
          "created": "2019-01-28T19:50:00",
          "fiability": 79.55223880597015
         },
         {
          "created": "2019-01-28T19:55:00",
          "fiability": 75.390625
         },
         {
          "created": "2019-01-28T20:00:00",
          "fiability": 79.97333333333333
         },
         {
          "created": "2019-01-28T20:05:00",
          "fiability": 76.0677966101695
         },
         {
          "created": "2019-01-28T20:10:00",
          "fiability": 76.68852459016394
         },
         {
          "created": "2019-01-28T20:15:00",
          "fiability": 76.75806451612904
         },
         {
          "created": "2019-01-28T20:20:00",
          "fiability": 75.66666666666667
         },
         {
          "created": "2019-01-28T20:25:00",
          "fiability": 75.96551724137932
         },
         {
          "created": "2019-01-28T20:30:00",
          "fiability": 77.09615384615384
         },
         {
          "created": "2019-01-28T20:35:00",
          "fiability": 79.83050847457628
         },
         {
          "created": "2019-01-28T20:40:00",
          "fiability": 79.68085106382979
         },
         {
          "created": "2019-01-28T20:45:00",
          "fiability": 73.75
         },
         {
          "created": "2019-01-28T20:50:00",
          "fiability": 76.94339622641509
         },
         {
          "created": "2019-01-28T20:55:00",
          "fiability": 75.57407407407408
         },
         {
          "created": "2019-01-28T21:00:00",
          "fiability": 81.46153846153847
         },
         {
          "created": "2019-01-28T21:05:00",
          "fiability": 84.42857142857143
         },
         {
          "created": "2019-01-28T21:10:00",
          "fiability": 77.86111111111111
         },
         {
          "created": "2019-01-28T21:15:00",
          "fiability": 78.77586206896552
         },
         {
          "created": "2019-01-28T21:20:00",
          "fiability": 84.35416666666667
         },
         {
          "created": "2019-01-28T21:25:00",
          "fiability": 78.88
         },
         {
          "created": "2019-01-28T21:30:00",
          "fiability": 80.47916666666667
         },
         {
          "created": "2019-01-28T21:35:00",
          "fiability": 80.14893617021276
         },
         {
          "created": "2019-01-28T21:40:00",
          "fiability": 77.82608695652173
         },
         {
          "created": "2019-01-28T21:45:00",
          "fiability": 74.39024390243902
         },
         {
          "created": "2019-01-28T21:50:00",
          "fiability": 79.45
         },
         {
          "created": "2019-01-28T21:55:00",
          "fiability": 83.1219512195122
         },
         {
          "created": "2019-01-28T22:00:00",
          "fiability": 77.75757575757575
         },
         {
          "created": "2019-01-28T22:05:00",
          "fiability": 77.90625
         },
         {
          "created": "2019-01-28T22:10:00",
          "fiability": 76.77777777777777
         },
         {
          "created": "2019-01-28T22:15:00",
          "fiability": 68.72727272727273
         },
         {
          "created": "2019-01-28T22:20:00",
          "fiability": 68.87096774193549
         },
         {
          "created": "2019-01-28T22:25:00",
          "fiability": 75.87878787878788
         },
         {
          "created": "2019-01-28T22:30:00",
          "fiability": 69.77272727272727
         },
         {
          "created": "2019-01-28T22:35:00",
          "fiability": 79.6
         },
         {
          "created": "2019-01-28T22:40:00",
          "fiability": 79.06666666666666
         },
         {
          "created": "2019-01-28T22:45:00",
          "fiability": 78.1304347826087
         },
         {
          "created": "2019-01-28T22:50:00",
          "fiability": 75.28571428571429
         },
         {
          "created": "2019-01-28T22:55:00",
          "fiability": 78.61764705882354
         },
         {
          "created": "2019-01-28T23:00:00",
          "fiability": 78.8076923076923
         },
         {
          "created": "2019-01-28T23:05:00",
          "fiability": 83.07407407407408
         },
         {
          "created": "2019-01-28T23:10:00",
          "fiability": 87.26086956521739
         },
         {
          "created": "2019-01-28T23:15:00",
          "fiability": 79.24
         },
         {
          "created": "2019-01-28T23:20:00",
          "fiability": 80.41935483870968
         },
         {
          "created": "2019-01-28T23:25:00",
          "fiability": 71.71428571428571
         },
         {
          "created": "2019-01-28T23:30:00",
          "fiability": 83.44
         },
         {
          "created": "2019-01-28T23:35:00",
          "fiability": 75.66666666666667
         },
         {
          "created": "2019-01-28T23:40:00",
          "fiability": 78.69444444444444
         },
         {
          "created": "2019-01-28T23:45:00",
          "fiability": 71.91304347826087
         },
         {
          "created": "2019-01-28T23:50:00",
          "fiability": 78.14285714285714
         },
         {
          "created": "2019-01-28T23:55:00",
          "fiability": 69.68181818181819
         }
        ]
       },
       "encoding": {
        "x": {
         "field": "created",
         "type": "temporal"
        },
        "y": {
         "field": "fiability",
         "scale": {
          "domain": [
           65,
           97
          ]
         },
         "type": "quantitative"
        }
       },
       "mark": "line"
      },
      "image/png": "[encoded data removed]",
      "text/plain": [
       "<VegaLite 2 object>\n",
       "\n",
       "If you see this message, it means the renderer has not been properly enabled\n",
       "for the frontend that you are using. For more information, see\n",
       "https://altair-viz.github.io/user_guide/troubleshooting.html\n"
      ]
     },
     "execution_count": 105,
     "metadata": {},
     "output_type": "execute_result"
    }
   ],
   "source": [
    "graph_fiabilite_jour"
   ]
  },
  {
   "cell_type": "code",
   "execution_count": 139,
   "metadata": {},
   "outputs": [
    {
     "name": "stdout",
     "output_type": "stream",
     "text": [
      "Wall time: 391 ms\n"
     ]
    }
   ],
   "source": [
    "#pour test impact fiabilite sur 2 cam consecutives\n",
    "%time test_fiab_0=t.trajet(df_3semaines.loc['2019-01-29 00:00:00':'2019-01-30 15:00:00'], '2019-01-29 08:00:00', 60, [3,18],typeTrajet='Direct')"
   ]
  },
  {
   "cell_type": "code",
   "execution_count": 3,
   "metadata": {},
   "outputs": [
    {
     "data": {
      "application/vnd.vegalite.v2+json": {
       "$schema": "https://vega.github.io/schema/vega-lite/v2.6.0.json",
       "config": {
        "view": {
         "height": 300,
         "width": 400
        }
       },
       "datasets": {
        "data-380b6bd10af00b2be38381c514644575": [
         {
          "nb_obj": 287,
          "nb_obj_suppr": 0,
          "pct_obj_suppr": 0,
          "seuil": 0,
          "type": "all"
         },
         {
          "nb_obj": 287,
          "nb_obj_suppr": 0,
          "pct_obj_suppr": 0,
          "seuil": 0,
          "type": "any"
         },
         {
          "nb_obj": 286,
          "nb_obj_suppr": 1,
          "pct_obj_suppr": 0.34843205574912894,
          "seuil": 30,
          "type": "all"
         },
         {
          "nb_obj": 287,
          "nb_obj_suppr": 0,
          "pct_obj_suppr": 0,
          "seuil": 30,
          "type": "any"
         },
         {
          "nb_obj": 281,
          "nb_obj_suppr": 6,
          "pct_obj_suppr": 2.0905923344947737,
          "seuil": 50,
          "type": "all"
         },
         {
          "nb_obj": 286,
          "nb_obj_suppr": 1,
          "pct_obj_suppr": 0.34843205574912894,
          "seuil": 50,
          "type": "any"
         },
         {
          "nb_obj": 252,
          "nb_obj_suppr": 35,
          "pct_obj_suppr": 12.195121951219512,
          "seuil": 75,
          "type": "all"
         },
         {
          "nb_obj": 278,
          "nb_obj_suppr": 9,
          "pct_obj_suppr": 3.1358885017421603,
          "seuil": 75,
          "type": "any"
         },
         {
          "nb_obj": 238,
          "nb_obj_suppr": 49,
          "pct_obj_suppr": 17.073170731707318,
          "seuil": 80,
          "type": "all"
         },
         {
          "nb_obj": 270,
          "nb_obj_suppr": 17,
          "pct_obj_suppr": 5.923344947735192,
          "seuil": 80,
          "type": "any"
         },
         {
          "nb_obj": 192,
          "nb_obj_suppr": 95,
          "pct_obj_suppr": 33.10104529616725,
          "seuil": 90,
          "type": "all"
         },
         {
          "nb_obj": 250,
          "nb_obj_suppr": 37,
          "pct_obj_suppr": 12.89198606271777,
          "seuil": 90,
          "type": "any"
         }
        ]
       },
       "layer": [
        {
         "data": {
          "name": "data-380b6bd10af00b2be38381c514644575"
         },
         "encoding": {
          "stroke": {
           "field": "type",
           "type": "ordinal"
          },
          "x": {
           "field": "seuil",
           "type": "ordinal"
          },
          "y": {
           "field": "nb_obj_suppr",
           "stack": null,
           "type": "quantitative"
          }
         },
         "mark": {
          "filled": false,
          "strokeWidth": 3,
          "type": "bar"
         }
        },
        {
         "data": {
          "name": "data-380b6bd10af00b2be38381c514644575"
         },
         "encoding": {
          "color": {
           "field": "type",
           "scale": {
            "scheme": "dark2"
           },
           "type": "nominal"
          },
          "x": {
           "field": "seuil",
           "type": "ordinal"
          },
          "y": {
           "field": "pct_obj_suppr",
           "type": "quantitative"
          }
         },
         "mark": {
          "strokeWidth": 3,
          "type": "line"
         }
        }
       ],
       "width": 300
      },
      "image/png": "[encoded data removed]",
      "text/plain": [
       "<VegaLite 2 object>\n",
       "\n",
       "If you see this message, it means the renderer has not been properly enabled\n",
       "for the frontend that you are using. For more information, see\n",
       "https://altair-viz.github.io/user_guide/troubleshooting.html\n"
      ]
     },
     "execution_count": 3,
     "metadata": {},
     "output_type": "execute_result"
    }
   ],
   "source": [
    "# nb de trajet de transit pl identifie avec tous une fiabilite >0 = 287, >30 = 286, >50 = 281, >75 : 252, >80 : 238, >90 = 192\n",
    "# nb de trajet de transit pl identifie avec au moins 1 d'une fiabilite >0=287, >30= 287, >50 =286, >75 = 278 >80 = 270, > 90 = 250\n",
    "\n",
    "impac_fiab_seuil=pd.DataFrame(data={'nb_obj' : [287, 287, 286, 287, 281, 286, 252, 278, 238, 270, 192, 250], \n",
    "                                   'type' : ['all','any','all','any','all','any','all','any','all','any','all','any'],\n",
    "                                   'seuil':[0,0,30,30,50,50,75,75,80,80,90,90]})\n",
    "impac_fiab_seuil['nb_obj_suppr']=impac_fiab_seuil.apply(lambda x : 287-x['nb_obj'],axis=1)\n",
    "impac_fiab_seuil['pct_obj_suppr']=impac_fiab_seuil.apply(lambda x : x['nb_obj_suppr']*100/287,axis=1)\n",
    "impac_fiab_seuil\n",
    "\n",
    "base=alt.Chart(impac_fiab_seuil).encode(x='seuil:O')\n",
    "bar = base.mark_bar(filled=False,strokeWidth=3).encode(y=alt.Y('nb_obj_suppr:Q', stack=None),stroke='type:O')\n",
    "line =  base.mark_line(strokeWidth=3).encode(y='pct_obj_suppr:Q',color=alt.Color('type', scale=alt.Scale(scheme='dark2')))\n",
    "(bar + line).properties(width=300)"
   ]
  },
  {
   "cell_type": "markdown",
   "metadata": {},
   "source": [
    "    Chap 1.2. Attributs \"l\"\n",
    "L'attribut 'l' n'est pas fiable, cf cameras aux péages.\n",
    "\n",
    "L'impact de cet attribut sur le nb de pl est important"
   ]
  },
  {
   "cell_type": "code",
   "execution_count": 99,
   "metadata": {},
   "outputs": [
    {
     "data": {
      "application/vnd.vegalite.v2+json": {
       "$schema": "https://vega.github.io/schema/vega-lite/v2.6.0.json",
       "config": {
        "view": {
         "height": 300,
         "width": 400
        }
       },
       "data": {
        "name": "data-135a3f52604e748d8050186193c690b9"
       },
       "datasets": {
        "data-135a3f52604e748d8050186193c690b9": [
         {
          "l": -1,
          "nb_obj": 57092,
          "pct": 79.38485497372007,
          "total": 71918
         },
         {
          "l": 0,
          "nb_obj": 7349,
          "pct": 10.218582274256791,
          "total": 71918
         },
         {
          "l": 1,
          "nb_obj": 7477,
          "pct": 10.396562752023138,
          "total": 71918
         }
        ]
       },
       "encoding": {
        "x": {
         "field": "l",
         "type": "ordinal"
        },
        "y": {
         "field": "nb_obj",
         "type": "quantitative"
        }
       },
       "mark": "bar"
      },
      "image/png": "[encoded data removed]",
      "text/plain": [
       "<VegaLite 2 object>\n",
       "\n",
       "If you see this message, it means the renderer has not been properly enabled\n",
       "for the frontend that you are using. For more information, see\n",
       "https://altair-viz.github.io/user_guide/troubleshooting.html\n"
      ]
     },
     "execution_count": 99,
     "metadata": {},
     "output_type": "execute_result"
    }
   ],
   "source": [
    "#isoler les passages aux cameras du péage A63\n",
    "l_13_14=df_3semaines.loc[df_3semaines['camera_id'].isin(['13','14'])]\n",
    "#l_13_14_groupe=l_13_14.groupby('l').count()['immat'].rename(columns={'immat':'nb_brut'})\n",
    "l_13_14_groupe_compte=l_13_14.groupby('l').count()#.rename(columns={'immat':'nb_obj'})\n",
    "l_13_14_groupe_compte['camera_id']=71918\n",
    "l_13_14_groupe_compte['state']=l_13_14_groupe_compte.apply(lambda x : x['immat']/x['camera_id']*100,axis=1)\n",
    "l_13_14_groupe_compte=l_13_14_groupe_compte.drop('fiability',axis=1).rename(columns={'immat':'nb_obj','camera_id':'total','state':'pct'}).reset_index()\n",
    "l_13_14_groupe_compte\n",
    "graph_l = alt.Chart(l_13_14_groupe_compte).mark_bar().encode(x='l:O',y='nb_obj:Q')\n",
    "graph_l"
   ]
  },
  {
   "cell_type": "code",
   "execution_count": 102,
   "metadata": {},
   "outputs": [
    {
     "name": "stdout",
     "output_type": "stream",
     "text": [
      "Wall time: 1.83 s\n"
     ]
    },
    {
     "data": {
      "text/plain": [
       "162"
      ]
     },
     "execution_count": 102,
     "metadata": {},
     "output_type": "execute_result"
    }
   ],
   "source": [
    "#pour test impact l sur 2 cam consecutives\n",
    "%time test_fiab_l=t.trajet(df_3semaines.loc['2019-01-29 00:00:00':'2019-01-30 15:00:00'], '2019-01-29 08:00:00', 60, [3,18],typeTrajet='Direct')"
   ]
  },
  {
   "cell_type": "code",
   "execution_count": 108,
   "metadata": {},
   "outputs": [
    {
     "data": {
      "application/vnd.vegalite.v2+json": {
       "$schema": "https://vega.github.io/schema/vega-lite/v2.6.0.json",
       "config": {
        "view": {
         "height": 300,
         "width": 400
        }
       },
       "data": {
        "name": "data-eb446d2bc205474bed3134d452e49a43"
       },
       "datasets": {
        "data-eb446d2bc205474bed3134d452e49a43": [
         {
          "nb_veh": 287,
          "type": "any"
         },
         {
          "nb_veh": 162,
          "type": "all"
         }
        ]
       },
       "encoding": {
        "x": {
         "field": "type",
         "type": "nominal"
        },
        "y": {
         "field": "nb_veh",
         "type": "quantitative"
        }
       },
       "mark": "bar"
      },
      "image/png": "[encoded data removed]",
      "text/plain": [
       "<VegaLite 2 object>\n",
       "\n",
       "If you see this message, it means the renderer has not been properly enabled\n",
       "for the frontend that you are using. For more information, see\n",
       "https://altair-viz.github.io/user_guide/troubleshooting.html\n"
      ]
     },
     "execution_count": 108,
     "metadata": {},
     "output_type": "execute_result"
    }
   ],
   "source": [
    "# nb de trajet de transit pl identifie avec tous une fiabilite >0 = 287, >30 = 286, >50 = 281, >75 : 252, >80 : 238, >90 = 192\n",
    "# nb de trajet de transit pl identifie avec au moins 1 d'une fiabilite >0=287, >30= 287, >50 =286, >75 = 278 >80 = 270, > 90 = 250\n",
    "\n",
    "impac_fiab_l=pd.DataFrame(data={'nb_veh' : [287, 162], \n",
    "                                   'type' : ['any','all']})\n",
    "bar_l = alt.Chart(impac_fiab_l).mark_bar().encode(x='type',y='nb_veh:Q')\n",
    "bar_l"
   ]
  },
  {
   "cell_type": "markdown",
   "metadata": {},
   "source": [
    "    Chap 1.3. Attributs \"state\"\n",
    "On se limite ici à lister le nombre de valeur différentes, le nombre de fois ou plus d'un pays est présent, le nombre de plaques bizarre"
   ]
  },
  {
   "cell_type": "code",
   "execution_count": 114,
   "metadata": {},
   "outputs": [],
   "source": [
    "#crééer une df à partir des valeurs unique et du nombre d'aoccurence\n",
    "pays,nb_occ=np.unique(df_3semaines.state,return_counts=True)\n",
    "df_state=pd.DataFrame({'pays':pays,'nb_occ':nb_occ})"
   ]
  },
  {
   "cell_type": "code",
   "execution_count": 155,
   "metadata": {},
   "outputs": [
    {
     "data": {
      "text/html": [
       "<div>\n",
       "<style scoped>\n",
       "    .dataframe tbody tr th:only-of-type {\n",
       "        vertical-align: middle;\n",
       "    }\n",
       "\n",
       "    .dataframe tbody tr th {\n",
       "        vertical-align: top;\n",
       "    }\n",
       "\n",
       "    .dataframe thead th {\n",
       "        text-align: right;\n",
       "    }\n",
       "</style>\n",
       "<table border=\"1\" class=\"dataframe\">\n",
       "  <thead>\n",
       "    <tr style=\"text-align: right;\">\n",
       "      <th></th>\n",
       "      <th>pays</th>\n",
       "      <th>nb_occ</th>\n",
       "    </tr>\n",
       "  </thead>\n",
       "  <tbody>\n",
       "    <tr>\n",
       "      <th>1</th>\n",
       "      <td>!!</td>\n",
       "      <td>7049</td>\n",
       "    </tr>\n",
       "    <tr>\n",
       "      <th>2</th>\n",
       "      <td>!!/SM</td>\n",
       "      <td>3</td>\n",
       "    </tr>\n",
       "    <tr>\n",
       "      <th>612</th>\n",
       "      <td>SM/!!</td>\n",
       "      <td>5</td>\n",
       "    </tr>\n",
       "  </tbody>\n",
       "</table>\n",
       "</div>"
      ],
      "text/plain": [
       "      pays  nb_occ\n",
       "1       !!    7049\n",
       "2    !!/SM       3\n",
       "612  SM/!!       5"
      ]
     },
     "execution_count": 155,
     "metadata": {},
     "output_type": "execute_result"
    }
   ],
   "source": [
    "#stats (exemple)\n",
    "df_state[(df_state.apply(lambda x : '!!' in x['pays'], axis=1)) & (df_state['nb_occ']>1) ]#pusieurs pays vu plus d'une fois"
   ]
  },
  {
   "cell_type": "markdown",
   "metadata": {},
   "source": [
    "    chap 1.3 attribut created\n",
    "verification des doublons et des passages rapprochés"
   ]
  },
  {
   "cell_type": "code",
   "execution_count": 160,
   "metadata": {},
   "outputs": [],
   "source": [
    "#doublons\n",
    "#trouver les doublons\n",
    "doublons=df_3semaines.reset_index()\n",
    "doublons=doublons.loc[doublons.duplicated(['created','immat'],keep=False)]"
   ]
  },
  {
   "cell_type": "code",
   "execution_count": 183,
   "metadata": {},
   "outputs": [],
   "source": [
    "#verifier si des passages sont trop proches\n",
    "\n",
    "#fonction de test d'ecart entre les passages\n",
    "def ecart_passage(liste_passage, liste_camera,state) : \n",
    "    for i in range(len(liste_passage)-1):\n",
    "        if (pd.to_datetime(liste_passage[i+1])-pd.to_datetime(liste_passage[i])<pd.Timedelta('00:05:00') and \n",
    "            pd.to_datetime(liste_passage[i])!=pd.to_datetime(liste_passage[i+1]) and state!='!!') : #on trouve l'enchainement en moins de 5minutes, sans prendre les doublons\n",
    "            return True\n",
    "    else : return False\n",
    "def conserver_state(liste_state):\n",
    "    if '!!' in liste_state : \n",
    "        return '!!'\n",
    "    else : return liste_state[0]\n",
    "def test_unicite_type(liste_l, mode='unique'):\n",
    "        if mode=='unique' : \n",
    "            if len(set(liste_l))==1 :\n",
    "                return liste_l[0]\n",
    "            else : \n",
    "                return -1\n",
    "        elif mode=='1/2' :\n",
    "            if any(liste_l)==1 : \n",
    "                return 1\n",
    "            else : \n",
    "                return -1\n",
    "def liste_passage(liste_cam, liste_created) : \n",
    "    liste_passage=[]\n",
    "    for i in range(len(liste_created)-1):\n",
    "        if pd.to_datetime(liste_created[i+1])-pd.to_datetime(liste_created[i])<pd.Timedelta('00:05:00') :\n",
    "            liste_passage.append(liste_cam[i])\n",
    "            liste_passage.append(liste_cam[i+1])\n",
    "    return liste_passage\n",
    "def liste_created(liste_cam, liste_created) : \n",
    "    liste_created_fin=[]\n",
    "    for i in range(len(liste_created)-1):\n",
    "        if pd.to_datetime(liste_created[i+1])-pd.to_datetime(liste_created[i])<pd.Timedelta('00:05:00') :\n",
    "            liste_created_fin.append(liste_created[i])\n",
    "            liste_created_fin.append(liste_created[i+1])\n",
    "    return liste_created_fin\n",
    "\n",
    "#on grouep les données et modifie les colonnes\n",
    "groupe=(df_3semaines.sort_index().reset_index().groupby('immat').agg({'camera_id':lambda x : tuple(x),'l': lambda x : test_unicite_type(list(x),'1/2'), \n",
    "                                                              'created':lambda x: tuple(x),'state':lambda x : conserver_state(list(x)) }))\n",
    "#on isole les pl\n",
    "groupe_pl=groupe.loc[groupe['l']==1].copy()\n",
    "#on ajoute une colonne drapeau pour localiser le pb\n",
    "groupe_pl['erreur_tps_passage']=groupe_pl.apply(lambda x :  ecart_passage(x['created'], x['camera_id'], x['state']),axis=1)\n",
    "#et on extrait unqiement les passages problemetaique\n",
    "groupe_pl_rappro=groupe_pl[groupe_pl['erreur_tps_passage']].copy()\n",
    "# nb immatriculations qui posent pb : \n",
    "print(f\"nb immat a pb : {len(groupe_pl_rappro)}\")\n",
    "groupe_pl_rappro['liste_passag_faux']=groupe_pl_rappro.apply(lambda x : liste_passage(x['camera_id'],x['created']),axis=1)\n",
    "groupe_pl_rappro['liste_created_faux']=groupe_pl_rappro.apply(lambda x : liste_created(x['camera_id'],x['created']),axis=1)\n",
    "#obteniur le nobre de passages concernés\n",
    "groupe_pl_rappro[['liste_passag_faux','liste_created_faux']].apply(lambda x :len(x['liste_passag_faux']),axis=1).sum()\n",
    "#visu\n",
    "groupe_pl_rappro[['liste_passag_faux','liste_created_faux']]"
   ]
  },
  {
   "cell_type": "markdown",
   "metadata": {},
   "source": [
    "    Chap 2. Complétude des données\n",
    "Ce chapitre a pour but de vérifier la perte de données le long du trajet A63->N10, sur une journée type (mardi 29/01/2019), sans filtre sur le type de vehicule ou la fiabilite"
   ]
  },
  {
   "cell_type": "code",
   "execution_count": 49,
   "metadata": {},
   "outputs": [],
   "source": [
    "#les vehicules passés par la bariiere de péage sens Sud->Nord (pour info, Atlandes = )\n",
    "nb_veh_A63=len(df_3semaines.loc[(df_3semaines['camera_id']==15)&(df_3semaines.index>'2019-01-29 00:00:00')&(df_3semaines.index<'2019-01-29 23:59:59')])\n",
    "# le nb de veh retrouvés à Cestas dans les 18h suivants la fin de journee\n",
    "nb_veh_A660=len(t.trajet(df_3semaines.loc['2019-01-29 00:00:00':'2019-01-30 23:59:59'], '2019-01-29 00:00:00',\n",
    "                         1440, [15, 19],temps_max_autorise=42,modeRegroupement='aucun').df_transit)\n",
    "#le nb de veh retrouvés sur la Rocad et vus aux 2 cameras precedentes\n",
    "nb_veh_N230=len(t.trajet(df_3semaines.loc['2019-01-29 00:00:00':'2019-01-30 23:59:59'], \n",
    "                         '2019-01-29 00:00:00', 1440, [15, 19,4],temps_max_autorise=42,typeTrajet='Indirect',modeRegroupement='aucun').df_transit)\n",
    "#le nb de veh retrouvés sur N10 et vus aux 3 cameras precedentes (sans etre ensuite allé sur A10)\n",
    "nb_veh_N10=(t.trajet(df_3semaines.loc['2019-01-29 00:00:00':'2019-01-30 23:59:59'], \n",
    "                         '2019-01-29 00:00:00', 1440, [15, 19,4,5],temps_max_autorise=42,typeTrajet='Indirect',modeRegroupement='aucun').df_transit)\n",
    "nb_veh_A10=(t.trajet(df_3semaines.loc['2019-01-29 00:00:00':'2019-01-30 23:59:59'], \n",
    "                         '2019-01-29 00:00:00', 1440, [15, 19,4,5,11],temps_max_autorise=42,typeTrajet='Indirect',modeRegroupement='aucun').df_transit)\n",
    "suite_N10=nb_veh_N10.set_index(['immat','date_cam_1'])\n",
    "suite_A10=nb_veh_A10.set_index(['immat','date_cam_1'])\n",
    "nb_veh_N10=len(suite_N10.loc[~suite_N10.index.isin(suite_A10.index)])\n",
    "\n",
    "#le nb de veh retrouvés sur N10 et vu à la barriere de péage, peu importe le nb si vus entre temps ou non (petite difference eavec suite_N10 -en isolant les trajets\n",
    "#avec cameras = (15,19,4,5) dues aux trajets précédents sur les premières ehures de la journée. l'erreur est plutot sur suite_N10 dans la réalité)\n",
    "test=t.trajet(df_3semaines.loc['2019-01-29 00:00:00':'2019-01-30 23:59:59'], '2019-01-29 00:00:00', 1440, [15, 5],typeTrajet='Global',temps_max_autorise=42,\n",
    "                     modeRegroupement='aucun').df_transit\n",
    "nb_veh_N10_glob=len(test.loc[test['o_d']=='A63-N10'])"
   ]
  },
  {
   "cell_type": "code",
   "execution_count": 65,
   "metadata": {},
   "outputs": [
    {
     "data": {
      "application/vnd.vegalite.v2+json": {
       "$schema": "https://vega.github.io/schema/vega-lite/v2.6.0.json",
       "config": {
        "view": {
         "height": 300,
         "width": 400
        }
       },
       "data": {
        "name": "data-4c4cc4aec5de37fa90c06c0a1668401c"
       },
       "datasets": {
        "data-4c4cc4aec5de37fa90c06c0a1668401c": [
         {
          "camera": "A63",
          "valeurs": 6913
         },
         {
          "camera": "A660",
          "valeurs": 3982
         },
         {
          "camera": "N230",
          "valeurs": 2567
         },
         {
          "camera": "N10",
          "valeurs": 1685
         },
         {
          "camera": "N10_global",
          "valeurs": 2881
         }
        ]
       },
       "encoding": {
        "color": {
         "field": "camera",
         "type": "nominal"
        },
        "x": {
         "field": "camera",
         "sort": {
          "field": "yield",
          "op": "mean"
         },
         "type": "nominal"
        },
        "y": {
         "field": "valeurs",
         "type": "quantitative"
        }
       },
       "mark": "bar",
       "width": 200
      },
      "image/png": "[encoded data removed]",
      "text/plain": [
       "<VegaLite 2 object>\n",
       "\n",
       "If you see this message, it means the renderer has not been properly enabled\n",
       "for the frontend that you are using. For more information, see\n",
       "https://altair-viz.github.io/user_guide/troubleshooting.html\n"
      ]
     },
     "execution_count": 65,
     "metadata": {},
     "output_type": "execute_result"
    }
   ],
   "source": [
    "repartition_pl_cameras=pd.DataFrame({'camera':['A63','A660','N230','N10','N10_global'],'valeurs':[nb_veh_A63, nb_veh_A660,\n",
    "                                                                                                  nb_veh_N230,nb_veh_N10,nb_veh_N10_glob]})\n",
    "\n",
    "graph_perte_pl = alt.Chart(repartition_pl_cameras).mark_bar().encode(\n",
    "                            alt.X('camera', sort=alt.EncodingSortField(field='yield', op='mean')),\n",
    "                            y='valeurs',\n",
    "                            color='camera').properties(width=200)\n",
    "graph_perte_pl"
   ]
  },
  {
   "cell_type": "code",
   "execution_count": null,
   "metadata": {},
   "outputs": [],
   "source": []
  }
 ],
 "metadata": {
  "kernelspec": {
   "display_name": "Python 3",
   "language": "python",
   "name": "python3"
  },
  "language_info": {
   "codemirror_mode": {
    "name": "ipython",
    "version": 3
   },
   "file_extension": ".py",
   "mimetype": "text/x-python",
   "name": "python",
   "nbconvert_exporter": "python",
   "pygments_lexer": "ipython3",
   "version": "3.7.0"
  }
 },
 "nbformat": 4,
 "nbformat_minor": 2
}
