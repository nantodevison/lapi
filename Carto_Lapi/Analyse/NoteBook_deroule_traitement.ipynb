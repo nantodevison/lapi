{
 "cells": [
  {
   "cell_type": "markdown",
   "metadata": {},
   "source": [
    "L'dée de ce notebook est de pouvoir tracer les étapes de réalisation d'un calcul de temps de parcours de référence. "
   ]
  },
  {
   "cell_type": "markdown",
   "metadata": {},
   "source": [
    "   Chap 0 : Import des données"
   ]
  },
  {
   "cell_type": "code",
   "execution_count": 15,
   "metadata": {},
   "outputs": [
    {
     "name": "stdout",
     "output_type": "stream",
     "text": [
      "The autoreload extension is already loaded. To reload it, use:\n",
      "  %reload_ext autoreload\n"
     ]
    }
   ],
   "source": [
    "%load_ext autoreload\n",
    "%autoreload 2\n",
    "import sys #c'est pas propre mais pour le moment pour importer mes modules perso dans le notebook je ne sais pas faire\n",
    "sys.path.append(r'C:\\Users\\martin.schoreisz\\git\\Outils\\Outils\\Martin_Perso')\n",
    "import traitement_od as t\n",
    "import pandas as pd\n",
    "pd.set_option('display.max_colwidth', 1000)\n",
    "import numpy as np\n",
    "import altair as alt\n",
    "import datetime as dt"
   ]
  },
  {
   "cell_type": "markdown",
   "metadata": {},
   "source": [
    "Chap 1. Extraction des données sur 48h"
   ]
  },
  {
   "cell_type": "code",
   "execution_count": 2,
   "metadata": {},
   "outputs": [],
   "source": [
    "df_journee=t.ouvrir_fichier_lapi('2019-01-29 00:00:00','2019-01-30 23:59:00')#telecharger une partie des donnees sur unejournee"
   ]
  },
  {
   "cell_type": "code",
   "execution_count": 8,
   "metadata": {},
   "outputs": [],
   "source": [
    "info_df_journee=t.df_source(df_journee)"
   ]
  },
  {
   "cell_type": "code",
   "execution_count": 9,
   "metadata": {},
   "outputs": [
    {
     "data": {
      "application/vnd.vegalite.v2+json": {
       "$schema": "https://vega.github.io/schema/vega-lite/v2.6.0.json",
       "config": {
        "view": {
         "height": 300,
         "width": 400
        }
       },
       "data": {
        "name": "data-d52fe74060a383f76a3506d417abc273"
       },
       "datasets": {
        "data-d52fe74060a383f76a3506d417abc273": [
         {
          "type": "nb_tv_tot",
          "value": 635618
         },
         {
          "type": "nb_tv_plaque_ok",
          "value": 392879
         },
         {
          "type": "nb_vlpl",
          "value": 598393
         },
         {
          "type": "nb_veh_ok",
          "value": 368156
         },
         {
          "type": "nb_vl_ok",
          "value": 307449
         },
         {
          "type": "nb_pl_ok",
          "value": 60707
         }
        ]
       },
       "encoding": {
        "color": {
         "field": "type",
         "type": "nominal"
        },
        "x": {
         "field": "type",
         "sort": {
          "field": "value",
          "op": "mean"
         },
         "type": "nominal"
        },
        "y": {
         "field": "value",
         "type": "quantitative"
        }
       },
       "mark": "bar",
       "width": 100
      },
      "image/png": "[encoded data removed]",
      "text/plain": [
       "<VegaLite 2 object>\n",
       "\n",
       "If you see this message, it means the renderer has not been properly enabled\n",
       "for the frontend that you are using. For more information, see\n",
       "https://altair-viz.github.io/user_guide/troubleshooting.html\n"
      ]
     },
     "execution_count": 9,
     "metadata": {},
     "output_type": "execute_result"
    }
   ],
   "source": [
    "#graphes\n",
    "graph_stat, graph_fiab=info_df_journee.plot_graphs()\n",
    "#stats sur la journée\n",
    "graph_stat"
   ]
  },
  {
   "cell_type": "code",
   "execution_count": 10,
   "metadata": {},
   "outputs": [
    {
     "data": {
      "application/vnd.vegalite.v2+json": {
       "$schema": "https://vega.github.io/schema/vega-lite/v2.6.0.json",
       "config": {
        "view": {
         "height": 300,
         "width": 400
        }
       },
       "data": {
        "name": "data-b0ffb136aa642d02ebe32f4760d2d0f7"
       },
       "datasets": {
        "data-b0ffb136aa642d02ebe32f4760d2d0f7": [
         {
          "created": "2019-01-29T00:00:00",
          "fiability": 83.85950413223141
         },
         {
          "created": "2019-01-29T00:05:00",
          "fiability": 81.97435897435898
         },
         {
          "created": "2019-01-29T00:10:00",
          "fiability": 79.38053097345133
         },
         {
          "created": "2019-01-29T00:15:00",
          "fiability": 82.1140350877193
         },
         {
          "created": "2019-01-29T00:20:00",
          "fiability": 84.22413793103448
         },
         {
          "created": "2019-01-29T00:25:00",
          "fiability": 80.00787401574803
         },
         {
          "created": "2019-01-29T00:30:00",
          "fiability": 81.05263157894737
         },
         {
          "created": "2019-01-29T00:35:00",
          "fiability": 78.79470198675497
         },
         {
          "created": "2019-01-29T00:40:00",
          "fiability": 76.33333333333333
         },
         {
          "created": "2019-01-29T00:45:00",
          "fiability": 81.8695652173913
         },
         {
          "created": "2019-01-29T00:50:00",
          "fiability": 80.24120603015075
         },
         {
          "created": "2019-01-29T00:55:00",
          "fiability": 83.00571428571429
         },
         {
          "created": "2019-01-29T01:00:00",
          "fiability": 80.57142857142857
         },
         {
          "created": "2019-01-29T01:05:00",
          "fiability": 80.69060773480663
         },
         {
          "created": "2019-01-29T01:10:00",
          "fiability": 81.04430379746836
         },
         {
          "created": "2019-01-29T01:15:00",
          "fiability": 77.93333333333334
         },
         {
          "created": "2019-01-29T01:20:00",
          "fiability": 77.84328358208955
         },
         {
          "created": "2019-01-29T01:25:00",
          "fiability": 77.23577235772358
         },
         {
          "created": "2019-01-29T01:30:00",
          "fiability": 81.60975609756098
         },
         {
          "created": "2019-01-29T01:35:00",
          "fiability": 82.04395604395604
         },
         {
          "created": "2019-01-29T01:40:00",
          "fiability": 81.7816091954023
         },
         {
          "created": "2019-01-29T01:45:00",
          "fiability": 82.84444444444445
         },
         {
          "created": "2019-01-29T01:50:00",
          "fiability": 83.23157894736842
         },
         {
          "created": "2019-01-29T01:55:00",
          "fiability": 79.82352941176471
         },
         {
          "created": "2019-01-29T02:00:00",
          "fiability": 84.76086956521739
         },
         {
          "created": "2019-01-29T02:05:00",
          "fiability": 80.82474226804123
         },
         {
          "created": "2019-01-29T02:10:00",
          "fiability": 79.29473684210527
         },
         {
          "created": "2019-01-29T02:15:00",
          "fiability": 82.80373831775701
         },
         {
          "created": "2019-01-29T02:20:00",
          "fiability": 83.81739130434782
         },
         {
          "created": "2019-01-29T02:25:00",
          "fiability": 81.8
         },
         {
          "created": "2019-01-29T02:30:00",
          "fiability": 82.75213675213675
         },
         {
          "created": "2019-01-29T02:35:00",
          "fiability": 83.23333333333333
         },
         {
          "created": "2019-01-29T02:40:00",
          "fiability": 82.41935483870968
         },
         {
          "created": "2019-01-29T02:45:00",
          "fiability": 79.0327868852459
         },
         {
          "created": "2019-01-29T02:50:00",
          "fiability": 77.92561983471074
         },
         {
          "created": "2019-01-29T02:55:00",
          "fiability": 82.58407079646018
         },
         {
          "created": "2019-01-29T03:00:00",
          "fiability": 82.58947368421053
         },
         {
          "created": "2019-01-29T03:05:00",
          "fiability": 83.82014388489209
         },
         {
          "created": "2019-01-29T03:10:00",
          "fiability": 83.69767441860465
         },
         {
          "created": "2019-01-29T03:15:00",
          "fiability": 80.81967213114754
         },
         {
          "created": "2019-01-29T03:20:00",
          "fiability": 84.38
         },
         {
          "created": "2019-01-29T03:25:00",
          "fiability": 80.76162790697674
         },
         {
          "created": "2019-01-29T03:30:00",
          "fiability": 80.5
         },
         {
          "created": "2019-01-29T03:35:00",
          "fiability": 80.46625766871166
         },
         {
          "created": "2019-01-29T03:40:00",
          "fiability": 77.38265306122449
         },
         {
          "created": "2019-01-29T03:45:00",
          "fiability": 78.97969543147208
         },
         {
          "created": "2019-01-29T03:50:00",
          "fiability": 79.23936170212765
         },
         {
          "created": "2019-01-29T03:55:00",
          "fiability": 80.80838323353294
         },
         {
          "created": "2019-01-29T04:00:00",
          "fiability": 80.42723004694835
         },
         {
          "created": "2019-01-29T04:05:00",
          "fiability": 80.11650485436893
         },
         {
          "created": "2019-01-29T04:10:00",
          "fiability": 76.76548672566372
         },
         {
          "created": "2019-01-29T04:15:00",
          "fiability": 77.71900826446281
         },
         {
          "created": "2019-01-29T04:20:00",
          "fiability": 78.3489932885906
         },
         {
          "created": "2019-01-29T04:25:00",
          "fiability": 80.37931034482759
         },
         {
          "created": "2019-01-29T04:30:00",
          "fiability": 79.7063953488372
         },
         {
          "created": "2019-01-29T04:35:00",
          "fiability": 78.84550561797752
         },
         {
          "created": "2019-01-29T04:40:00",
          "fiability": 80.65988372093024
         },
         {
          "created": "2019-01-29T04:45:00",
          "fiability": 80.08635097493037
         },
         {
          "created": "2019-01-29T04:50:00",
          "fiability": 79.59217877094972
         },
         {
          "created": "2019-01-29T04:55:00",
          "fiability": 76.50623441396509
         },
         {
          "created": "2019-01-29T05:00:00",
          "fiability": 79.60922330097087
         },
         {
          "created": "2019-01-29T05:05:00",
          "fiability": 79.0857740585774
         },
         {
          "created": "2019-01-29T05:10:00",
          "fiability": 77.20449897750511
         },
         {
          "created": "2019-01-29T05:15:00",
          "fiability": 78.14383561643835
         },
         {
          "created": "2019-01-29T05:20:00",
          "fiability": 79.46951219512195
         },
         {
          "created": "2019-01-29T05:25:00",
          "fiability": 79.5
         },
         {
          "created": "2019-01-29T05:30:00",
          "fiability": 78.03924221921515
         },
         {
          "created": "2019-01-29T05:35:00",
          "fiability": 78.97651421508034
         },
         {
          "created": "2019-01-29T05:40:00",
          "fiability": 77.17142857142858
         },
         {
          "created": "2019-01-29T05:45:00",
          "fiability": 76.54074074074074
         },
         {
          "created": "2019-01-29T05:50:00",
          "fiability": 77.17545638945234
         },
         {
          "created": "2019-01-29T05:55:00",
          "fiability": 77.53627760252365
         },
         {
          "created": "2019-01-29T06:00:00",
          "fiability": 76.4236559139785
         },
         {
          "created": "2019-01-29T06:05:00",
          "fiability": 76.63600395647873
         },
         {
          "created": "2019-01-29T06:10:00",
          "fiability": 75.37715930902111
         },
         {
          "created": "2019-01-29T06:15:00",
          "fiability": 77.28754940711462
         },
         {
          "created": "2019-01-29T06:20:00",
          "fiability": 74.13127001067235
         },
         {
          "created": "2019-01-29T06:25:00",
          "fiability": 74.97260273972603
         },
         {
          "created": "2019-01-29T06:30:00",
          "fiability": 75.18873517786561
         },
         {
          "created": "2019-01-29T06:35:00",
          "fiability": 75.31769305962854
         },
         {
          "created": "2019-01-29T06:40:00",
          "fiability": 73.73206751054852
         },
         {
          "created": "2019-01-29T06:45:00",
          "fiability": 74.55642023346303
         },
         {
          "created": "2019-01-29T06:50:00",
          "fiability": 75.31633714880333
         },
         {
          "created": "2019-01-29T06:55:00",
          "fiability": 76.62589194699287
         },
         {
          "created": "2019-01-29T07:00:00",
          "fiability": 74.46511627906976
         },
         {
          "created": "2019-01-29T07:05:00",
          "fiability": 75.04975609756097
         },
         {
          "created": "2019-01-29T07:10:00",
          "fiability": 75.98916256157635
         },
         {
          "created": "2019-01-29T07:15:00",
          "fiability": 72.99804305283757
         },
         {
          "created": "2019-01-29T07:20:00",
          "fiability": 73.98094282848545
         },
         {
          "created": "2019-01-29T07:25:00",
          "fiability": 76.6014558689718
         },
         {
          "created": "2019-01-29T07:30:00",
          "fiability": 75.62040816326531
         },
         {
          "created": "2019-01-29T07:35:00",
          "fiability": 76.49528005034612
         },
         {
          "created": "2019-01-29T07:40:00",
          "fiability": 79.14485729671513
         },
         {
          "created": "2019-01-29T07:45:00",
          "fiability": 79.3495
         },
         {
          "created": "2019-01-29T07:50:00",
          "fiability": 79.63946587537092
         },
         {
          "created": "2019-01-29T07:55:00",
          "fiability": 80.0771878072763
         },
         {
          "created": "2019-01-29T08:00:00",
          "fiability": 79.78680452978828
         },
         {
          "created": "2019-01-29T08:05:00",
          "fiability": 80.07007575757575
         },
         {
          "created": "2019-01-29T08:10:00",
          "fiability": 79.97506112469438
         },
         {
          "created": "2019-01-29T08:15:00",
          "fiability": 79.86245353159852
         },
         {
          "created": "2019-01-29T08:20:00",
          "fiability": 81.8364462392731
         },
         {
          "created": "2019-01-29T08:25:00",
          "fiability": 81.2882096069869
         },
         {
          "created": "2019-01-29T08:30:00",
          "fiability": 81.68029556650247
         },
         {
          "created": "2019-01-29T08:35:00",
          "fiability": 81.27835562159486
         },
         {
          "created": "2019-01-29T08:40:00",
          "fiability": 80.99434229137199
         },
         {
          "created": "2019-01-29T08:45:00",
          "fiability": 81.07898320472084
         },
         {
          "created": "2019-01-29T08:50:00",
          "fiability": 81.87757973733584
         },
         {
          "created": "2019-01-29T08:55:00",
          "fiability": 82.40428571428572
         },
         {
          "created": "2019-01-29T09:00:00",
          "fiability": 82.69659595461273
         },
         {
          "created": "2019-01-29T09:05:00",
          "fiability": 82.33366336633664
         },
         {
          "created": "2019-01-29T09:10:00",
          "fiability": 83.18592233009709
         },
         {
          "created": "2019-01-29T09:15:00",
          "fiability": 82.35193564605329
         },
         {
          "created": "2019-01-29T09:20:00",
          "fiability": 81.28747433264887
         },
         {
          "created": "2019-01-29T09:25:00",
          "fiability": 82.3850630455868
         },
         {
          "created": "2019-01-29T09:30:00",
          "fiability": 81.46458642892522
         },
         {
          "created": "2019-01-29T09:35:00",
          "fiability": 83.51206030150753
         },
         {
          "created": "2019-01-29T09:40:00",
          "fiability": 82.42337536372455
         },
         {
          "created": "2019-01-29T09:45:00",
          "fiability": 81.99308641975308
         },
         {
          "created": "2019-01-29T09:50:00",
          "fiability": 81.60634605850272
         },
         {
          "created": "2019-01-29T09:55:00",
          "fiability": 81.94071762870514
         },
         {
          "created": "2019-01-29T10:00:00",
          "fiability": 83.07684478371502
         },
         {
          "created": "2019-01-29T10:05:00",
          "fiability": 81.98319755600815
         },
         {
          "created": "2019-01-29T10:10:00",
          "fiability": 81.77230769230769
         },
         {
          "created": "2019-01-29T10:15:00",
          "fiability": 81.98317664522514
         },
         {
          "created": "2019-01-29T10:20:00",
          "fiability": 81.85505787619527
         },
         {
          "created": "2019-01-29T10:25:00",
          "fiability": 81.0985
         },
         {
          "created": "2019-01-29T10:30:00",
          "fiability": 81.08109477952357
         },
         {
          "created": "2019-01-29T10:35:00",
          "fiability": 82.25
         },
         {
          "created": "2019-01-29T10:40:00",
          "fiability": 81.72647058823529
         },
         {
          "created": "2019-01-29T10:45:00",
          "fiability": 81.84631043256998
         },
         {
          "created": "2019-01-29T10:50:00",
          "fiability": 81.28222109016811
         },
         {
          "created": "2019-01-29T10:55:00",
          "fiability": 81.15423901940756
         },
         {
          "created": "2019-01-29T11:00:00",
          "fiability": 79.82292787944026
         },
         {
          "created": "2019-01-29T11:05:00",
          "fiability": 80.82178217821782
         },
         {
          "created": "2019-01-29T11:10:00",
          "fiability": 80.59729448491154
         },
         {
          "created": "2019-01-29T11:15:00",
          "fiability": 80.5796645702306
         },
         {
          "created": "2019-01-29T11:20:00",
          "fiability": 80.58288770053476
         },
         {
          "created": "2019-01-29T11:25:00",
          "fiability": 80.11611876988336
         },
         {
          "created": "2019-01-29T11:30:00",
          "fiability": 81.54530386740332
         },
         {
          "created": "2019-01-29T11:35:00",
          "fiability": 81.371581769437
         },
         {
          "created": "2019-01-29T11:40:00",
          "fiability": 80.99301450832886
         },
         {
          "created": "2019-01-29T11:45:00",
          "fiability": 81.15459989112684
         },
         {
          "created": "2019-01-29T11:50:00",
          "fiability": 82.25185972369819
         },
         {
          "created": "2019-01-29T11:55:00",
          "fiability": 80.83901621017328
         },
         {
          "created": "2019-01-29T12:00:00",
          "fiability": 82.54097421203439
         },
         {
          "created": "2019-01-29T12:05:00",
          "fiability": 83.20786846741045
         },
         {
          "created": "2019-01-29T12:10:00",
          "fiability": 81.32588235294118
         },
         {
          "created": "2019-01-29T12:15:00",
          "fiability": 83.27235050325636
         },
         {
          "created": "2019-01-29T12:20:00",
          "fiability": 84.18006644518272
         },
         {
          "created": "2019-01-29T12:25:00",
          "fiability": 84.54920634920634
         },
         {
          "created": "2019-01-29T12:30:00",
          "fiability": 83.7514600908501
         },
         {
          "created": "2019-01-29T12:35:00",
          "fiability": 82.98972188633616
         },
         {
          "created": "2019-01-29T12:40:00",
          "fiability": 84.25014961101137
         },
         {
          "created": "2019-01-29T12:45:00",
          "fiability": 84.409726443769
         },
         {
          "created": "2019-01-29T12:50:00",
          "fiability": 84.84303797468354
         },
         {
          "created": "2019-01-29T12:55:00",
          "fiability": 85.70214236351072
         },
         {
          "created": "2019-01-29T13:00:00",
          "fiability": 83.94701086956522
         },
         {
          "created": "2019-01-29T13:05:00",
          "fiability": 83.53985742060921
         },
         {
          "created": "2019-01-29T13:10:00",
          "fiability": 83.61695347355003
         },
         {
          "created": "2019-01-29T13:15:00",
          "fiability": 84.14585987261147
         },
         {
          "created": "2019-01-29T13:20:00",
          "fiability": 83.67525125628141
         },
         {
          "created": "2019-01-29T13:25:00",
          "fiability": 84.61413383364602
         },
         {
          "created": "2019-01-29T13:30:00",
          "fiability": 84.31105710814094
         },
         {
          "created": "2019-01-29T13:35:00",
          "fiability": 83.35509456985967
         },
         {
          "created": "2019-01-29T13:40:00",
          "fiability": 83.74247080516288
         },
         {
          "created": "2019-01-29T13:45:00",
          "fiability": 84.43320363164722
         },
         {
          "created": "2019-01-29T13:50:00",
          "fiability": 82.93966059082338
         },
         {
          "created": "2019-01-29T13:55:00",
          "fiability": 83.57549504950495
         },
         {
          "created": "2019-01-29T14:00:00",
          "fiability": 84.6543438077634
         },
         {
          "created": "2019-01-29T14:05:00",
          "fiability": 83.93949970913322
         },
         {
          "created": "2019-01-29T14:10:00",
          "fiability": 82.65530948324816
         },
         {
          "created": "2019-01-29T14:15:00",
          "fiability": 83.71302298173246
         },
         {
          "created": "2019-01-29T14:20:00",
          "fiability": 83.02781065088757
         },
         {
          "created": "2019-01-29T14:25:00",
          "fiability": 82.66529653552554
         },
         {
          "created": "2019-01-29T14:30:00",
          "fiability": 81.8041055718475
         },
         {
          "created": "2019-01-29T14:35:00",
          "fiability": 80.62821888412017
         },
         {
          "created": "2019-01-29T14:40:00",
          "fiability": 80.46115537848605
         },
         {
          "created": "2019-01-29T14:45:00",
          "fiability": 79.32738626226583
         },
         {
          "created": "2019-01-29T14:50:00",
          "fiability": 81.6917808219178
         },
         {
          "created": "2019-01-29T14:55:00",
          "fiability": 82.6727589208007
         },
         {
          "created": "2019-01-29T15:00:00",
          "fiability": 82.48710482529118
         },
         {
          "created": "2019-01-29T15:05:00",
          "fiability": 82.38271086865296
         },
         {
          "created": "2019-01-29T15:10:00",
          "fiability": 82.2072072072072
         },
         {
          "created": "2019-01-29T15:15:00",
          "fiability": 81.61606782398063
         },
         {
          "created": "2019-01-29T15:20:00",
          "fiability": 82.21753653444677
         },
         {
          "created": "2019-01-29T15:25:00",
          "fiability": 82.19649262654444
         },
         {
          "created": "2019-01-29T15:30:00",
          "fiability": 81.2000826787929
         },
         {
          "created": "2019-01-29T15:35:00",
          "fiability": 82.58760683760684
         },
         {
          "created": "2019-01-29T15:40:00",
          "fiability": 81.66693548387097
         },
         {
          "created": "2019-01-29T15:45:00",
          "fiability": 80.72301854974705
         },
         {
          "created": "2019-01-29T15:50:00",
          "fiability": 81.96417197452229
         },
         {
          "created": "2019-01-29T15:55:00",
          "fiability": 81.36605229318474
         },
         {
          "created": "2019-01-29T16:00:00",
          "fiability": 82.9607201309329
         },
         {
          "created": "2019-01-29T16:05:00",
          "fiability": 81.12594358363131
         },
         {
          "created": "2019-01-29T16:10:00",
          "fiability": 80.71434707903781
         },
         {
          "created": "2019-01-29T16:15:00",
          "fiability": 81.60324054840049
         },
         {
          "created": "2019-01-29T16:20:00",
          "fiability": 83.71277573529412
         },
         {
          "created": "2019-01-29T16:25:00",
          "fiability": 81.57894736842105
         },
         {
          "created": "2019-01-29T16:30:00",
          "fiability": 79.91437728937728
         },
         {
          "created": "2019-01-29T16:35:00",
          "fiability": 80.47169811320755
         },
         {
          "created": "2019-01-29T16:40:00",
          "fiability": 78.02553191489362
         },
         {
          "created": "2019-01-29T16:45:00",
          "fiability": 77.56608741442865
         },
         {
          "created": "2019-01-29T16:50:00",
          "fiability": 78.61177028951116
         },
         {
          "created": "2019-01-29T16:55:00",
          "fiability": 77.85775656324583
         },
         {
          "created": "2019-01-29T17:00:00",
          "fiability": 77.2741585233442
         },
         {
          "created": "2019-01-29T17:05:00",
          "fiability": 76.54913294797687
         },
         {
          "created": "2019-01-29T17:10:00",
          "fiability": 76.5897597977244
         },
         {
          "created": "2019-01-29T17:15:00",
          "fiability": 76.93001261034048
         },
         {
          "created": "2019-01-29T17:20:00",
          "fiability": 78.6842105263158
         },
         {
          "created": "2019-01-29T17:25:00",
          "fiability": 78.7156862745098
         },
         {
          "created": "2019-01-29T17:30:00",
          "fiability": 79.27152831652444
         },
         {
          "created": "2019-01-29T17:35:00",
          "fiability": 78.5739736638265
         },
         {
          "created": "2019-01-29T17:40:00",
          "fiability": 79.86463223787167
         },
         {
          "created": "2019-01-29T17:45:00",
          "fiability": 78.07226107226107
         },
         {
          "created": "2019-01-29T17:50:00",
          "fiability": 79.35594573024741
         },
         {
          "created": "2019-01-29T17:55:00",
          "fiability": 78.60726072607261
         },
         {
          "created": "2019-01-29T18:00:00",
          "fiability": 79.2931654676259
         },
         {
          "created": "2019-01-29T18:05:00",
          "fiability": 78.66198419666374
         },
         {
          "created": "2019-01-29T18:10:00",
          "fiability": 78.59641638225256
         },
         {
          "created": "2019-01-29T18:15:00",
          "fiability": 78.0605504587156
         },
         {
          "created": "2019-01-29T18:20:00",
          "fiability": 79.57052441229656
         },
         {
          "created": "2019-01-29T18:25:00",
          "fiability": 80.40155945419103
         },
         {
          "created": "2019-01-29T18:30:00",
          "fiability": 79.30723488602577
         },
         {
          "created": "2019-01-29T18:35:00",
          "fiability": 77.43003064351379
         },
         {
          "created": "2019-01-29T18:40:00",
          "fiability": 80.33566433566433
         },
         {
          "created": "2019-01-29T18:45:00",
          "fiability": 80.80194805194805
         },
         {
          "created": "2019-01-29T18:50:00",
          "fiability": 79.70270270270271
         },
         {
          "created": "2019-01-29T18:55:00",
          "fiability": 80.83353293413174
         },
         {
          "created": "2019-01-29T19:00:00",
          "fiability": 80.43055555555556
         },
         {
          "created": "2019-01-29T19:05:00",
          "fiability": 78.24076433121019
         },
         {
          "created": "2019-01-29T19:10:00",
          "fiability": 80.38744884038199
         },
         {
          "created": "2019-01-29T19:15:00",
          "fiability": 80.13962765957447
         },
         {
          "created": "2019-01-29T19:20:00",
          "fiability": 79.12907608695652
         },
         {
          "created": "2019-01-29T19:25:00",
          "fiability": 82.19492868462757
         },
         {
          "created": "2019-01-29T19:30:00",
          "fiability": 81.88701517706576
         },
         {
          "created": "2019-01-29T19:35:00",
          "fiability": 79.8713550600343
         },
         {
          "created": "2019-01-29T19:40:00",
          "fiability": 82.340830449827
         },
         {
          "created": "2019-01-29T19:45:00",
          "fiability": 80.44741873804972
         },
         {
          "created": "2019-01-29T19:50:00",
          "fiability": 81.17590822179733
         },
         {
          "created": "2019-01-29T19:55:00",
          "fiability": 79.83333333333333
         },
         {
          "created": "2019-01-29T20:00:00",
          "fiability": 78.43913043478261
         },
         {
          "created": "2019-01-29T20:05:00",
          "fiability": 80.71488469601677
         },
         {
          "created": "2019-01-29T20:10:00",
          "fiability": 79.04444444444445
         },
         {
          "created": "2019-01-29T20:15:00",
          "fiability": 81.27645788336933
         },
         {
          "created": "2019-01-29T20:20:00",
          "fiability": 80.71929824561404
         },
         {
          "created": "2019-01-29T20:25:00",
          "fiability": 80.5580808080808
         },
         {
          "created": "2019-01-29T20:30:00",
          "fiability": 79.94722955145119
         },
         {
          "created": "2019-01-29T20:35:00",
          "fiability": 81.37956204379562
         },
         {
          "created": "2019-01-29T20:40:00",
          "fiability": 80.66969696969697
         },
         {
          "created": "2019-01-29T20:45:00",
          "fiability": 81.98382749326146
         },
         {
          "created": "2019-01-29T20:50:00",
          "fiability": 80.95336787564767
         },
         {
          "created": "2019-01-29T20:55:00",
          "fiability": 81.85340314136126
         },
         {
          "created": "2019-01-29T21:00:00",
          "fiability": 80.7784090909091
         },
         {
          "created": "2019-01-29T21:05:00",
          "fiability": 79.0650406504065
         },
         {
          "created": "2019-01-29T21:10:00",
          "fiability": 76.76964769647697
         },
         {
          "created": "2019-01-29T21:15:00",
          "fiability": 80.88328912466844
         },
         {
          "created": "2019-01-29T21:20:00",
          "fiability": 80.40668523676881
         },
         {
          "created": "2019-01-29T21:25:00",
          "fiability": 80.31952662721893
         },
         {
          "created": "2019-01-29T21:30:00",
          "fiability": 78.50809061488673
         },
         {
          "created": "2019-01-29T21:35:00",
          "fiability": 81.73252279635258
         },
         {
          "created": "2019-01-29T21:40:00",
          "fiability": 81.23489932885906
         },
         {
          "created": "2019-01-29T21:45:00",
          "fiability": 80.57394366197182
         },
         {
          "created": "2019-01-29T21:50:00",
          "fiability": 79.11842105263158
         },
         {
          "created": "2019-01-29T21:55:00",
          "fiability": 78.9467680608365
         },
         {
          "created": "2019-01-29T22:00:00",
          "fiability": 82.40344827586208
         },
         {
          "created": "2019-01-29T22:05:00",
          "fiability": 79.71375464684014
         },
         {
          "created": "2019-01-29T22:10:00",
          "fiability": 78.13924050632912
         },
         {
          "created": "2019-01-29T22:15:00",
          "fiability": 79.89830508474576
         },
         {
          "created": "2019-01-29T22:20:00",
          "fiability": 81.75954198473282
         },
         {
          "created": "2019-01-29T22:25:00",
          "fiability": 80.55319148936171
         },
         {
          "created": "2019-01-29T22:30:00",
          "fiability": 81.56275303643724
         },
         {
          "created": "2019-01-29T22:35:00",
          "fiability": 80.87179487179488
         },
         {
          "created": "2019-01-29T22:40:00",
          "fiability": 81.85344827586206
         },
         {
          "created": "2019-01-29T22:45:00",
          "fiability": 83.50251256281408
         },
         {
          "created": "2019-01-29T22:50:00",
          "fiability": 79.22485207100591
         },
         {
          "created": "2019-01-29T22:55:00",
          "fiability": 81.39673913043478
         },
         {
          "created": "2019-01-29T23:00:00",
          "fiability": 81.93181818181819
         },
         {
          "created": "2019-01-29T23:05:00",
          "fiability": 80.27272727272727
         },
         {
          "created": "2019-01-29T23:10:00",
          "fiability": 81.44375
         },
         {
          "created": "2019-01-29T23:15:00",
          "fiability": 81.38271604938272
         },
         {
          "created": "2019-01-29T23:20:00",
          "fiability": 82.7516339869281
         },
         {
          "created": "2019-01-29T23:25:00",
          "fiability": 83.23489932885906
         },
         {
          "created": "2019-01-29T23:30:00",
          "fiability": 84.57792207792208
         },
         {
          "created": "2019-01-29T23:35:00",
          "fiability": 83.31297709923665
         },
         {
          "created": "2019-01-29T23:40:00",
          "fiability": 86.3391304347826
         },
         {
          "created": "2019-01-29T23:45:00",
          "fiability": 81.5187969924812
         },
         {
          "created": "2019-01-29T23:50:00",
          "fiability": 82.56115107913669
         },
         {
          "created": "2019-01-29T23:55:00",
          "fiability": 86.36029411764706
         },
         {
          "created": "2019-01-30T00:00:00",
          "fiability": 85.5
         },
         {
          "created": "2019-01-30T00:05:00",
          "fiability": 85.23387096774194
         },
         {
          "created": "2019-01-30T00:10:00",
          "fiability": 85.03174603174604
         },
         {
          "created": "2019-01-30T00:15:00",
          "fiability": 85.61481481481482
         },
         {
          "created": "2019-01-30T00:20:00",
          "fiability": 87.06896551724138
         },
         {
          "created": "2019-01-30T00:25:00",
          "fiability": 83.4186046511628
         },
         {
          "created": "2019-01-30T00:30:00",
          "fiability": 84.65765765765765
         },
         {
          "created": "2019-01-30T00:35:00",
          "fiability": 81.71681415929204
         },
         {
          "created": "2019-01-30T00:40:00",
          "fiability": 86.59130434782608
         },
         {
          "created": "2019-01-30T00:45:00",
          "fiability": 84.70769230769231
         },
         {
          "created": "2019-01-30T00:50:00",
          "fiability": 89.26126126126127
         },
         {
          "created": "2019-01-30T00:55:00",
          "fiability": 84.08411214953271
         },
         {
          "created": "2019-01-30T01:00:00",
          "fiability": 81.14
         },
         {
          "created": "2019-01-30T01:05:00",
          "fiability": 83.73983739837398
         },
         {
          "created": "2019-01-30T01:10:00",
          "fiability": 87.77586206896552
         },
         {
          "created": "2019-01-30T01:15:00",
          "fiability": 85.06122448979592
         },
         {
          "created": "2019-01-30T01:20:00",
          "fiability": 87.01754385964912
         },
         {
          "created": "2019-01-30T01:25:00",
          "fiability": 84.27
         },
         {
          "created": "2019-01-30T01:30:00",
          "fiability": 84.45283018867924
         },
         {
          "created": "2019-01-30T01:35:00",
          "fiability": 84.64347826086957
         },
         {
          "created": "2019-01-30T01:40:00",
          "fiability": 80.29126213592232
         },
         {
          "created": "2019-01-30T01:45:00",
          "fiability": 83
         },
         {
          "created": "2019-01-30T01:50:00",
          "fiability": 86.47540983606558
         },
         {
          "created": "2019-01-30T01:55:00",
          "fiability": 85.54545454545455
         },
         {
          "created": "2019-01-30T02:00:00",
          "fiability": 84.91666666666667
         },
         {
          "created": "2019-01-30T02:05:00",
          "fiability": 85.11111111111111
         },
         {
          "created": "2019-01-30T02:10:00",
          "fiability": 85.40579710144928
         },
         {
          "created": "2019-01-30T02:15:00",
          "fiability": 84.54330708661418
         },
         {
          "created": "2019-01-30T02:20:00",
          "fiability": 85.6830985915493
         },
         {
          "created": "2019-01-30T02:25:00",
          "fiability": 85.68148148148148
         },
         {
          "created": "2019-01-30T02:30:00",
          "fiability": 87.39097744360902
         },
         {
          "created": "2019-01-30T02:35:00",
          "fiability": 85.14864864864865
         },
         {
          "created": "2019-01-30T02:40:00",
          "fiability": 81.84848484848484
         },
         {
          "created": "2019-01-30T02:45:00",
          "fiability": 81.9037037037037
         },
         {
          "created": "2019-01-30T02:50:00",
          "fiability": 84.3082191780822
         },
         {
          "created": "2019-01-30T02:55:00",
          "fiability": 83.76978417266187
         },
         {
          "created": "2019-01-30T03:00:00",
          "fiability": 82.95744680851064
         },
         {
          "created": "2019-01-30T03:05:00",
          "fiability": 84.61073825503355
         },
         {
          "created": "2019-01-30T03:10:00",
          "fiability": 84.52592592592593
         },
         {
          "created": "2019-01-30T03:15:00",
          "fiability": 81.70860927152317
         },
         {
          "created": "2019-01-30T03:20:00",
          "fiability": 81.71090047393365
         },
         {
          "created": "2019-01-30T03:25:00",
          "fiability": 83.57865168539325
         },
         {
          "created": "2019-01-30T03:30:00",
          "fiability": 82.11822660098522
         },
         {
          "created": "2019-01-30T03:35:00",
          "fiability": 83.27309236947791
         },
         {
          "created": "2019-01-30T03:40:00",
          "fiability": 78.00892857142857
         },
         {
          "created": "2019-01-30T03:45:00",
          "fiability": 78.2843137254902
         },
         {
          "created": "2019-01-30T03:50:00",
          "fiability": 79.38039215686274
         },
         {
          "created": "2019-01-30T03:55:00",
          "fiability": 81.76086956521739
         },
         {
          "created": "2019-01-30T04:00:00",
          "fiability": 83.05527638190955
         },
         {
          "created": "2019-01-30T04:05:00",
          "fiability": 80.775
         },
         {
          "created": "2019-01-30T04:10:00",
          "fiability": 81.80632411067194
         },
         {
          "created": "2019-01-30T04:15:00",
          "fiability": 80.86029411764706
         },
         {
          "created": "2019-01-30T04:20:00",
          "fiability": 82.15217391304348
         },
         {
          "created": "2019-01-30T04:25:00",
          "fiability": 81.2135922330097
         },
         {
          "created": "2019-01-30T04:30:00",
          "fiability": 80.61213720316623
         },
         {
          "created": "2019-01-30T04:35:00",
          "fiability": 79.35612535612536
         },
         {
          "created": "2019-01-30T04:40:00",
          "fiability": 80.17942583732058
         },
         {
          "created": "2019-01-30T04:45:00",
          "fiability": 81.11397849462365
         },
         {
          "created": "2019-01-30T04:50:00",
          "fiability": 79.90801886792453
         },
         {
          "created": "2019-01-30T04:55:00",
          "fiability": 81.07317073170732
         },
         {
          "created": "2019-01-30T05:00:00",
          "fiability": 82.1270207852194
         },
         {
          "created": "2019-01-30T05:05:00",
          "fiability": 81.84067085953879
         },
         {
          "created": "2019-01-30T05:10:00",
          "fiability": 79.86467486818981
         },
         {
          "created": "2019-01-30T05:15:00",
          "fiability": 80.55919003115265
         },
         {
          "created": "2019-01-30T05:20:00",
          "fiability": 81.47707736389685
         },
         {
          "created": "2019-01-30T05:25:00",
          "fiability": 80.39322916666667
         },
         {
          "created": "2019-01-30T05:30:00",
          "fiability": 80.52
         },
         {
          "created": "2019-01-30T05:35:00",
          "fiability": 79.36813186813187
         },
         {
          "created": "2019-01-30T05:40:00",
          "fiability": 81.20541082164328
         },
         {
          "created": "2019-01-30T05:45:00",
          "fiability": 79.35858101629914
         },
         {
          "created": "2019-01-30T05:50:00",
          "fiability": 79.08518518518518
         },
         {
          "created": "2019-01-30T05:55:00",
          "fiability": 78.71468662301216
         },
         {
          "created": "2019-01-30T06:00:00",
          "fiability": 77.23012160898035
         },
         {
          "created": "2019-01-30T06:05:00",
          "fiability": 77.4629963898917
         },
         {
          "created": "2019-01-30T06:10:00",
          "fiability": 76.58928571428571
         },
         {
          "created": "2019-01-30T06:15:00",
          "fiability": 76.72627737226277
         },
         {
          "created": "2019-01-30T06:20:00",
          "fiability": 77.50933333333333
         },
         {
          "created": "2019-01-30T06:25:00",
          "fiability": 76.70818181818181
         },
         {
          "created": "2019-01-30T06:30:00",
          "fiability": 76.23695198329854
         },
         {
          "created": "2019-01-30T06:35:00",
          "fiability": 76.80909901873328
         },
         {
          "created": "2019-01-30T06:40:00",
          "fiability": 75.71628371628371
         },
         {
          "created": "2019-01-30T06:45:00",
          "fiability": 75.67822736030828
         },
         {
          "created": "2019-01-30T06:50:00",
          "fiability": 76.28236493374108
         },
         {
          "created": "2019-01-30T06:55:00",
          "fiability": 76.33263816475495
         },
         {
          "created": "2019-01-30T07:00:00",
          "fiability": 74.02467917077986
         },
         {
          "created": "2019-01-30T07:05:00",
          "fiability": 75.58414872798434
         },
         {
          "created": "2019-01-30T07:10:00",
          "fiability": 75.5438282647585
         },
         {
          "created": "2019-01-30T07:15:00",
          "fiability": 77.28524319868096
         },
         {
          "created": "2019-01-30T07:20:00",
          "fiability": 79.46078431372548
         },
         {
          "created": "2019-01-30T07:25:00",
          "fiability": 79.57069076823757
         },
         {
          "created": "2019-01-30T07:30:00",
          "fiability": 78.0200458190149
         },
         {
          "created": "2019-01-30T07:35:00",
          "fiability": 78.23732357553581
         },
         {
          "created": "2019-01-30T07:40:00",
          "fiability": 80.01681127982647
         },
         {
          "created": "2019-01-30T07:45:00",
          "fiability": 80.25984654731458
         },
         {
          "created": "2019-01-30T07:50:00",
          "fiability": 79.83563918096293
         },
         {
          "created": "2019-01-30T07:55:00",
          "fiability": 81.47038527889592
         },
         {
          "created": "2019-01-30T08:00:00",
          "fiability": 80.5970515970516
         },
         {
          "created": "2019-01-30T08:05:00",
          "fiability": 82.59597806215722
         },
         {
          "created": "2019-01-30T08:10:00",
          "fiability": 81.39176470588235
         },
         {
          "created": "2019-01-30T08:15:00",
          "fiability": 79.13848920863309
         },
         {
          "created": "2019-01-30T08:20:00",
          "fiability": 80.19328703703704
         },
         {
          "created": "2019-01-30T08:25:00",
          "fiability": 80.3713009491904
         },
         {
          "created": "2019-01-30T08:30:00",
          "fiability": 79.99428897772701
         },
         {
          "created": "2019-01-30T08:35:00",
          "fiability": 79.77291543465405
         },
         {
          "created": "2019-01-30T08:40:00",
          "fiability": 80.57925072046109
         },
         {
          "created": "2019-01-30T08:45:00",
          "fiability": 79.52267932489451
         },
         {
          "created": "2019-01-30T08:50:00",
          "fiability": 80.58203799654576
         },
         {
          "created": "2019-01-30T08:55:00",
          "fiability": 80.16846284741918
         },
         {
          "created": "2019-01-30T09:00:00",
          "fiability": 81.32857142857142
         },
         {
          "created": "2019-01-30T09:05:00",
          "fiability": 81.23774954627949
         },
         {
          "created": "2019-01-30T09:10:00",
          "fiability": 81.53367579908675
         },
         {
          "created": "2019-01-30T09:15:00",
          "fiability": 80.52184320766008
         },
         {
          "created": "2019-01-30T09:20:00",
          "fiability": 80.3331415420023
         },
         {
          "created": "2019-01-30T09:25:00",
          "fiability": 81.35339233038349
         },
         {
          "created": "2019-01-30T09:30:00",
          "fiability": 80.50221975582686
         },
         {
          "created": "2019-01-30T09:35:00",
          "fiability": 80.43693421846712
         },
         {
          "created": "2019-01-30T09:40:00",
          "fiability": 81.26027397260275
         },
         {
          "created": "2019-01-30T09:45:00",
          "fiability": 80.02956521739131
         },
         {
          "created": "2019-01-30T09:50:00",
          "fiability": 79.9144013880856
         },
         {
          "created": "2019-01-30T09:55:00",
          "fiability": 81.83995327102804
         },
         {
          "created": "2019-01-30T10:00:00",
          "fiability": 82.97073440088349
         },
         {
          "created": "2019-01-30T10:05:00",
          "fiability": 80.95504322766571
         },
         {
          "created": "2019-01-30T10:10:00",
          "fiability": 80.31775180856984
         },
         {
          "created": "2019-01-30T10:15:00",
          "fiability": 82.97482837528604
         },
         {
          "created": "2019-01-30T10:20:00",
          "fiability": 84.4750608272506
         },
         {
          "created": "2019-01-30T10:25:00",
          "fiability": 83.76980661260137
         },
         {
          "created": "2019-01-30T10:30:00",
          "fiability": 82.58168147641832
         },
         {
          "created": "2019-01-30T10:35:00",
          "fiability": 84.46531413612566
         },
         {
          "created": "2019-01-30T10:40:00",
          "fiability": 83.20292747837658
         },
         {
          "created": "2019-01-30T10:45:00",
          "fiability": 81.89583333333333
         },
         {
          "created": "2019-01-30T10:50:00",
          "fiability": 80.95069953364424
         },
         {
          "created": "2019-01-30T10:55:00",
          "fiability": 80.91546649968691
         },
         {
          "created": "2019-01-30T11:00:00",
          "fiability": 82.88275862068966
         },
         {
          "created": "2019-01-30T11:05:00",
          "fiability": 80.28554360812426
         },
         {
          "created": "2019-01-30T11:10:00",
          "fiability": 79.71800679501699
         },
         {
          "created": "2019-01-30T11:15:00",
          "fiability": 79.26015367727771
         },
         {
          "created": "2019-01-30T11:20:00",
          "fiability": 80.13412017167381
         },
         {
          "created": "2019-01-30T11:25:00",
          "fiability": 80.22523519645821
         },
         {
          "created": "2019-01-30T11:30:00",
          "fiability": 79.17976843388178
         },
         {
          "created": "2019-01-30T11:35:00",
          "fiability": 82.70166073546856
         },
         {
          "created": "2019-01-30T11:40:00",
          "fiability": 82.40443896424168
         },
         {
          "created": "2019-01-30T11:45:00",
          "fiability": 82.55
         },
         {
          "created": "2019-01-30T11:50:00",
          "fiability": 81.6599713055954
         },
         {
          "created": "2019-01-30T11:55:00",
          "fiability": 81.39837398373983
         },
         {
          "created": "2019-01-30T12:00:00",
          "fiability": 79.8477508650519
         },
         {
          "created": "2019-01-30T12:05:00",
          "fiability": 81.2486388384755
         },
         {
          "created": "2019-01-30T12:10:00",
          "fiability": 79.71545667447307
         },
         {
          "created": "2019-01-30T12:15:00",
          "fiability": 79.6768038163387
         },
         {
          "created": "2019-01-30T12:20:00",
          "fiability": 79.45017793594306
         },
         {
          "created": "2019-01-30T12:25:00",
          "fiability": 79.16052183777651
         },
         {
          "created": "2019-01-30T12:30:00",
          "fiability": 80.43008225616921
         },
         {
          "created": "2019-01-30T12:35:00",
          "fiability": 80.50136686714052
         },
         {
          "created": "2019-01-30T12:40:00",
          "fiability": 80.84415584415585
         },
         {
          "created": "2019-01-30T12:45:00",
          "fiability": 81.97667638483965
         },
         {
          "created": "2019-01-30T12:50:00",
          "fiability": 83.67810880829016
         },
         {
          "created": "2019-01-30T12:55:00",
          "fiability": 80.56642335766423
         },
         {
          "created": "2019-01-30T13:00:00",
          "fiability": 80.79147640791476
         },
         {
          "created": "2019-01-30T13:05:00",
          "fiability": 79.1343949044586
         },
         {
          "created": "2019-01-30T13:10:00",
          "fiability": 82.0723951285521
         },
         {
          "created": "2019-01-30T13:15:00",
          "fiability": 83.07546048722519
         },
         {
          "created": "2019-01-30T13:20:00",
          "fiability": 81.1891891891892
         },
         {
          "created": "2019-01-30T13:25:00",
          "fiability": 81.05508233957978
         },
         {
          "created": "2019-01-30T13:30:00",
          "fiability": 81.6094972067039
         },
         {
          "created": "2019-01-30T13:35:00",
          "fiability": 80.74553828439839
         },
         {
          "created": "2019-01-30T13:40:00",
          "fiability": 80.33257918552036
         },
         {
          "created": "2019-01-30T13:45:00",
          "fiability": 78.79953243717125
         },
         {
          "created": "2019-01-30T13:50:00",
          "fiability": 80.01780745687256
         },
         {
          "created": "2019-01-30T13:55:00",
          "fiability": 78.9051094890511
         },
         {
          "created": "2019-01-30T14:00:00",
          "fiability": 78.86433013001695
         },
         {
          "created": "2019-01-30T14:05:00",
          "fiability": 80.73172072567344
         },
         {
          "created": "2019-01-30T14:10:00",
          "fiability": 80.8205546492659
         },
         {
          "created": "2019-01-30T14:15:00",
          "fiability": 80.28806366047745
         },
         {
          "created": "2019-01-30T14:20:00",
          "fiability": 80.27642679900744
         },
         {
          "created": "2019-01-30T14:25:00",
          "fiability": 80.2019758507135
         },
         {
          "created": "2019-01-30T14:30:00",
          "fiability": 80.71604938271605
         },
         {
          "created": "2019-01-30T14:35:00",
          "fiability": 81.5120822622108
         },
         {
          "created": "2019-01-30T14:40:00",
          "fiability": 81.13079729025534
         },
         {
          "created": "2019-01-30T14:45:00",
          "fiability": 81.25827455236028
         },
         {
          "created": "2019-01-30T14:50:00",
          "fiability": 81.28881469115191
         },
         {
          "created": "2019-01-30T14:55:00",
          "fiability": 82.57674943566592
         },
         {
          "created": "2019-01-30T15:00:00",
          "fiability": 82.26070038910505
         },
         {
          "created": "2019-01-30T15:05:00",
          "fiability": 81.204653622422
         },
         {
          "created": "2019-01-30T15:10:00",
          "fiability": 80.40873786407766
         },
         {
          "created": "2019-01-30T15:15:00",
          "fiability": 80.36022514071294
         },
         {
          "created": "2019-01-30T15:20:00",
          "fiability": 81.06708975521306
         },
         {
          "created": "2019-01-30T15:25:00",
          "fiability": 80.9410199556541
         },
         {
          "created": "2019-01-30T15:30:00",
          "fiability": 80.72226962457339
         },
         {
          "created": "2019-01-30T15:35:00",
          "fiability": 79.93333333333334
         },
         {
          "created": "2019-01-30T15:40:00",
          "fiability": 80.00782214903252
         },
         {
          "created": "2019-01-30T15:45:00",
          "fiability": 81.30562659846548
         },
         {
          "created": "2019-01-30T15:50:00",
          "fiability": 82.03157457415871
         },
         {
          "created": "2019-01-30T15:55:00",
          "fiability": 80.05844675740593
         },
         {
          "created": "2019-01-30T16:00:00",
          "fiability": 78.83168724279835
         },
         {
          "created": "2019-01-30T16:05:00",
          "fiability": 78.8552477565353
         },
         {
          "created": "2019-01-30T16:10:00",
          "fiability": 80.34214680347277
         },
         {
          "created": "2019-01-30T16:15:00",
          "fiability": 80.43057722308892
         },
         {
          "created": "2019-01-30T16:20:00",
          "fiability": 82.27697701597195
         },
         {
          "created": "2019-01-30T16:25:00",
          "fiability": 82.75885668276973
         },
         {
          "created": "2019-01-30T16:30:00",
          "fiability": 82.55137540453075
         },
         {
          "created": "2019-01-30T16:35:00",
          "fiability": 82.61954261954261
         },
         {
          "created": "2019-01-30T16:40:00",
          "fiability": 79.01315789473684
         },
         {
          "created": "2019-01-30T16:45:00",
          "fiability": 77.59122502172025
         },
         {
          "created": "2019-01-30T16:50:00",
          "fiability": 79.61851851851851
         },
         {
          "created": "2019-01-30T16:55:00",
          "fiability": 77.95420560747664
         },
         {
          "created": "2019-01-30T17:00:00",
          "fiability": 79.18195488721804
         },
         {
          "created": "2019-01-30T17:05:00",
          "fiability": 79.52204408817636
         },
         {
          "created": "2019-01-30T17:10:00",
          "fiability": 79.58468899521532
         },
         {
          "created": "2019-01-30T17:15:00",
          "fiability": 81.42673267326732
         },
         {
          "created": "2019-01-30T17:20:00",
          "fiability": 80.91474328780028
         },
         {
          "created": "2019-01-30T17:25:00",
          "fiability": 81.2896725440806
         },
         {
          "created": "2019-01-30T17:30:00",
          "fiability": 81.31607765057242
         },
         {
          "created": "2019-01-30T17:35:00",
          "fiability": 80.92860811504879
         },
         {
          "created": "2019-01-30T17:40:00",
          "fiability": 80.16098584163608
         },
         {
          "created": "2019-01-30T17:45:00",
          "fiability": 80.77367841409692
         },
         {
          "created": "2019-01-30T17:50:00",
          "fiability": 81.44516129032257
         },
         {
          "created": "2019-01-30T17:55:00",
          "fiability": 81.58465608465609
         },
         {
          "created": "2019-01-30T18:00:00",
          "fiability": 82.11655405405405
         },
         {
          "created": "2019-01-30T18:05:00",
          "fiability": 80.67894413750767
         },
         {
          "created": "2019-01-30T18:10:00",
          "fiability": 80.79178551055334
         },
         {
          "created": "2019-01-30T18:15:00",
          "fiability": 81.13895631067962
         },
         {
          "created": "2019-01-30T18:20:00",
          "fiability": 81.68464730290457
         },
         {
          "created": "2019-01-30T18:25:00",
          "fiability": 81.09836065573771
         },
         {
          "created": "2019-01-30T18:30:00",
          "fiability": 82.07650643195667
         },
         {
          "created": "2019-01-30T18:35:00",
          "fiability": 81.62934631432545
         },
         {
          "created": "2019-01-30T18:40:00",
          "fiability": 81.37215713301171
         },
         {
          "created": "2019-01-30T18:45:00",
          "fiability": 82.57081850533808
         },
         {
          "created": "2019-01-30T18:50:00",
          "fiability": 82.55069124423963
         },
         {
          "created": "2019-01-30T18:55:00",
          "fiability": 81.80376766091052
         },
         {
          "created": "2019-01-30T19:00:00",
          "fiability": 82.03201347935973
         },
         {
          "created": "2019-01-30T19:05:00",
          "fiability": 82.75680131904369
         },
         {
          "created": "2019-01-30T19:10:00",
          "fiability": 80.96368243243244
         },
         {
          "created": "2019-01-30T19:15:00",
          "fiability": 82.12520193861066
         },
         {
          "created": "2019-01-30T19:20:00",
          "fiability": 81.69411764705882
         },
         {
          "created": "2019-01-30T19:25:00",
          "fiability": 82.36193029490616
         },
         {
          "created": "2019-01-30T19:30:00",
          "fiability": 80.73399014778325
         },
         {
          "created": "2019-01-30T19:35:00",
          "fiability": 81.37687366167023
         },
         {
          "created": "2019-01-30T19:40:00",
          "fiability": 81.49737118822293
         },
         {
          "created": "2019-01-30T19:45:00",
          "fiability": 81.95356371490281
         },
         {
          "created": "2019-01-30T19:50:00",
          "fiability": 82.36878612716762
         },
         {
          "created": "2019-01-30T19:55:00",
          "fiability": 81.6631989596879
         },
         {
          "created": "2019-01-30T20:00:00",
          "fiability": 81.20618556701031
         },
         {
          "created": "2019-01-30T20:05:00",
          "fiability": 81.6978021978022
         },
         {
          "created": "2019-01-30T20:10:00",
          "fiability": 80.8363136176066
         },
         {
          "created": "2019-01-30T20:15:00",
          "fiability": 81.08666666666667
         },
         {
          "created": "2019-01-30T20:20:00",
          "fiability": 82.34871099050204
         },
         {
          "created": "2019-01-30T20:25:00",
          "fiability": 81.9164265129683
         },
         {
          "created": "2019-01-30T20:30:00",
          "fiability": 82.64181286549707
         },
         {
          "created": "2019-01-30T20:35:00",
          "fiability": 83.22222222222223
         },
         {
          "created": "2019-01-30T20:40:00",
          "fiability": 81.72231404958677
         },
         {
          "created": "2019-01-30T20:45:00",
          "fiability": 82.02715654952077
         },
         {
          "created": "2019-01-30T20:50:00",
          "fiability": 82.03114754098361
         },
         {
          "created": "2019-01-30T20:55:00",
          "fiability": 81.88888888888889
         },
         {
          "created": "2019-01-30T21:00:00",
          "fiability": 81.58
         },
         {
          "created": "2019-01-30T21:05:00",
          "fiability": 81.44259259259259
         },
         {
          "created": "2019-01-30T21:10:00",
          "fiability": 81.61090909090909
         },
         {
          "created": "2019-01-30T21:15:00",
          "fiability": 81.28007518796993
         },
         {
          "created": "2019-01-30T21:20:00",
          "fiability": 81.86111111111111
         },
         {
          "created": "2019-01-30T21:25:00",
          "fiability": 80.88846880907373
         },
         {
          "created": "2019-01-30T21:30:00",
          "fiability": 81.14876033057851
         },
         {
          "created": "2019-01-30T21:35:00",
          "fiability": 82.14601769911505
         },
         {
          "created": "2019-01-30T21:40:00",
          "fiability": 81.48115299334812
         },
         {
          "created": "2019-01-30T21:45:00",
          "fiability": 82.03378378378379
         },
         {
          "created": "2019-01-30T21:50:00",
          "fiability": 82.5311778290993
         },
         {
          "created": "2019-01-30T21:55:00",
          "fiability": 80.97674418604652
         },
         {
          "created": "2019-01-30T22:00:00",
          "fiability": 80.27777777777777
         },
         {
          "created": "2019-01-30T22:05:00",
          "fiability": 81.89775561097257
         },
         {
          "created": "2019-01-30T22:10:00",
          "fiability": 81.69565217391305
         },
         {
          "created": "2019-01-30T22:15:00",
          "fiability": 80.95108695652173
         },
         {
          "created": "2019-01-30T22:20:00",
          "fiability": 82.79310344827586
         },
         {
          "created": "2019-01-30T22:25:00",
          "fiability": 83.75142857142858
         },
         {
          "created": "2019-01-30T22:30:00",
          "fiability": 82.52112676056338
         },
         {
          "created": "2019-01-30T22:35:00",
          "fiability": 85.36615384615385
         },
         {
          "created": "2019-01-30T22:40:00",
          "fiability": 82.72638436482085
         },
         {
          "created": "2019-01-30T22:45:00",
          "fiability": 84.78827361563518
         },
         {
          "created": "2019-01-30T22:50:00",
          "fiability": 86.99322033898305
         },
         {
          "created": "2019-01-30T22:55:00",
          "fiability": 82.78965517241379
         },
         {
          "created": "2019-01-30T23:00:00",
          "fiability": 83.93675889328063
         },
         {
          "created": "2019-01-30T23:05:00",
          "fiability": 82.5204081632653
         },
         {
          "created": "2019-01-30T23:10:00",
          "fiability": 85.1822033898305
         },
         {
          "created": "2019-01-30T23:15:00",
          "fiability": 83.83895131086142
         },
         {
          "created": "2019-01-30T23:20:00",
          "fiability": 83.06167400881057
         },
         {
          "created": "2019-01-30T23:25:00",
          "fiability": 83.58371040723982
         },
         {
          "created": "2019-01-30T23:30:00",
          "fiability": 85.63849765258216
         },
         {
          "created": "2019-01-30T23:35:00",
          "fiability": 86.68281938325991
         },
         {
          "created": "2019-01-30T23:40:00",
          "fiability": 83.34183673469387
         },
         {
          "created": "2019-01-30T23:45:00",
          "fiability": 84.26262626262626
         },
         {
          "created": "2019-01-30T23:50:00",
          "fiability": 86.27777777777777
         },
         {
          "created": "2019-01-30T23:55:00",
          "fiability": 84.58119658119658
         }
        ]
       },
       "encoding": {
        "x": {
         "field": "created",
         "type": "temporal"
        },
        "y": {
         "field": "fiability",
         "scale": {
          "zero": false
         },
         "type": "quantitative"
        }
       },
       "mark": "line",
       "selection": {
        "selector001": {
         "bind": "scales",
         "encodings": [
          "x",
          "y"
         ],
         "mark": {
          "fill": "#333",
          "fillOpacity": 0.125,
          "stroke": "white"
         },
         "on": "[mousedown, window:mouseup] > window:mousemove!",
         "resolve": "global",
         "translate": "[mousedown, window:mouseup] > window:mousemove!",
         "type": "interval",
         "zoom": "wheel!"
        }
       }
      },
      "image/png": "[encoded data removed]",
      "text/plain": [
       "<VegaLite 2 object>\n",
       "\n",
       "If you see this message, it means the renderer has not been properly enabled\n",
       "for the frontend that you are using. For more information, see\n",
       "https://altair-viz.github.io/user_guide/troubleshooting.html\n"
      ]
     },
     "execution_count": 10,
     "metadata": {},
     "output_type": "execute_result"
    }
   ],
   "source": [
    "#fiabilité moyenne par tranche de 5 min (graph interactif)\n",
    "graph_fiab"
   ]
  },
  {
   "cell_type": "markdown",
   "metadata": {},
   "source": [
    "Chap 2. Trouver les échanges directs et indirects entre 2 caméras pour une tranche horaire de départ données"
   ]
  },
  {
   "cell_type": "markdown",
   "metadata": {},
   "source": [
    "    Chap 2.1. Trouver les échanges directs"
   ]
  },
  {
   "cell_type": "code",
   "execution_count": 28,
   "metadata": {},
   "outputs": [],
   "source": [
    "#On utilise la classe trajet_direct\n",
    "direct_cam_19_5=t.trajet_direct(df_journee, '2019-01-29 08:00:00', 60, 2, 19, 5, avecGraph=True) #True pour pouvoir faire des graphs"
   ]
  },
  {
   "cell_type": "code",
   "execution_count": 1,
   "metadata": {},
   "outputs": [
    {
     "ename": "NameError",
     "evalue": "name 'direct_cam_19_5' is not defined",
     "output_type": "error",
     "traceback": [
      "\u001b[1;31m---------------------------------------------------------------------------\u001b[0m",
      "\u001b[1;31mNameError\u001b[0m                                 Traceback (most recent call last)",
      "\u001b[1;32m<ipython-input-1-8441b17fdf4d>\u001b[0m in \u001b[0;36m<module>\u001b[1;34m\u001b[0m\n\u001b[1;32m----> 1\u001b[1;33m \u001b[0mdirect_cam_19_5\u001b[0m\u001b[1;33m.\u001b[0m\u001b[0mdf_tps_parcours_pl_final\u001b[0m\u001b[1;33m.\u001b[0m\u001b[0mhead\u001b[0m\u001b[1;33m(\u001b[0m\u001b[1;36m5\u001b[0m\u001b[1;33m)\u001b[0m\u001b[1;33m\u001b[0m\u001b[0m\n\u001b[0m",
      "\u001b[1;31mNameError\u001b[0m: name 'direct_cam_19_5' is not defined"
     ]
    }
   ],
   "source": [
    "direct_cam_19_5.df_tps_parcours_pl_final.head(5)"
   ]
  },
  {
   "cell_type": "code",
   "execution_count": 6,
   "metadata": {},
   "outputs": [
    {
     "data": {
      "application/vnd.vegalite.v2+json": {
       "$schema": "https://vega.github.io/schema/vega-lite/v2.6.0.json",
       "config": {
        "view": {
         "height": 300,
         "width": 400
        }
       },
       "datasets": {
        "data-9f7e13d642cba7537742bef96779f3fc": [
         {
          "created_x": "2019-01-29T08:02:04",
          "l": 1,
          "pl_85pctl": "2018-01-01T01:02:13.500000",
          "pl_90pctl": "2018-01-01T01:07:55",
          "tps_parcours": "2018-01-01T00:34:54"
         },
         {
          "created_x": "2019-01-29T08:07:36",
          "l": 1,
          "pl_85pctl": "2018-01-01T01:02:13.500000",
          "pl_90pctl": "2018-01-01T01:07:55",
          "tps_parcours": "2018-01-01T00:33:47"
         },
         {
          "created_x": "2019-01-29T08:11:25",
          "l": 1,
          "pl_85pctl": "2018-01-01T01:02:13.500000",
          "pl_90pctl": "2018-01-01T01:07:55",
          "tps_parcours": "2018-01-01T00:33:29"
         },
         {
          "created_x": "2019-01-29T08:14:52",
          "l": 1,
          "pl_85pctl": "2018-01-01T01:02:13.500000",
          "pl_90pctl": "2018-01-01T01:07:55",
          "tps_parcours": "2018-01-01T00:32:41"
         },
         {
          "created_x": "2019-01-29T08:33:11",
          "l": 1,
          "pl_85pctl": "2018-01-01T01:02:13.500000",
          "pl_90pctl": "2018-01-01T01:07:55",
          "tps_parcours": "2018-01-01T00:25:13"
         },
         {
          "created_x": "2019-01-29T08:14:52",
          "l": 1,
          "pl_85pctl": "2018-01-01T01:02:13.500000",
          "pl_90pctl": "2018-01-01T01:07:55",
          "tps_parcours": "2018-01-01T00:46:21"
         },
         {
          "created_x": "2019-01-29T08:31:20",
          "l": 1,
          "pl_85pctl": "2018-01-01T01:02:13.500000",
          "pl_90pctl": "2018-01-01T01:07:55",
          "tps_parcours": "2018-01-01T00:30:15"
         },
         {
          "created_x": "2019-01-29T08:29:18",
          "l": 1,
          "pl_85pctl": "2018-01-01T01:02:13.500000",
          "pl_90pctl": "2018-01-01T01:07:55",
          "tps_parcours": "2018-01-01T00:32:18"
         },
         {
          "created_x": "2019-01-29T08:48:27",
          "l": 1,
          "pl_85pctl": "2018-01-01T01:02:13.500000",
          "pl_90pctl": "2018-01-01T01:07:55",
          "tps_parcours": "2018-01-01T00:26:25"
         },
         {
          "created_x": "2019-01-29T08:12:21",
          "l": 1,
          "pl_85pctl": "2018-01-01T01:02:13.500000",
          "pl_90pctl": "2018-01-01T01:07:55",
          "tps_parcours": "2018-01-01T01:07:31"
         },
         {
          "created_x": "2019-01-29T08:47:50",
          "l": 1,
          "pl_85pctl": "2018-01-01T01:02:13.500000",
          "pl_90pctl": "2018-01-01T01:07:55",
          "tps_parcours": "2018-01-01T00:32:17"
         },
         {
          "created_x": "2019-01-29T08:48:46",
          "l": 1,
          "pl_85pctl": "2018-01-01T01:02:13.500000",
          "pl_90pctl": "2018-01-01T01:07:55",
          "tps_parcours": "2018-01-01T00:32:41"
         },
         {
          "created_x": "2019-01-29T08:52:39",
          "l": 1,
          "pl_85pctl": "2018-01-01T01:02:13.500000",
          "pl_90pctl": "2018-01-01T01:07:55",
          "tps_parcours": "2018-01-01T00:31:53"
         },
         {
          "created_x": "2019-01-29T08:54:52",
          "l": 1,
          "pl_85pctl": "2018-01-01T01:02:13.500000",
          "pl_90pctl": "2018-01-01T01:07:55",
          "tps_parcours": "2018-01-01T00:31:01"
         },
         {
          "created_x": "2019-01-29T08:24:40",
          "l": 1,
          "pl_85pctl": "2018-01-01T01:02:13.500000",
          "pl_90pctl": "2018-01-01T01:07:55",
          "tps_parcours": "2018-01-01T01:25:03"
         },
         {
          "created_x": "2019-01-29T08:43:49",
          "l": 1,
          "pl_85pctl": "2018-01-01T01:02:13.500000",
          "pl_90pctl": "2018-01-01T01:07:55",
          "tps_parcours": "2018-01-01T01:08:19"
         }
        ],
        "data-cb58f966a589f0e2863e23ebbce3eca4": [
         {
          "created_x": "2019-01-29T08:02:04",
          "l": 1,
          "pl_85pctl": "2018-01-01T01:02:13.500000",
          "pl_90pctl": "2018-01-01T01:07:55",
          "pl_cluster": "2018-01-01T00:34:54",
          "tps_parcours": "2018-01-01T00:34:54"
         },
         {
          "created_x": "2019-01-29T08:07:36",
          "l": 1,
          "pl_85pctl": "2018-01-01T01:02:13.500000",
          "pl_90pctl": "2018-01-01T01:07:55",
          "pl_cluster": "2018-01-01T00:34:54",
          "tps_parcours": "2018-01-01T00:33:47"
         },
         {
          "created_x": "2019-01-29T08:11:25",
          "l": 1,
          "pl_85pctl": "2018-01-01T01:02:13.500000",
          "pl_90pctl": "2018-01-01T01:07:55",
          "pl_cluster": "2018-01-01T00:34:54",
          "tps_parcours": "2018-01-01T00:33:29"
         },
         {
          "created_x": "2019-01-29T08:14:52",
          "l": 1,
          "pl_85pctl": "2018-01-01T01:02:13.500000",
          "pl_90pctl": "2018-01-01T01:07:55",
          "pl_cluster": "2018-01-01T00:34:54",
          "tps_parcours": "2018-01-01T00:32:41"
         },
         {
          "created_x": "2019-01-29T08:33:11",
          "l": 1,
          "pl_85pctl": "2018-01-01T01:02:13.500000",
          "pl_90pctl": "2018-01-01T01:07:55",
          "pl_cluster": "2018-01-01T00:34:54",
          "tps_parcours": "2018-01-01T00:25:13"
         },
         {
          "created_x": "2019-01-29T08:14:52",
          "l": 1,
          "pl_85pctl": "2018-01-01T01:02:13.500000",
          "pl_90pctl": "2018-01-01T01:07:55",
          "pl_cluster": "2018-01-01T00:34:54",
          "tps_parcours": "2018-01-01T00:46:21"
         },
         {
          "created_x": "2019-01-29T08:31:20",
          "l": 1,
          "pl_85pctl": "2018-01-01T01:02:13.500000",
          "pl_90pctl": "2018-01-01T01:07:55",
          "pl_cluster": "2018-01-01T00:34:54",
          "tps_parcours": "2018-01-01T00:30:15"
         },
         {
          "created_x": "2019-01-29T08:29:18",
          "l": 1,
          "pl_85pctl": "2018-01-01T01:02:13.500000",
          "pl_90pctl": "2018-01-01T01:07:55",
          "pl_cluster": "2018-01-01T00:34:54",
          "tps_parcours": "2018-01-01T00:32:18"
         },
         {
          "created_x": "2019-01-29T08:48:27",
          "l": 1,
          "pl_85pctl": "2018-01-01T01:02:13.500000",
          "pl_90pctl": "2018-01-01T01:07:55",
          "pl_cluster": "2018-01-01T00:34:54",
          "tps_parcours": "2018-01-01T00:26:25"
         },
         {
          "created_x": "2019-01-29T08:12:21",
          "l": 1,
          "pl_85pctl": "2018-01-01T01:02:13.500000",
          "pl_90pctl": "2018-01-01T01:07:55",
          "pl_cluster": "2018-01-01T00:34:54",
          "tps_parcours": "2018-01-01T01:07:31"
         },
         {
          "created_x": "2019-01-29T08:47:50",
          "l": 1,
          "pl_85pctl": "2018-01-01T01:02:13.500000",
          "pl_90pctl": "2018-01-01T01:07:55",
          "pl_cluster": "2018-01-01T00:34:54",
          "tps_parcours": "2018-01-01T00:32:17"
         },
         {
          "created_x": "2019-01-29T08:48:46",
          "l": 1,
          "pl_85pctl": "2018-01-01T01:02:13.500000",
          "pl_90pctl": "2018-01-01T01:07:55",
          "pl_cluster": "2018-01-01T00:34:54",
          "tps_parcours": "2018-01-01T00:32:41"
         },
         {
          "created_x": "2019-01-29T08:52:39",
          "l": 1,
          "pl_85pctl": "2018-01-01T01:02:13.500000",
          "pl_90pctl": "2018-01-01T01:07:55",
          "pl_cluster": "2018-01-01T00:34:54",
          "tps_parcours": "2018-01-01T00:31:53"
         },
         {
          "created_x": "2019-01-29T08:54:52",
          "l": 1,
          "pl_85pctl": "2018-01-01T01:02:13.500000",
          "pl_90pctl": "2018-01-01T01:07:55",
          "pl_cluster": "2018-01-01T00:34:54",
          "tps_parcours": "2018-01-01T00:31:01"
         },
         {
          "created_x": "2019-01-29T08:24:40",
          "l": 1,
          "pl_85pctl": "2018-01-01T01:02:13.500000",
          "pl_90pctl": "2018-01-01T01:07:55",
          "pl_cluster": "2018-01-01T00:34:54",
          "tps_parcours": "2018-01-01T01:25:03"
         },
         {
          "created_x": "2019-01-29T08:43:49",
          "l": 1,
          "pl_85pctl": "2018-01-01T01:02:13.500000",
          "pl_90pctl": "2018-01-01T01:07:55",
          "pl_cluster": "2018-01-01T00:34:54",
          "tps_parcours": "2018-01-01T01:08:19"
         }
        ]
       },
       "layer": [
        {
         "data": {
          "name": "data-9f7e13d642cba7537742bef96779f3fc"
         },
         "encoding": {
          "tooltip": {
           "field": "tps_parcours",
           "timeUnit": "hoursminutes",
           "type": "temporal"
          },
          "x": {
           "field": "created_x",
           "type": "temporal"
          },
          "y": {
           "field": "tps_parcours",
           "timeUnit": "hoursminutes",
           "type": "temporal"
          }
         },
         "mark": {
          "color": "gray",
          "type": "point"
         },
         "selection": {
          "selector003": {
           "bind": "scales",
           "encodings": [
            "x",
            "y"
           ],
           "mark": {
            "fill": "#333",
            "fillOpacity": 0.125,
            "stroke": "white"
           },
           "on": "[mousedown, window:mouseup] > window:mousemove!",
           "resolve": "global",
           "translate": "[mousedown, window:mouseup] > window:mousemove!",
           "type": "interval",
           "zoom": "wheel!"
          }
         }
        },
        {
         "data": {
          "name": "data-9f7e13d642cba7537742bef96779f3fc"
         },
         "encoding": {
          "x": {
           "field": "created_x",
           "type": "temporal"
          },
          "y": {
           "field": "pl_90pctl",
           "timeUnit": "hoursminutes",
           "type": "temporal"
          }
         },
         "mark": {
          "color": "blue",
          "type": "line"
         }
        },
        {
         "data": {
          "name": "data-9f7e13d642cba7537742bef96779f3fc"
         },
         "encoding": {
          "x": {
           "field": "created_x",
           "type": "temporal"
          },
          "y": {
           "field": "pl_85pctl",
           "timeUnit": "hoursminutes",
           "type": "temporal"
          }
         },
         "mark": {
          "color": "red",
          "type": "line"
         }
        },
        {
         "data": {
          "name": "data-cb58f966a589f0e2863e23ebbce3eca4"
         },
         "encoding": {
          "x": {
           "field": "created_x",
           "type": "temporal"
          },
          "y": {
           "field": "pl_cluster",
           "timeUnit": "hoursminutes",
           "type": "temporal"
          }
         },
         "mark": {
          "color": "yellow",
          "type": "line"
         }
        }
       ]
      },
      "image/png": "[encoded data removed]",
      "text/plain": [
       "<VegaLite 2 object>\n",
       "\n",
       "If you see this message, it means the renderer has not been properly enabled\n",
       "for the frontend that you are using. For more information, see\n",
       "https://altair-viz.github.io/user_guide/troubleshooting.html\n"
      ]
     },
     "execution_count": 6,
     "metadata": {},
     "output_type": "execute_result"
    }
   ],
   "source": [
    "#cette instance contient bcp d'attribut : \n",
    "# - de comptage de veh\n",
    "# - de Dataframes (intermediaires et finalles)\n",
    "# - de graphs\n",
    "direct_cam_19_5.graph_prctl"
   ]
  },
  {
   "cell_type": "code",
   "execution_count": 7,
   "metadata": {},
   "outputs": [
    {
     "data": {
      "application/vnd.vegalite.v2+json": {
       "$schema": "https://vega.github.io/schema/vega-lite/v2.6.0.json",
       "config": {
        "view": {
         "height": 300,
         "width": 400
        }
       },
       "data": {
        "name": "data-8760166619aa0e6f0328f131e0733aaa"
       },
       "datasets": {
        "data-8760166619aa0e6f0328f131e0733aaa": [
         {
          "type": "nb_tv_tot",
          "value": 37
         },
         {
          "type": "nb_tv_plaque_ok",
          "value": 35
         },
         {
          "type": "nb_vlpl",
          "value": 30
         },
         {
          "type": "nb_veh_ok",
          "value": 29
         },
         {
          "type": "nb_vl_ok",
          "value": 13
         },
         {
          "type": "nb_pl_ok",
          "value": 16
         }
        ]
       },
       "encoding": {
        "color": {
         "field": "type",
         "type": "nominal"
        },
        "x": {
         "field": "type",
         "sort": {
          "field": "value",
          "op": "mean"
         },
         "type": "nominal"
        },
        "y": {
         "field": "value",
         "type": "quantitative"
        }
       },
       "mark": {
        "size": 20,
        "type": "bar"
       }
      },
      "image/png": "[encoded data removed]",
      "text/plain": [
       "<VegaLite 2 object>\n",
       "\n",
       "If you see this message, it means the renderer has not been properly enabled\n",
       "for the frontend that you are using. For more information, see\n",
       "https://altair-viz.github.io/user_guide/troubleshooting.html\n"
      ]
     },
     "execution_count": 7,
     "metadata": {},
     "output_type": "execute_result"
    }
   ],
   "source": [
    "direct_cam_19_5.graph_stat_trie"
   ]
  },
  {
   "cell_type": "markdown",
   "metadata": {},
   "source": [
    "    Chap 2.2. Trouver les échanges indirects"
   ]
  },
  {
   "cell_type": "code",
   "execution_count": 30,
   "metadata": {},
   "outputs": [],
   "source": [
    "#et on reutilie la classe df_tps_parcours, qui ne renvoi que les immat qui passent directement par la seconde cameras \n",
    "#on pourrait utiliser les données de temps max collectées par les échanges indirect pour limiter les données, là je laisse la possibilité de prendre 16h plus tard\n",
    "indirect_cam19_5=t.trajet_indirect(df_journee,'2019-01-29 08:00:00', 60, 16,[19,4,5])"
   ]
  },
  {
   "cell_type": "code",
   "execution_count": 10,
   "metadata": {},
   "outputs": [
    {
     "data": {
      "text/plain": [
       "{'trajet0': <traitement_od.trajet_direct at 0x1db83bcd160>,\n",
       " 'trajet1': <traitement_od.trajet_direct at 0x1db83bcd470>}"
      ]
     },
     "execution_count": 10,
     "metadata": {},
     "output_type": "execute_result"
    }
   ],
   "source": [
    "#cet objet renvoi une df finale et un dico composé des trajets directs\n",
    "indirect_cam19_5.dico_traj_directs"
   ]
  },
  {
   "cell_type": "code",
   "execution_count": 31,
   "metadata": {},
   "outputs": [
    {
     "data": {
      "text/html": [
       "<div>\n",
       "<style scoped>\n",
       "    .dataframe tbody tr th:only-of-type {\n",
       "        vertical-align: middle;\n",
       "    }\n",
       "\n",
       "    .dataframe tbody tr th {\n",
       "        vertical-align: top;\n",
       "    }\n",
       "\n",
       "    .dataframe thead th {\n",
       "        text-align: right;\n",
       "    }\n",
       "</style>\n",
       "<table border=\"1\" class=\"dataframe\">\n",
       "  <thead>\n",
       "    <tr style=\"text-align: right;\">\n",
       "      <th></th>\n",
       "      <th>immat</th>\n",
       "      <th>date_cam_1</th>\n",
       "      <th>date_cam_2</th>\n",
       "      <th>cam_1</th>\n",
       "      <th>cam_2</th>\n",
       "      <th>tps_parcours</th>\n",
       "      <th>cameras</th>\n",
       "    </tr>\n",
       "  </thead>\n",
       "  <tbody>\n",
       "    <tr>\n",
       "      <th>0</th>\n",
       "      <td>bf9dfd50a4a693085e3080156f11c25314f96f03</td>\n",
       "      <td>2019-01-29 08:00:56</td>\n",
       "      <td>2019-01-29 08:37:18</td>\n",
       "      <td>19</td>\n",
       "      <td>5</td>\n",
       "      <td>00:36:22</td>\n",
       "      <td>[19, 4, 5]</td>\n",
       "    </tr>\n",
       "    <tr>\n",
       "      <th>1</th>\n",
       "      <td>cf4f7ddbb3a6d9006e029777df712a53c2d76992</td>\n",
       "      <td>2019-01-29 08:01:07</td>\n",
       "      <td>2019-01-29 08:37:04</td>\n",
       "      <td>19</td>\n",
       "      <td>5</td>\n",
       "      <td>00:35:57</td>\n",
       "      <td>[19, 4, 5]</td>\n",
       "    </tr>\n",
       "    <tr>\n",
       "      <th>2</th>\n",
       "      <td>183bc8585ac5a2e26b6d2ada6ce6891235a36b92</td>\n",
       "      <td>2019-01-29 08:01:16</td>\n",
       "      <td>2019-01-29 08:37:20</td>\n",
       "      <td>19</td>\n",
       "      <td>5</td>\n",
       "      <td>00:36:04</td>\n",
       "      <td>[19, 4, 5]</td>\n",
       "    </tr>\n",
       "    <tr>\n",
       "      <th>3</th>\n",
       "      <td>dcf2ffa7638b1ae7d0281cbb94d4c7cf0a0912f7</td>\n",
       "      <td>2019-01-29 08:02:34</td>\n",
       "      <td>2019-01-29 08:37:42</td>\n",
       "      <td>19</td>\n",
       "      <td>5</td>\n",
       "      <td>00:35:08</td>\n",
       "      <td>[19, 4, 5]</td>\n",
       "    </tr>\n",
       "    <tr>\n",
       "      <th>4</th>\n",
       "      <td>54581cfa0b0f0c1dbe24fd60ca7efcc07439232f</td>\n",
       "      <td>2019-01-29 08:02:19</td>\n",
       "      <td>2019-01-29 08:38:07</td>\n",
       "      <td>19</td>\n",
       "      <td>5</td>\n",
       "      <td>00:35:48</td>\n",
       "      <td>[19, 4, 5]</td>\n",
       "    </tr>\n",
       "  </tbody>\n",
       "</table>\n",
       "</div>"
      ],
      "text/plain": [
       "                                      immat          date_cam_1  \\\n",
       "0  bf9dfd50a4a693085e3080156f11c25314f96f03 2019-01-29 08:00:56   \n",
       "1  cf4f7ddbb3a6d9006e029777df712a53c2d76992 2019-01-29 08:01:07   \n",
       "2  183bc8585ac5a2e26b6d2ada6ce6891235a36b92 2019-01-29 08:01:16   \n",
       "3  dcf2ffa7638b1ae7d0281cbb94d4c7cf0a0912f7 2019-01-29 08:02:34   \n",
       "4  54581cfa0b0f0c1dbe24fd60ca7efcc07439232f 2019-01-29 08:02:19   \n",
       "\n",
       "           date_cam_2  cam_1  cam_2 tps_parcours     cameras  \n",
       "0 2019-01-29 08:37:18     19      5     00:36:22  [19, 4, 5]  \n",
       "1 2019-01-29 08:37:04     19      5     00:35:57  [19, 4, 5]  \n",
       "2 2019-01-29 08:37:20     19      5     00:36:04  [19, 4, 5]  \n",
       "3 2019-01-29 08:37:42     19      5     00:35:08  [19, 4, 5]  \n",
       "4 2019-01-29 08:38:07     19      5     00:35:48  [19, 4, 5]  "
      ]
     },
     "execution_count": 31,
     "metadata": {},
     "output_type": "execute_result"
    }
   ],
   "source": [
    "indirect_cam19_5.df_transit.head(5)"
   ]
  },
  {
   "cell_type": "markdown",
   "metadata": {},
   "source": [
    "Chap 3. Faire une rechreche sur 1 journee"
   ]
  },
  {
   "cell_type": "code",
   "execution_count": 16,
   "metadata": {},
   "outputs": [
    {
     "data": {
      "text/html": [
       "<div>\n",
       "<style scoped>\n",
       "    .dataframe tbody tr th:only-of-type {\n",
       "        vertical-align: middle;\n",
       "    }\n",
       "\n",
       "    .dataframe tbody tr th {\n",
       "        vertical-align: top;\n",
       "    }\n",
       "\n",
       "    .dataframe thead th {\n",
       "        text-align: right;\n",
       "    }\n",
       "</style>\n",
       "<table border=\"1\" class=\"dataframe\">\n",
       "  <thead>\n",
       "    <tr style=\"text-align: right;\">\n",
       "      <th></th>\n",
       "      <th>o_d</th>\n",
       "      <th>trajets</th>\n",
       "    </tr>\n",
       "  </thead>\n",
       "  <tbody>\n",
       "    <tr>\n",
       "      <th>0</th>\n",
       "      <td>A63-A10</td>\n",
       "      <td>[{'cameras': [19, 4, 5], 'type_trajet': 'indirect'}, {'cameras': [19, 1, 5], 'type_trajet': 'indirect'}, {'cameras': [19, 5], 'type_trajet': 'direct'}]</td>\n",
       "    </tr>\n",
       "    <tr>\n",
       "      <th>1</th>\n",
       "      <td>A62-A10</td>\n",
       "      <td>[{'cameras': [10, 4, 5], 'type_trajet': 'indirect'}, {'cameras': [10, 1, 5], 'type_trajet': 'indirect'}, {'cameras': [10, 5], 'type_trajet': 'direct'}]</td>\n",
       "    </tr>\n",
       "  </tbody>\n",
       "</table>\n",
       "</div>"
      ],
      "text/plain": [
       "       o_d  \\\n",
       "0  A63-A10   \n",
       "1  A62-A10   \n",
       "\n",
       "                                                                                                                                                   trajets  \n",
       "0  [{'cameras': [19, 4, 5], 'type_trajet': 'indirect'}, {'cameras': [19, 1, 5], 'type_trajet': 'indirect'}, {'cameras': [19, 5], 'type_trajet': 'direct'}]  \n",
       "1  [{'cameras': [10, 4, 5], 'type_trajet': 'indirect'}, {'cameras': [10, 1, 5], 'type_trajet': 'indirect'}, {'cameras': [10, 5], 'type_trajet': 'direct'}]  "
      ]
     },
     "execution_count": 16,
     "metadata": {},
     "output_type": "execute_result"
    }
   ],
   "source": [
    "#récuperer la liste des trajets (importer dans le module à partir d'un fichier) \n",
    "t.liste_trajet"
   ]
  },
  {
   "cell_type": "code",
   "execution_count": 21,
   "metadata": {},
   "outputs": [
    {
     "data": {
      "text/html": [
       "<div>\n",
       "<style scoped>\n",
       "    .dataframe tbody tr th:only-of-type {\n",
       "        vertical-align: middle;\n",
       "    }\n",
       "\n",
       "    .dataframe tbody tr th {\n",
       "        vertical-align: top;\n",
       "    }\n",
       "\n",
       "    .dataframe thead th {\n",
       "        text-align: right;\n",
       "    }\n",
       "</style>\n",
       "<table border=\"1\" class=\"dataframe\">\n",
       "  <thead>\n",
       "    <tr style=\"text-align: right;\">\n",
       "      <th></th>\n",
       "      <th>immat</th>\n",
       "      <th>date_cam_1</th>\n",
       "      <th>date_cam_2</th>\n",
       "      <th>cam_1</th>\n",
       "      <th>cam_2</th>\n",
       "      <th>tps_parcours</th>\n",
       "      <th>cameras</th>\n",
       "    </tr>\n",
       "  </thead>\n",
       "  <tbody>\n",
       "    <tr>\n",
       "      <th>0</th>\n",
       "      <td>997d5fbf94327159d8ad2dfe88999cf8a1a32fad</td>\n",
       "      <td>2019-01-29 07:41:57</td>\n",
       "      <td>2019-01-29 08:17:44</td>\n",
       "      <td>19</td>\n",
       "      <td>5</td>\n",
       "      <td>00:35:47</td>\n",
       "      <td>[19, 4, 5]</td>\n",
       "    </tr>\n",
       "    <tr>\n",
       "      <th>1</th>\n",
       "      <td>1da7ad5637f24c08d9a8bb1da3f932c21e8dd47c</td>\n",
       "      <td>2019-01-29 07:45:33</td>\n",
       "      <td>2019-01-29 08:22:36</td>\n",
       "      <td>19</td>\n",
       "      <td>5</td>\n",
       "      <td>00:37:03</td>\n",
       "      <td>[19, 4, 5]</td>\n",
       "    </tr>\n",
       "    <tr>\n",
       "      <th>2</th>\n",
       "      <td>382ff3d11f92aaa8d00c7e8061ff61c0eecbfc00</td>\n",
       "      <td>2019-01-29 07:53:24</td>\n",
       "      <td>2019-01-29 08:28:22</td>\n",
       "      <td>19</td>\n",
       "      <td>5</td>\n",
       "      <td>00:34:58</td>\n",
       "      <td>[19, 4, 5]</td>\n",
       "    </tr>\n",
       "    <tr>\n",
       "      <th>3</th>\n",
       "      <td>eb6b0e2bc49e9ea29fb491193621a90417323bf4</td>\n",
       "      <td>2019-01-29 07:54:19</td>\n",
       "      <td>2019-01-29 08:30:39</td>\n",
       "      <td>19</td>\n",
       "      <td>5</td>\n",
       "      <td>00:36:20</td>\n",
       "      <td>[19, 4, 5]</td>\n",
       "    </tr>\n",
       "    <tr>\n",
       "      <th>4</th>\n",
       "      <td>a7e4a67e8836b4fdb72688baca377534f6add717</td>\n",
       "      <td>2019-01-29 07:56:06</td>\n",
       "      <td>2019-01-29 08:32:54</td>\n",
       "      <td>19</td>\n",
       "      <td>5</td>\n",
       "      <td>00:36:48</td>\n",
       "      <td>[19, 4, 5]</td>\n",
       "    </tr>\n",
       "    <tr>\n",
       "      <th>5</th>\n",
       "      <td>b3e2b06a429608e99c98d074851e49cbb6fb93ad</td>\n",
       "      <td>2019-01-29 07:56:03</td>\n",
       "      <td>2019-01-29 08:34:34</td>\n",
       "      <td>19</td>\n",
       "      <td>5</td>\n",
       "      <td>00:38:31</td>\n",
       "      <td>[19, 4, 5]</td>\n",
       "    </tr>\n",
       "    <tr>\n",
       "      <th>6</th>\n",
       "      <td>f25b2cd42e0b20614640abc3418ec2af63af5042</td>\n",
       "      <td>2019-01-29 07:57:56</td>\n",
       "      <td>2019-01-29 08:34:25</td>\n",
       "      <td>19</td>\n",
       "      <td>5</td>\n",
       "      <td>00:36:29</td>\n",
       "      <td>[19, 4, 5]</td>\n",
       "    </tr>\n",
       "    <tr>\n",
       "      <th>7</th>\n",
       "      <td>2dca9f2506ef4f67da0255625f046d1b40348d6e</td>\n",
       "      <td>2019-01-29 07:58:35</td>\n",
       "      <td>2019-01-29 08:35:20</td>\n",
       "      <td>19</td>\n",
       "      <td>5</td>\n",
       "      <td>00:36:45</td>\n",
       "      <td>[19, 4, 5]</td>\n",
       "    </tr>\n",
       "    <tr>\n",
       "      <th>8</th>\n",
       "      <td>914a3afe6d6abb263b99c20884c88ae7c8a383dd</td>\n",
       "      <td>2019-01-29 07:59:36</td>\n",
       "      <td>2019-01-29 08:35:38</td>\n",
       "      <td>19</td>\n",
       "      <td>5</td>\n",
       "      <td>00:36:02</td>\n",
       "      <td>[19, 4, 5]</td>\n",
       "    </tr>\n",
       "    <tr>\n",
       "      <th>9</th>\n",
       "      <td>e1ea2a9b923531745c01143d66eab992b97a2869</td>\n",
       "      <td>2019-01-29 07:56:55</td>\n",
       "      <td>2019-01-29 09:39:25</td>\n",
       "      <td>19</td>\n",
       "      <td>5</td>\n",
       "      <td>01:42:30</td>\n",
       "      <td>[19, 4, 5]</td>\n",
       "    </tr>\n",
       "    <tr>\n",
       "      <th>10</th>\n",
       "      <td>a3a983c983807af46af26b033720a6bb557e1883</td>\n",
       "      <td>2019-01-29 07:54:27</td>\n",
       "      <td>2019-01-29 09:47:30</td>\n",
       "      <td>19</td>\n",
       "      <td>5</td>\n",
       "      <td>01:53:03</td>\n",
       "      <td>[19, 4, 5]</td>\n",
       "    </tr>\n",
       "    <tr>\n",
       "      <th>9</th>\n",
       "      <td>04cdedf0bf6f15c9698dce79ad3157720ea29448</td>\n",
       "      <td>2019-01-29 07:54:45</td>\n",
       "      <td>2019-01-29 10:26:17</td>\n",
       "      <td>19</td>\n",
       "      <td>5</td>\n",
       "      <td>02:31:32</td>\n",
       "      <td>[19, 5]</td>\n",
       "    </tr>\n",
       "    <tr>\n",
       "      <th>17</th>\n",
       "      <td>0fa06c5a4d718c8f9f48a2c4b381f3c1cb611376</td>\n",
       "      <td>2019-01-29 07:58:24</td>\n",
       "      <td>2019-01-29 08:13:47</td>\n",
       "      <td>10</td>\n",
       "      <td>5</td>\n",
       "      <td>00:15:23</td>\n",
       "      <td>[10, 5]</td>\n",
       "    </tr>\n",
       "    <tr>\n",
       "      <th>0</th>\n",
       "      <td>bf9dfd50a4a693085e3080156f11c25314f96f03</td>\n",
       "      <td>2019-01-29 08:00:56</td>\n",
       "      <td>2019-01-29 08:37:18</td>\n",
       "      <td>19</td>\n",
       "      <td>5</td>\n",
       "      <td>00:36:22</td>\n",
       "      <td>[19, 4, 5]</td>\n",
       "    </tr>\n",
       "    <tr>\n",
       "      <th>1</th>\n",
       "      <td>cf4f7ddbb3a6d9006e029777df712a53c2d76992</td>\n",
       "      <td>2019-01-29 08:01:07</td>\n",
       "      <td>2019-01-29 08:37:04</td>\n",
       "      <td>19</td>\n",
       "      <td>5</td>\n",
       "      <td>00:35:57</td>\n",
       "      <td>[19, 4, 5]</td>\n",
       "    </tr>\n",
       "    <tr>\n",
       "      <th>2</th>\n",
       "      <td>183bc8585ac5a2e26b6d2ada6ce6891235a36b92</td>\n",
       "      <td>2019-01-29 08:01:16</td>\n",
       "      <td>2019-01-29 08:37:20</td>\n",
       "      <td>19</td>\n",
       "      <td>5</td>\n",
       "      <td>00:36:04</td>\n",
       "      <td>[19, 4, 5]</td>\n",
       "    </tr>\n",
       "    <tr>\n",
       "      <th>3</th>\n",
       "      <td>dcf2ffa7638b1ae7d0281cbb94d4c7cf0a0912f7</td>\n",
       "      <td>2019-01-29 08:02:34</td>\n",
       "      <td>2019-01-29 08:37:42</td>\n",
       "      <td>19</td>\n",
       "      <td>5</td>\n",
       "      <td>00:35:08</td>\n",
       "      <td>[19, 4, 5]</td>\n",
       "    </tr>\n",
       "    <tr>\n",
       "      <th>4</th>\n",
       "      <td>54581cfa0b0f0c1dbe24fd60ca7efcc07439232f</td>\n",
       "      <td>2019-01-29 08:02:19</td>\n",
       "      <td>2019-01-29 08:38:07</td>\n",
       "      <td>19</td>\n",
       "      <td>5</td>\n",
       "      <td>00:35:48</td>\n",
       "      <td>[19, 4, 5]</td>\n",
       "    </tr>\n",
       "    <tr>\n",
       "      <th>5</th>\n",
       "      <td>31c6bdae383e5c4f25e803d55dc539d6c40e6105</td>\n",
       "      <td>2019-01-29 08:03:06</td>\n",
       "      <td>2019-01-29 08:38:16</td>\n",
       "      <td>19</td>\n",
       "      <td>5</td>\n",
       "      <td>00:35:10</td>\n",
       "      <td>[19, 4, 5]</td>\n",
       "    </tr>\n",
       "    <tr>\n",
       "      <th>6</th>\n",
       "      <td>77728d75d8ee8a1e27c95ca4077faddbf9dcdd93</td>\n",
       "      <td>2019-01-29 08:03:55</td>\n",
       "      <td>2019-01-29 08:38:48</td>\n",
       "      <td>19</td>\n",
       "      <td>5</td>\n",
       "      <td>00:34:53</td>\n",
       "      <td>[19, 4, 5]</td>\n",
       "    </tr>\n",
       "    <tr>\n",
       "      <th>7</th>\n",
       "      <td>59148b1dc67f7b2ca10635cd4fabe903b1fd0b63</td>\n",
       "      <td>2019-01-29 08:04:14</td>\n",
       "      <td>2019-01-29 08:39:21</td>\n",
       "      <td>19</td>\n",
       "      <td>5</td>\n",
       "      <td>00:35:07</td>\n",
       "      <td>[19, 4, 5]</td>\n",
       "    </tr>\n",
       "    <tr>\n",
       "      <th>8</th>\n",
       "      <td>3de49b107ce9b3f1add8f9314add9f5a2cadbe50</td>\n",
       "      <td>2019-01-29 08:05:07</td>\n",
       "      <td>2019-01-29 08:39:49</td>\n",
       "      <td>19</td>\n",
       "      <td>5</td>\n",
       "      <td>00:34:42</td>\n",
       "      <td>[19, 4, 5]</td>\n",
       "    </tr>\n",
       "    <tr>\n",
       "      <th>9</th>\n",
       "      <td>2a88c4e3e59236321a2098ccc9dd4b47f2eed478</td>\n",
       "      <td>2019-01-29 08:07:23</td>\n",
       "      <td>2019-01-29 08:42:27</td>\n",
       "      <td>19</td>\n",
       "      <td>5</td>\n",
       "      <td>00:35:04</td>\n",
       "      <td>[19, 4, 5]</td>\n",
       "    </tr>\n",
       "    <tr>\n",
       "      <th>10</th>\n",
       "      <td>5173f6a0a8ddf8df788408f70f14b0cd71333fd4</td>\n",
       "      <td>2019-01-29 08:08:20</td>\n",
       "      <td>2019-01-29 08:43:36</td>\n",
       "      <td>19</td>\n",
       "      <td>5</td>\n",
       "      <td>00:35:16</td>\n",
       "      <td>[19, 4, 5]</td>\n",
       "    </tr>\n",
       "    <tr>\n",
       "      <th>11</th>\n",
       "      <td>b19849562d778b3f0faadab5d6375d196fa00c3e</td>\n",
       "      <td>2019-01-29 08:11:31</td>\n",
       "      <td>2019-01-29 08:46:33</td>\n",
       "      <td>19</td>\n",
       "      <td>5</td>\n",
       "      <td>00:35:02</td>\n",
       "      <td>[19, 4, 5]</td>\n",
       "    </tr>\n",
       "    <tr>\n",
       "      <th>12</th>\n",
       "      <td>d8f1940dce090c0dd70898ade323d44a20128cf7</td>\n",
       "      <td>2019-01-29 08:12:06</td>\n",
       "      <td>2019-01-29 08:46:39</td>\n",
       "      <td>19</td>\n",
       "      <td>5</td>\n",
       "      <td>00:34:33</td>\n",
       "      <td>[19, 4, 5]</td>\n",
       "    </tr>\n",
       "    <tr>\n",
       "      <th>13</th>\n",
       "      <td>86e69f471e55d135cfde733fd536d2906682b662</td>\n",
       "      <td>2019-01-29 08:12:13</td>\n",
       "      <td>2019-01-29 08:47:29</td>\n",
       "      <td>19</td>\n",
       "      <td>5</td>\n",
       "      <td>00:35:16</td>\n",
       "      <td>[19, 4, 5]</td>\n",
       "    </tr>\n",
       "    <tr>\n",
       "      <th>14</th>\n",
       "      <td>07f533c82778a42f4827e08e685d809e36017390</td>\n",
       "      <td>2019-01-29 08:13:13</td>\n",
       "      <td>2019-01-29 08:47:52</td>\n",
       "      <td>19</td>\n",
       "      <td>5</td>\n",
       "      <td>00:34:39</td>\n",
       "      <td>[19, 4, 5]</td>\n",
       "    </tr>\n",
       "    <tr>\n",
       "      <th>15</th>\n",
       "      <td>837898ee18a5c0fb78ac9c1001068fcb7c888550</td>\n",
       "      <td>2019-01-29 08:16:29</td>\n",
       "      <td>2019-01-29 08:50:59</td>\n",
       "      <td>19</td>\n",
       "      <td>5</td>\n",
       "      <td>00:34:30</td>\n",
       "      <td>[19, 4, 5]</td>\n",
       "    </tr>\n",
       "    <tr>\n",
       "      <th>16</th>\n",
       "      <td>11bec9781f63a9c6ed13dc8e9b73af792f9830c9</td>\n",
       "      <td>2019-01-29 08:20:21</td>\n",
       "      <td>2019-01-29 08:52:39</td>\n",
       "      <td>19</td>\n",
       "      <td>5</td>\n",
       "      <td>00:32:18</td>\n",
       "      <td>[19, 4, 5]</td>\n",
       "    </tr>\n",
       "    <tr>\n",
       "      <th>...</th>\n",
       "      <td>...</td>\n",
       "      <td>...</td>\n",
       "      <td>...</td>\n",
       "      <td>...</td>\n",
       "      <td>...</td>\n",
       "      <td>...</td>\n",
       "      <td>...</td>\n",
       "    </tr>\n",
       "    <tr>\n",
       "      <th>66</th>\n",
       "      <td>ff2465721f077ddb32523ddaa2a0053c9006ac7a</td>\n",
       "      <td>2019-01-29 15:29:59</td>\n",
       "      <td>2019-01-29 15:42:23</td>\n",
       "      <td>10</td>\n",
       "      <td>5</td>\n",
       "      <td>00:12:24</td>\n",
       "      <td>[10, 5]</td>\n",
       "    </tr>\n",
       "    <tr>\n",
       "      <th>67</th>\n",
       "      <td>e0e70c4fae7cbf31de97540c69a6b1454638aa84</td>\n",
       "      <td>2019-01-29 15:33:38</td>\n",
       "      <td>2019-01-29 15:42:30</td>\n",
       "      <td>10</td>\n",
       "      <td>5</td>\n",
       "      <td>00:08:52</td>\n",
       "      <td>[10, 5]</td>\n",
       "    </tr>\n",
       "    <tr>\n",
       "      <th>69</th>\n",
       "      <td>9cd96f7751f5f536f56da9daf618c2c865e9399a</td>\n",
       "      <td>2019-01-29 15:35:22</td>\n",
       "      <td>2019-01-29 15:44:20</td>\n",
       "      <td>10</td>\n",
       "      <td>5</td>\n",
       "      <td>00:08:58</td>\n",
       "      <td>[10, 5]</td>\n",
       "    </tr>\n",
       "    <tr>\n",
       "      <th>71</th>\n",
       "      <td>bb97894a4b6d75095cf1548391c5ad8c88ce10b6</td>\n",
       "      <td>2019-01-29 15:31:23</td>\n",
       "      <td>2019-01-29 15:45:43</td>\n",
       "      <td>10</td>\n",
       "      <td>5</td>\n",
       "      <td>00:14:20</td>\n",
       "      <td>[10, 5]</td>\n",
       "    </tr>\n",
       "    <tr>\n",
       "      <th>73</th>\n",
       "      <td>8cb8c72fe6368cd2e4c260c5167bec64802c9c34</td>\n",
       "      <td>2019-01-29 15:34:02</td>\n",
       "      <td>2019-01-29 15:46:57</td>\n",
       "      <td>10</td>\n",
       "      <td>5</td>\n",
       "      <td>00:12:55</td>\n",
       "      <td>[10, 5]</td>\n",
       "    </tr>\n",
       "    <tr>\n",
       "      <th>76</th>\n",
       "      <td>2d6de309a554b3626fbbeec8f94fc7dee4ae29d5</td>\n",
       "      <td>2019-01-29 15:36:18</td>\n",
       "      <td>2019-01-29 15:49:01</td>\n",
       "      <td>10</td>\n",
       "      <td>5</td>\n",
       "      <td>00:12:43</td>\n",
       "      <td>[10, 5]</td>\n",
       "    </tr>\n",
       "    <tr>\n",
       "      <th>80</th>\n",
       "      <td>d54f83dc5583105fe2ef2c7290b93372dc21615b</td>\n",
       "      <td>2019-01-29 15:38:39</td>\n",
       "      <td>2019-01-29 15:49:58</td>\n",
       "      <td>10</td>\n",
       "      <td>5</td>\n",
       "      <td>00:11:19</td>\n",
       "      <td>[10, 5]</td>\n",
       "    </tr>\n",
       "    <tr>\n",
       "      <th>88</th>\n",
       "      <td>879396c73cf5d9012f8355f1ea34a8e7b40ef140</td>\n",
       "      <td>2019-01-29 15:38:30</td>\n",
       "      <td>2019-01-29 15:53:52</td>\n",
       "      <td>10</td>\n",
       "      <td>5</td>\n",
       "      <td>00:15:22</td>\n",
       "      <td>[10, 5]</td>\n",
       "    </tr>\n",
       "    <tr>\n",
       "      <th>92</th>\n",
       "      <td>79f543f23b9325f751b083d2fa39dbb8178a17b6</td>\n",
       "      <td>2019-01-29 15:43:34</td>\n",
       "      <td>2019-01-29 15:56:24</td>\n",
       "      <td>10</td>\n",
       "      <td>5</td>\n",
       "      <td>00:12:50</td>\n",
       "      <td>[10, 5]</td>\n",
       "    </tr>\n",
       "    <tr>\n",
       "      <th>100</th>\n",
       "      <td>f995089bfa2d778c21393fbc7aca3c0e93931597</td>\n",
       "      <td>2019-01-29 15:51:16</td>\n",
       "      <td>2019-01-29 16:03:41</td>\n",
       "      <td>10</td>\n",
       "      <td>5</td>\n",
       "      <td>00:12:25</td>\n",
       "      <td>[10, 5]</td>\n",
       "    </tr>\n",
       "    <tr>\n",
       "      <th>104</th>\n",
       "      <td>7c862e73e4c81522ec06763a90237697a25a1825</td>\n",
       "      <td>2019-01-29 15:56:12</td>\n",
       "      <td>2019-01-29 16:07:12</td>\n",
       "      <td>10</td>\n",
       "      <td>5</td>\n",
       "      <td>00:11:00</td>\n",
       "      <td>[10, 5]</td>\n",
       "    </tr>\n",
       "    <tr>\n",
       "      <th>31</th>\n",
       "      <td>559067b5a40377a3e836fec2083e6ba0e2ee92e4</td>\n",
       "      <td>2019-01-29 16:29:40</td>\n",
       "      <td>2019-01-30 07:59:48</td>\n",
       "      <td>19</td>\n",
       "      <td>5</td>\n",
       "      <td>15:30:08</td>\n",
       "      <td>[19, 5]</td>\n",
       "    </tr>\n",
       "    <tr>\n",
       "      <th>0</th>\n",
       "      <td>f5865f6fc34ee9d564723e2aa87b85dc3b54d410</td>\n",
       "      <td>2019-01-29 16:01:50</td>\n",
       "      <td>2019-01-29 16:16:24</td>\n",
       "      <td>10</td>\n",
       "      <td>5</td>\n",
       "      <td>00:14:34</td>\n",
       "      <td>[10, 4, 5]</td>\n",
       "    </tr>\n",
       "    <tr>\n",
       "      <th>1</th>\n",
       "      <td>d2ce0efc709a696a2f210bdd377694590bd4f536</td>\n",
       "      <td>2019-01-29 16:04:28</td>\n",
       "      <td>2019-01-29 16:20:11</td>\n",
       "      <td>10</td>\n",
       "      <td>5</td>\n",
       "      <td>00:15:43</td>\n",
       "      <td>[10, 4, 5]</td>\n",
       "    </tr>\n",
       "    <tr>\n",
       "      <th>2</th>\n",
       "      <td>d0625104cfc6711b114b40ea8f10bce4f41b9310</td>\n",
       "      <td>2019-01-29 16:09:52</td>\n",
       "      <td>2019-01-29 16:25:14</td>\n",
       "      <td>10</td>\n",
       "      <td>5</td>\n",
       "      <td>00:15:22</td>\n",
       "      <td>[10, 4, 5]</td>\n",
       "    </tr>\n",
       "    <tr>\n",
       "      <th>3</th>\n",
       "      <td>7c00234f312ccf0c43d7b930d999b74ce0730ef7</td>\n",
       "      <td>2019-01-29 16:13:55</td>\n",
       "      <td>2019-01-29 16:30:58</td>\n",
       "      <td>10</td>\n",
       "      <td>5</td>\n",
       "      <td>00:17:03</td>\n",
       "      <td>[10, 4, 5]</td>\n",
       "    </tr>\n",
       "    <tr>\n",
       "      <th>4</th>\n",
       "      <td>a9d94368ad07ad5541ce7613b632d4a22705d38d</td>\n",
       "      <td>2019-01-29 16:17:45</td>\n",
       "      <td>2019-01-29 16:33:18</td>\n",
       "      <td>10</td>\n",
       "      <td>5</td>\n",
       "      <td>00:15:33</td>\n",
       "      <td>[10, 4, 5]</td>\n",
       "    </tr>\n",
       "    <tr>\n",
       "      <th>5</th>\n",
       "      <td>26952d7c7f0ede19d1e53efd402c7b78461517ce</td>\n",
       "      <td>2019-01-29 16:17:45</td>\n",
       "      <td>2019-01-29 16:33:18</td>\n",
       "      <td>10</td>\n",
       "      <td>5</td>\n",
       "      <td>00:15:33</td>\n",
       "      <td>[10, 4, 5]</td>\n",
       "    </tr>\n",
       "    <tr>\n",
       "      <th>6</th>\n",
       "      <td>1aa8f8faf5fc32959c8266ae541fb14528a91e19</td>\n",
       "      <td>2019-01-29 16:18:57</td>\n",
       "      <td>2019-01-29 16:34:35</td>\n",
       "      <td>10</td>\n",
       "      <td>5</td>\n",
       "      <td>00:15:38</td>\n",
       "      <td>[10, 4, 5]</td>\n",
       "    </tr>\n",
       "    <tr>\n",
       "      <th>3</th>\n",
       "      <td>c71f98db7a552ca616cc526be7ef11d65ea9b356</td>\n",
       "      <td>2019-01-29 16:00:17</td>\n",
       "      <td>2019-01-29 16:14:37</td>\n",
       "      <td>10</td>\n",
       "      <td>5</td>\n",
       "      <td>00:14:20</td>\n",
       "      <td>[10, 5]</td>\n",
       "    </tr>\n",
       "    <tr>\n",
       "      <th>11</th>\n",
       "      <td>07d6a093f24386091eddff30440cf8aa0cd925da</td>\n",
       "      <td>2019-01-29 16:07:33</td>\n",
       "      <td>2019-01-29 16:19:49</td>\n",
       "      <td>10</td>\n",
       "      <td>5</td>\n",
       "      <td>00:12:16</td>\n",
       "      <td>[10, 5]</td>\n",
       "    </tr>\n",
       "    <tr>\n",
       "      <th>18</th>\n",
       "      <td>9e6a307faae11acfe29ee482ca3bae500b54c72d</td>\n",
       "      <td>2019-01-29 16:09:08</td>\n",
       "      <td>2019-01-29 16:23:30</td>\n",
       "      <td>10</td>\n",
       "      <td>5</td>\n",
       "      <td>00:14:22</td>\n",
       "      <td>[10, 5]</td>\n",
       "    </tr>\n",
       "    <tr>\n",
       "      <th>20</th>\n",
       "      <td>9a5dd9e9ac766a5703278fc38dae4607434da61d</td>\n",
       "      <td>2019-01-29 16:10:41</td>\n",
       "      <td>2019-01-29 16:25:15</td>\n",
       "      <td>10</td>\n",
       "      <td>5</td>\n",
       "      <td>00:14:34</td>\n",
       "      <td>[10, 5]</td>\n",
       "    </tr>\n",
       "    <tr>\n",
       "      <th>24</th>\n",
       "      <td>f1ed05da701c1c7099fabd67239a4a7628e75e9f</td>\n",
       "      <td>2019-01-29 16:18:52</td>\n",
       "      <td>2019-01-29 16:32:31</td>\n",
       "      <td>10</td>\n",
       "      <td>5</td>\n",
       "      <td>00:13:39</td>\n",
       "      <td>[10, 5]</td>\n",
       "    </tr>\n",
       "    <tr>\n",
       "      <th>25</th>\n",
       "      <td>e6f383c08dbf81a205ebf4494c2199125dffd775</td>\n",
       "      <td>2019-01-29 16:17:19</td>\n",
       "      <td>2019-01-29 16:32:44</td>\n",
       "      <td>10</td>\n",
       "      <td>5</td>\n",
       "      <td>00:15:25</td>\n",
       "      <td>[10, 5]</td>\n",
       "    </tr>\n",
       "    <tr>\n",
       "      <th>27</th>\n",
       "      <td>486604e10e75db94a485d1ecec3027027d5170b6</td>\n",
       "      <td>2019-01-29 16:18:45</td>\n",
       "      <td>2019-01-29 16:33:19</td>\n",
       "      <td>10</td>\n",
       "      <td>5</td>\n",
       "      <td>00:14:34</td>\n",
       "      <td>[10, 5]</td>\n",
       "    </tr>\n",
       "    <tr>\n",
       "      <th>34</th>\n",
       "      <td>9580a4239d6ea88491151e91778e9dc4d7e5991d</td>\n",
       "      <td>2019-01-29 16:23:55</td>\n",
       "      <td>2019-01-29 16:38:03</td>\n",
       "      <td>10</td>\n",
       "      <td>5</td>\n",
       "      <td>00:14:08</td>\n",
       "      <td>[10, 5]</td>\n",
       "    </tr>\n",
       "    <tr>\n",
       "      <th>0</th>\n",
       "      <td>1352bf1fd49ca28f77610e5fc46c0e952ea66040</td>\n",
       "      <td>2019-01-29 17:03:24</td>\n",
       "      <td>2019-01-30 08:56:20</td>\n",
       "      <td>19</td>\n",
       "      <td>5</td>\n",
       "      <td>15:52:56</td>\n",
       "      <td>[19, 4, 5]</td>\n",
       "    </tr>\n",
       "    <tr>\n",
       "      <th>0</th>\n",
       "      <td>8d35c09e6578ea51b504912965789c635aad00f2</td>\n",
       "      <td>2019-01-29 17:06:44</td>\n",
       "      <td>2019-01-30 10:22:35</td>\n",
       "      <td>10</td>\n",
       "      <td>5</td>\n",
       "      <td>17:15:51</td>\n",
       "      <td>[10, 4, 5]</td>\n",
       "    </tr>\n",
       "    <tr>\n",
       "      <th>47</th>\n",
       "      <td>8777d174d6a3746364052e1d047d0b9ea7cc417e</td>\n",
       "      <td>2019-01-29 17:03:51</td>\n",
       "      <td>2019-01-30 08:41:09</td>\n",
       "      <td>10</td>\n",
       "      <td>5</td>\n",
       "      <td>15:37:18</td>\n",
       "      <td>[10, 5]</td>\n",
       "    </tr>\n",
       "  </tbody>\n",
       "</table>\n",
       "<p>1062 rows × 7 columns</p>\n",
       "</div>"
      ],
      "text/plain": [
       "                                        immat          date_cam_1  \\\n",
       "0    997d5fbf94327159d8ad2dfe88999cf8a1a32fad 2019-01-29 07:41:57   \n",
       "1    1da7ad5637f24c08d9a8bb1da3f932c21e8dd47c 2019-01-29 07:45:33   \n",
       "2    382ff3d11f92aaa8d00c7e8061ff61c0eecbfc00 2019-01-29 07:53:24   \n",
       "3    eb6b0e2bc49e9ea29fb491193621a90417323bf4 2019-01-29 07:54:19   \n",
       "4    a7e4a67e8836b4fdb72688baca377534f6add717 2019-01-29 07:56:06   \n",
       "5    b3e2b06a429608e99c98d074851e49cbb6fb93ad 2019-01-29 07:56:03   \n",
       "6    f25b2cd42e0b20614640abc3418ec2af63af5042 2019-01-29 07:57:56   \n",
       "7    2dca9f2506ef4f67da0255625f046d1b40348d6e 2019-01-29 07:58:35   \n",
       "8    914a3afe6d6abb263b99c20884c88ae7c8a383dd 2019-01-29 07:59:36   \n",
       "9    e1ea2a9b923531745c01143d66eab992b97a2869 2019-01-29 07:56:55   \n",
       "10   a3a983c983807af46af26b033720a6bb557e1883 2019-01-29 07:54:27   \n",
       "9    04cdedf0bf6f15c9698dce79ad3157720ea29448 2019-01-29 07:54:45   \n",
       "17   0fa06c5a4d718c8f9f48a2c4b381f3c1cb611376 2019-01-29 07:58:24   \n",
       "0    bf9dfd50a4a693085e3080156f11c25314f96f03 2019-01-29 08:00:56   \n",
       "1    cf4f7ddbb3a6d9006e029777df712a53c2d76992 2019-01-29 08:01:07   \n",
       "2    183bc8585ac5a2e26b6d2ada6ce6891235a36b92 2019-01-29 08:01:16   \n",
       "3    dcf2ffa7638b1ae7d0281cbb94d4c7cf0a0912f7 2019-01-29 08:02:34   \n",
       "4    54581cfa0b0f0c1dbe24fd60ca7efcc07439232f 2019-01-29 08:02:19   \n",
       "5    31c6bdae383e5c4f25e803d55dc539d6c40e6105 2019-01-29 08:03:06   \n",
       "6    77728d75d8ee8a1e27c95ca4077faddbf9dcdd93 2019-01-29 08:03:55   \n",
       "7    59148b1dc67f7b2ca10635cd4fabe903b1fd0b63 2019-01-29 08:04:14   \n",
       "8    3de49b107ce9b3f1add8f9314add9f5a2cadbe50 2019-01-29 08:05:07   \n",
       "9    2a88c4e3e59236321a2098ccc9dd4b47f2eed478 2019-01-29 08:07:23   \n",
       "10   5173f6a0a8ddf8df788408f70f14b0cd71333fd4 2019-01-29 08:08:20   \n",
       "11   b19849562d778b3f0faadab5d6375d196fa00c3e 2019-01-29 08:11:31   \n",
       "12   d8f1940dce090c0dd70898ade323d44a20128cf7 2019-01-29 08:12:06   \n",
       "13   86e69f471e55d135cfde733fd536d2906682b662 2019-01-29 08:12:13   \n",
       "14   07f533c82778a42f4827e08e685d809e36017390 2019-01-29 08:13:13   \n",
       "15   837898ee18a5c0fb78ac9c1001068fcb7c888550 2019-01-29 08:16:29   \n",
       "16   11bec9781f63a9c6ed13dc8e9b73af792f9830c9 2019-01-29 08:20:21   \n",
       "..                                        ...                 ...   \n",
       "66   ff2465721f077ddb32523ddaa2a0053c9006ac7a 2019-01-29 15:29:59   \n",
       "67   e0e70c4fae7cbf31de97540c69a6b1454638aa84 2019-01-29 15:33:38   \n",
       "69   9cd96f7751f5f536f56da9daf618c2c865e9399a 2019-01-29 15:35:22   \n",
       "71   bb97894a4b6d75095cf1548391c5ad8c88ce10b6 2019-01-29 15:31:23   \n",
       "73   8cb8c72fe6368cd2e4c260c5167bec64802c9c34 2019-01-29 15:34:02   \n",
       "76   2d6de309a554b3626fbbeec8f94fc7dee4ae29d5 2019-01-29 15:36:18   \n",
       "80   d54f83dc5583105fe2ef2c7290b93372dc21615b 2019-01-29 15:38:39   \n",
       "88   879396c73cf5d9012f8355f1ea34a8e7b40ef140 2019-01-29 15:38:30   \n",
       "92   79f543f23b9325f751b083d2fa39dbb8178a17b6 2019-01-29 15:43:34   \n",
       "100  f995089bfa2d778c21393fbc7aca3c0e93931597 2019-01-29 15:51:16   \n",
       "104  7c862e73e4c81522ec06763a90237697a25a1825 2019-01-29 15:56:12   \n",
       "31   559067b5a40377a3e836fec2083e6ba0e2ee92e4 2019-01-29 16:29:40   \n",
       "0    f5865f6fc34ee9d564723e2aa87b85dc3b54d410 2019-01-29 16:01:50   \n",
       "1    d2ce0efc709a696a2f210bdd377694590bd4f536 2019-01-29 16:04:28   \n",
       "2    d0625104cfc6711b114b40ea8f10bce4f41b9310 2019-01-29 16:09:52   \n",
       "3    7c00234f312ccf0c43d7b930d999b74ce0730ef7 2019-01-29 16:13:55   \n",
       "4    a9d94368ad07ad5541ce7613b632d4a22705d38d 2019-01-29 16:17:45   \n",
       "5    26952d7c7f0ede19d1e53efd402c7b78461517ce 2019-01-29 16:17:45   \n",
       "6    1aa8f8faf5fc32959c8266ae541fb14528a91e19 2019-01-29 16:18:57   \n",
       "3    c71f98db7a552ca616cc526be7ef11d65ea9b356 2019-01-29 16:00:17   \n",
       "11   07d6a093f24386091eddff30440cf8aa0cd925da 2019-01-29 16:07:33   \n",
       "18   9e6a307faae11acfe29ee482ca3bae500b54c72d 2019-01-29 16:09:08   \n",
       "20   9a5dd9e9ac766a5703278fc38dae4607434da61d 2019-01-29 16:10:41   \n",
       "24   f1ed05da701c1c7099fabd67239a4a7628e75e9f 2019-01-29 16:18:52   \n",
       "25   e6f383c08dbf81a205ebf4494c2199125dffd775 2019-01-29 16:17:19   \n",
       "27   486604e10e75db94a485d1ecec3027027d5170b6 2019-01-29 16:18:45   \n",
       "34   9580a4239d6ea88491151e91778e9dc4d7e5991d 2019-01-29 16:23:55   \n",
       "0    1352bf1fd49ca28f77610e5fc46c0e952ea66040 2019-01-29 17:03:24   \n",
       "0    8d35c09e6578ea51b504912965789c635aad00f2 2019-01-29 17:06:44   \n",
       "47   8777d174d6a3746364052e1d047d0b9ea7cc417e 2019-01-29 17:03:51   \n",
       "\n",
       "             date_cam_2  cam_1  cam_2 tps_parcours     cameras  \n",
       "0   2019-01-29 08:17:44     19      5     00:35:47  [19, 4, 5]  \n",
       "1   2019-01-29 08:22:36     19      5     00:37:03  [19, 4, 5]  \n",
       "2   2019-01-29 08:28:22     19      5     00:34:58  [19, 4, 5]  \n",
       "3   2019-01-29 08:30:39     19      5     00:36:20  [19, 4, 5]  \n",
       "4   2019-01-29 08:32:54     19      5     00:36:48  [19, 4, 5]  \n",
       "5   2019-01-29 08:34:34     19      5     00:38:31  [19, 4, 5]  \n",
       "6   2019-01-29 08:34:25     19      5     00:36:29  [19, 4, 5]  \n",
       "7   2019-01-29 08:35:20     19      5     00:36:45  [19, 4, 5]  \n",
       "8   2019-01-29 08:35:38     19      5     00:36:02  [19, 4, 5]  \n",
       "9   2019-01-29 09:39:25     19      5     01:42:30  [19, 4, 5]  \n",
       "10  2019-01-29 09:47:30     19      5     01:53:03  [19, 4, 5]  \n",
       "9   2019-01-29 10:26:17     19      5     02:31:32     [19, 5]  \n",
       "17  2019-01-29 08:13:47     10      5     00:15:23     [10, 5]  \n",
       "0   2019-01-29 08:37:18     19      5     00:36:22  [19, 4, 5]  \n",
       "1   2019-01-29 08:37:04     19      5     00:35:57  [19, 4, 5]  \n",
       "2   2019-01-29 08:37:20     19      5     00:36:04  [19, 4, 5]  \n",
       "3   2019-01-29 08:37:42     19      5     00:35:08  [19, 4, 5]  \n",
       "4   2019-01-29 08:38:07     19      5     00:35:48  [19, 4, 5]  \n",
       "5   2019-01-29 08:38:16     19      5     00:35:10  [19, 4, 5]  \n",
       "6   2019-01-29 08:38:48     19      5     00:34:53  [19, 4, 5]  \n",
       "7   2019-01-29 08:39:21     19      5     00:35:07  [19, 4, 5]  \n",
       "8   2019-01-29 08:39:49     19      5     00:34:42  [19, 4, 5]  \n",
       "9   2019-01-29 08:42:27     19      5     00:35:04  [19, 4, 5]  \n",
       "10  2019-01-29 08:43:36     19      5     00:35:16  [19, 4, 5]  \n",
       "11  2019-01-29 08:46:33     19      5     00:35:02  [19, 4, 5]  \n",
       "12  2019-01-29 08:46:39     19      5     00:34:33  [19, 4, 5]  \n",
       "13  2019-01-29 08:47:29     19      5     00:35:16  [19, 4, 5]  \n",
       "14  2019-01-29 08:47:52     19      5     00:34:39  [19, 4, 5]  \n",
       "15  2019-01-29 08:50:59     19      5     00:34:30  [19, 4, 5]  \n",
       "16  2019-01-29 08:52:39     19      5     00:32:18  [19, 4, 5]  \n",
       "..                  ...    ...    ...          ...         ...  \n",
       "66  2019-01-29 15:42:23     10      5     00:12:24     [10, 5]  \n",
       "67  2019-01-29 15:42:30     10      5     00:08:52     [10, 5]  \n",
       "69  2019-01-29 15:44:20     10      5     00:08:58     [10, 5]  \n",
       "71  2019-01-29 15:45:43     10      5     00:14:20     [10, 5]  \n",
       "73  2019-01-29 15:46:57     10      5     00:12:55     [10, 5]  \n",
       "76  2019-01-29 15:49:01     10      5     00:12:43     [10, 5]  \n",
       "80  2019-01-29 15:49:58     10      5     00:11:19     [10, 5]  \n",
       "88  2019-01-29 15:53:52     10      5     00:15:22     [10, 5]  \n",
       "92  2019-01-29 15:56:24     10      5     00:12:50     [10, 5]  \n",
       "100 2019-01-29 16:03:41     10      5     00:12:25     [10, 5]  \n",
       "104 2019-01-29 16:07:12     10      5     00:11:00     [10, 5]  \n",
       "31  2019-01-30 07:59:48     19      5     15:30:08     [19, 5]  \n",
       "0   2019-01-29 16:16:24     10      5     00:14:34  [10, 4, 5]  \n",
       "1   2019-01-29 16:20:11     10      5     00:15:43  [10, 4, 5]  \n",
       "2   2019-01-29 16:25:14     10      5     00:15:22  [10, 4, 5]  \n",
       "3   2019-01-29 16:30:58     10      5     00:17:03  [10, 4, 5]  \n",
       "4   2019-01-29 16:33:18     10      5     00:15:33  [10, 4, 5]  \n",
       "5   2019-01-29 16:33:18     10      5     00:15:33  [10, 4, 5]  \n",
       "6   2019-01-29 16:34:35     10      5     00:15:38  [10, 4, 5]  \n",
       "3   2019-01-29 16:14:37     10      5     00:14:20     [10, 5]  \n",
       "11  2019-01-29 16:19:49     10      5     00:12:16     [10, 5]  \n",
       "18  2019-01-29 16:23:30     10      5     00:14:22     [10, 5]  \n",
       "20  2019-01-29 16:25:15     10      5     00:14:34     [10, 5]  \n",
       "24  2019-01-29 16:32:31     10      5     00:13:39     [10, 5]  \n",
       "25  2019-01-29 16:32:44     10      5     00:15:25     [10, 5]  \n",
       "27  2019-01-29 16:33:19     10      5     00:14:34     [10, 5]  \n",
       "34  2019-01-29 16:38:03     10      5     00:14:08     [10, 5]  \n",
       "0   2019-01-30 08:56:20     19      5     15:52:56  [19, 4, 5]  \n",
       "0   2019-01-30 10:22:35     10      5     17:15:51  [10, 4, 5]  \n",
       "47  2019-01-30 08:41:09     10      5     15:37:18     [10, 5]  \n",
       "\n",
       "[1062 rows x 7 columns]"
      ]
     },
     "execution_count": 21,
     "metadata": {},
     "output_type": "execute_result"
    }
   ],
   "source": [
    "#appel de la fonction de chainage\n",
    "t.transit_1_jour(df_journee,'2019-01-29',t.liste_trajet)"
   ]
  },
  {
   "cell_type": "code",
   "execution_count": null,
   "metadata": {},
   "outputs": [],
   "source": []
  }
 ],
 "metadata": {
  "kernelspec": {
   "display_name": "Python 3",
   "language": "python",
   "name": "python3"
  },
  "language_info": {
   "codemirror_mode": {
    "name": "ipython",
    "version": 3
   },
   "file_extension": ".py",
   "mimetype": "text/x-python",
   "name": "python",
   "nbconvert_exporter": "python",
   "pygments_lexer": "ipython3",
   "version": "3.7.0"
  }
 },
 "nbformat": 4,
 "nbformat_minor": 2
}
