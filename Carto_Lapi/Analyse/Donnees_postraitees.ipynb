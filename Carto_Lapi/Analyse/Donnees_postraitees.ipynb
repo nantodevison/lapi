{
 "cells": [
  {
   "cell_type": "markdown",
   "metadata": {},
   "source": [
    "# Notebook de test des données lapi post-traitees"
   ]
  },
  {
   "cell_type": "code",
   "execution_count": 1,
   "metadata": {},
   "outputs": [],
   "source": [
    "%load_ext autoreload\n",
    "%autoreload \n",
    "import sys #c'est pas propre mais pour le moment pour importer mes modules perso dans le notebook je ne sais pas faire\n",
    "sys.path.append(r'C:\\Users\\martin.schoreisz\\git\\Outils\\Outils\\Martin_Perso')\n",
    "import Connexion_Transfert as ct\n",
    "import donnees_posttraitees as t\n",
    "import graphs as g\n",
    "import pandas as pd\n",
    "import geopandas as gpd\n",
    "import numpy as np\n",
    "import altair as alt\n",
    "import datetime as dt\n",
    "pd.set_option('display.max_colwidth', 1000)\n",
    "pd.set_option('display.max_columns', 500)\n",
    "#pd.set_option('display.max_rows', 50)\n",
    "alt.data_transformers.enable('default', max_rows=None)\n",
    "import os, math, re\n",
    "from sklearn.cluster import DBSCAN\n",
    "from sklearn import svm,datasets\n",
    "import matplotlib.pyplot as plt"
   ]
  },
  {
   "cell_type": "markdown",
   "metadata": {},
   "source": [
    "# 1. import des données, traitement de mise en forme\n",
    "## 1.1 Import\n",
    "Les données sont importées sur la période du 24/01/19 au 23/02/19, sur laquelle il n'y a pas de manque de données à priori"
   ]
  },
  {
   "cell_type": "code",
   "execution_count": 2,
   "metadata": {},
   "outputs": [
    {
     "name": "stdout",
     "output_type": "stream",
     "text": [
      "Wall time: 2min 44s\n"
     ]
    }
   ],
   "source": [
    "%time df_passages, df_plaques, df_immat=t.ouvrir_fichier_lapi_final('2019-01-23 00:00:00','2019-02-13 23:59:59')"
   ]
  },
  {
   "cell_type": "code",
   "execution_count": null,
   "metadata": {},
   "outputs": [],
   "source": [
    "#export au format svg des données TV\n",
    "for i in range(1,20) :\n",
    "    chemin=os.path.join(r'Q:\\DAIT\\TI\\DREAL33\\2018\\C17SI0073_LAPI\\Traitements\\python\\graphs\\nb_veh_J_cam',f'cam{i}.svg')\n",
    "    g.graph_nb_veh_jour_camera_multi_j(df_passages,'2019-01-23 00:00:00','2019-01-23 23:59:59',i,22).save(chemin)"
   ]
  },
  {
   "cell_type": "markdown",
   "metadata": {},
   "source": [
    "## 1.3 Ajout de l'attribut de différenciation VL / PL"
   ]
  },
  {
   "cell_type": "code",
   "execution_count": 7,
   "metadata": {},
   "outputs": [
    {
     "name": "stdout",
     "output_type": "stream",
     "text": [
      "Wall time: 4min 19s\n"
     ]
    }
   ],
   "source": [
    "%time df_passages2=t.affecter_type(df_passages,df_immat)"
   ]
  },
  {
   "cell_type": "code",
   "execution_count": 8,
   "metadata": {},
   "outputs": [
    {
     "name": "stdout",
     "output_type": "stream",
     "text": [
      "Wall time: 49.1 s\n"
     ]
    }
   ],
   "source": [
    "%time df_passages3=t.affecter_type_nuit(df_passages2,df_immat)"
   ]
  },
  {
   "cell_type": "markdown",
   "metadata": {},
   "source": [
    "### différenciation VL / PL"
   ]
  },
  {
   "cell_type": "code",
   "execution_count": 9,
   "metadata": {},
   "outputs": [],
   "source": [
    "df_passages_pl=df_passages3.loc[df_passages3['l']==1].copy()"
   ]
  },
  {
   "cell_type": "markdown",
   "metadata": {},
   "source": [
    "## 1.2. Suppression des doublons"
   ]
  },
  {
   "cell_type": "markdown",
   "metadata": {},
   "source": [
    "### 1.2.1 Doublons"
   ]
  },
  {
   "cell_type": "code",
   "execution_count": 10,
   "metadata": {},
   "outputs": [
    {
     "name": "stdout",
     "output_type": "stream",
     "text": [
      "Wall time: 7.87 s\n"
     ]
    }
   ],
   "source": [
    "%time df_passages_ss_doublons=t.supprimer_doublons(df_passages_pl)"
   ]
  },
  {
   "cell_type": "markdown",
   "metadata": {},
   "source": [
    "### 1.2.2 passages proches"
   ]
  },
  {
   "cell_type": "code",
   "execution_count": null,
   "metadata": {},
   "outputs": [],
   "source": [
    "#pour visu\n",
    "%time groupe_pl_rappro, groupe_pl=t.passages_proches(df_passages_ss_doublons)\n",
    "jointure = g.analyse_passage_proches(groupe_pl_rappro, groupe_pl)\n",
    "g.graph_passages_proches(jointure, groupe_pl_rappro)"
   ]
  },
  {
   "cell_type": "code",
   "execution_count": 11,
   "metadata": {},
   "outputs": [
    {
     "name": "stdout",
     "output_type": "stream",
     "text": [
      "Wall time: 1min 23s\n"
     ]
    }
   ],
   "source": [
    "#pour traitement\n",
    "%time passg_recale_cam10=t.recalage_cam10(df_passages_ss_doublons)"
   ]
  },
  {
   "cell_type": "markdown",
   "metadata": {},
   "source": [
    "## 1.4. Filtre des immatriculations non cohérentes"
   ]
  },
  {
   "cell_type": "code",
   "execution_count": 12,
   "metadata": {},
   "outputs": [
    {
     "name": "stderr",
     "output_type": "stream",
     "text": [
      "C:\\Users\\martin.schoreisz\\git\\lapi\\Carto_Lapi\\Analyse\\donnees_posttraitees.py:173: FutureWarning: Possible nested set at position 30\n",
      "  return any([re.match(retest,plque_ouvert) for retest in plaques_europ.re_plaque.tolist()])\n"
     ]
    },
    {
     "name": "stdout",
     "output_type": "stream",
     "text": [
      "Wall time: 5min 11s\n",
      "Parser   : 111 ms\n"
     ]
    }
   ],
   "source": [
    "%time df_passages_immat_ok, df_immat_suppr=t.filtre_plaque_non_valable(passg_recale_cam10, df_plaques)"
   ]
  },
  {
   "cell_type": "markdown",
   "metadata": {},
   "source": [
    "***tests sur les passages non affectés à du transit***"
   ]
  },
  {
   "cell_type": "code",
   "execution_count": 14,
   "metadata": {},
   "outputs": [],
   "source": [
    "toto=df_passages_immat_ok.reset_index().set_index(['created', 'immat', 'camera_id'])"
   ]
  },
  {
   "cell_type": "code",
   "execution_count": 15,
   "metadata": {},
   "outputs": [],
   "source": [
    "toto=toto.loc[~toto.index.isin(dico_passag.set_index(['created', 'immat', 'camera_id']).index.tolist())]\n",
    "toto=toto.reset_index()"
   ]
  },
  {
   "cell_type": "code",
   "execution_count": 17,
   "metadata": {},
   "outputs": [],
   "source": [
    "tata=toto.sort_values('created').groupby('immat').agg({'camera_id':lambda x : tuple(x),'created':lambda x: tuple(x)})"
   ]
  },
  {
   "cell_type": "code",
   "execution_count": 18,
   "metadata": {},
   "outputs": [
    {
     "data": {
      "text/html": [
       "<div>\n",
       "<style scoped>\n",
       "    .dataframe tbody tr th:only-of-type {\n",
       "        vertical-align: middle;\n",
       "    }\n",
       "\n",
       "    .dataframe tbody tr th {\n",
       "        vertical-align: top;\n",
       "    }\n",
       "\n",
       "    .dataframe thead th {\n",
       "        text-align: right;\n",
       "    }\n",
       "</style>\n",
       "<table border=\"1\" class=\"dataframe\">\n",
       "  <thead>\n",
       "    <tr style=\"text-align: right;\">\n",
       "      <th></th>\n",
       "      <th>camera_id</th>\n",
       "      <th>created</th>\n",
       "    </tr>\n",
       "    <tr>\n",
       "      <th>immat</th>\n",
       "      <th></th>\n",
       "      <th></th>\n",
       "    </tr>\n",
       "  </thead>\n",
       "  <tbody>\n",
       "    <tr>\n",
       "      <th>00011aa7a572bb6fcfd48512bef830cba4cb8134</th>\n",
       "      <td>(4,)</td>\n",
       "      <td>(2019-01-27 14:53:42,)</td>\n",
       "    </tr>\n",
       "    <tr>\n",
       "      <th>00014a425992b796c523bea440c08670ab2e3054</th>\n",
       "      <td>(12, 6, 3)</td>\n",
       "      <td>(2019-01-29 10:47:29, 2019-01-29 11:02:00, 2019-01-29 11:13:32)</td>\n",
       "    </tr>\n",
       "    <tr>\n",
       "      <th>0003436cfe0bf43a0c964731922145bfdd1d3f1b</th>\n",
       "      <td>(3, 9)</td>\n",
       "      <td>(2019-01-29 17:50:39, 2019-01-29 18:02:20)</td>\n",
       "    </tr>\n",
       "    <tr>\n",
       "      <th>0006032ce8d9b88a97bf5edc4ddd26bfadaf20e2</th>\n",
       "      <td>(10, 1, 5, 1, 5, 11, 12, 6, 4, 3, 5, 11)</td>\n",
       "      <td>(2019-01-24 10:32:02, 2019-01-24 10:59:45, 2019-01-24 15:59:05, 2019-01-30 13:30:36, 2019-01-31 12:29:52, 2019-01-31 12:55:35, 2019-02-06 05:07:11, 2019-02-06 05:21:42, 2019-02-08 10:40:20, 2019-02-08 11:27:28, 2019-02-08 15:23:25, 2019-02-08 15:47:10)</td>\n",
       "    </tr>\n",
       "    <tr>\n",
       "      <th>00062d5dae86355b884681328984f21180456f4a</th>\n",
       "      <td>(3, 18, 13)</td>\n",
       "      <td>(2019-01-26 07:01:48, 2019-01-26 07:20:14, 2019-01-26 08:05:38)</td>\n",
       "    </tr>\n",
       "    <tr>\n",
       "      <th>0007559c1ff10c1cc934891055fa02cd302b05a2</th>\n",
       "      <td>(15, 4)</td>\n",
       "      <td>(2019-01-23 05:24:34, 2019-01-23 06:17:49)</td>\n",
       "    </tr>\n",
       "    <tr>\n",
       "      <th>0007fd434cbf10c9b268b04daad05dcda44ce92a</th>\n",
       "      <td>(4, 5)</td>\n",
       "      <td>(2019-01-28 14:26:01, 2019-01-28 14:36:59)</td>\n",
       "    </tr>\n",
       "    <tr>\n",
       "      <th>00081e97bb6dd4246a7ae5fff528a81630a80289</th>\n",
       "      <td>(3, 9, 15, 19, 4, 3, 18, 13, 15, 19, 4, 3, 9, 19, 4, 3, 13, 10, 4)</td>\n",
       "      <td>(2019-01-23 08:14:27, 2019-01-23 08:38:48, 2019-02-05 17:37:07, 2019-02-06 06:04:45, 2019-02-06 06:25:52, 2019-02-06 11:28:28, 2019-02-06 11:48:49, 2019-02-06 13:17:44, 2019-02-07 09:00:00, 2019-02-07 09:52:52, 2019-02-07 10:13:07, 2019-02-07 14:43:15, 2019-02-07 14:54:51, 2019-02-08 10:23:24, 2019-02-08 10:43:52, 2019-02-08 11:20:49, 2019-02-08 13:23:47, 2019-02-12 13:54:32, 2019-02-12 14:08:14)</td>\n",
       "    </tr>\n",
       "    <tr>\n",
       "      <th>000921e0c65380cb190699a883b205490d3558dc</th>\n",
       "      <td>(4, 18, 10)</td>\n",
       "      <td>(2019-01-23 23:12:07, 2019-01-31 10:46:59, 2019-02-04 11:03:51)</td>\n",
       "    </tr>\n",
       "    <tr>\n",
       "      <th>00098e32d63631ff3402629e147dcb11af2fc078</th>\n",
       "      <td>(2,)</td>\n",
       "      <td>(2019-01-26 06:44:48,)</td>\n",
       "    </tr>\n",
       "    <tr>\n",
       "      <th>000a53995df1306823b61a4e9cbdb6a0f9d40c96</th>\n",
       "      <td>(13, 3, 18, 13)</td>\n",
       "      <td>(2019-01-25 04:50:41, 2019-02-07 14:09:57, 2019-02-07 14:28:45, 2019-02-07 15:16:05)</td>\n",
       "    </tr>\n",
       "    <tr>\n",
       "      <th>000ae170fb449ee909bfe1898b02731a17772be2</th>\n",
       "      <td>(3, 5)</td>\n",
       "      <td>(2019-01-29 14:19:19, 2019-01-30 15:11:31)</td>\n",
       "    </tr>\n",
       "    <tr>\n",
       "      <th>000b2578fb1e88f7d50dd23559b96477bb8975ae</th>\n",
       "      <td>(8, 5, 7, 8, 5, 6, 7, 8, 5)</td>\n",
       "      <td>(2019-01-24 14:08:05, 2019-01-24 14:25:30, 2019-01-30 06:22:40, 2019-02-04 13:59:13, 2019-02-04 14:16:16, 2019-02-08 05:28:35, 2019-02-08 05:48:00, 2019-02-11 16:59:32, 2019-02-11 17:18:10)</td>\n",
       "    </tr>\n",
       "    <tr>\n",
       "      <th>000c322e01ce7d37f030ca853d609bacb53c714e</th>\n",
       "      <td>(3, 18, 19, 19, 18, 19)</td>\n",
       "      <td>(2019-01-28 06:12:01, 2019-01-28 07:04:12, 2019-01-28 09:29:58, 2019-01-29 11:05:51, 2019-02-04 09:00:21, 2019-02-12 08:21:12)</td>\n",
       "    </tr>\n",
       "    <tr>\n",
       "      <th>000c365d8e8db26e5abeddd1b16c3c10f7f5cc6e</th>\n",
       "      <td>(5,)</td>\n",
       "      <td>(2019-01-30 11:25:49,)</td>\n",
       "    </tr>\n",
       "    <tr>\n",
       "      <th>000d4afbe2a3f98606ec70681bac7870b2957c67</th>\n",
       "      <td>(4,)</td>\n",
       "      <td>(2019-02-08 17:59:20,)</td>\n",
       "    </tr>\n",
       "    <tr>\n",
       "      <th>000da5097dd76cce6a9459ad5439c324fb72ba19</th>\n",
       "      <td>(3, 18, 13, 3, 13)</td>\n",
       "      <td>(2019-01-26 06:44:49, 2019-01-26 07:02:38, 2019-01-26 07:47:11, 2019-02-06 04:37:18, 2019-02-06 05:24:23)</td>\n",
       "    </tr>\n",
       "    <tr>\n",
       "      <th>000f58e063f38fcfda697b5a50a821a52572198b</th>\n",
       "      <td>(6,)</td>\n",
       "      <td>(2019-02-13 11:46:54,)</td>\n",
       "    </tr>\n",
       "    <tr>\n",
       "      <th>000f5a27c79a56020e9794a19f62971ee52a37e0</th>\n",
       "      <td>(8, 3, 7)</td>\n",
       "      <td>(2019-02-12 18:19:41, 2019-02-13 05:17:37, 2019-02-13 16:44:23)</td>\n",
       "    </tr>\n",
       "    <tr>\n",
       "      <th>000f5af85b8d62100869ec6106f479714a50afbd</th>\n",
       "      <td>(11, 4, 18)</td>\n",
       "      <td>(2019-01-26 11:09:51, 2019-01-30 13:51:41, 2019-02-02 11:48:23)</td>\n",
       "    </tr>\n",
       "    <tr>\n",
       "      <th>0010d8bc6f3d75f39ca5010829f523c634f09808</th>\n",
       "      <td>(3, 18, 13)</td>\n",
       "      <td>(2019-02-11 22:12:54, 2019-02-11 22:30:16, 2019-02-12 08:07:08)</td>\n",
       "    </tr>\n",
       "    <tr>\n",
       "      <th>0011bb370f0e5397521c9157bdeda2aaae301939</th>\n",
       "      <td>(15,)</td>\n",
       "      <td>(2019-02-01 15:58:35,)</td>\n",
       "    </tr>\n",
       "    <tr>\n",
       "      <th>001248808afdea1e42f9cebcf833ba8aad5a6808</th>\n",
       "      <td>(6, 7)</td>\n",
       "      <td>(2019-01-31 06:30:09, 2019-01-31 07:14:17)</td>\n",
       "    </tr>\n",
       "    <tr>\n",
       "      <th>0013b7f9b8a4c434f538051ef75ec9b368d00023</th>\n",
       "      <td>(6, 18, 13)</td>\n",
       "      <td>(2019-02-06 14:26:03, 2019-02-07 08:20:58, 2019-02-07 09:11:06)</td>\n",
       "    </tr>\n",
       "    <tr>\n",
       "      <th>0013ca4e9939137bc5f2784c40fd9e4d549685c6</th>\n",
       "      <td>(3, 18, 13)</td>\n",
       "      <td>(2019-01-26 22:13:20, 2019-01-26 22:31:21, 2019-01-26 23:15:27)</td>\n",
       "    </tr>\n",
       "    <tr>\n",
       "      <th>001450d354964650ddf5a06395b78919cb34317d</th>\n",
       "      <td>(15,)</td>\n",
       "      <td>(2019-02-06 12:44:48,)</td>\n",
       "    </tr>\n",
       "    <tr>\n",
       "      <th>001615708809cf117b58d75d61d8f6eb5a2b0390</th>\n",
       "      <td>(15, 1, 2, 9, 4, 7)</td>\n",
       "      <td>(2019-01-29 20:10:45, 2019-01-30 07:58:56, 2019-01-30 09:14:50, 2019-01-30 09:29:27, 2019-01-31 17:20:16, 2019-01-31 17:41:14)</td>\n",
       "    </tr>\n",
       "    <tr>\n",
       "      <th>001646dce3bbc7ff8f16085aaf4a528f332cb59c</th>\n",
       "      <td>(9, 9)</td>\n",
       "      <td>(2019-01-30 05:18:54, 2019-02-02 05:22:39)</td>\n",
       "    </tr>\n",
       "    <tr>\n",
       "      <th>00164c951c1db28a5ad5eabacac921d7ec571bf5</th>\n",
       "      <td>(3, 13)</td>\n",
       "      <td>(2019-01-26 21:43:11, 2019-01-27 11:29:53)</td>\n",
       "    </tr>\n",
       "    <tr>\n",
       "      <th>0016dfc6d58e689b427fa452097c535b5767c4cd</th>\n",
       "      <td>(4,)</td>\n",
       "      <td>(2019-01-28 15:53:17,)</td>\n",
       "    </tr>\n",
       "    <tr>\n",
       "      <th>...</th>\n",
       "      <td>...</td>\n",
       "      <td>...</td>\n",
       "    </tr>\n",
       "    <tr>\n",
       "      <th>ffeffff1920e647350fb589e80c23a6ff7d61440</th>\n",
       "      <td>(12,)</td>\n",
       "      <td>(2019-01-28 08:20:44,)</td>\n",
       "    </tr>\n",
       "    <tr>\n",
       "      <th>fff058cc70f211500300afde3e732f46a33e7868</th>\n",
       "      <td>(12, 6, 3, 4, 5, 11)</td>\n",
       "      <td>(2019-01-23 13:42:30, 2019-01-23 13:56:30, 2019-01-23 16:55:35, 2019-01-24 09:26:32, 2019-01-24 09:37:58, 2019-01-24 10:04:21)</td>\n",
       "    </tr>\n",
       "    <tr>\n",
       "      <th>fff0616b1bb02c1808dbe3e84b18cea9d0c5c4c0</th>\n",
       "      <td>(6, 4, 5, 10, 4, 4, 5, 6, 3, 4, 5)</td>\n",
       "      <td>(2019-01-23 12:07:39, 2019-01-23 16:02:25, 2019-01-23 16:16:14, 2019-01-26 11:23:27, 2019-01-26 11:46:05, 2019-01-26 16:09:23, 2019-01-26 16:20:49, 2019-02-12 16:21:56, 2019-02-13 08:02:20, 2019-02-13 11:49:14, 2019-02-13 12:01:04)</td>\n",
       "    </tr>\n",
       "    <tr>\n",
       "      <th>fff0830132e777fd9cba3840a7ccf71e14516bc5</th>\n",
       "      <td>(5, 6, 3, 4, 5, 3, 18, 19, 3)</td>\n",
       "      <td>(2019-02-02 17:45:29, 2019-02-03 18:33:31, 2019-02-03 18:43:59, 2019-02-08 09:27:52, 2019-02-08 09:38:20, 2019-02-09 17:47:09, 2019-02-12 08:04:02, 2019-02-12 16:54:20, 2019-02-13 10:25:54)</td>\n",
       "    </tr>\n",
       "    <tr>\n",
       "      <th>fff0b82e2090cec293b3c1739c90c567223c4a8e</th>\n",
       "      <td>(3, 4)</td>\n",
       "      <td>(2019-01-23 06:46:44, 2019-01-26 07:49:28)</td>\n",
       "    </tr>\n",
       "    <tr>\n",
       "      <th>fff14cf17d32d2ef1e1ae27752a4931b9ea847eb</th>\n",
       "      <td>(15, 3, 13, 15, 3, 13, 15, 4, 18, 13)</td>\n",
       "      <td>(2019-01-23 04:22:32, 2019-01-25 05:18:56, 2019-01-25 06:24:57, 2019-01-25 21:11:54, 2019-01-29 03:58:50, 2019-01-29 05:01:55, 2019-01-30 04:08:11, 2019-01-30 04:56:05, 2019-02-01 03:50:50, 2019-02-01 04:38:17)</td>\n",
       "    </tr>\n",
       "    <tr>\n",
       "      <th>fff17c8cf5576b584b5d6083ce2ef797899565a0</th>\n",
       "      <td>(12,)</td>\n",
       "      <td>(2019-01-23 13:17:16,)</td>\n",
       "    </tr>\n",
       "    <tr>\n",
       "      <th>fff1e1386b46a52041f417b71fdc45143551b864</th>\n",
       "      <td>(10, 4, 3, 18, 13, 15, 4, 3, 4, 3, 4, 3, 10, 4, 3, 9, 10, 4, 3, 18, 13, 15, 4, 3, 9, 10, 3, 9, 10, 4, 3, 5, 3, 4, 3, 9, 10, 4, 3, 13, 19, 1, 3, 9, 10, 4, 3, 18, 13, 15, 19, 4, 3, 9, 10, 4, 3, 10, 4, 10, 4, 3, 18, 13, 19, 1, 3, 9, 10, 4, 3, 4, 3, 9, 6, 3, 4, 3, 9, 10, 4, 3, 18, 13, 15, 19, 4, 3, 9, 10, 4, 3, 10, 3, 10, 4, 3, 9)</td>\n",
       "      <td>(2019-01-23 01:36:29, 2019-01-23 01:58:24, 2019-01-23 04:58:53, 2019-01-23 05:19:38, 2019-01-23 06:03:11, 2019-01-23 10:14:43, 2019-01-23 13:27:12, 2019-01-24 05:27:00, 2019-01-24 08:15:10, 2019-01-24 10:22:28, 2019-01-24 12:26:49, 2019-01-24 18:50:37, 2019-01-25 17:35:19, 2019-01-25 17:58:00, 2019-01-25 18:50:47, 2019-01-25 19:01:56, 2019-01-26 01:23:58, 2019-01-26 01:46:02, 2019-01-28 05:40:46, 2019-01-28 06:03:06, 2019-01-28 06:51:38, 2019-01-28 14:57:39, 2019-01-28 15:51:38, 2019-01-28 18:51:38, 2019-01-28 19:02:23, 2019-01-29 01:27:38, 2019-01-29 04:57:59, 2019-01-29 05:08:56, 2019-01-29 15:33:07, 2019-01-29 15:58:51, 2019-01-29 18:42:53, 2019-01-30 09:10:13, 2019-01-30 13:46:35, 2019-01-30 15:15:10, 2019-01-30 18:49:35, 2019-01-30 19:00:24, 2019-01-31 01:24:07, 2019-01-31 01:46:02, 2019-01-31 04:30:43, 2019-01-31 05:38:48, 2019-01-31 12:57:39, 2019-01-31 13:14:44, 2019-01-31 18:51:53, 2019-01-31 19:02:39, 2019-02-01 01:26:33, 2019-02-01 01:48:29, 2019-02-01 04:21:19, 2019-02-...</td>\n",
       "    </tr>\n",
       "    <tr>\n",
       "      <th>fff2ac44e52448afe44cf881926a274cd1de4c1c</th>\n",
       "      <td>(5, 18)</td>\n",
       "      <td>(2019-02-04 09:41:09, 2019-02-10 19:34:22)</td>\n",
       "    </tr>\n",
       "    <tr>\n",
       "      <th>fff2ee8648a3979f0696f24e3ebde85e618c870d</th>\n",
       "      <td>(3, 13, 3, 18, 13)</td>\n",
       "      <td>(2019-01-25 02:58:19, 2019-01-25 03:52:15, 2019-02-07 21:25:45, 2019-02-07 21:44:33, 2019-02-07 22:14:59)</td>\n",
       "    </tr>\n",
       "    <tr>\n",
       "      <th>fff3258af8ea0487fe2d5ff841115fb9aad86e34</th>\n",
       "      <td>(9, 10, 4, 10, 9, 4, 6, 7)</td>\n",
       "      <td>(2019-01-28 10:40:40, 2019-01-29 15:38:38, 2019-01-29 16:20:21, 2019-02-05 13:47:54, 2019-02-05 14:36:14, 2019-02-05 16:00:08, 2019-02-06 07:49:01, 2019-02-06 08:30:11)</td>\n",
       "    </tr>\n",
       "    <tr>\n",
       "      <th>fff37438f1508b51498d995407af07b11db87c9c</th>\n",
       "      <td>(15, 19)</td>\n",
       "      <td>(2019-02-10 22:25:43, 2019-02-10 22:55:30)</td>\n",
       "    </tr>\n",
       "    <tr>\n",
       "      <th>fff3a83528e3acb229307e603f813d7b6a97bd0a</th>\n",
       "      <td>(3, 18, 13)</td>\n",
       "      <td>(2019-01-29 04:27:41, 2019-01-29 04:47:05, 2019-01-29 14:54:51)</td>\n",
       "    </tr>\n",
       "    <tr>\n",
       "      <th>fff49e2325ac931d0ff1700e4dfb6e301cca45f5</th>\n",
       "      <td>(15, 19)</td>\n",
       "      <td>(2019-01-30 06:36:36, 2019-01-30 10:33:11)</td>\n",
       "    </tr>\n",
       "    <tr>\n",
       "      <th>fff4c53c70b2457d0232193c2f3d02dc5f24d76e</th>\n",
       "      <td>(13,)</td>\n",
       "      <td>(2019-01-30 19:52:37,)</td>\n",
       "    </tr>\n",
       "    <tr>\n",
       "      <th>fff4e64cbe6200d01835f5deb39b9ca575f7db48</th>\n",
       "      <td>(3,)</td>\n",
       "      <td>(2019-02-05 08:36:41,)</td>\n",
       "    </tr>\n",
       "    <tr>\n",
       "      <th>fff50c41634f472f02805c95d322f281c8c70ce1</th>\n",
       "      <td>(15, 19, 4)</td>\n",
       "      <td>(2019-01-29 17:05:23, 2019-01-29 18:30:19, 2019-01-29 18:51:02)</td>\n",
       "    </tr>\n",
       "    <tr>\n",
       "      <th>fff7236e608f401465917eb4027de08b45a8a2e3</th>\n",
       "      <td>(18, 19, 1, 7)</td>\n",
       "      <td>(2019-02-08 05:12:10, 2019-02-08 06:17:50, 2019-02-08 07:47:55, 2019-02-08 09:39:16)</td>\n",
       "    </tr>\n",
       "    <tr>\n",
       "      <th>fff78422b8c423c67fce11731b661bfbe57578c8</th>\n",
       "      <td>(3, 13)</td>\n",
       "      <td>(2019-01-30 15:51:21, 2019-01-30 17:02:04)</td>\n",
       "    </tr>\n",
       "    <tr>\n",
       "      <th>fff7c4494d0df50712d791456848aa0243be79ac</th>\n",
       "      <td>(3, 18, 13)</td>\n",
       "      <td>(2019-02-05 10:29:42, 2019-02-05 10:49:41, 2019-02-05 11:37:54)</td>\n",
       "    </tr>\n",
       "    <tr>\n",
       "      <th>fff90ae37485f426140a179b015bfc4ca7115528</th>\n",
       "      <td>(15, 4, 3, 4, 18, 13, 12, 3)</td>\n",
       "      <td>(2019-01-25 17:34:53, 2019-01-25 18:37:01, 2019-01-31 13:40:42, 2019-02-01 14:33:24, 2019-02-01 18:17:29, 2019-02-01 19:05:44, 2019-02-13 09:56:47, 2019-02-13 10:23:07)</td>\n",
       "    </tr>\n",
       "    <tr>\n",
       "      <th>fff93f1fc6988eb6b2df0c3dbc237313d80c4c94</th>\n",
       "      <td>(12, 6, 7)</td>\n",
       "      <td>(2019-02-05 10:54:57, 2019-02-05 11:09:02, 2019-02-12 09:20:32)</td>\n",
       "    </tr>\n",
       "    <tr>\n",
       "      <th>fff99f2b746246511f3fdafa290724a1cf879639</th>\n",
       "      <td>(18,)</td>\n",
       "      <td>(2019-02-05 11:38:45,)</td>\n",
       "    </tr>\n",
       "    <tr>\n",
       "      <th>fffb23afad5b41c477ded865d7b3e53d8d036928</th>\n",
       "      <td>(3, 4, 5, 12, 3, 5, 12, 3, 4, 4)</td>\n",
       "      <td>(2019-01-24 17:16:12, 2019-01-28 11:11:11, 2019-01-28 11:22:16, 2019-01-31 15:05:59, 2019-01-31 16:39:28, 2019-02-04 11:10:29, 2019-02-05 15:50:57, 2019-02-05 16:34:54, 2019-02-06 10:47:41, 2019-02-11 07:05:22)</td>\n",
       "    </tr>\n",
       "    <tr>\n",
       "      <th>fffb3f82bd618c3b956ad2ef058cd4bd581072e7</th>\n",
       "      <td>(11, 3, 13)</td>\n",
       "      <td>(2019-01-24 13:39:35, 2019-01-27 04:15:47, 2019-01-27 05:18:15)</td>\n",
       "    </tr>\n",
       "    <tr>\n",
       "      <th>fffc52d900fc8a7b3fc5a3b6c99ce7d4478b54eb</th>\n",
       "      <td>(15, 4)</td>\n",
       "      <td>(2019-01-25 03:54:00, 2019-01-25 04:56:50)</td>\n",
       "    </tr>\n",
       "    <tr>\n",
       "      <th>fffd0ee3b7e0c3c3d61c1afecaa94995e030f2bb</th>\n",
       "      <td>(3, 13, 15, 4)</td>\n",
       "      <td>(2019-01-23 13:35:09, 2019-01-23 15:28:59, 2019-01-25 03:50:10, 2019-01-25 04:39:54)</td>\n",
       "    </tr>\n",
       "    <tr>\n",
       "      <th>fffef660d807fc91444f7305cf22925eca47bd29</th>\n",
       "      <td>(1, 5, 11)</td>\n",
       "      <td>(2019-02-04 07:48:21, 2019-02-04 08:54:24, 2019-02-04 09:19:10)</td>\n",
       "    </tr>\n",
       "    <tr>\n",
       "      <th>ffff319129e9e44662017e0cf13411748760dcbc</th>\n",
       "      <td>(15, 4)</td>\n",
       "      <td>(2019-02-13 09:10:47, 2019-02-13 10:57:09)</td>\n",
       "    </tr>\n",
       "    <tr>\n",
       "      <th>ffffcdba38fad957730f25d7876e110e74f9493b</th>\n",
       "      <td>(13, 19, 15)</td>\n",
       "      <td>(2019-01-25 18:51:11, 2019-01-30 18:49:40, 2019-02-11 16:51:57)</td>\n",
       "    </tr>\n",
       "  </tbody>\n",
       "</table>\n",
       "<p>104010 rows × 2 columns</p>\n",
       "</div>"
      ],
      "text/plain": [
       "                                                                                                                                                                                                                                                                                                                                                                         camera_id  \\\n",
       "immat                                                                                                                                                                                                                                                                                                                                                                                \n",
       "00011aa7a572bb6fcfd48512bef830cba4cb8134                                                                                                                                                                                                                                                                                                                                      (4,)   \n",
       "00014a425992b796c523bea440c08670ab2e3054                                                                                                                                                                                                                                                                                                                                (12, 6, 3)   \n",
       "0003436cfe0bf43a0c964731922145bfdd1d3f1b                                                                                                                                                                                                                                                                                                                                    (3, 9)   \n",
       "0006032ce8d9b88a97bf5edc4ddd26bfadaf20e2                                                                                                                                                                                                                                                                                                  (10, 1, 5, 1, 5, 11, 12, 6, 4, 3, 5, 11)   \n",
       "00062d5dae86355b884681328984f21180456f4a                                                                                                                                                                                                                                                                                                                               (3, 18, 13)   \n",
       "0007559c1ff10c1cc934891055fa02cd302b05a2                                                                                                                                                                                                                                                                                                                                   (15, 4)   \n",
       "0007fd434cbf10c9b268b04daad05dcda44ce92a                                                                                                                                                                                                                                                                                                                                    (4, 5)   \n",
       "00081e97bb6dd4246a7ae5fff528a81630a80289                                                                                                                                                                                                                                                                        (3, 9, 15, 19, 4, 3, 18, 13, 15, 19, 4, 3, 9, 19, 4, 3, 13, 10, 4)   \n",
       "000921e0c65380cb190699a883b205490d3558dc                                                                                                                                                                                                                                                                                                                               (4, 18, 10)   \n",
       "00098e32d63631ff3402629e147dcb11af2fc078                                                                                                                                                                                                                                                                                                                                      (2,)   \n",
       "000a53995df1306823b61a4e9cbdb6a0f9d40c96                                                                                                                                                                                                                                                                                                                           (13, 3, 18, 13)   \n",
       "000ae170fb449ee909bfe1898b02731a17772be2                                                                                                                                                                                                                                                                                                                                    (3, 5)   \n",
       "000b2578fb1e88f7d50dd23559b96477bb8975ae                                                                                                                                                                                                                                                                                                               (8, 5, 7, 8, 5, 6, 7, 8, 5)   \n",
       "000c322e01ce7d37f030ca853d609bacb53c714e                                                                                                                                                                                                                                                                                                                   (3, 18, 19, 19, 18, 19)   \n",
       "000c365d8e8db26e5abeddd1b16c3c10f7f5cc6e                                                                                                                                                                                                                                                                                                                                      (5,)   \n",
       "000d4afbe2a3f98606ec70681bac7870b2957c67                                                                                                                                                                                                                                                                                                                                      (4,)   \n",
       "000da5097dd76cce6a9459ad5439c324fb72ba19                                                                                                                                                                                                                                                                                                                        (3, 18, 13, 3, 13)   \n",
       "000f58e063f38fcfda697b5a50a821a52572198b                                                                                                                                                                                                                                                                                                                                      (6,)   \n",
       "000f5a27c79a56020e9794a19f62971ee52a37e0                                                                                                                                                                                                                                                                                                                                 (8, 3, 7)   \n",
       "000f5af85b8d62100869ec6106f479714a50afbd                                                                                                                                                                                                                                                                                                                               (11, 4, 18)   \n",
       "0010d8bc6f3d75f39ca5010829f523c634f09808                                                                                                                                                                                                                                                                                                                               (3, 18, 13)   \n",
       "0011bb370f0e5397521c9157bdeda2aaae301939                                                                                                                                                                                                                                                                                                                                     (15,)   \n",
       "001248808afdea1e42f9cebcf833ba8aad5a6808                                                                                                                                                                                                                                                                                                                                    (6, 7)   \n",
       "0013b7f9b8a4c434f538051ef75ec9b368d00023                                                                                                                                                                                                                                                                                                                               (6, 18, 13)   \n",
       "0013ca4e9939137bc5f2784c40fd9e4d549685c6                                                                                                                                                                                                                                                                                                                               (3, 18, 13)   \n",
       "001450d354964650ddf5a06395b78919cb34317d                                                                                                                                                                                                                                                                                                                                     (15,)   \n",
       "001615708809cf117b58d75d61d8f6eb5a2b0390                                                                                                                                                                                                                                                                                                                       (15, 1, 2, 9, 4, 7)   \n",
       "001646dce3bbc7ff8f16085aaf4a528f332cb59c                                                                                                                                                                                                                                                                                                                                    (9, 9)   \n",
       "00164c951c1db28a5ad5eabacac921d7ec571bf5                                                                                                                                                                                                                                                                                                                                   (3, 13)   \n",
       "0016dfc6d58e689b427fa452097c535b5767c4cd                                                                                                                                                                                                                                                                                                                                      (4,)   \n",
       "...                                                                                                                                                                                                                                                                                                                                                                            ...   \n",
       "ffeffff1920e647350fb589e80c23a6ff7d61440                                                                                                                                                                                                                                                                                                                                     (12,)   \n",
       "fff058cc70f211500300afde3e732f46a33e7868                                                                                                                                                                                                                                                                                                                      (12, 6, 3, 4, 5, 11)   \n",
       "fff0616b1bb02c1808dbe3e84b18cea9d0c5c4c0                                                                                                                                                                                                                                                                                                        (6, 4, 5, 10, 4, 4, 5, 6, 3, 4, 5)   \n",
       "fff0830132e777fd9cba3840a7ccf71e14516bc5                                                                                                                                                                                                                                                                                                             (5, 6, 3, 4, 5, 3, 18, 19, 3)   \n",
       "fff0b82e2090cec293b3c1739c90c567223c4a8e                                                                                                                                                                                                                                                                                                                                    (3, 4)   \n",
       "fff14cf17d32d2ef1e1ae27752a4931b9ea847eb                                                                                                                                                                                                                                                                                                     (15, 3, 13, 15, 3, 13, 15, 4, 18, 13)   \n",
       "fff17c8cf5576b584b5d6083ce2ef797899565a0                                                                                                                                                                                                                                                                                                                                     (12,)   \n",
       "fff1e1386b46a52041f417b71fdc45143551b864  (10, 4, 3, 18, 13, 15, 4, 3, 4, 3, 4, 3, 10, 4, 3, 9, 10, 4, 3, 18, 13, 15, 4, 3, 9, 10, 3, 9, 10, 4, 3, 5, 3, 4, 3, 9, 10, 4, 3, 13, 19, 1, 3, 9, 10, 4, 3, 18, 13, 15, 19, 4, 3, 9, 10, 4, 3, 10, 4, 10, 4, 3, 18, 13, 19, 1, 3, 9, 10, 4, 3, 4, 3, 9, 6, 3, 4, 3, 9, 10, 4, 3, 18, 13, 15, 19, 4, 3, 9, 10, 4, 3, 10, 3, 10, 4, 3, 9)   \n",
       "fff2ac44e52448afe44cf881926a274cd1de4c1c                                                                                                                                                                                                                                                                                                                                   (5, 18)   \n",
       "fff2ee8648a3979f0696f24e3ebde85e618c870d                                                                                                                                                                                                                                                                                                                        (3, 13, 3, 18, 13)   \n",
       "fff3258af8ea0487fe2d5ff841115fb9aad86e34                                                                                                                                                                                                                                                                                                                (9, 10, 4, 10, 9, 4, 6, 7)   \n",
       "fff37438f1508b51498d995407af07b11db87c9c                                                                                                                                                                                                                                                                                                                                  (15, 19)   \n",
       "fff3a83528e3acb229307e603f813d7b6a97bd0a                                                                                                                                                                                                                                                                                                                               (3, 18, 13)   \n",
       "fff49e2325ac931d0ff1700e4dfb6e301cca45f5                                                                                                                                                                                                                                                                                                                                  (15, 19)   \n",
       "fff4c53c70b2457d0232193c2f3d02dc5f24d76e                                                                                                                                                                                                                                                                                                                                     (13,)   \n",
       "fff4e64cbe6200d01835f5deb39b9ca575f7db48                                                                                                                                                                                                                                                                                                                                      (3,)   \n",
       "fff50c41634f472f02805c95d322f281c8c70ce1                                                                                                                                                                                                                                                                                                                               (15, 19, 4)   \n",
       "fff7236e608f401465917eb4027de08b45a8a2e3                                                                                                                                                                                                                                                                                                                            (18, 19, 1, 7)   \n",
       "fff78422b8c423c67fce11731b661bfbe57578c8                                                                                                                                                                                                                                                                                                                                   (3, 13)   \n",
       "fff7c4494d0df50712d791456848aa0243be79ac                                                                                                                                                                                                                                                                                                                               (3, 18, 13)   \n",
       "fff90ae37485f426140a179b015bfc4ca7115528                                                                                                                                                                                                                                                                                                              (15, 4, 3, 4, 18, 13, 12, 3)   \n",
       "fff93f1fc6988eb6b2df0c3dbc237313d80c4c94                                                                                                                                                                                                                                                                                                                                (12, 6, 7)   \n",
       "fff99f2b746246511f3fdafa290724a1cf879639                                                                                                                                                                                                                                                                                                                                     (18,)   \n",
       "fffb23afad5b41c477ded865d7b3e53d8d036928                                                                                                                                                                                                                                                                                                          (3, 4, 5, 12, 3, 5, 12, 3, 4, 4)   \n",
       "fffb3f82bd618c3b956ad2ef058cd4bd581072e7                                                                                                                                                                                                                                                                                                                               (11, 3, 13)   \n",
       "fffc52d900fc8a7b3fc5a3b6c99ce7d4478b54eb                                                                                                                                                                                                                                                                                                                                   (15, 4)   \n",
       "fffd0ee3b7e0c3c3d61c1afecaa94995e030f2bb                                                                                                                                                                                                                                                                                                                            (3, 13, 15, 4)   \n",
       "fffef660d807fc91444f7305cf22925eca47bd29                                                                                                                                                                                                                                                                                                                                (1, 5, 11)   \n",
       "ffff319129e9e44662017e0cf13411748760dcbc                                                                                                                                                                                                                                                                                                                                   (15, 4)   \n",
       "ffffcdba38fad957730f25d7876e110e74f9493b                                                                                                                                                                                                                                                                                                                              (13, 19, 15)   \n",
       "\n",
       "                                                                                                                                                                                                                                                                                                                                                                                                                                                                                                                                                                                                                                                                                                                                                                                                                                                                                                                                                                                                                                                                          created  \n",
       "immat                                                                                                                                                                                                                                                                                                                                                                                                                                                                                                                                                                                                                                                                                                                                                                                                                                                                                                                                                                                                                                                                              \n",
       "00011aa7a572bb6fcfd48512bef830cba4cb8134                                                                                                                                                                                                                                                                                                                                                                                                                                                                                                                                                                                                                                                                                                                                                                                                                                                                                                                                                                                                                   (2019-01-27 14:53:42,)  \n",
       "00014a425992b796c523bea440c08670ab2e3054                                                                                                                                                                                                                                                                                                                                                                                                                                                                                                                                                                                                                                                                                                                                                                                                                                                                                                                                                                          (2019-01-29 10:47:29, 2019-01-29 11:02:00, 2019-01-29 11:13:32)  \n",
       "0003436cfe0bf43a0c964731922145bfdd1d3f1b                                                                                                                                                                                                                                                                                                                                                                                                                                                                                                                                                                                                                                                                                                                                                                                                                                                                                                                                                                                               (2019-01-29 17:50:39, 2019-01-29 18:02:20)  \n",
       "0006032ce8d9b88a97bf5edc4ddd26bfadaf20e2                                                                                                                                                                                                                                                                                                                                                                                                                                                                                                                                                                                                                                                                                                                                                                             (2019-01-24 10:32:02, 2019-01-24 10:59:45, 2019-01-24 15:59:05, 2019-01-30 13:30:36, 2019-01-31 12:29:52, 2019-01-31 12:55:35, 2019-02-06 05:07:11, 2019-02-06 05:21:42, 2019-02-08 10:40:20, 2019-02-08 11:27:28, 2019-02-08 15:23:25, 2019-02-08 15:47:10)  \n",
       "00062d5dae86355b884681328984f21180456f4a                                                                                                                                                                                                                                                                                                                                                                                                                                                                                                                                                                                                                                                                                                                                                                                                                                                                                                                                                                          (2019-01-26 07:01:48, 2019-01-26 07:20:14, 2019-01-26 08:05:38)  \n",
       "0007559c1ff10c1cc934891055fa02cd302b05a2                                                                                                                                                                                                                                                                                                                                                                                                                                                                                                                                                                                                                                                                                                                                                                                                                                                                                                                                                                                               (2019-01-23 05:24:34, 2019-01-23 06:17:49)  \n",
       "0007fd434cbf10c9b268b04daad05dcda44ce92a                                                                                                                                                                                                                                                                                                                                                                                                                                                                                                                                                                                                                                                                                                                                                                                                                                                                                                                                                                                               (2019-01-28 14:26:01, 2019-01-28 14:36:59)  \n",
       "00081e97bb6dd4246a7ae5fff528a81630a80289                                                                                                                                                                                                                                                                                                                                                                                                                                                                                                                                                                                                                          (2019-01-23 08:14:27, 2019-01-23 08:38:48, 2019-02-05 17:37:07, 2019-02-06 06:04:45, 2019-02-06 06:25:52, 2019-02-06 11:28:28, 2019-02-06 11:48:49, 2019-02-06 13:17:44, 2019-02-07 09:00:00, 2019-02-07 09:52:52, 2019-02-07 10:13:07, 2019-02-07 14:43:15, 2019-02-07 14:54:51, 2019-02-08 10:23:24, 2019-02-08 10:43:52, 2019-02-08 11:20:49, 2019-02-08 13:23:47, 2019-02-12 13:54:32, 2019-02-12 14:08:14)  \n",
       "000921e0c65380cb190699a883b205490d3558dc                                                                                                                                                                                                                                                                                                                                                                                                                                                                                                                                                                                                                                                                                                                                                                                                                                                                                                                                                                          (2019-01-23 23:12:07, 2019-01-31 10:46:59, 2019-02-04 11:03:51)  \n",
       "00098e32d63631ff3402629e147dcb11af2fc078                                                                                                                                                                                                                                                                                                                                                                                                                                                                                                                                                                                                                                                                                                                                                                                                                                                                                                                                                                                                                   (2019-01-26 06:44:48,)  \n",
       "000a53995df1306823b61a4e9cbdb6a0f9d40c96                                                                                                                                                                                                                                                                                                                                                                                                                                                                                                                                                                                                                                                                                                                                                                                                                                                                                                                                                     (2019-01-25 04:50:41, 2019-02-07 14:09:57, 2019-02-07 14:28:45, 2019-02-07 15:16:05)  \n",
       "000ae170fb449ee909bfe1898b02731a17772be2                                                                                                                                                                                                                                                                                                                                                                                                                                                                                                                                                                                                                                                                                                                                                                                                                                                                                                                                                                                               (2019-01-29 14:19:19, 2019-01-30 15:11:31)  \n",
       "000b2578fb1e88f7d50dd23559b96477bb8975ae                                                                                                                                                                                                                                                                                                                                                                                                                                                                                                                                                                                                                                                                                                                                                                                                                                            (2019-01-24 14:08:05, 2019-01-24 14:25:30, 2019-01-30 06:22:40, 2019-02-04 13:59:13, 2019-02-04 14:16:16, 2019-02-08 05:28:35, 2019-02-08 05:48:00, 2019-02-11 16:59:32, 2019-02-11 17:18:10)  \n",
       "000c322e01ce7d37f030ca853d609bacb53c714e                                                                                                                                                                                                                                                                                                                                                                                                                                                                                                                                                                                                                                                                                                                                                                                                                                                                                                           (2019-01-28 06:12:01, 2019-01-28 07:04:12, 2019-01-28 09:29:58, 2019-01-29 11:05:51, 2019-02-04 09:00:21, 2019-02-12 08:21:12)  \n",
       "000c365d8e8db26e5abeddd1b16c3c10f7f5cc6e                                                                                                                                                                                                                                                                                                                                                                                                                                                                                                                                                                                                                                                                                                                                                                                                                                                                                                                                                                                                                   (2019-01-30 11:25:49,)  \n",
       "000d4afbe2a3f98606ec70681bac7870b2957c67                                                                                                                                                                                                                                                                                                                                                                                                                                                                                                                                                                                                                                                                                                                                                                                                                                                                                                                                                                                                                   (2019-02-08 17:59:20,)  \n",
       "000da5097dd76cce6a9459ad5439c324fb72ba19                                                                                                                                                                                                                                                                                                                                                                                                                                                                                                                                                                                                                                                                                                                                                                                                                                                                                                                                (2019-01-26 06:44:49, 2019-01-26 07:02:38, 2019-01-26 07:47:11, 2019-02-06 04:37:18, 2019-02-06 05:24:23)  \n",
       "000f58e063f38fcfda697b5a50a821a52572198b                                                                                                                                                                                                                                                                                                                                                                                                                                                                                                                                                                                                                                                                                                                                                                                                                                                                                                                                                                                                                   (2019-02-13 11:46:54,)  \n",
       "000f5a27c79a56020e9794a19f62971ee52a37e0                                                                                                                                                                                                                                                                                                                                                                                                                                                                                                                                                                                                                                                                                                                                                                                                                                                                                                                                                                          (2019-02-12 18:19:41, 2019-02-13 05:17:37, 2019-02-13 16:44:23)  \n",
       "000f5af85b8d62100869ec6106f479714a50afbd                                                                                                                                                                                                                                                                                                                                                                                                                                                                                                                                                                                                                                                                                                                                                                                                                                                                                                                                                                          (2019-01-26 11:09:51, 2019-01-30 13:51:41, 2019-02-02 11:48:23)  \n",
       "0010d8bc6f3d75f39ca5010829f523c634f09808                                                                                                                                                                                                                                                                                                                                                                                                                                                                                                                                                                                                                                                                                                                                                                                                                                                                                                                                                                          (2019-02-11 22:12:54, 2019-02-11 22:30:16, 2019-02-12 08:07:08)  \n",
       "0011bb370f0e5397521c9157bdeda2aaae301939                                                                                                                                                                                                                                                                                                                                                                                                                                                                                                                                                                                                                                                                                                                                                                                                                                                                                                                                                                                                                   (2019-02-01 15:58:35,)  \n",
       "001248808afdea1e42f9cebcf833ba8aad5a6808                                                                                                                                                                                                                                                                                                                                                                                                                                                                                                                                                                                                                                                                                                                                                                                                                                                                                                                                                                                               (2019-01-31 06:30:09, 2019-01-31 07:14:17)  \n",
       "0013b7f9b8a4c434f538051ef75ec9b368d00023                                                                                                                                                                                                                                                                                                                                                                                                                                                                                                                                                                                                                                                                                                                                                                                                                                                                                                                                                                          (2019-02-06 14:26:03, 2019-02-07 08:20:58, 2019-02-07 09:11:06)  \n",
       "0013ca4e9939137bc5f2784c40fd9e4d549685c6                                                                                                                                                                                                                                                                                                                                                                                                                                                                                                                                                                                                                                                                                                                                                                                                                                                                                                                                                                          (2019-01-26 22:13:20, 2019-01-26 22:31:21, 2019-01-26 23:15:27)  \n",
       "001450d354964650ddf5a06395b78919cb34317d                                                                                                                                                                                                                                                                                                                                                                                                                                                                                                                                                                                                                                                                                                                                                                                                                                                                                                                                                                                                                   (2019-02-06 12:44:48,)  \n",
       "001615708809cf117b58d75d61d8f6eb5a2b0390                                                                                                                                                                                                                                                                                                                                                                                                                                                                                                                                                                                                                                                                                                                                                                                                                                                                                                           (2019-01-29 20:10:45, 2019-01-30 07:58:56, 2019-01-30 09:14:50, 2019-01-30 09:29:27, 2019-01-31 17:20:16, 2019-01-31 17:41:14)  \n",
       "001646dce3bbc7ff8f16085aaf4a528f332cb59c                                                                                                                                                                                                                                                                                                                                                                                                                                                                                                                                                                                                                                                                                                                                                                                                                                                                                                                                                                                               (2019-01-30 05:18:54, 2019-02-02 05:22:39)  \n",
       "00164c951c1db28a5ad5eabacac921d7ec571bf5                                                                                                                                                                                                                                                                                                                                                                                                                                                                                                                                                                                                                                                                                                                                                                                                                                                                                                                                                                                               (2019-01-26 21:43:11, 2019-01-27 11:29:53)  \n",
       "0016dfc6d58e689b427fa452097c535b5767c4cd                                                                                                                                                                                                                                                                                                                                                                                                                                                                                                                                                                                                                                                                                                                                                                                                                                                                                                                                                                                                                   (2019-01-28 15:53:17,)  \n",
       "...                                                                                                                                                                                                                                                                                                                                                                                                                                                                                                                                                                                                                                                                                                                                                                                                                                                                                                                                                                                                                                                                           ...  \n",
       "ffeffff1920e647350fb589e80c23a6ff7d61440                                                                                                                                                                                                                                                                                                                                                                                                                                                                                                                                                                                                                                                                                                                                                                                                                                                                                                                                                                                                                   (2019-01-28 08:20:44,)  \n",
       "fff058cc70f211500300afde3e732f46a33e7868                                                                                                                                                                                                                                                                                                                                                                                                                                                                                                                                                                                                                                                                                                                                                                                                                                                                                                           (2019-01-23 13:42:30, 2019-01-23 13:56:30, 2019-01-23 16:55:35, 2019-01-24 09:26:32, 2019-01-24 09:37:58, 2019-01-24 10:04:21)  \n",
       "fff0616b1bb02c1808dbe3e84b18cea9d0c5c4c0                                                                                                                                                                                                                                                                                                                                                                                                                                                                                                                                                                                                                                                                                                                                                                                                  (2019-01-23 12:07:39, 2019-01-23 16:02:25, 2019-01-23 16:16:14, 2019-01-26 11:23:27, 2019-01-26 11:46:05, 2019-01-26 16:09:23, 2019-01-26 16:20:49, 2019-02-12 16:21:56, 2019-02-13 08:02:20, 2019-02-13 11:49:14, 2019-02-13 12:01:04)  \n",
       "fff0830132e777fd9cba3840a7ccf71e14516bc5                                                                                                                                                                                                                                                                                                                                                                                                                                                                                                                                                                                                                                                                                                                                                                                                                                            (2019-02-02 17:45:29, 2019-02-03 18:33:31, 2019-02-03 18:43:59, 2019-02-08 09:27:52, 2019-02-08 09:38:20, 2019-02-09 17:47:09, 2019-02-12 08:04:02, 2019-02-12 16:54:20, 2019-02-13 10:25:54)  \n",
       "fff0b82e2090cec293b3c1739c90c567223c4a8e                                                                                                                                                                                                                                                                                                                                                                                                                                                                                                                                                                                                                                                                                                                                                                                                                                                                                                                                                                                               (2019-01-23 06:46:44, 2019-01-26 07:49:28)  \n",
       "fff14cf17d32d2ef1e1ae27752a4931b9ea847eb                                                                                                                                                                                                                                                                                                                                                                                                                                                                                                                                                                                                                                                                                                                                                                                                                       (2019-01-23 04:22:32, 2019-01-25 05:18:56, 2019-01-25 06:24:57, 2019-01-25 21:11:54, 2019-01-29 03:58:50, 2019-01-29 05:01:55, 2019-01-30 04:08:11, 2019-01-30 04:56:05, 2019-02-01 03:50:50, 2019-02-01 04:38:17)  \n",
       "fff17c8cf5576b584b5d6083ce2ef797899565a0                                                                                                                                                                                                                                                                                                                                                                                                                                                                                                                                                                                                                                                                                                                                                                                                                                                                                                                                                                                                                   (2019-01-23 13:17:16,)  \n",
       "fff1e1386b46a52041f417b71fdc45143551b864  (2019-01-23 01:36:29, 2019-01-23 01:58:24, 2019-01-23 04:58:53, 2019-01-23 05:19:38, 2019-01-23 06:03:11, 2019-01-23 10:14:43, 2019-01-23 13:27:12, 2019-01-24 05:27:00, 2019-01-24 08:15:10, 2019-01-24 10:22:28, 2019-01-24 12:26:49, 2019-01-24 18:50:37, 2019-01-25 17:35:19, 2019-01-25 17:58:00, 2019-01-25 18:50:47, 2019-01-25 19:01:56, 2019-01-26 01:23:58, 2019-01-26 01:46:02, 2019-01-28 05:40:46, 2019-01-28 06:03:06, 2019-01-28 06:51:38, 2019-01-28 14:57:39, 2019-01-28 15:51:38, 2019-01-28 18:51:38, 2019-01-28 19:02:23, 2019-01-29 01:27:38, 2019-01-29 04:57:59, 2019-01-29 05:08:56, 2019-01-29 15:33:07, 2019-01-29 15:58:51, 2019-01-29 18:42:53, 2019-01-30 09:10:13, 2019-01-30 13:46:35, 2019-01-30 15:15:10, 2019-01-30 18:49:35, 2019-01-30 19:00:24, 2019-01-31 01:24:07, 2019-01-31 01:46:02, 2019-01-31 04:30:43, 2019-01-31 05:38:48, 2019-01-31 12:57:39, 2019-01-31 13:14:44, 2019-01-31 18:51:53, 2019-01-31 19:02:39, 2019-02-01 01:26:33, 2019-02-01 01:48:29, 2019-02-01 04:21:19, 2019-02-...  \n",
       "fff2ac44e52448afe44cf881926a274cd1de4c1c                                                                                                                                                                                                                                                                                                                                                                                                                                                                                                                                                                                                                                                                                                                                                                                                                                                                                                                                                                                               (2019-02-04 09:41:09, 2019-02-10 19:34:22)  \n",
       "fff2ee8648a3979f0696f24e3ebde85e618c870d                                                                                                                                                                                                                                                                                                                                                                                                                                                                                                                                                                                                                                                                                                                                                                                                                                                                                                                                (2019-01-25 02:58:19, 2019-01-25 03:52:15, 2019-02-07 21:25:45, 2019-02-07 21:44:33, 2019-02-07 22:14:59)  \n",
       "fff3258af8ea0487fe2d5ff841115fb9aad86e34                                                                                                                                                                                                                                                                                                                                                                                                                                                                                                                                                                                                                                                                                                                                                                                                                                                                 (2019-01-28 10:40:40, 2019-01-29 15:38:38, 2019-01-29 16:20:21, 2019-02-05 13:47:54, 2019-02-05 14:36:14, 2019-02-05 16:00:08, 2019-02-06 07:49:01, 2019-02-06 08:30:11)  \n",
       "fff37438f1508b51498d995407af07b11db87c9c                                                                                                                                                                                                                                                                                                                                                                                                                                                                                                                                                                                                                                                                                                                                                                                                                                                                                                                                                                                               (2019-02-10 22:25:43, 2019-02-10 22:55:30)  \n",
       "fff3a83528e3acb229307e603f813d7b6a97bd0a                                                                                                                                                                                                                                                                                                                                                                                                                                                                                                                                                                                                                                                                                                                                                                                                                                                                                                                                                                          (2019-01-29 04:27:41, 2019-01-29 04:47:05, 2019-01-29 14:54:51)  \n",
       "fff49e2325ac931d0ff1700e4dfb6e301cca45f5                                                                                                                                                                                                                                                                                                                                                                                                                                                                                                                                                                                                                                                                                                                                                                                                                                                                                                                                                                                               (2019-01-30 06:36:36, 2019-01-30 10:33:11)  \n",
       "fff4c53c70b2457d0232193c2f3d02dc5f24d76e                                                                                                                                                                                                                                                                                                                                                                                                                                                                                                                                                                                                                                                                                                                                                                                                                                                                                                                                                                                                                   (2019-01-30 19:52:37,)  \n",
       "fff4e64cbe6200d01835f5deb39b9ca575f7db48                                                                                                                                                                                                                                                                                                                                                                                                                                                                                                                                                                                                                                                                                                                                                                                                                                                                                                                                                                                                                   (2019-02-05 08:36:41,)  \n",
       "fff50c41634f472f02805c95d322f281c8c70ce1                                                                                                                                                                                                                                                                                                                                                                                                                                                                                                                                                                                                                                                                                                                                                                                                                                                                                                                                                                          (2019-01-29 17:05:23, 2019-01-29 18:30:19, 2019-01-29 18:51:02)  \n",
       "fff7236e608f401465917eb4027de08b45a8a2e3                                                                                                                                                                                                                                                                                                                                                                                                                                                                                                                                                                                                                                                                                                                                                                                                                                                                                                                                                     (2019-02-08 05:12:10, 2019-02-08 06:17:50, 2019-02-08 07:47:55, 2019-02-08 09:39:16)  \n",
       "fff78422b8c423c67fce11731b661bfbe57578c8                                                                                                                                                                                                                                                                                                                                                                                                                                                                                                                                                                                                                                                                                                                                                                                                                                                                                                                                                                                               (2019-01-30 15:51:21, 2019-01-30 17:02:04)  \n",
       "fff7c4494d0df50712d791456848aa0243be79ac                                                                                                                                                                                                                                                                                                                                                                                                                                                                                                                                                                                                                                                                                                                                                                                                                                                                                                                                                                          (2019-02-05 10:29:42, 2019-02-05 10:49:41, 2019-02-05 11:37:54)  \n",
       "fff90ae37485f426140a179b015bfc4ca7115528                                                                                                                                                                                                                                                                                                                                                                                                                                                                                                                                                                                                                                                                                                                                                                                                                                                                 (2019-01-25 17:34:53, 2019-01-25 18:37:01, 2019-01-31 13:40:42, 2019-02-01 14:33:24, 2019-02-01 18:17:29, 2019-02-01 19:05:44, 2019-02-13 09:56:47, 2019-02-13 10:23:07)  \n",
       "fff93f1fc6988eb6b2df0c3dbc237313d80c4c94                                                                                                                                                                                                                                                                                                                                                                                                                                                                                                                                                                                                                                                                                                                                                                                                                                                                                                                                                                          (2019-02-05 10:54:57, 2019-02-05 11:09:02, 2019-02-12 09:20:32)  \n",
       "fff99f2b746246511f3fdafa290724a1cf879639                                                                                                                                                                                                                                                                                                                                                                                                                                                                                                                                                                                                                                                                                                                                                                                                                                                                                                                                                                                                                   (2019-02-05 11:38:45,)  \n",
       "fffb23afad5b41c477ded865d7b3e53d8d036928                                                                                                                                                                                                                                                                                                                                                                                                                                                                                                                                                                                                                                                                                                                                                                                                                       (2019-01-24 17:16:12, 2019-01-28 11:11:11, 2019-01-28 11:22:16, 2019-01-31 15:05:59, 2019-01-31 16:39:28, 2019-02-04 11:10:29, 2019-02-05 15:50:57, 2019-02-05 16:34:54, 2019-02-06 10:47:41, 2019-02-11 07:05:22)  \n",
       "fffb3f82bd618c3b956ad2ef058cd4bd581072e7                                                                                                                                                                                                                                                                                                                                                                                                                                                                                                                                                                                                                                                                                                                                                                                                                                                                                                                                                                          (2019-01-24 13:39:35, 2019-01-27 04:15:47, 2019-01-27 05:18:15)  \n",
       "fffc52d900fc8a7b3fc5a3b6c99ce7d4478b54eb                                                                                                                                                                                                                                                                                                                                                                                                                                                                                                                                                                                                                                                                                                                                                                                                                                                                                                                                                                                               (2019-01-25 03:54:00, 2019-01-25 04:56:50)  \n",
       "fffd0ee3b7e0c3c3d61c1afecaa94995e030f2bb                                                                                                                                                                                                                                                                                                                                                                                                                                                                                                                                                                                                                                                                                                                                                                                                                                                                                                                                                     (2019-01-23 13:35:09, 2019-01-23 15:28:59, 2019-01-25 03:50:10, 2019-01-25 04:39:54)  \n",
       "fffef660d807fc91444f7305cf22925eca47bd29                                                                                                                                                                                                                                                                                                                                                                                                                                                                                                                                                                                                                                                                                                                                                                                                                                                                                                                                                                          (2019-02-04 07:48:21, 2019-02-04 08:54:24, 2019-02-04 09:19:10)  \n",
       "ffff319129e9e44662017e0cf13411748760dcbc                                                                                                                                                                                                                                                                                                                                                                                                                                                                                                                                                                                                                                                                                                                                                                                                                                                                                                                                                                                               (2019-02-13 09:10:47, 2019-02-13 10:57:09)  \n",
       "ffffcdba38fad957730f25d7876e110e74f9493b                                                                                                                                                                                                                                                                                                                                                                                                                                                                                                                                                                                                                                                                                                                                                                                                                                                                                                                                                                          (2019-01-25 18:51:11, 2019-01-30 18:49:40, 2019-02-11 16:51:57)  \n",
       "\n",
       "[104010 rows x 2 columns]"
      ]
     },
     "execution_count": 18,
     "metadata": {},
     "output_type": "execute_result"
    }
   ],
   "source": [
    "tata"
   ]
  },
  {
   "cell_type": "code",
   "execution_count": 20,
   "metadata": {},
   "outputs": [
    {
     "data": {
      "text/html": [
       "<div>\n",
       "<style scoped>\n",
       "    .dataframe tbody tr th:only-of-type {\n",
       "        vertical-align: middle;\n",
       "    }\n",
       "\n",
       "    .dataframe tbody tr th {\n",
       "        vertical-align: top;\n",
       "    }\n",
       "\n",
       "    .dataframe thead th {\n",
       "        text-align: right;\n",
       "    }\n",
       "</style>\n",
       "<table border=\"1\" class=\"dataframe\">\n",
       "  <thead>\n",
       "    <tr style=\"text-align: right;\">\n",
       "      <th></th>\n",
       "      <th>index</th>\n",
       "      <th>camera_id</th>\n",
       "      <th>immat</th>\n",
       "      <th>fiability</th>\n",
       "      <th>l</th>\n",
       "      <th>state</th>\n",
       "    </tr>\n",
       "    <tr>\n",
       "      <th>created</th>\n",
       "      <th></th>\n",
       "      <th></th>\n",
       "      <th></th>\n",
       "      <th></th>\n",
       "      <th></th>\n",
       "      <th></th>\n",
       "    </tr>\n",
       "  </thead>\n",
       "  <tbody>\n",
       "    <tr>\n",
       "      <th>2019-01-25 03:54:00</th>\n",
       "      <td>5900202</td>\n",
       "      <td>15</td>\n",
       "      <td>fffc52d900fc8a7b3fc5a3b6c99ce7d4478b54eb</td>\n",
       "      <td>99</td>\n",
       "      <td>1.0</td>\n",
       "      <td>BE</td>\n",
       "    </tr>\n",
       "    <tr>\n",
       "      <th>2019-01-25 04:56:50</th>\n",
       "      <td>904260</td>\n",
       "      <td>4</td>\n",
       "      <td>fffc52d900fc8a7b3fc5a3b6c99ce7d4478b54eb</td>\n",
       "      <td>58</td>\n",
       "      <td>1.0</td>\n",
       "      <td>BE</td>\n",
       "    </tr>\n",
       "    <tr>\n",
       "      <th>2019-01-27 11:55:40</th>\n",
       "      <td>6885387</td>\n",
       "      <td>6</td>\n",
       "      <td>fffc52d900fc8a7b3fc5a3b6c99ce7d4478b54eb</td>\n",
       "      <td>99</td>\n",
       "      <td>1.0</td>\n",
       "      <td>BE</td>\n",
       "    </tr>\n",
       "    <tr>\n",
       "      <th>2019-01-27 12:06:50</th>\n",
       "      <td>701187</td>\n",
       "      <td>3</td>\n",
       "      <td>fffc52d900fc8a7b3fc5a3b6c99ce7d4478b54eb</td>\n",
       "      <td>99</td>\n",
       "      <td>1.0</td>\n",
       "      <td>BE</td>\n",
       "    </tr>\n",
       "    <tr>\n",
       "      <th>2019-01-27 12:26:00</th>\n",
       "      <td>1184558</td>\n",
       "      <td>18</td>\n",
       "      <td>fffc52d900fc8a7b3fc5a3b6c99ce7d4478b54eb</td>\n",
       "      <td>58</td>\n",
       "      <td>1.0</td>\n",
       "      <td>BE</td>\n",
       "    </tr>\n",
       "    <tr>\n",
       "      <th>2019-01-27 13:11:31</th>\n",
       "      <td>1774968</td>\n",
       "      <td>13</td>\n",
       "      <td>fffc52d900fc8a7b3fc5a3b6c99ce7d4478b54eb</td>\n",
       "      <td>99</td>\n",
       "      <td>1.0</td>\n",
       "      <td>BE</td>\n",
       "    </tr>\n",
       "  </tbody>\n",
       "</table>\n",
       "</div>"
      ],
      "text/plain": [
       "                       index  camera_id  \\\n",
       "created                                   \n",
       "2019-01-25 03:54:00  5900202         15   \n",
       "2019-01-25 04:56:50   904260          4   \n",
       "2019-01-27 11:55:40  6885387          6   \n",
       "2019-01-27 12:06:50   701187          3   \n",
       "2019-01-27 12:26:00  1184558         18   \n",
       "2019-01-27 13:11:31  1774968         13   \n",
       "\n",
       "                                                        immat  fiability    l  \\\n",
       "created                                                                         \n",
       "2019-01-25 03:54:00  fffc52d900fc8a7b3fc5a3b6c99ce7d4478b54eb         99  1.0   \n",
       "2019-01-25 04:56:50  fffc52d900fc8a7b3fc5a3b6c99ce7d4478b54eb         58  1.0   \n",
       "2019-01-27 11:55:40  fffc52d900fc8a7b3fc5a3b6c99ce7d4478b54eb         99  1.0   \n",
       "2019-01-27 12:06:50  fffc52d900fc8a7b3fc5a3b6c99ce7d4478b54eb         99  1.0   \n",
       "2019-01-27 12:26:00  fffc52d900fc8a7b3fc5a3b6c99ce7d4478b54eb         58  1.0   \n",
       "2019-01-27 13:11:31  fffc52d900fc8a7b3fc5a3b6c99ce7d4478b54eb         99  1.0   \n",
       "\n",
       "                    state  \n",
       "created                    \n",
       "2019-01-25 03:54:00    BE  \n",
       "2019-01-25 04:56:50    BE  \n",
       "2019-01-27 11:55:40    BE  \n",
       "2019-01-27 12:06:50    BE  \n",
       "2019-01-27 12:26:00    BE  \n",
       "2019-01-27 13:11:31    BE  "
      ]
     },
     "execution_count": 20,
     "metadata": {},
     "output_type": "execute_result"
    }
   ],
   "source": [
    "df_passages_pl.loc[df_passages_pl['immat']=='fffc52d900fc8a7b3fc5a3b6c99ce7d4478b54eb']"
   ]
  },
  {
   "cell_type": "code",
   "execution_count": 1,
   "metadata": {},
   "outputs": [
    {
     "ename": "NameError",
     "evalue": "name 'df_passages_pl' is not defined",
     "output_type": "error",
     "traceback": [
      "\u001b[1;31m---------------------------------------------------------------------------\u001b[0m",
      "\u001b[1;31mNameError\u001b[0m                                 Traceback (most recent call last)",
      "\u001b[1;32m<ipython-input-1-b99df5f5c137>\u001b[0m in \u001b[0;36m<module>\u001b[1;34m\u001b[0m\n\u001b[1;32m----> 1\u001b[1;33m \u001b[0mdf_passages_pl\u001b[0m\u001b[1;33m.\u001b[0m\u001b[0mhead\u001b[0m\u001b[1;33m(\u001b[0m\u001b[1;36m5\u001b[0m\u001b[1;33m)\u001b[0m\u001b[1;33m\u001b[0m\u001b[0m\n\u001b[0m",
      "\u001b[1;31mNameError\u001b[0m: name 'df_passages_pl' is not defined"
     ]
    }
   ],
   "source": [
    "df_passages_pl.head(5)"
   ]
  },
  {
   "cell_type": "markdown",
   "metadata": {},
   "source": [
    "# 2. Identifier les trajets de transit"
   ]
  },
  {
   "cell_type": "code",
   "execution_count": 13,
   "metadata": {},
   "outputs": [
    {
     "name": "stdout",
     "output_type": "stream",
     "text": [
      "date : 2019-01-23 00:00:00 debut_traitement : 2019-05-24 10:58:38.027480\n",
      "date : 2019-01-24 00:00:00 debut_traitement : 2019-05-24 10:59:34.965139\n",
      "date : 2019-01-25 00:00:00 debut_traitement : 2019-05-24 11:00:31.670379\n",
      "date : 2019-01-26 00:00:00 debut_traitement : 2019-05-24 11:01:27.828827\n",
      "date : 2019-01-27 00:00:00 debut_traitement : 2019-05-24 11:02:17.891721\n",
      "date : 2019-01-28 00:00:00 debut_traitement : 2019-05-24 11:02:59.142837\n",
      "date : 2019-01-29 00:00:00 debut_traitement : 2019-05-24 11:04:10.270731\n",
      "date : 2019-01-30 00:00:00 debut_traitement : 2019-05-24 11:05:32.797048\n",
      "date : 2019-01-31 00:00:00 debut_traitement : 2019-05-24 11:06:54.723870\n",
      "date : 2019-02-01 00:00:00 debut_traitement : 2019-05-24 11:08:22.452906\n",
      "date : 2019-02-02 00:00:00 debut_traitement : 2019-05-24 11:10:00.179550\n",
      "date : 2019-02-03 00:00:00 debut_traitement : 2019-05-24 11:11:32.141981\n",
      "date : 2019-02-04 00:00:00 debut_traitement : 2019-05-24 11:12:48.264378\n",
      "date : 2019-02-05 00:00:00 debut_traitement : 2019-05-24 11:14:44.752166\n",
      "date : 2019-02-06 00:00:00 debut_traitement : 2019-05-24 11:16:59.539307\n",
      "date : 2019-02-07 00:00:00 debut_traitement : 2019-05-24 11:19:04.102921\n",
      "date : 2019-02-08 00:00:00 debut_traitement : 2019-05-24 11:21:32.995288\n",
      "date : 2019-02-09 00:00:00 debut_traitement : 2019-05-24 11:24:07.249536\n",
      "date : 2019-02-10 00:00:00 debut_traitement : 2019-05-24 11:26:27.528448\n",
      "date : 2019-02-11 00:00:00 debut_traitement : 2019-05-24 11:28:33.471980\n",
      "date : 2019-02-12 00:00:00 debut_traitement : 2019-05-24 11:31:22.197301\n",
      "date : 2019-02-13 00:00:00 debut_traitement : 2019-05-24 11:34:18.554102\n"
     ]
    }
   ],
   "source": [
    "dico_od,  dico_passag, dico_tps_max=t.transit_temps_complet('2019-01-23 00:00:00',22,df_passages_immat_ok)"
   ]
  },
  {
   "cell_type": "markdown",
   "metadata": {},
   "source": [
    "# 3. Filtrer les trajets selon un temps de parcours"
   ]
  },
  {
   "cell_type": "markdown",
   "metadata": {},
   "source": [
    "***Dataframe des temps de parcours de base***"
   ]
  },
  {
   "cell_type": "code",
   "execution_count": 23,
   "metadata": {},
   "outputs": [
    {
     "name": "stdout",
     "output_type": "stream",
     "text": [
      "Wall time: 2.73 s\n"
     ]
    }
   ],
   "source": [
    "%time dixco_tpsmax_corrige=t.corriger_df_tps_parcours(dico_tps_max)"
   ]
  },
  {
   "cell_type": "markdown",
   "metadata": {},
   "source": [
    "***Ajout de l'attribut drapeau d'identification du trafic de transit selon une marge***<br> dico de stockage des differents cas"
   ]
  },
  {
   "cell_type": "code",
   "execution_count": 24,
   "metadata": {},
   "outputs": [],
   "source": [
    "%%time\n",
    "dico_df_transit={'df_transit_marge'+str(i):t.jointure_temps_reel_theorique(dico_od,dixco_tpsmax_corrige,t.liste_complete_trajet, i) for i in [15,30,45,600] }"
   ]
  },
  {
   "cell_type": "code",
   "execution_count": 55,
   "metadata": {},
   "outputs": [],
   "source": [
    "#exemple de visu sur 3 semaines\n",
    "for od in dico_df_transit['df_transit_marge15]'.o_d.unique(): \n",
    "    chemin=os.path.join(r'Q:\\DAIT\\TI\\DREAL33\\2018\\C17SI0073_LAPI\\Traitements\\python\\graphs\\transit_J_OD\\marge_15_min',f'{od}.svg')\n",
    "    g.graph_transit_filtre_multiple(df_transit_avec_filtre_marge30, \n",
    "                                '2019-01-23 00:00:00', '2019-01-23 23:59:59',od, 1).save(chemin)"
   ]
  },
  {
   "cell_type": "markdown",
   "metadata": {},
   "source": [
    "***Filtre des données***"
   ]
  },
  {
   "cell_type": "code",
   "execution_count": 95,
   "metadata": {},
   "outputs": [],
   "source": [
    "%%time\n",
    "dico_od_base_marge600=df_transit_avec_filtre_marge600.loc[df_transit_avec_filtre_marge600['filtre_tps']==1]\n",
    "#dico_passag_final_30=t.trajet2passage(dico_od_base_marge30,dico_passag)"
   ]
  },
  {
   "cell_type": "markdown",
   "metadata": {},
   "source": [
    "***Extrapolation des trafic de transit selon la methode de prediction***"
   ]
  },
  {
   "cell_type": "code",
   "execution_count": 95,
   "metadata": {},
   "outputs": [
    {
     "name": "stdout",
     "output_type": "stream",
     "text": [
      "Wall time: 141 ms\n"
     ]
    }
   ],
   "source": [
    "liste_od_ok=['A660-A62','A62-A63','A63-A62','A62-A10','A660-N10', 'A660-A10','N10-A63','A62-N10']\n",
    "for od in [x for x in df_transit_avec_filtre.o_d.unique().tolist() if x not in liste_od_ok ] : \n",
    "    for date in set([a[0].strftime('%Y-%m-%d') for a in t.creer_liste_date('2019-01-31',11)]):\n",
    "        try : \n",
    "            df_transit_avec_filtre=t.predire_type_trajet(df_transit_avec_filtre,od, date,600,35)\n",
    "        except ValueError : \n",
    "            continue"
   ]
  },
  {
   "cell_type": "markdown",
   "metadata": {},
   "source": [
    "# 4. Correction des trajets depuis ou vers A660 relatifs à A63"
   ]
  },
  {
   "cell_type": "code",
   "execution_count": 14,
   "metadata": {},
   "outputs": [
    {
     "name": "stdout",
     "output_type": "stream",
     "text": [
      "Wall time: 21min 10s\n"
     ]
    }
   ],
   "source": [
    "%time df_od_corrige=t.correction_trajet(dico_passag_final, dico_od_base_marge15)"
   ]
  },
  {
   "cell_type": "markdown",
   "metadata": {},
   "source": [
    "# 5. Extrapolation des trajets non complets"
   ]
  },
  {
   "cell_type": "code",
   "execution_count": 15,
   "metadata": {},
   "outputs": [
    {
     "name": "stdout",
     "output_type": "stream",
     "text": [
      "Wall time: 59.1 s\n"
     ]
    }
   ],
   "source": [
    "#creer les donnees necessaires\n",
    "%time df_filtre_A63,df_passage_transit,df_non_transit=t.param_trajet_incomplet('2019-01-28 00:00:00',df_od_corrige,df_passages2,dico_passag)"
   ]
  },
  {
   "cell_type": "code",
   "execution_count": 18,
   "metadata": {},
   "outputs": [
    {
     "name": "stdout",
     "output_type": "stream",
     "text": [
      "date : 2019-01-31 00:00:00 debut_traitement : 2019-05-16 21:13:50.615971\n",
      "date : 2019-02-01 00:00:00 debut_traitement : 2019-05-16 21:15:37.979249\n",
      "date : 2019-02-02 00:00:00 debut_traitement : 2019-05-16 21:16:40.077915\n",
      "date : 2019-02-03 00:00:00 debut_traitement : 2019-05-16 21:17:03.510637\n",
      "date : 2019-02-04 00:00:00 debut_traitement : 2019-05-16 21:17:23.077283\n",
      "date : 2019-02-05 00:00:00 debut_traitement : 2019-05-16 21:18:07.226284\n",
      "date : 2019-02-06 00:00:00 debut_traitement : 2019-05-16 21:19:00.164409\n",
      "date : 2019-02-07 00:00:00 debut_traitement : 2019-05-16 21:19:45.334828\n",
      "date : 2019-02-08 00:00:00 debut_traitement : 2019-05-16 21:20:19.822434\n",
      "date : 2019-02-09 00:00:00 debut_traitement : 2019-05-16 21:20:45.965237\n",
      "date : 2019-02-10 00:00:00 debut_traitement : 2019-05-16 21:21:02.941735\n",
      "Wall time: 7min 28s\n"
     ]
    }
   ],
   "source": [
    "#trajet de transit incomplet sans filtre sur temps de parcours\n",
    "%time trajet_transit_incomplet2, passage2=t.transit_trajet_incomplet(df_filtre_A63,df_passage_transit,'2019-01-23 00:00:00',22, df_passages2)"
   ]
  },
  {
   "cell_type": "code",
   "execution_count": 19,
   "metadata": {},
   "outputs": [],
   "source": [
    "#filtrer selon le temps de parcours\n",
    "trajet_transit_incomplet_filtre_temps=t.jointure_temps_reel_theorique(trajet_transit_incomplet2,dixco_tpsmax_corrige,t.liste_trajet_incomplet, 15,'incomplet')\n",
    "#mettre en forme les attributs\n",
    "trajet_transit_incomplet_filtre_temps=trajet_transit_incomplet_filtre_temps[['date_cam_1', 'immat', 'state', 'l', 'date_cam_2', 'cameras', 'origine',\n",
    "       'destination', 'o_d', 'tps_parcours', 'period', 'date', 'temps', 'type',\n",
    "       'tps_parcours_theoriq', 'filtre_tps']]"
   ]
  },
  {
   "cell_type": "code",
   "execution_count": 20,
   "metadata": {},
   "outputs": [],
   "source": [
    "#filtrer le df : \n",
    "trajet_transit_incomplet_final=trajet_transit_incomplet_filtre_temps.loc[trajet_transit_incomplet_filtre_temps['filtre_tps']==1].copy()\n",
    "#ajouter l'attribut d'identification des trajets \n",
    "trajet_transit_incomplet_final['correction_o_d']=True\n",
    "trajet_transit_incomplet_final['correction_o_d_type']='extrapole'\n",
    "#6. Ajouter au df des o_d précédents : \n",
    "df_od_final=pd.concat([df_od_corrige,trajet_transit_incomplet_final],sort=False)"
   ]
  },
  {
   "cell_type": "markdown",
   "metadata": {},
   "source": [
    "# 6. Créer le tableaude matrice o_d"
   ]
  },
  {
   "cell_type": "code",
   "execution_count": 67,
   "metadata": {},
   "outputs": [
    {
     "data": {
      "text/html": [
       "<div>\n",
       "<style scoped>\n",
       "    .dataframe tbody tr th:only-of-type {\n",
       "        vertical-align: middle;\n",
       "    }\n",
       "\n",
       "    .dataframe tbody tr th {\n",
       "        vertical-align: top;\n",
       "    }\n",
       "\n",
       "    .dataframe thead th {\n",
       "        text-align: right;\n",
       "    }\n",
       "</style>\n",
       "<table border=\"1\" class=\"dataframe\">\n",
       "  <thead>\n",
       "    <tr style=\"text-align: right;\">\n",
       "      <th>destination</th>\n",
       "      <th>A10</th>\n",
       "      <th>A62</th>\n",
       "      <th>A63</th>\n",
       "      <th>A660</th>\n",
       "      <th>A89</th>\n",
       "      <th>N10</th>\n",
       "      <th>All</th>\n",
       "    </tr>\n",
       "    <tr>\n",
       "      <th>origine</th>\n",
       "      <th></th>\n",
       "      <th></th>\n",
       "      <th></th>\n",
       "      <th></th>\n",
       "      <th></th>\n",
       "      <th></th>\n",
       "      <th></th>\n",
       "    </tr>\n",
       "  </thead>\n",
       "  <tbody>\n",
       "    <tr>\n",
       "      <th>A10</th>\n",
       "      <td>NC</td>\n",
       "      <td>5534</td>\n",
       "      <td>8313</td>\n",
       "      <td>2005</td>\n",
       "      <td>308</td>\n",
       "      <td>NC</td>\n",
       "      <td>16160</td>\n",
       "    </tr>\n",
       "    <tr>\n",
       "      <th>A62</th>\n",
       "      <td>5491</td>\n",
       "      <td>NC</td>\n",
       "      <td>371</td>\n",
       "      <td>829</td>\n",
       "      <td>914</td>\n",
       "      <td>6910</td>\n",
       "      <td>14515</td>\n",
       "    </tr>\n",
       "    <tr>\n",
       "      <th>A63</th>\n",
       "      <td>7885</td>\n",
       "      <td>267</td>\n",
       "      <td>NC</td>\n",
       "      <td>NC</td>\n",
       "      <td>1914</td>\n",
       "      <td>41539</td>\n",
       "      <td>51605</td>\n",
       "    </tr>\n",
       "    <tr>\n",
       "      <th>A660</th>\n",
       "      <td>1921</td>\n",
       "      <td>715</td>\n",
       "      <td>NC</td>\n",
       "      <td>NC</td>\n",
       "      <td>922</td>\n",
       "      <td>7521</td>\n",
       "      <td>11079</td>\n",
       "    </tr>\n",
       "    <tr>\n",
       "      <th>A89</th>\n",
       "      <td>258</td>\n",
       "      <td>853</td>\n",
       "      <td>2585</td>\n",
       "      <td>1264</td>\n",
       "      <td>NC</td>\n",
       "      <td>NC</td>\n",
       "      <td>4960</td>\n",
       "    </tr>\n",
       "    <tr>\n",
       "      <th>N10</th>\n",
       "      <td>NC</td>\n",
       "      <td>4442</td>\n",
       "      <td>34111</td>\n",
       "      <td>6354</td>\n",
       "      <td>NC</td>\n",
       "      <td>NC</td>\n",
       "      <td>44907</td>\n",
       "    </tr>\n",
       "    <tr>\n",
       "      <th>All</th>\n",
       "      <td>15555</td>\n",
       "      <td>11811</td>\n",
       "      <td>45380</td>\n",
       "      <td>10452</td>\n",
       "      <td>4058</td>\n",
       "      <td>55970</td>\n",
       "      <td>143226</td>\n",
       "    </tr>\n",
       "  </tbody>\n",
       "</table>\n",
       "</div>"
      ],
      "text/plain": [
       "destination    A10    A62    A63   A660   A89    N10     All\n",
       "origine                                                     \n",
       "A10             NC   5534   8313   2005   308     NC   16160\n",
       "A62           5491     NC    371    829   914   6910   14515\n",
       "A63           7885    267     NC     NC  1914  41539   51605\n",
       "A660          1921    715     NC     NC   922   7521   11079\n",
       "A89            258    853   2585   1264    NC     NC    4960\n",
       "N10             NC   4442  34111   6354    NC     NC   44907\n",
       "All          15555  11811  45380  10452  4058  55970  143226"
      ]
     },
     "execution_count": 67,
     "metadata": {},
     "output_type": "execute_result"
    }
   ],
   "source": [
    "# de base (marge 15 min)\n",
    "df_od_ouvre_final=dico_od_base_marge15.loc[dico_od_base_marge15.set_index('date_cam_1').index.dayofweek<5]\n",
    "pivot_od_marge15_jo=pd.pivot_table(df_od_ouvre_final,values='l', index='origine', columns='destination',aggfunc='count', margins=True).fillna('NC')\n",
    "pivot_od_marge15_tot=pd.pivot_table(dico_od_base_marge15,values='l', index='origine', columns='destination',aggfunc='count', margins=True).fillna('NC')\n",
    "pivot_od_marge15_tot"
   ]
  },
  {
   "cell_type": "code",
   "execution_count": 79,
   "metadata": {},
   "outputs": [
    {
     "data": {
      "text/html": [
       "<div>\n",
       "<style scoped>\n",
       "    .dataframe tbody tr th:only-of-type {\n",
       "        vertical-align: middle;\n",
       "    }\n",
       "\n",
       "    .dataframe tbody tr th {\n",
       "        vertical-align: top;\n",
       "    }\n",
       "\n",
       "    .dataframe thead th {\n",
       "        text-align: right;\n",
       "    }\n",
       "</style>\n",
       "<table border=\"1\" class=\"dataframe\">\n",
       "  <thead>\n",
       "    <tr style=\"text-align: right;\">\n",
       "      <th>destination</th>\n",
       "      <th>A10</th>\n",
       "      <th>A62</th>\n",
       "      <th>A63</th>\n",
       "      <th>A660</th>\n",
       "      <th>A89</th>\n",
       "      <th>N10</th>\n",
       "      <th>All</th>\n",
       "    </tr>\n",
       "    <tr>\n",
       "      <th>origine</th>\n",
       "      <th></th>\n",
       "      <th></th>\n",
       "      <th></th>\n",
       "      <th></th>\n",
       "      <th></th>\n",
       "      <th></th>\n",
       "      <th></th>\n",
       "    </tr>\n",
       "  </thead>\n",
       "  <tbody>\n",
       "    <tr>\n",
       "      <th>A10</th>\n",
       "      <td>NC</td>\n",
       "      <td>318</td>\n",
       "      <td>420</td>\n",
       "      <td>102</td>\n",
       "      <td>18</td>\n",
       "      <td>NC</td>\n",
       "      <td>858</td>\n",
       "    </tr>\n",
       "    <tr>\n",
       "      <th>A62</th>\n",
       "      <td>319</td>\n",
       "      <td>NC</td>\n",
       "      <td>22</td>\n",
       "      <td>50</td>\n",
       "      <td>55</td>\n",
       "      <td>414</td>\n",
       "      <td>859</td>\n",
       "    </tr>\n",
       "    <tr>\n",
       "      <th>A63</th>\n",
       "      <td>399</td>\n",
       "      <td>16</td>\n",
       "      <td>NC</td>\n",
       "      <td>NC</td>\n",
       "      <td>105</td>\n",
       "      <td>2074</td>\n",
       "      <td>2594</td>\n",
       "    </tr>\n",
       "    <tr>\n",
       "      <th>A660</th>\n",
       "      <td>102</td>\n",
       "      <td>42</td>\n",
       "      <td>NC</td>\n",
       "      <td>NC</td>\n",
       "      <td>52</td>\n",
       "      <td>410</td>\n",
       "      <td>607</td>\n",
       "    </tr>\n",
       "    <tr>\n",
       "      <th>A89</th>\n",
       "      <td>15</td>\n",
       "      <td>51</td>\n",
       "      <td>141</td>\n",
       "      <td>71</td>\n",
       "      <td>NC</td>\n",
       "      <td>NC</td>\n",
       "      <td>279</td>\n",
       "    </tr>\n",
       "    <tr>\n",
       "      <th>N10</th>\n",
       "      <td>NC</td>\n",
       "      <td>260</td>\n",
       "      <td>1651</td>\n",
       "      <td>320</td>\n",
       "      <td>NC</td>\n",
       "      <td>NC</td>\n",
       "      <td>2232</td>\n",
       "    </tr>\n",
       "    <tr>\n",
       "      <th>All</th>\n",
       "      <td>835</td>\n",
       "      <td>688</td>\n",
       "      <td>2234</td>\n",
       "      <td>544</td>\n",
       "      <td>231</td>\n",
       "      <td>2898</td>\n",
       "      <td>7429</td>\n",
       "    </tr>\n",
       "  </tbody>\n",
       "</table>\n",
       "</div>"
      ],
      "text/plain": [
       "destination  A10  A62   A63 A660  A89   N10   All\n",
       "origine                                          \n",
       "A10           NC  318   420  102   18    NC   858\n",
       "A62          319   NC    22   50   55   414   859\n",
       "A63          399   16    NC   NC  105  2074  2594\n",
       "A660         102   42    NC   NC   52   410   607\n",
       "A89           15   51   141   71   NC    NC   279\n",
       "N10           NC  260  1651  320   NC    NC  2232\n",
       "All          835  688  2234  544  231  2898  7429"
      ]
     },
     "execution_count": 79,
     "metadata": {},
     "output_type": "execute_result"
    }
   ],
   "source": [
    "pivot_od_marge15_jo_j=pivot_od_marge15_jo.applymap(lambda x : round(x/16) if (isinstance(x,float) or isinstance(x,int)) else 'NC')\n",
    "pivot_od_marge15_jo_j"
   ]
  },
  {
   "cell_type": "code",
   "execution_count": 69,
   "metadata": {},
   "outputs": [
    {
     "data": {
      "text/html": [
       "<div>\n",
       "<style scoped>\n",
       "    .dataframe tbody tr th:only-of-type {\n",
       "        vertical-align: middle;\n",
       "    }\n",
       "\n",
       "    .dataframe tbody tr th {\n",
       "        vertical-align: top;\n",
       "    }\n",
       "\n",
       "    .dataframe thead th {\n",
       "        text-align: right;\n",
       "    }\n",
       "</style>\n",
       "<table border=\"1\" class=\"dataframe\">\n",
       "  <thead>\n",
       "    <tr style=\"text-align: right;\">\n",
       "      <th>destination</th>\n",
       "      <th>A10</th>\n",
       "      <th>A62</th>\n",
       "      <th>A63</th>\n",
       "      <th>A660</th>\n",
       "      <th>A89</th>\n",
       "      <th>N10</th>\n",
       "      <th>All</th>\n",
       "    </tr>\n",
       "    <tr>\n",
       "      <th>origine</th>\n",
       "      <th></th>\n",
       "      <th></th>\n",
       "      <th></th>\n",
       "      <th></th>\n",
       "      <th></th>\n",
       "      <th></th>\n",
       "      <th></th>\n",
       "    </tr>\n",
       "  </thead>\n",
       "  <tbody>\n",
       "    <tr>\n",
       "      <th>A10</th>\n",
       "      <td>NC</td>\n",
       "      <td>5713</td>\n",
       "      <td>9116</td>\n",
       "      <td>2128</td>\n",
       "      <td>320</td>\n",
       "      <td>NC</td>\n",
       "      <td>17277</td>\n",
       "    </tr>\n",
       "    <tr>\n",
       "      <th>A62</th>\n",
       "      <td>5772</td>\n",
       "      <td>NC</td>\n",
       "      <td>457</td>\n",
       "      <td>907</td>\n",
       "      <td>1003</td>\n",
       "      <td>7108</td>\n",
       "      <td>15247</td>\n",
       "    </tr>\n",
       "    <tr>\n",
       "      <th>A63</th>\n",
       "      <td>8579</td>\n",
       "      <td>295</td>\n",
       "      <td>NC</td>\n",
       "      <td>NC</td>\n",
       "      <td>2090</td>\n",
       "      <td>44031</td>\n",
       "      <td>54995</td>\n",
       "    </tr>\n",
       "    <tr>\n",
       "      <th>A660</th>\n",
       "      <td>2082</td>\n",
       "      <td>764</td>\n",
       "      <td>NC</td>\n",
       "      <td>NC</td>\n",
       "      <td>1027</td>\n",
       "      <td>7805</td>\n",
       "      <td>11678</td>\n",
       "    </tr>\n",
       "    <tr>\n",
       "      <th>A89</th>\n",
       "      <td>281</td>\n",
       "      <td>904</td>\n",
       "      <td>2922</td>\n",
       "      <td>1348</td>\n",
       "      <td>NC</td>\n",
       "      <td>NC</td>\n",
       "      <td>5455</td>\n",
       "    </tr>\n",
       "    <tr>\n",
       "      <th>N10</th>\n",
       "      <td>NC</td>\n",
       "      <td>4570</td>\n",
       "      <td>36173</td>\n",
       "      <td>6562</td>\n",
       "      <td>NC</td>\n",
       "      <td>NC</td>\n",
       "      <td>47305</td>\n",
       "    </tr>\n",
       "    <tr>\n",
       "      <th>All</th>\n",
       "      <td>16714</td>\n",
       "      <td>12246</td>\n",
       "      <td>48668</td>\n",
       "      <td>10945</td>\n",
       "      <td>4440</td>\n",
       "      <td>58944</td>\n",
       "      <td>151957</td>\n",
       "    </tr>\n",
       "  </tbody>\n",
       "</table>\n",
       "</div>"
      ],
      "text/plain": [
       "destination    A10    A62    A63   A660   A89    N10     All\n",
       "origine                                                     \n",
       "A10             NC   5713   9116   2128   320     NC   17277\n",
       "A62           5772     NC    457    907  1003   7108   15247\n",
       "A63           8579    295     NC     NC  2090  44031   54995\n",
       "A660          2082    764     NC     NC  1027   7805   11678\n",
       "A89            281    904   2922   1348    NC     NC    5455\n",
       "N10             NC   4570  36173   6562    NC     NC   47305\n",
       "All          16714  12246  48668  10945  4440  58944  151957"
      ]
     },
     "execution_count": 69,
     "metadata": {},
     "output_type": "execute_result"
    }
   ],
   "source": [
    "# marge 30 min\n",
    "df_od_ouvre_final=dico_od_base_marge30.loc[dico_od_base_marge30.set_index('date_cam_1').index.dayofweek<5]\n",
    "pivot_od_marge30_jo=pd.pivot_table(df_od_ouvre_final,values='l', index='origine', columns='destination',aggfunc='count', margins=True).fillna('NC')\n",
    "pivot_od_marge30_tot=pd.pivot_table(dico_od_base_marge30,values='l', index='origine', columns='destination',aggfunc='count', margins=True).fillna('NC')\n",
    "pivot_od_marge30_tot"
   ]
  },
  {
   "cell_type": "code",
   "execution_count": 80,
   "metadata": {},
   "outputs": [
    {
     "data": {
      "text/html": [
       "<div>\n",
       "<style scoped>\n",
       "    .dataframe tbody tr th:only-of-type {\n",
       "        vertical-align: middle;\n",
       "    }\n",
       "\n",
       "    .dataframe tbody tr th {\n",
       "        vertical-align: top;\n",
       "    }\n",
       "\n",
       "    .dataframe thead th {\n",
       "        text-align: right;\n",
       "    }\n",
       "</style>\n",
       "<table border=\"1\" class=\"dataframe\">\n",
       "  <thead>\n",
       "    <tr style=\"text-align: right;\">\n",
       "      <th>destination</th>\n",
       "      <th>A10</th>\n",
       "      <th>A62</th>\n",
       "      <th>A63</th>\n",
       "      <th>A660</th>\n",
       "      <th>A89</th>\n",
       "      <th>N10</th>\n",
       "      <th>All</th>\n",
       "    </tr>\n",
       "    <tr>\n",
       "      <th>origine</th>\n",
       "      <th></th>\n",
       "      <th></th>\n",
       "      <th></th>\n",
       "      <th></th>\n",
       "      <th></th>\n",
       "      <th></th>\n",
       "      <th></th>\n",
       "    </tr>\n",
       "  </thead>\n",
       "  <tbody>\n",
       "    <tr>\n",
       "      <th>A10</th>\n",
       "      <td>NC</td>\n",
       "      <td>328</td>\n",
       "      <td>460</td>\n",
       "      <td>110</td>\n",
       "      <td>19</td>\n",
       "      <td>NC</td>\n",
       "      <td>918</td>\n",
       "    </tr>\n",
       "    <tr>\n",
       "      <th>A62</th>\n",
       "      <td>335</td>\n",
       "      <td>NC</td>\n",
       "      <td>27</td>\n",
       "      <td>54</td>\n",
       "      <td>60</td>\n",
       "      <td>426</td>\n",
       "      <td>902</td>\n",
       "    </tr>\n",
       "    <tr>\n",
       "      <th>A63</th>\n",
       "      <td>436</td>\n",
       "      <td>18</td>\n",
       "      <td>NC</td>\n",
       "      <td>NC</td>\n",
       "      <td>115</td>\n",
       "      <td>2206</td>\n",
       "      <td>2774</td>\n",
       "    </tr>\n",
       "    <tr>\n",
       "      <th>A660</th>\n",
       "      <td>111</td>\n",
       "      <td>45</td>\n",
       "      <td>NC</td>\n",
       "      <td>NC</td>\n",
       "      <td>59</td>\n",
       "      <td>426</td>\n",
       "      <td>642</td>\n",
       "    </tr>\n",
       "    <tr>\n",
       "      <th>A89</th>\n",
       "      <td>17</td>\n",
       "      <td>54</td>\n",
       "      <td>160</td>\n",
       "      <td>76</td>\n",
       "      <td>NC</td>\n",
       "      <td>NC</td>\n",
       "      <td>307</td>\n",
       "    </tr>\n",
       "    <tr>\n",
       "      <th>N10</th>\n",
       "      <td>NC</td>\n",
       "      <td>268</td>\n",
       "      <td>1752</td>\n",
       "      <td>332</td>\n",
       "      <td>NC</td>\n",
       "      <td>NC</td>\n",
       "      <td>2352</td>\n",
       "    </tr>\n",
       "    <tr>\n",
       "      <th>All</th>\n",
       "      <td>899</td>\n",
       "      <td>714</td>\n",
       "      <td>2399</td>\n",
       "      <td>572</td>\n",
       "      <td>253</td>\n",
       "      <td>3058</td>\n",
       "      <td>7895</td>\n",
       "    </tr>\n",
       "  </tbody>\n",
       "</table>\n",
       "</div>"
      ],
      "text/plain": [
       "destination  A10  A62   A63 A660  A89   N10   All\n",
       "origine                                          \n",
       "A10           NC  328   460  110   19    NC   918\n",
       "A62          335   NC    27   54   60   426   902\n",
       "A63          436   18    NC   NC  115  2206  2774\n",
       "A660         111   45    NC   NC   59   426   642\n",
       "A89           17   54   160   76   NC    NC   307\n",
       "N10           NC  268  1752  332   NC    NC  2352\n",
       "All          899  714  2399  572  253  3058  7895"
      ]
     },
     "execution_count": 80,
     "metadata": {},
     "output_type": "execute_result"
    }
   ],
   "source": [
    "pivot_od_marge30_jo_j=pivot_od_marge30_jo.applymap(lambda x : round(x/16) if (isinstance(x,float) or isinstance(x,int)) else 'NC')\n",
    "pivot_od_marge30_jo_j"
   ]
  },
  {
   "cell_type": "code",
   "execution_count": 74,
   "metadata": {},
   "outputs": [
    {
     "data": {
      "text/html": [
       "<div>\n",
       "<style scoped>\n",
       "    .dataframe tbody tr th:only-of-type {\n",
       "        vertical-align: middle;\n",
       "    }\n",
       "\n",
       "    .dataframe tbody tr th {\n",
       "        vertical-align: top;\n",
       "    }\n",
       "\n",
       "    .dataframe thead th {\n",
       "        text-align: right;\n",
       "    }\n",
       "</style>\n",
       "<table border=\"1\" class=\"dataframe\">\n",
       "  <thead>\n",
       "    <tr style=\"text-align: right;\">\n",
       "      <th>destination</th>\n",
       "      <th>A10</th>\n",
       "      <th>A62</th>\n",
       "      <th>A63</th>\n",
       "      <th>A660</th>\n",
       "      <th>A89</th>\n",
       "      <th>N10</th>\n",
       "      <th>All</th>\n",
       "    </tr>\n",
       "    <tr>\n",
       "      <th>origine</th>\n",
       "      <th></th>\n",
       "      <th></th>\n",
       "      <th></th>\n",
       "      <th></th>\n",
       "      <th></th>\n",
       "      <th></th>\n",
       "      <th></th>\n",
       "    </tr>\n",
       "  </thead>\n",
       "  <tbody>\n",
       "    <tr>\n",
       "      <th>A10</th>\n",
       "      <td>NC</td>\n",
       "      <td>5923</td>\n",
       "      <td>9634</td>\n",
       "      <td>2216</td>\n",
       "      <td>335</td>\n",
       "      <td>NC</td>\n",
       "      <td>18108</td>\n",
       "    </tr>\n",
       "    <tr>\n",
       "      <th>A62</th>\n",
       "      <td>6091</td>\n",
       "      <td>NC</td>\n",
       "      <td>485</td>\n",
       "      <td>948</td>\n",
       "      <td>1060</td>\n",
       "      <td>7256</td>\n",
       "      <td>15840</td>\n",
       "    </tr>\n",
       "    <tr>\n",
       "      <th>A63</th>\n",
       "      <td>9486</td>\n",
       "      <td>316</td>\n",
       "      <td>NC</td>\n",
       "      <td>NC</td>\n",
       "      <td>2241</td>\n",
       "      <td>46710</td>\n",
       "      <td>58753</td>\n",
       "    </tr>\n",
       "    <tr>\n",
       "      <th>A660</th>\n",
       "      <td>2233</td>\n",
       "      <td>790</td>\n",
       "      <td>NC</td>\n",
       "      <td>NC</td>\n",
       "      <td>1088</td>\n",
       "      <td>8035</td>\n",
       "      <td>12146</td>\n",
       "    </tr>\n",
       "    <tr>\n",
       "      <th>A89</th>\n",
       "      <td>305</td>\n",
       "      <td>962</td>\n",
       "      <td>3109</td>\n",
       "      <td>1421</td>\n",
       "      <td>NC</td>\n",
       "      <td>NC</td>\n",
       "      <td>5797</td>\n",
       "    </tr>\n",
       "    <tr>\n",
       "      <th>N10</th>\n",
       "      <td>NC</td>\n",
       "      <td>4730</td>\n",
       "      <td>37870</td>\n",
       "      <td>6760</td>\n",
       "      <td>NC</td>\n",
       "      <td>NC</td>\n",
       "      <td>49360</td>\n",
       "    </tr>\n",
       "    <tr>\n",
       "      <th>All</th>\n",
       "      <td>18115</td>\n",
       "      <td>12721</td>\n",
       "      <td>51098</td>\n",
       "      <td>11345</td>\n",
       "      <td>4724</td>\n",
       "      <td>62001</td>\n",
       "      <td>160004</td>\n",
       "    </tr>\n",
       "  </tbody>\n",
       "</table>\n",
       "</div>"
      ],
      "text/plain": [
       "destination    A10    A62    A63   A660   A89    N10     All\n",
       "origine                                                     \n",
       "A10             NC   5923   9634   2216   335     NC   18108\n",
       "A62           6091     NC    485    948  1060   7256   15840\n",
       "A63           9486    316     NC     NC  2241  46710   58753\n",
       "A660          2233    790     NC     NC  1088   8035   12146\n",
       "A89            305    962   3109   1421    NC     NC    5797\n",
       "N10             NC   4730  37870   6760    NC     NC   49360\n",
       "All          18115  12721  51098  11345  4724  62001  160004"
      ]
     },
     "execution_count": 74,
     "metadata": {},
     "output_type": "execute_result"
    }
   ],
   "source": [
    "# marge 45 min\n",
    "df_od_ouvre_final=dico_od_base_marge45.loc[dico_od_base_marge45.set_index('date_cam_1').index.dayofweek<5]\n",
    "pivot_od_marge45_jo=pd.pivot_table(df_od_ouvre_final,values='l', index='origine', columns='destination',aggfunc='count', margins=True).fillna('NC')\n",
    "pivot_od_marge45_tot=pd.pivot_table(dico_od_base_marge45,values='l', index='origine', columns='destination',aggfunc='count', margins=True).fillna('NC')\n",
    "pivot_od_marge45_tot"
   ]
  },
  {
   "cell_type": "code",
   "execution_count": 78,
   "metadata": {},
   "outputs": [
    {
     "data": {
      "text/html": [
       "<div>\n",
       "<style scoped>\n",
       "    .dataframe tbody tr th:only-of-type {\n",
       "        vertical-align: middle;\n",
       "    }\n",
       "\n",
       "    .dataframe tbody tr th {\n",
       "        vertical-align: top;\n",
       "    }\n",
       "\n",
       "    .dataframe thead th {\n",
       "        text-align: right;\n",
       "    }\n",
       "</style>\n",
       "<table border=\"1\" class=\"dataframe\">\n",
       "  <thead>\n",
       "    <tr style=\"text-align: right;\">\n",
       "      <th>destination</th>\n",
       "      <th>A10</th>\n",
       "      <th>A62</th>\n",
       "      <th>A63</th>\n",
       "      <th>A660</th>\n",
       "      <th>A89</th>\n",
       "      <th>N10</th>\n",
       "      <th>All</th>\n",
       "    </tr>\n",
       "    <tr>\n",
       "      <th>origine</th>\n",
       "      <th></th>\n",
       "      <th></th>\n",
       "      <th></th>\n",
       "      <th></th>\n",
       "      <th></th>\n",
       "      <th></th>\n",
       "      <th></th>\n",
       "    </tr>\n",
       "  </thead>\n",
       "  <tbody>\n",
       "    <tr>\n",
       "      <th>A10</th>\n",
       "      <td>NC</td>\n",
       "      <td>341</td>\n",
       "      <td>489</td>\n",
       "      <td>115</td>\n",
       "      <td>20</td>\n",
       "      <td>NC</td>\n",
       "      <td>964</td>\n",
       "    </tr>\n",
       "    <tr>\n",
       "      <th>A62</th>\n",
       "      <td>354</td>\n",
       "      <td>NC</td>\n",
       "      <td>29</td>\n",
       "      <td>57</td>\n",
       "      <td>64</td>\n",
       "      <td>434</td>\n",
       "      <td>937</td>\n",
       "    </tr>\n",
       "    <tr>\n",
       "      <th>A63</th>\n",
       "      <td>486</td>\n",
       "      <td>19</td>\n",
       "      <td>NC</td>\n",
       "      <td>NC</td>\n",
       "      <td>124</td>\n",
       "      <td>2346</td>\n",
       "      <td>2975</td>\n",
       "    </tr>\n",
       "    <tr>\n",
       "      <th>A660</th>\n",
       "      <td>120</td>\n",
       "      <td>47</td>\n",
       "      <td>NC</td>\n",
       "      <td>NC</td>\n",
       "      <td>62</td>\n",
       "      <td>440</td>\n",
       "      <td>669</td>\n",
       "    </tr>\n",
       "    <tr>\n",
       "      <th>A89</th>\n",
       "      <td>18</td>\n",
       "      <td>58</td>\n",
       "      <td>170</td>\n",
       "      <td>81</td>\n",
       "      <td>NC</td>\n",
       "      <td>NC</td>\n",
       "      <td>327</td>\n",
       "    </tr>\n",
       "    <tr>\n",
       "      <th>N10</th>\n",
       "      <td>NC</td>\n",
       "      <td>278</td>\n",
       "      <td>1837</td>\n",
       "      <td>343</td>\n",
       "      <td>NC</td>\n",
       "      <td>NC</td>\n",
       "      <td>2458</td>\n",
       "    </tr>\n",
       "    <tr>\n",
       "      <th>All</th>\n",
       "      <td>978</td>\n",
       "      <td>742</td>\n",
       "      <td>2525</td>\n",
       "      <td>596</td>\n",
       "      <td>270</td>\n",
       "      <td>3220</td>\n",
       "      <td>8330</td>\n",
       "    </tr>\n",
       "  </tbody>\n",
       "</table>\n",
       "</div>"
      ],
      "text/plain": [
       "destination  A10  A62   A63 A660  A89   N10   All\n",
       "origine                                          \n",
       "A10           NC  341   489  115   20    NC   964\n",
       "A62          354   NC    29   57   64   434   937\n",
       "A63          486   19    NC   NC  124  2346  2975\n",
       "A660         120   47    NC   NC   62   440   669\n",
       "A89           18   58   170   81   NC    NC   327\n",
       "N10           NC  278  1837  343   NC    NC  2458\n",
       "All          978  742  2525  596  270  3220  8330"
      ]
     },
     "execution_count": 78,
     "metadata": {},
     "output_type": "execute_result"
    }
   ],
   "source": [
    "pivot_od_marge45_jo_j=pivot_od_marge45_jo.applymap(lambda x : round(x/16) if (isinstance(x,float) or isinstance(x,int)) else 'NC')\n",
    "pivot_od_marge45_jo_j"
   ]
  },
  {
   "cell_type": "code",
   "execution_count": 93,
   "metadata": {},
   "outputs": [
    {
     "data": {
      "text/html": [
       "<div>\n",
       "<style scoped>\n",
       "    .dataframe tbody tr th:only-of-type {\n",
       "        vertical-align: middle;\n",
       "    }\n",
       "\n",
       "    .dataframe tbody tr th {\n",
       "        vertical-align: top;\n",
       "    }\n",
       "\n",
       "    .dataframe thead th {\n",
       "        text-align: right;\n",
       "    }\n",
       "</style>\n",
       "<table border=\"1\" class=\"dataframe\">\n",
       "  <thead>\n",
       "    <tr style=\"text-align: right;\">\n",
       "      <th>destination</th>\n",
       "      <th>A10</th>\n",
       "      <th>A62</th>\n",
       "      <th>A63</th>\n",
       "      <th>A660</th>\n",
       "      <th>A89</th>\n",
       "      <th>N10</th>\n",
       "      <th>All</th>\n",
       "    </tr>\n",
       "    <tr>\n",
       "      <th>origine</th>\n",
       "      <th></th>\n",
       "      <th></th>\n",
       "      <th></th>\n",
       "      <th></th>\n",
       "      <th></th>\n",
       "      <th></th>\n",
       "      <th></th>\n",
       "    </tr>\n",
       "  </thead>\n",
       "  <tbody>\n",
       "    <tr>\n",
       "      <th>A10</th>\n",
       "      <td>NaN</td>\n",
       "      <td>7.0</td>\n",
       "      <td>16.0</td>\n",
       "      <td>13.0</td>\n",
       "      <td>11.0</td>\n",
       "      <td>NaN</td>\n",
       "      <td>12.0</td>\n",
       "    </tr>\n",
       "    <tr>\n",
       "      <th>A62</th>\n",
       "      <td>11.0</td>\n",
       "      <td>NaN</td>\n",
       "      <td>32.0</td>\n",
       "      <td>14.0</td>\n",
       "      <td>16.0</td>\n",
       "      <td>5.0</td>\n",
       "      <td>9.0</td>\n",
       "    </tr>\n",
       "    <tr>\n",
       "      <th>A63</th>\n",
       "      <td>22.0</td>\n",
       "      <td>19.0</td>\n",
       "      <td>NaN</td>\n",
       "      <td>NaN</td>\n",
       "      <td>18.0</td>\n",
       "      <td>13.0</td>\n",
       "      <td>15.0</td>\n",
       "    </tr>\n",
       "    <tr>\n",
       "      <th>A660</th>\n",
       "      <td>18.0</td>\n",
       "      <td>12.0</td>\n",
       "      <td>NaN</td>\n",
       "      <td>NaN</td>\n",
       "      <td>19.0</td>\n",
       "      <td>7.0</td>\n",
       "      <td>10.0</td>\n",
       "    </tr>\n",
       "    <tr>\n",
       "      <th>A89</th>\n",
       "      <td>20.0</td>\n",
       "      <td>14.0</td>\n",
       "      <td>21.0</td>\n",
       "      <td>14.0</td>\n",
       "      <td>NaN</td>\n",
       "      <td>NaN</td>\n",
       "      <td>17.0</td>\n",
       "    </tr>\n",
       "    <tr>\n",
       "      <th>N10</th>\n",
       "      <td>NaN</td>\n",
       "      <td>7.0</td>\n",
       "      <td>11.0</td>\n",
       "      <td>7.0</td>\n",
       "      <td>NaN</td>\n",
       "      <td>NaN</td>\n",
       "      <td>10.0</td>\n",
       "    </tr>\n",
       "    <tr>\n",
       "      <th>All</th>\n",
       "      <td>17.0</td>\n",
       "      <td>8.0</td>\n",
       "      <td>13.0</td>\n",
       "      <td>10.0</td>\n",
       "      <td>17.0</td>\n",
       "      <td>11.0</td>\n",
       "      <td>12.0</td>\n",
       "    </tr>\n",
       "  </tbody>\n",
       "</table>\n",
       "</div>"
      ],
      "text/plain": [
       "destination   A10   A62   A63  A660   A89   N10   All\n",
       "origine                                              \n",
       "A10           NaN   7.0  16.0  13.0  11.0   NaN  12.0\n",
       "A62          11.0   NaN  32.0  14.0  16.0   5.0   9.0\n",
       "A63          22.0  19.0   NaN   NaN  18.0  13.0  15.0\n",
       "A660         18.0  12.0   NaN   NaN  19.0   7.0  10.0\n",
       "A89          20.0  14.0  21.0  14.0   NaN   NaN  17.0\n",
       "N10           NaN   7.0  11.0   7.0   NaN   NaN  10.0\n",
       "All          17.0   8.0  13.0  10.0  17.0  11.0  12.0"
      ]
     },
     "execution_count": 93,
     "metadata": {},
     "output_type": "execute_result"
    }
   ],
   "source": [
    "#comparatif des df en JO : \n",
    "(round(((pivot_od_marge45_jo.applymap(lambda x : round(x/16) if (isinstance(x,float) or isinstance(x,int)) else np.nan)/\n",
    " pivot_od_marge15_jo.applymap(lambda x : round(x/16) if (isinstance(x,float) or isinstance(x,int)) else np.nan))-1)*100))"
   ]
  },
  {
   "cell_type": "code",
   "execution_count": 96,
   "metadata": {},
   "outputs": [
    {
     "data": {
      "text/html": [
       "<div>\n",
       "<style scoped>\n",
       "    .dataframe tbody tr th:only-of-type {\n",
       "        vertical-align: middle;\n",
       "    }\n",
       "\n",
       "    .dataframe tbody tr th {\n",
       "        vertical-align: top;\n",
       "    }\n",
       "\n",
       "    .dataframe thead th {\n",
       "        text-align: right;\n",
       "    }\n",
       "</style>\n",
       "<table border=\"1\" class=\"dataframe\">\n",
       "  <thead>\n",
       "    <tr style=\"text-align: right;\">\n",
       "      <th>destination</th>\n",
       "      <th>A10</th>\n",
       "      <th>A62</th>\n",
       "      <th>A63</th>\n",
       "      <th>A660</th>\n",
       "      <th>A89</th>\n",
       "      <th>N10</th>\n",
       "      <th>All</th>\n",
       "    </tr>\n",
       "    <tr>\n",
       "      <th>origine</th>\n",
       "      <th></th>\n",
       "      <th></th>\n",
       "      <th></th>\n",
       "      <th></th>\n",
       "      <th></th>\n",
       "      <th></th>\n",
       "      <th></th>\n",
       "    </tr>\n",
       "  </thead>\n",
       "  <tbody>\n",
       "    <tr>\n",
       "      <th>A10</th>\n",
       "      <td>NC</td>\n",
       "      <td>6552</td>\n",
       "      <td>10905</td>\n",
       "      <td>2551</td>\n",
       "      <td>497</td>\n",
       "      <td>NC</td>\n",
       "      <td>20505</td>\n",
       "    </tr>\n",
       "    <tr>\n",
       "      <th>A62</th>\n",
       "      <td>7043</td>\n",
       "      <td>NC</td>\n",
       "      <td>783</td>\n",
       "      <td>1169</td>\n",
       "      <td>1665</td>\n",
       "      <td>8333</td>\n",
       "      <td>18993</td>\n",
       "    </tr>\n",
       "    <tr>\n",
       "      <th>A63</th>\n",
       "      <td>10876</td>\n",
       "      <td>501</td>\n",
       "      <td>NC</td>\n",
       "      <td>NC</td>\n",
       "      <td>2715</td>\n",
       "      <td>50225</td>\n",
       "      <td>64317</td>\n",
       "    </tr>\n",
       "    <tr>\n",
       "      <th>A660</th>\n",
       "      <td>2591</td>\n",
       "      <td>980</td>\n",
       "      <td>NC</td>\n",
       "      <td>NC</td>\n",
       "      <td>1348</td>\n",
       "      <td>8730</td>\n",
       "      <td>13649</td>\n",
       "    </tr>\n",
       "    <tr>\n",
       "      <th>A89</th>\n",
       "      <td>571</td>\n",
       "      <td>1617</td>\n",
       "      <td>3746</td>\n",
       "      <td>1650</td>\n",
       "      <td>NC</td>\n",
       "      <td>NC</td>\n",
       "      <td>7584</td>\n",
       "    </tr>\n",
       "    <tr>\n",
       "      <th>N10</th>\n",
       "      <td>NC</td>\n",
       "      <td>5604</td>\n",
       "      <td>40614</td>\n",
       "      <td>7296</td>\n",
       "      <td>NC</td>\n",
       "      <td>NC</td>\n",
       "      <td>53514</td>\n",
       "    </tr>\n",
       "    <tr>\n",
       "      <th>All</th>\n",
       "      <td>21081</td>\n",
       "      <td>15254</td>\n",
       "      <td>56048</td>\n",
       "      <td>12666</td>\n",
       "      <td>6225</td>\n",
       "      <td>67288</td>\n",
       "      <td>178562</td>\n",
       "    </tr>\n",
       "  </tbody>\n",
       "</table>\n",
       "</div>"
      ],
      "text/plain": [
       "destination    A10    A62    A63   A660   A89    N10     All\n",
       "origine                                                     \n",
       "A10             NC   6552  10905   2551   497     NC   20505\n",
       "A62           7043     NC    783   1169  1665   8333   18993\n",
       "A63          10876    501     NC     NC  2715  50225   64317\n",
       "A660          2591    980     NC     NC  1348   8730   13649\n",
       "A89            571   1617   3746   1650    NC     NC    7584\n",
       "N10             NC   5604  40614   7296    NC     NC   53514\n",
       "All          21081  15254  56048  12666  6225  67288  178562"
      ]
     },
     "execution_count": 96,
     "metadata": {},
     "output_type": "execute_result"
    }
   ],
   "source": [
    "#marge 10h\n",
    "# marge 45 min\n",
    "df_od_ouvre_final=dico_od_base_marge600.loc[dico_od_base_marge45.set_index('date_cam_1').index.dayofweek<5]\n",
    "pivot_od_marge600_jo=pd.pivot_table(df_od_ouvre_final,values='l', index='origine', columns='destination',aggfunc='count', margins=True).fillna('NC')\n",
    "pivot_od_marge600_tot=pd.pivot_table(dico_od_base_marge600,values='l', index='origine', columns='destination',aggfunc='count', margins=True).fillna('NC')\n",
    "pivot_od_marge600_tot"
   ]
  },
  {
   "cell_type": "code",
   "execution_count": 22,
   "metadata": {},
   "outputs": [
    {
     "data": {
      "text/html": [
       "<div>\n",
       "<style scoped>\n",
       "    .dataframe tbody tr th:only-of-type {\n",
       "        vertical-align: middle;\n",
       "    }\n",
       "\n",
       "    .dataframe tbody tr th {\n",
       "        vertical-align: top;\n",
       "    }\n",
       "\n",
       "    .dataframe thead th {\n",
       "        text-align: right;\n",
       "    }\n",
       "</style>\n",
       "<table border=\"1\" class=\"dataframe\">\n",
       "  <thead>\n",
       "    <tr style=\"text-align: right;\">\n",
       "      <th>destination</th>\n",
       "      <th>A10</th>\n",
       "      <th>A62</th>\n",
       "      <th>A63</th>\n",
       "      <th>A660</th>\n",
       "      <th>A89</th>\n",
       "      <th>N10</th>\n",
       "      <th>All</th>\n",
       "    </tr>\n",
       "    <tr>\n",
       "      <th>origine</th>\n",
       "      <th></th>\n",
       "      <th></th>\n",
       "      <th></th>\n",
       "      <th></th>\n",
       "      <th></th>\n",
       "      <th></th>\n",
       "      <th></th>\n",
       "    </tr>\n",
       "  </thead>\n",
       "  <tbody>\n",
       "    <tr>\n",
       "      <th>A10</th>\n",
       "      <td>NC</td>\n",
       "      <td>2965</td>\n",
       "      <td>4753</td>\n",
       "      <td>794</td>\n",
       "      <td>168</td>\n",
       "      <td>NC</td>\n",
       "      <td>8680</td>\n",
       "    </tr>\n",
       "    <tr>\n",
       "      <th>A62</th>\n",
       "      <td>1205</td>\n",
       "      <td>NC</td>\n",
       "      <td>198</td>\n",
       "      <td>383</td>\n",
       "      <td>271</td>\n",
       "      <td>1372</td>\n",
       "      <td>3429</td>\n",
       "    </tr>\n",
       "    <tr>\n",
       "      <th>A63</th>\n",
       "      <td>3806</td>\n",
       "      <td>123</td>\n",
       "      <td>NC</td>\n",
       "      <td>NC</td>\n",
       "      <td>842</td>\n",
       "      <td>20183</td>\n",
       "      <td>24954</td>\n",
       "    </tr>\n",
       "    <tr>\n",
       "      <th>A660</th>\n",
       "      <td>927</td>\n",
       "      <td>372</td>\n",
       "      <td>NC</td>\n",
       "      <td>NC</td>\n",
       "      <td>462</td>\n",
       "      <td>4116</td>\n",
       "      <td>5877</td>\n",
       "    </tr>\n",
       "    <tr>\n",
       "      <th>A89</th>\n",
       "      <td>133</td>\n",
       "      <td>384</td>\n",
       "      <td>1147</td>\n",
       "      <td>493</td>\n",
       "      <td>NC</td>\n",
       "      <td>NC</td>\n",
       "      <td>2157</td>\n",
       "    </tr>\n",
       "    <tr>\n",
       "      <th>N10</th>\n",
       "      <td>NC</td>\n",
       "      <td>2412</td>\n",
       "      <td>21766</td>\n",
       "      <td>2895</td>\n",
       "      <td>NC</td>\n",
       "      <td>NC</td>\n",
       "      <td>27073</td>\n",
       "    </tr>\n",
       "    <tr>\n",
       "      <th>All</th>\n",
       "      <td>6071</td>\n",
       "      <td>6256</td>\n",
       "      <td>27864</td>\n",
       "      <td>4565</td>\n",
       "      <td>1743</td>\n",
       "      <td>25671</td>\n",
       "      <td>72170</td>\n",
       "    </tr>\n",
       "  </tbody>\n",
       "</table>\n",
       "</div>"
      ],
      "text/plain": [
       "destination   A10   A62    A63  A660   A89    N10    All\n",
       "origine                                                 \n",
       "A10            NC  2965   4753   794   168     NC   8680\n",
       "A62          1205    NC    198   383   271   1372   3429\n",
       "A63          3806   123     NC    NC   842  20183  24954\n",
       "A660          927   372     NC    NC   462   4116   5877\n",
       "A89           133   384   1147   493    NC     NC   2157\n",
       "N10            NC  2412  21766  2895    NC     NC  27073\n",
       "All          6071  6256  27864  4565  1743  25671  72170"
      ]
     },
     "execution_count": 22,
     "metadata": {},
     "output_type": "execute_result"
    }
   ],
   "source": [
    "# apres correction des A660 liees a A63\n",
    "pd.pivot_table(df_od_corrige,values='l', index='origine', columns='destination',aggfunc='count', margins=True).fillna('NC')"
   ]
  },
  {
   "cell_type": "code",
   "execution_count": 97,
   "metadata": {},
   "outputs": [
    {
     "data": {
      "text/html": [
       "<div>\n",
       "<style scoped>\n",
       "    .dataframe tbody tr th:only-of-type {\n",
       "        vertical-align: middle;\n",
       "    }\n",
       "\n",
       "    .dataframe tbody tr th {\n",
       "        vertical-align: top;\n",
       "    }\n",
       "\n",
       "    .dataframe thead th {\n",
       "        text-align: right;\n",
       "    }\n",
       "</style>\n",
       "<table border=\"1\" class=\"dataframe\">\n",
       "  <thead>\n",
       "    <tr style=\"text-align: right;\">\n",
       "      <th>destination</th>\n",
       "      <th>A10</th>\n",
       "      <th>A62</th>\n",
       "      <th>A63</th>\n",
       "      <th>A660</th>\n",
       "      <th>A89</th>\n",
       "      <th>N10</th>\n",
       "      <th>All</th>\n",
       "    </tr>\n",
       "    <tr>\n",
       "      <th>origine</th>\n",
       "      <th></th>\n",
       "      <th></th>\n",
       "      <th></th>\n",
       "      <th></th>\n",
       "      <th></th>\n",
       "      <th></th>\n",
       "      <th></th>\n",
       "    </tr>\n",
       "  </thead>\n",
       "  <tbody>\n",
       "    <tr>\n",
       "      <th>A10</th>\n",
       "      <td>NC</td>\n",
       "      <td>290</td>\n",
       "      <td>427</td>\n",
       "      <td>20</td>\n",
       "      <td>28</td>\n",
       "      <td>NC</td>\n",
       "      <td>765</td>\n",
       "    </tr>\n",
       "    <tr>\n",
       "      <th>A62</th>\n",
       "      <td>280</td>\n",
       "      <td>NC</td>\n",
       "      <td>25</td>\n",
       "      <td>66</td>\n",
       "      <td>56</td>\n",
       "      <td>488</td>\n",
       "      <td>915</td>\n",
       "    </tr>\n",
       "    <tr>\n",
       "      <th>A63</th>\n",
       "      <td>470</td>\n",
       "      <td>20</td>\n",
       "      <td>NC</td>\n",
       "      <td>NC</td>\n",
       "      <td>120</td>\n",
       "      <td>2467</td>\n",
       "      <td>3077</td>\n",
       "    </tr>\n",
       "    <tr>\n",
       "      <th>A660</th>\n",
       "      <td>115</td>\n",
       "      <td>NC</td>\n",
       "      <td>NC</td>\n",
       "      <td>NC</td>\n",
       "      <td>71</td>\n",
       "      <td>415</td>\n",
       "      <td>601</td>\n",
       "    </tr>\n",
       "    <tr>\n",
       "      <th>A89</th>\n",
       "      <td>NC</td>\n",
       "      <td>75</td>\n",
       "      <td>223</td>\n",
       "      <td>74</td>\n",
       "      <td>NC</td>\n",
       "      <td>NC</td>\n",
       "      <td>372</td>\n",
       "    </tr>\n",
       "    <tr>\n",
       "      <th>N10</th>\n",
       "      <td>NC</td>\n",
       "      <td>327</td>\n",
       "      <td>1944</td>\n",
       "      <td>329</td>\n",
       "      <td>NC</td>\n",
       "      <td>NC</td>\n",
       "      <td>2599</td>\n",
       "    </tr>\n",
       "    <tr>\n",
       "      <th>All</th>\n",
       "      <td>865</td>\n",
       "      <td>712</td>\n",
       "      <td>2619</td>\n",
       "      <td>489</td>\n",
       "      <td>274</td>\n",
       "      <td>3370</td>\n",
       "      <td>8330</td>\n",
       "    </tr>\n",
       "  </tbody>\n",
       "</table>\n",
       "</div>"
      ],
      "text/plain": [
       "destination  A10  A62   A63 A660  A89   N10   All\n",
       "origine                                          \n",
       "A10           NC  290   427   20   28    NC   765\n",
       "A62          280   NC    25   66   56   488   915\n",
       "A63          470   20    NC   NC  120  2467  3077\n",
       "A660         115   NC    NC   NC   71   415   601\n",
       "A89           NC   75   223   74   NC    NC   372\n",
       "N10           NC  327  1944  329   NC    NC  2599\n",
       "All          865  712  2619  489  274  3370  8330"
      ]
     },
     "execution_count": 97,
     "metadata": {},
     "output_type": "execute_result"
    }
   ],
   "source": [
    "pivot_od_marge600_jo_j=pivot_od_marge600_jo.applymap(lambda x : round(x/16) if (isinstance(x,float) or isinstance(x,int)) else 'NC')\n",
    "pivot_od_marge600_jo_j"
   ]
  },
  {
   "cell_type": "code",
   "execution_count": 75,
   "metadata": {},
   "outputs": [
    {
     "ename": "NameError",
     "evalue": "name 'df_od_final' is not defined",
     "output_type": "error",
     "traceback": [
      "\u001b[1;31m---------------------------------------------------------------------------\u001b[0m",
      "\u001b[1;31mNameError\u001b[0m                                 Traceback (most recent call last)",
      "\u001b[1;32m<ipython-input-75-f2a735c6c7d3>\u001b[0m in \u001b[0;36m<module>\u001b[1;34m\u001b[0m\n\u001b[0;32m      1\u001b[0m \u001b[1;31m# apres extrapolation\u001b[0m\u001b[1;33m\u001b[0m\u001b[1;33m\u001b[0m\u001b[0m\n\u001b[1;32m----> 2\u001b[1;33m \u001b[0mpd\u001b[0m\u001b[1;33m.\u001b[0m\u001b[0mpivot_table\u001b[0m\u001b[1;33m(\u001b[0m\u001b[0mdf_od_final\u001b[0m\u001b[1;33m,\u001b[0m\u001b[0mvalues\u001b[0m\u001b[1;33m=\u001b[0m\u001b[1;34m'l'\u001b[0m\u001b[1;33m,\u001b[0m \u001b[0mindex\u001b[0m\u001b[1;33m=\u001b[0m\u001b[1;34m'origine'\u001b[0m\u001b[1;33m,\u001b[0m \u001b[0mcolumns\u001b[0m\u001b[1;33m=\u001b[0m\u001b[1;34m'destination'\u001b[0m\u001b[1;33m,\u001b[0m\u001b[0maggfunc\u001b[0m\u001b[1;33m=\u001b[0m\u001b[1;34m'count'\u001b[0m\u001b[1;33m,\u001b[0m \u001b[0mmargins\u001b[0m\u001b[1;33m=\u001b[0m\u001b[1;32mTrue\u001b[0m\u001b[1;33m)\u001b[0m\u001b[1;33m.\u001b[0m\u001b[0mfillna\u001b[0m\u001b[1;33m(\u001b[0m\u001b[1;34m'NC'\u001b[0m\u001b[1;33m)\u001b[0m\u001b[1;33m\u001b[0m\u001b[0m\n\u001b[0m",
      "\u001b[1;31mNameError\u001b[0m: name 'df_od_final' is not defined"
     ]
    }
   ],
   "source": [
    "# apres extrapolation\n",
    "pd.pivot_table(df_od_final,values='l', index='origine', columns='destination',aggfunc='count', margins=True).fillna('NC')"
   ]
  },
  {
   "cell_type": "code",
   "execution_count": 27,
   "metadata": {},
   "outputs": [],
   "source": [
    "# O-D apres extrapolation en moyenne sur jour ouvre\n",
    "df_od_ouvre_final=df_od_final.loc[df_od_final.set_index('date_cam_1').index.dayofweek<5]\n",
    "pivot_od_jo=pd.pivot_table(df_od_ouvre_final,values='l', index='origine', columns='destination',aggfunc='count', margins=True).fillna('NC')\n",
    "pivot_od_jo"
   ]
  },
  {
   "cell_type": "code",
   "execution_count": 38,
   "metadata": {},
   "outputs": [
    {
     "data": {
      "text/html": [
       "<div>\n",
       "<style scoped>\n",
       "    .dataframe tbody tr th:only-of-type {\n",
       "        vertical-align: middle;\n",
       "    }\n",
       "\n",
       "    .dataframe tbody tr th {\n",
       "        vertical-align: top;\n",
       "    }\n",
       "\n",
       "    .dataframe thead th {\n",
       "        text-align: right;\n",
       "    }\n",
       "</style>\n",
       "<table border=\"1\" class=\"dataframe\">\n",
       "  <thead>\n",
       "    <tr style=\"text-align: right;\">\n",
       "      <th>destination</th>\n",
       "      <th>A10</th>\n",
       "      <th>A62</th>\n",
       "      <th>A63</th>\n",
       "      <th>A660</th>\n",
       "      <th>A89</th>\n",
       "      <th>N10</th>\n",
       "      <th>All</th>\n",
       "    </tr>\n",
       "    <tr>\n",
       "      <th>origine</th>\n",
       "      <th></th>\n",
       "      <th></th>\n",
       "      <th></th>\n",
       "      <th></th>\n",
       "      <th></th>\n",
       "      <th></th>\n",
       "      <th></th>\n",
       "    </tr>\n",
       "  </thead>\n",
       "  <tbody>\n",
       "    <tr>\n",
       "      <th>A10</th>\n",
       "      <td>NC</td>\n",
       "      <td>525.6</td>\n",
       "      <td>716.2</td>\n",
       "      <td>126.4</td>\n",
       "      <td>31.8</td>\n",
       "      <td>NC</td>\n",
       "      <td>1400.0</td>\n",
       "    </tr>\n",
       "    <tr>\n",
       "      <th>A62</th>\n",
       "      <td>223.8</td>\n",
       "      <td>NC</td>\n",
       "      <td>36.2</td>\n",
       "      <td>75</td>\n",
       "      <td>50.8</td>\n",
       "      <td>262.4</td>\n",
       "      <td>648.2</td>\n",
       "    </tr>\n",
       "    <tr>\n",
       "      <th>A63</th>\n",
       "      <td>560.2</td>\n",
       "      <td>23</td>\n",
       "      <td>NC</td>\n",
       "      <td>NC</td>\n",
       "      <td>139.6</td>\n",
       "      <td>2869.2</td>\n",
       "      <td>3592.0</td>\n",
       "    </tr>\n",
       "    <tr>\n",
       "      <th>A660</th>\n",
       "      <td>166.2</td>\n",
       "      <td>70.2</td>\n",
       "      <td>NC</td>\n",
       "      <td>NC</td>\n",
       "      <td>87.6</td>\n",
       "      <td>721.8</td>\n",
       "      <td>1045.8</td>\n",
       "    </tr>\n",
       "    <tr>\n",
       "      <th>A89</th>\n",
       "      <td>24.8</td>\n",
       "      <td>73.4</td>\n",
       "      <td>189</td>\n",
       "      <td>90.2</td>\n",
       "      <td>NC</td>\n",
       "      <td>NC</td>\n",
       "      <td>377.4</td>\n",
       "    </tr>\n",
       "    <tr>\n",
       "      <th>N10</th>\n",
       "      <td>NC</td>\n",
       "      <td>438.8</td>\n",
       "      <td>3117.8</td>\n",
       "      <td>429.4</td>\n",
       "      <td>NC</td>\n",
       "      <td>NC</td>\n",
       "      <td>3986.0</td>\n",
       "    </tr>\n",
       "    <tr>\n",
       "      <th>All</th>\n",
       "      <td>975</td>\n",
       "      <td>1131</td>\n",
       "      <td>4059.2</td>\n",
       "      <td>721</td>\n",
       "      <td>309.8</td>\n",
       "      <td>3853.4</td>\n",
       "      <td>11049.4</td>\n",
       "    </tr>\n",
       "  </tbody>\n",
       "</table>\n",
       "</div>"
      ],
      "text/plain": [
       "destination    A10    A62     A63   A660    A89     N10      All\n",
       "origine                                                         \n",
       "A10             NC  525.6   716.2  126.4   31.8      NC   1400.0\n",
       "A62          223.8     NC    36.2     75   50.8   262.4    648.2\n",
       "A63          560.2     23      NC     NC  139.6  2869.2   3592.0\n",
       "A660         166.2   70.2      NC     NC   87.6   721.8   1045.8\n",
       "A89           24.8   73.4     189   90.2     NC      NC    377.4\n",
       "N10             NC  438.8  3117.8  429.4     NC      NC   3986.0\n",
       "All            975   1131  4059.2    721  309.8  3853.4  11049.4"
      ]
     },
     "execution_count": 38,
     "metadata": {},
     "output_type": "execute_result"
    }
   ],
   "source": [
    "pivot_od_jo.applymap(lambda x : x/5 if (isinstance(x,float) or isinstance(x,int)) else 'NC')\n",
    "#pivot_od_jo.applymap(lambda x : type(x))"
   ]
  },
  {
   "cell_type": "markdown",
   "metadata": {},
   "source": [
    "# 7. Différeciation Rocade Est-Ouest\n",
    ">Cette analyse ne concerne que les trajets N10-A63, A10-A63, N10-A660, A10-A660"
   ]
  },
  {
   "cell_type": "code",
   "execution_count": 77,
   "metadata": {},
   "outputs": [
    {
     "name": "stdout",
     "output_type": "stream",
     "text": [
      "Object `t.differencier_rocade` not found.\n"
     ]
    }
   ],
   "source": [
    "??t.differencier_rocade"
   ]
  },
  {
   "cell_type": "code",
   "execution_count": 57,
   "metadata": {},
   "outputs": [
    {
     "data": {
      "text/html": [
       "<div>\n",
       "<style scoped>\n",
       "    .dataframe tbody tr th:only-of-type {\n",
       "        vertical-align: middle;\n",
       "    }\n",
       "\n",
       "    .dataframe tbody tr th {\n",
       "        vertical-align: top;\n",
       "    }\n",
       "\n",
       "    .dataframe thead th {\n",
       "        text-align: right;\n",
       "    }\n",
       "</style>\n",
       "<table border=\"1\" class=\"dataframe\">\n",
       "  <thead>\n",
       "    <tr style=\"text-align: right;\">\n",
       "      <th>type_rocade</th>\n",
       "      <th>Autre</th>\n",
       "      <th>Est</th>\n",
       "      <th>Ouest</th>\n",
       "      <th>All</th>\n",
       "    </tr>\n",
       "    <tr>\n",
       "      <th>o_d</th>\n",
       "      <th></th>\n",
       "      <th></th>\n",
       "      <th></th>\n",
       "      <th></th>\n",
       "    </tr>\n",
       "  </thead>\n",
       "  <tbody>\n",
       "    <tr>\n",
       "      <th>A10-A63</th>\n",
       "      <td>474</td>\n",
       "      <td>4126</td>\n",
       "      <td>153</td>\n",
       "      <td>4753</td>\n",
       "    </tr>\n",
       "    <tr>\n",
       "      <th>A10-A660</th>\n",
       "      <td>159</td>\n",
       "      <td>597</td>\n",
       "      <td>38</td>\n",
       "      <td>794</td>\n",
       "    </tr>\n",
       "    <tr>\n",
       "      <th>A63-A10</th>\n",
       "      <td>715</td>\n",
       "      <td>3053</td>\n",
       "      <td>38</td>\n",
       "      <td>3806</td>\n",
       "    </tr>\n",
       "    <tr>\n",
       "      <th>A660-A10</th>\n",
       "      <td>248</td>\n",
       "      <td>669</td>\n",
       "      <td>10</td>\n",
       "      <td>927</td>\n",
       "    </tr>\n",
       "    <tr>\n",
       "      <th>A660-N10</th>\n",
       "      <td>1184</td>\n",
       "      <td>2892</td>\n",
       "      <td>40</td>\n",
       "      <td>4116</td>\n",
       "    </tr>\n",
       "    <tr>\n",
       "      <th>N10-A63</th>\n",
       "      <td>2106</td>\n",
       "      <td>19016</td>\n",
       "      <td>644</td>\n",
       "      <td>21766</td>\n",
       "    </tr>\n",
       "    <tr>\n",
       "      <th>N10-A660</th>\n",
       "      <td>589</td>\n",
       "      <td>2205</td>\n",
       "      <td>101</td>\n",
       "      <td>2895</td>\n",
       "    </tr>\n",
       "    <tr>\n",
       "      <th>All</th>\n",
       "      <td>5475</td>\n",
       "      <td>32558</td>\n",
       "      <td>1024</td>\n",
       "      <td>39057</td>\n",
       "    </tr>\n",
       "  </tbody>\n",
       "</table>\n",
       "</div>"
      ],
      "text/plain": [
       "type_rocade  Autre    Est  Ouest    All\n",
       "o_d                                    \n",
       "A10-A63        474   4126    153   4753\n",
       "A10-A660       159    597     38    794\n",
       "A63-A10        715   3053     38   3806\n",
       "A660-A10       248    669     10    927\n",
       "A660-N10      1184   2892     40   4116\n",
       "N10-A63       2106  19016    644  21766\n",
       "N10-A660       589   2205    101   2895\n",
       "All           5475  32558   1024  39057"
      ]
     },
     "execution_count": 57,
     "metadata": {},
     "output_type": "execute_result"
    }
   ],
   "source": [
    "pivot_type_rocade"
   ]
  },
  {
   "cell_type": "markdown",
   "metadata": {},
   "source": [
    "# 7. Analyse du nb de VL, PL, PL en transit par heure et par camera \n",
    "> Le pb c'est que pour les camera de la Rocade, parfois on les PL n'y sont pas vus, de même pour les chemins extrapoles ou pour ceux corrigés : le passage soit n'existe pas, soit la camera du passage ne correspond pas à la destination finalement utilisées"
   ]
  },
  {
   "cell_type": "markdown",
   "metadata": {},
   "source": [
    "## 7.1 base : travail sur les données telles que créees"
   ]
  },
  {
   "cell_type": "code",
   "execution_count": 48,
   "metadata": {},
   "outputs": [],
   "source": [
    "df_vl=df_passages2.loc[df_passages2['l']!=1]\n",
    "df_pl=df_passages2.loc[df_passages2['l']==1]\n",
    "#df_passages_transit=t.trajet2passage(dico_od_final,df_pl) deféini plus haut :dico_passag_final"
   ]
  },
  {
   "cell_type": "code",
   "execution_count": 49,
   "metadata": {},
   "outputs": [
    {
     "name": "stdout",
     "output_type": "stream",
     "text": [
      "pl_tot =1920 , vl_tot=1920 , pl_transit=1262,pl_tot-joint-transit=1262\n",
      "Wall time: 1.51 s\n"
     ]
    }
   ],
   "source": [
    "%time synt_nb_veh_cam=t.pourcentage_pl_camera(df_pl,dico_passag_final, df_vl)"
   ]
  },
  {
   "cell_type": "code",
   "execution_count": 52,
   "metadata": {},
   "outputs": [
    {
     "data": {
      "application/vnd.vegalite.v2+json": {
       "$schema": "https://vega.github.io/schema/vega-lite/v2.6.0.json",
       "config": {
        "view": {
         "height": 300,
         "width": 400
        }
       },
       "datasets": {
        "data-6b445f40fa7e900c107e9c8919a0dff9": [
         {
          "camera_id": 4,
          "created": "2019-01-29T00:00:00",
          "nb_pl_tot": 85,
          "nb_pl_transit": 19,
          "nb_veh": 85,
          "pct_pl_transit": 22.352941176470587,
          "type": "PL total",
          "type_x": "PL total",
          "type_y": "PL transit"
         },
         {
          "camera_id": 4,
          "created": "2019-01-29T01:00:00",
          "nb_pl_tot": 64,
          "nb_pl_transit": 9,
          "nb_veh": 64,
          "pct_pl_transit": 14.0625,
          "type": "PL total",
          "type_x": "PL total",
          "type_y": "PL transit"
         },
         {
          "camera_id": 4,
          "created": "2019-01-29T02:00:00",
          "nb_pl_tot": 78,
          "nb_pl_transit": 7,
          "nb_veh": 78,
          "pct_pl_transit": 8.974358974358974,
          "type": "PL total",
          "type_x": "PL total",
          "type_y": "PL transit"
         },
         {
          "camera_id": 4,
          "created": "2019-01-29T03:00:00",
          "nb_pl_tot": 95,
          "nb_pl_transit": 8,
          "nb_veh": 95,
          "pct_pl_transit": 8.421052631578947,
          "type": "PL total",
          "type_x": "PL total",
          "type_y": "PL transit"
         },
         {
          "camera_id": 4,
          "created": "2019-01-29T04:00:00",
          "nb_pl_tot": 159,
          "nb_pl_transit": 24,
          "nb_veh": 159,
          "pct_pl_transit": 15.09433962264151,
          "type": "PL total",
          "type_x": "PL total",
          "type_y": "PL transit"
         },
         {
          "camera_id": 4,
          "created": "2019-01-29T05:00:00",
          "nb_pl_tot": 241,
          "nb_pl_transit": 44,
          "nb_veh": 241,
          "pct_pl_transit": 18.25726141078838,
          "type": "PL total",
          "type_x": "PL total",
          "type_y": "PL transit"
         },
         {
          "camera_id": 4,
          "created": "2019-01-29T06:00:00",
          "nb_pl_tot": 279,
          "nb_pl_transit": 70,
          "nb_veh": 279,
          "pct_pl_transit": 25.089605734767026,
          "type": "PL total",
          "type_x": "PL total",
          "type_y": "PL transit"
         },
         {
          "camera_id": 4,
          "created": "2019-01-29T07:00:00",
          "nb_pl_tot": 314,
          "nb_pl_transit": 126,
          "nb_veh": 314,
          "pct_pl_transit": 40.12738853503185,
          "type": "PL total",
          "type_x": "PL total",
          "type_y": "PL transit"
         },
         {
          "camera_id": 4,
          "created": "2019-01-29T08:00:00",
          "nb_pl_tot": 628,
          "nb_pl_transit": 294,
          "nb_veh": 628,
          "pct_pl_transit": 46.81528662420382,
          "type": "PL total",
          "type_x": "PL total",
          "type_y": "PL transit"
         },
         {
          "camera_id": 4,
          "created": "2019-01-29T09:00:00",
          "nb_pl_tot": 730,
          "nb_pl_transit": 301,
          "nb_veh": 730,
          "pct_pl_transit": 41.23287671232877,
          "type": "PL total",
          "type_x": "PL total",
          "type_y": "PL transit"
         },
         {
          "camera_id": 4,
          "created": "2019-01-29T10:00:00",
          "nb_pl_tot": 729,
          "nb_pl_transit": 259,
          "nb_veh": 729,
          "pct_pl_transit": 35.528120713305896,
          "type": "PL total",
          "type_x": "PL total",
          "type_y": "PL transit"
         },
         {
          "camera_id": 4,
          "created": "2019-01-29T11:00:00",
          "nb_pl_tot": 661,
          "nb_pl_transit": 257,
          "nb_veh": 661,
          "pct_pl_transit": 38.88048411497731,
          "type": "PL total",
          "type_x": "PL total",
          "type_y": "PL transit"
         },
         {
          "camera_id": 4,
          "created": "2019-01-29T12:00:00",
          "nb_pl_tot": 175,
          "nb_pl_transit": 65,
          "nb_veh": 175,
          "pct_pl_transit": 37.142857142857146,
          "type": "PL total",
          "type_x": "PL total",
          "type_y": "PL transit"
         },
         {
          "camera_id": 4,
          "created": "2019-01-29T13:00:00",
          "nb_pl_tot": 0,
          "nb_pl_transit": 0,
          "nb_veh": 0,
          "pct_pl_transit": 0,
          "type": "PL total",
          "type_x": "PL total",
          "type_y": "PL transit"
         },
         {
          "camera_id": 4,
          "created": "2019-01-29T14:00:00",
          "nb_pl_tot": 160,
          "nb_pl_transit": 56,
          "nb_veh": 160,
          "pct_pl_transit": 35,
          "type": "PL total",
          "type_x": "PL total",
          "type_y": "PL transit"
         },
         {
          "camera_id": 4,
          "created": "2019-01-29T15:00:00",
          "nb_pl_tot": 607,
          "nb_pl_transit": 209,
          "nb_veh": 607,
          "pct_pl_transit": 34.43163097199341,
          "type": "PL total",
          "type_x": "PL total",
          "type_y": "PL transit"
         },
         {
          "camera_id": 4,
          "created": "2019-01-29T16:00:00",
          "nb_pl_tot": 412,
          "nb_pl_transit": 136,
          "nb_veh": 412,
          "pct_pl_transit": 33.00970873786408,
          "type": "PL total",
          "type_x": "PL total",
          "type_y": "PL transit"
         },
         {
          "camera_id": 4,
          "created": "2019-01-29T17:00:00",
          "nb_pl_tot": 419,
          "nb_pl_transit": 64,
          "nb_veh": 419,
          "pct_pl_transit": 15.274463007159904,
          "type": "PL total",
          "type_x": "PL total",
          "type_y": "PL transit"
         },
         {
          "camera_id": 4,
          "created": "2019-01-29T18:00:00",
          "nb_pl_tot": 418,
          "nb_pl_transit": 69,
          "nb_veh": 418,
          "pct_pl_transit": 16.507177033492823,
          "type": "PL total",
          "type_x": "PL total",
          "type_y": "PL transit"
         },
         {
          "camera_id": 4,
          "created": "2019-01-29T19:00:00",
          "nb_pl_tot": 319,
          "nb_pl_transit": 73,
          "nb_veh": 319,
          "pct_pl_transit": 22.884012539184955,
          "type": "PL total",
          "type_x": "PL total",
          "type_y": "PL transit"
         },
         {
          "camera_id": 4,
          "created": "2019-01-29T20:00:00",
          "nb_pl_tot": 264,
          "nb_pl_transit": 87,
          "nb_veh": 264,
          "pct_pl_transit": 32.95454545454545,
          "type": "PL total",
          "type_x": "PL total",
          "type_y": "PL transit"
         },
         {
          "camera_id": 4,
          "created": "2019-01-29T21:00:00",
          "nb_pl_tot": 218,
          "nb_pl_transit": 69,
          "nb_veh": 218,
          "pct_pl_transit": 31.65137614678899,
          "type": "PL total",
          "type_x": "PL total",
          "type_y": "PL transit"
         },
         {
          "camera_id": 4,
          "created": "2019-01-29T22:00:00",
          "nb_pl_tot": 186,
          "nb_pl_transit": 68,
          "nb_veh": 186,
          "pct_pl_transit": 36.55913978494624,
          "type": "PL total",
          "type_x": "PL total",
          "type_y": "PL transit"
         },
         {
          "camera_id": 4,
          "created": "2019-01-29T23:00:00",
          "nb_pl_tot": 154,
          "nb_pl_transit": 47,
          "nb_veh": 154,
          "pct_pl_transit": 30.51948051948052,
          "type": "PL total",
          "type_x": "PL total",
          "type_y": "PL transit"
         },
         {
          "camera_id": 4,
          "created": "2019-01-29T00:00:00",
          "nb_pl_tot": 85,
          "nb_pl_transit": 19,
          "nb_veh": 204,
          "pct_pl_transit": 22.352941176470587,
          "type": "VL total",
          "type_x": "PL total",
          "type_y": "PL transit"
         },
         {
          "camera_id": 4,
          "created": "2019-01-29T01:00:00",
          "nb_pl_tot": 64,
          "nb_pl_transit": 9,
          "nb_veh": 165,
          "pct_pl_transit": 14.0625,
          "type": "VL total",
          "type_x": "PL total",
          "type_y": "PL transit"
         },
         {
          "camera_id": 4,
          "created": "2019-01-29T02:00:00",
          "nb_pl_tot": 78,
          "nb_pl_transit": 7,
          "nb_veh": 89,
          "pct_pl_transit": 8.974358974358974,
          "type": "VL total",
          "type_x": "PL total",
          "type_y": "PL transit"
         },
         {
          "camera_id": 4,
          "created": "2019-01-29T03:00:00",
          "nb_pl_tot": 95,
          "nb_pl_transit": 8,
          "nb_veh": 157,
          "pct_pl_transit": 8.421052631578947,
          "type": "VL total",
          "type_x": "PL total",
          "type_y": "PL transit"
         },
         {
          "camera_id": 4,
          "created": "2019-01-29T04:00:00",
          "nb_pl_tot": 159,
          "nb_pl_transit": 24,
          "nb_veh": 289,
          "pct_pl_transit": 15.09433962264151,
          "type": "VL total",
          "type_x": "PL total",
          "type_y": "PL transit"
         },
         {
          "camera_id": 4,
          "created": "2019-01-29T05:00:00",
          "nb_pl_tot": 241,
          "nb_pl_transit": 44,
          "nb_veh": 653,
          "pct_pl_transit": 18.25726141078838,
          "type": "VL total",
          "type_x": "PL total",
          "type_y": "PL transit"
         },
         {
          "camera_id": 4,
          "created": "2019-01-29T06:00:00",
          "nb_pl_tot": 279,
          "nb_pl_transit": 70,
          "nb_veh": 1545,
          "pct_pl_transit": 25.089605734767026,
          "type": "VL total",
          "type_x": "PL total",
          "type_y": "PL transit"
         },
         {
          "camera_id": 4,
          "created": "2019-01-29T07:00:00",
          "nb_pl_tot": 314,
          "nb_pl_transit": 126,
          "nb_veh": 1938,
          "pct_pl_transit": 40.12738853503185,
          "type": "VL total",
          "type_x": "PL total",
          "type_y": "PL transit"
         },
         {
          "camera_id": 4,
          "created": "2019-01-29T08:00:00",
          "nb_pl_tot": 628,
          "nb_pl_transit": 294,
          "nb_veh": 2079,
          "pct_pl_transit": 46.81528662420382,
          "type": "VL total",
          "type_x": "PL total",
          "type_y": "PL transit"
         },
         {
          "camera_id": 4,
          "created": "2019-01-29T09:00:00",
          "nb_pl_tot": 730,
          "nb_pl_transit": 301,
          "nb_veh": 1845,
          "pct_pl_transit": 41.23287671232877,
          "type": "VL total",
          "type_x": "PL total",
          "type_y": "PL transit"
         },
         {
          "camera_id": 4,
          "created": "2019-01-29T10:00:00",
          "nb_pl_tot": 729,
          "nb_pl_transit": 259,
          "nb_veh": 1788,
          "pct_pl_transit": 35.528120713305896,
          "type": "VL total",
          "type_x": "PL total",
          "type_y": "PL transit"
         },
         {
          "camera_id": 4,
          "created": "2019-01-29T11:00:00",
          "nb_pl_tot": 661,
          "nb_pl_transit": 257,
          "nb_veh": 1571,
          "pct_pl_transit": 38.88048411497731,
          "type": "VL total",
          "type_x": "PL total",
          "type_y": "PL transit"
         },
         {
          "camera_id": 4,
          "created": "2019-01-29T12:00:00",
          "nb_pl_tot": 175,
          "nb_pl_transit": 65,
          "nb_veh": 408,
          "pct_pl_transit": 37.142857142857146,
          "type": "VL total",
          "type_x": "PL total",
          "type_y": "PL transit"
         },
         {
          "camera_id": 4,
          "created": "2019-01-29T13:00:00",
          "nb_pl_tot": 0,
          "nb_pl_transit": 0,
          "nb_veh": 0,
          "pct_pl_transit": 0,
          "type": "VL total",
          "type_x": "PL total",
          "type_y": "PL transit"
         },
         {
          "camera_id": 4,
          "created": "2019-01-29T14:00:00",
          "nb_pl_tot": 160,
          "nb_pl_transit": 56,
          "nb_veh": 522,
          "pct_pl_transit": 35,
          "type": "VL total",
          "type_x": "PL total",
          "type_y": "PL transit"
         },
         {
          "camera_id": 4,
          "created": "2019-01-29T15:00:00",
          "nb_pl_tot": 607,
          "nb_pl_transit": 209,
          "nb_veh": 2329,
          "pct_pl_transit": 34.43163097199341,
          "type": "VL total",
          "type_x": "PL total",
          "type_y": "PL transit"
         },
         {
          "camera_id": 4,
          "created": "2019-01-29T16:00:00",
          "nb_pl_tot": 412,
          "nb_pl_transit": 136,
          "nb_veh": 2475,
          "pct_pl_transit": 33.00970873786408,
          "type": "VL total",
          "type_x": "PL total",
          "type_y": "PL transit"
         },
         {
          "camera_id": 4,
          "created": "2019-01-29T17:00:00",
          "nb_pl_tot": 419,
          "nb_pl_transit": 64,
          "nb_veh": 2093,
          "pct_pl_transit": 15.274463007159904,
          "type": "VL total",
          "type_x": "PL total",
          "type_y": "PL transit"
         },
         {
          "camera_id": 4,
          "created": "2019-01-29T18:00:00",
          "nb_pl_tot": 418,
          "nb_pl_transit": 69,
          "nb_veh": 1723,
          "pct_pl_transit": 16.507177033492823,
          "type": "VL total",
          "type_x": "PL total",
          "type_y": "PL transit"
         },
         {
          "camera_id": 4,
          "created": "2019-01-29T19:00:00",
          "nb_pl_tot": 319,
          "nb_pl_transit": 73,
          "nb_veh": 1182,
          "pct_pl_transit": 22.884012539184955,
          "type": "VL total",
          "type_x": "PL total",
          "type_y": "PL transit"
         },
         {
          "camera_id": 4,
          "created": "2019-01-29T20:00:00",
          "nb_pl_tot": 264,
          "nb_pl_transit": 87,
          "nb_veh": 690,
          "pct_pl_transit": 32.95454545454545,
          "type": "VL total",
          "type_x": "PL total",
          "type_y": "PL transit"
         },
         {
          "camera_id": 4,
          "created": "2019-01-29T21:00:00",
          "nb_pl_tot": 218,
          "nb_pl_transit": 69,
          "nb_veh": 582,
          "pct_pl_transit": 31.65137614678899,
          "type": "VL total",
          "type_x": "PL total",
          "type_y": "PL transit"
         },
         {
          "camera_id": 4,
          "created": "2019-01-29T22:00:00",
          "nb_pl_tot": 186,
          "nb_pl_transit": 68,
          "nb_veh": 375,
          "pct_pl_transit": 36.55913978494624,
          "type": "VL total",
          "type_x": "PL total",
          "type_y": "PL transit"
         },
         {
          "camera_id": 4,
          "created": "2019-01-29T23:00:00",
          "nb_pl_tot": 154,
          "nb_pl_transit": 47,
          "nb_veh": 230,
          "pct_pl_transit": 30.51948051948052,
          "type": "VL total",
          "type_x": "PL total",
          "type_y": "PL transit"
         },
         {
          "camera_id": 4,
          "created": "2019-01-29T00:00:00",
          "nb_pl_tot": 85,
          "nb_pl_transit": 19,
          "nb_veh": 19,
          "pct_pl_transit": 22.352941176470587,
          "type": "PL transit",
          "type_x": "PL total",
          "type_y": "PL transit"
         },
         {
          "camera_id": 4,
          "created": "2019-01-29T01:00:00",
          "nb_pl_tot": 64,
          "nb_pl_transit": 9,
          "nb_veh": 9,
          "pct_pl_transit": 14.0625,
          "type": "PL transit",
          "type_x": "PL total",
          "type_y": "PL transit"
         },
         {
          "camera_id": 4,
          "created": "2019-01-29T02:00:00",
          "nb_pl_tot": 78,
          "nb_pl_transit": 7,
          "nb_veh": 7,
          "pct_pl_transit": 8.974358974358974,
          "type": "PL transit",
          "type_x": "PL total",
          "type_y": "PL transit"
         },
         {
          "camera_id": 4,
          "created": "2019-01-29T03:00:00",
          "nb_pl_tot": 95,
          "nb_pl_transit": 8,
          "nb_veh": 8,
          "pct_pl_transit": 8.421052631578947,
          "type": "PL transit",
          "type_x": "PL total",
          "type_y": "PL transit"
         },
         {
          "camera_id": 4,
          "created": "2019-01-29T04:00:00",
          "nb_pl_tot": 159,
          "nb_pl_transit": 24,
          "nb_veh": 24,
          "pct_pl_transit": 15.09433962264151,
          "type": "PL transit",
          "type_x": "PL total",
          "type_y": "PL transit"
         },
         {
          "camera_id": 4,
          "created": "2019-01-29T05:00:00",
          "nb_pl_tot": 241,
          "nb_pl_transit": 44,
          "nb_veh": 44,
          "pct_pl_transit": 18.25726141078838,
          "type": "PL transit",
          "type_x": "PL total",
          "type_y": "PL transit"
         },
         {
          "camera_id": 4,
          "created": "2019-01-29T06:00:00",
          "nb_pl_tot": 279,
          "nb_pl_transit": 70,
          "nb_veh": 70,
          "pct_pl_transit": 25.089605734767026,
          "type": "PL transit",
          "type_x": "PL total",
          "type_y": "PL transit"
         },
         {
          "camera_id": 4,
          "created": "2019-01-29T07:00:00",
          "nb_pl_tot": 314,
          "nb_pl_transit": 126,
          "nb_veh": 126,
          "pct_pl_transit": 40.12738853503185,
          "type": "PL transit",
          "type_x": "PL total",
          "type_y": "PL transit"
         },
         {
          "camera_id": 4,
          "created": "2019-01-29T08:00:00",
          "nb_pl_tot": 628,
          "nb_pl_transit": 294,
          "nb_veh": 294,
          "pct_pl_transit": 46.81528662420382,
          "type": "PL transit",
          "type_x": "PL total",
          "type_y": "PL transit"
         },
         {
          "camera_id": 4,
          "created": "2019-01-29T09:00:00",
          "nb_pl_tot": 730,
          "nb_pl_transit": 301,
          "nb_veh": 301,
          "pct_pl_transit": 41.23287671232877,
          "type": "PL transit",
          "type_x": "PL total",
          "type_y": "PL transit"
         },
         {
          "camera_id": 4,
          "created": "2019-01-29T10:00:00",
          "nb_pl_tot": 729,
          "nb_pl_transit": 259,
          "nb_veh": 259,
          "pct_pl_transit": 35.528120713305896,
          "type": "PL transit",
          "type_x": "PL total",
          "type_y": "PL transit"
         },
         {
          "camera_id": 4,
          "created": "2019-01-29T11:00:00",
          "nb_pl_tot": 661,
          "nb_pl_transit": 257,
          "nb_veh": 257,
          "pct_pl_transit": 38.88048411497731,
          "type": "PL transit",
          "type_x": "PL total",
          "type_y": "PL transit"
         },
         {
          "camera_id": 4,
          "created": "2019-01-29T12:00:00",
          "nb_pl_tot": 175,
          "nb_pl_transit": 65,
          "nb_veh": 65,
          "pct_pl_transit": 37.142857142857146,
          "type": "PL transit",
          "type_x": "PL total",
          "type_y": "PL transit"
         },
         {
          "camera_id": 4,
          "created": "2019-01-29T13:00:00",
          "nb_pl_tot": 0,
          "nb_pl_transit": 0,
          "nb_veh": 0,
          "pct_pl_transit": 0,
          "type": "PL transit",
          "type_x": "PL total",
          "type_y": "PL transit"
         },
         {
          "camera_id": 4,
          "created": "2019-01-29T14:00:00",
          "nb_pl_tot": 160,
          "nb_pl_transit": 56,
          "nb_veh": 56,
          "pct_pl_transit": 35,
          "type": "PL transit",
          "type_x": "PL total",
          "type_y": "PL transit"
         },
         {
          "camera_id": 4,
          "created": "2019-01-29T15:00:00",
          "nb_pl_tot": 607,
          "nb_pl_transit": 209,
          "nb_veh": 209,
          "pct_pl_transit": 34.43163097199341,
          "type": "PL transit",
          "type_x": "PL total",
          "type_y": "PL transit"
         },
         {
          "camera_id": 4,
          "created": "2019-01-29T16:00:00",
          "nb_pl_tot": 412,
          "nb_pl_transit": 136,
          "nb_veh": 136,
          "pct_pl_transit": 33.00970873786408,
          "type": "PL transit",
          "type_x": "PL total",
          "type_y": "PL transit"
         },
         {
          "camera_id": 4,
          "created": "2019-01-29T17:00:00",
          "nb_pl_tot": 419,
          "nb_pl_transit": 64,
          "nb_veh": 64,
          "pct_pl_transit": 15.274463007159904,
          "type": "PL transit",
          "type_x": "PL total",
          "type_y": "PL transit"
         },
         {
          "camera_id": 4,
          "created": "2019-01-29T18:00:00",
          "nb_pl_tot": 418,
          "nb_pl_transit": 69,
          "nb_veh": 69,
          "pct_pl_transit": 16.507177033492823,
          "type": "PL transit",
          "type_x": "PL total",
          "type_y": "PL transit"
         },
         {
          "camera_id": 4,
          "created": "2019-01-29T19:00:00",
          "nb_pl_tot": 319,
          "nb_pl_transit": 73,
          "nb_veh": 73,
          "pct_pl_transit": 22.884012539184955,
          "type": "PL transit",
          "type_x": "PL total",
          "type_y": "PL transit"
         },
         {
          "camera_id": 4,
          "created": "2019-01-29T20:00:00",
          "nb_pl_tot": 264,
          "nb_pl_transit": 87,
          "nb_veh": 87,
          "pct_pl_transit": 32.95454545454545,
          "type": "PL transit",
          "type_x": "PL total",
          "type_y": "PL transit"
         },
         {
          "camera_id": 4,
          "created": "2019-01-29T21:00:00",
          "nb_pl_tot": 218,
          "nb_pl_transit": 69,
          "nb_veh": 69,
          "pct_pl_transit": 31.65137614678899,
          "type": "PL transit",
          "type_x": "PL total",
          "type_y": "PL transit"
         },
         {
          "camera_id": 4,
          "created": "2019-01-29T22:00:00",
          "nb_pl_tot": 186,
          "nb_pl_transit": 68,
          "nb_veh": 68,
          "pct_pl_transit": 36.55913978494624,
          "type": "PL transit",
          "type_x": "PL total",
          "type_y": "PL transit"
         },
         {
          "camera_id": 4,
          "created": "2019-01-29T23:00:00",
          "nb_pl_tot": 154,
          "nb_pl_transit": 47,
          "nb_veh": 47,
          "pct_pl_transit": 30.51948051948052,
          "type": "PL transit",
          "type_x": "PL total",
          "type_y": "PL transit"
         }
        ]
       },
       "layer": [
        {
         "data": {
          "name": "data-6b445f40fa7e900c107e9c8919a0dff9"
         },
         "encoding": {
          "color": {
           "field": "type",
           "type": "nominal"
          },
          "x": {
           "axis": {
            "format": "%H:%M",
            "title": "Heure"
           },
           "field": "created",
           "type": "temporal"
          },
          "y": {
           "axis": {
            "title": "Nb de véhicules"
           },
           "field": "nb_veh",
           "stack": null,
           "type": "quantitative"
          }
         },
         "mark": {
          "opacity": 0.7,
          "size": 20,
          "type": "bar"
         }
        },
        {
         "data": {
          "name": "data-6b445f40fa7e900c107e9c8919a0dff9"
         },
         "encoding": {
          "x": {
           "axis": {
            "format": "%H:%M",
            "title": "Heure"
           },
           "field": "created",
           "type": "temporal"
          },
          "y": {
           "axis": {
            "title": "% de PL en transit"
           },
           "field": "pct_pl_transit",
           "type": "quantitative"
          }
         },
         "mark": {
          "color": "green",
          "type": "line"
         }
        }
       ],
       "resolve": {
        "scale": {
         "color": "shared",
         "x": "shared",
         "y": "independent"
        }
       },
       "width": 800
      },
      "image/png": "[encoded data removed]",
      "text/plain": [
       "<VegaLite 2 object>\n",
       "\n",
       "If you see this message, it means the renderer has not been properly enabled\n",
       "for the frontend that you are using. For more information, see\n",
       "https://altair-viz.github.io/user_guide/troubleshooting.html\n"
      ]
     },
     "execution_count": 52,
     "metadata": {},
     "output_type": "execute_result"
    }
   ],
   "source": [
    "g.graph_VL_PL_transit_j_cam(synt_nb_veh_cam, '2019-01-29', 4)"
   ]
  },
  {
   "cell_type": "markdown",
   "metadata": {},
   "source": [
    "## 7.2 Redressement au niveau de la Rocade"
   ]
  },
  {
   "cell_type": "code",
   "execution_count": 126,
   "metadata": {},
   "outputs": [
    {
     "name": "stdout",
     "output_type": "stream",
     "text": [
      "pl_tot =1920 , vl_tot=1920 , pl_transit=1262,pl_tot-joint-transit=1262\n",
      "Wall time: 1.3 s\n"
     ]
    }
   ],
   "source": [
    "#determiner les passages fictifs\n",
    "df_passage_transit_redresse, df_pl_redresse, trajets_rocade_non_vu=t.passages_fictif_rocade (t.liste_trajet_rocade, dico_od_final,dico_passag_final,df_pl)\n",
    "#regrouper\n",
    "%time synt_nb_veh_cam_redresse=t.pourcentage_pl_camera(df_pl_redresse,df_passage_transit_redresse, df_vl)"
   ]
  },
  {
   "cell_type": "code",
   "execution_count": 46,
   "metadata": {},
   "outputs": [
    {
     "data": {
      "application/vnd.vegalite.v2+json": {
       "$schema": "https://vega.github.io/schema/vega-lite/v2.6.0.json",
       "config": {
        "view": {
         "height": 300,
         "width": 400
        }
       },
       "datasets": {
        "data-814030b1bd5d736434a531fdb4ebe061": [
         {
          "camera_id": 1,
          "created": "2019-01-28T00:00:00",
          "nb_pl_tot": null,
          "nb_pl_transit": null,
          "nb_veh": 1,
          "pct_pl_transit": null,
          "type": "PL total",
          "type_x": null,
          "type_y": null
         },
         {
          "camera_id": 1,
          "created": "2019-01-28T01:00:00",
          "nb_pl_tot": null,
          "nb_pl_transit": null,
          "nb_veh": 2,
          "pct_pl_transit": null,
          "type": "PL total",
          "type_x": null,
          "type_y": null
         },
         {
          "camera_id": 1,
          "created": "2019-01-28T02:00:00",
          "nb_pl_tot": null,
          "nb_pl_transit": null,
          "nb_veh": 5,
          "pct_pl_transit": null,
          "type": "PL total",
          "type_x": null,
          "type_y": null
         },
         {
          "camera_id": 1,
          "created": "2019-01-28T03:00:00",
          "nb_pl_tot": null,
          "nb_pl_transit": null,
          "nb_veh": 6,
          "pct_pl_transit": null,
          "type": "PL total",
          "type_x": null,
          "type_y": null
         },
         {
          "camera_id": 1,
          "created": "2019-01-28T04:00:00",
          "nb_pl_tot": null,
          "nb_pl_transit": null,
          "nb_veh": 16,
          "pct_pl_transit": null,
          "type": "PL total",
          "type_x": null,
          "type_y": null
         },
         {
          "camera_id": 1,
          "created": "2019-01-28T05:00:00",
          "nb_pl_tot": null,
          "nb_pl_transit": null,
          "nb_veh": 37,
          "pct_pl_transit": null,
          "type": "PL total",
          "type_x": null,
          "type_y": null
         },
         {
          "camera_id": 1,
          "created": "2019-01-28T06:00:00",
          "nb_pl_tot": 47,
          "nb_pl_transit": 1,
          "nb_veh": 47,
          "pct_pl_transit": 2.127659574468085,
          "type": "PL total",
          "type_x": "PL total",
          "type_y": "PL transit"
         },
         {
          "camera_id": 1,
          "created": "2019-01-28T07:00:00",
          "nb_pl_tot": 61,
          "nb_pl_transit": 2,
          "nb_veh": 61,
          "pct_pl_transit": 3.278688524590164,
          "type": "PL total",
          "type_x": "PL total",
          "type_y": "PL transit"
         },
         {
          "camera_id": 1,
          "created": "2019-01-28T08:00:00",
          "nb_pl_tot": 128,
          "nb_pl_transit": 2,
          "nb_veh": 128,
          "pct_pl_transit": 1.5625,
          "type": "PL total",
          "type_x": "PL total",
          "type_y": "PL transit"
         },
         {
          "camera_id": 1,
          "created": "2019-01-28T09:00:00",
          "nb_pl_tot": 137,
          "nb_pl_transit": 0,
          "nb_veh": 137,
          "pct_pl_transit": 0,
          "type": "PL total",
          "type_x": "PL total",
          "type_y": "PL transit"
         },
         {
          "camera_id": 1,
          "created": "2019-01-28T10:00:00",
          "nb_pl_tot": 148,
          "nb_pl_transit": 0,
          "nb_veh": 148,
          "pct_pl_transit": 0,
          "type": "PL total",
          "type_x": "PL total",
          "type_y": "PL transit"
         },
         {
          "camera_id": 1,
          "created": "2019-01-28T11:00:00",
          "nb_pl_tot": 109,
          "nb_pl_transit": 2,
          "nb_veh": 109,
          "pct_pl_transit": 1.834862385321101,
          "type": "PL total",
          "type_x": "PL total",
          "type_y": "PL transit"
         },
         {
          "camera_id": 1,
          "created": "2019-01-28T12:00:00",
          "nb_pl_tot": 128,
          "nb_pl_transit": 1,
          "nb_veh": 128,
          "pct_pl_transit": 0.78125,
          "type": "PL total",
          "type_x": "PL total",
          "type_y": "PL transit"
         },
         {
          "camera_id": 1,
          "created": "2019-01-28T13:00:00",
          "nb_pl_tot": 138,
          "nb_pl_transit": 2,
          "nb_veh": 138,
          "pct_pl_transit": 1.4492753623188406,
          "type": "PL total",
          "type_x": "PL total",
          "type_y": "PL transit"
         },
         {
          "camera_id": 1,
          "created": "2019-01-28T14:00:00",
          "nb_pl_tot": 135,
          "nb_pl_transit": 0,
          "nb_veh": 135,
          "pct_pl_transit": 0,
          "type": "PL total",
          "type_x": "PL total",
          "type_y": "PL transit"
         },
         {
          "camera_id": 1,
          "created": "2019-01-28T15:00:00",
          "nb_pl_tot": 99,
          "nb_pl_transit": 3,
          "nb_veh": 99,
          "pct_pl_transit": 3.0303030303030303,
          "type": "PL total",
          "type_x": "PL total",
          "type_y": "PL transit"
         },
         {
          "camera_id": 1,
          "created": "2019-01-28T16:00:00",
          "nb_pl_tot": 77,
          "nb_pl_transit": 9,
          "nb_veh": 77,
          "pct_pl_transit": 11.688311688311689,
          "type": "PL total",
          "type_x": "PL total",
          "type_y": "PL transit"
         },
         {
          "camera_id": 1,
          "created": "2019-01-28T17:00:00",
          "nb_pl_tot": 13,
          "nb_pl_transit": 2,
          "nb_veh": 13,
          "pct_pl_transit": 15.384615384615385,
          "type": "PL total",
          "type_x": "PL total",
          "type_y": "PL transit"
         },
         {
          "camera_id": 1,
          "created": "2019-01-28T18:00:00",
          "nb_pl_tot": 5,
          "nb_pl_transit": 0,
          "nb_veh": 5,
          "pct_pl_transit": 0,
          "type": "PL total",
          "type_x": "PL total",
          "type_y": "PL transit"
         },
         {
          "camera_id": 1,
          "created": "2019-01-28T19:00:00",
          "nb_pl_tot": 9,
          "nb_pl_transit": 1,
          "nb_veh": 9,
          "pct_pl_transit": 11.11111111111111,
          "type": "PL total",
          "type_x": "PL total",
          "type_y": "PL transit"
         },
         {
          "camera_id": 1,
          "created": "2019-01-28T20:00:00",
          "nb_pl_tot": 3,
          "nb_pl_transit": 0,
          "nb_veh": 3,
          "pct_pl_transit": 0,
          "type": "PL total",
          "type_x": "PL total",
          "type_y": "PL transit"
         },
         {
          "camera_id": 1,
          "created": "2019-01-28T21:00:00",
          "nb_pl_tot": 5,
          "nb_pl_transit": 0,
          "nb_veh": 5,
          "pct_pl_transit": 0,
          "type": "PL total",
          "type_x": "PL total",
          "type_y": "PL transit"
         },
         {
          "camera_id": 1,
          "created": "2019-01-28T22:00:00",
          "nb_pl_tot": 2,
          "nb_pl_transit": 0,
          "nb_veh": 2,
          "pct_pl_transit": 0,
          "type": "PL total",
          "type_x": "PL total",
          "type_y": "PL transit"
         },
         {
          "camera_id": 1,
          "created": "2019-01-28T23:00:00",
          "nb_pl_tot": 3,
          "nb_pl_transit": 0,
          "nb_veh": 3,
          "pct_pl_transit": 0,
          "type": "PL total",
          "type_x": "PL total",
          "type_y": "PL transit"
         },
         {
          "camera_id": 1,
          "created": "2019-01-28T00:00:00",
          "nb_pl_tot": null,
          "nb_pl_transit": null,
          "nb_veh": 39,
          "pct_pl_transit": null,
          "type": "VL total",
          "type_x": null,
          "type_y": null
         },
         {
          "camera_id": 1,
          "created": "2019-01-28T01:00:00",
          "nb_pl_tot": null,
          "nb_pl_transit": null,
          "nb_veh": 27,
          "pct_pl_transit": null,
          "type": "VL total",
          "type_x": null,
          "type_y": null
         },
         {
          "camera_id": 1,
          "created": "2019-01-28T02:00:00",
          "nb_pl_tot": null,
          "nb_pl_transit": null,
          "nb_veh": 17,
          "pct_pl_transit": null,
          "type": "VL total",
          "type_x": null,
          "type_y": null
         },
         {
          "camera_id": 1,
          "created": "2019-01-28T03:00:00",
          "nb_pl_tot": null,
          "nb_pl_transit": null,
          "nb_veh": 73,
          "pct_pl_transit": null,
          "type": "VL total",
          "type_x": null,
          "type_y": null
         },
         {
          "camera_id": 1,
          "created": "2019-01-28T04:00:00",
          "nb_pl_tot": null,
          "nb_pl_transit": null,
          "nb_veh": 197,
          "pct_pl_transit": null,
          "type": "VL total",
          "type_x": null,
          "type_y": null
         },
         {
          "camera_id": 1,
          "created": "2019-01-28T05:00:00",
          "nb_pl_tot": null,
          "nb_pl_transit": null,
          "nb_veh": 458,
          "pct_pl_transit": null,
          "type": "VL total",
          "type_x": null,
          "type_y": null
         },
         {
          "camera_id": 1,
          "created": "2019-01-28T06:00:00",
          "nb_pl_tot": 47,
          "nb_pl_transit": 1,
          "nb_veh": 792,
          "pct_pl_transit": 2.127659574468085,
          "type": "VL total",
          "type_x": "PL total",
          "type_y": "PL transit"
         },
         {
          "camera_id": 1,
          "created": "2019-01-28T07:00:00",
          "nb_pl_tot": 61,
          "nb_pl_transit": 2,
          "nb_veh": 1164,
          "pct_pl_transit": 3.278688524590164,
          "type": "VL total",
          "type_x": "PL total",
          "type_y": "PL transit"
         },
         {
          "camera_id": 1,
          "created": "2019-01-28T08:00:00",
          "nb_pl_tot": 128,
          "nb_pl_transit": 2,
          "nb_veh": 2168,
          "pct_pl_transit": 1.5625,
          "type": "VL total",
          "type_x": "PL total",
          "type_y": "PL transit"
         },
         {
          "camera_id": 1,
          "created": "2019-01-28T09:00:00",
          "nb_pl_tot": 137,
          "nb_pl_transit": 0,
          "nb_veh": 2050,
          "pct_pl_transit": 0,
          "type": "VL total",
          "type_x": "PL total",
          "type_y": "PL transit"
         },
         {
          "camera_id": 1,
          "created": "2019-01-28T10:00:00",
          "nb_pl_tot": 148,
          "nb_pl_transit": 0,
          "nb_veh": 1924,
          "pct_pl_transit": 0,
          "type": "VL total",
          "type_x": "PL total",
          "type_y": "PL transit"
         },
         {
          "camera_id": 1,
          "created": "2019-01-28T11:00:00",
          "nb_pl_tot": 109,
          "nb_pl_transit": 2,
          "nb_veh": 1983,
          "pct_pl_transit": 1.834862385321101,
          "type": "VL total",
          "type_x": "PL total",
          "type_y": "PL transit"
         },
         {
          "camera_id": 1,
          "created": "2019-01-28T12:00:00",
          "nb_pl_tot": 128,
          "nb_pl_transit": 1,
          "nb_veh": 2222,
          "pct_pl_transit": 0.78125,
          "type": "VL total",
          "type_x": "PL total",
          "type_y": "PL transit"
         },
         {
          "camera_id": 1,
          "created": "2019-01-28T13:00:00",
          "nb_pl_tot": 138,
          "nb_pl_transit": 2,
          "nb_veh": 2087,
          "pct_pl_transit": 1.4492753623188406,
          "type": "VL total",
          "type_x": "PL total",
          "type_y": "PL transit"
         },
         {
          "camera_id": 1,
          "created": "2019-01-28T14:00:00",
          "nb_pl_tot": 135,
          "nb_pl_transit": 0,
          "nb_veh": 2024,
          "pct_pl_transit": 0,
          "type": "VL total",
          "type_x": "PL total",
          "type_y": "PL transit"
         },
         {
          "camera_id": 1,
          "created": "2019-01-28T15:00:00",
          "nb_pl_tot": 99,
          "nb_pl_transit": 3,
          "nb_veh": 2399,
          "pct_pl_transit": 3.0303030303030303,
          "type": "VL total",
          "type_x": "PL total",
          "type_y": "PL transit"
         },
         {
          "camera_id": 1,
          "created": "2019-01-28T16:00:00",
          "nb_pl_tot": 77,
          "nb_pl_transit": 9,
          "nb_veh": 2327,
          "pct_pl_transit": 11.688311688311689,
          "type": "VL total",
          "type_x": "PL total",
          "type_y": "PL transit"
         },
         {
          "camera_id": 1,
          "created": "2019-01-28T17:00:00",
          "nb_pl_tot": 13,
          "nb_pl_transit": 2,
          "nb_veh": 753,
          "pct_pl_transit": 15.384615384615385,
          "type": "VL total",
          "type_x": "PL total",
          "type_y": "PL transit"
         },
         {
          "camera_id": 1,
          "created": "2019-01-28T18:00:00",
          "nb_pl_tot": 5,
          "nb_pl_transit": 0,
          "nb_veh": 440,
          "pct_pl_transit": 0,
          "type": "VL total",
          "type_x": "PL total",
          "type_y": "PL transit"
         },
         {
          "camera_id": 1,
          "created": "2019-01-28T19:00:00",
          "nb_pl_tot": 9,
          "nb_pl_transit": 1,
          "nb_veh": 298,
          "pct_pl_transit": 11.11111111111111,
          "type": "VL total",
          "type_x": "PL total",
          "type_y": "PL transit"
         },
         {
          "camera_id": 1,
          "created": "2019-01-28T20:00:00",
          "nb_pl_tot": 3,
          "nb_pl_transit": 0,
          "nb_veh": 236,
          "pct_pl_transit": 0,
          "type": "VL total",
          "type_x": "PL total",
          "type_y": "PL transit"
         },
         {
          "camera_id": 1,
          "created": "2019-01-28T21:00:00",
          "nb_pl_tot": 5,
          "nb_pl_transit": 0,
          "nb_veh": 142,
          "pct_pl_transit": 0,
          "type": "VL total",
          "type_x": "PL total",
          "type_y": "PL transit"
         },
         {
          "camera_id": 1,
          "created": "2019-01-28T22:00:00",
          "nb_pl_tot": 2,
          "nb_pl_transit": 0,
          "nb_veh": 87,
          "pct_pl_transit": 0,
          "type": "VL total",
          "type_x": "PL total",
          "type_y": "PL transit"
         },
         {
          "camera_id": 1,
          "created": "2019-01-28T23:00:00",
          "nb_pl_tot": 3,
          "nb_pl_transit": 0,
          "nb_veh": 45,
          "pct_pl_transit": 0,
          "type": "VL total",
          "type_x": "PL total",
          "type_y": "PL transit"
         },
         {
          "camera_id": 1,
          "created": "2019-01-28T06:00:00",
          "nb_pl_tot": 47,
          "nb_pl_transit": 1,
          "nb_veh": 1,
          "pct_pl_transit": 2.127659574468085,
          "type": "PL transit",
          "type_x": "PL total",
          "type_y": "PL transit"
         },
         {
          "camera_id": 1,
          "created": "2019-01-28T07:00:00",
          "nb_pl_tot": 61,
          "nb_pl_transit": 2,
          "nb_veh": 2,
          "pct_pl_transit": 3.278688524590164,
          "type": "PL transit",
          "type_x": "PL total",
          "type_y": "PL transit"
         },
         {
          "camera_id": 1,
          "created": "2019-01-28T08:00:00",
          "nb_pl_tot": 128,
          "nb_pl_transit": 2,
          "nb_veh": 2,
          "pct_pl_transit": 1.5625,
          "type": "PL transit",
          "type_x": "PL total",
          "type_y": "PL transit"
         },
         {
          "camera_id": 1,
          "created": "2019-01-28T09:00:00",
          "nb_pl_tot": 137,
          "nb_pl_transit": 0,
          "nb_veh": 0,
          "pct_pl_transit": 0,
          "type": "PL transit",
          "type_x": "PL total",
          "type_y": "PL transit"
         },
         {
          "camera_id": 1,
          "created": "2019-01-28T10:00:00",
          "nb_pl_tot": 148,
          "nb_pl_transit": 0,
          "nb_veh": 0,
          "pct_pl_transit": 0,
          "type": "PL transit",
          "type_x": "PL total",
          "type_y": "PL transit"
         },
         {
          "camera_id": 1,
          "created": "2019-01-28T11:00:00",
          "nb_pl_tot": 109,
          "nb_pl_transit": 2,
          "nb_veh": 2,
          "pct_pl_transit": 1.834862385321101,
          "type": "PL transit",
          "type_x": "PL total",
          "type_y": "PL transit"
         },
         {
          "camera_id": 1,
          "created": "2019-01-28T12:00:00",
          "nb_pl_tot": 128,
          "nb_pl_transit": 1,
          "nb_veh": 1,
          "pct_pl_transit": 0.78125,
          "type": "PL transit",
          "type_x": "PL total",
          "type_y": "PL transit"
         },
         {
          "camera_id": 1,
          "created": "2019-01-28T13:00:00",
          "nb_pl_tot": 138,
          "nb_pl_transit": 2,
          "nb_veh": 2,
          "pct_pl_transit": 1.4492753623188406,
          "type": "PL transit",
          "type_x": "PL total",
          "type_y": "PL transit"
         },
         {
          "camera_id": 1,
          "created": "2019-01-28T14:00:00",
          "nb_pl_tot": 135,
          "nb_pl_transit": 0,
          "nb_veh": 0,
          "pct_pl_transit": 0,
          "type": "PL transit",
          "type_x": "PL total",
          "type_y": "PL transit"
         },
         {
          "camera_id": 1,
          "created": "2019-01-28T15:00:00",
          "nb_pl_tot": 99,
          "nb_pl_transit": 3,
          "nb_veh": 3,
          "pct_pl_transit": 3.0303030303030303,
          "type": "PL transit",
          "type_x": "PL total",
          "type_y": "PL transit"
         },
         {
          "camera_id": 1,
          "created": "2019-01-28T16:00:00",
          "nb_pl_tot": 77,
          "nb_pl_transit": 9,
          "nb_veh": 9,
          "pct_pl_transit": 11.688311688311689,
          "type": "PL transit",
          "type_x": "PL total",
          "type_y": "PL transit"
         },
         {
          "camera_id": 1,
          "created": "2019-01-28T17:00:00",
          "nb_pl_tot": 13,
          "nb_pl_transit": 2,
          "nb_veh": 2,
          "pct_pl_transit": 15.384615384615385,
          "type": "PL transit",
          "type_x": "PL total",
          "type_y": "PL transit"
         },
         {
          "camera_id": 1,
          "created": "2019-01-28T18:00:00",
          "nb_pl_tot": 5,
          "nb_pl_transit": 0,
          "nb_veh": 0,
          "pct_pl_transit": 0,
          "type": "PL transit",
          "type_x": "PL total",
          "type_y": "PL transit"
         },
         {
          "camera_id": 1,
          "created": "2019-01-28T19:00:00",
          "nb_pl_tot": 9,
          "nb_pl_transit": 1,
          "nb_veh": 1,
          "pct_pl_transit": 11.11111111111111,
          "type": "PL transit",
          "type_x": "PL total",
          "type_y": "PL transit"
         },
         {
          "camera_id": 1,
          "created": "2019-01-28T20:00:00",
          "nb_pl_tot": 3,
          "nb_pl_transit": 0,
          "nb_veh": 0,
          "pct_pl_transit": 0,
          "type": "PL transit",
          "type_x": "PL total",
          "type_y": "PL transit"
         },
         {
          "camera_id": 1,
          "created": "2019-01-28T21:00:00",
          "nb_pl_tot": 5,
          "nb_pl_transit": 0,
          "nb_veh": 0,
          "pct_pl_transit": 0,
          "type": "PL transit",
          "type_x": "PL total",
          "type_y": "PL transit"
         },
         {
          "camera_id": 1,
          "created": "2019-01-28T22:00:00",
          "nb_pl_tot": 2,
          "nb_pl_transit": 0,
          "nb_veh": 0,
          "pct_pl_transit": 0,
          "type": "PL transit",
          "type_x": "PL total",
          "type_y": "PL transit"
         },
         {
          "camera_id": 1,
          "created": "2019-01-28T23:00:00",
          "nb_pl_tot": 3,
          "nb_pl_transit": 0,
          "nb_veh": 0,
          "pct_pl_transit": 0,
          "type": "PL transit",
          "type_x": "PL total",
          "type_y": "PL transit"
         }
        ],
        "data-92e676b705d87cc226f27a6e4f419d99": [
         {
          "camera_id": 1,
          "created": "2019-01-28T00:00:00",
          "heure": 0,
          "nb_pl_tot": null,
          "nb_pl_transit": null,
          "nb_veh": 1,
          "pct_pl_transit": null,
          "type": "PL total",
          "type_x": null,
          "type_y": null
         },
         {
          "camera_id": 1,
          "created": "2019-01-28T01:00:00",
          "heure": 1,
          "nb_pl_tot": null,
          "nb_pl_transit": null,
          "nb_veh": 2,
          "pct_pl_transit": null,
          "type": "PL total",
          "type_x": null,
          "type_y": null
         },
         {
          "camera_id": 1,
          "created": "2019-01-28T02:00:00",
          "heure": 2,
          "nb_pl_tot": null,
          "nb_pl_transit": null,
          "nb_veh": 5,
          "pct_pl_transit": null,
          "type": "PL total",
          "type_x": null,
          "type_y": null
         },
         {
          "camera_id": 1,
          "created": "2019-01-28T03:00:00",
          "heure": 3,
          "nb_pl_tot": null,
          "nb_pl_transit": null,
          "nb_veh": 6,
          "pct_pl_transit": null,
          "type": "PL total",
          "type_x": null,
          "type_y": null
         },
         {
          "camera_id": 1,
          "created": "2019-01-28T04:00:00",
          "heure": 4,
          "nb_pl_tot": null,
          "nb_pl_transit": null,
          "nb_veh": 16,
          "pct_pl_transit": null,
          "type": "PL total",
          "type_x": null,
          "type_y": null
         },
         {
          "camera_id": 1,
          "created": "2019-01-28T05:00:00",
          "heure": 5,
          "nb_pl_tot": null,
          "nb_pl_transit": null,
          "nb_veh": 37,
          "pct_pl_transit": null,
          "type": "PL total",
          "type_x": null,
          "type_y": null
         },
         {
          "camera_id": 1,
          "created": "2019-01-28T06:00:00",
          "heure": 6,
          "nb_pl_tot": 47,
          "nb_pl_transit": 1,
          "nb_veh": 47,
          "pct_pl_transit": 2.127659574468085,
          "type": "PL total",
          "type_x": "PL total",
          "type_y": "PL transit"
         },
         {
          "camera_id": 1,
          "created": "2019-01-28T07:00:00",
          "heure": 7,
          "nb_pl_tot": 61,
          "nb_pl_transit": 2,
          "nb_veh": 61,
          "pct_pl_transit": 3.278688524590164,
          "type": "PL total",
          "type_x": "PL total",
          "type_y": "PL transit"
         },
         {
          "camera_id": 1,
          "created": "2019-01-28T08:00:00",
          "heure": 8,
          "nb_pl_tot": 128,
          "nb_pl_transit": 2,
          "nb_veh": 128,
          "pct_pl_transit": 1.5625,
          "type": "PL total",
          "type_x": "PL total",
          "type_y": "PL transit"
         },
         {
          "camera_id": 1,
          "created": "2019-01-28T09:00:00",
          "heure": 9,
          "nb_pl_tot": 137,
          "nb_pl_transit": 0,
          "nb_veh": 137,
          "pct_pl_transit": 0,
          "type": "PL total",
          "type_x": "PL total",
          "type_y": "PL transit"
         },
         {
          "camera_id": 1,
          "created": "2019-01-28T10:00:00",
          "heure": 10,
          "nb_pl_tot": 148,
          "nb_pl_transit": 0,
          "nb_veh": 148,
          "pct_pl_transit": 0,
          "type": "PL total",
          "type_x": "PL total",
          "type_y": "PL transit"
         },
         {
          "camera_id": 1,
          "created": "2019-01-28T11:00:00",
          "heure": 11,
          "nb_pl_tot": 109,
          "nb_pl_transit": 2,
          "nb_veh": 109,
          "pct_pl_transit": 1.834862385321101,
          "type": "PL total",
          "type_x": "PL total",
          "type_y": "PL transit"
         },
         {
          "camera_id": 1,
          "created": "2019-01-28T12:00:00",
          "heure": 12,
          "nb_pl_tot": 128,
          "nb_pl_transit": 1,
          "nb_veh": 128,
          "pct_pl_transit": 0.78125,
          "type": "PL total",
          "type_x": "PL total",
          "type_y": "PL transit"
         },
         {
          "camera_id": 1,
          "created": "2019-01-28T13:00:00",
          "heure": 13,
          "nb_pl_tot": 138,
          "nb_pl_transit": 2,
          "nb_veh": 138,
          "pct_pl_transit": 1.4492753623188406,
          "type": "PL total",
          "type_x": "PL total",
          "type_y": "PL transit"
         },
         {
          "camera_id": 1,
          "created": "2019-01-28T14:00:00",
          "heure": 14,
          "nb_pl_tot": 135,
          "nb_pl_transit": 0,
          "nb_veh": 135,
          "pct_pl_transit": 0,
          "type": "PL total",
          "type_x": "PL total",
          "type_y": "PL transit"
         },
         {
          "camera_id": 1,
          "created": "2019-01-28T15:00:00",
          "heure": 15,
          "nb_pl_tot": 99,
          "nb_pl_transit": 3,
          "nb_veh": 99,
          "pct_pl_transit": 3.0303030303030303,
          "type": "PL total",
          "type_x": "PL total",
          "type_y": "PL transit"
         },
         {
          "camera_id": 1,
          "created": "2019-01-28T16:00:00",
          "heure": 16,
          "nb_pl_tot": 77,
          "nb_pl_transit": 9,
          "nb_veh": 77,
          "pct_pl_transit": 11.688311688311689,
          "type": "PL total",
          "type_x": "PL total",
          "type_y": "PL transit"
         },
         {
          "camera_id": 1,
          "created": "2019-01-28T17:00:00",
          "heure": 17,
          "nb_pl_tot": 13,
          "nb_pl_transit": 2,
          "nb_veh": 13,
          "pct_pl_transit": 15.384615384615385,
          "type": "PL total",
          "type_x": "PL total",
          "type_y": "PL transit"
         },
         {
          "camera_id": 1,
          "created": "2019-01-28T18:00:00",
          "heure": 18,
          "nb_pl_tot": 5,
          "nb_pl_transit": 0,
          "nb_veh": 5,
          "pct_pl_transit": 0,
          "type": "PL total",
          "type_x": "PL total",
          "type_y": "PL transit"
         },
         {
          "camera_id": 1,
          "created": "2019-01-28T19:00:00",
          "heure": 19,
          "nb_pl_tot": 9,
          "nb_pl_transit": 1,
          "nb_veh": 9,
          "pct_pl_transit": 11.11111111111111,
          "type": "PL total",
          "type_x": "PL total",
          "type_y": "PL transit"
         },
         {
          "camera_id": 1,
          "created": "2019-01-28T20:00:00",
          "heure": 20,
          "nb_pl_tot": 3,
          "nb_pl_transit": 0,
          "nb_veh": 3,
          "pct_pl_transit": 0,
          "type": "PL total",
          "type_x": "PL total",
          "type_y": "PL transit"
         },
         {
          "camera_id": 1,
          "created": "2019-01-28T21:00:00",
          "heure": 21,
          "nb_pl_tot": 5,
          "nb_pl_transit": 0,
          "nb_veh": 5,
          "pct_pl_transit": 0,
          "type": "PL total",
          "type_x": "PL total",
          "type_y": "PL transit"
         },
         {
          "camera_id": 1,
          "created": "2019-01-28T22:00:00",
          "heure": 22,
          "nb_pl_tot": 2,
          "nb_pl_transit": 0,
          "nb_veh": 2,
          "pct_pl_transit": 0,
          "type": "PL total",
          "type_x": "PL total",
          "type_y": "PL transit"
         },
         {
          "camera_id": 1,
          "created": "2019-01-28T23:00:00",
          "heure": 23,
          "nb_pl_tot": 3,
          "nb_pl_transit": 0,
          "nb_veh": 3,
          "pct_pl_transit": 0,
          "type": "PL total",
          "type_x": "PL total",
          "type_y": "PL transit"
         },
         {
          "camera_id": 1,
          "created": "2019-01-28T00:00:00",
          "heure": 0,
          "nb_pl_tot": null,
          "nb_pl_transit": null,
          "nb_veh": 39,
          "pct_pl_transit": null,
          "type": "VL total",
          "type_x": null,
          "type_y": null
         },
         {
          "camera_id": 1,
          "created": "2019-01-28T01:00:00",
          "heure": 1,
          "nb_pl_tot": null,
          "nb_pl_transit": null,
          "nb_veh": 27,
          "pct_pl_transit": null,
          "type": "VL total",
          "type_x": null,
          "type_y": null
         },
         {
          "camera_id": 1,
          "created": "2019-01-28T02:00:00",
          "heure": 2,
          "nb_pl_tot": null,
          "nb_pl_transit": null,
          "nb_veh": 17,
          "pct_pl_transit": null,
          "type": "VL total",
          "type_x": null,
          "type_y": null
         },
         {
          "camera_id": 1,
          "created": "2019-01-28T03:00:00",
          "heure": 3,
          "nb_pl_tot": null,
          "nb_pl_transit": null,
          "nb_veh": 73,
          "pct_pl_transit": null,
          "type": "VL total",
          "type_x": null,
          "type_y": null
         },
         {
          "camera_id": 1,
          "created": "2019-01-28T04:00:00",
          "heure": 4,
          "nb_pl_tot": null,
          "nb_pl_transit": null,
          "nb_veh": 197,
          "pct_pl_transit": null,
          "type": "VL total",
          "type_x": null,
          "type_y": null
         },
         {
          "camera_id": 1,
          "created": "2019-01-28T05:00:00",
          "heure": 5,
          "nb_pl_tot": null,
          "nb_pl_transit": null,
          "nb_veh": 458,
          "pct_pl_transit": null,
          "type": "VL total",
          "type_x": null,
          "type_y": null
         },
         {
          "camera_id": 1,
          "created": "2019-01-28T06:00:00",
          "heure": 6,
          "nb_pl_tot": 47,
          "nb_pl_transit": 1,
          "nb_veh": 792,
          "pct_pl_transit": 2.127659574468085,
          "type": "VL total",
          "type_x": "PL total",
          "type_y": "PL transit"
         },
         {
          "camera_id": 1,
          "created": "2019-01-28T07:00:00",
          "heure": 7,
          "nb_pl_tot": 61,
          "nb_pl_transit": 2,
          "nb_veh": 1164,
          "pct_pl_transit": 3.278688524590164,
          "type": "VL total",
          "type_x": "PL total",
          "type_y": "PL transit"
         },
         {
          "camera_id": 1,
          "created": "2019-01-28T08:00:00",
          "heure": 8,
          "nb_pl_tot": 128,
          "nb_pl_transit": 2,
          "nb_veh": 2168,
          "pct_pl_transit": 1.5625,
          "type": "VL total",
          "type_x": "PL total",
          "type_y": "PL transit"
         },
         {
          "camera_id": 1,
          "created": "2019-01-28T09:00:00",
          "heure": 9,
          "nb_pl_tot": 137,
          "nb_pl_transit": 0,
          "nb_veh": 2050,
          "pct_pl_transit": 0,
          "type": "VL total",
          "type_x": "PL total",
          "type_y": "PL transit"
         },
         {
          "camera_id": 1,
          "created": "2019-01-28T10:00:00",
          "heure": 10,
          "nb_pl_tot": 148,
          "nb_pl_transit": 0,
          "nb_veh": 1924,
          "pct_pl_transit": 0,
          "type": "VL total",
          "type_x": "PL total",
          "type_y": "PL transit"
         },
         {
          "camera_id": 1,
          "created": "2019-01-28T11:00:00",
          "heure": 11,
          "nb_pl_tot": 109,
          "nb_pl_transit": 2,
          "nb_veh": 1983,
          "pct_pl_transit": 1.834862385321101,
          "type": "VL total",
          "type_x": "PL total",
          "type_y": "PL transit"
         },
         {
          "camera_id": 1,
          "created": "2019-01-28T12:00:00",
          "heure": 12,
          "nb_pl_tot": 128,
          "nb_pl_transit": 1,
          "nb_veh": 2222,
          "pct_pl_transit": 0.78125,
          "type": "VL total",
          "type_x": "PL total",
          "type_y": "PL transit"
         },
         {
          "camera_id": 1,
          "created": "2019-01-28T13:00:00",
          "heure": 13,
          "nb_pl_tot": 138,
          "nb_pl_transit": 2,
          "nb_veh": 2087,
          "pct_pl_transit": 1.4492753623188406,
          "type": "VL total",
          "type_x": "PL total",
          "type_y": "PL transit"
         },
         {
          "camera_id": 1,
          "created": "2019-01-28T14:00:00",
          "heure": 14,
          "nb_pl_tot": 135,
          "nb_pl_transit": 0,
          "nb_veh": 2024,
          "pct_pl_transit": 0,
          "type": "VL total",
          "type_x": "PL total",
          "type_y": "PL transit"
         },
         {
          "camera_id": 1,
          "created": "2019-01-28T15:00:00",
          "heure": 15,
          "nb_pl_tot": 99,
          "nb_pl_transit": 3,
          "nb_veh": 2399,
          "pct_pl_transit": 3.0303030303030303,
          "type": "VL total",
          "type_x": "PL total",
          "type_y": "PL transit"
         },
         {
          "camera_id": 1,
          "created": "2019-01-28T16:00:00",
          "heure": 16,
          "nb_pl_tot": 77,
          "nb_pl_transit": 9,
          "nb_veh": 2327,
          "pct_pl_transit": 11.688311688311689,
          "type": "VL total",
          "type_x": "PL total",
          "type_y": "PL transit"
         },
         {
          "camera_id": 1,
          "created": "2019-01-28T17:00:00",
          "heure": 17,
          "nb_pl_tot": 13,
          "nb_pl_transit": 2,
          "nb_veh": 753,
          "pct_pl_transit": 15.384615384615385,
          "type": "VL total",
          "type_x": "PL total",
          "type_y": "PL transit"
         },
         {
          "camera_id": 1,
          "created": "2019-01-28T18:00:00",
          "heure": 18,
          "nb_pl_tot": 5,
          "nb_pl_transit": 0,
          "nb_veh": 440,
          "pct_pl_transit": 0,
          "type": "VL total",
          "type_x": "PL total",
          "type_y": "PL transit"
         },
         {
          "camera_id": 1,
          "created": "2019-01-28T19:00:00",
          "heure": 19,
          "nb_pl_tot": 9,
          "nb_pl_transit": 1,
          "nb_veh": 298,
          "pct_pl_transit": 11.11111111111111,
          "type": "VL total",
          "type_x": "PL total",
          "type_y": "PL transit"
         },
         {
          "camera_id": 1,
          "created": "2019-01-28T20:00:00",
          "heure": 20,
          "nb_pl_tot": 3,
          "nb_pl_transit": 0,
          "nb_veh": 236,
          "pct_pl_transit": 0,
          "type": "VL total",
          "type_x": "PL total",
          "type_y": "PL transit"
         },
         {
          "camera_id": 1,
          "created": "2019-01-28T21:00:00",
          "heure": 21,
          "nb_pl_tot": 5,
          "nb_pl_transit": 0,
          "nb_veh": 142,
          "pct_pl_transit": 0,
          "type": "VL total",
          "type_x": "PL total",
          "type_y": "PL transit"
         },
         {
          "camera_id": 1,
          "created": "2019-01-28T22:00:00",
          "heure": 22,
          "nb_pl_tot": 2,
          "nb_pl_transit": 0,
          "nb_veh": 87,
          "pct_pl_transit": 0,
          "type": "VL total",
          "type_x": "PL total",
          "type_y": "PL transit"
         },
         {
          "camera_id": 1,
          "created": "2019-01-28T23:00:00",
          "heure": 23,
          "nb_pl_tot": 3,
          "nb_pl_transit": 0,
          "nb_veh": 45,
          "pct_pl_transit": 0,
          "type": "VL total",
          "type_x": "PL total",
          "type_y": "PL transit"
         },
         {
          "camera_id": 1,
          "created": "2019-01-28T06:00:00",
          "heure": 6,
          "nb_pl_tot": 47,
          "nb_pl_transit": 1,
          "nb_veh": 1,
          "pct_pl_transit": 2.127659574468085,
          "type": "PL transit",
          "type_x": "PL total",
          "type_y": "PL transit"
         },
         {
          "camera_id": 1,
          "created": "2019-01-28T07:00:00",
          "heure": 7,
          "nb_pl_tot": 61,
          "nb_pl_transit": 2,
          "nb_veh": 2,
          "pct_pl_transit": 3.278688524590164,
          "type": "PL transit",
          "type_x": "PL total",
          "type_y": "PL transit"
         },
         {
          "camera_id": 1,
          "created": "2019-01-28T08:00:00",
          "heure": 8,
          "nb_pl_tot": 128,
          "nb_pl_transit": 2,
          "nb_veh": 2,
          "pct_pl_transit": 1.5625,
          "type": "PL transit",
          "type_x": "PL total",
          "type_y": "PL transit"
         },
         {
          "camera_id": 1,
          "created": "2019-01-28T09:00:00",
          "heure": 9,
          "nb_pl_tot": 137,
          "nb_pl_transit": 0,
          "nb_veh": 0,
          "pct_pl_transit": 0,
          "type": "PL transit",
          "type_x": "PL total",
          "type_y": "PL transit"
         },
         {
          "camera_id": 1,
          "created": "2019-01-28T10:00:00",
          "heure": 10,
          "nb_pl_tot": 148,
          "nb_pl_transit": 0,
          "nb_veh": 0,
          "pct_pl_transit": 0,
          "type": "PL transit",
          "type_x": "PL total",
          "type_y": "PL transit"
         },
         {
          "camera_id": 1,
          "created": "2019-01-28T11:00:00",
          "heure": 11,
          "nb_pl_tot": 109,
          "nb_pl_transit": 2,
          "nb_veh": 2,
          "pct_pl_transit": 1.834862385321101,
          "type": "PL transit",
          "type_x": "PL total",
          "type_y": "PL transit"
         },
         {
          "camera_id": 1,
          "created": "2019-01-28T12:00:00",
          "heure": 12,
          "nb_pl_tot": 128,
          "nb_pl_transit": 1,
          "nb_veh": 1,
          "pct_pl_transit": 0.78125,
          "type": "PL transit",
          "type_x": "PL total",
          "type_y": "PL transit"
         },
         {
          "camera_id": 1,
          "created": "2019-01-28T13:00:00",
          "heure": 13,
          "nb_pl_tot": 138,
          "nb_pl_transit": 2,
          "nb_veh": 2,
          "pct_pl_transit": 1.4492753623188406,
          "type": "PL transit",
          "type_x": "PL total",
          "type_y": "PL transit"
         },
         {
          "camera_id": 1,
          "created": "2019-01-28T14:00:00",
          "heure": 14,
          "nb_pl_tot": 135,
          "nb_pl_transit": 0,
          "nb_veh": 0,
          "pct_pl_transit": 0,
          "type": "PL transit",
          "type_x": "PL total",
          "type_y": "PL transit"
         },
         {
          "camera_id": 1,
          "created": "2019-01-28T15:00:00",
          "heure": 15,
          "nb_pl_tot": 99,
          "nb_pl_transit": 3,
          "nb_veh": 3,
          "pct_pl_transit": 3.0303030303030303,
          "type": "PL transit",
          "type_x": "PL total",
          "type_y": "PL transit"
         },
         {
          "camera_id": 1,
          "created": "2019-01-28T16:00:00",
          "heure": 16,
          "nb_pl_tot": 77,
          "nb_pl_transit": 9,
          "nb_veh": 9,
          "pct_pl_transit": 11.688311688311689,
          "type": "PL transit",
          "type_x": "PL total",
          "type_y": "PL transit"
         },
         {
          "camera_id": 1,
          "created": "2019-01-28T17:00:00",
          "heure": 17,
          "nb_pl_tot": 13,
          "nb_pl_transit": 2,
          "nb_veh": 2,
          "pct_pl_transit": 15.384615384615385,
          "type": "PL transit",
          "type_x": "PL total",
          "type_y": "PL transit"
         },
         {
          "camera_id": 1,
          "created": "2019-01-28T18:00:00",
          "heure": 18,
          "nb_pl_tot": 5,
          "nb_pl_transit": 0,
          "nb_veh": 0,
          "pct_pl_transit": 0,
          "type": "PL transit",
          "type_x": "PL total",
          "type_y": "PL transit"
         },
         {
          "camera_id": 1,
          "created": "2019-01-28T19:00:00",
          "heure": 19,
          "nb_pl_tot": 9,
          "nb_pl_transit": 1,
          "nb_veh": 1,
          "pct_pl_transit": 11.11111111111111,
          "type": "PL transit",
          "type_x": "PL total",
          "type_y": "PL transit"
         },
         {
          "camera_id": 1,
          "created": "2019-01-28T20:00:00",
          "heure": 20,
          "nb_pl_tot": 3,
          "nb_pl_transit": 0,
          "nb_veh": 0,
          "pct_pl_transit": 0,
          "type": "PL transit",
          "type_x": "PL total",
          "type_y": "PL transit"
         },
         {
          "camera_id": 1,
          "created": "2019-01-28T21:00:00",
          "heure": 21,
          "nb_pl_tot": 5,
          "nb_pl_transit": 0,
          "nb_veh": 0,
          "pct_pl_transit": 0,
          "type": "PL transit",
          "type_x": "PL total",
          "type_y": "PL transit"
         },
         {
          "camera_id": 1,
          "created": "2019-01-28T22:00:00",
          "heure": 22,
          "nb_pl_tot": 2,
          "nb_pl_transit": 0,
          "nb_veh": 0,
          "pct_pl_transit": 0,
          "type": "PL transit",
          "type_x": "PL total",
          "type_y": "PL transit"
         },
         {
          "camera_id": 1,
          "created": "2019-01-28T23:00:00",
          "heure": 23,
          "nb_pl_tot": 3,
          "nb_pl_transit": 0,
          "nb_veh": 0,
          "pct_pl_transit": 0,
          "type": "PL transit",
          "type_x": "PL total",
          "type_y": "PL transit"
         }
        ]
       },
       "vconcat": [
        {
         "layer": [
          {
           "data": {
            "name": "data-814030b1bd5d736434a531fdb4ebe061"
           },
           "encoding": {
            "color": {
             "field": "type",
             "type": "nominal"
            },
            "x": {
             "axis": {
              "format": "%H:%M",
              "title": "Heure"
             },
             "field": "created",
             "type": "temporal"
            },
            "y": {
             "axis": {
              "title": "Nb de véhicules"
             },
             "field": "nb_veh",
             "stack": null,
             "type": "quantitative"
            }
           },
           "mark": {
            "opacity": 0.7,
            "size": 20,
            "type": "bar"
           }
          },
          {
           "data": {
            "name": "data-814030b1bd5d736434a531fdb4ebe061"
           },
           "encoding": {
            "x": {
             "axis": {
              "format": "%H:%M",
              "title": "Heure"
             },
             "field": "created",
             "type": "temporal"
            },
            "y": {
             "axis": {
              "title": "% de PL en transit"
             },
             "field": "pct_pl_transit",
             "type": "quantitative"
            }
           },
           "mark": {
            "color": "green",
            "type": "line"
           }
          }
         ],
         "resolve": {
          "scale": {
           "color": "shared",
           "x": "shared",
           "y": "independent"
          }
         },
         "width": 800
        },
        {
         "layer": [
          {
           "data": {
            "name": "data-92e676b705d87cc226f27a6e4f419d99"
           },
           "encoding": {
            "color": {
             "field": "type",
             "type": "nominal"
            },
            "x": {
             "axis": {
              "format": "%H:%M",
              "title": "Heure"
             },
             "field": "created",
             "type": "temporal"
            },
            "y": {
             "axis": {
              "title": "Nb de véhicules"
             },
             "field": "nb_veh",
             "stack": null,
             "type": "quantitative"
            }
           },
           "mark": {
            "opacity": 0.7,
            "size": 20,
            "type": "bar"
           }
          },
          {
           "data": {
            "name": "data-92e676b705d87cc226f27a6e4f419d99"
           },
           "encoding": {
            "x": {
             "axis": {
              "format": "%H:%M",
              "title": "Heure"
             },
             "field": "created",
             "type": "temporal"
            },
            "y": {
             "axis": {
              "title": "% de PL en transit"
             },
             "field": "pct_pl_transit",
             "type": "quantitative"
            }
           },
           "mark": {
            "color": "green",
            "type": "line"
           }
          }
         ],
         "resolve": {
          "scale": {
           "color": "shared",
           "x": "shared",
           "y": "independent"
          }
         },
         "width": 800
        }
       ]
      },
      "image/png": "[encoded data removed]",
      "text/plain": [
       "<VegaLite 2 object>\n",
       "\n",
       "If you see this message, it means the renderer has not been properly enabled\n",
       "for the frontend that you are using. For more information, see\n",
       "https://altair-viz.github.io/user_guide/troubleshooting.html\n"
      ]
     },
     "execution_count": 46,
     "metadata": {},
     "output_type": "execute_result"
    }
   ],
   "source": [
    "alt.vconcat(g.graph_VL_PL_transit_j_cam(synt_nb_veh_cam, '2019-01-28', 1),g.graph_VL_PL_transit_j_cam(synt_nb_veh_cam_redresse, '2019-01-28', 1))"
   ]
  },
  {
   "cell_type": "markdown",
   "metadata": {},
   "source": [
    "## 7.3 Redressement des trajets extrapoles\n",
    "\n",
    ">**A TESTER SUR JEU DE DONNEES COMPLET**"
   ]
  },
  {
   "cell_type": "code",
   "execution_count": null,
   "metadata": {},
   "outputs": [],
   "source": [
    "# de même que opur la rocade, il faut ajouter des passages fictifs à la df des passages afin de pouvoir approximer mieux les parts de PL\n",
    "#trouver les passages extrapoles\n",
    "df_od_final.loc[df_od_final['correction_o_d_type']=='extrapole']\n",
    "# tester la camera de debut :si c'est pas une des cameras d'entree - sortie du dispositif, on sait si le trajet est extrapole en début ou fin\n",
    "#selon l'o_d crééer un passage fictuf avec le numero de la camera qui manque du trajets sensé avoir eu leiu\n",
    "#estimer le temps de passage selon le temps theorique : date_cam_1 ou 2 +ou- temps ou temps theorique"
   ]
  },
  {
   "cell_type": "markdown",
   "metadata": {},
   "source": [
    "## 7.4. Grouper les réusltats par JO"
   ]
  },
  {
   "cell_type": "code",
   "execution_count": 133,
   "metadata": {},
   "outputs": [
    {
     "data": {
      "application/vnd.vegalite.v2+json": {
       "$schema": "https://vega.github.io/schema/vega-lite/v2.6.0.json",
       "config": {
        "view": {
         "height": 300,
         "width": 400
        }
       },
       "datasets": {
        "data-95c3837ad20261cf18ae521e675b426a": [
         {
          "camera_id": 4,
          "created": "1970-01-01T00:00:00",
          "heure": 0,
          "nb_veh": 122.2,
          "pct_pl_transit": 22.641020557517212,
          "type": "PL total"
         },
         {
          "camera_id": 4,
          "created": "1970-01-01T00:00:00",
          "heure": 0,
          "nb_veh": 30.5,
          "pct_pl_transit": 22.641020557517212,
          "type": "PL transit"
         },
         {
          "camera_id": 4,
          "created": "1970-01-01T00:00:00",
          "heure": 0,
          "nb_veh": 218,
          "pct_pl_transit": 22.641020557517212,
          "type": "VL total"
         },
         {
          "camera_id": 4,
          "created": "1970-01-01T01:00:00",
          "heure": 1,
          "nb_veh": 118.6,
          "pct_pl_transit": 18.7071445695247,
          "type": "PL total"
         },
         {
          "camera_id": 4,
          "created": "1970-01-01T01:00:00",
          "heure": 1,
          "nb_veh": 23.5,
          "pct_pl_transit": 18.7071445695247,
          "type": "PL transit"
         },
         {
          "camera_id": 4,
          "created": "1970-01-01T01:00:00",
          "heure": 1,
          "nb_veh": 156.4,
          "pct_pl_transit": 18.7071445695247,
          "type": "VL total"
         },
         {
          "camera_id": 4,
          "created": "1970-01-01T02:00:00",
          "heure": 2,
          "nb_veh": 126.6,
          "pct_pl_transit": 18.372859744990894,
          "type": "PL total"
         },
         {
          "camera_id": 4,
          "created": "1970-01-01T02:00:00",
          "heure": 2,
          "nb_veh": 26.25,
          "pct_pl_transit": 18.372859744990894,
          "type": "PL transit"
         },
         {
          "camera_id": 4,
          "created": "1970-01-01T02:00:00",
          "heure": 2,
          "nb_veh": 138.6,
          "pct_pl_transit": 18.372859744990894,
          "type": "VL total"
         },
         {
          "camera_id": 4,
          "created": "1970-01-01T03:00:00",
          "heure": 3,
          "nb_veh": 126.4,
          "pct_pl_transit": 12.354881564715619,
          "type": "PL total"
         },
         {
          "camera_id": 4,
          "created": "1970-01-01T03:00:00",
          "heure": 3,
          "nb_veh": 16.25,
          "pct_pl_transit": 12.354881564715619,
          "type": "PL transit"
         },
         {
          "camera_id": 4,
          "created": "1970-01-01T03:00:00",
          "heure": 3,
          "nb_veh": 201.6,
          "pct_pl_transit": 12.354881564715619,
          "type": "VL total"
         },
         {
          "camera_id": 4,
          "created": "1970-01-01T04:00:00",
          "heure": 4,
          "nb_veh": 188.4,
          "pct_pl_transit": 13.332984942094088,
          "type": "PL total"
         },
         {
          "camera_id": 4,
          "created": "1970-01-01T04:00:00",
          "heure": 4,
          "nb_veh": 25.5,
          "pct_pl_transit": 13.332984942094088,
          "type": "PL transit"
         },
         {
          "camera_id": 4,
          "created": "1970-01-01T04:00:00",
          "heure": 4,
          "nb_veh": 401.8,
          "pct_pl_transit": 13.332984942094088,
          "type": "VL total"
         },
         {
          "camera_id": 4,
          "created": "1970-01-01T05:00:00",
          "heure": 5,
          "nb_veh": 277.4,
          "pct_pl_transit": 16.978005076164294,
          "type": "PL total"
         },
         {
          "camera_id": 4,
          "created": "1970-01-01T05:00:00",
          "heure": 5,
          "nb_veh": 46.75,
          "pct_pl_transit": 16.978005076164294,
          "type": "PL transit"
         },
         {
          "camera_id": 4,
          "created": "1970-01-01T05:00:00",
          "heure": 5,
          "nb_veh": 992.4,
          "pct_pl_transit": 16.978005076164294,
          "type": "VL total"
         },
         {
          "camera_id": 4,
          "created": "1970-01-01T06:00:00",
          "heure": 6,
          "nb_veh": 287.6,
          "pct_pl_transit": 19.206502001017967,
          "type": "PL total"
         },
         {
          "camera_id": 4,
          "created": "1970-01-01T06:00:00",
          "heure": 6,
          "nb_veh": 55,
          "pct_pl_transit": 19.206502001017967,
          "type": "PL transit"
         },
         {
          "camera_id": 4,
          "created": "1970-01-01T06:00:00",
          "heure": 6,
          "nb_veh": 1978.6,
          "pct_pl_transit": 19.206502001017967,
          "type": "VL total"
         },
         {
          "camera_id": 4,
          "created": "1970-01-01T07:00:00",
          "heure": 7,
          "nb_veh": 346.2,
          "pct_pl_transit": 28.520056993074277,
          "type": "PL total"
         },
         {
          "camera_id": 4,
          "created": "1970-01-01T07:00:00",
          "heure": 7,
          "nb_veh": 107.5,
          "pct_pl_transit": 28.520056993074277,
          "type": "PL transit"
         },
         {
          "camera_id": 4,
          "created": "1970-01-01T07:00:00",
          "heure": 7,
          "nb_veh": 2206.2,
          "pct_pl_transit": 28.520056993074277,
          "type": "VL total"
         },
         {
          "camera_id": 4,
          "created": "1970-01-01T08:00:00",
          "heure": 8,
          "nb_veh": 482,
          "pct_pl_transit": 33.502443152797746,
          "type": "PL total"
         },
         {
          "camera_id": 4,
          "created": "1970-01-01T08:00:00",
          "heure": 8,
          "nb_veh": 201,
          "pct_pl_transit": 33.502443152797746,
          "type": "PL transit"
         },
         {
          "camera_id": 4,
          "created": "1970-01-01T08:00:00",
          "heure": 8,
          "nb_veh": 1736.6,
          "pct_pl_transit": 33.502443152797746,
          "type": "VL total"
         },
         {
          "camera_id": 4,
          "created": "1970-01-01T09:00:00",
          "heure": 9,
          "nb_veh": 646.2,
          "pct_pl_transit": 30.812414343099984,
          "type": "PL total"
         },
         {
          "camera_id": 4,
          "created": "1970-01-01T09:00:00",
          "heure": 9,
          "nb_veh": 219.75,
          "pct_pl_transit": 30.812414343099984,
          "type": "PL transit"
         },
         {
          "camera_id": 4,
          "created": "1970-01-01T09:00:00",
          "heure": 9,
          "nb_veh": 1800.2,
          "pct_pl_transit": 30.812414343099984,
          "type": "VL total"
         },
         {
          "camera_id": 4,
          "created": "1970-01-01T10:00:00",
          "heure": 10,
          "nb_veh": 534,
          "pct_pl_transit": 36.745441944584094,
          "type": "PL total"
         },
         {
          "camera_id": 4,
          "created": "1970-01-01T10:00:00",
          "heure": 10,
          "nb_veh": 258.3333333333333,
          "pct_pl_transit": 36.745441944584094,
          "type": "PL transit"
         },
         {
          "camera_id": 4,
          "created": "1970-01-01T10:00:00",
          "heure": 10,
          "nb_veh": 1435,
          "pct_pl_transit": 36.745441944584094,
          "type": "VL total"
         },
         {
          "camera_id": 4,
          "created": "1970-01-01T11:00:00",
          "heure": 11,
          "nb_veh": 493.6,
          "pct_pl_transit": 40.29837540940622,
          "type": "PL total"
         },
         {
          "camera_id": 4,
          "created": "1970-01-01T11:00:00",
          "heure": 11,
          "nb_veh": 267.6666666666667,
          "pct_pl_transit": 40.29837540940622,
          "type": "PL transit"
         },
         {
          "camera_id": 4,
          "created": "1970-01-01T11:00:00",
          "heure": 11,
          "nb_veh": 1429.4,
          "pct_pl_transit": 40.29837540940622,
          "type": "VL total"
         },
         {
          "camera_id": 4,
          "created": "1970-01-01T12:00:00",
          "heure": 12,
          "nb_veh": 432,
          "pct_pl_transit": 44.72442373211171,
          "type": "PL total"
         },
         {
          "camera_id": 4,
          "created": "1970-01-01T12:00:00",
          "heure": 12,
          "nb_veh": 204,
          "pct_pl_transit": 44.72442373211171,
          "type": "PL transit"
         },
         {
          "camera_id": 4,
          "created": "1970-01-01T12:00:00",
          "heure": 12,
          "nb_veh": 1365.8,
          "pct_pl_transit": 44.72442373211171,
          "type": "VL total"
         },
         {
          "camera_id": 4,
          "created": "1970-01-01T13:00:00",
          "heure": 13,
          "nb_veh": 469,
          "pct_pl_transit": 55.379332215073156,
          "type": "PL total"
         },
         {
          "camera_id": 4,
          "created": "1970-01-01T13:00:00",
          "heure": 13,
          "nb_veh": 191.66666666666666,
          "pct_pl_transit": 55.379332215073156,
          "type": "PL transit"
         },
         {
          "camera_id": 4,
          "created": "1970-01-01T13:00:00",
          "heure": 13,
          "nb_veh": 1536.6,
          "pct_pl_transit": 55.379332215073156,
          "type": "VL total"
         },
         {
          "camera_id": 4,
          "created": "1970-01-01T14:00:00",
          "heure": 14,
          "nb_veh": 535.2,
          "pct_pl_transit": 41.393319606987994,
          "type": "PL total"
         },
         {
          "camera_id": 4,
          "created": "1970-01-01T14:00:00",
          "heure": 14,
          "nb_veh": 198,
          "pct_pl_transit": 41.393319606987994,
          "type": "PL transit"
         },
         {
          "camera_id": 4,
          "created": "1970-01-01T14:00:00",
          "heure": 14,
          "nb_veh": 1857.8,
          "pct_pl_transit": 41.393319606987994,
          "type": "VL total"
         },
         {
          "camera_id": 4,
          "created": "1970-01-01T15:00:00",
          "heure": 15,
          "nb_veh": 532,
          "pct_pl_transit": 35.73948364443493,
          "type": "PL total"
         },
         {
          "camera_id": 4,
          "created": "1970-01-01T15:00:00",
          "heure": 15,
          "nb_veh": 221,
          "pct_pl_transit": 35.73948364443493,
          "type": "PL transit"
         },
         {
          "camera_id": 4,
          "created": "1970-01-01T15:00:00",
          "heure": 15,
          "nb_veh": 2312,
          "pct_pl_transit": 35.73948364443493,
          "type": "VL total"
         },
         {
          "camera_id": 4,
          "created": "1970-01-01T16:00:00",
          "heure": 16,
          "nb_veh": 420.2,
          "pct_pl_transit": 36.33174587101748,
          "type": "PL total"
         },
         {
          "camera_id": 4,
          "created": "1970-01-01T16:00:00",
          "heure": 16,
          "nb_veh": 165,
          "pct_pl_transit": 36.33174587101748,
          "type": "PL transit"
         },
         {
          "camera_id": 4,
          "created": "1970-01-01T16:00:00",
          "heure": 16,
          "nb_veh": 2549,
          "pct_pl_transit": 36.33174587101748,
          "type": "VL total"
         },
         {
          "camera_id": 4,
          "created": "1970-01-01T17:00:00",
          "heure": 17,
          "nb_veh": 336.6,
          "pct_pl_transit": 21.734299757265337,
          "type": "PL total"
         },
         {
          "camera_id": 4,
          "created": "1970-01-01T17:00:00",
          "heure": 17,
          "nb_veh": 81.33333333333333,
          "pct_pl_transit": 21.734299757265337,
          "type": "PL transit"
         },
         {
          "camera_id": 4,
          "created": "1970-01-01T17:00:00",
          "heure": 17,
          "nb_veh": 2192.2,
          "pct_pl_transit": 21.734299757265337,
          "type": "VL total"
         },
         {
          "camera_id": 4,
          "created": "1970-01-01T18:00:00",
          "heure": 18,
          "nb_veh": 330.8,
          "pct_pl_transit": 22.267992588635284,
          "type": "PL total"
         },
         {
          "camera_id": 4,
          "created": "1970-01-01T18:00:00",
          "heure": 18,
          "nb_veh": 83.66666666666667,
          "pct_pl_transit": 22.267992588635284,
          "type": "PL transit"
         },
         {
          "camera_id": 4,
          "created": "1970-01-01T18:00:00",
          "heure": 18,
          "nb_veh": 1821.8,
          "pct_pl_transit": 22.267992588635284,
          "type": "VL total"
         },
         {
          "camera_id": 4,
          "created": "1970-01-01T19:00:00",
          "heure": 19,
          "nb_veh": 251.6,
          "pct_pl_transit": 27.54853928506623,
          "type": "PL total"
         },
         {
          "camera_id": 4,
          "created": "1970-01-01T19:00:00",
          "heure": 19,
          "nb_veh": 81.66666666666667,
          "pct_pl_transit": 27.54853928506623,
          "type": "PL transit"
         },
         {
          "camera_id": 4,
          "created": "1970-01-01T19:00:00",
          "heure": 19,
          "nb_veh": 1315.4,
          "pct_pl_transit": 27.54853928506623,
          "type": "VL total"
         },
         {
          "camera_id": 4,
          "created": "1970-01-01T20:00:00",
          "heure": 20,
          "nb_veh": 204.4,
          "pct_pl_transit": 35.46185568244392,
          "type": "PL total"
         },
         {
          "camera_id": 4,
          "created": "1970-01-01T20:00:00",
          "heure": 20,
          "nb_veh": 84,
          "pct_pl_transit": 35.46185568244392,
          "type": "PL transit"
         },
         {
          "camera_id": 4,
          "created": "1970-01-01T20:00:00",
          "heure": 20,
          "nb_veh": 802,
          "pct_pl_transit": 35.46185568244392,
          "type": "VL total"
         },
         {
          "camera_id": 4,
          "created": "1970-01-01T21:00:00",
          "heure": 21,
          "nb_veh": 175.6,
          "pct_pl_transit": 36.9790056058526,
          "type": "PL total"
         },
         {
          "camera_id": 4,
          "created": "1970-01-01T21:00:00",
          "heure": 21,
          "nb_veh": 72.33333333333333,
          "pct_pl_transit": 36.9790056058526,
          "type": "PL transit"
         },
         {
          "camera_id": 4,
          "created": "1970-01-01T21:00:00",
          "heure": 21,
          "nb_veh": 650.6,
          "pct_pl_transit": 36.9790056058526,
          "type": "VL total"
         },
         {
          "camera_id": 4,
          "created": "1970-01-01T22:00:00",
          "heure": 22,
          "nb_veh": 138.4,
          "pct_pl_transit": 35.201384941914256,
          "type": "PL total"
         },
         {
          "camera_id": 4,
          "created": "1970-01-01T22:00:00",
          "heure": 22,
          "nb_veh": 51.666666666666664,
          "pct_pl_transit": 35.201384941914256,
          "type": "PL transit"
         },
         {
          "camera_id": 4,
          "created": "1970-01-01T22:00:00",
          "heure": 22,
          "nb_veh": 472.6,
          "pct_pl_transit": 35.201384941914256,
          "type": "VL total"
         },
         {
          "camera_id": 4,
          "created": "1970-01-01T23:00:00",
          "heure": 23,
          "nb_veh": 120.2,
          "pct_pl_transit": 33.26824682896647,
          "type": "PL total"
         },
         {
          "camera_id": 4,
          "created": "1970-01-01T23:00:00",
          "heure": 23,
          "nb_veh": 44,
          "pct_pl_transit": 33.26824682896647,
          "type": "PL transit"
         },
         {
          "camera_id": 4,
          "created": "1970-01-01T23:00:00",
          "heure": 23,
          "nb_veh": 319,
          "pct_pl_transit": 33.26824682896647,
          "type": "VL total"
         }
        ]
       },
       "layer": [
        {
         "data": {
          "name": "data-95c3837ad20261cf18ae521e675b426a"
         },
         "encoding": {
          "color": {
           "field": "type",
           "type": "nominal"
          },
          "x": {
           "axis": {
            "format": "%H:%M",
            "title": "Heure"
           },
           "field": "created",
           "type": "temporal"
          },
          "y": {
           "axis": {
            "title": "Nb de véhicules"
           },
           "field": "nb_veh",
           "stack": null,
           "type": "quantitative"
          }
         },
         "mark": {
          "opacity": 0.7,
          "size": 20,
          "type": "bar"
         }
        },
        {
         "data": {
          "name": "data-95c3837ad20261cf18ae521e675b426a"
         },
         "encoding": {
          "x": {
           "axis": {
            "format": "%H:%M",
            "title": "Heure"
           },
           "field": "created",
           "type": "temporal"
          },
          "y": {
           "axis": {
            "title": "% de PL en transit"
           },
           "field": "pct_pl_transit",
           "type": "quantitative"
          }
         },
         "mark": {
          "color": "green",
          "type": "line"
         }
        }
       ],
       "resolve": {
        "scale": {
         "color": "shared",
         "x": "shared",
         "y": "independent"
        }
       },
       "width": 800
      },
      "image/png": "[encoded data removed]",
      "text/plain": [
       "<VegaLite 2 object>\n",
       "\n",
       "If you see this message, it means the renderer has not been properly enabled\n",
       "for the frontend that you are using. For more information, see\n",
       "https://altair-viz.github.io/user_guide/troubleshooting.html\n"
      ]
     },
     "execution_count": 133,
     "metadata": {},
     "output_type": "execute_result"
    }
   ],
   "source": [
    "g.graph_VL_PL_transit_j_cam(synt_nb_veh_cam_redresse, 'JO', 4)"
   ]
  },
  {
   "cell_type": "markdown",
   "metadata": {},
   "source": [
    "# 8. Temps de parcours"
   ]
  },
  {
   "cell_type": "code",
   "execution_count": 26,
   "metadata": {},
   "outputs": [],
   "source": [
    "# on cherche à obtenir le temps de parcours moyen pour une camera, sur un jour ou les jours ouvres, par o_d\n",
    "# on construit donc une df avec : immat, cam, tps_parcours, heure_Rocade\n",
    "# pour l'heure à la Rocade : on va cehrcher dans les df_passage le passage:qui a la mm immat, dont la cam est 1,2,3,4 et dont le created est compris entre date_cam1et date_cam2\n",
    "\n",
    "#isoler les passages concernes par la Rocade\n",
    "passage_rocade=dico_passag_final.loc[(dico_passag_final['camera_id'].isin([1,2,3,4]))]# & (dico_passag_final['correction_o_d']==False)]"
   ]
  },
  {
   "cell_type": "code",
   "execution_count": 36,
   "metadata": {},
   "outputs": [],
   "source": [
    "#jointure entre les o_d et les passages\n",
    "o_d_joint_rocade=dico_od_final.merge(passage_rocade, on='immat', how='left')"
   ]
  },
  {
   "cell_type": "code",
   "execution_count": 109,
   "metadata": {},
   "outputs": [],
   "source": [
    "#limiter les o_d là ou date du passages est ciompris entre les date 1 et date 2 de l'o_d\n",
    "dico_od_Rocade_final=o_d_joint_rocade.loc[(o_d_joint_rocade['date_cam_1']<o_d_joint_rocade['created']) & \n",
    "                                          (o_d_joint_rocade['created']<o_d_joint_rocade['date_cam_2']) & \n",
    "                                          (o_d_joint_rocade['tps_parcours']<pd.Timedelta('4H'))]"
   ]
  },
  {
   "cell_type": "code",
   "execution_count": 155,
   "metadata": {},
   "outputs": [],
   "source": [
    "#limiter les \n",
    "limite_donnees=dico_od_Rocade_final[['date_cam_1','immat','o_d','tps_parcours','created']].rename(columns={'created':'h_rocade'})"
   ]
  },
  {
   "cell_type": "code",
   "execution_count": 181,
   "metadata": {},
   "outputs": [
    {
     "data": {
      "text/plain": [
       "\"filtre_donnees=limite_donnees.loc[(limite_donnees.set_index('h_rocade').index.dayofweek.isin([1,3])) & \\n                          (limite_donnees['o_d']=='A10-A62')].copy()\""
      ]
     },
     "execution_count": 181,
     "metadata": {},
     "output_type": "execute_result"
    }
   ],
   "source": [
    "#filtrer selon une date ou des jours ouvrés ou mardi/jeudi : \n",
    "\"\"\"filtre_donnees=limite_donnees.loc[(limite_donnees.apply(lambda x : x['h_rocade'].dayofyear==pd.to_datetime('2019-01-28').dayofyear,axis=1)) & \n",
    "                          (pour_graph['o_d']=='A10-A62')].copy()\"\"\"\n",
    "filtre_donnees=limite_donnees.loc[(limite_donnees.set_index('h_rocade').index.dayofweek<5) & \n",
    "                          (limite_donnees['o_d']=='A10-A63')].copy()\n",
    "\"\"\"filtre_donnees=limite_donnees.loc[(limite_donnees.set_index('h_rocade').index.dayofweek.isin([1,3])) & \n",
    "                          (limite_donnees['o_d']=='A10-A62')].copy()\"\"\""
   ]
  },
  {
   "cell_type": "code",
   "execution_count": 182,
   "metadata": {},
   "outputs": [],
   "source": [
    "#transformer les valeur de temps en integer pour agregation\n",
    "filtre_donnees['tps_parcours2']=filtre_donnees['tps_parcours'].values.astype(np.int64)"
   ]
  },
  {
   "cell_type": "code",
   "execution_count": 183,
   "metadata": {},
   "outputs": [],
   "source": [
    "#mise en forme pour graph\n",
    "groupe_h=filtre_donnees.set_index('h_rocade').resample('15T')['tps_parcours2'].mean()\n",
    "#groupe_h['tps_parcours']=pd.to_timedelta(groupe_h['tps_parcours'])\n",
    "groupe_h=pd.to_timedelta(groupe_h)\n",
    "pour_graph=groupe_h.reset_index()\n",
    "pour_graph['tps_parcours2']=pd.to_datetime('2019-01-31')+pour_graph['tps_parcours2']"
   ]
  },
  {
   "cell_type": "code",
   "execution_count": 185,
   "metadata": {},
   "outputs": [
    {
     "data": {
      "text/html": [
       "<div>\n",
       "<style scoped>\n",
       "    .dataframe tbody tr th:only-of-type {\n",
       "        vertical-align: middle;\n",
       "    }\n",
       "\n",
       "    .dataframe tbody tr th {\n",
       "        vertical-align: top;\n",
       "    }\n",
       "\n",
       "    .dataframe thead th {\n",
       "        text-align: right;\n",
       "    }\n",
       "</style>\n",
       "<table border=\"1\" class=\"dataframe\">\n",
       "  <thead>\n",
       "    <tr style=\"text-align: right;\">\n",
       "      <th></th>\n",
       "      <th>h_rocade</th>\n",
       "      <th>tps_parcours2</th>\n",
       "    </tr>\n",
       "  </thead>\n",
       "  <tbody>\n",
       "    <tr>\n",
       "      <th>0</th>\n",
       "      <td>2019-01-28 01:30:00</td>\n",
       "      <td>2019-01-31 01:27:18.000000000</td>\n",
       "    </tr>\n",
       "    <tr>\n",
       "      <th>1</th>\n",
       "      <td>2019-01-28 01:45:00</td>\n",
       "      <td>NaT</td>\n",
       "    </tr>\n",
       "    <tr>\n",
       "      <th>2</th>\n",
       "      <td>2019-01-28 02:00:00</td>\n",
       "      <td>NaT</td>\n",
       "    </tr>\n",
       "    <tr>\n",
       "      <th>3</th>\n",
       "      <td>2019-01-28 02:15:00</td>\n",
       "      <td>2019-01-31 01:35:16.000000000</td>\n",
       "    </tr>\n",
       "    <tr>\n",
       "      <th>4</th>\n",
       "      <td>2019-01-28 02:30:00</td>\n",
       "      <td>NaT</td>\n",
       "    </tr>\n",
       "    <tr>\n",
       "      <th>5</th>\n",
       "      <td>2019-01-28 02:45:00</td>\n",
       "      <td>2019-01-31 01:11:47.000000000</td>\n",
       "    </tr>\n",
       "    <tr>\n",
       "      <th>6</th>\n",
       "      <td>2019-01-28 03:00:00</td>\n",
       "      <td>2019-01-31 01:38:07.000000000</td>\n",
       "    </tr>\n",
       "    <tr>\n",
       "      <th>7</th>\n",
       "      <td>2019-01-28 03:15:00</td>\n",
       "      <td>NaT</td>\n",
       "    </tr>\n",
       "    <tr>\n",
       "      <th>8</th>\n",
       "      <td>2019-01-28 03:30:00</td>\n",
       "      <td>NaT</td>\n",
       "    </tr>\n",
       "    <tr>\n",
       "      <th>9</th>\n",
       "      <td>2019-01-28 03:45:00</td>\n",
       "      <td>NaT</td>\n",
       "    </tr>\n",
       "    <tr>\n",
       "      <th>10</th>\n",
       "      <td>2019-01-28 04:00:00</td>\n",
       "      <td>2019-01-31 01:31:45.000000000</td>\n",
       "    </tr>\n",
       "    <tr>\n",
       "      <th>11</th>\n",
       "      <td>2019-01-28 04:15:00</td>\n",
       "      <td>2019-01-31 01:15:24.000000000</td>\n",
       "    </tr>\n",
       "    <tr>\n",
       "      <th>12</th>\n",
       "      <td>2019-01-28 04:30:00</td>\n",
       "      <td>2019-01-31 01:21:46.500000000</td>\n",
       "    </tr>\n",
       "    <tr>\n",
       "      <th>13</th>\n",
       "      <td>2019-01-28 04:45:00</td>\n",
       "      <td>NaT</td>\n",
       "    </tr>\n",
       "    <tr>\n",
       "      <th>14</th>\n",
       "      <td>2019-01-28 05:00:00</td>\n",
       "      <td>2019-01-31 01:56:48.000000000</td>\n",
       "    </tr>\n",
       "    <tr>\n",
       "      <th>15</th>\n",
       "      <td>2019-01-28 05:15:00</td>\n",
       "      <td>2019-01-31 01:27:04.000000000</td>\n",
       "    </tr>\n",
       "    <tr>\n",
       "      <th>16</th>\n",
       "      <td>2019-01-28 05:30:00</td>\n",
       "      <td>NaT</td>\n",
       "    </tr>\n",
       "    <tr>\n",
       "      <th>17</th>\n",
       "      <td>2019-01-28 05:45:00</td>\n",
       "      <td>2019-01-31 01:46:29.000000000</td>\n",
       "    </tr>\n",
       "    <tr>\n",
       "      <th>18</th>\n",
       "      <td>2019-01-28 06:00:00</td>\n",
       "      <td>NaT</td>\n",
       "    </tr>\n",
       "    <tr>\n",
       "      <th>19</th>\n",
       "      <td>2019-01-28 06:15:00</td>\n",
       "      <td>2019-01-31 02:11:49.000000000</td>\n",
       "    </tr>\n",
       "    <tr>\n",
       "      <th>20</th>\n",
       "      <td>2019-01-28 06:30:00</td>\n",
       "      <td>NaT</td>\n",
       "    </tr>\n",
       "    <tr>\n",
       "      <th>21</th>\n",
       "      <td>2019-01-28 06:45:00</td>\n",
       "      <td>NaT</td>\n",
       "    </tr>\n",
       "    <tr>\n",
       "      <th>22</th>\n",
       "      <td>2019-01-28 07:00:00</td>\n",
       "      <td>NaT</td>\n",
       "    </tr>\n",
       "    <tr>\n",
       "      <th>23</th>\n",
       "      <td>2019-01-28 07:15:00</td>\n",
       "      <td>2019-01-31 03:39:38.000000000</td>\n",
       "    </tr>\n",
       "    <tr>\n",
       "      <th>24</th>\n",
       "      <td>2019-01-28 07:30:00</td>\n",
       "      <td>NaT</td>\n",
       "    </tr>\n",
       "    <tr>\n",
       "      <th>25</th>\n",
       "      <td>2019-01-28 07:45:00</td>\n",
       "      <td>NaT</td>\n",
       "    </tr>\n",
       "    <tr>\n",
       "      <th>26</th>\n",
       "      <td>2019-01-28 08:00:00</td>\n",
       "      <td>NaT</td>\n",
       "    </tr>\n",
       "    <tr>\n",
       "      <th>27</th>\n",
       "      <td>2019-01-28 08:15:00</td>\n",
       "      <td>NaT</td>\n",
       "    </tr>\n",
       "    <tr>\n",
       "      <th>28</th>\n",
       "      <td>2019-01-28 08:30:00</td>\n",
       "      <td>2019-01-31 01:55:37.166666666</td>\n",
       "    </tr>\n",
       "    <tr>\n",
       "      <th>29</th>\n",
       "      <td>2019-01-28 08:45:00</td>\n",
       "      <td>2019-01-31 01:28:53.000000000</td>\n",
       "    </tr>\n",
       "    <tr>\n",
       "      <th>...</th>\n",
       "      <td>...</td>\n",
       "      <td>...</td>\n",
       "    </tr>\n",
       "    <tr>\n",
       "      <th>638</th>\n",
       "      <td>2019-02-03 17:00:00</td>\n",
       "      <td>NaT</td>\n",
       "    </tr>\n",
       "    <tr>\n",
       "      <th>639</th>\n",
       "      <td>2019-02-03 17:15:00</td>\n",
       "      <td>NaT</td>\n",
       "    </tr>\n",
       "    <tr>\n",
       "      <th>640</th>\n",
       "      <td>2019-02-03 17:30:00</td>\n",
       "      <td>NaT</td>\n",
       "    </tr>\n",
       "    <tr>\n",
       "      <th>641</th>\n",
       "      <td>2019-02-03 17:45:00</td>\n",
       "      <td>NaT</td>\n",
       "    </tr>\n",
       "    <tr>\n",
       "      <th>642</th>\n",
       "      <td>2019-02-03 18:00:00</td>\n",
       "      <td>NaT</td>\n",
       "    </tr>\n",
       "    <tr>\n",
       "      <th>643</th>\n",
       "      <td>2019-02-03 18:15:00</td>\n",
       "      <td>NaT</td>\n",
       "    </tr>\n",
       "    <tr>\n",
       "      <th>644</th>\n",
       "      <td>2019-02-03 18:30:00</td>\n",
       "      <td>NaT</td>\n",
       "    </tr>\n",
       "    <tr>\n",
       "      <th>645</th>\n",
       "      <td>2019-02-03 18:45:00</td>\n",
       "      <td>NaT</td>\n",
       "    </tr>\n",
       "    <tr>\n",
       "      <th>646</th>\n",
       "      <td>2019-02-03 19:00:00</td>\n",
       "      <td>NaT</td>\n",
       "    </tr>\n",
       "    <tr>\n",
       "      <th>647</th>\n",
       "      <td>2019-02-03 19:15:00</td>\n",
       "      <td>NaT</td>\n",
       "    </tr>\n",
       "    <tr>\n",
       "      <th>648</th>\n",
       "      <td>2019-02-03 19:30:00</td>\n",
       "      <td>NaT</td>\n",
       "    </tr>\n",
       "    <tr>\n",
       "      <th>649</th>\n",
       "      <td>2019-02-03 19:45:00</td>\n",
       "      <td>NaT</td>\n",
       "    </tr>\n",
       "    <tr>\n",
       "      <th>650</th>\n",
       "      <td>2019-02-03 20:00:00</td>\n",
       "      <td>NaT</td>\n",
       "    </tr>\n",
       "    <tr>\n",
       "      <th>651</th>\n",
       "      <td>2019-02-03 20:15:00</td>\n",
       "      <td>NaT</td>\n",
       "    </tr>\n",
       "    <tr>\n",
       "      <th>652</th>\n",
       "      <td>2019-02-03 20:30:00</td>\n",
       "      <td>NaT</td>\n",
       "    </tr>\n",
       "    <tr>\n",
       "      <th>653</th>\n",
       "      <td>2019-02-03 20:45:00</td>\n",
       "      <td>NaT</td>\n",
       "    </tr>\n",
       "    <tr>\n",
       "      <th>654</th>\n",
       "      <td>2019-02-03 21:00:00</td>\n",
       "      <td>NaT</td>\n",
       "    </tr>\n",
       "    <tr>\n",
       "      <th>655</th>\n",
       "      <td>2019-02-03 21:15:00</td>\n",
       "      <td>NaT</td>\n",
       "    </tr>\n",
       "    <tr>\n",
       "      <th>656</th>\n",
       "      <td>2019-02-03 21:30:00</td>\n",
       "      <td>NaT</td>\n",
       "    </tr>\n",
       "    <tr>\n",
       "      <th>657</th>\n",
       "      <td>2019-02-03 21:45:00</td>\n",
       "      <td>NaT</td>\n",
       "    </tr>\n",
       "    <tr>\n",
       "      <th>658</th>\n",
       "      <td>2019-02-03 22:00:00</td>\n",
       "      <td>NaT</td>\n",
       "    </tr>\n",
       "    <tr>\n",
       "      <th>659</th>\n",
       "      <td>2019-02-03 22:15:00</td>\n",
       "      <td>NaT</td>\n",
       "    </tr>\n",
       "    <tr>\n",
       "      <th>660</th>\n",
       "      <td>2019-02-03 22:30:00</td>\n",
       "      <td>NaT</td>\n",
       "    </tr>\n",
       "    <tr>\n",
       "      <th>661</th>\n",
       "      <td>2019-02-03 22:45:00</td>\n",
       "      <td>NaT</td>\n",
       "    </tr>\n",
       "    <tr>\n",
       "      <th>662</th>\n",
       "      <td>2019-02-03 23:00:00</td>\n",
       "      <td>NaT</td>\n",
       "    </tr>\n",
       "    <tr>\n",
       "      <th>663</th>\n",
       "      <td>2019-02-03 23:15:00</td>\n",
       "      <td>NaT</td>\n",
       "    </tr>\n",
       "    <tr>\n",
       "      <th>664</th>\n",
       "      <td>2019-02-03 23:30:00</td>\n",
       "      <td>NaT</td>\n",
       "    </tr>\n",
       "    <tr>\n",
       "      <th>665</th>\n",
       "      <td>2019-02-03 23:45:00</td>\n",
       "      <td>NaT</td>\n",
       "    </tr>\n",
       "    <tr>\n",
       "      <th>666</th>\n",
       "      <td>2019-02-04 00:00:00</td>\n",
       "      <td>2019-01-31 01:55:23.000000000</td>\n",
       "    </tr>\n",
       "    <tr>\n",
       "      <th>667</th>\n",
       "      <td>2019-02-04 00:15:00</td>\n",
       "      <td>2019-01-31 01:31:24.500000000</td>\n",
       "    </tr>\n",
       "  </tbody>\n",
       "</table>\n",
       "<p>668 rows × 2 columns</p>\n",
       "</div>"
      ],
      "text/plain": [
       "               h_rocade                 tps_parcours2\n",
       "0   2019-01-28 01:30:00 2019-01-31 01:27:18.000000000\n",
       "1   2019-01-28 01:45:00                           NaT\n",
       "2   2019-01-28 02:00:00                           NaT\n",
       "3   2019-01-28 02:15:00 2019-01-31 01:35:16.000000000\n",
       "4   2019-01-28 02:30:00                           NaT\n",
       "5   2019-01-28 02:45:00 2019-01-31 01:11:47.000000000\n",
       "6   2019-01-28 03:00:00 2019-01-31 01:38:07.000000000\n",
       "7   2019-01-28 03:15:00                           NaT\n",
       "8   2019-01-28 03:30:00                           NaT\n",
       "9   2019-01-28 03:45:00                           NaT\n",
       "10  2019-01-28 04:00:00 2019-01-31 01:31:45.000000000\n",
       "11  2019-01-28 04:15:00 2019-01-31 01:15:24.000000000\n",
       "12  2019-01-28 04:30:00 2019-01-31 01:21:46.500000000\n",
       "13  2019-01-28 04:45:00                           NaT\n",
       "14  2019-01-28 05:00:00 2019-01-31 01:56:48.000000000\n",
       "15  2019-01-28 05:15:00 2019-01-31 01:27:04.000000000\n",
       "16  2019-01-28 05:30:00                           NaT\n",
       "17  2019-01-28 05:45:00 2019-01-31 01:46:29.000000000\n",
       "18  2019-01-28 06:00:00                           NaT\n",
       "19  2019-01-28 06:15:00 2019-01-31 02:11:49.000000000\n",
       "20  2019-01-28 06:30:00                           NaT\n",
       "21  2019-01-28 06:45:00                           NaT\n",
       "22  2019-01-28 07:00:00                           NaT\n",
       "23  2019-01-28 07:15:00 2019-01-31 03:39:38.000000000\n",
       "24  2019-01-28 07:30:00                           NaT\n",
       "25  2019-01-28 07:45:00                           NaT\n",
       "26  2019-01-28 08:00:00                           NaT\n",
       "27  2019-01-28 08:15:00                           NaT\n",
       "28  2019-01-28 08:30:00 2019-01-31 01:55:37.166666666\n",
       "29  2019-01-28 08:45:00 2019-01-31 01:28:53.000000000\n",
       "..                  ...                           ...\n",
       "638 2019-02-03 17:00:00                           NaT\n",
       "639 2019-02-03 17:15:00                           NaT\n",
       "640 2019-02-03 17:30:00                           NaT\n",
       "641 2019-02-03 17:45:00                           NaT\n",
       "642 2019-02-03 18:00:00                           NaT\n",
       "643 2019-02-03 18:15:00                           NaT\n",
       "644 2019-02-03 18:30:00                           NaT\n",
       "645 2019-02-03 18:45:00                           NaT\n",
       "646 2019-02-03 19:00:00                           NaT\n",
       "647 2019-02-03 19:15:00                           NaT\n",
       "648 2019-02-03 19:30:00                           NaT\n",
       "649 2019-02-03 19:45:00                           NaT\n",
       "650 2019-02-03 20:00:00                           NaT\n",
       "651 2019-02-03 20:15:00                           NaT\n",
       "652 2019-02-03 20:30:00                           NaT\n",
       "653 2019-02-03 20:45:00                           NaT\n",
       "654 2019-02-03 21:00:00                           NaT\n",
       "655 2019-02-03 21:15:00                           NaT\n",
       "656 2019-02-03 21:30:00                           NaT\n",
       "657 2019-02-03 21:45:00                           NaT\n",
       "658 2019-02-03 22:00:00                           NaT\n",
       "659 2019-02-03 22:15:00                           NaT\n",
       "660 2019-02-03 22:30:00                           NaT\n",
       "661 2019-02-03 22:45:00                           NaT\n",
       "662 2019-02-03 23:00:00                           NaT\n",
       "663 2019-02-03 23:15:00                           NaT\n",
       "664 2019-02-03 23:30:00                           NaT\n",
       "665 2019-02-03 23:45:00                           NaT\n",
       "666 2019-02-04 00:00:00 2019-01-31 01:55:23.000000000\n",
       "667 2019-02-04 00:15:00 2019-01-31 01:31:24.500000000\n",
       "\n",
       "[668 rows x 2 columns]"
      ]
     },
     "execution_count": 185,
     "metadata": {},
     "output_type": "execute_result"
    }
   ],
   "source": [
    "pour_graph"
   ]
  },
  {
   "cell_type": "code",
   "execution_count": 184,
   "metadata": {},
   "outputs": [
    {
     "data": {
      "application/vnd.vegalite.v2+json": {
       "$schema": "https://vega.github.io/schema/vega-lite/v2.6.0.json",
       "config": {
        "view": {
         "height": 300,
         "width": 400
        }
       },
       "data": {
        "name": "data-623bc0f69b61ae9ff44702b2ce06fb5c"
       },
       "datasets": {
        "data-623bc0f69b61ae9ff44702b2ce06fb5c": [
         {
          "h_rocade": "2019-01-28T01:30:00",
          "tps_parcours2": "2019-01-31T01:27:18"
         },
         {
          "h_rocade": "2019-01-28T01:45:00",
          "tps_parcours2": ""
         },
         {
          "h_rocade": "2019-01-28T02:00:00",
          "tps_parcours2": ""
         },
         {
          "h_rocade": "2019-01-28T02:15:00",
          "tps_parcours2": "2019-01-31T01:35:16"
         },
         {
          "h_rocade": "2019-01-28T02:30:00",
          "tps_parcours2": ""
         },
         {
          "h_rocade": "2019-01-28T02:45:00",
          "tps_parcours2": "2019-01-31T01:11:47"
         },
         {
          "h_rocade": "2019-01-28T03:00:00",
          "tps_parcours2": "2019-01-31T01:38:07"
         },
         {
          "h_rocade": "2019-01-28T03:15:00",
          "tps_parcours2": ""
         },
         {
          "h_rocade": "2019-01-28T03:30:00",
          "tps_parcours2": ""
         },
         {
          "h_rocade": "2019-01-28T03:45:00",
          "tps_parcours2": ""
         },
         {
          "h_rocade": "2019-01-28T04:00:00",
          "tps_parcours2": "2019-01-31T01:31:45"
         },
         {
          "h_rocade": "2019-01-28T04:15:00",
          "tps_parcours2": "2019-01-31T01:15:24"
         },
         {
          "h_rocade": "2019-01-28T04:30:00",
          "tps_parcours2": "2019-01-31T01:21:46.500000"
         },
         {
          "h_rocade": "2019-01-28T04:45:00",
          "tps_parcours2": ""
         },
         {
          "h_rocade": "2019-01-28T05:00:00",
          "tps_parcours2": "2019-01-31T01:56:48"
         },
         {
          "h_rocade": "2019-01-28T05:15:00",
          "tps_parcours2": "2019-01-31T01:27:04"
         },
         {
          "h_rocade": "2019-01-28T05:30:00",
          "tps_parcours2": ""
         },
         {
          "h_rocade": "2019-01-28T05:45:00",
          "tps_parcours2": "2019-01-31T01:46:29"
         },
         {
          "h_rocade": "2019-01-28T06:00:00",
          "tps_parcours2": ""
         },
         {
          "h_rocade": "2019-01-28T06:15:00",
          "tps_parcours2": "2019-01-31T02:11:49"
         },
         {
          "h_rocade": "2019-01-28T06:30:00",
          "tps_parcours2": ""
         },
         {
          "h_rocade": "2019-01-28T06:45:00",
          "tps_parcours2": ""
         },
         {
          "h_rocade": "2019-01-28T07:00:00",
          "tps_parcours2": ""
         },
         {
          "h_rocade": "2019-01-28T07:15:00",
          "tps_parcours2": "2019-01-31T03:39:38"
         },
         {
          "h_rocade": "2019-01-28T07:30:00",
          "tps_parcours2": ""
         },
         {
          "h_rocade": "2019-01-28T07:45:00",
          "tps_parcours2": ""
         },
         {
          "h_rocade": "2019-01-28T08:00:00",
          "tps_parcours2": ""
         },
         {
          "h_rocade": "2019-01-28T08:15:00",
          "tps_parcours2": ""
         },
         {
          "h_rocade": "2019-01-28T08:30:00",
          "tps_parcours2": "2019-01-31T01:55:37.166666666"
         },
         {
          "h_rocade": "2019-01-28T08:45:00",
          "tps_parcours2": "2019-01-31T01:28:53"
         },
         {
          "h_rocade": "2019-01-28T09:00:00",
          "tps_parcours2": "2019-01-31T01:51:02.333333333"
         },
         {
          "h_rocade": "2019-01-28T09:15:00",
          "tps_parcours2": "2019-01-31T01:14:39"
         },
         {
          "h_rocade": "2019-01-28T09:30:00",
          "tps_parcours2": "2019-01-31T01:15:40.666666666"
         },
         {
          "h_rocade": "2019-01-28T09:45:00",
          "tps_parcours2": "2019-01-31T01:15:58"
         },
         {
          "h_rocade": "2019-01-28T10:00:00",
          "tps_parcours2": ""
         },
         {
          "h_rocade": "2019-01-28T10:15:00",
          "tps_parcours2": "2019-01-31T01:31:47.500000"
         },
         {
          "h_rocade": "2019-01-28T10:30:00",
          "tps_parcours2": "2019-01-31T01:19:34"
         },
         {
          "h_rocade": "2019-01-28T10:45:00",
          "tps_parcours2": "2019-01-31T01:41:46.500000"
         },
         {
          "h_rocade": "2019-01-28T11:00:00",
          "tps_parcours2": "2019-01-31T01:25:47.500000"
         },
         {
          "h_rocade": "2019-01-28T11:15:00",
          "tps_parcours2": ""
         },
         {
          "h_rocade": "2019-01-28T11:30:00",
          "tps_parcours2": "2019-01-31T01:22:52.333333333"
         },
         {
          "h_rocade": "2019-01-28T11:45:00",
          "tps_parcours2": "2019-01-31T01:47:37"
         },
         {
          "h_rocade": "2019-01-28T12:00:00",
          "tps_parcours2": "2019-01-31T01:17:26"
         },
         {
          "h_rocade": "2019-01-28T12:15:00",
          "tps_parcours2": "2019-01-31T01:31:03"
         },
         {
          "h_rocade": "2019-01-28T12:30:00",
          "tps_parcours2": ""
         },
         {
          "h_rocade": "2019-01-28T12:45:00",
          "tps_parcours2": "2019-01-31T01:22:51.800000"
         },
         {
          "h_rocade": "2019-01-28T13:00:00",
          "tps_parcours2": "2019-01-31T01:33:07.500000"
         },
         {
          "h_rocade": "2019-01-28T13:15:00",
          "tps_parcours2": "2019-01-31T01:16:10"
         },
         {
          "h_rocade": "2019-01-28T13:30:00",
          "tps_parcours2": "2019-01-31T01:30:13.500000"
         },
         {
          "h_rocade": "2019-01-28T13:45:00",
          "tps_parcours2": "2019-01-31T01:31:14.600000"
         },
         {
          "h_rocade": "2019-01-28T14:00:00",
          "tps_parcours2": "2019-01-31T01:17:27"
         },
         {
          "h_rocade": "2019-01-28T14:15:00",
          "tps_parcours2": "2019-01-31T01:27:55"
         },
         {
          "h_rocade": "2019-01-28T14:30:00",
          "tps_parcours2": "2019-01-31T01:29:41.571428571"
         },
         {
          "h_rocade": "2019-01-28T14:45:00",
          "tps_parcours2": "2019-01-31T01:20:56"
         },
         {
          "h_rocade": "2019-01-28T15:00:00",
          "tps_parcours2": "2019-01-31T01:26:55"
         },
         {
          "h_rocade": "2019-01-28T15:15:00",
          "tps_parcours2": "2019-01-31T01:17:11"
         },
         {
          "h_rocade": "2019-01-28T15:30:00",
          "tps_parcours2": "2019-01-31T01:23:11.142857142"
         },
         {
          "h_rocade": "2019-01-28T15:45:00",
          "tps_parcours2": "2019-01-31T01:30:19"
         },
         {
          "h_rocade": "2019-01-28T16:00:00",
          "tps_parcours2": "2019-01-31T01:35:16.500000"
         },
         {
          "h_rocade": "2019-01-28T16:15:00",
          "tps_parcours2": "2019-01-31T01:36:41.333333333"
         },
         {
          "h_rocade": "2019-01-28T16:30:00",
          "tps_parcours2": "2019-01-31T01:32:26.142857142"
         },
         {
          "h_rocade": "2019-01-28T16:45:00",
          "tps_parcours2": "2019-01-31T01:30:53"
         },
         {
          "h_rocade": "2019-01-28T17:00:00",
          "tps_parcours2": "2019-01-31T01:20:54.200000"
         },
         {
          "h_rocade": "2019-01-28T17:15:00",
          "tps_parcours2": "2019-01-31T01:28:09.500000"
         },
         {
          "h_rocade": "2019-01-28T17:30:00",
          "tps_parcours2": "2019-01-31T01:19:59.333333333"
         },
         {
          "h_rocade": "2019-01-28T17:45:00",
          "tps_parcours2": "2019-01-31T01:27:48"
         },
         {
          "h_rocade": "2019-01-28T18:00:00",
          "tps_parcours2": "2019-01-31T01:25:39.500000"
         },
         {
          "h_rocade": "2019-01-28T18:15:00",
          "tps_parcours2": "2019-01-31T01:29:54"
         },
         {
          "h_rocade": "2019-01-28T18:30:00",
          "tps_parcours2": ""
         },
         {
          "h_rocade": "2019-01-28T18:45:00",
          "tps_parcours2": ""
         },
         {
          "h_rocade": "2019-01-28T19:00:00",
          "tps_parcours2": "2019-01-31T01:33:06"
         },
         {
          "h_rocade": "2019-01-28T19:15:00",
          "tps_parcours2": ""
         },
         {
          "h_rocade": "2019-01-28T19:30:00",
          "tps_parcours2": ""
         },
         {
          "h_rocade": "2019-01-28T19:45:00",
          "tps_parcours2": ""
         },
         {
          "h_rocade": "2019-01-28T20:00:00",
          "tps_parcours2": ""
         },
         {
          "h_rocade": "2019-01-28T20:15:00",
          "tps_parcours2": ""
         },
         {
          "h_rocade": "2019-01-28T20:30:00",
          "tps_parcours2": ""
         },
         {
          "h_rocade": "2019-01-28T20:45:00",
          "tps_parcours2": ""
         },
         {
          "h_rocade": "2019-01-28T21:00:00",
          "tps_parcours2": ""
         },
         {
          "h_rocade": "2019-01-28T21:15:00",
          "tps_parcours2": ""
         },
         {
          "h_rocade": "2019-01-28T21:30:00",
          "tps_parcours2": ""
         },
         {
          "h_rocade": "2019-01-28T21:45:00",
          "tps_parcours2": ""
         },
         {
          "h_rocade": "2019-01-28T22:00:00",
          "tps_parcours2": ""
         },
         {
          "h_rocade": "2019-01-28T22:15:00",
          "tps_parcours2": ""
         },
         {
          "h_rocade": "2019-01-28T22:30:00",
          "tps_parcours2": ""
         },
         {
          "h_rocade": "2019-01-28T22:45:00",
          "tps_parcours2": ""
         },
         {
          "h_rocade": "2019-01-28T23:00:00",
          "tps_parcours2": ""
         },
         {
          "h_rocade": "2019-01-28T23:15:00",
          "tps_parcours2": ""
         },
         {
          "h_rocade": "2019-01-28T23:30:00",
          "tps_parcours2": "2019-01-31T02:39:26"
         },
         {
          "h_rocade": "2019-01-28T23:45:00",
          "tps_parcours2": ""
         },
         {
          "h_rocade": "2019-01-29T00:00:00",
          "tps_parcours2": ""
         },
         {
          "h_rocade": "2019-01-29T00:15:00",
          "tps_parcours2": ""
         },
         {
          "h_rocade": "2019-01-29T00:30:00",
          "tps_parcours2": ""
         },
         {
          "h_rocade": "2019-01-29T00:45:00",
          "tps_parcours2": ""
         },
         {
          "h_rocade": "2019-01-29T01:00:00",
          "tps_parcours2": "2019-01-31T02:01:25"
         },
         {
          "h_rocade": "2019-01-29T01:15:00",
          "tps_parcours2": ""
         },
         {
          "h_rocade": "2019-01-29T01:30:00",
          "tps_parcours2": ""
         },
         {
          "h_rocade": "2019-01-29T01:45:00",
          "tps_parcours2": ""
         },
         {
          "h_rocade": "2019-01-29T02:00:00",
          "tps_parcours2": ""
         },
         {
          "h_rocade": "2019-01-29T02:15:00",
          "tps_parcours2": ""
         },
         {
          "h_rocade": "2019-01-29T02:30:00",
          "tps_parcours2": ""
         },
         {
          "h_rocade": "2019-01-29T02:45:00",
          "tps_parcours2": ""
         },
         {
          "h_rocade": "2019-01-29T03:00:00",
          "tps_parcours2": "2019-01-31T01:31:05"
         },
         {
          "h_rocade": "2019-01-29T03:15:00",
          "tps_parcours2": "2019-01-31T01:30:05"
         },
         {
          "h_rocade": "2019-01-29T03:30:00",
          "tps_parcours2": ""
         },
         {
          "h_rocade": "2019-01-29T03:45:00",
          "tps_parcours2": ""
         },
         {
          "h_rocade": "2019-01-29T04:00:00",
          "tps_parcours2": "2019-01-31T01:13:01"
         },
         {
          "h_rocade": "2019-01-29T04:15:00",
          "tps_parcours2": ""
         },
         {
          "h_rocade": "2019-01-29T04:30:00",
          "tps_parcours2": ""
         },
         {
          "h_rocade": "2019-01-29T04:45:00",
          "tps_parcours2": ""
         },
         {
          "h_rocade": "2019-01-29T05:00:00",
          "tps_parcours2": ""
         },
         {
          "h_rocade": "2019-01-29T05:15:00",
          "tps_parcours2": ""
         },
         {
          "h_rocade": "2019-01-29T05:30:00",
          "tps_parcours2": ""
         },
         {
          "h_rocade": "2019-01-29T05:45:00",
          "tps_parcours2": ""
         },
         {
          "h_rocade": "2019-01-29T06:00:00",
          "tps_parcours2": ""
         },
         {
          "h_rocade": "2019-01-29T06:15:00",
          "tps_parcours2": "2019-01-31T02:42:48"
         },
         {
          "h_rocade": "2019-01-29T06:30:00",
          "tps_parcours2": ""
         },
         {
          "h_rocade": "2019-01-29T06:45:00",
          "tps_parcours2": "2019-01-31T02:14:36"
         },
         {
          "h_rocade": "2019-01-29T07:00:00",
          "tps_parcours2": ""
         },
         {
          "h_rocade": "2019-01-29T07:15:00",
          "tps_parcours2": ""
         },
         {
          "h_rocade": "2019-01-29T07:30:00",
          "tps_parcours2": ""
         },
         {
          "h_rocade": "2019-01-29T07:45:00",
          "tps_parcours2": "2019-01-31T02:26:33"
         },
         {
          "h_rocade": "2019-01-29T08:00:00",
          "tps_parcours2": ""
         },
         {
          "h_rocade": "2019-01-29T08:15:00",
          "tps_parcours2": "2019-01-31T01:48:09.500000"
         },
         {
          "h_rocade": "2019-01-29T08:30:00",
          "tps_parcours2": "2019-01-31T01:45:59.857142857"
         },
         {
          "h_rocade": "2019-01-29T08:45:00",
          "tps_parcours2": "2019-01-31T01:27:50.800000"
         },
         {
          "h_rocade": "2019-01-29T09:00:00",
          "tps_parcours2": "2019-01-31T01:42:20.333333333"
         },
         {
          "h_rocade": "2019-01-29T09:15:00",
          "tps_parcours2": "2019-01-31T01:28:27.500000"
         },
         {
          "h_rocade": "2019-01-29T09:30:00",
          "tps_parcours2": "2019-01-31T01:34:33.500000"
         },
         {
          "h_rocade": "2019-01-29T09:45:00",
          "tps_parcours2": "2019-01-31T01:33:40.833333333"
         },
         {
          "h_rocade": "2019-01-29T10:00:00",
          "tps_parcours2": "2019-01-31T01:24:25"
         },
         {
          "h_rocade": "2019-01-29T10:15:00",
          "tps_parcours2": "2019-01-31T01:35:43.250000"
         },
         {
          "h_rocade": "2019-01-29T10:30:00",
          "tps_parcours2": "2019-01-31T01:21:29.333333333"
         },
         {
          "h_rocade": "2019-01-29T10:45:00",
          "tps_parcours2": ""
         },
         {
          "h_rocade": "2019-01-29T11:00:00",
          "tps_parcours2": ""
         },
         {
          "h_rocade": "2019-01-29T11:15:00",
          "tps_parcours2": "2019-01-31T01:32:46.666666666"
         },
         {
          "h_rocade": "2019-01-29T11:30:00",
          "tps_parcours2": "2019-01-31T01:32:55"
         },
         {
          "h_rocade": "2019-01-29T11:45:00",
          "tps_parcours2": "2019-01-31T01:25:51"
         },
         {
          "h_rocade": "2019-01-29T12:00:00",
          "tps_parcours2": "2019-01-31T01:27:31.333333333"
         },
         {
          "h_rocade": "2019-01-29T12:15:00",
          "tps_parcours2": "2019-01-31T01:30:07.428571428"
         },
         {
          "h_rocade": "2019-01-29T12:30:00",
          "tps_parcours2": "2019-01-31T01:38:20"
         },
         {
          "h_rocade": "2019-01-29T12:45:00",
          "tps_parcours2": "2019-01-31T01:55:02.500000"
         },
         {
          "h_rocade": "2019-01-29T13:00:00",
          "tps_parcours2": "2019-01-31T01:36:42.545454545"
         },
         {
          "h_rocade": "2019-01-29T13:15:00",
          "tps_parcours2": "2019-01-31T01:51:48.600000"
         },
         {
          "h_rocade": "2019-01-29T13:30:00",
          "tps_parcours2": "2019-01-31T01:30:11.666666666"
         },
         {
          "h_rocade": "2019-01-29T13:45:00",
          "tps_parcours2": "2019-01-31T01:42:49"
         },
         {
          "h_rocade": "2019-01-29T14:00:00",
          "tps_parcours2": "2019-01-31T01:38:38.222222222"
         },
         {
          "h_rocade": "2019-01-29T14:15:00",
          "tps_parcours2": "2019-01-31T01:34:51.571428571"
         },
         {
          "h_rocade": "2019-01-29T14:30:00",
          "tps_parcours2": "2019-01-31T01:33:44.714285714"
         },
         {
          "h_rocade": "2019-01-29T14:45:00",
          "tps_parcours2": "2019-01-31T01:28:33.500000"
         },
         {
          "h_rocade": "2019-01-29T15:00:00",
          "tps_parcours2": "2019-01-31T01:28:39.800000"
         },
         {
          "h_rocade": "2019-01-29T15:15:00",
          "tps_parcours2": "2019-01-31T01:33:58.142857142"
         },
         {
          "h_rocade": "2019-01-29T15:30:00",
          "tps_parcours2": "2019-01-31T01:37:11.666666666"
         },
         {
          "h_rocade": "2019-01-29T15:45:00",
          "tps_parcours2": "2019-01-31T01:40:15.125000"
         },
         {
          "h_rocade": "2019-01-29T16:00:00",
          "tps_parcours2": "2019-01-31T01:40:52.166666666"
         },
         {
          "h_rocade": "2019-01-29T16:15:00",
          "tps_parcours2": "2019-01-31T01:35:11.833333333"
         },
         {
          "h_rocade": "2019-01-29T16:30:00",
          "tps_parcours2": "2019-01-31T01:40:46.400000"
         },
         {
          "h_rocade": "2019-01-29T16:45:00",
          "tps_parcours2": "2019-01-31T01:44:18.818181818"
         },
         {
          "h_rocade": "2019-01-29T17:00:00",
          "tps_parcours2": "2019-01-31T01:38:59.333333333"
         },
         {
          "h_rocade": "2019-01-29T17:15:00",
          "tps_parcours2": "2019-01-31T01:39:22.250000"
         },
         {
          "h_rocade": "2019-01-29T17:30:00",
          "tps_parcours2": "2019-01-31T01:16:59"
         },
         {
          "h_rocade": "2019-01-29T17:45:00",
          "tps_parcours2": ""
         },
         {
          "h_rocade": "2019-01-29T18:00:00",
          "tps_parcours2": ""
         },
         {
          "h_rocade": "2019-01-29T18:15:00",
          "tps_parcours2": ""
         },
         {
          "h_rocade": "2019-01-29T18:30:00",
          "tps_parcours2": "2019-01-31T01:14:56"
         },
         {
          "h_rocade": "2019-01-29T18:45:00",
          "tps_parcours2": "2019-01-31T01:18:05"
         },
         {
          "h_rocade": "2019-01-29T19:00:00",
          "tps_parcours2": ""
         },
         {
          "h_rocade": "2019-01-29T19:15:00",
          "tps_parcours2": ""
         },
         {
          "h_rocade": "2019-01-29T19:30:00",
          "tps_parcours2": ""
         },
         {
          "h_rocade": "2019-01-29T19:45:00",
          "tps_parcours2": ""
         },
         {
          "h_rocade": "2019-01-29T20:00:00",
          "tps_parcours2": "2019-01-31T02:01:58"
         },
         {
          "h_rocade": "2019-01-29T20:15:00",
          "tps_parcours2": "2019-01-31T01:33:06"
         },
         {
          "h_rocade": "2019-01-29T20:30:00",
          "tps_parcours2": ""
         },
         {
          "h_rocade": "2019-01-29T20:45:00",
          "tps_parcours2": ""
         },
         {
          "h_rocade": "2019-01-29T21:00:00",
          "tps_parcours2": "2019-01-31T01:16:31"
         },
         {
          "h_rocade": "2019-01-29T21:15:00",
          "tps_parcours2": ""
         },
         {
          "h_rocade": "2019-01-29T21:30:00",
          "tps_parcours2": ""
         },
         {
          "h_rocade": "2019-01-29T21:45:00",
          "tps_parcours2": ""
         },
         {
          "h_rocade": "2019-01-29T22:00:00",
          "tps_parcours2": "2019-01-31T01:33:48"
         },
         {
          "h_rocade": "2019-01-29T22:15:00",
          "tps_parcours2": ""
         },
         {
          "h_rocade": "2019-01-29T22:30:00",
          "tps_parcours2": ""
         },
         {
          "h_rocade": "2019-01-29T22:45:00",
          "tps_parcours2": ""
         },
         {
          "h_rocade": "2019-01-29T23:00:00",
          "tps_parcours2": ""
         },
         {
          "h_rocade": "2019-01-29T23:15:00",
          "tps_parcours2": ""
         },
         {
          "h_rocade": "2019-01-29T23:30:00",
          "tps_parcours2": "2019-01-31T01:31:51"
         },
         {
          "h_rocade": "2019-01-29T23:45:00",
          "tps_parcours2": "2019-01-31T01:42:27"
         },
         {
          "h_rocade": "2019-01-30T00:00:00",
          "tps_parcours2": ""
         },
         {
          "h_rocade": "2019-01-30T00:15:00",
          "tps_parcours2": "2019-01-31T01:20:07"
         },
         {
          "h_rocade": "2019-01-30T00:30:00",
          "tps_parcours2": "2019-01-31T01:37:26"
         },
         {
          "h_rocade": "2019-01-30T00:45:00",
          "tps_parcours2": ""
         },
         {
          "h_rocade": "2019-01-30T01:00:00",
          "tps_parcours2": ""
         },
         {
          "h_rocade": "2019-01-30T01:15:00",
          "tps_parcours2": ""
         },
         {
          "h_rocade": "2019-01-30T01:30:00",
          "tps_parcours2": "2019-01-31T01:21:34"
         },
         {
          "h_rocade": "2019-01-30T01:45:00",
          "tps_parcours2": ""
         },
         {
          "h_rocade": "2019-01-30T02:00:00",
          "tps_parcours2": ""
         },
         {
          "h_rocade": "2019-01-30T02:15:00",
          "tps_parcours2": "2019-01-31T03:24:31"
         },
         {
          "h_rocade": "2019-01-30T02:30:00",
          "tps_parcours2": ""
         },
         {
          "h_rocade": "2019-01-30T02:45:00",
          "tps_parcours2": ""
         },
         {
          "h_rocade": "2019-01-30T03:00:00",
          "tps_parcours2": "2019-01-31T01:58:07"
         },
         {
          "h_rocade": "2019-01-30T03:15:00",
          "tps_parcours2": "2019-01-31T01:43:32"
         },
         {
          "h_rocade": "2019-01-30T03:30:00",
          "tps_parcours2": ""
         },
         {
          "h_rocade": "2019-01-30T03:45:00",
          "tps_parcours2": ""
         },
         {
          "h_rocade": "2019-01-30T04:00:00",
          "tps_parcours2": ""
         },
         {
          "h_rocade": "2019-01-30T04:15:00",
          "tps_parcours2": ""
         },
         {
          "h_rocade": "2019-01-30T04:30:00",
          "tps_parcours2": "2019-01-31T01:36:52"
         },
         {
          "h_rocade": "2019-01-30T04:45:00",
          "tps_parcours2": ""
         },
         {
          "h_rocade": "2019-01-30T05:00:00",
          "tps_parcours2": ""
         },
         {
          "h_rocade": "2019-01-30T05:15:00",
          "tps_parcours2": ""
         },
         {
          "h_rocade": "2019-01-30T05:30:00",
          "tps_parcours2": "2019-01-31T01:57:15"
         },
         {
          "h_rocade": "2019-01-30T05:45:00",
          "tps_parcours2": "2019-01-31T01:23:21"
         },
         {
          "h_rocade": "2019-01-30T06:00:00",
          "tps_parcours2": "2019-01-31T02:25:05"
         },
         {
          "h_rocade": "2019-01-30T06:15:00",
          "tps_parcours2": ""
         },
         {
          "h_rocade": "2019-01-30T06:30:00",
          "tps_parcours2": ""
         },
         {
          "h_rocade": "2019-01-30T06:45:00",
          "tps_parcours2": ""
         },
         {
          "h_rocade": "2019-01-30T07:00:00",
          "tps_parcours2": ""
         },
         {
          "h_rocade": "2019-01-30T07:15:00",
          "tps_parcours2": ""
         },
         {
          "h_rocade": "2019-01-30T07:30:00",
          "tps_parcours2": ""
         },
         {
          "h_rocade": "2019-01-30T07:45:00",
          "tps_parcours2": ""
         },
         {
          "h_rocade": "2019-01-30T08:00:00",
          "tps_parcours2": "2019-01-31T02:07:25.333333333"
         },
         {
          "h_rocade": "2019-01-30T08:15:00",
          "tps_parcours2": "2019-01-31T02:00:02.125000"
         },
         {
          "h_rocade": "2019-01-30T08:30:00",
          "tps_parcours2": "2019-01-31T02:00:31.333333333"
         },
         {
          "h_rocade": "2019-01-30T08:45:00",
          "tps_parcours2": "2019-01-31T01:54:34"
         },
         {
          "h_rocade": "2019-01-30T09:00:00",
          "tps_parcours2": ""
         },
         {
          "h_rocade": "2019-01-30T09:15:00",
          "tps_parcours2": "2019-01-31T01:20:42.333333333"
         },
         {
          "h_rocade": "2019-01-30T09:30:00",
          "tps_parcours2": "2019-01-31T01:25:42"
         },
         {
          "h_rocade": "2019-01-30T09:45:00",
          "tps_parcours2": "2019-01-31T01:32:31.857142857"
         },
         {
          "h_rocade": "2019-01-30T10:00:00",
          "tps_parcours2": "2019-01-31T01:26:15"
         },
         {
          "h_rocade": "2019-01-30T10:15:00",
          "tps_parcours2": "2019-01-31T01:19:48.571428571"
         },
         {
          "h_rocade": "2019-01-30T10:30:00",
          "tps_parcours2": "2019-01-31T01:30:59.800000"
         },
         {
          "h_rocade": "2019-01-30T10:45:00",
          "tps_parcours2": "2019-01-31T01:15:36"
         },
         {
          "h_rocade": "2019-01-30T11:00:00",
          "tps_parcours2": "2019-01-31T01:33:30.333333333"
         },
         {
          "h_rocade": "2019-01-30T11:15:00",
          "tps_parcours2": "2019-01-31T01:31:43.714285714"
         },
         {
          "h_rocade": "2019-01-30T11:30:00",
          "tps_parcours2": "2019-01-31T01:38:59.750000"
         },
         {
          "h_rocade": "2019-01-30T11:45:00",
          "tps_parcours2": "2019-01-31T01:50:02.333333333"
         },
         {
          "h_rocade": "2019-01-30T12:00:00",
          "tps_parcours2": "2019-01-31T01:35:10.666666666"
         },
         {
          "h_rocade": "2019-01-30T12:15:00",
          "tps_parcours2": "2019-01-31T01:31:34.166666666"
         },
         {
          "h_rocade": "2019-01-30T12:30:00",
          "tps_parcours2": "2019-01-31T01:42:40"
         },
         {
          "h_rocade": "2019-01-30T12:45:00",
          "tps_parcours2": "2019-01-31T01:30:39"
         },
         {
          "h_rocade": "2019-01-30T13:00:00",
          "tps_parcours2": "2019-01-31T01:29:19"
         },
         {
          "h_rocade": "2019-01-30T13:15:00",
          "tps_parcours2": "2019-01-31T01:37:26.333333333"
         },
         {
          "h_rocade": "2019-01-30T13:30:00",
          "tps_parcours2": "2019-01-31T01:36:35.125000"
         },
         {
          "h_rocade": "2019-01-30T13:45:00",
          "tps_parcours2": "2019-01-31T01:36:35.333333333"
         },
         {
          "h_rocade": "2019-01-30T14:00:00",
          "tps_parcours2": "2019-01-31T01:50:02.300000"
         },
         {
          "h_rocade": "2019-01-30T14:15:00",
          "tps_parcours2": "2019-01-31T01:42:54"
         },
         {
          "h_rocade": "2019-01-30T14:30:00",
          "tps_parcours2": "2019-01-31T01:38:07.285714285"
         },
         {
          "h_rocade": "2019-01-30T14:45:00",
          "tps_parcours2": "2019-01-31T01:27:05.571428571"
         },
         {
          "h_rocade": "2019-01-30T15:00:00",
          "tps_parcours2": "2019-01-31T01:37:58.800000"
         },
         {
          "h_rocade": "2019-01-30T15:15:00",
          "tps_parcours2": "2019-01-31T01:17:49"
         },
         {
          "h_rocade": "2019-01-30T15:30:00",
          "tps_parcours2": "2019-01-31T01:33:56"
         },
         {
          "h_rocade": "2019-01-30T15:45:00",
          "tps_parcours2": "2019-01-31T01:30:00.333333333"
         },
         {
          "h_rocade": "2019-01-30T16:00:00",
          "tps_parcours2": "2019-01-31T01:26:42.700000"
         },
         {
          "h_rocade": "2019-01-30T16:15:00",
          "tps_parcours2": "2019-01-31T01:26:49.200000"
         },
         {
          "h_rocade": "2019-01-30T16:30:00",
          "tps_parcours2": "2019-01-31T01:37:50.200000"
         },
         {
          "h_rocade": "2019-01-30T16:45:00",
          "tps_parcours2": "2019-01-31T01:36:34.600000"
         },
         {
          "h_rocade": "2019-01-30T17:00:00",
          "tps_parcours2": "2019-01-31T01:36:10.375000"
         },
         {
          "h_rocade": "2019-01-30T17:15:00",
          "tps_parcours2": "2019-01-31T01:36:08.600000"
         },
         {
          "h_rocade": "2019-01-30T17:30:00",
          "tps_parcours2": "2019-01-31T01:25:31.888888888"
         },
         {
          "h_rocade": "2019-01-30T17:45:00",
          "tps_parcours2": "2019-01-31T01:35:47.750000"
         },
         {
          "h_rocade": "2019-01-30T18:00:00",
          "tps_parcours2": "2019-01-31T01:52:49"
         },
         {
          "h_rocade": "2019-01-30T18:15:00",
          "tps_parcours2": "2019-01-31T01:29:46.500000"
         },
         {
          "h_rocade": "2019-01-30T18:30:00",
          "tps_parcours2": "2019-01-31T01:33:04.666666666"
         },
         {
          "h_rocade": "2019-01-30T18:45:00",
          "tps_parcours2": "2019-01-31T01:20:43.875000"
         },
         {
          "h_rocade": "2019-01-30T19:00:00",
          "tps_parcours2": "2019-01-31T01:15:29.666666666"
         },
         {
          "h_rocade": "2019-01-30T19:15:00",
          "tps_parcours2": "2019-01-31T01:31:26.833333333"
         },
         {
          "h_rocade": "2019-01-30T19:30:00",
          "tps_parcours2": "2019-01-31T01:41:39.750000"
         },
         {
          "h_rocade": "2019-01-30T19:45:00",
          "tps_parcours2": "2019-01-31T01:43:46.250000"
         },
         {
          "h_rocade": "2019-01-30T20:00:00",
          "tps_parcours2": "2019-01-31T01:31:48.666666666"
         },
         {
          "h_rocade": "2019-01-30T20:15:00",
          "tps_parcours2": "2019-01-31T01:22:16.333333333"
         },
         {
          "h_rocade": "2019-01-30T20:30:00",
          "tps_parcours2": "2019-01-31T01:57:30.600000"
         },
         {
          "h_rocade": "2019-01-30T20:45:00",
          "tps_parcours2": "2019-01-31T01:30:09.500000"
         },
         {
          "h_rocade": "2019-01-30T21:00:00",
          "tps_parcours2": "2019-01-31T02:02:43.600000"
         },
         {
          "h_rocade": "2019-01-30T21:15:00",
          "tps_parcours2": "2019-01-31T01:38:56.666666666"
         },
         {
          "h_rocade": "2019-01-30T21:30:00",
          "tps_parcours2": "2019-01-31T01:32:05.500000"
         },
         {
          "h_rocade": "2019-01-30T21:45:00",
          "tps_parcours2": "2019-01-31T01:33:06.500000"
         },
         {
          "h_rocade": "2019-01-30T22:00:00",
          "tps_parcours2": "2019-01-31T01:26:34"
         },
         {
          "h_rocade": "2019-01-30T22:15:00",
          "tps_parcours2": "2019-01-31T01:43:12.500000"
         },
         {
          "h_rocade": "2019-01-30T22:30:00",
          "tps_parcours2": "2019-01-31T01:50:39"
         },
         {
          "h_rocade": "2019-01-30T22:45:00",
          "tps_parcours2": "2019-01-31T01:44:58.571428571"
         },
         {
          "h_rocade": "2019-01-30T23:00:00",
          "tps_parcours2": "2019-01-31T01:54:13.333333333"
         },
         {
          "h_rocade": "2019-01-30T23:15:00",
          "tps_parcours2": "2019-01-31T02:35:35.666666666"
         },
         {
          "h_rocade": "2019-01-30T23:30:00",
          "tps_parcours2": "2019-01-31T01:49:42.428571428"
         },
         {
          "h_rocade": "2019-01-30T23:45:00",
          "tps_parcours2": "2019-01-31T01:48:49.800000"
         },
         {
          "h_rocade": "2019-01-31T00:00:00",
          "tps_parcours2": "2019-01-31T01:38:04"
         },
         {
          "h_rocade": "2019-01-31T00:15:00",
          "tps_parcours2": "2019-01-31T01:34:54"
         },
         {
          "h_rocade": "2019-01-31T00:30:00",
          "tps_parcours2": "2019-01-31T01:14:10"
         },
         {
          "h_rocade": "2019-01-31T00:45:00",
          "tps_parcours2": "2019-01-31T01:42:29.666666666"
         },
         {
          "h_rocade": "2019-01-31T01:00:00",
          "tps_parcours2": "2019-01-31T01:35:31.333333333"
         },
         {
          "h_rocade": "2019-01-31T01:15:00",
          "tps_parcours2": "2019-01-31T01:22:00"
         },
         {
          "h_rocade": "2019-01-31T01:30:00",
          "tps_parcours2": "2019-01-31T01:18:44"
         },
         {
          "h_rocade": "2019-01-31T01:45:00",
          "tps_parcours2": ""
         },
         {
          "h_rocade": "2019-01-31T02:00:00",
          "tps_parcours2": "2019-01-31T01:25:13.500000"
         },
         {
          "h_rocade": "2019-01-31T02:15:00",
          "tps_parcours2": "2019-01-31T01:28:43"
         },
         {
          "h_rocade": "2019-01-31T02:30:00",
          "tps_parcours2": "2019-01-31T01:48:24.250000"
         },
         {
          "h_rocade": "2019-01-31T02:45:00",
          "tps_parcours2": ""
         },
         {
          "h_rocade": "2019-01-31T03:00:00",
          "tps_parcours2": "2019-01-31T01:32:20.666666666"
         },
         {
          "h_rocade": "2019-01-31T03:15:00",
          "tps_parcours2": "2019-01-31T01:44:29"
         },
         {
          "h_rocade": "2019-01-31T03:30:00",
          "tps_parcours2": "2019-01-31T01:42:44"
         },
         {
          "h_rocade": "2019-01-31T03:45:00",
          "tps_parcours2": "2019-01-31T01:28:32.400000"
         },
         {
          "h_rocade": "2019-01-31T04:00:00",
          "tps_parcours2": "2019-01-31T01:16:14"
         },
         {
          "h_rocade": "2019-01-31T04:15:00",
          "tps_parcours2": "2019-01-31T01:43:42.600000"
         },
         {
          "h_rocade": "2019-01-31T04:30:00",
          "tps_parcours2": "2019-01-31T01:23:32.750000"
         },
         {
          "h_rocade": "2019-01-31T04:45:00",
          "tps_parcours2": "2019-01-31T01:41:40.333333333"
         },
         {
          "h_rocade": "2019-01-31T05:00:00",
          "tps_parcours2": "2019-01-31T01:24:03.666666666"
         },
         {
          "h_rocade": "2019-01-31T05:15:00",
          "tps_parcours2": "2019-01-31T01:43:26.714285714"
         },
         {
          "h_rocade": "2019-01-31T05:30:00",
          "tps_parcours2": "2019-01-31T01:39:28.285714285"
         },
         {
          "h_rocade": "2019-01-31T05:45:00",
          "tps_parcours2": "2019-01-31T01:46:41.600000"
         },
         {
          "h_rocade": "2019-01-31T06:00:00",
          "tps_parcours2": "2019-01-31T02:00:15.666666666"
         },
         {
          "h_rocade": "2019-01-31T06:15:00",
          "tps_parcours2": "2019-01-31T02:07:15"
         },
         {
          "h_rocade": "2019-01-31T06:30:00",
          "tps_parcours2": "2019-01-31T02:32:25"
         },
         {
          "h_rocade": "2019-01-31T06:45:00",
          "tps_parcours2": "2019-01-31T03:05:06.250000"
         },
         {
          "h_rocade": "2019-01-31T07:00:00",
          "tps_parcours2": "2019-01-31T03:00:27.666666666"
         },
         {
          "h_rocade": "2019-01-31T07:15:00",
          "tps_parcours2": "2019-01-31T03:34:09.333333333"
         },
         {
          "h_rocade": "2019-01-31T07:30:00",
          "tps_parcours2": "2019-01-31T03:00:32.200000"
         },
         {
          "h_rocade": "2019-01-31T07:45:00",
          "tps_parcours2": "2019-01-31T03:02:25.400000"
         },
         {
          "h_rocade": "2019-01-31T08:00:00",
          "tps_parcours2": "2019-01-31T02:59:39"
         },
         {
          "h_rocade": "2019-01-31T08:15:00",
          "tps_parcours2": "2019-01-31T02:55:25.750000"
         },
         {
          "h_rocade": "2019-01-31T08:30:00",
          "tps_parcours2": "2019-01-31T02:41:14.363636363"
         },
         {
          "h_rocade": "2019-01-31T08:45:00",
          "tps_parcours2": "2019-01-31T02:18:06.600000"
         },
         {
          "h_rocade": "2019-01-31T09:00:00",
          "tps_parcours2": "2019-01-31T02:24:13.250000"
         },
         {
          "h_rocade": "2019-01-31T09:15:00",
          "tps_parcours2": "2019-01-31T02:26:48.777777777"
         },
         {
          "h_rocade": "2019-01-31T09:30:00",
          "tps_parcours2": "2019-01-31T01:55:18.909090909"
         },
         {
          "h_rocade": "2019-01-31T09:45:00",
          "tps_parcours2": "2019-01-31T02:03:02"
         },
         {
          "h_rocade": "2019-01-31T10:00:00",
          "tps_parcours2": "2019-01-31T01:43:32.444444444"
         },
         {
          "h_rocade": "2019-01-31T10:15:00",
          "tps_parcours2": "2019-01-31T01:47:23.923076923"
         },
         {
          "h_rocade": "2019-01-31T10:30:00",
          "tps_parcours2": "2019-01-31T01:43:31.800000"
         },
         {
          "h_rocade": "2019-01-31T10:45:00",
          "tps_parcours2": "2019-01-31T01:39:17.866666666"
         },
         {
          "h_rocade": "2019-01-31T11:00:00",
          "tps_parcours2": "2019-01-31T01:49:36.769230769"
         },
         {
          "h_rocade": "2019-01-31T11:15:00",
          "tps_parcours2": "2019-01-31T01:34:21.500000"
         },
         {
          "h_rocade": "2019-01-31T11:30:00",
          "tps_parcours2": "2019-01-31T01:47:03.571428571"
         },
         {
          "h_rocade": "2019-01-31T11:45:00",
          "tps_parcours2": "2019-01-31T01:40:14"
         },
         {
          "h_rocade": "2019-01-31T12:00:00",
          "tps_parcours2": "2019-01-31T01:46:01.333333333"
         },
         {
          "h_rocade": "2019-01-31T12:15:00",
          "tps_parcours2": "2019-01-31T01:41:59.285714285"
         },
         {
          "h_rocade": "2019-01-31T12:30:00",
          "tps_parcours2": "2019-01-31T01:36:53.200000"
         },
         {
          "h_rocade": "2019-01-31T12:45:00",
          "tps_parcours2": "2019-01-31T01:32:15.300000"
         },
         {
          "h_rocade": "2019-01-31T13:00:00",
          "tps_parcours2": "2019-01-31T01:31:28.400000"
         },
         {
          "h_rocade": "2019-01-31T13:15:00",
          "tps_parcours2": "2019-01-31T01:29:19.333333333"
         },
         {
          "h_rocade": "2019-01-31T13:30:00",
          "tps_parcours2": "2019-01-31T01:29:13.666666666"
         },
         {
          "h_rocade": "2019-01-31T13:45:00",
          "tps_parcours2": "2019-01-31T01:34:24.285714285"
         },
         {
          "h_rocade": "2019-01-31T14:00:00",
          "tps_parcours2": "2019-01-31T01:42:53.285714285"
         },
         {
          "h_rocade": "2019-01-31T14:15:00",
          "tps_parcours2": "2019-01-31T01:34:03.500000"
         },
         {
          "h_rocade": "2019-01-31T14:30:00",
          "tps_parcours2": "2019-01-31T01:43:24.500000"
         },
         {
          "h_rocade": "2019-01-31T14:45:00",
          "tps_parcours2": "2019-01-31T01:36:03.785714285"
         },
         {
          "h_rocade": "2019-01-31T15:00:00",
          "tps_parcours2": "2019-01-31T01:38:38.266666666"
         },
         {
          "h_rocade": "2019-01-31T15:15:00",
          "tps_parcours2": "2019-01-31T01:35:05.900000"
         },
         {
          "h_rocade": "2019-01-31T15:30:00",
          "tps_parcours2": "2019-01-31T01:31:23.500000"
         },
         {
          "h_rocade": "2019-01-31T15:45:00",
          "tps_parcours2": "2019-01-31T01:27:03.600000"
         },
         {
          "h_rocade": "2019-01-31T16:00:00",
          "tps_parcours2": "2019-01-31T01:28:38.714285714"
         },
         {
          "h_rocade": "2019-01-31T16:15:00",
          "tps_parcours2": "2019-01-31T01:29:30.400000"
         },
         {
          "h_rocade": "2019-01-31T16:30:00",
          "tps_parcours2": "2019-01-31T01:29:24.125000"
         },
         {
          "h_rocade": "2019-01-31T16:45:00",
          "tps_parcours2": "2019-01-31T01:33:05.750000"
         },
         {
          "h_rocade": "2019-01-31T17:00:00",
          "tps_parcours2": "2019-01-31T01:30:51.090909090"
         },
         {
          "h_rocade": "2019-01-31T17:15:00",
          "tps_parcours2": "2019-01-31T01:34:55"
         },
         {
          "h_rocade": "2019-01-31T17:30:00",
          "tps_parcours2": "2019-01-31T01:34:23.333333333"
         },
         {
          "h_rocade": "2019-01-31T17:45:00",
          "tps_parcours2": "2019-01-31T01:35:41.500000"
         },
         {
          "h_rocade": "2019-01-31T18:00:00",
          "tps_parcours2": "2019-01-31T01:29:22.166666666"
         },
         {
          "h_rocade": "2019-01-31T18:15:00",
          "tps_parcours2": "2019-01-31T01:31:10.500000"
         },
         {
          "h_rocade": "2019-01-31T18:30:00",
          "tps_parcours2": "2019-01-31T01:29:29.714285714"
         },
         {
          "h_rocade": "2019-01-31T18:45:00",
          "tps_parcours2": "2019-01-31T01:38:39.666666666"
         },
         {
          "h_rocade": "2019-01-31T19:00:00",
          "tps_parcours2": "2019-01-31T01:32:34"
         },
         {
          "h_rocade": "2019-01-31T19:15:00",
          "tps_parcours2": "2019-01-31T01:25:24.500000"
         },
         {
          "h_rocade": "2019-01-31T19:30:00",
          "tps_parcours2": "2019-01-31T01:33:10.250000"
         },
         {
          "h_rocade": "2019-01-31T19:45:00",
          "tps_parcours2": "2019-01-31T01:32:13"
         },
         {
          "h_rocade": "2019-01-31T20:00:00",
          "tps_parcours2": "2019-01-31T01:52:06"
         },
         {
          "h_rocade": "2019-01-31T20:15:00",
          "tps_parcours2": "2019-01-31T01:23:44.500000"
         },
         {
          "h_rocade": "2019-01-31T20:30:00",
          "tps_parcours2": "2019-01-31T01:51:16"
         },
         {
          "h_rocade": "2019-01-31T20:45:00",
          "tps_parcours2": "2019-01-31T01:43:50"
         },
         {
          "h_rocade": "2019-01-31T21:00:00",
          "tps_parcours2": "2019-01-31T01:46:46.333333333"
         },
         {
          "h_rocade": "2019-01-31T21:15:00",
          "tps_parcours2": "2019-01-31T01:43:02.600000"
         },
         {
          "h_rocade": "2019-01-31T21:30:00",
          "tps_parcours2": "2019-01-31T01:14:37"
         },
         {
          "h_rocade": "2019-01-31T21:45:00",
          "tps_parcours2": "2019-01-31T01:36:50.666666666"
         },
         {
          "h_rocade": "2019-01-31T22:00:00",
          "tps_parcours2": "2019-01-31T01:34:45.333333333"
         },
         {
          "h_rocade": "2019-01-31T22:15:00",
          "tps_parcours2": "2019-01-31T01:30:02"
         },
         {
          "h_rocade": "2019-01-31T22:30:00",
          "tps_parcours2": ""
         },
         {
          "h_rocade": "2019-01-31T22:45:00",
          "tps_parcours2": "2019-01-31T02:02:52.500000"
         },
         {
          "h_rocade": "2019-01-31T23:00:00",
          "tps_parcours2": ""
         },
         {
          "h_rocade": "2019-01-31T23:15:00",
          "tps_parcours2": ""
         },
         {
          "h_rocade": "2019-01-31T23:30:00",
          "tps_parcours2": "2019-01-31T02:01:59.750000"
         },
         {
          "h_rocade": "2019-01-31T23:45:00",
          "tps_parcours2": ""
         },
         {
          "h_rocade": "2019-02-01T00:00:00",
          "tps_parcours2": "2019-01-31T01:32:06"
         },
         {
          "h_rocade": "2019-02-01T00:15:00",
          "tps_parcours2": "2019-01-31T01:45:37"
         },
         {
          "h_rocade": "2019-02-01T00:30:00",
          "tps_parcours2": "2019-01-31T01:32:44"
         },
         {
          "h_rocade": "2019-02-01T00:45:00",
          "tps_parcours2": "2019-01-31T02:05:09.333333333"
         },
         {
          "h_rocade": "2019-02-01T01:00:00",
          "tps_parcours2": "2019-01-31T01:30:30"
         },
         {
          "h_rocade": "2019-02-01T01:15:00",
          "tps_parcours2": ""
         },
         {
          "h_rocade": "2019-02-01T01:30:00",
          "tps_parcours2": "2019-01-31T01:50:08.500000"
         },
         {
          "h_rocade": "2019-02-01T01:45:00",
          "tps_parcours2": ""
         },
         {
          "h_rocade": "2019-02-01T02:00:00",
          "tps_parcours2": "2019-01-31T01:35:07"
         },
         {
          "h_rocade": "2019-02-01T02:15:00",
          "tps_parcours2": "2019-01-31T01:36:28.500000"
         },
         {
          "h_rocade": "2019-02-01T02:30:00",
          "tps_parcours2": ""
         },
         {
          "h_rocade": "2019-02-01T02:45:00",
          "tps_parcours2": "2019-01-31T01:29:19"
         },
         {
          "h_rocade": "2019-02-01T03:00:00",
          "tps_parcours2": "2019-01-31T02:08:20.666666666"
         },
         {
          "h_rocade": "2019-02-01T03:15:00",
          "tps_parcours2": "2019-01-31T01:57:06"
         },
         {
          "h_rocade": "2019-02-01T03:30:00",
          "tps_parcours2": "2019-01-31T01:44:48.500000"
         },
         {
          "h_rocade": "2019-02-01T03:45:00",
          "tps_parcours2": "2019-01-31T01:31:15"
         },
         {
          "h_rocade": "2019-02-01T04:00:00",
          "tps_parcours2": ""
         },
         {
          "h_rocade": "2019-02-01T04:15:00",
          "tps_parcours2": "2019-01-31T01:32:19.166666666"
         },
         {
          "h_rocade": "2019-02-01T04:30:00",
          "tps_parcours2": "2019-01-31T01:33:03.333333333"
         },
         {
          "h_rocade": "2019-02-01T04:45:00",
          "tps_parcours2": "2019-01-31T01:51:07"
         },
         {
          "h_rocade": "2019-02-01T05:00:00",
          "tps_parcours2": "2019-01-31T01:35:57.400000"
         },
         {
          "h_rocade": "2019-02-01T05:15:00",
          "tps_parcours2": "2019-01-31T01:30:29"
         },
         {
          "h_rocade": "2019-02-01T05:30:00",
          "tps_parcours2": "2019-01-31T01:57:46.750000"
         },
         {
          "h_rocade": "2019-02-01T05:45:00",
          "tps_parcours2": "2019-01-31T01:42:08.200000"
         },
         {
          "h_rocade": "2019-02-01T06:00:00",
          "tps_parcours2": "2019-01-31T02:18:37.666666666"
         },
         {
          "h_rocade": "2019-02-01T06:15:00",
          "tps_parcours2": "2019-01-31T02:02:02.500000"
         },
         {
          "h_rocade": "2019-02-01T06:30:00",
          "tps_parcours2": "2019-01-31T02:13:11"
         },
         {
          "h_rocade": "2019-02-01T06:45:00",
          "tps_parcours2": "2019-01-31T02:33:16.500000"
         },
         {
          "h_rocade": "2019-02-01T07:00:00",
          "tps_parcours2": "2019-01-31T02:36:56.250000"
         },
         {
          "h_rocade": "2019-02-01T07:15:00",
          "tps_parcours2": "2019-01-31T02:08:47.333333333"
         },
         {
          "h_rocade": "2019-02-01T07:30:00",
          "tps_parcours2": "2019-01-31T02:51:25.500000"
         },
         {
          "h_rocade": "2019-02-01T07:45:00",
          "tps_parcours2": "2019-01-31T03:17:30.500000"
         },
         {
          "h_rocade": "2019-02-01T08:00:00",
          "tps_parcours2": "2019-01-31T03:01:30"
         },
         {
          "h_rocade": "2019-02-01T08:15:00",
          "tps_parcours2": "2019-01-31T01:54:37.666666666"
         },
         {
          "h_rocade": "2019-02-01T08:30:00",
          "tps_parcours2": "2019-01-31T01:57:21.666666666"
         },
         {
          "h_rocade": "2019-02-01T08:45:00",
          "tps_parcours2": ""
         },
         {
          "h_rocade": "2019-02-01T09:00:00",
          "tps_parcours2": ""
         },
         {
          "h_rocade": "2019-02-01T09:15:00",
          "tps_parcours2": ""
         },
         {
          "h_rocade": "2019-02-01T09:30:00",
          "tps_parcours2": ""
         },
         {
          "h_rocade": "2019-02-01T09:45:00",
          "tps_parcours2": ""
         },
         {
          "h_rocade": "2019-02-01T10:00:00",
          "tps_parcours2": "2019-01-31T01:53:13"
         },
         {
          "h_rocade": "2019-02-01T10:15:00",
          "tps_parcours2": "2019-01-31T01:50:31.250000"
         },
         {
          "h_rocade": "2019-02-01T10:30:00",
          "tps_parcours2": "2019-01-31T01:46:31.714285714"
         },
         {
          "h_rocade": "2019-02-01T10:45:00",
          "tps_parcours2": "2019-01-31T01:45:42.800000"
         },
         {
          "h_rocade": "2019-02-01T11:00:00",
          "tps_parcours2": "2019-01-31T01:36:28.666666666"
         },
         {
          "h_rocade": "2019-02-01T11:15:00",
          "tps_parcours2": ""
         },
         {
          "h_rocade": "2019-02-01T11:30:00",
          "tps_parcours2": ""
         },
         {
          "h_rocade": "2019-02-01T11:45:00",
          "tps_parcours2": "2019-01-31T02:06:10.500000"
         },
         {
          "h_rocade": "2019-02-01T12:00:00",
          "tps_parcours2": "2019-01-31T01:41:41.500000"
         },
         {
          "h_rocade": "2019-02-01T12:15:00",
          "tps_parcours2": ""
         },
         {
          "h_rocade": "2019-02-01T12:30:00",
          "tps_parcours2": ""
         },
         {
          "h_rocade": "2019-02-01T12:45:00",
          "tps_parcours2": "2019-01-31T02:46:56.500000"
         },
         {
          "h_rocade": "2019-02-01T13:00:00",
          "tps_parcours2": "2019-01-31T02:02:42"
         },
         {
          "h_rocade": "2019-02-01T13:15:00",
          "tps_parcours2": "2019-01-31T02:28:18.333333333"
         },
         {
          "h_rocade": "2019-02-01T13:30:00",
          "tps_parcours2": "2019-01-31T01:54:09.833333333"
         },
         {
          "h_rocade": "2019-02-01T13:45:00",
          "tps_parcours2": "2019-01-31T01:49:34.800000"
         },
         {
          "h_rocade": "2019-02-01T14:00:00",
          "tps_parcours2": "2019-01-31T01:48:04"
         },
         {
          "h_rocade": "2019-02-01T14:15:00",
          "tps_parcours2": "2019-01-31T02:06:12"
         },
         {
          "h_rocade": "2019-02-01T14:30:00",
          "tps_parcours2": "2019-01-31T02:06:47.200000"
         },
         {
          "h_rocade": "2019-02-01T14:45:00",
          "tps_parcours2": ""
         },
         {
          "h_rocade": "2019-02-01T15:00:00",
          "tps_parcours2": ""
         },
         {
          "h_rocade": "2019-02-01T15:15:00",
          "tps_parcours2": ""
         },
         {
          "h_rocade": "2019-02-01T15:30:00",
          "tps_parcours2": ""
         },
         {
          "h_rocade": "2019-02-01T15:45:00",
          "tps_parcours2": ""
         },
         {
          "h_rocade": "2019-02-01T16:00:00",
          "tps_parcours2": ""
         },
         {
          "h_rocade": "2019-02-01T16:15:00",
          "tps_parcours2": "2019-01-31T02:48:51.500000"
         },
         {
          "h_rocade": "2019-02-01T16:30:00",
          "tps_parcours2": "2019-01-31T03:05:07.833333333"
         },
         {
          "h_rocade": "2019-02-01T16:45:00",
          "tps_parcours2": "2019-01-31T02:09:58.500000"
         },
         {
          "h_rocade": "2019-02-01T17:00:00",
          "tps_parcours2": "2019-01-31T02:21:38"
         },
         {
          "h_rocade": "2019-02-01T17:15:00",
          "tps_parcours2": "2019-01-31T02:22:11"
         },
         {
          "h_rocade": "2019-02-01T17:30:00",
          "tps_parcours2": ""
         },
         {
          "h_rocade": "2019-02-01T17:45:00",
          "tps_parcours2": ""
         },
         {
          "h_rocade": "2019-02-01T18:00:00",
          "tps_parcours2": "2019-01-31T02:06:55"
         },
         {
          "h_rocade": "2019-02-01T18:15:00",
          "tps_parcours2": ""
         },
         {
          "h_rocade": "2019-02-01T18:30:00",
          "tps_parcours2": ""
         },
         {
          "h_rocade": "2019-02-01T18:45:00",
          "tps_parcours2": "2019-01-31T01:32:34.500000"
         },
         {
          "h_rocade": "2019-02-01T19:00:00",
          "tps_parcours2": "2019-01-31T01:33:29"
         },
         {
          "h_rocade": "2019-02-01T19:15:00",
          "tps_parcours2": "2019-01-31T01:33:28"
         },
         {
          "h_rocade": "2019-02-01T19:30:00",
          "tps_parcours2": "2019-01-31T01:42:55.250000"
         },
         {
          "h_rocade": "2019-02-01T19:45:00",
          "tps_parcours2": ""
         },
         {
          "h_rocade": "2019-02-01T20:00:00",
          "tps_parcours2": "2019-01-31T02:38:16"
         },
         {
          "h_rocade": "2019-02-01T20:15:00",
          "tps_parcours2": "2019-01-31T01:33:51"
         },
         {
          "h_rocade": "2019-02-01T20:30:00",
          "tps_parcours2": "2019-01-31T01:37:26"
         },
         {
          "h_rocade": "2019-02-01T20:45:00",
          "tps_parcours2": ""
         },
         {
          "h_rocade": "2019-02-01T21:00:00",
          "tps_parcours2": ""
         },
         {
          "h_rocade": "2019-02-01T21:15:00",
          "tps_parcours2": ""
         },
         {
          "h_rocade": "2019-02-01T21:30:00",
          "tps_parcours2": "2019-01-31T01:30:13"
         },
         {
          "h_rocade": "2019-02-01T21:45:00",
          "tps_parcours2": ""
         },
         {
          "h_rocade": "2019-02-01T22:00:00",
          "tps_parcours2": ""
         },
         {
          "h_rocade": "2019-02-01T22:15:00",
          "tps_parcours2": "2019-01-31T01:41:33.500000"
         },
         {
          "h_rocade": "2019-02-01T22:30:00",
          "tps_parcours2": "2019-01-31T02:11:09.600000"
         },
         {
          "h_rocade": "2019-02-01T22:45:00",
          "tps_parcours2": "2019-01-31T01:48:49.500000"
         },
         {
          "h_rocade": "2019-02-01T23:00:00",
          "tps_parcours2": ""
         },
         {
          "h_rocade": "2019-02-01T23:15:00",
          "tps_parcours2": ""
         },
         {
          "h_rocade": "2019-02-01T23:30:00",
          "tps_parcours2": ""
         },
         {
          "h_rocade": "2019-02-01T23:45:00",
          "tps_parcours2": "2019-01-31T01:41:03"
         },
         {
          "h_rocade": "2019-02-02T00:00:00",
          "tps_parcours2": ""
         },
         {
          "h_rocade": "2019-02-02T00:15:00",
          "tps_parcours2": ""
         },
         {
          "h_rocade": "2019-02-02T00:30:00",
          "tps_parcours2": ""
         },
         {
          "h_rocade": "2019-02-02T00:45:00",
          "tps_parcours2": ""
         },
         {
          "h_rocade": "2019-02-02T01:00:00",
          "tps_parcours2": ""
         },
         {
          "h_rocade": "2019-02-02T01:15:00",
          "tps_parcours2": ""
         },
         {
          "h_rocade": "2019-02-02T01:30:00",
          "tps_parcours2": ""
         },
         {
          "h_rocade": "2019-02-02T01:45:00",
          "tps_parcours2": ""
         },
         {
          "h_rocade": "2019-02-02T02:00:00",
          "tps_parcours2": ""
         },
         {
          "h_rocade": "2019-02-02T02:15:00",
          "tps_parcours2": ""
         },
         {
          "h_rocade": "2019-02-02T02:30:00",
          "tps_parcours2": ""
         },
         {
          "h_rocade": "2019-02-02T02:45:00",
          "tps_parcours2": ""
         },
         {
          "h_rocade": "2019-02-02T03:00:00",
          "tps_parcours2": ""
         },
         {
          "h_rocade": "2019-02-02T03:15:00",
          "tps_parcours2": ""
         },
         {
          "h_rocade": "2019-02-02T03:30:00",
          "tps_parcours2": ""
         },
         {
          "h_rocade": "2019-02-02T03:45:00",
          "tps_parcours2": ""
         },
         {
          "h_rocade": "2019-02-02T04:00:00",
          "tps_parcours2": ""
         },
         {
          "h_rocade": "2019-02-02T04:15:00",
          "tps_parcours2": ""
         },
         {
          "h_rocade": "2019-02-02T04:30:00",
          "tps_parcours2": ""
         },
         {
          "h_rocade": "2019-02-02T04:45:00",
          "tps_parcours2": ""
         },
         {
          "h_rocade": "2019-02-02T05:00:00",
          "tps_parcours2": ""
         },
         {
          "h_rocade": "2019-02-02T05:15:00",
          "tps_parcours2": ""
         },
         {
          "h_rocade": "2019-02-02T05:30:00",
          "tps_parcours2": ""
         },
         {
          "h_rocade": "2019-02-02T05:45:00",
          "tps_parcours2": ""
         },
         {
          "h_rocade": "2019-02-02T06:00:00",
          "tps_parcours2": ""
         },
         {
          "h_rocade": "2019-02-02T06:15:00",
          "tps_parcours2": ""
         },
         {
          "h_rocade": "2019-02-02T06:30:00",
          "tps_parcours2": ""
         },
         {
          "h_rocade": "2019-02-02T06:45:00",
          "tps_parcours2": ""
         },
         {
          "h_rocade": "2019-02-02T07:00:00",
          "tps_parcours2": ""
         },
         {
          "h_rocade": "2019-02-02T07:15:00",
          "tps_parcours2": ""
         },
         {
          "h_rocade": "2019-02-02T07:30:00",
          "tps_parcours2": ""
         },
         {
          "h_rocade": "2019-02-02T07:45:00",
          "tps_parcours2": ""
         },
         {
          "h_rocade": "2019-02-02T08:00:00",
          "tps_parcours2": ""
         },
         {
          "h_rocade": "2019-02-02T08:15:00",
          "tps_parcours2": ""
         },
         {
          "h_rocade": "2019-02-02T08:30:00",
          "tps_parcours2": ""
         },
         {
          "h_rocade": "2019-02-02T08:45:00",
          "tps_parcours2": ""
         },
         {
          "h_rocade": "2019-02-02T09:00:00",
          "tps_parcours2": ""
         },
         {
          "h_rocade": "2019-02-02T09:15:00",
          "tps_parcours2": ""
         },
         {
          "h_rocade": "2019-02-02T09:30:00",
          "tps_parcours2": ""
         },
         {
          "h_rocade": "2019-02-02T09:45:00",
          "tps_parcours2": ""
         },
         {
          "h_rocade": "2019-02-02T10:00:00",
          "tps_parcours2": ""
         },
         {
          "h_rocade": "2019-02-02T10:15:00",
          "tps_parcours2": ""
         },
         {
          "h_rocade": "2019-02-02T10:30:00",
          "tps_parcours2": ""
         },
         {
          "h_rocade": "2019-02-02T10:45:00",
          "tps_parcours2": ""
         },
         {
          "h_rocade": "2019-02-02T11:00:00",
          "tps_parcours2": ""
         },
         {
          "h_rocade": "2019-02-02T11:15:00",
          "tps_parcours2": ""
         },
         {
          "h_rocade": "2019-02-02T11:30:00",
          "tps_parcours2": ""
         },
         {
          "h_rocade": "2019-02-02T11:45:00",
          "tps_parcours2": ""
         },
         {
          "h_rocade": "2019-02-02T12:00:00",
          "tps_parcours2": ""
         },
         {
          "h_rocade": "2019-02-02T12:15:00",
          "tps_parcours2": ""
         },
         {
          "h_rocade": "2019-02-02T12:30:00",
          "tps_parcours2": ""
         },
         {
          "h_rocade": "2019-02-02T12:45:00",
          "tps_parcours2": ""
         },
         {
          "h_rocade": "2019-02-02T13:00:00",
          "tps_parcours2": ""
         },
         {
          "h_rocade": "2019-02-02T13:15:00",
          "tps_parcours2": ""
         },
         {
          "h_rocade": "2019-02-02T13:30:00",
          "tps_parcours2": ""
         },
         {
          "h_rocade": "2019-02-02T13:45:00",
          "tps_parcours2": ""
         },
         {
          "h_rocade": "2019-02-02T14:00:00",
          "tps_parcours2": ""
         },
         {
          "h_rocade": "2019-02-02T14:15:00",
          "tps_parcours2": ""
         },
         {
          "h_rocade": "2019-02-02T14:30:00",
          "tps_parcours2": ""
         },
         {
          "h_rocade": "2019-02-02T14:45:00",
          "tps_parcours2": ""
         },
         {
          "h_rocade": "2019-02-02T15:00:00",
          "tps_parcours2": ""
         },
         {
          "h_rocade": "2019-02-02T15:15:00",
          "tps_parcours2": ""
         },
         {
          "h_rocade": "2019-02-02T15:30:00",
          "tps_parcours2": ""
         },
         {
          "h_rocade": "2019-02-02T15:45:00",
          "tps_parcours2": ""
         },
         {
          "h_rocade": "2019-02-02T16:00:00",
          "tps_parcours2": ""
         },
         {
          "h_rocade": "2019-02-02T16:15:00",
          "tps_parcours2": ""
         },
         {
          "h_rocade": "2019-02-02T16:30:00",
          "tps_parcours2": ""
         },
         {
          "h_rocade": "2019-02-02T16:45:00",
          "tps_parcours2": ""
         },
         {
          "h_rocade": "2019-02-02T17:00:00",
          "tps_parcours2": ""
         },
         {
          "h_rocade": "2019-02-02T17:15:00",
          "tps_parcours2": ""
         },
         {
          "h_rocade": "2019-02-02T17:30:00",
          "tps_parcours2": ""
         },
         {
          "h_rocade": "2019-02-02T17:45:00",
          "tps_parcours2": ""
         },
         {
          "h_rocade": "2019-02-02T18:00:00",
          "tps_parcours2": ""
         },
         {
          "h_rocade": "2019-02-02T18:15:00",
          "tps_parcours2": ""
         },
         {
          "h_rocade": "2019-02-02T18:30:00",
          "tps_parcours2": ""
         },
         {
          "h_rocade": "2019-02-02T18:45:00",
          "tps_parcours2": ""
         },
         {
          "h_rocade": "2019-02-02T19:00:00",
          "tps_parcours2": ""
         },
         {
          "h_rocade": "2019-02-02T19:15:00",
          "tps_parcours2": ""
         },
         {
          "h_rocade": "2019-02-02T19:30:00",
          "tps_parcours2": ""
         },
         {
          "h_rocade": "2019-02-02T19:45:00",
          "tps_parcours2": ""
         },
         {
          "h_rocade": "2019-02-02T20:00:00",
          "tps_parcours2": ""
         },
         {
          "h_rocade": "2019-02-02T20:15:00",
          "tps_parcours2": ""
         },
         {
          "h_rocade": "2019-02-02T20:30:00",
          "tps_parcours2": ""
         },
         {
          "h_rocade": "2019-02-02T20:45:00",
          "tps_parcours2": ""
         },
         {
          "h_rocade": "2019-02-02T21:00:00",
          "tps_parcours2": ""
         },
         {
          "h_rocade": "2019-02-02T21:15:00",
          "tps_parcours2": ""
         },
         {
          "h_rocade": "2019-02-02T21:30:00",
          "tps_parcours2": ""
         },
         {
          "h_rocade": "2019-02-02T21:45:00",
          "tps_parcours2": ""
         },
         {
          "h_rocade": "2019-02-02T22:00:00",
          "tps_parcours2": ""
         },
         {
          "h_rocade": "2019-02-02T22:15:00",
          "tps_parcours2": ""
         },
         {
          "h_rocade": "2019-02-02T22:30:00",
          "tps_parcours2": ""
         },
         {
          "h_rocade": "2019-02-02T22:45:00",
          "tps_parcours2": ""
         },
         {
          "h_rocade": "2019-02-02T23:00:00",
          "tps_parcours2": ""
         },
         {
          "h_rocade": "2019-02-02T23:15:00",
          "tps_parcours2": ""
         },
         {
          "h_rocade": "2019-02-02T23:30:00",
          "tps_parcours2": ""
         },
         {
          "h_rocade": "2019-02-02T23:45:00",
          "tps_parcours2": ""
         },
         {
          "h_rocade": "2019-02-03T00:00:00",
          "tps_parcours2": ""
         },
         {
          "h_rocade": "2019-02-03T00:15:00",
          "tps_parcours2": ""
         },
         {
          "h_rocade": "2019-02-03T00:30:00",
          "tps_parcours2": ""
         },
         {
          "h_rocade": "2019-02-03T00:45:00",
          "tps_parcours2": ""
         },
         {
          "h_rocade": "2019-02-03T01:00:00",
          "tps_parcours2": ""
         },
         {
          "h_rocade": "2019-02-03T01:15:00",
          "tps_parcours2": ""
         },
         {
          "h_rocade": "2019-02-03T01:30:00",
          "tps_parcours2": ""
         },
         {
          "h_rocade": "2019-02-03T01:45:00",
          "tps_parcours2": ""
         },
         {
          "h_rocade": "2019-02-03T02:00:00",
          "tps_parcours2": ""
         },
         {
          "h_rocade": "2019-02-03T02:15:00",
          "tps_parcours2": ""
         },
         {
          "h_rocade": "2019-02-03T02:30:00",
          "tps_parcours2": ""
         },
         {
          "h_rocade": "2019-02-03T02:45:00",
          "tps_parcours2": ""
         },
         {
          "h_rocade": "2019-02-03T03:00:00",
          "tps_parcours2": ""
         },
         {
          "h_rocade": "2019-02-03T03:15:00",
          "tps_parcours2": ""
         },
         {
          "h_rocade": "2019-02-03T03:30:00",
          "tps_parcours2": ""
         },
         {
          "h_rocade": "2019-02-03T03:45:00",
          "tps_parcours2": ""
         },
         {
          "h_rocade": "2019-02-03T04:00:00",
          "tps_parcours2": ""
         },
         {
          "h_rocade": "2019-02-03T04:15:00",
          "tps_parcours2": ""
         },
         {
          "h_rocade": "2019-02-03T04:30:00",
          "tps_parcours2": ""
         },
         {
          "h_rocade": "2019-02-03T04:45:00",
          "tps_parcours2": ""
         },
         {
          "h_rocade": "2019-02-03T05:00:00",
          "tps_parcours2": ""
         },
         {
          "h_rocade": "2019-02-03T05:15:00",
          "tps_parcours2": ""
         },
         {
          "h_rocade": "2019-02-03T05:30:00",
          "tps_parcours2": ""
         },
         {
          "h_rocade": "2019-02-03T05:45:00",
          "tps_parcours2": ""
         },
         {
          "h_rocade": "2019-02-03T06:00:00",
          "tps_parcours2": ""
         },
         {
          "h_rocade": "2019-02-03T06:15:00",
          "tps_parcours2": ""
         },
         {
          "h_rocade": "2019-02-03T06:30:00",
          "tps_parcours2": ""
         },
         {
          "h_rocade": "2019-02-03T06:45:00",
          "tps_parcours2": ""
         },
         {
          "h_rocade": "2019-02-03T07:00:00",
          "tps_parcours2": ""
         },
         {
          "h_rocade": "2019-02-03T07:15:00",
          "tps_parcours2": ""
         },
         {
          "h_rocade": "2019-02-03T07:30:00",
          "tps_parcours2": ""
         },
         {
          "h_rocade": "2019-02-03T07:45:00",
          "tps_parcours2": ""
         },
         {
          "h_rocade": "2019-02-03T08:00:00",
          "tps_parcours2": ""
         },
         {
          "h_rocade": "2019-02-03T08:15:00",
          "tps_parcours2": ""
         },
         {
          "h_rocade": "2019-02-03T08:30:00",
          "tps_parcours2": ""
         },
         {
          "h_rocade": "2019-02-03T08:45:00",
          "tps_parcours2": ""
         },
         {
          "h_rocade": "2019-02-03T09:00:00",
          "tps_parcours2": ""
         },
         {
          "h_rocade": "2019-02-03T09:15:00",
          "tps_parcours2": ""
         },
         {
          "h_rocade": "2019-02-03T09:30:00",
          "tps_parcours2": ""
         },
         {
          "h_rocade": "2019-02-03T09:45:00",
          "tps_parcours2": ""
         },
         {
          "h_rocade": "2019-02-03T10:00:00",
          "tps_parcours2": ""
         },
         {
          "h_rocade": "2019-02-03T10:15:00",
          "tps_parcours2": ""
         },
         {
          "h_rocade": "2019-02-03T10:30:00",
          "tps_parcours2": ""
         },
         {
          "h_rocade": "2019-02-03T10:45:00",
          "tps_parcours2": ""
         },
         {
          "h_rocade": "2019-02-03T11:00:00",
          "tps_parcours2": ""
         },
         {
          "h_rocade": "2019-02-03T11:15:00",
          "tps_parcours2": ""
         },
         {
          "h_rocade": "2019-02-03T11:30:00",
          "tps_parcours2": ""
         },
         {
          "h_rocade": "2019-02-03T11:45:00",
          "tps_parcours2": ""
         },
         {
          "h_rocade": "2019-02-03T12:00:00",
          "tps_parcours2": ""
         },
         {
          "h_rocade": "2019-02-03T12:15:00",
          "tps_parcours2": ""
         },
         {
          "h_rocade": "2019-02-03T12:30:00",
          "tps_parcours2": ""
         },
         {
          "h_rocade": "2019-02-03T12:45:00",
          "tps_parcours2": ""
         },
         {
          "h_rocade": "2019-02-03T13:00:00",
          "tps_parcours2": ""
         },
         {
          "h_rocade": "2019-02-03T13:15:00",
          "tps_parcours2": ""
         },
         {
          "h_rocade": "2019-02-03T13:30:00",
          "tps_parcours2": ""
         },
         {
          "h_rocade": "2019-02-03T13:45:00",
          "tps_parcours2": ""
         },
         {
          "h_rocade": "2019-02-03T14:00:00",
          "tps_parcours2": ""
         },
         {
          "h_rocade": "2019-02-03T14:15:00",
          "tps_parcours2": ""
         },
         {
          "h_rocade": "2019-02-03T14:30:00",
          "tps_parcours2": ""
         },
         {
          "h_rocade": "2019-02-03T14:45:00",
          "tps_parcours2": ""
         },
         {
          "h_rocade": "2019-02-03T15:00:00",
          "tps_parcours2": ""
         },
         {
          "h_rocade": "2019-02-03T15:15:00",
          "tps_parcours2": ""
         },
         {
          "h_rocade": "2019-02-03T15:30:00",
          "tps_parcours2": ""
         },
         {
          "h_rocade": "2019-02-03T15:45:00",
          "tps_parcours2": ""
         },
         {
          "h_rocade": "2019-02-03T16:00:00",
          "tps_parcours2": ""
         },
         {
          "h_rocade": "2019-02-03T16:15:00",
          "tps_parcours2": ""
         },
         {
          "h_rocade": "2019-02-03T16:30:00",
          "tps_parcours2": ""
         },
         {
          "h_rocade": "2019-02-03T16:45:00",
          "tps_parcours2": ""
         },
         {
          "h_rocade": "2019-02-03T17:00:00",
          "tps_parcours2": ""
         },
         {
          "h_rocade": "2019-02-03T17:15:00",
          "tps_parcours2": ""
         },
         {
          "h_rocade": "2019-02-03T17:30:00",
          "tps_parcours2": ""
         },
         {
          "h_rocade": "2019-02-03T17:45:00",
          "tps_parcours2": ""
         },
         {
          "h_rocade": "2019-02-03T18:00:00",
          "tps_parcours2": ""
         },
         {
          "h_rocade": "2019-02-03T18:15:00",
          "tps_parcours2": ""
         },
         {
          "h_rocade": "2019-02-03T18:30:00",
          "tps_parcours2": ""
         },
         {
          "h_rocade": "2019-02-03T18:45:00",
          "tps_parcours2": ""
         },
         {
          "h_rocade": "2019-02-03T19:00:00",
          "tps_parcours2": ""
         },
         {
          "h_rocade": "2019-02-03T19:15:00",
          "tps_parcours2": ""
         },
         {
          "h_rocade": "2019-02-03T19:30:00",
          "tps_parcours2": ""
         },
         {
          "h_rocade": "2019-02-03T19:45:00",
          "tps_parcours2": ""
         },
         {
          "h_rocade": "2019-02-03T20:00:00",
          "tps_parcours2": ""
         },
         {
          "h_rocade": "2019-02-03T20:15:00",
          "tps_parcours2": ""
         },
         {
          "h_rocade": "2019-02-03T20:30:00",
          "tps_parcours2": ""
         },
         {
          "h_rocade": "2019-02-03T20:45:00",
          "tps_parcours2": ""
         },
         {
          "h_rocade": "2019-02-03T21:00:00",
          "tps_parcours2": ""
         },
         {
          "h_rocade": "2019-02-03T21:15:00",
          "tps_parcours2": ""
         },
         {
          "h_rocade": "2019-02-03T21:30:00",
          "tps_parcours2": ""
         },
         {
          "h_rocade": "2019-02-03T21:45:00",
          "tps_parcours2": ""
         },
         {
          "h_rocade": "2019-02-03T22:00:00",
          "tps_parcours2": ""
         },
         {
          "h_rocade": "2019-02-03T22:15:00",
          "tps_parcours2": ""
         },
         {
          "h_rocade": "2019-02-03T22:30:00",
          "tps_parcours2": ""
         },
         {
          "h_rocade": "2019-02-03T22:45:00",
          "tps_parcours2": ""
         },
         {
          "h_rocade": "2019-02-03T23:00:00",
          "tps_parcours2": ""
         },
         {
          "h_rocade": "2019-02-03T23:15:00",
          "tps_parcours2": ""
         },
         {
          "h_rocade": "2019-02-03T23:30:00",
          "tps_parcours2": ""
         },
         {
          "h_rocade": "2019-02-03T23:45:00",
          "tps_parcours2": ""
         },
         {
          "h_rocade": "2019-02-04T00:00:00",
          "tps_parcours2": "2019-01-31T01:55:23"
         },
         {
          "h_rocade": "2019-02-04T00:15:00",
          "tps_parcours2": "2019-01-31T01:31:24.500000"
         }
        ]
       },
       "encoding": {
        "x": {
         "field": "h_rocade",
         "type": "temporal"
        },
        "y": {
         "field": "tps_parcours2",
         "type": "temporal"
        }
       },
       "mark": "line",
       "width": 800
      },
      "image/png": "[encoded data removed]",
      "text/plain": [
       "<VegaLite 2 object>\n",
       "\n",
       "If you see this message, it means the renderer has not been properly enabled\n",
       "for the frontend that you are using. For more information, see\n",
       "https://altair-viz.github.io/user_guide/troubleshooting.html\n"
      ]
     },
     "execution_count": 184,
     "metadata": {},
     "output_type": "execute_result"
    }
   ],
   "source": [
    "alt.Chart(pour_graph).mark_line().encode(\n",
    "    x='h_rocade:T',\n",
    "    y='tps_parcours2').properties(width=800)"
   ]
  },
  {
   "cell_type": "code",
   "execution_count": null,
   "metadata": {},
   "outputs": [],
   "source": [
    "dico_od_final.loc[(dico_od_final['o_d']=='A10-A62') & (dico_od_final['date_cam_1']>pd.to_datetime('2019-01-28 21:00'))].sort_values('date_cam_1')"
   ]
  },
  {
   "cell_type": "code",
   "execution_count": 559,
   "metadata": {},
   "outputs": [],
   "source": [
    "test=t.trajet(df_passages6.loc['2019-01-31 00:00:00':'2019-02-01 23:59:59'], '2019-01-31 08:15:00', 15, [8, 13],typeTrajet='Global',temps_max_autorise=18)"
   ]
  },
  {
   "cell_type": "code",
   "execution_count": 547,
   "metadata": {},
   "outputs": [],
   "source": [
    "param_cluster=pd.read_json(r'Q:\\DAIT\\TI\\DREAL33\\2018\\C17SI0073_LAPI\\Traitements\\python\\param_cluster.json', orient='index')"
   ]
  },
  {
   "cell_type": "code",
   "execution_count": 563,
   "metadata": {},
   "outputs": [],
   "source": [
    "visu=t.jointure_temps_reel_theorique(test.df_transit,dixco_tpsmax_corrige,t.liste_complete_trajet, 15)"
   ]
  },
  {
   "cell_type": "code",
   "execution_count": 564,
   "metadata": {},
   "outputs": [
    {
     "data": {
      "application/vnd.vegalite.v2+json": {
       "$schema": "https://vega.github.io/schema/vega-lite/v2.6.0.json",
       "config": {
        "view": {
         "height": 300,
         "width": 400
        }
       },
       "data": {
        "name": "data-5cf04af0d4e81e7477a719eb80b1c8a1"
       },
       "datasets": {
        "data-5cf04af0d4e81e7477a719eb80b1c8a1": [
         {
          "date_cam_1": "2019-01-31T08:15:36",
          "filtre_tps": 0,
          "tps_parcours": "2018-01-01T01:50:46",
          "type": "85eme_percentile"
         },
         {
          "date_cam_1": "2019-01-31T08:29:35",
          "filtre_tps": 0,
          "tps_parcours": "2018-01-01T01:44:17",
          "type": "85eme_percentile"
         },
         {
          "date_cam_1": "2019-01-31T08:15:52",
          "filtre_tps": 0,
          "tps_parcours": "2018-01-01T02:08:22",
          "type": "85eme_percentile"
         },
         {
          "date_cam_1": "2019-01-31T08:25:17",
          "filtre_tps": 0,
          "tps_parcours": "2018-01-01T02:02:43",
          "type": "85eme_percentile"
         }
        ]
       },
       "encoding": {
        "color": {
         "field": "filtre_tps",
         "legend": {
          "title": "Type de trajet",
          "values": [
           "local",
           "transit"
          ]
         },
         "type": "nominal"
        },
        "shape": {
         "field": "type",
         "legend": {
          "title": "Source temps de référence"
         },
         "type": "nominal"
        },
        "tooltip": {
         "field": "tps_parcours",
         "timeUnit": "hoursminutes",
         "type": "temporal"
        },
        "x": {
         "field": "date_cam_1",
         "type": "temporal"
        },
        "y": {
         "field": "tps_parcours",
         "timeUnit": "hoursminutes",
         "type": "temporal"
        }
       },
       "mark": "point",
       "selection": {
        "selector343": {
         "bind": "scales",
         "encodings": [
          "x",
          "y"
         ],
         "mark": {
          "fill": "#333",
          "fillOpacity": 0.125,
          "stroke": "white"
         },
         "on": "[mousedown, window:mouseup] > window:mousemove!",
         "resolve": "global",
         "translate": "[mousedown, window:mouseup] > window:mousemove!",
         "type": "interval",
         "zoom": "wheel!"
        }
       },
       "title": "Jeudi 2019-01-31 : A89-A63",
       "width": 600
      },
      "image/png": "[encoded data removed]",
      "text/plain": [
       "<VegaLite 2 object>\n",
       "\n",
       "If you see this message, it means the renderer has not been properly enabled\n",
       "for the frontend that you are using. For more information, see\n",
       "https://altair-viz.github.io/user_guide/troubleshooting.html\n"
      ]
     },
     "execution_count": 564,
     "metadata": {},
     "output_type": "execute_result"
    }
   ],
   "source": [
    "g.graph_transit_filtre(visu,'2019-01-31 00:00:00','2019-01-31 23:59:59','A89-A63')"
   ]
  },
  {
   "cell_type": "markdown",
   "metadata": {},
   "source": [
    "# CORRIGER LES TEMPS DE PARCOURS LIMITES"
   ]
  },
  {
   "cell_type": "code",
   "execution_count": 1238,
   "metadata": {},
   "outputs": [],
   "source": [
    "#isoler les données : sur un jour pour une o_d\n",
    "o_d='A10-A63'\n",
    "date='2019-02-06'\n",
    "test_predict=df_transit_avec_filtre.loc[(df_transit_avec_filtre['o_d']==o_d) &\n",
    "             (df_transit_avec_filtre.set_index('date_cam_1').index.dayofyear==pd.to_datetime(date).dayofyear)].copy()"
   ]
  },
  {
   "cell_type": "code",
   "execution_count": 1239,
   "metadata": {},
   "outputs": [],
   "source": [
    "#ajouter des champsde ocnversion des dates en integer, limiter les valeusr sinon pb de mémoire avec sklearn\n",
    "test_predict['date_int']=((test_predict.date_cam_1 - pd.Timestamp(\"1970-01-01\")) // pd.Timedelta('1s'))/1000000\n",
    "test_predict['temps_int']=(((pd.to_datetime('2018-01-01')+test_predict.tps_parcours) - pd.Timestamp(\"1970-01-01\")) // pd.Timedelta('1s'))/1000000"
   ]
  },
  {
   "cell_type": "code",
   "execution_count": 1074,
   "metadata": {},
   "outputs": [],
   "source": [
    "#créer les données d'entrée du modele\n",
    "X=np.array([[a,b] for a,b in zip(test_predict.date_int.tolist(),test_predict.temps_int.tolist())])\n",
    "y=np.array(test_predict.filtre_tps.tolist())"
   ]
  },
  {
   "cell_type": "code",
   "execution_count": 1075,
   "metadata": {},
   "outputs": [],
   "source": [
    "#créer le modele\n",
    "ga=1000\n",
    "C=35\n",
    "clf = svm.SVC(kernel='rbf', gamma=ga, C=C)"
   ]
  },
  {
   "cell_type": "code",
   "execution_count": 1076,
   "metadata": {},
   "outputs": [
    {
     "data": {
      "text/plain": [
       "SVC(C=35, cache_size=200, class_weight=None, coef0=0.0,\n",
       "  decision_function_shape='ovr', degree=3, gamma=1000, kernel='rbf',\n",
       "  max_iter=-1, probability=False, random_state=None, shrinking=True,\n",
       "  tol=0.001, verbose=False)"
      ]
     },
     "execution_count": 1076,
     "metadata": {},
     "output_type": "execute_result"
    }
   ],
   "source": [
    "#alimenter le modele\n",
    "clf.fit(liste_nsample_nfeat, n_sample)"
   ]
  },
  {
   "cell_type": "code",
   "execution_count": 1077,
   "metadata": {},
   "outputs": [],
   "source": [
    "#isoler les donner à tester\n",
    "df_a_tester=test_predict.loc[(test_predict['filtre_tps']==0) & (test_predict['type']=='85eme_percentile')].copy()"
   ]
  },
  {
   "cell_type": "code",
   "execution_count": 1078,
   "metadata": {},
   "outputs": [],
   "source": [
    "#liste à tester\n",
    "liste_a_tester=np.array([[a,b] for a,b in zip(df_a_tester.date_int.tolist(),df_a_tester.temps_int.tolist())])\n",
    "#dfde résultats de prédiction\n",
    "df_type_predit=pd.DataFrame([[i, v] for i,v in zip(df_a_tester.index.tolist(),[clf.predict([x])[0] for x in liste_a_tester])], \n",
    "                            columns=['index_source','type_predit'])\n",
    "#mise à jourde la df source\n",
    "df_transit_avec_filtre.loc[df_transit_avec_filtre.index.isin(df_type_predit.index_source.tolist()),'type']='predit'\n",
    "df_transit_avec_filtre.loc[df_transit_avec_filtre.index.isin(df_type_predit.loc[df_type_predit['type_predit']==1].index_source.tolist()),'filtre_tps']=1"
   ]
  },
  {
   "cell_type": "code",
   "execution_count": 1172,
   "metadata": {},
   "outputs": [
    {
     "data": {
      "text/html": [
       "<div>\n",
       "<style scoped>\n",
       "    .dataframe tbody tr th:only-of-type {\n",
       "        vertical-align: middle;\n",
       "    }\n",
       "\n",
       "    .dataframe tbody tr th {\n",
       "        vertical-align: top;\n",
       "    }\n",
       "\n",
       "    .dataframe thead th {\n",
       "        text-align: right;\n",
       "    }\n",
       "</style>\n",
       "<table border=\"1\" class=\"dataframe\">\n",
       "  <thead>\n",
       "    <tr style=\"text-align: right;\">\n",
       "      <th></th>\n",
       "      <th>date_cam_1</th>\n",
       "      <th>immat</th>\n",
       "      <th>l</th>\n",
       "      <th>state</th>\n",
       "      <th>id</th>\n",
       "      <th>date_cam_2</th>\n",
       "      <th>cameras</th>\n",
       "      <th>origine</th>\n",
       "      <th>destination</th>\n",
       "      <th>o_d</th>\n",
       "      <th>tps_parcours</th>\n",
       "      <th>period</th>\n",
       "      <th>date</th>\n",
       "      <th>temps</th>\n",
       "      <th>type</th>\n",
       "      <th>tps_parcours_theoriq</th>\n",
       "      <th>filtre_tps</th>\n",
       "    </tr>\n",
       "  </thead>\n",
       "  <tbody>\n",
       "  </tbody>\n",
       "</table>\n",
       "</div>"
      ],
      "text/plain": [
       "Empty DataFrame\n",
       "Columns: [date_cam_1, immat, l, state, id, date_cam_2, cameras, origine, destination, o_d, tps_parcours, period, date, temps, type, tps_parcours_theoriq, filtre_tps]\n",
       "Index: []"
      ]
     },
     "execution_count": 1172,
     "metadata": {},
     "output_type": "execute_result"
    }
   ],
   "source": [
    "df_transit_avec_filtre.loc[df_transit_avec_filtre['type']=='predit']"
   ]
  },
  {
   "cell_type": "code",
   "execution_count": 1240,
   "metadata": {},
   "outputs": [
    {
     "data": {
      "image/png": "[encoded data removed]",
      "text/plain": [
       "<Figure size 1440x1440 with 4 Axes>"
      ]
     },
     "metadata": {
      "needs_background": "light"
     },
     "output_type": "display_data"
    },
    {
     "name": "stdout",
     "output_type": "stream",
     "text": [
      "Wall time: 1.86 s\n"
     ]
    }
   ],
   "source": [
    "%%time\n",
    "def make_meshgrid(x, y, h=.0002):\n",
    "    \"\"\"Create a mesh of points to plot in\n",
    "\n",
    "    Parameters\n",
    "    ----------\n",
    "    x: data to base x-axis meshgrid on\n",
    "    y: data to base y-axis meshgrid on\n",
    "    h: stepsize for meshgrid, optional\n",
    "\n",
    "    Returns\n",
    "    -------\n",
    "    xx, yy : ndarray\n",
    "    \"\"\"\n",
    "    x_min, x_max = x.min() - 0.000000001, x.max() + 0.000000001\n",
    "    y_min, y_max = y.min() - 0.000000001, y.max() + 0.000000001\n",
    "    xx, yy = np.meshgrid(np.arange(x_min, x_max, h),\n",
    "                         np.arange(y_min, y_max, h))\n",
    "    return xx, yy\n",
    "\n",
    "\n",
    "def plot_contours(ax, clf, xx, yy, **params):\n",
    "    \"\"\"Plot the decision boundaries for a classifier.\n",
    "\n",
    "    Parameters\n",
    "    ----------\n",
    "    ax: matplotlib axes object\n",
    "    clf: a classifier\n",
    "    xx: meshgrid ndarray\n",
    "    yy: meshgrid ndarray\n",
    "    params: dictionary of params to pass to contourf, optional\n",
    "    \"\"\"\n",
    "    Z = clf.predict(np.c_[xx.ravel(), yy.ravel()])\n",
    "    Z = Z.reshape(xx.shape)\n",
    "    out = ax.contourf(xx, yy, Z, **params)\n",
    "    return out\n",
    "\n",
    "X=np.array([[a,b] for a,b in zip(test_predict.date_int.tolist(),test_predict.temps_int.tolist())])\n",
    "y=np.array(test_predict.filtre_tps.tolist())\n",
    "#C = 25# SVM regularization parameter\n",
    "models = (svm.SVC(kernel='rbf', gamma=600, C=70),\n",
    "         svm.SVC(kernel='rbf', gamma=600, C=35),\n",
    "         svm.SVC(kernel='rbf', gamma=500, C=100),\n",
    "         svm.SVC(kernel='rbf', gamma=500, C=200))\n",
    "models = (clf.fit(X, y) for clf in models)\n",
    "\n",
    "\n",
    "# Set-up 2x2 grid for plotting.\n",
    "fig, sub = plt.figure(figsize=(20,20)).subplots(2,2)\n",
    "plt.subplots_adjust(wspace=0.8, hspace=0.8)\n",
    "\n",
    "# title for the plots\n",
    "titles = ('C=60, gamma=1200',\n",
    "          'C=35, gamma=1200',\n",
    "          'C=100, gamma=500',\n",
    "          'C=200, gamma=500')\n",
    "\n",
    "X0, X1 = X[:, 0], X[:, 1]\n",
    "xx, yy = make_meshgrid(X0, X1)\n",
    "\n",
    "for clf, title, ax in zip(models, titles, sub.flatten()):\n",
    "    plot_contours(ax, clf, xx, yy,\n",
    "                  cmap=plt.cm.coolwarm, alpha=0.8)\n",
    "    ax.scatter(X0, X1, c=y, cmap=plt.cm.coolwarm, s=20, edgecolors='k')\n",
    "    ax.set_xlim(xx.min(), xx.max())\n",
    "    ax.set_ylim(yy.min(), yy.max())\n",
    "    ax.set_title(title)\n",
    "\n",
    "plt.show()"
   ]
  },
  {
   "cell_type": "code",
   "execution_count": null,
   "metadata": {},
   "outputs": [],
   "source": [
    "liste_od_ok=['A660-A62','A62-A63','A63-A62','A62-A10','A660-N10', 'A660-A10','N10-A63','A62-N10']\n",
    "for od in [x for x in df_transit_avec_filtre.o_d.unique().tolist() if x not in liste_od_ok ] : \n",
    "    for date in set([a[0].strftime('%Y-%m-%d') for a in t.creer_liste_date('2019-01-31',11)]):\n",
    "        try : \n",
    "            df_transit_avec_filtre=t.predire_type_trajet(df_transit_avec_filtre,od, date,600,35)\n",
    "        except ValueError : \n",
    "            continue"
   ]
  },
  {
   "cell_type": "markdown",
   "metadata": {},
   "source": [
    "# VERIF AFFECTATION CLUSTER"
   ]
  },
  {
   "cell_type": "code",
   "execution_count": 1237,
   "metadata": {},
   "outputs": [
    {
     "name": "stdout",
     "output_type": "stream",
     "text": [
      "vlaueError\n"
     ]
    },
    {
     "data": {
      "application/vnd.vegalite.v2+json": {
       "$schema": "https://vega.github.io/schema/vega-lite/v2.6.0.json",
       "config": {
        "view": {
         "height": 300,
         "width": 400
        }
       },
       "data": {
        "name": "data-7bf473cd789e39a903521a7d44371b26"
       },
       "datasets": {
        "data-7bf473cd789e39a903521a7d44371b26": [
         {
          "cluster_num": -1,
          "date_cam_1": "2019-02-06T16:03:58",
          "filtre_tps": 0,
          "tps_parcours": "2018-01-01T12:50:57"
         },
         {
          "cluster_num": -1,
          "date_cam_1": "2019-02-06T16:04:28",
          "filtre_tps": 0,
          "tps_parcours": "2018-01-01T13:12:33"
         },
         {
          "cluster_num": -1,
          "date_cam_1": "2019-02-06T16:04:34",
          "filtre_tps": 0,
          "tps_parcours": "2018-01-01T12:29:43"
         },
         {
          "cluster_num": -1,
          "date_cam_1": "2019-02-06T16:07:14",
          "filtre_tps": 0,
          "tps_parcours": "2018-01-01T03:59:02"
         },
         {
          "cluster_num": -1,
          "date_cam_1": "2019-02-06T16:07:35",
          "filtre_tps": 0,
          "tps_parcours": "2018-01-01T12:22:37"
         },
         {
          "cluster_num": -1,
          "date_cam_1": "2019-02-06T16:07:40",
          "filtre_tps": 0,
          "tps_parcours": "2018-01-01T03:33:30"
         },
         {
          "cluster_num": -1,
          "date_cam_1": "2019-02-06T16:08:17",
          "filtre_tps": 0,
          "tps_parcours": "2018-01-01T03:20:27"
         },
         {
          "cluster_num": -1,
          "date_cam_1": "2019-02-06T16:12:12",
          "filtre_tps": 0,
          "tps_parcours": "2018-01-01T03:56:03"
         },
         {
          "cluster_num": -1,
          "date_cam_1": "2019-02-06T16:12:21",
          "filtre_tps": 0,
          "tps_parcours": "2018-01-01T13:11:31"
         },
         {
          "cluster_num": -1,
          "date_cam_1": "2019-02-06T16:12:57",
          "filtre_tps": 0,
          "tps_parcours": "2018-01-01T03:41:43"
         },
         {
          "cluster_num": -1,
          "date_cam_1": "2019-02-06T16:17:30",
          "filtre_tps": 0,
          "tps_parcours": "2018-01-01T03:26:43"
         },
         {
          "cluster_num": -1,
          "date_cam_1": "2019-02-06T16:18:53",
          "filtre_tps": 0,
          "tps_parcours": "2018-01-01T12:26:08"
         },
         {
          "cluster_num": -1,
          "date_cam_1": "2019-02-06T16:20:31",
          "filtre_tps": 0,
          "tps_parcours": "2018-01-01T03:30:28"
         },
         {
          "cluster_num": -1,
          "date_cam_1": "2019-02-06T16:21:45",
          "filtre_tps": 0,
          "tps_parcours": "2018-01-01T03:07:33"
         },
         {
          "cluster_num": -1,
          "date_cam_1": "2019-02-06T16:33:10",
          "filtre_tps": 0,
          "tps_parcours": "2018-01-01T12:48:13"
         },
         {
          "cluster_num": -1,
          "date_cam_1": "2019-02-06T16:33:23",
          "filtre_tps": 0,
          "tps_parcours": "2018-01-01T13:06:29"
         },
         {
          "cluster_num": -1,
          "date_cam_1": "2019-02-06T16:38:20",
          "filtre_tps": 0,
          "tps_parcours": "2018-01-01T14:37:35"
         },
         {
          "cluster_num": -1,
          "date_cam_1": "2019-02-06T16:38:44",
          "filtre_tps": 0,
          "tps_parcours": "2018-01-01T02:45:52"
         },
         {
          "cluster_num": -1,
          "date_cam_1": "2019-02-06T16:42:40",
          "filtre_tps": 0,
          "tps_parcours": "2018-01-01T12:39:23"
         },
         {
          "cluster_num": -1,
          "date_cam_1": "2019-02-06T16:42:56",
          "filtre_tps": 0,
          "tps_parcours": "2018-01-01T04:02:41"
         },
         {
          "cluster_num": -1,
          "date_cam_1": "2019-02-06T16:43:41",
          "filtre_tps": 0,
          "tps_parcours": "2018-01-01T12:59:33"
         },
         {
          "cluster_num": -1,
          "date_cam_1": "2019-02-06T16:43:58",
          "filtre_tps": 0,
          "tps_parcours": "2018-01-01T03:51:12"
         },
         {
          "cluster_num": -1,
          "date_cam_1": "2019-02-06T16:44:37",
          "filtre_tps": 0,
          "tps_parcours": "2018-01-01T04:01:21"
         },
         {
          "cluster_num": -1,
          "date_cam_1": "2019-02-06T16:49:00",
          "filtre_tps": 0,
          "tps_parcours": "2018-01-01T03:46:15"
         },
         {
          "cluster_num": -1,
          "date_cam_1": "2019-02-06T16:51:55",
          "filtre_tps": 0,
          "tps_parcours": "2018-01-01T10:36:00"
         },
         {
          "cluster_num": -1,
          "date_cam_1": "2019-02-06T16:54:29",
          "filtre_tps": 0,
          "tps_parcours": "2018-01-01T11:48:15"
         },
         {
          "cluster_num": -1,
          "date_cam_1": "2019-02-06T16:56:32",
          "filtre_tps": 0,
          "tps_parcours": "2018-01-01T11:33:13"
         },
         {
          "cluster_num": -1,
          "date_cam_1": "2019-02-06T16:56:44",
          "filtre_tps": 0,
          "tps_parcours": "2018-01-01T13:40:36"
         },
         {
          "cluster_num": -1,
          "date_cam_1": "2019-02-06T16:58:16",
          "filtre_tps": 0,
          "tps_parcours": "2018-01-01T13:16:50"
         },
         {
          "cluster_num": -1,
          "date_cam_1": "2019-02-06T17:00:00",
          "filtre_tps": 0,
          "tps_parcours": "2018-01-01T03:21:16"
         },
         {
          "cluster_num": -1,
          "date_cam_1": "2019-02-06T17:04:55",
          "filtre_tps": 0,
          "tps_parcours": "2018-01-01T12:18:43"
         },
         {
          "cluster_num": -1,
          "date_cam_1": "2019-02-06T17:05:03",
          "filtre_tps": 0,
          "tps_parcours": "2018-01-01T03:15:34"
         },
         {
          "cluster_num": -1,
          "date_cam_1": "2019-02-06T17:06:52",
          "filtre_tps": 0,
          "tps_parcours": "2018-01-01T10:27:24"
         },
         {
          "cluster_num": -1,
          "date_cam_1": "2019-02-06T17:07:59",
          "filtre_tps": 0,
          "tps_parcours": "2018-01-01T12:41:58"
         },
         {
          "cluster_num": -1,
          "date_cam_1": "2019-02-06T17:08:29",
          "filtre_tps": 0,
          "tps_parcours": "2018-01-01T12:44:28"
         },
         {
          "cluster_num": -1,
          "date_cam_1": "2019-02-06T17:12:49",
          "filtre_tps": 0,
          "tps_parcours": "2018-01-01T12:17:33"
         },
         {
          "cluster_num": -1,
          "date_cam_1": "2019-02-06T17:15:56",
          "filtre_tps": 0,
          "tps_parcours": "2018-01-01T12:33:20"
         },
         {
          "cluster_num": -1,
          "date_cam_1": "2019-02-06T17:19:32",
          "filtre_tps": 0,
          "tps_parcours": "2018-01-01T02:55:22"
         },
         {
          "cluster_num": -1,
          "date_cam_1": "2019-02-06T17:23:50",
          "filtre_tps": 0,
          "tps_parcours": "2018-01-01T03:12:07"
         },
         {
          "cluster_num": -1,
          "date_cam_1": "2019-02-06T16:00:54",
          "filtre_tps": 0,
          "tps_parcours": "2018-01-01T03:52:01"
         },
         {
          "cluster_num": -1,
          "date_cam_1": "2019-02-06T16:07:37",
          "filtre_tps": 0,
          "tps_parcours": "2018-01-01T03:53:03"
         },
         {
          "cluster_num": -1,
          "date_cam_1": "2019-02-06T16:08:38",
          "filtre_tps": 0,
          "tps_parcours": "2018-01-01T02:47:16"
         },
         {
          "cluster_num": -1,
          "date_cam_1": "2019-02-06T16:21:24",
          "filtre_tps": 0,
          "tps_parcours": "2018-01-01T15:34:10"
         },
         {
          "cluster_num": -1,
          "date_cam_1": "2019-02-06T16:34:57",
          "filtre_tps": 0,
          "tps_parcours": "2018-01-01T02:48:25"
         },
         {
          "cluster_num": -1,
          "date_cam_1": "2019-02-06T16:45:56",
          "filtre_tps": 0,
          "tps_parcours": "2018-01-01T13:02:33"
         },
         {
          "cluster_num": -1,
          "date_cam_1": "2019-02-06T16:47:10",
          "filtre_tps": 0,
          "tps_parcours": "2018-01-01T03:25:43"
         },
         {
          "cluster_num": -1,
          "date_cam_1": "2019-02-06T17:10:47",
          "filtre_tps": 0,
          "tps_parcours": "2018-01-01T02:50:14"
         },
         {
          "cluster_num": -1,
          "date_cam_1": "2019-02-06T16:12:00",
          "filtre_tps": 0,
          "tps_parcours": "2018-01-01T12:49:07"
         },
         {
          "cluster_num": -1,
          "date_cam_1": "2019-02-06T16:19:25",
          "filtre_tps": 0,
          "tps_parcours": "2018-01-01T03:19:59"
         },
         {
          "cluster_num": -1,
          "date_cam_1": "2019-02-06T16:33:23",
          "filtre_tps": 0,
          "tps_parcours": "2018-01-01T13:06:29"
         },
         {
          "cluster_num": -1,
          "date_cam_1": "2019-02-06T16:46:45",
          "filtre_tps": 0,
          "tps_parcours": "2018-01-01T03:41:09"
         },
         {
          "cluster_num": -1,
          "date_cam_1": "2019-02-06T16:50:46",
          "filtre_tps": 0,
          "tps_parcours": "2018-01-01T11:28:25"
         },
         {
          "cluster_num": -1,
          "date_cam_1": "2019-02-06T16:55:13",
          "filtre_tps": 0,
          "tps_parcours": "2018-01-01T12:25:15"
         },
         {
          "cluster_num": -1,
          "date_cam_1": "2019-02-06T16:02:15",
          "filtre_tps": 0,
          "tps_parcours": "2018-01-01T12:48:16"
         },
         {
          "cluster_num": -1,
          "date_cam_1": "2019-02-06T16:04:48",
          "filtre_tps": 0,
          "tps_parcours": "2018-01-01T14:01:05"
         },
         {
          "cluster_num": -1,
          "date_cam_1": "2019-02-06T16:07:25",
          "filtre_tps": 0,
          "tps_parcours": "2018-01-01T13:19:59"
         },
         {
          "cluster_num": -1,
          "date_cam_1": "2019-02-06T16:10:03",
          "filtre_tps": 0,
          "tps_parcours": "2018-01-01T13:54:53"
         },
         {
          "cluster_num": -1,
          "date_cam_1": "2019-02-06T16:22:23",
          "filtre_tps": 1,
          "tps_parcours": "2018-01-01T01:42:10"
         },
         {
          "cluster_num": -1,
          "date_cam_1": "2019-02-06T16:23:44",
          "filtre_tps": 0,
          "tps_parcours": "2018-01-01T02:51:19"
         },
         {
          "cluster_num": -1,
          "date_cam_1": "2019-02-06T16:26:32",
          "filtre_tps": 1,
          "tps_parcours": "2018-01-01T01:51:34"
         },
         {
          "cluster_num": -1,
          "date_cam_1": "2019-02-06T16:26:37",
          "filtre_tps": 1,
          "tps_parcours": "2018-01-01T01:51:35"
         },
         {
          "cluster_num": -1,
          "date_cam_1": "2019-02-06T16:28:13",
          "filtre_tps": 0,
          "tps_parcours": "2018-01-01T02:22:06"
         },
         {
          "cluster_num": -1,
          "date_cam_1": "2019-02-06T16:33:15",
          "filtre_tps": 1,
          "tps_parcours": "2018-01-01T02:02:27"
         },
         {
          "cluster_num": -1,
          "date_cam_1": "2019-02-06T16:38:57",
          "filtre_tps": 0,
          "tps_parcours": "2018-01-01T11:15:52"
         },
         {
          "cluster_num": -1,
          "date_cam_1": "2019-02-06T16:40:44",
          "filtre_tps": 0,
          "tps_parcours": "2018-01-01T02:52:51"
         },
         {
          "cluster_num": -1,
          "date_cam_1": "2019-02-06T16:41:51",
          "filtre_tps": 1,
          "tps_parcours": "2018-01-01T02:06:51"
         },
         {
          "cluster_num": -1,
          "date_cam_1": "2019-02-06T16:45:24",
          "filtre_tps": 0,
          "tps_parcours": "2018-01-01T17:33:09"
         },
         {
          "cluster_num": -1,
          "date_cam_1": "2019-02-06T16:50:14",
          "filtre_tps": 0,
          "tps_parcours": "2018-01-01T02:13:01"
         },
         {
          "cluster_num": -1,
          "date_cam_1": "2019-02-06T16:50:33",
          "filtre_tps": 0,
          "tps_parcours": "2018-01-01T02:18:20"
         },
         {
          "cluster_num": -1,
          "date_cam_1": "2019-02-06T16:57:59",
          "filtre_tps": 0,
          "tps_parcours": "2018-01-01T03:44:52"
         },
         {
          "cluster_num": -1,
          "date_cam_1": "2019-02-06T17:00:43",
          "filtre_tps": 0,
          "tps_parcours": "2018-01-01T03:45:11"
         },
         {
          "cluster_num": -1,
          "date_cam_1": "2019-02-06T17:04:49",
          "filtre_tps": 0,
          "tps_parcours": "2018-01-01T15:24:32"
         },
         {
          "cluster_num": -1,
          "date_cam_1": "2019-02-06T17:10:09",
          "filtre_tps": 1,
          "tps_parcours": "2018-01-01T02:13:24"
         },
         {
          "cluster_num": -1,
          "date_cam_1": "2019-02-06T17:14:31",
          "filtre_tps": 0,
          "tps_parcours": "2018-01-01T02:16:27"
         },
         {
          "cluster_num": -1,
          "date_cam_1": "2019-02-06T17:23:43",
          "filtre_tps": 1,
          "tps_parcours": "2018-01-01T02:17:48"
         },
         {
          "cluster_num": -1,
          "date_cam_1": "2019-02-06T17:26:37",
          "filtre_tps": 0,
          "tps_parcours": "2018-01-01T13:44:58"
         },
         {
          "cluster_num": -1,
          "date_cam_1": "2019-02-06T17:27:04",
          "filtre_tps": 1,
          "tps_parcours": "2018-01-01T02:06:50"
         },
         {
          "cluster_num": -1,
          "date_cam_1": "2019-02-06T16:04:23",
          "filtre_tps": 1,
          "tps_parcours": "2018-01-01T00:13:27"
         },
         {
          "cluster_num": -1,
          "date_cam_1": "2019-02-06T16:20:09",
          "filtre_tps": 0,
          "tps_parcours": "2018-01-01T17:12:03"
         },
         {
          "cluster_num": -1,
          "date_cam_1": "2019-02-06T16:54:48",
          "filtre_tps": 0,
          "tps_parcours": "2018-01-01T13:25:37"
         },
         {
          "cluster_num": -1,
          "date_cam_1": "2019-02-06T16:58:06",
          "filtre_tps": 0,
          "tps_parcours": "2018-01-01T15:51:19"
         },
         {
          "cluster_num": -1,
          "date_cam_1": "2019-02-06T16:32:43",
          "filtre_tps": 0,
          "tps_parcours": "2018-01-01T11:34:20"
         },
         {
          "cluster_num": -1,
          "date_cam_1": "2019-02-06T16:26:25",
          "filtre_tps": 0,
          "tps_parcours": "2018-01-01T12:38:40"
         },
         {
          "cluster_num": -1,
          "date_cam_1": "2019-02-06T16:35:53",
          "filtre_tps": 1,
          "tps_parcours": "2018-01-01T02:05:42"
         }
        ]
       },
       "encoding": {
        "color": {
         "field": "cluster_num",
         "type": "nominal"
        },
        "shape": {
         "field": "filtre_tps",
         "type": "nominal"
        },
        "tooltip": {
         "field": "tps_parcours",
         "timeUnit": "hoursminutes",
         "type": "temporal"
        },
        "x": {
         "field": "date_cam_1",
         "type": "temporal"
        },
        "y": {
         "field": "tps_parcours",
         "timeUnit": "hoursminutes",
         "type": "temporal"
        }
       },
       "mark": "point",
       "selection": {
        "selector442": {
         "bind": "scales",
         "encodings": [
          "x",
          "y"
         ],
         "mark": {
          "fill": "#333",
          "fillOpacity": 0.125,
          "stroke": "white"
         },
         "on": "[mousedown, window:mouseup] > window:mousemove!",
         "resolve": "global",
         "translate": "[mousedown, window:mouseup] > window:mousemove!",
         "type": "interval",
         "zoom": "wheel!"
        }
       },
       "width": 600
      },
      "image/png": "[encoded data removed]",
      "text/plain": [
       "<VegaLite 2 object>\n",
       "\n",
       "If you see this message, it means the renderer has not been properly enabled\n",
       "for the frontend that you are using. For more information, see\n",
       "https://altair-viz.github.io/user_guide/troubleshooting.html\n"
      ]
     },
     "execution_count": 1237,
     "metadata": {},
     "output_type": "execute_result"
    }
   ],
   "source": [
    "#test cluster\n",
    "od='A63-A10'\n",
    "date_debut='2019-02-06 16:00:00'\n",
    "datefin='2019-02-06 17:30:00'\n",
    "delai=700\n",
    "coeff=15\n",
    "df_pl_ok=df_transit_avec_filtre.loc[(df_transit_avec_filtre['o_d']==od) &\n",
    "                                   (df_transit_avec_filtre['date_cam_1'].between(pd.to_datetime(date_debut),pd.to_datetime(datefin)))]\n",
    "donnees_src=df_pl_ok.loc[:,['date_cam_1','tps_parcours']].copy() #isoler les données necessaires\n",
    "liste_valeur=donnees_src.tps_parcours.apply(lambda x : ((pd.to_datetime('2018-01-01')+x)-pd.Timestamp(\"1970-01-01\")) // pd.Timedelta('1s')).tolist()#convertir les temps en integer\n",
    "liste_date=donnees_src.date_cam_1.apply(lambda x :(x - pd.Timestamp(\"1970-01-01\")) // pd.Timedelta('1s')).tolist()\n",
    "liste=[[liste_date[i],liste_valeur[i]] for i in range(len(liste_valeur))]\n",
    "if len(liste_valeur)<5 : #si il n'y a pas bcp de pl on arrete ; pourraitfair l'objet d'un parametre\n",
    "    raise ClusterError()\n",
    "#faire tourner la clusterisation et recupérer le label (i.e l'identifiant cluster) et le nombre de cluster\n",
    "clustering=DBSCAN(eps=delai, min_samples=len(liste_valeur)/coeff).fit(liste)\n",
    "\n",
    "labels = clustering.labels_\n",
    "n_clusters_ = len(set(labels)) - (1 if -1 in labels else 0)\n",
    "# A AMELIORER EN CREANT UNE ERREUR PERSONALISEE SI ON OBTIENT  CLUSTER\n",
    "if n_clusters_== 0 :\n",
    "    print('vlaueError')\n",
    "#mettre en forme au format pandas\n",
    "results = pd.DataFrame(pd.DataFrame([donnees_src.index,labels]).T)\n",
    "results.columns = ['index_base', 'cluster_num']\n",
    "results = pd.merge(results,df_pl_ok, left_on='index_base', right_index=True )\n",
    "graph_results=results[['date_cam_1','tps_parcours','filtre_tps','cluster_num']].copy()\n",
    "graph_results.tps_parcours=pd.to_datetime('2018-01-01')+graph_results.tps_parcours\n",
    "alt.Chart(graph_results).mark_point().encode(\n",
    "                                x='date_cam_1',\n",
    "                                y='hoursminutes(tps_parcours)',\n",
    "                                tooltip='hoursminutes(tps_parcours)',\n",
    "                                color='cluster_num:N',\n",
    "                                shape='filtre_tps:N').interactive().properties(width=600)"
   ]
  },
  {
   "cell_type": "code",
   "execution_count": 1206,
   "metadata": {},
   "outputs": [
    {
     "data": {
      "text/html": [
       "<div>\n",
       "<style scoped>\n",
       "    .dataframe tbody tr th:only-of-type {\n",
       "        vertical-align: middle;\n",
       "    }\n",
       "\n",
       "    .dataframe tbody tr th {\n",
       "        vertical-align: top;\n",
       "    }\n",
       "\n",
       "    .dataframe thead th {\n",
       "        text-align: right;\n",
       "    }\n",
       "</style>\n",
       "<table border=\"1\" class=\"dataframe\">\n",
       "  <thead>\n",
       "    <tr style=\"text-align: right;\">\n",
       "      <th></th>\n",
       "      <th>delai</th>\n",
       "      <th>nb_pt_min</th>\n",
       "      <th>temps_etudie</th>\n",
       "      <th>trajet</th>\n",
       "    </tr>\n",
       "  </thead>\n",
       "  <tbody>\n",
       "    <tr>\n",
       "      <th>0</th>\n",
       "      <td>600</td>\n",
       "      <td>4</td>\n",
       "      <td>15</td>\n",
       "      <td>[A10-A63, A89-A63, A62-A63, A10-A62, N10-A62, A89-A62, A10-A89, N10-A89, A10-A660, N10-A660, A89-A660, A62-A660]</td>\n",
       "    </tr>\n",
       "    <tr>\n",
       "      <th>1</th>\n",
       "      <td>1200</td>\n",
       "      <td>4</td>\n",
       "      <td>60</td>\n",
       "      <td>[A10-A63, N10-A63, A89-A63, A62-A63, A10-A62, N10-A62, A89-A62, A10-A89, N10-A89, A10-A660, N10-A660, A89-A660, A62-A660]</td>\n",
       "    </tr>\n",
       "    <tr>\n",
       "      <th>2</th>\n",
       "      <td>800</td>\n",
       "      <td>3</td>\n",
       "      <td>15</td>\n",
       "      <td>[A63-A10, A63-N10, A63-A89, A63-A62, A62-A10, A62-N10, A62-A89, A89-A10, A89-N10, A660-A10, A660-N10, A660-A89, A660-A62]</td>\n",
       "    </tr>\n",
       "    <tr>\n",
       "      <th>3</th>\n",
       "      <td>1000</td>\n",
       "      <td>4</td>\n",
       "      <td>60</td>\n",
       "      <td>[A63-A10, A63-N10, A63-A89, A63-A62, A62-A10, A62-N10, A62-A89, A89-A10, A89-N10, A660-A10, A660-N10, A660-A89, A660-A62]</td>\n",
       "    </tr>\n",
       "    <tr>\n",
       "      <th>4</th>\n",
       "      <td>1000</td>\n",
       "      <td>4</td>\n",
       "      <td>15</td>\n",
       "      <td>N10-A63</td>\n",
       "    </tr>\n",
       "  </tbody>\n",
       "</table>\n",
       "</div>"
      ],
      "text/plain": [
       "   delai  nb_pt_min  temps_etudie  \\\n",
       "0    600          4            15   \n",
       "1   1200          4            60   \n",
       "2    800          3            15   \n",
       "3   1000          4            60   \n",
       "4   1000          4            15   \n",
       "\n",
       "                                                                                                                      trajet  \n",
       "0           [A10-A63, A89-A63, A62-A63, A10-A62, N10-A62, A89-A62, A10-A89, N10-A89, A10-A660, N10-A660, A89-A660, A62-A660]  \n",
       "1  [A10-A63, N10-A63, A89-A63, A62-A63, A10-A62, N10-A62, A89-A62, A10-A89, N10-A89, A10-A660, N10-A660, A89-A660, A62-A660]  \n",
       "2  [A63-A10, A63-N10, A63-A89, A63-A62, A62-A10, A62-N10, A62-A89, A89-A10, A89-N10, A660-A10, A660-N10, A660-A89, A660-A62]  \n",
       "3  [A63-A10, A63-N10, A63-A89, A63-A62, A62-A10, A62-N10, A62-A89, A89-A10, A89-N10, A660-A10, A660-N10, A660-A89, A660-A62]  \n",
       "4                                                                                                                    N10-A63  "
      ]
     },
     "execution_count": 1206,
     "metadata": {},
     "output_type": "execute_result"
    }
   ],
   "source": [
    "t.param_cluster"
   ]
  },
  {
   "cell_type": "code",
   "execution_count": null,
   "metadata": {},
   "outputs": [],
   "source": []
  }
 ],
 "metadata": {
  "kernelspec": {
   "display_name": "Python 3",
   "language": "python",
   "name": "python3"
  },
  "language_info": {
   "codemirror_mode": {
    "name": "ipython",
    "version": 3
   },
   "file_extension": ".py",
   "mimetype": "text/x-python",
   "name": "python",
   "nbconvert_exporter": "python",
   "pygments_lexer": "ipython3",
   "version": "3.7.0"
  }
 },
 "nbformat": 4,
 "nbformat_minor": 2
}
