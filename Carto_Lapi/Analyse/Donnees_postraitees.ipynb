{
 "cells": [
  {
   "cell_type": "markdown",
   "metadata": {},
   "source": [
    "# Notebook de test des données lapi post-traitees"
   ]
  },
  {
   "cell_type": "code",
   "execution_count": 26,
   "metadata": {},
   "outputs": [
    {
     "name": "stdout",
     "output_type": "stream",
     "text": [
      "The autoreload extension is already loaded. To reload it, use:\n",
      "  %reload_ext autoreload\n"
     ]
    }
   ],
   "source": [
    "%load_ext autoreload\n",
    "%autoreload \n",
    "import sys #c'est pas propre mais pour le moment pour importer mes modules perso dans le notebook je ne sais pas faire\n",
    "sys.path.append(r'C:\\Users\\martin.schoreisz\\git\\Outils\\Outils\\Martin_Perso')\n",
    "import Connexion_Transfert as ct\n",
    "import donnees_posttraitees as t\n",
    "import graphs as g\n",
    "import pandas as pd\n",
    "import geopandas as gpd\n",
    "import numpy as np\n",
    "import altair as alt\n",
    "import datetime as dt\n",
    "pd.set_option('display.max_colwidth', 1000)\n",
    "import os, math\n",
    "from sklearn.cluster import DBSCAN"
   ]
  },
  {
   "cell_type": "markdown",
   "metadata": {},
   "source": [
    "# 1. import des données, traitement de mise en forme\n",
    "## 1.1 Import\n",
    "Les données sont importées sur la période du 24/01/19 au 23/02/19, sur laquelle il n'y a pas de manque de données à priori"
   ]
  },
  {
   "cell_type": "code",
   "execution_count": 29,
   "metadata": {},
   "outputs": [],
   "source": [
    "%time df_passages, df_plaques, df_immat=t.ouvrir_fichier_lapi_final('2019-01-28 00:00:00','2019-02-01 23:59:59')"
   ]
  },
  {
   "cell_type": "markdown",
   "metadata": {},
   "source": [
    "## 1.2. Suppression des doublons"
   ]
  },
  {
   "cell_type": "code",
   "execution_count": 30,
   "metadata": {},
   "outputs": [
    {
     "name": "stdout",
     "output_type": "stream",
     "text": [
      "Wall time: 15.4 s\n"
     ]
    }
   ],
   "source": [
    "%time df_passages=t.supprimer_doublons(df_passages)"
   ]
  },
  {
   "cell_type": "markdown",
   "metadata": {},
   "source": [
    "## 1.3 Ajout de l'attribut de différenciation VL / PL"
   ]
  },
  {
   "cell_type": "code",
   "execution_count": 31,
   "metadata": {},
   "outputs": [
    {
     "name": "stdout",
     "output_type": "stream",
     "text": [
      "Wall time: 1min 50s\n"
     ]
    }
   ],
   "source": [
    "%time df_passages2=t.affecter_type(df_passages,df_immat)"
   ]
  },
  {
   "cell_type": "markdown",
   "metadata": {},
   "source": [
    "***ATTENTION : ENCORE 18764 IMMATRCULATION COURTE PRESENTES DANS TE_PASSAGES ET NON PRENSENTES DANS TE_PLAQUES_COURTE :***"
   ]
  },
  {
   "cell_type": "code",
   "execution_count": 69,
   "metadata": {},
   "outputs": [],
   "source": [
    "df_passages2.loc[df_passages2.immatriculation.isna()].merge(df_plaques, left_on='immat', right_on='chiffree').to_csv(\n",
    "    r'Q:\\DAIT\\TI\\DREAL33\\2018\\C17SI0073_LAPI\\donnees_verif_fiabilite\\immatriculation_manquante.csv')"
   ]
  },
  {
   "cell_type": "markdown",
   "metadata": {},
   "source": [
    "***ATTENTION : PLUS DE 1M D'IMMATRCULATION SANS VALEUR DE VL_TOT ou PL_TOT ou VUL_TOT :***"
   ]
  },
  {
   "cell_type": "code",
   "execution_count": 83,
   "metadata": {},
   "outputs": [],
   "source": [
    "df_passages2.loc[df_passages2['l']==-1].head(50000).to_csv(\n",
    "    r'Q:\\DAIT\\TI\\DREAL33\\2018\\C17SI0073_LAPI\\donnees_verif_fiabilite\\pas_de_type_vehicule.csv')"
   ]
  },
  {
   "cell_type": "markdown",
   "metadata": {},
   "source": [
    "# 2. Identifier les trajets de transit"
   ]
  },
  {
   "cell_type": "code",
   "execution_count": 33,
   "metadata": {},
   "outputs": [
    {
     "name": "stdout",
     "output_type": "stream",
     "text": [
      "date : 2019-01-28 00:00:00 debut_traitement : 2019-05-15 10:22:02.307205\n",
      "date : 2019-01-29 00:00:00 debut_traitement : 2019-05-15 10:22:52.407791\n",
      "date : 2019-01-30 00:00:00 debut_traitement : 2019-05-15 10:23:47.879034\n"
     ]
    }
   ],
   "source": [
    "dico_od,  dico_passag, dico_tps_max=t.transit_temps_complet('2019-01-28 00:00:00',3,df_passages2)"
   ]
  },
  {
   "cell_type": "markdown",
   "metadata": {},
   "source": [
    "# 3. Filtrer les trajets selon un temps de parcours"
   ]
  },
  {
   "cell_type": "code",
   "execution_count": 34,
   "metadata": {},
   "outputs": [],
   "source": [
    "#df des temsp de parcours\n",
    "dixco_tpsmax_corrige=t.corriger_df_tps_parcours(dico_tps_max)"
   ]
  },
  {
   "cell_type": "markdown",
   "metadata": {},
   "source": [
    "***Ici on pourra caracteriser l'impact de la marge***"
   ]
  },
  {
   "cell_type": "code",
   "execution_count": 35,
   "metadata": {},
   "outputs": [
    {
     "name": "stdout",
     "output_type": "stream",
     "text": [
      "Wall time: 17.5 s\n"
     ]
    }
   ],
   "source": [
    "# df complete avec l'atribut filtre\n",
    "%time df_transit_avec_filtre=t.jointure_temps_reel_theorique(dico_od,dixco_tpsmax_corrige,t.liste_complete_trajet, 15)"
   ]
  },
  {
   "cell_type": "code",
   "execution_count": 36,
   "metadata": {},
   "outputs": [],
   "source": [
    "#filtrer le df : \n",
    "dico_od_final=df_transit_avec_filtre.loc[df_transit_avec_filtre['filtre_tps']==1]"
   ]
  },
  {
   "cell_type": "markdown",
   "metadata": {},
   "source": [
    "# 4. Correction des trajets depuis ou vers A660 relatifs à A63"
   ]
  },
  {
   "cell_type": "code",
   "execution_count": 12,
   "metadata": {},
   "outputs": [
    {
     "name": "stdout",
     "output_type": "stream",
     "text": [
      "Wall time: 1h 54min 10s\n"
     ]
    }
   ],
   "source": [
    "%time df_od_corrige=t.correction_trajet(df_passages2, dico_od_final)"
   ]
  },
  {
   "cell_type": "markdown",
   "metadata": {},
   "source": [
    "# 5. Extrapolation des trajets non complets"
   ]
  },
  {
   "cell_type": "code",
   "execution_count": 14,
   "metadata": {},
   "outputs": [
    {
     "name": "stdout",
     "output_type": "stream",
     "text": [
      "Wall time: 1min 58s\n"
     ]
    }
   ],
   "source": [
    "#creer les donnees necessaires\n",
    "%time df_filtre_A63,df_passage_transit,df_non_transit=t.param_trajet_incomplet('2019-01-28 00:00:00',df_od_corrige,df_passages2,dico_passag)"
   ]
  },
  {
   "cell_type": "code",
   "execution_count": 15,
   "metadata": {},
   "outputs": [
    {
     "name": "stdout",
     "output_type": "stream",
     "text": [
      "date : 2019-01-29 00:00:00 debut_traitement : 2019-05-12 22:39:06.662032\n",
      "Wall time: 3min 6s\n"
     ]
    }
   ],
   "source": [
    "#trajet de transit incomplet sans filtre sur temps de parcours\n",
    "%time trajet_transit_incomplet2, passage2=t.transit_trajet_incomplet(df_filtre_A63,df_passage_transit,'2019-01-29 00:00:00',1, df_passages2)"
   ]
  },
  {
   "cell_type": "code",
   "execution_count": 17,
   "metadata": {},
   "outputs": [],
   "source": [
    "#filtrer selon le temps de parcours\n",
    "trajet_transit_incomplet_filtre_temps=t.jointure_temps_reel_theorique(trajet_transit_incomplet2,dixco_tpsmax_corrige,t.liste_trajet_incomplet, 15,'incomplet')\n",
    "#mettre en forme les attributs\n",
    "trajet_transit_incomplet_filtre_temps=trajet_transit_incomplet_filtre_temps[['date_cam_1', 'immat', 'state', 'l', 'date_cam_2', 'cameras', 'origine',\n",
    "       'destination', 'o_d', 'tps_parcours', 'period', 'date', 'temps', 'type',\n",
    "       'tps_parcours_theoriq', 'filtre_tps']]"
   ]
  },
  {
   "cell_type": "code",
   "execution_count": 19,
   "metadata": {},
   "outputs": [],
   "source": [
    "#filtrer le df : \n",
    "trajet_transit_incomplet_final=trajet_transit_incomplet_filtre_temps.loc[trajet_transit_incomplet_filtre_temps['filtre_tps']==1].copy()\n",
    "#ajouter l'attribut d'identification des trajets \n",
    "trajet_transit_incomplet_final['correction_o_d']=True\n",
    "#6. Ajouter au df des o_d précédents : \n",
    "df_od_final=pd.concat([df_od_corrige,trajet_transit_incomplet_final],sort=False)"
   ]
  },
  {
   "cell_type": "markdown",
   "metadata": {},
   "source": [
    "# 6. Créer le tableaude matrice o_d"
   ]
  },
  {
   "cell_type": "code",
   "execution_count": 11,
   "metadata": {},
   "outputs": [
    {
     "data": {
      "text/html": [
       "<div>\n",
       "<style scoped>\n",
       "    .dataframe tbody tr th:only-of-type {\n",
       "        vertical-align: middle;\n",
       "    }\n",
       "\n",
       "    .dataframe tbody tr th {\n",
       "        vertical-align: top;\n",
       "    }\n",
       "\n",
       "    .dataframe thead th {\n",
       "        text-align: right;\n",
       "    }\n",
       "</style>\n",
       "<table border=\"1\" class=\"dataframe\">\n",
       "  <thead>\n",
       "    <tr style=\"text-align: right;\">\n",
       "      <th>destination</th>\n",
       "      <th>A10</th>\n",
       "      <th>A62</th>\n",
       "      <th>A63</th>\n",
       "      <th>A660</th>\n",
       "      <th>A89</th>\n",
       "      <th>N10</th>\n",
       "      <th>All</th>\n",
       "    </tr>\n",
       "    <tr>\n",
       "      <th>origine</th>\n",
       "      <th></th>\n",
       "      <th></th>\n",
       "      <th></th>\n",
       "      <th></th>\n",
       "      <th></th>\n",
       "      <th></th>\n",
       "      <th></th>\n",
       "    </tr>\n",
       "  </thead>\n",
       "  <tbody>\n",
       "    <tr>\n",
       "      <th>A10</th>\n",
       "      <td>NC</td>\n",
       "      <td>5285</td>\n",
       "      <td>6587</td>\n",
       "      <td>2844</td>\n",
       "      <td>286</td>\n",
       "      <td>NC</td>\n",
       "      <td>15002</td>\n",
       "    </tr>\n",
       "    <tr>\n",
       "      <th>A62</th>\n",
       "      <td>2338</td>\n",
       "      <td>NC</td>\n",
       "      <td>332</td>\n",
       "      <td>913</td>\n",
       "      <td>517</td>\n",
       "      <td>2787</td>\n",
       "      <td>6887</td>\n",
       "    </tr>\n",
       "    <tr>\n",
       "      <th>A63</th>\n",
       "      <td>6133</td>\n",
       "      <td>212</td>\n",
       "      <td>NC</td>\n",
       "      <td>NC</td>\n",
       "      <td>1418</td>\n",
       "      <td>33605</td>\n",
       "      <td>41368</td>\n",
       "    </tr>\n",
       "    <tr>\n",
       "      <th>A660</th>\n",
       "      <td>2550</td>\n",
       "      <td>795</td>\n",
       "      <td>NC</td>\n",
       "      <td>NC</td>\n",
       "      <td>1112</td>\n",
       "      <td>12393</td>\n",
       "      <td>16850</td>\n",
       "    </tr>\n",
       "    <tr>\n",
       "      <th>A89</th>\n",
       "      <td>263</td>\n",
       "      <td>805</td>\n",
       "      <td>2022</td>\n",
       "      <td>1486</td>\n",
       "      <td>NC</td>\n",
       "      <td>907</td>\n",
       "      <td>5483</td>\n",
       "    </tr>\n",
       "    <tr>\n",
       "      <th>N10</th>\n",
       "      <td>NC</td>\n",
       "      <td>4221</td>\n",
       "      <td>27214</td>\n",
       "      <td>11237</td>\n",
       "      <td>783</td>\n",
       "      <td>NC</td>\n",
       "      <td>43455</td>\n",
       "    </tr>\n",
       "    <tr>\n",
       "      <th>All</th>\n",
       "      <td>11284</td>\n",
       "      <td>11318</td>\n",
       "      <td>36155</td>\n",
       "      <td>16480</td>\n",
       "      <td>4116</td>\n",
       "      <td>49692</td>\n",
       "      <td>129045</td>\n",
       "    </tr>\n",
       "  </tbody>\n",
       "</table>\n",
       "</div>"
      ],
      "text/plain": [
       "destination    A10    A62    A63   A660   A89    N10     All\n",
       "origine                                                     \n",
       "A10             NC   5285   6587   2844   286     NC   15002\n",
       "A62           2338     NC    332    913   517   2787    6887\n",
       "A63           6133    212     NC     NC  1418  33605   41368\n",
       "A660          2550    795     NC     NC  1112  12393   16850\n",
       "A89            263    805   2022   1486    NC    907    5483\n",
       "N10             NC   4221  27214  11237   783     NC   43455\n",
       "All          11284  11318  36155  16480  4116  49692  129045"
      ]
     },
     "execution_count": 11,
     "metadata": {},
     "output_type": "execute_result"
    }
   ],
   "source": [
    "# de base\n",
    "pd.pivot_table(dico_od_final,values='l', index='origine', columns='destination',aggfunc='count', margins=True).fillna('NC')"
   ]
  },
  {
   "cell_type": "code",
   "execution_count": 13,
   "metadata": {},
   "outputs": [
    {
     "data": {
      "text/html": [
       "<div>\n",
       "<style scoped>\n",
       "    .dataframe tbody tr th:only-of-type {\n",
       "        vertical-align: middle;\n",
       "    }\n",
       "\n",
       "    .dataframe tbody tr th {\n",
       "        vertical-align: top;\n",
       "    }\n",
       "\n",
       "    .dataframe thead th {\n",
       "        text-align: right;\n",
       "    }\n",
       "</style>\n",
       "<table border=\"1\" class=\"dataframe\">\n",
       "  <thead>\n",
       "    <tr style=\"text-align: right;\">\n",
       "      <th>destination</th>\n",
       "      <th>A10</th>\n",
       "      <th>A62</th>\n",
       "      <th>A63</th>\n",
       "      <th>A660</th>\n",
       "      <th>A89</th>\n",
       "      <th>N10</th>\n",
       "      <th>All</th>\n",
       "    </tr>\n",
       "    <tr>\n",
       "      <th>origine</th>\n",
       "      <th></th>\n",
       "      <th></th>\n",
       "      <th></th>\n",
       "      <th></th>\n",
       "      <th></th>\n",
       "      <th></th>\n",
       "      <th></th>\n",
       "    </tr>\n",
       "  </thead>\n",
       "  <tbody>\n",
       "    <tr>\n",
       "      <th>A10</th>\n",
       "      <td>NC</td>\n",
       "      <td>5285</td>\n",
       "      <td>7127</td>\n",
       "      <td>2304</td>\n",
       "      <td>286</td>\n",
       "      <td>NC</td>\n",
       "      <td>15002</td>\n",
       "    </tr>\n",
       "    <tr>\n",
       "      <th>A62</th>\n",
       "      <td>2338</td>\n",
       "      <td>NC</td>\n",
       "      <td>392</td>\n",
       "      <td>853</td>\n",
       "      <td>517</td>\n",
       "      <td>2787</td>\n",
       "      <td>6887</td>\n",
       "    </tr>\n",
       "    <tr>\n",
       "      <th>A63</th>\n",
       "      <td>7273</td>\n",
       "      <td>257</td>\n",
       "      <td>NC</td>\n",
       "      <td>NC</td>\n",
       "      <td>1739</td>\n",
       "      <td>40000</td>\n",
       "      <td>49269</td>\n",
       "    </tr>\n",
       "    <tr>\n",
       "      <th>A660</th>\n",
       "      <td>1410</td>\n",
       "      <td>750</td>\n",
       "      <td>NC</td>\n",
       "      <td>NC</td>\n",
       "      <td>791</td>\n",
       "      <td>5998</td>\n",
       "      <td>8949</td>\n",
       "    </tr>\n",
       "    <tr>\n",
       "      <th>A89</th>\n",
       "      <td>263</td>\n",
       "      <td>805</td>\n",
       "      <td>2229</td>\n",
       "      <td>1279</td>\n",
       "      <td>NC</td>\n",
       "      <td>907</td>\n",
       "      <td>5483</td>\n",
       "    </tr>\n",
       "    <tr>\n",
       "      <th>N10</th>\n",
       "      <td>NC</td>\n",
       "      <td>4221</td>\n",
       "      <td>30085</td>\n",
       "      <td>8366</td>\n",
       "      <td>783</td>\n",
       "      <td>NC</td>\n",
       "      <td>43455</td>\n",
       "    </tr>\n",
       "    <tr>\n",
       "      <th>All</th>\n",
       "      <td>11284</td>\n",
       "      <td>11318</td>\n",
       "      <td>39833</td>\n",
       "      <td>12802</td>\n",
       "      <td>4116</td>\n",
       "      <td>49692</td>\n",
       "      <td>129045</td>\n",
       "    </tr>\n",
       "  </tbody>\n",
       "</table>\n",
       "</div>"
      ],
      "text/plain": [
       "destination    A10    A62    A63   A660   A89    N10     All\n",
       "origine                                                     \n",
       "A10             NC   5285   7127   2304   286     NC   15002\n",
       "A62           2338     NC    392    853   517   2787    6887\n",
       "A63           7273    257     NC     NC  1739  40000   49269\n",
       "A660          1410    750     NC     NC   791   5998    8949\n",
       "A89            263    805   2229   1279    NC    907    5483\n",
       "N10             NC   4221  30085   8366   783     NC   43455\n",
       "All          11284  11318  39833  12802  4116  49692  129045"
      ]
     },
     "execution_count": 13,
     "metadata": {},
     "output_type": "execute_result"
    }
   ],
   "source": [
    "# apres correction des A660 liees a A63\n",
    "pd.pivot_table(df_od_corrige,values='l', index='origine', columns='destination',aggfunc='count', margins=True).fillna('NC')"
   ]
  },
  {
   "cell_type": "code",
   "execution_count": 20,
   "metadata": {},
   "outputs": [
    {
     "data": {
      "text/html": [
       "<div>\n",
       "<style scoped>\n",
       "    .dataframe tbody tr th:only-of-type {\n",
       "        vertical-align: middle;\n",
       "    }\n",
       "\n",
       "    .dataframe tbody tr th {\n",
       "        vertical-align: top;\n",
       "    }\n",
       "\n",
       "    .dataframe thead th {\n",
       "        text-align: right;\n",
       "    }\n",
       "</style>\n",
       "<table border=\"1\" class=\"dataframe\">\n",
       "  <thead>\n",
       "    <tr style=\"text-align: right;\">\n",
       "      <th>destination</th>\n",
       "      <th>A10</th>\n",
       "      <th>A62</th>\n",
       "      <th>A63</th>\n",
       "      <th>A660</th>\n",
       "      <th>A89</th>\n",
       "      <th>N10</th>\n",
       "      <th>All</th>\n",
       "    </tr>\n",
       "    <tr>\n",
       "      <th>origine</th>\n",
       "      <th></th>\n",
       "      <th></th>\n",
       "      <th></th>\n",
       "      <th></th>\n",
       "      <th></th>\n",
       "      <th></th>\n",
       "      <th></th>\n",
       "    </tr>\n",
       "  </thead>\n",
       "  <tbody>\n",
       "    <tr>\n",
       "      <th>A10</th>\n",
       "      <td>NC</td>\n",
       "      <td>5285</td>\n",
       "      <td>7127</td>\n",
       "      <td>2304</td>\n",
       "      <td>286</td>\n",
       "      <td>NC</td>\n",
       "      <td>15002</td>\n",
       "    </tr>\n",
       "    <tr>\n",
       "      <th>A62</th>\n",
       "      <td>2338</td>\n",
       "      <td>NC</td>\n",
       "      <td>392</td>\n",
       "      <td>853</td>\n",
       "      <td>517</td>\n",
       "      <td>2787</td>\n",
       "      <td>6887</td>\n",
       "    </tr>\n",
       "    <tr>\n",
       "      <th>A63</th>\n",
       "      <td>7273</td>\n",
       "      <td>257</td>\n",
       "      <td>NC</td>\n",
       "      <td>NC</td>\n",
       "      <td>1739</td>\n",
       "      <td>40038</td>\n",
       "      <td>49307</td>\n",
       "    </tr>\n",
       "    <tr>\n",
       "      <th>A660</th>\n",
       "      <td>1410</td>\n",
       "      <td>750</td>\n",
       "      <td>NC</td>\n",
       "      <td>NC</td>\n",
       "      <td>791</td>\n",
       "      <td>5998</td>\n",
       "      <td>8949</td>\n",
       "    </tr>\n",
       "    <tr>\n",
       "      <th>A89</th>\n",
       "      <td>263</td>\n",
       "      <td>805</td>\n",
       "      <td>2229</td>\n",
       "      <td>1279</td>\n",
       "      <td>NC</td>\n",
       "      <td>907</td>\n",
       "      <td>5483</td>\n",
       "    </tr>\n",
       "    <tr>\n",
       "      <th>N10</th>\n",
       "      <td>NC</td>\n",
       "      <td>4221</td>\n",
       "      <td>30085</td>\n",
       "      <td>8366</td>\n",
       "      <td>783</td>\n",
       "      <td>NC</td>\n",
       "      <td>43455</td>\n",
       "    </tr>\n",
       "    <tr>\n",
       "      <th>All</th>\n",
       "      <td>11284</td>\n",
       "      <td>11318</td>\n",
       "      <td>39833</td>\n",
       "      <td>12802</td>\n",
       "      <td>4116</td>\n",
       "      <td>49730</td>\n",
       "      <td>129083</td>\n",
       "    </tr>\n",
       "  </tbody>\n",
       "</table>\n",
       "</div>"
      ],
      "text/plain": [
       "destination    A10    A62    A63   A660   A89    N10     All\n",
       "origine                                                     \n",
       "A10             NC   5285   7127   2304   286     NC   15002\n",
       "A62           2338     NC    392    853   517   2787    6887\n",
       "A63           7273    257     NC     NC  1739  40038   49307\n",
       "A660          1410    750     NC     NC   791   5998    8949\n",
       "A89            263    805   2229   1279    NC    907    5483\n",
       "N10             NC   4221  30085   8366   783     NC   43455\n",
       "All          11284  11318  39833  12802  4116  49730  129083"
      ]
     },
     "execution_count": 20,
     "metadata": {},
     "output_type": "execute_result"
    }
   ],
   "source": [
    "# apres extrapolation\n",
    "pd.pivot_table(df_od_final,values='l', index='origine', columns='destination',aggfunc='count', margins=True).fillna('NC')"
   ]
  },
  {
   "cell_type": "markdown",
   "metadata": {},
   "source": [
    "# 7. Analyse du nb de VL, PL, PL en transit par heure et par camera \n",
    "> Le pb c'est que pour les camera de la Rocade, parfois on les PL n'y sont pas vus, de même pour les chemins extrapoles ou pour ceux corrigés : le passage soit n'existe pas, soit la camera du passage ne correspond pas à la destination finalement utilisées"
   ]
  },
  {
   "cell_type": "markdown",
   "metadata": {},
   "source": [
    "## 7.1 base : travail sur les données telles que créees"
   ]
  },
  {
   "cell_type": "code",
   "execution_count": 50,
   "metadata": {},
   "outputs": [],
   "source": [
    "df_vl=df_passages2.loc[df_passages2['l']!=1]\n",
    "df_pl=df_passages2.loc[df_passages2['l']==1]\n",
    "df_passages_transit=t.trajet2passage(dico_od_final,df_pl)"
   ]
  },
  {
   "cell_type": "code",
   "execution_count": 51,
   "metadata": {},
   "outputs": [
    {
     "name": "stdout",
     "output_type": "stream",
     "text": [
      "pl_tot =1920 , vl_tot=1920 , pl_transit=1262,pl_tot-joint-transit=1262\n",
      "Wall time: 1.14 s\n"
     ]
    }
   ],
   "source": [
    "%time synt_nb_veh_cam=t.pourcentage_pl_camera(df_pl,df_passages_transit, df_vl)"
   ]
  },
  {
   "cell_type": "code",
   "execution_count": 52,
   "metadata": {},
   "outputs": [
    {
     "data": {
      "application/vnd.vegalite.v2+json": {
       "$schema": "https://vega.github.io/schema/vega-lite/v2.6.0.json",
       "config": {
        "view": {
         "height": 300,
         "width": 400
        }
       },
       "datasets": {
        "data-6b445f40fa7e900c107e9c8919a0dff9": [
         {
          "camera_id": 4,
          "created": "2019-01-29T00:00:00",
          "nb_pl_tot": 85,
          "nb_pl_transit": 19,
          "nb_veh": 85,
          "pct_pl_transit": 22.352941176470587,
          "type": "PL total",
          "type_x": "PL total",
          "type_y": "PL transit"
         },
         {
          "camera_id": 4,
          "created": "2019-01-29T01:00:00",
          "nb_pl_tot": 64,
          "nb_pl_transit": 9,
          "nb_veh": 64,
          "pct_pl_transit": 14.0625,
          "type": "PL total",
          "type_x": "PL total",
          "type_y": "PL transit"
         },
         {
          "camera_id": 4,
          "created": "2019-01-29T02:00:00",
          "nb_pl_tot": 78,
          "nb_pl_transit": 7,
          "nb_veh": 78,
          "pct_pl_transit": 8.974358974358974,
          "type": "PL total",
          "type_x": "PL total",
          "type_y": "PL transit"
         },
         {
          "camera_id": 4,
          "created": "2019-01-29T03:00:00",
          "nb_pl_tot": 95,
          "nb_pl_transit": 8,
          "nb_veh": 95,
          "pct_pl_transit": 8.421052631578947,
          "type": "PL total",
          "type_x": "PL total",
          "type_y": "PL transit"
         },
         {
          "camera_id": 4,
          "created": "2019-01-29T04:00:00",
          "nb_pl_tot": 159,
          "nb_pl_transit": 24,
          "nb_veh": 159,
          "pct_pl_transit": 15.09433962264151,
          "type": "PL total",
          "type_x": "PL total",
          "type_y": "PL transit"
         },
         {
          "camera_id": 4,
          "created": "2019-01-29T05:00:00",
          "nb_pl_tot": 241,
          "nb_pl_transit": 44,
          "nb_veh": 241,
          "pct_pl_transit": 18.25726141078838,
          "type": "PL total",
          "type_x": "PL total",
          "type_y": "PL transit"
         },
         {
          "camera_id": 4,
          "created": "2019-01-29T06:00:00",
          "nb_pl_tot": 279,
          "nb_pl_transit": 70,
          "nb_veh": 279,
          "pct_pl_transit": 25.089605734767026,
          "type": "PL total",
          "type_x": "PL total",
          "type_y": "PL transit"
         },
         {
          "camera_id": 4,
          "created": "2019-01-29T07:00:00",
          "nb_pl_tot": 314,
          "nb_pl_transit": 126,
          "nb_veh": 314,
          "pct_pl_transit": 40.12738853503185,
          "type": "PL total",
          "type_x": "PL total",
          "type_y": "PL transit"
         },
         {
          "camera_id": 4,
          "created": "2019-01-29T08:00:00",
          "nb_pl_tot": 628,
          "nb_pl_transit": 294,
          "nb_veh": 628,
          "pct_pl_transit": 46.81528662420382,
          "type": "PL total",
          "type_x": "PL total",
          "type_y": "PL transit"
         },
         {
          "camera_id": 4,
          "created": "2019-01-29T09:00:00",
          "nb_pl_tot": 730,
          "nb_pl_transit": 301,
          "nb_veh": 730,
          "pct_pl_transit": 41.23287671232877,
          "type": "PL total",
          "type_x": "PL total",
          "type_y": "PL transit"
         },
         {
          "camera_id": 4,
          "created": "2019-01-29T10:00:00",
          "nb_pl_tot": 729,
          "nb_pl_transit": 259,
          "nb_veh": 729,
          "pct_pl_transit": 35.528120713305896,
          "type": "PL total",
          "type_x": "PL total",
          "type_y": "PL transit"
         },
         {
          "camera_id": 4,
          "created": "2019-01-29T11:00:00",
          "nb_pl_tot": 661,
          "nb_pl_transit": 257,
          "nb_veh": 661,
          "pct_pl_transit": 38.88048411497731,
          "type": "PL total",
          "type_x": "PL total",
          "type_y": "PL transit"
         },
         {
          "camera_id": 4,
          "created": "2019-01-29T12:00:00",
          "nb_pl_tot": 175,
          "nb_pl_transit": 65,
          "nb_veh": 175,
          "pct_pl_transit": 37.142857142857146,
          "type": "PL total",
          "type_x": "PL total",
          "type_y": "PL transit"
         },
         {
          "camera_id": 4,
          "created": "2019-01-29T13:00:00",
          "nb_pl_tot": 0,
          "nb_pl_transit": 0,
          "nb_veh": 0,
          "pct_pl_transit": 0,
          "type": "PL total",
          "type_x": "PL total",
          "type_y": "PL transit"
         },
         {
          "camera_id": 4,
          "created": "2019-01-29T14:00:00",
          "nb_pl_tot": 160,
          "nb_pl_transit": 56,
          "nb_veh": 160,
          "pct_pl_transit": 35,
          "type": "PL total",
          "type_x": "PL total",
          "type_y": "PL transit"
         },
         {
          "camera_id": 4,
          "created": "2019-01-29T15:00:00",
          "nb_pl_tot": 607,
          "nb_pl_transit": 209,
          "nb_veh": 607,
          "pct_pl_transit": 34.43163097199341,
          "type": "PL total",
          "type_x": "PL total",
          "type_y": "PL transit"
         },
         {
          "camera_id": 4,
          "created": "2019-01-29T16:00:00",
          "nb_pl_tot": 412,
          "nb_pl_transit": 136,
          "nb_veh": 412,
          "pct_pl_transit": 33.00970873786408,
          "type": "PL total",
          "type_x": "PL total",
          "type_y": "PL transit"
         },
         {
          "camera_id": 4,
          "created": "2019-01-29T17:00:00",
          "nb_pl_tot": 419,
          "nb_pl_transit": 64,
          "nb_veh": 419,
          "pct_pl_transit": 15.274463007159904,
          "type": "PL total",
          "type_x": "PL total",
          "type_y": "PL transit"
         },
         {
          "camera_id": 4,
          "created": "2019-01-29T18:00:00",
          "nb_pl_tot": 418,
          "nb_pl_transit": 69,
          "nb_veh": 418,
          "pct_pl_transit": 16.507177033492823,
          "type": "PL total",
          "type_x": "PL total",
          "type_y": "PL transit"
         },
         {
          "camera_id": 4,
          "created": "2019-01-29T19:00:00",
          "nb_pl_tot": 319,
          "nb_pl_transit": 73,
          "nb_veh": 319,
          "pct_pl_transit": 22.884012539184955,
          "type": "PL total",
          "type_x": "PL total",
          "type_y": "PL transit"
         },
         {
          "camera_id": 4,
          "created": "2019-01-29T20:00:00",
          "nb_pl_tot": 264,
          "nb_pl_transit": 87,
          "nb_veh": 264,
          "pct_pl_transit": 32.95454545454545,
          "type": "PL total",
          "type_x": "PL total",
          "type_y": "PL transit"
         },
         {
          "camera_id": 4,
          "created": "2019-01-29T21:00:00",
          "nb_pl_tot": 218,
          "nb_pl_transit": 69,
          "nb_veh": 218,
          "pct_pl_transit": 31.65137614678899,
          "type": "PL total",
          "type_x": "PL total",
          "type_y": "PL transit"
         },
         {
          "camera_id": 4,
          "created": "2019-01-29T22:00:00",
          "nb_pl_tot": 186,
          "nb_pl_transit": 68,
          "nb_veh": 186,
          "pct_pl_transit": 36.55913978494624,
          "type": "PL total",
          "type_x": "PL total",
          "type_y": "PL transit"
         },
         {
          "camera_id": 4,
          "created": "2019-01-29T23:00:00",
          "nb_pl_tot": 154,
          "nb_pl_transit": 47,
          "nb_veh": 154,
          "pct_pl_transit": 30.51948051948052,
          "type": "PL total",
          "type_x": "PL total",
          "type_y": "PL transit"
         },
         {
          "camera_id": 4,
          "created": "2019-01-29T00:00:00",
          "nb_pl_tot": 85,
          "nb_pl_transit": 19,
          "nb_veh": 204,
          "pct_pl_transit": 22.352941176470587,
          "type": "VL total",
          "type_x": "PL total",
          "type_y": "PL transit"
         },
         {
          "camera_id": 4,
          "created": "2019-01-29T01:00:00",
          "nb_pl_tot": 64,
          "nb_pl_transit": 9,
          "nb_veh": 165,
          "pct_pl_transit": 14.0625,
          "type": "VL total",
          "type_x": "PL total",
          "type_y": "PL transit"
         },
         {
          "camera_id": 4,
          "created": "2019-01-29T02:00:00",
          "nb_pl_tot": 78,
          "nb_pl_transit": 7,
          "nb_veh": 89,
          "pct_pl_transit": 8.974358974358974,
          "type": "VL total",
          "type_x": "PL total",
          "type_y": "PL transit"
         },
         {
          "camera_id": 4,
          "created": "2019-01-29T03:00:00",
          "nb_pl_tot": 95,
          "nb_pl_transit": 8,
          "nb_veh": 157,
          "pct_pl_transit": 8.421052631578947,
          "type": "VL total",
          "type_x": "PL total",
          "type_y": "PL transit"
         },
         {
          "camera_id": 4,
          "created": "2019-01-29T04:00:00",
          "nb_pl_tot": 159,
          "nb_pl_transit": 24,
          "nb_veh": 289,
          "pct_pl_transit": 15.09433962264151,
          "type": "VL total",
          "type_x": "PL total",
          "type_y": "PL transit"
         },
         {
          "camera_id": 4,
          "created": "2019-01-29T05:00:00",
          "nb_pl_tot": 241,
          "nb_pl_transit": 44,
          "nb_veh": 653,
          "pct_pl_transit": 18.25726141078838,
          "type": "VL total",
          "type_x": "PL total",
          "type_y": "PL transit"
         },
         {
          "camera_id": 4,
          "created": "2019-01-29T06:00:00",
          "nb_pl_tot": 279,
          "nb_pl_transit": 70,
          "nb_veh": 1545,
          "pct_pl_transit": 25.089605734767026,
          "type": "VL total",
          "type_x": "PL total",
          "type_y": "PL transit"
         },
         {
          "camera_id": 4,
          "created": "2019-01-29T07:00:00",
          "nb_pl_tot": 314,
          "nb_pl_transit": 126,
          "nb_veh": 1938,
          "pct_pl_transit": 40.12738853503185,
          "type": "VL total",
          "type_x": "PL total",
          "type_y": "PL transit"
         },
         {
          "camera_id": 4,
          "created": "2019-01-29T08:00:00",
          "nb_pl_tot": 628,
          "nb_pl_transit": 294,
          "nb_veh": 2079,
          "pct_pl_transit": 46.81528662420382,
          "type": "VL total",
          "type_x": "PL total",
          "type_y": "PL transit"
         },
         {
          "camera_id": 4,
          "created": "2019-01-29T09:00:00",
          "nb_pl_tot": 730,
          "nb_pl_transit": 301,
          "nb_veh": 1845,
          "pct_pl_transit": 41.23287671232877,
          "type": "VL total",
          "type_x": "PL total",
          "type_y": "PL transit"
         },
         {
          "camera_id": 4,
          "created": "2019-01-29T10:00:00",
          "nb_pl_tot": 729,
          "nb_pl_transit": 259,
          "nb_veh": 1788,
          "pct_pl_transit": 35.528120713305896,
          "type": "VL total",
          "type_x": "PL total",
          "type_y": "PL transit"
         },
         {
          "camera_id": 4,
          "created": "2019-01-29T11:00:00",
          "nb_pl_tot": 661,
          "nb_pl_transit": 257,
          "nb_veh": 1571,
          "pct_pl_transit": 38.88048411497731,
          "type": "VL total",
          "type_x": "PL total",
          "type_y": "PL transit"
         },
         {
          "camera_id": 4,
          "created": "2019-01-29T12:00:00",
          "nb_pl_tot": 175,
          "nb_pl_transit": 65,
          "nb_veh": 408,
          "pct_pl_transit": 37.142857142857146,
          "type": "VL total",
          "type_x": "PL total",
          "type_y": "PL transit"
         },
         {
          "camera_id": 4,
          "created": "2019-01-29T13:00:00",
          "nb_pl_tot": 0,
          "nb_pl_transit": 0,
          "nb_veh": 0,
          "pct_pl_transit": 0,
          "type": "VL total",
          "type_x": "PL total",
          "type_y": "PL transit"
         },
         {
          "camera_id": 4,
          "created": "2019-01-29T14:00:00",
          "nb_pl_tot": 160,
          "nb_pl_transit": 56,
          "nb_veh": 522,
          "pct_pl_transit": 35,
          "type": "VL total",
          "type_x": "PL total",
          "type_y": "PL transit"
         },
         {
          "camera_id": 4,
          "created": "2019-01-29T15:00:00",
          "nb_pl_tot": 607,
          "nb_pl_transit": 209,
          "nb_veh": 2329,
          "pct_pl_transit": 34.43163097199341,
          "type": "VL total",
          "type_x": "PL total",
          "type_y": "PL transit"
         },
         {
          "camera_id": 4,
          "created": "2019-01-29T16:00:00",
          "nb_pl_tot": 412,
          "nb_pl_transit": 136,
          "nb_veh": 2475,
          "pct_pl_transit": 33.00970873786408,
          "type": "VL total",
          "type_x": "PL total",
          "type_y": "PL transit"
         },
         {
          "camera_id": 4,
          "created": "2019-01-29T17:00:00",
          "nb_pl_tot": 419,
          "nb_pl_transit": 64,
          "nb_veh": 2093,
          "pct_pl_transit": 15.274463007159904,
          "type": "VL total",
          "type_x": "PL total",
          "type_y": "PL transit"
         },
         {
          "camera_id": 4,
          "created": "2019-01-29T18:00:00",
          "nb_pl_tot": 418,
          "nb_pl_transit": 69,
          "nb_veh": 1723,
          "pct_pl_transit": 16.507177033492823,
          "type": "VL total",
          "type_x": "PL total",
          "type_y": "PL transit"
         },
         {
          "camera_id": 4,
          "created": "2019-01-29T19:00:00",
          "nb_pl_tot": 319,
          "nb_pl_transit": 73,
          "nb_veh": 1182,
          "pct_pl_transit": 22.884012539184955,
          "type": "VL total",
          "type_x": "PL total",
          "type_y": "PL transit"
         },
         {
          "camera_id": 4,
          "created": "2019-01-29T20:00:00",
          "nb_pl_tot": 264,
          "nb_pl_transit": 87,
          "nb_veh": 690,
          "pct_pl_transit": 32.95454545454545,
          "type": "VL total",
          "type_x": "PL total",
          "type_y": "PL transit"
         },
         {
          "camera_id": 4,
          "created": "2019-01-29T21:00:00",
          "nb_pl_tot": 218,
          "nb_pl_transit": 69,
          "nb_veh": 582,
          "pct_pl_transit": 31.65137614678899,
          "type": "VL total",
          "type_x": "PL total",
          "type_y": "PL transit"
         },
         {
          "camera_id": 4,
          "created": "2019-01-29T22:00:00",
          "nb_pl_tot": 186,
          "nb_pl_transit": 68,
          "nb_veh": 375,
          "pct_pl_transit": 36.55913978494624,
          "type": "VL total",
          "type_x": "PL total",
          "type_y": "PL transit"
         },
         {
          "camera_id": 4,
          "created": "2019-01-29T23:00:00",
          "nb_pl_tot": 154,
          "nb_pl_transit": 47,
          "nb_veh": 230,
          "pct_pl_transit": 30.51948051948052,
          "type": "VL total",
          "type_x": "PL total",
          "type_y": "PL transit"
         },
         {
          "camera_id": 4,
          "created": "2019-01-29T00:00:00",
          "nb_pl_tot": 85,
          "nb_pl_transit": 19,
          "nb_veh": 19,
          "pct_pl_transit": 22.352941176470587,
          "type": "PL transit",
          "type_x": "PL total",
          "type_y": "PL transit"
         },
         {
          "camera_id": 4,
          "created": "2019-01-29T01:00:00",
          "nb_pl_tot": 64,
          "nb_pl_transit": 9,
          "nb_veh": 9,
          "pct_pl_transit": 14.0625,
          "type": "PL transit",
          "type_x": "PL total",
          "type_y": "PL transit"
         },
         {
          "camera_id": 4,
          "created": "2019-01-29T02:00:00",
          "nb_pl_tot": 78,
          "nb_pl_transit": 7,
          "nb_veh": 7,
          "pct_pl_transit": 8.974358974358974,
          "type": "PL transit",
          "type_x": "PL total",
          "type_y": "PL transit"
         },
         {
          "camera_id": 4,
          "created": "2019-01-29T03:00:00",
          "nb_pl_tot": 95,
          "nb_pl_transit": 8,
          "nb_veh": 8,
          "pct_pl_transit": 8.421052631578947,
          "type": "PL transit",
          "type_x": "PL total",
          "type_y": "PL transit"
         },
         {
          "camera_id": 4,
          "created": "2019-01-29T04:00:00",
          "nb_pl_tot": 159,
          "nb_pl_transit": 24,
          "nb_veh": 24,
          "pct_pl_transit": 15.09433962264151,
          "type": "PL transit",
          "type_x": "PL total",
          "type_y": "PL transit"
         },
         {
          "camera_id": 4,
          "created": "2019-01-29T05:00:00",
          "nb_pl_tot": 241,
          "nb_pl_transit": 44,
          "nb_veh": 44,
          "pct_pl_transit": 18.25726141078838,
          "type": "PL transit",
          "type_x": "PL total",
          "type_y": "PL transit"
         },
         {
          "camera_id": 4,
          "created": "2019-01-29T06:00:00",
          "nb_pl_tot": 279,
          "nb_pl_transit": 70,
          "nb_veh": 70,
          "pct_pl_transit": 25.089605734767026,
          "type": "PL transit",
          "type_x": "PL total",
          "type_y": "PL transit"
         },
         {
          "camera_id": 4,
          "created": "2019-01-29T07:00:00",
          "nb_pl_tot": 314,
          "nb_pl_transit": 126,
          "nb_veh": 126,
          "pct_pl_transit": 40.12738853503185,
          "type": "PL transit",
          "type_x": "PL total",
          "type_y": "PL transit"
         },
         {
          "camera_id": 4,
          "created": "2019-01-29T08:00:00",
          "nb_pl_tot": 628,
          "nb_pl_transit": 294,
          "nb_veh": 294,
          "pct_pl_transit": 46.81528662420382,
          "type": "PL transit",
          "type_x": "PL total",
          "type_y": "PL transit"
         },
         {
          "camera_id": 4,
          "created": "2019-01-29T09:00:00",
          "nb_pl_tot": 730,
          "nb_pl_transit": 301,
          "nb_veh": 301,
          "pct_pl_transit": 41.23287671232877,
          "type": "PL transit",
          "type_x": "PL total",
          "type_y": "PL transit"
         },
         {
          "camera_id": 4,
          "created": "2019-01-29T10:00:00",
          "nb_pl_tot": 729,
          "nb_pl_transit": 259,
          "nb_veh": 259,
          "pct_pl_transit": 35.528120713305896,
          "type": "PL transit",
          "type_x": "PL total",
          "type_y": "PL transit"
         },
         {
          "camera_id": 4,
          "created": "2019-01-29T11:00:00",
          "nb_pl_tot": 661,
          "nb_pl_transit": 257,
          "nb_veh": 257,
          "pct_pl_transit": 38.88048411497731,
          "type": "PL transit",
          "type_x": "PL total",
          "type_y": "PL transit"
         },
         {
          "camera_id": 4,
          "created": "2019-01-29T12:00:00",
          "nb_pl_tot": 175,
          "nb_pl_transit": 65,
          "nb_veh": 65,
          "pct_pl_transit": 37.142857142857146,
          "type": "PL transit",
          "type_x": "PL total",
          "type_y": "PL transit"
         },
         {
          "camera_id": 4,
          "created": "2019-01-29T13:00:00",
          "nb_pl_tot": 0,
          "nb_pl_transit": 0,
          "nb_veh": 0,
          "pct_pl_transit": 0,
          "type": "PL transit",
          "type_x": "PL total",
          "type_y": "PL transit"
         },
         {
          "camera_id": 4,
          "created": "2019-01-29T14:00:00",
          "nb_pl_tot": 160,
          "nb_pl_transit": 56,
          "nb_veh": 56,
          "pct_pl_transit": 35,
          "type": "PL transit",
          "type_x": "PL total",
          "type_y": "PL transit"
         },
         {
          "camera_id": 4,
          "created": "2019-01-29T15:00:00",
          "nb_pl_tot": 607,
          "nb_pl_transit": 209,
          "nb_veh": 209,
          "pct_pl_transit": 34.43163097199341,
          "type": "PL transit",
          "type_x": "PL total",
          "type_y": "PL transit"
         },
         {
          "camera_id": 4,
          "created": "2019-01-29T16:00:00",
          "nb_pl_tot": 412,
          "nb_pl_transit": 136,
          "nb_veh": 136,
          "pct_pl_transit": 33.00970873786408,
          "type": "PL transit",
          "type_x": "PL total",
          "type_y": "PL transit"
         },
         {
          "camera_id": 4,
          "created": "2019-01-29T17:00:00",
          "nb_pl_tot": 419,
          "nb_pl_transit": 64,
          "nb_veh": 64,
          "pct_pl_transit": 15.274463007159904,
          "type": "PL transit",
          "type_x": "PL total",
          "type_y": "PL transit"
         },
         {
          "camera_id": 4,
          "created": "2019-01-29T18:00:00",
          "nb_pl_tot": 418,
          "nb_pl_transit": 69,
          "nb_veh": 69,
          "pct_pl_transit": 16.507177033492823,
          "type": "PL transit",
          "type_x": "PL total",
          "type_y": "PL transit"
         },
         {
          "camera_id": 4,
          "created": "2019-01-29T19:00:00",
          "nb_pl_tot": 319,
          "nb_pl_transit": 73,
          "nb_veh": 73,
          "pct_pl_transit": 22.884012539184955,
          "type": "PL transit",
          "type_x": "PL total",
          "type_y": "PL transit"
         },
         {
          "camera_id": 4,
          "created": "2019-01-29T20:00:00",
          "nb_pl_tot": 264,
          "nb_pl_transit": 87,
          "nb_veh": 87,
          "pct_pl_transit": 32.95454545454545,
          "type": "PL transit",
          "type_x": "PL total",
          "type_y": "PL transit"
         },
         {
          "camera_id": 4,
          "created": "2019-01-29T21:00:00",
          "nb_pl_tot": 218,
          "nb_pl_transit": 69,
          "nb_veh": 69,
          "pct_pl_transit": 31.65137614678899,
          "type": "PL transit",
          "type_x": "PL total",
          "type_y": "PL transit"
         },
         {
          "camera_id": 4,
          "created": "2019-01-29T22:00:00",
          "nb_pl_tot": 186,
          "nb_pl_transit": 68,
          "nb_veh": 68,
          "pct_pl_transit": 36.55913978494624,
          "type": "PL transit",
          "type_x": "PL total",
          "type_y": "PL transit"
         },
         {
          "camera_id": 4,
          "created": "2019-01-29T23:00:00",
          "nb_pl_tot": 154,
          "nb_pl_transit": 47,
          "nb_veh": 47,
          "pct_pl_transit": 30.51948051948052,
          "type": "PL transit",
          "type_x": "PL total",
          "type_y": "PL transit"
         }
        ]
       },
       "layer": [
        {
         "data": {
          "name": "data-6b445f40fa7e900c107e9c8919a0dff9"
         },
         "encoding": {
          "color": {
           "field": "type",
           "type": "nominal"
          },
          "x": {
           "axis": {
            "format": "%H:%M",
            "title": "Heure"
           },
           "field": "created",
           "type": "temporal"
          },
          "y": {
           "axis": {
            "title": "Nb de véhicules"
           },
           "field": "nb_veh",
           "stack": null,
           "type": "quantitative"
          }
         },
         "mark": {
          "opacity": 0.7,
          "size": 20,
          "type": "bar"
         }
        },
        {
         "data": {
          "name": "data-6b445f40fa7e900c107e9c8919a0dff9"
         },
         "encoding": {
          "x": {
           "axis": {
            "format": "%H:%M",
            "title": "Heure"
           },
           "field": "created",
           "type": "temporal"
          },
          "y": {
           "axis": {
            "title": "% de PL en transit"
           },
           "field": "pct_pl_transit",
           "type": "quantitative"
          }
         },
         "mark": {
          "color": "green",
          "type": "line"
         }
        }
       ],
       "resolve": {
        "scale": {
         "color": "shared",
         "x": "shared",
         "y": "independent"
        }
       },
       "width": 800
      },
      "image/png": "[encoded data removed]",
      "text/plain": [
       "<VegaLite 2 object>\n",
       "\n",
       "If you see this message, it means the renderer has not been properly enabled\n",
       "for the frontend that you are using. For more information, see\n",
       "https://altair-viz.github.io/user_guide/troubleshooting.html\n"
      ]
     },
     "execution_count": 52,
     "metadata": {},
     "output_type": "execute_result"
    }
   ],
   "source": [
    "g.graph_VL_PL_transit_j_cam(synt_nb_veh_cam, '2019-01-29', 4)"
   ]
  },
  {
   "cell_type": "markdown",
   "metadata": {},
   "source": [
    "## 7.2 Redressement au niveau de la Rocade"
   ]
  },
  {
   "cell_type": "code",
   "execution_count": 59,
   "metadata": {},
   "outputs": [],
   "source": [
    "# df des trajets concernes\n",
    "df_trajet_rocade=pd.DataFrame(['N10-A63','N10-A660','N10-A62','A10-A63','A10-A660','A10-A62','A89-A63','A89-A660','A89-A62',\n",
    "                                        'A63-N10','A63-A10','A63-A89','A62-N10','A62-A10','A62-A89','A660-N10','A660-A10','A660-A89'],\n",
    "                                      columns=['trajets'])\n",
    "df_trajet_rocade.to_json(r'Q:\\DAIT\\TI\\DREAL33\\2018\\C17SI0073_LAPI\\Traitements\\python\\liste_trajet_rocade.json', orient='index')"
   ]
  },
  {
   "cell_type": "code",
   "execution_count": 40,
   "metadata": {},
   "outputs": [],
   "source": [
    "#rechercher ces trajets dans le dico des o_d\n",
    "trajets_rocade=dico_od_final.loc[dico_od_final.o_d.isin(df_trajet_rocade.trajets.tolist())]\n",
    "#trouver ceux qui ne contiennent aucune référence uax camera de la Rocade\n",
    "trajets_rocade_non_vu=trajets_rocade.loc[trajets_rocade.apply(lambda x : all(e not in x['cameras'] for e in [1,2,3,4]),axis=1)].copy()"
   ]
  },
  {
   "cell_type": "code",
   "execution_count": 41,
   "metadata": {},
   "outputs": [],
   "source": [
    "#créer des passage fictif au niveau de la Rocade avec comme created la moyenne entre date_cam_1 et date_cam_2\n",
    "#et une camera fictive selon les ameras 1 et 2\n",
    "def camera_fictive(cam1, cam2) : \n",
    "    if cam1 in [15,10,19] and cam2 in [5,11,7] : \n",
    "        return 4\n",
    "    elif cam1 in [12,8,6] and cam2 in [13,9,18] :\n",
    "        return 3\n",
    "    else : \n",
    "        return -1\n",
    "    \n",
    "trajets_rocade_non_vu['created_fictif']=trajets_rocade_non_vu.apply(lambda x : x['date_cam_1']+((x['date_cam_2']-x['date_cam_1'])/2),axis=1)\n",
    "trajets_rocade_non_vu['camera_fictif']=trajets_rocade_non_vu.apply(lambda x : camera_fictive(x['cameras'][0],x['cameras'][1]),axis=1)\n",
    "trajets_rocade_non_vu=trajets_rocade_non_vu.drop(['date_cam_1', 'index','id', 'date_cam_2',\n",
    "       'cameras', 'origine', 'destination', 'o_d', 'tps_parcours', 'period',\n",
    "       'date', 'temps', 'type', 'tps_parcours_theoriq', 'filtre_tps'],axis=1)\n",
    "trajets_rocade_non_vu.rename(columns={'created_fictif':'created','camera_fictif':'camera_id'},inplace=True)\n",
    "#on ne garde que les trajets concernes par une des cameras fictive de la rocade\n",
    "trajets_rocade_non_vu=trajets_rocade_non_vu.loc[trajets_rocade_non_vu['camera_id']!=-1]"
   ]
  },
  {
   "cell_type": "code",
   "execution_count": 49,
   "metadata": {},
   "outputs": [
    {
     "name": "stdout",
     "output_type": "stream",
     "text": [
      "pl_tot =1920 , vl_tot=1920 , pl_transit=1262,pl_tot-joint-transit=1262\n",
      "Wall time: 1.36 s\n"
     ]
    }
   ],
   "source": [
    "#on ajoute les trajets ainsi cree aux autres (pl en transit et pl normaux)\n",
    "df_passage_transit_redresse=pd.concat([trajets_rocade_non_vu,df_passages_transit],axis=0,sort=False)\n",
    "df_pl_redresse=pd.concat([trajets_rocade_non_vu.set_index('created'),df_pl],axis=0,sort=False)\n",
    "#attributs de tracage\n",
    "df_passage_transit_redresse['fictif']=df_passage_transit_redresse.apply(lambda x : True if not x['fiability']>0 else False,axis=1)\n",
    "df_passage_transit_redresse['fiability']=df_passage_transit_redresse.apply(lambda x : 999 if not x['fiability']>0 else x['fiability'],axis=1)\n",
    "#caclcul et graph\n",
    "%time synt_nb_veh_cam_redresse=t.pourcentage_pl_camera(df_pl_redresse,df_passage_transit_redresse, df_vl)"
   ]
  },
  {
   "cell_type": "code",
   "execution_count": 57,
   "metadata": {},
   "outputs": [
    {
     "data": {
      "application/vnd.vegalite.v2+json": {
       "$schema": "https://vega.github.io/schema/vega-lite/v2.6.0.json",
       "config": {
        "view": {
         "height": 300,
         "width": 400
        }
       },
       "datasets": {
        "data-3bd7e66a618443af7dace92923e6d7bc": [
         {
          "camera_id": 5,
          "created": "2019-01-28T00:00:00",
          "nb_pl_tot": 145,
          "nb_pl_transit": 38,
          "nb_veh": 145,
          "pct_pl_transit": 26.20689655172414,
          "type": "PL total",
          "type_x": "PL total",
          "type_y": "PL transit"
         },
         {
          "camera_id": 5,
          "created": "2019-01-28T01:00:00",
          "nb_pl_tot": 95,
          "nb_pl_transit": 58,
          "nb_veh": 95,
          "pct_pl_transit": 61.05263157894737,
          "type": "PL total",
          "type_x": "PL total",
          "type_y": "PL transit"
         },
         {
          "camera_id": 5,
          "created": "2019-01-28T02:00:00",
          "nb_pl_tot": 24,
          "nb_pl_transit": 12,
          "nb_veh": 24,
          "pct_pl_transit": 50,
          "type": "PL total",
          "type_x": "PL total",
          "type_y": "PL transit"
         },
         {
          "camera_id": 5,
          "created": "2019-01-28T03:00:00",
          "nb_pl_tot": 30,
          "nb_pl_transit": 11,
          "nb_veh": 30,
          "pct_pl_transit": 36.666666666666664,
          "type": "PL total",
          "type_x": "PL total",
          "type_y": "PL transit"
         },
         {
          "camera_id": 5,
          "created": "2019-01-28T04:00:00",
          "nb_pl_tot": 88,
          "nb_pl_transit": 25,
          "nb_veh": 88,
          "pct_pl_transit": 28.40909090909091,
          "type": "PL total",
          "type_x": "PL total",
          "type_y": "PL transit"
         },
         {
          "camera_id": 5,
          "created": "2019-01-28T05:00:00",
          "nb_pl_tot": 161,
          "nb_pl_transit": 49,
          "nb_veh": 161,
          "pct_pl_transit": 30.434782608695652,
          "type": "PL total",
          "type_x": "PL total",
          "type_y": "PL transit"
         },
         {
          "camera_id": 5,
          "created": "2019-01-28T06:00:00",
          "nb_pl_tot": 137,
          "nb_pl_transit": 45,
          "nb_veh": 137,
          "pct_pl_transit": 32.846715328467155,
          "type": "PL total",
          "type_x": "PL total",
          "type_y": "PL transit"
         },
         {
          "camera_id": 5,
          "created": "2019-01-28T07:00:00",
          "nb_pl_tot": 168,
          "nb_pl_transit": 56,
          "nb_veh": 168,
          "pct_pl_transit": 33.333333333333336,
          "type": "PL total",
          "type_x": "PL total",
          "type_y": "PL transit"
         },
         {
          "camera_id": 5,
          "created": "2019-01-28T08:00:00",
          "nb_pl_tot": 479,
          "nb_pl_transit": 210,
          "nb_veh": 479,
          "pct_pl_transit": 43.84133611691023,
          "type": "PL total",
          "type_x": "PL total",
          "type_y": "PL transit"
         },
         {
          "camera_id": 5,
          "created": "2019-01-28T09:00:00",
          "nb_pl_tot": 540,
          "nb_pl_transit": 252,
          "nb_veh": 540,
          "pct_pl_transit": 46.666666666666664,
          "type": "PL total",
          "type_x": "PL total",
          "type_y": "PL transit"
         },
         {
          "camera_id": 5,
          "created": "2019-01-28T10:00:00",
          "nb_pl_tot": 506,
          "nb_pl_transit": 255,
          "nb_veh": 506,
          "pct_pl_transit": 50.39525691699605,
          "type": "PL total",
          "type_x": "PL total",
          "type_y": "PL transit"
         },
         {
          "camera_id": 5,
          "created": "2019-01-28T11:00:00",
          "nb_pl_tot": 502,
          "nb_pl_transit": 276,
          "nb_veh": 502,
          "pct_pl_transit": 54.9800796812749,
          "type": "PL total",
          "type_x": "PL total",
          "type_y": "PL transit"
         },
         {
          "camera_id": 5,
          "created": "2019-01-28T12:00:00",
          "nb_pl_tot": 409,
          "nb_pl_transit": 203,
          "nb_veh": 409,
          "pct_pl_transit": 49.63325183374083,
          "type": "PL total",
          "type_x": "PL total",
          "type_y": "PL transit"
         },
         {
          "camera_id": 5,
          "created": "2019-01-28T13:00:00",
          "nb_pl_tot": 472,
          "nb_pl_transit": 200,
          "nb_veh": 472,
          "pct_pl_transit": 42.3728813559322,
          "type": "PL total",
          "type_x": "PL total",
          "type_y": "PL transit"
         },
         {
          "camera_id": 5,
          "created": "2019-01-28T14:00:00",
          "nb_pl_tot": 525,
          "nb_pl_transit": 227,
          "nb_veh": 525,
          "pct_pl_transit": 43.23809523809524,
          "type": "PL total",
          "type_x": "PL total",
          "type_y": "PL transit"
         },
         {
          "camera_id": 5,
          "created": "2019-01-28T15:00:00",
          "nb_pl_tot": 453,
          "nb_pl_transit": 181,
          "nb_veh": 453,
          "pct_pl_transit": 39.95584988962472,
          "type": "PL total",
          "type_x": "PL total",
          "type_y": "PL transit"
         },
         {
          "camera_id": 5,
          "created": "2019-01-28T16:00:00",
          "nb_pl_tot": 452,
          "nb_pl_transit": 210,
          "nb_veh": 452,
          "pct_pl_transit": 46.46017699115044,
          "type": "PL total",
          "type_x": "PL total",
          "type_y": "PL transit"
         },
         {
          "camera_id": 5,
          "created": "2019-01-28T17:00:00",
          "nb_pl_tot": 241,
          "nb_pl_transit": 113,
          "nb_veh": 241,
          "pct_pl_transit": 46.88796680497925,
          "type": "PL total",
          "type_x": "PL total",
          "type_y": "PL transit"
         },
         {
          "camera_id": 5,
          "created": "2019-01-28T18:00:00",
          "nb_pl_tot": 193,
          "nb_pl_transit": 91,
          "nb_veh": 193,
          "pct_pl_transit": 47.15025906735751,
          "type": "PL total",
          "type_x": "PL total",
          "type_y": "PL transit"
         },
         {
          "camera_id": 5,
          "created": "2019-01-28T19:00:00",
          "nb_pl_tot": 135,
          "nb_pl_transit": 66,
          "nb_veh": 135,
          "pct_pl_transit": 48.888888888888886,
          "type": "PL total",
          "type_x": "PL total",
          "type_y": "PL transit"
         },
         {
          "camera_id": 5,
          "created": "2019-01-28T20:00:00",
          "nb_pl_tot": 95,
          "nb_pl_transit": 54,
          "nb_veh": 95,
          "pct_pl_transit": 56.8421052631579,
          "type": "PL total",
          "type_x": "PL total",
          "type_y": "PL transit"
         },
         {
          "camera_id": 5,
          "created": "2019-01-28T21:00:00",
          "nb_pl_tot": 103,
          "nb_pl_transit": 71,
          "nb_veh": 103,
          "pct_pl_transit": 68.93203883495146,
          "type": "PL total",
          "type_x": "PL total",
          "type_y": "PL transit"
         },
         {
          "camera_id": 5,
          "created": "2019-01-28T22:00:00",
          "nb_pl_tot": 91,
          "nb_pl_transit": 61,
          "nb_veh": 91,
          "pct_pl_transit": 67.03296703296704,
          "type": "PL total",
          "type_x": "PL total",
          "type_y": "PL transit"
         },
         {
          "camera_id": 5,
          "created": "2019-01-28T23:00:00",
          "nb_pl_tot": 78,
          "nb_pl_transit": 37,
          "nb_veh": 78,
          "pct_pl_transit": 47.43589743589744,
          "type": "PL total",
          "type_x": "PL total",
          "type_y": "PL transit"
         },
         {
          "camera_id": 5,
          "created": "2019-01-28T00:00:00",
          "nb_pl_tot": 145,
          "nb_pl_transit": 38,
          "nb_veh": 183,
          "pct_pl_transit": 26.20689655172414,
          "type": "VL total",
          "type_x": "PL total",
          "type_y": "PL transit"
         },
         {
          "camera_id": 5,
          "created": "2019-01-28T01:00:00",
          "nb_pl_tot": 95,
          "nb_pl_transit": 58,
          "nb_veh": 75,
          "pct_pl_transit": 61.05263157894737,
          "type": "VL total",
          "type_x": "PL total",
          "type_y": "PL transit"
         },
         {
          "camera_id": 5,
          "created": "2019-01-28T02:00:00",
          "nb_pl_tot": 24,
          "nb_pl_transit": 12,
          "nb_veh": 16,
          "pct_pl_transit": 50,
          "type": "VL total",
          "type_x": "PL total",
          "type_y": "PL transit"
         },
         {
          "camera_id": 5,
          "created": "2019-01-28T03:00:00",
          "nb_pl_tot": 30,
          "nb_pl_transit": 11,
          "nb_veh": 24,
          "pct_pl_transit": 36.666666666666664,
          "type": "VL total",
          "type_x": "PL total",
          "type_y": "PL transit"
         },
         {
          "camera_id": 5,
          "created": "2019-01-28T04:00:00",
          "nb_pl_tot": 88,
          "nb_pl_transit": 25,
          "nb_veh": 67,
          "pct_pl_transit": 28.40909090909091,
          "type": "VL total",
          "type_x": "PL total",
          "type_y": "PL transit"
         },
         {
          "camera_id": 5,
          "created": "2019-01-28T05:00:00",
          "nb_pl_tot": 161,
          "nb_pl_transit": 49,
          "nb_veh": 300,
          "pct_pl_transit": 30.434782608695652,
          "type": "VL total",
          "type_x": "PL total",
          "type_y": "PL transit"
         },
         {
          "camera_id": 5,
          "created": "2019-01-28T06:00:00",
          "nb_pl_tot": 137,
          "nb_pl_transit": 45,
          "nb_veh": 489,
          "pct_pl_transit": 32.846715328467155,
          "type": "VL total",
          "type_x": "PL total",
          "type_y": "PL transit"
         },
         {
          "camera_id": 5,
          "created": "2019-01-28T07:00:00",
          "nb_pl_tot": 168,
          "nb_pl_transit": 56,
          "nb_veh": 915,
          "pct_pl_transit": 33.333333333333336,
          "type": "VL total",
          "type_x": "PL total",
          "type_y": "PL transit"
         },
         {
          "camera_id": 5,
          "created": "2019-01-28T08:00:00",
          "nb_pl_tot": 479,
          "nb_pl_transit": 210,
          "nb_veh": 1288,
          "pct_pl_transit": 43.84133611691023,
          "type": "VL total",
          "type_x": "PL total",
          "type_y": "PL transit"
         },
         {
          "camera_id": 5,
          "created": "2019-01-28T09:00:00",
          "nb_pl_tot": 540,
          "nb_pl_transit": 252,
          "nb_veh": 1153,
          "pct_pl_transit": 46.666666666666664,
          "type": "VL total",
          "type_x": "PL total",
          "type_y": "PL transit"
         },
         {
          "camera_id": 5,
          "created": "2019-01-28T10:00:00",
          "nb_pl_tot": 506,
          "nb_pl_transit": 255,
          "nb_veh": 1088,
          "pct_pl_transit": 50.39525691699605,
          "type": "VL total",
          "type_x": "PL total",
          "type_y": "PL transit"
         },
         {
          "camera_id": 5,
          "created": "2019-01-28T11:00:00",
          "nb_pl_tot": 502,
          "nb_pl_transit": 276,
          "nb_veh": 1198,
          "pct_pl_transit": 54.9800796812749,
          "type": "VL total",
          "type_x": "PL total",
          "type_y": "PL transit"
         },
         {
          "camera_id": 5,
          "created": "2019-01-28T12:00:00",
          "nb_pl_tot": 409,
          "nb_pl_transit": 203,
          "nb_veh": 968,
          "pct_pl_transit": 49.63325183374083,
          "type": "VL total",
          "type_x": "PL total",
          "type_y": "PL transit"
         },
         {
          "camera_id": 5,
          "created": "2019-01-28T13:00:00",
          "nb_pl_tot": 472,
          "nb_pl_transit": 200,
          "nb_veh": 1081,
          "pct_pl_transit": 42.3728813559322,
          "type": "VL total",
          "type_x": "PL total",
          "type_y": "PL transit"
         },
         {
          "camera_id": 5,
          "created": "2019-01-28T14:00:00",
          "nb_pl_tot": 525,
          "nb_pl_transit": 227,
          "nb_veh": 1285,
          "pct_pl_transit": 43.23809523809524,
          "type": "VL total",
          "type_x": "PL total",
          "type_y": "PL transit"
         },
         {
          "camera_id": 5,
          "created": "2019-01-28T15:00:00",
          "nb_pl_tot": 453,
          "nb_pl_transit": 181,
          "nb_veh": 1518,
          "pct_pl_transit": 39.95584988962472,
          "type": "VL total",
          "type_x": "PL total",
          "type_y": "PL transit"
         },
         {
          "camera_id": 5,
          "created": "2019-01-28T16:00:00",
          "nb_pl_tot": 452,
          "nb_pl_transit": 210,
          "nb_veh": 1980,
          "pct_pl_transit": 46.46017699115044,
          "type": "VL total",
          "type_x": "PL total",
          "type_y": "PL transit"
         },
         {
          "camera_id": 5,
          "created": "2019-01-28T17:00:00",
          "nb_pl_tot": 241,
          "nb_pl_transit": 113,
          "nb_veh": 980,
          "pct_pl_transit": 46.88796680497925,
          "type": "VL total",
          "type_x": "PL total",
          "type_y": "PL transit"
         },
         {
          "camera_id": 5,
          "created": "2019-01-28T18:00:00",
          "nb_pl_tot": 193,
          "nb_pl_transit": 91,
          "nb_veh": 333,
          "pct_pl_transit": 47.15025906735751,
          "type": "VL total",
          "type_x": "PL total",
          "type_y": "PL transit"
         },
         {
          "camera_id": 5,
          "created": "2019-01-28T19:00:00",
          "nb_pl_tot": 135,
          "nb_pl_transit": 66,
          "nb_veh": 217,
          "pct_pl_transit": 48.888888888888886,
          "type": "VL total",
          "type_x": "PL total",
          "type_y": "PL transit"
         },
         {
          "camera_id": 5,
          "created": "2019-01-28T20:00:00",
          "nb_pl_tot": 95,
          "nb_pl_transit": 54,
          "nb_veh": 105,
          "pct_pl_transit": 56.8421052631579,
          "type": "VL total",
          "type_x": "PL total",
          "type_y": "PL transit"
         },
         {
          "camera_id": 5,
          "created": "2019-01-28T21:00:00",
          "nb_pl_tot": 103,
          "nb_pl_transit": 71,
          "nb_veh": 107,
          "pct_pl_transit": 68.93203883495146,
          "type": "VL total",
          "type_x": "PL total",
          "type_y": "PL transit"
         },
         {
          "camera_id": 5,
          "created": "2019-01-28T22:00:00",
          "nb_pl_tot": 91,
          "nb_pl_transit": 61,
          "nb_veh": 67,
          "pct_pl_transit": 67.03296703296704,
          "type": "VL total",
          "type_x": "PL total",
          "type_y": "PL transit"
         },
         {
          "camera_id": 5,
          "created": "2019-01-28T23:00:00",
          "nb_pl_tot": 78,
          "nb_pl_transit": 37,
          "nb_veh": 61,
          "pct_pl_transit": 47.43589743589744,
          "type": "VL total",
          "type_x": "PL total",
          "type_y": "PL transit"
         },
         {
          "camera_id": 5,
          "created": "2019-01-28T00:00:00",
          "nb_pl_tot": 145,
          "nb_pl_transit": 38,
          "nb_veh": 38,
          "pct_pl_transit": 26.20689655172414,
          "type": "PL transit",
          "type_x": "PL total",
          "type_y": "PL transit"
         },
         {
          "camera_id": 5,
          "created": "2019-01-28T01:00:00",
          "nb_pl_tot": 95,
          "nb_pl_transit": 58,
          "nb_veh": 58,
          "pct_pl_transit": 61.05263157894737,
          "type": "PL transit",
          "type_x": "PL total",
          "type_y": "PL transit"
         },
         {
          "camera_id": 5,
          "created": "2019-01-28T02:00:00",
          "nb_pl_tot": 24,
          "nb_pl_transit": 12,
          "nb_veh": 12,
          "pct_pl_transit": 50,
          "type": "PL transit",
          "type_x": "PL total",
          "type_y": "PL transit"
         },
         {
          "camera_id": 5,
          "created": "2019-01-28T03:00:00",
          "nb_pl_tot": 30,
          "nb_pl_transit": 11,
          "nb_veh": 11,
          "pct_pl_transit": 36.666666666666664,
          "type": "PL transit",
          "type_x": "PL total",
          "type_y": "PL transit"
         },
         {
          "camera_id": 5,
          "created": "2019-01-28T04:00:00",
          "nb_pl_tot": 88,
          "nb_pl_transit": 25,
          "nb_veh": 25,
          "pct_pl_transit": 28.40909090909091,
          "type": "PL transit",
          "type_x": "PL total",
          "type_y": "PL transit"
         },
         {
          "camera_id": 5,
          "created": "2019-01-28T05:00:00",
          "nb_pl_tot": 161,
          "nb_pl_transit": 49,
          "nb_veh": 49,
          "pct_pl_transit": 30.434782608695652,
          "type": "PL transit",
          "type_x": "PL total",
          "type_y": "PL transit"
         },
         {
          "camera_id": 5,
          "created": "2019-01-28T06:00:00",
          "nb_pl_tot": 137,
          "nb_pl_transit": 45,
          "nb_veh": 45,
          "pct_pl_transit": 32.846715328467155,
          "type": "PL transit",
          "type_x": "PL total",
          "type_y": "PL transit"
         },
         {
          "camera_id": 5,
          "created": "2019-01-28T07:00:00",
          "nb_pl_tot": 168,
          "nb_pl_transit": 56,
          "nb_veh": 56,
          "pct_pl_transit": 33.333333333333336,
          "type": "PL transit",
          "type_x": "PL total",
          "type_y": "PL transit"
         },
         {
          "camera_id": 5,
          "created": "2019-01-28T08:00:00",
          "nb_pl_tot": 479,
          "nb_pl_transit": 210,
          "nb_veh": 210,
          "pct_pl_transit": 43.84133611691023,
          "type": "PL transit",
          "type_x": "PL total",
          "type_y": "PL transit"
         },
         {
          "camera_id": 5,
          "created": "2019-01-28T09:00:00",
          "nb_pl_tot": 540,
          "nb_pl_transit": 252,
          "nb_veh": 252,
          "pct_pl_transit": 46.666666666666664,
          "type": "PL transit",
          "type_x": "PL total",
          "type_y": "PL transit"
         },
         {
          "camera_id": 5,
          "created": "2019-01-28T10:00:00",
          "nb_pl_tot": 506,
          "nb_pl_transit": 255,
          "nb_veh": 255,
          "pct_pl_transit": 50.39525691699605,
          "type": "PL transit",
          "type_x": "PL total",
          "type_y": "PL transit"
         },
         {
          "camera_id": 5,
          "created": "2019-01-28T11:00:00",
          "nb_pl_tot": 502,
          "nb_pl_transit": 276,
          "nb_veh": 276,
          "pct_pl_transit": 54.9800796812749,
          "type": "PL transit",
          "type_x": "PL total",
          "type_y": "PL transit"
         },
         {
          "camera_id": 5,
          "created": "2019-01-28T12:00:00",
          "nb_pl_tot": 409,
          "nb_pl_transit": 203,
          "nb_veh": 203,
          "pct_pl_transit": 49.63325183374083,
          "type": "PL transit",
          "type_x": "PL total",
          "type_y": "PL transit"
         },
         {
          "camera_id": 5,
          "created": "2019-01-28T13:00:00",
          "nb_pl_tot": 472,
          "nb_pl_transit": 200,
          "nb_veh": 200,
          "pct_pl_transit": 42.3728813559322,
          "type": "PL transit",
          "type_x": "PL total",
          "type_y": "PL transit"
         },
         {
          "camera_id": 5,
          "created": "2019-01-28T14:00:00",
          "nb_pl_tot": 525,
          "nb_pl_transit": 227,
          "nb_veh": 227,
          "pct_pl_transit": 43.23809523809524,
          "type": "PL transit",
          "type_x": "PL total",
          "type_y": "PL transit"
         },
         {
          "camera_id": 5,
          "created": "2019-01-28T15:00:00",
          "nb_pl_tot": 453,
          "nb_pl_transit": 181,
          "nb_veh": 181,
          "pct_pl_transit": 39.95584988962472,
          "type": "PL transit",
          "type_x": "PL total",
          "type_y": "PL transit"
         },
         {
          "camera_id": 5,
          "created": "2019-01-28T16:00:00",
          "nb_pl_tot": 452,
          "nb_pl_transit": 210,
          "nb_veh": 210,
          "pct_pl_transit": 46.46017699115044,
          "type": "PL transit",
          "type_x": "PL total",
          "type_y": "PL transit"
         },
         {
          "camera_id": 5,
          "created": "2019-01-28T17:00:00",
          "nb_pl_tot": 241,
          "nb_pl_transit": 113,
          "nb_veh": 113,
          "pct_pl_transit": 46.88796680497925,
          "type": "PL transit",
          "type_x": "PL total",
          "type_y": "PL transit"
         },
         {
          "camera_id": 5,
          "created": "2019-01-28T18:00:00",
          "nb_pl_tot": 193,
          "nb_pl_transit": 91,
          "nb_veh": 91,
          "pct_pl_transit": 47.15025906735751,
          "type": "PL transit",
          "type_x": "PL total",
          "type_y": "PL transit"
         },
         {
          "camera_id": 5,
          "created": "2019-01-28T19:00:00",
          "nb_pl_tot": 135,
          "nb_pl_transit": 66,
          "nb_veh": 66,
          "pct_pl_transit": 48.888888888888886,
          "type": "PL transit",
          "type_x": "PL total",
          "type_y": "PL transit"
         },
         {
          "camera_id": 5,
          "created": "2019-01-28T20:00:00",
          "nb_pl_tot": 95,
          "nb_pl_transit": 54,
          "nb_veh": 54,
          "pct_pl_transit": 56.8421052631579,
          "type": "PL transit",
          "type_x": "PL total",
          "type_y": "PL transit"
         },
         {
          "camera_id": 5,
          "created": "2019-01-28T21:00:00",
          "nb_pl_tot": 103,
          "nb_pl_transit": 71,
          "nb_veh": 71,
          "pct_pl_transit": 68.93203883495146,
          "type": "PL transit",
          "type_x": "PL total",
          "type_y": "PL transit"
         },
         {
          "camera_id": 5,
          "created": "2019-01-28T22:00:00",
          "nb_pl_tot": 91,
          "nb_pl_transit": 61,
          "nb_veh": 61,
          "pct_pl_transit": 67.03296703296704,
          "type": "PL transit",
          "type_x": "PL total",
          "type_y": "PL transit"
         },
         {
          "camera_id": 5,
          "created": "2019-01-28T23:00:00",
          "nb_pl_tot": 78,
          "nb_pl_transit": 37,
          "nb_veh": 37,
          "pct_pl_transit": 47.43589743589744,
          "type": "PL transit",
          "type_x": "PL total",
          "type_y": "PL transit"
         }
        ]
       },
       "vconcat": [
        {
         "layer": [
          {
           "data": {
            "name": "data-3bd7e66a618443af7dace92923e6d7bc"
           },
           "encoding": {
            "color": {
             "field": "type",
             "type": "nominal"
            },
            "x": {
             "axis": {
              "format": "%H:%M",
              "title": "Heure"
             },
             "field": "created",
             "type": "temporal"
            },
            "y": {
             "axis": {
              "title": "Nb de véhicules"
             },
             "field": "nb_veh",
             "stack": null,
             "type": "quantitative"
            }
           },
           "mark": {
            "opacity": 0.7,
            "size": 20,
            "type": "bar"
           }
          },
          {
           "data": {
            "name": "data-3bd7e66a618443af7dace92923e6d7bc"
           },
           "encoding": {
            "x": {
             "axis": {
              "format": "%H:%M",
              "title": "Heure"
             },
             "field": "created",
             "type": "temporal"
            },
            "y": {
             "axis": {
              "title": "% de PL en transit"
             },
             "field": "pct_pl_transit",
             "type": "quantitative"
            }
           },
           "mark": {
            "color": "green",
            "type": "line"
           }
          }
         ],
         "resolve": {
          "scale": {
           "color": "shared",
           "x": "shared",
           "y": "independent"
          }
         },
         "width": 800
        },
        {
         "layer": [
          {
           "data": {
            "name": "data-3bd7e66a618443af7dace92923e6d7bc"
           },
           "encoding": {
            "color": {
             "field": "type",
             "type": "nominal"
            },
            "x": {
             "axis": {
              "format": "%H:%M",
              "title": "Heure"
             },
             "field": "created",
             "type": "temporal"
            },
            "y": {
             "axis": {
              "title": "Nb de véhicules"
             },
             "field": "nb_veh",
             "stack": null,
             "type": "quantitative"
            }
           },
           "mark": {
            "opacity": 0.7,
            "size": 20,
            "type": "bar"
           }
          },
          {
           "data": {
            "name": "data-3bd7e66a618443af7dace92923e6d7bc"
           },
           "encoding": {
            "x": {
             "axis": {
              "format": "%H:%M",
              "title": "Heure"
             },
             "field": "created",
             "type": "temporal"
            },
            "y": {
             "axis": {
              "title": "% de PL en transit"
             },
             "field": "pct_pl_transit",
             "type": "quantitative"
            }
           },
           "mark": {
            "color": "green",
            "type": "line"
           }
          }
         ],
         "resolve": {
          "scale": {
           "color": "shared",
           "x": "shared",
           "y": "independent"
          }
         },
         "width": 800
        }
       ]
      },
      "image/png": "[encoded data removed]",
      "text/plain": [
       "<VegaLite 2 object>\n",
       "\n",
       "If you see this message, it means the renderer has not been properly enabled\n",
       "for the frontend that you are using. For more information, see\n",
       "https://altair-viz.github.io/user_guide/troubleshooting.html\n"
      ]
     },
     "execution_count": 57,
     "metadata": {},
     "output_type": "execute_result"
    }
   ],
   "source": [
    "alt.vconcat(g.graph_VL_PL_transit_j_cam(synt_nb_veh_cam, '2019-01-28', 5),g.graph_VL_PL_transit_j_cam(synt_nb_veh_cam_redresse, '2019-01-28', 5))"
   ]
  },
  {
   "cell_type": "markdown",
   "metadata": {},
   "source": [
    "## 7.3 Redressement des trajets extrapoles"
   ]
  },
  {
   "cell_type": "code",
   "execution_count": null,
   "metadata": {},
   "outputs": [],
   "source": [
    "# de même que opur la rocade, il faut ajouter des passages fictifs à la df des passages afin de pouvoir approximer mieux les parts de PL\n",
    "#trouver les passages extrapoles\n",
    "# ajouter un attribut du type d'extrapolation : cam debut ou cam fin\n",
    "#selon l'o_d crééer un passage fictuf avec le numero de la camera qui manque du trajets sensé avoir eu leiu\n",
    "#estimer le temps de passage selon le temps theorique : date_cam_1 ou 2 +ou- temps ou temps theorique"
   ]
  }
 ],
 "metadata": {
  "kernelspec": {
   "display_name": "Python 3",
   "language": "python",
   "name": "python3"
  },
  "language_info": {
   "codemirror_mode": {
    "name": "ipython",
    "version": 3
   },
   "file_extension": ".py",
   "mimetype": "text/x-python",
   "name": "python",
   "nbconvert_exporter": "python",
   "pygments_lexer": "ipython3",
   "version": "3.7.0"
  }
 },
 "nbformat": 4,
 "nbformat_minor": 2
}
