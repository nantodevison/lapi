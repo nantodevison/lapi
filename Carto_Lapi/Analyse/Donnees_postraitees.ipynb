{
 "cells": [
  {
   "cell_type": "markdown",
   "metadata": {},
   "source": [
    "# Notebook de test des données lapi post-traitees"
   ]
  },
  {
   "cell_type": "code",
   "execution_count": 65,
   "metadata": {},
   "outputs": [
    {
     "name": "stdout",
     "output_type": "stream",
     "text": [
      "The autoreload extension is already loaded. To reload it, use:\n",
      "  %reload_ext autoreload\n"
     ]
    }
   ],
   "source": [
    "%load_ext autoreload\n",
    "%autoreload \n",
    "import sys #c'est pas propre mais pour le moment pour importer mes modules perso dans le notebook je ne sais pas faire\n",
    "sys.path.append(r'C:\\Users\\martin.schoreisz\\git\\Outils\\Outils\\Martin_Perso')\n",
    "import Connexion_Transfert as ct\n",
    "import donnees_posttraitees as t\n",
    "import graphs as g\n",
    "import pandas as pd\n",
    "import geopandas as gpd\n",
    "import numpy as np\n",
    "import altair as alt\n",
    "import datetime as dt\n",
    "pd.set_option('display.max_colwidth', 1000)\n",
    "pd.set_option('display.max_columns', 500)\n",
    "#pd.set_option('display.max_rows', 50)\n",
    "alt.data_transformers.enable('default', max_rows=None)\n",
    "import os, math, re\n",
    "from sklearn.cluster import DBSCAN\n",
    "from sklearn import svm,datasets\n",
    "import matplotlib.pyplot as plt"
   ]
  },
  {
   "cell_type": "markdown",
   "metadata": {},
   "source": [
    "# 1. import des données, traitement de mise en forme\n",
    "## 1.1 Import\n",
    "Les données sont importées sur la période du 24/01/19 au 23/02/19, sur laquelle il n'y a pas de manque de données à priori"
   ]
  },
  {
   "cell_type": "code",
   "execution_count": 2,
   "metadata": {},
   "outputs": [
    {
     "name": "stdout",
     "output_type": "stream",
     "text": [
      "Wall time: 2min 44s\n"
     ]
    }
   ],
   "source": [
    "%time df_passages, df_plaques, df_immat=t.ouvrir_fichier_lapi_final('2019-01-23 00:00:00','2019-02-13 23:59:59')"
   ]
  },
  {
   "cell_type": "code",
   "execution_count": null,
   "metadata": {},
   "outputs": [],
   "source": [
    "#export au format svg des données TV\n",
    "for i in range(1,20) :\n",
    "    chemin=os.path.join(r'Q:\\DAIT\\TI\\DREAL33\\2018\\C17SI0073_LAPI\\Traitements\\python\\graphs\\nb_veh_J_cam',f'cam{i}.svg')\n",
    "    g.graph_nb_veh_jour_camera_multi_j(df_passages,'2019-01-23 00:00:00','2019-01-23 23:59:59',i,22).save(chemin)"
   ]
  },
  {
   "cell_type": "markdown",
   "metadata": {},
   "source": [
    "## 1.3 Ajout de l'attribut de différenciation VL / PL"
   ]
  },
  {
   "cell_type": "code",
   "execution_count": 7,
   "metadata": {},
   "outputs": [
    {
     "name": "stdout",
     "output_type": "stream",
     "text": [
      "Wall time: 4min 19s\n"
     ]
    }
   ],
   "source": [
    "%time df_passages2=t.affecter_type(df_passages,df_immat)"
   ]
  },
  {
   "cell_type": "code",
   "execution_count": 8,
   "metadata": {},
   "outputs": [
    {
     "name": "stdout",
     "output_type": "stream",
     "text": [
      "Wall time: 49.1 s\n"
     ]
    }
   ],
   "source": [
    "%time df_passages3=t.affecter_type_nuit(df_passages2,df_immat)"
   ]
  },
  {
   "cell_type": "markdown",
   "metadata": {},
   "source": [
    "### différenciation VL / PL"
   ]
  },
  {
   "cell_type": "code",
   "execution_count": 9,
   "metadata": {},
   "outputs": [],
   "source": [
    "df_passages_pl=df_passages3.loc[df_passages3['l']==1].copy()"
   ]
  },
  {
   "cell_type": "markdown",
   "metadata": {},
   "source": [
    "## 1.2. Suppression des doublons"
   ]
  },
  {
   "cell_type": "markdown",
   "metadata": {},
   "source": [
    "### 1.2.1 Doublons"
   ]
  },
  {
   "cell_type": "code",
   "execution_count": 10,
   "metadata": {},
   "outputs": [
    {
     "name": "stdout",
     "output_type": "stream",
     "text": [
      "Wall time: 7.87 s\n"
     ]
    }
   ],
   "source": [
    "%time df_passages_ss_doublons=t.supprimer_doublons(df_passages_pl)"
   ]
  },
  {
   "cell_type": "markdown",
   "metadata": {},
   "source": [
    "### 1.2.2 passages proches"
   ]
  },
  {
   "cell_type": "code",
   "execution_count": null,
   "metadata": {},
   "outputs": [],
   "source": [
    "#pour visu\n",
    "%time groupe_pl_rappro, groupe_pl=t.passages_proches(df_passages_ss_doublons)\n",
    "jointure = g.analyse_passage_proches(groupe_pl_rappro, groupe_pl)\n",
    "g.graph_passages_proches(jointure, groupe_pl_rappro)"
   ]
  },
  {
   "cell_type": "code",
   "execution_count": 11,
   "metadata": {},
   "outputs": [
    {
     "name": "stdout",
     "output_type": "stream",
     "text": [
      "Wall time: 1min 23s\n"
     ]
    }
   ],
   "source": [
    "#pour traitement\n",
    "%time passg_recale_cam10=t.recalage_cam10(df_passages_ss_doublons)"
   ]
  },
  {
   "cell_type": "markdown",
   "metadata": {},
   "source": [
    "## 1.4. Filtre des immatriculations non cohérentes"
   ]
  },
  {
   "cell_type": "code",
   "execution_count": 12,
   "metadata": {},
   "outputs": [
    {
     "name": "stderr",
     "output_type": "stream",
     "text": [
      "C:\\Users\\martin.schoreisz\\git\\lapi\\Carto_Lapi\\Analyse\\donnees_posttraitees.py:173: FutureWarning: Possible nested set at position 30\n",
      "  return any([re.match(retest,plque_ouvert) for retest in plaques_europ.re_plaque.tolist()])\n"
     ]
    },
    {
     "name": "stdout",
     "output_type": "stream",
     "text": [
      "Wall time: 5min 11s\n",
      "Parser   : 111 ms\n"
     ]
    }
   ],
   "source": [
    "%time df_passages_immat_ok, df_immat_suppr=t.filtre_plaque_non_valable(passg_recale_cam10, df_plaques)"
   ]
  },
  {
   "cell_type": "markdown",
   "metadata": {},
   "source": [
    "***tests sur les passages non affectés à du transit***"
   ]
  },
  {
   "cell_type": "code",
   "execution_count": 14,
   "metadata": {},
   "outputs": [],
   "source": [
    "toto=df_passages_immat_ok.reset_index().set_index(['created', 'immat', 'camera_id'])"
   ]
  },
  {
   "cell_type": "code",
   "execution_count": 15,
   "metadata": {},
   "outputs": [],
   "source": [
    "toto=toto.loc[~toto.index.isin(dico_passag.set_index(['created', 'immat', 'camera_id']).index.tolist())]\n",
    "toto=toto.reset_index()"
   ]
  },
  {
   "cell_type": "code",
   "execution_count": 17,
   "metadata": {},
   "outputs": [],
   "source": [
    "tata=toto.sort_values('created').groupby('immat').agg({'camera_id':lambda x : tuple(x),'created':lambda x: tuple(x)})"
   ]
  },
  {
   "cell_type": "code",
   "execution_count": null,
   "metadata": {},
   "outputs": [],
   "source": [
    "tata"
   ]
  },
  {
   "cell_type": "code",
   "execution_count": 20,
   "metadata": {},
   "outputs": [
    {
     "data": {
      "text/html": [
       "<div>\n",
       "<style scoped>\n",
       "    .dataframe tbody tr th:only-of-type {\n",
       "        vertical-align: middle;\n",
       "    }\n",
       "\n",
       "    .dataframe tbody tr th {\n",
       "        vertical-align: top;\n",
       "    }\n",
       "\n",
       "    .dataframe thead th {\n",
       "        text-align: right;\n",
       "    }\n",
       "</style>\n",
       "<table border=\"1\" class=\"dataframe\">\n",
       "  <thead>\n",
       "    <tr style=\"text-align: right;\">\n",
       "      <th></th>\n",
       "      <th>index</th>\n",
       "      <th>camera_id</th>\n",
       "      <th>immat</th>\n",
       "      <th>fiability</th>\n",
       "      <th>l</th>\n",
       "      <th>state</th>\n",
       "    </tr>\n",
       "    <tr>\n",
       "      <th>created</th>\n",
       "      <th></th>\n",
       "      <th></th>\n",
       "      <th></th>\n",
       "      <th></th>\n",
       "      <th></th>\n",
       "      <th></th>\n",
       "    </tr>\n",
       "  </thead>\n",
       "  <tbody>\n",
       "    <tr>\n",
       "      <th>2019-01-25 03:54:00</th>\n",
       "      <td>5900202</td>\n",
       "      <td>15</td>\n",
       "      <td>fffc52d900fc8a7b3fc5a3b6c99ce7d4478b54eb</td>\n",
       "      <td>99</td>\n",
       "      <td>1.0</td>\n",
       "      <td>BE</td>\n",
       "    </tr>\n",
       "    <tr>\n",
       "      <th>2019-01-25 04:56:50</th>\n",
       "      <td>904260</td>\n",
       "      <td>4</td>\n",
       "      <td>fffc52d900fc8a7b3fc5a3b6c99ce7d4478b54eb</td>\n",
       "      <td>58</td>\n",
       "      <td>1.0</td>\n",
       "      <td>BE</td>\n",
       "    </tr>\n",
       "    <tr>\n",
       "      <th>2019-01-27 11:55:40</th>\n",
       "      <td>6885387</td>\n",
       "      <td>6</td>\n",
       "      <td>fffc52d900fc8a7b3fc5a3b6c99ce7d4478b54eb</td>\n",
       "      <td>99</td>\n",
       "      <td>1.0</td>\n",
       "      <td>BE</td>\n",
       "    </tr>\n",
       "    <tr>\n",
       "      <th>2019-01-27 12:06:50</th>\n",
       "      <td>701187</td>\n",
       "      <td>3</td>\n",
       "      <td>fffc52d900fc8a7b3fc5a3b6c99ce7d4478b54eb</td>\n",
       "      <td>99</td>\n",
       "      <td>1.0</td>\n",
       "      <td>BE</td>\n",
       "    </tr>\n",
       "    <tr>\n",
       "      <th>2019-01-27 12:26:00</th>\n",
       "      <td>1184558</td>\n",
       "      <td>18</td>\n",
       "      <td>fffc52d900fc8a7b3fc5a3b6c99ce7d4478b54eb</td>\n",
       "      <td>58</td>\n",
       "      <td>1.0</td>\n",
       "      <td>BE</td>\n",
       "    </tr>\n",
       "    <tr>\n",
       "      <th>2019-01-27 13:11:31</th>\n",
       "      <td>1774968</td>\n",
       "      <td>13</td>\n",
       "      <td>fffc52d900fc8a7b3fc5a3b6c99ce7d4478b54eb</td>\n",
       "      <td>99</td>\n",
       "      <td>1.0</td>\n",
       "      <td>BE</td>\n",
       "    </tr>\n",
       "  </tbody>\n",
       "</table>\n",
       "</div>"
      ],
      "text/plain": [
       "                       index  camera_id  \\\n",
       "created                                   \n",
       "2019-01-25 03:54:00  5900202         15   \n",
       "2019-01-25 04:56:50   904260          4   \n",
       "2019-01-27 11:55:40  6885387          6   \n",
       "2019-01-27 12:06:50   701187          3   \n",
       "2019-01-27 12:26:00  1184558         18   \n",
       "2019-01-27 13:11:31  1774968         13   \n",
       "\n",
       "                                                        immat  fiability    l  \\\n",
       "created                                                                         \n",
       "2019-01-25 03:54:00  fffc52d900fc8a7b3fc5a3b6c99ce7d4478b54eb         99  1.0   \n",
       "2019-01-25 04:56:50  fffc52d900fc8a7b3fc5a3b6c99ce7d4478b54eb         58  1.0   \n",
       "2019-01-27 11:55:40  fffc52d900fc8a7b3fc5a3b6c99ce7d4478b54eb         99  1.0   \n",
       "2019-01-27 12:06:50  fffc52d900fc8a7b3fc5a3b6c99ce7d4478b54eb         99  1.0   \n",
       "2019-01-27 12:26:00  fffc52d900fc8a7b3fc5a3b6c99ce7d4478b54eb         58  1.0   \n",
       "2019-01-27 13:11:31  fffc52d900fc8a7b3fc5a3b6c99ce7d4478b54eb         99  1.0   \n",
       "\n",
       "                    state  \n",
       "created                    \n",
       "2019-01-25 03:54:00    BE  \n",
       "2019-01-25 04:56:50    BE  \n",
       "2019-01-27 11:55:40    BE  \n",
       "2019-01-27 12:06:50    BE  \n",
       "2019-01-27 12:26:00    BE  \n",
       "2019-01-27 13:11:31    BE  "
      ]
     },
     "execution_count": 20,
     "metadata": {},
     "output_type": "execute_result"
    }
   ],
   "source": [
    "df_passages_pl.loc[df_passages_pl['immat']=='fffc52d900fc8a7b3fc5a3b6c99ce7d4478b54eb']"
   ]
  },
  {
   "cell_type": "markdown",
   "metadata": {},
   "source": [
    "# 2. Identifier les trajets de transit"
   ]
  },
  {
   "cell_type": "code",
   "execution_count": 13,
   "metadata": {},
   "outputs": [
    {
     "name": "stdout",
     "output_type": "stream",
     "text": [
      "date : 2019-01-23 00:00:00 debut_traitement : 2019-05-24 10:58:38.027480\n",
      "date : 2019-01-24 00:00:00 debut_traitement : 2019-05-24 10:59:34.965139\n",
      "date : 2019-01-25 00:00:00 debut_traitement : 2019-05-24 11:00:31.670379\n",
      "date : 2019-01-26 00:00:00 debut_traitement : 2019-05-24 11:01:27.828827\n",
      "date : 2019-01-27 00:00:00 debut_traitement : 2019-05-24 11:02:17.891721\n",
      "date : 2019-01-28 00:00:00 debut_traitement : 2019-05-24 11:02:59.142837\n",
      "date : 2019-01-29 00:00:00 debut_traitement : 2019-05-24 11:04:10.270731\n",
      "date : 2019-01-30 00:00:00 debut_traitement : 2019-05-24 11:05:32.797048\n",
      "date : 2019-01-31 00:00:00 debut_traitement : 2019-05-24 11:06:54.723870\n",
      "date : 2019-02-01 00:00:00 debut_traitement : 2019-05-24 11:08:22.452906\n",
      "date : 2019-02-02 00:00:00 debut_traitement : 2019-05-24 11:10:00.179550\n",
      "date : 2019-02-03 00:00:00 debut_traitement : 2019-05-24 11:11:32.141981\n",
      "date : 2019-02-04 00:00:00 debut_traitement : 2019-05-24 11:12:48.264378\n",
      "date : 2019-02-05 00:00:00 debut_traitement : 2019-05-24 11:14:44.752166\n",
      "date : 2019-02-06 00:00:00 debut_traitement : 2019-05-24 11:16:59.539307\n",
      "date : 2019-02-07 00:00:00 debut_traitement : 2019-05-24 11:19:04.102921\n",
      "date : 2019-02-08 00:00:00 debut_traitement : 2019-05-24 11:21:32.995288\n",
      "date : 2019-02-09 00:00:00 debut_traitement : 2019-05-24 11:24:07.249536\n",
      "date : 2019-02-10 00:00:00 debut_traitement : 2019-05-24 11:26:27.528448\n",
      "date : 2019-02-11 00:00:00 debut_traitement : 2019-05-24 11:28:33.471980\n",
      "date : 2019-02-12 00:00:00 debut_traitement : 2019-05-24 11:31:22.197301\n",
      "date : 2019-02-13 00:00:00 debut_traitement : 2019-05-24 11:34:18.554102\n"
     ]
    }
   ],
   "source": [
    "dico_od,  dico_passag, dico_tps_max=t.transit_temps_complet('2019-01-23 00:00:00',22,df_passages_immat_ok)"
   ]
  },
  {
   "cell_type": "markdown",
   "metadata": {},
   "source": [
    "# 3. Filtrer les trajets selon un temps de parcours"
   ]
  },
  {
   "cell_type": "markdown",
   "metadata": {},
   "source": [
    "***Dataframe des temps de parcours de base***"
   ]
  },
  {
   "cell_type": "code",
   "execution_count": 23,
   "metadata": {},
   "outputs": [
    {
     "name": "stdout",
     "output_type": "stream",
     "text": [
      "Wall time: 2.73 s\n"
     ]
    }
   ],
   "source": [
    "%time dixco_tpsmax_corrige=t.corriger_df_tps_parcours(dico_tps_max)"
   ]
  },
  {
   "cell_type": "markdown",
   "metadata": {},
   "source": [
    "***Ajout de l'attribut drapeau d'identification du trafic de transit selon une marge. <br>On commence par calculer avec une marge de 0<br>Puis on applique l'extrapolation pour recuperer ceux qui manquent<br> Puis on calcule avec une marge déféinitive***<br> Pour le moment je laisse tel quel ledico de stockage des differents cas, mais pourla version finale il faudra mettre en ouvre les étapes comme décrit ci-dessus"
   ]
  },
  {
   "cell_type": "code",
   "execution_count": 105,
   "metadata": {},
   "outputs": [
    {
     "name": "stdout",
     "output_type": "stream",
     "text": [
      "Wall time: 19min 55s\n"
     ]
    }
   ],
   "source": [
    "%%time\n",
    "dico_df_transit={'df_transit_marge'+str(i):t.jointure_temps_reel_theorique(dico_od,dixco_tpsmax_corrige,t.liste_complete_trajet, i) for i in [0,15,30,45,600] }"
   ]
  },
  {
   "cell_type": "code",
   "execution_count": 90,
   "metadata": {},
   "outputs": [],
   "source": [
    "#exemple de visu sur 3 semaines\n",
    "for od in dico_df_transit['df_transit_marge0'].o_d.unique(): \n",
    "    for i in [0,15,30,45,600] :\n",
    "        nom_chemin=r'Q:\\DAIT\\TI\\DREAL33\\2018\\C17SI0073_LAPI\\Traitements\\python\\graphs\\transit_J_OD\\marge_'+str(i)+'_min'\n",
    "        chemin=os.path.join(nom_chemin,f'{od}.svg')\n",
    "        g.graph_transit_filtre_multiple(dico_df_transit['df_transit_marge'+str(i)],'2019-01-23 00:00:00', '2019-01-23 23:59:59',od, 22).save(chemin)"
   ]
  },
  {
   "cell_type": "code",
   "execution_count": 155,
   "metadata": {},
   "outputs": [
    {
     "data": {
      "application/vnd.vegalite.v2+json": {
       "$schema": "https://vega.github.io/schema/vega-lite/v2.6.0.json",
       "config": {
        "view": {
         "height": 300,
         "width": 400
        }
       },
       "datasets": {
        "data-1633c3f7c00e873c340463e4b9e9c2eb": [
         {
          "date_cam_1": "2019-01-23T02:09:05",
          "filtre_tps": "Transit",
          "tps_parcours": "2018-01-01T00:45:59",
          "type": "Reglementaire"
         },
         {
          "date_cam_1": "2019-01-23T04:02:03",
          "filtre_tps": "Transit",
          "tps_parcours": "2018-01-01T00:43:50",
          "type": "Reglementaire"
         },
         {
          "date_cam_1": "2019-01-23T04:32:01",
          "filtre_tps": "Transit",
          "tps_parcours": "2018-01-01T00:45:04",
          "type": "Reglementaire"
         },
         {
          "date_cam_1": "2019-01-23T04:57:43",
          "filtre_tps": "Transit",
          "tps_parcours": "2018-01-01T00:49:22",
          "type": "Reglementaire"
         },
         {
          "date_cam_1": "2019-01-23T05:01:16",
          "filtre_tps": "Transit",
          "tps_parcours": "2018-01-01T00:48:07",
          "type": "Cluster"
         },
         {
          "date_cam_1": "2019-01-23T05:05:00",
          "filtre_tps": "Transit",
          "tps_parcours": "2018-01-01T04:28:25",
          "type": "Cluster"
         },
         {
          "date_cam_1": "2019-01-23T05:10:40",
          "filtre_tps": "Transit",
          "tps_parcours": "2018-01-01T01:11:05",
          "type": "Cluster"
         },
         {
          "date_cam_1": "2019-01-23T05:23:56",
          "filtre_tps": "Transit",
          "tps_parcours": "2018-01-01T01:11:49",
          "type": "Cluster"
         },
         {
          "date_cam_1": "2019-01-23T05:24:55",
          "filtre_tps": "Transit",
          "tps_parcours": "2018-01-01T03:53:03",
          "type": "Cluster"
         },
         {
          "date_cam_1": "2019-01-23T05:40:46",
          "filtre_tps": "Transit",
          "tps_parcours": "2018-01-01T03:51:15",
          "type": "Cluster"
         },
         {
          "date_cam_1": "2019-01-23T09:08:54",
          "filtre_tps": "Transit",
          "tps_parcours": "2018-01-01T00:53:42",
          "type": "Cluster"
         },
         {
          "date_cam_1": "2019-01-23T09:32:01",
          "filtre_tps": "Transit",
          "tps_parcours": "2018-01-01T00:49:02",
          "type": "Cluster"
         },
         {
          "date_cam_1": "2019-01-23T10:15:53",
          "filtre_tps": "Transit",
          "tps_parcours": "2018-01-01T00:42:42",
          "type": "Cluster"
         },
         {
          "date_cam_1": "2019-01-23T11:42:11",
          "filtre_tps": "Transit",
          "tps_parcours": "2018-01-01T00:48:03",
          "type": "Cluster"
         },
         {
          "date_cam_1": "2019-01-23T12:35:41",
          "filtre_tps": "Local",
          "tps_parcours": "2018-01-01T03:49:25",
          "type": "Cluster"
         },
         {
          "date_cam_1": "2019-01-23T17:15:33",
          "filtre_tps": "Transit",
          "tps_parcours": "2018-01-01T00:47:12",
          "type": "predit"
         },
         {
          "date_cam_1": "2019-01-23T22:34:06",
          "filtre_tps": "Transit",
          "tps_parcours": "2018-01-01T00:43:31",
          "type": "Reglementaire"
         },
         {
          "date_cam_1": "2019-01-23T23:01:54",
          "filtre_tps": "Transit",
          "tps_parcours": "2018-01-01T00:40:57",
          "type": "Reglementaire"
         },
         {
          "date_cam_1": "2019-01-23T04:47:52",
          "filtre_tps": "Transit",
          "tps_parcours": "2018-01-01T02:44:08",
          "type": "Reglementaire"
         },
         {
          "date_cam_1": "2019-01-23T07:33:04",
          "filtre_tps": "Local",
          "tps_parcours": "2018-01-01T02:26:52",
          "type": "predit"
         },
         {
          "date_cam_1": "2019-01-23T07:57:39",
          "filtre_tps": "Transit",
          "tps_parcours": "2018-01-01T01:19:49",
          "type": "predit"
         },
         {
          "date_cam_1": "2019-01-23T08:02:22",
          "filtre_tps": "Transit",
          "tps_parcours": "2018-01-01T01:16:37",
          "type": "predit"
         },
         {
          "date_cam_1": "2019-01-23T08:05:54",
          "filtre_tps": "Transit",
          "tps_parcours": "2018-01-01T01:10:12",
          "type": "predit"
         },
         {
          "date_cam_1": "2019-01-23T08:08:39",
          "filtre_tps": "Transit",
          "tps_parcours": "2018-01-01T01:02:55",
          "type": "predit"
         },
         {
          "date_cam_1": "2019-01-23T08:29:57",
          "filtre_tps": "Transit",
          "tps_parcours": "2018-01-01T00:56:37",
          "type": "predit"
         },
         {
          "date_cam_1": "2019-01-23T08:39:49",
          "filtre_tps": "Transit",
          "tps_parcours": "2018-01-01T00:59:57",
          "type": "predit"
         },
         {
          "date_cam_1": "2019-01-23T08:49:14",
          "filtre_tps": "Transit",
          "tps_parcours": "2018-01-01T01:02:10",
          "type": "predit"
         },
         {
          "date_cam_1": "2019-01-23T08:53:39",
          "filtre_tps": "Transit",
          "tps_parcours": "2018-01-01T01:10:19",
          "type": "predit"
         },
         {
          "date_cam_1": "2019-01-23T08:57:23",
          "filtre_tps": "Transit",
          "tps_parcours": "2018-01-01T00:59:59",
          "type": "predit"
         },
         {
          "date_cam_1": "2019-01-23T09:06:44",
          "filtre_tps": "Transit",
          "tps_parcours": "2018-01-01T00:52:08",
          "type": "Cluster"
         },
         {
          "date_cam_1": "2019-01-23T09:07:42",
          "filtre_tps": "Local",
          "tps_parcours": "2018-01-01T04:22:10",
          "type": "Cluster"
         },
         {
          "date_cam_1": "2019-01-23T09:12:22",
          "filtre_tps": "Transit",
          "tps_parcours": "2018-01-01T00:58:20",
          "type": "Cluster"
         },
         {
          "date_cam_1": "2019-01-23T09:25:18",
          "filtre_tps": "Local",
          "tps_parcours": "2018-01-01T01:05:03",
          "type": "Cluster"
         },
         {
          "date_cam_1": "2019-01-23T09:28:08",
          "filtre_tps": "Transit",
          "tps_parcours": "2018-01-01T00:52:47",
          "type": "Cluster"
         },
         {
          "date_cam_1": "2019-01-23T09:36:30",
          "filtre_tps": "Transit",
          "tps_parcours": "2018-01-01T00:56:16",
          "type": "Cluster"
         },
         {
          "date_cam_1": "2019-01-23T09:36:34",
          "filtre_tps": "Transit",
          "tps_parcours": "2018-01-01T00:56:14",
          "type": "Cluster"
         },
         {
          "date_cam_1": "2019-01-23T09:42:26",
          "filtre_tps": "Transit",
          "tps_parcours": "2018-01-01T00:56:25",
          "type": "Cluster"
         },
         {
          "date_cam_1": "2019-01-23T09:42:51",
          "filtre_tps": "Transit",
          "tps_parcours": "2018-01-01T01:01:36",
          "type": "Cluster"
         },
         {
          "date_cam_1": "2019-01-23T09:53:43",
          "filtre_tps": "Transit",
          "tps_parcours": "2018-01-01T00:54:08",
          "type": "Cluster"
         },
         {
          "date_cam_1": "2019-01-23T10:05:21",
          "filtre_tps": "Local",
          "tps_parcours": "2018-01-01T00:52:31",
          "type": "Cluster"
         },
         {
          "date_cam_1": "2019-01-23T10:51:22",
          "filtre_tps": "Local",
          "tps_parcours": "2018-01-01T00:57:38",
          "type": "Cluster"
         },
         {
          "date_cam_1": "2019-01-23T11:00:09",
          "filtre_tps": "Local",
          "tps_parcours": "2018-01-01T00:50:49",
          "type": "Cluster"
         },
         {
          "date_cam_1": "2019-01-23T11:17:16",
          "filtre_tps": "Local",
          "tps_parcours": "2018-01-01T04:52:18",
          "type": "Cluster"
         },
         {
          "date_cam_1": "2019-01-23T11:18:27",
          "filtre_tps": "Transit",
          "tps_parcours": "2018-01-01T00:48:07",
          "type": "Cluster"
         },
         {
          "date_cam_1": "2019-01-23T11:21:52",
          "filtre_tps": "Transit",
          "tps_parcours": "2018-01-01T00:47:19",
          "type": "Cluster"
         },
         {
          "date_cam_1": "2019-01-23T11:41:11",
          "filtre_tps": "Local",
          "tps_parcours": "2018-01-01T01:38:18",
          "type": "Cluster"
         },
         {
          "date_cam_1": "2019-01-23T11:48:54",
          "filtre_tps": "Local",
          "tps_parcours": "2018-01-01T01:39:29",
          "type": "Cluster"
         },
         {
          "date_cam_1": "2019-01-23T11:56:16",
          "filtre_tps": "Local",
          "tps_parcours": "2018-01-01T01:35:45",
          "type": "Cluster"
         },
         {
          "date_cam_1": "2019-01-23T12:04:27",
          "filtre_tps": "Transit",
          "tps_parcours": "2018-01-01T00:47:34",
          "type": "Cluster"
         },
         {
          "date_cam_1": "2019-01-23T12:05:39",
          "filtre_tps": "Transit",
          "tps_parcours": "2018-01-01T00:47:26",
          "type": "Cluster"
         },
         {
          "date_cam_1": "2019-01-23T12:09:22",
          "filtre_tps": "Local",
          "tps_parcours": "2018-01-01T01:05:31",
          "type": "Cluster"
         },
         {
          "date_cam_1": "2019-01-23T12:09:25",
          "filtre_tps": "Transit",
          "tps_parcours": "2018-01-01T00:45:43",
          "type": "Cluster"
         },
         {
          "date_cam_1": "2019-01-23T12:27:40",
          "filtre_tps": "Transit",
          "tps_parcours": "2018-01-01T00:49:50",
          "type": "Cluster"
         },
         {
          "date_cam_1": "2019-01-23T12:38:09",
          "filtre_tps": "Transit",
          "tps_parcours": "2018-01-01T00:45:52",
          "type": "Cluster"
         },
         {
          "date_cam_1": "2019-01-23T12:55:25",
          "filtre_tps": "Transit",
          "tps_parcours": "2018-01-01T00:36:17",
          "type": "Cluster"
         },
         {
          "date_cam_1": "2019-01-23T12:56:54",
          "filtre_tps": "Transit",
          "tps_parcours": "2018-01-01T00:47:56",
          "type": "Cluster"
         },
         {
          "date_cam_1": "2019-01-23T12:58:24",
          "filtre_tps": "Local",
          "tps_parcours": "2018-01-01T02:35:22",
          "type": "Cluster"
         },
         {
          "date_cam_1": "2019-01-23T13:04:49",
          "filtre_tps": "Local",
          "tps_parcours": "2018-01-01T00:50:10",
          "type": "Cluster"
         },
         {
          "date_cam_1": "2019-01-23T13:21:49",
          "filtre_tps": "Local",
          "tps_parcours": "2018-01-01T01:22:13",
          "type": "Cluster"
         },
         {
          "date_cam_1": "2019-01-23T13:33:16",
          "filtre_tps": "Transit",
          "tps_parcours": "2018-01-01T00:37:52",
          "type": "Cluster"
         },
         {
          "date_cam_1": "2019-01-23T14:21:52",
          "filtre_tps": "Transit",
          "tps_parcours": "2018-01-01T00:44:43",
          "type": "Reglementaire"
         },
         {
          "date_cam_1": "2019-01-23T14:34:36",
          "filtre_tps": "Transit",
          "tps_parcours": "2018-01-01T00:47:48",
          "type": "predit"
         },
         {
          "date_cam_1": "2019-01-23T14:40:02",
          "filtre_tps": "Transit",
          "tps_parcours": "2018-01-01T00:48:36",
          "type": "predit"
         },
         {
          "date_cam_1": "2019-01-23T14:41:13",
          "filtre_tps": "Transit",
          "tps_parcours": "2018-01-01T00:46:40",
          "type": "predit"
         },
         {
          "date_cam_1": "2019-01-23T14:48:05",
          "filtre_tps": "Transit",
          "tps_parcours": "2018-01-01T00:46:45",
          "type": "Cluster"
         },
         {
          "date_cam_1": "2019-01-23T14:54:16",
          "filtre_tps": "Transit",
          "tps_parcours": "2018-01-01T00:47:00",
          "type": "Cluster"
         },
         {
          "date_cam_1": "2019-01-23T15:10:00",
          "filtre_tps": "Transit",
          "tps_parcours": "2018-01-01T00:47:01",
          "type": "predit"
         },
         {
          "date_cam_1": "2019-01-23T15:14:46",
          "filtre_tps": "Transit",
          "tps_parcours": "2018-01-01T00:46:29",
          "type": "predit"
         },
         {
          "date_cam_1": "2019-01-23T15:21:03",
          "filtre_tps": "Local",
          "tps_parcours": "2018-01-01T03:14:22",
          "type": "predit"
         },
         {
          "date_cam_1": "2019-01-23T15:25:24",
          "filtre_tps": "Transit",
          "tps_parcours": "2018-01-01T00:49:36",
          "type": "predit"
         },
         {
          "date_cam_1": "2019-01-23T15:32:19",
          "filtre_tps": "Transit",
          "tps_parcours": "2018-01-01T00:46:24",
          "type": "predit"
         },
         {
          "date_cam_1": "2019-01-23T15:51:05",
          "filtre_tps": "Transit",
          "tps_parcours": "2018-01-01T00:46:40",
          "type": "predit"
         },
         {
          "date_cam_1": "2019-01-23T16:02:43",
          "filtre_tps": "Transit",
          "tps_parcours": "2018-01-01T00:47:42",
          "type": "predit"
         },
         {
          "date_cam_1": "2019-01-23T16:11:43",
          "filtre_tps": "Local",
          "tps_parcours": "2018-01-01T00:59:58",
          "type": "predit"
         },
         {
          "date_cam_1": "2019-01-23T16:34:49",
          "filtre_tps": "Transit",
          "tps_parcours": "2018-01-01T00:45:21",
          "type": "Reglementaire"
         },
         {
          "date_cam_1": "2019-01-23T16:36:48",
          "filtre_tps": "Transit",
          "tps_parcours": "2018-01-01T00:48:34",
          "type": "predit"
         },
         {
          "date_cam_1": "2019-01-23T16:41:59",
          "filtre_tps": "Local",
          "tps_parcours": "2018-01-01T01:36:17",
          "type": "predit"
         },
         {
          "date_cam_1": "2019-01-23T20:27:03",
          "filtre_tps": "Transit",
          "tps_parcours": "2018-01-01T00:44:09",
          "type": "Reglementaire"
         },
         {
          "date_cam_1": "2019-01-23T07:54:26",
          "filtre_tps": "Transit",
          "tps_parcours": "2018-01-01T01:08:36",
          "type": "predit"
         },
         {
          "date_cam_1": "2019-01-23T10:08:25",
          "filtre_tps": "Local",
          "tps_parcours": "2018-01-01T03:40:10",
          "type": "Cluster"
         },
         {
          "date_cam_1": "2019-01-23T10:23:58",
          "filtre_tps": "Local",
          "tps_parcours": "2018-01-01T03:19:41",
          "type": "Cluster"
         },
         {
          "date_cam_1": "2019-01-23T14:55:39",
          "filtre_tps": "Local",
          "tps_parcours": "2018-01-01T00:51:07",
          "type": "Cluster"
         },
         {
          "date_cam_1": "2019-01-23T16:17:31",
          "filtre_tps": "Local",
          "tps_parcours": "2018-01-01T14:01:33",
          "type": "predit"
         },
         {
          "date_cam_1": "2019-01-23T16:39:48",
          "filtre_tps": "Local",
          "tps_parcours": "2018-01-01T16:22:13",
          "type": "predit"
         },
         {
          "date_cam_1": "2019-01-23T08:42:40",
          "filtre_tps": "Transit",
          "tps_parcours": "2018-01-01T00:58:56",
          "type": "predit"
         },
         {
          "date_cam_1": "2019-01-23T08:56:37",
          "filtre_tps": "Transit",
          "tps_parcours": "2018-01-01T00:57:47",
          "type": "predit"
         },
         {
          "date_cam_1": "2019-01-23T12:00:58",
          "filtre_tps": "Local",
          "tps_parcours": "2018-01-01T17:46:42",
          "type": "Cluster"
         },
         {
          "date_cam_1": "2019-01-23T13:22:13",
          "filtre_tps": "Transit",
          "tps_parcours": "2018-01-01T00:46:49",
          "type": "Cluster"
         },
         {
          "date_cam_1": "2019-01-23T13:44:31",
          "filtre_tps": "Local",
          "tps_parcours": "2018-01-01T01:40:39",
          "type": "Cluster"
         },
         {
          "date_cam_1": "2019-01-23T14:49:36",
          "filtre_tps": "Transit",
          "tps_parcours": "2018-01-01T00:49:52",
          "type": "Cluster"
         },
         {
          "date_cam_1": "2019-01-23T14:52:29",
          "filtre_tps": "Transit",
          "tps_parcours": "2018-01-01T00:40:39",
          "type": "Cluster"
         },
         {
          "date_cam_1": "2019-01-23T14:54:13",
          "filtre_tps": "Transit",
          "tps_parcours": "2018-01-01T00:48:28",
          "type": "Cluster"
         },
         {
          "date_cam_1": "2019-01-23T15:29:08",
          "filtre_tps": "Local",
          "tps_parcours": "2018-01-01T15:07:16",
          "type": "predit"
         },
         {
          "date_cam_1": "2019-01-23T15:37:48",
          "filtre_tps": "Transit",
          "tps_parcours": "2018-01-01T00:37:44",
          "type": "Reglementaire"
         },
         {
          "date_cam_1": "2019-01-23T15:39:13",
          "filtre_tps": "Local",
          "tps_parcours": "2018-01-01T14:16:16",
          "type": "predit"
         },
         {
          "date_cam_1": "2019-01-23T15:50:05",
          "filtre_tps": "Transit",
          "tps_parcours": "2018-01-01T00:44:11",
          "type": "Reglementaire"
         },
         {
          "date_cam_1": "2019-01-23T13:05:01",
          "filtre_tps": "Local",
          "tps_parcours": "2018-01-01T02:34:39",
          "type": "Cluster"
         },
         {
          "date_cam_1": "2019-01-23T15:51:15",
          "filtre_tps": "Transit",
          "tps_parcours": "2018-01-01T00:46:00",
          "type": "predit"
         },
         {
          "date_cam_1": "2019-01-23T16:10:47",
          "filtre_tps": "Transit",
          "tps_parcours": "2018-01-01T00:44:23",
          "type": "Reglementaire"
         },
         {
          "date_cam_1": "2019-01-23T16:55:35",
          "filtre_tps": "Local",
          "tps_parcours": "2018-01-01T17:08:15",
          "type": "predit"
         },
         {
          "date_cam_1": "2019-01-23T20:16:02",
          "filtre_tps": "Transit",
          "tps_parcours": "2018-01-01T02:54:11",
          "type": "Reglementaire"
         }
        ],
        "data-adf0dc369b7944dc29a86006e8247305": [
         {
          "date_cam_1": "2019-01-23T02:09:05",
          "filtre_tps": "Transit",
          "tps_parcours": "2018-01-01T00:45:59",
          "type": "Reglementaire"
         },
         {
          "date_cam_1": "2019-01-23T04:02:03",
          "filtre_tps": "Transit",
          "tps_parcours": "2018-01-01T00:43:50",
          "type": "Reglementaire"
         },
         {
          "date_cam_1": "2019-01-23T04:32:01",
          "filtre_tps": "Transit",
          "tps_parcours": "2018-01-01T00:45:04",
          "type": "Reglementaire"
         },
         {
          "date_cam_1": "2019-01-23T04:57:43",
          "filtre_tps": "Transit",
          "tps_parcours": "2018-01-01T00:49:22",
          "type": "Reglementaire"
         },
         {
          "date_cam_1": "2019-01-23T05:01:16",
          "filtre_tps": "Transit",
          "tps_parcours": "2018-01-01T00:48:07",
          "type": "Cluster"
         },
         {
          "date_cam_1": "2019-01-23T05:05:00",
          "filtre_tps": "Transit",
          "tps_parcours": "2018-01-01T04:28:25",
          "type": "Cluster"
         },
         {
          "date_cam_1": "2019-01-23T05:10:40",
          "filtre_tps": "Transit",
          "tps_parcours": "2018-01-01T01:11:05",
          "type": "Cluster"
         },
         {
          "date_cam_1": "2019-01-23T05:23:56",
          "filtre_tps": "Transit",
          "tps_parcours": "2018-01-01T01:11:49",
          "type": "Cluster"
         },
         {
          "date_cam_1": "2019-01-23T05:24:55",
          "filtre_tps": "Transit",
          "tps_parcours": "2018-01-01T03:53:03",
          "type": "Cluster"
         },
         {
          "date_cam_1": "2019-01-23T05:40:46",
          "filtre_tps": "Transit",
          "tps_parcours": "2018-01-01T03:51:15",
          "type": "Cluster"
         },
         {
          "date_cam_1": "2019-01-23T09:08:54",
          "filtre_tps": "Transit",
          "tps_parcours": "2018-01-01T00:53:42",
          "type": "Cluster"
         },
         {
          "date_cam_1": "2019-01-23T09:32:01",
          "filtre_tps": "Transit",
          "tps_parcours": "2018-01-01T00:49:02",
          "type": "Cluster"
         },
         {
          "date_cam_1": "2019-01-23T10:15:53",
          "filtre_tps": "Transit",
          "tps_parcours": "2018-01-01T00:42:42",
          "type": "Cluster"
         },
         {
          "date_cam_1": "2019-01-23T11:42:11",
          "filtre_tps": "Transit",
          "tps_parcours": "2018-01-01T00:48:03",
          "type": "Cluster"
         },
         {
          "date_cam_1": "2019-01-23T12:35:41",
          "filtre_tps": "Local",
          "tps_parcours": "2018-01-01T03:49:25",
          "type": "Cluster"
         },
         {
          "date_cam_1": "2019-01-23T17:15:33",
          "filtre_tps": "Local",
          "tps_parcours": "2018-01-01T00:47:12",
          "type": "Reglementaire"
         },
         {
          "date_cam_1": "2019-01-23T22:34:06",
          "filtre_tps": "Transit",
          "tps_parcours": "2018-01-01T00:43:31",
          "type": "Reglementaire"
         },
         {
          "date_cam_1": "2019-01-23T23:01:54",
          "filtre_tps": "Transit",
          "tps_parcours": "2018-01-01T00:40:57",
          "type": "Reglementaire"
         },
         {
          "date_cam_1": "2019-01-23T04:47:52",
          "filtre_tps": "Transit",
          "tps_parcours": "2018-01-01T02:44:08",
          "type": "Reglementaire"
         },
         {
          "date_cam_1": "2019-01-23T07:33:04",
          "filtre_tps": "Local",
          "tps_parcours": "2018-01-01T02:26:52",
          "type": "Reglementaire"
         },
         {
          "date_cam_1": "2019-01-23T07:57:39",
          "filtre_tps": "Local",
          "tps_parcours": "2018-01-01T01:19:49",
          "type": "Reglementaire"
         },
         {
          "date_cam_1": "2019-01-23T08:02:22",
          "filtre_tps": "Local",
          "tps_parcours": "2018-01-01T01:16:37",
          "type": "Reglementaire"
         },
         {
          "date_cam_1": "2019-01-23T08:05:54",
          "filtre_tps": "Local",
          "tps_parcours": "2018-01-01T01:10:12",
          "type": "Reglementaire"
         },
         {
          "date_cam_1": "2019-01-23T08:08:39",
          "filtre_tps": "Local",
          "tps_parcours": "2018-01-01T01:02:55",
          "type": "Reglementaire"
         },
         {
          "date_cam_1": "2019-01-23T08:29:57",
          "filtre_tps": "Local",
          "tps_parcours": "2018-01-01T00:56:37",
          "type": "Reglementaire"
         },
         {
          "date_cam_1": "2019-01-23T08:39:49",
          "filtre_tps": "Local",
          "tps_parcours": "2018-01-01T00:59:57",
          "type": "Reglementaire"
         },
         {
          "date_cam_1": "2019-01-23T08:49:14",
          "filtre_tps": "Local",
          "tps_parcours": "2018-01-01T01:02:10",
          "type": "Reglementaire"
         },
         {
          "date_cam_1": "2019-01-23T08:53:39",
          "filtre_tps": "Local",
          "tps_parcours": "2018-01-01T01:10:19",
          "type": "Reglementaire"
         },
         {
          "date_cam_1": "2019-01-23T08:57:23",
          "filtre_tps": "Local",
          "tps_parcours": "2018-01-01T00:59:59",
          "type": "Reglementaire"
         },
         {
          "date_cam_1": "2019-01-23T09:06:44",
          "filtre_tps": "Transit",
          "tps_parcours": "2018-01-01T00:52:08",
          "type": "Cluster"
         },
         {
          "date_cam_1": "2019-01-23T09:07:42",
          "filtre_tps": "Local",
          "tps_parcours": "2018-01-01T04:22:10",
          "type": "Cluster"
         },
         {
          "date_cam_1": "2019-01-23T09:12:22",
          "filtre_tps": "Transit",
          "tps_parcours": "2018-01-01T00:58:20",
          "type": "Cluster"
         },
         {
          "date_cam_1": "2019-01-23T09:25:18",
          "filtre_tps": "Local",
          "tps_parcours": "2018-01-01T01:05:03",
          "type": "Cluster"
         },
         {
          "date_cam_1": "2019-01-23T09:28:08",
          "filtre_tps": "Transit",
          "tps_parcours": "2018-01-01T00:52:47",
          "type": "Cluster"
         },
         {
          "date_cam_1": "2019-01-23T09:36:30",
          "filtre_tps": "Transit",
          "tps_parcours": "2018-01-01T00:56:16",
          "type": "Cluster"
         },
         {
          "date_cam_1": "2019-01-23T09:36:34",
          "filtre_tps": "Transit",
          "tps_parcours": "2018-01-01T00:56:14",
          "type": "Cluster"
         },
         {
          "date_cam_1": "2019-01-23T09:42:26",
          "filtre_tps": "Transit",
          "tps_parcours": "2018-01-01T00:56:25",
          "type": "Cluster"
         },
         {
          "date_cam_1": "2019-01-23T09:42:51",
          "filtre_tps": "Transit",
          "tps_parcours": "2018-01-01T01:01:36",
          "type": "Cluster"
         },
         {
          "date_cam_1": "2019-01-23T09:53:43",
          "filtre_tps": "Transit",
          "tps_parcours": "2018-01-01T00:54:08",
          "type": "Cluster"
         },
         {
          "date_cam_1": "2019-01-23T10:05:21",
          "filtre_tps": "Local",
          "tps_parcours": "2018-01-01T00:52:31",
          "type": "Cluster"
         },
         {
          "date_cam_1": "2019-01-23T10:51:22",
          "filtre_tps": "Local",
          "tps_parcours": "2018-01-01T00:57:38",
          "type": "Cluster"
         },
         {
          "date_cam_1": "2019-01-23T11:00:09",
          "filtre_tps": "Local",
          "tps_parcours": "2018-01-01T00:50:49",
          "type": "Cluster"
         },
         {
          "date_cam_1": "2019-01-23T11:17:16",
          "filtre_tps": "Local",
          "tps_parcours": "2018-01-01T04:52:18",
          "type": "Cluster"
         },
         {
          "date_cam_1": "2019-01-23T11:18:27",
          "filtre_tps": "Transit",
          "tps_parcours": "2018-01-01T00:48:07",
          "type": "Cluster"
         },
         {
          "date_cam_1": "2019-01-23T11:21:52",
          "filtre_tps": "Transit",
          "tps_parcours": "2018-01-01T00:47:19",
          "type": "Cluster"
         },
         {
          "date_cam_1": "2019-01-23T11:41:11",
          "filtre_tps": "Local",
          "tps_parcours": "2018-01-01T01:38:18",
          "type": "Cluster"
         },
         {
          "date_cam_1": "2019-01-23T11:48:54",
          "filtre_tps": "Local",
          "tps_parcours": "2018-01-01T01:39:29",
          "type": "Cluster"
         },
         {
          "date_cam_1": "2019-01-23T11:56:16",
          "filtre_tps": "Local",
          "tps_parcours": "2018-01-01T01:35:45",
          "type": "Cluster"
         },
         {
          "date_cam_1": "2019-01-23T12:04:27",
          "filtre_tps": "Transit",
          "tps_parcours": "2018-01-01T00:47:34",
          "type": "Cluster"
         },
         {
          "date_cam_1": "2019-01-23T12:05:39",
          "filtre_tps": "Transit",
          "tps_parcours": "2018-01-01T00:47:26",
          "type": "Cluster"
         },
         {
          "date_cam_1": "2019-01-23T12:09:22",
          "filtre_tps": "Local",
          "tps_parcours": "2018-01-01T01:05:31",
          "type": "Cluster"
         },
         {
          "date_cam_1": "2019-01-23T12:09:25",
          "filtre_tps": "Transit",
          "tps_parcours": "2018-01-01T00:45:43",
          "type": "Cluster"
         },
         {
          "date_cam_1": "2019-01-23T12:27:40",
          "filtre_tps": "Transit",
          "tps_parcours": "2018-01-01T00:49:50",
          "type": "Cluster"
         },
         {
          "date_cam_1": "2019-01-23T12:38:09",
          "filtre_tps": "Transit",
          "tps_parcours": "2018-01-01T00:45:52",
          "type": "Cluster"
         },
         {
          "date_cam_1": "2019-01-23T12:55:25",
          "filtre_tps": "Transit",
          "tps_parcours": "2018-01-01T00:36:17",
          "type": "Cluster"
         },
         {
          "date_cam_1": "2019-01-23T12:56:54",
          "filtre_tps": "Transit",
          "tps_parcours": "2018-01-01T00:47:56",
          "type": "Cluster"
         },
         {
          "date_cam_1": "2019-01-23T12:58:24",
          "filtre_tps": "Local",
          "tps_parcours": "2018-01-01T02:35:22",
          "type": "Cluster"
         },
         {
          "date_cam_1": "2019-01-23T13:04:49",
          "filtre_tps": "Local",
          "tps_parcours": "2018-01-01T00:50:10",
          "type": "Cluster"
         },
         {
          "date_cam_1": "2019-01-23T13:21:49",
          "filtre_tps": "Local",
          "tps_parcours": "2018-01-01T01:22:13",
          "type": "Cluster"
         },
         {
          "date_cam_1": "2019-01-23T13:33:16",
          "filtre_tps": "Transit",
          "tps_parcours": "2018-01-01T00:37:52",
          "type": "Cluster"
         },
         {
          "date_cam_1": "2019-01-23T14:21:52",
          "filtre_tps": "Transit",
          "tps_parcours": "2018-01-01T00:44:43",
          "type": "Reglementaire"
         },
         {
          "date_cam_1": "2019-01-23T14:34:36",
          "filtre_tps": "Local",
          "tps_parcours": "2018-01-01T00:47:48",
          "type": "Reglementaire"
         },
         {
          "date_cam_1": "2019-01-23T14:40:02",
          "filtre_tps": "Local",
          "tps_parcours": "2018-01-01T00:48:36",
          "type": "Reglementaire"
         },
         {
          "date_cam_1": "2019-01-23T14:41:13",
          "filtre_tps": "Local",
          "tps_parcours": "2018-01-01T00:46:40",
          "type": "Reglementaire"
         },
         {
          "date_cam_1": "2019-01-23T14:48:05",
          "filtre_tps": "Transit",
          "tps_parcours": "2018-01-01T00:46:45",
          "type": "Cluster"
         },
         {
          "date_cam_1": "2019-01-23T14:54:16",
          "filtre_tps": "Transit",
          "tps_parcours": "2018-01-01T00:47:00",
          "type": "Cluster"
         },
         {
          "date_cam_1": "2019-01-23T15:10:00",
          "filtre_tps": "Local",
          "tps_parcours": "2018-01-01T00:47:01",
          "type": "Reglementaire"
         },
         {
          "date_cam_1": "2019-01-23T15:14:46",
          "filtre_tps": "Local",
          "tps_parcours": "2018-01-01T00:46:29",
          "type": "Reglementaire"
         },
         {
          "date_cam_1": "2019-01-23T15:21:03",
          "filtre_tps": "Local",
          "tps_parcours": "2018-01-01T03:14:22",
          "type": "Reglementaire"
         },
         {
          "date_cam_1": "2019-01-23T15:25:24",
          "filtre_tps": "Local",
          "tps_parcours": "2018-01-01T00:49:36",
          "type": "Reglementaire"
         },
         {
          "date_cam_1": "2019-01-23T15:32:19",
          "filtre_tps": "Local",
          "tps_parcours": "2018-01-01T00:46:24",
          "type": "Reglementaire"
         },
         {
          "date_cam_1": "2019-01-23T15:51:05",
          "filtre_tps": "Local",
          "tps_parcours": "2018-01-01T00:46:40",
          "type": "Reglementaire"
         },
         {
          "date_cam_1": "2019-01-23T16:02:43",
          "filtre_tps": "Local",
          "tps_parcours": "2018-01-01T00:47:42",
          "type": "Reglementaire"
         },
         {
          "date_cam_1": "2019-01-23T16:11:43",
          "filtre_tps": "Local",
          "tps_parcours": "2018-01-01T00:59:58",
          "type": "Reglementaire"
         },
         {
          "date_cam_1": "2019-01-23T16:34:49",
          "filtre_tps": "Transit",
          "tps_parcours": "2018-01-01T00:45:21",
          "type": "Reglementaire"
         },
         {
          "date_cam_1": "2019-01-23T16:36:48",
          "filtre_tps": "Local",
          "tps_parcours": "2018-01-01T00:48:34",
          "type": "Reglementaire"
         },
         {
          "date_cam_1": "2019-01-23T16:41:59",
          "filtre_tps": "Local",
          "tps_parcours": "2018-01-01T01:36:17",
          "type": "Reglementaire"
         },
         {
          "date_cam_1": "2019-01-23T20:27:03",
          "filtre_tps": "Transit",
          "tps_parcours": "2018-01-01T00:44:09",
          "type": "Reglementaire"
         },
         {
          "date_cam_1": "2019-01-23T07:54:26",
          "filtre_tps": "Local",
          "tps_parcours": "2018-01-01T01:08:36",
          "type": "Reglementaire"
         },
         {
          "date_cam_1": "2019-01-23T10:08:25",
          "filtre_tps": "Local",
          "tps_parcours": "2018-01-01T03:40:10",
          "type": "Cluster"
         },
         {
          "date_cam_1": "2019-01-23T10:23:58",
          "filtre_tps": "Local",
          "tps_parcours": "2018-01-01T03:19:41",
          "type": "Cluster"
         },
         {
          "date_cam_1": "2019-01-23T14:55:39",
          "filtre_tps": "Local",
          "tps_parcours": "2018-01-01T00:51:07",
          "type": "Cluster"
         },
         {
          "date_cam_1": "2019-01-23T16:17:31",
          "filtre_tps": "Local",
          "tps_parcours": "2018-01-01T14:01:33",
          "type": "Reglementaire"
         },
         {
          "date_cam_1": "2019-01-23T16:39:48",
          "filtre_tps": "Local",
          "tps_parcours": "2018-01-01T16:22:13",
          "type": "Reglementaire"
         },
         {
          "date_cam_1": "2019-01-23T08:42:40",
          "filtre_tps": "Local",
          "tps_parcours": "2018-01-01T00:58:56",
          "type": "Reglementaire"
         },
         {
          "date_cam_1": "2019-01-23T08:56:37",
          "filtre_tps": "Local",
          "tps_parcours": "2018-01-01T00:57:47",
          "type": "Reglementaire"
         },
         {
          "date_cam_1": "2019-01-23T12:00:58",
          "filtre_tps": "Local",
          "tps_parcours": "2018-01-01T17:46:42",
          "type": "Cluster"
         },
         {
          "date_cam_1": "2019-01-23T13:22:13",
          "filtre_tps": "Transit",
          "tps_parcours": "2018-01-01T00:46:49",
          "type": "Cluster"
         },
         {
          "date_cam_1": "2019-01-23T13:44:31",
          "filtre_tps": "Local",
          "tps_parcours": "2018-01-01T01:40:39",
          "type": "Cluster"
         },
         {
          "date_cam_1": "2019-01-23T14:49:36",
          "filtre_tps": "Transit",
          "tps_parcours": "2018-01-01T00:49:52",
          "type": "Cluster"
         },
         {
          "date_cam_1": "2019-01-23T14:52:29",
          "filtre_tps": "Transit",
          "tps_parcours": "2018-01-01T00:40:39",
          "type": "Cluster"
         },
         {
          "date_cam_1": "2019-01-23T14:54:13",
          "filtre_tps": "Transit",
          "tps_parcours": "2018-01-01T00:48:28",
          "type": "Cluster"
         },
         {
          "date_cam_1": "2019-01-23T15:29:08",
          "filtre_tps": "Local",
          "tps_parcours": "2018-01-01T15:07:16",
          "type": "Reglementaire"
         },
         {
          "date_cam_1": "2019-01-23T15:37:48",
          "filtre_tps": "Transit",
          "tps_parcours": "2018-01-01T00:37:44",
          "type": "Reglementaire"
         },
         {
          "date_cam_1": "2019-01-23T15:39:13",
          "filtre_tps": "Local",
          "tps_parcours": "2018-01-01T14:16:16",
          "type": "Reglementaire"
         },
         {
          "date_cam_1": "2019-01-23T15:50:05",
          "filtre_tps": "Transit",
          "tps_parcours": "2018-01-01T00:44:11",
          "type": "Reglementaire"
         },
         {
          "date_cam_1": "2019-01-23T13:05:01",
          "filtre_tps": "Local",
          "tps_parcours": "2018-01-01T02:34:39",
          "type": "Cluster"
         },
         {
          "date_cam_1": "2019-01-23T15:51:15",
          "filtre_tps": "Local",
          "tps_parcours": "2018-01-01T00:46:00",
          "type": "Reglementaire"
         },
         {
          "date_cam_1": "2019-01-23T16:10:47",
          "filtre_tps": "Transit",
          "tps_parcours": "2018-01-01T00:44:23",
          "type": "Reglementaire"
         },
         {
          "date_cam_1": "2019-01-23T16:55:35",
          "filtre_tps": "Local",
          "tps_parcours": "2018-01-01T17:08:15",
          "type": "Reglementaire"
         },
         {
          "date_cam_1": "2019-01-23T20:16:02",
          "filtre_tps": "Transit",
          "tps_parcours": "2018-01-01T02:54:11",
          "type": "Reglementaire"
         }
        ]
       },
       "vconcat": [
        {
         "vconcat": [
          {
           "data": {
            "name": "data-adf0dc369b7944dc29a86006e8247305"
           },
           "encoding": {
            "color": {
             "field": "filtre_tps",
             "legend": {
              "title": "Type de trajet"
             },
             "type": "nominal"
            },
            "shape": {
             "field": "type",
             "legend": {
              "title": "Source temps de reference"
             },
             "type": "nominal"
            },
            "tooltip": {
             "field": "tps_parcours",
             "timeUnit": "hoursminutes",
             "type": "temporal"
            },
            "x": {
             "axis": {
              "format": "%Hh%M",
              "title": "Horaire"
             },
             "field": "date_cam_1",
             "type": "temporal"
            },
            "y": {
             "axis": {
              "format": "%H:%M",
              "title": "Temps de parcours"
             },
             "field": "tps_parcours",
             "type": "temporal"
            }
           },
           "mark": "point",
           "selection": {
            "selector4960": {
             "bind": "scales",
             "encodings": [
              "x",
              "y"
             ],
             "mark": {
              "fill": "#333",
              "fillOpacity": 0.125,
              "stroke": "white"
             },
             "on": "[mousedown, window:mouseup] > window:mousemove!",
             "resolve": "global",
             "translate": "[mousedown, window:mouseup] > window:mousemove!",
             "type": "interval",
             "zoom": "wheel!"
            }
           },
           "title": "Mercredi 2019-01-23 : A10-A660",
           "width": 600
          }
         ]
        },
        {
         "vconcat": [
          {
           "data": {
            "name": "data-1633c3f7c00e873c340463e4b9e9c2eb"
           },
           "encoding": {
            "color": {
             "field": "filtre_tps",
             "legend": {
              "title": "Type de trajet"
             },
             "type": "nominal"
            },
            "shape": {
             "field": "type",
             "legend": {
              "title": "Source temps de reference"
             },
             "type": "nominal"
            },
            "tooltip": {
             "field": "tps_parcours",
             "timeUnit": "hoursminutes",
             "type": "temporal"
            },
            "x": {
             "axis": {
              "format": "%Hh%M",
              "title": "Horaire"
             },
             "field": "date_cam_1",
             "type": "temporal"
            },
            "y": {
             "axis": {
              "format": "%H:%M",
              "title": "Temps de parcours"
             },
             "field": "tps_parcours",
             "type": "temporal"
            }
           },
           "mark": "point",
           "selection": {
            "selector4961": {
             "bind": "scales",
             "encodings": [
              "x",
              "y"
             ],
             "mark": {
              "fill": "#333",
              "fillOpacity": 0.125,
              "stroke": "white"
             },
             "on": "[mousedown, window:mouseup] > window:mousemove!",
             "resolve": "global",
             "translate": "[mousedown, window:mouseup] > window:mousemove!",
             "type": "interval",
             "zoom": "wheel!"
            }
           },
           "title": "Mercredi 2019-01-23 : A10-A660",
           "width": 600
          }
         ]
        }
       ]
      },
      "image/png": "[encoded data removed]",
      "text/plain": [
       "<VegaLite 2 object>\n",
       "\n",
       "If you see this message, it means the renderer has not been properly enabled\n",
       "for the frontend that you are using. For more information, see\n",
       "https://altair-viz.github.io/user_guide/troubleshooting.html\n"
      ]
     },
     "execution_count": 155,
     "metadata": {},
     "output_type": "execute_result"
    }
   ],
   "source": [
    "alt.vconcat(g.graph_transit_filtre_multiple(test_p_graph,'2019-01-23 00:00:00', '2019-01-23 23:59:59','A10-A660', 1),\n",
    "g.graph_transit_filtre_multiple(dico_df_transit['df_transit_marge0'],'2019-01-23 00:00:00', '2019-01-23 23:59:59','A10-A660', 1))            "
   ]
  },
  {
   "cell_type": "markdown",
   "metadata": {},
   "source": [
    "***Impact de la marge***"
   ]
  },
  {
   "cell_type": "code",
   "execution_count": null,
   "metadata": {},
   "outputs": [],
   "source": [
    "alt.vconcat(g.graph_transit_filtre(dico_df_transit['df_transit_marge0'],'2019-02-05 00:00:00', '2019-02-05 23:59:59','N10-A63'),\n",
    "            g.graph_transit_filtre(dico_df_transit['df_transit_marge15'],'2019-02-05 00:00:00', '2019-02-05 23:59:59','N10-A63'),\n",
    "            g.graph_transit_filtre(dico_df_transit['df_transit_marge30'],'2019-02-05 00:00:00', '2019-02-05 23:59:59','N10-A63'),\n",
    "            g.graph_transit_filtre(dico_df_transit['df_transit_marge45'],'2019-02-05 00:00:00', '2019-02-05 23:59:59','N10-A63'))"
   ]
  },
  {
   "cell_type": "markdown",
   "metadata": {},
   "source": [
    "***Filtre des données***"
   ]
  },
  {
   "cell_type": "code",
   "execution_count": 107,
   "metadata": {},
   "outputs": [],
   "source": [
    "%%time\n",
    "dico_df_od_ok={'df_od_ok_marge'+str(i):dico_df_transit['df_transit_marge'+str(i)].loc[dico_df_transit['df_transit_marge'+str(i)]['filtre_tps']==1]\n",
    "         for i in [0,15,30,45,600]}\n",
    "#dico_df_passag_ok={'df_passag_ok_marge'+str(i):t.trajet2passage(dico_df_od_ok['df_od_ok_marge'+str(i)],dico_passag) for i in [0,15,30,45,600]}"
   ]
  },
  {
   "cell_type": "code",
   "execution_count": 113,
   "metadata": {},
   "outputs": [
    {
     "data": {
      "text/plain": [
       "181786"
      ]
     },
     "execution_count": 113,
     "metadata": {},
     "output_type": "execute_result"
    }
   ],
   "source": [
    "len(dico_df_od_ok['df_od_ok_marge600'])"
   ]
  },
  {
   "cell_type": "markdown",
   "metadata": {},
   "source": [
    "***Extrapolation des trafic de transit selon la methode de prediction (marge 0 min)***"
   ]
  },
  {
   "cell_type": "code",
   "execution_count": 122,
   "metadata": {},
   "outputs": [],
   "source": [
    "liste_od_ok=['A660-A62','A62-A63','A63-A62','A62-A10','A660-N10', 'A660-A10','N10-A63','A62-N10']\n",
    "dico_extrapole_prediction=dico_df_transit['df_transit_marge0']\n",
    "for od in [x for x in dico_extrapole_prediction.o_d.unique().tolist() if x not in liste_od_ok ] : \n",
    "    for date in set([a[0].strftime('%Y-%m-%d') for a in t.creer_liste_date('2019-01-23',22)]):\n",
    "        try : \n",
    "            dico_extrapole_prediction=t.predire_type_trajet(dico_extrapole_prediction, od,date,600,35)\n",
    "        except ValueError : \n",
    "            continue"
   ]
  },
  {
   "cell_type": "code",
   "execution_count": 127,
   "metadata": {},
   "outputs": [],
   "source": [
    "liste_od_ok=['A660-A62','A62-A63','A63-A62','A62-A10','A660-N10', 'A660-A10','N10-A63','A62-N10']\n",
    "dico_extrapole_prediction={}\n",
    "for i in [0,15,30,45] : \n",
    "    dico_extrapole_prediction['marge'+str(i)]=dico_df_transit['df_transit_marge'+str(i)]\n",
    "    for od in [x for x in  dico_extrapole_prediction['marge'+str(i)].o_d.unique().tolist() if x not in liste_od_ok ] : \n",
    "        for date in set([a[0].strftime('%Y-%m-%d') for a in t.creer_liste_date('2019-01-23',22)]):\n",
    "            try : \n",
    "                 dico_extrapole_prediction['marge'+str(i)]=t.predire_type_trajet( dico_extrapole_prediction['marge'+str(i)], od,date,600,35)\n",
    "            except ValueError : \n",
    "                continue"
   ]
  },
  {
   "cell_type": "markdown",
   "metadata": {},
   "source": [
    "# 4. Correction des trajets depuis ou vers A660 relatifs à A63"
   ]
  },
  {
   "cell_type": "code",
   "execution_count": 14,
   "metadata": {},
   "outputs": [
    {
     "name": "stdout",
     "output_type": "stream",
     "text": [
      "Wall time: 21min 10s\n"
     ]
    }
   ],
   "source": [
    "%time df_od_corrige=t.correction_trajet(dico_passag_final, dico_od_base_marge15)"
   ]
  },
  {
   "cell_type": "markdown",
   "metadata": {},
   "source": [
    "# 5. Extrapolation des trajets non complets"
   ]
  },
  {
   "cell_type": "code",
   "execution_count": 15,
   "metadata": {},
   "outputs": [
    {
     "name": "stdout",
     "output_type": "stream",
     "text": [
      "Wall time: 59.1 s\n"
     ]
    }
   ],
   "source": [
    "#creer les donnees necessaires\n",
    "%time df_filtre_A63,df_passage_transit,df_non_transit=t.param_trajet_incomplet('2019-01-28 00:00:00',df_od_corrige,df_passages2,dico_passag)"
   ]
  },
  {
   "cell_type": "code",
   "execution_count": 18,
   "metadata": {},
   "outputs": [
    {
     "name": "stdout",
     "output_type": "stream",
     "text": [
      "date : 2019-01-31 00:00:00 debut_traitement : 2019-05-16 21:13:50.615971\n",
      "date : 2019-02-01 00:00:00 debut_traitement : 2019-05-16 21:15:37.979249\n",
      "date : 2019-02-02 00:00:00 debut_traitement : 2019-05-16 21:16:40.077915\n",
      "date : 2019-02-03 00:00:00 debut_traitement : 2019-05-16 21:17:03.510637\n",
      "date : 2019-02-04 00:00:00 debut_traitement : 2019-05-16 21:17:23.077283\n",
      "date : 2019-02-05 00:00:00 debut_traitement : 2019-05-16 21:18:07.226284\n",
      "date : 2019-02-06 00:00:00 debut_traitement : 2019-05-16 21:19:00.164409\n",
      "date : 2019-02-07 00:00:00 debut_traitement : 2019-05-16 21:19:45.334828\n",
      "date : 2019-02-08 00:00:00 debut_traitement : 2019-05-16 21:20:19.822434\n",
      "date : 2019-02-09 00:00:00 debut_traitement : 2019-05-16 21:20:45.965237\n",
      "date : 2019-02-10 00:00:00 debut_traitement : 2019-05-16 21:21:02.941735\n",
      "Wall time: 7min 28s\n"
     ]
    }
   ],
   "source": [
    "#trajet de transit incomplet sans filtre sur temps de parcours\n",
    "%time trajet_transit_incomplet2, passage2=t.transit_trajet_incomplet(df_filtre_A63,df_passage_transit,'2019-01-23 00:00:00',22, df_passages2)"
   ]
  },
  {
   "cell_type": "code",
   "execution_count": 19,
   "metadata": {},
   "outputs": [],
   "source": [
    "#filtrer selon le temps de parcours\n",
    "trajet_transit_incomplet_filtre_temps=t.jointure_temps_reel_theorique(trajet_transit_incomplet2,dixco_tpsmax_corrige,t.liste_trajet_incomplet, 15,'incomplet')\n",
    "#mettre en forme les attributs\n",
    "trajet_transit_incomplet_filtre_temps=trajet_transit_incomplet_filtre_temps[['date_cam_1', 'immat', 'state', 'l', 'date_cam_2', 'cameras', 'origine',\n",
    "       'destination', 'o_d', 'tps_parcours', 'period', 'date', 'temps', 'type',\n",
    "       'tps_parcours_theoriq', 'filtre_tps']]"
   ]
  },
  {
   "cell_type": "code",
   "execution_count": 20,
   "metadata": {},
   "outputs": [],
   "source": [
    "#filtrer le df : \n",
    "trajet_transit_incomplet_final=trajet_transit_incomplet_filtre_temps.loc[trajet_transit_incomplet_filtre_temps['filtre_tps']==1].copy()\n",
    "#ajouter l'attribut d'identification des trajets \n",
    "trajet_transit_incomplet_final['correction_o_d']=True\n",
    "trajet_transit_incomplet_final['correction_o_d_type']='extrapole'\n",
    "#6. Ajouter au df des o_d précédents : \n",
    "df_od_final=pd.concat([df_od_corrige,trajet_transit_incomplet_final],sort=False)"
   ]
  },
  {
   "cell_type": "markdown",
   "metadata": {},
   "source": [
    "# 6. Créer les tableaux de matrice o_d"
   ]
  },
  {
   "cell_type": "markdown",
   "metadata": {},
   "source": [
    "## 6.1 Nb total de veh sur la periode"
   ]
  },
  {
   "cell_type": "code",
   "execution_count": 114,
   "metadata": {},
   "outputs": [],
   "source": [
    "# dico des o-d nombre total\n",
    "dico_mat_od={'mat_od_marge'+str(i):pd.pivot_table(dico_df_od_ok['df_od_ok_marge'+str(i)],values='l', index='origine', \n",
    "                                                  columns='destination',aggfunc='count', margins=True).fillna('NC') for i in [0,15,30,45,600]}"
   ]
  },
  {
   "cell_type": "code",
   "execution_count": 126,
   "metadata": {},
   "outputs": [
    {
     "data": {
      "text/html": [
       "<div>\n",
       "<style scoped>\n",
       "    .dataframe tbody tr th:only-of-type {\n",
       "        vertical-align: middle;\n",
       "    }\n",
       "\n",
       "    .dataframe tbody tr th {\n",
       "        vertical-align: top;\n",
       "    }\n",
       "\n",
       "    .dataframe thead th {\n",
       "        text-align: right;\n",
       "    }\n",
       "</style>\n",
       "<table border=\"1\" class=\"dataframe\">\n",
       "  <thead>\n",
       "    <tr style=\"text-align: right;\">\n",
       "      <th>destination</th>\n",
       "      <th>A10</th>\n",
       "      <th>A62</th>\n",
       "      <th>A63</th>\n",
       "      <th>A660</th>\n",
       "      <th>A89</th>\n",
       "      <th>N10</th>\n",
       "      <th>All</th>\n",
       "    </tr>\n",
       "    <tr>\n",
       "      <th>origine</th>\n",
       "      <th></th>\n",
       "      <th></th>\n",
       "      <th></th>\n",
       "      <th></th>\n",
       "      <th></th>\n",
       "      <th></th>\n",
       "      <th></th>\n",
       "    </tr>\n",
       "  </thead>\n",
       "  <tbody>\n",
       "    <tr>\n",
       "      <th>A10</th>\n",
       "      <td>NC</td>\n",
       "      <td>4929</td>\n",
       "      <td>7195</td>\n",
       "      <td>1838</td>\n",
       "      <td>175</td>\n",
       "      <td>NC</td>\n",
       "      <td>14137</td>\n",
       "    </tr>\n",
       "    <tr>\n",
       "      <th>A62</th>\n",
       "      <td>4850</td>\n",
       "      <td>NC</td>\n",
       "      <td>286</td>\n",
       "      <td>683</td>\n",
       "      <td>686</td>\n",
       "      <td>6228</td>\n",
       "      <td>12733</td>\n",
       "    </tr>\n",
       "    <tr>\n",
       "      <th>A63</th>\n",
       "      <td>7084</td>\n",
       "      <td>197</td>\n",
       "      <td>NC</td>\n",
       "      <td>NC</td>\n",
       "      <td>1540</td>\n",
       "      <td>39583</td>\n",
       "      <td>48404</td>\n",
       "    </tr>\n",
       "    <tr>\n",
       "      <th>A660</th>\n",
       "      <td>1747</td>\n",
       "      <td>511</td>\n",
       "      <td>NC</td>\n",
       "      <td>NC</td>\n",
       "      <td>709</td>\n",
       "      <td>7508</td>\n",
       "      <td>10475</td>\n",
       "    </tr>\n",
       "    <tr>\n",
       "      <th>A89</th>\n",
       "      <td>193</td>\n",
       "      <td>599</td>\n",
       "      <td>2193</td>\n",
       "      <td>1058</td>\n",
       "      <td>NC</td>\n",
       "      <td>NC</td>\n",
       "      <td>4043</td>\n",
       "    </tr>\n",
       "    <tr>\n",
       "      <th>N10</th>\n",
       "      <td>NC</td>\n",
       "      <td>3894</td>\n",
       "      <td>32294</td>\n",
       "      <td>6723</td>\n",
       "      <td>NC</td>\n",
       "      <td>NC</td>\n",
       "      <td>42911</td>\n",
       "    </tr>\n",
       "    <tr>\n",
       "      <th>All</th>\n",
       "      <td>13874</td>\n",
       "      <td>10130</td>\n",
       "      <td>41968</td>\n",
       "      <td>10302</td>\n",
       "      <td>3110</td>\n",
       "      <td>53319</td>\n",
       "      <td>132703</td>\n",
       "    </tr>\n",
       "  </tbody>\n",
       "</table>\n",
       "</div>"
      ],
      "text/plain": [
       "destination    A10    A62    A63   A660   A89    N10     All\n",
       "origine                                                     \n",
       "A10             NC   4929   7195   1838   175     NC   14137\n",
       "A62           4850     NC    286    683   686   6228   12733\n",
       "A63           7084    197     NC     NC  1540  39583   48404\n",
       "A660          1747    511     NC     NC   709   7508   10475\n",
       "A89            193    599   2193   1058    NC     NC    4043\n",
       "N10             NC   3894  32294   6723    NC     NC   42911\n",
       "All          13874  10130  41968  10302  3110  53319  132703"
      ]
     },
     "execution_count": 126,
     "metadata": {},
     "output_type": "execute_result"
    }
   ],
   "source": [
    "dico_mat_od['mat_od_marge0']"
   ]
  },
  {
   "cell_type": "markdown",
   "metadata": {},
   "source": [
    "## 6.2 par jour ouvre"
   ]
  },
  {
   "cell_type": "code",
   "execution_count": 69,
   "metadata": {},
   "outputs": [
    {
     "data": {
      "text/html": [
       "<div>\n",
       "<style scoped>\n",
       "    .dataframe tbody tr th:only-of-type {\n",
       "        vertical-align: middle;\n",
       "    }\n",
       "\n",
       "    .dataframe tbody tr th {\n",
       "        vertical-align: top;\n",
       "    }\n",
       "\n",
       "    .dataframe thead th {\n",
       "        text-align: right;\n",
       "    }\n",
       "</style>\n",
       "<table border=\"1\" class=\"dataframe\">\n",
       "  <thead>\n",
       "    <tr style=\"text-align: right;\">\n",
       "      <th>destination</th>\n",
       "      <th>A10</th>\n",
       "      <th>A62</th>\n",
       "      <th>A63</th>\n",
       "      <th>A660</th>\n",
       "      <th>A89</th>\n",
       "      <th>N10</th>\n",
       "      <th>All</th>\n",
       "    </tr>\n",
       "    <tr>\n",
       "      <th>origine</th>\n",
       "      <th></th>\n",
       "      <th></th>\n",
       "      <th></th>\n",
       "      <th></th>\n",
       "      <th></th>\n",
       "      <th></th>\n",
       "      <th></th>\n",
       "    </tr>\n",
       "  </thead>\n",
       "  <tbody>\n",
       "    <tr>\n",
       "      <th>A10</th>\n",
       "      <td>NC</td>\n",
       "      <td>5713</td>\n",
       "      <td>9116</td>\n",
       "      <td>2128</td>\n",
       "      <td>320</td>\n",
       "      <td>NC</td>\n",
       "      <td>17277</td>\n",
       "    </tr>\n",
       "    <tr>\n",
       "      <th>A62</th>\n",
       "      <td>5772</td>\n",
       "      <td>NC</td>\n",
       "      <td>457</td>\n",
       "      <td>907</td>\n",
       "      <td>1003</td>\n",
       "      <td>7108</td>\n",
       "      <td>15247</td>\n",
       "    </tr>\n",
       "    <tr>\n",
       "      <th>A63</th>\n",
       "      <td>8579</td>\n",
       "      <td>295</td>\n",
       "      <td>NC</td>\n",
       "      <td>NC</td>\n",
       "      <td>2090</td>\n",
       "      <td>44031</td>\n",
       "      <td>54995</td>\n",
       "    </tr>\n",
       "    <tr>\n",
       "      <th>A660</th>\n",
       "      <td>2082</td>\n",
       "      <td>764</td>\n",
       "      <td>NC</td>\n",
       "      <td>NC</td>\n",
       "      <td>1027</td>\n",
       "      <td>7805</td>\n",
       "      <td>11678</td>\n",
       "    </tr>\n",
       "    <tr>\n",
       "      <th>A89</th>\n",
       "      <td>281</td>\n",
       "      <td>904</td>\n",
       "      <td>2922</td>\n",
       "      <td>1348</td>\n",
       "      <td>NC</td>\n",
       "      <td>NC</td>\n",
       "      <td>5455</td>\n",
       "    </tr>\n",
       "    <tr>\n",
       "      <th>N10</th>\n",
       "      <td>NC</td>\n",
       "      <td>4570</td>\n",
       "      <td>36173</td>\n",
       "      <td>6562</td>\n",
       "      <td>NC</td>\n",
       "      <td>NC</td>\n",
       "      <td>47305</td>\n",
       "    </tr>\n",
       "    <tr>\n",
       "      <th>All</th>\n",
       "      <td>16714</td>\n",
       "      <td>12246</td>\n",
       "      <td>48668</td>\n",
       "      <td>10945</td>\n",
       "      <td>4440</td>\n",
       "      <td>58944</td>\n",
       "      <td>151957</td>\n",
       "    </tr>\n",
       "  </tbody>\n",
       "</table>\n",
       "</div>"
      ],
      "text/plain": [
       "destination    A10    A62    A63   A660   A89    N10     All\n",
       "origine                                                     \n",
       "A10             NC   5713   9116   2128   320     NC   17277\n",
       "A62           5772     NC    457    907  1003   7108   15247\n",
       "A63           8579    295     NC     NC  2090  44031   54995\n",
       "A660          2082    764     NC     NC  1027   7805   11678\n",
       "A89            281    904   2922   1348    NC     NC    5455\n",
       "N10             NC   4570  36173   6562    NC     NC   47305\n",
       "All          16714  12246  48668  10945  4440  58944  151957"
      ]
     },
     "execution_count": 69,
     "metadata": {},
     "output_type": "execute_result"
    }
   ],
   "source": [
    "# attention, cen'est qu'un exemple, car pour certaines o_d il faut que les jours sans données soit suppr de la df de base, et que le coeff divisuer soit adapté.\n",
    "df_od_ouvre_final=dico_df_transit['df_transit_marge0'].loc[dico_df_transit['df_transit_marge0'].set_index('date_cam_1').index.dayofweek<5]\n",
    "pivot_od_marge30_jo=pd.pivot_table(df_od_ouvre_final,values='l', index='origine', columns='destination',aggfunc='count', margins=True).fillna('NC')\n",
    "pivot_od_marge30_jo_j=pivot_od_marge30_jo.applymap(lambda x : round(x/16) if (isinstance(x,float) or isinstance(x,int)) else 'NC')\n",
    "pivot_od_marge30_jo_j"
   ]
  },
  {
   "cell_type": "code",
   "execution_count": 93,
   "metadata": {},
   "outputs": [
    {
     "data": {
      "text/html": [
       "<div>\n",
       "<style scoped>\n",
       "    .dataframe tbody tr th:only-of-type {\n",
       "        vertical-align: middle;\n",
       "    }\n",
       "\n",
       "    .dataframe tbody tr th {\n",
       "        vertical-align: top;\n",
       "    }\n",
       "\n",
       "    .dataframe thead th {\n",
       "        text-align: right;\n",
       "    }\n",
       "</style>\n",
       "<table border=\"1\" class=\"dataframe\">\n",
       "  <thead>\n",
       "    <tr style=\"text-align: right;\">\n",
       "      <th>destination</th>\n",
       "      <th>A10</th>\n",
       "      <th>A62</th>\n",
       "      <th>A63</th>\n",
       "      <th>A660</th>\n",
       "      <th>A89</th>\n",
       "      <th>N10</th>\n",
       "      <th>All</th>\n",
       "    </tr>\n",
       "    <tr>\n",
       "      <th>origine</th>\n",
       "      <th></th>\n",
       "      <th></th>\n",
       "      <th></th>\n",
       "      <th></th>\n",
       "      <th></th>\n",
       "      <th></th>\n",
       "      <th></th>\n",
       "    </tr>\n",
       "  </thead>\n",
       "  <tbody>\n",
       "    <tr>\n",
       "      <th>A10</th>\n",
       "      <td>NaN</td>\n",
       "      <td>7.0</td>\n",
       "      <td>16.0</td>\n",
       "      <td>13.0</td>\n",
       "      <td>11.0</td>\n",
       "      <td>NaN</td>\n",
       "      <td>12.0</td>\n",
       "    </tr>\n",
       "    <tr>\n",
       "      <th>A62</th>\n",
       "      <td>11.0</td>\n",
       "      <td>NaN</td>\n",
       "      <td>32.0</td>\n",
       "      <td>14.0</td>\n",
       "      <td>16.0</td>\n",
       "      <td>5.0</td>\n",
       "      <td>9.0</td>\n",
       "    </tr>\n",
       "    <tr>\n",
       "      <th>A63</th>\n",
       "      <td>22.0</td>\n",
       "      <td>19.0</td>\n",
       "      <td>NaN</td>\n",
       "      <td>NaN</td>\n",
       "      <td>18.0</td>\n",
       "      <td>13.0</td>\n",
       "      <td>15.0</td>\n",
       "    </tr>\n",
       "    <tr>\n",
       "      <th>A660</th>\n",
       "      <td>18.0</td>\n",
       "      <td>12.0</td>\n",
       "      <td>NaN</td>\n",
       "      <td>NaN</td>\n",
       "      <td>19.0</td>\n",
       "      <td>7.0</td>\n",
       "      <td>10.0</td>\n",
       "    </tr>\n",
       "    <tr>\n",
       "      <th>A89</th>\n",
       "      <td>20.0</td>\n",
       "      <td>14.0</td>\n",
       "      <td>21.0</td>\n",
       "      <td>14.0</td>\n",
       "      <td>NaN</td>\n",
       "      <td>NaN</td>\n",
       "      <td>17.0</td>\n",
       "    </tr>\n",
       "    <tr>\n",
       "      <th>N10</th>\n",
       "      <td>NaN</td>\n",
       "      <td>7.0</td>\n",
       "      <td>11.0</td>\n",
       "      <td>7.0</td>\n",
       "      <td>NaN</td>\n",
       "      <td>NaN</td>\n",
       "      <td>10.0</td>\n",
       "    </tr>\n",
       "    <tr>\n",
       "      <th>All</th>\n",
       "      <td>17.0</td>\n",
       "      <td>8.0</td>\n",
       "      <td>13.0</td>\n",
       "      <td>10.0</td>\n",
       "      <td>17.0</td>\n",
       "      <td>11.0</td>\n",
       "      <td>12.0</td>\n",
       "    </tr>\n",
       "  </tbody>\n",
       "</table>\n",
       "</div>"
      ],
      "text/plain": [
       "destination   A10   A62   A63  A660   A89   N10   All\n",
       "origine                                              \n",
       "A10           NaN   7.0  16.0  13.0  11.0   NaN  12.0\n",
       "A62          11.0   NaN  32.0  14.0  16.0   5.0   9.0\n",
       "A63          22.0  19.0   NaN   NaN  18.0  13.0  15.0\n",
       "A660         18.0  12.0   NaN   NaN  19.0   7.0  10.0\n",
       "A89          20.0  14.0  21.0  14.0   NaN   NaN  17.0\n",
       "N10           NaN   7.0  11.0   7.0   NaN   NaN  10.0\n",
       "All          17.0   8.0  13.0  10.0  17.0  11.0  12.0"
      ]
     },
     "execution_count": 93,
     "metadata": {},
     "output_type": "execute_result"
    }
   ],
   "source": [
    "#comparatif des df en JO : \n",
    "(round(((pivot_od_marge45_jo.applymap(lambda x : round(x/16) if (isinstance(x,float) or isinstance(x,int)) else np.nan)/\n",
    " pivot_od_marge15_jo.applymap(lambda x : round(x/16) if (isinstance(x,float) or isinstance(x,int)) else np.nan))-1)*100))"
   ]
  },
  {
   "cell_type": "markdown",
   "metadata": {},
   "source": [
    "## 6.3 Impact methode de prediction sur marge0"
   ]
  },
  {
   "cell_type": "code",
   "execution_count": 160,
   "metadata": {},
   "outputs": [
    {
     "data": {
      "text/html": [
       "<div>\n",
       "<style scoped>\n",
       "    .dataframe tbody tr th:only-of-type {\n",
       "        vertical-align: middle;\n",
       "    }\n",
       "\n",
       "    .dataframe tbody tr th {\n",
       "        vertical-align: top;\n",
       "    }\n",
       "\n",
       "    .dataframe thead th {\n",
       "        text-align: right;\n",
       "    }\n",
       "</style>\n",
       "<table border=\"1\" class=\"dataframe\">\n",
       "  <thead>\n",
       "    <tr style=\"text-align: right;\">\n",
       "      <th>destination</th>\n",
       "      <th>A10</th>\n",
       "      <th>A62</th>\n",
       "      <th>A63</th>\n",
       "      <th>A660</th>\n",
       "      <th>A89</th>\n",
       "      <th>N10</th>\n",
       "      <th>All</th>\n",
       "    </tr>\n",
       "    <tr>\n",
       "      <th>origine</th>\n",
       "      <th></th>\n",
       "      <th></th>\n",
       "      <th></th>\n",
       "      <th></th>\n",
       "      <th></th>\n",
       "      <th></th>\n",
       "      <th></th>\n",
       "    </tr>\n",
       "  </thead>\n",
       "  <tbody>\n",
       "    <tr>\n",
       "      <th>A10</th>\n",
       "      <td>NC</td>\n",
       "      <td>5643</td>\n",
       "      <td>8459</td>\n",
       "      <td>2469</td>\n",
       "      <td>341</td>\n",
       "      <td>NC</td>\n",
       "      <td>16912</td>\n",
       "    </tr>\n",
       "    <tr>\n",
       "      <th>A62</th>\n",
       "      <td>5489</td>\n",
       "      <td>NC</td>\n",
       "      <td>362</td>\n",
       "      <td>1100</td>\n",
       "      <td>1015</td>\n",
       "      <td>6909</td>\n",
       "      <td>14875</td>\n",
       "    </tr>\n",
       "    <tr>\n",
       "      <th>A63</th>\n",
       "      <td>8002</td>\n",
       "      <td>266</td>\n",
       "      <td>NC</td>\n",
       "      <td>NC</td>\n",
       "      <td>2031</td>\n",
       "      <td>41587</td>\n",
       "      <td>51886</td>\n",
       "    </tr>\n",
       "    <tr>\n",
       "      <th>A660</th>\n",
       "      <td>2093</td>\n",
       "      <td>834</td>\n",
       "      <td>NC</td>\n",
       "      <td>NC</td>\n",
       "      <td>1129</td>\n",
       "      <td>8239</td>\n",
       "      <td>12295</td>\n",
       "    </tr>\n",
       "    <tr>\n",
       "      <th>A89</th>\n",
       "      <td>292</td>\n",
       "      <td>937</td>\n",
       "      <td>2924</td>\n",
       "      <td>1551</td>\n",
       "      <td>NC</td>\n",
       "      <td>NC</td>\n",
       "      <td>5704</td>\n",
       "    </tr>\n",
       "    <tr>\n",
       "      <th>N10</th>\n",
       "      <td>NC</td>\n",
       "      <td>4536</td>\n",
       "      <td>34111</td>\n",
       "      <td>7461</td>\n",
       "      <td>NC</td>\n",
       "      <td>NC</td>\n",
       "      <td>46108</td>\n",
       "    </tr>\n",
       "    <tr>\n",
       "      <th>All</th>\n",
       "      <td>15876</td>\n",
       "      <td>12216</td>\n",
       "      <td>45856</td>\n",
       "      <td>12581</td>\n",
       "      <td>4516</td>\n",
       "      <td>56735</td>\n",
       "      <td>147780</td>\n",
       "    </tr>\n",
       "  </tbody>\n",
       "</table>\n",
       "</div>"
      ],
      "text/plain": [
       "destination    A10    A62    A63   A660   A89    N10     All\n",
       "origine                                                     \n",
       "A10             NC   5643   8459   2469   341     NC   16912\n",
       "A62           5489     NC    362   1100  1015   6909   14875\n",
       "A63           8002    266     NC     NC  2031  41587   51886\n",
       "A660          2093    834     NC     NC  1129   8239   12295\n",
       "A89            292    937   2924   1551    NC     NC    5704\n",
       "N10             NC   4536  34111   7461    NC     NC   46108\n",
       "All          15876  12216  45856  12581  4516  56735  147780"
      ]
     },
     "execution_count": 160,
     "metadata": {},
     "output_type": "execute_result"
    }
   ],
   "source": [
    "pd.pivot_table(dico_extrapole_prediction['marge15'].loc[dico_extrapole_prediction['marge15']['filtre_tps']==1],values='l', index='origine', \n",
    "                                                  columns='destination',aggfunc='count', margins=True).fillna('NC')"
   ]
  },
  {
   "cell_type": "markdown",
   "metadata": {},
   "source": [
    "***Impact redressement vaeurs A63 et A660*** "
   ]
  },
  {
   "cell_type": "code",
   "execution_count": 22,
   "metadata": {},
   "outputs": [
    {
     "data": {
      "text/html": [
       "<div>\n",
       "<style scoped>\n",
       "    .dataframe tbody tr th:only-of-type {\n",
       "        vertical-align: middle;\n",
       "    }\n",
       "\n",
       "    .dataframe tbody tr th {\n",
       "        vertical-align: top;\n",
       "    }\n",
       "\n",
       "    .dataframe thead th {\n",
       "        text-align: right;\n",
       "    }\n",
       "</style>\n",
       "<table border=\"1\" class=\"dataframe\">\n",
       "  <thead>\n",
       "    <tr style=\"text-align: right;\">\n",
       "      <th>destination</th>\n",
       "      <th>A10</th>\n",
       "      <th>A62</th>\n",
       "      <th>A63</th>\n",
       "      <th>A660</th>\n",
       "      <th>A89</th>\n",
       "      <th>N10</th>\n",
       "      <th>All</th>\n",
       "    </tr>\n",
       "    <tr>\n",
       "      <th>origine</th>\n",
       "      <th></th>\n",
       "      <th></th>\n",
       "      <th></th>\n",
       "      <th></th>\n",
       "      <th></th>\n",
       "      <th></th>\n",
       "      <th></th>\n",
       "    </tr>\n",
       "  </thead>\n",
       "  <tbody>\n",
       "    <tr>\n",
       "      <th>A10</th>\n",
       "      <td>NC</td>\n",
       "      <td>2965</td>\n",
       "      <td>4753</td>\n",
       "      <td>794</td>\n",
       "      <td>168</td>\n",
       "      <td>NC</td>\n",
       "      <td>8680</td>\n",
       "    </tr>\n",
       "    <tr>\n",
       "      <th>A62</th>\n",
       "      <td>1205</td>\n",
       "      <td>NC</td>\n",
       "      <td>198</td>\n",
       "      <td>383</td>\n",
       "      <td>271</td>\n",
       "      <td>1372</td>\n",
       "      <td>3429</td>\n",
       "    </tr>\n",
       "    <tr>\n",
       "      <th>A63</th>\n",
       "      <td>3806</td>\n",
       "      <td>123</td>\n",
       "      <td>NC</td>\n",
       "      <td>NC</td>\n",
       "      <td>842</td>\n",
       "      <td>20183</td>\n",
       "      <td>24954</td>\n",
       "    </tr>\n",
       "    <tr>\n",
       "      <th>A660</th>\n",
       "      <td>927</td>\n",
       "      <td>372</td>\n",
       "      <td>NC</td>\n",
       "      <td>NC</td>\n",
       "      <td>462</td>\n",
       "      <td>4116</td>\n",
       "      <td>5877</td>\n",
       "    </tr>\n",
       "    <tr>\n",
       "      <th>A89</th>\n",
       "      <td>133</td>\n",
       "      <td>384</td>\n",
       "      <td>1147</td>\n",
       "      <td>493</td>\n",
       "      <td>NC</td>\n",
       "      <td>NC</td>\n",
       "      <td>2157</td>\n",
       "    </tr>\n",
       "    <tr>\n",
       "      <th>N10</th>\n",
       "      <td>NC</td>\n",
       "      <td>2412</td>\n",
       "      <td>21766</td>\n",
       "      <td>2895</td>\n",
       "      <td>NC</td>\n",
       "      <td>NC</td>\n",
       "      <td>27073</td>\n",
       "    </tr>\n",
       "    <tr>\n",
       "      <th>All</th>\n",
       "      <td>6071</td>\n",
       "      <td>6256</td>\n",
       "      <td>27864</td>\n",
       "      <td>4565</td>\n",
       "      <td>1743</td>\n",
       "      <td>25671</td>\n",
       "      <td>72170</td>\n",
       "    </tr>\n",
       "  </tbody>\n",
       "</table>\n",
       "</div>"
      ],
      "text/plain": [
       "destination   A10   A62    A63  A660   A89    N10    All\n",
       "origine                                                 \n",
       "A10            NC  2965   4753   794   168     NC   8680\n",
       "A62          1205    NC    198   383   271   1372   3429\n",
       "A63          3806   123     NC    NC   842  20183  24954\n",
       "A660          927   372     NC    NC   462   4116   5877\n",
       "A89           133   384   1147   493    NC     NC   2157\n",
       "N10            NC  2412  21766  2895    NC     NC  27073\n",
       "All          6071  6256  27864  4565  1743  25671  72170"
      ]
     },
     "execution_count": 22,
     "metadata": {},
     "output_type": "execute_result"
    }
   ],
   "source": [
    "# apres correction des A660 liees a A63\n",
    "pd.pivot_table(df_od_corrige,values='l', index='origine', columns='destination',aggfunc='count', margins=True).fillna('NC')"
   ]
  },
  {
   "cell_type": "code",
   "execution_count": 97,
   "metadata": {},
   "outputs": [
    {
     "data": {
      "text/html": [
       "<div>\n",
       "<style scoped>\n",
       "    .dataframe tbody tr th:only-of-type {\n",
       "        vertical-align: middle;\n",
       "    }\n",
       "\n",
       "    .dataframe tbody tr th {\n",
       "        vertical-align: top;\n",
       "    }\n",
       "\n",
       "    .dataframe thead th {\n",
       "        text-align: right;\n",
       "    }\n",
       "</style>\n",
       "<table border=\"1\" class=\"dataframe\">\n",
       "  <thead>\n",
       "    <tr style=\"text-align: right;\">\n",
       "      <th>destination</th>\n",
       "      <th>A10</th>\n",
       "      <th>A62</th>\n",
       "      <th>A63</th>\n",
       "      <th>A660</th>\n",
       "      <th>A89</th>\n",
       "      <th>N10</th>\n",
       "      <th>All</th>\n",
       "    </tr>\n",
       "    <tr>\n",
       "      <th>origine</th>\n",
       "      <th></th>\n",
       "      <th></th>\n",
       "      <th></th>\n",
       "      <th></th>\n",
       "      <th></th>\n",
       "      <th></th>\n",
       "      <th></th>\n",
       "    </tr>\n",
       "  </thead>\n",
       "  <tbody>\n",
       "    <tr>\n",
       "      <th>A10</th>\n",
       "      <td>NC</td>\n",
       "      <td>290</td>\n",
       "      <td>427</td>\n",
       "      <td>20</td>\n",
       "      <td>28</td>\n",
       "      <td>NC</td>\n",
       "      <td>765</td>\n",
       "    </tr>\n",
       "    <tr>\n",
       "      <th>A62</th>\n",
       "      <td>280</td>\n",
       "      <td>NC</td>\n",
       "      <td>25</td>\n",
       "      <td>66</td>\n",
       "      <td>56</td>\n",
       "      <td>488</td>\n",
       "      <td>915</td>\n",
       "    </tr>\n",
       "    <tr>\n",
       "      <th>A63</th>\n",
       "      <td>470</td>\n",
       "      <td>20</td>\n",
       "      <td>NC</td>\n",
       "      <td>NC</td>\n",
       "      <td>120</td>\n",
       "      <td>2467</td>\n",
       "      <td>3077</td>\n",
       "    </tr>\n",
       "    <tr>\n",
       "      <th>A660</th>\n",
       "      <td>115</td>\n",
       "      <td>NC</td>\n",
       "      <td>NC</td>\n",
       "      <td>NC</td>\n",
       "      <td>71</td>\n",
       "      <td>415</td>\n",
       "      <td>601</td>\n",
       "    </tr>\n",
       "    <tr>\n",
       "      <th>A89</th>\n",
       "      <td>NC</td>\n",
       "      <td>75</td>\n",
       "      <td>223</td>\n",
       "      <td>74</td>\n",
       "      <td>NC</td>\n",
       "      <td>NC</td>\n",
       "      <td>372</td>\n",
       "    </tr>\n",
       "    <tr>\n",
       "      <th>N10</th>\n",
       "      <td>NC</td>\n",
       "      <td>327</td>\n",
       "      <td>1944</td>\n",
       "      <td>329</td>\n",
       "      <td>NC</td>\n",
       "      <td>NC</td>\n",
       "      <td>2599</td>\n",
       "    </tr>\n",
       "    <tr>\n",
       "      <th>All</th>\n",
       "      <td>865</td>\n",
       "      <td>712</td>\n",
       "      <td>2619</td>\n",
       "      <td>489</td>\n",
       "      <td>274</td>\n",
       "      <td>3370</td>\n",
       "      <td>8330</td>\n",
       "    </tr>\n",
       "  </tbody>\n",
       "</table>\n",
       "</div>"
      ],
      "text/plain": [
       "destination  A10  A62   A63 A660  A89   N10   All\n",
       "origine                                          \n",
       "A10           NC  290   427   20   28    NC   765\n",
       "A62          280   NC    25   66   56   488   915\n",
       "A63          470   20    NC   NC  120  2467  3077\n",
       "A660         115   NC    NC   NC   71   415   601\n",
       "A89           NC   75   223   74   NC    NC   372\n",
       "N10           NC  327  1944  329   NC    NC  2599\n",
       "All          865  712  2619  489  274  3370  8330"
      ]
     },
     "execution_count": 97,
     "metadata": {},
     "output_type": "execute_result"
    }
   ],
   "source": [
    "pivot_od_marge600_jo_j=pivot_od_marge600_jo.applymap(lambda x : round(x/16) if (isinstance(x,float) or isinstance(x,int)) else 'NC')\n",
    "pivot_od_marge600_jo_j"
   ]
  },
  {
   "cell_type": "code",
   "execution_count": 75,
   "metadata": {},
   "outputs": [
    {
     "ename": "NameError",
     "evalue": "name 'df_od_final' is not defined",
     "output_type": "error",
     "traceback": [
      "\u001b[1;31m---------------------------------------------------------------------------\u001b[0m",
      "\u001b[1;31mNameError\u001b[0m                                 Traceback (most recent call last)",
      "\u001b[1;32m<ipython-input-75-f2a735c6c7d3>\u001b[0m in \u001b[0;36m<module>\u001b[1;34m\u001b[0m\n\u001b[0;32m      1\u001b[0m \u001b[1;31m# apres extrapolation\u001b[0m\u001b[1;33m\u001b[0m\u001b[1;33m\u001b[0m\u001b[0m\n\u001b[1;32m----> 2\u001b[1;33m \u001b[0mpd\u001b[0m\u001b[1;33m.\u001b[0m\u001b[0mpivot_table\u001b[0m\u001b[1;33m(\u001b[0m\u001b[0mdf_od_final\u001b[0m\u001b[1;33m,\u001b[0m\u001b[0mvalues\u001b[0m\u001b[1;33m=\u001b[0m\u001b[1;34m'l'\u001b[0m\u001b[1;33m,\u001b[0m \u001b[0mindex\u001b[0m\u001b[1;33m=\u001b[0m\u001b[1;34m'origine'\u001b[0m\u001b[1;33m,\u001b[0m \u001b[0mcolumns\u001b[0m\u001b[1;33m=\u001b[0m\u001b[1;34m'destination'\u001b[0m\u001b[1;33m,\u001b[0m\u001b[0maggfunc\u001b[0m\u001b[1;33m=\u001b[0m\u001b[1;34m'count'\u001b[0m\u001b[1;33m,\u001b[0m \u001b[0mmargins\u001b[0m\u001b[1;33m=\u001b[0m\u001b[1;32mTrue\u001b[0m\u001b[1;33m)\u001b[0m\u001b[1;33m.\u001b[0m\u001b[0mfillna\u001b[0m\u001b[1;33m(\u001b[0m\u001b[1;34m'NC'\u001b[0m\u001b[1;33m)\u001b[0m\u001b[1;33m\u001b[0m\u001b[0m\n\u001b[0m",
      "\u001b[1;31mNameError\u001b[0m: name 'df_od_final' is not defined"
     ]
    }
   ],
   "source": [
    "# apres extrapolation\n",
    "pd.pivot_table(df_od_final,values='l', index='origine', columns='destination',aggfunc='count', margins=True).fillna('NC')"
   ]
  },
  {
   "cell_type": "code",
   "execution_count": 27,
   "metadata": {},
   "outputs": [],
   "source": [
    "# O-D apres extrapolation en moyenne sur jour ouvre\n",
    "df_od_ouvre_final=df_od_final.loc[df_od_final.set_index('date_cam_1').index.dayofweek<5]\n",
    "pivot_od_jo=pd.pivot_table(df_od_ouvre_final,values='l', index='origine', columns='destination',aggfunc='count', margins=True).fillna('NC')\n",
    "pivot_od_jo"
   ]
  },
  {
   "cell_type": "code",
   "execution_count": 38,
   "metadata": {},
   "outputs": [
    {
     "data": {
      "text/html": [
       "<div>\n",
       "<style scoped>\n",
       "    .dataframe tbody tr th:only-of-type {\n",
       "        vertical-align: middle;\n",
       "    }\n",
       "\n",
       "    .dataframe tbody tr th {\n",
       "        vertical-align: top;\n",
       "    }\n",
       "\n",
       "    .dataframe thead th {\n",
       "        text-align: right;\n",
       "    }\n",
       "</style>\n",
       "<table border=\"1\" class=\"dataframe\">\n",
       "  <thead>\n",
       "    <tr style=\"text-align: right;\">\n",
       "      <th>destination</th>\n",
       "      <th>A10</th>\n",
       "      <th>A62</th>\n",
       "      <th>A63</th>\n",
       "      <th>A660</th>\n",
       "      <th>A89</th>\n",
       "      <th>N10</th>\n",
       "      <th>All</th>\n",
       "    </tr>\n",
       "    <tr>\n",
       "      <th>origine</th>\n",
       "      <th></th>\n",
       "      <th></th>\n",
       "      <th></th>\n",
       "      <th></th>\n",
       "      <th></th>\n",
       "      <th></th>\n",
       "      <th></th>\n",
       "    </tr>\n",
       "  </thead>\n",
       "  <tbody>\n",
       "    <tr>\n",
       "      <th>A10</th>\n",
       "      <td>NC</td>\n",
       "      <td>525.6</td>\n",
       "      <td>716.2</td>\n",
       "      <td>126.4</td>\n",
       "      <td>31.8</td>\n",
       "      <td>NC</td>\n",
       "      <td>1400.0</td>\n",
       "    </tr>\n",
       "    <tr>\n",
       "      <th>A62</th>\n",
       "      <td>223.8</td>\n",
       "      <td>NC</td>\n",
       "      <td>36.2</td>\n",
       "      <td>75</td>\n",
       "      <td>50.8</td>\n",
       "      <td>262.4</td>\n",
       "      <td>648.2</td>\n",
       "    </tr>\n",
       "    <tr>\n",
       "      <th>A63</th>\n",
       "      <td>560.2</td>\n",
       "      <td>23</td>\n",
       "      <td>NC</td>\n",
       "      <td>NC</td>\n",
       "      <td>139.6</td>\n",
       "      <td>2869.2</td>\n",
       "      <td>3592.0</td>\n",
       "    </tr>\n",
       "    <tr>\n",
       "      <th>A660</th>\n",
       "      <td>166.2</td>\n",
       "      <td>70.2</td>\n",
       "      <td>NC</td>\n",
       "      <td>NC</td>\n",
       "      <td>87.6</td>\n",
       "      <td>721.8</td>\n",
       "      <td>1045.8</td>\n",
       "    </tr>\n",
       "    <tr>\n",
       "      <th>A89</th>\n",
       "      <td>24.8</td>\n",
       "      <td>73.4</td>\n",
       "      <td>189</td>\n",
       "      <td>90.2</td>\n",
       "      <td>NC</td>\n",
       "      <td>NC</td>\n",
       "      <td>377.4</td>\n",
       "    </tr>\n",
       "    <tr>\n",
       "      <th>N10</th>\n",
       "      <td>NC</td>\n",
       "      <td>438.8</td>\n",
       "      <td>3117.8</td>\n",
       "      <td>429.4</td>\n",
       "      <td>NC</td>\n",
       "      <td>NC</td>\n",
       "      <td>3986.0</td>\n",
       "    </tr>\n",
       "    <tr>\n",
       "      <th>All</th>\n",
       "      <td>975</td>\n",
       "      <td>1131</td>\n",
       "      <td>4059.2</td>\n",
       "      <td>721</td>\n",
       "      <td>309.8</td>\n",
       "      <td>3853.4</td>\n",
       "      <td>11049.4</td>\n",
       "    </tr>\n",
       "  </tbody>\n",
       "</table>\n",
       "</div>"
      ],
      "text/plain": [
       "destination    A10    A62     A63   A660    A89     N10      All\n",
       "origine                                                         \n",
       "A10             NC  525.6   716.2  126.4   31.8      NC   1400.0\n",
       "A62          223.8     NC    36.2     75   50.8   262.4    648.2\n",
       "A63          560.2     23      NC     NC  139.6  2869.2   3592.0\n",
       "A660         166.2   70.2      NC     NC   87.6   721.8   1045.8\n",
       "A89           24.8   73.4     189   90.2     NC      NC    377.4\n",
       "N10             NC  438.8  3117.8  429.4     NC      NC   3986.0\n",
       "All            975   1131  4059.2    721  309.8  3853.4  11049.4"
      ]
     },
     "execution_count": 38,
     "metadata": {},
     "output_type": "execute_result"
    }
   ],
   "source": [
    "pivot_od_jo.applymap(lambda x : x/5 if (isinstance(x,float) or isinstance(x,int)) else 'NC')\n",
    "#pivot_od_jo.applymap(lambda x : type(x))"
   ]
  },
  {
   "cell_type": "markdown",
   "metadata": {},
   "source": [
    "# 7. Différeciation Rocade Est-Ouest\n",
    ">Cette analyse ne concerne que les trajets N10-A63, A10-A63, N10-A660, A10-A660"
   ]
  },
  {
   "cell_type": "code",
   "execution_count": 77,
   "metadata": {},
   "outputs": [
    {
     "name": "stdout",
     "output_type": "stream",
     "text": [
      "Object `t.differencier_rocade` not found.\n"
     ]
    }
   ],
   "source": [
    "??t.differencier_rocade"
   ]
  },
  {
   "cell_type": "code",
   "execution_count": 57,
   "metadata": {},
   "outputs": [
    {
     "data": {
      "text/html": [
       "<div>\n",
       "<style scoped>\n",
       "    .dataframe tbody tr th:only-of-type {\n",
       "        vertical-align: middle;\n",
       "    }\n",
       "\n",
       "    .dataframe tbody tr th {\n",
       "        vertical-align: top;\n",
       "    }\n",
       "\n",
       "    .dataframe thead th {\n",
       "        text-align: right;\n",
       "    }\n",
       "</style>\n",
       "<table border=\"1\" class=\"dataframe\">\n",
       "  <thead>\n",
       "    <tr style=\"text-align: right;\">\n",
       "      <th>type_rocade</th>\n",
       "      <th>Autre</th>\n",
       "      <th>Est</th>\n",
       "      <th>Ouest</th>\n",
       "      <th>All</th>\n",
       "    </tr>\n",
       "    <tr>\n",
       "      <th>o_d</th>\n",
       "      <th></th>\n",
       "      <th></th>\n",
       "      <th></th>\n",
       "      <th></th>\n",
       "    </tr>\n",
       "  </thead>\n",
       "  <tbody>\n",
       "    <tr>\n",
       "      <th>A10-A63</th>\n",
       "      <td>474</td>\n",
       "      <td>4126</td>\n",
       "      <td>153</td>\n",
       "      <td>4753</td>\n",
       "    </tr>\n",
       "    <tr>\n",
       "      <th>A10-A660</th>\n",
       "      <td>159</td>\n",
       "      <td>597</td>\n",
       "      <td>38</td>\n",
       "      <td>794</td>\n",
       "    </tr>\n",
       "    <tr>\n",
       "      <th>A63-A10</th>\n",
       "      <td>715</td>\n",
       "      <td>3053</td>\n",
       "      <td>38</td>\n",
       "      <td>3806</td>\n",
       "    </tr>\n",
       "    <tr>\n",
       "      <th>A660-A10</th>\n",
       "      <td>248</td>\n",
       "      <td>669</td>\n",
       "      <td>10</td>\n",
       "      <td>927</td>\n",
       "    </tr>\n",
       "    <tr>\n",
       "      <th>A660-N10</th>\n",
       "      <td>1184</td>\n",
       "      <td>2892</td>\n",
       "      <td>40</td>\n",
       "      <td>4116</td>\n",
       "    </tr>\n",
       "    <tr>\n",
       "      <th>N10-A63</th>\n",
       "      <td>2106</td>\n",
       "      <td>19016</td>\n",
       "      <td>644</td>\n",
       "      <td>21766</td>\n",
       "    </tr>\n",
       "    <tr>\n",
       "      <th>N10-A660</th>\n",
       "      <td>589</td>\n",
       "      <td>2205</td>\n",
       "      <td>101</td>\n",
       "      <td>2895</td>\n",
       "    </tr>\n",
       "    <tr>\n",
       "      <th>All</th>\n",
       "      <td>5475</td>\n",
       "      <td>32558</td>\n",
       "      <td>1024</td>\n",
       "      <td>39057</td>\n",
       "    </tr>\n",
       "  </tbody>\n",
       "</table>\n",
       "</div>"
      ],
      "text/plain": [
       "type_rocade  Autre    Est  Ouest    All\n",
       "o_d                                    \n",
       "A10-A63        474   4126    153   4753\n",
       "A10-A660       159    597     38    794\n",
       "A63-A10        715   3053     38   3806\n",
       "A660-A10       248    669     10    927\n",
       "A660-N10      1184   2892     40   4116\n",
       "N10-A63       2106  19016    644  21766\n",
       "N10-A660       589   2205    101   2895\n",
       "All           5475  32558   1024  39057"
      ]
     },
     "execution_count": 57,
     "metadata": {},
     "output_type": "execute_result"
    }
   ],
   "source": [
    "pivot_type_rocade"
   ]
  },
  {
   "cell_type": "markdown",
   "metadata": {},
   "source": [
    "# 7. Analyse du nb de VL, PL, PL en transit par heure et par camera \n",
    "> Le pb c'est que pour les camera de la Rocade, parfois on les PL n'y sont pas vus, de même pour les chemins extrapoles ou pour ceux corrigés : le passage soit n'existe pas, soit la camera du passage ne correspond pas à la destination finalement utilisées"
   ]
  },
  {
   "cell_type": "markdown",
   "metadata": {},
   "source": [
    "## 7.1 base : travail sur les données telles que créees"
   ]
  },
  {
   "cell_type": "code",
   "execution_count": 48,
   "metadata": {},
   "outputs": [],
   "source": [
    "df_vl=df_passages2.loc[df_passages2['l']!=1]\n",
    "df_pl=df_passages2.loc[df_passages2['l']==1]\n",
    "#df_passages_transit=t.trajet2passage(dico_od_final,df_pl) deféini plus haut :dico_passag_final"
   ]
  },
  {
   "cell_type": "code",
   "execution_count": 49,
   "metadata": {},
   "outputs": [
    {
     "name": "stdout",
     "output_type": "stream",
     "text": [
      "pl_tot =1920 , vl_tot=1920 , pl_transit=1262,pl_tot-joint-transit=1262\n",
      "Wall time: 1.51 s\n"
     ]
    }
   ],
   "source": [
    "%time synt_nb_veh_cam=t.pourcentage_pl_camera(df_pl,dico_passag_final, df_vl)"
   ]
  },
  {
   "cell_type": "code",
   "execution_count": 52,
   "metadata": {},
   "outputs": [
    {
     "data": {
      "application/vnd.vegalite.v2+json": {
       "$schema": "https://vega.github.io/schema/vega-lite/v2.6.0.json",
       "config": {
        "view": {
         "height": 300,
         "width": 400
        }
       },
       "datasets": {
        "data-6b445f40fa7e900c107e9c8919a0dff9": [
         {
          "camera_id": 4,
          "created": "2019-01-29T00:00:00",
          "nb_pl_tot": 85,
          "nb_pl_transit": 19,
          "nb_veh": 85,
          "pct_pl_transit": 22.352941176470587,
          "type": "PL total",
          "type_x": "PL total",
          "type_y": "PL transit"
         },
         {
          "camera_id": 4,
          "created": "2019-01-29T01:00:00",
          "nb_pl_tot": 64,
          "nb_pl_transit": 9,
          "nb_veh": 64,
          "pct_pl_transit": 14.0625,
          "type": "PL total",
          "type_x": "PL total",
          "type_y": "PL transit"
         },
         {
          "camera_id": 4,
          "created": "2019-01-29T02:00:00",
          "nb_pl_tot": 78,
          "nb_pl_transit": 7,
          "nb_veh": 78,
          "pct_pl_transit": 8.974358974358974,
          "type": "PL total",
          "type_x": "PL total",
          "type_y": "PL transit"
         },
         {
          "camera_id": 4,
          "created": "2019-01-29T03:00:00",
          "nb_pl_tot": 95,
          "nb_pl_transit": 8,
          "nb_veh": 95,
          "pct_pl_transit": 8.421052631578947,
          "type": "PL total",
          "type_x": "PL total",
          "type_y": "PL transit"
         },
         {
          "camera_id": 4,
          "created": "2019-01-29T04:00:00",
          "nb_pl_tot": 159,
          "nb_pl_transit": 24,
          "nb_veh": 159,
          "pct_pl_transit": 15.09433962264151,
          "type": "PL total",
          "type_x": "PL total",
          "type_y": "PL transit"
         },
         {
          "camera_id": 4,
          "created": "2019-01-29T05:00:00",
          "nb_pl_tot": 241,
          "nb_pl_transit": 44,
          "nb_veh": 241,
          "pct_pl_transit": 18.25726141078838,
          "type": "PL total",
          "type_x": "PL total",
          "type_y": "PL transit"
         },
         {
          "camera_id": 4,
          "created": "2019-01-29T06:00:00",
          "nb_pl_tot": 279,
          "nb_pl_transit": 70,
          "nb_veh": 279,
          "pct_pl_transit": 25.089605734767026,
          "type": "PL total",
          "type_x": "PL total",
          "type_y": "PL transit"
         },
         {
          "camera_id": 4,
          "created": "2019-01-29T07:00:00",
          "nb_pl_tot": 314,
          "nb_pl_transit": 126,
          "nb_veh": 314,
          "pct_pl_transit": 40.12738853503185,
          "type": "PL total",
          "type_x": "PL total",
          "type_y": "PL transit"
         },
         {
          "camera_id": 4,
          "created": "2019-01-29T08:00:00",
          "nb_pl_tot": 628,
          "nb_pl_transit": 294,
          "nb_veh": 628,
          "pct_pl_transit": 46.81528662420382,
          "type": "PL total",
          "type_x": "PL total",
          "type_y": "PL transit"
         },
         {
          "camera_id": 4,
          "created": "2019-01-29T09:00:00",
          "nb_pl_tot": 730,
          "nb_pl_transit": 301,
          "nb_veh": 730,
          "pct_pl_transit": 41.23287671232877,
          "type": "PL total",
          "type_x": "PL total",
          "type_y": "PL transit"
         },
         {
          "camera_id": 4,
          "created": "2019-01-29T10:00:00",
          "nb_pl_tot": 729,
          "nb_pl_transit": 259,
          "nb_veh": 729,
          "pct_pl_transit": 35.528120713305896,
          "type": "PL total",
          "type_x": "PL total",
          "type_y": "PL transit"
         },
         {
          "camera_id": 4,
          "created": "2019-01-29T11:00:00",
          "nb_pl_tot": 661,
          "nb_pl_transit": 257,
          "nb_veh": 661,
          "pct_pl_transit": 38.88048411497731,
          "type": "PL total",
          "type_x": "PL total",
          "type_y": "PL transit"
         },
         {
          "camera_id": 4,
          "created": "2019-01-29T12:00:00",
          "nb_pl_tot": 175,
          "nb_pl_transit": 65,
          "nb_veh": 175,
          "pct_pl_transit": 37.142857142857146,
          "type": "PL total",
          "type_x": "PL total",
          "type_y": "PL transit"
         },
         {
          "camera_id": 4,
          "created": "2019-01-29T13:00:00",
          "nb_pl_tot": 0,
          "nb_pl_transit": 0,
          "nb_veh": 0,
          "pct_pl_transit": 0,
          "type": "PL total",
          "type_x": "PL total",
          "type_y": "PL transit"
         },
         {
          "camera_id": 4,
          "created": "2019-01-29T14:00:00",
          "nb_pl_tot": 160,
          "nb_pl_transit": 56,
          "nb_veh": 160,
          "pct_pl_transit": 35,
          "type": "PL total",
          "type_x": "PL total",
          "type_y": "PL transit"
         },
         {
          "camera_id": 4,
          "created": "2019-01-29T15:00:00",
          "nb_pl_tot": 607,
          "nb_pl_transit": 209,
          "nb_veh": 607,
          "pct_pl_transit": 34.43163097199341,
          "type": "PL total",
          "type_x": "PL total",
          "type_y": "PL transit"
         },
         {
          "camera_id": 4,
          "created": "2019-01-29T16:00:00",
          "nb_pl_tot": 412,
          "nb_pl_transit": 136,
          "nb_veh": 412,
          "pct_pl_transit": 33.00970873786408,
          "type": "PL total",
          "type_x": "PL total",
          "type_y": "PL transit"
         },
         {
          "camera_id": 4,
          "created": "2019-01-29T17:00:00",
          "nb_pl_tot": 419,
          "nb_pl_transit": 64,
          "nb_veh": 419,
          "pct_pl_transit": 15.274463007159904,
          "type": "PL total",
          "type_x": "PL total",
          "type_y": "PL transit"
         },
         {
          "camera_id": 4,
          "created": "2019-01-29T18:00:00",
          "nb_pl_tot": 418,
          "nb_pl_transit": 69,
          "nb_veh": 418,
          "pct_pl_transit": 16.507177033492823,
          "type": "PL total",
          "type_x": "PL total",
          "type_y": "PL transit"
         },
         {
          "camera_id": 4,
          "created": "2019-01-29T19:00:00",
          "nb_pl_tot": 319,
          "nb_pl_transit": 73,
          "nb_veh": 319,
          "pct_pl_transit": 22.884012539184955,
          "type": "PL total",
          "type_x": "PL total",
          "type_y": "PL transit"
         },
         {
          "camera_id": 4,
          "created": "2019-01-29T20:00:00",
          "nb_pl_tot": 264,
          "nb_pl_transit": 87,
          "nb_veh": 264,
          "pct_pl_transit": 32.95454545454545,
          "type": "PL total",
          "type_x": "PL total",
          "type_y": "PL transit"
         },
         {
          "camera_id": 4,
          "created": "2019-01-29T21:00:00",
          "nb_pl_tot": 218,
          "nb_pl_transit": 69,
          "nb_veh": 218,
          "pct_pl_transit": 31.65137614678899,
          "type": "PL total",
          "type_x": "PL total",
          "type_y": "PL transit"
         },
         {
          "camera_id": 4,
          "created": "2019-01-29T22:00:00",
          "nb_pl_tot": 186,
          "nb_pl_transit": 68,
          "nb_veh": 186,
          "pct_pl_transit": 36.55913978494624,
          "type": "PL total",
          "type_x": "PL total",
          "type_y": "PL transit"
         },
         {
          "camera_id": 4,
          "created": "2019-01-29T23:00:00",
          "nb_pl_tot": 154,
          "nb_pl_transit": 47,
          "nb_veh": 154,
          "pct_pl_transit": 30.51948051948052,
          "type": "PL total",
          "type_x": "PL total",
          "type_y": "PL transit"
         },
         {
          "camera_id": 4,
          "created": "2019-01-29T00:00:00",
          "nb_pl_tot": 85,
          "nb_pl_transit": 19,
          "nb_veh": 204,
          "pct_pl_transit": 22.352941176470587,
          "type": "VL total",
          "type_x": "PL total",
          "type_y": "PL transit"
         },
         {
          "camera_id": 4,
          "created": "2019-01-29T01:00:00",
          "nb_pl_tot": 64,
          "nb_pl_transit": 9,
          "nb_veh": 165,
          "pct_pl_transit": 14.0625,
          "type": "VL total",
          "type_x": "PL total",
          "type_y": "PL transit"
         },
         {
          "camera_id": 4,
          "created": "2019-01-29T02:00:00",
          "nb_pl_tot": 78,
          "nb_pl_transit": 7,
          "nb_veh": 89,
          "pct_pl_transit": 8.974358974358974,
          "type": "VL total",
          "type_x": "PL total",
          "type_y": "PL transit"
         },
         {
          "camera_id": 4,
          "created": "2019-01-29T03:00:00",
          "nb_pl_tot": 95,
          "nb_pl_transit": 8,
          "nb_veh": 157,
          "pct_pl_transit": 8.421052631578947,
          "type": "VL total",
          "type_x": "PL total",
          "type_y": "PL transit"
         },
         {
          "camera_id": 4,
          "created": "2019-01-29T04:00:00",
          "nb_pl_tot": 159,
          "nb_pl_transit": 24,
          "nb_veh": 289,
          "pct_pl_transit": 15.09433962264151,
          "type": "VL total",
          "type_x": "PL total",
          "type_y": "PL transit"
         },
         {
          "camera_id": 4,
          "created": "2019-01-29T05:00:00",
          "nb_pl_tot": 241,
          "nb_pl_transit": 44,
          "nb_veh": 653,
          "pct_pl_transit": 18.25726141078838,
          "type": "VL total",
          "type_x": "PL total",
          "type_y": "PL transit"
         },
         {
          "camera_id": 4,
          "created": "2019-01-29T06:00:00",
          "nb_pl_tot": 279,
          "nb_pl_transit": 70,
          "nb_veh": 1545,
          "pct_pl_transit": 25.089605734767026,
          "type": "VL total",
          "type_x": "PL total",
          "type_y": "PL transit"
         },
         {
          "camera_id": 4,
          "created": "2019-01-29T07:00:00",
          "nb_pl_tot": 314,
          "nb_pl_transit": 126,
          "nb_veh": 1938,
          "pct_pl_transit": 40.12738853503185,
          "type": "VL total",
          "type_x": "PL total",
          "type_y": "PL transit"
         },
         {
          "camera_id": 4,
          "created": "2019-01-29T08:00:00",
          "nb_pl_tot": 628,
          "nb_pl_transit": 294,
          "nb_veh": 2079,
          "pct_pl_transit": 46.81528662420382,
          "type": "VL total",
          "type_x": "PL total",
          "type_y": "PL transit"
         },
         {
          "camera_id": 4,
          "created": "2019-01-29T09:00:00",
          "nb_pl_tot": 730,
          "nb_pl_transit": 301,
          "nb_veh": 1845,
          "pct_pl_transit": 41.23287671232877,
          "type": "VL total",
          "type_x": "PL total",
          "type_y": "PL transit"
         },
         {
          "camera_id": 4,
          "created": "2019-01-29T10:00:00",
          "nb_pl_tot": 729,
          "nb_pl_transit": 259,
          "nb_veh": 1788,
          "pct_pl_transit": 35.528120713305896,
          "type": "VL total",
          "type_x": "PL total",
          "type_y": "PL transit"
         },
         {
          "camera_id": 4,
          "created": "2019-01-29T11:00:00",
          "nb_pl_tot": 661,
          "nb_pl_transit": 257,
          "nb_veh": 1571,
          "pct_pl_transit": 38.88048411497731,
          "type": "VL total",
          "type_x": "PL total",
          "type_y": "PL transit"
         },
         {
          "camera_id": 4,
          "created": "2019-01-29T12:00:00",
          "nb_pl_tot": 175,
          "nb_pl_transit": 65,
          "nb_veh": 408,
          "pct_pl_transit": 37.142857142857146,
          "type": "VL total",
          "type_x": "PL total",
          "type_y": "PL transit"
         },
         {
          "camera_id": 4,
          "created": "2019-01-29T13:00:00",
          "nb_pl_tot": 0,
          "nb_pl_transit": 0,
          "nb_veh": 0,
          "pct_pl_transit": 0,
          "type": "VL total",
          "type_x": "PL total",
          "type_y": "PL transit"
         },
         {
          "camera_id": 4,
          "created": "2019-01-29T14:00:00",
          "nb_pl_tot": 160,
          "nb_pl_transit": 56,
          "nb_veh": 522,
          "pct_pl_transit": 35,
          "type": "VL total",
          "type_x": "PL total",
          "type_y": "PL transit"
         },
         {
          "camera_id": 4,
          "created": "2019-01-29T15:00:00",
          "nb_pl_tot": 607,
          "nb_pl_transit": 209,
          "nb_veh": 2329,
          "pct_pl_transit": 34.43163097199341,
          "type": "VL total",
          "type_x": "PL total",
          "type_y": "PL transit"
         },
         {
          "camera_id": 4,
          "created": "2019-01-29T16:00:00",
          "nb_pl_tot": 412,
          "nb_pl_transit": 136,
          "nb_veh": 2475,
          "pct_pl_transit": 33.00970873786408,
          "type": "VL total",
          "type_x": "PL total",
          "type_y": "PL transit"
         },
         {
          "camera_id": 4,
          "created": "2019-01-29T17:00:00",
          "nb_pl_tot": 419,
          "nb_pl_transit": 64,
          "nb_veh": 2093,
          "pct_pl_transit": 15.274463007159904,
          "type": "VL total",
          "type_x": "PL total",
          "type_y": "PL transit"
         },
         {
          "camera_id": 4,
          "created": "2019-01-29T18:00:00",
          "nb_pl_tot": 418,
          "nb_pl_transit": 69,
          "nb_veh": 1723,
          "pct_pl_transit": 16.507177033492823,
          "type": "VL total",
          "type_x": "PL total",
          "type_y": "PL transit"
         },
         {
          "camera_id": 4,
          "created": "2019-01-29T19:00:00",
          "nb_pl_tot": 319,
          "nb_pl_transit": 73,
          "nb_veh": 1182,
          "pct_pl_transit": 22.884012539184955,
          "type": "VL total",
          "type_x": "PL total",
          "type_y": "PL transit"
         },
         {
          "camera_id": 4,
          "created": "2019-01-29T20:00:00",
          "nb_pl_tot": 264,
          "nb_pl_transit": 87,
          "nb_veh": 690,
          "pct_pl_transit": 32.95454545454545,
          "type": "VL total",
          "type_x": "PL total",
          "type_y": "PL transit"
         },
         {
          "camera_id": 4,
          "created": "2019-01-29T21:00:00",
          "nb_pl_tot": 218,
          "nb_pl_transit": 69,
          "nb_veh": 582,
          "pct_pl_transit": 31.65137614678899,
          "type": "VL total",
          "type_x": "PL total",
          "type_y": "PL transit"
         },
         {
          "camera_id": 4,
          "created": "2019-01-29T22:00:00",
          "nb_pl_tot": 186,
          "nb_pl_transit": 68,
          "nb_veh": 375,
          "pct_pl_transit": 36.55913978494624,
          "type": "VL total",
          "type_x": "PL total",
          "type_y": "PL transit"
         },
         {
          "camera_id": 4,
          "created": "2019-01-29T23:00:00",
          "nb_pl_tot": 154,
          "nb_pl_transit": 47,
          "nb_veh": 230,
          "pct_pl_transit": 30.51948051948052,
          "type": "VL total",
          "type_x": "PL total",
          "type_y": "PL transit"
         },
         {
          "camera_id": 4,
          "created": "2019-01-29T00:00:00",
          "nb_pl_tot": 85,
          "nb_pl_transit": 19,
          "nb_veh": 19,
          "pct_pl_transit": 22.352941176470587,
          "type": "PL transit",
          "type_x": "PL total",
          "type_y": "PL transit"
         },
         {
          "camera_id": 4,
          "created": "2019-01-29T01:00:00",
          "nb_pl_tot": 64,
          "nb_pl_transit": 9,
          "nb_veh": 9,
          "pct_pl_transit": 14.0625,
          "type": "PL transit",
          "type_x": "PL total",
          "type_y": "PL transit"
         },
         {
          "camera_id": 4,
          "created": "2019-01-29T02:00:00",
          "nb_pl_tot": 78,
          "nb_pl_transit": 7,
          "nb_veh": 7,
          "pct_pl_transit": 8.974358974358974,
          "type": "PL transit",
          "type_x": "PL total",
          "type_y": "PL transit"
         },
         {
          "camera_id": 4,
          "created": "2019-01-29T03:00:00",
          "nb_pl_tot": 95,
          "nb_pl_transit": 8,
          "nb_veh": 8,
          "pct_pl_transit": 8.421052631578947,
          "type": "PL transit",
          "type_x": "PL total",
          "type_y": "PL transit"
         },
         {
          "camera_id": 4,
          "created": "2019-01-29T04:00:00",
          "nb_pl_tot": 159,
          "nb_pl_transit": 24,
          "nb_veh": 24,
          "pct_pl_transit": 15.09433962264151,
          "type": "PL transit",
          "type_x": "PL total",
          "type_y": "PL transit"
         },
         {
          "camera_id": 4,
          "created": "2019-01-29T05:00:00",
          "nb_pl_tot": 241,
          "nb_pl_transit": 44,
          "nb_veh": 44,
          "pct_pl_transit": 18.25726141078838,
          "type": "PL transit",
          "type_x": "PL total",
          "type_y": "PL transit"
         },
         {
          "camera_id": 4,
          "created": "2019-01-29T06:00:00",
          "nb_pl_tot": 279,
          "nb_pl_transit": 70,
          "nb_veh": 70,
          "pct_pl_transit": 25.089605734767026,
          "type": "PL transit",
          "type_x": "PL total",
          "type_y": "PL transit"
         },
         {
          "camera_id": 4,
          "created": "2019-01-29T07:00:00",
          "nb_pl_tot": 314,
          "nb_pl_transit": 126,
          "nb_veh": 126,
          "pct_pl_transit": 40.12738853503185,
          "type": "PL transit",
          "type_x": "PL total",
          "type_y": "PL transit"
         },
         {
          "camera_id": 4,
          "created": "2019-01-29T08:00:00",
          "nb_pl_tot": 628,
          "nb_pl_transit": 294,
          "nb_veh": 294,
          "pct_pl_transit": 46.81528662420382,
          "type": "PL transit",
          "type_x": "PL total",
          "type_y": "PL transit"
         },
         {
          "camera_id": 4,
          "created": "2019-01-29T09:00:00",
          "nb_pl_tot": 730,
          "nb_pl_transit": 301,
          "nb_veh": 301,
          "pct_pl_transit": 41.23287671232877,
          "type": "PL transit",
          "type_x": "PL total",
          "type_y": "PL transit"
         },
         {
          "camera_id": 4,
          "created": "2019-01-29T10:00:00",
          "nb_pl_tot": 729,
          "nb_pl_transit": 259,
          "nb_veh": 259,
          "pct_pl_transit": 35.528120713305896,
          "type": "PL transit",
          "type_x": "PL total",
          "type_y": "PL transit"
         },
         {
          "camera_id": 4,
          "created": "2019-01-29T11:00:00",
          "nb_pl_tot": 661,
          "nb_pl_transit": 257,
          "nb_veh": 257,
          "pct_pl_transit": 38.88048411497731,
          "type": "PL transit",
          "type_x": "PL total",
          "type_y": "PL transit"
         },
         {
          "camera_id": 4,
          "created": "2019-01-29T12:00:00",
          "nb_pl_tot": 175,
          "nb_pl_transit": 65,
          "nb_veh": 65,
          "pct_pl_transit": 37.142857142857146,
          "type": "PL transit",
          "type_x": "PL total",
          "type_y": "PL transit"
         },
         {
          "camera_id": 4,
          "created": "2019-01-29T13:00:00",
          "nb_pl_tot": 0,
          "nb_pl_transit": 0,
          "nb_veh": 0,
          "pct_pl_transit": 0,
          "type": "PL transit",
          "type_x": "PL total",
          "type_y": "PL transit"
         },
         {
          "camera_id": 4,
          "created": "2019-01-29T14:00:00",
          "nb_pl_tot": 160,
          "nb_pl_transit": 56,
          "nb_veh": 56,
          "pct_pl_transit": 35,
          "type": "PL transit",
          "type_x": "PL total",
          "type_y": "PL transit"
         },
         {
          "camera_id": 4,
          "created": "2019-01-29T15:00:00",
          "nb_pl_tot": 607,
          "nb_pl_transit": 209,
          "nb_veh": 209,
          "pct_pl_transit": 34.43163097199341,
          "type": "PL transit",
          "type_x": "PL total",
          "type_y": "PL transit"
         },
         {
          "camera_id": 4,
          "created": "2019-01-29T16:00:00",
          "nb_pl_tot": 412,
          "nb_pl_transit": 136,
          "nb_veh": 136,
          "pct_pl_transit": 33.00970873786408,
          "type": "PL transit",
          "type_x": "PL total",
          "type_y": "PL transit"
         },
         {
          "camera_id": 4,
          "created": "2019-01-29T17:00:00",
          "nb_pl_tot": 419,
          "nb_pl_transit": 64,
          "nb_veh": 64,
          "pct_pl_transit": 15.274463007159904,
          "type": "PL transit",
          "type_x": "PL total",
          "type_y": "PL transit"
         },
         {
          "camera_id": 4,
          "created": "2019-01-29T18:00:00",
          "nb_pl_tot": 418,
          "nb_pl_transit": 69,
          "nb_veh": 69,
          "pct_pl_transit": 16.507177033492823,
          "type": "PL transit",
          "type_x": "PL total",
          "type_y": "PL transit"
         },
         {
          "camera_id": 4,
          "created": "2019-01-29T19:00:00",
          "nb_pl_tot": 319,
          "nb_pl_transit": 73,
          "nb_veh": 73,
          "pct_pl_transit": 22.884012539184955,
          "type": "PL transit",
          "type_x": "PL total",
          "type_y": "PL transit"
         },
         {
          "camera_id": 4,
          "created": "2019-01-29T20:00:00",
          "nb_pl_tot": 264,
          "nb_pl_transit": 87,
          "nb_veh": 87,
          "pct_pl_transit": 32.95454545454545,
          "type": "PL transit",
          "type_x": "PL total",
          "type_y": "PL transit"
         },
         {
          "camera_id": 4,
          "created": "2019-01-29T21:00:00",
          "nb_pl_tot": 218,
          "nb_pl_transit": 69,
          "nb_veh": 69,
          "pct_pl_transit": 31.65137614678899,
          "type": "PL transit",
          "type_x": "PL total",
          "type_y": "PL transit"
         },
         {
          "camera_id": 4,
          "created": "2019-01-29T22:00:00",
          "nb_pl_tot": 186,
          "nb_pl_transit": 68,
          "nb_veh": 68,
          "pct_pl_transit": 36.55913978494624,
          "type": "PL transit",
          "type_x": "PL total",
          "type_y": "PL transit"
         },
         {
          "camera_id": 4,
          "created": "2019-01-29T23:00:00",
          "nb_pl_tot": 154,
          "nb_pl_transit": 47,
          "nb_veh": 47,
          "pct_pl_transit": 30.51948051948052,
          "type": "PL transit",
          "type_x": "PL total",
          "type_y": "PL transit"
         }
        ]
       },
       "layer": [
        {
         "data": {
          "name": "data-6b445f40fa7e900c107e9c8919a0dff9"
         },
         "encoding": {
          "color": {
           "field": "type",
           "type": "nominal"
          },
          "x": {
           "axis": {
            "format": "%H:%M",
            "title": "Heure"
           },
           "field": "created",
           "type": "temporal"
          },
          "y": {
           "axis": {
            "title": "Nb de véhicules"
           },
           "field": "nb_veh",
           "stack": null,
           "type": "quantitative"
          }
         },
         "mark": {
          "opacity": 0.7,
          "size": 20,
          "type": "bar"
         }
        },
        {
         "data": {
          "name": "data-6b445f40fa7e900c107e9c8919a0dff9"
         },
         "encoding": {
          "x": {
           "axis": {
            "format": "%H:%M",
            "title": "Heure"
           },
           "field": "created",
           "type": "temporal"
          },
          "y": {
           "axis": {
            "title": "% de PL en transit"
           },
           "field": "pct_pl_transit",
           "type": "quantitative"
          }
         },
         "mark": {
          "color": "green",
          "type": "line"
         }
        }
       ],
       "resolve": {
        "scale": {
         "color": "shared",
         "x": "shared",
         "y": "independent"
        }
       },
       "width": 800
      },
      "image/png": "[encoded data removed]",
      "text/plain": [
       "<VegaLite 2 object>\n",
       "\n",
       "If you see this message, it means the renderer has not been properly enabled\n",
       "for the frontend that you are using. For more information, see\n",
       "https://altair-viz.github.io/user_guide/troubleshooting.html\n"
      ]
     },
     "execution_count": 52,
     "metadata": {},
     "output_type": "execute_result"
    }
   ],
   "source": [
    "g.graph_VL_PL_transit_j_cam(synt_nb_veh_cam, '2019-01-29', 4)"
   ]
  },
  {
   "cell_type": "markdown",
   "metadata": {},
   "source": [
    "## 7.2 Redressement au niveau de la Rocade"
   ]
  },
  {
   "cell_type": "code",
   "execution_count": 126,
   "metadata": {},
   "outputs": [
    {
     "name": "stdout",
     "output_type": "stream",
     "text": [
      "pl_tot =1920 , vl_tot=1920 , pl_transit=1262,pl_tot-joint-transit=1262\n",
      "Wall time: 1.3 s\n"
     ]
    }
   ],
   "source": [
    "#determiner les passages fictifs\n",
    "df_passage_transit_redresse, df_pl_redresse, trajets_rocade_non_vu=t.passages_fictif_rocade (t.liste_trajet_rocade, dico_od_final,dico_passag_final,df_pl)\n",
    "#regrouper\n",
    "%time synt_nb_veh_cam_redresse=t.pourcentage_pl_camera(df_pl_redresse,df_passage_transit_redresse, df_vl)"
   ]
  },
  {
   "cell_type": "code",
   "execution_count": 46,
   "metadata": {},
   "outputs": [
    {
     "data": {
      "application/vnd.vegalite.v2+json": {
       "$schema": "https://vega.github.io/schema/vega-lite/v2.6.0.json",
       "config": {
        "view": {
         "height": 300,
         "width": 400
        }
       },
       "datasets": {
        "data-814030b1bd5d736434a531fdb4ebe061": [
         {
          "camera_id": 1,
          "created": "2019-01-28T00:00:00",
          "nb_pl_tot": null,
          "nb_pl_transit": null,
          "nb_veh": 1,
          "pct_pl_transit": null,
          "type": "PL total",
          "type_x": null,
          "type_y": null
         },
         {
          "camera_id": 1,
          "created": "2019-01-28T01:00:00",
          "nb_pl_tot": null,
          "nb_pl_transit": null,
          "nb_veh": 2,
          "pct_pl_transit": null,
          "type": "PL total",
          "type_x": null,
          "type_y": null
         },
         {
          "camera_id": 1,
          "created": "2019-01-28T02:00:00",
          "nb_pl_tot": null,
          "nb_pl_transit": null,
          "nb_veh": 5,
          "pct_pl_transit": null,
          "type": "PL total",
          "type_x": null,
          "type_y": null
         },
         {
          "camera_id": 1,
          "created": "2019-01-28T03:00:00",
          "nb_pl_tot": null,
          "nb_pl_transit": null,
          "nb_veh": 6,
          "pct_pl_transit": null,
          "type": "PL total",
          "type_x": null,
          "type_y": null
         },
         {
          "camera_id": 1,
          "created": "2019-01-28T04:00:00",
          "nb_pl_tot": null,
          "nb_pl_transit": null,
          "nb_veh": 16,
          "pct_pl_transit": null,
          "type": "PL total",
          "type_x": null,
          "type_y": null
         },
         {
          "camera_id": 1,
          "created": "2019-01-28T05:00:00",
          "nb_pl_tot": null,
          "nb_pl_transit": null,
          "nb_veh": 37,
          "pct_pl_transit": null,
          "type": "PL total",
          "type_x": null,
          "type_y": null
         },
         {
          "camera_id": 1,
          "created": "2019-01-28T06:00:00",
          "nb_pl_tot": 47,
          "nb_pl_transit": 1,
          "nb_veh": 47,
          "pct_pl_transit": 2.127659574468085,
          "type": "PL total",
          "type_x": "PL total",
          "type_y": "PL transit"
         },
         {
          "camera_id": 1,
          "created": "2019-01-28T07:00:00",
          "nb_pl_tot": 61,
          "nb_pl_transit": 2,
          "nb_veh": 61,
          "pct_pl_transit": 3.278688524590164,
          "type": "PL total",
          "type_x": "PL total",
          "type_y": "PL transit"
         },
         {
          "camera_id": 1,
          "created": "2019-01-28T08:00:00",
          "nb_pl_tot": 128,
          "nb_pl_transit": 2,
          "nb_veh": 128,
          "pct_pl_transit": 1.5625,
          "type": "PL total",
          "type_x": "PL total",
          "type_y": "PL transit"
         },
         {
          "camera_id": 1,
          "created": "2019-01-28T09:00:00",
          "nb_pl_tot": 137,
          "nb_pl_transit": 0,
          "nb_veh": 137,
          "pct_pl_transit": 0,
          "type": "PL total",
          "type_x": "PL total",
          "type_y": "PL transit"
         },
         {
          "camera_id": 1,
          "created": "2019-01-28T10:00:00",
          "nb_pl_tot": 148,
          "nb_pl_transit": 0,
          "nb_veh": 148,
          "pct_pl_transit": 0,
          "type": "PL total",
          "type_x": "PL total",
          "type_y": "PL transit"
         },
         {
          "camera_id": 1,
          "created": "2019-01-28T11:00:00",
          "nb_pl_tot": 109,
          "nb_pl_transit": 2,
          "nb_veh": 109,
          "pct_pl_transit": 1.834862385321101,
          "type": "PL total",
          "type_x": "PL total",
          "type_y": "PL transit"
         },
         {
          "camera_id": 1,
          "created": "2019-01-28T12:00:00",
          "nb_pl_tot": 128,
          "nb_pl_transit": 1,
          "nb_veh": 128,
          "pct_pl_transit": 0.78125,
          "type": "PL total",
          "type_x": "PL total",
          "type_y": "PL transit"
         },
         {
          "camera_id": 1,
          "created": "2019-01-28T13:00:00",
          "nb_pl_tot": 138,
          "nb_pl_transit": 2,
          "nb_veh": 138,
          "pct_pl_transit": 1.4492753623188406,
          "type": "PL total",
          "type_x": "PL total",
          "type_y": "PL transit"
         },
         {
          "camera_id": 1,
          "created": "2019-01-28T14:00:00",
          "nb_pl_tot": 135,
          "nb_pl_transit": 0,
          "nb_veh": 135,
          "pct_pl_transit": 0,
          "type": "PL total",
          "type_x": "PL total",
          "type_y": "PL transit"
         },
         {
          "camera_id": 1,
          "created": "2019-01-28T15:00:00",
          "nb_pl_tot": 99,
          "nb_pl_transit": 3,
          "nb_veh": 99,
          "pct_pl_transit": 3.0303030303030303,
          "type": "PL total",
          "type_x": "PL total",
          "type_y": "PL transit"
         },
         {
          "camera_id": 1,
          "created": "2019-01-28T16:00:00",
          "nb_pl_tot": 77,
          "nb_pl_transit": 9,
          "nb_veh": 77,
          "pct_pl_transit": 11.688311688311689,
          "type": "PL total",
          "type_x": "PL total",
          "type_y": "PL transit"
         },
         {
          "camera_id": 1,
          "created": "2019-01-28T17:00:00",
          "nb_pl_tot": 13,
          "nb_pl_transit": 2,
          "nb_veh": 13,
          "pct_pl_transit": 15.384615384615385,
          "type": "PL total",
          "type_x": "PL total",
          "type_y": "PL transit"
         },
         {
          "camera_id": 1,
          "created": "2019-01-28T18:00:00",
          "nb_pl_tot": 5,
          "nb_pl_transit": 0,
          "nb_veh": 5,
          "pct_pl_transit": 0,
          "type": "PL total",
          "type_x": "PL total",
          "type_y": "PL transit"
         },
         {
          "camera_id": 1,
          "created": "2019-01-28T19:00:00",
          "nb_pl_tot": 9,
          "nb_pl_transit": 1,
          "nb_veh": 9,
          "pct_pl_transit": 11.11111111111111,
          "type": "PL total",
          "type_x": "PL total",
          "type_y": "PL transit"
         },
         {
          "camera_id": 1,
          "created": "2019-01-28T20:00:00",
          "nb_pl_tot": 3,
          "nb_pl_transit": 0,
          "nb_veh": 3,
          "pct_pl_transit": 0,
          "type": "PL total",
          "type_x": "PL total",
          "type_y": "PL transit"
         },
         {
          "camera_id": 1,
          "created": "2019-01-28T21:00:00",
          "nb_pl_tot": 5,
          "nb_pl_transit": 0,
          "nb_veh": 5,
          "pct_pl_transit": 0,
          "type": "PL total",
          "type_x": "PL total",
          "type_y": "PL transit"
         },
         {
          "camera_id": 1,
          "created": "2019-01-28T22:00:00",
          "nb_pl_tot": 2,
          "nb_pl_transit": 0,
          "nb_veh": 2,
          "pct_pl_transit": 0,
          "type": "PL total",
          "type_x": "PL total",
          "type_y": "PL transit"
         },
         {
          "camera_id": 1,
          "created": "2019-01-28T23:00:00",
          "nb_pl_tot": 3,
          "nb_pl_transit": 0,
          "nb_veh": 3,
          "pct_pl_transit": 0,
          "type": "PL total",
          "type_x": "PL total",
          "type_y": "PL transit"
         },
         {
          "camera_id": 1,
          "created": "2019-01-28T00:00:00",
          "nb_pl_tot": null,
          "nb_pl_transit": null,
          "nb_veh": 39,
          "pct_pl_transit": null,
          "type": "VL total",
          "type_x": null,
          "type_y": null
         },
         {
          "camera_id": 1,
          "created": "2019-01-28T01:00:00",
          "nb_pl_tot": null,
          "nb_pl_transit": null,
          "nb_veh": 27,
          "pct_pl_transit": null,
          "type": "VL total",
          "type_x": null,
          "type_y": null
         },
         {
          "camera_id": 1,
          "created": "2019-01-28T02:00:00",
          "nb_pl_tot": null,
          "nb_pl_transit": null,
          "nb_veh": 17,
          "pct_pl_transit": null,
          "type": "VL total",
          "type_x": null,
          "type_y": null
         },
         {
          "camera_id": 1,
          "created": "2019-01-28T03:00:00",
          "nb_pl_tot": null,
          "nb_pl_transit": null,
          "nb_veh": 73,
          "pct_pl_transit": null,
          "type": "VL total",
          "type_x": null,
          "type_y": null
         },
         {
          "camera_id": 1,
          "created": "2019-01-28T04:00:00",
          "nb_pl_tot": null,
          "nb_pl_transit": null,
          "nb_veh": 197,
          "pct_pl_transit": null,
          "type": "VL total",
          "type_x": null,
          "type_y": null
         },
         {
          "camera_id": 1,
          "created": "2019-01-28T05:00:00",
          "nb_pl_tot": null,
          "nb_pl_transit": null,
          "nb_veh": 458,
          "pct_pl_transit": null,
          "type": "VL total",
          "type_x": null,
          "type_y": null
         },
         {
          "camera_id": 1,
          "created": "2019-01-28T06:00:00",
          "nb_pl_tot": 47,
          "nb_pl_transit": 1,
          "nb_veh": 792,
          "pct_pl_transit": 2.127659574468085,
          "type": "VL total",
          "type_x": "PL total",
          "type_y": "PL transit"
         },
         {
          "camera_id": 1,
          "created": "2019-01-28T07:00:00",
          "nb_pl_tot": 61,
          "nb_pl_transit": 2,
          "nb_veh": 1164,
          "pct_pl_transit": 3.278688524590164,
          "type": "VL total",
          "type_x": "PL total",
          "type_y": "PL transit"
         },
         {
          "camera_id": 1,
          "created": "2019-01-28T08:00:00",
          "nb_pl_tot": 128,
          "nb_pl_transit": 2,
          "nb_veh": 2168,
          "pct_pl_transit": 1.5625,
          "type": "VL total",
          "type_x": "PL total",
          "type_y": "PL transit"
         },
         {
          "camera_id": 1,
          "created": "2019-01-28T09:00:00",
          "nb_pl_tot": 137,
          "nb_pl_transit": 0,
          "nb_veh": 2050,
          "pct_pl_transit": 0,
          "type": "VL total",
          "type_x": "PL total",
          "type_y": "PL transit"
         },
         {
          "camera_id": 1,
          "created": "2019-01-28T10:00:00",
          "nb_pl_tot": 148,
          "nb_pl_transit": 0,
          "nb_veh": 1924,
          "pct_pl_transit": 0,
          "type": "VL total",
          "type_x": "PL total",
          "type_y": "PL transit"
         },
         {
          "camera_id": 1,
          "created": "2019-01-28T11:00:00",
          "nb_pl_tot": 109,
          "nb_pl_transit": 2,
          "nb_veh": 1983,
          "pct_pl_transit": 1.834862385321101,
          "type": "VL total",
          "type_x": "PL total",
          "type_y": "PL transit"
         },
         {
          "camera_id": 1,
          "created": "2019-01-28T12:00:00",
          "nb_pl_tot": 128,
          "nb_pl_transit": 1,
          "nb_veh": 2222,
          "pct_pl_transit": 0.78125,
          "type": "VL total",
          "type_x": "PL total",
          "type_y": "PL transit"
         },
         {
          "camera_id": 1,
          "created": "2019-01-28T13:00:00",
          "nb_pl_tot": 138,
          "nb_pl_transit": 2,
          "nb_veh": 2087,
          "pct_pl_transit": 1.4492753623188406,
          "type": "VL total",
          "type_x": "PL total",
          "type_y": "PL transit"
         },
         {
          "camera_id": 1,
          "created": "2019-01-28T14:00:00",
          "nb_pl_tot": 135,
          "nb_pl_transit": 0,
          "nb_veh": 2024,
          "pct_pl_transit": 0,
          "type": "VL total",
          "type_x": "PL total",
          "type_y": "PL transit"
         },
         {
          "camera_id": 1,
          "created": "2019-01-28T15:00:00",
          "nb_pl_tot": 99,
          "nb_pl_transit": 3,
          "nb_veh": 2399,
          "pct_pl_transit": 3.0303030303030303,
          "type": "VL total",
          "type_x": "PL total",
          "type_y": "PL transit"
         },
         {
          "camera_id": 1,
          "created": "2019-01-28T16:00:00",
          "nb_pl_tot": 77,
          "nb_pl_transit": 9,
          "nb_veh": 2327,
          "pct_pl_transit": 11.688311688311689,
          "type": "VL total",
          "type_x": "PL total",
          "type_y": "PL transit"
         },
         {
          "camera_id": 1,
          "created": "2019-01-28T17:00:00",
          "nb_pl_tot": 13,
          "nb_pl_transit": 2,
          "nb_veh": 753,
          "pct_pl_transit": 15.384615384615385,
          "type": "VL total",
          "type_x": "PL total",
          "type_y": "PL transit"
         },
         {
          "camera_id": 1,
          "created": "2019-01-28T18:00:00",
          "nb_pl_tot": 5,
          "nb_pl_transit": 0,
          "nb_veh": 440,
          "pct_pl_transit": 0,
          "type": "VL total",
          "type_x": "PL total",
          "type_y": "PL transit"
         },
         {
          "camera_id": 1,
          "created": "2019-01-28T19:00:00",
          "nb_pl_tot": 9,
          "nb_pl_transit": 1,
          "nb_veh": 298,
          "pct_pl_transit": 11.11111111111111,
          "type": "VL total",
          "type_x": "PL total",
          "type_y": "PL transit"
         },
         {
          "camera_id": 1,
          "created": "2019-01-28T20:00:00",
          "nb_pl_tot": 3,
          "nb_pl_transit": 0,
          "nb_veh": 236,
          "pct_pl_transit": 0,
          "type": "VL total",
          "type_x": "PL total",
          "type_y": "PL transit"
         },
         {
          "camera_id": 1,
          "created": "2019-01-28T21:00:00",
          "nb_pl_tot": 5,
          "nb_pl_transit": 0,
          "nb_veh": 142,
          "pct_pl_transit": 0,
          "type": "VL total",
          "type_x": "PL total",
          "type_y": "PL transit"
         },
         {
          "camera_id": 1,
          "created": "2019-01-28T22:00:00",
          "nb_pl_tot": 2,
          "nb_pl_transit": 0,
          "nb_veh": 87,
          "pct_pl_transit": 0,
          "type": "VL total",
          "type_x": "PL total",
          "type_y": "PL transit"
         },
         {
          "camera_id": 1,
          "created": "2019-01-28T23:00:00",
          "nb_pl_tot": 3,
          "nb_pl_transit": 0,
          "nb_veh": 45,
          "pct_pl_transit": 0,
          "type": "VL total",
          "type_x": "PL total",
          "type_y": "PL transit"
         },
         {
          "camera_id": 1,
          "created": "2019-01-28T06:00:00",
          "nb_pl_tot": 47,
          "nb_pl_transit": 1,
          "nb_veh": 1,
          "pct_pl_transit": 2.127659574468085,
          "type": "PL transit",
          "type_x": "PL total",
          "type_y": "PL transit"
         },
         {
          "camera_id": 1,
          "created": "2019-01-28T07:00:00",
          "nb_pl_tot": 61,
          "nb_pl_transit": 2,
          "nb_veh": 2,
          "pct_pl_transit": 3.278688524590164,
          "type": "PL transit",
          "type_x": "PL total",
          "type_y": "PL transit"
         },
         {
          "camera_id": 1,
          "created": "2019-01-28T08:00:00",
          "nb_pl_tot": 128,
          "nb_pl_transit": 2,
          "nb_veh": 2,
          "pct_pl_transit": 1.5625,
          "type": "PL transit",
          "type_x": "PL total",
          "type_y": "PL transit"
         },
         {
          "camera_id": 1,
          "created": "2019-01-28T09:00:00",
          "nb_pl_tot": 137,
          "nb_pl_transit": 0,
          "nb_veh": 0,
          "pct_pl_transit": 0,
          "type": "PL transit",
          "type_x": "PL total",
          "type_y": "PL transit"
         },
         {
          "camera_id": 1,
          "created": "2019-01-28T10:00:00",
          "nb_pl_tot": 148,
          "nb_pl_transit": 0,
          "nb_veh": 0,
          "pct_pl_transit": 0,
          "type": "PL transit",
          "type_x": "PL total",
          "type_y": "PL transit"
         },
         {
          "camera_id": 1,
          "created": "2019-01-28T11:00:00",
          "nb_pl_tot": 109,
          "nb_pl_transit": 2,
          "nb_veh": 2,
          "pct_pl_transit": 1.834862385321101,
          "type": "PL transit",
          "type_x": "PL total",
          "type_y": "PL transit"
         },
         {
          "camera_id": 1,
          "created": "2019-01-28T12:00:00",
          "nb_pl_tot": 128,
          "nb_pl_transit": 1,
          "nb_veh": 1,
          "pct_pl_transit": 0.78125,
          "type": "PL transit",
          "type_x": "PL total",
          "type_y": "PL transit"
         },
         {
          "camera_id": 1,
          "created": "2019-01-28T13:00:00",
          "nb_pl_tot": 138,
          "nb_pl_transit": 2,
          "nb_veh": 2,
          "pct_pl_transit": 1.4492753623188406,
          "type": "PL transit",
          "type_x": "PL total",
          "type_y": "PL transit"
         },
         {
          "camera_id": 1,
          "created": "2019-01-28T14:00:00",
          "nb_pl_tot": 135,
          "nb_pl_transit": 0,
          "nb_veh": 0,
          "pct_pl_transit": 0,
          "type": "PL transit",
          "type_x": "PL total",
          "type_y": "PL transit"
         },
         {
          "camera_id": 1,
          "created": "2019-01-28T15:00:00",
          "nb_pl_tot": 99,
          "nb_pl_transit": 3,
          "nb_veh": 3,
          "pct_pl_transit": 3.0303030303030303,
          "type": "PL transit",
          "type_x": "PL total",
          "type_y": "PL transit"
         },
         {
          "camera_id": 1,
          "created": "2019-01-28T16:00:00",
          "nb_pl_tot": 77,
          "nb_pl_transit": 9,
          "nb_veh": 9,
          "pct_pl_transit": 11.688311688311689,
          "type": "PL transit",
          "type_x": "PL total",
          "type_y": "PL transit"
         },
         {
          "camera_id": 1,
          "created": "2019-01-28T17:00:00",
          "nb_pl_tot": 13,
          "nb_pl_transit": 2,
          "nb_veh": 2,
          "pct_pl_transit": 15.384615384615385,
          "type": "PL transit",
          "type_x": "PL total",
          "type_y": "PL transit"
         },
         {
          "camera_id": 1,
          "created": "2019-01-28T18:00:00",
          "nb_pl_tot": 5,
          "nb_pl_transit": 0,
          "nb_veh": 0,
          "pct_pl_transit": 0,
          "type": "PL transit",
          "type_x": "PL total",
          "type_y": "PL transit"
         },
         {
          "camera_id": 1,
          "created": "2019-01-28T19:00:00",
          "nb_pl_tot": 9,
          "nb_pl_transit": 1,
          "nb_veh": 1,
          "pct_pl_transit": 11.11111111111111,
          "type": "PL transit",
          "type_x": "PL total",
          "type_y": "PL transit"
         },
         {
          "camera_id": 1,
          "created": "2019-01-28T20:00:00",
          "nb_pl_tot": 3,
          "nb_pl_transit": 0,
          "nb_veh": 0,
          "pct_pl_transit": 0,
          "type": "PL transit",
          "type_x": "PL total",
          "type_y": "PL transit"
         },
         {
          "camera_id": 1,
          "created": "2019-01-28T21:00:00",
          "nb_pl_tot": 5,
          "nb_pl_transit": 0,
          "nb_veh": 0,
          "pct_pl_transit": 0,
          "type": "PL transit",
          "type_x": "PL total",
          "type_y": "PL transit"
         },
         {
          "camera_id": 1,
          "created": "2019-01-28T22:00:00",
          "nb_pl_tot": 2,
          "nb_pl_transit": 0,
          "nb_veh": 0,
          "pct_pl_transit": 0,
          "type": "PL transit",
          "type_x": "PL total",
          "type_y": "PL transit"
         },
         {
          "camera_id": 1,
          "created": "2019-01-28T23:00:00",
          "nb_pl_tot": 3,
          "nb_pl_transit": 0,
          "nb_veh": 0,
          "pct_pl_transit": 0,
          "type": "PL transit",
          "type_x": "PL total",
          "type_y": "PL transit"
         }
        ],
        "data-92e676b705d87cc226f27a6e4f419d99": [
         {
          "camera_id": 1,
          "created": "2019-01-28T00:00:00",
          "heure": 0,
          "nb_pl_tot": null,
          "nb_pl_transit": null,
          "nb_veh": 1,
          "pct_pl_transit": null,
          "type": "PL total",
          "type_x": null,
          "type_y": null
         },
         {
          "camera_id": 1,
          "created": "2019-01-28T01:00:00",
          "heure": 1,
          "nb_pl_tot": null,
          "nb_pl_transit": null,
          "nb_veh": 2,
          "pct_pl_transit": null,
          "type": "PL total",
          "type_x": null,
          "type_y": null
         },
         {
          "camera_id": 1,
          "created": "2019-01-28T02:00:00",
          "heure": 2,
          "nb_pl_tot": null,
          "nb_pl_transit": null,
          "nb_veh": 5,
          "pct_pl_transit": null,
          "type": "PL total",
          "type_x": null,
          "type_y": null
         },
         {
          "camera_id": 1,
          "created": "2019-01-28T03:00:00",
          "heure": 3,
          "nb_pl_tot": null,
          "nb_pl_transit": null,
          "nb_veh": 6,
          "pct_pl_transit": null,
          "type": "PL total",
          "type_x": null,
          "type_y": null
         },
         {
          "camera_id": 1,
          "created": "2019-01-28T04:00:00",
          "heure": 4,
          "nb_pl_tot": null,
          "nb_pl_transit": null,
          "nb_veh": 16,
          "pct_pl_transit": null,
          "type": "PL total",
          "type_x": null,
          "type_y": null
         },
         {
          "camera_id": 1,
          "created": "2019-01-28T05:00:00",
          "heure": 5,
          "nb_pl_tot": null,
          "nb_pl_transit": null,
          "nb_veh": 37,
          "pct_pl_transit": null,
          "type": "PL total",
          "type_x": null,
          "type_y": null
         },
         {
          "camera_id": 1,
          "created": "2019-01-28T06:00:00",
          "heure": 6,
          "nb_pl_tot": 47,
          "nb_pl_transit": 1,
          "nb_veh": 47,
          "pct_pl_transit": 2.127659574468085,
          "type": "PL total",
          "type_x": "PL total",
          "type_y": "PL transit"
         },
         {
          "camera_id": 1,
          "created": "2019-01-28T07:00:00",
          "heure": 7,
          "nb_pl_tot": 61,
          "nb_pl_transit": 2,
          "nb_veh": 61,
          "pct_pl_transit": 3.278688524590164,
          "type": "PL total",
          "type_x": "PL total",
          "type_y": "PL transit"
         },
         {
          "camera_id": 1,
          "created": "2019-01-28T08:00:00",
          "heure": 8,
          "nb_pl_tot": 128,
          "nb_pl_transit": 2,
          "nb_veh": 128,
          "pct_pl_transit": 1.5625,
          "type": "PL total",
          "type_x": "PL total",
          "type_y": "PL transit"
         },
         {
          "camera_id": 1,
          "created": "2019-01-28T09:00:00",
          "heure": 9,
          "nb_pl_tot": 137,
          "nb_pl_transit": 0,
          "nb_veh": 137,
          "pct_pl_transit": 0,
          "type": "PL total",
          "type_x": "PL total",
          "type_y": "PL transit"
         },
         {
          "camera_id": 1,
          "created": "2019-01-28T10:00:00",
          "heure": 10,
          "nb_pl_tot": 148,
          "nb_pl_transit": 0,
          "nb_veh": 148,
          "pct_pl_transit": 0,
          "type": "PL total",
          "type_x": "PL total",
          "type_y": "PL transit"
         },
         {
          "camera_id": 1,
          "created": "2019-01-28T11:00:00",
          "heure": 11,
          "nb_pl_tot": 109,
          "nb_pl_transit": 2,
          "nb_veh": 109,
          "pct_pl_transit": 1.834862385321101,
          "type": "PL total",
          "type_x": "PL total",
          "type_y": "PL transit"
         },
         {
          "camera_id": 1,
          "created": "2019-01-28T12:00:00",
          "heure": 12,
          "nb_pl_tot": 128,
          "nb_pl_transit": 1,
          "nb_veh": 128,
          "pct_pl_transit": 0.78125,
          "type": "PL total",
          "type_x": "PL total",
          "type_y": "PL transit"
         },
         {
          "camera_id": 1,
          "created": "2019-01-28T13:00:00",
          "heure": 13,
          "nb_pl_tot": 138,
          "nb_pl_transit": 2,
          "nb_veh": 138,
          "pct_pl_transit": 1.4492753623188406,
          "type": "PL total",
          "type_x": "PL total",
          "type_y": "PL transit"
         },
         {
          "camera_id": 1,
          "created": "2019-01-28T14:00:00",
          "heure": 14,
          "nb_pl_tot": 135,
          "nb_pl_transit": 0,
          "nb_veh": 135,
          "pct_pl_transit": 0,
          "type": "PL total",
          "type_x": "PL total",
          "type_y": "PL transit"
         },
         {
          "camera_id": 1,
          "created": "2019-01-28T15:00:00",
          "heure": 15,
          "nb_pl_tot": 99,
          "nb_pl_transit": 3,
          "nb_veh": 99,
          "pct_pl_transit": 3.0303030303030303,
          "type": "PL total",
          "type_x": "PL total",
          "type_y": "PL transit"
         },
         {
          "camera_id": 1,
          "created": "2019-01-28T16:00:00",
          "heure": 16,
          "nb_pl_tot": 77,
          "nb_pl_transit": 9,
          "nb_veh": 77,
          "pct_pl_transit": 11.688311688311689,
          "type": "PL total",
          "type_x": "PL total",
          "type_y": "PL transit"
         },
         {
          "camera_id": 1,
          "created": "2019-01-28T17:00:00",
          "heure": 17,
          "nb_pl_tot": 13,
          "nb_pl_transit": 2,
          "nb_veh": 13,
          "pct_pl_transit": 15.384615384615385,
          "type": "PL total",
          "type_x": "PL total",
          "type_y": "PL transit"
         },
         {
          "camera_id": 1,
          "created": "2019-01-28T18:00:00",
          "heure": 18,
          "nb_pl_tot": 5,
          "nb_pl_transit": 0,
          "nb_veh": 5,
          "pct_pl_transit": 0,
          "type": "PL total",
          "type_x": "PL total",
          "type_y": "PL transit"
         },
         {
          "camera_id": 1,
          "created": "2019-01-28T19:00:00",
          "heure": 19,
          "nb_pl_tot": 9,
          "nb_pl_transit": 1,
          "nb_veh": 9,
          "pct_pl_transit": 11.11111111111111,
          "type": "PL total",
          "type_x": "PL total",
          "type_y": "PL transit"
         },
         {
          "camera_id": 1,
          "created": "2019-01-28T20:00:00",
          "heure": 20,
          "nb_pl_tot": 3,
          "nb_pl_transit": 0,
          "nb_veh": 3,
          "pct_pl_transit": 0,
          "type": "PL total",
          "type_x": "PL total",
          "type_y": "PL transit"
         },
         {
          "camera_id": 1,
          "created": "2019-01-28T21:00:00",
          "heure": 21,
          "nb_pl_tot": 5,
          "nb_pl_transit": 0,
          "nb_veh": 5,
          "pct_pl_transit": 0,
          "type": "PL total",
          "type_x": "PL total",
          "type_y": "PL transit"
         },
         {
          "camera_id": 1,
          "created": "2019-01-28T22:00:00",
          "heure": 22,
          "nb_pl_tot": 2,
          "nb_pl_transit": 0,
          "nb_veh": 2,
          "pct_pl_transit": 0,
          "type": "PL total",
          "type_x": "PL total",
          "type_y": "PL transit"
         },
         {
          "camera_id": 1,
          "created": "2019-01-28T23:00:00",
          "heure": 23,
          "nb_pl_tot": 3,
          "nb_pl_transit": 0,
          "nb_veh": 3,
          "pct_pl_transit": 0,
          "type": "PL total",
          "type_x": "PL total",
          "type_y": "PL transit"
         },
         {
          "camera_id": 1,
          "created": "2019-01-28T00:00:00",
          "heure": 0,
          "nb_pl_tot": null,
          "nb_pl_transit": null,
          "nb_veh": 39,
          "pct_pl_transit": null,
          "type": "VL total",
          "type_x": null,
          "type_y": null
         },
         {
          "camera_id": 1,
          "created": "2019-01-28T01:00:00",
          "heure": 1,
          "nb_pl_tot": null,
          "nb_pl_transit": null,
          "nb_veh": 27,
          "pct_pl_transit": null,
          "type": "VL total",
          "type_x": null,
          "type_y": null
         },
         {
          "camera_id": 1,
          "created": "2019-01-28T02:00:00",
          "heure": 2,
          "nb_pl_tot": null,
          "nb_pl_transit": null,
          "nb_veh": 17,
          "pct_pl_transit": null,
          "type": "VL total",
          "type_x": null,
          "type_y": null
         },
         {
          "camera_id": 1,
          "created": "2019-01-28T03:00:00",
          "heure": 3,
          "nb_pl_tot": null,
          "nb_pl_transit": null,
          "nb_veh": 73,
          "pct_pl_transit": null,
          "type": "VL total",
          "type_x": null,
          "type_y": null
         },
         {
          "camera_id": 1,
          "created": "2019-01-28T04:00:00",
          "heure": 4,
          "nb_pl_tot": null,
          "nb_pl_transit": null,
          "nb_veh": 197,
          "pct_pl_transit": null,
          "type": "VL total",
          "type_x": null,
          "type_y": null
         },
         {
          "camera_id": 1,
          "created": "2019-01-28T05:00:00",
          "heure": 5,
          "nb_pl_tot": null,
          "nb_pl_transit": null,
          "nb_veh": 458,
          "pct_pl_transit": null,
          "type": "VL total",
          "type_x": null,
          "type_y": null
         },
         {
          "camera_id": 1,
          "created": "2019-01-28T06:00:00",
          "heure": 6,
          "nb_pl_tot": 47,
          "nb_pl_transit": 1,
          "nb_veh": 792,
          "pct_pl_transit": 2.127659574468085,
          "type": "VL total",
          "type_x": "PL total",
          "type_y": "PL transit"
         },
         {
          "camera_id": 1,
          "created": "2019-01-28T07:00:00",
          "heure": 7,
          "nb_pl_tot": 61,
          "nb_pl_transit": 2,
          "nb_veh": 1164,
          "pct_pl_transit": 3.278688524590164,
          "type": "VL total",
          "type_x": "PL total",
          "type_y": "PL transit"
         },
         {
          "camera_id": 1,
          "created": "2019-01-28T08:00:00",
          "heure": 8,
          "nb_pl_tot": 128,
          "nb_pl_transit": 2,
          "nb_veh": 2168,
          "pct_pl_transit": 1.5625,
          "type": "VL total",
          "type_x": "PL total",
          "type_y": "PL transit"
         },
         {
          "camera_id": 1,
          "created": "2019-01-28T09:00:00",
          "heure": 9,
          "nb_pl_tot": 137,
          "nb_pl_transit": 0,
          "nb_veh": 2050,
          "pct_pl_transit": 0,
          "type": "VL total",
          "type_x": "PL total",
          "type_y": "PL transit"
         },
         {
          "camera_id": 1,
          "created": "2019-01-28T10:00:00",
          "heure": 10,
          "nb_pl_tot": 148,
          "nb_pl_transit": 0,
          "nb_veh": 1924,
          "pct_pl_transit": 0,
          "type": "VL total",
          "type_x": "PL total",
          "type_y": "PL transit"
         },
         {
          "camera_id": 1,
          "created": "2019-01-28T11:00:00",
          "heure": 11,
          "nb_pl_tot": 109,
          "nb_pl_transit": 2,
          "nb_veh": 1983,
          "pct_pl_transit": 1.834862385321101,
          "type": "VL total",
          "type_x": "PL total",
          "type_y": "PL transit"
         },
         {
          "camera_id": 1,
          "created": "2019-01-28T12:00:00",
          "heure": 12,
          "nb_pl_tot": 128,
          "nb_pl_transit": 1,
          "nb_veh": 2222,
          "pct_pl_transit": 0.78125,
          "type": "VL total",
          "type_x": "PL total",
          "type_y": "PL transit"
         },
         {
          "camera_id": 1,
          "created": "2019-01-28T13:00:00",
          "heure": 13,
          "nb_pl_tot": 138,
          "nb_pl_transit": 2,
          "nb_veh": 2087,
          "pct_pl_transit": 1.4492753623188406,
          "type": "VL total",
          "type_x": "PL total",
          "type_y": "PL transit"
         },
         {
          "camera_id": 1,
          "created": "2019-01-28T14:00:00",
          "heure": 14,
          "nb_pl_tot": 135,
          "nb_pl_transit": 0,
          "nb_veh": 2024,
          "pct_pl_transit": 0,
          "type": "VL total",
          "type_x": "PL total",
          "type_y": "PL transit"
         },
         {
          "camera_id": 1,
          "created": "2019-01-28T15:00:00",
          "heure": 15,
          "nb_pl_tot": 99,
          "nb_pl_transit": 3,
          "nb_veh": 2399,
          "pct_pl_transit": 3.0303030303030303,
          "type": "VL total",
          "type_x": "PL total",
          "type_y": "PL transit"
         },
         {
          "camera_id": 1,
          "created": "2019-01-28T16:00:00",
          "heure": 16,
          "nb_pl_tot": 77,
          "nb_pl_transit": 9,
          "nb_veh": 2327,
          "pct_pl_transit": 11.688311688311689,
          "type": "VL total",
          "type_x": "PL total",
          "type_y": "PL transit"
         },
         {
          "camera_id": 1,
          "created": "2019-01-28T17:00:00",
          "heure": 17,
          "nb_pl_tot": 13,
          "nb_pl_transit": 2,
          "nb_veh": 753,
          "pct_pl_transit": 15.384615384615385,
          "type": "VL total",
          "type_x": "PL total",
          "type_y": "PL transit"
         },
         {
          "camera_id": 1,
          "created": "2019-01-28T18:00:00",
          "heure": 18,
          "nb_pl_tot": 5,
          "nb_pl_transit": 0,
          "nb_veh": 440,
          "pct_pl_transit": 0,
          "type": "VL total",
          "type_x": "PL total",
          "type_y": "PL transit"
         },
         {
          "camera_id": 1,
          "created": "2019-01-28T19:00:00",
          "heure": 19,
          "nb_pl_tot": 9,
          "nb_pl_transit": 1,
          "nb_veh": 298,
          "pct_pl_transit": 11.11111111111111,
          "type": "VL total",
          "type_x": "PL total",
          "type_y": "PL transit"
         },
         {
          "camera_id": 1,
          "created": "2019-01-28T20:00:00",
          "heure": 20,
          "nb_pl_tot": 3,
          "nb_pl_transit": 0,
          "nb_veh": 236,
          "pct_pl_transit": 0,
          "type": "VL total",
          "type_x": "PL total",
          "type_y": "PL transit"
         },
         {
          "camera_id": 1,
          "created": "2019-01-28T21:00:00",
          "heure": 21,
          "nb_pl_tot": 5,
          "nb_pl_transit": 0,
          "nb_veh": 142,
          "pct_pl_transit": 0,
          "type": "VL total",
          "type_x": "PL total",
          "type_y": "PL transit"
         },
         {
          "camera_id": 1,
          "created": "2019-01-28T22:00:00",
          "heure": 22,
          "nb_pl_tot": 2,
          "nb_pl_transit": 0,
          "nb_veh": 87,
          "pct_pl_transit": 0,
          "type": "VL total",
          "type_x": "PL total",
          "type_y": "PL transit"
         },
         {
          "camera_id": 1,
          "created": "2019-01-28T23:00:00",
          "heure": 23,
          "nb_pl_tot": 3,
          "nb_pl_transit": 0,
          "nb_veh": 45,
          "pct_pl_transit": 0,
          "type": "VL total",
          "type_x": "PL total",
          "type_y": "PL transit"
         },
         {
          "camera_id": 1,
          "created": "2019-01-28T06:00:00",
          "heure": 6,
          "nb_pl_tot": 47,
          "nb_pl_transit": 1,
          "nb_veh": 1,
          "pct_pl_transit": 2.127659574468085,
          "type": "PL transit",
          "type_x": "PL total",
          "type_y": "PL transit"
         },
         {
          "camera_id": 1,
          "created": "2019-01-28T07:00:00",
          "heure": 7,
          "nb_pl_tot": 61,
          "nb_pl_transit": 2,
          "nb_veh": 2,
          "pct_pl_transit": 3.278688524590164,
          "type": "PL transit",
          "type_x": "PL total",
          "type_y": "PL transit"
         },
         {
          "camera_id": 1,
          "created": "2019-01-28T08:00:00",
          "heure": 8,
          "nb_pl_tot": 128,
          "nb_pl_transit": 2,
          "nb_veh": 2,
          "pct_pl_transit": 1.5625,
          "type": "PL transit",
          "type_x": "PL total",
          "type_y": "PL transit"
         },
         {
          "camera_id": 1,
          "created": "2019-01-28T09:00:00",
          "heure": 9,
          "nb_pl_tot": 137,
          "nb_pl_transit": 0,
          "nb_veh": 0,
          "pct_pl_transit": 0,
          "type": "PL transit",
          "type_x": "PL total",
          "type_y": "PL transit"
         },
         {
          "camera_id": 1,
          "created": "2019-01-28T10:00:00",
          "heure": 10,
          "nb_pl_tot": 148,
          "nb_pl_transit": 0,
          "nb_veh": 0,
          "pct_pl_transit": 0,
          "type": "PL transit",
          "type_x": "PL total",
          "type_y": "PL transit"
         },
         {
          "camera_id": 1,
          "created": "2019-01-28T11:00:00",
          "heure": 11,
          "nb_pl_tot": 109,
          "nb_pl_transit": 2,
          "nb_veh": 2,
          "pct_pl_transit": 1.834862385321101,
          "type": "PL transit",
          "type_x": "PL total",
          "type_y": "PL transit"
         },
         {
          "camera_id": 1,
          "created": "2019-01-28T12:00:00",
          "heure": 12,
          "nb_pl_tot": 128,
          "nb_pl_transit": 1,
          "nb_veh": 1,
          "pct_pl_transit": 0.78125,
          "type": "PL transit",
          "type_x": "PL total",
          "type_y": "PL transit"
         },
         {
          "camera_id": 1,
          "created": "2019-01-28T13:00:00",
          "heure": 13,
          "nb_pl_tot": 138,
          "nb_pl_transit": 2,
          "nb_veh": 2,
          "pct_pl_transit": 1.4492753623188406,
          "type": "PL transit",
          "type_x": "PL total",
          "type_y": "PL transit"
         },
         {
          "camera_id": 1,
          "created": "2019-01-28T14:00:00",
          "heure": 14,
          "nb_pl_tot": 135,
          "nb_pl_transit": 0,
          "nb_veh": 0,
          "pct_pl_transit": 0,
          "type": "PL transit",
          "type_x": "PL total",
          "type_y": "PL transit"
         },
         {
          "camera_id": 1,
          "created": "2019-01-28T15:00:00",
          "heure": 15,
          "nb_pl_tot": 99,
          "nb_pl_transit": 3,
          "nb_veh": 3,
          "pct_pl_transit": 3.0303030303030303,
          "type": "PL transit",
          "type_x": "PL total",
          "type_y": "PL transit"
         },
         {
          "camera_id": 1,
          "created": "2019-01-28T16:00:00",
          "heure": 16,
          "nb_pl_tot": 77,
          "nb_pl_transit": 9,
          "nb_veh": 9,
          "pct_pl_transit": 11.688311688311689,
          "type": "PL transit",
          "type_x": "PL total",
          "type_y": "PL transit"
         },
         {
          "camera_id": 1,
          "created": "2019-01-28T17:00:00",
          "heure": 17,
          "nb_pl_tot": 13,
          "nb_pl_transit": 2,
          "nb_veh": 2,
          "pct_pl_transit": 15.384615384615385,
          "type": "PL transit",
          "type_x": "PL total",
          "type_y": "PL transit"
         },
         {
          "camera_id": 1,
          "created": "2019-01-28T18:00:00",
          "heure": 18,
          "nb_pl_tot": 5,
          "nb_pl_transit": 0,
          "nb_veh": 0,
          "pct_pl_transit": 0,
          "type": "PL transit",
          "type_x": "PL total",
          "type_y": "PL transit"
         },
         {
          "camera_id": 1,
          "created": "2019-01-28T19:00:00",
          "heure": 19,
          "nb_pl_tot": 9,
          "nb_pl_transit": 1,
          "nb_veh": 1,
          "pct_pl_transit": 11.11111111111111,
          "type": "PL transit",
          "type_x": "PL total",
          "type_y": "PL transit"
         },
         {
          "camera_id": 1,
          "created": "2019-01-28T20:00:00",
          "heure": 20,
          "nb_pl_tot": 3,
          "nb_pl_transit": 0,
          "nb_veh": 0,
          "pct_pl_transit": 0,
          "type": "PL transit",
          "type_x": "PL total",
          "type_y": "PL transit"
         },
         {
          "camera_id": 1,
          "created": "2019-01-28T21:00:00",
          "heure": 21,
          "nb_pl_tot": 5,
          "nb_pl_transit": 0,
          "nb_veh": 0,
          "pct_pl_transit": 0,
          "type": "PL transit",
          "type_x": "PL total",
          "type_y": "PL transit"
         },
         {
          "camera_id": 1,
          "created": "2019-01-28T22:00:00",
          "heure": 22,
          "nb_pl_tot": 2,
          "nb_pl_transit": 0,
          "nb_veh": 0,
          "pct_pl_transit": 0,
          "type": "PL transit",
          "type_x": "PL total",
          "type_y": "PL transit"
         },
         {
          "camera_id": 1,
          "created": "2019-01-28T23:00:00",
          "heure": 23,
          "nb_pl_tot": 3,
          "nb_pl_transit": 0,
          "nb_veh": 0,
          "pct_pl_transit": 0,
          "type": "PL transit",
          "type_x": "PL total",
          "type_y": "PL transit"
         }
        ]
       },
       "vconcat": [
        {
         "layer": [
          {
           "data": {
            "name": "data-814030b1bd5d736434a531fdb4ebe061"
           },
           "encoding": {
            "color": {
             "field": "type",
             "type": "nominal"
            },
            "x": {
             "axis": {
              "format": "%H:%M",
              "title": "Heure"
             },
             "field": "created",
             "type": "temporal"
            },
            "y": {
             "axis": {
              "title": "Nb de véhicules"
             },
             "field": "nb_veh",
             "stack": null,
             "type": "quantitative"
            }
           },
           "mark": {
            "opacity": 0.7,
            "size": 20,
            "type": "bar"
           }
          },
          {
           "data": {
            "name": "data-814030b1bd5d736434a531fdb4ebe061"
           },
           "encoding": {
            "x": {
             "axis": {
              "format": "%H:%M",
              "title": "Heure"
             },
             "field": "created",
             "type": "temporal"
            },
            "y": {
             "axis": {
              "title": "% de PL en transit"
             },
             "field": "pct_pl_transit",
             "type": "quantitative"
            }
           },
           "mark": {
            "color": "green",
            "type": "line"
           }
          }
         ],
         "resolve": {
          "scale": {
           "color": "shared",
           "x": "shared",
           "y": "independent"
          }
         },
         "width": 800
        },
        {
         "layer": [
          {
           "data": {
            "name": "data-92e676b705d87cc226f27a6e4f419d99"
           },
           "encoding": {
            "color": {
             "field": "type",
             "type": "nominal"
            },
            "x": {
             "axis": {
              "format": "%H:%M",
              "title": "Heure"
             },
             "field": "created",
             "type": "temporal"
            },
            "y": {
             "axis": {
              "title": "Nb de véhicules"
             },
             "field": "nb_veh",
             "stack": null,
             "type": "quantitative"
            }
           },
           "mark": {
            "opacity": 0.7,
            "size": 20,
            "type": "bar"
           }
          },
          {
           "data": {
            "name": "data-92e676b705d87cc226f27a6e4f419d99"
           },
           "encoding": {
            "x": {
             "axis": {
              "format": "%H:%M",
              "title": "Heure"
             },
             "field": "created",
             "type": "temporal"
            },
            "y": {
             "axis": {
              "title": "% de PL en transit"
             },
             "field": "pct_pl_transit",
             "type": "quantitative"
            }
           },
           "mark": {
            "color": "green",
            "type": "line"
           }
          }
         ],
         "resolve": {
          "scale": {
           "color": "shared",
           "x": "shared",
           "y": "independent"
          }
         },
         "width": 800
        }
       ]
      },
      "image/png": "[encoded data removed]",
      "text/plain": [
       "<VegaLite 2 object>\n",
       "\n",
       "If you see this message, it means the renderer has not been properly enabled\n",
       "for the frontend that you are using. For more information, see\n",
       "https://altair-viz.github.io/user_guide/troubleshooting.html\n"
      ]
     },
     "execution_count": 46,
     "metadata": {},
     "output_type": "execute_result"
    }
   ],
   "source": [
    "alt.vconcat(g.graph_VL_PL_transit_j_cam(synt_nb_veh_cam, '2019-01-28', 1),g.graph_VL_PL_transit_j_cam(synt_nb_veh_cam_redresse, '2019-01-28', 1))"
   ]
  },
  {
   "cell_type": "markdown",
   "metadata": {},
   "source": [
    "## 7.3 Redressement des trajets extrapoles\n",
    "\n",
    ">**A TESTER SUR JEU DE DONNEES COMPLET**"
   ]
  },
  {
   "cell_type": "code",
   "execution_count": null,
   "metadata": {},
   "outputs": [],
   "source": [
    "# de même que opur la rocade, il faut ajouter des passages fictifs à la df des passages afin de pouvoir approximer mieux les parts de PL\n",
    "#trouver les passages extrapoles\n",
    "df_od_final.loc[df_od_final['correction_o_d_type']=='extrapole']\n",
    "# tester la camera de debut :si c'est pas une des cameras d'entree - sortie du dispositif, on sait si le trajet est extrapole en début ou fin\n",
    "#selon l'o_d crééer un passage fictuf avec le numero de la camera qui manque du trajets sensé avoir eu leiu\n",
    "#estimer le temps de passage selon le temps theorique : date_cam_1 ou 2 +ou- temps ou temps theorique"
   ]
  },
  {
   "cell_type": "markdown",
   "metadata": {},
   "source": [
    "## 7.4. Grouper les réusltats par JO"
   ]
  },
  {
   "cell_type": "code",
   "execution_count": 133,
   "metadata": {},
   "outputs": [
    {
     "data": {
      "application/vnd.vegalite.v2+json": {
       "$schema": "https://vega.github.io/schema/vega-lite/v2.6.0.json",
       "config": {
        "view": {
         "height": 300,
         "width": 400
        }
       },
       "datasets": {
        "data-95c3837ad20261cf18ae521e675b426a": [
         {
          "camera_id": 4,
          "created": "1970-01-01T00:00:00",
          "heure": 0,
          "nb_veh": 122.2,
          "pct_pl_transit": 22.641020557517212,
          "type": "PL total"
         },
         {
          "camera_id": 4,
          "created": "1970-01-01T00:00:00",
          "heure": 0,
          "nb_veh": 30.5,
          "pct_pl_transit": 22.641020557517212,
          "type": "PL transit"
         },
         {
          "camera_id": 4,
          "created": "1970-01-01T00:00:00",
          "heure": 0,
          "nb_veh": 218,
          "pct_pl_transit": 22.641020557517212,
          "type": "VL total"
         },
         {
          "camera_id": 4,
          "created": "1970-01-01T01:00:00",
          "heure": 1,
          "nb_veh": 118.6,
          "pct_pl_transit": 18.7071445695247,
          "type": "PL total"
         },
         {
          "camera_id": 4,
          "created": "1970-01-01T01:00:00",
          "heure": 1,
          "nb_veh": 23.5,
          "pct_pl_transit": 18.7071445695247,
          "type": "PL transit"
         },
         {
          "camera_id": 4,
          "created": "1970-01-01T01:00:00",
          "heure": 1,
          "nb_veh": 156.4,
          "pct_pl_transit": 18.7071445695247,
          "type": "VL total"
         },
         {
          "camera_id": 4,
          "created": "1970-01-01T02:00:00",
          "heure": 2,
          "nb_veh": 126.6,
          "pct_pl_transit": 18.372859744990894,
          "type": "PL total"
         },
         {
          "camera_id": 4,
          "created": "1970-01-01T02:00:00",
          "heure": 2,
          "nb_veh": 26.25,
          "pct_pl_transit": 18.372859744990894,
          "type": "PL transit"
         },
         {
          "camera_id": 4,
          "created": "1970-01-01T02:00:00",
          "heure": 2,
          "nb_veh": 138.6,
          "pct_pl_transit": 18.372859744990894,
          "type": "VL total"
         },
         {
          "camera_id": 4,
          "created": "1970-01-01T03:00:00",
          "heure": 3,
          "nb_veh": 126.4,
          "pct_pl_transit": 12.354881564715619,
          "type": "PL total"
         },
         {
          "camera_id": 4,
          "created": "1970-01-01T03:00:00",
          "heure": 3,
          "nb_veh": 16.25,
          "pct_pl_transit": 12.354881564715619,
          "type": "PL transit"
         },
         {
          "camera_id": 4,
          "created": "1970-01-01T03:00:00",
          "heure": 3,
          "nb_veh": 201.6,
          "pct_pl_transit": 12.354881564715619,
          "type": "VL total"
         },
         {
          "camera_id": 4,
          "created": "1970-01-01T04:00:00",
          "heure": 4,
          "nb_veh": 188.4,
          "pct_pl_transit": 13.332984942094088,
          "type": "PL total"
         },
         {
          "camera_id": 4,
          "created": "1970-01-01T04:00:00",
          "heure": 4,
          "nb_veh": 25.5,
          "pct_pl_transit": 13.332984942094088,
          "type": "PL transit"
         },
         {
          "camera_id": 4,
          "created": "1970-01-01T04:00:00",
          "heure": 4,
          "nb_veh": 401.8,
          "pct_pl_transit": 13.332984942094088,
          "type": "VL total"
         },
         {
          "camera_id": 4,
          "created": "1970-01-01T05:00:00",
          "heure": 5,
          "nb_veh": 277.4,
          "pct_pl_transit": 16.978005076164294,
          "type": "PL total"
         },
         {
          "camera_id": 4,
          "created": "1970-01-01T05:00:00",
          "heure": 5,
          "nb_veh": 46.75,
          "pct_pl_transit": 16.978005076164294,
          "type": "PL transit"
         },
         {
          "camera_id": 4,
          "created": "1970-01-01T05:00:00",
          "heure": 5,
          "nb_veh": 992.4,
          "pct_pl_transit": 16.978005076164294,
          "type": "VL total"
         },
         {
          "camera_id": 4,
          "created": "1970-01-01T06:00:00",
          "heure": 6,
          "nb_veh": 287.6,
          "pct_pl_transit": 19.206502001017967,
          "type": "PL total"
         },
         {
          "camera_id": 4,
          "created": "1970-01-01T06:00:00",
          "heure": 6,
          "nb_veh": 55,
          "pct_pl_transit": 19.206502001017967,
          "type": "PL transit"
         },
         {
          "camera_id": 4,
          "created": "1970-01-01T06:00:00",
          "heure": 6,
          "nb_veh": 1978.6,
          "pct_pl_transit": 19.206502001017967,
          "type": "VL total"
         },
         {
          "camera_id": 4,
          "created": "1970-01-01T07:00:00",
          "heure": 7,
          "nb_veh": 346.2,
          "pct_pl_transit": 28.520056993074277,
          "type": "PL total"
         },
         {
          "camera_id": 4,
          "created": "1970-01-01T07:00:00",
          "heure": 7,
          "nb_veh": 107.5,
          "pct_pl_transit": 28.520056993074277,
          "type": "PL transit"
         },
         {
          "camera_id": 4,
          "created": "1970-01-01T07:00:00",
          "heure": 7,
          "nb_veh": 2206.2,
          "pct_pl_transit": 28.520056993074277,
          "type": "VL total"
         },
         {
          "camera_id": 4,
          "created": "1970-01-01T08:00:00",
          "heure": 8,
          "nb_veh": 482,
          "pct_pl_transit": 33.502443152797746,
          "type": "PL total"
         },
         {
          "camera_id": 4,
          "created": "1970-01-01T08:00:00",
          "heure": 8,
          "nb_veh": 201,
          "pct_pl_transit": 33.502443152797746,
          "type": "PL transit"
         },
         {
          "camera_id": 4,
          "created": "1970-01-01T08:00:00",
          "heure": 8,
          "nb_veh": 1736.6,
          "pct_pl_transit": 33.502443152797746,
          "type": "VL total"
         },
         {
          "camera_id": 4,
          "created": "1970-01-01T09:00:00",
          "heure": 9,
          "nb_veh": 646.2,
          "pct_pl_transit": 30.812414343099984,
          "type": "PL total"
         },
         {
          "camera_id": 4,
          "created": "1970-01-01T09:00:00",
          "heure": 9,
          "nb_veh": 219.75,
          "pct_pl_transit": 30.812414343099984,
          "type": "PL transit"
         },
         {
          "camera_id": 4,
          "created": "1970-01-01T09:00:00",
          "heure": 9,
          "nb_veh": 1800.2,
          "pct_pl_transit": 30.812414343099984,
          "type": "VL total"
         },
         {
          "camera_id": 4,
          "created": "1970-01-01T10:00:00",
          "heure": 10,
          "nb_veh": 534,
          "pct_pl_transit": 36.745441944584094,
          "type": "PL total"
         },
         {
          "camera_id": 4,
          "created": "1970-01-01T10:00:00",
          "heure": 10,
          "nb_veh": 258.3333333333333,
          "pct_pl_transit": 36.745441944584094,
          "type": "PL transit"
         },
         {
          "camera_id": 4,
          "created": "1970-01-01T10:00:00",
          "heure": 10,
          "nb_veh": 1435,
          "pct_pl_transit": 36.745441944584094,
          "type": "VL total"
         },
         {
          "camera_id": 4,
          "created": "1970-01-01T11:00:00",
          "heure": 11,
          "nb_veh": 493.6,
          "pct_pl_transit": 40.29837540940622,
          "type": "PL total"
         },
         {
          "camera_id": 4,
          "created": "1970-01-01T11:00:00",
          "heure": 11,
          "nb_veh": 267.6666666666667,
          "pct_pl_transit": 40.29837540940622,
          "type": "PL transit"
         },
         {
          "camera_id": 4,
          "created": "1970-01-01T11:00:00",
          "heure": 11,
          "nb_veh": 1429.4,
          "pct_pl_transit": 40.29837540940622,
          "type": "VL total"
         },
         {
          "camera_id": 4,
          "created": "1970-01-01T12:00:00",
          "heure": 12,
          "nb_veh": 432,
          "pct_pl_transit": 44.72442373211171,
          "type": "PL total"
         },
         {
          "camera_id": 4,
          "created": "1970-01-01T12:00:00",
          "heure": 12,
          "nb_veh": 204,
          "pct_pl_transit": 44.72442373211171,
          "type": "PL transit"
         },
         {
          "camera_id": 4,
          "created": "1970-01-01T12:00:00",
          "heure": 12,
          "nb_veh": 1365.8,
          "pct_pl_transit": 44.72442373211171,
          "type": "VL total"
         },
         {
          "camera_id": 4,
          "created": "1970-01-01T13:00:00",
          "heure": 13,
          "nb_veh": 469,
          "pct_pl_transit": 55.379332215073156,
          "type": "PL total"
         },
         {
          "camera_id": 4,
          "created": "1970-01-01T13:00:00",
          "heure": 13,
          "nb_veh": 191.66666666666666,
          "pct_pl_transit": 55.379332215073156,
          "type": "PL transit"
         },
         {
          "camera_id": 4,
          "created": "1970-01-01T13:00:00",
          "heure": 13,
          "nb_veh": 1536.6,
          "pct_pl_transit": 55.379332215073156,
          "type": "VL total"
         },
         {
          "camera_id": 4,
          "created": "1970-01-01T14:00:00",
          "heure": 14,
          "nb_veh": 535.2,
          "pct_pl_transit": 41.393319606987994,
          "type": "PL total"
         },
         {
          "camera_id": 4,
          "created": "1970-01-01T14:00:00",
          "heure": 14,
          "nb_veh": 198,
          "pct_pl_transit": 41.393319606987994,
          "type": "PL transit"
         },
         {
          "camera_id": 4,
          "created": "1970-01-01T14:00:00",
          "heure": 14,
          "nb_veh": 1857.8,
          "pct_pl_transit": 41.393319606987994,
          "type": "VL total"
         },
         {
          "camera_id": 4,
          "created": "1970-01-01T15:00:00",
          "heure": 15,
          "nb_veh": 532,
          "pct_pl_transit": 35.73948364443493,
          "type": "PL total"
         },
         {
          "camera_id": 4,
          "created": "1970-01-01T15:00:00",
          "heure": 15,
          "nb_veh": 221,
          "pct_pl_transit": 35.73948364443493,
          "type": "PL transit"
         },
         {
          "camera_id": 4,
          "created": "1970-01-01T15:00:00",
          "heure": 15,
          "nb_veh": 2312,
          "pct_pl_transit": 35.73948364443493,
          "type": "VL total"
         },
         {
          "camera_id": 4,
          "created": "1970-01-01T16:00:00",
          "heure": 16,
          "nb_veh": 420.2,
          "pct_pl_transit": 36.33174587101748,
          "type": "PL total"
         },
         {
          "camera_id": 4,
          "created": "1970-01-01T16:00:00",
          "heure": 16,
          "nb_veh": 165,
          "pct_pl_transit": 36.33174587101748,
          "type": "PL transit"
         },
         {
          "camera_id": 4,
          "created": "1970-01-01T16:00:00",
          "heure": 16,
          "nb_veh": 2549,
          "pct_pl_transit": 36.33174587101748,
          "type": "VL total"
         },
         {
          "camera_id": 4,
          "created": "1970-01-01T17:00:00",
          "heure": 17,
          "nb_veh": 336.6,
          "pct_pl_transit": 21.734299757265337,
          "type": "PL total"
         },
         {
          "camera_id": 4,
          "created": "1970-01-01T17:00:00",
          "heure": 17,
          "nb_veh": 81.33333333333333,
          "pct_pl_transit": 21.734299757265337,
          "type": "PL transit"
         },
         {
          "camera_id": 4,
          "created": "1970-01-01T17:00:00",
          "heure": 17,
          "nb_veh": 2192.2,
          "pct_pl_transit": 21.734299757265337,
          "type": "VL total"
         },
         {
          "camera_id": 4,
          "created": "1970-01-01T18:00:00",
          "heure": 18,
          "nb_veh": 330.8,
          "pct_pl_transit": 22.267992588635284,
          "type": "PL total"
         },
         {
          "camera_id": 4,
          "created": "1970-01-01T18:00:00",
          "heure": 18,
          "nb_veh": 83.66666666666667,
          "pct_pl_transit": 22.267992588635284,
          "type": "PL transit"
         },
         {
          "camera_id": 4,
          "created": "1970-01-01T18:00:00",
          "heure": 18,
          "nb_veh": 1821.8,
          "pct_pl_transit": 22.267992588635284,
          "type": "VL total"
         },
         {
          "camera_id": 4,
          "created": "1970-01-01T19:00:00",
          "heure": 19,
          "nb_veh": 251.6,
          "pct_pl_transit": 27.54853928506623,
          "type": "PL total"
         },
         {
          "camera_id": 4,
          "created": "1970-01-01T19:00:00",
          "heure": 19,
          "nb_veh": 81.66666666666667,
          "pct_pl_transit": 27.54853928506623,
          "type": "PL transit"
         },
         {
          "camera_id": 4,
          "created": "1970-01-01T19:00:00",
          "heure": 19,
          "nb_veh": 1315.4,
          "pct_pl_transit": 27.54853928506623,
          "type": "VL total"
         },
         {
          "camera_id": 4,
          "created": "1970-01-01T20:00:00",
          "heure": 20,
          "nb_veh": 204.4,
          "pct_pl_transit": 35.46185568244392,
          "type": "PL total"
         },
         {
          "camera_id": 4,
          "created": "1970-01-01T20:00:00",
          "heure": 20,
          "nb_veh": 84,
          "pct_pl_transit": 35.46185568244392,
          "type": "PL transit"
         },
         {
          "camera_id": 4,
          "created": "1970-01-01T20:00:00",
          "heure": 20,
          "nb_veh": 802,
          "pct_pl_transit": 35.46185568244392,
          "type": "VL total"
         },
         {
          "camera_id": 4,
          "created": "1970-01-01T21:00:00",
          "heure": 21,
          "nb_veh": 175.6,
          "pct_pl_transit": 36.9790056058526,
          "type": "PL total"
         },
         {
          "camera_id": 4,
          "created": "1970-01-01T21:00:00",
          "heure": 21,
          "nb_veh": 72.33333333333333,
          "pct_pl_transit": 36.9790056058526,
          "type": "PL transit"
         },
         {
          "camera_id": 4,
          "created": "1970-01-01T21:00:00",
          "heure": 21,
          "nb_veh": 650.6,
          "pct_pl_transit": 36.9790056058526,
          "type": "VL total"
         },
         {
          "camera_id": 4,
          "created": "1970-01-01T22:00:00",
          "heure": 22,
          "nb_veh": 138.4,
          "pct_pl_transit": 35.201384941914256,
          "type": "PL total"
         },
         {
          "camera_id": 4,
          "created": "1970-01-01T22:00:00",
          "heure": 22,
          "nb_veh": 51.666666666666664,
          "pct_pl_transit": 35.201384941914256,
          "type": "PL transit"
         },
         {
          "camera_id": 4,
          "created": "1970-01-01T22:00:00",
          "heure": 22,
          "nb_veh": 472.6,
          "pct_pl_transit": 35.201384941914256,
          "type": "VL total"
         },
         {
          "camera_id": 4,
          "created": "1970-01-01T23:00:00",
          "heure": 23,
          "nb_veh": 120.2,
          "pct_pl_transit": 33.26824682896647,
          "type": "PL total"
         },
         {
          "camera_id": 4,
          "created": "1970-01-01T23:00:00",
          "heure": 23,
          "nb_veh": 44,
          "pct_pl_transit": 33.26824682896647,
          "type": "PL transit"
         },
         {
          "camera_id": 4,
          "created": "1970-01-01T23:00:00",
          "heure": 23,
          "nb_veh": 319,
          "pct_pl_transit": 33.26824682896647,
          "type": "VL total"
         }
        ]
       },
       "layer": [
        {
         "data": {
          "name": "data-95c3837ad20261cf18ae521e675b426a"
         },
         "encoding": {
          "color": {
           "field": "type",
           "type": "nominal"
          },
          "x": {
           "axis": {
            "format": "%H:%M",
            "title": "Heure"
           },
           "field": "created",
           "type": "temporal"
          },
          "y": {
           "axis": {
            "title": "Nb de véhicules"
           },
           "field": "nb_veh",
           "stack": null,
           "type": "quantitative"
          }
         },
         "mark": {
          "opacity": 0.7,
          "size": 20,
          "type": "bar"
         }
        },
        {
         "data": {
          "name": "data-95c3837ad20261cf18ae521e675b426a"
         },
         "encoding": {
          "x": {
           "axis": {
            "format": "%H:%M",
            "title": "Heure"
           },
           "field": "created",
           "type": "temporal"
          },
          "y": {
           "axis": {
            "title": "% de PL en transit"
           },
           "field": "pct_pl_transit",
           "type": "quantitative"
          }
         },
         "mark": {
          "color": "green",
          "type": "line"
         }
        }
       ],
       "resolve": {
        "scale": {
         "color": "shared",
         "x": "shared",
         "y": "independent"
        }
       },
       "width": 800
      },
      "image/png": "[encoded data removed]",
      "text/plain": [
       "<VegaLite 2 object>\n",
       "\n",
       "If you see this message, it means the renderer has not been properly enabled\n",
       "for the frontend that you are using. For more information, see\n",
       "https://altair-viz.github.io/user_guide/troubleshooting.html\n"
      ]
     },
     "execution_count": 133,
     "metadata": {},
     "output_type": "execute_result"
    }
   ],
   "source": [
    "g.graph_VL_PL_transit_j_cam(synt_nb_veh_cam_redresse, 'JO', 4)"
   ]
  },
  {
   "cell_type": "markdown",
   "metadata": {},
   "source": [
    "# 8. Temps de parcours"
   ]
  },
  {
   "cell_type": "code",
   "execution_count": 26,
   "metadata": {},
   "outputs": [],
   "source": [
    "# on cherche à obtenir le temps de parcours moyen pour une camera, sur un jour ou les jours ouvres, par o_d\n",
    "# on construit donc une df avec : immat, cam, tps_parcours, heure_Rocade\n",
    "# pour l'heure à la Rocade : on va cehrcher dans les df_passage le passage:qui a la mm immat, dont la cam est 1,2,3,4 et dont le created est compris entre date_cam1et date_cam2\n",
    "\n",
    "#isoler les passages concernes par la Rocade\n",
    "passage_rocade=dico_passag_final.loc[(dico_passag_final['camera_id'].isin([1,2,3,4]))]# & (dico_passag_final['correction_o_d']==False)]"
   ]
  },
  {
   "cell_type": "code",
   "execution_count": 36,
   "metadata": {},
   "outputs": [],
   "source": [
    "#jointure entre les o_d et les passages\n",
    "o_d_joint_rocade=dico_od_final.merge(passage_rocade, on='immat', how='left')"
   ]
  },
  {
   "cell_type": "code",
   "execution_count": 109,
   "metadata": {},
   "outputs": [],
   "source": [
    "#limiter les o_d là ou date du passages est ciompris entre les date 1 et date 2 de l'o_d\n",
    "dico_od_Rocade_final=o_d_joint_rocade.loc[(o_d_joint_rocade['date_cam_1']<o_d_joint_rocade['created']) & \n",
    "                                          (o_d_joint_rocade['created']<o_d_joint_rocade['date_cam_2']) & \n",
    "                                          (o_d_joint_rocade['tps_parcours']<pd.Timedelta('4H'))]"
   ]
  },
  {
   "cell_type": "code",
   "execution_count": 155,
   "metadata": {},
   "outputs": [],
   "source": [
    "#limiter les \n",
    "limite_donnees=dico_od_Rocade_final[['date_cam_1','immat','o_d','tps_parcours','created']].rename(columns={'created':'h_rocade'})"
   ]
  },
  {
   "cell_type": "code",
   "execution_count": 181,
   "metadata": {},
   "outputs": [
    {
     "data": {
      "text/plain": [
       "\"filtre_donnees=limite_donnees.loc[(limite_donnees.set_index('h_rocade').index.dayofweek.isin([1,3])) & \\n                          (limite_donnees['o_d']=='A10-A62')].copy()\""
      ]
     },
     "execution_count": 181,
     "metadata": {},
     "output_type": "execute_result"
    }
   ],
   "source": [
    "#filtrer selon une date ou des jours ouvrés ou mardi/jeudi : \n",
    "\"\"\"filtre_donnees=limite_donnees.loc[(limite_donnees.apply(lambda x : x['h_rocade'].dayofyear==pd.to_datetime('2019-01-28').dayofyear,axis=1)) & \n",
    "                          (pour_graph['o_d']=='A10-A62')].copy()\"\"\"\n",
    "filtre_donnees=limite_donnees.loc[(limite_donnees.set_index('h_rocade').index.dayofweek<5) & \n",
    "                          (limite_donnees['o_d']=='A10-A63')].copy()\n",
    "\"\"\"filtre_donnees=limite_donnees.loc[(limite_donnees.set_index('h_rocade').index.dayofweek.isin([1,3])) & \n",
    "                          (limite_donnees['o_d']=='A10-A62')].copy()\"\"\""
   ]
  },
  {
   "cell_type": "code",
   "execution_count": 182,
   "metadata": {},
   "outputs": [],
   "source": [
    "#transformer les valeur de temps en integer pour agregation\n",
    "filtre_donnees['tps_parcours2']=filtre_donnees['tps_parcours'].values.astype(np.int64)"
   ]
  },
  {
   "cell_type": "code",
   "execution_count": 183,
   "metadata": {},
   "outputs": [],
   "source": [
    "#mise en forme pour graph\n",
    "groupe_h=filtre_donnees.set_index('h_rocade').resample('15T')['tps_parcours2'].mean()\n",
    "#groupe_h['tps_parcours']=pd.to_timedelta(groupe_h['tps_parcours'])\n",
    "groupe_h=pd.to_timedelta(groupe_h)\n",
    "pour_graph=groupe_h.reset_index()\n",
    "pour_graph['tps_parcours2']=pd.to_datetime('2019-01-31')+pour_graph['tps_parcours2']"
   ]
  },
  {
   "cell_type": "code",
   "execution_count": 185,
   "metadata": {},
   "outputs": [
    {
     "data": {
      "text/html": [
       "<div>\n",
       "<style scoped>\n",
       "    .dataframe tbody tr th:only-of-type {\n",
       "        vertical-align: middle;\n",
       "    }\n",
       "\n",
       "    .dataframe tbody tr th {\n",
       "        vertical-align: top;\n",
       "    }\n",
       "\n",
       "    .dataframe thead th {\n",
       "        text-align: right;\n",
       "    }\n",
       "</style>\n",
       "<table border=\"1\" class=\"dataframe\">\n",
       "  <thead>\n",
       "    <tr style=\"text-align: right;\">\n",
       "      <th></th>\n",
       "      <th>h_rocade</th>\n",
       "      <th>tps_parcours2</th>\n",
       "    </tr>\n",
       "  </thead>\n",
       "  <tbody>\n",
       "    <tr>\n",
       "      <th>0</th>\n",
       "      <td>2019-01-28 01:30:00</td>\n",
       "      <td>2019-01-31 01:27:18.000000000</td>\n",
       "    </tr>\n",
       "    <tr>\n",
       "      <th>1</th>\n",
       "      <td>2019-01-28 01:45:00</td>\n",
       "      <td>NaT</td>\n",
       "    </tr>\n",
       "    <tr>\n",
       "      <th>2</th>\n",
       "      <td>2019-01-28 02:00:00</td>\n",
       "      <td>NaT</td>\n",
       "    </tr>\n",
       "    <tr>\n",
       "      <th>3</th>\n",
       "      <td>2019-01-28 02:15:00</td>\n",
       "      <td>2019-01-31 01:35:16.000000000</td>\n",
       "    </tr>\n",
       "    <tr>\n",
       "      <th>4</th>\n",
       "      <td>2019-01-28 02:30:00</td>\n",
       "      <td>NaT</td>\n",
       "    </tr>\n",
       "    <tr>\n",
       "      <th>5</th>\n",
       "      <td>2019-01-28 02:45:00</td>\n",
       "      <td>2019-01-31 01:11:47.000000000</td>\n",
       "    </tr>\n",
       "    <tr>\n",
       "      <th>6</th>\n",
       "      <td>2019-01-28 03:00:00</td>\n",
       "      <td>2019-01-31 01:38:07.000000000</td>\n",
       "    </tr>\n",
       "    <tr>\n",
       "      <th>7</th>\n",
       "      <td>2019-01-28 03:15:00</td>\n",
       "      <td>NaT</td>\n",
       "    </tr>\n",
       "    <tr>\n",
       "      <th>8</th>\n",
       "      <td>2019-01-28 03:30:00</td>\n",
       "      <td>NaT</td>\n",
       "    </tr>\n",
       "    <tr>\n",
       "      <th>9</th>\n",
       "      <td>2019-01-28 03:45:00</td>\n",
       "      <td>NaT</td>\n",
       "    </tr>\n",
       "    <tr>\n",
       "      <th>10</th>\n",
       "      <td>2019-01-28 04:00:00</td>\n",
       "      <td>2019-01-31 01:31:45.000000000</td>\n",
       "    </tr>\n",
       "    <tr>\n",
       "      <th>11</th>\n",
       "      <td>2019-01-28 04:15:00</td>\n",
       "      <td>2019-01-31 01:15:24.000000000</td>\n",
       "    </tr>\n",
       "    <tr>\n",
       "      <th>12</th>\n",
       "      <td>2019-01-28 04:30:00</td>\n",
       "      <td>2019-01-31 01:21:46.500000000</td>\n",
       "    </tr>\n",
       "    <tr>\n",
       "      <th>13</th>\n",
       "      <td>2019-01-28 04:45:00</td>\n",
       "      <td>NaT</td>\n",
       "    </tr>\n",
       "    <tr>\n",
       "      <th>14</th>\n",
       "      <td>2019-01-28 05:00:00</td>\n",
       "      <td>2019-01-31 01:56:48.000000000</td>\n",
       "    </tr>\n",
       "    <tr>\n",
       "      <th>15</th>\n",
       "      <td>2019-01-28 05:15:00</td>\n",
       "      <td>2019-01-31 01:27:04.000000000</td>\n",
       "    </tr>\n",
       "    <tr>\n",
       "      <th>16</th>\n",
       "      <td>2019-01-28 05:30:00</td>\n",
       "      <td>NaT</td>\n",
       "    </tr>\n",
       "    <tr>\n",
       "      <th>17</th>\n",
       "      <td>2019-01-28 05:45:00</td>\n",
       "      <td>2019-01-31 01:46:29.000000000</td>\n",
       "    </tr>\n",
       "    <tr>\n",
       "      <th>18</th>\n",
       "      <td>2019-01-28 06:00:00</td>\n",
       "      <td>NaT</td>\n",
       "    </tr>\n",
       "    <tr>\n",
       "      <th>19</th>\n",
       "      <td>2019-01-28 06:15:00</td>\n",
       "      <td>2019-01-31 02:11:49.000000000</td>\n",
       "    </tr>\n",
       "    <tr>\n",
       "      <th>20</th>\n",
       "      <td>2019-01-28 06:30:00</td>\n",
       "      <td>NaT</td>\n",
       "    </tr>\n",
       "    <tr>\n",
       "      <th>21</th>\n",
       "      <td>2019-01-28 06:45:00</td>\n",
       "      <td>NaT</td>\n",
       "    </tr>\n",
       "    <tr>\n",
       "      <th>22</th>\n",
       "      <td>2019-01-28 07:00:00</td>\n",
       "      <td>NaT</td>\n",
       "    </tr>\n",
       "    <tr>\n",
       "      <th>23</th>\n",
       "      <td>2019-01-28 07:15:00</td>\n",
       "      <td>2019-01-31 03:39:38.000000000</td>\n",
       "    </tr>\n",
       "    <tr>\n",
       "      <th>24</th>\n",
       "      <td>2019-01-28 07:30:00</td>\n",
       "      <td>NaT</td>\n",
       "    </tr>\n",
       "    <tr>\n",
       "      <th>25</th>\n",
       "      <td>2019-01-28 07:45:00</td>\n",
       "      <td>NaT</td>\n",
       "    </tr>\n",
       "    <tr>\n",
       "      <th>26</th>\n",
       "      <td>2019-01-28 08:00:00</td>\n",
       "      <td>NaT</td>\n",
       "    </tr>\n",
       "    <tr>\n",
       "      <th>27</th>\n",
       "      <td>2019-01-28 08:15:00</td>\n",
       "      <td>NaT</td>\n",
       "    </tr>\n",
       "    <tr>\n",
       "      <th>28</th>\n",
       "      <td>2019-01-28 08:30:00</td>\n",
       "      <td>2019-01-31 01:55:37.166666666</td>\n",
       "    </tr>\n",
       "    <tr>\n",
       "      <th>29</th>\n",
       "      <td>2019-01-28 08:45:00</td>\n",
       "      <td>2019-01-31 01:28:53.000000000</td>\n",
       "    </tr>\n",
       "    <tr>\n",
       "      <th>...</th>\n",
       "      <td>...</td>\n",
       "      <td>...</td>\n",
       "    </tr>\n",
       "    <tr>\n",
       "      <th>638</th>\n",
       "      <td>2019-02-03 17:00:00</td>\n",
       "      <td>NaT</td>\n",
       "    </tr>\n",
       "    <tr>\n",
       "      <th>639</th>\n",
       "      <td>2019-02-03 17:15:00</td>\n",
       "      <td>NaT</td>\n",
       "    </tr>\n",
       "    <tr>\n",
       "      <th>640</th>\n",
       "      <td>2019-02-03 17:30:00</td>\n",
       "      <td>NaT</td>\n",
       "    </tr>\n",
       "    <tr>\n",
       "      <th>641</th>\n",
       "      <td>2019-02-03 17:45:00</td>\n",
       "      <td>NaT</td>\n",
       "    </tr>\n",
       "    <tr>\n",
       "      <th>642</th>\n",
       "      <td>2019-02-03 18:00:00</td>\n",
       "      <td>NaT</td>\n",
       "    </tr>\n",
       "    <tr>\n",
       "      <th>643</th>\n",
       "      <td>2019-02-03 18:15:00</td>\n",
       "      <td>NaT</td>\n",
       "    </tr>\n",
       "    <tr>\n",
       "      <th>644</th>\n",
       "      <td>2019-02-03 18:30:00</td>\n",
       "      <td>NaT</td>\n",
       "    </tr>\n",
       "    <tr>\n",
       "      <th>645</th>\n",
       "      <td>2019-02-03 18:45:00</td>\n",
       "      <td>NaT</td>\n",
       "    </tr>\n",
       "    <tr>\n",
       "      <th>646</th>\n",
       "      <td>2019-02-03 19:00:00</td>\n",
       "      <td>NaT</td>\n",
       "    </tr>\n",
       "    <tr>\n",
       "      <th>647</th>\n",
       "      <td>2019-02-03 19:15:00</td>\n",
       "      <td>NaT</td>\n",
       "    </tr>\n",
       "    <tr>\n",
       "      <th>648</th>\n",
       "      <td>2019-02-03 19:30:00</td>\n",
       "      <td>NaT</td>\n",
       "    </tr>\n",
       "    <tr>\n",
       "      <th>649</th>\n",
       "      <td>2019-02-03 19:45:00</td>\n",
       "      <td>NaT</td>\n",
       "    </tr>\n",
       "    <tr>\n",
       "      <th>650</th>\n",
       "      <td>2019-02-03 20:00:00</td>\n",
       "      <td>NaT</td>\n",
       "    </tr>\n",
       "    <tr>\n",
       "      <th>651</th>\n",
       "      <td>2019-02-03 20:15:00</td>\n",
       "      <td>NaT</td>\n",
       "    </tr>\n",
       "    <tr>\n",
       "      <th>652</th>\n",
       "      <td>2019-02-03 20:30:00</td>\n",
       "      <td>NaT</td>\n",
       "    </tr>\n",
       "    <tr>\n",
       "      <th>653</th>\n",
       "      <td>2019-02-03 20:45:00</td>\n",
       "      <td>NaT</td>\n",
       "    </tr>\n",
       "    <tr>\n",
       "      <th>654</th>\n",
       "      <td>2019-02-03 21:00:00</td>\n",
       "      <td>NaT</td>\n",
       "    </tr>\n",
       "    <tr>\n",
       "      <th>655</th>\n",
       "      <td>2019-02-03 21:15:00</td>\n",
       "      <td>NaT</td>\n",
       "    </tr>\n",
       "    <tr>\n",
       "      <th>656</th>\n",
       "      <td>2019-02-03 21:30:00</td>\n",
       "      <td>NaT</td>\n",
       "    </tr>\n",
       "    <tr>\n",
       "      <th>657</th>\n",
       "      <td>2019-02-03 21:45:00</td>\n",
       "      <td>NaT</td>\n",
       "    </tr>\n",
       "    <tr>\n",
       "      <th>658</th>\n",
       "      <td>2019-02-03 22:00:00</td>\n",
       "      <td>NaT</td>\n",
       "    </tr>\n",
       "    <tr>\n",
       "      <th>659</th>\n",
       "      <td>2019-02-03 22:15:00</td>\n",
       "      <td>NaT</td>\n",
       "    </tr>\n",
       "    <tr>\n",
       "      <th>660</th>\n",
       "      <td>2019-02-03 22:30:00</td>\n",
       "      <td>NaT</td>\n",
       "    </tr>\n",
       "    <tr>\n",
       "      <th>661</th>\n",
       "      <td>2019-02-03 22:45:00</td>\n",
       "      <td>NaT</td>\n",
       "    </tr>\n",
       "    <tr>\n",
       "      <th>662</th>\n",
       "      <td>2019-02-03 23:00:00</td>\n",
       "      <td>NaT</td>\n",
       "    </tr>\n",
       "    <tr>\n",
       "      <th>663</th>\n",
       "      <td>2019-02-03 23:15:00</td>\n",
       "      <td>NaT</td>\n",
       "    </tr>\n",
       "    <tr>\n",
       "      <th>664</th>\n",
       "      <td>2019-02-03 23:30:00</td>\n",
       "      <td>NaT</td>\n",
       "    </tr>\n",
       "    <tr>\n",
       "      <th>665</th>\n",
       "      <td>2019-02-03 23:45:00</td>\n",
       "      <td>NaT</td>\n",
       "    </tr>\n",
       "    <tr>\n",
       "      <th>666</th>\n",
       "      <td>2019-02-04 00:00:00</td>\n",
       "      <td>2019-01-31 01:55:23.000000000</td>\n",
       "    </tr>\n",
       "    <tr>\n",
       "      <th>667</th>\n",
       "      <td>2019-02-04 00:15:00</td>\n",
       "      <td>2019-01-31 01:31:24.500000000</td>\n",
       "    </tr>\n",
       "  </tbody>\n",
       "</table>\n",
       "<p>668 rows × 2 columns</p>\n",
       "</div>"
      ],
      "text/plain": [
       "               h_rocade                 tps_parcours2\n",
       "0   2019-01-28 01:30:00 2019-01-31 01:27:18.000000000\n",
       "1   2019-01-28 01:45:00                           NaT\n",
       "2   2019-01-28 02:00:00                           NaT\n",
       "3   2019-01-28 02:15:00 2019-01-31 01:35:16.000000000\n",
       "4   2019-01-28 02:30:00                           NaT\n",
       "5   2019-01-28 02:45:00 2019-01-31 01:11:47.000000000\n",
       "6   2019-01-28 03:00:00 2019-01-31 01:38:07.000000000\n",
       "7   2019-01-28 03:15:00                           NaT\n",
       "8   2019-01-28 03:30:00                           NaT\n",
       "9   2019-01-28 03:45:00                           NaT\n",
       "10  2019-01-28 04:00:00 2019-01-31 01:31:45.000000000\n",
       "11  2019-01-28 04:15:00 2019-01-31 01:15:24.000000000\n",
       "12  2019-01-28 04:30:00 2019-01-31 01:21:46.500000000\n",
       "13  2019-01-28 04:45:00                           NaT\n",
       "14  2019-01-28 05:00:00 2019-01-31 01:56:48.000000000\n",
       "15  2019-01-28 05:15:00 2019-01-31 01:27:04.000000000\n",
       "16  2019-01-28 05:30:00                           NaT\n",
       "17  2019-01-28 05:45:00 2019-01-31 01:46:29.000000000\n",
       "18  2019-01-28 06:00:00                           NaT\n",
       "19  2019-01-28 06:15:00 2019-01-31 02:11:49.000000000\n",
       "20  2019-01-28 06:30:00                           NaT\n",
       "21  2019-01-28 06:45:00                           NaT\n",
       "22  2019-01-28 07:00:00                           NaT\n",
       "23  2019-01-28 07:15:00 2019-01-31 03:39:38.000000000\n",
       "24  2019-01-28 07:30:00                           NaT\n",
       "25  2019-01-28 07:45:00                           NaT\n",
       "26  2019-01-28 08:00:00                           NaT\n",
       "27  2019-01-28 08:15:00                           NaT\n",
       "28  2019-01-28 08:30:00 2019-01-31 01:55:37.166666666\n",
       "29  2019-01-28 08:45:00 2019-01-31 01:28:53.000000000\n",
       "..                  ...                           ...\n",
       "638 2019-02-03 17:00:00                           NaT\n",
       "639 2019-02-03 17:15:00                           NaT\n",
       "640 2019-02-03 17:30:00                           NaT\n",
       "641 2019-02-03 17:45:00                           NaT\n",
       "642 2019-02-03 18:00:00                           NaT\n",
       "643 2019-02-03 18:15:00                           NaT\n",
       "644 2019-02-03 18:30:00                           NaT\n",
       "645 2019-02-03 18:45:00                           NaT\n",
       "646 2019-02-03 19:00:00                           NaT\n",
       "647 2019-02-03 19:15:00                           NaT\n",
       "648 2019-02-03 19:30:00                           NaT\n",
       "649 2019-02-03 19:45:00                           NaT\n",
       "650 2019-02-03 20:00:00                           NaT\n",
       "651 2019-02-03 20:15:00                           NaT\n",
       "652 2019-02-03 20:30:00                           NaT\n",
       "653 2019-02-03 20:45:00                           NaT\n",
       "654 2019-02-03 21:00:00                           NaT\n",
       "655 2019-02-03 21:15:00                           NaT\n",
       "656 2019-02-03 21:30:00                           NaT\n",
       "657 2019-02-03 21:45:00                           NaT\n",
       "658 2019-02-03 22:00:00                           NaT\n",
       "659 2019-02-03 22:15:00                           NaT\n",
       "660 2019-02-03 22:30:00                           NaT\n",
       "661 2019-02-03 22:45:00                           NaT\n",
       "662 2019-02-03 23:00:00                           NaT\n",
       "663 2019-02-03 23:15:00                           NaT\n",
       "664 2019-02-03 23:30:00                           NaT\n",
       "665 2019-02-03 23:45:00                           NaT\n",
       "666 2019-02-04 00:00:00 2019-01-31 01:55:23.000000000\n",
       "667 2019-02-04 00:15:00 2019-01-31 01:31:24.500000000\n",
       "\n",
       "[668 rows x 2 columns]"
      ]
     },
     "execution_count": 185,
     "metadata": {},
     "output_type": "execute_result"
    }
   ],
   "source": [
    "pour_graph"
   ]
  },
  {
   "cell_type": "code",
   "execution_count": 184,
   "metadata": {},
   "outputs": [
    {
     "data": {
      "application/vnd.vegalite.v2+json": {
       "$schema": "https://vega.github.io/schema/vega-lite/v2.6.0.json",
       "config": {
        "view": {
         "height": 300,
         "width": 400
        }
       },
       "data": {
        "name": "data-623bc0f69b61ae9ff44702b2ce06fb5c"
       },
       "datasets": {
        "data-623bc0f69b61ae9ff44702b2ce06fb5c": [
         {
          "h_rocade": "2019-01-28T01:30:00",
          "tps_parcours2": "2019-01-31T01:27:18"
         },
         {
          "h_rocade": "2019-01-28T01:45:00",
          "tps_parcours2": ""
         },
         {
          "h_rocade": "2019-01-28T02:00:00",
          "tps_parcours2": ""
         },
         {
          "h_rocade": "2019-01-28T02:15:00",
          "tps_parcours2": "2019-01-31T01:35:16"
         },
         {
          "h_rocade": "2019-01-28T02:30:00",
          "tps_parcours2": ""
         },
         {
          "h_rocade": "2019-01-28T02:45:00",
          "tps_parcours2": "2019-01-31T01:11:47"
         },
         {
          "h_rocade": "2019-01-28T03:00:00",
          "tps_parcours2": "2019-01-31T01:38:07"
         },
         {
          "h_rocade": "2019-01-28T03:15:00",
          "tps_parcours2": ""
         },
         {
          "h_rocade": "2019-01-28T03:30:00",
          "tps_parcours2": ""
         },
         {
          "h_rocade": "2019-01-28T03:45:00",
          "tps_parcours2": ""
         },
         {
          "h_rocade": "2019-01-28T04:00:00",
          "tps_parcours2": "2019-01-31T01:31:45"
         },
         {
          "h_rocade": "2019-01-28T04:15:00",
          "tps_parcours2": "2019-01-31T01:15:24"
         },
         {
          "h_rocade": "2019-01-28T04:30:00",
          "tps_parcours2": "2019-01-31T01:21:46.500000"
         },
         {
          "h_rocade": "2019-01-28T04:45:00",
          "tps_parcours2": ""
         },
         {
          "h_rocade": "2019-01-28T05:00:00",
          "tps_parcours2": "2019-01-31T01:56:48"
         },
         {
          "h_rocade": "2019-01-28T05:15:00",
          "tps_parcours2": "2019-01-31T01:27:04"
         },
         {
          "h_rocade": "2019-01-28T05:30:00",
          "tps_parcours2": ""
         },
         {
          "h_rocade": "2019-01-28T05:45:00",
          "tps_parcours2": "2019-01-31T01:46:29"
         },
         {
          "h_rocade": "2019-01-28T06:00:00",
          "tps_parcours2": ""
         },
         {
          "h_rocade": "2019-01-28T06:15:00",
          "tps_parcours2": "2019-01-31T02:11:49"
         },
         {
          "h_rocade": "2019-01-28T06:30:00",
          "tps_parcours2": ""
         },
         {
          "h_rocade": "2019-01-28T06:45:00",
          "tps_parcours2": ""
         },
         {
          "h_rocade": "2019-01-28T07:00:00",
          "tps_parcours2": ""
         },
         {
          "h_rocade": "2019-01-28T07:15:00",
          "tps_parcours2": "2019-01-31T03:39:38"
         },
         {
          "h_rocade": "2019-01-28T07:30:00",
          "tps_parcours2": ""
         },
         {
          "h_rocade": "2019-01-28T07:45:00",
          "tps_parcours2": ""
         },
         {
          "h_rocade": "2019-01-28T08:00:00",
          "tps_parcours2": ""
         },
         {
          "h_rocade": "2019-01-28T08:15:00",
          "tps_parcours2": ""
         },
         {
          "h_rocade": "2019-01-28T08:30:00",
          "tps_parcours2": "2019-01-31T01:55:37.166666666"
         },
         {
          "h_rocade": "2019-01-28T08:45:00",
          "tps_parcours2": "2019-01-31T01:28:53"
         },
         {
          "h_rocade": "2019-01-28T09:00:00",
          "tps_parcours2": "2019-01-31T01:51:02.333333333"
         },
         {
          "h_rocade": "2019-01-28T09:15:00",
          "tps_parcours2": "2019-01-31T01:14:39"
         },
         {
          "h_rocade": "2019-01-28T09:30:00",
          "tps_parcours2": "2019-01-31T01:15:40.666666666"
         },
         {
          "h_rocade": "2019-01-28T09:45:00",
          "tps_parcours2": "2019-01-31T01:15:58"
         },
         {
          "h_rocade": "2019-01-28T10:00:00",
          "tps_parcours2": ""
         },
         {
          "h_rocade": "2019-01-28T10:15:00",
          "tps_parcours2": "2019-01-31T01:31:47.500000"
         },
         {
          "h_rocade": "2019-01-28T10:30:00",
          "tps_parcours2": "2019-01-31T01:19:34"
         },
         {
          "h_rocade": "2019-01-28T10:45:00",
          "tps_parcours2": "2019-01-31T01:41:46.500000"
         },
         {
          "h_rocade": "2019-01-28T11:00:00",
          "tps_parcours2": "2019-01-31T01:25:47.500000"
         },
         {
          "h_rocade": "2019-01-28T11:15:00",
          "tps_parcours2": ""
         },
         {
          "h_rocade": "2019-01-28T11:30:00",
          "tps_parcours2": "2019-01-31T01:22:52.333333333"
         },
         {
          "h_rocade": "2019-01-28T11:45:00",
          "tps_parcours2": "2019-01-31T01:47:37"
         },
         {
          "h_rocade": "2019-01-28T12:00:00",
          "tps_parcours2": "2019-01-31T01:17:26"
         },
         {
          "h_rocade": "2019-01-28T12:15:00",
          "tps_parcours2": "2019-01-31T01:31:03"
         },
         {
          "h_rocade": "2019-01-28T12:30:00",
          "tps_parcours2": ""
         },
         {
          "h_rocade": "2019-01-28T12:45:00",
          "tps_parcours2": "2019-01-31T01:22:51.800000"
         },
         {
          "h_rocade": "2019-01-28T13:00:00",
          "tps_parcours2": "2019-01-31T01:33:07.500000"
         },
         {
          "h_rocade": "2019-01-28T13:15:00",
          "tps_parcours2": "2019-01-31T01:16:10"
         },
         {
          "h_rocade": "2019-01-28T13:30:00",
          "tps_parcours2": "2019-01-31T01:30:13.500000"
         },
         {
          "h_rocade": "2019-01-28T13:45:00",
          "tps_parcours2": "2019-01-31T01:31:14.600000"
         },
         {
          "h_rocade": "2019-01-28T14:00:00",
          "tps_parcours2": "2019-01-31T01:17:27"
         },
         {
          "h_rocade": "2019-01-28T14:15:00",
          "tps_parcours2": "2019-01-31T01:27:55"
         },
         {
          "h_rocade": "2019-01-28T14:30:00",
          "tps_parcours2": "2019-01-31T01:29:41.571428571"
         },
         {
          "h_rocade": "2019-01-28T14:45:00",
          "tps_parcours2": "2019-01-31T01:20:56"
         },
         {
          "h_rocade": "2019-01-28T15:00:00",
          "tps_parcours2": "2019-01-31T01:26:55"
         },
         {
          "h_rocade": "2019-01-28T15:15:00",
          "tps_parcours2": "2019-01-31T01:17:11"
         },
         {
          "h_rocade": "2019-01-28T15:30:00",
          "tps_parcours2": "2019-01-31T01:23:11.142857142"
         },
         {
          "h_rocade": "2019-01-28T15:45:00",
          "tps_parcours2": "2019-01-31T01:30:19"
         },
         {
          "h_rocade": "2019-01-28T16:00:00",
          "tps_parcours2": "2019-01-31T01:35:16.500000"
         },
         {
          "h_rocade": "2019-01-28T16:15:00",
          "tps_parcours2": "2019-01-31T01:36:41.333333333"
         },
         {
          "h_rocade": "2019-01-28T16:30:00",
          "tps_parcours2": "2019-01-31T01:32:26.142857142"
         },
         {
          "h_rocade": "2019-01-28T16:45:00",
          "tps_parcours2": "2019-01-31T01:30:53"
         },
         {
          "h_rocade": "2019-01-28T17:00:00",
          "tps_parcours2": "2019-01-31T01:20:54.200000"
         },
         {
          "h_rocade": "2019-01-28T17:15:00",
          "tps_parcours2": "2019-01-31T01:28:09.500000"
         },
         {
          "h_rocade": "2019-01-28T17:30:00",
          "tps_parcours2": "2019-01-31T01:19:59.333333333"
         },
         {
          "h_rocade": "2019-01-28T17:45:00",
          "tps_parcours2": "2019-01-31T01:27:48"
         },
         {
          "h_rocade": "2019-01-28T18:00:00",
          "tps_parcours2": "2019-01-31T01:25:39.500000"
         },
         {
          "h_rocade": "2019-01-28T18:15:00",
          "tps_parcours2": "2019-01-31T01:29:54"
         },
         {
          "h_rocade": "2019-01-28T18:30:00",
          "tps_parcours2": ""
         },
         {
          "h_rocade": "2019-01-28T18:45:00",
          "tps_parcours2": ""
         },
         {
          "h_rocade": "2019-01-28T19:00:00",
          "tps_parcours2": "2019-01-31T01:33:06"
         },
         {
          "h_rocade": "2019-01-28T19:15:00",
          "tps_parcours2": ""
         },
         {
          "h_rocade": "2019-01-28T19:30:00",
          "tps_parcours2": ""
         },
         {
          "h_rocade": "2019-01-28T19:45:00",
          "tps_parcours2": ""
         },
         {
          "h_rocade": "2019-01-28T20:00:00",
          "tps_parcours2": ""
         },
         {
          "h_rocade": "2019-01-28T20:15:00",
          "tps_parcours2": ""
         },
         {
          "h_rocade": "2019-01-28T20:30:00",
          "tps_parcours2": ""
         },
         {
          "h_rocade": "2019-01-28T20:45:00",
          "tps_parcours2": ""
         },
         {
          "h_rocade": "2019-01-28T21:00:00",
          "tps_parcours2": ""
         },
         {
          "h_rocade": "2019-01-28T21:15:00",
          "tps_parcours2": ""
         },
         {
          "h_rocade": "2019-01-28T21:30:00",
          "tps_parcours2": ""
         },
         {
          "h_rocade": "2019-01-28T21:45:00",
          "tps_parcours2": ""
         },
         {
          "h_rocade": "2019-01-28T22:00:00",
          "tps_parcours2": ""
         },
         {
          "h_rocade": "2019-01-28T22:15:00",
          "tps_parcours2": ""
         },
         {
          "h_rocade": "2019-01-28T22:30:00",
          "tps_parcours2": ""
         },
         {
          "h_rocade": "2019-01-28T22:45:00",
          "tps_parcours2": ""
         },
         {
          "h_rocade": "2019-01-28T23:00:00",
          "tps_parcours2": ""
         },
         {
          "h_rocade": "2019-01-28T23:15:00",
          "tps_parcours2": ""
         },
         {
          "h_rocade": "2019-01-28T23:30:00",
          "tps_parcours2": "2019-01-31T02:39:26"
         },
         {
          "h_rocade": "2019-01-28T23:45:00",
          "tps_parcours2": ""
         },
         {
          "h_rocade": "2019-01-29T00:00:00",
          "tps_parcours2": ""
         },
         {
          "h_rocade": "2019-01-29T00:15:00",
          "tps_parcours2": ""
         },
         {
          "h_rocade": "2019-01-29T00:30:00",
          "tps_parcours2": ""
         },
         {
          "h_rocade": "2019-01-29T00:45:00",
          "tps_parcours2": ""
         },
         {
          "h_rocade": "2019-01-29T01:00:00",
          "tps_parcours2": "2019-01-31T02:01:25"
         },
         {
          "h_rocade": "2019-01-29T01:15:00",
          "tps_parcours2": ""
         },
         {
          "h_rocade": "2019-01-29T01:30:00",
          "tps_parcours2": ""
         },
         {
          "h_rocade": "2019-01-29T01:45:00",
          "tps_parcours2": ""
         },
         {
          "h_rocade": "2019-01-29T02:00:00",
          "tps_parcours2": ""
         },
         {
          "h_rocade": "2019-01-29T02:15:00",
          "tps_parcours2": ""
         },
         {
          "h_rocade": "2019-01-29T02:30:00",
          "tps_parcours2": ""
         },
         {
          "h_rocade": "2019-01-29T02:45:00",
          "tps_parcours2": ""
         },
         {
          "h_rocade": "2019-01-29T03:00:00",
          "tps_parcours2": "2019-01-31T01:31:05"
         },
         {
          "h_rocade": "2019-01-29T03:15:00",
          "tps_parcours2": "2019-01-31T01:30:05"
         },
         {
          "h_rocade": "2019-01-29T03:30:00",
          "tps_parcours2": ""
         },
         {
          "h_rocade": "2019-01-29T03:45:00",
          "tps_parcours2": ""
         },
         {
          "h_rocade": "2019-01-29T04:00:00",
          "tps_parcours2": "2019-01-31T01:13:01"
         },
         {
          "h_rocade": "2019-01-29T04:15:00",
          "tps_parcours2": ""
         },
         {
          "h_rocade": "2019-01-29T04:30:00",
          "tps_parcours2": ""
         },
         {
          "h_rocade": "2019-01-29T04:45:00",
          "tps_parcours2": ""
         },
         {
          "h_rocade": "2019-01-29T05:00:00",
          "tps_parcours2": ""
         },
         {
          "h_rocade": "2019-01-29T05:15:00",
          "tps_parcours2": ""
         },
         {
          "h_rocade": "2019-01-29T05:30:00",
          "tps_parcours2": ""
         },
         {
          "h_rocade": "2019-01-29T05:45:00",
          "tps_parcours2": ""
         },
         {
          "h_rocade": "2019-01-29T06:00:00",
          "tps_parcours2": ""
         },
         {
          "h_rocade": "2019-01-29T06:15:00",
          "tps_parcours2": "2019-01-31T02:42:48"
         },
         {
          "h_rocade": "2019-01-29T06:30:00",
          "tps_parcours2": ""
         },
         {
          "h_rocade": "2019-01-29T06:45:00",
          "tps_parcours2": "2019-01-31T02:14:36"
         },
         {
          "h_rocade": "2019-01-29T07:00:00",
          "tps_parcours2": ""
         },
         {
          "h_rocade": "2019-01-29T07:15:00",
          "tps_parcours2": ""
         },
         {
          "h_rocade": "2019-01-29T07:30:00",
          "tps_parcours2": ""
         },
         {
          "h_rocade": "2019-01-29T07:45:00",
          "tps_parcours2": "2019-01-31T02:26:33"
         },
         {
          "h_rocade": "2019-01-29T08:00:00",
          "tps_parcours2": ""
         },
         {
          "h_rocade": "2019-01-29T08:15:00",
          "tps_parcours2": "2019-01-31T01:48:09.500000"
         },
         {
          "h_rocade": "2019-01-29T08:30:00",
          "tps_parcours2": "2019-01-31T01:45:59.857142857"
         },
         {
          "h_rocade": "2019-01-29T08:45:00",
          "tps_parcours2": "2019-01-31T01:27:50.800000"
         },
         {
          "h_rocade": "2019-01-29T09:00:00",
          "tps_parcours2": "2019-01-31T01:42:20.333333333"
         },
         {
          "h_rocade": "2019-01-29T09:15:00",
          "tps_parcours2": "2019-01-31T01:28:27.500000"
         },
         {
          "h_rocade": "2019-01-29T09:30:00",
          "tps_parcours2": "2019-01-31T01:34:33.500000"
         },
         {
          "h_rocade": "2019-01-29T09:45:00",
          "tps_parcours2": "2019-01-31T01:33:40.833333333"
         },
         {
          "h_rocade": "2019-01-29T10:00:00",
          "tps_parcours2": "2019-01-31T01:24:25"
         },
         {
          "h_rocade": "2019-01-29T10:15:00",
          "tps_parcours2": "2019-01-31T01:35:43.250000"
         },
         {
          "h_rocade": "2019-01-29T10:30:00",
          "tps_parcours2": "2019-01-31T01:21:29.333333333"
         },
         {
          "h_rocade": "2019-01-29T10:45:00",
          "tps_parcours2": ""
         },
         {
          "h_rocade": "2019-01-29T11:00:00",
          "tps_parcours2": ""
         },
         {
          "h_rocade": "2019-01-29T11:15:00",
          "tps_parcours2": "2019-01-31T01:32:46.666666666"
         },
         {
          "h_rocade": "2019-01-29T11:30:00",
          "tps_parcours2": "2019-01-31T01:32:55"
         },
         {
          "h_rocade": "2019-01-29T11:45:00",
          "tps_parcours2": "2019-01-31T01:25:51"
         },
         {
          "h_rocade": "2019-01-29T12:00:00",
          "tps_parcours2": "2019-01-31T01:27:31.333333333"
         },
         {
          "h_rocade": "2019-01-29T12:15:00",
          "tps_parcours2": "2019-01-31T01:30:07.428571428"
         },
         {
          "h_rocade": "2019-01-29T12:30:00",
          "tps_parcours2": "2019-01-31T01:38:20"
         },
         {
          "h_rocade": "2019-01-29T12:45:00",
          "tps_parcours2": "2019-01-31T01:55:02.500000"
         },
         {
          "h_rocade": "2019-01-29T13:00:00",
          "tps_parcours2": "2019-01-31T01:36:42.545454545"
         },
         {
          "h_rocade": "2019-01-29T13:15:00",
          "tps_parcours2": "2019-01-31T01:51:48.600000"
         },
         {
          "h_rocade": "2019-01-29T13:30:00",
          "tps_parcours2": "2019-01-31T01:30:11.666666666"
         },
         {
          "h_rocade": "2019-01-29T13:45:00",
          "tps_parcours2": "2019-01-31T01:42:49"
         },
         {
          "h_rocade": "2019-01-29T14:00:00",
          "tps_parcours2": "2019-01-31T01:38:38.222222222"
         },
         {
          "h_rocade": "2019-01-29T14:15:00",
          "tps_parcours2": "2019-01-31T01:34:51.571428571"
         },
         {
          "h_rocade": "2019-01-29T14:30:00",
          "tps_parcours2": "2019-01-31T01:33:44.714285714"
         },
         {
          "h_rocade": "2019-01-29T14:45:00",
          "tps_parcours2": "2019-01-31T01:28:33.500000"
         },
         {
          "h_rocade": "2019-01-29T15:00:00",
          "tps_parcours2": "2019-01-31T01:28:39.800000"
         },
         {
          "h_rocade": "2019-01-29T15:15:00",
          "tps_parcours2": "2019-01-31T01:33:58.142857142"
         },
         {
          "h_rocade": "2019-01-29T15:30:00",
          "tps_parcours2": "2019-01-31T01:37:11.666666666"
         },
         {
          "h_rocade": "2019-01-29T15:45:00",
          "tps_parcours2": "2019-01-31T01:40:15.125000"
         },
         {
          "h_rocade": "2019-01-29T16:00:00",
          "tps_parcours2": "2019-01-31T01:40:52.166666666"
         },
         {
          "h_rocade": "2019-01-29T16:15:00",
          "tps_parcours2": "2019-01-31T01:35:11.833333333"
         },
         {
          "h_rocade": "2019-01-29T16:30:00",
          "tps_parcours2": "2019-01-31T01:40:46.400000"
         },
         {
          "h_rocade": "2019-01-29T16:45:00",
          "tps_parcours2": "2019-01-31T01:44:18.818181818"
         },
         {
          "h_rocade": "2019-01-29T17:00:00",
          "tps_parcours2": "2019-01-31T01:38:59.333333333"
         },
         {
          "h_rocade": "2019-01-29T17:15:00",
          "tps_parcours2": "2019-01-31T01:39:22.250000"
         },
         {
          "h_rocade": "2019-01-29T17:30:00",
          "tps_parcours2": "2019-01-31T01:16:59"
         },
         {
          "h_rocade": "2019-01-29T17:45:00",
          "tps_parcours2": ""
         },
         {
          "h_rocade": "2019-01-29T18:00:00",
          "tps_parcours2": ""
         },
         {
          "h_rocade": "2019-01-29T18:15:00",
          "tps_parcours2": ""
         },
         {
          "h_rocade": "2019-01-29T18:30:00",
          "tps_parcours2": "2019-01-31T01:14:56"
         },
         {
          "h_rocade": "2019-01-29T18:45:00",
          "tps_parcours2": "2019-01-31T01:18:05"
         },
         {
          "h_rocade": "2019-01-29T19:00:00",
          "tps_parcours2": ""
         },
         {
          "h_rocade": "2019-01-29T19:15:00",
          "tps_parcours2": ""
         },
         {
          "h_rocade": "2019-01-29T19:30:00",
          "tps_parcours2": ""
         },
         {
          "h_rocade": "2019-01-29T19:45:00",
          "tps_parcours2": ""
         },
         {
          "h_rocade": "2019-01-29T20:00:00",
          "tps_parcours2": "2019-01-31T02:01:58"
         },
         {
          "h_rocade": "2019-01-29T20:15:00",
          "tps_parcours2": "2019-01-31T01:33:06"
         },
         {
          "h_rocade": "2019-01-29T20:30:00",
          "tps_parcours2": ""
         },
         {
          "h_rocade": "2019-01-29T20:45:00",
          "tps_parcours2": ""
         },
         {
          "h_rocade": "2019-01-29T21:00:00",
          "tps_parcours2": "2019-01-31T01:16:31"
         },
         {
          "h_rocade": "2019-01-29T21:15:00",
          "tps_parcours2": ""
         },
         {
          "h_rocade": "2019-01-29T21:30:00",
          "tps_parcours2": ""
         },
         {
          "h_rocade": "2019-01-29T21:45:00",
          "tps_parcours2": ""
         },
         {
          "h_rocade": "2019-01-29T22:00:00",
          "tps_parcours2": "2019-01-31T01:33:48"
         },
         {
          "h_rocade": "2019-01-29T22:15:00",
          "tps_parcours2": ""
         },
         {
          "h_rocade": "2019-01-29T22:30:00",
          "tps_parcours2": ""
         },
         {
          "h_rocade": "2019-01-29T22:45:00",
          "tps_parcours2": ""
         },
         {
          "h_rocade": "2019-01-29T23:00:00",
          "tps_parcours2": ""
         },
         {
          "h_rocade": "2019-01-29T23:15:00",
          "tps_parcours2": ""
         },
         {
          "h_rocade": "2019-01-29T23:30:00",
          "tps_parcours2": "2019-01-31T01:31:51"
         },
         {
          "h_rocade": "2019-01-29T23:45:00",
          "tps_parcours2": "2019-01-31T01:42:27"
         },
         {
          "h_rocade": "2019-01-30T00:00:00",
          "tps_parcours2": ""
         },
         {
          "h_rocade": "2019-01-30T00:15:00",
          "tps_parcours2": "2019-01-31T01:20:07"
         },
         {
          "h_rocade": "2019-01-30T00:30:00",
          "tps_parcours2": "2019-01-31T01:37:26"
         },
         {
          "h_rocade": "2019-01-30T00:45:00",
          "tps_parcours2": ""
         },
         {
          "h_rocade": "2019-01-30T01:00:00",
          "tps_parcours2": ""
         },
         {
          "h_rocade": "2019-01-30T01:15:00",
          "tps_parcours2": ""
         },
         {
          "h_rocade": "2019-01-30T01:30:00",
          "tps_parcours2": "2019-01-31T01:21:34"
         },
         {
          "h_rocade": "2019-01-30T01:45:00",
          "tps_parcours2": ""
         },
         {
          "h_rocade": "2019-01-30T02:00:00",
          "tps_parcours2": ""
         },
         {
          "h_rocade": "2019-01-30T02:15:00",
          "tps_parcours2": "2019-01-31T03:24:31"
         },
         {
          "h_rocade": "2019-01-30T02:30:00",
          "tps_parcours2": ""
         },
         {
          "h_rocade": "2019-01-30T02:45:00",
          "tps_parcours2": ""
         },
         {
          "h_rocade": "2019-01-30T03:00:00",
          "tps_parcours2": "2019-01-31T01:58:07"
         },
         {
          "h_rocade": "2019-01-30T03:15:00",
          "tps_parcours2": "2019-01-31T01:43:32"
         },
         {
          "h_rocade": "2019-01-30T03:30:00",
          "tps_parcours2": ""
         },
         {
          "h_rocade": "2019-01-30T03:45:00",
          "tps_parcours2": ""
         },
         {
          "h_rocade": "2019-01-30T04:00:00",
          "tps_parcours2": ""
         },
         {
          "h_rocade": "2019-01-30T04:15:00",
          "tps_parcours2": ""
         },
         {
          "h_rocade": "2019-01-30T04:30:00",
          "tps_parcours2": "2019-01-31T01:36:52"
         },
         {
          "h_rocade": "2019-01-30T04:45:00",
          "tps_parcours2": ""
         },
         {
          "h_rocade": "2019-01-30T05:00:00",
          "tps_parcours2": ""
         },
         {
          "h_rocade": "2019-01-30T05:15:00",
          "tps_parcours2": ""
         },
         {
          "h_rocade": "2019-01-30T05:30:00",
          "tps_parcours2": "2019-01-31T01:57:15"
         },
         {
          "h_rocade": "2019-01-30T05:45:00",
          "tps_parcours2": "2019-01-31T01:23:21"
         },
         {
          "h_rocade": "2019-01-30T06:00:00",
          "tps_parcours2": "2019-01-31T02:25:05"
         },
         {
          "h_rocade": "2019-01-30T06:15:00",
          "tps_parcours2": ""
         },
         {
          "h_rocade": "2019-01-30T06:30:00",
          "tps_parcours2": ""
         },
         {
          "h_rocade": "2019-01-30T06:45:00",
          "tps_parcours2": ""
         },
         {
          "h_rocade": "2019-01-30T07:00:00",
          "tps_parcours2": ""
         },
         {
          "h_rocade": "2019-01-30T07:15:00",
          "tps_parcours2": ""
         },
         {
          "h_rocade": "2019-01-30T07:30:00",
          "tps_parcours2": ""
         },
         {
          "h_rocade": "2019-01-30T07:45:00",
          "tps_parcours2": ""
         },
         {
          "h_rocade": "2019-01-30T08:00:00",
          "tps_parcours2": "2019-01-31T02:07:25.333333333"
         },
         {
          "h_rocade": "2019-01-30T08:15:00",
          "tps_parcours2": "2019-01-31T02:00:02.125000"
         },
         {
          "h_rocade": "2019-01-30T08:30:00",
          "tps_parcours2": "2019-01-31T02:00:31.333333333"
         },
         {
          "h_rocade": "2019-01-30T08:45:00",
          "tps_parcours2": "2019-01-31T01:54:34"
         },
         {
          "h_rocade": "2019-01-30T09:00:00",
          "tps_parcours2": ""
         },
         {
          "h_rocade": "2019-01-30T09:15:00",
          "tps_parcours2": "2019-01-31T01:20:42.333333333"
         },
         {
          "h_rocade": "2019-01-30T09:30:00",
          "tps_parcours2": "2019-01-31T01:25:42"
         },
         {
          "h_rocade": "2019-01-30T09:45:00",
          "tps_parcours2": "2019-01-31T01:32:31.857142857"
         },
         {
          "h_rocade": "2019-01-30T10:00:00",
          "tps_parcours2": "2019-01-31T01:26:15"
         },
         {
          "h_rocade": "2019-01-30T10:15:00",
          "tps_parcours2": "2019-01-31T01:19:48.571428571"
         },
         {
          "h_rocade": "2019-01-30T10:30:00",
          "tps_parcours2": "2019-01-31T01:30:59.800000"
         },
         {
          "h_rocade": "2019-01-30T10:45:00",
          "tps_parcours2": "2019-01-31T01:15:36"
         },
         {
          "h_rocade": "2019-01-30T11:00:00",
          "tps_parcours2": "2019-01-31T01:33:30.333333333"
         },
         {
          "h_rocade": "2019-01-30T11:15:00",
          "tps_parcours2": "2019-01-31T01:31:43.714285714"
         },
         {
          "h_rocade": "2019-01-30T11:30:00",
          "tps_parcours2": "2019-01-31T01:38:59.750000"
         },
         {
          "h_rocade": "2019-01-30T11:45:00",
          "tps_parcours2": "2019-01-31T01:50:02.333333333"
         },
         {
          "h_rocade": "2019-01-30T12:00:00",
          "tps_parcours2": "2019-01-31T01:35:10.666666666"
         },
         {
          "h_rocade": "2019-01-30T12:15:00",
          "tps_parcours2": "2019-01-31T01:31:34.166666666"
         },
         {
          "h_rocade": "2019-01-30T12:30:00",
          "tps_parcours2": "2019-01-31T01:42:40"
         },
         {
          "h_rocade": "2019-01-30T12:45:00",
          "tps_parcours2": "2019-01-31T01:30:39"
         },
         {
          "h_rocade": "2019-01-30T13:00:00",
          "tps_parcours2": "2019-01-31T01:29:19"
         },
         {
          "h_rocade": "2019-01-30T13:15:00",
          "tps_parcours2": "2019-01-31T01:37:26.333333333"
         },
         {
          "h_rocade": "2019-01-30T13:30:00",
          "tps_parcours2": "2019-01-31T01:36:35.125000"
         },
         {
          "h_rocade": "2019-01-30T13:45:00",
          "tps_parcours2": "2019-01-31T01:36:35.333333333"
         },
         {
          "h_rocade": "2019-01-30T14:00:00",
          "tps_parcours2": "2019-01-31T01:50:02.300000"
         },
         {
          "h_rocade": "2019-01-30T14:15:00",
          "tps_parcours2": "2019-01-31T01:42:54"
         },
         {
          "h_rocade": "2019-01-30T14:30:00",
          "tps_parcours2": "2019-01-31T01:38:07.285714285"
         },
         {
          "h_rocade": "2019-01-30T14:45:00",
          "tps_parcours2": "2019-01-31T01:27:05.571428571"
         },
         {
          "h_rocade": "2019-01-30T15:00:00",
          "tps_parcours2": "2019-01-31T01:37:58.800000"
         },
         {
          "h_rocade": "2019-01-30T15:15:00",
          "tps_parcours2": "2019-01-31T01:17:49"
         },
         {
          "h_rocade": "2019-01-30T15:30:00",
          "tps_parcours2": "2019-01-31T01:33:56"
         },
         {
          "h_rocade": "2019-01-30T15:45:00",
          "tps_parcours2": "2019-01-31T01:30:00.333333333"
         },
         {
          "h_rocade": "2019-01-30T16:00:00",
          "tps_parcours2": "2019-01-31T01:26:42.700000"
         },
         {
          "h_rocade": "2019-01-30T16:15:00",
          "tps_parcours2": "2019-01-31T01:26:49.200000"
         },
         {
          "h_rocade": "2019-01-30T16:30:00",
          "tps_parcours2": "2019-01-31T01:37:50.200000"
         },
         {
          "h_rocade": "2019-01-30T16:45:00",
          "tps_parcours2": "2019-01-31T01:36:34.600000"
         },
         {
          "h_rocade": "2019-01-30T17:00:00",
          "tps_parcours2": "2019-01-31T01:36:10.375000"
         },
         {
          "h_rocade": "2019-01-30T17:15:00",
          "tps_parcours2": "2019-01-31T01:36:08.600000"
         },
         {
          "h_rocade": "2019-01-30T17:30:00",
          "tps_parcours2": "2019-01-31T01:25:31.888888888"
         },
         {
          "h_rocade": "2019-01-30T17:45:00",
          "tps_parcours2": "2019-01-31T01:35:47.750000"
         },
         {
          "h_rocade": "2019-01-30T18:00:00",
          "tps_parcours2": "2019-01-31T01:52:49"
         },
         {
          "h_rocade": "2019-01-30T18:15:00",
          "tps_parcours2": "2019-01-31T01:29:46.500000"
         },
         {
          "h_rocade": "2019-01-30T18:30:00",
          "tps_parcours2": "2019-01-31T01:33:04.666666666"
         },
         {
          "h_rocade": "2019-01-30T18:45:00",
          "tps_parcours2": "2019-01-31T01:20:43.875000"
         },
         {
          "h_rocade": "2019-01-30T19:00:00",
          "tps_parcours2": "2019-01-31T01:15:29.666666666"
         },
         {
          "h_rocade": "2019-01-30T19:15:00",
          "tps_parcours2": "2019-01-31T01:31:26.833333333"
         },
         {
          "h_rocade": "2019-01-30T19:30:00",
          "tps_parcours2": "2019-01-31T01:41:39.750000"
         },
         {
          "h_rocade": "2019-01-30T19:45:00",
          "tps_parcours2": "2019-01-31T01:43:46.250000"
         },
         {
          "h_rocade": "2019-01-30T20:00:00",
          "tps_parcours2": "2019-01-31T01:31:48.666666666"
         },
         {
          "h_rocade": "2019-01-30T20:15:00",
          "tps_parcours2": "2019-01-31T01:22:16.333333333"
         },
         {
          "h_rocade": "2019-01-30T20:30:00",
          "tps_parcours2": "2019-01-31T01:57:30.600000"
         },
         {
          "h_rocade": "2019-01-30T20:45:00",
          "tps_parcours2": "2019-01-31T01:30:09.500000"
         },
         {
          "h_rocade": "2019-01-30T21:00:00",
          "tps_parcours2": "2019-01-31T02:02:43.600000"
         },
         {
          "h_rocade": "2019-01-30T21:15:00",
          "tps_parcours2": "2019-01-31T01:38:56.666666666"
         },
         {
          "h_rocade": "2019-01-30T21:30:00",
          "tps_parcours2": "2019-01-31T01:32:05.500000"
         },
         {
          "h_rocade": "2019-01-30T21:45:00",
          "tps_parcours2": "2019-01-31T01:33:06.500000"
         },
         {
          "h_rocade": "2019-01-30T22:00:00",
          "tps_parcours2": "2019-01-31T01:26:34"
         },
         {
          "h_rocade": "2019-01-30T22:15:00",
          "tps_parcours2": "2019-01-31T01:43:12.500000"
         },
         {
          "h_rocade": "2019-01-30T22:30:00",
          "tps_parcours2": "2019-01-31T01:50:39"
         },
         {
          "h_rocade": "2019-01-30T22:45:00",
          "tps_parcours2": "2019-01-31T01:44:58.571428571"
         },
         {
          "h_rocade": "2019-01-30T23:00:00",
          "tps_parcours2": "2019-01-31T01:54:13.333333333"
         },
         {
          "h_rocade": "2019-01-30T23:15:00",
          "tps_parcours2": "2019-01-31T02:35:35.666666666"
         },
         {
          "h_rocade": "2019-01-30T23:30:00",
          "tps_parcours2": "2019-01-31T01:49:42.428571428"
         },
         {
          "h_rocade": "2019-01-30T23:45:00",
          "tps_parcours2": "2019-01-31T01:48:49.800000"
         },
         {
          "h_rocade": "2019-01-31T00:00:00",
          "tps_parcours2": "2019-01-31T01:38:04"
         },
         {
          "h_rocade": "2019-01-31T00:15:00",
          "tps_parcours2": "2019-01-31T01:34:54"
         },
         {
          "h_rocade": "2019-01-31T00:30:00",
          "tps_parcours2": "2019-01-31T01:14:10"
         },
         {
          "h_rocade": "2019-01-31T00:45:00",
          "tps_parcours2": "2019-01-31T01:42:29.666666666"
         },
         {
          "h_rocade": "2019-01-31T01:00:00",
          "tps_parcours2": "2019-01-31T01:35:31.333333333"
         },
         {
          "h_rocade": "2019-01-31T01:15:00",
          "tps_parcours2": "2019-01-31T01:22:00"
         },
         {
          "h_rocade": "2019-01-31T01:30:00",
          "tps_parcours2": "2019-01-31T01:18:44"
         },
         {
          "h_rocade": "2019-01-31T01:45:00",
          "tps_parcours2": ""
         },
         {
          "h_rocade": "2019-01-31T02:00:00",
          "tps_parcours2": "2019-01-31T01:25:13.500000"
         },
         {
          "h_rocade": "2019-01-31T02:15:00",
          "tps_parcours2": "2019-01-31T01:28:43"
         },
         {
          "h_rocade": "2019-01-31T02:30:00",
          "tps_parcours2": "2019-01-31T01:48:24.250000"
         },
         {
          "h_rocade": "2019-01-31T02:45:00",
          "tps_parcours2": ""
         },
         {
          "h_rocade": "2019-01-31T03:00:00",
          "tps_parcours2": "2019-01-31T01:32:20.666666666"
         },
         {
          "h_rocade": "2019-01-31T03:15:00",
          "tps_parcours2": "2019-01-31T01:44:29"
         },
         {
          "h_rocade": "2019-01-31T03:30:00",
          "tps_parcours2": "2019-01-31T01:42:44"
         },
         {
          "h_rocade": "2019-01-31T03:45:00",
          "tps_parcours2": "2019-01-31T01:28:32.400000"
         },
         {
          "h_rocade": "2019-01-31T04:00:00",
          "tps_parcours2": "2019-01-31T01:16:14"
         },
         {
          "h_rocade": "2019-01-31T04:15:00",
          "tps_parcours2": "2019-01-31T01:43:42.600000"
         },
         {
          "h_rocade": "2019-01-31T04:30:00",
          "tps_parcours2": "2019-01-31T01:23:32.750000"
         },
         {
          "h_rocade": "2019-01-31T04:45:00",
          "tps_parcours2": "2019-01-31T01:41:40.333333333"
         },
         {
          "h_rocade": "2019-01-31T05:00:00",
          "tps_parcours2": "2019-01-31T01:24:03.666666666"
         },
         {
          "h_rocade": "2019-01-31T05:15:00",
          "tps_parcours2": "2019-01-31T01:43:26.714285714"
         },
         {
          "h_rocade": "2019-01-31T05:30:00",
          "tps_parcours2": "2019-01-31T01:39:28.285714285"
         },
         {
          "h_rocade": "2019-01-31T05:45:00",
          "tps_parcours2": "2019-01-31T01:46:41.600000"
         },
         {
          "h_rocade": "2019-01-31T06:00:00",
          "tps_parcours2": "2019-01-31T02:00:15.666666666"
         },
         {
          "h_rocade": "2019-01-31T06:15:00",
          "tps_parcours2": "2019-01-31T02:07:15"
         },
         {
          "h_rocade": "2019-01-31T06:30:00",
          "tps_parcours2": "2019-01-31T02:32:25"
         },
         {
          "h_rocade": "2019-01-31T06:45:00",
          "tps_parcours2": "2019-01-31T03:05:06.250000"
         },
         {
          "h_rocade": "2019-01-31T07:00:00",
          "tps_parcours2": "2019-01-31T03:00:27.666666666"
         },
         {
          "h_rocade": "2019-01-31T07:15:00",
          "tps_parcours2": "2019-01-31T03:34:09.333333333"
         },
         {
          "h_rocade": "2019-01-31T07:30:00",
          "tps_parcours2": "2019-01-31T03:00:32.200000"
         },
         {
          "h_rocade": "2019-01-31T07:45:00",
          "tps_parcours2": "2019-01-31T03:02:25.400000"
         },
         {
          "h_rocade": "2019-01-31T08:00:00",
          "tps_parcours2": "2019-01-31T02:59:39"
         },
         {
          "h_rocade": "2019-01-31T08:15:00",
          "tps_parcours2": "2019-01-31T02:55:25.750000"
         },
         {
          "h_rocade": "2019-01-31T08:30:00",
          "tps_parcours2": "2019-01-31T02:41:14.363636363"
         },
         {
          "h_rocade": "2019-01-31T08:45:00",
          "tps_parcours2": "2019-01-31T02:18:06.600000"
         },
         {
          "h_rocade": "2019-01-31T09:00:00",
          "tps_parcours2": "2019-01-31T02:24:13.250000"
         },
         {
          "h_rocade": "2019-01-31T09:15:00",
          "tps_parcours2": "2019-01-31T02:26:48.777777777"
         },
         {
          "h_rocade": "2019-01-31T09:30:00",
          "tps_parcours2": "2019-01-31T01:55:18.909090909"
         },
         {
          "h_rocade": "2019-01-31T09:45:00",
          "tps_parcours2": "2019-01-31T02:03:02"
         },
         {
          "h_rocade": "2019-01-31T10:00:00",
          "tps_parcours2": "2019-01-31T01:43:32.444444444"
         },
         {
          "h_rocade": "2019-01-31T10:15:00",
          "tps_parcours2": "2019-01-31T01:47:23.923076923"
         },
         {
          "h_rocade": "2019-01-31T10:30:00",
          "tps_parcours2": "2019-01-31T01:43:31.800000"
         },
         {
          "h_rocade": "2019-01-31T10:45:00",
          "tps_parcours2": "2019-01-31T01:39:17.866666666"
         },
         {
          "h_rocade": "2019-01-31T11:00:00",
          "tps_parcours2": "2019-01-31T01:49:36.769230769"
         },
         {
          "h_rocade": "2019-01-31T11:15:00",
          "tps_parcours2": "2019-01-31T01:34:21.500000"
         },
         {
          "h_rocade": "2019-01-31T11:30:00",
          "tps_parcours2": "2019-01-31T01:47:03.571428571"
         },
         {
          "h_rocade": "2019-01-31T11:45:00",
          "tps_parcours2": "2019-01-31T01:40:14"
         },
         {
          "h_rocade": "2019-01-31T12:00:00",
          "tps_parcours2": "2019-01-31T01:46:01.333333333"
         },
         {
          "h_rocade": "2019-01-31T12:15:00",
          "tps_parcours2": "2019-01-31T01:41:59.285714285"
         },
         {
          "h_rocade": "2019-01-31T12:30:00",
          "tps_parcours2": "2019-01-31T01:36:53.200000"
         },
         {
          "h_rocade": "2019-01-31T12:45:00",
          "tps_parcours2": "2019-01-31T01:32:15.300000"
         },
         {
          "h_rocade": "2019-01-31T13:00:00",
          "tps_parcours2": "2019-01-31T01:31:28.400000"
         },
         {
          "h_rocade": "2019-01-31T13:15:00",
          "tps_parcours2": "2019-01-31T01:29:19.333333333"
         },
         {
          "h_rocade": "2019-01-31T13:30:00",
          "tps_parcours2": "2019-01-31T01:29:13.666666666"
         },
         {
          "h_rocade": "2019-01-31T13:45:00",
          "tps_parcours2": "2019-01-31T01:34:24.285714285"
         },
         {
          "h_rocade": "2019-01-31T14:00:00",
          "tps_parcours2": "2019-01-31T01:42:53.285714285"
         },
         {
          "h_rocade": "2019-01-31T14:15:00",
          "tps_parcours2": "2019-01-31T01:34:03.500000"
         },
         {
          "h_rocade": "2019-01-31T14:30:00",
          "tps_parcours2": "2019-01-31T01:43:24.500000"
         },
         {
          "h_rocade": "2019-01-31T14:45:00",
          "tps_parcours2": "2019-01-31T01:36:03.785714285"
         },
         {
          "h_rocade": "2019-01-31T15:00:00",
          "tps_parcours2": "2019-01-31T01:38:38.266666666"
         },
         {
          "h_rocade": "2019-01-31T15:15:00",
          "tps_parcours2": "2019-01-31T01:35:05.900000"
         },
         {
          "h_rocade": "2019-01-31T15:30:00",
          "tps_parcours2": "2019-01-31T01:31:23.500000"
         },
         {
          "h_rocade": "2019-01-31T15:45:00",
          "tps_parcours2": "2019-01-31T01:27:03.600000"
         },
         {
          "h_rocade": "2019-01-31T16:00:00",
          "tps_parcours2": "2019-01-31T01:28:38.714285714"
         },
         {
          "h_rocade": "2019-01-31T16:15:00",
          "tps_parcours2": "2019-01-31T01:29:30.400000"
         },
         {
          "h_rocade": "2019-01-31T16:30:00",
          "tps_parcours2": "2019-01-31T01:29:24.125000"
         },
         {
          "h_rocade": "2019-01-31T16:45:00",
          "tps_parcours2": "2019-01-31T01:33:05.750000"
         },
         {
          "h_rocade": "2019-01-31T17:00:00",
          "tps_parcours2": "2019-01-31T01:30:51.090909090"
         },
         {
          "h_rocade": "2019-01-31T17:15:00",
          "tps_parcours2": "2019-01-31T01:34:55"
         },
         {
          "h_rocade": "2019-01-31T17:30:00",
          "tps_parcours2": "2019-01-31T01:34:23.333333333"
         },
         {
          "h_rocade": "2019-01-31T17:45:00",
          "tps_parcours2": "2019-01-31T01:35:41.500000"
         },
         {
          "h_rocade": "2019-01-31T18:00:00",
          "tps_parcours2": "2019-01-31T01:29:22.166666666"
         },
         {
          "h_rocade": "2019-01-31T18:15:00",
          "tps_parcours2": "2019-01-31T01:31:10.500000"
         },
         {
          "h_rocade": "2019-01-31T18:30:00",
          "tps_parcours2": "2019-01-31T01:29:29.714285714"
         },
         {
          "h_rocade": "2019-01-31T18:45:00",
          "tps_parcours2": "2019-01-31T01:38:39.666666666"
         },
         {
          "h_rocade": "2019-01-31T19:00:00",
          "tps_parcours2": "2019-01-31T01:32:34"
         },
         {
          "h_rocade": "2019-01-31T19:15:00",
          "tps_parcours2": "2019-01-31T01:25:24.500000"
         },
         {
          "h_rocade": "2019-01-31T19:30:00",
          "tps_parcours2": "2019-01-31T01:33:10.250000"
         },
         {
          "h_rocade": "2019-01-31T19:45:00",
          "tps_parcours2": "2019-01-31T01:32:13"
         },
         {
          "h_rocade": "2019-01-31T20:00:00",
          "tps_parcours2": "2019-01-31T01:52:06"
         },
         {
          "h_rocade": "2019-01-31T20:15:00",
          "tps_parcours2": "2019-01-31T01:23:44.500000"
         },
         {
          "h_rocade": "2019-01-31T20:30:00",
          "tps_parcours2": "2019-01-31T01:51:16"
         },
         {
          "h_rocade": "2019-01-31T20:45:00",
          "tps_parcours2": "2019-01-31T01:43:50"
         },
         {
          "h_rocade": "2019-01-31T21:00:00",
          "tps_parcours2": "2019-01-31T01:46:46.333333333"
         },
         {
          "h_rocade": "2019-01-31T21:15:00",
          "tps_parcours2": "2019-01-31T01:43:02.600000"
         },
         {
          "h_rocade": "2019-01-31T21:30:00",
          "tps_parcours2": "2019-01-31T01:14:37"
         },
         {
          "h_rocade": "2019-01-31T21:45:00",
          "tps_parcours2": "2019-01-31T01:36:50.666666666"
         },
         {
          "h_rocade": "2019-01-31T22:00:00",
          "tps_parcours2": "2019-01-31T01:34:45.333333333"
         },
         {
          "h_rocade": "2019-01-31T22:15:00",
          "tps_parcours2": "2019-01-31T01:30:02"
         },
         {
          "h_rocade": "2019-01-31T22:30:00",
          "tps_parcours2": ""
         },
         {
          "h_rocade": "2019-01-31T22:45:00",
          "tps_parcours2": "2019-01-31T02:02:52.500000"
         },
         {
          "h_rocade": "2019-01-31T23:00:00",
          "tps_parcours2": ""
         },
         {
          "h_rocade": "2019-01-31T23:15:00",
          "tps_parcours2": ""
         },
         {
          "h_rocade": "2019-01-31T23:30:00",
          "tps_parcours2": "2019-01-31T02:01:59.750000"
         },
         {
          "h_rocade": "2019-01-31T23:45:00",
          "tps_parcours2": ""
         },
         {
          "h_rocade": "2019-02-01T00:00:00",
          "tps_parcours2": "2019-01-31T01:32:06"
         },
         {
          "h_rocade": "2019-02-01T00:15:00",
          "tps_parcours2": "2019-01-31T01:45:37"
         },
         {
          "h_rocade": "2019-02-01T00:30:00",
          "tps_parcours2": "2019-01-31T01:32:44"
         },
         {
          "h_rocade": "2019-02-01T00:45:00",
          "tps_parcours2": "2019-01-31T02:05:09.333333333"
         },
         {
          "h_rocade": "2019-02-01T01:00:00",
          "tps_parcours2": "2019-01-31T01:30:30"
         },
         {
          "h_rocade": "2019-02-01T01:15:00",
          "tps_parcours2": ""
         },
         {
          "h_rocade": "2019-02-01T01:30:00",
          "tps_parcours2": "2019-01-31T01:50:08.500000"
         },
         {
          "h_rocade": "2019-02-01T01:45:00",
          "tps_parcours2": ""
         },
         {
          "h_rocade": "2019-02-01T02:00:00",
          "tps_parcours2": "2019-01-31T01:35:07"
         },
         {
          "h_rocade": "2019-02-01T02:15:00",
          "tps_parcours2": "2019-01-31T01:36:28.500000"
         },
         {
          "h_rocade": "2019-02-01T02:30:00",
          "tps_parcours2": ""
         },
         {
          "h_rocade": "2019-02-01T02:45:00",
          "tps_parcours2": "2019-01-31T01:29:19"
         },
         {
          "h_rocade": "2019-02-01T03:00:00",
          "tps_parcours2": "2019-01-31T02:08:20.666666666"
         },
         {
          "h_rocade": "2019-02-01T03:15:00",
          "tps_parcours2": "2019-01-31T01:57:06"
         },
         {
          "h_rocade": "2019-02-01T03:30:00",
          "tps_parcours2": "2019-01-31T01:44:48.500000"
         },
         {
          "h_rocade": "2019-02-01T03:45:00",
          "tps_parcours2": "2019-01-31T01:31:15"
         },
         {
          "h_rocade": "2019-02-01T04:00:00",
          "tps_parcours2": ""
         },
         {
          "h_rocade": "2019-02-01T04:15:00",
          "tps_parcours2": "2019-01-31T01:32:19.166666666"
         },
         {
          "h_rocade": "2019-02-01T04:30:00",
          "tps_parcours2": "2019-01-31T01:33:03.333333333"
         },
         {
          "h_rocade": "2019-02-01T04:45:00",
          "tps_parcours2": "2019-01-31T01:51:07"
         },
         {
          "h_rocade": "2019-02-01T05:00:00",
          "tps_parcours2": "2019-01-31T01:35:57.400000"
         },
         {
          "h_rocade": "2019-02-01T05:15:00",
          "tps_parcours2": "2019-01-31T01:30:29"
         },
         {
          "h_rocade": "2019-02-01T05:30:00",
          "tps_parcours2": "2019-01-31T01:57:46.750000"
         },
         {
          "h_rocade": "2019-02-01T05:45:00",
          "tps_parcours2": "2019-01-31T01:42:08.200000"
         },
         {
          "h_rocade": "2019-02-01T06:00:00",
          "tps_parcours2": "2019-01-31T02:18:37.666666666"
         },
         {
          "h_rocade": "2019-02-01T06:15:00",
          "tps_parcours2": "2019-01-31T02:02:02.500000"
         },
         {
          "h_rocade": "2019-02-01T06:30:00",
          "tps_parcours2": "2019-01-31T02:13:11"
         },
         {
          "h_rocade": "2019-02-01T06:45:00",
          "tps_parcours2": "2019-01-31T02:33:16.500000"
         },
         {
          "h_rocade": "2019-02-01T07:00:00",
          "tps_parcours2": "2019-01-31T02:36:56.250000"
         },
         {
          "h_rocade": "2019-02-01T07:15:00",
          "tps_parcours2": "2019-01-31T02:08:47.333333333"
         },
         {
          "h_rocade": "2019-02-01T07:30:00",
          "tps_parcours2": "2019-01-31T02:51:25.500000"
         },
         {
          "h_rocade": "2019-02-01T07:45:00",
          "tps_parcours2": "2019-01-31T03:17:30.500000"
         },
         {
          "h_rocade": "2019-02-01T08:00:00",
          "tps_parcours2": "2019-01-31T03:01:30"
         },
         {
          "h_rocade": "2019-02-01T08:15:00",
          "tps_parcours2": "2019-01-31T01:54:37.666666666"
         },
         {
          "h_rocade": "2019-02-01T08:30:00",
          "tps_parcours2": "2019-01-31T01:57:21.666666666"
         },
         {
          "h_rocade": "2019-02-01T08:45:00",
          "tps_parcours2": ""
         },
         {
          "h_rocade": "2019-02-01T09:00:00",
          "tps_parcours2": ""
         },
         {
          "h_rocade": "2019-02-01T09:15:00",
          "tps_parcours2": ""
         },
         {
          "h_rocade": "2019-02-01T09:30:00",
          "tps_parcours2": ""
         },
         {
          "h_rocade": "2019-02-01T09:45:00",
          "tps_parcours2": ""
         },
         {
          "h_rocade": "2019-02-01T10:00:00",
          "tps_parcours2": "2019-01-31T01:53:13"
         },
         {
          "h_rocade": "2019-02-01T10:15:00",
          "tps_parcours2": "2019-01-31T01:50:31.250000"
         },
         {
          "h_rocade": "2019-02-01T10:30:00",
          "tps_parcours2": "2019-01-31T01:46:31.714285714"
         },
         {
          "h_rocade": "2019-02-01T10:45:00",
          "tps_parcours2": "2019-01-31T01:45:42.800000"
         },
         {
          "h_rocade": "2019-02-01T11:00:00",
          "tps_parcours2": "2019-01-31T01:36:28.666666666"
         },
         {
          "h_rocade": "2019-02-01T11:15:00",
          "tps_parcours2": ""
         },
         {
          "h_rocade": "2019-02-01T11:30:00",
          "tps_parcours2": ""
         },
         {
          "h_rocade": "2019-02-01T11:45:00",
          "tps_parcours2": "2019-01-31T02:06:10.500000"
         },
         {
          "h_rocade": "2019-02-01T12:00:00",
          "tps_parcours2": "2019-01-31T01:41:41.500000"
         },
         {
          "h_rocade": "2019-02-01T12:15:00",
          "tps_parcours2": ""
         },
         {
          "h_rocade": "2019-02-01T12:30:00",
          "tps_parcours2": ""
         },
         {
          "h_rocade": "2019-02-01T12:45:00",
          "tps_parcours2": "2019-01-31T02:46:56.500000"
         },
         {
          "h_rocade": "2019-02-01T13:00:00",
          "tps_parcours2": "2019-01-31T02:02:42"
         },
         {
          "h_rocade": "2019-02-01T13:15:00",
          "tps_parcours2": "2019-01-31T02:28:18.333333333"
         },
         {
          "h_rocade": "2019-02-01T13:30:00",
          "tps_parcours2": "2019-01-31T01:54:09.833333333"
         },
         {
          "h_rocade": "2019-02-01T13:45:00",
          "tps_parcours2": "2019-01-31T01:49:34.800000"
         },
         {
          "h_rocade": "2019-02-01T14:00:00",
          "tps_parcours2": "2019-01-31T01:48:04"
         },
         {
          "h_rocade": "2019-02-01T14:15:00",
          "tps_parcours2": "2019-01-31T02:06:12"
         },
         {
          "h_rocade": "2019-02-01T14:30:00",
          "tps_parcours2": "2019-01-31T02:06:47.200000"
         },
         {
          "h_rocade": "2019-02-01T14:45:00",
          "tps_parcours2": ""
         },
         {
          "h_rocade": "2019-02-01T15:00:00",
          "tps_parcours2": ""
         },
         {
          "h_rocade": "2019-02-01T15:15:00",
          "tps_parcours2": ""
         },
         {
          "h_rocade": "2019-02-01T15:30:00",
          "tps_parcours2": ""
         },
         {
          "h_rocade": "2019-02-01T15:45:00",
          "tps_parcours2": ""
         },
         {
          "h_rocade": "2019-02-01T16:00:00",
          "tps_parcours2": ""
         },
         {
          "h_rocade": "2019-02-01T16:15:00",
          "tps_parcours2": "2019-01-31T02:48:51.500000"
         },
         {
          "h_rocade": "2019-02-01T16:30:00",
          "tps_parcours2": "2019-01-31T03:05:07.833333333"
         },
         {
          "h_rocade": "2019-02-01T16:45:00",
          "tps_parcours2": "2019-01-31T02:09:58.500000"
         },
         {
          "h_rocade": "2019-02-01T17:00:00",
          "tps_parcours2": "2019-01-31T02:21:38"
         },
         {
          "h_rocade": "2019-02-01T17:15:00",
          "tps_parcours2": "2019-01-31T02:22:11"
         },
         {
          "h_rocade": "2019-02-01T17:30:00",
          "tps_parcours2": ""
         },
         {
          "h_rocade": "2019-02-01T17:45:00",
          "tps_parcours2": ""
         },
         {
          "h_rocade": "2019-02-01T18:00:00",
          "tps_parcours2": "2019-01-31T02:06:55"
         },
         {
          "h_rocade": "2019-02-01T18:15:00",
          "tps_parcours2": ""
         },
         {
          "h_rocade": "2019-02-01T18:30:00",
          "tps_parcours2": ""
         },
         {
          "h_rocade": "2019-02-01T18:45:00",
          "tps_parcours2": "2019-01-31T01:32:34.500000"
         },
         {
          "h_rocade": "2019-02-01T19:00:00",
          "tps_parcours2": "2019-01-31T01:33:29"
         },
         {
          "h_rocade": "2019-02-01T19:15:00",
          "tps_parcours2": "2019-01-31T01:33:28"
         },
         {
          "h_rocade": "2019-02-01T19:30:00",
          "tps_parcours2": "2019-01-31T01:42:55.250000"
         },
         {
          "h_rocade": "2019-02-01T19:45:00",
          "tps_parcours2": ""
         },
         {
          "h_rocade": "2019-02-01T20:00:00",
          "tps_parcours2": "2019-01-31T02:38:16"
         },
         {
          "h_rocade": "2019-02-01T20:15:00",
          "tps_parcours2": "2019-01-31T01:33:51"
         },
         {
          "h_rocade": "2019-02-01T20:30:00",
          "tps_parcours2": "2019-01-31T01:37:26"
         },
         {
          "h_rocade": "2019-02-01T20:45:00",
          "tps_parcours2": ""
         },
         {
          "h_rocade": "2019-02-01T21:00:00",
          "tps_parcours2": ""
         },
         {
          "h_rocade": "2019-02-01T21:15:00",
          "tps_parcours2": ""
         },
         {
          "h_rocade": "2019-02-01T21:30:00",
          "tps_parcours2": "2019-01-31T01:30:13"
         },
         {
          "h_rocade": "2019-02-01T21:45:00",
          "tps_parcours2": ""
         },
         {
          "h_rocade": "2019-02-01T22:00:00",
          "tps_parcours2": ""
         },
         {
          "h_rocade": "2019-02-01T22:15:00",
          "tps_parcours2": "2019-01-31T01:41:33.500000"
         },
         {
          "h_rocade": "2019-02-01T22:30:00",
          "tps_parcours2": "2019-01-31T02:11:09.600000"
         },
         {
          "h_rocade": "2019-02-01T22:45:00",
          "tps_parcours2": "2019-01-31T01:48:49.500000"
         },
         {
          "h_rocade": "2019-02-01T23:00:00",
          "tps_parcours2": ""
         },
         {
          "h_rocade": "2019-02-01T23:15:00",
          "tps_parcours2": ""
         },
         {
          "h_rocade": "2019-02-01T23:30:00",
          "tps_parcours2": ""
         },
         {
          "h_rocade": "2019-02-01T23:45:00",
          "tps_parcours2": "2019-01-31T01:41:03"
         },
         {
          "h_rocade": "2019-02-02T00:00:00",
          "tps_parcours2": ""
         },
         {
          "h_rocade": "2019-02-02T00:15:00",
          "tps_parcours2": ""
         },
         {
          "h_rocade": "2019-02-02T00:30:00",
          "tps_parcours2": ""
         },
         {
          "h_rocade": "2019-02-02T00:45:00",
          "tps_parcours2": ""
         },
         {
          "h_rocade": "2019-02-02T01:00:00",
          "tps_parcours2": ""
         },
         {
          "h_rocade": "2019-02-02T01:15:00",
          "tps_parcours2": ""
         },
         {
          "h_rocade": "2019-02-02T01:30:00",
          "tps_parcours2": ""
         },
         {
          "h_rocade": "2019-02-02T01:45:00",
          "tps_parcours2": ""
         },
         {
          "h_rocade": "2019-02-02T02:00:00",
          "tps_parcours2": ""
         },
         {
          "h_rocade": "2019-02-02T02:15:00",
          "tps_parcours2": ""
         },
         {
          "h_rocade": "2019-02-02T02:30:00",
          "tps_parcours2": ""
         },
         {
          "h_rocade": "2019-02-02T02:45:00",
          "tps_parcours2": ""
         },
         {
          "h_rocade": "2019-02-02T03:00:00",
          "tps_parcours2": ""
         },
         {
          "h_rocade": "2019-02-02T03:15:00",
          "tps_parcours2": ""
         },
         {
          "h_rocade": "2019-02-02T03:30:00",
          "tps_parcours2": ""
         },
         {
          "h_rocade": "2019-02-02T03:45:00",
          "tps_parcours2": ""
         },
         {
          "h_rocade": "2019-02-02T04:00:00",
          "tps_parcours2": ""
         },
         {
          "h_rocade": "2019-02-02T04:15:00",
          "tps_parcours2": ""
         },
         {
          "h_rocade": "2019-02-02T04:30:00",
          "tps_parcours2": ""
         },
         {
          "h_rocade": "2019-02-02T04:45:00",
          "tps_parcours2": ""
         },
         {
          "h_rocade": "2019-02-02T05:00:00",
          "tps_parcours2": ""
         },
         {
          "h_rocade": "2019-02-02T05:15:00",
          "tps_parcours2": ""
         },
         {
          "h_rocade": "2019-02-02T05:30:00",
          "tps_parcours2": ""
         },
         {
          "h_rocade": "2019-02-02T05:45:00",
          "tps_parcours2": ""
         },
         {
          "h_rocade": "2019-02-02T06:00:00",
          "tps_parcours2": ""
         },
         {
          "h_rocade": "2019-02-02T06:15:00",
          "tps_parcours2": ""
         },
         {
          "h_rocade": "2019-02-02T06:30:00",
          "tps_parcours2": ""
         },
         {
          "h_rocade": "2019-02-02T06:45:00",
          "tps_parcours2": ""
         },
         {
          "h_rocade": "2019-02-02T07:00:00",
          "tps_parcours2": ""
         },
         {
          "h_rocade": "2019-02-02T07:15:00",
          "tps_parcours2": ""
         },
         {
          "h_rocade": "2019-02-02T07:30:00",
          "tps_parcours2": ""
         },
         {
          "h_rocade": "2019-02-02T07:45:00",
          "tps_parcours2": ""
         },
         {
          "h_rocade": "2019-02-02T08:00:00",
          "tps_parcours2": ""
         },
         {
          "h_rocade": "2019-02-02T08:15:00",
          "tps_parcours2": ""
         },
         {
          "h_rocade": "2019-02-02T08:30:00",
          "tps_parcours2": ""
         },
         {
          "h_rocade": "2019-02-02T08:45:00",
          "tps_parcours2": ""
         },
         {
          "h_rocade": "2019-02-02T09:00:00",
          "tps_parcours2": ""
         },
         {
          "h_rocade": "2019-02-02T09:15:00",
          "tps_parcours2": ""
         },
         {
          "h_rocade": "2019-02-02T09:30:00",
          "tps_parcours2": ""
         },
         {
          "h_rocade": "2019-02-02T09:45:00",
          "tps_parcours2": ""
         },
         {
          "h_rocade": "2019-02-02T10:00:00",
          "tps_parcours2": ""
         },
         {
          "h_rocade": "2019-02-02T10:15:00",
          "tps_parcours2": ""
         },
         {
          "h_rocade": "2019-02-02T10:30:00",
          "tps_parcours2": ""
         },
         {
          "h_rocade": "2019-02-02T10:45:00",
          "tps_parcours2": ""
         },
         {
          "h_rocade": "2019-02-02T11:00:00",
          "tps_parcours2": ""
         },
         {
          "h_rocade": "2019-02-02T11:15:00",
          "tps_parcours2": ""
         },
         {
          "h_rocade": "2019-02-02T11:30:00",
          "tps_parcours2": ""
         },
         {
          "h_rocade": "2019-02-02T11:45:00",
          "tps_parcours2": ""
         },
         {
          "h_rocade": "2019-02-02T12:00:00",
          "tps_parcours2": ""
         },
         {
          "h_rocade": "2019-02-02T12:15:00",
          "tps_parcours2": ""
         },
         {
          "h_rocade": "2019-02-02T12:30:00",
          "tps_parcours2": ""
         },
         {
          "h_rocade": "2019-02-02T12:45:00",
          "tps_parcours2": ""
         },
         {
          "h_rocade": "2019-02-02T13:00:00",
          "tps_parcours2": ""
         },
         {
          "h_rocade": "2019-02-02T13:15:00",
          "tps_parcours2": ""
         },
         {
          "h_rocade": "2019-02-02T13:30:00",
          "tps_parcours2": ""
         },
         {
          "h_rocade": "2019-02-02T13:45:00",
          "tps_parcours2": ""
         },
         {
          "h_rocade": "2019-02-02T14:00:00",
          "tps_parcours2": ""
         },
         {
          "h_rocade": "2019-02-02T14:15:00",
          "tps_parcours2": ""
         },
         {
          "h_rocade": "2019-02-02T14:30:00",
          "tps_parcours2": ""
         },
         {
          "h_rocade": "2019-02-02T14:45:00",
          "tps_parcours2": ""
         },
         {
          "h_rocade": "2019-02-02T15:00:00",
          "tps_parcours2": ""
         },
         {
          "h_rocade": "2019-02-02T15:15:00",
          "tps_parcours2": ""
         },
         {
          "h_rocade": "2019-02-02T15:30:00",
          "tps_parcours2": ""
         },
         {
          "h_rocade": "2019-02-02T15:45:00",
          "tps_parcours2": ""
         },
         {
          "h_rocade": "2019-02-02T16:00:00",
          "tps_parcours2": ""
         },
         {
          "h_rocade": "2019-02-02T16:15:00",
          "tps_parcours2": ""
         },
         {
          "h_rocade": "2019-02-02T16:30:00",
          "tps_parcours2": ""
         },
         {
          "h_rocade": "2019-02-02T16:45:00",
          "tps_parcours2": ""
         },
         {
          "h_rocade": "2019-02-02T17:00:00",
          "tps_parcours2": ""
         },
         {
          "h_rocade": "2019-02-02T17:15:00",
          "tps_parcours2": ""
         },
         {
          "h_rocade": "2019-02-02T17:30:00",
          "tps_parcours2": ""
         },
         {
          "h_rocade": "2019-02-02T17:45:00",
          "tps_parcours2": ""
         },
         {
          "h_rocade": "2019-02-02T18:00:00",
          "tps_parcours2": ""
         },
         {
          "h_rocade": "2019-02-02T18:15:00",
          "tps_parcours2": ""
         },
         {
          "h_rocade": "2019-02-02T18:30:00",
          "tps_parcours2": ""
         },
         {
          "h_rocade": "2019-02-02T18:45:00",
          "tps_parcours2": ""
         },
         {
          "h_rocade": "2019-02-02T19:00:00",
          "tps_parcours2": ""
         },
         {
          "h_rocade": "2019-02-02T19:15:00",
          "tps_parcours2": ""
         },
         {
          "h_rocade": "2019-02-02T19:30:00",
          "tps_parcours2": ""
         },
         {
          "h_rocade": "2019-02-02T19:45:00",
          "tps_parcours2": ""
         },
         {
          "h_rocade": "2019-02-02T20:00:00",
          "tps_parcours2": ""
         },
         {
          "h_rocade": "2019-02-02T20:15:00",
          "tps_parcours2": ""
         },
         {
          "h_rocade": "2019-02-02T20:30:00",
          "tps_parcours2": ""
         },
         {
          "h_rocade": "2019-02-02T20:45:00",
          "tps_parcours2": ""
         },
         {
          "h_rocade": "2019-02-02T21:00:00",
          "tps_parcours2": ""
         },
         {
          "h_rocade": "2019-02-02T21:15:00",
          "tps_parcours2": ""
         },
         {
          "h_rocade": "2019-02-02T21:30:00",
          "tps_parcours2": ""
         },
         {
          "h_rocade": "2019-02-02T21:45:00",
          "tps_parcours2": ""
         },
         {
          "h_rocade": "2019-02-02T22:00:00",
          "tps_parcours2": ""
         },
         {
          "h_rocade": "2019-02-02T22:15:00",
          "tps_parcours2": ""
         },
         {
          "h_rocade": "2019-02-02T22:30:00",
          "tps_parcours2": ""
         },
         {
          "h_rocade": "2019-02-02T22:45:00",
          "tps_parcours2": ""
         },
         {
          "h_rocade": "2019-02-02T23:00:00",
          "tps_parcours2": ""
         },
         {
          "h_rocade": "2019-02-02T23:15:00",
          "tps_parcours2": ""
         },
         {
          "h_rocade": "2019-02-02T23:30:00",
          "tps_parcours2": ""
         },
         {
          "h_rocade": "2019-02-02T23:45:00",
          "tps_parcours2": ""
         },
         {
          "h_rocade": "2019-02-03T00:00:00",
          "tps_parcours2": ""
         },
         {
          "h_rocade": "2019-02-03T00:15:00",
          "tps_parcours2": ""
         },
         {
          "h_rocade": "2019-02-03T00:30:00",
          "tps_parcours2": ""
         },
         {
          "h_rocade": "2019-02-03T00:45:00",
          "tps_parcours2": ""
         },
         {
          "h_rocade": "2019-02-03T01:00:00",
          "tps_parcours2": ""
         },
         {
          "h_rocade": "2019-02-03T01:15:00",
          "tps_parcours2": ""
         },
         {
          "h_rocade": "2019-02-03T01:30:00",
          "tps_parcours2": ""
         },
         {
          "h_rocade": "2019-02-03T01:45:00",
          "tps_parcours2": ""
         },
         {
          "h_rocade": "2019-02-03T02:00:00",
          "tps_parcours2": ""
         },
         {
          "h_rocade": "2019-02-03T02:15:00",
          "tps_parcours2": ""
         },
         {
          "h_rocade": "2019-02-03T02:30:00",
          "tps_parcours2": ""
         },
         {
          "h_rocade": "2019-02-03T02:45:00",
          "tps_parcours2": ""
         },
         {
          "h_rocade": "2019-02-03T03:00:00",
          "tps_parcours2": ""
         },
         {
          "h_rocade": "2019-02-03T03:15:00",
          "tps_parcours2": ""
         },
         {
          "h_rocade": "2019-02-03T03:30:00",
          "tps_parcours2": ""
         },
         {
          "h_rocade": "2019-02-03T03:45:00",
          "tps_parcours2": ""
         },
         {
          "h_rocade": "2019-02-03T04:00:00",
          "tps_parcours2": ""
         },
         {
          "h_rocade": "2019-02-03T04:15:00",
          "tps_parcours2": ""
         },
         {
          "h_rocade": "2019-02-03T04:30:00",
          "tps_parcours2": ""
         },
         {
          "h_rocade": "2019-02-03T04:45:00",
          "tps_parcours2": ""
         },
         {
          "h_rocade": "2019-02-03T05:00:00",
          "tps_parcours2": ""
         },
         {
          "h_rocade": "2019-02-03T05:15:00",
          "tps_parcours2": ""
         },
         {
          "h_rocade": "2019-02-03T05:30:00",
          "tps_parcours2": ""
         },
         {
          "h_rocade": "2019-02-03T05:45:00",
          "tps_parcours2": ""
         },
         {
          "h_rocade": "2019-02-03T06:00:00",
          "tps_parcours2": ""
         },
         {
          "h_rocade": "2019-02-03T06:15:00",
          "tps_parcours2": ""
         },
         {
          "h_rocade": "2019-02-03T06:30:00",
          "tps_parcours2": ""
         },
         {
          "h_rocade": "2019-02-03T06:45:00",
          "tps_parcours2": ""
         },
         {
          "h_rocade": "2019-02-03T07:00:00",
          "tps_parcours2": ""
         },
         {
          "h_rocade": "2019-02-03T07:15:00",
          "tps_parcours2": ""
         },
         {
          "h_rocade": "2019-02-03T07:30:00",
          "tps_parcours2": ""
         },
         {
          "h_rocade": "2019-02-03T07:45:00",
          "tps_parcours2": ""
         },
         {
          "h_rocade": "2019-02-03T08:00:00",
          "tps_parcours2": ""
         },
         {
          "h_rocade": "2019-02-03T08:15:00",
          "tps_parcours2": ""
         },
         {
          "h_rocade": "2019-02-03T08:30:00",
          "tps_parcours2": ""
         },
         {
          "h_rocade": "2019-02-03T08:45:00",
          "tps_parcours2": ""
         },
         {
          "h_rocade": "2019-02-03T09:00:00",
          "tps_parcours2": ""
         },
         {
          "h_rocade": "2019-02-03T09:15:00",
          "tps_parcours2": ""
         },
         {
          "h_rocade": "2019-02-03T09:30:00",
          "tps_parcours2": ""
         },
         {
          "h_rocade": "2019-02-03T09:45:00",
          "tps_parcours2": ""
         },
         {
          "h_rocade": "2019-02-03T10:00:00",
          "tps_parcours2": ""
         },
         {
          "h_rocade": "2019-02-03T10:15:00",
          "tps_parcours2": ""
         },
         {
          "h_rocade": "2019-02-03T10:30:00",
          "tps_parcours2": ""
         },
         {
          "h_rocade": "2019-02-03T10:45:00",
          "tps_parcours2": ""
         },
         {
          "h_rocade": "2019-02-03T11:00:00",
          "tps_parcours2": ""
         },
         {
          "h_rocade": "2019-02-03T11:15:00",
          "tps_parcours2": ""
         },
         {
          "h_rocade": "2019-02-03T11:30:00",
          "tps_parcours2": ""
         },
         {
          "h_rocade": "2019-02-03T11:45:00",
          "tps_parcours2": ""
         },
         {
          "h_rocade": "2019-02-03T12:00:00",
          "tps_parcours2": ""
         },
         {
          "h_rocade": "2019-02-03T12:15:00",
          "tps_parcours2": ""
         },
         {
          "h_rocade": "2019-02-03T12:30:00",
          "tps_parcours2": ""
         },
         {
          "h_rocade": "2019-02-03T12:45:00",
          "tps_parcours2": ""
         },
         {
          "h_rocade": "2019-02-03T13:00:00",
          "tps_parcours2": ""
         },
         {
          "h_rocade": "2019-02-03T13:15:00",
          "tps_parcours2": ""
         },
         {
          "h_rocade": "2019-02-03T13:30:00",
          "tps_parcours2": ""
         },
         {
          "h_rocade": "2019-02-03T13:45:00",
          "tps_parcours2": ""
         },
         {
          "h_rocade": "2019-02-03T14:00:00",
          "tps_parcours2": ""
         },
         {
          "h_rocade": "2019-02-03T14:15:00",
          "tps_parcours2": ""
         },
         {
          "h_rocade": "2019-02-03T14:30:00",
          "tps_parcours2": ""
         },
         {
          "h_rocade": "2019-02-03T14:45:00",
          "tps_parcours2": ""
         },
         {
          "h_rocade": "2019-02-03T15:00:00",
          "tps_parcours2": ""
         },
         {
          "h_rocade": "2019-02-03T15:15:00",
          "tps_parcours2": ""
         },
         {
          "h_rocade": "2019-02-03T15:30:00",
          "tps_parcours2": ""
         },
         {
          "h_rocade": "2019-02-03T15:45:00",
          "tps_parcours2": ""
         },
         {
          "h_rocade": "2019-02-03T16:00:00",
          "tps_parcours2": ""
         },
         {
          "h_rocade": "2019-02-03T16:15:00",
          "tps_parcours2": ""
         },
         {
          "h_rocade": "2019-02-03T16:30:00",
          "tps_parcours2": ""
         },
         {
          "h_rocade": "2019-02-03T16:45:00",
          "tps_parcours2": ""
         },
         {
          "h_rocade": "2019-02-03T17:00:00",
          "tps_parcours2": ""
         },
         {
          "h_rocade": "2019-02-03T17:15:00",
          "tps_parcours2": ""
         },
         {
          "h_rocade": "2019-02-03T17:30:00",
          "tps_parcours2": ""
         },
         {
          "h_rocade": "2019-02-03T17:45:00",
          "tps_parcours2": ""
         },
         {
          "h_rocade": "2019-02-03T18:00:00",
          "tps_parcours2": ""
         },
         {
          "h_rocade": "2019-02-03T18:15:00",
          "tps_parcours2": ""
         },
         {
          "h_rocade": "2019-02-03T18:30:00",
          "tps_parcours2": ""
         },
         {
          "h_rocade": "2019-02-03T18:45:00",
          "tps_parcours2": ""
         },
         {
          "h_rocade": "2019-02-03T19:00:00",
          "tps_parcours2": ""
         },
         {
          "h_rocade": "2019-02-03T19:15:00",
          "tps_parcours2": ""
         },
         {
          "h_rocade": "2019-02-03T19:30:00",
          "tps_parcours2": ""
         },
         {
          "h_rocade": "2019-02-03T19:45:00",
          "tps_parcours2": ""
         },
         {
          "h_rocade": "2019-02-03T20:00:00",
          "tps_parcours2": ""
         },
         {
          "h_rocade": "2019-02-03T20:15:00",
          "tps_parcours2": ""
         },
         {
          "h_rocade": "2019-02-03T20:30:00",
          "tps_parcours2": ""
         },
         {
          "h_rocade": "2019-02-03T20:45:00",
          "tps_parcours2": ""
         },
         {
          "h_rocade": "2019-02-03T21:00:00",
          "tps_parcours2": ""
         },
         {
          "h_rocade": "2019-02-03T21:15:00",
          "tps_parcours2": ""
         },
         {
          "h_rocade": "2019-02-03T21:30:00",
          "tps_parcours2": ""
         },
         {
          "h_rocade": "2019-02-03T21:45:00",
          "tps_parcours2": ""
         },
         {
          "h_rocade": "2019-02-03T22:00:00",
          "tps_parcours2": ""
         },
         {
          "h_rocade": "2019-02-03T22:15:00",
          "tps_parcours2": ""
         },
         {
          "h_rocade": "2019-02-03T22:30:00",
          "tps_parcours2": ""
         },
         {
          "h_rocade": "2019-02-03T22:45:00",
          "tps_parcours2": ""
         },
         {
          "h_rocade": "2019-02-03T23:00:00",
          "tps_parcours2": ""
         },
         {
          "h_rocade": "2019-02-03T23:15:00",
          "tps_parcours2": ""
         },
         {
          "h_rocade": "2019-02-03T23:30:00",
          "tps_parcours2": ""
         },
         {
          "h_rocade": "2019-02-03T23:45:00",
          "tps_parcours2": ""
         },
         {
          "h_rocade": "2019-02-04T00:00:00",
          "tps_parcours2": "2019-01-31T01:55:23"
         },
         {
          "h_rocade": "2019-02-04T00:15:00",
          "tps_parcours2": "2019-01-31T01:31:24.500000"
         }
        ]
       },
       "encoding": {
        "x": {
         "field": "h_rocade",
         "type": "temporal"
        },
        "y": {
         "field": "tps_parcours2",
         "type": "temporal"
        }
       },
       "mark": "line",
       "width": 800
      },
      "image/png": "[encoded data removed]",
      "text/plain": [
       "<VegaLite 2 object>\n",
       "\n",
       "If you see this message, it means the renderer has not been properly enabled\n",
       "for the frontend that you are using. For more information, see\n",
       "https://altair-viz.github.io/user_guide/troubleshooting.html\n"
      ]
     },
     "execution_count": 184,
     "metadata": {},
     "output_type": "execute_result"
    }
   ],
   "source": [
    "alt.Chart(pour_graph).mark_line().encode(\n",
    "    x='h_rocade:T',\n",
    "    y='tps_parcours2').properties(width=800)"
   ]
  },
  {
   "cell_type": "code",
   "execution_count": null,
   "metadata": {},
   "outputs": [],
   "source": [
    "dico_od_final.loc[(dico_od_final['o_d']=='A10-A62') & (dico_od_final['date_cam_1']>pd.to_datetime('2019-01-28 21:00'))].sort_values('date_cam_1')"
   ]
  },
  {
   "cell_type": "code",
   "execution_count": 559,
   "metadata": {},
   "outputs": [],
   "source": [
    "test=t.trajet(df_passages6.loc['2019-01-31 00:00:00':'2019-02-01 23:59:59'], '2019-01-31 08:15:00', 15, [8, 13],typeTrajet='Global',temps_max_autorise=18)"
   ]
  },
  {
   "cell_type": "code",
   "execution_count": 547,
   "metadata": {},
   "outputs": [],
   "source": [
    "param_cluster=pd.read_json(r'Q:\\DAIT\\TI\\DREAL33\\2018\\C17SI0073_LAPI\\Traitements\\python\\param_cluster.json', orient='index')"
   ]
  },
  {
   "cell_type": "code",
   "execution_count": 563,
   "metadata": {},
   "outputs": [],
   "source": [
    "visu=t.jointure_temps_reel_theorique(test.df_transit,dixco_tpsmax_corrige,t.liste_complete_trajet, 15)"
   ]
  },
  {
   "cell_type": "code",
   "execution_count": 564,
   "metadata": {},
   "outputs": [
    {
     "data": {
      "application/vnd.vegalite.v2+json": {
       "$schema": "https://vega.github.io/schema/vega-lite/v2.6.0.json",
       "config": {
        "view": {
         "height": 300,
         "width": 400
        }
       },
       "data": {
        "name": "data-5cf04af0d4e81e7477a719eb80b1c8a1"
       },
       "datasets": {
        "data-5cf04af0d4e81e7477a719eb80b1c8a1": [
         {
          "date_cam_1": "2019-01-31T08:15:36",
          "filtre_tps": 0,
          "tps_parcours": "2018-01-01T01:50:46",
          "type": "85eme_percentile"
         },
         {
          "date_cam_1": "2019-01-31T08:29:35",
          "filtre_tps": 0,
          "tps_parcours": "2018-01-01T01:44:17",
          "type": "85eme_percentile"
         },
         {
          "date_cam_1": "2019-01-31T08:15:52",
          "filtre_tps": 0,
          "tps_parcours": "2018-01-01T02:08:22",
          "type": "85eme_percentile"
         },
         {
          "date_cam_1": "2019-01-31T08:25:17",
          "filtre_tps": 0,
          "tps_parcours": "2018-01-01T02:02:43",
          "type": "85eme_percentile"
         }
        ]
       },
       "encoding": {
        "color": {
         "field": "filtre_tps",
         "legend": {
          "title": "Type de trajet",
          "values": [
           "local",
           "transit"
          ]
         },
         "type": "nominal"
        },
        "shape": {
         "field": "type",
         "legend": {
          "title": "Source temps de référence"
         },
         "type": "nominal"
        },
        "tooltip": {
         "field": "tps_parcours",
         "timeUnit": "hoursminutes",
         "type": "temporal"
        },
        "x": {
         "field": "date_cam_1",
         "type": "temporal"
        },
        "y": {
         "field": "tps_parcours",
         "timeUnit": "hoursminutes",
         "type": "temporal"
        }
       },
       "mark": "point",
       "selection": {
        "selector343": {
         "bind": "scales",
         "encodings": [
          "x",
          "y"
         ],
         "mark": {
          "fill": "#333",
          "fillOpacity": 0.125,
          "stroke": "white"
         },
         "on": "[mousedown, window:mouseup] > window:mousemove!",
         "resolve": "global",
         "translate": "[mousedown, window:mouseup] > window:mousemove!",
         "type": "interval",
         "zoom": "wheel!"
        }
       },
       "title": "Jeudi 2019-01-31 : A89-A63",
       "width": 600
      },
      "image/png": "[encoded data removed]",
      "text/plain": [
       "<VegaLite 2 object>\n",
       "\n",
       "If you see this message, it means the renderer has not been properly enabled\n",
       "for the frontend that you are using. For more information, see\n",
       "https://altair-viz.github.io/user_guide/troubleshooting.html\n"
      ]
     },
     "execution_count": 564,
     "metadata": {},
     "output_type": "execute_result"
    }
   ],
   "source": [
    "g.graph_transit_filtre(visu,'2019-01-31 00:00:00','2019-01-31 23:59:59','A89-A63')"
   ]
  },
  {
   "cell_type": "markdown",
   "metadata": {},
   "source": [
    "# CORRIGER LES TEMPS DE PARCOURS LIMITES"
   ]
  },
  {
   "cell_type": "code",
   "execution_count": 162,
   "metadata": {},
   "outputs": [],
   "source": [
    "#isoler les données : sur un jour pour une o_d\n",
    "o_d='A10-A63'\n",
    "date='2019-01-23'\n",
    "test_predict=dico_df_transit['df_transit_marge0'].loc[(dico_df_transit['df_transit_marge0']['o_d']==o_d) &\n",
    "             (dico_df_transit['df_transit_marge0'].set_index('date_cam_1').index.dayofyear==pd.to_datetime(date).dayofyear)].copy()"
   ]
  },
  {
   "cell_type": "code",
   "execution_count": 163,
   "metadata": {},
   "outputs": [],
   "source": [
    "#ajouter des champsde ocnversion des dates en integer, limiter les valeusr sinon pb de mémoire avec sklearn\n",
    "test_predict['date_int']=((test_predict.date_cam_1 - pd.Timestamp(\"1970-01-01\")) // pd.Timedelta('1s'))/1000000\n",
    "test_predict['temps_int']=(((pd.to_datetime('2018-01-01')+test_predict.tps_parcours) - pd.Timestamp(\"1970-01-01\")) // pd.Timedelta('1s'))/1000000"
   ]
  },
  {
   "cell_type": "code",
   "execution_count": 1074,
   "metadata": {},
   "outputs": [],
   "source": [
    "#créer les données d'entrée du modele\n",
    "X=np.array([[a,b] for a,b in zip(test_predict.date_int.tolist(),test_predict.temps_int.tolist())])\n",
    "y=np.array(test_predict.filtre_tps.tolist())"
   ]
  },
  {
   "cell_type": "code",
   "execution_count": 1075,
   "metadata": {},
   "outputs": [],
   "source": [
    "#créer le modele\n",
    "ga=1000\n",
    "C=35\n",
    "clf = svm.SVC(kernel='rbf', gamma=ga, C=C)"
   ]
  },
  {
   "cell_type": "code",
   "execution_count": 1076,
   "metadata": {},
   "outputs": [
    {
     "data": {
      "text/plain": [
       "SVC(C=35, cache_size=200, class_weight=None, coef0=0.0,\n",
       "  decision_function_shape='ovr', degree=3, gamma=1000, kernel='rbf',\n",
       "  max_iter=-1, probability=False, random_state=None, shrinking=True,\n",
       "  tol=0.001, verbose=False)"
      ]
     },
     "execution_count": 1076,
     "metadata": {},
     "output_type": "execute_result"
    }
   ],
   "source": [
    "#alimenter le modele\n",
    "clf.fit(liste_nsample_nfeat, n_sample)"
   ]
  },
  {
   "cell_type": "code",
   "execution_count": 1077,
   "metadata": {},
   "outputs": [],
   "source": [
    "#isoler les donner à tester\n",
    "df_a_tester=test_predict.loc[(test_predict['filtre_tps']==0) & (test_predict['type']=='85eme_percentile')].copy()"
   ]
  },
  {
   "cell_type": "code",
   "execution_count": 1078,
   "metadata": {},
   "outputs": [],
   "source": [
    "#liste à tester\n",
    "liste_a_tester=np.array([[a,b] for a,b in zip(df_a_tester.date_int.tolist(),df_a_tester.temps_int.tolist())])\n",
    "#dfde résultats de prédiction\n",
    "df_type_predit=pd.DataFrame([[i, v] for i,v in zip(df_a_tester.index.tolist(),[clf.predict([x])[0] for x in liste_a_tester])], \n",
    "                            columns=['index_source','type_predit'])\n",
    "#mise à jourde la df source\n",
    "df_transit_avec_filtre.loc[df_transit_avec_filtre.index.isin(df_type_predit.index_source.tolist()),'type']='predit'\n",
    "df_transit_avec_filtre.loc[df_transit_avec_filtre.index.isin(df_type_predit.loc[df_type_predit['type_predit']==1].index_source.tolist()),'filtre_tps']=1"
   ]
  },
  {
   "cell_type": "code",
   "execution_count": 1172,
   "metadata": {},
   "outputs": [
    {
     "data": {
      "text/html": [
       "<div>\n",
       "<style scoped>\n",
       "    .dataframe tbody tr th:only-of-type {\n",
       "        vertical-align: middle;\n",
       "    }\n",
       "\n",
       "    .dataframe tbody tr th {\n",
       "        vertical-align: top;\n",
       "    }\n",
       "\n",
       "    .dataframe thead th {\n",
       "        text-align: right;\n",
       "    }\n",
       "</style>\n",
       "<table border=\"1\" class=\"dataframe\">\n",
       "  <thead>\n",
       "    <tr style=\"text-align: right;\">\n",
       "      <th></th>\n",
       "      <th>date_cam_1</th>\n",
       "      <th>immat</th>\n",
       "      <th>l</th>\n",
       "      <th>state</th>\n",
       "      <th>id</th>\n",
       "      <th>date_cam_2</th>\n",
       "      <th>cameras</th>\n",
       "      <th>origine</th>\n",
       "      <th>destination</th>\n",
       "      <th>o_d</th>\n",
       "      <th>tps_parcours</th>\n",
       "      <th>period</th>\n",
       "      <th>date</th>\n",
       "      <th>temps</th>\n",
       "      <th>type</th>\n",
       "      <th>tps_parcours_theoriq</th>\n",
       "      <th>filtre_tps</th>\n",
       "    </tr>\n",
       "  </thead>\n",
       "  <tbody>\n",
       "  </tbody>\n",
       "</table>\n",
       "</div>"
      ],
      "text/plain": [
       "Empty DataFrame\n",
       "Columns: [date_cam_1, immat, l, state, id, date_cam_2, cameras, origine, destination, o_d, tps_parcours, period, date, temps, type, tps_parcours_theoriq, filtre_tps]\n",
       "Index: []"
      ]
     },
     "execution_count": 1172,
     "metadata": {},
     "output_type": "execute_result"
    }
   ],
   "source": [
    "df_transit_avec_filtre.loc[df_transit_avec_filtre['type']=='predit']"
   ]
  },
  {
   "cell_type": "code",
   "execution_count": 166,
   "metadata": {},
   "outputs": [
    {
     "name": "stdout",
     "output_type": "stream",
     "text": [
      "Wall time: 1.69 s\n"
     ]
    },
    {
     "data": {
      "image/png": "[encoded data removed]",
      "text/plain": [
       "<Figure size 1440x1440 with 4 Axes>"
      ]
     },
     "metadata": {
      "needs_background": "light"
     },
     "output_type": "display_data"
    }
   ],
   "source": [
    "%%time\n",
    "def make_meshgrid(x, y, h=.0002):\n",
    "    \"\"\"Create a mesh of points to plot in\n",
    "\n",
    "    Parameters\n",
    "    ----------\n",
    "    x: data to base x-axis meshgrid on\n",
    "    y: data to base y-axis meshgrid on\n",
    "    h: stepsize for meshgrid, optional\n",
    "\n",
    "    Returns\n",
    "    -------\n",
    "    xx, yy : ndarray\n",
    "    \"\"\"\n",
    "    x_min, x_max = x.min() - 0.000000001, x.max() + 0.000000001\n",
    "    y_min, y_max = y.min() - 0.000000001, y.max() + 0.000000001\n",
    "    xx, yy = np.meshgrid(np.arange(x_min, x_max, h),\n",
    "                         np.arange(y_min, y_max, h))\n",
    "    return xx, yy\n",
    "\n",
    "\n",
    "def plot_contours(ax, clf, xx, yy, **params):\n",
    "    \"\"\"Plot the decision boundaries for a classifier.\n",
    "\n",
    "    Parameters\n",
    "    ----------\n",
    "    ax: matplotlib axes object\n",
    "    clf: a classifier\n",
    "    xx: meshgrid ndarray\n",
    "    yy: meshgrid ndarray\n",
    "    params: dictionary of params to pass to contourf, optional\n",
    "    \"\"\"\n",
    "    Z = clf.predict(np.c_[xx.ravel(), yy.ravel()])\n",
    "    Z = Z.reshape(xx.shape)\n",
    "    out = ax.contourf(xx, yy, Z, **params)\n",
    "    return out\n",
    "\n",
    "X=np.array([[a,b] for a,b in zip(test_predict.date_int.tolist(),test_predict.temps_int.tolist())])\n",
    "y=np.array(test_predict.filtre_tps.tolist())\n",
    "#C = 25# SVM regularization parameter\n",
    "models = (svm.SVC(kernel='rbf', gamma=600, C=70),\n",
    "         svm.SVC(kernel='rbf', gamma=600, C=35),\n",
    "         svm.SVC(kernel='rbf', gamma=500, C=100),\n",
    "         svm.SVC(kernel='rbf', gamma=500, C=200))\n",
    "models = (clf.fit(X, y) for clf in models)\n",
    "\n",
    "\n",
    "# Set-up 2x2 grid for plotting.\n",
    "fig, sub = plt.figure(figsize=(20,20)).subplots(2,2)\n",
    "plt.subplots_adjust(wspace=0.8, hspace=0.8)\n",
    "\n",
    "# title for the plots\n",
    "titles = ('C=60, gamma=1200',\n",
    "          'C=35, gamma=1200',\n",
    "          'C=100, gamma=500',\n",
    "          'C=200, gamma=500')\n",
    "\n",
    "X0, X1 = X[:, 0], X[:, 1]\n",
    "xx, yy = make_meshgrid(X0, X1)\n",
    "\n",
    "for clf, title, ax in zip(models, titles, sub.flatten()):\n",
    "    plot_contours(ax, clf, xx, yy,\n",
    "                  cmap=plt.cm.coolwarm, alpha=0.8)\n",
    "    ax.scatter(X0, X1, c=y, cmap=plt.cm.coolwarm, s=20, edgecolors='k')\n",
    "    ax.set_xlim(xx.min(), xx.max())\n",
    "    ax.set_ylim(yy.min(), yy.max())\n",
    "    ax.set_title(title)\n",
    "\n",
    "#plt.show()\n",
    "plt.savefig(r'Q:\\DAIT\\TI\\DREAL33\\2018\\C17SI0073_LAPI\\Projet Rapport\\illustrations\\impact_prediction_A10-A63.png')"
   ]
  },
  {
   "cell_type": "code",
   "execution_count": null,
   "metadata": {},
   "outputs": [],
   "source": [
    "liste_od_ok=['A660-A62','A62-A63','A63-A62','A62-A10','A660-N10', 'A660-A10','N10-A63','A62-N10']\n",
    "for od in [x for x in df_transit_avec_filtre.o_d.unique().tolist() if x not in liste_od_ok ] : \n",
    "    for date in set([a[0].strftime('%Y-%m-%d') for a in t.creer_liste_date('2019-01-31',11)]):\n",
    "        try : \n",
    "            df_transit_avec_filtre=t.predire_type_trajet(df_transit_avec_filtre,od, date,600,35)\n",
    "        except ValueError : \n",
    "            continue"
   ]
  },
  {
   "cell_type": "markdown",
   "metadata": {},
   "source": [
    "# VERIF AFFECTATION CLUSTER"
   ]
  },
  {
   "cell_type": "code",
   "execution_count": 88,
   "metadata": {},
   "outputs": [
    {
     "data": {
      "application/vnd.vegalite.v2+json": {
       "$schema": "https://vega.github.io/schema/vega-lite/v2.6.0.json",
       "config": {
        "view": {
         "height": 300,
         "width": 400
        }
       },
       "data": {
        "name": "data-1a437d0a1baa95aaaf4aefb56e918c37"
       },
       "datasets": {
        "data-1a437d0a1baa95aaaf4aefb56e918c37": [
         {
          "cluster_num": 0,
          "date_cam_1": "2019-01-23T10:00:04",
          "filtre_tps": 1,
          "tps_parcours": "2018-01-01T01:24:58"
         },
         {
          "cluster_num": 0,
          "date_cam_1": "2019-01-23T10:01:31",
          "filtre_tps": 1,
          "tps_parcours": "2018-01-01T01:11:27"
         },
         {
          "cluster_num": 0,
          "date_cam_1": "2019-01-23T10:02:01",
          "filtre_tps": 1,
          "tps_parcours": "2018-01-01T01:10:44"
         },
         {
          "cluster_num": 0,
          "date_cam_1": "2019-01-23T10:02:05",
          "filtre_tps": 1,
          "tps_parcours": "2018-01-01T01:10:24"
         },
         {
          "cluster_num": 0,
          "date_cam_1": "2019-01-23T10:02:09",
          "filtre_tps": 1,
          "tps_parcours": "2018-01-01T01:11:41"
         },
         {
          "cluster_num": 0,
          "date_cam_1": "2019-01-23T10:02:12",
          "filtre_tps": 1,
          "tps_parcours": "2018-01-01T01:08:18"
         },
         {
          "cluster_num": 0,
          "date_cam_1": "2019-01-23T10:03:02",
          "filtre_tps": 1,
          "tps_parcours": "2018-01-01T01:07:16"
         },
         {
          "cluster_num": 0,
          "date_cam_1": "2019-01-23T10:03:24",
          "filtre_tps": 1,
          "tps_parcours": "2018-01-01T01:12:38"
         },
         {
          "cluster_num": -1,
          "date_cam_1": "2019-01-23T10:03:27",
          "filtre_tps": 0,
          "tps_parcours": "2018-01-01T02:28:46"
         },
         {
          "cluster_num": 0,
          "date_cam_1": "2019-01-23T10:03:42",
          "filtre_tps": 1,
          "tps_parcours": "2018-01-01T01:21:28"
         },
         {
          "cluster_num": -1,
          "date_cam_1": "2019-01-23T10:03:45",
          "filtre_tps": 0,
          "tps_parcours": "2018-01-01T13:37:48"
         },
         {
          "cluster_num": 0,
          "date_cam_1": "2019-01-23T10:03:53",
          "filtre_tps": 1,
          "tps_parcours": "2018-01-01T01:24:35"
         },
         {
          "cluster_num": -1,
          "date_cam_1": "2019-01-23T10:05:04",
          "filtre_tps": 0,
          "tps_parcours": "2018-01-01T02:51:26"
         },
         {
          "cluster_num": 0,
          "date_cam_1": "2019-01-23T10:05:56",
          "filtre_tps": 1,
          "tps_parcours": "2018-01-01T01:40:30"
         },
         {
          "cluster_num": -1,
          "date_cam_1": "2019-01-23T10:06:14",
          "filtre_tps": 0,
          "tps_parcours": "2018-01-01T02:20:34"
         },
         {
          "cluster_num": 0,
          "date_cam_1": "2019-01-23T10:06:21",
          "filtre_tps": 1,
          "tps_parcours": "2018-01-01T01:31:02"
         },
         {
          "cluster_num": -1,
          "date_cam_1": "2019-01-23T10:06:23",
          "filtre_tps": 0,
          "tps_parcours": "2018-01-01T02:06:34"
         },
         {
          "cluster_num": -1,
          "date_cam_1": "2019-01-23T10:06:32",
          "filtre_tps": 0,
          "tps_parcours": "2018-01-01T02:13:28"
         },
         {
          "cluster_num": 0,
          "date_cam_1": "2019-01-23T10:06:46",
          "filtre_tps": 1,
          "tps_parcours": "2018-01-01T01:09:00"
         },
         {
          "cluster_num": 0,
          "date_cam_1": "2019-01-23T10:06:48",
          "filtre_tps": 1,
          "tps_parcours": "2018-01-01T01:22:10"
         },
         {
          "cluster_num": 0,
          "date_cam_1": "2019-01-23T10:07:20",
          "filtre_tps": 1,
          "tps_parcours": "2018-01-01T01:18:19"
         },
         {
          "cluster_num": 0,
          "date_cam_1": "2019-01-23T10:07:37",
          "filtre_tps": 1,
          "tps_parcours": "2018-01-01T01:21:35"
         },
         {
          "cluster_num": -1,
          "date_cam_1": "2019-01-23T10:10:05",
          "filtre_tps": 1,
          "tps_parcours": "2018-01-01T01:57:41"
         },
         {
          "cluster_num": 0,
          "date_cam_1": "2019-01-23T10:10:12",
          "filtre_tps": 1,
          "tps_parcours": "2018-01-01T01:19:46"
         },
         {
          "cluster_num": 0,
          "date_cam_1": "2019-01-23T10:10:14",
          "filtre_tps": 1,
          "tps_parcours": "2018-01-01T01:20:22"
         },
         {
          "cluster_num": 0,
          "date_cam_1": "2019-01-23T10:10:17",
          "filtre_tps": 1,
          "tps_parcours": "2018-01-01T01:08:13"
         },
         {
          "cluster_num": -1,
          "date_cam_1": "2019-01-23T10:10:28",
          "filtre_tps": 0,
          "tps_parcours": "2018-01-01T02:18:01"
         },
         {
          "cluster_num": 0,
          "date_cam_1": "2019-01-23T10:10:47",
          "filtre_tps": 1,
          "tps_parcours": "2018-01-01T01:22:17"
         },
         {
          "cluster_num": 0,
          "date_cam_1": "2019-01-23T10:10:53",
          "filtre_tps": 1,
          "tps_parcours": "2018-01-01T01:19:11"
         },
         {
          "cluster_num": 0,
          "date_cam_1": "2019-01-23T10:11:00",
          "filtre_tps": 1,
          "tps_parcours": "2018-01-01T01:06:04"
         },
         {
          "cluster_num": 0,
          "date_cam_1": "2019-01-23T10:12:18",
          "filtre_tps": 1,
          "tps_parcours": "2018-01-01T01:17:28"
         },
         {
          "cluster_num": 0,
          "date_cam_1": "2019-01-23T10:12:33",
          "filtre_tps": 1,
          "tps_parcours": "2018-01-01T01:21:22"
         },
         {
          "cluster_num": -1,
          "date_cam_1": "2019-01-23T10:12:34",
          "filtre_tps": 0,
          "tps_parcours": "2018-01-01T02:03:55"
         },
         {
          "cluster_num": 0,
          "date_cam_1": "2019-01-23T10:12:54",
          "filtre_tps": 1,
          "tps_parcours": "2018-01-01T01:06:20"
         },
         {
          "cluster_num": -1,
          "date_cam_1": "2019-01-23T10:13:07",
          "filtre_tps": 0,
          "tps_parcours": "2018-01-01T02:16:33"
         },
         {
          "cluster_num": 0,
          "date_cam_1": "2019-01-23T10:13:39",
          "filtre_tps": 1,
          "tps_parcours": "2018-01-01T01:06:44"
         },
         {
          "cluster_num": -1,
          "date_cam_1": "2019-01-23T10:14:10",
          "filtre_tps": 0,
          "tps_parcours": "2018-01-01T03:43:49"
         },
         {
          "cluster_num": -1,
          "date_cam_1": "2019-01-23T10:14:39",
          "filtre_tps": 0,
          "tps_parcours": "2018-01-01T02:00:12"
         },
         {
          "cluster_num": 0,
          "date_cam_1": "2019-01-23T10:14:41",
          "filtre_tps": 1,
          "tps_parcours": "2018-01-01T01:06:56"
         },
         {
          "cluster_num": 0,
          "date_cam_1": "2019-01-23T10:14:47",
          "filtre_tps": 1,
          "tps_parcours": "2018-01-01T01:19:21"
         },
         {
          "cluster_num": -1,
          "date_cam_1": "2019-01-23T10:15:35",
          "filtre_tps": 0,
          "tps_parcours": "2018-01-01T06:12:47"
         },
         {
          "cluster_num": -1,
          "date_cam_1": "2019-01-23T10:16:02",
          "filtre_tps": 0,
          "tps_parcours": "2018-01-01T01:58:58"
         },
         {
          "cluster_num": -1,
          "date_cam_1": "2019-01-23T10:16:14",
          "filtre_tps": 0,
          "tps_parcours": "2018-01-01T02:14:05"
         },
         {
          "cluster_num": 0,
          "date_cam_1": "2019-01-23T10:16:22",
          "filtre_tps": 1,
          "tps_parcours": "2018-01-01T01:15:55"
         },
         {
          "cluster_num": 0,
          "date_cam_1": "2019-01-23T10:16:23",
          "filtre_tps": 1,
          "tps_parcours": "2018-01-01T01:06:08"
         },
         {
          "cluster_num": 0,
          "date_cam_1": "2019-01-23T10:16:25",
          "filtre_tps": 1,
          "tps_parcours": "2018-01-01T01:05:35"
         },
         {
          "cluster_num": 0,
          "date_cam_1": "2019-01-23T10:16:33",
          "filtre_tps": 1,
          "tps_parcours": "2018-01-01T01:14:53"
         },
         {
          "cluster_num": -1,
          "date_cam_1": "2019-01-23T10:16:45",
          "filtre_tps": 0,
          "tps_parcours": "2018-01-01T02:13:26"
         },
         {
          "cluster_num": -1,
          "date_cam_1": "2019-01-23T10:16:47",
          "filtre_tps": 0,
          "tps_parcours": "2018-01-01T02:17:02"
         },
         {
          "cluster_num": 0,
          "date_cam_1": "2019-01-23T10:16:57",
          "filtre_tps": 1,
          "tps_parcours": "2018-01-01T01:17:20"
         },
         {
          "cluster_num": -1,
          "date_cam_1": "2019-01-23T10:18:58",
          "filtre_tps": 0,
          "tps_parcours": "2018-01-01T02:05:25"
         },
         {
          "cluster_num": 0,
          "date_cam_1": "2019-01-23T10:19:10",
          "filtre_tps": 1,
          "tps_parcours": "2018-01-01T01:18:28"
         },
         {
          "cluster_num": -1,
          "date_cam_1": "2019-01-23T10:19:12",
          "filtre_tps": 0,
          "tps_parcours": "2018-01-01T02:23:22"
         },
         {
          "cluster_num": 0,
          "date_cam_1": "2019-01-23T10:19:15",
          "filtre_tps": 1,
          "tps_parcours": "2018-01-01T01:03:46"
         },
         {
          "cluster_num": 0,
          "date_cam_1": "2019-01-23T10:19:20",
          "filtre_tps": 1,
          "tps_parcours": "2018-01-01T01:15:09"
         },
         {
          "cluster_num": 0,
          "date_cam_1": "2019-01-23T10:19:49",
          "filtre_tps": 1,
          "tps_parcours": "2018-01-01T01:19:33"
         },
         {
          "cluster_num": 0,
          "date_cam_1": "2019-01-23T10:19:58",
          "filtre_tps": 1,
          "tps_parcours": "2018-01-01T01:18:08"
         },
         {
          "cluster_num": 0,
          "date_cam_1": "2019-01-23T10:19:59",
          "filtre_tps": 1,
          "tps_parcours": "2018-01-01T01:08:44"
         },
         {
          "cluster_num": -1,
          "date_cam_1": "2019-01-23T10:20:00",
          "filtre_tps": 0,
          "tps_parcours": "2018-01-01T17:00:48"
         },
         {
          "cluster_num": 0,
          "date_cam_1": "2019-01-23T10:20:03",
          "filtre_tps": 1,
          "tps_parcours": "2018-01-01T01:19:31"
         },
         {
          "cluster_num": 0,
          "date_cam_1": "2019-01-23T10:20:28",
          "filtre_tps": 1,
          "tps_parcours": "2018-01-01T01:09:07"
         },
         {
          "cluster_num": 0,
          "date_cam_1": "2019-01-23T10:20:31",
          "filtre_tps": 1,
          "tps_parcours": "2018-01-01T01:07:14"
         },
         {
          "cluster_num": -1,
          "date_cam_1": "2019-01-23T10:20:36",
          "filtre_tps": 0,
          "tps_parcours": "2018-01-01T02:22:39"
         },
         {
          "cluster_num": 0,
          "date_cam_1": "2019-01-23T10:20:45",
          "filtre_tps": 1,
          "tps_parcours": "2018-01-01T01:19:39"
         },
         {
          "cluster_num": 0,
          "date_cam_1": "2019-01-23T10:20:48",
          "filtre_tps": 1,
          "tps_parcours": "2018-01-01T01:21:01"
         },
         {
          "cluster_num": 0,
          "date_cam_1": "2019-01-23T10:20:48",
          "filtre_tps": 1,
          "tps_parcours": "2018-01-01T01:21:01"
         },
         {
          "cluster_num": 0,
          "date_cam_1": "2019-01-23T10:20:52",
          "filtre_tps": 1,
          "tps_parcours": "2018-01-01T01:08:32"
         },
         {
          "cluster_num": 0,
          "date_cam_1": "2019-01-23T10:21:04",
          "filtre_tps": 1,
          "tps_parcours": "2018-01-01T01:06:52"
         },
         {
          "cluster_num": 0,
          "date_cam_1": "2019-01-23T10:22:05",
          "filtre_tps": 1,
          "tps_parcours": "2018-01-01T01:17:44"
         },
         {
          "cluster_num": -1,
          "date_cam_1": "2019-01-23T10:22:09",
          "filtre_tps": 1,
          "tps_parcours": "2018-01-01T01:53:20"
         },
         {
          "cluster_num": 0,
          "date_cam_1": "2019-01-23T10:22:11",
          "filtre_tps": 1,
          "tps_parcours": "2018-01-01T01:17:43"
         },
         {
          "cluster_num": -1,
          "date_cam_1": "2019-01-23T10:22:52",
          "filtre_tps": 1,
          "tps_parcours": "2018-01-01T01:56:10"
         },
         {
          "cluster_num": -1,
          "date_cam_1": "2019-01-23T10:22:59",
          "filtre_tps": 0,
          "tps_parcours": "2018-01-01T02:07:52"
         },
         {
          "cluster_num": 0,
          "date_cam_1": "2019-01-23T10:23:08",
          "filtre_tps": 1,
          "tps_parcours": "2018-01-01T01:38:22"
         },
         {
          "cluster_num": 0,
          "date_cam_1": "2019-01-23T10:23:14",
          "filtre_tps": 1,
          "tps_parcours": "2018-01-01T01:06:32"
         },
         {
          "cluster_num": 0,
          "date_cam_1": "2019-01-23T10:23:54",
          "filtre_tps": 1,
          "tps_parcours": "2018-01-01T01:06:18"
         },
         {
          "cluster_num": 0,
          "date_cam_1": "2019-01-23T10:25:04",
          "filtre_tps": 1,
          "tps_parcours": "2018-01-01T01:16:21"
         },
         {
          "cluster_num": -1,
          "date_cam_1": "2019-01-23T10:25:15",
          "filtre_tps": 1,
          "tps_parcours": "2018-01-01T01:51:53"
         },
         {
          "cluster_num": 0,
          "date_cam_1": "2019-01-23T10:25:31",
          "filtre_tps": 1,
          "tps_parcours": "2018-01-01T01:19:56"
         },
         {
          "cluster_num": -1,
          "date_cam_1": "2019-01-23T10:25:39",
          "filtre_tps": 0,
          "tps_parcours": "2018-01-01T02:17:02"
         },
         {
          "cluster_num": -1,
          "date_cam_1": "2019-01-23T10:26:35",
          "filtre_tps": 1,
          "tps_parcours": "2018-01-01T01:52:43"
         },
         {
          "cluster_num": -1,
          "date_cam_1": "2019-01-23T10:26:38",
          "filtre_tps": 1,
          "tps_parcours": "2018-01-01T01:52:46"
         },
         {
          "cluster_num": 0,
          "date_cam_1": "2019-01-23T10:26:42",
          "filtre_tps": 1,
          "tps_parcours": "2018-01-01T01:12:14"
         },
         {
          "cluster_num": -1,
          "date_cam_1": "2019-01-23T10:26:50",
          "filtre_tps": 0,
          "tps_parcours": "2018-01-01T02:55:18"
         },
         {
          "cluster_num": 0,
          "date_cam_1": "2019-01-23T10:27:07",
          "filtre_tps": 1,
          "tps_parcours": "2018-01-01T01:20:53"
         },
         {
          "cluster_num": 0,
          "date_cam_1": "2019-01-23T10:27:19",
          "filtre_tps": 1,
          "tps_parcours": "2018-01-01T01:16:33"
         },
         {
          "cluster_num": 0,
          "date_cam_1": "2019-01-23T10:27:47",
          "filtre_tps": 1,
          "tps_parcours": "2018-01-01T01:18:38"
         },
         {
          "cluster_num": -1,
          "date_cam_1": "2019-01-23T10:27:55",
          "filtre_tps": 0,
          "tps_parcours": "2018-01-01T10:13:57"
         },
         {
          "cluster_num": 0,
          "date_cam_1": "2019-01-23T10:28:11",
          "filtre_tps": 1,
          "tps_parcours": "2018-01-01T01:17:22"
         },
         {
          "cluster_num": 0,
          "date_cam_1": "2019-01-23T10:28:23",
          "filtre_tps": 1,
          "tps_parcours": "2018-01-01T01:21:53"
         },
         {
          "cluster_num": -1,
          "date_cam_1": "2019-01-23T10:28:25",
          "filtre_tps": 0,
          "tps_parcours": "2018-01-01T02:17:35"
         },
         {
          "cluster_num": 0,
          "date_cam_1": "2019-01-23T10:28:40",
          "filtre_tps": 1,
          "tps_parcours": "2018-01-01T01:15:34"
         },
         {
          "cluster_num": 0,
          "date_cam_1": "2019-01-23T10:28:46",
          "filtre_tps": 1,
          "tps_parcours": "2018-01-01T01:04:11"
         },
         {
          "cluster_num": 0,
          "date_cam_1": "2019-01-23T10:28:47",
          "filtre_tps": 1,
          "tps_parcours": "2018-01-01T01:14:03"
         },
         {
          "cluster_num": 0,
          "date_cam_1": "2019-01-23T10:28:48",
          "filtre_tps": 1,
          "tps_parcours": "2018-01-01T01:02:40"
         },
         {
          "cluster_num": -1,
          "date_cam_1": "2019-01-23T10:28:56",
          "filtre_tps": 0,
          "tps_parcours": "2018-01-01T02:09:06"
         },
         {
          "cluster_num": -1,
          "date_cam_1": "2019-01-23T10:29:13",
          "filtre_tps": 0,
          "tps_parcours": "2018-01-01T02:18:05"
         },
         {
          "cluster_num": 0,
          "date_cam_1": "2019-01-23T10:29:14",
          "filtre_tps": 1,
          "tps_parcours": "2018-01-01T01:19:50"
         },
         {
          "cluster_num": 0,
          "date_cam_1": "2019-01-23T10:29:16",
          "filtre_tps": 1,
          "tps_parcours": "2018-01-01T01:17:56"
         },
         {
          "cluster_num": -1,
          "date_cam_1": "2019-01-23T10:29:19",
          "filtre_tps": 0,
          "tps_parcours": "2018-01-01T02:18:24"
         },
         {
          "cluster_num": 0,
          "date_cam_1": "2019-01-23T10:29:23",
          "filtre_tps": 1,
          "tps_parcours": "2018-01-01T01:15:24"
         },
         {
          "cluster_num": 0,
          "date_cam_1": "2019-01-23T10:29:29",
          "filtre_tps": 1,
          "tps_parcours": "2018-01-01T01:17:26"
         },
         {
          "cluster_num": 0,
          "date_cam_1": "2019-01-23T10:29:44",
          "filtre_tps": 1,
          "tps_parcours": "2018-01-01T01:34:28"
         },
         {
          "cluster_num": 0,
          "date_cam_1": "2019-01-23T10:30:15",
          "filtre_tps": 1,
          "tps_parcours": "2018-01-01T01:18:26"
         },
         {
          "cluster_num": 0,
          "date_cam_1": "2019-01-23T10:30:18",
          "filtre_tps": 1,
          "tps_parcours": "2018-01-01T01:15:32"
         },
         {
          "cluster_num": 0,
          "date_cam_1": "2019-01-23T10:30:25",
          "filtre_tps": 1,
          "tps_parcours": "2018-01-01T01:08:54"
         },
         {
          "cluster_num": -1,
          "date_cam_1": "2019-01-23T10:31:30",
          "filtre_tps": 0,
          "tps_parcours": "2018-01-01T02:31:04"
         },
         {
          "cluster_num": 0,
          "date_cam_1": "2019-01-23T10:31:41",
          "filtre_tps": 1,
          "tps_parcours": "2018-01-01T01:04:18"
         },
         {
          "cluster_num": -1,
          "date_cam_1": "2019-01-23T10:33:14",
          "filtre_tps": 0,
          "tps_parcours": "2018-01-01T02:17:10"
         },
         {
          "cluster_num": 0,
          "date_cam_1": "2019-01-23T10:33:23",
          "filtre_tps": 1,
          "tps_parcours": "2018-01-01T01:05:03"
         },
         {
          "cluster_num": 0,
          "date_cam_1": "2019-01-23T10:33:44",
          "filtre_tps": 1,
          "tps_parcours": "2018-01-01T01:10:10"
         },
         {
          "cluster_num": 0,
          "date_cam_1": "2019-01-23T10:33:45",
          "filtre_tps": 1,
          "tps_parcours": "2018-01-01T01:14:14"
         },
         {
          "cluster_num": 0,
          "date_cam_1": "2019-01-23T10:35:00",
          "filtre_tps": 1,
          "tps_parcours": "2018-01-01T01:17:33"
         },
         {
          "cluster_num": -1,
          "date_cam_1": "2019-01-23T10:35:22",
          "filtre_tps": 0,
          "tps_parcours": "2018-01-01T02:29:24"
         },
         {
          "cluster_num": 0,
          "date_cam_1": "2019-01-23T10:36:14",
          "filtre_tps": 1,
          "tps_parcours": "2018-01-01T01:17:55"
         },
         {
          "cluster_num": 0,
          "date_cam_1": "2019-01-23T10:37:29",
          "filtre_tps": 1,
          "tps_parcours": "2018-01-01T01:05:07"
         },
         {
          "cluster_num": 0,
          "date_cam_1": "2019-01-23T10:38:32",
          "filtre_tps": 1,
          "tps_parcours": "2018-01-01T01:18:08"
         },
         {
          "cluster_num": 0,
          "date_cam_1": "2019-01-23T10:39:05",
          "filtre_tps": 1,
          "tps_parcours": "2018-01-01T01:15:35"
         },
         {
          "cluster_num": 0,
          "date_cam_1": "2019-01-23T10:39:09",
          "filtre_tps": 1,
          "tps_parcours": "2018-01-01T01:03:32"
         },
         {
          "cluster_num": 0,
          "date_cam_1": "2019-01-23T10:39:24",
          "filtre_tps": 1,
          "tps_parcours": "2018-01-01T01:18:38"
         },
         {
          "cluster_num": 0,
          "date_cam_1": "2019-01-23T10:39:28",
          "filtre_tps": 1,
          "tps_parcours": "2018-01-01T01:15:22"
         },
         {
          "cluster_num": 0,
          "date_cam_1": "2019-01-23T10:39:38",
          "filtre_tps": 1,
          "tps_parcours": "2018-01-01T01:19:14"
         },
         {
          "cluster_num": 0,
          "date_cam_1": "2019-01-23T10:39:47",
          "filtre_tps": 1,
          "tps_parcours": "2018-01-01T01:19:19"
         },
         {
          "cluster_num": 0,
          "date_cam_1": "2019-01-23T10:39:54",
          "filtre_tps": 1,
          "tps_parcours": "2018-01-01T01:05:03"
         },
         {
          "cluster_num": -1,
          "date_cam_1": "2019-01-23T10:43:23",
          "filtre_tps": 0,
          "tps_parcours": "2018-01-01T02:00:39"
         },
         {
          "cluster_num": 0,
          "date_cam_1": "2019-01-23T10:43:24",
          "filtre_tps": 1,
          "tps_parcours": "2018-01-01T01:17:32"
         },
         {
          "cluster_num": -1,
          "date_cam_1": "2019-01-23T10:43:41",
          "filtre_tps": 0,
          "tps_parcours": "2018-01-01T02:52:11"
         },
         {
          "cluster_num": 0,
          "date_cam_1": "2019-01-23T10:43:42",
          "filtre_tps": 1,
          "tps_parcours": "2018-01-01T01:32:00"
         },
         {
          "cluster_num": 0,
          "date_cam_1": "2019-01-23T10:43:50",
          "filtre_tps": 1,
          "tps_parcours": "2018-01-01T01:27:02"
         },
         {
          "cluster_num": 0,
          "date_cam_1": "2019-01-23T10:43:55",
          "filtre_tps": 1,
          "tps_parcours": "2018-01-01T01:16:42"
         },
         {
          "cluster_num": 0,
          "date_cam_1": "2019-01-23T10:43:57",
          "filtre_tps": 1,
          "tps_parcours": "2018-01-01T01:18:44"
         },
         {
          "cluster_num": -1,
          "date_cam_1": "2019-01-23T10:44:27",
          "filtre_tps": 0,
          "tps_parcours": "2018-01-01T02:18:38"
         },
         {
          "cluster_num": -1,
          "date_cam_1": "2019-01-23T10:44:47",
          "filtre_tps": 0,
          "tps_parcours": "2018-01-01T02:11:33"
         },
         {
          "cluster_num": 0,
          "date_cam_1": "2019-01-23T10:45:17",
          "filtre_tps": 1,
          "tps_parcours": "2018-01-01T01:13:25"
         },
         {
          "cluster_num": 0,
          "date_cam_1": "2019-01-23T10:45:38",
          "filtre_tps": 1,
          "tps_parcours": "2018-01-01T01:16:33"
         },
         {
          "cluster_num": 0,
          "date_cam_1": "2019-01-23T10:45:42",
          "filtre_tps": 1,
          "tps_parcours": "2018-01-01T01:17:28"
         },
         {
          "cluster_num": 0,
          "date_cam_1": "2019-01-23T10:45:45",
          "filtre_tps": 1,
          "tps_parcours": "2018-01-01T01:19:13"
         },
         {
          "cluster_num": -1,
          "date_cam_1": "2019-01-23T10:46:20",
          "filtre_tps": 0,
          "tps_parcours": "2018-01-01T02:24:13"
         },
         {
          "cluster_num": 0,
          "date_cam_1": "2019-01-23T10:47:23",
          "filtre_tps": 1,
          "tps_parcours": "2018-01-01T01:39:12"
         },
         {
          "cluster_num": 0,
          "date_cam_1": "2019-01-23T10:47:35",
          "filtre_tps": 1,
          "tps_parcours": "2018-01-01T01:02:24"
         },
         {
          "cluster_num": -1,
          "date_cam_1": "2019-01-23T10:48:02",
          "filtre_tps": 0,
          "tps_parcours": "2018-01-01T02:12:22"
         },
         {
          "cluster_num": 0,
          "date_cam_1": "2019-01-23T10:48:18",
          "filtre_tps": 1,
          "tps_parcours": "2018-01-01T01:22:29"
         },
         {
          "cluster_num": 0,
          "date_cam_1": "2019-01-23T10:49:24",
          "filtre_tps": 1,
          "tps_parcours": "2018-01-01T01:17:40"
         },
         {
          "cluster_num": 0,
          "date_cam_1": "2019-01-23T10:49:33",
          "filtre_tps": 1,
          "tps_parcours": "2018-01-01T01:11:46"
         },
         {
          "cluster_num": 0,
          "date_cam_1": "2019-01-23T10:50:13",
          "filtre_tps": 1,
          "tps_parcours": "2018-01-01T01:16:47"
         },
         {
          "cluster_num": 0,
          "date_cam_1": "2019-01-23T10:52:38",
          "filtre_tps": 1,
          "tps_parcours": "2018-01-01T01:06:07"
         },
         {
          "cluster_num": 0,
          "date_cam_1": "2019-01-23T10:52:45",
          "filtre_tps": 1,
          "tps_parcours": "2018-01-01T01:16:05"
         },
         {
          "cluster_num": -1,
          "date_cam_1": "2019-01-23T10:52:51",
          "filtre_tps": 1,
          "tps_parcours": "2018-01-01T01:48:40"
         },
         {
          "cluster_num": 0,
          "date_cam_1": "2019-01-23T10:53:06",
          "filtre_tps": 1,
          "tps_parcours": "2018-01-01T01:08:17"
         },
         {
          "cluster_num": -1,
          "date_cam_1": "2019-01-23T10:53:07",
          "filtre_tps": 0,
          "tps_parcours": "2018-01-01T01:58:57"
         },
         {
          "cluster_num": -1,
          "date_cam_1": "2019-01-23T10:53:07",
          "filtre_tps": 0,
          "tps_parcours": "2018-01-01T01:59:58"
         },
         {
          "cluster_num": 0,
          "date_cam_1": "2019-01-23T10:53:11",
          "filtre_tps": 1,
          "tps_parcours": "2018-01-01T01:43:54"
         },
         {
          "cluster_num": -1,
          "date_cam_1": "2019-01-23T10:53:20",
          "filtre_tps": 1,
          "tps_parcours": "2018-01-01T01:56:54"
         },
         {
          "cluster_num": 0,
          "date_cam_1": "2019-01-23T10:53:53",
          "filtre_tps": 1,
          "tps_parcours": "2018-01-01T01:01:00"
         },
         {
          "cluster_num": -1,
          "date_cam_1": "2019-01-23T10:53:55",
          "filtre_tps": 1,
          "tps_parcours": "2018-01-01T01:55:52"
         },
         {
          "cluster_num": 0,
          "date_cam_1": "2019-01-23T10:53:59",
          "filtre_tps": 1,
          "tps_parcours": "2018-01-01T01:16:09"
         },
         {
          "cluster_num": 0,
          "date_cam_1": "2019-01-23T10:54:07",
          "filtre_tps": 1,
          "tps_parcours": "2018-01-01T01:18:31"
         },
         {
          "cluster_num": 0,
          "date_cam_1": "2019-01-23T10:54:28",
          "filtre_tps": 1,
          "tps_parcours": "2018-01-01T01:20:00"
         },
         {
          "cluster_num": 0,
          "date_cam_1": "2019-01-23T10:54:32",
          "filtre_tps": 1,
          "tps_parcours": "2018-01-01T01:09:53"
         },
         {
          "cluster_num": 0,
          "date_cam_1": "2019-01-23T10:55:12",
          "filtre_tps": 1,
          "tps_parcours": "2018-01-01T01:05:51"
         },
         {
          "cluster_num": 0,
          "date_cam_1": "2019-01-23T10:55:13",
          "filtre_tps": 1,
          "tps_parcours": "2018-01-01T01:18:55"
         },
         {
          "cluster_num": 0,
          "date_cam_1": "2019-01-23T10:55:15",
          "filtre_tps": 1,
          "tps_parcours": "2018-01-01T01:20:35"
         },
         {
          "cluster_num": -1,
          "date_cam_1": "2019-01-23T10:55:29",
          "filtre_tps": 0,
          "tps_parcours": "2018-01-01T02:20:55"
         },
         {
          "cluster_num": 0,
          "date_cam_1": "2019-01-23T10:55:35",
          "filtre_tps": 1,
          "tps_parcours": "2018-01-01T01:07:50"
         },
         {
          "cluster_num": 0,
          "date_cam_1": "2019-01-23T10:56:52",
          "filtre_tps": 1,
          "tps_parcours": "2018-01-01T01:15:38"
         },
         {
          "cluster_num": -1,
          "date_cam_1": "2019-01-23T10:56:55",
          "filtre_tps": 0,
          "tps_parcours": "2018-01-01T02:16:10"
         },
         {
          "cluster_num": -1,
          "date_cam_1": "2019-01-23T10:57:00",
          "filtre_tps": 0,
          "tps_parcours": "2018-01-01T02:18:38"
         },
         {
          "cluster_num": 0,
          "date_cam_1": "2019-01-23T10:57:18",
          "filtre_tps": 1,
          "tps_parcours": "2018-01-01T01:21:06"
         },
         {
          "cluster_num": 0,
          "date_cam_1": "2019-01-23T10:57:19",
          "filtre_tps": 1,
          "tps_parcours": "2018-01-01T01:06:26"
         },
         {
          "cluster_num": -1,
          "date_cam_1": "2019-01-23T10:57:23",
          "filtre_tps": 0,
          "tps_parcours": "2018-01-01T02:14:02"
         },
         {
          "cluster_num": 0,
          "date_cam_1": "2019-01-23T10:57:28",
          "filtre_tps": 1,
          "tps_parcours": "2018-01-01T01:21:45"
         },
         {
          "cluster_num": 0,
          "date_cam_1": "2019-01-23T10:57:29",
          "filtre_tps": 1,
          "tps_parcours": "2018-01-01T01:06:11"
         },
         {
          "cluster_num": 0,
          "date_cam_1": "2019-01-23T10:57:56",
          "filtre_tps": 1,
          "tps_parcours": "2018-01-01T01:22:16"
         },
         {
          "cluster_num": 0,
          "date_cam_1": "2019-01-23T10:57:58",
          "filtre_tps": 1,
          "tps_parcours": "2018-01-01T01:19:06"
         },
         {
          "cluster_num": -1,
          "date_cam_1": "2019-01-23T10:58:23",
          "filtre_tps": 1,
          "tps_parcours": "2018-01-01T01:41:04"
         },
         {
          "cluster_num": 0,
          "date_cam_1": "2019-01-23T10:58:29",
          "filtre_tps": 1,
          "tps_parcours": "2018-01-01T01:08:01"
         },
         {
          "cluster_num": -1,
          "date_cam_1": "2019-01-23T10:58:29",
          "filtre_tps": 0,
          "tps_parcours": "2018-01-01T02:38:59"
         },
         {
          "cluster_num": -1,
          "date_cam_1": "2019-01-23T10:58:36",
          "filtre_tps": 1,
          "tps_parcours": "2018-01-01T01:57:09"
         },
         {
          "cluster_num": -1,
          "date_cam_1": "2019-01-23T10:58:44",
          "filtre_tps": 0,
          "tps_parcours": "2018-01-01T02:15:20"
         },
         {
          "cluster_num": -1,
          "date_cam_1": "2019-01-23T10:58:54",
          "filtre_tps": 0,
          "tps_parcours": "2018-01-01T02:04:40"
         },
         {
          "cluster_num": -1,
          "date_cam_1": "2019-01-23T10:58:58",
          "filtre_tps": 0,
          "tps_parcours": "2018-01-01T03:06:33"
         },
         {
          "cluster_num": 0,
          "date_cam_1": "2019-01-23T10:59:08",
          "filtre_tps": 1,
          "tps_parcours": "2018-01-01T01:18:59"
         },
         {
          "cluster_num": -1,
          "date_cam_1": "2019-01-23T10:59:14",
          "filtre_tps": 0,
          "tps_parcours": "2018-01-01T02:09:47"
         },
         {
          "cluster_num": -1,
          "date_cam_1": "2019-01-23T10:59:23",
          "filtre_tps": 0,
          "tps_parcours": "2018-01-01T02:45:50"
         },
         {
          "cluster_num": 0,
          "date_cam_1": "2019-01-23T10:59:27",
          "filtre_tps": 1,
          "tps_parcours": "2018-01-01T01:17:47"
         },
         {
          "cluster_num": -1,
          "date_cam_1": "2019-01-23T10:59:40",
          "filtre_tps": 0,
          "tps_parcours": "2018-01-01T02:18:01"
         },
         {
          "cluster_num": -1,
          "date_cam_1": "2019-01-23T10:00:51",
          "filtre_tps": 1,
          "tps_parcours": "2018-01-01T01:48:18"
         },
         {
          "cluster_num": -1,
          "date_cam_1": "2019-01-23T10:19:54",
          "filtre_tps": 0,
          "tps_parcours": "2018-01-01T02:49:41"
         },
         {
          "cluster_num": -1,
          "date_cam_1": "2019-01-23T10:20:30",
          "filtre_tps": 0,
          "tps_parcours": "2018-01-01T14:50:21"
         },
         {
          "cluster_num": -1,
          "date_cam_1": "2019-01-23T10:23:05",
          "filtre_tps": 0,
          "tps_parcours": "2018-01-01T02:23:40"
         },
         {
          "cluster_num": 0,
          "date_cam_1": "2019-01-23T10:33:06",
          "filtre_tps": 1,
          "tps_parcours": "2018-01-01T01:17:04"
         },
         {
          "cluster_num": 0,
          "date_cam_1": "2019-01-23T10:44:58",
          "filtre_tps": 1,
          "tps_parcours": "2018-01-01T01:08:15"
         },
         {
          "cluster_num": -1,
          "date_cam_1": "2019-01-23T10:52:20",
          "filtre_tps": 1,
          "tps_parcours": "2018-01-01T01:45:52"
         },
         {
          "cluster_num": 0,
          "date_cam_1": "2019-01-23T10:53:37",
          "filtre_tps": 1,
          "tps_parcours": "2018-01-01T01:05:48"
         },
         {
          "cluster_num": 0,
          "date_cam_1": "2019-01-23T10:57:32",
          "filtre_tps": 1,
          "tps_parcours": "2018-01-01T01:09:14"
         },
         {
          "cluster_num": 0,
          "date_cam_1": "2019-01-23T10:01:45",
          "filtre_tps": 1,
          "tps_parcours": "2018-01-01T01:24:01"
         },
         {
          "cluster_num": -1,
          "date_cam_1": "2019-01-23T10:08:45",
          "filtre_tps": 1,
          "tps_parcours": "2018-01-01T01:55:51"
         },
         {
          "cluster_num": 0,
          "date_cam_1": "2019-01-23T10:12:59",
          "filtre_tps": 1,
          "tps_parcours": "2018-01-01T01:24:33"
         },
         {
          "cluster_num": -1,
          "date_cam_1": "2019-01-23T10:16:43",
          "filtre_tps": 0,
          "tps_parcours": "2018-01-01T02:54:01"
         },
         {
          "cluster_num": -1,
          "date_cam_1": "2019-01-23T10:19:43",
          "filtre_tps": 1,
          "tps_parcours": "2018-01-01T01:47:18"
         },
         {
          "cluster_num": 0,
          "date_cam_1": "2019-01-23T10:34:27",
          "filtre_tps": 1,
          "tps_parcours": "2018-01-01T01:37:22"
         },
         {
          "cluster_num": -1,
          "date_cam_1": "2019-01-23T10:37:46",
          "filtre_tps": 0,
          "tps_parcours": "2018-01-01T07:02:02"
         },
         {
          "cluster_num": -1,
          "date_cam_1": "2019-01-23T10:40:41",
          "filtre_tps": 0,
          "tps_parcours": "2018-01-01T03:20:45"
         },
         {
          "cluster_num": 0,
          "date_cam_1": "2019-01-23T10:44:22",
          "filtre_tps": 1,
          "tps_parcours": "2018-01-01T01:41:26"
         },
         {
          "cluster_num": -1,
          "date_cam_1": "2019-01-23T10:59:45",
          "filtre_tps": 0,
          "tps_parcours": "2018-01-01T02:28:29"
         },
         {
          "cluster_num": 0,
          "date_cam_1": "2019-01-23T10:59:56",
          "filtre_tps": 1,
          "tps_parcours": "2018-01-01T01:15:24"
         },
         {
          "cluster_num": -1,
          "date_cam_1": "2019-01-23T10:01:24",
          "filtre_tps": 0,
          "tps_parcours": "2018-01-01T02:32:49"
         },
         {
          "cluster_num": -1,
          "date_cam_1": "2019-01-23T10:07:15",
          "filtre_tps": 0,
          "tps_parcours": "2018-01-01T02:53:49"
         },
         {
          "cluster_num": 0,
          "date_cam_1": "2019-01-23T10:10:01",
          "filtre_tps": 1,
          "tps_parcours": "2018-01-01T01:21:52"
         },
         {
          "cluster_num": 0,
          "date_cam_1": "2019-01-23T10:10:35",
          "filtre_tps": 1,
          "tps_parcours": "2018-01-01T01:08:45"
         },
         {
          "cluster_num": 0,
          "date_cam_1": "2019-01-23T10:10:54",
          "filtre_tps": 1,
          "tps_parcours": "2018-01-01T01:08:02"
         },
         {
          "cluster_num": 0,
          "date_cam_1": "2019-01-23T10:15:18",
          "filtre_tps": 1,
          "tps_parcours": "2018-01-01T01:05:00"
         },
         {
          "cluster_num": -1,
          "date_cam_1": "2019-01-23T10:16:10",
          "filtre_tps": 0,
          "tps_parcours": "2018-01-01T02:05:54"
         },
         {
          "cluster_num": 0,
          "date_cam_1": "2019-01-23T10:16:49",
          "filtre_tps": 1,
          "tps_parcours": "2018-01-01T01:05:34"
         },
         {
          "cluster_num": 0,
          "date_cam_1": "2019-01-23T10:19:17",
          "filtre_tps": 1,
          "tps_parcours": "2018-01-01T01:19:02"
         },
         {
          "cluster_num": 0,
          "date_cam_1": "2019-01-23T10:22:05",
          "filtre_tps": 1,
          "tps_parcours": "2018-01-01T01:05:33"
         },
         {
          "cluster_num": -1,
          "date_cam_1": "2019-01-23T10:22:17",
          "filtre_tps": 0,
          "tps_parcours": "2018-01-01T02:40:00"
         },
         {
          "cluster_num": 0,
          "date_cam_1": "2019-01-23T10:25:17",
          "filtre_tps": 1,
          "tps_parcours": "2018-01-01T01:15:52"
         },
         {
          "cluster_num": 0,
          "date_cam_1": "2019-01-23T10:26:14",
          "filtre_tps": 1,
          "tps_parcours": "2018-01-01T01:23:50"
         },
         {
          "cluster_num": 0,
          "date_cam_1": "2019-01-23T10:27:31",
          "filtre_tps": 1,
          "tps_parcours": "2018-01-01T01:16:28"
         },
         {
          "cluster_num": 0,
          "date_cam_1": "2019-01-23T10:31:39",
          "filtre_tps": 1,
          "tps_parcours": "2018-01-01T01:19:52"
         },
         {
          "cluster_num": 0,
          "date_cam_1": "2019-01-23T10:35:16",
          "filtre_tps": 1,
          "tps_parcours": "2018-01-01T01:42:44"
         },
         {
          "cluster_num": -1,
          "date_cam_1": "2019-01-23T10:35:21",
          "filtre_tps": 0,
          "tps_parcours": "2018-01-01T02:08:23"
         },
         {
          "cluster_num": -1,
          "date_cam_1": "2019-01-23T10:36:38",
          "filtre_tps": 1,
          "tps_parcours": "2018-01-01T01:56:00"
         },
         {
          "cluster_num": 0,
          "date_cam_1": "2019-01-23T10:37:22",
          "filtre_tps": 1,
          "tps_parcours": "2018-01-01T01:05:23"
         },
         {
          "cluster_num": -1,
          "date_cam_1": "2019-01-23T10:39:18",
          "filtre_tps": 0,
          "tps_parcours": "2018-01-01T02:19:36"
         },
         {
          "cluster_num": 0,
          "date_cam_1": "2019-01-23T10:39:37",
          "filtre_tps": 1,
          "tps_parcours": "2018-01-01T00:53:34"
         },
         {
          "cluster_num": 0,
          "date_cam_1": "2019-01-23T10:40:16",
          "filtre_tps": 1,
          "tps_parcours": "2018-01-01T01:18:58"
         },
         {
          "cluster_num": 0,
          "date_cam_1": "2019-01-23T10:53:51",
          "filtre_tps": 1,
          "tps_parcours": "2018-01-01T01:11:55"
         },
         {
          "cluster_num": -1,
          "date_cam_1": "2019-01-23T10:58:14",
          "filtre_tps": 0,
          "tps_parcours": "2018-01-01T02:21:13"
         },
         {
          "cluster_num": 0,
          "date_cam_1": "2019-01-23T10:28:01",
          "filtre_tps": 1,
          "tps_parcours": "2018-01-01T01:08:06"
         },
         {
          "cluster_num": -1,
          "date_cam_1": "2019-01-23T10:35:04",
          "filtre_tps": 0,
          "tps_parcours": "2018-01-01T02:01:26"
         },
         {
          "cluster_num": -1,
          "date_cam_1": "2019-01-23T10:44:19",
          "filtre_tps": 0,
          "tps_parcours": "2018-01-01T02:18:34"
         },
         {
          "cluster_num": 0,
          "date_cam_1": "2019-01-23T10:57:22",
          "filtre_tps": 1,
          "tps_parcours": "2018-01-01T01:39:29"
         }
        ]
       },
       "encoding": {
        "color": {
         "field": "cluster_num",
         "type": "nominal"
        },
        "shape": {
         "field": "filtre_tps",
         "type": "nominal"
        },
        "tooltip": {
         "field": "tps_parcours",
         "timeUnit": "hoursminutes",
         "type": "temporal"
        },
        "x": {
         "field": "date_cam_1",
         "type": "temporal"
        },
        "y": {
         "field": "tps_parcours",
         "timeUnit": "hoursminutes",
         "type": "temporal"
        }
       },
       "mark": "point",
       "selection": {
        "selector4379": {
         "bind": "scales",
         "encodings": [
          "x",
          "y"
         ],
         "mark": {
          "fill": "#333",
          "fillOpacity": 0.125,
          "stroke": "white"
         },
         "on": "[mousedown, window:mouseup] > window:mousemove!",
         "resolve": "global",
         "translate": "[mousedown, window:mouseup] > window:mousemove!",
         "type": "interval",
         "zoom": "wheel!"
        }
       },
       "width": 600
      },
      "image/png": "[encoded data removed]",
      "text/plain": [
       "<VegaLite 2 object>\n",
       "\n",
       "If you see this message, it means the renderer has not been properly enabled\n",
       "for the frontend that you are using. For more information, see\n",
       "https://altair-viz.github.io/user_guide/troubleshooting.html\n"
      ]
     },
     "execution_count": 88,
     "metadata": {},
     "output_type": "execute_result"
    }
   ],
   "source": [
    "#test cluster\n",
    "od='N10-A63'\n",
    "date_debut='2019-01-23 10:00:00'\n",
    "datefin='2019-01-23 11:00:00'\n",
    "delai=1200\n",
    "coeff=4\n",
    "df_pl_ok=dico_df_transit['df_transit_marge15'].loc[(dico_df_transit['df_transit_marge15']['o_d']==od) &\n",
    "                                   (dico_df_transit['df_transit_marge15']['date_cam_1'].between(pd.to_datetime(date_debut),pd.to_datetime(datefin)))]\n",
    "donnees_src=df_pl_ok.loc[:,['date_cam_1','tps_parcours']].copy() #isoler les données necessaires\n",
    "liste_valeur=donnees_src.tps_parcours.apply(lambda x : ((pd.to_datetime('2018-01-01')+x)-pd.Timestamp(\"1970-01-01\")) // pd.Timedelta('1s')).tolist()#convertir les temps en integer\n",
    "liste_date=donnees_src.date_cam_1.apply(lambda x :(x - pd.Timestamp(\"1970-01-01\")) // pd.Timedelta('1s')).tolist()\n",
    "liste=[[liste_date[i],liste_valeur[i]] for i in range(len(liste_valeur))]\n",
    "if len(liste_valeur)<5 : #si il n'y a pas bcp de pl on arrete ; pourraitfair l'objet d'un parametre\n",
    "    raise ClusterError()\n",
    "#faire tourner la clusterisation et recupérer le label (i.e l'identifiant cluster) et le nombre de cluster\n",
    "clustering=DBSCAN(eps=delai, min_samples=len(liste_valeur)/coeff).fit(liste)\n",
    "\n",
    "labels = clustering.labels_\n",
    "n_clusters_ = len(set(labels)) - (1 if -1 in labels else 0)\n",
    "# A AMELIORER EN CREANT UNE ERREUR PERSONALISEE SI ON OBTIENT  CLUSTER\n",
    "if n_clusters_== 0 :\n",
    "    print('vlaueError')\n",
    "#mettre en forme au format pandas\n",
    "results = pd.DataFrame(pd.DataFrame([donnees_src.index,labels]).T)\n",
    "results.columns = ['index_base', 'cluster_num']\n",
    "results = pd.merge(results,df_pl_ok, left_on='index_base', right_index=True )\n",
    "graph_results=results[['date_cam_1','tps_parcours','filtre_tps','cluster_num']].copy()\n",
    "graph_results.tps_parcours=pd.to_datetime('2018-01-01')+graph_results.tps_parcours\n",
    "alt.Chart(graph_results).mark_point().encode(\n",
    "                                x='date_cam_1',\n",
    "                                y='hoursminutes(tps_parcours)',\n",
    "                                tooltip='hoursminutes(tps_parcours)',\n",
    "                                color='cluster_num:N',\n",
    "                                shape='filtre_tps:N').interactive().properties(width=600)"
   ]
  },
  {
   "cell_type": "code",
   "execution_count": 77,
   "metadata": {},
   "outputs": [
    {
     "data": {
      "text/html": [
       "<div>\n",
       "<style scoped>\n",
       "    .dataframe tbody tr th:only-of-type {\n",
       "        vertical-align: middle;\n",
       "    }\n",
       "\n",
       "    .dataframe tbody tr th {\n",
       "        vertical-align: top;\n",
       "    }\n",
       "\n",
       "    .dataframe thead th {\n",
       "        text-align: right;\n",
       "    }\n",
       "</style>\n",
       "<table border=\"1\" class=\"dataframe\">\n",
       "  <thead>\n",
       "    <tr style=\"text-align: right;\">\n",
       "      <th></th>\n",
       "      <th>delai</th>\n",
       "      <th>nb_pt_min</th>\n",
       "      <th>temps_etudie</th>\n",
       "      <th>trajet</th>\n",
       "    </tr>\n",
       "  </thead>\n",
       "  <tbody>\n",
       "    <tr>\n",
       "      <th>0</th>\n",
       "      <td>600</td>\n",
       "      <td>4</td>\n",
       "      <td>15</td>\n",
       "      <td>[A10-A63, A89-A63, A62-A63, A10-A62, N10-A62, A89-A62, A10-A89, N10-A89, A10-A660, N10-A660, A89-A660, A62-A660]</td>\n",
       "    </tr>\n",
       "    <tr>\n",
       "      <th>1</th>\n",
       "      <td>1200</td>\n",
       "      <td>4</td>\n",
       "      <td>60</td>\n",
       "      <td>[A10-A63, N10-A63, A89-A63, A62-A63, A10-A62, N10-A62, A89-A62, A10-A89, N10-A89, A10-A660, N10-A660, A89-A660, A62-A660]</td>\n",
       "    </tr>\n",
       "    <tr>\n",
       "      <th>2</th>\n",
       "      <td>800</td>\n",
       "      <td>3</td>\n",
       "      <td>15</td>\n",
       "      <td>[A63-A10, A63-N10, A63-A89, A63-A62, A62-A10, A62-N10, A62-A89, A89-A10, A89-N10, A660-A10, A660-N10, A660-A89, A660-A62]</td>\n",
       "    </tr>\n",
       "    <tr>\n",
       "      <th>3</th>\n",
       "      <td>1000</td>\n",
       "      <td>4</td>\n",
       "      <td>60</td>\n",
       "      <td>[A63-A10, A63-N10, A63-A89, A63-A62, A62-A10, A62-N10, A62-A89, A89-A10, A89-N10, A660-A10, A660-N10, A660-A89, A660-A62]</td>\n",
       "    </tr>\n",
       "    <tr>\n",
       "      <th>4</th>\n",
       "      <td>1000</td>\n",
       "      <td>4</td>\n",
       "      <td>15</td>\n",
       "      <td>N10-A63</td>\n",
       "    </tr>\n",
       "  </tbody>\n",
       "</table>\n",
       "</div>"
      ],
      "text/plain": [
       "   delai  nb_pt_min  temps_etudie  \\\n",
       "0    600          4            15   \n",
       "1   1200          4            60   \n",
       "2    800          3            15   \n",
       "3   1000          4            60   \n",
       "4   1000          4            15   \n",
       "\n",
       "                                                                                                                      trajet  \n",
       "0           [A10-A63, A89-A63, A62-A63, A10-A62, N10-A62, A89-A62, A10-A89, N10-A89, A10-A660, N10-A660, A89-A660, A62-A660]  \n",
       "1  [A10-A63, N10-A63, A89-A63, A62-A63, A10-A62, N10-A62, A89-A62, A10-A89, N10-A89, A10-A660, N10-A660, A89-A660, A62-A660]  \n",
       "2  [A63-A10, A63-N10, A63-A89, A63-A62, A62-A10, A62-N10, A62-A89, A89-A10, A89-N10, A660-A10, A660-N10, A660-A89, A660-A62]  \n",
       "3  [A63-A10, A63-N10, A63-A89, A63-A62, A62-A10, A62-N10, A62-A89, A89-A10, A89-N10, A660-A10, A660-N10, A660-A89, A660-A62]  \n",
       "4                                                                                                                    N10-A63  "
      ]
     },
     "execution_count": 77,
     "metadata": {},
     "output_type": "execute_result"
    }
   ],
   "source": [
    "t.param_cluster"
   ]
  },
  {
   "cell_type": "code",
   "execution_count": 99,
   "metadata": {},
   "outputs": [
    {
     "data": {
      "text/plain": [
       "{'toto0': 0, 'toto45': 45, 'toto600': 600}"
      ]
     },
     "execution_count": 99,
     "metadata": {},
     "output_type": "execute_result"
    }
   ],
   "source": [
    "{'toto'+str(i):i for i in [0,45,600]}"
   ]
  },
  {
   "cell_type": "code",
   "execution_count": null,
   "metadata": {},
   "outputs": [],
   "source": []
  }
 ],
 "metadata": {
  "kernelspec": {
   "display_name": "Python 3",
   "language": "python",
   "name": "python3"
  },
  "language_info": {
   "codemirror_mode": {
    "name": "ipython",
    "version": 3
   },
   "file_extension": ".py",
   "mimetype": "text/x-python",
   "name": "python",
   "nbconvert_exporter": "python",
   "pygments_lexer": "ipython3",
   "version": "3.7.0"
  }
 },
 "nbformat": 4,
 "nbformat_minor": 2
}
