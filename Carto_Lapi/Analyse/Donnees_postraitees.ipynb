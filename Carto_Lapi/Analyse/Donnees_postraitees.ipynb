{
 "cells": [
  {
   "cell_type": "markdown",
   "metadata": {},
   "source": [
    "# Notebook de test des données lapi post-traitees"
   ]
  },
  {
   "cell_type": "code",
   "execution_count": 214,
   "metadata": {},
   "outputs": [
    {
     "name": "stdout",
     "output_type": "stream",
     "text": [
      "The autoreload extension is already loaded. To reload it, use:\n",
      "  %reload_ext autoreload\n"
     ]
    }
   ],
   "source": [
    "%load_ext autoreload\n",
    "%autoreload \n",
    "import sys #c'est pas propre mais pour le moment pour importer mes modules perso dans le notebook je ne sais pas faire\n",
    "sys.path.append(r'C:\\Users\\martin.schoreisz\\git\\Outils\\Outils\\Martin_Perso')\n",
    "import Connexion_Transfert as ct\n",
    "import donnees_posttraitees as t\n",
    "import graphs as g\n",
    "import pandas as pd\n",
    "import geopandas as gpd\n",
    "import numpy as np\n",
    "import altair as alt\n",
    "import datetime as dt\n",
    "pd.set_option('display.max_colwidth', 1000)\n",
    "pd.set_option('display.max_columns', 500)\n",
    "#pd.set_option('display.max_rows', 500)\n",
    "import os, math, re\n",
    "from sklearn.cluster import DBSCAN"
   ]
  },
  {
   "cell_type": "markdown",
   "metadata": {},
   "source": [
    "# 1. import des données, traitement de mise en forme\n",
    "## 1.1 Import\n",
    "Les données sont importées sur la période du 24/01/19 au 23/02/19, sur laquelle il n'y a pas de manque de données à priori"
   ]
  },
  {
   "cell_type": "code",
   "execution_count": 2,
   "metadata": {},
   "outputs": [
    {
     "name": "stdout",
     "output_type": "stream",
     "text": [
      "Wall time: 1min 20s\n"
     ]
    }
   ],
   "source": [
    "%time df_passages, df_plaques, df_immat=t.ouvrir_fichier_lapi_final('2019-01-31 00:00:00','2019-02-11 23:59:59')"
   ]
  },
  {
   "cell_type": "markdown",
   "metadata": {},
   "source": [
    "## 1.2. Suppression des doublons"
   ]
  },
  {
   "cell_type": "markdown",
   "metadata": {},
   "source": [
    "### 1.2.1 Doublons"
   ]
  },
  {
   "cell_type": "code",
   "execution_count": 3,
   "metadata": {},
   "outputs": [],
   "source": [
    "%time df_passages=t.supprimer_doublons(df_passages)"
   ]
  },
  {
   "cell_type": "markdown",
   "metadata": {},
   "source": [
    "### 1.2.2 passages proches"
   ]
  },
  {
   "cell_type": "code",
   "execution_count": 211,
   "metadata": {},
   "outputs": [
    {
     "name": "stdout",
     "output_type": "stream",
     "text": [
      "Wall time: 48 s\n"
     ]
    }
   ],
   "source": [
    "%time groupe_pl_rappro, groupe_pl=t.passages_proches(df_passages4)"
   ]
  },
  {
   "cell_type": "code",
   "execution_count": 212,
   "metadata": {},
   "outputs": [
    {
     "data": {
      "text/html": [
       "<div>\n",
       "<style scoped>\n",
       "    .dataframe tbody tr th:only-of-type {\n",
       "        vertical-align: middle;\n",
       "    }\n",
       "\n",
       "    .dataframe tbody tr th {\n",
       "        vertical-align: top;\n",
       "    }\n",
       "\n",
       "    .dataframe thead th {\n",
       "        text-align: right;\n",
       "    }\n",
       "</style>\n",
       "<table border=\"1\" class=\"dataframe\">\n",
       "  <thead>\n",
       "    <tr style=\"text-align: right;\">\n",
       "      <th></th>\n",
       "      <th>camera_id</th>\n",
       "      <th>created</th>\n",
       "      <th>state</th>\n",
       "      <th>fiability</th>\n",
       "      <th>erreur_tps_passage</th>\n",
       "      <th>liste_passag_faux</th>\n",
       "      <th>liste_created_faux</th>\n",
       "      <th>fiability_faux</th>\n",
       "    </tr>\n",
       "    <tr>\n",
       "      <th>immat</th>\n",
       "      <th></th>\n",
       "      <th></th>\n",
       "      <th></th>\n",
       "      <th></th>\n",
       "      <th></th>\n",
       "      <th></th>\n",
       "      <th></th>\n",
       "      <th></th>\n",
       "    </tr>\n",
       "  </thead>\n",
       "  <tbody>\n",
       "    <tr>\n",
       "      <th>001b3fc1839070936df83443270d62a53becc9db</th>\n",
       "      <td>(4, 10, 5, 6, 3)</td>\n",
       "      <td>(2019-01-31 09:49:36, 2019-01-31 09:51:11, 2019-01-31 10:01:30, 2019-02-11 02:56:16, 2019-02-11 03:08:05)</td>\n",
       "      <td>FR</td>\n",
       "      <td>(99, 99, 99, 99, 99)</td>\n",
       "      <td>True</td>\n",
       "      <td>(4, 10)</td>\n",
       "      <td>(2019-01-31 09:49:36, 2019-01-31 09:51:11)</td>\n",
       "      <td>(99, 99)</td>\n",
       "    </tr>\n",
       "    <tr>\n",
       "      <th>0028f8fa0d1dc22e6eb4c1c57d0caeb1efb0fbfb</th>\n",
       "      <td>(10, 4, 5, 11, 12, 6, 3)</td>\n",
       "      <td>(2019-02-01 06:33:08, 2019-02-01 06:34:47, 2019-02-01 06:47:25, 2019-02-01 07:13:12, 2019-02-04 15:58:51, 2019-02-04 16:19:22, 2019-02-04 16:32:22)</td>\n",
       "      <td>PL</td>\n",
       "      <td>(99, 99, 99, 99, 89, 79, 99)</td>\n",
       "      <td>True</td>\n",
       "      <td>(10, 4)</td>\n",
       "      <td>(2019-02-01 06:33:08, 2019-02-01 06:34:47)</td>\n",
       "      <td>(99, 99)</td>\n",
       "    </tr>\n",
       "    <tr>\n",
       "      <th>005728f228714ee3a531f3b6cae08f9c8c2f21e7</th>\n",
       "      <td>(3, 9, 10, 4, 7, 8, 6, 3, 4, 5, 6, 3, 4, 12, 3, 9, 4, 10, 7, 8, 6, 3, 4, 3, 9, 4, 10, 7, 8, 7, 8, 6, 3, 4, 3, 9, 4, 10, 5, 6, 3, 4, 3, 9)</td>\n",
       "      <td>(2019-01-31 03:07:45, 2019-01-31 03:18:46, 2019-01-31 08:01:01, 2019-01-31 08:11:26, 2019-01-31 09:56:02, 2019-01-31 14:46:09, 2019-02-01 05:14:30, 2019-02-01 05:26:52, 2019-02-01 06:58:54, 2019-02-01 07:12:15, 2019-02-01 08:22:55, 2019-02-01 08:49:18, 2019-02-01 10:15:13, 2019-02-01 15:19:31, 2019-02-04 05:32:59, 2019-02-04 05:44:15, 2019-02-04 08:56:50, 2019-02-04 09:07:28, 2019-02-04 10:41:33, 2019-02-04 15:51:48, 2019-02-05 04:38:55, 2019-02-05 04:50:53, 2019-02-05 06:38:37, 2019-02-06 05:34:44, 2019-02-06 05:46:25, 2019-02-06 09:11:02, 2019-02-06 09:22:20, 2019-02-07 04:45:32, 2019-02-07 09:49:13, 2019-02-07 11:16:00, 2019-02-07 14:38:11, 2019-02-08 04:16:42, 2019-02-08 04:28:55, 2019-02-08 06:02:46, 2019-02-08 07:55:51, 2019-02-08 08:19:29, 2019-02-08 12:48:02, 2019-02-08 12:58:30, 2019-02-08 12:59:39, 2019-02-08 14:00:29, 2019-02-08 14:12:31, 2019-02-08 15:46:47, 2019-02-11 04:20:11, 2019-02-11 04:30:08)</td>\n",
       "      <td>FR</td>\n",
       "      <td>(99, 99, 99, 99, 99, 99, 99, 89, 99, 99, 99, 99, 99, 99, 99, 99, 89, 99, 99, 99, 99, 99, 99, 99, 99, 99, 99, 99, 99, 89, 99, 99, 99, 68, 99, 99, 89, 99, 99, 99, 99, 89, 99, 99)</td>\n",
       "      <td>True</td>\n",
       "      <td>(10, 5)</td>\n",
       "      <td>(2019-02-08 12:58:30, 2019-02-08 12:59:39)</td>\n",
       "      <td>(99, 99)</td>\n",
       "    </tr>\n",
       "    <tr>\n",
       "      <th>005a9f27ff36441aab778af90e3d145f0d12cf60</th>\n",
       "      <td>(4, 18, 9, 19, 18, 3, 9, 3, 3, 6, 10, 10, 4, 4, 7, 18, 3, 18, 3, 4, 3, 3, 8, 12, 6, 6, 10, 6, 18, 12, 12, 4, 5, 6, 3, 10, 3, 3, 18, 3, 13, 13, 18, 3, 8, 9, 12, 4, 3, 4, 5, 15, 12, 18, 6, 12, 7, 3, 18, 12, 5)</td>\n",
       "      <td>(2019-01-31 09:03:37, 2019-01-31 09:03:59, 2019-01-31 09:09:02, 2019-01-31 10:11:03, 2019-01-31 10:40:07, 2019-01-31 13:36:21, 2019-02-01 08:15:30, 2019-02-01 08:25:27, 2019-02-01 08:46:15, 2019-02-01 09:04:50, 2019-02-01 09:06:34, 2019-02-01 09:18:59, 2019-02-01 13:23:39, 2019-02-01 14:34:16, 2019-02-01 15:28:48, 2019-02-02 15:20:09, 2019-02-03 11:41:58, 2019-02-03 16:10:12, 2019-02-04 04:25:40, 2019-02-04 09:22:44, 2019-02-04 09:40:17, 2019-02-04 10:12:15, 2019-02-04 11:39:46, 2019-02-04 14:30:28, 2019-02-05 11:56:10, 2019-02-05 14:03:54, 2019-02-05 16:13:16, 2019-02-06 07:42:59, 2019-02-06 08:57:28, 2019-02-06 09:56:46, 2019-02-06 11:34:20, 2019-02-06 13:55:23, 2019-02-06 13:59:20, 2019-02-06 16:28:47, 2019-02-07 07:36:04, 2019-02-07 07:50:05, 2019-02-07 10:36:38, 2019-02-07 11:11:06, 2019-02-07 14:10:41, 2019-02-08 08:59:31, 2019-02-08 09:21:07, 2019-02-08 09:27:05, 2019-02-08 11:43:00, 2019-02-08 11:50:02, 2019-02-08 12:07:38, 2019-02-08 12:54:36, 2019-02-08 13:25:37, 2019-02-...</td>\n",
       "      <td>BE</td>\n",
       "      <td>(79, 89, 79, 89, 99, 79, 88, 99, 88, 79, 99, 89, 89, 99, 79, 88, 88, 99, 99, 89, 89, 99, 89, 99, 89, 88, 99, 89, 79, 79, 99, 89, 99, 89, 79, 89, 88, 89, 89, 99, 99, 89, 89, 99, 89, 89, 88, 99, 89, 79, 79, 79, 88, 79, 99, 79, 89, 79, 88, 89, 99)</td>\n",
       "      <td>True</td>\n",
       "      <td>(4, 18, 6, 10, 4, 5, 3, 18)</td>\n",
       "      <td>(2019-01-31 09:03:37, 2019-01-31 09:03:59, 2019-02-01 09:04:50, 2019-02-01 09:06:34, 2019-02-06 13:55:23, 2019-02-06 13:59:20, 2019-02-11 15:33:47, 2019-02-11 15:38:17)</td>\n",
       "      <td>(79, 89, 79, 99, 89, 99, 79, 88)</td>\n",
       "    </tr>\n",
       "    <tr>\n",
       "      <th>00622c245465b6ea42b3b03da48b2776f93f8754</th>\n",
       "      <td>(6, 2, 9, 4, 10, 5, 11)</td>\n",
       "      <td>(2019-02-07 12:26:06, 2019-02-07 14:50:28, 2019-02-07 15:05:28, 2019-02-08 07:30:18, 2019-02-08 07:30:37, 2019-02-08 07:42:42, 2019-02-08 08:07:03)</td>\n",
       "      <td>BE/DE/PL</td>\n",
       "      <td>(99, 34, 99, 99, 99, 99, 99)</td>\n",
       "      <td>True</td>\n",
       "      <td>(4, 10)</td>\n",
       "      <td>(2019-02-08 07:30:18, 2019-02-08 07:30:37)</td>\n",
       "      <td>(99, 99)</td>\n",
       "    </tr>\n",
       "  </tbody>\n",
       "</table>\n",
       "</div>"
      ],
      "text/plain": [
       "                                                                                                                                                                                                                                                camera_id  \\\n",
       "immat                                                                                                                                                                                                                                                       \n",
       "001b3fc1839070936df83443270d62a53becc9db                                                                                                                                                                                                 (4, 10, 5, 6, 3)   \n",
       "0028f8fa0d1dc22e6eb4c1c57d0caeb1efb0fbfb                                                                                                                                                                                         (10, 4, 5, 11, 12, 6, 3)   \n",
       "005728f228714ee3a531f3b6cae08f9c8c2f21e7                                                                        (3, 9, 10, 4, 7, 8, 6, 3, 4, 5, 6, 3, 4, 12, 3, 9, 4, 10, 7, 8, 6, 3, 4, 3, 9, 4, 10, 7, 8, 7, 8, 6, 3, 4, 3, 9, 4, 10, 5, 6, 3, 4, 3, 9)   \n",
       "005a9f27ff36441aab778af90e3d145f0d12cf60  (4, 18, 9, 19, 18, 3, 9, 3, 3, 6, 10, 10, 4, 4, 7, 18, 3, 18, 3, 4, 3, 3, 8, 12, 6, 6, 10, 6, 18, 12, 12, 4, 5, 6, 3, 10, 3, 3, 18, 3, 13, 13, 18, 3, 8, 9, 12, 4, 3, 4, 5, 15, 12, 18, 6, 12, 7, 3, 18, 12, 5)   \n",
       "00622c245465b6ea42b3b03da48b2776f93f8754                                                                                                                                                                                          (6, 2, 9, 4, 10, 5, 11)   \n",
       "\n",
       "                                                                                                                                                                                                                                                                                                                                                                                                                                                                                                                                                                                                                                                                                                                                                                                                                                                                                                                                                                                                                                                                          created  \\\n",
       "immat                                                                                                                                                                                                                                                                                                                                                                                                                                                                                                                                                                                                                                                                                                                                                                                                                                                                                                                                                                                                                                                                               \n",
       "001b3fc1839070936df83443270d62a53becc9db                                                                                                                                                                                                                                                                                                                                                                                                                                                                                                                                                                                                                                                                                                                                                                                                                                                                                                                                (2019-01-31 09:49:36, 2019-01-31 09:51:11, 2019-01-31 10:01:30, 2019-02-11 02:56:16, 2019-02-11 03:08:05)   \n",
       "0028f8fa0d1dc22e6eb4c1c57d0caeb1efb0fbfb                                                                                                                                                                                                                                                                                                                                                                                                                                                                                                                                                                                                                                                                                                                                                                                                                                                                                      (2019-02-01 06:33:08, 2019-02-01 06:34:47, 2019-02-01 06:47:25, 2019-02-01 07:13:12, 2019-02-04 15:58:51, 2019-02-04 16:19:22, 2019-02-04 16:32:22)   \n",
       "005728f228714ee3a531f3b6cae08f9c8c2f21e7                                                                             (2019-01-31 03:07:45, 2019-01-31 03:18:46, 2019-01-31 08:01:01, 2019-01-31 08:11:26, 2019-01-31 09:56:02, 2019-01-31 14:46:09, 2019-02-01 05:14:30, 2019-02-01 05:26:52, 2019-02-01 06:58:54, 2019-02-01 07:12:15, 2019-02-01 08:22:55, 2019-02-01 08:49:18, 2019-02-01 10:15:13, 2019-02-01 15:19:31, 2019-02-04 05:32:59, 2019-02-04 05:44:15, 2019-02-04 08:56:50, 2019-02-04 09:07:28, 2019-02-04 10:41:33, 2019-02-04 15:51:48, 2019-02-05 04:38:55, 2019-02-05 04:50:53, 2019-02-05 06:38:37, 2019-02-06 05:34:44, 2019-02-06 05:46:25, 2019-02-06 09:11:02, 2019-02-06 09:22:20, 2019-02-07 04:45:32, 2019-02-07 09:49:13, 2019-02-07 11:16:00, 2019-02-07 14:38:11, 2019-02-08 04:16:42, 2019-02-08 04:28:55, 2019-02-08 06:02:46, 2019-02-08 07:55:51, 2019-02-08 08:19:29, 2019-02-08 12:48:02, 2019-02-08 12:58:30, 2019-02-08 12:59:39, 2019-02-08 14:00:29, 2019-02-08 14:12:31, 2019-02-08 15:46:47, 2019-02-11 04:20:11, 2019-02-11 04:30:08)   \n",
       "005a9f27ff36441aab778af90e3d145f0d12cf60  (2019-01-31 09:03:37, 2019-01-31 09:03:59, 2019-01-31 09:09:02, 2019-01-31 10:11:03, 2019-01-31 10:40:07, 2019-01-31 13:36:21, 2019-02-01 08:15:30, 2019-02-01 08:25:27, 2019-02-01 08:46:15, 2019-02-01 09:04:50, 2019-02-01 09:06:34, 2019-02-01 09:18:59, 2019-02-01 13:23:39, 2019-02-01 14:34:16, 2019-02-01 15:28:48, 2019-02-02 15:20:09, 2019-02-03 11:41:58, 2019-02-03 16:10:12, 2019-02-04 04:25:40, 2019-02-04 09:22:44, 2019-02-04 09:40:17, 2019-02-04 10:12:15, 2019-02-04 11:39:46, 2019-02-04 14:30:28, 2019-02-05 11:56:10, 2019-02-05 14:03:54, 2019-02-05 16:13:16, 2019-02-06 07:42:59, 2019-02-06 08:57:28, 2019-02-06 09:56:46, 2019-02-06 11:34:20, 2019-02-06 13:55:23, 2019-02-06 13:59:20, 2019-02-06 16:28:47, 2019-02-07 07:36:04, 2019-02-07 07:50:05, 2019-02-07 10:36:38, 2019-02-07 11:11:06, 2019-02-07 14:10:41, 2019-02-08 08:59:31, 2019-02-08 09:21:07, 2019-02-08 09:27:05, 2019-02-08 11:43:00, 2019-02-08 11:50:02, 2019-02-08 12:07:38, 2019-02-08 12:54:36, 2019-02-08 13:25:37, 2019-02-...   \n",
       "00622c245465b6ea42b3b03da48b2776f93f8754                                                                                                                                                                                                                                                                                                                                                                                                                                                                                                                                                                                                                                                                                                                                                                                                                                                                                      (2019-02-07 12:26:06, 2019-02-07 14:50:28, 2019-02-07 15:05:28, 2019-02-08 07:30:18, 2019-02-08 07:30:37, 2019-02-08 07:42:42, 2019-02-08 08:07:03)   \n",
       "\n",
       "                                             state  \\\n",
       "immat                                                \n",
       "001b3fc1839070936df83443270d62a53becc9db        FR   \n",
       "0028f8fa0d1dc22e6eb4c1c57d0caeb1efb0fbfb        PL   \n",
       "005728f228714ee3a531f3b6cae08f9c8c2f21e7        FR   \n",
       "005a9f27ff36441aab778af90e3d145f0d12cf60        BE   \n",
       "00622c245465b6ea42b3b03da48b2776f93f8754  BE/DE/PL   \n",
       "\n",
       "                                                                                                                                                                                                                                                                                     fiability  \\\n",
       "immat                                                                                                                                                                                                                                                                                            \n",
       "001b3fc1839070936df83443270d62a53becc9db                                                                                                                                                                                                                                  (99, 99, 99, 99, 99)   \n",
       "0028f8fa0d1dc22e6eb4c1c57d0caeb1efb0fbfb                                                                                                                                                                                                                          (99, 99, 99, 99, 89, 79, 99)   \n",
       "005728f228714ee3a531f3b6cae08f9c8c2f21e7                                                                      (99, 99, 99, 99, 99, 99, 99, 89, 99, 99, 99, 99, 99, 99, 99, 99, 89, 99, 99, 99, 99, 99, 99, 99, 99, 99, 99, 99, 99, 89, 99, 99, 99, 68, 99, 99, 89, 99, 99, 99, 99, 89, 99, 99)   \n",
       "005a9f27ff36441aab778af90e3d145f0d12cf60  (79, 89, 79, 89, 99, 79, 88, 99, 88, 79, 99, 89, 89, 99, 79, 88, 88, 99, 99, 89, 89, 99, 89, 99, 89, 88, 99, 89, 79, 79, 99, 89, 99, 89, 79, 89, 88, 89, 89, 99, 99, 89, 89, 99, 89, 89, 88, 99, 89, 79, 79, 79, 88, 79, 99, 79, 89, 79, 88, 89, 99)   \n",
       "00622c245465b6ea42b3b03da48b2776f93f8754                                                                                                                                                                                                                          (99, 34, 99, 99, 99, 99, 99)   \n",
       "\n",
       "                                          erreur_tps_passage  \\\n",
       "immat                                                          \n",
       "001b3fc1839070936df83443270d62a53becc9db                True   \n",
       "0028f8fa0d1dc22e6eb4c1c57d0caeb1efb0fbfb                True   \n",
       "005728f228714ee3a531f3b6cae08f9c8c2f21e7                True   \n",
       "005a9f27ff36441aab778af90e3d145f0d12cf60                True   \n",
       "00622c245465b6ea42b3b03da48b2776f93f8754                True   \n",
       "\n",
       "                                                    liste_passag_faux  \\\n",
       "immat                                                                   \n",
       "001b3fc1839070936df83443270d62a53becc9db                      (4, 10)   \n",
       "0028f8fa0d1dc22e6eb4c1c57d0caeb1efb0fbfb                      (10, 4)   \n",
       "005728f228714ee3a531f3b6cae08f9c8c2f21e7                      (10, 5)   \n",
       "005a9f27ff36441aab778af90e3d145f0d12cf60  (4, 18, 6, 10, 4, 5, 3, 18)   \n",
       "00622c245465b6ea42b3b03da48b2776f93f8754                      (4, 10)   \n",
       "\n",
       "                                                                                                                                                                                                liste_created_faux  \\\n",
       "immat                                                                                                                                                                                                                \n",
       "001b3fc1839070936df83443270d62a53becc9db                                                                                                                                (2019-01-31 09:49:36, 2019-01-31 09:51:11)   \n",
       "0028f8fa0d1dc22e6eb4c1c57d0caeb1efb0fbfb                                                                                                                                (2019-02-01 06:33:08, 2019-02-01 06:34:47)   \n",
       "005728f228714ee3a531f3b6cae08f9c8c2f21e7                                                                                                                                (2019-02-08 12:58:30, 2019-02-08 12:59:39)   \n",
       "005a9f27ff36441aab778af90e3d145f0d12cf60  (2019-01-31 09:03:37, 2019-01-31 09:03:59, 2019-02-01 09:04:50, 2019-02-01 09:06:34, 2019-02-06 13:55:23, 2019-02-06 13:59:20, 2019-02-11 15:33:47, 2019-02-11 15:38:17)   \n",
       "00622c245465b6ea42b3b03da48b2776f93f8754                                                                                                                                (2019-02-08 07:30:18, 2019-02-08 07:30:37)   \n",
       "\n",
       "                                                            fiability_faux  \n",
       "immat                                                                       \n",
       "001b3fc1839070936df83443270d62a53becc9db                          (99, 99)  \n",
       "0028f8fa0d1dc22e6eb4c1c57d0caeb1efb0fbfb                          (99, 99)  \n",
       "005728f228714ee3a531f3b6cae08f9c8c2f21e7                          (99, 99)  \n",
       "005a9f27ff36441aab778af90e3d145f0d12cf60  (79, 89, 79, 99, 89, 99, 79, 88)  \n",
       "00622c245465b6ea42b3b03da48b2776f93f8754                          (99, 99)  "
      ]
     },
     "execution_count": 212,
     "metadata": {},
     "output_type": "execute_result"
    }
   ],
   "source": [
    "groupe_pl_rappro.head(5)#.to_csv(r'Q:\\DAIT\\TI\\DREAL33\\2018\\C17SI0073_LAPI\\donnees_verif_fiabilite\\lapi_passages_proches.csv')"
   ]
  },
  {
   "cell_type": "code",
   "execution_count": 215,
   "metadata": {},
   "outputs": [
    {
     "data": {
      "application/vnd.vegalite.v2+json": {
       "$schema": "https://vega.github.io/schema/vega-lite/v2.6.0.json",
       "config": {
        "view": {
         "height": 300,
         "width": 400
        }
       },
       "datasets": {
        "data-2d8fd5fbc8e6a6833ebecb2afa783d21": [
         {
          "camera_id": 1,
          "nb_pl_x": 12013,
          "nb_pl_y": 357,
          "pct_faux": 2.9717805710480314,
          "type_x": "tot",
          "type_y": "faux"
         },
         {
          "camera_id": 2,
          "nb_pl_x": 15355,
          "nb_pl_y": 38,
          "pct_faux": 0.2474763920547053,
          "type_x": "tot",
          "type_y": "faux"
         },
         {
          "camera_id": 3,
          "nb_pl_x": 83776,
          "nb_pl_y": 705,
          "pct_faux": 0.841529793735676,
          "type_x": "tot",
          "type_y": "faux"
         },
         {
          "camera_id": 4,
          "nb_pl_x": 73536,
          "nb_pl_y": 3571,
          "pct_faux": 4.856124891209747,
          "type_x": "tot",
          "type_y": "faux"
         },
         {
          "camera_id": 5,
          "nb_pl_x": 75742,
          "nb_pl_y": 4110,
          "pct_faux": 5.426315650497742,
          "type_x": "tot",
          "type_y": "faux"
         },
         {
          "camera_id": 6,
          "nb_pl_x": 73993,
          "nb_pl_y": 588,
          "pct_faux": 0.7946697660589515,
          "type_x": "tot",
          "type_y": "faux"
         },
         {
          "camera_id": 7,
          "nb_pl_x": 15603,
          "nb_pl_y": 210,
          "pct_faux": 1.3458950201884252,
          "type_x": "tot",
          "type_y": "faux"
         },
         {
          "camera_id": 8,
          "nb_pl_x": 16428,
          "nb_pl_y": 186,
          "pct_faux": 1.1322132943754566,
          "type_x": "tot",
          "type_y": "faux"
         },
         {
          "camera_id": 9,
          "nb_pl_x": 23843,
          "nb_pl_y": 172,
          "pct_faux": 0.7213857316612843,
          "type_x": "tot",
          "type_y": "faux"
         },
         {
          "camera_id": 10,
          "nb_pl_x": 27214,
          "nb_pl_y": 7801,
          "pct_faux": 28.665392812522967,
          "type_x": "tot",
          "type_y": "faux"
         },
         {
          "camera_id": 11,
          "nb_pl_x": 19975,
          "nb_pl_y": 119,
          "pct_faux": 0.5957446808510638,
          "type_x": "tot",
          "type_y": "faux"
         },
         {
          "camera_id": 12,
          "nb_pl_x": 22452,
          "nb_pl_y": 149,
          "pct_faux": 0.6636379832531623,
          "type_x": "tot",
          "type_y": "faux"
         },
         {
          "camera_id": 13,
          "nb_pl_x": 56430,
          "nb_pl_y": 392,
          "pct_faux": 0.6946659578238525,
          "type_x": "tot",
          "type_y": "faux"
         },
         {
          "camera_id": 15,
          "nb_pl_x": 51306,
          "nb_pl_y": 317,
          "pct_faux": 0.6178614586987876,
          "type_x": "tot",
          "type_y": "faux"
         },
         {
          "camera_id": 18,
          "nb_pl_x": 64671,
          "nb_pl_y": 879,
          "pct_faux": 1.35918727095607,
          "type_x": "tot",
          "type_y": "faux"
         },
         {
          "camera_id": 19,
          "nb_pl_x": 60337,
          "nb_pl_y": 506,
          "pct_faux": 0.838623067106419,
          "type_x": "tot",
          "type_y": "faux"
         }
        ],
        "data-6c351fa58ae461339e8a1ebec6dd9c59": [
         {
          "liste_passag_faux": [
           4,
           10
          ],
          "state": 1669
         },
         {
          "liste_passag_faux": [
           10,
           5
          ],
          "state": 1345
         },
         {
          "liste_passag_faux": [
           5,
           10
          ],
          "state": 963
         },
         {
          "liste_passag_faux": [
           10,
           4
          ],
          "state": 340
         },
         {
          "liste_passag_faux": [
           10,
           1
          ],
          "state": 192
         },
         {
          "liste_passag_faux": [
           10,
           18
          ],
          "state": 137
         },
         {
          "liste_passag_faux": [
           4,
           10,
           4,
           10
          ],
          "state": 126
         },
         {
          "liste_passag_faux": [
           4,
           10,
           5,
           10
          ],
          "state": 91
         },
         {
          "liste_passag_faux": [
           4,
           10,
           10,
           5
          ],
          "state": 89
         },
         {
          "liste_passag_faux": [
           5,
           10,
           5,
           10
          ],
          "state": 85
         }
        ]
       },
       "hconcat": [
        {
         "layer": [
          {
           "data": {
            "name": "data-2d8fd5fbc8e6a6833ebecb2afa783d21"
           },
           "encoding": {
            "x": {
             "axis": {
              "title": "num caméra"
             },
             "field": "camera_id",
             "type": "nominal"
            },
            "y": {
             "axis": {
              "title": "nb PL"
             },
             "field": "nb_pl_x",
             "type": "quantitative"
            }
           },
           "mark": "bar"
          },
          {
           "data": {
            "name": "data-2d8fd5fbc8e6a6833ebecb2afa783d21"
           },
           "encoding": {
            "x": {
             "axis": {
              "title": "num caméra"
             },
             "field": "camera_id",
             "type": "nominal"
            },
            "y": {
             "axis": {
              "title": "% PL faux"
             },
             "field": "pct_faux",
             "type": "quantitative"
            }
           },
           "mark": {
            "color": "#ffd100",
            "strokeWidth": 5,
            "type": "line"
           }
          }
         ],
         "resolve": {
          "scale": {
           "x": "shared",
           "y": "independent"
          }
         }
        },
        {
         "data": {
          "name": "data-6c351fa58ae461339e8a1ebec6dd9c59"
         },
         "encoding": {
          "x": {
           "axis": {
            "title": "trajet"
           },
           "field": "liste_passag_faux",
           "type": "nominal"
          },
          "y": {
           "axis": {
            "title": "Nb occurence"
           },
           "field": "state",
           "type": "quantitative"
          }
         },
         "mark": "bar"
        }
       ]
      },
      "image/png": "[encoded data removed]",
      "text/plain": [
       "<VegaLite 2 object>\n",
       "\n",
       "If you see this message, it means the renderer has not been properly enabled\n",
       "for the frontend that you are using. For more information, see\n",
       "https://altair-viz.github.io/user_guide/troubleshooting.html\n"
      ]
     },
     "execution_count": 215,
     "metadata": {},
     "output_type": "execute_result"
    }
   ],
   "source": [
    "jointure = g.analyse_passage_proches(groupe_pl_rappro, groupe_pl)\n",
    "g.graph_passages_proches(jointure, groupe_pl_rappro)"
   ]
  },
  {
   "cell_type": "markdown",
   "metadata": {},
   "source": [
    "## 1.3 Ajout de l'attribut de différenciation VL / PL"
   ]
  },
  {
   "cell_type": "code",
   "execution_count": 4,
   "metadata": {},
   "outputs": [
    {
     "name": "stdout",
     "output_type": "stream",
     "text": [
      "Wall time: 4min 1s\n"
     ]
    }
   ],
   "source": [
    "%time df_passages2=t.affecter_type(df_passages,df_immat)"
   ]
  },
  {
   "cell_type": "code",
   "execution_count": 5,
   "metadata": {},
   "outputs": [
    {
     "name": "stdout",
     "output_type": "stream",
     "text": [
      "Wall time: 21.8 s\n"
     ]
    }
   ],
   "source": [
    "%time df_passages3=t.affecter_type_nuit(df_passages2,df_immat)"
   ]
  },
  {
   "cell_type": "code",
   "execution_count": 6,
   "metadata": {},
   "outputs": [
    {
     "data": {
      "text/plain": [
       "688958"
      ]
     },
     "execution_count": 6,
     "metadata": {},
     "output_type": "execute_result"
    }
   ],
   "source": [
    "len(df_passages2.loc[df_passages2['l']==1])"
   ]
  },
  {
   "cell_type": "code",
   "execution_count": 7,
   "metadata": {},
   "outputs": [
    {
     "data": {
      "text/plain": [
       "692674"
      ]
     },
     "execution_count": 7,
     "metadata": {},
     "output_type": "execute_result"
    }
   ],
   "source": [
    "len(df_passages3.loc[df_passages3['l']==1])"
   ]
  },
  {
   "cell_type": "markdown",
   "metadata": {},
   "source": [
    "***ATTENTION : ENCORE 18764 IMMATRCULATION COURTE PRESENTES DANS TE_PASSAGES ET NON PRENSENTES DANS TE_PLAQUES_COURTE :***"
   ]
  },
  {
   "cell_type": "code",
   "execution_count": 69,
   "metadata": {},
   "outputs": [],
   "source": [
    "df_passages2.loc[df_passages2.immatriculation.isna()].merge(df_plaques, left_on='immat', right_on='chiffree').to_csv(\n",
    "    r'Q:\\DAIT\\TI\\DREAL33\\2018\\C17SI0073_LAPI\\donnees_verif_fiabilite\\immatriculation_manquante.csv')"
   ]
  },
  {
   "cell_type": "markdown",
   "metadata": {},
   "source": [
    "***ATTENTION : PLUS DE 1M DE PASSAGES SANS VALEUR DE VL_TOT ou PL_TOT ou VUL_TOT :***"
   ]
  },
  {
   "cell_type": "code",
   "execution_count": 183,
   "metadata": {},
   "outputs": [],
   "source": [
    "#nb de passages avec un type inconnu\n",
    "passages_type_inconnu=(df_passages3.loc[df_passages3['l']==-1]).reset_index()#.head(20)"
   ]
  },
  {
   "cell_type": "code",
   "execution_count": 184,
   "metadata": {},
   "outputs": [],
   "source": [
    "#passages inconnu avec une fiabilite superieure a 75 sur cam autre que 1ou2 et fiab > 35 sr cam 1 et 2\n",
    "passages_type_inconnu_fiab_sup75=(passages_type_inconnu.loc[((passages_type_inconnu['fiability']>75) & (~passages_type_inconnu['camera_id'].isin([1,2]))) |\n",
    "                                                            ((passages_type_inconnu['fiability']>35) & (passages_type_inconnu['camera_id'].isin([1,2])))])"
   ]
  },
  {
   "cell_type": "code",
   "execution_count": 185,
   "metadata": {},
   "outputs": [
    {
     "data": {
      "text/plain": [
       "232939"
      ]
     },
     "execution_count": 185,
     "metadata": {},
     "output_type": "execute_result"
    }
   ],
   "source": [
    "len(passages_type_inconnu_fiab_sup75)"
   ]
  },
  {
   "cell_type": "code",
   "execution_count": 167,
   "metadata": {},
   "outputs": [],
   "source": [
    "groupe=(passages_type_inconnu_fiab_sup75.set_index('created').sort_index().reset_index().groupby('immat').agg({'camera_id':lambda x : tuple(x), \n",
    "                                                                                 'created':lambda x: tuple(x), \n",
    "                                                                                 'state': lambda x : set(tuple(x))}))"
   ]
  },
  {
   "cell_type": "code",
   "execution_count": 168,
   "metadata": {},
   "outputs": [],
   "source": [
    "groupe_filtre=groupe.loc[groupe.apply(lambda x: (all((pd.to_datetime(e).hour>19 or pd.to_datetime(e).hour<7) for e in x['created'])) &\n",
    "                        (x['camera_id'] in t.liste_complete_trajet.cameras.tolist()) & (len(x['state'])==1) & \n",
    "                        (x['state']!=set(['FR',])) ,axis=1)].copy()"
   ]
  },
  {
   "cell_type": "code",
   "execution_count": 169,
   "metadata": {},
   "outputs": [
    {
     "data": {
      "text/html": [
       "<div>\n",
       "<style scoped>\n",
       "    .dataframe tbody tr th:only-of-type {\n",
       "        vertical-align: middle;\n",
       "    }\n",
       "\n",
       "    .dataframe tbody tr th {\n",
       "        vertical-align: top;\n",
       "    }\n",
       "\n",
       "    .dataframe thead th {\n",
       "        text-align: right;\n",
       "    }\n",
       "</style>\n",
       "<table border=\"1\" class=\"dataframe\">\n",
       "  <thead>\n",
       "    <tr style=\"text-align: right;\">\n",
       "      <th></th>\n",
       "      <th>camera_id</th>\n",
       "      <th>created</th>\n",
       "      <th>state</th>\n",
       "    </tr>\n",
       "    <tr>\n",
       "      <th>immat</th>\n",
       "      <th></th>\n",
       "      <th></th>\n",
       "      <th></th>\n",
       "    </tr>\n",
       "  </thead>\n",
       "  <tbody>\n",
       "    <tr>\n",
       "      <th>001e325735145d38489dc2bec097cc10d3294386</th>\n",
       "      <td>(12, 6, 3, 18)</td>\n",
       "      <td>(2019-02-10 00:45:53, 2019-02-10 01:07:47, 2019-02-10 01:20:05, 2019-02-10 01:39:53)</td>\n",
       "      <td>{NL}</td>\n",
       "    </tr>\n",
       "    <tr>\n",
       "      <th>00211a77de4f1d952d0384090f231efd091e4805</th>\n",
       "      <td>(19, 5)</td>\n",
       "      <td>(2019-02-02 21:19:14, 2019-02-02 21:42:47)</td>\n",
       "      <td>{ES}</td>\n",
       "    </tr>\n",
       "    <tr>\n",
       "      <th>0028aa39418784ac9abe4f9cb52dd8d732ec58aa</th>\n",
       "      <td>(6, 3, 18)</td>\n",
       "      <td>(2019-02-05 21:33:17, 2019-02-05 21:44:15, 2019-02-05 22:00:16)</td>\n",
       "      <td>{NL}</td>\n",
       "    </tr>\n",
       "    <tr>\n",
       "      <th>00800ead14cca17cea7df922087f1f0fd35af0e7</th>\n",
       "      <td>(19, 5)</td>\n",
       "      <td>(2019-02-07 22:07:14, 2019-02-07 22:36:05)</td>\n",
       "      <td>{PL}</td>\n",
       "    </tr>\n",
       "    <tr>\n",
       "      <th>009f5722e10075e77b58bd067f419d116c3c272f</th>\n",
       "      <td>(19, 4, 5)</td>\n",
       "      <td>(2019-02-06 20:54:24, 2019-02-06 21:11:11, 2019-02-06 21:26:19)</td>\n",
       "      <td>{PL}</td>\n",
       "    </tr>\n",
       "    <tr>\n",
       "      <th>012454c49cc65806d25a0d3641f3e899d1948465</th>\n",
       "      <td>(12, 6, 3, 18)</td>\n",
       "      <td>(2019-02-09 03:16:46, 2019-02-09 03:26:52, 2019-02-09 03:36:49, 2019-02-09 03:52:01)</td>\n",
       "      <td>{NL}</td>\n",
       "    </tr>\n",
       "    <tr>\n",
       "      <th>012f57273420b5ff3dc07881350e6ce368de9fbc</th>\n",
       "      <td>(12, 6, 3, 18)</td>\n",
       "      <td>(2019-02-09 01:34:09, 2019-02-09 01:45:03, 2019-02-09 01:54:23, 2019-02-09 02:19:40)</td>\n",
       "      <td>{PT}</td>\n",
       "    </tr>\n",
       "    <tr>\n",
       "      <th>0181bd66684bad32c89ff81f0077edf6a426be16</th>\n",
       "      <td>(6, 3, 18)</td>\n",
       "      <td>(2019-02-01 05:01:51, 2019-02-01 05:14:28, 2019-02-01 06:04:26)</td>\n",
       "      <td>{BE}</td>\n",
       "    </tr>\n",
       "    <tr>\n",
       "      <th>021c276fb5eeeba9ff761ee23454c51635b22eef</th>\n",
       "      <td>(6, 3, 18)</td>\n",
       "      <td>(2019-02-08 22:23:02, 2019-02-08 22:34:45, 2019-02-08 22:53:40)</td>\n",
       "      <td>{BE}</td>\n",
       "    </tr>\n",
       "    <tr>\n",
       "      <th>025517d2ea104d0b3f98a9c390f71e602c930d01</th>\n",
       "      <td>(12, 6, 3, 18)</td>\n",
       "      <td>(2019-01-31 01:35:39, 2019-01-31 01:48:43, 2019-01-31 01:57:23, 2019-01-31 02:11:40)</td>\n",
       "      <td>{BE}</td>\n",
       "    </tr>\n",
       "    <tr>\n",
       "      <th>02b354880681b40a3c45f3022772ad561442bddc</th>\n",
       "      <td>(12, 6, 18)</td>\n",
       "      <td>(2019-02-07 22:29:06, 2019-02-07 22:50:18, 2019-02-07 23:17:25)</td>\n",
       "      <td>{UK}</td>\n",
       "    </tr>\n",
       "    <tr>\n",
       "      <th>02d25c75817afa0107d5fa2596c14e47cb7921b7</th>\n",
       "      <td>(8, 3, 18)</td>\n",
       "      <td>(2019-02-01 04:31:22, 2019-02-01 04:44:59, 2019-02-01 05:25:06)</td>\n",
       "      <td>{DE}</td>\n",
       "    </tr>\n",
       "    <tr>\n",
       "      <th>0344d578ba0266b546bb516d671c683b41e7a5c0</th>\n",
       "      <td>(8, 3, 18)</td>\n",
       "      <td>(2019-02-06 05:03:32, 2019-02-06 05:17:43, 2019-02-06 05:33:40)</td>\n",
       "      <td>{RO}</td>\n",
       "    </tr>\n",
       "    <tr>\n",
       "      <th>0380b1abf52114ca0f103981fcf8a4599dff58a4</th>\n",
       "      <td>(6, 3, 18)</td>\n",
       "      <td>(2019-02-08 22:03:08, 2019-02-08 22:12:55, 2019-02-08 22:29:36)</td>\n",
       "      <td>{IT}</td>\n",
       "    </tr>\n",
       "    <tr>\n",
       "      <th>03a83dfed85701fec89696101cfd0599c2a0455e</th>\n",
       "      <td>(19, 4, 5, 11)</td>\n",
       "      <td>(2019-02-06 02:07:07, 2019-02-06 02:23:29, 2019-02-06 02:33:56, 2019-02-06 02:56:51)</td>\n",
       "      <td>{NL}</td>\n",
       "    </tr>\n",
       "    <tr>\n",
       "      <th>03d9716ddbceba091c21d19556c6cfb948a2a053</th>\n",
       "      <td>(6, 3, 18)</td>\n",
       "      <td>(2019-02-09 22:11:41, 2019-02-09 22:23:43, 2019-02-09 22:43:30)</td>\n",
       "      <td>{BE}</td>\n",
       "    </tr>\n",
       "    <tr>\n",
       "      <th>044660ea53f902d9485a8eb92f518e3ebfe8281a</th>\n",
       "      <td>(6, 3, 18)</td>\n",
       "      <td>(2019-02-01 00:45:59, 2019-02-01 00:54:38, 2019-02-01 01:08:10)</td>\n",
       "      <td>{DE}</td>\n",
       "    </tr>\n",
       "    <tr>\n",
       "      <th>0459d60a0011bc3b46238dc6c1142e238fd0ae98</th>\n",
       "      <td>(6, 3, 18)</td>\n",
       "      <td>(2019-02-01 04:32:11, 2019-02-01 04:43:38, 2019-02-01 05:04:10)</td>\n",
       "      <td>{BE}</td>\n",
       "    </tr>\n",
       "    <tr>\n",
       "      <th>046daafeb079c860600486a81475ed5433f40c1b</th>\n",
       "      <td>(19, 4, 5)</td>\n",
       "      <td>(2019-01-31 22:12:07, 2019-01-31 22:29:02, 2019-01-31 22:38:47)</td>\n",
       "      <td>{BE/DE/PL}</td>\n",
       "    </tr>\n",
       "    <tr>\n",
       "      <th>04c2809382495154f4852915d2e67872bbb5aef6</th>\n",
       "      <td>(19, 4, 5, 11)</td>\n",
       "      <td>(2019-02-09 05:58:56, 2019-02-09 06:15:09, 2019-02-09 06:24:36, 2019-02-09 06:44:16)</td>\n",
       "      <td>{PT}</td>\n",
       "    </tr>\n",
       "    <tr>\n",
       "      <th>04e889d75ddd21a3f1afcae62ca26d8d766c9019</th>\n",
       "      <td>(19, 4, 7)</td>\n",
       "      <td>(2019-02-10 03:48:11, 2019-02-10 04:05:12, 2019-02-10 04:19:33)</td>\n",
       "      <td>{PT}</td>\n",
       "    </tr>\n",
       "    <tr>\n",
       "      <th>0513fd3f53c7fea1b314dcf1cb26475c2013f9d5</th>\n",
       "      <td>(19, 4, 5, 11)</td>\n",
       "      <td>(2019-01-31 21:31:13, 2019-01-31 21:46:11, 2019-01-31 21:55:47, 2019-01-31 22:16:33)</td>\n",
       "      <td>{PT}</td>\n",
       "    </tr>\n",
       "    <tr>\n",
       "      <th>05320194a43aa60fa7cbc6d741a8c60fa8acd9d1</th>\n",
       "      <td>(12, 6, 3, 18)</td>\n",
       "      <td>(2019-02-02 21:17:43, 2019-02-02 21:30:30, 2019-02-02 21:40:02, 2019-02-02 21:55:03)</td>\n",
       "      <td>{DE}</td>\n",
       "    </tr>\n",
       "    <tr>\n",
       "      <th>0543696ff458d5a5519c3aa3ba4ba5a798e14762</th>\n",
       "      <td>(6, 3, 18)</td>\n",
       "      <td>(2019-02-09 23:36:34, 2019-02-09 23:47:56, 2019-02-10 00:06:20)</td>\n",
       "      <td>{PL}</td>\n",
       "    </tr>\n",
       "    <tr>\n",
       "      <th>061974ad04affe03037374bb4d6b11328abd1ae8</th>\n",
       "      <td>(19, 4, 5, 11)</td>\n",
       "      <td>(2019-02-04 01:58:22, 2019-02-04 02:13:55, 2019-02-04 02:23:26, 2019-02-04 02:42:05)</td>\n",
       "      <td>{PT}</td>\n",
       "    </tr>\n",
       "    <tr>\n",
       "      <th>0638bbbacda5119edf2223a38441c696b7f63ca2</th>\n",
       "      <td>(19, 4, 5, 11)</td>\n",
       "      <td>(2019-02-01 04:23:22, 2019-02-01 04:39:11, 2019-02-01 04:49:09, 2019-02-01 05:07:51)</td>\n",
       "      <td>{BE}</td>\n",
       "    </tr>\n",
       "    <tr>\n",
       "      <th>0642b09361856127921f7838122ee7ff22f18523</th>\n",
       "      <td>(6, 3, 18)</td>\n",
       "      <td>(2019-02-07 21:26:30, 2019-02-07 21:38:05, 2019-02-07 21:55:58)</td>\n",
       "      <td>{RO}</td>\n",
       "    </tr>\n",
       "    <tr>\n",
       "      <th>06543f35108765d8adb92c357abde05982a8ee59</th>\n",
       "      <td>(19, 4, 5)</td>\n",
       "      <td>(2019-02-06 20:01:11, 2019-02-06 20:18:42, 2019-02-06 20:29:22)</td>\n",
       "      <td>{PL}</td>\n",
       "    </tr>\n",
       "    <tr>\n",
       "      <th>06b43866931472b0265f438e44204f0e8ea3469a</th>\n",
       "      <td>(19, 4, 5)</td>\n",
       "      <td>(2019-02-01 21:38:18, 2019-02-01 21:52:56, 2019-02-01 22:01:43)</td>\n",
       "      <td>{ES}</td>\n",
       "    </tr>\n",
       "    <tr>\n",
       "      <th>06d700ac979553f14f8976d0a85dab5663b7735c</th>\n",
       "      <td>(12, 6, 3, 18)</td>\n",
       "      <td>(2019-02-09 20:37:47, 2019-02-09 20:49:33, 2019-02-10 06:31:46, 2019-02-10 06:49:55)</td>\n",
       "      <td>{DE}</td>\n",
       "    </tr>\n",
       "    <tr>\n",
       "      <th>...</th>\n",
       "      <td>...</td>\n",
       "      <td>...</td>\n",
       "      <td>...</td>\n",
       "    </tr>\n",
       "    <tr>\n",
       "      <th>f9a88aaed359406cf0e70d2e302c68a7820b55ba</th>\n",
       "      <td>(19, 4, 7)</td>\n",
       "      <td>(2019-02-10 23:05:02, 2019-02-10 23:19:56, 2019-02-10 23:33:10)</td>\n",
       "      <td>{DE}</td>\n",
       "    </tr>\n",
       "    <tr>\n",
       "      <th>f9bb353c3a28812886de26bb1e333eecbcde7df7</th>\n",
       "      <td>(12, 6, 3, 9)</td>\n",
       "      <td>(2019-01-31 05:23:46, 2019-01-31 05:41:33, 2019-01-31 05:59:27, 2019-01-31 06:11:08)</td>\n",
       "      <td>{BG}</td>\n",
       "    </tr>\n",
       "    <tr>\n",
       "      <th>f9c6876c3f364ec801e55bf08dc77edc377894f5</th>\n",
       "      <td>(19, 4, 5, 11)</td>\n",
       "      <td>(2019-02-01 00:40:47, 2019-02-01 00:57:57, 2019-02-01 01:08:27, 2019-02-01 01:43:46)</td>\n",
       "      <td>{PT}</td>\n",
       "    </tr>\n",
       "    <tr>\n",
       "      <th>f9e7d33c4ee86ecf998fdefe3066fc5fe0a28f78</th>\n",
       "      <td>(12, 6, 18)</td>\n",
       "      <td>(2019-02-11 01:20:08, 2019-02-11 01:32:12, 2019-02-11 01:57:38)</td>\n",
       "      <td>{DE}</td>\n",
       "    </tr>\n",
       "    <tr>\n",
       "      <th>fa7e57a17c30faeb3aae2617b64b6b108f9a7617</th>\n",
       "      <td>(19, 4, 5)</td>\n",
       "      <td>(2019-02-01 00:07:22, 2019-02-01 00:22:31, 2019-02-01 00:32:09)</td>\n",
       "      <td>{PT}</td>\n",
       "    </tr>\n",
       "    <tr>\n",
       "      <th>fa9b53d4f218c8c71e77e820742bc18d7784ff75</th>\n",
       "      <td>(19, 7)</td>\n",
       "      <td>(2019-02-02 21:08:11, 2019-02-02 21:35:32)</td>\n",
       "      <td>{PT}</td>\n",
       "    </tr>\n",
       "    <tr>\n",
       "      <th>fabd3f1999afceec1eac0bf2d1ec8f6d59724348</th>\n",
       "      <td>(6, 3, 18)</td>\n",
       "      <td>(2019-02-10 05:58:29, 2019-02-10 06:09:24, 2019-02-10 06:25:50)</td>\n",
       "      <td>{RO}</td>\n",
       "    </tr>\n",
       "    <tr>\n",
       "      <th>fb606ac56054100ccf482ca88040242e24d1e456</th>\n",
       "      <td>(19, 5)</td>\n",
       "      <td>(2019-02-10 02:49:04, 2019-02-10 03:19:56)</td>\n",
       "      <td>{UK}</td>\n",
       "    </tr>\n",
       "    <tr>\n",
       "      <th>fbcea43ff6b60ce0cee479b9968158d52888813e</th>\n",
       "      <td>(19, 5)</td>\n",
       "      <td>(2019-02-09 20:58:44, 2019-02-10 06:16:12)</td>\n",
       "      <td>{RO}</td>\n",
       "    </tr>\n",
       "    <tr>\n",
       "      <th>fc52c0815685bb2d5ff375971ce24103693ef27e</th>\n",
       "      <td>(8, 3, 18)</td>\n",
       "      <td>(2019-02-09 01:16:15, 2019-02-09 01:34:47, 2019-02-09 01:55:39)</td>\n",
       "      <td>{RO}</td>\n",
       "    </tr>\n",
       "    <tr>\n",
       "      <th>fcd296ab80f963484d5e0880722f363950336e2c</th>\n",
       "      <td>(19, 4, 5, 11)</td>\n",
       "      <td>(2019-01-31 22:27:03, 2019-01-31 23:00:30, 2019-01-31 23:10:07, 2019-01-31 23:28:30)</td>\n",
       "      <td>{DE}</td>\n",
       "    </tr>\n",
       "    <tr>\n",
       "      <th>fcedd3403e95ca4a21dd25bb84c543260e217916</th>\n",
       "      <td>(19, 11)</td>\n",
       "      <td>(2019-01-31 21:02:30, 2019-01-31 21:45:51)</td>\n",
       "      <td>{ES}</td>\n",
       "    </tr>\n",
       "    <tr>\n",
       "      <th>fd32d70a537e4972b225db1e7e9827ac3fde4e4a</th>\n",
       "      <td>(6, 3, 18)</td>\n",
       "      <td>(2019-02-01 22:13:42, 2019-02-01 22:22:24, 2019-02-01 22:36:42)</td>\n",
       "      <td>{ES}</td>\n",
       "    </tr>\n",
       "    <tr>\n",
       "      <th>fd3ad07d72a1cc1b62d71e2ba59f2179bd06c791</th>\n",
       "      <td>(19, 4, 5)</td>\n",
       "      <td>(2019-02-01 23:47:49, 2019-02-02 00:02:35, 2019-02-02 00:11:40)</td>\n",
       "      <td>{BE}</td>\n",
       "    </tr>\n",
       "    <tr>\n",
       "      <th>fd5ca861990ebd3c330b6fcadaf2156a6e5de398</th>\n",
       "      <td>(19, 5, 11)</td>\n",
       "      <td>(2019-02-07 22:36:02, 2019-02-07 23:01:29, 2019-02-07 23:19:56)</td>\n",
       "      <td>{ES}</td>\n",
       "    </tr>\n",
       "    <tr>\n",
       "      <th>fd5fa04bf91a5949160f42e13fe6aac9761e9f2c</th>\n",
       "      <td>(19, 4, 5, 11)</td>\n",
       "      <td>(2019-02-05 01:16:28, 2019-02-05 04:28:56, 2019-02-05 04:39:33, 2019-02-05 05:00:15)</td>\n",
       "      <td>{UK}</td>\n",
       "    </tr>\n",
       "    <tr>\n",
       "      <th>fd6016cdefc05bda2cd67761aa287c27b51ede62</th>\n",
       "      <td>(12, 6, 3, 18)</td>\n",
       "      <td>(2019-01-31 05:27:52, 2019-01-31 05:44:34, 2019-01-31 06:01:40, 2019-01-31 06:31:22)</td>\n",
       "      <td>{ES}</td>\n",
       "    </tr>\n",
       "    <tr>\n",
       "      <th>fdec5c4858c520e6a46b8db6d01ce7331687a3da</th>\n",
       "      <td>(12, 3, 9)</td>\n",
       "      <td>(2019-01-31 21:06:41, 2019-01-31 21:27:16, 2019-01-31 21:35:55)</td>\n",
       "      <td>{IT}</td>\n",
       "    </tr>\n",
       "    <tr>\n",
       "      <th>fdf0cbdad8d103485cd5bc9774f86e6fff993776</th>\n",
       "      <td>(19, 5)</td>\n",
       "      <td>(2019-01-31 20:45:15, 2019-01-31 21:24:09)</td>\n",
       "      <td>{PL}</td>\n",
       "    </tr>\n",
       "    <tr>\n",
       "      <th>fe286993e3a178d8c910b9a2366ebc02cde7d344</th>\n",
       "      <td>(6, 3, 18)</td>\n",
       "      <td>(2019-02-09 03:09:17, 2019-02-09 03:16:57, 2019-02-09 03:29:11)</td>\n",
       "      <td>{DE}</td>\n",
       "    </tr>\n",
       "    <tr>\n",
       "      <th>fe2f3fbc0ad7639ce50056b93d5d374a9bcb880b</th>\n",
       "      <td>(6, 3, 18)</td>\n",
       "      <td>(2019-02-09 21:14:32, 2019-02-09 21:25:08, 2019-02-09 21:50:48)</td>\n",
       "      <td>{BE}</td>\n",
       "    </tr>\n",
       "    <tr>\n",
       "      <th>fe4ae781585085f0b481a88857aadc5fe491ef87</th>\n",
       "      <td>(19, 5)</td>\n",
       "      <td>(2019-02-08 02:34:20, 2019-02-08 02:59:56)</td>\n",
       "      <td>{PL}</td>\n",
       "    </tr>\n",
       "    <tr>\n",
       "      <th>fe5b6c03866105963fcf877aa53bfd9df962fad1</th>\n",
       "      <td>(19, 5)</td>\n",
       "      <td>(2019-01-31 01:35:24, 2019-01-31 02:01:33)</td>\n",
       "      <td>{RO}</td>\n",
       "    </tr>\n",
       "    <tr>\n",
       "      <th>fe83ed8b9474c28565b9ce4f1975bb485b02d22e</th>\n",
       "      <td>(19, 4, 5)</td>\n",
       "      <td>(2019-02-06 03:44:42, 2019-02-06 04:03:24, 2019-02-06 04:14:39)</td>\n",
       "      <td>{ES}</td>\n",
       "    </tr>\n",
       "    <tr>\n",
       "      <th>feb6a47aef3eda2b9c7b113ad8f83bc1d16ecea0</th>\n",
       "      <td>(12, 6, 3, 18)</td>\n",
       "      <td>(2019-02-04 21:32:14, 2019-02-04 21:44:58, 2019-02-04 21:53:54, 2019-02-04 22:08:23)</td>\n",
       "      <td>{DE}</td>\n",
       "    </tr>\n",
       "    <tr>\n",
       "      <th>ff05a1f9ca8c7712d36d511c583084319a370bac</th>\n",
       "      <td>(19, 4, 5)</td>\n",
       "      <td>(2019-02-09 22:15:12, 2019-02-09 22:36:19, 2019-02-09 22:45:53)</td>\n",
       "      <td>{NL}</td>\n",
       "    </tr>\n",
       "    <tr>\n",
       "      <th>ff31b0a4571468fee837c9f66415ecc2903c9a91</th>\n",
       "      <td>(19, 4, 5, 11)</td>\n",
       "      <td>(2019-02-03 02:28:27, 2019-02-03 02:43:37, 2019-02-03 02:53:03, 2019-02-03 03:31:13)</td>\n",
       "      <td>{NL}</td>\n",
       "    </tr>\n",
       "    <tr>\n",
       "      <th>ff8d8500e414349b5c973f6f096279144d789545</th>\n",
       "      <td>(6, 3, 18)</td>\n",
       "      <td>(2019-02-11 04:10:44, 2019-02-11 04:23:47, 2019-02-11 04:42:50)</td>\n",
       "      <td>{RO}</td>\n",
       "    </tr>\n",
       "    <tr>\n",
       "      <th>ffa62ba7129a507120d10fadc70c5aedacc513c1</th>\n",
       "      <td>(19, 4, 5, 11)</td>\n",
       "      <td>(2019-02-10 05:10:22, 2019-02-10 05:25:32, 2019-02-10 05:34:58, 2019-02-10 06:27:56)</td>\n",
       "      <td>{PT}</td>\n",
       "    </tr>\n",
       "    <tr>\n",
       "      <th>ffbb4e070aaa7f3b95ab237720e8439073137a27</th>\n",
       "      <td>(12, 6, 3, 18)</td>\n",
       "      <td>(2019-02-07 21:52:38, 2019-02-07 22:04:19, 2019-02-07 22:13:00, 2019-02-07 22:26:37)</td>\n",
       "      <td>{ES}</td>\n",
       "    </tr>\n",
       "  </tbody>\n",
       "</table>\n",
       "<p>1165 rows × 3 columns</p>\n",
       "</div>"
      ],
      "text/plain": [
       "                                               camera_id  \\\n",
       "immat                                                      \n",
       "001e325735145d38489dc2bec097cc10d3294386  (12, 6, 3, 18)   \n",
       "00211a77de4f1d952d0384090f231efd091e4805         (19, 5)   \n",
       "0028aa39418784ac9abe4f9cb52dd8d732ec58aa      (6, 3, 18)   \n",
       "00800ead14cca17cea7df922087f1f0fd35af0e7         (19, 5)   \n",
       "009f5722e10075e77b58bd067f419d116c3c272f      (19, 4, 5)   \n",
       "012454c49cc65806d25a0d3641f3e899d1948465  (12, 6, 3, 18)   \n",
       "012f57273420b5ff3dc07881350e6ce368de9fbc  (12, 6, 3, 18)   \n",
       "0181bd66684bad32c89ff81f0077edf6a426be16      (6, 3, 18)   \n",
       "021c276fb5eeeba9ff761ee23454c51635b22eef      (6, 3, 18)   \n",
       "025517d2ea104d0b3f98a9c390f71e602c930d01  (12, 6, 3, 18)   \n",
       "02b354880681b40a3c45f3022772ad561442bddc     (12, 6, 18)   \n",
       "02d25c75817afa0107d5fa2596c14e47cb7921b7      (8, 3, 18)   \n",
       "0344d578ba0266b546bb516d671c683b41e7a5c0      (8, 3, 18)   \n",
       "0380b1abf52114ca0f103981fcf8a4599dff58a4      (6, 3, 18)   \n",
       "03a83dfed85701fec89696101cfd0599c2a0455e  (19, 4, 5, 11)   \n",
       "03d9716ddbceba091c21d19556c6cfb948a2a053      (6, 3, 18)   \n",
       "044660ea53f902d9485a8eb92f518e3ebfe8281a      (6, 3, 18)   \n",
       "0459d60a0011bc3b46238dc6c1142e238fd0ae98      (6, 3, 18)   \n",
       "046daafeb079c860600486a81475ed5433f40c1b      (19, 4, 5)   \n",
       "04c2809382495154f4852915d2e67872bbb5aef6  (19, 4, 5, 11)   \n",
       "04e889d75ddd21a3f1afcae62ca26d8d766c9019      (19, 4, 7)   \n",
       "0513fd3f53c7fea1b314dcf1cb26475c2013f9d5  (19, 4, 5, 11)   \n",
       "05320194a43aa60fa7cbc6d741a8c60fa8acd9d1  (12, 6, 3, 18)   \n",
       "0543696ff458d5a5519c3aa3ba4ba5a798e14762      (6, 3, 18)   \n",
       "061974ad04affe03037374bb4d6b11328abd1ae8  (19, 4, 5, 11)   \n",
       "0638bbbacda5119edf2223a38441c696b7f63ca2  (19, 4, 5, 11)   \n",
       "0642b09361856127921f7838122ee7ff22f18523      (6, 3, 18)   \n",
       "06543f35108765d8adb92c357abde05982a8ee59      (19, 4, 5)   \n",
       "06b43866931472b0265f438e44204f0e8ea3469a      (19, 4, 5)   \n",
       "06d700ac979553f14f8976d0a85dab5663b7735c  (12, 6, 3, 18)   \n",
       "...                                                  ...   \n",
       "f9a88aaed359406cf0e70d2e302c68a7820b55ba      (19, 4, 7)   \n",
       "f9bb353c3a28812886de26bb1e333eecbcde7df7   (12, 6, 3, 9)   \n",
       "f9c6876c3f364ec801e55bf08dc77edc377894f5  (19, 4, 5, 11)   \n",
       "f9e7d33c4ee86ecf998fdefe3066fc5fe0a28f78     (12, 6, 18)   \n",
       "fa7e57a17c30faeb3aae2617b64b6b108f9a7617      (19, 4, 5)   \n",
       "fa9b53d4f218c8c71e77e820742bc18d7784ff75         (19, 7)   \n",
       "fabd3f1999afceec1eac0bf2d1ec8f6d59724348      (6, 3, 18)   \n",
       "fb606ac56054100ccf482ca88040242e24d1e456         (19, 5)   \n",
       "fbcea43ff6b60ce0cee479b9968158d52888813e         (19, 5)   \n",
       "fc52c0815685bb2d5ff375971ce24103693ef27e      (8, 3, 18)   \n",
       "fcd296ab80f963484d5e0880722f363950336e2c  (19, 4, 5, 11)   \n",
       "fcedd3403e95ca4a21dd25bb84c543260e217916        (19, 11)   \n",
       "fd32d70a537e4972b225db1e7e9827ac3fde4e4a      (6, 3, 18)   \n",
       "fd3ad07d72a1cc1b62d71e2ba59f2179bd06c791      (19, 4, 5)   \n",
       "fd5ca861990ebd3c330b6fcadaf2156a6e5de398     (19, 5, 11)   \n",
       "fd5fa04bf91a5949160f42e13fe6aac9761e9f2c  (19, 4, 5, 11)   \n",
       "fd6016cdefc05bda2cd67761aa287c27b51ede62  (12, 6, 3, 18)   \n",
       "fdec5c4858c520e6a46b8db6d01ce7331687a3da      (12, 3, 9)   \n",
       "fdf0cbdad8d103485cd5bc9774f86e6fff993776         (19, 5)   \n",
       "fe286993e3a178d8c910b9a2366ebc02cde7d344      (6, 3, 18)   \n",
       "fe2f3fbc0ad7639ce50056b93d5d374a9bcb880b      (6, 3, 18)   \n",
       "fe4ae781585085f0b481a88857aadc5fe491ef87         (19, 5)   \n",
       "fe5b6c03866105963fcf877aa53bfd9df962fad1         (19, 5)   \n",
       "fe83ed8b9474c28565b9ce4f1975bb485b02d22e      (19, 4, 5)   \n",
       "feb6a47aef3eda2b9c7b113ad8f83bc1d16ecea0  (12, 6, 3, 18)   \n",
       "ff05a1f9ca8c7712d36d511c583084319a370bac      (19, 4, 5)   \n",
       "ff31b0a4571468fee837c9f66415ecc2903c9a91  (19, 4, 5, 11)   \n",
       "ff8d8500e414349b5c973f6f096279144d789545      (6, 3, 18)   \n",
       "ffa62ba7129a507120d10fadc70c5aedacc513c1  (19, 4, 5, 11)   \n",
       "ffbb4e070aaa7f3b95ab237720e8439073137a27  (12, 6, 3, 18)   \n",
       "\n",
       "                                                                                                                       created  \\\n",
       "immat                                                                                                                            \n",
       "001e325735145d38489dc2bec097cc10d3294386  (2019-02-10 00:45:53, 2019-02-10 01:07:47, 2019-02-10 01:20:05, 2019-02-10 01:39:53)   \n",
       "00211a77de4f1d952d0384090f231efd091e4805                                            (2019-02-02 21:19:14, 2019-02-02 21:42:47)   \n",
       "0028aa39418784ac9abe4f9cb52dd8d732ec58aa                       (2019-02-05 21:33:17, 2019-02-05 21:44:15, 2019-02-05 22:00:16)   \n",
       "00800ead14cca17cea7df922087f1f0fd35af0e7                                            (2019-02-07 22:07:14, 2019-02-07 22:36:05)   \n",
       "009f5722e10075e77b58bd067f419d116c3c272f                       (2019-02-06 20:54:24, 2019-02-06 21:11:11, 2019-02-06 21:26:19)   \n",
       "012454c49cc65806d25a0d3641f3e899d1948465  (2019-02-09 03:16:46, 2019-02-09 03:26:52, 2019-02-09 03:36:49, 2019-02-09 03:52:01)   \n",
       "012f57273420b5ff3dc07881350e6ce368de9fbc  (2019-02-09 01:34:09, 2019-02-09 01:45:03, 2019-02-09 01:54:23, 2019-02-09 02:19:40)   \n",
       "0181bd66684bad32c89ff81f0077edf6a426be16                       (2019-02-01 05:01:51, 2019-02-01 05:14:28, 2019-02-01 06:04:26)   \n",
       "021c276fb5eeeba9ff761ee23454c51635b22eef                       (2019-02-08 22:23:02, 2019-02-08 22:34:45, 2019-02-08 22:53:40)   \n",
       "025517d2ea104d0b3f98a9c390f71e602c930d01  (2019-01-31 01:35:39, 2019-01-31 01:48:43, 2019-01-31 01:57:23, 2019-01-31 02:11:40)   \n",
       "02b354880681b40a3c45f3022772ad561442bddc                       (2019-02-07 22:29:06, 2019-02-07 22:50:18, 2019-02-07 23:17:25)   \n",
       "02d25c75817afa0107d5fa2596c14e47cb7921b7                       (2019-02-01 04:31:22, 2019-02-01 04:44:59, 2019-02-01 05:25:06)   \n",
       "0344d578ba0266b546bb516d671c683b41e7a5c0                       (2019-02-06 05:03:32, 2019-02-06 05:17:43, 2019-02-06 05:33:40)   \n",
       "0380b1abf52114ca0f103981fcf8a4599dff58a4                       (2019-02-08 22:03:08, 2019-02-08 22:12:55, 2019-02-08 22:29:36)   \n",
       "03a83dfed85701fec89696101cfd0599c2a0455e  (2019-02-06 02:07:07, 2019-02-06 02:23:29, 2019-02-06 02:33:56, 2019-02-06 02:56:51)   \n",
       "03d9716ddbceba091c21d19556c6cfb948a2a053                       (2019-02-09 22:11:41, 2019-02-09 22:23:43, 2019-02-09 22:43:30)   \n",
       "044660ea53f902d9485a8eb92f518e3ebfe8281a                       (2019-02-01 00:45:59, 2019-02-01 00:54:38, 2019-02-01 01:08:10)   \n",
       "0459d60a0011bc3b46238dc6c1142e238fd0ae98                       (2019-02-01 04:32:11, 2019-02-01 04:43:38, 2019-02-01 05:04:10)   \n",
       "046daafeb079c860600486a81475ed5433f40c1b                       (2019-01-31 22:12:07, 2019-01-31 22:29:02, 2019-01-31 22:38:47)   \n",
       "04c2809382495154f4852915d2e67872bbb5aef6  (2019-02-09 05:58:56, 2019-02-09 06:15:09, 2019-02-09 06:24:36, 2019-02-09 06:44:16)   \n",
       "04e889d75ddd21a3f1afcae62ca26d8d766c9019                       (2019-02-10 03:48:11, 2019-02-10 04:05:12, 2019-02-10 04:19:33)   \n",
       "0513fd3f53c7fea1b314dcf1cb26475c2013f9d5  (2019-01-31 21:31:13, 2019-01-31 21:46:11, 2019-01-31 21:55:47, 2019-01-31 22:16:33)   \n",
       "05320194a43aa60fa7cbc6d741a8c60fa8acd9d1  (2019-02-02 21:17:43, 2019-02-02 21:30:30, 2019-02-02 21:40:02, 2019-02-02 21:55:03)   \n",
       "0543696ff458d5a5519c3aa3ba4ba5a798e14762                       (2019-02-09 23:36:34, 2019-02-09 23:47:56, 2019-02-10 00:06:20)   \n",
       "061974ad04affe03037374bb4d6b11328abd1ae8  (2019-02-04 01:58:22, 2019-02-04 02:13:55, 2019-02-04 02:23:26, 2019-02-04 02:42:05)   \n",
       "0638bbbacda5119edf2223a38441c696b7f63ca2  (2019-02-01 04:23:22, 2019-02-01 04:39:11, 2019-02-01 04:49:09, 2019-02-01 05:07:51)   \n",
       "0642b09361856127921f7838122ee7ff22f18523                       (2019-02-07 21:26:30, 2019-02-07 21:38:05, 2019-02-07 21:55:58)   \n",
       "06543f35108765d8adb92c357abde05982a8ee59                       (2019-02-06 20:01:11, 2019-02-06 20:18:42, 2019-02-06 20:29:22)   \n",
       "06b43866931472b0265f438e44204f0e8ea3469a                       (2019-02-01 21:38:18, 2019-02-01 21:52:56, 2019-02-01 22:01:43)   \n",
       "06d700ac979553f14f8976d0a85dab5663b7735c  (2019-02-09 20:37:47, 2019-02-09 20:49:33, 2019-02-10 06:31:46, 2019-02-10 06:49:55)   \n",
       "...                                                                                                                        ...   \n",
       "f9a88aaed359406cf0e70d2e302c68a7820b55ba                       (2019-02-10 23:05:02, 2019-02-10 23:19:56, 2019-02-10 23:33:10)   \n",
       "f9bb353c3a28812886de26bb1e333eecbcde7df7  (2019-01-31 05:23:46, 2019-01-31 05:41:33, 2019-01-31 05:59:27, 2019-01-31 06:11:08)   \n",
       "f9c6876c3f364ec801e55bf08dc77edc377894f5  (2019-02-01 00:40:47, 2019-02-01 00:57:57, 2019-02-01 01:08:27, 2019-02-01 01:43:46)   \n",
       "f9e7d33c4ee86ecf998fdefe3066fc5fe0a28f78                       (2019-02-11 01:20:08, 2019-02-11 01:32:12, 2019-02-11 01:57:38)   \n",
       "fa7e57a17c30faeb3aae2617b64b6b108f9a7617                       (2019-02-01 00:07:22, 2019-02-01 00:22:31, 2019-02-01 00:32:09)   \n",
       "fa9b53d4f218c8c71e77e820742bc18d7784ff75                                            (2019-02-02 21:08:11, 2019-02-02 21:35:32)   \n",
       "fabd3f1999afceec1eac0bf2d1ec8f6d59724348                       (2019-02-10 05:58:29, 2019-02-10 06:09:24, 2019-02-10 06:25:50)   \n",
       "fb606ac56054100ccf482ca88040242e24d1e456                                            (2019-02-10 02:49:04, 2019-02-10 03:19:56)   \n",
       "fbcea43ff6b60ce0cee479b9968158d52888813e                                            (2019-02-09 20:58:44, 2019-02-10 06:16:12)   \n",
       "fc52c0815685bb2d5ff375971ce24103693ef27e                       (2019-02-09 01:16:15, 2019-02-09 01:34:47, 2019-02-09 01:55:39)   \n",
       "fcd296ab80f963484d5e0880722f363950336e2c  (2019-01-31 22:27:03, 2019-01-31 23:00:30, 2019-01-31 23:10:07, 2019-01-31 23:28:30)   \n",
       "fcedd3403e95ca4a21dd25bb84c543260e217916                                            (2019-01-31 21:02:30, 2019-01-31 21:45:51)   \n",
       "fd32d70a537e4972b225db1e7e9827ac3fde4e4a                       (2019-02-01 22:13:42, 2019-02-01 22:22:24, 2019-02-01 22:36:42)   \n",
       "fd3ad07d72a1cc1b62d71e2ba59f2179bd06c791                       (2019-02-01 23:47:49, 2019-02-02 00:02:35, 2019-02-02 00:11:40)   \n",
       "fd5ca861990ebd3c330b6fcadaf2156a6e5de398                       (2019-02-07 22:36:02, 2019-02-07 23:01:29, 2019-02-07 23:19:56)   \n",
       "fd5fa04bf91a5949160f42e13fe6aac9761e9f2c  (2019-02-05 01:16:28, 2019-02-05 04:28:56, 2019-02-05 04:39:33, 2019-02-05 05:00:15)   \n",
       "fd6016cdefc05bda2cd67761aa287c27b51ede62  (2019-01-31 05:27:52, 2019-01-31 05:44:34, 2019-01-31 06:01:40, 2019-01-31 06:31:22)   \n",
       "fdec5c4858c520e6a46b8db6d01ce7331687a3da                       (2019-01-31 21:06:41, 2019-01-31 21:27:16, 2019-01-31 21:35:55)   \n",
       "fdf0cbdad8d103485cd5bc9774f86e6fff993776                                            (2019-01-31 20:45:15, 2019-01-31 21:24:09)   \n",
       "fe286993e3a178d8c910b9a2366ebc02cde7d344                       (2019-02-09 03:09:17, 2019-02-09 03:16:57, 2019-02-09 03:29:11)   \n",
       "fe2f3fbc0ad7639ce50056b93d5d374a9bcb880b                       (2019-02-09 21:14:32, 2019-02-09 21:25:08, 2019-02-09 21:50:48)   \n",
       "fe4ae781585085f0b481a88857aadc5fe491ef87                                            (2019-02-08 02:34:20, 2019-02-08 02:59:56)   \n",
       "fe5b6c03866105963fcf877aa53bfd9df962fad1                                            (2019-01-31 01:35:24, 2019-01-31 02:01:33)   \n",
       "fe83ed8b9474c28565b9ce4f1975bb485b02d22e                       (2019-02-06 03:44:42, 2019-02-06 04:03:24, 2019-02-06 04:14:39)   \n",
       "feb6a47aef3eda2b9c7b113ad8f83bc1d16ecea0  (2019-02-04 21:32:14, 2019-02-04 21:44:58, 2019-02-04 21:53:54, 2019-02-04 22:08:23)   \n",
       "ff05a1f9ca8c7712d36d511c583084319a370bac                       (2019-02-09 22:15:12, 2019-02-09 22:36:19, 2019-02-09 22:45:53)   \n",
       "ff31b0a4571468fee837c9f66415ecc2903c9a91  (2019-02-03 02:28:27, 2019-02-03 02:43:37, 2019-02-03 02:53:03, 2019-02-03 03:31:13)   \n",
       "ff8d8500e414349b5c973f6f096279144d789545                       (2019-02-11 04:10:44, 2019-02-11 04:23:47, 2019-02-11 04:42:50)   \n",
       "ffa62ba7129a507120d10fadc70c5aedacc513c1  (2019-02-10 05:10:22, 2019-02-10 05:25:32, 2019-02-10 05:34:58, 2019-02-10 06:27:56)   \n",
       "ffbb4e070aaa7f3b95ab237720e8439073137a27  (2019-02-07 21:52:38, 2019-02-07 22:04:19, 2019-02-07 22:13:00, 2019-02-07 22:26:37)   \n",
       "\n",
       "                                               state  \n",
       "immat                                                 \n",
       "001e325735145d38489dc2bec097cc10d3294386        {NL}  \n",
       "00211a77de4f1d952d0384090f231efd091e4805        {ES}  \n",
       "0028aa39418784ac9abe4f9cb52dd8d732ec58aa        {NL}  \n",
       "00800ead14cca17cea7df922087f1f0fd35af0e7        {PL}  \n",
       "009f5722e10075e77b58bd067f419d116c3c272f        {PL}  \n",
       "012454c49cc65806d25a0d3641f3e899d1948465        {NL}  \n",
       "012f57273420b5ff3dc07881350e6ce368de9fbc        {PT}  \n",
       "0181bd66684bad32c89ff81f0077edf6a426be16        {BE}  \n",
       "021c276fb5eeeba9ff761ee23454c51635b22eef        {BE}  \n",
       "025517d2ea104d0b3f98a9c390f71e602c930d01        {BE}  \n",
       "02b354880681b40a3c45f3022772ad561442bddc        {UK}  \n",
       "02d25c75817afa0107d5fa2596c14e47cb7921b7        {DE}  \n",
       "0344d578ba0266b546bb516d671c683b41e7a5c0        {RO}  \n",
       "0380b1abf52114ca0f103981fcf8a4599dff58a4        {IT}  \n",
       "03a83dfed85701fec89696101cfd0599c2a0455e        {NL}  \n",
       "03d9716ddbceba091c21d19556c6cfb948a2a053        {BE}  \n",
       "044660ea53f902d9485a8eb92f518e3ebfe8281a        {DE}  \n",
       "0459d60a0011bc3b46238dc6c1142e238fd0ae98        {BE}  \n",
       "046daafeb079c860600486a81475ed5433f40c1b  {BE/DE/PL}  \n",
       "04c2809382495154f4852915d2e67872bbb5aef6        {PT}  \n",
       "04e889d75ddd21a3f1afcae62ca26d8d766c9019        {PT}  \n",
       "0513fd3f53c7fea1b314dcf1cb26475c2013f9d5        {PT}  \n",
       "05320194a43aa60fa7cbc6d741a8c60fa8acd9d1        {DE}  \n",
       "0543696ff458d5a5519c3aa3ba4ba5a798e14762        {PL}  \n",
       "061974ad04affe03037374bb4d6b11328abd1ae8        {PT}  \n",
       "0638bbbacda5119edf2223a38441c696b7f63ca2        {BE}  \n",
       "0642b09361856127921f7838122ee7ff22f18523        {RO}  \n",
       "06543f35108765d8adb92c357abde05982a8ee59        {PL}  \n",
       "06b43866931472b0265f438e44204f0e8ea3469a        {ES}  \n",
       "06d700ac979553f14f8976d0a85dab5663b7735c        {DE}  \n",
       "...                                              ...  \n",
       "f9a88aaed359406cf0e70d2e302c68a7820b55ba        {DE}  \n",
       "f9bb353c3a28812886de26bb1e333eecbcde7df7        {BG}  \n",
       "f9c6876c3f364ec801e55bf08dc77edc377894f5        {PT}  \n",
       "f9e7d33c4ee86ecf998fdefe3066fc5fe0a28f78        {DE}  \n",
       "fa7e57a17c30faeb3aae2617b64b6b108f9a7617        {PT}  \n",
       "fa9b53d4f218c8c71e77e820742bc18d7784ff75        {PT}  \n",
       "fabd3f1999afceec1eac0bf2d1ec8f6d59724348        {RO}  \n",
       "fb606ac56054100ccf482ca88040242e24d1e456        {UK}  \n",
       "fbcea43ff6b60ce0cee479b9968158d52888813e        {RO}  \n",
       "fc52c0815685bb2d5ff375971ce24103693ef27e        {RO}  \n",
       "fcd296ab80f963484d5e0880722f363950336e2c        {DE}  \n",
       "fcedd3403e95ca4a21dd25bb84c543260e217916        {ES}  \n",
       "fd32d70a537e4972b225db1e7e9827ac3fde4e4a        {ES}  \n",
       "fd3ad07d72a1cc1b62d71e2ba59f2179bd06c791        {BE}  \n",
       "fd5ca861990ebd3c330b6fcadaf2156a6e5de398        {ES}  \n",
       "fd5fa04bf91a5949160f42e13fe6aac9761e9f2c        {UK}  \n",
       "fd6016cdefc05bda2cd67761aa287c27b51ede62        {ES}  \n",
       "fdec5c4858c520e6a46b8db6d01ce7331687a3da        {IT}  \n",
       "fdf0cbdad8d103485cd5bc9774f86e6fff993776        {PL}  \n",
       "fe286993e3a178d8c910b9a2366ebc02cde7d344        {DE}  \n",
       "fe2f3fbc0ad7639ce50056b93d5d374a9bcb880b        {BE}  \n",
       "fe4ae781585085f0b481a88857aadc5fe491ef87        {PL}  \n",
       "fe5b6c03866105963fcf877aa53bfd9df962fad1        {RO}  \n",
       "fe83ed8b9474c28565b9ce4f1975bb485b02d22e        {ES}  \n",
       "feb6a47aef3eda2b9c7b113ad8f83bc1d16ecea0        {DE}  \n",
       "ff05a1f9ca8c7712d36d511c583084319a370bac        {NL}  \n",
       "ff31b0a4571468fee837c9f66415ecc2903c9a91        {NL}  \n",
       "ff8d8500e414349b5c973f6f096279144d789545        {RO}  \n",
       "ffa62ba7129a507120d10fadc70c5aedacc513c1        {PT}  \n",
       "ffbb4e070aaa7f3b95ab237720e8439073137a27        {ES}  \n",
       "\n",
       "[1165 rows x 3 columns]"
      ]
     },
     "execution_count": 169,
     "metadata": {},
     "output_type": "execute_result"
    }
   ],
   "source": [
    "groupe_filtre=groupe_filtre.loc[~groupe_filtre.apply(lambda x: [(a) for a in x['state']]==['  '],axis=1)]\n",
    "groupe_filtre"
   ]
  },
  {
   "cell_type": "code",
   "execution_count": 141,
   "metadata": {},
   "outputs": [],
   "source": [
    "df_passages2.loc[df_passages2['immat'].isin(groupe_filtre.index.tolist()),'l']=1"
   ]
  },
  {
   "cell_type": "code",
   "execution_count": 18,
   "metadata": {},
   "outputs": [
    {
     "data": {
      "text/html": [
       "<div>\n",
       "<style scoped>\n",
       "    .dataframe tbody tr th:only-of-type {\n",
       "        vertical-align: middle;\n",
       "    }\n",
       "\n",
       "    .dataframe tbody tr th {\n",
       "        vertical-align: top;\n",
       "    }\n",
       "\n",
       "    .dataframe thead th {\n",
       "        text-align: right;\n",
       "    }\n",
       "</style>\n",
       "<table border=\"1\" class=\"dataframe\">\n",
       "  <thead>\n",
       "    <tr style=\"text-align: right;\">\n",
       "      <th></th>\n",
       "      <th>id</th>\n",
       "      <th>immatriculation</th>\n",
       "      <th>pl_siv</th>\n",
       "      <th>pl_3barriere</th>\n",
       "      <th>pl_2barriere</th>\n",
       "      <th>pl_mmr75</th>\n",
       "      <th>pl_1barriere</th>\n",
       "      <th>pl_3camera</th>\n",
       "      <th>pl_2camera</th>\n",
       "      <th>pl_1camera</th>\n",
       "      <th>vul_siv</th>\n",
       "      <th>vul_mmr75</th>\n",
       "      <th>vl_siv</th>\n",
       "      <th>vl_mmr75</th>\n",
       "      <th>vl_3camera</th>\n",
       "      <th>vl_2camera</th>\n",
       "      <th>vl_1camera</th>\n",
       "      <th>pl_total</th>\n",
       "      <th>vul_total</th>\n",
       "      <th>vl_total</th>\n",
       "      <th>mot</th>\n",
       "      <th>type_veh</th>\n",
       "    </tr>\n",
       "  </thead>\n",
       "  <tbody>\n",
       "    <tr>\n",
       "      <th>2549004</th>\n",
       "      <td>1914544</td>\n",
       "      <td>b86a39d29995c8839d934989cc90d9a48f114ca4</td>\n",
       "      <td>0</td>\n",
       "      <td>0</td>\n",
       "      <td>0</td>\n",
       "      <td>0</td>\n",
       "      <td>0</td>\n",
       "      <td>1</td>\n",
       "      <td>0</td>\n",
       "      <td>1</td>\n",
       "      <td>1</td>\n",
       "      <td>0</td>\n",
       "      <td>0</td>\n",
       "      <td>1</td>\n",
       "      <td>1</td>\n",
       "      <td>0</td>\n",
       "      <td>0</td>\n",
       "      <td>0</td>\n",
       "      <td>128</td>\n",
       "      <td>32</td>\n",
       "      <td>360480</td>\n",
       "      <td>-1</td>\n",
       "    </tr>\n",
       "  </tbody>\n",
       "</table>\n",
       "</div>"
      ],
      "text/plain": [
       "              id                           immatriculation  pl_siv  \\\n",
       "2549004  1914544  b86a39d29995c8839d934989cc90d9a48f114ca4       0   \n",
       "\n",
       "         pl_3barriere  pl_2barriere  pl_mmr75  pl_1barriere  pl_3camera  \\\n",
       "2549004             0             0         0             0           1   \n",
       "\n",
       "         pl_2camera  pl_1camera  vul_siv  vul_mmr75  vl_siv  vl_mmr75  \\\n",
       "2549004           0           1        1          0       0         1   \n",
       "\n",
       "         vl_3camera  vl_2camera  vl_1camera  pl_total  vul_total  vl_total  \\\n",
       "2549004           1           0           0         0        128        32   \n",
       "\n",
       "            mot  type_veh  \n",
       "2549004  360480        -1  "
      ]
     },
     "execution_count": 18,
     "metadata": {},
     "output_type": "execute_result"
    }
   ],
   "source": [
    "#premier exemple : cas de vl_total et vul_total rempli : il faut modifier la condition et ne pas interroger les attributs _total mais bien les attributs source\n",
    "df_immat.loc[df_immat['immatriculation']=='b86a39d29995c8839d934989cc90d9a48f114ca4']"
   ]
  },
  {
   "cell_type": "code",
   "execution_count": 19,
   "metadata": {},
   "outputs": [
    {
     "data": {
      "text/html": [
       "<div>\n",
       "<style scoped>\n",
       "    .dataframe tbody tr th:only-of-type {\n",
       "        vertical-align: middle;\n",
       "    }\n",
       "\n",
       "    .dataframe tbody tr th {\n",
       "        vertical-align: top;\n",
       "    }\n",
       "\n",
       "    .dataframe thead th {\n",
       "        text-align: right;\n",
       "    }\n",
       "</style>\n",
       "<table border=\"1\" class=\"dataframe\">\n",
       "  <thead>\n",
       "    <tr style=\"text-align: right;\">\n",
       "      <th></th>\n",
       "      <th>id</th>\n",
       "      <th>immatriculation</th>\n",
       "      <th>pl_siv</th>\n",
       "      <th>pl_3barriere</th>\n",
       "      <th>pl_2barriere</th>\n",
       "      <th>pl_mmr75</th>\n",
       "      <th>pl_1barriere</th>\n",
       "      <th>pl_3camera</th>\n",
       "      <th>pl_2camera</th>\n",
       "      <th>pl_1camera</th>\n",
       "      <th>vul_siv</th>\n",
       "      <th>vul_mmr75</th>\n",
       "      <th>vl_siv</th>\n",
       "      <th>vl_mmr75</th>\n",
       "      <th>vl_3camera</th>\n",
       "      <th>vl_2camera</th>\n",
       "      <th>vl_1camera</th>\n",
       "      <th>pl_total</th>\n",
       "      <th>vul_total</th>\n",
       "      <th>vl_total</th>\n",
       "      <th>mot</th>\n",
       "      <th>type_veh</th>\n",
       "    </tr>\n",
       "  </thead>\n",
       "  <tbody>\n",
       "    <tr>\n",
       "      <th>2578051</th>\n",
       "      <td>2109090</td>\n",
       "      <td>cb12765d8b9f8a6d8d11e7ea1a384272466c2324</td>\n",
       "      <td>0</td>\n",
       "      <td>0</td>\n",
       "      <td>0</td>\n",
       "      <td>0</td>\n",
       "      <td>0</td>\n",
       "      <td>1</td>\n",
       "      <td>0</td>\n",
       "      <td>0</td>\n",
       "      <td>0</td>\n",
       "      <td>0</td>\n",
       "      <td>0</td>\n",
       "      <td>0</td>\n",
       "      <td>1</td>\n",
       "      <td>0</td>\n",
       "      <td>0</td>\n",
       "      <td>0</td>\n",
       "      <td>0</td>\n",
       "      <td>0</td>\n",
       "      <td>262144</td>\n",
       "      <td>-1</td>\n",
       "    </tr>\n",
       "  </tbody>\n",
       "</table>\n",
       "</div>"
      ],
      "text/plain": [
       "              id                           immatriculation  pl_siv  \\\n",
       "2578051  2109090  cb12765d8b9f8a6d8d11e7ea1a384272466c2324       0   \n",
       "\n",
       "         pl_3barriere  pl_2barriere  pl_mmr75  pl_1barriere  pl_3camera  \\\n",
       "2578051             0             0         0             0           1   \n",
       "\n",
       "         pl_2camera  pl_1camera  vul_siv  vul_mmr75  vl_siv  vl_mmr75  \\\n",
       "2578051           0           0        0          0       0         0   \n",
       "\n",
       "         vl_3camera  vl_2camera  vl_1camera  pl_total  vul_total  vl_total  \\\n",
       "2578051           1           0           0         0          0         0   \n",
       "\n",
       "            mot  type_veh  \n",
       "2578051  262144        -1  "
      ]
     },
     "execution_count": 19,
     "metadata": {},
     "output_type": "execute_result"
    }
   ],
   "source": [
    "#deuxieme exemple : cas de aucun attributs rempli : on laisse à -1\n",
    "df_immat.loc[df_immat['immatriculation']=='cb12765d8b9f8a6d8d11e7ea1a384272466c2324']"
   ]
  },
  {
   "cell_type": "code",
   "execution_count": 24,
   "metadata": {},
   "outputs": [
    {
     "data": {
      "text/html": [
       "<div>\n",
       "<style scoped>\n",
       "    .dataframe tbody tr th:only-of-type {\n",
       "        vertical-align: middle;\n",
       "    }\n",
       "\n",
       "    .dataframe tbody tr th {\n",
       "        vertical-align: top;\n",
       "    }\n",
       "\n",
       "    .dataframe thead th {\n",
       "        text-align: right;\n",
       "    }\n",
       "</style>\n",
       "<table border=\"1\" class=\"dataframe\">\n",
       "  <thead>\n",
       "    <tr style=\"text-align: right;\">\n",
       "      <th></th>\n",
       "      <th>id</th>\n",
       "      <th>immatriculation</th>\n",
       "      <th>pl_siv</th>\n",
       "      <th>pl_3barriere</th>\n",
       "      <th>pl_2barriere</th>\n",
       "      <th>pl_mmr75</th>\n",
       "      <th>pl_1barriere</th>\n",
       "      <th>pl_3camera</th>\n",
       "      <th>pl_2camera</th>\n",
       "      <th>pl_1camera</th>\n",
       "      <th>vul_siv</th>\n",
       "      <th>vul_mmr75</th>\n",
       "      <th>vl_siv</th>\n",
       "      <th>vl_mmr75</th>\n",
       "      <th>vl_3camera</th>\n",
       "      <th>vl_2camera</th>\n",
       "      <th>vl_1camera</th>\n",
       "      <th>pl_total</th>\n",
       "      <th>vul_total</th>\n",
       "      <th>vl_total</th>\n",
       "      <th>mot</th>\n",
       "      <th>type_veh</th>\n",
       "    </tr>\n",
       "  </thead>\n",
       "  <tbody>\n",
       "    <tr>\n",
       "      <th>2643381</th>\n",
       "      <td>770228</td>\n",
       "      <td>4a2c8c1847e2bc4143e2dc51636eef039182203c</td>\n",
       "      <td>0</td>\n",
       "      <td>0</td>\n",
       "      <td>0</td>\n",
       "      <td>0</td>\n",
       "      <td>0</td>\n",
       "      <td>1</td>\n",
       "      <td>0</td>\n",
       "      <td>0</td>\n",
       "      <td>0</td>\n",
       "      <td>0</td>\n",
       "      <td>0</td>\n",
       "      <td>0</td>\n",
       "      <td>1</td>\n",
       "      <td>0</td>\n",
       "      <td>0</td>\n",
       "      <td>0</td>\n",
       "      <td>0</td>\n",
       "      <td>0</td>\n",
       "      <td>262144</td>\n",
       "      <td>-1</td>\n",
       "    </tr>\n",
       "  </tbody>\n",
       "</table>\n",
       "</div>"
      ],
      "text/plain": [
       "             id                           immatriculation  pl_siv  \\\n",
       "2643381  770228  4a2c8c1847e2bc4143e2dc51636eef039182203c       0   \n",
       "\n",
       "         pl_3barriere  pl_2barriere  pl_mmr75  pl_1barriere  pl_3camera  \\\n",
       "2643381             0             0         0             0           1   \n",
       "\n",
       "         pl_2camera  pl_1camera  vul_siv  vul_mmr75  vl_siv  vl_mmr75  \\\n",
       "2643381           0           0        0          0       0         0   \n",
       "\n",
       "         vl_3camera  vl_2camera  vl_1camera  pl_total  vul_total  vl_total  \\\n",
       "2643381           1           0           0         0          0         0   \n",
       "\n",
       "            mot  type_veh  \n",
       "2643381  262144        -1  "
      ]
     },
     "execution_count": 24,
     "metadata": {},
     "output_type": "execute_result"
    }
   ],
   "source": [
    "#3eme exemple : cas de vl_total et vul_total rempli : véhicules étranger passés de nuit\n",
    "df_immat.loc[df_immat['immatriculation']=='4a2c8c1847e2bc4143e2dc51636eef039182203c']"
   ]
  },
  {
   "cell_type": "code",
   "execution_count": 29,
   "metadata": {},
   "outputs": [
    {
     "data": {
      "text/html": [
       "<div>\n",
       "<style scoped>\n",
       "    .dataframe tbody tr th:only-of-type {\n",
       "        vertical-align: middle;\n",
       "    }\n",
       "\n",
       "    .dataframe tbody tr th {\n",
       "        vertical-align: top;\n",
       "    }\n",
       "\n",
       "    .dataframe thead th {\n",
       "        text-align: right;\n",
       "    }\n",
       "</style>\n",
       "<table border=\"1\" class=\"dataframe\">\n",
       "  <thead>\n",
       "    <tr style=\"text-align: right;\">\n",
       "      <th></th>\n",
       "      <th>id</th>\n",
       "      <th>immatriculation</th>\n",
       "      <th>pl_siv</th>\n",
       "      <th>pl_3barriere</th>\n",
       "      <th>pl_2barriere</th>\n",
       "      <th>pl_mmr75</th>\n",
       "      <th>pl_1barriere</th>\n",
       "      <th>pl_3camera</th>\n",
       "      <th>pl_2camera</th>\n",
       "      <th>pl_1camera</th>\n",
       "      <th>vul_siv</th>\n",
       "      <th>vul_mmr75</th>\n",
       "      <th>vl_siv</th>\n",
       "      <th>vl_mmr75</th>\n",
       "      <th>vl_3camera</th>\n",
       "      <th>vl_2camera</th>\n",
       "      <th>vl_1camera</th>\n",
       "      <th>pl_total</th>\n",
       "      <th>vul_total</th>\n",
       "      <th>vl_total</th>\n",
       "      <th>mot</th>\n",
       "      <th>type_veh</th>\n",
       "    </tr>\n",
       "  </thead>\n",
       "  <tbody>\n",
       "    <tr>\n",
       "      <th>2643381</th>\n",
       "      <td>770228</td>\n",
       "      <td>4a2c8c1847e2bc4143e2dc51636eef039182203c</td>\n",
       "      <td>0</td>\n",
       "      <td>0</td>\n",
       "      <td>0</td>\n",
       "      <td>0</td>\n",
       "      <td>0</td>\n",
       "      <td>1</td>\n",
       "      <td>0</td>\n",
       "      <td>0</td>\n",
       "      <td>0</td>\n",
       "      <td>0</td>\n",
       "      <td>0</td>\n",
       "      <td>0</td>\n",
       "      <td>1</td>\n",
       "      <td>0</td>\n",
       "      <td>0</td>\n",
       "      <td>0</td>\n",
       "      <td>0</td>\n",
       "      <td>0</td>\n",
       "      <td>262144</td>\n",
       "      <td>-1</td>\n",
       "    </tr>\n",
       "  </tbody>\n",
       "</table>\n",
       "</div>"
      ],
      "text/plain": [
       "             id                           immatriculation  pl_siv  \\\n",
       "2643381  770228  4a2c8c1847e2bc4143e2dc51636eef039182203c       0   \n",
       "\n",
       "         pl_3barriere  pl_2barriere  pl_mmr75  pl_1barriere  pl_3camera  \\\n",
       "2643381             0             0         0             0           1   \n",
       "\n",
       "         pl_2camera  pl_1camera  vul_siv  vul_mmr75  vl_siv  vl_mmr75  \\\n",
       "2643381           0           0        0          0       0         0   \n",
       "\n",
       "         vl_3camera  vl_2camera  vl_1camera  pl_total  vul_total  vl_total  \\\n",
       "2643381           1           0           0         0          0         0   \n",
       "\n",
       "            mot  type_veh  \n",
       "2643381  262144        -1  "
      ]
     },
     "execution_count": 29,
     "metadata": {},
     "output_type": "execute_result"
    }
   ],
   "source": [
    "#4eme exemple : cas de 9l_total et vul_total rempli : véhicules étranger passés de nuit\n",
    "df_immat.loc[df_immat['immatriculation']=='4a2c8c1847e2bc4143e2dc51636eef039182203c']"
   ]
  },
  {
   "cell_type": "code",
   "execution_count": 173,
   "metadata": {},
   "outputs": [
    {
     "data": {
      "text/html": [
       "<div>\n",
       "<style scoped>\n",
       "    .dataframe tbody tr th:only-of-type {\n",
       "        vertical-align: middle;\n",
       "    }\n",
       "\n",
       "    .dataframe tbody tr th {\n",
       "        vertical-align: top;\n",
       "    }\n",
       "\n",
       "    .dataframe thead th {\n",
       "        text-align: right;\n",
       "    }\n",
       "</style>\n",
       "<table border=\"1\" class=\"dataframe\">\n",
       "  <thead>\n",
       "    <tr style=\"text-align: right;\">\n",
       "      <th></th>\n",
       "      <th>index</th>\n",
       "      <th>camera_id</th>\n",
       "      <th>immat</th>\n",
       "      <th>fiability</th>\n",
       "      <th>l</th>\n",
       "      <th>state</th>\n",
       "      <th>id</th>\n",
       "    </tr>\n",
       "    <tr>\n",
       "      <th>created</th>\n",
       "      <th></th>\n",
       "      <th></th>\n",
       "      <th></th>\n",
       "      <th></th>\n",
       "      <th></th>\n",
       "      <th></th>\n",
       "      <th></th>\n",
       "    </tr>\n",
       "  </thead>\n",
       "  <tbody>\n",
       "    <tr>\n",
       "      <th>2019-01-31 00:11:02</th>\n",
       "      <td>1585270</td>\n",
       "      <td>6</td>\n",
       "      <td>4a2c8c1847e2bc4143e2dc51636eef039182203c</td>\n",
       "      <td>99</td>\n",
       "      <td>1</td>\n",
       "      <td>ES</td>\n",
       "      <td>1014857</td>\n",
       "    </tr>\n",
       "    <tr>\n",
       "      <th>2019-01-31 00:21:39</th>\n",
       "      <td>1591264</td>\n",
       "      <td>3</td>\n",
       "      <td>4a2c8c1847e2bc4143e2dc51636eef039182203c</td>\n",
       "      <td>79</td>\n",
       "      <td>1</td>\n",
       "      <td>ES</td>\n",
       "      <td>1014858</td>\n",
       "    </tr>\n",
       "    <tr>\n",
       "      <th>2019-01-31 05:40:08</th>\n",
       "      <td>1587520</td>\n",
       "      <td>9</td>\n",
       "      <td>4a2c8c1847e2bc4143e2dc51636eef039182203c</td>\n",
       "      <td>99</td>\n",
       "      <td>1</td>\n",
       "      <td>ES</td>\n",
       "      <td>1014859</td>\n",
       "    </tr>\n",
       "  </tbody>\n",
       "</table>\n",
       "</div>"
      ],
      "text/plain": [
       "                       index  camera_id  \\\n",
       "created                                   \n",
       "2019-01-31 00:11:02  1585270          6   \n",
       "2019-01-31 00:21:39  1591264          3   \n",
       "2019-01-31 05:40:08  1587520          9   \n",
       "\n",
       "                                                        immat  fiability  l  \\\n",
       "created                                                                       \n",
       "2019-01-31 00:11:02  4a2c8c1847e2bc4143e2dc51636eef039182203c         99  1   \n",
       "2019-01-31 00:21:39  4a2c8c1847e2bc4143e2dc51636eef039182203c         79  1   \n",
       "2019-01-31 05:40:08  4a2c8c1847e2bc4143e2dc51636eef039182203c         99  1   \n",
       "\n",
       "                    state       id  \n",
       "created                             \n",
       "2019-01-31 00:11:02    ES  1014857  \n",
       "2019-01-31 00:21:39    ES  1014858  \n",
       "2019-01-31 05:40:08    ES  1014859  "
      ]
     },
     "execution_count": 173,
     "metadata": {},
     "output_type": "execute_result"
    }
   ],
   "source": [
    "#localisation dans le fichier des passages\n",
    "df_passages3.loc[df_passages3['immat']=='4a2c8c1847e2bc4143e2dc51636eef039182203c']"
   ]
  },
  {
   "cell_type": "markdown",
   "metadata": {},
   "source": [
    "# 2. Identifier les trajets de transit"
   ]
  },
  {
   "cell_type": "code",
   "execution_count": 8,
   "metadata": {},
   "outputs": [],
   "source": [
    "df_passages4=df_passages3.loc[df_passages3['l']==1].copy()"
   ]
  },
  {
   "cell_type": "code",
   "execution_count": 9,
   "metadata": {},
   "outputs": [
    {
     "name": "stdout",
     "output_type": "stream",
     "text": [
      "date : 2019-01-31 00:00:00 debut_traitement : 2019-05-20 09:33:52.914738\n",
      "date : 2019-02-01 00:00:00 debut_traitement : 2019-05-20 09:34:54.422937\n",
      "date : 2019-02-02 00:00:00 debut_traitement : 2019-05-20 09:35:57.869632\n",
      "date : 2019-02-03 00:00:00 debut_traitement : 2019-05-20 09:36:51.652405\n",
      "date : 2019-02-04 00:00:00 debut_traitement : 2019-05-20 09:37:33.211683\n",
      "date : 2019-02-05 00:00:00 debut_traitement : 2019-05-20 09:38:47.950646\n",
      "date : 2019-02-06 00:00:00 debut_traitement : 2019-05-20 09:40:23.560444\n",
      "date : 2019-02-07 00:00:00 debut_traitement : 2019-05-20 09:41:44.447666\n",
      "date : 2019-02-08 00:00:00 debut_traitement : 2019-05-20 09:43:27.702275\n",
      "date : 2019-02-09 00:00:00 debut_traitement : 2019-05-20 09:45:06.545786\n",
      "date : 2019-02-10 00:00:00 debut_traitement : 2019-05-20 09:46:31.104019\n"
     ]
    }
   ],
   "source": [
    "dico_od,  dico_passag, dico_tps_max=t.transit_temps_complet('2019-01-31 00:00:00',11,df_passages4)"
   ]
  },
  {
   "cell_type": "markdown",
   "metadata": {},
   "source": [
    "# 3. Filtrer les trajets selon un temps de parcours"
   ]
  },
  {
   "cell_type": "code",
   "execution_count": 22,
   "metadata": {},
   "outputs": [],
   "source": [
    "#df des temsp de parcours\n",
    "dixco_tpsmax_corrige=t.corriger_df_tps_parcours(dico_tps_max)"
   ]
  },
  {
   "cell_type": "markdown",
   "metadata": {},
   "source": [
    "***Ici on pourra caracteriser l'impact de la marge***"
   ]
  },
  {
   "cell_type": "code",
   "execution_count": 23,
   "metadata": {},
   "outputs": [
    {
     "name": "stdout",
     "output_type": "stream",
     "text": [
      "Wall time: 1min 13s\n"
     ]
    }
   ],
   "source": [
    "# df complete avec l'atribut filtre\n",
    "%time df_transit_avec_filtre=t.jointure_temps_reel_theorique(dico_od,dixco_tpsmax_corrige,t.liste_complete_trajet, 15)"
   ]
  },
  {
   "cell_type": "code",
   "execution_count": 13,
   "metadata": {},
   "outputs": [],
   "source": [
    "#filtrer le df : \n",
    "dico_od_final=df_transit_avec_filtre.loc[df_transit_avec_filtre['filtre_tps']==1]\n",
    "dico_passag_final=t.trajet2passage(dico_od_final,dico_passag)"
   ]
  },
  {
   "cell_type": "markdown",
   "metadata": {},
   "source": [
    "# 4. Correction des trajets depuis ou vers A660 relatifs à A63"
   ]
  },
  {
   "cell_type": "code",
   "execution_count": 14,
   "metadata": {},
   "outputs": [
    {
     "name": "stdout",
     "output_type": "stream",
     "text": [
      "Wall time: 21min 10s\n"
     ]
    }
   ],
   "source": [
    "%time df_od_corrige=t.correction_trajet(df_passages2, dico_od_final)"
   ]
  },
  {
   "cell_type": "markdown",
   "metadata": {},
   "source": [
    "# 5. Extrapolation des trajets non complets"
   ]
  },
  {
   "cell_type": "code",
   "execution_count": 15,
   "metadata": {},
   "outputs": [
    {
     "name": "stdout",
     "output_type": "stream",
     "text": [
      "Wall time: 59.1 s\n"
     ]
    }
   ],
   "source": [
    "#creer les donnees necessaires\n",
    "%time df_filtre_A63,df_passage_transit,df_non_transit=t.param_trajet_incomplet('2019-01-28 00:00:00',df_od_corrige,df_passages2,dico_passag)"
   ]
  },
  {
   "cell_type": "code",
   "execution_count": 18,
   "metadata": {},
   "outputs": [
    {
     "name": "stdout",
     "output_type": "stream",
     "text": [
      "date : 2019-01-31 00:00:00 debut_traitement : 2019-05-16 21:13:50.615971\n",
      "date : 2019-02-01 00:00:00 debut_traitement : 2019-05-16 21:15:37.979249\n",
      "date : 2019-02-02 00:00:00 debut_traitement : 2019-05-16 21:16:40.077915\n",
      "date : 2019-02-03 00:00:00 debut_traitement : 2019-05-16 21:17:03.510637\n",
      "date : 2019-02-04 00:00:00 debut_traitement : 2019-05-16 21:17:23.077283\n",
      "date : 2019-02-05 00:00:00 debut_traitement : 2019-05-16 21:18:07.226284\n",
      "date : 2019-02-06 00:00:00 debut_traitement : 2019-05-16 21:19:00.164409\n",
      "date : 2019-02-07 00:00:00 debut_traitement : 2019-05-16 21:19:45.334828\n",
      "date : 2019-02-08 00:00:00 debut_traitement : 2019-05-16 21:20:19.822434\n",
      "date : 2019-02-09 00:00:00 debut_traitement : 2019-05-16 21:20:45.965237\n",
      "date : 2019-02-10 00:00:00 debut_traitement : 2019-05-16 21:21:02.941735\n",
      "Wall time: 7min 28s\n"
     ]
    }
   ],
   "source": [
    "#trajet de transit incomplet sans filtre sur temps de parcours\n",
    "%time trajet_transit_incomplet2, passage2=t.transit_trajet_incomplet(df_filtre_A63,df_passage_transit,'2019-01-31 00:00:00',11, df_passages2)"
   ]
  },
  {
   "cell_type": "code",
   "execution_count": 19,
   "metadata": {},
   "outputs": [],
   "source": [
    "#filtrer selon le temps de parcours\n",
    "trajet_transit_incomplet_filtre_temps=t.jointure_temps_reel_theorique(trajet_transit_incomplet2,dixco_tpsmax_corrige,t.liste_trajet_incomplet, 15,'incomplet')\n",
    "#mettre en forme les attributs\n",
    "trajet_transit_incomplet_filtre_temps=trajet_transit_incomplet_filtre_temps[['date_cam_1', 'immat', 'state', 'l', 'date_cam_2', 'cameras', 'origine',\n",
    "       'destination', 'o_d', 'tps_parcours', 'period', 'date', 'temps', 'type',\n",
    "       'tps_parcours_theoriq', 'filtre_tps']]"
   ]
  },
  {
   "cell_type": "code",
   "execution_count": 20,
   "metadata": {},
   "outputs": [],
   "source": [
    "#filtrer le df : \n",
    "trajet_transit_incomplet_final=trajet_transit_incomplet_filtre_temps.loc[trajet_transit_incomplet_filtre_temps['filtre_tps']==1].copy()\n",
    "#ajouter l'attribut d'identification des trajets \n",
    "trajet_transit_incomplet_final['correction_o_d']=True\n",
    "trajet_transit_incomplet_final['correction_o_d_type']='extrapole'\n",
    "#6. Ajouter au df des o_d précédents : \n",
    "df_od_final=pd.concat([df_od_corrige,trajet_transit_incomplet_final],sort=False)"
   ]
  },
  {
   "cell_type": "markdown",
   "metadata": {},
   "source": [
    "# 6. Créer le tableaude matrice o_d"
   ]
  },
  {
   "cell_type": "code",
   "execution_count": 21,
   "metadata": {},
   "outputs": [
    {
     "data": {
      "text/html": [
       "<div>\n",
       "<style scoped>\n",
       "    .dataframe tbody tr th:only-of-type {\n",
       "        vertical-align: middle;\n",
       "    }\n",
       "\n",
       "    .dataframe tbody tr th {\n",
       "        vertical-align: top;\n",
       "    }\n",
       "\n",
       "    .dataframe thead th {\n",
       "        text-align: right;\n",
       "    }\n",
       "</style>\n",
       "<table border=\"1\" class=\"dataframe\">\n",
       "  <thead>\n",
       "    <tr style=\"text-align: right;\">\n",
       "      <th>destination</th>\n",
       "      <th>A10</th>\n",
       "      <th>A62</th>\n",
       "      <th>A63</th>\n",
       "      <th>A660</th>\n",
       "      <th>A89</th>\n",
       "      <th>N10</th>\n",
       "      <th>All</th>\n",
       "    </tr>\n",
       "    <tr>\n",
       "      <th>origine</th>\n",
       "      <th></th>\n",
       "      <th></th>\n",
       "      <th></th>\n",
       "      <th></th>\n",
       "      <th></th>\n",
       "      <th></th>\n",
       "      <th></th>\n",
       "    </tr>\n",
       "  </thead>\n",
       "  <tbody>\n",
       "    <tr>\n",
       "      <th>A10</th>\n",
       "      <td>NC</td>\n",
       "      <td>2965</td>\n",
       "      <td>4485</td>\n",
       "      <td>1062</td>\n",
       "      <td>168</td>\n",
       "      <td>NC</td>\n",
       "      <td>8680</td>\n",
       "    </tr>\n",
       "    <tr>\n",
       "      <th>A62</th>\n",
       "      <td>1205</td>\n",
       "      <td>NC</td>\n",
       "      <td>168</td>\n",
       "      <td>413</td>\n",
       "      <td>271</td>\n",
       "      <td>1372</td>\n",
       "      <td>3429</td>\n",
       "    </tr>\n",
       "    <tr>\n",
       "      <th>A63</th>\n",
       "      <td>3625</td>\n",
       "      <td>106</td>\n",
       "      <td>NC</td>\n",
       "      <td>NC</td>\n",
       "      <td>779</td>\n",
       "      <td>19194</td>\n",
       "      <td>23704</td>\n",
       "    </tr>\n",
       "    <tr>\n",
       "      <th>A660</th>\n",
       "      <td>1108</td>\n",
       "      <td>389</td>\n",
       "      <td>NC</td>\n",
       "      <td>NC</td>\n",
       "      <td>525</td>\n",
       "      <td>5105</td>\n",
       "      <td>7127</td>\n",
       "    </tr>\n",
       "    <tr>\n",
       "      <th>A89</th>\n",
       "      <td>133</td>\n",
       "      <td>384</td>\n",
       "      <td>1044</td>\n",
       "      <td>596</td>\n",
       "      <td>NC</td>\n",
       "      <td>NC</td>\n",
       "      <td>2157</td>\n",
       "    </tr>\n",
       "    <tr>\n",
       "      <th>N10</th>\n",
       "      <td>NC</td>\n",
       "      <td>2412</td>\n",
       "      <td>20275</td>\n",
       "      <td>4386</td>\n",
       "      <td>NC</td>\n",
       "      <td>NC</td>\n",
       "      <td>27073</td>\n",
       "    </tr>\n",
       "    <tr>\n",
       "      <th>All</th>\n",
       "      <td>6071</td>\n",
       "      <td>6256</td>\n",
       "      <td>25972</td>\n",
       "      <td>6457</td>\n",
       "      <td>1743</td>\n",
       "      <td>25671</td>\n",
       "      <td>72170</td>\n",
       "    </tr>\n",
       "  </tbody>\n",
       "</table>\n",
       "</div>"
      ],
      "text/plain": [
       "destination   A10   A62    A63  A660   A89    N10    All\n",
       "origine                                                 \n",
       "A10            NC  2965   4485  1062   168     NC   8680\n",
       "A62          1205    NC    168   413   271   1372   3429\n",
       "A63          3625   106     NC    NC   779  19194  23704\n",
       "A660         1108   389     NC    NC   525   5105   7127\n",
       "A89           133   384   1044   596    NC     NC   2157\n",
       "N10            NC  2412  20275  4386    NC     NC  27073\n",
       "All          6071  6256  25972  6457  1743  25671  72170"
      ]
     },
     "execution_count": 21,
     "metadata": {},
     "output_type": "execute_result"
    }
   ],
   "source": [
    "# de base\n",
    "pd.pivot_table(dico_od_final,values='l', index='origine', columns='destination',aggfunc='count', margins=True).fillna('NC')"
   ]
  },
  {
   "cell_type": "code",
   "execution_count": 22,
   "metadata": {},
   "outputs": [
    {
     "data": {
      "text/html": [
       "<div>\n",
       "<style scoped>\n",
       "    .dataframe tbody tr th:only-of-type {\n",
       "        vertical-align: middle;\n",
       "    }\n",
       "\n",
       "    .dataframe tbody tr th {\n",
       "        vertical-align: top;\n",
       "    }\n",
       "\n",
       "    .dataframe thead th {\n",
       "        text-align: right;\n",
       "    }\n",
       "</style>\n",
       "<table border=\"1\" class=\"dataframe\">\n",
       "  <thead>\n",
       "    <tr style=\"text-align: right;\">\n",
       "      <th>destination</th>\n",
       "      <th>A10</th>\n",
       "      <th>A62</th>\n",
       "      <th>A63</th>\n",
       "      <th>A660</th>\n",
       "      <th>A89</th>\n",
       "      <th>N10</th>\n",
       "      <th>All</th>\n",
       "    </tr>\n",
       "    <tr>\n",
       "      <th>origine</th>\n",
       "      <th></th>\n",
       "      <th></th>\n",
       "      <th></th>\n",
       "      <th></th>\n",
       "      <th></th>\n",
       "      <th></th>\n",
       "      <th></th>\n",
       "    </tr>\n",
       "  </thead>\n",
       "  <tbody>\n",
       "    <tr>\n",
       "      <th>A10</th>\n",
       "      <td>NC</td>\n",
       "      <td>2965</td>\n",
       "      <td>4753</td>\n",
       "      <td>794</td>\n",
       "      <td>168</td>\n",
       "      <td>NC</td>\n",
       "      <td>8680</td>\n",
       "    </tr>\n",
       "    <tr>\n",
       "      <th>A62</th>\n",
       "      <td>1205</td>\n",
       "      <td>NC</td>\n",
       "      <td>198</td>\n",
       "      <td>383</td>\n",
       "      <td>271</td>\n",
       "      <td>1372</td>\n",
       "      <td>3429</td>\n",
       "    </tr>\n",
       "    <tr>\n",
       "      <th>A63</th>\n",
       "      <td>3806</td>\n",
       "      <td>123</td>\n",
       "      <td>NC</td>\n",
       "      <td>NC</td>\n",
       "      <td>842</td>\n",
       "      <td>20183</td>\n",
       "      <td>24954</td>\n",
       "    </tr>\n",
       "    <tr>\n",
       "      <th>A660</th>\n",
       "      <td>927</td>\n",
       "      <td>372</td>\n",
       "      <td>NC</td>\n",
       "      <td>NC</td>\n",
       "      <td>462</td>\n",
       "      <td>4116</td>\n",
       "      <td>5877</td>\n",
       "    </tr>\n",
       "    <tr>\n",
       "      <th>A89</th>\n",
       "      <td>133</td>\n",
       "      <td>384</td>\n",
       "      <td>1147</td>\n",
       "      <td>493</td>\n",
       "      <td>NC</td>\n",
       "      <td>NC</td>\n",
       "      <td>2157</td>\n",
       "    </tr>\n",
       "    <tr>\n",
       "      <th>N10</th>\n",
       "      <td>NC</td>\n",
       "      <td>2412</td>\n",
       "      <td>21766</td>\n",
       "      <td>2895</td>\n",
       "      <td>NC</td>\n",
       "      <td>NC</td>\n",
       "      <td>27073</td>\n",
       "    </tr>\n",
       "    <tr>\n",
       "      <th>All</th>\n",
       "      <td>6071</td>\n",
       "      <td>6256</td>\n",
       "      <td>27864</td>\n",
       "      <td>4565</td>\n",
       "      <td>1743</td>\n",
       "      <td>25671</td>\n",
       "      <td>72170</td>\n",
       "    </tr>\n",
       "  </tbody>\n",
       "</table>\n",
       "</div>"
      ],
      "text/plain": [
       "destination   A10   A62    A63  A660   A89    N10    All\n",
       "origine                                                 \n",
       "A10            NC  2965   4753   794   168     NC   8680\n",
       "A62          1205    NC    198   383   271   1372   3429\n",
       "A63          3806   123     NC    NC   842  20183  24954\n",
       "A660          927   372     NC    NC   462   4116   5877\n",
       "A89           133   384   1147   493    NC     NC   2157\n",
       "N10            NC  2412  21766  2895    NC     NC  27073\n",
       "All          6071  6256  27864  4565  1743  25671  72170"
      ]
     },
     "execution_count": 22,
     "metadata": {},
     "output_type": "execute_result"
    }
   ],
   "source": [
    "# apres correction des A660 liees a A63\n",
    "pd.pivot_table(df_od_corrige,values='l', index='origine', columns='destination',aggfunc='count', margins=True).fillna('NC')"
   ]
  },
  {
   "cell_type": "code",
   "execution_count": 23,
   "metadata": {},
   "outputs": [
    {
     "data": {
      "text/html": [
       "<div>\n",
       "<style scoped>\n",
       "    .dataframe tbody tr th:only-of-type {\n",
       "        vertical-align: middle;\n",
       "    }\n",
       "\n",
       "    .dataframe tbody tr th {\n",
       "        vertical-align: top;\n",
       "    }\n",
       "\n",
       "    .dataframe thead th {\n",
       "        text-align: right;\n",
       "    }\n",
       "</style>\n",
       "<table border=\"1\" class=\"dataframe\">\n",
       "  <thead>\n",
       "    <tr style=\"text-align: right;\">\n",
       "      <th>destination</th>\n",
       "      <th>A10</th>\n",
       "      <th>A62</th>\n",
       "      <th>A63</th>\n",
       "      <th>A660</th>\n",
       "      <th>A89</th>\n",
       "      <th>N10</th>\n",
       "      <th>All</th>\n",
       "    </tr>\n",
       "    <tr>\n",
       "      <th>origine</th>\n",
       "      <th></th>\n",
       "      <th></th>\n",
       "      <th></th>\n",
       "      <th></th>\n",
       "      <th></th>\n",
       "      <th></th>\n",
       "      <th></th>\n",
       "    </tr>\n",
       "  </thead>\n",
       "  <tbody>\n",
       "    <tr>\n",
       "      <th>A10</th>\n",
       "      <td>NC</td>\n",
       "      <td>2974</td>\n",
       "      <td>4753</td>\n",
       "      <td>794</td>\n",
       "      <td>168</td>\n",
       "      <td>NC</td>\n",
       "      <td>8689</td>\n",
       "    </tr>\n",
       "    <tr>\n",
       "      <th>A62</th>\n",
       "      <td>1205</td>\n",
       "      <td>NC</td>\n",
       "      <td>198</td>\n",
       "      <td>383</td>\n",
       "      <td>271</td>\n",
       "      <td>1373</td>\n",
       "      <td>3430</td>\n",
       "    </tr>\n",
       "    <tr>\n",
       "      <th>A63</th>\n",
       "      <td>3806</td>\n",
       "      <td>123</td>\n",
       "      <td>NC</td>\n",
       "      <td>NC</td>\n",
       "      <td>843</td>\n",
       "      <td>20192</td>\n",
       "      <td>24964</td>\n",
       "    </tr>\n",
       "    <tr>\n",
       "      <th>A660</th>\n",
       "      <td>927</td>\n",
       "      <td>372</td>\n",
       "      <td>NC</td>\n",
       "      <td>NC</td>\n",
       "      <td>462</td>\n",
       "      <td>4116</td>\n",
       "      <td>5877</td>\n",
       "    </tr>\n",
       "    <tr>\n",
       "      <th>A89</th>\n",
       "      <td>133</td>\n",
       "      <td>385</td>\n",
       "      <td>1147</td>\n",
       "      <td>493</td>\n",
       "      <td>NC</td>\n",
       "      <td>NC</td>\n",
       "      <td>2158</td>\n",
       "    </tr>\n",
       "    <tr>\n",
       "      <th>N10</th>\n",
       "      <td>NC</td>\n",
       "      <td>2414</td>\n",
       "      <td>21766</td>\n",
       "      <td>2895</td>\n",
       "      <td>NC</td>\n",
       "      <td>NC</td>\n",
       "      <td>27075</td>\n",
       "    </tr>\n",
       "    <tr>\n",
       "      <th>All</th>\n",
       "      <td>6071</td>\n",
       "      <td>6268</td>\n",
       "      <td>27864</td>\n",
       "      <td>4565</td>\n",
       "      <td>1744</td>\n",
       "      <td>25681</td>\n",
       "      <td>72193</td>\n",
       "    </tr>\n",
       "  </tbody>\n",
       "</table>\n",
       "</div>"
      ],
      "text/plain": [
       "destination   A10   A62    A63  A660   A89    N10    All\n",
       "origine                                                 \n",
       "A10            NC  2974   4753   794   168     NC   8689\n",
       "A62          1205    NC    198   383   271   1373   3430\n",
       "A63          3806   123     NC    NC   843  20192  24964\n",
       "A660          927   372     NC    NC   462   4116   5877\n",
       "A89           133   385   1147   493    NC     NC   2158\n",
       "N10            NC  2414  21766  2895    NC     NC  27075\n",
       "All          6071  6268  27864  4565  1744  25681  72193"
      ]
     },
     "execution_count": 23,
     "metadata": {},
     "output_type": "execute_result"
    }
   ],
   "source": [
    "# apres extrapolation\n",
    "pd.pivot_table(df_od_final,values='l', index='origine', columns='destination',aggfunc='count', margins=True).fillna('NC')"
   ]
  },
  {
   "cell_type": "code",
   "execution_count": 27,
   "metadata": {},
   "outputs": [],
   "source": [
    "# O-D apres extrapolation en moyenne sur jour ouvre\n",
    "df_od_ouvre_final=df_od_final.loc[df_od_final.set_index('date_cam_1').index.dayofweek<5]\n",
    "pivot_od_jo=pd.pivot_table(df_od_ouvre_final,values='l', index='origine', columns='destination',aggfunc='count', margins=True).fillna('NC')\n",
    "pivot_od_jo"
   ]
  },
  {
   "cell_type": "code",
   "execution_count": 38,
   "metadata": {},
   "outputs": [
    {
     "data": {
      "text/html": [
       "<div>\n",
       "<style scoped>\n",
       "    .dataframe tbody tr th:only-of-type {\n",
       "        vertical-align: middle;\n",
       "    }\n",
       "\n",
       "    .dataframe tbody tr th {\n",
       "        vertical-align: top;\n",
       "    }\n",
       "\n",
       "    .dataframe thead th {\n",
       "        text-align: right;\n",
       "    }\n",
       "</style>\n",
       "<table border=\"1\" class=\"dataframe\">\n",
       "  <thead>\n",
       "    <tr style=\"text-align: right;\">\n",
       "      <th>destination</th>\n",
       "      <th>A10</th>\n",
       "      <th>A62</th>\n",
       "      <th>A63</th>\n",
       "      <th>A660</th>\n",
       "      <th>A89</th>\n",
       "      <th>N10</th>\n",
       "      <th>All</th>\n",
       "    </tr>\n",
       "    <tr>\n",
       "      <th>origine</th>\n",
       "      <th></th>\n",
       "      <th></th>\n",
       "      <th></th>\n",
       "      <th></th>\n",
       "      <th></th>\n",
       "      <th></th>\n",
       "      <th></th>\n",
       "    </tr>\n",
       "  </thead>\n",
       "  <tbody>\n",
       "    <tr>\n",
       "      <th>A10</th>\n",
       "      <td>NC</td>\n",
       "      <td>525.6</td>\n",
       "      <td>716.2</td>\n",
       "      <td>126.4</td>\n",
       "      <td>31.8</td>\n",
       "      <td>NC</td>\n",
       "      <td>1400.0</td>\n",
       "    </tr>\n",
       "    <tr>\n",
       "      <th>A62</th>\n",
       "      <td>223.8</td>\n",
       "      <td>NC</td>\n",
       "      <td>36.2</td>\n",
       "      <td>75</td>\n",
       "      <td>50.8</td>\n",
       "      <td>262.4</td>\n",
       "      <td>648.2</td>\n",
       "    </tr>\n",
       "    <tr>\n",
       "      <th>A63</th>\n",
       "      <td>560.2</td>\n",
       "      <td>23</td>\n",
       "      <td>NC</td>\n",
       "      <td>NC</td>\n",
       "      <td>139.6</td>\n",
       "      <td>2869.2</td>\n",
       "      <td>3592.0</td>\n",
       "    </tr>\n",
       "    <tr>\n",
       "      <th>A660</th>\n",
       "      <td>166.2</td>\n",
       "      <td>70.2</td>\n",
       "      <td>NC</td>\n",
       "      <td>NC</td>\n",
       "      <td>87.6</td>\n",
       "      <td>721.8</td>\n",
       "      <td>1045.8</td>\n",
       "    </tr>\n",
       "    <tr>\n",
       "      <th>A89</th>\n",
       "      <td>24.8</td>\n",
       "      <td>73.4</td>\n",
       "      <td>189</td>\n",
       "      <td>90.2</td>\n",
       "      <td>NC</td>\n",
       "      <td>NC</td>\n",
       "      <td>377.4</td>\n",
       "    </tr>\n",
       "    <tr>\n",
       "      <th>N10</th>\n",
       "      <td>NC</td>\n",
       "      <td>438.8</td>\n",
       "      <td>3117.8</td>\n",
       "      <td>429.4</td>\n",
       "      <td>NC</td>\n",
       "      <td>NC</td>\n",
       "      <td>3986.0</td>\n",
       "    </tr>\n",
       "    <tr>\n",
       "      <th>All</th>\n",
       "      <td>975</td>\n",
       "      <td>1131</td>\n",
       "      <td>4059.2</td>\n",
       "      <td>721</td>\n",
       "      <td>309.8</td>\n",
       "      <td>3853.4</td>\n",
       "      <td>11049.4</td>\n",
       "    </tr>\n",
       "  </tbody>\n",
       "</table>\n",
       "</div>"
      ],
      "text/plain": [
       "destination    A10    A62     A63   A660    A89     N10      All\n",
       "origine                                                         \n",
       "A10             NC  525.6   716.2  126.4   31.8      NC   1400.0\n",
       "A62          223.8     NC    36.2     75   50.8   262.4    648.2\n",
       "A63          560.2     23      NC     NC  139.6  2869.2   3592.0\n",
       "A660         166.2   70.2      NC     NC   87.6   721.8   1045.8\n",
       "A89           24.8   73.4     189   90.2     NC      NC    377.4\n",
       "N10             NC  438.8  3117.8  429.4     NC      NC   3986.0\n",
       "All            975   1131  4059.2    721  309.8  3853.4  11049.4"
      ]
     },
     "execution_count": 38,
     "metadata": {},
     "output_type": "execute_result"
    }
   ],
   "source": [
    "pivot_od_jo.applymap(lambda x : x/5 if (isinstance(x,float) or isinstance(x,int)) else 'NC')\n",
    "#pivot_od_jo.applymap(lambda x : type(x))"
   ]
  },
  {
   "cell_type": "markdown",
   "metadata": {},
   "source": [
    "# 7. Différeciation Rocade Est-Ouest\n",
    ">Cette analyse ne concerne que les trajets N10-A63, A10-A63, N10-A660, A10-A660"
   ]
  },
  {
   "cell_type": "code",
   "execution_count": 77,
   "metadata": {},
   "outputs": [
    {
     "name": "stdout",
     "output_type": "stream",
     "text": [
      "Object `t.differencier_rocade` not found.\n"
     ]
    }
   ],
   "source": [
    "??t.differencier_rocade"
   ]
  },
  {
   "cell_type": "code",
   "execution_count": 57,
   "metadata": {},
   "outputs": [
    {
     "data": {
      "text/html": [
       "<div>\n",
       "<style scoped>\n",
       "    .dataframe tbody tr th:only-of-type {\n",
       "        vertical-align: middle;\n",
       "    }\n",
       "\n",
       "    .dataframe tbody tr th {\n",
       "        vertical-align: top;\n",
       "    }\n",
       "\n",
       "    .dataframe thead th {\n",
       "        text-align: right;\n",
       "    }\n",
       "</style>\n",
       "<table border=\"1\" class=\"dataframe\">\n",
       "  <thead>\n",
       "    <tr style=\"text-align: right;\">\n",
       "      <th>type_rocade</th>\n",
       "      <th>Autre</th>\n",
       "      <th>Est</th>\n",
       "      <th>Ouest</th>\n",
       "      <th>All</th>\n",
       "    </tr>\n",
       "    <tr>\n",
       "      <th>o_d</th>\n",
       "      <th></th>\n",
       "      <th></th>\n",
       "      <th></th>\n",
       "      <th></th>\n",
       "    </tr>\n",
       "  </thead>\n",
       "  <tbody>\n",
       "    <tr>\n",
       "      <th>A10-A63</th>\n",
       "      <td>474</td>\n",
       "      <td>4126</td>\n",
       "      <td>153</td>\n",
       "      <td>4753</td>\n",
       "    </tr>\n",
       "    <tr>\n",
       "      <th>A10-A660</th>\n",
       "      <td>159</td>\n",
       "      <td>597</td>\n",
       "      <td>38</td>\n",
       "      <td>794</td>\n",
       "    </tr>\n",
       "    <tr>\n",
       "      <th>A63-A10</th>\n",
       "      <td>715</td>\n",
       "      <td>3053</td>\n",
       "      <td>38</td>\n",
       "      <td>3806</td>\n",
       "    </tr>\n",
       "    <tr>\n",
       "      <th>A660-A10</th>\n",
       "      <td>248</td>\n",
       "      <td>669</td>\n",
       "      <td>10</td>\n",
       "      <td>927</td>\n",
       "    </tr>\n",
       "    <tr>\n",
       "      <th>A660-N10</th>\n",
       "      <td>1184</td>\n",
       "      <td>2892</td>\n",
       "      <td>40</td>\n",
       "      <td>4116</td>\n",
       "    </tr>\n",
       "    <tr>\n",
       "      <th>N10-A63</th>\n",
       "      <td>2106</td>\n",
       "      <td>19016</td>\n",
       "      <td>644</td>\n",
       "      <td>21766</td>\n",
       "    </tr>\n",
       "    <tr>\n",
       "      <th>N10-A660</th>\n",
       "      <td>589</td>\n",
       "      <td>2205</td>\n",
       "      <td>101</td>\n",
       "      <td>2895</td>\n",
       "    </tr>\n",
       "    <tr>\n",
       "      <th>All</th>\n",
       "      <td>5475</td>\n",
       "      <td>32558</td>\n",
       "      <td>1024</td>\n",
       "      <td>39057</td>\n",
       "    </tr>\n",
       "  </tbody>\n",
       "</table>\n",
       "</div>"
      ],
      "text/plain": [
       "type_rocade  Autre    Est  Ouest    All\n",
       "o_d                                    \n",
       "A10-A63        474   4126    153   4753\n",
       "A10-A660       159    597     38    794\n",
       "A63-A10        715   3053     38   3806\n",
       "A660-A10       248    669     10    927\n",
       "A660-N10      1184   2892     40   4116\n",
       "N10-A63       2106  19016    644  21766\n",
       "N10-A660       589   2205    101   2895\n",
       "All           5475  32558   1024  39057"
      ]
     },
     "execution_count": 57,
     "metadata": {},
     "output_type": "execute_result"
    }
   ],
   "source": [
    "pivot_type_rocade"
   ]
  },
  {
   "cell_type": "markdown",
   "metadata": {},
   "source": [
    "# 7. Analyse du nb de VL, PL, PL en transit par heure et par camera \n",
    "> Le pb c'est que pour les camera de la Rocade, parfois on les PL n'y sont pas vus, de même pour les chemins extrapoles ou pour ceux corrigés : le passage soit n'existe pas, soit la camera du passage ne correspond pas à la destination finalement utilisées"
   ]
  },
  {
   "cell_type": "markdown",
   "metadata": {},
   "source": [
    "## 7.1 base : travail sur les données telles que créees"
   ]
  },
  {
   "cell_type": "code",
   "execution_count": 48,
   "metadata": {},
   "outputs": [],
   "source": [
    "df_vl=df_passages2.loc[df_passages2['l']!=1]\n",
    "df_pl=df_passages2.loc[df_passages2['l']==1]\n",
    "#df_passages_transit=t.trajet2passage(dico_od_final,df_pl) deféini plus haut :dico_passag_final"
   ]
  },
  {
   "cell_type": "code",
   "execution_count": 49,
   "metadata": {},
   "outputs": [
    {
     "name": "stdout",
     "output_type": "stream",
     "text": [
      "pl_tot =1920 , vl_tot=1920 , pl_transit=1262,pl_tot-joint-transit=1262\n",
      "Wall time: 1.51 s\n"
     ]
    }
   ],
   "source": [
    "%time synt_nb_veh_cam=t.pourcentage_pl_camera(df_pl,dico_passag_final, df_vl)"
   ]
  },
  {
   "cell_type": "code",
   "execution_count": 52,
   "metadata": {},
   "outputs": [
    {
     "data": {
      "application/vnd.vegalite.v2+json": {
       "$schema": "https://vega.github.io/schema/vega-lite/v2.6.0.json",
       "config": {
        "view": {
         "height": 300,
         "width": 400
        }
       },
       "datasets": {
        "data-6b445f40fa7e900c107e9c8919a0dff9": [
         {
          "camera_id": 4,
          "created": "2019-01-29T00:00:00",
          "nb_pl_tot": 85,
          "nb_pl_transit": 19,
          "nb_veh": 85,
          "pct_pl_transit": 22.352941176470587,
          "type": "PL total",
          "type_x": "PL total",
          "type_y": "PL transit"
         },
         {
          "camera_id": 4,
          "created": "2019-01-29T01:00:00",
          "nb_pl_tot": 64,
          "nb_pl_transit": 9,
          "nb_veh": 64,
          "pct_pl_transit": 14.0625,
          "type": "PL total",
          "type_x": "PL total",
          "type_y": "PL transit"
         },
         {
          "camera_id": 4,
          "created": "2019-01-29T02:00:00",
          "nb_pl_tot": 78,
          "nb_pl_transit": 7,
          "nb_veh": 78,
          "pct_pl_transit": 8.974358974358974,
          "type": "PL total",
          "type_x": "PL total",
          "type_y": "PL transit"
         },
         {
          "camera_id": 4,
          "created": "2019-01-29T03:00:00",
          "nb_pl_tot": 95,
          "nb_pl_transit": 8,
          "nb_veh": 95,
          "pct_pl_transit": 8.421052631578947,
          "type": "PL total",
          "type_x": "PL total",
          "type_y": "PL transit"
         },
         {
          "camera_id": 4,
          "created": "2019-01-29T04:00:00",
          "nb_pl_tot": 159,
          "nb_pl_transit": 24,
          "nb_veh": 159,
          "pct_pl_transit": 15.09433962264151,
          "type": "PL total",
          "type_x": "PL total",
          "type_y": "PL transit"
         },
         {
          "camera_id": 4,
          "created": "2019-01-29T05:00:00",
          "nb_pl_tot": 241,
          "nb_pl_transit": 44,
          "nb_veh": 241,
          "pct_pl_transit": 18.25726141078838,
          "type": "PL total",
          "type_x": "PL total",
          "type_y": "PL transit"
         },
         {
          "camera_id": 4,
          "created": "2019-01-29T06:00:00",
          "nb_pl_tot": 279,
          "nb_pl_transit": 70,
          "nb_veh": 279,
          "pct_pl_transit": 25.089605734767026,
          "type": "PL total",
          "type_x": "PL total",
          "type_y": "PL transit"
         },
         {
          "camera_id": 4,
          "created": "2019-01-29T07:00:00",
          "nb_pl_tot": 314,
          "nb_pl_transit": 126,
          "nb_veh": 314,
          "pct_pl_transit": 40.12738853503185,
          "type": "PL total",
          "type_x": "PL total",
          "type_y": "PL transit"
         },
         {
          "camera_id": 4,
          "created": "2019-01-29T08:00:00",
          "nb_pl_tot": 628,
          "nb_pl_transit": 294,
          "nb_veh": 628,
          "pct_pl_transit": 46.81528662420382,
          "type": "PL total",
          "type_x": "PL total",
          "type_y": "PL transit"
         },
         {
          "camera_id": 4,
          "created": "2019-01-29T09:00:00",
          "nb_pl_tot": 730,
          "nb_pl_transit": 301,
          "nb_veh": 730,
          "pct_pl_transit": 41.23287671232877,
          "type": "PL total",
          "type_x": "PL total",
          "type_y": "PL transit"
         },
         {
          "camera_id": 4,
          "created": "2019-01-29T10:00:00",
          "nb_pl_tot": 729,
          "nb_pl_transit": 259,
          "nb_veh": 729,
          "pct_pl_transit": 35.528120713305896,
          "type": "PL total",
          "type_x": "PL total",
          "type_y": "PL transit"
         },
         {
          "camera_id": 4,
          "created": "2019-01-29T11:00:00",
          "nb_pl_tot": 661,
          "nb_pl_transit": 257,
          "nb_veh": 661,
          "pct_pl_transit": 38.88048411497731,
          "type": "PL total",
          "type_x": "PL total",
          "type_y": "PL transit"
         },
         {
          "camera_id": 4,
          "created": "2019-01-29T12:00:00",
          "nb_pl_tot": 175,
          "nb_pl_transit": 65,
          "nb_veh": 175,
          "pct_pl_transit": 37.142857142857146,
          "type": "PL total",
          "type_x": "PL total",
          "type_y": "PL transit"
         },
         {
          "camera_id": 4,
          "created": "2019-01-29T13:00:00",
          "nb_pl_tot": 0,
          "nb_pl_transit": 0,
          "nb_veh": 0,
          "pct_pl_transit": 0,
          "type": "PL total",
          "type_x": "PL total",
          "type_y": "PL transit"
         },
         {
          "camera_id": 4,
          "created": "2019-01-29T14:00:00",
          "nb_pl_tot": 160,
          "nb_pl_transit": 56,
          "nb_veh": 160,
          "pct_pl_transit": 35,
          "type": "PL total",
          "type_x": "PL total",
          "type_y": "PL transit"
         },
         {
          "camera_id": 4,
          "created": "2019-01-29T15:00:00",
          "nb_pl_tot": 607,
          "nb_pl_transit": 209,
          "nb_veh": 607,
          "pct_pl_transit": 34.43163097199341,
          "type": "PL total",
          "type_x": "PL total",
          "type_y": "PL transit"
         },
         {
          "camera_id": 4,
          "created": "2019-01-29T16:00:00",
          "nb_pl_tot": 412,
          "nb_pl_transit": 136,
          "nb_veh": 412,
          "pct_pl_transit": 33.00970873786408,
          "type": "PL total",
          "type_x": "PL total",
          "type_y": "PL transit"
         },
         {
          "camera_id": 4,
          "created": "2019-01-29T17:00:00",
          "nb_pl_tot": 419,
          "nb_pl_transit": 64,
          "nb_veh": 419,
          "pct_pl_transit": 15.274463007159904,
          "type": "PL total",
          "type_x": "PL total",
          "type_y": "PL transit"
         },
         {
          "camera_id": 4,
          "created": "2019-01-29T18:00:00",
          "nb_pl_tot": 418,
          "nb_pl_transit": 69,
          "nb_veh": 418,
          "pct_pl_transit": 16.507177033492823,
          "type": "PL total",
          "type_x": "PL total",
          "type_y": "PL transit"
         },
         {
          "camera_id": 4,
          "created": "2019-01-29T19:00:00",
          "nb_pl_tot": 319,
          "nb_pl_transit": 73,
          "nb_veh": 319,
          "pct_pl_transit": 22.884012539184955,
          "type": "PL total",
          "type_x": "PL total",
          "type_y": "PL transit"
         },
         {
          "camera_id": 4,
          "created": "2019-01-29T20:00:00",
          "nb_pl_tot": 264,
          "nb_pl_transit": 87,
          "nb_veh": 264,
          "pct_pl_transit": 32.95454545454545,
          "type": "PL total",
          "type_x": "PL total",
          "type_y": "PL transit"
         },
         {
          "camera_id": 4,
          "created": "2019-01-29T21:00:00",
          "nb_pl_tot": 218,
          "nb_pl_transit": 69,
          "nb_veh": 218,
          "pct_pl_transit": 31.65137614678899,
          "type": "PL total",
          "type_x": "PL total",
          "type_y": "PL transit"
         },
         {
          "camera_id": 4,
          "created": "2019-01-29T22:00:00",
          "nb_pl_tot": 186,
          "nb_pl_transit": 68,
          "nb_veh": 186,
          "pct_pl_transit": 36.55913978494624,
          "type": "PL total",
          "type_x": "PL total",
          "type_y": "PL transit"
         },
         {
          "camera_id": 4,
          "created": "2019-01-29T23:00:00",
          "nb_pl_tot": 154,
          "nb_pl_transit": 47,
          "nb_veh": 154,
          "pct_pl_transit": 30.51948051948052,
          "type": "PL total",
          "type_x": "PL total",
          "type_y": "PL transit"
         },
         {
          "camera_id": 4,
          "created": "2019-01-29T00:00:00",
          "nb_pl_tot": 85,
          "nb_pl_transit": 19,
          "nb_veh": 204,
          "pct_pl_transit": 22.352941176470587,
          "type": "VL total",
          "type_x": "PL total",
          "type_y": "PL transit"
         },
         {
          "camera_id": 4,
          "created": "2019-01-29T01:00:00",
          "nb_pl_tot": 64,
          "nb_pl_transit": 9,
          "nb_veh": 165,
          "pct_pl_transit": 14.0625,
          "type": "VL total",
          "type_x": "PL total",
          "type_y": "PL transit"
         },
         {
          "camera_id": 4,
          "created": "2019-01-29T02:00:00",
          "nb_pl_tot": 78,
          "nb_pl_transit": 7,
          "nb_veh": 89,
          "pct_pl_transit": 8.974358974358974,
          "type": "VL total",
          "type_x": "PL total",
          "type_y": "PL transit"
         },
         {
          "camera_id": 4,
          "created": "2019-01-29T03:00:00",
          "nb_pl_tot": 95,
          "nb_pl_transit": 8,
          "nb_veh": 157,
          "pct_pl_transit": 8.421052631578947,
          "type": "VL total",
          "type_x": "PL total",
          "type_y": "PL transit"
         },
         {
          "camera_id": 4,
          "created": "2019-01-29T04:00:00",
          "nb_pl_tot": 159,
          "nb_pl_transit": 24,
          "nb_veh": 289,
          "pct_pl_transit": 15.09433962264151,
          "type": "VL total",
          "type_x": "PL total",
          "type_y": "PL transit"
         },
         {
          "camera_id": 4,
          "created": "2019-01-29T05:00:00",
          "nb_pl_tot": 241,
          "nb_pl_transit": 44,
          "nb_veh": 653,
          "pct_pl_transit": 18.25726141078838,
          "type": "VL total",
          "type_x": "PL total",
          "type_y": "PL transit"
         },
         {
          "camera_id": 4,
          "created": "2019-01-29T06:00:00",
          "nb_pl_tot": 279,
          "nb_pl_transit": 70,
          "nb_veh": 1545,
          "pct_pl_transit": 25.089605734767026,
          "type": "VL total",
          "type_x": "PL total",
          "type_y": "PL transit"
         },
         {
          "camera_id": 4,
          "created": "2019-01-29T07:00:00",
          "nb_pl_tot": 314,
          "nb_pl_transit": 126,
          "nb_veh": 1938,
          "pct_pl_transit": 40.12738853503185,
          "type": "VL total",
          "type_x": "PL total",
          "type_y": "PL transit"
         },
         {
          "camera_id": 4,
          "created": "2019-01-29T08:00:00",
          "nb_pl_tot": 628,
          "nb_pl_transit": 294,
          "nb_veh": 2079,
          "pct_pl_transit": 46.81528662420382,
          "type": "VL total",
          "type_x": "PL total",
          "type_y": "PL transit"
         },
         {
          "camera_id": 4,
          "created": "2019-01-29T09:00:00",
          "nb_pl_tot": 730,
          "nb_pl_transit": 301,
          "nb_veh": 1845,
          "pct_pl_transit": 41.23287671232877,
          "type": "VL total",
          "type_x": "PL total",
          "type_y": "PL transit"
         },
         {
          "camera_id": 4,
          "created": "2019-01-29T10:00:00",
          "nb_pl_tot": 729,
          "nb_pl_transit": 259,
          "nb_veh": 1788,
          "pct_pl_transit": 35.528120713305896,
          "type": "VL total",
          "type_x": "PL total",
          "type_y": "PL transit"
         },
         {
          "camera_id": 4,
          "created": "2019-01-29T11:00:00",
          "nb_pl_tot": 661,
          "nb_pl_transit": 257,
          "nb_veh": 1571,
          "pct_pl_transit": 38.88048411497731,
          "type": "VL total",
          "type_x": "PL total",
          "type_y": "PL transit"
         },
         {
          "camera_id": 4,
          "created": "2019-01-29T12:00:00",
          "nb_pl_tot": 175,
          "nb_pl_transit": 65,
          "nb_veh": 408,
          "pct_pl_transit": 37.142857142857146,
          "type": "VL total",
          "type_x": "PL total",
          "type_y": "PL transit"
         },
         {
          "camera_id": 4,
          "created": "2019-01-29T13:00:00",
          "nb_pl_tot": 0,
          "nb_pl_transit": 0,
          "nb_veh": 0,
          "pct_pl_transit": 0,
          "type": "VL total",
          "type_x": "PL total",
          "type_y": "PL transit"
         },
         {
          "camera_id": 4,
          "created": "2019-01-29T14:00:00",
          "nb_pl_tot": 160,
          "nb_pl_transit": 56,
          "nb_veh": 522,
          "pct_pl_transit": 35,
          "type": "VL total",
          "type_x": "PL total",
          "type_y": "PL transit"
         },
         {
          "camera_id": 4,
          "created": "2019-01-29T15:00:00",
          "nb_pl_tot": 607,
          "nb_pl_transit": 209,
          "nb_veh": 2329,
          "pct_pl_transit": 34.43163097199341,
          "type": "VL total",
          "type_x": "PL total",
          "type_y": "PL transit"
         },
         {
          "camera_id": 4,
          "created": "2019-01-29T16:00:00",
          "nb_pl_tot": 412,
          "nb_pl_transit": 136,
          "nb_veh": 2475,
          "pct_pl_transit": 33.00970873786408,
          "type": "VL total",
          "type_x": "PL total",
          "type_y": "PL transit"
         },
         {
          "camera_id": 4,
          "created": "2019-01-29T17:00:00",
          "nb_pl_tot": 419,
          "nb_pl_transit": 64,
          "nb_veh": 2093,
          "pct_pl_transit": 15.274463007159904,
          "type": "VL total",
          "type_x": "PL total",
          "type_y": "PL transit"
         },
         {
          "camera_id": 4,
          "created": "2019-01-29T18:00:00",
          "nb_pl_tot": 418,
          "nb_pl_transit": 69,
          "nb_veh": 1723,
          "pct_pl_transit": 16.507177033492823,
          "type": "VL total",
          "type_x": "PL total",
          "type_y": "PL transit"
         },
         {
          "camera_id": 4,
          "created": "2019-01-29T19:00:00",
          "nb_pl_tot": 319,
          "nb_pl_transit": 73,
          "nb_veh": 1182,
          "pct_pl_transit": 22.884012539184955,
          "type": "VL total",
          "type_x": "PL total",
          "type_y": "PL transit"
         },
         {
          "camera_id": 4,
          "created": "2019-01-29T20:00:00",
          "nb_pl_tot": 264,
          "nb_pl_transit": 87,
          "nb_veh": 690,
          "pct_pl_transit": 32.95454545454545,
          "type": "VL total",
          "type_x": "PL total",
          "type_y": "PL transit"
         },
         {
          "camera_id": 4,
          "created": "2019-01-29T21:00:00",
          "nb_pl_tot": 218,
          "nb_pl_transit": 69,
          "nb_veh": 582,
          "pct_pl_transit": 31.65137614678899,
          "type": "VL total",
          "type_x": "PL total",
          "type_y": "PL transit"
         },
         {
          "camera_id": 4,
          "created": "2019-01-29T22:00:00",
          "nb_pl_tot": 186,
          "nb_pl_transit": 68,
          "nb_veh": 375,
          "pct_pl_transit": 36.55913978494624,
          "type": "VL total",
          "type_x": "PL total",
          "type_y": "PL transit"
         },
         {
          "camera_id": 4,
          "created": "2019-01-29T23:00:00",
          "nb_pl_tot": 154,
          "nb_pl_transit": 47,
          "nb_veh": 230,
          "pct_pl_transit": 30.51948051948052,
          "type": "VL total",
          "type_x": "PL total",
          "type_y": "PL transit"
         },
         {
          "camera_id": 4,
          "created": "2019-01-29T00:00:00",
          "nb_pl_tot": 85,
          "nb_pl_transit": 19,
          "nb_veh": 19,
          "pct_pl_transit": 22.352941176470587,
          "type": "PL transit",
          "type_x": "PL total",
          "type_y": "PL transit"
         },
         {
          "camera_id": 4,
          "created": "2019-01-29T01:00:00",
          "nb_pl_tot": 64,
          "nb_pl_transit": 9,
          "nb_veh": 9,
          "pct_pl_transit": 14.0625,
          "type": "PL transit",
          "type_x": "PL total",
          "type_y": "PL transit"
         },
         {
          "camera_id": 4,
          "created": "2019-01-29T02:00:00",
          "nb_pl_tot": 78,
          "nb_pl_transit": 7,
          "nb_veh": 7,
          "pct_pl_transit": 8.974358974358974,
          "type": "PL transit",
          "type_x": "PL total",
          "type_y": "PL transit"
         },
         {
          "camera_id": 4,
          "created": "2019-01-29T03:00:00",
          "nb_pl_tot": 95,
          "nb_pl_transit": 8,
          "nb_veh": 8,
          "pct_pl_transit": 8.421052631578947,
          "type": "PL transit",
          "type_x": "PL total",
          "type_y": "PL transit"
         },
         {
          "camera_id": 4,
          "created": "2019-01-29T04:00:00",
          "nb_pl_tot": 159,
          "nb_pl_transit": 24,
          "nb_veh": 24,
          "pct_pl_transit": 15.09433962264151,
          "type": "PL transit",
          "type_x": "PL total",
          "type_y": "PL transit"
         },
         {
          "camera_id": 4,
          "created": "2019-01-29T05:00:00",
          "nb_pl_tot": 241,
          "nb_pl_transit": 44,
          "nb_veh": 44,
          "pct_pl_transit": 18.25726141078838,
          "type": "PL transit",
          "type_x": "PL total",
          "type_y": "PL transit"
         },
         {
          "camera_id": 4,
          "created": "2019-01-29T06:00:00",
          "nb_pl_tot": 279,
          "nb_pl_transit": 70,
          "nb_veh": 70,
          "pct_pl_transit": 25.089605734767026,
          "type": "PL transit",
          "type_x": "PL total",
          "type_y": "PL transit"
         },
         {
          "camera_id": 4,
          "created": "2019-01-29T07:00:00",
          "nb_pl_tot": 314,
          "nb_pl_transit": 126,
          "nb_veh": 126,
          "pct_pl_transit": 40.12738853503185,
          "type": "PL transit",
          "type_x": "PL total",
          "type_y": "PL transit"
         },
         {
          "camera_id": 4,
          "created": "2019-01-29T08:00:00",
          "nb_pl_tot": 628,
          "nb_pl_transit": 294,
          "nb_veh": 294,
          "pct_pl_transit": 46.81528662420382,
          "type": "PL transit",
          "type_x": "PL total",
          "type_y": "PL transit"
         },
         {
          "camera_id": 4,
          "created": "2019-01-29T09:00:00",
          "nb_pl_tot": 730,
          "nb_pl_transit": 301,
          "nb_veh": 301,
          "pct_pl_transit": 41.23287671232877,
          "type": "PL transit",
          "type_x": "PL total",
          "type_y": "PL transit"
         },
         {
          "camera_id": 4,
          "created": "2019-01-29T10:00:00",
          "nb_pl_tot": 729,
          "nb_pl_transit": 259,
          "nb_veh": 259,
          "pct_pl_transit": 35.528120713305896,
          "type": "PL transit",
          "type_x": "PL total",
          "type_y": "PL transit"
         },
         {
          "camera_id": 4,
          "created": "2019-01-29T11:00:00",
          "nb_pl_tot": 661,
          "nb_pl_transit": 257,
          "nb_veh": 257,
          "pct_pl_transit": 38.88048411497731,
          "type": "PL transit",
          "type_x": "PL total",
          "type_y": "PL transit"
         },
         {
          "camera_id": 4,
          "created": "2019-01-29T12:00:00",
          "nb_pl_tot": 175,
          "nb_pl_transit": 65,
          "nb_veh": 65,
          "pct_pl_transit": 37.142857142857146,
          "type": "PL transit",
          "type_x": "PL total",
          "type_y": "PL transit"
         },
         {
          "camera_id": 4,
          "created": "2019-01-29T13:00:00",
          "nb_pl_tot": 0,
          "nb_pl_transit": 0,
          "nb_veh": 0,
          "pct_pl_transit": 0,
          "type": "PL transit",
          "type_x": "PL total",
          "type_y": "PL transit"
         },
         {
          "camera_id": 4,
          "created": "2019-01-29T14:00:00",
          "nb_pl_tot": 160,
          "nb_pl_transit": 56,
          "nb_veh": 56,
          "pct_pl_transit": 35,
          "type": "PL transit",
          "type_x": "PL total",
          "type_y": "PL transit"
         },
         {
          "camera_id": 4,
          "created": "2019-01-29T15:00:00",
          "nb_pl_tot": 607,
          "nb_pl_transit": 209,
          "nb_veh": 209,
          "pct_pl_transit": 34.43163097199341,
          "type": "PL transit",
          "type_x": "PL total",
          "type_y": "PL transit"
         },
         {
          "camera_id": 4,
          "created": "2019-01-29T16:00:00",
          "nb_pl_tot": 412,
          "nb_pl_transit": 136,
          "nb_veh": 136,
          "pct_pl_transit": 33.00970873786408,
          "type": "PL transit",
          "type_x": "PL total",
          "type_y": "PL transit"
         },
         {
          "camera_id": 4,
          "created": "2019-01-29T17:00:00",
          "nb_pl_tot": 419,
          "nb_pl_transit": 64,
          "nb_veh": 64,
          "pct_pl_transit": 15.274463007159904,
          "type": "PL transit",
          "type_x": "PL total",
          "type_y": "PL transit"
         },
         {
          "camera_id": 4,
          "created": "2019-01-29T18:00:00",
          "nb_pl_tot": 418,
          "nb_pl_transit": 69,
          "nb_veh": 69,
          "pct_pl_transit": 16.507177033492823,
          "type": "PL transit",
          "type_x": "PL total",
          "type_y": "PL transit"
         },
         {
          "camera_id": 4,
          "created": "2019-01-29T19:00:00",
          "nb_pl_tot": 319,
          "nb_pl_transit": 73,
          "nb_veh": 73,
          "pct_pl_transit": 22.884012539184955,
          "type": "PL transit",
          "type_x": "PL total",
          "type_y": "PL transit"
         },
         {
          "camera_id": 4,
          "created": "2019-01-29T20:00:00",
          "nb_pl_tot": 264,
          "nb_pl_transit": 87,
          "nb_veh": 87,
          "pct_pl_transit": 32.95454545454545,
          "type": "PL transit",
          "type_x": "PL total",
          "type_y": "PL transit"
         },
         {
          "camera_id": 4,
          "created": "2019-01-29T21:00:00",
          "nb_pl_tot": 218,
          "nb_pl_transit": 69,
          "nb_veh": 69,
          "pct_pl_transit": 31.65137614678899,
          "type": "PL transit",
          "type_x": "PL total",
          "type_y": "PL transit"
         },
         {
          "camera_id": 4,
          "created": "2019-01-29T22:00:00",
          "nb_pl_tot": 186,
          "nb_pl_transit": 68,
          "nb_veh": 68,
          "pct_pl_transit": 36.55913978494624,
          "type": "PL transit",
          "type_x": "PL total",
          "type_y": "PL transit"
         },
         {
          "camera_id": 4,
          "created": "2019-01-29T23:00:00",
          "nb_pl_tot": 154,
          "nb_pl_transit": 47,
          "nb_veh": 47,
          "pct_pl_transit": 30.51948051948052,
          "type": "PL transit",
          "type_x": "PL total",
          "type_y": "PL transit"
         }
        ]
       },
       "layer": [
        {
         "data": {
          "name": "data-6b445f40fa7e900c107e9c8919a0dff9"
         },
         "encoding": {
          "color": {
           "field": "type",
           "type": "nominal"
          },
          "x": {
           "axis": {
            "format": "%H:%M",
            "title": "Heure"
           },
           "field": "created",
           "type": "temporal"
          },
          "y": {
           "axis": {
            "title": "Nb de véhicules"
           },
           "field": "nb_veh",
           "stack": null,
           "type": "quantitative"
          }
         },
         "mark": {
          "opacity": 0.7,
          "size": 20,
          "type": "bar"
         }
        },
        {
         "data": {
          "name": "data-6b445f40fa7e900c107e9c8919a0dff9"
         },
         "encoding": {
          "x": {
           "axis": {
            "format": "%H:%M",
            "title": "Heure"
           },
           "field": "created",
           "type": "temporal"
          },
          "y": {
           "axis": {
            "title": "% de PL en transit"
           },
           "field": "pct_pl_transit",
           "type": "quantitative"
          }
         },
         "mark": {
          "color": "green",
          "type": "line"
         }
        }
       ],
       "resolve": {
        "scale": {
         "color": "shared",
         "x": "shared",
         "y": "independent"
        }
       },
       "width": 800
      },
      "image/png": "[encoded data removed]",
      "text/plain": [
       "<VegaLite 2 object>\n",
       "\n",
       "If you see this message, it means the renderer has not been properly enabled\n",
       "for the frontend that you are using. For more information, see\n",
       "https://altair-viz.github.io/user_guide/troubleshooting.html\n"
      ]
     },
     "execution_count": 52,
     "metadata": {},
     "output_type": "execute_result"
    }
   ],
   "source": [
    "g.graph_VL_PL_transit_j_cam(synt_nb_veh_cam, '2019-01-29', 4)"
   ]
  },
  {
   "cell_type": "markdown",
   "metadata": {},
   "source": [
    "## 7.2 Redressement au niveau de la Rocade"
   ]
  },
  {
   "cell_type": "code",
   "execution_count": 126,
   "metadata": {},
   "outputs": [
    {
     "name": "stdout",
     "output_type": "stream",
     "text": [
      "pl_tot =1920 , vl_tot=1920 , pl_transit=1262,pl_tot-joint-transit=1262\n",
      "Wall time: 1.3 s\n"
     ]
    }
   ],
   "source": [
    "#determiner les passages fictifs\n",
    "df_passage_transit_redresse, df_pl_redresse, trajets_rocade_non_vu=t.passages_fictif_rocade (t.liste_trajet_rocade, dico_od_final,dico_passag_final,df_pl)\n",
    "#regrouper\n",
    "%time synt_nb_veh_cam_redresse=t.pourcentage_pl_camera(df_pl_redresse,df_passage_transit_redresse, df_vl)"
   ]
  },
  {
   "cell_type": "code",
   "execution_count": 46,
   "metadata": {},
   "outputs": [
    {
     "data": {
      "application/vnd.vegalite.v2+json": {
       "$schema": "https://vega.github.io/schema/vega-lite/v2.6.0.json",
       "config": {
        "view": {
         "height": 300,
         "width": 400
        }
       },
       "datasets": {
        "data-814030b1bd5d736434a531fdb4ebe061": [
         {
          "camera_id": 1,
          "created": "2019-01-28T00:00:00",
          "nb_pl_tot": null,
          "nb_pl_transit": null,
          "nb_veh": 1,
          "pct_pl_transit": null,
          "type": "PL total",
          "type_x": null,
          "type_y": null
         },
         {
          "camera_id": 1,
          "created": "2019-01-28T01:00:00",
          "nb_pl_tot": null,
          "nb_pl_transit": null,
          "nb_veh": 2,
          "pct_pl_transit": null,
          "type": "PL total",
          "type_x": null,
          "type_y": null
         },
         {
          "camera_id": 1,
          "created": "2019-01-28T02:00:00",
          "nb_pl_tot": null,
          "nb_pl_transit": null,
          "nb_veh": 5,
          "pct_pl_transit": null,
          "type": "PL total",
          "type_x": null,
          "type_y": null
         },
         {
          "camera_id": 1,
          "created": "2019-01-28T03:00:00",
          "nb_pl_tot": null,
          "nb_pl_transit": null,
          "nb_veh": 6,
          "pct_pl_transit": null,
          "type": "PL total",
          "type_x": null,
          "type_y": null
         },
         {
          "camera_id": 1,
          "created": "2019-01-28T04:00:00",
          "nb_pl_tot": null,
          "nb_pl_transit": null,
          "nb_veh": 16,
          "pct_pl_transit": null,
          "type": "PL total",
          "type_x": null,
          "type_y": null
         },
         {
          "camera_id": 1,
          "created": "2019-01-28T05:00:00",
          "nb_pl_tot": null,
          "nb_pl_transit": null,
          "nb_veh": 37,
          "pct_pl_transit": null,
          "type": "PL total",
          "type_x": null,
          "type_y": null
         },
         {
          "camera_id": 1,
          "created": "2019-01-28T06:00:00",
          "nb_pl_tot": 47,
          "nb_pl_transit": 1,
          "nb_veh": 47,
          "pct_pl_transit": 2.127659574468085,
          "type": "PL total",
          "type_x": "PL total",
          "type_y": "PL transit"
         },
         {
          "camera_id": 1,
          "created": "2019-01-28T07:00:00",
          "nb_pl_tot": 61,
          "nb_pl_transit": 2,
          "nb_veh": 61,
          "pct_pl_transit": 3.278688524590164,
          "type": "PL total",
          "type_x": "PL total",
          "type_y": "PL transit"
         },
         {
          "camera_id": 1,
          "created": "2019-01-28T08:00:00",
          "nb_pl_tot": 128,
          "nb_pl_transit": 2,
          "nb_veh": 128,
          "pct_pl_transit": 1.5625,
          "type": "PL total",
          "type_x": "PL total",
          "type_y": "PL transit"
         },
         {
          "camera_id": 1,
          "created": "2019-01-28T09:00:00",
          "nb_pl_tot": 137,
          "nb_pl_transit": 0,
          "nb_veh": 137,
          "pct_pl_transit": 0,
          "type": "PL total",
          "type_x": "PL total",
          "type_y": "PL transit"
         },
         {
          "camera_id": 1,
          "created": "2019-01-28T10:00:00",
          "nb_pl_tot": 148,
          "nb_pl_transit": 0,
          "nb_veh": 148,
          "pct_pl_transit": 0,
          "type": "PL total",
          "type_x": "PL total",
          "type_y": "PL transit"
         },
         {
          "camera_id": 1,
          "created": "2019-01-28T11:00:00",
          "nb_pl_tot": 109,
          "nb_pl_transit": 2,
          "nb_veh": 109,
          "pct_pl_transit": 1.834862385321101,
          "type": "PL total",
          "type_x": "PL total",
          "type_y": "PL transit"
         },
         {
          "camera_id": 1,
          "created": "2019-01-28T12:00:00",
          "nb_pl_tot": 128,
          "nb_pl_transit": 1,
          "nb_veh": 128,
          "pct_pl_transit": 0.78125,
          "type": "PL total",
          "type_x": "PL total",
          "type_y": "PL transit"
         },
         {
          "camera_id": 1,
          "created": "2019-01-28T13:00:00",
          "nb_pl_tot": 138,
          "nb_pl_transit": 2,
          "nb_veh": 138,
          "pct_pl_transit": 1.4492753623188406,
          "type": "PL total",
          "type_x": "PL total",
          "type_y": "PL transit"
         },
         {
          "camera_id": 1,
          "created": "2019-01-28T14:00:00",
          "nb_pl_tot": 135,
          "nb_pl_transit": 0,
          "nb_veh": 135,
          "pct_pl_transit": 0,
          "type": "PL total",
          "type_x": "PL total",
          "type_y": "PL transit"
         },
         {
          "camera_id": 1,
          "created": "2019-01-28T15:00:00",
          "nb_pl_tot": 99,
          "nb_pl_transit": 3,
          "nb_veh": 99,
          "pct_pl_transit": 3.0303030303030303,
          "type": "PL total",
          "type_x": "PL total",
          "type_y": "PL transit"
         },
         {
          "camera_id": 1,
          "created": "2019-01-28T16:00:00",
          "nb_pl_tot": 77,
          "nb_pl_transit": 9,
          "nb_veh": 77,
          "pct_pl_transit": 11.688311688311689,
          "type": "PL total",
          "type_x": "PL total",
          "type_y": "PL transit"
         },
         {
          "camera_id": 1,
          "created": "2019-01-28T17:00:00",
          "nb_pl_tot": 13,
          "nb_pl_transit": 2,
          "nb_veh": 13,
          "pct_pl_transit": 15.384615384615385,
          "type": "PL total",
          "type_x": "PL total",
          "type_y": "PL transit"
         },
         {
          "camera_id": 1,
          "created": "2019-01-28T18:00:00",
          "nb_pl_tot": 5,
          "nb_pl_transit": 0,
          "nb_veh": 5,
          "pct_pl_transit": 0,
          "type": "PL total",
          "type_x": "PL total",
          "type_y": "PL transit"
         },
         {
          "camera_id": 1,
          "created": "2019-01-28T19:00:00",
          "nb_pl_tot": 9,
          "nb_pl_transit": 1,
          "nb_veh": 9,
          "pct_pl_transit": 11.11111111111111,
          "type": "PL total",
          "type_x": "PL total",
          "type_y": "PL transit"
         },
         {
          "camera_id": 1,
          "created": "2019-01-28T20:00:00",
          "nb_pl_tot": 3,
          "nb_pl_transit": 0,
          "nb_veh": 3,
          "pct_pl_transit": 0,
          "type": "PL total",
          "type_x": "PL total",
          "type_y": "PL transit"
         },
         {
          "camera_id": 1,
          "created": "2019-01-28T21:00:00",
          "nb_pl_tot": 5,
          "nb_pl_transit": 0,
          "nb_veh": 5,
          "pct_pl_transit": 0,
          "type": "PL total",
          "type_x": "PL total",
          "type_y": "PL transit"
         },
         {
          "camera_id": 1,
          "created": "2019-01-28T22:00:00",
          "nb_pl_tot": 2,
          "nb_pl_transit": 0,
          "nb_veh": 2,
          "pct_pl_transit": 0,
          "type": "PL total",
          "type_x": "PL total",
          "type_y": "PL transit"
         },
         {
          "camera_id": 1,
          "created": "2019-01-28T23:00:00",
          "nb_pl_tot": 3,
          "nb_pl_transit": 0,
          "nb_veh": 3,
          "pct_pl_transit": 0,
          "type": "PL total",
          "type_x": "PL total",
          "type_y": "PL transit"
         },
         {
          "camera_id": 1,
          "created": "2019-01-28T00:00:00",
          "nb_pl_tot": null,
          "nb_pl_transit": null,
          "nb_veh": 39,
          "pct_pl_transit": null,
          "type": "VL total",
          "type_x": null,
          "type_y": null
         },
         {
          "camera_id": 1,
          "created": "2019-01-28T01:00:00",
          "nb_pl_tot": null,
          "nb_pl_transit": null,
          "nb_veh": 27,
          "pct_pl_transit": null,
          "type": "VL total",
          "type_x": null,
          "type_y": null
         },
         {
          "camera_id": 1,
          "created": "2019-01-28T02:00:00",
          "nb_pl_tot": null,
          "nb_pl_transit": null,
          "nb_veh": 17,
          "pct_pl_transit": null,
          "type": "VL total",
          "type_x": null,
          "type_y": null
         },
         {
          "camera_id": 1,
          "created": "2019-01-28T03:00:00",
          "nb_pl_tot": null,
          "nb_pl_transit": null,
          "nb_veh": 73,
          "pct_pl_transit": null,
          "type": "VL total",
          "type_x": null,
          "type_y": null
         },
         {
          "camera_id": 1,
          "created": "2019-01-28T04:00:00",
          "nb_pl_tot": null,
          "nb_pl_transit": null,
          "nb_veh": 197,
          "pct_pl_transit": null,
          "type": "VL total",
          "type_x": null,
          "type_y": null
         },
         {
          "camera_id": 1,
          "created": "2019-01-28T05:00:00",
          "nb_pl_tot": null,
          "nb_pl_transit": null,
          "nb_veh": 458,
          "pct_pl_transit": null,
          "type": "VL total",
          "type_x": null,
          "type_y": null
         },
         {
          "camera_id": 1,
          "created": "2019-01-28T06:00:00",
          "nb_pl_tot": 47,
          "nb_pl_transit": 1,
          "nb_veh": 792,
          "pct_pl_transit": 2.127659574468085,
          "type": "VL total",
          "type_x": "PL total",
          "type_y": "PL transit"
         },
         {
          "camera_id": 1,
          "created": "2019-01-28T07:00:00",
          "nb_pl_tot": 61,
          "nb_pl_transit": 2,
          "nb_veh": 1164,
          "pct_pl_transit": 3.278688524590164,
          "type": "VL total",
          "type_x": "PL total",
          "type_y": "PL transit"
         },
         {
          "camera_id": 1,
          "created": "2019-01-28T08:00:00",
          "nb_pl_tot": 128,
          "nb_pl_transit": 2,
          "nb_veh": 2168,
          "pct_pl_transit": 1.5625,
          "type": "VL total",
          "type_x": "PL total",
          "type_y": "PL transit"
         },
         {
          "camera_id": 1,
          "created": "2019-01-28T09:00:00",
          "nb_pl_tot": 137,
          "nb_pl_transit": 0,
          "nb_veh": 2050,
          "pct_pl_transit": 0,
          "type": "VL total",
          "type_x": "PL total",
          "type_y": "PL transit"
         },
         {
          "camera_id": 1,
          "created": "2019-01-28T10:00:00",
          "nb_pl_tot": 148,
          "nb_pl_transit": 0,
          "nb_veh": 1924,
          "pct_pl_transit": 0,
          "type": "VL total",
          "type_x": "PL total",
          "type_y": "PL transit"
         },
         {
          "camera_id": 1,
          "created": "2019-01-28T11:00:00",
          "nb_pl_tot": 109,
          "nb_pl_transit": 2,
          "nb_veh": 1983,
          "pct_pl_transit": 1.834862385321101,
          "type": "VL total",
          "type_x": "PL total",
          "type_y": "PL transit"
         },
         {
          "camera_id": 1,
          "created": "2019-01-28T12:00:00",
          "nb_pl_tot": 128,
          "nb_pl_transit": 1,
          "nb_veh": 2222,
          "pct_pl_transit": 0.78125,
          "type": "VL total",
          "type_x": "PL total",
          "type_y": "PL transit"
         },
         {
          "camera_id": 1,
          "created": "2019-01-28T13:00:00",
          "nb_pl_tot": 138,
          "nb_pl_transit": 2,
          "nb_veh": 2087,
          "pct_pl_transit": 1.4492753623188406,
          "type": "VL total",
          "type_x": "PL total",
          "type_y": "PL transit"
         },
         {
          "camera_id": 1,
          "created": "2019-01-28T14:00:00",
          "nb_pl_tot": 135,
          "nb_pl_transit": 0,
          "nb_veh": 2024,
          "pct_pl_transit": 0,
          "type": "VL total",
          "type_x": "PL total",
          "type_y": "PL transit"
         },
         {
          "camera_id": 1,
          "created": "2019-01-28T15:00:00",
          "nb_pl_tot": 99,
          "nb_pl_transit": 3,
          "nb_veh": 2399,
          "pct_pl_transit": 3.0303030303030303,
          "type": "VL total",
          "type_x": "PL total",
          "type_y": "PL transit"
         },
         {
          "camera_id": 1,
          "created": "2019-01-28T16:00:00",
          "nb_pl_tot": 77,
          "nb_pl_transit": 9,
          "nb_veh": 2327,
          "pct_pl_transit": 11.688311688311689,
          "type": "VL total",
          "type_x": "PL total",
          "type_y": "PL transit"
         },
         {
          "camera_id": 1,
          "created": "2019-01-28T17:00:00",
          "nb_pl_tot": 13,
          "nb_pl_transit": 2,
          "nb_veh": 753,
          "pct_pl_transit": 15.384615384615385,
          "type": "VL total",
          "type_x": "PL total",
          "type_y": "PL transit"
         },
         {
          "camera_id": 1,
          "created": "2019-01-28T18:00:00",
          "nb_pl_tot": 5,
          "nb_pl_transit": 0,
          "nb_veh": 440,
          "pct_pl_transit": 0,
          "type": "VL total",
          "type_x": "PL total",
          "type_y": "PL transit"
         },
         {
          "camera_id": 1,
          "created": "2019-01-28T19:00:00",
          "nb_pl_tot": 9,
          "nb_pl_transit": 1,
          "nb_veh": 298,
          "pct_pl_transit": 11.11111111111111,
          "type": "VL total",
          "type_x": "PL total",
          "type_y": "PL transit"
         },
         {
          "camera_id": 1,
          "created": "2019-01-28T20:00:00",
          "nb_pl_tot": 3,
          "nb_pl_transit": 0,
          "nb_veh": 236,
          "pct_pl_transit": 0,
          "type": "VL total",
          "type_x": "PL total",
          "type_y": "PL transit"
         },
         {
          "camera_id": 1,
          "created": "2019-01-28T21:00:00",
          "nb_pl_tot": 5,
          "nb_pl_transit": 0,
          "nb_veh": 142,
          "pct_pl_transit": 0,
          "type": "VL total",
          "type_x": "PL total",
          "type_y": "PL transit"
         },
         {
          "camera_id": 1,
          "created": "2019-01-28T22:00:00",
          "nb_pl_tot": 2,
          "nb_pl_transit": 0,
          "nb_veh": 87,
          "pct_pl_transit": 0,
          "type": "VL total",
          "type_x": "PL total",
          "type_y": "PL transit"
         },
         {
          "camera_id": 1,
          "created": "2019-01-28T23:00:00",
          "nb_pl_tot": 3,
          "nb_pl_transit": 0,
          "nb_veh": 45,
          "pct_pl_transit": 0,
          "type": "VL total",
          "type_x": "PL total",
          "type_y": "PL transit"
         },
         {
          "camera_id": 1,
          "created": "2019-01-28T06:00:00",
          "nb_pl_tot": 47,
          "nb_pl_transit": 1,
          "nb_veh": 1,
          "pct_pl_transit": 2.127659574468085,
          "type": "PL transit",
          "type_x": "PL total",
          "type_y": "PL transit"
         },
         {
          "camera_id": 1,
          "created": "2019-01-28T07:00:00",
          "nb_pl_tot": 61,
          "nb_pl_transit": 2,
          "nb_veh": 2,
          "pct_pl_transit": 3.278688524590164,
          "type": "PL transit",
          "type_x": "PL total",
          "type_y": "PL transit"
         },
         {
          "camera_id": 1,
          "created": "2019-01-28T08:00:00",
          "nb_pl_tot": 128,
          "nb_pl_transit": 2,
          "nb_veh": 2,
          "pct_pl_transit": 1.5625,
          "type": "PL transit",
          "type_x": "PL total",
          "type_y": "PL transit"
         },
         {
          "camera_id": 1,
          "created": "2019-01-28T09:00:00",
          "nb_pl_tot": 137,
          "nb_pl_transit": 0,
          "nb_veh": 0,
          "pct_pl_transit": 0,
          "type": "PL transit",
          "type_x": "PL total",
          "type_y": "PL transit"
         },
         {
          "camera_id": 1,
          "created": "2019-01-28T10:00:00",
          "nb_pl_tot": 148,
          "nb_pl_transit": 0,
          "nb_veh": 0,
          "pct_pl_transit": 0,
          "type": "PL transit",
          "type_x": "PL total",
          "type_y": "PL transit"
         },
         {
          "camera_id": 1,
          "created": "2019-01-28T11:00:00",
          "nb_pl_tot": 109,
          "nb_pl_transit": 2,
          "nb_veh": 2,
          "pct_pl_transit": 1.834862385321101,
          "type": "PL transit",
          "type_x": "PL total",
          "type_y": "PL transit"
         },
         {
          "camera_id": 1,
          "created": "2019-01-28T12:00:00",
          "nb_pl_tot": 128,
          "nb_pl_transit": 1,
          "nb_veh": 1,
          "pct_pl_transit": 0.78125,
          "type": "PL transit",
          "type_x": "PL total",
          "type_y": "PL transit"
         },
         {
          "camera_id": 1,
          "created": "2019-01-28T13:00:00",
          "nb_pl_tot": 138,
          "nb_pl_transit": 2,
          "nb_veh": 2,
          "pct_pl_transit": 1.4492753623188406,
          "type": "PL transit",
          "type_x": "PL total",
          "type_y": "PL transit"
         },
         {
          "camera_id": 1,
          "created": "2019-01-28T14:00:00",
          "nb_pl_tot": 135,
          "nb_pl_transit": 0,
          "nb_veh": 0,
          "pct_pl_transit": 0,
          "type": "PL transit",
          "type_x": "PL total",
          "type_y": "PL transit"
         },
         {
          "camera_id": 1,
          "created": "2019-01-28T15:00:00",
          "nb_pl_tot": 99,
          "nb_pl_transit": 3,
          "nb_veh": 3,
          "pct_pl_transit": 3.0303030303030303,
          "type": "PL transit",
          "type_x": "PL total",
          "type_y": "PL transit"
         },
         {
          "camera_id": 1,
          "created": "2019-01-28T16:00:00",
          "nb_pl_tot": 77,
          "nb_pl_transit": 9,
          "nb_veh": 9,
          "pct_pl_transit": 11.688311688311689,
          "type": "PL transit",
          "type_x": "PL total",
          "type_y": "PL transit"
         },
         {
          "camera_id": 1,
          "created": "2019-01-28T17:00:00",
          "nb_pl_tot": 13,
          "nb_pl_transit": 2,
          "nb_veh": 2,
          "pct_pl_transit": 15.384615384615385,
          "type": "PL transit",
          "type_x": "PL total",
          "type_y": "PL transit"
         },
         {
          "camera_id": 1,
          "created": "2019-01-28T18:00:00",
          "nb_pl_tot": 5,
          "nb_pl_transit": 0,
          "nb_veh": 0,
          "pct_pl_transit": 0,
          "type": "PL transit",
          "type_x": "PL total",
          "type_y": "PL transit"
         },
         {
          "camera_id": 1,
          "created": "2019-01-28T19:00:00",
          "nb_pl_tot": 9,
          "nb_pl_transit": 1,
          "nb_veh": 1,
          "pct_pl_transit": 11.11111111111111,
          "type": "PL transit",
          "type_x": "PL total",
          "type_y": "PL transit"
         },
         {
          "camera_id": 1,
          "created": "2019-01-28T20:00:00",
          "nb_pl_tot": 3,
          "nb_pl_transit": 0,
          "nb_veh": 0,
          "pct_pl_transit": 0,
          "type": "PL transit",
          "type_x": "PL total",
          "type_y": "PL transit"
         },
         {
          "camera_id": 1,
          "created": "2019-01-28T21:00:00",
          "nb_pl_tot": 5,
          "nb_pl_transit": 0,
          "nb_veh": 0,
          "pct_pl_transit": 0,
          "type": "PL transit",
          "type_x": "PL total",
          "type_y": "PL transit"
         },
         {
          "camera_id": 1,
          "created": "2019-01-28T22:00:00",
          "nb_pl_tot": 2,
          "nb_pl_transit": 0,
          "nb_veh": 0,
          "pct_pl_transit": 0,
          "type": "PL transit",
          "type_x": "PL total",
          "type_y": "PL transit"
         },
         {
          "camera_id": 1,
          "created": "2019-01-28T23:00:00",
          "nb_pl_tot": 3,
          "nb_pl_transit": 0,
          "nb_veh": 0,
          "pct_pl_transit": 0,
          "type": "PL transit",
          "type_x": "PL total",
          "type_y": "PL transit"
         }
        ],
        "data-92e676b705d87cc226f27a6e4f419d99": [
         {
          "camera_id": 1,
          "created": "2019-01-28T00:00:00",
          "heure": 0,
          "nb_pl_tot": null,
          "nb_pl_transit": null,
          "nb_veh": 1,
          "pct_pl_transit": null,
          "type": "PL total",
          "type_x": null,
          "type_y": null
         },
         {
          "camera_id": 1,
          "created": "2019-01-28T01:00:00",
          "heure": 1,
          "nb_pl_tot": null,
          "nb_pl_transit": null,
          "nb_veh": 2,
          "pct_pl_transit": null,
          "type": "PL total",
          "type_x": null,
          "type_y": null
         },
         {
          "camera_id": 1,
          "created": "2019-01-28T02:00:00",
          "heure": 2,
          "nb_pl_tot": null,
          "nb_pl_transit": null,
          "nb_veh": 5,
          "pct_pl_transit": null,
          "type": "PL total",
          "type_x": null,
          "type_y": null
         },
         {
          "camera_id": 1,
          "created": "2019-01-28T03:00:00",
          "heure": 3,
          "nb_pl_tot": null,
          "nb_pl_transit": null,
          "nb_veh": 6,
          "pct_pl_transit": null,
          "type": "PL total",
          "type_x": null,
          "type_y": null
         },
         {
          "camera_id": 1,
          "created": "2019-01-28T04:00:00",
          "heure": 4,
          "nb_pl_tot": null,
          "nb_pl_transit": null,
          "nb_veh": 16,
          "pct_pl_transit": null,
          "type": "PL total",
          "type_x": null,
          "type_y": null
         },
         {
          "camera_id": 1,
          "created": "2019-01-28T05:00:00",
          "heure": 5,
          "nb_pl_tot": null,
          "nb_pl_transit": null,
          "nb_veh": 37,
          "pct_pl_transit": null,
          "type": "PL total",
          "type_x": null,
          "type_y": null
         },
         {
          "camera_id": 1,
          "created": "2019-01-28T06:00:00",
          "heure": 6,
          "nb_pl_tot": 47,
          "nb_pl_transit": 1,
          "nb_veh": 47,
          "pct_pl_transit": 2.127659574468085,
          "type": "PL total",
          "type_x": "PL total",
          "type_y": "PL transit"
         },
         {
          "camera_id": 1,
          "created": "2019-01-28T07:00:00",
          "heure": 7,
          "nb_pl_tot": 61,
          "nb_pl_transit": 2,
          "nb_veh": 61,
          "pct_pl_transit": 3.278688524590164,
          "type": "PL total",
          "type_x": "PL total",
          "type_y": "PL transit"
         },
         {
          "camera_id": 1,
          "created": "2019-01-28T08:00:00",
          "heure": 8,
          "nb_pl_tot": 128,
          "nb_pl_transit": 2,
          "nb_veh": 128,
          "pct_pl_transit": 1.5625,
          "type": "PL total",
          "type_x": "PL total",
          "type_y": "PL transit"
         },
         {
          "camera_id": 1,
          "created": "2019-01-28T09:00:00",
          "heure": 9,
          "nb_pl_tot": 137,
          "nb_pl_transit": 0,
          "nb_veh": 137,
          "pct_pl_transit": 0,
          "type": "PL total",
          "type_x": "PL total",
          "type_y": "PL transit"
         },
         {
          "camera_id": 1,
          "created": "2019-01-28T10:00:00",
          "heure": 10,
          "nb_pl_tot": 148,
          "nb_pl_transit": 0,
          "nb_veh": 148,
          "pct_pl_transit": 0,
          "type": "PL total",
          "type_x": "PL total",
          "type_y": "PL transit"
         },
         {
          "camera_id": 1,
          "created": "2019-01-28T11:00:00",
          "heure": 11,
          "nb_pl_tot": 109,
          "nb_pl_transit": 2,
          "nb_veh": 109,
          "pct_pl_transit": 1.834862385321101,
          "type": "PL total",
          "type_x": "PL total",
          "type_y": "PL transit"
         },
         {
          "camera_id": 1,
          "created": "2019-01-28T12:00:00",
          "heure": 12,
          "nb_pl_tot": 128,
          "nb_pl_transit": 1,
          "nb_veh": 128,
          "pct_pl_transit": 0.78125,
          "type": "PL total",
          "type_x": "PL total",
          "type_y": "PL transit"
         },
         {
          "camera_id": 1,
          "created": "2019-01-28T13:00:00",
          "heure": 13,
          "nb_pl_tot": 138,
          "nb_pl_transit": 2,
          "nb_veh": 138,
          "pct_pl_transit": 1.4492753623188406,
          "type": "PL total",
          "type_x": "PL total",
          "type_y": "PL transit"
         },
         {
          "camera_id": 1,
          "created": "2019-01-28T14:00:00",
          "heure": 14,
          "nb_pl_tot": 135,
          "nb_pl_transit": 0,
          "nb_veh": 135,
          "pct_pl_transit": 0,
          "type": "PL total",
          "type_x": "PL total",
          "type_y": "PL transit"
         },
         {
          "camera_id": 1,
          "created": "2019-01-28T15:00:00",
          "heure": 15,
          "nb_pl_tot": 99,
          "nb_pl_transit": 3,
          "nb_veh": 99,
          "pct_pl_transit": 3.0303030303030303,
          "type": "PL total",
          "type_x": "PL total",
          "type_y": "PL transit"
         },
         {
          "camera_id": 1,
          "created": "2019-01-28T16:00:00",
          "heure": 16,
          "nb_pl_tot": 77,
          "nb_pl_transit": 9,
          "nb_veh": 77,
          "pct_pl_transit": 11.688311688311689,
          "type": "PL total",
          "type_x": "PL total",
          "type_y": "PL transit"
         },
         {
          "camera_id": 1,
          "created": "2019-01-28T17:00:00",
          "heure": 17,
          "nb_pl_tot": 13,
          "nb_pl_transit": 2,
          "nb_veh": 13,
          "pct_pl_transit": 15.384615384615385,
          "type": "PL total",
          "type_x": "PL total",
          "type_y": "PL transit"
         },
         {
          "camera_id": 1,
          "created": "2019-01-28T18:00:00",
          "heure": 18,
          "nb_pl_tot": 5,
          "nb_pl_transit": 0,
          "nb_veh": 5,
          "pct_pl_transit": 0,
          "type": "PL total",
          "type_x": "PL total",
          "type_y": "PL transit"
         },
         {
          "camera_id": 1,
          "created": "2019-01-28T19:00:00",
          "heure": 19,
          "nb_pl_tot": 9,
          "nb_pl_transit": 1,
          "nb_veh": 9,
          "pct_pl_transit": 11.11111111111111,
          "type": "PL total",
          "type_x": "PL total",
          "type_y": "PL transit"
         },
         {
          "camera_id": 1,
          "created": "2019-01-28T20:00:00",
          "heure": 20,
          "nb_pl_tot": 3,
          "nb_pl_transit": 0,
          "nb_veh": 3,
          "pct_pl_transit": 0,
          "type": "PL total",
          "type_x": "PL total",
          "type_y": "PL transit"
         },
         {
          "camera_id": 1,
          "created": "2019-01-28T21:00:00",
          "heure": 21,
          "nb_pl_tot": 5,
          "nb_pl_transit": 0,
          "nb_veh": 5,
          "pct_pl_transit": 0,
          "type": "PL total",
          "type_x": "PL total",
          "type_y": "PL transit"
         },
         {
          "camera_id": 1,
          "created": "2019-01-28T22:00:00",
          "heure": 22,
          "nb_pl_tot": 2,
          "nb_pl_transit": 0,
          "nb_veh": 2,
          "pct_pl_transit": 0,
          "type": "PL total",
          "type_x": "PL total",
          "type_y": "PL transit"
         },
         {
          "camera_id": 1,
          "created": "2019-01-28T23:00:00",
          "heure": 23,
          "nb_pl_tot": 3,
          "nb_pl_transit": 0,
          "nb_veh": 3,
          "pct_pl_transit": 0,
          "type": "PL total",
          "type_x": "PL total",
          "type_y": "PL transit"
         },
         {
          "camera_id": 1,
          "created": "2019-01-28T00:00:00",
          "heure": 0,
          "nb_pl_tot": null,
          "nb_pl_transit": null,
          "nb_veh": 39,
          "pct_pl_transit": null,
          "type": "VL total",
          "type_x": null,
          "type_y": null
         },
         {
          "camera_id": 1,
          "created": "2019-01-28T01:00:00",
          "heure": 1,
          "nb_pl_tot": null,
          "nb_pl_transit": null,
          "nb_veh": 27,
          "pct_pl_transit": null,
          "type": "VL total",
          "type_x": null,
          "type_y": null
         },
         {
          "camera_id": 1,
          "created": "2019-01-28T02:00:00",
          "heure": 2,
          "nb_pl_tot": null,
          "nb_pl_transit": null,
          "nb_veh": 17,
          "pct_pl_transit": null,
          "type": "VL total",
          "type_x": null,
          "type_y": null
         },
         {
          "camera_id": 1,
          "created": "2019-01-28T03:00:00",
          "heure": 3,
          "nb_pl_tot": null,
          "nb_pl_transit": null,
          "nb_veh": 73,
          "pct_pl_transit": null,
          "type": "VL total",
          "type_x": null,
          "type_y": null
         },
         {
          "camera_id": 1,
          "created": "2019-01-28T04:00:00",
          "heure": 4,
          "nb_pl_tot": null,
          "nb_pl_transit": null,
          "nb_veh": 197,
          "pct_pl_transit": null,
          "type": "VL total",
          "type_x": null,
          "type_y": null
         },
         {
          "camera_id": 1,
          "created": "2019-01-28T05:00:00",
          "heure": 5,
          "nb_pl_tot": null,
          "nb_pl_transit": null,
          "nb_veh": 458,
          "pct_pl_transit": null,
          "type": "VL total",
          "type_x": null,
          "type_y": null
         },
         {
          "camera_id": 1,
          "created": "2019-01-28T06:00:00",
          "heure": 6,
          "nb_pl_tot": 47,
          "nb_pl_transit": 1,
          "nb_veh": 792,
          "pct_pl_transit": 2.127659574468085,
          "type": "VL total",
          "type_x": "PL total",
          "type_y": "PL transit"
         },
         {
          "camera_id": 1,
          "created": "2019-01-28T07:00:00",
          "heure": 7,
          "nb_pl_tot": 61,
          "nb_pl_transit": 2,
          "nb_veh": 1164,
          "pct_pl_transit": 3.278688524590164,
          "type": "VL total",
          "type_x": "PL total",
          "type_y": "PL transit"
         },
         {
          "camera_id": 1,
          "created": "2019-01-28T08:00:00",
          "heure": 8,
          "nb_pl_tot": 128,
          "nb_pl_transit": 2,
          "nb_veh": 2168,
          "pct_pl_transit": 1.5625,
          "type": "VL total",
          "type_x": "PL total",
          "type_y": "PL transit"
         },
         {
          "camera_id": 1,
          "created": "2019-01-28T09:00:00",
          "heure": 9,
          "nb_pl_tot": 137,
          "nb_pl_transit": 0,
          "nb_veh": 2050,
          "pct_pl_transit": 0,
          "type": "VL total",
          "type_x": "PL total",
          "type_y": "PL transit"
         },
         {
          "camera_id": 1,
          "created": "2019-01-28T10:00:00",
          "heure": 10,
          "nb_pl_tot": 148,
          "nb_pl_transit": 0,
          "nb_veh": 1924,
          "pct_pl_transit": 0,
          "type": "VL total",
          "type_x": "PL total",
          "type_y": "PL transit"
         },
         {
          "camera_id": 1,
          "created": "2019-01-28T11:00:00",
          "heure": 11,
          "nb_pl_tot": 109,
          "nb_pl_transit": 2,
          "nb_veh": 1983,
          "pct_pl_transit": 1.834862385321101,
          "type": "VL total",
          "type_x": "PL total",
          "type_y": "PL transit"
         },
         {
          "camera_id": 1,
          "created": "2019-01-28T12:00:00",
          "heure": 12,
          "nb_pl_tot": 128,
          "nb_pl_transit": 1,
          "nb_veh": 2222,
          "pct_pl_transit": 0.78125,
          "type": "VL total",
          "type_x": "PL total",
          "type_y": "PL transit"
         },
         {
          "camera_id": 1,
          "created": "2019-01-28T13:00:00",
          "heure": 13,
          "nb_pl_tot": 138,
          "nb_pl_transit": 2,
          "nb_veh": 2087,
          "pct_pl_transit": 1.4492753623188406,
          "type": "VL total",
          "type_x": "PL total",
          "type_y": "PL transit"
         },
         {
          "camera_id": 1,
          "created": "2019-01-28T14:00:00",
          "heure": 14,
          "nb_pl_tot": 135,
          "nb_pl_transit": 0,
          "nb_veh": 2024,
          "pct_pl_transit": 0,
          "type": "VL total",
          "type_x": "PL total",
          "type_y": "PL transit"
         },
         {
          "camera_id": 1,
          "created": "2019-01-28T15:00:00",
          "heure": 15,
          "nb_pl_tot": 99,
          "nb_pl_transit": 3,
          "nb_veh": 2399,
          "pct_pl_transit": 3.0303030303030303,
          "type": "VL total",
          "type_x": "PL total",
          "type_y": "PL transit"
         },
         {
          "camera_id": 1,
          "created": "2019-01-28T16:00:00",
          "heure": 16,
          "nb_pl_tot": 77,
          "nb_pl_transit": 9,
          "nb_veh": 2327,
          "pct_pl_transit": 11.688311688311689,
          "type": "VL total",
          "type_x": "PL total",
          "type_y": "PL transit"
         },
         {
          "camera_id": 1,
          "created": "2019-01-28T17:00:00",
          "heure": 17,
          "nb_pl_tot": 13,
          "nb_pl_transit": 2,
          "nb_veh": 753,
          "pct_pl_transit": 15.384615384615385,
          "type": "VL total",
          "type_x": "PL total",
          "type_y": "PL transit"
         },
         {
          "camera_id": 1,
          "created": "2019-01-28T18:00:00",
          "heure": 18,
          "nb_pl_tot": 5,
          "nb_pl_transit": 0,
          "nb_veh": 440,
          "pct_pl_transit": 0,
          "type": "VL total",
          "type_x": "PL total",
          "type_y": "PL transit"
         },
         {
          "camera_id": 1,
          "created": "2019-01-28T19:00:00",
          "heure": 19,
          "nb_pl_tot": 9,
          "nb_pl_transit": 1,
          "nb_veh": 298,
          "pct_pl_transit": 11.11111111111111,
          "type": "VL total",
          "type_x": "PL total",
          "type_y": "PL transit"
         },
         {
          "camera_id": 1,
          "created": "2019-01-28T20:00:00",
          "heure": 20,
          "nb_pl_tot": 3,
          "nb_pl_transit": 0,
          "nb_veh": 236,
          "pct_pl_transit": 0,
          "type": "VL total",
          "type_x": "PL total",
          "type_y": "PL transit"
         },
         {
          "camera_id": 1,
          "created": "2019-01-28T21:00:00",
          "heure": 21,
          "nb_pl_tot": 5,
          "nb_pl_transit": 0,
          "nb_veh": 142,
          "pct_pl_transit": 0,
          "type": "VL total",
          "type_x": "PL total",
          "type_y": "PL transit"
         },
         {
          "camera_id": 1,
          "created": "2019-01-28T22:00:00",
          "heure": 22,
          "nb_pl_tot": 2,
          "nb_pl_transit": 0,
          "nb_veh": 87,
          "pct_pl_transit": 0,
          "type": "VL total",
          "type_x": "PL total",
          "type_y": "PL transit"
         },
         {
          "camera_id": 1,
          "created": "2019-01-28T23:00:00",
          "heure": 23,
          "nb_pl_tot": 3,
          "nb_pl_transit": 0,
          "nb_veh": 45,
          "pct_pl_transit": 0,
          "type": "VL total",
          "type_x": "PL total",
          "type_y": "PL transit"
         },
         {
          "camera_id": 1,
          "created": "2019-01-28T06:00:00",
          "heure": 6,
          "nb_pl_tot": 47,
          "nb_pl_transit": 1,
          "nb_veh": 1,
          "pct_pl_transit": 2.127659574468085,
          "type": "PL transit",
          "type_x": "PL total",
          "type_y": "PL transit"
         },
         {
          "camera_id": 1,
          "created": "2019-01-28T07:00:00",
          "heure": 7,
          "nb_pl_tot": 61,
          "nb_pl_transit": 2,
          "nb_veh": 2,
          "pct_pl_transit": 3.278688524590164,
          "type": "PL transit",
          "type_x": "PL total",
          "type_y": "PL transit"
         },
         {
          "camera_id": 1,
          "created": "2019-01-28T08:00:00",
          "heure": 8,
          "nb_pl_tot": 128,
          "nb_pl_transit": 2,
          "nb_veh": 2,
          "pct_pl_transit": 1.5625,
          "type": "PL transit",
          "type_x": "PL total",
          "type_y": "PL transit"
         },
         {
          "camera_id": 1,
          "created": "2019-01-28T09:00:00",
          "heure": 9,
          "nb_pl_tot": 137,
          "nb_pl_transit": 0,
          "nb_veh": 0,
          "pct_pl_transit": 0,
          "type": "PL transit",
          "type_x": "PL total",
          "type_y": "PL transit"
         },
         {
          "camera_id": 1,
          "created": "2019-01-28T10:00:00",
          "heure": 10,
          "nb_pl_tot": 148,
          "nb_pl_transit": 0,
          "nb_veh": 0,
          "pct_pl_transit": 0,
          "type": "PL transit",
          "type_x": "PL total",
          "type_y": "PL transit"
         },
         {
          "camera_id": 1,
          "created": "2019-01-28T11:00:00",
          "heure": 11,
          "nb_pl_tot": 109,
          "nb_pl_transit": 2,
          "nb_veh": 2,
          "pct_pl_transit": 1.834862385321101,
          "type": "PL transit",
          "type_x": "PL total",
          "type_y": "PL transit"
         },
         {
          "camera_id": 1,
          "created": "2019-01-28T12:00:00",
          "heure": 12,
          "nb_pl_tot": 128,
          "nb_pl_transit": 1,
          "nb_veh": 1,
          "pct_pl_transit": 0.78125,
          "type": "PL transit",
          "type_x": "PL total",
          "type_y": "PL transit"
         },
         {
          "camera_id": 1,
          "created": "2019-01-28T13:00:00",
          "heure": 13,
          "nb_pl_tot": 138,
          "nb_pl_transit": 2,
          "nb_veh": 2,
          "pct_pl_transit": 1.4492753623188406,
          "type": "PL transit",
          "type_x": "PL total",
          "type_y": "PL transit"
         },
         {
          "camera_id": 1,
          "created": "2019-01-28T14:00:00",
          "heure": 14,
          "nb_pl_tot": 135,
          "nb_pl_transit": 0,
          "nb_veh": 0,
          "pct_pl_transit": 0,
          "type": "PL transit",
          "type_x": "PL total",
          "type_y": "PL transit"
         },
         {
          "camera_id": 1,
          "created": "2019-01-28T15:00:00",
          "heure": 15,
          "nb_pl_tot": 99,
          "nb_pl_transit": 3,
          "nb_veh": 3,
          "pct_pl_transit": 3.0303030303030303,
          "type": "PL transit",
          "type_x": "PL total",
          "type_y": "PL transit"
         },
         {
          "camera_id": 1,
          "created": "2019-01-28T16:00:00",
          "heure": 16,
          "nb_pl_tot": 77,
          "nb_pl_transit": 9,
          "nb_veh": 9,
          "pct_pl_transit": 11.688311688311689,
          "type": "PL transit",
          "type_x": "PL total",
          "type_y": "PL transit"
         },
         {
          "camera_id": 1,
          "created": "2019-01-28T17:00:00",
          "heure": 17,
          "nb_pl_tot": 13,
          "nb_pl_transit": 2,
          "nb_veh": 2,
          "pct_pl_transit": 15.384615384615385,
          "type": "PL transit",
          "type_x": "PL total",
          "type_y": "PL transit"
         },
         {
          "camera_id": 1,
          "created": "2019-01-28T18:00:00",
          "heure": 18,
          "nb_pl_tot": 5,
          "nb_pl_transit": 0,
          "nb_veh": 0,
          "pct_pl_transit": 0,
          "type": "PL transit",
          "type_x": "PL total",
          "type_y": "PL transit"
         },
         {
          "camera_id": 1,
          "created": "2019-01-28T19:00:00",
          "heure": 19,
          "nb_pl_tot": 9,
          "nb_pl_transit": 1,
          "nb_veh": 1,
          "pct_pl_transit": 11.11111111111111,
          "type": "PL transit",
          "type_x": "PL total",
          "type_y": "PL transit"
         },
         {
          "camera_id": 1,
          "created": "2019-01-28T20:00:00",
          "heure": 20,
          "nb_pl_tot": 3,
          "nb_pl_transit": 0,
          "nb_veh": 0,
          "pct_pl_transit": 0,
          "type": "PL transit",
          "type_x": "PL total",
          "type_y": "PL transit"
         },
         {
          "camera_id": 1,
          "created": "2019-01-28T21:00:00",
          "heure": 21,
          "nb_pl_tot": 5,
          "nb_pl_transit": 0,
          "nb_veh": 0,
          "pct_pl_transit": 0,
          "type": "PL transit",
          "type_x": "PL total",
          "type_y": "PL transit"
         },
         {
          "camera_id": 1,
          "created": "2019-01-28T22:00:00",
          "heure": 22,
          "nb_pl_tot": 2,
          "nb_pl_transit": 0,
          "nb_veh": 0,
          "pct_pl_transit": 0,
          "type": "PL transit",
          "type_x": "PL total",
          "type_y": "PL transit"
         },
         {
          "camera_id": 1,
          "created": "2019-01-28T23:00:00",
          "heure": 23,
          "nb_pl_tot": 3,
          "nb_pl_transit": 0,
          "nb_veh": 0,
          "pct_pl_transit": 0,
          "type": "PL transit",
          "type_x": "PL total",
          "type_y": "PL transit"
         }
        ]
       },
       "vconcat": [
        {
         "layer": [
          {
           "data": {
            "name": "data-814030b1bd5d736434a531fdb4ebe061"
           },
           "encoding": {
            "color": {
             "field": "type",
             "type": "nominal"
            },
            "x": {
             "axis": {
              "format": "%H:%M",
              "title": "Heure"
             },
             "field": "created",
             "type": "temporal"
            },
            "y": {
             "axis": {
              "title": "Nb de véhicules"
             },
             "field": "nb_veh",
             "stack": null,
             "type": "quantitative"
            }
           },
           "mark": {
            "opacity": 0.7,
            "size": 20,
            "type": "bar"
           }
          },
          {
           "data": {
            "name": "data-814030b1bd5d736434a531fdb4ebe061"
           },
           "encoding": {
            "x": {
             "axis": {
              "format": "%H:%M",
              "title": "Heure"
             },
             "field": "created",
             "type": "temporal"
            },
            "y": {
             "axis": {
              "title": "% de PL en transit"
             },
             "field": "pct_pl_transit",
             "type": "quantitative"
            }
           },
           "mark": {
            "color": "green",
            "type": "line"
           }
          }
         ],
         "resolve": {
          "scale": {
           "color": "shared",
           "x": "shared",
           "y": "independent"
          }
         },
         "width": 800
        },
        {
         "layer": [
          {
           "data": {
            "name": "data-92e676b705d87cc226f27a6e4f419d99"
           },
           "encoding": {
            "color": {
             "field": "type",
             "type": "nominal"
            },
            "x": {
             "axis": {
              "format": "%H:%M",
              "title": "Heure"
             },
             "field": "created",
             "type": "temporal"
            },
            "y": {
             "axis": {
              "title": "Nb de véhicules"
             },
             "field": "nb_veh",
             "stack": null,
             "type": "quantitative"
            }
           },
           "mark": {
            "opacity": 0.7,
            "size": 20,
            "type": "bar"
           }
          },
          {
           "data": {
            "name": "data-92e676b705d87cc226f27a6e4f419d99"
           },
           "encoding": {
            "x": {
             "axis": {
              "format": "%H:%M",
              "title": "Heure"
             },
             "field": "created",
             "type": "temporal"
            },
            "y": {
             "axis": {
              "title": "% de PL en transit"
             },
             "field": "pct_pl_transit",
             "type": "quantitative"
            }
           },
           "mark": {
            "color": "green",
            "type": "line"
           }
          }
         ],
         "resolve": {
          "scale": {
           "color": "shared",
           "x": "shared",
           "y": "independent"
          }
         },
         "width": 800
        }
       ]
      },
      "image/png": "[encoded data removed]",
      "text/plain": [
       "<VegaLite 2 object>\n",
       "\n",
       "If you see this message, it means the renderer has not been properly enabled\n",
       "for the frontend that you are using. For more information, see\n",
       "https://altair-viz.github.io/user_guide/troubleshooting.html\n"
      ]
     },
     "execution_count": 46,
     "metadata": {},
     "output_type": "execute_result"
    }
   ],
   "source": [
    "alt.vconcat(g.graph_VL_PL_transit_j_cam(synt_nb_veh_cam, '2019-01-28', 1),g.graph_VL_PL_transit_j_cam(synt_nb_veh_cam_redresse, '2019-01-28', 1))"
   ]
  },
  {
   "cell_type": "markdown",
   "metadata": {},
   "source": [
    "## 7.3 Redressement des trajets extrapoles\n",
    "\n",
    ">**A TESTER SUR JEU DE DONNEES COMPLET**"
   ]
  },
  {
   "cell_type": "code",
   "execution_count": null,
   "metadata": {},
   "outputs": [],
   "source": [
    "# de même que opur la rocade, il faut ajouter des passages fictifs à la df des passages afin de pouvoir approximer mieux les parts de PL\n",
    "#trouver les passages extrapoles\n",
    "df_od_final.loc[df_od_final['correction_o_d_type']=='extrapole']\n",
    "# tester la camera de debut :si c'est pas une des cameras d'entree - sortie du dispositif, on sait si le trajet est extrapole en début ou fin\n",
    "#selon l'o_d crééer un passage fictuf avec le numero de la camera qui manque du trajets sensé avoir eu leiu\n",
    "#estimer le temps de passage selon le temps theorique : date_cam_1 ou 2 +ou- temps ou temps theorique"
   ]
  },
  {
   "cell_type": "markdown",
   "metadata": {},
   "source": [
    "## 7.4. Grouper les réusltats par JO"
   ]
  },
  {
   "cell_type": "code",
   "execution_count": 133,
   "metadata": {},
   "outputs": [
    {
     "data": {
      "application/vnd.vegalite.v2+json": {
       "$schema": "https://vega.github.io/schema/vega-lite/v2.6.0.json",
       "config": {
        "view": {
         "height": 300,
         "width": 400
        }
       },
       "datasets": {
        "data-95c3837ad20261cf18ae521e675b426a": [
         {
          "camera_id": 4,
          "created": "1970-01-01T00:00:00",
          "heure": 0,
          "nb_veh": 122.2,
          "pct_pl_transit": 22.641020557517212,
          "type": "PL total"
         },
         {
          "camera_id": 4,
          "created": "1970-01-01T00:00:00",
          "heure": 0,
          "nb_veh": 30.5,
          "pct_pl_transit": 22.641020557517212,
          "type": "PL transit"
         },
         {
          "camera_id": 4,
          "created": "1970-01-01T00:00:00",
          "heure": 0,
          "nb_veh": 218,
          "pct_pl_transit": 22.641020557517212,
          "type": "VL total"
         },
         {
          "camera_id": 4,
          "created": "1970-01-01T01:00:00",
          "heure": 1,
          "nb_veh": 118.6,
          "pct_pl_transit": 18.7071445695247,
          "type": "PL total"
         },
         {
          "camera_id": 4,
          "created": "1970-01-01T01:00:00",
          "heure": 1,
          "nb_veh": 23.5,
          "pct_pl_transit": 18.7071445695247,
          "type": "PL transit"
         },
         {
          "camera_id": 4,
          "created": "1970-01-01T01:00:00",
          "heure": 1,
          "nb_veh": 156.4,
          "pct_pl_transit": 18.7071445695247,
          "type": "VL total"
         },
         {
          "camera_id": 4,
          "created": "1970-01-01T02:00:00",
          "heure": 2,
          "nb_veh": 126.6,
          "pct_pl_transit": 18.372859744990894,
          "type": "PL total"
         },
         {
          "camera_id": 4,
          "created": "1970-01-01T02:00:00",
          "heure": 2,
          "nb_veh": 26.25,
          "pct_pl_transit": 18.372859744990894,
          "type": "PL transit"
         },
         {
          "camera_id": 4,
          "created": "1970-01-01T02:00:00",
          "heure": 2,
          "nb_veh": 138.6,
          "pct_pl_transit": 18.372859744990894,
          "type": "VL total"
         },
         {
          "camera_id": 4,
          "created": "1970-01-01T03:00:00",
          "heure": 3,
          "nb_veh": 126.4,
          "pct_pl_transit": 12.354881564715619,
          "type": "PL total"
         },
         {
          "camera_id": 4,
          "created": "1970-01-01T03:00:00",
          "heure": 3,
          "nb_veh": 16.25,
          "pct_pl_transit": 12.354881564715619,
          "type": "PL transit"
         },
         {
          "camera_id": 4,
          "created": "1970-01-01T03:00:00",
          "heure": 3,
          "nb_veh": 201.6,
          "pct_pl_transit": 12.354881564715619,
          "type": "VL total"
         },
         {
          "camera_id": 4,
          "created": "1970-01-01T04:00:00",
          "heure": 4,
          "nb_veh": 188.4,
          "pct_pl_transit": 13.332984942094088,
          "type": "PL total"
         },
         {
          "camera_id": 4,
          "created": "1970-01-01T04:00:00",
          "heure": 4,
          "nb_veh": 25.5,
          "pct_pl_transit": 13.332984942094088,
          "type": "PL transit"
         },
         {
          "camera_id": 4,
          "created": "1970-01-01T04:00:00",
          "heure": 4,
          "nb_veh": 401.8,
          "pct_pl_transit": 13.332984942094088,
          "type": "VL total"
         },
         {
          "camera_id": 4,
          "created": "1970-01-01T05:00:00",
          "heure": 5,
          "nb_veh": 277.4,
          "pct_pl_transit": 16.978005076164294,
          "type": "PL total"
         },
         {
          "camera_id": 4,
          "created": "1970-01-01T05:00:00",
          "heure": 5,
          "nb_veh": 46.75,
          "pct_pl_transit": 16.978005076164294,
          "type": "PL transit"
         },
         {
          "camera_id": 4,
          "created": "1970-01-01T05:00:00",
          "heure": 5,
          "nb_veh": 992.4,
          "pct_pl_transit": 16.978005076164294,
          "type": "VL total"
         },
         {
          "camera_id": 4,
          "created": "1970-01-01T06:00:00",
          "heure": 6,
          "nb_veh": 287.6,
          "pct_pl_transit": 19.206502001017967,
          "type": "PL total"
         },
         {
          "camera_id": 4,
          "created": "1970-01-01T06:00:00",
          "heure": 6,
          "nb_veh": 55,
          "pct_pl_transit": 19.206502001017967,
          "type": "PL transit"
         },
         {
          "camera_id": 4,
          "created": "1970-01-01T06:00:00",
          "heure": 6,
          "nb_veh": 1978.6,
          "pct_pl_transit": 19.206502001017967,
          "type": "VL total"
         },
         {
          "camera_id": 4,
          "created": "1970-01-01T07:00:00",
          "heure": 7,
          "nb_veh": 346.2,
          "pct_pl_transit": 28.520056993074277,
          "type": "PL total"
         },
         {
          "camera_id": 4,
          "created": "1970-01-01T07:00:00",
          "heure": 7,
          "nb_veh": 107.5,
          "pct_pl_transit": 28.520056993074277,
          "type": "PL transit"
         },
         {
          "camera_id": 4,
          "created": "1970-01-01T07:00:00",
          "heure": 7,
          "nb_veh": 2206.2,
          "pct_pl_transit": 28.520056993074277,
          "type": "VL total"
         },
         {
          "camera_id": 4,
          "created": "1970-01-01T08:00:00",
          "heure": 8,
          "nb_veh": 482,
          "pct_pl_transit": 33.502443152797746,
          "type": "PL total"
         },
         {
          "camera_id": 4,
          "created": "1970-01-01T08:00:00",
          "heure": 8,
          "nb_veh": 201,
          "pct_pl_transit": 33.502443152797746,
          "type": "PL transit"
         },
         {
          "camera_id": 4,
          "created": "1970-01-01T08:00:00",
          "heure": 8,
          "nb_veh": 1736.6,
          "pct_pl_transit": 33.502443152797746,
          "type": "VL total"
         },
         {
          "camera_id": 4,
          "created": "1970-01-01T09:00:00",
          "heure": 9,
          "nb_veh": 646.2,
          "pct_pl_transit": 30.812414343099984,
          "type": "PL total"
         },
         {
          "camera_id": 4,
          "created": "1970-01-01T09:00:00",
          "heure": 9,
          "nb_veh": 219.75,
          "pct_pl_transit": 30.812414343099984,
          "type": "PL transit"
         },
         {
          "camera_id": 4,
          "created": "1970-01-01T09:00:00",
          "heure": 9,
          "nb_veh": 1800.2,
          "pct_pl_transit": 30.812414343099984,
          "type": "VL total"
         },
         {
          "camera_id": 4,
          "created": "1970-01-01T10:00:00",
          "heure": 10,
          "nb_veh": 534,
          "pct_pl_transit": 36.745441944584094,
          "type": "PL total"
         },
         {
          "camera_id": 4,
          "created": "1970-01-01T10:00:00",
          "heure": 10,
          "nb_veh": 258.3333333333333,
          "pct_pl_transit": 36.745441944584094,
          "type": "PL transit"
         },
         {
          "camera_id": 4,
          "created": "1970-01-01T10:00:00",
          "heure": 10,
          "nb_veh": 1435,
          "pct_pl_transit": 36.745441944584094,
          "type": "VL total"
         },
         {
          "camera_id": 4,
          "created": "1970-01-01T11:00:00",
          "heure": 11,
          "nb_veh": 493.6,
          "pct_pl_transit": 40.29837540940622,
          "type": "PL total"
         },
         {
          "camera_id": 4,
          "created": "1970-01-01T11:00:00",
          "heure": 11,
          "nb_veh": 267.6666666666667,
          "pct_pl_transit": 40.29837540940622,
          "type": "PL transit"
         },
         {
          "camera_id": 4,
          "created": "1970-01-01T11:00:00",
          "heure": 11,
          "nb_veh": 1429.4,
          "pct_pl_transit": 40.29837540940622,
          "type": "VL total"
         },
         {
          "camera_id": 4,
          "created": "1970-01-01T12:00:00",
          "heure": 12,
          "nb_veh": 432,
          "pct_pl_transit": 44.72442373211171,
          "type": "PL total"
         },
         {
          "camera_id": 4,
          "created": "1970-01-01T12:00:00",
          "heure": 12,
          "nb_veh": 204,
          "pct_pl_transit": 44.72442373211171,
          "type": "PL transit"
         },
         {
          "camera_id": 4,
          "created": "1970-01-01T12:00:00",
          "heure": 12,
          "nb_veh": 1365.8,
          "pct_pl_transit": 44.72442373211171,
          "type": "VL total"
         },
         {
          "camera_id": 4,
          "created": "1970-01-01T13:00:00",
          "heure": 13,
          "nb_veh": 469,
          "pct_pl_transit": 55.379332215073156,
          "type": "PL total"
         },
         {
          "camera_id": 4,
          "created": "1970-01-01T13:00:00",
          "heure": 13,
          "nb_veh": 191.66666666666666,
          "pct_pl_transit": 55.379332215073156,
          "type": "PL transit"
         },
         {
          "camera_id": 4,
          "created": "1970-01-01T13:00:00",
          "heure": 13,
          "nb_veh": 1536.6,
          "pct_pl_transit": 55.379332215073156,
          "type": "VL total"
         },
         {
          "camera_id": 4,
          "created": "1970-01-01T14:00:00",
          "heure": 14,
          "nb_veh": 535.2,
          "pct_pl_transit": 41.393319606987994,
          "type": "PL total"
         },
         {
          "camera_id": 4,
          "created": "1970-01-01T14:00:00",
          "heure": 14,
          "nb_veh": 198,
          "pct_pl_transit": 41.393319606987994,
          "type": "PL transit"
         },
         {
          "camera_id": 4,
          "created": "1970-01-01T14:00:00",
          "heure": 14,
          "nb_veh": 1857.8,
          "pct_pl_transit": 41.393319606987994,
          "type": "VL total"
         },
         {
          "camera_id": 4,
          "created": "1970-01-01T15:00:00",
          "heure": 15,
          "nb_veh": 532,
          "pct_pl_transit": 35.73948364443493,
          "type": "PL total"
         },
         {
          "camera_id": 4,
          "created": "1970-01-01T15:00:00",
          "heure": 15,
          "nb_veh": 221,
          "pct_pl_transit": 35.73948364443493,
          "type": "PL transit"
         },
         {
          "camera_id": 4,
          "created": "1970-01-01T15:00:00",
          "heure": 15,
          "nb_veh": 2312,
          "pct_pl_transit": 35.73948364443493,
          "type": "VL total"
         },
         {
          "camera_id": 4,
          "created": "1970-01-01T16:00:00",
          "heure": 16,
          "nb_veh": 420.2,
          "pct_pl_transit": 36.33174587101748,
          "type": "PL total"
         },
         {
          "camera_id": 4,
          "created": "1970-01-01T16:00:00",
          "heure": 16,
          "nb_veh": 165,
          "pct_pl_transit": 36.33174587101748,
          "type": "PL transit"
         },
         {
          "camera_id": 4,
          "created": "1970-01-01T16:00:00",
          "heure": 16,
          "nb_veh": 2549,
          "pct_pl_transit": 36.33174587101748,
          "type": "VL total"
         },
         {
          "camera_id": 4,
          "created": "1970-01-01T17:00:00",
          "heure": 17,
          "nb_veh": 336.6,
          "pct_pl_transit": 21.734299757265337,
          "type": "PL total"
         },
         {
          "camera_id": 4,
          "created": "1970-01-01T17:00:00",
          "heure": 17,
          "nb_veh": 81.33333333333333,
          "pct_pl_transit": 21.734299757265337,
          "type": "PL transit"
         },
         {
          "camera_id": 4,
          "created": "1970-01-01T17:00:00",
          "heure": 17,
          "nb_veh": 2192.2,
          "pct_pl_transit": 21.734299757265337,
          "type": "VL total"
         },
         {
          "camera_id": 4,
          "created": "1970-01-01T18:00:00",
          "heure": 18,
          "nb_veh": 330.8,
          "pct_pl_transit": 22.267992588635284,
          "type": "PL total"
         },
         {
          "camera_id": 4,
          "created": "1970-01-01T18:00:00",
          "heure": 18,
          "nb_veh": 83.66666666666667,
          "pct_pl_transit": 22.267992588635284,
          "type": "PL transit"
         },
         {
          "camera_id": 4,
          "created": "1970-01-01T18:00:00",
          "heure": 18,
          "nb_veh": 1821.8,
          "pct_pl_transit": 22.267992588635284,
          "type": "VL total"
         },
         {
          "camera_id": 4,
          "created": "1970-01-01T19:00:00",
          "heure": 19,
          "nb_veh": 251.6,
          "pct_pl_transit": 27.54853928506623,
          "type": "PL total"
         },
         {
          "camera_id": 4,
          "created": "1970-01-01T19:00:00",
          "heure": 19,
          "nb_veh": 81.66666666666667,
          "pct_pl_transit": 27.54853928506623,
          "type": "PL transit"
         },
         {
          "camera_id": 4,
          "created": "1970-01-01T19:00:00",
          "heure": 19,
          "nb_veh": 1315.4,
          "pct_pl_transit": 27.54853928506623,
          "type": "VL total"
         },
         {
          "camera_id": 4,
          "created": "1970-01-01T20:00:00",
          "heure": 20,
          "nb_veh": 204.4,
          "pct_pl_transit": 35.46185568244392,
          "type": "PL total"
         },
         {
          "camera_id": 4,
          "created": "1970-01-01T20:00:00",
          "heure": 20,
          "nb_veh": 84,
          "pct_pl_transit": 35.46185568244392,
          "type": "PL transit"
         },
         {
          "camera_id": 4,
          "created": "1970-01-01T20:00:00",
          "heure": 20,
          "nb_veh": 802,
          "pct_pl_transit": 35.46185568244392,
          "type": "VL total"
         },
         {
          "camera_id": 4,
          "created": "1970-01-01T21:00:00",
          "heure": 21,
          "nb_veh": 175.6,
          "pct_pl_transit": 36.9790056058526,
          "type": "PL total"
         },
         {
          "camera_id": 4,
          "created": "1970-01-01T21:00:00",
          "heure": 21,
          "nb_veh": 72.33333333333333,
          "pct_pl_transit": 36.9790056058526,
          "type": "PL transit"
         },
         {
          "camera_id": 4,
          "created": "1970-01-01T21:00:00",
          "heure": 21,
          "nb_veh": 650.6,
          "pct_pl_transit": 36.9790056058526,
          "type": "VL total"
         },
         {
          "camera_id": 4,
          "created": "1970-01-01T22:00:00",
          "heure": 22,
          "nb_veh": 138.4,
          "pct_pl_transit": 35.201384941914256,
          "type": "PL total"
         },
         {
          "camera_id": 4,
          "created": "1970-01-01T22:00:00",
          "heure": 22,
          "nb_veh": 51.666666666666664,
          "pct_pl_transit": 35.201384941914256,
          "type": "PL transit"
         },
         {
          "camera_id": 4,
          "created": "1970-01-01T22:00:00",
          "heure": 22,
          "nb_veh": 472.6,
          "pct_pl_transit": 35.201384941914256,
          "type": "VL total"
         },
         {
          "camera_id": 4,
          "created": "1970-01-01T23:00:00",
          "heure": 23,
          "nb_veh": 120.2,
          "pct_pl_transit": 33.26824682896647,
          "type": "PL total"
         },
         {
          "camera_id": 4,
          "created": "1970-01-01T23:00:00",
          "heure": 23,
          "nb_veh": 44,
          "pct_pl_transit": 33.26824682896647,
          "type": "PL transit"
         },
         {
          "camera_id": 4,
          "created": "1970-01-01T23:00:00",
          "heure": 23,
          "nb_veh": 319,
          "pct_pl_transit": 33.26824682896647,
          "type": "VL total"
         }
        ]
       },
       "layer": [
        {
         "data": {
          "name": "data-95c3837ad20261cf18ae521e675b426a"
         },
         "encoding": {
          "color": {
           "field": "type",
           "type": "nominal"
          },
          "x": {
           "axis": {
            "format": "%H:%M",
            "title": "Heure"
           },
           "field": "created",
           "type": "temporal"
          },
          "y": {
           "axis": {
            "title": "Nb de véhicules"
           },
           "field": "nb_veh",
           "stack": null,
           "type": "quantitative"
          }
         },
         "mark": {
          "opacity": 0.7,
          "size": 20,
          "type": "bar"
         }
        },
        {
         "data": {
          "name": "data-95c3837ad20261cf18ae521e675b426a"
         },
         "encoding": {
          "x": {
           "axis": {
            "format": "%H:%M",
            "title": "Heure"
           },
           "field": "created",
           "type": "temporal"
          },
          "y": {
           "axis": {
            "title": "% de PL en transit"
           },
           "field": "pct_pl_transit",
           "type": "quantitative"
          }
         },
         "mark": {
          "color": "green",
          "type": "line"
         }
        }
       ],
       "resolve": {
        "scale": {
         "color": "shared",
         "x": "shared",
         "y": "independent"
        }
       },
       "width": 800
      },
      "image/png": "[encoded data removed]",
      "text/plain": [
       "<VegaLite 2 object>\n",
       "\n",
       "If you see this message, it means the renderer has not been properly enabled\n",
       "for the frontend that you are using. For more information, see\n",
       "https://altair-viz.github.io/user_guide/troubleshooting.html\n"
      ]
     },
     "execution_count": 133,
     "metadata": {},
     "output_type": "execute_result"
    }
   ],
   "source": [
    "g.graph_VL_PL_transit_j_cam(synt_nb_veh_cam_redresse, 'JO', 4)"
   ]
  },
  {
   "cell_type": "markdown",
   "metadata": {},
   "source": [
    "# 8. Temps de parcours"
   ]
  },
  {
   "cell_type": "code",
   "execution_count": 26,
   "metadata": {},
   "outputs": [],
   "source": [
    "# on cherche à obtenir le temps de parcours moyen pour une camera, sur un jour ou les jours ouvres, par o_d\n",
    "# on construit donc une df avec : immat, cam, tps_parcours, heure_Rocade\n",
    "# pour l'heure à la Rocade : on va cehrcher dans les df_passage le passage:qui a la mm immat, dont la cam est 1,2,3,4 et dont le created est compris entre date_cam1et date_cam2\n",
    "\n",
    "#isoler les passages concernes par la Rocade\n",
    "passage_rocade=dico_passag_final.loc[(dico_passag_final['camera_id'].isin([1,2,3,4]))]# & (dico_passag_final['correction_o_d']==False)]"
   ]
  },
  {
   "cell_type": "code",
   "execution_count": 36,
   "metadata": {},
   "outputs": [],
   "source": [
    "#jointure entre les o_d et les passages\n",
    "o_d_joint_rocade=dico_od_final.merge(passage_rocade, on='immat', how='left')"
   ]
  },
  {
   "cell_type": "code",
   "execution_count": 109,
   "metadata": {},
   "outputs": [],
   "source": [
    "#limiter les o_d là ou date du passages est ciompris entre les date 1 et date 2 de l'o_d\n",
    "dico_od_Rocade_final=o_d_joint_rocade.loc[(o_d_joint_rocade['date_cam_1']<o_d_joint_rocade['created']) & \n",
    "                                          (o_d_joint_rocade['created']<o_d_joint_rocade['date_cam_2']) & \n",
    "                                          (o_d_joint_rocade['tps_parcours']<pd.Timedelta('4H'))]"
   ]
  },
  {
   "cell_type": "code",
   "execution_count": 155,
   "metadata": {},
   "outputs": [],
   "source": [
    "#limiter les \n",
    "limite_donnees=dico_od_Rocade_final[['date_cam_1','immat','o_d','tps_parcours','created']].rename(columns={'created':'h_rocade'})"
   ]
  },
  {
   "cell_type": "code",
   "execution_count": 181,
   "metadata": {},
   "outputs": [
    {
     "data": {
      "text/plain": [
       "\"filtre_donnees=limite_donnees.loc[(limite_donnees.set_index('h_rocade').index.dayofweek.isin([1,3])) & \\n                          (limite_donnees['o_d']=='A10-A62')].copy()\""
      ]
     },
     "execution_count": 181,
     "metadata": {},
     "output_type": "execute_result"
    }
   ],
   "source": [
    "#filtrer selon une date ou des jours ouvrés ou mardi/jeudi : \n",
    "\"\"\"filtre_donnees=limite_donnees.loc[(limite_donnees.apply(lambda x : x['h_rocade'].dayofyear==pd.to_datetime('2019-01-28').dayofyear,axis=1)) & \n",
    "                          (pour_graph['o_d']=='A10-A62')].copy()\"\"\"\n",
    "filtre_donnees=limite_donnees.loc[(limite_donnees.set_index('h_rocade').index.dayofweek<5) & \n",
    "                          (limite_donnees['o_d']=='A10-A63')].copy()\n",
    "\"\"\"filtre_donnees=limite_donnees.loc[(limite_donnees.set_index('h_rocade').index.dayofweek.isin([1,3])) & \n",
    "                          (limite_donnees['o_d']=='A10-A62')].copy()\"\"\""
   ]
  },
  {
   "cell_type": "code",
   "execution_count": 182,
   "metadata": {},
   "outputs": [],
   "source": [
    "#transformer les valeur de temps en integer pour agregation\n",
    "filtre_donnees['tps_parcours2']=filtre_donnees['tps_parcours'].values.astype(np.int64)"
   ]
  },
  {
   "cell_type": "code",
   "execution_count": 183,
   "metadata": {},
   "outputs": [],
   "source": [
    "#mise en forme pour graph\n",
    "groupe_h=filtre_donnees.set_index('h_rocade').resample('15T')['tps_parcours2'].mean()\n",
    "#groupe_h['tps_parcours']=pd.to_timedelta(groupe_h['tps_parcours'])\n",
    "groupe_h=pd.to_timedelta(groupe_h)\n",
    "pour_graph=groupe_h.reset_index()\n",
    "pour_graph['tps_parcours2']=pd.to_datetime('2019-01-31')+pour_graph['tps_parcours2']"
   ]
  },
  {
   "cell_type": "code",
   "execution_count": 185,
   "metadata": {},
   "outputs": [
    {
     "data": {
      "text/html": [
       "<div>\n",
       "<style scoped>\n",
       "    .dataframe tbody tr th:only-of-type {\n",
       "        vertical-align: middle;\n",
       "    }\n",
       "\n",
       "    .dataframe tbody tr th {\n",
       "        vertical-align: top;\n",
       "    }\n",
       "\n",
       "    .dataframe thead th {\n",
       "        text-align: right;\n",
       "    }\n",
       "</style>\n",
       "<table border=\"1\" class=\"dataframe\">\n",
       "  <thead>\n",
       "    <tr style=\"text-align: right;\">\n",
       "      <th></th>\n",
       "      <th>h_rocade</th>\n",
       "      <th>tps_parcours2</th>\n",
       "    </tr>\n",
       "  </thead>\n",
       "  <tbody>\n",
       "    <tr>\n",
       "      <th>0</th>\n",
       "      <td>2019-01-28 01:30:00</td>\n",
       "      <td>2019-01-31 01:27:18.000000000</td>\n",
       "    </tr>\n",
       "    <tr>\n",
       "      <th>1</th>\n",
       "      <td>2019-01-28 01:45:00</td>\n",
       "      <td>NaT</td>\n",
       "    </tr>\n",
       "    <tr>\n",
       "      <th>2</th>\n",
       "      <td>2019-01-28 02:00:00</td>\n",
       "      <td>NaT</td>\n",
       "    </tr>\n",
       "    <tr>\n",
       "      <th>3</th>\n",
       "      <td>2019-01-28 02:15:00</td>\n",
       "      <td>2019-01-31 01:35:16.000000000</td>\n",
       "    </tr>\n",
       "    <tr>\n",
       "      <th>4</th>\n",
       "      <td>2019-01-28 02:30:00</td>\n",
       "      <td>NaT</td>\n",
       "    </tr>\n",
       "    <tr>\n",
       "      <th>5</th>\n",
       "      <td>2019-01-28 02:45:00</td>\n",
       "      <td>2019-01-31 01:11:47.000000000</td>\n",
       "    </tr>\n",
       "    <tr>\n",
       "      <th>6</th>\n",
       "      <td>2019-01-28 03:00:00</td>\n",
       "      <td>2019-01-31 01:38:07.000000000</td>\n",
       "    </tr>\n",
       "    <tr>\n",
       "      <th>7</th>\n",
       "      <td>2019-01-28 03:15:00</td>\n",
       "      <td>NaT</td>\n",
       "    </tr>\n",
       "    <tr>\n",
       "      <th>8</th>\n",
       "      <td>2019-01-28 03:30:00</td>\n",
       "      <td>NaT</td>\n",
       "    </tr>\n",
       "    <tr>\n",
       "      <th>9</th>\n",
       "      <td>2019-01-28 03:45:00</td>\n",
       "      <td>NaT</td>\n",
       "    </tr>\n",
       "    <tr>\n",
       "      <th>10</th>\n",
       "      <td>2019-01-28 04:00:00</td>\n",
       "      <td>2019-01-31 01:31:45.000000000</td>\n",
       "    </tr>\n",
       "    <tr>\n",
       "      <th>11</th>\n",
       "      <td>2019-01-28 04:15:00</td>\n",
       "      <td>2019-01-31 01:15:24.000000000</td>\n",
       "    </tr>\n",
       "    <tr>\n",
       "      <th>12</th>\n",
       "      <td>2019-01-28 04:30:00</td>\n",
       "      <td>2019-01-31 01:21:46.500000000</td>\n",
       "    </tr>\n",
       "    <tr>\n",
       "      <th>13</th>\n",
       "      <td>2019-01-28 04:45:00</td>\n",
       "      <td>NaT</td>\n",
       "    </tr>\n",
       "    <tr>\n",
       "      <th>14</th>\n",
       "      <td>2019-01-28 05:00:00</td>\n",
       "      <td>2019-01-31 01:56:48.000000000</td>\n",
       "    </tr>\n",
       "    <tr>\n",
       "      <th>15</th>\n",
       "      <td>2019-01-28 05:15:00</td>\n",
       "      <td>2019-01-31 01:27:04.000000000</td>\n",
       "    </tr>\n",
       "    <tr>\n",
       "      <th>16</th>\n",
       "      <td>2019-01-28 05:30:00</td>\n",
       "      <td>NaT</td>\n",
       "    </tr>\n",
       "    <tr>\n",
       "      <th>17</th>\n",
       "      <td>2019-01-28 05:45:00</td>\n",
       "      <td>2019-01-31 01:46:29.000000000</td>\n",
       "    </tr>\n",
       "    <tr>\n",
       "      <th>18</th>\n",
       "      <td>2019-01-28 06:00:00</td>\n",
       "      <td>NaT</td>\n",
       "    </tr>\n",
       "    <tr>\n",
       "      <th>19</th>\n",
       "      <td>2019-01-28 06:15:00</td>\n",
       "      <td>2019-01-31 02:11:49.000000000</td>\n",
       "    </tr>\n",
       "    <tr>\n",
       "      <th>20</th>\n",
       "      <td>2019-01-28 06:30:00</td>\n",
       "      <td>NaT</td>\n",
       "    </tr>\n",
       "    <tr>\n",
       "      <th>21</th>\n",
       "      <td>2019-01-28 06:45:00</td>\n",
       "      <td>NaT</td>\n",
       "    </tr>\n",
       "    <tr>\n",
       "      <th>22</th>\n",
       "      <td>2019-01-28 07:00:00</td>\n",
       "      <td>NaT</td>\n",
       "    </tr>\n",
       "    <tr>\n",
       "      <th>23</th>\n",
       "      <td>2019-01-28 07:15:00</td>\n",
       "      <td>2019-01-31 03:39:38.000000000</td>\n",
       "    </tr>\n",
       "    <tr>\n",
       "      <th>24</th>\n",
       "      <td>2019-01-28 07:30:00</td>\n",
       "      <td>NaT</td>\n",
       "    </tr>\n",
       "    <tr>\n",
       "      <th>25</th>\n",
       "      <td>2019-01-28 07:45:00</td>\n",
       "      <td>NaT</td>\n",
       "    </tr>\n",
       "    <tr>\n",
       "      <th>26</th>\n",
       "      <td>2019-01-28 08:00:00</td>\n",
       "      <td>NaT</td>\n",
       "    </tr>\n",
       "    <tr>\n",
       "      <th>27</th>\n",
       "      <td>2019-01-28 08:15:00</td>\n",
       "      <td>NaT</td>\n",
       "    </tr>\n",
       "    <tr>\n",
       "      <th>28</th>\n",
       "      <td>2019-01-28 08:30:00</td>\n",
       "      <td>2019-01-31 01:55:37.166666666</td>\n",
       "    </tr>\n",
       "    <tr>\n",
       "      <th>29</th>\n",
       "      <td>2019-01-28 08:45:00</td>\n",
       "      <td>2019-01-31 01:28:53.000000000</td>\n",
       "    </tr>\n",
       "    <tr>\n",
       "      <th>...</th>\n",
       "      <td>...</td>\n",
       "      <td>...</td>\n",
       "    </tr>\n",
       "    <tr>\n",
       "      <th>638</th>\n",
       "      <td>2019-02-03 17:00:00</td>\n",
       "      <td>NaT</td>\n",
       "    </tr>\n",
       "    <tr>\n",
       "      <th>639</th>\n",
       "      <td>2019-02-03 17:15:00</td>\n",
       "      <td>NaT</td>\n",
       "    </tr>\n",
       "    <tr>\n",
       "      <th>640</th>\n",
       "      <td>2019-02-03 17:30:00</td>\n",
       "      <td>NaT</td>\n",
       "    </tr>\n",
       "    <tr>\n",
       "      <th>641</th>\n",
       "      <td>2019-02-03 17:45:00</td>\n",
       "      <td>NaT</td>\n",
       "    </tr>\n",
       "    <tr>\n",
       "      <th>642</th>\n",
       "      <td>2019-02-03 18:00:00</td>\n",
       "      <td>NaT</td>\n",
       "    </tr>\n",
       "    <tr>\n",
       "      <th>643</th>\n",
       "      <td>2019-02-03 18:15:00</td>\n",
       "      <td>NaT</td>\n",
       "    </tr>\n",
       "    <tr>\n",
       "      <th>644</th>\n",
       "      <td>2019-02-03 18:30:00</td>\n",
       "      <td>NaT</td>\n",
       "    </tr>\n",
       "    <tr>\n",
       "      <th>645</th>\n",
       "      <td>2019-02-03 18:45:00</td>\n",
       "      <td>NaT</td>\n",
       "    </tr>\n",
       "    <tr>\n",
       "      <th>646</th>\n",
       "      <td>2019-02-03 19:00:00</td>\n",
       "      <td>NaT</td>\n",
       "    </tr>\n",
       "    <tr>\n",
       "      <th>647</th>\n",
       "      <td>2019-02-03 19:15:00</td>\n",
       "      <td>NaT</td>\n",
       "    </tr>\n",
       "    <tr>\n",
       "      <th>648</th>\n",
       "      <td>2019-02-03 19:30:00</td>\n",
       "      <td>NaT</td>\n",
       "    </tr>\n",
       "    <tr>\n",
       "      <th>649</th>\n",
       "      <td>2019-02-03 19:45:00</td>\n",
       "      <td>NaT</td>\n",
       "    </tr>\n",
       "    <tr>\n",
       "      <th>650</th>\n",
       "      <td>2019-02-03 20:00:00</td>\n",
       "      <td>NaT</td>\n",
       "    </tr>\n",
       "    <tr>\n",
       "      <th>651</th>\n",
       "      <td>2019-02-03 20:15:00</td>\n",
       "      <td>NaT</td>\n",
       "    </tr>\n",
       "    <tr>\n",
       "      <th>652</th>\n",
       "      <td>2019-02-03 20:30:00</td>\n",
       "      <td>NaT</td>\n",
       "    </tr>\n",
       "    <tr>\n",
       "      <th>653</th>\n",
       "      <td>2019-02-03 20:45:00</td>\n",
       "      <td>NaT</td>\n",
       "    </tr>\n",
       "    <tr>\n",
       "      <th>654</th>\n",
       "      <td>2019-02-03 21:00:00</td>\n",
       "      <td>NaT</td>\n",
       "    </tr>\n",
       "    <tr>\n",
       "      <th>655</th>\n",
       "      <td>2019-02-03 21:15:00</td>\n",
       "      <td>NaT</td>\n",
       "    </tr>\n",
       "    <tr>\n",
       "      <th>656</th>\n",
       "      <td>2019-02-03 21:30:00</td>\n",
       "      <td>NaT</td>\n",
       "    </tr>\n",
       "    <tr>\n",
       "      <th>657</th>\n",
       "      <td>2019-02-03 21:45:00</td>\n",
       "      <td>NaT</td>\n",
       "    </tr>\n",
       "    <tr>\n",
       "      <th>658</th>\n",
       "      <td>2019-02-03 22:00:00</td>\n",
       "      <td>NaT</td>\n",
       "    </tr>\n",
       "    <tr>\n",
       "      <th>659</th>\n",
       "      <td>2019-02-03 22:15:00</td>\n",
       "      <td>NaT</td>\n",
       "    </tr>\n",
       "    <tr>\n",
       "      <th>660</th>\n",
       "      <td>2019-02-03 22:30:00</td>\n",
       "      <td>NaT</td>\n",
       "    </tr>\n",
       "    <tr>\n",
       "      <th>661</th>\n",
       "      <td>2019-02-03 22:45:00</td>\n",
       "      <td>NaT</td>\n",
       "    </tr>\n",
       "    <tr>\n",
       "      <th>662</th>\n",
       "      <td>2019-02-03 23:00:00</td>\n",
       "      <td>NaT</td>\n",
       "    </tr>\n",
       "    <tr>\n",
       "      <th>663</th>\n",
       "      <td>2019-02-03 23:15:00</td>\n",
       "      <td>NaT</td>\n",
       "    </tr>\n",
       "    <tr>\n",
       "      <th>664</th>\n",
       "      <td>2019-02-03 23:30:00</td>\n",
       "      <td>NaT</td>\n",
       "    </tr>\n",
       "    <tr>\n",
       "      <th>665</th>\n",
       "      <td>2019-02-03 23:45:00</td>\n",
       "      <td>NaT</td>\n",
       "    </tr>\n",
       "    <tr>\n",
       "      <th>666</th>\n",
       "      <td>2019-02-04 00:00:00</td>\n",
       "      <td>2019-01-31 01:55:23.000000000</td>\n",
       "    </tr>\n",
       "    <tr>\n",
       "      <th>667</th>\n",
       "      <td>2019-02-04 00:15:00</td>\n",
       "      <td>2019-01-31 01:31:24.500000000</td>\n",
       "    </tr>\n",
       "  </tbody>\n",
       "</table>\n",
       "<p>668 rows × 2 columns</p>\n",
       "</div>"
      ],
      "text/plain": [
       "               h_rocade                 tps_parcours2\n",
       "0   2019-01-28 01:30:00 2019-01-31 01:27:18.000000000\n",
       "1   2019-01-28 01:45:00                           NaT\n",
       "2   2019-01-28 02:00:00                           NaT\n",
       "3   2019-01-28 02:15:00 2019-01-31 01:35:16.000000000\n",
       "4   2019-01-28 02:30:00                           NaT\n",
       "5   2019-01-28 02:45:00 2019-01-31 01:11:47.000000000\n",
       "6   2019-01-28 03:00:00 2019-01-31 01:38:07.000000000\n",
       "7   2019-01-28 03:15:00                           NaT\n",
       "8   2019-01-28 03:30:00                           NaT\n",
       "9   2019-01-28 03:45:00                           NaT\n",
       "10  2019-01-28 04:00:00 2019-01-31 01:31:45.000000000\n",
       "11  2019-01-28 04:15:00 2019-01-31 01:15:24.000000000\n",
       "12  2019-01-28 04:30:00 2019-01-31 01:21:46.500000000\n",
       "13  2019-01-28 04:45:00                           NaT\n",
       "14  2019-01-28 05:00:00 2019-01-31 01:56:48.000000000\n",
       "15  2019-01-28 05:15:00 2019-01-31 01:27:04.000000000\n",
       "16  2019-01-28 05:30:00                           NaT\n",
       "17  2019-01-28 05:45:00 2019-01-31 01:46:29.000000000\n",
       "18  2019-01-28 06:00:00                           NaT\n",
       "19  2019-01-28 06:15:00 2019-01-31 02:11:49.000000000\n",
       "20  2019-01-28 06:30:00                           NaT\n",
       "21  2019-01-28 06:45:00                           NaT\n",
       "22  2019-01-28 07:00:00                           NaT\n",
       "23  2019-01-28 07:15:00 2019-01-31 03:39:38.000000000\n",
       "24  2019-01-28 07:30:00                           NaT\n",
       "25  2019-01-28 07:45:00                           NaT\n",
       "26  2019-01-28 08:00:00                           NaT\n",
       "27  2019-01-28 08:15:00                           NaT\n",
       "28  2019-01-28 08:30:00 2019-01-31 01:55:37.166666666\n",
       "29  2019-01-28 08:45:00 2019-01-31 01:28:53.000000000\n",
       "..                  ...                           ...\n",
       "638 2019-02-03 17:00:00                           NaT\n",
       "639 2019-02-03 17:15:00                           NaT\n",
       "640 2019-02-03 17:30:00                           NaT\n",
       "641 2019-02-03 17:45:00                           NaT\n",
       "642 2019-02-03 18:00:00                           NaT\n",
       "643 2019-02-03 18:15:00                           NaT\n",
       "644 2019-02-03 18:30:00                           NaT\n",
       "645 2019-02-03 18:45:00                           NaT\n",
       "646 2019-02-03 19:00:00                           NaT\n",
       "647 2019-02-03 19:15:00                           NaT\n",
       "648 2019-02-03 19:30:00                           NaT\n",
       "649 2019-02-03 19:45:00                           NaT\n",
       "650 2019-02-03 20:00:00                           NaT\n",
       "651 2019-02-03 20:15:00                           NaT\n",
       "652 2019-02-03 20:30:00                           NaT\n",
       "653 2019-02-03 20:45:00                           NaT\n",
       "654 2019-02-03 21:00:00                           NaT\n",
       "655 2019-02-03 21:15:00                           NaT\n",
       "656 2019-02-03 21:30:00                           NaT\n",
       "657 2019-02-03 21:45:00                           NaT\n",
       "658 2019-02-03 22:00:00                           NaT\n",
       "659 2019-02-03 22:15:00                           NaT\n",
       "660 2019-02-03 22:30:00                           NaT\n",
       "661 2019-02-03 22:45:00                           NaT\n",
       "662 2019-02-03 23:00:00                           NaT\n",
       "663 2019-02-03 23:15:00                           NaT\n",
       "664 2019-02-03 23:30:00                           NaT\n",
       "665 2019-02-03 23:45:00                           NaT\n",
       "666 2019-02-04 00:00:00 2019-01-31 01:55:23.000000000\n",
       "667 2019-02-04 00:15:00 2019-01-31 01:31:24.500000000\n",
       "\n",
       "[668 rows x 2 columns]"
      ]
     },
     "execution_count": 185,
     "metadata": {},
     "output_type": "execute_result"
    }
   ],
   "source": [
    "pour_graph"
   ]
  },
  {
   "cell_type": "code",
   "execution_count": 184,
   "metadata": {},
   "outputs": [
    {
     "data": {
      "application/vnd.vegalite.v2+json": {
       "$schema": "https://vega.github.io/schema/vega-lite/v2.6.0.json",
       "config": {
        "view": {
         "height": 300,
         "width": 400
        }
       },
       "data": {
        "name": "data-623bc0f69b61ae9ff44702b2ce06fb5c"
       },
       "datasets": {
        "data-623bc0f69b61ae9ff44702b2ce06fb5c": [
         {
          "h_rocade": "2019-01-28T01:30:00",
          "tps_parcours2": "2019-01-31T01:27:18"
         },
         {
          "h_rocade": "2019-01-28T01:45:00",
          "tps_parcours2": ""
         },
         {
          "h_rocade": "2019-01-28T02:00:00",
          "tps_parcours2": ""
         },
         {
          "h_rocade": "2019-01-28T02:15:00",
          "tps_parcours2": "2019-01-31T01:35:16"
         },
         {
          "h_rocade": "2019-01-28T02:30:00",
          "tps_parcours2": ""
         },
         {
          "h_rocade": "2019-01-28T02:45:00",
          "tps_parcours2": "2019-01-31T01:11:47"
         },
         {
          "h_rocade": "2019-01-28T03:00:00",
          "tps_parcours2": "2019-01-31T01:38:07"
         },
         {
          "h_rocade": "2019-01-28T03:15:00",
          "tps_parcours2": ""
         },
         {
          "h_rocade": "2019-01-28T03:30:00",
          "tps_parcours2": ""
         },
         {
          "h_rocade": "2019-01-28T03:45:00",
          "tps_parcours2": ""
         },
         {
          "h_rocade": "2019-01-28T04:00:00",
          "tps_parcours2": "2019-01-31T01:31:45"
         },
         {
          "h_rocade": "2019-01-28T04:15:00",
          "tps_parcours2": "2019-01-31T01:15:24"
         },
         {
          "h_rocade": "2019-01-28T04:30:00",
          "tps_parcours2": "2019-01-31T01:21:46.500000"
         },
         {
          "h_rocade": "2019-01-28T04:45:00",
          "tps_parcours2": ""
         },
         {
          "h_rocade": "2019-01-28T05:00:00",
          "tps_parcours2": "2019-01-31T01:56:48"
         },
         {
          "h_rocade": "2019-01-28T05:15:00",
          "tps_parcours2": "2019-01-31T01:27:04"
         },
         {
          "h_rocade": "2019-01-28T05:30:00",
          "tps_parcours2": ""
         },
         {
          "h_rocade": "2019-01-28T05:45:00",
          "tps_parcours2": "2019-01-31T01:46:29"
         },
         {
          "h_rocade": "2019-01-28T06:00:00",
          "tps_parcours2": ""
         },
         {
          "h_rocade": "2019-01-28T06:15:00",
          "tps_parcours2": "2019-01-31T02:11:49"
         },
         {
          "h_rocade": "2019-01-28T06:30:00",
          "tps_parcours2": ""
         },
         {
          "h_rocade": "2019-01-28T06:45:00",
          "tps_parcours2": ""
         },
         {
          "h_rocade": "2019-01-28T07:00:00",
          "tps_parcours2": ""
         },
         {
          "h_rocade": "2019-01-28T07:15:00",
          "tps_parcours2": "2019-01-31T03:39:38"
         },
         {
          "h_rocade": "2019-01-28T07:30:00",
          "tps_parcours2": ""
         },
         {
          "h_rocade": "2019-01-28T07:45:00",
          "tps_parcours2": ""
         },
         {
          "h_rocade": "2019-01-28T08:00:00",
          "tps_parcours2": ""
         },
         {
          "h_rocade": "2019-01-28T08:15:00",
          "tps_parcours2": ""
         },
         {
          "h_rocade": "2019-01-28T08:30:00",
          "tps_parcours2": "2019-01-31T01:55:37.166666666"
         },
         {
          "h_rocade": "2019-01-28T08:45:00",
          "tps_parcours2": "2019-01-31T01:28:53"
         },
         {
          "h_rocade": "2019-01-28T09:00:00",
          "tps_parcours2": "2019-01-31T01:51:02.333333333"
         },
         {
          "h_rocade": "2019-01-28T09:15:00",
          "tps_parcours2": "2019-01-31T01:14:39"
         },
         {
          "h_rocade": "2019-01-28T09:30:00",
          "tps_parcours2": "2019-01-31T01:15:40.666666666"
         },
         {
          "h_rocade": "2019-01-28T09:45:00",
          "tps_parcours2": "2019-01-31T01:15:58"
         },
         {
          "h_rocade": "2019-01-28T10:00:00",
          "tps_parcours2": ""
         },
         {
          "h_rocade": "2019-01-28T10:15:00",
          "tps_parcours2": "2019-01-31T01:31:47.500000"
         },
         {
          "h_rocade": "2019-01-28T10:30:00",
          "tps_parcours2": "2019-01-31T01:19:34"
         },
         {
          "h_rocade": "2019-01-28T10:45:00",
          "tps_parcours2": "2019-01-31T01:41:46.500000"
         },
         {
          "h_rocade": "2019-01-28T11:00:00",
          "tps_parcours2": "2019-01-31T01:25:47.500000"
         },
         {
          "h_rocade": "2019-01-28T11:15:00",
          "tps_parcours2": ""
         },
         {
          "h_rocade": "2019-01-28T11:30:00",
          "tps_parcours2": "2019-01-31T01:22:52.333333333"
         },
         {
          "h_rocade": "2019-01-28T11:45:00",
          "tps_parcours2": "2019-01-31T01:47:37"
         },
         {
          "h_rocade": "2019-01-28T12:00:00",
          "tps_parcours2": "2019-01-31T01:17:26"
         },
         {
          "h_rocade": "2019-01-28T12:15:00",
          "tps_parcours2": "2019-01-31T01:31:03"
         },
         {
          "h_rocade": "2019-01-28T12:30:00",
          "tps_parcours2": ""
         },
         {
          "h_rocade": "2019-01-28T12:45:00",
          "tps_parcours2": "2019-01-31T01:22:51.800000"
         },
         {
          "h_rocade": "2019-01-28T13:00:00",
          "tps_parcours2": "2019-01-31T01:33:07.500000"
         },
         {
          "h_rocade": "2019-01-28T13:15:00",
          "tps_parcours2": "2019-01-31T01:16:10"
         },
         {
          "h_rocade": "2019-01-28T13:30:00",
          "tps_parcours2": "2019-01-31T01:30:13.500000"
         },
         {
          "h_rocade": "2019-01-28T13:45:00",
          "tps_parcours2": "2019-01-31T01:31:14.600000"
         },
         {
          "h_rocade": "2019-01-28T14:00:00",
          "tps_parcours2": "2019-01-31T01:17:27"
         },
         {
          "h_rocade": "2019-01-28T14:15:00",
          "tps_parcours2": "2019-01-31T01:27:55"
         },
         {
          "h_rocade": "2019-01-28T14:30:00",
          "tps_parcours2": "2019-01-31T01:29:41.571428571"
         },
         {
          "h_rocade": "2019-01-28T14:45:00",
          "tps_parcours2": "2019-01-31T01:20:56"
         },
         {
          "h_rocade": "2019-01-28T15:00:00",
          "tps_parcours2": "2019-01-31T01:26:55"
         },
         {
          "h_rocade": "2019-01-28T15:15:00",
          "tps_parcours2": "2019-01-31T01:17:11"
         },
         {
          "h_rocade": "2019-01-28T15:30:00",
          "tps_parcours2": "2019-01-31T01:23:11.142857142"
         },
         {
          "h_rocade": "2019-01-28T15:45:00",
          "tps_parcours2": "2019-01-31T01:30:19"
         },
         {
          "h_rocade": "2019-01-28T16:00:00",
          "tps_parcours2": "2019-01-31T01:35:16.500000"
         },
         {
          "h_rocade": "2019-01-28T16:15:00",
          "tps_parcours2": "2019-01-31T01:36:41.333333333"
         },
         {
          "h_rocade": "2019-01-28T16:30:00",
          "tps_parcours2": "2019-01-31T01:32:26.142857142"
         },
         {
          "h_rocade": "2019-01-28T16:45:00",
          "tps_parcours2": "2019-01-31T01:30:53"
         },
         {
          "h_rocade": "2019-01-28T17:00:00",
          "tps_parcours2": "2019-01-31T01:20:54.200000"
         },
         {
          "h_rocade": "2019-01-28T17:15:00",
          "tps_parcours2": "2019-01-31T01:28:09.500000"
         },
         {
          "h_rocade": "2019-01-28T17:30:00",
          "tps_parcours2": "2019-01-31T01:19:59.333333333"
         },
         {
          "h_rocade": "2019-01-28T17:45:00",
          "tps_parcours2": "2019-01-31T01:27:48"
         },
         {
          "h_rocade": "2019-01-28T18:00:00",
          "tps_parcours2": "2019-01-31T01:25:39.500000"
         },
         {
          "h_rocade": "2019-01-28T18:15:00",
          "tps_parcours2": "2019-01-31T01:29:54"
         },
         {
          "h_rocade": "2019-01-28T18:30:00",
          "tps_parcours2": ""
         },
         {
          "h_rocade": "2019-01-28T18:45:00",
          "tps_parcours2": ""
         },
         {
          "h_rocade": "2019-01-28T19:00:00",
          "tps_parcours2": "2019-01-31T01:33:06"
         },
         {
          "h_rocade": "2019-01-28T19:15:00",
          "tps_parcours2": ""
         },
         {
          "h_rocade": "2019-01-28T19:30:00",
          "tps_parcours2": ""
         },
         {
          "h_rocade": "2019-01-28T19:45:00",
          "tps_parcours2": ""
         },
         {
          "h_rocade": "2019-01-28T20:00:00",
          "tps_parcours2": ""
         },
         {
          "h_rocade": "2019-01-28T20:15:00",
          "tps_parcours2": ""
         },
         {
          "h_rocade": "2019-01-28T20:30:00",
          "tps_parcours2": ""
         },
         {
          "h_rocade": "2019-01-28T20:45:00",
          "tps_parcours2": ""
         },
         {
          "h_rocade": "2019-01-28T21:00:00",
          "tps_parcours2": ""
         },
         {
          "h_rocade": "2019-01-28T21:15:00",
          "tps_parcours2": ""
         },
         {
          "h_rocade": "2019-01-28T21:30:00",
          "tps_parcours2": ""
         },
         {
          "h_rocade": "2019-01-28T21:45:00",
          "tps_parcours2": ""
         },
         {
          "h_rocade": "2019-01-28T22:00:00",
          "tps_parcours2": ""
         },
         {
          "h_rocade": "2019-01-28T22:15:00",
          "tps_parcours2": ""
         },
         {
          "h_rocade": "2019-01-28T22:30:00",
          "tps_parcours2": ""
         },
         {
          "h_rocade": "2019-01-28T22:45:00",
          "tps_parcours2": ""
         },
         {
          "h_rocade": "2019-01-28T23:00:00",
          "tps_parcours2": ""
         },
         {
          "h_rocade": "2019-01-28T23:15:00",
          "tps_parcours2": ""
         },
         {
          "h_rocade": "2019-01-28T23:30:00",
          "tps_parcours2": "2019-01-31T02:39:26"
         },
         {
          "h_rocade": "2019-01-28T23:45:00",
          "tps_parcours2": ""
         },
         {
          "h_rocade": "2019-01-29T00:00:00",
          "tps_parcours2": ""
         },
         {
          "h_rocade": "2019-01-29T00:15:00",
          "tps_parcours2": ""
         },
         {
          "h_rocade": "2019-01-29T00:30:00",
          "tps_parcours2": ""
         },
         {
          "h_rocade": "2019-01-29T00:45:00",
          "tps_parcours2": ""
         },
         {
          "h_rocade": "2019-01-29T01:00:00",
          "tps_parcours2": "2019-01-31T02:01:25"
         },
         {
          "h_rocade": "2019-01-29T01:15:00",
          "tps_parcours2": ""
         },
         {
          "h_rocade": "2019-01-29T01:30:00",
          "tps_parcours2": ""
         },
         {
          "h_rocade": "2019-01-29T01:45:00",
          "tps_parcours2": ""
         },
         {
          "h_rocade": "2019-01-29T02:00:00",
          "tps_parcours2": ""
         },
         {
          "h_rocade": "2019-01-29T02:15:00",
          "tps_parcours2": ""
         },
         {
          "h_rocade": "2019-01-29T02:30:00",
          "tps_parcours2": ""
         },
         {
          "h_rocade": "2019-01-29T02:45:00",
          "tps_parcours2": ""
         },
         {
          "h_rocade": "2019-01-29T03:00:00",
          "tps_parcours2": "2019-01-31T01:31:05"
         },
         {
          "h_rocade": "2019-01-29T03:15:00",
          "tps_parcours2": "2019-01-31T01:30:05"
         },
         {
          "h_rocade": "2019-01-29T03:30:00",
          "tps_parcours2": ""
         },
         {
          "h_rocade": "2019-01-29T03:45:00",
          "tps_parcours2": ""
         },
         {
          "h_rocade": "2019-01-29T04:00:00",
          "tps_parcours2": "2019-01-31T01:13:01"
         },
         {
          "h_rocade": "2019-01-29T04:15:00",
          "tps_parcours2": ""
         },
         {
          "h_rocade": "2019-01-29T04:30:00",
          "tps_parcours2": ""
         },
         {
          "h_rocade": "2019-01-29T04:45:00",
          "tps_parcours2": ""
         },
         {
          "h_rocade": "2019-01-29T05:00:00",
          "tps_parcours2": ""
         },
         {
          "h_rocade": "2019-01-29T05:15:00",
          "tps_parcours2": ""
         },
         {
          "h_rocade": "2019-01-29T05:30:00",
          "tps_parcours2": ""
         },
         {
          "h_rocade": "2019-01-29T05:45:00",
          "tps_parcours2": ""
         },
         {
          "h_rocade": "2019-01-29T06:00:00",
          "tps_parcours2": ""
         },
         {
          "h_rocade": "2019-01-29T06:15:00",
          "tps_parcours2": "2019-01-31T02:42:48"
         },
         {
          "h_rocade": "2019-01-29T06:30:00",
          "tps_parcours2": ""
         },
         {
          "h_rocade": "2019-01-29T06:45:00",
          "tps_parcours2": "2019-01-31T02:14:36"
         },
         {
          "h_rocade": "2019-01-29T07:00:00",
          "tps_parcours2": ""
         },
         {
          "h_rocade": "2019-01-29T07:15:00",
          "tps_parcours2": ""
         },
         {
          "h_rocade": "2019-01-29T07:30:00",
          "tps_parcours2": ""
         },
         {
          "h_rocade": "2019-01-29T07:45:00",
          "tps_parcours2": "2019-01-31T02:26:33"
         },
         {
          "h_rocade": "2019-01-29T08:00:00",
          "tps_parcours2": ""
         },
         {
          "h_rocade": "2019-01-29T08:15:00",
          "tps_parcours2": "2019-01-31T01:48:09.500000"
         },
         {
          "h_rocade": "2019-01-29T08:30:00",
          "tps_parcours2": "2019-01-31T01:45:59.857142857"
         },
         {
          "h_rocade": "2019-01-29T08:45:00",
          "tps_parcours2": "2019-01-31T01:27:50.800000"
         },
         {
          "h_rocade": "2019-01-29T09:00:00",
          "tps_parcours2": "2019-01-31T01:42:20.333333333"
         },
         {
          "h_rocade": "2019-01-29T09:15:00",
          "tps_parcours2": "2019-01-31T01:28:27.500000"
         },
         {
          "h_rocade": "2019-01-29T09:30:00",
          "tps_parcours2": "2019-01-31T01:34:33.500000"
         },
         {
          "h_rocade": "2019-01-29T09:45:00",
          "tps_parcours2": "2019-01-31T01:33:40.833333333"
         },
         {
          "h_rocade": "2019-01-29T10:00:00",
          "tps_parcours2": "2019-01-31T01:24:25"
         },
         {
          "h_rocade": "2019-01-29T10:15:00",
          "tps_parcours2": "2019-01-31T01:35:43.250000"
         },
         {
          "h_rocade": "2019-01-29T10:30:00",
          "tps_parcours2": "2019-01-31T01:21:29.333333333"
         },
         {
          "h_rocade": "2019-01-29T10:45:00",
          "tps_parcours2": ""
         },
         {
          "h_rocade": "2019-01-29T11:00:00",
          "tps_parcours2": ""
         },
         {
          "h_rocade": "2019-01-29T11:15:00",
          "tps_parcours2": "2019-01-31T01:32:46.666666666"
         },
         {
          "h_rocade": "2019-01-29T11:30:00",
          "tps_parcours2": "2019-01-31T01:32:55"
         },
         {
          "h_rocade": "2019-01-29T11:45:00",
          "tps_parcours2": "2019-01-31T01:25:51"
         },
         {
          "h_rocade": "2019-01-29T12:00:00",
          "tps_parcours2": "2019-01-31T01:27:31.333333333"
         },
         {
          "h_rocade": "2019-01-29T12:15:00",
          "tps_parcours2": "2019-01-31T01:30:07.428571428"
         },
         {
          "h_rocade": "2019-01-29T12:30:00",
          "tps_parcours2": "2019-01-31T01:38:20"
         },
         {
          "h_rocade": "2019-01-29T12:45:00",
          "tps_parcours2": "2019-01-31T01:55:02.500000"
         },
         {
          "h_rocade": "2019-01-29T13:00:00",
          "tps_parcours2": "2019-01-31T01:36:42.545454545"
         },
         {
          "h_rocade": "2019-01-29T13:15:00",
          "tps_parcours2": "2019-01-31T01:51:48.600000"
         },
         {
          "h_rocade": "2019-01-29T13:30:00",
          "tps_parcours2": "2019-01-31T01:30:11.666666666"
         },
         {
          "h_rocade": "2019-01-29T13:45:00",
          "tps_parcours2": "2019-01-31T01:42:49"
         },
         {
          "h_rocade": "2019-01-29T14:00:00",
          "tps_parcours2": "2019-01-31T01:38:38.222222222"
         },
         {
          "h_rocade": "2019-01-29T14:15:00",
          "tps_parcours2": "2019-01-31T01:34:51.571428571"
         },
         {
          "h_rocade": "2019-01-29T14:30:00",
          "tps_parcours2": "2019-01-31T01:33:44.714285714"
         },
         {
          "h_rocade": "2019-01-29T14:45:00",
          "tps_parcours2": "2019-01-31T01:28:33.500000"
         },
         {
          "h_rocade": "2019-01-29T15:00:00",
          "tps_parcours2": "2019-01-31T01:28:39.800000"
         },
         {
          "h_rocade": "2019-01-29T15:15:00",
          "tps_parcours2": "2019-01-31T01:33:58.142857142"
         },
         {
          "h_rocade": "2019-01-29T15:30:00",
          "tps_parcours2": "2019-01-31T01:37:11.666666666"
         },
         {
          "h_rocade": "2019-01-29T15:45:00",
          "tps_parcours2": "2019-01-31T01:40:15.125000"
         },
         {
          "h_rocade": "2019-01-29T16:00:00",
          "tps_parcours2": "2019-01-31T01:40:52.166666666"
         },
         {
          "h_rocade": "2019-01-29T16:15:00",
          "tps_parcours2": "2019-01-31T01:35:11.833333333"
         },
         {
          "h_rocade": "2019-01-29T16:30:00",
          "tps_parcours2": "2019-01-31T01:40:46.400000"
         },
         {
          "h_rocade": "2019-01-29T16:45:00",
          "tps_parcours2": "2019-01-31T01:44:18.818181818"
         },
         {
          "h_rocade": "2019-01-29T17:00:00",
          "tps_parcours2": "2019-01-31T01:38:59.333333333"
         },
         {
          "h_rocade": "2019-01-29T17:15:00",
          "tps_parcours2": "2019-01-31T01:39:22.250000"
         },
         {
          "h_rocade": "2019-01-29T17:30:00",
          "tps_parcours2": "2019-01-31T01:16:59"
         },
         {
          "h_rocade": "2019-01-29T17:45:00",
          "tps_parcours2": ""
         },
         {
          "h_rocade": "2019-01-29T18:00:00",
          "tps_parcours2": ""
         },
         {
          "h_rocade": "2019-01-29T18:15:00",
          "tps_parcours2": ""
         },
         {
          "h_rocade": "2019-01-29T18:30:00",
          "tps_parcours2": "2019-01-31T01:14:56"
         },
         {
          "h_rocade": "2019-01-29T18:45:00",
          "tps_parcours2": "2019-01-31T01:18:05"
         },
         {
          "h_rocade": "2019-01-29T19:00:00",
          "tps_parcours2": ""
         },
         {
          "h_rocade": "2019-01-29T19:15:00",
          "tps_parcours2": ""
         },
         {
          "h_rocade": "2019-01-29T19:30:00",
          "tps_parcours2": ""
         },
         {
          "h_rocade": "2019-01-29T19:45:00",
          "tps_parcours2": ""
         },
         {
          "h_rocade": "2019-01-29T20:00:00",
          "tps_parcours2": "2019-01-31T02:01:58"
         },
         {
          "h_rocade": "2019-01-29T20:15:00",
          "tps_parcours2": "2019-01-31T01:33:06"
         },
         {
          "h_rocade": "2019-01-29T20:30:00",
          "tps_parcours2": ""
         },
         {
          "h_rocade": "2019-01-29T20:45:00",
          "tps_parcours2": ""
         },
         {
          "h_rocade": "2019-01-29T21:00:00",
          "tps_parcours2": "2019-01-31T01:16:31"
         },
         {
          "h_rocade": "2019-01-29T21:15:00",
          "tps_parcours2": ""
         },
         {
          "h_rocade": "2019-01-29T21:30:00",
          "tps_parcours2": ""
         },
         {
          "h_rocade": "2019-01-29T21:45:00",
          "tps_parcours2": ""
         },
         {
          "h_rocade": "2019-01-29T22:00:00",
          "tps_parcours2": "2019-01-31T01:33:48"
         },
         {
          "h_rocade": "2019-01-29T22:15:00",
          "tps_parcours2": ""
         },
         {
          "h_rocade": "2019-01-29T22:30:00",
          "tps_parcours2": ""
         },
         {
          "h_rocade": "2019-01-29T22:45:00",
          "tps_parcours2": ""
         },
         {
          "h_rocade": "2019-01-29T23:00:00",
          "tps_parcours2": ""
         },
         {
          "h_rocade": "2019-01-29T23:15:00",
          "tps_parcours2": ""
         },
         {
          "h_rocade": "2019-01-29T23:30:00",
          "tps_parcours2": "2019-01-31T01:31:51"
         },
         {
          "h_rocade": "2019-01-29T23:45:00",
          "tps_parcours2": "2019-01-31T01:42:27"
         },
         {
          "h_rocade": "2019-01-30T00:00:00",
          "tps_parcours2": ""
         },
         {
          "h_rocade": "2019-01-30T00:15:00",
          "tps_parcours2": "2019-01-31T01:20:07"
         },
         {
          "h_rocade": "2019-01-30T00:30:00",
          "tps_parcours2": "2019-01-31T01:37:26"
         },
         {
          "h_rocade": "2019-01-30T00:45:00",
          "tps_parcours2": ""
         },
         {
          "h_rocade": "2019-01-30T01:00:00",
          "tps_parcours2": ""
         },
         {
          "h_rocade": "2019-01-30T01:15:00",
          "tps_parcours2": ""
         },
         {
          "h_rocade": "2019-01-30T01:30:00",
          "tps_parcours2": "2019-01-31T01:21:34"
         },
         {
          "h_rocade": "2019-01-30T01:45:00",
          "tps_parcours2": ""
         },
         {
          "h_rocade": "2019-01-30T02:00:00",
          "tps_parcours2": ""
         },
         {
          "h_rocade": "2019-01-30T02:15:00",
          "tps_parcours2": "2019-01-31T03:24:31"
         },
         {
          "h_rocade": "2019-01-30T02:30:00",
          "tps_parcours2": ""
         },
         {
          "h_rocade": "2019-01-30T02:45:00",
          "tps_parcours2": ""
         },
         {
          "h_rocade": "2019-01-30T03:00:00",
          "tps_parcours2": "2019-01-31T01:58:07"
         },
         {
          "h_rocade": "2019-01-30T03:15:00",
          "tps_parcours2": "2019-01-31T01:43:32"
         },
         {
          "h_rocade": "2019-01-30T03:30:00",
          "tps_parcours2": ""
         },
         {
          "h_rocade": "2019-01-30T03:45:00",
          "tps_parcours2": ""
         },
         {
          "h_rocade": "2019-01-30T04:00:00",
          "tps_parcours2": ""
         },
         {
          "h_rocade": "2019-01-30T04:15:00",
          "tps_parcours2": ""
         },
         {
          "h_rocade": "2019-01-30T04:30:00",
          "tps_parcours2": "2019-01-31T01:36:52"
         },
         {
          "h_rocade": "2019-01-30T04:45:00",
          "tps_parcours2": ""
         },
         {
          "h_rocade": "2019-01-30T05:00:00",
          "tps_parcours2": ""
         },
         {
          "h_rocade": "2019-01-30T05:15:00",
          "tps_parcours2": ""
         },
         {
          "h_rocade": "2019-01-30T05:30:00",
          "tps_parcours2": "2019-01-31T01:57:15"
         },
         {
          "h_rocade": "2019-01-30T05:45:00",
          "tps_parcours2": "2019-01-31T01:23:21"
         },
         {
          "h_rocade": "2019-01-30T06:00:00",
          "tps_parcours2": "2019-01-31T02:25:05"
         },
         {
          "h_rocade": "2019-01-30T06:15:00",
          "tps_parcours2": ""
         },
         {
          "h_rocade": "2019-01-30T06:30:00",
          "tps_parcours2": ""
         },
         {
          "h_rocade": "2019-01-30T06:45:00",
          "tps_parcours2": ""
         },
         {
          "h_rocade": "2019-01-30T07:00:00",
          "tps_parcours2": ""
         },
         {
          "h_rocade": "2019-01-30T07:15:00",
          "tps_parcours2": ""
         },
         {
          "h_rocade": "2019-01-30T07:30:00",
          "tps_parcours2": ""
         },
         {
          "h_rocade": "2019-01-30T07:45:00",
          "tps_parcours2": ""
         },
         {
          "h_rocade": "2019-01-30T08:00:00",
          "tps_parcours2": "2019-01-31T02:07:25.333333333"
         },
         {
          "h_rocade": "2019-01-30T08:15:00",
          "tps_parcours2": "2019-01-31T02:00:02.125000"
         },
         {
          "h_rocade": "2019-01-30T08:30:00",
          "tps_parcours2": "2019-01-31T02:00:31.333333333"
         },
         {
          "h_rocade": "2019-01-30T08:45:00",
          "tps_parcours2": "2019-01-31T01:54:34"
         },
         {
          "h_rocade": "2019-01-30T09:00:00",
          "tps_parcours2": ""
         },
         {
          "h_rocade": "2019-01-30T09:15:00",
          "tps_parcours2": "2019-01-31T01:20:42.333333333"
         },
         {
          "h_rocade": "2019-01-30T09:30:00",
          "tps_parcours2": "2019-01-31T01:25:42"
         },
         {
          "h_rocade": "2019-01-30T09:45:00",
          "tps_parcours2": "2019-01-31T01:32:31.857142857"
         },
         {
          "h_rocade": "2019-01-30T10:00:00",
          "tps_parcours2": "2019-01-31T01:26:15"
         },
         {
          "h_rocade": "2019-01-30T10:15:00",
          "tps_parcours2": "2019-01-31T01:19:48.571428571"
         },
         {
          "h_rocade": "2019-01-30T10:30:00",
          "tps_parcours2": "2019-01-31T01:30:59.800000"
         },
         {
          "h_rocade": "2019-01-30T10:45:00",
          "tps_parcours2": "2019-01-31T01:15:36"
         },
         {
          "h_rocade": "2019-01-30T11:00:00",
          "tps_parcours2": "2019-01-31T01:33:30.333333333"
         },
         {
          "h_rocade": "2019-01-30T11:15:00",
          "tps_parcours2": "2019-01-31T01:31:43.714285714"
         },
         {
          "h_rocade": "2019-01-30T11:30:00",
          "tps_parcours2": "2019-01-31T01:38:59.750000"
         },
         {
          "h_rocade": "2019-01-30T11:45:00",
          "tps_parcours2": "2019-01-31T01:50:02.333333333"
         },
         {
          "h_rocade": "2019-01-30T12:00:00",
          "tps_parcours2": "2019-01-31T01:35:10.666666666"
         },
         {
          "h_rocade": "2019-01-30T12:15:00",
          "tps_parcours2": "2019-01-31T01:31:34.166666666"
         },
         {
          "h_rocade": "2019-01-30T12:30:00",
          "tps_parcours2": "2019-01-31T01:42:40"
         },
         {
          "h_rocade": "2019-01-30T12:45:00",
          "tps_parcours2": "2019-01-31T01:30:39"
         },
         {
          "h_rocade": "2019-01-30T13:00:00",
          "tps_parcours2": "2019-01-31T01:29:19"
         },
         {
          "h_rocade": "2019-01-30T13:15:00",
          "tps_parcours2": "2019-01-31T01:37:26.333333333"
         },
         {
          "h_rocade": "2019-01-30T13:30:00",
          "tps_parcours2": "2019-01-31T01:36:35.125000"
         },
         {
          "h_rocade": "2019-01-30T13:45:00",
          "tps_parcours2": "2019-01-31T01:36:35.333333333"
         },
         {
          "h_rocade": "2019-01-30T14:00:00",
          "tps_parcours2": "2019-01-31T01:50:02.300000"
         },
         {
          "h_rocade": "2019-01-30T14:15:00",
          "tps_parcours2": "2019-01-31T01:42:54"
         },
         {
          "h_rocade": "2019-01-30T14:30:00",
          "tps_parcours2": "2019-01-31T01:38:07.285714285"
         },
         {
          "h_rocade": "2019-01-30T14:45:00",
          "tps_parcours2": "2019-01-31T01:27:05.571428571"
         },
         {
          "h_rocade": "2019-01-30T15:00:00",
          "tps_parcours2": "2019-01-31T01:37:58.800000"
         },
         {
          "h_rocade": "2019-01-30T15:15:00",
          "tps_parcours2": "2019-01-31T01:17:49"
         },
         {
          "h_rocade": "2019-01-30T15:30:00",
          "tps_parcours2": "2019-01-31T01:33:56"
         },
         {
          "h_rocade": "2019-01-30T15:45:00",
          "tps_parcours2": "2019-01-31T01:30:00.333333333"
         },
         {
          "h_rocade": "2019-01-30T16:00:00",
          "tps_parcours2": "2019-01-31T01:26:42.700000"
         },
         {
          "h_rocade": "2019-01-30T16:15:00",
          "tps_parcours2": "2019-01-31T01:26:49.200000"
         },
         {
          "h_rocade": "2019-01-30T16:30:00",
          "tps_parcours2": "2019-01-31T01:37:50.200000"
         },
         {
          "h_rocade": "2019-01-30T16:45:00",
          "tps_parcours2": "2019-01-31T01:36:34.600000"
         },
         {
          "h_rocade": "2019-01-30T17:00:00",
          "tps_parcours2": "2019-01-31T01:36:10.375000"
         },
         {
          "h_rocade": "2019-01-30T17:15:00",
          "tps_parcours2": "2019-01-31T01:36:08.600000"
         },
         {
          "h_rocade": "2019-01-30T17:30:00",
          "tps_parcours2": "2019-01-31T01:25:31.888888888"
         },
         {
          "h_rocade": "2019-01-30T17:45:00",
          "tps_parcours2": "2019-01-31T01:35:47.750000"
         },
         {
          "h_rocade": "2019-01-30T18:00:00",
          "tps_parcours2": "2019-01-31T01:52:49"
         },
         {
          "h_rocade": "2019-01-30T18:15:00",
          "tps_parcours2": "2019-01-31T01:29:46.500000"
         },
         {
          "h_rocade": "2019-01-30T18:30:00",
          "tps_parcours2": "2019-01-31T01:33:04.666666666"
         },
         {
          "h_rocade": "2019-01-30T18:45:00",
          "tps_parcours2": "2019-01-31T01:20:43.875000"
         },
         {
          "h_rocade": "2019-01-30T19:00:00",
          "tps_parcours2": "2019-01-31T01:15:29.666666666"
         },
         {
          "h_rocade": "2019-01-30T19:15:00",
          "tps_parcours2": "2019-01-31T01:31:26.833333333"
         },
         {
          "h_rocade": "2019-01-30T19:30:00",
          "tps_parcours2": "2019-01-31T01:41:39.750000"
         },
         {
          "h_rocade": "2019-01-30T19:45:00",
          "tps_parcours2": "2019-01-31T01:43:46.250000"
         },
         {
          "h_rocade": "2019-01-30T20:00:00",
          "tps_parcours2": "2019-01-31T01:31:48.666666666"
         },
         {
          "h_rocade": "2019-01-30T20:15:00",
          "tps_parcours2": "2019-01-31T01:22:16.333333333"
         },
         {
          "h_rocade": "2019-01-30T20:30:00",
          "tps_parcours2": "2019-01-31T01:57:30.600000"
         },
         {
          "h_rocade": "2019-01-30T20:45:00",
          "tps_parcours2": "2019-01-31T01:30:09.500000"
         },
         {
          "h_rocade": "2019-01-30T21:00:00",
          "tps_parcours2": "2019-01-31T02:02:43.600000"
         },
         {
          "h_rocade": "2019-01-30T21:15:00",
          "tps_parcours2": "2019-01-31T01:38:56.666666666"
         },
         {
          "h_rocade": "2019-01-30T21:30:00",
          "tps_parcours2": "2019-01-31T01:32:05.500000"
         },
         {
          "h_rocade": "2019-01-30T21:45:00",
          "tps_parcours2": "2019-01-31T01:33:06.500000"
         },
         {
          "h_rocade": "2019-01-30T22:00:00",
          "tps_parcours2": "2019-01-31T01:26:34"
         },
         {
          "h_rocade": "2019-01-30T22:15:00",
          "tps_parcours2": "2019-01-31T01:43:12.500000"
         },
         {
          "h_rocade": "2019-01-30T22:30:00",
          "tps_parcours2": "2019-01-31T01:50:39"
         },
         {
          "h_rocade": "2019-01-30T22:45:00",
          "tps_parcours2": "2019-01-31T01:44:58.571428571"
         },
         {
          "h_rocade": "2019-01-30T23:00:00",
          "tps_parcours2": "2019-01-31T01:54:13.333333333"
         },
         {
          "h_rocade": "2019-01-30T23:15:00",
          "tps_parcours2": "2019-01-31T02:35:35.666666666"
         },
         {
          "h_rocade": "2019-01-30T23:30:00",
          "tps_parcours2": "2019-01-31T01:49:42.428571428"
         },
         {
          "h_rocade": "2019-01-30T23:45:00",
          "tps_parcours2": "2019-01-31T01:48:49.800000"
         },
         {
          "h_rocade": "2019-01-31T00:00:00",
          "tps_parcours2": "2019-01-31T01:38:04"
         },
         {
          "h_rocade": "2019-01-31T00:15:00",
          "tps_parcours2": "2019-01-31T01:34:54"
         },
         {
          "h_rocade": "2019-01-31T00:30:00",
          "tps_parcours2": "2019-01-31T01:14:10"
         },
         {
          "h_rocade": "2019-01-31T00:45:00",
          "tps_parcours2": "2019-01-31T01:42:29.666666666"
         },
         {
          "h_rocade": "2019-01-31T01:00:00",
          "tps_parcours2": "2019-01-31T01:35:31.333333333"
         },
         {
          "h_rocade": "2019-01-31T01:15:00",
          "tps_parcours2": "2019-01-31T01:22:00"
         },
         {
          "h_rocade": "2019-01-31T01:30:00",
          "tps_parcours2": "2019-01-31T01:18:44"
         },
         {
          "h_rocade": "2019-01-31T01:45:00",
          "tps_parcours2": ""
         },
         {
          "h_rocade": "2019-01-31T02:00:00",
          "tps_parcours2": "2019-01-31T01:25:13.500000"
         },
         {
          "h_rocade": "2019-01-31T02:15:00",
          "tps_parcours2": "2019-01-31T01:28:43"
         },
         {
          "h_rocade": "2019-01-31T02:30:00",
          "tps_parcours2": "2019-01-31T01:48:24.250000"
         },
         {
          "h_rocade": "2019-01-31T02:45:00",
          "tps_parcours2": ""
         },
         {
          "h_rocade": "2019-01-31T03:00:00",
          "tps_parcours2": "2019-01-31T01:32:20.666666666"
         },
         {
          "h_rocade": "2019-01-31T03:15:00",
          "tps_parcours2": "2019-01-31T01:44:29"
         },
         {
          "h_rocade": "2019-01-31T03:30:00",
          "tps_parcours2": "2019-01-31T01:42:44"
         },
         {
          "h_rocade": "2019-01-31T03:45:00",
          "tps_parcours2": "2019-01-31T01:28:32.400000"
         },
         {
          "h_rocade": "2019-01-31T04:00:00",
          "tps_parcours2": "2019-01-31T01:16:14"
         },
         {
          "h_rocade": "2019-01-31T04:15:00",
          "tps_parcours2": "2019-01-31T01:43:42.600000"
         },
         {
          "h_rocade": "2019-01-31T04:30:00",
          "tps_parcours2": "2019-01-31T01:23:32.750000"
         },
         {
          "h_rocade": "2019-01-31T04:45:00",
          "tps_parcours2": "2019-01-31T01:41:40.333333333"
         },
         {
          "h_rocade": "2019-01-31T05:00:00",
          "tps_parcours2": "2019-01-31T01:24:03.666666666"
         },
         {
          "h_rocade": "2019-01-31T05:15:00",
          "tps_parcours2": "2019-01-31T01:43:26.714285714"
         },
         {
          "h_rocade": "2019-01-31T05:30:00",
          "tps_parcours2": "2019-01-31T01:39:28.285714285"
         },
         {
          "h_rocade": "2019-01-31T05:45:00",
          "tps_parcours2": "2019-01-31T01:46:41.600000"
         },
         {
          "h_rocade": "2019-01-31T06:00:00",
          "tps_parcours2": "2019-01-31T02:00:15.666666666"
         },
         {
          "h_rocade": "2019-01-31T06:15:00",
          "tps_parcours2": "2019-01-31T02:07:15"
         },
         {
          "h_rocade": "2019-01-31T06:30:00",
          "tps_parcours2": "2019-01-31T02:32:25"
         },
         {
          "h_rocade": "2019-01-31T06:45:00",
          "tps_parcours2": "2019-01-31T03:05:06.250000"
         },
         {
          "h_rocade": "2019-01-31T07:00:00",
          "tps_parcours2": "2019-01-31T03:00:27.666666666"
         },
         {
          "h_rocade": "2019-01-31T07:15:00",
          "tps_parcours2": "2019-01-31T03:34:09.333333333"
         },
         {
          "h_rocade": "2019-01-31T07:30:00",
          "tps_parcours2": "2019-01-31T03:00:32.200000"
         },
         {
          "h_rocade": "2019-01-31T07:45:00",
          "tps_parcours2": "2019-01-31T03:02:25.400000"
         },
         {
          "h_rocade": "2019-01-31T08:00:00",
          "tps_parcours2": "2019-01-31T02:59:39"
         },
         {
          "h_rocade": "2019-01-31T08:15:00",
          "tps_parcours2": "2019-01-31T02:55:25.750000"
         },
         {
          "h_rocade": "2019-01-31T08:30:00",
          "tps_parcours2": "2019-01-31T02:41:14.363636363"
         },
         {
          "h_rocade": "2019-01-31T08:45:00",
          "tps_parcours2": "2019-01-31T02:18:06.600000"
         },
         {
          "h_rocade": "2019-01-31T09:00:00",
          "tps_parcours2": "2019-01-31T02:24:13.250000"
         },
         {
          "h_rocade": "2019-01-31T09:15:00",
          "tps_parcours2": "2019-01-31T02:26:48.777777777"
         },
         {
          "h_rocade": "2019-01-31T09:30:00",
          "tps_parcours2": "2019-01-31T01:55:18.909090909"
         },
         {
          "h_rocade": "2019-01-31T09:45:00",
          "tps_parcours2": "2019-01-31T02:03:02"
         },
         {
          "h_rocade": "2019-01-31T10:00:00",
          "tps_parcours2": "2019-01-31T01:43:32.444444444"
         },
         {
          "h_rocade": "2019-01-31T10:15:00",
          "tps_parcours2": "2019-01-31T01:47:23.923076923"
         },
         {
          "h_rocade": "2019-01-31T10:30:00",
          "tps_parcours2": "2019-01-31T01:43:31.800000"
         },
         {
          "h_rocade": "2019-01-31T10:45:00",
          "tps_parcours2": "2019-01-31T01:39:17.866666666"
         },
         {
          "h_rocade": "2019-01-31T11:00:00",
          "tps_parcours2": "2019-01-31T01:49:36.769230769"
         },
         {
          "h_rocade": "2019-01-31T11:15:00",
          "tps_parcours2": "2019-01-31T01:34:21.500000"
         },
         {
          "h_rocade": "2019-01-31T11:30:00",
          "tps_parcours2": "2019-01-31T01:47:03.571428571"
         },
         {
          "h_rocade": "2019-01-31T11:45:00",
          "tps_parcours2": "2019-01-31T01:40:14"
         },
         {
          "h_rocade": "2019-01-31T12:00:00",
          "tps_parcours2": "2019-01-31T01:46:01.333333333"
         },
         {
          "h_rocade": "2019-01-31T12:15:00",
          "tps_parcours2": "2019-01-31T01:41:59.285714285"
         },
         {
          "h_rocade": "2019-01-31T12:30:00",
          "tps_parcours2": "2019-01-31T01:36:53.200000"
         },
         {
          "h_rocade": "2019-01-31T12:45:00",
          "tps_parcours2": "2019-01-31T01:32:15.300000"
         },
         {
          "h_rocade": "2019-01-31T13:00:00",
          "tps_parcours2": "2019-01-31T01:31:28.400000"
         },
         {
          "h_rocade": "2019-01-31T13:15:00",
          "tps_parcours2": "2019-01-31T01:29:19.333333333"
         },
         {
          "h_rocade": "2019-01-31T13:30:00",
          "tps_parcours2": "2019-01-31T01:29:13.666666666"
         },
         {
          "h_rocade": "2019-01-31T13:45:00",
          "tps_parcours2": "2019-01-31T01:34:24.285714285"
         },
         {
          "h_rocade": "2019-01-31T14:00:00",
          "tps_parcours2": "2019-01-31T01:42:53.285714285"
         },
         {
          "h_rocade": "2019-01-31T14:15:00",
          "tps_parcours2": "2019-01-31T01:34:03.500000"
         },
         {
          "h_rocade": "2019-01-31T14:30:00",
          "tps_parcours2": "2019-01-31T01:43:24.500000"
         },
         {
          "h_rocade": "2019-01-31T14:45:00",
          "tps_parcours2": "2019-01-31T01:36:03.785714285"
         },
         {
          "h_rocade": "2019-01-31T15:00:00",
          "tps_parcours2": "2019-01-31T01:38:38.266666666"
         },
         {
          "h_rocade": "2019-01-31T15:15:00",
          "tps_parcours2": "2019-01-31T01:35:05.900000"
         },
         {
          "h_rocade": "2019-01-31T15:30:00",
          "tps_parcours2": "2019-01-31T01:31:23.500000"
         },
         {
          "h_rocade": "2019-01-31T15:45:00",
          "tps_parcours2": "2019-01-31T01:27:03.600000"
         },
         {
          "h_rocade": "2019-01-31T16:00:00",
          "tps_parcours2": "2019-01-31T01:28:38.714285714"
         },
         {
          "h_rocade": "2019-01-31T16:15:00",
          "tps_parcours2": "2019-01-31T01:29:30.400000"
         },
         {
          "h_rocade": "2019-01-31T16:30:00",
          "tps_parcours2": "2019-01-31T01:29:24.125000"
         },
         {
          "h_rocade": "2019-01-31T16:45:00",
          "tps_parcours2": "2019-01-31T01:33:05.750000"
         },
         {
          "h_rocade": "2019-01-31T17:00:00",
          "tps_parcours2": "2019-01-31T01:30:51.090909090"
         },
         {
          "h_rocade": "2019-01-31T17:15:00",
          "tps_parcours2": "2019-01-31T01:34:55"
         },
         {
          "h_rocade": "2019-01-31T17:30:00",
          "tps_parcours2": "2019-01-31T01:34:23.333333333"
         },
         {
          "h_rocade": "2019-01-31T17:45:00",
          "tps_parcours2": "2019-01-31T01:35:41.500000"
         },
         {
          "h_rocade": "2019-01-31T18:00:00",
          "tps_parcours2": "2019-01-31T01:29:22.166666666"
         },
         {
          "h_rocade": "2019-01-31T18:15:00",
          "tps_parcours2": "2019-01-31T01:31:10.500000"
         },
         {
          "h_rocade": "2019-01-31T18:30:00",
          "tps_parcours2": "2019-01-31T01:29:29.714285714"
         },
         {
          "h_rocade": "2019-01-31T18:45:00",
          "tps_parcours2": "2019-01-31T01:38:39.666666666"
         },
         {
          "h_rocade": "2019-01-31T19:00:00",
          "tps_parcours2": "2019-01-31T01:32:34"
         },
         {
          "h_rocade": "2019-01-31T19:15:00",
          "tps_parcours2": "2019-01-31T01:25:24.500000"
         },
         {
          "h_rocade": "2019-01-31T19:30:00",
          "tps_parcours2": "2019-01-31T01:33:10.250000"
         },
         {
          "h_rocade": "2019-01-31T19:45:00",
          "tps_parcours2": "2019-01-31T01:32:13"
         },
         {
          "h_rocade": "2019-01-31T20:00:00",
          "tps_parcours2": "2019-01-31T01:52:06"
         },
         {
          "h_rocade": "2019-01-31T20:15:00",
          "tps_parcours2": "2019-01-31T01:23:44.500000"
         },
         {
          "h_rocade": "2019-01-31T20:30:00",
          "tps_parcours2": "2019-01-31T01:51:16"
         },
         {
          "h_rocade": "2019-01-31T20:45:00",
          "tps_parcours2": "2019-01-31T01:43:50"
         },
         {
          "h_rocade": "2019-01-31T21:00:00",
          "tps_parcours2": "2019-01-31T01:46:46.333333333"
         },
         {
          "h_rocade": "2019-01-31T21:15:00",
          "tps_parcours2": "2019-01-31T01:43:02.600000"
         },
         {
          "h_rocade": "2019-01-31T21:30:00",
          "tps_parcours2": "2019-01-31T01:14:37"
         },
         {
          "h_rocade": "2019-01-31T21:45:00",
          "tps_parcours2": "2019-01-31T01:36:50.666666666"
         },
         {
          "h_rocade": "2019-01-31T22:00:00",
          "tps_parcours2": "2019-01-31T01:34:45.333333333"
         },
         {
          "h_rocade": "2019-01-31T22:15:00",
          "tps_parcours2": "2019-01-31T01:30:02"
         },
         {
          "h_rocade": "2019-01-31T22:30:00",
          "tps_parcours2": ""
         },
         {
          "h_rocade": "2019-01-31T22:45:00",
          "tps_parcours2": "2019-01-31T02:02:52.500000"
         },
         {
          "h_rocade": "2019-01-31T23:00:00",
          "tps_parcours2": ""
         },
         {
          "h_rocade": "2019-01-31T23:15:00",
          "tps_parcours2": ""
         },
         {
          "h_rocade": "2019-01-31T23:30:00",
          "tps_parcours2": "2019-01-31T02:01:59.750000"
         },
         {
          "h_rocade": "2019-01-31T23:45:00",
          "tps_parcours2": ""
         },
         {
          "h_rocade": "2019-02-01T00:00:00",
          "tps_parcours2": "2019-01-31T01:32:06"
         },
         {
          "h_rocade": "2019-02-01T00:15:00",
          "tps_parcours2": "2019-01-31T01:45:37"
         },
         {
          "h_rocade": "2019-02-01T00:30:00",
          "tps_parcours2": "2019-01-31T01:32:44"
         },
         {
          "h_rocade": "2019-02-01T00:45:00",
          "tps_parcours2": "2019-01-31T02:05:09.333333333"
         },
         {
          "h_rocade": "2019-02-01T01:00:00",
          "tps_parcours2": "2019-01-31T01:30:30"
         },
         {
          "h_rocade": "2019-02-01T01:15:00",
          "tps_parcours2": ""
         },
         {
          "h_rocade": "2019-02-01T01:30:00",
          "tps_parcours2": "2019-01-31T01:50:08.500000"
         },
         {
          "h_rocade": "2019-02-01T01:45:00",
          "tps_parcours2": ""
         },
         {
          "h_rocade": "2019-02-01T02:00:00",
          "tps_parcours2": "2019-01-31T01:35:07"
         },
         {
          "h_rocade": "2019-02-01T02:15:00",
          "tps_parcours2": "2019-01-31T01:36:28.500000"
         },
         {
          "h_rocade": "2019-02-01T02:30:00",
          "tps_parcours2": ""
         },
         {
          "h_rocade": "2019-02-01T02:45:00",
          "tps_parcours2": "2019-01-31T01:29:19"
         },
         {
          "h_rocade": "2019-02-01T03:00:00",
          "tps_parcours2": "2019-01-31T02:08:20.666666666"
         },
         {
          "h_rocade": "2019-02-01T03:15:00",
          "tps_parcours2": "2019-01-31T01:57:06"
         },
         {
          "h_rocade": "2019-02-01T03:30:00",
          "tps_parcours2": "2019-01-31T01:44:48.500000"
         },
         {
          "h_rocade": "2019-02-01T03:45:00",
          "tps_parcours2": "2019-01-31T01:31:15"
         },
         {
          "h_rocade": "2019-02-01T04:00:00",
          "tps_parcours2": ""
         },
         {
          "h_rocade": "2019-02-01T04:15:00",
          "tps_parcours2": "2019-01-31T01:32:19.166666666"
         },
         {
          "h_rocade": "2019-02-01T04:30:00",
          "tps_parcours2": "2019-01-31T01:33:03.333333333"
         },
         {
          "h_rocade": "2019-02-01T04:45:00",
          "tps_parcours2": "2019-01-31T01:51:07"
         },
         {
          "h_rocade": "2019-02-01T05:00:00",
          "tps_parcours2": "2019-01-31T01:35:57.400000"
         },
         {
          "h_rocade": "2019-02-01T05:15:00",
          "tps_parcours2": "2019-01-31T01:30:29"
         },
         {
          "h_rocade": "2019-02-01T05:30:00",
          "tps_parcours2": "2019-01-31T01:57:46.750000"
         },
         {
          "h_rocade": "2019-02-01T05:45:00",
          "tps_parcours2": "2019-01-31T01:42:08.200000"
         },
         {
          "h_rocade": "2019-02-01T06:00:00",
          "tps_parcours2": "2019-01-31T02:18:37.666666666"
         },
         {
          "h_rocade": "2019-02-01T06:15:00",
          "tps_parcours2": "2019-01-31T02:02:02.500000"
         },
         {
          "h_rocade": "2019-02-01T06:30:00",
          "tps_parcours2": "2019-01-31T02:13:11"
         },
         {
          "h_rocade": "2019-02-01T06:45:00",
          "tps_parcours2": "2019-01-31T02:33:16.500000"
         },
         {
          "h_rocade": "2019-02-01T07:00:00",
          "tps_parcours2": "2019-01-31T02:36:56.250000"
         },
         {
          "h_rocade": "2019-02-01T07:15:00",
          "tps_parcours2": "2019-01-31T02:08:47.333333333"
         },
         {
          "h_rocade": "2019-02-01T07:30:00",
          "tps_parcours2": "2019-01-31T02:51:25.500000"
         },
         {
          "h_rocade": "2019-02-01T07:45:00",
          "tps_parcours2": "2019-01-31T03:17:30.500000"
         },
         {
          "h_rocade": "2019-02-01T08:00:00",
          "tps_parcours2": "2019-01-31T03:01:30"
         },
         {
          "h_rocade": "2019-02-01T08:15:00",
          "tps_parcours2": "2019-01-31T01:54:37.666666666"
         },
         {
          "h_rocade": "2019-02-01T08:30:00",
          "tps_parcours2": "2019-01-31T01:57:21.666666666"
         },
         {
          "h_rocade": "2019-02-01T08:45:00",
          "tps_parcours2": ""
         },
         {
          "h_rocade": "2019-02-01T09:00:00",
          "tps_parcours2": ""
         },
         {
          "h_rocade": "2019-02-01T09:15:00",
          "tps_parcours2": ""
         },
         {
          "h_rocade": "2019-02-01T09:30:00",
          "tps_parcours2": ""
         },
         {
          "h_rocade": "2019-02-01T09:45:00",
          "tps_parcours2": ""
         },
         {
          "h_rocade": "2019-02-01T10:00:00",
          "tps_parcours2": "2019-01-31T01:53:13"
         },
         {
          "h_rocade": "2019-02-01T10:15:00",
          "tps_parcours2": "2019-01-31T01:50:31.250000"
         },
         {
          "h_rocade": "2019-02-01T10:30:00",
          "tps_parcours2": "2019-01-31T01:46:31.714285714"
         },
         {
          "h_rocade": "2019-02-01T10:45:00",
          "tps_parcours2": "2019-01-31T01:45:42.800000"
         },
         {
          "h_rocade": "2019-02-01T11:00:00",
          "tps_parcours2": "2019-01-31T01:36:28.666666666"
         },
         {
          "h_rocade": "2019-02-01T11:15:00",
          "tps_parcours2": ""
         },
         {
          "h_rocade": "2019-02-01T11:30:00",
          "tps_parcours2": ""
         },
         {
          "h_rocade": "2019-02-01T11:45:00",
          "tps_parcours2": "2019-01-31T02:06:10.500000"
         },
         {
          "h_rocade": "2019-02-01T12:00:00",
          "tps_parcours2": "2019-01-31T01:41:41.500000"
         },
         {
          "h_rocade": "2019-02-01T12:15:00",
          "tps_parcours2": ""
         },
         {
          "h_rocade": "2019-02-01T12:30:00",
          "tps_parcours2": ""
         },
         {
          "h_rocade": "2019-02-01T12:45:00",
          "tps_parcours2": "2019-01-31T02:46:56.500000"
         },
         {
          "h_rocade": "2019-02-01T13:00:00",
          "tps_parcours2": "2019-01-31T02:02:42"
         },
         {
          "h_rocade": "2019-02-01T13:15:00",
          "tps_parcours2": "2019-01-31T02:28:18.333333333"
         },
         {
          "h_rocade": "2019-02-01T13:30:00",
          "tps_parcours2": "2019-01-31T01:54:09.833333333"
         },
         {
          "h_rocade": "2019-02-01T13:45:00",
          "tps_parcours2": "2019-01-31T01:49:34.800000"
         },
         {
          "h_rocade": "2019-02-01T14:00:00",
          "tps_parcours2": "2019-01-31T01:48:04"
         },
         {
          "h_rocade": "2019-02-01T14:15:00",
          "tps_parcours2": "2019-01-31T02:06:12"
         },
         {
          "h_rocade": "2019-02-01T14:30:00",
          "tps_parcours2": "2019-01-31T02:06:47.200000"
         },
         {
          "h_rocade": "2019-02-01T14:45:00",
          "tps_parcours2": ""
         },
         {
          "h_rocade": "2019-02-01T15:00:00",
          "tps_parcours2": ""
         },
         {
          "h_rocade": "2019-02-01T15:15:00",
          "tps_parcours2": ""
         },
         {
          "h_rocade": "2019-02-01T15:30:00",
          "tps_parcours2": ""
         },
         {
          "h_rocade": "2019-02-01T15:45:00",
          "tps_parcours2": ""
         },
         {
          "h_rocade": "2019-02-01T16:00:00",
          "tps_parcours2": ""
         },
         {
          "h_rocade": "2019-02-01T16:15:00",
          "tps_parcours2": "2019-01-31T02:48:51.500000"
         },
         {
          "h_rocade": "2019-02-01T16:30:00",
          "tps_parcours2": "2019-01-31T03:05:07.833333333"
         },
         {
          "h_rocade": "2019-02-01T16:45:00",
          "tps_parcours2": "2019-01-31T02:09:58.500000"
         },
         {
          "h_rocade": "2019-02-01T17:00:00",
          "tps_parcours2": "2019-01-31T02:21:38"
         },
         {
          "h_rocade": "2019-02-01T17:15:00",
          "tps_parcours2": "2019-01-31T02:22:11"
         },
         {
          "h_rocade": "2019-02-01T17:30:00",
          "tps_parcours2": ""
         },
         {
          "h_rocade": "2019-02-01T17:45:00",
          "tps_parcours2": ""
         },
         {
          "h_rocade": "2019-02-01T18:00:00",
          "tps_parcours2": "2019-01-31T02:06:55"
         },
         {
          "h_rocade": "2019-02-01T18:15:00",
          "tps_parcours2": ""
         },
         {
          "h_rocade": "2019-02-01T18:30:00",
          "tps_parcours2": ""
         },
         {
          "h_rocade": "2019-02-01T18:45:00",
          "tps_parcours2": "2019-01-31T01:32:34.500000"
         },
         {
          "h_rocade": "2019-02-01T19:00:00",
          "tps_parcours2": "2019-01-31T01:33:29"
         },
         {
          "h_rocade": "2019-02-01T19:15:00",
          "tps_parcours2": "2019-01-31T01:33:28"
         },
         {
          "h_rocade": "2019-02-01T19:30:00",
          "tps_parcours2": "2019-01-31T01:42:55.250000"
         },
         {
          "h_rocade": "2019-02-01T19:45:00",
          "tps_parcours2": ""
         },
         {
          "h_rocade": "2019-02-01T20:00:00",
          "tps_parcours2": "2019-01-31T02:38:16"
         },
         {
          "h_rocade": "2019-02-01T20:15:00",
          "tps_parcours2": "2019-01-31T01:33:51"
         },
         {
          "h_rocade": "2019-02-01T20:30:00",
          "tps_parcours2": "2019-01-31T01:37:26"
         },
         {
          "h_rocade": "2019-02-01T20:45:00",
          "tps_parcours2": ""
         },
         {
          "h_rocade": "2019-02-01T21:00:00",
          "tps_parcours2": ""
         },
         {
          "h_rocade": "2019-02-01T21:15:00",
          "tps_parcours2": ""
         },
         {
          "h_rocade": "2019-02-01T21:30:00",
          "tps_parcours2": "2019-01-31T01:30:13"
         },
         {
          "h_rocade": "2019-02-01T21:45:00",
          "tps_parcours2": ""
         },
         {
          "h_rocade": "2019-02-01T22:00:00",
          "tps_parcours2": ""
         },
         {
          "h_rocade": "2019-02-01T22:15:00",
          "tps_parcours2": "2019-01-31T01:41:33.500000"
         },
         {
          "h_rocade": "2019-02-01T22:30:00",
          "tps_parcours2": "2019-01-31T02:11:09.600000"
         },
         {
          "h_rocade": "2019-02-01T22:45:00",
          "tps_parcours2": "2019-01-31T01:48:49.500000"
         },
         {
          "h_rocade": "2019-02-01T23:00:00",
          "tps_parcours2": ""
         },
         {
          "h_rocade": "2019-02-01T23:15:00",
          "tps_parcours2": ""
         },
         {
          "h_rocade": "2019-02-01T23:30:00",
          "tps_parcours2": ""
         },
         {
          "h_rocade": "2019-02-01T23:45:00",
          "tps_parcours2": "2019-01-31T01:41:03"
         },
         {
          "h_rocade": "2019-02-02T00:00:00",
          "tps_parcours2": ""
         },
         {
          "h_rocade": "2019-02-02T00:15:00",
          "tps_parcours2": ""
         },
         {
          "h_rocade": "2019-02-02T00:30:00",
          "tps_parcours2": ""
         },
         {
          "h_rocade": "2019-02-02T00:45:00",
          "tps_parcours2": ""
         },
         {
          "h_rocade": "2019-02-02T01:00:00",
          "tps_parcours2": ""
         },
         {
          "h_rocade": "2019-02-02T01:15:00",
          "tps_parcours2": ""
         },
         {
          "h_rocade": "2019-02-02T01:30:00",
          "tps_parcours2": ""
         },
         {
          "h_rocade": "2019-02-02T01:45:00",
          "tps_parcours2": ""
         },
         {
          "h_rocade": "2019-02-02T02:00:00",
          "tps_parcours2": ""
         },
         {
          "h_rocade": "2019-02-02T02:15:00",
          "tps_parcours2": ""
         },
         {
          "h_rocade": "2019-02-02T02:30:00",
          "tps_parcours2": ""
         },
         {
          "h_rocade": "2019-02-02T02:45:00",
          "tps_parcours2": ""
         },
         {
          "h_rocade": "2019-02-02T03:00:00",
          "tps_parcours2": ""
         },
         {
          "h_rocade": "2019-02-02T03:15:00",
          "tps_parcours2": ""
         },
         {
          "h_rocade": "2019-02-02T03:30:00",
          "tps_parcours2": ""
         },
         {
          "h_rocade": "2019-02-02T03:45:00",
          "tps_parcours2": ""
         },
         {
          "h_rocade": "2019-02-02T04:00:00",
          "tps_parcours2": ""
         },
         {
          "h_rocade": "2019-02-02T04:15:00",
          "tps_parcours2": ""
         },
         {
          "h_rocade": "2019-02-02T04:30:00",
          "tps_parcours2": ""
         },
         {
          "h_rocade": "2019-02-02T04:45:00",
          "tps_parcours2": ""
         },
         {
          "h_rocade": "2019-02-02T05:00:00",
          "tps_parcours2": ""
         },
         {
          "h_rocade": "2019-02-02T05:15:00",
          "tps_parcours2": ""
         },
         {
          "h_rocade": "2019-02-02T05:30:00",
          "tps_parcours2": ""
         },
         {
          "h_rocade": "2019-02-02T05:45:00",
          "tps_parcours2": ""
         },
         {
          "h_rocade": "2019-02-02T06:00:00",
          "tps_parcours2": ""
         },
         {
          "h_rocade": "2019-02-02T06:15:00",
          "tps_parcours2": ""
         },
         {
          "h_rocade": "2019-02-02T06:30:00",
          "tps_parcours2": ""
         },
         {
          "h_rocade": "2019-02-02T06:45:00",
          "tps_parcours2": ""
         },
         {
          "h_rocade": "2019-02-02T07:00:00",
          "tps_parcours2": ""
         },
         {
          "h_rocade": "2019-02-02T07:15:00",
          "tps_parcours2": ""
         },
         {
          "h_rocade": "2019-02-02T07:30:00",
          "tps_parcours2": ""
         },
         {
          "h_rocade": "2019-02-02T07:45:00",
          "tps_parcours2": ""
         },
         {
          "h_rocade": "2019-02-02T08:00:00",
          "tps_parcours2": ""
         },
         {
          "h_rocade": "2019-02-02T08:15:00",
          "tps_parcours2": ""
         },
         {
          "h_rocade": "2019-02-02T08:30:00",
          "tps_parcours2": ""
         },
         {
          "h_rocade": "2019-02-02T08:45:00",
          "tps_parcours2": ""
         },
         {
          "h_rocade": "2019-02-02T09:00:00",
          "tps_parcours2": ""
         },
         {
          "h_rocade": "2019-02-02T09:15:00",
          "tps_parcours2": ""
         },
         {
          "h_rocade": "2019-02-02T09:30:00",
          "tps_parcours2": ""
         },
         {
          "h_rocade": "2019-02-02T09:45:00",
          "tps_parcours2": ""
         },
         {
          "h_rocade": "2019-02-02T10:00:00",
          "tps_parcours2": ""
         },
         {
          "h_rocade": "2019-02-02T10:15:00",
          "tps_parcours2": ""
         },
         {
          "h_rocade": "2019-02-02T10:30:00",
          "tps_parcours2": ""
         },
         {
          "h_rocade": "2019-02-02T10:45:00",
          "tps_parcours2": ""
         },
         {
          "h_rocade": "2019-02-02T11:00:00",
          "tps_parcours2": ""
         },
         {
          "h_rocade": "2019-02-02T11:15:00",
          "tps_parcours2": ""
         },
         {
          "h_rocade": "2019-02-02T11:30:00",
          "tps_parcours2": ""
         },
         {
          "h_rocade": "2019-02-02T11:45:00",
          "tps_parcours2": ""
         },
         {
          "h_rocade": "2019-02-02T12:00:00",
          "tps_parcours2": ""
         },
         {
          "h_rocade": "2019-02-02T12:15:00",
          "tps_parcours2": ""
         },
         {
          "h_rocade": "2019-02-02T12:30:00",
          "tps_parcours2": ""
         },
         {
          "h_rocade": "2019-02-02T12:45:00",
          "tps_parcours2": ""
         },
         {
          "h_rocade": "2019-02-02T13:00:00",
          "tps_parcours2": ""
         },
         {
          "h_rocade": "2019-02-02T13:15:00",
          "tps_parcours2": ""
         },
         {
          "h_rocade": "2019-02-02T13:30:00",
          "tps_parcours2": ""
         },
         {
          "h_rocade": "2019-02-02T13:45:00",
          "tps_parcours2": ""
         },
         {
          "h_rocade": "2019-02-02T14:00:00",
          "tps_parcours2": ""
         },
         {
          "h_rocade": "2019-02-02T14:15:00",
          "tps_parcours2": ""
         },
         {
          "h_rocade": "2019-02-02T14:30:00",
          "tps_parcours2": ""
         },
         {
          "h_rocade": "2019-02-02T14:45:00",
          "tps_parcours2": ""
         },
         {
          "h_rocade": "2019-02-02T15:00:00",
          "tps_parcours2": ""
         },
         {
          "h_rocade": "2019-02-02T15:15:00",
          "tps_parcours2": ""
         },
         {
          "h_rocade": "2019-02-02T15:30:00",
          "tps_parcours2": ""
         },
         {
          "h_rocade": "2019-02-02T15:45:00",
          "tps_parcours2": ""
         },
         {
          "h_rocade": "2019-02-02T16:00:00",
          "tps_parcours2": ""
         },
         {
          "h_rocade": "2019-02-02T16:15:00",
          "tps_parcours2": ""
         },
         {
          "h_rocade": "2019-02-02T16:30:00",
          "tps_parcours2": ""
         },
         {
          "h_rocade": "2019-02-02T16:45:00",
          "tps_parcours2": ""
         },
         {
          "h_rocade": "2019-02-02T17:00:00",
          "tps_parcours2": ""
         },
         {
          "h_rocade": "2019-02-02T17:15:00",
          "tps_parcours2": ""
         },
         {
          "h_rocade": "2019-02-02T17:30:00",
          "tps_parcours2": ""
         },
         {
          "h_rocade": "2019-02-02T17:45:00",
          "tps_parcours2": ""
         },
         {
          "h_rocade": "2019-02-02T18:00:00",
          "tps_parcours2": ""
         },
         {
          "h_rocade": "2019-02-02T18:15:00",
          "tps_parcours2": ""
         },
         {
          "h_rocade": "2019-02-02T18:30:00",
          "tps_parcours2": ""
         },
         {
          "h_rocade": "2019-02-02T18:45:00",
          "tps_parcours2": ""
         },
         {
          "h_rocade": "2019-02-02T19:00:00",
          "tps_parcours2": ""
         },
         {
          "h_rocade": "2019-02-02T19:15:00",
          "tps_parcours2": ""
         },
         {
          "h_rocade": "2019-02-02T19:30:00",
          "tps_parcours2": ""
         },
         {
          "h_rocade": "2019-02-02T19:45:00",
          "tps_parcours2": ""
         },
         {
          "h_rocade": "2019-02-02T20:00:00",
          "tps_parcours2": ""
         },
         {
          "h_rocade": "2019-02-02T20:15:00",
          "tps_parcours2": ""
         },
         {
          "h_rocade": "2019-02-02T20:30:00",
          "tps_parcours2": ""
         },
         {
          "h_rocade": "2019-02-02T20:45:00",
          "tps_parcours2": ""
         },
         {
          "h_rocade": "2019-02-02T21:00:00",
          "tps_parcours2": ""
         },
         {
          "h_rocade": "2019-02-02T21:15:00",
          "tps_parcours2": ""
         },
         {
          "h_rocade": "2019-02-02T21:30:00",
          "tps_parcours2": ""
         },
         {
          "h_rocade": "2019-02-02T21:45:00",
          "tps_parcours2": ""
         },
         {
          "h_rocade": "2019-02-02T22:00:00",
          "tps_parcours2": ""
         },
         {
          "h_rocade": "2019-02-02T22:15:00",
          "tps_parcours2": ""
         },
         {
          "h_rocade": "2019-02-02T22:30:00",
          "tps_parcours2": ""
         },
         {
          "h_rocade": "2019-02-02T22:45:00",
          "tps_parcours2": ""
         },
         {
          "h_rocade": "2019-02-02T23:00:00",
          "tps_parcours2": ""
         },
         {
          "h_rocade": "2019-02-02T23:15:00",
          "tps_parcours2": ""
         },
         {
          "h_rocade": "2019-02-02T23:30:00",
          "tps_parcours2": ""
         },
         {
          "h_rocade": "2019-02-02T23:45:00",
          "tps_parcours2": ""
         },
         {
          "h_rocade": "2019-02-03T00:00:00",
          "tps_parcours2": ""
         },
         {
          "h_rocade": "2019-02-03T00:15:00",
          "tps_parcours2": ""
         },
         {
          "h_rocade": "2019-02-03T00:30:00",
          "tps_parcours2": ""
         },
         {
          "h_rocade": "2019-02-03T00:45:00",
          "tps_parcours2": ""
         },
         {
          "h_rocade": "2019-02-03T01:00:00",
          "tps_parcours2": ""
         },
         {
          "h_rocade": "2019-02-03T01:15:00",
          "tps_parcours2": ""
         },
         {
          "h_rocade": "2019-02-03T01:30:00",
          "tps_parcours2": ""
         },
         {
          "h_rocade": "2019-02-03T01:45:00",
          "tps_parcours2": ""
         },
         {
          "h_rocade": "2019-02-03T02:00:00",
          "tps_parcours2": ""
         },
         {
          "h_rocade": "2019-02-03T02:15:00",
          "tps_parcours2": ""
         },
         {
          "h_rocade": "2019-02-03T02:30:00",
          "tps_parcours2": ""
         },
         {
          "h_rocade": "2019-02-03T02:45:00",
          "tps_parcours2": ""
         },
         {
          "h_rocade": "2019-02-03T03:00:00",
          "tps_parcours2": ""
         },
         {
          "h_rocade": "2019-02-03T03:15:00",
          "tps_parcours2": ""
         },
         {
          "h_rocade": "2019-02-03T03:30:00",
          "tps_parcours2": ""
         },
         {
          "h_rocade": "2019-02-03T03:45:00",
          "tps_parcours2": ""
         },
         {
          "h_rocade": "2019-02-03T04:00:00",
          "tps_parcours2": ""
         },
         {
          "h_rocade": "2019-02-03T04:15:00",
          "tps_parcours2": ""
         },
         {
          "h_rocade": "2019-02-03T04:30:00",
          "tps_parcours2": ""
         },
         {
          "h_rocade": "2019-02-03T04:45:00",
          "tps_parcours2": ""
         },
         {
          "h_rocade": "2019-02-03T05:00:00",
          "tps_parcours2": ""
         },
         {
          "h_rocade": "2019-02-03T05:15:00",
          "tps_parcours2": ""
         },
         {
          "h_rocade": "2019-02-03T05:30:00",
          "tps_parcours2": ""
         },
         {
          "h_rocade": "2019-02-03T05:45:00",
          "tps_parcours2": ""
         },
         {
          "h_rocade": "2019-02-03T06:00:00",
          "tps_parcours2": ""
         },
         {
          "h_rocade": "2019-02-03T06:15:00",
          "tps_parcours2": ""
         },
         {
          "h_rocade": "2019-02-03T06:30:00",
          "tps_parcours2": ""
         },
         {
          "h_rocade": "2019-02-03T06:45:00",
          "tps_parcours2": ""
         },
         {
          "h_rocade": "2019-02-03T07:00:00",
          "tps_parcours2": ""
         },
         {
          "h_rocade": "2019-02-03T07:15:00",
          "tps_parcours2": ""
         },
         {
          "h_rocade": "2019-02-03T07:30:00",
          "tps_parcours2": ""
         },
         {
          "h_rocade": "2019-02-03T07:45:00",
          "tps_parcours2": ""
         },
         {
          "h_rocade": "2019-02-03T08:00:00",
          "tps_parcours2": ""
         },
         {
          "h_rocade": "2019-02-03T08:15:00",
          "tps_parcours2": ""
         },
         {
          "h_rocade": "2019-02-03T08:30:00",
          "tps_parcours2": ""
         },
         {
          "h_rocade": "2019-02-03T08:45:00",
          "tps_parcours2": ""
         },
         {
          "h_rocade": "2019-02-03T09:00:00",
          "tps_parcours2": ""
         },
         {
          "h_rocade": "2019-02-03T09:15:00",
          "tps_parcours2": ""
         },
         {
          "h_rocade": "2019-02-03T09:30:00",
          "tps_parcours2": ""
         },
         {
          "h_rocade": "2019-02-03T09:45:00",
          "tps_parcours2": ""
         },
         {
          "h_rocade": "2019-02-03T10:00:00",
          "tps_parcours2": ""
         },
         {
          "h_rocade": "2019-02-03T10:15:00",
          "tps_parcours2": ""
         },
         {
          "h_rocade": "2019-02-03T10:30:00",
          "tps_parcours2": ""
         },
         {
          "h_rocade": "2019-02-03T10:45:00",
          "tps_parcours2": ""
         },
         {
          "h_rocade": "2019-02-03T11:00:00",
          "tps_parcours2": ""
         },
         {
          "h_rocade": "2019-02-03T11:15:00",
          "tps_parcours2": ""
         },
         {
          "h_rocade": "2019-02-03T11:30:00",
          "tps_parcours2": ""
         },
         {
          "h_rocade": "2019-02-03T11:45:00",
          "tps_parcours2": ""
         },
         {
          "h_rocade": "2019-02-03T12:00:00",
          "tps_parcours2": ""
         },
         {
          "h_rocade": "2019-02-03T12:15:00",
          "tps_parcours2": ""
         },
         {
          "h_rocade": "2019-02-03T12:30:00",
          "tps_parcours2": ""
         },
         {
          "h_rocade": "2019-02-03T12:45:00",
          "tps_parcours2": ""
         },
         {
          "h_rocade": "2019-02-03T13:00:00",
          "tps_parcours2": ""
         },
         {
          "h_rocade": "2019-02-03T13:15:00",
          "tps_parcours2": ""
         },
         {
          "h_rocade": "2019-02-03T13:30:00",
          "tps_parcours2": ""
         },
         {
          "h_rocade": "2019-02-03T13:45:00",
          "tps_parcours2": ""
         },
         {
          "h_rocade": "2019-02-03T14:00:00",
          "tps_parcours2": ""
         },
         {
          "h_rocade": "2019-02-03T14:15:00",
          "tps_parcours2": ""
         },
         {
          "h_rocade": "2019-02-03T14:30:00",
          "tps_parcours2": ""
         },
         {
          "h_rocade": "2019-02-03T14:45:00",
          "tps_parcours2": ""
         },
         {
          "h_rocade": "2019-02-03T15:00:00",
          "tps_parcours2": ""
         },
         {
          "h_rocade": "2019-02-03T15:15:00",
          "tps_parcours2": ""
         },
         {
          "h_rocade": "2019-02-03T15:30:00",
          "tps_parcours2": ""
         },
         {
          "h_rocade": "2019-02-03T15:45:00",
          "tps_parcours2": ""
         },
         {
          "h_rocade": "2019-02-03T16:00:00",
          "tps_parcours2": ""
         },
         {
          "h_rocade": "2019-02-03T16:15:00",
          "tps_parcours2": ""
         },
         {
          "h_rocade": "2019-02-03T16:30:00",
          "tps_parcours2": ""
         },
         {
          "h_rocade": "2019-02-03T16:45:00",
          "tps_parcours2": ""
         },
         {
          "h_rocade": "2019-02-03T17:00:00",
          "tps_parcours2": ""
         },
         {
          "h_rocade": "2019-02-03T17:15:00",
          "tps_parcours2": ""
         },
         {
          "h_rocade": "2019-02-03T17:30:00",
          "tps_parcours2": ""
         },
         {
          "h_rocade": "2019-02-03T17:45:00",
          "tps_parcours2": ""
         },
         {
          "h_rocade": "2019-02-03T18:00:00",
          "tps_parcours2": ""
         },
         {
          "h_rocade": "2019-02-03T18:15:00",
          "tps_parcours2": ""
         },
         {
          "h_rocade": "2019-02-03T18:30:00",
          "tps_parcours2": ""
         },
         {
          "h_rocade": "2019-02-03T18:45:00",
          "tps_parcours2": ""
         },
         {
          "h_rocade": "2019-02-03T19:00:00",
          "tps_parcours2": ""
         },
         {
          "h_rocade": "2019-02-03T19:15:00",
          "tps_parcours2": ""
         },
         {
          "h_rocade": "2019-02-03T19:30:00",
          "tps_parcours2": ""
         },
         {
          "h_rocade": "2019-02-03T19:45:00",
          "tps_parcours2": ""
         },
         {
          "h_rocade": "2019-02-03T20:00:00",
          "tps_parcours2": ""
         },
         {
          "h_rocade": "2019-02-03T20:15:00",
          "tps_parcours2": ""
         },
         {
          "h_rocade": "2019-02-03T20:30:00",
          "tps_parcours2": ""
         },
         {
          "h_rocade": "2019-02-03T20:45:00",
          "tps_parcours2": ""
         },
         {
          "h_rocade": "2019-02-03T21:00:00",
          "tps_parcours2": ""
         },
         {
          "h_rocade": "2019-02-03T21:15:00",
          "tps_parcours2": ""
         },
         {
          "h_rocade": "2019-02-03T21:30:00",
          "tps_parcours2": ""
         },
         {
          "h_rocade": "2019-02-03T21:45:00",
          "tps_parcours2": ""
         },
         {
          "h_rocade": "2019-02-03T22:00:00",
          "tps_parcours2": ""
         },
         {
          "h_rocade": "2019-02-03T22:15:00",
          "tps_parcours2": ""
         },
         {
          "h_rocade": "2019-02-03T22:30:00",
          "tps_parcours2": ""
         },
         {
          "h_rocade": "2019-02-03T22:45:00",
          "tps_parcours2": ""
         },
         {
          "h_rocade": "2019-02-03T23:00:00",
          "tps_parcours2": ""
         },
         {
          "h_rocade": "2019-02-03T23:15:00",
          "tps_parcours2": ""
         },
         {
          "h_rocade": "2019-02-03T23:30:00",
          "tps_parcours2": ""
         },
         {
          "h_rocade": "2019-02-03T23:45:00",
          "tps_parcours2": ""
         },
         {
          "h_rocade": "2019-02-04T00:00:00",
          "tps_parcours2": "2019-01-31T01:55:23"
         },
         {
          "h_rocade": "2019-02-04T00:15:00",
          "tps_parcours2": "2019-01-31T01:31:24.500000"
         }
        ]
       },
       "encoding": {
        "x": {
         "field": "h_rocade",
         "type": "temporal"
        },
        "y": {
         "field": "tps_parcours2",
         "type": "temporal"
        }
       },
       "mark": "line",
       "width": 800
      },
      "image/png": "[encoded data removed]",
      "text/plain": [
       "<VegaLite 2 object>\n",
       "\n",
       "If you see this message, it means the renderer has not been properly enabled\n",
       "for the frontend that you are using. For more information, see\n",
       "https://altair-viz.github.io/user_guide/troubleshooting.html\n"
      ]
     },
     "execution_count": 184,
     "metadata": {},
     "output_type": "execute_result"
    }
   ],
   "source": [
    "alt.Chart(pour_graph).mark_line().encode(\n",
    "    x='h_rocade:T',\n",
    "    y='tps_parcours2').properties(width=800)"
   ]
  },
  {
   "cell_type": "code",
   "execution_count": 140,
   "metadata": {},
   "outputs": [
    {
     "data": {
      "text/html": [
       "<div>\n",
       "<style scoped>\n",
       "    .dataframe tbody tr th:only-of-type {\n",
       "        vertical-align: middle;\n",
       "    }\n",
       "\n",
       "    .dataframe tbody tr th {\n",
       "        vertical-align: top;\n",
       "    }\n",
       "\n",
       "    .dataframe thead th {\n",
       "        text-align: right;\n",
       "    }\n",
       "</style>\n",
       "<table border=\"1\" class=\"dataframe\">\n",
       "  <thead>\n",
       "    <tr style=\"text-align: right;\">\n",
       "      <th></th>\n",
       "      <th>date_cam_1</th>\n",
       "      <th>index</th>\n",
       "      <th>immat</th>\n",
       "      <th>l</th>\n",
       "      <th>state</th>\n",
       "      <th>id</th>\n",
       "      <th>date_cam_2</th>\n",
       "      <th>cameras</th>\n",
       "      <th>origine</th>\n",
       "      <th>destination</th>\n",
       "      <th>o_d</th>\n",
       "      <th>tps_parcours</th>\n",
       "      <th>period</th>\n",
       "      <th>date</th>\n",
       "      <th>temps</th>\n",
       "      <th>type</th>\n",
       "      <th>tps_parcours_theoriq</th>\n",
       "      <th>filtre_tps</th>\n",
       "    </tr>\n",
       "  </thead>\n",
       "  <tbody>\n",
       "    <tr>\n",
       "      <th>39342</th>\n",
       "      <td>2019-01-28 22:09:35</td>\n",
       "      <td>1470226</td>\n",
       "      <td>257f094676ed7d7cdd57ceddb8cb8b701f19f56b</td>\n",
       "      <td>1</td>\n",
       "      <td>FR</td>\n",
       "      <td>302358</td>\n",
       "      <td>2019-01-28 22:44:43</td>\n",
       "      <td>(12, 6, 3, 9)</td>\n",
       "      <td>A10</td>\n",
       "      <td>A62</td>\n",
       "      <td>A10-A62</td>\n",
       "      <td>00:35:08</td>\n",
       "      <td>2019-01-28 22:00</td>\n",
       "      <td>2019-01-28 22:00:00</td>\n",
       "      <td>00:35:08</td>\n",
       "      <td>85eme_percentile</td>\n",
       "      <td>00:37:30.618000</td>\n",
       "      <td>1</td>\n",
       "    </tr>\n",
       "    <tr>\n",
       "      <th>16305</th>\n",
       "      <td>2019-01-28 23:54:29</td>\n",
       "      <td>1462459</td>\n",
       "      <td>416963f2dc08205eaccdb2344f05ce0c91c5af90</td>\n",
       "      <td>1</td>\n",
       "      <td>FR</td>\n",
       "      <td>527971</td>\n",
       "      <td>2019-01-29 00:32:45</td>\n",
       "      <td>(12, 3, 9)</td>\n",
       "      <td>A10</td>\n",
       "      <td>A62</td>\n",
       "      <td>A10-A62</td>\n",
       "      <td>00:38:16</td>\n",
       "      <td>2019-01-28 23:00</td>\n",
       "      <td>2019-01-28 23:00:00</td>\n",
       "      <td>00:38:16</td>\n",
       "      <td>85eme_percentile</td>\n",
       "      <td>00:37:30.618000</td>\n",
       "      <td>1</td>\n",
       "    </tr>\n",
       "    <tr>\n",
       "      <th>16306</th>\n",
       "      <td>2019-01-29 01:18:01</td>\n",
       "      <td>1518339</td>\n",
       "      <td>74075d5bfd352363adc505957095b394a20c90d1</td>\n",
       "      <td>1</td>\n",
       "      <td>FR</td>\n",
       "      <td>937887</td>\n",
       "      <td>2019-01-29 01:59:07</td>\n",
       "      <td>(12, 3, 9)</td>\n",
       "      <td>A10</td>\n",
       "      <td>A62</td>\n",
       "      <td>A10-A62</td>\n",
       "      <td>00:41:06</td>\n",
       "      <td>2019-01-29 01:00</td>\n",
       "      <td>2019-01-29 01:00:00</td>\n",
       "      <td>00:41:06</td>\n",
       "      <td>85eme_percentile</td>\n",
       "      <td>00:37:30.618000</td>\n",
       "      <td>1</td>\n",
       "    </tr>\n",
       "    <tr>\n",
       "      <th>51746</th>\n",
       "      <td>2019-01-29 04:29:26</td>\n",
       "      <td>1566388</td>\n",
       "      <td>6b1d13f7fcd523aa44927c0c016e6fa0253b0e03</td>\n",
       "      <td>1</td>\n",
       "      <td>FR</td>\n",
       "      <td>865555</td>\n",
       "      <td>2019-01-29 05:07:01</td>\n",
       "      <td>(12, 9)</td>\n",
       "      <td>A10</td>\n",
       "      <td>A62</td>\n",
       "      <td>A10-A62</td>\n",
       "      <td>00:37:35</td>\n",
       "      <td>2019-01-29 04:00</td>\n",
       "      <td>2019-01-29 04:00:00</td>\n",
       "      <td>00:38:26.100000</td>\n",
       "      <td>85eme_percentile</td>\n",
       "      <td>00:37:30.618000</td>\n",
       "      <td>1</td>\n",
       "    </tr>\n",
       "    <tr>\n",
       "      <th>16307</th>\n",
       "      <td>2019-01-29 04:34:31</td>\n",
       "      <td>1556267</td>\n",
       "      <td>1fe80a61fe87392d17103b5aeed958300dbe260d</td>\n",
       "      <td>1</td>\n",
       "      <td>FR</td>\n",
       "      <td>257669</td>\n",
       "      <td>2019-01-29 05:11:52</td>\n",
       "      <td>(12, 3, 9)</td>\n",
       "      <td>A10</td>\n",
       "      <td>A62</td>\n",
       "      <td>A10-A62</td>\n",
       "      <td>00:37:21</td>\n",
       "      <td>2019-01-29 04:00</td>\n",
       "      <td>2019-01-29 04:00:00</td>\n",
       "      <td>00:38:26.100000</td>\n",
       "      <td>85eme_percentile</td>\n",
       "      <td>00:37:30.618000</td>\n",
       "      <td>1</td>\n",
       "    </tr>\n",
       "    <tr>\n",
       "      <th>50685</th>\n",
       "      <td>2019-01-29 04:50:39</td>\n",
       "      <td>1579378</td>\n",
       "      <td>f1fb586680266e5ef848a455dfac5cdbec6307a5</td>\n",
       "      <td>1</td>\n",
       "      <td>FR</td>\n",
       "      <td>1960162</td>\n",
       "      <td>2019-01-29 05:29:27</td>\n",
       "      <td>(12, 6, 9)</td>\n",
       "      <td>A10</td>\n",
       "      <td>A62</td>\n",
       "      <td>A10-A62</td>\n",
       "      <td>00:38:48</td>\n",
       "      <td>2019-01-29 04:00</td>\n",
       "      <td>2019-01-29 04:00:00</td>\n",
       "      <td>00:38:26.100000</td>\n",
       "      <td>85eme_percentile</td>\n",
       "      <td>00:37:30.618000</td>\n",
       "      <td>1</td>\n",
       "    </tr>\n",
       "    <tr>\n",
       "      <th>39343</th>\n",
       "      <td>2019-01-29 05:25:15</td>\n",
       "      <td>1462454</td>\n",
       "      <td>c4146efc7c3c43fedb56a30994dce3bad17d16e5</td>\n",
       "      <td>1</td>\n",
       "      <td>FR</td>\n",
       "      <td>1587851</td>\n",
       "      <td>2019-01-29 06:13:02</td>\n",
       "      <td>(12, 6, 3, 9)</td>\n",
       "      <td>A10</td>\n",
       "      <td>A62</td>\n",
       "      <td>A10-A62</td>\n",
       "      <td>00:47:47</td>\n",
       "      <td>2019-01-29 05:00</td>\n",
       "      <td>2019-01-29 05:00:00</td>\n",
       "      <td>00:47:47</td>\n",
       "      <td>85eme_percentile</td>\n",
       "      <td>00:37:30.618000</td>\n",
       "      <td>1</td>\n",
       "    </tr>\n",
       "    <tr>\n",
       "      <th>39344</th>\n",
       "      <td>2019-01-29 07:35:01</td>\n",
       "      <td>1556263</td>\n",
       "      <td>03d1dfe1efcd48b5d920eb8d89a6c49047470802</td>\n",
       "      <td>1</td>\n",
       "      <td>FR</td>\n",
       "      <td>30628</td>\n",
       "      <td>2019-01-29 08:46:42</td>\n",
       "      <td>(12, 6, 3, 9)</td>\n",
       "      <td>A10</td>\n",
       "      <td>A62</td>\n",
       "      <td>A10-A62</td>\n",
       "      <td>01:11:41</td>\n",
       "      <td>2019-01-29 07:30</td>\n",
       "      <td>2019-01-29 07:30:00</td>\n",
       "      <td>01:11:41</td>\n",
       "      <td>Cluster</td>\n",
       "      <td>00:37:30.618000</td>\n",
       "      <td>1</td>\n",
       "    </tr>\n",
       "    <tr>\n",
       "      <th>16308</th>\n",
       "      <td>2019-01-29 07:35:04</td>\n",
       "      <td>1593503</td>\n",
       "      <td>1c3f23cdb21394ac0fdc58d5c1fc2ec119ea8536</td>\n",
       "      <td>1</td>\n",
       "      <td>FR</td>\n",
       "      <td>228433</td>\n",
       "      <td>2019-01-29 08:34:17</td>\n",
       "      <td>(12, 3, 9)</td>\n",
       "      <td>A10</td>\n",
       "      <td>A62</td>\n",
       "      <td>A10-A62</td>\n",
       "      <td>00:59:13</td>\n",
       "      <td>2019-01-29 07:30</td>\n",
       "      <td>2019-01-29 07:30:00</td>\n",
       "      <td>01:11:41</td>\n",
       "      <td>Cluster</td>\n",
       "      <td>00:37:30.618000</td>\n",
       "      <td>1</td>\n",
       "    </tr>\n",
       "    <tr>\n",
       "      <th>39345</th>\n",
       "      <td>2019-01-29 07:43:39</td>\n",
       "      <td>1574423</td>\n",
       "      <td>f5490d2e351b080fe5006e5a86517cb59ce21b00</td>\n",
       "      <td>1</td>\n",
       "      <td>FR</td>\n",
       "      <td>1986840</td>\n",
       "      <td>2019-01-29 08:34:06</td>\n",
       "      <td>(12, 6, 3, 9)</td>\n",
       "      <td>A10</td>\n",
       "      <td>A62</td>\n",
       "      <td>A10-A62</td>\n",
       "      <td>00:50:27</td>\n",
       "      <td>2019-01-29 07:30</td>\n",
       "      <td>2019-01-29 07:30:00</td>\n",
       "      <td>01:11:41</td>\n",
       "      <td>Cluster</td>\n",
       "      <td>00:37:30.618000</td>\n",
       "      <td>1</td>\n",
       "    </tr>\n",
       "    <tr>\n",
       "      <th>39346</th>\n",
       "      <td>2019-01-29 07:44:21</td>\n",
       "      <td>1452650</td>\n",
       "      <td>2b73655d98154cb09a851a71c49c55df30c37bfa</td>\n",
       "      <td>1</td>\n",
       "      <td>FR</td>\n",
       "      <td>351637</td>\n",
       "      <td>2019-01-29 08:52:36</td>\n",
       "      <td>(12, 6, 3, 9)</td>\n",
       "      <td>A10</td>\n",
       "      <td>A62</td>\n",
       "      <td>A10-A62</td>\n",
       "      <td>01:08:15</td>\n",
       "      <td>2019-01-29 07:30</td>\n",
       "      <td>2019-01-29 07:30:00</td>\n",
       "      <td>01:11:41</td>\n",
       "      <td>Cluster</td>\n",
       "      <td>00:37:30.618000</td>\n",
       "      <td>1</td>\n",
       "    </tr>\n",
       "    <tr>\n",
       "      <th>39348</th>\n",
       "      <td>2019-01-29 07:45:13</td>\n",
       "      <td>1462461</td>\n",
       "      <td>7dbaf1303152f27d5edb544f50ca289906d6589e</td>\n",
       "      <td>1</td>\n",
       "      <td>FR</td>\n",
       "      <td>1019190</td>\n",
       "      <td>2019-01-29 08:48:32</td>\n",
       "      <td>(12, 6, 3, 9)</td>\n",
       "      <td>A10</td>\n",
       "      <td>A62</td>\n",
       "      <td>A10-A62</td>\n",
       "      <td>01:03:19</td>\n",
       "      <td>2019-01-29 07:45</td>\n",
       "      <td>2019-01-29 07:45:00</td>\n",
       "      <td>00:55:21</td>\n",
       "      <td>Cluster</td>\n",
       "      <td>00:37:30.618000</td>\n",
       "      <td>1</td>\n",
       "    </tr>\n",
       "    <tr>\n",
       "      <th>50686</th>\n",
       "      <td>2019-01-29 07:54:36</td>\n",
       "      <td>332810</td>\n",
       "      <td>01ca06e21ee655a831c5ac6b24fb595a73a9abe5</td>\n",
       "      <td>1</td>\n",
       "      <td>ES</td>\n",
       "      <td>14408</td>\n",
       "      <td>2019-01-29 08:39:07</td>\n",
       "      <td>(12, 6, 9)</td>\n",
       "      <td>A10</td>\n",
       "      <td>A62</td>\n",
       "      <td>A10-A62</td>\n",
       "      <td>00:44:31</td>\n",
       "      <td>2019-01-29 07:45</td>\n",
       "      <td>2019-01-29 07:45:00</td>\n",
       "      <td>00:55:21</td>\n",
       "      <td>Cluster</td>\n",
       "      <td>00:37:30.618000</td>\n",
       "      <td>1</td>\n",
       "    </tr>\n",
       "    <tr>\n",
       "      <th>39349</th>\n",
       "      <td>2019-01-29 07:56:41</td>\n",
       "      <td>1566390</td>\n",
       "      <td>0cc521a1b7f9eea305ecb89db80fd4e4472575cb</td>\n",
       "      <td>1</td>\n",
       "      <td>FR</td>\n",
       "      <td>103778</td>\n",
       "      <td>2019-01-29 08:52:02</td>\n",
       "      <td>(12, 6, 3, 9)</td>\n",
       "      <td>A10</td>\n",
       "      <td>A62</td>\n",
       "      <td>A10-A62</td>\n",
       "      <td>00:55:21</td>\n",
       "      <td>2019-01-29 07:45</td>\n",
       "      <td>2019-01-29 07:45:00</td>\n",
       "      <td>00:55:21</td>\n",
       "      <td>Cluster</td>\n",
       "      <td>00:37:30.618000</td>\n",
       "      <td>1</td>\n",
       "    </tr>\n",
       "    <tr>\n",
       "      <th>39350</th>\n",
       "      <td>2019-01-29 07:57:40</td>\n",
       "      <td>1527243</td>\n",
       "      <td>de967033ba9be05984db09cf3142f8f1de41cd9f</td>\n",
       "      <td>1</td>\n",
       "      <td>FR</td>\n",
       "      <td>1802636</td>\n",
       "      <td>2019-01-29 08:52:13</td>\n",
       "      <td>(12, 6, 3, 9)</td>\n",
       "      <td>A10</td>\n",
       "      <td>A62</td>\n",
       "      <td>A10-A62</td>\n",
       "      <td>00:54:33</td>\n",
       "      <td>2019-01-29 07:45</td>\n",
       "      <td>2019-01-29 07:45:00</td>\n",
       "      <td>00:55:21</td>\n",
       "      <td>Cluster</td>\n",
       "      <td>00:37:30.618000</td>\n",
       "      <td>1</td>\n",
       "    </tr>\n",
       "    <tr>\n",
       "      <th>16310</th>\n",
       "      <td>2019-01-29 08:01:29</td>\n",
       "      <td>1470232</td>\n",
       "      <td>5d5468f8497afc93fed843b123a6ce3eaee13a11</td>\n",
       "      <td>1</td>\n",
       "      <td>FR</td>\n",
       "      <td>753782</td>\n",
       "      <td>2019-01-29 08:53:11</td>\n",
       "      <td>(12, 3, 9)</td>\n",
       "      <td>A10</td>\n",
       "      <td>A62</td>\n",
       "      <td>A10-A62</td>\n",
       "      <td>00:51:42</td>\n",
       "      <td>2019-01-29 08:00</td>\n",
       "      <td>2019-01-29 08:00:00</td>\n",
       "      <td>00:51:42</td>\n",
       "      <td>Cluster</td>\n",
       "      <td>00:37:30.618000</td>\n",
       "      <td>1</td>\n",
       "    </tr>\n",
       "    <tr>\n",
       "      <th>39353</th>\n",
       "      <td>2019-01-29 08:03:59</td>\n",
       "      <td>1546653</td>\n",
       "      <td>8c6020a74715a66bafa180a9a443db1177ea28cd</td>\n",
       "      <td>1</td>\n",
       "      <td>FR</td>\n",
       "      <td>1138407</td>\n",
       "      <td>2019-01-29 08:44:44</td>\n",
       "      <td>(12, 6, 3, 9)</td>\n",
       "      <td>A10</td>\n",
       "      <td>A62</td>\n",
       "      <td>A10-A62</td>\n",
       "      <td>00:40:45</td>\n",
       "      <td>2019-01-29 08:00</td>\n",
       "      <td>2019-01-29 08:00:00</td>\n",
       "      <td>00:51:42</td>\n",
       "      <td>Cluster</td>\n",
       "      <td>00:37:30.618000</td>\n",
       "      <td>1</td>\n",
       "    </tr>\n",
       "    <tr>\n",
       "      <th>39354</th>\n",
       "      <td>2019-01-29 08:05:17</td>\n",
       "      <td>1573496</td>\n",
       "      <td>665c241ee81611d7bb52e2c4d4e8778ef00e26b2</td>\n",
       "      <td>1</td>\n",
       "      <td>FR</td>\n",
       "      <td>827167</td>\n",
       "      <td>2019-01-29 08:43:38</td>\n",
       "      <td>(12, 6, 3, 9)</td>\n",
       "      <td>A10</td>\n",
       "      <td>A62</td>\n",
       "      <td>A10-A62</td>\n",
       "      <td>00:38:21</td>\n",
       "      <td>2019-01-29 08:00</td>\n",
       "      <td>2019-01-29 08:00:00</td>\n",
       "      <td>00:51:42</td>\n",
       "      <td>Cluster</td>\n",
       "      <td>00:37:30.618000</td>\n",
       "      <td>1</td>\n",
       "    </tr>\n",
       "    <tr>\n",
       "      <th>39355</th>\n",
       "      <td>2019-01-29 08:05:37</td>\n",
       "      <td>1546654</td>\n",
       "      <td>ca2e97e68f032c15ce3e7e084b8c7715d5420475</td>\n",
       "      <td>1</td>\n",
       "      <td>FR</td>\n",
       "      <td>1638071</td>\n",
       "      <td>2019-01-29 08:54:41</td>\n",
       "      <td>(12, 6, 3, 9)</td>\n",
       "      <td>A10</td>\n",
       "      <td>A62</td>\n",
       "      <td>A10-A62</td>\n",
       "      <td>00:49:04</td>\n",
       "      <td>2019-01-29 08:00</td>\n",
       "      <td>2019-01-29 08:00:00</td>\n",
       "      <td>00:51:42</td>\n",
       "      <td>Cluster</td>\n",
       "      <td>00:37:30.618000</td>\n",
       "      <td>1</td>\n",
       "    </tr>\n",
       "    <tr>\n",
       "      <th>39357</th>\n",
       "      <td>2019-01-29 08:11:50</td>\n",
       "      <td>1527244</td>\n",
       "      <td>c74c1e3d30a9f02e1d71c79a2fcc5fd0575225c9</td>\n",
       "      <td>1</td>\n",
       "      <td>FR</td>\n",
       "      <td>1614384</td>\n",
       "      <td>2019-01-29 08:55:17</td>\n",
       "      <td>(12, 6, 3, 9)</td>\n",
       "      <td>A10</td>\n",
       "      <td>A62</td>\n",
       "      <td>A10-A62</td>\n",
       "      <td>00:43:27</td>\n",
       "      <td>2019-01-29 08:00</td>\n",
       "      <td>2019-01-29 08:00:00</td>\n",
       "      <td>00:51:42</td>\n",
       "      <td>Cluster</td>\n",
       "      <td>00:37:30.618000</td>\n",
       "      <td>1</td>\n",
       "    </tr>\n",
       "    <tr>\n",
       "      <th>39358</th>\n",
       "      <td>2019-01-29 08:15:07</td>\n",
       "      <td>1566393</td>\n",
       "      <td>b31cbda9b4241f5fd5d26e3d6fb609c539bdc1ca</td>\n",
       "      <td>1</td>\n",
       "      <td>FR</td>\n",
       "      <td>1450709</td>\n",
       "      <td>2019-01-29 08:59:34</td>\n",
       "      <td>(12, 6, 3, 9)</td>\n",
       "      <td>A10</td>\n",
       "      <td>A62</td>\n",
       "      <td>A10-A62</td>\n",
       "      <td>00:44:27</td>\n",
       "      <td>2019-01-29 08:15</td>\n",
       "      <td>2019-01-29 08:15:00</td>\n",
       "      <td>00:45:20</td>\n",
       "      <td>Cluster</td>\n",
       "      <td>00:37:30.618000</td>\n",
       "      <td>1</td>\n",
       "    </tr>\n",
       "    <tr>\n",
       "      <th>39359</th>\n",
       "      <td>2019-01-29 08:15:46</td>\n",
       "      <td>256186</td>\n",
       "      <td>07e9064d2b7e7be3ee035d7bef2398a7089ed574</td>\n",
       "      <td>1</td>\n",
       "      <td>PL</td>\n",
       "      <td>64648</td>\n",
       "      <td>2019-01-29 08:58:21</td>\n",
       "      <td>(12, 6, 3, 9)</td>\n",
       "      <td>A10</td>\n",
       "      <td>A62</td>\n",
       "      <td>A10-A62</td>\n",
       "      <td>00:42:35</td>\n",
       "      <td>2019-01-29 08:15</td>\n",
       "      <td>2019-01-29 08:15:00</td>\n",
       "      <td>00:45:20</td>\n",
       "      <td>Cluster</td>\n",
       "      <td>00:37:30.618000</td>\n",
       "      <td>1</td>\n",
       "    </tr>\n",
       "    <tr>\n",
       "      <th>39361</th>\n",
       "      <td>2019-01-29 08:16:24</td>\n",
       "      <td>1508345</td>\n",
       "      <td>0614a84e9aada6073ea2dff6f95e80dd3d8968c5</td>\n",
       "      <td>1</td>\n",
       "      <td>FR</td>\n",
       "      <td>49376</td>\n",
       "      <td>2019-01-29 09:00:48</td>\n",
       "      <td>(12, 6, 3, 9)</td>\n",
       "      <td>A10</td>\n",
       "      <td>A62</td>\n",
       "      <td>A10-A62</td>\n",
       "      <td>00:44:24</td>\n",
       "      <td>2019-01-29 08:15</td>\n",
       "      <td>2019-01-29 08:15:00</td>\n",
       "      <td>00:45:20</td>\n",
       "      <td>Cluster</td>\n",
       "      <td>00:37:30.618000</td>\n",
       "      <td>1</td>\n",
       "    </tr>\n",
       "    <tr>\n",
       "      <th>39362</th>\n",
       "      <td>2019-01-29 08:17:06</td>\n",
       "      <td>1527242</td>\n",
       "      <td>2a1111aea0aca4fe7827b3f8949c82de87034e04</td>\n",
       "      <td>1</td>\n",
       "      <td>FR</td>\n",
       "      <td>340313</td>\n",
       "      <td>2019-01-29 09:02:26</td>\n",
       "      <td>(12, 6, 3, 9)</td>\n",
       "      <td>A10</td>\n",
       "      <td>A62</td>\n",
       "      <td>A10-A62</td>\n",
       "      <td>00:45:20</td>\n",
       "      <td>2019-01-29 08:15</td>\n",
       "      <td>2019-01-29 08:15:00</td>\n",
       "      <td>00:45:20</td>\n",
       "      <td>Cluster</td>\n",
       "      <td>00:37:30.618000</td>\n",
       "      <td>1</td>\n",
       "    </tr>\n",
       "    <tr>\n",
       "      <th>39363</th>\n",
       "      <td>2019-01-29 08:17:13</td>\n",
       "      <td>1603226</td>\n",
       "      <td>1da61f24812f32ae6df77634d5f616d33fea0957</td>\n",
       "      <td>1</td>\n",
       "      <td>FR</td>\n",
       "      <td>239448</td>\n",
       "      <td>2019-01-29 09:01:10</td>\n",
       "      <td>(12, 6, 3, 9)</td>\n",
       "      <td>A10</td>\n",
       "      <td>A62</td>\n",
       "      <td>A10-A62</td>\n",
       "      <td>00:43:57</td>\n",
       "      <td>2019-01-29 08:15</td>\n",
       "      <td>2019-01-29 08:15:00</td>\n",
       "      <td>00:45:20</td>\n",
       "      <td>Cluster</td>\n",
       "      <td>00:37:30.618000</td>\n",
       "      <td>1</td>\n",
       "    </tr>\n",
       "    <tr>\n",
       "      <th>39364</th>\n",
       "      <td>2019-01-29 08:23:09</td>\n",
       "      <td>923506</td>\n",
       "      <td>6453600744d16a27c3975cece1cff271e6e226d9</td>\n",
       "      <td>1</td>\n",
       "      <td>ES</td>\n",
       "      <td>810250</td>\n",
       "      <td>2019-01-29 09:04:04</td>\n",
       "      <td>(12, 6, 3, 9)</td>\n",
       "      <td>A10</td>\n",
       "      <td>A62</td>\n",
       "      <td>A10-A62</td>\n",
       "      <td>00:40:55</td>\n",
       "      <td>2019-01-29 08:15</td>\n",
       "      <td>2019-01-29 08:15:00</td>\n",
       "      <td>00:45:20</td>\n",
       "      <td>Cluster</td>\n",
       "      <td>00:37:30.618000</td>\n",
       "      <td>1</td>\n",
       "    </tr>\n",
       "    <tr>\n",
       "      <th>39365</th>\n",
       "      <td>2019-01-29 08:23:25</td>\n",
       "      <td>1556270</td>\n",
       "      <td>b976d367ae186fa73eef89a4be13ab811bd653f4</td>\n",
       "      <td>1</td>\n",
       "      <td>FR</td>\n",
       "      <td>1501307</td>\n",
       "      <td>2019-01-29 09:06:39</td>\n",
       "      <td>(12, 6, 3, 9)</td>\n",
       "      <td>A10</td>\n",
       "      <td>A62</td>\n",
       "      <td>A10-A62</td>\n",
       "      <td>00:43:14</td>\n",
       "      <td>2019-01-29 08:15</td>\n",
       "      <td>2019-01-29 08:15:00</td>\n",
       "      <td>00:45:20</td>\n",
       "      <td>Cluster</td>\n",
       "      <td>00:37:30.618000</td>\n",
       "      <td>1</td>\n",
       "    </tr>\n",
       "    <tr>\n",
       "      <th>39366</th>\n",
       "      <td>2019-01-29 08:28:23</td>\n",
       "      <td>1508347</td>\n",
       "      <td>8921f77036ba6b8038d0463f825d7bf3a996ac52</td>\n",
       "      <td>1</td>\n",
       "      <td>FR</td>\n",
       "      <td>1112292</td>\n",
       "      <td>2019-01-29 09:06:00</td>\n",
       "      <td>(12, 6, 3, 9)</td>\n",
       "      <td>A10</td>\n",
       "      <td>A62</td>\n",
       "      <td>A10-A62</td>\n",
       "      <td>00:37:37</td>\n",
       "      <td>2019-01-29 08:15</td>\n",
       "      <td>2019-01-29 08:15:00</td>\n",
       "      <td>00:45:20</td>\n",
       "      <td>Cluster</td>\n",
       "      <td>00:37:30.618000</td>\n",
       "      <td>1</td>\n",
       "    </tr>\n",
       "    <tr>\n",
       "      <th>39368</th>\n",
       "      <td>2019-01-29 08:35:25</td>\n",
       "      <td>1443227</td>\n",
       "      <td>cc285246eb262758facd9663b1f2d6bdf2fb9a3b</td>\n",
       "      <td>1</td>\n",
       "      <td>FR</td>\n",
       "      <td>1654029</td>\n",
       "      <td>2019-01-29 09:13:15</td>\n",
       "      <td>(12, 6, 3, 9)</td>\n",
       "      <td>A10</td>\n",
       "      <td>A62</td>\n",
       "      <td>A10-A62</td>\n",
       "      <td>00:37:50</td>\n",
       "      <td>2019-01-29 08:30</td>\n",
       "      <td>2019-01-29 08:30:00</td>\n",
       "      <td>00:42:15.500000</td>\n",
       "      <td>moyenne Cluster</td>\n",
       "      <td>00:37:30.618000</td>\n",
       "      <td>1</td>\n",
       "    </tr>\n",
       "    <tr>\n",
       "      <th>16311</th>\n",
       "      <td>2019-01-29 08:46:30</td>\n",
       "      <td>1578352</td>\n",
       "      <td>73178890d9986494efa687a213f1277f16c92534</td>\n",
       "      <td>1</td>\n",
       "      <td>FR</td>\n",
       "      <td>930260</td>\n",
       "      <td>2019-01-29 09:23:49</td>\n",
       "      <td>(12, 3, 9)</td>\n",
       "      <td>A10</td>\n",
       "      <td>A62</td>\n",
       "      <td>A10-A62</td>\n",
       "      <td>00:37:19</td>\n",
       "      <td>2019-01-29 08:45</td>\n",
       "      <td>2019-01-29 08:45:00</td>\n",
       "      <td>00:39:11</td>\n",
       "      <td>Cluster</td>\n",
       "      <td>00:37:30.618000</td>\n",
       "      <td>1</td>\n",
       "    </tr>\n",
       "    <tr>\n",
       "      <th>...</th>\n",
       "      <td>...</td>\n",
       "      <td>...</td>\n",
       "      <td>...</td>\n",
       "      <td>...</td>\n",
       "      <td>...</td>\n",
       "      <td>...</td>\n",
       "      <td>...</td>\n",
       "      <td>...</td>\n",
       "      <td>...</td>\n",
       "      <td>...</td>\n",
       "      <td>...</td>\n",
       "      <td>...</td>\n",
       "      <td>...</td>\n",
       "      <td>...</td>\n",
       "      <td>...</td>\n",
       "      <td>...</td>\n",
       "      <td>...</td>\n",
       "      <td>...</td>\n",
       "    </tr>\n",
       "    <tr>\n",
       "      <th>40463</th>\n",
       "      <td>2019-02-03 17:47:59</td>\n",
       "      <td>1038251</td>\n",
       "      <td>0198b2a6a148a3da9764eb630cb9df1b75b5fca4</td>\n",
       "      <td>1</td>\n",
       "      <td>FR</td>\n",
       "      <td>12751</td>\n",
       "      <td>2019-02-03 18:23:30</td>\n",
       "      <td>(12, 6, 3, 9)</td>\n",
       "      <td>A10</td>\n",
       "      <td>A62</td>\n",
       "      <td>A10-A62</td>\n",
       "      <td>00:35:31</td>\n",
       "      <td>2019-02-03 17:45</td>\n",
       "      <td>2019-02-03 17:45:00</td>\n",
       "      <td>00:37:00.900000</td>\n",
       "      <td>85eme_percentile</td>\n",
       "      <td>00:37:30.618000</td>\n",
       "      <td>1</td>\n",
       "    </tr>\n",
       "    <tr>\n",
       "      <th>40464</th>\n",
       "      <td>2019-02-03 17:58:23</td>\n",
       "      <td>1458152</td>\n",
       "      <td>95a81ef6bc3f15a37a3e86ded940b9517694e0ae</td>\n",
       "      <td>1</td>\n",
       "      <td>FR</td>\n",
       "      <td>1213617</td>\n",
       "      <td>2019-02-03 18:35:50</td>\n",
       "      <td>(12, 6, 3, 9)</td>\n",
       "      <td>A10</td>\n",
       "      <td>A62</td>\n",
       "      <td>A10-A62</td>\n",
       "      <td>00:37:27</td>\n",
       "      <td>2019-02-03 17:45</td>\n",
       "      <td>2019-02-03 17:45:00</td>\n",
       "      <td>00:37:00.900000</td>\n",
       "      <td>85eme_percentile</td>\n",
       "      <td>00:37:30.618000</td>\n",
       "      <td>1</td>\n",
       "    </tr>\n",
       "    <tr>\n",
       "      <th>16567</th>\n",
       "      <td>2019-02-03 18:09:29</td>\n",
       "      <td>964521</td>\n",
       "      <td>0e824dc6e75b45bf3c6da08b87f0ccc75d1d4622</td>\n",
       "      <td>1</td>\n",
       "      <td>ES</td>\n",
       "      <td>117709</td>\n",
       "      <td>2019-02-03 18:47:22</td>\n",
       "      <td>(12, 3, 9)</td>\n",
       "      <td>A10</td>\n",
       "      <td>A62</td>\n",
       "      <td>A10-A62</td>\n",
       "      <td>00:37:53</td>\n",
       "      <td>2019-02-03 18:00</td>\n",
       "      <td>2019-02-03 18:00:00</td>\n",
       "      <td>00:37:53</td>\n",
       "      <td>85eme_percentile</td>\n",
       "      <td>00:37:30.618000</td>\n",
       "      <td>1</td>\n",
       "    </tr>\n",
       "    <tr>\n",
       "      <th>40465</th>\n",
       "      <td>2019-02-03 18:16:36</td>\n",
       "      <td>1448537</td>\n",
       "      <td>2782c6fe5619ff5ee5f94bcdd9bf1361952832ae</td>\n",
       "      <td>1</td>\n",
       "      <td>FR</td>\n",
       "      <td>319415</td>\n",
       "      <td>2019-02-03 18:52:23</td>\n",
       "      <td>(12, 6, 3, 9)</td>\n",
       "      <td>A10</td>\n",
       "      <td>A62</td>\n",
       "      <td>A10-A62</td>\n",
       "      <td>00:35:47</td>\n",
       "      <td>2019-02-03 18:15</td>\n",
       "      <td>2019-02-03 18:15:00</td>\n",
       "      <td>00:36:24.400000</td>\n",
       "      <td>85eme_percentile</td>\n",
       "      <td>00:37:30.618000</td>\n",
       "      <td>1</td>\n",
       "    </tr>\n",
       "    <tr>\n",
       "      <th>40466</th>\n",
       "      <td>2019-02-03 18:17:52</td>\n",
       "      <td>1561964</td>\n",
       "      <td>93e7cbf69eea9662f847e16e220c536b42e7651c</td>\n",
       "      <td>1</td>\n",
       "      <td>FR</td>\n",
       "      <td>1199201</td>\n",
       "      <td>2019-02-03 18:54:23</td>\n",
       "      <td>(12, 6, 3, 9)</td>\n",
       "      <td>A10</td>\n",
       "      <td>A62</td>\n",
       "      <td>A10-A62</td>\n",
       "      <td>00:36:31</td>\n",
       "      <td>2019-02-03 18:15</td>\n",
       "      <td>2019-02-03 18:15:00</td>\n",
       "      <td>00:36:24.400000</td>\n",
       "      <td>85eme_percentile</td>\n",
       "      <td>00:37:30.618000</td>\n",
       "      <td>1</td>\n",
       "    </tr>\n",
       "    <tr>\n",
       "      <th>40467</th>\n",
       "      <td>2019-02-03 18:30:50</td>\n",
       "      <td>1485136</td>\n",
       "      <td>54439fdd42e59c7af1daf0130a7ca98b3e1fc40e</td>\n",
       "      <td>1</td>\n",
       "      <td>FR</td>\n",
       "      <td>680547</td>\n",
       "      <td>2019-02-03 19:06:59</td>\n",
       "      <td>(12, 6, 3, 9)</td>\n",
       "      <td>A10</td>\n",
       "      <td>A62</td>\n",
       "      <td>A10-A62</td>\n",
       "      <td>00:36:09</td>\n",
       "      <td>2019-02-03 18:30</td>\n",
       "      <td>2019-02-03 18:30:00</td>\n",
       "      <td>09:10:54.799999</td>\n",
       "      <td>85eme_percentile</td>\n",
       "      <td>00:37:30.618000</td>\n",
       "      <td>1</td>\n",
       "    </tr>\n",
       "    <tr>\n",
       "      <th>16568</th>\n",
       "      <td>2019-02-03 18:33:15</td>\n",
       "      <td>1485137</td>\n",
       "      <td>8a16524e6bb6cbd3afd18f67c0c71c4c4f758128</td>\n",
       "      <td>1</td>\n",
       "      <td>FR</td>\n",
       "      <td>1119855</td>\n",
       "      <td>2019-02-03 19:13:14</td>\n",
       "      <td>(12, 3, 9)</td>\n",
       "      <td>A10</td>\n",
       "      <td>A62</td>\n",
       "      <td>A10-A62</td>\n",
       "      <td>00:39:59</td>\n",
       "      <td>2019-02-03 18:30</td>\n",
       "      <td>2019-02-03 18:30:00</td>\n",
       "      <td>09:10:54.799999</td>\n",
       "      <td>85eme_percentile</td>\n",
       "      <td>00:37:30.618000</td>\n",
       "      <td>1</td>\n",
       "    </tr>\n",
       "    <tr>\n",
       "      <th>40469</th>\n",
       "      <td>2019-02-03 18:47:18</td>\n",
       "      <td>1570246</td>\n",
       "      <td>c5ae21457d9778523746ee17c7b95b98f2c5f0b8</td>\n",
       "      <td>1</td>\n",
       "      <td>IT</td>\n",
       "      <td>1601257</td>\n",
       "      <td>2019-02-03 19:25:02</td>\n",
       "      <td>(12, 6, 3, 9)</td>\n",
       "      <td>A10</td>\n",
       "      <td>A62</td>\n",
       "      <td>A10-A62</td>\n",
       "      <td>00:37:44</td>\n",
       "      <td>2019-02-03 18:45</td>\n",
       "      <td>2019-02-03 18:45:00</td>\n",
       "      <td>00:37:44</td>\n",
       "      <td>85eme_percentile</td>\n",
       "      <td>00:37:30.618000</td>\n",
       "      <td>1</td>\n",
       "    </tr>\n",
       "    <tr>\n",
       "      <th>40470</th>\n",
       "      <td>2019-02-03 19:02:14</td>\n",
       "      <td>1494819</td>\n",
       "      <td>748503e7df06fdbd4b2aa9e89c55c7f860f99f45</td>\n",
       "      <td>1</td>\n",
       "      <td>FR</td>\n",
       "      <td>942090</td>\n",
       "      <td>2019-02-03 19:39:21</td>\n",
       "      <td>(12, 6, 3, 9)</td>\n",
       "      <td>A10</td>\n",
       "      <td>A62</td>\n",
       "      <td>A10-A62</td>\n",
       "      <td>00:37:07</td>\n",
       "      <td>2019-02-03 19:00</td>\n",
       "      <td>2019-02-03 19:00:00</td>\n",
       "      <td>00:37:05.650000</td>\n",
       "      <td>85eme_percentile</td>\n",
       "      <td>00:37:30.618000</td>\n",
       "      <td>1</td>\n",
       "    </tr>\n",
       "    <tr>\n",
       "      <th>40471</th>\n",
       "      <td>2019-02-03 19:12:05</td>\n",
       "      <td>1552008</td>\n",
       "      <td>d497447a991e6dbcc0daea942c377e2ce68d3ad7</td>\n",
       "      <td>1</td>\n",
       "      <td>FR</td>\n",
       "      <td>1722284</td>\n",
       "      <td>2019-02-03 19:49:03</td>\n",
       "      <td>(12, 6, 3, 9)</td>\n",
       "      <td>A10</td>\n",
       "      <td>A62</td>\n",
       "      <td>A10-A62</td>\n",
       "      <td>00:36:58</td>\n",
       "      <td>2019-02-03 19:00</td>\n",
       "      <td>2019-02-03 19:00:00</td>\n",
       "      <td>00:37:05.650000</td>\n",
       "      <td>85eme_percentile</td>\n",
       "      <td>00:37:30.618000</td>\n",
       "      <td>1</td>\n",
       "    </tr>\n",
       "    <tr>\n",
       "      <th>40472</th>\n",
       "      <td>2019-02-03 19:42:53</td>\n",
       "      <td>1513955</td>\n",
       "      <td>74075d5bfd352363adc505957095b394a20c90d1</td>\n",
       "      <td>1</td>\n",
       "      <td>FR</td>\n",
       "      <td>937915</td>\n",
       "      <td>2019-02-03 21:36:21</td>\n",
       "      <td>(12, 6, 3, 9)</td>\n",
       "      <td>A10</td>\n",
       "      <td>A62</td>\n",
       "      <td>A10-A62</td>\n",
       "      <td>01:53:28</td>\n",
       "      <td>2019-02-03 19:30</td>\n",
       "      <td>2019-02-03 19:30:00</td>\n",
       "      <td>01:41:55.600000</td>\n",
       "      <td>85eme_percentile</td>\n",
       "      <td>00:37:30.618000</td>\n",
       "      <td>1</td>\n",
       "    </tr>\n",
       "    <tr>\n",
       "      <th>40473</th>\n",
       "      <td>2019-02-03 19:43:29</td>\n",
       "      <td>1504265</td>\n",
       "      <td>3b281557b20c3ba920bafa96e8827fd7dec27dfc</td>\n",
       "      <td>1</td>\n",
       "      <td>FR</td>\n",
       "      <td>477982</td>\n",
       "      <td>2019-02-03 20:20:01</td>\n",
       "      <td>(12, 6, 3, 9)</td>\n",
       "      <td>A10</td>\n",
       "      <td>A62</td>\n",
       "      <td>A10-A62</td>\n",
       "      <td>00:36:32</td>\n",
       "      <td>2019-02-03 19:30</td>\n",
       "      <td>2019-02-03 19:30:00</td>\n",
       "      <td>01:41:55.600000</td>\n",
       "      <td>85eme_percentile</td>\n",
       "      <td>00:37:30.618000</td>\n",
       "      <td>1</td>\n",
       "    </tr>\n",
       "    <tr>\n",
       "      <th>40474</th>\n",
       "      <td>2019-02-03 19:56:55</td>\n",
       "      <td>1438433</td>\n",
       "      <td>e7162589ccd60a1730b8b2aebedb55746a27db0e</td>\n",
       "      <td>1</td>\n",
       "      <td>FR</td>\n",
       "      <td>1871711</td>\n",
       "      <td>2019-02-03 20:34:21</td>\n",
       "      <td>(12, 6, 3, 9)</td>\n",
       "      <td>A10</td>\n",
       "      <td>A62</td>\n",
       "      <td>A10-A62</td>\n",
       "      <td>00:37:26</td>\n",
       "      <td>2019-02-03 19:45</td>\n",
       "      <td>2019-02-03 19:45:00</td>\n",
       "      <td>00:37:26</td>\n",
       "      <td>85eme_percentile</td>\n",
       "      <td>00:37:30.618000</td>\n",
       "      <td>1</td>\n",
       "    </tr>\n",
       "    <tr>\n",
       "      <th>40475</th>\n",
       "      <td>2019-02-03 20:09:37</td>\n",
       "      <td>1598995</td>\n",
       "      <td>0fd2423770886824ec6880595a645d95489a05c8</td>\n",
       "      <td>1</td>\n",
       "      <td>FR</td>\n",
       "      <td>128616</td>\n",
       "      <td>2019-02-03 20:46:58</td>\n",
       "      <td>(12, 6, 3, 9)</td>\n",
       "      <td>A10</td>\n",
       "      <td>A62</td>\n",
       "      <td>A10-A62</td>\n",
       "      <td>00:37:21</td>\n",
       "      <td>2019-02-03 20:00</td>\n",
       "      <td>2019-02-03 20:00:00</td>\n",
       "      <td>00:40:48</td>\n",
       "      <td>Cluster</td>\n",
       "      <td>00:37:30.618000</td>\n",
       "      <td>1</td>\n",
       "    </tr>\n",
       "    <tr>\n",
       "      <th>40476</th>\n",
       "      <td>2019-02-03 20:35:27</td>\n",
       "      <td>1568818</td>\n",
       "      <td>02f725dea9bd026420b626293af82470de235106</td>\n",
       "      <td>1</td>\n",
       "      <td>FR</td>\n",
       "      <td>23913</td>\n",
       "      <td>2019-02-03 21:45:15</td>\n",
       "      <td>(12, 6, 3, 9)</td>\n",
       "      <td>A10</td>\n",
       "      <td>A62</td>\n",
       "      <td>A10-A62</td>\n",
       "      <td>01:09:48</td>\n",
       "      <td>2019-02-03 20:00</td>\n",
       "      <td>2019-02-03 20:00:00</td>\n",
       "      <td>00:40:48</td>\n",
       "      <td>Cluster</td>\n",
       "      <td>00:37:30.618000</td>\n",
       "      <td>1</td>\n",
       "    </tr>\n",
       "    <tr>\n",
       "      <th>16569</th>\n",
       "      <td>2019-02-03 20:37:27</td>\n",
       "      <td>1552009</td>\n",
       "      <td>3aff2dfe69b75c5e3dc31ef80f67f133ceaede25</td>\n",
       "      <td>1</td>\n",
       "      <td>FR</td>\n",
       "      <td>476657</td>\n",
       "      <td>2019-02-03 21:13:25</td>\n",
       "      <td>(12, 3, 9)</td>\n",
       "      <td>A10</td>\n",
       "      <td>A62</td>\n",
       "      <td>A10-A62</td>\n",
       "      <td>00:35:58</td>\n",
       "      <td>2019-02-03 20:00</td>\n",
       "      <td>2019-02-03 20:00:00</td>\n",
       "      <td>00:40:48</td>\n",
       "      <td>Cluster</td>\n",
       "      <td>00:37:30.618000</td>\n",
       "      <td>1</td>\n",
       "    </tr>\n",
       "    <tr>\n",
       "      <th>40477</th>\n",
       "      <td>2019-02-03 20:37:49</td>\n",
       "      <td>1458155</td>\n",
       "      <td>7e4e9deafde2eae8d5b67e313c5094aff98a90f7</td>\n",
       "      <td>1</td>\n",
       "      <td>FR</td>\n",
       "      <td>1023810</td>\n",
       "      <td>2019-02-03 21:14:50</td>\n",
       "      <td>(12, 6, 3, 9)</td>\n",
       "      <td>A10</td>\n",
       "      <td>A62</td>\n",
       "      <td>A10-A62</td>\n",
       "      <td>00:37:01</td>\n",
       "      <td>2019-02-03 20:00</td>\n",
       "      <td>2019-02-03 20:00:00</td>\n",
       "      <td>00:40:48</td>\n",
       "      <td>Cluster</td>\n",
       "      <td>00:37:30.618000</td>\n",
       "      <td>1</td>\n",
       "    </tr>\n",
       "    <tr>\n",
       "      <th>40478</th>\n",
       "      <td>2019-02-03 20:39:20</td>\n",
       "      <td>1494820</td>\n",
       "      <td>5e53e8639ce9f70b9d7b474e48d114e8ff0fc0f9</td>\n",
       "      <td>1</td>\n",
       "      <td>IT</td>\n",
       "      <td>761762</td>\n",
       "      <td>2019-02-03 21:13:32</td>\n",
       "      <td>(12, 6, 3, 9)</td>\n",
       "      <td>A10</td>\n",
       "      <td>A62</td>\n",
       "      <td>A10-A62</td>\n",
       "      <td>00:34:12</td>\n",
       "      <td>2019-02-03 20:00</td>\n",
       "      <td>2019-02-03 20:00:00</td>\n",
       "      <td>00:40:48</td>\n",
       "      <td>Cluster</td>\n",
       "      <td>00:37:30.618000</td>\n",
       "      <td>1</td>\n",
       "    </tr>\n",
       "    <tr>\n",
       "      <th>40479</th>\n",
       "      <td>2019-02-03 20:56:25</td>\n",
       "      <td>1438436</td>\n",
       "      <td>31e73c09c0eba95f5e943fa870e9eff6d1ec5749</td>\n",
       "      <td>1</td>\n",
       "      <td>FR</td>\n",
       "      <td>403148</td>\n",
       "      <td>2019-02-03 21:33:01</td>\n",
       "      <td>(12, 6, 3, 9)</td>\n",
       "      <td>A10</td>\n",
       "      <td>A62</td>\n",
       "      <td>A10-A62</td>\n",
       "      <td>00:36:36</td>\n",
       "      <td>2019-02-03 20:00</td>\n",
       "      <td>2019-02-03 20:00:00</td>\n",
       "      <td>00:40:48</td>\n",
       "      <td>Cluster</td>\n",
       "      <td>00:37:30.618000</td>\n",
       "      <td>1</td>\n",
       "    </tr>\n",
       "    <tr>\n",
       "      <th>40480</th>\n",
       "      <td>2019-02-03 20:58:45</td>\n",
       "      <td>1494821</td>\n",
       "      <td>8926a26bfb5e41d1014cfa769c9e56ff8ce7f0c7</td>\n",
       "      <td>1</td>\n",
       "      <td>FR</td>\n",
       "      <td>1112454</td>\n",
       "      <td>2019-02-03 21:39:33</td>\n",
       "      <td>(12, 6, 3, 9)</td>\n",
       "      <td>A10</td>\n",
       "      <td>A62</td>\n",
       "      <td>A10-A62</td>\n",
       "      <td>00:40:48</td>\n",
       "      <td>2019-02-03 20:00</td>\n",
       "      <td>2019-02-03 20:00:00</td>\n",
       "      <td>00:40:48</td>\n",
       "      <td>Cluster</td>\n",
       "      <td>00:37:30.618000</td>\n",
       "      <td>1</td>\n",
       "    </tr>\n",
       "    <tr>\n",
       "      <th>40481</th>\n",
       "      <td>2019-02-03 21:38:23</td>\n",
       "      <td>1112654</td>\n",
       "      <td>3bb75033f84a02d291c291c429b70de04d632e7e</td>\n",
       "      <td>1</td>\n",
       "      <td>ES</td>\n",
       "      <td>482601</td>\n",
       "      <td>2019-02-03 22:16:01</td>\n",
       "      <td>(12, 6, 3, 9)</td>\n",
       "      <td>A10</td>\n",
       "      <td>A62</td>\n",
       "      <td>A10-A62</td>\n",
       "      <td>00:37:38</td>\n",
       "      <td>2019-02-03 21:00</td>\n",
       "      <td>2019-02-03 21:00:00</td>\n",
       "      <td>01:49:19.500000</td>\n",
       "      <td>85eme_percentile</td>\n",
       "      <td>00:37:30.618000</td>\n",
       "      <td>1</td>\n",
       "    </tr>\n",
       "    <tr>\n",
       "      <th>50818</th>\n",
       "      <td>2019-02-03 21:43:47</td>\n",
       "      <td>1542281</td>\n",
       "      <td>4c4e54234124127173346834c68083ed663eeac3</td>\n",
       "      <td>1</td>\n",
       "      <td>FR/IT</td>\n",
       "      <td>616326</td>\n",
       "      <td>2019-02-04 00:03:50</td>\n",
       "      <td>(12, 6, 9)</td>\n",
       "      <td>A10</td>\n",
       "      <td>A62</td>\n",
       "      <td>A10-A62</td>\n",
       "      <td>02:20:03</td>\n",
       "      <td>2019-02-03 21:00</td>\n",
       "      <td>2019-02-03 21:00:00</td>\n",
       "      <td>01:49:19.500000</td>\n",
       "      <td>85eme_percentile</td>\n",
       "      <td>00:37:30.618000</td>\n",
       "      <td>1</td>\n",
       "    </tr>\n",
       "    <tr>\n",
       "      <th>40482</th>\n",
       "      <td>2019-02-03 21:58:00</td>\n",
       "      <td>816582</td>\n",
       "      <td>d60f4d85f1b2b122435f38d19236a64df59ff331</td>\n",
       "      <td>1</td>\n",
       "      <td>ES</td>\n",
       "      <td>1733995</td>\n",
       "      <td>2019-02-03 22:33:18</td>\n",
       "      <td>(12, 6, 3, 9)</td>\n",
       "      <td>A10</td>\n",
       "      <td>A62</td>\n",
       "      <td>A10-A62</td>\n",
       "      <td>00:35:18</td>\n",
       "      <td>2019-02-03 21:00</td>\n",
       "      <td>2019-02-03 21:00:00</td>\n",
       "      <td>01:49:19.500000</td>\n",
       "      <td>85eme_percentile</td>\n",
       "      <td>00:37:30.618000</td>\n",
       "      <td>1</td>\n",
       "    </tr>\n",
       "    <tr>\n",
       "      <th>40483</th>\n",
       "      <td>2019-02-03 22:01:34</td>\n",
       "      <td>1552012</td>\n",
       "      <td>4a63619c34854098431a7d5ac6dd9cabd69ee9d6</td>\n",
       "      <td>1</td>\n",
       "      <td>FR</td>\n",
       "      <td>600558</td>\n",
       "      <td>2019-02-03 22:38:14</td>\n",
       "      <td>(12, 6, 3, 9)</td>\n",
       "      <td>A10</td>\n",
       "      <td>A62</td>\n",
       "      <td>A10-A62</td>\n",
       "      <td>00:36:40</td>\n",
       "      <td>2019-02-03 22:00</td>\n",
       "      <td>2019-02-03 22:00:00</td>\n",
       "      <td>01:18:32.750000</td>\n",
       "      <td>85eme_percentile</td>\n",
       "      <td>00:37:30.618000</td>\n",
       "      <td>1</td>\n",
       "    </tr>\n",
       "    <tr>\n",
       "      <th>40484</th>\n",
       "      <td>2019-02-03 22:27:53</td>\n",
       "      <td>1485142</td>\n",
       "      <td>21f272dcb07a499067fa945e5b43e9244cdbf12f</td>\n",
       "      <td>1</td>\n",
       "      <td>FR</td>\n",
       "      <td>274150</td>\n",
       "      <td>2019-02-03 23:51:16</td>\n",
       "      <td>(12, 6, 3, 9)</td>\n",
       "      <td>A10</td>\n",
       "      <td>A62</td>\n",
       "      <td>A10-A62</td>\n",
       "      <td>01:23:23</td>\n",
       "      <td>2019-02-03 22:00</td>\n",
       "      <td>2019-02-03 22:00:00</td>\n",
       "      <td>01:18:32.750000</td>\n",
       "      <td>85eme_percentile</td>\n",
       "      <td>00:37:30.618000</td>\n",
       "      <td>1</td>\n",
       "    </tr>\n",
       "    <tr>\n",
       "      <th>40485</th>\n",
       "      <td>2019-02-03 22:49:12</td>\n",
       "      <td>373343</td>\n",
       "      <td>cba2f8c2cddcded3e25f4c59fbaaf6b2cc865a8e</td>\n",
       "      <td>1</td>\n",
       "      <td>ES</td>\n",
       "      <td>1649879</td>\n",
       "      <td>2019-02-04 00:01:50</td>\n",
       "      <td>(12, 6, 3, 9)</td>\n",
       "      <td>A10</td>\n",
       "      <td>A62</td>\n",
       "      <td>A10-A62</td>\n",
       "      <td>01:12:38</td>\n",
       "      <td>2019-02-03 22:00</td>\n",
       "      <td>2019-02-03 22:00:00</td>\n",
       "      <td>01:18:32.750000</td>\n",
       "      <td>85eme_percentile</td>\n",
       "      <td>00:37:30.618000</td>\n",
       "      <td>1</td>\n",
       "    </tr>\n",
       "    <tr>\n",
       "      <th>40486</th>\n",
       "      <td>2019-02-03 22:56:04</td>\n",
       "      <td>1588854</td>\n",
       "      <td>4fb69e48f9dfcfeb020622f4be5198464e1bc019</td>\n",
       "      <td>1</td>\n",
       "      <td>FR</td>\n",
       "      <td>644182</td>\n",
       "      <td>2019-02-03 23:32:43</td>\n",
       "      <td>(12, 6, 3, 9)</td>\n",
       "      <td>A10</td>\n",
       "      <td>A62</td>\n",
       "      <td>A10-A62</td>\n",
       "      <td>00:36:39</td>\n",
       "      <td>2019-02-03 22:00</td>\n",
       "      <td>2019-02-03 22:00:00</td>\n",
       "      <td>01:18:32.750000</td>\n",
       "      <td>85eme_percentile</td>\n",
       "      <td>00:37:30.618000</td>\n",
       "      <td>1</td>\n",
       "    </tr>\n",
       "    <tr>\n",
       "      <th>40487</th>\n",
       "      <td>2019-02-03 23:12:05</td>\n",
       "      <td>1600073</td>\n",
       "      <td>d5852adb6301be19ca217aab715a1f78cfd038a0</td>\n",
       "      <td>1</td>\n",
       "      <td>FR</td>\n",
       "      <td>1729758</td>\n",
       "      <td>2019-02-03 23:47:43</td>\n",
       "      <td>(12, 6, 3, 9)</td>\n",
       "      <td>A10</td>\n",
       "      <td>A62</td>\n",
       "      <td>A10-A62</td>\n",
       "      <td>00:35:38</td>\n",
       "      <td>2019-02-03 23:00</td>\n",
       "      <td>2019-02-03 23:00:00</td>\n",
       "      <td>01:32:32.100000</td>\n",
       "      <td>85eme_percentile</td>\n",
       "      <td>00:37:30.618000</td>\n",
       "      <td>1</td>\n",
       "    </tr>\n",
       "    <tr>\n",
       "      <th>40488</th>\n",
       "      <td>2019-02-03 23:23:11</td>\n",
       "      <td>1467545</td>\n",
       "      <td>4f6eebd57739f29fd0be0f4b64e5f04ed89b7f21</td>\n",
       "      <td>1</td>\n",
       "      <td>FR</td>\n",
       "      <td>642033</td>\n",
       "      <td>2019-02-04 01:20:05</td>\n",
       "      <td>(12, 6, 3, 9)</td>\n",
       "      <td>A10</td>\n",
       "      <td>A62</td>\n",
       "      <td>A10-A62</td>\n",
       "      <td>01:56:54</td>\n",
       "      <td>2019-02-03 23:00</td>\n",
       "      <td>2019-02-03 23:00:00</td>\n",
       "      <td>01:32:32.100000</td>\n",
       "      <td>85eme_percentile</td>\n",
       "      <td>00:37:30.618000</td>\n",
       "      <td>1</td>\n",
       "    </tr>\n",
       "    <tr>\n",
       "      <th>40489</th>\n",
       "      <td>2019-02-03 23:34:37</td>\n",
       "      <td>233846</td>\n",
       "      <td>d61932a42a0c2e387575d1aee01be306b183c595</td>\n",
       "      <td>1</td>\n",
       "      <td>ES</td>\n",
       "      <td>1734293</td>\n",
       "      <td>2019-02-04 00:10:18</td>\n",
       "      <td>(12, 6, 3, 9)</td>\n",
       "      <td>A10</td>\n",
       "      <td>A62</td>\n",
       "      <td>A10-A62</td>\n",
       "      <td>00:35:41</td>\n",
       "      <td>2019-02-03 23:00</td>\n",
       "      <td>2019-02-03 23:00:00</td>\n",
       "      <td>01:32:32.100000</td>\n",
       "      <td>85eme_percentile</td>\n",
       "      <td>00:37:30.618000</td>\n",
       "      <td>1</td>\n",
       "    </tr>\n",
       "  </tbody>\n",
       "</table>\n",
       "<p>1294 rows × 18 columns</p>\n",
       "</div>"
      ],
      "text/plain": [
       "               date_cam_1    index                                     immat  \\\n",
       "39342 2019-01-28 22:09:35  1470226  257f094676ed7d7cdd57ceddb8cb8b701f19f56b   \n",
       "16305 2019-01-28 23:54:29  1462459  416963f2dc08205eaccdb2344f05ce0c91c5af90   \n",
       "16306 2019-01-29 01:18:01  1518339  74075d5bfd352363adc505957095b394a20c90d1   \n",
       "51746 2019-01-29 04:29:26  1566388  6b1d13f7fcd523aa44927c0c016e6fa0253b0e03   \n",
       "16307 2019-01-29 04:34:31  1556267  1fe80a61fe87392d17103b5aeed958300dbe260d   \n",
       "50685 2019-01-29 04:50:39  1579378  f1fb586680266e5ef848a455dfac5cdbec6307a5   \n",
       "39343 2019-01-29 05:25:15  1462454  c4146efc7c3c43fedb56a30994dce3bad17d16e5   \n",
       "39344 2019-01-29 07:35:01  1556263  03d1dfe1efcd48b5d920eb8d89a6c49047470802   \n",
       "16308 2019-01-29 07:35:04  1593503  1c3f23cdb21394ac0fdc58d5c1fc2ec119ea8536   \n",
       "39345 2019-01-29 07:43:39  1574423  f5490d2e351b080fe5006e5a86517cb59ce21b00   \n",
       "39346 2019-01-29 07:44:21  1452650  2b73655d98154cb09a851a71c49c55df30c37bfa   \n",
       "39348 2019-01-29 07:45:13  1462461  7dbaf1303152f27d5edb544f50ca289906d6589e   \n",
       "50686 2019-01-29 07:54:36   332810  01ca06e21ee655a831c5ac6b24fb595a73a9abe5   \n",
       "39349 2019-01-29 07:56:41  1566390  0cc521a1b7f9eea305ecb89db80fd4e4472575cb   \n",
       "39350 2019-01-29 07:57:40  1527243  de967033ba9be05984db09cf3142f8f1de41cd9f   \n",
       "16310 2019-01-29 08:01:29  1470232  5d5468f8497afc93fed843b123a6ce3eaee13a11   \n",
       "39353 2019-01-29 08:03:59  1546653  8c6020a74715a66bafa180a9a443db1177ea28cd   \n",
       "39354 2019-01-29 08:05:17  1573496  665c241ee81611d7bb52e2c4d4e8778ef00e26b2   \n",
       "39355 2019-01-29 08:05:37  1546654  ca2e97e68f032c15ce3e7e084b8c7715d5420475   \n",
       "39357 2019-01-29 08:11:50  1527244  c74c1e3d30a9f02e1d71c79a2fcc5fd0575225c9   \n",
       "39358 2019-01-29 08:15:07  1566393  b31cbda9b4241f5fd5d26e3d6fb609c539bdc1ca   \n",
       "39359 2019-01-29 08:15:46   256186  07e9064d2b7e7be3ee035d7bef2398a7089ed574   \n",
       "39361 2019-01-29 08:16:24  1508345  0614a84e9aada6073ea2dff6f95e80dd3d8968c5   \n",
       "39362 2019-01-29 08:17:06  1527242  2a1111aea0aca4fe7827b3f8949c82de87034e04   \n",
       "39363 2019-01-29 08:17:13  1603226  1da61f24812f32ae6df77634d5f616d33fea0957   \n",
       "39364 2019-01-29 08:23:09   923506  6453600744d16a27c3975cece1cff271e6e226d9   \n",
       "39365 2019-01-29 08:23:25  1556270  b976d367ae186fa73eef89a4be13ab811bd653f4   \n",
       "39366 2019-01-29 08:28:23  1508347  8921f77036ba6b8038d0463f825d7bf3a996ac52   \n",
       "39368 2019-01-29 08:35:25  1443227  cc285246eb262758facd9663b1f2d6bdf2fb9a3b   \n",
       "16311 2019-01-29 08:46:30  1578352  73178890d9986494efa687a213f1277f16c92534   \n",
       "...                   ...      ...                                       ...   \n",
       "40463 2019-02-03 17:47:59  1038251  0198b2a6a148a3da9764eb630cb9df1b75b5fca4   \n",
       "40464 2019-02-03 17:58:23  1458152  95a81ef6bc3f15a37a3e86ded940b9517694e0ae   \n",
       "16567 2019-02-03 18:09:29   964521  0e824dc6e75b45bf3c6da08b87f0ccc75d1d4622   \n",
       "40465 2019-02-03 18:16:36  1448537  2782c6fe5619ff5ee5f94bcdd9bf1361952832ae   \n",
       "40466 2019-02-03 18:17:52  1561964  93e7cbf69eea9662f847e16e220c536b42e7651c   \n",
       "40467 2019-02-03 18:30:50  1485136  54439fdd42e59c7af1daf0130a7ca98b3e1fc40e   \n",
       "16568 2019-02-03 18:33:15  1485137  8a16524e6bb6cbd3afd18f67c0c71c4c4f758128   \n",
       "40469 2019-02-03 18:47:18  1570246  c5ae21457d9778523746ee17c7b95b98f2c5f0b8   \n",
       "40470 2019-02-03 19:02:14  1494819  748503e7df06fdbd4b2aa9e89c55c7f860f99f45   \n",
       "40471 2019-02-03 19:12:05  1552008  d497447a991e6dbcc0daea942c377e2ce68d3ad7   \n",
       "40472 2019-02-03 19:42:53  1513955  74075d5bfd352363adc505957095b394a20c90d1   \n",
       "40473 2019-02-03 19:43:29  1504265  3b281557b20c3ba920bafa96e8827fd7dec27dfc   \n",
       "40474 2019-02-03 19:56:55  1438433  e7162589ccd60a1730b8b2aebedb55746a27db0e   \n",
       "40475 2019-02-03 20:09:37  1598995  0fd2423770886824ec6880595a645d95489a05c8   \n",
       "40476 2019-02-03 20:35:27  1568818  02f725dea9bd026420b626293af82470de235106   \n",
       "16569 2019-02-03 20:37:27  1552009  3aff2dfe69b75c5e3dc31ef80f67f133ceaede25   \n",
       "40477 2019-02-03 20:37:49  1458155  7e4e9deafde2eae8d5b67e313c5094aff98a90f7   \n",
       "40478 2019-02-03 20:39:20  1494820  5e53e8639ce9f70b9d7b474e48d114e8ff0fc0f9   \n",
       "40479 2019-02-03 20:56:25  1438436  31e73c09c0eba95f5e943fa870e9eff6d1ec5749   \n",
       "40480 2019-02-03 20:58:45  1494821  8926a26bfb5e41d1014cfa769c9e56ff8ce7f0c7   \n",
       "40481 2019-02-03 21:38:23  1112654  3bb75033f84a02d291c291c429b70de04d632e7e   \n",
       "50818 2019-02-03 21:43:47  1542281  4c4e54234124127173346834c68083ed663eeac3   \n",
       "40482 2019-02-03 21:58:00   816582  d60f4d85f1b2b122435f38d19236a64df59ff331   \n",
       "40483 2019-02-03 22:01:34  1552012  4a63619c34854098431a7d5ac6dd9cabd69ee9d6   \n",
       "40484 2019-02-03 22:27:53  1485142  21f272dcb07a499067fa945e5b43e9244cdbf12f   \n",
       "40485 2019-02-03 22:49:12   373343  cba2f8c2cddcded3e25f4c59fbaaf6b2cc865a8e   \n",
       "40486 2019-02-03 22:56:04  1588854  4fb69e48f9dfcfeb020622f4be5198464e1bc019   \n",
       "40487 2019-02-03 23:12:05  1600073  d5852adb6301be19ca217aab715a1f78cfd038a0   \n",
       "40488 2019-02-03 23:23:11  1467545  4f6eebd57739f29fd0be0f4b64e5f04ed89b7f21   \n",
       "40489 2019-02-03 23:34:37   233846  d61932a42a0c2e387575d1aee01be306b183c595   \n",
       "\n",
       "       l  state       id          date_cam_2        cameras origine  \\\n",
       "39342  1     FR   302358 2019-01-28 22:44:43  (12, 6, 3, 9)     A10   \n",
       "16305  1     FR   527971 2019-01-29 00:32:45     (12, 3, 9)     A10   \n",
       "16306  1     FR   937887 2019-01-29 01:59:07     (12, 3, 9)     A10   \n",
       "51746  1     FR   865555 2019-01-29 05:07:01        (12, 9)     A10   \n",
       "16307  1     FR   257669 2019-01-29 05:11:52     (12, 3, 9)     A10   \n",
       "50685  1     FR  1960162 2019-01-29 05:29:27     (12, 6, 9)     A10   \n",
       "39343  1     FR  1587851 2019-01-29 06:13:02  (12, 6, 3, 9)     A10   \n",
       "39344  1     FR    30628 2019-01-29 08:46:42  (12, 6, 3, 9)     A10   \n",
       "16308  1     FR   228433 2019-01-29 08:34:17     (12, 3, 9)     A10   \n",
       "39345  1     FR  1986840 2019-01-29 08:34:06  (12, 6, 3, 9)     A10   \n",
       "39346  1     FR   351637 2019-01-29 08:52:36  (12, 6, 3, 9)     A10   \n",
       "39348  1     FR  1019190 2019-01-29 08:48:32  (12, 6, 3, 9)     A10   \n",
       "50686  1     ES    14408 2019-01-29 08:39:07     (12, 6, 9)     A10   \n",
       "39349  1     FR   103778 2019-01-29 08:52:02  (12, 6, 3, 9)     A10   \n",
       "39350  1     FR  1802636 2019-01-29 08:52:13  (12, 6, 3, 9)     A10   \n",
       "16310  1     FR   753782 2019-01-29 08:53:11     (12, 3, 9)     A10   \n",
       "39353  1     FR  1138407 2019-01-29 08:44:44  (12, 6, 3, 9)     A10   \n",
       "39354  1     FR   827167 2019-01-29 08:43:38  (12, 6, 3, 9)     A10   \n",
       "39355  1     FR  1638071 2019-01-29 08:54:41  (12, 6, 3, 9)     A10   \n",
       "39357  1     FR  1614384 2019-01-29 08:55:17  (12, 6, 3, 9)     A10   \n",
       "39358  1     FR  1450709 2019-01-29 08:59:34  (12, 6, 3, 9)     A10   \n",
       "39359  1     PL    64648 2019-01-29 08:58:21  (12, 6, 3, 9)     A10   \n",
       "39361  1     FR    49376 2019-01-29 09:00:48  (12, 6, 3, 9)     A10   \n",
       "39362  1     FR   340313 2019-01-29 09:02:26  (12, 6, 3, 9)     A10   \n",
       "39363  1     FR   239448 2019-01-29 09:01:10  (12, 6, 3, 9)     A10   \n",
       "39364  1     ES   810250 2019-01-29 09:04:04  (12, 6, 3, 9)     A10   \n",
       "39365  1     FR  1501307 2019-01-29 09:06:39  (12, 6, 3, 9)     A10   \n",
       "39366  1     FR  1112292 2019-01-29 09:06:00  (12, 6, 3, 9)     A10   \n",
       "39368  1     FR  1654029 2019-01-29 09:13:15  (12, 6, 3, 9)     A10   \n",
       "16311  1     FR   930260 2019-01-29 09:23:49     (12, 3, 9)     A10   \n",
       "...   ..    ...      ...                 ...            ...     ...   \n",
       "40463  1     FR    12751 2019-02-03 18:23:30  (12, 6, 3, 9)     A10   \n",
       "40464  1     FR  1213617 2019-02-03 18:35:50  (12, 6, 3, 9)     A10   \n",
       "16567  1     ES   117709 2019-02-03 18:47:22     (12, 3, 9)     A10   \n",
       "40465  1     FR   319415 2019-02-03 18:52:23  (12, 6, 3, 9)     A10   \n",
       "40466  1     FR  1199201 2019-02-03 18:54:23  (12, 6, 3, 9)     A10   \n",
       "40467  1     FR   680547 2019-02-03 19:06:59  (12, 6, 3, 9)     A10   \n",
       "16568  1     FR  1119855 2019-02-03 19:13:14     (12, 3, 9)     A10   \n",
       "40469  1     IT  1601257 2019-02-03 19:25:02  (12, 6, 3, 9)     A10   \n",
       "40470  1     FR   942090 2019-02-03 19:39:21  (12, 6, 3, 9)     A10   \n",
       "40471  1     FR  1722284 2019-02-03 19:49:03  (12, 6, 3, 9)     A10   \n",
       "40472  1     FR   937915 2019-02-03 21:36:21  (12, 6, 3, 9)     A10   \n",
       "40473  1     FR   477982 2019-02-03 20:20:01  (12, 6, 3, 9)     A10   \n",
       "40474  1     FR  1871711 2019-02-03 20:34:21  (12, 6, 3, 9)     A10   \n",
       "40475  1     FR   128616 2019-02-03 20:46:58  (12, 6, 3, 9)     A10   \n",
       "40476  1     FR    23913 2019-02-03 21:45:15  (12, 6, 3, 9)     A10   \n",
       "16569  1     FR   476657 2019-02-03 21:13:25     (12, 3, 9)     A10   \n",
       "40477  1     FR  1023810 2019-02-03 21:14:50  (12, 6, 3, 9)     A10   \n",
       "40478  1     IT   761762 2019-02-03 21:13:32  (12, 6, 3, 9)     A10   \n",
       "40479  1     FR   403148 2019-02-03 21:33:01  (12, 6, 3, 9)     A10   \n",
       "40480  1     FR  1112454 2019-02-03 21:39:33  (12, 6, 3, 9)     A10   \n",
       "40481  1     ES   482601 2019-02-03 22:16:01  (12, 6, 3, 9)     A10   \n",
       "50818  1  FR/IT   616326 2019-02-04 00:03:50     (12, 6, 9)     A10   \n",
       "40482  1     ES  1733995 2019-02-03 22:33:18  (12, 6, 3, 9)     A10   \n",
       "40483  1     FR   600558 2019-02-03 22:38:14  (12, 6, 3, 9)     A10   \n",
       "40484  1     FR   274150 2019-02-03 23:51:16  (12, 6, 3, 9)     A10   \n",
       "40485  1     ES  1649879 2019-02-04 00:01:50  (12, 6, 3, 9)     A10   \n",
       "40486  1     FR   644182 2019-02-03 23:32:43  (12, 6, 3, 9)     A10   \n",
       "40487  1     FR  1729758 2019-02-03 23:47:43  (12, 6, 3, 9)     A10   \n",
       "40488  1     FR   642033 2019-02-04 01:20:05  (12, 6, 3, 9)     A10   \n",
       "40489  1     ES  1734293 2019-02-04 00:10:18  (12, 6, 3, 9)     A10   \n",
       "\n",
       "      destination      o_d tps_parcours           period                date  \\\n",
       "39342         A62  A10-A62     00:35:08 2019-01-28 22:00 2019-01-28 22:00:00   \n",
       "16305         A62  A10-A62     00:38:16 2019-01-28 23:00 2019-01-28 23:00:00   \n",
       "16306         A62  A10-A62     00:41:06 2019-01-29 01:00 2019-01-29 01:00:00   \n",
       "51746         A62  A10-A62     00:37:35 2019-01-29 04:00 2019-01-29 04:00:00   \n",
       "16307         A62  A10-A62     00:37:21 2019-01-29 04:00 2019-01-29 04:00:00   \n",
       "50685         A62  A10-A62     00:38:48 2019-01-29 04:00 2019-01-29 04:00:00   \n",
       "39343         A62  A10-A62     00:47:47 2019-01-29 05:00 2019-01-29 05:00:00   \n",
       "39344         A62  A10-A62     01:11:41 2019-01-29 07:30 2019-01-29 07:30:00   \n",
       "16308         A62  A10-A62     00:59:13 2019-01-29 07:30 2019-01-29 07:30:00   \n",
       "39345         A62  A10-A62     00:50:27 2019-01-29 07:30 2019-01-29 07:30:00   \n",
       "39346         A62  A10-A62     01:08:15 2019-01-29 07:30 2019-01-29 07:30:00   \n",
       "39348         A62  A10-A62     01:03:19 2019-01-29 07:45 2019-01-29 07:45:00   \n",
       "50686         A62  A10-A62     00:44:31 2019-01-29 07:45 2019-01-29 07:45:00   \n",
       "39349         A62  A10-A62     00:55:21 2019-01-29 07:45 2019-01-29 07:45:00   \n",
       "39350         A62  A10-A62     00:54:33 2019-01-29 07:45 2019-01-29 07:45:00   \n",
       "16310         A62  A10-A62     00:51:42 2019-01-29 08:00 2019-01-29 08:00:00   \n",
       "39353         A62  A10-A62     00:40:45 2019-01-29 08:00 2019-01-29 08:00:00   \n",
       "39354         A62  A10-A62     00:38:21 2019-01-29 08:00 2019-01-29 08:00:00   \n",
       "39355         A62  A10-A62     00:49:04 2019-01-29 08:00 2019-01-29 08:00:00   \n",
       "39357         A62  A10-A62     00:43:27 2019-01-29 08:00 2019-01-29 08:00:00   \n",
       "39358         A62  A10-A62     00:44:27 2019-01-29 08:15 2019-01-29 08:15:00   \n",
       "39359         A62  A10-A62     00:42:35 2019-01-29 08:15 2019-01-29 08:15:00   \n",
       "39361         A62  A10-A62     00:44:24 2019-01-29 08:15 2019-01-29 08:15:00   \n",
       "39362         A62  A10-A62     00:45:20 2019-01-29 08:15 2019-01-29 08:15:00   \n",
       "39363         A62  A10-A62     00:43:57 2019-01-29 08:15 2019-01-29 08:15:00   \n",
       "39364         A62  A10-A62     00:40:55 2019-01-29 08:15 2019-01-29 08:15:00   \n",
       "39365         A62  A10-A62     00:43:14 2019-01-29 08:15 2019-01-29 08:15:00   \n",
       "39366         A62  A10-A62     00:37:37 2019-01-29 08:15 2019-01-29 08:15:00   \n",
       "39368         A62  A10-A62     00:37:50 2019-01-29 08:30 2019-01-29 08:30:00   \n",
       "16311         A62  A10-A62     00:37:19 2019-01-29 08:45 2019-01-29 08:45:00   \n",
       "...           ...      ...          ...              ...                 ...   \n",
       "40463         A62  A10-A62     00:35:31 2019-02-03 17:45 2019-02-03 17:45:00   \n",
       "40464         A62  A10-A62     00:37:27 2019-02-03 17:45 2019-02-03 17:45:00   \n",
       "16567         A62  A10-A62     00:37:53 2019-02-03 18:00 2019-02-03 18:00:00   \n",
       "40465         A62  A10-A62     00:35:47 2019-02-03 18:15 2019-02-03 18:15:00   \n",
       "40466         A62  A10-A62     00:36:31 2019-02-03 18:15 2019-02-03 18:15:00   \n",
       "40467         A62  A10-A62     00:36:09 2019-02-03 18:30 2019-02-03 18:30:00   \n",
       "16568         A62  A10-A62     00:39:59 2019-02-03 18:30 2019-02-03 18:30:00   \n",
       "40469         A62  A10-A62     00:37:44 2019-02-03 18:45 2019-02-03 18:45:00   \n",
       "40470         A62  A10-A62     00:37:07 2019-02-03 19:00 2019-02-03 19:00:00   \n",
       "40471         A62  A10-A62     00:36:58 2019-02-03 19:00 2019-02-03 19:00:00   \n",
       "40472         A62  A10-A62     01:53:28 2019-02-03 19:30 2019-02-03 19:30:00   \n",
       "40473         A62  A10-A62     00:36:32 2019-02-03 19:30 2019-02-03 19:30:00   \n",
       "40474         A62  A10-A62     00:37:26 2019-02-03 19:45 2019-02-03 19:45:00   \n",
       "40475         A62  A10-A62     00:37:21 2019-02-03 20:00 2019-02-03 20:00:00   \n",
       "40476         A62  A10-A62     01:09:48 2019-02-03 20:00 2019-02-03 20:00:00   \n",
       "16569         A62  A10-A62     00:35:58 2019-02-03 20:00 2019-02-03 20:00:00   \n",
       "40477         A62  A10-A62     00:37:01 2019-02-03 20:00 2019-02-03 20:00:00   \n",
       "40478         A62  A10-A62     00:34:12 2019-02-03 20:00 2019-02-03 20:00:00   \n",
       "40479         A62  A10-A62     00:36:36 2019-02-03 20:00 2019-02-03 20:00:00   \n",
       "40480         A62  A10-A62     00:40:48 2019-02-03 20:00 2019-02-03 20:00:00   \n",
       "40481         A62  A10-A62     00:37:38 2019-02-03 21:00 2019-02-03 21:00:00   \n",
       "50818         A62  A10-A62     02:20:03 2019-02-03 21:00 2019-02-03 21:00:00   \n",
       "40482         A62  A10-A62     00:35:18 2019-02-03 21:00 2019-02-03 21:00:00   \n",
       "40483         A62  A10-A62     00:36:40 2019-02-03 22:00 2019-02-03 22:00:00   \n",
       "40484         A62  A10-A62     01:23:23 2019-02-03 22:00 2019-02-03 22:00:00   \n",
       "40485         A62  A10-A62     01:12:38 2019-02-03 22:00 2019-02-03 22:00:00   \n",
       "40486         A62  A10-A62     00:36:39 2019-02-03 22:00 2019-02-03 22:00:00   \n",
       "40487         A62  A10-A62     00:35:38 2019-02-03 23:00 2019-02-03 23:00:00   \n",
       "40488         A62  A10-A62     01:56:54 2019-02-03 23:00 2019-02-03 23:00:00   \n",
       "40489         A62  A10-A62     00:35:41 2019-02-03 23:00 2019-02-03 23:00:00   \n",
       "\n",
       "                temps              type tps_parcours_theoriq  filtre_tps  \n",
       "39342        00:35:08  85eme_percentile      00:37:30.618000           1  \n",
       "16305        00:38:16  85eme_percentile      00:37:30.618000           1  \n",
       "16306        00:41:06  85eme_percentile      00:37:30.618000           1  \n",
       "51746 00:38:26.100000  85eme_percentile      00:37:30.618000           1  \n",
       "16307 00:38:26.100000  85eme_percentile      00:37:30.618000           1  \n",
       "50685 00:38:26.100000  85eme_percentile      00:37:30.618000           1  \n",
       "39343        00:47:47  85eme_percentile      00:37:30.618000           1  \n",
       "39344        01:11:41           Cluster      00:37:30.618000           1  \n",
       "16308        01:11:41           Cluster      00:37:30.618000           1  \n",
       "39345        01:11:41           Cluster      00:37:30.618000           1  \n",
       "39346        01:11:41           Cluster      00:37:30.618000           1  \n",
       "39348        00:55:21           Cluster      00:37:30.618000           1  \n",
       "50686        00:55:21           Cluster      00:37:30.618000           1  \n",
       "39349        00:55:21           Cluster      00:37:30.618000           1  \n",
       "39350        00:55:21           Cluster      00:37:30.618000           1  \n",
       "16310        00:51:42           Cluster      00:37:30.618000           1  \n",
       "39353        00:51:42           Cluster      00:37:30.618000           1  \n",
       "39354        00:51:42           Cluster      00:37:30.618000           1  \n",
       "39355        00:51:42           Cluster      00:37:30.618000           1  \n",
       "39357        00:51:42           Cluster      00:37:30.618000           1  \n",
       "39358        00:45:20           Cluster      00:37:30.618000           1  \n",
       "39359        00:45:20           Cluster      00:37:30.618000           1  \n",
       "39361        00:45:20           Cluster      00:37:30.618000           1  \n",
       "39362        00:45:20           Cluster      00:37:30.618000           1  \n",
       "39363        00:45:20           Cluster      00:37:30.618000           1  \n",
       "39364        00:45:20           Cluster      00:37:30.618000           1  \n",
       "39365        00:45:20           Cluster      00:37:30.618000           1  \n",
       "39366        00:45:20           Cluster      00:37:30.618000           1  \n",
       "39368 00:42:15.500000   moyenne Cluster      00:37:30.618000           1  \n",
       "16311        00:39:11           Cluster      00:37:30.618000           1  \n",
       "...               ...               ...                  ...         ...  \n",
       "40463 00:37:00.900000  85eme_percentile      00:37:30.618000           1  \n",
       "40464 00:37:00.900000  85eme_percentile      00:37:30.618000           1  \n",
       "16567        00:37:53  85eme_percentile      00:37:30.618000           1  \n",
       "40465 00:36:24.400000  85eme_percentile      00:37:30.618000           1  \n",
       "40466 00:36:24.400000  85eme_percentile      00:37:30.618000           1  \n",
       "40467 09:10:54.799999  85eme_percentile      00:37:30.618000           1  \n",
       "16568 09:10:54.799999  85eme_percentile      00:37:30.618000           1  \n",
       "40469        00:37:44  85eme_percentile      00:37:30.618000           1  \n",
       "40470 00:37:05.650000  85eme_percentile      00:37:30.618000           1  \n",
       "40471 00:37:05.650000  85eme_percentile      00:37:30.618000           1  \n",
       "40472 01:41:55.600000  85eme_percentile      00:37:30.618000           1  \n",
       "40473 01:41:55.600000  85eme_percentile      00:37:30.618000           1  \n",
       "40474        00:37:26  85eme_percentile      00:37:30.618000           1  \n",
       "40475        00:40:48           Cluster      00:37:30.618000           1  \n",
       "40476        00:40:48           Cluster      00:37:30.618000           1  \n",
       "16569        00:40:48           Cluster      00:37:30.618000           1  \n",
       "40477        00:40:48           Cluster      00:37:30.618000           1  \n",
       "40478        00:40:48           Cluster      00:37:30.618000           1  \n",
       "40479        00:40:48           Cluster      00:37:30.618000           1  \n",
       "40480        00:40:48           Cluster      00:37:30.618000           1  \n",
       "40481 01:49:19.500000  85eme_percentile      00:37:30.618000           1  \n",
       "50818 01:49:19.500000  85eme_percentile      00:37:30.618000           1  \n",
       "40482 01:49:19.500000  85eme_percentile      00:37:30.618000           1  \n",
       "40483 01:18:32.750000  85eme_percentile      00:37:30.618000           1  \n",
       "40484 01:18:32.750000  85eme_percentile      00:37:30.618000           1  \n",
       "40485 01:18:32.750000  85eme_percentile      00:37:30.618000           1  \n",
       "40486 01:18:32.750000  85eme_percentile      00:37:30.618000           1  \n",
       "40487 01:32:32.100000  85eme_percentile      00:37:30.618000           1  \n",
       "40488 01:32:32.100000  85eme_percentile      00:37:30.618000           1  \n",
       "40489 01:32:32.100000  85eme_percentile      00:37:30.618000           1  \n",
       "\n",
       "[1294 rows x 18 columns]"
      ]
     },
     "execution_count": 140,
     "metadata": {},
     "output_type": "execute_result"
    }
   ],
   "source": [
    "dico_od_final.loc[(dico_od_final['o_d']=='A10-A62') & (dico_od_final['date_cam_1']>pd.to_datetime('2019-01-28 21:00'))].sort_values('date_cam_1')"
   ]
  },
  {
   "cell_type": "code",
   "execution_count": 9,
   "metadata": {},
   "outputs": [
    {
     "data": {
      "text/html": [
       "<div>\n",
       "<style scoped>\n",
       "    .dataframe tbody tr th:only-of-type {\n",
       "        vertical-align: middle;\n",
       "    }\n",
       "\n",
       "    .dataframe tbody tr th {\n",
       "        vertical-align: top;\n",
       "    }\n",
       "\n",
       "    .dataframe thead th {\n",
       "        text-align: right;\n",
       "    }\n",
       "</style>\n",
       "<table border=\"1\" class=\"dataframe\">\n",
       "  <thead>\n",
       "    <tr style=\"text-align: right;\">\n",
       "      <th></th>\n",
       "      <th>index</th>\n",
       "      <th>camera_id</th>\n",
       "      <th>immat</th>\n",
       "      <th>fiability</th>\n",
       "      <th>l</th>\n",
       "      <th>state</th>\n",
       "      <th>id</th>\n",
       "    </tr>\n",
       "    <tr>\n",
       "      <th>created</th>\n",
       "      <th></th>\n",
       "      <th></th>\n",
       "      <th></th>\n",
       "      <th></th>\n",
       "      <th></th>\n",
       "      <th></th>\n",
       "      <th></th>\n",
       "    </tr>\n",
       "  </thead>\n",
       "  <tbody>\n",
       "    <tr>\n",
       "      <th>2019-02-08 17:06:35</th>\n",
       "      <td>1982698</td>\n",
       "      <td>8</td>\n",
       "      <td>ffffe549301a252af04ca03d080c70f27d42981a</td>\n",
       "      <td>79</td>\n",
       "      <td>0</td>\n",
       "      <td></td>\n",
       "      <td>3203972</td>\n",
       "    </tr>\n",
       "    <tr>\n",
       "      <th>2019-02-01 13:25:05</th>\n",
       "      <td>3748674</td>\n",
       "      <td>9</td>\n",
       "      <td>ffffe3b1906a9ade77a4b7980f56237cb01b04e5</td>\n",
       "      <td>99</td>\n",
       "      <td>0</td>\n",
       "      <td>FR</td>\n",
       "      <td>3203971</td>\n",
       "    </tr>\n",
       "    <tr>\n",
       "      <th>2019-02-01 13:12:12</th>\n",
       "      <td>3810288</td>\n",
       "      <td>2</td>\n",
       "      <td>ffffe3b1906a9ade77a4b7980f56237cb01b04e5</td>\n",
       "      <td>45</td>\n",
       "      <td>0</td>\n",
       "      <td>FR</td>\n",
       "      <td>3203970</td>\n",
       "    </tr>\n",
       "    <tr>\n",
       "      <th>2019-02-01 12:41:50</th>\n",
       "      <td>2721830</td>\n",
       "      <td>12</td>\n",
       "      <td>ffffe3b1906a9ade77a4b7980f56237cb01b04e5</td>\n",
       "      <td>99</td>\n",
       "      <td>-1</td>\n",
       "      <td>IT</td>\n",
       "      <td>3203969</td>\n",
       "    </tr>\n",
       "    <tr>\n",
       "      <th>2019-02-06 11:39:14</th>\n",
       "      <td>1050141</td>\n",
       "      <td>5</td>\n",
       "      <td>ffffe2b560ce8c126bdb72a77bab10deab471567</td>\n",
       "      <td>44</td>\n",
       "      <td>1</td>\n",
       "      <td>BE</td>\n",
       "      <td>3203969</td>\n",
       "    </tr>\n",
       "    <tr>\n",
       "      <th>2019-02-03 09:18:42</th>\n",
       "      <td>926248</td>\n",
       "      <td>5</td>\n",
       "      <td>ffffe2b560ce8c126bdb72a77bab10deab471567</td>\n",
       "      <td>33</td>\n",
       "      <td>-1</td>\n",
       "      <td>BE</td>\n",
       "      <td>3203968</td>\n",
       "    </tr>\n",
       "    <tr>\n",
       "      <th>2019-02-01 12:26:42</th>\n",
       "      <td>932564</td>\n",
       "      <td>10</td>\n",
       "      <td>ffffe2b560ce8c126bdb72a77bab10deab471567</td>\n",
       "      <td>34</td>\n",
       "      <td>-1</td>\n",
       "      <td>BE</td>\n",
       "      <td>3203967</td>\n",
       "    </tr>\n",
       "    <tr>\n",
       "      <th>2019-02-09 17:20:10</th>\n",
       "      <td>3994773</td>\n",
       "      <td>5</td>\n",
       "      <td>ffffd95f9869dc474136d5a41d11e36f13aa2bff</td>\n",
       "      <td>99</td>\n",
       "      <td>0</td>\n",
       "      <td>FR</td>\n",
       "      <td>3203967</td>\n",
       "    </tr>\n",
       "    <tr>\n",
       "      <th>2019-02-09 13:15:52</th>\n",
       "      <td>3999339</td>\n",
       "      <td>6</td>\n",
       "      <td>ffffd95f9869dc474136d5a41d11e36f13aa2bff</td>\n",
       "      <td>99</td>\n",
       "      <td>0</td>\n",
       "      <td>FR</td>\n",
       "      <td>3203966</td>\n",
       "    </tr>\n",
       "    <tr>\n",
       "      <th>2019-02-09 16:21:42</th>\n",
       "      <td>3829390</td>\n",
       "      <td>4</td>\n",
       "      <td>ffffd5408df3bbd2729931eabb7954e59bb6316f</td>\n",
       "      <td>99</td>\n",
       "      <td>0</td>\n",
       "      <td>FR</td>\n",
       "      <td>3203966</td>\n",
       "    </tr>\n",
       "    <tr>\n",
       "      <th>2019-02-09 05:54:52</th>\n",
       "      <td>3820479</td>\n",
       "      <td>3</td>\n",
       "      <td>ffffd5408df3bbd2729931eabb7954e59bb6316f</td>\n",
       "      <td>99</td>\n",
       "      <td>0</td>\n",
       "      <td>FR</td>\n",
       "      <td>3203965</td>\n",
       "    </tr>\n",
       "    <tr>\n",
       "      <th>2019-02-08 05:53:40</th>\n",
       "      <td>3819457</td>\n",
       "      <td>3</td>\n",
       "      <td>ffffd5408df3bbd2729931eabb7954e59bb6316f</td>\n",
       "      <td>99</td>\n",
       "      <td>0</td>\n",
       "      <td>FR</td>\n",
       "      <td>3203964</td>\n",
       "    </tr>\n",
       "    <tr>\n",
       "      <th>2019-02-07 05:52:49</th>\n",
       "      <td>3818736</td>\n",
       "      <td>3</td>\n",
       "      <td>ffffd5408df3bbd2729931eabb7954e59bb6316f</td>\n",
       "      <td>89</td>\n",
       "      <td>0</td>\n",
       "      <td>FR</td>\n",
       "      <td>3203963</td>\n",
       "    </tr>\n",
       "    <tr>\n",
       "      <th>2019-02-06 16:24:39</th>\n",
       "      <td>3826173</td>\n",
       "      <td>4</td>\n",
       "      <td>ffffd5408df3bbd2729931eabb7954e59bb6316f</td>\n",
       "      <td>99</td>\n",
       "      <td>0</td>\n",
       "      <td>FR</td>\n",
       "      <td>3203962</td>\n",
       "    </tr>\n",
       "    <tr>\n",
       "      <th>2019-02-06 06:11:10</th>\n",
       "      <td>3448132</td>\n",
       "      <td>3</td>\n",
       "      <td>ffffd5408df3bbd2729931eabb7954e59bb6316f</td>\n",
       "      <td>99</td>\n",
       "      <td>0</td>\n",
       "      <td>FR</td>\n",
       "      <td>3203961</td>\n",
       "    </tr>\n",
       "    <tr>\n",
       "      <th>2019-02-05 06:39:39</th>\n",
       "      <td>3448131</td>\n",
       "      <td>3</td>\n",
       "      <td>ffffd5408df3bbd2729931eabb7954e59bb6316f</td>\n",
       "      <td>99</td>\n",
       "      <td>-1</td>\n",
       "      <td>FR</td>\n",
       "      <td>3203960</td>\n",
       "    </tr>\n",
       "    <tr>\n",
       "      <th>2019-02-04 05:44:41</th>\n",
       "      <td>3816487</td>\n",
       "      <td>3</td>\n",
       "      <td>ffffd5408df3bbd2729931eabb7954e59bb6316f</td>\n",
       "      <td>69</td>\n",
       "      <td>0</td>\n",
       "      <td>FR</td>\n",
       "      <td>3203959</td>\n",
       "    </tr>\n",
       "    <tr>\n",
       "      <th>2019-02-02 07:03:13</th>\n",
       "      <td>3448130</td>\n",
       "      <td>4</td>\n",
       "      <td>ffffd5408df3bbd2729931eabb7954e59bb6316f</td>\n",
       "      <td>89</td>\n",
       "      <td>0</td>\n",
       "      <td>FR</td>\n",
       "      <td>3203958</td>\n",
       "    </tr>\n",
       "    <tr>\n",
       "      <th>2019-02-02 05:46:44</th>\n",
       "      <td>3758143</td>\n",
       "      <td>3</td>\n",
       "      <td>ffffd5408df3bbd2729931eabb7954e59bb6316f</td>\n",
       "      <td>99</td>\n",
       "      <td>0</td>\n",
       "      <td>FR</td>\n",
       "      <td>3203957</td>\n",
       "    </tr>\n",
       "    <tr>\n",
       "      <th>2019-02-01 14:18:55</th>\n",
       "      <td>3816115</td>\n",
       "      <td>3</td>\n",
       "      <td>ffffd5408df3bbd2729931eabb7954e59bb6316f</td>\n",
       "      <td>89</td>\n",
       "      <td>0</td>\n",
       "      <td>FR</td>\n",
       "      <td>3203956</td>\n",
       "    </tr>\n",
       "    <tr>\n",
       "      <th>2019-02-01 11:18:13</th>\n",
       "      <td>3448133</td>\n",
       "      <td>4</td>\n",
       "      <td>ffffd5408df3bbd2729931eabb7954e59bb6316f</td>\n",
       "      <td>99</td>\n",
       "      <td>1</td>\n",
       "      <td>FR</td>\n",
       "      <td>3203955</td>\n",
       "    </tr>\n",
       "    <tr>\n",
       "      <th>2019-02-04 16:28:25</th>\n",
       "      <td>2225830</td>\n",
       "      <td>18</td>\n",
       "      <td>ffffc7ebaa9c4c3758424afca6fb4896dfcffa46</td>\n",
       "      <td>89</td>\n",
       "      <td>0</td>\n",
       "      <td>FR</td>\n",
       "      <td>3203955</td>\n",
       "    </tr>\n",
       "    <tr>\n",
       "      <th>2019-02-04 16:27:26</th>\n",
       "      <td>2220499</td>\n",
       "      <td>10</td>\n",
       "      <td>ffffc7ebaa9c4c3758424afca6fb4896dfcffa46</td>\n",
       "      <td>89</td>\n",
       "      <td>1</td>\n",
       "      <td>FR</td>\n",
       "      <td>3203954</td>\n",
       "    </tr>\n",
       "    <tr>\n",
       "      <th>2019-02-06 05:21:12</th>\n",
       "      <td>661675</td>\n",
       "      <td>9</td>\n",
       "      <td>ffffc2f483a1eabfdcca73967e9f9ca131a2418d</td>\n",
       "      <td>56</td>\n",
       "      <td>0</td>\n",
       "      <td>FR/IT</td>\n",
       "      <td>3203954</td>\n",
       "    </tr>\n",
       "    <tr>\n",
       "      <th>2019-02-09 12:16:51</th>\n",
       "      <td>172965</td>\n",
       "      <td>10</td>\n",
       "      <td>ffffbde9ac1bd30c9850c76739cebe58befef77e</td>\n",
       "      <td>99</td>\n",
       "      <td>0</td>\n",
       "      <td>FR</td>\n",
       "      <td>3203954</td>\n",
       "    </tr>\n",
       "    <tr>\n",
       "      <th>2019-02-09 10:01:27</th>\n",
       "      <td>166856</td>\n",
       "      <td>9</td>\n",
       "      <td>ffffbde9ac1bd30c9850c76739cebe58befef77e</td>\n",
       "      <td>99</td>\n",
       "      <td>0</td>\n",
       "      <td>FR</td>\n",
       "      <td>3203953</td>\n",
       "    </tr>\n",
       "    <tr>\n",
       "      <th>2019-02-03 18:09:37</th>\n",
       "      <td>2452703</td>\n",
       "      <td>3</td>\n",
       "      <td>ffffa3f79e6233b28158691b6a6d96e642aa0ae5</td>\n",
       "      <td>89</td>\n",
       "      <td>0</td>\n",
       "      <td>FR</td>\n",
       "      <td>3203952</td>\n",
       "    </tr>\n",
       "    <tr>\n",
       "      <th>2019-02-03 17:49:27</th>\n",
       "      <td>2447802</td>\n",
       "      <td>12</td>\n",
       "      <td>ffffa3f79e6233b28158691b6a6d96e642aa0ae5</td>\n",
       "      <td>99</td>\n",
       "      <td>0</td>\n",
       "      <td>FR</td>\n",
       "      <td>3203951</td>\n",
       "    </tr>\n",
       "    <tr>\n",
       "      <th>2019-02-07 18:01:54</th>\n",
       "      <td>3680721</td>\n",
       "      <td>10</td>\n",
       "      <td>ffffa1d0ed7ec98dda46b0a57ae18938efc1bdd5</td>\n",
       "      <td>99</td>\n",
       "      <td>0</td>\n",
       "      <td>FR</td>\n",
       "      <td>3203951</td>\n",
       "    </tr>\n",
       "    <tr>\n",
       "      <th>2019-02-10 12:34:28</th>\n",
       "      <td>761970</td>\n",
       "      <td>8</td>\n",
       "      <td>ffff948dd14aa77742cf7561407f9e6ad8757d39</td>\n",
       "      <td>89</td>\n",
       "      <td>-1</td>\n",
       "      <td>BE</td>\n",
       "      <td>3203951</td>\n",
       "    </tr>\n",
       "    <tr>\n",
       "      <th>...</th>\n",
       "      <td>...</td>\n",
       "      <td>...</td>\n",
       "      <td>...</td>\n",
       "      <td>...</td>\n",
       "      <td>...</td>\n",
       "      <td>...</td>\n",
       "      <td>...</td>\n",
       "    </tr>\n",
       "    <tr>\n",
       "      <th>2019-02-03 15:20:36</th>\n",
       "      <td>273795</td>\n",
       "      <td>3</td>\n",
       "      <td>00006190024e9afd711f5043d64263e906883838</td>\n",
       "      <td>99</td>\n",
       "      <td>0</td>\n",
       "      <td>FR</td>\n",
       "      <td>24</td>\n",
       "    </tr>\n",
       "    <tr>\n",
       "      <th>2019-02-03 08:25:51</th>\n",
       "      <td>3537239</td>\n",
       "      <td>4</td>\n",
       "      <td>00006190024e9afd711f5043d64263e906883838</td>\n",
       "      <td>99</td>\n",
       "      <td>0</td>\n",
       "      <td>FR</td>\n",
       "      <td>23</td>\n",
       "    </tr>\n",
       "    <tr>\n",
       "      <th>2019-02-02 18:54:45</th>\n",
       "      <td>3534438</td>\n",
       "      <td>3</td>\n",
       "      <td>00006190024e9afd711f5043d64263e906883838</td>\n",
       "      <td>99</td>\n",
       "      <td>0</td>\n",
       "      <td>FR</td>\n",
       "      <td>22</td>\n",
       "    </tr>\n",
       "    <tr>\n",
       "      <th>2019-02-02 08:46:01</th>\n",
       "      <td>3535969</td>\n",
       "      <td>4</td>\n",
       "      <td>00006190024e9afd711f5043d64263e906883838</td>\n",
       "      <td>99</td>\n",
       "      <td>0</td>\n",
       "      <td>FR</td>\n",
       "      <td>21</td>\n",
       "    </tr>\n",
       "    <tr>\n",
       "      <th>2019-02-08 20:40:29</th>\n",
       "      <td>3656137</td>\n",
       "      <td>5</td>\n",
       "      <td>00004d12edd1e487ef09e652c110903656c396ef</td>\n",
       "      <td>88</td>\n",
       "      <td>0</td>\n",
       "      <td>FR</td>\n",
       "      <td>21</td>\n",
       "    </tr>\n",
       "    <tr>\n",
       "      <th>2019-02-08 12:18:31</th>\n",
       "      <td>1975543</td>\n",
       "      <td>6</td>\n",
       "      <td>00004d12edd1e487ef09e652c110903656c396ef</td>\n",
       "      <td>57</td>\n",
       "      <td>0</td>\n",
       "      <td>FR</td>\n",
       "      <td>20</td>\n",
       "    </tr>\n",
       "    <tr>\n",
       "      <th>2019-02-04 14:09:12</th>\n",
       "      <td>3653649</td>\n",
       "      <td>5</td>\n",
       "      <td>00004d12edd1e487ef09e652c110903656c396ef</td>\n",
       "      <td>68</td>\n",
       "      <td>0</td>\n",
       "      <td>FR</td>\n",
       "      <td>19</td>\n",
       "    </tr>\n",
       "    <tr>\n",
       "      <th>2019-02-05 12:23:40</th>\n",
       "      <td>3417584</td>\n",
       "      <td>1</td>\n",
       "      <td>000035efa06965635017e2637767a262b3978df9</td>\n",
       "      <td>66</td>\n",
       "      <td>0</td>\n",
       "      <td>FR</td>\n",
       "      <td>19</td>\n",
       "    </tr>\n",
       "    <tr>\n",
       "      <th>2019-02-05 10:03:00</th>\n",
       "      <td>3925114</td>\n",
       "      <td>2</td>\n",
       "      <td>000035efa06965635017e2637767a262b3978df9</td>\n",
       "      <td>67</td>\n",
       "      <td>0</td>\n",
       "      <td>FR</td>\n",
       "      <td>18</td>\n",
       "    </tr>\n",
       "    <tr>\n",
       "      <th>2019-02-05 09:45:28</th>\n",
       "      <td>268625</td>\n",
       "      <td>6</td>\n",
       "      <td>000035efa06965635017e2637767a262b3978df9</td>\n",
       "      <td>99</td>\n",
       "      <td>0</td>\n",
       "      <td>FR</td>\n",
       "      <td>17</td>\n",
       "    </tr>\n",
       "    <tr>\n",
       "      <th>2019-02-05 09:34:03</th>\n",
       "      <td>265212</td>\n",
       "      <td>12</td>\n",
       "      <td>000035efa06965635017e2637767a262b3978df9</td>\n",
       "      <td>99</td>\n",
       "      <td>0</td>\n",
       "      <td>FR</td>\n",
       "      <td>16</td>\n",
       "    </tr>\n",
       "    <tr>\n",
       "      <th>2019-02-04 09:20:46</th>\n",
       "      <td>589532</td>\n",
       "      <td>18</td>\n",
       "      <td>00002bc58636b0bde97c261e1deb23cba73642a4</td>\n",
       "      <td>59</td>\n",
       "      <td>0</td>\n",
       "      <td>DE</td>\n",
       "      <td>15</td>\n",
       "    </tr>\n",
       "    <tr>\n",
       "      <th>2019-02-05 14:19:25</th>\n",
       "      <td>3145499</td>\n",
       "      <td>7</td>\n",
       "      <td>0000270b58d27f34656060edb40a003223bb1782</td>\n",
       "      <td>69</td>\n",
       "      <td>0</td>\n",
       "      <td>FR</td>\n",
       "      <td>15</td>\n",
       "    </tr>\n",
       "    <tr>\n",
       "      <th>2019-01-31 14:25:06</th>\n",
       "      <td>265418</td>\n",
       "      <td>9</td>\n",
       "      <td>0000270b58d27f34656060edb40a003223bb1782</td>\n",
       "      <td>99</td>\n",
       "      <td>0</td>\n",
       "      <td>FR</td>\n",
       "      <td>14</td>\n",
       "    </tr>\n",
       "    <tr>\n",
       "      <th>2019-01-31 07:47:10</th>\n",
       "      <td>3105791</td>\n",
       "      <td>3</td>\n",
       "      <td>0000270b58d27f34656060edb40a003223bb1782</td>\n",
       "      <td>79</td>\n",
       "      <td>-1</td>\n",
       "      <td>FR</td>\n",
       "      <td>13</td>\n",
       "    </tr>\n",
       "    <tr>\n",
       "      <th>2019-01-31 07:12:06</th>\n",
       "      <td>3101711</td>\n",
       "      <td>8</td>\n",
       "      <td>0000270b58d27f34656060edb40a003223bb1782</td>\n",
       "      <td>79</td>\n",
       "      <td>0</td>\n",
       "      <td>FR</td>\n",
       "      <td>12</td>\n",
       "    </tr>\n",
       "    <tr>\n",
       "      <th>2019-02-08 13:46:51</th>\n",
       "      <td>265836</td>\n",
       "      <td>9</td>\n",
       "      <td>000011f4b45be6c682a135c244c0304bd530e8a6</td>\n",
       "      <td>99</td>\n",
       "      <td>0</td>\n",
       "      <td>FR</td>\n",
       "      <td>12</td>\n",
       "    </tr>\n",
       "    <tr>\n",
       "      <th>2019-02-08 09:20:07</th>\n",
       "      <td>1395311</td>\n",
       "      <td>10</td>\n",
       "      <td>000011f4b45be6c682a135c244c0304bd530e8a6</td>\n",
       "      <td>99</td>\n",
       "      <td>0</td>\n",
       "      <td>FR</td>\n",
       "      <td>11</td>\n",
       "    </tr>\n",
       "    <tr>\n",
       "      <th>2019-02-07 15:41:16</th>\n",
       "      <td>267637</td>\n",
       "      <td>18</td>\n",
       "      <td>000011f4b45be6c682a135c244c0304bd530e8a6</td>\n",
       "      <td>99</td>\n",
       "      <td>0</td>\n",
       "      <td>FR</td>\n",
       "      <td>10</td>\n",
       "    </tr>\n",
       "    <tr>\n",
       "      <th>2019-02-07 05:50:33</th>\n",
       "      <td>2983113</td>\n",
       "      <td>19</td>\n",
       "      <td>000011f4b45be6c682a135c244c0304bd530e8a6</td>\n",
       "      <td>99</td>\n",
       "      <td>0</td>\n",
       "      <td>FR</td>\n",
       "      <td>9</td>\n",
       "    </tr>\n",
       "    <tr>\n",
       "      <th>2019-02-06 07:27:44</th>\n",
       "      <td>1443660</td>\n",
       "      <td>19</td>\n",
       "      <td>000011f4b45be6c682a135c244c0304bd530e8a6</td>\n",
       "      <td>99</td>\n",
       "      <td>0</td>\n",
       "      <td>FR</td>\n",
       "      <td>8</td>\n",
       "    </tr>\n",
       "    <tr>\n",
       "      <th>2019-02-01 17:52:04</th>\n",
       "      <td>265521</td>\n",
       "      <td>9</td>\n",
       "      <td>000011f4b45be6c682a135c244c0304bd530e8a6</td>\n",
       "      <td>79</td>\n",
       "      <td>0</td>\n",
       "      <td>FR</td>\n",
       "      <td>7</td>\n",
       "    </tr>\n",
       "    <tr>\n",
       "      <th>2019-02-01 11:23:31</th>\n",
       "      <td>266137</td>\n",
       "      <td>10</td>\n",
       "      <td>000011f4b45be6c682a135c244c0304bd530e8a6</td>\n",
       "      <td>99</td>\n",
       "      <td>0</td>\n",
       "      <td>FR</td>\n",
       "      <td>6</td>\n",
       "    </tr>\n",
       "    <tr>\n",
       "      <th>2019-02-01 11:19:27</th>\n",
       "      <td>270122</td>\n",
       "      <td>4</td>\n",
       "      <td>000011f4b45be6c682a135c244c0304bd530e8a6</td>\n",
       "      <td>99</td>\n",
       "      <td>0</td>\n",
       "      <td>FR</td>\n",
       "      <td>5</td>\n",
       "    </tr>\n",
       "    <tr>\n",
       "      <th>2019-01-31 12:13:37</th>\n",
       "      <td>278044</td>\n",
       "      <td>7</td>\n",
       "      <td>000011f4b45be6c682a135c244c0304bd530e8a6</td>\n",
       "      <td>99</td>\n",
       "      <td>0</td>\n",
       "      <td>FR</td>\n",
       "      <td>4</td>\n",
       "    </tr>\n",
       "    <tr>\n",
       "      <th>2019-01-31 08:19:57</th>\n",
       "      <td>2876800</td>\n",
       "      <td>10</td>\n",
       "      <td>000011f4b45be6c682a135c244c0304bd530e8a6</td>\n",
       "      <td>99</td>\n",
       "      <td>0</td>\n",
       "      <td>FR</td>\n",
       "      <td>3</td>\n",
       "    </tr>\n",
       "    <tr>\n",
       "      <th>2019-02-03 17:07:24</th>\n",
       "      <td>267994</td>\n",
       "      <td>5</td>\n",
       "      <td>000005c9e6a0450891a3f6d53cfbccf66e3ddfcd</td>\n",
       "      <td>99</td>\n",
       "      <td>0</td>\n",
       "      <td>FR</td>\n",
       "      <td>3</td>\n",
       "    </tr>\n",
       "    <tr>\n",
       "      <th>2019-02-03 16:47:06</th>\n",
       "      <td>268579</td>\n",
       "      <td>6</td>\n",
       "      <td>000005c9e6a0450891a3f6d53cfbccf66e3ddfcd</td>\n",
       "      <td>99</td>\n",
       "      <td>0</td>\n",
       "      <td>FR</td>\n",
       "      <td>2</td>\n",
       "    </tr>\n",
       "    <tr>\n",
       "      <th>2019-02-01 17:38:22</th>\n",
       "      <td>267890</td>\n",
       "      <td>5</td>\n",
       "      <td>000005c9e6a0450891a3f6d53cfbccf66e3ddfcd</td>\n",
       "      <td>99</td>\n",
       "      <td>0</td>\n",
       "      <td>FR</td>\n",
       "      <td>1</td>\n",
       "    </tr>\n",
       "    <tr>\n",
       "      <th>2019-02-01 16:46:43</th>\n",
       "      <td>268469</td>\n",
       "      <td>6</td>\n",
       "      <td>000005c9e6a0450891a3f6d53cfbccf66e3ddfcd</td>\n",
       "      <td>99</td>\n",
       "      <td>0</td>\n",
       "      <td>FR</td>\n",
       "      <td>0</td>\n",
       "    </tr>\n",
       "  </tbody>\n",
       "</table>\n",
       "<p>4046110 rows × 7 columns</p>\n",
       "</div>"
      ],
      "text/plain": [
       "                       index  camera_id  \\\n",
       "created                                   \n",
       "2019-02-08 17:06:35  1982698          8   \n",
       "2019-02-01 13:25:05  3748674          9   \n",
       "2019-02-01 13:12:12  3810288          2   \n",
       "2019-02-01 12:41:50  2721830         12   \n",
       "2019-02-06 11:39:14  1050141          5   \n",
       "2019-02-03 09:18:42   926248          5   \n",
       "2019-02-01 12:26:42   932564         10   \n",
       "2019-02-09 17:20:10  3994773          5   \n",
       "2019-02-09 13:15:52  3999339          6   \n",
       "2019-02-09 16:21:42  3829390          4   \n",
       "2019-02-09 05:54:52  3820479          3   \n",
       "2019-02-08 05:53:40  3819457          3   \n",
       "2019-02-07 05:52:49  3818736          3   \n",
       "2019-02-06 16:24:39  3826173          4   \n",
       "2019-02-06 06:11:10  3448132          3   \n",
       "2019-02-05 06:39:39  3448131          3   \n",
       "2019-02-04 05:44:41  3816487          3   \n",
       "2019-02-02 07:03:13  3448130          4   \n",
       "2019-02-02 05:46:44  3758143          3   \n",
       "2019-02-01 14:18:55  3816115          3   \n",
       "2019-02-01 11:18:13  3448133          4   \n",
       "2019-02-04 16:28:25  2225830         18   \n",
       "2019-02-04 16:27:26  2220499         10   \n",
       "2019-02-06 05:21:12   661675          9   \n",
       "2019-02-09 12:16:51   172965         10   \n",
       "2019-02-09 10:01:27   166856          9   \n",
       "2019-02-03 18:09:37  2452703          3   \n",
       "2019-02-03 17:49:27  2447802         12   \n",
       "2019-02-07 18:01:54  3680721         10   \n",
       "2019-02-10 12:34:28   761970          8   \n",
       "...                      ...        ...   \n",
       "2019-02-03 15:20:36   273795          3   \n",
       "2019-02-03 08:25:51  3537239          4   \n",
       "2019-02-02 18:54:45  3534438          3   \n",
       "2019-02-02 08:46:01  3535969          4   \n",
       "2019-02-08 20:40:29  3656137          5   \n",
       "2019-02-08 12:18:31  1975543          6   \n",
       "2019-02-04 14:09:12  3653649          5   \n",
       "2019-02-05 12:23:40  3417584          1   \n",
       "2019-02-05 10:03:00  3925114          2   \n",
       "2019-02-05 09:45:28   268625          6   \n",
       "2019-02-05 09:34:03   265212         12   \n",
       "2019-02-04 09:20:46   589532         18   \n",
       "2019-02-05 14:19:25  3145499          7   \n",
       "2019-01-31 14:25:06   265418          9   \n",
       "2019-01-31 07:47:10  3105791          3   \n",
       "2019-01-31 07:12:06  3101711          8   \n",
       "2019-02-08 13:46:51   265836          9   \n",
       "2019-02-08 09:20:07  1395311         10   \n",
       "2019-02-07 15:41:16   267637         18   \n",
       "2019-02-07 05:50:33  2983113         19   \n",
       "2019-02-06 07:27:44  1443660         19   \n",
       "2019-02-01 17:52:04   265521          9   \n",
       "2019-02-01 11:23:31   266137         10   \n",
       "2019-02-01 11:19:27   270122          4   \n",
       "2019-01-31 12:13:37   278044          7   \n",
       "2019-01-31 08:19:57  2876800         10   \n",
       "2019-02-03 17:07:24   267994          5   \n",
       "2019-02-03 16:47:06   268579          6   \n",
       "2019-02-01 17:38:22   267890          5   \n",
       "2019-02-01 16:46:43   268469          6   \n",
       "\n",
       "                                                        immat  fiability  l  \\\n",
       "created                                                                       \n",
       "2019-02-08 17:06:35  ffffe549301a252af04ca03d080c70f27d42981a         79  0   \n",
       "2019-02-01 13:25:05  ffffe3b1906a9ade77a4b7980f56237cb01b04e5         99  0   \n",
       "2019-02-01 13:12:12  ffffe3b1906a9ade77a4b7980f56237cb01b04e5         45  0   \n",
       "2019-02-01 12:41:50  ffffe3b1906a9ade77a4b7980f56237cb01b04e5         99 -1   \n",
       "2019-02-06 11:39:14  ffffe2b560ce8c126bdb72a77bab10deab471567         44  1   \n",
       "2019-02-03 09:18:42  ffffe2b560ce8c126bdb72a77bab10deab471567         33 -1   \n",
       "2019-02-01 12:26:42  ffffe2b560ce8c126bdb72a77bab10deab471567         34 -1   \n",
       "2019-02-09 17:20:10  ffffd95f9869dc474136d5a41d11e36f13aa2bff         99  0   \n",
       "2019-02-09 13:15:52  ffffd95f9869dc474136d5a41d11e36f13aa2bff         99  0   \n",
       "2019-02-09 16:21:42  ffffd5408df3bbd2729931eabb7954e59bb6316f         99  0   \n",
       "2019-02-09 05:54:52  ffffd5408df3bbd2729931eabb7954e59bb6316f         99  0   \n",
       "2019-02-08 05:53:40  ffffd5408df3bbd2729931eabb7954e59bb6316f         99  0   \n",
       "2019-02-07 05:52:49  ffffd5408df3bbd2729931eabb7954e59bb6316f         89  0   \n",
       "2019-02-06 16:24:39  ffffd5408df3bbd2729931eabb7954e59bb6316f         99  0   \n",
       "2019-02-06 06:11:10  ffffd5408df3bbd2729931eabb7954e59bb6316f         99  0   \n",
       "2019-02-05 06:39:39  ffffd5408df3bbd2729931eabb7954e59bb6316f         99 -1   \n",
       "2019-02-04 05:44:41  ffffd5408df3bbd2729931eabb7954e59bb6316f         69  0   \n",
       "2019-02-02 07:03:13  ffffd5408df3bbd2729931eabb7954e59bb6316f         89  0   \n",
       "2019-02-02 05:46:44  ffffd5408df3bbd2729931eabb7954e59bb6316f         99  0   \n",
       "2019-02-01 14:18:55  ffffd5408df3bbd2729931eabb7954e59bb6316f         89  0   \n",
       "2019-02-01 11:18:13  ffffd5408df3bbd2729931eabb7954e59bb6316f         99  1   \n",
       "2019-02-04 16:28:25  ffffc7ebaa9c4c3758424afca6fb4896dfcffa46         89  0   \n",
       "2019-02-04 16:27:26  ffffc7ebaa9c4c3758424afca6fb4896dfcffa46         89  1   \n",
       "2019-02-06 05:21:12  ffffc2f483a1eabfdcca73967e9f9ca131a2418d         56  0   \n",
       "2019-02-09 12:16:51  ffffbde9ac1bd30c9850c76739cebe58befef77e         99  0   \n",
       "2019-02-09 10:01:27  ffffbde9ac1bd30c9850c76739cebe58befef77e         99  0   \n",
       "2019-02-03 18:09:37  ffffa3f79e6233b28158691b6a6d96e642aa0ae5         89  0   \n",
       "2019-02-03 17:49:27  ffffa3f79e6233b28158691b6a6d96e642aa0ae5         99  0   \n",
       "2019-02-07 18:01:54  ffffa1d0ed7ec98dda46b0a57ae18938efc1bdd5         99  0   \n",
       "2019-02-10 12:34:28  ffff948dd14aa77742cf7561407f9e6ad8757d39         89 -1   \n",
       "...                                                       ...        ... ..   \n",
       "2019-02-03 15:20:36  00006190024e9afd711f5043d64263e906883838         99  0   \n",
       "2019-02-03 08:25:51  00006190024e9afd711f5043d64263e906883838         99  0   \n",
       "2019-02-02 18:54:45  00006190024e9afd711f5043d64263e906883838         99  0   \n",
       "2019-02-02 08:46:01  00006190024e9afd711f5043d64263e906883838         99  0   \n",
       "2019-02-08 20:40:29  00004d12edd1e487ef09e652c110903656c396ef         88  0   \n",
       "2019-02-08 12:18:31  00004d12edd1e487ef09e652c110903656c396ef         57  0   \n",
       "2019-02-04 14:09:12  00004d12edd1e487ef09e652c110903656c396ef         68  0   \n",
       "2019-02-05 12:23:40  000035efa06965635017e2637767a262b3978df9         66  0   \n",
       "2019-02-05 10:03:00  000035efa06965635017e2637767a262b3978df9         67  0   \n",
       "2019-02-05 09:45:28  000035efa06965635017e2637767a262b3978df9         99  0   \n",
       "2019-02-05 09:34:03  000035efa06965635017e2637767a262b3978df9         99  0   \n",
       "2019-02-04 09:20:46  00002bc58636b0bde97c261e1deb23cba73642a4         59  0   \n",
       "2019-02-05 14:19:25  0000270b58d27f34656060edb40a003223bb1782         69  0   \n",
       "2019-01-31 14:25:06  0000270b58d27f34656060edb40a003223bb1782         99  0   \n",
       "2019-01-31 07:47:10  0000270b58d27f34656060edb40a003223bb1782         79 -1   \n",
       "2019-01-31 07:12:06  0000270b58d27f34656060edb40a003223bb1782         79  0   \n",
       "2019-02-08 13:46:51  000011f4b45be6c682a135c244c0304bd530e8a6         99  0   \n",
       "2019-02-08 09:20:07  000011f4b45be6c682a135c244c0304bd530e8a6         99  0   \n",
       "2019-02-07 15:41:16  000011f4b45be6c682a135c244c0304bd530e8a6         99  0   \n",
       "2019-02-07 05:50:33  000011f4b45be6c682a135c244c0304bd530e8a6         99  0   \n",
       "2019-02-06 07:27:44  000011f4b45be6c682a135c244c0304bd530e8a6         99  0   \n",
       "2019-02-01 17:52:04  000011f4b45be6c682a135c244c0304bd530e8a6         79  0   \n",
       "2019-02-01 11:23:31  000011f4b45be6c682a135c244c0304bd530e8a6         99  0   \n",
       "2019-02-01 11:19:27  000011f4b45be6c682a135c244c0304bd530e8a6         99  0   \n",
       "2019-01-31 12:13:37  000011f4b45be6c682a135c244c0304bd530e8a6         99  0   \n",
       "2019-01-31 08:19:57  000011f4b45be6c682a135c244c0304bd530e8a6         99  0   \n",
       "2019-02-03 17:07:24  000005c9e6a0450891a3f6d53cfbccf66e3ddfcd         99  0   \n",
       "2019-02-03 16:47:06  000005c9e6a0450891a3f6d53cfbccf66e3ddfcd         99  0   \n",
       "2019-02-01 17:38:22  000005c9e6a0450891a3f6d53cfbccf66e3ddfcd         99  0   \n",
       "2019-02-01 16:46:43  000005c9e6a0450891a3f6d53cfbccf66e3ddfcd         99  0   \n",
       "\n",
       "                     state       id  \n",
       "created                              \n",
       "2019-02-08 17:06:35         3203972  \n",
       "2019-02-01 13:25:05     FR  3203971  \n",
       "2019-02-01 13:12:12     FR  3203970  \n",
       "2019-02-01 12:41:50     IT  3203969  \n",
       "2019-02-06 11:39:14     BE  3203969  \n",
       "2019-02-03 09:18:42     BE  3203968  \n",
       "2019-02-01 12:26:42     BE  3203967  \n",
       "2019-02-09 17:20:10     FR  3203967  \n",
       "2019-02-09 13:15:52     FR  3203966  \n",
       "2019-02-09 16:21:42     FR  3203966  \n",
       "2019-02-09 05:54:52     FR  3203965  \n",
       "2019-02-08 05:53:40     FR  3203964  \n",
       "2019-02-07 05:52:49     FR  3203963  \n",
       "2019-02-06 16:24:39     FR  3203962  \n",
       "2019-02-06 06:11:10     FR  3203961  \n",
       "2019-02-05 06:39:39     FR  3203960  \n",
       "2019-02-04 05:44:41     FR  3203959  \n",
       "2019-02-02 07:03:13     FR  3203958  \n",
       "2019-02-02 05:46:44     FR  3203957  \n",
       "2019-02-01 14:18:55     FR  3203956  \n",
       "2019-02-01 11:18:13     FR  3203955  \n",
       "2019-02-04 16:28:25     FR  3203955  \n",
       "2019-02-04 16:27:26     FR  3203954  \n",
       "2019-02-06 05:21:12  FR/IT  3203954  \n",
       "2019-02-09 12:16:51     FR  3203954  \n",
       "2019-02-09 10:01:27     FR  3203953  \n",
       "2019-02-03 18:09:37     FR  3203952  \n",
       "2019-02-03 17:49:27     FR  3203951  \n",
       "2019-02-07 18:01:54     FR  3203951  \n",
       "2019-02-10 12:34:28     BE  3203951  \n",
       "...                    ...      ...  \n",
       "2019-02-03 15:20:36     FR       24  \n",
       "2019-02-03 08:25:51     FR       23  \n",
       "2019-02-02 18:54:45     FR       22  \n",
       "2019-02-02 08:46:01     FR       21  \n",
       "2019-02-08 20:40:29     FR       21  \n",
       "2019-02-08 12:18:31     FR       20  \n",
       "2019-02-04 14:09:12     FR       19  \n",
       "2019-02-05 12:23:40     FR       19  \n",
       "2019-02-05 10:03:00     FR       18  \n",
       "2019-02-05 09:45:28     FR       17  \n",
       "2019-02-05 09:34:03     FR       16  \n",
       "2019-02-04 09:20:46     DE       15  \n",
       "2019-02-05 14:19:25     FR       15  \n",
       "2019-01-31 14:25:06     FR       14  \n",
       "2019-01-31 07:47:10     FR       13  \n",
       "2019-01-31 07:12:06     FR       12  \n",
       "2019-02-08 13:46:51     FR       12  \n",
       "2019-02-08 09:20:07     FR       11  \n",
       "2019-02-07 15:41:16     FR       10  \n",
       "2019-02-07 05:50:33     FR        9  \n",
       "2019-02-06 07:27:44     FR        8  \n",
       "2019-02-01 17:52:04     FR        7  \n",
       "2019-02-01 11:23:31     FR        6  \n",
       "2019-02-01 11:19:27     FR        5  \n",
       "2019-01-31 12:13:37     FR        4  \n",
       "2019-01-31 08:19:57     FR        3  \n",
       "2019-02-03 17:07:24     FR        3  \n",
       "2019-02-03 16:47:06     FR        2  \n",
       "2019-02-01 17:38:22     FR        1  \n",
       "2019-02-01 16:46:43     FR        0  \n",
       "\n",
       "[4046110 rows x 7 columns]"
      ]
     },
     "execution_count": 9,
     "metadata": {},
     "output_type": "execute_result"
    }
   ],
   "source": [
    "df_passages"
   ]
  },
  {
   "cell_type": "code",
   "execution_count": 43,
   "metadata": {},
   "outputs": [],
   "source": [
    "test_re=df_passages4.reset_index().merge(df_plaques, left_on='immat', right_on='chiffree')"
   ]
  },
  {
   "cell_type": "code",
   "execution_count": 45,
   "metadata": {},
   "outputs": [],
   "source": [
    "def check_valid_plaque(plque_ouvert, liste_plaque_europ):\n",
    "    for re_plaque in liste_plaque_europ.re_plaque.tolist() : \n",
    "        try :\n",
    "            if re.search(re_plaque,plque_ouvert) : \n",
    "                return True, tuple(liste_plaque_europ.loc[liste_plaque_europ['re_plaque']==re_plaque, 'pays'].tolist())\n",
    "        except : \n",
    "            print(re_plaque,plque_ouvert)\n",
    "    else : return False, None"
   ]
  },
  {
   "cell_type": "code",
   "execution_count": 97,
   "metadata": {},
   "outputs": [],
   "source": [
    "def check_valid_plaque(plque_ouvert, liste_plaque_europ):\n",
    "    if not re.match('^([0-9])+$|^([A-Z])+$',plque_ouvert) :\n",
    "        return any([re.match(retest,plque_ouvert) for retest in plaques_europ.re_plaque.tolist()])\n",
    "    else : return False"
   ]
  },
  {
   "cell_type": "code",
   "execution_count": 197,
   "metadata": {},
   "outputs": [
    {
     "data": {
      "text/plain": [
       "692674"
      ]
     },
     "execution_count": 197,
     "metadata": {},
     "output_type": "execute_result"
    }
   ],
   "source": [
    "len(df_passages4)"
   ]
  },
  {
   "cell_type": "code",
   "execution_count": 154,
   "metadata": {},
   "outputs": [],
   "source": [
    "plaques_europ=pd.read_csv(r'Q:\\DAIT\\TI\\DREAL33\\2018\\C17SI0073_LAPI\\Traitements\\python\\plaques_europ.txt', sep=\" \", header=None, names=['pays','re_plaque'])"
   ]
  },
  {
   "cell_type": "code",
   "execution_count": 155,
   "metadata": {},
   "outputs": [
    {
     "name": "stdout",
     "output_type": "stream",
     "text": [
      "Wall time: 2min 9s\n"
     ]
    }
   ],
   "source": [
    "%%time\n",
    "validite_pays=test_re.apply(lambda x : check_valid_plaque(x['plaque_ouverte'],plaques_europ),axis=1, result_type='expand')\n",
    "validite_pays.rename('validite',inplace=True)\n",
    "valid_plaque=pd.concat([test_re,validite_pays],axis=1, sort=False)"
   ]
  },
  {
   "cell_type": "code",
   "execution_count": 160,
   "metadata": {},
   "outputs": [
    {
     "data": {
      "text/plain": [
       "TTTTT         11\n",
       "ROBERT        11\n",
       "3362381       11\n",
       "GRIL0         11\n",
       "TIT           11\n",
       "71A           11\n",
       "WW44          11\n",
       "REGIS         11\n",
       "HAUSSN        11\n",
       "NE            11\n",
       "YP            11\n",
       "39RU253       11\n",
       "ADRIAN        11\n",
       "HE0MOKING     11\n",
       "PIRATA        11\n",
       "A8            11\n",
       "HONTZA        11\n",
       "NIV           11\n",
       "I1III         11\n",
       "TALIBA        11\n",
       "RUPL          11\n",
       "RIT1R         11\n",
       "ZAZA          11\n",
       "ANDRIS        11\n",
       "MIREK         11\n",
       "303295        11\n",
       "SI            11\n",
       "FW            11\n",
       "ORTUGAL       11\n",
       "LAGAFF        11\n",
       "145053        11\n",
       "SSSSSSSS      11\n",
       "JEANLUC       11\n",
       "RNOC3         11\n",
       "NNNNNNN       11\n",
       "BOADA         11\n",
       "90764I33      11\n",
       "A3            11\n",
       "DEPANNA0E     11\n",
       "YJ            11\n",
       "EPHANE        11\n",
       "OG1STICS      11\n",
       "PIT0U         11\n",
       "O1KINC        11\n",
       "940X          11\n",
       "6G1STICS      11\n",
       "QGISTICS      11\n",
       "7AW           11\n",
       "LAPDSTE       10\n",
       "LUCA          10\n",
       "ALEXANDRE     10\n",
       "VNJ           10\n",
       "GAETAN        10\n",
       "LU1S          10\n",
       "0A            10\n",
       "SARA          10\n",
       "VIED0         10\n",
       "DS            10\n",
       "8XOF          10\n",
       "RADEK         10\n",
       "M0IXU         10\n",
       "B845YT64      10\n",
       "3331203       10\n",
       "181C471       10\n",
       "MTP           10\n",
       "8ITIR         10\n",
       "PYRLANDIA     10\n",
       "TATIANA       10\n",
       "S9            10\n",
       "FERREIRA      10\n",
       "U8EC0         10\n",
       "60130511      10\n",
       "1203T         10\n",
       "58198II40     10\n",
       "EPANNAG       10\n",
       "R0MAN         10\n",
       "1II1          10\n",
       "NICDLLIN      10\n",
       "VVVVVVVV      10\n",
       "33529II40     10\n",
       "EX            10\n",
       "MRLEBELGE     10\n",
       "RANGEL        10\n",
       "ANDRZEI       10\n",
       "DUCAMIN       10\n",
       "LMOSCA        10\n",
       "SIMA0         10\n",
       "TRANS         10\n",
       "3744IHGN      10\n",
       "ANGEL         10\n",
       "J0NATHAN      10\n",
       "3811289       10\n",
       "15063         10\n",
       "ADRIEN        10\n",
       "8Q14HTX       10\n",
       "3A19GPM       10\n",
       "K1BBB5        10\n",
       "VEHICULE      10\n",
       "MICHAL        10\n",
       "PV            10\n",
       "Z1            10\n",
       "JUANCAR       10\n",
       "DESERT        10\n",
       "WVL6          10\n",
       "C09663BM      10\n",
       "K11           10\n",
       "7777          10\n",
       "65640II40     10\n",
       "T31J779       10\n",
       "9O84TO33      10\n",
       "JPIERRE       10\n",
       "50114II40     10\n",
       "331203I       10\n",
       "W7            10\n",
       "FANFAN        10\n",
       "F7            10\n",
       "TV            10\n",
       "LIII          10\n",
       "INDI0         10\n",
       "1S27BVM       10\n",
       "WC            10\n",
       "4IVA          10\n",
       "EDRIC         10\n",
       "RUI            9\n",
       "LVIEIRA        9\n",
       "9013082        9\n",
       "06WX7I7        9\n",
       "JMENDES        9\n",
       "JEREHY         9\n",
       "4HHHH          9\n",
       "AB             9\n",
       "PG             9\n",
       "PASQIIA        9\n",
       "DL             9\n",
       "CATALAN        9\n",
       "CHAUSSN        9\n",
       "F6LNX          9\n",
       "DI91           9\n",
       "SW             9\n",
       "O1KANG         9\n",
       "BENJAMIN       9\n",
       "WVV1           9\n",
       "BRICE          9\n",
       "YDIIFJX        9\n",
       "1F             9\n",
       "145036         9\n",
       "BL             9\n",
       "ADE            9\n",
       "KE             9\n",
       "RN             9\n",
       "PABL0          9\n",
       "73TA211        9\n",
       "WWWHSVBE       9\n",
       "FABIAN         9\n",
       "FYTY           9\n",
       "SYLWEK         9\n",
       "DEPANNA        9\n",
       "BENNE          9\n",
       "JAAV           9\n",
       "PP             9\n",
       "STAS           9\n",
       "JERIC          9\n",
       "MERCEDES       9\n",
       "MARIAN         9\n",
       "BENFICA        9\n",
       "00             9\n",
       "4II            9\n",
       "74598III2      9\n",
       "KXXB           9\n",
       "TWW            9\n",
       "I0WX2800       9\n",
       "ELLE0          9\n",
       "KLC            9\n",
       "342OJSV        9\n",
       "PT1ONNEL       9\n",
       "KOKO           9\n",
       "VP             9\n",
       "KK             9\n",
       "145049         9\n",
       "MI             9\n",
       "B0O91BX        9\n",
       "WWWW2          9\n",
       "RL             9\n",
       "SININHO        9\n",
       "0L0RZAN0       9\n",
       "O9UB29         9\n",
       "TRANSFATR      9\n",
       "RANSPQRTS      9\n",
       "G0RT2          9\n",
       "37SH285        9\n",
       "VW             9\n",
       "1AXI           9\n",
       "ATRICK         9\n",
       "DQUANE         9\n",
       "SIINAMI        9\n",
       "HUMALULI       9\n",
       "TANKSBE        9\n",
       "DAWID          9\n",
       "B518RO1        9\n",
       "YANYAN         9\n",
       "ALICIA         9\n",
       "TIII           9\n",
       "CLAUDIU        9\n",
       "MARQUES        9\n",
       "FRANCKY        9\n",
       "210V11         9\n",
       "FJ             9\n",
       "LENAIN         9\n",
       "7IIII          9\n",
       "SHIIFSH        9\n",
       "KINI           9\n",
       "I11I           9\n",
       "V11            9\n",
       "ANN            9\n",
       "BESNAGA        9\n",
       "LUIS           9\n",
       "3312031        9\n",
       "INCENT         9\n",
       "50009II40      9\n",
       "ALIN           9\n",
       "PLZZADCLD      9\n",
       "70565III40     8\n",
       "LE             8\n",
       "MICKAEL        8\n",
       "R5C00L         8\n",
       "SSSSSSS        8\n",
       "II34           8\n",
       "010J29         8\n",
       "130A01         8\n",
       "BARRAS         8\n",
       "G0PN02         8\n",
       "39211II40      8\n",
       "1DEA           8\n",
       "P4             8\n",
       "P0T6S36        8\n",
       "8V8X8S8        8\n",
       "PAPE           8\n",
       "AINARA         8\n",
       "6GQ06          8\n",
       "145032         8\n",
       "HISZPAN        8\n",
       "B0CA87         8\n",
       "SEHVICE        8\n",
       "FILDEFER       8\n",
       "64168II40      8\n",
       "I8IRN43        8\n",
       "1IIIII         8\n",
       "34ACR175       8\n",
       "IIIIV          8\n",
       "73RW           8\n",
       "              ..\n",
       "C0NEXCEP       2\n",
       "63R008         2\n",
       "VD152165       2\n",
       "78LA411        2\n",
       "71G039         2\n",
       "27FB911        2\n",
       "R0SA           2\n",
       "2D             2\n",
       "39O5JMY        2\n",
       "AVI0           2\n",
       "MONDEGO        2\n",
       "Y72            2\n",
       "36R090         2\n",
       "780L58         2\n",
       "DAMIEN         2\n",
       "226381I40      2\n",
       "460Q90         2\n",
       "N0RCIKS        2\n",
       "0O84KJD        2\n",
       "K1T            2\n",
       "11I111         2\n",
       "F4FET          2\n",
       "DAVIDC         2\n",
       "PTISTA         2\n",
       "P1ER           2\n",
       "1STE           2\n",
       "JVALENT        2\n",
       "343621I        2\n",
       "MOBIL          2\n",
       "74UC311        2\n",
       "P05S616        2\n",
       "A111           2\n",
       "AURELIE        2\n",
       "WAGAROSA       2\n",
       "YR             2\n",
       "42V093         2\n",
       "FH             2\n",
       "0NTEALEGRE     2\n",
       "0P2120J        2\n",
       "50328III13     2\n",
       "45037          2\n",
       "8SS07          2\n",
       "55652III13     2\n",
       "84H916         2\n",
       "PANNAG         2\n",
       "ASTURIAS       2\n",
       "39621III59     2\n",
       "01UX131        2\n",
       "68807III2      2\n",
       "660X14         2\n",
       "65TE48I        2\n",
       "H0             2\n",
       "81294II17      2\n",
       "P1U2730A       2\n",
       "331987         2\n",
       "PALEX          2\n",
       "F1LIPE         2\n",
       "TRAVIE         2\n",
       "750H09         2\n",
       "52314I140      2\n",
       "CD98OQTW       2\n",
       "19687II4O      2\n",
       "CHIC0FL0YD     2\n",
       "D61320081      2\n",
       "B0MB0          2\n",
       "4CD            2\n",
       "962GDJB        2\n",
       "DK74           2\n",
       "PRATA          2\n",
       "IIIIID         2\n",
       "JREK           2\n",
       "410L29         2\n",
       "050X64         2\n",
       "460L06         2\n",
       "181730003      2\n",
       "550L34         2\n",
       "BK             2\n",
       "MRRR9          2\n",
       "N2TP30742      2\n",
       "06TP           2\n",
       "005ISCH        2\n",
       "17N            2\n",
       "KULDAR         2\n",
       "EMIL           2\n",
       "F1L            2\n",
       "ESSICA         2\n",
       "6629IJLJ       2\n",
       "218O3III9      2\n",
       "680A83         2\n",
       "PTA            2\n",
       "AD1AD          2\n",
       "I3C            2\n",
       "26810O5        2\n",
       "990S52         2\n",
       "IM             2\n",
       "180F23         2\n",
       "MPIRES         2\n",
       "3ERDA          2\n",
       "R5412BCZ       2\n",
       "VVVVVVYV       2\n",
       "DANNEL         2\n",
       "QG15TICS       2\n",
       "I3257          2\n",
       "I5IWX1I44      2\n",
       "C0NVO          2\n",
       "53381H         2\n",
       "8011908        2\n",
       "E0D1S          2\n",
       "H2107KRV       2\n",
       "LAR1V1ERE      2\n",
       "54086          2\n",
       "SS1S           2\n",
       "1IIN           2\n",
       "C9             2\n",
       "KRIVBASS       2\n",
       "52764II40      2\n",
       "N00013M        2\n",
       "34117I1        2\n",
       "5O55KRB        2\n",
       "E8120AUE       2\n",
       "610F04         2\n",
       "T18502         2\n",
       "LJLJ           2\n",
       "58339          2\n",
       "8B45YT64       2\n",
       "EF             2\n",
       "61530030       2\n",
       "RAUL0          2\n",
       "WIA            2\n",
       "8V1I           2\n",
       "RCHAVES        2\n",
       "46QT401        2\n",
       "0AVI0C         2\n",
       "MM88G          2\n",
       "D20530018      2\n",
       "260T39         2\n",
       "27Q017         2\n",
       "3P85GBB        2\n",
       "CMWW7          2\n",
       "TADAS          2\n",
       "VS149712       2\n",
       "SQ             2\n",
       "CB48O6KB       2\n",
       "960M33         2\n",
       "400P73         2\n",
       "I4IMN58O       2\n",
       "USTIER         2\n",
       "PSILVA         2\n",
       "TRUC           2\n",
       "A727EA67       2\n",
       "77QQ4O         2\n",
       "B2212          2\n",
       "55870II40      2\n",
       "11105          2\n",
       "2231038        2\n",
       "9V             2\n",
       "HERV           2\n",
       "PESCADOR       2\n",
       "PYP            2\n",
       "751P42         2\n",
       "II33           2\n",
       "770797         2\n",
       "1MN            2\n",
       "CVNNN          2\n",
       "CERKEZ0GLU     2\n",
       "O9FA82         2\n",
       "FRIC           2\n",
       "ALSACE         2\n",
       "LTL            2\n",
       "04VQ021        2\n",
       "ASW4           2\n",
       "800Z16         2\n",
       "IIIILI         2\n",
       "68U012         2\n",
       "E3604G         2\n",
       "3URB0          2\n",
       "MKING          2\n",
       "EW42           2\n",
       "RYCHA          2\n",
       "BUT99          2\n",
       "21217IL40      2\n",
       "P411           2\n",
       "260M39         2\n",
       "R500           2\n",
       "II40I          2\n",
       "1VA            2\n",
       "TISHKO         2\n",
       "XVELITIR       2\n",
       "NE140907       2\n",
       "1017733        2\n",
       "820J10         2\n",
       "CARL           2\n",
       "EGUEIRA        2\n",
       "60SF103        2\n",
       "8615Z1         2\n",
       "DQ124YS1       2\n",
       "RSILVA         2\n",
       "851OKKF        2\n",
       "MXIOAXO        2\n",
       "24866III9      2\n",
       "TRASGU         2\n",
       "CHTI           2\n",
       "940N08         2\n",
       "XYRAUL         2\n",
       "119JV          2\n",
       "01111          2\n",
       "KXX            2\n",
       "43FV081        2\n",
       "5AZ96O9        2\n",
       "QUBQU          2\n",
       "98I097         2\n",
       "MIR0SLAVA      2\n",
       "11I19          2\n",
       "8001789        2\n",
       "8791M0         2\n",
       "06N009         2\n",
       "HRIST          2\n",
       "444447         2\n",
       "7IT            2\n",
       "VVN            2\n",
       "040R65         2\n",
       "10177          2\n",
       "8OC08          2\n",
       "WNWW4          2\n",
       "66FV659        2\n",
       "HQNEALPES      2\n",
       "P0ST           2\n",
       "HDUARTE        2\n",
       "K01994         2\n",
       "B663AM178      2\n",
       "NSNI           2\n",
       "SAA            2\n",
       "AG334602       2\n",
       "IS10           2\n",
       "7AV            2\n",
       "44M0NT01R      2\n",
       "09V000         2\n",
       "84463V         2\n",
       "26FV591        2\n",
       "JPIRES         2\n",
       "GE836508       2\n",
       "OG1ST1CAS      2\n",
       "THEIN          2\n",
       "580N02         2\n",
       "LARI           2\n",
       "160L71         2\n",
       "FRET           2\n",
       "PASHKA         2\n",
       "R9592BCY       2\n",
       "59OPW          2\n",
       "Name: plaque_ouverte, Length: 5884, dtype: int64"
      ]
     },
     "execution_count": 160,
     "metadata": {},
     "output_type": "execute_result"
    }
   ],
   "source": [
    "toto=valid_plaque.loc[(~valid_plaque['validite'])].plaque_ouverte.value_counts()\n",
    "toto.loc[(toto<12) & (toto>1)]"
   ]
  },
  {
   "cell_type": "code",
   "execution_count": 168,
   "metadata": {},
   "outputs": [
    {
     "data": {
      "text/html": [
       "<div>\n",
       "<style scoped>\n",
       "    .dataframe tbody tr th:only-of-type {\n",
       "        vertical-align: middle;\n",
       "    }\n",
       "\n",
       "    .dataframe tbody tr th {\n",
       "        vertical-align: top;\n",
       "    }\n",
       "\n",
       "    .dataframe thead th {\n",
       "        text-align: right;\n",
       "    }\n",
       "</style>\n",
       "<table border=\"1\" class=\"dataframe\">\n",
       "  <thead>\n",
       "    <tr style=\"text-align: right;\">\n",
       "      <th></th>\n",
       "      <th>plaque_ouverte</th>\n",
       "      <th>chiffree</th>\n",
       "    </tr>\n",
       "  </thead>\n",
       "  <tbody>\n",
       "    <tr>\n",
       "      <th>377820</th>\n",
       "      <td>58198II40</td>\n",
       "      <td>b6cd4b737df88935fa302e503746474ac21cecb2</td>\n",
       "    </tr>\n",
       "  </tbody>\n",
       "</table>\n",
       "</div>"
      ],
      "text/plain": [
       "       plaque_ouverte                                  chiffree\n",
       "377820      58198II40  b6cd4b737df88935fa302e503746474ac21cecb2"
      ]
     },
     "execution_count": 168,
     "metadata": {},
     "output_type": "execute_result"
    }
   ],
   "source": [
    "df_plaques.loc[df_plaques['plaque_ouverte']=='58198II40']"
   ]
  },
  {
   "cell_type": "code",
   "execution_count": 169,
   "metadata": {},
   "outputs": [
    {
     "data": {
      "text/html": [
       "<div>\n",
       "<style scoped>\n",
       "    .dataframe tbody tr th:only-of-type {\n",
       "        vertical-align: middle;\n",
       "    }\n",
       "\n",
       "    .dataframe tbody tr th {\n",
       "        vertical-align: top;\n",
       "    }\n",
       "\n",
       "    .dataframe thead th {\n",
       "        text-align: right;\n",
       "    }\n",
       "</style>\n",
       "<table border=\"1\" class=\"dataframe\">\n",
       "  <thead>\n",
       "    <tr style=\"text-align: right;\">\n",
       "      <th></th>\n",
       "      <th>index</th>\n",
       "      <th>camera_id</th>\n",
       "      <th>immat</th>\n",
       "      <th>fiability</th>\n",
       "      <th>l</th>\n",
       "      <th>state</th>\n",
       "      <th>id</th>\n",
       "    </tr>\n",
       "    <tr>\n",
       "      <th>created</th>\n",
       "      <th></th>\n",
       "      <th></th>\n",
       "      <th></th>\n",
       "      <th></th>\n",
       "      <th></th>\n",
       "      <th></th>\n",
       "      <th></th>\n",
       "    </tr>\n",
       "  </thead>\n",
       "  <tbody>\n",
       "    <tr>\n",
       "      <th>2019-01-31 01:49:57</th>\n",
       "      <td>2007477</td>\n",
       "      <td>6</td>\n",
       "      <td>b6cd4b737df88935fa302e503746474ac21cecb2</td>\n",
       "      <td>36</td>\n",
       "      <td>1</td>\n",
       "      <td></td>\n",
       "      <td>2508949</td>\n",
       "    </tr>\n",
       "    <tr>\n",
       "      <th>2019-01-31 02:00:33</th>\n",
       "      <td>2013717</td>\n",
       "      <td>3</td>\n",
       "      <td>b6cd4b737df88935fa302e503746474ac21cecb2</td>\n",
       "      <td>57</td>\n",
       "      <td>1</td>\n",
       "      <td></td>\n",
       "      <td>2508950</td>\n",
       "    </tr>\n",
       "    <tr>\n",
       "      <th>2019-01-31 12:19:56</th>\n",
       "      <td>270389</td>\n",
       "      <td>13</td>\n",
       "      <td>b6cd4b737df88935fa302e503746474ac21cecb2</td>\n",
       "      <td>68</td>\n",
       "      <td>1</td>\n",
       "      <td></td>\n",
       "      <td>2508951</td>\n",
       "    </tr>\n",
       "    <tr>\n",
       "      <th>2019-02-07 14:09:34</th>\n",
       "      <td>272524</td>\n",
       "      <td>15</td>\n",
       "      <td>b6cd4b737df88935fa302e503746474ac21cecb2</td>\n",
       "      <td>57</td>\n",
       "      <td>1</td>\n",
       "      <td></td>\n",
       "      <td>2508952</td>\n",
       "    </tr>\n",
       "    <tr>\n",
       "      <th>2019-02-07 14:40:20</th>\n",
       "      <td>2110194</td>\n",
       "      <td>19</td>\n",
       "      <td>b6cd4b737df88935fa302e503746474ac21cecb2</td>\n",
       "      <td>38</td>\n",
       "      <td>1</td>\n",
       "      <td></td>\n",
       "      <td>2508953</td>\n",
       "    </tr>\n",
       "    <tr>\n",
       "      <th>2019-02-09 16:01:22</th>\n",
       "      <td>2065684</td>\n",
       "      <td>12</td>\n",
       "      <td>b6cd4b737df88935fa302e503746474ac21cecb2</td>\n",
       "      <td>68</td>\n",
       "      <td>1</td>\n",
       "      <td></td>\n",
       "      <td>2508954</td>\n",
       "    </tr>\n",
       "    <tr>\n",
       "      <th>2019-02-09 16:15:24</th>\n",
       "      <td>2044710</td>\n",
       "      <td>6</td>\n",
       "      <td>b6cd4b737df88935fa302e503746474ac21cecb2</td>\n",
       "      <td>78</td>\n",
       "      <td>1</td>\n",
       "      <td></td>\n",
       "      <td>2508955</td>\n",
       "    </tr>\n",
       "    <tr>\n",
       "      <th>2019-02-09 16:27:03</th>\n",
       "      <td>2090450</td>\n",
       "      <td>3</td>\n",
       "      <td>b6cd4b737df88935fa302e503746474ac21cecb2</td>\n",
       "      <td>67</td>\n",
       "      <td>1</td>\n",
       "      <td></td>\n",
       "      <td>2508956</td>\n",
       "    </tr>\n",
       "    <tr>\n",
       "      <th>2019-02-09 16:46:08</th>\n",
       "      <td>2105901</td>\n",
       "      <td>18</td>\n",
       "      <td>b6cd4b737df88935fa302e503746474ac21cecb2</td>\n",
       "      <td>78</td>\n",
       "      <td>1</td>\n",
       "      <td></td>\n",
       "      <td>2508957</td>\n",
       "    </tr>\n",
       "    <tr>\n",
       "      <th>2019-02-09 17:36:35</th>\n",
       "      <td>270108</td>\n",
       "      <td>13</td>\n",
       "      <td>b6cd4b737df88935fa302e503746474ac21cecb2</td>\n",
       "      <td>67</td>\n",
       "      <td>1</td>\n",
       "      <td></td>\n",
       "      <td>2508958</td>\n",
       "    </tr>\n",
       "  </tbody>\n",
       "</table>\n",
       "</div>"
      ],
      "text/plain": [
       "                       index  camera_id  \\\n",
       "created                                   \n",
       "2019-01-31 01:49:57  2007477          6   \n",
       "2019-01-31 02:00:33  2013717          3   \n",
       "2019-01-31 12:19:56   270389         13   \n",
       "2019-02-07 14:09:34   272524         15   \n",
       "2019-02-07 14:40:20  2110194         19   \n",
       "2019-02-09 16:01:22  2065684         12   \n",
       "2019-02-09 16:15:24  2044710          6   \n",
       "2019-02-09 16:27:03  2090450          3   \n",
       "2019-02-09 16:46:08  2105901         18   \n",
       "2019-02-09 17:36:35   270108         13   \n",
       "\n",
       "                                                        immat  fiability  l  \\\n",
       "created                                                                       \n",
       "2019-01-31 01:49:57  b6cd4b737df88935fa302e503746474ac21cecb2         36  1   \n",
       "2019-01-31 02:00:33  b6cd4b737df88935fa302e503746474ac21cecb2         57  1   \n",
       "2019-01-31 12:19:56  b6cd4b737df88935fa302e503746474ac21cecb2         68  1   \n",
       "2019-02-07 14:09:34  b6cd4b737df88935fa302e503746474ac21cecb2         57  1   \n",
       "2019-02-07 14:40:20  b6cd4b737df88935fa302e503746474ac21cecb2         38  1   \n",
       "2019-02-09 16:01:22  b6cd4b737df88935fa302e503746474ac21cecb2         68  1   \n",
       "2019-02-09 16:15:24  b6cd4b737df88935fa302e503746474ac21cecb2         78  1   \n",
       "2019-02-09 16:27:03  b6cd4b737df88935fa302e503746474ac21cecb2         67  1   \n",
       "2019-02-09 16:46:08  b6cd4b737df88935fa302e503746474ac21cecb2         78  1   \n",
       "2019-02-09 17:36:35  b6cd4b737df88935fa302e503746474ac21cecb2         67  1   \n",
       "\n",
       "                    state       id  \n",
       "created                             \n",
       "2019-01-31 01:49:57        2508949  \n",
       "2019-01-31 02:00:33        2508950  \n",
       "2019-01-31 12:19:56        2508951  \n",
       "2019-02-07 14:09:34        2508952  \n",
       "2019-02-07 14:40:20        2508953  \n",
       "2019-02-09 16:01:22        2508954  \n",
       "2019-02-09 16:15:24        2508955  \n",
       "2019-02-09 16:27:03        2508956  \n",
       "2019-02-09 16:46:08        2508957  \n",
       "2019-02-09 17:36:35        2508958  "
      ]
     },
     "execution_count": 169,
     "metadata": {},
     "output_type": "execute_result"
    }
   ],
   "source": [
    "df_passages4.loc[df_passages4['immat']=='b6cd4b737df88935fa302e503746474ac21cecb2']"
   ]
  },
  {
   "cell_type": "code",
   "execution_count": 27,
   "metadata": {},
   "outputs": [
    {
     "data": {
      "text/html": [
       "<div>\n",
       "<style scoped>\n",
       "    .dataframe tbody tr th:only-of-type {\n",
       "        vertical-align: middle;\n",
       "    }\n",
       "\n",
       "    .dataframe tbody tr th {\n",
       "        vertical-align: top;\n",
       "    }\n",
       "\n",
       "    .dataframe thead th {\n",
       "        text-align: right;\n",
       "    }\n",
       "</style>\n",
       "<table border=\"1\" class=\"dataframe\">\n",
       "  <thead>\n",
       "    <tr style=\"text-align: right;\">\n",
       "      <th></th>\n",
       "      <th>cam_d</th>\n",
       "      <th>cam_o</th>\n",
       "      <th>cameras</th>\n",
       "      <th>destination</th>\n",
       "      <th>long_km</th>\n",
       "      <th>nb_cams</th>\n",
       "      <th>o_d</th>\n",
       "      <th>origine</th>\n",
       "      <th>tps_parcours_theoriq</th>\n",
       "    </tr>\n",
       "  </thead>\n",
       "  <tbody>\n",
       "    <tr>\n",
       "      <th>0</th>\n",
       "      <td>11</td>\n",
       "      <td>15</td>\n",
       "      <td>(15, 19, 4, 5, 11)</td>\n",
       "      <td>A10</td>\n",
       "      <td>120.325213</td>\n",
       "      <td>5</td>\n",
       "      <td>A63-A10</td>\n",
       "      <td>A63</td>\n",
       "      <td>01:30:14.634000</td>\n",
       "    </tr>\n",
       "    <tr>\n",
       "      <th>1</th>\n",
       "      <td>11</td>\n",
       "      <td>15</td>\n",
       "      <td>(15, 19, 1, 5, 11)</td>\n",
       "      <td>A10</td>\n",
       "      <td>125.202188</td>\n",
       "      <td>5</td>\n",
       "      <td>A63-A10</td>\n",
       "      <td>A63</td>\n",
       "      <td>01:33:54.098000</td>\n",
       "    </tr>\n",
       "    <tr>\n",
       "      <th>6</th>\n",
       "      <td>11</td>\n",
       "      <td>15</td>\n",
       "      <td>(15, 19, 1, 11)</td>\n",
       "      <td>A10</td>\n",
       "      <td>125.202188</td>\n",
       "      <td>4</td>\n",
       "      <td>A63-A10</td>\n",
       "      <td>A63</td>\n",
       "      <td>01:33:54.098000</td>\n",
       "    </tr>\n",
       "    <tr>\n",
       "      <th>5</th>\n",
       "      <td>11</td>\n",
       "      <td>15</td>\n",
       "      <td>(15, 19, 4, 11)</td>\n",
       "      <td>A10</td>\n",
       "      <td>120.325213</td>\n",
       "      <td>4</td>\n",
       "      <td>A63-A10</td>\n",
       "      <td>A63</td>\n",
       "      <td>01:30:14.634000</td>\n",
       "    </tr>\n",
       "    <tr>\n",
       "      <th>2</th>\n",
       "      <td>11</td>\n",
       "      <td>15</td>\n",
       "      <td>(15, 4, 5, 11)</td>\n",
       "      <td>A10</td>\n",
       "      <td>120.325213</td>\n",
       "      <td>4</td>\n",
       "      <td>A63-A10</td>\n",
       "      <td>A63</td>\n",
       "      <td>01:30:14.634000</td>\n",
       "    </tr>\n",
       "    <tr>\n",
       "      <th>4</th>\n",
       "      <td>11</td>\n",
       "      <td>15</td>\n",
       "      <td>(15, 19, 5, 11)</td>\n",
       "      <td>A10</td>\n",
       "      <td>120.325213</td>\n",
       "      <td>4</td>\n",
       "      <td>A63-A10</td>\n",
       "      <td>A63</td>\n",
       "      <td>01:30:14.634000</td>\n",
       "    </tr>\n",
       "    <tr>\n",
       "      <th>3</th>\n",
       "      <td>11</td>\n",
       "      <td>15</td>\n",
       "      <td>(15, 1, 5, 11)</td>\n",
       "      <td>A10</td>\n",
       "      <td>125.202188</td>\n",
       "      <td>4</td>\n",
       "      <td>A63-A10</td>\n",
       "      <td>A63</td>\n",
       "      <td>01:33:54.098000</td>\n",
       "    </tr>\n",
       "    <tr>\n",
       "      <th>7</th>\n",
       "      <td>11</td>\n",
       "      <td>15</td>\n",
       "      <td>(15, 4, 11)</td>\n",
       "      <td>A10</td>\n",
       "      <td>120.325213</td>\n",
       "      <td>3</td>\n",
       "      <td>A63-A10</td>\n",
       "      <td>A63</td>\n",
       "      <td>01:30:14.634000</td>\n",
       "    </tr>\n",
       "    <tr>\n",
       "      <th>8</th>\n",
       "      <td>11</td>\n",
       "      <td>15</td>\n",
       "      <td>(15, 1, 11)</td>\n",
       "      <td>A10</td>\n",
       "      <td>125.202188</td>\n",
       "      <td>3</td>\n",
       "      <td>A63-A10</td>\n",
       "      <td>A63</td>\n",
       "      <td>01:33:54.098000</td>\n",
       "    </tr>\n",
       "    <tr>\n",
       "      <th>9</th>\n",
       "      <td>11</td>\n",
       "      <td>15</td>\n",
       "      <td>(15, 5, 11)</td>\n",
       "      <td>A10</td>\n",
       "      <td>120.325213</td>\n",
       "      <td>3</td>\n",
       "      <td>A63-A10</td>\n",
       "      <td>A63</td>\n",
       "      <td>01:30:14.634000</td>\n",
       "    </tr>\n",
       "    <tr>\n",
       "      <th>10</th>\n",
       "      <td>11</td>\n",
       "      <td>15</td>\n",
       "      <td>(15, 19, 11)</td>\n",
       "      <td>A10</td>\n",
       "      <td>120.325213</td>\n",
       "      <td>3</td>\n",
       "      <td>A63-A10</td>\n",
       "      <td>A63</td>\n",
       "      <td>01:30:14.634000</td>\n",
       "    </tr>\n",
       "    <tr>\n",
       "      <th>11</th>\n",
       "      <td>11</td>\n",
       "      <td>15</td>\n",
       "      <td>(15, 11)</td>\n",
       "      <td>A10</td>\n",
       "      <td>120.325213</td>\n",
       "      <td>2</td>\n",
       "      <td>A63-A10</td>\n",
       "      <td>A63</td>\n",
       "      <td>01:30:14.634000</td>\n",
       "    </tr>\n",
       "  </tbody>\n",
       "</table>\n",
       "</div>"
      ],
      "text/plain": [
       "    cam_d  cam_o             cameras destination     long_km  nb_cams  \\\n",
       "0      11     15  (15, 19, 4, 5, 11)         A10  120.325213        5   \n",
       "1      11     15  (15, 19, 1, 5, 11)         A10  125.202188        5   \n",
       "6      11     15     (15, 19, 1, 11)         A10  125.202188        4   \n",
       "5      11     15     (15, 19, 4, 11)         A10  120.325213        4   \n",
       "2      11     15      (15, 4, 5, 11)         A10  120.325213        4   \n",
       "4      11     15     (15, 19, 5, 11)         A10  120.325213        4   \n",
       "3      11     15      (15, 1, 5, 11)         A10  125.202188        4   \n",
       "7      11     15         (15, 4, 11)         A10  120.325213        3   \n",
       "8      11     15         (15, 1, 11)         A10  125.202188        3   \n",
       "9      11     15         (15, 5, 11)         A10  120.325213        3   \n",
       "10     11     15        (15, 19, 11)         A10  120.325213        3   \n",
       "11     11     15            (15, 11)         A10  120.325213        2   \n",
       "\n",
       "        o_d origine tps_parcours_theoriq  \n",
       "0   A63-A10     A63      01:30:14.634000  \n",
       "1   A63-A10     A63      01:33:54.098000  \n",
       "6   A63-A10     A63      01:33:54.098000  \n",
       "5   A63-A10     A63      01:30:14.634000  \n",
       "2   A63-A10     A63      01:30:14.634000  \n",
       "4   A63-A10     A63      01:30:14.634000  \n",
       "3   A63-A10     A63      01:33:54.098000  \n",
       "7   A63-A10     A63      01:30:14.634000  \n",
       "8   A63-A10     A63      01:33:54.098000  \n",
       "9   A63-A10     A63      01:30:14.634000  \n",
       "10  A63-A10     A63      01:30:14.634000  \n",
       "11  A63-A10     A63      01:30:14.634000  "
      ]
     },
     "execution_count": 27,
     "metadata": {},
     "output_type": "execute_result"
    }
   ],
   "source": [
    "t.liste_complete_trajet.loc[t.liste_complete_trajet['o_d']=='A63-A10']"
   ]
  },
  {
   "cell_type": "code",
   "execution_count": 39,
   "metadata": {},
   "outputs": [
    {
     "data": {
      "text/html": [
       "<div>\n",
       "<style scoped>\n",
       "    .dataframe tbody tr th:only-of-type {\n",
       "        vertical-align: middle;\n",
       "    }\n",
       "\n",
       "    .dataframe tbody tr th {\n",
       "        vertical-align: top;\n",
       "    }\n",
       "\n",
       "    .dataframe thead th {\n",
       "        text-align: right;\n",
       "    }\n",
       "</style>\n",
       "<table border=\"1\" class=\"dataframe\">\n",
       "  <thead>\n",
       "    <tr style=\"text-align: right;\">\n",
       "      <th></th>\n",
       "      <th>cam_d</th>\n",
       "      <th>cam_o</th>\n",
       "      <th>cameras</th>\n",
       "      <th>destination</th>\n",
       "      <th>long_km</th>\n",
       "      <th>nb_cams</th>\n",
       "      <th>o_d</th>\n",
       "      <th>origine</th>\n",
       "      <th>tps_parcours_theoriq</th>\n",
       "    </tr>\n",
       "  </thead>\n",
       "  <tbody>\n",
       "    <tr>\n",
       "      <th>0</th>\n",
       "      <td>4</td>\n",
       "      <td>15</td>\n",
       "      <td>(15, 19, 4)</td>\n",
       "      <td>N10</td>\n",
       "      <td>85.048763</td>\n",
       "      <td>3</td>\n",
       "      <td>A63-N10</td>\n",
       "      <td>A63</td>\n",
       "      <td>01:03:47.194000</td>\n",
       "    </tr>\n",
       "    <tr>\n",
       "      <th>14</th>\n",
       "      <td>13</td>\n",
       "      <td>3</td>\n",
       "      <td>(3, 18, 13)</td>\n",
       "      <td>A63</td>\n",
       "      <td>91.128643</td>\n",
       "      <td>3</td>\n",
       "      <td>A89-A63</td>\n",
       "      <td>A89</td>\n",
       "      <td>01:08:20.788000</td>\n",
       "    </tr>\n",
       "    <tr>\n",
       "      <th>38</th>\n",
       "      <td>11</td>\n",
       "      <td>1</td>\n",
       "      <td>(1, 5, 11)</td>\n",
       "      <td>A10</td>\n",
       "      <td>125.202188</td>\n",
       "      <td>3</td>\n",
       "      <td>A63-A10</td>\n",
       "      <td>A63</td>\n",
       "      <td>01:33:54.098000</td>\n",
       "    </tr>\n",
       "    <tr>\n",
       "      <th>1</th>\n",
       "      <td>1</td>\n",
       "      <td>15</td>\n",
       "      <td>(15, 19, 1)</td>\n",
       "      <td>N10</td>\n",
       "      <td>89.925738</td>\n",
       "      <td>3</td>\n",
       "      <td>A63-N10</td>\n",
       "      <td>A63</td>\n",
       "      <td>01:07:26.658000</td>\n",
       "    </tr>\n",
       "    <tr>\n",
       "      <th>36</th>\n",
       "      <td>11</td>\n",
       "      <td>4</td>\n",
       "      <td>(4, 5, 11)</td>\n",
       "      <td>A10</td>\n",
       "      <td>120.325213</td>\n",
       "      <td>3</td>\n",
       "      <td>A63-A10</td>\n",
       "      <td>A63</td>\n",
       "      <td>01:30:14.634000</td>\n",
       "    </tr>\n",
       "    <tr>\n",
       "      <th>34</th>\n",
       "      <td>2</td>\n",
       "      <td>12</td>\n",
       "      <td>(12, 6, 2)</td>\n",
       "      <td>A63</td>\n",
       "      <td>108.707013</td>\n",
       "      <td>3</td>\n",
       "      <td>A10-A63</td>\n",
       "      <td>A10</td>\n",
       "      <td>01:21:31.815000</td>\n",
       "    </tr>\n",
       "    <tr>\n",
       "      <th>7</th>\n",
       "      <td>13</td>\n",
       "      <td>3</td>\n",
       "      <td>(3, 18, 13)</td>\n",
       "      <td>A63</td>\n",
       "      <td>85.355597</td>\n",
       "      <td>3</td>\n",
       "      <td>N10-A63</td>\n",
       "      <td>N10</td>\n",
       "      <td>01:04:01.001000</td>\n",
       "    </tr>\n",
       "    <tr>\n",
       "      <th>9</th>\n",
       "      <td>13</td>\n",
       "      <td>2</td>\n",
       "      <td>(2, 18, 13)</td>\n",
       "      <td>A63</td>\n",
       "      <td>88.923357</td>\n",
       "      <td>3</td>\n",
       "      <td>N10-A63</td>\n",
       "      <td>N10</td>\n",
       "      <td>01:06:41.551000</td>\n",
       "    </tr>\n",
       "    <tr>\n",
       "      <th>32</th>\n",
       "      <td>3</td>\n",
       "      <td>12</td>\n",
       "      <td>(12, 6, 3)</td>\n",
       "      <td>A63</td>\n",
       "      <td>105.139253</td>\n",
       "      <td>3</td>\n",
       "      <td>A10-A63</td>\n",
       "      <td>A10</td>\n",
       "      <td>01:18:51.266000</td>\n",
       "    </tr>\n",
       "    <tr>\n",
       "      <th>12</th>\n",
       "      <td>4</td>\n",
       "      <td>15</td>\n",
       "      <td>(15, 19, 4)</td>\n",
       "      <td>A89</td>\n",
       "      <td>90.709158</td>\n",
       "      <td>3</td>\n",
       "      <td>A63-A89</td>\n",
       "      <td>A63</td>\n",
       "      <td>01:08:01.912000</td>\n",
       "    </tr>\n",
       "    <tr>\n",
       "      <th>30</th>\n",
       "      <td>11</td>\n",
       "      <td>4</td>\n",
       "      <td>(4, 5, 11)</td>\n",
       "      <td>A10</td>\n",
       "      <td>64.969553</td>\n",
       "      <td>3</td>\n",
       "      <td>A62-A10</td>\n",
       "      <td>A62</td>\n",
       "      <td>00:48:43.629000</td>\n",
       "    </tr>\n",
       "    <tr>\n",
       "      <th>28</th>\n",
       "      <td>3</td>\n",
       "      <td>12</td>\n",
       "      <td>(12, 6, 3)</td>\n",
       "      <td>A62</td>\n",
       "      <td>50.013745</td>\n",
       "      <td>3</td>\n",
       "      <td>A10-A62</td>\n",
       "      <td>A10</td>\n",
       "      <td>00:37:30.618000</td>\n",
       "    </tr>\n",
       "    <tr>\n",
       "      <th>25</th>\n",
       "      <td>5</td>\n",
       "      <td>4</td>\n",
       "      <td>(4, 5)</td>\n",
       "      <td>N10</td>\n",
       "      <td>29.693103</td>\n",
       "      <td>2</td>\n",
       "      <td>A62-N10</td>\n",
       "      <td>A62</td>\n",
       "      <td>00:22:16.189000</td>\n",
       "    </tr>\n",
       "    <tr>\n",
       "      <th>26</th>\n",
       "      <td>3</td>\n",
       "      <td>6</td>\n",
       "      <td>(6, 3)</td>\n",
       "      <td>A62</td>\n",
       "      <td>30.230090</td>\n",
       "      <td>2</td>\n",
       "      <td>N10-A62</td>\n",
       "      <td>N10</td>\n",
       "      <td>00:22:40.354000</td>\n",
       "    </tr>\n",
       "    <tr>\n",
       "      <th>27</th>\n",
       "      <td>9</td>\n",
       "      <td>3</td>\n",
       "      <td>(3, 9)</td>\n",
       "      <td>A62</td>\n",
       "      <td>30.230090</td>\n",
       "      <td>2</td>\n",
       "      <td>N10-A62</td>\n",
       "      <td>N10</td>\n",
       "      <td>00:22:40.354000</td>\n",
       "    </tr>\n",
       "    <tr>\n",
       "      <th>31</th>\n",
       "      <td>11</td>\n",
       "      <td>4</td>\n",
       "      <td>(4, 11)</td>\n",
       "      <td>A10</td>\n",
       "      <td>64.969553</td>\n",
       "      <td>2</td>\n",
       "      <td>A62-A10</td>\n",
       "      <td>A62</td>\n",
       "      <td>00:48:43.629000</td>\n",
       "    </tr>\n",
       "    <tr>\n",
       "      <th>29</th>\n",
       "      <td>3</td>\n",
       "      <td>6</td>\n",
       "      <td>(6, 3)</td>\n",
       "      <td>A62</td>\n",
       "      <td>50.013745</td>\n",
       "      <td>2</td>\n",
       "      <td>A10-A62</td>\n",
       "      <td>A10</td>\n",
       "      <td>00:37:30.618000</td>\n",
       "    </tr>\n",
       "    <tr>\n",
       "      <th>23</th>\n",
       "      <td>19</td>\n",
       "      <td>15</td>\n",
       "      <td>(15, 19)</td>\n",
       "      <td>A62</td>\n",
       "      <td>73.187282</td>\n",
       "      <td>2</td>\n",
       "      <td>A63-A62</td>\n",
       "      <td>A63</td>\n",
       "      <td>00:54:53.427000</td>\n",
       "    </tr>\n",
       "    <tr>\n",
       "      <th>33</th>\n",
       "      <td>3</td>\n",
       "      <td>6</td>\n",
       "      <td>(6, 3)</td>\n",
       "      <td>A63</td>\n",
       "      <td>105.139253</td>\n",
       "      <td>2</td>\n",
       "      <td>A10-A63</td>\n",
       "      <td>A10</td>\n",
       "      <td>01:18:51.266000</td>\n",
       "    </tr>\n",
       "    <tr>\n",
       "      <th>35</th>\n",
       "      <td>2</td>\n",
       "      <td>6</td>\n",
       "      <td>(6, 2)</td>\n",
       "      <td>A63</td>\n",
       "      <td>108.707013</td>\n",
       "      <td>2</td>\n",
       "      <td>A10-A63</td>\n",
       "      <td>A10</td>\n",
       "      <td>01:21:31.815000</td>\n",
       "    </tr>\n",
       "    <tr>\n",
       "      <th>37</th>\n",
       "      <td>11</td>\n",
       "      <td>4</td>\n",
       "      <td>(4, 11)</td>\n",
       "      <td>A10</td>\n",
       "      <td>120.325213</td>\n",
       "      <td>2</td>\n",
       "      <td>A63-A10</td>\n",
       "      <td>A63</td>\n",
       "      <td>01:30:14.634000</td>\n",
       "    </tr>\n",
       "    <tr>\n",
       "      <th>24</th>\n",
       "      <td>4</td>\n",
       "      <td>10</td>\n",
       "      <td>(10, 4)</td>\n",
       "      <td>N10</td>\n",
       "      <td>29.693103</td>\n",
       "      <td>2</td>\n",
       "      <td>A62-N10</td>\n",
       "      <td>A62</td>\n",
       "      <td>00:22:16.189000</td>\n",
       "    </tr>\n",
       "    <tr>\n",
       "      <th>20</th>\n",
       "      <td>9</td>\n",
       "      <td>3</td>\n",
       "      <td>(3, 9)</td>\n",
       "      <td>A62</td>\n",
       "      <td>36.003136</td>\n",
       "      <td>2</td>\n",
       "      <td>A89-A62</td>\n",
       "      <td>A89</td>\n",
       "      <td>00:27:00.141000</td>\n",
       "    </tr>\n",
       "    <tr>\n",
       "      <th>22</th>\n",
       "      <td>11</td>\n",
       "      <td>5</td>\n",
       "      <td>(5, 11)</td>\n",
       "      <td>A10</td>\n",
       "      <td>58.094579</td>\n",
       "      <td>2</td>\n",
       "      <td>A89-A10</td>\n",
       "      <td>A89</td>\n",
       "      <td>00:43:34.256000</td>\n",
       "    </tr>\n",
       "    <tr>\n",
       "      <th>10</th>\n",
       "      <td>3</td>\n",
       "      <td>6</td>\n",
       "      <td>(6, 3)</td>\n",
       "      <td>A63</td>\n",
       "      <td>105.139253</td>\n",
       "      <td>2</td>\n",
       "      <td>N10-A63</td>\n",
       "      <td>N10</td>\n",
       "      <td>01:04:01.001000</td>\n",
       "    </tr>\n",
       "    <tr>\n",
       "      <th>2</th>\n",
       "      <td>4</td>\n",
       "      <td>15</td>\n",
       "      <td>(15, 4)</td>\n",
       "      <td>N10</td>\n",
       "      <td>85.048763</td>\n",
       "      <td>2</td>\n",
       "      <td>A63-N10</td>\n",
       "      <td>A63</td>\n",
       "      <td>01:03:47.194000</td>\n",
       "    </tr>\n",
       "    <tr>\n",
       "      <th>3</th>\n",
       "      <td>1</td>\n",
       "      <td>15</td>\n",
       "      <td>(15, 1)</td>\n",
       "      <td>N10</td>\n",
       "      <td>89.925738</td>\n",
       "      <td>2</td>\n",
       "      <td>A63-N10</td>\n",
       "      <td>A63</td>\n",
       "      <td>01:07:26.658000</td>\n",
       "    </tr>\n",
       "    <tr>\n",
       "      <th>4</th>\n",
       "      <td>5</td>\n",
       "      <td>4</td>\n",
       "      <td>(4, 5)</td>\n",
       "      <td>N10</td>\n",
       "      <td>85.048763</td>\n",
       "      <td>2</td>\n",
       "      <td>A63-N10</td>\n",
       "      <td>A63</td>\n",
       "      <td>01:03:47.194000</td>\n",
       "    </tr>\n",
       "    <tr>\n",
       "      <th>5</th>\n",
       "      <td>5</td>\n",
       "      <td>1</td>\n",
       "      <td>(1, 5)</td>\n",
       "      <td>N10</td>\n",
       "      <td>89.925738</td>\n",
       "      <td>2</td>\n",
       "      <td>A63-N10</td>\n",
       "      <td>A63</td>\n",
       "      <td>01:07:26.658000</td>\n",
       "    </tr>\n",
       "    <tr>\n",
       "      <th>6</th>\n",
       "      <td>13</td>\n",
       "      <td>3</td>\n",
       "      <td>(3, 13)</td>\n",
       "      <td>A63</td>\n",
       "      <td>85.355597</td>\n",
       "      <td>2</td>\n",
       "      <td>N10-A63</td>\n",
       "      <td>N10</td>\n",
       "      <td>01:04:01.001000</td>\n",
       "    </tr>\n",
       "    <tr>\n",
       "      <th>8</th>\n",
       "      <td>13</td>\n",
       "      <td>2</td>\n",
       "      <td>(2, 13)</td>\n",
       "      <td>A63</td>\n",
       "      <td>88.923357</td>\n",
       "      <td>2</td>\n",
       "      <td>N10-A63</td>\n",
       "      <td>N10</td>\n",
       "      <td>01:06:41.551000</td>\n",
       "    </tr>\n",
       "    <tr>\n",
       "      <th>11</th>\n",
       "      <td>2</td>\n",
       "      <td>6</td>\n",
       "      <td>(6, 2)</td>\n",
       "      <td>A63</td>\n",
       "      <td>88.923357</td>\n",
       "      <td>2</td>\n",
       "      <td>N10-A63</td>\n",
       "      <td>N10</td>\n",
       "      <td>01:06:41.551000</td>\n",
       "    </tr>\n",
       "    <tr>\n",
       "      <th>21</th>\n",
       "      <td>6</td>\n",
       "      <td>12</td>\n",
       "      <td>(12, 6)</td>\n",
       "      <td>A89</td>\n",
       "      <td>43.113096</td>\n",
       "      <td>2</td>\n",
       "      <td>A10-A89</td>\n",
       "      <td>A10</td>\n",
       "      <td>00:32:20.089000</td>\n",
       "    </tr>\n",
       "    <tr>\n",
       "      <th>13</th>\n",
       "      <td>4</td>\n",
       "      <td>15</td>\n",
       "      <td>(15, 4)</td>\n",
       "      <td>A89</td>\n",
       "      <td>90.709158</td>\n",
       "      <td>2</td>\n",
       "      <td>A63-A89</td>\n",
       "      <td>A63</td>\n",
       "      <td>01:08:01.912000</td>\n",
       "    </tr>\n",
       "    <tr>\n",
       "      <th>45</th>\n",
       "      <td>7</td>\n",
       "      <td>4</td>\n",
       "      <td>(4, 7)</td>\n",
       "      <td>A89</td>\n",
       "      <td>90.709158</td>\n",
       "      <td>2</td>\n",
       "      <td>A63-A89</td>\n",
       "      <td>A63</td>\n",
       "      <td>01:08:01.912000</td>\n",
       "    </tr>\n",
       "    <tr>\n",
       "      <th>16</th>\n",
       "      <td>13</td>\n",
       "      <td>3</td>\n",
       "      <td>(3, 13)</td>\n",
       "      <td>A63</td>\n",
       "      <td>91.128643</td>\n",
       "      <td>2</td>\n",
       "      <td>A89-A63</td>\n",
       "      <td>A89</td>\n",
       "      <td>01:08:20.788000</td>\n",
       "    </tr>\n",
       "    <tr>\n",
       "      <th>17</th>\n",
       "      <td>4</td>\n",
       "      <td>10</td>\n",
       "      <td>(10, 4)</td>\n",
       "      <td>A89</td>\n",
       "      <td>35.353498</td>\n",
       "      <td>2</td>\n",
       "      <td>A62-A89</td>\n",
       "      <td>A62</td>\n",
       "      <td>00:26:30.907000</td>\n",
       "    </tr>\n",
       "    <tr>\n",
       "      <th>18</th>\n",
       "      <td>7</td>\n",
       "      <td>4</td>\n",
       "      <td>(4, 7)</td>\n",
       "      <td>A89</td>\n",
       "      <td>35.353498</td>\n",
       "      <td>2</td>\n",
       "      <td>A62-A89</td>\n",
       "      <td>A62</td>\n",
       "      <td>00:26:30.907000</td>\n",
       "    </tr>\n",
       "    <tr>\n",
       "      <th>19</th>\n",
       "      <td>3</td>\n",
       "      <td>8</td>\n",
       "      <td>(8, 3)</td>\n",
       "      <td>A62</td>\n",
       "      <td>36.003136</td>\n",
       "      <td>2</td>\n",
       "      <td>A89-A62</td>\n",
       "      <td>A89</td>\n",
       "      <td>00:27:00.141000</td>\n",
       "    </tr>\n",
       "    <tr>\n",
       "      <th>39</th>\n",
       "      <td>11</td>\n",
       "      <td>1</td>\n",
       "      <td>(1, 11)</td>\n",
       "      <td>A10</td>\n",
       "      <td>125.202188</td>\n",
       "      <td>2</td>\n",
       "      <td>A63-A10</td>\n",
       "      <td>A63</td>\n",
       "      <td>01:33:54.098000</td>\n",
       "    </tr>\n",
       "  </tbody>\n",
       "</table>\n",
       "</div>"
      ],
      "text/plain": [
       "    cam_d  cam_o      cameras destination     long_km  nb_cams      o_d  \\\n",
       "0       4     15  (15, 19, 4)         N10   85.048763        3  A63-N10   \n",
       "14     13      3  (3, 18, 13)         A63   91.128643        3  A89-A63   \n",
       "38     11      1   (1, 5, 11)         A10  125.202188        3  A63-A10   \n",
       "1       1     15  (15, 19, 1)         N10   89.925738        3  A63-N10   \n",
       "36     11      4   (4, 5, 11)         A10  120.325213        3  A63-A10   \n",
       "34      2     12   (12, 6, 2)         A63  108.707013        3  A10-A63   \n",
       "7      13      3  (3, 18, 13)         A63   85.355597        3  N10-A63   \n",
       "9      13      2  (2, 18, 13)         A63   88.923357        3  N10-A63   \n",
       "32      3     12   (12, 6, 3)         A63  105.139253        3  A10-A63   \n",
       "12      4     15  (15, 19, 4)         A89   90.709158        3  A63-A89   \n",
       "30     11      4   (4, 5, 11)         A10   64.969553        3  A62-A10   \n",
       "28      3     12   (12, 6, 3)         A62   50.013745        3  A10-A62   \n",
       "25      5      4       (4, 5)         N10   29.693103        2  A62-N10   \n",
       "26      3      6       (6, 3)         A62   30.230090        2  N10-A62   \n",
       "27      9      3       (3, 9)         A62   30.230090        2  N10-A62   \n",
       "31     11      4      (4, 11)         A10   64.969553        2  A62-A10   \n",
       "29      3      6       (6, 3)         A62   50.013745        2  A10-A62   \n",
       "23     19     15     (15, 19)         A62   73.187282        2  A63-A62   \n",
       "33      3      6       (6, 3)         A63  105.139253        2  A10-A63   \n",
       "35      2      6       (6, 2)         A63  108.707013        2  A10-A63   \n",
       "37     11      4      (4, 11)         A10  120.325213        2  A63-A10   \n",
       "24      4     10      (10, 4)         N10   29.693103        2  A62-N10   \n",
       "20      9      3       (3, 9)         A62   36.003136        2  A89-A62   \n",
       "22     11      5      (5, 11)         A10   58.094579        2  A89-A10   \n",
       "10      3      6       (6, 3)         A63  105.139253        2  N10-A63   \n",
       "2       4     15      (15, 4)         N10   85.048763        2  A63-N10   \n",
       "3       1     15      (15, 1)         N10   89.925738        2  A63-N10   \n",
       "4       5      4       (4, 5)         N10   85.048763        2  A63-N10   \n",
       "5       5      1       (1, 5)         N10   89.925738        2  A63-N10   \n",
       "6      13      3      (3, 13)         A63   85.355597        2  N10-A63   \n",
       "8      13      2      (2, 13)         A63   88.923357        2  N10-A63   \n",
       "11      2      6       (6, 2)         A63   88.923357        2  N10-A63   \n",
       "21      6     12      (12, 6)         A89   43.113096        2  A10-A89   \n",
       "13      4     15      (15, 4)         A89   90.709158        2  A63-A89   \n",
       "45      7      4       (4, 7)         A89   90.709158        2  A63-A89   \n",
       "16     13      3      (3, 13)         A63   91.128643        2  A89-A63   \n",
       "17      4     10      (10, 4)         A89   35.353498        2  A62-A89   \n",
       "18      7      4       (4, 7)         A89   35.353498        2  A62-A89   \n",
       "19      3      8       (8, 3)         A62   36.003136        2  A89-A62   \n",
       "39     11      1      (1, 11)         A10  125.202188        2  A63-A10   \n",
       "\n",
       "   origine tps_parcours_theoriq  \n",
       "0      A63      01:03:47.194000  \n",
       "14     A89      01:08:20.788000  \n",
       "38     A63      01:33:54.098000  \n",
       "1      A63      01:07:26.658000  \n",
       "36     A63      01:30:14.634000  \n",
       "34     A10      01:21:31.815000  \n",
       "7      N10      01:04:01.001000  \n",
       "9      N10      01:06:41.551000  \n",
       "32     A10      01:18:51.266000  \n",
       "12     A63      01:08:01.912000  \n",
       "30     A62      00:48:43.629000  \n",
       "28     A10      00:37:30.618000  \n",
       "25     A62      00:22:16.189000  \n",
       "26     N10      00:22:40.354000  \n",
       "27     N10      00:22:40.354000  \n",
       "31     A62      00:48:43.629000  \n",
       "29     A10      00:37:30.618000  \n",
       "23     A63      00:54:53.427000  \n",
       "33     A10      01:18:51.266000  \n",
       "35     A10      01:21:31.815000  \n",
       "37     A63      01:30:14.634000  \n",
       "24     A62      00:22:16.189000  \n",
       "20     A89      00:27:00.141000  \n",
       "22     A89      00:43:34.256000  \n",
       "10     N10      01:04:01.001000  \n",
       "2      A63      01:03:47.194000  \n",
       "3      A63      01:07:26.658000  \n",
       "4      A63      01:03:47.194000  \n",
       "5      A63      01:07:26.658000  \n",
       "6      N10      01:04:01.001000  \n",
       "8      N10      01:06:41.551000  \n",
       "11     N10      01:06:41.551000  \n",
       "21     A10      00:32:20.089000  \n",
       "13     A63      01:08:01.912000  \n",
       "45     A63      01:08:01.912000  \n",
       "16     A89      01:08:20.788000  \n",
       "17     A62      00:26:30.907000  \n",
       "18     A62      00:26:30.907000  \n",
       "19     A89      00:27:00.141000  \n",
       "39     A63      01:33:54.098000  "
      ]
     },
     "execution_count": 39,
     "metadata": {},
     "output_type": "execute_result"
    }
   ],
   "source": [
    "liste_trajet_incomplet"
   ]
  },
  {
   "cell_type": "code",
   "execution_count": 96,
   "metadata": {},
   "outputs": [],
   "source": [
    "re.match('^([0-9])+$|^([A-Z])+$','AA99AA')"
   ]
  },
  {
   "cell_type": "code",
   "execution_count": null,
   "metadata": {},
   "outputs": [],
   "source": []
  }
 ],
 "metadata": {
  "kernelspec": {
   "display_name": "Python 3",
   "language": "python",
   "name": "python3"
  },
  "language_info": {
   "codemirror_mode": {
    "name": "ipython",
    "version": 3
   },
   "file_extension": ".py",
   "mimetype": "text/x-python",
   "name": "python",
   "nbconvert_exporter": "python",
   "pygments_lexer": "ipython3",
   "version": "3.7.0"
  }
 },
 "nbformat": 4,
 "nbformat_minor": 2
}
