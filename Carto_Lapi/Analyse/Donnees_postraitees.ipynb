{
 "cells": [
  {
   "cell_type": "markdown",
   "metadata": {},
   "source": [
    "# Notebook de test des données lapi post-traitees"
   ]
  },
  {
   "cell_type": "code",
   "execution_count": 2,
   "metadata": {},
   "outputs": [
    {
     "name": "stdout",
     "output_type": "stream",
     "text": [
      "The autoreload extension is already loaded. To reload it, use:\n",
      "  %reload_ext autoreload\n"
     ]
    }
   ],
   "source": [
    "%load_ext autoreload\n",
    "%autoreload 2\n",
    "import sys #c'est pas propre mais pour le moment pour importer mes modules perso dans le notebook je ne sais pas faire\n",
    "sys.path.append(r'C:\\Users\\martin.schoreisz\\git\\Outils\\Outils\\Martin_Perso')\n",
    "import donnees_posttraitees as t\n",
    "import graphs as g\n",
    "import pandas as pd\n",
    "import geopandas as gpd\n",
    "import numpy as np\n",
    "import altair as alt\n",
    "import datetime as dt\n",
    "pd.set_option('display.max_colwidth', 1000)\n",
    "import os, math\n",
    "from sklearn.cluster import DBSCAN"
   ]
  },
  {
   "cell_type": "markdown",
   "metadata": {},
   "source": [
    "# 1. import des données, traitement de mise en forme\n",
    "## 1.1 Import\n",
    "Les données sont importées sur la période du 24/01/19 au 23/02/19, sur laquelle il n'y a pas de manque de données à priori"
   ]
  },
  {
   "cell_type": "code",
   "execution_count": 4,
   "metadata": {},
   "outputs": [],
   "source": [
    "df_passages, df_plaques, df_immat=t.ouvrir_fichier_lapi_final('2019-01-24 00:00:00','2019-02-13 23:59:59')"
   ]
  },
  {
   "cell_type": "markdown",
   "metadata": {},
   "source": [
    "## 1.2. Suppression des doublons"
   ]
  },
  {
   "cell_type": "code",
   "execution_count": 5,
   "metadata": {},
   "outputs": [],
   "source": [
    "df_passages=t.supprimer_doublons(df_passages)"
   ]
  },
  {
   "cell_type": "markdown",
   "metadata": {},
   "source": [
    "## 1.3 Ajout de l'attribut de différenciation VL / PL"
   ]
  },
  {
   "cell_type": "code",
   "execution_count": 62,
   "metadata": {},
   "outputs": [
    {
     "name": "stdout",
     "output_type": "stream",
     "text": [
      "Wall time: 2min 40s\n"
     ]
    }
   ],
   "source": [
    "%time df_passages2=t.affecter_type(df_passages,df_immat)"
   ]
  },
  {
   "cell_type": "markdown",
   "metadata": {},
   "source": [
    "***ATTENTION : ENCORE 18764 IMMATRCULATION COURTE PRESENTES DANS TE_PASSAGES ET NON PRENSENTES DANS TE_PLAQUES_COURTE :***"
   ]
  },
  {
   "cell_type": "code",
   "execution_count": 69,
   "metadata": {},
   "outputs": [],
   "source": [
    "df_passages2.loc[df_passages2.immatriculation.isna()].merge(df_plaques, left_on='immat', right_on='chiffree').to_csv(\n",
    "    r'Q:\\DAIT\\TI\\DREAL33\\2018\\C17SI0073_LAPI\\donnees_verif_fiabilite\\immatriculation_manquante.csv')"
   ]
  },
  {
   "cell_type": "markdown",
   "metadata": {},
   "source": [
    "***ATTENTION : PLUS DE 1M D'IMMATRCULATION SANS VALEUR DE VL_TOT ou PL_TOT ou VUL_TOT :***"
   ]
  },
  {
   "cell_type": "code",
   "execution_count": 83,
   "metadata": {},
   "outputs": [],
   "source": [
    "df_passages2.loc[df_passages2['l']==-1].head(50000).to_csv(\n",
    "    r'Q:\\DAIT\\TI\\DREAL33\\2018\\C17SI0073_LAPI\\donnees_verif_fiabilite\\pas_de_type_vehicule.csv')"
   ]
  },
  {
   "cell_type": "markdown",
   "metadata": {},
   "source": [
    "# 2. Identifier les trajets de transit"
   ]
  },
  {
   "cell_type": "code",
   "execution_count": 23,
   "metadata": {},
   "outputs": [
    {
     "name": "stdout",
     "output_type": "stream",
     "text": [
      "date : 2019-01-24 00:00:00 debut_traitement : 2019-05-13 13:18:03.054912\n",
      "date : 2019-01-25 00:00:00 debut_traitement : 2019-05-13 13:18:54.138649\n",
      "date : 2019-01-26 00:00:00 debut_traitement : 2019-05-13 13:19:43.252848\n",
      "date : 2019-01-27 00:00:00 debut_traitement : 2019-05-13 13:20:25.227985\n",
      "date : 2019-01-28 00:00:00 debut_traitement : 2019-05-13 13:20:56.486718\n",
      "date : 2019-01-29 00:00:00 debut_traitement : 2019-05-13 13:21:55.411239\n",
      "date : 2019-01-30 00:00:00 debut_traitement : 2019-05-13 13:23:05.282297\n"
     ]
    }
   ],
   "source": [
    "dico_od,  dico_passag, dico_tps_max=t.transit_temps_complet('2019-01-24 00:00:00',7,df_passages2)"
   ]
  },
  {
   "cell_type": "markdown",
   "metadata": {},
   "source": [
    "# 3. Filtrer les trajets selon un temps de parcours"
   ]
  },
  {
   "cell_type": "code",
   "execution_count": 24,
   "metadata": {},
   "outputs": [],
   "source": [
    "#df des temsp de parcours\n",
    "dixco_tpsmax_corrige=t.corriger_df_tps_parcours(dico_tps_max)"
   ]
  },
  {
   "cell_type": "markdown",
   "metadata": {},
   "source": [
    "***Ici on pourra caracteriser l'impact de la marge***"
   ]
  },
  {
   "cell_type": "code",
   "execution_count": 25,
   "metadata": {},
   "outputs": [
    {
     "name": "stdout",
     "output_type": "stream",
     "text": [
      "Wall time: 33.9 s\n"
     ]
    }
   ],
   "source": [
    "# df complete avec l'atribut filtre\n",
    "%time df_transit_avec_filtre=t.jointure_temps_reel_theorique(dico_od,dixco_tpsmax_corrige,t.liste_complete_trajet, 15)"
   ]
  },
  {
   "cell_type": "code",
   "execution_count": 26,
   "metadata": {},
   "outputs": [],
   "source": [
    "#filtrer le df : \n",
    "dico_od_final=df_transit_avec_filtre.loc[df_transit_avec_filtre['filtre_tps']==1]"
   ]
  },
  {
   "cell_type": "markdown",
   "metadata": {},
   "source": [
    "# 4. Correction des trajets depuis ou vers A660 relatifs à A63"
   ]
  },
  {
   "cell_type": "code",
   "execution_count": 12,
   "metadata": {},
   "outputs": [
    {
     "name": "stdout",
     "output_type": "stream",
     "text": [
      "Wall time: 1h 54min 10s\n"
     ]
    }
   ],
   "source": [
    "%time df_od_corrige=t.correction_trajet(df_passages2, dico_od_final)"
   ]
  },
  {
   "cell_type": "markdown",
   "metadata": {},
   "source": [
    "# 5. Extrapolation des trajets non complets"
   ]
  },
  {
   "cell_type": "code",
   "execution_count": 14,
   "metadata": {},
   "outputs": [
    {
     "name": "stdout",
     "output_type": "stream",
     "text": [
      "Wall time: 1min 58s\n"
     ]
    }
   ],
   "source": [
    "#creer les donnees necessaires\n",
    "%time df_filtre_A63,df_passage_transit,df_non_transit=t.param_trajet_incomplet('2019-01-28 00:00:00',df_od_corrige,df_passages2,dico_passag)"
   ]
  },
  {
   "cell_type": "code",
   "execution_count": 15,
   "metadata": {},
   "outputs": [
    {
     "name": "stdout",
     "output_type": "stream",
     "text": [
      "date : 2019-01-29 00:00:00 debut_traitement : 2019-05-12 22:39:06.662032\n",
      "Wall time: 3min 6s\n"
     ]
    }
   ],
   "source": [
    "#trajet de transit incomplet sans filtre sur temps de parcours\n",
    "%time trajet_transit_incomplet2, passage2=t.transit_trajet_incomplet(df_filtre_A63,df_passage_transit,'2019-01-29 00:00:00',1, df_passages2)"
   ]
  },
  {
   "cell_type": "code",
   "execution_count": 17,
   "metadata": {},
   "outputs": [],
   "source": [
    "#filtrer selon le temps de parcours\n",
    "trajet_transit_incomplet_filtre_temps=t.jointure_temps_reel_theorique(trajet_transit_incomplet2,dixco_tpsmax_corrige,t.liste_trajet_incomplet, 15,'incomplet')\n",
    "#mettre en forme les attributs\n",
    "trajet_transit_incomplet_filtre_temps=trajet_transit_incomplet_filtre_temps[['date_cam_1', 'immat', 'state', 'l', 'date_cam_2', 'cameras', 'origine',\n",
    "       'destination', 'o_d', 'tps_parcours', 'period', 'date', 'temps', 'type',\n",
    "       'tps_parcours_theoriq', 'filtre_tps']]"
   ]
  },
  {
   "cell_type": "code",
   "execution_count": 19,
   "metadata": {},
   "outputs": [],
   "source": [
    "#filtrer le df : \n",
    "trajet_transit_incomplet_final=trajet_transit_incomplet_filtre_temps.loc[trajet_transit_incomplet_filtre_temps['filtre_tps']==1].copy()\n",
    "#ajouter l'attribut d'identification des trajets \n",
    "trajet_transit_incomplet_final['correction_o_d']=True\n",
    "#6. Ajouter au df des o_d précédents : \n",
    "df_od_final=pd.concat([df_od_corrige,trajet_transit_incomplet_final],sort=False)"
   ]
  },
  {
   "cell_type": "markdown",
   "metadata": {},
   "source": [
    "# 6. Créer le tableaude matrice o_d"
   ]
  },
  {
   "cell_type": "code",
   "execution_count": 11,
   "metadata": {},
   "outputs": [
    {
     "data": {
      "text/html": [
       "<div>\n",
       "<style scoped>\n",
       "    .dataframe tbody tr th:only-of-type {\n",
       "        vertical-align: middle;\n",
       "    }\n",
       "\n",
       "    .dataframe tbody tr th {\n",
       "        vertical-align: top;\n",
       "    }\n",
       "\n",
       "    .dataframe thead th {\n",
       "        text-align: right;\n",
       "    }\n",
       "</style>\n",
       "<table border=\"1\" class=\"dataframe\">\n",
       "  <thead>\n",
       "    <tr style=\"text-align: right;\">\n",
       "      <th>destination</th>\n",
       "      <th>A10</th>\n",
       "      <th>A62</th>\n",
       "      <th>A63</th>\n",
       "      <th>A660</th>\n",
       "      <th>A89</th>\n",
       "      <th>N10</th>\n",
       "      <th>All</th>\n",
       "    </tr>\n",
       "    <tr>\n",
       "      <th>origine</th>\n",
       "      <th></th>\n",
       "      <th></th>\n",
       "      <th></th>\n",
       "      <th></th>\n",
       "      <th></th>\n",
       "      <th></th>\n",
       "      <th></th>\n",
       "    </tr>\n",
       "  </thead>\n",
       "  <tbody>\n",
       "    <tr>\n",
       "      <th>A10</th>\n",
       "      <td>NC</td>\n",
       "      <td>5285</td>\n",
       "      <td>6587</td>\n",
       "      <td>2844</td>\n",
       "      <td>286</td>\n",
       "      <td>NC</td>\n",
       "      <td>15002</td>\n",
       "    </tr>\n",
       "    <tr>\n",
       "      <th>A62</th>\n",
       "      <td>2338</td>\n",
       "      <td>NC</td>\n",
       "      <td>332</td>\n",
       "      <td>913</td>\n",
       "      <td>517</td>\n",
       "      <td>2787</td>\n",
       "      <td>6887</td>\n",
       "    </tr>\n",
       "    <tr>\n",
       "      <th>A63</th>\n",
       "      <td>6133</td>\n",
       "      <td>212</td>\n",
       "      <td>NC</td>\n",
       "      <td>NC</td>\n",
       "      <td>1418</td>\n",
       "      <td>33605</td>\n",
       "      <td>41368</td>\n",
       "    </tr>\n",
       "    <tr>\n",
       "      <th>A660</th>\n",
       "      <td>2550</td>\n",
       "      <td>795</td>\n",
       "      <td>NC</td>\n",
       "      <td>NC</td>\n",
       "      <td>1112</td>\n",
       "      <td>12393</td>\n",
       "      <td>16850</td>\n",
       "    </tr>\n",
       "    <tr>\n",
       "      <th>A89</th>\n",
       "      <td>263</td>\n",
       "      <td>805</td>\n",
       "      <td>2022</td>\n",
       "      <td>1486</td>\n",
       "      <td>NC</td>\n",
       "      <td>907</td>\n",
       "      <td>5483</td>\n",
       "    </tr>\n",
       "    <tr>\n",
       "      <th>N10</th>\n",
       "      <td>NC</td>\n",
       "      <td>4221</td>\n",
       "      <td>27214</td>\n",
       "      <td>11237</td>\n",
       "      <td>783</td>\n",
       "      <td>NC</td>\n",
       "      <td>43455</td>\n",
       "    </tr>\n",
       "    <tr>\n",
       "      <th>All</th>\n",
       "      <td>11284</td>\n",
       "      <td>11318</td>\n",
       "      <td>36155</td>\n",
       "      <td>16480</td>\n",
       "      <td>4116</td>\n",
       "      <td>49692</td>\n",
       "      <td>129045</td>\n",
       "    </tr>\n",
       "  </tbody>\n",
       "</table>\n",
       "</div>"
      ],
      "text/plain": [
       "destination    A10    A62    A63   A660   A89    N10     All\n",
       "origine                                                     \n",
       "A10             NC   5285   6587   2844   286     NC   15002\n",
       "A62           2338     NC    332    913   517   2787    6887\n",
       "A63           6133    212     NC     NC  1418  33605   41368\n",
       "A660          2550    795     NC     NC  1112  12393   16850\n",
       "A89            263    805   2022   1486    NC    907    5483\n",
       "N10             NC   4221  27214  11237   783     NC   43455\n",
       "All          11284  11318  36155  16480  4116  49692  129045"
      ]
     },
     "execution_count": 11,
     "metadata": {},
     "output_type": "execute_result"
    }
   ],
   "source": [
    "# de base\n",
    "pd.pivot_table(dico_od_final,values='l', index='origine', columns='destination',aggfunc='count', margins=True).fillna('NC')"
   ]
  },
  {
   "cell_type": "code",
   "execution_count": 13,
   "metadata": {},
   "outputs": [
    {
     "data": {
      "text/html": [
       "<div>\n",
       "<style scoped>\n",
       "    .dataframe tbody tr th:only-of-type {\n",
       "        vertical-align: middle;\n",
       "    }\n",
       "\n",
       "    .dataframe tbody tr th {\n",
       "        vertical-align: top;\n",
       "    }\n",
       "\n",
       "    .dataframe thead th {\n",
       "        text-align: right;\n",
       "    }\n",
       "</style>\n",
       "<table border=\"1\" class=\"dataframe\">\n",
       "  <thead>\n",
       "    <tr style=\"text-align: right;\">\n",
       "      <th>destination</th>\n",
       "      <th>A10</th>\n",
       "      <th>A62</th>\n",
       "      <th>A63</th>\n",
       "      <th>A660</th>\n",
       "      <th>A89</th>\n",
       "      <th>N10</th>\n",
       "      <th>All</th>\n",
       "    </tr>\n",
       "    <tr>\n",
       "      <th>origine</th>\n",
       "      <th></th>\n",
       "      <th></th>\n",
       "      <th></th>\n",
       "      <th></th>\n",
       "      <th></th>\n",
       "      <th></th>\n",
       "      <th></th>\n",
       "    </tr>\n",
       "  </thead>\n",
       "  <tbody>\n",
       "    <tr>\n",
       "      <th>A10</th>\n",
       "      <td>NC</td>\n",
       "      <td>5285</td>\n",
       "      <td>7127</td>\n",
       "      <td>2304</td>\n",
       "      <td>286</td>\n",
       "      <td>NC</td>\n",
       "      <td>15002</td>\n",
       "    </tr>\n",
       "    <tr>\n",
       "      <th>A62</th>\n",
       "      <td>2338</td>\n",
       "      <td>NC</td>\n",
       "      <td>392</td>\n",
       "      <td>853</td>\n",
       "      <td>517</td>\n",
       "      <td>2787</td>\n",
       "      <td>6887</td>\n",
       "    </tr>\n",
       "    <tr>\n",
       "      <th>A63</th>\n",
       "      <td>7273</td>\n",
       "      <td>257</td>\n",
       "      <td>NC</td>\n",
       "      <td>NC</td>\n",
       "      <td>1739</td>\n",
       "      <td>40000</td>\n",
       "      <td>49269</td>\n",
       "    </tr>\n",
       "    <tr>\n",
       "      <th>A660</th>\n",
       "      <td>1410</td>\n",
       "      <td>750</td>\n",
       "      <td>NC</td>\n",
       "      <td>NC</td>\n",
       "      <td>791</td>\n",
       "      <td>5998</td>\n",
       "      <td>8949</td>\n",
       "    </tr>\n",
       "    <tr>\n",
       "      <th>A89</th>\n",
       "      <td>263</td>\n",
       "      <td>805</td>\n",
       "      <td>2229</td>\n",
       "      <td>1279</td>\n",
       "      <td>NC</td>\n",
       "      <td>907</td>\n",
       "      <td>5483</td>\n",
       "    </tr>\n",
       "    <tr>\n",
       "      <th>N10</th>\n",
       "      <td>NC</td>\n",
       "      <td>4221</td>\n",
       "      <td>30085</td>\n",
       "      <td>8366</td>\n",
       "      <td>783</td>\n",
       "      <td>NC</td>\n",
       "      <td>43455</td>\n",
       "    </tr>\n",
       "    <tr>\n",
       "      <th>All</th>\n",
       "      <td>11284</td>\n",
       "      <td>11318</td>\n",
       "      <td>39833</td>\n",
       "      <td>12802</td>\n",
       "      <td>4116</td>\n",
       "      <td>49692</td>\n",
       "      <td>129045</td>\n",
       "    </tr>\n",
       "  </tbody>\n",
       "</table>\n",
       "</div>"
      ],
      "text/plain": [
       "destination    A10    A62    A63   A660   A89    N10     All\n",
       "origine                                                     \n",
       "A10             NC   5285   7127   2304   286     NC   15002\n",
       "A62           2338     NC    392    853   517   2787    6887\n",
       "A63           7273    257     NC     NC  1739  40000   49269\n",
       "A660          1410    750     NC     NC   791   5998    8949\n",
       "A89            263    805   2229   1279    NC    907    5483\n",
       "N10             NC   4221  30085   8366   783     NC   43455\n",
       "All          11284  11318  39833  12802  4116  49692  129045"
      ]
     },
     "execution_count": 13,
     "metadata": {},
     "output_type": "execute_result"
    }
   ],
   "source": [
    "# apres correction des A660 liees a A63\n",
    "pd.pivot_table(df_od_corrige,values='l', index='origine', columns='destination',aggfunc='count', margins=True).fillna('NC')"
   ]
  },
  {
   "cell_type": "code",
   "execution_count": 20,
   "metadata": {},
   "outputs": [
    {
     "data": {
      "text/html": [
       "<div>\n",
       "<style scoped>\n",
       "    .dataframe tbody tr th:only-of-type {\n",
       "        vertical-align: middle;\n",
       "    }\n",
       "\n",
       "    .dataframe tbody tr th {\n",
       "        vertical-align: top;\n",
       "    }\n",
       "\n",
       "    .dataframe thead th {\n",
       "        text-align: right;\n",
       "    }\n",
       "</style>\n",
       "<table border=\"1\" class=\"dataframe\">\n",
       "  <thead>\n",
       "    <tr style=\"text-align: right;\">\n",
       "      <th>destination</th>\n",
       "      <th>A10</th>\n",
       "      <th>A62</th>\n",
       "      <th>A63</th>\n",
       "      <th>A660</th>\n",
       "      <th>A89</th>\n",
       "      <th>N10</th>\n",
       "      <th>All</th>\n",
       "    </tr>\n",
       "    <tr>\n",
       "      <th>origine</th>\n",
       "      <th></th>\n",
       "      <th></th>\n",
       "      <th></th>\n",
       "      <th></th>\n",
       "      <th></th>\n",
       "      <th></th>\n",
       "      <th></th>\n",
       "    </tr>\n",
       "  </thead>\n",
       "  <tbody>\n",
       "    <tr>\n",
       "      <th>A10</th>\n",
       "      <td>NC</td>\n",
       "      <td>5285</td>\n",
       "      <td>7127</td>\n",
       "      <td>2304</td>\n",
       "      <td>286</td>\n",
       "      <td>NC</td>\n",
       "      <td>15002</td>\n",
       "    </tr>\n",
       "    <tr>\n",
       "      <th>A62</th>\n",
       "      <td>2338</td>\n",
       "      <td>NC</td>\n",
       "      <td>392</td>\n",
       "      <td>853</td>\n",
       "      <td>517</td>\n",
       "      <td>2787</td>\n",
       "      <td>6887</td>\n",
       "    </tr>\n",
       "    <tr>\n",
       "      <th>A63</th>\n",
       "      <td>7273</td>\n",
       "      <td>257</td>\n",
       "      <td>NC</td>\n",
       "      <td>NC</td>\n",
       "      <td>1739</td>\n",
       "      <td>40038</td>\n",
       "      <td>49307</td>\n",
       "    </tr>\n",
       "    <tr>\n",
       "      <th>A660</th>\n",
       "      <td>1410</td>\n",
       "      <td>750</td>\n",
       "      <td>NC</td>\n",
       "      <td>NC</td>\n",
       "      <td>791</td>\n",
       "      <td>5998</td>\n",
       "      <td>8949</td>\n",
       "    </tr>\n",
       "    <tr>\n",
       "      <th>A89</th>\n",
       "      <td>263</td>\n",
       "      <td>805</td>\n",
       "      <td>2229</td>\n",
       "      <td>1279</td>\n",
       "      <td>NC</td>\n",
       "      <td>907</td>\n",
       "      <td>5483</td>\n",
       "    </tr>\n",
       "    <tr>\n",
       "      <th>N10</th>\n",
       "      <td>NC</td>\n",
       "      <td>4221</td>\n",
       "      <td>30085</td>\n",
       "      <td>8366</td>\n",
       "      <td>783</td>\n",
       "      <td>NC</td>\n",
       "      <td>43455</td>\n",
       "    </tr>\n",
       "    <tr>\n",
       "      <th>All</th>\n",
       "      <td>11284</td>\n",
       "      <td>11318</td>\n",
       "      <td>39833</td>\n",
       "      <td>12802</td>\n",
       "      <td>4116</td>\n",
       "      <td>49730</td>\n",
       "      <td>129083</td>\n",
       "    </tr>\n",
       "  </tbody>\n",
       "</table>\n",
       "</div>"
      ],
      "text/plain": [
       "destination    A10    A62    A63   A660   A89    N10     All\n",
       "origine                                                     \n",
       "A10             NC   5285   7127   2304   286     NC   15002\n",
       "A62           2338     NC    392    853   517   2787    6887\n",
       "A63           7273    257     NC     NC  1739  40038   49307\n",
       "A660          1410    750     NC     NC   791   5998    8949\n",
       "A89            263    805   2229   1279    NC    907    5483\n",
       "N10             NC   4221  30085   8366   783     NC   43455\n",
       "All          11284  11318  39833  12802  4116  49730  129083"
      ]
     },
     "execution_count": 20,
     "metadata": {},
     "output_type": "execute_result"
    }
   ],
   "source": [
    "# apres extrapolation\n",
    "pd.pivot_table(df_od_final,values='l', index='origine', columns='destination',aggfunc='count', margins=True).fillna('NC')"
   ]
  },
  {
   "cell_type": "markdown",
   "metadata": {},
   "source": [
    "# 7. Analyse du nb de VL, PL, PL en transit par heure et par camera "
   ]
  },
  {
   "cell_type": "code",
   "execution_count": 12,
   "metadata": {},
   "outputs": [],
   "source": [
    "df_vl=df_passages2.loc[df_passages2['l']!=1]\n",
    "df_pl=df_passages2.loc[df_passages2['l']==1]\n",
    "df_passages_transit=t.trajet2passage(dico_od_final,df_pl)"
   ]
  },
  {
   "cell_type": "code",
   "execution_count": 47,
   "metadata": {},
   "outputs": [],
   "source": [
    "synt_nb_veh_cam=t.pourcentage_pl_camera(df_pl,df_passages_transit, df_vl)"
   ]
  },
  {
   "cell_type": "code",
   "execution_count": 61,
   "metadata": {},
   "outputs": [
    {
     "data": {
      "application/vnd.vegalite.v2+json": {
       "$schema": "https://vega.github.io/schema/vega-lite/v2.6.0.json",
       "config": {
        "view": {
         "height": 300,
         "width": 400
        }
       },
       "datasets": {
        "data-ee26b88bf6bbf8666f4a4f7a49ae573c": [
         {
          "camera_id": 4,
          "created": "2019-01-24T00:00:00",
          "nb_veh": 103,
          "pct_pl_transit": 11.650485436893204,
          "type": "PL total"
         },
         {
          "camera_id": 4,
          "created": "2019-01-24T01:00:00",
          "nb_veh": 86,
          "pct_pl_transit": 18.6046511627907,
          "type": "PL total"
         },
         {
          "camera_id": 4,
          "created": "2019-01-24T02:00:00",
          "nb_veh": 111,
          "pct_pl_transit": 19.81981981981982,
          "type": "PL total"
         },
         {
          "camera_id": 4,
          "created": "2019-01-24T03:00:00",
          "nb_veh": 131,
          "pct_pl_transit": 15.267175572519085,
          "type": "PL total"
         },
         {
          "camera_id": 4,
          "created": "2019-01-24T04:00:00",
          "nb_veh": 160,
          "pct_pl_transit": 12.5,
          "type": "PL total"
         },
         {
          "camera_id": 4,
          "created": "2019-01-24T05:00:00",
          "nb_veh": 250,
          "pct_pl_transit": 15.2,
          "type": "PL total"
         },
         {
          "camera_id": 4,
          "created": "2019-01-24T06:00:00",
          "nb_veh": 228,
          "pct_pl_transit": 17.54385964912281,
          "type": "PL total"
         },
         {
          "camera_id": 4,
          "created": "2019-01-24T07:00:00",
          "nb_veh": 310,
          "pct_pl_transit": 25.483870967741936,
          "type": "PL total"
         },
         {
          "camera_id": 4,
          "created": "2019-01-24T08:00:00",
          "nb_veh": 524,
          "pct_pl_transit": 34.732824427480914,
          "type": "PL total"
         },
         {
          "camera_id": 4,
          "created": "2019-01-24T09:00:00",
          "nb_veh": 544,
          "pct_pl_transit": 29.595588235294116,
          "type": "PL total"
         },
         {
          "camera_id": 4,
          "created": "2019-01-24T10:00:00",
          "nb_veh": 492,
          "pct_pl_transit": 20.528455284552845,
          "type": "PL total"
         },
         {
          "camera_id": 4,
          "created": "2019-01-24T11:00:00",
          "nb_veh": 420,
          "pct_pl_transit": 21.19047619047619,
          "type": "PL total"
         },
         {
          "camera_id": 4,
          "created": "2019-01-24T12:00:00",
          "nb_veh": 301,
          "pct_pl_transit": 24.25249169435216,
          "type": "PL total"
         },
         {
          "camera_id": 4,
          "created": "2019-01-24T13:00:00",
          "nb_veh": 521,
          "pct_pl_transit": 24.37619961612284,
          "type": "PL total"
         },
         {
          "camera_id": 4,
          "created": "2019-01-24T14:00:00",
          "nb_veh": 550,
          "pct_pl_transit": 23.818181818181817,
          "type": "PL total"
         },
         {
          "camera_id": 4,
          "created": "2019-01-24T15:00:00",
          "nb_veh": 532,
          "pct_pl_transit": 25.37593984962406,
          "type": "PL total"
         },
         {
          "camera_id": 4,
          "created": "2019-01-24T16:00:00",
          "nb_veh": 310,
          "pct_pl_transit": 28.06451612903226,
          "type": "PL total"
         },
         {
          "camera_id": 4,
          "created": "2019-01-24T17:00:00",
          "nb_veh": 250,
          "pct_pl_transit": 16,
          "type": "PL total"
         },
         {
          "camera_id": 4,
          "created": "2019-01-24T18:00:00",
          "nb_veh": 239,
          "pct_pl_transit": 18.828451882845187,
          "type": "PL total"
         },
         {
          "camera_id": 4,
          "created": "2019-01-24T19:00:00",
          "nb_veh": 176,
          "pct_pl_transit": 18.181818181818183,
          "type": "PL total"
         },
         {
          "camera_id": 4,
          "created": "2019-01-24T20:00:00",
          "nb_veh": 145,
          "pct_pl_transit": 22.75862068965517,
          "type": "PL total"
         },
         {
          "camera_id": 4,
          "created": "2019-01-24T21:00:00",
          "nb_veh": 94,
          "pct_pl_transit": 27.659574468085108,
          "type": "PL total"
         },
         {
          "camera_id": 4,
          "created": "2019-01-24T22:00:00",
          "nb_veh": 98,
          "pct_pl_transit": 24.489795918367346,
          "type": "PL total"
         },
         {
          "camera_id": 4,
          "created": "2019-01-24T23:00:00",
          "nb_veh": 97,
          "pct_pl_transit": 28.8659793814433,
          "type": "PL total"
         },
         {
          "camera_id": 4,
          "created": "2019-01-24T00:00:00",
          "nb_veh": 194,
          "pct_pl_transit": 11.650485436893204,
          "type": "VL total"
         },
         {
          "camera_id": 4,
          "created": "2019-01-24T01:00:00",
          "nb_veh": 128,
          "pct_pl_transit": 18.6046511627907,
          "type": "VL total"
         },
         {
          "camera_id": 4,
          "created": "2019-01-24T02:00:00",
          "nb_veh": 148,
          "pct_pl_transit": 19.81981981981982,
          "type": "VL total"
         },
         {
          "camera_id": 4,
          "created": "2019-01-24T03:00:00",
          "nb_veh": 170,
          "pct_pl_transit": 15.267175572519085,
          "type": "VL total"
         },
         {
          "camera_id": 4,
          "created": "2019-01-24T04:00:00",
          "nb_veh": 347,
          "pct_pl_transit": 12.5,
          "type": "VL total"
         },
         {
          "camera_id": 4,
          "created": "2019-01-24T05:00:00",
          "nb_veh": 773,
          "pct_pl_transit": 15.2,
          "type": "VL total"
         },
         {
          "camera_id": 4,
          "created": "2019-01-24T06:00:00",
          "nb_veh": 1407,
          "pct_pl_transit": 17.54385964912281,
          "type": "VL total"
         },
         {
          "camera_id": 4,
          "created": "2019-01-24T07:00:00",
          "nb_veh": 2161,
          "pct_pl_transit": 25.483870967741936,
          "type": "VL total"
         },
         {
          "camera_id": 4,
          "created": "2019-01-24T08:00:00",
          "nb_veh": 2030,
          "pct_pl_transit": 34.732824427480914,
          "type": "VL total"
         },
         {
          "camera_id": 4,
          "created": "2019-01-24T09:00:00",
          "nb_veh": 1569,
          "pct_pl_transit": 29.595588235294116,
          "type": "VL total"
         },
         {
          "camera_id": 4,
          "created": "2019-01-24T10:00:00",
          "nb_veh": 1673,
          "pct_pl_transit": 20.528455284552845,
          "type": "VL total"
         },
         {
          "camera_id": 4,
          "created": "2019-01-24T11:00:00",
          "nb_veh": 1481,
          "pct_pl_transit": 21.19047619047619,
          "type": "VL total"
         },
         {
          "camera_id": 4,
          "created": "2019-01-24T12:00:00",
          "nb_veh": 1304,
          "pct_pl_transit": 24.25249169435216,
          "type": "VL total"
         },
         {
          "camera_id": 4,
          "created": "2019-01-24T13:00:00",
          "nb_veh": 1926,
          "pct_pl_transit": 24.37619961612284,
          "type": "VL total"
         },
         {
          "camera_id": 4,
          "created": "2019-01-24T14:00:00",
          "nb_veh": 2184,
          "pct_pl_transit": 23.818181818181817,
          "type": "VL total"
         },
         {
          "camera_id": 4,
          "created": "2019-01-24T15:00:00",
          "nb_veh": 2693,
          "pct_pl_transit": 25.37593984962406,
          "type": "VL total"
         },
         {
          "camera_id": 4,
          "created": "2019-01-24T16:00:00",
          "nb_veh": 2081,
          "pct_pl_transit": 28.06451612903226,
          "type": "VL total"
         },
         {
          "camera_id": 4,
          "created": "2019-01-24T17:00:00",
          "nb_veh": 1887,
          "pct_pl_transit": 16,
          "type": "VL total"
         },
         {
          "camera_id": 4,
          "created": "2019-01-24T18:00:00",
          "nb_veh": 1614,
          "pct_pl_transit": 18.828451882845187,
          "type": "VL total"
         },
         {
          "camera_id": 4,
          "created": "2019-01-24T19:00:00",
          "nb_veh": 1033,
          "pct_pl_transit": 18.181818181818183,
          "type": "VL total"
         },
         {
          "camera_id": 4,
          "created": "2019-01-24T20:00:00",
          "nb_veh": 681,
          "pct_pl_transit": 22.75862068965517,
          "type": "VL total"
         },
         {
          "camera_id": 4,
          "created": "2019-01-24T21:00:00",
          "nb_veh": 613,
          "pct_pl_transit": 27.659574468085108,
          "type": "VL total"
         },
         {
          "camera_id": 4,
          "created": "2019-01-24T22:00:00",
          "nb_veh": 462,
          "pct_pl_transit": 24.489795918367346,
          "type": "VL total"
         },
         {
          "camera_id": 4,
          "created": "2019-01-24T23:00:00",
          "nb_veh": 404,
          "pct_pl_transit": 28.8659793814433,
          "type": "VL total"
         },
         {
          "camera_id": 4,
          "created": "2019-01-24T00:00:00",
          "nb_veh": 12,
          "pct_pl_transit": 11.650485436893204,
          "type": "PL transit"
         },
         {
          "camera_id": 4,
          "created": "2019-01-24T01:00:00",
          "nb_veh": 16,
          "pct_pl_transit": 18.6046511627907,
          "type": "PL transit"
         },
         {
          "camera_id": 4,
          "created": "2019-01-24T02:00:00",
          "nb_veh": 22,
          "pct_pl_transit": 19.81981981981982,
          "type": "PL transit"
         },
         {
          "camera_id": 4,
          "created": "2019-01-24T03:00:00",
          "nb_veh": 20,
          "pct_pl_transit": 15.267175572519085,
          "type": "PL transit"
         },
         {
          "camera_id": 4,
          "created": "2019-01-24T04:00:00",
          "nb_veh": 20,
          "pct_pl_transit": 12.5,
          "type": "PL transit"
         },
         {
          "camera_id": 4,
          "created": "2019-01-24T05:00:00",
          "nb_veh": 38,
          "pct_pl_transit": 15.2,
          "type": "PL transit"
         },
         {
          "camera_id": 4,
          "created": "2019-01-24T06:00:00",
          "nb_veh": 40,
          "pct_pl_transit": 17.54385964912281,
          "type": "PL transit"
         },
         {
          "camera_id": 4,
          "created": "2019-01-24T07:00:00",
          "nb_veh": 79,
          "pct_pl_transit": 25.483870967741936,
          "type": "PL transit"
         },
         {
          "camera_id": 4,
          "created": "2019-01-24T08:00:00",
          "nb_veh": 182,
          "pct_pl_transit": 34.732824427480914,
          "type": "PL transit"
         },
         {
          "camera_id": 4,
          "created": "2019-01-24T09:00:00",
          "nb_veh": 161,
          "pct_pl_transit": 29.595588235294116,
          "type": "PL transit"
         },
         {
          "camera_id": 4,
          "created": "2019-01-24T10:00:00",
          "nb_veh": 101,
          "pct_pl_transit": 20.528455284552845,
          "type": "PL transit"
         },
         {
          "camera_id": 4,
          "created": "2019-01-24T11:00:00",
          "nb_veh": 89,
          "pct_pl_transit": 21.19047619047619,
          "type": "PL transit"
         },
         {
          "camera_id": 4,
          "created": "2019-01-24T12:00:00",
          "nb_veh": 73,
          "pct_pl_transit": 24.25249169435216,
          "type": "PL transit"
         },
         {
          "camera_id": 4,
          "created": "2019-01-24T13:00:00",
          "nb_veh": 127,
          "pct_pl_transit": 24.37619961612284,
          "type": "PL transit"
         },
         {
          "camera_id": 4,
          "created": "2019-01-24T14:00:00",
          "nb_veh": 131,
          "pct_pl_transit": 23.818181818181817,
          "type": "PL transit"
         },
         {
          "camera_id": 4,
          "created": "2019-01-24T15:00:00",
          "nb_veh": 135,
          "pct_pl_transit": 25.37593984962406,
          "type": "PL transit"
         },
         {
          "camera_id": 4,
          "created": "2019-01-24T16:00:00",
          "nb_veh": 87,
          "pct_pl_transit": 28.06451612903226,
          "type": "PL transit"
         },
         {
          "camera_id": 4,
          "created": "2019-01-24T17:00:00",
          "nb_veh": 40,
          "pct_pl_transit": 16,
          "type": "PL transit"
         },
         {
          "camera_id": 4,
          "created": "2019-01-24T18:00:00",
          "nb_veh": 45,
          "pct_pl_transit": 18.828451882845187,
          "type": "PL transit"
         },
         {
          "camera_id": 4,
          "created": "2019-01-24T19:00:00",
          "nb_veh": 32,
          "pct_pl_transit": 18.181818181818183,
          "type": "PL transit"
         },
         {
          "camera_id": 4,
          "created": "2019-01-24T20:00:00",
          "nb_veh": 33,
          "pct_pl_transit": 22.75862068965517,
          "type": "PL transit"
         },
         {
          "camera_id": 4,
          "created": "2019-01-24T21:00:00",
          "nb_veh": 26,
          "pct_pl_transit": 27.659574468085108,
          "type": "PL transit"
         },
         {
          "camera_id": 4,
          "created": "2019-01-24T22:00:00",
          "nb_veh": 24,
          "pct_pl_transit": 24.489795918367346,
          "type": "PL transit"
         },
         {
          "camera_id": 4,
          "created": "2019-01-24T23:00:00",
          "nb_veh": 28,
          "pct_pl_transit": 28.8659793814433,
          "type": "PL transit"
         }
        ]
       },
       "layer": [
        {
         "data": {
          "name": "data-ee26b88bf6bbf8666f4a4f7a49ae573c"
         },
         "encoding": {
          "color": {
           "field": "type",
           "type": "nominal"
          },
          "x": {
           "axis": {
            "format": "%H:%M",
            "title": "Heure"
           },
           "field": "created",
           "type": "temporal"
          },
          "y": {
           "axis": {
            "title": "Nb de véhicules"
           },
           "field": "nb_veh",
           "stack": null,
           "type": "quantitative"
          }
         },
         "mark": {
          "opacity": 0.7,
          "size": 20,
          "type": "bar"
         }
        },
        {
         "data": {
          "name": "data-ee26b88bf6bbf8666f4a4f7a49ae573c"
         },
         "encoding": {
          "x": {
           "axis": {
            "format": "%H:%M",
            "title": "Heure"
           },
           "field": "created",
           "type": "temporal"
          },
          "y": {
           "axis": {
            "title": "% de PL en transit"
           },
           "field": "pct_pl_transit",
           "type": "quantitative"
          }
         },
         "mark": {
          "color": "green",
          "type": "line"
         }
        }
       ],
       "resolve": {
        "scale": {
         "color": "shared",
         "x": "shared",
         "y": "independent"
        }
       },
       "width": 800
      },
      "image/png": "[encoded data removed]",
      "text/plain": [
       "<VegaLite 2 object>\n",
       "\n",
       "If you see this message, it means the renderer has not been properly enabled\n",
       "for the frontend that you are using. For more information, see\n",
       "https://altair-viz.github.io/user_guide/troubleshooting.html\n"
      ]
     },
     "execution_count": 61,
     "metadata": {},
     "output_type": "execute_result"
    }
   ],
   "source": [
    "g.graph_VL_PL_transit_j_cam(synt_nb_veh_cam, '2019-01-24', 4)"
   ]
  }
 ],
 "metadata": {
  "kernelspec": {
   "display_name": "Python 3",
   "language": "python",
   "name": "python3"
  },
  "language_info": {
   "codemirror_mode": {
    "name": "ipython",
    "version": 3
   },
   "file_extension": ".py",
   "mimetype": "text/x-python",
   "name": "python",
   "nbconvert_exporter": "python",
   "pygments_lexer": "ipython3",
   "version": "3.7.0"
  }
 },
 "nbformat": 4,
 "nbformat_minor": 2
}
