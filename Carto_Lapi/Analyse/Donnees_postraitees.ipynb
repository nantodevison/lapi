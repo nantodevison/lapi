{
 "cells": [
  {
   "cell_type": "markdown",
   "metadata": {},
   "source": [
    "# Notebook de test des données lapi post-traitees"
   ]
  },
  {
   "cell_type": "code",
   "execution_count": 45,
   "metadata": {},
   "outputs": [
    {
     "name": "stdout",
     "output_type": "stream",
     "text": [
      "The autoreload extension is already loaded. To reload it, use:\n",
      "  %reload_ext autoreload\n"
     ]
    }
   ],
   "source": [
    "%load_ext autoreload\n",
    "%autoreload 2\n",
    "import sys #c'est pas propre mais pour le moment pour importer mes modules perso dans le notebook je ne sais pas faire\n",
    "sys.path.append(r'C:\\Users\\martin\\git\\Outils\\Outils\\Martin_Perso')\n",
    "import donnees_posttraitees as t\n",
    "import graphs as g\n",
    "import pandas as pd\n",
    "import geopandas as gpd\n",
    "import numpy as np\n",
    "import altair as alt\n",
    "import datetime as dt\n",
    "pd.set_option('display.max_colwidth', 1000)\n",
    "import os, math\n",
    "from sklearn.cluster import DBSCAN"
   ]
  },
  {
   "cell_type": "markdown",
   "metadata": {},
   "source": [
    "# 1. import des données, traitement de mise en forme\n",
    "## 1.1 Import\n",
    "Les données sont importées sur la période du 24/01/19 au 23/02/19, sur laquelle il n'y a pas de manque de données à priori"
   ]
  },
  {
   "cell_type": "code",
   "execution_count": null,
   "metadata": {},
   "outputs": [],
   "source": [
    "df_passages, df_plaques, df_immat=t.ouvrir_fichier_lapi_final('2019-01-24 00:00:00','2019-02-13 23:59:59')"
   ]
  },
  {
   "cell_type": "markdown",
   "metadata": {},
   "source": [
    "## 1.2. Suppression des doublons"
   ]
  },
  {
   "cell_type": "code",
   "execution_count": 9,
   "metadata": {},
   "outputs": [],
   "source": [
    "df_passages=t.supprimer_doublons(df_passages)"
   ]
  },
  {
   "cell_type": "markdown",
   "metadata": {},
   "source": [
    "## 1.3 Ajout de l'attribut de différenciation VL / PL"
   ]
  },
  {
   "cell_type": "code",
   "execution_count": 39,
   "metadata": {},
   "outputs": [
    {
     "name": "stdout",
     "output_type": "stream",
     "text": [
      "Wall time: 3min 14s\n"
     ]
    }
   ],
   "source": [
    "%time df_passages2=t.affecter_type(df_passages,df_immat)"
   ]
  },
  {
   "cell_type": "markdown",
   "metadata": {},
   "source": [
    "***ATTENTION : ENCORE 18764 IMMATRCULATION COURTE PRESENTES DANS TE_PASSAGES ET NON PRENSENTES DANS TE_PLAQUES_COURTE :***"
   ]
  },
  {
   "cell_type": "code",
   "execution_count": null,
   "metadata": {},
   "outputs": [],
   "source": [
    "df_passages2.loc[df_passages2.immatriculation.isna()]"
   ]
  },
  {
   "cell_type": "markdown",
   "metadata": {},
   "source": [
    "***ATTENTION : PLUS DE 1M D'IMMATRCULATION SANS VALEUR DE VL_TOT ou PL_TOT ou VUL_TOT :***"
   ]
  },
  {
   "cell_type": "code",
   "execution_count": 19,
   "metadata": {},
   "outputs": [],
   "source": [
    "df_passages2.loc[df_passages2['type_veh']==-1]"
   ]
  },
  {
   "cell_type": "code",
   "execution_count": null,
   "metadata": {},
   "outputs": [],
   "source": [
    "df_immat.loc[df_immat['immatriculation']=='000013c5f1fc019be0ac5a49a32f675be089542a']"
   ]
  },
  {
   "cell_type": "markdown",
   "metadata": {},
   "source": [
    "# 2. Identifier les trajets de transit"
   ]
  },
  {
   "cell_type": "code",
   "execution_count": 42,
   "metadata": {},
   "outputs": [
    {
     "name": "stdout",
     "output_type": "stream",
     "text": [
      "date : 2019-01-29 00:00:00 debut_traitement : 2019-05-11 23:23:32.817432\n",
      "date : 2019-01-30 00:00:00 debut_traitement : 2019-05-11 23:25:04.342900\n",
      "date : 2019-01-31 00:00:00 debut_traitement : 2019-05-11 23:26:34.701772\n"
     ]
    }
   ],
   "source": [
    "dico_od,  dico_passag, dico_tps_max=t.transit_temps_complet('2019-01-29 00:00:00',3,df_passages2)"
   ]
  },
  {
   "cell_type": "markdown",
   "metadata": {},
   "source": [
    "# 3. Filtrer les trajets selon un temps de parcours"
   ]
  },
  {
   "cell_type": "code",
   "execution_count": 43,
   "metadata": {},
   "outputs": [],
   "source": [
    "#df des temsp de parcours\n",
    "dixco_tpsmax_corrige=t.corriger_df_tps_parcours(dico_tps_max)"
   ]
  },
  {
   "cell_type": "markdown",
   "metadata": {},
   "source": [
    "***Ici on pourra caracteriser l'impact de la marge***"
   ]
  },
  {
   "cell_type": "code",
   "execution_count": 44,
   "metadata": {},
   "outputs": [],
   "source": [
    "# df complete avec l'atribut filtre\n",
    "df_transit_avec_filtre=t.jointure_temps_reel_theorique(dico_od,dixco_tpsmax_corrige,t.liste_complete_trajet, 15)"
   ]
  },
  {
   "cell_type": "code",
   "execution_count": 47,
   "metadata": {},
   "outputs": [],
   "source": [
    "#filtrer le df : \n",
    "dico_od_final=df_transit_avec_filtre.loc[df_transit_avec_filtre['filtre_tps']==1]"
   ]
  },
  {
   "cell_type": "markdown",
   "metadata": {},
   "source": [
    "## Correction des trajets depuis ou vers A660 relatifs à A63"
   ]
  },
  {
   "cell_type": "code",
   "execution_count": 48,
   "metadata": {},
   "outputs": [
    {
     "name": "stdout",
     "output_type": "stream",
     "text": [
      "Wall time: 7min 6s\n"
     ]
    }
   ],
   "source": [
    "%time df_od_corrige=t.correction_trajet(df_passages2, dico_od_final)"
   ]
  },
  {
   "cell_type": "markdown",
   "metadata": {},
   "source": [
    "# extrapolation des trajets non complets"
   ]
  },
  {
   "cell_type": "code",
   "execution_count": 50,
   "metadata": {},
   "outputs": [
    {
     "name": "stdout",
     "output_type": "stream",
     "text": [
      "Wall time: 1min 45s\n"
     ]
    }
   ],
   "source": [
    "#creer les donnees necessaires\n",
    "%time df_filtre_A63,df_passage_transit,df_non_transit=t.param_trajet_incomplet('2019-01-28 00:00:00',df_od_corrige,df_passages2,dico_passag)"
   ]
  },
  {
   "cell_type": "code",
   "execution_count": 63,
   "metadata": {},
   "outputs": [
    {
     "name": "stdout",
     "output_type": "stream",
     "text": [
      "date : 2019-01-29 00:00:00 debut_traitement : 2019-05-12 00:17:32.032862\n",
      "Wall time: 11.5 s\n"
     ]
    }
   ],
   "source": [
    "#trajet de transit incomplet sans filtre sur temps de parcours\n",
    "%time trajet_transit_incomplet2, passage2=t.transit_trajet_incomplet(df_filtre_A63,df_passage_transit,'2019-01-29 00:00:00',1, df_passages2)"
   ]
  },
  {
   "cell_type": "code",
   "execution_count": null,
   "metadata": {},
   "outputs": [],
   "source": [
    "#filtrer selon le temps de parcours\n",
    "trajet_transit_incomplet_filtre_temps=t.jointure_temps_reel_theorique(trajet_transit_incomplet2,dixco_tpsmax_corrige,t.liste_trajet_incomplet, 15,'incomplet')\n",
    "#mettre en forme les attributs\n",
    "trajet_transit_incomplet_filtre_temps=trajet_transit_incomplet_filtre_temps[['date_cam_1', 'immat', 'state', 'l', 'date_cam_2', 'cameras', 'origine',\n",
    "       'destination', 'o_d', 'tps_parcours', 'period', 'date', 'temps', 'type',\n",
    "       'tps_parcours_theoriq', 'filtre_tps']]\n",
    "#filtrer le df : \n",
    "trajet_transit_incomplet_final=trajet_transit_incomplet_filtre_temps.loc[trajet_transit_incomplet_filtre_temps['filtre_tps']==1]\n",
    "#ajouter l'attribut d'identification des trajets \n",
    "trajet_transit_incomplet_final['correction_o_d']=True\n",
    "#6. Ajouter au df des o_d précédents : \n",
    "df_od_final=pd.concat([df_od_corrige,trajet_transit_incomplet_final])"
   ]
  },
  {
   "cell_type": "markdown",
   "metadata": {},
   "source": [
    "# 4. CREER LE TABLEAU DE MATRICE O-D"
   ]
  },
  {
   "cell_type": "code",
   "execution_count": 65,
   "metadata": {},
   "outputs": [
    {
     "data": {
      "text/html": [
       "<div>\n",
       "<style scoped>\n",
       "    .dataframe tbody tr th:only-of-type {\n",
       "        vertical-align: middle;\n",
       "    }\n",
       "\n",
       "    .dataframe tbody tr th {\n",
       "        vertical-align: top;\n",
       "    }\n",
       "\n",
       "    .dataframe thead th {\n",
       "        text-align: right;\n",
       "    }\n",
       "</style>\n",
       "<table border=\"1\" class=\"dataframe\">\n",
       "  <thead>\n",
       "    <tr style=\"text-align: right;\">\n",
       "      <th>destination</th>\n",
       "      <th>A10</th>\n",
       "      <th>A62</th>\n",
       "      <th>A63</th>\n",
       "      <th>A660</th>\n",
       "      <th>A89</th>\n",
       "      <th>N10</th>\n",
       "      <th>All</th>\n",
       "    </tr>\n",
       "    <tr>\n",
       "      <th>origine</th>\n",
       "      <th></th>\n",
       "      <th></th>\n",
       "      <th></th>\n",
       "      <th></th>\n",
       "      <th></th>\n",
       "      <th></th>\n",
       "      <th></th>\n",
       "    </tr>\n",
       "  </thead>\n",
       "  <tbody>\n",
       "    <tr>\n",
       "      <th>A10</th>\n",
       "      <td>NC</td>\n",
       "      <td>919</td>\n",
       "      <td>1316</td>\n",
       "      <td>306</td>\n",
       "      <td>45</td>\n",
       "      <td>NC</td>\n",
       "      <td>2586</td>\n",
       "    </tr>\n",
       "    <tr>\n",
       "      <th>A62</th>\n",
       "      <td>451</td>\n",
       "      <td>NC</td>\n",
       "      <td>74</td>\n",
       "      <td>169</td>\n",
       "      <td>93</td>\n",
       "      <td>579</td>\n",
       "      <td>1366</td>\n",
       "    </tr>\n",
       "    <tr>\n",
       "      <th>A63</th>\n",
       "      <td>749</td>\n",
       "      <td>40</td>\n",
       "      <td>NC</td>\n",
       "      <td>NC</td>\n",
       "      <td>217</td>\n",
       "      <td>4431</td>\n",
       "      <td>5437</td>\n",
       "    </tr>\n",
       "    <tr>\n",
       "      <th>A660</th>\n",
       "      <td>598</td>\n",
       "      <td>160</td>\n",
       "      <td>NC</td>\n",
       "      <td>NC</td>\n",
       "      <td>277</td>\n",
       "      <td>2631</td>\n",
       "      <td>3666</td>\n",
       "    </tr>\n",
       "    <tr>\n",
       "      <th>A89</th>\n",
       "      <td>47</td>\n",
       "      <td>160</td>\n",
       "      <td>447</td>\n",
       "      <td>219</td>\n",
       "      <td>NC</td>\n",
       "      <td>193</td>\n",
       "      <td>1066</td>\n",
       "    </tr>\n",
       "    <tr>\n",
       "      <th>N10</th>\n",
       "      <td>NC</td>\n",
       "      <td>604</td>\n",
       "      <td>4389</td>\n",
       "      <td>802</td>\n",
       "      <td>104</td>\n",
       "      <td>NC</td>\n",
       "      <td>5899</td>\n",
       "    </tr>\n",
       "    <tr>\n",
       "      <th>All</th>\n",
       "      <td>1845</td>\n",
       "      <td>1883</td>\n",
       "      <td>6226</td>\n",
       "      <td>1496</td>\n",
       "      <td>736</td>\n",
       "      <td>7834</td>\n",
       "      <td>20020</td>\n",
       "    </tr>\n",
       "  </tbody>\n",
       "</table>\n",
       "</div>"
      ],
      "text/plain": [
       "destination   A10   A62   A63  A660  A89   N10    All\n",
       "origine                                              \n",
       "A10            NC   919  1316   306   45    NC   2586\n",
       "A62           451    NC    74   169   93   579   1366\n",
       "A63           749    40    NC    NC  217  4431   5437\n",
       "A660          598   160    NC    NC  277  2631   3666\n",
       "A89            47   160   447   219   NC   193   1066\n",
       "N10            NC   604  4389   802  104    NC   5899\n",
       "All          1845  1883  6226  1496  736  7834  20020"
      ]
     },
     "execution_count": 65,
     "metadata": {},
     "output_type": "execute_result"
    }
   ],
   "source": [
    "pd.pivot_table(dico_od_final,values='l', index='origine', columns='destination',aggfunc='count', margins=True).fillna('NC')"
   ]
  },
  {
   "cell_type": "code",
   "execution_count": null,
   "metadata": {},
   "outputs": [],
   "source": []
  }
 ],
 "metadata": {
  "kernelspec": {
   "display_name": "Python 3",
   "language": "python",
   "name": "python3"
  },
  "language_info": {
   "codemirror_mode": {
    "name": "ipython",
    "version": 3
   },
   "file_extension": ".py",
   "mimetype": "text/x-python",
   "name": "python",
   "nbconvert_exporter": "python",
   "pygments_lexer": "ipython3",
   "version": "3.7.2"
  }
 },
 "nbformat": 4,
 "nbformat_minor": 2
}
