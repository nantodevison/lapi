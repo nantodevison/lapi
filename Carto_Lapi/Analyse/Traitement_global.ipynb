{
 "cells": [
  {
   "cell_type": "markdown",
   "metadata": {},
   "source": [
    "# TRAITEMENT GLOBAL DES DONNEES LAPI"
   ]
  },
  {
   "cell_type": "code",
   "execution_count": 74,
   "metadata": {},
   "outputs": [
    {
     "name": "stdout",
     "output_type": "stream",
     "text": [
      "The autoreload extension is already loaded. To reload it, use:\n",
      "  %reload_ext autoreload\n"
     ]
    }
   ],
   "source": [
    "%load_ext autoreload\n",
    "%autoreload 2\n",
    "import pandas as pd\n",
    "import sys #c'est pas propre mais pour le moment pour importer mes modules perso dans le notebook je ne sais pas faire\n",
    "sys.path.append(r'C:\\Users\\martin.schoreisz\\git\\Outils\\Outils\\Martin_Perso')\n",
    "import Traitements_complets as tc\n",
    "import Resultats as r"
   ]
  },
  {
   "cell_type": "code",
   "execution_count": 99,
   "metadata": {},
   "outputs": [
    {
     "ename": "KeyError",
     "evalue": "'created'",
     "output_type": "error",
     "traceback": [
      "\u001b[1;31m---------------------------------------------------------------------------\u001b[0m",
      "\u001b[1;31mKeyError\u001b[0m                                  Traceback (most recent call last)",
      "\u001b[1;32mc:\\users\\martin.schoreisz\\appdata\\local\\programs\\python\\python37\\lib\\site-packages\\pandas\\core\\indexes\\base.py\u001b[0m in \u001b[0;36mget_loc\u001b[1;34m(self, key, method, tolerance)\u001b[0m\n\u001b[0;32m   2656\u001b[0m             \u001b[1;32mtry\u001b[0m\u001b[1;33m:\u001b[0m\u001b[1;33m\u001b[0m\u001b[0m\n\u001b[1;32m-> 2657\u001b[1;33m                 \u001b[1;32mreturn\u001b[0m \u001b[0mself\u001b[0m\u001b[1;33m.\u001b[0m\u001b[0m_engine\u001b[0m\u001b[1;33m.\u001b[0m\u001b[0mget_loc\u001b[0m\u001b[1;33m(\u001b[0m\u001b[0mkey\u001b[0m\u001b[1;33m)\u001b[0m\u001b[1;33m\u001b[0m\u001b[0m\n\u001b[0m\u001b[0;32m   2658\u001b[0m             \u001b[1;32mexcept\u001b[0m \u001b[0mKeyError\u001b[0m\u001b[1;33m:\u001b[0m\u001b[1;33m\u001b[0m\u001b[0m\n",
      "\u001b[1;32mpandas\\_libs\\index.pyx\u001b[0m in \u001b[0;36mpandas._libs.index.IndexEngine.get_loc\u001b[1;34m()\u001b[0m\n",
      "\u001b[1;32mpandas\\_libs\\index.pyx\u001b[0m in \u001b[0;36mpandas._libs.index.IndexEngine.get_loc\u001b[1;34m()\u001b[0m\n",
      "\u001b[1;32mpandas\\_libs\\hashtable_class_helper.pxi\u001b[0m in \u001b[0;36mpandas._libs.hashtable.PyObjectHashTable.get_item\u001b[1;34m()\u001b[0m\n",
      "\u001b[1;32mpandas\\_libs\\hashtable_class_helper.pxi\u001b[0m in \u001b[0;36mpandas._libs.hashtable.PyObjectHashTable.get_item\u001b[1;34m()\u001b[0m\n",
      "\u001b[1;31mKeyError\u001b[0m: 'created'",
      "\nDuring handling of the above exception, another exception occurred:\n",
      "\u001b[1;31mKeyError\u001b[0m                                  Traceback (most recent call last)",
      "\u001b[1;32m<timed exec>\u001b[0m in \u001b[0;36m<module>\u001b[1;34m\u001b[0m\n",
      "\u001b[1;32m~\\git\\lapi\\Carto_Lapi\\Analyse\\Traitements_complets.py\u001b[0m in \u001b[0;36mdefinir_transit\u001b[1;34m()\u001b[0m\n\u001b[0;32m     21\u001b[0m     \"\"\"\n\u001b[0;32m     22\u001b[0m     \u001b[1;31m#importer les données et recuperer les données mise en forme\u001b[0m\u001b[1;33m\u001b[0m\u001b[1;33m\u001b[0m\u001b[0m\n\u001b[1;32m---> 23\u001b[1;33m     \u001b[0mdf_passages_immat_ok\u001b[0m\u001b[1;33m=\u001b[0m\u001b[0mimport_et_mise_en_forme\u001b[0m\u001b[1;33m(\u001b[0m\u001b[1;33m)\u001b[0m\u001b[1;33m[\u001b[0m\u001b[1;36m0\u001b[0m\u001b[1;33m]\u001b[0m\u001b[1;33m\u001b[0m\u001b[0m\n\u001b[0m\u001b[0;32m     24\u001b[0m     \u001b[1;31m#creer la datafrme de base des trajets susceptible d'etre en transit\u001b[0m\u001b[1;33m\u001b[0m\u001b[1;33m\u001b[0m\u001b[0m\n\u001b[0;32m     25\u001b[0m     \u001b[0mdico_od\u001b[0m\u001b[1;33m,\u001b[0m  \u001b[0mdico_passag\u001b[0m\u001b[1;33m,\u001b[0m \u001b[0mdico_tps_max\u001b[0m\u001b[1;33m=\u001b[0m\u001b[0mtransit_temps_complet\u001b[0m\u001b[1;33m(\u001b[0m\u001b[1;34m'2019-01-23 00:00:00'\u001b[0m\u001b[1;33m,\u001b[0m\u001b[1;36m22\u001b[0m\u001b[1;33m,\u001b[0m\u001b[0mdf_passages_immat_ok\u001b[0m\u001b[1;33m)\u001b[0m\u001b[1;33m\u001b[0m\u001b[0m\n",
      "\u001b[1;32m~\\git\\lapi\\Carto_Lapi\\Analyse\\Import_Forme.py\u001b[0m in \u001b[0;36mimport_et_mise_en_forme\u001b[1;34m(type_veh)\u001b[0m\n\u001b[0;32m    273\u001b[0m     \u001b[0mdf_passages_immat_ok\u001b[0m\u001b[1;33m,\u001b[0m \u001b[0mdf_immat_suppr\u001b[0m\u001b[1;33m=\u001b[0m\u001b[0mfiltre_plaque_non_valable\u001b[0m\u001b[1;33m(\u001b[0m\u001b[0mdf_passages_pl\u001b[0m\u001b[1;33m,\u001b[0m \u001b[0mdf_plaques\u001b[0m\u001b[1;33m)\u001b[0m\u001b[1;33m\u001b[0m\u001b[0m\n\u001b[0;32m    274\u001b[0m     \u001b[1;31m#recaler les passages d'1h\u001b[0m\u001b[1;33m\u001b[0m\u001b[1;33m\u001b[0m\u001b[0m\n\u001b[1;32m--> 275\u001b[1;33m     \u001b[0mdf_passages_immat_ok\u001b[0m\u001b[1;33m=\u001b[0m\u001b[0mrecalage_passage_1h\u001b[0m\u001b[1;33m(\u001b[0m\u001b[0mdf_passages_immat_ok\u001b[0m\u001b[1;33m)\u001b[0m\u001b[1;33m\u001b[0m\u001b[0m\n\u001b[0m\u001b[0;32m    276\u001b[0m \u001b[1;33m\u001b[0m\u001b[0m\n\u001b[0;32m    277\u001b[0m     \u001b[1;32mreturn\u001b[0m \u001b[0mdf_passages_immat_ok\u001b[0m\u001b[1;33m,\u001b[0m \u001b[0mdf_immat_suppr\u001b[0m\u001b[1;33m\u001b[0m\u001b[0m\n",
      "\u001b[1;32m~\\git\\lapi\\Carto_Lapi\\Analyse\\Import_Forme.py\u001b[0m in \u001b[0;36mrecalage_passage_1h\u001b[1;34m(df_passage)\u001b[0m\n\u001b[0;32m     74\u001b[0m     \u001b[0majouter\u001b[0m \u001b[0mune\u001b[0m \u001b[0mheure\u001b[0m \u001b[0mà\u001b[0m \u001b[0mtous\u001b[0m \u001b[0mles\u001b[0m \u001b[0mpassage\u001b[0m\u001b[1;33m\u001b[0m\u001b[0m\n\u001b[0;32m     75\u001b[0m     \"\"\"\n\u001b[1;32m---> 76\u001b[1;33m     \u001b[0mdf_passage\u001b[0m\u001b[1;33m[\u001b[0m\u001b[1;34m'created'\u001b[0m\u001b[1;33m]\u001b[0m\u001b[1;33m=\u001b[0m\u001b[0mdf_passage\u001b[0m\u001b[1;33m[\u001b[0m\u001b[1;34m'created'\u001b[0m\u001b[1;33m]\u001b[0m\u001b[1;33m+\u001b[0m\u001b[0mpd\u001b[0m\u001b[1;33m.\u001b[0m\u001b[0mTimedelta\u001b[0m\u001b[1;33m(\u001b[0m\u001b[1;34m'1H'\u001b[0m\u001b[1;33m)\u001b[0m\u001b[1;33m\u001b[0m\u001b[0m\n\u001b[0m\u001b[0;32m     77\u001b[0m     \u001b[1;32mreturn\u001b[0m \u001b[0mdf_passage\u001b[0m\u001b[1;33m\u001b[0m\u001b[0m\n\u001b[0;32m     78\u001b[0m \u001b[1;33m\u001b[0m\u001b[0m\n",
      "\u001b[1;32mc:\\users\\martin.schoreisz\\appdata\\local\\programs\\python\\python37\\lib\\site-packages\\pandas\\core\\frame.py\u001b[0m in \u001b[0;36m__getitem__\u001b[1;34m(self, key)\u001b[0m\n\u001b[0;32m   2925\u001b[0m             \u001b[1;32mif\u001b[0m \u001b[0mself\u001b[0m\u001b[1;33m.\u001b[0m\u001b[0mcolumns\u001b[0m\u001b[1;33m.\u001b[0m\u001b[0mnlevels\u001b[0m \u001b[1;33m>\u001b[0m \u001b[1;36m1\u001b[0m\u001b[1;33m:\u001b[0m\u001b[1;33m\u001b[0m\u001b[0m\n\u001b[0;32m   2926\u001b[0m                 \u001b[1;32mreturn\u001b[0m \u001b[0mself\u001b[0m\u001b[1;33m.\u001b[0m\u001b[0m_getitem_multilevel\u001b[0m\u001b[1;33m(\u001b[0m\u001b[0mkey\u001b[0m\u001b[1;33m)\u001b[0m\u001b[1;33m\u001b[0m\u001b[0m\n\u001b[1;32m-> 2927\u001b[1;33m             \u001b[0mindexer\u001b[0m \u001b[1;33m=\u001b[0m \u001b[0mself\u001b[0m\u001b[1;33m.\u001b[0m\u001b[0mcolumns\u001b[0m\u001b[1;33m.\u001b[0m\u001b[0mget_loc\u001b[0m\u001b[1;33m(\u001b[0m\u001b[0mkey\u001b[0m\u001b[1;33m)\u001b[0m\u001b[1;33m\u001b[0m\u001b[0m\n\u001b[0m\u001b[0;32m   2928\u001b[0m             \u001b[1;32mif\u001b[0m \u001b[0mis_integer\u001b[0m\u001b[1;33m(\u001b[0m\u001b[0mindexer\u001b[0m\u001b[1;33m)\u001b[0m\u001b[1;33m:\u001b[0m\u001b[1;33m\u001b[0m\u001b[0m\n\u001b[0;32m   2929\u001b[0m                 \u001b[0mindexer\u001b[0m \u001b[1;33m=\u001b[0m \u001b[1;33m[\u001b[0m\u001b[0mindexer\u001b[0m\u001b[1;33m]\u001b[0m\u001b[1;33m\u001b[0m\u001b[0m\n",
      "\u001b[1;32mc:\\users\\martin.schoreisz\\appdata\\local\\programs\\python\\python37\\lib\\site-packages\\pandas\\core\\indexes\\base.py\u001b[0m in \u001b[0;36mget_loc\u001b[1;34m(self, key, method, tolerance)\u001b[0m\n\u001b[0;32m   2657\u001b[0m                 \u001b[1;32mreturn\u001b[0m \u001b[0mself\u001b[0m\u001b[1;33m.\u001b[0m\u001b[0m_engine\u001b[0m\u001b[1;33m.\u001b[0m\u001b[0mget_loc\u001b[0m\u001b[1;33m(\u001b[0m\u001b[0mkey\u001b[0m\u001b[1;33m)\u001b[0m\u001b[1;33m\u001b[0m\u001b[0m\n\u001b[0;32m   2658\u001b[0m             \u001b[1;32mexcept\u001b[0m \u001b[0mKeyError\u001b[0m\u001b[1;33m:\u001b[0m\u001b[1;33m\u001b[0m\u001b[0m\n\u001b[1;32m-> 2659\u001b[1;33m                 \u001b[1;32mreturn\u001b[0m \u001b[0mself\u001b[0m\u001b[1;33m.\u001b[0m\u001b[0m_engine\u001b[0m\u001b[1;33m.\u001b[0m\u001b[0mget_loc\u001b[0m\u001b[1;33m(\u001b[0m\u001b[0mself\u001b[0m\u001b[1;33m.\u001b[0m\u001b[0m_maybe_cast_indexer\u001b[0m\u001b[1;33m(\u001b[0m\u001b[0mkey\u001b[0m\u001b[1;33m)\u001b[0m\u001b[1;33m)\u001b[0m\u001b[1;33m\u001b[0m\u001b[0m\n\u001b[0m\u001b[0;32m   2660\u001b[0m         \u001b[0mindexer\u001b[0m \u001b[1;33m=\u001b[0m \u001b[0mself\u001b[0m\u001b[1;33m.\u001b[0m\u001b[0mget_indexer\u001b[0m\u001b[1;33m(\u001b[0m\u001b[1;33m[\u001b[0m\u001b[0mkey\u001b[0m\u001b[1;33m]\u001b[0m\u001b[1;33m,\u001b[0m \u001b[0mmethod\u001b[0m\u001b[1;33m=\u001b[0m\u001b[0mmethod\u001b[0m\u001b[1;33m,\u001b[0m \u001b[0mtolerance\u001b[0m\u001b[1;33m=\u001b[0m\u001b[0mtolerance\u001b[0m\u001b[1;33m)\u001b[0m\u001b[1;33m\u001b[0m\u001b[0m\n\u001b[0;32m   2661\u001b[0m         \u001b[1;32mif\u001b[0m \u001b[0mindexer\u001b[0m\u001b[1;33m.\u001b[0m\u001b[0mndim\u001b[0m \u001b[1;33m>\u001b[0m \u001b[1;36m1\u001b[0m \u001b[1;32mor\u001b[0m \u001b[0mindexer\u001b[0m\u001b[1;33m.\u001b[0m\u001b[0msize\u001b[0m \u001b[1;33m>\u001b[0m \u001b[1;36m1\u001b[0m\u001b[1;33m:\u001b[0m\u001b[1;33m\u001b[0m\u001b[0m\n",
      "\u001b[1;32mpandas\\_libs\\index.pyx\u001b[0m in \u001b[0;36mpandas._libs.index.IndexEngine.get_loc\u001b[1;34m()\u001b[0m\n",
      "\u001b[1;32mpandas\\_libs\\index.pyx\u001b[0m in \u001b[0;36mpandas._libs.index.IndexEngine.get_loc\u001b[1;34m()\u001b[0m\n",
      "\u001b[1;32mpandas\\_libs\\hashtable_class_helper.pxi\u001b[0m in \u001b[0;36mpandas._libs.hashtable.PyObjectHashTable.get_item\u001b[1;34m()\u001b[0m\n",
      "\u001b[1;32mpandas\\_libs\\hashtable_class_helper.pxi\u001b[0m in \u001b[0;36mpandas._libs.hashtable.PyObjectHashTable.get_item\u001b[1;34m()\u001b[0m\n",
      "\u001b[1;31mKeyError\u001b[0m: 'created'"
     ]
    }
   ],
   "source": [
    "%time df_transit_A63_redresse, df_transit_extrapole, df_passages_immat_ok, dixco_tpsmax_corrige=tc.definir_transit()"
   ]
  },
  {
   "cell_type": "code",
   "execution_count": 100,
   "metadata": {},
   "outputs": [
    {
     "name": "stdout",
     "output_type": "stream",
     "text": [
      "Wall time: 2min 57s\n"
     ]
    }
   ],
   "source": [
    "%time dico_df_transit, dico_df_od_ok=tc.appliquer_marge([0,15,30,45,60,90],df_transit_A63_redresse, df_transit_extrapole)"
   ]
  },
  {
   "cell_type": "code",
   "execution_count": 101,
   "metadata": {},
   "outputs": [
    {
     "name": "stdout",
     "output_type": "stream",
     "text": [
      "Wall time: 5h 27min 51s\n"
     ]
    }
   ],
   "source": [
    "%time dico_corr_A63_A660=tc.correction_A660(dico_df_od_ok,df_passages_immat_ok,[0,15,30,45,60,90])"
   ]
  },
  {
   "cell_type": "code",
   "execution_count": null,
   "metadata": {},
   "outputs": [
    {
     "name": "stdout",
     "output_type": "stream",
     "text": [
      "date : 2019-01-23 00:00:00 debut_traitement : 2019-07-02 02:28:29.773340\n",
      "date : 2019-01-24 00:00:00 debut_traitement : 2019-07-02 02:39:31.166728\n",
      "date : 2019-01-25 00:00:00 debut_traitement : 2019-07-02 02:47:26.242001\n",
      "date : 2019-01-26 00:00:00 debut_traitement : 2019-07-02 02:53:47.481624\n",
      "date : 2019-01-27 00:00:00 debut_traitement : 2019-07-02 02:58:30.023966\n",
      "date : 2019-01-28 00:00:00 debut_traitement : 2019-07-02 03:00:48.773007\n",
      "date : 2019-01-29 00:00:00 debut_traitement : 2019-07-02 03:06:12.010465\n",
      "date : 2019-01-30 00:00:00 debut_traitement : 2019-07-02 03:11:15.906688\n",
      "date : 2019-01-31 00:00:00 debut_traitement : 2019-07-02 03:17:08.104699\n",
      "date : 2019-02-01 00:00:00 debut_traitement : 2019-07-02 03:20:28.994788\n",
      "date : 2019-02-02 00:00:00 debut_traitement : 2019-07-02 03:23:33.701269\n",
      "date : 2019-02-03 00:00:00 debut_traitement : 2019-07-02 03:26:10.851746\n",
      "date : 2019-02-04 00:00:00 debut_traitement : 2019-07-02 03:27:55.184625\n",
      "date : 2019-02-05 00:00:00 debut_traitement : 2019-07-02 03:30:31.116642\n",
      "date : 2019-02-06 00:00:00 debut_traitement : 2019-07-02 03:33:26.122384\n",
      "date : 2019-02-07 00:00:00 debut_traitement : 2019-07-02 03:37:00.899977\n",
      "date : 2019-02-08 00:00:00 debut_traitement : 2019-07-02 03:40:00.717094\n",
      "date : 2019-02-09 00:00:00 debut_traitement : 2019-07-02 03:42:38.414434\n",
      "date : 2019-02-10 00:00:00 debut_traitement : 2019-07-02 03:44:57.395523\n",
      "date : 2019-02-11 00:00:00 debut_traitement : 2019-07-02 03:46:50.775162\n",
      "date : 2019-02-12 00:00:00 debut_traitement : 2019-07-02 03:49:22.255234\n",
      "date : 2019-02-13 00:00:00 debut_traitement : 2019-07-02 03:52:02.780089\n",
      "date : 2019-01-23 00:00:00 debut_traitement : 2019-07-02 03:55:20.435042\n",
      "date : 2019-01-24 00:00:00 debut_traitement : 2019-07-02 04:06:27.089504\n",
      "date : 2019-01-25 00:00:00 debut_traitement : 2019-07-02 04:14:31.179451\n",
      "date : 2019-01-26 00:00:00 debut_traitement : 2019-07-02 04:20:53.010202\n",
      "date : 2019-01-27 00:00:00 debut_traitement : 2019-07-02 04:25:40.536681\n",
      "date : 2019-01-28 00:00:00 debut_traitement : 2019-07-02 04:28:03.550195\n",
      "date : 2019-01-29 00:00:00 debut_traitement : 2019-07-02 04:33:46.530687\n",
      "date : 2019-01-30 00:00:00 debut_traitement : 2019-07-02 04:39:01.941435\n",
      "date : 2019-01-31 00:00:00 debut_traitement : 2019-07-02 04:45:07.309299\n",
      "date : 2019-02-01 00:00:00 debut_traitement : 2019-07-02 04:48:35.852515\n",
      "date : 2019-02-02 00:00:00 debut_traitement : 2019-07-02 04:51:49.198038\n",
      "date : 2019-02-03 00:00:00 debut_traitement : 2019-07-02 04:54:27.551727\n",
      "date : 2019-02-04 00:00:00 debut_traitement : 2019-07-02 04:56:15.243564\n",
      "date : 2019-02-05 00:00:00 debut_traitement : 2019-07-02 04:58:58.299285\n",
      "date : 2019-02-06 00:00:00 debut_traitement : 2019-07-02 05:02:00.116298\n",
      "date : 2019-02-07 00:00:00 debut_traitement : 2019-07-02 05:05:45.563790\n",
      "date : 2019-02-08 00:00:00 debut_traitement : 2019-07-02 05:08:52.645197\n",
      "date : 2019-02-09 00:00:00 debut_traitement : 2019-07-02 05:11:33.527690\n",
      "date : 2019-02-10 00:00:00 debut_traitement : 2019-07-02 05:13:57.072397\n",
      "date : 2019-02-11 00:00:00 debut_traitement : 2019-07-02 05:15:47.265443\n",
      "date : 2019-02-12 00:00:00 debut_traitement : 2019-07-02 05:18:15.637156\n",
      "date : 2019-02-13 00:00:00 debut_traitement : 2019-07-02 05:20:53.819012\n",
      "date : 2019-01-23 00:00:00 debut_traitement : 2019-07-02 05:24:18.005805\n",
      "date : 2019-01-24 00:00:00 debut_traitement : 2019-07-02 05:35:49.173088\n",
      "date : 2019-01-25 00:00:00 debut_traitement : 2019-07-02 05:44:11.477761\n",
      "date : 2019-01-26 00:00:00 debut_traitement : 2019-07-02 05:50:46.012090\n",
      "date : 2019-01-27 00:00:00 debut_traitement : 2019-07-02 05:55:38.458558\n",
      "date : 2019-01-28 00:00:00 debut_traitement : 2019-07-02 05:58:06.440127\n",
      "date : 2019-01-29 00:00:00 debut_traitement : 2019-07-02 06:03:57.950985\n",
      "date : 2019-01-30 00:00:00 debut_traitement : 2019-07-02 06:09:27.156313\n",
      "date : 2019-01-31 00:00:00 debut_traitement : 2019-07-02 06:16:00.141791\n",
      "date : 2019-02-01 00:00:00 debut_traitement : 2019-07-02 06:19:34.139261\n",
      "date : 2019-02-02 00:00:00 debut_traitement : 2019-07-02 06:22:56.014549\n",
      "date : 2019-02-03 00:00:00 debut_traitement : 2019-07-02 06:25:40.148458\n",
      "date : 2019-02-04 00:00:00 debut_traitement : 2019-07-02 06:27:34.309553\n",
      "date : 2019-02-05 00:00:00 debut_traitement : 2019-07-02 06:30:25.441846\n",
      "date : 2019-02-06 00:00:00 debut_traitement : 2019-07-02 06:33:35.130442\n",
      "date : 2019-02-07 00:00:00 debut_traitement : 2019-07-02 06:37:33.809639\n",
      "date : 2019-02-08 00:00:00 debut_traitement : 2019-07-02 06:40:44.171826\n",
      "date : 2019-02-09 00:00:00 debut_traitement : 2019-07-02 06:43:32.617268\n",
      "date : 2019-02-10 00:00:00 debut_traitement : 2019-07-02 06:45:57.005695\n",
      "date : 2019-02-11 00:00:00 debut_traitement : 2019-07-02 06:47:50.821151\n",
      "date : 2019-02-12 00:00:00 debut_traitement : 2019-07-02 06:50:29.300022\n",
      "date : 2019-02-13 00:00:00 debut_traitement : 2019-07-02 06:53:16.308195\n",
      "date : 2019-01-23 00:00:00 debut_traitement : 2019-07-02 06:56:51.334580\n",
      "date : 2019-01-24 00:00:00 debut_traitement : 2019-07-02 07:08:49.900513\n",
      "date : 2019-01-25 00:00:00 debut_traitement : 2019-07-02 07:17:33.138415\n",
      "date : 2019-01-26 00:00:00 debut_traitement : 2019-07-02 07:25:17.919223\n",
      "date : 2019-01-27 00:00:00 debut_traitement : 2019-07-02 07:30:23.707606\n",
      "date : 2019-01-28 00:00:00 debut_traitement : 2019-07-02 07:32:59.046542\n",
      "date : 2019-01-29 00:00:00 debut_traitement : 2019-07-02 07:39:05.631381\n",
      "date : 2019-01-30 00:00:00 debut_traitement : 2019-07-02 07:44:47.880046\n",
      "date : 2019-01-31 00:00:00 debut_traitement : 2019-07-02 07:51:50.733111\n",
      "date : 2019-02-01 00:00:00 debut_traitement : 2019-07-02 07:55:27.353282\n",
      "date : 2019-02-02 00:00:00 debut_traitement : 2019-07-02 07:58:56.195330\n",
      "date : 2019-02-03 00:00:00 debut_traitement : 2019-07-02 08:01:48.170927\n",
      "date : 2019-02-04 00:00:00 debut_traitement : 2019-07-02 08:03:50.142559\n",
      "date : 2019-02-05 00:00:00 debut_traitement : 2019-07-02 08:06:49.960108\n",
      "date : 2019-02-06 00:00:00 debut_traitement : 2019-07-02 08:10:14.943717\n",
      "date : 2019-02-07 00:00:00 debut_traitement : 2019-07-02 08:14:36.865258\n",
      "date : 2019-02-08 00:00:00 debut_traitement : 2019-07-02 08:17:57.615450\n"
     ]
    }
   ],
   "source": [
    "%time dico_df_od_final=tc.extrapol_trajets_incomplets(dico_df_od_ok,df_passages_immat_ok,dico_corr_A63_A660,[0,15,30,45,60,90], dixco_tpsmax_corrige)"
   ]
  },
  {
   "cell_type": "code",
   "execution_count": 7,
   "metadata": {},
   "outputs": [],
   "source": [
    "tc.save_results(r'Q:\\DAIT\\TI\\DREAL33\\2018\\C17SI0073_LAPI\\Projet Rapport\\resultats',dico_df_od_final,[0,15,30,45,60,90] )"
   ]
  },
  {
   "cell_type": "code",
   "execution_count": null,
   "metadata": {},
   "outputs": [],
   "source": []
  }
 ],
 "metadata": {
  "kernelspec": {
   "display_name": "Python 3",
   "language": "python",
   "name": "python3"
  },
  "language_info": {
   "codemirror_mode": {
    "name": "ipython",
    "version": 3
   },
   "file_extension": ".py",
   "mimetype": "text/x-python",
   "name": "python",
   "nbconvert_exporter": "python",
   "pygments_lexer": "ipython3",
   "version": "3.7.0"
  }
 },
 "nbformat": 4,
 "nbformat_minor": 2
}
