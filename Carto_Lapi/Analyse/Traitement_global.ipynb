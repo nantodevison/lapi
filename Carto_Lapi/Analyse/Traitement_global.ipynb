{
 "cells": [
  {
   "cell_type": "markdown",
   "metadata": {},
   "source": [
    "# TRAITEMENT GLOBAL DES DONNEES LAPI"
   ]
  },
  {
   "cell_type": "code",
   "execution_count": 1,
   "metadata": {},
   "outputs": [],
   "source": [
    "%load_ext autoreload\n",
    "%autoreload 2\n",
    "import sys #c'est pas propre mais pour le moment pour importer mes modules perso dans le notebook je ne sais pas faire\n",
    "sys.path.append(r'C:\\Users\\martin.schoreisz\\git\\Outils\\Outils\\Martin_Perso')\n",
    "import Traitements_complets as tc"
   ]
  },
  {
   "cell_type": "code",
   "execution_count": 3,
   "metadata": {},
   "outputs": [
    {
     "name": "stdout",
     "output_type": "stream",
     "text": [
      "date : 2019-01-23 00:00:00 debut_traitement : 2019-07-01 11:03:30.240660\n",
      "date : 2019-01-24 00:00:00 debut_traitement : 2019-07-01 11:04:37.174948\n",
      "date : 2019-01-25 00:00:00 debut_traitement : 2019-07-01 11:05:43.636171\n",
      "date : 2019-01-26 00:00:00 debut_traitement : 2019-07-01 11:06:50.157079\n",
      "date : 2019-01-27 00:00:00 debut_traitement : 2019-07-01 11:07:47.496421\n",
      "date : 2019-01-28 00:00:00 debut_traitement : 2019-07-01 11:08:31.532887\n",
      "date : 2019-01-29 00:00:00 debut_traitement : 2019-07-01 11:09:51.264747\n",
      "date : 2019-01-30 00:00:00 debut_traitement : 2019-07-01 11:11:19.463108\n",
      "date : 2019-01-31 00:00:00 debut_traitement : 2019-07-01 11:12:55.886070\n",
      "date : 2019-02-01 00:00:00 debut_traitement : 2019-07-01 11:14:34.051518\n",
      "date : 2019-02-02 00:00:00 debut_traitement : 2019-07-01 11:16:21.429596\n",
      "date : 2019-02-03 00:00:00 debut_traitement : 2019-07-01 11:18:03.231833\n",
      "date : 2019-02-04 00:00:00 debut_traitement : 2019-07-01 11:19:26.632735\n",
      "date : 2019-02-05 00:00:00 debut_traitement : 2019-07-01 11:21:33.683942\n",
      "date : 2019-02-06 00:00:00 debut_traitement : 2019-07-01 11:24:08.581153\n",
      "date : 2019-02-07 00:00:00 debut_traitement : 2019-07-01 11:26:19.785890\n",
      "date : 2019-02-08 00:00:00 debut_traitement : 2019-07-01 11:28:55.483467\n",
      "date : 2019-02-09 00:00:00 debut_traitement : 2019-07-01 11:31:28.403894\n",
      "date : 2019-02-10 00:00:00 debut_traitement : 2019-07-01 11:33:47.452731\n",
      "date : 2019-02-11 00:00:00 debut_traitement : 2019-07-01 11:35:49.434522\n",
      "date : 2019-02-12 00:00:00 debut_traitement : 2019-07-01 11:38:44.442215\n",
      "date : 2019-02-13 00:00:00 debut_traitement : 2019-07-01 11:41:51.743024\n",
      "Wall time: 1h 55min 48s\n"
     ]
    }
   ],
   "source": [
    "%time df_transit_A63_redresse, df_transit_extrapole, df_passages_immat_ok, dixco_tpsmax_corrige=tc.definir_transit()"
   ]
  },
  {
   "cell_type": "code",
   "execution_count": 4,
   "metadata": {},
   "outputs": [
    {
     "name": "stdout",
     "output_type": "stream",
     "text": [
      "Wall time: 53.1 s\n"
     ]
    }
   ],
   "source": [
    "%time dico_df_transit, dico_df_od_ok=tc.appliquer_marge([0,15],df_transit_A63_redresse, df_transit_extrapole)"
   ]
  },
  {
   "cell_type": "code",
   "execution_count": 5,
   "metadata": {},
   "outputs": [
    {
     "name": "stdout",
     "output_type": "stream",
     "text": [
      "Wall time: 1h 40min 26s\n"
     ]
    }
   ],
   "source": [
    "%time dico_corr_A63_A660=tc.correction_A660(dico_df_od_ok,df_passages_immat_ok,[0,15])"
   ]
  },
  {
   "cell_type": "code",
   "execution_count": 6,
   "metadata": {},
   "outputs": [
    {
     "name": "stdout",
     "output_type": "stream",
     "text": [
      "date : 2019-01-23 00:00:00 debut_traitement : 2019-07-01 14:04:01.346637\n",
      "date : 2019-01-24 00:00:00 debut_traitement : 2019-07-01 14:15:31.715113\n",
      "date : 2019-01-25 00:00:00 debut_traitement : 2019-07-01 14:24:02.598035\n",
      "date : 2019-01-26 00:00:00 debut_traitement : 2019-07-01 14:30:48.097736\n",
      "date : 2019-01-27 00:00:00 debut_traitement : 2019-07-01 14:35:49.295072\n",
      "date : 2019-01-28 00:00:00 debut_traitement : 2019-07-01 14:39:01.959490\n",
      "date : 2019-01-29 00:00:00 debut_traitement : 2019-07-01 14:47:09.365601\n",
      "date : 2019-01-30 00:00:00 debut_traitement : 2019-07-01 14:54:47.680587\n",
      "date : 2019-01-31 00:00:00 debut_traitement : 2019-07-01 15:03:40.004897\n",
      "date : 2019-02-01 00:00:00 debut_traitement : 2019-07-01 15:08:49.491294\n",
      "date : 2019-02-02 00:00:00 debut_traitement : 2019-07-01 15:13:34.329064\n",
      "date : 2019-02-03 00:00:00 debut_traitement : 2019-07-01 15:17:34.279333\n",
      "date : 2019-02-04 00:00:00 debut_traitement : 2019-07-01 15:20:15.861744\n",
      "date : 2019-02-05 00:00:00 debut_traitement : 2019-07-01 15:24:13.091904\n",
      "date : 2019-02-06 00:00:00 debut_traitement : 2019-07-01 15:28:45.968166\n",
      "date : 2019-02-07 00:00:00 debut_traitement : 2019-07-01 15:34:14.553729\n",
      "date : 2019-02-08 00:00:00 debut_traitement : 2019-07-01 15:38:50.803968\n",
      "date : 2019-02-09 00:00:00 debut_traitement : 2019-07-01 15:42:49.203306\n",
      "date : 2019-02-10 00:00:00 debut_traitement : 2019-07-01 15:46:19.841644\n",
      "date : 2019-02-11 00:00:00 debut_traitement : 2019-07-01 15:49:02.397813\n",
      "date : 2019-02-12 00:00:00 debut_traitement : 2019-07-01 15:51:41.468446\n",
      "date : 2019-02-13 00:00:00 debut_traitement : 2019-07-01 15:54:38.121718\n",
      "Wall time: 2h 3min 40s\n"
     ]
    }
   ],
   "source": [
    "%time dico_df_od_final=tc.extrapol_trajets_incomplets(dico_df_od_ok,df_passages_immat_ok,dico_corr_A63_A660,[0], dixco_tpsmax_corrige)"
   ]
  },
  {
   "cell_type": "code",
   "execution_count": 7,
   "metadata": {},
   "outputs": [],
   "source": [
    "tc.save_results(r'Q:\\DAIT\\TI\\DREAL33\\2018\\C17SI0073_LAPI\\Projet Rapport\\resultats',dico_df_od_final,[0,15,30,60,90] )"
   ]
  },
  {
   "cell_type": "code",
   "execution_count": null,
   "metadata": {},
   "outputs": [],
   "source": []
  }
 ],
 "metadata": {
  "kernelspec": {
   "display_name": "Python 3",
   "language": "python",
   "name": "python3"
  },
  "language_info": {
   "codemirror_mode": {
    "name": "ipython",
    "version": 3
   },
   "file_extension": ".py",
   "mimetype": "text/x-python",
   "name": "python",
   "nbconvert_exporter": "python",
   "pygments_lexer": "ipython3",
   "version": "3.7.0"
  }
 },
 "nbformat": 4,
 "nbformat_minor": 2
}
