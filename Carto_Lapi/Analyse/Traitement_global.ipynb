{
 "cells": [
  {
   "cell_type": "markdown",
   "metadata": {},
   "source": [
    "# TRAITEMENT GLOBAL DES DONNEES LAPI"
   ]
  },
  {
   "cell_type": "code",
   "execution_count": 74,
   "metadata": {},
   "outputs": [
    {
     "name": "stdout",
     "output_type": "stream",
     "text": [
      "The autoreload extension is already loaded. To reload it, use:\n",
      "  %reload_ext autoreload\n"
     ]
    }
   ],
   "source": [
    "%load_ext autoreload\n",
    "%autoreload 2\n",
    "import pandas as pd\n",
    "import sys #c'est pas propre mais pour le moment pour importer mes modules perso dans le notebook je ne sais pas faire\n",
    "sys.path.append(r'C:\\Users\\martin.schoreisz\\git\\Outils\\Outils\\Martin_Perso')\n",
    "import Traitements_complets as tc\n",
    "import Resultats as r"
   ]
  },
  {
   "cell_type": "code",
   "execution_count": 3,
   "metadata": {},
   "outputs": [
    {
     "name": "stdout",
     "output_type": "stream",
     "text": [
      "date : 2019-01-23 00:00:00 debut_traitement : 2019-07-01 11:03:30.240660\n",
      "date : 2019-01-24 00:00:00 debut_traitement : 2019-07-01 11:04:37.174948\n",
      "date : 2019-01-25 00:00:00 debut_traitement : 2019-07-01 11:05:43.636171\n",
      "date : 2019-01-26 00:00:00 debut_traitement : 2019-07-01 11:06:50.157079\n",
      "date : 2019-01-27 00:00:00 debut_traitement : 2019-07-01 11:07:47.496421\n",
      "date : 2019-01-28 00:00:00 debut_traitement : 2019-07-01 11:08:31.532887\n",
      "date : 2019-01-29 00:00:00 debut_traitement : 2019-07-01 11:09:51.264747\n",
      "date : 2019-01-30 00:00:00 debut_traitement : 2019-07-01 11:11:19.463108\n",
      "date : 2019-01-31 00:00:00 debut_traitement : 2019-07-01 11:12:55.886070\n",
      "date : 2019-02-01 00:00:00 debut_traitement : 2019-07-01 11:14:34.051518\n",
      "date : 2019-02-02 00:00:00 debut_traitement : 2019-07-01 11:16:21.429596\n",
      "date : 2019-02-03 00:00:00 debut_traitement : 2019-07-01 11:18:03.231833\n",
      "date : 2019-02-04 00:00:00 debut_traitement : 2019-07-01 11:19:26.632735\n",
      "date : 2019-02-05 00:00:00 debut_traitement : 2019-07-01 11:21:33.683942\n",
      "date : 2019-02-06 00:00:00 debut_traitement : 2019-07-01 11:24:08.581153\n",
      "date : 2019-02-07 00:00:00 debut_traitement : 2019-07-01 11:26:19.785890\n",
      "date : 2019-02-08 00:00:00 debut_traitement : 2019-07-01 11:28:55.483467\n",
      "date : 2019-02-09 00:00:00 debut_traitement : 2019-07-01 11:31:28.403894\n",
      "date : 2019-02-10 00:00:00 debut_traitement : 2019-07-01 11:33:47.452731\n",
      "date : 2019-02-11 00:00:00 debut_traitement : 2019-07-01 11:35:49.434522\n",
      "date : 2019-02-12 00:00:00 debut_traitement : 2019-07-01 11:38:44.442215\n",
      "date : 2019-02-13 00:00:00 debut_traitement : 2019-07-01 11:41:51.743024\n",
      "Wall time: 1h 55min 48s\n"
     ]
    }
   ],
   "source": [
    "%time df_transit_A63_redresse, df_transit_extrapole, df_passages_immat_ok, dixco_tpsmax_corrige=tc.definir_transit()"
   ]
  },
  {
   "cell_type": "code",
   "execution_count": 4,
   "metadata": {},
   "outputs": [
    {
     "name": "stdout",
     "output_type": "stream",
     "text": [
      "Wall time: 53.1 s\n"
     ]
    }
   ],
   "source": [
    "%time dico_df_transit, dico_df_od_ok=tc.appliquer_marge([0,15,30,45,60,90],df_transit_A63_redresse, df_transit_extrapole)"
   ]
  },
  {
   "cell_type": "code",
   "execution_count": 5,
   "metadata": {},
   "outputs": [
    {
     "name": "stdout",
     "output_type": "stream",
     "text": [
      "Wall time: 1h 40min 26s\n"
     ]
    }
   ],
   "source": [
    "%time dico_corr_A63_A660=tc.correction_A660(dico_df_od_ok,df_passages_immat_ok,[0,15,30,45,60,90])"
   ]
  },
  {
   "cell_type": "code",
   "execution_count": 6,
   "metadata": {},
   "outputs": [
    {
     "name": "stdout",
     "output_type": "stream",
     "text": [
      "date : 2019-01-23 00:00:00 debut_traitement : 2019-07-01 14:04:01.346637\n",
      "date : 2019-01-24 00:00:00 debut_traitement : 2019-07-01 14:15:31.715113\n",
      "date : 2019-01-25 00:00:00 debut_traitement : 2019-07-01 14:24:02.598035\n",
      "date : 2019-01-26 00:00:00 debut_traitement : 2019-07-01 14:30:48.097736\n",
      "date : 2019-01-27 00:00:00 debut_traitement : 2019-07-01 14:35:49.295072\n",
      "date : 2019-01-28 00:00:00 debut_traitement : 2019-07-01 14:39:01.959490\n",
      "date : 2019-01-29 00:00:00 debut_traitement : 2019-07-01 14:47:09.365601\n",
      "date : 2019-01-30 00:00:00 debut_traitement : 2019-07-01 14:54:47.680587\n",
      "date : 2019-01-31 00:00:00 debut_traitement : 2019-07-01 15:03:40.004897\n",
      "date : 2019-02-01 00:00:00 debut_traitement : 2019-07-01 15:08:49.491294\n",
      "date : 2019-02-02 00:00:00 debut_traitement : 2019-07-01 15:13:34.329064\n",
      "date : 2019-02-03 00:00:00 debut_traitement : 2019-07-01 15:17:34.279333\n",
      "date : 2019-02-04 00:00:00 debut_traitement : 2019-07-01 15:20:15.861744\n",
      "date : 2019-02-05 00:00:00 debut_traitement : 2019-07-01 15:24:13.091904\n",
      "date : 2019-02-06 00:00:00 debut_traitement : 2019-07-01 15:28:45.968166\n",
      "date : 2019-02-07 00:00:00 debut_traitement : 2019-07-01 15:34:14.553729\n",
      "date : 2019-02-08 00:00:00 debut_traitement : 2019-07-01 15:38:50.803968\n",
      "date : 2019-02-09 00:00:00 debut_traitement : 2019-07-01 15:42:49.203306\n",
      "date : 2019-02-10 00:00:00 debut_traitement : 2019-07-01 15:46:19.841644\n",
      "date : 2019-02-11 00:00:00 debut_traitement : 2019-07-01 15:49:02.397813\n",
      "date : 2019-02-12 00:00:00 debut_traitement : 2019-07-01 15:51:41.468446\n",
      "date : 2019-02-13 00:00:00 debut_traitement : 2019-07-01 15:54:38.121718\n",
      "Wall time: 2h 3min 40s\n"
     ]
    }
   ],
   "source": [
    "%time dico_df_od_final=tc.extrapol_trajets_incomplets(dico_df_od_ok,df_passages_immat_ok,dico_corr_A63_A660,[0,15,30,45,60,90], dixco_tpsmax_corrige)"
   ]
  },
  {
   "cell_type": "code",
   "execution_count": 7,
   "metadata": {},
   "outputs": [],
   "source": [
    "tc.save_results(r'Q:\\DAIT\\TI\\DREAL33\\2018\\C17SI0073_LAPI\\Projet Rapport\\resultats',dico_df_od_final,[0,15,30,45,60,90] )"
   ]
  },
  {
   "cell_type": "code",
   "execution_count": 12,
   "metadata": {},
   "outputs": [
    {
     "data": {
      "text/plain": [
       "0    2019-01-22 22:35:08\n",
       "1    2019-01-22 22:36:03\n",
       "2    2019-01-22 22:36:08\n",
       "3    2019-01-22 22:37:55\n",
       "4    2019-01-22 22:37:59\n",
       "Name: created, dtype: object"
      ]
     },
     "execution_count": 12,
     "metadata": {},
     "output_type": "execute_result"
    }
   ],
   "source": [
    "df_passages_immat_ok.head(5).reset_index().created.dt.strftime('%Y-%m-%dT%h:%m:%s')"
   ]
  },
  {
   "cell_type": "code",
   "execution_count": 58,
   "metadata": {},
   "outputs": [],
   "source": [
    "if df_passages_immat_ok.index.dtype=='<M8[ns]' : \n",
    "    fichier_export=df_passages_immat_ok.head(5).reset_index().copy()"
   ]
  },
  {
   "cell_type": "code",
   "execution_count": 62,
   "metadata": {},
   "outputs": [
    {
     "data": {
      "text/plain": [
       "created            object\n",
       "index               int64\n",
       "camera_id           int64\n",
       "immat              object\n",
       "fiability           int64\n",
       "l                 float64\n",
       "state              object\n",
       "id                  int32\n",
       "plaque_ouverte     object\n",
       "chiffree           object\n",
       "plaque_valide        bool\n",
       "dtype: object"
      ]
     },
     "execution_count": 62,
     "metadata": {},
     "output_type": "execute_result"
    }
   ],
   "source": [
    "fichier_export.dtypes"
   ]
  },
  {
   "cell_type": "code",
   "execution_count": 61,
   "metadata": {},
   "outputs": [],
   "source": [
    "list_attr_datetime=[attr for attr in fichier_export.columns if fichier_export[attr].dtypes =='<M8[ns]']\n",
    "for attr in list_attr_datetime : \n",
    "    fichier_export[attr]=fichier_export[attr].dt.strftime('%Y-%m-%dT%h:%m:%s')"
   ]
  },
  {
   "cell_type": "code",
   "execution_count": 41,
   "metadata": {},
   "outputs": [],
   "source": [
    "export_test.created=export_test.created.dt.strftime('%Y-%m-%dT%h:%m:%s')"
   ]
  },
  {
   "cell_type": "code",
   "execution_count": 85,
   "metadata": {},
   "outputs": [
    {
     "name": "stderr",
     "output_type": "stream",
     "text": [
      "c:\\users\\martin.schoreisz\\appdata\\local\\programs\\python\\python37\\lib\\site-packages\\ipykernel_launcher.py:3: SettingWithCopyWarning: \n",
      "A value is trying to be set on a copy of a slice from a DataFrame.\n",
      "Try using .loc[row_indexer,col_indexer] = value instead\n",
      "\n",
      "See the caveats in the documentation: http://pandas.pydata.org/pandas-docs/stable/indexing.html#indexing-view-versus-copy\n",
      "  This is separate from the ipykernel package so we can avoid doing imports until\n"
     ]
    }
   ],
   "source": [
    "list_attr_datetime=[attr for attr in test_dico.columns if test_dico[attr].dtypes in ['<m8[ns]','<M8[ns]']]\n",
    "for attr in list_attr_datetime : \n",
    "    test_dico[attr]=test_dico[attr].apply(lambda x : str(x))"
   ]
  },
  {
   "cell_type": "code",
   "execution_count": 80,
   "metadata": {},
   "outputs": [],
   "source": [
    "test_dico=dico_df_od_final['df_od_final_marge0'].head(5)"
   ]
  },
  {
   "cell_type": "code",
   "execution_count": 83,
   "metadata": {},
   "outputs": [
    {
     "data": {
      "text/plain": [
       "['date_cam_1',\n",
       " 'date_cam_2',\n",
       " 'tps_parcours',\n",
       " 'date',\n",
       " 'temps',\n",
       " 'tps_parcours_theoriq',\n",
       " 'temps_filtre']"
      ]
     },
     "execution_count": 83,
     "metadata": {},
     "output_type": "execute_result"
    }
   ],
   "source": [
    "list_attr_datetime"
   ]
  },
  {
   "cell_type": "code",
   "execution_count": null,
   "metadata": {},
   "outputs": [],
   "source": [
    "dico_df_od_final['df_od_final_marge0'].head(5).apply(lambda x : x['tps_parcours_theoriq']),axis=1)"
   ]
  },
  {
   "cell_type": "code",
   "execution_count": 88,
   "metadata": {},
   "outputs": [],
   "source": [
    "r.save_donnees(test_dico,r'Q:\\DAIT\\TI\\DREAL33\\2018\\C17SI0073_LAPI\\Traitements\\python\\donnees_sources\\test.json')"
   ]
  },
  {
   "cell_type": "code",
   "execution_count": 77,
   "metadata": {},
   "outputs": [
    {
     "name": "stdout",
     "output_type": "stream",
     "text": [
      "Object `pd.to_json` not found.\n"
     ]
    }
   ],
   "source": [
    "pd.to_json??"
   ]
  },
  {
   "cell_type": "code",
   "execution_count": 90,
   "metadata": {},
   "outputs": [],
   "source": [
    "toto=pd.read_json(r'Q:\\DAIT\\TI\\DREAL33\\2018\\C17SI0073_LAPI\\Traitements\\python\\donnees_sources\\test.json',orient='index')"
   ]
  },
  {
   "cell_type": "code",
   "execution_count": 96,
   "metadata": {},
   "outputs": [],
   "source": [
    "testr.ouvrir_donnees(r'Q:\\DAIT\\TI\\DREAL33\\2018\\C17SI0073_LAPI\\Traitements\\python\\donnees_sources\\test.json')"
   ]
  },
  {
   "cell_type": "code",
   "execution_count": 94,
   "metadata": {},
   "outputs": [],
   "source": [
    "for attr in ['date_cam_1','date_cam_2','tps_parcours','date',\n",
    " 'temps','tps_parcours_theoriq','temps_filtre','created'] : \n",
    "    if attr in toto.columns : \n",
    "        if attr in ['date_cam_1','date_cam_2','date','created'] : \n",
    "            toto[attr]=toto[attr].apply(lambda x : pd.to_datetime(x))\n",
    "        else :\n",
    "            toto[attr]=toto[attr].apply(lambda x : pd.Timedelta(x))\n",
    "            "
   ]
  },
  {
   "cell_type": "code",
   "execution_count": 95,
   "metadata": {},
   "outputs": [
    {
     "data": {
      "text/plain": [
       "cameras                          object\n",
       "chiffree                         object\n",
       "correction_o_d                    int64\n",
       "correction_o_d_type              object\n",
       "date                     datetime64[ns]\n",
       "date_cam_1               datetime64[ns]\n",
       "date_cam_2               datetime64[ns]\n",
       "destination                      object\n",
       "filtre_tps                        int64\n",
       "id                                int64\n",
       "immat                            object\n",
       "l                                 int64\n",
       "o_d                              object\n",
       "origine                          object\n",
       "period                           object\n",
       "plaque_ouverte                   object\n",
       "plaque_valide                     int64\n",
       "state                            object\n",
       "temps                   timedelta64[ns]\n",
       "temps_filtre            timedelta64[ns]\n",
       "tps_parcours            timedelta64[ns]\n",
       "tps_parcours_theoriq    timedelta64[ns]\n",
       "type                             object\n",
       "dtype: object"
      ]
     },
     "execution_count": 95,
     "metadata": {},
     "output_type": "execute_result"
    }
   ],
   "source": [
    "toto.dtypes"
   ]
  },
  {
   "cell_type": "code",
   "execution_count": null,
   "metadata": {},
   "outputs": [],
   "source": []
  }
 ],
 "metadata": {
  "kernelspec": {
   "display_name": "Python 3",
   "language": "python",
   "name": "python3"
  },
  "language_info": {
   "codemirror_mode": {
    "name": "ipython",
    "version": 3
   },
   "file_extension": ".py",
   "mimetype": "text/x-python",
   "name": "python",
   "nbconvert_exporter": "python",
   "pygments_lexer": "ipython3",
   "version": "3.7.0"
  }
 },
 "nbformat": 4,
 "nbformat_minor": 2
}
