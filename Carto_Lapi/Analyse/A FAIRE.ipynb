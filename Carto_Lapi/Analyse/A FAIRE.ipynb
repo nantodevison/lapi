{
 "cells": [
  {
   "cell_type": "markdown",
   "metadata": {},
   "source": [
    "TO DO  :\n",
    "- actuellement je ne limite plus les données (aux temps de parcours inférieur 90 percentile ou autre). il faudra le refaire. le mieux serait de pouvoir limiter à des intervalles  : inferieur au 90 eme percentile et sup à X heures pour ceux qui ont dormi entre temp\n",
    "- Il faut impérativement trouver le moyen de limiter les données. la possibilité d'exporter les graphs des instances de trajet_direct peut aider à prendre une décision sur le choix de la limitation par percentile, cluster ou autre\n",
    "- dans le cas du choix par cluster, penser à la soution si le nb de cluster valide = 0 (i.e ClusterError)\n",
    "- passer des infos à la pas de plerror, afin de pouvoir connaitre les cameras et temps associés à ce manque de données\n",
    "- faire attention aux bornes de temps inf et sup, recouvrement possibles\n",
    "- pour le moment je limite les données à 48h continue pourchercher les échanges, on pourrait aussi faire qqch de glissant\n",
    "- caracterisation de nb de vehicules pris en trajet dirrect sur un trajet indirect. ca va bien se faire car la classe df_tps_parcours entre 2 cam ne prend bien que la valeur du vehicule passé par l'un puis l'autre, sans rien entre les 2. comme on l'a pour le trajet directe et le cumul des deux trajet format l'indirect, et que la classe a des attribut de nb vehicules, ça devrait aller\n",
    "- mettre un filtre sur les données remontées par l'identification des pl en trajets directs, suite au pl en trajet indirects : les données ed temsp de trajets indirects peuvent permettre de filtrer les donnée en trajet directs selon le temps de parcours\n",
    "- faire un json avec les trajets possibles et importer, plutot que d'avoir la création d'une dataframe enorme en code (FAIT)"
   ]
  },
  {
   "cell_type": "code",
   "execution_count": null,
   "metadata": {},
   "outputs": [],
   "source": []
  }
 ],
 "metadata": {
  "kernelspec": {
   "display_name": "Python 3",
   "language": "python",
   "name": "python3"
  },
  "language_info": {
   "codemirror_mode": {
    "name": "ipython",
    "version": 3
   },
   "file_extension": ".py",
   "mimetype": "text/x-python",
   "name": "python",
   "nbconvert_exporter": "python",
   "pygments_lexer": "ipython3",
   "version": "3.7.0"
  }
 },
 "nbformat": 4,
 "nbformat_minor": 2
}
