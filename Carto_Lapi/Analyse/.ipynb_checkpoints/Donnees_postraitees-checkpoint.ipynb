{
 "cells": [
  {
   "cell_type": "markdown",
   "metadata": {},
   "source": [
    "# Notebook de test des données lapi post-traitees"
   ]
  },
  {
   "cell_type": "code",
   "execution_count": 2,
   "metadata": {},
   "outputs": [
    {
     "name": "stdout",
     "output_type": "stream",
     "text": [
      "The autoreload extension is already loaded. To reload it, use:\n",
      "  %reload_ext autoreload\n"
     ]
    }
   ],
   "source": [
    "%load_ext autoreload\n",
    "%autoreload 2\n",
    "import sys #c'est pas propre mais pour le moment pour importer mes modules perso dans le notebook je ne sais pas faire\n",
    "sys.path.append(r'C:\\Users\\martin\\git\\Outils\\Outils\\Martin_Perso')\n",
    "import donnees_posttraitees as t\n",
    "import pandas as pd\n",
    "import geopandas as gpd\n",
    "import numpy as np\n",
    "import altair as alt\n",
    "import datetime as dt\n",
    "pd.set_option('display.max_colwidth', 1000)\n",
    "import os, math\n",
    "from sklearn.cluster import DBSCAN"
   ]
  },
  {
   "cell_type": "markdown",
   "metadata": {},
   "source": [
    "# 1. import des données, traitement de mise en forme\n",
    "## 1.1 Import\n",
    "Les données sont importées sur la période du 24/01/19 au 23/02/19, sur laquelle il n'y a pas de manque de données à priori"
   ]
  },
  {
   "cell_type": "code",
   "execution_count": null,
   "metadata": {},
   "outputs": [],
   "source": [
    "df_passages, df_plaques, df_immat=t.ouvrir_fichier_lapi_final('2019-01-24 00:00:00','2019-02-13 23:59:59')"
   ]
  },
  {
   "cell_type": "markdown",
   "metadata": {},
   "source": [
    "## 1.2. Suppression des doublons"
   ]
  },
  {
   "cell_type": "code",
   "execution_count": null,
   "metadata": {},
   "outputs": [],
   "source": [
    "df_passages=t.supprimer_doublons(df_passages)"
   ]
  },
  {
   "cell_type": "markdown",
   "metadata": {},
   "source": [
    "## 1.2 Ajout de l'attribut de différenciation VL / PL"
   ]
  },
  {
   "cell_type": "code",
   "execution_count": 3,
   "metadata": {},
   "outputs": [
    {
     "ename": "NameError",
     "evalue": "name 'df_passages' is not defined",
     "output_type": "error",
     "traceback": [
      "\u001b[1;31m---------------------------------------------------------------------------\u001b[0m",
      "\u001b[1;31mNameError\u001b[0m                                 Traceback (most recent call last)",
      "\u001b[1;32m<ipython-input-3-d9f36f202804>\u001b[0m in \u001b[0;36m<module>\u001b[1;34m\u001b[0m\n\u001b[1;32m----> 1\u001b[1;33m \u001b[0mdf_passages\u001b[0m\u001b[1;33m\u001b[0m\u001b[1;33m\u001b[0m\u001b[0m\n\u001b[0m",
      "\u001b[1;31mNameError\u001b[0m: name 'df_passages' is not defined"
     ]
    }
   ],
   "source": [
    "df_passages2=t.affecter_type(df_passages,df_immat)"
   ]
  },
  {
   "cell_type": "code",
   "execution_count": 13,
   "metadata": {},
   "outputs": [
    {
     "data": {
      "text/html": [
       "<div>\n",
       "<style scoped>\n",
       "    .dataframe tbody tr th:only-of-type {\n",
       "        vertical-align: middle;\n",
       "    }\n",
       "\n",
       "    .dataframe tbody tr th {\n",
       "        vertical-align: top;\n",
       "    }\n",
       "\n",
       "    .dataframe thead th {\n",
       "        text-align: right;\n",
       "    }\n",
       "</style>\n",
       "<table border=\"1\" class=\"dataframe\">\n",
       "  <thead>\n",
       "    <tr style=\"text-align: right;\">\n",
       "      <th></th>\n",
       "      <th>camera_id</th>\n",
       "      <th>created</th>\n",
       "      <th>immat</th>\n",
       "      <th>fiability</th>\n",
       "      <th>l</th>\n",
       "      <th>state</th>\n",
       "    </tr>\n",
       "  </thead>\n",
       "  <tbody>\n",
       "    <tr>\n",
       "      <th>0</th>\n",
       "      <td>1</td>\n",
       "      <td>2019-01-24</td>\n",
       "      <td>24688</td>\n",
       "      <td>24688</td>\n",
       "      <td>24688</td>\n",
       "      <td>24688</td>\n",
       "    </tr>\n",
       "    <tr>\n",
       "      <th>1</th>\n",
       "      <td>1</td>\n",
       "      <td>2019-01-25</td>\n",
       "      <td>26892</td>\n",
       "      <td>26892</td>\n",
       "      <td>26892</td>\n",
       "      <td>26892</td>\n",
       "    </tr>\n",
       "    <tr>\n",
       "      <th>2</th>\n",
       "      <td>1</td>\n",
       "      <td>2019-01-26</td>\n",
       "      <td>20835</td>\n",
       "      <td>20835</td>\n",
       "      <td>20835</td>\n",
       "      <td>20835</td>\n",
       "    </tr>\n",
       "    <tr>\n",
       "      <th>3</th>\n",
       "      <td>1</td>\n",
       "      <td>2019-01-27</td>\n",
       "      <td>14591</td>\n",
       "      <td>14591</td>\n",
       "      <td>14591</td>\n",
       "      <td>14591</td>\n",
       "    </tr>\n",
       "    <tr>\n",
       "      <th>4</th>\n",
       "      <td>1</td>\n",
       "      <td>2019-01-28</td>\n",
       "      <td>25450</td>\n",
       "      <td>25450</td>\n",
       "      <td>25450</td>\n",
       "      <td>25450</td>\n",
       "    </tr>\n",
       "  </tbody>\n",
       "</table>\n",
       "</div>"
      ],
      "text/plain": [
       "   camera_id    created  immat  fiability      l  state\n",
       "0          1 2019-01-24  24688      24688  24688  24688\n",
       "1          1 2019-01-25  26892      26892  26892  26892\n",
       "2          1 2019-01-26  20835      20835  20835  20835\n",
       "3          1 2019-01-27  14591      14591  14591  14591\n",
       "4          1 2019-01-28  25450      25450  25450  25450"
      ]
     },
     "execution_count": 13,
     "metadata": {},
     "output_type": "execute_result"
    }
   ],
   "source": [
    "nb_passage_j_cam.head(5)"
   ]
  },
  {
   "cell_type": "code",
   "execution_count": 41,
   "metadata": {},
   "outputs": [],
   "source": [
    "graph_filtre_tps = alt.Chart(nb_passage_j_cam).mark_bar(size=20).encode(\n",
    "                                x='created',\n",
    "                                y='immat').properties(width=800).facet(row='camera_id')"
   ]
  },
  {
   "cell_type": "code",
   "execution_count": 42,
   "metadata": {},
   "outputs": [
    {
     "data": {
      "application/vnd.vegalite.v2+json": {
       "$schema": "https://vega.github.io/schema/vega-lite/v2.6.0.json",
       "config": {
        "view": {
         "height": 300,
         "width": 400
        }
       },
       "data": {
        "name": "data-c4a219d4a924df1d8423d23f4efd6dfb"
       },
       "datasets": {
        "data-c4a219d4a924df1d8423d23f4efd6dfb": [
         {
          "camera_id": 1,
          "created": "2019-01-24T00:00:00",
          "fiability": 24688,
          "immat": 24688,
          "l": 24688,
          "state": 24688
         },
         {
          "camera_id": 1,
          "created": "2019-01-25T00:00:00",
          "fiability": 26892,
          "immat": 26892,
          "l": 26892,
          "state": 26892
         },
         {
          "camera_id": 1,
          "created": "2019-01-26T00:00:00",
          "fiability": 20835,
          "immat": 20835,
          "l": 20835,
          "state": 20835
         },
         {
          "camera_id": 1,
          "created": "2019-01-27T00:00:00",
          "fiability": 14591,
          "immat": 14591,
          "l": 14591,
          "state": 14591
         },
         {
          "camera_id": 1,
          "created": "2019-01-28T00:00:00",
          "fiability": 25450,
          "immat": 25450,
          "l": 25450,
          "state": 25450
         },
         {
          "camera_id": 1,
          "created": "2019-01-29T00:00:00",
          "fiability": 18732,
          "immat": 18732,
          "l": 18732,
          "state": 18732
         },
         {
          "camera_id": 1,
          "created": "2019-01-30T00:00:00",
          "fiability": 23970,
          "immat": 23970,
          "l": 23970,
          "state": 23970
         },
         {
          "camera_id": 1,
          "created": "2019-01-31T00:00:00",
          "fiability": 23410,
          "immat": 23410,
          "l": 23410,
          "state": 23410
         },
         {
          "camera_id": 1,
          "created": "2019-02-01T00:00:00",
          "fiability": 25074,
          "immat": 25074,
          "l": 25074,
          "state": 25074
         },
         {
          "camera_id": 1,
          "created": "2019-02-02T00:00:00",
          "fiability": 21307,
          "immat": 21307,
          "l": 21307,
          "state": 21307
         },
         {
          "camera_id": 1,
          "created": "2019-02-03T00:00:00",
          "fiability": 16414,
          "immat": 16414,
          "l": 16414,
          "state": 16414
         },
         {
          "camera_id": 1,
          "created": "2019-02-04T00:00:00",
          "fiability": 22503,
          "immat": 22503,
          "l": 22503,
          "state": 22503
         },
         {
          "camera_id": 1,
          "created": "2019-02-05T00:00:00",
          "fiability": 26369,
          "immat": 26369,
          "l": 26369,
          "state": 26369
         },
         {
          "camera_id": 1,
          "created": "2019-02-06T00:00:00",
          "fiability": 28454,
          "immat": 28454,
          "l": 28454,
          "state": 28454
         },
         {
          "camera_id": 1,
          "created": "2019-02-07T00:00:00",
          "fiability": 29207,
          "immat": 29207,
          "l": 29207,
          "state": 29207
         },
         {
          "camera_id": 1,
          "created": "2019-02-08T00:00:00",
          "fiability": 29389,
          "immat": 29389,
          "l": 29389,
          "state": 29389
         },
         {
          "camera_id": 1,
          "created": "2019-02-09T00:00:00",
          "fiability": 26841,
          "immat": 26841,
          "l": 26841,
          "state": 26841
         },
         {
          "camera_id": 1,
          "created": "2019-02-10T00:00:00",
          "fiability": 18131,
          "immat": 18131,
          "l": 18131,
          "state": 18131
         },
         {
          "camera_id": 1,
          "created": "2019-02-11T00:00:00",
          "fiability": 28215,
          "immat": 28215,
          "l": 28215,
          "state": 28215
         },
         {
          "camera_id": 1,
          "created": "2019-02-12T00:00:00",
          "fiability": 26877,
          "immat": 26877,
          "l": 26877,
          "state": 26877
         },
         {
          "camera_id": 1,
          "created": "2019-02-13T00:00:00",
          "fiability": 27285,
          "immat": 27285,
          "l": 27285,
          "state": 27285
         },
         {
          "camera_id": 2,
          "created": "2019-01-24T00:00:00",
          "fiability": 25000,
          "immat": 25000,
          "l": 25000,
          "state": 25000
         },
         {
          "camera_id": 2,
          "created": "2019-01-25T00:00:00",
          "fiability": 28702,
          "immat": 28702,
          "l": 28702,
          "state": 28702
         },
         {
          "camera_id": 2,
          "created": "2019-01-26T00:00:00",
          "fiability": 27109,
          "immat": 27109,
          "l": 27109,
          "state": 27109
         },
         {
          "camera_id": 2,
          "created": "2019-01-27T00:00:00",
          "fiability": 17383,
          "immat": 17383,
          "l": 17383,
          "state": 17383
         },
         {
          "camera_id": 2,
          "created": "2019-01-28T00:00:00",
          "fiability": 26937,
          "immat": 26937,
          "l": 26937,
          "state": 26937
         },
         {
          "camera_id": 2,
          "created": "2019-01-29T00:00:00",
          "fiability": 25199,
          "immat": 25199,
          "l": 25199,
          "state": 25199
         },
         {
          "camera_id": 2,
          "created": "2019-01-30T00:00:00",
          "fiability": 25322,
          "immat": 25322,
          "l": 25322,
          "state": 25322
         },
         {
          "camera_id": 2,
          "created": "2019-01-31T00:00:00",
          "fiability": 29266,
          "immat": 29266,
          "l": 29266,
          "state": 29266
         },
         {
          "camera_id": 2,
          "created": "2019-02-01T00:00:00",
          "fiability": 28593,
          "immat": 28593,
          "l": 28593,
          "state": 28593
         },
         {
          "camera_id": 2,
          "created": "2019-02-02T00:00:00",
          "fiability": 21693,
          "immat": 21693,
          "l": 21693,
          "state": 21693
         },
         {
          "camera_id": 2,
          "created": "2019-02-03T00:00:00",
          "fiability": 18118,
          "immat": 18118,
          "l": 18118,
          "state": 18118
         },
         {
          "camera_id": 2,
          "created": "2019-02-04T00:00:00",
          "fiability": 25301,
          "immat": 25301,
          "l": 25301,
          "state": 25301
         },
         {
          "camera_id": 2,
          "created": "2019-02-05T00:00:00",
          "fiability": 29803,
          "immat": 29803,
          "l": 29803,
          "state": 29803
         },
         {
          "camera_id": 2,
          "created": "2019-02-06T00:00:00",
          "fiability": 31392,
          "immat": 31392,
          "l": 31392,
          "state": 31392
         },
         {
          "camera_id": 2,
          "created": "2019-02-07T00:00:00",
          "fiability": 32406,
          "immat": 32406,
          "l": 32406,
          "state": 32406
         },
         {
          "camera_id": 2,
          "created": "2019-02-08T00:00:00",
          "fiability": 33285,
          "immat": 33285,
          "l": 33285,
          "state": 33285
         },
         {
          "camera_id": 2,
          "created": "2019-02-09T00:00:00",
          "fiability": 27612,
          "immat": 27612,
          "l": 27612,
          "state": 27612
         },
         {
          "camera_id": 2,
          "created": "2019-02-10T00:00:00",
          "fiability": 18843,
          "immat": 18843,
          "l": 18843,
          "state": 18843
         },
         {
          "camera_id": 2,
          "created": "2019-02-11T00:00:00",
          "fiability": 29389,
          "immat": 29389,
          "l": 29389,
          "state": 29389
         },
         {
          "camera_id": 2,
          "created": "2019-02-12T00:00:00",
          "fiability": 31096,
          "immat": 31096,
          "l": 31096,
          "state": 31096
         },
         {
          "camera_id": 2,
          "created": "2019-02-13T00:00:00",
          "fiability": 30999,
          "immat": 30999,
          "l": 30999,
          "state": 30999
         },
         {
          "camera_id": 3,
          "created": "2019-01-24T00:00:00",
          "fiability": 40805,
          "immat": 40805,
          "l": 40805,
          "state": 40805
         },
         {
          "camera_id": 3,
          "created": "2019-01-25T00:00:00",
          "fiability": 45689,
          "immat": 45689,
          "l": 45689,
          "state": 45689
         },
         {
          "camera_id": 3,
          "created": "2019-01-26T00:00:00",
          "fiability": 40222,
          "immat": 40222,
          "l": 40222,
          "state": 40222
         },
         {
          "camera_id": 3,
          "created": "2019-01-27T00:00:00",
          "fiability": 28202,
          "immat": 28202,
          "l": 28202,
          "state": 28202
         },
         {
          "camera_id": 3,
          "created": "2019-01-28T00:00:00",
          "fiability": 36542,
          "immat": 36542,
          "l": 36542,
          "state": 36542
         },
         {
          "camera_id": 3,
          "created": "2019-01-29T00:00:00",
          "fiability": 35937,
          "immat": 35937,
          "l": 35937,
          "state": 35937
         },
         {
          "camera_id": 3,
          "created": "2019-01-30T00:00:00",
          "fiability": 35792,
          "immat": 35792,
          "l": 35792,
          "state": 35792
         },
         {
          "camera_id": 3,
          "created": "2019-01-31T00:00:00",
          "fiability": 38334,
          "immat": 38334,
          "l": 38334,
          "state": 38334
         },
         {
          "camera_id": 3,
          "created": "2019-02-01T00:00:00",
          "fiability": 28988,
          "immat": 28988,
          "l": 28988,
          "state": 28988
         },
         {
          "camera_id": 3,
          "created": "2019-02-02T00:00:00",
          "fiability": 39873,
          "immat": 39873,
          "l": 39873,
          "state": 39873
         },
         {
          "camera_id": 3,
          "created": "2019-02-03T00:00:00",
          "fiability": 30092,
          "immat": 30092,
          "l": 30092,
          "state": 30092
         },
         {
          "camera_id": 3,
          "created": "2019-02-04T00:00:00",
          "fiability": 38100,
          "immat": 38100,
          "l": 38100,
          "state": 38100
         },
         {
          "camera_id": 3,
          "created": "2019-02-05T00:00:00",
          "fiability": 34067,
          "immat": 34067,
          "l": 34067,
          "state": 34067
         },
         {
          "camera_id": 3,
          "created": "2019-02-06T00:00:00",
          "fiability": 40436,
          "immat": 40436,
          "l": 40436,
          "state": 40436
         },
         {
          "camera_id": 3,
          "created": "2019-02-07T00:00:00",
          "fiability": 38829,
          "immat": 38829,
          "l": 38829,
          "state": 38829
         },
         {
          "camera_id": 3,
          "created": "2019-02-08T00:00:00",
          "fiability": 43435,
          "immat": 43435,
          "l": 43435,
          "state": 43435
         },
         {
          "camera_id": 3,
          "created": "2019-02-09T00:00:00",
          "fiability": 45285,
          "immat": 45285,
          "l": 45285,
          "state": 45285
         },
         {
          "camera_id": 3,
          "created": "2019-02-10T00:00:00",
          "fiability": 31923,
          "immat": 31923,
          "l": 31923,
          "state": 31923
         },
         {
          "camera_id": 3,
          "created": "2019-02-11T00:00:00",
          "fiability": 30260,
          "immat": 30260,
          "l": 30260,
          "state": 30260
         },
         {
          "camera_id": 3,
          "created": "2019-02-12T00:00:00",
          "fiability": 31852,
          "immat": 31852,
          "l": 31852,
          "state": 31852
         },
         {
          "camera_id": 3,
          "created": "2019-02-13T00:00:00",
          "fiability": 41184,
          "immat": 41184,
          "l": 41184,
          "state": 41184
         },
         {
          "camera_id": 4,
          "created": "2019-01-24T00:00:00",
          "fiability": 35746,
          "immat": 35746,
          "l": 35746,
          "state": 35746
         },
         {
          "camera_id": 4,
          "created": "2019-01-25T00:00:00",
          "fiability": 42089,
          "immat": 42089,
          "l": 42089,
          "state": 42089
         },
         {
          "camera_id": 4,
          "created": "2019-01-26T00:00:00",
          "fiability": 40714,
          "immat": 40714,
          "l": 40714,
          "state": 40714
         },
         {
          "camera_id": 4,
          "created": "2019-01-27T00:00:00",
          "fiability": 17238,
          "immat": 17238,
          "l": 17238,
          "state": 17238
         },
         {
          "camera_id": 4,
          "created": "2019-01-28T00:00:00",
          "fiability": 38528,
          "immat": 38528,
          "l": 38528,
          "state": 38528
         },
         {
          "camera_id": 4,
          "created": "2019-01-29T00:00:00",
          "fiability": 32463,
          "immat": 32463,
          "l": 32463,
          "state": 32463
         },
         {
          "camera_id": 4,
          "created": "2019-01-30T00:00:00",
          "fiability": 40401,
          "immat": 40401,
          "l": 40401,
          "state": 40401
         },
         {
          "camera_id": 4,
          "created": "2019-01-31T00:00:00",
          "fiability": 34304,
          "immat": 34304,
          "l": 34304,
          "state": 34304
         },
         {
          "camera_id": 4,
          "created": "2019-02-01T00:00:00",
          "fiability": 41260,
          "immat": 41260,
          "l": 41260,
          "state": 41260
         },
         {
          "camera_id": 4,
          "created": "2019-02-02T00:00:00",
          "fiability": 37313,
          "immat": 37313,
          "l": 37313,
          "state": 37313
         },
         {
          "camera_id": 4,
          "created": "2019-02-03T00:00:00",
          "fiability": 28613,
          "immat": 28613,
          "l": 28613,
          "state": 28613
         },
         {
          "camera_id": 4,
          "created": "2019-02-04T00:00:00",
          "fiability": 37850,
          "immat": 37850,
          "l": 37850,
          "state": 37850
         },
         {
          "camera_id": 4,
          "created": "2019-02-05T00:00:00",
          "fiability": 40349,
          "immat": 40349,
          "l": 40349,
          "state": 40349
         },
         {
          "camera_id": 4,
          "created": "2019-02-06T00:00:00",
          "fiability": 41926,
          "immat": 41926,
          "l": 41926,
          "state": 41926
         },
         {
          "camera_id": 4,
          "created": "2019-02-07T00:00:00",
          "fiability": 41842,
          "immat": 41842,
          "l": 41842,
          "state": 41842
         },
         {
          "camera_id": 4,
          "created": "2019-02-08T00:00:00",
          "fiability": 41718,
          "immat": 41718,
          "l": 41718,
          "state": 41718
         },
         {
          "camera_id": 4,
          "created": "2019-02-09T00:00:00",
          "fiability": 40129,
          "immat": 40129,
          "l": 40129,
          "state": 40129
         },
         {
          "camera_id": 4,
          "created": "2019-02-10T00:00:00",
          "fiability": 30434,
          "immat": 30434,
          "l": 30434,
          "state": 30434
         },
         {
          "camera_id": 4,
          "created": "2019-02-11T00:00:00",
          "fiability": 30011,
          "immat": 30011,
          "l": 30011,
          "state": 30011
         },
         {
          "camera_id": 4,
          "created": "2019-02-12T00:00:00",
          "fiability": 26655,
          "immat": 26655,
          "l": 26655,
          "state": 26655
         },
         {
          "camera_id": 4,
          "created": "2019-02-13T00:00:00",
          "fiability": 37919,
          "immat": 37919,
          "l": 37919,
          "state": 37919
         },
         {
          "camera_id": 5,
          "created": "2019-01-24T00:00:00",
          "fiability": 22089,
          "immat": 22089,
          "l": 22089,
          "state": 22089
         },
         {
          "camera_id": 5,
          "created": "2019-01-25T00:00:00",
          "fiability": 25393,
          "immat": 25393,
          "l": 25393,
          "state": 25393
         },
         {
          "camera_id": 5,
          "created": "2019-01-26T00:00:00",
          "fiability": 21431,
          "immat": 21431,
          "l": 21431,
          "state": 21431
         },
         {
          "camera_id": 5,
          "created": "2019-01-27T00:00:00",
          "fiability": 17962,
          "immat": 17962,
          "l": 17962,
          "state": 17962
         },
         {
          "camera_id": 5,
          "created": "2019-01-28T00:00:00",
          "fiability": 21681,
          "immat": 21681,
          "l": 21681,
          "state": 21681
         },
         {
          "camera_id": 5,
          "created": "2019-01-29T00:00:00",
          "fiability": 23802,
          "immat": 23802,
          "l": 23802,
          "state": 23802
         },
         {
          "camera_id": 5,
          "created": "2019-01-30T00:00:00",
          "fiability": 22647,
          "immat": 22647,
          "l": 22647,
          "state": 22647
         },
         {
          "camera_id": 5,
          "created": "2019-01-31T00:00:00",
          "fiability": 28959,
          "immat": 28959,
          "l": 28959,
          "state": 28959
         },
         {
          "camera_id": 5,
          "created": "2019-02-01T00:00:00",
          "fiability": 34423,
          "immat": 34423,
          "l": 34423,
          "state": 34423
         },
         {
          "camera_id": 5,
          "created": "2019-02-02T00:00:00",
          "fiability": 29931,
          "immat": 29931,
          "l": 29931,
          "state": 29931
         },
         {
          "camera_id": 5,
          "created": "2019-02-03T00:00:00",
          "fiability": 25237,
          "immat": 25237,
          "l": 25237,
          "state": 25237
         },
         {
          "camera_id": 5,
          "created": "2019-02-04T00:00:00",
          "fiability": 33000,
          "immat": 33000,
          "l": 33000,
          "state": 33000
         },
         {
          "camera_id": 5,
          "created": "2019-02-05T00:00:00",
          "fiability": 33326,
          "immat": 33326,
          "l": 33326,
          "state": 33326
         },
         {
          "camera_id": 5,
          "created": "2019-02-06T00:00:00",
          "fiability": 30088,
          "immat": 30088,
          "l": 30088,
          "state": 30088
         },
         {
          "camera_id": 5,
          "created": "2019-02-07T00:00:00",
          "fiability": 32949,
          "immat": 32949,
          "l": 32949,
          "state": 32949
         },
         {
          "camera_id": 5,
          "created": "2019-02-08T00:00:00",
          "fiability": 35527,
          "immat": 35527,
          "l": 35527,
          "state": 35527
         },
         {
          "camera_id": 5,
          "created": "2019-02-09T00:00:00",
          "fiability": 32461,
          "immat": 32461,
          "l": 32461,
          "state": 32461
         },
         {
          "camera_id": 5,
          "created": "2019-02-10T00:00:00",
          "fiability": 26523,
          "immat": 26523,
          "l": 26523,
          "state": 26523
         },
         {
          "camera_id": 5,
          "created": "2019-02-11T00:00:00",
          "fiability": 30998,
          "immat": 30998,
          "l": 30998,
          "state": 30998
         },
         {
          "camera_id": 5,
          "created": "2019-02-12T00:00:00",
          "fiability": 30983,
          "immat": 30983,
          "l": 30983,
          "state": 30983
         },
         {
          "camera_id": 5,
          "created": "2019-02-13T00:00:00",
          "fiability": 31408,
          "immat": 31408,
          "l": 31408,
          "state": 31408
         },
         {
          "camera_id": 6,
          "created": "2019-01-24T00:00:00",
          "fiability": 17746,
          "immat": 17746,
          "l": 17746,
          "state": 17746
         },
         {
          "camera_id": 6,
          "created": "2019-01-25T00:00:00",
          "fiability": 20103,
          "immat": 20103,
          "l": 20103,
          "state": 20103
         },
         {
          "camera_id": 6,
          "created": "2019-01-26T00:00:00",
          "fiability": 19178,
          "immat": 19178,
          "l": 19178,
          "state": 19178
         },
         {
          "camera_id": 6,
          "created": "2019-01-27T00:00:00",
          "fiability": 13954,
          "immat": 13954,
          "l": 13954,
          "state": 13954
         },
         {
          "camera_id": 6,
          "created": "2019-01-28T00:00:00",
          "fiability": 16869,
          "immat": 16869,
          "l": 16869,
          "state": 16869
         },
         {
          "camera_id": 6,
          "created": "2019-01-29T00:00:00",
          "fiability": 18133,
          "immat": 18133,
          "l": 18133,
          "state": 18133
         },
         {
          "camera_id": 6,
          "created": "2019-01-30T00:00:00",
          "fiability": 7971,
          "immat": 7971,
          "l": 7971,
          "state": 7971
         },
         {
          "camera_id": 6,
          "created": "2019-01-31T00:00:00",
          "fiability": 32095,
          "immat": 32095,
          "l": 32095,
          "state": 32095
         },
         {
          "camera_id": 6,
          "created": "2019-02-01T00:00:00",
          "fiability": 32710,
          "immat": 32710,
          "l": 32710,
          "state": 32710
         },
         {
          "camera_id": 6,
          "created": "2019-02-02T00:00:00",
          "fiability": 30026,
          "immat": 30026,
          "l": 30026,
          "state": 30026
         },
         {
          "camera_id": 6,
          "created": "2019-02-03T00:00:00",
          "fiability": 25468,
          "immat": 25468,
          "l": 25468,
          "state": 25468
         },
         {
          "camera_id": 6,
          "created": "2019-02-04T00:00:00",
          "fiability": 30460,
          "immat": 30460,
          "l": 30460,
          "state": 30460
         },
         {
          "camera_id": 6,
          "created": "2019-02-05T00:00:00",
          "fiability": 29241,
          "immat": 29241,
          "l": 29241,
          "state": 29241
         },
         {
          "camera_id": 6,
          "created": "2019-02-06T00:00:00",
          "fiability": 26111,
          "immat": 26111,
          "l": 26111,
          "state": 26111
         },
         {
          "camera_id": 6,
          "created": "2019-02-07T00:00:00",
          "fiability": 31849,
          "immat": 31849,
          "l": 31849,
          "state": 31849
         },
         {
          "camera_id": 6,
          "created": "2019-02-08T00:00:00",
          "fiability": 37084,
          "immat": 37084,
          "l": 37084,
          "state": 37084
         },
         {
          "camera_id": 6,
          "created": "2019-02-09T00:00:00",
          "fiability": 34664,
          "immat": 34664,
          "l": 34664,
          "state": 34664
         },
         {
          "camera_id": 6,
          "created": "2019-02-10T00:00:00",
          "fiability": 25908,
          "immat": 25908,
          "l": 25908,
          "state": 25908
         },
         {
          "camera_id": 6,
          "created": "2019-02-11T00:00:00",
          "fiability": 29362,
          "immat": 29362,
          "l": 29362,
          "state": 29362
         },
         {
          "camera_id": 6,
          "created": "2019-02-12T00:00:00",
          "fiability": 30347,
          "immat": 30347,
          "l": 30347,
          "state": 30347
         },
         {
          "camera_id": 6,
          "created": "2019-02-13T00:00:00",
          "fiability": 32613,
          "immat": 32613,
          "l": 32613,
          "state": 32613
         },
         {
          "camera_id": 7,
          "created": "2019-01-24T00:00:00",
          "fiability": 17301,
          "immat": 17301,
          "l": 17301,
          "state": 17301
         },
         {
          "camera_id": 7,
          "created": "2019-01-25T00:00:00",
          "fiability": 18295,
          "immat": 18295,
          "l": 18295,
          "state": 18295
         },
         {
          "camera_id": 7,
          "created": "2019-01-26T00:00:00",
          "fiability": 12212,
          "immat": 12212,
          "l": 12212,
          "state": 12212
         },
         {
          "camera_id": 7,
          "created": "2019-01-27T00:00:00",
          "fiability": 9243,
          "immat": 9243,
          "l": 9243,
          "state": 9243
         },
         {
          "camera_id": 7,
          "created": "2019-01-28T00:00:00",
          "fiability": 15681,
          "immat": 15681,
          "l": 15681,
          "state": 15681
         },
         {
          "camera_id": 7,
          "created": "2019-01-29T00:00:00",
          "fiability": 15120,
          "immat": 15120,
          "l": 15120,
          "state": 15120
         },
         {
          "camera_id": 7,
          "created": "2019-01-30T00:00:00",
          "fiability": 20918,
          "immat": 20918,
          "l": 20918,
          "state": 20918
         },
         {
          "camera_id": 7,
          "created": "2019-01-31T00:00:00",
          "fiability": 25497,
          "immat": 25497,
          "l": 25497,
          "state": 25497
         },
         {
          "camera_id": 7,
          "created": "2019-02-01T00:00:00",
          "fiability": 27822,
          "immat": 27822,
          "l": 27822,
          "state": 27822
         },
         {
          "camera_id": 7,
          "created": "2019-02-02T00:00:00",
          "fiability": 18557,
          "immat": 18557,
          "l": 18557,
          "state": 18557
         },
         {
          "camera_id": 7,
          "created": "2019-02-03T00:00:00",
          "fiability": 15066,
          "immat": 15066,
          "l": 15066,
          "state": 15066
         },
         {
          "camera_id": 7,
          "created": "2019-02-04T00:00:00",
          "fiability": 24341,
          "immat": 24341,
          "l": 24341,
          "state": 24341
         },
         {
          "camera_id": 7,
          "created": "2019-02-05T00:00:00",
          "fiability": 25081,
          "immat": 25081,
          "l": 25081,
          "state": 25081
         },
         {
          "camera_id": 7,
          "created": "2019-02-06T00:00:00",
          "fiability": 6877,
          "immat": 6877,
          "l": 6877,
          "state": 6877
         },
         {
          "camera_id": 7,
          "created": "2019-02-07T00:00:00",
          "fiability": 26673,
          "immat": 26673,
          "l": 26673,
          "state": 26673
         },
         {
          "camera_id": 7,
          "created": "2019-02-08T00:00:00",
          "fiability": 28518,
          "immat": 28518,
          "l": 28518,
          "state": 28518
         },
         {
          "camera_id": 7,
          "created": "2019-02-09T00:00:00",
          "fiability": 20064,
          "immat": 20064,
          "l": 20064,
          "state": 20064
         },
         {
          "camera_id": 7,
          "created": "2019-02-10T00:00:00",
          "fiability": 14949,
          "immat": 14949,
          "l": 14949,
          "state": 14949
         },
         {
          "camera_id": 7,
          "created": "2019-02-11T00:00:00",
          "fiability": 25297,
          "immat": 25297,
          "l": 25297,
          "state": 25297
         },
         {
          "camera_id": 7,
          "created": "2019-02-12T00:00:00",
          "fiability": 24743,
          "immat": 24743,
          "l": 24743,
          "state": 24743
         },
         {
          "camera_id": 7,
          "created": "2019-02-13T00:00:00",
          "fiability": 25275,
          "immat": 25275,
          "l": 25275,
          "state": 25275
         },
         {
          "camera_id": 8,
          "created": "2019-01-24T00:00:00",
          "fiability": 25320,
          "immat": 25320,
          "l": 25320,
          "state": 25320
         },
         {
          "camera_id": 8,
          "created": "2019-01-25T00:00:00",
          "fiability": 26817,
          "immat": 26817,
          "l": 26817,
          "state": 26817
         },
         {
          "camera_id": 8,
          "created": "2019-01-26T00:00:00",
          "fiability": 17683,
          "immat": 17683,
          "l": 17683,
          "state": 17683
         },
         {
          "camera_id": 8,
          "created": "2019-01-27T00:00:00",
          "fiability": 14974,
          "immat": 14974,
          "l": 14974,
          "state": 14974
         },
         {
          "camera_id": 8,
          "created": "2019-01-28T00:00:00",
          "fiability": 24549,
          "immat": 24549,
          "l": 24549,
          "state": 24549
         },
         {
          "camera_id": 8,
          "created": "2019-01-29T00:00:00",
          "fiability": 23694,
          "immat": 23694,
          "l": 23694,
          "state": 23694
         },
         {
          "camera_id": 8,
          "created": "2019-01-30T00:00:00",
          "fiability": 24813,
          "immat": 24813,
          "l": 24813,
          "state": 24813
         },
         {
          "camera_id": 8,
          "created": "2019-01-31T00:00:00",
          "fiability": 25498,
          "immat": 25498,
          "l": 25498,
          "state": 25498
         },
         {
          "camera_id": 8,
          "created": "2019-02-01T00:00:00",
          "fiability": 26312,
          "immat": 26312,
          "l": 26312,
          "state": 26312
         },
         {
          "camera_id": 8,
          "created": "2019-02-02T00:00:00",
          "fiability": 17897,
          "immat": 17897,
          "l": 17897,
          "state": 17897
         },
         {
          "camera_id": 8,
          "created": "2019-02-03T00:00:00",
          "fiability": 16030,
          "immat": 16030,
          "l": 16030,
          "state": 16030
         },
         {
          "camera_id": 8,
          "created": "2019-02-04T00:00:00",
          "fiability": 23801,
          "immat": 23801,
          "l": 23801,
          "state": 23801
         },
         {
          "camera_id": 8,
          "created": "2019-02-05T00:00:00",
          "fiability": 25301,
          "immat": 25301,
          "l": 25301,
          "state": 25301
         },
         {
          "camera_id": 8,
          "created": "2019-02-06T00:00:00",
          "fiability": 9030,
          "immat": 9030,
          "l": 9030,
          "state": 9030
         },
         {
          "camera_id": 8,
          "created": "2019-02-07T00:00:00",
          "fiability": 26507,
          "immat": 26507,
          "l": 26507,
          "state": 26507
         },
         {
          "camera_id": 8,
          "created": "2019-02-08T00:00:00",
          "fiability": 28265,
          "immat": 28265,
          "l": 28265,
          "state": 28265
         },
         {
          "camera_id": 8,
          "created": "2019-02-09T00:00:00",
          "fiability": 18053,
          "immat": 18053,
          "l": 18053,
          "state": 18053
         },
         {
          "camera_id": 8,
          "created": "2019-02-10T00:00:00",
          "fiability": 16025,
          "immat": 16025,
          "l": 16025,
          "state": 16025
         },
         {
          "camera_id": 8,
          "created": "2019-02-11T00:00:00",
          "fiability": 25478,
          "immat": 25478,
          "l": 25478,
          "state": 25478
         },
         {
          "camera_id": 8,
          "created": "2019-02-12T00:00:00",
          "fiability": 25417,
          "immat": 25417,
          "l": 25417,
          "state": 25417
         },
         {
          "camera_id": 8,
          "created": "2019-02-13T00:00:00",
          "fiability": 25313,
          "immat": 25313,
          "l": 25313,
          "state": 25313
         },
         {
          "camera_id": 9,
          "created": "2019-01-24T00:00:00",
          "fiability": 23127,
          "immat": 23127,
          "l": 23127,
          "state": 23127
         },
         {
          "camera_id": 9,
          "created": "2019-01-25T00:00:00",
          "fiability": 32248,
          "immat": 32248,
          "l": 32248,
          "state": 32248
         },
         {
          "camera_id": 9,
          "created": "2019-01-26T00:00:00",
          "fiability": 23478,
          "immat": 23478,
          "l": 23478,
          "state": 23478
         },
         {
          "camera_id": 9,
          "created": "2019-01-27T00:00:00",
          "fiability": 18544,
          "immat": 18544,
          "l": 18544,
          "state": 18544
         },
         {
          "camera_id": 9,
          "created": "2019-01-28T00:00:00",
          "fiability": 24893,
          "immat": 24893,
          "l": 24893,
          "state": 24893
         },
         {
          "camera_id": 9,
          "created": "2019-01-29T00:00:00",
          "fiability": 26443,
          "immat": 26443,
          "l": 26443,
          "state": 26443
         },
         {
          "camera_id": 9,
          "created": "2019-01-30T00:00:00",
          "fiability": 26082,
          "immat": 26082,
          "l": 26082,
          "state": 26082
         },
         {
          "camera_id": 9,
          "created": "2019-01-31T00:00:00",
          "fiability": 27883,
          "immat": 27883,
          "l": 27883,
          "state": 27883
         },
         {
          "camera_id": 9,
          "created": "2019-02-01T00:00:00",
          "fiability": 32559,
          "immat": 32559,
          "l": 32559,
          "state": 32559
         },
         {
          "camera_id": 9,
          "created": "2019-02-02T00:00:00",
          "fiability": 24097,
          "immat": 24097,
          "l": 24097,
          "state": 24097
         },
         {
          "camera_id": 9,
          "created": "2019-02-03T00:00:00",
          "fiability": 17939,
          "immat": 17939,
          "l": 17939,
          "state": 17939
         },
         {
          "camera_id": 9,
          "created": "2019-02-04T00:00:00",
          "fiability": 26558,
          "immat": 26558,
          "l": 26558,
          "state": 26558
         },
         {
          "camera_id": 9,
          "created": "2019-02-05T00:00:00",
          "fiability": 26761,
          "immat": 26761,
          "l": 26761,
          "state": 26761
         },
         {
          "camera_id": 9,
          "created": "2019-02-06T00:00:00",
          "fiability": 28419,
          "immat": 28419,
          "l": 28419,
          "state": 28419
         },
         {
          "camera_id": 9,
          "created": "2019-02-07T00:00:00",
          "fiability": 29310,
          "immat": 29310,
          "l": 29310,
          "state": 29310
         },
         {
          "camera_id": 9,
          "created": "2019-02-08T00:00:00",
          "fiability": 35271,
          "immat": 35271,
          "l": 35271,
          "state": 35271
         },
         {
          "camera_id": 9,
          "created": "2019-02-09T00:00:00",
          "fiability": 34814,
          "immat": 34814,
          "l": 34814,
          "state": 34814
         },
         {
          "camera_id": 9,
          "created": "2019-02-10T00:00:00",
          "fiability": 21642,
          "immat": 21642,
          "l": 21642,
          "state": 21642
         },
         {
          "camera_id": 9,
          "created": "2019-02-11T00:00:00",
          "fiability": 27443,
          "immat": 27443,
          "l": 27443,
          "state": 27443
         },
         {
          "camera_id": 9,
          "created": "2019-02-12T00:00:00",
          "fiability": 28004,
          "immat": 28004,
          "l": 28004,
          "state": 28004
         },
         {
          "camera_id": 9,
          "created": "2019-02-13T00:00:00",
          "fiability": 27509,
          "immat": 27509,
          "l": 27509,
          "state": 27509
         },
         {
          "camera_id": 10,
          "created": "2019-01-24T00:00:00",
          "fiability": 23865,
          "immat": 23865,
          "l": 23865,
          "state": 23865
         },
         {
          "camera_id": 10,
          "created": "2019-01-25T00:00:00",
          "fiability": 27934,
          "immat": 27934,
          "l": 27934,
          "state": 27934
         },
         {
          "camera_id": 10,
          "created": "2019-01-26T00:00:00",
          "fiability": 22001,
          "immat": 22001,
          "l": 22001,
          "state": 22001
         },
         {
          "camera_id": 10,
          "created": "2019-01-27T00:00:00",
          "fiability": 22932,
          "immat": 22932,
          "l": 22932,
          "state": 22932
         },
         {
          "camera_id": 10,
          "created": "2019-01-28T00:00:00",
          "fiability": 25021,
          "immat": 25021,
          "l": 25021,
          "state": 25021
         },
         {
          "camera_id": 10,
          "created": "2019-01-29T00:00:00",
          "fiability": 24539,
          "immat": 24539,
          "l": 24539,
          "state": 24539
         },
         {
          "camera_id": 10,
          "created": "2019-01-30T00:00:00",
          "fiability": 26819,
          "immat": 26819,
          "l": 26819,
          "state": 26819
         },
         {
          "camera_id": 10,
          "created": "2019-01-31T00:00:00",
          "fiability": 31039,
          "immat": 31039,
          "l": 31039,
          "state": 31039
         },
         {
          "camera_id": 10,
          "created": "2019-02-01T00:00:00",
          "fiability": 33678,
          "immat": 33678,
          "l": 33678,
          "state": 33678
         },
         {
          "camera_id": 10,
          "created": "2019-02-02T00:00:00",
          "fiability": 25061,
          "immat": 25061,
          "l": 25061,
          "state": 25061
         },
         {
          "camera_id": 10,
          "created": "2019-02-03T00:00:00",
          "fiability": 25486,
          "immat": 25486,
          "l": 25486,
          "state": 25486
         },
         {
          "camera_id": 10,
          "created": "2019-02-04T00:00:00",
          "fiability": 29575,
          "immat": 29575,
          "l": 29575,
          "state": 29575
         },
         {
          "camera_id": 10,
          "created": "2019-02-05T00:00:00",
          "fiability": 30021,
          "immat": 30021,
          "l": 30021,
          "state": 30021
         },
         {
          "camera_id": 10,
          "created": "2019-02-06T00:00:00",
          "fiability": 31500,
          "immat": 31500,
          "l": 31500,
          "state": 31500
         },
         {
          "camera_id": 10,
          "created": "2019-02-07T00:00:00",
          "fiability": 32206,
          "immat": 32206,
          "l": 32206,
          "state": 32206
         },
         {
          "camera_id": 10,
          "created": "2019-02-08T00:00:00",
          "fiability": 35273,
          "immat": 35273,
          "l": 35273,
          "state": 35273
         },
         {
          "camera_id": 10,
          "created": "2019-02-09T00:00:00",
          "fiability": 28537,
          "immat": 28537,
          "l": 28537,
          "state": 28537
         },
         {
          "camera_id": 10,
          "created": "2019-02-10T00:00:00",
          "fiability": 25825,
          "immat": 25825,
          "l": 25825,
          "state": 25825
         },
         {
          "camera_id": 10,
          "created": "2019-02-11T00:00:00",
          "fiability": 30515,
          "immat": 30515,
          "l": 30515,
          "state": 30515
         },
         {
          "camera_id": 10,
          "created": "2019-02-12T00:00:00",
          "fiability": 30180,
          "immat": 30180,
          "l": 30180,
          "state": 30180
         },
         {
          "camera_id": 10,
          "created": "2019-02-13T00:00:00",
          "fiability": 29844,
          "immat": 29844,
          "l": 29844,
          "state": 29844
         },
         {
          "camera_id": 11,
          "created": "2019-01-24T00:00:00",
          "fiability": 7110,
          "immat": 7110,
          "l": 7110,
          "state": 7110
         },
         {
          "camera_id": 11,
          "created": "2019-01-25T00:00:00",
          "fiability": 8689,
          "immat": 8689,
          "l": 8689,
          "state": 8689
         },
         {
          "camera_id": 11,
          "created": "2019-01-26T00:00:00",
          "fiability": 6191,
          "immat": 6191,
          "l": 6191,
          "state": 6191
         },
         {
          "camera_id": 11,
          "created": "2019-01-27T00:00:00",
          "fiability": 7328,
          "immat": 7328,
          "l": 7328,
          "state": 7328
         },
         {
          "camera_id": 11,
          "created": "2019-01-28T00:00:00",
          "fiability": 7746,
          "immat": 7746,
          "l": 7746,
          "state": 7746
         },
         {
          "camera_id": 11,
          "created": "2019-01-29T00:00:00",
          "fiability": 7149,
          "immat": 7149,
          "l": 7149,
          "state": 7149
         },
         {
          "camera_id": 11,
          "created": "2019-01-30T00:00:00",
          "fiability": 6919,
          "immat": 6919,
          "l": 6919,
          "state": 6919
         },
         {
          "camera_id": 11,
          "created": "2019-01-31T00:00:00",
          "fiability": 9275,
          "immat": 9275,
          "l": 9275,
          "state": 9275
         },
         {
          "camera_id": 11,
          "created": "2019-02-01T00:00:00",
          "fiability": 2195,
          "immat": 2195,
          "l": 2195,
          "state": 2195
         },
         {
          "camera_id": 11,
          "created": "2019-02-02T00:00:00",
          "fiability": 9487,
          "immat": 9487,
          "l": 9487,
          "state": 9487
         },
         {
          "camera_id": 11,
          "created": "2019-02-03T00:00:00",
          "fiability": 10173,
          "immat": 10173,
          "l": 10173,
          "state": 10173
         },
         {
          "camera_id": 11,
          "created": "2019-02-04T00:00:00",
          "fiability": 11300,
          "immat": 11300,
          "l": 11300,
          "state": 11300
         },
         {
          "camera_id": 11,
          "created": "2019-02-05T00:00:00",
          "fiability": 10659,
          "immat": 10659,
          "l": 10659,
          "state": 10659
         },
         {
          "camera_id": 11,
          "created": "2019-02-06T00:00:00",
          "fiability": 10591,
          "immat": 10591,
          "l": 10591,
          "state": 10591
         },
         {
          "camera_id": 11,
          "created": "2019-02-07T00:00:00",
          "fiability": 11571,
          "immat": 11571,
          "l": 11571,
          "state": 11571
         },
         {
          "camera_id": 11,
          "created": "2019-02-08T00:00:00",
          "fiability": 13966,
          "immat": 13966,
          "l": 13966,
          "state": 13966
         },
         {
          "camera_id": 11,
          "created": "2019-02-09T00:00:00",
          "fiability": 10945,
          "immat": 10945,
          "l": 10945,
          "state": 10945
         },
         {
          "camera_id": 11,
          "created": "2019-02-10T00:00:00",
          "fiability": 11091,
          "immat": 11091,
          "l": 11091,
          "state": 11091
         },
         {
          "camera_id": 11,
          "created": "2019-02-11T00:00:00",
          "fiability": 11597,
          "immat": 11597,
          "l": 11597,
          "state": 11597
         },
         {
          "camera_id": 11,
          "created": "2019-02-12T00:00:00",
          "fiability": 10909,
          "immat": 10909,
          "l": 10909,
          "state": 10909
         },
         {
          "camera_id": 11,
          "created": "2019-02-13T00:00:00",
          "fiability": 10890,
          "immat": 10890,
          "l": 10890,
          "state": 10890
         },
         {
          "camera_id": 12,
          "created": "2019-01-24T00:00:00",
          "fiability": 7790,
          "immat": 7790,
          "l": 7790,
          "state": 7790
         },
         {
          "camera_id": 12,
          "created": "2019-01-25T00:00:00",
          "fiability": 9619,
          "immat": 9619,
          "l": 9619,
          "state": 9619
         },
         {
          "camera_id": 12,
          "created": "2019-01-26T00:00:00",
          "fiability": 6757,
          "immat": 6757,
          "l": 6757,
          "state": 6757
         },
         {
          "camera_id": 12,
          "created": "2019-01-27T00:00:00",
          "fiability": 6160,
          "immat": 6160,
          "l": 6160,
          "state": 6160
         },
         {
          "camera_id": 12,
          "created": "2019-01-28T00:00:00",
          "fiability": 7435,
          "immat": 7435,
          "l": 7435,
          "state": 7435
         },
         {
          "camera_id": 12,
          "created": "2019-01-29T00:00:00",
          "fiability": 7161,
          "immat": 7161,
          "l": 7161,
          "state": 7161
         },
         {
          "camera_id": 12,
          "created": "2019-01-30T00:00:00",
          "fiability": 8706,
          "immat": 8706,
          "l": 8706,
          "state": 8706
         },
         {
          "camera_id": 12,
          "created": "2019-01-31T00:00:00",
          "fiability": 12068,
          "immat": 12068,
          "l": 12068,
          "state": 12068
         },
         {
          "camera_id": 12,
          "created": "2019-02-01T00:00:00",
          "fiability": 14034,
          "immat": 14034,
          "l": 14034,
          "state": 14034
         },
         {
          "camera_id": 12,
          "created": "2019-02-02T00:00:00",
          "fiability": 10839,
          "immat": 10839,
          "l": 10839,
          "state": 10839
         },
         {
          "camera_id": 12,
          "created": "2019-02-03T00:00:00",
          "fiability": 10620,
          "immat": 10620,
          "l": 10620,
          "state": 10620
         },
         {
          "camera_id": 12,
          "created": "2019-02-04T00:00:00",
          "fiability": 11405,
          "immat": 11405,
          "l": 11405,
          "state": 11405
         },
         {
          "camera_id": 12,
          "created": "2019-02-05T00:00:00",
          "fiability": 11143,
          "immat": 11143,
          "l": 11143,
          "state": 11143
         },
         {
          "camera_id": 12,
          "created": "2019-02-06T00:00:00",
          "fiability": 11211,
          "immat": 11211,
          "l": 11211,
          "state": 11211
         },
         {
          "camera_id": 12,
          "created": "2019-02-07T00:00:00",
          "fiability": 11823,
          "immat": 11823,
          "l": 11823,
          "state": 11823
         },
         {
          "camera_id": 12,
          "created": "2019-02-08T00:00:00",
          "fiability": 17039,
          "immat": 17039,
          "l": 17039,
          "state": 17039
         },
         {
          "camera_id": 12,
          "created": "2019-02-09T00:00:00",
          "fiability": 20399,
          "immat": 20399,
          "l": 20399,
          "state": 20399
         },
         {
          "camera_id": 12,
          "created": "2019-02-10T00:00:00",
          "fiability": 12770,
          "immat": 12770,
          "l": 12770,
          "state": 12770
         },
         {
          "camera_id": 12,
          "created": "2019-02-11T00:00:00",
          "fiability": 12695,
          "immat": 12695,
          "l": 12695,
          "state": 12695
         },
         {
          "camera_id": 12,
          "created": "2019-02-12T00:00:00",
          "fiability": 11810,
          "immat": 11810,
          "l": 11810,
          "state": 11810
         },
         {
          "camera_id": 12,
          "created": "2019-02-13T00:00:00",
          "fiability": 12214,
          "immat": 12214,
          "l": 12214,
          "state": 12214
         },
         {
          "camera_id": 13,
          "created": "2019-01-24T00:00:00",
          "fiability": 6180,
          "immat": 6180,
          "l": 6180,
          "state": 6180
         },
         {
          "camera_id": 13,
          "created": "2019-01-25T00:00:00",
          "fiability": 6067,
          "immat": 6067,
          "l": 6067,
          "state": 6067
         },
         {
          "camera_id": 13,
          "created": "2019-01-26T00:00:00",
          "fiability": 4854,
          "immat": 4854,
          "l": 4854,
          "state": 4854
         },
         {
          "camera_id": 13,
          "created": "2019-01-27T00:00:00",
          "fiability": 1253,
          "immat": 1253,
          "l": 1253,
          "state": 1253
         },
         {
          "camera_id": 13,
          "created": "2019-01-28T00:00:00",
          "fiability": 4043,
          "immat": 4043,
          "l": 4043,
          "state": 4043
         },
         {
          "camera_id": 13,
          "created": "2019-01-29T00:00:00",
          "fiability": 5090,
          "immat": 5090,
          "l": 5090,
          "state": 5090
         },
         {
          "camera_id": 13,
          "created": "2019-01-30T00:00:00",
          "fiability": 5968,
          "immat": 5968,
          "l": 5968,
          "state": 5968
         },
         {
          "camera_id": 13,
          "created": "2019-01-31T00:00:00",
          "fiability": 6793,
          "immat": 6793,
          "l": 6793,
          "state": 6793
         },
         {
          "camera_id": 13,
          "created": "2019-02-01T00:00:00",
          "fiability": 3274,
          "immat": 3274,
          "l": 3274,
          "state": 3274
         },
         {
          "camera_id": 13,
          "created": "2019-02-02T00:00:00",
          "fiability": 5637,
          "immat": 5637,
          "l": 5637,
          "state": 5637
         },
         {
          "camera_id": 13,
          "created": "2019-02-03T00:00:00",
          "fiability": 1281,
          "immat": 1281,
          "l": 1281,
          "state": 1281
         },
         {
          "camera_id": 13,
          "created": "2019-02-04T00:00:00",
          "fiability": 4154,
          "immat": 4154,
          "l": 4154,
          "state": 4154
         },
         {
          "camera_id": 13,
          "created": "2019-02-05T00:00:00",
          "fiability": 5348,
          "immat": 5348,
          "l": 5348,
          "state": 5348
         },
         {
          "camera_id": 13,
          "created": "2019-02-06T00:00:00",
          "fiability": 6449,
          "immat": 6449,
          "l": 6449,
          "state": 6449
         },
         {
          "camera_id": 13,
          "created": "2019-02-07T00:00:00",
          "fiability": 6718,
          "immat": 6718,
          "l": 6718,
          "state": 6718
         },
         {
          "camera_id": 13,
          "created": "2019-02-08T00:00:00",
          "fiability": 6252,
          "immat": 6252,
          "l": 6252,
          "state": 6252
         },
         {
          "camera_id": 13,
          "created": "2019-02-09T00:00:00",
          "fiability": 5403,
          "immat": 5403,
          "l": 5403,
          "state": 5403
         },
         {
          "camera_id": 13,
          "created": "2019-02-10T00:00:00",
          "fiability": 1309,
          "immat": 1309,
          "l": 1309,
          "state": 1309
         },
         {
          "camera_id": 13,
          "created": "2019-02-11T00:00:00",
          "fiability": 4199,
          "immat": 4199,
          "l": 4199,
          "state": 4199
         },
         {
          "camera_id": 15,
          "created": "2019-01-24T00:00:00",
          "fiability": 4682,
          "immat": 4682,
          "l": 4682,
          "state": 4682
         },
         {
          "camera_id": 15,
          "created": "2019-01-25T00:00:00",
          "fiability": 4171,
          "immat": 4171,
          "l": 4171,
          "state": 4171
         },
         {
          "camera_id": 15,
          "created": "2019-01-26T00:00:00",
          "fiability": 3396,
          "immat": 3396,
          "l": 3396,
          "state": 3396
         },
         {
          "camera_id": 15,
          "created": "2019-01-27T00:00:00",
          "fiability": 2424,
          "immat": 2424,
          "l": 2424,
          "state": 2424
         },
         {
          "camera_id": 15,
          "created": "2019-01-28T00:00:00",
          "fiability": 6389,
          "immat": 6389,
          "l": 6389,
          "state": 6389
         },
         {
          "camera_id": 15,
          "created": "2019-01-29T00:00:00",
          "fiability": 6913,
          "immat": 6913,
          "l": 6913,
          "state": 6913
         },
         {
          "camera_id": 15,
          "created": "2019-01-30T00:00:00",
          "fiability": 6243,
          "immat": 6243,
          "l": 6243,
          "state": 6243
         },
         {
          "camera_id": 15,
          "created": "2019-01-31T00:00:00",
          "fiability": 71,
          "immat": 71,
          "l": 71,
          "state": 71
         },
         {
          "camera_id": 15,
          "created": "2019-02-01T00:00:00",
          "fiability": 4369,
          "immat": 4369,
          "l": 4369,
          "state": 4369
         },
         {
          "camera_id": 15,
          "created": "2019-02-02T00:00:00",
          "fiability": 2892,
          "immat": 2892,
          "l": 2892,
          "state": 2892
         },
         {
          "camera_id": 15,
          "created": "2019-02-03T00:00:00",
          "fiability": 2250,
          "immat": 2250,
          "l": 2250,
          "state": 2250
         },
         {
          "camera_id": 15,
          "created": "2019-02-04T00:00:00",
          "fiability": 6515,
          "immat": 6515,
          "l": 6515,
          "state": 6515
         },
         {
          "camera_id": 15,
          "created": "2019-02-05T00:00:00",
          "fiability": 6547,
          "immat": 6547,
          "l": 6547,
          "state": 6547
         },
         {
          "camera_id": 15,
          "created": "2019-02-06T00:00:00",
          "fiability": 6870,
          "immat": 6870,
          "l": 6870,
          "state": 6870
         },
         {
          "camera_id": 15,
          "created": "2019-02-07T00:00:00",
          "fiability": 4934,
          "immat": 4934,
          "l": 4934,
          "state": 4934
         },
         {
          "camera_id": 15,
          "created": "2019-02-08T00:00:00",
          "fiability": 4536,
          "immat": 4536,
          "l": 4536,
          "state": 4536
         },
         {
          "camera_id": 15,
          "created": "2019-02-09T00:00:00",
          "fiability": 3490,
          "immat": 3490,
          "l": 3490,
          "state": 3490
         },
         {
          "camera_id": 15,
          "created": "2019-02-10T00:00:00",
          "fiability": 2655,
          "immat": 2655,
          "l": 2655,
          "state": 2655
         },
         {
          "camera_id": 15,
          "created": "2019-02-11T00:00:00",
          "fiability": 6497,
          "immat": 6497,
          "l": 6497,
          "state": 6497
         },
         {
          "camera_id": 18,
          "created": "2019-01-24T00:00:00",
          "fiability": 22312,
          "immat": 22312,
          "l": 22312,
          "state": 22312
         },
         {
          "camera_id": 18,
          "created": "2019-01-25T00:00:00",
          "fiability": 24143,
          "immat": 24143,
          "l": 24143,
          "state": 24143
         },
         {
          "camera_id": 18,
          "created": "2019-01-26T00:00:00",
          "fiability": 19099,
          "immat": 19099,
          "l": 19099,
          "state": 19099
         },
         {
          "camera_id": 18,
          "created": "2019-01-27T00:00:00",
          "fiability": 13140,
          "immat": 13140,
          "l": 13140,
          "state": 13140
         },
         {
          "camera_id": 18,
          "created": "2019-01-28T00:00:00",
          "fiability": 20156,
          "immat": 20156,
          "l": 20156,
          "state": 20156
         },
         {
          "camera_id": 18,
          "created": "2019-01-29T00:00:00",
          "fiability": 22070,
          "immat": 22070,
          "l": 22070,
          "state": 22070
         },
         {
          "camera_id": 18,
          "created": "2019-01-30T00:00:00",
          "fiability": 22815,
          "immat": 22815,
          "l": 22815,
          "state": 22815
         },
         {
          "camera_id": 18,
          "created": "2019-01-31T00:00:00",
          "fiability": 28615,
          "immat": 28615,
          "l": 28615,
          "state": 28615
         },
         {
          "camera_id": 18,
          "created": "2019-02-01T00:00:00",
          "fiability": 29978,
          "immat": 29978,
          "l": 29978,
          "state": 29978
         },
         {
          "camera_id": 18,
          "created": "2019-02-02T00:00:00",
          "fiability": 22620,
          "immat": 22620,
          "l": 22620,
          "state": 22620
         },
         {
          "camera_id": 18,
          "created": "2019-02-03T00:00:00",
          "fiability": 19464,
          "immat": 19464,
          "l": 19464,
          "state": 19464
         },
         {
          "camera_id": 18,
          "created": "2019-02-04T00:00:00",
          "fiability": 25019,
          "immat": 25019,
          "l": 25019,
          "state": 25019
         },
         {
          "camera_id": 18,
          "created": "2019-02-05T00:00:00",
          "fiability": 27299,
          "immat": 27299,
          "l": 27299,
          "state": 27299
         },
         {
          "camera_id": 18,
          "created": "2019-02-06T00:00:00",
          "fiability": 23575,
          "immat": 23575,
          "l": 23575,
          "state": 23575
         },
         {
          "camera_id": 18,
          "created": "2019-02-07T00:00:00",
          "fiability": 28681,
          "immat": 28681,
          "l": 28681,
          "state": 28681
         },
         {
          "camera_id": 18,
          "created": "2019-02-08T00:00:00",
          "fiability": 32477,
          "immat": 32477,
          "l": 32477,
          "state": 32477
         },
         {
          "camera_id": 18,
          "created": "2019-02-09T00:00:00",
          "fiability": 26385,
          "immat": 26385,
          "l": 26385,
          "state": 26385
         },
         {
          "camera_id": 18,
          "created": "2019-02-10T00:00:00",
          "fiability": 18671,
          "immat": 18671,
          "l": 18671,
          "state": 18671
         },
         {
          "camera_id": 18,
          "created": "2019-02-11T00:00:00",
          "fiability": 25397,
          "immat": 25397,
          "l": 25397,
          "state": 25397
         },
         {
          "camera_id": 18,
          "created": "2019-02-12T00:00:00",
          "fiability": 26305,
          "immat": 26305,
          "l": 26305,
          "state": 26305
         },
         {
          "camera_id": 18,
          "created": "2019-02-13T00:00:00",
          "fiability": 27032,
          "immat": 27032,
          "l": 27032,
          "state": 27032
         },
         {
          "camera_id": 19,
          "created": "2019-01-24T00:00:00",
          "fiability": 15327,
          "immat": 15327,
          "l": 15327,
          "state": 15327
         },
         {
          "camera_id": 19,
          "created": "2019-01-25T00:00:00",
          "fiability": 16757,
          "immat": 16757,
          "l": 16757,
          "state": 16757
         },
         {
          "camera_id": 19,
          "created": "2019-01-26T00:00:00",
          "fiability": 14108,
          "immat": 14108,
          "l": 14108,
          "state": 14108
         },
         {
          "camera_id": 19,
          "created": "2019-01-27T00:00:00",
          "fiability": 14145,
          "immat": 14145,
          "l": 14145,
          "state": 14145
         },
         {
          "camera_id": 19,
          "created": "2019-01-28T00:00:00",
          "fiability": 16270,
          "immat": 16270,
          "l": 16270,
          "state": 16270
         },
         {
          "camera_id": 19,
          "created": "2019-01-29T00:00:00",
          "fiability": 17907,
          "immat": 17907,
          "l": 17907,
          "state": 17907
         },
         {
          "camera_id": 19,
          "created": "2019-01-30T00:00:00",
          "fiability": 19921,
          "immat": 19921,
          "l": 19921,
          "state": 19921
         },
         {
          "camera_id": 19,
          "created": "2019-01-31T00:00:00",
          "fiability": 26402,
          "immat": 26402,
          "l": 26402,
          "state": 26402
         },
         {
          "camera_id": 19,
          "created": "2019-02-01T00:00:00",
          "fiability": 26850,
          "immat": 26850,
          "l": 26850,
          "state": 26850
         },
         {
          "camera_id": 19,
          "created": "2019-02-02T00:00:00",
          "fiability": 19863,
          "immat": 19863,
          "l": 19863,
          "state": 19863
         },
         {
          "camera_id": 19,
          "created": "2019-02-03T00:00:00",
          "fiability": 21483,
          "immat": 21483,
          "l": 21483,
          "state": 21483
         },
         {
          "camera_id": 19,
          "created": "2019-02-04T00:00:00",
          "fiability": 26101,
          "immat": 26101,
          "l": 26101,
          "state": 26101
         },
         {
          "camera_id": 19,
          "created": "2019-02-05T00:00:00",
          "fiability": 26715,
          "immat": 26715,
          "l": 26715,
          "state": 26715
         },
         {
          "camera_id": 19,
          "created": "2019-02-06T00:00:00",
          "fiability": 21929,
          "immat": 21929,
          "l": 21929,
          "state": 21929
         },
         {
          "camera_id": 19,
          "created": "2019-02-07T00:00:00",
          "fiability": 26177,
          "immat": 26177,
          "l": 26177,
          "state": 26177
         },
         {
          "camera_id": 19,
          "created": "2019-02-08T00:00:00",
          "fiability": 25068,
          "immat": 25068,
          "l": 25068,
          "state": 25068
         },
         {
          "camera_id": 19,
          "created": "2019-02-09T00:00:00",
          "fiability": 23097,
          "immat": 23097,
          "l": 23097,
          "state": 23097
         },
         {
          "camera_id": 19,
          "created": "2019-02-10T00:00:00",
          "fiability": 22405,
          "immat": 22405,
          "l": 22405,
          "state": 22405
         },
         {
          "camera_id": 19,
          "created": "2019-02-11T00:00:00",
          "fiability": 26655,
          "immat": 26655,
          "l": 26655,
          "state": 26655
         },
         {
          "camera_id": 19,
          "created": "2019-02-12T00:00:00",
          "fiability": 24919,
          "immat": 24919,
          "l": 24919,
          "state": 24919
         },
         {
          "camera_id": 19,
          "created": "2019-02-13T00:00:00",
          "fiability": 24993,
          "immat": 24993,
          "l": 24993,
          "state": 24993
         }
        ]
       },
       "facet": {
        "row": {
         "field": "camera_id",
         "type": "quantitative"
        }
       },
       "spec": {
        "encoding": {
         "x": {
          "field": "created",
          "type": "temporal"
         },
         "y": {
          "field": "immat",
          "type": "quantitative"
         }
        },
        "mark": {
         "size": 20,
         "type": "bar"
        },
        "width": 800
       }
      },
      "image/png": "[encoded data removed]",
      "text/plain": [
       "<VegaLite 2 object>\n",
       "\n",
       "If you see this message, it means the renderer has not been properly enabled\n",
       "for the frontend that you are using. For more information, see\n",
       "https://altair-viz.github.io/user_guide/troubleshooting.html\n"
      ]
     },
     "execution_count": 42,
     "metadata": {},
     "output_type": "execute_result"
    }
   ],
   "source": [
    "graph_filtre_tps"
   ]
  },
  {
   "cell_type": "code",
   "execution_count": 44,
   "metadata": {},
   "outputs": [
    {
     "data": {
      "text/html": [
       "<div>\n",
       "<style scoped>\n",
       "    .dataframe tbody tr th:only-of-type {\n",
       "        vertical-align: middle;\n",
       "    }\n",
       "\n",
       "    .dataframe tbody tr th {\n",
       "        vertical-align: top;\n",
       "    }\n",
       "\n",
       "    .dataframe thead th {\n",
       "        text-align: right;\n",
       "    }\n",
       "</style>\n",
       "<table border=\"1\" class=\"dataframe\">\n",
       "  <thead>\n",
       "    <tr style=\"text-align: right;\">\n",
       "      <th></th>\n",
       "      <th>camera_id</th>\n",
       "      <th>created</th>\n",
       "      <th>immat</th>\n",
       "      <th>fiability</th>\n",
       "      <th>l</th>\n",
       "      <th>state</th>\n",
       "    </tr>\n",
       "  </thead>\n",
       "  <tbody>\n",
       "    <tr>\n",
       "      <th>278</th>\n",
       "      <td>15</td>\n",
       "      <td>2019-01-31</td>\n",
       "      <td>71</td>\n",
       "      <td>71</td>\n",
       "      <td>71</td>\n",
       "      <td>71</td>\n",
       "    </tr>\n",
       "  </tbody>\n",
       "</table>\n",
       "</div>"
      ],
      "text/plain": [
       "     camera_id    created  immat  fiability   l  state\n",
       "278         15 2019-01-31     71         71  71     71"
      ]
     },
     "execution_count": 44,
     "metadata": {},
     "output_type": "execute_result"
    }
   ],
   "source": [
    "nb_passage_j_cam.loc[(nb_passage_j_cam['created']==pd.to_datetime('2019-01-31')) & (nb_passage_j_cam['camera_id']==15)]"
   ]
  },
  {
   "cell_type": "code",
   "execution_count": 73,
   "metadata": {},
   "outputs": [
    {
     "data": {
      "application/vnd.vegalite.v2+json": {
       "$schema": "https://vega.github.io/schema/vega-lite/v2.6.0.json",
       "config": {
        "view": {
         "height": 300,
         "width": 400
        }
       },
       "datasets": {
        "data-1a42cc18dd1c9075f43e6eddc7b472d0": [
         {
          "camera_id": 71,
          "created": "2019-01-31T23:00:00",
          "fiability": 71,
          "immat": 71,
          "l": 71,
          "state": 71
         }
        ],
        "data-3a5b04e84d8f1044389e3127301d29fd": [
         {
          "camera_id": 71,
          "created": "2019-02-06T00:00:00",
          "fiability": 71,
          "immat": 71,
          "l": 71,
          "state": 71
         },
         {
          "camera_id": 69,
          "created": "2019-02-06T01:00:00",
          "fiability": 69,
          "immat": 69,
          "l": 69,
          "state": 69
         },
         {
          "camera_id": 54,
          "created": "2019-02-06T02:00:00",
          "fiability": 54,
          "immat": 54,
          "l": 54,
          "state": 54
         },
         {
          "camera_id": 106,
          "created": "2019-02-06T03:00:00",
          "fiability": 106,
          "immat": 106,
          "l": 106,
          "state": 106
         },
         {
          "camera_id": 198,
          "created": "2019-02-06T04:00:00",
          "fiability": 198,
          "immat": 198,
          "l": 198,
          "state": 198
         },
         {
          "camera_id": 488,
          "created": "2019-02-06T05:00:00",
          "fiability": 488,
          "immat": 488,
          "l": 488,
          "state": 488
         },
         {
          "camera_id": 1694,
          "created": "2019-02-06T06:00:00",
          "fiability": 1694,
          "immat": 1694,
          "l": 1694,
          "state": 1694
         },
         {
          "camera_id": 2386,
          "created": "2019-02-06T07:00:00",
          "fiability": 2386,
          "immat": 2386,
          "l": 2386,
          "state": 2386
         },
         {
          "camera_id": 1519,
          "created": "2019-02-06T08:00:00",
          "fiability": 1519,
          "immat": 1519,
          "l": 1519,
          "state": 1519
         },
         {
          "camera_id": 105,
          "created": "2019-02-06T09:00:00",
          "fiability": 105,
          "immat": 105,
          "l": 105,
          "state": 105
         },
         {
          "camera_id": 0,
          "created": "2019-02-06T10:00:00",
          "fiability": 0,
          "immat": 0,
          "l": 0,
          "state": 0
         },
         {
          "camera_id": 0,
          "created": "2019-02-06T11:00:00",
          "fiability": 0,
          "immat": 0,
          "l": 0,
          "state": 0
         },
         {
          "camera_id": 0,
          "created": "2019-02-06T12:00:00",
          "fiability": 0,
          "immat": 0,
          "l": 0,
          "state": 0
         },
         {
          "camera_id": 0,
          "created": "2019-02-06T13:00:00",
          "fiability": 0,
          "immat": 0,
          "l": 0,
          "state": 0
         },
         {
          "camera_id": 0,
          "created": "2019-02-06T14:00:00",
          "fiability": 0,
          "immat": 0,
          "l": 0,
          "state": 0
         },
         {
          "camera_id": 0,
          "created": "2019-02-06T15:00:00",
          "fiability": 0,
          "immat": 0,
          "l": 0,
          "state": 0
         },
         {
          "camera_id": 0,
          "created": "2019-02-06T16:00:00",
          "fiability": 0,
          "immat": 0,
          "l": 0,
          "state": 0
         },
         {
          "camera_id": 0,
          "created": "2019-02-06T17:00:00",
          "fiability": 0,
          "immat": 0,
          "l": 0,
          "state": 0
         },
         {
          "camera_id": 0,
          "created": "2019-02-06T18:00:00",
          "fiability": 0,
          "immat": 0,
          "l": 0,
          "state": 0
         },
         {
          "camera_id": 0,
          "created": "2019-02-06T19:00:00",
          "fiability": 0,
          "immat": 0,
          "l": 0,
          "state": 0
         },
         {
          "camera_id": 0,
          "created": "2019-02-06T20:00:00",
          "fiability": 0,
          "immat": 0,
          "l": 0,
          "state": 0
         },
         {
          "camera_id": 0,
          "created": "2019-02-06T21:00:00",
          "fiability": 0,
          "immat": 0,
          "l": 0,
          "state": 0
         },
         {
          "camera_id": 0,
          "created": "2019-02-06T22:00:00",
          "fiability": 0,
          "immat": 0,
          "l": 0,
          "state": 0
         },
         {
          "camera_id": 187,
          "created": "2019-02-06T23:00:00",
          "fiability": 187,
          "immat": 187,
          "l": 187,
          "state": 187
         }
        ],
        "data-6a0481800eaf73376cac60ba52780fbe": [
         {
          "camera_id": 867,
          "created": "2019-01-27T00:00:00",
          "fiability": 867,
          "immat": 867,
          "l": 867,
          "state": 867
         },
         {
          "camera_id": 588,
          "created": "2019-01-27T01:00:00",
          "fiability": 588,
          "immat": 588,
          "l": 588,
          "state": 588
         },
         {
          "camera_id": 286,
          "created": "2019-01-27T02:00:00",
          "fiability": 286,
          "immat": 286,
          "l": 286,
          "state": 286
         },
         {
          "camera_id": 212,
          "created": "2019-01-27T03:00:00",
          "fiability": 212,
          "immat": 212,
          "l": 212,
          "state": 212
         },
         {
          "camera_id": 229,
          "created": "2019-01-27T04:00:00",
          "fiability": 229,
          "immat": 229,
          "l": 229,
          "state": 229
         },
         {
          "camera_id": 298,
          "created": "2019-01-27T05:00:00",
          "fiability": 298,
          "immat": 298,
          "l": 298,
          "state": 298
         },
         {
          "camera_id": 264,
          "created": "2019-01-27T06:00:00",
          "fiability": 264,
          "immat": 264,
          "l": 264,
          "state": 264
         },
         {
          "camera_id": 118,
          "created": "2019-01-27T07:00:00",
          "fiability": 118,
          "immat": 118,
          "l": 118,
          "state": 118
         },
         {
          "camera_id": 34,
          "created": "2019-01-27T08:00:00",
          "fiability": 34,
          "immat": 34,
          "l": 34,
          "state": 34
         },
         {
          "camera_id": 35,
          "created": "2019-01-27T09:00:00",
          "fiability": 35,
          "immat": 35,
          "l": 35,
          "state": 35
         },
         {
          "camera_id": 45,
          "created": "2019-01-27T10:00:00",
          "fiability": 45,
          "immat": 45,
          "l": 45,
          "state": 45
         },
         {
          "camera_id": 21,
          "created": "2019-01-27T11:00:00",
          "fiability": 21,
          "immat": 21,
          "l": 21,
          "state": 21
         },
         {
          "camera_id": 30,
          "created": "2019-01-27T12:00:00",
          "fiability": 30,
          "immat": 30,
          "l": 30,
          "state": 30
         },
         {
          "camera_id": 11,
          "created": "2019-01-27T13:00:00",
          "fiability": 11,
          "immat": 11,
          "l": 11,
          "state": 11
         },
         {
          "camera_id": 853,
          "created": "2019-01-27T14:00:00",
          "fiability": 853,
          "immat": 853,
          "l": 853,
          "state": 853
         },
         {
          "camera_id": 2644,
          "created": "2019-01-27T15:00:00",
          "fiability": 2644,
          "immat": 2644,
          "l": 2644,
          "state": 2644
         },
         {
          "camera_id": 3156,
          "created": "2019-01-27T16:00:00",
          "fiability": 3156,
          "immat": 3156,
          "l": 3156,
          "state": 3156
         },
         {
          "camera_id": 2619,
          "created": "2019-01-27T17:00:00",
          "fiability": 2619,
          "immat": 2619,
          "l": 2619,
          "state": 2619
         },
         {
          "camera_id": 2017,
          "created": "2019-01-27T18:00:00",
          "fiability": 2017,
          "immat": 2017,
          "l": 2017,
          "state": 2017
         },
         {
          "camera_id": 1297,
          "created": "2019-01-27T19:00:00",
          "fiability": 1297,
          "immat": 1297,
          "l": 1297,
          "state": 1297
         },
         {
          "camera_id": 553,
          "created": "2019-01-27T20:00:00",
          "fiability": 553,
          "immat": 553,
          "l": 553,
          "state": 553
         },
         {
          "camera_id": 369,
          "created": "2019-01-27T21:00:00",
          "fiability": 369,
          "immat": 369,
          "l": 369,
          "state": 369
         },
         {
          "camera_id": 244,
          "created": "2019-01-27T22:00:00",
          "fiability": 244,
          "immat": 244,
          "l": 244,
          "state": 244
         },
         {
          "camera_id": 448,
          "created": "2019-01-27T23:00:00",
          "fiability": 448,
          "immat": 448,
          "l": 448,
          "state": 448
         }
        ],
        "data-c508f01f127d01eb5741e5333e69005b": [
         {
          "camera_id": 65,
          "created": "2019-02-01T00:00:00",
          "fiability": 65,
          "immat": 65,
          "l": 65,
          "state": 65
         },
         {
          "camera_id": 83,
          "created": "2019-02-01T01:00:00",
          "fiability": 83,
          "immat": 83,
          "l": 83,
          "state": 83
         },
         {
          "camera_id": 62,
          "created": "2019-02-01T02:00:00",
          "fiability": 62,
          "immat": 62,
          "l": 62,
          "state": 62
         },
         {
          "camera_id": 69,
          "created": "2019-02-01T03:00:00",
          "fiability": 69,
          "immat": 69,
          "l": 69,
          "state": 69
         },
         {
          "camera_id": 116,
          "created": "2019-02-01T04:00:00",
          "fiability": 116,
          "immat": 116,
          "l": 116,
          "state": 116
         },
         {
          "camera_id": 243,
          "created": "2019-02-01T05:00:00",
          "fiability": 243,
          "immat": 243,
          "l": 243,
          "state": 243
         },
         {
          "camera_id": 549,
          "created": "2019-02-01T06:00:00",
          "fiability": 549,
          "immat": 549,
          "l": 549,
          "state": 549
         },
         {
          "camera_id": 588,
          "created": "2019-02-01T07:00:00",
          "fiability": 588,
          "immat": 588,
          "l": 588,
          "state": 588
         },
         {
          "camera_id": 318,
          "created": "2019-02-01T08:00:00",
          "fiability": 318,
          "immat": 318,
          "l": 318,
          "state": 318
         },
         {
          "camera_id": 0,
          "created": "2019-02-01T09:00:00",
          "fiability": 0,
          "immat": 0,
          "l": 0,
          "state": 0
         },
         {
          "camera_id": 0,
          "created": "2019-02-01T10:00:00",
          "fiability": 0,
          "immat": 0,
          "l": 0,
          "state": 0
         },
         {
          "camera_id": 0,
          "created": "2019-02-01T11:00:00",
          "fiability": 0,
          "immat": 0,
          "l": 0,
          "state": 0
         },
         {
          "camera_id": 0,
          "created": "2019-02-01T12:00:00",
          "fiability": 0,
          "immat": 0,
          "l": 0,
          "state": 0
         },
         {
          "camera_id": 0,
          "created": "2019-02-01T13:00:00",
          "fiability": 0,
          "immat": 0,
          "l": 0,
          "state": 0
         },
         {
          "camera_id": 0,
          "created": "2019-02-01T14:00:00",
          "fiability": 0,
          "immat": 0,
          "l": 0,
          "state": 0
         },
         {
          "camera_id": 0,
          "created": "2019-02-01T15:00:00",
          "fiability": 0,
          "immat": 0,
          "l": 0,
          "state": 0
         },
         {
          "camera_id": 0,
          "created": "2019-02-01T16:00:00",
          "fiability": 0,
          "immat": 0,
          "l": 0,
          "state": 0
         },
         {
          "camera_id": 0,
          "created": "2019-02-01T17:00:00",
          "fiability": 0,
          "immat": 0,
          "l": 0,
          "state": 0
         },
         {
          "camera_id": 0,
          "created": "2019-02-01T18:00:00",
          "fiability": 0,
          "immat": 0,
          "l": 0,
          "state": 0
         },
         {
          "camera_id": 0,
          "created": "2019-02-01T19:00:00",
          "fiability": 0,
          "immat": 0,
          "l": 0,
          "state": 0
         },
         {
          "camera_id": 0,
          "created": "2019-02-01T20:00:00",
          "fiability": 0,
          "immat": 0,
          "l": 0,
          "state": 0
         },
         {
          "camera_id": 0,
          "created": "2019-02-01T21:00:00",
          "fiability": 0,
          "immat": 0,
          "l": 0,
          "state": 0
         },
         {
          "camera_id": 0,
          "created": "2019-02-01T22:00:00",
          "fiability": 0,
          "immat": 0,
          "l": 0,
          "state": 0
         },
         {
          "camera_id": 102,
          "created": "2019-02-01T23:00:00",
          "fiability": 102,
          "immat": 102,
          "l": 102,
          "state": 102
         }
        ],
        "data-c83b3b2adef1d8e7ca4c9ba037c6324e": [
         {
          "camera_id": 31,
          "created": "2019-01-24T00:00:00",
          "fiability": 31,
          "immat": 31,
          "l": 31,
          "state": 31
         },
         {
          "camera_id": 28,
          "created": "2019-01-24T01:00:00",
          "fiability": 28,
          "immat": 28,
          "l": 28,
          "state": 28
         },
         {
          "camera_id": 45,
          "created": "2019-01-24T02:00:00",
          "fiability": 45,
          "immat": 45,
          "l": 45,
          "state": 45
         },
         {
          "camera_id": 37,
          "created": "2019-01-24T03:00:00",
          "fiability": 37,
          "immat": 37,
          "l": 37,
          "state": 37
         },
         {
          "camera_id": 85,
          "created": "2019-01-24T04:00:00",
          "fiability": 85,
          "immat": 85,
          "l": 85,
          "state": 85
         },
         {
          "camera_id": 136,
          "created": "2019-01-24T05:00:00",
          "fiability": 136,
          "immat": 136,
          "l": 136,
          "state": 136
         },
         {
          "camera_id": 249,
          "created": "2019-01-24T06:00:00",
          "fiability": 249,
          "immat": 249,
          "l": 249,
          "state": 249
         },
         {
          "camera_id": 1426,
          "created": "2019-01-24T07:00:00",
          "fiability": 1426,
          "immat": 1426,
          "l": 1426,
          "state": 1426
         },
         {
          "camera_id": 1477,
          "created": "2019-01-24T08:00:00",
          "fiability": 1477,
          "immat": 1477,
          "l": 1477,
          "state": 1477
         },
         {
          "camera_id": 1369,
          "created": "2019-01-24T09:00:00",
          "fiability": 1369,
          "immat": 1369,
          "l": 1369,
          "state": 1369
         },
         {
          "camera_id": 1184,
          "created": "2019-01-24T10:00:00",
          "fiability": 1184,
          "immat": 1184,
          "l": 1184,
          "state": 1184
         },
         {
          "camera_id": 929,
          "created": "2019-01-24T11:00:00",
          "fiability": 929,
          "immat": 929,
          "l": 929,
          "state": 929
         },
         {
          "camera_id": 963,
          "created": "2019-01-24T12:00:00",
          "fiability": 963,
          "immat": 963,
          "l": 963,
          "state": 963
         },
         {
          "camera_id": 1194,
          "created": "2019-01-24T13:00:00",
          "fiability": 1194,
          "immat": 1194,
          "l": 1194,
          "state": 1194
         },
         {
          "camera_id": 1375,
          "created": "2019-01-24T14:00:00",
          "fiability": 1375,
          "immat": 1375,
          "l": 1375,
          "state": 1375
         },
         {
          "camera_id": 1889,
          "created": "2019-01-24T15:00:00",
          "fiability": 1889,
          "immat": 1889,
          "l": 1889,
          "state": 1889
         },
         {
          "camera_id": 1926,
          "created": "2019-01-24T16:00:00",
          "fiability": 1926,
          "immat": 1926,
          "l": 1926,
          "state": 1926
         },
         {
          "camera_id": 397,
          "created": "2019-01-24T17:00:00",
          "fiability": 397,
          "immat": 397,
          "l": 397,
          "state": 397
         },
         {
          "camera_id": 191,
          "created": "2019-01-24T18:00:00",
          "fiability": 191,
          "immat": 191,
          "l": 191,
          "state": 191
         },
         {
          "camera_id": 123,
          "created": "2019-01-24T19:00:00",
          "fiability": 123,
          "immat": 123,
          "l": 123,
          "state": 123
         },
         {
          "camera_id": 88,
          "created": "2019-01-24T20:00:00",
          "fiability": 88,
          "immat": 88,
          "l": 88,
          "state": 88
         },
         {
          "camera_id": 74,
          "created": "2019-01-24T21:00:00",
          "fiability": 74,
          "immat": 74,
          "l": 74,
          "state": 74
         },
         {
          "camera_id": 58,
          "created": "2019-01-24T22:00:00",
          "fiability": 58,
          "immat": 58,
          "l": 58,
          "state": 58
         },
         {
          "camera_id": 53,
          "created": "2019-01-24T23:00:00",
          "fiability": 53,
          "immat": 53,
          "l": 53,
          "state": 53
         }
        ],
        "data-dcac1ac7fd66f3613bd1058efd6b35fe": [
         {
          "camera_id": 4,
          "created": "2019-01-29T00:00:00",
          "fiability": 4,
          "immat": 4,
          "l": 4,
          "state": 4
         },
         {
          "camera_id": 7,
          "created": "2019-01-29T01:00:00",
          "fiability": 7,
          "immat": 7,
          "l": 7,
          "state": 7
         },
         {
          "camera_id": 6,
          "created": "2019-01-29T02:00:00",
          "fiability": 6,
          "immat": 6,
          "l": 6,
          "state": 6
         },
         {
          "camera_id": 6,
          "created": "2019-01-29T03:00:00",
          "fiability": 6,
          "immat": 6,
          "l": 6,
          "state": 6
         },
         {
          "camera_id": 19,
          "created": "2019-01-29T04:00:00",
          "fiability": 19,
          "immat": 19,
          "l": 19,
          "state": 19
         },
         {
          "camera_id": 50,
          "created": "2019-01-29T05:00:00",
          "fiability": 50,
          "immat": 50,
          "l": 50,
          "state": 50
         },
         {
          "camera_id": 26,
          "created": "2019-01-29T06:00:00",
          "fiability": 26,
          "immat": 26,
          "l": 26,
          "state": 26
         },
         {
          "camera_id": 775,
          "created": "2019-01-29T07:00:00",
          "fiability": 775,
          "immat": 775,
          "l": 775,
          "state": 775
         },
         {
          "camera_id": 2014,
          "created": "2019-01-29T08:00:00",
          "fiability": 2014,
          "immat": 2014,
          "l": 2014,
          "state": 2014
         },
         {
          "camera_id": 1950,
          "created": "2019-01-29T09:00:00",
          "fiability": 1950,
          "immat": 1950,
          "l": 1950,
          "state": 1950
         },
         {
          "camera_id": 1884,
          "created": "2019-01-29T10:00:00",
          "fiability": 1884,
          "immat": 1884,
          "l": 1884,
          "state": 1884
         },
         {
          "camera_id": 1683,
          "created": "2019-01-29T11:00:00",
          "fiability": 1683,
          "immat": 1683,
          "l": 1683,
          "state": 1683
         },
         {
          "camera_id": 1925,
          "created": "2019-01-29T12:00:00",
          "fiability": 1925,
          "immat": 1925,
          "l": 1925,
          "state": 1925
         },
         {
          "camera_id": 1810,
          "created": "2019-01-29T13:00:00",
          "fiability": 1810,
          "immat": 1810,
          "l": 1810,
          "state": 1810
         },
         {
          "camera_id": 1862,
          "created": "2019-01-29T14:00:00",
          "fiability": 1862,
          "immat": 1862,
          "l": 1862,
          "state": 1862
         },
         {
          "camera_id": 1961,
          "created": "2019-01-29T15:00:00",
          "fiability": 1961,
          "immat": 1961,
          "l": 1961,
          "state": 1961
         },
         {
          "camera_id": 1892,
          "created": "2019-01-29T16:00:00",
          "fiability": 1892,
          "immat": 1892,
          "l": 1892,
          "state": 1892
         },
         {
          "camera_id": 253,
          "created": "2019-01-29T17:00:00",
          "fiability": 253,
          "immat": 253,
          "l": 253,
          "state": 253
         },
         {
          "camera_id": 6,
          "created": "2019-01-29T18:00:00",
          "fiability": 6,
          "immat": 6,
          "l": 6,
          "state": 6
         },
         {
          "camera_id": 0,
          "created": "2019-01-29T19:00:00",
          "fiability": 0,
          "immat": 0,
          "l": 0,
          "state": 0
         },
         {
          "camera_id": 0,
          "created": "2019-01-29T20:00:00",
          "fiability": 0,
          "immat": 0,
          "l": 0,
          "state": 0
         },
         {
          "camera_id": 0,
          "created": "2019-01-29T21:00:00",
          "fiability": 0,
          "immat": 0,
          "l": 0,
          "state": 0
         },
         {
          "camera_id": 0,
          "created": "2019-01-29T22:00:00",
          "fiability": 0,
          "immat": 0,
          "l": 0,
          "state": 0
         },
         {
          "camera_id": 0,
          "created": "2019-01-29T23:00:00",
          "fiability": 0,
          "immat": 0,
          "l": 0,
          "state": 0
         },
         {
          "camera_id": 0,
          "created": "2019-01-30T00:00:00",
          "fiability": 0,
          "immat": 0,
          "l": 0,
          "state": 0
         },
         {
          "camera_id": 0,
          "created": "2019-01-30T01:00:00",
          "fiability": 0,
          "immat": 0,
          "l": 0,
          "state": 0
         },
         {
          "camera_id": 0,
          "created": "2019-01-30T02:00:00",
          "fiability": 0,
          "immat": 0,
          "l": 0,
          "state": 0
         },
         {
          "camera_id": 0,
          "created": "2019-01-30T03:00:00",
          "fiability": 0,
          "immat": 0,
          "l": 0,
          "state": 0
         },
         {
          "camera_id": 0,
          "created": "2019-01-30T04:00:00",
          "fiability": 0,
          "immat": 0,
          "l": 0,
          "state": 0
         },
         {
          "camera_id": 0,
          "created": "2019-01-30T05:00:00",
          "fiability": 0,
          "immat": 0,
          "l": 0,
          "state": 0
         },
         {
          "camera_id": 0,
          "created": "2019-01-30T06:00:00",
          "fiability": 0,
          "immat": 0,
          "l": 0,
          "state": 0
         },
         {
          "camera_id": 0,
          "created": "2019-01-30T07:00:00",
          "fiability": 0,
          "immat": 0,
          "l": 0,
          "state": 0
         },
         {
          "camera_id": 0,
          "created": "2019-01-30T08:00:00",
          "fiability": 0,
          "immat": 0,
          "l": 0,
          "state": 0
         },
         {
          "camera_id": 0,
          "created": "2019-01-30T09:00:00",
          "fiability": 0,
          "immat": 0,
          "l": 0,
          "state": 0
         },
         {
          "camera_id": 0,
          "created": "2019-01-30T10:00:00",
          "fiability": 0,
          "immat": 0,
          "l": 0,
          "state": 0
         },
         {
          "camera_id": 0,
          "created": "2019-01-30T11:00:00",
          "fiability": 0,
          "immat": 0,
          "l": 0,
          "state": 0
         },
         {
          "camera_id": 0,
          "created": "2019-01-30T12:00:00",
          "fiability": 0,
          "immat": 0,
          "l": 0,
          "state": 0
         },
         {
          "camera_id": 0,
          "created": "2019-01-30T13:00:00",
          "fiability": 0,
          "immat": 0,
          "l": 0,
          "state": 0
         },
         {
          "camera_id": 0,
          "created": "2019-01-30T14:00:00",
          "fiability": 0,
          "immat": 0,
          "l": 0,
          "state": 0
         },
         {
          "camera_id": 185,
          "created": "2019-01-30T15:00:00",
          "fiability": 185,
          "immat": 185,
          "l": 185,
          "state": 185
         },
         {
          "camera_id": 1821,
          "created": "2019-01-30T16:00:00",
          "fiability": 1821,
          "immat": 1821,
          "l": 1821,
          "state": 1821
         },
         {
          "camera_id": 1525,
          "created": "2019-01-30T17:00:00",
          "fiability": 1525,
          "immat": 1525,
          "l": 1525,
          "state": 1525
         },
         {
          "camera_id": 1389,
          "created": "2019-01-30T18:00:00",
          "fiability": 1389,
          "immat": 1389,
          "l": 1389,
          "state": 1389
         },
         {
          "camera_id": 1069,
          "created": "2019-01-30T19:00:00",
          "fiability": 1069,
          "immat": 1069,
          "l": 1069,
          "state": 1069
         },
         {
          "camera_id": 738,
          "created": "2019-01-30T20:00:00",
          "fiability": 738,
          "immat": 738,
          "l": 738,
          "state": 738
         },
         {
          "camera_id": 516,
          "created": "2019-01-30T21:00:00",
          "fiability": 516,
          "immat": 516,
          "l": 516,
          "state": 516
         },
         {
          "camera_id": 405,
          "created": "2019-01-30T22:00:00",
          "fiability": 405,
          "immat": 405,
          "l": 405,
          "state": 405
         },
         {
          "camera_id": 323,
          "created": "2019-01-30T23:00:00",
          "fiability": 323,
          "immat": 323,
          "l": 323,
          "state": 323
         }
        ],
        "data-fb8a8f705ddc0f931f6da5366047efe9": [
         {
          "camera_id": 48,
          "created": "2019-02-06T00:00:00",
          "fiability": 48,
          "immat": 48,
          "l": 48,
          "state": 48
         },
         {
          "camera_id": 60,
          "created": "2019-02-06T01:00:00",
          "fiability": 60,
          "immat": 60,
          "l": 60,
          "state": 60
         },
         {
          "camera_id": 103,
          "created": "2019-02-06T02:00:00",
          "fiability": 103,
          "immat": 103,
          "l": 103,
          "state": 103
         },
         {
          "camera_id": 264,
          "created": "2019-02-06T03:00:00",
          "fiability": 264,
          "immat": 264,
          "l": 264,
          "state": 264
         },
         {
          "camera_id": 553,
          "created": "2019-02-06T04:00:00",
          "fiability": 553,
          "immat": 553,
          "l": 553,
          "state": 553
         },
         {
          "camera_id": 1819,
          "created": "2019-02-06T05:00:00",
          "fiability": 1819,
          "immat": 1819,
          "l": 1819,
          "state": 1819
         },
         {
          "camera_id": 2198,
          "created": "2019-02-06T06:00:00",
          "fiability": 2198,
          "immat": 2198,
          "l": 2198,
          "state": 2198
         },
         {
          "camera_id": 2111,
          "created": "2019-02-06T07:00:00",
          "fiability": 2111,
          "immat": 2111,
          "l": 2111,
          "state": 2111
         },
         {
          "camera_id": 1664,
          "created": "2019-02-06T08:00:00",
          "fiability": 1664,
          "immat": 1664,
          "l": 1664,
          "state": 1664
         },
         {
          "camera_id": 112,
          "created": "2019-02-06T09:00:00",
          "fiability": 112,
          "immat": 112,
          "l": 112,
          "state": 112
         },
         {
          "camera_id": 0,
          "created": "2019-02-06T10:00:00",
          "fiability": 0,
          "immat": 0,
          "l": 0,
          "state": 0
         },
         {
          "camera_id": 0,
          "created": "2019-02-06T11:00:00",
          "fiability": 0,
          "immat": 0,
          "l": 0,
          "state": 0
         },
         {
          "camera_id": 0,
          "created": "2019-02-06T12:00:00",
          "fiability": 0,
          "immat": 0,
          "l": 0,
          "state": 0
         },
         {
          "camera_id": 0,
          "created": "2019-02-06T13:00:00",
          "fiability": 0,
          "immat": 0,
          "l": 0,
          "state": 0
         },
         {
          "camera_id": 0,
          "created": "2019-02-06T14:00:00",
          "fiability": 0,
          "immat": 0,
          "l": 0,
          "state": 0
         },
         {
          "camera_id": 0,
          "created": "2019-02-06T15:00:00",
          "fiability": 0,
          "immat": 0,
          "l": 0,
          "state": 0
         },
         {
          "camera_id": 0,
          "created": "2019-02-06T16:00:00",
          "fiability": 0,
          "immat": 0,
          "l": 0,
          "state": 0
         },
         {
          "camera_id": 0,
          "created": "2019-02-06T17:00:00",
          "fiability": 0,
          "immat": 0,
          "l": 0,
          "state": 0
         },
         {
          "camera_id": 0,
          "created": "2019-02-06T18:00:00",
          "fiability": 0,
          "immat": 0,
          "l": 0,
          "state": 0
         },
         {
          "camera_id": 0,
          "created": "2019-02-06T19:00:00",
          "fiability": 0,
          "immat": 0,
          "l": 0,
          "state": 0
         },
         {
          "camera_id": 0,
          "created": "2019-02-06T20:00:00",
          "fiability": 0,
          "immat": 0,
          "l": 0,
          "state": 0
         },
         {
          "camera_id": 0,
          "created": "2019-02-06T21:00:00",
          "fiability": 0,
          "immat": 0,
          "l": 0,
          "state": 0
         },
         {
          "camera_id": 0,
          "created": "2019-02-06T22:00:00",
          "fiability": 0,
          "immat": 0,
          "l": 0,
          "state": 0
         },
         {
          "camera_id": 98,
          "created": "2019-02-06T23:00:00",
          "fiability": 98,
          "immat": 98,
          "l": 98,
          "state": 98
         }
        ],
        "data-fff29ea6b0b53ed4c32db7ebf4e7cdcd": [
         {
          "camera_id": 146,
          "created": "2019-01-31T00:00:00",
          "fiability": 146,
          "immat": 146,
          "l": 146,
          "state": 146
         },
         {
          "camera_id": 148,
          "created": "2019-01-31T01:00:00",
          "fiability": 148,
          "immat": 148,
          "l": 148,
          "state": 148
         },
         {
          "camera_id": 144,
          "created": "2019-01-31T02:00:00",
          "fiability": 144,
          "immat": 144,
          "l": 144,
          "state": 144
         },
         {
          "camera_id": 253,
          "created": "2019-01-31T03:00:00",
          "fiability": 253,
          "immat": 253,
          "l": 253,
          "state": 253
         },
         {
          "camera_id": 506,
          "created": "2019-01-31T04:00:00",
          "fiability": 506,
          "immat": 506,
          "l": 506,
          "state": 506
         },
         {
          "camera_id": 1294,
          "created": "2019-01-31T05:00:00",
          "fiability": 1294,
          "immat": 1294,
          "l": 1294,
          "state": 1294
         },
         {
          "camera_id": 2716,
          "created": "2019-01-31T06:00:00",
          "fiability": 2716,
          "immat": 2716,
          "l": 2716,
          "state": 2716
         },
         {
          "camera_id": 2307,
          "created": "2019-01-31T07:00:00",
          "fiability": 2307,
          "immat": 2307,
          "l": 2307,
          "state": 2307
         },
         {
          "camera_id": 1809,
          "created": "2019-01-31T08:00:00",
          "fiability": 1809,
          "immat": 1809,
          "l": 1809,
          "state": 1809
         },
         {
          "camera_id": 1577,
          "created": "2019-01-31T09:00:00",
          "fiability": 1577,
          "immat": 1577,
          "l": 1577,
          "state": 1577
         },
         {
          "camera_id": 1545,
          "created": "2019-01-31T10:00:00",
          "fiability": 1545,
          "immat": 1545,
          "l": 1545,
          "state": 1545
         },
         {
          "camera_id": 1346,
          "created": "2019-01-31T11:00:00",
          "fiability": 1346,
          "immat": 1346,
          "l": 1346,
          "state": 1346
         },
         {
          "camera_id": 1507,
          "created": "2019-01-31T12:00:00",
          "fiability": 1507,
          "immat": 1507,
          "l": 1507,
          "state": 1507
         },
         {
          "camera_id": 1541,
          "created": "2019-01-31T13:00:00",
          "fiability": 1541,
          "immat": 1541,
          "l": 1541,
          "state": 1541
         },
         {
          "camera_id": 1648,
          "created": "2019-01-31T14:00:00",
          "fiability": 1648,
          "immat": 1648,
          "l": 1648,
          "state": 1648
         },
         {
          "camera_id": 1767,
          "created": "2019-01-31T15:00:00",
          "fiability": 1767,
          "immat": 1767,
          "l": 1767,
          "state": 1767
         },
         {
          "camera_id": 1766,
          "created": "2019-01-31T16:00:00",
          "fiability": 1766,
          "immat": 1766,
          "l": 1766,
          "state": 1766
         },
         {
          "camera_id": 1452,
          "created": "2019-01-31T17:00:00",
          "fiability": 1452,
          "immat": 1452,
          "l": 1452,
          "state": 1452
         },
         {
          "camera_id": 1110,
          "created": "2019-01-31T18:00:00",
          "fiability": 1110,
          "immat": 1110,
          "l": 1110,
          "state": 1110
         },
         {
          "camera_id": 717,
          "created": "2019-01-31T19:00:00",
          "fiability": 717,
          "immat": 717,
          "l": 717,
          "state": 717
         },
         {
          "camera_id": 439,
          "created": "2019-01-31T20:00:00",
          "fiability": 439,
          "immat": 439,
          "l": 439,
          "state": 439
         },
         {
          "camera_id": 304,
          "created": "2019-01-31T21:00:00",
          "fiability": 304,
          "immat": 304,
          "l": 304,
          "state": 304
         },
         {
          "camera_id": 230,
          "created": "2019-01-31T22:00:00",
          "fiability": 230,
          "immat": 230,
          "l": 230,
          "state": 230
         },
         {
          "camera_id": 130,
          "created": "2019-01-31T23:00:00",
          "fiability": 130,
          "immat": 130,
          "l": 130,
          "state": 130
         }
        ]
       },
       "vconcat": [
        {
         "data": {
          "name": "data-6a0481800eaf73376cac60ba52780fbe"
         },
         "encoding": {
          "x": {
           "field": "created",
           "type": "temporal"
          },
          "y": {
           "field": "immat",
           "type": "quantitative"
          }
         },
         "mark": "bar",
         "title": "27/01 cam 4"
        },
        {
         "data": {
          "name": "data-dcac1ac7fd66f3613bd1058efd6b35fe"
         },
         "encoding": {
          "x": {
           "field": "created",
           "type": "temporal"
          },
          "y": {
           "field": "immat",
           "type": "quantitative"
          }
         },
         "mark": "bar",
         "title": "29 - 30/01 cam 6"
        },
        {
         "data": {
          "name": "data-3a5b04e84d8f1044389e3127301d29fd"
         },
         "encoding": {
          "x": {
           "field": "created",
           "type": "temporal"
          },
          "y": {
           "field": "immat",
           "type": "quantitative"
          }
         },
         "mark": "bar",
         "title": "06/02 cam 7"
        },
        {
         "data": {
          "name": "data-fb8a8f705ddc0f931f6da5366047efe9"
         },
         "encoding": {
          "x": {
           "field": "created",
           "type": "temporal"
          },
          "y": {
           "field": "immat",
           "type": "quantitative"
          }
         },
         "mark": "bar",
         "title": "06/02 cam 8"
        },
        {
         "data": {
          "name": "data-c508f01f127d01eb5741e5333e69005b"
         },
         "encoding": {
          "x": {
           "field": "created",
           "type": "temporal"
          },
          "y": {
           "field": "immat",
           "type": "quantitative"
          }
         },
         "mark": "bar",
         "title": "01/02 cam 11"
        },
        {
         "data": {
          "name": "data-1a42cc18dd1c9075f43e6eddc7b472d0"
         },
         "encoding": {
          "x": {
           "field": "created",
           "type": "temporal"
          },
          "y": {
           "field": "immat",
           "type": "quantitative"
          }
         },
         "mark": "bar",
         "title": "31/01 cam 15"
        },
        {
         "data": {
          "name": "data-c83b3b2adef1d8e7ca4c9ba037c6324e"
         },
         "encoding": {
          "x": {
           "field": "created",
           "type": "temporal"
          },
          "y": {
           "field": "immat",
           "type": "quantitative"
          }
         },
         "mark": "bar",
         "title": "24/01 cam 19"
        },
        {
         "data": {
          "name": "data-fff29ea6b0b53ed4c32db7ebf4e7cdcd"
         },
         "encoding": {
          "x": {
           "field": "created",
           "type": "temporal"
          },
          "y": {
           "field": "immat",
           "type": "quantitative"
          }
         },
         "mark": "bar",
         "title": "31/01 cam 19"
        }
       ]
      },
      "image/png": "[encoded data removed]",
      "text/plain": [
       "<VegaLite 2 object>\n",
       "\n",
       "If you see this message, it means the renderer has not been properly enabled\n",
       "for the frontend that you are using. For more information, see\n",
       "https://altair-viz.github.io/user_guide/troubleshooting.html\n"
      ]
     },
     "execution_count": 73,
     "metadata": {},
     "output_type": "execute_result"
    }
   ],
   "source": [
    "alt.VConcatChart(vconcat=([\n",
    "alt.Chart(df_passages.loc[(df_passages['created'].between('2019-01-27 00:00:00', '2019-01-27 23:59:59')) & \n",
    "                 (df_passages['camera_id']==4)].set_index('created').resample('H').count().reset_index(),title='27/01 cam 4').mark_bar().encode(\n",
    "                   x='created',\n",
    "                    y='immat' ), \n",
    "alt.Chart(df_passages.loc[(df_passages['created'].between('2019-01-29 00:00:00', '2019-01-30 23:59:59')) & \n",
    "                 (df_passages['camera_id']==6)].set_index('created').resample('H').count().reset_index(), title='29 - 30/01 cam 6').mark_bar().encode(\n",
    "                   x='created',\n",
    "                    y='immat' ),\n",
    "alt.Chart(df_passages.loc[(df_passages['created'].between('2019-02-06 00:00:00', '2019-02-06 23:59:59')) & \n",
    "                 (df_passages['camera_id']==7)].set_index('created').resample('H').count().reset_index(),title='06/02 cam 7').mark_bar().encode(\n",
    "                   x='created',\n",
    "                    y='immat' ) ,\n",
    "alt.Chart(df_passages.loc[(df_passages['created'].between('2019-02-06 00:00:00', '2019-02-06 23:59:59')) & \n",
    "                 (df_passages['camera_id']==8)].set_index('created').resample('H').count().reset_index(),title='06/02 cam 8').mark_bar().encode(\n",
    "                   x='created',\n",
    "                    y='immat' ),\n",
    "alt.Chart(df_passages.loc[(df_passages['created'].between('2019-02-01 00:00:00', '2019-02-01 23:59:59')) & \n",
    "                 (df_passages['camera_id']==11)].set_index('created').resample('H').count().reset_index(),title='01/02 cam 11').mark_bar().encode(\n",
    "                   x='created',\n",
    "                    y='immat' ),\n",
    "alt.Chart(df_passages.loc[(df_passages['created'].between('2019-01-31 00:00:00', '2019-01-31 23:59:59')) & \n",
    "                 (df_passages['camera_id']==15)].set_index('created').resample('H').count().reset_index(),title='31/01 cam 15').mark_bar().encode(\n",
    "                   x='created',\n",
    "                    y='immat' ),\n",
    "alt.Chart(df_passages.loc[(df_passages['created'].between('2019-01-24 00:00:00', '2019-01-24 23:59:59')) & \n",
    "                 (df_passages['camera_id']==19)].set_index('created').resample('H').count().reset_index(),title='24/01 cam 19').mark_bar().encode(\n",
    "                   x='created',\n",
    "                    y='immat' ),\n",
    "alt.Chart(df_passages.loc[(df_passages['created'].between('2019-01-31 00:00:00', '2019-01-31 23:59:59')) & \n",
    "                 (df_passages['camera_id']==19)].set_index('created').resample('H').count().reset_index(),title='31/01 cam 19').mark_bar().encode(\n",
    "                   x='created',\n",
    "                    y='immat' )\n",
    "                          \n",
    "                          ]))"
   ]
  },
  {
   "cell_type": "code",
   "execution_count": null,
   "metadata": {},
   "outputs": [],
   "source": []
  }
 ],
 "metadata": {
  "kernelspec": {
   "display_name": "Python 3",
   "language": "python",
   "name": "python3"
  },
  "language_info": {
   "codemirror_mode": {
    "name": "ipython",
    "version": 3
   },
   "file_extension": ".py",
   "mimetype": "text/x-python",
   "name": "python",
   "nbconvert_exporter": "python",
   "pygments_lexer": "ipython3",
   "version": "3.7.2"
  }
 },
 "nbformat": 4,
 "nbformat_minor": 2
}
