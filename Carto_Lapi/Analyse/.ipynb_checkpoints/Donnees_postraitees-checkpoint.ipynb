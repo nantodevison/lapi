{
 "cells": [
  {
   "cell_type": "markdown",
   "metadata": {},
   "source": [
    "# Notebook de test des données lapi post-traitees"
   ]
  },
  {
   "cell_type": "code",
   "execution_count": 1,
   "metadata": {},
   "outputs": [],
   "source": [
    "%load_ext autoreload\n",
    "%autoreload \n",
    "import sys #c'est pas propre mais pour le moment pour importer mes modules perso dans le notebook je ne sais pas faire\n",
    "sys.path.append(r'C:\\Users\\martin.schoreisz\\git\\Outils\\Outils\\Martin_Perso')\n",
    "import Connexion_Transfert as ct\n",
    "import donnees_posttraitees as t\n",
    "import graphs as g\n",
    "import pandas as pd\n",
    "import geopandas as gpd\n",
    "import numpy as np\n",
    "import altair as alt\n",
    "import datetime as dt\n",
    "pd.set_option('display.max_colwidth', 1000)\n",
    "import os, math\n",
    "from sklearn.cluster import DBSCAN"
   ]
  },
  {
   "cell_type": "markdown",
   "metadata": {},
   "source": [
    "# 1. import des données, traitement de mise en forme\n",
    "## 1.1 Import\n",
    "Les données sont importées sur la période du 24/01/19 au 23/02/19, sur laquelle il n'y a pas de manque de données à priori"
   ]
  },
  {
   "cell_type": "code",
   "execution_count": 2,
   "metadata": {},
   "outputs": [
    {
     "name": "stdout",
     "output_type": "stream",
     "text": [
      "Wall time: 53.9 s\n"
     ]
    }
   ],
   "source": [
    "%time df_passages, df_plaques, df_immat=t.ouvrir_fichier_lapi_final('2019-01-28 00:00:00','2019-02-4 23:59:59')"
   ]
  },
  {
   "cell_type": "markdown",
   "metadata": {},
   "source": [
    "## 1.2. Suppression des doublons"
   ]
  },
  {
   "cell_type": "code",
   "execution_count": 3,
   "metadata": {},
   "outputs": [
    {
     "name": "stdout",
     "output_type": "stream",
     "text": [
      "Wall time: 23.8 s\n"
     ]
    }
   ],
   "source": [
    "%time df_passages=t.supprimer_doublons(df_passages)"
   ]
  },
  {
   "cell_type": "markdown",
   "metadata": {},
   "source": [
    "## 1.3 Ajout de l'attribut de différenciation VL / PL"
   ]
  },
  {
   "cell_type": "code",
   "execution_count": 5,
   "metadata": {},
   "outputs": [
    {
     "name": "stdout",
     "output_type": "stream",
     "text": [
      "Wall time: 1min 47s\n"
     ]
    }
   ],
   "source": [
    "%time df_passages2=t.affecter_type(df_passages,df_immat)"
   ]
  },
  {
   "cell_type": "markdown",
   "metadata": {},
   "source": [
    "***ATTENTION : ENCORE 18764 IMMATRCULATION COURTE PRESENTES DANS TE_PASSAGES ET NON PRENSENTES DANS TE_PLAQUES_COURTE :***"
   ]
  },
  {
   "cell_type": "code",
   "execution_count": 69,
   "metadata": {},
   "outputs": [],
   "source": [
    "df_passages2.loc[df_passages2.immatriculation.isna()].merge(df_plaques, left_on='immat', right_on='chiffree').to_csv(\n",
    "    r'Q:\\DAIT\\TI\\DREAL33\\2018\\C17SI0073_LAPI\\donnees_verif_fiabilite\\immatriculation_manquante.csv')"
   ]
  },
  {
   "cell_type": "markdown",
   "metadata": {},
   "source": [
    "***ATTENTION : PLUS DE 1M D'IMMATRCULATION SANS VALEUR DE VL_TOT ou PL_TOT ou VUL_TOT :***"
   ]
  },
  {
   "cell_type": "code",
   "execution_count": 83,
   "metadata": {},
   "outputs": [],
   "source": [
    "df_passages2.loc[df_passages2['l']==-1].head(50000).to_csv(\n",
    "    r'Q:\\DAIT\\TI\\DREAL33\\2018\\C17SI0073_LAPI\\donnees_verif_fiabilite\\pas_de_type_vehicule.csv')"
   ]
  },
  {
   "cell_type": "markdown",
   "metadata": {},
   "source": [
    "# 2. Identifier les trajets de transit"
   ]
  },
  {
   "cell_type": "code",
   "execution_count": 6,
   "metadata": {},
   "outputs": [
    {
     "name": "stdout",
     "output_type": "stream",
     "text": [
      "date : 2019-01-28 00:00:00 debut_traitement : 2019-05-15 15:48:45.078516\n",
      "date : 2019-01-29 00:00:00 debut_traitement : 2019-05-15 15:49:34.187012\n",
      "date : 2019-01-30 00:00:00 debut_traitement : 2019-05-15 15:50:31.409254\n",
      "date : 2019-01-31 00:00:00 debut_traitement : 2019-05-15 15:51:29.318151\n",
      "date : 2019-02-01 00:00:00 debut_traitement : 2019-05-15 15:52:40.583178\n",
      "date : 2019-02-02 00:00:00 debut_traitement : 2019-05-15 15:53:49.762147\n",
      "date : 2019-02-03 00:00:00 debut_traitement : 2019-05-15 15:54:52.581256\n"
     ]
    }
   ],
   "source": [
    "dico_od,  dico_passag, dico_tps_max=t.transit_temps_complet('2019-01-28 00:00:00',7,df_passages2)"
   ]
  },
  {
   "cell_type": "markdown",
   "metadata": {},
   "source": [
    "# 3. Filtrer les trajets selon un temps de parcours"
   ]
  },
  {
   "cell_type": "code",
   "execution_count": 7,
   "metadata": {},
   "outputs": [],
   "source": [
    "#df des temsp de parcours\n",
    "dixco_tpsmax_corrige=t.corriger_df_tps_parcours(dico_tps_max)"
   ]
  },
  {
   "cell_type": "markdown",
   "metadata": {},
   "source": [
    "***Ici on pourra caracteriser l'impact de la marge***"
   ]
  },
  {
   "cell_type": "code",
   "execution_count": 8,
   "metadata": {},
   "outputs": [
    {
     "name": "stdout",
     "output_type": "stream",
     "text": [
      "Wall time: 40.9 s\n"
     ]
    }
   ],
   "source": [
    "# df complete avec l'atribut filtre\n",
    "%time df_transit_avec_filtre=t.jointure_temps_reel_theorique(dico_od,dixco_tpsmax_corrige,t.liste_complete_trajet, 15)"
   ]
  },
  {
   "cell_type": "code",
   "execution_count": 9,
   "metadata": {},
   "outputs": [],
   "source": [
    "#filtrer le df : \n",
    "dico_od_final=df_transit_avec_filtre.loc[df_transit_avec_filtre['filtre_tps']==1]\n",
    "dico_passag_final=t.trajet2passage(dico_od_final,dico_passag)"
   ]
  },
  {
   "cell_type": "markdown",
   "metadata": {},
   "source": [
    "# 4. Correction des trajets depuis ou vers A660 relatifs à A63"
   ]
  },
  {
   "cell_type": "code",
   "execution_count": 10,
   "metadata": {},
   "outputs": [
    {
     "name": "stdout",
     "output_type": "stream",
     "text": [
      "Wall time: 7min 43s\n"
     ]
    }
   ],
   "source": [
    "%time df_od_corrige=t.correction_trajet(df_passages2, dico_od_final)"
   ]
  },
  {
   "cell_type": "markdown",
   "metadata": {},
   "source": [
    "# 5. Extrapolation des trajets non complets"
   ]
  },
  {
   "cell_type": "code",
   "execution_count": 11,
   "metadata": {},
   "outputs": [
    {
     "name": "stdout",
     "output_type": "stream",
     "text": [
      "Wall time: 26.7 s\n"
     ]
    }
   ],
   "source": [
    "#creer les donnees necessaires\n",
    "%time df_filtre_A63,df_passage_transit,df_non_transit=t.param_trajet_incomplet('2019-01-28 00:00:00',df_od_corrige,df_passages2,dico_passag)"
   ]
  },
  {
   "cell_type": "code",
   "execution_count": 12,
   "metadata": {},
   "outputs": [
    {
     "name": "stdout",
     "output_type": "stream",
     "text": [
      "date : 2019-01-28 00:00:00 debut_traitement : 2019-05-15 16:09:38.206212\n",
      "date : 2019-01-29 00:00:00 debut_traitement : 2019-05-15 16:10:09.388019\n",
      "date : 2019-01-30 00:00:00 debut_traitement : 2019-05-15 16:10:27.149464\n",
      "date : 2019-01-31 00:00:00 debut_traitement : 2019-05-15 16:10:39.084160\n",
      "date : 2019-02-01 00:00:00 debut_traitement : 2019-05-15 16:10:52.143587\n",
      "date : 2019-02-02 00:00:00 debut_traitement : 2019-05-15 16:11:06.171542\n",
      "date : 2019-02-03 00:00:00 debut_traitement : 2019-05-15 16:11:13.513562\n",
      "Wall time: 1min 41s\n"
     ]
    }
   ],
   "source": [
    "#trajet de transit incomplet sans filtre sur temps de parcours\n",
    "%time trajet_transit_incomplet2, passage2=t.transit_trajet_incomplet(df_filtre_A63,df_passage_transit,'2019-01-28 00:00:00',7, df_passages2)"
   ]
  },
  {
   "cell_type": "code",
   "execution_count": 13,
   "metadata": {},
   "outputs": [],
   "source": [
    "#filtrer selon le temps de parcours\n",
    "trajet_transit_incomplet_filtre_temps=t.jointure_temps_reel_theorique(trajet_transit_incomplet2,dixco_tpsmax_corrige,t.liste_trajet_incomplet, 15,'incomplet')\n",
    "#mettre en forme les attributs\n",
    "trajet_transit_incomplet_filtre_temps=trajet_transit_incomplet_filtre_temps[['date_cam_1', 'immat', 'state', 'l', 'date_cam_2', 'cameras', 'origine',\n",
    "       'destination', 'o_d', 'tps_parcours', 'period', 'date', 'temps', 'type',\n",
    "       'tps_parcours_theoriq', 'filtre_tps']]"
   ]
  },
  {
   "cell_type": "code",
   "execution_count": 14,
   "metadata": {},
   "outputs": [],
   "source": [
    "#filtrer le df : \n",
    "trajet_transit_incomplet_final=trajet_transit_incomplet_filtre_temps.loc[trajet_transit_incomplet_filtre_temps['filtre_tps']==1].copy()\n",
    "#ajouter l'attribut d'identification des trajets \n",
    "trajet_transit_incomplet_final['correction_o_d']=True\n",
    "trajet_transit_incomplet_final['correction_o_d_type']='extrapole'\n",
    "#6. Ajouter au df des o_d précédents : \n",
    "df_od_final=pd.concat([df_od_corrige,trajet_transit_incomplet_final],sort=False)"
   ]
  },
  {
   "cell_type": "markdown",
   "metadata": {},
   "source": [
    "# 6. Créer le tableaude matrice o_d"
   ]
  },
  {
   "cell_type": "code",
   "execution_count": 24,
   "metadata": {},
   "outputs": [
    {
     "data": {
      "text/html": [
       "<div>\n",
       "<style scoped>\n",
       "    .dataframe tbody tr th:only-of-type {\n",
       "        vertical-align: middle;\n",
       "    }\n",
       "\n",
       "    .dataframe tbody tr th {\n",
       "        vertical-align: top;\n",
       "    }\n",
       "\n",
       "    .dataframe thead th {\n",
       "        text-align: right;\n",
       "    }\n",
       "</style>\n",
       "<table border=\"1\" class=\"dataframe\">\n",
       "  <thead>\n",
       "    <tr style=\"text-align: right;\">\n",
       "      <th>destination</th>\n",
       "      <th>A10</th>\n",
       "      <th>A62</th>\n",
       "      <th>A63</th>\n",
       "      <th>A660</th>\n",
       "      <th>A89</th>\n",
       "      <th>N10</th>\n",
       "      <th>All</th>\n",
       "    </tr>\n",
       "    <tr>\n",
       "      <th>origine</th>\n",
       "      <th></th>\n",
       "      <th></th>\n",
       "      <th></th>\n",
       "      <th></th>\n",
       "      <th></th>\n",
       "      <th></th>\n",
       "      <th></th>\n",
       "    </tr>\n",
       "  </thead>\n",
       "  <tbody>\n",
       "    <tr>\n",
       "      <th>A10</th>\n",
       "      <td>NC</td>\n",
       "      <td>1513</td>\n",
       "      <td>2332</td>\n",
       "      <td>682</td>\n",
       "      <td>78</td>\n",
       "      <td>NC</td>\n",
       "      <td>4605</td>\n",
       "    </tr>\n",
       "    <tr>\n",
       "      <th>A62</th>\n",
       "      <td>618</td>\n",
       "      <td>NC</td>\n",
       "      <td>123</td>\n",
       "      <td>320</td>\n",
       "      <td>145</td>\n",
       "      <td>1047</td>\n",
       "      <td>2253</td>\n",
       "    </tr>\n",
       "    <tr>\n",
       "      <th>A63</th>\n",
       "      <td>1739</td>\n",
       "      <td>79</td>\n",
       "      <td>NC</td>\n",
       "      <td>NC</td>\n",
       "      <td>445</td>\n",
       "      <td>11117</td>\n",
       "      <td>13380</td>\n",
       "    </tr>\n",
       "    <tr>\n",
       "      <th>A660</th>\n",
       "      <td>776</td>\n",
       "      <td>240</td>\n",
       "      <td>NC</td>\n",
       "      <td>NC</td>\n",
       "      <td>393</td>\n",
       "      <td>3713</td>\n",
       "      <td>5122</td>\n",
       "    </tr>\n",
       "    <tr>\n",
       "      <th>A89</th>\n",
       "      <td>69</td>\n",
       "      <td>254</td>\n",
       "      <td>752</td>\n",
       "      <td>465</td>\n",
       "      <td>NC</td>\n",
       "      <td>NC</td>\n",
       "      <td>1540</td>\n",
       "    </tr>\n",
       "    <tr>\n",
       "      <th>N10</th>\n",
       "      <td>NC</td>\n",
       "      <td>1108</td>\n",
       "      <td>9550</td>\n",
       "      <td>2512</td>\n",
       "      <td>NC</td>\n",
       "      <td>NC</td>\n",
       "      <td>13170</td>\n",
       "    </tr>\n",
       "    <tr>\n",
       "      <th>All</th>\n",
       "      <td>3202</td>\n",
       "      <td>3194</td>\n",
       "      <td>12757</td>\n",
       "      <td>3979</td>\n",
       "      <td>1061</td>\n",
       "      <td>15877</td>\n",
       "      <td>40070</td>\n",
       "    </tr>\n",
       "  </tbody>\n",
       "</table>\n",
       "</div>"
      ],
      "text/plain": [
       "destination   A10   A62    A63  A660   A89    N10    All\n",
       "origine                                                 \n",
       "A10            NC  1513   2332   682    78     NC   4605\n",
       "A62           618    NC    123   320   145   1047   2253\n",
       "A63          1739    79     NC    NC   445  11117  13380\n",
       "A660          776   240     NC    NC   393   3713   5122\n",
       "A89            69   254    752   465    NC     NC   1540\n",
       "N10            NC  1108   9550  2512    NC     NC  13170\n",
       "All          3202  3194  12757  3979  1061  15877  40070"
      ]
     },
     "execution_count": 24,
     "metadata": {},
     "output_type": "execute_result"
    }
   ],
   "source": [
    "# de base\n",
    "pd.pivot_table(dico_od_final,values='l', index='origine', columns='destination',aggfunc='count', margins=True).fillna('NC')"
   ]
  },
  {
   "cell_type": "code",
   "execution_count": 13,
   "metadata": {},
   "outputs": [
    {
     "data": {
      "text/html": [
       "<div>\n",
       "<style scoped>\n",
       "    .dataframe tbody tr th:only-of-type {\n",
       "        vertical-align: middle;\n",
       "    }\n",
       "\n",
       "    .dataframe tbody tr th {\n",
       "        vertical-align: top;\n",
       "    }\n",
       "\n",
       "    .dataframe thead th {\n",
       "        text-align: right;\n",
       "    }\n",
       "</style>\n",
       "<table border=\"1\" class=\"dataframe\">\n",
       "  <thead>\n",
       "    <tr style=\"text-align: right;\">\n",
       "      <th>destination</th>\n",
       "      <th>A10</th>\n",
       "      <th>A62</th>\n",
       "      <th>A63</th>\n",
       "      <th>A660</th>\n",
       "      <th>A89</th>\n",
       "      <th>N10</th>\n",
       "      <th>All</th>\n",
       "    </tr>\n",
       "    <tr>\n",
       "      <th>origine</th>\n",
       "      <th></th>\n",
       "      <th></th>\n",
       "      <th></th>\n",
       "      <th></th>\n",
       "      <th></th>\n",
       "      <th></th>\n",
       "      <th></th>\n",
       "    </tr>\n",
       "  </thead>\n",
       "  <tbody>\n",
       "    <tr>\n",
       "      <th>A10</th>\n",
       "      <td>NC</td>\n",
       "      <td>5285</td>\n",
       "      <td>7127</td>\n",
       "      <td>2304</td>\n",
       "      <td>286</td>\n",
       "      <td>NC</td>\n",
       "      <td>15002</td>\n",
       "    </tr>\n",
       "    <tr>\n",
       "      <th>A62</th>\n",
       "      <td>2338</td>\n",
       "      <td>NC</td>\n",
       "      <td>392</td>\n",
       "      <td>853</td>\n",
       "      <td>517</td>\n",
       "      <td>2787</td>\n",
       "      <td>6887</td>\n",
       "    </tr>\n",
       "    <tr>\n",
       "      <th>A63</th>\n",
       "      <td>7273</td>\n",
       "      <td>257</td>\n",
       "      <td>NC</td>\n",
       "      <td>NC</td>\n",
       "      <td>1739</td>\n",
       "      <td>40000</td>\n",
       "      <td>49269</td>\n",
       "    </tr>\n",
       "    <tr>\n",
       "      <th>A660</th>\n",
       "      <td>1410</td>\n",
       "      <td>750</td>\n",
       "      <td>NC</td>\n",
       "      <td>NC</td>\n",
       "      <td>791</td>\n",
       "      <td>5998</td>\n",
       "      <td>8949</td>\n",
       "    </tr>\n",
       "    <tr>\n",
       "      <th>A89</th>\n",
       "      <td>263</td>\n",
       "      <td>805</td>\n",
       "      <td>2229</td>\n",
       "      <td>1279</td>\n",
       "      <td>NC</td>\n",
       "      <td>907</td>\n",
       "      <td>5483</td>\n",
       "    </tr>\n",
       "    <tr>\n",
       "      <th>N10</th>\n",
       "      <td>NC</td>\n",
       "      <td>4221</td>\n",
       "      <td>30085</td>\n",
       "      <td>8366</td>\n",
       "      <td>783</td>\n",
       "      <td>NC</td>\n",
       "      <td>43455</td>\n",
       "    </tr>\n",
       "    <tr>\n",
       "      <th>All</th>\n",
       "      <td>11284</td>\n",
       "      <td>11318</td>\n",
       "      <td>39833</td>\n",
       "      <td>12802</td>\n",
       "      <td>4116</td>\n",
       "      <td>49692</td>\n",
       "      <td>129045</td>\n",
       "    </tr>\n",
       "  </tbody>\n",
       "</table>\n",
       "</div>"
      ],
      "text/plain": [
       "destination    A10    A62    A63   A660   A89    N10     All\n",
       "origine                                                     \n",
       "A10             NC   5285   7127   2304   286     NC   15002\n",
       "A62           2338     NC    392    853   517   2787    6887\n",
       "A63           7273    257     NC     NC  1739  40000   49269\n",
       "A660          1410    750     NC     NC   791   5998    8949\n",
       "A89            263    805   2229   1279    NC    907    5483\n",
       "N10             NC   4221  30085   8366   783     NC   43455\n",
       "All          11284  11318  39833  12802  4116  49692  129045"
      ]
     },
     "execution_count": 13,
     "metadata": {},
     "output_type": "execute_result"
    }
   ],
   "source": [
    "# apres correction des A660 liees a A63\n",
    "pd.pivot_table(df_od_corrige,values='l', index='origine', columns='destination',aggfunc='count', margins=True).fillna('NC')"
   ]
  },
  {
   "cell_type": "code",
   "execution_count": 20,
   "metadata": {},
   "outputs": [
    {
     "data": {
      "text/html": [
       "<div>\n",
       "<style scoped>\n",
       "    .dataframe tbody tr th:only-of-type {\n",
       "        vertical-align: middle;\n",
       "    }\n",
       "\n",
       "    .dataframe tbody tr th {\n",
       "        vertical-align: top;\n",
       "    }\n",
       "\n",
       "    .dataframe thead th {\n",
       "        text-align: right;\n",
       "    }\n",
       "</style>\n",
       "<table border=\"1\" class=\"dataframe\">\n",
       "  <thead>\n",
       "    <tr style=\"text-align: right;\">\n",
       "      <th>destination</th>\n",
       "      <th>A10</th>\n",
       "      <th>A62</th>\n",
       "      <th>A63</th>\n",
       "      <th>A660</th>\n",
       "      <th>A89</th>\n",
       "      <th>N10</th>\n",
       "      <th>All</th>\n",
       "    </tr>\n",
       "    <tr>\n",
       "      <th>origine</th>\n",
       "      <th></th>\n",
       "      <th></th>\n",
       "      <th></th>\n",
       "      <th></th>\n",
       "      <th></th>\n",
       "      <th></th>\n",
       "      <th></th>\n",
       "    </tr>\n",
       "  </thead>\n",
       "  <tbody>\n",
       "    <tr>\n",
       "      <th>A10</th>\n",
       "      <td>NC</td>\n",
       "      <td>5285</td>\n",
       "      <td>7127</td>\n",
       "      <td>2304</td>\n",
       "      <td>286</td>\n",
       "      <td>NC</td>\n",
       "      <td>15002</td>\n",
       "    </tr>\n",
       "    <tr>\n",
       "      <th>A62</th>\n",
       "      <td>2338</td>\n",
       "      <td>NC</td>\n",
       "      <td>392</td>\n",
       "      <td>853</td>\n",
       "      <td>517</td>\n",
       "      <td>2787</td>\n",
       "      <td>6887</td>\n",
       "    </tr>\n",
       "    <tr>\n",
       "      <th>A63</th>\n",
       "      <td>7273</td>\n",
       "      <td>257</td>\n",
       "      <td>NC</td>\n",
       "      <td>NC</td>\n",
       "      <td>1739</td>\n",
       "      <td>40038</td>\n",
       "      <td>49307</td>\n",
       "    </tr>\n",
       "    <tr>\n",
       "      <th>A660</th>\n",
       "      <td>1410</td>\n",
       "      <td>750</td>\n",
       "      <td>NC</td>\n",
       "      <td>NC</td>\n",
       "      <td>791</td>\n",
       "      <td>5998</td>\n",
       "      <td>8949</td>\n",
       "    </tr>\n",
       "    <tr>\n",
       "      <th>A89</th>\n",
       "      <td>263</td>\n",
       "      <td>805</td>\n",
       "      <td>2229</td>\n",
       "      <td>1279</td>\n",
       "      <td>NC</td>\n",
       "      <td>907</td>\n",
       "      <td>5483</td>\n",
       "    </tr>\n",
       "    <tr>\n",
       "      <th>N10</th>\n",
       "      <td>NC</td>\n",
       "      <td>4221</td>\n",
       "      <td>30085</td>\n",
       "      <td>8366</td>\n",
       "      <td>783</td>\n",
       "      <td>NC</td>\n",
       "      <td>43455</td>\n",
       "    </tr>\n",
       "    <tr>\n",
       "      <th>All</th>\n",
       "      <td>11284</td>\n",
       "      <td>11318</td>\n",
       "      <td>39833</td>\n",
       "      <td>12802</td>\n",
       "      <td>4116</td>\n",
       "      <td>49730</td>\n",
       "      <td>129083</td>\n",
       "    </tr>\n",
       "  </tbody>\n",
       "</table>\n",
       "</div>"
      ],
      "text/plain": [
       "destination    A10    A62    A63   A660   A89    N10     All\n",
       "origine                                                     \n",
       "A10             NC   5285   7127   2304   286     NC   15002\n",
       "A62           2338     NC    392    853   517   2787    6887\n",
       "A63           7273    257     NC     NC  1739  40038   49307\n",
       "A660          1410    750     NC     NC   791   5998    8949\n",
       "A89            263    805   2229   1279    NC    907    5483\n",
       "N10             NC   4221  30085   8366   783     NC   43455\n",
       "All          11284  11318  39833  12802  4116  49730  129083"
      ]
     },
     "execution_count": 20,
     "metadata": {},
     "output_type": "execute_result"
    }
   ],
   "source": [
    "# apres extrapolation\n",
    "pd.pivot_table(df_od_final,values='l', index='origine', columns='destination',aggfunc='count', margins=True).fillna('NC')"
   ]
  },
  {
   "cell_type": "markdown",
   "metadata": {},
   "source": [
    "# 7. Analyse du nb de VL, PL, PL en transit par heure et par camera \n",
    "> Le pb c'est que pour les camera de la Rocade, parfois on les PL n'y sont pas vus, de même pour les chemins extrapoles ou pour ceux corrigés : le passage soit n'existe pas, soit la camera du passage ne correspond pas à la destination finalement utilisées"
   ]
  },
  {
   "cell_type": "markdown",
   "metadata": {},
   "source": [
    "## 7.1 base : travail sur les données telles que créees"
   ]
  },
  {
   "cell_type": "code",
   "execution_count": 48,
   "metadata": {},
   "outputs": [],
   "source": [
    "df_vl=df_passages2.loc[df_passages2['l']!=1]\n",
    "df_pl=df_passages2.loc[df_passages2['l']==1]\n",
    "#df_passages_transit=t.trajet2passage(dico_od_final,df_pl) deféini plus haut :dico_passag_final"
   ]
  },
  {
   "cell_type": "code",
   "execution_count": 49,
   "metadata": {},
   "outputs": [
    {
     "name": "stdout",
     "output_type": "stream",
     "text": [
      "pl_tot =1920 , vl_tot=1920 , pl_transit=1262,pl_tot-joint-transit=1262\n",
      "Wall time: 1.51 s\n"
     ]
    }
   ],
   "source": [
    "%time synt_nb_veh_cam=t.pourcentage_pl_camera(df_pl,dico_passag_final, df_vl)"
   ]
  },
  {
   "cell_type": "code",
   "execution_count": 52,
   "metadata": {},
   "outputs": [
    {
     "data": {
      "application/vnd.vegalite.v2+json": {
       "$schema": "https://vega.github.io/schema/vega-lite/v2.6.0.json",
       "config": {
        "view": {
         "height": 300,
         "width": 400
        }
       },
       "datasets": {
        "data-6b445f40fa7e900c107e9c8919a0dff9": [
         {
          "camera_id": 4,
          "created": "2019-01-29T00:00:00",
          "nb_pl_tot": 85,
          "nb_pl_transit": 19,
          "nb_veh": 85,
          "pct_pl_transit": 22.352941176470587,
          "type": "PL total",
          "type_x": "PL total",
          "type_y": "PL transit"
         },
         {
          "camera_id": 4,
          "created": "2019-01-29T01:00:00",
          "nb_pl_tot": 64,
          "nb_pl_transit": 9,
          "nb_veh": 64,
          "pct_pl_transit": 14.0625,
          "type": "PL total",
          "type_x": "PL total",
          "type_y": "PL transit"
         },
         {
          "camera_id": 4,
          "created": "2019-01-29T02:00:00",
          "nb_pl_tot": 78,
          "nb_pl_transit": 7,
          "nb_veh": 78,
          "pct_pl_transit": 8.974358974358974,
          "type": "PL total",
          "type_x": "PL total",
          "type_y": "PL transit"
         },
         {
          "camera_id": 4,
          "created": "2019-01-29T03:00:00",
          "nb_pl_tot": 95,
          "nb_pl_transit": 8,
          "nb_veh": 95,
          "pct_pl_transit": 8.421052631578947,
          "type": "PL total",
          "type_x": "PL total",
          "type_y": "PL transit"
         },
         {
          "camera_id": 4,
          "created": "2019-01-29T04:00:00",
          "nb_pl_tot": 159,
          "nb_pl_transit": 24,
          "nb_veh": 159,
          "pct_pl_transit": 15.09433962264151,
          "type": "PL total",
          "type_x": "PL total",
          "type_y": "PL transit"
         },
         {
          "camera_id": 4,
          "created": "2019-01-29T05:00:00",
          "nb_pl_tot": 241,
          "nb_pl_transit": 44,
          "nb_veh": 241,
          "pct_pl_transit": 18.25726141078838,
          "type": "PL total",
          "type_x": "PL total",
          "type_y": "PL transit"
         },
         {
          "camera_id": 4,
          "created": "2019-01-29T06:00:00",
          "nb_pl_tot": 279,
          "nb_pl_transit": 70,
          "nb_veh": 279,
          "pct_pl_transit": 25.089605734767026,
          "type": "PL total",
          "type_x": "PL total",
          "type_y": "PL transit"
         },
         {
          "camera_id": 4,
          "created": "2019-01-29T07:00:00",
          "nb_pl_tot": 314,
          "nb_pl_transit": 126,
          "nb_veh": 314,
          "pct_pl_transit": 40.12738853503185,
          "type": "PL total",
          "type_x": "PL total",
          "type_y": "PL transit"
         },
         {
          "camera_id": 4,
          "created": "2019-01-29T08:00:00",
          "nb_pl_tot": 628,
          "nb_pl_transit": 294,
          "nb_veh": 628,
          "pct_pl_transit": 46.81528662420382,
          "type": "PL total",
          "type_x": "PL total",
          "type_y": "PL transit"
         },
         {
          "camera_id": 4,
          "created": "2019-01-29T09:00:00",
          "nb_pl_tot": 730,
          "nb_pl_transit": 301,
          "nb_veh": 730,
          "pct_pl_transit": 41.23287671232877,
          "type": "PL total",
          "type_x": "PL total",
          "type_y": "PL transit"
         },
         {
          "camera_id": 4,
          "created": "2019-01-29T10:00:00",
          "nb_pl_tot": 729,
          "nb_pl_transit": 259,
          "nb_veh": 729,
          "pct_pl_transit": 35.528120713305896,
          "type": "PL total",
          "type_x": "PL total",
          "type_y": "PL transit"
         },
         {
          "camera_id": 4,
          "created": "2019-01-29T11:00:00",
          "nb_pl_tot": 661,
          "nb_pl_transit": 257,
          "nb_veh": 661,
          "pct_pl_transit": 38.88048411497731,
          "type": "PL total",
          "type_x": "PL total",
          "type_y": "PL transit"
         },
         {
          "camera_id": 4,
          "created": "2019-01-29T12:00:00",
          "nb_pl_tot": 175,
          "nb_pl_transit": 65,
          "nb_veh": 175,
          "pct_pl_transit": 37.142857142857146,
          "type": "PL total",
          "type_x": "PL total",
          "type_y": "PL transit"
         },
         {
          "camera_id": 4,
          "created": "2019-01-29T13:00:00",
          "nb_pl_tot": 0,
          "nb_pl_transit": 0,
          "nb_veh": 0,
          "pct_pl_transit": 0,
          "type": "PL total",
          "type_x": "PL total",
          "type_y": "PL transit"
         },
         {
          "camera_id": 4,
          "created": "2019-01-29T14:00:00",
          "nb_pl_tot": 160,
          "nb_pl_transit": 56,
          "nb_veh": 160,
          "pct_pl_transit": 35,
          "type": "PL total",
          "type_x": "PL total",
          "type_y": "PL transit"
         },
         {
          "camera_id": 4,
          "created": "2019-01-29T15:00:00",
          "nb_pl_tot": 607,
          "nb_pl_transit": 209,
          "nb_veh": 607,
          "pct_pl_transit": 34.43163097199341,
          "type": "PL total",
          "type_x": "PL total",
          "type_y": "PL transit"
         },
         {
          "camera_id": 4,
          "created": "2019-01-29T16:00:00",
          "nb_pl_tot": 412,
          "nb_pl_transit": 136,
          "nb_veh": 412,
          "pct_pl_transit": 33.00970873786408,
          "type": "PL total",
          "type_x": "PL total",
          "type_y": "PL transit"
         },
         {
          "camera_id": 4,
          "created": "2019-01-29T17:00:00",
          "nb_pl_tot": 419,
          "nb_pl_transit": 64,
          "nb_veh": 419,
          "pct_pl_transit": 15.274463007159904,
          "type": "PL total",
          "type_x": "PL total",
          "type_y": "PL transit"
         },
         {
          "camera_id": 4,
          "created": "2019-01-29T18:00:00",
          "nb_pl_tot": 418,
          "nb_pl_transit": 69,
          "nb_veh": 418,
          "pct_pl_transit": 16.507177033492823,
          "type": "PL total",
          "type_x": "PL total",
          "type_y": "PL transit"
         },
         {
          "camera_id": 4,
          "created": "2019-01-29T19:00:00",
          "nb_pl_tot": 319,
          "nb_pl_transit": 73,
          "nb_veh": 319,
          "pct_pl_transit": 22.884012539184955,
          "type": "PL total",
          "type_x": "PL total",
          "type_y": "PL transit"
         },
         {
          "camera_id": 4,
          "created": "2019-01-29T20:00:00",
          "nb_pl_tot": 264,
          "nb_pl_transit": 87,
          "nb_veh": 264,
          "pct_pl_transit": 32.95454545454545,
          "type": "PL total",
          "type_x": "PL total",
          "type_y": "PL transit"
         },
         {
          "camera_id": 4,
          "created": "2019-01-29T21:00:00",
          "nb_pl_tot": 218,
          "nb_pl_transit": 69,
          "nb_veh": 218,
          "pct_pl_transit": 31.65137614678899,
          "type": "PL total",
          "type_x": "PL total",
          "type_y": "PL transit"
         },
         {
          "camera_id": 4,
          "created": "2019-01-29T22:00:00",
          "nb_pl_tot": 186,
          "nb_pl_transit": 68,
          "nb_veh": 186,
          "pct_pl_transit": 36.55913978494624,
          "type": "PL total",
          "type_x": "PL total",
          "type_y": "PL transit"
         },
         {
          "camera_id": 4,
          "created": "2019-01-29T23:00:00",
          "nb_pl_tot": 154,
          "nb_pl_transit": 47,
          "nb_veh": 154,
          "pct_pl_transit": 30.51948051948052,
          "type": "PL total",
          "type_x": "PL total",
          "type_y": "PL transit"
         },
         {
          "camera_id": 4,
          "created": "2019-01-29T00:00:00",
          "nb_pl_tot": 85,
          "nb_pl_transit": 19,
          "nb_veh": 204,
          "pct_pl_transit": 22.352941176470587,
          "type": "VL total",
          "type_x": "PL total",
          "type_y": "PL transit"
         },
         {
          "camera_id": 4,
          "created": "2019-01-29T01:00:00",
          "nb_pl_tot": 64,
          "nb_pl_transit": 9,
          "nb_veh": 165,
          "pct_pl_transit": 14.0625,
          "type": "VL total",
          "type_x": "PL total",
          "type_y": "PL transit"
         },
         {
          "camera_id": 4,
          "created": "2019-01-29T02:00:00",
          "nb_pl_tot": 78,
          "nb_pl_transit": 7,
          "nb_veh": 89,
          "pct_pl_transit": 8.974358974358974,
          "type": "VL total",
          "type_x": "PL total",
          "type_y": "PL transit"
         },
         {
          "camera_id": 4,
          "created": "2019-01-29T03:00:00",
          "nb_pl_tot": 95,
          "nb_pl_transit": 8,
          "nb_veh": 157,
          "pct_pl_transit": 8.421052631578947,
          "type": "VL total",
          "type_x": "PL total",
          "type_y": "PL transit"
         },
         {
          "camera_id": 4,
          "created": "2019-01-29T04:00:00",
          "nb_pl_tot": 159,
          "nb_pl_transit": 24,
          "nb_veh": 289,
          "pct_pl_transit": 15.09433962264151,
          "type": "VL total",
          "type_x": "PL total",
          "type_y": "PL transit"
         },
         {
          "camera_id": 4,
          "created": "2019-01-29T05:00:00",
          "nb_pl_tot": 241,
          "nb_pl_transit": 44,
          "nb_veh": 653,
          "pct_pl_transit": 18.25726141078838,
          "type": "VL total",
          "type_x": "PL total",
          "type_y": "PL transit"
         },
         {
          "camera_id": 4,
          "created": "2019-01-29T06:00:00",
          "nb_pl_tot": 279,
          "nb_pl_transit": 70,
          "nb_veh": 1545,
          "pct_pl_transit": 25.089605734767026,
          "type": "VL total",
          "type_x": "PL total",
          "type_y": "PL transit"
         },
         {
          "camera_id": 4,
          "created": "2019-01-29T07:00:00",
          "nb_pl_tot": 314,
          "nb_pl_transit": 126,
          "nb_veh": 1938,
          "pct_pl_transit": 40.12738853503185,
          "type": "VL total",
          "type_x": "PL total",
          "type_y": "PL transit"
         },
         {
          "camera_id": 4,
          "created": "2019-01-29T08:00:00",
          "nb_pl_tot": 628,
          "nb_pl_transit": 294,
          "nb_veh": 2079,
          "pct_pl_transit": 46.81528662420382,
          "type": "VL total",
          "type_x": "PL total",
          "type_y": "PL transit"
         },
         {
          "camera_id": 4,
          "created": "2019-01-29T09:00:00",
          "nb_pl_tot": 730,
          "nb_pl_transit": 301,
          "nb_veh": 1845,
          "pct_pl_transit": 41.23287671232877,
          "type": "VL total",
          "type_x": "PL total",
          "type_y": "PL transit"
         },
         {
          "camera_id": 4,
          "created": "2019-01-29T10:00:00",
          "nb_pl_tot": 729,
          "nb_pl_transit": 259,
          "nb_veh": 1788,
          "pct_pl_transit": 35.528120713305896,
          "type": "VL total",
          "type_x": "PL total",
          "type_y": "PL transit"
         },
         {
          "camera_id": 4,
          "created": "2019-01-29T11:00:00",
          "nb_pl_tot": 661,
          "nb_pl_transit": 257,
          "nb_veh": 1571,
          "pct_pl_transit": 38.88048411497731,
          "type": "VL total",
          "type_x": "PL total",
          "type_y": "PL transit"
         },
         {
          "camera_id": 4,
          "created": "2019-01-29T12:00:00",
          "nb_pl_tot": 175,
          "nb_pl_transit": 65,
          "nb_veh": 408,
          "pct_pl_transit": 37.142857142857146,
          "type": "VL total",
          "type_x": "PL total",
          "type_y": "PL transit"
         },
         {
          "camera_id": 4,
          "created": "2019-01-29T13:00:00",
          "nb_pl_tot": 0,
          "nb_pl_transit": 0,
          "nb_veh": 0,
          "pct_pl_transit": 0,
          "type": "VL total",
          "type_x": "PL total",
          "type_y": "PL transit"
         },
         {
          "camera_id": 4,
          "created": "2019-01-29T14:00:00",
          "nb_pl_tot": 160,
          "nb_pl_transit": 56,
          "nb_veh": 522,
          "pct_pl_transit": 35,
          "type": "VL total",
          "type_x": "PL total",
          "type_y": "PL transit"
         },
         {
          "camera_id": 4,
          "created": "2019-01-29T15:00:00",
          "nb_pl_tot": 607,
          "nb_pl_transit": 209,
          "nb_veh": 2329,
          "pct_pl_transit": 34.43163097199341,
          "type": "VL total",
          "type_x": "PL total",
          "type_y": "PL transit"
         },
         {
          "camera_id": 4,
          "created": "2019-01-29T16:00:00",
          "nb_pl_tot": 412,
          "nb_pl_transit": 136,
          "nb_veh": 2475,
          "pct_pl_transit": 33.00970873786408,
          "type": "VL total",
          "type_x": "PL total",
          "type_y": "PL transit"
         },
         {
          "camera_id": 4,
          "created": "2019-01-29T17:00:00",
          "nb_pl_tot": 419,
          "nb_pl_transit": 64,
          "nb_veh": 2093,
          "pct_pl_transit": 15.274463007159904,
          "type": "VL total",
          "type_x": "PL total",
          "type_y": "PL transit"
         },
         {
          "camera_id": 4,
          "created": "2019-01-29T18:00:00",
          "nb_pl_tot": 418,
          "nb_pl_transit": 69,
          "nb_veh": 1723,
          "pct_pl_transit": 16.507177033492823,
          "type": "VL total",
          "type_x": "PL total",
          "type_y": "PL transit"
         },
         {
          "camera_id": 4,
          "created": "2019-01-29T19:00:00",
          "nb_pl_tot": 319,
          "nb_pl_transit": 73,
          "nb_veh": 1182,
          "pct_pl_transit": 22.884012539184955,
          "type": "VL total",
          "type_x": "PL total",
          "type_y": "PL transit"
         },
         {
          "camera_id": 4,
          "created": "2019-01-29T20:00:00",
          "nb_pl_tot": 264,
          "nb_pl_transit": 87,
          "nb_veh": 690,
          "pct_pl_transit": 32.95454545454545,
          "type": "VL total",
          "type_x": "PL total",
          "type_y": "PL transit"
         },
         {
          "camera_id": 4,
          "created": "2019-01-29T21:00:00",
          "nb_pl_tot": 218,
          "nb_pl_transit": 69,
          "nb_veh": 582,
          "pct_pl_transit": 31.65137614678899,
          "type": "VL total",
          "type_x": "PL total",
          "type_y": "PL transit"
         },
         {
          "camera_id": 4,
          "created": "2019-01-29T22:00:00",
          "nb_pl_tot": 186,
          "nb_pl_transit": 68,
          "nb_veh": 375,
          "pct_pl_transit": 36.55913978494624,
          "type": "VL total",
          "type_x": "PL total",
          "type_y": "PL transit"
         },
         {
          "camera_id": 4,
          "created": "2019-01-29T23:00:00",
          "nb_pl_tot": 154,
          "nb_pl_transit": 47,
          "nb_veh": 230,
          "pct_pl_transit": 30.51948051948052,
          "type": "VL total",
          "type_x": "PL total",
          "type_y": "PL transit"
         },
         {
          "camera_id": 4,
          "created": "2019-01-29T00:00:00",
          "nb_pl_tot": 85,
          "nb_pl_transit": 19,
          "nb_veh": 19,
          "pct_pl_transit": 22.352941176470587,
          "type": "PL transit",
          "type_x": "PL total",
          "type_y": "PL transit"
         },
         {
          "camera_id": 4,
          "created": "2019-01-29T01:00:00",
          "nb_pl_tot": 64,
          "nb_pl_transit": 9,
          "nb_veh": 9,
          "pct_pl_transit": 14.0625,
          "type": "PL transit",
          "type_x": "PL total",
          "type_y": "PL transit"
         },
         {
          "camera_id": 4,
          "created": "2019-01-29T02:00:00",
          "nb_pl_tot": 78,
          "nb_pl_transit": 7,
          "nb_veh": 7,
          "pct_pl_transit": 8.974358974358974,
          "type": "PL transit",
          "type_x": "PL total",
          "type_y": "PL transit"
         },
         {
          "camera_id": 4,
          "created": "2019-01-29T03:00:00",
          "nb_pl_tot": 95,
          "nb_pl_transit": 8,
          "nb_veh": 8,
          "pct_pl_transit": 8.421052631578947,
          "type": "PL transit",
          "type_x": "PL total",
          "type_y": "PL transit"
         },
         {
          "camera_id": 4,
          "created": "2019-01-29T04:00:00",
          "nb_pl_tot": 159,
          "nb_pl_transit": 24,
          "nb_veh": 24,
          "pct_pl_transit": 15.09433962264151,
          "type": "PL transit",
          "type_x": "PL total",
          "type_y": "PL transit"
         },
         {
          "camera_id": 4,
          "created": "2019-01-29T05:00:00",
          "nb_pl_tot": 241,
          "nb_pl_transit": 44,
          "nb_veh": 44,
          "pct_pl_transit": 18.25726141078838,
          "type": "PL transit",
          "type_x": "PL total",
          "type_y": "PL transit"
         },
         {
          "camera_id": 4,
          "created": "2019-01-29T06:00:00",
          "nb_pl_tot": 279,
          "nb_pl_transit": 70,
          "nb_veh": 70,
          "pct_pl_transit": 25.089605734767026,
          "type": "PL transit",
          "type_x": "PL total",
          "type_y": "PL transit"
         },
         {
          "camera_id": 4,
          "created": "2019-01-29T07:00:00",
          "nb_pl_tot": 314,
          "nb_pl_transit": 126,
          "nb_veh": 126,
          "pct_pl_transit": 40.12738853503185,
          "type": "PL transit",
          "type_x": "PL total",
          "type_y": "PL transit"
         },
         {
          "camera_id": 4,
          "created": "2019-01-29T08:00:00",
          "nb_pl_tot": 628,
          "nb_pl_transit": 294,
          "nb_veh": 294,
          "pct_pl_transit": 46.81528662420382,
          "type": "PL transit",
          "type_x": "PL total",
          "type_y": "PL transit"
         },
         {
          "camera_id": 4,
          "created": "2019-01-29T09:00:00",
          "nb_pl_tot": 730,
          "nb_pl_transit": 301,
          "nb_veh": 301,
          "pct_pl_transit": 41.23287671232877,
          "type": "PL transit",
          "type_x": "PL total",
          "type_y": "PL transit"
         },
         {
          "camera_id": 4,
          "created": "2019-01-29T10:00:00",
          "nb_pl_tot": 729,
          "nb_pl_transit": 259,
          "nb_veh": 259,
          "pct_pl_transit": 35.528120713305896,
          "type": "PL transit",
          "type_x": "PL total",
          "type_y": "PL transit"
         },
         {
          "camera_id": 4,
          "created": "2019-01-29T11:00:00",
          "nb_pl_tot": 661,
          "nb_pl_transit": 257,
          "nb_veh": 257,
          "pct_pl_transit": 38.88048411497731,
          "type": "PL transit",
          "type_x": "PL total",
          "type_y": "PL transit"
         },
         {
          "camera_id": 4,
          "created": "2019-01-29T12:00:00",
          "nb_pl_tot": 175,
          "nb_pl_transit": 65,
          "nb_veh": 65,
          "pct_pl_transit": 37.142857142857146,
          "type": "PL transit",
          "type_x": "PL total",
          "type_y": "PL transit"
         },
         {
          "camera_id": 4,
          "created": "2019-01-29T13:00:00",
          "nb_pl_tot": 0,
          "nb_pl_transit": 0,
          "nb_veh": 0,
          "pct_pl_transit": 0,
          "type": "PL transit",
          "type_x": "PL total",
          "type_y": "PL transit"
         },
         {
          "camera_id": 4,
          "created": "2019-01-29T14:00:00",
          "nb_pl_tot": 160,
          "nb_pl_transit": 56,
          "nb_veh": 56,
          "pct_pl_transit": 35,
          "type": "PL transit",
          "type_x": "PL total",
          "type_y": "PL transit"
         },
         {
          "camera_id": 4,
          "created": "2019-01-29T15:00:00",
          "nb_pl_tot": 607,
          "nb_pl_transit": 209,
          "nb_veh": 209,
          "pct_pl_transit": 34.43163097199341,
          "type": "PL transit",
          "type_x": "PL total",
          "type_y": "PL transit"
         },
         {
          "camera_id": 4,
          "created": "2019-01-29T16:00:00",
          "nb_pl_tot": 412,
          "nb_pl_transit": 136,
          "nb_veh": 136,
          "pct_pl_transit": 33.00970873786408,
          "type": "PL transit",
          "type_x": "PL total",
          "type_y": "PL transit"
         },
         {
          "camera_id": 4,
          "created": "2019-01-29T17:00:00",
          "nb_pl_tot": 419,
          "nb_pl_transit": 64,
          "nb_veh": 64,
          "pct_pl_transit": 15.274463007159904,
          "type": "PL transit",
          "type_x": "PL total",
          "type_y": "PL transit"
         },
         {
          "camera_id": 4,
          "created": "2019-01-29T18:00:00",
          "nb_pl_tot": 418,
          "nb_pl_transit": 69,
          "nb_veh": 69,
          "pct_pl_transit": 16.507177033492823,
          "type": "PL transit",
          "type_x": "PL total",
          "type_y": "PL transit"
         },
         {
          "camera_id": 4,
          "created": "2019-01-29T19:00:00",
          "nb_pl_tot": 319,
          "nb_pl_transit": 73,
          "nb_veh": 73,
          "pct_pl_transit": 22.884012539184955,
          "type": "PL transit",
          "type_x": "PL total",
          "type_y": "PL transit"
         },
         {
          "camera_id": 4,
          "created": "2019-01-29T20:00:00",
          "nb_pl_tot": 264,
          "nb_pl_transit": 87,
          "nb_veh": 87,
          "pct_pl_transit": 32.95454545454545,
          "type": "PL transit",
          "type_x": "PL total",
          "type_y": "PL transit"
         },
         {
          "camera_id": 4,
          "created": "2019-01-29T21:00:00",
          "nb_pl_tot": 218,
          "nb_pl_transit": 69,
          "nb_veh": 69,
          "pct_pl_transit": 31.65137614678899,
          "type": "PL transit",
          "type_x": "PL total",
          "type_y": "PL transit"
         },
         {
          "camera_id": 4,
          "created": "2019-01-29T22:00:00",
          "nb_pl_tot": 186,
          "nb_pl_transit": 68,
          "nb_veh": 68,
          "pct_pl_transit": 36.55913978494624,
          "type": "PL transit",
          "type_x": "PL total",
          "type_y": "PL transit"
         },
         {
          "camera_id": 4,
          "created": "2019-01-29T23:00:00",
          "nb_pl_tot": 154,
          "nb_pl_transit": 47,
          "nb_veh": 47,
          "pct_pl_transit": 30.51948051948052,
          "type": "PL transit",
          "type_x": "PL total",
          "type_y": "PL transit"
         }
        ]
       },
       "layer": [
        {
         "data": {
          "name": "data-6b445f40fa7e900c107e9c8919a0dff9"
         },
         "encoding": {
          "color": {
           "field": "type",
           "type": "nominal"
          },
          "x": {
           "axis": {
            "format": "%H:%M",
            "title": "Heure"
           },
           "field": "created",
           "type": "temporal"
          },
          "y": {
           "axis": {
            "title": "Nb de véhicules"
           },
           "field": "nb_veh",
           "stack": null,
           "type": "quantitative"
          }
         },
         "mark": {
          "opacity": 0.7,
          "size": 20,
          "type": "bar"
         }
        },
        {
         "data": {
          "name": "data-6b445f40fa7e900c107e9c8919a0dff9"
         },
         "encoding": {
          "x": {
           "axis": {
            "format": "%H:%M",
            "title": "Heure"
           },
           "field": "created",
           "type": "temporal"
          },
          "y": {
           "axis": {
            "title": "% de PL en transit"
           },
           "field": "pct_pl_transit",
           "type": "quantitative"
          }
         },
         "mark": {
          "color": "green",
          "type": "line"
         }
        }
       ],
       "resolve": {
        "scale": {
         "color": "shared",
         "x": "shared",
         "y": "independent"
        }
       },
       "width": 800
      },
      "image/png": "[encoded data removed]",
      "text/plain": [
       "<VegaLite 2 object>\n",
       "\n",
       "If you see this message, it means the renderer has not been properly enabled\n",
       "for the frontend that you are using. For more information, see\n",
       "https://altair-viz.github.io/user_guide/troubleshooting.html\n"
      ]
     },
     "execution_count": 52,
     "metadata": {},
     "output_type": "execute_result"
    }
   ],
   "source": [
    "g.graph_VL_PL_transit_j_cam(synt_nb_veh_cam, '2019-01-29', 4)"
   ]
  },
  {
   "cell_type": "markdown",
   "metadata": {},
   "source": [
    "## 7.2 Redressement au niveau de la Rocade"
   ]
  },
  {
   "cell_type": "code",
   "execution_count": 126,
   "metadata": {},
   "outputs": [
    {
     "name": "stdout",
     "output_type": "stream",
     "text": [
      "pl_tot =1920 , vl_tot=1920 , pl_transit=1262,pl_tot-joint-transit=1262\n",
      "Wall time: 1.3 s\n"
     ]
    }
   ],
   "source": [
    "#determiner les passages fictifs\n",
    "df_passage_transit_redresse, df_pl_redresse, trajets_rocade_non_vu=t.passages_fictif_rocade (t.liste_trajet_rocade, dico_od_final,dico_passag_final,df_pl)\n",
    "#regrouper\n",
    "%time synt_nb_veh_cam_redresse=t.pourcentage_pl_camera(df_pl_redresse,df_passage_transit_redresse, df_vl)"
   ]
  },
  {
   "cell_type": "code",
   "execution_count": 46,
   "metadata": {},
   "outputs": [
    {
     "data": {
      "application/vnd.vegalite.v2+json": {
       "$schema": "https://vega.github.io/schema/vega-lite/v2.6.0.json",
       "config": {
        "view": {
         "height": 300,
         "width": 400
        }
       },
       "datasets": {
        "data-814030b1bd5d736434a531fdb4ebe061": [
         {
          "camera_id": 1,
          "created": "2019-01-28T00:00:00",
          "nb_pl_tot": null,
          "nb_pl_transit": null,
          "nb_veh": 1,
          "pct_pl_transit": null,
          "type": "PL total",
          "type_x": null,
          "type_y": null
         },
         {
          "camera_id": 1,
          "created": "2019-01-28T01:00:00",
          "nb_pl_tot": null,
          "nb_pl_transit": null,
          "nb_veh": 2,
          "pct_pl_transit": null,
          "type": "PL total",
          "type_x": null,
          "type_y": null
         },
         {
          "camera_id": 1,
          "created": "2019-01-28T02:00:00",
          "nb_pl_tot": null,
          "nb_pl_transit": null,
          "nb_veh": 5,
          "pct_pl_transit": null,
          "type": "PL total",
          "type_x": null,
          "type_y": null
         },
         {
          "camera_id": 1,
          "created": "2019-01-28T03:00:00",
          "nb_pl_tot": null,
          "nb_pl_transit": null,
          "nb_veh": 6,
          "pct_pl_transit": null,
          "type": "PL total",
          "type_x": null,
          "type_y": null
         },
         {
          "camera_id": 1,
          "created": "2019-01-28T04:00:00",
          "nb_pl_tot": null,
          "nb_pl_transit": null,
          "nb_veh": 16,
          "pct_pl_transit": null,
          "type": "PL total",
          "type_x": null,
          "type_y": null
         },
         {
          "camera_id": 1,
          "created": "2019-01-28T05:00:00",
          "nb_pl_tot": null,
          "nb_pl_transit": null,
          "nb_veh": 37,
          "pct_pl_transit": null,
          "type": "PL total",
          "type_x": null,
          "type_y": null
         },
         {
          "camera_id": 1,
          "created": "2019-01-28T06:00:00",
          "nb_pl_tot": 47,
          "nb_pl_transit": 1,
          "nb_veh": 47,
          "pct_pl_transit": 2.127659574468085,
          "type": "PL total",
          "type_x": "PL total",
          "type_y": "PL transit"
         },
         {
          "camera_id": 1,
          "created": "2019-01-28T07:00:00",
          "nb_pl_tot": 61,
          "nb_pl_transit": 2,
          "nb_veh": 61,
          "pct_pl_transit": 3.278688524590164,
          "type": "PL total",
          "type_x": "PL total",
          "type_y": "PL transit"
         },
         {
          "camera_id": 1,
          "created": "2019-01-28T08:00:00",
          "nb_pl_tot": 128,
          "nb_pl_transit": 2,
          "nb_veh": 128,
          "pct_pl_transit": 1.5625,
          "type": "PL total",
          "type_x": "PL total",
          "type_y": "PL transit"
         },
         {
          "camera_id": 1,
          "created": "2019-01-28T09:00:00",
          "nb_pl_tot": 137,
          "nb_pl_transit": 0,
          "nb_veh": 137,
          "pct_pl_transit": 0,
          "type": "PL total",
          "type_x": "PL total",
          "type_y": "PL transit"
         },
         {
          "camera_id": 1,
          "created": "2019-01-28T10:00:00",
          "nb_pl_tot": 148,
          "nb_pl_transit": 0,
          "nb_veh": 148,
          "pct_pl_transit": 0,
          "type": "PL total",
          "type_x": "PL total",
          "type_y": "PL transit"
         },
         {
          "camera_id": 1,
          "created": "2019-01-28T11:00:00",
          "nb_pl_tot": 109,
          "nb_pl_transit": 2,
          "nb_veh": 109,
          "pct_pl_transit": 1.834862385321101,
          "type": "PL total",
          "type_x": "PL total",
          "type_y": "PL transit"
         },
         {
          "camera_id": 1,
          "created": "2019-01-28T12:00:00",
          "nb_pl_tot": 128,
          "nb_pl_transit": 1,
          "nb_veh": 128,
          "pct_pl_transit": 0.78125,
          "type": "PL total",
          "type_x": "PL total",
          "type_y": "PL transit"
         },
         {
          "camera_id": 1,
          "created": "2019-01-28T13:00:00",
          "nb_pl_tot": 138,
          "nb_pl_transit": 2,
          "nb_veh": 138,
          "pct_pl_transit": 1.4492753623188406,
          "type": "PL total",
          "type_x": "PL total",
          "type_y": "PL transit"
         },
         {
          "camera_id": 1,
          "created": "2019-01-28T14:00:00",
          "nb_pl_tot": 135,
          "nb_pl_transit": 0,
          "nb_veh": 135,
          "pct_pl_transit": 0,
          "type": "PL total",
          "type_x": "PL total",
          "type_y": "PL transit"
         },
         {
          "camera_id": 1,
          "created": "2019-01-28T15:00:00",
          "nb_pl_tot": 99,
          "nb_pl_transit": 3,
          "nb_veh": 99,
          "pct_pl_transit": 3.0303030303030303,
          "type": "PL total",
          "type_x": "PL total",
          "type_y": "PL transit"
         },
         {
          "camera_id": 1,
          "created": "2019-01-28T16:00:00",
          "nb_pl_tot": 77,
          "nb_pl_transit": 9,
          "nb_veh": 77,
          "pct_pl_transit": 11.688311688311689,
          "type": "PL total",
          "type_x": "PL total",
          "type_y": "PL transit"
         },
         {
          "camera_id": 1,
          "created": "2019-01-28T17:00:00",
          "nb_pl_tot": 13,
          "nb_pl_transit": 2,
          "nb_veh": 13,
          "pct_pl_transit": 15.384615384615385,
          "type": "PL total",
          "type_x": "PL total",
          "type_y": "PL transit"
         },
         {
          "camera_id": 1,
          "created": "2019-01-28T18:00:00",
          "nb_pl_tot": 5,
          "nb_pl_transit": 0,
          "nb_veh": 5,
          "pct_pl_transit": 0,
          "type": "PL total",
          "type_x": "PL total",
          "type_y": "PL transit"
         },
         {
          "camera_id": 1,
          "created": "2019-01-28T19:00:00",
          "nb_pl_tot": 9,
          "nb_pl_transit": 1,
          "nb_veh": 9,
          "pct_pl_transit": 11.11111111111111,
          "type": "PL total",
          "type_x": "PL total",
          "type_y": "PL transit"
         },
         {
          "camera_id": 1,
          "created": "2019-01-28T20:00:00",
          "nb_pl_tot": 3,
          "nb_pl_transit": 0,
          "nb_veh": 3,
          "pct_pl_transit": 0,
          "type": "PL total",
          "type_x": "PL total",
          "type_y": "PL transit"
         },
         {
          "camera_id": 1,
          "created": "2019-01-28T21:00:00",
          "nb_pl_tot": 5,
          "nb_pl_transit": 0,
          "nb_veh": 5,
          "pct_pl_transit": 0,
          "type": "PL total",
          "type_x": "PL total",
          "type_y": "PL transit"
         },
         {
          "camera_id": 1,
          "created": "2019-01-28T22:00:00",
          "nb_pl_tot": 2,
          "nb_pl_transit": 0,
          "nb_veh": 2,
          "pct_pl_transit": 0,
          "type": "PL total",
          "type_x": "PL total",
          "type_y": "PL transit"
         },
         {
          "camera_id": 1,
          "created": "2019-01-28T23:00:00",
          "nb_pl_tot": 3,
          "nb_pl_transit": 0,
          "nb_veh": 3,
          "pct_pl_transit": 0,
          "type": "PL total",
          "type_x": "PL total",
          "type_y": "PL transit"
         },
         {
          "camera_id": 1,
          "created": "2019-01-28T00:00:00",
          "nb_pl_tot": null,
          "nb_pl_transit": null,
          "nb_veh": 39,
          "pct_pl_transit": null,
          "type": "VL total",
          "type_x": null,
          "type_y": null
         },
         {
          "camera_id": 1,
          "created": "2019-01-28T01:00:00",
          "nb_pl_tot": null,
          "nb_pl_transit": null,
          "nb_veh": 27,
          "pct_pl_transit": null,
          "type": "VL total",
          "type_x": null,
          "type_y": null
         },
         {
          "camera_id": 1,
          "created": "2019-01-28T02:00:00",
          "nb_pl_tot": null,
          "nb_pl_transit": null,
          "nb_veh": 17,
          "pct_pl_transit": null,
          "type": "VL total",
          "type_x": null,
          "type_y": null
         },
         {
          "camera_id": 1,
          "created": "2019-01-28T03:00:00",
          "nb_pl_tot": null,
          "nb_pl_transit": null,
          "nb_veh": 73,
          "pct_pl_transit": null,
          "type": "VL total",
          "type_x": null,
          "type_y": null
         },
         {
          "camera_id": 1,
          "created": "2019-01-28T04:00:00",
          "nb_pl_tot": null,
          "nb_pl_transit": null,
          "nb_veh": 197,
          "pct_pl_transit": null,
          "type": "VL total",
          "type_x": null,
          "type_y": null
         },
         {
          "camera_id": 1,
          "created": "2019-01-28T05:00:00",
          "nb_pl_tot": null,
          "nb_pl_transit": null,
          "nb_veh": 458,
          "pct_pl_transit": null,
          "type": "VL total",
          "type_x": null,
          "type_y": null
         },
         {
          "camera_id": 1,
          "created": "2019-01-28T06:00:00",
          "nb_pl_tot": 47,
          "nb_pl_transit": 1,
          "nb_veh": 792,
          "pct_pl_transit": 2.127659574468085,
          "type": "VL total",
          "type_x": "PL total",
          "type_y": "PL transit"
         },
         {
          "camera_id": 1,
          "created": "2019-01-28T07:00:00",
          "nb_pl_tot": 61,
          "nb_pl_transit": 2,
          "nb_veh": 1164,
          "pct_pl_transit": 3.278688524590164,
          "type": "VL total",
          "type_x": "PL total",
          "type_y": "PL transit"
         },
         {
          "camera_id": 1,
          "created": "2019-01-28T08:00:00",
          "nb_pl_tot": 128,
          "nb_pl_transit": 2,
          "nb_veh": 2168,
          "pct_pl_transit": 1.5625,
          "type": "VL total",
          "type_x": "PL total",
          "type_y": "PL transit"
         },
         {
          "camera_id": 1,
          "created": "2019-01-28T09:00:00",
          "nb_pl_tot": 137,
          "nb_pl_transit": 0,
          "nb_veh": 2050,
          "pct_pl_transit": 0,
          "type": "VL total",
          "type_x": "PL total",
          "type_y": "PL transit"
         },
         {
          "camera_id": 1,
          "created": "2019-01-28T10:00:00",
          "nb_pl_tot": 148,
          "nb_pl_transit": 0,
          "nb_veh": 1924,
          "pct_pl_transit": 0,
          "type": "VL total",
          "type_x": "PL total",
          "type_y": "PL transit"
         },
         {
          "camera_id": 1,
          "created": "2019-01-28T11:00:00",
          "nb_pl_tot": 109,
          "nb_pl_transit": 2,
          "nb_veh": 1983,
          "pct_pl_transit": 1.834862385321101,
          "type": "VL total",
          "type_x": "PL total",
          "type_y": "PL transit"
         },
         {
          "camera_id": 1,
          "created": "2019-01-28T12:00:00",
          "nb_pl_tot": 128,
          "nb_pl_transit": 1,
          "nb_veh": 2222,
          "pct_pl_transit": 0.78125,
          "type": "VL total",
          "type_x": "PL total",
          "type_y": "PL transit"
         },
         {
          "camera_id": 1,
          "created": "2019-01-28T13:00:00",
          "nb_pl_tot": 138,
          "nb_pl_transit": 2,
          "nb_veh": 2087,
          "pct_pl_transit": 1.4492753623188406,
          "type": "VL total",
          "type_x": "PL total",
          "type_y": "PL transit"
         },
         {
          "camera_id": 1,
          "created": "2019-01-28T14:00:00",
          "nb_pl_tot": 135,
          "nb_pl_transit": 0,
          "nb_veh": 2024,
          "pct_pl_transit": 0,
          "type": "VL total",
          "type_x": "PL total",
          "type_y": "PL transit"
         },
         {
          "camera_id": 1,
          "created": "2019-01-28T15:00:00",
          "nb_pl_tot": 99,
          "nb_pl_transit": 3,
          "nb_veh": 2399,
          "pct_pl_transit": 3.0303030303030303,
          "type": "VL total",
          "type_x": "PL total",
          "type_y": "PL transit"
         },
         {
          "camera_id": 1,
          "created": "2019-01-28T16:00:00",
          "nb_pl_tot": 77,
          "nb_pl_transit": 9,
          "nb_veh": 2327,
          "pct_pl_transit": 11.688311688311689,
          "type": "VL total",
          "type_x": "PL total",
          "type_y": "PL transit"
         },
         {
          "camera_id": 1,
          "created": "2019-01-28T17:00:00",
          "nb_pl_tot": 13,
          "nb_pl_transit": 2,
          "nb_veh": 753,
          "pct_pl_transit": 15.384615384615385,
          "type": "VL total",
          "type_x": "PL total",
          "type_y": "PL transit"
         },
         {
          "camera_id": 1,
          "created": "2019-01-28T18:00:00",
          "nb_pl_tot": 5,
          "nb_pl_transit": 0,
          "nb_veh": 440,
          "pct_pl_transit": 0,
          "type": "VL total",
          "type_x": "PL total",
          "type_y": "PL transit"
         },
         {
          "camera_id": 1,
          "created": "2019-01-28T19:00:00",
          "nb_pl_tot": 9,
          "nb_pl_transit": 1,
          "nb_veh": 298,
          "pct_pl_transit": 11.11111111111111,
          "type": "VL total",
          "type_x": "PL total",
          "type_y": "PL transit"
         },
         {
          "camera_id": 1,
          "created": "2019-01-28T20:00:00",
          "nb_pl_tot": 3,
          "nb_pl_transit": 0,
          "nb_veh": 236,
          "pct_pl_transit": 0,
          "type": "VL total",
          "type_x": "PL total",
          "type_y": "PL transit"
         },
         {
          "camera_id": 1,
          "created": "2019-01-28T21:00:00",
          "nb_pl_tot": 5,
          "nb_pl_transit": 0,
          "nb_veh": 142,
          "pct_pl_transit": 0,
          "type": "VL total",
          "type_x": "PL total",
          "type_y": "PL transit"
         },
         {
          "camera_id": 1,
          "created": "2019-01-28T22:00:00",
          "nb_pl_tot": 2,
          "nb_pl_transit": 0,
          "nb_veh": 87,
          "pct_pl_transit": 0,
          "type": "VL total",
          "type_x": "PL total",
          "type_y": "PL transit"
         },
         {
          "camera_id": 1,
          "created": "2019-01-28T23:00:00",
          "nb_pl_tot": 3,
          "nb_pl_transit": 0,
          "nb_veh": 45,
          "pct_pl_transit": 0,
          "type": "VL total",
          "type_x": "PL total",
          "type_y": "PL transit"
         },
         {
          "camera_id": 1,
          "created": "2019-01-28T06:00:00",
          "nb_pl_tot": 47,
          "nb_pl_transit": 1,
          "nb_veh": 1,
          "pct_pl_transit": 2.127659574468085,
          "type": "PL transit",
          "type_x": "PL total",
          "type_y": "PL transit"
         },
         {
          "camera_id": 1,
          "created": "2019-01-28T07:00:00",
          "nb_pl_tot": 61,
          "nb_pl_transit": 2,
          "nb_veh": 2,
          "pct_pl_transit": 3.278688524590164,
          "type": "PL transit",
          "type_x": "PL total",
          "type_y": "PL transit"
         },
         {
          "camera_id": 1,
          "created": "2019-01-28T08:00:00",
          "nb_pl_tot": 128,
          "nb_pl_transit": 2,
          "nb_veh": 2,
          "pct_pl_transit": 1.5625,
          "type": "PL transit",
          "type_x": "PL total",
          "type_y": "PL transit"
         },
         {
          "camera_id": 1,
          "created": "2019-01-28T09:00:00",
          "nb_pl_tot": 137,
          "nb_pl_transit": 0,
          "nb_veh": 0,
          "pct_pl_transit": 0,
          "type": "PL transit",
          "type_x": "PL total",
          "type_y": "PL transit"
         },
         {
          "camera_id": 1,
          "created": "2019-01-28T10:00:00",
          "nb_pl_tot": 148,
          "nb_pl_transit": 0,
          "nb_veh": 0,
          "pct_pl_transit": 0,
          "type": "PL transit",
          "type_x": "PL total",
          "type_y": "PL transit"
         },
         {
          "camera_id": 1,
          "created": "2019-01-28T11:00:00",
          "nb_pl_tot": 109,
          "nb_pl_transit": 2,
          "nb_veh": 2,
          "pct_pl_transit": 1.834862385321101,
          "type": "PL transit",
          "type_x": "PL total",
          "type_y": "PL transit"
         },
         {
          "camera_id": 1,
          "created": "2019-01-28T12:00:00",
          "nb_pl_tot": 128,
          "nb_pl_transit": 1,
          "nb_veh": 1,
          "pct_pl_transit": 0.78125,
          "type": "PL transit",
          "type_x": "PL total",
          "type_y": "PL transit"
         },
         {
          "camera_id": 1,
          "created": "2019-01-28T13:00:00",
          "nb_pl_tot": 138,
          "nb_pl_transit": 2,
          "nb_veh": 2,
          "pct_pl_transit": 1.4492753623188406,
          "type": "PL transit",
          "type_x": "PL total",
          "type_y": "PL transit"
         },
         {
          "camera_id": 1,
          "created": "2019-01-28T14:00:00",
          "nb_pl_tot": 135,
          "nb_pl_transit": 0,
          "nb_veh": 0,
          "pct_pl_transit": 0,
          "type": "PL transit",
          "type_x": "PL total",
          "type_y": "PL transit"
         },
         {
          "camera_id": 1,
          "created": "2019-01-28T15:00:00",
          "nb_pl_tot": 99,
          "nb_pl_transit": 3,
          "nb_veh": 3,
          "pct_pl_transit": 3.0303030303030303,
          "type": "PL transit",
          "type_x": "PL total",
          "type_y": "PL transit"
         },
         {
          "camera_id": 1,
          "created": "2019-01-28T16:00:00",
          "nb_pl_tot": 77,
          "nb_pl_transit": 9,
          "nb_veh": 9,
          "pct_pl_transit": 11.688311688311689,
          "type": "PL transit",
          "type_x": "PL total",
          "type_y": "PL transit"
         },
         {
          "camera_id": 1,
          "created": "2019-01-28T17:00:00",
          "nb_pl_tot": 13,
          "nb_pl_transit": 2,
          "nb_veh": 2,
          "pct_pl_transit": 15.384615384615385,
          "type": "PL transit",
          "type_x": "PL total",
          "type_y": "PL transit"
         },
         {
          "camera_id": 1,
          "created": "2019-01-28T18:00:00",
          "nb_pl_tot": 5,
          "nb_pl_transit": 0,
          "nb_veh": 0,
          "pct_pl_transit": 0,
          "type": "PL transit",
          "type_x": "PL total",
          "type_y": "PL transit"
         },
         {
          "camera_id": 1,
          "created": "2019-01-28T19:00:00",
          "nb_pl_tot": 9,
          "nb_pl_transit": 1,
          "nb_veh": 1,
          "pct_pl_transit": 11.11111111111111,
          "type": "PL transit",
          "type_x": "PL total",
          "type_y": "PL transit"
         },
         {
          "camera_id": 1,
          "created": "2019-01-28T20:00:00",
          "nb_pl_tot": 3,
          "nb_pl_transit": 0,
          "nb_veh": 0,
          "pct_pl_transit": 0,
          "type": "PL transit",
          "type_x": "PL total",
          "type_y": "PL transit"
         },
         {
          "camera_id": 1,
          "created": "2019-01-28T21:00:00",
          "nb_pl_tot": 5,
          "nb_pl_transit": 0,
          "nb_veh": 0,
          "pct_pl_transit": 0,
          "type": "PL transit",
          "type_x": "PL total",
          "type_y": "PL transit"
         },
         {
          "camera_id": 1,
          "created": "2019-01-28T22:00:00",
          "nb_pl_tot": 2,
          "nb_pl_transit": 0,
          "nb_veh": 0,
          "pct_pl_transit": 0,
          "type": "PL transit",
          "type_x": "PL total",
          "type_y": "PL transit"
         },
         {
          "camera_id": 1,
          "created": "2019-01-28T23:00:00",
          "nb_pl_tot": 3,
          "nb_pl_transit": 0,
          "nb_veh": 0,
          "pct_pl_transit": 0,
          "type": "PL transit",
          "type_x": "PL total",
          "type_y": "PL transit"
         }
        ],
        "data-92e676b705d87cc226f27a6e4f419d99": [
         {
          "camera_id": 1,
          "created": "2019-01-28T00:00:00",
          "heure": 0,
          "nb_pl_tot": null,
          "nb_pl_transit": null,
          "nb_veh": 1,
          "pct_pl_transit": null,
          "type": "PL total",
          "type_x": null,
          "type_y": null
         },
         {
          "camera_id": 1,
          "created": "2019-01-28T01:00:00",
          "heure": 1,
          "nb_pl_tot": null,
          "nb_pl_transit": null,
          "nb_veh": 2,
          "pct_pl_transit": null,
          "type": "PL total",
          "type_x": null,
          "type_y": null
         },
         {
          "camera_id": 1,
          "created": "2019-01-28T02:00:00",
          "heure": 2,
          "nb_pl_tot": null,
          "nb_pl_transit": null,
          "nb_veh": 5,
          "pct_pl_transit": null,
          "type": "PL total",
          "type_x": null,
          "type_y": null
         },
         {
          "camera_id": 1,
          "created": "2019-01-28T03:00:00",
          "heure": 3,
          "nb_pl_tot": null,
          "nb_pl_transit": null,
          "nb_veh": 6,
          "pct_pl_transit": null,
          "type": "PL total",
          "type_x": null,
          "type_y": null
         },
         {
          "camera_id": 1,
          "created": "2019-01-28T04:00:00",
          "heure": 4,
          "nb_pl_tot": null,
          "nb_pl_transit": null,
          "nb_veh": 16,
          "pct_pl_transit": null,
          "type": "PL total",
          "type_x": null,
          "type_y": null
         },
         {
          "camera_id": 1,
          "created": "2019-01-28T05:00:00",
          "heure": 5,
          "nb_pl_tot": null,
          "nb_pl_transit": null,
          "nb_veh": 37,
          "pct_pl_transit": null,
          "type": "PL total",
          "type_x": null,
          "type_y": null
         },
         {
          "camera_id": 1,
          "created": "2019-01-28T06:00:00",
          "heure": 6,
          "nb_pl_tot": 47,
          "nb_pl_transit": 1,
          "nb_veh": 47,
          "pct_pl_transit": 2.127659574468085,
          "type": "PL total",
          "type_x": "PL total",
          "type_y": "PL transit"
         },
         {
          "camera_id": 1,
          "created": "2019-01-28T07:00:00",
          "heure": 7,
          "nb_pl_tot": 61,
          "nb_pl_transit": 2,
          "nb_veh": 61,
          "pct_pl_transit": 3.278688524590164,
          "type": "PL total",
          "type_x": "PL total",
          "type_y": "PL transit"
         },
         {
          "camera_id": 1,
          "created": "2019-01-28T08:00:00",
          "heure": 8,
          "nb_pl_tot": 128,
          "nb_pl_transit": 2,
          "nb_veh": 128,
          "pct_pl_transit": 1.5625,
          "type": "PL total",
          "type_x": "PL total",
          "type_y": "PL transit"
         },
         {
          "camera_id": 1,
          "created": "2019-01-28T09:00:00",
          "heure": 9,
          "nb_pl_tot": 137,
          "nb_pl_transit": 0,
          "nb_veh": 137,
          "pct_pl_transit": 0,
          "type": "PL total",
          "type_x": "PL total",
          "type_y": "PL transit"
         },
         {
          "camera_id": 1,
          "created": "2019-01-28T10:00:00",
          "heure": 10,
          "nb_pl_tot": 148,
          "nb_pl_transit": 0,
          "nb_veh": 148,
          "pct_pl_transit": 0,
          "type": "PL total",
          "type_x": "PL total",
          "type_y": "PL transit"
         },
         {
          "camera_id": 1,
          "created": "2019-01-28T11:00:00",
          "heure": 11,
          "nb_pl_tot": 109,
          "nb_pl_transit": 2,
          "nb_veh": 109,
          "pct_pl_transit": 1.834862385321101,
          "type": "PL total",
          "type_x": "PL total",
          "type_y": "PL transit"
         },
         {
          "camera_id": 1,
          "created": "2019-01-28T12:00:00",
          "heure": 12,
          "nb_pl_tot": 128,
          "nb_pl_transit": 1,
          "nb_veh": 128,
          "pct_pl_transit": 0.78125,
          "type": "PL total",
          "type_x": "PL total",
          "type_y": "PL transit"
         },
         {
          "camera_id": 1,
          "created": "2019-01-28T13:00:00",
          "heure": 13,
          "nb_pl_tot": 138,
          "nb_pl_transit": 2,
          "nb_veh": 138,
          "pct_pl_transit": 1.4492753623188406,
          "type": "PL total",
          "type_x": "PL total",
          "type_y": "PL transit"
         },
         {
          "camera_id": 1,
          "created": "2019-01-28T14:00:00",
          "heure": 14,
          "nb_pl_tot": 135,
          "nb_pl_transit": 0,
          "nb_veh": 135,
          "pct_pl_transit": 0,
          "type": "PL total",
          "type_x": "PL total",
          "type_y": "PL transit"
         },
         {
          "camera_id": 1,
          "created": "2019-01-28T15:00:00",
          "heure": 15,
          "nb_pl_tot": 99,
          "nb_pl_transit": 3,
          "nb_veh": 99,
          "pct_pl_transit": 3.0303030303030303,
          "type": "PL total",
          "type_x": "PL total",
          "type_y": "PL transit"
         },
         {
          "camera_id": 1,
          "created": "2019-01-28T16:00:00",
          "heure": 16,
          "nb_pl_tot": 77,
          "nb_pl_transit": 9,
          "nb_veh": 77,
          "pct_pl_transit": 11.688311688311689,
          "type": "PL total",
          "type_x": "PL total",
          "type_y": "PL transit"
         },
         {
          "camera_id": 1,
          "created": "2019-01-28T17:00:00",
          "heure": 17,
          "nb_pl_tot": 13,
          "nb_pl_transit": 2,
          "nb_veh": 13,
          "pct_pl_transit": 15.384615384615385,
          "type": "PL total",
          "type_x": "PL total",
          "type_y": "PL transit"
         },
         {
          "camera_id": 1,
          "created": "2019-01-28T18:00:00",
          "heure": 18,
          "nb_pl_tot": 5,
          "nb_pl_transit": 0,
          "nb_veh": 5,
          "pct_pl_transit": 0,
          "type": "PL total",
          "type_x": "PL total",
          "type_y": "PL transit"
         },
         {
          "camera_id": 1,
          "created": "2019-01-28T19:00:00",
          "heure": 19,
          "nb_pl_tot": 9,
          "nb_pl_transit": 1,
          "nb_veh": 9,
          "pct_pl_transit": 11.11111111111111,
          "type": "PL total",
          "type_x": "PL total",
          "type_y": "PL transit"
         },
         {
          "camera_id": 1,
          "created": "2019-01-28T20:00:00",
          "heure": 20,
          "nb_pl_tot": 3,
          "nb_pl_transit": 0,
          "nb_veh": 3,
          "pct_pl_transit": 0,
          "type": "PL total",
          "type_x": "PL total",
          "type_y": "PL transit"
         },
         {
          "camera_id": 1,
          "created": "2019-01-28T21:00:00",
          "heure": 21,
          "nb_pl_tot": 5,
          "nb_pl_transit": 0,
          "nb_veh": 5,
          "pct_pl_transit": 0,
          "type": "PL total",
          "type_x": "PL total",
          "type_y": "PL transit"
         },
         {
          "camera_id": 1,
          "created": "2019-01-28T22:00:00",
          "heure": 22,
          "nb_pl_tot": 2,
          "nb_pl_transit": 0,
          "nb_veh": 2,
          "pct_pl_transit": 0,
          "type": "PL total",
          "type_x": "PL total",
          "type_y": "PL transit"
         },
         {
          "camera_id": 1,
          "created": "2019-01-28T23:00:00",
          "heure": 23,
          "nb_pl_tot": 3,
          "nb_pl_transit": 0,
          "nb_veh": 3,
          "pct_pl_transit": 0,
          "type": "PL total",
          "type_x": "PL total",
          "type_y": "PL transit"
         },
         {
          "camera_id": 1,
          "created": "2019-01-28T00:00:00",
          "heure": 0,
          "nb_pl_tot": null,
          "nb_pl_transit": null,
          "nb_veh": 39,
          "pct_pl_transit": null,
          "type": "VL total",
          "type_x": null,
          "type_y": null
         },
         {
          "camera_id": 1,
          "created": "2019-01-28T01:00:00",
          "heure": 1,
          "nb_pl_tot": null,
          "nb_pl_transit": null,
          "nb_veh": 27,
          "pct_pl_transit": null,
          "type": "VL total",
          "type_x": null,
          "type_y": null
         },
         {
          "camera_id": 1,
          "created": "2019-01-28T02:00:00",
          "heure": 2,
          "nb_pl_tot": null,
          "nb_pl_transit": null,
          "nb_veh": 17,
          "pct_pl_transit": null,
          "type": "VL total",
          "type_x": null,
          "type_y": null
         },
         {
          "camera_id": 1,
          "created": "2019-01-28T03:00:00",
          "heure": 3,
          "nb_pl_tot": null,
          "nb_pl_transit": null,
          "nb_veh": 73,
          "pct_pl_transit": null,
          "type": "VL total",
          "type_x": null,
          "type_y": null
         },
         {
          "camera_id": 1,
          "created": "2019-01-28T04:00:00",
          "heure": 4,
          "nb_pl_tot": null,
          "nb_pl_transit": null,
          "nb_veh": 197,
          "pct_pl_transit": null,
          "type": "VL total",
          "type_x": null,
          "type_y": null
         },
         {
          "camera_id": 1,
          "created": "2019-01-28T05:00:00",
          "heure": 5,
          "nb_pl_tot": null,
          "nb_pl_transit": null,
          "nb_veh": 458,
          "pct_pl_transit": null,
          "type": "VL total",
          "type_x": null,
          "type_y": null
         },
         {
          "camera_id": 1,
          "created": "2019-01-28T06:00:00",
          "heure": 6,
          "nb_pl_tot": 47,
          "nb_pl_transit": 1,
          "nb_veh": 792,
          "pct_pl_transit": 2.127659574468085,
          "type": "VL total",
          "type_x": "PL total",
          "type_y": "PL transit"
         },
         {
          "camera_id": 1,
          "created": "2019-01-28T07:00:00",
          "heure": 7,
          "nb_pl_tot": 61,
          "nb_pl_transit": 2,
          "nb_veh": 1164,
          "pct_pl_transit": 3.278688524590164,
          "type": "VL total",
          "type_x": "PL total",
          "type_y": "PL transit"
         },
         {
          "camera_id": 1,
          "created": "2019-01-28T08:00:00",
          "heure": 8,
          "nb_pl_tot": 128,
          "nb_pl_transit": 2,
          "nb_veh": 2168,
          "pct_pl_transit": 1.5625,
          "type": "VL total",
          "type_x": "PL total",
          "type_y": "PL transit"
         },
         {
          "camera_id": 1,
          "created": "2019-01-28T09:00:00",
          "heure": 9,
          "nb_pl_tot": 137,
          "nb_pl_transit": 0,
          "nb_veh": 2050,
          "pct_pl_transit": 0,
          "type": "VL total",
          "type_x": "PL total",
          "type_y": "PL transit"
         },
         {
          "camera_id": 1,
          "created": "2019-01-28T10:00:00",
          "heure": 10,
          "nb_pl_tot": 148,
          "nb_pl_transit": 0,
          "nb_veh": 1924,
          "pct_pl_transit": 0,
          "type": "VL total",
          "type_x": "PL total",
          "type_y": "PL transit"
         },
         {
          "camera_id": 1,
          "created": "2019-01-28T11:00:00",
          "heure": 11,
          "nb_pl_tot": 109,
          "nb_pl_transit": 2,
          "nb_veh": 1983,
          "pct_pl_transit": 1.834862385321101,
          "type": "VL total",
          "type_x": "PL total",
          "type_y": "PL transit"
         },
         {
          "camera_id": 1,
          "created": "2019-01-28T12:00:00",
          "heure": 12,
          "nb_pl_tot": 128,
          "nb_pl_transit": 1,
          "nb_veh": 2222,
          "pct_pl_transit": 0.78125,
          "type": "VL total",
          "type_x": "PL total",
          "type_y": "PL transit"
         },
         {
          "camera_id": 1,
          "created": "2019-01-28T13:00:00",
          "heure": 13,
          "nb_pl_tot": 138,
          "nb_pl_transit": 2,
          "nb_veh": 2087,
          "pct_pl_transit": 1.4492753623188406,
          "type": "VL total",
          "type_x": "PL total",
          "type_y": "PL transit"
         },
         {
          "camera_id": 1,
          "created": "2019-01-28T14:00:00",
          "heure": 14,
          "nb_pl_tot": 135,
          "nb_pl_transit": 0,
          "nb_veh": 2024,
          "pct_pl_transit": 0,
          "type": "VL total",
          "type_x": "PL total",
          "type_y": "PL transit"
         },
         {
          "camera_id": 1,
          "created": "2019-01-28T15:00:00",
          "heure": 15,
          "nb_pl_tot": 99,
          "nb_pl_transit": 3,
          "nb_veh": 2399,
          "pct_pl_transit": 3.0303030303030303,
          "type": "VL total",
          "type_x": "PL total",
          "type_y": "PL transit"
         },
         {
          "camera_id": 1,
          "created": "2019-01-28T16:00:00",
          "heure": 16,
          "nb_pl_tot": 77,
          "nb_pl_transit": 9,
          "nb_veh": 2327,
          "pct_pl_transit": 11.688311688311689,
          "type": "VL total",
          "type_x": "PL total",
          "type_y": "PL transit"
         },
         {
          "camera_id": 1,
          "created": "2019-01-28T17:00:00",
          "heure": 17,
          "nb_pl_tot": 13,
          "nb_pl_transit": 2,
          "nb_veh": 753,
          "pct_pl_transit": 15.384615384615385,
          "type": "VL total",
          "type_x": "PL total",
          "type_y": "PL transit"
         },
         {
          "camera_id": 1,
          "created": "2019-01-28T18:00:00",
          "heure": 18,
          "nb_pl_tot": 5,
          "nb_pl_transit": 0,
          "nb_veh": 440,
          "pct_pl_transit": 0,
          "type": "VL total",
          "type_x": "PL total",
          "type_y": "PL transit"
         },
         {
          "camera_id": 1,
          "created": "2019-01-28T19:00:00",
          "heure": 19,
          "nb_pl_tot": 9,
          "nb_pl_transit": 1,
          "nb_veh": 298,
          "pct_pl_transit": 11.11111111111111,
          "type": "VL total",
          "type_x": "PL total",
          "type_y": "PL transit"
         },
         {
          "camera_id": 1,
          "created": "2019-01-28T20:00:00",
          "heure": 20,
          "nb_pl_tot": 3,
          "nb_pl_transit": 0,
          "nb_veh": 236,
          "pct_pl_transit": 0,
          "type": "VL total",
          "type_x": "PL total",
          "type_y": "PL transit"
         },
         {
          "camera_id": 1,
          "created": "2019-01-28T21:00:00",
          "heure": 21,
          "nb_pl_tot": 5,
          "nb_pl_transit": 0,
          "nb_veh": 142,
          "pct_pl_transit": 0,
          "type": "VL total",
          "type_x": "PL total",
          "type_y": "PL transit"
         },
         {
          "camera_id": 1,
          "created": "2019-01-28T22:00:00",
          "heure": 22,
          "nb_pl_tot": 2,
          "nb_pl_transit": 0,
          "nb_veh": 87,
          "pct_pl_transit": 0,
          "type": "VL total",
          "type_x": "PL total",
          "type_y": "PL transit"
         },
         {
          "camera_id": 1,
          "created": "2019-01-28T23:00:00",
          "heure": 23,
          "nb_pl_tot": 3,
          "nb_pl_transit": 0,
          "nb_veh": 45,
          "pct_pl_transit": 0,
          "type": "VL total",
          "type_x": "PL total",
          "type_y": "PL transit"
         },
         {
          "camera_id": 1,
          "created": "2019-01-28T06:00:00",
          "heure": 6,
          "nb_pl_tot": 47,
          "nb_pl_transit": 1,
          "nb_veh": 1,
          "pct_pl_transit": 2.127659574468085,
          "type": "PL transit",
          "type_x": "PL total",
          "type_y": "PL transit"
         },
         {
          "camera_id": 1,
          "created": "2019-01-28T07:00:00",
          "heure": 7,
          "nb_pl_tot": 61,
          "nb_pl_transit": 2,
          "nb_veh": 2,
          "pct_pl_transit": 3.278688524590164,
          "type": "PL transit",
          "type_x": "PL total",
          "type_y": "PL transit"
         },
         {
          "camera_id": 1,
          "created": "2019-01-28T08:00:00",
          "heure": 8,
          "nb_pl_tot": 128,
          "nb_pl_transit": 2,
          "nb_veh": 2,
          "pct_pl_transit": 1.5625,
          "type": "PL transit",
          "type_x": "PL total",
          "type_y": "PL transit"
         },
         {
          "camera_id": 1,
          "created": "2019-01-28T09:00:00",
          "heure": 9,
          "nb_pl_tot": 137,
          "nb_pl_transit": 0,
          "nb_veh": 0,
          "pct_pl_transit": 0,
          "type": "PL transit",
          "type_x": "PL total",
          "type_y": "PL transit"
         },
         {
          "camera_id": 1,
          "created": "2019-01-28T10:00:00",
          "heure": 10,
          "nb_pl_tot": 148,
          "nb_pl_transit": 0,
          "nb_veh": 0,
          "pct_pl_transit": 0,
          "type": "PL transit",
          "type_x": "PL total",
          "type_y": "PL transit"
         },
         {
          "camera_id": 1,
          "created": "2019-01-28T11:00:00",
          "heure": 11,
          "nb_pl_tot": 109,
          "nb_pl_transit": 2,
          "nb_veh": 2,
          "pct_pl_transit": 1.834862385321101,
          "type": "PL transit",
          "type_x": "PL total",
          "type_y": "PL transit"
         },
         {
          "camera_id": 1,
          "created": "2019-01-28T12:00:00",
          "heure": 12,
          "nb_pl_tot": 128,
          "nb_pl_transit": 1,
          "nb_veh": 1,
          "pct_pl_transit": 0.78125,
          "type": "PL transit",
          "type_x": "PL total",
          "type_y": "PL transit"
         },
         {
          "camera_id": 1,
          "created": "2019-01-28T13:00:00",
          "heure": 13,
          "nb_pl_tot": 138,
          "nb_pl_transit": 2,
          "nb_veh": 2,
          "pct_pl_transit": 1.4492753623188406,
          "type": "PL transit",
          "type_x": "PL total",
          "type_y": "PL transit"
         },
         {
          "camera_id": 1,
          "created": "2019-01-28T14:00:00",
          "heure": 14,
          "nb_pl_tot": 135,
          "nb_pl_transit": 0,
          "nb_veh": 0,
          "pct_pl_transit": 0,
          "type": "PL transit",
          "type_x": "PL total",
          "type_y": "PL transit"
         },
         {
          "camera_id": 1,
          "created": "2019-01-28T15:00:00",
          "heure": 15,
          "nb_pl_tot": 99,
          "nb_pl_transit": 3,
          "nb_veh": 3,
          "pct_pl_transit": 3.0303030303030303,
          "type": "PL transit",
          "type_x": "PL total",
          "type_y": "PL transit"
         },
         {
          "camera_id": 1,
          "created": "2019-01-28T16:00:00",
          "heure": 16,
          "nb_pl_tot": 77,
          "nb_pl_transit": 9,
          "nb_veh": 9,
          "pct_pl_transit": 11.688311688311689,
          "type": "PL transit",
          "type_x": "PL total",
          "type_y": "PL transit"
         },
         {
          "camera_id": 1,
          "created": "2019-01-28T17:00:00",
          "heure": 17,
          "nb_pl_tot": 13,
          "nb_pl_transit": 2,
          "nb_veh": 2,
          "pct_pl_transit": 15.384615384615385,
          "type": "PL transit",
          "type_x": "PL total",
          "type_y": "PL transit"
         },
         {
          "camera_id": 1,
          "created": "2019-01-28T18:00:00",
          "heure": 18,
          "nb_pl_tot": 5,
          "nb_pl_transit": 0,
          "nb_veh": 0,
          "pct_pl_transit": 0,
          "type": "PL transit",
          "type_x": "PL total",
          "type_y": "PL transit"
         },
         {
          "camera_id": 1,
          "created": "2019-01-28T19:00:00",
          "heure": 19,
          "nb_pl_tot": 9,
          "nb_pl_transit": 1,
          "nb_veh": 1,
          "pct_pl_transit": 11.11111111111111,
          "type": "PL transit",
          "type_x": "PL total",
          "type_y": "PL transit"
         },
         {
          "camera_id": 1,
          "created": "2019-01-28T20:00:00",
          "heure": 20,
          "nb_pl_tot": 3,
          "nb_pl_transit": 0,
          "nb_veh": 0,
          "pct_pl_transit": 0,
          "type": "PL transit",
          "type_x": "PL total",
          "type_y": "PL transit"
         },
         {
          "camera_id": 1,
          "created": "2019-01-28T21:00:00",
          "heure": 21,
          "nb_pl_tot": 5,
          "nb_pl_transit": 0,
          "nb_veh": 0,
          "pct_pl_transit": 0,
          "type": "PL transit",
          "type_x": "PL total",
          "type_y": "PL transit"
         },
         {
          "camera_id": 1,
          "created": "2019-01-28T22:00:00",
          "heure": 22,
          "nb_pl_tot": 2,
          "nb_pl_transit": 0,
          "nb_veh": 0,
          "pct_pl_transit": 0,
          "type": "PL transit",
          "type_x": "PL total",
          "type_y": "PL transit"
         },
         {
          "camera_id": 1,
          "created": "2019-01-28T23:00:00",
          "heure": 23,
          "nb_pl_tot": 3,
          "nb_pl_transit": 0,
          "nb_veh": 0,
          "pct_pl_transit": 0,
          "type": "PL transit",
          "type_x": "PL total",
          "type_y": "PL transit"
         }
        ]
       },
       "vconcat": [
        {
         "layer": [
          {
           "data": {
            "name": "data-814030b1bd5d736434a531fdb4ebe061"
           },
           "encoding": {
            "color": {
             "field": "type",
             "type": "nominal"
            },
            "x": {
             "axis": {
              "format": "%H:%M",
              "title": "Heure"
             },
             "field": "created",
             "type": "temporal"
            },
            "y": {
             "axis": {
              "title": "Nb de véhicules"
             },
             "field": "nb_veh",
             "stack": null,
             "type": "quantitative"
            }
           },
           "mark": {
            "opacity": 0.7,
            "size": 20,
            "type": "bar"
           }
          },
          {
           "data": {
            "name": "data-814030b1bd5d736434a531fdb4ebe061"
           },
           "encoding": {
            "x": {
             "axis": {
              "format": "%H:%M",
              "title": "Heure"
             },
             "field": "created",
             "type": "temporal"
            },
            "y": {
             "axis": {
              "title": "% de PL en transit"
             },
             "field": "pct_pl_transit",
             "type": "quantitative"
            }
           },
           "mark": {
            "color": "green",
            "type": "line"
           }
          }
         ],
         "resolve": {
          "scale": {
           "color": "shared",
           "x": "shared",
           "y": "independent"
          }
         },
         "width": 800
        },
        {
         "layer": [
          {
           "data": {
            "name": "data-92e676b705d87cc226f27a6e4f419d99"
           },
           "encoding": {
            "color": {
             "field": "type",
             "type": "nominal"
            },
            "x": {
             "axis": {
              "format": "%H:%M",
              "title": "Heure"
             },
             "field": "created",
             "type": "temporal"
            },
            "y": {
             "axis": {
              "title": "Nb de véhicules"
             },
             "field": "nb_veh",
             "stack": null,
             "type": "quantitative"
            }
           },
           "mark": {
            "opacity": 0.7,
            "size": 20,
            "type": "bar"
           }
          },
          {
           "data": {
            "name": "data-92e676b705d87cc226f27a6e4f419d99"
           },
           "encoding": {
            "x": {
             "axis": {
              "format": "%H:%M",
              "title": "Heure"
             },
             "field": "created",
             "type": "temporal"
            },
            "y": {
             "axis": {
              "title": "% de PL en transit"
             },
             "field": "pct_pl_transit",
             "type": "quantitative"
            }
           },
           "mark": {
            "color": "green",
            "type": "line"
           }
          }
         ],
         "resolve": {
          "scale": {
           "color": "shared",
           "x": "shared",
           "y": "independent"
          }
         },
         "width": 800
        }
       ]
      },
      "image/png": "[encoded data removed]",
      "text/plain": [
       "<VegaLite 2 object>\n",
       "\n",
       "If you see this message, it means the renderer has not been properly enabled\n",
       "for the frontend that you are using. For more information, see\n",
       "https://altair-viz.github.io/user_guide/troubleshooting.html\n"
      ]
     },
     "execution_count": 46,
     "metadata": {},
     "output_type": "execute_result"
    }
   ],
   "source": [
    "alt.vconcat(g.graph_VL_PL_transit_j_cam(synt_nb_veh_cam, '2019-01-28', 1),g.graph_VL_PL_transit_j_cam(synt_nb_veh_cam_redresse, '2019-01-28', 1))"
   ]
  },
  {
   "cell_type": "markdown",
   "metadata": {},
   "source": [
    "## 7.3 Redressement des trajets extrapoles\n",
    "\n",
    ">**A TESTER SUR JEU DE DONNEES COMPLET**"
   ]
  },
  {
   "cell_type": "code",
   "execution_count": null,
   "metadata": {},
   "outputs": [],
   "source": [
    "# de même que opur la rocade, il faut ajouter des passages fictifs à la df des passages afin de pouvoir approximer mieux les parts de PL\n",
    "#trouver les passages extrapoles\n",
    "df_od_final.loc[df_od_final['correction_o_d_type']=='extrapole']\n",
    "# tester la camera de debut :si c'est pas une des cameras d'entree - sortie du dispositif, on sait si le trajet est extrapole en début ou fin\n",
    "#selon l'o_d crééer un passage fictuf avec le numero de la camera qui manque du trajets sensé avoir eu leiu\n",
    "#estimer le temps de passage selon le temps theorique : date_cam_1 ou 2 +ou- temps ou temps theorique"
   ]
  },
  {
   "cell_type": "markdown",
   "metadata": {},
   "source": [
    "## 7.4. Grouper les réusltats par JO"
   ]
  },
  {
   "cell_type": "code",
   "execution_count": 133,
   "metadata": {},
   "outputs": [
    {
     "data": {
      "application/vnd.vegalite.v2+json": {
       "$schema": "https://vega.github.io/schema/vega-lite/v2.6.0.json",
       "config": {
        "view": {
         "height": 300,
         "width": 400
        }
       },
       "datasets": {
        "data-95c3837ad20261cf18ae521e675b426a": [
         {
          "camera_id": 4,
          "created": "1970-01-01T00:00:00",
          "heure": 0,
          "nb_veh": 122.2,
          "pct_pl_transit": 22.641020557517212,
          "type": "PL total"
         },
         {
          "camera_id": 4,
          "created": "1970-01-01T00:00:00",
          "heure": 0,
          "nb_veh": 30.5,
          "pct_pl_transit": 22.641020557517212,
          "type": "PL transit"
         },
         {
          "camera_id": 4,
          "created": "1970-01-01T00:00:00",
          "heure": 0,
          "nb_veh": 218,
          "pct_pl_transit": 22.641020557517212,
          "type": "VL total"
         },
         {
          "camera_id": 4,
          "created": "1970-01-01T01:00:00",
          "heure": 1,
          "nb_veh": 118.6,
          "pct_pl_transit": 18.7071445695247,
          "type": "PL total"
         },
         {
          "camera_id": 4,
          "created": "1970-01-01T01:00:00",
          "heure": 1,
          "nb_veh": 23.5,
          "pct_pl_transit": 18.7071445695247,
          "type": "PL transit"
         },
         {
          "camera_id": 4,
          "created": "1970-01-01T01:00:00",
          "heure": 1,
          "nb_veh": 156.4,
          "pct_pl_transit": 18.7071445695247,
          "type": "VL total"
         },
         {
          "camera_id": 4,
          "created": "1970-01-01T02:00:00",
          "heure": 2,
          "nb_veh": 126.6,
          "pct_pl_transit": 18.372859744990894,
          "type": "PL total"
         },
         {
          "camera_id": 4,
          "created": "1970-01-01T02:00:00",
          "heure": 2,
          "nb_veh": 26.25,
          "pct_pl_transit": 18.372859744990894,
          "type": "PL transit"
         },
         {
          "camera_id": 4,
          "created": "1970-01-01T02:00:00",
          "heure": 2,
          "nb_veh": 138.6,
          "pct_pl_transit": 18.372859744990894,
          "type": "VL total"
         },
         {
          "camera_id": 4,
          "created": "1970-01-01T03:00:00",
          "heure": 3,
          "nb_veh": 126.4,
          "pct_pl_transit": 12.354881564715619,
          "type": "PL total"
         },
         {
          "camera_id": 4,
          "created": "1970-01-01T03:00:00",
          "heure": 3,
          "nb_veh": 16.25,
          "pct_pl_transit": 12.354881564715619,
          "type": "PL transit"
         },
         {
          "camera_id": 4,
          "created": "1970-01-01T03:00:00",
          "heure": 3,
          "nb_veh": 201.6,
          "pct_pl_transit": 12.354881564715619,
          "type": "VL total"
         },
         {
          "camera_id": 4,
          "created": "1970-01-01T04:00:00",
          "heure": 4,
          "nb_veh": 188.4,
          "pct_pl_transit": 13.332984942094088,
          "type": "PL total"
         },
         {
          "camera_id": 4,
          "created": "1970-01-01T04:00:00",
          "heure": 4,
          "nb_veh": 25.5,
          "pct_pl_transit": 13.332984942094088,
          "type": "PL transit"
         },
         {
          "camera_id": 4,
          "created": "1970-01-01T04:00:00",
          "heure": 4,
          "nb_veh": 401.8,
          "pct_pl_transit": 13.332984942094088,
          "type": "VL total"
         },
         {
          "camera_id": 4,
          "created": "1970-01-01T05:00:00",
          "heure": 5,
          "nb_veh": 277.4,
          "pct_pl_transit": 16.978005076164294,
          "type": "PL total"
         },
         {
          "camera_id": 4,
          "created": "1970-01-01T05:00:00",
          "heure": 5,
          "nb_veh": 46.75,
          "pct_pl_transit": 16.978005076164294,
          "type": "PL transit"
         },
         {
          "camera_id": 4,
          "created": "1970-01-01T05:00:00",
          "heure": 5,
          "nb_veh": 992.4,
          "pct_pl_transit": 16.978005076164294,
          "type": "VL total"
         },
         {
          "camera_id": 4,
          "created": "1970-01-01T06:00:00",
          "heure": 6,
          "nb_veh": 287.6,
          "pct_pl_transit": 19.206502001017967,
          "type": "PL total"
         },
         {
          "camera_id": 4,
          "created": "1970-01-01T06:00:00",
          "heure": 6,
          "nb_veh": 55,
          "pct_pl_transit": 19.206502001017967,
          "type": "PL transit"
         },
         {
          "camera_id": 4,
          "created": "1970-01-01T06:00:00",
          "heure": 6,
          "nb_veh": 1978.6,
          "pct_pl_transit": 19.206502001017967,
          "type": "VL total"
         },
         {
          "camera_id": 4,
          "created": "1970-01-01T07:00:00",
          "heure": 7,
          "nb_veh": 346.2,
          "pct_pl_transit": 28.520056993074277,
          "type": "PL total"
         },
         {
          "camera_id": 4,
          "created": "1970-01-01T07:00:00",
          "heure": 7,
          "nb_veh": 107.5,
          "pct_pl_transit": 28.520056993074277,
          "type": "PL transit"
         },
         {
          "camera_id": 4,
          "created": "1970-01-01T07:00:00",
          "heure": 7,
          "nb_veh": 2206.2,
          "pct_pl_transit": 28.520056993074277,
          "type": "VL total"
         },
         {
          "camera_id": 4,
          "created": "1970-01-01T08:00:00",
          "heure": 8,
          "nb_veh": 482,
          "pct_pl_transit": 33.502443152797746,
          "type": "PL total"
         },
         {
          "camera_id": 4,
          "created": "1970-01-01T08:00:00",
          "heure": 8,
          "nb_veh": 201,
          "pct_pl_transit": 33.502443152797746,
          "type": "PL transit"
         },
         {
          "camera_id": 4,
          "created": "1970-01-01T08:00:00",
          "heure": 8,
          "nb_veh": 1736.6,
          "pct_pl_transit": 33.502443152797746,
          "type": "VL total"
         },
         {
          "camera_id": 4,
          "created": "1970-01-01T09:00:00",
          "heure": 9,
          "nb_veh": 646.2,
          "pct_pl_transit": 30.812414343099984,
          "type": "PL total"
         },
         {
          "camera_id": 4,
          "created": "1970-01-01T09:00:00",
          "heure": 9,
          "nb_veh": 219.75,
          "pct_pl_transit": 30.812414343099984,
          "type": "PL transit"
         },
         {
          "camera_id": 4,
          "created": "1970-01-01T09:00:00",
          "heure": 9,
          "nb_veh": 1800.2,
          "pct_pl_transit": 30.812414343099984,
          "type": "VL total"
         },
         {
          "camera_id": 4,
          "created": "1970-01-01T10:00:00",
          "heure": 10,
          "nb_veh": 534,
          "pct_pl_transit": 36.745441944584094,
          "type": "PL total"
         },
         {
          "camera_id": 4,
          "created": "1970-01-01T10:00:00",
          "heure": 10,
          "nb_veh": 258.3333333333333,
          "pct_pl_transit": 36.745441944584094,
          "type": "PL transit"
         },
         {
          "camera_id": 4,
          "created": "1970-01-01T10:00:00",
          "heure": 10,
          "nb_veh": 1435,
          "pct_pl_transit": 36.745441944584094,
          "type": "VL total"
         },
         {
          "camera_id": 4,
          "created": "1970-01-01T11:00:00",
          "heure": 11,
          "nb_veh": 493.6,
          "pct_pl_transit": 40.29837540940622,
          "type": "PL total"
         },
         {
          "camera_id": 4,
          "created": "1970-01-01T11:00:00",
          "heure": 11,
          "nb_veh": 267.6666666666667,
          "pct_pl_transit": 40.29837540940622,
          "type": "PL transit"
         },
         {
          "camera_id": 4,
          "created": "1970-01-01T11:00:00",
          "heure": 11,
          "nb_veh": 1429.4,
          "pct_pl_transit": 40.29837540940622,
          "type": "VL total"
         },
         {
          "camera_id": 4,
          "created": "1970-01-01T12:00:00",
          "heure": 12,
          "nb_veh": 432,
          "pct_pl_transit": 44.72442373211171,
          "type": "PL total"
         },
         {
          "camera_id": 4,
          "created": "1970-01-01T12:00:00",
          "heure": 12,
          "nb_veh": 204,
          "pct_pl_transit": 44.72442373211171,
          "type": "PL transit"
         },
         {
          "camera_id": 4,
          "created": "1970-01-01T12:00:00",
          "heure": 12,
          "nb_veh": 1365.8,
          "pct_pl_transit": 44.72442373211171,
          "type": "VL total"
         },
         {
          "camera_id": 4,
          "created": "1970-01-01T13:00:00",
          "heure": 13,
          "nb_veh": 469,
          "pct_pl_transit": 55.379332215073156,
          "type": "PL total"
         },
         {
          "camera_id": 4,
          "created": "1970-01-01T13:00:00",
          "heure": 13,
          "nb_veh": 191.66666666666666,
          "pct_pl_transit": 55.379332215073156,
          "type": "PL transit"
         },
         {
          "camera_id": 4,
          "created": "1970-01-01T13:00:00",
          "heure": 13,
          "nb_veh": 1536.6,
          "pct_pl_transit": 55.379332215073156,
          "type": "VL total"
         },
         {
          "camera_id": 4,
          "created": "1970-01-01T14:00:00",
          "heure": 14,
          "nb_veh": 535.2,
          "pct_pl_transit": 41.393319606987994,
          "type": "PL total"
         },
         {
          "camera_id": 4,
          "created": "1970-01-01T14:00:00",
          "heure": 14,
          "nb_veh": 198,
          "pct_pl_transit": 41.393319606987994,
          "type": "PL transit"
         },
         {
          "camera_id": 4,
          "created": "1970-01-01T14:00:00",
          "heure": 14,
          "nb_veh": 1857.8,
          "pct_pl_transit": 41.393319606987994,
          "type": "VL total"
         },
         {
          "camera_id": 4,
          "created": "1970-01-01T15:00:00",
          "heure": 15,
          "nb_veh": 532,
          "pct_pl_transit": 35.73948364443493,
          "type": "PL total"
         },
         {
          "camera_id": 4,
          "created": "1970-01-01T15:00:00",
          "heure": 15,
          "nb_veh": 221,
          "pct_pl_transit": 35.73948364443493,
          "type": "PL transit"
         },
         {
          "camera_id": 4,
          "created": "1970-01-01T15:00:00",
          "heure": 15,
          "nb_veh": 2312,
          "pct_pl_transit": 35.73948364443493,
          "type": "VL total"
         },
         {
          "camera_id": 4,
          "created": "1970-01-01T16:00:00",
          "heure": 16,
          "nb_veh": 420.2,
          "pct_pl_transit": 36.33174587101748,
          "type": "PL total"
         },
         {
          "camera_id": 4,
          "created": "1970-01-01T16:00:00",
          "heure": 16,
          "nb_veh": 165,
          "pct_pl_transit": 36.33174587101748,
          "type": "PL transit"
         },
         {
          "camera_id": 4,
          "created": "1970-01-01T16:00:00",
          "heure": 16,
          "nb_veh": 2549,
          "pct_pl_transit": 36.33174587101748,
          "type": "VL total"
         },
         {
          "camera_id": 4,
          "created": "1970-01-01T17:00:00",
          "heure": 17,
          "nb_veh": 336.6,
          "pct_pl_transit": 21.734299757265337,
          "type": "PL total"
         },
         {
          "camera_id": 4,
          "created": "1970-01-01T17:00:00",
          "heure": 17,
          "nb_veh": 81.33333333333333,
          "pct_pl_transit": 21.734299757265337,
          "type": "PL transit"
         },
         {
          "camera_id": 4,
          "created": "1970-01-01T17:00:00",
          "heure": 17,
          "nb_veh": 2192.2,
          "pct_pl_transit": 21.734299757265337,
          "type": "VL total"
         },
         {
          "camera_id": 4,
          "created": "1970-01-01T18:00:00",
          "heure": 18,
          "nb_veh": 330.8,
          "pct_pl_transit": 22.267992588635284,
          "type": "PL total"
         },
         {
          "camera_id": 4,
          "created": "1970-01-01T18:00:00",
          "heure": 18,
          "nb_veh": 83.66666666666667,
          "pct_pl_transit": 22.267992588635284,
          "type": "PL transit"
         },
         {
          "camera_id": 4,
          "created": "1970-01-01T18:00:00",
          "heure": 18,
          "nb_veh": 1821.8,
          "pct_pl_transit": 22.267992588635284,
          "type": "VL total"
         },
         {
          "camera_id": 4,
          "created": "1970-01-01T19:00:00",
          "heure": 19,
          "nb_veh": 251.6,
          "pct_pl_transit": 27.54853928506623,
          "type": "PL total"
         },
         {
          "camera_id": 4,
          "created": "1970-01-01T19:00:00",
          "heure": 19,
          "nb_veh": 81.66666666666667,
          "pct_pl_transit": 27.54853928506623,
          "type": "PL transit"
         },
         {
          "camera_id": 4,
          "created": "1970-01-01T19:00:00",
          "heure": 19,
          "nb_veh": 1315.4,
          "pct_pl_transit": 27.54853928506623,
          "type": "VL total"
         },
         {
          "camera_id": 4,
          "created": "1970-01-01T20:00:00",
          "heure": 20,
          "nb_veh": 204.4,
          "pct_pl_transit": 35.46185568244392,
          "type": "PL total"
         },
         {
          "camera_id": 4,
          "created": "1970-01-01T20:00:00",
          "heure": 20,
          "nb_veh": 84,
          "pct_pl_transit": 35.46185568244392,
          "type": "PL transit"
         },
         {
          "camera_id": 4,
          "created": "1970-01-01T20:00:00",
          "heure": 20,
          "nb_veh": 802,
          "pct_pl_transit": 35.46185568244392,
          "type": "VL total"
         },
         {
          "camera_id": 4,
          "created": "1970-01-01T21:00:00",
          "heure": 21,
          "nb_veh": 175.6,
          "pct_pl_transit": 36.9790056058526,
          "type": "PL total"
         },
         {
          "camera_id": 4,
          "created": "1970-01-01T21:00:00",
          "heure": 21,
          "nb_veh": 72.33333333333333,
          "pct_pl_transit": 36.9790056058526,
          "type": "PL transit"
         },
         {
          "camera_id": 4,
          "created": "1970-01-01T21:00:00",
          "heure": 21,
          "nb_veh": 650.6,
          "pct_pl_transit": 36.9790056058526,
          "type": "VL total"
         },
         {
          "camera_id": 4,
          "created": "1970-01-01T22:00:00",
          "heure": 22,
          "nb_veh": 138.4,
          "pct_pl_transit": 35.201384941914256,
          "type": "PL total"
         },
         {
          "camera_id": 4,
          "created": "1970-01-01T22:00:00",
          "heure": 22,
          "nb_veh": 51.666666666666664,
          "pct_pl_transit": 35.201384941914256,
          "type": "PL transit"
         },
         {
          "camera_id": 4,
          "created": "1970-01-01T22:00:00",
          "heure": 22,
          "nb_veh": 472.6,
          "pct_pl_transit": 35.201384941914256,
          "type": "VL total"
         },
         {
          "camera_id": 4,
          "created": "1970-01-01T23:00:00",
          "heure": 23,
          "nb_veh": 120.2,
          "pct_pl_transit": 33.26824682896647,
          "type": "PL total"
         },
         {
          "camera_id": 4,
          "created": "1970-01-01T23:00:00",
          "heure": 23,
          "nb_veh": 44,
          "pct_pl_transit": 33.26824682896647,
          "type": "PL transit"
         },
         {
          "camera_id": 4,
          "created": "1970-01-01T23:00:00",
          "heure": 23,
          "nb_veh": 319,
          "pct_pl_transit": 33.26824682896647,
          "type": "VL total"
         }
        ]
       },
       "layer": [
        {
         "data": {
          "name": "data-95c3837ad20261cf18ae521e675b426a"
         },
         "encoding": {
          "color": {
           "field": "type",
           "type": "nominal"
          },
          "x": {
           "axis": {
            "format": "%H:%M",
            "title": "Heure"
           },
           "field": "created",
           "type": "temporal"
          },
          "y": {
           "axis": {
            "title": "Nb de véhicules"
           },
           "field": "nb_veh",
           "stack": null,
           "type": "quantitative"
          }
         },
         "mark": {
          "opacity": 0.7,
          "size": 20,
          "type": "bar"
         }
        },
        {
         "data": {
          "name": "data-95c3837ad20261cf18ae521e675b426a"
         },
         "encoding": {
          "x": {
           "axis": {
            "format": "%H:%M",
            "title": "Heure"
           },
           "field": "created",
           "type": "temporal"
          },
          "y": {
           "axis": {
            "title": "% de PL en transit"
           },
           "field": "pct_pl_transit",
           "type": "quantitative"
          }
         },
         "mark": {
          "color": "green",
          "type": "line"
         }
        }
       ],
       "resolve": {
        "scale": {
         "color": "shared",
         "x": "shared",
         "y": "independent"
        }
       },
       "width": 800
      },
      "image/png": "[encoded data removed]",
      "text/plain": [
       "<VegaLite 2 object>\n",
       "\n",
       "If you see this message, it means the renderer has not been properly enabled\n",
       "for the frontend that you are using. For more information, see\n",
       "https://altair-viz.github.io/user_guide/troubleshooting.html\n"
      ]
     },
     "execution_count": 133,
     "metadata": {},
     "output_type": "execute_result"
    }
   ],
   "source": [
    "g.graph_VL_PL_transit_j_cam(synt_nb_veh_cam_redresse, 'JO', 4)"
   ]
  },
  {
   "cell_type": "markdown",
   "metadata": {},
   "source": [
    "# 8. Temps de parcours"
   ]
  },
  {
   "cell_type": "code",
   "execution_count": 26,
   "metadata": {},
   "outputs": [],
   "source": [
    "# on cherche à obtenir le temps de parcours moyen pour une camera, sur un jour ou les jours ouvres, par o_d\n",
    "# on construit donc une df avec : immat, cam, tps_parcours, heure_Rocade\n",
    "# pour l'heure à la Rocade : on va cehrcher dans les df_passage le passage:qui a la mm immat, dont la cam est 1,2,3,4 et dont le created est compris entre date_cam1et date_cam2\n",
    "\n",
    "#isoler les passages concernes par la Rocade\n",
    "passage_rocade=dico_passag_final.loc[(dico_passag_final['camera_id'].isin([1,2,3,4]))]# & (dico_passag_final['correction_o_d']==False)]"
   ]
  },
  {
   "cell_type": "code",
   "execution_count": 36,
   "metadata": {},
   "outputs": [],
   "source": [
    "#jointure entre les o_d et les passages\n",
    "o_d_joint_rocade=dico_od_final.merge(passage_rocade, on='immat', how='left')"
   ]
  },
  {
   "cell_type": "code",
   "execution_count": 109,
   "metadata": {},
   "outputs": [],
   "source": [
    "#limiter les o_d là ou date du passages est ciompris entre les date 1 et date 2 de l'o_d\n",
    "dico_od_Rocade_final=o_d_joint_rocade.loc[(o_d_joint_rocade['date_cam_1']<o_d_joint_rocade['created']) & \n",
    "                                          (o_d_joint_rocade['created']<o_d_joint_rocade['date_cam_2']) & \n",
    "                                          (o_d_joint_rocade['tps_parcours']<pd.Timedelta('4H'))]"
   ]
  },
  {
   "cell_type": "code",
   "execution_count": 110,
   "metadata": {},
   "outputs": [],
   "source": [
    "limite_donnees=dico_od_Rocade_final[['date_cam_1','immat','o_d','tps_parcours','created']].rename(columns={'created':'h_rocade'})\n",
    "limite_donnees['tps_parcours2']=limite_donnees['tps_parcours'].values.astype(np.int64)"
   ]
  },
  {
   "cell_type": "code",
   "execution_count": 123,
   "metadata": {},
   "outputs": [
    {
     "ename": "AttributeError",
     "evalue": "'DatetimeIndexResamplerGroupby' object has no attribute 'quantile'",
     "output_type": "error",
     "traceback": [
      "\u001b[1;31m---------------------------------------------------------------------------\u001b[0m",
      "\u001b[1;31mAttributeError\u001b[0m                            Traceback (most recent call last)",
      "\u001b[1;32m<ipython-input-123-0bbdf53bf515>\u001b[0m in \u001b[0;36m<module>\u001b[1;34m\u001b[0m\n\u001b[1;32m----> 1\u001b[1;33m \u001b[0mgroupe_h\u001b[0m\u001b[1;33m=\u001b[0m\u001b[0mlimite_donnees\u001b[0m\u001b[1;33m.\u001b[0m\u001b[0mset_index\u001b[0m\u001b[1;33m(\u001b[0m\u001b[1;34m'h_rocade'\u001b[0m\u001b[1;33m)\u001b[0m\u001b[1;33m.\u001b[0m\u001b[0mgroupby\u001b[0m\u001b[1;33m(\u001b[0m\u001b[1;34m'o_d'\u001b[0m\u001b[1;33m)\u001b[0m\u001b[1;33m.\u001b[0m\u001b[0mresample\u001b[0m\u001b[1;33m(\u001b[0m\u001b[1;34m'15T'\u001b[0m\u001b[1;33m)\u001b[0m\u001b[1;33m[\u001b[0m\u001b[1;34m'tps_parcours2'\u001b[0m\u001b[1;33m]\u001b[0m\u001b[1;33m.\u001b[0m\u001b[0mquantile\u001b[0m\u001b[1;33m(\u001b[0m\u001b[1;36m0.5\u001b[0m\u001b[1;33m)\u001b[0m\u001b[1;33m\u001b[0m\u001b[0m\n\u001b[0m\u001b[0;32m      2\u001b[0m \u001b[1;31m#groupe_h['tps_parcours']=pd.to_timedelta(groupe_h['tps_parcours'])\u001b[0m\u001b[1;33m\u001b[0m\u001b[1;33m\u001b[0m\u001b[0m\n\u001b[0;32m      3\u001b[0m \u001b[0mgroupe_h\u001b[0m\u001b[1;33m=\u001b[0m\u001b[0mpd\u001b[0m\u001b[1;33m.\u001b[0m\u001b[0mto_timedelta\u001b[0m\u001b[1;33m(\u001b[0m\u001b[0mgroupe_h\u001b[0m\u001b[1;33m)\u001b[0m\u001b[1;33m\u001b[0m\u001b[0m\n\u001b[0;32m      4\u001b[0m \u001b[0mpour_graph\u001b[0m\u001b[1;33m=\u001b[0m\u001b[0mgroupe_h\u001b[0m\u001b[1;33m.\u001b[0m\u001b[0mreset_index\u001b[0m\u001b[1;33m(\u001b[0m\u001b[1;33m)\u001b[0m\u001b[1;33m\u001b[0m\u001b[0m\n\u001b[0;32m      5\u001b[0m \u001b[0mpour_graph\u001b[0m\u001b[1;33m[\u001b[0m\u001b[1;34m'tps_parcours2'\u001b[0m\u001b[1;33m]\u001b[0m\u001b[1;33m=\u001b[0m\u001b[0mpd\u001b[0m\u001b[1;33m.\u001b[0m\u001b[0mto_datetime\u001b[0m\u001b[1;33m(\u001b[0m\u001b[1;34m'2019-01-31'\u001b[0m\u001b[1;33m)\u001b[0m\u001b[1;33m+\u001b[0m\u001b[0mpour_graph\u001b[0m\u001b[1;33m[\u001b[0m\u001b[1;34m'tps_parcours2'\u001b[0m\u001b[1;33m]\u001b[0m\u001b[1;33m\u001b[0m\u001b[0m\n",
      "\u001b[1;32mc:\\users\\martin.schoreisz\\appdata\\local\\programs\\python\\python37\\lib\\site-packages\\pandas\\core\\resample.py\u001b[0m in \u001b[0;36m__getattr__\u001b[1;34m(self, attr)\u001b[0m\n\u001b[0;32m     95\u001b[0m             \u001b[1;32mreturn\u001b[0m \u001b[0mself\u001b[0m\u001b[1;33m[\u001b[0m\u001b[0mattr\u001b[0m\u001b[1;33m]\u001b[0m\u001b[1;33m\u001b[0m\u001b[0m\n\u001b[0;32m     96\u001b[0m \u001b[1;33m\u001b[0m\u001b[0m\n\u001b[1;32m---> 97\u001b[1;33m         \u001b[1;32mreturn\u001b[0m \u001b[0mobject\u001b[0m\u001b[1;33m.\u001b[0m\u001b[0m__getattribute__\u001b[0m\u001b[1;33m(\u001b[0m\u001b[0mself\u001b[0m\u001b[1;33m,\u001b[0m \u001b[0mattr\u001b[0m\u001b[1;33m)\u001b[0m\u001b[1;33m\u001b[0m\u001b[0m\n\u001b[0m\u001b[0;32m     98\u001b[0m \u001b[1;33m\u001b[0m\u001b[0m\n\u001b[0;32m     99\u001b[0m     \u001b[1;33m@\u001b[0m\u001b[0mproperty\u001b[0m\u001b[1;33m\u001b[0m\u001b[0m\n",
      "\u001b[1;31mAttributeError\u001b[0m: 'DatetimeIndexResamplerGroupby' object has no attribute 'quantile'"
     ]
    }
   ],
   "source": [
    "groupe_h=limite_donnees.set_index('h_rocade').groupby('o_d').resample('15T')['tps_parcours2'].quantile(0.5)\n",
    "#groupe_h['tps_parcours']=pd.to_timedelta(groupe_h['tps_parcours'])\n",
    "groupe_h=pd.to_timedelta(groupe_h)\n",
    "pour_graph=groupe_h.reset_index()\n",
    "pour_graph['tps_parcours2']=pd.to_datetime('2019-01-31')+pour_graph['tps_parcours2']\n",
    "pour_graph"
   ]
  },
  {
   "cell_type": "code",
   "execution_count": 119,
   "metadata": {},
   "outputs": [],
   "source": [
    "pour_graph2=pour_graph.loc[(pour_graph.apply(lambda x : x['h_rocade'].dayofyear==pd.to_datetime('2019-01-29').dayofyear,axis=1)) & \n",
    "                          (pour_graph['o_d']=='A63-N10')]\n",
    "pour_graph2['quantile'="
   ]
  },
  {
   "cell_type": "code",
   "execution_count": 120,
   "metadata": {},
   "outputs": [
    {
     "data": {
      "application/vnd.vegalite.v2+json": {
       "$schema": "https://vega.github.io/schema/vega-lite/v2.6.0.json",
       "config": {
        "view": {
         "height": 300,
         "width": 400
        }
       },
       "data": {
        "name": "data-b45328a9ce096abb63ddb36658545b68"
       },
       "datasets": {
        "data-b45328a9ce096abb63ddb36658545b68": [
         {
          "h_rocade": "2019-01-29T00:00:00",
          "o_d": "A63-N10",
          "tps_parcours2": "2019-01-31T00:58:32.500000"
         },
         {
          "h_rocade": "2019-01-29T00:15:00",
          "o_d": "A63-N10",
          "tps_parcours2": "2019-01-31T00:59:42.888888888"
         },
         {
          "h_rocade": "2019-01-29T00:30:00",
          "o_d": "A63-N10",
          "tps_parcours2": "2019-01-31T01:03:22.666666666"
         },
         {
          "h_rocade": "2019-01-29T00:45:00",
          "o_d": "A63-N10",
          "tps_parcours2": "2019-01-31T01:28:51"
         },
         {
          "h_rocade": "2019-01-29T01:00:00",
          "o_d": "A63-N10",
          "tps_parcours2": "2019-01-31T01:15:06"
         },
         {
          "h_rocade": "2019-01-29T01:15:00",
          "o_d": "A63-N10",
          "tps_parcours2": ""
         },
         {
          "h_rocade": "2019-01-29T01:30:00",
          "o_d": "A63-N10",
          "tps_parcours2": "2019-01-31T01:10:58.500000"
         },
         {
          "h_rocade": "2019-01-29T01:45:00",
          "o_d": "A63-N10",
          "tps_parcours2": "2019-01-31T00:59:40"
         },
         {
          "h_rocade": "2019-01-29T02:00:00",
          "o_d": "A63-N10",
          "tps_parcours2": ""
         },
         {
          "h_rocade": "2019-01-29T02:15:00",
          "o_d": "A63-N10",
          "tps_parcours2": "2019-01-31T01:11:13"
         },
         {
          "h_rocade": "2019-01-29T02:30:00",
          "o_d": "A63-N10",
          "tps_parcours2": "2019-01-31T01:01:59"
         },
         {
          "h_rocade": "2019-01-29T02:45:00",
          "o_d": "A63-N10",
          "tps_parcours2": "2019-01-31T00:59:30"
         },
         {
          "h_rocade": "2019-01-29T03:00:00",
          "o_d": "A63-N10",
          "tps_parcours2": "2019-01-31T00:57:49"
         },
         {
          "h_rocade": "2019-01-29T03:15:00",
          "o_d": "A63-N10",
          "tps_parcours2": "2019-01-31T00:59:26"
         },
         {
          "h_rocade": "2019-01-29T03:30:00",
          "o_d": "A63-N10",
          "tps_parcours2": "2019-01-31T01:03:51.333333333"
         },
         {
          "h_rocade": "2019-01-29T03:45:00",
          "o_d": "A63-N10",
          "tps_parcours2": "2019-01-31T00:58:35.500000"
         },
         {
          "h_rocade": "2019-01-29T04:00:00",
          "o_d": "A63-N10",
          "tps_parcours2": "2019-01-31T00:58:44.750000"
         },
         {
          "h_rocade": "2019-01-29T04:15:00",
          "o_d": "A63-N10",
          "tps_parcours2": "2019-01-31T00:58:41.250000"
         },
         {
          "h_rocade": "2019-01-29T04:30:00",
          "o_d": "A63-N10",
          "tps_parcours2": "2019-01-31T00:58:49.500000"
         },
         {
          "h_rocade": "2019-01-29T04:45:00",
          "o_d": "A63-N10",
          "tps_parcours2": "2019-01-31T01:03:10.777777777"
         },
         {
          "h_rocade": "2019-01-29T05:00:00",
          "o_d": "A63-N10",
          "tps_parcours2": "2019-01-31T01:01:53.250000"
         },
         {
          "h_rocade": "2019-01-29T05:15:00",
          "o_d": "A63-N10",
          "tps_parcours2": "2019-01-31T01:01:19.857142857"
         },
         {
          "h_rocade": "2019-01-29T05:30:00",
          "o_d": "A63-N10",
          "tps_parcours2": "2019-01-31T01:05:11"
         },
         {
          "h_rocade": "2019-01-29T05:45:00",
          "o_d": "A63-N10",
          "tps_parcours2": "2019-01-31T01:01:02"
         },
         {
          "h_rocade": "2019-01-29T06:00:00",
          "o_d": "A63-N10",
          "tps_parcours2": "2019-01-31T01:03:39.875000"
         },
         {
          "h_rocade": "2019-01-29T06:15:00",
          "o_d": "A63-N10",
          "tps_parcours2": "2019-01-31T01:10:45"
         },
         {
          "h_rocade": "2019-01-29T06:30:00",
          "o_d": "A63-N10",
          "tps_parcours2": "2019-01-31T01:12:34.400000"
         },
         {
          "h_rocade": "2019-01-29T06:45:00",
          "o_d": "A63-N10",
          "tps_parcours2": "2019-01-31T01:12:16.777777777"
         },
         {
          "h_rocade": "2019-01-29T07:00:00",
          "o_d": "A63-N10",
          "tps_parcours2": "2019-01-31T01:34:56"
         },
         {
          "h_rocade": "2019-01-29T07:15:00",
          "o_d": "A63-N10",
          "tps_parcours2": "2019-01-31T01:29:46.333333333"
         },
         {
          "h_rocade": "2019-01-29T07:30:00",
          "o_d": "A63-N10",
          "tps_parcours2": "2019-01-31T01:24:49.928571428"
         },
         {
          "h_rocade": "2019-01-29T07:45:00",
          "o_d": "A63-N10",
          "tps_parcours2": "2019-01-31T01:23:49.909090909"
         },
         {
          "h_rocade": "2019-01-29T08:00:00",
          "o_d": "A63-N10",
          "tps_parcours2": "2019-01-31T01:18:20"
         },
         {
          "h_rocade": "2019-01-29T08:15:00",
          "o_d": "A63-N10",
          "tps_parcours2": "2019-01-31T01:09:39.857142857"
         },
         {
          "h_rocade": "2019-01-29T08:30:00",
          "o_d": "A63-N10",
          "tps_parcours2": "2019-01-31T01:15:49"
         },
         {
          "h_rocade": "2019-01-29T08:45:00",
          "o_d": "A63-N10",
          "tps_parcours2": "2019-01-31T01:10:15.659090909"
         },
         {
          "h_rocade": "2019-01-29T09:00:00",
          "o_d": "A63-N10",
          "tps_parcours2": "2019-01-31T01:05:19.476190476"
         },
         {
          "h_rocade": "2019-01-29T09:15:00",
          "o_d": "A63-N10",
          "tps_parcours2": "2019-01-31T01:04:43.367346938"
         },
         {
          "h_rocade": "2019-01-29T09:30:00",
          "o_d": "A63-N10",
          "tps_parcours2": "2019-01-31T01:04:50.925925925"
         },
         {
          "h_rocade": "2019-01-29T09:45:00",
          "o_d": "A63-N10",
          "tps_parcours2": "2019-01-31T01:03:59.731707317"
         },
         {
          "h_rocade": "2019-01-29T10:00:00",
          "o_d": "A63-N10",
          "tps_parcours2": "2019-01-31T01:05:21.756097560"
         },
         {
          "h_rocade": "2019-01-29T10:15:00",
          "o_d": "A63-N10",
          "tps_parcours2": "2019-01-31T01:06:22.250000"
         },
         {
          "h_rocade": "2019-01-29T10:30:00",
          "o_d": "A63-N10",
          "tps_parcours2": "2019-01-31T01:05:22.086956521"
         },
         {
          "h_rocade": "2019-01-29T10:45:00",
          "o_d": "A63-N10",
          "tps_parcours2": "2019-01-31T01:05:42.545454545"
         },
         {
          "h_rocade": "2019-01-29T11:00:00",
          "o_d": "A63-N10",
          "tps_parcours2": "2019-01-31T01:06:32.500000"
         },
         {
          "h_rocade": "2019-01-29T11:15:00",
          "o_d": "A63-N10",
          "tps_parcours2": "2019-01-31T01:04:18.232558139"
         },
         {
          "h_rocade": "2019-01-29T11:30:00",
          "o_d": "A63-N10",
          "tps_parcours2": "2019-01-31T01:04:56"
         },
         {
          "h_rocade": "2019-01-29T11:45:00",
          "o_d": "A63-N10",
          "tps_parcours2": "2019-01-31T01:05:22.196428571"
         },
         {
          "h_rocade": "2019-01-29T12:00:00",
          "o_d": "A63-N10",
          "tps_parcours2": "2019-01-31T01:03:32.333333333"
         },
         {
          "h_rocade": "2019-01-29T12:15:00",
          "o_d": "A63-N10",
          "tps_parcours2": "2019-01-31T01:03:10.800000"
         },
         {
          "h_rocade": "2019-01-29T12:30:00",
          "o_d": "A63-N10",
          "tps_parcours2": ""
         },
         {
          "h_rocade": "2019-01-29T12:45:00",
          "o_d": "A63-N10",
          "tps_parcours2": ""
         },
         {
          "h_rocade": "2019-01-29T13:00:00",
          "o_d": "A63-N10",
          "tps_parcours2": ""
         },
         {
          "h_rocade": "2019-01-29T13:15:00",
          "o_d": "A63-N10",
          "tps_parcours2": ""
         },
         {
          "h_rocade": "2019-01-29T13:30:00",
          "o_d": "A63-N10",
          "tps_parcours2": ""
         },
         {
          "h_rocade": "2019-01-29T13:45:00",
          "o_d": "A63-N10",
          "tps_parcours2": ""
         },
         {
          "h_rocade": "2019-01-29T14:00:00",
          "o_d": "A63-N10",
          "tps_parcours2": ""
         },
         {
          "h_rocade": "2019-01-29T14:15:00",
          "o_d": "A63-N10",
          "tps_parcours2": ""
         },
         {
          "h_rocade": "2019-01-29T14:30:00",
          "o_d": "A63-N10",
          "tps_parcours2": "2019-01-31T01:08:38"
         },
         {
          "h_rocade": "2019-01-29T14:45:00",
          "o_d": "A63-N10",
          "tps_parcours2": "2019-01-31T01:09:28.633333333"
         },
         {
          "h_rocade": "2019-01-29T15:00:00",
          "o_d": "A63-N10",
          "tps_parcours2": "2019-01-31T01:13:50.517241379"
         },
         {
          "h_rocade": "2019-01-29T15:15:00",
          "o_d": "A63-N10",
          "tps_parcours2": "2019-01-31T01:16:48.088235294"
         },
         {
          "h_rocade": "2019-01-29T15:30:00",
          "o_d": "A63-N10",
          "tps_parcours2": "2019-01-31T01:26:46.333333333"
         },
         {
          "h_rocade": "2019-01-29T15:45:00",
          "o_d": "A63-N10",
          "tps_parcours2": "2019-01-31T01:24:15.826086956"
         },
         {
          "h_rocade": "2019-01-29T16:00:00",
          "o_d": "A63-N10",
          "tps_parcours2": "2019-01-31T01:26:01.125000"
         },
         {
          "h_rocade": "2019-01-29T16:15:00",
          "o_d": "A63-N10",
          "tps_parcours2": "2019-01-31T01:28:19.375000"
         },
         {
          "h_rocade": "2019-01-29T16:30:00",
          "o_d": "A63-N10",
          "tps_parcours2": "2019-01-31T01:31:01.653846153"
         },
         {
          "h_rocade": "2019-01-29T16:45:00",
          "o_d": "A63-N10",
          "tps_parcours2": "2019-01-31T01:31:01.500000"
         },
         {
          "h_rocade": "2019-01-29T17:00:00",
          "o_d": "A63-N10",
          "tps_parcours2": "2019-01-31T01:31:11.222222222"
         },
         {
          "h_rocade": "2019-01-29T17:15:00",
          "o_d": "A63-N10",
          "tps_parcours2": "2019-01-31T01:31:10.090909090"
         },
         {
          "h_rocade": "2019-01-29T17:30:00",
          "o_d": "A63-N10",
          "tps_parcours2": "2019-01-31T01:23:24.571428571"
         },
         {
          "h_rocade": "2019-01-29T17:45:00",
          "o_d": "A63-N10",
          "tps_parcours2": "2019-01-31T01:20:41.437500"
         },
         {
          "h_rocade": "2019-01-29T18:00:00",
          "o_d": "A63-N10",
          "tps_parcours2": "2019-01-31T01:15:04.250000"
         },
         {
          "h_rocade": "2019-01-29T18:15:00",
          "o_d": "A63-N10",
          "tps_parcours2": "2019-01-31T01:03:50.750000"
         },
         {
          "h_rocade": "2019-01-29T18:30:00",
          "o_d": "A63-N10",
          "tps_parcours2": "2019-01-31T01:09:39.636363636"
         },
         {
          "h_rocade": "2019-01-29T18:45:00",
          "o_d": "A63-N10",
          "tps_parcours2": "2019-01-31T01:11:40.222222222"
         },
         {
          "h_rocade": "2019-01-29T19:00:00",
          "o_d": "A63-N10",
          "tps_parcours2": "2019-01-31T01:15:19"
         },
         {
          "h_rocade": "2019-01-29T19:15:00",
          "o_d": "A63-N10",
          "tps_parcours2": "2019-01-31T01:11:02.285714285"
         },
         {
          "h_rocade": "2019-01-29T19:30:00",
          "o_d": "A63-N10",
          "tps_parcours2": "2019-01-31T01:01:58.428571428"
         },
         {
          "h_rocade": "2019-01-29T19:45:00",
          "o_d": "A63-N10",
          "tps_parcours2": "2019-01-31T01:01:08.833333333"
         },
         {
          "h_rocade": "2019-01-29T20:00:00",
          "o_d": "A63-N10",
          "tps_parcours2": "2019-01-31T01:01:17.833333333"
         },
         {
          "h_rocade": "2019-01-29T20:15:00",
          "o_d": "A63-N10",
          "tps_parcours2": "2019-01-31T01:04:25.500000"
         },
         {
          "h_rocade": "2019-01-29T20:30:00",
          "o_d": "A63-N10",
          "tps_parcours2": "2019-01-31T01:13:48.562500"
         },
         {
          "h_rocade": "2019-01-29T20:45:00",
          "o_d": "A63-N10",
          "tps_parcours2": "2019-01-31T01:12:56"
         },
         {
          "h_rocade": "2019-01-29T21:00:00",
          "o_d": "A63-N10",
          "tps_parcours2": "2019-01-31T01:04:32.181818181"
         },
         {
          "h_rocade": "2019-01-29T21:15:00",
          "o_d": "A63-N10",
          "tps_parcours2": "2019-01-31T01:13:38.941176470"
         },
         {
          "h_rocade": "2019-01-29T21:30:00",
          "o_d": "A63-N10",
          "tps_parcours2": "2019-01-31T01:02:32.400000"
         },
         {
          "h_rocade": "2019-01-29T21:45:00",
          "o_d": "A63-N10",
          "tps_parcours2": "2019-01-31T01:09:17.333333333"
         },
         {
          "h_rocade": "2019-01-29T22:00:00",
          "o_d": "A63-N10",
          "tps_parcours2": "2019-01-31T01:15:03.210526315"
         },
         {
          "h_rocade": "2019-01-29T22:15:00",
          "o_d": "A63-N10",
          "tps_parcours2": "2019-01-31T01:14:25"
         },
         {
          "h_rocade": "2019-01-29T22:30:00",
          "o_d": "A63-N10",
          "tps_parcours2": "2019-01-31T01:04:24"
         },
         {
          "h_rocade": "2019-01-29T22:45:00",
          "o_d": "A63-N10",
          "tps_parcours2": "2019-01-31T01:11:10.583333333"
         },
         {
          "h_rocade": "2019-01-29T23:00:00",
          "o_d": "A63-N10",
          "tps_parcours2": "2019-01-31T01:05:59.300000"
         },
         {
          "h_rocade": "2019-01-29T23:15:00",
          "o_d": "A63-N10",
          "tps_parcours2": "2019-01-31T01:14:34.727272727"
         },
         {
          "h_rocade": "2019-01-29T23:30:00",
          "o_d": "A63-N10",
          "tps_parcours2": "2019-01-31T01:08:53.166666666"
         },
         {
          "h_rocade": "2019-01-29T23:45:00",
          "o_d": "A63-N10",
          "tps_parcours2": "2019-01-31T01:08:55.555555555"
         }
        ]
       },
       "encoding": {
        "color": {
         "field": "o_d",
         "type": "nominal"
        },
        "x": {
         "field": "h_rocade",
         "type": "temporal"
        },
        "y": {
         "field": "tps_parcours2",
         "timeUnit": "hoursminutes",
         "type": "temporal"
        }
       },
       "mark": "line",
       "width": 800
      },
      "image/png": "[encoded data removed]",
      "text/plain": [
       "<VegaLite 2 object>\n",
       "\n",
       "If you see this message, it means the renderer has not been properly enabled\n",
       "for the frontend that you are using. For more information, see\n",
       "https://altair-viz.github.io/user_guide/troubleshooting.html\n"
      ]
     },
     "execution_count": 120,
     "metadata": {},
     "output_type": "execute_result"
    }
   ],
   "source": [
    "alt.Chart(pour_graph2).mark_line().encode(\n",
    "    x='h_rocade',\n",
    "    y='hoursminutes(tps_parcours2)',\n",
    "color='o_d').properties(width=800)"
   ]
  },
  {
   "cell_type": "code",
   "execution_count": 125,
   "metadata": {},
   "outputs": [
    {
     "data": {
      "text/html": [
       "<div>\n",
       "<style scoped>\n",
       "    .dataframe tbody tr th:only-of-type {\n",
       "        vertical-align: middle;\n",
       "    }\n",
       "\n",
       "    .dataframe tbody tr th {\n",
       "        vertical-align: top;\n",
       "    }\n",
       "\n",
       "    .dataframe thead th {\n",
       "        text-align: right;\n",
       "    }\n",
       "</style>\n",
       "<table border=\"1\" class=\"dataframe\">\n",
       "  <thead>\n",
       "    <tr style=\"text-align: right;\">\n",
       "      <th></th>\n",
       "      <th>date_cam_1</th>\n",
       "      <th>index</th>\n",
       "      <th>immat</th>\n",
       "      <th>l</th>\n",
       "      <th>state</th>\n",
       "      <th>id</th>\n",
       "      <th>date_cam_2</th>\n",
       "      <th>cameras</th>\n",
       "      <th>origine</th>\n",
       "      <th>destination</th>\n",
       "      <th>o_d</th>\n",
       "      <th>tps_parcours</th>\n",
       "      <th>period</th>\n",
       "      <th>date</th>\n",
       "      <th>temps</th>\n",
       "      <th>type</th>\n",
       "      <th>tps_parcours_theoriq</th>\n",
       "      <th>filtre_tps</th>\n",
       "    </tr>\n",
       "  </thead>\n",
       "  <tbody>\n",
       "    <tr>\n",
       "      <th>14022</th>\n",
       "      <td>2019-01-29 18:31:17</td>\n",
       "      <td>175670</td>\n",
       "      <td>51c70ab17c5dc09a43b4cc90dff46c2a18724ed9</td>\n",
       "      <td>1</td>\n",
       "      <td>ES</td>\n",
       "      <td>660675</td>\n",
       "      <td>2019-01-29 19:34:14</td>\n",
       "      <td>(15, 19, 5)</td>\n",
       "      <td>A63</td>\n",
       "      <td>N10</td>\n",
       "      <td>A63-N10</td>\n",
       "      <td>01:02:57</td>\n",
       "      <td>2019-01-29 18:30</td>\n",
       "      <td>2019-01-29 18:30:00</td>\n",
       "      <td>01:05:25</td>\n",
       "      <td>Cluster</td>\n",
       "      <td>01:03:47.194000</td>\n",
       "      <td>1</td>\n",
       "    </tr>\n",
       "    <tr>\n",
       "      <th>10839</th>\n",
       "      <td>2019-01-29 18:31:20</td>\n",
       "      <td>145894</td>\n",
       "      <td>7027103c2ec1e2736a7e4316f51fe9847c28b485</td>\n",
       "      <td>1</td>\n",
       "      <td>PT</td>\n",
       "      <td>906796</td>\n",
       "      <td>2019-01-29 19:33:58</td>\n",
       "      <td>(15, 4, 5)</td>\n",
       "      <td>A63</td>\n",
       "      <td>N10</td>\n",
       "      <td>A63-N10</td>\n",
       "      <td>01:02:38</td>\n",
       "      <td>2019-01-29 18:30</td>\n",
       "      <td>2019-01-29 18:30:00</td>\n",
       "      <td>01:05:25</td>\n",
       "      <td>Cluster</td>\n",
       "      <td>01:03:47.194000</td>\n",
       "      <td>1</td>\n",
       "    </tr>\n",
       "    <tr>\n",
       "      <th>3735</th>\n",
       "      <td>2019-01-29 18:31:27</td>\n",
       "      <td>184469</td>\n",
       "      <td>1c4bfb5d6c7d041727256a1cb6a9ea6bcb379d63</td>\n",
       "      <td>1</td>\n",
       "      <td>ES</td>\n",
       "      <td>228874</td>\n",
       "      <td>2019-01-29 19:34:32</td>\n",
       "      <td>(15, 19, 4, 5)</td>\n",
       "      <td>A63</td>\n",
       "      <td>N10</td>\n",
       "      <td>A63-N10</td>\n",
       "      <td>01:03:05</td>\n",
       "      <td>2019-01-29 18:30</td>\n",
       "      <td>2019-01-29 18:30:00</td>\n",
       "      <td>01:05:25</td>\n",
       "      <td>Cluster</td>\n",
       "      <td>01:03:47.194000</td>\n",
       "      <td>1</td>\n",
       "    </tr>\n",
       "    <tr>\n",
       "      <th>3736</th>\n",
       "      <td>2019-01-29 18:31:34</td>\n",
       "      <td>175671</td>\n",
       "      <td>5347d87075802111fcfd66f9507b5ccfa64ffdab</td>\n",
       "      <td>1</td>\n",
       "      <td>ES</td>\n",
       "      <td>673019</td>\n",
       "      <td>2019-01-29 19:34:51</td>\n",
       "      <td>(15, 19, 4, 5)</td>\n",
       "      <td>A63</td>\n",
       "      <td>N10</td>\n",
       "      <td>A63-N10</td>\n",
       "      <td>01:03:17</td>\n",
       "      <td>2019-01-29 18:30</td>\n",
       "      <td>2019-01-29 18:30:00</td>\n",
       "      <td>01:05:25</td>\n",
       "      <td>Cluster</td>\n",
       "      <td>01:03:47.194000</td>\n",
       "      <td>1</td>\n",
       "    </tr>\n",
       "    <tr>\n",
       "      <th>14023</th>\n",
       "      <td>2019-01-29 18:32:02</td>\n",
       "      <td>154248</td>\n",
       "      <td>6aeb19aee5c5b7019832f58dab1d7671b1ceff38</td>\n",
       "      <td>1</td>\n",
       "      <td>ES</td>\n",
       "      <td>863855</td>\n",
       "      <td>2019-01-29 19:33:25</td>\n",
       "      <td>(15, 19, 5)</td>\n",
       "      <td>A63</td>\n",
       "      <td>N10</td>\n",
       "      <td>A63-N10</td>\n",
       "      <td>01:01:23</td>\n",
       "      <td>2019-01-29 18:30</td>\n",
       "      <td>2019-01-29 18:30:00</td>\n",
       "      <td>01:05:25</td>\n",
       "      <td>Cluster</td>\n",
       "      <td>01:03:47.194000</td>\n",
       "      <td>1</td>\n",
       "    </tr>\n",
       "    <tr>\n",
       "      <th>3737</th>\n",
       "      <td>2019-01-29 18:32:42</td>\n",
       "      <td>160718</td>\n",
       "      <td>0e484e9597206ef003a9ff70998d8e0a109b380e</td>\n",
       "      <td>1</td>\n",
       "      <td>PT</td>\n",
       "      <td>115862</td>\n",
       "      <td>2019-01-29 19:34:35</td>\n",
       "      <td>(15, 19, 4, 5)</td>\n",
       "      <td>A63</td>\n",
       "      <td>N10</td>\n",
       "      <td>A63-N10</td>\n",
       "      <td>01:01:53</td>\n",
       "      <td>2019-01-29 18:30</td>\n",
       "      <td>2019-01-29 18:30:00</td>\n",
       "      <td>01:05:25</td>\n",
       "      <td>Cluster</td>\n",
       "      <td>01:03:47.194000</td>\n",
       "      <td>1</td>\n",
       "    </tr>\n",
       "    <tr>\n",
       "      <th>10840</th>\n",
       "      <td>2019-01-29 18:35:17</td>\n",
       "      <td>154250</td>\n",
       "      <td>d9d545c91c46c78cb289a3ef6854a51da2b2f19b</td>\n",
       "      <td>1</td>\n",
       "      <td>ES</td>\n",
       "      <td>1764407</td>\n",
       "      <td>2019-01-29 19:38:59</td>\n",
       "      <td>(15, 4, 5)</td>\n",
       "      <td>A63</td>\n",
       "      <td>N10</td>\n",
       "      <td>A63-N10</td>\n",
       "      <td>01:03:42</td>\n",
       "      <td>2019-01-29 18:30</td>\n",
       "      <td>2019-01-29 18:30:00</td>\n",
       "      <td>01:05:25</td>\n",
       "      <td>Cluster</td>\n",
       "      <td>01:03:47.194000</td>\n",
       "      <td>1</td>\n",
       "    </tr>\n",
       "    <tr>\n",
       "      <th>10841</th>\n",
       "      <td>2019-01-29 18:37:16</td>\n",
       "      <td>151496</td>\n",
       "      <td>05247c54afbb3f446b1280aa6a05c8b4e1803c5c</td>\n",
       "      <td>1</td>\n",
       "      <td>BE</td>\n",
       "      <td>41591</td>\n",
       "      <td>2019-01-29 19:42:41</td>\n",
       "      <td>(15, 4, 5)</td>\n",
       "      <td>A63</td>\n",
       "      <td>N10</td>\n",
       "      <td>A63-N10</td>\n",
       "      <td>01:05:25</td>\n",
       "      <td>2019-01-29 18:30</td>\n",
       "      <td>2019-01-29 18:30:00</td>\n",
       "      <td>01:05:25</td>\n",
       "      <td>Cluster</td>\n",
       "      <td>01:03:47.194000</td>\n",
       "      <td>1</td>\n",
       "    </tr>\n",
       "    <tr>\n",
       "      <th>3740</th>\n",
       "      <td>2019-01-29 18:37:26</td>\n",
       "      <td>164141</td>\n",
       "      <td>5ac56b7215f588e965aed21e0d9a940f51fe3f0f</td>\n",
       "      <td>1</td>\n",
       "      <td>ES</td>\n",
       "      <td>733154</td>\n",
       "      <td>2019-01-29 19:37:42</td>\n",
       "      <td>(15, 19, 4, 5)</td>\n",
       "      <td>A63</td>\n",
       "      <td>N10</td>\n",
       "      <td>A63-N10</td>\n",
       "      <td>01:00:16</td>\n",
       "      <td>2019-01-29 18:30</td>\n",
       "      <td>2019-01-29 18:30:00</td>\n",
       "      <td>01:05:25</td>\n",
       "      <td>Cluster</td>\n",
       "      <td>01:03:47.194000</td>\n",
       "      <td>1</td>\n",
       "    </tr>\n",
       "    <tr>\n",
       "      <th>10842</th>\n",
       "      <td>2019-01-29 18:37:46</td>\n",
       "      <td>164142</td>\n",
       "      <td>85fb0eda51cbe12f61a347f01119d360ff586b24</td>\n",
       "      <td>1</td>\n",
       "      <td>PL</td>\n",
       "      <td>1085715</td>\n",
       "      <td>2019-01-29 19:38:38</td>\n",
       "      <td>(15, 4, 5)</td>\n",
       "      <td>A63</td>\n",
       "      <td>N10</td>\n",
       "      <td>A63-N10</td>\n",
       "      <td>01:00:52</td>\n",
       "      <td>2019-01-29 18:30</td>\n",
       "      <td>2019-01-29 18:30:00</td>\n",
       "      <td>01:05:25</td>\n",
       "      <td>Cluster</td>\n",
       "      <td>01:03:47.194000</td>\n",
       "      <td>1</td>\n",
       "    </tr>\n",
       "    <tr>\n",
       "      <th>3743</th>\n",
       "      <td>2019-01-29 18:38:25</td>\n",
       "      <td>1468724</td>\n",
       "      <td>d79fecbedc734ce5c98a0301e4938efa23e1d5da</td>\n",
       "      <td>1</td>\n",
       "      <td>FR</td>\n",
       "      <td>1746360</td>\n",
       "      <td>2019-01-29 19:39:55</td>\n",
       "      <td>(15, 19, 4, 5)</td>\n",
       "      <td>A63</td>\n",
       "      <td>N10</td>\n",
       "      <td>A63-N10</td>\n",
       "      <td>01:01:30</td>\n",
       "      <td>2019-01-29 18:30</td>\n",
       "      <td>2019-01-29 18:30:00</td>\n",
       "      <td>01:05:25</td>\n",
       "      <td>Cluster</td>\n",
       "      <td>01:03:47.194000</td>\n",
       "      <td>1</td>\n",
       "    </tr>\n",
       "    <tr>\n",
       "      <th>10844</th>\n",
       "      <td>2019-01-29 18:40:30</td>\n",
       "      <td>148213</td>\n",
       "      <td>b227e17190a9e95cc187836f2e72a65a021e542d</td>\n",
       "      <td>1</td>\n",
       "      <td>ES</td>\n",
       "      <td>1443085</td>\n",
       "      <td>2019-01-29 19:42:33</td>\n",
       "      <td>(15, 4, 5)</td>\n",
       "      <td>A63</td>\n",
       "      <td>N10</td>\n",
       "      <td>A63-N10</td>\n",
       "      <td>01:02:03</td>\n",
       "      <td>2019-01-29 18:30</td>\n",
       "      <td>2019-01-29 18:30:00</td>\n",
       "      <td>01:05:25</td>\n",
       "      <td>Cluster</td>\n",
       "      <td>01:03:47.194000</td>\n",
       "      <td>1</td>\n",
       "    </tr>\n",
       "    <tr>\n",
       "      <th>10845</th>\n",
       "      <td>2019-01-29 18:41:34</td>\n",
       "      <td>184471</td>\n",
       "      <td>1a2cb9eb1dbb71af607684e931c2d1a07a335279</td>\n",
       "      <td>1</td>\n",
       "      <td>PT</td>\n",
       "      <td>212075</td>\n",
       "      <td>2019-01-29 19:44:24</td>\n",
       "      <td>(15, 4, 5)</td>\n",
       "      <td>A63</td>\n",
       "      <td>N10</td>\n",
       "      <td>A63-N10</td>\n",
       "      <td>01:02:50</td>\n",
       "      <td>2019-01-29 18:30</td>\n",
       "      <td>2019-01-29 18:30:00</td>\n",
       "      <td>01:05:25</td>\n",
       "      <td>Cluster</td>\n",
       "      <td>01:03:47.194000</td>\n",
       "      <td>1</td>\n",
       "    </tr>\n",
       "    <tr>\n",
       "      <th>10846</th>\n",
       "      <td>2019-01-29 18:42:23</td>\n",
       "      <td>181993</td>\n",
       "      <td>e96da7cc7d40bc4e757cb1eb71b287d73c853cc3</td>\n",
       "      <td>1</td>\n",
       "      <td>PT</td>\n",
       "      <td>1890635</td>\n",
       "      <td>2019-01-29 19:42:58</td>\n",
       "      <td>(15, 4, 5)</td>\n",
       "      <td>A63</td>\n",
       "      <td>N10</td>\n",
       "      <td>A63-N10</td>\n",
       "      <td>01:00:35</td>\n",
       "      <td>2019-01-29 18:30</td>\n",
       "      <td>2019-01-29 18:30:00</td>\n",
       "      <td>01:05:25</td>\n",
       "      <td>Cluster</td>\n",
       "      <td>01:03:47.194000</td>\n",
       "      <td>1</td>\n",
       "    </tr>\n",
       "    <tr>\n",
       "      <th>326</th>\n",
       "      <td>2019-01-29 18:43:21</td>\n",
       "      <td>185143</td>\n",
       "      <td>919724ea58fda0b21f42ba1bda95c9db98001e34</td>\n",
       "      <td>1</td>\n",
       "      <td>RO</td>\n",
       "      <td>1180648</td>\n",
       "      <td>2019-01-29 19:45:49</td>\n",
       "      <td>(15, 5)</td>\n",
       "      <td>A63</td>\n",
       "      <td>N10</td>\n",
       "      <td>A63-N10</td>\n",
       "      <td>01:02:28</td>\n",
       "      <td>2019-01-29 18:30</td>\n",
       "      <td>2019-01-29 18:30:00</td>\n",
       "      <td>01:05:25</td>\n",
       "      <td>Cluster</td>\n",
       "      <td>01:03:47.194000</td>\n",
       "      <td>1</td>\n",
       "    </tr>\n",
       "    <tr>\n",
       "      <th>10849</th>\n",
       "      <td>2019-01-29 18:45:29</td>\n",
       "      <td>167133</td>\n",
       "      <td>1488469bcc911e1abfa7b8c21971e76d7400b01a</td>\n",
       "      <td>1</td>\n",
       "      <td>ES</td>\n",
       "      <td>166464</td>\n",
       "      <td>2019-01-29 19:48:37</td>\n",
       "      <td>(15, 4, 5)</td>\n",
       "      <td>A63</td>\n",
       "      <td>N10</td>\n",
       "      <td>A63-N10</td>\n",
       "      <td>01:03:08</td>\n",
       "      <td>2019-01-29 18:45</td>\n",
       "      <td>2019-01-29 18:45:00</td>\n",
       "      <td>01:09:28</td>\n",
       "      <td>Cluster</td>\n",
       "      <td>01:03:47.194000</td>\n",
       "      <td>1</td>\n",
       "    </tr>\n",
       "    <tr>\n",
       "      <th>10850</th>\n",
       "      <td>2019-01-29 18:45:35</td>\n",
       "      <td>160721</td>\n",
       "      <td>bc5f58a7eef19a034918f351cccad167c696530d</td>\n",
       "      <td>1</td>\n",
       "      <td>ES</td>\n",
       "      <td>1525301</td>\n",
       "      <td>2019-01-29 19:47:11</td>\n",
       "      <td>(15, 4, 5)</td>\n",
       "      <td>A63</td>\n",
       "      <td>N10</td>\n",
       "      <td>A63-N10</td>\n",
       "      <td>01:01:36</td>\n",
       "      <td>2019-01-29 18:45</td>\n",
       "      <td>2019-01-29 18:45:00</td>\n",
       "      <td>01:09:28</td>\n",
       "      <td>Cluster</td>\n",
       "      <td>01:03:47.194000</td>\n",
       "      <td>1</td>\n",
       "    </tr>\n",
       "    <tr>\n",
       "      <th>3748</th>\n",
       "      <td>2019-01-29 18:45:58</td>\n",
       "      <td>139688</td>\n",
       "      <td>f7c591d145a08fd7e3dc3998577e7aec38794d6a</td>\n",
       "      <td>1</td>\n",
       "      <td>ES</td>\n",
       "      <td>2007147</td>\n",
       "      <td>2019-01-29 19:47:00</td>\n",
       "      <td>(15, 19, 4, 5)</td>\n",
       "      <td>A63</td>\n",
       "      <td>N10</td>\n",
       "      <td>A63-N10</td>\n",
       "      <td>01:01:02</td>\n",
       "      <td>2019-01-29 18:45</td>\n",
       "      <td>2019-01-29 18:45:00</td>\n",
       "      <td>01:09:28</td>\n",
       "      <td>Cluster</td>\n",
       "      <td>01:03:47.194000</td>\n",
       "      <td>1</td>\n",
       "    </tr>\n",
       "    <tr>\n",
       "      <th>3749</th>\n",
       "      <td>2019-01-29 18:46:03</td>\n",
       "      <td>164143</td>\n",
       "      <td>5a6899697652e1bf75fa9904281fe0cc9b444d28</td>\n",
       "      <td>1</td>\n",
       "      <td>ES</td>\n",
       "      <td>730092</td>\n",
       "      <td>2019-01-29 19:53:13</td>\n",
       "      <td>(15, 19, 4, 5)</td>\n",
       "      <td>A63</td>\n",
       "      <td>N10</td>\n",
       "      <td>A63-N10</td>\n",
       "      <td>01:07:10</td>\n",
       "      <td>2019-01-29 18:45</td>\n",
       "      <td>2019-01-29 18:45:00</td>\n",
       "      <td>01:09:28</td>\n",
       "      <td>Cluster</td>\n",
       "      <td>01:03:47.194000</td>\n",
       "      <td>1</td>\n",
       "    </tr>\n",
       "    <tr>\n",
       "      <th>3750</th>\n",
       "      <td>2019-01-29 18:46:57</td>\n",
       "      <td>157175</td>\n",
       "      <td>78310772196485c9bd90202c0b967eb18d14f160</td>\n",
       "      <td>1</td>\n",
       "      <td>ES</td>\n",
       "      <td>972252</td>\n",
       "      <td>2019-01-29 19:46:11</td>\n",
       "      <td>(15, 19, 4, 5)</td>\n",
       "      <td>A63</td>\n",
       "      <td>N10</td>\n",
       "      <td>A63-N10</td>\n",
       "      <td>00:59:14</td>\n",
       "      <td>2019-01-29 18:45</td>\n",
       "      <td>2019-01-29 18:45:00</td>\n",
       "      <td>01:09:28</td>\n",
       "      <td>Cluster</td>\n",
       "      <td>01:03:47.194000</td>\n",
       "      <td>1</td>\n",
       "    </tr>\n",
       "    <tr>\n",
       "      <th>10853</th>\n",
       "      <td>2019-01-29 18:47:52</td>\n",
       "      <td>161499</td>\n",
       "      <td>e8bfe51f62b3bcc71801951eccd4cb3f97064be1</td>\n",
       "      <td>1</td>\n",
       "      <td>BG</td>\n",
       "      <td>1885110</td>\n",
       "      <td>2019-01-29 19:48:15</td>\n",
       "      <td>(15, 4, 5)</td>\n",
       "      <td>A63</td>\n",
       "      <td>N10</td>\n",
       "      <td>A63-N10</td>\n",
       "      <td>01:00:23</td>\n",
       "      <td>2019-01-29 18:45</td>\n",
       "      <td>2019-01-29 18:45:00</td>\n",
       "      <td>01:09:28</td>\n",
       "      <td>Cluster</td>\n",
       "      <td>01:03:47.194000</td>\n",
       "      <td>1</td>\n",
       "    </tr>\n",
       "    <tr>\n",
       "      <th>14026</th>\n",
       "      <td>2019-01-29 18:47:55</td>\n",
       "      <td>172759</td>\n",
       "      <td>1dac9670486d6ed02ee65a73f92e01d2d309ffd9</td>\n",
       "      <td>1</td>\n",
       "      <td>ES</td>\n",
       "      <td>239642</td>\n",
       "      <td>2019-01-29 19:51:58</td>\n",
       "      <td>(15, 19, 5)</td>\n",
       "      <td>A63</td>\n",
       "      <td>N10</td>\n",
       "      <td>A63-N10</td>\n",
       "      <td>01:04:03</td>\n",
       "      <td>2019-01-29 18:45</td>\n",
       "      <td>2019-01-29 18:45:00</td>\n",
       "      <td>01:09:28</td>\n",
       "      <td>Cluster</td>\n",
       "      <td>01:03:47.194000</td>\n",
       "      <td>1</td>\n",
       "    </tr>\n",
       "    <tr>\n",
       "      <th>10856</th>\n",
       "      <td>2019-01-29 18:50:31</td>\n",
       "      <td>157178</td>\n",
       "      <td>36a6cd1fb8d9eb356c5e21027fab7df134c87cb8</td>\n",
       "      <td>1</td>\n",
       "      <td>ES</td>\n",
       "      <td>441542</td>\n",
       "      <td>2019-01-29 19:52:33</td>\n",
       "      <td>(15, 4, 5)</td>\n",
       "      <td>A63</td>\n",
       "      <td>N10</td>\n",
       "      <td>A63-N10</td>\n",
       "      <td>01:02:02</td>\n",
       "      <td>2019-01-29 18:45</td>\n",
       "      <td>2019-01-29 18:45:00</td>\n",
       "      <td>01:09:28</td>\n",
       "      <td>Cluster</td>\n",
       "      <td>01:03:47.194000</td>\n",
       "      <td>1</td>\n",
       "    </tr>\n",
       "    <tr>\n",
       "      <th>3752</th>\n",
       "      <td>2019-01-29 18:50:56</td>\n",
       "      <td>160723</td>\n",
       "      <td>aaeff06a8f186a7ab435949f219fcd4358b2d962</td>\n",
       "      <td>1</td>\n",
       "      <td>ES</td>\n",
       "      <td>1385861</td>\n",
       "      <td>2019-01-29 19:52:47</td>\n",
       "      <td>(15, 19, 4, 5)</td>\n",
       "      <td>A63</td>\n",
       "      <td>N10</td>\n",
       "      <td>A63-N10</td>\n",
       "      <td>01:01:51</td>\n",
       "      <td>2019-01-29 18:45</td>\n",
       "      <td>2019-01-29 18:45:00</td>\n",
       "      <td>01:09:28</td>\n",
       "      <td>Cluster</td>\n",
       "      <td>01:03:47.194000</td>\n",
       "      <td>1</td>\n",
       "    </tr>\n",
       "    <tr>\n",
       "      <th>14027</th>\n",
       "      <td>2019-01-29 18:51:02</td>\n",
       "      <td>690472</td>\n",
       "      <td>4df4bb3bebf0da428c963e435b9695dce8d22cb4</td>\n",
       "      <td>1</td>\n",
       "      <td>ES</td>\n",
       "      <td>629850</td>\n",
       "      <td>2019-01-29 19:52:53</td>\n",
       "      <td>(15, 19, 5)</td>\n",
       "      <td>A63</td>\n",
       "      <td>N10</td>\n",
       "      <td>A63-N10</td>\n",
       "      <td>01:01:51</td>\n",
       "      <td>2019-01-29 18:45</td>\n",
       "      <td>2019-01-29 18:45:00</td>\n",
       "      <td>01:09:28</td>\n",
       "      <td>Cluster</td>\n",
       "      <td>01:03:47.194000</td>\n",
       "      <td>1</td>\n",
       "    </tr>\n",
       "    <tr>\n",
       "      <th>3753</th>\n",
       "      <td>2019-01-29 18:51:08</td>\n",
       "      <td>181394</td>\n",
       "      <td>fcefc1544ef1e7236c4cc3dbb42772adb024c34e</td>\n",
       "      <td>1</td>\n",
       "      <td>ES</td>\n",
       "      <td>2049786</td>\n",
       "      <td>2019-01-29 19:52:01</td>\n",
       "      <td>(15, 19, 4, 5)</td>\n",
       "      <td>A63</td>\n",
       "      <td>N10</td>\n",
       "      <td>A63-N10</td>\n",
       "      <td>01:00:53</td>\n",
       "      <td>2019-01-29 18:45</td>\n",
       "      <td>2019-01-29 18:45:00</td>\n",
       "      <td>01:09:28</td>\n",
       "      <td>Cluster</td>\n",
       "      <td>01:03:47.194000</td>\n",
       "      <td>1</td>\n",
       "    </tr>\n",
       "    <tr>\n",
       "      <th>3754</th>\n",
       "      <td>2019-01-29 18:52:24</td>\n",
       "      <td>157805</td>\n",
       "      <td>185835da3dd5757a678d8b368e097ffdf2bc7d0d</td>\n",
       "      <td>1</td>\n",
       "      <td>ES</td>\n",
       "      <td>196949</td>\n",
       "      <td>2019-01-29 20:01:52</td>\n",
       "      <td>(15, 19, 4, 5)</td>\n",
       "      <td>A63</td>\n",
       "      <td>N10</td>\n",
       "      <td>A63-N10</td>\n",
       "      <td>01:09:28</td>\n",
       "      <td>2019-01-29 18:45</td>\n",
       "      <td>2019-01-29 18:45:00</td>\n",
       "      <td>01:09:28</td>\n",
       "      <td>Cluster</td>\n",
       "      <td>01:03:47.194000</td>\n",
       "      <td>1</td>\n",
       "    </tr>\n",
       "    <tr>\n",
       "      <th>3755</th>\n",
       "      <td>2019-01-29 18:53:52</td>\n",
       "      <td>542532</td>\n",
       "      <td>ac88958edd0fa4903b747a93dd49cb83074386f2</td>\n",
       "      <td>1</td>\n",
       "      <td>ES</td>\n",
       "      <td>1398382</td>\n",
       "      <td>2019-01-29 19:53:18</td>\n",
       "      <td>(15, 19, 4, 5)</td>\n",
       "      <td>A63</td>\n",
       "      <td>N10</td>\n",
       "      <td>A63-N10</td>\n",
       "      <td>00:59:26</td>\n",
       "      <td>2019-01-29 18:45</td>\n",
       "      <td>2019-01-29 18:45:00</td>\n",
       "      <td>01:09:28</td>\n",
       "      <td>Cluster</td>\n",
       "      <td>01:03:47.194000</td>\n",
       "      <td>1</td>\n",
       "    </tr>\n",
       "    <tr>\n",
       "      <th>10857</th>\n",
       "      <td>2019-01-29 18:57:11</td>\n",
       "      <td>1211587</td>\n",
       "      <td>53a19f76c3be03e4c8b68c35888773be48d7950c</td>\n",
       "      <td>1</td>\n",
       "      <td>ES</td>\n",
       "      <td>675693</td>\n",
       "      <td>2019-01-29 19:59:16</td>\n",
       "      <td>(15, 4, 5)</td>\n",
       "      <td>A63</td>\n",
       "      <td>N10</td>\n",
       "      <td>A63-N10</td>\n",
       "      <td>01:02:05</td>\n",
       "      <td>2019-01-29 18:45</td>\n",
       "      <td>2019-01-29 18:45:00</td>\n",
       "      <td>01:09:28</td>\n",
       "      <td>Cluster</td>\n",
       "      <td>01:03:47.194000</td>\n",
       "      <td>1</td>\n",
       "    </tr>\n",
       "    <tr>\n",
       "      <th>14028</th>\n",
       "      <td>2019-01-29 18:57:33</td>\n",
       "      <td>151500</td>\n",
       "      <td>c569b0561d26b5a79c45b150a60ff2d3eed70f44</td>\n",
       "      <td>1</td>\n",
       "      <td>ES</td>\n",
       "      <td>1599089</td>\n",
       "      <td>2019-01-29 19:56:32</td>\n",
       "      <td>(15, 19, 5)</td>\n",
       "      <td>A63</td>\n",
       "      <td>N10</td>\n",
       "      <td>A63-N10</td>\n",
       "      <td>00:58:59</td>\n",
       "      <td>2019-01-29 18:45</td>\n",
       "      <td>2019-01-29 18:45:00</td>\n",
       "      <td>01:09:28</td>\n",
       "      <td>Cluster</td>\n",
       "      <td>01:03:47.194000</td>\n",
       "      <td>1</td>\n",
       "    </tr>\n",
       "    <tr>\n",
       "      <th>...</th>\n",
       "      <td>...</td>\n",
       "      <td>...</td>\n",
       "      <td>...</td>\n",
       "      <td>...</td>\n",
       "      <td>...</td>\n",
       "      <td>...</td>\n",
       "      <td>...</td>\n",
       "      <td>...</td>\n",
       "      <td>...</td>\n",
       "      <td>...</td>\n",
       "      <td>...</td>\n",
       "      <td>...</td>\n",
       "      <td>...</td>\n",
       "      <td>...</td>\n",
       "      <td>...</td>\n",
       "      <td>...</td>\n",
       "      <td>...</td>\n",
       "      <td>...</td>\n",
       "    </tr>\n",
       "    <tr>\n",
       "      <th>9839</th>\n",
       "      <td>2019-02-03 23:51:38</td>\n",
       "      <td>161847</td>\n",
       "      <td>b69b1fa0d45e82278a1063feb7bbc7c8d88bcaec</td>\n",
       "      <td>1</td>\n",
       "      <td>PT</td>\n",
       "      <td>1479147</td>\n",
       "      <td>2019-02-04 00:49:23</td>\n",
       "      <td>(15, 19, 4, 5)</td>\n",
       "      <td>A63</td>\n",
       "      <td>N10</td>\n",
       "      <td>A63-N10</td>\n",
       "      <td>00:57:45</td>\n",
       "      <td>2019-02-03 23:00</td>\n",
       "      <td>2019-02-03 23:00:00</td>\n",
       "      <td>01:18:26</td>\n",
       "      <td>Cluster</td>\n",
       "      <td>01:03:47.194000</td>\n",
       "      <td>1</td>\n",
       "    </tr>\n",
       "    <tr>\n",
       "      <th>9840</th>\n",
       "      <td>2019-02-03 23:51:42</td>\n",
       "      <td>148557</td>\n",
       "      <td>aa45a2e004902bdb83fe38a8aabcf91523e48875</td>\n",
       "      <td>1</td>\n",
       "      <td>PL</td>\n",
       "      <td>1380917</td>\n",
       "      <td>2019-02-04 10:20:26</td>\n",
       "      <td>(15, 19, 4, 5)</td>\n",
       "      <td>A63</td>\n",
       "      <td>N10</td>\n",
       "      <td>A63-N10</td>\n",
       "      <td>10:28:44</td>\n",
       "      <td>2019-02-03 23:00</td>\n",
       "      <td>2019-02-03 23:00:00</td>\n",
       "      <td>01:18:26</td>\n",
       "      <td>Cluster</td>\n",
       "      <td>01:03:47.194000</td>\n",
       "      <td>1</td>\n",
       "    </tr>\n",
       "    <tr>\n",
       "      <th>11739</th>\n",
       "      <td>2019-02-03 23:51:44</td>\n",
       "      <td>176557</td>\n",
       "      <td>99a434959c1c64d55af10e1b9f3df4c0f0f7b6bf</td>\n",
       "      <td>1</td>\n",
       "      <td>ES</td>\n",
       "      <td>1245480</td>\n",
       "      <td>2019-02-04 00:51:24</td>\n",
       "      <td>(15, 4, 5)</td>\n",
       "      <td>A63</td>\n",
       "      <td>N10</td>\n",
       "      <td>A63-N10</td>\n",
       "      <td>00:59:40</td>\n",
       "      <td>2019-02-03 23:00</td>\n",
       "      <td>2019-02-03 23:00:00</td>\n",
       "      <td>01:18:26</td>\n",
       "      <td>Cluster</td>\n",
       "      <td>01:03:47.194000</td>\n",
       "      <td>1</td>\n",
       "    </tr>\n",
       "    <tr>\n",
       "      <th>15109</th>\n",
       "      <td>2019-02-03 23:52:02</td>\n",
       "      <td>149169</td>\n",
       "      <td>46a868313d5261d1c11ff02507a50232281e2a45</td>\n",
       "      <td>1</td>\n",
       "      <td>ES</td>\n",
       "      <td>569775</td>\n",
       "      <td>2019-02-04 00:49:44</td>\n",
       "      <td>(15, 19, 5)</td>\n",
       "      <td>A63</td>\n",
       "      <td>N10</td>\n",
       "      <td>A63-N10</td>\n",
       "      <td>00:57:42</td>\n",
       "      <td>2019-02-03 23:00</td>\n",
       "      <td>2019-02-03 23:00:00</td>\n",
       "      <td>01:18:26</td>\n",
       "      <td>Cluster</td>\n",
       "      <td>01:03:47.194000</td>\n",
       "      <td>1</td>\n",
       "    </tr>\n",
       "    <tr>\n",
       "      <th>15110</th>\n",
       "      <td>2019-02-03 23:52:33</td>\n",
       "      <td>152395</td>\n",
       "      <td>df784f2f62e40a7ed7429b0842e1689f1672008b</td>\n",
       "      <td>1</td>\n",
       "      <td>ES</td>\n",
       "      <td>1809645</td>\n",
       "      <td>2019-02-04 00:51:30</td>\n",
       "      <td>(15, 19, 5)</td>\n",
       "      <td>A63</td>\n",
       "      <td>N10</td>\n",
       "      <td>A63-N10</td>\n",
       "      <td>00:58:57</td>\n",
       "      <td>2019-02-03 23:00</td>\n",
       "      <td>2019-02-03 23:00:00</td>\n",
       "      <td>01:18:26</td>\n",
       "      <td>Cluster</td>\n",
       "      <td>01:03:47.194000</td>\n",
       "      <td>1</td>\n",
       "    </tr>\n",
       "    <tr>\n",
       "      <th>845</th>\n",
       "      <td>2019-02-03 23:52:36</td>\n",
       "      <td>246619</td>\n",
       "      <td>3e986d10b7b51b210aa79fb255ff9bbec3064f13</td>\n",
       "      <td>1</td>\n",
       "      <td>PT</td>\n",
       "      <td>505468</td>\n",
       "      <td>2019-02-04 00:54:29</td>\n",
       "      <td>(15, 5)</td>\n",
       "      <td>A63</td>\n",
       "      <td>N10</td>\n",
       "      <td>A63-N10</td>\n",
       "      <td>01:01:53</td>\n",
       "      <td>2019-02-03 23:00</td>\n",
       "      <td>2019-02-03 23:00:00</td>\n",
       "      <td>01:18:26</td>\n",
       "      <td>Cluster</td>\n",
       "      <td>01:03:47.194000</td>\n",
       "      <td>1</td>\n",
       "    </tr>\n",
       "    <tr>\n",
       "      <th>15111</th>\n",
       "      <td>2019-02-03 23:53:01</td>\n",
       "      <td>1405915</td>\n",
       "      <td>bad850ea6ef01763c40935a3a3c58f7a2531f66d</td>\n",
       "      <td>1</td>\n",
       "      <td>RO</td>\n",
       "      <td>1512579</td>\n",
       "      <td>2019-02-04 00:56:20</td>\n",
       "      <td>(15, 19, 5)</td>\n",
       "      <td>A63</td>\n",
       "      <td>N10</td>\n",
       "      <td>A63-N10</td>\n",
       "      <td>01:03:19</td>\n",
       "      <td>2019-02-03 23:00</td>\n",
       "      <td>2019-02-03 23:00:00</td>\n",
       "      <td>01:18:26</td>\n",
       "      <td>Cluster</td>\n",
       "      <td>01:03:47.194000</td>\n",
       "      <td>1</td>\n",
       "    </tr>\n",
       "    <tr>\n",
       "      <th>9841</th>\n",
       "      <td>2019-02-03 23:53:12</td>\n",
       "      <td>181694</td>\n",
       "      <td>ced93537f16932d06dcfcc735537921122dcf3c0</td>\n",
       "      <td>1</td>\n",
       "      <td>RO</td>\n",
       "      <td>1675893</td>\n",
       "      <td>2019-02-04 00:52:52</td>\n",
       "      <td>(15, 19, 4, 5)</td>\n",
       "      <td>A63</td>\n",
       "      <td>N10</td>\n",
       "      <td>A63-N10</td>\n",
       "      <td>00:59:40</td>\n",
       "      <td>2019-02-03 23:00</td>\n",
       "      <td>2019-02-03 23:00:00</td>\n",
       "      <td>01:18:26</td>\n",
       "      <td>Cluster</td>\n",
       "      <td>01:03:47.194000</td>\n",
       "      <td>1</td>\n",
       "    </tr>\n",
       "    <tr>\n",
       "      <th>15112</th>\n",
       "      <td>2019-02-03 23:53:37</td>\n",
       "      <td>616006</td>\n",
       "      <td>24a1e015771d0d1a5e75fd4d80654f929934f23d</td>\n",
       "      <td>1</td>\n",
       "      <td>ES</td>\n",
       "      <td>295518</td>\n",
       "      <td>2019-02-04 00:51:23</td>\n",
       "      <td>(15, 19, 5)</td>\n",
       "      <td>A63</td>\n",
       "      <td>N10</td>\n",
       "      <td>A63-N10</td>\n",
       "      <td>00:57:46</td>\n",
       "      <td>2019-02-03 23:00</td>\n",
       "      <td>2019-02-03 23:00:00</td>\n",
       "      <td>01:18:26</td>\n",
       "      <td>Cluster</td>\n",
       "      <td>01:03:47.194000</td>\n",
       "      <td>1</td>\n",
       "    </tr>\n",
       "    <tr>\n",
       "      <th>846</th>\n",
       "      <td>2019-02-03 23:53:53</td>\n",
       "      <td>152396</td>\n",
       "      <td>90c290818d2675111e43d6479a52b2bb8d20fc67</td>\n",
       "      <td>1</td>\n",
       "      <td>ES</td>\n",
       "      <td>1173941</td>\n",
       "      <td>2019-02-04 00:52:18</td>\n",
       "      <td>(15, 5)</td>\n",
       "      <td>A63</td>\n",
       "      <td>N10</td>\n",
       "      <td>A63-N10</td>\n",
       "      <td>00:58:25</td>\n",
       "      <td>2019-02-03 23:00</td>\n",
       "      <td>2019-02-03 23:00:00</td>\n",
       "      <td>01:18:26</td>\n",
       "      <td>Cluster</td>\n",
       "      <td>01:03:47.194000</td>\n",
       "      <td>1</td>\n",
       "    </tr>\n",
       "    <tr>\n",
       "      <th>9842</th>\n",
       "      <td>2019-02-03 23:54:05</td>\n",
       "      <td>173649</td>\n",
       "      <td>5dcf5469f1c796d5c527882ce1b7a0ceff8dd329</td>\n",
       "      <td>1</td>\n",
       "      <td>ES</td>\n",
       "      <td>757607</td>\n",
       "      <td>2019-02-04 00:52:20</td>\n",
       "      <td>(15, 19, 4, 5)</td>\n",
       "      <td>A63</td>\n",
       "      <td>N10</td>\n",
       "      <td>A63-N10</td>\n",
       "      <td>00:58:15</td>\n",
       "      <td>2019-02-03 23:00</td>\n",
       "      <td>2019-02-03 23:00:00</td>\n",
       "      <td>01:18:26</td>\n",
       "      <td>Cluster</td>\n",
       "      <td>01:03:47.194000</td>\n",
       "      <td>1</td>\n",
       "    </tr>\n",
       "    <tr>\n",
       "      <th>15113</th>\n",
       "      <td>2019-02-03 23:54:18</td>\n",
       "      <td>148558</td>\n",
       "      <td>7caef4257ffadda29fd78ba34f958b2c105eb609</td>\n",
       "      <td>1</td>\n",
       "      <td>PT</td>\n",
       "      <td>1010505</td>\n",
       "      <td>2019-02-04 00:53:33</td>\n",
       "      <td>(15, 19, 5)</td>\n",
       "      <td>A63</td>\n",
       "      <td>N10</td>\n",
       "      <td>A63-N10</td>\n",
       "      <td>00:59:15</td>\n",
       "      <td>2019-02-03 23:00</td>\n",
       "      <td>2019-02-03 23:00:00</td>\n",
       "      <td>01:18:26</td>\n",
       "      <td>Cluster</td>\n",
       "      <td>01:03:47.194000</td>\n",
       "      <td>1</td>\n",
       "    </tr>\n",
       "    <tr>\n",
       "      <th>9843</th>\n",
       "      <td>2019-02-03 23:54:21</td>\n",
       "      <td>140001</td>\n",
       "      <td>d8a4a03259e1e666ca456b0f77bcd8b3681bf935</td>\n",
       "      <td>1</td>\n",
       "      <td>ES</td>\n",
       "      <td>1754926</td>\n",
       "      <td>2019-02-04 00:52:54</td>\n",
       "      <td>(15, 19, 4, 5)</td>\n",
       "      <td>A63</td>\n",
       "      <td>N10</td>\n",
       "      <td>A63-N10</td>\n",
       "      <td>00:58:33</td>\n",
       "      <td>2019-02-03 23:00</td>\n",
       "      <td>2019-02-03 23:00:00</td>\n",
       "      <td>01:18:26</td>\n",
       "      <td>Cluster</td>\n",
       "      <td>01:03:47.194000</td>\n",
       "      <td>1</td>\n",
       "    </tr>\n",
       "    <tr>\n",
       "      <th>15114</th>\n",
       "      <td>2019-02-03 23:54:33</td>\n",
       "      <td>143492</td>\n",
       "      <td>11e91d35f15ba86c17120553c646d55ab62c78e9</td>\n",
       "      <td>1</td>\n",
       "      <td>ES</td>\n",
       "      <td>145645</td>\n",
       "      <td>2019-02-04 00:53:08</td>\n",
       "      <td>(15, 19, 5)</td>\n",
       "      <td>A63</td>\n",
       "      <td>N10</td>\n",
       "      <td>A63-N10</td>\n",
       "      <td>00:58:35</td>\n",
       "      <td>2019-02-03 23:00</td>\n",
       "      <td>2019-02-03 23:00:00</td>\n",
       "      <td>01:18:26</td>\n",
       "      <td>Cluster</td>\n",
       "      <td>01:03:47.194000</td>\n",
       "      <td>1</td>\n",
       "    </tr>\n",
       "    <tr>\n",
       "      <th>11740</th>\n",
       "      <td>2019-02-03 23:55:11</td>\n",
       "      <td>167428</td>\n",
       "      <td>ddea9c7f45421ea9216c806dbbf166935245900c</td>\n",
       "      <td>1</td>\n",
       "      <td>PT</td>\n",
       "      <td>1797363</td>\n",
       "      <td>2019-02-04 00:54:02</td>\n",
       "      <td>(15, 4, 5)</td>\n",
       "      <td>A63</td>\n",
       "      <td>N10</td>\n",
       "      <td>A63-N10</td>\n",
       "      <td>00:58:51</td>\n",
       "      <td>2019-02-03 23:00</td>\n",
       "      <td>2019-02-03 23:00:00</td>\n",
       "      <td>01:18:26</td>\n",
       "      <td>Cluster</td>\n",
       "      <td>01:03:47.194000</td>\n",
       "      <td>1</td>\n",
       "    </tr>\n",
       "    <tr>\n",
       "      <th>9844</th>\n",
       "      <td>2019-02-03 23:55:33</td>\n",
       "      <td>161848</td>\n",
       "      <td>96bd09434fb5937d3af284936fa1eb460c1906da</td>\n",
       "      <td>1</td>\n",
       "      <td>BG</td>\n",
       "      <td>1222066</td>\n",
       "      <td>2019-02-04 00:53:51</td>\n",
       "      <td>(15, 19, 4, 5)</td>\n",
       "      <td>A63</td>\n",
       "      <td>N10</td>\n",
       "      <td>A63-N10</td>\n",
       "      <td>00:58:18</td>\n",
       "      <td>2019-02-03 23:00</td>\n",
       "      <td>2019-02-03 23:00:00</td>\n",
       "      <td>01:18:26</td>\n",
       "      <td>Cluster</td>\n",
       "      <td>01:03:47.194000</td>\n",
       "      <td>1</td>\n",
       "    </tr>\n",
       "    <tr>\n",
       "      <th>847</th>\n",
       "      <td>2019-02-03 23:55:40</td>\n",
       "      <td>148559</td>\n",
       "      <td>6099b7b9645a46c5fc379fbd89792c1d437d705a</td>\n",
       "      <td>1</td>\n",
       "      <td>ES</td>\n",
       "      <td>779934</td>\n",
       "      <td>2019-02-04 00:54:39</td>\n",
       "      <td>(15, 5)</td>\n",
       "      <td>A63</td>\n",
       "      <td>N10</td>\n",
       "      <td>A63-N10</td>\n",
       "      <td>00:58:59</td>\n",
       "      <td>2019-02-03 23:00</td>\n",
       "      <td>2019-02-03 23:00:00</td>\n",
       "      <td>01:18:26</td>\n",
       "      <td>Cluster</td>\n",
       "      <td>01:03:47.194000</td>\n",
       "      <td>1</td>\n",
       "    </tr>\n",
       "    <tr>\n",
       "      <th>9845</th>\n",
       "      <td>2019-02-03 23:55:44</td>\n",
       "      <td>158074</td>\n",
       "      <td>590c29ca12208d3e3dc918bc94c48f4c23b43365</td>\n",
       "      <td>1</td>\n",
       "      <td>ES</td>\n",
       "      <td>719078</td>\n",
       "      <td>2019-02-04 00:53:09</td>\n",
       "      <td>(15, 19, 4, 5)</td>\n",
       "      <td>A63</td>\n",
       "      <td>N10</td>\n",
       "      <td>A63-N10</td>\n",
       "      <td>00:57:25</td>\n",
       "      <td>2019-02-03 23:00</td>\n",
       "      <td>2019-02-03 23:00:00</td>\n",
       "      <td>01:18:26</td>\n",
       "      <td>Cluster</td>\n",
       "      <td>01:03:47.194000</td>\n",
       "      <td>1</td>\n",
       "    </tr>\n",
       "    <tr>\n",
       "      <th>11741</th>\n",
       "      <td>2019-02-03 23:56:02</td>\n",
       "      <td>178828</td>\n",
       "      <td>8a4c3ab7ea22fe0aca5610afc845a5d94261023a</td>\n",
       "      <td>1</td>\n",
       "      <td>ES</td>\n",
       "      <td>1121584</td>\n",
       "      <td>2019-02-04 00:56:46</td>\n",
       "      <td>(15, 4, 5)</td>\n",
       "      <td>A63</td>\n",
       "      <td>N10</td>\n",
       "      <td>A63-N10</td>\n",
       "      <td>01:00:44</td>\n",
       "      <td>2019-02-03 23:00</td>\n",
       "      <td>2019-02-03 23:00:00</td>\n",
       "      <td>01:18:26</td>\n",
       "      <td>Cluster</td>\n",
       "      <td>01:03:47.194000</td>\n",
       "      <td>1</td>\n",
       "    </tr>\n",
       "    <tr>\n",
       "      <th>9846</th>\n",
       "      <td>2019-02-03 23:56:06</td>\n",
       "      <td>165159</td>\n",
       "      <td>5aa0df8dd7999c3cff20c05559f93ffc59cde1f6</td>\n",
       "      <td>1</td>\n",
       "      <td>PT</td>\n",
       "      <td>732012</td>\n",
       "      <td>2019-02-04 00:54:26</td>\n",
       "      <td>(15, 19, 4, 5)</td>\n",
       "      <td>A63</td>\n",
       "      <td>N10</td>\n",
       "      <td>A63-N10</td>\n",
       "      <td>00:58:20</td>\n",
       "      <td>2019-02-03 23:00</td>\n",
       "      <td>2019-02-03 23:00:00</td>\n",
       "      <td>01:18:26</td>\n",
       "      <td>Cluster</td>\n",
       "      <td>01:03:47.194000</td>\n",
       "      <td>1</td>\n",
       "    </tr>\n",
       "    <tr>\n",
       "      <th>9847</th>\n",
       "      <td>2019-02-03 23:56:24</td>\n",
       "      <td>157474</td>\n",
       "      <td>61c9039f61225fce51017a3a48fe76c26a8240d1</td>\n",
       "      <td>1</td>\n",
       "      <td>PT</td>\n",
       "      <td>789798</td>\n",
       "      <td>2019-02-04 00:57:57</td>\n",
       "      <td>(15, 19, 4, 5)</td>\n",
       "      <td>A63</td>\n",
       "      <td>N10</td>\n",
       "      <td>A63-N10</td>\n",
       "      <td>01:01:33</td>\n",
       "      <td>2019-02-03 23:00</td>\n",
       "      <td>2019-02-03 23:00:00</td>\n",
       "      <td>01:18:26</td>\n",
       "      <td>Cluster</td>\n",
       "      <td>01:03:47.194000</td>\n",
       "      <td>1</td>\n",
       "    </tr>\n",
       "    <tr>\n",
       "      <th>15115</th>\n",
       "      <td>2019-02-03 23:56:53</td>\n",
       "      <td>142891</td>\n",
       "      <td>34f277542b696d3796d2965b41214085ec96a7f7</td>\n",
       "      <td>1</td>\n",
       "      <td>PT</td>\n",
       "      <td>428291</td>\n",
       "      <td>2019-02-04 01:00:12</td>\n",
       "      <td>(15, 19, 5)</td>\n",
       "      <td>A63</td>\n",
       "      <td>N10</td>\n",
       "      <td>A63-N10</td>\n",
       "      <td>01:03:19</td>\n",
       "      <td>2019-02-03 23:00</td>\n",
       "      <td>2019-02-03 23:00:00</td>\n",
       "      <td>01:18:26</td>\n",
       "      <td>Cluster</td>\n",
       "      <td>01:03:47.194000</td>\n",
       "      <td>1</td>\n",
       "    </tr>\n",
       "    <tr>\n",
       "      <th>9848</th>\n",
       "      <td>2019-02-03 23:57:32</td>\n",
       "      <td>140002</td>\n",
       "      <td>2d66c067d9684174397f8a212bc8bb9b21af64aa</td>\n",
       "      <td>1</td>\n",
       "      <td>ES</td>\n",
       "      <td>367458</td>\n",
       "      <td>2019-02-04 00:55:48</td>\n",
       "      <td>(15, 19, 4, 5)</td>\n",
       "      <td>A63</td>\n",
       "      <td>N10</td>\n",
       "      <td>A63-N10</td>\n",
       "      <td>00:58:16</td>\n",
       "      <td>2019-02-03 23:00</td>\n",
       "      <td>2019-02-03 23:00:00</td>\n",
       "      <td>01:18:26</td>\n",
       "      <td>Cluster</td>\n",
       "      <td>01:03:47.194000</td>\n",
       "      <td>1</td>\n",
       "    </tr>\n",
       "    <tr>\n",
       "      <th>9849</th>\n",
       "      <td>2019-02-03 23:57:48</td>\n",
       "      <td>542712</td>\n",
       "      <td>863074ab7486e04d1ff66ce9381cc0cde219bf3d</td>\n",
       "      <td>1</td>\n",
       "      <td>ES</td>\n",
       "      <td>1087416</td>\n",
       "      <td>2019-02-04 00:59:24</td>\n",
       "      <td>(15, 19, 4, 5)</td>\n",
       "      <td>A63</td>\n",
       "      <td>N10</td>\n",
       "      <td>A63-N10</td>\n",
       "      <td>01:01:36</td>\n",
       "      <td>2019-02-03 23:00</td>\n",
       "      <td>2019-02-03 23:00:00</td>\n",
       "      <td>01:18:26</td>\n",
       "      <td>Cluster</td>\n",
       "      <td>01:03:47.194000</td>\n",
       "      <td>1</td>\n",
       "    </tr>\n",
       "    <tr>\n",
       "      <th>15116</th>\n",
       "      <td>2019-02-03 23:58:31</td>\n",
       "      <td>173650</td>\n",
       "      <td>86922807fd2b6babd66394cfc142089949446b12</td>\n",
       "      <td>1</td>\n",
       "      <td>PT</td>\n",
       "      <td>1090800</td>\n",
       "      <td>2019-02-04 00:59:06</td>\n",
       "      <td>(15, 19, 5)</td>\n",
       "      <td>A63</td>\n",
       "      <td>N10</td>\n",
       "      <td>A63-N10</td>\n",
       "      <td>01:00:35</td>\n",
       "      <td>2019-02-03 23:00</td>\n",
       "      <td>2019-02-03 23:00:00</td>\n",
       "      <td>01:18:26</td>\n",
       "      <td>Cluster</td>\n",
       "      <td>01:03:47.194000</td>\n",
       "      <td>1</td>\n",
       "    </tr>\n",
       "    <tr>\n",
       "      <th>9850</th>\n",
       "      <td>2019-02-03 23:59:03</td>\n",
       "      <td>170296</td>\n",
       "      <td>2bb46d3f078891a310bfbe035499daa7b7b66167</td>\n",
       "      <td>1</td>\n",
       "      <td>ES</td>\n",
       "      <td>353587</td>\n",
       "      <td>2019-02-04 10:10:33</td>\n",
       "      <td>(15, 19, 4, 5)</td>\n",
       "      <td>A63</td>\n",
       "      <td>N10</td>\n",
       "      <td>A63-N10</td>\n",
       "      <td>10:11:30</td>\n",
       "      <td>2019-02-03 23:00</td>\n",
       "      <td>2019-02-03 23:00:00</td>\n",
       "      <td>01:18:26</td>\n",
       "      <td>Cluster</td>\n",
       "      <td>01:03:47.194000</td>\n",
       "      <td>1</td>\n",
       "    </tr>\n",
       "    <tr>\n",
       "      <th>15117</th>\n",
       "      <td>2019-02-03 23:59:10</td>\n",
       "      <td>146173</td>\n",
       "      <td>61625fc93101dc439a6dfb40062531c019441d40</td>\n",
       "      <td>1</td>\n",
       "      <td>ES</td>\n",
       "      <td>786545</td>\n",
       "      <td>2019-02-04 00:57:49</td>\n",
       "      <td>(15, 19, 5)</td>\n",
       "      <td>A63</td>\n",
       "      <td>N10</td>\n",
       "      <td>A63-N10</td>\n",
       "      <td>00:58:39</td>\n",
       "      <td>2019-02-03 23:00</td>\n",
       "      <td>2019-02-03 23:00:00</td>\n",
       "      <td>01:18:26</td>\n",
       "      <td>Cluster</td>\n",
       "      <td>01:03:47.194000</td>\n",
       "      <td>1</td>\n",
       "    </tr>\n",
       "    <tr>\n",
       "      <th>848</th>\n",
       "      <td>2019-02-03 23:59:18</td>\n",
       "      <td>148560</td>\n",
       "      <td>bb929743bb9ce635a9be120c89b3528e585ebb40</td>\n",
       "      <td>1</td>\n",
       "      <td>ES</td>\n",
       "      <td>1518382</td>\n",
       "      <td>2019-02-04 00:58:53</td>\n",
       "      <td>(15, 5)</td>\n",
       "      <td>A63</td>\n",
       "      <td>N10</td>\n",
       "      <td>A63-N10</td>\n",
       "      <td>00:59:35</td>\n",
       "      <td>2019-02-03 23:00</td>\n",
       "      <td>2019-02-03 23:00:00</td>\n",
       "      <td>01:18:26</td>\n",
       "      <td>Cluster</td>\n",
       "      <td>01:03:47.194000</td>\n",
       "      <td>1</td>\n",
       "    </tr>\n",
       "    <tr>\n",
       "      <th>15118</th>\n",
       "      <td>2019-02-03 23:59:58</td>\n",
       "      <td>164470</td>\n",
       "      <td>7ab61b16e50a9ddf1d5675e9042a0c4ff3ef4d18</td>\n",
       "      <td>1</td>\n",
       "      <td>ES</td>\n",
       "      <td>994266</td>\n",
       "      <td>2019-02-04 00:57:41</td>\n",
       "      <td>(15, 19, 5)</td>\n",
       "      <td>A63</td>\n",
       "      <td>N10</td>\n",
       "      <td>A63-N10</td>\n",
       "      <td>00:57:43</td>\n",
       "      <td>2019-02-03 23:00</td>\n",
       "      <td>2019-02-03 23:00:00</td>\n",
       "      <td>01:18:26</td>\n",
       "      <td>Cluster</td>\n",
       "      <td>01:03:47.194000</td>\n",
       "      <td>1</td>\n",
       "    </tr>\n",
       "    <tr>\n",
       "      <th>9851</th>\n",
       "      <td>2019-02-04 00:00:00</td>\n",
       "      <td>168032</td>\n",
       "      <td>77487a377a01486059a5fa57783b4d3f69330292</td>\n",
       "      <td>1</td>\n",
       "      <td>ES</td>\n",
       "      <td>964544</td>\n",
       "      <td>2019-02-04 01:44:02</td>\n",
       "      <td>(15, 19, 4, 5)</td>\n",
       "      <td>A63</td>\n",
       "      <td>N10</td>\n",
       "      <td>A63-N10</td>\n",
       "      <td>01:44:02</td>\n",
       "      <td>2019-02-04 00:00</td>\n",
       "      <td>NaT</td>\n",
       "      <td>NaT</td>\n",
       "      <td>NaN</td>\n",
       "      <td>01:03:47.194000</td>\n",
       "      <td>1</td>\n",
       "    </tr>\n",
       "  </tbody>\n",
       "</table>\n",
       "<p>7240 rows × 18 columns</p>\n",
       "</div>"
      ],
      "text/plain": [
       "               date_cam_1    index                                     immat  \\\n",
       "14022 2019-01-29 18:31:17   175670  51c70ab17c5dc09a43b4cc90dff46c2a18724ed9   \n",
       "10839 2019-01-29 18:31:20   145894  7027103c2ec1e2736a7e4316f51fe9847c28b485   \n",
       "3735  2019-01-29 18:31:27   184469  1c4bfb5d6c7d041727256a1cb6a9ea6bcb379d63   \n",
       "3736  2019-01-29 18:31:34   175671  5347d87075802111fcfd66f9507b5ccfa64ffdab   \n",
       "14023 2019-01-29 18:32:02   154248  6aeb19aee5c5b7019832f58dab1d7671b1ceff38   \n",
       "3737  2019-01-29 18:32:42   160718  0e484e9597206ef003a9ff70998d8e0a109b380e   \n",
       "10840 2019-01-29 18:35:17   154250  d9d545c91c46c78cb289a3ef6854a51da2b2f19b   \n",
       "10841 2019-01-29 18:37:16   151496  05247c54afbb3f446b1280aa6a05c8b4e1803c5c   \n",
       "3740  2019-01-29 18:37:26   164141  5ac56b7215f588e965aed21e0d9a940f51fe3f0f   \n",
       "10842 2019-01-29 18:37:46   164142  85fb0eda51cbe12f61a347f01119d360ff586b24   \n",
       "3743  2019-01-29 18:38:25  1468724  d79fecbedc734ce5c98a0301e4938efa23e1d5da   \n",
       "10844 2019-01-29 18:40:30   148213  b227e17190a9e95cc187836f2e72a65a021e542d   \n",
       "10845 2019-01-29 18:41:34   184471  1a2cb9eb1dbb71af607684e931c2d1a07a335279   \n",
       "10846 2019-01-29 18:42:23   181993  e96da7cc7d40bc4e757cb1eb71b287d73c853cc3   \n",
       "326   2019-01-29 18:43:21   185143  919724ea58fda0b21f42ba1bda95c9db98001e34   \n",
       "10849 2019-01-29 18:45:29   167133  1488469bcc911e1abfa7b8c21971e76d7400b01a   \n",
       "10850 2019-01-29 18:45:35   160721  bc5f58a7eef19a034918f351cccad167c696530d   \n",
       "3748  2019-01-29 18:45:58   139688  f7c591d145a08fd7e3dc3998577e7aec38794d6a   \n",
       "3749  2019-01-29 18:46:03   164143  5a6899697652e1bf75fa9904281fe0cc9b444d28   \n",
       "3750  2019-01-29 18:46:57   157175  78310772196485c9bd90202c0b967eb18d14f160   \n",
       "10853 2019-01-29 18:47:52   161499  e8bfe51f62b3bcc71801951eccd4cb3f97064be1   \n",
       "14026 2019-01-29 18:47:55   172759  1dac9670486d6ed02ee65a73f92e01d2d309ffd9   \n",
       "10856 2019-01-29 18:50:31   157178  36a6cd1fb8d9eb356c5e21027fab7df134c87cb8   \n",
       "3752  2019-01-29 18:50:56   160723  aaeff06a8f186a7ab435949f219fcd4358b2d962   \n",
       "14027 2019-01-29 18:51:02   690472  4df4bb3bebf0da428c963e435b9695dce8d22cb4   \n",
       "3753  2019-01-29 18:51:08   181394  fcefc1544ef1e7236c4cc3dbb42772adb024c34e   \n",
       "3754  2019-01-29 18:52:24   157805  185835da3dd5757a678d8b368e097ffdf2bc7d0d   \n",
       "3755  2019-01-29 18:53:52   542532  ac88958edd0fa4903b747a93dd49cb83074386f2   \n",
       "10857 2019-01-29 18:57:11  1211587  53a19f76c3be03e4c8b68c35888773be48d7950c   \n",
       "14028 2019-01-29 18:57:33   151500  c569b0561d26b5a79c45b150a60ff2d3eed70f44   \n",
       "...                   ...      ...                                       ...   \n",
       "9839  2019-02-03 23:51:38   161847  b69b1fa0d45e82278a1063feb7bbc7c8d88bcaec   \n",
       "9840  2019-02-03 23:51:42   148557  aa45a2e004902bdb83fe38a8aabcf91523e48875   \n",
       "11739 2019-02-03 23:51:44   176557  99a434959c1c64d55af10e1b9f3df4c0f0f7b6bf   \n",
       "15109 2019-02-03 23:52:02   149169  46a868313d5261d1c11ff02507a50232281e2a45   \n",
       "15110 2019-02-03 23:52:33   152395  df784f2f62e40a7ed7429b0842e1689f1672008b   \n",
       "845   2019-02-03 23:52:36   246619  3e986d10b7b51b210aa79fb255ff9bbec3064f13   \n",
       "15111 2019-02-03 23:53:01  1405915  bad850ea6ef01763c40935a3a3c58f7a2531f66d   \n",
       "9841  2019-02-03 23:53:12   181694  ced93537f16932d06dcfcc735537921122dcf3c0   \n",
       "15112 2019-02-03 23:53:37   616006  24a1e015771d0d1a5e75fd4d80654f929934f23d   \n",
       "846   2019-02-03 23:53:53   152396  90c290818d2675111e43d6479a52b2bb8d20fc67   \n",
       "9842  2019-02-03 23:54:05   173649  5dcf5469f1c796d5c527882ce1b7a0ceff8dd329   \n",
       "15113 2019-02-03 23:54:18   148558  7caef4257ffadda29fd78ba34f958b2c105eb609   \n",
       "9843  2019-02-03 23:54:21   140001  d8a4a03259e1e666ca456b0f77bcd8b3681bf935   \n",
       "15114 2019-02-03 23:54:33   143492  11e91d35f15ba86c17120553c646d55ab62c78e9   \n",
       "11740 2019-02-03 23:55:11   167428  ddea9c7f45421ea9216c806dbbf166935245900c   \n",
       "9844  2019-02-03 23:55:33   161848  96bd09434fb5937d3af284936fa1eb460c1906da   \n",
       "847   2019-02-03 23:55:40   148559  6099b7b9645a46c5fc379fbd89792c1d437d705a   \n",
       "9845  2019-02-03 23:55:44   158074  590c29ca12208d3e3dc918bc94c48f4c23b43365   \n",
       "11741 2019-02-03 23:56:02   178828  8a4c3ab7ea22fe0aca5610afc845a5d94261023a   \n",
       "9846  2019-02-03 23:56:06   165159  5aa0df8dd7999c3cff20c05559f93ffc59cde1f6   \n",
       "9847  2019-02-03 23:56:24   157474  61c9039f61225fce51017a3a48fe76c26a8240d1   \n",
       "15115 2019-02-03 23:56:53   142891  34f277542b696d3796d2965b41214085ec96a7f7   \n",
       "9848  2019-02-03 23:57:32   140002  2d66c067d9684174397f8a212bc8bb9b21af64aa   \n",
       "9849  2019-02-03 23:57:48   542712  863074ab7486e04d1ff66ce9381cc0cde219bf3d   \n",
       "15116 2019-02-03 23:58:31   173650  86922807fd2b6babd66394cfc142089949446b12   \n",
       "9850  2019-02-03 23:59:03   170296  2bb46d3f078891a310bfbe035499daa7b7b66167   \n",
       "15117 2019-02-03 23:59:10   146173  61625fc93101dc439a6dfb40062531c019441d40   \n",
       "848   2019-02-03 23:59:18   148560  bb929743bb9ce635a9be120c89b3528e585ebb40   \n",
       "15118 2019-02-03 23:59:58   164470  7ab61b16e50a9ddf1d5675e9042a0c4ff3ef4d18   \n",
       "9851  2019-02-04 00:00:00   168032  77487a377a01486059a5fa57783b4d3f69330292   \n",
       "\n",
       "       l state       id          date_cam_2         cameras origine  \\\n",
       "14022  1    ES   660675 2019-01-29 19:34:14     (15, 19, 5)     A63   \n",
       "10839  1    PT   906796 2019-01-29 19:33:58      (15, 4, 5)     A63   \n",
       "3735   1    ES   228874 2019-01-29 19:34:32  (15, 19, 4, 5)     A63   \n",
       "3736   1    ES   673019 2019-01-29 19:34:51  (15, 19, 4, 5)     A63   \n",
       "14023  1    ES   863855 2019-01-29 19:33:25     (15, 19, 5)     A63   \n",
       "3737   1    PT   115862 2019-01-29 19:34:35  (15, 19, 4, 5)     A63   \n",
       "10840  1    ES  1764407 2019-01-29 19:38:59      (15, 4, 5)     A63   \n",
       "10841  1    BE    41591 2019-01-29 19:42:41      (15, 4, 5)     A63   \n",
       "3740   1    ES   733154 2019-01-29 19:37:42  (15, 19, 4, 5)     A63   \n",
       "10842  1    PL  1085715 2019-01-29 19:38:38      (15, 4, 5)     A63   \n",
       "3743   1    FR  1746360 2019-01-29 19:39:55  (15, 19, 4, 5)     A63   \n",
       "10844  1    ES  1443085 2019-01-29 19:42:33      (15, 4, 5)     A63   \n",
       "10845  1    PT   212075 2019-01-29 19:44:24      (15, 4, 5)     A63   \n",
       "10846  1    PT  1890635 2019-01-29 19:42:58      (15, 4, 5)     A63   \n",
       "326    1    RO  1180648 2019-01-29 19:45:49         (15, 5)     A63   \n",
       "10849  1    ES   166464 2019-01-29 19:48:37      (15, 4, 5)     A63   \n",
       "10850  1    ES  1525301 2019-01-29 19:47:11      (15, 4, 5)     A63   \n",
       "3748   1    ES  2007147 2019-01-29 19:47:00  (15, 19, 4, 5)     A63   \n",
       "3749   1    ES   730092 2019-01-29 19:53:13  (15, 19, 4, 5)     A63   \n",
       "3750   1    ES   972252 2019-01-29 19:46:11  (15, 19, 4, 5)     A63   \n",
       "10853  1    BG  1885110 2019-01-29 19:48:15      (15, 4, 5)     A63   \n",
       "14026  1    ES   239642 2019-01-29 19:51:58     (15, 19, 5)     A63   \n",
       "10856  1    ES   441542 2019-01-29 19:52:33      (15, 4, 5)     A63   \n",
       "3752   1    ES  1385861 2019-01-29 19:52:47  (15, 19, 4, 5)     A63   \n",
       "14027  1    ES   629850 2019-01-29 19:52:53     (15, 19, 5)     A63   \n",
       "3753   1    ES  2049786 2019-01-29 19:52:01  (15, 19, 4, 5)     A63   \n",
       "3754   1    ES   196949 2019-01-29 20:01:52  (15, 19, 4, 5)     A63   \n",
       "3755   1    ES  1398382 2019-01-29 19:53:18  (15, 19, 4, 5)     A63   \n",
       "10857  1    ES   675693 2019-01-29 19:59:16      (15, 4, 5)     A63   \n",
       "14028  1    ES  1599089 2019-01-29 19:56:32     (15, 19, 5)     A63   \n",
       "...   ..   ...      ...                 ...             ...     ...   \n",
       "9839   1    PT  1479147 2019-02-04 00:49:23  (15, 19, 4, 5)     A63   \n",
       "9840   1    PL  1380917 2019-02-04 10:20:26  (15, 19, 4, 5)     A63   \n",
       "11739  1    ES  1245480 2019-02-04 00:51:24      (15, 4, 5)     A63   \n",
       "15109  1    ES   569775 2019-02-04 00:49:44     (15, 19, 5)     A63   \n",
       "15110  1    ES  1809645 2019-02-04 00:51:30     (15, 19, 5)     A63   \n",
       "845    1    PT   505468 2019-02-04 00:54:29         (15, 5)     A63   \n",
       "15111  1    RO  1512579 2019-02-04 00:56:20     (15, 19, 5)     A63   \n",
       "9841   1    RO  1675893 2019-02-04 00:52:52  (15, 19, 4, 5)     A63   \n",
       "15112  1    ES   295518 2019-02-04 00:51:23     (15, 19, 5)     A63   \n",
       "846    1    ES  1173941 2019-02-04 00:52:18         (15, 5)     A63   \n",
       "9842   1    ES   757607 2019-02-04 00:52:20  (15, 19, 4, 5)     A63   \n",
       "15113  1    PT  1010505 2019-02-04 00:53:33     (15, 19, 5)     A63   \n",
       "9843   1    ES  1754926 2019-02-04 00:52:54  (15, 19, 4, 5)     A63   \n",
       "15114  1    ES   145645 2019-02-04 00:53:08     (15, 19, 5)     A63   \n",
       "11740  1    PT  1797363 2019-02-04 00:54:02      (15, 4, 5)     A63   \n",
       "9844   1    BG  1222066 2019-02-04 00:53:51  (15, 19, 4, 5)     A63   \n",
       "847    1    ES   779934 2019-02-04 00:54:39         (15, 5)     A63   \n",
       "9845   1    ES   719078 2019-02-04 00:53:09  (15, 19, 4, 5)     A63   \n",
       "11741  1    ES  1121584 2019-02-04 00:56:46      (15, 4, 5)     A63   \n",
       "9846   1    PT   732012 2019-02-04 00:54:26  (15, 19, 4, 5)     A63   \n",
       "9847   1    PT   789798 2019-02-04 00:57:57  (15, 19, 4, 5)     A63   \n",
       "15115  1    PT   428291 2019-02-04 01:00:12     (15, 19, 5)     A63   \n",
       "9848   1    ES   367458 2019-02-04 00:55:48  (15, 19, 4, 5)     A63   \n",
       "9849   1    ES  1087416 2019-02-04 00:59:24  (15, 19, 4, 5)     A63   \n",
       "15116  1    PT  1090800 2019-02-04 00:59:06     (15, 19, 5)     A63   \n",
       "9850   1    ES   353587 2019-02-04 10:10:33  (15, 19, 4, 5)     A63   \n",
       "15117  1    ES   786545 2019-02-04 00:57:49     (15, 19, 5)     A63   \n",
       "848    1    ES  1518382 2019-02-04 00:58:53         (15, 5)     A63   \n",
       "15118  1    ES   994266 2019-02-04 00:57:41     (15, 19, 5)     A63   \n",
       "9851   1    ES   964544 2019-02-04 01:44:02  (15, 19, 4, 5)     A63   \n",
       "\n",
       "      destination      o_d tps_parcours           period                date  \\\n",
       "14022         N10  A63-N10     01:02:57 2019-01-29 18:30 2019-01-29 18:30:00   \n",
       "10839         N10  A63-N10     01:02:38 2019-01-29 18:30 2019-01-29 18:30:00   \n",
       "3735          N10  A63-N10     01:03:05 2019-01-29 18:30 2019-01-29 18:30:00   \n",
       "3736          N10  A63-N10     01:03:17 2019-01-29 18:30 2019-01-29 18:30:00   \n",
       "14023         N10  A63-N10     01:01:23 2019-01-29 18:30 2019-01-29 18:30:00   \n",
       "3737          N10  A63-N10     01:01:53 2019-01-29 18:30 2019-01-29 18:30:00   \n",
       "10840         N10  A63-N10     01:03:42 2019-01-29 18:30 2019-01-29 18:30:00   \n",
       "10841         N10  A63-N10     01:05:25 2019-01-29 18:30 2019-01-29 18:30:00   \n",
       "3740          N10  A63-N10     01:00:16 2019-01-29 18:30 2019-01-29 18:30:00   \n",
       "10842         N10  A63-N10     01:00:52 2019-01-29 18:30 2019-01-29 18:30:00   \n",
       "3743          N10  A63-N10     01:01:30 2019-01-29 18:30 2019-01-29 18:30:00   \n",
       "10844         N10  A63-N10     01:02:03 2019-01-29 18:30 2019-01-29 18:30:00   \n",
       "10845         N10  A63-N10     01:02:50 2019-01-29 18:30 2019-01-29 18:30:00   \n",
       "10846         N10  A63-N10     01:00:35 2019-01-29 18:30 2019-01-29 18:30:00   \n",
       "326           N10  A63-N10     01:02:28 2019-01-29 18:30 2019-01-29 18:30:00   \n",
       "10849         N10  A63-N10     01:03:08 2019-01-29 18:45 2019-01-29 18:45:00   \n",
       "10850         N10  A63-N10     01:01:36 2019-01-29 18:45 2019-01-29 18:45:00   \n",
       "3748          N10  A63-N10     01:01:02 2019-01-29 18:45 2019-01-29 18:45:00   \n",
       "3749          N10  A63-N10     01:07:10 2019-01-29 18:45 2019-01-29 18:45:00   \n",
       "3750          N10  A63-N10     00:59:14 2019-01-29 18:45 2019-01-29 18:45:00   \n",
       "10853         N10  A63-N10     01:00:23 2019-01-29 18:45 2019-01-29 18:45:00   \n",
       "14026         N10  A63-N10     01:04:03 2019-01-29 18:45 2019-01-29 18:45:00   \n",
       "10856         N10  A63-N10     01:02:02 2019-01-29 18:45 2019-01-29 18:45:00   \n",
       "3752          N10  A63-N10     01:01:51 2019-01-29 18:45 2019-01-29 18:45:00   \n",
       "14027         N10  A63-N10     01:01:51 2019-01-29 18:45 2019-01-29 18:45:00   \n",
       "3753          N10  A63-N10     01:00:53 2019-01-29 18:45 2019-01-29 18:45:00   \n",
       "3754          N10  A63-N10     01:09:28 2019-01-29 18:45 2019-01-29 18:45:00   \n",
       "3755          N10  A63-N10     00:59:26 2019-01-29 18:45 2019-01-29 18:45:00   \n",
       "10857         N10  A63-N10     01:02:05 2019-01-29 18:45 2019-01-29 18:45:00   \n",
       "14028         N10  A63-N10     00:58:59 2019-01-29 18:45 2019-01-29 18:45:00   \n",
       "...           ...      ...          ...              ...                 ...   \n",
       "9839          N10  A63-N10     00:57:45 2019-02-03 23:00 2019-02-03 23:00:00   \n",
       "9840          N10  A63-N10     10:28:44 2019-02-03 23:00 2019-02-03 23:00:00   \n",
       "11739         N10  A63-N10     00:59:40 2019-02-03 23:00 2019-02-03 23:00:00   \n",
       "15109         N10  A63-N10     00:57:42 2019-02-03 23:00 2019-02-03 23:00:00   \n",
       "15110         N10  A63-N10     00:58:57 2019-02-03 23:00 2019-02-03 23:00:00   \n",
       "845           N10  A63-N10     01:01:53 2019-02-03 23:00 2019-02-03 23:00:00   \n",
       "15111         N10  A63-N10     01:03:19 2019-02-03 23:00 2019-02-03 23:00:00   \n",
       "9841          N10  A63-N10     00:59:40 2019-02-03 23:00 2019-02-03 23:00:00   \n",
       "15112         N10  A63-N10     00:57:46 2019-02-03 23:00 2019-02-03 23:00:00   \n",
       "846           N10  A63-N10     00:58:25 2019-02-03 23:00 2019-02-03 23:00:00   \n",
       "9842          N10  A63-N10     00:58:15 2019-02-03 23:00 2019-02-03 23:00:00   \n",
       "15113         N10  A63-N10     00:59:15 2019-02-03 23:00 2019-02-03 23:00:00   \n",
       "9843          N10  A63-N10     00:58:33 2019-02-03 23:00 2019-02-03 23:00:00   \n",
       "15114         N10  A63-N10     00:58:35 2019-02-03 23:00 2019-02-03 23:00:00   \n",
       "11740         N10  A63-N10     00:58:51 2019-02-03 23:00 2019-02-03 23:00:00   \n",
       "9844          N10  A63-N10     00:58:18 2019-02-03 23:00 2019-02-03 23:00:00   \n",
       "847           N10  A63-N10     00:58:59 2019-02-03 23:00 2019-02-03 23:00:00   \n",
       "9845          N10  A63-N10     00:57:25 2019-02-03 23:00 2019-02-03 23:00:00   \n",
       "11741         N10  A63-N10     01:00:44 2019-02-03 23:00 2019-02-03 23:00:00   \n",
       "9846          N10  A63-N10     00:58:20 2019-02-03 23:00 2019-02-03 23:00:00   \n",
       "9847          N10  A63-N10     01:01:33 2019-02-03 23:00 2019-02-03 23:00:00   \n",
       "15115         N10  A63-N10     01:03:19 2019-02-03 23:00 2019-02-03 23:00:00   \n",
       "9848          N10  A63-N10     00:58:16 2019-02-03 23:00 2019-02-03 23:00:00   \n",
       "9849          N10  A63-N10     01:01:36 2019-02-03 23:00 2019-02-03 23:00:00   \n",
       "15116         N10  A63-N10     01:00:35 2019-02-03 23:00 2019-02-03 23:00:00   \n",
       "9850          N10  A63-N10     10:11:30 2019-02-03 23:00 2019-02-03 23:00:00   \n",
       "15117         N10  A63-N10     00:58:39 2019-02-03 23:00 2019-02-03 23:00:00   \n",
       "848           N10  A63-N10     00:59:35 2019-02-03 23:00 2019-02-03 23:00:00   \n",
       "15118         N10  A63-N10     00:57:43 2019-02-03 23:00 2019-02-03 23:00:00   \n",
       "9851          N10  A63-N10     01:44:02 2019-02-04 00:00                 NaT   \n",
       "\n",
       "         temps     type tps_parcours_theoriq  filtre_tps  \n",
       "14022 01:05:25  Cluster      01:03:47.194000           1  \n",
       "10839 01:05:25  Cluster      01:03:47.194000           1  \n",
       "3735  01:05:25  Cluster      01:03:47.194000           1  \n",
       "3736  01:05:25  Cluster      01:03:47.194000           1  \n",
       "14023 01:05:25  Cluster      01:03:47.194000           1  \n",
       "3737  01:05:25  Cluster      01:03:47.194000           1  \n",
       "10840 01:05:25  Cluster      01:03:47.194000           1  \n",
       "10841 01:05:25  Cluster      01:03:47.194000           1  \n",
       "3740  01:05:25  Cluster      01:03:47.194000           1  \n",
       "10842 01:05:25  Cluster      01:03:47.194000           1  \n",
       "3743  01:05:25  Cluster      01:03:47.194000           1  \n",
       "10844 01:05:25  Cluster      01:03:47.194000           1  \n",
       "10845 01:05:25  Cluster      01:03:47.194000           1  \n",
       "10846 01:05:25  Cluster      01:03:47.194000           1  \n",
       "326   01:05:25  Cluster      01:03:47.194000           1  \n",
       "10849 01:09:28  Cluster      01:03:47.194000           1  \n",
       "10850 01:09:28  Cluster      01:03:47.194000           1  \n",
       "3748  01:09:28  Cluster      01:03:47.194000           1  \n",
       "3749  01:09:28  Cluster      01:03:47.194000           1  \n",
       "3750  01:09:28  Cluster      01:03:47.194000           1  \n",
       "10853 01:09:28  Cluster      01:03:47.194000           1  \n",
       "14026 01:09:28  Cluster      01:03:47.194000           1  \n",
       "10856 01:09:28  Cluster      01:03:47.194000           1  \n",
       "3752  01:09:28  Cluster      01:03:47.194000           1  \n",
       "14027 01:09:28  Cluster      01:03:47.194000           1  \n",
       "3753  01:09:28  Cluster      01:03:47.194000           1  \n",
       "3754  01:09:28  Cluster      01:03:47.194000           1  \n",
       "3755  01:09:28  Cluster      01:03:47.194000           1  \n",
       "10857 01:09:28  Cluster      01:03:47.194000           1  \n",
       "14028 01:09:28  Cluster      01:03:47.194000           1  \n",
       "...        ...      ...                  ...         ...  \n",
       "9839  01:18:26  Cluster      01:03:47.194000           1  \n",
       "9840  01:18:26  Cluster      01:03:47.194000           1  \n",
       "11739 01:18:26  Cluster      01:03:47.194000           1  \n",
       "15109 01:18:26  Cluster      01:03:47.194000           1  \n",
       "15110 01:18:26  Cluster      01:03:47.194000           1  \n",
       "845   01:18:26  Cluster      01:03:47.194000           1  \n",
       "15111 01:18:26  Cluster      01:03:47.194000           1  \n",
       "9841  01:18:26  Cluster      01:03:47.194000           1  \n",
       "15112 01:18:26  Cluster      01:03:47.194000           1  \n",
       "846   01:18:26  Cluster      01:03:47.194000           1  \n",
       "9842  01:18:26  Cluster      01:03:47.194000           1  \n",
       "15113 01:18:26  Cluster      01:03:47.194000           1  \n",
       "9843  01:18:26  Cluster      01:03:47.194000           1  \n",
       "15114 01:18:26  Cluster      01:03:47.194000           1  \n",
       "11740 01:18:26  Cluster      01:03:47.194000           1  \n",
       "9844  01:18:26  Cluster      01:03:47.194000           1  \n",
       "847   01:18:26  Cluster      01:03:47.194000           1  \n",
       "9845  01:18:26  Cluster      01:03:47.194000           1  \n",
       "11741 01:18:26  Cluster      01:03:47.194000           1  \n",
       "9846  01:18:26  Cluster      01:03:47.194000           1  \n",
       "9847  01:18:26  Cluster      01:03:47.194000           1  \n",
       "15115 01:18:26  Cluster      01:03:47.194000           1  \n",
       "9848  01:18:26  Cluster      01:03:47.194000           1  \n",
       "9849  01:18:26  Cluster      01:03:47.194000           1  \n",
       "15116 01:18:26  Cluster      01:03:47.194000           1  \n",
       "9850  01:18:26  Cluster      01:03:47.194000           1  \n",
       "15117 01:18:26  Cluster      01:03:47.194000           1  \n",
       "848   01:18:26  Cluster      01:03:47.194000           1  \n",
       "15118 01:18:26  Cluster      01:03:47.194000           1  \n",
       "9851       NaT      NaN      01:03:47.194000           1  \n",
       "\n",
       "[7240 rows x 18 columns]"
      ]
     },
     "execution_count": 125,
     "metadata": {},
     "output_type": "execute_result"
    }
   ],
   "source": [
    "dico_od_final.loc[(dico_od_final['o_d']=='A63-N10') & (dico_od_final['date_cam_1']>pd.to_datetime('2019-01-29 18:30'))].sort_values('date_cam_1')"
   ]
  },
  {
   "cell_type": "code",
   "execution_count": null,
   "metadata": {},
   "outputs": [],
   "source": []
  }
 ],
 "metadata": {
  "kernelspec": {
   "display_name": "Python 3",
   "language": "python",
   "name": "python3"
  },
  "language_info": {
   "codemirror_mode": {
    "name": "ipython",
    "version": 3
   },
   "file_extension": ".py",
   "mimetype": "text/x-python",
   "name": "python",
   "nbconvert_exporter": "python",
   "pygments_lexer": "ipython3",
   "version": "3.7.0"
  }
 },
 "nbformat": 4,
 "nbformat_minor": 2
}
