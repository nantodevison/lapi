{
 "cells": [
  {
   "cell_type": "markdown",
   "metadata": {},
   "source": [
    "# TRAITEMENT GLOBAL DES DONNEES LAPI"
   ]
  },
  {
   "cell_type": "code",
   "execution_count": 1,
   "metadata": {},
   "outputs": [],
   "source": [
    "%load_ext autoreload\n",
    "%autoreload 2\n",
    "import sys #c'est pas propre mais pour le moment pour importer mes modules perso dans le notebook je ne sais pas faire\n",
    "sys.path.append(r'C:\\Users\\martin.schoreisz\\git\\Outils\\Outils\\Martin_Perso')\n",
    "import Traitements_complets as tc"
   ]
  },
  {
   "cell_type": "code",
   "execution_count": 2,
   "metadata": {},
   "outputs": [
    {
     "name": "stdout",
     "output_type": "stream",
     "text": [
      "date : 2019-01-23 00:00:00 debut_traitement : 2019-06-26 09:10:32.265116\n",
      "date : 2019-01-24 00:00:00 debut_traitement : 2019-06-26 09:11:32.375813\n",
      "date : 2019-01-25 00:00:00 debut_traitement : 2019-06-26 09:12:32.527911\n",
      "date : 2019-01-26 00:00:00 debut_traitement : 2019-06-26 09:13:33.690826\n",
      "date : 2019-01-27 00:00:00 debut_traitement : 2019-06-26 09:14:25.263655\n",
      "date : 2019-01-28 00:00:00 debut_traitement : 2019-06-26 09:15:05.660410\n",
      "date : 2019-01-29 00:00:00 debut_traitement : 2019-06-26 09:16:13.472612\n",
      "date : 2019-01-30 00:00:00 debut_traitement : 2019-06-26 09:17:32.297797\n",
      "date : 2019-01-31 00:00:00 debut_traitement : 2019-06-26 09:18:52.700770\n",
      "date : 2019-02-01 00:00:00 debut_traitement : 2019-06-26 09:20:19.750414\n",
      "date : 2019-02-02 00:00:00 debut_traitement : 2019-06-26 09:21:56.743284\n",
      "date : 2019-02-03 00:00:00 debut_traitement : 2019-06-26 09:23:28.424914\n",
      "date : 2019-02-04 00:00:00 debut_traitement : 2019-06-26 09:24:44.782008\n",
      "date : 2019-02-05 00:00:00 debut_traitement : 2019-06-26 09:26:40.254917\n",
      "date : 2019-02-06 00:00:00 debut_traitement : 2019-06-26 09:28:52.536432\n",
      "date : 2019-02-07 00:00:00 debut_traitement : 2019-06-26 09:30:55.101463\n",
      "date : 2019-02-08 00:00:00 debut_traitement : 2019-06-26 09:33:16.568320\n",
      "date : 2019-02-09 00:00:00 debut_traitement : 2019-06-26 09:35:41.663981\n",
      "date : 2019-02-10 00:00:00 debut_traitement : 2019-06-26 09:37:53.646616\n",
      "date : 2019-02-11 00:00:00 debut_traitement : 2019-06-26 09:39:50.681735\n",
      "date : 2019-02-12 00:00:00 debut_traitement : 2019-06-26 09:42:32.069640\n",
      "date : 2019-02-13 00:00:00 debut_traitement : 2019-06-26 09:45:30.141557\n",
      "Wall time: 1h 26min\n"
     ]
    }
   ],
   "source": [
    "%time df_transit_A63_redresse, df_transit_extrapole, df_passages_immat_ok, dixco_tpsmax_corrige=tc.definir_transit()"
   ]
  },
  {
   "cell_type": "code",
   "execution_count": 3,
   "metadata": {},
   "outputs": [
    {
     "name": "stdout",
     "output_type": "stream",
     "text": [
      "Wall time: 2min 18s\n"
     ]
    }
   ],
   "source": [
    "%time dico_df_transit, dico_df_od_ok=tc.appliquer_marge([0,15,30,60,90],df_transit_A63_redresse, df_transit_extrapole)"
   ]
  },
  {
   "cell_type": "code",
   "execution_count": 4,
   "metadata": {},
   "outputs": [
    {
     "name": "stdout",
     "output_type": "stream",
     "text": [
      "Wall time: 4h 55min 51s\n"
     ]
    }
   ],
   "source": [
    "%time dico_corr_A63_A660=tc.correction_A660(dico_df_od_ok,df_passages_immat_ok,[0,15,30,60,90])"
   ]
  },
  {
   "cell_type": "code",
   "execution_count": 5,
   "metadata": {},
   "outputs": [
    {
     "name": "stdout",
     "output_type": "stream",
     "text": [
      "date : 2019-01-23 00:00:00 debut_traitement : 2019-06-26 20:03:36.359620\n",
      "date : 2019-01-24 00:00:00 debut_traitement : 2019-06-26 20:15:46.453553\n",
      "date : 2019-01-25 00:00:00 debut_traitement : 2019-06-26 20:23:58.570150\n",
      "date : 2019-01-26 00:00:00 debut_traitement : 2019-06-26 20:30:26.995459\n",
      "date : 2019-01-27 00:00:00 debut_traitement : 2019-06-26 20:35:12.304071\n",
      "date : 2019-01-28 00:00:00 debut_traitement : 2019-06-26 20:37:26.179185\n",
      "date : 2019-01-29 00:00:00 debut_traitement : 2019-06-26 20:42:53.163732\n",
      "date : 2019-01-30 00:00:00 debut_traitement : 2019-06-26 20:47:59.826755\n",
      "date : 2019-01-31 00:00:00 debut_traitement : 2019-06-26 20:53:53.525765\n",
      "date : 2019-02-01 00:00:00 debut_traitement : 2019-06-26 20:57:06.869488\n",
      "date : 2019-02-02 00:00:00 debut_traitement : 2019-06-26 21:00:03.094097\n",
      "date : 2019-02-03 00:00:00 debut_traitement : 2019-06-26 21:02:28.732125\n",
      "date : 2019-02-04 00:00:00 debut_traitement : 2019-06-26 21:04:03.100799\n",
      "date : 2019-02-05 00:00:00 debut_traitement : 2019-06-26 21:06:28.176403\n",
      "date : 2019-02-06 00:00:00 debut_traitement : 2019-06-26 21:09:14.528336\n",
      "date : 2019-02-07 00:00:00 debut_traitement : 2019-06-26 21:12:41.884438\n",
      "date : 2019-02-08 00:00:00 debut_traitement : 2019-06-26 21:15:31.876183\n",
      "date : 2019-02-09 00:00:00 debut_traitement : 2019-06-26 21:17:57.732885\n",
      "date : 2019-02-10 00:00:00 debut_traitement : 2019-06-26 21:20:05.498135\n",
      "date : 2019-02-11 00:00:00 debut_traitement : 2019-06-26 21:21:42.116258\n",
      "date : 2019-02-12 00:00:00 debut_traitement : 2019-06-26 21:23:49.149217\n",
      "date : 2019-02-13 00:00:00 debut_traitement : 2019-06-26 21:26:09.475988\n",
      "date : 2019-01-23 00:00:00 debut_traitement : 2019-06-26 21:29:07.979440\n",
      "date : 2019-01-24 00:00:00 debut_traitement : 2019-06-26 21:40:46.098319\n",
      "date : 2019-01-25 00:00:00 debut_traitement : 2019-06-26 21:49:09.323173\n",
      "date : 2019-01-26 00:00:00 debut_traitement : 2019-06-26 21:55:41.185155\n",
      "date : 2019-01-27 00:00:00 debut_traitement : 2019-06-26 22:00:31.740658\n",
      "date : 2019-01-28 00:00:00 debut_traitement : 2019-06-26 22:02:49.255545\n",
      "date : 2019-01-29 00:00:00 debut_traitement : 2019-06-26 22:08:33.972241\n",
      "date : 2019-01-30 00:00:00 debut_traitement : 2019-06-26 22:13:50.711074\n",
      "date : 2019-01-31 00:00:00 debut_traitement : 2019-06-26 22:19:58.871670\n",
      "date : 2019-02-01 00:00:00 debut_traitement : 2019-06-26 22:23:19.309426\n",
      "date : 2019-02-02 00:00:00 debut_traitement : 2019-06-26 22:26:23.860279\n",
      "date : 2019-02-03 00:00:00 debut_traitement : 2019-06-26 22:28:50.373049\n",
      "date : 2019-02-04 00:00:00 debut_traitement : 2019-06-26 22:30:25.928949\n",
      "date : 2019-02-05 00:00:00 debut_traitement : 2019-06-26 22:32:56.345268\n",
      "date : 2019-02-06 00:00:00 debut_traitement : 2019-06-26 22:35:47.477305\n",
      "date : 2019-02-07 00:00:00 debut_traitement : 2019-06-26 22:39:24.864273\n",
      "date : 2019-02-08 00:00:00 debut_traitement : 2019-06-26 22:42:22.119924\n",
      "date : 2019-02-09 00:00:00 debut_traitement : 2019-06-26 22:44:50.710359\n",
      "date : 2019-02-10 00:00:00 debut_traitement : 2019-06-26 22:47:00.914421\n",
      "date : 2019-02-11 00:00:00 debut_traitement : 2019-06-26 22:48:37.155817\n",
      "date : 2019-02-12 00:00:00 debut_traitement : 2019-06-26 22:50:52.499343\n",
      "date : 2019-02-13 00:00:00 debut_traitement : 2019-06-26 22:53:19.936513\n",
      "date : 2019-01-23 00:00:00 debut_traitement : 2019-06-26 22:56:22.815881\n",
      "date : 2019-01-24 00:00:00 debut_traitement : 2019-06-26 23:08:25.583312\n",
      "date : 2019-01-25 00:00:00 debut_traitement : 2019-06-26 23:17:06.587162\n",
      "date : 2019-01-26 00:00:00 debut_traitement : 2019-06-26 23:23:50.333186\n",
      "date : 2019-01-27 00:00:00 debut_traitement : 2019-06-26 23:28:45.889442\n",
      "date : 2019-01-28 00:00:00 debut_traitement : 2019-06-26 23:31:08.778084\n",
      "date : 2019-01-29 00:00:00 debut_traitement : 2019-06-26 23:37:03.521803\n",
      "date : 2019-01-30 00:00:00 debut_traitement : 2019-06-26 23:42:32.617136\n",
      "date : 2019-01-31 00:00:00 debut_traitement : 2019-06-26 23:49:07.181585\n",
      "date : 2019-02-01 00:00:00 debut_traitement : 2019-06-26 23:52:32.350745\n",
      "date : 2019-02-02 00:00:00 debut_traitement : 2019-06-26 23:55:43.696862\n",
      "date : 2019-02-03 00:00:00 debut_traitement : 2019-06-26 23:58:16.177051\n",
      "date : 2019-02-04 00:00:00 debut_traitement : 2019-06-26 23:59:55.685126\n",
      "date : 2019-02-05 00:00:00 debut_traitement : 2019-06-27 00:02:34.788746\n",
      "date : 2019-02-06 00:00:00 debut_traitement : 2019-06-27 00:05:33.169162\n",
      "date : 2019-02-07 00:00:00 debut_traitement : 2019-06-27 00:09:23.629286\n",
      "date : 2019-02-08 00:00:00 debut_traitement : 2019-06-27 00:12:21.900276\n",
      "date : 2019-02-09 00:00:00 debut_traitement : 2019-06-27 00:14:57.285944\n",
      "date : 2019-02-10 00:00:00 debut_traitement : 2019-06-27 00:17:07.193142\n",
      "date : 2019-02-11 00:00:00 debut_traitement : 2019-06-27 00:18:46.669982\n",
      "date : 2019-02-12 00:00:00 debut_traitement : 2019-06-27 00:21:11.056852\n",
      "date : 2019-02-13 00:00:00 debut_traitement : 2019-06-27 00:23:44.036939\n",
      "date : 2019-01-23 00:00:00 debut_traitement : 2019-06-27 00:26:59.615794\n",
      "date : 2019-01-24 00:00:00 debut_traitement : 2019-06-27 00:39:44.755288\n",
      "date : 2019-01-25 00:00:00 debut_traitement : 2019-06-27 00:48:40.244139\n",
      "date : 2019-01-26 00:00:00 debut_traitement : 2019-06-27 00:55:56.065532\n",
      "date : 2019-01-27 00:00:00 debut_traitement : 2019-06-27 01:01:09.588229\n",
      "date : 2019-01-28 00:00:00 debut_traitement : 2019-06-27 01:03:42.475393\n",
      "date : 2019-01-29 00:00:00 debut_traitement : 2019-06-27 01:09:53.812835\n",
      "date : 2019-01-30 00:00:00 debut_traitement : 2019-06-27 01:15:41.544107\n",
      "date : 2019-01-31 00:00:00 debut_traitement : 2019-06-27 01:23:01.754307\n",
      "date : 2019-02-01 00:00:00 debut_traitement : 2019-06-27 01:26:27.160461\n",
      "date : 2019-02-02 00:00:00 debut_traitement : 2019-06-27 01:29:50.924450\n",
      "date : 2019-02-03 00:00:00 debut_traitement : 2019-06-27 01:32:31.387649\n",
      "date : 2019-02-04 00:00:00 debut_traitement : 2019-06-27 01:34:19.706571\n",
      "date : 2019-02-05 00:00:00 debut_traitement : 2019-06-27 01:37:09.433269\n",
      "date : 2019-02-06 00:00:00 debut_traitement : 2019-06-27 01:40:22.107752\n",
      "date : 2019-02-07 00:00:00 debut_traitement : 2019-06-27 01:44:43.405243\n",
      "date : 2019-02-08 00:00:00 debut_traitement : 2019-06-27 01:47:51.221421\n",
      "date : 2019-02-09 00:00:00 debut_traitement : 2019-06-27 01:50:41.197915\n",
      "date : 2019-02-10 00:00:00 debut_traitement : 2019-06-27 01:52:59.400530\n",
      "date : 2019-02-11 00:00:00 debut_traitement : 2019-06-27 01:54:45.469880\n",
      "date : 2019-02-12 00:00:00 debut_traitement : 2019-06-27 01:57:20.652871\n",
      "date : 2019-02-13 00:00:00 debut_traitement : 2019-06-27 02:00:14.298449\n",
      "date : 2019-01-23 00:00:00 debut_traitement : 2019-06-27 02:03:38.298337\n",
      "date : 2019-01-24 00:00:00 debut_traitement : 2019-06-27 02:16:31.461835\n",
      "date : 2019-01-25 00:00:00 debut_traitement : 2019-06-27 02:25:32.850393\n",
      "date : 2019-01-26 00:00:00 debut_traitement : 2019-06-27 02:32:55.902679\n",
      "date : 2019-01-27 00:00:00 debut_traitement : 2019-06-27 02:38:12.985584\n",
      "date : 2019-01-28 00:00:00 debut_traitement : 2019-06-27 02:40:51.214615\n",
      "date : 2019-01-29 00:00:00 debut_traitement : 2019-06-27 02:47:05.362385\n",
      "date : 2019-01-30 00:00:00 debut_traitement : 2019-06-27 02:52:58.153698\n",
      "date : 2019-01-31 00:00:00 debut_traitement : 2019-06-27 03:00:22.144557\n",
      "date : 2019-02-01 00:00:00 debut_traitement : 2019-06-27 03:03:49.875745\n",
      "date : 2019-02-02 00:00:00 debut_traitement : 2019-06-27 03:07:11.969478\n",
      "date : 2019-02-03 00:00:00 debut_traitement : 2019-06-27 03:09:52.229174\n",
      "date : 2019-02-04 00:00:00 debut_traitement : 2019-06-27 03:11:39.735439\n",
      "date : 2019-02-05 00:00:00 debut_traitement : 2019-06-27 03:14:29.321070\n",
      "date : 2019-02-06 00:00:00 debut_traitement : 2019-06-27 03:17:35.605944\n",
      "date : 2019-02-07 00:00:00 debut_traitement : 2019-06-27 03:22:03.961711\n",
      "date : 2019-02-08 00:00:00 debut_traitement : 2019-06-27 03:25:10.871468\n",
      "date : 2019-02-09 00:00:00 debut_traitement : 2019-06-27 03:28:01.222544\n",
      "date : 2019-02-10 00:00:00 debut_traitement : 2019-06-27 03:30:22.970857\n",
      "date : 2019-02-11 00:00:00 debut_traitement : 2019-06-27 03:32:12.179906\n",
      "date : 2019-02-12 00:00:00 debut_traitement : 2019-06-27 03:34:50.549389\n",
      "date : 2019-02-13 00:00:00 debut_traitement : 2019-06-27 03:37:45.413141\n",
      "Wall time: 9h 49min 9s\n"
     ]
    }
   ],
   "source": [
    "%time dico_df_od_final=tc.extrapol_trajets_incomplets(dico_df_od_ok,df_passages_immat_ok,dico_corr_A63_A660,[0,15,30,60,90], dixco_tpsmax_corrige)"
   ]
  },
  {
   "cell_type": "code",
   "execution_count": 7,
   "metadata": {},
   "outputs": [],
   "source": [
    "tc.save_results(r'Q:\\DAIT\\TI\\DREAL33\\2018\\C17SI0073_LAPI\\Projet Rapport\\resultats',dico_df_od_final,[0,15,30,60,90] )"
   ]
  },
  {
   "cell_type": "code",
   "execution_count": null,
   "metadata": {},
   "outputs": [],
   "source": []
  }
 ],
 "metadata": {
  "kernelspec": {
   "display_name": "Python 3",
   "language": "python",
   "name": "python3"
  },
  "language_info": {
   "codemirror_mode": {
    "name": "ipython",
    "version": 3
   },
   "file_extension": ".py",
   "mimetype": "text/x-python",
   "name": "python",
   "nbconvert_exporter": "python",
   "pygments_lexer": "ipython3",
   "version": "3.7.0"
  }
 },
 "nbformat": 4,
 "nbformat_minor": 2
}
