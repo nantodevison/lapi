{
 "cells": [
  {
   "cell_type": "markdown",
   "metadata": {},
   "source": [
    "Test du projet de class trajets indirect"
   ]
  },
  {
   "cell_type": "code",
   "execution_count": 1,
   "metadata": {},
   "outputs": [],
   "source": [
    "%load_ext autoreload\n",
    "%autoreload 2\n",
    "import sys #c'est pas propre mais pour le moment pour importer mes modules perso dans le notebook je ne sais pas faire\n",
    "sys.path.append(r'C:\\Users\\martin.schoreisz\\git\\Outils\\Outils\\Martin_Perso')\n",
    "import traitement_od as t\n",
    "import pandas as pd\n",
    "import numpy as np\n",
    "import altair as alt\n",
    "import datetime as dt\n",
    "pd.set_option('display.max_colwidth', 1000)\n",
    "import os\n",
    "from sklearn.cluster import DBSCAN"
   ]
  },
  {
   "cell_type": "markdown",
   "metadata": {},
   "source": [
    "IMPORT DONNEES GLOBALES"
   ]
  },
  {
   "cell_type": "code",
   "execution_count": 2,
   "metadata": {},
   "outputs": [
    {
     "name": "stdout",
     "output_type": "stream",
     "text": [
      "Wall time: 1min 10s\n"
     ]
    }
   ],
   "source": [
    "%time df_3semaines=t.ouvrir_fichier_lapi('2019-01-28 00:00:00','2019-02-17 23:59:59').set_index('created').sort_index()"
   ]
  },
  {
   "cell_type": "markdown",
   "metadata": {},
   "source": [
    "IMPORT DES DONNEES SUR UNE JOURNEE"
   ]
  },
  {
   "cell_type": "code",
   "execution_count": 350,
   "metadata": {},
   "outputs": [],
   "source": [
    "df_journee=t.ouvrir_fichier_lapi('2019-01-28','2019-01-30')"
   ]
  },
  {
   "cell_type": "code",
   "execution_count": 352,
   "metadata": {},
   "outputs": [],
   "source": [
    "#redresser la valeur de l\n",
    "df_journee.loc[df_journee['camera_id']==15,'l']=1"
   ]
  },
  {
   "cell_type": "markdown",
   "metadata": {},
   "source": [
    "LISTE DES TRAJETS"
   ]
  },
  {
   "cell_type": "code",
   "execution_count": 3,
   "metadata": {},
   "outputs": [],
   "source": [
    "liste_trajet_locale=(pd.DataFrame([{'origine':'A63','destination':'A10','cam_o':15, 'cam_d':11, 'trajets':[\n",
    "                                                        {'cameras':[15,19,4,5,11],'type_trajet':'indirect'},\n",
    "                                                        {'cameras':[15,19,1,5,11],'type_trajet':'indirect'},\n",
    "                                                        {'cameras':[15,4,5,11],'type_trajet':'indirect'},\n",
    "                                                        {'cameras':[15,1,5,11],'type_trajet':'indirect'},\n",
    "                                                        {'cameras':[15,19,5,11],'type_trajet':'indirect'},\n",
    "                                                        {'cameras':[15,19,4,11],'type_trajet':'indirect'},\n",
    "                                                        {'cameras':[15,19,1,11],'type_trajet':'indirect'},\n",
    "                                                        {'cameras':[15,4,11],'type_trajet':'indirect'},\n",
    "                                                        {'cameras':[15,1,11],'type_trajet':'indirect'},\n",
    "                                                        {'cameras':[15,5,11],'type_trajet':'indirect'},\n",
    "                                                        {'cameras':[15,19,11],'type_trajet':'indirect'},\n",
    "                                                        {'cameras':[15,11],'type_trajet':'direct'}\n",
    "                                                       ]},\n",
    "                            {'origine':'A10','destination':'A63','cam_o':12, 'cam_d':13,'trajets':[{'cameras':[12,6,2,18,13],'type_trajet':'indirect'},\n",
    "                                                        {'cameras':[12,6,3,18,13],'type_trajet':'indirect'},\n",
    "                                                        {'cameras':[12,6,2,13],'type_trajet':'indirect'},\n",
    "                                                        {'cameras':[12,6,3,13],'type_trajet':'indirect'},\n",
    "                                                        {'cameras':[12,6,18,13],'type_trajet':'indirect'},\n",
    "                                                        {'cameras':[12,2,18,13],'type_trajet':'indirect'},\n",
    "                                                        {'cameras':[12,3,18,13],'type_trajet':'indirect'},\n",
    "                                                        {'cameras':[12,2,13],'type_trajet':'indirect'},\n",
    "                                                        {'cameras':[12,3,13],'type_trajet':'indirect'},\n",
    "                                                        {'cameras':[12,6,13],'type_trajet':'indirect'},\n",
    "                                                        {'cameras':[12,18,13],'type_trajet':'indirect'},\n",
    "                                                        {'cameras':[12,13],'type_trajet':'direct'},\n",
    "                                                       ]},\n",
    "                            {'origine':'A63','destination':'N10','cam_o':15, 'cam_d':5,'trajets':[{'cameras':[15,19,4,5],'type_trajet':'indirect'},\n",
    "                                                        {'cameras':[15,19,1,5],'type_trajet':'indirect'},\n",
    "                                                        {'cameras':[15,4,5],'type_trajet':'indirect'},\n",
    "                                                        {'cameras':[15,1,5],'type_trajet':'indirect'},\n",
    "                                                        {'cameras':[15,19,5],'type_trajet':'indirect'}, \n",
    "                                                        {'cameras':[15,5],'type_trajet':'direct'},\n",
    "                                                       ]},\n",
    "                            {'origine':'N10','destination':'A63','cam_o':6, 'cam_d':13,'trajets':[{'cameras':[6,2,18,13],'type_trajet':'indirect'},\n",
    "                                                        {'cameras':[6,3,18,13],'type_trajet':'indirect'},\n",
    "                                                        {'cameras':[6,18,13],'type_trajet':'indirect'},\n",
    "                                                        {'cameras':[6,2,13],'type_trajet':'indirect'},\n",
    "                                                        {'cameras':[6,3,13],'type_trajet':'indirect'},\n",
    "                                                        {'cameras':[6,13],'type_trajet':'direct'},\n",
    "                                                       ]},\n",
    "                            {'origine':'A62','destination':'A10','cam_o':10, 'cam_d':11,'trajets':[{'cameras':[10,4,5,11],'type_trajet':'indirect'},\n",
    "                                                        {'cameras':[10,4,11],'type_trajet':'indirect'},\n",
    "                                                        {'cameras':[10,5,11],'type_trajet':'indirect'},\n",
    "                                                        {'cameras':[10,11],'type_trajet':'direct'}\n",
    "                                                       ]},\n",
    "                            {'origine':'A10','destination':'A62','cam_o':12, 'cam_d':9,'trajets':[{'cameras':[12,6,3,9],'type_trajet':'indirect'},\n",
    "                                                        {'cameras':[12,3,9],'type_trajet':'indirect'},\n",
    "                                                        {'cameras':[12,6,9],'type_trajet':'indirect'},\n",
    "                                                        {'cameras':[12,9],'type_trajet':'direct'}\n",
    "                                                       ]},\n",
    "                            {'origine':'A62','destination':'N10','cam_o':10, 'cam_d':5,'trajets':[{'cameras':[10,4,5],'type_trajet':'indirect'},\n",
    "                                                        {'cameras':[10,5],'type_trajet':'direct'},\n",
    "                                                       ]},\n",
    "                            {'origine':'N10','destination':'A62','cam_o':6, 'cam_d':9,'trajets':[{'cameras':[6,3,9],'type_trajet':'indirect'},\n",
    "                                                        {'cameras':[6,9],'type_trajet':'direct'},\n",
    "                                                       ]},\n",
    "                            {'origine':'A63','destination':'A62','cam_o':15, 'cam_d':9,'trajets':[{'cameras':[15,19,9],'type_trajet':'indirect'},\n",
    "                                                        {'cameras':[15,9],'type_trajet':'direct'},\n",
    "                                                       ]},\n",
    "                            {'origine':'A62','destination':'A63','cam_o':10, 'cam_d':13,'trajets':[{'cameras':[10,18,13],'type_trajet':'indirect'},\n",
    "                                                        {'cameras':[10,13],'type_trajet':'direct'},\n",
    "                                                       ]},\n",
    "                            {'origine':'A89','destination':'A63','cam_o':8 ,'cam_d':13,'trajets':[{'cameras':[8,3,18,13],'type_trajet':'indirect'},\n",
    "                                                        {'cameras':[8,18,13],'type_trajet':'indirect'},\n",
    "                                                        {'cameras':[8,3,13],'type_trajet':'indirect'},\n",
    "                                                        {'cameras':[8,13],'type_trajet':'direct'},\n",
    "                                                       ]},\n",
    "                            {'origine':'A63','destination':'A89','cam_o':15, 'cam_d':7,'trajets':[{'cameras':[15,19,4,7],'type_trajet':'indirect'},\n",
    "                                                        {'cameras':[15,4,7],'type_trajet':'indirect'},\n",
    "                                                        {'cameras':[15,19,7],'type_trajet':'indirect'},\n",
    "                                                        {'cameras':[15,7],'type_trajet':'direct'},\n",
    "                                                       ]},\n",
    "                            {'origine':'A89','destination':'A62','cam_o':8, 'cam_d':9,'trajets':[{'cameras':[8,3,9],'type_trajet':'indirect'},\n",
    "                                                        {'cameras':[8,9],'type_trajet':'direct'}\n",
    "                                                       ]},\n",
    "                            {'origine':'A62','destination':'A89','cam_o':10, 'cam_d':7,'trajets':[{'cameras':[10,4,7],'type_trajet':'indirect'},\n",
    "                                                        {'cameras':[10,7],'type_trajet':'direct'}\n",
    "                                                       ]},\n",
    "                            {'origine':'A89','destination':'A10','cam_o':8, 'cam_d':11,'trajets':[{'cameras':[8,5,11],'type_trajet':'indirect'},\n",
    "                                                        {'cameras':[8,11],'type_trajet':'direct'}\n",
    "                                                       ]},\n",
    "                            {'origine':'A10','destination':'A89','cam_o':12, 'cam_d':7,'trajets':[{'cameras':[12,6,7],'type_trajet':'indirect'},\n",
    "                                                        {'cameras':[12,7],'type_trajet':'direct'}\n",
    "                                                       ]},\n",
    "                            {'origine':'A89','destination':'N10','cam_o':8, 'cam_d':5,'trajets':[{'cameras':[8,5],'type_trajet':'direct'}\n",
    "                                                       ]},\n",
    "                            {'origine':'N10','destination':'A89','cam_o':6, 'cam_d':7,'trajets':[{'cameras':[6,7],'type_trajet':'direct'}\n",
    "                                                       ]},\n",
    "                            {'origine':'A10','destination':'A660','cam_o':12, 'cam_d':18,'trajets':[{'cameras':[12,6,2,18],'type_trajet':'indirect'},\n",
    "                                                         {'cameras':[12,6,3,18],'type_trajet':'indirect'},\n",
    "                                                         {'cameras':[12,2,18],'type_trajet':'indirect'},\n",
    "                                                         {'cameras':[12,3,18],'type_trajet':'indirect'},\n",
    "                                                         {'cameras':[12,6,18],'type_trajet':'indirect'},\n",
    "                                                         {'cameras':[12,18],'type_trajet':'direct'},\n",
    "                                                        ]},\n",
    "                            {'origine':'A660','destination':'A10','cam_o':19, 'cam_d':18,'trajets':[{'cameras':[19,4,5,11],'type_trajet':'indirect'},\n",
    "                                                         {'cameras':[19,1,5,11],'type_trajet':'indirect'},\n",
    "                                                         {'cameras':[19,1,11],'type_trajet':'indirect'},\n",
    "                                                         {'cameras':[19,4,11],'type_trajet':'indirect'},\n",
    "                                                         {'cameras':[19,5,11],'type_trajet':'indirect'},\n",
    "                                                         {'cameras':[19,11],'type_trajet':'direct'},\n",
    "                                                       ]},\n",
    "                            {'origine':'A660','destination':'A62','cam_o':19, 'cam_d':9,'trajets':[{'cameras':[19,9],'type_trajet':'direct'}\n",
    "                                                        ]},\n",
    "                            {'origine':'A62','destination':'A660','cam_o':10, 'cam_d':18,'trajets':[{'cameras':[10,18],'type_trajet':'direct'}\n",
    "                                                        ]},\n",
    "                            {'origine':'A660','destination':'A89','cam_o':19, 'cam_d':7,'trajets':[{'cameras':[19,4,7],'type_trajet':'indirect'},\n",
    "                                                         {'cameras':[19,7],'type_trajet':'direct'}\n",
    "                                                        ]},\n",
    "                            {'origine':'A89','destination':'A660','cam_o':8, 'cam_d':18,'trajets':[{'cameras':[8,3,18],'type_trajet':'indirect'},\n",
    "                                                         {'cameras':[8,18],'type_trajet':'direct'}\n",
    "                                                        ]},\n",
    "                            {'origine':'N10','destination':'A660','cam_o':6, 'cam_d':18,'trajets':[{'cameras':[6,2,18],'type_trajet':'indirect'},\n",
    "                                                         {'cameras':[6,3,18],'type_trajet':'indirect'},\n",
    "                                                         {'cameras':[6,18],'type_trajet':'direct'},\n",
    "                                                        ]},\n",
    "                            {'origine':'A660','destination':'N10','cam_o':19, 'cam_d':5,'trajets':[{'cameras':[19,1,5],'type_trajet':'indirect'},\n",
    "                                                         {'cameras':[19,4,5],'type_trajet':'indirect'},\n",
    "                                                         {'cameras':[19,5],'type_trajet':'direct'},\n",
    "                                                        ]}\n",
    "                           ]))[['origine', 'destination', 'cam_o', 'cam_d','trajets']]"
   ]
  },
  {
   "cell_type": "code",
   "execution_count": 730,
   "metadata": {},
   "outputs": [
    {
     "name": "stdout",
     "output_type": "stream",
     "text": [
      "Wall time: 6.33 s\n"
     ]
    }
   ],
   "source": [
    "%time test=t.trajet(df_journee, '2019-01-29 08:00:00', 60, 16, [6,13], type='Global')"
   ]
  },
  {
   "cell_type": "markdown",
   "metadata": {},
   "source": [
    "CALCUL DES O-D SUR UNE JOURNEE, AVEC RENVOI DES DF O-D OU PASSAGES DANS UN DICO PAR O-D OU UNE DF GLOBALE"
   ]
  },
  {
   "cell_type": "code",
   "execution_count": 353,
   "metadata": {},
   "outputs": [
    {
     "name": "stdout",
     "output_type": "stream",
     "text": [
      "date : 2019-01-28 08:00:00 debut_traitement : 2019-04-05 15:32:42.058239\n",
      "date : 2019-01-28 09:00:00 debut_traitement : 2019-04-05 15:35:25.209336\n"
     ]
    }
   ],
   "source": [
    "dico_trajet_od, dico_passag_od, dico_od,  dico_passag=t.transit_1_jour(df_journee,'2019-01-28 08:00:00', liste_trajet_locale)"
   ]
  },
  {
   "cell_type": "markdown",
   "metadata": {},
   "source": [
    "IMPORTANT : VERIF DES DOUBLONS ENTRE LES TRAJETS"
   ]
  },
  {
   "cell_type": "code",
   "execution_count": 10,
   "metadata": {},
   "outputs": [
    {
     "data": {
      "text/html": [
       "<div>\n",
       "<style scoped>\n",
       "    .dataframe tbody tr th:only-of-type {\n",
       "        vertical-align: middle;\n",
       "    }\n",
       "\n",
       "    .dataframe tbody tr th {\n",
       "        vertical-align: top;\n",
       "    }\n",
       "\n",
       "    .dataframe thead th {\n",
       "        text-align: right;\n",
       "    }\n",
       "</style>\n",
       "<table border=\"1\" class=\"dataframe\">\n",
       "  <thead>\n",
       "    <tr style=\"text-align: right;\">\n",
       "      <th></th>\n",
       "      <th>immat</th>\n",
       "      <th>camera_id</th>\n",
       "      <th>fiability</th>\n",
       "      <th>l</th>\n",
       "      <th>state</th>\n",
       "    </tr>\n",
       "    <tr>\n",
       "      <th>created</th>\n",
       "      <th></th>\n",
       "      <th></th>\n",
       "      <th></th>\n",
       "      <th></th>\n",
       "      <th></th>\n",
       "    </tr>\n",
       "  </thead>\n",
       "  <tbody>\n",
       "  </tbody>\n",
       "</table>\n",
       "</div>"
      ],
      "text/plain": [
       "Empty DataFrame\n",
       "Columns: [immat, camera_id, fiability, l, state]\n",
       "Index: []"
      ]
     },
     "execution_count": 10,
     "metadata": {},
     "output_type": "execute_result"
    }
   ],
   "source": [
    "A660N10=dico_passag_od['A660-N10'].set_index(['created','immat'])\n",
    "A63N10=dico_passag_od['A63-N10'].set_index(['created','immat'])\n",
    "A63N10.loc[A63N10.index.isin(A660N10.index)].reset_index().set_index('created')"
   ]
  },
  {
   "cell_type": "markdown",
   "metadata": {},
   "source": [
    "CREER LE TABLEAU DE MATRICE O-D"
   ]
  },
  {
   "cell_type": "code",
   "execution_count": 9,
   "metadata": {},
   "outputs": [
    {
     "data": {
      "text/html": [
       "<div>\n",
       "<style scoped>\n",
       "    .dataframe tbody tr th:only-of-type {\n",
       "        vertical-align: middle;\n",
       "    }\n",
       "\n",
       "    .dataframe tbody tr th {\n",
       "        vertical-align: top;\n",
       "    }\n",
       "\n",
       "    .dataframe thead th {\n",
       "        text-align: right;\n",
       "    }\n",
       "</style>\n",
       "<table border=\"1\" class=\"dataframe\">\n",
       "  <thead>\n",
       "    <tr style=\"text-align: right;\">\n",
       "      <th>destination</th>\n",
       "      <th>A10</th>\n",
       "      <th>A62</th>\n",
       "      <th>A63</th>\n",
       "      <th>A660</th>\n",
       "      <th>A89</th>\n",
       "      <th>N10</th>\n",
       "      <th>All</th>\n",
       "    </tr>\n",
       "    <tr>\n",
       "      <th>origine</th>\n",
       "      <th></th>\n",
       "      <th></th>\n",
       "      <th></th>\n",
       "      <th></th>\n",
       "      <th></th>\n",
       "      <th></th>\n",
       "      <th></th>\n",
       "    </tr>\n",
       "  </thead>\n",
       "  <tbody>\n",
       "    <tr>\n",
       "      <th>A10</th>\n",
       "      <td>NaN</td>\n",
       "      <td>5603.0</td>\n",
       "      <td>1689.0</td>\n",
       "      <td>2121.0</td>\n",
       "      <td>223.0</td>\n",
       "      <td>NaN</td>\n",
       "      <td>9636</td>\n",
       "    </tr>\n",
       "    <tr>\n",
       "      <th>A62</th>\n",
       "      <td>1024.0</td>\n",
       "      <td>NaN</td>\n",
       "      <td>226.0</td>\n",
       "      <td>560.0</td>\n",
       "      <td>346.0</td>\n",
       "      <td>1589.0</td>\n",
       "      <td>3745</td>\n",
       "    </tr>\n",
       "    <tr>\n",
       "      <th>A63</th>\n",
       "      <td>1314.0</td>\n",
       "      <td>126.0</td>\n",
       "      <td>NaN</td>\n",
       "      <td>NaN</td>\n",
       "      <td>653.0</td>\n",
       "      <td>13322.0</td>\n",
       "      <td>15415</td>\n",
       "    </tr>\n",
       "    <tr>\n",
       "      <th>A660</th>\n",
       "      <td>NaN</td>\n",
       "      <td>827.0</td>\n",
       "      <td>NaN</td>\n",
       "      <td>NaN</td>\n",
       "      <td>1540.0</td>\n",
       "      <td>7920.0</td>\n",
       "      <td>10287</td>\n",
       "    </tr>\n",
       "    <tr>\n",
       "      <th>A89</th>\n",
       "      <td>292.0</td>\n",
       "      <td>853.0</td>\n",
       "      <td>1156.0</td>\n",
       "      <td>1525.0</td>\n",
       "      <td>NaN</td>\n",
       "      <td>896.0</td>\n",
       "      <td>4722</td>\n",
       "    </tr>\n",
       "    <tr>\n",
       "      <th>N10</th>\n",
       "      <td>NaN</td>\n",
       "      <td>3285.0</td>\n",
       "      <td>15664.0</td>\n",
       "      <td>5372.0</td>\n",
       "      <td>595.0</td>\n",
       "      <td>NaN</td>\n",
       "      <td>24916</td>\n",
       "    </tr>\n",
       "    <tr>\n",
       "      <th>All</th>\n",
       "      <td>2630.0</td>\n",
       "      <td>10694.0</td>\n",
       "      <td>18735.0</td>\n",
       "      <td>9578.0</td>\n",
       "      <td>3357.0</td>\n",
       "      <td>23727.0</td>\n",
       "      <td>68721</td>\n",
       "    </tr>\n",
       "  </tbody>\n",
       "</table>\n",
       "</div>"
      ],
      "text/plain": [
       "destination     A10      A62      A63    A660     A89      N10    All\n",
       "origine                                                              \n",
       "A10             NaN   5603.0   1689.0  2121.0   223.0      NaN   9636\n",
       "A62          1024.0      NaN    226.0   560.0   346.0   1589.0   3745\n",
       "A63          1314.0    126.0      NaN     NaN   653.0  13322.0  15415\n",
       "A660            NaN    827.0      NaN     NaN  1540.0   7920.0  10287\n",
       "A89           292.0    853.0   1156.0  1525.0     NaN    896.0   4722\n",
       "N10             NaN   3285.0  15664.0  5372.0   595.0      NaN  24916\n",
       "All          2630.0  10694.0  18735.0  9578.0  3357.0  23727.0  68721"
      ]
     },
     "execution_count": 9,
     "metadata": {},
     "output_type": "execute_result"
    }
   ],
   "source": [
    "#MATRICE O-D !!II!\n",
    "pd.pivot_table(dico_od,values='l', index='origine', columns='destination',aggfunc='count', margins=True )"
   ]
  },
  {
   "cell_type": "markdown",
   "metadata": {},
   "source": [
    "POURCENTAGE PL PAR PLAGE HORAIRE ET CAMERA"
   ]
  },
  {
   "cell_type": "code",
   "execution_count": 432,
   "metadata": {},
   "outputs": [],
   "source": [
    "#isoler pl source\n",
    "groupe_tv_type_simple=df_journee.groupby('immat')['l'].apply(lambda x:test_unicite_type(list(x),mode='1/2')).reset_index().drop_duplicates('immat')\n",
    "df_pl=df_journee.join(groupe_tv_type_simple.loc[groupe_tv_type_simple['l']==1].set_index('immat'),on='immat',how='inner',rsuffix='_right')\n",
    "df_pl.set_index('created',inplace=True)\n",
    "\n",
    "#obtenir les nb de pl par heure et par camera sur la source\n",
    "df_synthese_pl_tot=df_pl.groupby('camera_id').resample('H').count()['immat'].rename(column={'immat':'nb_pl_tot'})\n",
    "df_synthese_pl_transit=dico_passag.set_index('created').groupby('camera_id').resample('H').count()['immat'].rename(column={'immat':'nb_pl_transit'})\n",
    "df_pct_pl_transit=pd.concat([df_synthese_pl_tot,df_synthese_pl_transit], axis=1, join='inner')\n",
    "df_pct_pl_transit.columns=[['nb_pl_tot','nb_pl_transit']]\n",
    "df_pct_pl_transit['pct_pl_transit']=df_pct_pl_transit.apply(lambda x : float(x['nb_pl_transit'])*100 / x['nb_pl_tot'] ,axis=1)\n",
    "df_pct_pl_transit"
   ]
  },
  {
   "cell_type": "markdown",
   "metadata": {},
   "source": [
    "TESTS DONNEES COMPLETES"
   ]
  },
  {
   "cell_type": "code",
   "execution_count": 351,
   "metadata": {},
   "outputs": [
    {
     "name": "stdout",
     "output_type": "stream",
     "text": [
      "date : 2019-01-29 00:00:00 debut_traitement : 2019-04-08 16:55:48.445539\n",
      "date : 2019-01-29 01:00:00 debut_traitement : 2019-04-08 16:56:08.222178\n",
      "date : 2019-01-29 02:00:00 debut_traitement : 2019-04-08 16:56:27.327070\n",
      "date : 2019-01-29 03:00:00 debut_traitement : 2019-04-08 16:56:44.696569\n",
      "date : 2019-01-29 04:00:00 debut_traitement : 2019-04-08 16:57:11.143488\n",
      "date : 2019-01-29 05:00:00 debut_traitement : 2019-04-08 16:57:30.232727\n",
      "date : 2019-01-29 06:00:00 debut_traitement : 2019-04-08 16:58:03.974807\n",
      "date : 2019-01-29 07:00:00 debut_traitement : 2019-04-08 16:59:01.867497\n",
      "date : 2019-01-29 08:00:00 debut_traitement : 2019-04-08 17:00:34.330140\n",
      "date : 2019-01-29 09:00:00 debut_traitement : 2019-04-08 17:02:14.146784\n",
      "date : 2019-01-29 10:00:00 debut_traitement : 2019-04-08 17:03:49.879236\n",
      "date : 2019-01-29 11:00:00 debut_traitement : 2019-04-08 17:05:18.407115\n",
      "date : 2019-01-29 12:00:00 debut_traitement : 2019-04-08 17:06:40.413703\n",
      "date : 2019-01-29 13:00:00 debut_traitement : 2019-04-08 17:07:50.760903\n",
      "date : 2019-01-29 14:00:00 debut_traitement : 2019-04-08 17:09:02.054800\n",
      "date : 2019-01-29 15:00:00 debut_traitement : 2019-04-08 17:10:16.619149\n",
      "date : 2019-01-29 16:00:00 debut_traitement : 2019-04-08 17:11:14.892703\n",
      "date : 2019-01-29 17:00:00 debut_traitement : 2019-04-08 17:12:16.503240\n",
      "date : 2019-01-29 18:00:00 debut_traitement : 2019-04-08 17:12:44.152998\n",
      "date : 2019-01-29 19:00:00 debut_traitement : 2019-04-08 17:13:01.930076\n",
      "date : 2019-01-29 20:00:00 debut_traitement : 2019-04-08 17:13:16.849905\n",
      "date : 2019-01-29 21:00:00 debut_traitement : 2019-04-08 17:13:32.736805\n",
      "date : 2019-01-29 22:00:00 debut_traitement : 2019-04-08 17:13:49.576570\n",
      "date : 2019-01-29 23:00:00 debut_traitement : 2019-04-08 17:14:06.556957\n"
     ]
    }
   ],
   "source": [
    "dico_trajet_od, dico_passag_od, dico_od,  dico_passag, dico_filtre=t.transit_temps_complet_v2('2019-01-29 00:00:00',1,liste_trajet_locale,df_3semaines)"
   ]
  },
  {
   "cell_type": "code",
   "execution_count": 37,
   "metadata": {},
   "outputs": [
    {
     "data": {
      "text/html": [
       "<div>\n",
       "<style scoped>\n",
       "    .dataframe tbody tr th:only-of-type {\n",
       "        vertical-align: middle;\n",
       "    }\n",
       "\n",
       "    .dataframe tbody tr th {\n",
       "        vertical-align: top;\n",
       "    }\n",
       "\n",
       "    .dataframe thead th {\n",
       "        text-align: right;\n",
       "    }\n",
       "</style>\n",
       "<table border=\"1\" class=\"dataframe\">\n",
       "  <thead>\n",
       "    <tr style=\"text-align: right;\">\n",
       "      <th></th>\n",
       "      <th>camera_id</th>\n",
       "      <th>immat</th>\n",
       "      <th>fiability</th>\n",
       "      <th>l</th>\n",
       "      <th>state</th>\n",
       "    </tr>\n",
       "    <tr>\n",
       "      <th>created</th>\n",
       "      <th></th>\n",
       "      <th></th>\n",
       "      <th></th>\n",
       "      <th></th>\n",
       "      <th></th>\n",
       "    </tr>\n",
       "  </thead>\n",
       "  <tbody>\n",
       "    <tr>\n",
       "      <th>2019-01-31 08:00:30</th>\n",
       "      <td>19</td>\n",
       "      <td>9dd7529a19c83bed931c0d4b40840b7a36328e20</td>\n",
       "      <td>99</td>\n",
       "      <td>1</td>\n",
       "      <td>ES</td>\n",
       "    </tr>\n",
       "    <tr>\n",
       "      <th>2019-01-31 08:01:56</th>\n",
       "      <td>19</td>\n",
       "      <td>574c4311fa597da55a2aac80e1097129dd7419e1</td>\n",
       "      <td>99</td>\n",
       "      <td>-1</td>\n",
       "      <td>FR</td>\n",
       "    </tr>\n",
       "    <tr>\n",
       "      <th>2019-01-31 08:02:15</th>\n",
       "      <td>19</td>\n",
       "      <td>c57c4941aadcb97905b3ef0e410578f22f516efa</td>\n",
       "      <td>99</td>\n",
       "      <td>-1</td>\n",
       "      <td>ES</td>\n",
       "    </tr>\n",
       "    <tr>\n",
       "      <th>2019-01-31 08:02:38</th>\n",
       "      <td>19</td>\n",
       "      <td>8ddc4c2f1189ae0a4224f688200b211c3fd0f675</td>\n",
       "      <td>99</td>\n",
       "      <td>1</td>\n",
       "      <td>ES</td>\n",
       "    </tr>\n",
       "    <tr>\n",
       "      <th>2019-01-31 08:02:49</th>\n",
       "      <td>19</td>\n",
       "      <td>d735cccf1331cd23ba652c145358f46405bbc306</td>\n",
       "      <td>99</td>\n",
       "      <td>0</td>\n",
       "      <td>ES</td>\n",
       "    </tr>\n",
       "  </tbody>\n",
       "</table>\n",
       "</div>"
      ],
      "text/plain": [
       "                     camera_id                                     immat  \\\n",
       "created                                                                    \n",
       "2019-01-31 08:00:30         19  9dd7529a19c83bed931c0d4b40840b7a36328e20   \n",
       "2019-01-31 08:01:56         19  574c4311fa597da55a2aac80e1097129dd7419e1   \n",
       "2019-01-31 08:02:15         19  c57c4941aadcb97905b3ef0e410578f22f516efa   \n",
       "2019-01-31 08:02:38         19  8ddc4c2f1189ae0a4224f688200b211c3fd0f675   \n",
       "2019-01-31 08:02:49         19  d735cccf1331cd23ba652c145358f46405bbc306   \n",
       "\n",
       "                     fiability  l state  \n",
       "created                                  \n",
       "2019-01-31 08:00:30         99  1    ES  \n",
       "2019-01-31 08:01:56         99 -1    FR  \n",
       "2019-01-31 08:02:15         99 -1    ES  \n",
       "2019-01-31 08:02:38         99  1    ES  \n",
       "2019-01-31 08:02:49         99  0    ES  "
      ]
     },
     "execution_count": 37,
     "metadata": {},
     "output_type": "execute_result"
    }
   ],
   "source": [
    "#verifs\n",
    "dico_passag_od['A660-N10'].set_index('created').loc['2019-01-31 08:00:00':].sort_index().head(5) #visualiser les passages"
   ]
  },
  {
   "cell_type": "code",
   "execution_count": 40,
   "metadata": {},
   "outputs": [
    {
     "data": {
      "text/html": [
       "<div>\n",
       "<style scoped>\n",
       "    .dataframe tbody tr th:only-of-type {\n",
       "        vertical-align: middle;\n",
       "    }\n",
       "\n",
       "    .dataframe tbody tr th {\n",
       "        vertical-align: top;\n",
       "    }\n",
       "\n",
       "    .dataframe thead th {\n",
       "        text-align: right;\n",
       "    }\n",
       "</style>\n",
       "<table border=\"1\" class=\"dataframe\">\n",
       "  <thead>\n",
       "    <tr style=\"text-align: right;\">\n",
       "      <th></th>\n",
       "      <th>camera_id</th>\n",
       "      <th>immat</th>\n",
       "      <th>fiability</th>\n",
       "      <th>l</th>\n",
       "      <th>state</th>\n",
       "    </tr>\n",
       "    <tr>\n",
       "      <th>created</th>\n",
       "      <th></th>\n",
       "      <th></th>\n",
       "      <th></th>\n",
       "      <th></th>\n",
       "      <th></th>\n",
       "    </tr>\n",
       "  </thead>\n",
       "  <tbody>\n",
       "    <tr>\n",
       "      <th>2019-01-30 21:51:20</th>\n",
       "      <td>15</td>\n",
       "      <td>8ddc4c2f1189ae0a4224f688200b211c3fd0f675</td>\n",
       "      <td>99</td>\n",
       "      <td>-1</td>\n",
       "      <td>ES</td>\n",
       "    </tr>\n",
       "    <tr>\n",
       "      <th>2019-01-31 08:02:38</th>\n",
       "      <td>19</td>\n",
       "      <td>8ddc4c2f1189ae0a4224f688200b211c3fd0f675</td>\n",
       "      <td>99</td>\n",
       "      <td>1</td>\n",
       "      <td>ES</td>\n",
       "    </tr>\n",
       "    <tr>\n",
       "      <th>2019-01-31 08:48:31</th>\n",
       "      <td>5</td>\n",
       "      <td>8ddc4c2f1189ae0a4224f688200b211c3fd0f675</td>\n",
       "      <td>99</td>\n",
       "      <td>1</td>\n",
       "      <td>ES</td>\n",
       "    </tr>\n",
       "    <tr>\n",
       "      <th>2019-02-06 08:23:12</th>\n",
       "      <td>8</td>\n",
       "      <td>8ddc4c2f1189ae0a4224f688200b211c3fd0f675</td>\n",
       "      <td>99</td>\n",
       "      <td>1</td>\n",
       "      <td>ES</td>\n",
       "    </tr>\n",
       "    <tr>\n",
       "      <th>2019-02-06 08:48:45</th>\n",
       "      <td>3</td>\n",
       "      <td>8ddc4c2f1189ae0a4224f688200b211c3fd0f675</td>\n",
       "      <td>99</td>\n",
       "      <td>1</td>\n",
       "      <td>ES</td>\n",
       "    </tr>\n",
       "    <tr>\n",
       "      <th>2019-02-06 09:18:21</th>\n",
       "      <td>18</td>\n",
       "      <td>8ddc4c2f1189ae0a4224f688200b211c3fd0f675</td>\n",
       "      <td>99</td>\n",
       "      <td>0</td>\n",
       "      <td>ES</td>\n",
       "    </tr>\n",
       "    <tr>\n",
       "      <th>2019-02-06 11:37:39</th>\n",
       "      <td>13</td>\n",
       "      <td>8ddc4c2f1189ae0a4224f688200b211c3fd0f675</td>\n",
       "      <td>99</td>\n",
       "      <td>-1</td>\n",
       "      <td>ES</td>\n",
       "    </tr>\n",
       "  </tbody>\n",
       "</table>\n",
       "</div>"
      ],
      "text/plain": [
       "                     camera_id                                     immat  \\\n",
       "created                                                                    \n",
       "2019-01-30 21:51:20         15  8ddc4c2f1189ae0a4224f688200b211c3fd0f675   \n",
       "2019-01-31 08:02:38         19  8ddc4c2f1189ae0a4224f688200b211c3fd0f675   \n",
       "2019-01-31 08:48:31          5  8ddc4c2f1189ae0a4224f688200b211c3fd0f675   \n",
       "2019-02-06 08:23:12          8  8ddc4c2f1189ae0a4224f688200b211c3fd0f675   \n",
       "2019-02-06 08:48:45          3  8ddc4c2f1189ae0a4224f688200b211c3fd0f675   \n",
       "2019-02-06 09:18:21         18  8ddc4c2f1189ae0a4224f688200b211c3fd0f675   \n",
       "2019-02-06 11:37:39         13  8ddc4c2f1189ae0a4224f688200b211c3fd0f675   \n",
       "\n",
       "                     fiability  l state  \n",
       "created                                  \n",
       "2019-01-30 21:51:20         99 -1    ES  \n",
       "2019-01-31 08:02:38         99  1    ES  \n",
       "2019-01-31 08:48:31         99  1    ES  \n",
       "2019-02-06 08:23:12         99  1    ES  \n",
       "2019-02-06 08:48:45         99  1    ES  \n",
       "2019-02-06 09:18:21         99  0    ES  \n",
       "2019-02-06 11:37:39         99 -1    ES  "
      ]
     },
     "execution_count": 40,
     "metadata": {},
     "output_type": "execute_result"
    }
   ],
   "source": [
    "df_3semaines.loc[df_3semaines['immat']=='8ddc4c2f1189ae0a4224f688200b211c3fd0f675']#retrouver cette immatriculatiob dans les données completes"
   ]
  },
  {
   "cell_type": "code",
   "execution_count": 345,
   "metadata": {},
   "outputs": [
    {
     "name": "stdout",
     "output_type": "stream",
     "text": [
      "Wall time: 9.58 s\n"
     ]
    }
   ],
   "source": [
    "#verif sur un trajet a un horaire donnee sur un trajet global\n",
    "%time test=t.trajet(df_3semaines.loc['2019-01-29 08:00:00':'2019-01-30 15:00:00'], '2019-01-29 08:00:00', 60, 16, [6,13], type='Global')"
   ]
  },
  {
   "cell_type": "code",
   "execution_count": null,
   "metadata": {},
   "outputs": [],
   "source": [
    "#verif a un horaire donne sur un trajet simple\n",
    "%time test=t.trajet(df_3semaines.loc['2019-01-29 21:00:00':'2019-01-30 15:00:00'], '2019-01-29 21:00:00', 60, 16, [19,4])"
   ]
  },
  {
   "cell_type": "code",
   "execution_count": 135,
   "metadata": {},
   "outputs": [],
   "source": [
    "#pour test des fonctions de trajets directs\n",
    "df_duree=df_3semaines.loc['2019-01-29 21:00:00':'2019-01-30 15:00:00'].loc['2019-01-29 21:00:00':'2019-01-29 22:00:00']\n",
    "df_duree_cam1=df_duree.loc[df_duree.loc[:,'camera_id']==19]\n",
    "df_duree_autres_cam=df_3semaines.loc['2019-01-29 21:00:00':'2019-01-30 15:00:00'].loc[(df_3semaines.loc['2019-01-29 21:00:00':'2019-01-30 15:00:00'].loc[:,'immat'].isin(df_duree_cam1.loc[:,'immat']))]\n",
    "cam1_croise_autre_cam=df_duree_cam1.reset_index().merge(df_duree_autres_cam.reset_index(), on='immat')\n",
    "cam1_croise_suivant=cam1_croise_autre_cam.loc[(cam1_croise_autre_cam.loc[:,'created_x']<cam1_croise_autre_cam.loc[:,'created_y'])]\n",
    "cam1_fastest_next=cam1_croise_suivant.loc[cam1_croise_suivant.groupby(['immat'])['created_y'].idxmin()]"
   ]
  },
  {
   "cell_type": "code",
   "execution_count": 319,
   "metadata": {},
   "outputs": [],
   "source": [
    "#pour test des fonctions de trajets global \n",
    "liste_trajet_od=[(15,19,4,5),(15,5),(15,4,5),(15,19,5)]\n",
    "camera1, camera2=15, 5\n",
    "df=df_3semaines.loc['2019-01-29 00:00:00':'2019-01-30 23:59:59']\n",
    "df_duree=df.loc['2019-01-29 08:00:00':'2019-01-29 09:00:00']\n",
    "df_duree_cam1=df_duree.loc[df_duree.loc[:,'camera_id']==camera1]\n",
    "df_duree_autres_cam=df.loc[(df.loc[:,'immat'].isin(df_duree_cam1.loc[:,'immat']))]\n",
    "df_autres_cam_temp_ok=df_duree_autres_cam.loc['2019-01-29 08:00:00':'2019-01-30 08:00:00']\n",
    "groupe=(df_autres_cam_temp_ok.sort_index().reset_index().groupby('immat').agg({'camera_id':lambda x : tuple(x), 'l': lambda x : test_unicite_type(list(x),'1/2'),\n",
    "                                                                        'created':lambda x: tuple(x)}))\n",
    "\n",
    "groupe['camera_id']=groupe.apply(lambda x : filtrer_passage(x['camera_id'],liste_trajet_od),axis=1)\n",
    "\n",
    "groupe['created']=groupe.apply(lambda x : recuperer_date_cam2(x['camera_id'],x['created'],liste_trajet_od),axis=1)\n",
    "\n",
    "df_agrege=df_duree_cam1.join(groupe,on='immat',lsuffix='_left')[['immat', 'l','camera_id','created']].rename(columns={'created':'date_cam_2', 'camera_id':'cameras'})\n",
    "df_agrege=df_agrege.reset_index().rename(columns={'created':'date_cam_1'})\n",
    "df_agrege['tps_parcours']=df_agrege.apply(lambda x : x.date_cam_2-x.date_cam_1, axis=1)\n",
    "\n",
    "df_trajet=df_agrege.loc[df_agrege['cameras'].isin(liste_trajet_od)]\n",
    "df_trajet_final=(df_trajet.loc[(df_trajet['cameras'].apply(lambda x : x[-1])==camera2) & (df_trajet['l']==1)\n",
    "                                  & (df_trajet['tps_parcours'] < pd.Timedelta('11:30:00'))])"
   ]
  },
  {
   "cell_type": "code",
   "execution_count": 269,
   "metadata": {},
   "outputs": [],
   "source": [
    "def test_unicite_type(liste_l, mode='unique'):\n",
    "        \"\"\"test pour voir si un vehicule a ete toujours vu de la mme façon ou non\n",
    "           en entre : liste de valeur de l iisues d'une df\"\"\" \n",
    "        if mode=='unique' : \n",
    "            if len(set(liste_l))==1 :\n",
    "                return liste_l[0]\n",
    "            else : \n",
    "                return -1\n",
    "        elif mode=='1/2' :\n",
    "            if any(liste_l)==1 : \n",
    "                return 1\n",
    "            else : \n",
    "                return -1"
   ]
  },
  {
   "cell_type": "code",
   "execution_count": 349,
   "metadata": {},
   "outputs": [
    {
     "data": {
      "text/plain": [
       "Timedelta('0 days 13:02:50')"
      ]
     },
     "execution_count": 349,
     "metadata": {},
     "output_type": "execute_result"
    }
   ],
   "source": [
    "test.temps_parcours_max"
   ]
  },
  {
   "cell_type": "code",
   "execution_count": null,
   "metadata": {},
   "outputs": [],
   "source": []
  }
 ],
 "metadata": {
  "kernelspec": {
   "display_name": "Python 3",
   "language": "python",
   "name": "python3"
  },
  "language_info": {
   "codemirror_mode": {
    "name": "ipython",
    "version": 3
   },
   "file_extension": ".py",
   "mimetype": "text/x-python",
   "name": "python",
   "nbconvert_exporter": "python",
   "pygments_lexer": "ipython3",
   "version": "3.7.0"
  }
 },
 "nbformat": 4,
 "nbformat_minor": 2
}
