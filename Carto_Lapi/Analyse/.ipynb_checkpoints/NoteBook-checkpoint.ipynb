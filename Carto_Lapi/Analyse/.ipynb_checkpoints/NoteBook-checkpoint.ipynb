{
 "cells": [
  {
   "cell_type": "code",
   "execution_count": 1,
   "metadata": {},
   "outputs": [],
   "source": [
    "#L'dée de ce notebook est de pouvoir tracer les étapes de réalisation d'un calcul de temps de parcours de référence\n",
    "# 1 : Import des données"
   ]
  },
  {
   "cell_type": "code",
   "execution_count": 6,
   "metadata": {},
   "outputs": [
    {
     "name": "stdout",
     "output_type": "stream",
     "text": [
      "The autoreload extension is already loaded. To reload it, use:\n",
      "  %reload_ext autoreload\n"
     ]
    }
   ],
   "source": [
    "%load_ext autoreload\n",
    "%autoreload 2\n",
    "import sys #c'est pas propre mais pour le moment pour importer mes modules perso dans le notebook je ne sais pas faire\n",
    "sys.path.append(r'C:\\Users\\martin.schoreisz\\git\\Outils\\Outils\\Martin_Perso')\n",
    "import traitement_od as t\n",
    "import pandas as pd\n",
    "import altair as alt"
   ]
  },
  {
   "cell_type": "code",
   "execution_count": 8,
   "metadata": {},
   "outputs": [],
   "source": [
    "df_journee=t.ouvrir_fichier_lapi('2019-01-14 00:00:00','2019-01-14 23:59:00')#telecharger une partie des donnees sur unejournee\n",
    "df_8h_9h_tv_ss_filtre,df_8h_9h_vlpl_ss_filtre=t.df_temps_parcours_moyen(df_journee,'2019-01-14 08:00:00',60,19,4) #les df des temps de parcours sur une partie de la journe"
   ]
  },
  {
   "cell_type": "code",
   "execution_count": 9,
   "metadata": {},
   "outputs": [
    {
     "data": {
      "application/vnd.vegalite.v2+json": {
       "$schema": "https://vega.github.io/schema/vega-lite/v2.6.0.json",
       "config": {
        "view": {
         "height": 300,
         "width": 400
        }
       },
       "data": {
        "name": "data-1c1356ea3a97de34a0634db7ff0656d7"
       },
       "datasets": {
        "data-1c1356ea3a97de34a0634db7ff0656d7": [
         {
          "created_x": "2019-01-14T08:01:40",
          "l_x": 0,
          "tps_parcours": "2018-01-01T00:23:44"
         },
         {
          "created_x": "2019-01-14T08:01:33",
          "l_x": 0,
          "tps_parcours": "2018-01-01T00:25:32"
         },
         {
          "created_x": "2019-01-14T08:00:11",
          "l_x": 0,
          "tps_parcours": "2018-01-01T00:27:07"
         },
         {
          "created_x": "2019-01-14T08:00:16",
          "l_x": 1,
          "tps_parcours": "2018-01-01T00:27:05"
         },
         {
          "created_x": "2019-01-14T08:03:15",
          "l_x": 0,
          "tps_parcours": "2018-01-01T00:24:18"
         },
         {
          "created_x": "2019-01-14T08:03:25",
          "l_x": 0,
          "tps_parcours": "2018-01-01T00:24:13"
         },
         {
          "created_x": "2019-01-14T08:02:37",
          "l_x": 0,
          "tps_parcours": "2018-01-01T00:25:23"
         },
         {
          "created_x": "2019-01-14T08:01:29",
          "l_x": 0,
          "tps_parcours": "2018-01-01T00:26:45"
         },
         {
          "created_x": "2019-01-14T08:04:44",
          "l_x": 0,
          "tps_parcours": "2018-01-01T00:23:32"
         },
         {
          "created_x": "2019-01-14T08:00:28",
          "l_x": 1,
          "tps_parcours": "2018-01-01T00:27:59"
         },
         {
          "created_x": "2019-01-14T08:00:34",
          "l_x": 1,
          "tps_parcours": "2018-01-01T00:28:04"
         },
         {
          "created_x": "2019-01-14T08:03:52",
          "l_x": 0,
          "tps_parcours": "2018-01-01T00:24:48"
         },
         {
          "created_x": "2019-01-14T08:01:24",
          "l_x": 0,
          "tps_parcours": "2018-01-01T00:27:19"
         },
         {
          "created_x": "2019-01-14T08:02:41",
          "l_x": 0,
          "tps_parcours": "2018-01-01T00:26:06"
         },
         {
          "created_x": "2019-01-14T08:02:31",
          "l_x": 0,
          "tps_parcours": "2018-01-01T00:26:23"
         },
         {
          "created_x": "2019-01-14T08:01:27",
          "l_x": 0,
          "tps_parcours": "2018-01-01T00:27:32"
         },
         {
          "created_x": "2019-01-14T08:05:47",
          "l_x": 0,
          "tps_parcours": "2018-01-01T00:23:21"
         },
         {
          "created_x": "2019-01-14T08:04:52",
          "l_x": 0,
          "tps_parcours": "2018-01-01T00:24:19"
         },
         {
          "created_x": "2019-01-14T08:06:14",
          "l_x": 0,
          "tps_parcours": "2018-01-01T00:23:20"
         },
         {
          "created_x": "2019-01-14T08:01:52",
          "l_x": 1,
          "tps_parcours": "2018-01-01T00:28:05"
         },
         {
          "created_x": "2019-01-14T08:02:06",
          "l_x": 0,
          "tps_parcours": "2018-01-01T00:27:56"
         },
         {
          "created_x": "2019-01-14T08:06:34",
          "l_x": 0,
          "tps_parcours": "2018-01-01T00:23:31"
         },
         {
          "created_x": "2019-01-14T08:06:43",
          "l_x": 0,
          "tps_parcours": "2018-01-01T00:23:24"
         },
         {
          "created_x": "2019-01-14T08:01:58",
          "l_x": 1,
          "tps_parcours": "2018-01-01T00:28:12"
         },
         {
          "created_x": "2019-01-14T08:02:01",
          "l_x": 0,
          "tps_parcours": "2018-01-01T00:28:18"
         },
         {
          "created_x": "2019-01-14T08:07:21",
          "l_x": 0,
          "tps_parcours": "2018-01-01T00:23:05"
         },
         {
          "created_x": "2019-01-14T08:03:08",
          "l_x": 1,
          "tps_parcours": "2018-01-01T00:27:20"
         },
         {
          "created_x": "2019-01-14T08:02:14",
          "l_x": 0,
          "tps_parcours": "2018-01-01T00:28:18"
         },
         {
          "created_x": "2019-01-14T08:02:16",
          "l_x": 0,
          "tps_parcours": "2018-01-01T00:28:21"
         },
         {
          "created_x": "2019-01-14T08:02:38",
          "l_x": 0,
          "tps_parcours": "2018-01-01T00:28:01"
         },
         {
          "created_x": "2019-01-14T08:06:24",
          "l_x": 0,
          "tps_parcours": "2018-01-01T00:24:16"
         },
         {
          "created_x": "2019-01-14T08:07:42",
          "l_x": 0,
          "tps_parcours": "2018-01-01T00:23:23"
         },
         {
          "created_x": "2019-01-14T08:03:13",
          "l_x": 0,
          "tps_parcours": "2018-01-01T00:28:14"
         },
         {
          "created_x": "2019-01-14T08:03:59",
          "l_x": 1,
          "tps_parcours": "2018-01-01T00:27:47"
         },
         {
          "created_x": "2019-01-14T08:03:44",
          "l_x": 1,
          "tps_parcours": "2018-01-01T00:28:07"
         },
         {
          "created_x": "2019-01-14T08:08:38",
          "l_x": 0,
          "tps_parcours": "2018-01-01T00:23:17"
         },
         {
          "created_x": "2019-01-14T08:04:37",
          "l_x": 1,
          "tps_parcours": "2018-01-01T00:27:24"
         },
         {
          "created_x": "2019-01-14T08:09:14",
          "l_x": 0,
          "tps_parcours": "2018-01-01T00:22:52"
         },
         {
          "created_x": "2019-01-14T08:08:33",
          "l_x": 0,
          "tps_parcours": "2018-01-01T00:23:35"
         },
         {
          "created_x": "2019-01-14T08:03:40",
          "l_x": 1,
          "tps_parcours": "2018-01-01T00:28:32"
         },
         {
          "created_x": "2019-01-14T08:06:05",
          "l_x": 1,
          "tps_parcours": "2018-01-01T00:26:15"
         },
         {
          "created_x": "2019-01-14T08:09:10",
          "l_x": 0,
          "tps_parcours": "2018-01-01T00:23:32"
         },
         {
          "created_x": "2019-01-14T08:04:33",
          "l_x": 1,
          "tps_parcours": "2018-01-01T00:28:13"
         },
         {
          "created_x": "2019-01-14T08:05:13",
          "l_x": 0,
          "tps_parcours": "2018-01-01T00:27:35"
         },
         {
          "created_x": "2019-01-14T08:05:50",
          "l_x": 0,
          "tps_parcours": "2018-01-01T00:27:02"
         },
         {
          "created_x": "2019-01-14T08:05:11",
          "l_x": 1,
          "tps_parcours": "2018-01-01T00:27:57"
         },
         {
          "created_x": "2019-01-14T08:08:01",
          "l_x": 0,
          "tps_parcours": "2018-01-01T00:25:29"
         },
         {
          "created_x": "2019-01-14T08:06:59",
          "l_x": 1,
          "tps_parcours": "2018-01-01T00:26:39"
         },
         {
          "created_x": "2019-01-14T08:10:50",
          "l_x": 1,
          "tps_parcours": "2018-01-01T00:22:57"
         },
         {
          "created_x": "2019-01-14T08:01:08",
          "l_x": 0,
          "tps_parcours": "2018-01-01T00:32:41"
         },
         {
          "created_x": "2019-01-14T08:07:08",
          "l_x": 0,
          "tps_parcours": "2018-01-01T00:26:45"
         },
         {
          "created_x": "2019-01-14T08:10:49",
          "l_x": 0,
          "tps_parcours": "2018-01-01T00:23:05"
         },
         {
          "created_x": "2019-01-14T08:09:20",
          "l_x": 0,
          "tps_parcours": "2018-01-01T00:25:28"
         },
         {
          "created_x": "2019-01-14T08:12:06",
          "l_x": 0,
          "tps_parcours": "2018-01-01T00:22:45"
         },
         {
          "created_x": "2019-01-14T08:08:39",
          "l_x": 1,
          "tps_parcours": "2018-01-01T00:26:19"
         },
         {
          "created_x": "2019-01-14T08:12:38",
          "l_x": 0,
          "tps_parcours": "2018-01-01T00:22:24"
         },
         {
          "created_x": "2019-01-14T08:08:03",
          "l_x": 0,
          "tps_parcours": "2018-01-01T00:27:22"
         },
         {
          "created_x": "2019-01-14T08:08:46",
          "l_x": 1,
          "tps_parcours": "2018-01-01T00:26:42"
         },
         {
          "created_x": "2019-01-14T08:12:59",
          "l_x": 0,
          "tps_parcours": "2018-01-01T00:22:38"
         },
         {
          "created_x": "2019-01-14T08:09:56",
          "l_x": 1,
          "tps_parcours": "2018-01-01T00:25:49"
         },
         {
          "created_x": "2019-01-14T08:13:00",
          "l_x": 0,
          "tps_parcours": "2018-01-01T00:22:50"
         },
         {
          "created_x": "2019-01-14T08:09:59",
          "l_x": 0,
          "tps_parcours": "2018-01-01T00:25:56"
         },
         {
          "created_x": "2019-01-14T08:09:02",
          "l_x": 1,
          "tps_parcours": "2018-01-01T00:27:04"
         },
         {
          "created_x": "2019-01-14T08:09:44",
          "l_x": 1,
          "tps_parcours": "2018-01-01T00:26:36"
         },
         {
          "created_x": "2019-01-14T08:13:47",
          "l_x": 0,
          "tps_parcours": "2018-01-01T00:23:14"
         },
         {
          "created_x": "2019-01-14T08:09:31",
          "l_x": 0,
          "tps_parcours": "2018-01-01T00:27:33"
         },
         {
          "created_x": "2019-01-14T08:09:47",
          "l_x": 1,
          "tps_parcours": "2018-01-01T00:27:24"
         },
         {
          "created_x": "2019-01-14T08:15:24",
          "l_x": 0,
          "tps_parcours": "2018-01-01T00:21:57"
         },
         {
          "created_x": "2019-01-14T08:10:16",
          "l_x": 0,
          "tps_parcours": "2018-01-01T00:27:09"
         },
         {
          "created_x": "2019-01-14T08:11:17",
          "l_x": 1,
          "tps_parcours": "2018-01-01T00:26:10"
         },
         {
          "created_x": "2019-01-14T08:13:23",
          "l_x": 0,
          "tps_parcours": "2018-01-01T00:24:08"
         },
         {
          "created_x": "2019-01-14T08:11:41",
          "l_x": 1,
          "tps_parcours": "2018-01-01T00:25:50"
         },
         {
          "created_x": "2019-01-14T08:11:33",
          "l_x": 1,
          "tps_parcours": "2018-01-01T00:26:01"
         },
         {
          "created_x": "2019-01-14T08:11:38",
          "l_x": 1,
          "tps_parcours": "2018-01-01T00:26:02"
         },
         {
          "created_x": "2019-01-14T08:11:44",
          "l_x": 0,
          "tps_parcours": "2018-01-01T00:26:01"
         },
         {
          "created_x": "2019-01-14T08:14:08",
          "l_x": 0,
          "tps_parcours": "2018-01-01T00:23:45"
         },
         {
          "created_x": "2019-01-14T08:15:43",
          "l_x": 0,
          "tps_parcours": "2018-01-01T00:22:23"
         },
         {
          "created_x": "2019-01-14T08:15:15",
          "l_x": 0,
          "tps_parcours": "2018-01-01T00:23:04"
         },
         {
          "created_x": "2019-01-14T08:12:53",
          "l_x": 1,
          "tps_parcours": "2018-01-01T00:26:08"
         },
         {
          "created_x": "2019-01-14T08:13:09",
          "l_x": 1,
          "tps_parcours": "2018-01-01T00:25:56"
         },
         {
          "created_x": "2019-01-14T08:18:27",
          "l_x": 0,
          "tps_parcours": "2018-01-01T00:20:56"
         },
         {
          "created_x": "2019-01-14T08:18:09",
          "l_x": 0,
          "tps_parcours": "2018-01-01T00:21:19"
         },
         {
          "created_x": "2019-01-14T08:13:15",
          "l_x": 1,
          "tps_parcours": "2018-01-01T00:26:14"
         },
         {
          "created_x": "2019-01-14T08:13:06",
          "l_x": 1,
          "tps_parcours": "2018-01-01T00:26:28"
         },
         {
          "created_x": "2019-01-14T08:18:30",
          "l_x": 0,
          "tps_parcours": "2018-01-01T00:21:07"
         },
         {
          "created_x": "2019-01-14T08:13:53",
          "l_x": 0,
          "tps_parcours": "2018-01-01T00:25:45"
         },
         {
          "created_x": "2019-01-14T08:18:17",
          "l_x": 0,
          "tps_parcours": "2018-01-01T00:21:49"
         },
         {
          "created_x": "2019-01-14T08:14:43",
          "l_x": 1,
          "tps_parcours": "2018-01-01T00:25:37"
         },
         {
          "created_x": "2019-01-14T08:18:35",
          "l_x": 0,
          "tps_parcours": "2018-01-01T00:21:46"
         },
         {
          "created_x": "2019-01-14T08:14:14",
          "l_x": 0,
          "tps_parcours": "2018-01-01T00:26:20"
         },
         {
          "created_x": "2019-01-14T08:19:13",
          "l_x": 0,
          "tps_parcours": "2018-01-01T00:21:26"
         },
         {
          "created_x": "2019-01-14T08:19:50",
          "l_x": 0,
          "tps_parcours": "2018-01-01T00:20:52"
         },
         {
          "created_x": "2019-01-14T08:18:10",
          "l_x": 0,
          "tps_parcours": "2018-01-01T00:22:38"
         },
         {
          "created_x": "2019-01-14T08:19:38",
          "l_x": 0,
          "tps_parcours": "2018-01-01T00:21:16"
         },
         {
          "created_x": "2019-01-14T08:19:40",
          "l_x": 0,
          "tps_parcours": "2018-01-01T00:21:22"
         },
         {
          "created_x": "2019-01-14T08:09:42",
          "l_x": 0,
          "tps_parcours": "2018-01-01T00:31:21"
         },
         {
          "created_x": "2019-01-14T08:15:25",
          "l_x": 0,
          "tps_parcours": "2018-01-01T00:25:41"
         },
         {
          "created_x": "2019-01-14T08:19:01",
          "l_x": 0,
          "tps_parcours": "2018-01-01T00:22:14"
         },
         {
          "created_x": "2019-01-14T08:15:04",
          "l_x": 0,
          "tps_parcours": "2018-01-01T00:26:13"
         },
         {
          "created_x": "2019-01-14T08:16:08",
          "l_x": 1,
          "tps_parcours": "2018-01-01T00:25:14"
         },
         {
          "created_x": "2019-01-14T08:16:10",
          "l_x": 0,
          "tps_parcours": "2018-01-01T00:25:15"
         },
         {
          "created_x": "2019-01-14T08:21:37",
          "l_x": 0,
          "tps_parcours": "2018-01-01T00:19:55"
         },
         {
          "created_x": "2019-01-14T08:16:22",
          "l_x": 1,
          "tps_parcours": "2018-01-01T00:25:32"
         },
         {
          "created_x": "2019-01-14T08:15:39",
          "l_x": 1,
          "tps_parcours": "2018-01-01T00:26:29"
         },
         {
          "created_x": "2019-01-14T08:22:27",
          "l_x": 0,
          "tps_parcours": "2018-01-01T00:19:46"
         },
         {
          "created_x": "2019-01-14T08:21:46",
          "l_x": 0,
          "tps_parcours": "2018-01-01T00:20:30"
         },
         {
          "created_x": "2019-01-14T08:22:37",
          "l_x": 0,
          "tps_parcours": "2018-01-01T00:19:44"
         },
         {
          "created_x": "2019-01-14T08:17:24",
          "l_x": 0,
          "tps_parcours": "2018-01-01T00:25:06"
         },
         {
          "created_x": "2019-01-14T08:16:42",
          "l_x": 0,
          "tps_parcours": "2018-01-01T00:25:56"
         },
         {
          "created_x": "2019-01-14T08:22:05",
          "l_x": 0,
          "tps_parcours": "2018-01-01T00:20:56"
         },
         {
          "created_x": "2019-01-14T08:17:39",
          "l_x": 1,
          "tps_parcours": "2018-01-01T00:25:30"
         },
         {
          "created_x": "2019-01-14T08:24:14",
          "l_x": 0,
          "tps_parcours": "2018-01-01T00:18:58"
         },
         {
          "created_x": "2019-01-14T08:23:39",
          "l_x": 0,
          "tps_parcours": "2018-01-01T00:19:42"
         },
         {
          "created_x": "2019-01-14T08:16:05",
          "l_x": 0,
          "tps_parcours": "2018-01-01T00:27:20"
         },
         {
          "created_x": "2019-01-14T08:19:30",
          "l_x": 1,
          "tps_parcours": "2018-01-01T00:24:06"
         },
         {
          "created_x": "2019-01-14T08:19:38",
          "l_x": 1,
          "tps_parcours": "2018-01-01T00:24:04"
         },
         {
          "created_x": "2019-01-14T08:21:39",
          "l_x": 0,
          "tps_parcours": "2018-01-01T00:22:06"
         },
         {
          "created_x": "2019-01-14T08:17:47",
          "l_x": 1,
          "tps_parcours": "2018-01-01T00:25:59"
         },
         {
          "created_x": "2019-01-14T08:20:31",
          "l_x": 1,
          "tps_parcours": "2018-01-01T00:23:31"
         },
         {
          "created_x": "2019-01-14T08:21:19",
          "l_x": 0,
          "tps_parcours": "2018-01-01T00:23:02"
         },
         {
          "created_x": "2019-01-14T08:25:09",
          "l_x": 0,
          "tps_parcours": "2018-01-01T00:19:15"
         },
         {
          "created_x": "2019-01-14T08:25:19",
          "l_x": 0,
          "tps_parcours": "2018-01-01T00:19:14"
         },
         {
          "created_x": "2019-01-14T08:18:05",
          "l_x": 0,
          "tps_parcours": "2018-01-01T00:26:28"
         },
         {
          "created_x": "2019-01-14T08:21:13",
          "l_x": 1,
          "tps_parcours": "2018-01-01T00:23:23"
         },
         {
          "created_x": "2019-01-14T08:19:53",
          "l_x": 1,
          "tps_parcours": "2018-01-01T00:25:08"
         },
         {
          "created_x": "2019-01-14T08:24:45",
          "l_x": 0,
          "tps_parcours": "2018-01-01T00:20:24"
         },
         {
          "created_x": "2019-01-14T08:20:45",
          "l_x": 0,
          "tps_parcours": "2018-01-01T00:24:32"
         },
         {
          "created_x": "2019-01-14T08:27:26",
          "l_x": 0,
          "tps_parcours": "2018-01-01T00:17:59"
         },
         {
          "created_x": "2019-01-14T08:19:57",
          "l_x": 0,
          "tps_parcours": "2018-01-01T00:25:28"
         },
         {
          "created_x": "2019-01-14T08:20:56",
          "l_x": 1,
          "tps_parcours": "2018-01-01T00:24:31"
         },
         {
          "created_x": "2019-01-14T08:20:51",
          "l_x": 1,
          "tps_parcours": "2018-01-01T00:24:41"
         },
         {
          "created_x": "2019-01-14T08:20:52",
          "l_x": 1,
          "tps_parcours": "2018-01-01T00:24:40"
         },
         {
          "created_x": "2019-01-14T08:22:16",
          "l_x": 1,
          "tps_parcours": "2018-01-01T00:23:45"
         },
         {
          "created_x": "2019-01-14T08:07:58",
          "l_x": 0,
          "tps_parcours": "2018-01-01T00:38:09"
         },
         {
          "created_x": "2019-01-14T08:07:58",
          "l_x": 1,
          "tps_parcours": "2018-01-01T00:38:10"
         },
         {
          "created_x": "2019-01-14T08:28:03",
          "l_x": 0,
          "tps_parcours": "2018-01-01T00:18:35"
         },
         {
          "created_x": "2019-01-14T08:28:18",
          "l_x": 0,
          "tps_parcours": "2018-01-01T00:18:26"
         },
         {
          "created_x": "2019-01-14T08:27:59",
          "l_x": 0,
          "tps_parcours": "2018-01-01T00:18:47"
         },
         {
          "created_x": "2019-01-14T08:22:22",
          "l_x": 0,
          "tps_parcours": "2018-01-01T00:24:33"
         },
         {
          "created_x": "2019-01-14T08:29:04",
          "l_x": 0,
          "tps_parcours": "2018-01-01T00:18:06"
         },
         {
          "created_x": "2019-01-14T08:23:07",
          "l_x": 1,
          "tps_parcours": "2018-01-01T00:24:15"
         },
         {
          "created_x": "2019-01-14T08:23:09",
          "l_x": 1,
          "tps_parcours": "2018-01-01T00:24:16"
         },
         {
          "created_x": "2019-01-14T08:23:16",
          "l_x": 1,
          "tps_parcours": "2018-01-01T00:24:16"
         },
         {
          "created_x": "2019-01-14T08:29:43",
          "l_x": 0,
          "tps_parcours": "2018-01-01T00:18:06"
         },
         {
          "created_x": "2019-01-14T08:23:29",
          "l_x": 1,
          "tps_parcours": "2018-01-01T00:24:23"
         },
         {
          "created_x": "2019-01-14T08:23:36",
          "l_x": 0,
          "tps_parcours": "2018-01-01T00:24:18"
         },
         {
          "created_x": "2019-01-14T08:24:03",
          "l_x": 0,
          "tps_parcours": "2018-01-01T00:23:54"
         },
         {
          "created_x": "2019-01-14T08:23:25",
          "l_x": 1,
          "tps_parcours": "2018-01-01T00:24:47"
         },
         {
          "created_x": "2019-01-14T08:30:00",
          "l_x": 0,
          "tps_parcours": "2018-01-01T00:18:13"
         },
         {
          "created_x": "2019-01-14T08:23:21",
          "l_x": 1,
          "tps_parcours": "2018-01-01T00:25:11"
         },
         {
          "created_x": "2019-01-14T08:23:33",
          "l_x": 1,
          "tps_parcours": "2018-01-01T00:25:12"
         },
         {
          "created_x": "2019-01-14T08:18:15",
          "l_x": 0,
          "tps_parcours": "2018-01-01T00:30:56"
         },
         {
          "created_x": "2019-01-14T08:23:40",
          "l_x": 1,
          "tps_parcours": "2018-01-01T00:25:32"
         },
         {
          "created_x": "2019-01-14T08:23:44",
          "l_x": 1,
          "tps_parcours": "2018-01-01T00:25:31"
         },
         {
          "created_x": "2019-01-14T08:24:00",
          "l_x": 1,
          "tps_parcours": "2018-01-01T00:25:18"
         },
         {
          "created_x": "2019-01-14T08:30:25",
          "l_x": 0,
          "tps_parcours": "2018-01-01T00:18:54"
         },
         {
          "created_x": "2019-01-14T08:30:21",
          "l_x": 0,
          "tps_parcours": "2018-01-01T00:19:03"
         },
         {
          "created_x": "2019-01-14T08:26:18",
          "l_x": -1,
          "tps_parcours": "2018-01-01T00:23:32"
         },
         {
          "created_x": "2019-01-14T08:24:08",
          "l_x": 1,
          "tps_parcours": "2018-01-01T00:25:49"
         },
         {
          "created_x": "2019-01-14T08:25:55",
          "l_x": -1,
          "tps_parcours": "2018-01-01T00:24:06"
         },
         {
          "created_x": "2019-01-14T08:16:10",
          "l_x": 0,
          "tps_parcours": "2018-01-01T00:33:53"
         },
         {
          "created_x": "2019-01-14T08:25:21",
          "l_x": 0,
          "tps_parcours": "2018-01-01T00:24:45"
         },
         {
          "created_x": "2019-01-14T08:27:27",
          "l_x": 0,
          "tps_parcours": "2018-01-01T00:22:45"
         },
         {
          "created_x": "2019-01-14T08:25:16",
          "l_x": 1,
          "tps_parcours": "2018-01-01T00:25:10"
         },
         {
          "created_x": "2019-01-14T08:30:23",
          "l_x": 0,
          "tps_parcours": "2018-01-01T00:20:11"
         },
         {
          "created_x": "2019-01-14T08:24:39",
          "l_x": 1,
          "tps_parcours": "2018-01-01T00:25:55"
         },
         {
          "created_x": "2019-01-14T08:26:36",
          "l_x": -1,
          "tps_parcours": "2018-01-01T00:24:04"
         },
         {
          "created_x": "2019-01-14T08:27:51",
          "l_x": 0,
          "tps_parcours": "2018-01-01T00:23:42"
         },
         {
          "created_x": "2019-01-14T08:19:55",
          "l_x": 0,
          "tps_parcours": "2018-01-01T00:31:54"
         },
         {
          "created_x": "2019-01-14T08:32:15",
          "l_x": 0,
          "tps_parcours": "2018-01-01T00:19:51"
         },
         {
          "created_x": "2019-01-14T08:29:36",
          "l_x": 0,
          "tps_parcours": "2018-01-01T00:22:42"
         },
         {
          "created_x": "2019-01-14T08:26:54",
          "l_x": -1,
          "tps_parcours": "2018-01-01T00:25:26"
         },
         {
          "created_x": "2019-01-14T08:33:19",
          "l_x": 0,
          "tps_parcours": "2018-01-01T00:19:11"
         },
         {
          "created_x": "2019-01-14T08:29:19",
          "l_x": 0,
          "tps_parcours": "2018-01-01T00:23:21"
         },
         {
          "created_x": "2019-01-14T08:29:32",
          "l_x": 1,
          "tps_parcours": "2018-01-01T00:23:19"
         },
         {
          "created_x": "2019-01-14T08:28:51",
          "l_x": 1,
          "tps_parcours": "2018-01-01T00:24:03"
         },
         {
          "created_x": "2019-01-14T08:28:40",
          "l_x": 0,
          "tps_parcours": "2018-01-01T00:24:17"
         },
         {
          "created_x": "2019-01-14T08:30:18",
          "l_x": 1,
          "tps_parcours": "2018-01-01T00:22:57"
         },
         {
          "created_x": "2019-01-14T08:30:54",
          "l_x": 1,
          "tps_parcours": "2018-01-01T00:22:23"
         },
         {
          "created_x": "2019-01-14T08:34:48",
          "l_x": 0,
          "tps_parcours": "2018-01-01T00:18:33"
         },
         {
          "created_x": "2019-01-14T08:29:54",
          "l_x": 1,
          "tps_parcours": "2018-01-01T00:24:21"
         },
         {
          "created_x": "2019-01-14T08:31:05",
          "l_x": 1,
          "tps_parcours": "2018-01-01T00:23:13"
         },
         {
          "created_x": "2019-01-14T08:34:35",
          "l_x": 0,
          "tps_parcours": "2018-01-01T00:19:50"
         },
         {
          "created_x": "2019-01-14T08:35:11",
          "l_x": 0,
          "tps_parcours": "2018-01-01T00:19:20"
         },
         {
          "created_x": "2019-01-14T08:31:22",
          "l_x": 1,
          "tps_parcours": "2018-01-01T00:23:15"
         },
         {
          "created_x": "2019-01-14T08:30:47",
          "l_x": 1,
          "tps_parcours": "2018-01-01T00:23:55"
         },
         {
          "created_x": "2019-01-14T08:31:10",
          "l_x": 1,
          "tps_parcours": "2018-01-01T00:23:35"
         },
         {
          "created_x": "2019-01-14T08:34:18",
          "l_x": 0,
          "tps_parcours": "2018-01-01T00:20:29"
         },
         {
          "created_x": "2019-01-14T08:13:31",
          "l_x": 0,
          "tps_parcours": "2018-01-01T00:41:18"
         },
         {
          "created_x": "2019-01-14T08:30:36",
          "l_x": 1,
          "tps_parcours": "2018-01-01T00:24:22"
         },
         {
          "created_x": "2019-01-14T08:32:29",
          "l_x": 1,
          "tps_parcours": "2018-01-01T00:22:32"
         },
         {
          "created_x": "2019-01-14T08:31:59",
          "l_x": 0,
          "tps_parcours": "2018-01-01T00:23:10"
         },
         {
          "created_x": "2019-01-14T08:37:22",
          "l_x": 0,
          "tps_parcours": "2018-01-01T00:17:53"
         },
         {
          "created_x": "2019-01-14T08:30:58",
          "l_x": 0,
          "tps_parcours": "2018-01-01T00:24:24"
         },
         {
          "created_x": "2019-01-14T08:31:55",
          "l_x": 1,
          "tps_parcours": "2018-01-01T00:23:27"
         },
         {
          "created_x": "2019-01-14T08:31:51",
          "l_x": 1,
          "tps_parcours": "2018-01-01T00:23:37"
         },
         {
          "created_x": "2019-01-14T08:32:58",
          "l_x": 1,
          "tps_parcours": "2018-01-01T00:22:37"
         },
         {
          "created_x": "2019-01-14T08:37:15",
          "l_x": 0,
          "tps_parcours": "2018-01-01T00:18:27"
         },
         {
          "created_x": "2019-01-14T08:33:17",
          "l_x": 1,
          "tps_parcours": "2018-01-01T00:22:32"
         },
         {
          "created_x": "2019-01-14T08:33:07",
          "l_x": 1,
          "tps_parcours": "2018-01-01T00:22:58"
         },
         {
          "created_x": "2019-01-14T08:28:24",
          "l_x": 1,
          "tps_parcours": "2018-01-01T00:28:08"
         },
         {
          "created_x": "2019-01-14T08:32:56",
          "l_x": 1,
          "tps_parcours": "2018-01-01T00:23:45"
         },
         {
          "created_x": "2019-01-14T08:33:13",
          "l_x": 1,
          "tps_parcours": "2018-01-01T00:23:33"
         },
         {
          "created_x": "2019-01-14T08:33:00",
          "l_x": 0,
          "tps_parcours": "2018-01-01T00:23:47"
         },
         {
          "created_x": "2019-01-14T08:33:03",
          "l_x": 1,
          "tps_parcours": "2018-01-01T00:23:50"
         },
         {
          "created_x": "2019-01-14T08:33:20",
          "l_x": 1,
          "tps_parcours": "2018-01-01T00:23:35"
         },
         {
          "created_x": "2019-01-14T08:33:59",
          "l_x": 1,
          "tps_parcours": "2018-01-01T00:23:01"
         },
         {
          "created_x": "2019-01-14T08:33:56",
          "l_x": 1,
          "tps_parcours": "2018-01-01T00:23:13"
         },
         {
          "created_x": "2019-01-14T08:35:01",
          "l_x": 1,
          "tps_parcours": "2018-01-01T00:22:14"
         },
         {
          "created_x": "2019-01-14T08:39:50",
          "l_x": 0,
          "tps_parcours": "2018-01-01T00:17:27"
         },
         {
          "created_x": "2019-01-14T08:40:40",
          "l_x": 0,
          "tps_parcours": "2018-01-01T00:16:55"
         },
         {
          "created_x": "2019-01-14T08:05:48",
          "l_x": 0,
          "tps_parcours": "2018-01-01T00:51:49"
         },
         {
          "created_x": "2019-01-14T08:39:32",
          "l_x": 0,
          "tps_parcours": "2018-01-01T00:18:32"
         },
         {
          "created_x": "2019-01-14T08:35:29",
          "l_x": 0,
          "tps_parcours": "2018-01-01T00:22:37"
         },
         {
          "created_x": "2019-01-14T08:34:44",
          "l_x": 1,
          "tps_parcours": "2018-01-01T00:23:26"
         },
         {
          "created_x": "2019-01-14T08:39:07",
          "l_x": 0,
          "tps_parcours": "2018-01-01T00:19:05"
         },
         {
          "created_x": "2019-01-14T08:35:19",
          "l_x": 1,
          "tps_parcours": "2018-01-01T00:22:56"
         },
         {
          "created_x": "2019-01-14T08:35:23",
          "l_x": 1,
          "tps_parcours": "2018-01-01T00:23:00"
         },
         {
          "created_x": "2019-01-14T08:36:49",
          "l_x": 1,
          "tps_parcours": "2018-01-01T00:21:44"
         },
         {
          "created_x": "2019-01-14T08:41:26",
          "l_x": 1,
          "tps_parcours": "2018-01-01T00:17:13"
         },
         {
          "created_x": "2019-01-14T08:37:23",
          "l_x": 1,
          "tps_parcours": "2018-01-01T00:21:39"
         },
         {
          "created_x": "2019-01-14T08:35:26",
          "l_x": 0,
          "tps_parcours": "2018-01-01T00:23:39"
         },
         {
          "created_x": "2019-01-14T08:42:43",
          "l_x": 0,
          "tps_parcours": "2018-01-01T00:16:31"
         },
         {
          "created_x": "2019-01-14T08:43:23",
          "l_x": 0,
          "tps_parcours": "2018-01-01T00:15:58"
         },
         {
          "created_x": "2019-01-14T08:35:32",
          "l_x": 0,
          "tps_parcours": "2018-01-01T00:23:57"
         },
         {
          "created_x": "2019-01-14T08:37:42",
          "l_x": 1,
          "tps_parcours": "2018-01-01T00:22:01"
         },
         {
          "created_x": "2019-01-14T08:37:33",
          "l_x": 1,
          "tps_parcours": "2018-01-01T00:22:14"
         },
         {
          "created_x": "2019-01-14T08:41:35",
          "l_x": 0,
          "tps_parcours": "2018-01-01T00:18:14"
         },
         {
          "created_x": "2019-01-14T08:36:51",
          "l_x": 0,
          "tps_parcours": "2018-01-01T00:23:24"
         },
         {
          "created_x": "2019-01-14T08:38:20",
          "l_x": 1,
          "tps_parcours": "2018-01-01T00:22:06"
         },
         {
          "created_x": "2019-01-14T08:40:17",
          "l_x": 0,
          "tps_parcours": "2018-01-01T00:20:14"
         },
         {
          "created_x": "2019-01-14T08:36:38",
          "l_x": 1,
          "tps_parcours": "2018-01-01T00:24:00"
         },
         {
          "created_x": "2019-01-14T08:37:40",
          "l_x": 1,
          "tps_parcours": "2018-01-01T00:23:02"
         },
         {
          "created_x": "2019-01-14T08:36:42",
          "l_x": 1,
          "tps_parcours": "2018-01-01T00:24:14"
         },
         {
          "created_x": "2019-01-14T08:36:45",
          "l_x": 0,
          "tps_parcours": "2018-01-01T00:24:13"
         },
         {
          "created_x": "2019-01-14T08:44:13",
          "l_x": 0,
          "tps_parcours": "2018-01-01T00:16:48"
         },
         {
          "created_x": "2019-01-14T08:44:44",
          "l_x": 0,
          "tps_parcours": "2018-01-01T00:16:24"
         },
         {
          "created_x": "2019-01-14T08:41:15",
          "l_x": 0,
          "tps_parcours": "2018-01-01T00:20:20"
         },
         {
          "created_x": "2019-01-14T08:41:49",
          "l_x": 1,
          "tps_parcours": "2018-01-01T00:19:47"
         },
         {
          "created_x": "2019-01-14T08:41:18",
          "l_x": 0,
          "tps_parcours": "2018-01-01T00:20:24"
         },
         {
          "created_x": "2019-01-14T08:45:13",
          "l_x": 0,
          "tps_parcours": "2018-01-01T00:16:31"
         },
         {
          "created_x": "2019-01-14T08:44:16",
          "l_x": 0,
          "tps_parcours": "2018-01-01T00:17:29"
         },
         {
          "created_x": "2019-01-14T08:41:47",
          "l_x": 1,
          "tps_parcours": "2018-01-01T00:19:59"
         },
         {
          "created_x": "2019-01-14T08:37:53",
          "l_x": 1,
          "tps_parcours": "2018-01-01T00:24:19"
         },
         {
          "created_x": "2019-01-14T08:40:32",
          "l_x": 0,
          "tps_parcours": "2018-01-01T00:21:42"
         },
         {
          "created_x": "2019-01-14T08:18:32",
          "l_x": 0,
          "tps_parcours": "2018-01-01T00:43:53"
         },
         {
          "created_x": "2019-01-14T08:42:14",
          "l_x": 0,
          "tps_parcours": "2018-01-01T00:20:13"
         },
         {
          "created_x": "2019-01-14T08:44:17",
          "l_x": 0,
          "tps_parcours": "2018-01-01T00:18:17"
         },
         {
          "created_x": "2019-01-14T08:45:40",
          "l_x": 0,
          "tps_parcours": "2018-01-01T00:16:56"
         },
         {
          "created_x": "2019-01-14T08:27:04",
          "l_x": -1,
          "tps_parcours": "2018-01-01T00:35:42"
         },
         {
          "created_x": "2019-01-14T08:45:02",
          "l_x": 0,
          "tps_parcours": "2018-01-01T00:17:55"
         },
         {
          "created_x": "2019-01-14T08:40:25",
          "l_x": 1,
          "tps_parcours": "2018-01-01T00:22:36"
         },
         {
          "created_x": "2019-01-14T08:07:43",
          "l_x": 0,
          "tps_parcours": "2018-01-01T00:55:29"
         },
         {
          "created_x": "2019-01-14T08:40:29",
          "l_x": 1,
          "tps_parcours": "2018-01-01T00:22:58"
         },
         {
          "created_x": "2019-01-14T08:39:50",
          "l_x": 1,
          "tps_parcours": "2018-01-01T00:23:45"
         },
         {
          "created_x": "2019-01-14T08:43:27",
          "l_x": 0,
          "tps_parcours": "2018-01-01T00:20:16"
         },
         {
          "created_x": "2019-01-14T08:35:34",
          "l_x": 0,
          "tps_parcours": "2018-01-01T00:28:34"
         },
         {
          "created_x": "2019-01-14T08:46:11",
          "l_x": 1,
          "tps_parcours": "2018-01-01T00:18:05"
         },
         {
          "created_x": "2019-01-14T08:43:15",
          "l_x": 0,
          "tps_parcours": "2018-01-01T00:21:06"
         },
         {
          "created_x": "2019-01-14T08:42:12",
          "l_x": 1,
          "tps_parcours": "2018-01-01T00:22:21"
         },
         {
          "created_x": "2019-01-14T08:44:26",
          "l_x": 0,
          "tps_parcours": "2018-01-01T00:20:19"
         },
         {
          "created_x": "2019-01-14T08:42:27",
          "l_x": 1,
          "tps_parcours": "2018-01-01T00:22:33"
         },
         {
          "created_x": "2019-01-14T08:47:57",
          "l_x": 0,
          "tps_parcours": "2018-01-01T00:17:05"
         },
         {
          "created_x": "2019-01-14T08:30:28",
          "l_x": 0,
          "tps_parcours": "2018-01-01T00:34:47"
         },
         {
          "created_x": "2019-01-14T08:44:22",
          "l_x": 1,
          "tps_parcours": "2018-01-01T00:21:06"
         },
         {
          "created_x": "2019-01-14T08:48:39",
          "l_x": 0,
          "tps_parcours": "2018-01-01T00:17:19"
         },
         {
          "created_x": "2019-01-14T08:22:24",
          "l_x": 0,
          "tps_parcours": "2018-01-01T00:43:45"
         },
         {
          "created_x": "2019-01-14T08:45:40",
          "l_x": 0,
          "tps_parcours": "2018-01-01T00:20:34"
         },
         {
          "created_x": "2019-01-14T08:49:10",
          "l_x": 0,
          "tps_parcours": "2018-01-01T00:17:18"
         },
         {
          "created_x": "2019-01-14T08:44:30",
          "l_x": 1,
          "tps_parcours": "2018-01-01T00:21:59"
         },
         {
          "created_x": "2019-01-14T08:45:17",
          "l_x": 1,
          "tps_parcours": "2018-01-01T00:21:25"
         },
         {
          "created_x": "2019-01-14T08:48:27",
          "l_x": 0,
          "tps_parcours": "2018-01-01T00:18:17"
         },
         {
          "created_x": "2019-01-14T08:49:11",
          "l_x": 0,
          "tps_parcours": "2018-01-01T00:17:42"
         },
         {
          "created_x": "2019-01-14T08:45:45",
          "l_x": 0,
          "tps_parcours": "2018-01-01T00:21:19"
         },
         {
          "created_x": "2019-01-14T08:45:42",
          "l_x": 1,
          "tps_parcours": "2018-01-01T00:21:24"
         },
         {
          "created_x": "2019-01-14T08:45:47",
          "l_x": 0,
          "tps_parcours": "2018-01-01T00:21:23"
         },
         {
          "created_x": "2019-01-14T08:44:24",
          "l_x": 0,
          "tps_parcours": "2018-01-01T00:22:51"
         },
         {
          "created_x": "2019-01-14T08:51:37",
          "l_x": 0,
          "tps_parcours": "2018-01-01T00:15:44"
         },
         {
          "created_x": "2019-01-14T08:50:17",
          "l_x": 0,
          "tps_parcours": "2018-01-01T00:17:08"
         },
         {
          "created_x": "2019-01-14T08:51:28",
          "l_x": -1,
          "tps_parcours": "2018-01-01T00:16:07"
         },
         {
          "created_x": "2019-01-14T08:13:33",
          "l_x": 1,
          "tps_parcours": "2018-01-01T00:54:18"
         },
         {
          "created_x": "2019-01-14T08:50:16",
          "l_x": 0,
          "tps_parcours": "2018-01-01T00:17:38"
         },
         {
          "created_x": "2019-01-14T08:46:31",
          "l_x": 1,
          "tps_parcours": "2018-01-01T00:21:36"
         },
         {
          "created_x": "2019-01-14T08:45:50",
          "l_x": 1,
          "tps_parcours": "2018-01-01T00:22:20"
         },
         {
          "created_x": "2019-01-14T08:47:06",
          "l_x": 1,
          "tps_parcours": "2018-01-01T00:21:19"
         },
         {
          "created_x": "2019-01-14T08:47:10",
          "l_x": 1,
          "tps_parcours": "2018-01-01T00:21:17"
         },
         {
          "created_x": "2019-01-14T08:47:01",
          "l_x": 0,
          "tps_parcours": "2018-01-01T00:21:38"
         },
         {
          "created_x": "2019-01-14T08:38:04",
          "l_x": 0,
          "tps_parcours": "2018-01-01T00:30:59"
         },
         {
          "created_x": "2019-01-14T08:52:25",
          "l_x": 0,
          "tps_parcours": "2018-01-01T00:16:43"
         },
         {
          "created_x": "2019-01-14T08:47:35",
          "l_x": 1,
          "tps_parcours": "2018-01-01T00:21:39"
         },
         {
          "created_x": "2019-01-14T08:49:01",
          "l_x": 1,
          "tps_parcours": "2018-01-01T00:20:28"
         },
         {
          "created_x": "2019-01-14T08:49:19",
          "l_x": 1,
          "tps_parcours": "2018-01-01T00:20:15"
         },
         {
          "created_x": "2019-01-14T08:50:19",
          "l_x": 1,
          "tps_parcours": "2018-01-01T00:19:19"
         },
         {
          "created_x": "2019-01-14T08:47:59",
          "l_x": 1,
          "tps_parcours": "2018-01-01T00:21:43"
         },
         {
          "created_x": "2019-01-14T08:49:03",
          "l_x": 1,
          "tps_parcours": "2018-01-01T00:20:50"
         },
         {
          "created_x": "2019-01-14T08:49:32",
          "l_x": 0,
          "tps_parcours": "2018-01-01T00:20:24"
         },
         {
          "created_x": "2019-01-14T08:53:26",
          "l_x": 0,
          "tps_parcours": "2018-01-01T00:16:38"
         },
         {
          "created_x": "2019-01-14T08:47:18",
          "l_x": 1,
          "tps_parcours": "2018-01-01T00:22:51"
         },
         {
          "created_x": "2019-01-14T08:49:26",
          "l_x": 1,
          "tps_parcours": "2018-01-01T00:20:55"
         },
         {
          "created_x": "2019-01-14T08:46:52",
          "l_x": 1,
          "tps_parcours": "2018-01-01T00:23:41"
         },
         {
          "created_x": "2019-01-14T08:52:13",
          "l_x": 0,
          "tps_parcours": "2018-01-01T00:18:34"
         },
         {
          "created_x": "2019-01-14T08:54:28",
          "l_x": 0,
          "tps_parcours": "2018-01-01T00:16:23"
         },
         {
          "created_x": "2019-01-14T08:53:52",
          "l_x": 0,
          "tps_parcours": "2018-01-01T00:17:14"
         },
         {
          "created_x": "2019-01-14T08:49:24",
          "l_x": 1,
          "tps_parcours": "2018-01-01T00:21:57"
         },
         {
          "created_x": "2019-01-14T08:49:54",
          "l_x": 1,
          "tps_parcours": "2018-01-01T00:21:36"
         },
         {
          "created_x": "2019-01-14T08:47:13",
          "l_x": 0,
          "tps_parcours": "2018-01-01T00:24:20"
         },
         {
          "created_x": "2019-01-14T08:50:46",
          "l_x": 1,
          "tps_parcours": "2018-01-01T00:21:00"
         },
         {
          "created_x": "2019-01-14T08:50:58",
          "l_x": 1,
          "tps_parcours": "2018-01-01T00:20:50"
         },
         {
          "created_x": "2019-01-14T08:51:02",
          "l_x": 0,
          "tps_parcours": "2018-01-01T00:20:52"
         },
         {
          "created_x": "2019-01-14T08:54:16",
          "l_x": 0,
          "tps_parcours": "2018-01-01T00:17:38"
         },
         {
          "created_x": "2019-01-14T08:54:17",
          "l_x": 0,
          "tps_parcours": "2018-01-01T00:17:38"
         },
         {
          "created_x": "2019-01-14T08:54:45",
          "l_x": 0,
          "tps_parcours": "2018-01-01T00:17:11"
         },
         {
          "created_x": "2019-01-14T08:55:02",
          "l_x": 0,
          "tps_parcours": "2018-01-01T00:17:07"
         },
         {
          "created_x": "2019-01-14T08:07:13",
          "l_x": 0,
          "tps_parcours": "2018-01-01T01:05:01"
         },
         {
          "created_x": "2019-01-14T08:51:55",
          "l_x": 1,
          "tps_parcours": "2018-01-01T00:20:50"
         },
         {
          "created_x": "2019-01-14T08:52:15",
          "l_x": 1,
          "tps_parcours": "2018-01-01T00:21:22"
         },
         {
          "created_x": "2019-01-14T08:52:18",
          "l_x": 0,
          "tps_parcours": "2018-01-01T00:21:20"
         },
         {
          "created_x": "2019-01-14T08:51:53",
          "l_x": 1,
          "tps_parcours": "2018-01-01T00:21:55"
         },
         {
          "created_x": "2019-01-14T08:56:52",
          "l_x": 0,
          "tps_parcours": "2018-01-01T00:16:58"
         },
         {
          "created_x": "2019-01-14T08:11:06",
          "l_x": 1,
          "tps_parcours": "2018-01-01T01:02:50"
         },
         {
          "created_x": "2019-01-14T08:57:00",
          "l_x": 0,
          "tps_parcours": "2018-01-01T00:17:00"
         },
         {
          "created_x": "2019-01-14T08:39:33",
          "l_x": 0,
          "tps_parcours": "2018-01-01T00:34:28"
         },
         {
          "created_x": "2019-01-14T08:21:16",
          "l_x": 1,
          "tps_parcours": "2018-01-01T00:53:02"
         },
         {
          "created_x": "2019-01-14T08:56:37",
          "l_x": 0,
          "tps_parcours": "2018-01-01T00:17:43"
         },
         {
          "created_x": "2019-01-14T08:50:43",
          "l_x": 1,
          "tps_parcours": "2018-01-01T00:23:37"
         },
         {
          "created_x": "2019-01-14T08:57:36",
          "l_x": 0,
          "tps_parcours": "2018-01-01T00:16:53"
         },
         {
          "created_x": "2019-01-14T08:57:50",
          "l_x": 0,
          "tps_parcours": "2018-01-01T00:16:40"
         },
         {
          "created_x": "2019-01-14T08:50:56",
          "l_x": 1,
          "tps_parcours": "2018-01-01T00:23:53"
         },
         {
          "created_x": "2019-01-14T08:53:35",
          "l_x": 1,
          "tps_parcours": "2018-01-01T00:21:24"
         },
         {
          "created_x": "2019-01-14T08:51:20",
          "l_x": 1,
          "tps_parcours": "2018-01-01T00:23:45"
         },
         {
          "created_x": "2019-01-14T08:51:24",
          "l_x": 1,
          "tps_parcours": "2018-01-01T00:23:48"
         },
         {
          "created_x": "2019-01-14T08:53:52",
          "l_x": 1,
          "tps_parcours": "2018-01-01T00:21:26"
         },
         {
          "created_x": "2019-01-14T08:54:38",
          "l_x": 0,
          "tps_parcours": "2018-01-01T00:20:44"
         },
         {
          "created_x": "2019-01-14T08:51:50",
          "l_x": 1,
          "tps_parcours": "2018-01-01T00:23:42"
         },
         {
          "created_x": "2019-01-14T08:43:17",
          "l_x": 0,
          "tps_parcours": "2018-01-01T00:32:24"
         },
         {
          "created_x": "2019-01-14T08:43:17",
          "l_x": 0,
          "tps_parcours": "2018-01-01T00:32:24"
         },
         {
          "created_x": "2019-01-14T08:53:40",
          "l_x": 1,
          "tps_parcours": "2018-01-01T00:22:16"
         },
         {
          "created_x": "2019-01-14T08:52:33",
          "l_x": 1,
          "tps_parcours": "2018-01-01T00:23:38"
         },
         {
          "created_x": "2019-01-14T08:55:26",
          "l_x": 0,
          "tps_parcours": "2018-01-01T00:20:46"
         },
         {
          "created_x": "2019-01-14T08:53:32",
          "l_x": 1,
          "tps_parcours": "2018-01-01T00:23:04"
         },
         {
          "created_x": "2019-01-14T08:55:15",
          "l_x": 1,
          "tps_parcours": "2018-01-01T00:21:36"
         },
         {
          "created_x": "2019-01-14T08:55:03",
          "l_x": 1,
          "tps_parcours": "2018-01-01T00:21:56"
         },
         {
          "created_x": "2019-01-14T08:55:58",
          "l_x": 0,
          "tps_parcours": "2018-01-01T00:21:10"
         },
         {
          "created_x": "2019-01-14T08:56:05",
          "l_x": 0,
          "tps_parcours": "2018-01-01T00:21:06"
         },
         {
          "created_x": "2019-01-14T08:55:18",
          "l_x": 0,
          "tps_parcours": "2018-01-01T00:21:56"
         },
         {
          "created_x": "2019-01-14T08:54:11",
          "l_x": 0,
          "tps_parcours": "2018-01-01T00:23:11"
         },
         {
          "created_x": "2019-01-14T08:55:23",
          "l_x": 0,
          "tps_parcours": "2018-01-01T00:22:07"
         },
         {
          "created_x": "2019-01-14T08:56:02",
          "l_x": 1,
          "tps_parcours": "2018-01-01T00:21:34"
         },
         {
          "created_x": "2019-01-14T08:56:25",
          "l_x": 1,
          "tps_parcours": "2018-01-01T00:21:14"
         },
         {
          "created_x": "2019-01-14T08:55:41",
          "l_x": 1,
          "tps_parcours": "2018-01-01T00:22:00"
         },
         {
          "created_x": "2019-01-14T08:55:56",
          "l_x": 1,
          "tps_parcours": "2018-01-01T00:22:01"
         },
         {
          "created_x": "2019-01-14T08:54:25",
          "l_x": 1,
          "tps_parcours": "2018-01-01T00:23:43"
         },
         {
          "created_x": "2019-01-14T08:57:22",
          "l_x": 0,
          "tps_parcours": "2018-01-01T00:20:53"
         },
         {
          "created_x": "2019-01-14T08:54:34",
          "l_x": 0,
          "tps_parcours": "2018-01-01T00:23:46"
         },
         {
          "created_x": "2019-01-14T08:58:41",
          "l_x": 1,
          "tps_parcours": "2018-01-01T00:19:55"
         },
         {
          "created_x": "2019-01-14T08:58:56",
          "l_x": 1,
          "tps_parcours": "2018-01-01T00:20:10"
         },
         {
          "created_x": "2019-01-14T08:55:43",
          "l_x": 0,
          "tps_parcours": "2018-01-01T00:23:39"
         },
         {
          "created_x": "2019-01-14T08:58:09",
          "l_x": 1,
          "tps_parcours": "2018-01-01T00:21:50"
         },
         {
          "created_x": "2019-01-14T08:58:50",
          "l_x": 1,
          "tps_parcours": "2018-01-01T00:21:18"
         },
         {
          "created_x": "2019-01-14T08:56:13",
          "l_x": 1,
          "tps_parcours": "2018-01-01T00:23:57"
         },
         {
          "created_x": "2019-01-14T08:57:01",
          "l_x": 1,
          "tps_parcours": "2018-01-01T00:23:18"
         },
         {
          "created_x": "2019-01-14T08:57:10",
          "l_x": 1,
          "tps_parcours": "2018-01-01T00:23:14"
         },
         {
          "created_x": "2019-01-14T08:58:11",
          "l_x": 0,
          "tps_parcours": "2018-01-01T00:22:48"
         },
         {
          "created_x": "2019-01-14T08:58:35",
          "l_x": 1,
          "tps_parcours": "2018-01-01T00:22:36"
         },
         {
          "created_x": "2019-01-14T08:58:39",
          "l_x": 1,
          "tps_parcours": "2018-01-01T00:22:35"
         },
         {
          "created_x": "2019-01-14T08:59:15",
          "l_x": 1,
          "tps_parcours": "2018-01-01T00:22:06"
         },
         {
          "created_x": "2019-01-14T08:00:08",
          "l_x": 0,
          "tps_parcours": "2018-01-01T01:24:34"
         },
         {
          "created_x": "2019-01-14T08:30:04",
          "l_x": 0,
          "tps_parcours": "2018-01-01T00:55:04"
         },
         {
          "created_x": "2019-01-14T08:16:53",
          "l_x": 0,
          "tps_parcours": "2018-01-01T01:11:50"
         },
         {
          "created_x": "2019-01-14T08:12:11",
          "l_x": 0,
          "tps_parcours": "2018-01-01T01:16:58"
         },
         {
          "created_x": "2019-01-14T08:18:38",
          "l_x": 0,
          "tps_parcours": "2018-01-01T01:13:30"
         },
         {
          "created_x": "2019-01-14T08:18:19",
          "l_x": 1,
          "tps_parcours": "2018-01-01T01:13:54"
         },
         {
          "created_x": "2019-01-14T08:44:23",
          "l_x": 0,
          "tps_parcours": "2018-01-01T00:48:44"
         },
         {
          "created_x": "2019-01-14T08:39:19",
          "l_x": 0,
          "tps_parcours": "2018-01-01T00:53:58"
         },
         {
          "created_x": "2019-01-14T08:34:46",
          "l_x": 1,
          "tps_parcours": "2018-01-01T00:58:53"
         },
         {
          "created_x": "2019-01-14T08:43:19",
          "l_x": 0,
          "tps_parcours": "2018-01-01T00:50:28"
         },
         {
          "created_x": "2019-01-14T08:28:00",
          "l_x": 1,
          "tps_parcours": "2018-01-01T01:11:05"
         },
         {
          "created_x": "2019-01-14T08:06:07",
          "l_x": 1,
          "tps_parcours": "2018-01-01T01:33:00"
         },
         {
          "created_x": "2019-01-14T08:27:18",
          "l_x": -1,
          "tps_parcours": "2018-01-01T01:12:27"
         },
         {
          "created_x": "2019-01-14T08:26:45",
          "l_x": -1,
          "tps_parcours": "2018-01-01T01:13:54"
         },
         {
          "created_x": "2019-01-14T08:31:27",
          "l_x": 1,
          "tps_parcours": "2018-01-01T01:09:31"
         },
         {
          "created_x": "2019-01-14T08:40:47",
          "l_x": 0,
          "tps_parcours": "2018-01-01T01:00:37"
         },
         {
          "created_x": "2019-01-14T08:20:43",
          "l_x": 0,
          "tps_parcours": "2018-01-01T01:21:16"
         },
         {
          "created_x": "2019-01-14T08:24:14",
          "l_x": 1,
          "tps_parcours": "2018-01-01T01:19:36"
         },
         {
          "created_x": "2019-01-14T08:35:25",
          "l_x": 0,
          "tps_parcours": "2018-01-01T01:10:44"
         },
         {
          "created_x": "2019-01-14T08:32:25",
          "l_x": 0,
          "tps_parcours": "2018-01-01T01:14:58"
         },
         {
          "created_x": "2019-01-14T08:53:48",
          "l_x": 1,
          "tps_parcours": "2018-01-01T00:59:31"
         }
        ]
       },
       "encoding": {
        "color": {
         "field": "l_x",
         "type": "nominal"
        },
        "shape": {
         "field": "l_x",
         "type": "nominal"
        },
        "x": {
         "field": "created_x",
         "type": "temporal"
        },
        "y": {
         "field": "tps_parcours",
         "timeUnit": "hoursminutes",
         "type": "temporal"
        }
       },
       "mark": "point"
      },
      "image/png": "[encoded data removed]",
      "text/plain": [
       "<VegaLite 2 object>\n",
       "\n",
       "If you see this message, it means the renderer has not been properly enabled\n",
       "for the frontend that you are using. For more information, see\n",
       "https://altair-viz.github.io/user_guide/troubleshooting.html\n"
      ]
     },
     "execution_count": 9,
     "metadata": {},
     "output_type": "execute_result"
    }
   ],
   "source": [
    "#Creer une visualisation\n",
    "pour_image=df_8h_9h_tv_ss_filtre[['created_x','tps_parcours','l_x']].copy() #copier les données avec juste ce qu'il faut\n",
    "pour_image.tps_parcours=pd.to_datetime('2018-01-01')+pour_image.tps_parcours #refernce à une journée à 00:00 car timedeltas non geres par altair (json en general)\n",
    "chart = alt.Chart(pour_image) #cf altair\n",
    "alt.Chart(pour_image).mark_point().encode(\n",
    "    x='created_x',\n",
    "    y='hoursminutes(tps_parcours)',\n",
    "\tcolor='l_x:N',\n",
    "\tshape='l_x:N')"
   ]
  },
  {
   "cell_type": "code",
   "execution_count": null,
   "metadata": {},
   "outputs": [],
   "source": []
  }
 ],
 "metadata": {
  "kernelspec": {
   "display_name": "Python 3",
   "language": "python",
   "name": "python3"
  },
  "language_info": {
   "codemirror_mode": {
    "name": "ipython",
    "version": 3
   },
   "file_extension": ".py",
   "mimetype": "text/x-python",
   "name": "python",
   "nbconvert_exporter": "python",
   "pygments_lexer": "ipython3",
   "version": "3.7.0"
  }
 },
 "nbformat": 4,
 "nbformat_minor": 2
}
