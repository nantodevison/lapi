{
 "cells": [
  {
   "cell_type": "markdown",
   "metadata": {},
   "source": [
    "L'dée de ce notebook est de pouvoir tracer les étapes de réalisation d'un calcul de temps de parcours de référence. Chap 1 : Import des données"
   ]
  },
  {
   "cell_type": "markdown",
   "metadata": {},
   "source": []
  },
  {
   "cell_type": "code",
   "execution_count": 272,
   "metadata": {},
   "outputs": [
    {
     "name": "stdout",
     "output_type": "stream",
     "text": [
      "The autoreload extension is already loaded. To reload it, use:\n",
      "  %reload_ext autoreload\n"
     ]
    }
   ],
   "source": [
    "%load_ext autoreload\n",
    "%autoreload 2\n",
    "import sys #c'est pas propre mais pour le moment pour importer mes modules perso dans le notebook je ne sais pas faire\n",
    "sys.path.append(r'C:\\Users\\martin.schoreisz\\git\\Outils\\Outils\\Martin_Perso')\n",
    "import traitement_od as t\n",
    "import pandas as pd\n",
    "import numpy as np\n",
    "import altair as alt\n",
    "import datetime as dt"
   ]
  },
  {
   "cell_type": "markdown",
   "metadata": {},
   "source": [
    "Chap 1. Extraction des données sur 48h"
   ]
  },
  {
   "cell_type": "code",
   "execution_count": 7,
   "metadata": {},
   "outputs": [],
   "source": [
    "df_journee=t.ouvrir_fichier_lapi('2019-01-29 00:00:00','2019-01-30 23:59:00')#telecharger une partie des donnees sur unejournee"
   ]
  },
  {
   "cell_type": "code",
   "execution_count": 8,
   "metadata": {},
   "outputs": [],
   "source": [
    "info_df_journee=t.df_source(df_journee)"
   ]
  },
  {
   "cell_type": "code",
   "execution_count": 9,
   "metadata": {},
   "outputs": [
    {
     "data": {
      "application/vnd.vegalite.v2+json": {
       "$schema": "https://vega.github.io/schema/vega-lite/v2.6.0.json",
       "config": {
        "view": {
         "height": 300,
         "width": 400
        }
       },
       "data": {
        "name": "data-d52fe74060a383f76a3506d417abc273"
       },
       "datasets": {
        "data-d52fe74060a383f76a3506d417abc273": [
         {
          "type": "nb_tv_tot",
          "value": 635618
         },
         {
          "type": "nb_tv_plaque_ok",
          "value": 392879
         },
         {
          "type": "nb_vlpl",
          "value": 598393
         },
         {
          "type": "nb_veh_ok",
          "value": 368156
         },
         {
          "type": "nb_vl_ok",
          "value": 307449
         },
         {
          "type": "nb_pl_ok",
          "value": 60707
         }
        ]
       },
       "encoding": {
        "color": {
         "field": "type",
         "type": "nominal"
        },
        "x": {
         "field": "type",
         "sort": {
          "field": "value",
          "op": "mean"
         },
         "type": "nominal"
        },
        "y": {
         "field": "value",
         "type": "quantitative"
        }
       },
       "mark": "bar",
       "width": 100
      },
      "image/png": "[encoded data removed]",
      "text/plain": [
       "<VegaLite 2 object>\n",
       "\n",
       "If you see this message, it means the renderer has not been properly enabled\n",
       "for the frontend that you are using. For more information, see\n",
       "https://altair-viz.github.io/user_guide/troubleshooting.html\n"
      ]
     },
     "execution_count": 9,
     "metadata": {},
     "output_type": "execute_result"
    }
   ],
   "source": [
    "#graphes\n",
    "graph_stat, graph_fiab=info_df_journee.plot_graphs()\n",
    "#stats sur la journée\n",
    "graph_stat"
   ]
  },
  {
   "cell_type": "code",
   "execution_count": 10,
   "metadata": {},
   "outputs": [
    {
     "data": {
      "application/vnd.vegalite.v2+json": {
       "$schema": "https://vega.github.io/schema/vega-lite/v2.6.0.json",
       "config": {
        "view": {
         "height": 300,
         "width": 400
        }
       },
       "data": {
        "name": "data-b0ffb136aa642d02ebe32f4760d2d0f7"
       },
       "datasets": {
        "data-b0ffb136aa642d02ebe32f4760d2d0f7": [
         {
          "created": "2019-01-29T00:00:00",
          "fiability": 83.85950413223141
         },
         {
          "created": "2019-01-29T00:05:00",
          "fiability": 81.97435897435898
         },
         {
          "created": "2019-01-29T00:10:00",
          "fiability": 79.38053097345133
         },
         {
          "created": "2019-01-29T00:15:00",
          "fiability": 82.1140350877193
         },
         {
          "created": "2019-01-29T00:20:00",
          "fiability": 84.22413793103448
         },
         {
          "created": "2019-01-29T00:25:00",
          "fiability": 80.00787401574803
         },
         {
          "created": "2019-01-29T00:30:00",
          "fiability": 81.05263157894737
         },
         {
          "created": "2019-01-29T00:35:00",
          "fiability": 78.79470198675497
         },
         {
          "created": "2019-01-29T00:40:00",
          "fiability": 76.33333333333333
         },
         {
          "created": "2019-01-29T00:45:00",
          "fiability": 81.8695652173913
         },
         {
          "created": "2019-01-29T00:50:00",
          "fiability": 80.24120603015075
         },
         {
          "created": "2019-01-29T00:55:00",
          "fiability": 83.00571428571429
         },
         {
          "created": "2019-01-29T01:00:00",
          "fiability": 80.57142857142857
         },
         {
          "created": "2019-01-29T01:05:00",
          "fiability": 80.69060773480663
         },
         {
          "created": "2019-01-29T01:10:00",
          "fiability": 81.04430379746836
         },
         {
          "created": "2019-01-29T01:15:00",
          "fiability": 77.93333333333334
         },
         {
          "created": "2019-01-29T01:20:00",
          "fiability": 77.84328358208955
         },
         {
          "created": "2019-01-29T01:25:00",
          "fiability": 77.23577235772358
         },
         {
          "created": "2019-01-29T01:30:00",
          "fiability": 81.60975609756098
         },
         {
          "created": "2019-01-29T01:35:00",
          "fiability": 82.04395604395604
         },
         {
          "created": "2019-01-29T01:40:00",
          "fiability": 81.7816091954023
         },
         {
          "created": "2019-01-29T01:45:00",
          "fiability": 82.84444444444445
         },
         {
          "created": "2019-01-29T01:50:00",
          "fiability": 83.23157894736842
         },
         {
          "created": "2019-01-29T01:55:00",
          "fiability": 79.82352941176471
         },
         {
          "created": "2019-01-29T02:00:00",
          "fiability": 84.76086956521739
         },
         {
          "created": "2019-01-29T02:05:00",
          "fiability": 80.82474226804123
         },
         {
          "created": "2019-01-29T02:10:00",
          "fiability": 79.29473684210527
         },
         {
          "created": "2019-01-29T02:15:00",
          "fiability": 82.80373831775701
         },
         {
          "created": "2019-01-29T02:20:00",
          "fiability": 83.81739130434782
         },
         {
          "created": "2019-01-29T02:25:00",
          "fiability": 81.8
         },
         {
          "created": "2019-01-29T02:30:00",
          "fiability": 82.75213675213675
         },
         {
          "created": "2019-01-29T02:35:00",
          "fiability": 83.23333333333333
         },
         {
          "created": "2019-01-29T02:40:00",
          "fiability": 82.41935483870968
         },
         {
          "created": "2019-01-29T02:45:00",
          "fiability": 79.0327868852459
         },
         {
          "created": "2019-01-29T02:50:00",
          "fiability": 77.92561983471074
         },
         {
          "created": "2019-01-29T02:55:00",
          "fiability": 82.58407079646018
         },
         {
          "created": "2019-01-29T03:00:00",
          "fiability": 82.58947368421053
         },
         {
          "created": "2019-01-29T03:05:00",
          "fiability": 83.82014388489209
         },
         {
          "created": "2019-01-29T03:10:00",
          "fiability": 83.69767441860465
         },
         {
          "created": "2019-01-29T03:15:00",
          "fiability": 80.81967213114754
         },
         {
          "created": "2019-01-29T03:20:00",
          "fiability": 84.38
         },
         {
          "created": "2019-01-29T03:25:00",
          "fiability": 80.76162790697674
         },
         {
          "created": "2019-01-29T03:30:00",
          "fiability": 80.5
         },
         {
          "created": "2019-01-29T03:35:00",
          "fiability": 80.46625766871166
         },
         {
          "created": "2019-01-29T03:40:00",
          "fiability": 77.38265306122449
         },
         {
          "created": "2019-01-29T03:45:00",
          "fiability": 78.97969543147208
         },
         {
          "created": "2019-01-29T03:50:00",
          "fiability": 79.23936170212765
         },
         {
          "created": "2019-01-29T03:55:00",
          "fiability": 80.80838323353294
         },
         {
          "created": "2019-01-29T04:00:00",
          "fiability": 80.42723004694835
         },
         {
          "created": "2019-01-29T04:05:00",
          "fiability": 80.11650485436893
         },
         {
          "created": "2019-01-29T04:10:00",
          "fiability": 76.76548672566372
         },
         {
          "created": "2019-01-29T04:15:00",
          "fiability": 77.71900826446281
         },
         {
          "created": "2019-01-29T04:20:00",
          "fiability": 78.3489932885906
         },
         {
          "created": "2019-01-29T04:25:00",
          "fiability": 80.37931034482759
         },
         {
          "created": "2019-01-29T04:30:00",
          "fiability": 79.7063953488372
         },
         {
          "created": "2019-01-29T04:35:00",
          "fiability": 78.84550561797752
         },
         {
          "created": "2019-01-29T04:40:00",
          "fiability": 80.65988372093024
         },
         {
          "created": "2019-01-29T04:45:00",
          "fiability": 80.08635097493037
         },
         {
          "created": "2019-01-29T04:50:00",
          "fiability": 79.59217877094972
         },
         {
          "created": "2019-01-29T04:55:00",
          "fiability": 76.50623441396509
         },
         {
          "created": "2019-01-29T05:00:00",
          "fiability": 79.60922330097087
         },
         {
          "created": "2019-01-29T05:05:00",
          "fiability": 79.0857740585774
         },
         {
          "created": "2019-01-29T05:10:00",
          "fiability": 77.20449897750511
         },
         {
          "created": "2019-01-29T05:15:00",
          "fiability": 78.14383561643835
         },
         {
          "created": "2019-01-29T05:20:00",
          "fiability": 79.46951219512195
         },
         {
          "created": "2019-01-29T05:25:00",
          "fiability": 79.5
         },
         {
          "created": "2019-01-29T05:30:00",
          "fiability": 78.03924221921515
         },
         {
          "created": "2019-01-29T05:35:00",
          "fiability": 78.97651421508034
         },
         {
          "created": "2019-01-29T05:40:00",
          "fiability": 77.17142857142858
         },
         {
          "created": "2019-01-29T05:45:00",
          "fiability": 76.54074074074074
         },
         {
          "created": "2019-01-29T05:50:00",
          "fiability": 77.17545638945234
         },
         {
          "created": "2019-01-29T05:55:00",
          "fiability": 77.53627760252365
         },
         {
          "created": "2019-01-29T06:00:00",
          "fiability": 76.4236559139785
         },
         {
          "created": "2019-01-29T06:05:00",
          "fiability": 76.63600395647873
         },
         {
          "created": "2019-01-29T06:10:00",
          "fiability": 75.37715930902111
         },
         {
          "created": "2019-01-29T06:15:00",
          "fiability": 77.28754940711462
         },
         {
          "created": "2019-01-29T06:20:00",
          "fiability": 74.13127001067235
         },
         {
          "created": "2019-01-29T06:25:00",
          "fiability": 74.97260273972603
         },
         {
          "created": "2019-01-29T06:30:00",
          "fiability": 75.18873517786561
         },
         {
          "created": "2019-01-29T06:35:00",
          "fiability": 75.31769305962854
         },
         {
          "created": "2019-01-29T06:40:00",
          "fiability": 73.73206751054852
         },
         {
          "created": "2019-01-29T06:45:00",
          "fiability": 74.55642023346303
         },
         {
          "created": "2019-01-29T06:50:00",
          "fiability": 75.31633714880333
         },
         {
          "created": "2019-01-29T06:55:00",
          "fiability": 76.62589194699287
         },
         {
          "created": "2019-01-29T07:00:00",
          "fiability": 74.46511627906976
         },
         {
          "created": "2019-01-29T07:05:00",
          "fiability": 75.04975609756097
         },
         {
          "created": "2019-01-29T07:10:00",
          "fiability": 75.98916256157635
         },
         {
          "created": "2019-01-29T07:15:00",
          "fiability": 72.99804305283757
         },
         {
          "created": "2019-01-29T07:20:00",
          "fiability": 73.98094282848545
         },
         {
          "created": "2019-01-29T07:25:00",
          "fiability": 76.6014558689718
         },
         {
          "created": "2019-01-29T07:30:00",
          "fiability": 75.62040816326531
         },
         {
          "created": "2019-01-29T07:35:00",
          "fiability": 76.49528005034612
         },
         {
          "created": "2019-01-29T07:40:00",
          "fiability": 79.14485729671513
         },
         {
          "created": "2019-01-29T07:45:00",
          "fiability": 79.3495
         },
         {
          "created": "2019-01-29T07:50:00",
          "fiability": 79.63946587537092
         },
         {
          "created": "2019-01-29T07:55:00",
          "fiability": 80.0771878072763
         },
         {
          "created": "2019-01-29T08:00:00",
          "fiability": 79.78680452978828
         },
         {
          "created": "2019-01-29T08:05:00",
          "fiability": 80.07007575757575
         },
         {
          "created": "2019-01-29T08:10:00",
          "fiability": 79.97506112469438
         },
         {
          "created": "2019-01-29T08:15:00",
          "fiability": 79.86245353159852
         },
         {
          "created": "2019-01-29T08:20:00",
          "fiability": 81.8364462392731
         },
         {
          "created": "2019-01-29T08:25:00",
          "fiability": 81.2882096069869
         },
         {
          "created": "2019-01-29T08:30:00",
          "fiability": 81.68029556650247
         },
         {
          "created": "2019-01-29T08:35:00",
          "fiability": 81.27835562159486
         },
         {
          "created": "2019-01-29T08:40:00",
          "fiability": 80.99434229137199
         },
         {
          "created": "2019-01-29T08:45:00",
          "fiability": 81.07898320472084
         },
         {
          "created": "2019-01-29T08:50:00",
          "fiability": 81.87757973733584
         },
         {
          "created": "2019-01-29T08:55:00",
          "fiability": 82.40428571428572
         },
         {
          "created": "2019-01-29T09:00:00",
          "fiability": 82.69659595461273
         },
         {
          "created": "2019-01-29T09:05:00",
          "fiability": 82.33366336633664
         },
         {
          "created": "2019-01-29T09:10:00",
          "fiability": 83.18592233009709
         },
         {
          "created": "2019-01-29T09:15:00",
          "fiability": 82.35193564605329
         },
         {
          "created": "2019-01-29T09:20:00",
          "fiability": 81.28747433264887
         },
         {
          "created": "2019-01-29T09:25:00",
          "fiability": 82.3850630455868
         },
         {
          "created": "2019-01-29T09:30:00",
          "fiability": 81.46458642892522
         },
         {
          "created": "2019-01-29T09:35:00",
          "fiability": 83.51206030150753
         },
         {
          "created": "2019-01-29T09:40:00",
          "fiability": 82.42337536372455
         },
         {
          "created": "2019-01-29T09:45:00",
          "fiability": 81.99308641975308
         },
         {
          "created": "2019-01-29T09:50:00",
          "fiability": 81.60634605850272
         },
         {
          "created": "2019-01-29T09:55:00",
          "fiability": 81.94071762870514
         },
         {
          "created": "2019-01-29T10:00:00",
          "fiability": 83.07684478371502
         },
         {
          "created": "2019-01-29T10:05:00",
          "fiability": 81.98319755600815
         },
         {
          "created": "2019-01-29T10:10:00",
          "fiability": 81.77230769230769
         },
         {
          "created": "2019-01-29T10:15:00",
          "fiability": 81.98317664522514
         },
         {
          "created": "2019-01-29T10:20:00",
          "fiability": 81.85505787619527
         },
         {
          "created": "2019-01-29T10:25:00",
          "fiability": 81.0985
         },
         {
          "created": "2019-01-29T10:30:00",
          "fiability": 81.08109477952357
         },
         {
          "created": "2019-01-29T10:35:00",
          "fiability": 82.25
         },
         {
          "created": "2019-01-29T10:40:00",
          "fiability": 81.72647058823529
         },
         {
          "created": "2019-01-29T10:45:00",
          "fiability": 81.84631043256998
         },
         {
          "created": "2019-01-29T10:50:00",
          "fiability": 81.28222109016811
         },
         {
          "created": "2019-01-29T10:55:00",
          "fiability": 81.15423901940756
         },
         {
          "created": "2019-01-29T11:00:00",
          "fiability": 79.82292787944026
         },
         {
          "created": "2019-01-29T11:05:00",
          "fiability": 80.82178217821782
         },
         {
          "created": "2019-01-29T11:10:00",
          "fiability": 80.59729448491154
         },
         {
          "created": "2019-01-29T11:15:00",
          "fiability": 80.5796645702306
         },
         {
          "created": "2019-01-29T11:20:00",
          "fiability": 80.58288770053476
         },
         {
          "created": "2019-01-29T11:25:00",
          "fiability": 80.11611876988336
         },
         {
          "created": "2019-01-29T11:30:00",
          "fiability": 81.54530386740332
         },
         {
          "created": "2019-01-29T11:35:00",
          "fiability": 81.371581769437
         },
         {
          "created": "2019-01-29T11:40:00",
          "fiability": 80.99301450832886
         },
         {
          "created": "2019-01-29T11:45:00",
          "fiability": 81.15459989112684
         },
         {
          "created": "2019-01-29T11:50:00",
          "fiability": 82.25185972369819
         },
         {
          "created": "2019-01-29T11:55:00",
          "fiability": 80.83901621017328
         },
         {
          "created": "2019-01-29T12:00:00",
          "fiability": 82.54097421203439
         },
         {
          "created": "2019-01-29T12:05:00",
          "fiability": 83.20786846741045
         },
         {
          "created": "2019-01-29T12:10:00",
          "fiability": 81.32588235294118
         },
         {
          "created": "2019-01-29T12:15:00",
          "fiability": 83.27235050325636
         },
         {
          "created": "2019-01-29T12:20:00",
          "fiability": 84.18006644518272
         },
         {
          "created": "2019-01-29T12:25:00",
          "fiability": 84.54920634920634
         },
         {
          "created": "2019-01-29T12:30:00",
          "fiability": 83.7514600908501
         },
         {
          "created": "2019-01-29T12:35:00",
          "fiability": 82.98972188633616
         },
         {
          "created": "2019-01-29T12:40:00",
          "fiability": 84.25014961101137
         },
         {
          "created": "2019-01-29T12:45:00",
          "fiability": 84.409726443769
         },
         {
          "created": "2019-01-29T12:50:00",
          "fiability": 84.84303797468354
         },
         {
          "created": "2019-01-29T12:55:00",
          "fiability": 85.70214236351072
         },
         {
          "created": "2019-01-29T13:00:00",
          "fiability": 83.94701086956522
         },
         {
          "created": "2019-01-29T13:05:00",
          "fiability": 83.53985742060921
         },
         {
          "created": "2019-01-29T13:10:00",
          "fiability": 83.61695347355003
         },
         {
          "created": "2019-01-29T13:15:00",
          "fiability": 84.14585987261147
         },
         {
          "created": "2019-01-29T13:20:00",
          "fiability": 83.67525125628141
         },
         {
          "created": "2019-01-29T13:25:00",
          "fiability": 84.61413383364602
         },
         {
          "created": "2019-01-29T13:30:00",
          "fiability": 84.31105710814094
         },
         {
          "created": "2019-01-29T13:35:00",
          "fiability": 83.35509456985967
         },
         {
          "created": "2019-01-29T13:40:00",
          "fiability": 83.74247080516288
         },
         {
          "created": "2019-01-29T13:45:00",
          "fiability": 84.43320363164722
         },
         {
          "created": "2019-01-29T13:50:00",
          "fiability": 82.93966059082338
         },
         {
          "created": "2019-01-29T13:55:00",
          "fiability": 83.57549504950495
         },
         {
          "created": "2019-01-29T14:00:00",
          "fiability": 84.6543438077634
         },
         {
          "created": "2019-01-29T14:05:00",
          "fiability": 83.93949970913322
         },
         {
          "created": "2019-01-29T14:10:00",
          "fiability": 82.65530948324816
         },
         {
          "created": "2019-01-29T14:15:00",
          "fiability": 83.71302298173246
         },
         {
          "created": "2019-01-29T14:20:00",
          "fiability": 83.02781065088757
         },
         {
          "created": "2019-01-29T14:25:00",
          "fiability": 82.66529653552554
         },
         {
          "created": "2019-01-29T14:30:00",
          "fiability": 81.8041055718475
         },
         {
          "created": "2019-01-29T14:35:00",
          "fiability": 80.62821888412017
         },
         {
          "created": "2019-01-29T14:40:00",
          "fiability": 80.46115537848605
         },
         {
          "created": "2019-01-29T14:45:00",
          "fiability": 79.32738626226583
         },
         {
          "created": "2019-01-29T14:50:00",
          "fiability": 81.6917808219178
         },
         {
          "created": "2019-01-29T14:55:00",
          "fiability": 82.6727589208007
         },
         {
          "created": "2019-01-29T15:00:00",
          "fiability": 82.48710482529118
         },
         {
          "created": "2019-01-29T15:05:00",
          "fiability": 82.38271086865296
         },
         {
          "created": "2019-01-29T15:10:00",
          "fiability": 82.2072072072072
         },
         {
          "created": "2019-01-29T15:15:00",
          "fiability": 81.61606782398063
         },
         {
          "created": "2019-01-29T15:20:00",
          "fiability": 82.21753653444677
         },
         {
          "created": "2019-01-29T15:25:00",
          "fiability": 82.19649262654444
         },
         {
          "created": "2019-01-29T15:30:00",
          "fiability": 81.2000826787929
         },
         {
          "created": "2019-01-29T15:35:00",
          "fiability": 82.58760683760684
         },
         {
          "created": "2019-01-29T15:40:00",
          "fiability": 81.66693548387097
         },
         {
          "created": "2019-01-29T15:45:00",
          "fiability": 80.72301854974705
         },
         {
          "created": "2019-01-29T15:50:00",
          "fiability": 81.96417197452229
         },
         {
          "created": "2019-01-29T15:55:00",
          "fiability": 81.36605229318474
         },
         {
          "created": "2019-01-29T16:00:00",
          "fiability": 82.9607201309329
         },
         {
          "created": "2019-01-29T16:05:00",
          "fiability": 81.12594358363131
         },
         {
          "created": "2019-01-29T16:10:00",
          "fiability": 80.71434707903781
         },
         {
          "created": "2019-01-29T16:15:00",
          "fiability": 81.60324054840049
         },
         {
          "created": "2019-01-29T16:20:00",
          "fiability": 83.71277573529412
         },
         {
          "created": "2019-01-29T16:25:00",
          "fiability": 81.57894736842105
         },
         {
          "created": "2019-01-29T16:30:00",
          "fiability": 79.91437728937728
         },
         {
          "created": "2019-01-29T16:35:00",
          "fiability": 80.47169811320755
         },
         {
          "created": "2019-01-29T16:40:00",
          "fiability": 78.02553191489362
         },
         {
          "created": "2019-01-29T16:45:00",
          "fiability": 77.56608741442865
         },
         {
          "created": "2019-01-29T16:50:00",
          "fiability": 78.61177028951116
         },
         {
          "created": "2019-01-29T16:55:00",
          "fiability": 77.85775656324583
         },
         {
          "created": "2019-01-29T17:00:00",
          "fiability": 77.2741585233442
         },
         {
          "created": "2019-01-29T17:05:00",
          "fiability": 76.54913294797687
         },
         {
          "created": "2019-01-29T17:10:00",
          "fiability": 76.5897597977244
         },
         {
          "created": "2019-01-29T17:15:00",
          "fiability": 76.93001261034048
         },
         {
          "created": "2019-01-29T17:20:00",
          "fiability": 78.6842105263158
         },
         {
          "created": "2019-01-29T17:25:00",
          "fiability": 78.7156862745098
         },
         {
          "created": "2019-01-29T17:30:00",
          "fiability": 79.27152831652444
         },
         {
          "created": "2019-01-29T17:35:00",
          "fiability": 78.5739736638265
         },
         {
          "created": "2019-01-29T17:40:00",
          "fiability": 79.86463223787167
         },
         {
          "created": "2019-01-29T17:45:00",
          "fiability": 78.07226107226107
         },
         {
          "created": "2019-01-29T17:50:00",
          "fiability": 79.35594573024741
         },
         {
          "created": "2019-01-29T17:55:00",
          "fiability": 78.60726072607261
         },
         {
          "created": "2019-01-29T18:00:00",
          "fiability": 79.2931654676259
         },
         {
          "created": "2019-01-29T18:05:00",
          "fiability": 78.66198419666374
         },
         {
          "created": "2019-01-29T18:10:00",
          "fiability": 78.59641638225256
         },
         {
          "created": "2019-01-29T18:15:00",
          "fiability": 78.0605504587156
         },
         {
          "created": "2019-01-29T18:20:00",
          "fiability": 79.57052441229656
         },
         {
          "created": "2019-01-29T18:25:00",
          "fiability": 80.40155945419103
         },
         {
          "created": "2019-01-29T18:30:00",
          "fiability": 79.30723488602577
         },
         {
          "created": "2019-01-29T18:35:00",
          "fiability": 77.43003064351379
         },
         {
          "created": "2019-01-29T18:40:00",
          "fiability": 80.33566433566433
         },
         {
          "created": "2019-01-29T18:45:00",
          "fiability": 80.80194805194805
         },
         {
          "created": "2019-01-29T18:50:00",
          "fiability": 79.70270270270271
         },
         {
          "created": "2019-01-29T18:55:00",
          "fiability": 80.83353293413174
         },
         {
          "created": "2019-01-29T19:00:00",
          "fiability": 80.43055555555556
         },
         {
          "created": "2019-01-29T19:05:00",
          "fiability": 78.24076433121019
         },
         {
          "created": "2019-01-29T19:10:00",
          "fiability": 80.38744884038199
         },
         {
          "created": "2019-01-29T19:15:00",
          "fiability": 80.13962765957447
         },
         {
          "created": "2019-01-29T19:20:00",
          "fiability": 79.12907608695652
         },
         {
          "created": "2019-01-29T19:25:00",
          "fiability": 82.19492868462757
         },
         {
          "created": "2019-01-29T19:30:00",
          "fiability": 81.88701517706576
         },
         {
          "created": "2019-01-29T19:35:00",
          "fiability": 79.8713550600343
         },
         {
          "created": "2019-01-29T19:40:00",
          "fiability": 82.340830449827
         },
         {
          "created": "2019-01-29T19:45:00",
          "fiability": 80.44741873804972
         },
         {
          "created": "2019-01-29T19:50:00",
          "fiability": 81.17590822179733
         },
         {
          "created": "2019-01-29T19:55:00",
          "fiability": 79.83333333333333
         },
         {
          "created": "2019-01-29T20:00:00",
          "fiability": 78.43913043478261
         },
         {
          "created": "2019-01-29T20:05:00",
          "fiability": 80.71488469601677
         },
         {
          "created": "2019-01-29T20:10:00",
          "fiability": 79.04444444444445
         },
         {
          "created": "2019-01-29T20:15:00",
          "fiability": 81.27645788336933
         },
         {
          "created": "2019-01-29T20:20:00",
          "fiability": 80.71929824561404
         },
         {
          "created": "2019-01-29T20:25:00",
          "fiability": 80.5580808080808
         },
         {
          "created": "2019-01-29T20:30:00",
          "fiability": 79.94722955145119
         },
         {
          "created": "2019-01-29T20:35:00",
          "fiability": 81.37956204379562
         },
         {
          "created": "2019-01-29T20:40:00",
          "fiability": 80.66969696969697
         },
         {
          "created": "2019-01-29T20:45:00",
          "fiability": 81.98382749326146
         },
         {
          "created": "2019-01-29T20:50:00",
          "fiability": 80.95336787564767
         },
         {
          "created": "2019-01-29T20:55:00",
          "fiability": 81.85340314136126
         },
         {
          "created": "2019-01-29T21:00:00",
          "fiability": 80.7784090909091
         },
         {
          "created": "2019-01-29T21:05:00",
          "fiability": 79.0650406504065
         },
         {
          "created": "2019-01-29T21:10:00",
          "fiability": 76.76964769647697
         },
         {
          "created": "2019-01-29T21:15:00",
          "fiability": 80.88328912466844
         },
         {
          "created": "2019-01-29T21:20:00",
          "fiability": 80.40668523676881
         },
         {
          "created": "2019-01-29T21:25:00",
          "fiability": 80.31952662721893
         },
         {
          "created": "2019-01-29T21:30:00",
          "fiability": 78.50809061488673
         },
         {
          "created": "2019-01-29T21:35:00",
          "fiability": 81.73252279635258
         },
         {
          "created": "2019-01-29T21:40:00",
          "fiability": 81.23489932885906
         },
         {
          "created": "2019-01-29T21:45:00",
          "fiability": 80.57394366197182
         },
         {
          "created": "2019-01-29T21:50:00",
          "fiability": 79.11842105263158
         },
         {
          "created": "2019-01-29T21:55:00",
          "fiability": 78.9467680608365
         },
         {
          "created": "2019-01-29T22:00:00",
          "fiability": 82.40344827586208
         },
         {
          "created": "2019-01-29T22:05:00",
          "fiability": 79.71375464684014
         },
         {
          "created": "2019-01-29T22:10:00",
          "fiability": 78.13924050632912
         },
         {
          "created": "2019-01-29T22:15:00",
          "fiability": 79.89830508474576
         },
         {
          "created": "2019-01-29T22:20:00",
          "fiability": 81.75954198473282
         },
         {
          "created": "2019-01-29T22:25:00",
          "fiability": 80.55319148936171
         },
         {
          "created": "2019-01-29T22:30:00",
          "fiability": 81.56275303643724
         },
         {
          "created": "2019-01-29T22:35:00",
          "fiability": 80.87179487179488
         },
         {
          "created": "2019-01-29T22:40:00",
          "fiability": 81.85344827586206
         },
         {
          "created": "2019-01-29T22:45:00",
          "fiability": 83.50251256281408
         },
         {
          "created": "2019-01-29T22:50:00",
          "fiability": 79.22485207100591
         },
         {
          "created": "2019-01-29T22:55:00",
          "fiability": 81.39673913043478
         },
         {
          "created": "2019-01-29T23:00:00",
          "fiability": 81.93181818181819
         },
         {
          "created": "2019-01-29T23:05:00",
          "fiability": 80.27272727272727
         },
         {
          "created": "2019-01-29T23:10:00",
          "fiability": 81.44375
         },
         {
          "created": "2019-01-29T23:15:00",
          "fiability": 81.38271604938272
         },
         {
          "created": "2019-01-29T23:20:00",
          "fiability": 82.7516339869281
         },
         {
          "created": "2019-01-29T23:25:00",
          "fiability": 83.23489932885906
         },
         {
          "created": "2019-01-29T23:30:00",
          "fiability": 84.57792207792208
         },
         {
          "created": "2019-01-29T23:35:00",
          "fiability": 83.31297709923665
         },
         {
          "created": "2019-01-29T23:40:00",
          "fiability": 86.3391304347826
         },
         {
          "created": "2019-01-29T23:45:00",
          "fiability": 81.5187969924812
         },
         {
          "created": "2019-01-29T23:50:00",
          "fiability": 82.56115107913669
         },
         {
          "created": "2019-01-29T23:55:00",
          "fiability": 86.36029411764706
         },
         {
          "created": "2019-01-30T00:00:00",
          "fiability": 85.5
         },
         {
          "created": "2019-01-30T00:05:00",
          "fiability": 85.23387096774194
         },
         {
          "created": "2019-01-30T00:10:00",
          "fiability": 85.03174603174604
         },
         {
          "created": "2019-01-30T00:15:00",
          "fiability": 85.61481481481482
         },
         {
          "created": "2019-01-30T00:20:00",
          "fiability": 87.06896551724138
         },
         {
          "created": "2019-01-30T00:25:00",
          "fiability": 83.4186046511628
         },
         {
          "created": "2019-01-30T00:30:00",
          "fiability": 84.65765765765765
         },
         {
          "created": "2019-01-30T00:35:00",
          "fiability": 81.71681415929204
         },
         {
          "created": "2019-01-30T00:40:00",
          "fiability": 86.59130434782608
         },
         {
          "created": "2019-01-30T00:45:00",
          "fiability": 84.70769230769231
         },
         {
          "created": "2019-01-30T00:50:00",
          "fiability": 89.26126126126127
         },
         {
          "created": "2019-01-30T00:55:00",
          "fiability": 84.08411214953271
         },
         {
          "created": "2019-01-30T01:00:00",
          "fiability": 81.14
         },
         {
          "created": "2019-01-30T01:05:00",
          "fiability": 83.73983739837398
         },
         {
          "created": "2019-01-30T01:10:00",
          "fiability": 87.77586206896552
         },
         {
          "created": "2019-01-30T01:15:00",
          "fiability": 85.06122448979592
         },
         {
          "created": "2019-01-30T01:20:00",
          "fiability": 87.01754385964912
         },
         {
          "created": "2019-01-30T01:25:00",
          "fiability": 84.27
         },
         {
          "created": "2019-01-30T01:30:00",
          "fiability": 84.45283018867924
         },
         {
          "created": "2019-01-30T01:35:00",
          "fiability": 84.64347826086957
         },
         {
          "created": "2019-01-30T01:40:00",
          "fiability": 80.29126213592232
         },
         {
          "created": "2019-01-30T01:45:00",
          "fiability": 83
         },
         {
          "created": "2019-01-30T01:50:00",
          "fiability": 86.47540983606558
         },
         {
          "created": "2019-01-30T01:55:00",
          "fiability": 85.54545454545455
         },
         {
          "created": "2019-01-30T02:00:00",
          "fiability": 84.91666666666667
         },
         {
          "created": "2019-01-30T02:05:00",
          "fiability": 85.11111111111111
         },
         {
          "created": "2019-01-30T02:10:00",
          "fiability": 85.40579710144928
         },
         {
          "created": "2019-01-30T02:15:00",
          "fiability": 84.54330708661418
         },
         {
          "created": "2019-01-30T02:20:00",
          "fiability": 85.6830985915493
         },
         {
          "created": "2019-01-30T02:25:00",
          "fiability": 85.68148148148148
         },
         {
          "created": "2019-01-30T02:30:00",
          "fiability": 87.39097744360902
         },
         {
          "created": "2019-01-30T02:35:00",
          "fiability": 85.14864864864865
         },
         {
          "created": "2019-01-30T02:40:00",
          "fiability": 81.84848484848484
         },
         {
          "created": "2019-01-30T02:45:00",
          "fiability": 81.9037037037037
         },
         {
          "created": "2019-01-30T02:50:00",
          "fiability": 84.3082191780822
         },
         {
          "created": "2019-01-30T02:55:00",
          "fiability": 83.76978417266187
         },
         {
          "created": "2019-01-30T03:00:00",
          "fiability": 82.95744680851064
         },
         {
          "created": "2019-01-30T03:05:00",
          "fiability": 84.61073825503355
         },
         {
          "created": "2019-01-30T03:10:00",
          "fiability": 84.52592592592593
         },
         {
          "created": "2019-01-30T03:15:00",
          "fiability": 81.70860927152317
         },
         {
          "created": "2019-01-30T03:20:00",
          "fiability": 81.71090047393365
         },
         {
          "created": "2019-01-30T03:25:00",
          "fiability": 83.57865168539325
         },
         {
          "created": "2019-01-30T03:30:00",
          "fiability": 82.11822660098522
         },
         {
          "created": "2019-01-30T03:35:00",
          "fiability": 83.27309236947791
         },
         {
          "created": "2019-01-30T03:40:00",
          "fiability": 78.00892857142857
         },
         {
          "created": "2019-01-30T03:45:00",
          "fiability": 78.2843137254902
         },
         {
          "created": "2019-01-30T03:50:00",
          "fiability": 79.38039215686274
         },
         {
          "created": "2019-01-30T03:55:00",
          "fiability": 81.76086956521739
         },
         {
          "created": "2019-01-30T04:00:00",
          "fiability": 83.05527638190955
         },
         {
          "created": "2019-01-30T04:05:00",
          "fiability": 80.775
         },
         {
          "created": "2019-01-30T04:10:00",
          "fiability": 81.80632411067194
         },
         {
          "created": "2019-01-30T04:15:00",
          "fiability": 80.86029411764706
         },
         {
          "created": "2019-01-30T04:20:00",
          "fiability": 82.15217391304348
         },
         {
          "created": "2019-01-30T04:25:00",
          "fiability": 81.2135922330097
         },
         {
          "created": "2019-01-30T04:30:00",
          "fiability": 80.61213720316623
         },
         {
          "created": "2019-01-30T04:35:00",
          "fiability": 79.35612535612536
         },
         {
          "created": "2019-01-30T04:40:00",
          "fiability": 80.17942583732058
         },
         {
          "created": "2019-01-30T04:45:00",
          "fiability": 81.11397849462365
         },
         {
          "created": "2019-01-30T04:50:00",
          "fiability": 79.90801886792453
         },
         {
          "created": "2019-01-30T04:55:00",
          "fiability": 81.07317073170732
         },
         {
          "created": "2019-01-30T05:00:00",
          "fiability": 82.1270207852194
         },
         {
          "created": "2019-01-30T05:05:00",
          "fiability": 81.84067085953879
         },
         {
          "created": "2019-01-30T05:10:00",
          "fiability": 79.86467486818981
         },
         {
          "created": "2019-01-30T05:15:00",
          "fiability": 80.55919003115265
         },
         {
          "created": "2019-01-30T05:20:00",
          "fiability": 81.47707736389685
         },
         {
          "created": "2019-01-30T05:25:00",
          "fiability": 80.39322916666667
         },
         {
          "created": "2019-01-30T05:30:00",
          "fiability": 80.52
         },
         {
          "created": "2019-01-30T05:35:00",
          "fiability": 79.36813186813187
         },
         {
          "created": "2019-01-30T05:40:00",
          "fiability": 81.20541082164328
         },
         {
          "created": "2019-01-30T05:45:00",
          "fiability": 79.35858101629914
         },
         {
          "created": "2019-01-30T05:50:00",
          "fiability": 79.08518518518518
         },
         {
          "created": "2019-01-30T05:55:00",
          "fiability": 78.71468662301216
         },
         {
          "created": "2019-01-30T06:00:00",
          "fiability": 77.23012160898035
         },
         {
          "created": "2019-01-30T06:05:00",
          "fiability": 77.4629963898917
         },
         {
          "created": "2019-01-30T06:10:00",
          "fiability": 76.58928571428571
         },
         {
          "created": "2019-01-30T06:15:00",
          "fiability": 76.72627737226277
         },
         {
          "created": "2019-01-30T06:20:00",
          "fiability": 77.50933333333333
         },
         {
          "created": "2019-01-30T06:25:00",
          "fiability": 76.70818181818181
         },
         {
          "created": "2019-01-30T06:30:00",
          "fiability": 76.23695198329854
         },
         {
          "created": "2019-01-30T06:35:00",
          "fiability": 76.80909901873328
         },
         {
          "created": "2019-01-30T06:40:00",
          "fiability": 75.71628371628371
         },
         {
          "created": "2019-01-30T06:45:00",
          "fiability": 75.67822736030828
         },
         {
          "created": "2019-01-30T06:50:00",
          "fiability": 76.28236493374108
         },
         {
          "created": "2019-01-30T06:55:00",
          "fiability": 76.33263816475495
         },
         {
          "created": "2019-01-30T07:00:00",
          "fiability": 74.02467917077986
         },
         {
          "created": "2019-01-30T07:05:00",
          "fiability": 75.58414872798434
         },
         {
          "created": "2019-01-30T07:10:00",
          "fiability": 75.5438282647585
         },
         {
          "created": "2019-01-30T07:15:00",
          "fiability": 77.28524319868096
         },
         {
          "created": "2019-01-30T07:20:00",
          "fiability": 79.46078431372548
         },
         {
          "created": "2019-01-30T07:25:00",
          "fiability": 79.57069076823757
         },
         {
          "created": "2019-01-30T07:30:00",
          "fiability": 78.0200458190149
         },
         {
          "created": "2019-01-30T07:35:00",
          "fiability": 78.23732357553581
         },
         {
          "created": "2019-01-30T07:40:00",
          "fiability": 80.01681127982647
         },
         {
          "created": "2019-01-30T07:45:00",
          "fiability": 80.25984654731458
         },
         {
          "created": "2019-01-30T07:50:00",
          "fiability": 79.83563918096293
         },
         {
          "created": "2019-01-30T07:55:00",
          "fiability": 81.47038527889592
         },
         {
          "created": "2019-01-30T08:00:00",
          "fiability": 80.5970515970516
         },
         {
          "created": "2019-01-30T08:05:00",
          "fiability": 82.59597806215722
         },
         {
          "created": "2019-01-30T08:10:00",
          "fiability": 81.39176470588235
         },
         {
          "created": "2019-01-30T08:15:00",
          "fiability": 79.13848920863309
         },
         {
          "created": "2019-01-30T08:20:00",
          "fiability": 80.19328703703704
         },
         {
          "created": "2019-01-30T08:25:00",
          "fiability": 80.3713009491904
         },
         {
          "created": "2019-01-30T08:30:00",
          "fiability": 79.99428897772701
         },
         {
          "created": "2019-01-30T08:35:00",
          "fiability": 79.77291543465405
         },
         {
          "created": "2019-01-30T08:40:00",
          "fiability": 80.57925072046109
         },
         {
          "created": "2019-01-30T08:45:00",
          "fiability": 79.52267932489451
         },
         {
          "created": "2019-01-30T08:50:00",
          "fiability": 80.58203799654576
         },
         {
          "created": "2019-01-30T08:55:00",
          "fiability": 80.16846284741918
         },
         {
          "created": "2019-01-30T09:00:00",
          "fiability": 81.32857142857142
         },
         {
          "created": "2019-01-30T09:05:00",
          "fiability": 81.23774954627949
         },
         {
          "created": "2019-01-30T09:10:00",
          "fiability": 81.53367579908675
         },
         {
          "created": "2019-01-30T09:15:00",
          "fiability": 80.52184320766008
         },
         {
          "created": "2019-01-30T09:20:00",
          "fiability": 80.3331415420023
         },
         {
          "created": "2019-01-30T09:25:00",
          "fiability": 81.35339233038349
         },
         {
          "created": "2019-01-30T09:30:00",
          "fiability": 80.50221975582686
         },
         {
          "created": "2019-01-30T09:35:00",
          "fiability": 80.43693421846712
         },
         {
          "created": "2019-01-30T09:40:00",
          "fiability": 81.26027397260275
         },
         {
          "created": "2019-01-30T09:45:00",
          "fiability": 80.02956521739131
         },
         {
          "created": "2019-01-30T09:50:00",
          "fiability": 79.9144013880856
         },
         {
          "created": "2019-01-30T09:55:00",
          "fiability": 81.83995327102804
         },
         {
          "created": "2019-01-30T10:00:00",
          "fiability": 82.97073440088349
         },
         {
          "created": "2019-01-30T10:05:00",
          "fiability": 80.95504322766571
         },
         {
          "created": "2019-01-30T10:10:00",
          "fiability": 80.31775180856984
         },
         {
          "created": "2019-01-30T10:15:00",
          "fiability": 82.97482837528604
         },
         {
          "created": "2019-01-30T10:20:00",
          "fiability": 84.4750608272506
         },
         {
          "created": "2019-01-30T10:25:00",
          "fiability": 83.76980661260137
         },
         {
          "created": "2019-01-30T10:30:00",
          "fiability": 82.58168147641832
         },
         {
          "created": "2019-01-30T10:35:00",
          "fiability": 84.46531413612566
         },
         {
          "created": "2019-01-30T10:40:00",
          "fiability": 83.20292747837658
         },
         {
          "created": "2019-01-30T10:45:00",
          "fiability": 81.89583333333333
         },
         {
          "created": "2019-01-30T10:50:00",
          "fiability": 80.95069953364424
         },
         {
          "created": "2019-01-30T10:55:00",
          "fiability": 80.91546649968691
         },
         {
          "created": "2019-01-30T11:00:00",
          "fiability": 82.88275862068966
         },
         {
          "created": "2019-01-30T11:05:00",
          "fiability": 80.28554360812426
         },
         {
          "created": "2019-01-30T11:10:00",
          "fiability": 79.71800679501699
         },
         {
          "created": "2019-01-30T11:15:00",
          "fiability": 79.26015367727771
         },
         {
          "created": "2019-01-30T11:20:00",
          "fiability": 80.13412017167381
         },
         {
          "created": "2019-01-30T11:25:00",
          "fiability": 80.22523519645821
         },
         {
          "created": "2019-01-30T11:30:00",
          "fiability": 79.17976843388178
         },
         {
          "created": "2019-01-30T11:35:00",
          "fiability": 82.70166073546856
         },
         {
          "created": "2019-01-30T11:40:00",
          "fiability": 82.40443896424168
         },
         {
          "created": "2019-01-30T11:45:00",
          "fiability": 82.55
         },
         {
          "created": "2019-01-30T11:50:00",
          "fiability": 81.6599713055954
         },
         {
          "created": "2019-01-30T11:55:00",
          "fiability": 81.39837398373983
         },
         {
          "created": "2019-01-30T12:00:00",
          "fiability": 79.8477508650519
         },
         {
          "created": "2019-01-30T12:05:00",
          "fiability": 81.2486388384755
         },
         {
          "created": "2019-01-30T12:10:00",
          "fiability": 79.71545667447307
         },
         {
          "created": "2019-01-30T12:15:00",
          "fiability": 79.6768038163387
         },
         {
          "created": "2019-01-30T12:20:00",
          "fiability": 79.45017793594306
         },
         {
          "created": "2019-01-30T12:25:00",
          "fiability": 79.16052183777651
         },
         {
          "created": "2019-01-30T12:30:00",
          "fiability": 80.43008225616921
         },
         {
          "created": "2019-01-30T12:35:00",
          "fiability": 80.50136686714052
         },
         {
          "created": "2019-01-30T12:40:00",
          "fiability": 80.84415584415585
         },
         {
          "created": "2019-01-30T12:45:00",
          "fiability": 81.97667638483965
         },
         {
          "created": "2019-01-30T12:50:00",
          "fiability": 83.67810880829016
         },
         {
          "created": "2019-01-30T12:55:00",
          "fiability": 80.56642335766423
         },
         {
          "created": "2019-01-30T13:00:00",
          "fiability": 80.79147640791476
         },
         {
          "created": "2019-01-30T13:05:00",
          "fiability": 79.1343949044586
         },
         {
          "created": "2019-01-30T13:10:00",
          "fiability": 82.0723951285521
         },
         {
          "created": "2019-01-30T13:15:00",
          "fiability": 83.07546048722519
         },
         {
          "created": "2019-01-30T13:20:00",
          "fiability": 81.1891891891892
         },
         {
          "created": "2019-01-30T13:25:00",
          "fiability": 81.05508233957978
         },
         {
          "created": "2019-01-30T13:30:00",
          "fiability": 81.6094972067039
         },
         {
          "created": "2019-01-30T13:35:00",
          "fiability": 80.74553828439839
         },
         {
          "created": "2019-01-30T13:40:00",
          "fiability": 80.33257918552036
         },
         {
          "created": "2019-01-30T13:45:00",
          "fiability": 78.79953243717125
         },
         {
          "created": "2019-01-30T13:50:00",
          "fiability": 80.01780745687256
         },
         {
          "created": "2019-01-30T13:55:00",
          "fiability": 78.9051094890511
         },
         {
          "created": "2019-01-30T14:00:00",
          "fiability": 78.86433013001695
         },
         {
          "created": "2019-01-30T14:05:00",
          "fiability": 80.73172072567344
         },
         {
          "created": "2019-01-30T14:10:00",
          "fiability": 80.8205546492659
         },
         {
          "created": "2019-01-30T14:15:00",
          "fiability": 80.28806366047745
         },
         {
          "created": "2019-01-30T14:20:00",
          "fiability": 80.27642679900744
         },
         {
          "created": "2019-01-30T14:25:00",
          "fiability": 80.2019758507135
         },
         {
          "created": "2019-01-30T14:30:00",
          "fiability": 80.71604938271605
         },
         {
          "created": "2019-01-30T14:35:00",
          "fiability": 81.5120822622108
         },
         {
          "created": "2019-01-30T14:40:00",
          "fiability": 81.13079729025534
         },
         {
          "created": "2019-01-30T14:45:00",
          "fiability": 81.25827455236028
         },
         {
          "created": "2019-01-30T14:50:00",
          "fiability": 81.28881469115191
         },
         {
          "created": "2019-01-30T14:55:00",
          "fiability": 82.57674943566592
         },
         {
          "created": "2019-01-30T15:00:00",
          "fiability": 82.26070038910505
         },
         {
          "created": "2019-01-30T15:05:00",
          "fiability": 81.204653622422
         },
         {
          "created": "2019-01-30T15:10:00",
          "fiability": 80.40873786407766
         },
         {
          "created": "2019-01-30T15:15:00",
          "fiability": 80.36022514071294
         },
         {
          "created": "2019-01-30T15:20:00",
          "fiability": 81.06708975521306
         },
         {
          "created": "2019-01-30T15:25:00",
          "fiability": 80.9410199556541
         },
         {
          "created": "2019-01-30T15:30:00",
          "fiability": 80.72226962457339
         },
         {
          "created": "2019-01-30T15:35:00",
          "fiability": 79.93333333333334
         },
         {
          "created": "2019-01-30T15:40:00",
          "fiability": 80.00782214903252
         },
         {
          "created": "2019-01-30T15:45:00",
          "fiability": 81.30562659846548
         },
         {
          "created": "2019-01-30T15:50:00",
          "fiability": 82.03157457415871
         },
         {
          "created": "2019-01-30T15:55:00",
          "fiability": 80.05844675740593
         },
         {
          "created": "2019-01-30T16:00:00",
          "fiability": 78.83168724279835
         },
         {
          "created": "2019-01-30T16:05:00",
          "fiability": 78.8552477565353
         },
         {
          "created": "2019-01-30T16:10:00",
          "fiability": 80.34214680347277
         },
         {
          "created": "2019-01-30T16:15:00",
          "fiability": 80.43057722308892
         },
         {
          "created": "2019-01-30T16:20:00",
          "fiability": 82.27697701597195
         },
         {
          "created": "2019-01-30T16:25:00",
          "fiability": 82.75885668276973
         },
         {
          "created": "2019-01-30T16:30:00",
          "fiability": 82.55137540453075
         },
         {
          "created": "2019-01-30T16:35:00",
          "fiability": 82.61954261954261
         },
         {
          "created": "2019-01-30T16:40:00",
          "fiability": 79.01315789473684
         },
         {
          "created": "2019-01-30T16:45:00",
          "fiability": 77.59122502172025
         },
         {
          "created": "2019-01-30T16:50:00",
          "fiability": 79.61851851851851
         },
         {
          "created": "2019-01-30T16:55:00",
          "fiability": 77.95420560747664
         },
         {
          "created": "2019-01-30T17:00:00",
          "fiability": 79.18195488721804
         },
         {
          "created": "2019-01-30T17:05:00",
          "fiability": 79.52204408817636
         },
         {
          "created": "2019-01-30T17:10:00",
          "fiability": 79.58468899521532
         },
         {
          "created": "2019-01-30T17:15:00",
          "fiability": 81.42673267326732
         },
         {
          "created": "2019-01-30T17:20:00",
          "fiability": 80.91474328780028
         },
         {
          "created": "2019-01-30T17:25:00",
          "fiability": 81.2896725440806
         },
         {
          "created": "2019-01-30T17:30:00",
          "fiability": 81.31607765057242
         },
         {
          "created": "2019-01-30T17:35:00",
          "fiability": 80.92860811504879
         },
         {
          "created": "2019-01-30T17:40:00",
          "fiability": 80.16098584163608
         },
         {
          "created": "2019-01-30T17:45:00",
          "fiability": 80.77367841409692
         },
         {
          "created": "2019-01-30T17:50:00",
          "fiability": 81.44516129032257
         },
         {
          "created": "2019-01-30T17:55:00",
          "fiability": 81.58465608465609
         },
         {
          "created": "2019-01-30T18:00:00",
          "fiability": 82.11655405405405
         },
         {
          "created": "2019-01-30T18:05:00",
          "fiability": 80.67894413750767
         },
         {
          "created": "2019-01-30T18:10:00",
          "fiability": 80.79178551055334
         },
         {
          "created": "2019-01-30T18:15:00",
          "fiability": 81.13895631067962
         },
         {
          "created": "2019-01-30T18:20:00",
          "fiability": 81.68464730290457
         },
         {
          "created": "2019-01-30T18:25:00",
          "fiability": 81.09836065573771
         },
         {
          "created": "2019-01-30T18:30:00",
          "fiability": 82.07650643195667
         },
         {
          "created": "2019-01-30T18:35:00",
          "fiability": 81.62934631432545
         },
         {
          "created": "2019-01-30T18:40:00",
          "fiability": 81.37215713301171
         },
         {
          "created": "2019-01-30T18:45:00",
          "fiability": 82.57081850533808
         },
         {
          "created": "2019-01-30T18:50:00",
          "fiability": 82.55069124423963
         },
         {
          "created": "2019-01-30T18:55:00",
          "fiability": 81.80376766091052
         },
         {
          "created": "2019-01-30T19:00:00",
          "fiability": 82.03201347935973
         },
         {
          "created": "2019-01-30T19:05:00",
          "fiability": 82.75680131904369
         },
         {
          "created": "2019-01-30T19:10:00",
          "fiability": 80.96368243243244
         },
         {
          "created": "2019-01-30T19:15:00",
          "fiability": 82.12520193861066
         },
         {
          "created": "2019-01-30T19:20:00",
          "fiability": 81.69411764705882
         },
         {
          "created": "2019-01-30T19:25:00",
          "fiability": 82.36193029490616
         },
         {
          "created": "2019-01-30T19:30:00",
          "fiability": 80.73399014778325
         },
         {
          "created": "2019-01-30T19:35:00",
          "fiability": 81.37687366167023
         },
         {
          "created": "2019-01-30T19:40:00",
          "fiability": 81.49737118822293
         },
         {
          "created": "2019-01-30T19:45:00",
          "fiability": 81.95356371490281
         },
         {
          "created": "2019-01-30T19:50:00",
          "fiability": 82.36878612716762
         },
         {
          "created": "2019-01-30T19:55:00",
          "fiability": 81.6631989596879
         },
         {
          "created": "2019-01-30T20:00:00",
          "fiability": 81.20618556701031
         },
         {
          "created": "2019-01-30T20:05:00",
          "fiability": 81.6978021978022
         },
         {
          "created": "2019-01-30T20:10:00",
          "fiability": 80.8363136176066
         },
         {
          "created": "2019-01-30T20:15:00",
          "fiability": 81.08666666666667
         },
         {
          "created": "2019-01-30T20:20:00",
          "fiability": 82.34871099050204
         },
         {
          "created": "2019-01-30T20:25:00",
          "fiability": 81.9164265129683
         },
         {
          "created": "2019-01-30T20:30:00",
          "fiability": 82.64181286549707
         },
         {
          "created": "2019-01-30T20:35:00",
          "fiability": 83.22222222222223
         },
         {
          "created": "2019-01-30T20:40:00",
          "fiability": 81.72231404958677
         },
         {
          "created": "2019-01-30T20:45:00",
          "fiability": 82.02715654952077
         },
         {
          "created": "2019-01-30T20:50:00",
          "fiability": 82.03114754098361
         },
         {
          "created": "2019-01-30T20:55:00",
          "fiability": 81.88888888888889
         },
         {
          "created": "2019-01-30T21:00:00",
          "fiability": 81.58
         },
         {
          "created": "2019-01-30T21:05:00",
          "fiability": 81.44259259259259
         },
         {
          "created": "2019-01-30T21:10:00",
          "fiability": 81.61090909090909
         },
         {
          "created": "2019-01-30T21:15:00",
          "fiability": 81.28007518796993
         },
         {
          "created": "2019-01-30T21:20:00",
          "fiability": 81.86111111111111
         },
         {
          "created": "2019-01-30T21:25:00",
          "fiability": 80.88846880907373
         },
         {
          "created": "2019-01-30T21:30:00",
          "fiability": 81.14876033057851
         },
         {
          "created": "2019-01-30T21:35:00",
          "fiability": 82.14601769911505
         },
         {
          "created": "2019-01-30T21:40:00",
          "fiability": 81.48115299334812
         },
         {
          "created": "2019-01-30T21:45:00",
          "fiability": 82.03378378378379
         },
         {
          "created": "2019-01-30T21:50:00",
          "fiability": 82.5311778290993
         },
         {
          "created": "2019-01-30T21:55:00",
          "fiability": 80.97674418604652
         },
         {
          "created": "2019-01-30T22:00:00",
          "fiability": 80.27777777777777
         },
         {
          "created": "2019-01-30T22:05:00",
          "fiability": 81.89775561097257
         },
         {
          "created": "2019-01-30T22:10:00",
          "fiability": 81.69565217391305
         },
         {
          "created": "2019-01-30T22:15:00",
          "fiability": 80.95108695652173
         },
         {
          "created": "2019-01-30T22:20:00",
          "fiability": 82.79310344827586
         },
         {
          "created": "2019-01-30T22:25:00",
          "fiability": 83.75142857142858
         },
         {
          "created": "2019-01-30T22:30:00",
          "fiability": 82.52112676056338
         },
         {
          "created": "2019-01-30T22:35:00",
          "fiability": 85.36615384615385
         },
         {
          "created": "2019-01-30T22:40:00",
          "fiability": 82.72638436482085
         },
         {
          "created": "2019-01-30T22:45:00",
          "fiability": 84.78827361563518
         },
         {
          "created": "2019-01-30T22:50:00",
          "fiability": 86.99322033898305
         },
         {
          "created": "2019-01-30T22:55:00",
          "fiability": 82.78965517241379
         },
         {
          "created": "2019-01-30T23:00:00",
          "fiability": 83.93675889328063
         },
         {
          "created": "2019-01-30T23:05:00",
          "fiability": 82.5204081632653
         },
         {
          "created": "2019-01-30T23:10:00",
          "fiability": 85.1822033898305
         },
         {
          "created": "2019-01-30T23:15:00",
          "fiability": 83.83895131086142
         },
         {
          "created": "2019-01-30T23:20:00",
          "fiability": 83.06167400881057
         },
         {
          "created": "2019-01-30T23:25:00",
          "fiability": 83.58371040723982
         },
         {
          "created": "2019-01-30T23:30:00",
          "fiability": 85.63849765258216
         },
         {
          "created": "2019-01-30T23:35:00",
          "fiability": 86.68281938325991
         },
         {
          "created": "2019-01-30T23:40:00",
          "fiability": 83.34183673469387
         },
         {
          "created": "2019-01-30T23:45:00",
          "fiability": 84.26262626262626
         },
         {
          "created": "2019-01-30T23:50:00",
          "fiability": 86.27777777777777
         },
         {
          "created": "2019-01-30T23:55:00",
          "fiability": 84.58119658119658
         }
        ]
       },
       "encoding": {
        "x": {
         "field": "created",
         "type": "temporal"
        },
        "y": {
         "field": "fiability",
         "scale": {
          "zero": false
         },
         "type": "quantitative"
        }
       },
       "mark": "line",
       "selection": {
        "selector001": {
         "bind": "scales",
         "encodings": [
          "x",
          "y"
         ],
         "mark": {
          "fill": "#333",
          "fillOpacity": 0.125,
          "stroke": "white"
         },
         "on": "[mousedown, window:mouseup] > window:mousemove!",
         "resolve": "global",
         "translate": "[mousedown, window:mouseup] > window:mousemove!",
         "type": "interval",
         "zoom": "wheel!"
        }
       }
      },
      "image/png": "[encoded data removed]",
      "text/plain": [
       "<VegaLite 2 object>\n",
       "\n",
       "If you see this message, it means the renderer has not been properly enabled\n",
       "for the frontend that you are using. For more information, see\n",
       "https://altair-viz.github.io/user_guide/troubleshooting.html\n"
      ]
     },
     "execution_count": 10,
     "metadata": {},
     "output_type": "execute_result"
    }
   ],
   "source": [
    "#fiabilité moyenne par tranche de 5 min (graph interactif)\n",
    "graph_fiab"
   ]
  },
  {
   "cell_type": "markdown",
   "metadata": {},
   "source": [
    "Chap 2. Trouver les échanges directs et indirects entre 2 caméras pour une tranche horaire de départ données"
   ]
  },
  {
   "cell_type": "markdown",
   "metadata": {},
   "source": [
    "    Chap 2.1. Trouver les échanges indirects (par une camera intermediaire)"
   ]
  },
  {
   "cell_type": "markdown",
   "metadata": {},
   "source": [
    "        Chap 2.1.1. Trouver les échanges entre les deux premieres cameras"
   ]
  },
  {
   "cell_type": "code",
   "execution_count": 11,
   "metadata": {},
   "outputs": [],
   "source": [
    "#exempel sur le trajet A63 Cestas -> Rocade Est -> A10 DIRA"
   ]
  },
  {
   "cell_type": "code",
   "execution_count": 319,
   "metadata": {},
   "outputs": [],
   "source": [
    "indirect_cam_19_4_5_19_4=t.df_tps_parcours(df_journee,'2019-01-29 07:00:00', 60, 16, 19,4) #création de l'instance entre les cameras 19 et 4"
   ]
  },
  {
   "cell_type": "code",
   "execution_count": 320,
   "metadata": {},
   "outputs": [
    {
     "data": {
      "text/html": [
       "<div>\n",
       "<style scoped>\n",
       "    .dataframe tbody tr th:only-of-type {\n",
       "        vertical-align: middle;\n",
       "    }\n",
       "\n",
       "    .dataframe tbody tr th {\n",
       "        vertical-align: top;\n",
       "    }\n",
       "\n",
       "    .dataframe thead th {\n",
       "        text-align: right;\n",
       "    }\n",
       "</style>\n",
       "<table border=\"1\" class=\"dataframe\">\n",
       "  <thead>\n",
       "    <tr style=\"text-align: right;\">\n",
       "      <th></th>\n",
       "      <th>immat</th>\n",
       "      <th>date_cam_1</th>\n",
       "      <th>cam_1</th>\n",
       "      <th>date_cam_2</th>\n",
       "      <th>cam_2</th>\n",
       "      <th>tps_parcours</th>\n",
       "    </tr>\n",
       "  </thead>\n",
       "  <tbody>\n",
       "    <tr>\n",
       "      <th>80</th>\n",
       "      <td>997d5fbf94327159d8ad2dfe88999cf8a1a32fad</td>\n",
       "      <td>2019-01-29 07:41:57</td>\n",
       "      <td>19</td>\n",
       "      <td>2019-01-29 08:06:52</td>\n",
       "      <td>4</td>\n",
       "      <td>00:24:55</td>\n",
       "    </tr>\n",
       "    <tr>\n",
       "      <th>104</th>\n",
       "      <td>1da7ad5637f24c08d9a8bb1da3f932c21e8dd47c</td>\n",
       "      <td>2019-01-29 07:45:33</td>\n",
       "      <td>19</td>\n",
       "      <td>2019-01-29 08:11:08</td>\n",
       "      <td>4</td>\n",
       "      <td>00:25:35</td>\n",
       "    </tr>\n",
       "    <tr>\n",
       "      <th>136</th>\n",
       "      <td>c5d8d060de77fa2912482769266153d7d60c609d</td>\n",
       "      <td>2019-01-29 07:51:24</td>\n",
       "      <td>19</td>\n",
       "      <td>2019-01-29 08:15:10</td>\n",
       "      <td>4</td>\n",
       "      <td>00:23:46</td>\n",
       "    </tr>\n",
       "    <tr>\n",
       "      <th>146</th>\n",
       "      <td>382ff3d11f92aaa8d00c7e8061ff61c0eecbfc00</td>\n",
       "      <td>2019-01-29 07:53:24</td>\n",
       "      <td>19</td>\n",
       "      <td>2019-01-29 08:17:17</td>\n",
       "      <td>4</td>\n",
       "      <td>00:23:53</td>\n",
       "    </tr>\n",
       "    <tr>\n",
       "      <th>153</th>\n",
       "      <td>eb6b0e2bc49e9ea29fb491193621a90417323bf4</td>\n",
       "      <td>2019-01-29 07:54:19</td>\n",
       "      <td>19</td>\n",
       "      <td>2019-01-29 08:18:39</td>\n",
       "      <td>4</td>\n",
       "      <td>00:24:20</td>\n",
       "    </tr>\n",
       "    <tr>\n",
       "      <th>156</th>\n",
       "      <td>ac7d82c1c4904787d2c8e2ce5c7e9ffb3d42f72b</td>\n",
       "      <td>2019-01-29 07:54:43</td>\n",
       "      <td>19</td>\n",
       "      <td>2019-01-29 08:19:06</td>\n",
       "      <td>4</td>\n",
       "      <td>00:24:23</td>\n",
       "    </tr>\n",
       "    <tr>\n",
       "      <th>165</th>\n",
       "      <td>a7e4a67e8836b4fdb72688baca377534f6add717</td>\n",
       "      <td>2019-01-29 07:56:06</td>\n",
       "      <td>19</td>\n",
       "      <td>2019-01-29 08:21:30</td>\n",
       "      <td>4</td>\n",
       "      <td>00:25:24</td>\n",
       "    </tr>\n",
       "    <tr>\n",
       "      <th>171</th>\n",
       "      <td>b3e2b06a429608e99c98d074851e49cbb6fb93ad</td>\n",
       "      <td>2019-01-29 07:56:03</td>\n",
       "      <td>19</td>\n",
       "      <td>2019-01-29 08:22:20</td>\n",
       "      <td>4</td>\n",
       "      <td>00:26:17</td>\n",
       "    </tr>\n",
       "    <tr>\n",
       "      <th>175</th>\n",
       "      <td>c64f5c735c9cae0e6d3515e99f9459026a0fffae</td>\n",
       "      <td>2019-01-29 07:57:04</td>\n",
       "      <td>19</td>\n",
       "      <td>2019-01-29 08:23:27</td>\n",
       "      <td>4</td>\n",
       "      <td>00:26:23</td>\n",
       "    </tr>\n",
       "    <tr>\n",
       "      <th>176</th>\n",
       "      <td>f25b2cd42e0b20614640abc3418ec2af63af5042</td>\n",
       "      <td>2019-01-29 07:57:56</td>\n",
       "      <td>19</td>\n",
       "      <td>2019-01-29 08:23:30</td>\n",
       "      <td>4</td>\n",
       "      <td>00:25:34</td>\n",
       "    </tr>\n",
       "    <tr>\n",
       "      <th>177</th>\n",
       "      <td>4a09ee739850d0dc847037838216d66cdae214ea</td>\n",
       "      <td>2019-01-29 07:57:09</td>\n",
       "      <td>19</td>\n",
       "      <td>2019-01-29 08:23:34</td>\n",
       "      <td>4</td>\n",
       "      <td>00:26:25</td>\n",
       "    </tr>\n",
       "    <tr>\n",
       "      <th>178</th>\n",
       "      <td>2dca9f2506ef4f67da0255625f046d1b40348d6e</td>\n",
       "      <td>2019-01-29 07:58:35</td>\n",
       "      <td>19</td>\n",
       "      <td>2019-01-29 08:23:39</td>\n",
       "      <td>4</td>\n",
       "      <td>00:25:04</td>\n",
       "    </tr>\n",
       "    <tr>\n",
       "      <th>183</th>\n",
       "      <td>914a3afe6d6abb263b99c20884c88ae7c8a383dd</td>\n",
       "      <td>2019-01-29 07:59:36</td>\n",
       "      <td>19</td>\n",
       "      <td>2019-01-29 08:24:34</td>\n",
       "      <td>4</td>\n",
       "      <td>00:24:58</td>\n",
       "    </tr>\n",
       "  </tbody>\n",
       "</table>\n",
       "</div>"
      ],
      "text/plain": [
       "                                        immat          date_cam_1  cam_1          date_cam_2  cam_2 tps_parcours\n",
       "80   997d5fbf94327159d8ad2dfe88999cf8a1a32fad 2019-01-29 07:41:57     19 2019-01-29 08:06:52      4     00:24:55\n",
       "104  1da7ad5637f24c08d9a8bb1da3f932c21e8dd47c 2019-01-29 07:45:33     19 2019-01-29 08:11:08      4     00:25:35\n",
       "136  c5d8d060de77fa2912482769266153d7d60c609d 2019-01-29 07:51:24     19 2019-01-29 08:15:10      4     00:23:46\n",
       "146  382ff3d11f92aaa8d00c7e8061ff61c0eecbfc00 2019-01-29 07:53:24     19 2019-01-29 08:17:17      4     00:23:53\n",
       "153  eb6b0e2bc49e9ea29fb491193621a90417323bf4 2019-01-29 07:54:19     19 2019-01-29 08:18:39      4     00:24:20\n",
       "156  ac7d82c1c4904787d2c8e2ce5c7e9ffb3d42f72b 2019-01-29 07:54:43     19 2019-01-29 08:19:06      4     00:24:23\n",
       "165  a7e4a67e8836b4fdb72688baca377534f6add717 2019-01-29 07:56:06     19 2019-01-29 08:21:30      4     00:25:24\n",
       "171  b3e2b06a429608e99c98d074851e49cbb6fb93ad 2019-01-29 07:56:03     19 2019-01-29 08:22:20      4     00:26:17\n",
       "175  c64f5c735c9cae0e6d3515e99f9459026a0fffae 2019-01-29 07:57:04     19 2019-01-29 08:23:27      4     00:26:23\n",
       "176  f25b2cd42e0b20614640abc3418ec2af63af5042 2019-01-29 07:57:56     19 2019-01-29 08:23:30      4     00:25:34\n",
       "177  4a09ee739850d0dc847037838216d66cdae214ea 2019-01-29 07:57:09     19 2019-01-29 08:23:34      4     00:26:25\n",
       "178  2dca9f2506ef4f67da0255625f046d1b40348d6e 2019-01-29 07:58:35     19 2019-01-29 08:23:39      4     00:25:04\n",
       "183  914a3afe6d6abb263b99c20884c88ae7c8a383dd 2019-01-29 07:59:36     19 2019-01-29 08:24:34      4     00:24:58"
      ]
     },
     "execution_count": 320,
     "metadata": {},
     "output_type": "execute_result"
    }
   ],
   "source": [
    "indirect_cam_19_4_5_19_4.df_tps_parcours_pl_final #la df des pl passés par les 2 cams\n",
    "# attention, le code stocké prévoit que  : le typ de veh est 1 à chacune des 2 cameras, la fiabilite des cams est >80 sur chacune des cams"
   ]
  },
  {
   "cell_type": "code",
   "execution_count": 88,
   "metadata": {},
   "outputs": [],
   "source": [
    "graph_stat_trie, graph_brut, legende=indirect_cam_19_4_5_19_4.plot_graphs() #les graphs de répartition des vehicules et temps de passages"
   ]
  },
  {
   "cell_type": "code",
   "execution_count": 89,
   "metadata": {},
   "outputs": [
    {
     "data": {
      "application/vnd.vegalite.v2+json": {
       "$schema": "https://vega.github.io/schema/vega-lite/v2.6.0.json",
       "config": {
        "view": {
         "height": 300,
         "width": 400
        }
       },
       "data": {
        "name": "data-7ee2d4b4fddaf07e3cf1bb4530517522"
       },
       "datasets": {
        "data-7ee2d4b4fddaf07e3cf1bb4530517522": [
         {
          "type": "nb_tv_tot",
          "value": 518
         },
         {
          "type": "nb_tv_plaque_ok",
          "value": 495
         },
         {
          "type": "nb_vlpl",
          "value": 337
         },
         {
          "type": "nb_veh_ok",
          "value": 320
         },
         {
          "type": "nb_vl_ok",
          "value": 168
         },
         {
          "type": "nb_pl_ok",
          "value": 152
         }
        ]
       },
       "encoding": {
        "color": {
         "field": "type",
         "type": "nominal"
        },
        "x": {
         "field": "type",
         "sort": {
          "field": "value",
          "op": "mean"
         },
         "type": "nominal"
        },
        "y": {
         "field": "value",
         "type": "quantitative"
        }
       },
       "mark": {
        "size": 20,
        "type": "bar"
       }
      },
      "image/png": "[encoded data removed]",
      "text/plain": [
       "<VegaLite 2 object>\n",
       "\n",
       "If you see this message, it means the renderer has not been properly enabled\n",
       "for the frontend that you are using. For more information, see\n",
       "https://altair-viz.github.io/user_guide/troubleshooting.html\n"
      ]
     },
     "execution_count": 89,
     "metadata": {},
     "output_type": "execute_result"
    }
   ],
   "source": [
    "graph_stat_trie"
   ]
  },
  {
   "cell_type": "code",
   "execution_count": 90,
   "metadata": {},
   "outputs": [
    {
     "data": {
      "application/vnd.vegalite.v2+json": {
       "$schema": "https://vega.github.io/schema/vega-lite/v2.6.0.json",
       "config": {
        "view": {
         "height": 300,
         "width": 400
        }
       },
       "datasets": {
        "data-a1dd07c7447c42686229a8b3a9176a22": [
         {
          "created_x": "2019-01-29T08:00:50",
          "l": 0,
          "tps_parcours": "2018-01-01T00:21:18"
         },
         {
          "created_x": "2019-01-29T08:00:53",
          "l": 0,
          "tps_parcours": "2018-01-01T00:21:27"
         },
         {
          "created_x": "2019-01-29T08:00:02",
          "l": 0,
          "tps_parcours": "2018-01-01T00:22:58"
         },
         {
          "created_x": "2019-01-29T08:01:32",
          "l": 0,
          "tps_parcours": "2018-01-01T00:22:03"
         },
         {
          "created_x": "2019-01-29T08:01:18",
          "l": 0,
          "tps_parcours": "2018-01-01T00:22:53"
         },
         {
          "created_x": "2019-01-29T08:00:18",
          "l": 0,
          "tps_parcours": "2018-01-01T00:23:53"
         },
         {
          "created_x": "2019-01-29T08:00:20",
          "l": 1,
          "tps_parcours": "2018-01-01T00:24:20"
         },
         {
          "created_x": "2019-01-29T08:00:23",
          "l": -1,
          "tps_parcours": "2018-01-01T00:24:22"
         },
         {
          "created_x": "2019-01-29T08:00:17",
          "l": -1,
          "tps_parcours": "2018-01-01T00:24:35"
         },
         {
          "created_x": "2019-01-29T08:03:26",
          "l": 0,
          "tps_parcours": "2018-01-01T00:21:41"
         },
         {
          "created_x": "2019-01-29T08:00:50",
          "l": 1,
          "tps_parcours": "2018-01-01T00:24:19"
         },
         {
          "created_x": "2019-01-29T08:03:04",
          "l": 0,
          "tps_parcours": "2018-01-01T00:22:20"
         },
         {
          "created_x": "2019-01-29T08:00:56",
          "l": 1,
          "tps_parcours": "2018-01-01T00:24:38"
         },
         {
          "created_x": "2019-01-29T08:01:20",
          "l": 0,
          "tps_parcours": "2018-01-01T00:24:17"
         },
         {
          "created_x": "2019-01-29T08:01:07",
          "l": 1,
          "tps_parcours": "2018-01-01T00:24:42"
         },
         {
          "created_x": "2019-01-29T08:01:11",
          "l": -1,
          "tps_parcours": "2018-01-01T00:24:43"
         },
         {
          "created_x": "2019-01-29T08:01:22",
          "l": 0,
          "tps_parcours": "2018-01-01T00:24:35"
         },
         {
          "created_x": "2019-01-29T08:01:16",
          "l": 1,
          "tps_parcours": "2018-01-01T00:24:46"
         },
         {
          "created_x": "2019-01-29T08:01:32",
          "l": 0,
          "tps_parcours": "2018-01-01T00:24:36"
         },
         {
          "created_x": "2019-01-29T08:02:39",
          "l": 1,
          "tps_parcours": "2018-01-01T00:23:31"
         },
         {
          "created_x": "2019-01-29T08:04:47",
          "l": 0,
          "tps_parcours": "2018-01-01T00:21:23"
         },
         {
          "created_x": "2019-01-29T08:01:14",
          "l": -1,
          "tps_parcours": "2018-01-01T00:24:57"
         },
         {
          "created_x": "2019-01-29T08:02:34",
          "l": 1,
          "tps_parcours": "2018-01-01T00:23:40"
         },
         {
          "created_x": "2019-01-29T08:07:32",
          "l": 0,
          "tps_parcours": "2018-01-01T00:18:47"
         },
         {
          "created_x": "2019-01-29T08:07:55",
          "l": 0,
          "tps_parcours": "2018-01-01T00:18:26"
         },
         {
          "created_x": "2019-01-29T08:02:19",
          "l": 1,
          "tps_parcours": "2018-01-01T00:24:12"
         },
         {
          "created_x": "2019-01-29T08:02:46",
          "l": -1,
          "tps_parcours": "2018-01-01T00:23:55"
         },
         {
          "created_x": "2019-01-29T08:06:15",
          "l": 1,
          "tps_parcours": "2018-01-01T00:20:33"
         },
         {
          "created_x": "2019-01-29T08:07:18",
          "l": 0,
          "tps_parcours": "2018-01-01T00:19:32"
         },
         {
          "created_x": "2019-01-29T08:03:00",
          "l": -1,
          "tps_parcours": "2018-01-01T00:23:53"
         },
         {
          "created_x": "2019-01-29T08:03:06",
          "l": 1,
          "tps_parcours": "2018-01-01T00:24:06"
         },
         {
          "created_x": "2019-01-29T08:06:58",
          "l": 0,
          "tps_parcours": "2018-01-01T00:20:19"
         },
         {
          "created_x": "2019-01-29T08:03:55",
          "l": 1,
          "tps_parcours": "2018-01-01T00:23:47"
         },
         {
          "created_x": "2019-01-29T08:09:11",
          "l": -1,
          "tps_parcours": "2018-01-01T00:18:40"
         },
         {
          "created_x": "2019-01-29T08:09:19",
          "l": -1,
          "tps_parcours": "2018-01-01T00:18:34"
         },
         {
          "created_x": "2019-01-29T08:04:04",
          "l": 0,
          "tps_parcours": "2018-01-01T00:23:51"
         },
         {
          "created_x": "2019-01-29T08:03:17",
          "l": -1,
          "tps_parcours": "2018-01-01T00:24:40"
         },
         {
          "created_x": "2019-01-29T08:03:22",
          "l": 0,
          "tps_parcours": "2018-01-01T00:24:37"
         },
         {
          "created_x": "2019-01-29T08:04:02",
          "l": -1,
          "tps_parcours": "2018-01-01T00:23:59"
         },
         {
          "created_x": "2019-01-29T08:05:02",
          "l": -1,
          "tps_parcours": "2018-01-01T00:23:04"
         },
         {
          "created_x": "2019-01-29T08:08:52",
          "l": 0,
          "tps_parcours": "2018-01-01T00:19:28"
         },
         {
          "created_x": "2019-01-29T08:05:11",
          "l": -1,
          "tps_parcours": "2018-01-01T00:23:10"
         },
         {
          "created_x": "2019-01-29T08:05:13",
          "l": 0,
          "tps_parcours": "2018-01-01T00:23:11"
         },
         {
          "created_x": "2019-01-29T08:04:14",
          "l": 1,
          "tps_parcours": "2018-01-01T00:24:14"
         },
         {
          "created_x": "2019-01-29T08:05:07",
          "l": 1,
          "tps_parcours": "2018-01-01T00:23:46"
         },
         {
          "created_x": "2019-01-29T08:06:23",
          "l": -1,
          "tps_parcours": "2018-01-01T00:23:01"
         },
         {
          "created_x": "2019-01-29T08:10:12",
          "l": 0,
          "tps_parcours": "2018-01-01T00:19:25"
         },
         {
          "created_x": "2019-01-29T08:10:04",
          "l": 0,
          "tps_parcours": "2018-01-01T00:19:34"
         },
         {
          "created_x": "2019-01-29T08:10:04",
          "l": 0,
          "tps_parcours": "2018-01-01T00:19:35"
         },
         {
          "created_x": "2019-01-29T08:10:43",
          "l": 0,
          "tps_parcours": "2018-01-01T00:19:00"
         },
         {
          "created_x": "2019-01-29T08:06:27",
          "l": -1,
          "tps_parcours": "2018-01-01T00:23:22"
         },
         {
          "created_x": "2019-01-29T08:11:11",
          "l": 0,
          "tps_parcours": "2018-01-01T00:18:46"
         },
         {
          "created_x": "2019-01-29T08:11:10",
          "l": 0,
          "tps_parcours": "2018-01-01T00:19:09"
         },
         {
          "created_x": "2019-01-29T08:06:21",
          "l": -1,
          "tps_parcours": "2018-01-01T00:24:16"
         },
         {
          "created_x": "2019-01-29T08:10:44",
          "l": 0,
          "tps_parcours": "2018-01-01T00:19:59"
         },
         {
          "created_x": "2019-01-29T08:06:35",
          "l": -1,
          "tps_parcours": "2018-01-01T00:24:12"
         },
         {
          "created_x": "2019-01-29T08:06:52",
          "l": -1,
          "tps_parcours": "2018-01-01T00:24:06"
         },
         {
          "created_x": "2019-01-29T08:06:55",
          "l": 0,
          "tps_parcours": "2018-01-01T00:24:07"
         },
         {
          "created_x": "2019-01-29T08:06:59",
          "l": 1,
          "tps_parcours": "2018-01-01T00:24:08"
         },
         {
          "created_x": "2019-01-29T08:11:29",
          "l": 0,
          "tps_parcours": "2018-01-01T00:19:42"
         },
         {
          "created_x": "2019-01-29T08:07:23",
          "l": 1,
          "tps_parcours": "2018-01-01T00:23:53"
         },
         {
          "created_x": "2019-01-29T08:07:33",
          "l": 1,
          "tps_parcours": "2018-01-01T00:23:53"
         },
         {
          "created_x": "2019-01-29T08:07:56",
          "l": -1,
          "tps_parcours": "2018-01-01T00:23:38"
         },
         {
          "created_x": "2019-01-29T08:07:59",
          "l": -1,
          "tps_parcours": "2018-01-01T00:23:51"
         },
         {
          "created_x": "2019-01-29T08:13:29",
          "l": 0,
          "tps_parcours": "2018-01-01T00:18:27"
         },
         {
          "created_x": "2019-01-29T08:08:20",
          "l": 1,
          "tps_parcours": "2018-01-01T00:23:46"
         },
         {
          "created_x": "2019-01-29T08:09:22",
          "l": 0,
          "tps_parcours": "2018-01-01T00:22:47"
         },
         {
          "created_x": "2019-01-29T08:09:19",
          "l": 0,
          "tps_parcours": "2018-01-01T00:22:51"
         },
         {
          "created_x": "2019-01-29T08:09:28",
          "l": 0,
          "tps_parcours": "2018-01-01T00:23:00"
         },
         {
          "created_x": "2019-01-29T08:13:37",
          "l": 0,
          "tps_parcours": "2018-01-01T00:19:18"
         },
         {
          "created_x": "2019-01-29T08:09:58",
          "l": -1,
          "tps_parcours": "2018-01-01T00:23:01"
         },
         {
          "created_x": "2019-01-29T08:04:54",
          "l": 0,
          "tps_parcours": "2018-01-01T00:28:16"
         },
         {
          "created_x": "2019-01-29T08:09:34",
          "l": 0,
          "tps_parcours": "2018-01-01T00:23:56"
         },
         {
          "created_x": "2019-01-29T08:09:47",
          "l": 0,
          "tps_parcours": "2018-01-01T00:23:47"
         },
         {
          "created_x": "2019-01-29T08:09:41",
          "l": 0,
          "tps_parcours": "2018-01-01T00:23:56"
         },
         {
          "created_x": "2019-01-29T08:10:02",
          "l": 0,
          "tps_parcours": "2018-01-01T00:23:38"
         },
         {
          "created_x": "2019-01-29T08:09:56",
          "l": -1,
          "tps_parcours": "2018-01-01T00:23:46"
         },
         {
          "created_x": "2019-01-29T08:10:13",
          "l": 0,
          "tps_parcours": "2018-01-01T00:23:31"
         },
         {
          "created_x": "2019-01-29T08:14:44",
          "l": 0,
          "tps_parcours": "2018-01-01T00:19:08"
         },
         {
          "created_x": "2019-01-29T08:09:44",
          "l": -1,
          "tps_parcours": "2018-01-01T00:24:16"
         },
         {
          "created_x": "2019-01-29T08:14:38",
          "l": 0,
          "tps_parcours": "2018-01-01T00:19:40"
         },
         {
          "created_x": "2019-01-29T08:10:27",
          "l": -1,
          "tps_parcours": "2018-01-01T00:24:05"
         },
         {
          "created_x": "2019-01-29T08:11:27",
          "l": -1,
          "tps_parcours": "2018-01-01T00:23:08"
         },
         {
          "created_x": "2019-01-29T08:11:31",
          "l": 1,
          "tps_parcours": "2018-01-01T00:23:13"
         },
         {
          "created_x": "2019-01-29T08:11:34",
          "l": -1,
          "tps_parcours": "2018-01-01T00:23:14"
         },
         {
          "created_x": "2019-01-29T08:12:06",
          "l": 1,
          "tps_parcours": "2018-01-01T00:22:53"
         },
         {
          "created_x": "2019-01-29T08:12:09",
          "l": 0,
          "tps_parcours": "2018-01-01T00:23:01"
         },
         {
          "created_x": "2019-01-29T08:16:09",
          "l": 0,
          "tps_parcours": "2018-01-01T00:19:10"
         },
         {
          "created_x": "2019-01-29T08:16:18",
          "l": 0,
          "tps_parcours": "2018-01-01T00:19:13"
         },
         {
          "created_x": "2019-01-29T08:15:55",
          "l": 0,
          "tps_parcours": "2018-01-01T00:19:37"
         },
         {
          "created_x": "2019-01-29T08:15:45",
          "l": 0,
          "tps_parcours": "2018-01-01T00:19:48"
         },
         {
          "created_x": "2019-01-29T08:16:24",
          "l": 0,
          "tps_parcours": "2018-01-01T00:19:10"
         },
         {
          "created_x": "2019-01-29T08:16:40",
          "l": 0,
          "tps_parcours": "2018-01-01T00:19:01"
         },
         {
          "created_x": "2019-01-29T08:12:13",
          "l": 1,
          "tps_parcours": "2018-01-01T00:23:30"
         },
         {
          "created_x": "2019-01-29T08:12:44",
          "l": -1,
          "tps_parcours": "2018-01-01T00:23:01"
         },
         {
          "created_x": "2019-01-29T08:12:48",
          "l": 0,
          "tps_parcours": "2018-01-01T00:22:59"
         },
         {
          "created_x": "2019-01-29T08:16:48",
          "l": -1,
          "tps_parcours": "2018-01-01T00:19:38"
         },
         {
          "created_x": "2019-01-29T08:12:58",
          "l": -1,
          "tps_parcours": "2018-01-01T00:23:30"
         },
         {
          "created_x": "2019-01-29T08:13:15",
          "l": -1,
          "tps_parcours": "2018-01-01T00:23:20"
         },
         {
          "created_x": "2019-01-29T08:13:13",
          "l": 1,
          "tps_parcours": "2018-01-01T00:23:29"
         },
         {
          "created_x": "2019-01-29T08:13:34",
          "l": -1,
          "tps_parcours": "2018-01-01T00:23:10"
         },
         {
          "created_x": "2019-01-29T08:13:40",
          "l": -1,
          "tps_parcours": "2018-01-01T00:23:07"
         },
         {
          "created_x": "2019-01-29T08:14:46",
          "l": 0,
          "tps_parcours": "2018-01-01T00:22:10"
         },
         {
          "created_x": "2019-01-29T08:13:37",
          "l": 0,
          "tps_parcours": "2018-01-01T00:23:23"
         },
         {
          "created_x": "2019-01-29T08:18:59",
          "l": 0,
          "tps_parcours": "2018-01-01T00:18:05"
         },
         {
          "created_x": "2019-01-29T08:17:58",
          "l": 0,
          "tps_parcours": "2018-01-01T00:19:08"
         },
         {
          "created_x": "2019-01-29T08:13:50",
          "l": 0,
          "tps_parcours": "2018-01-01T00:23:34"
         },
         {
          "created_x": "2019-01-29T08:15:13",
          "l": -1,
          "tps_parcours": "2018-01-01T00:22:15"
         },
         {
          "created_x": "2019-01-29T08:15:11",
          "l": 0,
          "tps_parcours": "2018-01-01T00:22:20"
         },
         {
          "created_x": "2019-01-29T08:18:52",
          "l": 0,
          "tps_parcours": "2018-01-01T00:18:47"
         },
         {
          "created_x": "2019-01-29T08:15:27",
          "l": -1,
          "tps_parcours": "2018-01-01T00:22:12"
         },
         {
          "created_x": "2019-01-29T08:15:16",
          "l": -1,
          "tps_parcours": "2018-01-01T00:22:25"
         },
         {
          "created_x": "2019-01-29T08:15:22",
          "l": -1,
          "tps_parcours": "2018-01-01T00:22:20"
         },
         {
          "created_x": "2019-01-29T08:15:07",
          "l": -1,
          "tps_parcours": "2018-01-01T00:22:36"
         },
         {
          "created_x": "2019-01-29T08:20:23",
          "l": 0,
          "tps_parcours": "2018-01-01T00:17:25"
         },
         {
          "created_x": "2019-01-29T08:15:24",
          "l": 0,
          "tps_parcours": "2018-01-01T00:22:34"
         },
         {
          "created_x": "2019-01-29T08:15:10",
          "l": -1,
          "tps_parcours": "2018-01-01T00:22:50"
         },
         {
          "created_x": "2019-01-29T08:15:30",
          "l": 0,
          "tps_parcours": "2018-01-01T00:22:33"
         },
         {
          "created_x": "2019-01-29T08:16:00",
          "l": 0,
          "tps_parcours": "2018-01-01T00:22:08"
         },
         {
          "created_x": "2019-01-29T08:15:38",
          "l": 0,
          "tps_parcours": "2018-01-01T00:22:33"
         },
         {
          "created_x": "2019-01-29T08:20:21",
          "l": 0,
          "tps_parcours": "2018-01-01T00:18:05"
         },
         {
          "created_x": "2019-01-29T08:16:30",
          "l": 0,
          "tps_parcours": "2018-01-01T00:22:13"
         },
         {
          "created_x": "2019-01-29T08:15:43",
          "l": -1,
          "tps_parcours": "2018-01-01T00:23:05"
         },
         {
          "created_x": "2019-01-29T08:19:27",
          "l": -1,
          "tps_parcours": "2018-01-01T00:19:22"
         },
         {
          "created_x": "2019-01-29T08:22:08",
          "l": 0,
          "tps_parcours": "2018-01-01T00:16:53"
         },
         {
          "created_x": "2019-01-29T08:16:07",
          "l": -1,
          "tps_parcours": "2018-01-01T00:23:19"
         },
         {
          "created_x": "2019-01-29T08:29:40",
          "l": 1,
          "tps_parcours": "2018-01-01T00:09:48"
         },
         {
          "created_x": "2019-01-29T08:18:23",
          "l": -1,
          "tps_parcours": "2018-01-01T00:21:13"
         },
         {
          "created_x": "2019-01-29T08:16:29",
          "l": 1,
          "tps_parcours": "2018-01-01T00:23:09"
         },
         {
          "created_x": "2019-01-29T08:17:13",
          "l": -1,
          "tps_parcours": "2018-01-01T00:22:30"
         },
         {
          "created_x": "2019-01-29T08:22:18",
          "l": 0,
          "tps_parcours": "2018-01-01T00:17:25"
         },
         {
          "created_x": "2019-01-29T08:22:39",
          "l": 0,
          "tps_parcours": "2018-01-01T00:17:14"
         },
         {
          "created_x": "2019-01-29T08:17:51",
          "l": -1,
          "tps_parcours": "2018-01-01T00:22:06"
         },
         {
          "created_x": "2019-01-29T08:18:10",
          "l": 0,
          "tps_parcours": "2018-01-01T00:21:58"
         },
         {
          "created_x": "2019-01-29T08:22:12",
          "l": 0,
          "tps_parcours": "2018-01-01T00:18:05"
         },
         {
          "created_x": "2019-01-29T08:23:33",
          "l": 0,
          "tps_parcours": "2018-01-01T00:16:49"
         },
         {
          "created_x": "2019-01-29T08:18:17",
          "l": 1,
          "tps_parcours": "2018-01-01T00:22:07"
         },
         {
          "created_x": "2019-01-29T08:18:19",
          "l": -1,
          "tps_parcours": "2018-01-01T00:22:13"
         },
         {
          "created_x": "2019-01-29T08:21:23",
          "l": 0,
          "tps_parcours": "2018-01-01T00:19:16"
         },
         {
          "created_x": "2019-01-29T08:22:08",
          "l": 0,
          "tps_parcours": "2018-01-01T00:18:32"
         },
         {
          "created_x": "2019-01-29T08:20:23",
          "l": -1,
          "tps_parcours": "2018-01-01T00:20:25"
         },
         {
          "created_x": "2019-01-29T08:18:22",
          "l": 0,
          "tps_parcours": "2018-01-01T00:22:30"
         },
         {
          "created_x": "2019-01-29T08:20:29",
          "l": 1,
          "tps_parcours": "2018-01-01T00:20:27"
         },
         {
          "created_x": "2019-01-29T08:23:36",
          "l": 0,
          "tps_parcours": "2018-01-01T00:17:25"
         },
         {
          "created_x": "2019-01-29T08:20:21",
          "l": 1,
          "tps_parcours": "2018-01-01T00:21:07"
         },
         {
          "created_x": "2019-01-29T08:25:06",
          "l": 0,
          "tps_parcours": "2018-01-01T00:16:26"
         },
         {
          "created_x": "2019-01-29T08:06:41",
          "l": 1,
          "tps_parcours": "2018-01-01T00:35:01"
         },
         {
          "created_x": "2019-01-29T08:20:40",
          "l": 1,
          "tps_parcours": "2018-01-01T00:21:10"
         },
         {
          "created_x": "2019-01-29T08:25:08",
          "l": 0,
          "tps_parcours": "2018-01-01T00:16:45"
         },
         {
          "created_x": "2019-01-29T08:20:55",
          "l": 1,
          "tps_parcours": "2018-01-01T00:21:03"
         },
         {
          "created_x": "2019-01-29T08:20:38",
          "l": -1,
          "tps_parcours": "2018-01-01T00:21:42"
         },
         {
          "created_x": "2019-01-29T08:25:17",
          "l": 0,
          "tps_parcours": "2018-01-01T00:17:21"
         },
         {
          "created_x": "2019-01-29T08:21:44",
          "l": -1,
          "tps_parcours": "2018-01-01T00:20:56"
         },
         {
          "created_x": "2019-01-29T08:21:46",
          "l": 0,
          "tps_parcours": "2018-01-01T00:20:57"
         },
         {
          "created_x": "2019-01-29T08:21:42",
          "l": 1,
          "tps_parcours": "2018-01-01T00:21:07"
         },
         {
          "created_x": "2019-01-29T08:21:54",
          "l": -1,
          "tps_parcours": "2018-01-01T00:21:05"
         },
         {
          "created_x": "2019-01-29T08:22:59",
          "l": 0,
          "tps_parcours": "2018-01-01T00:20:08"
         },
         {
          "created_x": "2019-01-29T08:21:34",
          "l": -1,
          "tps_parcours": "2018-01-01T00:21:33"
         },
         {
          "created_x": "2019-01-29T08:22:18",
          "l": -1,
          "tps_parcours": "2018-01-01T00:21:00"
         },
         {
          "created_x": "2019-01-29T08:22:18",
          "l": -1,
          "tps_parcours": "2018-01-01T00:21:01"
         },
         {
          "created_x": "2019-01-29T08:21:58",
          "l": 1,
          "tps_parcours": "2018-01-01T00:21:31"
         },
         {
          "created_x": "2019-01-29T08:25:05",
          "l": 0,
          "tps_parcours": "2018-01-01T00:18:34"
         },
         {
          "created_x": "2019-01-29T08:22:55",
          "l": -1,
          "tps_parcours": "2018-01-01T00:20:49"
         },
         {
          "created_x": "2019-01-29T08:23:59",
          "l": -1,
          "tps_parcours": "2018-01-01T00:19:59"
         },
         {
          "created_x": "2019-01-29T08:23:57",
          "l": -1,
          "tps_parcours": "2018-01-01T00:20:24"
         },
         {
          "created_x": "2019-01-29T08:19:08",
          "l": -1,
          "tps_parcours": "2018-01-01T00:25:14"
         },
         {
          "created_x": "2019-01-29T08:23:43",
          "l": -1,
          "tps_parcours": "2018-01-01T00:20:42"
         },
         {
          "created_x": "2019-01-29T08:27:11",
          "l": 0,
          "tps_parcours": "2018-01-01T00:17:17"
         },
         {
          "created_x": "2019-01-29T08:23:53",
          "l": -1,
          "tps_parcours": "2018-01-01T00:20:35"
         },
         {
          "created_x": "2019-01-29T08:27:32",
          "l": 0,
          "tps_parcours": "2018-01-01T00:16:59"
         },
         {
          "created_x": "2019-01-29T08:27:44",
          "l": 0,
          "tps_parcours": "2018-01-01T00:16:48"
         },
         {
          "created_x": "2019-01-29T08:27:45",
          "l": 0,
          "tps_parcours": "2018-01-01T00:16:50"
         },
         {
          "created_x": "2019-01-29T08:24:44",
          "l": 1,
          "tps_parcours": "2018-01-01T00:19:55"
         },
         {
          "created_x": "2019-01-29T08:17:19",
          "l": 0,
          "tps_parcours": "2018-01-01T00:27:25"
         },
         {
          "created_x": "2019-01-29T08:28:58",
          "l": 0,
          "tps_parcours": "2018-01-01T00:16:12"
         },
         {
          "created_x": "2019-01-29T08:28:37",
          "l": 0,
          "tps_parcours": "2018-01-01T00:16:34"
         },
         {
          "created_x": "2019-01-29T08:24:52",
          "l": 1,
          "tps_parcours": "2018-01-01T00:20:23"
         },
         {
          "created_x": "2019-01-29T08:24:59",
          "l": -1,
          "tps_parcours": "2018-01-01T00:20:18"
         },
         {
          "created_x": "2019-01-29T08:24:38",
          "l": 1,
          "tps_parcours": "2018-01-01T00:20:43"
         },
         {
          "created_x": "2019-01-29T08:24:38",
          "l": 1,
          "tps_parcours": "2018-01-01T00:20:44"
         },
         {
          "created_x": "2019-01-29T08:28:00",
          "l": 0,
          "tps_parcours": "2018-01-01T00:17:27"
         },
         {
          "created_x": "2019-01-29T08:28:03",
          "l": 0,
          "tps_parcours": "2018-01-01T00:17:25"
         },
         {
          "created_x": "2019-01-29T08:24:57",
          "l": 1,
          "tps_parcours": "2018-01-01T00:20:32"
         },
         {
          "created_x": "2019-01-29T08:04:17",
          "l": 0,
          "tps_parcours": "2018-01-01T00:41:19"
         },
         {
          "created_x": "2019-01-29T08:29:09",
          "l": 0,
          "tps_parcours": "2018-01-01T00:16:37"
         },
         {
          "created_x": "2019-01-29T08:25:30",
          "l": 0,
          "tps_parcours": "2018-01-01T00:20:16"
         },
         {
          "created_x": "2019-01-29T08:25:35",
          "l": -1,
          "tps_parcours": "2018-01-01T00:20:24"
         },
         {
          "created_x": "2019-01-29T08:25:51",
          "l": 1,
          "tps_parcours": "2018-01-01T00:20:19"
         },
         {
          "created_x": "2019-01-29T08:25:56",
          "l": -1,
          "tps_parcours": "2018-01-01T00:20:16"
         },
         {
          "created_x": "2019-01-29T08:25:47",
          "l": -1,
          "tps_parcours": "2018-01-01T00:20:27"
         },
         {
          "created_x": "2019-01-29T08:25:33",
          "l": -1,
          "tps_parcours": "2018-01-01T00:20:54"
         },
         {
          "created_x": "2019-01-29T08:11:41",
          "l": 0,
          "tps_parcours": "2018-01-01T00:34:51"
         },
         {
          "created_x": "2019-01-29T08:25:48",
          "l": -1,
          "tps_parcours": "2018-01-01T00:21:01"
         },
         {
          "created_x": "2019-01-29T08:26:48",
          "l": 1,
          "tps_parcours": "2018-01-01T00:20:04"
         },
         {
          "created_x": "2019-01-29T08:26:48",
          "l": 1,
          "tps_parcours": "2018-01-01T00:20:04"
         },
         {
          "created_x": "2019-01-29T08:27:05",
          "l": -1,
          "tps_parcours": "2018-01-01T00:20:00"
         },
         {
          "created_x": "2019-01-29T08:29:32",
          "l": 0,
          "tps_parcours": "2018-01-01T00:17:37"
         },
         {
          "created_x": "2019-01-29T08:31:00",
          "l": 0,
          "tps_parcours": "2018-01-01T00:16:16"
         },
         {
          "created_x": "2019-01-29T08:30:49",
          "l": 0,
          "tps_parcours": "2018-01-01T00:16:45"
         },
         {
          "created_x": "2019-01-29T08:27:01",
          "l": -1,
          "tps_parcours": "2018-01-01T00:20:40"
         },
         {
          "created_x": "2019-01-29T08:27:14",
          "l": -1,
          "tps_parcours": "2018-01-01T00:20:34"
         },
         {
          "created_x": "2019-01-29T08:27:22",
          "l": -1,
          "tps_parcours": "2018-01-01T00:20:32"
         },
         {
          "created_x": "2019-01-29T08:27:22",
          "l": -1,
          "tps_parcours": "2018-01-01T00:20:32"
         },
         {
          "created_x": "2019-01-29T08:27:50",
          "l": 1,
          "tps_parcours": "2018-01-01T00:20:13"
         },
         {
          "created_x": "2019-01-29T08:28:04",
          "l": 1,
          "tps_parcours": "2018-01-01T00:20:02"
         },
         {
          "created_x": "2019-01-29T08:31:56",
          "l": 0,
          "tps_parcours": "2018-01-01T00:16:22"
         },
         {
          "created_x": "2019-01-29T08:27:45",
          "l": 1,
          "tps_parcours": "2018-01-01T00:20:37"
         },
         {
          "created_x": "2019-01-29T08:31:53",
          "l": 0,
          "tps_parcours": "2018-01-01T00:16:35"
         },
         {
          "created_x": "2019-01-29T08:27:53",
          "l": 0,
          "tps_parcours": "2018-01-01T00:20:44"
         },
         {
          "created_x": "2019-01-29T08:28:13",
          "l": -1,
          "tps_parcours": "2018-01-01T00:20:27"
         },
         {
          "created_x": "2019-01-29T08:28:55",
          "l": -1,
          "tps_parcours": "2018-01-01T00:19:50"
         },
         {
          "created_x": "2019-01-29T08:32:30",
          "l": 0,
          "tps_parcours": "2018-01-01T00:16:24"
         },
         {
          "created_x": "2019-01-29T08:28:30",
          "l": -1,
          "tps_parcours": "2018-01-01T00:20:29"
         },
         {
          "created_x": "2019-01-29T08:28:59",
          "l": -1,
          "tps_parcours": "2018-01-01T00:20:02"
         },
         {
          "created_x": "2019-01-29T08:28:49",
          "l": -1,
          "tps_parcours": "2018-01-01T00:20:17"
         },
         {
          "created_x": "2019-01-29T08:28:51",
          "l": 0,
          "tps_parcours": "2018-01-01T00:20:16"
         },
         {
          "created_x": "2019-01-29T08:30:22",
          "l": 1,
          "tps_parcours": "2018-01-01T00:18:45"
         },
         {
          "created_x": "2019-01-29T08:33:09",
          "l": 1,
          "tps_parcours": "2018-01-01T00:16:10"
         },
         {
          "created_x": "2019-01-29T08:29:11",
          "l": 1,
          "tps_parcours": "2018-01-01T00:20:09"
         },
         {
          "created_x": "2019-01-29T08:33:05",
          "l": -1,
          "tps_parcours": "2018-01-01T00:16:23"
         },
         {
          "created_x": "2019-01-29T08:29:25",
          "l": 1,
          "tps_parcours": "2018-01-01T00:20:12"
         },
         {
          "created_x": "2019-01-29T08:33:20",
          "l": 0,
          "tps_parcours": "2018-01-01T00:16:22"
         },
         {
          "created_x": "2019-01-29T08:29:28",
          "l": 1,
          "tps_parcours": "2018-01-01T00:20:20"
         },
         {
          "created_x": "2019-01-29T08:20:50",
          "l": -1,
          "tps_parcours": "2018-01-01T00:29:03"
         },
         {
          "created_x": "2019-01-29T08:31:47",
          "l": 1,
          "tps_parcours": "2018-01-01T00:18:21"
         },
         {
          "created_x": "2019-01-29T08:30:43",
          "l": -1,
          "tps_parcours": "2018-01-01T00:19:42"
         },
         {
          "created_x": "2019-01-29T08:31:09",
          "l": 1,
          "tps_parcours": "2018-01-01T00:19:31"
         },
         {
          "created_x": "2019-01-29T08:31:16",
          "l": 1,
          "tps_parcours": "2018-01-01T00:19:29"
         },
         {
          "created_x": "2019-01-29T08:15:53",
          "l": 1,
          "tps_parcours": "2018-01-01T00:35:01"
         },
         {
          "created_x": "2019-01-29T08:33:50",
          "l": 0,
          "tps_parcours": "2018-01-01T00:17:05"
         },
         {
          "created_x": "2019-01-29T08:33:39",
          "l": -1,
          "tps_parcours": "2018-01-01T00:17:16"
         },
         {
          "created_x": "2019-01-29T08:31:12",
          "l": -1,
          "tps_parcours": "2018-01-01T00:19:46"
         },
         {
          "created_x": "2019-01-29T08:31:20",
          "l": 1,
          "tps_parcours": "2018-01-01T00:19:41"
         },
         {
          "created_x": "2019-01-29T08:34:13",
          "l": 0,
          "tps_parcours": "2018-01-01T00:16:59"
         },
         {
          "created_x": "2019-01-29T08:34:28",
          "l": 0,
          "tps_parcours": "2018-01-01T00:16:49"
         },
         {
          "created_x": "2019-01-29T08:31:06",
          "l": 1,
          "tps_parcours": "2018-01-01T00:20:18"
         },
         {
          "created_x": "2019-01-29T08:17:25",
          "l": -1,
          "tps_parcours": "2018-01-01T00:34:07"
         },
         {
          "created_x": "2019-01-29T08:31:30",
          "l": 0,
          "tps_parcours": "2018-01-01T00:20:04"
         },
         {
          "created_x": "2019-01-29T08:31:23",
          "l": -1,
          "tps_parcours": "2018-01-01T00:20:12"
         },
         {
          "created_x": "2019-01-29T08:17:28",
          "l": -1,
          "tps_parcours": "2018-01-01T00:34:09"
         },
         {
          "created_x": "2019-01-29T08:32:15",
          "l": 1,
          "tps_parcours": "2018-01-01T00:19:27"
         },
         {
          "created_x": "2019-01-29T08:32:28",
          "l": -1,
          "tps_parcours": "2018-01-01T00:19:25"
         },
         {
          "created_x": "2019-01-29T08:32:25",
          "l": -1,
          "tps_parcours": "2018-01-01T00:19:30"
         },
         {
          "created_x": "2019-01-29T08:35:23",
          "l": 0,
          "tps_parcours": "2018-01-01T00:16:35"
         },
         {
          "created_x": "2019-01-29T08:31:34",
          "l": 1,
          "tps_parcours": "2018-01-01T00:20:27"
         },
         {
          "created_x": "2019-01-29T08:35:46",
          "l": 0,
          "tps_parcours": "2018-01-01T00:16:33"
         },
         {
          "created_x": "2019-01-29T08:35:18",
          "l": -1,
          "tps_parcours": "2018-01-01T00:17:01"
         },
         {
          "created_x": "2019-01-29T08:31:26",
          "l": -1,
          "tps_parcours": "2018-01-01T00:21:02"
         },
         {
          "created_x": "2019-01-29T08:32:07",
          "l": -1,
          "tps_parcours": "2018-01-01T00:20:22"
         },
         {
          "created_x": "2019-01-29T08:36:18",
          "l": 0,
          "tps_parcours": "2018-01-01T00:16:14"
         },
         {
          "created_x": "2019-01-29T08:32:51",
          "l": 1,
          "tps_parcours": "2018-01-01T00:19:42"
         },
         {
          "created_x": "2019-01-29T08:32:59",
          "l": -1,
          "tps_parcours": "2018-01-01T00:19:36"
         },
         {
          "created_x": "2019-01-29T08:32:20",
          "l": 1,
          "tps_parcours": "2018-01-01T00:20:17"
         },
         {
          "created_x": "2019-01-29T08:36:16",
          "l": 0,
          "tps_parcours": "2018-01-01T00:16:26"
         },
         {
          "created_x": "2019-01-29T08:32:55",
          "l": 1,
          "tps_parcours": "2018-01-01T00:19:52"
         },
         {
          "created_x": "2019-01-29T08:32:57",
          "l": 0,
          "tps_parcours": "2018-01-01T00:19:52"
         },
         {
          "created_x": "2019-01-29T08:36:54",
          "l": 0,
          "tps_parcours": "2018-01-01T00:15:59"
         },
         {
          "created_x": "2019-01-29T08:13:01",
          "l": 0,
          "tps_parcours": "2018-01-01T00:40:06"
         },
         {
          "created_x": "2019-01-29T08:33:12",
          "l": 0,
          "tps_parcours": "2018-01-01T00:20:26"
         },
         {
          "created_x": "2019-01-29T08:37:15",
          "l": 0,
          "tps_parcours": "2018-01-01T00:16:24"
         },
         {
          "created_x": "2019-01-29T08:33:38",
          "l": 1,
          "tps_parcours": "2018-01-01T00:20:01"
         },
         {
          "created_x": "2019-01-29T08:33:35",
          "l": -1,
          "tps_parcours": "2018-01-01T00:20:08"
         },
         {
          "created_x": "2019-01-29T08:33:30",
          "l": 1,
          "tps_parcours": "2018-01-01T00:20:26"
         },
         {
          "created_x": "2019-01-29T08:34:23",
          "l": 1,
          "tps_parcours": "2018-01-01T00:20:00"
         },
         {
          "created_x": "2019-01-29T08:20:42",
          "l": 1,
          "tps_parcours": "2018-01-01T00:33:52"
         },
         {
          "created_x": "2019-01-29T08:34:34",
          "l": 0,
          "tps_parcours": "2018-01-01T00:20:06"
         },
         {
          "created_x": "2019-01-29T08:34:38",
          "l": 0,
          "tps_parcours": "2018-01-01T00:20:05"
         },
         {
          "created_x": "2019-01-29T08:34:36",
          "l": 1,
          "tps_parcours": "2018-01-01T00:20:10"
         },
         {
          "created_x": "2019-01-29T08:34:59",
          "l": -1,
          "tps_parcours": "2018-01-01T00:19:50"
         },
         {
          "created_x": "2019-01-29T08:34:57",
          "l": 1,
          "tps_parcours": "2018-01-01T00:19:55"
         },
         {
          "created_x": "2019-01-29T08:38:47",
          "l": 0,
          "tps_parcours": "2018-01-01T00:16:24"
         },
         {
          "created_x": "2019-01-29T08:35:42",
          "l": -1,
          "tps_parcours": "2018-01-01T00:19:57"
         },
         {
          "created_x": "2019-01-29T08:34:30",
          "l": -1,
          "tps_parcours": "2018-01-01T00:21:10"
         },
         {
          "created_x": "2019-01-29T08:35:06",
          "l": 1,
          "tps_parcours": "2018-01-01T00:20:42"
         },
         {
          "created_x": "2019-01-29T08:39:15",
          "l": 0,
          "tps_parcours": "2018-01-01T00:16:47"
         },
         {
          "created_x": "2019-01-29T08:36:38",
          "l": 1,
          "tps_parcours": "2018-01-01T00:19:37"
         },
         {
          "created_x": "2019-01-29T08:38:43",
          "l": 0,
          "tps_parcours": "2018-01-01T00:18:04"
         },
         {
          "created_x": "2019-01-29T08:39:52",
          "l": 0,
          "tps_parcours": "2018-01-01T00:16:57"
         },
         {
          "created_x": "2019-01-29T08:40:30",
          "l": -1,
          "tps_parcours": "2018-01-01T00:16:29"
         },
         {
          "created_x": "2019-01-29T08:39:48",
          "l": 0,
          "tps_parcours": "2018-01-01T00:17:13"
         },
         {
          "created_x": "2019-01-29T08:41:10",
          "l": 0,
          "tps_parcours": "2018-01-01T00:16:00"
         },
         {
          "created_x": "2019-01-29T08:37:29",
          "l": 1,
          "tps_parcours": "2018-01-01T00:19:55"
         },
         {
          "created_x": "2019-01-29T08:37:26",
          "l": 1,
          "tps_parcours": "2018-01-01T00:19:59"
         },
         {
          "created_x": "2019-01-29T08:41:19",
          "l": 0,
          "tps_parcours": "2018-01-01T00:16:12"
         },
         {
          "created_x": "2019-01-29T08:37:32",
          "l": 1,
          "tps_parcours": "2018-01-01T00:20:17"
         },
         {
          "created_x": "2019-01-29T08:37:37",
          "l": 0,
          "tps_parcours": "2018-01-01T00:20:16"
         },
         {
          "created_x": "2019-01-29T08:34:27",
          "l": -1,
          "tps_parcours": "2018-01-01T00:23:26"
         },
         {
          "created_x": "2019-01-29T08:42:06",
          "l": 0,
          "tps_parcours": "2018-01-01T00:15:51"
         },
         {
          "created_x": "2019-01-29T08:18:13",
          "l": -1,
          "tps_parcours": "2018-01-01T00:39:57"
         },
         {
          "created_x": "2019-01-29T08:37:57",
          "l": -1,
          "tps_parcours": "2018-01-01T00:20:13"
         },
         {
          "created_x": "2019-01-29T08:37:42",
          "l": -1,
          "tps_parcours": "2018-01-01T00:20:34"
         },
         {
          "created_x": "2019-01-29T08:42:46",
          "l": 0,
          "tps_parcours": "2018-01-01T00:15:45"
         },
         {
          "created_x": "2019-01-29T08:37:40",
          "l": 1,
          "tps_parcours": "2018-01-01T00:20:54"
         },
         {
          "created_x": "2019-01-29T08:37:52",
          "l": 1,
          "tps_parcours": "2018-01-01T00:20:45"
         },
         {
          "created_x": "2019-01-29T08:42:43",
          "l": 0,
          "tps_parcours": "2018-01-01T00:15:57"
         },
         {
          "created_x": "2019-01-29T08:38:21",
          "l": 1,
          "tps_parcours": "2018-01-01T00:20:24"
         },
         {
          "created_x": "2019-01-29T08:38:27",
          "l": -1,
          "tps_parcours": "2018-01-01T00:20:29"
         },
         {
          "created_x": "2019-01-29T08:39:48",
          "l": 0,
          "tps_parcours": "2018-01-01T00:19:12"
         },
         {
          "created_x": "2019-01-29T08:38:46",
          "l": 1,
          "tps_parcours": "2018-01-01T00:20:16"
         },
         {
          "created_x": "2019-01-29T08:39:11",
          "l": 1,
          "tps_parcours": "2018-01-01T00:19:57"
         },
         {
          "created_x": "2019-01-29T08:39:31",
          "l": 1,
          "tps_parcours": "2018-01-01T00:19:37"
         },
         {
          "created_x": "2019-01-29T08:39:33",
          "l": -1,
          "tps_parcours": "2018-01-01T00:19:39"
         },
         {
          "created_x": "2019-01-29T08:38:41",
          "l": -1,
          "tps_parcours": "2018-01-01T00:20:34"
         },
         {
          "created_x": "2019-01-29T08:39:23",
          "l": -1,
          "tps_parcours": "2018-01-01T00:19:54"
         },
         {
          "created_x": "2019-01-29T08:39:40",
          "l": 0,
          "tps_parcours": "2018-01-01T00:19:37"
         },
         {
          "created_x": "2019-01-29T08:38:54",
          "l": 1,
          "tps_parcours": "2018-01-01T00:20:28"
         },
         {
          "created_x": "2019-01-29T08:39:00",
          "l": -1,
          "tps_parcours": "2018-01-01T00:20:23"
         },
         {
          "created_x": "2019-01-29T08:38:48",
          "l": 1,
          "tps_parcours": "2018-01-01T00:20:51"
         },
         {
          "created_x": "2019-01-29T08:39:45",
          "l": 1,
          "tps_parcours": "2018-01-01T00:19:54"
         },
         {
          "created_x": "2019-01-29T08:40:11",
          "l": -1,
          "tps_parcours": "2018-01-01T00:19:29"
         },
         {
          "created_x": "2019-01-29T08:39:37",
          "l": -1,
          "tps_parcours": "2018-01-01T00:20:06"
         },
         {
          "created_x": "2019-01-29T08:39:16",
          "l": -1,
          "tps_parcours": "2018-01-01T00:20:30"
         },
         {
          "created_x": "2019-01-29T08:39:28",
          "l": -1,
          "tps_parcours": "2018-01-01T00:20:23"
         },
         {
          "created_x": "2019-01-29T08:40:03",
          "l": 0,
          "tps_parcours": "2018-01-01T00:19:50"
         },
         {
          "created_x": "2019-01-29T08:39:43",
          "l": -1,
          "tps_parcours": "2018-01-01T00:20:15"
         },
         {
          "created_x": "2019-01-29T08:40:15",
          "l": -1,
          "tps_parcours": "2018-01-01T00:19:48"
         },
         {
          "created_x": "2019-01-29T08:39:57",
          "l": 1,
          "tps_parcours": "2018-01-01T00:20:11"
         },
         {
          "created_x": "2019-01-29T08:40:00",
          "l": -1,
          "tps_parcours": "2018-01-01T00:20:10"
         },
         {
          "created_x": "2019-01-29T08:40:00",
          "l": 0,
          "tps_parcours": "2018-01-01T00:20:10"
         },
         {
          "created_x": "2019-01-29T08:40:35",
          "l": 1,
          "tps_parcours": "2018-01-01T00:19:40"
         },
         {
          "created_x": "2019-01-29T08:43:12",
          "l": 0,
          "tps_parcours": "2018-01-01T00:17:05"
         },
         {
          "created_x": "2019-01-29T08:40:06",
          "l": 1,
          "tps_parcours": "2018-01-01T00:20:13"
         },
         {
          "created_x": "2019-01-29T08:44:43",
          "l": 0,
          "tps_parcours": "2018-01-01T00:15:39"
         },
         {
          "created_x": "2019-01-29T08:44:52",
          "l": 0,
          "tps_parcours": "2018-01-01T00:15:46"
         },
         {
          "created_x": "2019-01-29T08:41:00",
          "l": 1,
          "tps_parcours": "2018-01-01T00:19:51"
         },
         {
          "created_x": "2019-01-29T08:23:45",
          "l": 1,
          "tps_parcours": "2018-01-01T00:37:07"
         },
         {
          "created_x": "2019-01-29T08:42:02",
          "l": -1,
          "tps_parcours": "2018-01-01T00:19:08"
         },
         {
          "created_x": "2019-01-29T08:43:52",
          "l": 0,
          "tps_parcours": "2018-01-01T00:17:20"
         },
         {
          "created_x": "2019-01-29T08:46:00",
          "l": -1,
          "tps_parcours": "2018-01-01T00:15:12"
         },
         {
          "created_x": "2019-01-29T08:41:42",
          "l": -1,
          "tps_parcours": "2018-01-01T00:19:57"
         },
         {
          "created_x": "2019-01-29T08:41:44",
          "l": 1,
          "tps_parcours": "2018-01-01T00:20:03"
         },
         {
          "created_x": "2019-01-29T08:41:48",
          "l": -1,
          "tps_parcours": "2018-01-01T00:20:00"
         },
         {
          "created_x": "2019-01-29T08:41:51",
          "l": 1,
          "tps_parcours": "2018-01-01T00:20:01"
         },
         {
          "created_x": "2019-01-29T08:41:51",
          "l": 1,
          "tps_parcours": "2018-01-01T00:20:01"
         },
         {
          "created_x": "2019-01-29T08:42:07",
          "l": 1,
          "tps_parcours": "2018-01-01T00:19:52"
         },
         {
          "created_x": "2019-01-29T08:43:02",
          "l": 1,
          "tps_parcours": "2018-01-01T00:19:51"
         },
         {
          "created_x": "2019-01-29T08:42:55",
          "l": -1,
          "tps_parcours": "2018-01-01T00:20:08"
         },
         {
          "created_x": "2019-01-29T08:43:08",
          "l": -1,
          "tps_parcours": "2018-01-01T00:19:57"
         },
         {
          "created_x": "2019-01-29T08:43:29",
          "l": 0,
          "tps_parcours": "2018-01-01T00:19:38"
         },
         {
          "created_x": "2019-01-29T08:45:32",
          "l": 0,
          "tps_parcours": "2018-01-01T00:17:36"
         },
         {
          "created_x": "2019-01-29T08:47:19",
          "l": 0,
          "tps_parcours": "2018-01-01T00:16:03"
         },
         {
          "created_x": "2019-01-29T08:46:58",
          "l": 0,
          "tps_parcours": "2018-01-01T00:16:25"
         },
         {
          "created_x": "2019-01-29T08:43:33",
          "l": 1,
          "tps_parcours": "2018-01-01T00:19:54"
         },
         {
          "created_x": "2019-01-29T08:43:26",
          "l": 1,
          "tps_parcours": "2018-01-01T00:20:05"
         },
         {
          "created_x": "2019-01-29T08:43:47",
          "l": 1,
          "tps_parcours": "2018-01-01T00:19:46"
         },
         {
          "created_x": "2019-01-29T08:47:13",
          "l": 0,
          "tps_parcours": "2018-01-01T00:16:32"
         },
         {
          "created_x": "2019-01-29T08:44:24",
          "l": 1,
          "tps_parcours": "2018-01-01T00:19:38"
         },
         {
          "created_x": "2019-01-29T08:44:00",
          "l": -1,
          "tps_parcours": "2018-01-01T00:20:03"
         },
         {
          "created_x": "2019-01-29T08:45:45",
          "l": 0,
          "tps_parcours": "2018-01-01T00:18:34"
         },
         {
          "created_x": "2019-01-29T08:41:38",
          "l": 1,
          "tps_parcours": "2018-01-01T00:22:48"
         },
         {
          "created_x": "2019-01-29T08:44:04",
          "l": 1,
          "tps_parcours": "2018-01-01T00:20:25"
         },
         {
          "created_x": "2019-01-29T08:45:03",
          "l": 1,
          "tps_parcours": "2018-01-01T00:19:36"
         },
         {
          "created_x": "2019-01-29T08:45:20",
          "l": -1,
          "tps_parcours": "2018-01-01T00:19:21"
         },
         {
          "created_x": "2019-01-29T08:45:16",
          "l": 1,
          "tps_parcours": "2018-01-01T00:19:30"
         },
         {
          "created_x": "2019-01-29T08:44:27",
          "l": 1,
          "tps_parcours": "2018-01-01T00:20:28"
         },
         {
          "created_x": "2019-01-29T08:45:32",
          "l": -1,
          "tps_parcours": "2018-01-01T00:19:28"
         },
         {
          "created_x": "2019-01-29T08:45:32",
          "l": -1,
          "tps_parcours": "2018-01-01T00:19:28"
         },
         {
          "created_x": "2019-01-29T08:20:28",
          "l": 0,
          "tps_parcours": "2018-01-01T00:44:45"
         },
         {
          "created_x": "2019-01-29T08:34:13",
          "l": 0,
          "tps_parcours": "2018-01-01T00:31:35"
         },
         {
          "created_x": "2019-01-29T08:45:56",
          "l": 1,
          "tps_parcours": "2018-01-01T00:20:10"
         },
         {
          "created_x": "2019-01-29T08:46:27",
          "l": 0,
          "tps_parcours": "2018-01-01T00:19:40"
         },
         {
          "created_x": "2019-01-29T08:46:09",
          "l": 1,
          "tps_parcours": "2018-01-01T00:20:04"
         },
         {
          "created_x": "2019-01-29T08:46:17",
          "l": -1,
          "tps_parcours": "2018-01-01T00:20:07"
         },
         {
          "created_x": "2019-01-29T08:50:01",
          "l": 0,
          "tps_parcours": "2018-01-01T00:16:26"
         },
         {
          "created_x": "2019-01-29T08:46:42",
          "l": 1,
          "tps_parcours": "2018-01-01T00:19:49"
         },
         {
          "created_x": "2019-01-29T08:46:50",
          "l": -1,
          "tps_parcours": "2018-01-01T00:19:54"
         },
         {
          "created_x": "2019-01-29T08:50:06",
          "l": 0,
          "tps_parcours": "2018-01-01T00:16:44"
         },
         {
          "created_x": "2019-01-29T08:46:30",
          "l": -1,
          "tps_parcours": "2018-01-01T00:20:22"
         },
         {
          "created_x": "2019-01-29T08:46:47",
          "l": 1,
          "tps_parcours": "2018-01-01T00:20:12"
         },
         {
          "created_x": "2019-01-29T08:47:02",
          "l": 1,
          "tps_parcours": "2018-01-01T00:20:38"
         },
         {
          "created_x": "2019-01-29T08:47:08",
          "l": -1,
          "tps_parcours": "2018-01-01T00:20:34"
         },
         {
          "created_x": "2019-01-29T08:01:28",
          "l": -1,
          "tps_parcours": "2018-01-01T01:06:21"
         },
         {
          "created_x": "2019-01-29T08:48:01",
          "l": 1,
          "tps_parcours": "2018-01-01T00:20:00"
         },
         {
          "created_x": "2019-01-29T08:48:10",
          "l": 0,
          "tps_parcours": "2018-01-01T00:19:53"
         },
         {
          "created_x": "2019-01-29T08:25:07",
          "l": 1,
          "tps_parcours": "2018-01-01T00:43:05"
         },
         {
          "created_x": "2019-01-29T08:48:05",
          "l": -1,
          "tps_parcours": "2018-01-01T00:20:16"
         },
         {
          "created_x": "2019-01-29T08:26:53",
          "l": 0,
          "tps_parcours": "2018-01-01T00:41:29"
         },
         {
          "created_x": "2019-01-29T08:48:23",
          "l": -1,
          "tps_parcours": "2018-01-01T00:20:06"
         },
         {
          "created_x": "2019-01-29T08:29:04",
          "l": 1,
          "tps_parcours": "2018-01-01T00:39:26"
         },
         {
          "created_x": "2019-01-29T08:48:07",
          "l": 1,
          "tps_parcours": "2018-01-01T00:20:35"
         },
         {
          "created_x": "2019-01-29T08:52:27",
          "l": 0,
          "tps_parcours": "2018-01-01T00:16:19"
         },
         {
          "created_x": "2019-01-29T08:48:03",
          "l": -1,
          "tps_parcours": "2018-01-01T00:20:53"
         },
         {
          "created_x": "2019-01-29T08:48:14",
          "l": 1,
          "tps_parcours": "2018-01-01T00:20:52"
         },
         {
          "created_x": "2019-01-29T08:48:18",
          "l": 1,
          "tps_parcours": "2018-01-01T00:21:02"
         },
         {
          "created_x": "2019-01-29T08:49:29",
          "l": 1,
          "tps_parcours": "2018-01-01T00:19:55"
         },
         {
          "created_x": "2019-01-29T08:35:13",
          "l": 0,
          "tps_parcours": "2018-01-01T00:34:21"
         },
         {
          "created_x": "2019-01-29T08:48:32",
          "l": 1,
          "tps_parcours": "2018-01-01T00:21:04"
         },
         {
          "created_x": "2019-01-29T08:49:06",
          "l": -1,
          "tps_parcours": "2018-01-01T00:20:39"
         },
         {
          "created_x": "2019-01-29T08:53:49",
          "l": 0,
          "tps_parcours": "2018-01-01T00:16:06"
         },
         {
          "created_x": "2019-01-29T08:48:40",
          "l": 1,
          "tps_parcours": "2018-01-01T00:21:16"
         },
         {
          "created_x": "2019-01-29T08:49:52",
          "l": -1,
          "tps_parcours": "2018-01-01T00:20:08"
         },
         {
          "created_x": "2019-01-29T08:49:11",
          "l": -1,
          "tps_parcours": "2018-01-01T00:20:56"
         },
         {
          "created_x": "2019-01-29T08:49:54",
          "l": 0,
          "tps_parcours": "2018-01-01T00:20:14"
         },
         {
          "created_x": "2019-01-29T08:52:59",
          "l": 0,
          "tps_parcours": "2018-01-01T00:17:10"
         },
         {
          "created_x": "2019-01-29T08:49:56",
          "l": -1,
          "tps_parcours": "2018-01-01T00:20:16"
         },
         {
          "created_x": "2019-01-29T08:50:24",
          "l": 1,
          "tps_parcours": "2018-01-01T00:19:54"
         },
         {
          "created_x": "2019-01-29T08:49:00",
          "l": 1,
          "tps_parcours": "2018-01-01T00:21:32"
         },
         {
          "created_x": "2019-01-29T08:54:34",
          "l": 0,
          "tps_parcours": "2018-01-01T00:16:09"
         },
         {
          "created_x": "2019-01-29T08:50:20",
          "l": 1,
          "tps_parcours": "2018-01-01T00:20:28"
         },
         {
          "created_x": "2019-01-29T08:49:23",
          "l": 1,
          "tps_parcours": "2018-01-01T00:21:25"
         },
         {
          "created_x": "2019-01-29T08:49:26",
          "l": -1,
          "tps_parcours": "2018-01-01T00:21:25"
         },
         {
          "created_x": "2019-01-29T08:50:27",
          "l": -1,
          "tps_parcours": "2018-01-01T00:20:25"
         },
         {
          "created_x": "2019-01-29T08:50:30",
          "l": -1,
          "tps_parcours": "2018-01-01T00:20:25"
         },
         {
          "created_x": "2019-01-29T08:50:06",
          "l": 1,
          "tps_parcours": "2018-01-01T00:20:54"
         },
         {
          "created_x": "2019-01-29T08:50:36",
          "l": -1,
          "tps_parcours": "2018-01-01T00:20:25"
         },
         {
          "created_x": "2019-01-29T08:50:38",
          "l": -1,
          "tps_parcours": "2018-01-01T00:20:26"
         },
         {
          "created_x": "2019-01-29T08:49:37",
          "l": 1,
          "tps_parcours": "2018-01-01T00:21:32"
         },
         {
          "created_x": "2019-01-29T08:50:33",
          "l": -1,
          "tps_parcours": "2018-01-01T00:20:45"
         },
         {
          "created_x": "2019-01-29T08:50:45",
          "l": -1,
          "tps_parcours": "2018-01-01T00:20:51"
         },
         {
          "created_x": "2019-01-29T08:50:59",
          "l": 1,
          "tps_parcours": "2018-01-01T00:20:46"
         },
         {
          "created_x": "2019-01-29T08:51:14",
          "l": -1,
          "tps_parcours": "2018-01-01T00:20:34"
         },
         {
          "created_x": "2019-01-29T08:51:57",
          "l": 1,
          "tps_parcours": "2018-01-01T00:19:59"
         },
         {
          "created_x": "2019-01-29T08:52:13",
          "l": -1,
          "tps_parcours": "2018-01-01T00:20:07"
         },
         {
          "created_x": "2019-01-29T08:52:24",
          "l": 1,
          "tps_parcours": "2018-01-01T00:20:22"
         },
         {
          "created_x": "2019-01-29T08:52:32",
          "l": 1,
          "tps_parcours": "2018-01-01T00:20:21"
         },
         {
          "created_x": "2019-01-29T08:52:32",
          "l": 1,
          "tps_parcours": "2018-01-01T00:20:22"
         },
         {
          "created_x": "2019-01-29T08:52:35",
          "l": -1,
          "tps_parcours": "2018-01-01T00:20:24"
         },
         {
          "created_x": "2019-01-29T08:52:50",
          "l": 1,
          "tps_parcours": "2018-01-01T00:20:15"
         },
         {
          "created_x": "2019-01-29T08:52:39",
          "l": 1,
          "tps_parcours": "2018-01-01T00:20:40"
         },
         {
          "created_x": "2019-01-29T08:52:42",
          "l": -1,
          "tps_parcours": "2018-01-01T00:20:44"
         },
         {
          "created_x": "2019-01-29T08:52:53",
          "l": -1,
          "tps_parcours": "2018-01-01T00:20:38"
         },
         {
          "created_x": "2019-01-29T08:52:55",
          "l": 1,
          "tps_parcours": "2018-01-01T00:20:38"
         },
         {
          "created_x": "2019-01-29T08:53:39",
          "l": -1,
          "tps_parcours": "2018-01-01T00:19:57"
         },
         {
          "created_x": "2019-01-29T08:57:35",
          "l": 0,
          "tps_parcours": "2018-01-01T00:16:04"
         },
         {
          "created_x": "2019-01-29T08:52:58",
          "l": 1,
          "tps_parcours": "2018-01-01T00:20:50"
         },
         {
          "created_x": "2019-01-29T08:53:06",
          "l": -1,
          "tps_parcours": "2018-01-01T00:20:44"
         },
         {
          "created_x": "2019-01-29T08:57:20",
          "l": 0,
          "tps_parcours": "2018-01-01T00:16:39"
         },
         {
          "created_x": "2019-01-29T08:53:26",
          "l": 1,
          "tps_parcours": "2018-01-01T00:20:35"
         },
         {
          "created_x": "2019-01-29T08:53:45",
          "l": 1,
          "tps_parcours": "2018-01-01T00:20:21"
         },
         {
          "created_x": "2019-01-29T08:12:16",
          "l": 1,
          "tps_parcours": "2018-01-01T01:01:58"
         },
         {
          "created_x": "2019-01-29T08:57:50",
          "l": 0,
          "tps_parcours": "2018-01-01T00:16:26"
         },
         {
          "created_x": "2019-01-29T08:58:16",
          "l": 0,
          "tps_parcours": "2018-01-01T00:16:02"
         },
         {
          "created_x": "2019-01-29T08:54:22",
          "l": 1,
          "tps_parcours": "2018-01-01T00:20:10"
         },
         {
          "created_x": "2019-01-29T08:59:23",
          "l": -1,
          "tps_parcours": "2018-01-01T00:15:15"
         },
         {
          "created_x": "2019-01-29T08:54:25",
          "l": -1,
          "tps_parcours": "2018-01-01T00:20:14"
         },
         {
          "created_x": "2019-01-29T08:58:33",
          "l": 0,
          "tps_parcours": "2018-01-01T00:16:07"
         },
         {
          "created_x": "2019-01-29T08:54:30",
          "l": 1,
          "tps_parcours": "2018-01-01T00:20:15"
         },
         {
          "created_x": "2019-01-29T08:54:34",
          "l": -1,
          "tps_parcours": "2018-01-01T00:20:15"
         },
         {
          "created_x": "2019-01-29T08:55:28",
          "l": -1,
          "tps_parcours": "2018-01-01T00:19:22"
         },
         {
          "created_x": "2019-01-29T08:54:45",
          "l": -1,
          "tps_parcours": "2018-01-01T00:20:06"
         },
         {
          "created_x": "2019-01-29T08:54:58",
          "l": -1,
          "tps_parcours": "2018-01-01T00:19:57"
         },
         {
          "created_x": "2019-01-29T08:58:50",
          "l": 0,
          "tps_parcours": "2018-01-01T00:16:21"
         },
         {
          "created_x": "2019-01-29T08:54:55",
          "l": -1,
          "tps_parcours": "2018-01-01T00:20:16"
         },
         {
          "created_x": "2019-01-29T08:54:50",
          "l": -1,
          "tps_parcours": "2018-01-01T00:20:43"
         },
         {
          "created_x": "2019-01-29T08:55:01",
          "l": -1,
          "tps_parcours": "2018-01-01T00:20:38"
         },
         {
          "created_x": "2019-01-29T08:55:06",
          "l": 1,
          "tps_parcours": "2018-01-01T00:20:36"
         },
         {
          "created_x": "2019-01-29T08:55:40",
          "l": -1,
          "tps_parcours": "2018-01-01T00:20:10"
         },
         {
          "created_x": "2019-01-29T08:55:26",
          "l": 0,
          "tps_parcours": "2018-01-01T00:20:27"
         },
         {
          "created_x": "2019-01-29T08:56:21",
          "l": -1,
          "tps_parcours": "2018-01-01T00:19:40"
         },
         {
          "created_x": "2019-01-29T08:56:34",
          "l": 1,
          "tps_parcours": "2018-01-01T00:19:32"
         },
         {
          "created_x": "2019-01-29T08:56:43",
          "l": -1,
          "tps_parcours": "2018-01-01T00:19:27"
         },
         {
          "created_x": "2019-01-29T08:56:25",
          "l": -1,
          "tps_parcours": "2018-01-01T00:19:45"
         },
         {
          "created_x": "2019-01-29T08:59:57",
          "l": 0,
          "tps_parcours": "2018-01-01T00:16:16"
         },
         {
          "created_x": "2019-01-29T08:14:44",
          "l": 1,
          "tps_parcours": "2018-01-01T01:01:43"
         },
         {
          "created_x": "2019-01-29T08:56:41",
          "l": 1,
          "tps_parcours": "2018-01-01T00:19:55"
         },
         {
          "created_x": "2019-01-29T08:56:18",
          "l": 1,
          "tps_parcours": "2018-01-01T00:20:23"
         },
         {
          "created_x": "2019-01-29T08:56:28",
          "l": 1,
          "tps_parcours": "2018-01-01T00:20:15"
         },
         {
          "created_x": "2019-01-29T08:57:00",
          "l": 1,
          "tps_parcours": "2018-01-01T00:19:49"
         },
         {
          "created_x": "2019-01-29T08:57:28",
          "l": 1,
          "tps_parcours": "2018-01-01T00:19:48"
         },
         {
          "created_x": "2019-01-29T08:39:51",
          "l": -1,
          "tps_parcours": "2018-01-01T00:37:29"
         },
         {
          "created_x": "2019-01-29T08:57:58",
          "l": 1,
          "tps_parcours": "2018-01-01T00:20:11"
         },
         {
          "created_x": "2019-01-29T08:58:19",
          "l": 1,
          "tps_parcours": "2018-01-01T00:19:58"
         },
         {
          "created_x": "2019-01-29T08:59:15",
          "l": -1,
          "tps_parcours": "2018-01-01T00:19:34"
         },
         {
          "created_x": "2019-01-29T08:59:05",
          "l": -1,
          "tps_parcours": "2018-01-01T00:19:47"
         },
         {
          "created_x": "2019-01-29T08:59:08",
          "l": -1,
          "tps_parcours": "2018-01-01T00:20:09"
         },
         {
          "created_x": "2019-01-29T08:59:03",
          "l": 1,
          "tps_parcours": "2018-01-01T00:20:24"
         },
         {
          "created_x": "2019-01-29T08:59:21",
          "l": 0,
          "tps_parcours": "2018-01-01T00:20:08"
         },
         {
          "created_x": "2019-01-29T08:59:39",
          "l": 1,
          "tps_parcours": "2018-01-01T00:20:03"
         },
         {
          "created_x": "2019-01-29T08:59:50",
          "l": 1,
          "tps_parcours": "2018-01-01T00:19:54"
         },
         {
          "created_x": "2019-01-29T08:59:43",
          "l": 1,
          "tps_parcours": "2018-01-01T00:20:05"
         },
         {
          "created_x": "2019-01-29T08:59:27",
          "l": -1,
          "tps_parcours": "2018-01-01T00:20:24"
         },
         {
          "created_x": "2019-01-29T08:59:46",
          "l": -1,
          "tps_parcours": "2018-01-01T00:20:11"
         },
         {
          "created_x": "2019-01-29T08:59:53",
          "l": -1,
          "tps_parcours": "2018-01-01T00:20:31"
         },
         {
          "created_x": "2019-01-29T08:46:05",
          "l": 0,
          "tps_parcours": "2018-01-01T00:36:11"
         },
         {
          "created_x": "2019-01-29T08:09:50",
          "l": 1,
          "tps_parcours": "2018-01-01T01:12:50"
         },
         {
          "created_x": "2019-01-29T08:57:28",
          "l": 0,
          "tps_parcours": "2018-01-01T00:27:21"
         },
         {
          "created_x": "2019-01-29T09:00:00",
          "l": 1,
          "tps_parcours": "2018-01-01T00:26:56"
         },
         {
          "created_x": "2019-01-29T08:15:40",
          "l": 0,
          "tps_parcours": "2018-01-01T01:11:28"
         },
         {
          "created_x": "2019-01-29T08:15:51",
          "l": -1,
          "tps_parcours": "2018-01-01T01:13:08"
         },
         {
          "created_x": "2019-01-29T08:11:37",
          "l": 1,
          "tps_parcours": "2018-01-01T01:19:47"
         },
         {
          "created_x": "2019-01-29T08:43:51",
          "l": 0,
          "tps_parcours": "2018-01-01T00:48:04"
         },
         {
          "created_x": "2019-01-29T08:21:21",
          "l": -1,
          "tps_parcours": "2018-01-01T01:12:43"
         },
         {
          "created_x": "2019-01-29T08:46:35",
          "l": 0,
          "tps_parcours": "2018-01-01T00:48:23"
         },
         {
          "created_x": "2019-01-29T08:11:23",
          "l": -1,
          "tps_parcours": "2018-01-01T01:24:43"
         },
         {
          "created_x": "2019-01-29T08:46:51",
          "l": 0,
          "tps_parcours": "2018-01-01T00:50:37"
         },
         {
          "created_x": "2019-01-29T08:21:35",
          "l": 0,
          "tps_parcours": "2018-01-01T01:17:06"
         },
         {
          "created_x": "2019-01-29T08:27:10",
          "l": -1,
          "tps_parcours": "2018-01-01T01:11:49"
         },
         {
          "created_x": "2019-01-29T08:24:46",
          "l": 1,
          "tps_parcours": "2018-01-01T01:14:25"
         },
         {
          "created_x": "2019-01-29T08:22:57",
          "l": -1,
          "tps_parcours": "2018-01-01T01:17:00"
         },
         {
          "created_x": "2019-01-29T08:22:16",
          "l": -1,
          "tps_parcours": "2018-01-01T01:17:45"
         },
         {
          "created_x": "2019-01-29T08:23:37",
          "l": 1,
          "tps_parcours": "2018-01-01T01:16:36"
         },
         {
          "created_x": "2019-01-29T08:10:50",
          "l": -1,
          "tps_parcours": "2018-01-01T01:32:19"
         },
         {
          "created_x": "2019-01-29T08:28:09",
          "l": 0,
          "tps_parcours": "2018-01-01T01:16:06"
         },
         {
          "created_x": "2019-01-29T08:47:17",
          "l": -1,
          "tps_parcours": "2018-01-01T00:57:34"
         },
         {
          "created_x": "2019-01-29T08:37:01",
          "l": 1,
          "tps_parcours": "2018-01-01T01:09:09"
         },
         {
          "created_x": "2019-01-29T08:48:52",
          "l": -1,
          "tps_parcours": "2018-01-01T00:57:42"
         },
         {
          "created_x": "2019-01-29T08:48:52",
          "l": -1,
          "tps_parcours": "2018-01-01T00:57:43"
         },
         {
          "created_x": "2019-01-29T08:18:46",
          "l": -1,
          "tps_parcours": "2018-01-01T01:28:21"
         },
         {
          "created_x": "2019-01-29T08:33:32",
          "l": 0,
          "tps_parcours": "2018-01-01T01:13:35"
         },
         {
          "created_x": "2019-01-29T08:53:02",
          "l": -1,
          "tps_parcours": "2018-01-01T00:58:51"
         },
         {
          "created_x": "2019-01-29T08:39:04",
          "l": -1,
          "tps_parcours": "2018-01-01T01:16:45"
         },
         {
          "created_x": "2019-01-29T08:38:57",
          "l": -1,
          "tps_parcours": "2018-01-01T01:17:18"
         },
         {
          "created_x": "2019-01-29T08:33:47",
          "l": 1,
          "tps_parcours": "2018-01-01T01:23:54"
         },
         {
          "created_x": "2019-01-29T08:19:48",
          "l": -1,
          "tps_parcours": "2018-01-01T01:38:34"
         },
         {
          "created_x": "2019-01-29T08:47:12",
          "l": -1,
          "tps_parcours": "2018-01-01T01:18:46"
         },
         {
          "created_x": "2019-01-29T08:54:48",
          "l": 1,
          "tps_parcours": "2018-01-01T01:12:56"
         },
         {
          "created_x": "2019-01-29T08:55:05",
          "l": 0,
          "tps_parcours": "2018-01-01T01:14:17"
         },
         {
          "created_x": "2019-01-29T08:09:36",
          "l": 0,
          "tps_parcours": "2018-01-01T02:13:09"
         },
         {
          "created_x": "2019-01-29T08:35:18",
          "l": 1,
          "tps_parcours": "2018-01-01T02:04:32"
         },
         {
          "created_x": "2019-01-29T08:34:02",
          "l": 1,
          "tps_parcours": "2018-01-01T02:08:06"
         },
         {
          "created_x": "2019-01-29T08:03:11",
          "l": 0,
          "tps_parcours": "2018-01-01T02:39:50"
         },
         {
          "created_x": "2019-01-29T08:58:03",
          "l": 1,
          "tps_parcours": "2018-01-01T01:49:58"
         },
         {
          "created_x": "2019-01-29T08:38:51",
          "l": 1,
          "tps_parcours": "2018-01-01T02:12:48"
         },
         {
          "created_x": "2019-01-29T08:02:13",
          "l": 0,
          "tps_parcours": "2018-01-01T03:09:00"
         },
         {
          "created_x": "2019-01-29T08:31:52",
          "l": 1,
          "tps_parcours": "2018-01-01T02:47:50"
         },
         {
          "created_x": "2019-01-29T08:53:42",
          "l": 1,
          "tps_parcours": "2018-01-01T02:26:47"
         },
         {
          "created_x": "2019-01-29T08:00:26",
          "l": 0,
          "tps_parcours": "2018-01-01T03:26:44"
         },
         {
          "created_x": "2019-01-29T08:47:10",
          "l": -1,
          "tps_parcours": "2018-01-01T07:15:41"
         }
        ]
       },
       "hconcat": [
        {
         "data": {
          "name": "data-a1dd07c7447c42686229a8b3a9176a22"
         },
         "encoding": {
          "color": {
           "condition": {
            "field": "l",
            "legend": null,
            "selection": "selector008",
            "type": "nominal"
           },
           "value": "lightgray"
          },
          "shape": {
           "field": "l",
           "type": "quantitative"
          },
          "tooltip": {
           "field": "tps_parcours",
           "type": "temporal"
          },
          "x": {
           "field": "created_x",
           "type": "temporal"
          },
          "y": {
           "field": "tps_parcours",
           "timeUnit": "hoursminutes",
           "type": "temporal"
          }
         },
         "mark": "point"
        },
        {
         "data": {
          "name": "data-a1dd07c7447c42686229a8b3a9176a22"
         },
         "encoding": {
          "color": {
           "condition": {
            "field": "l",
            "legend": null,
            "selection": "selector008",
            "type": "nominal"
           },
           "value": "lightgray"
          },
          "shape": {
           "field": "l",
           "type": "quantitative"
          },
          "y": {
           "axis": {
            "orient": "right"
           },
           "field": "l",
           "type": "quantitative"
          }
         },
         "mark": "point",
         "selection": {
          "selector008": {
           "empty": "all",
           "fields": [
            "l"
           ],
           "on": "click",
           "resolve": "global",
           "toggle": "event.shiftKey",
           "type": "multi"
          }
         }
        }
       ]
      },
      "image/png": "[encoded data removed]",
      "text/plain": [
       "<VegaLite 2 object>\n",
       "\n",
       "If you see this message, it means the renderer has not been properly enabled\n",
       "for the frontend that you are using. For more information, see\n",
       "https://altair-viz.github.io/user_guide/troubleshooting.html\n"
      ]
     },
     "execution_count": 90,
     "metadata": {},
     "output_type": "execute_result"
    }
   ],
   "source": [
    "graph_brut | legende"
   ]
  },
  {
   "cell_type": "markdown",
   "metadata": {},
   "source": [
    "        chap 2.1.2 : Trouver les échanges entre les 2 cameras suivantes"
   ]
  },
  {
   "cell_type": "code",
   "execution_count": 209,
   "metadata": {},
   "outputs": [],
   "source": [
    "#recherche des trajets indirects entre 2 cameras\n",
    "# on se base sur les temps de trajets trouvé sur les deux cameras precedente pour limiter la recherche des donnees\n",
    "indirect_cam_19_4_5_4_5=t.recherche_trajet_indirect(df_journee,indirect_cam_19_4_5_19_4,16, 1,5)"
   ]
  },
  {
   "cell_type": "code",
   "execution_count": 210,
   "metadata": {},
   "outputs": [
    {
     "data": {
      "text/html": [
       "<div>\n",
       "<style scoped>\n",
       "    .dataframe tbody tr th:only-of-type {\n",
       "        vertical-align: middle;\n",
       "    }\n",
       "\n",
       "    .dataframe tbody tr th {\n",
       "        vertical-align: top;\n",
       "    }\n",
       "\n",
       "    .dataframe thead th {\n",
       "        text-align: right;\n",
       "    }\n",
       "</style>\n",
       "<table border=\"1\" class=\"dataframe\">\n",
       "  <thead>\n",
       "    <tr style=\"text-align: right;\">\n",
       "      <th></th>\n",
       "      <th>immat</th>\n",
       "      <th>date_cam_1</th>\n",
       "      <th>date_cam_2</th>\n",
       "      <th>cam_1</th>\n",
       "      <th>cam_2</th>\n",
       "      <th>tps_parcours</th>\n",
       "    </tr>\n",
       "  </thead>\n",
       "  <tbody>\n",
       "    <tr>\n",
       "      <th>0</th>\n",
       "      <td>18fda67fd50f38137a2732f3cf50575d63203bf9</td>\n",
       "      <td>2019-01-29 08:44:56</td>\n",
       "      <td>2019-01-29 12:53:39</td>\n",
       "      <td>19</td>\n",
       "      <td>5</td>\n",
       "      <td>04:08:43</td>\n",
       "    </tr>\n",
       "    <tr>\n",
       "      <th>1</th>\n",
       "      <td>4e3833473652932c01a07b0a1660943cc3125194</td>\n",
       "      <td>2019-01-29 08:47:54</td>\n",
       "      <td>2019-01-29 10:30:11</td>\n",
       "      <td>19</td>\n",
       "      <td>5</td>\n",
       "      <td>01:42:17</td>\n",
       "    </tr>\n",
       "  </tbody>\n",
       "</table>\n",
       "</div>"
      ],
      "text/plain": [
       "                                      immat          date_cam_1          date_cam_2  cam_1  cam_2 tps_parcours\n",
       "0  18fda67fd50f38137a2732f3cf50575d63203bf9 2019-01-29 08:44:56 2019-01-29 12:53:39     19      5     04:08:43\n",
       "1  4e3833473652932c01a07b0a1660943cc3125194 2019-01-29 08:47:54 2019-01-29 10:30:11     19      5     01:42:17"
      ]
     },
     "execution_count": 210,
     "metadata": {},
     "output_type": "execute_result"
    }
   ],
   "source": [
    "indirect_cam_19_4_5_4_5"
   ]
  },
  {
   "cell_type": "markdown",
   "metadata": {},
   "source": [
    "    Chap 2.2. Trouver les échanges directs"
   ]
  },
  {
   "cell_type": "code",
   "execution_count": 94,
   "metadata": {},
   "outputs": [],
   "source": [
    "#et on reutilie la classe df_tps_parcours, qui ne renvoi que les immat qui passent directement par la seconde cameras \n",
    "#on pourrait utiliser les données de temps max collectées par les échanges indirect pour limiter les données, là je laisse la possibilité de prendre 16h plus tard\n",
    "direct_cam19_5=t.df_tps_parcours(df_journee,'2019-01-29 08:00:00', 60, 16, 19,5)"
   ]
  },
  {
   "cell_type": "code",
   "execution_count": 206,
   "metadata": {},
   "outputs": [
    {
     "data": {
      "text/html": [
       "<div>\n",
       "<style scoped>\n",
       "    .dataframe tbody tr th:only-of-type {\n",
       "        vertical-align: middle;\n",
       "    }\n",
       "\n",
       "    .dataframe tbody tr th {\n",
       "        vertical-align: top;\n",
       "    }\n",
       "\n",
       "    .dataframe thead th {\n",
       "        text-align: right;\n",
       "    }\n",
       "</style>\n",
       "<table border=\"1\" class=\"dataframe\">\n",
       "  <thead>\n",
       "    <tr style=\"text-align: right;\">\n",
       "      <th></th>\n",
       "      <th>immat</th>\n",
       "      <th>date_cam_1</th>\n",
       "      <th>cam_1</th>\n",
       "      <th>date_cam_2</th>\n",
       "      <th>cam_2</th>\n",
       "      <th>tps_parcours</th>\n",
       "    </tr>\n",
       "  </thead>\n",
       "  <tbody>\n",
       "    <tr>\n",
       "      <th>0</th>\n",
       "      <td>7ca71703d969471beceb2ea5c7cf675c9e2bbf3c</td>\n",
       "      <td>2019-01-29 08:02:04</td>\n",
       "      <td>19</td>\n",
       "      <td>2019-01-29 08:36:58</td>\n",
       "      <td>5</td>\n",
       "      <td>00:34:54</td>\n",
       "    </tr>\n",
       "    <tr>\n",
       "      <th>3</th>\n",
       "      <td>05688c9f347397d71e843bec4be08deb738e9ce9</td>\n",
       "      <td>2019-01-29 08:07:36</td>\n",
       "      <td>19</td>\n",
       "      <td>2019-01-29 08:41:23</td>\n",
       "      <td>5</td>\n",
       "      <td>00:33:47</td>\n",
       "    </tr>\n",
       "    <tr>\n",
       "      <th>5</th>\n",
       "      <td>cb255482f4ef2287f2960b7f613f129c32ab0aab</td>\n",
       "      <td>2019-01-29 08:11:25</td>\n",
       "      <td>19</td>\n",
       "      <td>2019-01-29 08:44:54</td>\n",
       "      <td>5</td>\n",
       "      <td>00:33:29</td>\n",
       "    </tr>\n",
       "    <tr>\n",
       "      <th>6</th>\n",
       "      <td>2397fb7098303d72ca7f7ad2e3f761cced93dbdc</td>\n",
       "      <td>2019-01-29 08:14:52</td>\n",
       "      <td>19</td>\n",
       "      <td>2019-01-29 08:47:33</td>\n",
       "      <td>5</td>\n",
       "      <td>00:32:41</td>\n",
       "    </tr>\n",
       "    <tr>\n",
       "      <th>10</th>\n",
       "      <td>be874c36d30958a6ae091fbfbfa9830ce16f5c03</td>\n",
       "      <td>2019-01-29 08:33:11</td>\n",
       "      <td>19</td>\n",
       "      <td>2019-01-29 08:58:24</td>\n",
       "      <td>5</td>\n",
       "      <td>00:25:13</td>\n",
       "    </tr>\n",
       "    <tr>\n",
       "      <th>13</th>\n",
       "      <td>13c9b885389ad4d59feaaac9eec0b330349c33f4</td>\n",
       "      <td>2019-01-29 08:14:52</td>\n",
       "      <td>19</td>\n",
       "      <td>2019-01-29 09:01:13</td>\n",
       "      <td>5</td>\n",
       "      <td>00:46:21</td>\n",
       "    </tr>\n",
       "    <tr>\n",
       "      <th>14</th>\n",
       "      <td>885a144888cb53d5cab950ce62de2bd22faefb25</td>\n",
       "      <td>2019-01-29 08:31:20</td>\n",
       "      <td>19</td>\n",
       "      <td>2019-01-29 09:01:35</td>\n",
       "      <td>5</td>\n",
       "      <td>00:30:15</td>\n",
       "    </tr>\n",
       "    <tr>\n",
       "      <th>15</th>\n",
       "      <td>133c9bceac97b6e998fa438a4c674d5b3f74001b</td>\n",
       "      <td>2019-01-29 08:29:18</td>\n",
       "      <td>19</td>\n",
       "      <td>2019-01-29 09:01:36</td>\n",
       "      <td>5</td>\n",
       "      <td>00:32:18</td>\n",
       "    </tr>\n",
       "    <tr>\n",
       "      <th>22</th>\n",
       "      <td>00e0fefe9616459cbd1d7e7f0b89646322733752</td>\n",
       "      <td>2019-01-29 08:48:27</td>\n",
       "      <td>19</td>\n",
       "      <td>2019-01-29 09:14:52</td>\n",
       "      <td>5</td>\n",
       "      <td>00:26:25</td>\n",
       "    </tr>\n",
       "    <tr>\n",
       "      <th>24</th>\n",
       "      <td>ea0bb3ad86c5c202acdd11037621e15e2eb938a3</td>\n",
       "      <td>2019-01-29 08:12:21</td>\n",
       "      <td>19</td>\n",
       "      <td>2019-01-29 09:19:52</td>\n",
       "      <td>5</td>\n",
       "      <td>01:07:31</td>\n",
       "    </tr>\n",
       "    <tr>\n",
       "      <th>25</th>\n",
       "      <td>3348e8110a7822fbd75a70185d26c51e4f956495</td>\n",
       "      <td>2019-01-29 08:47:50</td>\n",
       "      <td>19</td>\n",
       "      <td>2019-01-29 09:20:07</td>\n",
       "      <td>5</td>\n",
       "      <td>00:32:17</td>\n",
       "    </tr>\n",
       "    <tr>\n",
       "      <th>26</th>\n",
       "      <td>ca5ef0be7db0a7d0279b0d850ad469d6fe1e4fba</td>\n",
       "      <td>2019-01-29 08:48:46</td>\n",
       "      <td>19</td>\n",
       "      <td>2019-01-29 09:21:27</td>\n",
       "      <td>5</td>\n",
       "      <td>00:32:41</td>\n",
       "    </tr>\n",
       "    <tr>\n",
       "      <th>28</th>\n",
       "      <td>6fbc9ee96655383e68d3520ffd15b2d35a4797c8</td>\n",
       "      <td>2019-01-29 08:52:39</td>\n",
       "      <td>19</td>\n",
       "      <td>2019-01-29 09:24:32</td>\n",
       "      <td>5</td>\n",
       "      <td>00:31:53</td>\n",
       "    </tr>\n",
       "    <tr>\n",
       "      <th>29</th>\n",
       "      <td>7321c17f8977c7d03c98b4e78aa0dcede29abb7f</td>\n",
       "      <td>2019-01-29 08:54:52</td>\n",
       "      <td>19</td>\n",
       "      <td>2019-01-29 09:25:53</td>\n",
       "      <td>5</td>\n",
       "      <td>00:31:01</td>\n",
       "    </tr>\n",
       "    <tr>\n",
       "      <th>36</th>\n",
       "      <td>720be7eb02769afde525f1d7c8bb3fc0e4b86c20</td>\n",
       "      <td>2019-01-29 08:43:49</td>\n",
       "      <td>19</td>\n",
       "      <td>2019-01-29 09:52:08</td>\n",
       "      <td>5</td>\n",
       "      <td>01:08:19</td>\n",
       "    </tr>\n",
       "  </tbody>\n",
       "</table>\n",
       "</div>"
      ],
      "text/plain": [
       "                                       immat          date_cam_1  cam_1          date_cam_2  cam_2 tps_parcours\n",
       "0   7ca71703d969471beceb2ea5c7cf675c9e2bbf3c 2019-01-29 08:02:04     19 2019-01-29 08:36:58      5     00:34:54\n",
       "3   05688c9f347397d71e843bec4be08deb738e9ce9 2019-01-29 08:07:36     19 2019-01-29 08:41:23      5     00:33:47\n",
       "5   cb255482f4ef2287f2960b7f613f129c32ab0aab 2019-01-29 08:11:25     19 2019-01-29 08:44:54      5     00:33:29\n",
       "6   2397fb7098303d72ca7f7ad2e3f761cced93dbdc 2019-01-29 08:14:52     19 2019-01-29 08:47:33      5     00:32:41\n",
       "10  be874c36d30958a6ae091fbfbfa9830ce16f5c03 2019-01-29 08:33:11     19 2019-01-29 08:58:24      5     00:25:13\n",
       "13  13c9b885389ad4d59feaaac9eec0b330349c33f4 2019-01-29 08:14:52     19 2019-01-29 09:01:13      5     00:46:21\n",
       "14  885a144888cb53d5cab950ce62de2bd22faefb25 2019-01-29 08:31:20     19 2019-01-29 09:01:35      5     00:30:15\n",
       "15  133c9bceac97b6e998fa438a4c674d5b3f74001b 2019-01-29 08:29:18     19 2019-01-29 09:01:36      5     00:32:18\n",
       "22  00e0fefe9616459cbd1d7e7f0b89646322733752 2019-01-29 08:48:27     19 2019-01-29 09:14:52      5     00:26:25\n",
       "24  ea0bb3ad86c5c202acdd11037621e15e2eb938a3 2019-01-29 08:12:21     19 2019-01-29 09:19:52      5     01:07:31\n",
       "25  3348e8110a7822fbd75a70185d26c51e4f956495 2019-01-29 08:47:50     19 2019-01-29 09:20:07      5     00:32:17\n",
       "26  ca5ef0be7db0a7d0279b0d850ad469d6fe1e4fba 2019-01-29 08:48:46     19 2019-01-29 09:21:27      5     00:32:41\n",
       "28  6fbc9ee96655383e68d3520ffd15b2d35a4797c8 2019-01-29 08:52:39     19 2019-01-29 09:24:32      5     00:31:53\n",
       "29  7321c17f8977c7d03c98b4e78aa0dcede29abb7f 2019-01-29 08:54:52     19 2019-01-29 09:25:53      5     00:31:01\n",
       "36  720be7eb02769afde525f1d7c8bb3fc0e4b86c20 2019-01-29 08:43:49     19 2019-01-29 09:52:08      5     01:08:19"
      ]
     },
     "execution_count": 206,
     "metadata": {},
     "output_type": "execute_result"
    }
   ],
   "source": [
    "direct_cam19_5.df_tps_parcours_pl_final#on pourrait aussi limiter les donnees obtenues selon les temps de parcours par trajet indirects"
   ]
  },
  {
   "cell_type": "code",
   "execution_count": 96,
   "metadata": {},
   "outputs": [],
   "source": [
    "graoh1, praph2, legend2 =direct_cam19_5.plot_graphs()"
   ]
  },
  {
   "cell_type": "code",
   "execution_count": 97,
   "metadata": {},
   "outputs": [
    {
     "data": {
      "application/vnd.vegalite.v2+json": {
       "$schema": "https://vega.github.io/schema/vega-lite/v2.6.0.json",
       "config": {
        "view": {
         "height": 300,
         "width": 400
        }
       },
       "datasets": {
        "data-e4fbcda6c73e60313b0a79ed91b5b3d5": [
         {
          "created_x": "2019-01-29T08:02:04",
          "l": 1,
          "tps_parcours": "2018-01-01T00:34:54"
         },
         {
          "created_x": "2019-01-29T08:07:14",
          "l": 0,
          "tps_parcours": "2018-01-01T00:30:47"
         },
         {
          "created_x": "2019-01-29T08:01:30",
          "l": 0,
          "tps_parcours": "2018-01-01T00:38:45"
         },
         {
          "created_x": "2019-01-29T08:07:36",
          "l": 1,
          "tps_parcours": "2018-01-01T00:33:47"
         },
         {
          "created_x": "2019-01-29T08:14:13",
          "l": 0,
          "tps_parcours": "2018-01-01T00:29:57"
         },
         {
          "created_x": "2019-01-29T08:11:25",
          "l": 1,
          "tps_parcours": "2018-01-01T00:33:29"
         },
         {
          "created_x": "2019-01-29T08:14:52",
          "l": 1,
          "tps_parcours": "2018-01-01T00:32:41"
         },
         {
          "created_x": "2019-01-29T08:20:46",
          "l": 0,
          "tps_parcours": "2018-01-01T00:27:29"
         },
         {
          "created_x": "2019-01-29T08:19:06",
          "l": -1,
          "tps_parcours": "2018-01-01T00:31:54"
         },
         {
          "created_x": "2019-01-29T08:25:54",
          "l": 0,
          "tps_parcours": "2018-01-01T00:27:08"
         },
         {
          "created_x": "2019-01-29T08:33:11",
          "l": 1,
          "tps_parcours": "2018-01-01T00:25:13"
         },
         {
          "created_x": "2019-01-29T08:28:16",
          "l": -1,
          "tps_parcours": "2018-01-01T00:30:58"
         },
         {
          "created_x": "2019-01-29T08:28:27",
          "l": -1,
          "tps_parcours": "2018-01-01T00:31:52"
         },
         {
          "created_x": "2019-01-29T08:14:52",
          "l": 1,
          "tps_parcours": "2018-01-01T00:46:21"
         },
         {
          "created_x": "2019-01-29T08:31:20",
          "l": 1,
          "tps_parcours": "2018-01-01T00:30:15"
         },
         {
          "created_x": "2019-01-29T08:29:18",
          "l": 1,
          "tps_parcours": "2018-01-01T00:32:18"
         },
         {
          "created_x": "2019-01-29T08:39:22",
          "l": 0,
          "tps_parcours": "2018-01-01T00:25:12"
         },
         {
          "created_x": "2019-01-29T08:40:31",
          "l": 0,
          "tps_parcours": "2018-01-01T00:24:31"
         },
         {
          "created_x": "2019-01-29T08:36:21",
          "l": -1,
          "tps_parcours": "2018-01-01T00:30:57"
         },
         {
          "created_x": "2019-01-29T08:34:47",
          "l": 0,
          "tps_parcours": "2018-01-01T00:32:59"
         },
         {
          "created_x": "2019-01-29T08:31:36",
          "l": -1,
          "tps_parcours": "2018-01-01T00:40:15"
         },
         {
          "created_x": "2019-01-29T08:49:36",
          "l": 0,
          "tps_parcours": "2018-01-01T00:24:29"
         },
         {
          "created_x": "2019-01-29T08:48:27",
          "l": 1,
          "tps_parcours": "2018-01-01T00:26:25"
         },
         {
          "created_x": "2019-01-29T08:54:26",
          "l": 0,
          "tps_parcours": "2018-01-01T00:25:08"
         },
         {
          "created_x": "2019-01-29T08:12:21",
          "l": 1,
          "tps_parcours": "2018-01-01T01:07:31"
         },
         {
          "created_x": "2019-01-29T08:47:50",
          "l": 1,
          "tps_parcours": "2018-01-01T00:32:17"
         },
         {
          "created_x": "2019-01-29T08:48:46",
          "l": 1,
          "tps_parcours": "2018-01-01T00:32:41"
         },
         {
          "created_x": "2019-01-29T08:56:36",
          "l": 0,
          "tps_parcours": "2018-01-01T00:25:31"
         },
         {
          "created_x": "2019-01-29T08:52:39",
          "l": 1,
          "tps_parcours": "2018-01-01T00:31:53"
         },
         {
          "created_x": "2019-01-29T08:54:52",
          "l": 1,
          "tps_parcours": "2018-01-01T00:31:01"
         },
         {
          "created_x": "2019-01-29T08:59:25",
          "l": -1,
          "tps_parcours": "2018-01-01T00:30:02"
         },
         {
          "created_x": "2019-01-29T08:59:15",
          "l": -1,
          "tps_parcours": "2018-01-01T00:30:34"
         },
         {
          "created_x": "2019-01-29T08:55:30",
          "l": 0,
          "tps_parcours": "2018-01-01T00:35:58"
         },
         {
          "created_x": "2019-01-29T08:34:38",
          "l": 0,
          "tps_parcours": "2018-01-01T01:05:26"
         },
         {
          "created_x": "2019-01-29T08:17:47",
          "l": 0,
          "tps_parcours": "2018-01-01T01:26:28"
         },
         {
          "created_x": "2019-01-29T08:24:40",
          "l": 1,
          "tps_parcours": "2018-01-01T01:25:03"
         },
         {
          "created_x": "2019-01-29T08:43:49",
          "l": 1,
          "tps_parcours": "2018-01-01T01:08:19"
         },
         {
          "created_x": "2019-01-29T08:39:20",
          "l": 1,
          "tps_parcours": "2018-01-01T01:39:39"
         },
         {
          "created_x": "2019-01-29T08:51:11",
          "l": -1,
          "tps_parcours": "2018-01-01T01:57:12"
         },
         {
          "created_x": "2019-01-29T08:20:43",
          "l": -1,
          "tps_parcours": "2018-01-01T04:58:52"
         }
        ]
       },
       "hconcat": [
        {
         "data": {
          "name": "data-e4fbcda6c73e60313b0a79ed91b5b3d5"
         },
         "encoding": {
          "color": {
           "condition": {
            "field": "l",
            "legend": null,
            "selection": "selector009",
            "type": "nominal"
           },
           "value": "lightgray"
          },
          "shape": {
           "field": "l",
           "type": "quantitative"
          },
          "tooltip": {
           "field": "tps_parcours",
           "type": "temporal"
          },
          "x": {
           "field": "created_x",
           "type": "temporal"
          },
          "y": {
           "field": "tps_parcours",
           "timeUnit": "hoursminutes",
           "type": "temporal"
          }
         },
         "mark": "point"
        },
        {
         "data": {
          "name": "data-e4fbcda6c73e60313b0a79ed91b5b3d5"
         },
         "encoding": {
          "color": {
           "condition": {
            "field": "l",
            "legend": null,
            "selection": "selector009",
            "type": "nominal"
           },
           "value": "lightgray"
          },
          "shape": {
           "field": "l",
           "type": "quantitative"
          },
          "y": {
           "axis": {
            "orient": "right"
           },
           "field": "l",
           "type": "quantitative"
          }
         },
         "mark": "point",
         "selection": {
          "selector009": {
           "empty": "all",
           "fields": [
            "l"
           ],
           "on": "click",
           "resolve": "global",
           "toggle": "event.shiftKey",
           "type": "multi"
          }
         }
        }
       ]
      },
      "image/png": "[encoded data removed]",
      "text/plain": [
       "<VegaLite 2 object>\n",
       "\n",
       "If you see this message, it means the renderer has not been properly enabled\n",
       "for the frontend that you are using. For more information, see\n",
       "https://altair-viz.github.io/user_guide/troubleshooting.html\n"
      ]
     },
     "execution_count": 97,
     "metadata": {},
     "output_type": "execute_result"
    }
   ],
   "source": [
    "praph2 | legend2"
   ]
  },
  {
   "cell_type": "markdown",
   "metadata": {},
   "source": [
    "Chap 2.3 Assembler les données "
   ]
  },
  {
   "cell_type": "code",
   "execution_count": 98,
   "metadata": {},
   "outputs": [],
   "source": [
    "# récupérer les données de trajet indirects et directs, puis concaténer et vérifier qu'il n'y a pasde doublons\n",
    "cam_19_5=pd.concat([indirect_cam_19_4_5_4_5,direct_cam19_5.df_tps_parcours_pl_final], sort=False)"
   ]
  },
  {
   "cell_type": "code",
   "execution_count": 99,
   "metadata": {},
   "outputs": [
    {
     "data": {
      "text/html": [
       "<div>\n",
       "<style scoped>\n",
       "    .dataframe tbody tr th:only-of-type {\n",
       "        vertical-align: middle;\n",
       "    }\n",
       "\n",
       "    .dataframe tbody tr th {\n",
       "        vertical-align: top;\n",
       "    }\n",
       "\n",
       "    .dataframe thead th {\n",
       "        text-align: right;\n",
       "    }\n",
       "</style>\n",
       "<table border=\"1\" class=\"dataframe\">\n",
       "  <thead>\n",
       "    <tr style=\"text-align: right;\">\n",
       "      <th></th>\n",
       "      <th>immat</th>\n",
       "      <th>date_cam_1</th>\n",
       "      <th>date_cam_2</th>\n",
       "      <th>cam_1</th>\n",
       "      <th>cam_2</th>\n",
       "      <th>tps_parcours</th>\n",
       "    </tr>\n",
       "  </thead>\n",
       "  <tbody>\n",
       "    <tr>\n",
       "      <th>0</th>\n",
       "      <td>bf9dfd50a4a693085e3080156f11c25314f96f03</td>\n",
       "      <td>2019-01-29 08:00:56</td>\n",
       "      <td>2019-01-29 08:37:18</td>\n",
       "      <td>19</td>\n",
       "      <td>5</td>\n",
       "      <td>00:36:22</td>\n",
       "    </tr>\n",
       "    <tr>\n",
       "      <th>1</th>\n",
       "      <td>cf4f7ddbb3a6d9006e029777df712a53c2d76992</td>\n",
       "      <td>2019-01-29 08:01:07</td>\n",
       "      <td>2019-01-29 08:37:04</td>\n",
       "      <td>19</td>\n",
       "      <td>5</td>\n",
       "      <td>00:35:57</td>\n",
       "    </tr>\n",
       "    <tr>\n",
       "      <th>2</th>\n",
       "      <td>183bc8585ac5a2e26b6d2ada6ce6891235a36b92</td>\n",
       "      <td>2019-01-29 08:01:16</td>\n",
       "      <td>2019-01-29 08:37:20</td>\n",
       "      <td>19</td>\n",
       "      <td>5</td>\n",
       "      <td>00:36:04</td>\n",
       "    </tr>\n",
       "    <tr>\n",
       "      <th>3</th>\n",
       "      <td>dcf2ffa7638b1ae7d0281cbb94d4c7cf0a0912f7</td>\n",
       "      <td>2019-01-29 08:02:34</td>\n",
       "      <td>2019-01-29 08:37:42</td>\n",
       "      <td>19</td>\n",
       "      <td>5</td>\n",
       "      <td>00:35:08</td>\n",
       "    </tr>\n",
       "    <tr>\n",
       "      <th>4</th>\n",
       "      <td>54581cfa0b0f0c1dbe24fd60ca7efcc07439232f</td>\n",
       "      <td>2019-01-29 08:02:19</td>\n",
       "      <td>2019-01-29 08:38:07</td>\n",
       "      <td>19</td>\n",
       "      <td>5</td>\n",
       "      <td>00:35:48</td>\n",
       "    </tr>\n",
       "    <tr>\n",
       "      <th>5</th>\n",
       "      <td>31c6bdae383e5c4f25e803d55dc539d6c40e6105</td>\n",
       "      <td>2019-01-29 08:03:06</td>\n",
       "      <td>2019-01-29 08:38:16</td>\n",
       "      <td>19</td>\n",
       "      <td>5</td>\n",
       "      <td>00:35:10</td>\n",
       "    </tr>\n",
       "    <tr>\n",
       "      <th>6</th>\n",
       "      <td>77728d75d8ee8a1e27c95ca4077faddbf9dcdd93</td>\n",
       "      <td>2019-01-29 08:03:55</td>\n",
       "      <td>2019-01-29 08:38:48</td>\n",
       "      <td>19</td>\n",
       "      <td>5</td>\n",
       "      <td>00:34:53</td>\n",
       "    </tr>\n",
       "    <tr>\n",
       "      <th>7</th>\n",
       "      <td>59148b1dc67f7b2ca10635cd4fabe903b1fd0b63</td>\n",
       "      <td>2019-01-29 08:04:14</td>\n",
       "      <td>2019-01-29 08:39:21</td>\n",
       "      <td>19</td>\n",
       "      <td>5</td>\n",
       "      <td>00:35:07</td>\n",
       "    </tr>\n",
       "    <tr>\n",
       "      <th>8</th>\n",
       "      <td>3de49b107ce9b3f1add8f9314add9f5a2cadbe50</td>\n",
       "      <td>2019-01-29 08:05:07</td>\n",
       "      <td>2019-01-29 08:39:49</td>\n",
       "      <td>19</td>\n",
       "      <td>5</td>\n",
       "      <td>00:34:42</td>\n",
       "    </tr>\n",
       "    <tr>\n",
       "      <th>9</th>\n",
       "      <td>2a88c4e3e59236321a2098ccc9dd4b47f2eed478</td>\n",
       "      <td>2019-01-29 08:07:23</td>\n",
       "      <td>2019-01-29 08:42:27</td>\n",
       "      <td>19</td>\n",
       "      <td>5</td>\n",
       "      <td>00:35:04</td>\n",
       "    </tr>\n",
       "    <tr>\n",
       "      <th>10</th>\n",
       "      <td>5173f6a0a8ddf8df788408f70f14b0cd71333fd4</td>\n",
       "      <td>2019-01-29 08:08:20</td>\n",
       "      <td>2019-01-29 08:43:36</td>\n",
       "      <td>19</td>\n",
       "      <td>5</td>\n",
       "      <td>00:35:16</td>\n",
       "    </tr>\n",
       "    <tr>\n",
       "      <th>11</th>\n",
       "      <td>b19849562d778b3f0faadab5d6375d196fa00c3e</td>\n",
       "      <td>2019-01-29 08:11:31</td>\n",
       "      <td>2019-01-29 08:46:33</td>\n",
       "      <td>19</td>\n",
       "      <td>5</td>\n",
       "      <td>00:35:02</td>\n",
       "    </tr>\n",
       "    <tr>\n",
       "      <th>12</th>\n",
       "      <td>d8f1940dce090c0dd70898ade323d44a20128cf7</td>\n",
       "      <td>2019-01-29 08:12:06</td>\n",
       "      <td>2019-01-29 08:46:39</td>\n",
       "      <td>19</td>\n",
       "      <td>5</td>\n",
       "      <td>00:34:33</td>\n",
       "    </tr>\n",
       "    <tr>\n",
       "      <th>13</th>\n",
       "      <td>86e69f471e55d135cfde733fd536d2906682b662</td>\n",
       "      <td>2019-01-29 08:12:13</td>\n",
       "      <td>2019-01-29 08:47:29</td>\n",
       "      <td>19</td>\n",
       "      <td>5</td>\n",
       "      <td>00:35:16</td>\n",
       "    </tr>\n",
       "    <tr>\n",
       "      <th>14</th>\n",
       "      <td>07f533c82778a42f4827e08e685d809e36017390</td>\n",
       "      <td>2019-01-29 08:13:13</td>\n",
       "      <td>2019-01-29 08:47:52</td>\n",
       "      <td>19</td>\n",
       "      <td>5</td>\n",
       "      <td>00:34:39</td>\n",
       "    </tr>\n",
       "    <tr>\n",
       "      <th>15</th>\n",
       "      <td>837898ee18a5c0fb78ac9c1001068fcb7c888550</td>\n",
       "      <td>2019-01-29 08:16:29</td>\n",
       "      <td>2019-01-29 08:50:59</td>\n",
       "      <td>19</td>\n",
       "      <td>5</td>\n",
       "      <td>00:34:30</td>\n",
       "    </tr>\n",
       "    <tr>\n",
       "      <th>16</th>\n",
       "      <td>11bec9781f63a9c6ed13dc8e9b73af792f9830c9</td>\n",
       "      <td>2019-01-29 08:20:21</td>\n",
       "      <td>2019-01-29 08:52:39</td>\n",
       "      <td>19</td>\n",
       "      <td>5</td>\n",
       "      <td>00:32:18</td>\n",
       "    </tr>\n",
       "    <tr>\n",
       "      <th>17</th>\n",
       "      <td>bd00a061a3d665bfbae3a1601c4808f329060c96</td>\n",
       "      <td>2019-01-29 08:20:40</td>\n",
       "      <td>2019-01-29 08:52:58</td>\n",
       "      <td>19</td>\n",
       "      <td>5</td>\n",
       "      <td>00:32:18</td>\n",
       "    </tr>\n",
       "    <tr>\n",
       "      <th>18</th>\n",
       "      <td>79974a434856bb71e13c30992f0d169a1a4a66fc</td>\n",
       "      <td>2019-01-29 08:20:55</td>\n",
       "      <td>2019-01-29 08:52:26</td>\n",
       "      <td>19</td>\n",
       "      <td>5</td>\n",
       "      <td>00:31:31</td>\n",
       "    </tr>\n",
       "    <tr>\n",
       "      <th>19</th>\n",
       "      <td>f2e470f4d6b5c0692705d44b98d3a2238f3bdcda</td>\n",
       "      <td>2019-01-29 08:21:42</td>\n",
       "      <td>2019-01-29 08:54:32</td>\n",
       "      <td>19</td>\n",
       "      <td>5</td>\n",
       "      <td>00:32:50</td>\n",
       "    </tr>\n",
       "    <tr>\n",
       "      <th>20</th>\n",
       "      <td>8793c445e0b831e8367bdd14305487a2d97e0e6d</td>\n",
       "      <td>2019-01-29 08:21:58</td>\n",
       "      <td>2019-01-29 08:55:35</td>\n",
       "      <td>19</td>\n",
       "      <td>5</td>\n",
       "      <td>00:33:37</td>\n",
       "    </tr>\n",
       "    <tr>\n",
       "      <th>21</th>\n",
       "      <td>f11c4da90f55f8a43876963c417d3ff755ff1586</td>\n",
       "      <td>2019-01-29 08:24:44</td>\n",
       "      <td>2019-01-29 08:55:36</td>\n",
       "      <td>19</td>\n",
       "      <td>5</td>\n",
       "      <td>00:30:52</td>\n",
       "    </tr>\n",
       "    <tr>\n",
       "      <th>22</th>\n",
       "      <td>2d8c2e8437a5ef6a1d9b79e36dd596c0a6623318</td>\n",
       "      <td>2019-01-29 08:24:52</td>\n",
       "      <td>2019-01-29 08:56:09</td>\n",
       "      <td>19</td>\n",
       "      <td>5</td>\n",
       "      <td>00:31:17</td>\n",
       "    </tr>\n",
       "    <tr>\n",
       "      <th>23</th>\n",
       "      <td>3c5ca02a9a314160f09c48b21cd2c00b99076ca6</td>\n",
       "      <td>2019-01-29 08:24:57</td>\n",
       "      <td>2019-01-29 08:56:52</td>\n",
       "      <td>19</td>\n",
       "      <td>5</td>\n",
       "      <td>00:31:55</td>\n",
       "    </tr>\n",
       "    <tr>\n",
       "      <th>24</th>\n",
       "      <td>7a6a2d05a710b54b4fdbc87ceee6f471f5f7d4ef</td>\n",
       "      <td>2019-01-29 08:25:51</td>\n",
       "      <td>2019-01-29 08:56:48</td>\n",
       "      <td>19</td>\n",
       "      <td>5</td>\n",
       "      <td>00:30:57</td>\n",
       "    </tr>\n",
       "    <tr>\n",
       "      <th>25</th>\n",
       "      <td>a4c03070e934e2f328992c3f7aa77edb9b95396b</td>\n",
       "      <td>2019-01-29 08:26:48</td>\n",
       "      <td>2019-01-29 08:58:34</td>\n",
       "      <td>19</td>\n",
       "      <td>5</td>\n",
       "      <td>00:31:46</td>\n",
       "    </tr>\n",
       "    <tr>\n",
       "      <th>26</th>\n",
       "      <td>b98d1874b66d7c7cdbd98ccf64d98ecadbb8f6cf</td>\n",
       "      <td>2019-01-29 08:26:48</td>\n",
       "      <td>2019-01-29 08:58:35</td>\n",
       "      <td>19</td>\n",
       "      <td>5</td>\n",
       "      <td>00:31:47</td>\n",
       "    </tr>\n",
       "    <tr>\n",
       "      <th>27</th>\n",
       "      <td>fd06f37936c529c968ca4f492ed29a7f0bd090ec</td>\n",
       "      <td>2019-01-29 08:27:50</td>\n",
       "      <td>2019-01-29 08:58:59</td>\n",
       "      <td>19</td>\n",
       "      <td>5</td>\n",
       "      <td>00:31:09</td>\n",
       "    </tr>\n",
       "    <tr>\n",
       "      <th>28</th>\n",
       "      <td>9df9882db4e917b0a36e31cd12f971a772fe315b</td>\n",
       "      <td>2019-01-29 08:28:04</td>\n",
       "      <td>2019-01-29 08:59:16</td>\n",
       "      <td>19</td>\n",
       "      <td>5</td>\n",
       "      <td>00:31:12</td>\n",
       "    </tr>\n",
       "    <tr>\n",
       "      <th>29</th>\n",
       "      <td>3630d036c608518d63820e011c0108ff0cc433b7</td>\n",
       "      <td>2019-01-29 08:27:45</td>\n",
       "      <td>2019-01-29 09:00:07</td>\n",
       "      <td>19</td>\n",
       "      <td>5</td>\n",
       "      <td>00:32:22</td>\n",
       "    </tr>\n",
       "    <tr>\n",
       "      <th>...</th>\n",
       "      <td>...</td>\n",
       "      <td>...</td>\n",
       "      <td>...</td>\n",
       "      <td>...</td>\n",
       "      <td>...</td>\n",
       "      <td>...</td>\n",
       "    </tr>\n",
       "    <tr>\n",
       "      <th>71</th>\n",
       "      <td>9cbae165f2225286a9cd3e4531abb4c4e0603f32</td>\n",
       "      <td>2019-01-29 08:51:57</td>\n",
       "      <td>2019-01-29 09:23:07</td>\n",
       "      <td>19</td>\n",
       "      <td>5</td>\n",
       "      <td>00:31:10</td>\n",
       "    </tr>\n",
       "    <tr>\n",
       "      <th>72</th>\n",
       "      <td>214d6b86318b472f8654918e2a05d12bf6107809</td>\n",
       "      <td>2019-01-29 08:52:24</td>\n",
       "      <td>2019-01-29 09:23:54</td>\n",
       "      <td>19</td>\n",
       "      <td>5</td>\n",
       "      <td>00:31:30</td>\n",
       "    </tr>\n",
       "    <tr>\n",
       "      <th>73</th>\n",
       "      <td>85e5a77f244a09f92c13ea4771dbd2bdf8c0a81a</td>\n",
       "      <td>2019-01-29 08:52:50</td>\n",
       "      <td>2019-01-29 09:23:58</td>\n",
       "      <td>19</td>\n",
       "      <td>5</td>\n",
       "      <td>00:31:08</td>\n",
       "    </tr>\n",
       "    <tr>\n",
       "      <th>74</th>\n",
       "      <td>a5c321613b1856762c53bc451b50aca46ba21a8b</td>\n",
       "      <td>2019-01-29 08:52:39</td>\n",
       "      <td>2019-01-29 09:24:32</td>\n",
       "      <td>19</td>\n",
       "      <td>5</td>\n",
       "      <td>00:31:53</td>\n",
       "    </tr>\n",
       "    <tr>\n",
       "      <th>75</th>\n",
       "      <td>b6a0a8bc25839592758497678774ff22611a8c2c</td>\n",
       "      <td>2019-01-29 08:52:55</td>\n",
       "      <td>2019-01-29 09:24:50</td>\n",
       "      <td>19</td>\n",
       "      <td>5</td>\n",
       "      <td>00:31:55</td>\n",
       "    </tr>\n",
       "    <tr>\n",
       "      <th>76</th>\n",
       "      <td>eed964834dfb99b6d544003e14a8f141b4d44d78</td>\n",
       "      <td>2019-01-29 08:53:26</td>\n",
       "      <td>2019-01-29 09:25:30</td>\n",
       "      <td>19</td>\n",
       "      <td>5</td>\n",
       "      <td>00:32:04</td>\n",
       "    </tr>\n",
       "    <tr>\n",
       "      <th>77</th>\n",
       "      <td>9b3373d6ea7cdf14ba7d8a18447d59797e6102b3</td>\n",
       "      <td>2019-01-29 08:54:30</td>\n",
       "      <td>2019-01-29 09:26:45</td>\n",
       "      <td>19</td>\n",
       "      <td>5</td>\n",
       "      <td>00:32:15</td>\n",
       "    </tr>\n",
       "    <tr>\n",
       "      <th>78</th>\n",
       "      <td>ed0984fefadfe837c1ee45c8b22dbfad97ba33b4</td>\n",
       "      <td>2019-01-29 08:55:06</td>\n",
       "      <td>2019-01-29 09:26:47</td>\n",
       "      <td>19</td>\n",
       "      <td>5</td>\n",
       "      <td>00:31:41</td>\n",
       "    </tr>\n",
       "    <tr>\n",
       "      <th>79</th>\n",
       "      <td>3263e27f1271dfecf34ce4ada1ec4e5fa7f63598</td>\n",
       "      <td>2019-01-29 08:56:18</td>\n",
       "      <td>2019-01-29 09:28:10</td>\n",
       "      <td>19</td>\n",
       "      <td>5</td>\n",
       "      <td>00:31:52</td>\n",
       "    </tr>\n",
       "    <tr>\n",
       "      <th>80</th>\n",
       "      <td>323291862da68b87d856782538c67dec94ba9e72</td>\n",
       "      <td>2019-01-29 08:56:28</td>\n",
       "      <td>2019-01-29 09:28:19</td>\n",
       "      <td>19</td>\n",
       "      <td>5</td>\n",
       "      <td>00:31:51</td>\n",
       "    </tr>\n",
       "    <tr>\n",
       "      <th>81</th>\n",
       "      <td>d1035126f823cda002eda7bd6e8846d4c036529a</td>\n",
       "      <td>2019-01-29 08:57:28</td>\n",
       "      <td>2019-01-29 09:28:45</td>\n",
       "      <td>19</td>\n",
       "      <td>5</td>\n",
       "      <td>00:31:17</td>\n",
       "    </tr>\n",
       "    <tr>\n",
       "      <th>82</th>\n",
       "      <td>b1f4345a48f7b62cf3c1cec0a90e9d80cba70a5a</td>\n",
       "      <td>2019-01-29 08:59:03</td>\n",
       "      <td>2019-01-29 09:31:30</td>\n",
       "      <td>19</td>\n",
       "      <td>5</td>\n",
       "      <td>00:32:27</td>\n",
       "    </tr>\n",
       "    <tr>\n",
       "      <th>83</th>\n",
       "      <td>c85c801f4a621c41007bfb4a562d114167f56f1e</td>\n",
       "      <td>2019-01-29 08:59:39</td>\n",
       "      <td>2019-01-29 09:30:23</td>\n",
       "      <td>19</td>\n",
       "      <td>5</td>\n",
       "      <td>00:30:44</td>\n",
       "    </tr>\n",
       "    <tr>\n",
       "      <th>84</th>\n",
       "      <td>b4f1a3799f5b9afd77f8ca32552f2bcdc7bff4e3</td>\n",
       "      <td>2019-01-29 08:59:50</td>\n",
       "      <td>2019-01-29 09:30:52</td>\n",
       "      <td>19</td>\n",
       "      <td>5</td>\n",
       "      <td>00:31:02</td>\n",
       "    </tr>\n",
       "    <tr>\n",
       "      <th>85</th>\n",
       "      <td>63a28b8a61b99c413cd15694f6485742252d7ecb</td>\n",
       "      <td>2019-01-29 08:59:43</td>\n",
       "      <td>2019-01-29 09:30:48</td>\n",
       "      <td>19</td>\n",
       "      <td>5</td>\n",
       "      <td>00:31:05</td>\n",
       "    </tr>\n",
       "    <tr>\n",
       "      <th>0</th>\n",
       "      <td>7ca71703d969471beceb2ea5c7cf675c9e2bbf3c</td>\n",
       "      <td>2019-01-29 08:02:04</td>\n",
       "      <td>2019-01-29 08:36:58</td>\n",
       "      <td>19</td>\n",
       "      <td>5</td>\n",
       "      <td>00:34:54</td>\n",
       "    </tr>\n",
       "    <tr>\n",
       "      <th>3</th>\n",
       "      <td>05688c9f347397d71e843bec4be08deb738e9ce9</td>\n",
       "      <td>2019-01-29 08:07:36</td>\n",
       "      <td>2019-01-29 08:41:23</td>\n",
       "      <td>19</td>\n",
       "      <td>5</td>\n",
       "      <td>00:33:47</td>\n",
       "    </tr>\n",
       "    <tr>\n",
       "      <th>5</th>\n",
       "      <td>cb255482f4ef2287f2960b7f613f129c32ab0aab</td>\n",
       "      <td>2019-01-29 08:11:25</td>\n",
       "      <td>2019-01-29 08:44:54</td>\n",
       "      <td>19</td>\n",
       "      <td>5</td>\n",
       "      <td>00:33:29</td>\n",
       "    </tr>\n",
       "    <tr>\n",
       "      <th>6</th>\n",
       "      <td>2397fb7098303d72ca7f7ad2e3f761cced93dbdc</td>\n",
       "      <td>2019-01-29 08:14:52</td>\n",
       "      <td>2019-01-29 08:47:33</td>\n",
       "      <td>19</td>\n",
       "      <td>5</td>\n",
       "      <td>00:32:41</td>\n",
       "    </tr>\n",
       "    <tr>\n",
       "      <th>10</th>\n",
       "      <td>be874c36d30958a6ae091fbfbfa9830ce16f5c03</td>\n",
       "      <td>2019-01-29 08:33:11</td>\n",
       "      <td>2019-01-29 08:58:24</td>\n",
       "      <td>19</td>\n",
       "      <td>5</td>\n",
       "      <td>00:25:13</td>\n",
       "    </tr>\n",
       "    <tr>\n",
       "      <th>13</th>\n",
       "      <td>13c9b885389ad4d59feaaac9eec0b330349c33f4</td>\n",
       "      <td>2019-01-29 08:14:52</td>\n",
       "      <td>2019-01-29 09:01:13</td>\n",
       "      <td>19</td>\n",
       "      <td>5</td>\n",
       "      <td>00:46:21</td>\n",
       "    </tr>\n",
       "    <tr>\n",
       "      <th>14</th>\n",
       "      <td>885a144888cb53d5cab950ce62de2bd22faefb25</td>\n",
       "      <td>2019-01-29 08:31:20</td>\n",
       "      <td>2019-01-29 09:01:35</td>\n",
       "      <td>19</td>\n",
       "      <td>5</td>\n",
       "      <td>00:30:15</td>\n",
       "    </tr>\n",
       "    <tr>\n",
       "      <th>15</th>\n",
       "      <td>133c9bceac97b6e998fa438a4c674d5b3f74001b</td>\n",
       "      <td>2019-01-29 08:29:18</td>\n",
       "      <td>2019-01-29 09:01:36</td>\n",
       "      <td>19</td>\n",
       "      <td>5</td>\n",
       "      <td>00:32:18</td>\n",
       "    </tr>\n",
       "    <tr>\n",
       "      <th>22</th>\n",
       "      <td>00e0fefe9616459cbd1d7e7f0b89646322733752</td>\n",
       "      <td>2019-01-29 08:48:27</td>\n",
       "      <td>2019-01-29 09:14:52</td>\n",
       "      <td>19</td>\n",
       "      <td>5</td>\n",
       "      <td>00:26:25</td>\n",
       "    </tr>\n",
       "    <tr>\n",
       "      <th>24</th>\n",
       "      <td>ea0bb3ad86c5c202acdd11037621e15e2eb938a3</td>\n",
       "      <td>2019-01-29 08:12:21</td>\n",
       "      <td>2019-01-29 09:19:52</td>\n",
       "      <td>19</td>\n",
       "      <td>5</td>\n",
       "      <td>01:07:31</td>\n",
       "    </tr>\n",
       "    <tr>\n",
       "      <th>25</th>\n",
       "      <td>3348e8110a7822fbd75a70185d26c51e4f956495</td>\n",
       "      <td>2019-01-29 08:47:50</td>\n",
       "      <td>2019-01-29 09:20:07</td>\n",
       "      <td>19</td>\n",
       "      <td>5</td>\n",
       "      <td>00:32:17</td>\n",
       "    </tr>\n",
       "    <tr>\n",
       "      <th>26</th>\n",
       "      <td>ca5ef0be7db0a7d0279b0d850ad469d6fe1e4fba</td>\n",
       "      <td>2019-01-29 08:48:46</td>\n",
       "      <td>2019-01-29 09:21:27</td>\n",
       "      <td>19</td>\n",
       "      <td>5</td>\n",
       "      <td>00:32:41</td>\n",
       "    </tr>\n",
       "    <tr>\n",
       "      <th>28</th>\n",
       "      <td>6fbc9ee96655383e68d3520ffd15b2d35a4797c8</td>\n",
       "      <td>2019-01-29 08:52:39</td>\n",
       "      <td>2019-01-29 09:24:32</td>\n",
       "      <td>19</td>\n",
       "      <td>5</td>\n",
       "      <td>00:31:53</td>\n",
       "    </tr>\n",
       "    <tr>\n",
       "      <th>29</th>\n",
       "      <td>7321c17f8977c7d03c98b4e78aa0dcede29abb7f</td>\n",
       "      <td>2019-01-29 08:54:52</td>\n",
       "      <td>2019-01-29 09:25:53</td>\n",
       "      <td>19</td>\n",
       "      <td>5</td>\n",
       "      <td>00:31:01</td>\n",
       "    </tr>\n",
       "    <tr>\n",
       "      <th>36</th>\n",
       "      <td>720be7eb02769afde525f1d7c8bb3fc0e4b86c20</td>\n",
       "      <td>2019-01-29 08:43:49</td>\n",
       "      <td>2019-01-29 09:52:08</td>\n",
       "      <td>19</td>\n",
       "      <td>5</td>\n",
       "      <td>01:08:19</td>\n",
       "    </tr>\n",
       "  </tbody>\n",
       "</table>\n",
       "<p>101 rows × 6 columns</p>\n",
       "</div>"
      ],
      "text/plain": [
       "                                       immat          date_cam_1  \\\n",
       "0   bf9dfd50a4a693085e3080156f11c25314f96f03 2019-01-29 08:00:56   \n",
       "1   cf4f7ddbb3a6d9006e029777df712a53c2d76992 2019-01-29 08:01:07   \n",
       "2   183bc8585ac5a2e26b6d2ada6ce6891235a36b92 2019-01-29 08:01:16   \n",
       "3   dcf2ffa7638b1ae7d0281cbb94d4c7cf0a0912f7 2019-01-29 08:02:34   \n",
       "4   54581cfa0b0f0c1dbe24fd60ca7efcc07439232f 2019-01-29 08:02:19   \n",
       "5   31c6bdae383e5c4f25e803d55dc539d6c40e6105 2019-01-29 08:03:06   \n",
       "6   77728d75d8ee8a1e27c95ca4077faddbf9dcdd93 2019-01-29 08:03:55   \n",
       "7   59148b1dc67f7b2ca10635cd4fabe903b1fd0b63 2019-01-29 08:04:14   \n",
       "8   3de49b107ce9b3f1add8f9314add9f5a2cadbe50 2019-01-29 08:05:07   \n",
       "9   2a88c4e3e59236321a2098ccc9dd4b47f2eed478 2019-01-29 08:07:23   \n",
       "10  5173f6a0a8ddf8df788408f70f14b0cd71333fd4 2019-01-29 08:08:20   \n",
       "11  b19849562d778b3f0faadab5d6375d196fa00c3e 2019-01-29 08:11:31   \n",
       "12  d8f1940dce090c0dd70898ade323d44a20128cf7 2019-01-29 08:12:06   \n",
       "13  86e69f471e55d135cfde733fd536d2906682b662 2019-01-29 08:12:13   \n",
       "14  07f533c82778a42f4827e08e685d809e36017390 2019-01-29 08:13:13   \n",
       "15  837898ee18a5c0fb78ac9c1001068fcb7c888550 2019-01-29 08:16:29   \n",
       "16  11bec9781f63a9c6ed13dc8e9b73af792f9830c9 2019-01-29 08:20:21   \n",
       "17  bd00a061a3d665bfbae3a1601c4808f329060c96 2019-01-29 08:20:40   \n",
       "18  79974a434856bb71e13c30992f0d169a1a4a66fc 2019-01-29 08:20:55   \n",
       "19  f2e470f4d6b5c0692705d44b98d3a2238f3bdcda 2019-01-29 08:21:42   \n",
       "20  8793c445e0b831e8367bdd14305487a2d97e0e6d 2019-01-29 08:21:58   \n",
       "21  f11c4da90f55f8a43876963c417d3ff755ff1586 2019-01-29 08:24:44   \n",
       "22  2d8c2e8437a5ef6a1d9b79e36dd596c0a6623318 2019-01-29 08:24:52   \n",
       "23  3c5ca02a9a314160f09c48b21cd2c00b99076ca6 2019-01-29 08:24:57   \n",
       "24  7a6a2d05a710b54b4fdbc87ceee6f471f5f7d4ef 2019-01-29 08:25:51   \n",
       "25  a4c03070e934e2f328992c3f7aa77edb9b95396b 2019-01-29 08:26:48   \n",
       "26  b98d1874b66d7c7cdbd98ccf64d98ecadbb8f6cf 2019-01-29 08:26:48   \n",
       "27  fd06f37936c529c968ca4f492ed29a7f0bd090ec 2019-01-29 08:27:50   \n",
       "28  9df9882db4e917b0a36e31cd12f971a772fe315b 2019-01-29 08:28:04   \n",
       "29  3630d036c608518d63820e011c0108ff0cc433b7 2019-01-29 08:27:45   \n",
       "..                                       ...                 ...   \n",
       "71  9cbae165f2225286a9cd3e4531abb4c4e0603f32 2019-01-29 08:51:57   \n",
       "72  214d6b86318b472f8654918e2a05d12bf6107809 2019-01-29 08:52:24   \n",
       "73  85e5a77f244a09f92c13ea4771dbd2bdf8c0a81a 2019-01-29 08:52:50   \n",
       "74  a5c321613b1856762c53bc451b50aca46ba21a8b 2019-01-29 08:52:39   \n",
       "75  b6a0a8bc25839592758497678774ff22611a8c2c 2019-01-29 08:52:55   \n",
       "76  eed964834dfb99b6d544003e14a8f141b4d44d78 2019-01-29 08:53:26   \n",
       "77  9b3373d6ea7cdf14ba7d8a18447d59797e6102b3 2019-01-29 08:54:30   \n",
       "78  ed0984fefadfe837c1ee45c8b22dbfad97ba33b4 2019-01-29 08:55:06   \n",
       "79  3263e27f1271dfecf34ce4ada1ec4e5fa7f63598 2019-01-29 08:56:18   \n",
       "80  323291862da68b87d856782538c67dec94ba9e72 2019-01-29 08:56:28   \n",
       "81  d1035126f823cda002eda7bd6e8846d4c036529a 2019-01-29 08:57:28   \n",
       "82  b1f4345a48f7b62cf3c1cec0a90e9d80cba70a5a 2019-01-29 08:59:03   \n",
       "83  c85c801f4a621c41007bfb4a562d114167f56f1e 2019-01-29 08:59:39   \n",
       "84  b4f1a3799f5b9afd77f8ca32552f2bcdc7bff4e3 2019-01-29 08:59:50   \n",
       "85  63a28b8a61b99c413cd15694f6485742252d7ecb 2019-01-29 08:59:43   \n",
       "0   7ca71703d969471beceb2ea5c7cf675c9e2bbf3c 2019-01-29 08:02:04   \n",
       "3   05688c9f347397d71e843bec4be08deb738e9ce9 2019-01-29 08:07:36   \n",
       "5   cb255482f4ef2287f2960b7f613f129c32ab0aab 2019-01-29 08:11:25   \n",
       "6   2397fb7098303d72ca7f7ad2e3f761cced93dbdc 2019-01-29 08:14:52   \n",
       "10  be874c36d30958a6ae091fbfbfa9830ce16f5c03 2019-01-29 08:33:11   \n",
       "13  13c9b885389ad4d59feaaac9eec0b330349c33f4 2019-01-29 08:14:52   \n",
       "14  885a144888cb53d5cab950ce62de2bd22faefb25 2019-01-29 08:31:20   \n",
       "15  133c9bceac97b6e998fa438a4c674d5b3f74001b 2019-01-29 08:29:18   \n",
       "22  00e0fefe9616459cbd1d7e7f0b89646322733752 2019-01-29 08:48:27   \n",
       "24  ea0bb3ad86c5c202acdd11037621e15e2eb938a3 2019-01-29 08:12:21   \n",
       "25  3348e8110a7822fbd75a70185d26c51e4f956495 2019-01-29 08:47:50   \n",
       "26  ca5ef0be7db0a7d0279b0d850ad469d6fe1e4fba 2019-01-29 08:48:46   \n",
       "28  6fbc9ee96655383e68d3520ffd15b2d35a4797c8 2019-01-29 08:52:39   \n",
       "29  7321c17f8977c7d03c98b4e78aa0dcede29abb7f 2019-01-29 08:54:52   \n",
       "36  720be7eb02769afde525f1d7c8bb3fc0e4b86c20 2019-01-29 08:43:49   \n",
       "\n",
       "            date_cam_2  cam_1  cam_2 tps_parcours  \n",
       "0  2019-01-29 08:37:18     19      5     00:36:22  \n",
       "1  2019-01-29 08:37:04     19      5     00:35:57  \n",
       "2  2019-01-29 08:37:20     19      5     00:36:04  \n",
       "3  2019-01-29 08:37:42     19      5     00:35:08  \n",
       "4  2019-01-29 08:38:07     19      5     00:35:48  \n",
       "5  2019-01-29 08:38:16     19      5     00:35:10  \n",
       "6  2019-01-29 08:38:48     19      5     00:34:53  \n",
       "7  2019-01-29 08:39:21     19      5     00:35:07  \n",
       "8  2019-01-29 08:39:49     19      5     00:34:42  \n",
       "9  2019-01-29 08:42:27     19      5     00:35:04  \n",
       "10 2019-01-29 08:43:36     19      5     00:35:16  \n",
       "11 2019-01-29 08:46:33     19      5     00:35:02  \n",
       "12 2019-01-29 08:46:39     19      5     00:34:33  \n",
       "13 2019-01-29 08:47:29     19      5     00:35:16  \n",
       "14 2019-01-29 08:47:52     19      5     00:34:39  \n",
       "15 2019-01-29 08:50:59     19      5     00:34:30  \n",
       "16 2019-01-29 08:52:39     19      5     00:32:18  \n",
       "17 2019-01-29 08:52:58     19      5     00:32:18  \n",
       "18 2019-01-29 08:52:26     19      5     00:31:31  \n",
       "19 2019-01-29 08:54:32     19      5     00:32:50  \n",
       "20 2019-01-29 08:55:35     19      5     00:33:37  \n",
       "21 2019-01-29 08:55:36     19      5     00:30:52  \n",
       "22 2019-01-29 08:56:09     19      5     00:31:17  \n",
       "23 2019-01-29 08:56:52     19      5     00:31:55  \n",
       "24 2019-01-29 08:56:48     19      5     00:30:57  \n",
       "25 2019-01-29 08:58:34     19      5     00:31:46  \n",
       "26 2019-01-29 08:58:35     19      5     00:31:47  \n",
       "27 2019-01-29 08:58:59     19      5     00:31:09  \n",
       "28 2019-01-29 08:59:16     19      5     00:31:12  \n",
       "29 2019-01-29 09:00:07     19      5     00:32:22  \n",
       "..                 ...    ...    ...          ...  \n",
       "71 2019-01-29 09:23:07     19      5     00:31:10  \n",
       "72 2019-01-29 09:23:54     19      5     00:31:30  \n",
       "73 2019-01-29 09:23:58     19      5     00:31:08  \n",
       "74 2019-01-29 09:24:32     19      5     00:31:53  \n",
       "75 2019-01-29 09:24:50     19      5     00:31:55  \n",
       "76 2019-01-29 09:25:30     19      5     00:32:04  \n",
       "77 2019-01-29 09:26:45     19      5     00:32:15  \n",
       "78 2019-01-29 09:26:47     19      5     00:31:41  \n",
       "79 2019-01-29 09:28:10     19      5     00:31:52  \n",
       "80 2019-01-29 09:28:19     19      5     00:31:51  \n",
       "81 2019-01-29 09:28:45     19      5     00:31:17  \n",
       "82 2019-01-29 09:31:30     19      5     00:32:27  \n",
       "83 2019-01-29 09:30:23     19      5     00:30:44  \n",
       "84 2019-01-29 09:30:52     19      5     00:31:02  \n",
       "85 2019-01-29 09:30:48     19      5     00:31:05  \n",
       "0  2019-01-29 08:36:58     19      5     00:34:54  \n",
       "3  2019-01-29 08:41:23     19      5     00:33:47  \n",
       "5  2019-01-29 08:44:54     19      5     00:33:29  \n",
       "6  2019-01-29 08:47:33     19      5     00:32:41  \n",
       "10 2019-01-29 08:58:24     19      5     00:25:13  \n",
       "13 2019-01-29 09:01:13     19      5     00:46:21  \n",
       "14 2019-01-29 09:01:35     19      5     00:30:15  \n",
       "15 2019-01-29 09:01:36     19      5     00:32:18  \n",
       "22 2019-01-29 09:14:52     19      5     00:26:25  \n",
       "24 2019-01-29 09:19:52     19      5     01:07:31  \n",
       "25 2019-01-29 09:20:07     19      5     00:32:17  \n",
       "26 2019-01-29 09:21:27     19      5     00:32:41  \n",
       "28 2019-01-29 09:24:32     19      5     00:31:53  \n",
       "29 2019-01-29 09:25:53     19      5     00:31:01  \n",
       "36 2019-01-29 09:52:08     19      5     01:08:19  \n",
       "\n",
       "[101 rows x 6 columns]"
      ]
     },
     "execution_count": 99,
     "metadata": {},
     "output_type": "execute_result"
    }
   ],
   "source": [
    "cam_19_5"
   ]
  },
  {
   "cell_type": "markdown",
   "metadata": {},
   "source": [
    "TEST CHAINAGE DES FONCTIONS"
   ]
  },
  {
   "cell_type": "code",
   "execution_count": 190,
   "metadata": {},
   "outputs": [],
   "source": [
    "#ça je dois pouvoir en faire u json et l'importer\n",
    "liste_trajet=(pd.DataFrame({'o_d':'A63-A10','trajets':[[{'cameras':[19,4,5],'type_trajet':'indirect'},\n",
    "                                                       {'cameras':[19,1,5],'type_trajet':'indirect'},\n",
    "                                                       {'cameras':[19,5],'type_trajet':'direct'},\n",
    "                                                      ]]}))"
   ]
  },
  {
   "cell_type": "code",
   "execution_count": 191,
   "metadata": {},
   "outputs": [],
   "source": [
    "pd.set_option('display.width', 1000)"
   ]
  },
  {
   "cell_type": "code",
   "execution_count": 346,
   "metadata": {},
   "outputs": [],
   "source": [
    "dates= pd.date_range('2019-01-29', periods=24, freq='H')\n",
    "for date in dates : \n",
    "    date=date.strftime(\"%Y-%m-%d %H:%M:%S\")\n",
    "    for index, value in liste_trajet.iterrows() : \n",
    "        o_d, carac_trajet=value[0],value[1]\n",
    "        for dico_carac in carac_trajet :\n",
    "            cameras=dico_carac['cameras']\n",
    "            type_t=dico_carac['type_trajet']\n",
    "            if type_t=='indirect' : \n",
    "                indirect_cam_1_2=t.df_tps_parcours(df_journee,date, 60, 16, cameras[0], cameras[1])#parcourir entre les 2 premieres cams\n",
    "                if indirect_cam_1_2.df_tps_parcours_pl_final.empty : #si le premier trajet ne présente pas de pl on quitte\n",
    "                    break\n",
    "                df_trajet=t.recherche_trajet_indirect(df_journee,indirect_cam_1_2, 16, cameras[1],cameras[2])#en deduire le total\n",
    "            else :\n",
    "                df_trajet=t.df_tps_parcours(df_journee,date, 60, 16, 19,5).df_tps_parcours_pl_final#por permettre le suivi et retrouver les camera intermediaires\n",
    "            df_trajet['cameras']=str(cameras)#pour suivi possible\n",
    "            if 'dico_od' in locals() :\n",
    "                dico_od=pd.concat([dico_od,df_trajet], sort=False)\n",
    "            else : \n",
    "                dico_od=df_trajet"
   ]
  },
  {
   "cell_type": "code",
   "execution_count": 347,
   "metadata": {},
   "outputs": [
    {
     "data": {
      "text/html": [
       "<div>\n",
       "<style scoped>\n",
       "    .dataframe tbody tr th:only-of-type {\n",
       "        vertical-align: middle;\n",
       "    }\n",
       "\n",
       "    .dataframe tbody tr th {\n",
       "        vertical-align: top;\n",
       "    }\n",
       "\n",
       "    .dataframe thead th {\n",
       "        text-align: right;\n",
       "    }\n",
       "</style>\n",
       "<table border=\"1\" class=\"dataframe\">\n",
       "  <thead>\n",
       "    <tr style=\"text-align: right;\">\n",
       "      <th></th>\n",
       "      <th>immat</th>\n",
       "      <th>date_cam_1</th>\n",
       "      <th>date_cam_2</th>\n",
       "      <th>cam_1</th>\n",
       "      <th>cam_2</th>\n",
       "      <th>tps_parcours</th>\n",
       "      <th>cameras</th>\n",
       "    </tr>\n",
       "  </thead>\n",
       "  <tbody>\n",
       "    <tr>\n",
       "      <th>0</th>\n",
       "      <td>997d5fbf94327159d8ad2dfe88999cf8a1a32fad</td>\n",
       "      <td>2019-01-29 07:41:57</td>\n",
       "      <td>2019-01-29 08:17:44</td>\n",
       "      <td>19</td>\n",
       "      <td>5</td>\n",
       "      <td>00:35:47</td>\n",
       "      <td>[19, 4, 5]</td>\n",
       "    </tr>\n",
       "    <tr>\n",
       "      <th>1</th>\n",
       "      <td>1da7ad5637f24c08d9a8bb1da3f932c21e8dd47c</td>\n",
       "      <td>2019-01-29 07:45:33</td>\n",
       "      <td>2019-01-29 08:22:36</td>\n",
       "      <td>19</td>\n",
       "      <td>5</td>\n",
       "      <td>00:37:03</td>\n",
       "      <td>[19, 4, 5]</td>\n",
       "    </tr>\n",
       "    <tr>\n",
       "      <th>2</th>\n",
       "      <td>382ff3d11f92aaa8d00c7e8061ff61c0eecbfc00</td>\n",
       "      <td>2019-01-29 07:53:24</td>\n",
       "      <td>2019-01-29 08:28:22</td>\n",
       "      <td>19</td>\n",
       "      <td>5</td>\n",
       "      <td>00:34:58</td>\n",
       "      <td>[19, 4, 5]</td>\n",
       "    </tr>\n",
       "    <tr>\n",
       "      <th>3</th>\n",
       "      <td>eb6b0e2bc49e9ea29fb491193621a90417323bf4</td>\n",
       "      <td>2019-01-29 07:54:19</td>\n",
       "      <td>2019-01-29 08:30:39</td>\n",
       "      <td>19</td>\n",
       "      <td>5</td>\n",
       "      <td>00:36:20</td>\n",
       "      <td>[19, 4, 5]</td>\n",
       "    </tr>\n",
       "    <tr>\n",
       "      <th>4</th>\n",
       "      <td>a7e4a67e8836b4fdb72688baca377534f6add717</td>\n",
       "      <td>2019-01-29 07:56:06</td>\n",
       "      <td>2019-01-29 08:32:54</td>\n",
       "      <td>19</td>\n",
       "      <td>5</td>\n",
       "      <td>00:36:48</td>\n",
       "      <td>[19, 4, 5]</td>\n",
       "    </tr>\n",
       "    <tr>\n",
       "      <th>5</th>\n",
       "      <td>b3e2b06a429608e99c98d074851e49cbb6fb93ad</td>\n",
       "      <td>2019-01-29 07:56:03</td>\n",
       "      <td>2019-01-29 08:34:34</td>\n",
       "      <td>19</td>\n",
       "      <td>5</td>\n",
       "      <td>00:38:31</td>\n",
       "      <td>[19, 4, 5]</td>\n",
       "    </tr>\n",
       "    <tr>\n",
       "      <th>6</th>\n",
       "      <td>f25b2cd42e0b20614640abc3418ec2af63af5042</td>\n",
       "      <td>2019-01-29 07:57:56</td>\n",
       "      <td>2019-01-29 08:34:25</td>\n",
       "      <td>19</td>\n",
       "      <td>5</td>\n",
       "      <td>00:36:29</td>\n",
       "      <td>[19, 4, 5]</td>\n",
       "    </tr>\n",
       "    <tr>\n",
       "      <th>7</th>\n",
       "      <td>2dca9f2506ef4f67da0255625f046d1b40348d6e</td>\n",
       "      <td>2019-01-29 07:58:35</td>\n",
       "      <td>2019-01-29 08:35:20</td>\n",
       "      <td>19</td>\n",
       "      <td>5</td>\n",
       "      <td>00:36:45</td>\n",
       "      <td>[19, 4, 5]</td>\n",
       "    </tr>\n",
       "    <tr>\n",
       "      <th>8</th>\n",
       "      <td>914a3afe6d6abb263b99c20884c88ae7c8a383dd</td>\n",
       "      <td>2019-01-29 07:59:36</td>\n",
       "      <td>2019-01-29 08:35:38</td>\n",
       "      <td>19</td>\n",
       "      <td>5</td>\n",
       "      <td>00:36:02</td>\n",
       "      <td>[19, 4, 5]</td>\n",
       "    </tr>\n",
       "    <tr>\n",
       "      <th>9</th>\n",
       "      <td>04cdedf0bf6f15c9698dce79ad3157720ea29448</td>\n",
       "      <td>2019-01-29 07:54:45</td>\n",
       "      <td>2019-01-29 10:26:17</td>\n",
       "      <td>19</td>\n",
       "      <td>5</td>\n",
       "      <td>02:31:32</td>\n",
       "      <td>[19, 5]</td>\n",
       "    </tr>\n",
       "    <tr>\n",
       "      <th>0</th>\n",
       "      <td>bf9dfd50a4a693085e3080156f11c25314f96f03</td>\n",
       "      <td>2019-01-29 08:00:56</td>\n",
       "      <td>2019-01-29 08:37:18</td>\n",
       "      <td>19</td>\n",
       "      <td>5</td>\n",
       "      <td>00:36:22</td>\n",
       "      <td>[19, 4, 5]</td>\n",
       "    </tr>\n",
       "    <tr>\n",
       "      <th>1</th>\n",
       "      <td>cf4f7ddbb3a6d9006e029777df712a53c2d76992</td>\n",
       "      <td>2019-01-29 08:01:07</td>\n",
       "      <td>2019-01-29 08:37:04</td>\n",
       "      <td>19</td>\n",
       "      <td>5</td>\n",
       "      <td>00:35:57</td>\n",
       "      <td>[19, 4, 5]</td>\n",
       "    </tr>\n",
       "    <tr>\n",
       "      <th>2</th>\n",
       "      <td>183bc8585ac5a2e26b6d2ada6ce6891235a36b92</td>\n",
       "      <td>2019-01-29 08:01:16</td>\n",
       "      <td>2019-01-29 08:37:20</td>\n",
       "      <td>19</td>\n",
       "      <td>5</td>\n",
       "      <td>00:36:04</td>\n",
       "      <td>[19, 4, 5]</td>\n",
       "    </tr>\n",
       "    <tr>\n",
       "      <th>3</th>\n",
       "      <td>dcf2ffa7638b1ae7d0281cbb94d4c7cf0a0912f7</td>\n",
       "      <td>2019-01-29 08:02:34</td>\n",
       "      <td>2019-01-29 08:37:42</td>\n",
       "      <td>19</td>\n",
       "      <td>5</td>\n",
       "      <td>00:35:08</td>\n",
       "      <td>[19, 4, 5]</td>\n",
       "    </tr>\n",
       "    <tr>\n",
       "      <th>4</th>\n",
       "      <td>54581cfa0b0f0c1dbe24fd60ca7efcc07439232f</td>\n",
       "      <td>2019-01-29 08:02:19</td>\n",
       "      <td>2019-01-29 08:38:07</td>\n",
       "      <td>19</td>\n",
       "      <td>5</td>\n",
       "      <td>00:35:48</td>\n",
       "      <td>[19, 4, 5]</td>\n",
       "    </tr>\n",
       "    <tr>\n",
       "      <th>5</th>\n",
       "      <td>31c6bdae383e5c4f25e803d55dc539d6c40e6105</td>\n",
       "      <td>2019-01-29 08:03:06</td>\n",
       "      <td>2019-01-29 08:38:16</td>\n",
       "      <td>19</td>\n",
       "      <td>5</td>\n",
       "      <td>00:35:10</td>\n",
       "      <td>[19, 4, 5]</td>\n",
       "    </tr>\n",
       "    <tr>\n",
       "      <th>6</th>\n",
       "      <td>77728d75d8ee8a1e27c95ca4077faddbf9dcdd93</td>\n",
       "      <td>2019-01-29 08:03:55</td>\n",
       "      <td>2019-01-29 08:38:48</td>\n",
       "      <td>19</td>\n",
       "      <td>5</td>\n",
       "      <td>00:34:53</td>\n",
       "      <td>[19, 4, 5]</td>\n",
       "    </tr>\n",
       "    <tr>\n",
       "      <th>7</th>\n",
       "      <td>59148b1dc67f7b2ca10635cd4fabe903b1fd0b63</td>\n",
       "      <td>2019-01-29 08:04:14</td>\n",
       "      <td>2019-01-29 08:39:21</td>\n",
       "      <td>19</td>\n",
       "      <td>5</td>\n",
       "      <td>00:35:07</td>\n",
       "      <td>[19, 4, 5]</td>\n",
       "    </tr>\n",
       "    <tr>\n",
       "      <th>8</th>\n",
       "      <td>3de49b107ce9b3f1add8f9314add9f5a2cadbe50</td>\n",
       "      <td>2019-01-29 08:05:07</td>\n",
       "      <td>2019-01-29 08:39:49</td>\n",
       "      <td>19</td>\n",
       "      <td>5</td>\n",
       "      <td>00:34:42</td>\n",
       "      <td>[19, 4, 5]</td>\n",
       "    </tr>\n",
       "    <tr>\n",
       "      <th>9</th>\n",
       "      <td>2a88c4e3e59236321a2098ccc9dd4b47f2eed478</td>\n",
       "      <td>2019-01-29 08:07:23</td>\n",
       "      <td>2019-01-29 08:42:27</td>\n",
       "      <td>19</td>\n",
       "      <td>5</td>\n",
       "      <td>00:35:04</td>\n",
       "      <td>[19, 4, 5]</td>\n",
       "    </tr>\n",
       "    <tr>\n",
       "      <th>10</th>\n",
       "      <td>5173f6a0a8ddf8df788408f70f14b0cd71333fd4</td>\n",
       "      <td>2019-01-29 08:08:20</td>\n",
       "      <td>2019-01-29 08:43:36</td>\n",
       "      <td>19</td>\n",
       "      <td>5</td>\n",
       "      <td>00:35:16</td>\n",
       "      <td>[19, 4, 5]</td>\n",
       "    </tr>\n",
       "    <tr>\n",
       "      <th>11</th>\n",
       "      <td>b19849562d778b3f0faadab5d6375d196fa00c3e</td>\n",
       "      <td>2019-01-29 08:11:31</td>\n",
       "      <td>2019-01-29 08:46:33</td>\n",
       "      <td>19</td>\n",
       "      <td>5</td>\n",
       "      <td>00:35:02</td>\n",
       "      <td>[19, 4, 5]</td>\n",
       "    </tr>\n",
       "    <tr>\n",
       "      <th>12</th>\n",
       "      <td>d8f1940dce090c0dd70898ade323d44a20128cf7</td>\n",
       "      <td>2019-01-29 08:12:06</td>\n",
       "      <td>2019-01-29 08:46:39</td>\n",
       "      <td>19</td>\n",
       "      <td>5</td>\n",
       "      <td>00:34:33</td>\n",
       "      <td>[19, 4, 5]</td>\n",
       "    </tr>\n",
       "    <tr>\n",
       "      <th>13</th>\n",
       "      <td>86e69f471e55d135cfde733fd536d2906682b662</td>\n",
       "      <td>2019-01-29 08:12:13</td>\n",
       "      <td>2019-01-29 08:47:29</td>\n",
       "      <td>19</td>\n",
       "      <td>5</td>\n",
       "      <td>00:35:16</td>\n",
       "      <td>[19, 4, 5]</td>\n",
       "    </tr>\n",
       "    <tr>\n",
       "      <th>14</th>\n",
       "      <td>07f533c82778a42f4827e08e685d809e36017390</td>\n",
       "      <td>2019-01-29 08:13:13</td>\n",
       "      <td>2019-01-29 08:47:52</td>\n",
       "      <td>19</td>\n",
       "      <td>5</td>\n",
       "      <td>00:34:39</td>\n",
       "      <td>[19, 4, 5]</td>\n",
       "    </tr>\n",
       "    <tr>\n",
       "      <th>15</th>\n",
       "      <td>837898ee18a5c0fb78ac9c1001068fcb7c888550</td>\n",
       "      <td>2019-01-29 08:16:29</td>\n",
       "      <td>2019-01-29 08:50:59</td>\n",
       "      <td>19</td>\n",
       "      <td>5</td>\n",
       "      <td>00:34:30</td>\n",
       "      <td>[19, 4, 5]</td>\n",
       "    </tr>\n",
       "    <tr>\n",
       "      <th>16</th>\n",
       "      <td>11bec9781f63a9c6ed13dc8e9b73af792f9830c9</td>\n",
       "      <td>2019-01-29 08:20:21</td>\n",
       "      <td>2019-01-29 08:52:39</td>\n",
       "      <td>19</td>\n",
       "      <td>5</td>\n",
       "      <td>00:32:18</td>\n",
       "      <td>[19, 4, 5]</td>\n",
       "    </tr>\n",
       "    <tr>\n",
       "      <th>17</th>\n",
       "      <td>bd00a061a3d665bfbae3a1601c4808f329060c96</td>\n",
       "      <td>2019-01-29 08:20:40</td>\n",
       "      <td>2019-01-29 08:52:58</td>\n",
       "      <td>19</td>\n",
       "      <td>5</td>\n",
       "      <td>00:32:18</td>\n",
       "      <td>[19, 4, 5]</td>\n",
       "    </tr>\n",
       "    <tr>\n",
       "      <th>18</th>\n",
       "      <td>79974a434856bb71e13c30992f0d169a1a4a66fc</td>\n",
       "      <td>2019-01-29 08:20:55</td>\n",
       "      <td>2019-01-29 08:52:26</td>\n",
       "      <td>19</td>\n",
       "      <td>5</td>\n",
       "      <td>00:31:31</td>\n",
       "      <td>[19, 4, 5]</td>\n",
       "    </tr>\n",
       "    <tr>\n",
       "      <th>19</th>\n",
       "      <td>f2e470f4d6b5c0692705d44b98d3a2238f3bdcda</td>\n",
       "      <td>2019-01-29 08:21:42</td>\n",
       "      <td>2019-01-29 08:54:32</td>\n",
       "      <td>19</td>\n",
       "      <td>5</td>\n",
       "      <td>00:32:50</td>\n",
       "      <td>[19, 4, 5]</td>\n",
       "    </tr>\n",
       "    <tr>\n",
       "      <th>...</th>\n",
       "      <td>...</td>\n",
       "      <td>...</td>\n",
       "      <td>...</td>\n",
       "      <td>...</td>\n",
       "      <td>...</td>\n",
       "      <td>...</td>\n",
       "      <td>...</td>\n",
       "    </tr>\n",
       "    <tr>\n",
       "      <th>19</th>\n",
       "      <td>8721f6f6180ae646a725b3921ca459e25f93c59f</td>\n",
       "      <td>2019-01-29 15:27:26</td>\n",
       "      <td>2019-01-29 16:22:06</td>\n",
       "      <td>19</td>\n",
       "      <td>5</td>\n",
       "      <td>00:54:40</td>\n",
       "      <td>[19, 4, 5]</td>\n",
       "    </tr>\n",
       "    <tr>\n",
       "      <th>20</th>\n",
       "      <td>33ce783a9cf096fe3f60fcd1e4905d37e6c0d21b</td>\n",
       "      <td>2019-01-29 15:32:01</td>\n",
       "      <td>2019-01-29 16:29:05</td>\n",
       "      <td>19</td>\n",
       "      <td>5</td>\n",
       "      <td>00:57:04</td>\n",
       "      <td>[19, 4, 5]</td>\n",
       "    </tr>\n",
       "    <tr>\n",
       "      <th>21</th>\n",
       "      <td>568ed6686ee99e282452640a4cfa39853e33ac3a</td>\n",
       "      <td>2019-01-29 15:35:23</td>\n",
       "      <td>2019-01-29 16:30:46</td>\n",
       "      <td>19</td>\n",
       "      <td>5</td>\n",
       "      <td>00:55:23</td>\n",
       "      <td>[19, 4, 5]</td>\n",
       "    </tr>\n",
       "    <tr>\n",
       "      <th>22</th>\n",
       "      <td>d8b737bac184882191ab161446aa35e62747209d</td>\n",
       "      <td>2019-01-29 15:34:55</td>\n",
       "      <td>2019-01-29 16:31:04</td>\n",
       "      <td>19</td>\n",
       "      <td>5</td>\n",
       "      <td>00:56:09</td>\n",
       "      <td>[19, 4, 5]</td>\n",
       "    </tr>\n",
       "    <tr>\n",
       "      <th>23</th>\n",
       "      <td>51f52dbe972e63c20905fb9b70f2ec71c52b42ee</td>\n",
       "      <td>2019-01-29 15:34:51</td>\n",
       "      <td>2019-01-29 16:31:32</td>\n",
       "      <td>19</td>\n",
       "      <td>5</td>\n",
       "      <td>00:56:41</td>\n",
       "      <td>[19, 4, 5]</td>\n",
       "    </tr>\n",
       "    <tr>\n",
       "      <th>24</th>\n",
       "      <td>a2acee61c7ac5ea73c33c0a41e955bb8cc050558</td>\n",
       "      <td>2019-01-29 15:36:25</td>\n",
       "      <td>2019-01-29 16:31:39</td>\n",
       "      <td>19</td>\n",
       "      <td>5</td>\n",
       "      <td>00:55:14</td>\n",
       "      <td>[19, 4, 5]</td>\n",
       "    </tr>\n",
       "    <tr>\n",
       "      <th>25</th>\n",
       "      <td>965869bd53d2c55d43553bd0856b4553868bbce7</td>\n",
       "      <td>2019-01-29 15:35:13</td>\n",
       "      <td>2019-01-29 16:32:16</td>\n",
       "      <td>19</td>\n",
       "      <td>5</td>\n",
       "      <td>00:57:03</td>\n",
       "      <td>[19, 4, 5]</td>\n",
       "    </tr>\n",
       "    <tr>\n",
       "      <th>26</th>\n",
       "      <td>60c1657a6c1cce17de5abd45576b25de1166f753</td>\n",
       "      <td>2019-01-29 15:36:33</td>\n",
       "      <td>2019-01-29 16:35:22</td>\n",
       "      <td>19</td>\n",
       "      <td>5</td>\n",
       "      <td>00:58:49</td>\n",
       "      <td>[19, 4, 5]</td>\n",
       "    </tr>\n",
       "    <tr>\n",
       "      <th>27</th>\n",
       "      <td>90ab93485141870a3677985fb6bb2d40df987050</td>\n",
       "      <td>2019-01-29 15:41:38</td>\n",
       "      <td>2019-01-29 16:35:01</td>\n",
       "      <td>19</td>\n",
       "      <td>5</td>\n",
       "      <td>00:53:23</td>\n",
       "      <td>[19, 4, 5]</td>\n",
       "    </tr>\n",
       "    <tr>\n",
       "      <th>28</th>\n",
       "      <td>3c03c14abef5eb6fc6d637fa3be67f53ddab0e71</td>\n",
       "      <td>2019-01-29 15:38:22</td>\n",
       "      <td>2019-01-29 16:35:58</td>\n",
       "      <td>19</td>\n",
       "      <td>5</td>\n",
       "      <td>00:57:36</td>\n",
       "      <td>[19, 4, 5]</td>\n",
       "    </tr>\n",
       "    <tr>\n",
       "      <th>29</th>\n",
       "      <td>6d9a08eb854f210a4c91945191c05495cf5bdcf9</td>\n",
       "      <td>2019-01-29 15:58:33</td>\n",
       "      <td>2019-01-29 16:54:06</td>\n",
       "      <td>19</td>\n",
       "      <td>5</td>\n",
       "      <td>00:55:33</td>\n",
       "      <td>[19, 4, 5]</td>\n",
       "    </tr>\n",
       "    <tr>\n",
       "      <th>30</th>\n",
       "      <td>ba560eb685d4e958fedad7626a2d7b42670282e2</td>\n",
       "      <td>2019-01-29 15:59:14</td>\n",
       "      <td>2019-01-29 16:55:48</td>\n",
       "      <td>19</td>\n",
       "      <td>5</td>\n",
       "      <td>00:56:34</td>\n",
       "      <td>[19, 4, 5]</td>\n",
       "    </tr>\n",
       "    <tr>\n",
       "      <th>0</th>\n",
       "      <td>1c7daf8a14f69eb7ac0b1cb8e1a378610bd2052e</td>\n",
       "      <td>2019-01-29 15:03:40</td>\n",
       "      <td>2019-01-29 16:18:38</td>\n",
       "      <td>19</td>\n",
       "      <td>5</td>\n",
       "      <td>01:14:58</td>\n",
       "      <td>[19, 1, 5]</td>\n",
       "    </tr>\n",
       "    <tr>\n",
       "      <th>1</th>\n",
       "      <td>fbeb804b49894fbd1848ed1519563800bbee01d8</td>\n",
       "      <td>2019-01-29 15:09:22</td>\n",
       "      <td>2019-01-29 16:31:45</td>\n",
       "      <td>19</td>\n",
       "      <td>5</td>\n",
       "      <td>01:22:23</td>\n",
       "      <td>[19, 1, 5]</td>\n",
       "    </tr>\n",
       "    <tr>\n",
       "      <th>1</th>\n",
       "      <td>411a4153864fbc78c5c8c7b541e394e4883f4599</td>\n",
       "      <td>2019-01-29 15:01:48</td>\n",
       "      <td>2019-01-29 15:52:37</td>\n",
       "      <td>19</td>\n",
       "      <td>5</td>\n",
       "      <td>00:50:49</td>\n",
       "      <td>[19, 5]</td>\n",
       "    </tr>\n",
       "    <tr>\n",
       "      <th>3</th>\n",
       "      <td>c6b1dd01a5f13915d390f815a5f73588595f5bd0</td>\n",
       "      <td>2019-01-29 15:06:26</td>\n",
       "      <td>2019-01-29 15:55:35</td>\n",
       "      <td>19</td>\n",
       "      <td>5</td>\n",
       "      <td>00:49:09</td>\n",
       "      <td>[19, 5]</td>\n",
       "    </tr>\n",
       "    <tr>\n",
       "      <th>15</th>\n",
       "      <td>67c43122cf380564b1e938fce6328ac5556b140b</td>\n",
       "      <td>2019-01-29 15:04:56</td>\n",
       "      <td>2019-01-29 16:19:48</td>\n",
       "      <td>19</td>\n",
       "      <td>5</td>\n",
       "      <td>01:14:52</td>\n",
       "      <td>[19, 5]</td>\n",
       "    </tr>\n",
       "    <tr>\n",
       "      <th>16</th>\n",
       "      <td>2c3b5fd129704034a61b6010e1e9726248e2f327</td>\n",
       "      <td>2019-01-29 15:03:51</td>\n",
       "      <td>2019-01-29 16:21:31</td>\n",
       "      <td>19</td>\n",
       "      <td>5</td>\n",
       "      <td>01:17:40</td>\n",
       "      <td>[19, 5]</td>\n",
       "    </tr>\n",
       "    <tr>\n",
       "      <th>17</th>\n",
       "      <td>49180482fd4aaf0f2e40e6e5976bae0857a6c992</td>\n",
       "      <td>2019-01-29 15:27:36</td>\n",
       "      <td>2019-01-29 16:23:14</td>\n",
       "      <td>19</td>\n",
       "      <td>5</td>\n",
       "      <td>00:55:38</td>\n",
       "      <td>[19, 5]</td>\n",
       "    </tr>\n",
       "    <tr>\n",
       "      <th>18</th>\n",
       "      <td>001c107fc0458537ae19c85e9a3c49a6cc924729</td>\n",
       "      <td>2019-01-29 15:07:45</td>\n",
       "      <td>2019-01-29 16:23:58</td>\n",
       "      <td>19</td>\n",
       "      <td>5</td>\n",
       "      <td>01:16:13</td>\n",
       "      <td>[19, 5]</td>\n",
       "    </tr>\n",
       "    <tr>\n",
       "      <th>21</th>\n",
       "      <td>203448023608876143d7cf04544adf6584d2c4ff</td>\n",
       "      <td>2019-01-29 15:32:20</td>\n",
       "      <td>2019-01-29 16:26:28</td>\n",
       "      <td>19</td>\n",
       "      <td>5</td>\n",
       "      <td>00:54:08</td>\n",
       "      <td>[19, 5]</td>\n",
       "    </tr>\n",
       "    <tr>\n",
       "      <th>23</th>\n",
       "      <td>f935bc013f07cec72918b9e5dec71629c4c17e4a</td>\n",
       "      <td>2019-01-29 15:10:38</td>\n",
       "      <td>2019-01-29 16:27:48</td>\n",
       "      <td>19</td>\n",
       "      <td>5</td>\n",
       "      <td>01:17:10</td>\n",
       "      <td>[19, 5]</td>\n",
       "    </tr>\n",
       "    <tr>\n",
       "      <th>26</th>\n",
       "      <td>dc67c4d3b08bf06f7b1097ccce650ed63428da0e</td>\n",
       "      <td>2019-01-29 15:39:32</td>\n",
       "      <td>2019-01-29 16:36:34</td>\n",
       "      <td>19</td>\n",
       "      <td>5</td>\n",
       "      <td>00:57:02</td>\n",
       "      <td>[19, 5]</td>\n",
       "    </tr>\n",
       "    <tr>\n",
       "      <th>28</th>\n",
       "      <td>f3c4961dac0505ca03bfe40eed12ffad47c3bc61</td>\n",
       "      <td>2019-01-29 15:39:37</td>\n",
       "      <td>2019-01-29 16:37:06</td>\n",
       "      <td>19</td>\n",
       "      <td>5</td>\n",
       "      <td>00:57:29</td>\n",
       "      <td>[19, 5]</td>\n",
       "    </tr>\n",
       "    <tr>\n",
       "      <th>33</th>\n",
       "      <td>6dae3700cb8b5032bad0dadda8d599aa38dba631</td>\n",
       "      <td>2019-01-29 15:45:07</td>\n",
       "      <td>2019-01-29 16:44:45</td>\n",
       "      <td>19</td>\n",
       "      <td>5</td>\n",
       "      <td>00:59:38</td>\n",
       "      <td>[19, 5]</td>\n",
       "    </tr>\n",
       "    <tr>\n",
       "      <th>38</th>\n",
       "      <td>478e9e1e09f71a51c1583aafaa1fad6a54ac4faf</td>\n",
       "      <td>2019-01-29 15:51:27</td>\n",
       "      <td>2019-01-29 16:49:52</td>\n",
       "      <td>19</td>\n",
       "      <td>5</td>\n",
       "      <td>00:58:25</td>\n",
       "      <td>[19, 5]</td>\n",
       "    </tr>\n",
       "    <tr>\n",
       "      <th>39</th>\n",
       "      <td>f1a2582becadd1e7aa6210dec3148f50354676dd</td>\n",
       "      <td>2019-01-29 15:47:04</td>\n",
       "      <td>2019-01-29 16:51:18</td>\n",
       "      <td>19</td>\n",
       "      <td>5</td>\n",
       "      <td>01:04:14</td>\n",
       "      <td>[19, 5]</td>\n",
       "    </tr>\n",
       "    <tr>\n",
       "      <th>41</th>\n",
       "      <td>f2880ad4877f501cb3e487105bf1811f6f339e9f</td>\n",
       "      <td>2019-01-29 15:39:55</td>\n",
       "      <td>2019-01-29 16:59:02</td>\n",
       "      <td>19</td>\n",
       "      <td>5</td>\n",
       "      <td>01:19:07</td>\n",
       "      <td>[19, 5]</td>\n",
       "    </tr>\n",
       "    <tr>\n",
       "      <th>31</th>\n",
       "      <td>559067b5a40377a3e836fec2083e6ba0e2ee92e4</td>\n",
       "      <td>2019-01-29 16:29:40</td>\n",
       "      <td>2019-01-30 07:59:48</td>\n",
       "      <td>19</td>\n",
       "      <td>5</td>\n",
       "      <td>15:30:08</td>\n",
       "      <td>[19, 5]</td>\n",
       "    </tr>\n",
       "    <tr>\n",
       "      <th>0</th>\n",
       "      <td>1352bf1fd49ca28f77610e5fc46c0e952ea66040</td>\n",
       "      <td>2019-01-29 17:03:24</td>\n",
       "      <td>2019-01-30 08:56:20</td>\n",
       "      <td>19</td>\n",
       "      <td>5</td>\n",
       "      <td>15:52:56</td>\n",
       "      <td>[19, 4, 5]</td>\n",
       "    </tr>\n",
       "  </tbody>\n",
       "</table>\n",
       "<p>479 rows × 7 columns</p>\n",
       "</div>"
      ],
      "text/plain": [
       "                                       immat          date_cam_1          date_cam_2  cam_1  cam_2 tps_parcours     cameras\n",
       "0   997d5fbf94327159d8ad2dfe88999cf8a1a32fad 2019-01-29 07:41:57 2019-01-29 08:17:44     19      5     00:35:47  [19, 4, 5]\n",
       "1   1da7ad5637f24c08d9a8bb1da3f932c21e8dd47c 2019-01-29 07:45:33 2019-01-29 08:22:36     19      5     00:37:03  [19, 4, 5]\n",
       "2   382ff3d11f92aaa8d00c7e8061ff61c0eecbfc00 2019-01-29 07:53:24 2019-01-29 08:28:22     19      5     00:34:58  [19, 4, 5]\n",
       "3   eb6b0e2bc49e9ea29fb491193621a90417323bf4 2019-01-29 07:54:19 2019-01-29 08:30:39     19      5     00:36:20  [19, 4, 5]\n",
       "4   a7e4a67e8836b4fdb72688baca377534f6add717 2019-01-29 07:56:06 2019-01-29 08:32:54     19      5     00:36:48  [19, 4, 5]\n",
       "5   b3e2b06a429608e99c98d074851e49cbb6fb93ad 2019-01-29 07:56:03 2019-01-29 08:34:34     19      5     00:38:31  [19, 4, 5]\n",
       "6   f25b2cd42e0b20614640abc3418ec2af63af5042 2019-01-29 07:57:56 2019-01-29 08:34:25     19      5     00:36:29  [19, 4, 5]\n",
       "7   2dca9f2506ef4f67da0255625f046d1b40348d6e 2019-01-29 07:58:35 2019-01-29 08:35:20     19      5     00:36:45  [19, 4, 5]\n",
       "8   914a3afe6d6abb263b99c20884c88ae7c8a383dd 2019-01-29 07:59:36 2019-01-29 08:35:38     19      5     00:36:02  [19, 4, 5]\n",
       "9   04cdedf0bf6f15c9698dce79ad3157720ea29448 2019-01-29 07:54:45 2019-01-29 10:26:17     19      5     02:31:32     [19, 5]\n",
       "0   bf9dfd50a4a693085e3080156f11c25314f96f03 2019-01-29 08:00:56 2019-01-29 08:37:18     19      5     00:36:22  [19, 4, 5]\n",
       "1   cf4f7ddbb3a6d9006e029777df712a53c2d76992 2019-01-29 08:01:07 2019-01-29 08:37:04     19      5     00:35:57  [19, 4, 5]\n",
       "2   183bc8585ac5a2e26b6d2ada6ce6891235a36b92 2019-01-29 08:01:16 2019-01-29 08:37:20     19      5     00:36:04  [19, 4, 5]\n",
       "3   dcf2ffa7638b1ae7d0281cbb94d4c7cf0a0912f7 2019-01-29 08:02:34 2019-01-29 08:37:42     19      5     00:35:08  [19, 4, 5]\n",
       "4   54581cfa0b0f0c1dbe24fd60ca7efcc07439232f 2019-01-29 08:02:19 2019-01-29 08:38:07     19      5     00:35:48  [19, 4, 5]\n",
       "5   31c6bdae383e5c4f25e803d55dc539d6c40e6105 2019-01-29 08:03:06 2019-01-29 08:38:16     19      5     00:35:10  [19, 4, 5]\n",
       "6   77728d75d8ee8a1e27c95ca4077faddbf9dcdd93 2019-01-29 08:03:55 2019-01-29 08:38:48     19      5     00:34:53  [19, 4, 5]\n",
       "7   59148b1dc67f7b2ca10635cd4fabe903b1fd0b63 2019-01-29 08:04:14 2019-01-29 08:39:21     19      5     00:35:07  [19, 4, 5]\n",
       "8   3de49b107ce9b3f1add8f9314add9f5a2cadbe50 2019-01-29 08:05:07 2019-01-29 08:39:49     19      5     00:34:42  [19, 4, 5]\n",
       "9   2a88c4e3e59236321a2098ccc9dd4b47f2eed478 2019-01-29 08:07:23 2019-01-29 08:42:27     19      5     00:35:04  [19, 4, 5]\n",
       "10  5173f6a0a8ddf8df788408f70f14b0cd71333fd4 2019-01-29 08:08:20 2019-01-29 08:43:36     19      5     00:35:16  [19, 4, 5]\n",
       "11  b19849562d778b3f0faadab5d6375d196fa00c3e 2019-01-29 08:11:31 2019-01-29 08:46:33     19      5     00:35:02  [19, 4, 5]\n",
       "12  d8f1940dce090c0dd70898ade323d44a20128cf7 2019-01-29 08:12:06 2019-01-29 08:46:39     19      5     00:34:33  [19, 4, 5]\n",
       "13  86e69f471e55d135cfde733fd536d2906682b662 2019-01-29 08:12:13 2019-01-29 08:47:29     19      5     00:35:16  [19, 4, 5]\n",
       "14  07f533c82778a42f4827e08e685d809e36017390 2019-01-29 08:13:13 2019-01-29 08:47:52     19      5     00:34:39  [19, 4, 5]\n",
       "15  837898ee18a5c0fb78ac9c1001068fcb7c888550 2019-01-29 08:16:29 2019-01-29 08:50:59     19      5     00:34:30  [19, 4, 5]\n",
       "16  11bec9781f63a9c6ed13dc8e9b73af792f9830c9 2019-01-29 08:20:21 2019-01-29 08:52:39     19      5     00:32:18  [19, 4, 5]\n",
       "17  bd00a061a3d665bfbae3a1601c4808f329060c96 2019-01-29 08:20:40 2019-01-29 08:52:58     19      5     00:32:18  [19, 4, 5]\n",
       "18  79974a434856bb71e13c30992f0d169a1a4a66fc 2019-01-29 08:20:55 2019-01-29 08:52:26     19      5     00:31:31  [19, 4, 5]\n",
       "19  f2e470f4d6b5c0692705d44b98d3a2238f3bdcda 2019-01-29 08:21:42 2019-01-29 08:54:32     19      5     00:32:50  [19, 4, 5]\n",
       "..                                       ...                 ...                 ...    ...    ...          ...         ...\n",
       "19  8721f6f6180ae646a725b3921ca459e25f93c59f 2019-01-29 15:27:26 2019-01-29 16:22:06     19      5     00:54:40  [19, 4, 5]\n",
       "20  33ce783a9cf096fe3f60fcd1e4905d37e6c0d21b 2019-01-29 15:32:01 2019-01-29 16:29:05     19      5     00:57:04  [19, 4, 5]\n",
       "21  568ed6686ee99e282452640a4cfa39853e33ac3a 2019-01-29 15:35:23 2019-01-29 16:30:46     19      5     00:55:23  [19, 4, 5]\n",
       "22  d8b737bac184882191ab161446aa35e62747209d 2019-01-29 15:34:55 2019-01-29 16:31:04     19      5     00:56:09  [19, 4, 5]\n",
       "23  51f52dbe972e63c20905fb9b70f2ec71c52b42ee 2019-01-29 15:34:51 2019-01-29 16:31:32     19      5     00:56:41  [19, 4, 5]\n",
       "24  a2acee61c7ac5ea73c33c0a41e955bb8cc050558 2019-01-29 15:36:25 2019-01-29 16:31:39     19      5     00:55:14  [19, 4, 5]\n",
       "25  965869bd53d2c55d43553bd0856b4553868bbce7 2019-01-29 15:35:13 2019-01-29 16:32:16     19      5     00:57:03  [19, 4, 5]\n",
       "26  60c1657a6c1cce17de5abd45576b25de1166f753 2019-01-29 15:36:33 2019-01-29 16:35:22     19      5     00:58:49  [19, 4, 5]\n",
       "27  90ab93485141870a3677985fb6bb2d40df987050 2019-01-29 15:41:38 2019-01-29 16:35:01     19      5     00:53:23  [19, 4, 5]\n",
       "28  3c03c14abef5eb6fc6d637fa3be67f53ddab0e71 2019-01-29 15:38:22 2019-01-29 16:35:58     19      5     00:57:36  [19, 4, 5]\n",
       "29  6d9a08eb854f210a4c91945191c05495cf5bdcf9 2019-01-29 15:58:33 2019-01-29 16:54:06     19      5     00:55:33  [19, 4, 5]\n",
       "30  ba560eb685d4e958fedad7626a2d7b42670282e2 2019-01-29 15:59:14 2019-01-29 16:55:48     19      5     00:56:34  [19, 4, 5]\n",
       "0   1c7daf8a14f69eb7ac0b1cb8e1a378610bd2052e 2019-01-29 15:03:40 2019-01-29 16:18:38     19      5     01:14:58  [19, 1, 5]\n",
       "1   fbeb804b49894fbd1848ed1519563800bbee01d8 2019-01-29 15:09:22 2019-01-29 16:31:45     19      5     01:22:23  [19, 1, 5]\n",
       "1   411a4153864fbc78c5c8c7b541e394e4883f4599 2019-01-29 15:01:48 2019-01-29 15:52:37     19      5     00:50:49     [19, 5]\n",
       "3   c6b1dd01a5f13915d390f815a5f73588595f5bd0 2019-01-29 15:06:26 2019-01-29 15:55:35     19      5     00:49:09     [19, 5]\n",
       "15  67c43122cf380564b1e938fce6328ac5556b140b 2019-01-29 15:04:56 2019-01-29 16:19:48     19      5     01:14:52     [19, 5]\n",
       "16  2c3b5fd129704034a61b6010e1e9726248e2f327 2019-01-29 15:03:51 2019-01-29 16:21:31     19      5     01:17:40     [19, 5]\n",
       "17  49180482fd4aaf0f2e40e6e5976bae0857a6c992 2019-01-29 15:27:36 2019-01-29 16:23:14     19      5     00:55:38     [19, 5]\n",
       "18  001c107fc0458537ae19c85e9a3c49a6cc924729 2019-01-29 15:07:45 2019-01-29 16:23:58     19      5     01:16:13     [19, 5]\n",
       "21  203448023608876143d7cf04544adf6584d2c4ff 2019-01-29 15:32:20 2019-01-29 16:26:28     19      5     00:54:08     [19, 5]\n",
       "23  f935bc013f07cec72918b9e5dec71629c4c17e4a 2019-01-29 15:10:38 2019-01-29 16:27:48     19      5     01:17:10     [19, 5]\n",
       "26  dc67c4d3b08bf06f7b1097ccce650ed63428da0e 2019-01-29 15:39:32 2019-01-29 16:36:34     19      5     00:57:02     [19, 5]\n",
       "28  f3c4961dac0505ca03bfe40eed12ffad47c3bc61 2019-01-29 15:39:37 2019-01-29 16:37:06     19      5     00:57:29     [19, 5]\n",
       "33  6dae3700cb8b5032bad0dadda8d599aa38dba631 2019-01-29 15:45:07 2019-01-29 16:44:45     19      5     00:59:38     [19, 5]\n",
       "38  478e9e1e09f71a51c1583aafaa1fad6a54ac4faf 2019-01-29 15:51:27 2019-01-29 16:49:52     19      5     00:58:25     [19, 5]\n",
       "39  f1a2582becadd1e7aa6210dec3148f50354676dd 2019-01-29 15:47:04 2019-01-29 16:51:18     19      5     01:04:14     [19, 5]\n",
       "41  f2880ad4877f501cb3e487105bf1811f6f339e9f 2019-01-29 15:39:55 2019-01-29 16:59:02     19      5     01:19:07     [19, 5]\n",
       "31  559067b5a40377a3e836fec2083e6ba0e2ee92e4 2019-01-29 16:29:40 2019-01-30 07:59:48     19      5     15:30:08     [19, 5]\n",
       "0   1352bf1fd49ca28f77610e5fc46c0e952ea66040 2019-01-29 17:03:24 2019-01-30 08:56:20     19      5     15:52:56  [19, 4, 5]\n",
       "\n",
       "[479 rows x 7 columns]"
      ]
     },
     "execution_count": 347,
     "metadata": {},
     "output_type": "execute_result"
    }
   ],
   "source": [
    "dico_od"
   ]
  },
  {
   "cell_type": "code",
   "execution_count": null,
   "metadata": {},
   "outputs": [],
   "source": []
  }
 ],
 "metadata": {
  "kernelspec": {
   "display_name": "Python 3",
   "language": "python",
   "name": "python3"
  },
  "language_info": {
   "codemirror_mode": {
    "name": "ipython",
    "version": 3
   },
   "file_extension": ".py",
   "mimetype": "text/x-python",
   "name": "python",
   "nbconvert_exporter": "python",
   "pygments_lexer": "ipython3",
   "version": "3.7.0"
  }
 },
 "nbformat": 4,
 "nbformat_minor": 2
}
