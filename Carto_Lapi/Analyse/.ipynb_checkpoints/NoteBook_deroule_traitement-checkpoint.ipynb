{
 "cells": [
  {
   "cell_type": "markdown",
   "metadata": {},
   "source": [
    "L'dée de ce notebook est de pouvoir tracer les étapes de réalisation d'un calcul de temps de parcours de référence. "
   ]
  },
  {
   "cell_type": "markdown",
   "metadata": {},
   "source": [
    "Chap 1 : Import des données"
   ]
  },
  {
   "cell_type": "code",
   "execution_count": 1,
   "metadata": {},
   "outputs": [
    {
     "ename": "UnicodeDecodeError",
     "evalue": "'utf-8' codec can't decode byte 0xe9 in position 85: invalid continuation byte",
     "output_type": "error",
     "traceback": [
      "\u001b[1;31m---------------------------------------------------------------------------\u001b[0m",
      "\u001b[1;31mUnicodeDecodeError\u001b[0m                        Traceback (most recent call last)",
      "\u001b[1;31mUnicodeDecodeError\u001b[0m: 'utf-8' codec can't decode byte 0xe9 in position 85: invalid continuation byte"
     ]
    },
    {
     "name": "stderr",
     "output_type": "stream",
     "text": [
      "Exception ignored in: 'fiona._env.log_error'\n",
      "UnicodeDecodeError: 'utf-8' codec can't decode byte 0xe9 in position 85: invalid continuation byte\n"
     ]
    },
    {
     "ename": "UnicodeDecodeError",
     "evalue": "'utf-8' codec can't decode byte 0xe9 in position 85: invalid continuation byte",
     "output_type": "error",
     "traceback": [
      "\u001b[1;31m---------------------------------------------------------------------------\u001b[0m",
      "\u001b[1;31mUnicodeDecodeError\u001b[0m                        Traceback (most recent call last)",
      "\u001b[1;31mUnicodeDecodeError\u001b[0m: 'utf-8' codec can't decode byte 0xe9 in position 85: invalid continuation byte"
     ]
    },
    {
     "name": "stderr",
     "output_type": "stream",
     "text": [
      "Exception ignored in: 'fiona._env.log_error'\n",
      "UnicodeDecodeError: 'utf-8' codec can't decode byte 0xe9 in position 85: invalid continuation byte\n"
     ]
    },
    {
     "ename": "UnicodeDecodeError",
     "evalue": "'utf-8' codec can't decode byte 0xe9 in position 86: invalid continuation byte",
     "output_type": "error",
     "traceback": [
      "\u001b[1;31m---------------------------------------------------------------------------\u001b[0m",
      "\u001b[1;31mUnicodeDecodeError\u001b[0m                        Traceback (most recent call last)",
      "\u001b[1;31mUnicodeDecodeError\u001b[0m: 'utf-8' codec can't decode byte 0xe9 in position 86: invalid continuation byte"
     ]
    },
    {
     "name": "stderr",
     "output_type": "stream",
     "text": [
      "Exception ignored in: 'fiona._env.log_error'\n",
      "UnicodeDecodeError: 'utf-8' codec can't decode byte 0xe9 in position 86: invalid continuation byte\n"
     ]
    },
    {
     "ename": "UnicodeDecodeError",
     "evalue": "'utf-8' codec can't decode byte 0xe9 in position 86: invalid continuation byte",
     "output_type": "error",
     "traceback": [
      "\u001b[1;31m---------------------------------------------------------------------------\u001b[0m",
      "\u001b[1;31mUnicodeDecodeError\u001b[0m                        Traceback (most recent call last)",
      "\u001b[1;31mUnicodeDecodeError\u001b[0m: 'utf-8' codec can't decode byte 0xe9 in position 86: invalid continuation byte"
     ]
    },
    {
     "name": "stderr",
     "output_type": "stream",
     "text": [
      "Exception ignored in: 'fiona._env.log_error'\n",
      "UnicodeDecodeError: 'utf-8' codec can't decode byte 0xe9 in position 86: invalid continuation byte\n"
     ]
    },
    {
     "ename": "UnicodeDecodeError",
     "evalue": "'utf-8' codec can't decode byte 0xe9 in position 85: invalid continuation byte",
     "output_type": "error",
     "traceback": [
      "\u001b[1;31m---------------------------------------------------------------------------\u001b[0m",
      "\u001b[1;31mUnicodeDecodeError\u001b[0m                        Traceback (most recent call last)",
      "\u001b[1;31mUnicodeDecodeError\u001b[0m: 'utf-8' codec can't decode byte 0xe9 in position 85: invalid continuation byte"
     ]
    },
    {
     "name": "stderr",
     "output_type": "stream",
     "text": [
      "Exception ignored in: 'fiona._env.log_error'\n",
      "UnicodeDecodeError: 'utf-8' codec can't decode byte 0xe9 in position 85: invalid continuation byte\n"
     ]
    },
    {
     "ename": "UnicodeDecodeError",
     "evalue": "'utf-8' codec can't decode byte 0xe9 in position 85: invalid continuation byte",
     "output_type": "error",
     "traceback": [
      "\u001b[1;31m---------------------------------------------------------------------------\u001b[0m",
      "\u001b[1;31mUnicodeDecodeError\u001b[0m                        Traceback (most recent call last)",
      "\u001b[1;31mUnicodeDecodeError\u001b[0m: 'utf-8' codec can't decode byte 0xe9 in position 85: invalid continuation byte"
     ]
    },
    {
     "name": "stderr",
     "output_type": "stream",
     "text": [
      "Exception ignored in: 'fiona._env.log_error'\n",
      "UnicodeDecodeError: 'utf-8' codec can't decode byte 0xe9 in position 85: invalid continuation byte\n"
     ]
    },
    {
     "ename": "UnicodeDecodeError",
     "evalue": "'utf-8' codec can't decode byte 0xe9 in position 86: invalid continuation byte",
     "output_type": "error",
     "traceback": [
      "\u001b[1;31m---------------------------------------------------------------------------\u001b[0m",
      "\u001b[1;31mUnicodeDecodeError\u001b[0m                        Traceback (most recent call last)",
      "\u001b[1;31mUnicodeDecodeError\u001b[0m: 'utf-8' codec can't decode byte 0xe9 in position 86: invalid continuation byte"
     ]
    },
    {
     "name": "stderr",
     "output_type": "stream",
     "text": [
      "Exception ignored in: 'fiona._env.log_error'\n",
      "UnicodeDecodeError: 'utf-8' codec can't decode byte 0xe9 in position 86: invalid continuation byte\n"
     ]
    },
    {
     "ename": "UnicodeDecodeError",
     "evalue": "'utf-8' codec can't decode byte 0xe9 in position 86: invalid continuation byte",
     "output_type": "error",
     "traceback": [
      "\u001b[1;31m---------------------------------------------------------------------------\u001b[0m",
      "\u001b[1;31mUnicodeDecodeError\u001b[0m                        Traceback (most recent call last)",
      "\u001b[1;31mUnicodeDecodeError\u001b[0m: 'utf-8' codec can't decode byte 0xe9 in position 86: invalid continuation byte"
     ]
    },
    {
     "name": "stderr",
     "output_type": "stream",
     "text": [
      "Exception ignored in: 'fiona._env.log_error'\n",
      "UnicodeDecodeError: 'utf-8' codec can't decode byte 0xe9 in position 86: invalid continuation byte\n"
     ]
    },
    {
     "ename": "UnicodeDecodeError",
     "evalue": "'utf-8' codec can't decode byte 0xe9 in position 91: invalid continuation byte",
     "output_type": "error",
     "traceback": [
      "\u001b[1;31m---------------------------------------------------------------------------\u001b[0m",
      "\u001b[1;31mUnicodeDecodeError\u001b[0m                        Traceback (most recent call last)",
      "\u001b[1;31mUnicodeDecodeError\u001b[0m: 'utf-8' codec can't decode byte 0xe9 in position 91: invalid continuation byte"
     ]
    },
    {
     "name": "stderr",
     "output_type": "stream",
     "text": [
      "Exception ignored in: 'fiona._env.log_error'\n",
      "UnicodeDecodeError: 'utf-8' codec can't decode byte 0xe9 in position 91: invalid continuation byte\n"
     ]
    },
    {
     "ename": "UnicodeDecodeError",
     "evalue": "'utf-8' codec can't decode byte 0xe9 in position 91: invalid continuation byte",
     "output_type": "error",
     "traceback": [
      "\u001b[1;31m---------------------------------------------------------------------------\u001b[0m",
      "\u001b[1;31mUnicodeDecodeError\u001b[0m                        Traceback (most recent call last)",
      "\u001b[1;31mUnicodeDecodeError\u001b[0m: 'utf-8' codec can't decode byte 0xe9 in position 91: invalid continuation byte"
     ]
    },
    {
     "name": "stderr",
     "output_type": "stream",
     "text": [
      "Exception ignored in: 'fiona._env.log_error'\n",
      "UnicodeDecodeError: 'utf-8' codec can't decode byte 0xe9 in position 91: invalid continuation byte\n"
     ]
    },
    {
     "ename": "UnicodeDecodeError",
     "evalue": "'utf-8' codec can't decode byte 0xe9 in position 86: invalid continuation byte",
     "output_type": "error",
     "traceback": [
      "\u001b[1;31m---------------------------------------------------------------------------\u001b[0m",
      "\u001b[1;31mUnicodeDecodeError\u001b[0m                        Traceback (most recent call last)",
      "\u001b[1;31mUnicodeDecodeError\u001b[0m: 'utf-8' codec can't decode byte 0xe9 in position 86: invalid continuation byte"
     ]
    },
    {
     "name": "stderr",
     "output_type": "stream",
     "text": [
      "Exception ignored in: 'fiona._env.log_error'\n",
      "UnicodeDecodeError: 'utf-8' codec can't decode byte 0xe9 in position 86: invalid continuation byte\n"
     ]
    },
    {
     "ename": "UnicodeDecodeError",
     "evalue": "'utf-8' codec can't decode byte 0xe9 in position 86: invalid continuation byte",
     "output_type": "error",
     "traceback": [
      "\u001b[1;31m---------------------------------------------------------------------------\u001b[0m",
      "\u001b[1;31mUnicodeDecodeError\u001b[0m                        Traceback (most recent call last)",
      "\u001b[1;31mUnicodeDecodeError\u001b[0m: 'utf-8' codec can't decode byte 0xe9 in position 86: invalid continuation byte"
     ]
    },
    {
     "name": "stderr",
     "output_type": "stream",
     "text": [
      "Exception ignored in: 'fiona._env.log_error'\n",
      "UnicodeDecodeError: 'utf-8' codec can't decode byte 0xe9 in position 86: invalid continuation byte\n"
     ]
    },
    {
     "ename": "UnicodeDecodeError",
     "evalue": "'utf-8' codec can't decode byte 0xe9 in position 91: invalid continuation byte",
     "output_type": "error",
     "traceback": [
      "\u001b[1;31m---------------------------------------------------------------------------\u001b[0m",
      "\u001b[1;31mUnicodeDecodeError\u001b[0m                        Traceback (most recent call last)",
      "\u001b[1;31mUnicodeDecodeError\u001b[0m: 'utf-8' codec can't decode byte 0xe9 in position 91: invalid continuation byte"
     ]
    },
    {
     "name": "stderr",
     "output_type": "stream",
     "text": [
      "Exception ignored in: 'fiona._env.log_error'\n",
      "UnicodeDecodeError: 'utf-8' codec can't decode byte 0xe9 in position 91: invalid continuation byte\n"
     ]
    },
    {
     "ename": "UnicodeDecodeError",
     "evalue": "'utf-8' codec can't decode byte 0xe9 in position 91: invalid continuation byte",
     "output_type": "error",
     "traceback": [
      "\u001b[1;31m---------------------------------------------------------------------------\u001b[0m",
      "\u001b[1;31mUnicodeDecodeError\u001b[0m                        Traceback (most recent call last)",
      "\u001b[1;31mUnicodeDecodeError\u001b[0m: 'utf-8' codec can't decode byte 0xe9 in position 91: invalid continuation byte"
     ]
    },
    {
     "name": "stderr",
     "output_type": "stream",
     "text": [
      "Exception ignored in: 'fiona._env.log_error'\n",
      "UnicodeDecodeError: 'utf-8' codec can't decode byte 0xe9 in position 91: invalid continuation byte\n"
     ]
    },
    {
     "ename": "UnicodeDecodeError",
     "evalue": "'utf-8' codec can't decode byte 0xe9 in position 85: invalid continuation byte",
     "output_type": "error",
     "traceback": [
      "\u001b[1;31m---------------------------------------------------------------------------\u001b[0m",
      "\u001b[1;31mUnicodeDecodeError\u001b[0m                        Traceback (most recent call last)",
      "\u001b[1;31mUnicodeDecodeError\u001b[0m: 'utf-8' codec can't decode byte 0xe9 in position 85: invalid continuation byte"
     ]
    },
    {
     "name": "stderr",
     "output_type": "stream",
     "text": [
      "Exception ignored in: 'fiona._env.log_error'\n",
      "UnicodeDecodeError: 'utf-8' codec can't decode byte 0xe9 in position 85: invalid continuation byte\n"
     ]
    },
    {
     "ename": "UnicodeDecodeError",
     "evalue": "'utf-8' codec can't decode byte 0xe9 in position 85: invalid continuation byte",
     "output_type": "error",
     "traceback": [
      "\u001b[1;31m---------------------------------------------------------------------------\u001b[0m",
      "\u001b[1;31mUnicodeDecodeError\u001b[0m                        Traceback (most recent call last)",
      "\u001b[1;31mUnicodeDecodeError\u001b[0m: 'utf-8' codec can't decode byte 0xe9 in position 85: invalid continuation byte"
     ]
    },
    {
     "name": "stderr",
     "output_type": "stream",
     "text": [
      "Exception ignored in: 'fiona._env.log_error'\n",
      "UnicodeDecodeError: 'utf-8' codec can't decode byte 0xe9 in position 85: invalid continuation byte\n"
     ]
    },
    {
     "ename": "UnicodeDecodeError",
     "evalue": "'utf-8' codec can't decode byte 0xe9 in position 88: invalid continuation byte",
     "output_type": "error",
     "traceback": [
      "\u001b[1;31m---------------------------------------------------------------------------\u001b[0m",
      "\u001b[1;31mUnicodeDecodeError\u001b[0m                        Traceback (most recent call last)",
      "\u001b[1;31mUnicodeDecodeError\u001b[0m: 'utf-8' codec can't decode byte 0xe9 in position 88: invalid continuation byte"
     ]
    },
    {
     "name": "stderr",
     "output_type": "stream",
     "text": [
      "Exception ignored in: 'fiona._env.log_error'\n",
      "UnicodeDecodeError: 'utf-8' codec can't decode byte 0xe9 in position 88: invalid continuation byte\n"
     ]
    },
    {
     "ename": "UnicodeDecodeError",
     "evalue": "'utf-8' codec can't decode byte 0xe9 in position 88: invalid continuation byte",
     "output_type": "error",
     "traceback": [
      "\u001b[1;31m---------------------------------------------------------------------------\u001b[0m",
      "\u001b[1;31mUnicodeDecodeError\u001b[0m                        Traceback (most recent call last)",
      "\u001b[1;31mUnicodeDecodeError\u001b[0m: 'utf-8' codec can't decode byte 0xe9 in position 88: invalid continuation byte"
     ]
    },
    {
     "name": "stderr",
     "output_type": "stream",
     "text": [
      "Exception ignored in: 'fiona._env.log_error'\n",
      "UnicodeDecodeError: 'utf-8' codec can't decode byte 0xe9 in position 88: invalid continuation byte\n"
     ]
    },
    {
     "ename": "UnicodeDecodeError",
     "evalue": "'utf-8' codec can't decode byte 0xe9 in position 85: invalid continuation byte",
     "output_type": "error",
     "traceback": [
      "\u001b[1;31m---------------------------------------------------------------------------\u001b[0m",
      "\u001b[1;31mUnicodeDecodeError\u001b[0m                        Traceback (most recent call last)",
      "\u001b[1;31mUnicodeDecodeError\u001b[0m: 'utf-8' codec can't decode byte 0xe9 in position 85: invalid continuation byte"
     ]
    },
    {
     "name": "stderr",
     "output_type": "stream",
     "text": [
      "Exception ignored in: 'fiona._env.log_error'\n",
      "UnicodeDecodeError: 'utf-8' codec can't decode byte 0xe9 in position 85: invalid continuation byte\n"
     ]
    },
    {
     "ename": "UnicodeDecodeError",
     "evalue": "'utf-8' codec can't decode byte 0xe9 in position 85: invalid continuation byte",
     "output_type": "error",
     "traceback": [
      "\u001b[1;31m---------------------------------------------------------------------------\u001b[0m",
      "\u001b[1;31mUnicodeDecodeError\u001b[0m                        Traceback (most recent call last)",
      "\u001b[1;31mUnicodeDecodeError\u001b[0m: 'utf-8' codec can't decode byte 0xe9 in position 85: invalid continuation byte"
     ]
    },
    {
     "name": "stderr",
     "output_type": "stream",
     "text": [
      "Exception ignored in: 'fiona._env.log_error'\n",
      "UnicodeDecodeError: 'utf-8' codec can't decode byte 0xe9 in position 85: invalid continuation byte\n"
     ]
    },
    {
     "ename": "UnicodeDecodeError",
     "evalue": "'utf-8' codec can't decode byte 0xe9 in position 86: invalid continuation byte",
     "output_type": "error",
     "traceback": [
      "\u001b[1;31m---------------------------------------------------------------------------\u001b[0m",
      "\u001b[1;31mUnicodeDecodeError\u001b[0m                        Traceback (most recent call last)",
      "\u001b[1;31mUnicodeDecodeError\u001b[0m: 'utf-8' codec can't decode byte 0xe9 in position 86: invalid continuation byte"
     ]
    },
    {
     "name": "stderr",
     "output_type": "stream",
     "text": [
      "Exception ignored in: 'fiona._env.log_error'\n",
      "UnicodeDecodeError: 'utf-8' codec can't decode byte 0xe9 in position 86: invalid continuation byte\n"
     ]
    },
    {
     "ename": "UnicodeDecodeError",
     "evalue": "'utf-8' codec can't decode byte 0xe9 in position 86: invalid continuation byte",
     "output_type": "error",
     "traceback": [
      "\u001b[1;31m---------------------------------------------------------------------------\u001b[0m",
      "\u001b[1;31mUnicodeDecodeError\u001b[0m                        Traceback (most recent call last)",
      "\u001b[1;31mUnicodeDecodeError\u001b[0m: 'utf-8' codec can't decode byte 0xe9 in position 86: invalid continuation byte"
     ]
    },
    {
     "name": "stderr",
     "output_type": "stream",
     "text": [
      "Exception ignored in: 'fiona._env.log_error'\n",
      "UnicodeDecodeError: 'utf-8' codec can't decode byte 0xe9 in position 86: invalid continuation byte\n"
     ]
    },
    {
     "ename": "UnicodeDecodeError",
     "evalue": "'utf-8' codec can't decode byte 0xe9 in position 85: invalid continuation byte",
     "output_type": "error",
     "traceback": [
      "\u001b[1;31m---------------------------------------------------------------------------\u001b[0m",
      "\u001b[1;31mUnicodeDecodeError\u001b[0m                        Traceback (most recent call last)",
      "\u001b[1;31mUnicodeDecodeError\u001b[0m: 'utf-8' codec can't decode byte 0xe9 in position 85: invalid continuation byte"
     ]
    },
    {
     "name": "stderr",
     "output_type": "stream",
     "text": [
      "Exception ignored in: 'fiona._env.log_error'\n",
      "UnicodeDecodeError: 'utf-8' codec can't decode byte 0xe9 in position 85: invalid continuation byte\n"
     ]
    },
    {
     "ename": "UnicodeDecodeError",
     "evalue": "'utf-8' codec can't decode byte 0xe9 in position 85: invalid continuation byte",
     "output_type": "error",
     "traceback": [
      "\u001b[1;31m---------------------------------------------------------------------------\u001b[0m",
      "\u001b[1;31mUnicodeDecodeError\u001b[0m                        Traceback (most recent call last)",
      "\u001b[1;31mUnicodeDecodeError\u001b[0m: 'utf-8' codec can't decode byte 0xe9 in position 85: invalid continuation byte"
     ]
    },
    {
     "name": "stderr",
     "output_type": "stream",
     "text": [
      "Exception ignored in: 'fiona._env.log_error'\n",
      "UnicodeDecodeError: 'utf-8' codec can't decode byte 0xe9 in position 85: invalid continuation byte\n"
     ]
    },
    {
     "ename": "UnicodeDecodeError",
     "evalue": "'utf-8' codec can't decode byte 0xe9 in position 86: invalid continuation byte",
     "output_type": "error",
     "traceback": [
      "\u001b[1;31m---------------------------------------------------------------------------\u001b[0m",
      "\u001b[1;31mUnicodeDecodeError\u001b[0m                        Traceback (most recent call last)",
      "\u001b[1;31mUnicodeDecodeError\u001b[0m: 'utf-8' codec can't decode byte 0xe9 in position 86: invalid continuation byte"
     ]
    },
    {
     "name": "stderr",
     "output_type": "stream",
     "text": [
      "Exception ignored in: 'fiona._env.log_error'\n",
      "UnicodeDecodeError: 'utf-8' codec can't decode byte 0xe9 in position 86: invalid continuation byte\n"
     ]
    },
    {
     "ename": "UnicodeDecodeError",
     "evalue": "'utf-8' codec can't decode byte 0xe9 in position 86: invalid continuation byte",
     "output_type": "error",
     "traceback": [
      "\u001b[1;31m---------------------------------------------------------------------------\u001b[0m",
      "\u001b[1;31mUnicodeDecodeError\u001b[0m                        Traceback (most recent call last)",
      "\u001b[1;31mUnicodeDecodeError\u001b[0m: 'utf-8' codec can't decode byte 0xe9 in position 86: invalid continuation byte"
     ]
    },
    {
     "name": "stderr",
     "output_type": "stream",
     "text": [
      "Exception ignored in: 'fiona._env.log_error'\n",
      "UnicodeDecodeError: 'utf-8' codec can't decode byte 0xe9 in position 86: invalid continuation byte\n"
     ]
    },
    {
     "ename": "UnicodeDecodeError",
     "evalue": "'utf-8' codec can't decode byte 0xe9 in position 91: invalid continuation byte",
     "output_type": "error",
     "traceback": [
      "\u001b[1;31m---------------------------------------------------------------------------\u001b[0m",
      "\u001b[1;31mUnicodeDecodeError\u001b[0m                        Traceback (most recent call last)",
      "\u001b[1;31mUnicodeDecodeError\u001b[0m: 'utf-8' codec can't decode byte 0xe9 in position 91: invalid continuation byte"
     ]
    },
    {
     "name": "stderr",
     "output_type": "stream",
     "text": [
      "Exception ignored in: 'fiona._env.log_error'\n",
      "UnicodeDecodeError: 'utf-8' codec can't decode byte 0xe9 in position 91: invalid continuation byte\n"
     ]
    },
    {
     "ename": "UnicodeDecodeError",
     "evalue": "'utf-8' codec can't decode byte 0xe9 in position 91: invalid continuation byte",
     "output_type": "error",
     "traceback": [
      "\u001b[1;31m---------------------------------------------------------------------------\u001b[0m",
      "\u001b[1;31mUnicodeDecodeError\u001b[0m                        Traceback (most recent call last)",
      "\u001b[1;31mUnicodeDecodeError\u001b[0m: 'utf-8' codec can't decode byte 0xe9 in position 91: invalid continuation byte"
     ]
    },
    {
     "name": "stderr",
     "output_type": "stream",
     "text": [
      "Exception ignored in: 'fiona._env.log_error'\n",
      "UnicodeDecodeError: 'utf-8' codec can't decode byte 0xe9 in position 91: invalid continuation byte\n"
     ]
    },
    {
     "ename": "UnicodeDecodeError",
     "evalue": "'utf-8' codec can't decode byte 0xe9 in position 86: invalid continuation byte",
     "output_type": "error",
     "traceback": [
      "\u001b[1;31m---------------------------------------------------------------------------\u001b[0m",
      "\u001b[1;31mUnicodeDecodeError\u001b[0m                        Traceback (most recent call last)",
      "\u001b[1;31mUnicodeDecodeError\u001b[0m: 'utf-8' codec can't decode byte 0xe9 in position 86: invalid continuation byte"
     ]
    },
    {
     "name": "stderr",
     "output_type": "stream",
     "text": [
      "Exception ignored in: 'fiona._env.log_error'\n",
      "UnicodeDecodeError: 'utf-8' codec can't decode byte 0xe9 in position 86: invalid continuation byte\n"
     ]
    },
    {
     "ename": "UnicodeDecodeError",
     "evalue": "'utf-8' codec can't decode byte 0xe9 in position 86: invalid continuation byte",
     "output_type": "error",
     "traceback": [
      "\u001b[1;31m---------------------------------------------------------------------------\u001b[0m",
      "\u001b[1;31mUnicodeDecodeError\u001b[0m                        Traceback (most recent call last)",
      "\u001b[1;31mUnicodeDecodeError\u001b[0m: 'utf-8' codec can't decode byte 0xe9 in position 86: invalid continuation byte"
     ]
    },
    {
     "name": "stderr",
     "output_type": "stream",
     "text": [
      "Exception ignored in: 'fiona._env.log_error'\n",
      "UnicodeDecodeError: 'utf-8' codec can't decode byte 0xe9 in position 86: invalid continuation byte\n"
     ]
    },
    {
     "ename": "UnicodeDecodeError",
     "evalue": "'utf-8' codec can't decode byte 0xe9 in position 91: invalid continuation byte",
     "output_type": "error",
     "traceback": [
      "\u001b[1;31m---------------------------------------------------------------------------\u001b[0m",
      "\u001b[1;31mUnicodeDecodeError\u001b[0m                        Traceback (most recent call last)",
      "\u001b[1;31mUnicodeDecodeError\u001b[0m: 'utf-8' codec can't decode byte 0xe9 in position 91: invalid continuation byte"
     ]
    },
    {
     "name": "stderr",
     "output_type": "stream",
     "text": [
      "Exception ignored in: 'fiona._env.log_error'\n",
      "UnicodeDecodeError: 'utf-8' codec can't decode byte 0xe9 in position 91: invalid continuation byte\n"
     ]
    },
    {
     "ename": "UnicodeDecodeError",
     "evalue": "'utf-8' codec can't decode byte 0xe9 in position 91: invalid continuation byte",
     "output_type": "error",
     "traceback": [
      "\u001b[1;31m---------------------------------------------------------------------------\u001b[0m",
      "\u001b[1;31mUnicodeDecodeError\u001b[0m                        Traceback (most recent call last)",
      "\u001b[1;31mUnicodeDecodeError\u001b[0m: 'utf-8' codec can't decode byte 0xe9 in position 91: invalid continuation byte"
     ]
    },
    {
     "name": "stderr",
     "output_type": "stream",
     "text": [
      "Exception ignored in: 'fiona._env.log_error'\n",
      "UnicodeDecodeError: 'utf-8' codec can't decode byte 0xe9 in position 91: invalid continuation byte\n"
     ]
    },
    {
     "ename": "UnicodeDecodeError",
     "evalue": "'utf-8' codec can't decode byte 0xe9 in position 85: invalid continuation byte",
     "output_type": "error",
     "traceback": [
      "\u001b[1;31m---------------------------------------------------------------------------\u001b[0m",
      "\u001b[1;31mUnicodeDecodeError\u001b[0m                        Traceback (most recent call last)",
      "\u001b[1;31mUnicodeDecodeError\u001b[0m: 'utf-8' codec can't decode byte 0xe9 in position 85: invalid continuation byte"
     ]
    },
    {
     "name": "stderr",
     "output_type": "stream",
     "text": [
      "Exception ignored in: 'fiona._env.log_error'\n",
      "UnicodeDecodeError: 'utf-8' codec can't decode byte 0xe9 in position 85: invalid continuation byte\n"
     ]
    },
    {
     "ename": "UnicodeDecodeError",
     "evalue": "'utf-8' codec can't decode byte 0xe9 in position 85: invalid continuation byte",
     "output_type": "error",
     "traceback": [
      "\u001b[1;31m---------------------------------------------------------------------------\u001b[0m",
      "\u001b[1;31mUnicodeDecodeError\u001b[0m                        Traceback (most recent call last)",
      "\u001b[1;31mUnicodeDecodeError\u001b[0m: 'utf-8' codec can't decode byte 0xe9 in position 85: invalid continuation byte"
     ]
    },
    {
     "name": "stderr",
     "output_type": "stream",
     "text": [
      "Exception ignored in: 'fiona._env.log_error'\n",
      "UnicodeDecodeError: 'utf-8' codec can't decode byte 0xe9 in position 85: invalid continuation byte\n"
     ]
    },
    {
     "ename": "UnicodeDecodeError",
     "evalue": "'utf-8' codec can't decode byte 0xe9 in position 88: invalid continuation byte",
     "output_type": "error",
     "traceback": [
      "\u001b[1;31m---------------------------------------------------------------------------\u001b[0m",
      "\u001b[1;31mUnicodeDecodeError\u001b[0m                        Traceback (most recent call last)",
      "\u001b[1;31mUnicodeDecodeError\u001b[0m: 'utf-8' codec can't decode byte 0xe9 in position 88: invalid continuation byte"
     ]
    },
    {
     "name": "stderr",
     "output_type": "stream",
     "text": [
      "Exception ignored in: 'fiona._env.log_error'\n",
      "UnicodeDecodeError: 'utf-8' codec can't decode byte 0xe9 in position 88: invalid continuation byte\n"
     ]
    },
    {
     "ename": "UnicodeDecodeError",
     "evalue": "'utf-8' codec can't decode byte 0xe9 in position 88: invalid continuation byte",
     "output_type": "error",
     "traceback": [
      "\u001b[1;31m---------------------------------------------------------------------------\u001b[0m",
      "\u001b[1;31mUnicodeDecodeError\u001b[0m                        Traceback (most recent call last)",
      "\u001b[1;31mUnicodeDecodeError\u001b[0m: 'utf-8' codec can't decode byte 0xe9 in position 88: invalid continuation byte"
     ]
    },
    {
     "name": "stderr",
     "output_type": "stream",
     "text": [
      "Exception ignored in: 'fiona._env.log_error'\n",
      "UnicodeDecodeError: 'utf-8' codec can't decode byte 0xe9 in position 88: invalid continuation byte\n"
     ]
    }
   ],
   "source": [
    "%load_ext autoreload\n",
    "%autoreload 2\n",
    "import sys #c'est pas propre mais pour le moment pour importer mes modules perso dans le notebook je ne sais pas faire\n",
    "sys.path.append(r'C:\\Users\\Martin\\git\\Outils\\Outils\\Martin_Perso')\n",
    "import traitement_od as t\n",
    "import fiona\n",
    "import pandas as pd\n",
    "import numpy as np\n",
    "import altair as alt\n",
    "import datetime as dt"
   ]
  },
  {
   "cell_type": "markdown",
   "metadata": {},
   "source": [
    "Chap 1. Extraction des données sur 48h"
   ]
  },
  {
   "cell_type": "code",
   "execution_count": 3,
   "metadata": {},
   "outputs": [],
   "source": [
    "df_journee=t.ouvrir_fichier_lapi('2019-01-29 00:00:00','2019-01-30 23:59:00')#telecharger une partie des donnees sur unejournee"
   ]
  },
  {
   "cell_type": "code",
   "execution_count": 8,
   "metadata": {},
   "outputs": [],
   "source": [
    "info_df_journee=t.df_source(df_journee)"
   ]
  },
  {
   "cell_type": "code",
   "execution_count": 9,
   "metadata": {},
   "outputs": [
    {
     "data": {
      "application/vnd.vegalite.v2+json": {
       "$schema": "https://vega.github.io/schema/vega-lite/v2.6.0.json",
       "config": {
        "view": {
         "height": 300,
         "width": 400
        }
       },
       "data": {
        "name": "data-d52fe74060a383f76a3506d417abc273"
       },
       "datasets": {
        "data-d52fe74060a383f76a3506d417abc273": [
         {
          "type": "nb_tv_tot",
          "value": 635618
         },
         {
          "type": "nb_tv_plaque_ok",
          "value": 392879
         },
         {
          "type": "nb_vlpl",
          "value": 598393
         },
         {
          "type": "nb_veh_ok",
          "value": 368156
         },
         {
          "type": "nb_vl_ok",
          "value": 307449
         },
         {
          "type": "nb_pl_ok",
          "value": 60707
         }
        ]
       },
       "encoding": {
        "color": {
         "field": "type",
         "type": "nominal"
        },
        "x": {
         "field": "type",
         "sort": {
          "field": "value",
          "op": "mean"
         },
         "type": "nominal"
        },
        "y": {
         "field": "value",
         "type": "quantitative"
        }
       },
       "mark": "bar",
       "width": 100
      },
      "image/png": "[encoded data removed]",
      "text/plain": [
       "<VegaLite 2 object>\n",
       "\n",
       "If you see this message, it means the renderer has not been properly enabled\n",
       "for the frontend that you are using. For more information, see\n",
       "https://altair-viz.github.io/user_guide/troubleshooting.html\n"
      ]
     },
     "execution_count": 9,
     "metadata": {},
     "output_type": "execute_result"
    }
   ],
   "source": [
    "#graphes\n",
    "graph_stat, graph_fiab=info_df_journee.plot_graphs()\n",
    "#stats sur la journée\n",
    "graph_stat"
   ]
  },
  {
   "cell_type": "code",
   "execution_count": 10,
   "metadata": {},
   "outputs": [
    {
     "data": {
      "application/vnd.vegalite.v2+json": {
       "$schema": "https://vega.github.io/schema/vega-lite/v2.6.0.json",
       "config": {
        "view": {
         "height": 300,
         "width": 400
        }
       },
       "data": {
        "name": "data-b0ffb136aa642d02ebe32f4760d2d0f7"
       },
       "datasets": {
        "data-b0ffb136aa642d02ebe32f4760d2d0f7": [
         {
          "created": "2019-01-29T00:00:00",
          "fiability": 83.85950413223141
         },
         {
          "created": "2019-01-29T00:05:00",
          "fiability": 81.97435897435898
         },
         {
          "created": "2019-01-29T00:10:00",
          "fiability": 79.38053097345133
         },
         {
          "created": "2019-01-29T00:15:00",
          "fiability": 82.1140350877193
         },
         {
          "created": "2019-01-29T00:20:00",
          "fiability": 84.22413793103448
         },
         {
          "created": "2019-01-29T00:25:00",
          "fiability": 80.00787401574803
         },
         {
          "created": "2019-01-29T00:30:00",
          "fiability": 81.05263157894737
         },
         {
          "created": "2019-01-29T00:35:00",
          "fiability": 78.79470198675497
         },
         {
          "created": "2019-01-29T00:40:00",
          "fiability": 76.33333333333333
         },
         {
          "created": "2019-01-29T00:45:00",
          "fiability": 81.8695652173913
         },
         {
          "created": "2019-01-29T00:50:00",
          "fiability": 80.24120603015075
         },
         {
          "created": "2019-01-29T00:55:00",
          "fiability": 83.00571428571429
         },
         {
          "created": "2019-01-29T01:00:00",
          "fiability": 80.57142857142857
         },
         {
          "created": "2019-01-29T01:05:00",
          "fiability": 80.69060773480663
         },
         {
          "created": "2019-01-29T01:10:00",
          "fiability": 81.04430379746836
         },
         {
          "created": "2019-01-29T01:15:00",
          "fiability": 77.93333333333334
         },
         {
          "created": "2019-01-29T01:20:00",
          "fiability": 77.84328358208955
         },
         {
          "created": "2019-01-29T01:25:00",
          "fiability": 77.23577235772358
         },
         {
          "created": "2019-01-29T01:30:00",
          "fiability": 81.60975609756098
         },
         {
          "created": "2019-01-29T01:35:00",
          "fiability": 82.04395604395604
         },
         {
          "created": "2019-01-29T01:40:00",
          "fiability": 81.7816091954023
         },
         {
          "created": "2019-01-29T01:45:00",
          "fiability": 82.84444444444445
         },
         {
          "created": "2019-01-29T01:50:00",
          "fiability": 83.23157894736842
         },
         {
          "created": "2019-01-29T01:55:00",
          "fiability": 79.82352941176471
         },
         {
          "created": "2019-01-29T02:00:00",
          "fiability": 84.76086956521739
         },
         {
          "created": "2019-01-29T02:05:00",
          "fiability": 80.82474226804123
         },
         {
          "created": "2019-01-29T02:10:00",
          "fiability": 79.29473684210527
         },
         {
          "created": "2019-01-29T02:15:00",
          "fiability": 82.80373831775701
         },
         {
          "created": "2019-01-29T02:20:00",
          "fiability": 83.81739130434782
         },
         {
          "created": "2019-01-29T02:25:00",
          "fiability": 81.8
         },
         {
          "created": "2019-01-29T02:30:00",
          "fiability": 82.75213675213675
         },
         {
          "created": "2019-01-29T02:35:00",
          "fiability": 83.23333333333333
         },
         {
          "created": "2019-01-29T02:40:00",
          "fiability": 82.41935483870968
         },
         {
          "created": "2019-01-29T02:45:00",
          "fiability": 79.0327868852459
         },
         {
          "created": "2019-01-29T02:50:00",
          "fiability": 77.92561983471074
         },
         {
          "created": "2019-01-29T02:55:00",
          "fiability": 82.58407079646018
         },
         {
          "created": "2019-01-29T03:00:00",
          "fiability": 82.58947368421053
         },
         {
          "created": "2019-01-29T03:05:00",
          "fiability": 83.82014388489209
         },
         {
          "created": "2019-01-29T03:10:00",
          "fiability": 83.69767441860465
         },
         {
          "created": "2019-01-29T03:15:00",
          "fiability": 80.81967213114754
         },
         {
          "created": "2019-01-29T03:20:00",
          "fiability": 84.38
         },
         {
          "created": "2019-01-29T03:25:00",
          "fiability": 80.76162790697674
         },
         {
          "created": "2019-01-29T03:30:00",
          "fiability": 80.5
         },
         {
          "created": "2019-01-29T03:35:00",
          "fiability": 80.46625766871166
         },
         {
          "created": "2019-01-29T03:40:00",
          "fiability": 77.38265306122449
         },
         {
          "created": "2019-01-29T03:45:00",
          "fiability": 78.97969543147208
         },
         {
          "created": "2019-01-29T03:50:00",
          "fiability": 79.23936170212765
         },
         {
          "created": "2019-01-29T03:55:00",
          "fiability": 80.80838323353294
         },
         {
          "created": "2019-01-29T04:00:00",
          "fiability": 80.42723004694835
         },
         {
          "created": "2019-01-29T04:05:00",
          "fiability": 80.11650485436893
         },
         {
          "created": "2019-01-29T04:10:00",
          "fiability": 76.76548672566372
         },
         {
          "created": "2019-01-29T04:15:00",
          "fiability": 77.71900826446281
         },
         {
          "created": "2019-01-29T04:20:00",
          "fiability": 78.3489932885906
         },
         {
          "created": "2019-01-29T04:25:00",
          "fiability": 80.37931034482759
         },
         {
          "created": "2019-01-29T04:30:00",
          "fiability": 79.7063953488372
         },
         {
          "created": "2019-01-29T04:35:00",
          "fiability": 78.84550561797752
         },
         {
          "created": "2019-01-29T04:40:00",
          "fiability": 80.65988372093024
         },
         {
          "created": "2019-01-29T04:45:00",
          "fiability": 80.08635097493037
         },
         {
          "created": "2019-01-29T04:50:00",
          "fiability": 79.59217877094972
         },
         {
          "created": "2019-01-29T04:55:00",
          "fiability": 76.50623441396509
         },
         {
          "created": "2019-01-29T05:00:00",
          "fiability": 79.60922330097087
         },
         {
          "created": "2019-01-29T05:05:00",
          "fiability": 79.0857740585774
         },
         {
          "created": "2019-01-29T05:10:00",
          "fiability": 77.20449897750511
         },
         {
          "created": "2019-01-29T05:15:00",
          "fiability": 78.14383561643835
         },
         {
          "created": "2019-01-29T05:20:00",
          "fiability": 79.46951219512195
         },
         {
          "created": "2019-01-29T05:25:00",
          "fiability": 79.5
         },
         {
          "created": "2019-01-29T05:30:00",
          "fiability": 78.03924221921515
         },
         {
          "created": "2019-01-29T05:35:00",
          "fiability": 78.97651421508034
         },
         {
          "created": "2019-01-29T05:40:00",
          "fiability": 77.17142857142858
         },
         {
          "created": "2019-01-29T05:45:00",
          "fiability": 76.54074074074074
         },
         {
          "created": "2019-01-29T05:50:00",
          "fiability": 77.17545638945234
         },
         {
          "created": "2019-01-29T05:55:00",
          "fiability": 77.53627760252365
         },
         {
          "created": "2019-01-29T06:00:00",
          "fiability": 76.4236559139785
         },
         {
          "created": "2019-01-29T06:05:00",
          "fiability": 76.63600395647873
         },
         {
          "created": "2019-01-29T06:10:00",
          "fiability": 75.37715930902111
         },
         {
          "created": "2019-01-29T06:15:00",
          "fiability": 77.28754940711462
         },
         {
          "created": "2019-01-29T06:20:00",
          "fiability": 74.13127001067235
         },
         {
          "created": "2019-01-29T06:25:00",
          "fiability": 74.97260273972603
         },
         {
          "created": "2019-01-29T06:30:00",
          "fiability": 75.18873517786561
         },
         {
          "created": "2019-01-29T06:35:00",
          "fiability": 75.31769305962854
         },
         {
          "created": "2019-01-29T06:40:00",
          "fiability": 73.73206751054852
         },
         {
          "created": "2019-01-29T06:45:00",
          "fiability": 74.55642023346303
         },
         {
          "created": "2019-01-29T06:50:00",
          "fiability": 75.31633714880333
         },
         {
          "created": "2019-01-29T06:55:00",
          "fiability": 76.62589194699287
         },
         {
          "created": "2019-01-29T07:00:00",
          "fiability": 74.46511627906976
         },
         {
          "created": "2019-01-29T07:05:00",
          "fiability": 75.04975609756097
         },
         {
          "created": "2019-01-29T07:10:00",
          "fiability": 75.98916256157635
         },
         {
          "created": "2019-01-29T07:15:00",
          "fiability": 72.99804305283757
         },
         {
          "created": "2019-01-29T07:20:00",
          "fiability": 73.98094282848545
         },
         {
          "created": "2019-01-29T07:25:00",
          "fiability": 76.6014558689718
         },
         {
          "created": "2019-01-29T07:30:00",
          "fiability": 75.62040816326531
         },
         {
          "created": "2019-01-29T07:35:00",
          "fiability": 76.49528005034612
         },
         {
          "created": "2019-01-29T07:40:00",
          "fiability": 79.14485729671513
         },
         {
          "created": "2019-01-29T07:45:00",
          "fiability": 79.3495
         },
         {
          "created": "2019-01-29T07:50:00",
          "fiability": 79.63946587537092
         },
         {
          "created": "2019-01-29T07:55:00",
          "fiability": 80.0771878072763
         },
         {
          "created": "2019-01-29T08:00:00",
          "fiability": 79.78680452978828
         },
         {
          "created": "2019-01-29T08:05:00",
          "fiability": 80.07007575757575
         },
         {
          "created": "2019-01-29T08:10:00",
          "fiability": 79.97506112469438
         },
         {
          "created": "2019-01-29T08:15:00",
          "fiability": 79.86245353159852
         },
         {
          "created": "2019-01-29T08:20:00",
          "fiability": 81.8364462392731
         },
         {
          "created": "2019-01-29T08:25:00",
          "fiability": 81.2882096069869
         },
         {
          "created": "2019-01-29T08:30:00",
          "fiability": 81.68029556650247
         },
         {
          "created": "2019-01-29T08:35:00",
          "fiability": 81.27835562159486
         },
         {
          "created": "2019-01-29T08:40:00",
          "fiability": 80.99434229137199
         },
         {
          "created": "2019-01-29T08:45:00",
          "fiability": 81.07898320472084
         },
         {
          "created": "2019-01-29T08:50:00",
          "fiability": 81.87757973733584
         },
         {
          "created": "2019-01-29T08:55:00",
          "fiability": 82.40428571428572
         },
         {
          "created": "2019-01-29T09:00:00",
          "fiability": 82.69659595461273
         },
         {
          "created": "2019-01-29T09:05:00",
          "fiability": 82.33366336633664
         },
         {
          "created": "2019-01-29T09:10:00",
          "fiability": 83.18592233009709
         },
         {
          "created": "2019-01-29T09:15:00",
          "fiability": 82.35193564605329
         },
         {
          "created": "2019-01-29T09:20:00",
          "fiability": 81.28747433264887
         },
         {
          "created": "2019-01-29T09:25:00",
          "fiability": 82.3850630455868
         },
         {
          "created": "2019-01-29T09:30:00",
          "fiability": 81.46458642892522
         },
         {
          "created": "2019-01-29T09:35:00",
          "fiability": 83.51206030150753
         },
         {
          "created": "2019-01-29T09:40:00",
          "fiability": 82.42337536372455
         },
         {
          "created": "2019-01-29T09:45:00",
          "fiability": 81.99308641975308
         },
         {
          "created": "2019-01-29T09:50:00",
          "fiability": 81.60634605850272
         },
         {
          "created": "2019-01-29T09:55:00",
          "fiability": 81.94071762870514
         },
         {
          "created": "2019-01-29T10:00:00",
          "fiability": 83.07684478371502
         },
         {
          "created": "2019-01-29T10:05:00",
          "fiability": 81.98319755600815
         },
         {
          "created": "2019-01-29T10:10:00",
          "fiability": 81.77230769230769
         },
         {
          "created": "2019-01-29T10:15:00",
          "fiability": 81.98317664522514
         },
         {
          "created": "2019-01-29T10:20:00",
          "fiability": 81.85505787619527
         },
         {
          "created": "2019-01-29T10:25:00",
          "fiability": 81.0985
         },
         {
          "created": "2019-01-29T10:30:00",
          "fiability": 81.08109477952357
         },
         {
          "created": "2019-01-29T10:35:00",
          "fiability": 82.25
         },
         {
          "created": "2019-01-29T10:40:00",
          "fiability": 81.72647058823529
         },
         {
          "created": "2019-01-29T10:45:00",
          "fiability": 81.84631043256998
         },
         {
          "created": "2019-01-29T10:50:00",
          "fiability": 81.28222109016811
         },
         {
          "created": "2019-01-29T10:55:00",
          "fiability": 81.15423901940756
         },
         {
          "created": "2019-01-29T11:00:00",
          "fiability": 79.82292787944026
         },
         {
          "created": "2019-01-29T11:05:00",
          "fiability": 80.82178217821782
         },
         {
          "created": "2019-01-29T11:10:00",
          "fiability": 80.59729448491154
         },
         {
          "created": "2019-01-29T11:15:00",
          "fiability": 80.5796645702306
         },
         {
          "created": "2019-01-29T11:20:00",
          "fiability": 80.58288770053476
         },
         {
          "created": "2019-01-29T11:25:00",
          "fiability": 80.11611876988336
         },
         {
          "created": "2019-01-29T11:30:00",
          "fiability": 81.54530386740332
         },
         {
          "created": "2019-01-29T11:35:00",
          "fiability": 81.371581769437
         },
         {
          "created": "2019-01-29T11:40:00",
          "fiability": 80.99301450832886
         },
         {
          "created": "2019-01-29T11:45:00",
          "fiability": 81.15459989112684
         },
         {
          "created": "2019-01-29T11:50:00",
          "fiability": 82.25185972369819
         },
         {
          "created": "2019-01-29T11:55:00",
          "fiability": 80.83901621017328
         },
         {
          "created": "2019-01-29T12:00:00",
          "fiability": 82.54097421203439
         },
         {
          "created": "2019-01-29T12:05:00",
          "fiability": 83.20786846741045
         },
         {
          "created": "2019-01-29T12:10:00",
          "fiability": 81.32588235294118
         },
         {
          "created": "2019-01-29T12:15:00",
          "fiability": 83.27235050325636
         },
         {
          "created": "2019-01-29T12:20:00",
          "fiability": 84.18006644518272
         },
         {
          "created": "2019-01-29T12:25:00",
          "fiability": 84.54920634920634
         },
         {
          "created": "2019-01-29T12:30:00",
          "fiability": 83.7514600908501
         },
         {
          "created": "2019-01-29T12:35:00",
          "fiability": 82.98972188633616
         },
         {
          "created": "2019-01-29T12:40:00",
          "fiability": 84.25014961101137
         },
         {
          "created": "2019-01-29T12:45:00",
          "fiability": 84.409726443769
         },
         {
          "created": "2019-01-29T12:50:00",
          "fiability": 84.84303797468354
         },
         {
          "created": "2019-01-29T12:55:00",
          "fiability": 85.70214236351072
         },
         {
          "created": "2019-01-29T13:00:00",
          "fiability": 83.94701086956522
         },
         {
          "created": "2019-01-29T13:05:00",
          "fiability": 83.53985742060921
         },
         {
          "created": "2019-01-29T13:10:00",
          "fiability": 83.61695347355003
         },
         {
          "created": "2019-01-29T13:15:00",
          "fiability": 84.14585987261147
         },
         {
          "created": "2019-01-29T13:20:00",
          "fiability": 83.67525125628141
         },
         {
          "created": "2019-01-29T13:25:00",
          "fiability": 84.61413383364602
         },
         {
          "created": "2019-01-29T13:30:00",
          "fiability": 84.31105710814094
         },
         {
          "created": "2019-01-29T13:35:00",
          "fiability": 83.35509456985967
         },
         {
          "created": "2019-01-29T13:40:00",
          "fiability": 83.74247080516288
         },
         {
          "created": "2019-01-29T13:45:00",
          "fiability": 84.43320363164722
         },
         {
          "created": "2019-01-29T13:50:00",
          "fiability": 82.93966059082338
         },
         {
          "created": "2019-01-29T13:55:00",
          "fiability": 83.57549504950495
         },
         {
          "created": "2019-01-29T14:00:00",
          "fiability": 84.6543438077634
         },
         {
          "created": "2019-01-29T14:05:00",
          "fiability": 83.93949970913322
         },
         {
          "created": "2019-01-29T14:10:00",
          "fiability": 82.65530948324816
         },
         {
          "created": "2019-01-29T14:15:00",
          "fiability": 83.71302298173246
         },
         {
          "created": "2019-01-29T14:20:00",
          "fiability": 83.02781065088757
         },
         {
          "created": "2019-01-29T14:25:00",
          "fiability": 82.66529653552554
         },
         {
          "created": "2019-01-29T14:30:00",
          "fiability": 81.8041055718475
         },
         {
          "created": "2019-01-29T14:35:00",
          "fiability": 80.62821888412017
         },
         {
          "created": "2019-01-29T14:40:00",
          "fiability": 80.46115537848605
         },
         {
          "created": "2019-01-29T14:45:00",
          "fiability": 79.32738626226583
         },
         {
          "created": "2019-01-29T14:50:00",
          "fiability": 81.6917808219178
         },
         {
          "created": "2019-01-29T14:55:00",
          "fiability": 82.6727589208007
         },
         {
          "created": "2019-01-29T15:00:00",
          "fiability": 82.48710482529118
         },
         {
          "created": "2019-01-29T15:05:00",
          "fiability": 82.38271086865296
         },
         {
          "created": "2019-01-29T15:10:00",
          "fiability": 82.2072072072072
         },
         {
          "created": "2019-01-29T15:15:00",
          "fiability": 81.61606782398063
         },
         {
          "created": "2019-01-29T15:20:00",
          "fiability": 82.21753653444677
         },
         {
          "created": "2019-01-29T15:25:00",
          "fiability": 82.19649262654444
         },
         {
          "created": "2019-01-29T15:30:00",
          "fiability": 81.2000826787929
         },
         {
          "created": "2019-01-29T15:35:00",
          "fiability": 82.58760683760684
         },
         {
          "created": "2019-01-29T15:40:00",
          "fiability": 81.66693548387097
         },
         {
          "created": "2019-01-29T15:45:00",
          "fiability": 80.72301854974705
         },
         {
          "created": "2019-01-29T15:50:00",
          "fiability": 81.96417197452229
         },
         {
          "created": "2019-01-29T15:55:00",
          "fiability": 81.36605229318474
         },
         {
          "created": "2019-01-29T16:00:00",
          "fiability": 82.9607201309329
         },
         {
          "created": "2019-01-29T16:05:00",
          "fiability": 81.12594358363131
         },
         {
          "created": "2019-01-29T16:10:00",
          "fiability": 80.71434707903781
         },
         {
          "created": "2019-01-29T16:15:00",
          "fiability": 81.60324054840049
         },
         {
          "created": "2019-01-29T16:20:00",
          "fiability": 83.71277573529412
         },
         {
          "created": "2019-01-29T16:25:00",
          "fiability": 81.57894736842105
         },
         {
          "created": "2019-01-29T16:30:00",
          "fiability": 79.91437728937728
         },
         {
          "created": "2019-01-29T16:35:00",
          "fiability": 80.47169811320755
         },
         {
          "created": "2019-01-29T16:40:00",
          "fiability": 78.02553191489362
         },
         {
          "created": "2019-01-29T16:45:00",
          "fiability": 77.56608741442865
         },
         {
          "created": "2019-01-29T16:50:00",
          "fiability": 78.61177028951116
         },
         {
          "created": "2019-01-29T16:55:00",
          "fiability": 77.85775656324583
         },
         {
          "created": "2019-01-29T17:00:00",
          "fiability": 77.2741585233442
         },
         {
          "created": "2019-01-29T17:05:00",
          "fiability": 76.54913294797687
         },
         {
          "created": "2019-01-29T17:10:00",
          "fiability": 76.5897597977244
         },
         {
          "created": "2019-01-29T17:15:00",
          "fiability": 76.93001261034048
         },
         {
          "created": "2019-01-29T17:20:00",
          "fiability": 78.6842105263158
         },
         {
          "created": "2019-01-29T17:25:00",
          "fiability": 78.7156862745098
         },
         {
          "created": "2019-01-29T17:30:00",
          "fiability": 79.27152831652444
         },
         {
          "created": "2019-01-29T17:35:00",
          "fiability": 78.5739736638265
         },
         {
          "created": "2019-01-29T17:40:00",
          "fiability": 79.86463223787167
         },
         {
          "created": "2019-01-29T17:45:00",
          "fiability": 78.07226107226107
         },
         {
          "created": "2019-01-29T17:50:00",
          "fiability": 79.35594573024741
         },
         {
          "created": "2019-01-29T17:55:00",
          "fiability": 78.60726072607261
         },
         {
          "created": "2019-01-29T18:00:00",
          "fiability": 79.2931654676259
         },
         {
          "created": "2019-01-29T18:05:00",
          "fiability": 78.66198419666374
         },
         {
          "created": "2019-01-29T18:10:00",
          "fiability": 78.59641638225256
         },
         {
          "created": "2019-01-29T18:15:00",
          "fiability": 78.0605504587156
         },
         {
          "created": "2019-01-29T18:20:00",
          "fiability": 79.57052441229656
         },
         {
          "created": "2019-01-29T18:25:00",
          "fiability": 80.40155945419103
         },
         {
          "created": "2019-01-29T18:30:00",
          "fiability": 79.30723488602577
         },
         {
          "created": "2019-01-29T18:35:00",
          "fiability": 77.43003064351379
         },
         {
          "created": "2019-01-29T18:40:00",
          "fiability": 80.33566433566433
         },
         {
          "created": "2019-01-29T18:45:00",
          "fiability": 80.80194805194805
         },
         {
          "created": "2019-01-29T18:50:00",
          "fiability": 79.70270270270271
         },
         {
          "created": "2019-01-29T18:55:00",
          "fiability": 80.83353293413174
         },
         {
          "created": "2019-01-29T19:00:00",
          "fiability": 80.43055555555556
         },
         {
          "created": "2019-01-29T19:05:00",
          "fiability": 78.24076433121019
         },
         {
          "created": "2019-01-29T19:10:00",
          "fiability": 80.38744884038199
         },
         {
          "created": "2019-01-29T19:15:00",
          "fiability": 80.13962765957447
         },
         {
          "created": "2019-01-29T19:20:00",
          "fiability": 79.12907608695652
         },
         {
          "created": "2019-01-29T19:25:00",
          "fiability": 82.19492868462757
         },
         {
          "created": "2019-01-29T19:30:00",
          "fiability": 81.88701517706576
         },
         {
          "created": "2019-01-29T19:35:00",
          "fiability": 79.8713550600343
         },
         {
          "created": "2019-01-29T19:40:00",
          "fiability": 82.340830449827
         },
         {
          "created": "2019-01-29T19:45:00",
          "fiability": 80.44741873804972
         },
         {
          "created": "2019-01-29T19:50:00",
          "fiability": 81.17590822179733
         },
         {
          "created": "2019-01-29T19:55:00",
          "fiability": 79.83333333333333
         },
         {
          "created": "2019-01-29T20:00:00",
          "fiability": 78.43913043478261
         },
         {
          "created": "2019-01-29T20:05:00",
          "fiability": 80.71488469601677
         },
         {
          "created": "2019-01-29T20:10:00",
          "fiability": 79.04444444444445
         },
         {
          "created": "2019-01-29T20:15:00",
          "fiability": 81.27645788336933
         },
         {
          "created": "2019-01-29T20:20:00",
          "fiability": 80.71929824561404
         },
         {
          "created": "2019-01-29T20:25:00",
          "fiability": 80.5580808080808
         },
         {
          "created": "2019-01-29T20:30:00",
          "fiability": 79.94722955145119
         },
         {
          "created": "2019-01-29T20:35:00",
          "fiability": 81.37956204379562
         },
         {
          "created": "2019-01-29T20:40:00",
          "fiability": 80.66969696969697
         },
         {
          "created": "2019-01-29T20:45:00",
          "fiability": 81.98382749326146
         },
         {
          "created": "2019-01-29T20:50:00",
          "fiability": 80.95336787564767
         },
         {
          "created": "2019-01-29T20:55:00",
          "fiability": 81.85340314136126
         },
         {
          "created": "2019-01-29T21:00:00",
          "fiability": 80.7784090909091
         },
         {
          "created": "2019-01-29T21:05:00",
          "fiability": 79.0650406504065
         },
         {
          "created": "2019-01-29T21:10:00",
          "fiability": 76.76964769647697
         },
         {
          "created": "2019-01-29T21:15:00",
          "fiability": 80.88328912466844
         },
         {
          "created": "2019-01-29T21:20:00",
          "fiability": 80.40668523676881
         },
         {
          "created": "2019-01-29T21:25:00",
          "fiability": 80.31952662721893
         },
         {
          "created": "2019-01-29T21:30:00",
          "fiability": 78.50809061488673
         },
         {
          "created": "2019-01-29T21:35:00",
          "fiability": 81.73252279635258
         },
         {
          "created": "2019-01-29T21:40:00",
          "fiability": 81.23489932885906
         },
         {
          "created": "2019-01-29T21:45:00",
          "fiability": 80.57394366197182
         },
         {
          "created": "2019-01-29T21:50:00",
          "fiability": 79.11842105263158
         },
         {
          "created": "2019-01-29T21:55:00",
          "fiability": 78.9467680608365
         },
         {
          "created": "2019-01-29T22:00:00",
          "fiability": 82.40344827586208
         },
         {
          "created": "2019-01-29T22:05:00",
          "fiability": 79.71375464684014
         },
         {
          "created": "2019-01-29T22:10:00",
          "fiability": 78.13924050632912
         },
         {
          "created": "2019-01-29T22:15:00",
          "fiability": 79.89830508474576
         },
         {
          "created": "2019-01-29T22:20:00",
          "fiability": 81.75954198473282
         },
         {
          "created": "2019-01-29T22:25:00",
          "fiability": 80.55319148936171
         },
         {
          "created": "2019-01-29T22:30:00",
          "fiability": 81.56275303643724
         },
         {
          "created": "2019-01-29T22:35:00",
          "fiability": 80.87179487179488
         },
         {
          "created": "2019-01-29T22:40:00",
          "fiability": 81.85344827586206
         },
         {
          "created": "2019-01-29T22:45:00",
          "fiability": 83.50251256281408
         },
         {
          "created": "2019-01-29T22:50:00",
          "fiability": 79.22485207100591
         },
         {
          "created": "2019-01-29T22:55:00",
          "fiability": 81.39673913043478
         },
         {
          "created": "2019-01-29T23:00:00",
          "fiability": 81.93181818181819
         },
         {
          "created": "2019-01-29T23:05:00",
          "fiability": 80.27272727272727
         },
         {
          "created": "2019-01-29T23:10:00",
          "fiability": 81.44375
         },
         {
          "created": "2019-01-29T23:15:00",
          "fiability": 81.38271604938272
         },
         {
          "created": "2019-01-29T23:20:00",
          "fiability": 82.7516339869281
         },
         {
          "created": "2019-01-29T23:25:00",
          "fiability": 83.23489932885906
         },
         {
          "created": "2019-01-29T23:30:00",
          "fiability": 84.57792207792208
         },
         {
          "created": "2019-01-29T23:35:00",
          "fiability": 83.31297709923665
         },
         {
          "created": "2019-01-29T23:40:00",
          "fiability": 86.3391304347826
         },
         {
          "created": "2019-01-29T23:45:00",
          "fiability": 81.5187969924812
         },
         {
          "created": "2019-01-29T23:50:00",
          "fiability": 82.56115107913669
         },
         {
          "created": "2019-01-29T23:55:00",
          "fiability": 86.36029411764706
         },
         {
          "created": "2019-01-30T00:00:00",
          "fiability": 85.5
         },
         {
          "created": "2019-01-30T00:05:00",
          "fiability": 85.23387096774194
         },
         {
          "created": "2019-01-30T00:10:00",
          "fiability": 85.03174603174604
         },
         {
          "created": "2019-01-30T00:15:00",
          "fiability": 85.61481481481482
         },
         {
          "created": "2019-01-30T00:20:00",
          "fiability": 87.06896551724138
         },
         {
          "created": "2019-01-30T00:25:00",
          "fiability": 83.4186046511628
         },
         {
          "created": "2019-01-30T00:30:00",
          "fiability": 84.65765765765765
         },
         {
          "created": "2019-01-30T00:35:00",
          "fiability": 81.71681415929204
         },
         {
          "created": "2019-01-30T00:40:00",
          "fiability": 86.59130434782608
         },
         {
          "created": "2019-01-30T00:45:00",
          "fiability": 84.70769230769231
         },
         {
          "created": "2019-01-30T00:50:00",
          "fiability": 89.26126126126127
         },
         {
          "created": "2019-01-30T00:55:00",
          "fiability": 84.08411214953271
         },
         {
          "created": "2019-01-30T01:00:00",
          "fiability": 81.14
         },
         {
          "created": "2019-01-30T01:05:00",
          "fiability": 83.73983739837398
         },
         {
          "created": "2019-01-30T01:10:00",
          "fiability": 87.77586206896552
         },
         {
          "created": "2019-01-30T01:15:00",
          "fiability": 85.06122448979592
         },
         {
          "created": "2019-01-30T01:20:00",
          "fiability": 87.01754385964912
         },
         {
          "created": "2019-01-30T01:25:00",
          "fiability": 84.27
         },
         {
          "created": "2019-01-30T01:30:00",
          "fiability": 84.45283018867924
         },
         {
          "created": "2019-01-30T01:35:00",
          "fiability": 84.64347826086957
         },
         {
          "created": "2019-01-30T01:40:00",
          "fiability": 80.29126213592232
         },
         {
          "created": "2019-01-30T01:45:00",
          "fiability": 83
         },
         {
          "created": "2019-01-30T01:50:00",
          "fiability": 86.47540983606558
         },
         {
          "created": "2019-01-30T01:55:00",
          "fiability": 85.54545454545455
         },
         {
          "created": "2019-01-30T02:00:00",
          "fiability": 84.91666666666667
         },
         {
          "created": "2019-01-30T02:05:00",
          "fiability": 85.11111111111111
         },
         {
          "created": "2019-01-30T02:10:00",
          "fiability": 85.40579710144928
         },
         {
          "created": "2019-01-30T02:15:00",
          "fiability": 84.54330708661418
         },
         {
          "created": "2019-01-30T02:20:00",
          "fiability": 85.6830985915493
         },
         {
          "created": "2019-01-30T02:25:00",
          "fiability": 85.68148148148148
         },
         {
          "created": "2019-01-30T02:30:00",
          "fiability": 87.39097744360902
         },
         {
          "created": "2019-01-30T02:35:00",
          "fiability": 85.14864864864865
         },
         {
          "created": "2019-01-30T02:40:00",
          "fiability": 81.84848484848484
         },
         {
          "created": "2019-01-30T02:45:00",
          "fiability": 81.9037037037037
         },
         {
          "created": "2019-01-30T02:50:00",
          "fiability": 84.3082191780822
         },
         {
          "created": "2019-01-30T02:55:00",
          "fiability": 83.76978417266187
         },
         {
          "created": "2019-01-30T03:00:00",
          "fiability": 82.95744680851064
         },
         {
          "created": "2019-01-30T03:05:00",
          "fiability": 84.61073825503355
         },
         {
          "created": "2019-01-30T03:10:00",
          "fiability": 84.52592592592593
         },
         {
          "created": "2019-01-30T03:15:00",
          "fiability": 81.70860927152317
         },
         {
          "created": "2019-01-30T03:20:00",
          "fiability": 81.71090047393365
         },
         {
          "created": "2019-01-30T03:25:00",
          "fiability": 83.57865168539325
         },
         {
          "created": "2019-01-30T03:30:00",
          "fiability": 82.11822660098522
         },
         {
          "created": "2019-01-30T03:35:00",
          "fiability": 83.27309236947791
         },
         {
          "created": "2019-01-30T03:40:00",
          "fiability": 78.00892857142857
         },
         {
          "created": "2019-01-30T03:45:00",
          "fiability": 78.2843137254902
         },
         {
          "created": "2019-01-30T03:50:00",
          "fiability": 79.38039215686274
         },
         {
          "created": "2019-01-30T03:55:00",
          "fiability": 81.76086956521739
         },
         {
          "created": "2019-01-30T04:00:00",
          "fiability": 83.05527638190955
         },
         {
          "created": "2019-01-30T04:05:00",
          "fiability": 80.775
         },
         {
          "created": "2019-01-30T04:10:00",
          "fiability": 81.80632411067194
         },
         {
          "created": "2019-01-30T04:15:00",
          "fiability": 80.86029411764706
         },
         {
          "created": "2019-01-30T04:20:00",
          "fiability": 82.15217391304348
         },
         {
          "created": "2019-01-30T04:25:00",
          "fiability": 81.2135922330097
         },
         {
          "created": "2019-01-30T04:30:00",
          "fiability": 80.61213720316623
         },
         {
          "created": "2019-01-30T04:35:00",
          "fiability": 79.35612535612536
         },
         {
          "created": "2019-01-30T04:40:00",
          "fiability": 80.17942583732058
         },
         {
          "created": "2019-01-30T04:45:00",
          "fiability": 81.11397849462365
         },
         {
          "created": "2019-01-30T04:50:00",
          "fiability": 79.90801886792453
         },
         {
          "created": "2019-01-30T04:55:00",
          "fiability": 81.07317073170732
         },
         {
          "created": "2019-01-30T05:00:00",
          "fiability": 82.1270207852194
         },
         {
          "created": "2019-01-30T05:05:00",
          "fiability": 81.84067085953879
         },
         {
          "created": "2019-01-30T05:10:00",
          "fiability": 79.86467486818981
         },
         {
          "created": "2019-01-30T05:15:00",
          "fiability": 80.55919003115265
         },
         {
          "created": "2019-01-30T05:20:00",
          "fiability": 81.47707736389685
         },
         {
          "created": "2019-01-30T05:25:00",
          "fiability": 80.39322916666667
         },
         {
          "created": "2019-01-30T05:30:00",
          "fiability": 80.52
         },
         {
          "created": "2019-01-30T05:35:00",
          "fiability": 79.36813186813187
         },
         {
          "created": "2019-01-30T05:40:00",
          "fiability": 81.20541082164328
         },
         {
          "created": "2019-01-30T05:45:00",
          "fiability": 79.35858101629914
         },
         {
          "created": "2019-01-30T05:50:00",
          "fiability": 79.08518518518518
         },
         {
          "created": "2019-01-30T05:55:00",
          "fiability": 78.71468662301216
         },
         {
          "created": "2019-01-30T06:00:00",
          "fiability": 77.23012160898035
         },
         {
          "created": "2019-01-30T06:05:00",
          "fiability": 77.4629963898917
         },
         {
          "created": "2019-01-30T06:10:00",
          "fiability": 76.58928571428571
         },
         {
          "created": "2019-01-30T06:15:00",
          "fiability": 76.72627737226277
         },
         {
          "created": "2019-01-30T06:20:00",
          "fiability": 77.50933333333333
         },
         {
          "created": "2019-01-30T06:25:00",
          "fiability": 76.70818181818181
         },
         {
          "created": "2019-01-30T06:30:00",
          "fiability": 76.23695198329854
         },
         {
          "created": "2019-01-30T06:35:00",
          "fiability": 76.80909901873328
         },
         {
          "created": "2019-01-30T06:40:00",
          "fiability": 75.71628371628371
         },
         {
          "created": "2019-01-30T06:45:00",
          "fiability": 75.67822736030828
         },
         {
          "created": "2019-01-30T06:50:00",
          "fiability": 76.28236493374108
         },
         {
          "created": "2019-01-30T06:55:00",
          "fiability": 76.33263816475495
         },
         {
          "created": "2019-01-30T07:00:00",
          "fiability": 74.02467917077986
         },
         {
          "created": "2019-01-30T07:05:00",
          "fiability": 75.58414872798434
         },
         {
          "created": "2019-01-30T07:10:00",
          "fiability": 75.5438282647585
         },
         {
          "created": "2019-01-30T07:15:00",
          "fiability": 77.28524319868096
         },
         {
          "created": "2019-01-30T07:20:00",
          "fiability": 79.46078431372548
         },
         {
          "created": "2019-01-30T07:25:00",
          "fiability": 79.57069076823757
         },
         {
          "created": "2019-01-30T07:30:00",
          "fiability": 78.0200458190149
         },
         {
          "created": "2019-01-30T07:35:00",
          "fiability": 78.23732357553581
         },
         {
          "created": "2019-01-30T07:40:00",
          "fiability": 80.01681127982647
         },
         {
          "created": "2019-01-30T07:45:00",
          "fiability": 80.25984654731458
         },
         {
          "created": "2019-01-30T07:50:00",
          "fiability": 79.83563918096293
         },
         {
          "created": "2019-01-30T07:55:00",
          "fiability": 81.47038527889592
         },
         {
          "created": "2019-01-30T08:00:00",
          "fiability": 80.5970515970516
         },
         {
          "created": "2019-01-30T08:05:00",
          "fiability": 82.59597806215722
         },
         {
          "created": "2019-01-30T08:10:00",
          "fiability": 81.39176470588235
         },
         {
          "created": "2019-01-30T08:15:00",
          "fiability": 79.13848920863309
         },
         {
          "created": "2019-01-30T08:20:00",
          "fiability": 80.19328703703704
         },
         {
          "created": "2019-01-30T08:25:00",
          "fiability": 80.3713009491904
         },
         {
          "created": "2019-01-30T08:30:00",
          "fiability": 79.99428897772701
         },
         {
          "created": "2019-01-30T08:35:00",
          "fiability": 79.77291543465405
         },
         {
          "created": "2019-01-30T08:40:00",
          "fiability": 80.57925072046109
         },
         {
          "created": "2019-01-30T08:45:00",
          "fiability": 79.52267932489451
         },
         {
          "created": "2019-01-30T08:50:00",
          "fiability": 80.58203799654576
         },
         {
          "created": "2019-01-30T08:55:00",
          "fiability": 80.16846284741918
         },
         {
          "created": "2019-01-30T09:00:00",
          "fiability": 81.32857142857142
         },
         {
          "created": "2019-01-30T09:05:00",
          "fiability": 81.23774954627949
         },
         {
          "created": "2019-01-30T09:10:00",
          "fiability": 81.53367579908675
         },
         {
          "created": "2019-01-30T09:15:00",
          "fiability": 80.52184320766008
         },
         {
          "created": "2019-01-30T09:20:00",
          "fiability": 80.3331415420023
         },
         {
          "created": "2019-01-30T09:25:00",
          "fiability": 81.35339233038349
         },
         {
          "created": "2019-01-30T09:30:00",
          "fiability": 80.50221975582686
         },
         {
          "created": "2019-01-30T09:35:00",
          "fiability": 80.43693421846712
         },
         {
          "created": "2019-01-30T09:40:00",
          "fiability": 81.26027397260275
         },
         {
          "created": "2019-01-30T09:45:00",
          "fiability": 80.02956521739131
         },
         {
          "created": "2019-01-30T09:50:00",
          "fiability": 79.9144013880856
         },
         {
          "created": "2019-01-30T09:55:00",
          "fiability": 81.83995327102804
         },
         {
          "created": "2019-01-30T10:00:00",
          "fiability": 82.97073440088349
         },
         {
          "created": "2019-01-30T10:05:00",
          "fiability": 80.95504322766571
         },
         {
          "created": "2019-01-30T10:10:00",
          "fiability": 80.31775180856984
         },
         {
          "created": "2019-01-30T10:15:00",
          "fiability": 82.97482837528604
         },
         {
          "created": "2019-01-30T10:20:00",
          "fiability": 84.4750608272506
         },
         {
          "created": "2019-01-30T10:25:00",
          "fiability": 83.76980661260137
         },
         {
          "created": "2019-01-30T10:30:00",
          "fiability": 82.58168147641832
         },
         {
          "created": "2019-01-30T10:35:00",
          "fiability": 84.46531413612566
         },
         {
          "created": "2019-01-30T10:40:00",
          "fiability": 83.20292747837658
         },
         {
          "created": "2019-01-30T10:45:00",
          "fiability": 81.89583333333333
         },
         {
          "created": "2019-01-30T10:50:00",
          "fiability": 80.95069953364424
         },
         {
          "created": "2019-01-30T10:55:00",
          "fiability": 80.91546649968691
         },
         {
          "created": "2019-01-30T11:00:00",
          "fiability": 82.88275862068966
         },
         {
          "created": "2019-01-30T11:05:00",
          "fiability": 80.28554360812426
         },
         {
          "created": "2019-01-30T11:10:00",
          "fiability": 79.71800679501699
         },
         {
          "created": "2019-01-30T11:15:00",
          "fiability": 79.26015367727771
         },
         {
          "created": "2019-01-30T11:20:00",
          "fiability": 80.13412017167381
         },
         {
          "created": "2019-01-30T11:25:00",
          "fiability": 80.22523519645821
         },
         {
          "created": "2019-01-30T11:30:00",
          "fiability": 79.17976843388178
         },
         {
          "created": "2019-01-30T11:35:00",
          "fiability": 82.70166073546856
         },
         {
          "created": "2019-01-30T11:40:00",
          "fiability": 82.40443896424168
         },
         {
          "created": "2019-01-30T11:45:00",
          "fiability": 82.55
         },
         {
          "created": "2019-01-30T11:50:00",
          "fiability": 81.6599713055954
         },
         {
          "created": "2019-01-30T11:55:00",
          "fiability": 81.39837398373983
         },
         {
          "created": "2019-01-30T12:00:00",
          "fiability": 79.8477508650519
         },
         {
          "created": "2019-01-30T12:05:00",
          "fiability": 81.2486388384755
         },
         {
          "created": "2019-01-30T12:10:00",
          "fiability": 79.71545667447307
         },
         {
          "created": "2019-01-30T12:15:00",
          "fiability": 79.6768038163387
         },
         {
          "created": "2019-01-30T12:20:00",
          "fiability": 79.45017793594306
         },
         {
          "created": "2019-01-30T12:25:00",
          "fiability": 79.16052183777651
         },
         {
          "created": "2019-01-30T12:30:00",
          "fiability": 80.43008225616921
         },
         {
          "created": "2019-01-30T12:35:00",
          "fiability": 80.50136686714052
         },
         {
          "created": "2019-01-30T12:40:00",
          "fiability": 80.84415584415585
         },
         {
          "created": "2019-01-30T12:45:00",
          "fiability": 81.97667638483965
         },
         {
          "created": "2019-01-30T12:50:00",
          "fiability": 83.67810880829016
         },
         {
          "created": "2019-01-30T12:55:00",
          "fiability": 80.56642335766423
         },
         {
          "created": "2019-01-30T13:00:00",
          "fiability": 80.79147640791476
         },
         {
          "created": "2019-01-30T13:05:00",
          "fiability": 79.1343949044586
         },
         {
          "created": "2019-01-30T13:10:00",
          "fiability": 82.0723951285521
         },
         {
          "created": "2019-01-30T13:15:00",
          "fiability": 83.07546048722519
         },
         {
          "created": "2019-01-30T13:20:00",
          "fiability": 81.1891891891892
         },
         {
          "created": "2019-01-30T13:25:00",
          "fiability": 81.05508233957978
         },
         {
          "created": "2019-01-30T13:30:00",
          "fiability": 81.6094972067039
         },
         {
          "created": "2019-01-30T13:35:00",
          "fiability": 80.74553828439839
         },
         {
          "created": "2019-01-30T13:40:00",
          "fiability": 80.33257918552036
         },
         {
          "created": "2019-01-30T13:45:00",
          "fiability": 78.79953243717125
         },
         {
          "created": "2019-01-30T13:50:00",
          "fiability": 80.01780745687256
         },
         {
          "created": "2019-01-30T13:55:00",
          "fiability": 78.9051094890511
         },
         {
          "created": "2019-01-30T14:00:00",
          "fiability": 78.86433013001695
         },
         {
          "created": "2019-01-30T14:05:00",
          "fiability": 80.73172072567344
         },
         {
          "created": "2019-01-30T14:10:00",
          "fiability": 80.8205546492659
         },
         {
          "created": "2019-01-30T14:15:00",
          "fiability": 80.28806366047745
         },
         {
          "created": "2019-01-30T14:20:00",
          "fiability": 80.27642679900744
         },
         {
          "created": "2019-01-30T14:25:00",
          "fiability": 80.2019758507135
         },
         {
          "created": "2019-01-30T14:30:00",
          "fiability": 80.71604938271605
         },
         {
          "created": "2019-01-30T14:35:00",
          "fiability": 81.5120822622108
         },
         {
          "created": "2019-01-30T14:40:00",
          "fiability": 81.13079729025534
         },
         {
          "created": "2019-01-30T14:45:00",
          "fiability": 81.25827455236028
         },
         {
          "created": "2019-01-30T14:50:00",
          "fiability": 81.28881469115191
         },
         {
          "created": "2019-01-30T14:55:00",
          "fiability": 82.57674943566592
         },
         {
          "created": "2019-01-30T15:00:00",
          "fiability": 82.26070038910505
         },
         {
          "created": "2019-01-30T15:05:00",
          "fiability": 81.204653622422
         },
         {
          "created": "2019-01-30T15:10:00",
          "fiability": 80.40873786407766
         },
         {
          "created": "2019-01-30T15:15:00",
          "fiability": 80.36022514071294
         },
         {
          "created": "2019-01-30T15:20:00",
          "fiability": 81.06708975521306
         },
         {
          "created": "2019-01-30T15:25:00",
          "fiability": 80.9410199556541
         },
         {
          "created": "2019-01-30T15:30:00",
          "fiability": 80.72226962457339
         },
         {
          "created": "2019-01-30T15:35:00",
          "fiability": 79.93333333333334
         },
         {
          "created": "2019-01-30T15:40:00",
          "fiability": 80.00782214903252
         },
         {
          "created": "2019-01-30T15:45:00",
          "fiability": 81.30562659846548
         },
         {
          "created": "2019-01-30T15:50:00",
          "fiability": 82.03157457415871
         },
         {
          "created": "2019-01-30T15:55:00",
          "fiability": 80.05844675740593
         },
         {
          "created": "2019-01-30T16:00:00",
          "fiability": 78.83168724279835
         },
         {
          "created": "2019-01-30T16:05:00",
          "fiability": 78.8552477565353
         },
         {
          "created": "2019-01-30T16:10:00",
          "fiability": 80.34214680347277
         },
         {
          "created": "2019-01-30T16:15:00",
          "fiability": 80.43057722308892
         },
         {
          "created": "2019-01-30T16:20:00",
          "fiability": 82.27697701597195
         },
         {
          "created": "2019-01-30T16:25:00",
          "fiability": 82.75885668276973
         },
         {
          "created": "2019-01-30T16:30:00",
          "fiability": 82.55137540453075
         },
         {
          "created": "2019-01-30T16:35:00",
          "fiability": 82.61954261954261
         },
         {
          "created": "2019-01-30T16:40:00",
          "fiability": 79.01315789473684
         },
         {
          "created": "2019-01-30T16:45:00",
          "fiability": 77.59122502172025
         },
         {
          "created": "2019-01-30T16:50:00",
          "fiability": 79.61851851851851
         },
         {
          "created": "2019-01-30T16:55:00",
          "fiability": 77.95420560747664
         },
         {
          "created": "2019-01-30T17:00:00",
          "fiability": 79.18195488721804
         },
         {
          "created": "2019-01-30T17:05:00",
          "fiability": 79.52204408817636
         },
         {
          "created": "2019-01-30T17:10:00",
          "fiability": 79.58468899521532
         },
         {
          "created": "2019-01-30T17:15:00",
          "fiability": 81.42673267326732
         },
         {
          "created": "2019-01-30T17:20:00",
          "fiability": 80.91474328780028
         },
         {
          "created": "2019-01-30T17:25:00",
          "fiability": 81.2896725440806
         },
         {
          "created": "2019-01-30T17:30:00",
          "fiability": 81.31607765057242
         },
         {
          "created": "2019-01-30T17:35:00",
          "fiability": 80.92860811504879
         },
         {
          "created": "2019-01-30T17:40:00",
          "fiability": 80.16098584163608
         },
         {
          "created": "2019-01-30T17:45:00",
          "fiability": 80.77367841409692
         },
         {
          "created": "2019-01-30T17:50:00",
          "fiability": 81.44516129032257
         },
         {
          "created": "2019-01-30T17:55:00",
          "fiability": 81.58465608465609
         },
         {
          "created": "2019-01-30T18:00:00",
          "fiability": 82.11655405405405
         },
         {
          "created": "2019-01-30T18:05:00",
          "fiability": 80.67894413750767
         },
         {
          "created": "2019-01-30T18:10:00",
          "fiability": 80.79178551055334
         },
         {
          "created": "2019-01-30T18:15:00",
          "fiability": 81.13895631067962
         },
         {
          "created": "2019-01-30T18:20:00",
          "fiability": 81.68464730290457
         },
         {
          "created": "2019-01-30T18:25:00",
          "fiability": 81.09836065573771
         },
         {
          "created": "2019-01-30T18:30:00",
          "fiability": 82.07650643195667
         },
         {
          "created": "2019-01-30T18:35:00",
          "fiability": 81.62934631432545
         },
         {
          "created": "2019-01-30T18:40:00",
          "fiability": 81.37215713301171
         },
         {
          "created": "2019-01-30T18:45:00",
          "fiability": 82.57081850533808
         },
         {
          "created": "2019-01-30T18:50:00",
          "fiability": 82.55069124423963
         },
         {
          "created": "2019-01-30T18:55:00",
          "fiability": 81.80376766091052
         },
         {
          "created": "2019-01-30T19:00:00",
          "fiability": 82.03201347935973
         },
         {
          "created": "2019-01-30T19:05:00",
          "fiability": 82.75680131904369
         },
         {
          "created": "2019-01-30T19:10:00",
          "fiability": 80.96368243243244
         },
         {
          "created": "2019-01-30T19:15:00",
          "fiability": 82.12520193861066
         },
         {
          "created": "2019-01-30T19:20:00",
          "fiability": 81.69411764705882
         },
         {
          "created": "2019-01-30T19:25:00",
          "fiability": 82.36193029490616
         },
         {
          "created": "2019-01-30T19:30:00",
          "fiability": 80.73399014778325
         },
         {
          "created": "2019-01-30T19:35:00",
          "fiability": 81.37687366167023
         },
         {
          "created": "2019-01-30T19:40:00",
          "fiability": 81.49737118822293
         },
         {
          "created": "2019-01-30T19:45:00",
          "fiability": 81.95356371490281
         },
         {
          "created": "2019-01-30T19:50:00",
          "fiability": 82.36878612716762
         },
         {
          "created": "2019-01-30T19:55:00",
          "fiability": 81.6631989596879
         },
         {
          "created": "2019-01-30T20:00:00",
          "fiability": 81.20618556701031
         },
         {
          "created": "2019-01-30T20:05:00",
          "fiability": 81.6978021978022
         },
         {
          "created": "2019-01-30T20:10:00",
          "fiability": 80.8363136176066
         },
         {
          "created": "2019-01-30T20:15:00",
          "fiability": 81.08666666666667
         },
         {
          "created": "2019-01-30T20:20:00",
          "fiability": 82.34871099050204
         },
         {
          "created": "2019-01-30T20:25:00",
          "fiability": 81.9164265129683
         },
         {
          "created": "2019-01-30T20:30:00",
          "fiability": 82.64181286549707
         },
         {
          "created": "2019-01-30T20:35:00",
          "fiability": 83.22222222222223
         },
         {
          "created": "2019-01-30T20:40:00",
          "fiability": 81.72231404958677
         },
         {
          "created": "2019-01-30T20:45:00",
          "fiability": 82.02715654952077
         },
         {
          "created": "2019-01-30T20:50:00",
          "fiability": 82.03114754098361
         },
         {
          "created": "2019-01-30T20:55:00",
          "fiability": 81.88888888888889
         },
         {
          "created": "2019-01-30T21:00:00",
          "fiability": 81.58
         },
         {
          "created": "2019-01-30T21:05:00",
          "fiability": 81.44259259259259
         },
         {
          "created": "2019-01-30T21:10:00",
          "fiability": 81.61090909090909
         },
         {
          "created": "2019-01-30T21:15:00",
          "fiability": 81.28007518796993
         },
         {
          "created": "2019-01-30T21:20:00",
          "fiability": 81.86111111111111
         },
         {
          "created": "2019-01-30T21:25:00",
          "fiability": 80.88846880907373
         },
         {
          "created": "2019-01-30T21:30:00",
          "fiability": 81.14876033057851
         },
         {
          "created": "2019-01-30T21:35:00",
          "fiability": 82.14601769911505
         },
         {
          "created": "2019-01-30T21:40:00",
          "fiability": 81.48115299334812
         },
         {
          "created": "2019-01-30T21:45:00",
          "fiability": 82.03378378378379
         },
         {
          "created": "2019-01-30T21:50:00",
          "fiability": 82.5311778290993
         },
         {
          "created": "2019-01-30T21:55:00",
          "fiability": 80.97674418604652
         },
         {
          "created": "2019-01-30T22:00:00",
          "fiability": 80.27777777777777
         },
         {
          "created": "2019-01-30T22:05:00",
          "fiability": 81.89775561097257
         },
         {
          "created": "2019-01-30T22:10:00",
          "fiability": 81.69565217391305
         },
         {
          "created": "2019-01-30T22:15:00",
          "fiability": 80.95108695652173
         },
         {
          "created": "2019-01-30T22:20:00",
          "fiability": 82.79310344827586
         },
         {
          "created": "2019-01-30T22:25:00",
          "fiability": 83.75142857142858
         },
         {
          "created": "2019-01-30T22:30:00",
          "fiability": 82.52112676056338
         },
         {
          "created": "2019-01-30T22:35:00",
          "fiability": 85.36615384615385
         },
         {
          "created": "2019-01-30T22:40:00",
          "fiability": 82.72638436482085
         },
         {
          "created": "2019-01-30T22:45:00",
          "fiability": 84.78827361563518
         },
         {
          "created": "2019-01-30T22:50:00",
          "fiability": 86.99322033898305
         },
         {
          "created": "2019-01-30T22:55:00",
          "fiability": 82.78965517241379
         },
         {
          "created": "2019-01-30T23:00:00",
          "fiability": 83.93675889328063
         },
         {
          "created": "2019-01-30T23:05:00",
          "fiability": 82.5204081632653
         },
         {
          "created": "2019-01-30T23:10:00",
          "fiability": 85.1822033898305
         },
         {
          "created": "2019-01-30T23:15:00",
          "fiability": 83.83895131086142
         },
         {
          "created": "2019-01-30T23:20:00",
          "fiability": 83.06167400881057
         },
         {
          "created": "2019-01-30T23:25:00",
          "fiability": 83.58371040723982
         },
         {
          "created": "2019-01-30T23:30:00",
          "fiability": 85.63849765258216
         },
         {
          "created": "2019-01-30T23:35:00",
          "fiability": 86.68281938325991
         },
         {
          "created": "2019-01-30T23:40:00",
          "fiability": 83.34183673469387
         },
         {
          "created": "2019-01-30T23:45:00",
          "fiability": 84.26262626262626
         },
         {
          "created": "2019-01-30T23:50:00",
          "fiability": 86.27777777777777
         },
         {
          "created": "2019-01-30T23:55:00",
          "fiability": 84.58119658119658
         }
        ]
       },
       "encoding": {
        "x": {
         "field": "created",
         "type": "temporal"
        },
        "y": {
         "field": "fiability",
         "scale": {
          "zero": false
         },
         "type": "quantitative"
        }
       },
       "mark": "line",
       "selection": {
        "selector001": {
         "bind": "scales",
         "encodings": [
          "x",
          "y"
         ],
         "mark": {
          "fill": "#333",
          "fillOpacity": 0.125,
          "stroke": "white"
         },
         "on": "[mousedown, window:mouseup] > window:mousemove!",
         "resolve": "global",
         "translate": "[mousedown, window:mouseup] > window:mousemove!",
         "type": "interval",
         "zoom": "wheel!"
        }
       }
      },
      "image/png": "[encoded data removed]",
      "text/plain": [
       "<VegaLite 2 object>\n",
       "\n",
       "If you see this message, it means the renderer has not been properly enabled\n",
       "for the frontend that you are using. For more information, see\n",
       "https://altair-viz.github.io/user_guide/troubleshooting.html\n"
      ]
     },
     "execution_count": 10,
     "metadata": {},
     "output_type": "execute_result"
    }
   ],
   "source": [
    "#fiabilité moyenne par tranche de 5 min (graph interactif)\n",
    "graph_fiab"
   ]
  },
  {
   "cell_type": "markdown",
   "metadata": {},
   "source": [
    "Chap 2. Trouver les échanges directs et indirects entre 2 caméras pour une tranche horaire de départ données"
   ]
  },
  {
   "cell_type": "markdown",
   "metadata": {},
   "source": [
    "    Chap 2.1. Trouver les échanges indirects (par une camera intermediaire)"
   ]
  },
  {
   "cell_type": "markdown",
   "metadata": {},
   "source": [
    "        Chap 2.1.1. Trouver les échanges entre les deux premieres cameras"
   ]
  },
  {
   "cell_type": "code",
   "execution_count": 11,
   "metadata": {},
   "outputs": [],
   "source": [
    "#exempel sur le trajet A63 Cestas -> Rocade Est -> A10 DIRA"
   ]
  },
  {
   "cell_type": "code",
   "execution_count": 9,
   "metadata": {},
   "outputs": [],
   "source": [
    "indirect_cam_19_4_5_19_4=t.df_tps_parcours(df_journee,'2019-01-29 10:00:00', 60, 16, 19,4) #création de l'instance entre les cameras 19 et 4"
   ]
  },
  {
   "cell_type": "code",
   "execution_count": 10,
   "metadata": {},
   "outputs": [
    {
     "data": {
      "text/html": [
       "<div>\n",
       "<style scoped>\n",
       "    .dataframe tbody tr th:only-of-type {\n",
       "        vertical-align: middle;\n",
       "    }\n",
       "\n",
       "    .dataframe tbody tr th {\n",
       "        vertical-align: top;\n",
       "    }\n",
       "\n",
       "    .dataframe thead th {\n",
       "        text-align: right;\n",
       "    }\n",
       "</style>\n",
       "<table border=\"1\" class=\"dataframe\">\n",
       "  <thead>\n",
       "    <tr style=\"text-align: right;\">\n",
       "      <th></th>\n",
       "      <th>immat</th>\n",
       "      <th>date_cam_1</th>\n",
       "      <th>cam_1</th>\n",
       "      <th>date_cam_2</th>\n",
       "      <th>cam_2</th>\n",
       "      <th>tps_parcours</th>\n",
       "    </tr>\n",
       "  </thead>\n",
       "  <tbody>\n",
       "    <tr>\n",
       "      <th>5</th>\n",
       "      <td>0e76421a9f41b9bffd368a13f1082ebf780a20cb</td>\n",
       "      <td>2019-01-29 10:00:58</td>\n",
       "      <td>19</td>\n",
       "      <td>2019-01-29 10:20:25</td>\n",
       "      <td>4</td>\n",
       "      <td>00:19:27</td>\n",
       "    </tr>\n",
       "    <tr>\n",
       "      <th>12</th>\n",
       "      <td>f57a2b0818a69bf52f5e4a5e195fff4cb898982e</td>\n",
       "      <td>2019-01-29 10:00:13</td>\n",
       "      <td>19</td>\n",
       "      <td>2019-01-29 10:21:42</td>\n",
       "      <td>4</td>\n",
       "      <td>00:21:29</td>\n",
       "    </tr>\n",
       "    <tr>\n",
       "      <th>15</th>\n",
       "      <td>185ec68f604a05988b65c02b12bc459c4f0de265</td>\n",
       "      <td>2019-01-29 10:00:06</td>\n",
       "      <td>19</td>\n",
       "      <td>2019-01-29 10:21:58</td>\n",
       "      <td>4</td>\n",
       "      <td>00:21:52</td>\n",
       "    </tr>\n",
       "    <tr>\n",
       "      <th>20</th>\n",
       "      <td>f54f7182ffe0181124ad853314e5c259818a1bb0</td>\n",
       "      <td>2019-01-29 10:02:06</td>\n",
       "      <td>19</td>\n",
       "      <td>2019-01-29 10:22:58</td>\n",
       "      <td>4</td>\n",
       "      <td>00:20:52</td>\n",
       "    </tr>\n",
       "    <tr>\n",
       "      <th>24</th>\n",
       "      <td>5785798ab3e1cf3bcc847aad97b4417005a7ab2f</td>\n",
       "      <td>2019-01-29 10:01:45</td>\n",
       "      <td>19</td>\n",
       "      <td>2019-01-29 10:23:14</td>\n",
       "      <td>4</td>\n",
       "      <td>00:21:29</td>\n",
       "    </tr>\n",
       "    <tr>\n",
       "      <th>25</th>\n",
       "      <td>c9d34e8987a4aa93831f8983462f12c5807d6616</td>\n",
       "      <td>2019-01-29 10:01:06</td>\n",
       "      <td>19</td>\n",
       "      <td>2019-01-29 10:23:25</td>\n",
       "      <td>4</td>\n",
       "      <td>00:22:19</td>\n",
       "    </tr>\n",
       "    <tr>\n",
       "      <th>26</th>\n",
       "      <td>5ea04990d008f89b5d0a2d60bf02b2a2caa30c64</td>\n",
       "      <td>2019-01-29 10:02:01</td>\n",
       "      <td>19</td>\n",
       "      <td>2019-01-29 10:23:39</td>\n",
       "      <td>4</td>\n",
       "      <td>00:21:38</td>\n",
       "    </tr>\n",
       "    <tr>\n",
       "      <th>37</th>\n",
       "      <td>ab8981c43b54b5451e26782eeadc6144030d7d73</td>\n",
       "      <td>2019-01-29 10:03:27</td>\n",
       "      <td>19</td>\n",
       "      <td>2019-01-29 10:24:57</td>\n",
       "      <td>4</td>\n",
       "      <td>00:21:30</td>\n",
       "    </tr>\n",
       "    <tr>\n",
       "      <th>49</th>\n",
       "      <td>8819188f3b0e6c23b7d4db4b0ac3d1265912d4bf</td>\n",
       "      <td>2019-01-29 10:04:29</td>\n",
       "      <td>19</td>\n",
       "      <td>2019-01-29 10:26:31</td>\n",
       "      <td>4</td>\n",
       "      <td>00:22:02</td>\n",
       "    </tr>\n",
       "    <tr>\n",
       "      <th>50</th>\n",
       "      <td>a21f024252fc1d2ce07cd6ddcbcc45220e1c1e6e</td>\n",
       "      <td>2019-01-29 10:05:47</td>\n",
       "      <td>19</td>\n",
       "      <td>2019-01-29 10:26:33</td>\n",
       "      <td>4</td>\n",
       "      <td>00:20:46</td>\n",
       "    </tr>\n",
       "    <tr>\n",
       "      <th>51</th>\n",
       "      <td>b9f76ff9fc82f3013c8ec9981411ccd2bb0e5072</td>\n",
       "      <td>2019-01-29 10:05:12</td>\n",
       "      <td>19</td>\n",
       "      <td>2019-01-29 10:26:37</td>\n",
       "      <td>4</td>\n",
       "      <td>00:21:25</td>\n",
       "    </tr>\n",
       "    <tr>\n",
       "      <th>56</th>\n",
       "      <td>14718db4e79496c5253d670022d2907ac3d1a8d1</td>\n",
       "      <td>2019-01-29 10:05:23</td>\n",
       "      <td>19</td>\n",
       "      <td>2019-01-29 10:27:06</td>\n",
       "      <td>4</td>\n",
       "      <td>00:21:43</td>\n",
       "    </tr>\n",
       "    <tr>\n",
       "      <th>57</th>\n",
       "      <td>c9f0804cd5d4e6af6fdc88e715a411fa624c0022</td>\n",
       "      <td>2019-01-29 10:06:51</td>\n",
       "      <td>19</td>\n",
       "      <td>2019-01-29 10:27:12</td>\n",
       "      <td>4</td>\n",
       "      <td>00:20:21</td>\n",
       "    </tr>\n",
       "    <tr>\n",
       "      <th>63</th>\n",
       "      <td>3ccb18b4e9a2517ff603aeaadb48c592d8cbcdaf</td>\n",
       "      <td>2019-01-29 10:06:52</td>\n",
       "      <td>19</td>\n",
       "      <td>2019-01-29 10:27:50</td>\n",
       "      <td>4</td>\n",
       "      <td>00:20:58</td>\n",
       "    </tr>\n",
       "    <tr>\n",
       "      <th>67</th>\n",
       "      <td>41aa8b184709048dafcf456f937d8b182d25602f</td>\n",
       "      <td>2019-01-29 10:08:17</td>\n",
       "      <td>19</td>\n",
       "      <td>2019-01-29 10:28:26</td>\n",
       "      <td>4</td>\n",
       "      <td>00:20:09</td>\n",
       "    </tr>\n",
       "    <tr>\n",
       "      <th>71</th>\n",
       "      <td>206bf7767c935d6298366fbff932513786db57e7</td>\n",
       "      <td>2019-01-29 10:08:09</td>\n",
       "      <td>19</td>\n",
       "      <td>2019-01-29 10:29:10</td>\n",
       "      <td>4</td>\n",
       "      <td>00:21:01</td>\n",
       "    </tr>\n",
       "    <tr>\n",
       "      <th>77</th>\n",
       "      <td>0ce0df250766df1d50a7a89853b7c0208e5cc533</td>\n",
       "      <td>2019-01-29 10:09:14</td>\n",
       "      <td>19</td>\n",
       "      <td>2019-01-29 10:30:01</td>\n",
       "      <td>4</td>\n",
       "      <td>00:20:47</td>\n",
       "    </tr>\n",
       "    <tr>\n",
       "      <th>78</th>\n",
       "      <td>b37d6f42c823706c88b89825e935a42d696c75c2</td>\n",
       "      <td>2019-01-29 10:07:58</td>\n",
       "      <td>19</td>\n",
       "      <td>2019-01-29 10:30:22</td>\n",
       "      <td>4</td>\n",
       "      <td>00:22:24</td>\n",
       "    </tr>\n",
       "    <tr>\n",
       "      <th>79</th>\n",
       "      <td>e02579709021c06d006137ebf59dbf0dc8ba8de5</td>\n",
       "      <td>2019-01-29 10:08:02</td>\n",
       "      <td>19</td>\n",
       "      <td>2019-01-29 10:30:27</td>\n",
       "      <td>4</td>\n",
       "      <td>00:22:25</td>\n",
       "    </tr>\n",
       "    <tr>\n",
       "      <th>81</th>\n",
       "      <td>a9449ff480368f083512cd8cfc938933a381d427</td>\n",
       "      <td>2019-01-29 10:09:55</td>\n",
       "      <td>19</td>\n",
       "      <td>2019-01-29 10:30:37</td>\n",
       "      <td>4</td>\n",
       "      <td>00:20:42</td>\n",
       "    </tr>\n",
       "    <tr>\n",
       "      <th>88</th>\n",
       "      <td>99870608c9bd7f1528b95a7a3bf13b531ac77a34</td>\n",
       "      <td>2019-01-29 10:09:48</td>\n",
       "      <td>19</td>\n",
       "      <td>2019-01-29 10:31:10</td>\n",
       "      <td>4</td>\n",
       "      <td>00:21:22</td>\n",
       "    </tr>\n",
       "    <tr>\n",
       "      <th>94</th>\n",
       "      <td>5125c2d3f434df5a272e562ec02c993f9865eda3</td>\n",
       "      <td>2019-01-29 10:08:24</td>\n",
       "      <td>19</td>\n",
       "      <td>2019-01-29 10:31:43</td>\n",
       "      <td>4</td>\n",
       "      <td>00:23:19</td>\n",
       "    </tr>\n",
       "    <tr>\n",
       "      <th>96</th>\n",
       "      <td>fa783e9061e7e80421e45c5f9bb63eb9b3669ee7</td>\n",
       "      <td>2019-01-29 10:11:11</td>\n",
       "      <td>19</td>\n",
       "      <td>2019-01-29 10:31:48</td>\n",
       "      <td>4</td>\n",
       "      <td>00:20:37</td>\n",
       "    </tr>\n",
       "    <tr>\n",
       "      <th>98</th>\n",
       "      <td>63f40bd4a60111782e624ef7e36a73c34569a793</td>\n",
       "      <td>2019-01-29 10:11:34</td>\n",
       "      <td>19</td>\n",
       "      <td>2019-01-29 10:32:09</td>\n",
       "      <td>4</td>\n",
       "      <td>00:20:35</td>\n",
       "    </tr>\n",
       "    <tr>\n",
       "      <th>112</th>\n",
       "      <td>6db53d461d10f4014b8cdf683553b6def71023d5</td>\n",
       "      <td>2019-01-29 10:13:20</td>\n",
       "      <td>19</td>\n",
       "      <td>2019-01-29 10:33:35</td>\n",
       "      <td>4</td>\n",
       "      <td>00:20:15</td>\n",
       "    </tr>\n",
       "    <tr>\n",
       "      <th>115</th>\n",
       "      <td>7166a147c5e5b27e889b211f6cd469e1a3c34e73</td>\n",
       "      <td>2019-01-29 10:17:26</td>\n",
       "      <td>19</td>\n",
       "      <td>2019-01-29 10:33:58</td>\n",
       "      <td>4</td>\n",
       "      <td>00:16:32</td>\n",
       "    </tr>\n",
       "    <tr>\n",
       "      <th>119</th>\n",
       "      <td>32c74c2fd247e3be307e912920f84e4517671cf5</td>\n",
       "      <td>2019-01-29 10:13:14</td>\n",
       "      <td>19</td>\n",
       "      <td>2019-01-29 10:34:24</td>\n",
       "      <td>4</td>\n",
       "      <td>00:21:10</td>\n",
       "    </tr>\n",
       "    <tr>\n",
       "      <th>122</th>\n",
       "      <td>f6af4eebd4c9a7a2989e816712fefcdef485c6f3</td>\n",
       "      <td>2019-01-29 10:12:44</td>\n",
       "      <td>19</td>\n",
       "      <td>2019-01-29 10:34:47</td>\n",
       "      <td>4</td>\n",
       "      <td>00:22:03</td>\n",
       "    </tr>\n",
       "    <tr>\n",
       "      <th>124</th>\n",
       "      <td>4e2bbd4d7da1d5999c39cfd216dd777b0c6b0a7a</td>\n",
       "      <td>2019-01-29 10:14:12</td>\n",
       "      <td>19</td>\n",
       "      <td>2019-01-29 10:35:01</td>\n",
       "      <td>4</td>\n",
       "      <td>00:20:49</td>\n",
       "    </tr>\n",
       "    <tr>\n",
       "      <th>131</th>\n",
       "      <td>3a28ba1c3611935343145be61182ce5e34582b02</td>\n",
       "      <td>2019-01-29 10:14:51</td>\n",
       "      <td>19</td>\n",
       "      <td>2019-01-29 10:35:45</td>\n",
       "      <td>4</td>\n",
       "      <td>00:20:54</td>\n",
       "    </tr>\n",
       "    <tr>\n",
       "      <th>...</th>\n",
       "      <td>...</td>\n",
       "      <td>...</td>\n",
       "      <td>...</td>\n",
       "      <td>...</td>\n",
       "      <td>...</td>\n",
       "      <td>...</td>\n",
       "    </tr>\n",
       "    <tr>\n",
       "      <th>317</th>\n",
       "      <td>8b46cf75e6215feccf537927f2aa509468a086ed</td>\n",
       "      <td>2019-01-29 10:43:19</td>\n",
       "      <td>19</td>\n",
       "      <td>2019-01-29 11:04:12</td>\n",
       "      <td>4</td>\n",
       "      <td>00:20:53</td>\n",
       "    </tr>\n",
       "    <tr>\n",
       "      <th>319</th>\n",
       "      <td>cd8d3eed730a412bda8b00dad0ae1d61dddd1e8e</td>\n",
       "      <td>2019-01-29 10:44:03</td>\n",
       "      <td>19</td>\n",
       "      <td>2019-01-29 11:04:19</td>\n",
       "      <td>4</td>\n",
       "      <td>00:20:16</td>\n",
       "    </tr>\n",
       "    <tr>\n",
       "      <th>320</th>\n",
       "      <td>354d091fa46fc1f9fe6486b4dd9c69b5e2038c23</td>\n",
       "      <td>2019-01-29 10:44:06</td>\n",
       "      <td>19</td>\n",
       "      <td>2019-01-29 11:04:27</td>\n",
       "      <td>4</td>\n",
       "      <td>00:20:21</td>\n",
       "    </tr>\n",
       "    <tr>\n",
       "      <th>323</th>\n",
       "      <td>1abbd6f2b50feae6413f3578f614ba775e4dc6ad</td>\n",
       "      <td>2019-01-29 10:44:27</td>\n",
       "      <td>19</td>\n",
       "      <td>2019-01-29 11:05:05</td>\n",
       "      <td>4</td>\n",
       "      <td>00:20:38</td>\n",
       "    </tr>\n",
       "    <tr>\n",
       "      <th>328</th>\n",
       "      <td>7a88ec7ee46258f78dfd23917d399ca6d8422f74</td>\n",
       "      <td>2019-01-29 10:45:20</td>\n",
       "      <td>19</td>\n",
       "      <td>2019-01-29 11:06:05</td>\n",
       "      <td>4</td>\n",
       "      <td>00:20:45</td>\n",
       "    </tr>\n",
       "    <tr>\n",
       "      <th>329</th>\n",
       "      <td>18f62ef00c24903a0bff50f34fb7cb42a77f9d46</td>\n",
       "      <td>2019-01-29 10:44:22</td>\n",
       "      <td>19</td>\n",
       "      <td>2019-01-29 11:06:18</td>\n",
       "      <td>4</td>\n",
       "      <td>00:21:56</td>\n",
       "    </tr>\n",
       "    <tr>\n",
       "      <th>345</th>\n",
       "      <td>7137fcea85027f26c04331880d2089d43ca4b54b</td>\n",
       "      <td>2019-01-29 10:47:17</td>\n",
       "      <td>19</td>\n",
       "      <td>2019-01-29 11:08:47</td>\n",
       "      <td>4</td>\n",
       "      <td>00:21:30</td>\n",
       "    </tr>\n",
       "    <tr>\n",
       "      <th>346</th>\n",
       "      <td>b7696ba712ea55cb71209b155c6372f313a3ffce</td>\n",
       "      <td>2019-01-29 10:48:44</td>\n",
       "      <td>19</td>\n",
       "      <td>2019-01-29 11:08:51</td>\n",
       "      <td>4</td>\n",
       "      <td>00:20:07</td>\n",
       "    </tr>\n",
       "    <tr>\n",
       "      <th>348</th>\n",
       "      <td>be81624acaae7a3020af0208addbfb2242a3fd4e</td>\n",
       "      <td>2019-01-29 10:48:06</td>\n",
       "      <td>19</td>\n",
       "      <td>2019-01-29 11:09:04</td>\n",
       "      <td>4</td>\n",
       "      <td>00:20:58</td>\n",
       "    </tr>\n",
       "    <tr>\n",
       "      <th>349</th>\n",
       "      <td>c7fe7ff4cbe295cd905b7069f5c29be20a35fe3b</td>\n",
       "      <td>2019-01-29 10:47:27</td>\n",
       "      <td>19</td>\n",
       "      <td>2019-01-29 11:09:12</td>\n",
       "      <td>4</td>\n",
       "      <td>00:21:45</td>\n",
       "    </tr>\n",
       "    <tr>\n",
       "      <th>351</th>\n",
       "      <td>d8e06be2b56fb55d488abcc83fa894c34305fbd3</td>\n",
       "      <td>2019-01-29 10:48:12</td>\n",
       "      <td>19</td>\n",
       "      <td>2019-01-29 11:09:23</td>\n",
       "      <td>4</td>\n",
       "      <td>00:21:11</td>\n",
       "    </tr>\n",
       "    <tr>\n",
       "      <th>354</th>\n",
       "      <td>962cb29646a2dd14dbc162c8797a16af2b737c81</td>\n",
       "      <td>2019-01-29 10:49:25</td>\n",
       "      <td>19</td>\n",
       "      <td>2019-01-29 11:09:54</td>\n",
       "      <td>4</td>\n",
       "      <td>00:20:29</td>\n",
       "    </tr>\n",
       "    <tr>\n",
       "      <th>364</th>\n",
       "      <td>c30e01adeee553cf10fa7084348f83879b674df7</td>\n",
       "      <td>2019-01-29 10:51:03</td>\n",
       "      <td>19</td>\n",
       "      <td>2019-01-29 11:11:49</td>\n",
       "      <td>4</td>\n",
       "      <td>00:20:46</td>\n",
       "    </tr>\n",
       "    <tr>\n",
       "      <th>366</th>\n",
       "      <td>46a40b95a0b167f92d4bc2829027b7ae64d40434</td>\n",
       "      <td>2019-01-29 10:51:01</td>\n",
       "      <td>19</td>\n",
       "      <td>2019-01-29 11:12:18</td>\n",
       "      <td>4</td>\n",
       "      <td>00:21:17</td>\n",
       "    </tr>\n",
       "    <tr>\n",
       "      <th>371</th>\n",
       "      <td>4075742da6c349164610b66736f05a471fbd4701</td>\n",
       "      <td>2019-01-29 10:52:56</td>\n",
       "      <td>19</td>\n",
       "      <td>2019-01-29 11:13:01</td>\n",
       "      <td>4</td>\n",
       "      <td>00:20:05</td>\n",
       "    </tr>\n",
       "    <tr>\n",
       "      <th>377</th>\n",
       "      <td>5205a776c50f7486728b41b4d1450636794ca5da</td>\n",
       "      <td>2019-01-29 10:52:23</td>\n",
       "      <td>19</td>\n",
       "      <td>2019-01-29 11:13:48</td>\n",
       "      <td>4</td>\n",
       "      <td>00:21:25</td>\n",
       "    </tr>\n",
       "    <tr>\n",
       "      <th>379</th>\n",
       "      <td>8917a32573c3f136507a4aa0aa7a64d9053b089a</td>\n",
       "      <td>2019-01-29 10:52:29</td>\n",
       "      <td>19</td>\n",
       "      <td>2019-01-29 11:14:11</td>\n",
       "      <td>4</td>\n",
       "      <td>00:21:42</td>\n",
       "    </tr>\n",
       "    <tr>\n",
       "      <th>386</th>\n",
       "      <td>c834dcb25d23206f86aa3b0974a79a8345a9e41d</td>\n",
       "      <td>2019-01-29 10:53:25</td>\n",
       "      <td>19</td>\n",
       "      <td>2019-01-29 11:14:49</td>\n",
       "      <td>4</td>\n",
       "      <td>00:21:24</td>\n",
       "    </tr>\n",
       "    <tr>\n",
       "      <th>388</th>\n",
       "      <td>5dcca5a50ce1f10da97b77b7e8504f48dc07e11f</td>\n",
       "      <td>2019-01-29 10:53:29</td>\n",
       "      <td>19</td>\n",
       "      <td>2019-01-29 11:15:17</td>\n",
       "      <td>4</td>\n",
       "      <td>00:21:48</td>\n",
       "    </tr>\n",
       "    <tr>\n",
       "      <th>391</th>\n",
       "      <td>f96336a6ffd61e2946d698cf00821b532e039222</td>\n",
       "      <td>2019-01-29 10:54:33</td>\n",
       "      <td>19</td>\n",
       "      <td>2019-01-29 11:15:57</td>\n",
       "      <td>4</td>\n",
       "      <td>00:21:24</td>\n",
       "    </tr>\n",
       "    <tr>\n",
       "      <th>392</th>\n",
       "      <td>0536552b554c43b2915666479c7eba50ab87aea2</td>\n",
       "      <td>2019-01-29 10:54:45</td>\n",
       "      <td>19</td>\n",
       "      <td>2019-01-29 11:16:13</td>\n",
       "      <td>4</td>\n",
       "      <td>00:21:28</td>\n",
       "    </tr>\n",
       "    <tr>\n",
       "      <th>396</th>\n",
       "      <td>9c9da42eddfaf051646fb55ece541ad1a70db17b</td>\n",
       "      <td>2019-01-29 10:56:42</td>\n",
       "      <td>19</td>\n",
       "      <td>2019-01-29 11:17:12</td>\n",
       "      <td>4</td>\n",
       "      <td>00:20:30</td>\n",
       "    </tr>\n",
       "    <tr>\n",
       "      <th>397</th>\n",
       "      <td>d9ed03d442c0e8a8ffaf7c8d75126de6c1084ec2</td>\n",
       "      <td>2019-01-29 10:56:47</td>\n",
       "      <td>19</td>\n",
       "      <td>2019-01-29 11:17:24</td>\n",
       "      <td>4</td>\n",
       "      <td>00:20:37</td>\n",
       "    </tr>\n",
       "    <tr>\n",
       "      <th>400</th>\n",
       "      <td>cf5f531119dfe3a988886690e3610364938d4c0c</td>\n",
       "      <td>2019-01-29 10:56:38</td>\n",
       "      <td>19</td>\n",
       "      <td>2019-01-29 11:18:06</td>\n",
       "      <td>4</td>\n",
       "      <td>00:21:28</td>\n",
       "    </tr>\n",
       "    <tr>\n",
       "      <th>401</th>\n",
       "      <td>78f58038a7963579ecae982f3bd74751430385a0</td>\n",
       "      <td>2019-01-29 10:57:08</td>\n",
       "      <td>19</td>\n",
       "      <td>2019-01-29 11:18:12</td>\n",
       "      <td>4</td>\n",
       "      <td>00:21:04</td>\n",
       "    </tr>\n",
       "    <tr>\n",
       "      <th>409</th>\n",
       "      <td>2031f7c118f3b4feec618cecc2acb795653248f9</td>\n",
       "      <td>2019-01-29 10:57:34</td>\n",
       "      <td>19</td>\n",
       "      <td>2019-01-29 11:19:06</td>\n",
       "      <td>4</td>\n",
       "      <td>00:21:32</td>\n",
       "    </tr>\n",
       "    <tr>\n",
       "      <th>410</th>\n",
       "      <td>c3be4e5c0e42bc107511aea2ed39362c9e30bba6</td>\n",
       "      <td>2019-01-29 10:57:25</td>\n",
       "      <td>19</td>\n",
       "      <td>2019-01-29 11:19:36</td>\n",
       "      <td>4</td>\n",
       "      <td>00:22:11</td>\n",
       "    </tr>\n",
       "    <tr>\n",
       "      <th>411</th>\n",
       "      <td>20b835ae7d525a19d3ef54bbf4eb2659f3cf14a4</td>\n",
       "      <td>2019-01-29 10:57:40</td>\n",
       "      <td>19</td>\n",
       "      <td>2019-01-29 11:19:39</td>\n",
       "      <td>4</td>\n",
       "      <td>00:21:59</td>\n",
       "    </tr>\n",
       "    <tr>\n",
       "      <th>414</th>\n",
       "      <td>3b0d6688fb4fd8b76a9f52f013536cb8a57fa53a</td>\n",
       "      <td>2019-01-29 10:58:58</td>\n",
       "      <td>19</td>\n",
       "      <td>2019-01-29 11:19:59</td>\n",
       "      <td>4</td>\n",
       "      <td>00:21:01</td>\n",
       "    </tr>\n",
       "    <tr>\n",
       "      <th>415</th>\n",
       "      <td>ba5b673e2167815904651a9bf5aec9c0018a868e</td>\n",
       "      <td>2019-01-29 10:59:28</td>\n",
       "      <td>19</td>\n",
       "      <td>2019-01-29 11:20:19</td>\n",
       "      <td>4</td>\n",
       "      <td>00:20:51</td>\n",
       "    </tr>\n",
       "  </tbody>\n",
       "</table>\n",
       "<p>95 rows × 6 columns</p>\n",
       "</div>"
      ],
      "text/plain": [
       "                                        immat          date_cam_1  cam_1  \\\n",
       "5    0e76421a9f41b9bffd368a13f1082ebf780a20cb 2019-01-29 10:00:58     19   \n",
       "12   f57a2b0818a69bf52f5e4a5e195fff4cb898982e 2019-01-29 10:00:13     19   \n",
       "15   185ec68f604a05988b65c02b12bc459c4f0de265 2019-01-29 10:00:06     19   \n",
       "20   f54f7182ffe0181124ad853314e5c259818a1bb0 2019-01-29 10:02:06     19   \n",
       "24   5785798ab3e1cf3bcc847aad97b4417005a7ab2f 2019-01-29 10:01:45     19   \n",
       "25   c9d34e8987a4aa93831f8983462f12c5807d6616 2019-01-29 10:01:06     19   \n",
       "26   5ea04990d008f89b5d0a2d60bf02b2a2caa30c64 2019-01-29 10:02:01     19   \n",
       "37   ab8981c43b54b5451e26782eeadc6144030d7d73 2019-01-29 10:03:27     19   \n",
       "49   8819188f3b0e6c23b7d4db4b0ac3d1265912d4bf 2019-01-29 10:04:29     19   \n",
       "50   a21f024252fc1d2ce07cd6ddcbcc45220e1c1e6e 2019-01-29 10:05:47     19   \n",
       "51   b9f76ff9fc82f3013c8ec9981411ccd2bb0e5072 2019-01-29 10:05:12     19   \n",
       "56   14718db4e79496c5253d670022d2907ac3d1a8d1 2019-01-29 10:05:23     19   \n",
       "57   c9f0804cd5d4e6af6fdc88e715a411fa624c0022 2019-01-29 10:06:51     19   \n",
       "63   3ccb18b4e9a2517ff603aeaadb48c592d8cbcdaf 2019-01-29 10:06:52     19   \n",
       "67   41aa8b184709048dafcf456f937d8b182d25602f 2019-01-29 10:08:17     19   \n",
       "71   206bf7767c935d6298366fbff932513786db57e7 2019-01-29 10:08:09     19   \n",
       "77   0ce0df250766df1d50a7a89853b7c0208e5cc533 2019-01-29 10:09:14     19   \n",
       "78   b37d6f42c823706c88b89825e935a42d696c75c2 2019-01-29 10:07:58     19   \n",
       "79   e02579709021c06d006137ebf59dbf0dc8ba8de5 2019-01-29 10:08:02     19   \n",
       "81   a9449ff480368f083512cd8cfc938933a381d427 2019-01-29 10:09:55     19   \n",
       "88   99870608c9bd7f1528b95a7a3bf13b531ac77a34 2019-01-29 10:09:48     19   \n",
       "94   5125c2d3f434df5a272e562ec02c993f9865eda3 2019-01-29 10:08:24     19   \n",
       "96   fa783e9061e7e80421e45c5f9bb63eb9b3669ee7 2019-01-29 10:11:11     19   \n",
       "98   63f40bd4a60111782e624ef7e36a73c34569a793 2019-01-29 10:11:34     19   \n",
       "112  6db53d461d10f4014b8cdf683553b6def71023d5 2019-01-29 10:13:20     19   \n",
       "115  7166a147c5e5b27e889b211f6cd469e1a3c34e73 2019-01-29 10:17:26     19   \n",
       "119  32c74c2fd247e3be307e912920f84e4517671cf5 2019-01-29 10:13:14     19   \n",
       "122  f6af4eebd4c9a7a2989e816712fefcdef485c6f3 2019-01-29 10:12:44     19   \n",
       "124  4e2bbd4d7da1d5999c39cfd216dd777b0c6b0a7a 2019-01-29 10:14:12     19   \n",
       "131  3a28ba1c3611935343145be61182ce5e34582b02 2019-01-29 10:14:51     19   \n",
       "..                                        ...                 ...    ...   \n",
       "317  8b46cf75e6215feccf537927f2aa509468a086ed 2019-01-29 10:43:19     19   \n",
       "319  cd8d3eed730a412bda8b00dad0ae1d61dddd1e8e 2019-01-29 10:44:03     19   \n",
       "320  354d091fa46fc1f9fe6486b4dd9c69b5e2038c23 2019-01-29 10:44:06     19   \n",
       "323  1abbd6f2b50feae6413f3578f614ba775e4dc6ad 2019-01-29 10:44:27     19   \n",
       "328  7a88ec7ee46258f78dfd23917d399ca6d8422f74 2019-01-29 10:45:20     19   \n",
       "329  18f62ef00c24903a0bff50f34fb7cb42a77f9d46 2019-01-29 10:44:22     19   \n",
       "345  7137fcea85027f26c04331880d2089d43ca4b54b 2019-01-29 10:47:17     19   \n",
       "346  b7696ba712ea55cb71209b155c6372f313a3ffce 2019-01-29 10:48:44     19   \n",
       "348  be81624acaae7a3020af0208addbfb2242a3fd4e 2019-01-29 10:48:06     19   \n",
       "349  c7fe7ff4cbe295cd905b7069f5c29be20a35fe3b 2019-01-29 10:47:27     19   \n",
       "351  d8e06be2b56fb55d488abcc83fa894c34305fbd3 2019-01-29 10:48:12     19   \n",
       "354  962cb29646a2dd14dbc162c8797a16af2b737c81 2019-01-29 10:49:25     19   \n",
       "364  c30e01adeee553cf10fa7084348f83879b674df7 2019-01-29 10:51:03     19   \n",
       "366  46a40b95a0b167f92d4bc2829027b7ae64d40434 2019-01-29 10:51:01     19   \n",
       "371  4075742da6c349164610b66736f05a471fbd4701 2019-01-29 10:52:56     19   \n",
       "377  5205a776c50f7486728b41b4d1450636794ca5da 2019-01-29 10:52:23     19   \n",
       "379  8917a32573c3f136507a4aa0aa7a64d9053b089a 2019-01-29 10:52:29     19   \n",
       "386  c834dcb25d23206f86aa3b0974a79a8345a9e41d 2019-01-29 10:53:25     19   \n",
       "388  5dcca5a50ce1f10da97b77b7e8504f48dc07e11f 2019-01-29 10:53:29     19   \n",
       "391  f96336a6ffd61e2946d698cf00821b532e039222 2019-01-29 10:54:33     19   \n",
       "392  0536552b554c43b2915666479c7eba50ab87aea2 2019-01-29 10:54:45     19   \n",
       "396  9c9da42eddfaf051646fb55ece541ad1a70db17b 2019-01-29 10:56:42     19   \n",
       "397  d9ed03d442c0e8a8ffaf7c8d75126de6c1084ec2 2019-01-29 10:56:47     19   \n",
       "400  cf5f531119dfe3a988886690e3610364938d4c0c 2019-01-29 10:56:38     19   \n",
       "401  78f58038a7963579ecae982f3bd74751430385a0 2019-01-29 10:57:08     19   \n",
       "409  2031f7c118f3b4feec618cecc2acb795653248f9 2019-01-29 10:57:34     19   \n",
       "410  c3be4e5c0e42bc107511aea2ed39362c9e30bba6 2019-01-29 10:57:25     19   \n",
       "411  20b835ae7d525a19d3ef54bbf4eb2659f3cf14a4 2019-01-29 10:57:40     19   \n",
       "414  3b0d6688fb4fd8b76a9f52f013536cb8a57fa53a 2019-01-29 10:58:58     19   \n",
       "415  ba5b673e2167815904651a9bf5aec9c0018a868e 2019-01-29 10:59:28     19   \n",
       "\n",
       "             date_cam_2  cam_2 tps_parcours  \n",
       "5   2019-01-29 10:20:25      4     00:19:27  \n",
       "12  2019-01-29 10:21:42      4     00:21:29  \n",
       "15  2019-01-29 10:21:58      4     00:21:52  \n",
       "20  2019-01-29 10:22:58      4     00:20:52  \n",
       "24  2019-01-29 10:23:14      4     00:21:29  \n",
       "25  2019-01-29 10:23:25      4     00:22:19  \n",
       "26  2019-01-29 10:23:39      4     00:21:38  \n",
       "37  2019-01-29 10:24:57      4     00:21:30  \n",
       "49  2019-01-29 10:26:31      4     00:22:02  \n",
       "50  2019-01-29 10:26:33      4     00:20:46  \n",
       "51  2019-01-29 10:26:37      4     00:21:25  \n",
       "56  2019-01-29 10:27:06      4     00:21:43  \n",
       "57  2019-01-29 10:27:12      4     00:20:21  \n",
       "63  2019-01-29 10:27:50      4     00:20:58  \n",
       "67  2019-01-29 10:28:26      4     00:20:09  \n",
       "71  2019-01-29 10:29:10      4     00:21:01  \n",
       "77  2019-01-29 10:30:01      4     00:20:47  \n",
       "78  2019-01-29 10:30:22      4     00:22:24  \n",
       "79  2019-01-29 10:30:27      4     00:22:25  \n",
       "81  2019-01-29 10:30:37      4     00:20:42  \n",
       "88  2019-01-29 10:31:10      4     00:21:22  \n",
       "94  2019-01-29 10:31:43      4     00:23:19  \n",
       "96  2019-01-29 10:31:48      4     00:20:37  \n",
       "98  2019-01-29 10:32:09      4     00:20:35  \n",
       "112 2019-01-29 10:33:35      4     00:20:15  \n",
       "115 2019-01-29 10:33:58      4     00:16:32  \n",
       "119 2019-01-29 10:34:24      4     00:21:10  \n",
       "122 2019-01-29 10:34:47      4     00:22:03  \n",
       "124 2019-01-29 10:35:01      4     00:20:49  \n",
       "131 2019-01-29 10:35:45      4     00:20:54  \n",
       "..                  ...    ...          ...  \n",
       "317 2019-01-29 11:04:12      4     00:20:53  \n",
       "319 2019-01-29 11:04:19      4     00:20:16  \n",
       "320 2019-01-29 11:04:27      4     00:20:21  \n",
       "323 2019-01-29 11:05:05      4     00:20:38  \n",
       "328 2019-01-29 11:06:05      4     00:20:45  \n",
       "329 2019-01-29 11:06:18      4     00:21:56  \n",
       "345 2019-01-29 11:08:47      4     00:21:30  \n",
       "346 2019-01-29 11:08:51      4     00:20:07  \n",
       "348 2019-01-29 11:09:04      4     00:20:58  \n",
       "349 2019-01-29 11:09:12      4     00:21:45  \n",
       "351 2019-01-29 11:09:23      4     00:21:11  \n",
       "354 2019-01-29 11:09:54      4     00:20:29  \n",
       "364 2019-01-29 11:11:49      4     00:20:46  \n",
       "366 2019-01-29 11:12:18      4     00:21:17  \n",
       "371 2019-01-29 11:13:01      4     00:20:05  \n",
       "377 2019-01-29 11:13:48      4     00:21:25  \n",
       "379 2019-01-29 11:14:11      4     00:21:42  \n",
       "386 2019-01-29 11:14:49      4     00:21:24  \n",
       "388 2019-01-29 11:15:17      4     00:21:48  \n",
       "391 2019-01-29 11:15:57      4     00:21:24  \n",
       "392 2019-01-29 11:16:13      4     00:21:28  \n",
       "396 2019-01-29 11:17:12      4     00:20:30  \n",
       "397 2019-01-29 11:17:24      4     00:20:37  \n",
       "400 2019-01-29 11:18:06      4     00:21:28  \n",
       "401 2019-01-29 11:18:12      4     00:21:04  \n",
       "409 2019-01-29 11:19:06      4     00:21:32  \n",
       "410 2019-01-29 11:19:36      4     00:22:11  \n",
       "411 2019-01-29 11:19:39      4     00:21:59  \n",
       "414 2019-01-29 11:19:59      4     00:21:01  \n",
       "415 2019-01-29 11:20:19      4     00:20:51  \n",
       "\n",
       "[95 rows x 6 columns]"
      ]
     },
     "execution_count": 10,
     "metadata": {},
     "output_type": "execute_result"
    }
   ],
   "source": [
    "indirect_cam_19_4_5_19_4.df_tps_parcours_pl_final #la df des pl passés par les 2 cams\n",
    "# attention, le code stocké prévoit que  : le typ de veh est 1 à chacune des 2 cameras, la fiabilite des cams est >80 sur chacune des cams"
   ]
  },
  {
   "cell_type": "code",
   "execution_count": 27,
   "metadata": {},
   "outputs": [],
   "source": [
    "graph_stat_trie, graph_brut, legende=indirect_cam_19_4_5_19_4.plot_graphs() #les graphs de répartition des vehicules et temps de passages"
   ]
  },
  {
   "cell_type": "code",
   "execution_count": 28,
   "metadata": {},
   "outputs": [
    {
     "data": {
      "application/vnd.vegalite.v2+json": {
       "$schema": "https://vega.github.io/schema/vega-lite/v2.6.0.json",
       "config": {
        "view": {
         "height": 300,
         "width": 400
        }
       },
       "data": {
        "name": "data-dafcda2db1670507912f28e1555f8175"
       },
       "datasets": {
        "data-dafcda2db1670507912f28e1555f8175": [
         {
          "type": "nb_tv_tot",
          "value": 464
         },
         {
          "type": "nb_tv_plaque_ok",
          "value": 441
         },
         {
          "type": "nb_vlpl",
          "value": 246
         },
         {
          "type": "nb_veh_ok",
          "value": 236
         },
         {
          "type": "nb_vl_ok",
          "value": 130
         },
         {
          "type": "nb_pl_ok",
          "value": 106
         }
        ]
       },
       "encoding": {
        "color": {
         "field": "type",
         "type": "nominal"
        },
        "x": {
         "field": "type",
         "sort": {
          "field": "value",
          "op": "mean"
         },
         "type": "nominal"
        },
        "y": {
         "field": "value",
         "type": "quantitative"
        }
       },
       "mark": {
        "size": 20,
        "type": "bar"
       }
      },
      "image/png": "[encoded data removed]",
      "text/plain": [
       "<VegaLite 2 object>\n",
       "\n",
       "If you see this message, it means the renderer has not been properly enabled\n",
       "for the frontend that you are using. For more information, see\n",
       "https://altair-viz.github.io/user_guide/troubleshooting.html\n"
      ]
     },
     "execution_count": 28,
     "metadata": {},
     "output_type": "execute_result"
    }
   ],
   "source": [
    "graph_stat_trie"
   ]
  },
  {
   "cell_type": "code",
   "execution_count": 29,
   "metadata": {},
   "outputs": [
    {
     "data": {
      "application/vnd.vegalite.v2+json": {
       "$schema": "https://vega.github.io/schema/vega-lite/v2.6.0.json",
       "config": {
        "view": {
         "height": 300,
         "width": 400
        }
       },
       "datasets": {
        "data-7604215ff2582f77a9cd37c6550bd618": [
         {
          "created_x": "2019-01-29T10:01:57",
          "l": 0,
          "tps_parcours": "2018-01-01T00:16:43"
         },
         {
          "created_x": "2019-01-29T10:00:12",
          "l": -1,
          "tps_parcours": "2018-01-01T00:18:31"
         },
         {
          "created_x": "2019-01-29T10:00:55",
          "l": 0,
          "tps_parcours": "2018-01-01T00:17:59"
         },
         {
          "created_x": "2019-01-29T10:02:01",
          "l": 0,
          "tps_parcours": "2018-01-01T00:16:54"
         },
         {
          "created_x": "2019-01-29T10:00:14",
          "l": 0,
          "tps_parcours": "2018-01-01T00:19:09"
         },
         {
          "created_x": "2019-01-29T10:00:58",
          "l": 1,
          "tps_parcours": "2018-01-01T00:19:27"
         },
         {
          "created_x": "2019-01-29T10:02:58",
          "l": 0,
          "tps_parcours": "2018-01-01T00:17:55"
         },
         {
          "created_x": "2019-01-29T10:03:23",
          "l": -1,
          "tps_parcours": "2018-01-01T00:17:41"
         },
         {
          "created_x": "2019-01-29T10:04:31",
          "l": 0,
          "tps_parcours": "2018-01-01T00:16:52"
         },
         {
          "created_x": "2019-01-29T10:00:43",
          "l": -1,
          "tps_parcours": "2018-01-01T00:20:49"
         },
         {
          "created_x": "2019-01-29T10:00:03",
          "l": -1,
          "tps_parcours": "2018-01-01T00:21:31"
         },
         {
          "created_x": "2019-01-29T10:00:08",
          "l": 0,
          "tps_parcours": "2018-01-01T00:21:31"
         },
         {
          "created_x": "2019-01-29T10:00:13",
          "l": 1,
          "tps_parcours": "2018-01-01T00:21:29"
         },
         {
          "created_x": "2019-01-29T10:05:19",
          "l": 0,
          "tps_parcours": "2018-01-01T00:16:28"
         },
         {
          "created_x": "2019-01-29T10:00:16",
          "l": -1,
          "tps_parcours": "2018-01-01T00:21:32"
         },
         {
          "created_x": "2019-01-29T10:00:06",
          "l": 1,
          "tps_parcours": "2018-01-01T00:21:52"
         },
         {
          "created_x": "2019-01-29T10:06:32",
          "l": 0,
          "tps_parcours": "2018-01-01T00:15:39"
         },
         {
          "created_x": "2019-01-29T10:00:53",
          "l": -1,
          "tps_parcours": "2018-01-01T00:21:39"
         },
         {
          "created_x": "2019-01-29T10:00:48",
          "l": -1,
          "tps_parcours": "2018-01-01T00:21:54"
         },
         {
          "created_x": "2019-01-29T10:01:58",
          "l": -1,
          "tps_parcours": "2018-01-01T00:20:55"
         },
         {
          "created_x": "2019-01-29T10:02:06",
          "l": 1,
          "tps_parcours": "2018-01-01T00:20:52"
         },
         {
          "created_x": "2019-01-29T10:00:57",
          "l": -1,
          "tps_parcours": "2018-01-01T00:22:07"
         },
         {
          "created_x": "2019-01-29T10:01:40",
          "l": -1,
          "tps_parcours": "2018-01-01T00:21:27"
         },
         {
          "created_x": "2019-01-29T10:05:23",
          "l": 0,
          "tps_parcours": "2018-01-01T00:17:48"
         },
         {
          "created_x": "2019-01-29T10:01:45",
          "l": 1,
          "tps_parcours": "2018-01-01T00:21:29"
         },
         {
          "created_x": "2019-01-29T10:01:06",
          "l": 1,
          "tps_parcours": "2018-01-01T00:22:19"
         },
         {
          "created_x": "2019-01-29T10:02:01",
          "l": 1,
          "tps_parcours": "2018-01-01T00:21:38"
         },
         {
          "created_x": "2019-01-29T10:02:10",
          "l": -1,
          "tps_parcours": "2018-01-01T00:21:46"
         },
         {
          "created_x": "2019-01-29T10:08:24",
          "l": 0,
          "tps_parcours": "2018-01-01T00:15:53"
         },
         {
          "created_x": "2019-01-29T10:03:06",
          "l": -1,
          "tps_parcours": "2018-01-01T00:21:13"
         },
         {
          "created_x": "2019-01-29T10:02:51",
          "l": 0,
          "tps_parcours": "2018-01-01T00:21:29"
         },
         {
          "created_x": "2019-01-29T10:07:27",
          "l": 0,
          "tps_parcours": "2018-01-01T00:17:02"
         },
         {
          "created_x": "2019-01-29T10:07:43",
          "l": -1,
          "tps_parcours": "2018-01-01T00:16:56"
         },
         {
          "created_x": "2019-01-29T10:02:47",
          "l": 0,
          "tps_parcours": "2018-01-01T00:21:52"
         },
         {
          "created_x": "2019-01-29T10:03:07",
          "l": 0,
          "tps_parcours": "2018-01-01T00:21:35"
         },
         {
          "created_x": "2019-01-29T10:06:14",
          "l": 0,
          "tps_parcours": "2018-01-01T00:18:30"
         },
         {
          "created_x": "2019-01-29T10:03:30",
          "l": 0,
          "tps_parcours": "2018-01-01T00:21:17"
         },
         {
          "created_x": "2019-01-29T10:03:27",
          "l": 1,
          "tps_parcours": "2018-01-01T00:21:30"
         },
         {
          "created_x": "2019-01-29T10:03:53",
          "l": -1,
          "tps_parcours": "2018-01-01T00:21:09"
         },
         {
          "created_x": "2019-01-29T10:04:32",
          "l": 0,
          "tps_parcours": "2018-01-01T00:20:32"
         },
         {
          "created_x": "2019-01-29T10:03:41",
          "l": -1,
          "tps_parcours": "2018-01-01T00:21:31"
         },
         {
          "created_x": "2019-01-29T10:03:03",
          "l": -1,
          "tps_parcours": "2018-01-01T00:22:14"
         },
         {
          "created_x": "2019-01-29T10:04:22",
          "l": -1,
          "tps_parcours": "2018-01-01T00:20:58"
         },
         {
          "created_x": "2019-01-29T10:04:15",
          "l": -1,
          "tps_parcours": "2018-01-01T00:21:43"
         },
         {
          "created_x": "2019-01-29T10:03:12",
          "l": -1,
          "tps_parcours": "2018-01-01T00:22:50"
         },
         {
          "created_x": "2019-01-29T10:03:51",
          "l": -1,
          "tps_parcours": "2018-01-01T00:22:14"
         },
         {
          "created_x": "2019-01-29T10:04:43",
          "l": -1,
          "tps_parcours": "2018-01-01T00:21:26"
         },
         {
          "created_x": "2019-01-29T10:04:04",
          "l": -1,
          "tps_parcours": "2018-01-01T00:22:09"
         },
         {
          "created_x": "2019-01-29T10:04:13",
          "l": -1,
          "tps_parcours": "2018-01-01T00:22:11"
         },
         {
          "created_x": "2019-01-29T10:04:29",
          "l": 1,
          "tps_parcours": "2018-01-01T00:22:02"
         },
         {
          "created_x": "2019-01-29T10:05:47",
          "l": 1,
          "tps_parcours": "2018-01-01T00:20:46"
         },
         {
          "created_x": "2019-01-29T10:05:12",
          "l": 1,
          "tps_parcours": "2018-01-01T00:21:25"
         },
         {
          "created_x": "2019-01-29T10:05:31",
          "l": -1,
          "tps_parcours": "2018-01-01T00:21:08"
         },
         {
          "created_x": "2019-01-29T10:05:14",
          "l": 0,
          "tps_parcours": "2018-01-01T00:21:40"
         },
         {
          "created_x": "2019-01-29T10:05:19",
          "l": 0,
          "tps_parcours": "2018-01-01T00:21:40"
         },
         {
          "created_x": "2019-01-29T10:10:22",
          "l": 0,
          "tps_parcours": "2018-01-01T00:16:43"
         },
         {
          "created_x": "2019-01-29T10:05:23",
          "l": 1,
          "tps_parcours": "2018-01-01T00:21:43"
         },
         {
          "created_x": "2019-01-29T10:06:51",
          "l": 1,
          "tps_parcours": "2018-01-01T00:20:21"
         },
         {
          "created_x": "2019-01-29T10:05:17",
          "l": 0,
          "tps_parcours": "2018-01-01T00:21:58"
         },
         {
          "created_x": "2019-01-29T10:05:28",
          "l": 1,
          "tps_parcours": "2018-01-01T00:21:58"
         },
         {
          "created_x": "2019-01-29T10:06:40",
          "l": -1,
          "tps_parcours": "2018-01-01T00:20:49"
         },
         {
          "created_x": "2019-01-29T10:10:19",
          "l": 0,
          "tps_parcours": "2018-01-01T00:17:15"
         },
         {
          "created_x": "2019-01-29T10:07:28",
          "l": -1,
          "tps_parcours": "2018-01-01T00:20:15"
         },
         {
          "created_x": "2019-01-29T10:06:52",
          "l": 1,
          "tps_parcours": "2018-01-01T00:20:58"
         },
         {
          "created_x": "2019-01-29T10:06:55",
          "l": -1,
          "tps_parcours": "2018-01-01T00:21:03"
         },
         {
          "created_x": "2019-01-29T10:07:25",
          "l": -1,
          "tps_parcours": "2018-01-01T00:20:39"
         },
         {
          "created_x": "2019-01-29T10:10:58",
          "l": 0,
          "tps_parcours": "2018-01-01T00:17:12"
         },
         {
          "created_x": "2019-01-29T10:08:17",
          "l": 1,
          "tps_parcours": "2018-01-01T00:20:09"
         },
         {
          "created_x": "2019-01-29T10:07:37",
          "l": -1,
          "tps_parcours": "2018-01-01T00:20:57"
         },
         {
          "created_x": "2019-01-29T10:08:06",
          "l": -1,
          "tps_parcours": "2018-01-01T00:20:38"
         },
         {
          "created_x": "2019-01-29T10:10:42",
          "l": -1,
          "tps_parcours": "2018-01-01T00:18:08"
         },
         {
          "created_x": "2019-01-29T10:08:09",
          "l": 1,
          "tps_parcours": "2018-01-01T00:21:01"
         },
         {
          "created_x": "2019-01-29T10:12:56",
          "l": 0,
          "tps_parcours": "2018-01-01T00:16:22"
         },
         {
          "created_x": "2019-01-29T10:12:37",
          "l": 0,
          "tps_parcours": "2018-01-01T00:16:48"
         },
         {
          "created_x": "2019-01-29T10:07:33",
          "l": -1,
          "tps_parcours": "2018-01-01T00:21:57"
         },
         {
          "created_x": "2019-01-29T10:01:25",
          "l": 0,
          "tps_parcours": "2018-01-01T00:28:10"
         },
         {
          "created_x": "2019-01-29T10:12:16",
          "l": 0,
          "tps_parcours": "2018-01-01T00:17:35"
         },
         {
          "created_x": "2019-01-29T10:09:14",
          "l": 1,
          "tps_parcours": "2018-01-01T00:20:47"
         },
         {
          "created_x": "2019-01-29T10:07:58",
          "l": 1,
          "tps_parcours": "2018-01-01T00:22:24"
         },
         {
          "created_x": "2019-01-29T10:08:02",
          "l": 1,
          "tps_parcours": "2018-01-01T00:22:25"
         },
         {
          "created_x": "2019-01-29T10:09:26",
          "l": -1,
          "tps_parcours": "2018-01-01T00:21:04"
         },
         {
          "created_x": "2019-01-29T10:09:55",
          "l": 1,
          "tps_parcours": "2018-01-01T00:20:42"
         },
         {
          "created_x": "2019-01-29T10:09:32",
          "l": 0,
          "tps_parcours": "2018-01-01T00:21:05"
         },
         {
          "created_x": "2019-01-29T10:09:29",
          "l": -1,
          "tps_parcours": "2018-01-01T00:21:11"
         },
         {
          "created_x": "2019-01-29T10:09:19",
          "l": 0,
          "tps_parcours": "2018-01-01T00:21:23"
         },
         {
          "created_x": "2019-01-29T10:11:46",
          "l": 0,
          "tps_parcours": "2018-01-01T00:19:09"
         },
         {
          "created_x": "2019-01-29T10:09:59",
          "l": -1,
          "tps_parcours": "2018-01-01T00:20:59"
         },
         {
          "created_x": "2019-01-29T10:15:14",
          "l": 0,
          "tps_parcours": "2018-01-01T00:15:52"
         },
         {
          "created_x": "2019-01-29T10:09:48",
          "l": 1,
          "tps_parcours": "2018-01-01T00:21:22"
         },
         {
          "created_x": "2019-01-29T10:10:09",
          "l": -1,
          "tps_parcours": "2018-01-01T00:21:06"
         },
         {
          "created_x": "2019-01-29T10:08:12",
          "l": -1,
          "tps_parcours": "2018-01-01T00:23:14"
         },
         {
          "created_x": "2019-01-29T10:10:28",
          "l": -1,
          "tps_parcours": "2018-01-01T00:20:59"
         },
         {
          "created_x": "2019-01-29T10:15:51",
          "l": -1,
          "tps_parcours": "2018-01-01T00:15:46"
         },
         {
          "created_x": "2019-01-29T10:09:22",
          "l": -1,
          "tps_parcours": "2018-01-01T00:22:17"
         },
         {
          "created_x": "2019-01-29T10:08:24",
          "l": 1,
          "tps_parcours": "2018-01-01T00:23:19"
         },
         {
          "created_x": "2019-01-29T10:08:59",
          "l": -1,
          "tps_parcours": "2018-01-01T00:22:48"
         },
         {
          "created_x": "2019-01-29T10:11:11",
          "l": 1,
          "tps_parcours": "2018-01-01T00:20:37"
         },
         {
          "created_x": "2019-01-29T10:09:46",
          "l": -1,
          "tps_parcours": "2018-01-01T00:22:09"
         },
         {
          "created_x": "2019-01-29T10:11:34",
          "l": 1,
          "tps_parcours": "2018-01-01T00:20:35"
         },
         {
          "created_x": "2019-01-29T10:15:24",
          "l": 0,
          "tps_parcours": "2018-01-01T00:16:58"
         },
         {
          "created_x": "2019-01-29T10:12:47",
          "l": 0,
          "tps_parcours": "2018-01-01T00:19:40"
         },
         {
          "created_x": "2019-01-29T10:16:45",
          "l": 0,
          "tps_parcours": "2018-01-01T00:15:52"
         },
         {
          "created_x": "2019-01-29T10:11:15",
          "l": -1,
          "tps_parcours": "2018-01-01T00:21:36"
         },
         {
          "created_x": "2019-01-29T10:16:43",
          "l": 0,
          "tps_parcours": "2018-01-01T00:16:11"
         },
         {
          "created_x": "2019-01-29T10:10:44",
          "l": -1,
          "tps_parcours": "2018-01-01T00:22:16"
         },
         {
          "created_x": "2019-01-29T10:11:59",
          "l": -1,
          "tps_parcours": "2018-01-01T00:21:06"
         },
         {
          "created_x": "2019-01-29T10:11:52",
          "l": -1,
          "tps_parcours": "2018-01-01T00:21:25"
         },
         {
          "created_x": "2019-01-29T10:16:37",
          "l": 0,
          "tps_parcours": "2018-01-01T00:16:40"
         },
         {
          "created_x": "2019-01-29T10:17:23",
          "l": 0,
          "tps_parcours": "2018-01-01T00:15:56"
         },
         {
          "created_x": "2019-01-29T10:11:53",
          "l": 0,
          "tps_parcours": "2018-01-01T00:21:31"
         },
         {
          "created_x": "2019-01-29T10:16:29",
          "l": 0,
          "tps_parcours": "2018-01-01T00:17:02"
         },
         {
          "created_x": "2019-01-29T10:11:57",
          "l": -1,
          "tps_parcours": "2018-01-01T00:21:34"
         },
         {
          "created_x": "2019-01-29T10:13:20",
          "l": 1,
          "tps_parcours": "2018-01-01T00:20:15"
         },
         {
          "created_x": "2019-01-29T10:12:31",
          "l": -1,
          "tps_parcours": "2018-01-01T00:21:16"
         },
         {
          "created_x": "2019-01-29T10:12:03",
          "l": -1,
          "tps_parcours": "2018-01-01T00:21:44"
         },
         {
          "created_x": "2019-01-29T10:17:26",
          "l": 1,
          "tps_parcours": "2018-01-01T00:16:32"
         },
         {
          "created_x": "2019-01-29T10:08:25",
          "l": 0,
          "tps_parcours": "2018-01-01T00:25:35"
         },
         {
          "created_x": "2019-01-29T10:13:30",
          "l": -1,
          "tps_parcours": "2018-01-01T00:20:35"
         },
         {
          "created_x": "2019-01-29T10:14:29",
          "l": -1,
          "tps_parcours": "2018-01-01T00:19:48"
         },
         {
          "created_x": "2019-01-29T10:13:14",
          "l": 1,
          "tps_parcours": "2018-01-01T00:21:10"
         },
         {
          "created_x": "2019-01-29T10:17:59",
          "l": 0,
          "tps_parcours": "2018-01-01T00:16:30"
         },
         {
          "created_x": "2019-01-29T10:13:07",
          "l": -1,
          "tps_parcours": "2018-01-01T00:21:33"
         },
         {
          "created_x": "2019-01-29T10:12:44",
          "l": 1,
          "tps_parcours": "2018-01-01T00:22:03"
         },
         {
          "created_x": "2019-01-29T10:13:36",
          "l": -1,
          "tps_parcours": "2018-01-01T00:21:17"
         },
         {
          "created_x": "2019-01-29T10:14:12",
          "l": 1,
          "tps_parcours": "2018-01-01T00:20:49"
         },
         {
          "created_x": "2019-01-29T10:18:00",
          "l": 0,
          "tps_parcours": "2018-01-01T00:17:07"
         },
         {
          "created_x": "2019-01-29T10:17:54",
          "l": 0,
          "tps_parcours": "2018-01-01T00:17:19"
         },
         {
          "created_x": "2019-01-29T10:14:06",
          "l": 0,
          "tps_parcours": "2018-01-01T00:21:14"
         },
         {
          "created_x": "2019-01-29T10:18:59",
          "l": 0,
          "tps_parcours": "2018-01-01T00:16:22"
         },
         {
          "created_x": "2019-01-29T10:19:28",
          "l": 0,
          "tps_parcours": "2018-01-01T00:16:01"
         },
         {
          "created_x": "2019-01-29T10:15:17",
          "l": -1,
          "tps_parcours": "2018-01-01T00:20:13"
         },
         {
          "created_x": "2019-01-29T10:14:51",
          "l": 1,
          "tps_parcours": "2018-01-01T00:20:54"
         },
         {
          "created_x": "2019-01-29T10:15:14",
          "l": -1,
          "tps_parcours": "2018-01-01T00:20:50"
         },
         {
          "created_x": "2019-01-29T10:14:42",
          "l": -1,
          "tps_parcours": "2018-01-01T00:21:27"
         },
         {
          "created_x": "2019-01-29T10:17:16",
          "l": 1,
          "tps_parcours": "2018-01-01T00:18:53"
         },
         {
          "created_x": "2019-01-29T10:14:47",
          "l": -1,
          "tps_parcours": "2018-01-01T00:21:25"
         },
         {
          "created_x": "2019-01-29T10:13:57",
          "l": 0,
          "tps_parcours": "2018-01-01T00:22:20"
         },
         {
          "created_x": "2019-01-29T10:11:21",
          "l": 0,
          "tps_parcours": "2018-01-01T00:25:18"
         },
         {
          "created_x": "2019-01-29T10:14:25",
          "l": -1,
          "tps_parcours": "2018-01-01T00:22:16"
         },
         {
          "created_x": "2019-01-29T10:19:44",
          "l": 0,
          "tps_parcours": "2018-01-01T00:17:00"
         },
         {
          "created_x": "2019-01-29T10:16:05",
          "l": -1,
          "tps_parcours": "2018-01-01T00:20:49"
         },
         {
          "created_x": "2019-01-29T10:16:19",
          "l": 0,
          "tps_parcours": "2018-01-01T00:20:59"
         },
         {
          "created_x": "2019-01-29T10:16:26",
          "l": 1,
          "tps_parcours": "2018-01-01T00:21:04"
         },
         {
          "created_x": "2019-01-29T10:15:27",
          "l": 0,
          "tps_parcours": "2018-01-01T00:22:05"
         },
         {
          "created_x": "2019-01-29T10:16:16",
          "l": -1,
          "tps_parcours": "2018-01-01T00:21:19"
         },
         {
          "created_x": "2019-01-29T10:15:55",
          "l": -1,
          "tps_parcours": "2018-01-01T00:21:58"
         },
         {
          "created_x": "2019-01-29T10:16:40",
          "l": -1,
          "tps_parcours": "2018-01-01T00:21:14"
         },
         {
          "created_x": "2019-01-29T10:15:58",
          "l": -1,
          "tps_parcours": "2018-01-01T00:22:05"
         },
         {
          "created_x": "2019-01-29T10:22:39",
          "l": 0,
          "tps_parcours": "2018-01-01T00:15:57"
         },
         {
          "created_x": "2019-01-29T10:17:33",
          "l": 0,
          "tps_parcours": "2018-01-01T00:21:04"
         },
         {
          "created_x": "2019-01-29T10:16:22",
          "l": 0,
          "tps_parcours": "2018-01-01T00:22:19"
         },
         {
          "created_x": "2019-01-29T10:17:29",
          "l": -1,
          "tps_parcours": "2018-01-01T00:21:18"
         },
         {
          "created_x": "2019-01-29T10:12:55",
          "l": -1,
          "tps_parcours": "2018-01-01T00:25:58"
         },
         {
          "created_x": "2019-01-29T10:21:30",
          "l": 0,
          "tps_parcours": "2018-01-01T00:17:47"
         },
         {
          "created_x": "2019-01-29T10:22:37",
          "l": 0,
          "tps_parcours": "2018-01-01T00:17:05"
         },
         {
          "created_x": "2019-01-29T10:19:39",
          "l": 1,
          "tps_parcours": "2018-01-01T00:20:21"
         },
         {
          "created_x": "2019-01-29T10:17:31",
          "l": -1,
          "tps_parcours": "2018-01-01T00:22:29"
         },
         {
          "created_x": "2019-01-29T10:19:26",
          "l": 0,
          "tps_parcours": "2018-01-01T00:20:58"
         },
         {
          "created_x": "2019-01-29T10:19:33",
          "l": -1,
          "tps_parcours": "2018-01-01T00:20:56"
         },
         {
          "created_x": "2019-01-29T10:19:31",
          "l": 1,
          "tps_parcours": "2018-01-01T00:21:05"
         },
         {
          "created_x": "2019-01-29T10:19:51",
          "l": -1,
          "tps_parcours": "2018-01-01T00:20:48"
         },
         {
          "created_x": "2019-01-29T10:19:58",
          "l": -1,
          "tps_parcours": "2018-01-01T00:21:04"
         },
         {
          "created_x": "2019-01-29T10:13:00",
          "l": 0,
          "tps_parcours": "2018-01-01T00:28:09"
         },
         {
          "created_x": "2019-01-29T10:24:33",
          "l": -1,
          "tps_parcours": "2018-01-01T00:16:43"
         },
         {
          "created_x": "2019-01-29T10:20:09",
          "l": 1,
          "tps_parcours": "2018-01-01T00:21:10"
         },
         {
          "created_x": "2019-01-29T10:19:54",
          "l": -1,
          "tps_parcours": "2018-01-01T00:21:33"
         },
         {
          "created_x": "2019-01-29T10:23:50",
          "l": 0,
          "tps_parcours": "2018-01-01T00:17:44"
         },
         {
          "created_x": "2019-01-29T10:19:48",
          "l": -1,
          "tps_parcours": "2018-01-01T00:21:49"
         },
         {
          "created_x": "2019-01-29T10:20:38",
          "l": 0,
          "tps_parcours": "2018-01-01T00:21:09"
         },
         {
          "created_x": "2019-01-29T10:25:42",
          "l": -1,
          "tps_parcours": "2018-01-01T00:16:13"
         },
         {
          "created_x": "2019-01-29T10:20:01",
          "l": 1,
          "tps_parcours": "2018-01-01T00:22:00"
         },
         {
          "created_x": "2019-01-29T10:25:44",
          "l": 0,
          "tps_parcours": "2018-01-01T00:16:35"
         },
         {
          "created_x": "2019-01-29T10:25:42",
          "l": 0,
          "tps_parcours": "2018-01-01T00:16:41"
         },
         {
          "created_x": "2019-01-29T10:25:52",
          "l": 0,
          "tps_parcours": "2018-01-01T00:16:52"
         },
         {
          "created_x": "2019-01-29T10:21:44",
          "l": 1,
          "tps_parcours": "2018-01-01T00:21:01"
         },
         {
          "created_x": "2019-01-29T10:22:10",
          "l": 1,
          "tps_parcours": "2018-01-01T00:21:05"
         },
         {
          "created_x": "2019-01-29T10:22:43",
          "l": -1,
          "tps_parcours": "2018-01-01T00:20:55"
         },
         {
          "created_x": "2019-01-29T10:21:37",
          "l": 1,
          "tps_parcours": "2018-01-01T00:22:13"
         },
         {
          "created_x": "2019-01-29T10:21:54",
          "l": 1,
          "tps_parcours": "2018-01-01T00:22:07"
         },
         {
          "created_x": "2019-01-29T10:22:26",
          "l": 1,
          "tps_parcours": "2018-01-01T00:21:39"
         },
         {
          "created_x": "2019-01-29T10:23:26",
          "l": -1,
          "tps_parcours": "2018-01-01T00:20:40"
         },
         {
          "created_x": "2019-01-29T10:22:34",
          "l": -1,
          "tps_parcours": "2018-01-01T00:21:44"
         },
         {
          "created_x": "2019-01-29T10:22:12",
          "l": -1,
          "tps_parcours": "2018-01-01T00:22:16"
         },
         {
          "created_x": "2019-01-29T10:21:49",
          "l": 1,
          "tps_parcours": "2018-01-01T00:22:49"
         },
         {
          "created_x": "2019-01-29T10:27:53",
          "l": -1,
          "tps_parcours": "2018-01-01T00:16:52"
         },
         {
          "created_x": "2019-01-29T10:22:22",
          "l": -1,
          "tps_parcours": "2018-01-01T00:22:39"
         },
         {
          "created_x": "2019-01-29T10:23:35",
          "l": -1,
          "tps_parcours": "2018-01-01T00:21:37"
         },
         {
          "created_x": "2019-01-29T10:24:05",
          "l": 1,
          "tps_parcours": "2018-01-01T00:21:14"
         },
         {
          "created_x": "2019-01-29T10:24:16",
          "l": -1,
          "tps_parcours": "2018-01-01T00:21:05"
         },
         {
          "created_x": "2019-01-29T10:23:22",
          "l": -1,
          "tps_parcours": "2018-01-01T00:22:04"
         },
         {
          "created_x": "2019-01-29T10:11:32",
          "l": 1,
          "tps_parcours": "2018-01-01T00:34:09"
         },
         {
          "created_x": "2019-01-29T10:23:39",
          "l": -1,
          "tps_parcours": "2018-01-01T00:22:08"
         },
         {
          "created_x": "2019-01-29T10:23:30",
          "l": 1,
          "tps_parcours": "2018-01-01T00:22:21"
         },
         {
          "created_x": "2019-01-29T10:24:52",
          "l": -1,
          "tps_parcours": "2018-01-01T00:21:01"
         },
         {
          "created_x": "2019-01-29T10:25:03",
          "l": 1,
          "tps_parcours": "2018-01-01T00:21:03"
         },
         {
          "created_x": "2019-01-29T10:24:56",
          "l": -1,
          "tps_parcours": "2018-01-01T00:21:16"
         },
         {
          "created_x": "2019-01-29T10:24:59",
          "l": 1,
          "tps_parcours": "2018-01-01T00:21:15"
         },
         {
          "created_x": "2019-01-29T10:25:14",
          "l": 1,
          "tps_parcours": "2018-01-01T00:21:03"
         },
         {
          "created_x": "2019-01-29T10:24:20",
          "l": 1,
          "tps_parcours": "2018-01-01T00:22:03"
         },
         {
          "created_x": "2019-01-29T10:29:27",
          "l": 0,
          "tps_parcours": "2018-01-01T00:16:59"
         },
         {
          "created_x": "2019-01-29T10:25:51",
          "l": 0,
          "tps_parcours": "2018-01-01T00:20:47"
         },
         {
          "created_x": "2019-01-29T10:25:06",
          "l": -1,
          "tps_parcours": "2018-01-01T00:21:39"
         },
         {
          "created_x": "2019-01-29T10:25:08",
          "l": -1,
          "tps_parcours": "2018-01-01T00:21:40"
         },
         {
          "created_x": "2019-01-29T10:27:22",
          "l": 0,
          "tps_parcours": "2018-01-01T00:19:54"
         },
         {
          "created_x": "2019-01-29T10:29:51",
          "l": 0,
          "tps_parcours": "2018-01-01T00:17:33"
         },
         {
          "created_x": "2019-01-29T10:29:37",
          "l": 0,
          "tps_parcours": "2018-01-01T00:17:57"
         },
         {
          "created_x": "2019-01-29T10:24:49",
          "l": 1,
          "tps_parcours": "2018-01-01T00:22:47"
         },
         {
          "created_x": "2019-01-29T10:25:39",
          "l": -1,
          "tps_parcours": "2018-01-01T00:22:04"
         },
         {
          "created_x": "2019-01-29T10:25:40",
          "l": 0,
          "tps_parcours": "2018-01-01T00:22:04"
         },
         {
          "created_x": "2019-01-29T10:32:00",
          "l": 0,
          "tps_parcours": "2018-01-01T00:15:47"
         },
         {
          "created_x": "2019-01-29T10:30:12",
          "l": 1,
          "tps_parcours": "2018-01-01T00:17:40"
         },
         {
          "created_x": "2019-01-29T10:25:57",
          "l": 1,
          "tps_parcours": "2018-01-01T00:21:58"
         },
         {
          "created_x": "2019-01-29T10:27:47",
          "l": -1,
          "tps_parcours": "2018-01-01T00:20:31"
         },
         {
          "created_x": "2019-01-29T10:26:16",
          "l": -1,
          "tps_parcours": "2018-01-01T00:22:02"
         },
         {
          "created_x": "2019-01-29T10:28:02",
          "l": -1,
          "tps_parcours": "2018-01-01T00:20:20"
         },
         {
          "created_x": "2019-01-29T10:27:56",
          "l": -1,
          "tps_parcours": "2018-01-01T00:20:43"
         },
         {
          "created_x": "2019-01-29T10:20:06",
          "l": 0,
          "tps_parcours": "2018-01-01T00:28:39"
         },
         {
          "created_x": "2019-01-29T10:29:24",
          "l": 1,
          "tps_parcours": "2018-01-01T00:19:34"
         },
         {
          "created_x": "2019-01-29T10:32:27",
          "l": -1,
          "tps_parcours": "2018-01-01T00:16:42"
         },
         {
          "created_x": "2019-01-29T10:32:33",
          "l": 0,
          "tps_parcours": "2018-01-01T00:16:45"
         },
         {
          "created_x": "2019-01-29T10:27:43",
          "l": -1,
          "tps_parcours": "2018-01-01T00:21:36"
         },
         {
          "created_x": "2019-01-29T10:28:08",
          "l": -1,
          "tps_parcours": "2018-01-01T00:21:22"
         },
         {
          "created_x": "2019-01-29T10:28:01",
          "l": 1,
          "tps_parcours": "2018-01-01T00:21:39"
         },
         {
          "created_x": "2019-01-29T10:29:35",
          "l": -1,
          "tps_parcours": "2018-01-01T00:20:10"
         },
         {
          "created_x": "2019-01-29T10:28:28",
          "l": -1,
          "tps_parcours": "2018-01-01T00:21:26"
         },
         {
          "created_x": "2019-01-29T10:28:17",
          "l": -1,
          "tps_parcours": "2018-01-01T00:21:39"
         },
         {
          "created_x": "2019-01-29T10:16:11",
          "l": 1,
          "tps_parcours": "2018-01-01T00:34:00"
         },
         {
          "created_x": "2019-01-29T10:29:38",
          "l": -1,
          "tps_parcours": "2018-01-01T00:20:39"
         },
         {
          "created_x": "2019-01-29T10:30:06",
          "l": 0,
          "tps_parcours": "2018-01-01T00:20:22"
         },
         {
          "created_x": "2019-01-29T10:34:34",
          "l": 0,
          "tps_parcours": "2018-01-01T00:15:57"
         },
         {
          "created_x": "2019-01-29T10:33:15",
          "l": -1,
          "tps_parcours": "2018-01-01T00:17:28"
         },
         {
          "created_x": "2019-01-29T10:33:43",
          "l": 0,
          "tps_parcours": "2018-01-01T00:17:03"
         },
         {
          "created_x": "2019-01-29T10:29:58",
          "l": 1,
          "tps_parcours": "2018-01-01T00:21:03"
         },
         {
          "created_x": "2019-01-29T10:30:09",
          "l": -1,
          "tps_parcours": "2018-01-01T00:20:54"
         },
         {
          "created_x": "2019-01-29T10:34:42",
          "l": 0,
          "tps_parcours": "2018-01-01T00:16:36"
         },
         {
          "created_x": "2019-01-29T10:31:14",
          "l": 1,
          "tps_parcours": "2018-01-01T00:20:45"
         },
         {
          "created_x": "2019-01-29T10:31:33",
          "l": -1,
          "tps_parcours": "2018-01-01T00:20:33"
         },
         {
          "created_x": "2019-01-29T10:31:27",
          "l": 0,
          "tps_parcours": "2018-01-01T00:20:40"
         },
         {
          "created_x": "2019-01-29T10:31:19",
          "l": 1,
          "tps_parcours": "2018-01-01T00:21:12"
         },
         {
          "created_x": "2019-01-29T10:32:05",
          "l": -1,
          "tps_parcours": "2018-01-01T00:20:41"
         },
         {
          "created_x": "2019-01-29T10:32:41",
          "l": 0,
          "tps_parcours": "2018-01-01T00:20:07"
         },
         {
          "created_x": "2019-01-29T10:32:12",
          "l": -1,
          "tps_parcours": "2018-01-01T00:20:47"
         },
         {
          "created_x": "2019-01-29T10:32:59",
          "l": -1,
          "tps_parcours": "2018-01-01T00:20:06"
         },
         {
          "created_x": "2019-01-29T10:33:12",
          "l": -1,
          "tps_parcours": "2018-01-01T00:19:59"
         },
         {
          "created_x": "2019-01-29T10:33:09",
          "l": 1,
          "tps_parcours": "2018-01-01T00:20:08"
         },
         {
          "created_x": "2019-01-29T10:38:24",
          "l": 0,
          "tps_parcours": "2018-01-01T00:15:14"
         },
         {
          "created_x": "2019-01-29T10:33:40",
          "l": -1,
          "tps_parcours": "2018-01-01T00:20:00"
         },
         {
          "created_x": "2019-01-29T10:33:02",
          "l": -1,
          "tps_parcours": "2018-01-01T00:20:50"
         },
         {
          "created_x": "2019-01-29T10:34:02",
          "l": 1,
          "tps_parcours": "2018-01-01T00:20:17"
         },
         {
          "created_x": "2019-01-29T10:34:37",
          "l": -1,
          "tps_parcours": "2018-01-01T00:19:47"
         },
         {
          "created_x": "2019-01-29T10:34:05",
          "l": 1,
          "tps_parcours": "2018-01-01T00:20:39"
         },
         {
          "created_x": "2019-01-29T10:34:45",
          "l": -1,
          "tps_parcours": "2018-01-01T00:20:03"
         },
         {
          "created_x": "2019-01-29T10:34:48",
          "l": -1,
          "tps_parcours": "2018-01-01T00:20:33"
         },
         {
          "created_x": "2019-01-29T10:34:50",
          "l": 0,
          "tps_parcours": "2018-01-01T00:20:33"
         },
         {
          "created_x": "2019-01-29T10:35:06",
          "l": -1,
          "tps_parcours": "2018-01-01T00:20:23"
         },
         {
          "created_x": "2019-01-29T10:35:09",
          "l": 0,
          "tps_parcours": "2018-01-01T00:20:23"
         },
         {
          "created_x": "2019-01-29T10:30:38",
          "l": 0,
          "tps_parcours": "2018-01-01T00:24:56"
         },
         {
          "created_x": "2019-01-29T10:35:01",
          "l": -1,
          "tps_parcours": "2018-01-01T00:20:37"
         },
         {
          "created_x": "2019-01-29T10:34:59",
          "l": 0,
          "tps_parcours": "2018-01-01T00:20:43"
         },
         {
          "created_x": "2019-01-29T10:35:42",
          "l": 0,
          "tps_parcours": "2018-01-01T00:20:04"
         },
         {
          "created_x": "2019-01-29T10:35:57",
          "l": 0,
          "tps_parcours": "2018-01-01T00:20:00"
         },
         {
          "created_x": "2019-01-29T10:39:00",
          "l": -1,
          "tps_parcours": "2018-01-01T00:16:57"
         },
         {
          "created_x": "2019-01-29T10:35:55",
          "l": -1,
          "tps_parcours": "2018-01-01T00:20:10"
         },
         {
          "created_x": "2019-01-29T10:35:31",
          "l": -1,
          "tps_parcours": "2018-01-01T00:20:35"
         },
         {
          "created_x": "2019-01-29T10:35:40",
          "l": -1,
          "tps_parcours": "2018-01-01T00:20:34"
         },
         {
          "created_x": "2019-01-29T10:35:36",
          "l": -1,
          "tps_parcours": "2018-01-01T00:20:55"
         },
         {
          "created_x": "2019-01-29T10:40:13",
          "l": 0,
          "tps_parcours": "2018-01-01T00:16:20"
         },
         {
          "created_x": "2019-01-29T10:39:55",
          "l": 0,
          "tps_parcours": "2018-01-01T00:16:38"
         },
         {
          "created_x": "2019-01-29T10:35:52",
          "l": -1,
          "tps_parcours": "2018-01-01T00:20:50"
         },
         {
          "created_x": "2019-01-29T10:38:03",
          "l": -1,
          "tps_parcours": "2018-01-01T00:18:39"
         },
         {
          "created_x": "2019-01-29T10:36:02",
          "l": -1,
          "tps_parcours": "2018-01-01T00:20:46"
         },
         {
          "created_x": "2019-01-29T10:34:43",
          "l": -1,
          "tps_parcours": "2018-01-01T00:22:19"
         },
         {
          "created_x": "2019-01-29T10:13:22",
          "l": -1,
          "tps_parcours": "2018-01-01T00:43:49"
         },
         {
          "created_x": "2019-01-29T10:36:50",
          "l": -1,
          "tps_parcours": "2018-01-01T00:20:23"
         },
         {
          "created_x": "2019-01-29T10:37:32",
          "l": -1,
          "tps_parcours": "2018-01-01T00:19:44"
         },
         {
          "created_x": "2019-01-29T10:37:44",
          "l": -1,
          "tps_parcours": "2018-01-01T00:19:34"
         },
         {
          "created_x": "2019-01-29T10:37:52",
          "l": -1,
          "tps_parcours": "2018-01-01T00:19:35"
         },
         {
          "created_x": "2019-01-29T10:41:27",
          "l": -1,
          "tps_parcours": "2018-01-01T00:16:26"
         },
         {
          "created_x": "2019-01-29T10:38:06",
          "l": -1,
          "tps_parcours": "2018-01-01T00:20:01"
         },
         {
          "created_x": "2019-01-29T10:38:12",
          "l": -1,
          "tps_parcours": "2018-01-01T00:20:03"
         },
         {
          "created_x": "2019-01-29T10:38:32",
          "l": 1,
          "tps_parcours": "2018-01-01T00:20:09"
         },
         {
          "created_x": "2019-01-29T10:38:42",
          "l": 1,
          "tps_parcours": "2018-01-01T00:20:11"
         },
         {
          "created_x": "2019-01-29T10:38:40",
          "l": 0,
          "tps_parcours": "2018-01-01T00:20:18"
         },
         {
          "created_x": "2019-01-29T10:38:38",
          "l": -1,
          "tps_parcours": "2018-01-01T00:20:25"
         },
         {
          "created_x": "2019-01-29T10:42:58",
          "l": 0,
          "tps_parcours": "2018-01-01T00:16:07"
         },
         {
          "created_x": "2019-01-29T10:38:35",
          "l": -1,
          "tps_parcours": "2018-01-01T00:20:31"
         },
         {
          "created_x": "2019-01-29T10:38:57",
          "l": -1,
          "tps_parcours": "2018-01-01T00:20:12"
         },
         {
          "created_x": "2019-01-29T10:39:15",
          "l": -1,
          "tps_parcours": "2018-01-01T00:20:03"
         },
         {
          "created_x": "2019-01-29T10:23:24",
          "l": -1,
          "tps_parcours": "2018-01-01T00:35:54"
         },
         {
          "created_x": "2019-01-29T10:38:50",
          "l": 1,
          "tps_parcours": "2018-01-01T00:20:39"
         },
         {
          "created_x": "2019-01-29T10:39:24",
          "l": -1,
          "tps_parcours": "2018-01-01T00:20:05"
         },
         {
          "created_x": "2019-01-29T10:39:06",
          "l": 1,
          "tps_parcours": "2018-01-01T00:20:28"
         },
         {
          "created_x": "2019-01-29T10:38:46",
          "l": -1,
          "tps_parcours": "2018-01-01T00:20:58"
         },
         {
          "created_x": "2019-01-29T10:38:47",
          "l": -1,
          "tps_parcours": "2018-01-01T00:20:58"
         },
         {
          "created_x": "2019-01-29T10:39:33",
          "l": -1,
          "tps_parcours": "2018-01-01T00:20:44"
         },
         {
          "created_x": "2019-01-29T10:44:12",
          "l": 0,
          "tps_parcours": "2018-01-01T00:16:22"
         },
         {
          "created_x": "2019-01-29T10:39:58",
          "l": -1,
          "tps_parcours": "2018-01-01T00:20:40"
         },
         {
          "created_x": "2019-01-29T10:40:30",
          "l": 1,
          "tps_parcours": "2018-01-01T00:20:26"
         },
         {
          "created_x": "2019-01-29T10:40:06",
          "l": 1,
          "tps_parcours": "2018-01-01T00:21:10"
         },
         {
          "created_x": "2019-01-29T10:46:12",
          "l": 0,
          "tps_parcours": "2018-01-01T00:15:04"
         },
         {
          "created_x": "2019-01-29T10:41:00",
          "l": 1,
          "tps_parcours": "2018-01-01T00:20:18"
         },
         {
          "created_x": "2019-01-29T10:40:43",
          "l": 1,
          "tps_parcours": "2018-01-01T00:20:42"
         },
         {
          "created_x": "2019-01-29T10:40:40",
          "l": -1,
          "tps_parcours": "2018-01-01T00:21:05"
         },
         {
          "created_x": "2019-01-29T10:39:18",
          "l": 0,
          "tps_parcours": "2018-01-01T00:22:39"
         },
         {
          "created_x": "2019-01-29T10:41:06",
          "l": -1,
          "tps_parcours": "2018-01-01T00:21:05"
         },
         {
          "created_x": "2019-01-29T10:42:15",
          "l": 1,
          "tps_parcours": "2018-01-01T00:20:13"
         },
         {
          "created_x": "2019-01-29T10:40:46",
          "l": -1,
          "tps_parcours": "2018-01-01T00:21:43"
         },
         {
          "created_x": "2019-01-29T10:40:21",
          "l": -1,
          "tps_parcours": "2018-01-01T00:22:08"
         },
         {
          "created_x": "2019-01-29T10:40:34",
          "l": 1,
          "tps_parcours": "2018-01-01T00:22:05"
         },
         {
          "created_x": "2019-01-29T10:40:54",
          "l": -1,
          "tps_parcours": "2018-01-01T00:21:49"
         },
         {
          "created_x": "2019-01-29T10:10:13",
          "l": 1,
          "tps_parcours": "2018-01-01T00:52:45"
         },
         {
          "created_x": "2019-01-29T10:40:57",
          "l": 0,
          "tps_parcours": "2018-01-01T00:22:12"
         },
         {
          "created_x": "2019-01-29T10:42:54",
          "l": -1,
          "tps_parcours": "2018-01-01T00:20:51"
         },
         {
          "created_x": "2019-01-29T10:43:27",
          "l": 1,
          "tps_parcours": "2018-01-01T00:20:31"
         },
         {
          "created_x": "2019-01-29T10:43:01",
          "l": -1,
          "tps_parcours": "2018-01-01T00:20:57"
         },
         {
          "created_x": "2019-01-29T10:43:14",
          "l": -1,
          "tps_parcours": "2018-01-01T00:20:47"
         },
         {
          "created_x": "2019-01-29T10:43:03",
          "l": -1,
          "tps_parcours": "2018-01-01T00:21:03"
         },
         {
          "created_x": "2019-01-29T10:43:19",
          "l": 1,
          "tps_parcours": "2018-01-01T00:20:53"
         },
         {
          "created_x": "2019-01-29T10:13:22",
          "l": 1,
          "tps_parcours": "2018-01-01T00:50:55"
         },
         {
          "created_x": "2019-01-29T10:44:03",
          "l": 1,
          "tps_parcours": "2018-01-01T00:20:16"
         },
         {
          "created_x": "2019-01-29T10:44:06",
          "l": 1,
          "tps_parcours": "2018-01-01T00:20:21"
         },
         {
          "created_x": "2019-01-29T10:48:24",
          "l": -1,
          "tps_parcours": "2018-01-01T00:16:17"
         },
         {
          "created_x": "2019-01-29T10:44:18",
          "l": 0,
          "tps_parcours": "2018-01-01T00:20:37"
         },
         {
          "created_x": "2019-01-29T10:44:27",
          "l": 1,
          "tps_parcours": "2018-01-01T00:20:38"
         },
         {
          "created_x": "2019-01-29T10:48:25",
          "l": 0,
          "tps_parcours": "2018-01-01T00:16:51"
         },
         {
          "created_x": "2019-01-29T10:48:47",
          "l": 0,
          "tps_parcours": "2018-01-01T00:16:33"
         },
         {
          "created_x": "2019-01-29T10:43:29",
          "l": -1,
          "tps_parcours": "2018-01-01T00:21:53"
         },
         {
          "created_x": "2019-01-29T10:40:05",
          "l": -1,
          "tps_parcours": "2018-01-01T00:25:46"
         },
         {
          "created_x": "2019-01-29T10:45:20",
          "l": 1,
          "tps_parcours": "2018-01-01T00:20:45"
         },
         {
          "created_x": "2019-01-29T10:44:22",
          "l": 1,
          "tps_parcours": "2018-01-01T00:21:56"
         },
         {
          "created_x": "2019-01-29T10:44:39",
          "l": -1,
          "tps_parcours": "2018-01-01T00:21:44"
         },
         {
          "created_x": "2019-01-29T10:44:31",
          "l": -1,
          "tps_parcours": "2018-01-01T00:21:58"
         },
         {
          "created_x": "2019-01-29T10:50:18",
          "l": -1,
          "tps_parcours": "2018-01-01T00:16:11"
         },
         {
          "created_x": "2019-01-29T10:44:16",
          "l": 0,
          "tps_parcours": "2018-01-01T00:22:31"
         },
         {
          "created_x": "2019-01-29T10:12:07",
          "l": -1,
          "tps_parcours": "2018-01-01T00:54:42"
         },
         {
          "created_x": "2019-01-29T10:46:21",
          "l": -1,
          "tps_parcours": "2018-01-01T00:20:45"
         },
         {
          "created_x": "2019-01-29T10:46:18",
          "l": -1,
          "tps_parcours": "2018-01-01T00:20:49"
         },
         {
          "created_x": "2019-01-29T10:45:23",
          "l": -1,
          "tps_parcours": "2018-01-01T00:21:53"
         },
         {
          "created_x": "2019-01-29T10:46:15",
          "l": -1,
          "tps_parcours": "2018-01-01T00:21:10"
         },
         {
          "created_x": "2019-01-29T10:47:10",
          "l": -1,
          "tps_parcours": "2018-01-01T00:20:21"
         },
         {
          "created_x": "2019-01-29T10:45:55",
          "l": -1,
          "tps_parcours": "2018-01-01T00:22:11"
         },
         {
          "created_x": "2019-01-29T10:47:21",
          "l": -1,
          "tps_parcours": "2018-01-01T00:20:50"
         },
         {
          "created_x": "2019-01-29T10:46:47",
          "l": -1,
          "tps_parcours": "2018-01-01T00:21:26"
         },
         {
          "created_x": "2019-01-29T10:46:37",
          "l": -1,
          "tps_parcours": "2018-01-01T00:21:49"
         },
         {
          "created_x": "2019-01-29T10:52:09",
          "l": 0,
          "tps_parcours": "2018-01-01T00:16:33"
         },
         {
          "created_x": "2019-01-29T10:47:17",
          "l": 1,
          "tps_parcours": "2018-01-01T00:21:30"
         },
         {
          "created_x": "2019-01-29T10:48:44",
          "l": 1,
          "tps_parcours": "2018-01-01T00:20:07"
         },
         {
          "created_x": "2019-01-29T10:46:56",
          "l": -1,
          "tps_parcours": "2018-01-01T00:21:56"
         },
         {
          "created_x": "2019-01-29T10:48:06",
          "l": 1,
          "tps_parcours": "2018-01-01T00:20:58"
         },
         {
          "created_x": "2019-01-29T10:47:27",
          "l": 1,
          "tps_parcours": "2018-01-01T00:21:45"
         },
         {
          "created_x": "2019-01-29T10:48:50",
          "l": -1,
          "tps_parcours": "2018-01-01T00:20:28"
         },
         {
          "created_x": "2019-01-29T10:48:12",
          "l": 1,
          "tps_parcours": "2018-01-01T00:21:11"
         },
         {
          "created_x": "2019-01-29T10:50:21",
          "l": 0,
          "tps_parcours": "2018-01-01T00:19:25"
         },
         {
          "created_x": "2019-01-29T10:48:10",
          "l": -1,
          "tps_parcours": "2018-01-01T00:21:37"
         },
         {
          "created_x": "2019-01-29T10:49:25",
          "l": 1,
          "tps_parcours": "2018-01-01T00:20:29"
         },
         {
          "created_x": "2019-01-29T10:49:10",
          "l": 0,
          "tps_parcours": "2018-01-01T00:20:48"
         },
         {
          "created_x": "2019-01-29T10:52:52",
          "l": 0,
          "tps_parcours": "2018-01-01T00:17:07"
         },
         {
          "created_x": "2019-01-29T10:48:54",
          "l": -1,
          "tps_parcours": "2018-01-01T00:21:16"
         },
         {
          "created_x": "2019-01-29T10:49:19",
          "l": -1,
          "tps_parcours": "2018-01-01T00:20:53"
         },
         {
          "created_x": "2019-01-29T10:54:20",
          "l": -1,
          "tps_parcours": "2018-01-01T00:16:00"
         },
         {
          "created_x": "2019-01-29T10:46:13",
          "l": 1,
          "tps_parcours": "2018-01-01T00:24:36"
         },
         {
          "created_x": "2019-01-29T10:54:54",
          "l": 0,
          "tps_parcours": "2018-01-01T00:16:01"
         },
         {
          "created_x": "2019-01-29T10:50:23",
          "l": 0,
          "tps_parcours": "2018-01-01T00:20:42"
         },
         {
          "created_x": "2019-01-29T10:54:45",
          "l": -1,
          "tps_parcours": "2018-01-01T00:16:27"
         },
         {
          "created_x": "2019-01-29T10:51:03",
          "l": 1,
          "tps_parcours": "2018-01-01T00:20:46"
         },
         {
          "created_x": "2019-01-29T10:50:59",
          "l": -1,
          "tps_parcours": "2018-01-01T00:21:15"
         },
         {
          "created_x": "2019-01-29T10:51:01",
          "l": 1,
          "tps_parcours": "2018-01-01T00:21:17"
         },
         {
          "created_x": "2019-01-29T10:51:50",
          "l": 0,
          "tps_parcours": "2018-01-01T00:20:29"
         },
         {
          "created_x": "2019-01-29T10:51:09",
          "l": 0,
          "tps_parcours": "2018-01-01T00:21:20"
         },
         {
          "created_x": "2019-01-29T10:51:45",
          "l": -1,
          "tps_parcours": "2018-01-01T00:20:46"
         },
         {
          "created_x": "2019-01-29T10:51:42",
          "l": -1,
          "tps_parcours": "2018-01-01T00:21:13"
         },
         {
          "created_x": "2019-01-29T10:52:56",
          "l": 1,
          "tps_parcours": "2018-01-01T00:20:05"
         },
         {
          "created_x": "2019-01-29T10:52:37",
          "l": -1,
          "tps_parcours": "2018-01-01T00:20:34"
         },
         {
          "created_x": "2019-01-29T10:56:43",
          "l": 0,
          "tps_parcours": "2018-01-01T00:16:42"
         },
         {
          "created_x": "2019-01-29T10:56:18",
          "l": 0,
          "tps_parcours": "2018-01-01T00:17:08"
         },
         {
          "created_x": "2019-01-29T10:56:49",
          "l": 0,
          "tps_parcours": "2018-01-01T00:16:46"
         },
         {
          "created_x": "2019-01-29T10:52:43",
          "l": -1,
          "tps_parcours": "2018-01-01T00:21:05"
         },
         {
          "created_x": "2019-01-29T10:52:23",
          "l": 1,
          "tps_parcours": "2018-01-01T00:21:25"
         },
         {
          "created_x": "2019-01-29T10:52:26",
          "l": -1,
          "tps_parcours": "2018-01-01T00:21:39"
         },
         {
          "created_x": "2019-01-29T10:52:29",
          "l": 1,
          "tps_parcours": "2018-01-01T00:21:42"
         },
         {
          "created_x": "2019-01-29T10:58:07",
          "l": 0,
          "tps_parcours": "2018-01-01T00:16:08"
         },
         {
          "created_x": "2019-01-29T10:52:49",
          "l": -1,
          "tps_parcours": "2018-01-01T00:21:28"
         },
         {
          "created_x": "2019-01-29T10:53:01",
          "l": -1,
          "tps_parcours": "2018-01-01T00:21:30"
         },
         {
          "created_x": "2019-01-29T10:53:34",
          "l": 0,
          "tps_parcours": "2018-01-01T00:21:03"
         },
         {
          "created_x": "2019-01-29T10:19:36",
          "l": -1,
          "tps_parcours": "2018-01-01T00:55:03"
         },
         {
          "created_x": "2019-01-29T10:52:52",
          "l": -1,
          "tps_parcours": "2018-01-01T00:21:54"
         },
         {
          "created_x": "2019-01-29T10:53:25",
          "l": 1,
          "tps_parcours": "2018-01-01T00:21:24"
         },
         {
          "created_x": "2019-01-29T10:53:42",
          "l": -1,
          "tps_parcours": "2018-01-01T00:21:18"
         },
         {
          "created_x": "2019-01-29T10:53:29",
          "l": 1,
          "tps_parcours": "2018-01-01T00:21:48"
         },
         {
          "created_x": "2019-01-29T10:58:33",
          "l": 0,
          "tps_parcours": "2018-01-01T00:16:46"
         },
         {
          "created_x": "2019-01-29T10:11:08",
          "l": 1,
          "tps_parcours": "2018-01-01T01:04:27"
         },
         {
          "created_x": "2019-01-29T10:54:33",
          "l": 1,
          "tps_parcours": "2018-01-01T00:21:24"
         },
         {
          "created_x": "2019-01-29T10:54:45",
          "l": 1,
          "tps_parcours": "2018-01-01T00:21:28"
         },
         {
          "created_x": "2019-01-29T10:54:57",
          "l": -1,
          "tps_parcours": "2018-01-01T00:21:33"
         },
         {
          "created_x": "2019-01-29T10:04:25",
          "l": 0,
          "tps_parcours": "2018-01-01T01:12:40"
         },
         {
          "created_x": "2019-01-29T10:55:04",
          "l": -1,
          "tps_parcours": "2018-01-01T00:22:04"
         },
         {
          "created_x": "2019-01-29T10:56:42",
          "l": 1,
          "tps_parcours": "2018-01-01T00:20:30"
         },
         {
          "created_x": "2019-01-29T10:56:47",
          "l": 1,
          "tps_parcours": "2018-01-01T00:20:37"
         },
         {
          "created_x": "2019-01-29T10:57:05",
          "l": -1,
          "tps_parcours": "2018-01-01T00:20:26"
         },
         {
          "created_x": "2019-01-29T10:56:56",
          "l": 0,
          "tps_parcours": "2018-01-01T00:20:40"
         },
         {
          "created_x": "2019-01-29T10:56:38",
          "l": 1,
          "tps_parcours": "2018-01-01T00:21:28"
         },
         {
          "created_x": "2019-01-29T10:57:08",
          "l": 1,
          "tps_parcours": "2018-01-01T00:21:04"
         },
         {
          "created_x": "2019-01-29T10:56:51",
          "l": 1,
          "tps_parcours": "2018-01-01T00:21:24"
         },
         {
          "created_x": "2019-01-29T10:57:10",
          "l": 0,
          "tps_parcours": "2018-01-01T00:21:06"
         },
         {
          "created_x": "2019-01-29T10:57:03",
          "l": -1,
          "tps_parcours": "2018-01-01T00:21:16"
         },
         {
          "created_x": "2019-01-29T10:04:15",
          "l": 0,
          "tps_parcours": "2018-01-01T01:14:13"
         },
         {
          "created_x": "2019-01-29T10:57:45",
          "l": -1,
          "tps_parcours": "2018-01-01T00:20:44"
         },
         {
          "created_x": "2019-01-29T10:14:41",
          "l": 0,
          "tps_parcours": "2018-01-01T01:03:49"
         },
         {
          "created_x": "2019-01-29T10:57:15",
          "l": 0,
          "tps_parcours": "2018-01-01T00:21:23"
         },
         {
          "created_x": "2019-01-29T10:57:34",
          "l": 1,
          "tps_parcours": "2018-01-01T00:21:32"
         },
         {
          "created_x": "2019-01-29T10:57:25",
          "l": 1,
          "tps_parcours": "2018-01-01T00:22:11"
         },
         {
          "created_x": "2019-01-29T10:57:40",
          "l": 1,
          "tps_parcours": "2018-01-01T00:21:59"
         },
         {
          "created_x": "2019-01-29T10:57:40",
          "l": -1,
          "tps_parcours": "2018-01-01T00:21:59"
         },
         {
          "created_x": "2019-01-29T10:59:42",
          "l": 0,
          "tps_parcours": "2018-01-01T00:20:09"
         },
         {
          "created_x": "2019-01-29T10:58:58",
          "l": 1,
          "tps_parcours": "2018-01-01T00:21:01"
         },
         {
          "created_x": "2019-01-29T10:59:28",
          "l": 1,
          "tps_parcours": "2018-01-01T00:20:51"
         },
         {
          "created_x": "2019-01-29T10:59:53",
          "l": 0,
          "tps_parcours": "2018-01-01T00:20:29"
         },
         {
          "created_x": "2019-01-29T10:59:24",
          "l": -1,
          "tps_parcours": "2018-01-01T00:21:25"
         },
         {
          "created_x": "2019-01-29T10:59:36",
          "l": -1,
          "tps_parcours": "2018-01-01T00:21:27"
         },
         {
          "created_x": "2019-01-29T10:59:50",
          "l": -1,
          "tps_parcours": "2018-01-01T00:21:16"
         },
         {
          "created_x": "2019-01-29T10:59:38",
          "l": -1,
          "tps_parcours": "2018-01-01T00:21:40"
         },
         {
          "created_x": "2019-01-29T10:59:44",
          "l": -1,
          "tps_parcours": "2018-01-01T00:21:40"
         },
         {
          "created_x": "2019-01-29T10:59:48",
          "l": -1,
          "tps_parcours": "2018-01-01T00:21:40"
         },
         {
          "created_x": "2019-01-29T10:06:20",
          "l": 1,
          "tps_parcours": "2018-01-01T01:19:29"
         },
         {
          "created_x": "2019-01-29T10:01:35",
          "l": -1,
          "tps_parcours": "2018-01-01T01:25:20"
         },
         {
          "created_x": "2019-01-29T10:01:38",
          "l": -1,
          "tps_parcours": "2018-01-01T01:25:26"
         },
         {
          "created_x": "2019-01-29T10:32:45",
          "l": -1,
          "tps_parcours": "2018-01-01T00:55:21"
         },
         {
          "created_x": "2019-01-29T10:29:32",
          "l": -1,
          "tps_parcours": "2018-01-01T00:59:50"
         },
         {
          "created_x": "2019-01-29T10:24:13",
          "l": -1,
          "tps_parcours": "2018-01-01T01:05:33"
         },
         {
          "created_x": "2019-01-29T10:35:27",
          "l": -1,
          "tps_parcours": "2018-01-01T00:54:22"
         },
         {
          "created_x": "2019-01-29T10:36:07",
          "l": -1,
          "tps_parcours": "2018-01-01T00:54:49"
         },
         {
          "created_x": "2019-01-29T10:46:31",
          "l": -1,
          "tps_parcours": "2018-01-01T00:46:20"
         },
         {
          "created_x": "2019-01-29T10:51:21",
          "l": 0,
          "tps_parcours": "2018-01-01T00:41:47"
         },
         {
          "created_x": "2019-01-29T10:16:13",
          "l": 0,
          "tps_parcours": "2018-01-01T01:17:30"
         },
         {
          "created_x": "2019-01-29T10:05:10",
          "l": -1,
          "tps_parcours": "2018-01-01T01:33:36"
         },
         {
          "created_x": "2019-01-29T10:52:34",
          "l": -1,
          "tps_parcours": "2018-01-01T00:50:59"
         },
         {
          "created_x": "2019-01-29T10:51:57",
          "l": 1,
          "tps_parcours": "2018-01-01T00:54:22"
         },
         {
          "created_x": "2019-01-29T10:33:44",
          "l": 0,
          "tps_parcours": "2018-01-01T01:13:47"
         },
         {
          "created_x": "2019-01-29T10:36:48",
          "l": 0,
          "tps_parcours": "2018-01-01T01:13:46"
         },
         {
          "created_x": "2019-01-29T10:57:55",
          "l": -1,
          "tps_parcours": "2018-01-01T00:53:08"
         },
         {
          "created_x": "2019-01-29T10:25:43",
          "l": -1,
          "tps_parcours": "2018-01-01T01:25:37"
         },
         {
          "created_x": "2019-01-29T10:24:02",
          "l": 1,
          "tps_parcours": "2018-01-01T01:29:01"
         },
         {
          "created_x": "2019-01-29T10:57:52",
          "l": 0,
          "tps_parcours": "2018-01-01T00:55:34"
         },
         {
          "created_x": "2019-01-29T10:55:14",
          "l": 0,
          "tps_parcours": "2018-01-01T00:59:33"
         },
         {
          "created_x": "2019-01-29T10:44:10",
          "l": 0,
          "tps_parcours": "2018-01-01T01:10:52"
         },
         {
          "created_x": "2019-01-29T10:53:57",
          "l": -1,
          "tps_parcours": "2018-01-01T01:02:11"
         },
         {
          "created_x": "2019-01-29T10:47:07",
          "l": -1,
          "tps_parcours": "2018-01-01T01:10:11"
         },
         {
          "created_x": "2019-01-29T10:24:00",
          "l": 0,
          "tps_parcours": "2018-01-01T01:33:49"
         },
         {
          "created_x": "2019-01-29T10:50:19",
          "l": 1,
          "tps_parcours": "2018-01-01T01:08:07"
         },
         {
          "created_x": "2019-01-29T10:44:13",
          "l": 0,
          "tps_parcours": "2018-01-01T01:14:38"
         },
         {
          "created_x": "2019-01-29T10:44:13",
          "l": -1,
          "tps_parcours": "2018-01-01T01:14:39"
         },
         {
          "created_x": "2019-01-29T10:44:13",
          "l": -1,
          "tps_parcours": "2018-01-01T01:14:39"
         },
         {
          "created_x": "2019-01-29T10:44:08",
          "l": -1,
          "tps_parcours": "2018-01-01T01:21:16"
         },
         {
          "created_x": "2019-01-29T10:56:53",
          "l": -1,
          "tps_parcours": "2018-01-01T01:08:49"
         },
         {
          "created_x": "2019-01-29T10:57:36",
          "l": -1,
          "tps_parcours": "2018-01-01T01:09:07"
         },
         {
          "created_x": "2019-01-29T10:55:27",
          "l": -1,
          "tps_parcours": "2018-01-01T01:11:29"
         },
         {
          "created_x": "2019-01-29T10:57:57",
          "l": -1,
          "tps_parcours": "2018-01-01T01:09:06"
         },
         {
          "created_x": "2019-01-29T10:26:41",
          "l": 1,
          "tps_parcours": "2018-01-01T01:41:58"
         },
         {
          "created_x": "2019-01-29T10:59:58",
          "l": -1,
          "tps_parcours": "2018-01-01T01:14:46"
         },
         {
          "created_x": "2019-01-29T10:47:24",
          "l": 0,
          "tps_parcours": "2018-01-01T01:30:56"
         },
         {
          "created_x": "2019-01-29T10:38:58",
          "l": 0,
          "tps_parcours": "2018-01-01T04:15:21"
         },
         {
          "created_x": "2019-01-29T10:21:45",
          "l": 0,
          "tps_parcours": "2018-01-01T05:57:11"
         },
         {
          "created_x": "2019-01-29T10:59:09",
          "l": -1,
          "tps_parcours": "2018-01-01T08:24:33"
         },
         {
          "created_x": "2019-01-29T10:25:54",
          "l": 0,
          "tps_parcours": "2018-01-01T10:16:02"
         }
        ]
       },
       "hconcat": [
        {
         "data": {
          "name": "data-7604215ff2582f77a9cd37c6550bd618"
         },
         "encoding": {
          "color": {
           "condition": {
            "field": "l",
            "legend": null,
            "selection": "selector006",
            "type": "nominal"
           },
           "value": "lightgray"
          },
          "shape": {
           "field": "l",
           "type": "quantitative"
          },
          "tooltip": {
           "field": "tps_parcours",
           "type": "temporal"
          },
          "x": {
           "field": "created_x",
           "type": "temporal"
          },
          "y": {
           "field": "tps_parcours",
           "timeUnit": "hoursminutes",
           "type": "temporal"
          }
         },
         "mark": "point"
        },
        {
         "data": {
          "name": "data-7604215ff2582f77a9cd37c6550bd618"
         },
         "encoding": {
          "color": {
           "condition": {
            "field": "l",
            "legend": null,
            "selection": "selector006",
            "type": "nominal"
           },
           "value": "lightgray"
          },
          "shape": {
           "field": "l",
           "type": "quantitative"
          },
          "y": {
           "axis": {
            "orient": "right"
           },
           "field": "l",
           "type": "quantitative"
          }
         },
         "mark": "point",
         "selection": {
          "selector006": {
           "empty": "all",
           "fields": [
            "l"
           ],
           "on": "click",
           "resolve": "global",
           "toggle": "event.shiftKey",
           "type": "multi"
          }
         }
        }
       ]
      },
      "image/png": "[encoded data removed]",
      "text/plain": [
       "<VegaLite 2 object>\n",
       "\n",
       "If you see this message, it means the renderer has not been properly enabled\n",
       "for the frontend that you are using. For more information, see\n",
       "https://altair-viz.github.io/user_guide/troubleshooting.html\n"
      ]
     },
     "execution_count": 29,
     "metadata": {},
     "output_type": "execute_result"
    }
   ],
   "source": [
    "graph_brut | legende"
   ]
  },
  {
   "cell_type": "markdown",
   "metadata": {},
   "source": [
    "        chap 2.1.2 : Trouver les échanges entre les 2 cameras suivantes"
   ]
  },
  {
   "cell_type": "code",
   "execution_count": 32,
   "metadata": {},
   "outputs": [],
   "source": [
    "#recherche des trajets indirects entre 2 cameras\n",
    "# on se base sur les temps de trajets trouvé sur les deux cameras precedente pour limiter la recherche des donnees\n",
    "indirect_cam_19_4_5_4_5=t.recherche_trajet_indirect(df_journee,indirect_cam_19_4_5_19_4,16, 4,5)"
   ]
  },
  {
   "cell_type": "code",
   "execution_count": 33,
   "metadata": {},
   "outputs": [
    {
     "data": {
      "text/html": [
       "<div>\n",
       "<style scoped>\n",
       "    .dataframe tbody tr th:only-of-type {\n",
       "        vertical-align: middle;\n",
       "    }\n",
       "\n",
       "    .dataframe tbody tr th {\n",
       "        vertical-align: top;\n",
       "    }\n",
       "\n",
       "    .dataframe thead th {\n",
       "        text-align: right;\n",
       "    }\n",
       "</style>\n",
       "<table border=\"1\" class=\"dataframe\">\n",
       "  <thead>\n",
       "    <tr style=\"text-align: right;\">\n",
       "      <th></th>\n",
       "      <th>immat</th>\n",
       "      <th>date_cam_1</th>\n",
       "      <th>date_cam_2</th>\n",
       "      <th>cam_1</th>\n",
       "      <th>cam_2</th>\n",
       "      <th>tps_parcours</th>\n",
       "    </tr>\n",
       "  </thead>\n",
       "  <tbody>\n",
       "    <tr>\n",
       "      <th>0</th>\n",
       "      <td>185ec68f604a05988b65c02b12bc459c4f0de265</td>\n",
       "      <td>2019-01-29 10:00:06</td>\n",
       "      <td>2019-01-29 10:33:15</td>\n",
       "      <td>19</td>\n",
       "      <td>5</td>\n",
       "      <td>00:33:09</td>\n",
       "    </tr>\n",
       "    <tr>\n",
       "      <th>1</th>\n",
       "      <td>5785798ab3e1cf3bcc847aad97b4417005a7ab2f</td>\n",
       "      <td>2019-01-29 10:01:45</td>\n",
       "      <td>2019-01-29 10:34:13</td>\n",
       "      <td>19</td>\n",
       "      <td>5</td>\n",
       "      <td>00:32:28</td>\n",
       "    </tr>\n",
       "    <tr>\n",
       "      <th>2</th>\n",
       "      <td>c9d34e8987a4aa93831f8983462f12c5807d6616</td>\n",
       "      <td>2019-01-29 10:01:06</td>\n",
       "      <td>2019-01-29 10:34:56</td>\n",
       "      <td>19</td>\n",
       "      <td>5</td>\n",
       "      <td>00:33:50</td>\n",
       "    </tr>\n",
       "    <tr>\n",
       "      <th>3</th>\n",
       "      <td>5ea04990d008f89b5d0a2d60bf02b2a2caa30c64</td>\n",
       "      <td>2019-01-29 10:02:01</td>\n",
       "      <td>2019-01-29 10:35:08</td>\n",
       "      <td>19</td>\n",
       "      <td>5</td>\n",
       "      <td>00:33:07</td>\n",
       "    </tr>\n",
       "    <tr>\n",
       "      <th>4</th>\n",
       "      <td>8819188f3b0e6c23b7d4db4b0ac3d1265912d4bf</td>\n",
       "      <td>2019-01-29 10:04:29</td>\n",
       "      <td>2019-01-29 10:37:56</td>\n",
       "      <td>19</td>\n",
       "      <td>5</td>\n",
       "      <td>00:33:27</td>\n",
       "    </tr>\n",
       "    <tr>\n",
       "      <th>5</th>\n",
       "      <td>a21f024252fc1d2ce07cd6ddcbcc45220e1c1e6e</td>\n",
       "      <td>2019-01-29 10:05:47</td>\n",
       "      <td>2019-01-29 10:36:54</td>\n",
       "      <td>19</td>\n",
       "      <td>5</td>\n",
       "      <td>00:31:07</td>\n",
       "    </tr>\n",
       "    <tr>\n",
       "      <th>6</th>\n",
       "      <td>b9f76ff9fc82f3013c8ec9981411ccd2bb0e5072</td>\n",
       "      <td>2019-01-29 10:05:12</td>\n",
       "      <td>2019-01-29 10:37:20</td>\n",
       "      <td>19</td>\n",
       "      <td>5</td>\n",
       "      <td>00:32:08</td>\n",
       "    </tr>\n",
       "    <tr>\n",
       "      <th>7</th>\n",
       "      <td>14718db4e79496c5253d670022d2907ac3d1a8d1</td>\n",
       "      <td>2019-01-29 10:05:23</td>\n",
       "      <td>2019-01-29 10:38:32</td>\n",
       "      <td>19</td>\n",
       "      <td>5</td>\n",
       "      <td>00:33:09</td>\n",
       "    </tr>\n",
       "    <tr>\n",
       "      <th>8</th>\n",
       "      <td>41aa8b184709048dafcf456f937d8b182d25602f</td>\n",
       "      <td>2019-01-29 10:08:17</td>\n",
       "      <td>2019-01-29 10:40:06</td>\n",
       "      <td>19</td>\n",
       "      <td>5</td>\n",
       "      <td>00:31:49</td>\n",
       "    </tr>\n",
       "    <tr>\n",
       "      <th>9</th>\n",
       "      <td>b37d6f42c823706c88b89825e935a42d696c75c2</td>\n",
       "      <td>2019-01-29 10:07:58</td>\n",
       "      <td>2019-01-29 10:42:11</td>\n",
       "      <td>19</td>\n",
       "      <td>5</td>\n",
       "      <td>00:34:13</td>\n",
       "    </tr>\n",
       "    <tr>\n",
       "      <th>10</th>\n",
       "      <td>a9449ff480368f083512cd8cfc938933a381d427</td>\n",
       "      <td>2019-01-29 10:09:55</td>\n",
       "      <td>2019-01-29 10:41:36</td>\n",
       "      <td>19</td>\n",
       "      <td>5</td>\n",
       "      <td>00:31:41</td>\n",
       "    </tr>\n",
       "    <tr>\n",
       "      <th>11</th>\n",
       "      <td>fa783e9061e7e80421e45c5f9bb63eb9b3669ee7</td>\n",
       "      <td>2019-01-29 10:11:11</td>\n",
       "      <td>2019-01-29 10:43:08</td>\n",
       "      <td>19</td>\n",
       "      <td>5</td>\n",
       "      <td>00:31:57</td>\n",
       "    </tr>\n",
       "    <tr>\n",
       "      <th>12</th>\n",
       "      <td>32c74c2fd247e3be307e912920f84e4517671cf5</td>\n",
       "      <td>2019-01-29 10:13:14</td>\n",
       "      <td>2019-01-29 10:45:15</td>\n",
       "      <td>19</td>\n",
       "      <td>5</td>\n",
       "      <td>00:32:01</td>\n",
       "    </tr>\n",
       "    <tr>\n",
       "      <th>13</th>\n",
       "      <td>4e2bbd4d7da1d5999c39cfd216dd777b0c6b0a7a</td>\n",
       "      <td>2019-01-29 10:14:12</td>\n",
       "      <td>2019-01-29 10:46:22</td>\n",
       "      <td>19</td>\n",
       "      <td>5</td>\n",
       "      <td>00:32:10</td>\n",
       "    </tr>\n",
       "    <tr>\n",
       "      <th>14</th>\n",
       "      <td>4983c348a14e3926d47bc81f55fa0384a47b285e</td>\n",
       "      <td>2019-01-29 10:17:16</td>\n",
       "      <td>2019-01-29 10:46:31</td>\n",
       "      <td>19</td>\n",
       "      <td>5</td>\n",
       "      <td>00:29:15</td>\n",
       "    </tr>\n",
       "    <tr>\n",
       "      <th>15</th>\n",
       "      <td>a91e5b54243305867239fc5cb9b4db241cb7433b</td>\n",
       "      <td>2019-01-29 10:19:39</td>\n",
       "      <td>2019-01-29 10:50:49</td>\n",
       "      <td>19</td>\n",
       "      <td>5</td>\n",
       "      <td>00:31:10</td>\n",
       "    </tr>\n",
       "    <tr>\n",
       "      <th>16</th>\n",
       "      <td>ea41bf2eb86ce2dfdcfe9d1b7e452ad9afad6648</td>\n",
       "      <td>2019-01-29 10:20:09</td>\n",
       "      <td>2019-01-29 10:52:46</td>\n",
       "      <td>19</td>\n",
       "      <td>5</td>\n",
       "      <td>00:32:37</td>\n",
       "    </tr>\n",
       "    <tr>\n",
       "      <th>17</th>\n",
       "      <td>33e81558d5bef0fb5f2d75398cd921a5119e7b8f</td>\n",
       "      <td>2019-01-29 10:20:01</td>\n",
       "      <td>2019-01-29 10:54:20</td>\n",
       "      <td>19</td>\n",
       "      <td>5</td>\n",
       "      <td>00:34:19</td>\n",
       "    </tr>\n",
       "    <tr>\n",
       "      <th>18</th>\n",
       "      <td>be31215557984fcdd020ac67f3e3ec793f78bb5b</td>\n",
       "      <td>2019-01-29 10:21:44</td>\n",
       "      <td>2019-01-29 10:53:55</td>\n",
       "      <td>19</td>\n",
       "      <td>5</td>\n",
       "      <td>00:32:11</td>\n",
       "    </tr>\n",
       "    <tr>\n",
       "      <th>19</th>\n",
       "      <td>e9af01ec51d1357d073b6964c57122224cb4c1e8</td>\n",
       "      <td>2019-01-29 10:22:10</td>\n",
       "      <td>2019-01-29 10:54:31</td>\n",
       "      <td>19</td>\n",
       "      <td>5</td>\n",
       "      <td>00:32:21</td>\n",
       "    </tr>\n",
       "    <tr>\n",
       "      <th>20</th>\n",
       "      <td>73e9ef21a7ebc37e16aa594a2111c299483d822d</td>\n",
       "      <td>2019-01-29 10:22:26</td>\n",
       "      <td>2019-01-29 10:55:30</td>\n",
       "      <td>19</td>\n",
       "      <td>5</td>\n",
       "      <td>00:33:04</td>\n",
       "    </tr>\n",
       "    <tr>\n",
       "      <th>21</th>\n",
       "      <td>2c6179f0e8cc47fe77b92e2fb0bb1e8717481542</td>\n",
       "      <td>2019-01-29 10:21:49</td>\n",
       "      <td>2019-01-29 10:56:44</td>\n",
       "      <td>19</td>\n",
       "      <td>5</td>\n",
       "      <td>00:34:55</td>\n",
       "    </tr>\n",
       "    <tr>\n",
       "      <th>22</th>\n",
       "      <td>a11eaf32d4bed3d54c7c1d2dfe6b267936cfa383</td>\n",
       "      <td>2019-01-29 10:24:05</td>\n",
       "      <td>2019-01-29 10:56:31</td>\n",
       "      <td>19</td>\n",
       "      <td>5</td>\n",
       "      <td>00:32:26</td>\n",
       "    </tr>\n",
       "    <tr>\n",
       "      <th>23</th>\n",
       "      <td>24af87b7f01a3e7e83932f1a13d52c7769789120</td>\n",
       "      <td>2019-01-29 10:24:59</td>\n",
       "      <td>2019-01-29 10:57:11</td>\n",
       "      <td>19</td>\n",
       "      <td>5</td>\n",
       "      <td>00:32:12</td>\n",
       "    </tr>\n",
       "    <tr>\n",
       "      <th>24</th>\n",
       "      <td>dd5c2bbb3d81f06162a5579d091696796e3f665f</td>\n",
       "      <td>2019-01-29 10:24:49</td>\n",
       "      <td>2019-01-29 10:59:14</td>\n",
       "      <td>19</td>\n",
       "      <td>5</td>\n",
       "      <td>00:34:25</td>\n",
       "    </tr>\n",
       "    <tr>\n",
       "      <th>25</th>\n",
       "      <td>7f0462a73c8de29533bb9553506ffbc1ef1b5af6</td>\n",
       "      <td>2019-01-29 10:30:12</td>\n",
       "      <td>2019-01-29 10:58:19</td>\n",
       "      <td>19</td>\n",
       "      <td>5</td>\n",
       "      <td>00:28:07</td>\n",
       "    </tr>\n",
       "    <tr>\n",
       "      <th>26</th>\n",
       "      <td>85104b73168260599f0d67a1739a29cb49cb1797</td>\n",
       "      <td>2019-01-29 10:29:24</td>\n",
       "      <td>2019-01-29 10:59:40</td>\n",
       "      <td>19</td>\n",
       "      <td>5</td>\n",
       "      <td>00:30:16</td>\n",
       "    </tr>\n",
       "    <tr>\n",
       "      <th>27</th>\n",
       "      <td>e9d3a71512e5f8081a52eb87b3bae71087586580</td>\n",
       "      <td>2019-01-29 10:40:30</td>\n",
       "      <td>2019-01-29 11:12:13</td>\n",
       "      <td>19</td>\n",
       "      <td>5</td>\n",
       "      <td>00:31:43</td>\n",
       "    </tr>\n",
       "    <tr>\n",
       "      <th>28</th>\n",
       "      <td>d41cba376c3e17beacb3caa2bcf5c71ab7441721</td>\n",
       "      <td>2019-01-29 10:40:06</td>\n",
       "      <td>2019-01-29 11:12:39</td>\n",
       "      <td>19</td>\n",
       "      <td>5</td>\n",
       "      <td>00:32:33</td>\n",
       "    </tr>\n",
       "    <tr>\n",
       "      <th>29</th>\n",
       "      <td>45f1d28f0d0a82e44f95177a5d0804ebbe8c7be3</td>\n",
       "      <td>2019-01-29 10:40:43</td>\n",
       "      <td>2019-01-29 11:12:42</td>\n",
       "      <td>19</td>\n",
       "      <td>5</td>\n",
       "      <td>00:31:59</td>\n",
       "    </tr>\n",
       "    <tr>\n",
       "      <th>30</th>\n",
       "      <td>1493c4e5359d32d215661d0d40fffa8e3d92122f</td>\n",
       "      <td>2019-01-29 10:42:15</td>\n",
       "      <td>2019-01-29 11:13:15</td>\n",
       "      <td>19</td>\n",
       "      <td>5</td>\n",
       "      <td>00:31:00</td>\n",
       "    </tr>\n",
       "    <tr>\n",
       "      <th>31</th>\n",
       "      <td>cd8d3eed730a412bda8b00dad0ae1d61dddd1e8e</td>\n",
       "      <td>2019-01-29 10:44:03</td>\n",
       "      <td>2019-01-29 11:15:12</td>\n",
       "      <td>19</td>\n",
       "      <td>5</td>\n",
       "      <td>00:31:09</td>\n",
       "    </tr>\n",
       "    <tr>\n",
       "      <th>32</th>\n",
       "      <td>18f62ef00c24903a0bff50f34fb7cb42a77f9d46</td>\n",
       "      <td>2019-01-29 10:44:22</td>\n",
       "      <td>2019-01-29 11:18:44</td>\n",
       "      <td>19</td>\n",
       "      <td>5</td>\n",
       "      <td>00:34:22</td>\n",
       "    </tr>\n",
       "    <tr>\n",
       "      <th>33</th>\n",
       "      <td>d8e06be2b56fb55d488abcc83fa894c34305fbd3</td>\n",
       "      <td>2019-01-29 10:48:12</td>\n",
       "      <td>2019-01-29 11:20:25</td>\n",
       "      <td>19</td>\n",
       "      <td>5</td>\n",
       "      <td>00:32:13</td>\n",
       "    </tr>\n",
       "    <tr>\n",
       "      <th>34</th>\n",
       "      <td>962cb29646a2dd14dbc162c8797a16af2b737c81</td>\n",
       "      <td>2019-01-29 10:49:25</td>\n",
       "      <td>2019-01-29 11:20:42</td>\n",
       "      <td>19</td>\n",
       "      <td>5</td>\n",
       "      <td>00:31:17</td>\n",
       "    </tr>\n",
       "    <tr>\n",
       "      <th>35</th>\n",
       "      <td>46a40b95a0b167f92d4bc2829027b7ae64d40434</td>\n",
       "      <td>2019-01-29 10:51:01</td>\n",
       "      <td>2019-01-29 11:23:46</td>\n",
       "      <td>19</td>\n",
       "      <td>5</td>\n",
       "      <td>00:32:45</td>\n",
       "    </tr>\n",
       "    <tr>\n",
       "      <th>36</th>\n",
       "      <td>5205a776c50f7486728b41b4d1450636794ca5da</td>\n",
       "      <td>2019-01-29 10:52:23</td>\n",
       "      <td>2019-01-29 11:25:34</td>\n",
       "      <td>19</td>\n",
       "      <td>5</td>\n",
       "      <td>00:33:11</td>\n",
       "    </tr>\n",
       "    <tr>\n",
       "      <th>37</th>\n",
       "      <td>c834dcb25d23206f86aa3b0974a79a8345a9e41d</td>\n",
       "      <td>2019-01-29 10:53:25</td>\n",
       "      <td>2019-01-29 11:26:42</td>\n",
       "      <td>19</td>\n",
       "      <td>5</td>\n",
       "      <td>00:33:17</td>\n",
       "    </tr>\n",
       "    <tr>\n",
       "      <th>38</th>\n",
       "      <td>9c9da42eddfaf051646fb55ece541ad1a70db17b</td>\n",
       "      <td>2019-01-29 10:56:42</td>\n",
       "      <td>2019-01-29 11:27:42</td>\n",
       "      <td>19</td>\n",
       "      <td>5</td>\n",
       "      <td>00:31:00</td>\n",
       "    </tr>\n",
       "    <tr>\n",
       "      <th>39</th>\n",
       "      <td>d9ed03d442c0e8a8ffaf7c8d75126de6c1084ec2</td>\n",
       "      <td>2019-01-29 10:56:47</td>\n",
       "      <td>2019-01-29 11:28:47</td>\n",
       "      <td>19</td>\n",
       "      <td>5</td>\n",
       "      <td>00:32:00</td>\n",
       "    </tr>\n",
       "    <tr>\n",
       "      <th>40</th>\n",
       "      <td>78f58038a7963579ecae982f3bd74751430385a0</td>\n",
       "      <td>2019-01-29 10:57:08</td>\n",
       "      <td>2019-01-29 11:29:30</td>\n",
       "      <td>19</td>\n",
       "      <td>5</td>\n",
       "      <td>00:32:22</td>\n",
       "    </tr>\n",
       "    <tr>\n",
       "      <th>41</th>\n",
       "      <td>2031f7c118f3b4feec618cecc2acb795653248f9</td>\n",
       "      <td>2019-01-29 10:57:34</td>\n",
       "      <td>2019-01-29 11:29:58</td>\n",
       "      <td>19</td>\n",
       "      <td>5</td>\n",
       "      <td>00:32:24</td>\n",
       "    </tr>\n",
       "    <tr>\n",
       "      <th>42</th>\n",
       "      <td>c3be4e5c0e42bc107511aea2ed39362c9e30bba6</td>\n",
       "      <td>2019-01-29 10:57:25</td>\n",
       "      <td>2019-01-29 11:31:28</td>\n",
       "      <td>19</td>\n",
       "      <td>5</td>\n",
       "      <td>00:34:03</td>\n",
       "    </tr>\n",
       "  </tbody>\n",
       "</table>\n",
       "</div>"
      ],
      "text/plain": [
       "                                       immat          date_cam_1  \\\n",
       "0   185ec68f604a05988b65c02b12bc459c4f0de265 2019-01-29 10:00:06   \n",
       "1   5785798ab3e1cf3bcc847aad97b4417005a7ab2f 2019-01-29 10:01:45   \n",
       "2   c9d34e8987a4aa93831f8983462f12c5807d6616 2019-01-29 10:01:06   \n",
       "3   5ea04990d008f89b5d0a2d60bf02b2a2caa30c64 2019-01-29 10:02:01   \n",
       "4   8819188f3b0e6c23b7d4db4b0ac3d1265912d4bf 2019-01-29 10:04:29   \n",
       "5   a21f024252fc1d2ce07cd6ddcbcc45220e1c1e6e 2019-01-29 10:05:47   \n",
       "6   b9f76ff9fc82f3013c8ec9981411ccd2bb0e5072 2019-01-29 10:05:12   \n",
       "7   14718db4e79496c5253d670022d2907ac3d1a8d1 2019-01-29 10:05:23   \n",
       "8   41aa8b184709048dafcf456f937d8b182d25602f 2019-01-29 10:08:17   \n",
       "9   b37d6f42c823706c88b89825e935a42d696c75c2 2019-01-29 10:07:58   \n",
       "10  a9449ff480368f083512cd8cfc938933a381d427 2019-01-29 10:09:55   \n",
       "11  fa783e9061e7e80421e45c5f9bb63eb9b3669ee7 2019-01-29 10:11:11   \n",
       "12  32c74c2fd247e3be307e912920f84e4517671cf5 2019-01-29 10:13:14   \n",
       "13  4e2bbd4d7da1d5999c39cfd216dd777b0c6b0a7a 2019-01-29 10:14:12   \n",
       "14  4983c348a14e3926d47bc81f55fa0384a47b285e 2019-01-29 10:17:16   \n",
       "15  a91e5b54243305867239fc5cb9b4db241cb7433b 2019-01-29 10:19:39   \n",
       "16  ea41bf2eb86ce2dfdcfe9d1b7e452ad9afad6648 2019-01-29 10:20:09   \n",
       "17  33e81558d5bef0fb5f2d75398cd921a5119e7b8f 2019-01-29 10:20:01   \n",
       "18  be31215557984fcdd020ac67f3e3ec793f78bb5b 2019-01-29 10:21:44   \n",
       "19  e9af01ec51d1357d073b6964c57122224cb4c1e8 2019-01-29 10:22:10   \n",
       "20  73e9ef21a7ebc37e16aa594a2111c299483d822d 2019-01-29 10:22:26   \n",
       "21  2c6179f0e8cc47fe77b92e2fb0bb1e8717481542 2019-01-29 10:21:49   \n",
       "22  a11eaf32d4bed3d54c7c1d2dfe6b267936cfa383 2019-01-29 10:24:05   \n",
       "23  24af87b7f01a3e7e83932f1a13d52c7769789120 2019-01-29 10:24:59   \n",
       "24  dd5c2bbb3d81f06162a5579d091696796e3f665f 2019-01-29 10:24:49   \n",
       "25  7f0462a73c8de29533bb9553506ffbc1ef1b5af6 2019-01-29 10:30:12   \n",
       "26  85104b73168260599f0d67a1739a29cb49cb1797 2019-01-29 10:29:24   \n",
       "27  e9d3a71512e5f8081a52eb87b3bae71087586580 2019-01-29 10:40:30   \n",
       "28  d41cba376c3e17beacb3caa2bcf5c71ab7441721 2019-01-29 10:40:06   \n",
       "29  45f1d28f0d0a82e44f95177a5d0804ebbe8c7be3 2019-01-29 10:40:43   \n",
       "30  1493c4e5359d32d215661d0d40fffa8e3d92122f 2019-01-29 10:42:15   \n",
       "31  cd8d3eed730a412bda8b00dad0ae1d61dddd1e8e 2019-01-29 10:44:03   \n",
       "32  18f62ef00c24903a0bff50f34fb7cb42a77f9d46 2019-01-29 10:44:22   \n",
       "33  d8e06be2b56fb55d488abcc83fa894c34305fbd3 2019-01-29 10:48:12   \n",
       "34  962cb29646a2dd14dbc162c8797a16af2b737c81 2019-01-29 10:49:25   \n",
       "35  46a40b95a0b167f92d4bc2829027b7ae64d40434 2019-01-29 10:51:01   \n",
       "36  5205a776c50f7486728b41b4d1450636794ca5da 2019-01-29 10:52:23   \n",
       "37  c834dcb25d23206f86aa3b0974a79a8345a9e41d 2019-01-29 10:53:25   \n",
       "38  9c9da42eddfaf051646fb55ece541ad1a70db17b 2019-01-29 10:56:42   \n",
       "39  d9ed03d442c0e8a8ffaf7c8d75126de6c1084ec2 2019-01-29 10:56:47   \n",
       "40  78f58038a7963579ecae982f3bd74751430385a0 2019-01-29 10:57:08   \n",
       "41  2031f7c118f3b4feec618cecc2acb795653248f9 2019-01-29 10:57:34   \n",
       "42  c3be4e5c0e42bc107511aea2ed39362c9e30bba6 2019-01-29 10:57:25   \n",
       "\n",
       "            date_cam_2  cam_1  cam_2 tps_parcours  \n",
       "0  2019-01-29 10:33:15     19      5     00:33:09  \n",
       "1  2019-01-29 10:34:13     19      5     00:32:28  \n",
       "2  2019-01-29 10:34:56     19      5     00:33:50  \n",
       "3  2019-01-29 10:35:08     19      5     00:33:07  \n",
       "4  2019-01-29 10:37:56     19      5     00:33:27  \n",
       "5  2019-01-29 10:36:54     19      5     00:31:07  \n",
       "6  2019-01-29 10:37:20     19      5     00:32:08  \n",
       "7  2019-01-29 10:38:32     19      5     00:33:09  \n",
       "8  2019-01-29 10:40:06     19      5     00:31:49  \n",
       "9  2019-01-29 10:42:11     19      5     00:34:13  \n",
       "10 2019-01-29 10:41:36     19      5     00:31:41  \n",
       "11 2019-01-29 10:43:08     19      5     00:31:57  \n",
       "12 2019-01-29 10:45:15     19      5     00:32:01  \n",
       "13 2019-01-29 10:46:22     19      5     00:32:10  \n",
       "14 2019-01-29 10:46:31     19      5     00:29:15  \n",
       "15 2019-01-29 10:50:49     19      5     00:31:10  \n",
       "16 2019-01-29 10:52:46     19      5     00:32:37  \n",
       "17 2019-01-29 10:54:20     19      5     00:34:19  \n",
       "18 2019-01-29 10:53:55     19      5     00:32:11  \n",
       "19 2019-01-29 10:54:31     19      5     00:32:21  \n",
       "20 2019-01-29 10:55:30     19      5     00:33:04  \n",
       "21 2019-01-29 10:56:44     19      5     00:34:55  \n",
       "22 2019-01-29 10:56:31     19      5     00:32:26  \n",
       "23 2019-01-29 10:57:11     19      5     00:32:12  \n",
       "24 2019-01-29 10:59:14     19      5     00:34:25  \n",
       "25 2019-01-29 10:58:19     19      5     00:28:07  \n",
       "26 2019-01-29 10:59:40     19      5     00:30:16  \n",
       "27 2019-01-29 11:12:13     19      5     00:31:43  \n",
       "28 2019-01-29 11:12:39     19      5     00:32:33  \n",
       "29 2019-01-29 11:12:42     19      5     00:31:59  \n",
       "30 2019-01-29 11:13:15     19      5     00:31:00  \n",
       "31 2019-01-29 11:15:12     19      5     00:31:09  \n",
       "32 2019-01-29 11:18:44     19      5     00:34:22  \n",
       "33 2019-01-29 11:20:25     19      5     00:32:13  \n",
       "34 2019-01-29 11:20:42     19      5     00:31:17  \n",
       "35 2019-01-29 11:23:46     19      5     00:32:45  \n",
       "36 2019-01-29 11:25:34     19      5     00:33:11  \n",
       "37 2019-01-29 11:26:42     19      5     00:33:17  \n",
       "38 2019-01-29 11:27:42     19      5     00:31:00  \n",
       "39 2019-01-29 11:28:47     19      5     00:32:00  \n",
       "40 2019-01-29 11:29:30     19      5     00:32:22  \n",
       "41 2019-01-29 11:29:58     19      5     00:32:24  \n",
       "42 2019-01-29 11:31:28     19      5     00:34:03  "
      ]
     },
     "execution_count": 33,
     "metadata": {},
     "output_type": "execute_result"
    }
   ],
   "source": [
    "indirect_cam_19_4_5_4_5"
   ]
  },
  {
   "cell_type": "markdown",
   "metadata": {},
   "source": [
    "    Chap 2.2. Trouver les échanges directs"
   ]
  },
  {
   "cell_type": "code",
   "execution_count": 12,
   "metadata": {},
   "outputs": [],
   "source": [
    "#et on reutilie la classe df_tps_parcours, qui ne renvoi que les immat qui passent directement par la seconde cameras \n",
    "#on pourrait utiliser les données de temps max collectées par les échanges indirect pour limiter les données, là je laisse la possibilité de prendre 16h plus tard\n",
    "direct_cam19_5=t.df_tps_parcours(df_journee,'2019-01-29 08:00:00', 60, 16, 19,4)"
   ]
  },
  {
   "cell_type": "code",
   "execution_count": 13,
   "metadata": {},
   "outputs": [
    {
     "data": {
      "text/html": [
       "<div>\n",
       "<style scoped>\n",
       "    .dataframe tbody tr th:only-of-type {\n",
       "        vertical-align: middle;\n",
       "    }\n",
       "\n",
       "    .dataframe tbody tr th {\n",
       "        vertical-align: top;\n",
       "    }\n",
       "\n",
       "    .dataframe thead th {\n",
       "        text-align: right;\n",
       "    }\n",
       "</style>\n",
       "<table border=\"1\" class=\"dataframe\">\n",
       "  <thead>\n",
       "    <tr style=\"text-align: right;\">\n",
       "      <th></th>\n",
       "      <th>immat</th>\n",
       "      <th>date_cam_1</th>\n",
       "      <th>cam_1</th>\n",
       "      <th>date_cam_2</th>\n",
       "      <th>cam_2</th>\n",
       "      <th>tps_parcours</th>\n",
       "    </tr>\n",
       "  </thead>\n",
       "  <tbody>\n",
       "    <tr>\n",
       "      <th>6</th>\n",
       "      <td>91487c6d79c067fcf61212457068d36fdc59cbe8</td>\n",
       "      <td>2019-01-29 08:00:20</td>\n",
       "      <td>19</td>\n",
       "      <td>2019-01-29 08:24:40</td>\n",
       "      <td>4</td>\n",
       "      <td>00:24:20</td>\n",
       "    </tr>\n",
       "    <tr>\n",
       "      <th>10</th>\n",
       "      <td>dbcd085abfa69f5e7132ba3aca622eca1a1ecc3c</td>\n",
       "      <td>2019-01-29 08:00:50</td>\n",
       "      <td>19</td>\n",
       "      <td>2019-01-29 08:25:09</td>\n",
       "      <td>4</td>\n",
       "      <td>00:24:19</td>\n",
       "    </tr>\n",
       "    <tr>\n",
       "      <th>12</th>\n",
       "      <td>bf9dfd50a4a693085e3080156f11c25314f96f03</td>\n",
       "      <td>2019-01-29 08:00:56</td>\n",
       "      <td>19</td>\n",
       "      <td>2019-01-29 08:25:34</td>\n",
       "      <td>4</td>\n",
       "      <td>00:24:38</td>\n",
       "    </tr>\n",
       "    <tr>\n",
       "      <th>14</th>\n",
       "      <td>cf4f7ddbb3a6d9006e029777df712a53c2d76992</td>\n",
       "      <td>2019-01-29 08:01:07</td>\n",
       "      <td>19</td>\n",
       "      <td>2019-01-29 08:25:49</td>\n",
       "      <td>4</td>\n",
       "      <td>00:24:42</td>\n",
       "    </tr>\n",
       "    <tr>\n",
       "      <th>17</th>\n",
       "      <td>183bc8585ac5a2e26b6d2ada6ce6891235a36b92</td>\n",
       "      <td>2019-01-29 08:01:16</td>\n",
       "      <td>19</td>\n",
       "      <td>2019-01-29 08:26:02</td>\n",
       "      <td>4</td>\n",
       "      <td>00:24:46</td>\n",
       "    </tr>\n",
       "    <tr>\n",
       "      <th>19</th>\n",
       "      <td>cd76207e8eb624e0109cbdde7da6cf3f230a066a</td>\n",
       "      <td>2019-01-29 08:02:39</td>\n",
       "      <td>19</td>\n",
       "      <td>2019-01-29 08:26:10</td>\n",
       "      <td>4</td>\n",
       "      <td>00:23:31</td>\n",
       "    </tr>\n",
       "    <tr>\n",
       "      <th>22</th>\n",
       "      <td>dcf2ffa7638b1ae7d0281cbb94d4c7cf0a0912f7</td>\n",
       "      <td>2019-01-29 08:02:34</td>\n",
       "      <td>19</td>\n",
       "      <td>2019-01-29 08:26:14</td>\n",
       "      <td>4</td>\n",
       "      <td>00:23:40</td>\n",
       "    </tr>\n",
       "    <tr>\n",
       "      <th>25</th>\n",
       "      <td>54581cfa0b0f0c1dbe24fd60ca7efcc07439232f</td>\n",
       "      <td>2019-01-29 08:02:19</td>\n",
       "      <td>19</td>\n",
       "      <td>2019-01-29 08:26:31</td>\n",
       "      <td>4</td>\n",
       "      <td>00:24:12</td>\n",
       "    </tr>\n",
       "    <tr>\n",
       "      <th>27</th>\n",
       "      <td>78a6e15d93264dbb50b307a70af37d3315e32314</td>\n",
       "      <td>2019-01-29 08:06:15</td>\n",
       "      <td>19</td>\n",
       "      <td>2019-01-29 08:26:48</td>\n",
       "      <td>4</td>\n",
       "      <td>00:20:33</td>\n",
       "    </tr>\n",
       "    <tr>\n",
       "      <th>30</th>\n",
       "      <td>31c6bdae383e5c4f25e803d55dc539d6c40e6105</td>\n",
       "      <td>2019-01-29 08:03:06</td>\n",
       "      <td>19</td>\n",
       "      <td>2019-01-29 08:27:12</td>\n",
       "      <td>4</td>\n",
       "      <td>00:24:06</td>\n",
       "    </tr>\n",
       "    <tr>\n",
       "      <th>32</th>\n",
       "      <td>77728d75d8ee8a1e27c95ca4077faddbf9dcdd93</td>\n",
       "      <td>2019-01-29 08:03:55</td>\n",
       "      <td>19</td>\n",
       "      <td>2019-01-29 08:27:42</td>\n",
       "      <td>4</td>\n",
       "      <td>00:23:47</td>\n",
       "    </tr>\n",
       "    <tr>\n",
       "      <th>43</th>\n",
       "      <td>59148b1dc67f7b2ca10635cd4fabe903b1fd0b63</td>\n",
       "      <td>2019-01-29 08:04:14</td>\n",
       "      <td>19</td>\n",
       "      <td>2019-01-29 08:28:28</td>\n",
       "      <td>4</td>\n",
       "      <td>00:24:14</td>\n",
       "    </tr>\n",
       "    <tr>\n",
       "      <th>44</th>\n",
       "      <td>3de49b107ce9b3f1add8f9314add9f5a2cadbe50</td>\n",
       "      <td>2019-01-29 08:05:07</td>\n",
       "      <td>19</td>\n",
       "      <td>2019-01-29 08:28:53</td>\n",
       "      <td>4</td>\n",
       "      <td>00:23:46</td>\n",
       "    </tr>\n",
       "    <tr>\n",
       "      <th>58</th>\n",
       "      <td>fe3c062b2a565e11f48067171024ac706d09f9ae</td>\n",
       "      <td>2019-01-29 08:06:59</td>\n",
       "      <td>19</td>\n",
       "      <td>2019-01-29 08:31:07</td>\n",
       "      <td>4</td>\n",
       "      <td>00:24:08</td>\n",
       "    </tr>\n",
       "    <tr>\n",
       "      <th>60</th>\n",
       "      <td>2a88c4e3e59236321a2098ccc9dd4b47f2eed478</td>\n",
       "      <td>2019-01-29 08:07:23</td>\n",
       "      <td>19</td>\n",
       "      <td>2019-01-29 08:31:16</td>\n",
       "      <td>4</td>\n",
       "      <td>00:23:53</td>\n",
       "    </tr>\n",
       "    <tr>\n",
       "      <th>61</th>\n",
       "      <td>b669ebd84b382568931b0a6b2e2b04971925140b</td>\n",
       "      <td>2019-01-29 08:07:33</td>\n",
       "      <td>19</td>\n",
       "      <td>2019-01-29 08:31:26</td>\n",
       "      <td>4</td>\n",
       "      <td>00:23:53</td>\n",
       "    </tr>\n",
       "    <tr>\n",
       "      <th>65</th>\n",
       "      <td>5173f6a0a8ddf8df788408f70f14b0cd71333fd4</td>\n",
       "      <td>2019-01-29 08:08:20</td>\n",
       "      <td>19</td>\n",
       "      <td>2019-01-29 08:32:06</td>\n",
       "      <td>4</td>\n",
       "      <td>00:23:46</td>\n",
       "    </tr>\n",
       "    <tr>\n",
       "      <th>83</th>\n",
       "      <td>b19849562d778b3f0faadab5d6375d196fa00c3e</td>\n",
       "      <td>2019-01-29 08:11:31</td>\n",
       "      <td>19</td>\n",
       "      <td>2019-01-29 08:34:44</td>\n",
       "      <td>4</td>\n",
       "      <td>00:23:13</td>\n",
       "    </tr>\n",
       "    <tr>\n",
       "      <th>85</th>\n",
       "      <td>d8f1940dce090c0dd70898ade323d44a20128cf7</td>\n",
       "      <td>2019-01-29 08:12:06</td>\n",
       "      <td>19</td>\n",
       "      <td>2019-01-29 08:34:59</td>\n",
       "      <td>4</td>\n",
       "      <td>00:22:53</td>\n",
       "    </tr>\n",
       "    <tr>\n",
       "      <th>93</th>\n",
       "      <td>86e69f471e55d135cfde733fd536d2906682b662</td>\n",
       "      <td>2019-01-29 08:12:13</td>\n",
       "      <td>19</td>\n",
       "      <td>2019-01-29 08:35:43</td>\n",
       "      <td>4</td>\n",
       "      <td>00:23:30</td>\n",
       "    </tr>\n",
       "    <tr>\n",
       "      <th>99</th>\n",
       "      <td>07f533c82778a42f4827e08e685d809e36017390</td>\n",
       "      <td>2019-01-29 08:13:13</td>\n",
       "      <td>19</td>\n",
       "      <td>2019-01-29 08:36:42</td>\n",
       "      <td>4</td>\n",
       "      <td>00:23:29</td>\n",
       "    </tr>\n",
       "    <tr>\n",
       "      <th>126</th>\n",
       "      <td>966a417dbf704d3e09d6928a1665edfb85b5a9b6</td>\n",
       "      <td>2019-01-29 08:29:40</td>\n",
       "      <td>19</td>\n",
       "      <td>2019-01-29 08:39:28</td>\n",
       "      <td>4</td>\n",
       "      <td>00:09:48</td>\n",
       "    </tr>\n",
       "    <tr>\n",
       "      <th>128</th>\n",
       "      <td>837898ee18a5c0fb78ac9c1001068fcb7c888550</td>\n",
       "      <td>2019-01-29 08:16:29</td>\n",
       "      <td>19</td>\n",
       "      <td>2019-01-29 08:39:38</td>\n",
       "      <td>4</td>\n",
       "      <td>00:23:09</td>\n",
       "    </tr>\n",
       "    <tr>\n",
       "      <th>136</th>\n",
       "      <td>0e0243df15c09bd77b1ad1167a41b708c2f7a47e</td>\n",
       "      <td>2019-01-29 08:18:17</td>\n",
       "      <td>19</td>\n",
       "      <td>2019-01-29 08:40:24</td>\n",
       "      <td>4</td>\n",
       "      <td>00:22:07</td>\n",
       "    </tr>\n",
       "    <tr>\n",
       "      <th>142</th>\n",
       "      <td>e58eca289763b42de713315b9705122edb11e459</td>\n",
       "      <td>2019-01-29 08:20:29</td>\n",
       "      <td>19</td>\n",
       "      <td>2019-01-29 08:40:56</td>\n",
       "      <td>4</td>\n",
       "      <td>00:20:27</td>\n",
       "    </tr>\n",
       "    <tr>\n",
       "      <th>144</th>\n",
       "      <td>11bec9781f63a9c6ed13dc8e9b73af792f9830c9</td>\n",
       "      <td>2019-01-29 08:20:21</td>\n",
       "      <td>19</td>\n",
       "      <td>2019-01-29 08:41:28</td>\n",
       "      <td>4</td>\n",
       "      <td>00:21:07</td>\n",
       "    </tr>\n",
       "    <tr>\n",
       "      <th>146</th>\n",
       "      <td>ab223cbc1460ca87fda3802d16b37ae9f793dc1e</td>\n",
       "      <td>2019-01-29 08:06:41</td>\n",
       "      <td>19</td>\n",
       "      <td>2019-01-29 08:41:42</td>\n",
       "      <td>4</td>\n",
       "      <td>00:35:01</td>\n",
       "    </tr>\n",
       "    <tr>\n",
       "      <th>147</th>\n",
       "      <td>bd00a061a3d665bfbae3a1601c4808f329060c96</td>\n",
       "      <td>2019-01-29 08:20:40</td>\n",
       "      <td>19</td>\n",
       "      <td>2019-01-29 08:41:50</td>\n",
       "      <td>4</td>\n",
       "      <td>00:21:10</td>\n",
       "    </tr>\n",
       "    <tr>\n",
       "      <th>149</th>\n",
       "      <td>79974a434856bb71e13c30992f0d169a1a4a66fc</td>\n",
       "      <td>2019-01-29 08:20:55</td>\n",
       "      <td>19</td>\n",
       "      <td>2019-01-29 08:41:58</td>\n",
       "      <td>4</td>\n",
       "      <td>00:21:03</td>\n",
       "    </tr>\n",
       "    <tr>\n",
       "      <th>154</th>\n",
       "      <td>f2e470f4d6b5c0692705d44b98d3a2238f3bdcda</td>\n",
       "      <td>2019-01-29 08:21:42</td>\n",
       "      <td>19</td>\n",
       "      <td>2019-01-29 08:42:49</td>\n",
       "      <td>4</td>\n",
       "      <td>00:21:07</td>\n",
       "    </tr>\n",
       "    <tr>\n",
       "      <th>...</th>\n",
       "      <td>...</td>\n",
       "      <td>...</td>\n",
       "      <td>...</td>\n",
       "      <td>...</td>\n",
       "      <td>...</td>\n",
       "      <td>...</td>\n",
       "    </tr>\n",
       "    <tr>\n",
       "      <th>398</th>\n",
       "      <td>8a9adb7042a29470071bd93bceaf6e420f1df3c2</td>\n",
       "      <td>2019-01-29 08:50:20</td>\n",
       "      <td>19</td>\n",
       "      <td>2019-01-29 09:10:48</td>\n",
       "      <td>4</td>\n",
       "      <td>00:20:28</td>\n",
       "    </tr>\n",
       "    <tr>\n",
       "      <th>399</th>\n",
       "      <td>97f7208c920cfd0b379f074cfa1ff832b28538fd</td>\n",
       "      <td>2019-01-29 08:49:23</td>\n",
       "      <td>19</td>\n",
       "      <td>2019-01-29 09:10:48</td>\n",
       "      <td>4</td>\n",
       "      <td>00:21:25</td>\n",
       "    </tr>\n",
       "    <tr>\n",
       "      <th>403</th>\n",
       "      <td>232f84834d860bcc9c11b8c6bc2c0467f53cb00a</td>\n",
       "      <td>2019-01-29 08:50:06</td>\n",
       "      <td>19</td>\n",
       "      <td>2019-01-29 09:11:00</td>\n",
       "      <td>4</td>\n",
       "      <td>00:20:54</td>\n",
       "    </tr>\n",
       "    <tr>\n",
       "      <th>406</th>\n",
       "      <td>ff2e903df559805c63c9e777856192ed51845337</td>\n",
       "      <td>2019-01-29 08:49:37</td>\n",
       "      <td>19</td>\n",
       "      <td>2019-01-29 09:11:09</td>\n",
       "      <td>4</td>\n",
       "      <td>00:21:32</td>\n",
       "    </tr>\n",
       "    <tr>\n",
       "      <th>409</th>\n",
       "      <td>39f21437744f4ed25450bf3119d3007744a32f8c</td>\n",
       "      <td>2019-01-29 08:50:59</td>\n",
       "      <td>19</td>\n",
       "      <td>2019-01-29 09:11:45</td>\n",
       "      <td>4</td>\n",
       "      <td>00:20:46</td>\n",
       "    </tr>\n",
       "    <tr>\n",
       "      <th>411</th>\n",
       "      <td>9cbae165f2225286a9cd3e4531abb4c4e0603f32</td>\n",
       "      <td>2019-01-29 08:51:57</td>\n",
       "      <td>19</td>\n",
       "      <td>2019-01-29 09:11:56</td>\n",
       "      <td>4</td>\n",
       "      <td>00:19:59</td>\n",
       "    </tr>\n",
       "    <tr>\n",
       "      <th>413</th>\n",
       "      <td>214d6b86318b472f8654918e2a05d12bf6107809</td>\n",
       "      <td>2019-01-29 08:52:24</td>\n",
       "      <td>19</td>\n",
       "      <td>2019-01-29 09:12:46</td>\n",
       "      <td>4</td>\n",
       "      <td>00:20:22</td>\n",
       "    </tr>\n",
       "    <tr>\n",
       "      <th>415</th>\n",
       "      <td>74458bf3199b4aeaa7c7808b02d5c170fbd650c7</td>\n",
       "      <td>2019-01-29 08:52:32</td>\n",
       "      <td>19</td>\n",
       "      <td>2019-01-29 09:12:54</td>\n",
       "      <td>4</td>\n",
       "      <td>00:20:22</td>\n",
       "    </tr>\n",
       "    <tr>\n",
       "      <th>417</th>\n",
       "      <td>85e5a77f244a09f92c13ea4771dbd2bdf8c0a81a</td>\n",
       "      <td>2019-01-29 08:52:50</td>\n",
       "      <td>19</td>\n",
       "      <td>2019-01-29 09:13:05</td>\n",
       "      <td>4</td>\n",
       "      <td>00:20:15</td>\n",
       "    </tr>\n",
       "    <tr>\n",
       "      <th>418</th>\n",
       "      <td>a5c321613b1856762c53bc451b50aca46ba21a8b</td>\n",
       "      <td>2019-01-29 08:52:39</td>\n",
       "      <td>19</td>\n",
       "      <td>2019-01-29 09:13:19</td>\n",
       "      <td>4</td>\n",
       "      <td>00:20:40</td>\n",
       "    </tr>\n",
       "    <tr>\n",
       "      <th>421</th>\n",
       "      <td>b6a0a8bc25839592758497678774ff22611a8c2c</td>\n",
       "      <td>2019-01-29 08:52:55</td>\n",
       "      <td>19</td>\n",
       "      <td>2019-01-29 09:13:33</td>\n",
       "      <td>4</td>\n",
       "      <td>00:20:38</td>\n",
       "    </tr>\n",
       "    <tr>\n",
       "      <th>424</th>\n",
       "      <td>48dc7d35cc87be188444231aac8543928dcca857</td>\n",
       "      <td>2019-01-29 08:52:58</td>\n",
       "      <td>19</td>\n",
       "      <td>2019-01-29 09:13:48</td>\n",
       "      <td>4</td>\n",
       "      <td>00:20:50</td>\n",
       "    </tr>\n",
       "    <tr>\n",
       "      <th>427</th>\n",
       "      <td>eed964834dfb99b6d544003e14a8f141b4d44d78</td>\n",
       "      <td>2019-01-29 08:53:26</td>\n",
       "      <td>19</td>\n",
       "      <td>2019-01-29 09:14:01</td>\n",
       "      <td>4</td>\n",
       "      <td>00:20:35</td>\n",
       "    </tr>\n",
       "    <tr>\n",
       "      <th>428</th>\n",
       "      <td>77250caae16e04e10a508174a03a6a0d47dd8eaa</td>\n",
       "      <td>2019-01-29 08:53:45</td>\n",
       "      <td>19</td>\n",
       "      <td>2019-01-29 09:14:06</td>\n",
       "      <td>4</td>\n",
       "      <td>00:20:21</td>\n",
       "    </tr>\n",
       "    <tr>\n",
       "      <th>432</th>\n",
       "      <td>bfdd5985a2e325d449c7ff995e7f76db36c3152b</td>\n",
       "      <td>2019-01-29 08:54:22</td>\n",
       "      <td>19</td>\n",
       "      <td>2019-01-29 09:14:32</td>\n",
       "      <td>4</td>\n",
       "      <td>00:20:10</td>\n",
       "    </tr>\n",
       "    <tr>\n",
       "      <th>436</th>\n",
       "      <td>9b3373d6ea7cdf14ba7d8a18447d59797e6102b3</td>\n",
       "      <td>2019-01-29 08:54:30</td>\n",
       "      <td>19</td>\n",
       "      <td>2019-01-29 09:14:45</td>\n",
       "      <td>4</td>\n",
       "      <td>00:20:15</td>\n",
       "    </tr>\n",
       "    <tr>\n",
       "      <th>445</th>\n",
       "      <td>ed0984fefadfe837c1ee45c8b22dbfad97ba33b4</td>\n",
       "      <td>2019-01-29 08:55:06</td>\n",
       "      <td>19</td>\n",
       "      <td>2019-01-29 09:15:42</td>\n",
       "      <td>4</td>\n",
       "      <td>00:20:36</td>\n",
       "    </tr>\n",
       "    <tr>\n",
       "      <th>449</th>\n",
       "      <td>110865461e4c0c1136087c868bd60269651a615e</td>\n",
       "      <td>2019-01-29 08:56:34</td>\n",
       "      <td>19</td>\n",
       "      <td>2019-01-29 09:16:06</td>\n",
       "      <td>4</td>\n",
       "      <td>00:19:32</td>\n",
       "    </tr>\n",
       "    <tr>\n",
       "      <th>454</th>\n",
       "      <td>586916781409a481081fe385efe1c5a81a891c3f</td>\n",
       "      <td>2019-01-29 08:56:41</td>\n",
       "      <td>19</td>\n",
       "      <td>2019-01-29 09:16:36</td>\n",
       "      <td>4</td>\n",
       "      <td>00:19:55</td>\n",
       "    </tr>\n",
       "    <tr>\n",
       "      <th>455</th>\n",
       "      <td>3263e27f1271dfecf34ce4ada1ec4e5fa7f63598</td>\n",
       "      <td>2019-01-29 08:56:18</td>\n",
       "      <td>19</td>\n",
       "      <td>2019-01-29 09:16:41</td>\n",
       "      <td>4</td>\n",
       "      <td>00:20:23</td>\n",
       "    </tr>\n",
       "    <tr>\n",
       "      <th>456</th>\n",
       "      <td>323291862da68b87d856782538c67dec94ba9e72</td>\n",
       "      <td>2019-01-29 08:56:28</td>\n",
       "      <td>19</td>\n",
       "      <td>2019-01-29 09:16:43</td>\n",
       "      <td>4</td>\n",
       "      <td>00:20:15</td>\n",
       "    </tr>\n",
       "    <tr>\n",
       "      <th>457</th>\n",
       "      <td>de7a60600757429632a9f446b82b614c6541e2b5</td>\n",
       "      <td>2019-01-29 08:57:00</td>\n",
       "      <td>19</td>\n",
       "      <td>2019-01-29 09:16:49</td>\n",
       "      <td>4</td>\n",
       "      <td>00:19:49</td>\n",
       "    </tr>\n",
       "    <tr>\n",
       "      <th>458</th>\n",
       "      <td>d1035126f823cda002eda7bd6e8846d4c036529a</td>\n",
       "      <td>2019-01-29 08:57:28</td>\n",
       "      <td>19</td>\n",
       "      <td>2019-01-29 09:17:16</td>\n",
       "      <td>4</td>\n",
       "      <td>00:19:48</td>\n",
       "    </tr>\n",
       "    <tr>\n",
       "      <th>460</th>\n",
       "      <td>d199aba785a3820b27fa6bc565ded9b55cdfcd75</td>\n",
       "      <td>2019-01-29 08:57:58</td>\n",
       "      <td>19</td>\n",
       "      <td>2019-01-29 09:18:09</td>\n",
       "      <td>4</td>\n",
       "      <td>00:20:11</td>\n",
       "    </tr>\n",
       "    <tr>\n",
       "      <th>461</th>\n",
       "      <td>d512f9992a8698c578bffd621e4c9ae501d55628</td>\n",
       "      <td>2019-01-29 08:58:19</td>\n",
       "      <td>19</td>\n",
       "      <td>2019-01-29 09:18:17</td>\n",
       "      <td>4</td>\n",
       "      <td>00:19:58</td>\n",
       "    </tr>\n",
       "    <tr>\n",
       "      <th>465</th>\n",
       "      <td>b1f4345a48f7b62cf3c1cec0a90e9d80cba70a5a</td>\n",
       "      <td>2019-01-29 08:59:03</td>\n",
       "      <td>19</td>\n",
       "      <td>2019-01-29 09:19:27</td>\n",
       "      <td>4</td>\n",
       "      <td>00:20:24</td>\n",
       "    </tr>\n",
       "    <tr>\n",
       "      <th>467</th>\n",
       "      <td>c85c801f4a621c41007bfb4a562d114167f56f1e</td>\n",
       "      <td>2019-01-29 08:59:39</td>\n",
       "      <td>19</td>\n",
       "      <td>2019-01-29 09:19:42</td>\n",
       "      <td>4</td>\n",
       "      <td>00:20:03</td>\n",
       "    </tr>\n",
       "    <tr>\n",
       "      <th>468</th>\n",
       "      <td>b4f1a3799f5b9afd77f8ca32552f2bcdc7bff4e3</td>\n",
       "      <td>2019-01-29 08:59:50</td>\n",
       "      <td>19</td>\n",
       "      <td>2019-01-29 09:19:44</td>\n",
       "      <td>4</td>\n",
       "      <td>00:19:54</td>\n",
       "    </tr>\n",
       "    <tr>\n",
       "      <th>469</th>\n",
       "      <td>63a28b8a61b99c413cd15694f6485742252d7ecb</td>\n",
       "      <td>2019-01-29 08:59:43</td>\n",
       "      <td>19</td>\n",
       "      <td>2019-01-29 09:19:48</td>\n",
       "      <td>4</td>\n",
       "      <td>00:20:05</td>\n",
       "    </tr>\n",
       "    <tr>\n",
       "      <th>476</th>\n",
       "      <td>bcb6bb7b972feeff02aaed5929b92b5051c598f1</td>\n",
       "      <td>2019-01-29 09:00:00</td>\n",
       "      <td>19</td>\n",
       "      <td>2019-01-29 09:26:56</td>\n",
       "      <td>4</td>\n",
       "      <td>00:26:56</td>\n",
       "    </tr>\n",
       "  </tbody>\n",
       "</table>\n",
       "<p>136 rows × 6 columns</p>\n",
       "</div>"
      ],
      "text/plain": [
       "                                        immat          date_cam_1  cam_1  \\\n",
       "6    91487c6d79c067fcf61212457068d36fdc59cbe8 2019-01-29 08:00:20     19   \n",
       "10   dbcd085abfa69f5e7132ba3aca622eca1a1ecc3c 2019-01-29 08:00:50     19   \n",
       "12   bf9dfd50a4a693085e3080156f11c25314f96f03 2019-01-29 08:00:56     19   \n",
       "14   cf4f7ddbb3a6d9006e029777df712a53c2d76992 2019-01-29 08:01:07     19   \n",
       "17   183bc8585ac5a2e26b6d2ada6ce6891235a36b92 2019-01-29 08:01:16     19   \n",
       "19   cd76207e8eb624e0109cbdde7da6cf3f230a066a 2019-01-29 08:02:39     19   \n",
       "22   dcf2ffa7638b1ae7d0281cbb94d4c7cf0a0912f7 2019-01-29 08:02:34     19   \n",
       "25   54581cfa0b0f0c1dbe24fd60ca7efcc07439232f 2019-01-29 08:02:19     19   \n",
       "27   78a6e15d93264dbb50b307a70af37d3315e32314 2019-01-29 08:06:15     19   \n",
       "30   31c6bdae383e5c4f25e803d55dc539d6c40e6105 2019-01-29 08:03:06     19   \n",
       "32   77728d75d8ee8a1e27c95ca4077faddbf9dcdd93 2019-01-29 08:03:55     19   \n",
       "43   59148b1dc67f7b2ca10635cd4fabe903b1fd0b63 2019-01-29 08:04:14     19   \n",
       "44   3de49b107ce9b3f1add8f9314add9f5a2cadbe50 2019-01-29 08:05:07     19   \n",
       "58   fe3c062b2a565e11f48067171024ac706d09f9ae 2019-01-29 08:06:59     19   \n",
       "60   2a88c4e3e59236321a2098ccc9dd4b47f2eed478 2019-01-29 08:07:23     19   \n",
       "61   b669ebd84b382568931b0a6b2e2b04971925140b 2019-01-29 08:07:33     19   \n",
       "65   5173f6a0a8ddf8df788408f70f14b0cd71333fd4 2019-01-29 08:08:20     19   \n",
       "83   b19849562d778b3f0faadab5d6375d196fa00c3e 2019-01-29 08:11:31     19   \n",
       "85   d8f1940dce090c0dd70898ade323d44a20128cf7 2019-01-29 08:12:06     19   \n",
       "93   86e69f471e55d135cfde733fd536d2906682b662 2019-01-29 08:12:13     19   \n",
       "99   07f533c82778a42f4827e08e685d809e36017390 2019-01-29 08:13:13     19   \n",
       "126  966a417dbf704d3e09d6928a1665edfb85b5a9b6 2019-01-29 08:29:40     19   \n",
       "128  837898ee18a5c0fb78ac9c1001068fcb7c888550 2019-01-29 08:16:29     19   \n",
       "136  0e0243df15c09bd77b1ad1167a41b708c2f7a47e 2019-01-29 08:18:17     19   \n",
       "142  e58eca289763b42de713315b9705122edb11e459 2019-01-29 08:20:29     19   \n",
       "144  11bec9781f63a9c6ed13dc8e9b73af792f9830c9 2019-01-29 08:20:21     19   \n",
       "146  ab223cbc1460ca87fda3802d16b37ae9f793dc1e 2019-01-29 08:06:41     19   \n",
       "147  bd00a061a3d665bfbae3a1601c4808f329060c96 2019-01-29 08:20:40     19   \n",
       "149  79974a434856bb71e13c30992f0d169a1a4a66fc 2019-01-29 08:20:55     19   \n",
       "154  f2e470f4d6b5c0692705d44b98d3a2238f3bdcda 2019-01-29 08:21:42     19   \n",
       "..                                        ...                 ...    ...   \n",
       "398  8a9adb7042a29470071bd93bceaf6e420f1df3c2 2019-01-29 08:50:20     19   \n",
       "399  97f7208c920cfd0b379f074cfa1ff832b28538fd 2019-01-29 08:49:23     19   \n",
       "403  232f84834d860bcc9c11b8c6bc2c0467f53cb00a 2019-01-29 08:50:06     19   \n",
       "406  ff2e903df559805c63c9e777856192ed51845337 2019-01-29 08:49:37     19   \n",
       "409  39f21437744f4ed25450bf3119d3007744a32f8c 2019-01-29 08:50:59     19   \n",
       "411  9cbae165f2225286a9cd3e4531abb4c4e0603f32 2019-01-29 08:51:57     19   \n",
       "413  214d6b86318b472f8654918e2a05d12bf6107809 2019-01-29 08:52:24     19   \n",
       "415  74458bf3199b4aeaa7c7808b02d5c170fbd650c7 2019-01-29 08:52:32     19   \n",
       "417  85e5a77f244a09f92c13ea4771dbd2bdf8c0a81a 2019-01-29 08:52:50     19   \n",
       "418  a5c321613b1856762c53bc451b50aca46ba21a8b 2019-01-29 08:52:39     19   \n",
       "421  b6a0a8bc25839592758497678774ff22611a8c2c 2019-01-29 08:52:55     19   \n",
       "424  48dc7d35cc87be188444231aac8543928dcca857 2019-01-29 08:52:58     19   \n",
       "427  eed964834dfb99b6d544003e14a8f141b4d44d78 2019-01-29 08:53:26     19   \n",
       "428  77250caae16e04e10a508174a03a6a0d47dd8eaa 2019-01-29 08:53:45     19   \n",
       "432  bfdd5985a2e325d449c7ff995e7f76db36c3152b 2019-01-29 08:54:22     19   \n",
       "436  9b3373d6ea7cdf14ba7d8a18447d59797e6102b3 2019-01-29 08:54:30     19   \n",
       "445  ed0984fefadfe837c1ee45c8b22dbfad97ba33b4 2019-01-29 08:55:06     19   \n",
       "449  110865461e4c0c1136087c868bd60269651a615e 2019-01-29 08:56:34     19   \n",
       "454  586916781409a481081fe385efe1c5a81a891c3f 2019-01-29 08:56:41     19   \n",
       "455  3263e27f1271dfecf34ce4ada1ec4e5fa7f63598 2019-01-29 08:56:18     19   \n",
       "456  323291862da68b87d856782538c67dec94ba9e72 2019-01-29 08:56:28     19   \n",
       "457  de7a60600757429632a9f446b82b614c6541e2b5 2019-01-29 08:57:00     19   \n",
       "458  d1035126f823cda002eda7bd6e8846d4c036529a 2019-01-29 08:57:28     19   \n",
       "460  d199aba785a3820b27fa6bc565ded9b55cdfcd75 2019-01-29 08:57:58     19   \n",
       "461  d512f9992a8698c578bffd621e4c9ae501d55628 2019-01-29 08:58:19     19   \n",
       "465  b1f4345a48f7b62cf3c1cec0a90e9d80cba70a5a 2019-01-29 08:59:03     19   \n",
       "467  c85c801f4a621c41007bfb4a562d114167f56f1e 2019-01-29 08:59:39     19   \n",
       "468  b4f1a3799f5b9afd77f8ca32552f2bcdc7bff4e3 2019-01-29 08:59:50     19   \n",
       "469  63a28b8a61b99c413cd15694f6485742252d7ecb 2019-01-29 08:59:43     19   \n",
       "476  bcb6bb7b972feeff02aaed5929b92b5051c598f1 2019-01-29 09:00:00     19   \n",
       "\n",
       "             date_cam_2  cam_2 tps_parcours  \n",
       "6   2019-01-29 08:24:40      4     00:24:20  \n",
       "10  2019-01-29 08:25:09      4     00:24:19  \n",
       "12  2019-01-29 08:25:34      4     00:24:38  \n",
       "14  2019-01-29 08:25:49      4     00:24:42  \n",
       "17  2019-01-29 08:26:02      4     00:24:46  \n",
       "19  2019-01-29 08:26:10      4     00:23:31  \n",
       "22  2019-01-29 08:26:14      4     00:23:40  \n",
       "25  2019-01-29 08:26:31      4     00:24:12  \n",
       "27  2019-01-29 08:26:48      4     00:20:33  \n",
       "30  2019-01-29 08:27:12      4     00:24:06  \n",
       "32  2019-01-29 08:27:42      4     00:23:47  \n",
       "43  2019-01-29 08:28:28      4     00:24:14  \n",
       "44  2019-01-29 08:28:53      4     00:23:46  \n",
       "58  2019-01-29 08:31:07      4     00:24:08  \n",
       "60  2019-01-29 08:31:16      4     00:23:53  \n",
       "61  2019-01-29 08:31:26      4     00:23:53  \n",
       "65  2019-01-29 08:32:06      4     00:23:46  \n",
       "83  2019-01-29 08:34:44      4     00:23:13  \n",
       "85  2019-01-29 08:34:59      4     00:22:53  \n",
       "93  2019-01-29 08:35:43      4     00:23:30  \n",
       "99  2019-01-29 08:36:42      4     00:23:29  \n",
       "126 2019-01-29 08:39:28      4     00:09:48  \n",
       "128 2019-01-29 08:39:38      4     00:23:09  \n",
       "136 2019-01-29 08:40:24      4     00:22:07  \n",
       "142 2019-01-29 08:40:56      4     00:20:27  \n",
       "144 2019-01-29 08:41:28      4     00:21:07  \n",
       "146 2019-01-29 08:41:42      4     00:35:01  \n",
       "147 2019-01-29 08:41:50      4     00:21:10  \n",
       "149 2019-01-29 08:41:58      4     00:21:03  \n",
       "154 2019-01-29 08:42:49      4     00:21:07  \n",
       "..                  ...    ...          ...  \n",
       "398 2019-01-29 09:10:48      4     00:20:28  \n",
       "399 2019-01-29 09:10:48      4     00:21:25  \n",
       "403 2019-01-29 09:11:00      4     00:20:54  \n",
       "406 2019-01-29 09:11:09      4     00:21:32  \n",
       "409 2019-01-29 09:11:45      4     00:20:46  \n",
       "411 2019-01-29 09:11:56      4     00:19:59  \n",
       "413 2019-01-29 09:12:46      4     00:20:22  \n",
       "415 2019-01-29 09:12:54      4     00:20:22  \n",
       "417 2019-01-29 09:13:05      4     00:20:15  \n",
       "418 2019-01-29 09:13:19      4     00:20:40  \n",
       "421 2019-01-29 09:13:33      4     00:20:38  \n",
       "424 2019-01-29 09:13:48      4     00:20:50  \n",
       "427 2019-01-29 09:14:01      4     00:20:35  \n",
       "428 2019-01-29 09:14:06      4     00:20:21  \n",
       "432 2019-01-29 09:14:32      4     00:20:10  \n",
       "436 2019-01-29 09:14:45      4     00:20:15  \n",
       "445 2019-01-29 09:15:42      4     00:20:36  \n",
       "449 2019-01-29 09:16:06      4     00:19:32  \n",
       "454 2019-01-29 09:16:36      4     00:19:55  \n",
       "455 2019-01-29 09:16:41      4     00:20:23  \n",
       "456 2019-01-29 09:16:43      4     00:20:15  \n",
       "457 2019-01-29 09:16:49      4     00:19:49  \n",
       "458 2019-01-29 09:17:16      4     00:19:48  \n",
       "460 2019-01-29 09:18:09      4     00:20:11  \n",
       "461 2019-01-29 09:18:17      4     00:19:58  \n",
       "465 2019-01-29 09:19:27      4     00:20:24  \n",
       "467 2019-01-29 09:19:42      4     00:20:03  \n",
       "468 2019-01-29 09:19:44      4     00:19:54  \n",
       "469 2019-01-29 09:19:48      4     00:20:05  \n",
       "476 2019-01-29 09:26:56      4     00:26:56  \n",
       "\n",
       "[136 rows x 6 columns]"
      ]
     },
     "execution_count": 13,
     "metadata": {},
     "output_type": "execute_result"
    }
   ],
   "source": [
    "direct_cam19_5.df_tps_parcours_pl_final#on pourrait aussi limiter les donnees obtenues selon les temps de parcours par trajet indirects"
   ]
  },
  {
   "cell_type": "code",
   "execution_count": 96,
   "metadata": {},
   "outputs": [],
   "source": [
    "graoh1, praph2, legend2 =direct_cam19_5.plot_graphs()"
   ]
  },
  {
   "cell_type": "code",
   "execution_count": 97,
   "metadata": {},
   "outputs": [
    {
     "data": {
      "application/vnd.vegalite.v2+json": {
       "$schema": "https://vega.github.io/schema/vega-lite/v2.6.0.json",
       "config": {
        "view": {
         "height": 300,
         "width": 400
        }
       },
       "datasets": {
        "data-e4fbcda6c73e60313b0a79ed91b5b3d5": [
         {
          "created_x": "2019-01-29T08:02:04",
          "l": 1,
          "tps_parcours": "2018-01-01T00:34:54"
         },
         {
          "created_x": "2019-01-29T08:07:14",
          "l": 0,
          "tps_parcours": "2018-01-01T00:30:47"
         },
         {
          "created_x": "2019-01-29T08:01:30",
          "l": 0,
          "tps_parcours": "2018-01-01T00:38:45"
         },
         {
          "created_x": "2019-01-29T08:07:36",
          "l": 1,
          "tps_parcours": "2018-01-01T00:33:47"
         },
         {
          "created_x": "2019-01-29T08:14:13",
          "l": 0,
          "tps_parcours": "2018-01-01T00:29:57"
         },
         {
          "created_x": "2019-01-29T08:11:25",
          "l": 1,
          "tps_parcours": "2018-01-01T00:33:29"
         },
         {
          "created_x": "2019-01-29T08:14:52",
          "l": 1,
          "tps_parcours": "2018-01-01T00:32:41"
         },
         {
          "created_x": "2019-01-29T08:20:46",
          "l": 0,
          "tps_parcours": "2018-01-01T00:27:29"
         },
         {
          "created_x": "2019-01-29T08:19:06",
          "l": -1,
          "tps_parcours": "2018-01-01T00:31:54"
         },
         {
          "created_x": "2019-01-29T08:25:54",
          "l": 0,
          "tps_parcours": "2018-01-01T00:27:08"
         },
         {
          "created_x": "2019-01-29T08:33:11",
          "l": 1,
          "tps_parcours": "2018-01-01T00:25:13"
         },
         {
          "created_x": "2019-01-29T08:28:16",
          "l": -1,
          "tps_parcours": "2018-01-01T00:30:58"
         },
         {
          "created_x": "2019-01-29T08:28:27",
          "l": -1,
          "tps_parcours": "2018-01-01T00:31:52"
         },
         {
          "created_x": "2019-01-29T08:14:52",
          "l": 1,
          "tps_parcours": "2018-01-01T00:46:21"
         },
         {
          "created_x": "2019-01-29T08:31:20",
          "l": 1,
          "tps_parcours": "2018-01-01T00:30:15"
         },
         {
          "created_x": "2019-01-29T08:29:18",
          "l": 1,
          "tps_parcours": "2018-01-01T00:32:18"
         },
         {
          "created_x": "2019-01-29T08:39:22",
          "l": 0,
          "tps_parcours": "2018-01-01T00:25:12"
         },
         {
          "created_x": "2019-01-29T08:40:31",
          "l": 0,
          "tps_parcours": "2018-01-01T00:24:31"
         },
         {
          "created_x": "2019-01-29T08:36:21",
          "l": -1,
          "tps_parcours": "2018-01-01T00:30:57"
         },
         {
          "created_x": "2019-01-29T08:34:47",
          "l": 0,
          "tps_parcours": "2018-01-01T00:32:59"
         },
         {
          "created_x": "2019-01-29T08:31:36",
          "l": -1,
          "tps_parcours": "2018-01-01T00:40:15"
         },
         {
          "created_x": "2019-01-29T08:49:36",
          "l": 0,
          "tps_parcours": "2018-01-01T00:24:29"
         },
         {
          "created_x": "2019-01-29T08:48:27",
          "l": 1,
          "tps_parcours": "2018-01-01T00:26:25"
         },
         {
          "created_x": "2019-01-29T08:54:26",
          "l": 0,
          "tps_parcours": "2018-01-01T00:25:08"
         },
         {
          "created_x": "2019-01-29T08:12:21",
          "l": 1,
          "tps_parcours": "2018-01-01T01:07:31"
         },
         {
          "created_x": "2019-01-29T08:47:50",
          "l": 1,
          "tps_parcours": "2018-01-01T00:32:17"
         },
         {
          "created_x": "2019-01-29T08:48:46",
          "l": 1,
          "tps_parcours": "2018-01-01T00:32:41"
         },
         {
          "created_x": "2019-01-29T08:56:36",
          "l": 0,
          "tps_parcours": "2018-01-01T00:25:31"
         },
         {
          "created_x": "2019-01-29T08:52:39",
          "l": 1,
          "tps_parcours": "2018-01-01T00:31:53"
         },
         {
          "created_x": "2019-01-29T08:54:52",
          "l": 1,
          "tps_parcours": "2018-01-01T00:31:01"
         },
         {
          "created_x": "2019-01-29T08:59:25",
          "l": -1,
          "tps_parcours": "2018-01-01T00:30:02"
         },
         {
          "created_x": "2019-01-29T08:59:15",
          "l": -1,
          "tps_parcours": "2018-01-01T00:30:34"
         },
         {
          "created_x": "2019-01-29T08:55:30",
          "l": 0,
          "tps_parcours": "2018-01-01T00:35:58"
         },
         {
          "created_x": "2019-01-29T08:34:38",
          "l": 0,
          "tps_parcours": "2018-01-01T01:05:26"
         },
         {
          "created_x": "2019-01-29T08:17:47",
          "l": 0,
          "tps_parcours": "2018-01-01T01:26:28"
         },
         {
          "created_x": "2019-01-29T08:24:40",
          "l": 1,
          "tps_parcours": "2018-01-01T01:25:03"
         },
         {
          "created_x": "2019-01-29T08:43:49",
          "l": 1,
          "tps_parcours": "2018-01-01T01:08:19"
         },
         {
          "created_x": "2019-01-29T08:39:20",
          "l": 1,
          "tps_parcours": "2018-01-01T01:39:39"
         },
         {
          "created_x": "2019-01-29T08:51:11",
          "l": -1,
          "tps_parcours": "2018-01-01T01:57:12"
         },
         {
          "created_x": "2019-01-29T08:20:43",
          "l": -1,
          "tps_parcours": "2018-01-01T04:58:52"
         }
        ]
       },
       "hconcat": [
        {
         "data": {
          "name": "data-e4fbcda6c73e60313b0a79ed91b5b3d5"
         },
         "encoding": {
          "color": {
           "condition": {
            "field": "l",
            "legend": null,
            "selection": "selector009",
            "type": "nominal"
           },
           "value": "lightgray"
          },
          "shape": {
           "field": "l",
           "type": "quantitative"
          },
          "tooltip": {
           "field": "tps_parcours",
           "type": "temporal"
          },
          "x": {
           "field": "created_x",
           "type": "temporal"
          },
          "y": {
           "field": "tps_parcours",
           "timeUnit": "hoursminutes",
           "type": "temporal"
          }
         },
         "mark": "point"
        },
        {
         "data": {
          "name": "data-e4fbcda6c73e60313b0a79ed91b5b3d5"
         },
         "encoding": {
          "color": {
           "condition": {
            "field": "l",
            "legend": null,
            "selection": "selector009",
            "type": "nominal"
           },
           "value": "lightgray"
          },
          "shape": {
           "field": "l",
           "type": "quantitative"
          },
          "y": {
           "axis": {
            "orient": "right"
           },
           "field": "l",
           "type": "quantitative"
          }
         },
         "mark": "point",
         "selection": {
          "selector009": {
           "empty": "all",
           "fields": [
            "l"
           ],
           "on": "click",
           "resolve": "global",
           "toggle": "event.shiftKey",
           "type": "multi"
          }
         }
        }
       ]
      },
      "image/png": "[encoded data removed]",
      "text/plain": [
       "<VegaLite 2 object>\n",
       "\n",
       "If you see this message, it means the renderer has not been properly enabled\n",
       "for the frontend that you are using. For more information, see\n",
       "https://altair-viz.github.io/user_guide/troubleshooting.html\n"
      ]
     },
     "execution_count": 97,
     "metadata": {},
     "output_type": "execute_result"
    }
   ],
   "source": [
    "praph2 | legend2"
   ]
  },
  {
   "cell_type": "markdown",
   "metadata": {},
   "source": [
    "Chap 2.3 Assembler les données "
   ]
  },
  {
   "cell_type": "code",
   "execution_count": 36,
   "metadata": {},
   "outputs": [],
   "source": [
    "# récupérer les données de trajet indirects et directs, puis concaténer et vérifier qu'il n'y a pasde doublons\n",
    "cam_19_5=pd.concat([indirect_cam_19_4_5_4_5,direct_cam19_5.df_tps_parcours_pl_final], sort=False)"
   ]
  },
  {
   "cell_type": "code",
   "execution_count": 37,
   "metadata": {},
   "outputs": [
    {
     "data": {
      "text/html": [
       "<div>\n",
       "<style scoped>\n",
       "    .dataframe tbody tr th:only-of-type {\n",
       "        vertical-align: middle;\n",
       "    }\n",
       "\n",
       "    .dataframe tbody tr th {\n",
       "        vertical-align: top;\n",
       "    }\n",
       "\n",
       "    .dataframe thead th {\n",
       "        text-align: right;\n",
       "    }\n",
       "</style>\n",
       "<table border=\"1\" class=\"dataframe\">\n",
       "  <thead>\n",
       "    <tr style=\"text-align: right;\">\n",
       "      <th></th>\n",
       "      <th>immat</th>\n",
       "      <th>date_cam_1</th>\n",
       "      <th>date_cam_2</th>\n",
       "      <th>cam_1</th>\n",
       "      <th>cam_2</th>\n",
       "      <th>tps_parcours</th>\n",
       "    </tr>\n",
       "  </thead>\n",
       "  <tbody>\n",
       "    <tr>\n",
       "      <th>0</th>\n",
       "      <td>185ec68f604a05988b65c02b12bc459c4f0de265</td>\n",
       "      <td>2019-01-29 10:00:06</td>\n",
       "      <td>2019-01-29 10:33:15</td>\n",
       "      <td>19</td>\n",
       "      <td>5</td>\n",
       "      <td>00:33:09</td>\n",
       "    </tr>\n",
       "    <tr>\n",
       "      <th>1</th>\n",
       "      <td>5785798ab3e1cf3bcc847aad97b4417005a7ab2f</td>\n",
       "      <td>2019-01-29 10:01:45</td>\n",
       "      <td>2019-01-29 10:34:13</td>\n",
       "      <td>19</td>\n",
       "      <td>5</td>\n",
       "      <td>00:32:28</td>\n",
       "    </tr>\n",
       "    <tr>\n",
       "      <th>2</th>\n",
       "      <td>c9d34e8987a4aa93831f8983462f12c5807d6616</td>\n",
       "      <td>2019-01-29 10:01:06</td>\n",
       "      <td>2019-01-29 10:34:56</td>\n",
       "      <td>19</td>\n",
       "      <td>5</td>\n",
       "      <td>00:33:50</td>\n",
       "    </tr>\n",
       "    <tr>\n",
       "      <th>3</th>\n",
       "      <td>5ea04990d008f89b5d0a2d60bf02b2a2caa30c64</td>\n",
       "      <td>2019-01-29 10:02:01</td>\n",
       "      <td>2019-01-29 10:35:08</td>\n",
       "      <td>19</td>\n",
       "      <td>5</td>\n",
       "      <td>00:33:07</td>\n",
       "    </tr>\n",
       "    <tr>\n",
       "      <th>4</th>\n",
       "      <td>8819188f3b0e6c23b7d4db4b0ac3d1265912d4bf</td>\n",
       "      <td>2019-01-29 10:04:29</td>\n",
       "      <td>2019-01-29 10:37:56</td>\n",
       "      <td>19</td>\n",
       "      <td>5</td>\n",
       "      <td>00:33:27</td>\n",
       "    </tr>\n",
       "    <tr>\n",
       "      <th>5</th>\n",
       "      <td>a21f024252fc1d2ce07cd6ddcbcc45220e1c1e6e</td>\n",
       "      <td>2019-01-29 10:05:47</td>\n",
       "      <td>2019-01-29 10:36:54</td>\n",
       "      <td>19</td>\n",
       "      <td>5</td>\n",
       "      <td>00:31:07</td>\n",
       "    </tr>\n",
       "    <tr>\n",
       "      <th>6</th>\n",
       "      <td>b9f76ff9fc82f3013c8ec9981411ccd2bb0e5072</td>\n",
       "      <td>2019-01-29 10:05:12</td>\n",
       "      <td>2019-01-29 10:37:20</td>\n",
       "      <td>19</td>\n",
       "      <td>5</td>\n",
       "      <td>00:32:08</td>\n",
       "    </tr>\n",
       "    <tr>\n",
       "      <th>7</th>\n",
       "      <td>14718db4e79496c5253d670022d2907ac3d1a8d1</td>\n",
       "      <td>2019-01-29 10:05:23</td>\n",
       "      <td>2019-01-29 10:38:32</td>\n",
       "      <td>19</td>\n",
       "      <td>5</td>\n",
       "      <td>00:33:09</td>\n",
       "    </tr>\n",
       "    <tr>\n",
       "      <th>8</th>\n",
       "      <td>41aa8b184709048dafcf456f937d8b182d25602f</td>\n",
       "      <td>2019-01-29 10:08:17</td>\n",
       "      <td>2019-01-29 10:40:06</td>\n",
       "      <td>19</td>\n",
       "      <td>5</td>\n",
       "      <td>00:31:49</td>\n",
       "    </tr>\n",
       "    <tr>\n",
       "      <th>9</th>\n",
       "      <td>b37d6f42c823706c88b89825e935a42d696c75c2</td>\n",
       "      <td>2019-01-29 10:07:58</td>\n",
       "      <td>2019-01-29 10:42:11</td>\n",
       "      <td>19</td>\n",
       "      <td>5</td>\n",
       "      <td>00:34:13</td>\n",
       "    </tr>\n",
       "    <tr>\n",
       "      <th>10</th>\n",
       "      <td>a9449ff480368f083512cd8cfc938933a381d427</td>\n",
       "      <td>2019-01-29 10:09:55</td>\n",
       "      <td>2019-01-29 10:41:36</td>\n",
       "      <td>19</td>\n",
       "      <td>5</td>\n",
       "      <td>00:31:41</td>\n",
       "    </tr>\n",
       "    <tr>\n",
       "      <th>11</th>\n",
       "      <td>fa783e9061e7e80421e45c5f9bb63eb9b3669ee7</td>\n",
       "      <td>2019-01-29 10:11:11</td>\n",
       "      <td>2019-01-29 10:43:08</td>\n",
       "      <td>19</td>\n",
       "      <td>5</td>\n",
       "      <td>00:31:57</td>\n",
       "    </tr>\n",
       "    <tr>\n",
       "      <th>12</th>\n",
       "      <td>32c74c2fd247e3be307e912920f84e4517671cf5</td>\n",
       "      <td>2019-01-29 10:13:14</td>\n",
       "      <td>2019-01-29 10:45:15</td>\n",
       "      <td>19</td>\n",
       "      <td>5</td>\n",
       "      <td>00:32:01</td>\n",
       "    </tr>\n",
       "    <tr>\n",
       "      <th>13</th>\n",
       "      <td>4e2bbd4d7da1d5999c39cfd216dd777b0c6b0a7a</td>\n",
       "      <td>2019-01-29 10:14:12</td>\n",
       "      <td>2019-01-29 10:46:22</td>\n",
       "      <td>19</td>\n",
       "      <td>5</td>\n",
       "      <td>00:32:10</td>\n",
       "    </tr>\n",
       "    <tr>\n",
       "      <th>14</th>\n",
       "      <td>4983c348a14e3926d47bc81f55fa0384a47b285e</td>\n",
       "      <td>2019-01-29 10:17:16</td>\n",
       "      <td>2019-01-29 10:46:31</td>\n",
       "      <td>19</td>\n",
       "      <td>5</td>\n",
       "      <td>00:29:15</td>\n",
       "    </tr>\n",
       "    <tr>\n",
       "      <th>15</th>\n",
       "      <td>a91e5b54243305867239fc5cb9b4db241cb7433b</td>\n",
       "      <td>2019-01-29 10:19:39</td>\n",
       "      <td>2019-01-29 10:50:49</td>\n",
       "      <td>19</td>\n",
       "      <td>5</td>\n",
       "      <td>00:31:10</td>\n",
       "    </tr>\n",
       "    <tr>\n",
       "      <th>16</th>\n",
       "      <td>ea41bf2eb86ce2dfdcfe9d1b7e452ad9afad6648</td>\n",
       "      <td>2019-01-29 10:20:09</td>\n",
       "      <td>2019-01-29 10:52:46</td>\n",
       "      <td>19</td>\n",
       "      <td>5</td>\n",
       "      <td>00:32:37</td>\n",
       "    </tr>\n",
       "    <tr>\n",
       "      <th>17</th>\n",
       "      <td>33e81558d5bef0fb5f2d75398cd921a5119e7b8f</td>\n",
       "      <td>2019-01-29 10:20:01</td>\n",
       "      <td>2019-01-29 10:54:20</td>\n",
       "      <td>19</td>\n",
       "      <td>5</td>\n",
       "      <td>00:34:19</td>\n",
       "    </tr>\n",
       "    <tr>\n",
       "      <th>18</th>\n",
       "      <td>be31215557984fcdd020ac67f3e3ec793f78bb5b</td>\n",
       "      <td>2019-01-29 10:21:44</td>\n",
       "      <td>2019-01-29 10:53:55</td>\n",
       "      <td>19</td>\n",
       "      <td>5</td>\n",
       "      <td>00:32:11</td>\n",
       "    </tr>\n",
       "    <tr>\n",
       "      <th>19</th>\n",
       "      <td>e9af01ec51d1357d073b6964c57122224cb4c1e8</td>\n",
       "      <td>2019-01-29 10:22:10</td>\n",
       "      <td>2019-01-29 10:54:31</td>\n",
       "      <td>19</td>\n",
       "      <td>5</td>\n",
       "      <td>00:32:21</td>\n",
       "    </tr>\n",
       "    <tr>\n",
       "      <th>20</th>\n",
       "      <td>73e9ef21a7ebc37e16aa594a2111c299483d822d</td>\n",
       "      <td>2019-01-29 10:22:26</td>\n",
       "      <td>2019-01-29 10:55:30</td>\n",
       "      <td>19</td>\n",
       "      <td>5</td>\n",
       "      <td>00:33:04</td>\n",
       "    </tr>\n",
       "    <tr>\n",
       "      <th>21</th>\n",
       "      <td>2c6179f0e8cc47fe77b92e2fb0bb1e8717481542</td>\n",
       "      <td>2019-01-29 10:21:49</td>\n",
       "      <td>2019-01-29 10:56:44</td>\n",
       "      <td>19</td>\n",
       "      <td>5</td>\n",
       "      <td>00:34:55</td>\n",
       "    </tr>\n",
       "    <tr>\n",
       "      <th>22</th>\n",
       "      <td>a11eaf32d4bed3d54c7c1d2dfe6b267936cfa383</td>\n",
       "      <td>2019-01-29 10:24:05</td>\n",
       "      <td>2019-01-29 10:56:31</td>\n",
       "      <td>19</td>\n",
       "      <td>5</td>\n",
       "      <td>00:32:26</td>\n",
       "    </tr>\n",
       "    <tr>\n",
       "      <th>23</th>\n",
       "      <td>24af87b7f01a3e7e83932f1a13d52c7769789120</td>\n",
       "      <td>2019-01-29 10:24:59</td>\n",
       "      <td>2019-01-29 10:57:11</td>\n",
       "      <td>19</td>\n",
       "      <td>5</td>\n",
       "      <td>00:32:12</td>\n",
       "    </tr>\n",
       "    <tr>\n",
       "      <th>24</th>\n",
       "      <td>dd5c2bbb3d81f06162a5579d091696796e3f665f</td>\n",
       "      <td>2019-01-29 10:24:49</td>\n",
       "      <td>2019-01-29 10:59:14</td>\n",
       "      <td>19</td>\n",
       "      <td>5</td>\n",
       "      <td>00:34:25</td>\n",
       "    </tr>\n",
       "    <tr>\n",
       "      <th>25</th>\n",
       "      <td>7f0462a73c8de29533bb9553506ffbc1ef1b5af6</td>\n",
       "      <td>2019-01-29 10:30:12</td>\n",
       "      <td>2019-01-29 10:58:19</td>\n",
       "      <td>19</td>\n",
       "      <td>5</td>\n",
       "      <td>00:28:07</td>\n",
       "    </tr>\n",
       "    <tr>\n",
       "      <th>26</th>\n",
       "      <td>85104b73168260599f0d67a1739a29cb49cb1797</td>\n",
       "      <td>2019-01-29 10:29:24</td>\n",
       "      <td>2019-01-29 10:59:40</td>\n",
       "      <td>19</td>\n",
       "      <td>5</td>\n",
       "      <td>00:30:16</td>\n",
       "    </tr>\n",
       "    <tr>\n",
       "      <th>27</th>\n",
       "      <td>e9d3a71512e5f8081a52eb87b3bae71087586580</td>\n",
       "      <td>2019-01-29 10:40:30</td>\n",
       "      <td>2019-01-29 11:12:13</td>\n",
       "      <td>19</td>\n",
       "      <td>5</td>\n",
       "      <td>00:31:43</td>\n",
       "    </tr>\n",
       "    <tr>\n",
       "      <th>28</th>\n",
       "      <td>d41cba376c3e17beacb3caa2bcf5c71ab7441721</td>\n",
       "      <td>2019-01-29 10:40:06</td>\n",
       "      <td>2019-01-29 11:12:39</td>\n",
       "      <td>19</td>\n",
       "      <td>5</td>\n",
       "      <td>00:32:33</td>\n",
       "    </tr>\n",
       "    <tr>\n",
       "      <th>29</th>\n",
       "      <td>45f1d28f0d0a82e44f95177a5d0804ebbe8c7be3</td>\n",
       "      <td>2019-01-29 10:40:43</td>\n",
       "      <td>2019-01-29 11:12:42</td>\n",
       "      <td>19</td>\n",
       "      <td>5</td>\n",
       "      <td>00:31:59</td>\n",
       "    </tr>\n",
       "    <tr>\n",
       "      <th>...</th>\n",
       "      <td>...</td>\n",
       "      <td>...</td>\n",
       "      <td>...</td>\n",
       "      <td>...</td>\n",
       "      <td>...</td>\n",
       "      <td>...</td>\n",
       "    </tr>\n",
       "    <tr>\n",
       "      <th>38</th>\n",
       "      <td>9c9da42eddfaf051646fb55ece541ad1a70db17b</td>\n",
       "      <td>2019-01-29 10:56:42</td>\n",
       "      <td>2019-01-29 11:27:42</td>\n",
       "      <td>19</td>\n",
       "      <td>5</td>\n",
       "      <td>00:31:00</td>\n",
       "    </tr>\n",
       "    <tr>\n",
       "      <th>39</th>\n",
       "      <td>d9ed03d442c0e8a8ffaf7c8d75126de6c1084ec2</td>\n",
       "      <td>2019-01-29 10:56:47</td>\n",
       "      <td>2019-01-29 11:28:47</td>\n",
       "      <td>19</td>\n",
       "      <td>5</td>\n",
       "      <td>00:32:00</td>\n",
       "    </tr>\n",
       "    <tr>\n",
       "      <th>40</th>\n",
       "      <td>78f58038a7963579ecae982f3bd74751430385a0</td>\n",
       "      <td>2019-01-29 10:57:08</td>\n",
       "      <td>2019-01-29 11:29:30</td>\n",
       "      <td>19</td>\n",
       "      <td>5</td>\n",
       "      <td>00:32:22</td>\n",
       "    </tr>\n",
       "    <tr>\n",
       "      <th>41</th>\n",
       "      <td>2031f7c118f3b4feec618cecc2acb795653248f9</td>\n",
       "      <td>2019-01-29 10:57:34</td>\n",
       "      <td>2019-01-29 11:29:58</td>\n",
       "      <td>19</td>\n",
       "      <td>5</td>\n",
       "      <td>00:32:24</td>\n",
       "    </tr>\n",
       "    <tr>\n",
       "      <th>42</th>\n",
       "      <td>c3be4e5c0e42bc107511aea2ed39362c9e30bba6</td>\n",
       "      <td>2019-01-29 10:57:25</td>\n",
       "      <td>2019-01-29 11:31:28</td>\n",
       "      <td>19</td>\n",
       "      <td>5</td>\n",
       "      <td>00:34:03</td>\n",
       "    </tr>\n",
       "    <tr>\n",
       "      <th>0</th>\n",
       "      <td>de8c2faf3ff92ef10bfbfac11738899cf3729aee</td>\n",
       "      <td>2019-01-29 10:06:51</td>\n",
       "      <td>2019-01-29 10:07:26</td>\n",
       "      <td>19</td>\n",
       "      <td>5</td>\n",
       "      <td>00:00:35</td>\n",
       "    </tr>\n",
       "    <tr>\n",
       "      <th>6</th>\n",
       "      <td>ac98ad990555036cef06485021809fef5fb37d30</td>\n",
       "      <td>2019-01-29 10:01:55</td>\n",
       "      <td>2019-01-29 10:35:09</td>\n",
       "      <td>19</td>\n",
       "      <td>5</td>\n",
       "      <td>00:33:14</td>\n",
       "    </tr>\n",
       "    <tr>\n",
       "      <th>7</th>\n",
       "      <td>59fea556361f848d40bdbb045175fc8ce4e02624</td>\n",
       "      <td>2019-01-29 10:05:23</td>\n",
       "      <td>2019-01-29 10:38:32</td>\n",
       "      <td>19</td>\n",
       "      <td>5</td>\n",
       "      <td>00:33:09</td>\n",
       "    </tr>\n",
       "    <tr>\n",
       "      <th>9</th>\n",
       "      <td>c05b71f69a0d61aef6d9ae8c6cfd6a9a93f2d273</td>\n",
       "      <td>2019-01-29 10:11:12</td>\n",
       "      <td>2019-01-29 10:43:08</td>\n",
       "      <td>19</td>\n",
       "      <td>5</td>\n",
       "      <td>00:31:56</td>\n",
       "    </tr>\n",
       "    <tr>\n",
       "      <th>11</th>\n",
       "      <td>ab727fd1efdab156935e03ff758a0402bd59096f</td>\n",
       "      <td>2019-01-29 10:10:26</td>\n",
       "      <td>2019-01-29 10:44:08</td>\n",
       "      <td>19</td>\n",
       "      <td>5</td>\n",
       "      <td>00:33:42</td>\n",
       "    </tr>\n",
       "    <tr>\n",
       "      <th>23</th>\n",
       "      <td>519a17aa989c86266bd8c9ce9cb821c1147350a0</td>\n",
       "      <td>2019-01-29 10:26:48</td>\n",
       "      <td>2019-01-29 10:58:42</td>\n",
       "      <td>19</td>\n",
       "      <td>5</td>\n",
       "      <td>00:31:54</td>\n",
       "    </tr>\n",
       "    <tr>\n",
       "      <th>24</th>\n",
       "      <td>7d692113e35c3adf444b037b613eca44fed052bf</td>\n",
       "      <td>2019-01-29 10:27:47</td>\n",
       "      <td>2019-01-29 10:59:12</td>\n",
       "      <td>19</td>\n",
       "      <td>5</td>\n",
       "      <td>00:31:25</td>\n",
       "    </tr>\n",
       "    <tr>\n",
       "      <th>25</th>\n",
       "      <td>ef258e60ce0335301d017947474b81ad788532f6</td>\n",
       "      <td>2019-01-29 10:28:14</td>\n",
       "      <td>2019-01-29 10:59:24</td>\n",
       "      <td>19</td>\n",
       "      <td>5</td>\n",
       "      <td>00:31:10</td>\n",
       "    </tr>\n",
       "    <tr>\n",
       "      <th>33</th>\n",
       "      <td>b1e8535ec54a189979fb5da4c9c7e0b87acb4f64</td>\n",
       "      <td>2019-01-29 10:31:24</td>\n",
       "      <td>2019-01-29 11:04:20</td>\n",
       "      <td>19</td>\n",
       "      <td>5</td>\n",
       "      <td>00:32:56</td>\n",
       "    </tr>\n",
       "    <tr>\n",
       "      <th>39</th>\n",
       "      <td>390003b0c3217f46faf1920da144d84d6cc3433f</td>\n",
       "      <td>2019-01-29 10:35:24</td>\n",
       "      <td>2019-01-29 11:07:48</td>\n",
       "      <td>19</td>\n",
       "      <td>5</td>\n",
       "      <td>00:32:24</td>\n",
       "    </tr>\n",
       "    <tr>\n",
       "      <th>42</th>\n",
       "      <td>e7c6d2bb6519f870aa7126c24e25aeee1bf9ea6a</td>\n",
       "      <td>2019-01-29 10:42:36</td>\n",
       "      <td>2019-01-29 11:09:26</td>\n",
       "      <td>19</td>\n",
       "      <td>5</td>\n",
       "      <td>00:26:50</td>\n",
       "    </tr>\n",
       "    <tr>\n",
       "      <th>54</th>\n",
       "      <td>e9f1bcd6f1b23cb5417c99fad094b06ae6716a38</td>\n",
       "      <td>2019-01-29 10:46:59</td>\n",
       "      <td>2019-01-29 11:18:51</td>\n",
       "      <td>19</td>\n",
       "      <td>5</td>\n",
       "      <td>00:31:52</td>\n",
       "    </tr>\n",
       "    <tr>\n",
       "      <th>55</th>\n",
       "      <td>5a7d48220b8467d6a1a761b4236b6ba77bb5c76d</td>\n",
       "      <td>2019-01-29 10:47:47</td>\n",
       "      <td>2019-01-29 11:19:35</td>\n",
       "      <td>19</td>\n",
       "      <td>5</td>\n",
       "      <td>00:31:48</td>\n",
       "    </tr>\n",
       "    <tr>\n",
       "      <th>58</th>\n",
       "      <td>06109cba2fc8c74bd193b45492bcee04c3c7bd3d</td>\n",
       "      <td>2019-01-29 10:45:47</td>\n",
       "      <td>2019-01-29 11:19:58</td>\n",
       "      <td>19</td>\n",
       "      <td>5</td>\n",
       "      <td>00:34:11</td>\n",
       "    </tr>\n",
       "    <tr>\n",
       "      <th>59</th>\n",
       "      <td>e9963d5dff006867f29868a45cfacd65ae02e3c4</td>\n",
       "      <td>2019-01-29 10:46:50</td>\n",
       "      <td>2019-01-29 11:20:18</td>\n",
       "      <td>19</td>\n",
       "      <td>5</td>\n",
       "      <td>00:33:28</td>\n",
       "    </tr>\n",
       "    <tr>\n",
       "      <th>60</th>\n",
       "      <td>f9d611b287183ffa2af2fb91128744a22891e181</td>\n",
       "      <td>2019-01-29 10:47:38</td>\n",
       "      <td>2019-01-29 11:20:40</td>\n",
       "      <td>19</td>\n",
       "      <td>5</td>\n",
       "      <td>00:33:02</td>\n",
       "    </tr>\n",
       "    <tr>\n",
       "      <th>65</th>\n",
       "      <td>21a340c5f4f2e01e10fb3c3804cfb7377db17e3f</td>\n",
       "      <td>2019-01-29 10:49:10</td>\n",
       "      <td>2019-01-29 11:22:14</td>\n",
       "      <td>19</td>\n",
       "      <td>5</td>\n",
       "      <td>00:33:04</td>\n",
       "    </tr>\n",
       "    <tr>\n",
       "      <th>68</th>\n",
       "      <td>6c5a5f78f226c89483c73f6a04ea459a50e9fa2a</td>\n",
       "      <td>2019-01-29 10:51:05</td>\n",
       "      <td>2019-01-29 11:22:38</td>\n",
       "      <td>19</td>\n",
       "      <td>5</td>\n",
       "      <td>00:31:33</td>\n",
       "    </tr>\n",
       "    <tr>\n",
       "      <th>69</th>\n",
       "      <td>acfbb54e1e02882b0be44f82e97913056c8cd1c4</td>\n",
       "      <td>2019-01-29 10:50:04</td>\n",
       "      <td>2019-01-29 11:22:53</td>\n",
       "      <td>19</td>\n",
       "      <td>5</td>\n",
       "      <td>00:32:49</td>\n",
       "    </tr>\n",
       "    <tr>\n",
       "      <th>71</th>\n",
       "      <td>e6d1305e6670867f8eef7b9932875a1b5066be39</td>\n",
       "      <td>2019-01-29 10:51:08</td>\n",
       "      <td>2019-01-29 11:23:53</td>\n",
       "      <td>19</td>\n",
       "      <td>5</td>\n",
       "      <td>00:32:45</td>\n",
       "    </tr>\n",
       "    <tr>\n",
       "      <th>78</th>\n",
       "      <td>50089710266cbfa1bc48c00c892a68a63c260e3c</td>\n",
       "      <td>2019-01-29 10:53:01</td>\n",
       "      <td>2019-01-29 11:26:18</td>\n",
       "      <td>19</td>\n",
       "      <td>5</td>\n",
       "      <td>00:33:17</td>\n",
       "    </tr>\n",
       "    <tr>\n",
       "      <th>83</th>\n",
       "      <td>a0fee9b406d2e1c818dbd051ebf13eaeb10ace17</td>\n",
       "      <td>2019-01-29 10:53:57</td>\n",
       "      <td>2019-01-29 11:27:14</td>\n",
       "      <td>19</td>\n",
       "      <td>5</td>\n",
       "      <td>00:33:17</td>\n",
       "    </tr>\n",
       "    <tr>\n",
       "      <th>93</th>\n",
       "      <td>f58af3f450d34b58ebe5f47526da12e5a5ec6d07</td>\n",
       "      <td>2019-01-29 10:59:19</td>\n",
       "      <td>2019-01-29 11:30:45</td>\n",
       "      <td>19</td>\n",
       "      <td>5</td>\n",
       "      <td>00:31:26</td>\n",
       "    </tr>\n",
       "    <tr>\n",
       "      <th>99</th>\n",
       "      <td>0c6aafc1824ce95c1321cb067847f6e3e772d8cc</td>\n",
       "      <td>2019-01-29 10:47:02</td>\n",
       "      <td>2019-01-29 12:34:33</td>\n",
       "      <td>19</td>\n",
       "      <td>5</td>\n",
       "      <td>01:47:31</td>\n",
       "    </tr>\n",
       "    <tr>\n",
       "      <th>100</th>\n",
       "      <td>a7c5c5cc7f95887af9d0004fb5422af8f4f87c53</td>\n",
       "      <td>2019-01-29 10:54:28</td>\n",
       "      <td>2019-01-29 12:45:24</td>\n",
       "      <td>19</td>\n",
       "      <td>5</td>\n",
       "      <td>01:50:56</td>\n",
       "    </tr>\n",
       "  </tbody>\n",
       "</table>\n",
       "<p>68 rows × 6 columns</p>\n",
       "</div>"
      ],
      "text/plain": [
       "                                        immat          date_cam_1  \\\n",
       "0    185ec68f604a05988b65c02b12bc459c4f0de265 2019-01-29 10:00:06   \n",
       "1    5785798ab3e1cf3bcc847aad97b4417005a7ab2f 2019-01-29 10:01:45   \n",
       "2    c9d34e8987a4aa93831f8983462f12c5807d6616 2019-01-29 10:01:06   \n",
       "3    5ea04990d008f89b5d0a2d60bf02b2a2caa30c64 2019-01-29 10:02:01   \n",
       "4    8819188f3b0e6c23b7d4db4b0ac3d1265912d4bf 2019-01-29 10:04:29   \n",
       "5    a21f024252fc1d2ce07cd6ddcbcc45220e1c1e6e 2019-01-29 10:05:47   \n",
       "6    b9f76ff9fc82f3013c8ec9981411ccd2bb0e5072 2019-01-29 10:05:12   \n",
       "7    14718db4e79496c5253d670022d2907ac3d1a8d1 2019-01-29 10:05:23   \n",
       "8    41aa8b184709048dafcf456f937d8b182d25602f 2019-01-29 10:08:17   \n",
       "9    b37d6f42c823706c88b89825e935a42d696c75c2 2019-01-29 10:07:58   \n",
       "10   a9449ff480368f083512cd8cfc938933a381d427 2019-01-29 10:09:55   \n",
       "11   fa783e9061e7e80421e45c5f9bb63eb9b3669ee7 2019-01-29 10:11:11   \n",
       "12   32c74c2fd247e3be307e912920f84e4517671cf5 2019-01-29 10:13:14   \n",
       "13   4e2bbd4d7da1d5999c39cfd216dd777b0c6b0a7a 2019-01-29 10:14:12   \n",
       "14   4983c348a14e3926d47bc81f55fa0384a47b285e 2019-01-29 10:17:16   \n",
       "15   a91e5b54243305867239fc5cb9b4db241cb7433b 2019-01-29 10:19:39   \n",
       "16   ea41bf2eb86ce2dfdcfe9d1b7e452ad9afad6648 2019-01-29 10:20:09   \n",
       "17   33e81558d5bef0fb5f2d75398cd921a5119e7b8f 2019-01-29 10:20:01   \n",
       "18   be31215557984fcdd020ac67f3e3ec793f78bb5b 2019-01-29 10:21:44   \n",
       "19   e9af01ec51d1357d073b6964c57122224cb4c1e8 2019-01-29 10:22:10   \n",
       "20   73e9ef21a7ebc37e16aa594a2111c299483d822d 2019-01-29 10:22:26   \n",
       "21   2c6179f0e8cc47fe77b92e2fb0bb1e8717481542 2019-01-29 10:21:49   \n",
       "22   a11eaf32d4bed3d54c7c1d2dfe6b267936cfa383 2019-01-29 10:24:05   \n",
       "23   24af87b7f01a3e7e83932f1a13d52c7769789120 2019-01-29 10:24:59   \n",
       "24   dd5c2bbb3d81f06162a5579d091696796e3f665f 2019-01-29 10:24:49   \n",
       "25   7f0462a73c8de29533bb9553506ffbc1ef1b5af6 2019-01-29 10:30:12   \n",
       "26   85104b73168260599f0d67a1739a29cb49cb1797 2019-01-29 10:29:24   \n",
       "27   e9d3a71512e5f8081a52eb87b3bae71087586580 2019-01-29 10:40:30   \n",
       "28   d41cba376c3e17beacb3caa2bcf5c71ab7441721 2019-01-29 10:40:06   \n",
       "29   45f1d28f0d0a82e44f95177a5d0804ebbe8c7be3 2019-01-29 10:40:43   \n",
       "..                                        ...                 ...   \n",
       "38   9c9da42eddfaf051646fb55ece541ad1a70db17b 2019-01-29 10:56:42   \n",
       "39   d9ed03d442c0e8a8ffaf7c8d75126de6c1084ec2 2019-01-29 10:56:47   \n",
       "40   78f58038a7963579ecae982f3bd74751430385a0 2019-01-29 10:57:08   \n",
       "41   2031f7c118f3b4feec618cecc2acb795653248f9 2019-01-29 10:57:34   \n",
       "42   c3be4e5c0e42bc107511aea2ed39362c9e30bba6 2019-01-29 10:57:25   \n",
       "0    de8c2faf3ff92ef10bfbfac11738899cf3729aee 2019-01-29 10:06:51   \n",
       "6    ac98ad990555036cef06485021809fef5fb37d30 2019-01-29 10:01:55   \n",
       "7    59fea556361f848d40bdbb045175fc8ce4e02624 2019-01-29 10:05:23   \n",
       "9    c05b71f69a0d61aef6d9ae8c6cfd6a9a93f2d273 2019-01-29 10:11:12   \n",
       "11   ab727fd1efdab156935e03ff758a0402bd59096f 2019-01-29 10:10:26   \n",
       "23   519a17aa989c86266bd8c9ce9cb821c1147350a0 2019-01-29 10:26:48   \n",
       "24   7d692113e35c3adf444b037b613eca44fed052bf 2019-01-29 10:27:47   \n",
       "25   ef258e60ce0335301d017947474b81ad788532f6 2019-01-29 10:28:14   \n",
       "33   b1e8535ec54a189979fb5da4c9c7e0b87acb4f64 2019-01-29 10:31:24   \n",
       "39   390003b0c3217f46faf1920da144d84d6cc3433f 2019-01-29 10:35:24   \n",
       "42   e7c6d2bb6519f870aa7126c24e25aeee1bf9ea6a 2019-01-29 10:42:36   \n",
       "54   e9f1bcd6f1b23cb5417c99fad094b06ae6716a38 2019-01-29 10:46:59   \n",
       "55   5a7d48220b8467d6a1a761b4236b6ba77bb5c76d 2019-01-29 10:47:47   \n",
       "58   06109cba2fc8c74bd193b45492bcee04c3c7bd3d 2019-01-29 10:45:47   \n",
       "59   e9963d5dff006867f29868a45cfacd65ae02e3c4 2019-01-29 10:46:50   \n",
       "60   f9d611b287183ffa2af2fb91128744a22891e181 2019-01-29 10:47:38   \n",
       "65   21a340c5f4f2e01e10fb3c3804cfb7377db17e3f 2019-01-29 10:49:10   \n",
       "68   6c5a5f78f226c89483c73f6a04ea459a50e9fa2a 2019-01-29 10:51:05   \n",
       "69   acfbb54e1e02882b0be44f82e97913056c8cd1c4 2019-01-29 10:50:04   \n",
       "71   e6d1305e6670867f8eef7b9932875a1b5066be39 2019-01-29 10:51:08   \n",
       "78   50089710266cbfa1bc48c00c892a68a63c260e3c 2019-01-29 10:53:01   \n",
       "83   a0fee9b406d2e1c818dbd051ebf13eaeb10ace17 2019-01-29 10:53:57   \n",
       "93   f58af3f450d34b58ebe5f47526da12e5a5ec6d07 2019-01-29 10:59:19   \n",
       "99   0c6aafc1824ce95c1321cb067847f6e3e772d8cc 2019-01-29 10:47:02   \n",
       "100  a7c5c5cc7f95887af9d0004fb5422af8f4f87c53 2019-01-29 10:54:28   \n",
       "\n",
       "             date_cam_2  cam_1  cam_2 tps_parcours  \n",
       "0   2019-01-29 10:33:15     19      5     00:33:09  \n",
       "1   2019-01-29 10:34:13     19      5     00:32:28  \n",
       "2   2019-01-29 10:34:56     19      5     00:33:50  \n",
       "3   2019-01-29 10:35:08     19      5     00:33:07  \n",
       "4   2019-01-29 10:37:56     19      5     00:33:27  \n",
       "5   2019-01-29 10:36:54     19      5     00:31:07  \n",
       "6   2019-01-29 10:37:20     19      5     00:32:08  \n",
       "7   2019-01-29 10:38:32     19      5     00:33:09  \n",
       "8   2019-01-29 10:40:06     19      5     00:31:49  \n",
       "9   2019-01-29 10:42:11     19      5     00:34:13  \n",
       "10  2019-01-29 10:41:36     19      5     00:31:41  \n",
       "11  2019-01-29 10:43:08     19      5     00:31:57  \n",
       "12  2019-01-29 10:45:15     19      5     00:32:01  \n",
       "13  2019-01-29 10:46:22     19      5     00:32:10  \n",
       "14  2019-01-29 10:46:31     19      5     00:29:15  \n",
       "15  2019-01-29 10:50:49     19      5     00:31:10  \n",
       "16  2019-01-29 10:52:46     19      5     00:32:37  \n",
       "17  2019-01-29 10:54:20     19      5     00:34:19  \n",
       "18  2019-01-29 10:53:55     19      5     00:32:11  \n",
       "19  2019-01-29 10:54:31     19      5     00:32:21  \n",
       "20  2019-01-29 10:55:30     19      5     00:33:04  \n",
       "21  2019-01-29 10:56:44     19      5     00:34:55  \n",
       "22  2019-01-29 10:56:31     19      5     00:32:26  \n",
       "23  2019-01-29 10:57:11     19      5     00:32:12  \n",
       "24  2019-01-29 10:59:14     19      5     00:34:25  \n",
       "25  2019-01-29 10:58:19     19      5     00:28:07  \n",
       "26  2019-01-29 10:59:40     19      5     00:30:16  \n",
       "27  2019-01-29 11:12:13     19      5     00:31:43  \n",
       "28  2019-01-29 11:12:39     19      5     00:32:33  \n",
       "29  2019-01-29 11:12:42     19      5     00:31:59  \n",
       "..                  ...    ...    ...          ...  \n",
       "38  2019-01-29 11:27:42     19      5     00:31:00  \n",
       "39  2019-01-29 11:28:47     19      5     00:32:00  \n",
       "40  2019-01-29 11:29:30     19      5     00:32:22  \n",
       "41  2019-01-29 11:29:58     19      5     00:32:24  \n",
       "42  2019-01-29 11:31:28     19      5     00:34:03  \n",
       "0   2019-01-29 10:07:26     19      5     00:00:35  \n",
       "6   2019-01-29 10:35:09     19      5     00:33:14  \n",
       "7   2019-01-29 10:38:32     19      5     00:33:09  \n",
       "9   2019-01-29 10:43:08     19      5     00:31:56  \n",
       "11  2019-01-29 10:44:08     19      5     00:33:42  \n",
       "23  2019-01-29 10:58:42     19      5     00:31:54  \n",
       "24  2019-01-29 10:59:12     19      5     00:31:25  \n",
       "25  2019-01-29 10:59:24     19      5     00:31:10  \n",
       "33  2019-01-29 11:04:20     19      5     00:32:56  \n",
       "39  2019-01-29 11:07:48     19      5     00:32:24  \n",
       "42  2019-01-29 11:09:26     19      5     00:26:50  \n",
       "54  2019-01-29 11:18:51     19      5     00:31:52  \n",
       "55  2019-01-29 11:19:35     19      5     00:31:48  \n",
       "58  2019-01-29 11:19:58     19      5     00:34:11  \n",
       "59  2019-01-29 11:20:18     19      5     00:33:28  \n",
       "60  2019-01-29 11:20:40     19      5     00:33:02  \n",
       "65  2019-01-29 11:22:14     19      5     00:33:04  \n",
       "68  2019-01-29 11:22:38     19      5     00:31:33  \n",
       "69  2019-01-29 11:22:53     19      5     00:32:49  \n",
       "71  2019-01-29 11:23:53     19      5     00:32:45  \n",
       "78  2019-01-29 11:26:18     19      5     00:33:17  \n",
       "83  2019-01-29 11:27:14     19      5     00:33:17  \n",
       "93  2019-01-29 11:30:45     19      5     00:31:26  \n",
       "99  2019-01-29 12:34:33     19      5     01:47:31  \n",
       "100 2019-01-29 12:45:24     19      5     01:50:56  \n",
       "\n",
       "[68 rows x 6 columns]"
      ]
     },
     "execution_count": 37,
     "metadata": {},
     "output_type": "execute_result"
    }
   ],
   "source": [
    "cam_19_5"
   ]
  },
  {
   "cell_type": "markdown",
   "metadata": {},
   "source": [
    "TEST CHAINAGE DES FONCTIONS"
   ]
  },
  {
   "cell_type": "code",
   "execution_count": 39,
   "metadata": {},
   "outputs": [],
   "source": [
    "#ça je dois pouvoir en faire u json et l'importer\n",
    "liste_trajet=(pd.DataFrame({'o_d':'A63-A10','trajets':[[{'cameras':[19,4,5],'type_trajet':'indirect'},\n",
    "                                                       {'cameras':[19,1,5],'type_trajet':'indirect'},\n",
    "                                                       {'cameras':[19,5],'type_trajet':'direct'},\n",
    "                                                      ]]}))"
   ]
  },
  {
   "cell_type": "code",
   "execution_count": 40,
   "metadata": {},
   "outputs": [],
   "source": [
    "pd.set_option('display.width', 1000)"
   ]
  },
  {
   "cell_type": "code",
   "execution_count": 42,
   "metadata": {},
   "outputs": [
    {
     "name": "stdout",
     "output_type": "stream",
     "text": [
      "2019-01-29 00:00:00 [19, 5] 0\n",
      "2019-01-29 01:00:00 [19, 5] 0\n",
      "2019-01-29 02:00:00 [19, 5] 0\n",
      "2019-01-29 03:00:00 [19, 5] 0\n",
      "2019-01-29 04:00:00 [19, 5] 0\n",
      "2019-01-29 05:00:00 [19, 5] 0\n",
      "2019-01-29 06:00:00 [19, 5] 0\n",
      "2019-01-29 07:00:00 [19, 4, 5] 9\n",
      "2019-01-29 07:00:00 [19, 1, 5] 0\n",
      "2019-01-29 07:00:00 [19, 5] 1\n",
      "2019-01-29 08:00:00 [19, 4, 5] 86\n",
      "2019-01-29 08:00:00 [19, 1, 5] 2\n",
      "2019-01-29 08:00:00 [19, 5] 15\n",
      "2019-01-29 09:00:00 [19, 4, 5] 78\n",
      "2019-01-29 09:00:00 [19, 1, 5] 2\n",
      "2019-01-29 09:00:00 [19, 5] 14\n",
      "2019-01-29 10:00:00 [19, 4, 5] 43\n",
      "2019-01-29 10:00:00 [19, 1, 5] 2\n",
      "2019-01-29 10:00:00 [19, 5] 25\n",
      "2019-01-29 11:00:00 [19, 4, 5] 34\n",
      "2019-01-29 11:00:00 [19, 1, 5] 1\n",
      "2019-01-29 11:00:00 [19, 5] 28\n",
      "2019-01-29 12:00:00 [19, 4, 5] 0\n",
      "2019-01-29 12:00:00 [19, 5] 82\n",
      "2019-01-29 13:00:00 [19, 4, 5] 5\n",
      "2019-01-29 13:00:00 [19, 5] 64\n",
      "2019-01-29 14:00:00 [19, 4, 5] 46\n",
      "2019-01-29 14:00:00 [19, 1, 5] 3\n",
      "2019-01-29 14:00:00 [19, 5] 36\n",
      "2019-01-29 15:00:00 [19, 4, 5] 31\n",
      "2019-01-29 15:00:00 [19, 1, 5] 2\n",
      "2019-01-29 15:00:00 [19, 5] 14\n",
      "2019-01-29 16:00:00 [19, 4, 5] 0\n",
      "2019-01-29 16:00:00 [19, 1, 5] 0\n",
      "2019-01-29 16:00:00 [19, 5] 1\n",
      "2019-01-29 17:00:00 [19, 4, 5] 1\n",
      "2019-01-29 17:00:00 [19, 5] 0\n",
      "2019-01-29 18:00:00 [19, 5] 0\n",
      "2019-01-29 19:00:00 [19, 5] 0\n",
      "2019-01-29 20:00:00 [19, 5] 0\n",
      "2019-01-29 21:00:00 [19, 5] 0\n",
      "2019-01-29 22:00:00 [19, 5] 0\n",
      "2019-01-29 23:00:00 [19, 5] 0\n"
     ]
    }
   ],
   "source": [
    "dates= pd.date_range('2019-01-29', periods=24, freq='H')\n",
    "for date in dates : \n",
    "    date=date.strftime(\"%Y-%m-%d %H:%M:%S\")\n",
    "    for index, value in liste_trajet.iterrows() : \n",
    "        o_d, carac_trajet=value[0],value[1]\n",
    "        for dico_carac in carac_trajet :\n",
    "            cameras=dico_carac['cameras']\n",
    "            type_t=dico_carac['type_trajet']\n",
    "            if type_t=='indirect' : \n",
    "                indirect_cam_1_2=t.df_tps_parcours(df_journee,date, 60, 16, cameras[0], cameras[1])#parcourir entre les 2 premieres cams\n",
    "                if indirect_cam_1_2.df_tps_parcours_pl_final.empty : #si le premier trajet ne présente pas de pl on quitte\n",
    "                    continue\n",
    "                df_trajet=t.recherche_trajet_indirect(df_journee,indirect_cam_1_2, 16, cameras[1],cameras[2])#en deduire le total\n",
    "            else :\n",
    "                df_trajet=t.df_tps_parcours(df_journee,date, 60, 16, 19,5).df_tps_parcours_pl_final#por permettre le suivi et retrouver les camera intermediaires\n",
    "            df_trajet['cameras']=str(cameras)#pour suivi possible\n",
    "            if 'dico_od' in locals() :\n",
    "                dico_od=pd.concat([dico_od,df_trajet], sort=False)\n",
    "            else : \n",
    "                dico_od=df_trajet\n",
    "            print(date, cameras, len(df_trajet))\n",
    "            "
   ]
  },
  {
   "cell_type": "code",
   "execution_count": 3,
   "metadata": {},
   "outputs": [],
   "source": [
    "liste_test=[1,2,3,4,5]"
   ]
  },
  {
   "cell_type": "code",
   "execution_count": 9,
   "metadata": {},
   "outputs": [
    {
     "name": "stdout",
     "output_type": "stream",
     "text": [
      "0 [1, 2]\n",
      "1 [2, 3]\n",
      "2 [3, 4]\n",
      "3 [4, 5]\n"
     ]
    },
    {
     "name": "stderr",
     "output_type": "stream",
     "text": [
      "[autoreload of traitement_od failed: Traceback (most recent call last):\n",
      "  File \"c:\\users\\martin\\appdata\\local\\programs\\python\\python37\\lib\\site-packages\\IPython\\extensions\\autoreload.py\", line 244, in check\n",
      "    superreload(m, reload, self.old_objects)\n",
      "  File \"c:\\users\\martin\\appdata\\local\\programs\\python\\python37\\lib\\site-packages\\IPython\\extensions\\autoreload.py\", line 378, in superreload\n",
      "    module = reload(module)\n",
      "  File \"c:\\users\\martin\\appdata\\local\\programs\\python\\python37\\lib\\imp.py\", line 314, in reload\n",
      "    return importlib.reload(module)\n",
      "  File \"c:\\users\\martin\\appdata\\local\\programs\\python\\python37\\lib\\importlib\\__init__.py\", line 169, in reload\n",
      "    _bootstrap._exec(spec, module)\n",
      "  File \"<frozen importlib._bootstrap>\", line 630, in _exec\n",
      "  File \"<frozen importlib._bootstrap_external>\", line 724, in exec_module\n",
      "  File \"<frozen importlib._bootstrap_external>\", line 860, in get_code\n",
      "  File \"<frozen importlib._bootstrap_external>\", line 791, in source_to_code\n",
      "  File \"<frozen importlib._bootstrap>\", line 219, in _call_with_frames_removed\n",
      "  File \"C:\\Users\\Martin\\git\\lapi\\Carto_Lapi\\Analyse\\traitement_od.py\", line 272\n",
      "    def recherche_trajet_indirect(self):\n",
      "    ^\n",
      "IndentationError: expected an indented block\n",
      "]\n"
     ]
    }
   ],
   "source": [
    "for indice, couple_cam in enumerate([[liste_test[i],liste_test[i+1]] for i in range(len(liste_test)-1)]) :\n",
    "    print ( indice, couple_cam)"
   ]
  },
  {
   "cell_type": "code",
   "execution_count": 10,
   "metadata": {},
   "outputs": [],
   "source": [
    "toto={'ata':'titi', 'rrr':'bar'}"
   ]
  },
  {
   "cell_type": "code",
   "execution_count": 11,
   "metadata": {},
   "outputs": [
    {
     "data": {
      "text/plain": [
       "'titi'"
      ]
     },
     "execution_count": 11,
     "metadata": {},
     "output_type": "execute_result"
    }
   ],
   "source": [
    "toto['ata']"
   ]
  },
  {
   "cell_type": "code",
   "execution_count": null,
   "metadata": {},
   "outputs": [],
   "source": []
  }
 ],
 "metadata": {
  "kernelspec": {
   "display_name": "Python 3",
   "language": "python",
   "name": "python3"
  },
  "language_info": {
   "codemirror_mode": {
    "name": "ipython",
    "version": 3
   },
   "file_extension": ".py",
   "mimetype": "text/x-python",
   "name": "python",
   "nbconvert_exporter": "python",
   "pygments_lexer": "ipython3",
   "version": "3.7.2"
  }
 },
 "nbformat": 4,
 "nbformat_minor": 2
}
