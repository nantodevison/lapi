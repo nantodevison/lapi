{
 "cells": [
  {
   "cell_type": "markdown",
   "metadata": {},
   "source": [
    "Test du projet de class trajets indirect"
   ]
  },
  {
   "cell_type": "code",
   "execution_count": 258,
   "metadata": {},
   "outputs": [
    {
     "name": "stdout",
     "output_type": "stream",
     "text": [
      "The autoreload extension is already loaded. To reload it, use:\n",
      "  %reload_ext autoreload\n"
     ]
    }
   ],
   "source": [
    "%load_ext autoreload\n",
    "%autoreload 2\n",
    "import sys #c'est pas propre mais pour le moment pour importer mes modules perso dans le notebook je ne sais pas faire\n",
    "sys.path.append(r'C:\\Users\\martin.schoreisz\\git\\Outils\\Outils\\Martin_Perso')\n",
    "import traitement_od as t\n",
    "import pandas as pd\n",
    "import numpy as np\n",
    "import altair as alt\n",
    "import datetime as dt\n",
    "pd.set_option('display.max_colwidth', 1000)\n",
    "import os\n",
    "from sklearn import cluster"
   ]
  },
  {
   "cell_type": "code",
   "execution_count": 6,
   "metadata": {},
   "outputs": [
    {
     "name": "stdout",
     "output_type": "stream",
     "text": [
      "Wall time: 1min 45s\n"
     ]
    }
   ],
   "source": [
    "%time df_journee=t.ouvrir_fichier_lapi('2019-01-29 00:00:00','2019-01-30 23:59:00')"
   ]
  },
  {
   "cell_type": "code",
   "execution_count": 7,
   "metadata": {},
   "outputs": [],
   "source": [
    "toto=t.trajet_indirect(df_journee,'2019-01-29 00:00:00', 60, 16, [19,4,5])"
   ]
  },
  {
   "cell_type": "code",
   "execution_count": 74,
   "metadata": {},
   "outputs": [
    {
     "data": {
      "text/plain": [
       "True"
      ]
     },
     "execution_count": 74,
     "metadata": {},
     "output_type": "execute_result"
    }
   ],
   "source": [
    "toto.df_transit.empty"
   ]
  },
  {
   "cell_type": "code",
   "execution_count": 38,
   "metadata": {},
   "outputs": [],
   "source": [
    "liste_trajet=(pd.DataFrame([{'o_d':'A63-A10','trajets':[{'cameras':[19,4,5],'type_trajet':'indirect'},\n",
    "                                                       {'cameras':[19,1,5],'type_trajet':'indirect'},\n",
    "                                                       {'cameras':[19,5],'type_trajet':'direct'},\n",
    "                                                      ]},\n",
    "                          {'o_d':'A62-A10','trajets':[{'cameras':[10,4,5],'type_trajet':'indirect'},\n",
    "                                                       {'cameras':[10,1,5],'type_trajet':'indirect'},\n",
    "                                                       {'cameras':[10,5],'type_trajet':'direct'},\n",
    "                                                      ]},\n",
    "                           ]))"
   ]
  },
  {
   "cell_type": "code",
   "execution_count": 39,
   "metadata": {},
   "outputs": [
    {
     "data": {
      "text/html": [
       "<div>\n",
       "<style scoped>\n",
       "    .dataframe tbody tr th:only-of-type {\n",
       "        vertical-align: middle;\n",
       "    }\n",
       "\n",
       "    .dataframe tbody tr th {\n",
       "        vertical-align: top;\n",
       "    }\n",
       "\n",
       "    .dataframe thead th {\n",
       "        text-align: right;\n",
       "    }\n",
       "</style>\n",
       "<table border=\"1\" class=\"dataframe\">\n",
       "  <thead>\n",
       "    <tr style=\"text-align: right;\">\n",
       "      <th></th>\n",
       "      <th>o_d</th>\n",
       "      <th>trajets</th>\n",
       "    </tr>\n",
       "  </thead>\n",
       "  <tbody>\n",
       "    <tr>\n",
       "      <th>0</th>\n",
       "      <td>A63-A10</td>\n",
       "      <td>[{'cameras': [19, 4, 5], 'type_trajet': 'indirect'}, {'cameras': [19, 1, 5], 'type_trajet': 'indirect'}, {'cameras': [19, 5], 'type_trajet': 'direct'}]</td>\n",
       "    </tr>\n",
       "    <tr>\n",
       "      <th>1</th>\n",
       "      <td>A62-A10</td>\n",
       "      <td>[{'cameras': [10, 4, 5], 'type_trajet': 'indirect'}, {'cameras': [10, 1, 5], 'type_trajet': 'indirect'}, {'cameras': [10, 5], 'type_trajet': 'direct'}]</td>\n",
       "    </tr>\n",
       "  </tbody>\n",
       "</table>\n",
       "</div>"
      ],
      "text/plain": [
       "       o_d                                                                                                                                                  trajets\n",
       "0  A63-A10  [{'cameras': [19, 4, 5], 'type_trajet': 'indirect'}, {'cameras': [19, 1, 5], 'type_trajet': 'indirect'}, {'cameras': [19, 5], 'type_trajet': 'direct'}]\n",
       "1  A62-A10  [{'cameras': [10, 4, 5], 'type_trajet': 'indirect'}, {'cameras': [10, 1, 5], 'type_trajet': 'indirect'}, {'cameras': [10, 5], 'type_trajet': 'direct'}]"
      ]
     },
     "execution_count": 39,
     "metadata": {},
     "output_type": "execute_result"
    }
   ],
   "source": [
    "liste_trajet"
   ]
  },
  {
   "cell_type": "markdown",
   "metadata": {},
   "source": [
    "Pour une o_d, sur une journee"
   ]
  },
  {
   "cell_type": "code",
   "execution_count": 214,
   "metadata": {},
   "outputs": [
    {
     "name": "stdout",
     "output_type": "stream",
     "text": [
      "Wall time: 0 ns\n",
      "A63-A10 2019-01-29 00:00:00 [19, 5] 0\n",
      "A62-A10 2019-01-29 00:00:00 [10, 5] 0\n",
      "A63-A10 2019-01-29 01:00:00 [19, 5] 0\n",
      "A62-A10 2019-01-29 01:00:00 [10, 5] 0\n",
      "A63-A10 2019-01-29 02:00:00 [19, 5] 0\n",
      "A62-A10 2019-01-29 02:00:00 [10, 5] 0\n",
      "A63-A10 2019-01-29 03:00:00 [19, 5] 0\n",
      "A62-A10 2019-01-29 03:00:00 [10, 5] 0\n",
      "A63-A10 2019-01-29 04:00:00 [19, 5] 0\n",
      "A62-A10 2019-01-29 04:00:00 [10, 5] 0\n",
      "A63-A10 2019-01-29 05:00:00 [19, 5] 0\n",
      "A62-A10 2019-01-29 05:00:00 [10, 5] 0\n",
      "A63-A10 2019-01-29 06:00:00 [19, 5] 0\n",
      "A62-A10 2019-01-29 06:00:00 [10, 5] 0\n",
      "A63-A10 2019-01-29 07:00:00 [19, 4, 5] 9\n",
      "A63-A10 2019-01-29 07:00:00 [19, 5] 1\n",
      "A62-A10 2019-01-29 07:00:00 [10, 5] 1\n",
      "A63-A10 2019-01-29 08:00:00 [19, 4, 5] 86\n",
      "A63-A10 2019-01-29 08:00:00 [19, 1, 5] 2\n",
      "A63-A10 2019-01-29 08:00:00 [19, 5] 15\n",
      "A62-A10 2019-01-29 08:00:00 [10, 4, 5] 9\n",
      "A62-A10 2019-01-29 08:00:00 [10, 5] 17\n",
      "A63-A10 2019-01-29 09:00:00 [19, 4, 5] 78\n",
      "A63-A10 2019-01-29 09:00:00 [19, 1, 5] 2\n",
      "A63-A10 2019-01-29 09:00:00 [19, 5] 14\n",
      "A62-A10 2019-01-29 09:00:00 [10, 4, 5] 2\n",
      "A62-A10 2019-01-29 09:00:00 [10, 5] 38\n"
     ]
    }
   ],
   "source": [
    "dates= pd.date_range('2019-01-29', periods=10, freq='H')\n",
    "%time \n",
    "for date in dates : \n",
    "    date=date.strftime(\"%Y-%m-%d %H:%M:%S\")\n",
    "    for index, value in liste_trajet.iterrows() : \n",
    "        o_d, carac_trajet=value[0],value[1]\n",
    "        for dico_carac in carac_trajet :\n",
    "            cameras=dico_carac['cameras']\n",
    "            type_t=dico_carac['type_trajet']\n",
    "            if type_t=='indirect' : \n",
    "                trajet=t.trajet_indirect(df_journee,date, 60, 16, cameras)\n",
    "                df_trajet=trajet.df_transit#en deduire le total\n",
    "                if df_trajet.empty : \n",
    "                    continue\n",
    "                trajet.exporter_graph(r'Q:\\DAIT\\TI\\DREAL33\\2018\\C17SI0073_LAPI\\Traitements\\python\\graphs',o_d)\n",
    "            else :\n",
    "                trajet=t.trajet_direct(df_journee,date, 60, 16, cameras[0],cameras[1])\n",
    "                df_trajet=trajet.df_tps_parcours_pl_final#por permettre le suivi et retrouver les camera intermediaires\n",
    "                if df_trajet.empty : \n",
    "                    continue\n",
    "                trajet.exporter_graph(r'Q:\\DAIT\\TI\\DREAL33\\2018\\C17SI0073_LAPI\\Traitements\\python\\graphs',o_d,trajet.plot_graphs()[2])\n",
    "            #df_trajet['cameras']=str(cameras)#pour suivi possible\n",
    "            if 'dico_od' in locals() :\n",
    "                dico_od=pd.concat([dico_od,df_trajet], sort=False)\n",
    "            else : \n",
    "                dico_od=df_trajet\n",
    "            print(o_d,date, cameras, len(df_trajet))"
   ]
  },
  {
   "cell_type": "code",
   "execution_count": 230,
   "metadata": {},
   "outputs": [],
   "source": [
    "toto=t.trajet_direct(df_journee,'2019-01-29 09:00:00', 120, 16, 10,5)"
   ]
  },
  {
   "cell_type": "code",
   "execution_count": 231,
   "metadata": {},
   "outputs": [],
   "source": [
    "graph=toto.plot_graphs()[2]"
   ]
  },
  {
   "cell_type": "code",
   "execution_count": 232,
   "metadata": {},
   "outputs": [
    {
     "data": {
      "application/vnd.vegalite.v2+json": {
       "$schema": "https://vega.github.io/schema/vega-lite/v2.6.0.json",
       "config": {
        "view": {
         "height": 300,
         "width": 400
        }
       },
       "datasets": {
        "data-01cac3abe96fea1cb3227cb26dbdb8ba": [
         {
          "created_x": "2019-01-29T09:00:22",
          "l": 1,
          "pl_85pctl": "2018-01-01T01:12:09.199999999",
          "pl_90pctl": "2018-01-01T01:58:07.900000",
          "tps_parcours": "2018-01-01T00:08:41"
         },
         {
          "created_x": "2019-01-29T09:05:55",
          "l": 1,
          "pl_85pctl": "2018-01-01T01:12:09.199999999",
          "pl_90pctl": "2018-01-01T01:58:07.900000",
          "tps_parcours": "2018-01-01T00:08:39"
         },
         {
          "created_x": "2019-01-29T09:06:18",
          "l": 1,
          "pl_85pctl": "2018-01-01T01:12:09.199999999",
          "pl_90pctl": "2018-01-01T01:58:07.900000",
          "tps_parcours": "2018-01-01T00:10:17"
         },
         {
          "created_x": "2019-01-29T09:12:09",
          "l": 1,
          "pl_85pctl": "2018-01-01T01:12:09.199999999",
          "pl_90pctl": "2018-01-01T01:58:07.900000",
          "tps_parcours": "2018-01-01T00:08:54"
         },
         {
          "created_x": "2019-01-29T09:16:07",
          "l": 1,
          "pl_85pctl": "2018-01-01T01:12:09.199999999",
          "pl_90pctl": "2018-01-01T01:58:07.900000",
          "tps_parcours": "2018-01-01T00:05:12"
         },
         {
          "created_x": "2019-01-29T09:09:52",
          "l": 1,
          "pl_85pctl": "2018-01-01T01:12:09.199999999",
          "pl_90pctl": "2018-01-01T01:58:07.900000",
          "tps_parcours": "2018-01-01T00:11:34"
         },
         {
          "created_x": "2019-01-29T09:14:10",
          "l": 1,
          "pl_85pctl": "2018-01-01T01:12:09.199999999",
          "pl_90pctl": "2018-01-01T01:58:07.900000",
          "tps_parcours": "2018-01-01T00:08:59"
         },
         {
          "created_x": "2019-01-29T09:13:38",
          "l": 1,
          "pl_85pctl": "2018-01-01T01:12:09.199999999",
          "pl_90pctl": "2018-01-01T01:58:07.900000",
          "tps_parcours": "2018-01-01T00:09:42"
         },
         {
          "created_x": "2019-01-29T09:16:15",
          "l": 1,
          "pl_85pctl": "2018-01-01T01:12:09.199999999",
          "pl_90pctl": "2018-01-01T01:58:07.900000",
          "tps_parcours": "2018-01-01T00:09:00"
         },
         {
          "created_x": "2019-01-29T09:16:35",
          "l": 1,
          "pl_85pctl": "2018-01-01T01:12:09.199999999",
          "pl_90pctl": "2018-01-01T01:58:07.900000",
          "tps_parcours": "2018-01-01T00:09:44"
         },
         {
          "created_x": "2019-01-29T09:16:36",
          "l": 1,
          "pl_85pctl": "2018-01-01T01:12:09.199999999",
          "pl_90pctl": "2018-01-01T01:58:07.900000",
          "tps_parcours": "2018-01-01T00:09:43"
         },
         {
          "created_x": "2019-01-29T09:17:54",
          "l": 1,
          "pl_85pctl": "2018-01-01T01:12:09.199999999",
          "pl_90pctl": "2018-01-01T01:58:07.900000",
          "tps_parcours": "2018-01-01T00:09:09"
         },
         {
          "created_x": "2019-01-29T09:24:54",
          "l": 1,
          "pl_85pctl": "2018-01-01T01:12:09.199999999",
          "pl_90pctl": "2018-01-01T01:58:07.900000",
          "tps_parcours": "2018-01-01T00:04:43"
         },
         {
          "created_x": "2019-01-29T09:26:11",
          "l": 1,
          "pl_85pctl": "2018-01-01T01:12:09.199999999",
          "pl_90pctl": "2018-01-01T01:58:07.900000",
          "tps_parcours": "2018-01-01T00:03:52"
         },
         {
          "created_x": "2019-01-29T09:25:44",
          "l": 1,
          "pl_85pctl": "2018-01-01T01:12:09.199999999",
          "pl_90pctl": "2018-01-01T01:58:07.900000",
          "tps_parcours": "2018-01-01T00:08:48"
         },
         {
          "created_x": "2019-01-29T09:28:52",
          "l": 1,
          "pl_85pctl": "2018-01-01T01:12:09.199999999",
          "pl_90pctl": "2018-01-01T01:58:07.900000",
          "tps_parcours": "2018-01-01T00:06:16"
         },
         {
          "created_x": "2019-01-29T09:26:54",
          "l": 1,
          "pl_85pctl": "2018-01-01T01:12:09.199999999",
          "pl_90pctl": "2018-01-01T01:58:07.900000",
          "tps_parcours": "2018-01-01T00:08:39"
         },
         {
          "created_x": "2019-01-29T09:27:11",
          "l": 1,
          "pl_85pctl": "2018-01-01T01:12:09.199999999",
          "pl_90pctl": "2018-01-01T01:58:07.900000",
          "tps_parcours": "2018-01-01T00:08:52"
         },
         {
          "created_x": "2019-01-29T09:30:45",
          "l": 1,
          "pl_85pctl": "2018-01-01T01:12:09.199999999",
          "pl_90pctl": "2018-01-01T01:58:07.900000",
          "tps_parcours": "2018-01-01T00:08:49"
         },
         {
          "created_x": "2019-01-29T09:31:20",
          "l": 1,
          "pl_85pctl": "2018-01-01T01:12:09.199999999",
          "pl_90pctl": "2018-01-01T01:58:07.900000",
          "tps_parcours": "2018-01-01T00:08:57"
         },
         {
          "created_x": "2019-01-29T09:31:48",
          "l": 1,
          "pl_85pctl": "2018-01-01T01:12:09.199999999",
          "pl_90pctl": "2018-01-01T01:58:07.900000",
          "tps_parcours": "2018-01-01T00:09:05"
         },
         {
          "created_x": "2019-01-29T09:31:24",
          "l": 1,
          "pl_85pctl": "2018-01-01T01:12:09.199999999",
          "pl_90pctl": "2018-01-01T01:58:07.900000",
          "tps_parcours": "2018-01-01T00:10:20"
         },
         {
          "created_x": "2019-01-29T09:37:02",
          "l": 1,
          "pl_85pctl": "2018-01-01T01:12:09.199999999",
          "pl_90pctl": "2018-01-01T01:58:07.900000",
          "tps_parcours": "2018-01-01T00:05:54"
         },
         {
          "created_x": "2019-01-29T09:37:21",
          "l": 1,
          "pl_85pctl": "2018-01-01T01:12:09.199999999",
          "pl_90pctl": "2018-01-01T01:58:07.900000",
          "tps_parcours": "2018-01-01T00:07:27"
         },
         {
          "created_x": "2019-01-29T09:36:05",
          "l": 1,
          "pl_85pctl": "2018-01-01T01:12:09.199999999",
          "pl_90pctl": "2018-01-01T01:58:07.900000",
          "tps_parcours": "2018-01-01T00:08:54"
         },
         {
          "created_x": "2019-01-29T09:36:27",
          "l": 1,
          "pl_85pctl": "2018-01-01T01:12:09.199999999",
          "pl_90pctl": "2018-01-01T01:58:07.900000",
          "tps_parcours": "2018-01-01T00:09:20"
         },
         {
          "created_x": "2019-01-29T09:37:45",
          "l": 1,
          "pl_85pctl": "2018-01-01T01:12:09.199999999",
          "pl_90pctl": "2018-01-01T01:58:07.900000",
          "tps_parcours": "2018-01-01T00:08:42"
         },
         {
          "created_x": "2019-01-29T09:38:10",
          "l": 1,
          "pl_85pctl": "2018-01-01T01:12:09.199999999",
          "pl_90pctl": "2018-01-01T01:58:07.900000",
          "tps_parcours": "2018-01-01T00:08:56"
         },
         {
          "created_x": "2019-01-29T09:40:19",
          "l": 1,
          "pl_85pctl": "2018-01-01T01:12:09.199999999",
          "pl_90pctl": "2018-01-01T01:58:07.900000",
          "tps_parcours": "2018-01-01T00:07:43"
         },
         {
          "created_x": "2019-01-29T09:39:57",
          "l": 1,
          "pl_85pctl": "2018-01-01T01:12:09.199999999",
          "pl_90pctl": "2018-01-01T01:58:07.900000",
          "tps_parcours": "2018-01-01T00:08:34"
         },
         {
          "created_x": "2019-01-29T09:40:57",
          "l": 1,
          "pl_85pctl": "2018-01-01T01:12:09.199999999",
          "pl_90pctl": "2018-01-01T01:58:07.900000",
          "tps_parcours": "2018-01-01T00:09:44"
         },
         {
          "created_x": "2019-01-29T09:41:11",
          "l": 1,
          "pl_85pctl": "2018-01-01T01:12:09.199999999",
          "pl_90pctl": "2018-01-01T01:58:07.900000",
          "tps_parcours": "2018-01-01T00:09:40"
         },
         {
          "created_x": "2019-01-29T09:43:43",
          "l": 1,
          "pl_85pctl": "2018-01-01T01:12:09.199999999",
          "pl_90pctl": "2018-01-01T01:58:07.900000",
          "tps_parcours": "2018-01-01T00:09:00"
         },
         {
          "created_x": "2019-01-29T09:44:11",
          "l": 1,
          "pl_85pctl": "2018-01-01T01:12:09.199999999",
          "pl_90pctl": "2018-01-01T01:58:07.900000",
          "tps_parcours": "2018-01-01T00:11:42"
         },
         {
          "created_x": "2019-01-29T09:44:11",
          "l": 1,
          "pl_85pctl": "2018-01-01T01:12:09.199999999",
          "pl_90pctl": "2018-01-01T01:58:07.900000",
          "tps_parcours": "2018-01-01T00:11:42"
         },
         {
          "created_x": "2019-01-29T09:43:53",
          "l": 1,
          "pl_85pctl": "2018-01-01T01:12:09.199999999",
          "pl_90pctl": "2018-01-01T01:58:07.900000",
          "tps_parcours": "2018-01-01T00:12:14"
         },
         {
          "created_x": "2019-01-29T09:50:51",
          "l": 1,
          "pl_85pctl": "2018-01-01T01:12:09.199999999",
          "pl_90pctl": "2018-01-01T01:58:07.900000",
          "tps_parcours": "2018-01-01T00:10:44"
         },
         {
          "created_x": "2019-01-29T09:53:17",
          "l": 1,
          "pl_85pctl": "2018-01-01T01:12:09.199999999",
          "pl_90pctl": "2018-01-01T01:58:07.900000",
          "tps_parcours": "2018-01-01T00:11:41"
         },
         {
          "created_x": "2019-01-29T09:58:03",
          "l": 1,
          "pl_85pctl": "2018-01-01T01:12:09.199999999",
          "pl_90pctl": "2018-01-01T01:58:07.900000",
          "tps_parcours": "2018-01-01T00:07:37"
         },
         {
          "created_x": "2019-01-29T09:59:28",
          "l": 1,
          "pl_85pctl": "2018-01-01T01:12:09.199999999",
          "pl_90pctl": "2018-01-01T01:58:07.900000",
          "tps_parcours": "2018-01-01T00:11:31"
         },
         {
          "created_x": "2019-01-29T10:01:12",
          "l": 1,
          "pl_85pctl": "2018-01-01T01:12:09.199999999",
          "pl_90pctl": "2018-01-01T01:58:07.900000",
          "tps_parcours": "2018-01-01T00:11:17"
         },
         {
          "created_x": "2019-01-29T10:01:34",
          "l": 1,
          "pl_85pctl": "2018-01-01T01:12:09.199999999",
          "pl_90pctl": "2018-01-01T01:58:07.900000",
          "tps_parcours": "2018-01-01T00:12:04"
         },
         {
          "created_x": "2019-01-29T10:03:41",
          "l": 1,
          "pl_85pctl": "2018-01-01T01:12:09.199999999",
          "pl_90pctl": "2018-01-01T01:58:07.900000",
          "tps_parcours": "2018-01-01T00:10:33"
         },
         {
          "created_x": "2019-01-29T10:03:32",
          "l": 1,
          "pl_85pctl": "2018-01-01T01:12:09.199999999",
          "pl_90pctl": "2018-01-01T01:58:07.900000",
          "tps_parcours": "2018-01-01T00:11:24"
         },
         {
          "created_x": "2019-01-29T10:03:56",
          "l": 1,
          "pl_85pctl": "2018-01-01T01:12:09.199999999",
          "pl_90pctl": "2018-01-01T01:58:07.900000",
          "tps_parcours": "2018-01-01T00:11:19"
         },
         {
          "created_x": "2019-01-29T10:09:21",
          "l": 1,
          "pl_85pctl": "2018-01-01T01:12:09.199999999",
          "pl_90pctl": "2018-01-01T01:58:07.900000",
          "tps_parcours": "2018-01-01T00:06:16"
         },
         {
          "created_x": "2019-01-29T10:08:11",
          "l": 1,
          "pl_85pctl": "2018-01-01T01:12:09.199999999",
          "pl_90pctl": "2018-01-01T01:58:07.900000",
          "tps_parcours": "2018-01-01T00:09:07"
         },
         {
          "created_x": "2019-01-29T10:06:37",
          "l": 1,
          "pl_85pctl": "2018-01-01T01:12:09.199999999",
          "pl_90pctl": "2018-01-01T01:58:07.900000",
          "tps_parcours": "2018-01-01T00:11:01"
         },
         {
          "created_x": "2019-01-29T10:08:21",
          "l": 1,
          "pl_85pctl": "2018-01-01T01:12:09.199999999",
          "pl_90pctl": "2018-01-01T01:58:07.900000",
          "tps_parcours": "2018-01-01T00:09:25"
         },
         {
          "created_x": "2019-01-29T10:12:36",
          "l": 1,
          "pl_85pctl": "2018-01-01T01:12:09.199999999",
          "pl_90pctl": "2018-01-01T01:58:07.900000",
          "tps_parcours": "2018-01-01T00:05:47"
         },
         {
          "created_x": "2019-01-29T10:08:16",
          "l": 1,
          "pl_85pctl": "2018-01-01T01:12:09.199999999",
          "pl_90pctl": "2018-01-01T01:58:07.900000",
          "tps_parcours": "2018-01-01T00:10:49"
         },
         {
          "created_x": "2019-01-29T10:09:21",
          "l": 1,
          "pl_85pctl": "2018-01-01T01:12:09.199999999",
          "pl_90pctl": "2018-01-01T01:58:07.900000",
          "tps_parcours": "2018-01-01T00:10:01"
         },
         {
          "created_x": "2019-01-29T10:11:42",
          "l": 1,
          "pl_85pctl": "2018-01-01T01:12:09.199999999",
          "pl_90pctl": "2018-01-01T01:58:07.900000",
          "tps_parcours": "2018-01-01T00:09:33"
         },
         {
          "created_x": "2019-01-29T10:12:40",
          "l": 1,
          "pl_85pctl": "2018-01-01T01:12:09.199999999",
          "pl_90pctl": "2018-01-01T01:58:07.900000",
          "tps_parcours": "2018-01-01T00:08:54"
         },
         {
          "created_x": "2019-01-29T10:15:02",
          "l": 1,
          "pl_85pctl": "2018-01-01T01:12:09.199999999",
          "pl_90pctl": "2018-01-01T01:58:07.900000",
          "tps_parcours": "2018-01-01T00:07:48"
         },
         {
          "created_x": "2019-01-29T10:12:15",
          "l": 1,
          "pl_85pctl": "2018-01-01T01:12:09.199999999",
          "pl_90pctl": "2018-01-01T01:58:07.900000",
          "tps_parcours": "2018-01-01T00:10:51"
         },
         {
          "created_x": "2019-01-29T10:13:23",
          "l": 1,
          "pl_85pctl": "2018-01-01T01:12:09.199999999",
          "pl_90pctl": "2018-01-01T01:58:07.900000",
          "tps_parcours": "2018-01-01T00:09:48"
         },
         {
          "created_x": "2019-01-29T10:18:44",
          "l": 1,
          "pl_85pctl": "2018-01-01T01:12:09.199999999",
          "pl_90pctl": "2018-01-01T01:58:07.900000",
          "tps_parcours": "2018-01-01T00:05:33"
         },
         {
          "created_x": "2019-01-29T10:21:59",
          "l": 1,
          "pl_85pctl": "2018-01-01T01:12:09.199999999",
          "pl_90pctl": "2018-01-01T01:58:07.900000",
          "tps_parcours": "2018-01-01T00:05:11"
         },
         {
          "created_x": "2019-01-29T10:19:28",
          "l": 1,
          "pl_85pctl": "2018-01-01T01:12:09.199999999",
          "pl_90pctl": "2018-01-01T01:58:07.900000",
          "tps_parcours": "2018-01-01T00:08:15"
         },
         {
          "created_x": "2019-01-29T10:19:42",
          "l": 1,
          "pl_85pctl": "2018-01-01T01:12:09.199999999",
          "pl_90pctl": "2018-01-01T01:58:07.900000",
          "tps_parcours": "2018-01-01T00:08:43"
         },
         {
          "created_x": "2019-01-29T10:21:29",
          "l": 1,
          "pl_85pctl": "2018-01-01T01:12:09.199999999",
          "pl_90pctl": "2018-01-01T01:58:07.900000",
          "tps_parcours": "2018-01-01T00:09:21"
         },
         {
          "created_x": "2019-01-29T10:22:48",
          "l": 1,
          "pl_85pctl": "2018-01-01T01:12:09.199999999",
          "pl_90pctl": "2018-01-01T01:58:07.900000",
          "tps_parcours": "2018-01-01T00:08:54"
         },
         {
          "created_x": "2019-01-29T10:21:52",
          "l": 1,
          "pl_85pctl": "2018-01-01T01:12:09.199999999",
          "pl_90pctl": "2018-01-01T01:58:07.900000",
          "tps_parcours": "2018-01-01T00:10:08"
         },
         {
          "created_x": "2019-01-29T10:30:29",
          "l": 1,
          "pl_85pctl": "2018-01-01T01:12:09.199999999",
          "pl_90pctl": "2018-01-01T01:58:07.900000",
          "tps_parcours": "2018-01-01T00:11:10"
         },
         {
          "created_x": "2019-01-29T10:30:54",
          "l": 1,
          "pl_85pctl": "2018-01-01T01:12:09.199999999",
          "pl_90pctl": "2018-01-01T01:58:07.900000",
          "tps_parcours": "2018-01-01T00:11:33"
         },
         {
          "created_x": "2019-01-29T10:39:45",
          "l": 1,
          "pl_85pctl": "2018-01-01T01:12:09.199999999",
          "pl_90pctl": "2018-01-01T01:58:07.900000",
          "tps_parcours": "2018-01-01T00:05:51"
         },
         {
          "created_x": "2019-01-29T10:35:50",
          "l": 1,
          "pl_85pctl": "2018-01-01T01:12:09.199999999",
          "pl_90pctl": "2018-01-01T01:58:07.900000",
          "tps_parcours": "2018-01-01T00:12:31"
         },
         {
          "created_x": "2019-01-29T10:38:03",
          "l": 1,
          "pl_85pctl": "2018-01-01T01:12:09.199999999",
          "pl_90pctl": "2018-01-01T01:58:07.900000",
          "tps_parcours": "2018-01-01T00:11:04"
         },
         {
          "created_x": "2019-01-29T10:41:54",
          "l": 1,
          "pl_85pctl": "2018-01-01T01:12:09.199999999",
          "pl_90pctl": "2018-01-01T01:58:07.900000",
          "tps_parcours": "2018-01-01T00:11:02"
         },
         {
          "created_x": "2019-01-29T10:42:14",
          "l": 1,
          "pl_85pctl": "2018-01-01T01:12:09.199999999",
          "pl_90pctl": "2018-01-01T01:58:07.900000",
          "tps_parcours": "2018-01-01T00:12:02"
         },
         {
          "created_x": "2019-01-29T10:46:31",
          "l": 1,
          "pl_85pctl": "2018-01-01T01:12:09.199999999",
          "pl_90pctl": "2018-01-01T01:58:07.900000",
          "tps_parcours": "2018-01-01T00:09:42"
         },
         {
          "created_x": "2019-01-29T10:44:26",
          "l": 1,
          "pl_85pctl": "2018-01-01T01:12:09.199999999",
          "pl_90pctl": "2018-01-01T01:58:07.900000",
          "tps_parcours": "2018-01-01T00:12:12"
         },
         {
          "created_x": "2019-01-29T10:52:20",
          "l": 1,
          "pl_85pctl": "2018-01-01T01:12:09.199999999",
          "pl_90pctl": "2018-01-01T01:58:07.900000",
          "tps_parcours": "2018-01-01T00:08:08"
         },
         {
          "created_x": "2019-01-29T10:52:36",
          "l": 1,
          "pl_85pctl": "2018-01-01T01:12:09.199999999",
          "pl_90pctl": "2018-01-01T01:58:07.900000",
          "tps_parcours": "2018-01-01T00:08:42"
         },
         {
          "created_x": "2019-01-29T10:51:46",
          "l": 1,
          "pl_85pctl": "2018-01-01T01:12:09.199999999",
          "pl_90pctl": "2018-01-01T01:58:07.900000",
          "tps_parcours": "2018-01-01T00:09:49"
         },
         {
          "created_x": "2019-01-29T10:57:09",
          "l": 1,
          "pl_85pctl": "2018-01-01T01:12:09.199999999",
          "pl_90pctl": "2018-01-01T01:58:07.900000",
          "tps_parcours": "2018-01-01T00:04:57"
         },
         {
          "created_x": "2019-01-29T10:56:59",
          "l": 1,
          "pl_85pctl": "2018-01-01T01:12:09.199999999",
          "pl_90pctl": "2018-01-01T01:58:07.900000",
          "tps_parcours": "2018-01-01T00:09:35"
         },
         {
          "created_x": "2019-01-29T09:46:34",
          "l": 1,
          "pl_85pctl": "2018-01-01T01:12:09.199999999",
          "pl_90pctl": "2018-01-01T01:58:07.900000",
          "tps_parcours": "2018-01-01T01:21:27"
         },
         {
          "created_x": "2019-01-29T10:40:53",
          "l": 1,
          "pl_85pctl": "2018-01-01T01:12:09.199999999",
          "pl_90pctl": "2018-01-01T01:58:07.900000",
          "tps_parcours": "2018-01-01T00:30:04"
         },
         {
          "created_x": "2019-01-29T09:58:07",
          "l": 1,
          "pl_85pctl": "2018-01-01T01:12:09.199999999",
          "pl_90pctl": "2018-01-01T01:58:07.900000",
          "tps_parcours": "2018-01-01T01:14:27"
         },
         {
          "created_x": "2019-01-29T10:31:53",
          "l": 1,
          "pl_85pctl": "2018-01-01T01:12:09.199999999",
          "pl_90pctl": "2018-01-01T01:58:07.900000",
          "tps_parcours": "2018-01-01T01:10:55"
         },
         {
          "created_x": "2019-01-29T09:12:38",
          "l": 1,
          "pl_85pctl": "2018-01-01T01:12:09.199999999",
          "pl_90pctl": "2018-01-01T01:58:07.900000",
          "tps_parcours": "2018-01-01T02:34:00"
         },
         {
          "created_x": "2019-01-29T10:55:24",
          "l": 1,
          "pl_85pctl": "2018-01-01T01:12:09.199999999",
          "pl_90pctl": "2018-01-01T01:58:07.900000",
          "tps_parcours": "2018-01-01T01:04:36"
         },
         {
          "created_x": "2019-01-29T10:14:39",
          "l": 1,
          "pl_85pctl": "2018-01-01T01:12:09.199999999",
          "pl_90pctl": "2018-01-01T01:58:07.900000",
          "tps_parcours": "2018-01-01T01:59:02"
         },
         {
          "created_x": "2019-01-29T10:17:46",
          "l": 1,
          "pl_85pctl": "2018-01-01T01:12:09.199999999",
          "pl_90pctl": "2018-01-01T01:58:07.900000",
          "tps_parcours": "2018-01-01T02:02:14"
         },
         {
          "created_x": "2019-01-29T10:45:43",
          "l": 1,
          "pl_85pctl": "2018-01-01T01:12:09.199999999",
          "pl_90pctl": "2018-01-01T01:58:07.900000",
          "tps_parcours": "2018-01-01T01:37:01"
         },
         {
          "created_x": "2019-01-29T10:57:02",
          "l": 1,
          "pl_85pctl": "2018-01-01T01:12:09.199999999",
          "pl_90pctl": "2018-01-01T01:58:07.900000",
          "tps_parcours": "2018-01-01T01:50:01"
         },
         {
          "created_x": "2019-01-29T10:35:29",
          "l": 1,
          "pl_85pctl": "2018-01-01T01:12:09.199999999",
          "pl_90pctl": "2018-01-01T01:58:07.900000",
          "tps_parcours": "2018-01-01T02:16:37"
         },
         {
          "created_x": "2019-01-29T09:07:53",
          "l": 1,
          "pl_85pctl": "2018-01-01T01:12:09.199999999",
          "pl_90pctl": "2018-01-01T01:58:07.900000",
          "tps_parcours": "2018-01-01T04:05:26"
         },
         {
          "created_x": "2019-01-29T10:20:17",
          "l": 1,
          "pl_85pctl": "2018-01-01T01:12:09.199999999",
          "pl_90pctl": "2018-01-01T01:58:07.900000",
          "tps_parcours": "2018-01-01T03:25:36"
         },
         {
          "created_x": "2019-01-29T10:50:34",
          "l": 1,
          "pl_85pctl": "2018-01-01T01:12:09.199999999",
          "pl_90pctl": "2018-01-01T01:58:07.900000",
          "tps_parcours": "2018-01-01T03:05:10"
         },
         {
          "created_x": "2019-01-29T10:38:45",
          "l": 1,
          "pl_85pctl": "2018-01-01T01:12:09.199999999",
          "pl_90pctl": "2018-01-01T01:58:07.900000",
          "tps_parcours": "2018-01-01T03:43:39"
         },
         {
          "created_x": "2019-01-29T10:02:02",
          "l": 1,
          "pl_85pctl": "2018-01-01T01:12:09.199999999",
          "pl_90pctl": "2018-01-01T01:58:07.900000",
          "tps_parcours": "2018-01-01T04:30:01"
         },
         {
          "created_x": "2019-01-29T10:30:59",
          "l": 1,
          "pl_85pctl": "2018-01-01T01:12:09.199999999",
          "pl_90pctl": "2018-01-01T01:58:07.900000",
          "tps_parcours": "2018-01-01T05:04:56"
         },
         {
          "created_x": "2019-01-29T10:37:41",
          "l": 1,
          "pl_85pctl": "2018-01-01T01:12:09.199999999",
          "pl_90pctl": "2018-01-01T01:58:07.900000",
          "tps_parcours": "2018-01-01T05:22:10"
         },
         {
          "created_x": "2019-01-29T09:41:44",
          "l": 1,
          "pl_85pctl": "2018-01-01T01:12:09.199999999",
          "pl_90pctl": "2018-01-01T01:58:07.900000",
          "tps_parcours": "2018-01-01T06:21:14"
         }
        ]
       },
       "layer": [
        {
         "data": {
          "name": "data-01cac3abe96fea1cb3227cb26dbdb8ba"
         },
         "encoding": {
          "tooltip": {
           "field": "tps_parcours",
           "timeUnit": "hoursminutes",
           "type": "temporal"
          },
          "x": {
           "field": "created_x",
           "type": "temporal"
          },
          "y": {
           "field": "tps_parcours",
           "timeUnit": "hoursminutes",
           "type": "temporal"
          }
         },
         "mark": {
          "color": "gray",
          "type": "point"
         },
         "selection": {
          "selector374": {
           "bind": "scales",
           "encodings": [
            "x",
            "y"
           ],
           "mark": {
            "fill": "#333",
            "fillOpacity": 0.125,
            "stroke": "white"
           },
           "on": "[mousedown, window:mouseup] > window:mousemove!",
           "resolve": "global",
           "translate": "[mousedown, window:mouseup] > window:mousemove!",
           "type": "interval",
           "zoom": "wheel!"
          }
         }
        },
        {
         "data": {
          "name": "data-01cac3abe96fea1cb3227cb26dbdb8ba"
         },
         "encoding": {
          "x": {
           "field": "created_x",
           "type": "temporal"
          },
          "y": {
           "field": "pl_90pctl",
           "timeUnit": "hoursminutes",
           "type": "temporal"
          }
         },
         "mark": {
          "color": "blue",
          "type": "line"
         }
        },
        {
         "data": {
          "name": "data-01cac3abe96fea1cb3227cb26dbdb8ba"
         },
         "encoding": {
          "x": {
           "field": "created_x",
           "type": "temporal"
          },
          "y": {
           "field": "pl_85pctl",
           "timeUnit": "hoursminutes",
           "type": "temporal"
          }
         },
         "mark": {
          "color": "red",
          "type": "line"
         }
        }
       ]
      },
      "image/png": "[encoded data removed]",
      "text/plain": [
       "<VegaLite 2 object>\n",
       "\n",
       "If you see this message, it means the renderer has not been properly enabled\n",
       "for the frontend that you are using. For more information, see\n",
       "https://altair-viz.github.io/user_guide/troubleshooting.html\n"
      ]
     },
     "execution_count": 232,
     "metadata": {},
     "output_type": "execute_result"
    }
   ],
   "source": [
    "graph"
   ]
  },
  {
   "cell_type": "code",
   "execution_count": 241,
   "metadata": {},
   "outputs": [],
   "source": [
    "test_clus=toto.df_tps_parcours_pl_final.loc[:,'tps_parcours'].copy()"
   ]
  },
  {
   "cell_type": "code",
   "execution_count": 242,
   "metadata": {},
   "outputs": [
    {
     "data": {
      "text/plain": [
       "3     00:08:41\n",
       "12    00:08:39\n",
       "19    00:10:17\n",
       "21    00:08:54\n",
       "23    00:05:12\n",
       "25    00:11:34\n",
       "27    00:08:59\n",
       "28    00:09:42\n",
       "32    00:09:00\n",
       "33    00:09:44\n",
       "34    00:09:43\n",
       "35    00:09:09\n",
       "38    00:04:43\n",
       "39    00:03:52\n",
       "41    00:08:48\n",
       "42    00:06:16\n",
       "43    00:08:39\n",
       "44    00:08:52\n",
       "48    00:08:49\n",
       "50    00:08:57\n",
       "51    00:09:05\n",
       "53    00:10:20\n",
       "55    00:05:54\n",
       "60    00:07:27\n",
       "61    00:08:54\n",
       "62    00:09:20\n",
       "64    00:08:42\n",
       "67    00:08:56\n",
       "74    00:08:34\n",
       "79    00:09:44\n",
       "        ...   \n",
       "148   00:08:54\n",
       "149   00:07:48\n",
       "151   00:09:48\n",
       "153   00:05:33\n",
       "160   00:05:11\n",
       "162   00:08:15\n",
       "165   00:08:43\n",
       "171   00:09:21\n",
       "175   00:08:54\n",
       "176   00:10:08\n",
       "197   00:11:10\n",
       "201   00:05:51\n",
       "207   00:12:31\n",
       "212   00:11:04\n",
       "217   00:11:02\n",
       "222   00:12:02\n",
       "225   00:09:42\n",
       "226   00:12:12\n",
       "235   00:08:08\n",
       "237   00:08:42\n",
       "238   00:09:49\n",
       "240   00:04:57\n",
       "250   00:09:35\n",
       "252   01:21:27\n",
       "255   00:30:04\n",
       "257   01:14:27\n",
       "260   01:10:55\n",
       "262   01:04:36\n",
       "265   01:37:01\n",
       "268   01:50:01\n",
       "Name: tps_parcours, Length: 82, dtype: timedelta64[ns]"
      ]
     },
     "execution_count": 242,
     "metadata": {},
     "output_type": "execute_result"
    }
   ],
   "source": [
    "test_clus"
   ]
  },
  {
   "cell_type": "code",
   "execution_count": 251,
   "metadata": {},
   "outputs": [],
   "source": [
    "test=((pd.to_datetime('2018-01-01')+test_clus)-pd.Timestamp(\"1970-01-01\")) // pd.Timedelta('1s')"
   ]
  },
  {
   "cell_type": "code",
   "execution_count": 252,
   "metadata": {},
   "outputs": [
    {
     "data": {
      "text/plain": [
       "3      1514765321\n",
       "12     1514765319\n",
       "19     1514765417\n",
       "21     1514765334\n",
       "23     1514765112\n",
       "25     1514765494\n",
       "27     1514765339\n",
       "28     1514765382\n",
       "32     1514765340\n",
       "33     1514765384\n",
       "34     1514765383\n",
       "35     1514765349\n",
       "38     1514765083\n",
       "39     1514765032\n",
       "41     1514765328\n",
       "42     1514765176\n",
       "43     1514765319\n",
       "44     1514765332\n",
       "48     1514765329\n",
       "50     1514765337\n",
       "51     1514765345\n",
       "53     1514765420\n",
       "55     1514765154\n",
       "60     1514765247\n",
       "61     1514765334\n",
       "62     1514765360\n",
       "64     1514765322\n",
       "67     1514765336\n",
       "74     1514765314\n",
       "79     1514765384\n",
       "          ...    \n",
       "148    1514765334\n",
       "149    1514765268\n",
       "151    1514765388\n",
       "153    1514765133\n",
       "160    1514765111\n",
       "162    1514765295\n",
       "165    1514765323\n",
       "171    1514765361\n",
       "175    1514765334\n",
       "176    1514765408\n",
       "197    1514765470\n",
       "201    1514765151\n",
       "207    1514765551\n",
       "212    1514765464\n",
       "217    1514765462\n",
       "222    1514765522\n",
       "225    1514765382\n",
       "226    1514765532\n",
       "235    1514765288\n",
       "237    1514765322\n",
       "238    1514765389\n",
       "240    1514765097\n",
       "250    1514765375\n",
       "252    1514769687\n",
       "255    1514766604\n",
       "257    1514769267\n",
       "260    1514769055\n",
       "262    1514768676\n",
       "265    1514770621\n",
       "268    1514771401\n",
       "Name: tps_parcours, Length: 82, dtype: int64"
      ]
     },
     "execution_count": 252,
     "metadata": {},
     "output_type": "execute_result"
    }
   ],
   "source": [
    "test"
   ]
  },
  {
   "cell_type": "code",
   "execution_count": 263,
   "metadata": {},
   "outputs": [],
   "source": [
    "mat = test.values"
   ]
  },
  {
   "cell_type": "code",
   "execution_count": 266,
   "metadata": {},
   "outputs": [],
   "source": [
    "mat=mat.reshape(-1, 1)"
   ]
  },
  {
   "cell_type": "code",
   "execution_count": 267,
   "metadata": {},
   "outputs": [
    {
     "data": {
      "text/plain": [
       "KMeans(algorithm='auto', copy_x=True, init='k-means++', max_iter=300,\n",
       "    n_clusters=2, n_init=10, n_jobs=None, precompute_distances='auto',\n",
       "    random_state=None, tol=0.0001, verbose=0)"
      ]
     },
     "execution_count": 267,
     "metadata": {},
     "output_type": "execute_result"
    }
   ],
   "source": [
    "km = sklearn.cluster.KMeans(n_clusters=2)\n",
    "km.fit(mat)"
   ]
  },
  {
   "cell_type": "code",
   "execution_count": 268,
   "metadata": {},
   "outputs": [],
   "source": [
    "labels = km.labels_"
   ]
  },
  {
   "cell_type": "code",
   "execution_count": 271,
   "metadata": {},
   "outputs": [],
   "source": [
    "results = pd.DataFrame([test_clus.index,labels]).T"
   ]
  },
  {
   "cell_type": "code",
   "execution_count": 272,
   "metadata": {},
   "outputs": [
    {
     "data": {
      "text/html": [
       "<div>\n",
       "<style scoped>\n",
       "    .dataframe tbody tr th:only-of-type {\n",
       "        vertical-align: middle;\n",
       "    }\n",
       "\n",
       "    .dataframe tbody tr th {\n",
       "        vertical-align: top;\n",
       "    }\n",
       "\n",
       "    .dataframe thead th {\n",
       "        text-align: right;\n",
       "    }\n",
       "</style>\n",
       "<table border=\"1\" class=\"dataframe\">\n",
       "  <thead>\n",
       "    <tr style=\"text-align: right;\">\n",
       "      <th></th>\n",
       "      <th>0</th>\n",
       "      <th>1</th>\n",
       "    </tr>\n",
       "  </thead>\n",
       "  <tbody>\n",
       "    <tr>\n",
       "      <th>0</th>\n",
       "      <td>3</td>\n",
       "      <td>0</td>\n",
       "    </tr>\n",
       "    <tr>\n",
       "      <th>1</th>\n",
       "      <td>12</td>\n",
       "      <td>0</td>\n",
       "    </tr>\n",
       "    <tr>\n",
       "      <th>2</th>\n",
       "      <td>19</td>\n",
       "      <td>0</td>\n",
       "    </tr>\n",
       "    <tr>\n",
       "      <th>3</th>\n",
       "      <td>21</td>\n",
       "      <td>0</td>\n",
       "    </tr>\n",
       "    <tr>\n",
       "      <th>4</th>\n",
       "      <td>23</td>\n",
       "      <td>0</td>\n",
       "    </tr>\n",
       "    <tr>\n",
       "      <th>5</th>\n",
       "      <td>25</td>\n",
       "      <td>0</td>\n",
       "    </tr>\n",
       "    <tr>\n",
       "      <th>6</th>\n",
       "      <td>27</td>\n",
       "      <td>0</td>\n",
       "    </tr>\n",
       "    <tr>\n",
       "      <th>7</th>\n",
       "      <td>28</td>\n",
       "      <td>0</td>\n",
       "    </tr>\n",
       "    <tr>\n",
       "      <th>8</th>\n",
       "      <td>32</td>\n",
       "      <td>0</td>\n",
       "    </tr>\n",
       "    <tr>\n",
       "      <th>9</th>\n",
       "      <td>33</td>\n",
       "      <td>0</td>\n",
       "    </tr>\n",
       "    <tr>\n",
       "      <th>10</th>\n",
       "      <td>34</td>\n",
       "      <td>0</td>\n",
       "    </tr>\n",
       "    <tr>\n",
       "      <th>11</th>\n",
       "      <td>35</td>\n",
       "      <td>0</td>\n",
       "    </tr>\n",
       "    <tr>\n",
       "      <th>12</th>\n",
       "      <td>38</td>\n",
       "      <td>0</td>\n",
       "    </tr>\n",
       "    <tr>\n",
       "      <th>13</th>\n",
       "      <td>39</td>\n",
       "      <td>0</td>\n",
       "    </tr>\n",
       "    <tr>\n",
       "      <th>14</th>\n",
       "      <td>41</td>\n",
       "      <td>0</td>\n",
       "    </tr>\n",
       "    <tr>\n",
       "      <th>15</th>\n",
       "      <td>42</td>\n",
       "      <td>0</td>\n",
       "    </tr>\n",
       "    <tr>\n",
       "      <th>16</th>\n",
       "      <td>43</td>\n",
       "      <td>0</td>\n",
       "    </tr>\n",
       "    <tr>\n",
       "      <th>17</th>\n",
       "      <td>44</td>\n",
       "      <td>0</td>\n",
       "    </tr>\n",
       "    <tr>\n",
       "      <th>18</th>\n",
       "      <td>48</td>\n",
       "      <td>0</td>\n",
       "    </tr>\n",
       "    <tr>\n",
       "      <th>19</th>\n",
       "      <td>50</td>\n",
       "      <td>0</td>\n",
       "    </tr>\n",
       "    <tr>\n",
       "      <th>20</th>\n",
       "      <td>51</td>\n",
       "      <td>0</td>\n",
       "    </tr>\n",
       "    <tr>\n",
       "      <th>21</th>\n",
       "      <td>53</td>\n",
       "      <td>0</td>\n",
       "    </tr>\n",
       "    <tr>\n",
       "      <th>22</th>\n",
       "      <td>55</td>\n",
       "      <td>0</td>\n",
       "    </tr>\n",
       "    <tr>\n",
       "      <th>23</th>\n",
       "      <td>60</td>\n",
       "      <td>0</td>\n",
       "    </tr>\n",
       "    <tr>\n",
       "      <th>24</th>\n",
       "      <td>61</td>\n",
       "      <td>0</td>\n",
       "    </tr>\n",
       "    <tr>\n",
       "      <th>25</th>\n",
       "      <td>62</td>\n",
       "      <td>0</td>\n",
       "    </tr>\n",
       "    <tr>\n",
       "      <th>26</th>\n",
       "      <td>64</td>\n",
       "      <td>0</td>\n",
       "    </tr>\n",
       "    <tr>\n",
       "      <th>27</th>\n",
       "      <td>67</td>\n",
       "      <td>0</td>\n",
       "    </tr>\n",
       "    <tr>\n",
       "      <th>28</th>\n",
       "      <td>74</td>\n",
       "      <td>0</td>\n",
       "    </tr>\n",
       "    <tr>\n",
       "      <th>29</th>\n",
       "      <td>79</td>\n",
       "      <td>0</td>\n",
       "    </tr>\n",
       "    <tr>\n",
       "      <th>...</th>\n",
       "      <td>...</td>\n",
       "      <td>...</td>\n",
       "    </tr>\n",
       "    <tr>\n",
       "      <th>52</th>\n",
       "      <td>148</td>\n",
       "      <td>0</td>\n",
       "    </tr>\n",
       "    <tr>\n",
       "      <th>53</th>\n",
       "      <td>149</td>\n",
       "      <td>0</td>\n",
       "    </tr>\n",
       "    <tr>\n",
       "      <th>54</th>\n",
       "      <td>151</td>\n",
       "      <td>0</td>\n",
       "    </tr>\n",
       "    <tr>\n",
       "      <th>55</th>\n",
       "      <td>153</td>\n",
       "      <td>0</td>\n",
       "    </tr>\n",
       "    <tr>\n",
       "      <th>56</th>\n",
       "      <td>160</td>\n",
       "      <td>0</td>\n",
       "    </tr>\n",
       "    <tr>\n",
       "      <th>57</th>\n",
       "      <td>162</td>\n",
       "      <td>0</td>\n",
       "    </tr>\n",
       "    <tr>\n",
       "      <th>58</th>\n",
       "      <td>165</td>\n",
       "      <td>0</td>\n",
       "    </tr>\n",
       "    <tr>\n",
       "      <th>59</th>\n",
       "      <td>171</td>\n",
       "      <td>0</td>\n",
       "    </tr>\n",
       "    <tr>\n",
       "      <th>60</th>\n",
       "      <td>175</td>\n",
       "      <td>0</td>\n",
       "    </tr>\n",
       "    <tr>\n",
       "      <th>61</th>\n",
       "      <td>176</td>\n",
       "      <td>0</td>\n",
       "    </tr>\n",
       "    <tr>\n",
       "      <th>62</th>\n",
       "      <td>197</td>\n",
       "      <td>0</td>\n",
       "    </tr>\n",
       "    <tr>\n",
       "      <th>63</th>\n",
       "      <td>201</td>\n",
       "      <td>0</td>\n",
       "    </tr>\n",
       "    <tr>\n",
       "      <th>64</th>\n",
       "      <td>207</td>\n",
       "      <td>0</td>\n",
       "    </tr>\n",
       "    <tr>\n",
       "      <th>65</th>\n",
       "      <td>212</td>\n",
       "      <td>0</td>\n",
       "    </tr>\n",
       "    <tr>\n",
       "      <th>66</th>\n",
       "      <td>217</td>\n",
       "      <td>0</td>\n",
       "    </tr>\n",
       "    <tr>\n",
       "      <th>67</th>\n",
       "      <td>222</td>\n",
       "      <td>0</td>\n",
       "    </tr>\n",
       "    <tr>\n",
       "      <th>68</th>\n",
       "      <td>225</td>\n",
       "      <td>0</td>\n",
       "    </tr>\n",
       "    <tr>\n",
       "      <th>69</th>\n",
       "      <td>226</td>\n",
       "      <td>0</td>\n",
       "    </tr>\n",
       "    <tr>\n",
       "      <th>70</th>\n",
       "      <td>235</td>\n",
       "      <td>0</td>\n",
       "    </tr>\n",
       "    <tr>\n",
       "      <th>71</th>\n",
       "      <td>237</td>\n",
       "      <td>0</td>\n",
       "    </tr>\n",
       "    <tr>\n",
       "      <th>72</th>\n",
       "      <td>238</td>\n",
       "      <td>0</td>\n",
       "    </tr>\n",
       "    <tr>\n",
       "      <th>73</th>\n",
       "      <td>240</td>\n",
       "      <td>0</td>\n",
       "    </tr>\n",
       "    <tr>\n",
       "      <th>74</th>\n",
       "      <td>250</td>\n",
       "      <td>0</td>\n",
       "    </tr>\n",
       "    <tr>\n",
       "      <th>75</th>\n",
       "      <td>252</td>\n",
       "      <td>1</td>\n",
       "    </tr>\n",
       "    <tr>\n",
       "      <th>76</th>\n",
       "      <td>255</td>\n",
       "      <td>0</td>\n",
       "    </tr>\n",
       "    <tr>\n",
       "      <th>77</th>\n",
       "      <td>257</td>\n",
       "      <td>1</td>\n",
       "    </tr>\n",
       "    <tr>\n",
       "      <th>78</th>\n",
       "      <td>260</td>\n",
       "      <td>1</td>\n",
       "    </tr>\n",
       "    <tr>\n",
       "      <th>79</th>\n",
       "      <td>262</td>\n",
       "      <td>1</td>\n",
       "    </tr>\n",
       "    <tr>\n",
       "      <th>80</th>\n",
       "      <td>265</td>\n",
       "      <td>1</td>\n",
       "    </tr>\n",
       "    <tr>\n",
       "      <th>81</th>\n",
       "      <td>268</td>\n",
       "      <td>1</td>\n",
       "    </tr>\n",
       "  </tbody>\n",
       "</table>\n",
       "<p>82 rows × 2 columns</p>\n",
       "</div>"
      ],
      "text/plain": [
       "      0  1\n",
       "0     3  0\n",
       "1    12  0\n",
       "2    19  0\n",
       "3    21  0\n",
       "4    23  0\n",
       "5    25  0\n",
       "6    27  0\n",
       "7    28  0\n",
       "8    32  0\n",
       "9    33  0\n",
       "10   34  0\n",
       "11   35  0\n",
       "12   38  0\n",
       "13   39  0\n",
       "14   41  0\n",
       "15   42  0\n",
       "16   43  0\n",
       "17   44  0\n",
       "18   48  0\n",
       "19   50  0\n",
       "20   51  0\n",
       "21   53  0\n",
       "22   55  0\n",
       "23   60  0\n",
       "24   61  0\n",
       "25   62  0\n",
       "26   64  0\n",
       "27   67  0\n",
       "28   74  0\n",
       "29   79  0\n",
       "..  ... ..\n",
       "52  148  0\n",
       "53  149  0\n",
       "54  151  0\n",
       "55  153  0\n",
       "56  160  0\n",
       "57  162  0\n",
       "58  165  0\n",
       "59  171  0\n",
       "60  175  0\n",
       "61  176  0\n",
       "62  197  0\n",
       "63  201  0\n",
       "64  207  0\n",
       "65  212  0\n",
       "66  217  0\n",
       "67  222  0\n",
       "68  225  0\n",
       "69  226  0\n",
       "70  235  0\n",
       "71  237  0\n",
       "72  238  0\n",
       "73  240  0\n",
       "74  250  0\n",
       "75  252  1\n",
       "76  255  0\n",
       "77  257  1\n",
       "78  260  1\n",
       "79  262  1\n",
       "80  265  1\n",
       "81  268  1\n",
       "\n",
       "[82 rows x 2 columns]"
      ]
     },
     "execution_count": 272,
     "metadata": {},
     "output_type": "execute_result"
    }
   ],
   "source": [
    "results"
   ]
  },
  {
   "cell_type": "code",
   "execution_count": null,
   "metadata": {},
   "outputs": [],
   "source": []
  }
 ],
 "metadata": {
  "kernelspec": {
   "display_name": "Python 3",
   "language": "python",
   "name": "python3"
  },
  "language_info": {
   "codemirror_mode": {
    "name": "ipython",
    "version": 3
   },
   "file_extension": ".py",
   "mimetype": "text/x-python",
   "name": "python",
   "nbconvert_exporter": "python",
   "pygments_lexer": "ipython3",
   "version": "3.7.0"
  }
 },
 "nbformat": 4,
 "nbformat_minor": 2
}
